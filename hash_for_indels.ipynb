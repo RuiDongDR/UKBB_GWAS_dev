{
 "cells": [
  {
   "cell_type": "code",
   "execution_count": 32,
   "id": "200e5891-19f6-4a5e-b774-e42f5f7e128c",
   "metadata": {},
   "outputs": [
    {
     "data": {
      "text/plain": [
       "'d58a3ffc38d47547b13b'"
      ]
     },
     "execution_count": 32,
     "metadata": {},
     "output_type": "execute_result"
    }
   ],
   "source": [
    "import hashlib\n",
    "my_string = 'ACTGTAATTTTCCACTACCTACACAAATCCTATAAAATGGCCCCACCACTATCTCCCTTCACTGAGT'\n",
    "hashlib.shake_256(my_string.encode()).hexdigest()\n",
    "\n"
   ]
  },
  {
   "cell_type": "code",
   "execution_count": 6,
   "id": "c95da912-074b-4881-aa2f-1aa6e7345242",
   "metadata": {},
   "outputs": [
    {
     "ename": "SyntaxError",
     "evalue": "invalid syntax (2371758055.py, line 1)",
     "output_type": "error",
     "traceback": [
      "\u001b[0;36m  File \u001b[0;32m\"/tmp/2687816.1.csg2.q/ipykernel_18502/2371758055.py\"\u001b[0;36m, line \u001b[0;32m1\u001b[0m\n\u001b[0;31m    837e564e\u001b[0m\n\u001b[0m           ^\u001b[0m\n\u001b[0;31mSyntaxError\u001b[0m\u001b[0;31m:\u001b[0m invalid syntax\n"
     ]
    }
   ],
   "source": [
    "837e564e"
   ]
  },
  {
   "cell_type": "code",
   "execution_count": 13,
   "id": "e894ed3a-61d5-459e-b754-6ddea8df24f8",
   "metadata": {},
   "outputs": [
    {
     "data": {
      "text/plain": [
       "'2e37e005f12c1030cf772a92240738aaba79236a'"
      ]
     },
     "execution_count": 13,
     "metadata": {},
     "output_type": "execute_result"
    }
   ],
   "source": [
    "import hashlib\n",
    "hash = hashlib.sha1(\"ACTGTAATTTTCCACTACCTACACAAATCCTATAAAATGGCCCCACCACTATCTCCCTTCACTGAGT\".encode(\"UTF-8\")).hexdigest()\n",
    "hash"
   ]
  },
  {
   "cell_type": "code",
   "execution_count": 14,
   "id": "98596794-149e-432a-ba91-7984d849e032",
   "metadata": {},
   "outputs": [
    {
     "data": {
      "text/plain": [
       "'37ea5902'"
      ]
     },
     "execution_count": 14,
     "metadata": {},
     "output_type": "execute_result"
    }
   ],
   "source": [
    "import hashlib\n",
    "my_string = 'ACTGTAATTTTCCACTACCTACACAAATCCTATAAAATGGCCCCACCACTATCTCCCTTCACTGAGT'\n",
    "hashlib.shake_128(my_string.encode()).hexdigest(4)"
   ]
  },
  {
   "cell_type": "code",
   "execution_count": 24,
   "id": "c1e6a7a0-9979-4c20-9a90-c625478b5680",
   "metadata": {},
   "outputs": [],
   "source": [
    "import base64\n",
    "import hashlib\n",
    "import uuid\n",
    "\n",
    "unique_id = uuid.uuid4()\n",
    "# unique_id = UUID('8da617a7-0bd6-4cce-ae49-5d31f2a5a35f')\n",
    "\n",
    "hash = hashlib.sha1(str(unique_id).encode(\"UTF-8\"))\n",
    "# hash.hexdigest() = '882efb0f24a03938e5898aa6b69df2038a2c3f0e'\n",
    "\n",
    "result = base64.b64encode(hash.digest())\n",
    "# result = b'iC77DySgOTjliYqmtp3yA4osPw4='"
   ]
  },
  {
   "cell_type": "code",
   "execution_count": 25,
   "id": "0734eabf-879d-474a-b3e0-e83d0d14f328",
   "metadata": {},
   "outputs": [
    {
     "data": {
      "text/plain": [
       "<sha1 HASH object @ 0x145be0135570>"
      ]
     },
     "execution_count": 25,
     "metadata": {},
     "output_type": "execute_result"
    }
   ],
   "source": [
    "hash"
   ]
  },
  {
   "cell_type": "code",
   "execution_count": 26,
   "id": "a133301e-b8ba-4ee8-8496-c061c5675877",
   "metadata": {},
   "outputs": [
    {
     "data": {
      "text/plain": [
       "b'52aOnvSty4JjXgcQ5OQab0dGkfc='"
      ]
     },
     "execution_count": 26,
     "metadata": {},
     "output_type": "execute_result"
    }
   ],
   "source": [
    "result"
   ]
  },
  {
   "cell_type": "code",
   "execution_count": 34,
   "id": "8899759d-6160-4580-be54-30ce8141d46e",
   "metadata": {},
   "outputs": [
    {
     "ename": "ModuleNotFoundError",
     "evalue": "No module named 'sha3'",
     "output_type": "error",
     "traceback": [
      "\u001b[0;31m---------------------------------------------------------------------------\u001b[0m",
      "\u001b[0;31mModuleNotFoundError\u001b[0m                       Traceback (most recent call last)",
      "\u001b[0;32m/tmp/2687816.1.csg2.q/ipykernel_18502/995081463.py\u001b[0m in \u001b[0;36m<module>\u001b[0;34m\u001b[0m\n\u001b[0;32m----> 1\u001b[0;31m \u001b[0;32mimport\u001b[0m \u001b[0msha3\u001b[0m\u001b[0;34m\u001b[0m\u001b[0;34m\u001b[0m\u001b[0m\n\u001b[0m\u001b[1;32m      2\u001b[0m \u001b[0mk\u001b[0m \u001b[0;34m=\u001b[0m \u001b[0msha3\u001b[0m\u001b[0;34m.\u001b[0m\u001b[0mkeccak_512\u001b[0m\u001b[0;34m(\u001b[0m\u001b[0;34m)\u001b[0m\u001b[0;34m\u001b[0m\u001b[0;34m\u001b[0m\u001b[0m\n\u001b[1;32m      3\u001b[0m \u001b[0mk\u001b[0m\u001b[0;34m.\u001b[0m\u001b[0mupdate\u001b[0m\u001b[0;34m(\u001b[0m\u001b[0;34mb\"ACTGTAATTTTCCACTACCTACACAAATCCTATAAAATGGCCCCACCACTATCTCCCTTCACTGAGT\"\u001b[0m\u001b[0;34m)\u001b[0m\u001b[0;34m\u001b[0m\u001b[0;34m\u001b[0m\u001b[0m\n\u001b[1;32m      4\u001b[0m \u001b[0mk\u001b[0m\u001b[0;34m.\u001b[0m\u001b[0mhexdigest\u001b[0m\u001b[0;34m(\u001b[0m\u001b[0;34m)\u001b[0m\u001b[0;34m\u001b[0m\u001b[0;34m\u001b[0m\u001b[0m\n",
      "\u001b[0;31mModuleNotFoundError\u001b[0m: No module named 'sha3'"
     ]
    }
   ],
   "source": [
    "import sha3\n",
    "k = sha3.keccak_512()\n",
    "k.update(b\"ACTGTAATTTTCCACTACCTACACAAATCCTATAAAATGGCCCCACCACTATCTCCCTTCACTGAGT\")\n",
    "k.hexdigest()"
   ]
  },
  {
   "cell_type": "code",
   "execution_count": 42,
   "id": "89b679c9-f3fa-435f-8dd2-1243cc1dfc40",
   "metadata": {},
   "outputs": [
    {
     "data": {
      "text/plain": [
       "'f67c436e6414dbe314a269aa9be1a73e46af6baf2b7459c663b71af15ee915d8dcf635827434c5d534df08c3a7a0f8bbadb4c1fb032408479045de3fa80324e5'"
      ]
     },
     "execution_count": 42,
     "metadata": {},
     "output_type": "execute_result"
    }
   ],
   "source": [
    "import hashlib\n",
    "\n",
    "h = hashlib.sha3_512() # Python 3.6+\n",
    "h.update(b\"ACTGT\")\n",
    "h.hexdigest()"
   ]
  },
  {
   "cell_type": "code",
   "execution_count": null,
   "id": "d756f6c5-7099-451a-89c8-6482c89ebd7a",
   "metadata": {},
   "outputs": [],
   "source": []
  }
 ],
 "metadata": {
  "kernelspec": {
   "display_name": "Python 3 (ipykernel)",
   "language": "python",
   "name": "python3"
  },
  "language_info": {
   "codemirror_mode": {
    "name": "ipython",
    "version": 3
   },
   "file_extension": ".py",
   "mimetype": "text/x-python",
   "name": "python",
   "nbconvert_exporter": "python",
   "pygments_lexer": "ipython3",
   "version": "3.8.5"
  }
 },
 "nbformat": 4,
 "nbformat_minor": 5
}
