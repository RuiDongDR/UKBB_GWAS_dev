{
 "cells": [
  {
   "cell_type": "markdown",
   "id": "f7f454b5-b3ef-46ed-9e9d-0cf02c701dc5",
   "metadata": {},
   "source": [
    "## Pleiotropy anaysis for asthma, waist and t2d"
   ]
  },
  {
   "cell_type": "markdown",
   "id": "9dffd0a5-af27-4ade-9865-92e008e700e6",
   "metadata": {},
   "source": [
    "## GSMR: Generalised Summary-data-based Mendelian Randomisation\n",
    "The GSMR analysis requires a reference sample with individual level genotypes (in PLINK binary format) for LD estimation. The inputs are two text or compressed text (gz format) files containing the filepaths of the GWAS summary data (in [GCTA-COJO format](https://yanglab.westlake.edu.cn/software/gcta/#COJO)). The first one is for exposures and the second one is for outcomes.\n",
    "\n",
    "It is possible to run using gsmr R-package or GCTA implemented module. This GCTA module runs the same analysis as in the R version of GSMR but is faster and more flexible.\n"
   ]
  },
  {
   "cell_type": "markdown",
   "id": "dd1d1e14-6837-48ec-b8e5-9851732f5b33",
   "metadata": {
    "kernel": "R",
    "tags": []
   },
   "source": [
    "# GSMR installation to my home directory\n"
   ]
  },
  {
   "cell_type": "code",
   "execution_count": 2,
   "id": "0dfbc72a-962e-4145-b8e3-534e1dbe9db2",
   "metadata": {
    "kernel": "R",
    "tags": []
   },
   "outputs": [],
   "source": [
    "# gsmr requires the R-package(s)\n",
    "install.packages(c('survey'));\n",
    "# install gsmr\n",
    "install.packages(\"http://cnsgenomics.com/software/gsmr/static/gsmr_1.0.9.tar.gz\",repos=NULL,type=\"source\")"
   ]
  },
  {
   "cell_type": "markdown",
   "id": "83f4e163-6116-491f-96f0-4fdd21f54b70",
   "metadata": {
    "kernel": "SoS"
   },
   "source": [
    "This generates a **'Peer certificate cannot be authenticated with given CA certificates' error**.  \n",
    "So I had to download the installation file firdt to my home directory to by pass an authentication certificate.\n"
   ]
  },
  {
   "cell_type": "code",
   "execution_count": 4,
   "id": "4515eda1-7bf7-4023-a838-66bcca1197c2",
   "metadata": {
    "kernel": "SoS",
    "tags": []
   },
   "outputs": [
    {
     "name": "stdout",
     "output_type": "stream",
     "text": [
      "/mnt/mfs/hgrcgrid/homes/bst2126"
     ]
    }
   ],
   "source": [
    "%cd ~"
   ]
  },
  {
   "cell_type": "code",
   "execution_count": 6,
   "id": "67db4c47-3658-45d1-bb76-98599ffcb430",
   "metadata": {
    "kernel": "Bash",
    "tags": []
   },
   "outputs": [
    {
     "name": "stdout",
     "output_type": "stream",
     "text": [
      "--2022-04-04 14:55:16--  https://yanglab.westlake.edu.cn/software/gsmr/static/gsmr_1.0.9.tar.gz\n",
      "Resolving bcp3.cumc.columbia.edu (bcp3.cumc.columbia.edu)... 10.139.211.159\n",
      "Connecting to bcp3.cumc.columbia.edu (bcp3.cumc.columbia.edu)|10.139.211.159|:8080... connected.\n",
      "Proxy request sent, awaiting response... 200 OK\n",
      "Length: 1175860 (1.1M) [application/octet-stream]\n",
      "Saving to: ‘gsmr_1.0.9.tar.gz’\n",
      "\n",
      "gsmr_1.0.9.tar.gz   100%[===================>]   1.12M   240KB/s    in 4.8s    \n",
      "\n",
      "2022-04-04 14:55:22 (240 KB/s) - ‘gsmr_1.0.9.tar.gz’ saved [1175860/1175860]\n",
      "\n"
     ]
    }
   ],
   "source": [
    "wget https://yanglab.westlake.edu.cn/software/gsmr/static/gsmr_1.0.9.tar.gz"
   ]
  },
  {
   "cell_type": "code",
   "execution_count": null,
   "id": "5a067440-d13b-4a85-af8a-d9adeda88310",
   "metadata": {
    "kernel": "Bash"
   },
   "outputs": [],
   "source": [
    "# had to install these manually with R shell\n",
    "# gsmr requires the R-package(s)\n",
    "install.packages(c('survey'));\n",
    "# survey package needs R version > 3.5\n",
    "# install gsmr\n",
    "install.packages(\"~/gsmr_1.0.9.tar.gz\",repos=NULL,type=\"source\")"
   ]
  },
  {
   "cell_type": "markdown",
   "id": "6d9a912b-e6ca-46d9-a1e2-4d39f3183248",
   "metadata": {
    "jupyter": {
     "source_hidden": true
    },
    "kernel": "SoS",
    "tags": []
   },
   "source": [
    "## Data File\n",
    "\n",
    "GSMR requires a data file that includes the effect size, std error, p value, and GWAS sample size for each phenotype.\n",
    "\n",
    "Data file location and steps in workflow are described by Fabiha:\n",
    "\n",
    "> https://github.com/statgenetics/UKBB_GWAS_dev/blob/master/analysis/pleiotropy/data_description.ipynb\n",
    "\n",
    "> https://github.com/statgenetics/UKBB_GWAS_dev/blob/master/analysis/pleiotropy/workflow_gsmr_data_031622.ipynb\n"
   ]
  },
  {
   "cell_type": "code",
   "execution_count": 1,
   "id": "a2853073-904a-4dc4-ba23-fcab064c8755",
   "metadata": {
    "kernel": "SoS"
   },
   "outputs": [
    {
     "name": "stdout",
     "output_type": "stream",
     "text": [
      "/mnt/mfs/statgen/bst2126/pleiotropy/JAZF1_sum"
     ]
    }
   ],
   "source": [
    "%cd /mnt/mfs/statgen/bst2126/pleiotropy/JAZF1_sum"
   ]
  },
  {
   "cell_type": "code",
   "execution_count": 1,
   "id": "b6c8036a-f442-47b7-9ef8-8c6656c23466",
   "metadata": {
    "kernel": "R",
    "tags": []
   },
   "outputs": [],
   "source": [
    "library(\"gsmr\")\n",
    "setwd(\"/mnt/mfs/statgen/bst2126/pleiotropy/JAZF1_sum\")"
   ]
  },
  {
   "cell_type": "code",
   "execution_count": 2,
   "id": "4c548c27-fb5d-4cee-ba5a-45e394609fe0",
   "metadata": {
    "kernel": "R",
    "tags": []
   },
   "outputs": [
    {
     "data": {
      "text/html": [
       "<table class=\"dataframe\">\n",
       "<caption>A data.frame: 6 × 12</caption>\n",
       "<thead>\n",
       "\t<tr><th></th><th scope=col>SNP</th><th scope=col>a1</th><th scope=col>a2</th><th scope=col>a1_freq</th><th scope=col>bzx</th><th scope=col>bzx_se</th><th scope=col>bzx_pval</th><th scope=col>bzx_n</th><th scope=col>bzy</th><th scope=col>bzy_se</th><th scope=col>bzy_pval</th><th scope=col>bzy_n</th></tr>\n",
       "\t<tr><th></th><th scope=col>&lt;chr&gt;</th><th scope=col>&lt;chr&gt;</th><th scope=col>&lt;chr&gt;</th><th scope=col>&lt;dbl&gt;</th><th scope=col>&lt;dbl&gt;</th><th scope=col>&lt;dbl&gt;</th><th scope=col>&lt;dbl&gt;</th><th scope=col>&lt;int&gt;</th><th scope=col>&lt;dbl&gt;</th><th scope=col>&lt;dbl&gt;</th><th scope=col>&lt;dbl&gt;</th><th scope=col>&lt;int&gt;</th></tr>\n",
       "</thead>\n",
       "<tbody>\n",
       "\t<tr><th scope=row>1</th><td>rs545409685       </td><td>C</td><td>T    </td><td>0.002660</td><td> 0.116773000</td><td>0.07112890</td><td>0.1006505</td><td>339345</td><td> 0.03862570</td><td>0.1000360</td><td>0.69941026</td><td>336074</td></tr>\n",
       "\t<tr><th scope=row>2</th><td>7:27869261_CAGTA_C</td><td>C</td><td>CAGTA</td><td>0.001502</td><td> 0.036829900</td><td>0.09843050</td><td>0.7082768</td><td>339345</td><td> 0.10838600</td><td>0.1401650</td><td>0.43936150</td><td>336074</td></tr>\n",
       "\t<tr><th scope=row>3</th><td>rs73075348        </td><td>G</td><td>A    </td><td>0.056628</td><td>-0.000203885</td><td>0.01522620</td><td>0.9893163</td><td>339345</td><td> 0.01622460</td><td>0.0215218</td><td>0.45092779</td><td>336074</td></tr>\n",
       "\t<tr><th scope=row>4</th><td>rs6948467         </td><td>A</td><td>G    </td><td>0.392766</td><td>-0.002206310</td><td>0.00722281</td><td>0.7600130</td><td>339345</td><td>-0.02054410</td><td>0.0102407</td><td>0.04484252</td><td>336074</td></tr>\n",
       "\t<tr><th scope=row>5</th><td>rs73075354        </td><td>G</td><td>C    </td><td>0.116197</td><td> 0.012311100</td><td>0.01100070</td><td>0.2630886</td><td>339345</td><td> 0.03858900</td><td>0.0156277</td><td>0.01353879</td><td>336074</td></tr>\n",
       "\t<tr><th scope=row>6</th><td>rs35410592        </td><td>A</td><td>C    </td><td>0.009441</td><td>-0.015885700</td><td>0.03695520</td><td>0.6672952</td><td>339345</td><td> 0.00427717</td><td>0.0522587</td><td>0.93476900</td><td>336074</td></tr>\n",
       "</tbody>\n",
       "</table>\n"
      ],
      "text/latex": [
       "A data.frame: 6 × 12\n",
       "\\begin{tabular}{r|llllllllllll}\n",
       "  & SNP & a1 & a2 & a1\\_freq & bzx & bzx\\_se & bzx\\_pval & bzx\\_n & bzy & bzy\\_se & bzy\\_pval & bzy\\_n\\\\\n",
       "  & <chr> & <chr> & <chr> & <dbl> & <dbl> & <dbl> & <dbl> & <int> & <dbl> & <dbl> & <dbl> & <int>\\\\\n",
       "\\hline\n",
       "\t1 & rs545409685        & C & T     & 0.002660 &  0.116773000 & 0.07112890 & 0.1006505 & 339345 &  0.03862570 & 0.1000360 & 0.69941026 & 336074\\\\\n",
       "\t2 & 7:27869261\\_CAGTA\\_C & C & CAGTA & 0.001502 &  0.036829900 & 0.09843050 & 0.7082768 & 339345 &  0.10838600 & 0.1401650 & 0.43936150 & 336074\\\\\n",
       "\t3 & rs73075348         & G & A     & 0.056628 & -0.000203885 & 0.01522620 & 0.9893163 & 339345 &  0.01622460 & 0.0215218 & 0.45092779 & 336074\\\\\n",
       "\t4 & rs6948467          & A & G     & 0.392766 & -0.002206310 & 0.00722281 & 0.7600130 & 339345 & -0.02054410 & 0.0102407 & 0.04484252 & 336074\\\\\n",
       "\t5 & rs73075354         & G & C     & 0.116197 &  0.012311100 & 0.01100070 & 0.2630886 & 339345 &  0.03858900 & 0.0156277 & 0.01353879 & 336074\\\\\n",
       "\t6 & rs35410592         & A & C     & 0.009441 & -0.015885700 & 0.03695520 & 0.6672952 & 339345 &  0.00427717 & 0.0522587 & 0.93476900 & 336074\\\\\n",
       "\\end{tabular}\n"
      ],
      "text/markdown": [
       "\n",
       "A data.frame: 6 × 12\n",
       "\n",
       "| <!--/--> | SNP &lt;chr&gt; | a1 &lt;chr&gt; | a2 &lt;chr&gt; | a1_freq &lt;dbl&gt; | bzx &lt;dbl&gt; | bzx_se &lt;dbl&gt; | bzx_pval &lt;dbl&gt; | bzx_n &lt;int&gt; | bzy &lt;dbl&gt; | bzy_se &lt;dbl&gt; | bzy_pval &lt;dbl&gt; | bzy_n &lt;int&gt; |\n",
       "|---|---|---|---|---|---|---|---|---|---|---|---|---|\n",
       "| 1 | rs545409685        | C | T     | 0.002660 |  0.116773000 | 0.07112890 | 0.1006505 | 339345 |  0.03862570 | 0.1000360 | 0.69941026 | 336074 |\n",
       "| 2 | 7:27869261_CAGTA_C | C | CAGTA | 0.001502 |  0.036829900 | 0.09843050 | 0.7082768 | 339345 |  0.10838600 | 0.1401650 | 0.43936150 | 336074 |\n",
       "| 3 | rs73075348         | G | A     | 0.056628 | -0.000203885 | 0.01522620 | 0.9893163 | 339345 |  0.01622460 | 0.0215218 | 0.45092779 | 336074 |\n",
       "| 4 | rs6948467          | A | G     | 0.392766 | -0.002206310 | 0.00722281 | 0.7600130 | 339345 | -0.02054410 | 0.0102407 | 0.04484252 | 336074 |\n",
       "| 5 | rs73075354         | G | C     | 0.116197 |  0.012311100 | 0.01100070 | 0.2630886 | 339345 |  0.03858900 | 0.0156277 | 0.01353879 | 336074 |\n",
       "| 6 | rs35410592         | A | C     | 0.009441 | -0.015885700 | 0.03695520 | 0.6672952 | 339345 |  0.00427717 | 0.0522587 | 0.93476900 | 336074 |\n",
       "\n"
      ],
      "text/plain": [
       "  SNP                a1 a2    a1_freq  bzx          bzx_se     bzx_pval  bzx_n \n",
       "1 rs545409685        C  T     0.002660  0.116773000 0.07112890 0.1006505 339345\n",
       "2 7:27869261_CAGTA_C C  CAGTA 0.001502  0.036829900 0.09843050 0.7082768 339345\n",
       "3 rs73075348         G  A     0.056628 -0.000203885 0.01522620 0.9893163 339345\n",
       "4 rs6948467          A  G     0.392766 -0.002206310 0.00722281 0.7600130 339345\n",
       "5 rs73075354         G  C     0.116197  0.012311100 0.01100070 0.2630886 339345\n",
       "6 rs35410592         A  C     0.009441 -0.015885700 0.03695520 0.6672952 339345\n",
       "  bzy         bzy_se    bzy_pval   bzy_n \n",
       "1  0.03862570 0.1000360 0.69941026 336074\n",
       "2  0.10838600 0.1401650 0.43936150 336074\n",
       "3  0.01622460 0.0215218 0.45092779 336074\n",
       "4 -0.02054410 0.0102407 0.04484252 336074\n",
       "5  0.03858900 0.0156277 0.01353879 336074\n",
       "6  0.00427717 0.0522587 0.93476900 336074"
      ]
     },
     "metadata": {},
     "output_type": "display_data"
    }
   ],
   "source": [
    "gsmr_data <- read.csv(\"asthma_v_t2d_gsmr_data\", sep=\" \")\n",
    "head(gsmr_data)"
   ]
  },
  {
   "cell_type": "code",
   "execution_count": 5,
   "id": "1c89308c-c164-4f67-8d61-c48f22e6e001",
   "metadata": {
    "kernel": "R",
    "tags": []
   },
   "outputs": [
    {
     "data": {
      "text/html": [
       "<style>\n",
       ".list-inline {list-style: none; margin:0; padding: 0}\n",
       ".list-inline>li {display: inline-block}\n",
       ".list-inline>li:not(:last-child)::after {content: \"\\00b7\"; padding: 0 .5ex}\n",
       "</style>\n",
       "<ol class=list-inline><li>2065</li><li>12</li></ol>\n"
      ],
      "text/latex": [
       "\\begin{enumerate*}\n",
       "\\item 2065\n",
       "\\item 12\n",
       "\\end{enumerate*}\n"
      ],
      "text/markdown": [
       "1. 2065\n",
       "2. 12\n",
       "\n",
       "\n"
      ],
      "text/plain": [
       "[1] 2065   12"
      ]
     },
     "metadata": {},
     "output_type": "display_data"
    }
   ],
   "source": [
    "dim(gsmr_data)"
   ]
  },
  {
   "cell_type": "code",
   "execution_count": 3,
   "id": "1f5e3501-bd4a-4c5d-a6ff-54059b9c5a8b",
   "metadata": {
    "kernel": "R",
    "tags": []
   },
   "outputs": [],
   "source": [
    "snp_coeff_id = scan(\"asthma_v_t2d_gcta64.result.xmat.gz\", what=\"\", nlines=1)\n",
    "snp_coeff = read.table(\"asthma_v_t2d_gcta64.result.xmat.gz\", header=F, skip=2)"
   ]
  },
  {
   "cell_type": "code",
   "execution_count": 4,
   "id": "0cc6517d-7056-43a4-a34d-43c1fdad94b9",
   "metadata": {
    "kernel": "R",
    "tags": []
   },
   "outputs": [
    {
     "data": {
      "text/html": [
       "<style>\n",
       ".list-inline {list-style: none; margin:0; padding: 0}\n",
       ".list-inline>li {display: inline-block}\n",
       ".list-inline>li:not(:last-child)::after {content: \"\\00b7\"; padding: 0 .5ex}\n",
       "</style>\n",
       "<ol class=list-inline><li>'rs73075348'</li><li>'rs112759592'</li><li>'rs10281008'</li><li>'rs117933100'</li><li>'rs58651394'</li><li>'rs62451072'</li><li>'rs17620013'</li><li>'rs17692895'</li><li>'rs73083371'</li><li>'rs116990708'</li><li>'rs58753113'</li><li>'rs720659'</li><li>'rs10452749'</li><li>'rs80197206'</li><li>'rs73083390'</li><li>'rs10232181'</li><li>'rs7806217'</li><li>'rs193'</li><li>'rs17156005'</li><li>'rs67705163'</li><li>'rs10486567'</li><li>'rs3919460'</li><li>'rs117034173'</li><li>'rs28657749'</li><li>'rs17156078'</li><li>'rs62451150'</li><li>'rs78975149'</li><li>'rs61648985'</li><li>'rs10237946'</li><li>'rs79909443'</li><li>'rs253310'</li><li>'rs116974921'</li><li>'rs117929884'</li><li>'rs73301337'</li><li>'rs12671522'</li><li>'rs77214245'</li><li>'rs6956423'</li><li>'rs118186994'</li><li>'rs77046554'</li><li>'rs17623527'</li><li>'rs11763515'</li><li>'rs6945134'</li><li>'rs17156127'</li><li>'rs56311485'</li><li>'rs12536791'</li><li>'rs112914067'</li><li>'rs117621905'</li><li>'rs76334155'</li><li>'rs34325103'</li><li>'rs35053797'</li><li>'rs17624621'</li><li>'rs6462063'</li><li>'rs74756543'</li><li>'rs62449904'</li><li>'rs10268254'</li><li>'rs10486576'</li><li>'rs41535351'</li><li>'rs111519725'</li><li>'rs13234714'</li><li>'rs113404264'</li><li>'rs6977730'</li><li>'rs76730676'</li><li>'rs75040112'</li><li>'rs10274928'</li><li>'rs2158623'</li><li>'rs73072534'</li><li>'rs77740984'</li><li>'rs757729'</li><li>'rs57585717'</li><li>'rs78856909'</li><li>'rs4722759'</li><li>'rs62449907'</li><li>'rs6962289'</li><li>'rs62449929'</li><li>'rs2189965'</li><li>'rs113735840'</li><li>'rs864745'</li><li>'rs849140'</li><li>'rs849141'</li><li>'rs4719925'</li><li>'rs1635852'</li><li>'rs1708299'</li><li>'rs79013867'</li><li>'rs530649'</li><li>'rs520161'</li><li>'rs849335'</li><li>'rs550448'</li><li>'rs849315'</li><li>'rs1513270'</li><li>'rs73078484'</li><li>'rs58462233'</li><li>'rs56142710'</li><li>'rs73076597'</li><li>'rs478266'</li><li>'rs475615'</li><li>'rs849325'</li></ol>\n"
      ],
      "text/latex": [
       "\\begin{enumerate*}\n",
       "\\item 'rs73075348'\n",
       "\\item 'rs112759592'\n",
       "\\item 'rs10281008'\n",
       "\\item 'rs117933100'\n",
       "\\item 'rs58651394'\n",
       "\\item 'rs62451072'\n",
       "\\item 'rs17620013'\n",
       "\\item 'rs17692895'\n",
       "\\item 'rs73083371'\n",
       "\\item 'rs116990708'\n",
       "\\item 'rs58753113'\n",
       "\\item 'rs720659'\n",
       "\\item 'rs10452749'\n",
       "\\item 'rs80197206'\n",
       "\\item 'rs73083390'\n",
       "\\item 'rs10232181'\n",
       "\\item 'rs7806217'\n",
       "\\item 'rs193'\n",
       "\\item 'rs17156005'\n",
       "\\item 'rs67705163'\n",
       "\\item 'rs10486567'\n",
       "\\item 'rs3919460'\n",
       "\\item 'rs117034173'\n",
       "\\item 'rs28657749'\n",
       "\\item 'rs17156078'\n",
       "\\item 'rs62451150'\n",
       "\\item 'rs78975149'\n",
       "\\item 'rs61648985'\n",
       "\\item 'rs10237946'\n",
       "\\item 'rs79909443'\n",
       "\\item 'rs253310'\n",
       "\\item 'rs116974921'\n",
       "\\item 'rs117929884'\n",
       "\\item 'rs73301337'\n",
       "\\item 'rs12671522'\n",
       "\\item 'rs77214245'\n",
       "\\item 'rs6956423'\n",
       "\\item 'rs118186994'\n",
       "\\item 'rs77046554'\n",
       "\\item 'rs17623527'\n",
       "\\item 'rs11763515'\n",
       "\\item 'rs6945134'\n",
       "\\item 'rs17156127'\n",
       "\\item 'rs56311485'\n",
       "\\item 'rs12536791'\n",
       "\\item 'rs112914067'\n",
       "\\item 'rs117621905'\n",
       "\\item 'rs76334155'\n",
       "\\item 'rs34325103'\n",
       "\\item 'rs35053797'\n",
       "\\item 'rs17624621'\n",
       "\\item 'rs6462063'\n",
       "\\item 'rs74756543'\n",
       "\\item 'rs62449904'\n",
       "\\item 'rs10268254'\n",
       "\\item 'rs10486576'\n",
       "\\item 'rs41535351'\n",
       "\\item 'rs111519725'\n",
       "\\item 'rs13234714'\n",
       "\\item 'rs113404264'\n",
       "\\item 'rs6977730'\n",
       "\\item 'rs76730676'\n",
       "\\item 'rs75040112'\n",
       "\\item 'rs10274928'\n",
       "\\item 'rs2158623'\n",
       "\\item 'rs73072534'\n",
       "\\item 'rs77740984'\n",
       "\\item 'rs757729'\n",
       "\\item 'rs57585717'\n",
       "\\item 'rs78856909'\n",
       "\\item 'rs4722759'\n",
       "\\item 'rs62449907'\n",
       "\\item 'rs6962289'\n",
       "\\item 'rs62449929'\n",
       "\\item 'rs2189965'\n",
       "\\item 'rs113735840'\n",
       "\\item 'rs864745'\n",
       "\\item 'rs849140'\n",
       "\\item 'rs849141'\n",
       "\\item 'rs4719925'\n",
       "\\item 'rs1635852'\n",
       "\\item 'rs1708299'\n",
       "\\item 'rs79013867'\n",
       "\\item 'rs530649'\n",
       "\\item 'rs520161'\n",
       "\\item 'rs849335'\n",
       "\\item 'rs550448'\n",
       "\\item 'rs849315'\n",
       "\\item 'rs1513270'\n",
       "\\item 'rs73078484'\n",
       "\\item 'rs58462233'\n",
       "\\item 'rs56142710'\n",
       "\\item 'rs73076597'\n",
       "\\item 'rs478266'\n",
       "\\item 'rs475615'\n",
       "\\item 'rs849325'\n",
       "\\end{enumerate*}\n"
      ],
      "text/markdown": [
       "1. 'rs73075348'\n",
       "2. 'rs112759592'\n",
       "3. 'rs10281008'\n",
       "4. 'rs117933100'\n",
       "5. 'rs58651394'\n",
       "6. 'rs62451072'\n",
       "7. 'rs17620013'\n",
       "8. 'rs17692895'\n",
       "9. 'rs73083371'\n",
       "10. 'rs116990708'\n",
       "11. 'rs58753113'\n",
       "12. 'rs720659'\n",
       "13. 'rs10452749'\n",
       "14. 'rs80197206'\n",
       "15. 'rs73083390'\n",
       "16. 'rs10232181'\n",
       "17. 'rs7806217'\n",
       "18. 'rs193'\n",
       "19. 'rs17156005'\n",
       "20. 'rs67705163'\n",
       "21. 'rs10486567'\n",
       "22. 'rs3919460'\n",
       "23. 'rs117034173'\n",
       "24. 'rs28657749'\n",
       "25. 'rs17156078'\n",
       "26. 'rs62451150'\n",
       "27. 'rs78975149'\n",
       "28. 'rs61648985'\n",
       "29. 'rs10237946'\n",
       "30. 'rs79909443'\n",
       "31. 'rs253310'\n",
       "32. 'rs116974921'\n",
       "33. 'rs117929884'\n",
       "34. 'rs73301337'\n",
       "35. 'rs12671522'\n",
       "36. 'rs77214245'\n",
       "37. 'rs6956423'\n",
       "38. 'rs118186994'\n",
       "39. 'rs77046554'\n",
       "40. 'rs17623527'\n",
       "41. 'rs11763515'\n",
       "42. 'rs6945134'\n",
       "43. 'rs17156127'\n",
       "44. 'rs56311485'\n",
       "45. 'rs12536791'\n",
       "46. 'rs112914067'\n",
       "47. 'rs117621905'\n",
       "48. 'rs76334155'\n",
       "49. 'rs34325103'\n",
       "50. 'rs35053797'\n",
       "51. 'rs17624621'\n",
       "52. 'rs6462063'\n",
       "53. 'rs74756543'\n",
       "54. 'rs62449904'\n",
       "55. 'rs10268254'\n",
       "56. 'rs10486576'\n",
       "57. 'rs41535351'\n",
       "58. 'rs111519725'\n",
       "59. 'rs13234714'\n",
       "60. 'rs113404264'\n",
       "61. 'rs6977730'\n",
       "62. 'rs76730676'\n",
       "63. 'rs75040112'\n",
       "64. 'rs10274928'\n",
       "65. 'rs2158623'\n",
       "66. 'rs73072534'\n",
       "67. 'rs77740984'\n",
       "68. 'rs757729'\n",
       "69. 'rs57585717'\n",
       "70. 'rs78856909'\n",
       "71. 'rs4722759'\n",
       "72. 'rs62449907'\n",
       "73. 'rs6962289'\n",
       "74. 'rs62449929'\n",
       "75. 'rs2189965'\n",
       "76. 'rs113735840'\n",
       "77. 'rs864745'\n",
       "78. 'rs849140'\n",
       "79. 'rs849141'\n",
       "80. 'rs4719925'\n",
       "81. 'rs1635852'\n",
       "82. 'rs1708299'\n",
       "83. 'rs79013867'\n",
       "84. 'rs530649'\n",
       "85. 'rs520161'\n",
       "86. 'rs849335'\n",
       "87. 'rs550448'\n",
       "88. 'rs849315'\n",
       "89. 'rs1513270'\n",
       "90. 'rs73078484'\n",
       "91. 'rs58462233'\n",
       "92. 'rs56142710'\n",
       "93. 'rs73076597'\n",
       "94. 'rs478266'\n",
       "95. 'rs475615'\n",
       "96. 'rs849325'\n",
       "\n",
       "\n"
      ],
      "text/plain": [
       " [1] \"rs73075348\"  \"rs112759592\" \"rs10281008\"  \"rs117933100\" \"rs58651394\" \n",
       " [6] \"rs62451072\"  \"rs17620013\"  \"rs17692895\"  \"rs73083371\"  \"rs116990708\"\n",
       "[11] \"rs58753113\"  \"rs720659\"    \"rs10452749\"  \"rs80197206\"  \"rs73083390\" \n",
       "[16] \"rs10232181\"  \"rs7806217\"   \"rs193\"       \"rs17156005\"  \"rs67705163\" \n",
       "[21] \"rs10486567\"  \"rs3919460\"   \"rs117034173\" \"rs28657749\"  \"rs17156078\" \n",
       "[26] \"rs62451150\"  \"rs78975149\"  \"rs61648985\"  \"rs10237946\"  \"rs79909443\" \n",
       "[31] \"rs253310\"    \"rs116974921\" \"rs117929884\" \"rs73301337\"  \"rs12671522\" \n",
       "[36] \"rs77214245\"  \"rs6956423\"   \"rs118186994\" \"rs77046554\"  \"rs17623527\" \n",
       "[41] \"rs11763515\"  \"rs6945134\"   \"rs17156127\"  \"rs56311485\"  \"rs12536791\" \n",
       "[46] \"rs112914067\" \"rs117621905\" \"rs76334155\"  \"rs34325103\"  \"rs35053797\" \n",
       "[51] \"rs17624621\"  \"rs6462063\"   \"rs74756543\"  \"rs62449904\"  \"rs10268254\" \n",
       "[56] \"rs10486576\"  \"rs41535351\"  \"rs111519725\" \"rs13234714\"  \"rs113404264\"\n",
       "[61] \"rs6977730\"   \"rs76730676\"  \"rs75040112\"  \"rs10274928\"  \"rs2158623\"  \n",
       "[66] \"rs73072534\"  \"rs77740984\"  \"rs757729\"    \"rs57585717\"  \"rs78856909\" \n",
       "[71] \"rs4722759\"   \"rs62449907\"  \"rs6962289\"   \"rs62449929\"  \"rs2189965\"  \n",
       "[76] \"rs113735840\" \"rs864745\"    \"rs849140\"    \"rs849141\"    \"rs4719925\"  \n",
       "[81] \"rs1635852\"   \"rs1708299\"   \"rs79013867\"  \"rs530649\"    \"rs520161\"   \n",
       "[86] \"rs849335\"    \"rs550448\"    \"rs849315\"    \"rs1513270\"   \"rs73078484\" \n",
       "[91] \"rs58462233\"  \"rs56142710\"  \"rs73076597\"  \"rs478266\"    \"rs475615\"   \n",
       "[96] \"rs849325\"   "
      ]
     },
     "metadata": {},
     "output_type": "display_data"
    }
   ],
   "source": [
    "# Match the SNP genotype data with the summary data\n",
    "snp_id = Reduce(intersect, list(gsmr_data$SNP, snp_coeff_id))\n",
    "snp_id"
   ]
  },
  {
   "cell_type": "code",
   "execution_count": 5,
   "id": "509f6e9c-547a-430d-9ee4-bf094fd4a0dc",
   "metadata": {
    "kernel": "R",
    "tags": []
   },
   "outputs": [],
   "source": [
    "gsmr_data = gsmr_data[match(snp_id, gsmr_data$SNP),]\n"
   ]
  },
  {
   "cell_type": "code",
   "execution_count": 6,
   "id": "a29e704e-ca73-47d3-a8cd-b719d59b0379",
   "metadata": {
    "kernel": "R",
    "tags": []
   },
   "outputs": [],
   "source": [
    "snp_order = match(snp_id, snp_coeff_id)\n",
    "snp_coeff_id = snp_coeff_id[snp_order]\n",
    "snp_coeff = snp_coeff[, snp_order]\n"
   ]
  },
  {
   "cell_type": "code",
   "execution_count": 7,
   "id": "0d50f5c8-f3b1-48c0-a69a-7b1db73e8257",
   "metadata": {
    "kernel": "R",
    "tags": []
   },
   "outputs": [
    {
     "data": {
      "text/html": [
       "67606"
      ],
      "text/latex": [
       "67606"
      ],
      "text/markdown": [
       "67606"
      ],
      "text/plain": [
       "[1] 67606"
      ]
     },
     "metadata": {},
     "output_type": "display_data"
    }
   ],
   "source": [
    "sum(is.na(snp_coeff)) #count NA snp coefficients if any."
   ]
  },
  {
   "cell_type": "code",
   "execution_count": 8,
   "id": "317d01be-b968-43db-a11c-d89171745d1e",
   "metadata": {
    "kernel": "R",
    "tags": []
   },
   "outputs": [],
   "source": [
    "snp_coeff[is.na(snp_coeff)] <- 0 # Recode NAs as 0."
   ]
  },
  {
   "cell_type": "code",
   "execution_count": 10,
   "id": "a6fddb41-0947-4f4d-9036-61dfaff1f26a",
   "metadata": {
    "kernel": "SoS"
   },
   "outputs": [
    {
     "data": {
      "text/html": [
       "0"
      ],
      "text/latex": [
       "0"
      ],
      "text/markdown": [
       "0"
      ],
      "text/plain": [
       "[1] 0"
      ]
     },
     "metadata": {},
     "output_type": "display_data"
    }
   ],
   "source": [
    "sum(is.na(snp_coeff))"
   ]
  },
  {
   "cell_type": "code",
   "execution_count": 9,
   "id": "fe3a979e-5860-43d9-9786-327ececdea30",
   "metadata": {
    "kernel": "R",
    "tags": []
   },
   "outputs": [],
   "source": [
    "# Calculate the LD correlation matrix\n",
    "ldrho = cor(snp_coeff)"
   ]
  },
  {
   "cell_type": "code",
   "execution_count": 10,
   "id": "ec0db704-d60c-4749-a741-a3588c8e584e",
   "metadata": {
    "kernel": "SoS"
   },
   "outputs": [],
   "source": [
    "# Check the size of the correlation matrix and double-check if the order of the SNPs in the LD correlation matrix is consistent with that in the GWAS summary data\n",
    "colnames(ldrho) = rownames(ldrho) = snp_coeff_id"
   ]
  },
  {
   "cell_type": "code",
   "execution_count": 11,
   "id": "cab9fa11-70a7-4b85-b4be-35a452e4301a",
   "metadata": {
    "kernel": "SoS"
   },
   "outputs": [
    {
     "data": {
      "text/html": [
       "<style>\n",
       ".list-inline {list-style: none; margin:0; padding: 0}\n",
       ".list-inline>li {display: inline-block}\n",
       ".list-inline>li:not(:last-child)::after {content: \"\\00b7\"; padding: 0 .5ex}\n",
       "</style>\n",
       "<ol class=list-inline><li>96</li><li>96</li></ol>\n"
      ],
      "text/latex": [
       "\\begin{enumerate*}\n",
       "\\item 96\n",
       "\\item 96\n",
       "\\end{enumerate*}\n"
      ],
      "text/markdown": [
       "1. 96\n",
       "2. 96\n",
       "\n",
       "\n"
      ],
      "text/plain": [
       "[1] 96 96"
      ]
     },
     "metadata": {},
     "output_type": "display_data"
    }
   ],
   "source": [
    "dim(ldrho) "
   ]
  },
  {
   "cell_type": "code",
   "execution_count": 12,
   "id": "1a880fa3-8745-43dc-93c3-b8f740418735",
   "metadata": {
    "kernel": "SoS"
   },
   "outputs": [
    {
     "data": {
      "text/html": [
       "<table class=\"dataframe\">\n",
       "<caption>A matrix: 5 × 5 of type dbl</caption>\n",
       "<thead>\n",
       "\t<tr><th></th><th scope=col>rs73075348</th><th scope=col>rs112759592</th><th scope=col>rs10281008</th><th scope=col>rs117933100</th><th scope=col>rs58651394</th></tr>\n",
       "</thead>\n",
       "<tbody>\n",
       "\t<tr><th scope=row>rs73075348</th><td> 1.00000000</td><td>-0.04041098</td><td>-0.07996557</td><td>-0.03335595</td><td>-0.02336440</td></tr>\n",
       "\t<tr><th scope=row>rs112759592</th><td>-0.04041098</td><td> 1.00000000</td><td>-0.06602195</td><td>-0.02949000</td><td>-0.01981965</td></tr>\n",
       "\t<tr><th scope=row>rs10281008</th><td>-0.07996557</td><td>-0.06602195</td><td> 1.00000000</td><td>-0.04834999</td><td>-0.03434119</td></tr>\n",
       "\t<tr><th scope=row>rs117933100</th><td>-0.03335595</td><td>-0.02949000</td><td>-0.04834999</td><td> 1.00000000</td><td>-0.01431049</td></tr>\n",
       "\t<tr><th scope=row>rs58651394</th><td>-0.02336440</td><td>-0.01981965</td><td>-0.03434119</td><td>-0.01431049</td><td> 1.00000000</td></tr>\n",
       "</tbody>\n",
       "</table>\n"
      ],
      "text/latex": [
       "A matrix: 5 × 5 of type dbl\n",
       "\\begin{tabular}{r|lllll}\n",
       "  & rs73075348 & rs112759592 & rs10281008 & rs117933100 & rs58651394\\\\\n",
       "\\hline\n",
       "\trs73075348 &  1.00000000 & -0.04041098 & -0.07996557 & -0.03335595 & -0.02336440\\\\\n",
       "\trs112759592 & -0.04041098 &  1.00000000 & -0.06602195 & -0.02949000 & -0.01981965\\\\\n",
       "\trs10281008 & -0.07996557 & -0.06602195 &  1.00000000 & -0.04834999 & -0.03434119\\\\\n",
       "\trs117933100 & -0.03335595 & -0.02949000 & -0.04834999 &  1.00000000 & -0.01431049\\\\\n",
       "\trs58651394 & -0.02336440 & -0.01981965 & -0.03434119 & -0.01431049 &  1.00000000\\\\\n",
       "\\end{tabular}\n"
      ],
      "text/markdown": [
       "\n",
       "A matrix: 5 × 5 of type dbl\n",
       "\n",
       "| <!--/--> | rs73075348 | rs112759592 | rs10281008 | rs117933100 | rs58651394 |\n",
       "|---|---|---|---|---|---|\n",
       "| rs73075348 |  1.00000000 | -0.04041098 | -0.07996557 | -0.03335595 | -0.02336440 |\n",
       "| rs112759592 | -0.04041098 |  1.00000000 | -0.06602195 | -0.02949000 | -0.01981965 |\n",
       "| rs10281008 | -0.07996557 | -0.06602195 |  1.00000000 | -0.04834999 | -0.03434119 |\n",
       "| rs117933100 | -0.03335595 | -0.02949000 | -0.04834999 |  1.00000000 | -0.01431049 |\n",
       "| rs58651394 | -0.02336440 | -0.01981965 | -0.03434119 | -0.01431049 |  1.00000000 |\n",
       "\n"
      ],
      "text/plain": [
       "            rs73075348  rs112759592 rs10281008  rs117933100 rs58651394 \n",
       "rs73075348   1.00000000 -0.04041098 -0.07996557 -0.03335595 -0.02336440\n",
       "rs112759592 -0.04041098  1.00000000 -0.06602195 -0.02949000 -0.01981965\n",
       "rs10281008  -0.07996557 -0.06602195  1.00000000 -0.04834999 -0.03434119\n",
       "rs117933100 -0.03335595 -0.02949000 -0.04834999  1.00000000 -0.01431049\n",
       "rs58651394  -0.02336440 -0.01981965 -0.03434119 -0.01431049  1.00000000"
      ]
     },
     "metadata": {},
     "output_type": "display_data"
    }
   ],
   "source": [
    "# Show the first  rows and columns of the matrix  \n",
    "ldrho[1:5,1:5]"
   ]
  },
  {
   "cell_type": "code",
   "execution_count": null,
   "id": "146644be-3a90-4455-b2ee-b630468904a7",
   "metadata": {
    "kernel": "SoS"
   },
   "outputs": [],
   "source": [
    "# Standardization"
   ]
  },
  {
   "cell_type": "code",
   "execution_count": 13,
   "id": "75e1fb6a-23de-4d7f-b30b-4c2d08781db2",
   "metadata": {
    "kernel": "SoS"
   },
   "outputs": [
    {
     "name": "stderr",
     "output_type": "stream",
     "text": [
      "std effect: 96 instruments loaded.\n",
      "\n"
     ]
    },
    {
     "data": {
      "text/html": [
       "<table class=\"dataframe\">\n",
       "<caption>A data.frame: 6 × 14</caption>\n",
       "<thead>\n",
       "\t<tr><th></th><th scope=col>SNP</th><th scope=col>a1</th><th scope=col>a2</th><th scope=col>a1_freq</th><th scope=col>bzx</th><th scope=col>bzx_se</th><th scope=col>bzx_pval</th><th scope=col>bzx_n</th><th scope=col>bzy</th><th scope=col>bzy_se</th><th scope=col>bzy_pval</th><th scope=col>bzy_n</th><th scope=col>std_bzx</th><th scope=col>std_bzx_se</th></tr>\n",
       "\t<tr><th></th><th scope=col>&lt;chr&gt;</th><th scope=col>&lt;chr&gt;</th><th scope=col>&lt;chr&gt;</th><th scope=col>&lt;dbl&gt;</th><th scope=col>&lt;dbl&gt;</th><th scope=col>&lt;dbl&gt;</th><th scope=col>&lt;dbl&gt;</th><th scope=col>&lt;int&gt;</th><th scope=col>&lt;dbl&gt;</th><th scope=col>&lt;dbl&gt;</th><th scope=col>&lt;dbl&gt;</th><th scope=col>&lt;int&gt;</th><th scope=col>&lt;dbl&gt;</th><th scope=col>&lt;dbl&gt;</th></tr>\n",
       "</thead>\n",
       "<tbody>\n",
       "\t<tr><th scope=row>3</th><td>rs73075348 </td><td>G</td><td>A</td><td>0.056628</td><td>-0.000203885</td><td>0.0152262</td><td>0.9893163</td><td>339345</td><td> 0.0162246</td><td>0.0215218</td><td>0.4509278</td><td>336074</td><td>-7.032357e-05</td><td>0.005251788</td></tr>\n",
       "\t<tr><th scope=row>24</th><td>rs112759592</td><td>C</td><td>G</td><td>0.037919</td><td> 0.011217400</td><td>0.0183894</td><td>0.5418661</td><td>339345</td><td>-0.0110040</td><td>0.0260792</td><td>0.6730650</td><td>336074</td><td> 3.876631e-03</td><td>0.006355208</td></tr>\n",
       "\t<tr><th scope=row>30</th><td>rs10281008 </td><td>G</td><td>A</td><td>0.103650</td><td> 0.005002890</td><td>0.0115376</td><td>0.6645673</td><td>339345</td><td> 0.0126663</td><td>0.0163541</td><td>0.4386337</td><td>336074</td><td> 1.726816e-03</td><td>0.003982362</td></tr>\n",
       "\t<tr><th scope=row>36</th><td>rs117933100</td><td>C</td><td>T</td><td>0.020039</td><td>-0.005789150</td><td>0.0250778</td><td>0.8174334</td><td>339345</td><td> 0.0172606</td><td>0.0356208</td><td>0.6279846</td><td>336074</td><td>-1.999619e-03</td><td>0.008662073</td></tr>\n",
       "\t<tr><th scope=row>44</th><td>rs58651394 </td><td>T</td><td>C</td><td>0.010441</td><td> 0.022539600</td><td>0.0346362</td><td>0.5152073</td><td>339345</td><td> 0.1005150</td><td>0.0493825</td><td>0.0418071</td><td>336074</td><td> 7.771200e-03</td><td>0.011941864</td></tr>\n",
       "\t<tr><th scope=row>51</th><td>rs62451072 </td><td>T</td><td>G</td><td>0.050092</td><td> 0.008891390</td><td>0.0160970</td><td>0.5806989</td><td>339345</td><td> 0.0308995</td><td>0.0228575</td><td>0.1764302</td><td>336074</td><td> 3.073717e-03</td><td>0.005564666</td></tr>\n",
       "</tbody>\n",
       "</table>\n"
      ],
      "text/latex": [
       "A data.frame: 6 × 14\n",
       "\\begin{tabular}{r|llllllllllllll}\n",
       "  & SNP & a1 & a2 & a1\\_freq & bzx & bzx\\_se & bzx\\_pval & bzx\\_n & bzy & bzy\\_se & bzy\\_pval & bzy\\_n & std\\_bzx & std\\_bzx\\_se\\\\\n",
       "  & <chr> & <chr> & <chr> & <dbl> & <dbl> & <dbl> & <dbl> & <int> & <dbl> & <dbl> & <dbl> & <int> & <dbl> & <dbl>\\\\\n",
       "\\hline\n",
       "\t3 & rs73075348  & G & A & 0.056628 & -0.000203885 & 0.0152262 & 0.9893163 & 339345 &  0.0162246 & 0.0215218 & 0.4509278 & 336074 & -7.032357e-05 & 0.005251788\\\\\n",
       "\t24 & rs112759592 & C & G & 0.037919 &  0.011217400 & 0.0183894 & 0.5418661 & 339345 & -0.0110040 & 0.0260792 & 0.6730650 & 336074 &  3.876631e-03 & 0.006355208\\\\\n",
       "\t30 & rs10281008  & G & A & 0.103650 &  0.005002890 & 0.0115376 & 0.6645673 & 339345 &  0.0126663 & 0.0163541 & 0.4386337 & 336074 &  1.726816e-03 & 0.003982362\\\\\n",
       "\t36 & rs117933100 & C & T & 0.020039 & -0.005789150 & 0.0250778 & 0.8174334 & 339345 &  0.0172606 & 0.0356208 & 0.6279846 & 336074 & -1.999619e-03 & 0.008662073\\\\\n",
       "\t44 & rs58651394  & T & C & 0.010441 &  0.022539600 & 0.0346362 & 0.5152073 & 339345 &  0.1005150 & 0.0493825 & 0.0418071 & 336074 &  7.771200e-03 & 0.011941864\\\\\n",
       "\t51 & rs62451072  & T & G & 0.050092 &  0.008891390 & 0.0160970 & 0.5806989 & 339345 &  0.0308995 & 0.0228575 & 0.1764302 & 336074 &  3.073717e-03 & 0.005564666\\\\\n",
       "\\end{tabular}\n"
      ],
      "text/markdown": [
       "\n",
       "A data.frame: 6 × 14\n",
       "\n",
       "| <!--/--> | SNP &lt;chr&gt; | a1 &lt;chr&gt; | a2 &lt;chr&gt; | a1_freq &lt;dbl&gt; | bzx &lt;dbl&gt; | bzx_se &lt;dbl&gt; | bzx_pval &lt;dbl&gt; | bzx_n &lt;int&gt; | bzy &lt;dbl&gt; | bzy_se &lt;dbl&gt; | bzy_pval &lt;dbl&gt; | bzy_n &lt;int&gt; | std_bzx &lt;dbl&gt; | std_bzx_se &lt;dbl&gt; |\n",
       "|---|---|---|---|---|---|---|---|---|---|---|---|---|---|---|\n",
       "| 3 | rs73075348  | G | A | 0.056628 | -0.000203885 | 0.0152262 | 0.9893163 | 339345 |  0.0162246 | 0.0215218 | 0.4509278 | 336074 | -7.032357e-05 | 0.005251788 |\n",
       "| 24 | rs112759592 | C | G | 0.037919 |  0.011217400 | 0.0183894 | 0.5418661 | 339345 | -0.0110040 | 0.0260792 | 0.6730650 | 336074 |  3.876631e-03 | 0.006355208 |\n",
       "| 30 | rs10281008  | G | A | 0.103650 |  0.005002890 | 0.0115376 | 0.6645673 | 339345 |  0.0126663 | 0.0163541 | 0.4386337 | 336074 |  1.726816e-03 | 0.003982362 |\n",
       "| 36 | rs117933100 | C | T | 0.020039 | -0.005789150 | 0.0250778 | 0.8174334 | 339345 |  0.0172606 | 0.0356208 | 0.6279846 | 336074 | -1.999619e-03 | 0.008662073 |\n",
       "| 44 | rs58651394  | T | C | 0.010441 |  0.022539600 | 0.0346362 | 0.5152073 | 339345 |  0.1005150 | 0.0493825 | 0.0418071 | 336074 |  7.771200e-03 | 0.011941864 |\n",
       "| 51 | rs62451072  | T | G | 0.050092 |  0.008891390 | 0.0160970 | 0.5806989 | 339345 |  0.0308995 | 0.0228575 | 0.1764302 | 336074 |  3.073717e-03 | 0.005564666 |\n",
       "\n"
      ],
      "text/plain": [
       "   SNP         a1 a2 a1_freq  bzx          bzx_se    bzx_pval  bzx_n \n",
       "3  rs73075348  G  A  0.056628 -0.000203885 0.0152262 0.9893163 339345\n",
       "24 rs112759592 C  G  0.037919  0.011217400 0.0183894 0.5418661 339345\n",
       "30 rs10281008  G  A  0.103650  0.005002890 0.0115376 0.6645673 339345\n",
       "36 rs117933100 C  T  0.020039 -0.005789150 0.0250778 0.8174334 339345\n",
       "44 rs58651394  T  C  0.010441  0.022539600 0.0346362 0.5152073 339345\n",
       "51 rs62451072  T  G  0.050092  0.008891390 0.0160970 0.5806989 339345\n",
       "   bzy        bzy_se    bzy_pval  bzy_n  std_bzx       std_bzx_se \n",
       "3   0.0162246 0.0215218 0.4509278 336074 -7.032357e-05 0.005251788\n",
       "24 -0.0110040 0.0260792 0.6730650 336074  3.876631e-03 0.006355208\n",
       "30  0.0126663 0.0163541 0.4386337 336074  1.726816e-03 0.003982362\n",
       "36  0.0172606 0.0356208 0.6279846 336074 -1.999619e-03 0.008662073\n",
       "44  0.1005150 0.0493825 0.0418071 336074  7.771200e-03 0.011941864\n",
       "51  0.0308995 0.0228575 0.1764302 336074  3.073717e-03 0.005564666"
      ]
     },
     "metadata": {},
     "output_type": "display_data"
    }
   ],
   "source": [
    "snpfreq = gsmr_data$a1_freq             # allele frequencies of the SNPs\n",
    "bzx = gsmr_data$bzx     # effects of the instruments on risk factor\n",
    "bzx_se = gsmr_data$bzx_se       # standard errors of bzx\n",
    "bzx_n = gsmr_data$bzx_n          # GWAS sample size for the risk factor\n",
    "std_zx = std_effect(snpfreq, bzx, bzx_se, bzx_n)    # perform standardisation\n",
    "gsmr_data$std_bzx = std_zx$b    # standardized bzx\n",
    "gsmr_data$std_bzx_se = std_zx$se    # standardized bzx_se\n",
    "head(gsmr_data)"
   ]
  },
  {
   "cell_type": "code",
   "execution_count": null,
   "id": "a68bb569-6731-40cb-95a8-c3a898bd4db9",
   "metadata": {
    "kernel": "SoS"
   },
   "outputs": [],
   "source": [
    "# GSMR anlysis between asthma and t2d"
   ]
  },
  {
   "cell_type": "code",
   "execution_count": 16,
   "id": "13fedeb5-c23f-42b3-9ff7-88db1fe89422",
   "metadata": {
    "kernel": "SoS"
   },
   "outputs": [
    {
     "name": "stderr",
     "output_type": "stream",
     "text": [
      "GSMR analysis: 96 instruments loaded.\n",
      "\n",
      "There are 96 SNPs in the dataset.\n",
      "\n",
      "Warning message in filter_summdat(snpid, bzx, bzx_se, bzx_pval, bzy, bzy_se, bzy_pval, :\n",
      "“93 non-significant SNPs were removed.”\n"
     ]
    },
    {
     "ename": "ERROR",
     "evalue": "Error in filter_summdat(snpid, bzx, bzx_se, bzx_pval, bzy, bzy_se, bzy_pval, : At least 5 SNPs are required. Note: this hard limit can be changed by the \"nsnps_thresh\".\n",
     "output_type": "error",
     "traceback": [
      "Error in filter_summdat(snpid, bzx, bzx_se, bzx_pval, bzy, bzy_se, bzy_pval, : At least 5 SNPs are required. Note: this hard limit can be changed by the \"nsnps_thresh\".\nTraceback:\n",
      "1. gsmr(bzx, bzx_se, bzx_pval, bzy, bzy_se, bzy_pval, ldrho, snp_coeff_id, \n .     n_ref, heidi_outlier_flag, gwas_thresh, single_snp_heidi_thresh, \n .     multi_snp_heidi_thresh, nsnps_thresh, ld_r2_thresh, ld_fdr_thresh, \n .     gsmr2_beta)",
      "2. filter_summdat(snpid, bzx, bzx_se, bzx_pval, bzy, bzy_se, bzy_pval, \n .     ldrho, n_ref, nsnps_thresh, gwas_thresh, ld_r2_thresh, ld_fdr_thresh)",
      "3. stop(\"At least \", nsnps_thresh, \" SNPs are required. Note: this hard limit can be changed by the \\\"nsnps_thresh\\\".\")"
     ]
    }
   ],
   "source": [
    "bzx = gsmr_data$std_bzx    # SNP effects on the risk factor\n",
    "bzx_se = gsmr_data$std_bzx_se    # standard errors of bzx\n",
    "bzx_pval = gsmr_data$bzx_pval   # p-values for bzx\n",
    "bzy = gsmr_data$bzy    # SNP effects on the disease\n",
    "bzy_se = gsmr_data$bzy_se    # standard errors of bzy\n",
    "bzy_pval = gsmr_data$bzy_pval    # p-values for bzy\n",
    "n_ref = 487409    # Sample size of the reference sample # 487409 individuals in the sample file\n",
    "gwas_thresh = 5e-8    # GWAS threshold to select SNPs as the instruments for the GSMR analysis\n",
    "single_snp_heidi_thresh = 0.01    # p-value threshold for single-SNP-based HEIDI-outlier analysis\n",
    "multi_snp_heidi_thresh = 0.01    # p-value threshold for multi-SNP-based HEIDI-outlier analysis\n",
    "nsnps_thresh = 5   # the minimum number of instruments required for the GSMR analysis\n",
    "heidi_outlier_flag = T    # flag for HEIDI-outlier analysis\n",
    "ld_r2_thresh = 0.1    # LD r2 threshold to remove SNPs in high LD\n",
    "ld_fdr_thresh = 0.05   # FDR threshold to remove the chance correlations between the SNP instruments\n",
    "gsmr2_beta = 0     # 0 - the original HEIDI-outlier method; 1 - the new HEIDI-outlier method that is currently under development \n",
    "gsmr_results = gsmr(bzx, bzx_se, bzx_pval, bzy, bzy_se, bzy_pval, ldrho, snp_coeff_id, n_ref, heidi_outlier_flag, gwas_thresh, single_snp_heidi_thresh, multi_snp_heidi_thresh, nsnps_thresh, ld_r2_thresh, ld_fdr_thresh, gsmr2_beta)    # GSMR analysis \n",
    "filtered_index=gsmr_results$used_index\n",
    "cat(\"The estimated effect of the exposure on outcome: \",gsmr_results$bxy)"
   ]
  },
  {
   "cell_type": "markdown",
   "id": "14bf4a6e-715a-4897-9fc1-12e8c7c946f1",
   "metadata": {
    "kernel": "SoS"
   },
   "source": [
    "# waist vs t2d"
   ]
  },
  {
   "cell_type": "code",
   "execution_count": 29,
   "id": "c97bd8f4-b197-4d74-88c4-3cec1cc7fef1",
   "metadata": {
    "kernel": "SoS"
   },
   "outputs": [
    {
     "data": {
      "text/html": [
       "<table class=\"dataframe\">\n",
       "<caption>A data.frame: 6 × 12</caption>\n",
       "<thead>\n",
       "\t<tr><th></th><th scope=col>SNP</th><th scope=col>a1</th><th scope=col>a2</th><th scope=col>a1_freq</th><th scope=col>bzx</th><th scope=col>bzx_se</th><th scope=col>bzx_pval</th><th scope=col>bzx_n</th><th scope=col>bzy</th><th scope=col>bzy_se</th><th scope=col>bzy_pval</th><th scope=col>bzy_n</th></tr>\n",
       "\t<tr><th></th><th scope=col>&lt;chr&gt;</th><th scope=col>&lt;chr&gt;</th><th scope=col>&lt;chr&gt;</th><th scope=col>&lt;dbl&gt;</th><th scope=col>&lt;dbl&gt;</th><th scope=col>&lt;dbl&gt;</th><th scope=col>&lt;dbl&gt;</th><th scope=col>&lt;int&gt;</th><th scope=col>&lt;dbl&gt;</th><th scope=col>&lt;dbl&gt;</th><th scope=col>&lt;dbl&gt;</th><th scope=col>&lt;int&gt;</th></tr>\n",
       "</thead>\n",
       "<tbody>\n",
       "\t<tr><th scope=row>1</th><td>rs545409685       </td><td>C</td><td>T    </td><td>0.002660</td><td> 0.000830394</td><td>0.00997982</td><td>9.336868e-01</td><td>365499</td><td> 0.03862570</td><td>0.1000360</td><td>0.69941026</td><td>336074</td></tr>\n",
       "\t<tr><th scope=row>2</th><td>7:27869261_CAGTA_C</td><td>C</td><td>CAGTA</td><td>0.001494</td><td>-0.018772000</td><td>0.01391700</td><td>1.773838e-01</td><td>365499</td><td> 0.10838600</td><td>0.1401650</td><td>0.43936150</td><td>336074</td></tr>\n",
       "\t<tr><th scope=row>3</th><td>rs73075348        </td><td>G</td><td>A    </td><td>0.056610</td><td>-0.002466700</td><td>0.00213852</td><td>2.487196e-01</td><td>365499</td><td> 0.01622460</td><td>0.0215218</td><td>0.45092779</td><td>336074</td></tr>\n",
       "\t<tr><th scope=row>4</th><td>rs6948467         </td><td>A</td><td>G    </td><td>0.392772</td><td>-0.002577480</td><td>0.00101531</td><td>1.112910e-02</td><td>365499</td><td>-0.02054410</td><td>0.0102407</td><td>0.04484252</td><td>336074</td></tr>\n",
       "\t<tr><th scope=row>5</th><td>rs73075354        </td><td>G</td><td>C    </td><td>0.116173</td><td> 0.006933460</td><td>0.00154743</td><td>7.442177e-06</td><td>365499</td><td> 0.03858900</td><td>0.0156277</td><td>0.01353879</td><td>336074</td></tr>\n",
       "\t<tr><th scope=row>6</th><td>rs35410592        </td><td>A</td><td>C    </td><td>0.009428</td><td>-0.003141340</td><td>0.00520300</td><td>5.460067e-01</td><td>365499</td><td> 0.00427717</td><td>0.0522587</td><td>0.93476900</td><td>336074</td></tr>\n",
       "</tbody>\n",
       "</table>\n"
      ],
      "text/latex": [
       "A data.frame: 6 × 12\n",
       "\\begin{tabular}{r|llllllllllll}\n",
       "  & SNP & a1 & a2 & a1\\_freq & bzx & bzx\\_se & bzx\\_pval & bzx\\_n & bzy & bzy\\_se & bzy\\_pval & bzy\\_n\\\\\n",
       "  & <chr> & <chr> & <chr> & <dbl> & <dbl> & <dbl> & <dbl> & <int> & <dbl> & <dbl> & <dbl> & <int>\\\\\n",
       "\\hline\n",
       "\t1 & rs545409685        & C & T     & 0.002660 &  0.000830394 & 0.00997982 & 9.336868e-01 & 365499 &  0.03862570 & 0.1000360 & 0.69941026 & 336074\\\\\n",
       "\t2 & 7:27869261\\_CAGTA\\_C & C & CAGTA & 0.001494 & -0.018772000 & 0.01391700 & 1.773838e-01 & 365499 &  0.10838600 & 0.1401650 & 0.43936150 & 336074\\\\\n",
       "\t3 & rs73075348         & G & A     & 0.056610 & -0.002466700 & 0.00213852 & 2.487196e-01 & 365499 &  0.01622460 & 0.0215218 & 0.45092779 & 336074\\\\\n",
       "\t4 & rs6948467          & A & G     & 0.392772 & -0.002577480 & 0.00101531 & 1.112910e-02 & 365499 & -0.02054410 & 0.0102407 & 0.04484252 & 336074\\\\\n",
       "\t5 & rs73075354         & G & C     & 0.116173 &  0.006933460 & 0.00154743 & 7.442177e-06 & 365499 &  0.03858900 & 0.0156277 & 0.01353879 & 336074\\\\\n",
       "\t6 & rs35410592         & A & C     & 0.009428 & -0.003141340 & 0.00520300 & 5.460067e-01 & 365499 &  0.00427717 & 0.0522587 & 0.93476900 & 336074\\\\\n",
       "\\end{tabular}\n"
      ],
      "text/markdown": [
       "\n",
       "A data.frame: 6 × 12\n",
       "\n",
       "| <!--/--> | SNP &lt;chr&gt; | a1 &lt;chr&gt; | a2 &lt;chr&gt; | a1_freq &lt;dbl&gt; | bzx &lt;dbl&gt; | bzx_se &lt;dbl&gt; | bzx_pval &lt;dbl&gt; | bzx_n &lt;int&gt; | bzy &lt;dbl&gt; | bzy_se &lt;dbl&gt; | bzy_pval &lt;dbl&gt; | bzy_n &lt;int&gt; |\n",
       "|---|---|---|---|---|---|---|---|---|---|---|---|---|\n",
       "| 1 | rs545409685        | C | T     | 0.002660 |  0.000830394 | 0.00997982 | 9.336868e-01 | 365499 |  0.03862570 | 0.1000360 | 0.69941026 | 336074 |\n",
       "| 2 | 7:27869261_CAGTA_C | C | CAGTA | 0.001494 | -0.018772000 | 0.01391700 | 1.773838e-01 | 365499 |  0.10838600 | 0.1401650 | 0.43936150 | 336074 |\n",
       "| 3 | rs73075348         | G | A     | 0.056610 | -0.002466700 | 0.00213852 | 2.487196e-01 | 365499 |  0.01622460 | 0.0215218 | 0.45092779 | 336074 |\n",
       "| 4 | rs6948467          | A | G     | 0.392772 | -0.002577480 | 0.00101531 | 1.112910e-02 | 365499 | -0.02054410 | 0.0102407 | 0.04484252 | 336074 |\n",
       "| 5 | rs73075354         | G | C     | 0.116173 |  0.006933460 | 0.00154743 | 7.442177e-06 | 365499 |  0.03858900 | 0.0156277 | 0.01353879 | 336074 |\n",
       "| 6 | rs35410592         | A | C     | 0.009428 | -0.003141340 | 0.00520300 | 5.460067e-01 | 365499 |  0.00427717 | 0.0522587 | 0.93476900 | 336074 |\n",
       "\n"
      ],
      "text/plain": [
       "  SNP                a1 a2    a1_freq  bzx          bzx_se     bzx_pval    \n",
       "1 rs545409685        C  T     0.002660  0.000830394 0.00997982 9.336868e-01\n",
       "2 7:27869261_CAGTA_C C  CAGTA 0.001494 -0.018772000 0.01391700 1.773838e-01\n",
       "3 rs73075348         G  A     0.056610 -0.002466700 0.00213852 2.487196e-01\n",
       "4 rs6948467          A  G     0.392772 -0.002577480 0.00101531 1.112910e-02\n",
       "5 rs73075354         G  C     0.116173  0.006933460 0.00154743 7.442177e-06\n",
       "6 rs35410592         A  C     0.009428 -0.003141340 0.00520300 5.460067e-01\n",
       "  bzx_n  bzy         bzy_se    bzy_pval   bzy_n \n",
       "1 365499  0.03862570 0.1000360 0.69941026 336074\n",
       "2 365499  0.10838600 0.1401650 0.43936150 336074\n",
       "3 365499  0.01622460 0.0215218 0.45092779 336074\n",
       "4 365499 -0.02054410 0.0102407 0.04484252 336074\n",
       "5 365499  0.03858900 0.0156277 0.01353879 336074\n",
       "6 365499  0.00427717 0.0522587 0.93476900 336074"
      ]
     },
     "metadata": {},
     "output_type": "display_data"
    }
   ],
   "source": [
    "gsmr_data <- read.csv(\"waist_v_t2d_gsmr_data\", sep=\" \")\n",
    "head(gsmr_data)"
   ]
  },
  {
   "cell_type": "code",
   "execution_count": 3,
   "id": "86dd7080-dbea-4823-978c-8415fab966b0",
   "metadata": {
    "kernel": "SoS"
   },
   "outputs": [
    {
     "data": {
      "text/html": [
       "<style>\n",
       ".list-inline {list-style: none; margin:0; padding: 0}\n",
       ".list-inline>li {display: inline-block}\n",
       ".list-inline>li:not(:last-child)::after {content: \"\\00b7\"; padding: 0 .5ex}\n",
       "</style>\n",
       "<ol class=list-inline><li>2063</li><li>12</li></ol>\n"
      ],
      "text/latex": [
       "\\begin{enumerate*}\n",
       "\\item 2063\n",
       "\\item 12\n",
       "\\end{enumerate*}\n"
      ],
      "text/markdown": [
       "1. 2063\n",
       "2. 12\n",
       "\n",
       "\n"
      ],
      "text/plain": [
       "[1] 2063   12"
      ]
     },
     "metadata": {},
     "output_type": "display_data"
    }
   ],
   "source": [
    "dim(gsmr_data)"
   ]
  },
  {
   "cell_type": "code",
   "execution_count": 30,
   "id": "1c4bbbe1-98b8-4c20-908a-83e709dfe0f3",
   "metadata": {
    "kernel": "SoS"
   },
   "outputs": [],
   "source": [
    "snp_coeff_id = scan(\"/mnt/mfs/statgen/bst2126/pleiotropy/JAZF1_sum/waist_v_t2d_gcta64.result.xmat.gz\", what=\"\", nlines=1)\n",
    "snp_coeff = read.table(\"/mnt/mfs/statgen/bst2126/pleiotropy/JAZF1_sum/waist_v_t2d_gcta64.result.xmat.gz\", header=F, skip=2)"
   ]
  },
  {
   "cell_type": "code",
   "execution_count": 31,
   "id": "ced7df06-462a-4098-8206-2c4d9e6d3422",
   "metadata": {
    "kernel": "SoS"
   },
   "outputs": [
    {
     "data": {
      "text/html": [
       "<style>\n",
       ".list-inline {list-style: none; margin:0; padding: 0}\n",
       ".list-inline>li {display: inline-block}\n",
       ".list-inline>li:not(:last-child)::after {content: \"\\00b7\"; padding: 0 .5ex}\n",
       "</style>\n",
       "<ol class=list-inline><li>'rs73075348'</li><li>'rs112759592'</li><li>'rs10281008'</li><li>'rs117933100'</li><li>'rs58651394'</li><li>'rs62451072'</li><li>'rs17620013'</li><li>'rs17692895'</li><li>'rs73083371'</li><li>'rs116990708'</li><li>'rs58753113'</li><li>'rs720659'</li><li>'rs10452749'</li><li>'rs80197206'</li><li>'rs73083390'</li><li>'rs10232181'</li><li>'rs7806217'</li><li>'rs193'</li><li>'rs17156005'</li><li>'rs67705163'</li><li>'rs10486567'</li><li>'rs3919460'</li><li>'rs117034173'</li><li>'rs28657749'</li><li>'rs17156078'</li><li>'rs62451150'</li><li>'rs78975149'</li><li>'rs61648985'</li><li>'rs10237946'</li><li>'rs79909443'</li><li>'rs253310'</li><li>'rs116974921'</li><li>'rs117929884'</li><li>'rs73301337'</li><li>'rs12671522'</li><li>'rs77214245'</li><li>'rs6956423'</li><li>'rs118186994'</li><li>'rs77046554'</li><li>'rs17623527'</li><li>'rs11763515'</li><li>'rs6945134'</li><li>'rs17156127'</li><li>'rs56311485'</li><li>'rs12536791'</li><li>'rs112914067'</li><li>'rs117621905'</li><li>'rs76334155'</li><li>'rs34325103'</li><li>'rs35053797'</li><li>'rs17624621'</li><li>'rs6462063'</li><li>'rs74756543'</li><li>'rs62449904'</li><li>'rs10268254'</li><li>'rs10486576'</li><li>'rs41535351'</li><li>'rs111519725'</li><li>'rs13234714'</li><li>'rs113404264'</li><li>'rs6977730'</li><li>'rs76730676'</li><li>'rs75040112'</li><li>'rs10274928'</li><li>'rs2158623'</li><li>'rs73072534'</li><li>'rs77740984'</li><li>'rs757729'</li><li>'rs57585717'</li><li>'rs78856909'</li><li>'rs4722759'</li><li>'rs62449907'</li><li>'rs6962289'</li><li>'rs62449929'</li><li>'rs2189965'</li><li>'rs113735840'</li><li>'rs864745'</li><li>'rs849140'</li><li>'rs849141'</li><li>'rs4719925'</li><li>'rs1635852'</li><li>'rs1708299'</li><li>'rs79013867'</li><li>'rs530649'</li><li>'rs520161'</li><li>'rs849335'</li><li>'rs550448'</li><li>'rs849315'</li><li>'rs1513270'</li><li>'rs73078484'</li><li>'rs58462233'</li><li>'rs56142710'</li><li>'rs73076597'</li><li>'rs478266'</li><li>'rs475615'</li><li>'rs849325'</li></ol>\n"
      ],
      "text/latex": [
       "\\begin{enumerate*}\n",
       "\\item 'rs73075348'\n",
       "\\item 'rs112759592'\n",
       "\\item 'rs10281008'\n",
       "\\item 'rs117933100'\n",
       "\\item 'rs58651394'\n",
       "\\item 'rs62451072'\n",
       "\\item 'rs17620013'\n",
       "\\item 'rs17692895'\n",
       "\\item 'rs73083371'\n",
       "\\item 'rs116990708'\n",
       "\\item 'rs58753113'\n",
       "\\item 'rs720659'\n",
       "\\item 'rs10452749'\n",
       "\\item 'rs80197206'\n",
       "\\item 'rs73083390'\n",
       "\\item 'rs10232181'\n",
       "\\item 'rs7806217'\n",
       "\\item 'rs193'\n",
       "\\item 'rs17156005'\n",
       "\\item 'rs67705163'\n",
       "\\item 'rs10486567'\n",
       "\\item 'rs3919460'\n",
       "\\item 'rs117034173'\n",
       "\\item 'rs28657749'\n",
       "\\item 'rs17156078'\n",
       "\\item 'rs62451150'\n",
       "\\item 'rs78975149'\n",
       "\\item 'rs61648985'\n",
       "\\item 'rs10237946'\n",
       "\\item 'rs79909443'\n",
       "\\item 'rs253310'\n",
       "\\item 'rs116974921'\n",
       "\\item 'rs117929884'\n",
       "\\item 'rs73301337'\n",
       "\\item 'rs12671522'\n",
       "\\item 'rs77214245'\n",
       "\\item 'rs6956423'\n",
       "\\item 'rs118186994'\n",
       "\\item 'rs77046554'\n",
       "\\item 'rs17623527'\n",
       "\\item 'rs11763515'\n",
       "\\item 'rs6945134'\n",
       "\\item 'rs17156127'\n",
       "\\item 'rs56311485'\n",
       "\\item 'rs12536791'\n",
       "\\item 'rs112914067'\n",
       "\\item 'rs117621905'\n",
       "\\item 'rs76334155'\n",
       "\\item 'rs34325103'\n",
       "\\item 'rs35053797'\n",
       "\\item 'rs17624621'\n",
       "\\item 'rs6462063'\n",
       "\\item 'rs74756543'\n",
       "\\item 'rs62449904'\n",
       "\\item 'rs10268254'\n",
       "\\item 'rs10486576'\n",
       "\\item 'rs41535351'\n",
       "\\item 'rs111519725'\n",
       "\\item 'rs13234714'\n",
       "\\item 'rs113404264'\n",
       "\\item 'rs6977730'\n",
       "\\item 'rs76730676'\n",
       "\\item 'rs75040112'\n",
       "\\item 'rs10274928'\n",
       "\\item 'rs2158623'\n",
       "\\item 'rs73072534'\n",
       "\\item 'rs77740984'\n",
       "\\item 'rs757729'\n",
       "\\item 'rs57585717'\n",
       "\\item 'rs78856909'\n",
       "\\item 'rs4722759'\n",
       "\\item 'rs62449907'\n",
       "\\item 'rs6962289'\n",
       "\\item 'rs62449929'\n",
       "\\item 'rs2189965'\n",
       "\\item 'rs113735840'\n",
       "\\item 'rs864745'\n",
       "\\item 'rs849140'\n",
       "\\item 'rs849141'\n",
       "\\item 'rs4719925'\n",
       "\\item 'rs1635852'\n",
       "\\item 'rs1708299'\n",
       "\\item 'rs79013867'\n",
       "\\item 'rs530649'\n",
       "\\item 'rs520161'\n",
       "\\item 'rs849335'\n",
       "\\item 'rs550448'\n",
       "\\item 'rs849315'\n",
       "\\item 'rs1513270'\n",
       "\\item 'rs73078484'\n",
       "\\item 'rs58462233'\n",
       "\\item 'rs56142710'\n",
       "\\item 'rs73076597'\n",
       "\\item 'rs478266'\n",
       "\\item 'rs475615'\n",
       "\\item 'rs849325'\n",
       "\\end{enumerate*}\n"
      ],
      "text/markdown": [
       "1. 'rs73075348'\n",
       "2. 'rs112759592'\n",
       "3. 'rs10281008'\n",
       "4. 'rs117933100'\n",
       "5. 'rs58651394'\n",
       "6. 'rs62451072'\n",
       "7. 'rs17620013'\n",
       "8. 'rs17692895'\n",
       "9. 'rs73083371'\n",
       "10. 'rs116990708'\n",
       "11. 'rs58753113'\n",
       "12. 'rs720659'\n",
       "13. 'rs10452749'\n",
       "14. 'rs80197206'\n",
       "15. 'rs73083390'\n",
       "16. 'rs10232181'\n",
       "17. 'rs7806217'\n",
       "18. 'rs193'\n",
       "19. 'rs17156005'\n",
       "20. 'rs67705163'\n",
       "21. 'rs10486567'\n",
       "22. 'rs3919460'\n",
       "23. 'rs117034173'\n",
       "24. 'rs28657749'\n",
       "25. 'rs17156078'\n",
       "26. 'rs62451150'\n",
       "27. 'rs78975149'\n",
       "28. 'rs61648985'\n",
       "29. 'rs10237946'\n",
       "30. 'rs79909443'\n",
       "31. 'rs253310'\n",
       "32. 'rs116974921'\n",
       "33. 'rs117929884'\n",
       "34. 'rs73301337'\n",
       "35. 'rs12671522'\n",
       "36. 'rs77214245'\n",
       "37. 'rs6956423'\n",
       "38. 'rs118186994'\n",
       "39. 'rs77046554'\n",
       "40. 'rs17623527'\n",
       "41. 'rs11763515'\n",
       "42. 'rs6945134'\n",
       "43. 'rs17156127'\n",
       "44. 'rs56311485'\n",
       "45. 'rs12536791'\n",
       "46. 'rs112914067'\n",
       "47. 'rs117621905'\n",
       "48. 'rs76334155'\n",
       "49. 'rs34325103'\n",
       "50. 'rs35053797'\n",
       "51. 'rs17624621'\n",
       "52. 'rs6462063'\n",
       "53. 'rs74756543'\n",
       "54. 'rs62449904'\n",
       "55. 'rs10268254'\n",
       "56. 'rs10486576'\n",
       "57. 'rs41535351'\n",
       "58. 'rs111519725'\n",
       "59. 'rs13234714'\n",
       "60. 'rs113404264'\n",
       "61. 'rs6977730'\n",
       "62. 'rs76730676'\n",
       "63. 'rs75040112'\n",
       "64. 'rs10274928'\n",
       "65. 'rs2158623'\n",
       "66. 'rs73072534'\n",
       "67. 'rs77740984'\n",
       "68. 'rs757729'\n",
       "69. 'rs57585717'\n",
       "70. 'rs78856909'\n",
       "71. 'rs4722759'\n",
       "72. 'rs62449907'\n",
       "73. 'rs6962289'\n",
       "74. 'rs62449929'\n",
       "75. 'rs2189965'\n",
       "76. 'rs113735840'\n",
       "77. 'rs864745'\n",
       "78. 'rs849140'\n",
       "79. 'rs849141'\n",
       "80. 'rs4719925'\n",
       "81. 'rs1635852'\n",
       "82. 'rs1708299'\n",
       "83. 'rs79013867'\n",
       "84. 'rs530649'\n",
       "85. 'rs520161'\n",
       "86. 'rs849335'\n",
       "87. 'rs550448'\n",
       "88. 'rs849315'\n",
       "89. 'rs1513270'\n",
       "90. 'rs73078484'\n",
       "91. 'rs58462233'\n",
       "92. 'rs56142710'\n",
       "93. 'rs73076597'\n",
       "94. 'rs478266'\n",
       "95. 'rs475615'\n",
       "96. 'rs849325'\n",
       "\n",
       "\n"
      ],
      "text/plain": [
       " [1] \"rs73075348\"  \"rs112759592\" \"rs10281008\"  \"rs117933100\" \"rs58651394\" \n",
       " [6] \"rs62451072\"  \"rs17620013\"  \"rs17692895\"  \"rs73083371\"  \"rs116990708\"\n",
       "[11] \"rs58753113\"  \"rs720659\"    \"rs10452749\"  \"rs80197206\"  \"rs73083390\" \n",
       "[16] \"rs10232181\"  \"rs7806217\"   \"rs193\"       \"rs17156005\"  \"rs67705163\" \n",
       "[21] \"rs10486567\"  \"rs3919460\"   \"rs117034173\" \"rs28657749\"  \"rs17156078\" \n",
       "[26] \"rs62451150\"  \"rs78975149\"  \"rs61648985\"  \"rs10237946\"  \"rs79909443\" \n",
       "[31] \"rs253310\"    \"rs116974921\" \"rs117929884\" \"rs73301337\"  \"rs12671522\" \n",
       "[36] \"rs77214245\"  \"rs6956423\"   \"rs118186994\" \"rs77046554\"  \"rs17623527\" \n",
       "[41] \"rs11763515\"  \"rs6945134\"   \"rs17156127\"  \"rs56311485\"  \"rs12536791\" \n",
       "[46] \"rs112914067\" \"rs117621905\" \"rs76334155\"  \"rs34325103\"  \"rs35053797\" \n",
       "[51] \"rs17624621\"  \"rs6462063\"   \"rs74756543\"  \"rs62449904\"  \"rs10268254\" \n",
       "[56] \"rs10486576\"  \"rs41535351\"  \"rs111519725\" \"rs13234714\"  \"rs113404264\"\n",
       "[61] \"rs6977730\"   \"rs76730676\"  \"rs75040112\"  \"rs10274928\"  \"rs2158623\"  \n",
       "[66] \"rs73072534\"  \"rs77740984\"  \"rs757729\"    \"rs57585717\"  \"rs78856909\" \n",
       "[71] \"rs4722759\"   \"rs62449907\"  \"rs6962289\"   \"rs62449929\"  \"rs2189965\"  \n",
       "[76] \"rs113735840\" \"rs864745\"    \"rs849140\"    \"rs849141\"    \"rs4719925\"  \n",
       "[81] \"rs1635852\"   \"rs1708299\"   \"rs79013867\"  \"rs530649\"    \"rs520161\"   \n",
       "[86] \"rs849335\"    \"rs550448\"    \"rs849315\"    \"rs1513270\"   \"rs73078484\" \n",
       "[91] \"rs58462233\"  \"rs56142710\"  \"rs73076597\"  \"rs478266\"    \"rs475615\"   \n",
       "[96] \"rs849325\"   "
      ]
     },
     "metadata": {},
     "output_type": "display_data"
    }
   ],
   "source": [
    "# Match the SNP genotype data with the summary data\n",
    "snp_id = Reduce(intersect, list(gsmr_data$SNP, snp_coeff_id))\n",
    "snp_id"
   ]
  },
  {
   "cell_type": "code",
   "execution_count": 32,
   "id": "0246dfb6-ec82-4903-b1b0-8040096f7276",
   "metadata": {
    "kernel": "SoS"
   },
   "outputs": [],
   "source": [
    "gsmr_data = gsmr_data[match(snp_id, gsmr_data$SNP),]"
   ]
  },
  {
   "cell_type": "code",
   "execution_count": 33,
   "id": "041a2fb9-32f8-4726-aa67-18ce6d1fda3e",
   "metadata": {
    "kernel": "SoS"
   },
   "outputs": [
    {
     "data": {
      "text/html": [
       "<style>\n",
       ".list-inline {list-style: none; margin:0; padding: 0}\n",
       ".list-inline>li {display: inline-block}\n",
       ".list-inline>li:not(:last-child)::after {content: \"\\00b7\"; padding: 0 .5ex}\n",
       "</style>\n",
       "<ol class=list-inline><li>96</li><li>12</li></ol>\n"
      ],
      "text/latex": [
       "\\begin{enumerate*}\n",
       "\\item 96\n",
       "\\item 12\n",
       "\\end{enumerate*}\n"
      ],
      "text/markdown": [
       "1. 96\n",
       "2. 12\n",
       "\n",
       "\n"
      ],
      "text/plain": [
       "[1] 96 12"
      ]
     },
     "metadata": {},
     "output_type": "display_data"
    }
   ],
   "source": [
    "dim(gsmr_data)"
   ]
  },
  {
   "cell_type": "code",
   "execution_count": 34,
   "id": "e1b2df65-a69c-4c34-8ec2-a3a002f3b67d",
   "metadata": {
    "kernel": "SoS"
   },
   "outputs": [],
   "source": [
    "snp_order = match(snp_id, snp_coeff_id)\n",
    "snp_coeff_id = snp_coeff_id[snp_order]\n",
    "snp_coeff = snp_coeff[, snp_order]"
   ]
  },
  {
   "cell_type": "code",
   "execution_count": 35,
   "id": "9761a4d1-844d-4665-8dbe-8d451b0ae179",
   "metadata": {
    "kernel": "SoS"
   },
   "outputs": [
    {
     "data": {
      "text/html": [
       "67606"
      ],
      "text/latex": [
       "67606"
      ],
      "text/markdown": [
       "67606"
      ],
      "text/plain": [
       "[1] 67606"
      ]
     },
     "metadata": {},
     "output_type": "display_data"
    }
   ],
   "source": [
    "sum(is.na(snp_coeff)) #count NA snp coefficients if any."
   ]
  },
  {
   "cell_type": "code",
   "execution_count": 36,
   "id": "457634f4-2e98-4691-8328-57104286608f",
   "metadata": {
    "kernel": "SoS"
   },
   "outputs": [],
   "source": [
    "snp_coeff[is.na(snp_coeff)] <- 0 # Recode NAs as 0."
   ]
  },
  {
   "cell_type": "code",
   "execution_count": 37,
   "id": "cbdb8483-8c3b-4271-bb8a-8cc94d940d45",
   "metadata": {
    "kernel": "SoS"
   },
   "outputs": [],
   "source": [
    "# Calculate the LD correlation matrix\n",
    "ldrho = cor(snp_coeff)"
   ]
  },
  {
   "cell_type": "code",
   "execution_count": 40,
   "id": "76e71f17-70d8-44fe-8fc8-7a7a039e305a",
   "metadata": {
    "kernel": "SoS"
   },
   "outputs": [],
   "source": [
    "# Check the size of the correlation matrix and double-check if the order of the SNPs in the LD correlation matrix is consistent with that in the GWAS summary data\n",
    "colnames(ldrho) = rownames(ldrho) = snp_coeff_id"
   ]
  },
  {
   "cell_type": "code",
   "execution_count": 38,
   "id": "8642bad9-ee50-4343-80a2-249e28c28c0c",
   "metadata": {
    "kernel": "SoS"
   },
   "outputs": [
    {
     "data": {
      "text/html": [
       "<style>\n",
       ".list-inline {list-style: none; margin:0; padding: 0}\n",
       ".list-inline>li {display: inline-block}\n",
       ".list-inline>li:not(:last-child)::after {content: \"\\00b7\"; padding: 0 .5ex}\n",
       "</style>\n",
       "<ol class=list-inline><li>96</li><li>96</li></ol>\n"
      ],
      "text/latex": [
       "\\begin{enumerate*}\n",
       "\\item 96\n",
       "\\item 96\n",
       "\\end{enumerate*}\n"
      ],
      "text/markdown": [
       "1. 96\n",
       "2. 96\n",
       "\n",
       "\n"
      ],
      "text/plain": [
       "[1] 96 96"
      ]
     },
     "metadata": {},
     "output_type": "display_data"
    }
   ],
   "source": [
    "dim(ldrho)"
   ]
  },
  {
   "cell_type": "code",
   "execution_count": 41,
   "id": "73b964fb-c538-4866-94d3-a5999410225e",
   "metadata": {
    "kernel": "SoS"
   },
   "outputs": [
    {
     "data": {
      "text/html": [
       "<table class=\"dataframe\">\n",
       "<caption>A matrix: 6 × 96 of type dbl</caption>\n",
       "<thead>\n",
       "\t<tr><th></th><th scope=col>rs73075348</th><th scope=col>rs112759592</th><th scope=col>rs10281008</th><th scope=col>rs117933100</th><th scope=col>rs58651394</th><th scope=col>rs62451072</th><th scope=col>rs17620013</th><th scope=col>rs17692895</th><th scope=col>rs73083371</th><th scope=col>rs116990708</th><th scope=col>⋯</th><th scope=col>rs550448</th><th scope=col>rs849315</th><th scope=col>rs1513270</th><th scope=col>rs73078484</th><th scope=col>rs58462233</th><th scope=col>rs56142710</th><th scope=col>rs73076597</th><th scope=col>rs478266</th><th scope=col>rs475615</th><th scope=col>rs849325</th></tr>\n",
       "</thead>\n",
       "<tbody>\n",
       "\t<tr><th scope=row>rs73075348</th><td> 1.00000000</td><td>-0.04041098</td><td>-0.07996557</td><td>-0.03335595</td><td>-0.02336440</td><td>-0.05488513</td><td>-0.03503106</td><td>-0.07178532</td><td>-0.08564629</td><td>-0.03307041</td><td>⋯</td><td>-0.012193881</td><td>-0.004231554</td><td>-0.012190839</td><td>-0.005024991</td><td>-0.009390126</td><td> 0.028835015</td><td> 0.02291125</td><td> 0.012771782</td><td> 0.021427349</td><td> 0.020983068</td></tr>\n",
       "\t<tr><th scope=row>rs112759592</th><td>-0.04041098</td><td> 1.00000000</td><td>-0.06602195</td><td>-0.02949000</td><td>-0.01981965</td><td>-0.04497065</td><td> 0.75275268</td><td>-0.06876986</td><td>-0.07115160</td><td>-0.02709303</td><td>⋯</td><td> 0.032784561</td><td> 0.038715861</td><td> 0.051126375</td><td>-0.019672099</td><td>-0.017216201</td><td> 0.064879467</td><td> 0.02914763</td><td> 0.031141599</td><td> 0.039552737</td><td> 0.038159101</td></tr>\n",
       "\t<tr><th scope=row>rs10281008</th><td>-0.07996557</td><td>-0.06602195</td><td> 1.00000000</td><td>-0.04834999</td><td>-0.03434119</td><td> 0.66899749</td><td>-0.05087862</td><td> 0.92509475</td><td>-0.11578063</td><td>-0.04488270</td><td>⋯</td><td> 0.080442475</td><td> 0.088898129</td><td>-0.057028090</td><td>-0.043854988</td><td>-0.002810901</td><td> 0.004074045</td><td>-0.03627451</td><td>-0.032118634</td><td> 0.005333929</td><td> 0.005510484</td></tr>\n",
       "\t<tr><th scope=row>rs117933100</th><td>-0.03335595</td><td>-0.02949000</td><td>-0.04834999</td><td> 1.00000000</td><td>-0.01431049</td><td>-0.03345474</td><td>-0.02400475</td><td>-0.05058952</td><td> 0.38968324</td><td>-0.01945354</td><td>⋯</td><td>-0.022444169</td><td>-0.022391630</td><td> 0.010911630</td><td>-0.014082289</td><td>-0.015042299</td><td> 0.004733850</td><td> 0.04553759</td><td>-0.024361144</td><td> 0.036895833</td><td> 0.036839540</td></tr>\n",
       "\t<tr><th scope=row>rs58651394</th><td>-0.02336440</td><td>-0.01981965</td><td>-0.03434119</td><td>-0.01431049</td><td> 1.00000000</td><td>-0.02166221</td><td>-0.01374465</td><td>-0.03644620</td><td>-0.03346114</td><td>-0.01496801</td><td>⋯</td><td>-0.004495018</td><td>-0.001186875</td><td> 0.004335979</td><td>-0.013269013</td><td> 0.068328771</td><td>-0.006321429</td><td> 0.03607545</td><td>-0.002826752</td><td> 0.015662251</td><td> 0.016064075</td></tr>\n",
       "\t<tr><th scope=row>rs62451072</th><td>-0.05488513</td><td>-0.04497065</td><td> 0.66899749</td><td>-0.03345474</td><td>-0.02166221</td><td> 1.00000000</td><td>-0.03536187</td><td> 0.62427538</td><td>-0.07504880</td><td>-0.02993311</td><td>⋯</td><td> 0.043659386</td><td> 0.050078573</td><td>-0.033108691</td><td>-0.025724194</td><td> 0.008474177</td><td>-0.010517689</td><td> 0.00964271</td><td>-0.040736288</td><td>-0.002335865</td><td>-0.001502818</td></tr>\n",
       "</tbody>\n",
       "</table>\n"
      ],
      "text/latex": [
       "A matrix: 6 × 96 of type dbl\n",
       "\\begin{tabular}{r|lllllllllllllllllllll}\n",
       "  & rs73075348 & rs112759592 & rs10281008 & rs117933100 & rs58651394 & rs62451072 & rs17620013 & rs17692895 & rs73083371 & rs116990708 & ⋯ & rs550448 & rs849315 & rs1513270 & rs73078484 & rs58462233 & rs56142710 & rs73076597 & rs478266 & rs475615 & rs849325\\\\\n",
       "\\hline\n",
       "\trs73075348 &  1.00000000 & -0.04041098 & -0.07996557 & -0.03335595 & -0.02336440 & -0.05488513 & -0.03503106 & -0.07178532 & -0.08564629 & -0.03307041 & ⋯ & -0.012193881 & -0.004231554 & -0.012190839 & -0.005024991 & -0.009390126 &  0.028835015 &  0.02291125 &  0.012771782 &  0.021427349 &  0.020983068\\\\\n",
       "\trs112759592 & -0.04041098 &  1.00000000 & -0.06602195 & -0.02949000 & -0.01981965 & -0.04497065 &  0.75275268 & -0.06876986 & -0.07115160 & -0.02709303 & ⋯ &  0.032784561 &  0.038715861 &  0.051126375 & -0.019672099 & -0.017216201 &  0.064879467 &  0.02914763 &  0.031141599 &  0.039552737 &  0.038159101\\\\\n",
       "\trs10281008 & -0.07996557 & -0.06602195 &  1.00000000 & -0.04834999 & -0.03434119 &  0.66899749 & -0.05087862 &  0.92509475 & -0.11578063 & -0.04488270 & ⋯ &  0.080442475 &  0.088898129 & -0.057028090 & -0.043854988 & -0.002810901 &  0.004074045 & -0.03627451 & -0.032118634 &  0.005333929 &  0.005510484\\\\\n",
       "\trs117933100 & -0.03335595 & -0.02949000 & -0.04834999 &  1.00000000 & -0.01431049 & -0.03345474 & -0.02400475 & -0.05058952 &  0.38968324 & -0.01945354 & ⋯ & -0.022444169 & -0.022391630 &  0.010911630 & -0.014082289 & -0.015042299 &  0.004733850 &  0.04553759 & -0.024361144 &  0.036895833 &  0.036839540\\\\\n",
       "\trs58651394 & -0.02336440 & -0.01981965 & -0.03434119 & -0.01431049 &  1.00000000 & -0.02166221 & -0.01374465 & -0.03644620 & -0.03346114 & -0.01496801 & ⋯ & -0.004495018 & -0.001186875 &  0.004335979 & -0.013269013 &  0.068328771 & -0.006321429 &  0.03607545 & -0.002826752 &  0.015662251 &  0.016064075\\\\\n",
       "\trs62451072 & -0.05488513 & -0.04497065 &  0.66899749 & -0.03345474 & -0.02166221 &  1.00000000 & -0.03536187 &  0.62427538 & -0.07504880 & -0.02993311 & ⋯ &  0.043659386 &  0.050078573 & -0.033108691 & -0.025724194 &  0.008474177 & -0.010517689 &  0.00964271 & -0.040736288 & -0.002335865 & -0.001502818\\\\\n",
       "\\end{tabular}\n"
      ],
      "text/markdown": [
       "\n",
       "A matrix: 6 × 96 of type dbl\n",
       "\n",
       "| <!--/--> | rs73075348 | rs112759592 | rs10281008 | rs117933100 | rs58651394 | rs62451072 | rs17620013 | rs17692895 | rs73083371 | rs116990708 | ⋯ | rs550448 | rs849315 | rs1513270 | rs73078484 | rs58462233 | rs56142710 | rs73076597 | rs478266 | rs475615 | rs849325 |\n",
       "|---|---|---|---|---|---|---|---|---|---|---|---|---|---|---|---|---|---|---|---|---|---|\n",
       "| rs73075348 |  1.00000000 | -0.04041098 | -0.07996557 | -0.03335595 | -0.02336440 | -0.05488513 | -0.03503106 | -0.07178532 | -0.08564629 | -0.03307041 | ⋯ | -0.012193881 | -0.004231554 | -0.012190839 | -0.005024991 | -0.009390126 |  0.028835015 |  0.02291125 |  0.012771782 |  0.021427349 |  0.020983068 |\n",
       "| rs112759592 | -0.04041098 |  1.00000000 | -0.06602195 | -0.02949000 | -0.01981965 | -0.04497065 |  0.75275268 | -0.06876986 | -0.07115160 | -0.02709303 | ⋯ |  0.032784561 |  0.038715861 |  0.051126375 | -0.019672099 | -0.017216201 |  0.064879467 |  0.02914763 |  0.031141599 |  0.039552737 |  0.038159101 |\n",
       "| rs10281008 | -0.07996557 | -0.06602195 |  1.00000000 | -0.04834999 | -0.03434119 |  0.66899749 | -0.05087862 |  0.92509475 | -0.11578063 | -0.04488270 | ⋯ |  0.080442475 |  0.088898129 | -0.057028090 | -0.043854988 | -0.002810901 |  0.004074045 | -0.03627451 | -0.032118634 |  0.005333929 |  0.005510484 |\n",
       "| rs117933100 | -0.03335595 | -0.02949000 | -0.04834999 |  1.00000000 | -0.01431049 | -0.03345474 | -0.02400475 | -0.05058952 |  0.38968324 | -0.01945354 | ⋯ | -0.022444169 | -0.022391630 |  0.010911630 | -0.014082289 | -0.015042299 |  0.004733850 |  0.04553759 | -0.024361144 |  0.036895833 |  0.036839540 |\n",
       "| rs58651394 | -0.02336440 | -0.01981965 | -0.03434119 | -0.01431049 |  1.00000000 | -0.02166221 | -0.01374465 | -0.03644620 | -0.03346114 | -0.01496801 | ⋯ | -0.004495018 | -0.001186875 |  0.004335979 | -0.013269013 |  0.068328771 | -0.006321429 |  0.03607545 | -0.002826752 |  0.015662251 |  0.016064075 |\n",
       "| rs62451072 | -0.05488513 | -0.04497065 |  0.66899749 | -0.03345474 | -0.02166221 |  1.00000000 | -0.03536187 |  0.62427538 | -0.07504880 | -0.02993311 | ⋯ |  0.043659386 |  0.050078573 | -0.033108691 | -0.025724194 |  0.008474177 | -0.010517689 |  0.00964271 | -0.040736288 | -0.002335865 | -0.001502818 |\n",
       "\n"
      ],
      "text/plain": [
       "            rs73075348  rs112759592 rs10281008  rs117933100 rs58651394 \n",
       "rs73075348   1.00000000 -0.04041098 -0.07996557 -0.03335595 -0.02336440\n",
       "rs112759592 -0.04041098  1.00000000 -0.06602195 -0.02949000 -0.01981965\n",
       "rs10281008  -0.07996557 -0.06602195  1.00000000 -0.04834999 -0.03434119\n",
       "rs117933100 -0.03335595 -0.02949000 -0.04834999  1.00000000 -0.01431049\n",
       "rs58651394  -0.02336440 -0.01981965 -0.03434119 -0.01431049  1.00000000\n",
       "rs62451072  -0.05488513 -0.04497065  0.66899749 -0.03345474 -0.02166221\n",
       "            rs62451072  rs17620013  rs17692895  rs73083371  rs116990708 ⋯\n",
       "rs73075348  -0.05488513 -0.03503106 -0.07178532 -0.08564629 -0.03307041 ⋯\n",
       "rs112759592 -0.04497065  0.75275268 -0.06876986 -0.07115160 -0.02709303 ⋯\n",
       "rs10281008   0.66899749 -0.05087862  0.92509475 -0.11578063 -0.04488270 ⋯\n",
       "rs117933100 -0.03345474 -0.02400475 -0.05058952  0.38968324 -0.01945354 ⋯\n",
       "rs58651394  -0.02166221 -0.01374465 -0.03644620 -0.03346114 -0.01496801 ⋯\n",
       "rs62451072   1.00000000 -0.03536187  0.62427538 -0.07504880 -0.02993311 ⋯\n",
       "            rs550448     rs849315     rs1513270    rs73078484   rs58462233  \n",
       "rs73075348  -0.012193881 -0.004231554 -0.012190839 -0.005024991 -0.009390126\n",
       "rs112759592  0.032784561  0.038715861  0.051126375 -0.019672099 -0.017216201\n",
       "rs10281008   0.080442475  0.088898129 -0.057028090 -0.043854988 -0.002810901\n",
       "rs117933100 -0.022444169 -0.022391630  0.010911630 -0.014082289 -0.015042299\n",
       "rs58651394  -0.004495018 -0.001186875  0.004335979 -0.013269013  0.068328771\n",
       "rs62451072   0.043659386  0.050078573 -0.033108691 -0.025724194  0.008474177\n",
       "            rs56142710   rs73076597  rs478266     rs475615     rs849325    \n",
       "rs73075348   0.028835015  0.02291125  0.012771782  0.021427349  0.020983068\n",
       "rs112759592  0.064879467  0.02914763  0.031141599  0.039552737  0.038159101\n",
       "rs10281008   0.004074045 -0.03627451 -0.032118634  0.005333929  0.005510484\n",
       "rs117933100  0.004733850  0.04553759 -0.024361144  0.036895833  0.036839540\n",
       "rs58651394  -0.006321429  0.03607545 -0.002826752  0.015662251  0.016064075\n",
       "rs62451072  -0.010517689  0.00964271 -0.040736288 -0.002335865 -0.001502818"
      ]
     },
     "metadata": {},
     "output_type": "display_data"
    }
   ],
   "source": [
    "head(ldrho)"
   ]
  },
  {
   "cell_type": "code",
   "execution_count": 42,
   "id": "c2282e99-6ade-499d-a2e9-e0a409f75c56",
   "metadata": {
    "kernel": "SoS"
   },
   "outputs": [
    {
     "name": "stderr",
     "output_type": "stream",
     "text": [
      "std effect: 96 instruments loaded.\n",
      "\n"
     ]
    },
    {
     "data": {
      "text/html": [
       "<table class=\"dataframe\">\n",
       "<caption>A data.frame: 6 × 14</caption>\n",
       "<thead>\n",
       "\t<tr><th></th><th scope=col>SNP</th><th scope=col>a1</th><th scope=col>a2</th><th scope=col>a1_freq</th><th scope=col>bzx</th><th scope=col>bzx_se</th><th scope=col>bzx_pval</th><th scope=col>bzx_n</th><th scope=col>bzy</th><th scope=col>bzy_se</th><th scope=col>bzy_pval</th><th scope=col>bzy_n</th><th scope=col>std_bzx</th><th scope=col>std_bzx_se</th></tr>\n",
       "\t<tr><th></th><th scope=col>&lt;chr&gt;</th><th scope=col>&lt;chr&gt;</th><th scope=col>&lt;chr&gt;</th><th scope=col>&lt;dbl&gt;</th><th scope=col>&lt;dbl&gt;</th><th scope=col>&lt;dbl&gt;</th><th scope=col>&lt;dbl&gt;</th><th scope=col>&lt;int&gt;</th><th scope=col>&lt;dbl&gt;</th><th scope=col>&lt;dbl&gt;</th><th scope=col>&lt;dbl&gt;</th><th scope=col>&lt;int&gt;</th><th scope=col>&lt;dbl&gt;</th><th scope=col>&lt;dbl&gt;</th></tr>\n",
       "</thead>\n",
       "<tbody>\n",
       "\t<tr><th scope=row>3</th><td>rs73075348 </td><td>G</td><td>A</td><td>0.056610</td><td>-0.002466700</td><td>0.00213852</td><td>0.2487196</td><td>365499</td><td> 0.0162246</td><td>0.0215218</td><td>0.4509278</td><td>336074</td><td>-0.0058378364</td><td>0.005061146</td></tr>\n",
       "\t<tr><th scope=row>24</th><td>rs112759592</td><td>C</td><td>G</td><td>0.037982</td><td>-0.001038050</td><td>0.00258446</td><td>0.6879407</td><td>365499</td><td>-0.0110040</td><td>0.0260792</td><td>0.6730650</td><td>336074</td><td>-0.0024575918</td><td>0.006118730</td></tr>\n",
       "\t<tr><th scope=row>30</th><td>rs10281008 </td><td>G</td><td>A</td><td>0.103474</td><td>-0.003913590</td><td>0.00162312</td><td>0.0159023</td><td>365499</td><td> 0.0126663</td><td>0.0163541</td><td>0.4386337</td><td>336074</td><td>-0.0092590427</td><td>0.003840090</td></tr>\n",
       "\t<tr><th scope=row>36</th><td>rs117933100</td><td>C</td><td>T</td><td>0.020068</td><td> 0.002374400</td><td>0.00352758</td><td>0.5008850</td><td>365499</td><td> 0.0172606</td><td>0.0356208</td><td>0.6279846</td><td>336074</td><td> 0.0056139512</td><td>0.008340491</td></tr>\n",
       "\t<tr><th scope=row>44</th><td>rs58651394 </td><td>T</td><td>C</td><td>0.010405</td><td> 0.006520910</td><td>0.00487527</td><td>0.1810439</td><td>365499</td><td> 0.1005150</td><td>0.0493825</td><td>0.0418071</td><td>336074</td><td> 0.0154170254</td><td>0.011526330</td></tr>\n",
       "\t<tr><th scope=row>51</th><td>rs62451072 </td><td>T</td><td>G</td><td>0.050026</td><td>-0.000364629</td><td>0.00226674</td><td>0.8722032</td><td>365499</td><td> 0.0308995</td><td>0.0228575</td><td>0.1764302</td><td>336074</td><td>-0.0008630533</td><td>0.005365227</td></tr>\n",
       "</tbody>\n",
       "</table>\n"
      ],
      "text/latex": [
       "A data.frame: 6 × 14\n",
       "\\begin{tabular}{r|llllllllllllll}\n",
       "  & SNP & a1 & a2 & a1\\_freq & bzx & bzx\\_se & bzx\\_pval & bzx\\_n & bzy & bzy\\_se & bzy\\_pval & bzy\\_n & std\\_bzx & std\\_bzx\\_se\\\\\n",
       "  & <chr> & <chr> & <chr> & <dbl> & <dbl> & <dbl> & <dbl> & <int> & <dbl> & <dbl> & <dbl> & <int> & <dbl> & <dbl>\\\\\n",
       "\\hline\n",
       "\t3 & rs73075348  & G & A & 0.056610 & -0.002466700 & 0.00213852 & 0.2487196 & 365499 &  0.0162246 & 0.0215218 & 0.4509278 & 336074 & -0.0058378364 & 0.005061146\\\\\n",
       "\t24 & rs112759592 & C & G & 0.037982 & -0.001038050 & 0.00258446 & 0.6879407 & 365499 & -0.0110040 & 0.0260792 & 0.6730650 & 336074 & -0.0024575918 & 0.006118730\\\\\n",
       "\t30 & rs10281008  & G & A & 0.103474 & -0.003913590 & 0.00162312 & 0.0159023 & 365499 &  0.0126663 & 0.0163541 & 0.4386337 & 336074 & -0.0092590427 & 0.003840090\\\\\n",
       "\t36 & rs117933100 & C & T & 0.020068 &  0.002374400 & 0.00352758 & 0.5008850 & 365499 &  0.0172606 & 0.0356208 & 0.6279846 & 336074 &  0.0056139512 & 0.008340491\\\\\n",
       "\t44 & rs58651394  & T & C & 0.010405 &  0.006520910 & 0.00487527 & 0.1810439 & 365499 &  0.1005150 & 0.0493825 & 0.0418071 & 336074 &  0.0154170254 & 0.011526330\\\\\n",
       "\t51 & rs62451072  & T & G & 0.050026 & -0.000364629 & 0.00226674 & 0.8722032 & 365499 &  0.0308995 & 0.0228575 & 0.1764302 & 336074 & -0.0008630533 & 0.005365227\\\\\n",
       "\\end{tabular}\n"
      ],
      "text/markdown": [
       "\n",
       "A data.frame: 6 × 14\n",
       "\n",
       "| <!--/--> | SNP &lt;chr&gt; | a1 &lt;chr&gt; | a2 &lt;chr&gt; | a1_freq &lt;dbl&gt; | bzx &lt;dbl&gt; | bzx_se &lt;dbl&gt; | bzx_pval &lt;dbl&gt; | bzx_n &lt;int&gt; | bzy &lt;dbl&gt; | bzy_se &lt;dbl&gt; | bzy_pval &lt;dbl&gt; | bzy_n &lt;int&gt; | std_bzx &lt;dbl&gt; | std_bzx_se &lt;dbl&gt; |\n",
       "|---|---|---|---|---|---|---|---|---|---|---|---|---|---|---|\n",
       "| 3 | rs73075348  | G | A | 0.056610 | -0.002466700 | 0.00213852 | 0.2487196 | 365499 |  0.0162246 | 0.0215218 | 0.4509278 | 336074 | -0.0058378364 | 0.005061146 |\n",
       "| 24 | rs112759592 | C | G | 0.037982 | -0.001038050 | 0.00258446 | 0.6879407 | 365499 | -0.0110040 | 0.0260792 | 0.6730650 | 336074 | -0.0024575918 | 0.006118730 |\n",
       "| 30 | rs10281008  | G | A | 0.103474 | -0.003913590 | 0.00162312 | 0.0159023 | 365499 |  0.0126663 | 0.0163541 | 0.4386337 | 336074 | -0.0092590427 | 0.003840090 |\n",
       "| 36 | rs117933100 | C | T | 0.020068 |  0.002374400 | 0.00352758 | 0.5008850 | 365499 |  0.0172606 | 0.0356208 | 0.6279846 | 336074 |  0.0056139512 | 0.008340491 |\n",
       "| 44 | rs58651394  | T | C | 0.010405 |  0.006520910 | 0.00487527 | 0.1810439 | 365499 |  0.1005150 | 0.0493825 | 0.0418071 | 336074 |  0.0154170254 | 0.011526330 |\n",
       "| 51 | rs62451072  | T | G | 0.050026 | -0.000364629 | 0.00226674 | 0.8722032 | 365499 |  0.0308995 | 0.0228575 | 0.1764302 | 336074 | -0.0008630533 | 0.005365227 |\n",
       "\n"
      ],
      "text/plain": [
       "   SNP         a1 a2 a1_freq  bzx          bzx_se     bzx_pval  bzx_n \n",
       "3  rs73075348  G  A  0.056610 -0.002466700 0.00213852 0.2487196 365499\n",
       "24 rs112759592 C  G  0.037982 -0.001038050 0.00258446 0.6879407 365499\n",
       "30 rs10281008  G  A  0.103474 -0.003913590 0.00162312 0.0159023 365499\n",
       "36 rs117933100 C  T  0.020068  0.002374400 0.00352758 0.5008850 365499\n",
       "44 rs58651394  T  C  0.010405  0.006520910 0.00487527 0.1810439 365499\n",
       "51 rs62451072  T  G  0.050026 -0.000364629 0.00226674 0.8722032 365499\n",
       "   bzy        bzy_se    bzy_pval  bzy_n  std_bzx       std_bzx_se \n",
       "3   0.0162246 0.0215218 0.4509278 336074 -0.0058378364 0.005061146\n",
       "24 -0.0110040 0.0260792 0.6730650 336074 -0.0024575918 0.006118730\n",
       "30  0.0126663 0.0163541 0.4386337 336074 -0.0092590427 0.003840090\n",
       "36  0.0172606 0.0356208 0.6279846 336074  0.0056139512 0.008340491\n",
       "44  0.1005150 0.0493825 0.0418071 336074  0.0154170254 0.011526330\n",
       "51  0.0308995 0.0228575 0.1764302 336074 -0.0008630533 0.005365227"
      ]
     },
     "metadata": {},
     "output_type": "display_data"
    }
   ],
   "source": [
    "snpfreq = gsmr_data$a1_freq             # allele frequencies of the SNPs\n",
    "bzx = gsmr_data$bzx     # effects of the instruments on risk factor\n",
    "bzx_se = gsmr_data$bzx_se       # standard errors of bzx\n",
    "bzx_n = gsmr_data$bzx_n          # GWAS sample size for the risk factor\n",
    "std_zx = std_effect(snpfreq, bzx, bzx_se, bzx_n)    # perform standardisation\n",
    "gsmr_data$std_bzx = std_zx$b    # standardized bzx\n",
    "gsmr_data$std_bzx_se = std_zx$se    # standardized bzx_se\n",
    "head(gsmr_data)"
   ]
  },
  {
   "cell_type": "code",
   "execution_count": null,
   "id": "d965b855-8b9a-4f4e-8d8e-0847a483ca9a",
   "metadata": {},
   "outputs": [],
   "source": [
    "# GSMR (forward) analysis between waist and t2d"
   ]
  },
  {
   "cell_type": "code",
   "execution_count": 46,
   "id": "469dba80-d19b-4fc0-a587-a1b03beca038",
   "metadata": {
    "kernel": "SoS"
   },
   "outputs": [
    {
     "name": "stderr",
     "output_type": "stream",
     "text": [
      "GSMR analysis: 96 instruments loaded.\n",
      "\n",
      "There are 96 SNPs in the dataset.\n",
      "\n",
      "Warning message in filter_summdat(snpid, bzx, bzx_se, bzx_pval, bzy, bzy_se, bzy_pval, :\n",
      "“81 non-significant SNPs were removed.”\n",
      "Warning message in filter_summdat(snpid, bzx, bzx_se, bzx_pval, bzy, bzy_se, bzy_pval, :\n",
      "“There were SNPs in high LD. After LD pruning with a LD r2 threshold of 0.6, 7 SNPs were removed. Note: The threshold of LD can be changed by the \"ld_r2_thresh\".”\n",
      "8 SNPs were retained after filtering.\n",
      "\n",
      "5 SNPs were retained after the HEIDI-outlier analysis.\n",
      "\n",
      "Estimating bxy using all the remaining instruments.\n",
      "\n",
      "GSMR analysis is completed.\n",
      "\n"
     ]
    },
    {
     "name": "stdout",
     "output_type": "stream",
     "text": [
      "The estimated effect of the exposure on outcome:  2.628154"
     ]
    }
   ],
   "source": [
    "bzx = gsmr_data$std_bzx    # SNP effects on the risk factor\n",
    "bzx_se = gsmr_data$std_bzx_se    # standard errors of bzx\n",
    "bzx_pval = gsmr_data$bzx_pval   # p-values for bzx\n",
    "bzy = gsmr_data$bzy    # SNP effects on the disease\n",
    "bzy_se = gsmr_data$bzy_se    # standard errors of bzy\n",
    "bzy_pval = gsmr_data$bzy_pval    # p-values for bzy\n",
    "n_ref = 487409    # Sample size of the reference sample # 487409 individuals in the sample file\n",
    "gwas_thresh = 5e-8    # GWAS threshold to select SNPs as the instruments for the GSMR analysis\n",
    "single_snp_heidi_thresh = 0.01    # p-value threshold for single-SNP-based HEIDI-outlier analysis\n",
    "multi_snp_heidi_thresh = 0.01    # p-value threshold for multi-SNP-based HEIDI-outlier analysis\n",
    "nsnps_thresh = 5   # the minimum number of instruments required for the GSMR analysis\n",
    "heidi_outlier_flag = T    # flag for HEIDI-outlier analysis\n",
    "ld_r2_thresh = 0.6   # LD r2 threshold to remove SNPs in high LD\n",
    "ld_fdr_thresh = 0.05   # FDR threshold to remove the chance correlations between the SNP instruments\n",
    "gsmr2_beta = 0     # 0 - the original HEIDI-outlier method; 1 - the new HEIDI-outlier method that is currently under development \n",
    "gsmr_results = gsmr(bzx, bzx_se, bzx_pval, bzy, bzy_se, bzy_pval, ldrho, snp_coeff_id, n_ref, heidi_outlier_flag, gwas_thresh, single_snp_heidi_thresh, multi_snp_heidi_thresh, nsnps_thresh, ld_r2_thresh, ld_fdr_thresh, gsmr2_beta)    # GSMR analysis \n",
    "filtered_index=gsmr_results$used_index\n",
    "cat(\"The estimated effect of the exposure on outcome: \",gsmr_results$bxy)"
   ]
  },
  {
   "cell_type": "code",
   "execution_count": 18,
   "id": "557762dd-9b56-4786-a3c2-395160c8d04c",
   "metadata": {
    "kernel": "SoS"
   },
   "outputs": [
    {
     "name": "stdout",
     "output_type": "stream",
     "text": [
      "Standard error of bxy:  0.3967818"
     ]
    }
   ],
   "source": [
    "cat(\"Standard error of bxy: \",gsmr_results$bxy_se)"
   ]
  },
  {
   "cell_type": "code",
   "execution_count": 19,
   "id": "8ce906d2-3fdb-419f-a0de-817a284dd9c5",
   "metadata": {
    "kernel": "SoS"
   },
   "outputs": [
    {
     "name": "stdout",
     "output_type": "stream",
     "text": [
      "P-value for bxy:  3.503761e-11"
     ]
    }
   ],
   "source": [
    "cat(\"P-value for bxy: \", gsmr_results$bxy_pval)"
   ]
  },
  {
   "cell_type": "code",
   "execution_count": 20,
   "id": "05f5232e-beb5-4b68-8d41-7af88cf275d4",
   "metadata": {
    "kernel": "SoS"
   },
   "outputs": [
    {
     "name": "stdout",
     "output_type": "stream",
     "text": [
      "Indexes of the SNPs used in the GSMR analysis:  64 65 73 78 88 ..."
     ]
    }
   ],
   "source": [
    "cat(\"Indexes of the SNPs used in the GSMR analysis: \", gsmr_results$used_index[1:5], \"...\")"
   ]
  },
  {
   "cell_type": "code",
   "execution_count": 21,
   "id": "2af942ee-2ef8-465e-89dc-0f3e1b51ae7c",
   "metadata": {
    "kernel": "SoS"
   },
   "outputs": [
    {
     "name": "stdout",
     "output_type": "stream",
     "text": [
      "Number of SNPs with missing estimates in the summary data:  0"
     ]
    }
   ],
   "source": [
    "cat(\"Number of SNPs with missing estimates in the summary data: \", length(gsmr_results$na_snps))"
   ]
  },
  {
   "cell_type": "code",
   "execution_count": 22,
   "id": "d086f31d-1c14-4884-8b13-660da0493e3a",
   "metadata": {
    "kernel": "SoS"
   },
   "outputs": [
    {
     "name": "stdout",
     "output_type": "stream",
     "text": [
      "Number of non-significant SNPs:  81"
     ]
    }
   ],
   "source": [
    "cat(\"Number of non-significant SNPs: \", length(gsmr_results$weak_snps))"
   ]
  },
  {
   "cell_type": "code",
   "execution_count": 23,
   "id": "e830baa7-19ca-4286-8bf1-a64b2d034781",
   "metadata": {
    "kernel": "SoS"
   },
   "outputs": [
    {
     "name": "stdout",
     "output_type": "stream",
     "text": [
      "Number of SNPs in high LD ( LD rsq > 0.6 ):  7"
     ]
    }
   ],
   "source": [
    "cat(\"Number of SNPs in high LD ( LD rsq >\", ld_r2_thresh, \"): \", length(gsmr_results$linkage_snps))"
   ]
  },
  {
   "cell_type": "code",
   "execution_count": 24,
   "id": "20827859-ff80-4ec3-bf51-8e510d139906",
   "metadata": {
    "kernel": "SoS"
   },
   "outputs": [
    {
     "name": "stdout",
     "output_type": "stream",
     "text": [
      "Number of pleiotropic outliers:  3"
     ]
    }
   ],
   "source": [
    "cat(\"Number of pleiotropic outliers: \", length(gsmr_results$pleio_snps))"
   ]
  },
  {
   "cell_type": "code",
   "execution_count": 27,
   "id": "523612f9-e397-4213-a1ad-0af465341ab8",
   "metadata": {
    "kernel": "SoS"
   },
   "outputs": [
    {
     "data": {
      "text/html": [
       "<dl>\n",
       "\t<dt>$bxy</dt>\n",
       "\t\t<dd>2.62815405328187</dd>\n",
       "\t<dt>$bxy_se</dt>\n",
       "\t\t<dd>0.396781839687045</dd>\n",
       "\t<dt>$bxy_pval</dt>\n",
       "\t\t<dd>3.50376066965106e-11</dd>\n",
       "\t<dt>$used_index</dt>\n",
       "\t\t<dd><style>\n",
       ".list-inline {list-style: none; margin:0; padding: 0}\n",
       ".list-inline>li {display: inline-block}\n",
       ".list-inline>li:not(:last-child)::after {content: \"\\00b7\"; padding: 0 .5ex}\n",
       "</style>\n",
       "<ol class=list-inline><li>64</li><li>65</li><li>73</li><li>78</li><li>88</li></ol>\n",
       "</dd>\n",
       "\t<dt>$na_snps</dt>\n",
       "\t\t<dd>NULL</dd>\n",
       "\t<dt>$weak_snps</dt>\n",
       "\t\t<dd><style>\n",
       ".list-inline {list-style: none; margin:0; padding: 0}\n",
       ".list-inline>li {display: inline-block}\n",
       ".list-inline>li:not(:last-child)::after {content: \"\\00b7\"; padding: 0 .5ex}\n",
       "</style>\n",
       "<ol class=list-inline><li>'rs73075348'</li><li>'rs112759592'</li><li>'rs10281008'</li><li>'rs117933100'</li><li>'rs58651394'</li><li>'rs62451072'</li><li>'rs17620013'</li><li>'rs17692895'</li><li>'rs73083371'</li><li>'rs116990708'</li><li>'rs58753113'</li><li>'rs720659'</li><li>'rs10452749'</li><li>'rs80197206'</li><li>'rs73083390'</li><li>'rs10232181'</li><li>'rs7806217'</li><li>'rs193'</li><li>'rs17156005'</li><li>'rs67705163'</li><li>'rs10486567'</li><li>'rs3919460'</li><li>'rs117034173'</li><li>'rs28657749'</li><li>'rs17156078'</li><li>'rs62451150'</li><li>'rs78975149'</li><li>'rs61648985'</li><li>'rs10237946'</li><li>'rs79909443'</li><li>'rs253310'</li><li>'rs116974921'</li><li>'rs117929884'</li><li>'rs73301337'</li><li>'rs12671522'</li><li>'rs77214245'</li><li>'rs6956423'</li><li>'rs118186994'</li><li>'rs77046554'</li><li>'rs17623527'</li><li>'rs11763515'</li><li>'rs6945134'</li><li>'rs17156127'</li><li>'rs56311485'</li><li>'rs12536791'</li><li>'rs112914067'</li><li>'rs117621905'</li><li>'rs76334155'</li><li>'rs34325103'</li><li>'rs35053797'</li><li>'rs17624621'</li><li>'rs6462063'</li><li>'rs74756543'</li><li>'rs62449904'</li><li>'rs10268254'</li><li>'rs10486576'</li><li>'rs41535351'</li><li>'rs111519725'</li><li>'rs13234714'</li><li>'rs113404264'</li><li>'rs6977730'</li><li>'rs76730676'</li><li>'rs75040112'</li><li>'rs73072534'</li><li>'rs77740984'</li><li>'rs57585717'</li><li>'rs78856909'</li><li>'rs62449907'</li><li>'rs62449929'</li><li>'rs2189965'</li><li>'rs113735840'</li><li>'rs4719925'</li><li>'rs79013867'</li><li>'rs1513270'</li><li>'rs73078484'</li><li>'rs58462233'</li><li>'rs56142710'</li><li>'rs73076597'</li><li>'rs478266'</li><li>'rs475615'</li><li>'rs849325'</li></ol>\n",
       "</dd>\n",
       "</dl>\n"
      ],
      "text/latex": [
       "\\begin{description}\n",
       "\\item[\\$bxy] 2.62815405328187\n",
       "\\item[\\$bxy\\_se] 0.396781839687045\n",
       "\\item[\\$bxy\\_pval] 3.50376066965106e-11\n",
       "\\item[\\$used\\_index] \\begin{enumerate*}\n",
       "\\item 64\n",
       "\\item 65\n",
       "\\item 73\n",
       "\\item 78\n",
       "\\item 88\n",
       "\\end{enumerate*}\n",
       "\n",
       "\\item[\\$na\\_snps] NULL\n",
       "\\item[\\$weak\\_snps] \\begin{enumerate*}\n",
       "\\item 'rs73075348'\n",
       "\\item 'rs112759592'\n",
       "\\item 'rs10281008'\n",
       "\\item 'rs117933100'\n",
       "\\item 'rs58651394'\n",
       "\\item 'rs62451072'\n",
       "\\item 'rs17620013'\n",
       "\\item 'rs17692895'\n",
       "\\item 'rs73083371'\n",
       "\\item 'rs116990708'\n",
       "\\item 'rs58753113'\n",
       "\\item 'rs720659'\n",
       "\\item 'rs10452749'\n",
       "\\item 'rs80197206'\n",
       "\\item 'rs73083390'\n",
       "\\item 'rs10232181'\n",
       "\\item 'rs7806217'\n",
       "\\item 'rs193'\n",
       "\\item 'rs17156005'\n",
       "\\item 'rs67705163'\n",
       "\\item 'rs10486567'\n",
       "\\item 'rs3919460'\n",
       "\\item 'rs117034173'\n",
       "\\item 'rs28657749'\n",
       "\\item 'rs17156078'\n",
       "\\item 'rs62451150'\n",
       "\\item 'rs78975149'\n",
       "\\item 'rs61648985'\n",
       "\\item 'rs10237946'\n",
       "\\item 'rs79909443'\n",
       "\\item 'rs253310'\n",
       "\\item 'rs116974921'\n",
       "\\item 'rs117929884'\n",
       "\\item 'rs73301337'\n",
       "\\item 'rs12671522'\n",
       "\\item 'rs77214245'\n",
       "\\item 'rs6956423'\n",
       "\\item 'rs118186994'\n",
       "\\item 'rs77046554'\n",
       "\\item 'rs17623527'\n",
       "\\item 'rs11763515'\n",
       "\\item 'rs6945134'\n",
       "\\item 'rs17156127'\n",
       "\\item 'rs56311485'\n",
       "\\item 'rs12536791'\n",
       "\\item 'rs112914067'\n",
       "\\item 'rs117621905'\n",
       "\\item 'rs76334155'\n",
       "\\item 'rs34325103'\n",
       "\\item 'rs35053797'\n",
       "\\item 'rs17624621'\n",
       "\\item 'rs6462063'\n",
       "\\item 'rs74756543'\n",
       "\\item 'rs62449904'\n",
       "\\item 'rs10268254'\n",
       "\\item 'rs10486576'\n",
       "\\item 'rs41535351'\n",
       "\\item 'rs111519725'\n",
       "\\item 'rs13234714'\n",
       "\\item 'rs113404264'\n",
       "\\item 'rs6977730'\n",
       "\\item 'rs76730676'\n",
       "\\item 'rs75040112'\n",
       "\\item 'rs73072534'\n",
       "\\item 'rs77740984'\n",
       "\\item 'rs57585717'\n",
       "\\item 'rs78856909'\n",
       "\\item 'rs62449907'\n",
       "\\item 'rs62449929'\n",
       "\\item 'rs2189965'\n",
       "\\item 'rs113735840'\n",
       "\\item 'rs4719925'\n",
       "\\item 'rs79013867'\n",
       "\\item 'rs1513270'\n",
       "\\item 'rs73078484'\n",
       "\\item 'rs58462233'\n",
       "\\item 'rs56142710'\n",
       "\\item 'rs73076597'\n",
       "\\item 'rs478266'\n",
       "\\item 'rs475615'\n",
       "\\item 'rs849325'\n",
       "\\end{enumerate*}\n",
       "\n",
       "\\end{description}\n"
      ],
      "text/markdown": [
       "$bxy\n",
       ":   2.62815405328187\n",
       "$bxy_se\n",
       ":   0.396781839687045\n",
       "$bxy_pval\n",
       ":   3.50376066965106e-11\n",
       "$used_index\n",
       ":   1. 64\n",
       "2. 65\n",
       "3. 73\n",
       "4. 78\n",
       "5. 88\n",
       "\n",
       "\n",
       "\n",
       "$na_snps\n",
       ":   NULL\n",
       "$weak_snps\n",
       ":   1. 'rs73075348'\n",
       "2. 'rs112759592'\n",
       "3. 'rs10281008'\n",
       "4. 'rs117933100'\n",
       "5. 'rs58651394'\n",
       "6. 'rs62451072'\n",
       "7. 'rs17620013'\n",
       "8. 'rs17692895'\n",
       "9. 'rs73083371'\n",
       "10. 'rs116990708'\n",
       "11. 'rs58753113'\n",
       "12. 'rs720659'\n",
       "13. 'rs10452749'\n",
       "14. 'rs80197206'\n",
       "15. 'rs73083390'\n",
       "16. 'rs10232181'\n",
       "17. 'rs7806217'\n",
       "18. 'rs193'\n",
       "19. 'rs17156005'\n",
       "20. 'rs67705163'\n",
       "21. 'rs10486567'\n",
       "22. 'rs3919460'\n",
       "23. 'rs117034173'\n",
       "24. 'rs28657749'\n",
       "25. 'rs17156078'\n",
       "26. 'rs62451150'\n",
       "27. 'rs78975149'\n",
       "28. 'rs61648985'\n",
       "29. 'rs10237946'\n",
       "30. 'rs79909443'\n",
       "31. 'rs253310'\n",
       "32. 'rs116974921'\n",
       "33. 'rs117929884'\n",
       "34. 'rs73301337'\n",
       "35. 'rs12671522'\n",
       "36. 'rs77214245'\n",
       "37. 'rs6956423'\n",
       "38. 'rs118186994'\n",
       "39. 'rs77046554'\n",
       "40. 'rs17623527'\n",
       "41. 'rs11763515'\n",
       "42. 'rs6945134'\n",
       "43. 'rs17156127'\n",
       "44. 'rs56311485'\n",
       "45. 'rs12536791'\n",
       "46. 'rs112914067'\n",
       "47. 'rs117621905'\n",
       "48. 'rs76334155'\n",
       "49. 'rs34325103'\n",
       "50. 'rs35053797'\n",
       "51. 'rs17624621'\n",
       "52. 'rs6462063'\n",
       "53. 'rs74756543'\n",
       "54. 'rs62449904'\n",
       "55. 'rs10268254'\n",
       "56. 'rs10486576'\n",
       "57. 'rs41535351'\n",
       "58. 'rs111519725'\n",
       "59. 'rs13234714'\n",
       "60. 'rs113404264'\n",
       "61. 'rs6977730'\n",
       "62. 'rs76730676'\n",
       "63. 'rs75040112'\n",
       "64. 'rs73072534'\n",
       "65. 'rs77740984'\n",
       "66. 'rs57585717'\n",
       "67. 'rs78856909'\n",
       "68. 'rs62449907'\n",
       "69. 'rs62449929'\n",
       "70. 'rs2189965'\n",
       "71. 'rs113735840'\n",
       "72. 'rs4719925'\n",
       "73. 'rs79013867'\n",
       "74. 'rs1513270'\n",
       "75. 'rs73078484'\n",
       "76. 'rs58462233'\n",
       "77. 'rs56142710'\n",
       "78. 'rs73076597'\n",
       "79. 'rs478266'\n",
       "80. 'rs475615'\n",
       "81. 'rs849325'\n",
       "\n",
       "\n",
       "\n",
       "\n",
       "\n"
      ],
      "text/plain": [
       "$bxy\n",
       "[1] 2.628154\n",
       "\n",
       "$bxy_se\n",
       "[1] 0.3967818\n",
       "\n",
       "$bxy_pval\n",
       "[1] 3.503761e-11\n",
       "\n",
       "$used_index\n",
       "[1] 64 65 73 78 88\n",
       "\n",
       "$na_snps\n",
       "NULL\n",
       "\n",
       "$weak_snps\n",
       " [1] \"rs73075348\"  \"rs112759592\" \"rs10281008\"  \"rs117933100\" \"rs58651394\" \n",
       " [6] \"rs62451072\"  \"rs17620013\"  \"rs17692895\"  \"rs73083371\"  \"rs116990708\"\n",
       "[11] \"rs58753113\"  \"rs720659\"    \"rs10452749\"  \"rs80197206\"  \"rs73083390\" \n",
       "[16] \"rs10232181\"  \"rs7806217\"   \"rs193\"       \"rs17156005\"  \"rs67705163\" \n",
       "[21] \"rs10486567\"  \"rs3919460\"   \"rs117034173\" \"rs28657749\"  \"rs17156078\" \n",
       "[26] \"rs62451150\"  \"rs78975149\"  \"rs61648985\"  \"rs10237946\"  \"rs79909443\" \n",
       "[31] \"rs253310\"    \"rs116974921\" \"rs117929884\" \"rs73301337\"  \"rs12671522\" \n",
       "[36] \"rs77214245\"  \"rs6956423\"   \"rs118186994\" \"rs77046554\"  \"rs17623527\" \n",
       "[41] \"rs11763515\"  \"rs6945134\"   \"rs17156127\"  \"rs56311485\"  \"rs12536791\" \n",
       "[46] \"rs112914067\" \"rs117621905\" \"rs76334155\"  \"rs34325103\"  \"rs35053797\" \n",
       "[51] \"rs17624621\"  \"rs6462063\"   \"rs74756543\"  \"rs62449904\"  \"rs10268254\" \n",
       "[56] \"rs10486576\"  \"rs41535351\"  \"rs111519725\" \"rs13234714\"  \"rs113404264\"\n",
       "[61] \"rs6977730\"   \"rs76730676\"  \"rs75040112\"  \"rs73072534\"  \"rs77740984\" \n",
       "[66] \"rs57585717\"  \"rs78856909\"  \"rs62449907\"  \"rs62449929\"  \"rs2189965\"  \n",
       "[71] \"rs113735840\" \"rs4719925\"   \"rs79013867\"  \"rs1513270\"   \"rs73078484\" \n",
       "[76] \"rs58462233\"  \"rs56142710\"  \"rs73076597\"  \"rs478266\"    \"rs475615\"   \n",
       "[81] \"rs849325\"   \n"
      ]
     },
     "metadata": {},
     "output_type": "display_data"
    }
   ],
   "source": [
    "head(gsmr_results)"
   ]
  },
  {
   "cell_type": "markdown",
   "id": "91aa32c7-92aa-4cdb-a2cd-2aed2a35ad25",
   "metadata": {},
   "source": [
    "## Waist vs asthma"
   ]
  },
  {
   "cell_type": "code",
   "execution_count": 55,
   "id": "0123fdb4-7bf1-4286-be1a-a30f90f62213",
   "metadata": {},
   "outputs": [],
   "source": [
    "gsmr_data <- read.csv(\"waist_v_asthma_gsmr_data\", sep=\" \")"
   ]
  },
  {
   "cell_type": "code",
   "execution_count": 56,
   "id": "ddc8cb34-a6f7-4bf4-878e-5332b0ad681d",
   "metadata": {},
   "outputs": [],
   "source": [
    "snp_coeff_id = scan(\"/mnt/mfs/statgen/bst2126/pleiotropy/JAZF1_sum/waist_v_asthma_gcta64.result.xmat.gz\", what=\"\", nlines=1)\n",
    "snp_coeff = read.table(\"/mnt/mfs/statgen/bst2126/pleiotropy/JAZF1_sum/waist_v_asthma_gcta64.result.xmat.gz\", header=F, skip=2)"
   ]
  },
  {
   "cell_type": "code",
   "execution_count": 57,
   "id": "3ef9f7f2-618b-44f5-9ead-a68007fb2558",
   "metadata": {},
   "outputs": [
    {
     "data": {
      "text/html": [
       "<style>\n",
       ".list-inline {list-style: none; margin:0; padding: 0}\n",
       ".list-inline>li {display: inline-block}\n",
       ".list-inline>li:not(:last-child)::after {content: \"\\00b7\"; padding: 0 .5ex}\n",
       "</style>\n",
       "<ol class=list-inline><li>'rs73075348'</li><li>'rs112759592'</li><li>'rs10281008'</li><li>'rs117933100'</li><li>'rs58651394'</li><li>'rs62451072'</li><li>'rs17620013'</li><li>'rs17692895'</li><li>'rs73083371'</li><li>'rs116990708'</li><li>'rs58753113'</li><li>'rs720659'</li><li>'rs10452749'</li><li>'rs80197206'</li><li>'rs73083390'</li><li>'rs10232181'</li><li>'rs7806217'</li><li>'rs193'</li><li>'rs17156005'</li><li>'rs67705163'</li><li>'rs10486567'</li><li>'rs3919460'</li><li>'rs117034173'</li><li>'rs28657749'</li><li>'rs17156078'</li><li>'rs62451150'</li><li>'rs78975149'</li><li>'rs61648985'</li><li>'rs10237946'</li><li>'rs79909443'</li><li>'rs253310'</li><li>'rs116974921'</li><li>'rs117929884'</li><li>'rs73301337'</li><li>'rs12671522'</li><li>'rs77214245'</li><li>'rs6956423'</li><li>'rs118186994'</li><li>'rs77046554'</li><li>'rs17623527'</li><li>'rs11763515'</li><li>'rs6945134'</li><li>'rs17156127'</li><li>'rs56311485'</li><li>'rs12536791'</li><li>'rs112914067'</li><li>'rs117621905'</li><li>'rs76334155'</li><li>'rs34325103'</li><li>'rs35053797'</li><li>'rs17624621'</li><li>'rs6462063'</li><li>'rs74756543'</li><li>'rs62449904'</li><li>'rs10268254'</li><li>'rs10486576'</li><li>'rs41535351'</li><li>'rs111519725'</li><li>'rs13234714'</li><li>'rs113404264'</li><li>'rs6977730'</li><li>'rs76730676'</li><li>'rs75040112'</li><li>'rs10274928'</li><li>'rs2158623'</li><li>'rs73072534'</li><li>'rs77740984'</li><li>'rs757729'</li><li>'rs57585717'</li><li>'rs78856909'</li><li>'rs4722759'</li><li>'rs62449907'</li><li>'rs6962289'</li><li>'rs62449929'</li><li>'rs2189965'</li><li>'rs113735840'</li><li>'rs864745'</li><li>'rs849140'</li><li>'rs849141'</li><li>'rs4719925'</li><li>'rs1635852'</li><li>'rs1708299'</li><li>'rs79013867'</li><li>'rs530649'</li><li>'rs520161'</li><li>'rs849335'</li><li>'rs550448'</li><li>'rs849315'</li><li>'rs1513270'</li><li>'rs73078484'</li><li>'rs58462233'</li><li>'rs56142710'</li><li>'rs73076597'</li><li>'rs478266'</li><li>'rs475615'</li><li>'rs849325'</li></ol>\n"
      ],
      "text/latex": [
       "\\begin{enumerate*}\n",
       "\\item 'rs73075348'\n",
       "\\item 'rs112759592'\n",
       "\\item 'rs10281008'\n",
       "\\item 'rs117933100'\n",
       "\\item 'rs58651394'\n",
       "\\item 'rs62451072'\n",
       "\\item 'rs17620013'\n",
       "\\item 'rs17692895'\n",
       "\\item 'rs73083371'\n",
       "\\item 'rs116990708'\n",
       "\\item 'rs58753113'\n",
       "\\item 'rs720659'\n",
       "\\item 'rs10452749'\n",
       "\\item 'rs80197206'\n",
       "\\item 'rs73083390'\n",
       "\\item 'rs10232181'\n",
       "\\item 'rs7806217'\n",
       "\\item 'rs193'\n",
       "\\item 'rs17156005'\n",
       "\\item 'rs67705163'\n",
       "\\item 'rs10486567'\n",
       "\\item 'rs3919460'\n",
       "\\item 'rs117034173'\n",
       "\\item 'rs28657749'\n",
       "\\item 'rs17156078'\n",
       "\\item 'rs62451150'\n",
       "\\item 'rs78975149'\n",
       "\\item 'rs61648985'\n",
       "\\item 'rs10237946'\n",
       "\\item 'rs79909443'\n",
       "\\item 'rs253310'\n",
       "\\item 'rs116974921'\n",
       "\\item 'rs117929884'\n",
       "\\item 'rs73301337'\n",
       "\\item 'rs12671522'\n",
       "\\item 'rs77214245'\n",
       "\\item 'rs6956423'\n",
       "\\item 'rs118186994'\n",
       "\\item 'rs77046554'\n",
       "\\item 'rs17623527'\n",
       "\\item 'rs11763515'\n",
       "\\item 'rs6945134'\n",
       "\\item 'rs17156127'\n",
       "\\item 'rs56311485'\n",
       "\\item 'rs12536791'\n",
       "\\item 'rs112914067'\n",
       "\\item 'rs117621905'\n",
       "\\item 'rs76334155'\n",
       "\\item 'rs34325103'\n",
       "\\item 'rs35053797'\n",
       "\\item 'rs17624621'\n",
       "\\item 'rs6462063'\n",
       "\\item 'rs74756543'\n",
       "\\item 'rs62449904'\n",
       "\\item 'rs10268254'\n",
       "\\item 'rs10486576'\n",
       "\\item 'rs41535351'\n",
       "\\item 'rs111519725'\n",
       "\\item 'rs13234714'\n",
       "\\item 'rs113404264'\n",
       "\\item 'rs6977730'\n",
       "\\item 'rs76730676'\n",
       "\\item 'rs75040112'\n",
       "\\item 'rs10274928'\n",
       "\\item 'rs2158623'\n",
       "\\item 'rs73072534'\n",
       "\\item 'rs77740984'\n",
       "\\item 'rs757729'\n",
       "\\item 'rs57585717'\n",
       "\\item 'rs78856909'\n",
       "\\item 'rs4722759'\n",
       "\\item 'rs62449907'\n",
       "\\item 'rs6962289'\n",
       "\\item 'rs62449929'\n",
       "\\item 'rs2189965'\n",
       "\\item 'rs113735840'\n",
       "\\item 'rs864745'\n",
       "\\item 'rs849140'\n",
       "\\item 'rs849141'\n",
       "\\item 'rs4719925'\n",
       "\\item 'rs1635852'\n",
       "\\item 'rs1708299'\n",
       "\\item 'rs79013867'\n",
       "\\item 'rs530649'\n",
       "\\item 'rs520161'\n",
       "\\item 'rs849335'\n",
       "\\item 'rs550448'\n",
       "\\item 'rs849315'\n",
       "\\item 'rs1513270'\n",
       "\\item 'rs73078484'\n",
       "\\item 'rs58462233'\n",
       "\\item 'rs56142710'\n",
       "\\item 'rs73076597'\n",
       "\\item 'rs478266'\n",
       "\\item 'rs475615'\n",
       "\\item 'rs849325'\n",
       "\\end{enumerate*}\n"
      ],
      "text/markdown": [
       "1. 'rs73075348'\n",
       "2. 'rs112759592'\n",
       "3. 'rs10281008'\n",
       "4. 'rs117933100'\n",
       "5. 'rs58651394'\n",
       "6. 'rs62451072'\n",
       "7. 'rs17620013'\n",
       "8. 'rs17692895'\n",
       "9. 'rs73083371'\n",
       "10. 'rs116990708'\n",
       "11. 'rs58753113'\n",
       "12. 'rs720659'\n",
       "13. 'rs10452749'\n",
       "14. 'rs80197206'\n",
       "15. 'rs73083390'\n",
       "16. 'rs10232181'\n",
       "17. 'rs7806217'\n",
       "18. 'rs193'\n",
       "19. 'rs17156005'\n",
       "20. 'rs67705163'\n",
       "21. 'rs10486567'\n",
       "22. 'rs3919460'\n",
       "23. 'rs117034173'\n",
       "24. 'rs28657749'\n",
       "25. 'rs17156078'\n",
       "26. 'rs62451150'\n",
       "27. 'rs78975149'\n",
       "28. 'rs61648985'\n",
       "29. 'rs10237946'\n",
       "30. 'rs79909443'\n",
       "31. 'rs253310'\n",
       "32. 'rs116974921'\n",
       "33. 'rs117929884'\n",
       "34. 'rs73301337'\n",
       "35. 'rs12671522'\n",
       "36. 'rs77214245'\n",
       "37. 'rs6956423'\n",
       "38. 'rs118186994'\n",
       "39. 'rs77046554'\n",
       "40. 'rs17623527'\n",
       "41. 'rs11763515'\n",
       "42. 'rs6945134'\n",
       "43. 'rs17156127'\n",
       "44. 'rs56311485'\n",
       "45. 'rs12536791'\n",
       "46. 'rs112914067'\n",
       "47. 'rs117621905'\n",
       "48. 'rs76334155'\n",
       "49. 'rs34325103'\n",
       "50. 'rs35053797'\n",
       "51. 'rs17624621'\n",
       "52. 'rs6462063'\n",
       "53. 'rs74756543'\n",
       "54. 'rs62449904'\n",
       "55. 'rs10268254'\n",
       "56. 'rs10486576'\n",
       "57. 'rs41535351'\n",
       "58. 'rs111519725'\n",
       "59. 'rs13234714'\n",
       "60. 'rs113404264'\n",
       "61. 'rs6977730'\n",
       "62. 'rs76730676'\n",
       "63. 'rs75040112'\n",
       "64. 'rs10274928'\n",
       "65. 'rs2158623'\n",
       "66. 'rs73072534'\n",
       "67. 'rs77740984'\n",
       "68. 'rs757729'\n",
       "69. 'rs57585717'\n",
       "70. 'rs78856909'\n",
       "71. 'rs4722759'\n",
       "72. 'rs62449907'\n",
       "73. 'rs6962289'\n",
       "74. 'rs62449929'\n",
       "75. 'rs2189965'\n",
       "76. 'rs113735840'\n",
       "77. 'rs864745'\n",
       "78. 'rs849140'\n",
       "79. 'rs849141'\n",
       "80. 'rs4719925'\n",
       "81. 'rs1635852'\n",
       "82. 'rs1708299'\n",
       "83. 'rs79013867'\n",
       "84. 'rs530649'\n",
       "85. 'rs520161'\n",
       "86. 'rs849335'\n",
       "87. 'rs550448'\n",
       "88. 'rs849315'\n",
       "89. 'rs1513270'\n",
       "90. 'rs73078484'\n",
       "91. 'rs58462233'\n",
       "92. 'rs56142710'\n",
       "93. 'rs73076597'\n",
       "94. 'rs478266'\n",
       "95. 'rs475615'\n",
       "96. 'rs849325'\n",
       "\n",
       "\n"
      ],
      "text/plain": [
       " [1] \"rs73075348\"  \"rs112759592\" \"rs10281008\"  \"rs117933100\" \"rs58651394\" \n",
       " [6] \"rs62451072\"  \"rs17620013\"  \"rs17692895\"  \"rs73083371\"  \"rs116990708\"\n",
       "[11] \"rs58753113\"  \"rs720659\"    \"rs10452749\"  \"rs80197206\"  \"rs73083390\" \n",
       "[16] \"rs10232181\"  \"rs7806217\"   \"rs193\"       \"rs17156005\"  \"rs67705163\" \n",
       "[21] \"rs10486567\"  \"rs3919460\"   \"rs117034173\" \"rs28657749\"  \"rs17156078\" \n",
       "[26] \"rs62451150\"  \"rs78975149\"  \"rs61648985\"  \"rs10237946\"  \"rs79909443\" \n",
       "[31] \"rs253310\"    \"rs116974921\" \"rs117929884\" \"rs73301337\"  \"rs12671522\" \n",
       "[36] \"rs77214245\"  \"rs6956423\"   \"rs118186994\" \"rs77046554\"  \"rs17623527\" \n",
       "[41] \"rs11763515\"  \"rs6945134\"   \"rs17156127\"  \"rs56311485\"  \"rs12536791\" \n",
       "[46] \"rs112914067\" \"rs117621905\" \"rs76334155\"  \"rs34325103\"  \"rs35053797\" \n",
       "[51] \"rs17624621\"  \"rs6462063\"   \"rs74756543\"  \"rs62449904\"  \"rs10268254\" \n",
       "[56] \"rs10486576\"  \"rs41535351\"  \"rs111519725\" \"rs13234714\"  \"rs113404264\"\n",
       "[61] \"rs6977730\"   \"rs76730676\"  \"rs75040112\"  \"rs10274928\"  \"rs2158623\"  \n",
       "[66] \"rs73072534\"  \"rs77740984\"  \"rs757729\"    \"rs57585717\"  \"rs78856909\" \n",
       "[71] \"rs4722759\"   \"rs62449907\"  \"rs6962289\"   \"rs62449929\"  \"rs2189965\"  \n",
       "[76] \"rs113735840\" \"rs864745\"    \"rs849140\"    \"rs849141\"    \"rs4719925\"  \n",
       "[81] \"rs1635852\"   \"rs1708299\"   \"rs79013867\"  \"rs530649\"    \"rs520161\"   \n",
       "[86] \"rs849335\"    \"rs550448\"    \"rs849315\"    \"rs1513270\"   \"rs73078484\" \n",
       "[91] \"rs58462233\"  \"rs56142710\"  \"rs73076597\"  \"rs478266\"    \"rs475615\"   \n",
       "[96] \"rs849325\"   "
      ]
     },
     "metadata": {},
     "output_type": "display_data"
    }
   ],
   "source": [
    "# Match the SNP genotype data with the summary data\n",
    "snp_id = Reduce(intersect, list(gsmr_data$SNP, snp_coeff_id))\n",
    "snp_id"
   ]
  },
  {
   "cell_type": "code",
   "execution_count": 58,
   "id": "3e1b53b8-a0c9-44d9-b696-2ce6b3b6b0fa",
   "metadata": {},
   "outputs": [],
   "source": [
    "gsmr_data = gsmr_data[match(snp_id, gsmr_data$SNP),]"
   ]
  },
  {
   "cell_type": "code",
   "execution_count": 59,
   "id": "f9257942-2f4f-46fd-b379-3b5bd8bdade2",
   "metadata": {},
   "outputs": [],
   "source": [
    "snp_order = match(snp_id, snp_coeff_id)\n",
    "snp_coeff_id = snp_coeff_id[snp_order]\n",
    "snp_coeff = snp_coeff[, snp_order]"
   ]
  },
  {
   "cell_type": "code",
   "execution_count": 60,
   "id": "83f76722-cc6d-4cec-b50a-4ddf729df1e8",
   "metadata": {},
   "outputs": [
    {
     "data": {
      "text/html": [
       "67606"
      ],
      "text/latex": [
       "67606"
      ],
      "text/markdown": [
       "67606"
      ],
      "text/plain": [
       "[1] 67606"
      ]
     },
     "metadata": {},
     "output_type": "display_data"
    }
   ],
   "source": [
    "sum(is.na(snp_coeff)) #count NA snp coefficients if any."
   ]
  },
  {
   "cell_type": "code",
   "execution_count": 61,
   "id": "65c60284-6af2-43a9-ba56-b82a2ddf8d06",
   "metadata": {},
   "outputs": [],
   "source": [
    "snp_coeff[is.na(snp_coeff)] <- 0 # Recode NAs as 0."
   ]
  },
  {
   "cell_type": "code",
   "execution_count": 62,
   "id": "d1d7e423-0f95-4e18-9e9c-21a747a01353",
   "metadata": {},
   "outputs": [],
   "source": [
    "# Calculate the LD correlation matrix\n",
    "ldrho = cor(snp_coeff)"
   ]
  },
  {
   "cell_type": "code",
   "execution_count": 63,
   "id": "2a8ba0be-599b-4f43-8226-e19f8f7fd633",
   "metadata": {},
   "outputs": [],
   "source": [
    "# Check the size of the correlation matrix and double-check if the order of the SNPs in the LD correlation matrix is consistent with that in the GWAS summary data\n",
    "colnames(ldrho) = rownames(ldrho) = snp_coeff_id"
   ]
  },
  {
   "cell_type": "code",
   "execution_count": 64,
   "id": "15cca3ba-5dd3-4e43-8a04-eb8cba77fec2",
   "metadata": {},
   "outputs": [
    {
     "data": {
      "text/html": [
       "<table class=\"dataframe\">\n",
       "<caption>A matrix: 6 × 96 of type dbl</caption>\n",
       "<thead>\n",
       "\t<tr><th></th><th scope=col>rs73075348</th><th scope=col>rs112759592</th><th scope=col>rs10281008</th><th scope=col>rs117933100</th><th scope=col>rs58651394</th><th scope=col>rs62451072</th><th scope=col>rs17620013</th><th scope=col>rs17692895</th><th scope=col>rs73083371</th><th scope=col>rs116990708</th><th scope=col>⋯</th><th scope=col>rs550448</th><th scope=col>rs849315</th><th scope=col>rs1513270</th><th scope=col>rs73078484</th><th scope=col>rs58462233</th><th scope=col>rs56142710</th><th scope=col>rs73076597</th><th scope=col>rs478266</th><th scope=col>rs475615</th><th scope=col>rs849325</th></tr>\n",
       "</thead>\n",
       "<tbody>\n",
       "\t<tr><th scope=row>rs73075348</th><td> 1.00000000</td><td>-0.04041098</td><td>-0.07996557</td><td>-0.03335595</td><td>-0.02336440</td><td>-0.05488513</td><td>-0.03503106</td><td>-0.07178532</td><td>-0.08564629</td><td>-0.03307041</td><td>⋯</td><td>-0.012193881</td><td>-0.004231554</td><td>-0.012190839</td><td>-0.005024991</td><td>-0.009390126</td><td> 0.028835015</td><td> 0.02291125</td><td> 0.012771782</td><td> 0.021427349</td><td> 0.020983068</td></tr>\n",
       "\t<tr><th scope=row>rs112759592</th><td>-0.04041098</td><td> 1.00000000</td><td>-0.06602195</td><td>-0.02949000</td><td>-0.01981965</td><td>-0.04497065</td><td> 0.75275268</td><td>-0.06876986</td><td>-0.07115160</td><td>-0.02709303</td><td>⋯</td><td> 0.032784561</td><td> 0.038715861</td><td> 0.051126375</td><td>-0.019672099</td><td>-0.017216201</td><td> 0.064879467</td><td> 0.02914763</td><td> 0.031141599</td><td> 0.039552737</td><td> 0.038159101</td></tr>\n",
       "\t<tr><th scope=row>rs10281008</th><td>-0.07996557</td><td>-0.06602195</td><td> 1.00000000</td><td>-0.04834999</td><td>-0.03434119</td><td> 0.66899749</td><td>-0.05087862</td><td> 0.92509475</td><td>-0.11578063</td><td>-0.04488270</td><td>⋯</td><td> 0.080442475</td><td> 0.088898129</td><td>-0.057028090</td><td>-0.043854988</td><td>-0.002810901</td><td> 0.004074045</td><td>-0.03627451</td><td>-0.032118634</td><td> 0.005333929</td><td> 0.005510484</td></tr>\n",
       "\t<tr><th scope=row>rs117933100</th><td>-0.03335595</td><td>-0.02949000</td><td>-0.04834999</td><td> 1.00000000</td><td>-0.01431049</td><td>-0.03345474</td><td>-0.02400475</td><td>-0.05058952</td><td> 0.38968324</td><td>-0.01945354</td><td>⋯</td><td>-0.022444169</td><td>-0.022391630</td><td> 0.010911630</td><td>-0.014082289</td><td>-0.015042299</td><td> 0.004733850</td><td> 0.04553759</td><td>-0.024361144</td><td> 0.036895833</td><td> 0.036839540</td></tr>\n",
       "\t<tr><th scope=row>rs58651394</th><td>-0.02336440</td><td>-0.01981965</td><td>-0.03434119</td><td>-0.01431049</td><td> 1.00000000</td><td>-0.02166221</td><td>-0.01374465</td><td>-0.03644620</td><td>-0.03346114</td><td>-0.01496801</td><td>⋯</td><td>-0.004495018</td><td>-0.001186875</td><td> 0.004335979</td><td>-0.013269013</td><td> 0.068328771</td><td>-0.006321429</td><td> 0.03607545</td><td>-0.002826752</td><td> 0.015662251</td><td> 0.016064075</td></tr>\n",
       "\t<tr><th scope=row>rs62451072</th><td>-0.05488513</td><td>-0.04497065</td><td> 0.66899749</td><td>-0.03345474</td><td>-0.02166221</td><td> 1.00000000</td><td>-0.03536187</td><td> 0.62427538</td><td>-0.07504880</td><td>-0.02993311</td><td>⋯</td><td> 0.043659386</td><td> 0.050078573</td><td>-0.033108691</td><td>-0.025724194</td><td> 0.008474177</td><td>-0.010517689</td><td> 0.00964271</td><td>-0.040736288</td><td>-0.002335865</td><td>-0.001502818</td></tr>\n",
       "</tbody>\n",
       "</table>\n"
      ],
      "text/latex": [
       "A matrix: 6 × 96 of type dbl\n",
       "\\begin{tabular}{r|lllllllllllllllllllll}\n",
       "  & rs73075348 & rs112759592 & rs10281008 & rs117933100 & rs58651394 & rs62451072 & rs17620013 & rs17692895 & rs73083371 & rs116990708 & ⋯ & rs550448 & rs849315 & rs1513270 & rs73078484 & rs58462233 & rs56142710 & rs73076597 & rs478266 & rs475615 & rs849325\\\\\n",
       "\\hline\n",
       "\trs73075348 &  1.00000000 & -0.04041098 & -0.07996557 & -0.03335595 & -0.02336440 & -0.05488513 & -0.03503106 & -0.07178532 & -0.08564629 & -0.03307041 & ⋯ & -0.012193881 & -0.004231554 & -0.012190839 & -0.005024991 & -0.009390126 &  0.028835015 &  0.02291125 &  0.012771782 &  0.021427349 &  0.020983068\\\\\n",
       "\trs112759592 & -0.04041098 &  1.00000000 & -0.06602195 & -0.02949000 & -0.01981965 & -0.04497065 &  0.75275268 & -0.06876986 & -0.07115160 & -0.02709303 & ⋯ &  0.032784561 &  0.038715861 &  0.051126375 & -0.019672099 & -0.017216201 &  0.064879467 &  0.02914763 &  0.031141599 &  0.039552737 &  0.038159101\\\\\n",
       "\trs10281008 & -0.07996557 & -0.06602195 &  1.00000000 & -0.04834999 & -0.03434119 &  0.66899749 & -0.05087862 &  0.92509475 & -0.11578063 & -0.04488270 & ⋯ &  0.080442475 &  0.088898129 & -0.057028090 & -0.043854988 & -0.002810901 &  0.004074045 & -0.03627451 & -0.032118634 &  0.005333929 &  0.005510484\\\\\n",
       "\trs117933100 & -0.03335595 & -0.02949000 & -0.04834999 &  1.00000000 & -0.01431049 & -0.03345474 & -0.02400475 & -0.05058952 &  0.38968324 & -0.01945354 & ⋯ & -0.022444169 & -0.022391630 &  0.010911630 & -0.014082289 & -0.015042299 &  0.004733850 &  0.04553759 & -0.024361144 &  0.036895833 &  0.036839540\\\\\n",
       "\trs58651394 & -0.02336440 & -0.01981965 & -0.03434119 & -0.01431049 &  1.00000000 & -0.02166221 & -0.01374465 & -0.03644620 & -0.03346114 & -0.01496801 & ⋯ & -0.004495018 & -0.001186875 &  0.004335979 & -0.013269013 &  0.068328771 & -0.006321429 &  0.03607545 & -0.002826752 &  0.015662251 &  0.016064075\\\\\n",
       "\trs62451072 & -0.05488513 & -0.04497065 &  0.66899749 & -0.03345474 & -0.02166221 &  1.00000000 & -0.03536187 &  0.62427538 & -0.07504880 & -0.02993311 & ⋯ &  0.043659386 &  0.050078573 & -0.033108691 & -0.025724194 &  0.008474177 & -0.010517689 &  0.00964271 & -0.040736288 & -0.002335865 & -0.001502818\\\\\n",
       "\\end{tabular}\n"
      ],
      "text/markdown": [
       "\n",
       "A matrix: 6 × 96 of type dbl\n",
       "\n",
       "| <!--/--> | rs73075348 | rs112759592 | rs10281008 | rs117933100 | rs58651394 | rs62451072 | rs17620013 | rs17692895 | rs73083371 | rs116990708 | ⋯ | rs550448 | rs849315 | rs1513270 | rs73078484 | rs58462233 | rs56142710 | rs73076597 | rs478266 | rs475615 | rs849325 |\n",
       "|---|---|---|---|---|---|---|---|---|---|---|---|---|---|---|---|---|---|---|---|---|---|\n",
       "| rs73075348 |  1.00000000 | -0.04041098 | -0.07996557 | -0.03335595 | -0.02336440 | -0.05488513 | -0.03503106 | -0.07178532 | -0.08564629 | -0.03307041 | ⋯ | -0.012193881 | -0.004231554 | -0.012190839 | -0.005024991 | -0.009390126 |  0.028835015 |  0.02291125 |  0.012771782 |  0.021427349 |  0.020983068 |\n",
       "| rs112759592 | -0.04041098 |  1.00000000 | -0.06602195 | -0.02949000 | -0.01981965 | -0.04497065 |  0.75275268 | -0.06876986 | -0.07115160 | -0.02709303 | ⋯ |  0.032784561 |  0.038715861 |  0.051126375 | -0.019672099 | -0.017216201 |  0.064879467 |  0.02914763 |  0.031141599 |  0.039552737 |  0.038159101 |\n",
       "| rs10281008 | -0.07996557 | -0.06602195 |  1.00000000 | -0.04834999 | -0.03434119 |  0.66899749 | -0.05087862 |  0.92509475 | -0.11578063 | -0.04488270 | ⋯ |  0.080442475 |  0.088898129 | -0.057028090 | -0.043854988 | -0.002810901 |  0.004074045 | -0.03627451 | -0.032118634 |  0.005333929 |  0.005510484 |\n",
       "| rs117933100 | -0.03335595 | -0.02949000 | -0.04834999 |  1.00000000 | -0.01431049 | -0.03345474 | -0.02400475 | -0.05058952 |  0.38968324 | -0.01945354 | ⋯ | -0.022444169 | -0.022391630 |  0.010911630 | -0.014082289 | -0.015042299 |  0.004733850 |  0.04553759 | -0.024361144 |  0.036895833 |  0.036839540 |\n",
       "| rs58651394 | -0.02336440 | -0.01981965 | -0.03434119 | -0.01431049 |  1.00000000 | -0.02166221 | -0.01374465 | -0.03644620 | -0.03346114 | -0.01496801 | ⋯ | -0.004495018 | -0.001186875 |  0.004335979 | -0.013269013 |  0.068328771 | -0.006321429 |  0.03607545 | -0.002826752 |  0.015662251 |  0.016064075 |\n",
       "| rs62451072 | -0.05488513 | -0.04497065 |  0.66899749 | -0.03345474 | -0.02166221 |  1.00000000 | -0.03536187 |  0.62427538 | -0.07504880 | -0.02993311 | ⋯ |  0.043659386 |  0.050078573 | -0.033108691 | -0.025724194 |  0.008474177 | -0.010517689 |  0.00964271 | -0.040736288 | -0.002335865 | -0.001502818 |\n",
       "\n"
      ],
      "text/plain": [
       "            rs73075348  rs112759592 rs10281008  rs117933100 rs58651394 \n",
       "rs73075348   1.00000000 -0.04041098 -0.07996557 -0.03335595 -0.02336440\n",
       "rs112759592 -0.04041098  1.00000000 -0.06602195 -0.02949000 -0.01981965\n",
       "rs10281008  -0.07996557 -0.06602195  1.00000000 -0.04834999 -0.03434119\n",
       "rs117933100 -0.03335595 -0.02949000 -0.04834999  1.00000000 -0.01431049\n",
       "rs58651394  -0.02336440 -0.01981965 -0.03434119 -0.01431049  1.00000000\n",
       "rs62451072  -0.05488513 -0.04497065  0.66899749 -0.03345474 -0.02166221\n",
       "            rs62451072  rs17620013  rs17692895  rs73083371  rs116990708 ⋯\n",
       "rs73075348  -0.05488513 -0.03503106 -0.07178532 -0.08564629 -0.03307041 ⋯\n",
       "rs112759592 -0.04497065  0.75275268 -0.06876986 -0.07115160 -0.02709303 ⋯\n",
       "rs10281008   0.66899749 -0.05087862  0.92509475 -0.11578063 -0.04488270 ⋯\n",
       "rs117933100 -0.03345474 -0.02400475 -0.05058952  0.38968324 -0.01945354 ⋯\n",
       "rs58651394  -0.02166221 -0.01374465 -0.03644620 -0.03346114 -0.01496801 ⋯\n",
       "rs62451072   1.00000000 -0.03536187  0.62427538 -0.07504880 -0.02993311 ⋯\n",
       "            rs550448     rs849315     rs1513270    rs73078484   rs58462233  \n",
       "rs73075348  -0.012193881 -0.004231554 -0.012190839 -0.005024991 -0.009390126\n",
       "rs112759592  0.032784561  0.038715861  0.051126375 -0.019672099 -0.017216201\n",
       "rs10281008   0.080442475  0.088898129 -0.057028090 -0.043854988 -0.002810901\n",
       "rs117933100 -0.022444169 -0.022391630  0.010911630 -0.014082289 -0.015042299\n",
       "rs58651394  -0.004495018 -0.001186875  0.004335979 -0.013269013  0.068328771\n",
       "rs62451072   0.043659386  0.050078573 -0.033108691 -0.025724194  0.008474177\n",
       "            rs56142710   rs73076597  rs478266     rs475615     rs849325    \n",
       "rs73075348   0.028835015  0.02291125  0.012771782  0.021427349  0.020983068\n",
       "rs112759592  0.064879467  0.02914763  0.031141599  0.039552737  0.038159101\n",
       "rs10281008   0.004074045 -0.03627451 -0.032118634  0.005333929  0.005510484\n",
       "rs117933100  0.004733850  0.04553759 -0.024361144  0.036895833  0.036839540\n",
       "rs58651394  -0.006321429  0.03607545 -0.002826752  0.015662251  0.016064075\n",
       "rs62451072  -0.010517689  0.00964271 -0.040736288 -0.002335865 -0.001502818"
      ]
     },
     "metadata": {},
     "output_type": "display_data"
    },
    {
     "data": {
      "text/html": [
       "<style>\n",
       ".list-inline {list-style: none; margin:0; padding: 0}\n",
       ".list-inline>li {display: inline-block}\n",
       ".list-inline>li:not(:last-child)::after {content: \"\\00b7\"; padding: 0 .5ex}\n",
       "</style>\n",
       "<ol class=list-inline><li>96</li><li>96</li></ol>\n"
      ],
      "text/latex": [
       "\\begin{enumerate*}\n",
       "\\item 96\n",
       "\\item 96\n",
       "\\end{enumerate*}\n"
      ],
      "text/markdown": [
       "1. 96\n",
       "2. 96\n",
       "\n",
       "\n"
      ],
      "text/plain": [
       "[1] 96 96"
      ]
     },
     "metadata": {},
     "output_type": "display_data"
    }
   ],
   "source": [
    "head(ldrho)\n",
    "dim(ldrho)"
   ]
  },
  {
   "cell_type": "code",
   "execution_count": 65,
   "id": "5450b1f9-d225-477c-b6b5-d0ad25371f58",
   "metadata": {},
   "outputs": [
    {
     "name": "stderr",
     "output_type": "stream",
     "text": [
      "std effect: 96 instruments loaded.\n",
      "\n"
     ]
    },
    {
     "data": {
      "text/html": [
       "<table class=\"dataframe\">\n",
       "<caption>A data.frame: 6 × 14</caption>\n",
       "<thead>\n",
       "\t<tr><th></th><th scope=col>SNP</th><th scope=col>a1</th><th scope=col>a2</th><th scope=col>a1_freq</th><th scope=col>bzx</th><th scope=col>bzx_se</th><th scope=col>bzx_pval</th><th scope=col>bzx_n</th><th scope=col>bzy</th><th scope=col>bzy_se</th><th scope=col>bzy_pval</th><th scope=col>bzy_n</th><th scope=col>std_bzx</th><th scope=col>std_bzx_se</th></tr>\n",
       "\t<tr><th></th><th scope=col>&lt;chr&gt;</th><th scope=col>&lt;chr&gt;</th><th scope=col>&lt;chr&gt;</th><th scope=col>&lt;dbl&gt;</th><th scope=col>&lt;dbl&gt;</th><th scope=col>&lt;dbl&gt;</th><th scope=col>&lt;dbl&gt;</th><th scope=col>&lt;int&gt;</th><th scope=col>&lt;dbl&gt;</th><th scope=col>&lt;dbl&gt;</th><th scope=col>&lt;dbl&gt;</th><th scope=col>&lt;int&gt;</th><th scope=col>&lt;dbl&gt;</th><th scope=col>&lt;dbl&gt;</th></tr>\n",
       "</thead>\n",
       "<tbody>\n",
       "\t<tr><th scope=row>3</th><td>rs73075348 </td><td>G</td><td>A</td><td>0.056610</td><td>-0.002466700</td><td>0.00213852</td><td>0.2487196</td><td>365499</td><td>-0.000203885</td><td>0.0152262</td><td>0.9893163</td><td>339345</td><td>-0.0058378364</td><td>0.005061146</td></tr>\n",
       "\t<tr><th scope=row>24</th><td>rs112759592</td><td>C</td><td>G</td><td>0.037982</td><td>-0.001038050</td><td>0.00258446</td><td>0.6879407</td><td>365499</td><td> 0.011217400</td><td>0.0183894</td><td>0.5418661</td><td>339345</td><td>-0.0024575918</td><td>0.006118730</td></tr>\n",
       "\t<tr><th scope=row>30</th><td>rs10281008 </td><td>G</td><td>A</td><td>0.103474</td><td>-0.003913590</td><td>0.00162312</td><td>0.0159023</td><td>365499</td><td> 0.005002890</td><td>0.0115376</td><td>0.6645673</td><td>339345</td><td>-0.0092590427</td><td>0.003840090</td></tr>\n",
       "\t<tr><th scope=row>36</th><td>rs117933100</td><td>C</td><td>T</td><td>0.020068</td><td> 0.002374400</td><td>0.00352758</td><td>0.5008850</td><td>365499</td><td>-0.005789150</td><td>0.0250778</td><td>0.8174334</td><td>339345</td><td> 0.0056139512</td><td>0.008340491</td></tr>\n",
       "\t<tr><th scope=row>44</th><td>rs58651394 </td><td>T</td><td>C</td><td>0.010405</td><td> 0.006520910</td><td>0.00487527</td><td>0.1810439</td><td>365499</td><td> 0.022539600</td><td>0.0346362</td><td>0.5152073</td><td>339345</td><td> 0.0154170254</td><td>0.011526330</td></tr>\n",
       "\t<tr><th scope=row>51</th><td>rs62451072 </td><td>T</td><td>G</td><td>0.050026</td><td>-0.000364629</td><td>0.00226674</td><td>0.8722032</td><td>365499</td><td> 0.008891390</td><td>0.0160970</td><td>0.5806989</td><td>339345</td><td>-0.0008630533</td><td>0.005365227</td></tr>\n",
       "</tbody>\n",
       "</table>\n"
      ],
      "text/latex": [
       "A data.frame: 6 × 14\n",
       "\\begin{tabular}{r|llllllllllllll}\n",
       "  & SNP & a1 & a2 & a1\\_freq & bzx & bzx\\_se & bzx\\_pval & bzx\\_n & bzy & bzy\\_se & bzy\\_pval & bzy\\_n & std\\_bzx & std\\_bzx\\_se\\\\\n",
       "  & <chr> & <chr> & <chr> & <dbl> & <dbl> & <dbl> & <dbl> & <int> & <dbl> & <dbl> & <dbl> & <int> & <dbl> & <dbl>\\\\\n",
       "\\hline\n",
       "\t3 & rs73075348  & G & A & 0.056610 & -0.002466700 & 0.00213852 & 0.2487196 & 365499 & -0.000203885 & 0.0152262 & 0.9893163 & 339345 & -0.0058378364 & 0.005061146\\\\\n",
       "\t24 & rs112759592 & C & G & 0.037982 & -0.001038050 & 0.00258446 & 0.6879407 & 365499 &  0.011217400 & 0.0183894 & 0.5418661 & 339345 & -0.0024575918 & 0.006118730\\\\\n",
       "\t30 & rs10281008  & G & A & 0.103474 & -0.003913590 & 0.00162312 & 0.0159023 & 365499 &  0.005002890 & 0.0115376 & 0.6645673 & 339345 & -0.0092590427 & 0.003840090\\\\\n",
       "\t36 & rs117933100 & C & T & 0.020068 &  0.002374400 & 0.00352758 & 0.5008850 & 365499 & -0.005789150 & 0.0250778 & 0.8174334 & 339345 &  0.0056139512 & 0.008340491\\\\\n",
       "\t44 & rs58651394  & T & C & 0.010405 &  0.006520910 & 0.00487527 & 0.1810439 & 365499 &  0.022539600 & 0.0346362 & 0.5152073 & 339345 &  0.0154170254 & 0.011526330\\\\\n",
       "\t51 & rs62451072  & T & G & 0.050026 & -0.000364629 & 0.00226674 & 0.8722032 & 365499 &  0.008891390 & 0.0160970 & 0.5806989 & 339345 & -0.0008630533 & 0.005365227\\\\\n",
       "\\end{tabular}\n"
      ],
      "text/markdown": [
       "\n",
       "A data.frame: 6 × 14\n",
       "\n",
       "| <!--/--> | SNP &lt;chr&gt; | a1 &lt;chr&gt; | a2 &lt;chr&gt; | a1_freq &lt;dbl&gt; | bzx &lt;dbl&gt; | bzx_se &lt;dbl&gt; | bzx_pval &lt;dbl&gt; | bzx_n &lt;int&gt; | bzy &lt;dbl&gt; | bzy_se &lt;dbl&gt; | bzy_pval &lt;dbl&gt; | bzy_n &lt;int&gt; | std_bzx &lt;dbl&gt; | std_bzx_se &lt;dbl&gt; |\n",
       "|---|---|---|---|---|---|---|---|---|---|---|---|---|---|---|\n",
       "| 3 | rs73075348  | G | A | 0.056610 | -0.002466700 | 0.00213852 | 0.2487196 | 365499 | -0.000203885 | 0.0152262 | 0.9893163 | 339345 | -0.0058378364 | 0.005061146 |\n",
       "| 24 | rs112759592 | C | G | 0.037982 | -0.001038050 | 0.00258446 | 0.6879407 | 365499 |  0.011217400 | 0.0183894 | 0.5418661 | 339345 | -0.0024575918 | 0.006118730 |\n",
       "| 30 | rs10281008  | G | A | 0.103474 | -0.003913590 | 0.00162312 | 0.0159023 | 365499 |  0.005002890 | 0.0115376 | 0.6645673 | 339345 | -0.0092590427 | 0.003840090 |\n",
       "| 36 | rs117933100 | C | T | 0.020068 |  0.002374400 | 0.00352758 | 0.5008850 | 365499 | -0.005789150 | 0.0250778 | 0.8174334 | 339345 |  0.0056139512 | 0.008340491 |\n",
       "| 44 | rs58651394  | T | C | 0.010405 |  0.006520910 | 0.00487527 | 0.1810439 | 365499 |  0.022539600 | 0.0346362 | 0.5152073 | 339345 |  0.0154170254 | 0.011526330 |\n",
       "| 51 | rs62451072  | T | G | 0.050026 | -0.000364629 | 0.00226674 | 0.8722032 | 365499 |  0.008891390 | 0.0160970 | 0.5806989 | 339345 | -0.0008630533 | 0.005365227 |\n",
       "\n"
      ],
      "text/plain": [
       "   SNP         a1 a2 a1_freq  bzx          bzx_se     bzx_pval  bzx_n \n",
       "3  rs73075348  G  A  0.056610 -0.002466700 0.00213852 0.2487196 365499\n",
       "24 rs112759592 C  G  0.037982 -0.001038050 0.00258446 0.6879407 365499\n",
       "30 rs10281008  G  A  0.103474 -0.003913590 0.00162312 0.0159023 365499\n",
       "36 rs117933100 C  T  0.020068  0.002374400 0.00352758 0.5008850 365499\n",
       "44 rs58651394  T  C  0.010405  0.006520910 0.00487527 0.1810439 365499\n",
       "51 rs62451072  T  G  0.050026 -0.000364629 0.00226674 0.8722032 365499\n",
       "   bzy          bzy_se    bzy_pval  bzy_n  std_bzx       std_bzx_se \n",
       "3  -0.000203885 0.0152262 0.9893163 339345 -0.0058378364 0.005061146\n",
       "24  0.011217400 0.0183894 0.5418661 339345 -0.0024575918 0.006118730\n",
       "30  0.005002890 0.0115376 0.6645673 339345 -0.0092590427 0.003840090\n",
       "36 -0.005789150 0.0250778 0.8174334 339345  0.0056139512 0.008340491\n",
       "44  0.022539600 0.0346362 0.5152073 339345  0.0154170254 0.011526330\n",
       "51  0.008891390 0.0160970 0.5806989 339345 -0.0008630533 0.005365227"
      ]
     },
     "metadata": {},
     "output_type": "display_data"
    }
   ],
   "source": [
    "# standardization\n",
    "snpfreq = gsmr_data$a1_freq             # allele frequencies of the SNPs\n",
    "bzx = gsmr_data$bzx     # effects of the instruments on risk factor\n",
    "bzx_se = gsmr_data$bzx_se       # standard errors of bzx\n",
    "bzx_n = gsmr_data$bzx_n          # GWAS sample size for the risk factor\n",
    "std_zx = std_effect(snpfreq, bzx, bzx_se, bzx_n)    # perform standardisation\n",
    "gsmr_data$std_bzx = std_zx$b    # standardized bzx\n",
    "gsmr_data$std_bzx_se = std_zx$se    # standardized bzx_se\n",
    "head(gsmr_data)"
   ]
  },
  {
   "cell_type": "code",
   "execution_count": 66,
   "id": "78e43000-aca1-4c34-a898-7523be206e41",
   "metadata": {},
   "outputs": [
    {
     "name": "stderr",
     "output_type": "stream",
     "text": [
      "GSMR analysis: 96 instruments loaded.\n",
      "\n",
      "There are 96 SNPs in the dataset.\n",
      "\n",
      "Warning message in filter_summdat(snpid, bzx, bzx_se, bzx_pval, bzy, bzy_se, bzy_pval, :\n",
      "“81 non-significant SNPs were removed.”\n",
      "Warning message in filter_summdat(snpid, bzx, bzx_se, bzx_pval, bzy, bzy_se, bzy_pval, :\n",
      "“There were SNPs in high LD. After LD pruning with a LD r2 threshold of 0.1, 13 SNPs were removed. Note: The threshold of LD can be changed by the \"ld_r2_thresh\".”\n"
     ]
    },
    {
     "ename": "ERROR",
     "evalue": "Error in filter_summdat(snpid, bzx, bzx_se, bzx_pval, bzy, bzy_se, bzy_pval, : At least 5 SNPs are required. Note: this hard limit can be changed by the \"nsnps_thresh\".\n",
     "output_type": "error",
     "traceback": [
      "Error in filter_summdat(snpid, bzx, bzx_se, bzx_pval, bzy, bzy_se, bzy_pval, : At least 5 SNPs are required. Note: this hard limit can be changed by the \"nsnps_thresh\".\nTraceback:\n",
      "1. gsmr(bzx, bzx_se, bzx_pval, bzy, bzy_se, bzy_pval, ldrho, snp_coeff_id, \n .     n_ref, heidi_outlier_flag, gwas_thresh, single_snp_heidi_thresh, \n .     multi_snp_heidi_thresh, nsnps_thresh, ld_r2_thresh, ld_fdr_thresh, \n .     gsmr2_beta)",
      "2. filter_summdat(snpid, bzx, bzx_se, bzx_pval, bzy, bzy_se, bzy_pval, \n .     ldrho, n_ref, nsnps_thresh, gwas_thresh, ld_r2_thresh, ld_fdr_thresh)",
      "3. stop(\"At least \", nsnps_thresh, \" SNPs are required. Note: this hard limit can be changed by the \\\"nsnps_thresh\\\".\")"
     ]
    }
   ],
   "source": [
    "# GSMR analysis forward)\n",
    "bzx = gsmr_data$std_bzx    # SNP effects on the risk factor\n",
    "bzx_se = gsmr_data$std_bzx_se    # standard errors of bzx\n",
    "bzx_pval = gsmr_data$bzx_pval   # p-values for bzx\n",
    "bzy = gsmr_data$bzy    # SNP effects on the disease\n",
    "bzy_se = gsmr_data$bzy_se    # standard errors of bzy\n",
    "bzy_pval = gsmr_data$bzy_pval    # p-values for bzy\n",
    "n_ref = 487409    # Sample size of the reference sample # 487409 individuals in the sample file\n",
    "gwas_thresh = 5e-8    # GWAS threshold to select SNPs as the instruments for the GSMR analysis\n",
    "single_snp_heidi_thresh = 0.01    # p-value threshold for single-SNP-based HEIDI-outlier analysis\n",
    "multi_snp_heidi_thresh = 0.01    # p-value threshold for multi-SNP-based HEIDI-outlier analysis\n",
    "nsnps_thresh = 5   # the minimum number of instruments required for the GSMR analysis\n",
    "heidi_outlier_flag = T    # flag for HEIDI-outlier analysis\n",
    "ld_r2_thresh = 0.1   # LD r2 threshold to remove SNPs in high LD\n",
    "ld_fdr_thresh = 0.05   # FDR threshold to remove the chance correlations between the SNP instruments\n",
    "gsmr2_beta = 0     # 0 - the original HEIDI-outlier method; 1 - the new HEIDI-outlier method that is currently under development \n",
    "gsmr_results = gsmr(bzx, bzx_se, bzx_pval, bzy, bzy_se, bzy_pval, ldrho, snp_coeff_id, n_ref, heidi_outlier_flag, gwas_thresh, single_snp_heidi_thresh, multi_snp_heidi_thresh, nsnps_thresh, ld_r2_thresh, ld_fdr_thresh, gsmr2_beta)    # GSMR analysis \n",
    "filtered_index=gsmr_results$used_index\n",
    "cat(\"The estimated effect of the exposure on outcome: \",gsmr_results$bxy)"
   ]
  },
  {
   "cell_type": "markdown",
   "id": "f9dab425-381a-4056-a04e-1b4783515ce2",
   "metadata": {},
   "source": [
    "The GSMR analysis did not show any results even after modifiying some of the criterias like --r2-clum from 0.05 to 0.1 and minimum number of SNPs to be included in the analysis from 10 to 5.\n",
    "One of reason could be the bfile used for LD reference has only 96 SNPs that can be used for the analysis\n",
    "/mnt/mfs/statgen/archive/UKBiobank_Yale_transfer/pleiotropy_geneticfiles/UKB_Caucasians_phenotypeindepqc120319_updated082020removedwithdrawnindiv\n"
   ]
  },
  {
   "cell_type": "markdown",
   "id": "c22bc8f0-f52f-4cba-a9d4-a1896a89cf4b",
   "metadata": {},
   "source": [
    "### Rerun the GSMR with a new bfile generated using plink using the GCTA module\n",
    "\n",
    "**exposure path** : /mnt/mfs/statgen/bst2126/pleiotropy/JAZF1_sum/t2d_gsmr_exposure.txt  \n",
    "**Outcome path** : /mnt/mfs/statgen/bst2126/pleiotropy/JAZF1_sum/t2d_gsmr_outcome.txt  \n",
    "**Geno path** : /mnt/mfs/statgen/bst2126/pleiotropy/geno/UKB_imputed_chr7_v3\n",
    "\n",
    "There are 3 GSMR analyses, forward-GSMR analysis (coded as 0), reverse-GSMR analysis (coded as 1) and bi-GSMR analysis (both forward- and reverse-GSMR analyses, coded as 2)."
   ]
  },
  {
   "cell_type": "code",
   "execution_count": null,
   "id": "154df170-cb15-4fcf-abca-857c1273b010",
   "metadata": {},
   "outputs": [],
   "source": [
    "module load GCTA/1.93.3\n",
    "\n",
    "gcta64 --bfile /mnt/mfs/statgen/bst2126/pleiotropy/geno/UKB_imputed_chr7_v3 \n",
    "       --gsmr-file /mnt/mfs/statgen/bst2126/pleiotropy/JAZF1_sum/t2d_gsmr_exposure.txt  /mnt/mfs/statgen/bst2126/pleiotropy/JAZF1_sum/t2d_gsmr_outcome.txt \n",
    "       --gsmr-direction 0  \n",
    "       --out /mnt/mfs/statgen/bst2126/pleiotropy/JAZF1_sum/gsmr_result/t2d_gsmr01_result \n",
    "       --effect-plot \n",
    "       --clump-r2 0.1 \n",
    "       --gsmr-snp-min 5 "
   ]
  },
  {
   "cell_type": "code",
   "execution_count": null,
   "id": "9830500a-bb20-4882-8c5f-6bc4dd9b67ca",
   "metadata": {},
   "outputs": [],
   "source": [
    "qsub /mnt/mfs/statgen/bst2126/pleiotropy/JAZF1_sum/t2d_gsmr3.sh"
   ]
  },
  {
   "cell_type": "code",
   "execution_count": null,
   "id": "861799c7-69ef-46ec-8428-2039583fe89c",
   "metadata": {},
   "outputs": [],
   "source": [
    "Reading GWAS summary data for exposure(s) from [/mnt/mfs/statgen/bst2126/pleiotropy/JAZF1_sum/t2d_gsmr_exposure.txt].\n",
    "Reading GWAS summary data for outcome(s) from [/mnt/mfs/statgen/bst2126/pleiotropy/JAZF1_sum/t2d_gsmr_outcome.txt].\n",
    "145 SNPs genome-wide significant SNPs in common between the exposure(s) and the outcome(s).\n",
    "Filtering out SNPs with multiple alleles or missing value ...\n",
    "145 SNPs are retained after filtering.\n",
    "145 genome-wide significant SNPs with p < 5.0e-08 are in common among the exposure(s), the outcome(s) and the LD reference sample.\n",
    "\n",
    "Reading PLINK BED file from [/mnt/mfs/statgen/bst2126/pleiotropy/geno/UKB_imputed_chr7_v3.bed] in SNP-major format ...\n",
    "Genotype data for 487409 individuals and 145 SNPs to be included from [/mnt/mfs/statgen/bst2126/pleiotropy/geno/UKB_imputed_chr7_v3.bed].\n",
    "Calculating allele frequencies ...\n",
    "Checking allele frequencies among the GWAS summary data and the reference sample...\n",
    "\n",
    "Forward GSMR analysis for exposure #1 and outcome #1 ...\n",
    "7 index SNPs are obtained from the clumping analysis with p < 5.0e-08 and LD r2 < 0.10.\n",
    "7 index SNPs are retained after HEIDI-outlier analysis.\n",
    "Forward GSMR analysis for exposure #1 and outcome #1 completed.\n",
    "\n",
    "Forward GSMR analysis for exposure #2 and outcome #1 ...\n",
    "1 index SNPs are obtained from the clumping analysis with p < 5.0e-08 and LD r2 < 0.10.\n",
    "Warning: Not enough SNPs to perform the GSMR analysis. At least 5 SNPs are required."
   ]
  },
  {
   "cell_type": "code",
   "execution_count": 67,
   "id": "7a68259c-aac3-419d-b15c-8ba339563655",
   "metadata": {},
   "outputs": [],
   "source": [
    "library(\"gsmr\")\n",
    "setwd(\"/mnt/mfs/statgen/bst2126/pleiotropy/JAZF1_sum/gsmr_result\")"
   ]
  },
  {
   "cell_type": "code",
   "execution_count": 68,
   "id": "9639e3dc-41f7-4986-90d3-65e3969b0917",
   "metadata": {},
   "outputs": [],
   "source": [
    "# check results of the GSMR analysis\n",
    "source(\"gsmr_plot.r\")"
   ]
  },
  {
   "cell_type": "code",
   "execution_count": 72,
   "id": "e77c0707-6014-4d0c-9e72-6c8edb8233a0",
   "metadata": {},
   "outputs": [
    {
     "name": "stdout",
     "output_type": "stream",
     "text": [
      "[1] 10\n",
      " [1] \"7:28213499_TAAAAAAAAAAAAAA_T\" \"T\"                           \n",
      " [3] \"TAAAAAAAAAAAAAA\"              \"0.039207\"                    \n",
      " [5] \"-0.0157897\"                   \"0.00277328\"                  \n",
      " [7] \"0.0127581\"                    \"0.0197258\"                   \n",
      " [9] \"-0.0864612\"                   \"0.027165\"                    \n",
      "[1] 10\n",
      " [1] \"rs10275982\"  \"A\"           \"C\"           \"0.337556\"    \"-0.00658053\"\n",
      " [6] \"0.00105114\"  \"0.00146841\"  \"0.00747687\"  \"-0.0238996\"  \"0.0106069\"  \n",
      "[1] 10\n",
      " [1] \"rs11448038\" \"TA\"         \"T\"          \"0.550049\"   \"0.00730479\"\n",
      " [6] \"0.00107761\" \"0.0373388\"  \"0.00765055\" \"0.0648301\"  \"0.0108398\" \n",
      "[1] 10\n",
      " [1] \"rs11763181\"  \"G\"           \"T\"           \"0.932679\"    \"-0.0112937\" \n",
      " [6] \"0.00198594\"  \"-0.00103321\" \"0.0141235\"   \"-0.0558825\"  \"0.0204014\"  \n",
      "[1] 10\n",
      " [1] \"rs552707\"     \"C\"            \"T\"            \"0.704436\"     \"0.013811\"    \n",
      " [6] \"0.0010836\"    \"-0.000808671\" \"0.00771348\"   \"0.0616489\"    \"0.0108266\"   \n",
      "[1] 10\n",
      " [1] \"rs55901351\"  \"T\"           \"C\"           \"0.043161\"    \"-0.0137131\" \n",
      " [6] \"0.0024832\"   \"-0.00950145\" \"0.0176564\"   \"-0.0238387\"  \"0.0251576\"  \n",
      "[1] 10\n",
      " [1] \"rs6963719\"  \"T\"          \"C\"          \"0.73644\"    \"0.00845343\"\n",
      " [6] \"0.00112294\" \"0.0256037\"  \"0.007958\"   \"0.0301114\"  \"0.0112592\" \n"
     ]
    },
    {
     "name": "stderr",
     "output_type": "stream",
     "text": [
      "\n",
      "## Exposure and outcome\n",
      "\n",
      "2 exposure(s): waist, asthma\n",
      "\n",
      "1 outcome(s): t2d\n",
      "\n",
      "\n",
      "## GSMR result\n",
      "\n"
     ]
    },
    {
     "name": "stdout",
     "output_type": "stream",
     "text": [
      "  Exposure Outcome     bxy       se           p n_snps\n",
      "1    waist     t2d 4.82491 0.695642 4.03621e-12      7\n",
      "2   asthma     t2d     NaN      NaN         NaN    NaN\n"
     ]
    },
    {
     "data": {
      "image/png": "[encoded data removed]",
      "text/plain": [
       "plot without title"
      ]
     },
     "metadata": {
      "image/png": {
       "height": 420,
       "width": 420
      }
     },
     "output_type": "display_data"
    }
   ],
   "source": [
    "\n",
    "gsmr_data = read_gsmr_data(\"t2d_gsmr01_result.eff_plot.gz\")\n",
    "gsmr_summary(gsmr_data)      # show a summary of the data\n",
    "plot_gsmr_effect(gsmr_data, \"waist\", \"t2d\", colors()[74])  "
   ]
  },
  {
   "cell_type": "code",
   "execution_count": 73,
   "id": "8e6ed404-208b-48c4-b281-95de01ff135b",
   "metadata": {},
   "outputs": [
    {
     "data": {
      "text/html": [
       "<dl>\n",
       "\t<dt>$pheno</dt>\n",
       "\t\t<dd><style>\n",
       ".list-inline {list-style: none; margin:0; padding: 0}\n",
       ".list-inline>li {display: inline-block}\n",
       ".list-inline>li:not(:last-child)::after {content: \"\\00b7\"; padding: 0 .5ex}\n",
       "</style>\n",
       "<ol class=list-inline><li>'2'</li><li>'1'</li><li>'waist'</li><li>'asthma'</li><li>'t2d'</li></ol>\n",
       "</dd>\n",
       "\t<dt>$bxy_result</dt>\n",
       "\t\t<dd><table class=\"dataframe\">\n",
       "<caption>A matrix: 2 × 6 of type chr</caption>\n",
       "<thead>\n",
       "\t<tr><th scope=col>Exposure</th><th scope=col>Outcome</th><th scope=col>bxy</th><th scope=col>se</th><th scope=col>p</th><th scope=col>n_snps</th></tr>\n",
       "</thead>\n",
       "<tbody>\n",
       "\t<tr><td>waist </td><td>t2d</td><td>4.82491</td><td>0.695642</td><td>4.03621e-12</td><td>7  </td></tr>\n",
       "\t<tr><td>asthma</td><td>t2d</td><td>NaN    </td><td>NaN     </td><td>NaN        </td><td>NaN</td></tr>\n",
       "</tbody>\n",
       "</table>\n",
       "</dd>\n",
       "\t<dt>$snp_effect</dt>\n",
       "\t\t<dd><table class=\"dataframe\">\n",
       "<caption>A matrix: 7 × 13 of type chr</caption>\n",
       "<tbody>\n",
       "\t<tr><th scope=row>strbuf</th><td>7:28213499_TAAAAAAAAAAAAAA_T</td><td>1</td><td>0</td><td>NA</td><td>T </td><td>TAAAAAAAAAAAAAA</td><td>0.039207</td><td>-0.0157897 </td><td>0.00277328</td><td>0.0127581   </td><td>0.0197258 </td><td>-0.0864612</td><td>0.027165 </td></tr>\n",
       "\t<tr><th scope=row>strbuf</th><td>rs10275982                  </td><td>1</td><td>0</td><td>NA</td><td>A </td><td>C              </td><td>0.337556</td><td>-0.00658053</td><td>0.00105114</td><td>0.00146841  </td><td>0.00747687</td><td>-0.0238996</td><td>0.0106069</td></tr>\n",
       "\t<tr><th scope=row>strbuf</th><td>rs11448038                  </td><td>1</td><td>0</td><td>NA</td><td>TA</td><td>T              </td><td>0.550049</td><td>0.00730479 </td><td>0.00107761</td><td>0.0373388   </td><td>0.00765055</td><td>0.0648301 </td><td>0.0108398</td></tr>\n",
       "\t<tr><th scope=row>strbuf</th><td>rs11763181                  </td><td>1</td><td>0</td><td>NA</td><td>G </td><td>T              </td><td>0.932679</td><td>-0.0112937 </td><td>0.00198594</td><td>-0.00103321 </td><td>0.0141235 </td><td>-0.0558825</td><td>0.0204014</td></tr>\n",
       "\t<tr><th scope=row>strbuf</th><td>rs552707                    </td><td>1</td><td>0</td><td>NA</td><td>C </td><td>T              </td><td>0.704436</td><td>0.013811   </td><td>0.0010836 </td><td>-0.000808671</td><td>0.00771348</td><td>0.0616489 </td><td>0.0108266</td></tr>\n",
       "\t<tr><th scope=row>strbuf</th><td>rs55901351                  </td><td>1</td><td>0</td><td>NA</td><td>T </td><td>C              </td><td>0.043161</td><td>-0.0137131 </td><td>0.0024832 </td><td>-0.00950145 </td><td>0.0176564 </td><td>-0.0238387</td><td>0.0251576</td></tr>\n",
       "\t<tr><th scope=row>strbuf</th><td>rs6963719                   </td><td>1</td><td>0</td><td>NA</td><td>T </td><td>C              </td><td>0.73644 </td><td>0.00845343 </td><td>0.00112294</td><td>0.0256037   </td><td>0.007958  </td><td>0.0301114 </td><td>0.0112592</td></tr>\n",
       "</tbody>\n",
       "</table>\n",
       "</dd>\n",
       "</dl>\n"
      ],
      "text/latex": [
       "\\begin{description}\n",
       "\\item[\\$pheno] \\begin{enumerate*}\n",
       "\\item '2'\n",
       "\\item '1'\n",
       "\\item 'waist'\n",
       "\\item 'asthma'\n",
       "\\item 't2d'\n",
       "\\end{enumerate*}\n",
       "\n",
       "\\item[\\$bxy\\_result] A matrix: 2 × 6 of type chr\n",
       "\\begin{tabular}{llllll}\n",
       " Exposure & Outcome & bxy & se & p & n\\_snps\\\\\n",
       "\\hline\n",
       "\t waist  & t2d & 4.82491 & 0.695642 & 4.03621e-12 & 7  \\\\\n",
       "\t asthma & t2d & NaN     & NaN      & NaN         & NaN\\\\\n",
       "\\end{tabular}\n",
       "\n",
       "\\item[\\$snp\\_effect] A matrix: 7 × 13 of type chr\n",
       "\\begin{tabular}{r|lllllllllllll}\n",
       "\tstrbuf & 7:28213499\\_TAAAAAAAAAAAAAA\\_T & 1 & 0 & NA & T  & TAAAAAAAAAAAAAA & 0.039207 & -0.0157897  & 0.00277328 & 0.0127581    & 0.0197258  & -0.0864612 & 0.027165 \\\\\n",
       "\tstrbuf & rs10275982                   & 1 & 0 & NA & A  & C               & 0.337556 & -0.00658053 & 0.00105114 & 0.00146841   & 0.00747687 & -0.0238996 & 0.0106069\\\\\n",
       "\tstrbuf & rs11448038                   & 1 & 0 & NA & TA & T               & 0.550049 & 0.00730479  & 0.00107761 & 0.0373388    & 0.00765055 & 0.0648301  & 0.0108398\\\\\n",
       "\tstrbuf & rs11763181                   & 1 & 0 & NA & G  & T               & 0.932679 & -0.0112937  & 0.00198594 & -0.00103321  & 0.0141235  & -0.0558825 & 0.0204014\\\\\n",
       "\tstrbuf & rs552707                     & 1 & 0 & NA & C  & T               & 0.704436 & 0.013811    & 0.0010836  & -0.000808671 & 0.00771348 & 0.0616489  & 0.0108266\\\\\n",
       "\tstrbuf & rs55901351                   & 1 & 0 & NA & T  & C               & 0.043161 & -0.0137131  & 0.0024832  & -0.00950145  & 0.0176564  & -0.0238387 & 0.0251576\\\\\n",
       "\tstrbuf & rs6963719                    & 1 & 0 & NA & T  & C               & 0.73644  & 0.00845343  & 0.00112294 & 0.0256037    & 0.007958   & 0.0301114  & 0.0112592\\\\\n",
       "\\end{tabular}\n",
       "\n",
       "\\end{description}\n"
      ],
      "text/markdown": [
       "$pheno\n",
       ":   1. '2'\n",
       "2. '1'\n",
       "3. 'waist'\n",
       "4. 'asthma'\n",
       "5. 't2d'\n",
       "\n",
       "\n",
       "\n",
       "$bxy_result\n",
       ":   \n",
       "A matrix: 2 × 6 of type chr\n",
       "\n",
       "| Exposure | Outcome | bxy | se | p | n_snps |\n",
       "|---|---|---|---|---|---|\n",
       "| waist  | t2d | 4.82491 | 0.695642 | 4.03621e-12 | 7   |\n",
       "| asthma | t2d | NaN     | NaN      | NaN         | NaN |\n",
       "\n",
       "\n",
       "$snp_effect\n",
       ":   \n",
       "A matrix: 7 × 13 of type chr\n",
       "\n",
       "| strbuf | 7:28213499_TAAAAAAAAAAAAAA_T | 1 | 0 | NA | T  | TAAAAAAAAAAAAAA | 0.039207 | -0.0157897  | 0.00277328 | 0.0127581    | 0.0197258  | -0.0864612 | 0.027165  |\n",
       "| strbuf | rs10275982                   | 1 | 0 | NA | A  | C               | 0.337556 | -0.00658053 | 0.00105114 | 0.00146841   | 0.00747687 | -0.0238996 | 0.0106069 |\n",
       "| strbuf | rs11448038                   | 1 | 0 | NA | TA | T               | 0.550049 | 0.00730479  | 0.00107761 | 0.0373388    | 0.00765055 | 0.0648301  | 0.0108398 |\n",
       "| strbuf | rs11763181                   | 1 | 0 | NA | G  | T               | 0.932679 | -0.0112937  | 0.00198594 | -0.00103321  | 0.0141235  | -0.0558825 | 0.0204014 |\n",
       "| strbuf | rs552707                     | 1 | 0 | NA | C  | T               | 0.704436 | 0.013811    | 0.0010836  | -0.000808671 | 0.00771348 | 0.0616489  | 0.0108266 |\n",
       "| strbuf | rs55901351                   | 1 | 0 | NA | T  | C               | 0.043161 | -0.0137131  | 0.0024832  | -0.00950145  | 0.0176564  | -0.0238387 | 0.0251576 |\n",
       "| strbuf | rs6963719                    | 1 | 0 | NA | T  | C               | 0.73644  | 0.00845343  | 0.00112294 | 0.0256037    | 0.007958   | 0.0301114  | 0.0112592 |\n",
       "\n",
       "\n",
       "\n",
       "\n"
      ],
      "text/plain": [
       "$pheno\n",
       "[1] \"2\"      \"1\"      \"waist\"  \"asthma\" \"t2d\"   \n",
       "\n",
       "$bxy_result\n",
       "     Exposure Outcome bxy       se         p             n_snps\n",
       "[1,] \"waist\"  \"t2d\"   \"4.82491\" \"0.695642\" \"4.03621e-12\" \"7\"   \n",
       "[2,] \"asthma\" \"t2d\"   \"NaN\"     \"NaN\"      \"NaN\"         \"NaN\" \n",
       "\n",
       "$snp_effect\n",
       "       [,1]                           [,2] [,3] [,4] [,5] [,6]             \n",
       "strbuf \"7:28213499_TAAAAAAAAAAAAAA_T\" \"1\"  \"0\"  NA   \"T\"  \"TAAAAAAAAAAAAAA\"\n",
       "strbuf \"rs10275982\"                   \"1\"  \"0\"  NA   \"A\"  \"C\"              \n",
       "strbuf \"rs11448038\"                   \"1\"  \"0\"  NA   \"TA\" \"T\"              \n",
       "strbuf \"rs11763181\"                   \"1\"  \"0\"  NA   \"G\"  \"T\"              \n",
       "strbuf \"rs552707\"                     \"1\"  \"0\"  NA   \"C\"  \"T\"              \n",
       "strbuf \"rs55901351\"                   \"1\"  \"0\"  NA   \"T\"  \"C\"              \n",
       "strbuf \"rs6963719\"                    \"1\"  \"0\"  NA   \"T\"  \"C\"              \n",
       "       [,7]       [,8]          [,9]         [,10]          [,11]       \n",
       "strbuf \"0.039207\" \"-0.0157897\"  \"0.00277328\" \"0.0127581\"    \"0.0197258\" \n",
       "strbuf \"0.337556\" \"-0.00658053\" \"0.00105114\" \"0.00146841\"   \"0.00747687\"\n",
       "strbuf \"0.550049\" \"0.00730479\"  \"0.00107761\" \"0.0373388\"    \"0.00765055\"\n",
       "strbuf \"0.932679\" \"-0.0112937\"  \"0.00198594\" \"-0.00103321\"  \"0.0141235\" \n",
       "strbuf \"0.704436\" \"0.013811\"    \"0.0010836\"  \"-0.000808671\" \"0.00771348\"\n",
       "strbuf \"0.043161\" \"-0.0137131\"  \"0.0024832\"  \"-0.00950145\"  \"0.0176564\" \n",
       "strbuf \"0.73644\"  \"0.00845343\"  \"0.00112294\" \"0.0256037\"    \"0.007958\"  \n",
       "       [,12]        [,13]      \n",
       "strbuf \"-0.0864612\" \"0.027165\" \n",
       "strbuf \"-0.0238996\" \"0.0106069\"\n",
       "strbuf \"0.0648301\"  \"0.0108398\"\n",
       "strbuf \"-0.0558825\" \"0.0204014\"\n",
       "strbuf \"0.0616489\"  \"0.0108266\"\n",
       "strbuf \"-0.0238387\" \"0.0251576\"\n",
       "strbuf \"0.0301114\"  \"0.0112592\"\n"
      ]
     },
     "metadata": {},
     "output_type": "display_data"
    }
   ],
   "source": [
    "head(gsmr_data)"
   ]
  },
  {
   "cell_type": "markdown",
   "id": "fbfc15d2-3e1b-4bd7-87cc-bf2e61ab6a06",
   "metadata": {
    "kernel": "SoS",
    "tags": []
   },
   "source": [
    "### check with other packages\n",
    "* Mendelian randomization accounting for correlated and uncorrelated pleiotropic effects using genome-wide summary statistics (CAUSE by Morrison et al. 2020)\n",
    "* MR-Corr2: a two-sample Mendelian randomization method that accounts for correlated horizontal pleiotropy using correlated instrumental variants (by Cheng et al. 2020)"
   ]
  },
  {
   "cell_type": "markdown",
   "id": "3f2bd663-8b54-40f5-9419-472ef8840e0a",
   "metadata": {
    "kernel": "SoS"
   },
   "source": [
    "# CAUSE"
   ]
  },
  {
   "cell_type": "markdown",
   "id": "d47dd24f-318f-4626-afaf-414d2c73c214",
   "metadata": {
    "kernel": "SoS"
   },
   "source": [
    "## Step 1: Format Data for CAUSE"
   ]
  },
  {
   "cell_type": "code",
   "execution_count": 1,
   "id": "8bcde7cb-7472-445b-b5c4-890bc22cef1d",
   "metadata": {
    "kernel": "SoS"
   },
   "outputs": [
    {
     "name": "stderr",
     "output_type": "stream",
     "text": [
      "\n",
      "Attaching package: ‘dplyr’\n",
      "\n",
      "\n",
      "The following objects are masked from ‘package:stats’:\n",
      "\n",
      "    filter, lag\n",
      "\n",
      "\n",
      "The following objects are masked from ‘package:base’:\n",
      "\n",
      "    intersect, setdiff, setequal, union\n",
      "\n",
      "\n"
     ]
    }
   ],
   "source": [
    "library(readr)\n",
    "library(dplyr)"
   ]
  },
  {
   "cell_type": "code",
   "execution_count": null,
   "id": "b0151791-d346-404f-b3c8-1a9b528e7923",
   "metadata": {
    "kernel": "SoS"
   },
   "outputs": [],
   "source": [
    "library(cause)"
   ]
  },
  {
   "cell_type": "code",
   "execution_count": 2,
   "id": "ab733249-d86b-494e-aa06-e2ce70166242",
   "metadata": {
    "kernel": "SoS"
   },
   "outputs": [
    {
     "name": "stderr",
     "output_type": "stream",
     "text": [
      "\n",
      "Attaching package: ‘data.table’\n",
      "\n",
      "\n",
      "The following objects are masked from ‘package:dplyr’:\n",
      "\n",
      "    between, first, last\n",
      "\n",
      "\n"
     ]
    }
   ],
   "source": [
    "library(data.table)"
   ]
  },
  {
   "cell_type": "code",
   "execution_count": null,
   "id": "8b9883b9-9472-4c4f-b35a-ea540bb4f0b8",
   "metadata": {
    "kernel": "SoS"
   },
   "outputs": [],
   "source": [
    "# import files\n",
    "t2d<-read.table(\"/mnt/mfs/statgen/bst2126/pleiotropy/JAZF1_sum/t2d_regenie_jazf1\", header=TRUE, sep=\"\\t\")\n",
    "waist<-read.table(\"/mnt/mfs/statgen/bst2126/pleiotropy/JAZF1_sum/waist_regenie_jazf1\", header=TRUE, sep=\"\\t\")"
   ]
  },
  {
   "cell_type": "code",
   "execution_count": null,
   "id": "6b784b9d-2530-403a-abb6-67a8025ff5a8",
   "metadata": {
    "kernel": "SoS"
   },
   "outputs": [],
   "source": [
    "# merge sumstats\n",
    "\n",
    "waist_t2d <- gwas_merge(waist, t2d, snp_name_cols = c(\"SNP\", \"SNP\"), beta_hat_cols = c(\"beta\", \"beta\"), se_cols = c(\"se\", \"se\"), A1_cols = c(\"A1\", \"A1\"), A2_cols = c(\"A2\", \"A2\"), pval_cols = c(\"p\", \"p\"))\n"
   ]
  },
  {
   "cell_type": "markdown",
   "id": "a14e7d05-5955-4559-9f70-2a79413424c4",
   "metadata": {
    "kernel": "SoS"
   },
   "source": [
    "Formatting waist\n",
    "There are  2068  variants.\n",
    "Removing  2  duplicated variants leaving  2064 variants.\n",
    "Removing  73  variants with illegal allelse leaving  2064 variants.\n",
    "Removed  274  variants with ambiguous strand.\n",
    "Flipping strand and effect allele so A1 is always A\n",
    "Returning  1790  variants.\n",
    "Formatting t2d\n",
    "There are  2067  variants.\n",
    "Removing  2  duplicated variants leaving  2063 variants.\n",
    "Removing  73  variants with illegal allelse leaving  2063 variants.\n",
    "Removed  272  variants with ambiguous strand.\n",
    "Flipping strand and effect allele so A1 is always A\n",
    "Returning  1791  variants.\n",
    "After merging and removing variants with inconsistent alleles,  there are  1748  variants that are present in both studies and can be used with CAUSE."
   ]
  },
  {
   "cell_type": "code",
   "execution_count": null,
   "id": "6ea87c72-b402-4416-bff1-2ded408c1fae",
   "metadata": {
    "kernel": "SoS"
   },
   "outputs": [],
   "source": [
    "> head(waist_t2d)\n",
    "                 snp   beta_hat_1       seb1  beta_hat_2      seb2    A1 A2\n",
    "1        rs545409685 -0.000830394 0.00997982 -0.03862570 0.1000360     A  G\n",
    "2 7:27869261_CAGTA_C  0.018772000 0.01391700 -0.10838600 0.1401650 CAGTA  C\n",
    "3         rs73075348  0.002466700 0.00213852 -0.01622460 0.0215218     A  G\n",
    "4          rs6948467 -0.002577480 0.00101531 -0.02054410 0.0102407     A  G\n",
    "5         rs35410592 -0.003141340 0.00520300  0.00427717 0.0522587     A  C\n",
    "6        rs183893860 -0.004303300 0.01006870  0.03061410 0.1027550     A  G"
   ]
  },
  {
   "cell_type": "markdown",
   "id": "f2667db7-aae0-49cf-bef5-3e7a6df16638",
   "metadata": {
    "kernel": "SoS"
   },
   "source": [
    "## Step 2: Calculate nuisance parameters\n",
    "\n",
    "The next step is to estimate the parameters that define the prior distribution of βM and θ and to estimate ρ, the correlation between summary statistics that is due to sample overlap or population structure. We will do this with a random subset of 1,000,000 variants since our data set is large. est_cause_params estimates the nuisance parameters by finding the maximum a posteriori estimate of ρ and the mixing parameters when γ=η=0. This step takes a several minutes."
   ]
  },
  {
   "cell_type": "code",
   "execution_count": null,
   "id": "bb40fd46-a556-491b-a48d-2a621b54a403",
   "metadata": {
    "kernel": "SoS"
   },
   "outputs": [],
   "source": [
    "set.seed(100)\n",
    "varlist <- with(waist_t2d, sample(snp, size=1000, replace=FALSE))\n",
    "params <- est_cause_params(waist_t2d, varlist)"
   ]
  },
  {
   "cell_type": "code",
   "execution_count": null,
   "id": "fae5f1bf-eebe-4b28-aad9-eb25ccfea6e3",
   "metadata": {
    "kernel": "SoS"
   },
   "outputs": [],
   "source": [
    "Estimating CAUSE parameters with  1000  variants.\n",
    "\n",
    "warning: solve(): system is singular (rcond: 1.96014e-17); attempting approx solution\n",
    "\n",
    "warning: solve(): system is singular (rcond: 2.16109e-17); attempting approx solution\n",
    "\n",
    "warning: solve(): system is singular (rcond: 2.3458e-17); attempting approx solution\n",
    "\n",
    "warning: solve(): system is singular (rcond: 2.48475e-17); attempting approx solution\n",
    "\n",
    "warning: solve(): system is singular (rcond: 4.79447e-17); attempting approx solution\n",
    "\n",
    "warning: solve(): system is singular (rcond: 5.92671e-17); attempting approx solution\n",
    "1 0.3088514 \n",
    "2 0.001381665 \n",
    "3 4.45504e-05 \n",
    "4 1.442608e-06 \n",
    "5 4.674024e-08 \n",
    "Warning message:\n",
    "In est_cause_params(waist_t2d, varlist) :\n",
    "  Fewer than 100,000 variants are being used to estimate parametrs. This can cause problems and is not recomended. You are using 1000 variants.\n",
    "\n"
   ]
  },
  {
   "cell_type": "code",
   "execution_count": null,
   "id": "dff7eb27-ad00-422d-a44d-6e2c8cd2a47c",
   "metadata": {
    "kernel": "SoS"
   },
   "outputs": [],
   "source": [
    "> class(params)\n",
    "[1] \"cause_params\"\n",
    "> names(params)\n",
    "[1] \"rho\"       \"pi\"        \"mix_grid\"  \"loglik\"    \"PIS\"       \"RHO\"      \n",
    "[7] \"LLS\"       \"converged\" \"prior\"    \n",
    "> params$rho\n",
    "[1] 0.3102791"
   ]
  },
  {
   "cell_type": "code",
   "execution_count": null,
   "id": "98a2ac04-bf37-4bef-a36c-6f0a2a16f018",
   "metadata": {
    "kernel": "SoS"
   },
   "outputs": [],
   "source": [
    "> head(params$mix_grid)\n",
    "           S1         S2         pi\n",
    "1 0.000000000 0.00000000 0.26522462\n",
    "2 0.000000000 0.04010793 0.04890732\n",
    "3 0.005212955 0.04010793 0.48521493\n",
    "4 0.007372232 0.04010793 0.19025707\n",
    "5 0.007372232 0.08021586 0.01039607"
   ]
  },
  {
   "cell_type": "markdown",
   "id": "f703620f-0776-4af5-8d4e-576e4698e1f3",
   "metadata": {
    "kernel": "SoS"
   },
   "source": [
    "## Step 3: LD Pruning\n",
    "We estimate CAUSE posterior distributions using an LD pruned set of variants, prioritizing variants with low trait M (waist) p-values.\n",
    "\n",
    "The easiest way is to use Plink to perform LD clumping. The ieugwasr package provides a convenient R interface to Plink. This method is fast but requires a reference sample which can be accessed through an API using ieugwasr::ld_clump (see help for that function). You can download also download reference data from here. That file will need to be unzipped.\n",
    "\n",
    "An alternative is to use a built in function in the CAUSE R pacakge and precomputed pairwise estimates of r2. This is the method we used in our paper, coupled with LD estimates 1000 Genomes European samples computed via LDshrink. This method is slow but lets you use any LD estimates you want. We show how to do this in a section at the end of this document.\n",
    "\n",
    "In either case, we prioritize variants based on their trait 1 p-value. We can limit ourselves to SNPs with trait 1 p-value less than 0.001 since we will use that threshold for estimating the CAUSE posteriors in the next step. If you use a higher threshold in the next step, you should also use a higher threshold in the pruning step. It is ok to have a lower threshold in the posterior estimation step than in the pruning step. In this case, the sumstat data contains p-values se we use these. However, if these are missing we can compute approximate p-values using a normal approximation.\n",
    "\n"
   ]
  },
  {
   "cell_type": "code",
   "execution_count": null,
   "id": "46b76ddb-2e51-4241-96fa-26fbb08b6521",
   "metadata": {
    "kernel": "SoS"
   },
   "outputs": [],
   "source": [
    "r2_thresh = 0.01\n",
    "pval_thresh = 1e-3\n",
    "\n",
    "waist_t2d_clump <- waist_t2d %>% rename(rsid = snp, pval = p1) %>% ieugwasr::ld_clump(dat =/mnt/mfs/statgen/archive/UKBiobank_Yale_transfer/pleiotropy_geneticfiles/UKB_Caucasians_phenotypeindepqc120319_updated082020removedwithdrawnindiv,clump_r2 = r2_thresh,\n",
    "                     clump_p = pval_thresh,plink_bin = genetics.binaRies::get_plink_binary(), pop = \"EUR\")"
   ]
  },
  {
   "cell_type": "code",
   "execution_count": null,
   "id": "4a932be2-4706-4d2d-918e-591567fffe06",
   "metadata": {
    "kernel": "SoS"
   },
   "outputs": [],
   "source": [
    "download.file(\"http://fileserve.mrcieu.ac.uk/ld/1kg.v3.tgz\",destfile=\"1kg.v3.tgz\")"
   ]
  }
 ],
 "metadata": {
  "kernelspec": {
   "display_name": "R",
   "language": "R",
   "name": "ir"
  },
  "language_info": {
   "codemirror_mode": "r",
   "file_extension": ".r",
   "mimetype": "text/x-r-source",
   "name": "R",
   "pygments_lexer": "r",
   "version": "4.0.0"
  },
  "sos": {
   "kernels": [
    [
     "Bash",
     "bash",
     "Bash",
     "#E6EEFF",
     "shell"
    ],
    [
     "R",
     "ir",
     "R",
     "#DCDCDA",
     "r"
    ],
    [
     "SoS",
     "sos",
     "",
     "",
     "sos"
    ]
   ],
   "version": "0.23.2"
  }
 },
 "nbformat": 4,
 "nbformat_minor": 5
}
