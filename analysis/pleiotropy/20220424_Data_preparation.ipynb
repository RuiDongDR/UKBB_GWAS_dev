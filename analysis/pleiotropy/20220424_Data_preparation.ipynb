{
 "cells": [
  {
   "cell_type": "markdown",
   "id": "0febcc88-5cf0-4056-a465-7fe4db050ffe",
   "metadata": {
    "kernel": "SoS"
   },
   "source": [
    "# Pleiotropy project for Asthma, Adiposity and type 2 diabetes in jazf1 region"
   ]
  },
  {
   "cell_type": "code",
   "execution_count": null,
   "id": "18fb5d9a-2011-4bb2-8e90-c22506a7ae20",
   "metadata": {
    "kernel": "SoS"
   },
   "outputs": [],
   "source": []
  },
  {
   "cell_type": "markdown",
   "id": "4db2a1db-a212-4c53-97b9-4a13a4ec5fd0",
   "metadata": {
    "kernel": "SoS"
   },
   "source": [
    "## Data files and documents\n",
    "* The location of phenotype and genotype data described [here](https://github.com/statgenetics/UKBB_GWAS_dev/blob/master/analysis/pleiotropy/data_description.ipynb)\n",
    "* Phenotype and regenie summstat files also copied to my cluster account\n",
    "\n",
    "    **Pheno**\n",
    "    \n",
    "    > **asthma**:/mnt/mfs/statgen/bst2126/pleiotropy/JAZF1_sum/pheno_asthma_ind_PC.txt\n",
    "    >\n",
    "    > **t2d**:/mnt/mfs/statgen/bst2126/pleiotropy/JAZF1_sum/pheno_asthma_ind_PC.txt\n",
    "    >\n",
    "    > **waist**:/mnt/mfs/statgen/bst2126/pleiotropy/JAZF1_sum/pheno_WC_ind_PC.txt\n",
    "    \n",
    "    **Sumstats**\n",
    "    > **asthma**:/mnt/mfs/statgen/bst2126/pleiotropy/JAZF1_sum/asthma_PC10_step2_imp.regenie_ASTHMA.regenie\n",
    "    >\n",
    "    > **t2d**:/mnt/mfs/statgen/bst2126/pleiotropy/JAZF1_sum/T2D_PC10_step2_imp.regenie_T2D.regenie\n",
    "    >\n",
    "    > **waist**:/mnt/mfs/statgen/bst2126/pleiotropy/JAZF1_sum/WC_PC10_step2_imp.regenie_WAISTcirc_invranknorm.regenie"
   ]
  },
  {
   "cell_type": "markdown",
   "id": "c668019e-4af6-49d6-9906-95a059ff3df9",
   "metadata": {
    "kernel": "SoS",
    "tags": []
   },
   "source": [
    "## Input file preparation for GSMR\n",
    "\n",
    "GSMR requires GWAS summary data of both the risk factor and outcome (disease) that includes the SNP, a1, a2, a1_freq, effect size, std error, p value, and GWAS sample size for each phenotype.\n"
   ]
  },
  {
   "cell_type": "code",
   "execution_count": 2,
   "id": "8f2262bb-5062-40b2-a2b4-dab7a45785fa",
   "metadata": {
    "kernel": "SoS"
   },
   "outputs": [],
   "source": [
    "import pandas as pd"
   ]
  },
  {
   "cell_type": "code",
   "execution_count": 3,
   "id": "5ec5dacb-5af3-4d0d-ae1f-a9dcfd34f600",
   "metadata": {
    "kernel": "SoS",
    "tags": []
   },
   "outputs": [],
   "source": [
    "# reading in the regenie on the imputed data and subsetting regenie data to only keep information within jazf1 region - 7 27868573 28273990\n",
    "# within jazf1 region - 7 27868573 28273990 of the sumstats files there are 2067 variants for asthma and t2d, and 2068 variants for waist\n",
    "\n",
    "# asthma data\n",
    "asthma_regenie = pd.read_csv(\"/mnt/mfs/statgen/bst2126/pleiotropy/JAZF1_sum/asthma_PC10_step2_imp.regenie_ASTHMA.regenie\", sep=\" \")\n",
    "asthma_regenie = asthma_regenie[(asthma_regenie[\"CHROM\"] == 7) & (asthma_regenie[\"GENPOS\"] >= 27868573) & (asthma_regenie[\"GENPOS\"] <= 28273990)][[\"CHROM\", \"GENPOS\", \"ID\", \"ALLELE0\", \"ALLELE1\", \"A1FREQ\", \"N\", \"BETA\", \"SE\", \"LOG10P\"]]\n",
    "\n",
    "# t2d data\n",
    "t2d_regenie = pd.read_csv(\"/mnt/mfs/statgen/bst2126/pleiotropy/JAZF1_sum/T2D_PC10_step2_imp.regenie_T2D.regenie\", sep=\" \")\n",
    "t2d_regenie = t2d_regenie[(t2d_regenie[\"CHROM\"] == 7) & (t2d_regenie[\"GENPOS\"] >= 27868573) & (t2d_regenie[\"GENPOS\"] <= 28273990)][[\"CHROM\", \"GENPOS\", \"ID\", \"ALLELE0\", \"ALLELE1\", \"A1FREQ\", \"N\", \"BETA\", \"SE\", \"LOG10P\"]]\n",
    "\n",
    "# waist circumference data\n",
    "waist_regenie = pd.read_csv(\"/mnt/mfs/statgen/bst2126/pleiotropy/JAZF1_sum/WC_PC10_step2_imp.regenie_WAISTcirc_invranknorm.regenie\", sep=\" \")\n",
    "waist_regenie = waist_regenie[(waist_regenie[\"CHROM\"] == 7) & (waist_regenie[\"GENPOS\"] >= 27868573) & (waist_regenie[\"GENPOS\"] <= 28273990)][[\"CHROM\", \"GENPOS\", \"ID\", \"ALLELE0\", \"ALLELE1\", \"A1FREQ\", \"N\", \"BETA\", \"SE\", \"LOG10P\"]]"
   ]
  },
  {
   "cell_type": "code",
   "execution_count": 4,
   "id": "a6d543af-b13e-4532-abd9-e2ca5e917347",
   "metadata": {
    "kernel": "SoS"
   },
   "outputs": [
    {
     "data": {
      "text/html": [
       "<div>\n",
       "<style scoped>\n",
       "    .dataframe tbody tr th:only-of-type {\n",
       "        vertical-align: middle;\n",
       "    }\n",
       "\n",
       "    .dataframe tbody tr th {\n",
       "        vertical-align: top;\n",
       "    }\n",
       "\n",
       "    .dataframe thead th {\n",
       "        text-align: right;\n",
       "    }\n",
       "</style>\n",
       "<table border=\"1\" class=\"dataframe\">\n",
       "  <thead>\n",
       "    <tr style=\"text-align: right;\">\n",
       "      <th></th>\n",
       "      <th>CHROM</th>\n",
       "      <th>GENPOS</th>\n",
       "      <th>ID</th>\n",
       "      <th>ALLELE0</th>\n",
       "      <th>ALLELE1</th>\n",
       "      <th>A1FREQ</th>\n",
       "      <th>N</th>\n",
       "      <th>BETA</th>\n",
       "      <th>SE</th>\n",
       "      <th>LOG10P</th>\n",
       "    </tr>\n",
       "  </thead>\n",
       "  <tbody>\n",
       "    <tr>\n",
       "      <th>6069486</th>\n",
       "      <td>7</td>\n",
       "      <td>27869098</td>\n",
       "      <td>rs545409685</td>\n",
       "      <td>C</td>\n",
       "      <td>T</td>\n",
       "      <td>0.997340</td>\n",
       "      <td>339345</td>\n",
       "      <td>0.116773</td>\n",
       "      <td>0.071129</td>\n",
       "      <td>0.997184</td>\n",
       "    </tr>\n",
       "    <tr>\n",
       "      <th>6069487</th>\n",
       "      <td>7</td>\n",
       "      <td>27869261</td>\n",
       "      <td>7:27869261_CAGTA_C</td>\n",
       "      <td>C</td>\n",
       "      <td>CAGTA</td>\n",
       "      <td>0.998498</td>\n",
       "      <td>339345</td>\n",
       "      <td>0.036830</td>\n",
       "      <td>0.098431</td>\n",
       "      <td>0.149797</td>\n",
       "    </tr>\n",
       "    <tr>\n",
       "      <th>6069488</th>\n",
       "      <td>7</td>\n",
       "      <td>27869377</td>\n",
       "      <td>rs73075348</td>\n",
       "      <td>G</td>\n",
       "      <td>A</td>\n",
       "      <td>0.943372</td>\n",
       "      <td>339345</td>\n",
       "      <td>-0.000204</td>\n",
       "      <td>0.015226</td>\n",
       "      <td>0.004665</td>\n",
       "    </tr>\n",
       "    <tr>\n",
       "      <th>6069489</th>\n",
       "      <td>7</td>\n",
       "      <td>27869782</td>\n",
       "      <td>rs6948467</td>\n",
       "      <td>A</td>\n",
       "      <td>G</td>\n",
       "      <td>0.607234</td>\n",
       "      <td>339345</td>\n",
       "      <td>-0.002206</td>\n",
       "      <td>0.007223</td>\n",
       "      <td>0.119179</td>\n",
       "    </tr>\n",
       "    <tr>\n",
       "      <th>6069490</th>\n",
       "      <td>7</td>\n",
       "      <td>27869794</td>\n",
       "      <td>rs73075354</td>\n",
       "      <td>G</td>\n",
       "      <td>C</td>\n",
       "      <td>0.883803</td>\n",
       "      <td>339345</td>\n",
       "      <td>0.012311</td>\n",
       "      <td>0.011001</td>\n",
       "      <td>0.579898</td>\n",
       "    </tr>\n",
       "    <tr>\n",
       "      <th>...</th>\n",
       "      <td>...</td>\n",
       "      <td>...</td>\n",
       "      <td>...</td>\n",
       "      <td>...</td>\n",
       "      <td>...</td>\n",
       "      <td>...</td>\n",
       "      <td>...</td>\n",
       "      <td>...</td>\n",
       "      <td>...</td>\n",
       "      <td>...</td>\n",
       "    </tr>\n",
       "    <tr>\n",
       "      <th>6071548</th>\n",
       "      <td>7</td>\n",
       "      <td>28273623</td>\n",
       "      <td>7:28273623_TTTCCTTCCTTCC_T</td>\n",
       "      <td>T</td>\n",
       "      <td>TTTCCTTCCTTCC</td>\n",
       "      <td>0.842749</td>\n",
       "      <td>339345</td>\n",
       "      <td>0.000601</td>\n",
       "      <td>0.009892</td>\n",
       "      <td>0.021555</td>\n",
       "    </tr>\n",
       "    <tr>\n",
       "      <th>6071549</th>\n",
       "      <td>7</td>\n",
       "      <td>28273697</td>\n",
       "      <td>rs188426589</td>\n",
       "      <td>A</td>\n",
       "      <td>T</td>\n",
       "      <td>0.987408</td>\n",
       "      <td>339345</td>\n",
       "      <td>-0.004086</td>\n",
       "      <td>0.031982</td>\n",
       "      <td>0.046563</td>\n",
       "    </tr>\n",
       "    <tr>\n",
       "      <th>6071550</th>\n",
       "      <td>7</td>\n",
       "      <td>28273719</td>\n",
       "      <td>rs6944995</td>\n",
       "      <td>G</td>\n",
       "      <td>T</td>\n",
       "      <td>0.146693</td>\n",
       "      <td>339345</td>\n",
       "      <td>0.006399</td>\n",
       "      <td>0.009963</td>\n",
       "      <td>0.283409</td>\n",
       "    </tr>\n",
       "    <tr>\n",
       "      <th>6071551</th>\n",
       "      <td>7</td>\n",
       "      <td>28273829</td>\n",
       "      <td>rs192297723</td>\n",
       "      <td>C</td>\n",
       "      <td>A</td>\n",
       "      <td>0.988365</td>\n",
       "      <td>339345</td>\n",
       "      <td>0.013026</td>\n",
       "      <td>0.035082</td>\n",
       "      <td>0.148496</td>\n",
       "    </tr>\n",
       "    <tr>\n",
       "      <th>6071552</th>\n",
       "      <td>7</td>\n",
       "      <td>28273986</td>\n",
       "      <td>rs849313</td>\n",
       "      <td>C</td>\n",
       "      <td>T</td>\n",
       "      <td>0.190610</td>\n",
       "      <td>339345</td>\n",
       "      <td>0.011676</td>\n",
       "      <td>0.008962</td>\n",
       "      <td>0.715254</td>\n",
       "    </tr>\n",
       "  </tbody>\n",
       "</table>\n",
       "<p>2067 rows × 10 columns</p>\n",
       "</div>"
      ],
      "text/plain": [
       "         CHROM    GENPOS                          ID ALLELE0        ALLELE1  \\\n",
       "6069486      7  27869098                 rs545409685       C              T   \n",
       "6069487      7  27869261          7:27869261_CAGTA_C       C          CAGTA   \n",
       "6069488      7  27869377                  rs73075348       G              A   \n",
       "6069489      7  27869782                   rs6948467       A              G   \n",
       "6069490      7  27869794                  rs73075354       G              C   \n",
       "...        ...       ...                         ...     ...            ...   \n",
       "6071548      7  28273623  7:28273623_TTTCCTTCCTTCC_T       T  TTTCCTTCCTTCC   \n",
       "6071549      7  28273697                 rs188426589       A              T   \n",
       "6071550      7  28273719                   rs6944995       G              T   \n",
       "6071551      7  28273829                 rs192297723       C              A   \n",
       "6071552      7  28273986                    rs849313       C              T   \n",
       "\n",
       "           A1FREQ       N      BETA        SE    LOG10P  \n",
       "6069486  0.997340  339345  0.116773  0.071129  0.997184  \n",
       "6069487  0.998498  339345  0.036830  0.098431  0.149797  \n",
       "6069488  0.943372  339345 -0.000204  0.015226  0.004665  \n",
       "6069489  0.607234  339345 -0.002206  0.007223  0.119179  \n",
       "6069490  0.883803  339345  0.012311  0.011001  0.579898  \n",
       "...           ...     ...       ...       ...       ...  \n",
       "6071548  0.842749  339345  0.000601  0.009892  0.021555  \n",
       "6071549  0.987408  339345 -0.004086  0.031982  0.046563  \n",
       "6071550  0.146693  339345  0.006399  0.009963  0.283409  \n",
       "6071551  0.988365  339345  0.013026  0.035082  0.148496  \n",
       "6071552  0.190610  339345  0.011676  0.008962  0.715254  \n",
       "\n",
       "[2067 rows x 10 columns]"
      ]
     },
     "execution_count": 4,
     "metadata": {},
     "output_type": "execute_result"
    }
   ],
   "source": [
    "asthma_regenie"
   ]
  },
  {
   "cell_type": "code",
   "execution_count": 7,
   "id": "4d806a5c-b0b0-46d2-b83a-245b52f3e4dd",
   "metadata": {
    "kernel": "SoS"
   },
   "outputs": [],
   "source": [
    "# gsmr sumdata uses SNP, a1, a2, a1_freq, bzx, bzx_se, bzx_pval, bzx_n, bzy, bzy_se, bzy_pval, bzy_n as columns\n",
    "\n",
    "# from current regenie data need to calculate A0FREQ and PVAL\n",
    "\n",
    "# A0FREQ\n",
    "get_a0freq = lambda row: 1 - row[\"A1FREQ\"]\n",
    "\n",
    "asthma_regenie[\"A0FREQ\"] = asthma_regenie.apply(get_a0freq, axis=1)\n",
    "t2d_regenie[\"A0FREQ\"] = t2d_regenie.apply(get_a0freq, axis=1)\n",
    "waist_regenie[\"A0FREQ\"] = waist_regenie.apply(get_a0freq, axis=1)\n",
    "\n",
    "# PVAL\n",
    "get_pval = lambda row: 10 ** (-row[\"LOG10P\"])\n",
    "\n",
    "asthma_regenie[\"PVAL\"] = asthma_regenie.apply(get_pval, axis=1)\n",
    "t2d_regenie[\"PVAL\"] = t2d_regenie.apply(get_pval, axis=1)\n",
    "waist_regenie[\"PVAL\"] = waist_regenie.apply(get_pval, axis=1)\n",
    "\n",
    "# also renaming all the columns for merging later on\n",
    "asthma_regenie = asthma_regenie.rename(columns={\"ID\":\"SNP\", \"ALLELE0\":\"a1\", \"ALLELE1\":\"a2\", \"A0FREQ\":\"asthma_a1_freq\", \"N\":\"asthma_n\", \"BETA\":\"asthma_beta\", \"SE\":\"asthma_se\", \"PVAL\":\"asthma_pval\"})\n",
    "t2d_regenie = t2d_regenie.rename(columns={\"ID\":\"SNP\", \"ALLELE0\":\"a1\", \"ALLELE1\":\"a2\", \"A0FREQ\":\"t2d_a1_freq\", \"N\":\"t2d_n\", \"BETA\":\"t2d_beta\", \"SE\":\"t2d_se\", \"PVAL\":\"t2d_pval\"})\n",
    "waist_regenie = waist_regenie.rename(columns={\"ID\":\"SNP\", \"ALLELE0\":\"a1\", \"ALLELE1\":\"a2\", \"A0FREQ\":\"waist_a1_freq\", \"N\":\"waist_n\", \"BETA\":\"waist_beta\", \"SE\":\"waist_se\", \"PVAL\":\"waist_pval\"})\n",
    "\n",
    "# keeping only relevant columns\n",
    "asthma_regenie = asthma_regenie[[\"SNP\", \"a1\", \"a2\", \"asthma_a1_freq\", \"asthma_beta\", \"asthma_se\", \"asthma_pval\", \"asthma_n\"]]\n",
    "t2d_regenie = t2d_regenie[[\"SNP\", \"a1\", \"a2\", \"t2d_a1_freq\", \"t2d_beta\", \"t2d_se\", \"t2d_pval\", \"t2d_n\"]]\n",
    "waist_regenie = waist_regenie[[\"SNP\", \"a1\", \"a2\", \"waist_a1_freq\", \"waist_beta\", \"waist_se\", \"waist_pval\", \"waist_n\"]]"
   ]
  },
  {
   "cell_type": "markdown",
   "id": "65f60363-9640-4a3a-9411-5e365117497b",
   "metadata": {
    "kernel": "SoS"
   },
   "source": [
    "This is the input format for the GSMR analysis.  \n",
    "SNP: the genetic instrument  \n",
    "a1: effect allele  \n",
    "a2: the other allele  \n",
    "a1_freq: frequency of a1  \n",
    "bzx: the effect size of a1 on risk factor  \n",
    "bzx_se: standard error of bzx  \n",
    "bzx_pval: p value for bzx  \n",
    "bzx_n: per-SNP sample size of GWAS for the risk factor  \n",
    "bzy: the effect size of a1 on disease  \n",
    "bzy_se: standard error of bzy  \n",
    "bzy_pval: p value for bzy  \n",
    "bzy_n: per-SNP sample size of GWAS for the disease\n",
    "\n",
    "### The goal is to assess pleiotropic relationships between asthma-T2D, waist-T2D and waist_asthma_t2d \n"
   ]
  },
  {
   "cell_type": "code",
   "execution_count": 11,
   "id": "5c155941-9a2f-4aac-b964-54610c8c3114",
   "metadata": {
    "kernel": "SoS"
   },
   "outputs": [
    {
     "data": {
      "text/html": [
       "<div>\n",
       "<style scoped>\n",
       "    .dataframe tbody tr th:only-of-type {\n",
       "        vertical-align: middle;\n",
       "    }\n",
       "\n",
       "    .dataframe tbody tr th {\n",
       "        vertical-align: top;\n",
       "    }\n",
       "\n",
       "    .dataframe thead th {\n",
       "        text-align: right;\n",
       "    }\n",
       "</style>\n",
       "<table border=\"1\" class=\"dataframe\">\n",
       "  <thead>\n",
       "    <tr style=\"text-align: right;\">\n",
       "      <th></th>\n",
       "      <th>SNP</th>\n",
       "      <th>a1</th>\n",
       "      <th>a2</th>\n",
       "      <th>a1_freq</th>\n",
       "      <th>bzx</th>\n",
       "      <th>bzx_se</th>\n",
       "      <th>bzx_pval</th>\n",
       "      <th>bzx_n</th>\n",
       "      <th>bzy</th>\n",
       "      <th>bzy_se</th>\n",
       "      <th>bzy_pval</th>\n",
       "      <th>bzy_n</th>\n",
       "    </tr>\n",
       "  </thead>\n",
       "  <tbody>\n",
       "    <tr>\n",
       "      <th>0</th>\n",
       "      <td>rs545409685</td>\n",
       "      <td>C</td>\n",
       "      <td>T</td>\n",
       "      <td>0.002660</td>\n",
       "      <td>0.116773</td>\n",
       "      <td>0.071129</td>\n",
       "      <td>0.100651</td>\n",
       "      <td>339345</td>\n",
       "      <td>0.038626</td>\n",
       "      <td>0.100036</td>\n",
       "      <td>0.699410</td>\n",
       "      <td>336074</td>\n",
       "    </tr>\n",
       "    <tr>\n",
       "      <th>1</th>\n",
       "      <td>7:27869261_CAGTA_C</td>\n",
       "      <td>C</td>\n",
       "      <td>CAGTA</td>\n",
       "      <td>0.001502</td>\n",
       "      <td>0.036830</td>\n",
       "      <td>0.098431</td>\n",
       "      <td>0.708277</td>\n",
       "      <td>339345</td>\n",
       "      <td>0.108386</td>\n",
       "      <td>0.140165</td>\n",
       "      <td>0.439362</td>\n",
       "      <td>336074</td>\n",
       "    </tr>\n",
       "    <tr>\n",
       "      <th>2</th>\n",
       "      <td>rs73075348</td>\n",
       "      <td>G</td>\n",
       "      <td>A</td>\n",
       "      <td>0.056628</td>\n",
       "      <td>-0.000204</td>\n",
       "      <td>0.015226</td>\n",
       "      <td>0.989316</td>\n",
       "      <td>339345</td>\n",
       "      <td>0.016225</td>\n",
       "      <td>0.021522</td>\n",
       "      <td>0.450928</td>\n",
       "      <td>336074</td>\n",
       "    </tr>\n",
       "    <tr>\n",
       "      <th>3</th>\n",
       "      <td>rs6948467</td>\n",
       "      <td>A</td>\n",
       "      <td>G</td>\n",
       "      <td>0.392766</td>\n",
       "      <td>-0.002206</td>\n",
       "      <td>0.007223</td>\n",
       "      <td>0.760013</td>\n",
       "      <td>339345</td>\n",
       "      <td>-0.020544</td>\n",
       "      <td>0.010241</td>\n",
       "      <td>0.044843</td>\n",
       "      <td>336074</td>\n",
       "    </tr>\n",
       "    <tr>\n",
       "      <th>4</th>\n",
       "      <td>rs73075354</td>\n",
       "      <td>G</td>\n",
       "      <td>C</td>\n",
       "      <td>0.116197</td>\n",
       "      <td>0.012311</td>\n",
       "      <td>0.011001</td>\n",
       "      <td>0.263089</td>\n",
       "      <td>339345</td>\n",
       "      <td>0.038589</td>\n",
       "      <td>0.015628</td>\n",
       "      <td>0.013539</td>\n",
       "      <td>336074</td>\n",
       "    </tr>\n",
       "    <tr>\n",
       "      <th>...</th>\n",
       "      <td>...</td>\n",
       "      <td>...</td>\n",
       "      <td>...</td>\n",
       "      <td>...</td>\n",
       "      <td>...</td>\n",
       "      <td>...</td>\n",
       "      <td>...</td>\n",
       "      <td>...</td>\n",
       "      <td>...</td>\n",
       "      <td>...</td>\n",
       "      <td>...</td>\n",
       "      <td>...</td>\n",
       "    </tr>\n",
       "    <tr>\n",
       "      <th>2060</th>\n",
       "      <td>7:28273623_TTTCCTTCCTTCC_T</td>\n",
       "      <td>T</td>\n",
       "      <td>TTTCCTTCCTTCC</td>\n",
       "      <td>0.157251</td>\n",
       "      <td>0.000601</td>\n",
       "      <td>0.009892</td>\n",
       "      <td>0.951580</td>\n",
       "      <td>339345</td>\n",
       "      <td>-0.007129</td>\n",
       "      <td>0.014019</td>\n",
       "      <td>0.611093</td>\n",
       "      <td>336074</td>\n",
       "    </tr>\n",
       "    <tr>\n",
       "      <th>2061</th>\n",
       "      <td>rs188426589</td>\n",
       "      <td>A</td>\n",
       "      <td>T</td>\n",
       "      <td>0.012592</td>\n",
       "      <td>-0.004086</td>\n",
       "      <td>0.031982</td>\n",
       "      <td>0.898333</td>\n",
       "      <td>339345</td>\n",
       "      <td>-0.013464</td>\n",
       "      <td>0.045338</td>\n",
       "      <td>0.766489</td>\n",
       "      <td>336074</td>\n",
       "    </tr>\n",
       "    <tr>\n",
       "      <th>2062</th>\n",
       "      <td>rs6944995</td>\n",
       "      <td>G</td>\n",
       "      <td>T</td>\n",
       "      <td>0.853307</td>\n",
       "      <td>0.006399</td>\n",
       "      <td>0.009963</td>\n",
       "      <td>0.520704</td>\n",
       "      <td>339345</td>\n",
       "      <td>0.013798</td>\n",
       "      <td>0.014138</td>\n",
       "      <td>0.329086</td>\n",
       "      <td>336074</td>\n",
       "    </tr>\n",
       "    <tr>\n",
       "      <th>2063</th>\n",
       "      <td>rs192297723</td>\n",
       "      <td>C</td>\n",
       "      <td>A</td>\n",
       "      <td>0.011635</td>\n",
       "      <td>0.013026</td>\n",
       "      <td>0.035082</td>\n",
       "      <td>0.710402</td>\n",
       "      <td>339345</td>\n",
       "      <td>-0.051344</td>\n",
       "      <td>0.049307</td>\n",
       "      <td>0.297730</td>\n",
       "      <td>336074</td>\n",
       "    </tr>\n",
       "    <tr>\n",
       "      <th>2064</th>\n",
       "      <td>rs849313</td>\n",
       "      <td>C</td>\n",
       "      <td>T</td>\n",
       "      <td>0.809390</td>\n",
       "      <td>0.011676</td>\n",
       "      <td>0.008962</td>\n",
       "      <td>0.192640</td>\n",
       "      <td>339345</td>\n",
       "      <td>0.021089</td>\n",
       "      <td>0.012715</td>\n",
       "      <td>0.097203</td>\n",
       "      <td>336074</td>\n",
       "    </tr>\n",
       "  </tbody>\n",
       "</table>\n",
       "<p>2065 rows × 12 columns</p>\n",
       "</div>"
      ],
      "text/plain": [
       "                             SNP a1             a2   a1_freq       bzx  \\\n",
       "0                    rs545409685  C              T  0.002660  0.116773   \n",
       "1             7:27869261_CAGTA_C  C          CAGTA  0.001502  0.036830   \n",
       "2                     rs73075348  G              A  0.056628 -0.000204   \n",
       "3                      rs6948467  A              G  0.392766 -0.002206   \n",
       "4                     rs73075354  G              C  0.116197  0.012311   \n",
       "...                          ... ..            ...       ...       ...   \n",
       "2060  7:28273623_TTTCCTTCCTTCC_T  T  TTTCCTTCCTTCC  0.157251  0.000601   \n",
       "2061                 rs188426589  A              T  0.012592 -0.004086   \n",
       "2062                   rs6944995  G              T  0.853307  0.006399   \n",
       "2063                 rs192297723  C              A  0.011635  0.013026   \n",
       "2064                    rs849313  C              T  0.809390  0.011676   \n",
       "\n",
       "        bzx_se  bzx_pval   bzx_n       bzy    bzy_se  bzy_pval   bzy_n  \n",
       "0     0.071129  0.100651  339345  0.038626  0.100036  0.699410  336074  \n",
       "1     0.098431  0.708277  339345  0.108386  0.140165  0.439362  336074  \n",
       "2     0.015226  0.989316  339345  0.016225  0.021522  0.450928  336074  \n",
       "3     0.007223  0.760013  339345 -0.020544  0.010241  0.044843  336074  \n",
       "4     0.011001  0.263089  339345  0.038589  0.015628  0.013539  336074  \n",
       "...        ...       ...     ...       ...       ...       ...     ...  \n",
       "2060  0.009892  0.951580  339345 -0.007129  0.014019  0.611093  336074  \n",
       "2061  0.031982  0.898333  339345 -0.013464  0.045338  0.766489  336074  \n",
       "2062  0.009963  0.520704  339345  0.013798  0.014138  0.329086  336074  \n",
       "2063  0.035082  0.710402  339345 -0.051344  0.049307  0.297730  336074  \n",
       "2064  0.008962  0.192640  339345  0.021089  0.012715  0.097203  336074  \n",
       "\n",
       "[2065 rows x 12 columns]"
      ]
     },
     "execution_count": 11,
     "metadata": {},
     "output_type": "execute_result"
    }
   ],
   "source": [
    "## Prepare asthma_t2d sumdata for GSMR\n",
    "asthma_v_t2d = pd.merge(asthma_regenie, t2d_regenie,  how='inner', left_on=['SNP','a1','a2'], right_on = ['SNP','a1','a2']).drop([\"t2d_a1_freq\"], axis=1)\n",
    "asthma_v_t2d = asthma_v_t2d.rename(columns={\"asthma_a1_freq\":\"a1_freq\", \"asthma_beta\":\"bzx\", \"asthma_se\":\"bzx_se\", \"asthma_pval\":\"bzx_pval\", \"asthma_n\":\"bzx_n\", \"t2d_beta\":\"bzy\", \"t2d_se\":\"bzy_se\", \"t2d_pval\":\"bzy_pval\", \"t2d_n\":\"bzy_n\"})\n",
    "asthma_v_t2d\n",
    "\n",
    "## Prepare waist_t2d sumdata for GSMR\n",
    "waist_v_t2d = pd.merge(waist_regenie, t2d_regenie,  how='inner', left_on=['SNP','a1','a2'], right_on = ['SNP','a1','a2']).drop([\"t2d_a1_freq\"], axis=1)\n",
    "waist_v_t2d = waist_v_t2d.rename(columns={\"waist_a1_freq\":\"a1_freq\", \"waist_beta\":\"bzx\", \"waist_se\":\"bzx_se\", \"waist_pval\":\"bzx_pval\", \"waist_n\":\"bzx_n\", \"t2d_beta\":\"bzy\", \"t2d_se\":\"bzy_se\", \"t2d_pval\":\"bzy_pval\", \"t2d_n\":\"bzy_n\"})\n",
    "\n",
    "# Prepare waist_asthma sumdata for GSMR\n",
    "waist_v_asthma = pd.merge(waist_regenie, asthma_regenie,  how='inner', left_on=['SNP','a1','a2'], right_on = ['SNP','a1','a2']).drop([\"asthma_a1_freq\"], axis=1)\n",
    "waist_v_asthma = waist_v_asthma.rename(columns={\"waist_a1_freq\":\"a1_freq\", \"waist_beta\":\"bzx\", \"waist_se\":\"bzx_se\", \"waist_pval\":\"bzx_pval\", \"waist_n\":\"bzx_n\", \"asthma_beta\":\"bzy\", \"asthma_se\":\"bzy_se\", \"asthma_pval\":\"bzy_pval\", \"asthma_n\":\"bzy_n\"})\n",
    "\n"
   ]
  },
  {
   "cell_type": "code",
   "execution_count": 14,
   "id": "763909a3-de06-4f47-adbb-d4e39f3038e9",
   "metadata": {
    "kernel": "SoS"
   },
   "outputs": [],
   "source": [
    "# Save GSMR data\n",
    "asthma_v_t2d.to_csv(\"/mnt/mfs/statgen/bst2126/pleiotropy/JAZF1_sum/asthma_v_t2d_gsmr_data\", sep=\" \", index=False)\n",
    "waist_v_t2d.to_csv(\"/mnt/mfs/statgen/bst2126/pleiotropy/JAZF1_sum/waist_v_t2d_gsmr_data\", sep=\" \", index=False)\n",
    "waist_v_asthma.to_csv(\"/mnt/mfs/statgen/bst2126/pleiotropy/JAZF1_sum/waist_v_asthma_gsmr_data\", sep=\" \", index=False)"
   ]
  },
  {
   "cell_type": "code",
   "execution_count": 15,
   "id": "72163f37-330e-4591-9165-6e727356d09a",
   "metadata": {
    "kernel": "SoS"
   },
   "outputs": [],
   "source": [
    "# Save the genetic variants and effect alleles to estimate LD correlation matrix\n",
    "asthma_v_t2d[[\"SNP\", \"a1\"]].to_csv(\"/mnt/mfs/statgen/bst2126/pleiotropy/JAZF1_sum/asthma_v_t2d_snps.allele\", sep=\" \", header=False, index=False)\n",
    "waist_v_t2d[[\"SNP\", \"a1\"]].to_csv(\"/mnt/mfs/statgen/bst2126/pleiotropy/JAZF1_sum/waist_v_t2d_snps.allele\", sep=\" \", header=False, index=False)\n",
    "waist_v_asthma[[\"SNP\", \"a1\"]].to_csv(\"/mnt/mfs/statgen/bst2126/pleiotropy/JAZF1_sum/waist_v_asthma_snps.allele\", sep=\" \", header=False, index=False)"
   ]
  },
  {
   "cell_type": "markdown",
   "id": "13a47f39-e7d8-4cbb-8123-822d14bed2ce",
   "metadata": {
    "kernel": "SoS"
   },
   "source": [
    "## check sumstats against bgenfile and bfile to determine intersection of variants\n",
    "\n",
    "* within jazf1 region - 7 27868573 28273990 of the sumstats files there are 2067 variants for asthma and t2d, and 2068 variants for waist\n",
    "    * the intersection with the bgen file indicates 1952 and 1953 of these variants respectively can be found in both datasets\n",
    "    "
   ]
  },
  {
   "cell_type": "code",
   "execution_count": 18,
   "id": "a8a25e58-9fe0-4c54-9f81-a483580ce6ee",
   "metadata": {
    "kernel": "SoS"
   },
   "outputs": [],
   "source": [
    "# asthma data\n",
    "asthma_sumstats = pd.read_csv(\"/mnt/mfs/statgen/bst2126/pleiotropy/JAZF1_sum/asthma_PC10_step2_imp.regenie_ASTHMA.regenie\", sep=\" \")\n",
    "asthma_sumstats = asthma_sumstats[(asthma_sumstats[\"CHROM\"] == 7) & (asthma_sumstats[\"GENPOS\"] >= 27868573) & (asthma_sumstats[\"GENPOS\"] <= 28273990)][[\"CHROM\", \"GENPOS\", \"ID\", \"ALLELE0\", \"ALLELE1\", \"A1FREQ\", \"N\", \"BETA\", \"SE\", \"LOG10P\"]]\n",
    "\n",
    "# t2d data\n",
    "t2d_sumstats = pd.read_csv(\"/mnt/mfs/statgen/bst2126/pleiotropy/JAZF1_sum/T2D_PC10_step2_imp.regenie_T2D.regenie\", sep=\" \")\n",
    "t2d_sumstats = t2d_sumstats[(t2d_sumstats[\"CHROM\"] == 7) & (t2d_sumstats[\"GENPOS\"] >= 27868573) & (t2d_sumstats[\"GENPOS\"] <= 28273990)][[\"CHROM\", \"GENPOS\", \"ID\", \"ALLELE0\", \"ALLELE1\", \"A1FREQ\", \"N\", \"BETA\", \"SE\", \"LOG10P\"]]\n",
    "\n",
    "# waist circumference data\n",
    "waist_sumstats = pd.read_csv(\"/mnt/mfs/statgen/bst2126/pleiotropy/JAZF1_sum/WC_PC10_step2_imp.regenie_WAISTcirc_invranknorm.regenie\", sep=\" \")\n",
    "waist_sumstats = waist_sumstats[(waist_sumstats[\"CHROM\"] == 7) & (waist_sumstats[\"GENPOS\"] >= 27868573) & (waist_sumstats[\"GENPOS\"] <= 28273990)][[\"CHROM\", \"GENPOS\", \"ID\", \"ALLELE0\", \"ALLELE1\", \"A1FREQ\", \"N\", \"BETA\", \"SE\", \"LOG10P\"]]\n",
    "\n",
    "# from current regenie data need to calculate A0FREQ and PVAL\n",
    "\n",
    "# A0FREQ\n",
    "get_a0freq = lambda row: 1 - row[\"A1FREQ\"]\n",
    "\n",
    "asthma_sumstats[\"A0FREQ\"] = asthma_sumstats.apply(get_a0freq, axis=1)\n",
    "t2d_sumstats[\"A0FREQ\"] = t2d_sumstats.apply(get_a0freq, axis=1)\n",
    "waist_sumstats[\"A0FREQ\"] = waist_sumstats.apply(get_a0freq, axis=1)\n",
    "\n",
    "# PVAL\n",
    "get_pval = lambda row: 10 ** (-row[\"LOG10P\"])\n",
    "\n",
    "asthma_sumstats[\"PVAL\"] = asthma_sumstats.apply(get_pval, axis=1)\n",
    "t2d_sumstats[\"PVAL\"] = t2d_sumstats.apply(get_pval, axis=1)\n",
    "waist_sumstats[\"PVAL\"] = waist_sumstats.apply(get_pval, axis=1)\n",
    "\n",
    "# keeping only relevant columns\n",
    "asthma_sumstats = asthma_sumstats[[\"CHROM\",\"GENPOS\",\"ID\", \"ALLELE0\", \"ALLELE1\", \"A0FREQ\", \"BETA\", \"SE\", \"PVAL\", \"N\"]]\n",
    "t2d_sumstats = t2d_sumstats[[\"CHROM\",\"GENPOS\",\"ID\", \"ALLELE0\", \"ALLELE1\", \"A0FREQ\", \"BETA\", \"SE\", \"PVAL\", \"N\"]]\n",
    "waist_sumstats = waist_sumstats[[\"CHROM\",\"GENPOS\",\"ID\", \"ALLELE0\", \"ALLELE1\", \"A0FREQ\", \"BETA\", \"SE\", \"PVAL\", \"N\"]]\n",
    "\n"
   ]
  },
  {
   "cell_type": "code",
   "execution_count": 20,
   "id": "4a8cc681-8e4e-453f-a49a-95a23615f481",
   "metadata": {
    "kernel": "SoS"
   },
   "outputs": [],
   "source": [
    "# renaming columns in Sumstat format\n",
    "asthma_sumstats = asthma_sumstats.rename(columns={\"CHROM\":\"CHR\", \"GENPOS\":\"POS\", \"ID\":\"SNP\", \"ALLELE0\":\"A1\", \"ALLELE1\":\"A2\", \"A0FREQ\":\"A1FREQ\", \"BETA\":\"beta\", \"SE\":\"se\", \"PVAL\":\"p\"})\n",
    "t2d_sumstats = t2d_sumstats.rename(columns={\"CHROM\":\"CHR\", \"GENPOS\":\"POS\", \"ID\":\"SNP\", \"ALLELE0\":\"A1\", \"ALLELE1\":\"A2\", \"A0FREQ\":\"A1FREQ\", \"BETA\":\"beta\", \"SE\":\"se\", \"PVAL\":\"p\"})\n",
    "waist_sumstats = waist_sumstats.rename(columns={\"CHROM\":\"CHR\", \"GENPOS\":\"POS\", \"ID\":\"SNP\", \"ALLELE0\":\"A1\", \"ALLELE1\":\"A2\", \"A0FREQ\":\"A1FREQ\", \"BETA\":\"beta\", \"SE\":\"se\", \"PVAL\":\"p\"})"
   ]
  },
  {
   "cell_type": "code",
   "execution_count": 21,
   "id": "6f308fb8-e541-4c3b-b518-599fe2743675",
   "metadata": {
    "kernel": "SoS"
   },
   "outputs": [],
   "source": [
    "# Save sumstats in jazf1 region for future use\n",
    "\n",
    "asthma_sumstats.to_csv(\"/mnt/mfs/statgen/bst2126/pleiotropy/JAZF1_sum/asthma_sumstats_jazf1\", sep=\"\\t\", index=False)\n",
    "t2d_sumstats.to_csv(\"/mnt/mfs/statgen/bst2126/pleiotropy/JAZF1_sum/t2d_sumstats_jazf1\", sep=\"\\t\", index=False)\n",
    "waist_sumstats.to_csv(\"/mnt/mfs/statgen/bst2126/pleiotropy/JAZF1_sum/waist_sumstats_jazf1\", sep=\"\\t\", index=False)"
   ]
  },
  {
   "cell_type": "code",
   "execution_count": 30,
   "id": "05d09477-a7ae-406c-883d-b0574d172b70",
   "metadata": {
    "kernel": "SoS"
   },
   "outputs": [],
   "source": [
    "# Define set of chr:pos_Ref.allele_Alt.allele format to check the intersection of variants with the bgen file.\n",
    "\n",
    "def chromsnp(row):\n",
    "    return f\"{row['CHR']}:{row['POS']}_{row['A2']}_{row['A1']}\"\n",
    "asthma_sumstats_chromsnp = asthma_sumstats.apply(chromsnp, axis=1)\n",
    "asthma_sumstats_chromsnp = set(asthma_sumstats_chromsnp.to_list())\n",
    "t2d_sumstats_chromsnp = t2d_sumstats.apply(chromsnp, axis=1)\n",
    "t2d_sumstats_chromsnp = set(t2d_sumstats_chromsnp.to_list())\n",
    "waist_sumstats_chromsnp = waist_sumstats.apply(chromsnp, axis=1)\n",
    "waist_sumstats_chromsnp = set(waist_sumstats_chromsnp.to_list())"
   ]
  },
  {
   "cell_type": "code",
   "execution_count": 31,
   "id": "84b960fb-f908-46e5-a13b-abadb8af0364",
   "metadata": {
    "kernel": "SoS"
   },
   "outputs": [],
   "source": [
    "# importimputed bgen (imputed) from chr.7\n",
    "\n",
    "bgenfile = pd.read_csv(\"/mnt/mfs/statgen/archive/UKBiobank_Yale_transfer/ukb39554_imputeddataset/ukb_mfi_chr7_v3.txt\", sep=\"\\t\", header=None)\n"
   ]
  },
  {
   "cell_type": "code",
   "execution_count": 32,
   "id": "06fd9952-bf59-4e4f-bbab-3a41af52a5b9",
   "metadata": {
    "kernel": "SoS"
   },
   "outputs": [
    {
     "data": {
      "text/html": [
       "<div>\n",
       "<style scoped>\n",
       "    .dataframe tbody tr th:only-of-type {\n",
       "        vertical-align: middle;\n",
       "    }\n",
       "\n",
       "    .dataframe tbody tr th {\n",
       "        vertical-align: top;\n",
       "    }\n",
       "\n",
       "    .dataframe thead th {\n",
       "        text-align: right;\n",
       "    }\n",
       "</style>\n",
       "<table border=\"1\" class=\"dataframe\">\n",
       "  <thead>\n",
       "    <tr style=\"text-align: right;\">\n",
       "      <th></th>\n",
       "      <th>0</th>\n",
       "      <th>1</th>\n",
       "      <th>2</th>\n",
       "      <th>3</th>\n",
       "      <th>4</th>\n",
       "      <th>5</th>\n",
       "      <th>6</th>\n",
       "      <th>7</th>\n",
       "    </tr>\n",
       "  </thead>\n",
       "  <tbody>\n",
       "    <tr>\n",
       "      <th>0</th>\n",
       "      <td>7:14808_T_C</td>\n",
       "      <td>rs555283805</td>\n",
       "      <td>14808</td>\n",
       "      <td>T</td>\n",
       "      <td>C</td>\n",
       "      <td>6.696880e-05</td>\n",
       "      <td>C</td>\n",
       "      <td>0.364399</td>\n",
       "    </tr>\n",
       "    <tr>\n",
       "      <th>1</th>\n",
       "      <td>7:15064_T_C</td>\n",
       "      <td>rs576737504</td>\n",
       "      <td>15064</td>\n",
       "      <td>T</td>\n",
       "      <td>C</td>\n",
       "      <td>9.846300e-04</td>\n",
       "      <td>C</td>\n",
       "      <td>0.652527</td>\n",
       "    </tr>\n",
       "    <tr>\n",
       "      <th>2</th>\n",
       "      <td>7:16454_C_T</td>\n",
       "      <td>rs544026442</td>\n",
       "      <td>16454</td>\n",
       "      <td>C</td>\n",
       "      <td>T</td>\n",
       "      <td>7.442310e-07</td>\n",
       "      <td>T</td>\n",
       "      <td>0.011086</td>\n",
       "    </tr>\n",
       "    <tr>\n",
       "      <th>3</th>\n",
       "      <td>7:16692_G_C</td>\n",
       "      <td>rs370739206</td>\n",
       "      <td>16692</td>\n",
       "      <td>G</td>\n",
       "      <td>C</td>\n",
       "      <td>0.000000e+00</td>\n",
       "      <td>G</td>\n",
       "      <td>NaN</td>\n",
       "    </tr>\n",
       "    <tr>\n",
       "      <th>4</th>\n",
       "      <td>7:16712_T_G</td>\n",
       "      <td>rs373250171</td>\n",
       "      <td>16712</td>\n",
       "      <td>T</td>\n",
       "      <td>G</td>\n",
       "      <td>2.717570e-04</td>\n",
       "      <td>G</td>\n",
       "      <td>0.207113</td>\n",
       "    </tr>\n",
       "    <tr>\n",
       "      <th>...</th>\n",
       "      <td>...</td>\n",
       "      <td>...</td>\n",
       "      <td>...</td>\n",
       "      <td>...</td>\n",
       "      <td>...</td>\n",
       "      <td>...</td>\n",
       "      <td>...</td>\n",
       "      <td>...</td>\n",
       "    </tr>\n",
       "    <tr>\n",
       "      <th>5405519</th>\n",
       "      <td>7:159128544_A_C</td>\n",
       "      <td>rs183389554</td>\n",
       "      <td>159128544</td>\n",
       "      <td>A</td>\n",
       "      <td>C</td>\n",
       "      <td>7.966900e-05</td>\n",
       "      <td>C</td>\n",
       "      <td>0.308943</td>\n",
       "    </tr>\n",
       "    <tr>\n",
       "      <th>5405520</th>\n",
       "      <td>7:159128550_C_G</td>\n",
       "      <td>rs145893243</td>\n",
       "      <td>159128550</td>\n",
       "      <td>C</td>\n",
       "      <td>G</td>\n",
       "      <td>2.656680e-02</td>\n",
       "      <td>G</td>\n",
       "      <td>0.939808</td>\n",
       "    </tr>\n",
       "    <tr>\n",
       "      <th>5405521</th>\n",
       "      <td>7:159128554_C_T</td>\n",
       "      <td>rs77350961</td>\n",
       "      <td>159128554</td>\n",
       "      <td>C</td>\n",
       "      <td>T</td>\n",
       "      <td>2.120010e-04</td>\n",
       "      <td>T</td>\n",
       "      <td>0.254989</td>\n",
       "    </tr>\n",
       "    <tr>\n",
       "      <th>5405522</th>\n",
       "      <td>7:159128560_T_C</td>\n",
       "      <td>rs542634737</td>\n",
       "      <td>159128560</td>\n",
       "      <td>T</td>\n",
       "      <td>C</td>\n",
       "      <td>5.464860e-03</td>\n",
       "      <td>C</td>\n",
       "      <td>0.532634</td>\n",
       "    </tr>\n",
       "    <tr>\n",
       "      <th>5405523</th>\n",
       "      <td>7:159128567_A_T</td>\n",
       "      <td>rs562817270</td>\n",
       "      <td>159128567</td>\n",
       "      <td>A</td>\n",
       "      <td>T</td>\n",
       "      <td>1.647840e-02</td>\n",
       "      <td>T</td>\n",
       "      <td>0.568426</td>\n",
       "    </tr>\n",
       "  </tbody>\n",
       "</table>\n",
       "<p>5405524 rows × 8 columns</p>\n",
       "</div>"
      ],
      "text/plain": [
       "                       0            1          2  3  4             5  6  \\\n",
       "0            7:14808_T_C  rs555283805      14808  T  C  6.696880e-05  C   \n",
       "1            7:15064_T_C  rs576737504      15064  T  C  9.846300e-04  C   \n",
       "2            7:16454_C_T  rs544026442      16454  C  T  7.442310e-07  T   \n",
       "3            7:16692_G_C  rs370739206      16692  G  C  0.000000e+00  G   \n",
       "4            7:16712_T_G  rs373250171      16712  T  G  2.717570e-04  G   \n",
       "...                  ...          ...        ... .. ..           ... ..   \n",
       "5405519  7:159128544_A_C  rs183389554  159128544  A  C  7.966900e-05  C   \n",
       "5405520  7:159128550_C_G  rs145893243  159128550  C  G  2.656680e-02  G   \n",
       "5405521  7:159128554_C_T   rs77350961  159128554  C  T  2.120010e-04  T   \n",
       "5405522  7:159128560_T_C  rs542634737  159128560  T  C  5.464860e-03  C   \n",
       "5405523  7:159128567_A_T  rs562817270  159128567  A  T  1.647840e-02  T   \n",
       "\n",
       "                7  \n",
       "0        0.364399  \n",
       "1        0.652527  \n",
       "2        0.011086  \n",
       "3             NaN  \n",
       "4        0.207113  \n",
       "...           ...  \n",
       "5405519  0.308943  \n",
       "5405520  0.939808  \n",
       "5405521  0.254989  \n",
       "5405522  0.532634  \n",
       "5405523  0.568426  \n",
       "\n",
       "[5405524 rows x 8 columns]"
      ]
     },
     "execution_count": 32,
     "metadata": {},
     "output_type": "execute_result"
    }
   ],
   "source": [
    "bgenfile"
   ]
  },
  {
   "cell_type": "code",
   "execution_count": 33,
   "id": "13bda5a6-1224-4e48-8b4d-1d9b1e1f7510",
   "metadata": {
    "kernel": "SoS"
   },
   "outputs": [],
   "source": [
    "# create the variant id set \n",
    "bgen_chromsnp = set(bgenfile[0].to_list())"
   ]
  },
  {
   "cell_type": "code",
   "execution_count": 34,
   "id": "e682b007-f98d-4c27-bd11-0ff266129410",
   "metadata": {
    "kernel": "SoS"
   },
   "outputs": [
    {
     "data": {
      "text/plain": [
       "1952"
      ]
     },
     "execution_count": 34,
     "metadata": {},
     "output_type": "execute_result"
    }
   ],
   "source": [
    "# check the intersection between the sumstats data and bgenfile\n",
    "len(asthma_sumstats_chromsnp.intersection(bgen_chromsnp))"
   ]
  },
  {
   "cell_type": "code",
   "execution_count": 35,
   "id": "dfdd8199-e74e-41d9-ad05-0cca5be90e83",
   "metadata": {
    "kernel": "SoS"
   },
   "outputs": [
    {
     "data": {
      "text/plain": [
       "1952"
      ]
     },
     "execution_count": 35,
     "metadata": {},
     "output_type": "execute_result"
    }
   ],
   "source": [
    "len(t2d_sumstats_chromsnp.intersection(bgen_chromsnp))"
   ]
  },
  {
   "cell_type": "code",
   "execution_count": 36,
   "id": "33f62c8f-8352-41ff-a579-39d14433619f",
   "metadata": {
    "kernel": "SoS"
   },
   "outputs": [
    {
     "data": {
      "text/plain": [
       "1953"
      ]
     },
     "execution_count": 36,
     "metadata": {},
     "output_type": "execute_result"
    }
   ],
   "source": [
    "len(waist_sumstats_chromsnp.intersection(bgen_chromsnp))"
   ]
  },
  {
   "cell_type": "code",
   "execution_count": 39,
   "id": "f8c26ba5-743d-4251-9232-787b8ef15961",
   "metadata": {
    "kernel": "SoS"
   },
   "outputs": [],
   "source": [
    "# checking the list ofsig snps\n",
    "import numpy as np\n",
    "import pandas as pd"
   ]
  },
  {
   "cell_type": "code",
   "execution_count": 40,
   "id": "dcab1cdc-d7ad-4c56-87fb-a1e06704376a",
   "metadata": {
    "kernel": "SoS"
   },
   "outputs": [],
   "source": [
    "\n",
    "asthma_sumstats_chromsnp = asthma_sumstats.apply(chromsnp, axis=1)\n",
    "t2d_sumstats_chromsnp = t2d_sumstats.apply(chromsnp, axis=1)\n",
    "waist_sumstats_chromsnp = waist_sumstats.apply(chromsnp, axis=1)"
   ]
  },
  {
   "cell_type": "code",
   "execution_count": 41,
   "id": "5e519cd4-14b5-49fd-b048-bc9acad7dc9a",
   "metadata": {
    "kernel": "SoS"
   },
   "outputs": [
    {
     "data": {
      "text/plain": [
       "6069486                7:27869098_T_C\n",
       "6069487            7:27869261_CAGTA_C\n",
       "6069488                7:27869377_A_G\n",
       "6069489                7:27869782_G_A\n",
       "6069490                7:27869794_C_G\n",
       "                      ...            \n",
       "6071548    7:28273623_TTTCCTTCCTTCC_T\n",
       "6071549                7:28273697_T_A\n",
       "6071550                7:28273719_T_G\n",
       "6071551                7:28273829_A_C\n",
       "6071552                7:28273986_T_C\n",
       "Length: 2067, dtype: object"
      ]
     },
     "execution_count": 41,
     "metadata": {},
     "output_type": "execute_result"
    }
   ],
   "source": [
    "asthma_sumstats_chromsnp"
   ]
  },
  {
   "cell_type": "code",
   "execution_count": 2,
   "id": "617ee9c4-43e8-4f81-bfba-a859bf607ef7",
   "metadata": {
    "kernel": "SoS"
   },
   "outputs": [
    {
     "name": "stderr",
     "output_type": "stream",
     "text": [
      "\n",
      "Attaching package: ‘dplyr’\n",
      "\n",
      "\n",
      "The following objects are masked from ‘package:stats’:\n",
      "\n",
      "    filter, lag\n",
      "\n",
      "\n",
      "The following objects are masked from ‘package:base’:\n",
      "\n",
      "    intersect, setdiff, setequal, union\n",
      "\n",
      "\n"
     ]
    }
   ],
   "source": [
    "library(\"dplyr\")"
   ]
  },
  {
   "cell_type": "code",
   "execution_count": 1,
   "id": "4e3f6e04-57f7-48b9-8bb5-ef30f3d7f6b4",
   "metadata": {
    "kernel": "SoS"
   },
   "outputs": [],
   "source": [
    "#\n",
    "asthma_sumstats <- read.table(\"/mnt/mfs/statgen/bst2126/pleiotropy/JAZF1_sum/asthma_sumstats_jazf1\", header=TRUE, sep=\"\\t\")\n",
    "t2d_sumstats <- read.table(\"/mnt/mfs/statgen/bst2126/pleiotropy/JAZF1_sum/t2d_sumstats_jazf1\", header=TRUE, sep=\"\\t\")\n",
    "waist_sumstats <- read.table(\"/mnt/mfs/statgen/bst2126/pleiotropy/JAZF1_sum/waist_sumstats_jazf1\", header=TRUE, sep=\"\\t\")"
   ]
  },
  {
   "cell_type": "code",
   "execution_count": 3,
   "id": "02aad607-fe77-4d01-b283-8271e20f02c8",
   "metadata": {
    "kernel": "SoS"
   },
   "outputs": [
    {
     "data": {
      "text/html": [
       "<table class=\"dataframe\">\n",
       "<caption>A data.frame: 6 × 10</caption>\n",
       "<thead>\n",
       "\t<tr><th></th><th scope=col>CHR</th><th scope=col>POS</th><th scope=col>SNP</th><th scope=col>A1</th><th scope=col>A2</th><th scope=col>A1FREQ</th><th scope=col>beta</th><th scope=col>se</th><th scope=col>p</th><th scope=col>N</th></tr>\n",
       "\t<tr><th></th><th scope=col>&lt;int&gt;</th><th scope=col>&lt;int&gt;</th><th scope=col>&lt;chr&gt;</th><th scope=col>&lt;chr&gt;</th><th scope=col>&lt;chr&gt;</th><th scope=col>&lt;dbl&gt;</th><th scope=col>&lt;dbl&gt;</th><th scope=col>&lt;dbl&gt;</th><th scope=col>&lt;dbl&gt;</th><th scope=col>&lt;int&gt;</th></tr>\n",
       "</thead>\n",
       "<tbody>\n",
       "\t<tr><th scope=row>1</th><td>7</td><td>27869098</td><td>rs545409685       </td><td>C</td><td>T    </td><td>0.002660</td><td> 0.116773000</td><td>0.07112890</td><td>0.1006505</td><td>339345</td></tr>\n",
       "\t<tr><th scope=row>2</th><td>7</td><td>27869261</td><td>7:27869261_CAGTA_C</td><td>C</td><td>CAGTA</td><td>0.001502</td><td> 0.036829900</td><td>0.09843050</td><td>0.7082768</td><td>339345</td></tr>\n",
       "\t<tr><th scope=row>3</th><td>7</td><td>27869377</td><td>rs73075348        </td><td>G</td><td>A    </td><td>0.056628</td><td>-0.000203885</td><td>0.01522620</td><td>0.9893163</td><td>339345</td></tr>\n",
       "\t<tr><th scope=row>4</th><td>7</td><td>27869782</td><td>rs6948467         </td><td>A</td><td>G    </td><td>0.392766</td><td>-0.002206310</td><td>0.00722281</td><td>0.7600130</td><td>339345</td></tr>\n",
       "\t<tr><th scope=row>5</th><td>7</td><td>27869794</td><td>rs73075354        </td><td>G</td><td>C    </td><td>0.116197</td><td> 0.012311100</td><td>0.01100070</td><td>0.2630886</td><td>339345</td></tr>\n",
       "\t<tr><th scope=row>6</th><td>7</td><td>27869921</td><td>rs35410592        </td><td>A</td><td>C    </td><td>0.009441</td><td>-0.015885700</td><td>0.03695520</td><td>0.6672952</td><td>339345</td></tr>\n",
       "</tbody>\n",
       "</table>\n"
      ],
      "text/latex": [
       "A data.frame: 6 × 10\n",
       "\\begin{tabular}{r|llllllllll}\n",
       "  & CHR & POS & SNP & A1 & A2 & A1FREQ & beta & se & p & N\\\\\n",
       "  & <int> & <int> & <chr> & <chr> & <chr> & <dbl> & <dbl> & <dbl> & <dbl> & <int>\\\\\n",
       "\\hline\n",
       "\t1 & 7 & 27869098 & rs545409685        & C & T     & 0.002660 &  0.116773000 & 0.07112890 & 0.1006505 & 339345\\\\\n",
       "\t2 & 7 & 27869261 & 7:27869261\\_CAGTA\\_C & C & CAGTA & 0.001502 &  0.036829900 & 0.09843050 & 0.7082768 & 339345\\\\\n",
       "\t3 & 7 & 27869377 & rs73075348         & G & A     & 0.056628 & -0.000203885 & 0.01522620 & 0.9893163 & 339345\\\\\n",
       "\t4 & 7 & 27869782 & rs6948467          & A & G     & 0.392766 & -0.002206310 & 0.00722281 & 0.7600130 & 339345\\\\\n",
       "\t5 & 7 & 27869794 & rs73075354         & G & C     & 0.116197 &  0.012311100 & 0.01100070 & 0.2630886 & 339345\\\\\n",
       "\t6 & 7 & 27869921 & rs35410592         & A & C     & 0.009441 & -0.015885700 & 0.03695520 & 0.6672952 & 339345\\\\\n",
       "\\end{tabular}\n"
      ],
      "text/markdown": [
       "\n",
       "A data.frame: 6 × 10\n",
       "\n",
       "| <!--/--> | CHR &lt;int&gt; | POS &lt;int&gt; | SNP &lt;chr&gt; | A1 &lt;chr&gt; | A2 &lt;chr&gt; | A1FREQ &lt;dbl&gt; | beta &lt;dbl&gt; | se &lt;dbl&gt; | p &lt;dbl&gt; | N &lt;int&gt; |\n",
       "|---|---|---|---|---|---|---|---|---|---|---|\n",
       "| 1 | 7 | 27869098 | rs545409685        | C | T     | 0.002660 |  0.116773000 | 0.07112890 | 0.1006505 | 339345 |\n",
       "| 2 | 7 | 27869261 | 7:27869261_CAGTA_C | C | CAGTA | 0.001502 |  0.036829900 | 0.09843050 | 0.7082768 | 339345 |\n",
       "| 3 | 7 | 27869377 | rs73075348         | G | A     | 0.056628 | -0.000203885 | 0.01522620 | 0.9893163 | 339345 |\n",
       "| 4 | 7 | 27869782 | rs6948467          | A | G     | 0.392766 | -0.002206310 | 0.00722281 | 0.7600130 | 339345 |\n",
       "| 5 | 7 | 27869794 | rs73075354         | G | C     | 0.116197 |  0.012311100 | 0.01100070 | 0.2630886 | 339345 |\n",
       "| 6 | 7 | 27869921 | rs35410592         | A | C     | 0.009441 | -0.015885700 | 0.03695520 | 0.6672952 | 339345 |\n",
       "\n"
      ],
      "text/plain": [
       "  CHR POS      SNP                A1 A2    A1FREQ   beta         se        \n",
       "1 7   27869098 rs545409685        C  T     0.002660  0.116773000 0.07112890\n",
       "2 7   27869261 7:27869261_CAGTA_C C  CAGTA 0.001502  0.036829900 0.09843050\n",
       "3 7   27869377 rs73075348         G  A     0.056628 -0.000203885 0.01522620\n",
       "4 7   27869782 rs6948467          A  G     0.392766 -0.002206310 0.00722281\n",
       "5 7   27869794 rs73075354         G  C     0.116197  0.012311100 0.01100070\n",
       "6 7   27869921 rs35410592         A  C     0.009441 -0.015885700 0.03695520\n",
       "  p         N     \n",
       "1 0.1006505 339345\n",
       "2 0.7082768 339345\n",
       "3 0.9893163 339345\n",
       "4 0.7600130 339345\n",
       "5 0.2630886 339345\n",
       "6 0.6672952 339345"
      ]
     },
     "metadata": {},
     "output_type": "display_data"
    }
   ],
   "source": [
    "head(asthma_sumstats)"
   ]
  },
  {
   "cell_type": "code",
   "execution_count": 15,
   "id": "9bc2d5e0-69c0-445a-b8ee-4678ac6c8994",
   "metadata": {
    "kernel": "SoS"
   },
   "outputs": [],
   "source": [
    "asthma_sumstats_p508<-filter(asthma_sumstats, p<=5.0e-08)\n",
    "t2d_sumstats_p508<-filter(t2d_sumstats, p<=5.0e-08)\n",
    "waist_sumstats_p508<-filter(waist_sumstats, p<=5.0e-08)"
   ]
  },
  {
   "cell_type": "code",
   "execution_count": 34,
   "id": "301ec7cf-5d08-4b81-9970-4e9b2f2d4fd7",
   "metadata": {
    "kernel": "SoS"
   },
   "outputs": [
    {
     "data": {
      "text/html": [
       "<style>\n",
       ".list-inline {list-style: none; margin:0; padding: 0}\n",
       ".list-inline>li {display: inline-block}\n",
       ".list-inline>li:not(:last-child)::after {content: \"\\00b7\"; padding: 0 .5ex}\n",
       "</style>\n",
       "<ol class=list-inline><li>35</li><li>10</li></ol>\n"
      ],
      "text/latex": [
       "\\begin{enumerate*}\n",
       "\\item 35\n",
       "\\item 10\n",
       "\\end{enumerate*}\n"
      ],
      "text/markdown": [
       "1. 35\n",
       "2. 10\n",
       "\n",
       "\n"
      ],
      "text/plain": [
       "[1] 35 10"
      ]
     },
     "metadata": {},
     "output_type": "display_data"
    }
   ],
   "source": [
    "dim(asthma_sumstats_p508)"
   ]
  },
  {
   "cell_type": "code",
   "execution_count": 35,
   "id": "99861a69-d77d-430d-8a16-24c9b067ed5f",
   "metadata": {
    "kernel": "SoS"
   },
   "outputs": [
    {
     "data": {
      "text/html": [
       "<style>\n",
       ".list-inline {list-style: none; margin:0; padding: 0}\n",
       ".list-inline>li {display: inline-block}\n",
       ".list-inline>li:not(:last-child)::after {content: \"\\00b7\"; padding: 0 .5ex}\n",
       "</style>\n",
       "<ol class=list-inline><li>46</li><li>10</li></ol>\n"
      ],
      "text/latex": [
       "\\begin{enumerate*}\n",
       "\\item 46\n",
       "\\item 10\n",
       "\\end{enumerate*}\n"
      ],
      "text/markdown": [
       "1. 46\n",
       "2. 10\n",
       "\n",
       "\n"
      ],
      "text/plain": [
       "[1] 46 10"
      ]
     },
     "metadata": {},
     "output_type": "display_data"
    }
   ],
   "source": [
    "dim(t2d_sumstats_p508)"
   ]
  },
  {
   "cell_type": "code",
   "execution_count": 36,
   "id": "34727fb2-1b92-4e1f-b8f4-869e56c6f9ab",
   "metadata": {
    "kernel": "SoS"
   },
   "outputs": [
    {
     "data": {
      "text/html": [
       "<style>\n",
       ".list-inline {list-style: none; margin:0; padding: 0}\n",
       ".list-inline>li {display: inline-block}\n",
       ".list-inline>li:not(:last-child)::after {content: \"\\00b7\"; padding: 0 .5ex}\n",
       "</style>\n",
       "<ol class=list-inline><li>121</li><li>10</li></ol>\n"
      ],
      "text/latex": [
       "\\begin{enumerate*}\n",
       "\\item 121\n",
       "\\item 10\n",
       "\\end{enumerate*}\n"
      ],
      "text/markdown": [
       "1. 121\n",
       "2. 10\n",
       "\n",
       "\n"
      ],
      "text/plain": [
       "[1] 121  10"
      ]
     },
     "metadata": {},
     "output_type": "display_data"
    }
   ],
   "source": [
    "dim(waist_sumstats_p508)"
   ]
  },
  {
   "cell_type": "code",
   "execution_count": 39,
   "id": "e14a0d6b-b61c-42fd-927c-52d6e5545aaf",
   "metadata": {
    "kernel": "SoS"
   },
   "outputs": [],
   "source": [
    "# Save list of significant snps\n",
    "write.table(asthma_sumstats_p508,\"/mnt/mfs/statgen/bst2126/pleiotropy/JAZF1_sum/asthma_sumstats_p508.txt\", col.names=TRUE,row.names=FALSE, sep=\"\\t\",quote=FALSE)\n",
    "write.table(t2d_sumstats_p508,\"/mnt/mfs/statgen/bst2126/pleiotropy/JAZF1_sum/t2d_sumstats_p508.txt\", col.names=TRUE,row.names=FALSE, sep=\"\\t\",quote=FALSE)\n",
    "write.table(waist_sumstats_p508,\"/mnt/mfs/statgen/bst2126/pleiotropy/JAZF1_sum/waist_sumstats_p508.txt\", col.names=TRUE,row.names=FALSE, sep=\"\\t\",quote=FALSE)"
   ]
  },
  {
   "cell_type": "code",
   "execution_count": 51,
   "id": "305fb190-6add-4ee4-9f13-dcb210750b95",
   "metadata": {
    "kernel": "SoS"
   },
   "outputs": [],
   "source": [
    "# create a marker name chr:pos_a2_a1 consistent with bgen file to subset variants not fond in the bgen file.\n",
    "\n",
    "asthma_sumstats_marker <- asthma_sumstats %>% mutate(MARKER = paste0(CHR,\":\",POS,\"_\",A2,\"_\",A1))\n",
    "t2d_sumstats_marker <- t2d_sumstats %>% mutate(MARKER = paste0(CHR,\":\",POS,\"_\",A2,\"_\",A1))\n",
    "waist_sumstats_marker <- waist_sumstats %>% mutate(MARKER = paste0(CHR,\":\",POS,\"_\",A2,\"_\",A1))"
   ]
  },
  {
   "cell_type": "code",
   "execution_count": 55,
   "id": "f2d4f144-7eab-48b4-9ccf-525030901273",
   "metadata": {
    "kernel": "SoS"
   },
   "outputs": [],
   "source": [
    "write.table(asthma_sumstats_marker,\"/mnt/mfs/statgen/bst2126/pleiotropy/JAZF1_sum/asthma_sumstats_marker.txt\", col.names=TRUE,row.names=FALSE, sep=\"\\t\",quote=FALSE)\n",
    "write.table(t2d_sumstats_marker,\"/mnt/mfs/statgen/bst2126/pleiotropy/JAZF1_sum/t2d_sumstats_marker.txt\", col.names=TRUE,row.names=FALSE, sep=\"\\t\",quote=FALSE)\n",
    "write.table(waist_sumstats_marker,\"/mnt/mfs/statgen/bst2126/pleiotropy/JAZF1_sum/waist_sumstats_marker.txt\", col.names=TRUE,row.names=FALSE, sep=\"\\t\",quote=FALSE)"
   ]
  },
  {
   "cell_type": "code",
   "execution_count": 52,
   "id": "5b81e52d-6026-4b7c-a21e-50bcfd9995c0",
   "metadata": {
    "kernel": "SoS"
   },
   "outputs": [
    {
     "data": {
      "text/html": [
       "<table class=\"dataframe\">\n",
       "<caption>A data.frame: 6 × 11</caption>\n",
       "<thead>\n",
       "\t<tr><th></th><th scope=col>CHR</th><th scope=col>POS</th><th scope=col>SNP</th><th scope=col>A1</th><th scope=col>A2</th><th scope=col>A1FREQ</th><th scope=col>beta</th><th scope=col>se</th><th scope=col>p</th><th scope=col>N</th><th scope=col>MARKER</th></tr>\n",
       "\t<tr><th></th><th scope=col>&lt;int&gt;</th><th scope=col>&lt;int&gt;</th><th scope=col>&lt;chr&gt;</th><th scope=col>&lt;chr&gt;</th><th scope=col>&lt;chr&gt;</th><th scope=col>&lt;dbl&gt;</th><th scope=col>&lt;dbl&gt;</th><th scope=col>&lt;dbl&gt;</th><th scope=col>&lt;dbl&gt;</th><th scope=col>&lt;int&gt;</th><th scope=col>&lt;chr&gt;</th></tr>\n",
       "</thead>\n",
       "<tbody>\n",
       "\t<tr><th scope=row>1</th><td>7</td><td>27869098</td><td>rs545409685       </td><td>C</td><td>T    </td><td>0.002660</td><td> 0.116773000</td><td>0.07112890</td><td>0.1006505</td><td>339345</td><td>7:27869098_T_C    </td></tr>\n",
       "\t<tr><th scope=row>2</th><td>7</td><td>27869261</td><td>7:27869261_CAGTA_C</td><td>C</td><td>CAGTA</td><td>0.001502</td><td> 0.036829900</td><td>0.09843050</td><td>0.7082768</td><td>339345</td><td>7:27869261_CAGTA_C</td></tr>\n",
       "\t<tr><th scope=row>3</th><td>7</td><td>27869377</td><td>rs73075348        </td><td>G</td><td>A    </td><td>0.056628</td><td>-0.000203885</td><td>0.01522620</td><td>0.9893163</td><td>339345</td><td>7:27869377_A_G    </td></tr>\n",
       "\t<tr><th scope=row>4</th><td>7</td><td>27869782</td><td>rs6948467         </td><td>A</td><td>G    </td><td>0.392766</td><td>-0.002206310</td><td>0.00722281</td><td>0.7600130</td><td>339345</td><td>7:27869782_G_A    </td></tr>\n",
       "\t<tr><th scope=row>5</th><td>7</td><td>27869794</td><td>rs73075354        </td><td>G</td><td>C    </td><td>0.116197</td><td> 0.012311100</td><td>0.01100070</td><td>0.2630886</td><td>339345</td><td>7:27869794_C_G    </td></tr>\n",
       "\t<tr><th scope=row>6</th><td>7</td><td>27869921</td><td>rs35410592        </td><td>A</td><td>C    </td><td>0.009441</td><td>-0.015885700</td><td>0.03695520</td><td>0.6672952</td><td>339345</td><td>7:27869921_C_A    </td></tr>\n",
       "</tbody>\n",
       "</table>\n"
      ],
      "text/latex": [
       "A data.frame: 6 × 11\n",
       "\\begin{tabular}{r|lllllllllll}\n",
       "  & CHR & POS & SNP & A1 & A2 & A1FREQ & beta & se & p & N & MARKER\\\\\n",
       "  & <int> & <int> & <chr> & <chr> & <chr> & <dbl> & <dbl> & <dbl> & <dbl> & <int> & <chr>\\\\\n",
       "\\hline\n",
       "\t1 & 7 & 27869098 & rs545409685        & C & T     & 0.002660 &  0.116773000 & 0.07112890 & 0.1006505 & 339345 & 7:27869098\\_T\\_C    \\\\\n",
       "\t2 & 7 & 27869261 & 7:27869261\\_CAGTA\\_C & C & CAGTA & 0.001502 &  0.036829900 & 0.09843050 & 0.7082768 & 339345 & 7:27869261\\_CAGTA\\_C\\\\\n",
       "\t3 & 7 & 27869377 & rs73075348         & G & A     & 0.056628 & -0.000203885 & 0.01522620 & 0.9893163 & 339345 & 7:27869377\\_A\\_G    \\\\\n",
       "\t4 & 7 & 27869782 & rs6948467          & A & G     & 0.392766 & -0.002206310 & 0.00722281 & 0.7600130 & 339345 & 7:27869782\\_G\\_A    \\\\\n",
       "\t5 & 7 & 27869794 & rs73075354         & G & C     & 0.116197 &  0.012311100 & 0.01100070 & 0.2630886 & 339345 & 7:27869794\\_C\\_G    \\\\\n",
       "\t6 & 7 & 27869921 & rs35410592         & A & C     & 0.009441 & -0.015885700 & 0.03695520 & 0.6672952 & 339345 & 7:27869921\\_C\\_A    \\\\\n",
       "\\end{tabular}\n"
      ],
      "text/markdown": [
       "\n",
       "A data.frame: 6 × 11\n",
       "\n",
       "| <!--/--> | CHR &lt;int&gt; | POS &lt;int&gt; | SNP &lt;chr&gt; | A1 &lt;chr&gt; | A2 &lt;chr&gt; | A1FREQ &lt;dbl&gt; | beta &lt;dbl&gt; | se &lt;dbl&gt; | p &lt;dbl&gt; | N &lt;int&gt; | MARKER &lt;chr&gt; |\n",
       "|---|---|---|---|---|---|---|---|---|---|---|---|\n",
       "| 1 | 7 | 27869098 | rs545409685        | C | T     | 0.002660 |  0.116773000 | 0.07112890 | 0.1006505 | 339345 | 7:27869098_T_C     |\n",
       "| 2 | 7 | 27869261 | 7:27869261_CAGTA_C | C | CAGTA | 0.001502 |  0.036829900 | 0.09843050 | 0.7082768 | 339345 | 7:27869261_CAGTA_C |\n",
       "| 3 | 7 | 27869377 | rs73075348         | G | A     | 0.056628 | -0.000203885 | 0.01522620 | 0.9893163 | 339345 | 7:27869377_A_G     |\n",
       "| 4 | 7 | 27869782 | rs6948467          | A | G     | 0.392766 | -0.002206310 | 0.00722281 | 0.7600130 | 339345 | 7:27869782_G_A     |\n",
       "| 5 | 7 | 27869794 | rs73075354         | G | C     | 0.116197 |  0.012311100 | 0.01100070 | 0.2630886 | 339345 | 7:27869794_C_G     |\n",
       "| 6 | 7 | 27869921 | rs35410592         | A | C     | 0.009441 | -0.015885700 | 0.03695520 | 0.6672952 | 339345 | 7:27869921_C_A     |\n",
       "\n"
      ],
      "text/plain": [
       "  CHR POS      SNP                A1 A2    A1FREQ   beta         se        \n",
       "1 7   27869098 rs545409685        C  T     0.002660  0.116773000 0.07112890\n",
       "2 7   27869261 7:27869261_CAGTA_C C  CAGTA 0.001502  0.036829900 0.09843050\n",
       "3 7   27869377 rs73075348         G  A     0.056628 -0.000203885 0.01522620\n",
       "4 7   27869782 rs6948467          A  G     0.392766 -0.002206310 0.00722281\n",
       "5 7   27869794 rs73075354         G  C     0.116197  0.012311100 0.01100070\n",
       "6 7   27869921 rs35410592         A  C     0.009441 -0.015885700 0.03695520\n",
       "  p         N      MARKER            \n",
       "1 0.1006505 339345 7:27869098_T_C    \n",
       "2 0.7082768 339345 7:27869261_CAGTA_C\n",
       "3 0.9893163 339345 7:27869377_A_G    \n",
       "4 0.7600130 339345 7:27869782_G_A    \n",
       "5 0.2630886 339345 7:27869794_C_G    \n",
       "6 0.6672952 339345 7:27869921_C_A    "
      ]
     },
     "metadata": {},
     "output_type": "display_data"
    }
   ],
   "source": [
    "head(asthma_sumstats_marker)"
   ]
  },
  {
   "cell_type": "code",
   "execution_count": 5,
   "id": "f2320ef5-8024-4b42-a5b5-73c63a904748",
   "metadata": {
    "kernel": "SoS"
   },
   "outputs": [],
   "source": [
    "# import bgenfile\n",
    "bgenfile <- read.table(\"/mnt/mfs/statgen/archive/UKBiobank_Yale_transfer/ukb39554_imputeddataset/ukb_mfi_chr7_v3.txt\", sep=\"\\t\", header=FALSE)"
   ]
  },
  {
   "cell_type": "code",
   "execution_count": 6,
   "id": "40feafed-7e7c-4585-b01a-5257b0011367",
   "metadata": {
    "kernel": "SoS"
   },
   "outputs": [
    {
     "data": {
      "text/html": [
       "<table class=\"dataframe\">\n",
       "<caption>A data.frame: 6 × 8</caption>\n",
       "<thead>\n",
       "\t<tr><th></th><th scope=col>V1</th><th scope=col>V2</th><th scope=col>V3</th><th scope=col>V4</th><th scope=col>V5</th><th scope=col>V6</th><th scope=col>V7</th><th scope=col>V8</th></tr>\n",
       "\t<tr><th></th><th scope=col>&lt;chr&gt;</th><th scope=col>&lt;chr&gt;</th><th scope=col>&lt;int&gt;</th><th scope=col>&lt;chr&gt;</th><th scope=col>&lt;chr&gt;</th><th scope=col>&lt;dbl&gt;</th><th scope=col>&lt;chr&gt;</th><th scope=col>&lt;dbl&gt;</th></tr>\n",
       "</thead>\n",
       "<tbody>\n",
       "\t<tr><th scope=row>1</th><td>7:14808_T_C</td><td>rs555283805</td><td>14808</td><td>T</td><td>C</td><td>6.69688e-05</td><td>C</td><td>0.3643990</td></tr>\n",
       "\t<tr><th scope=row>2</th><td>7:15064_T_C</td><td>rs576737504</td><td>15064</td><td>T</td><td>C</td><td>9.84630e-04</td><td>C</td><td>0.6525270</td></tr>\n",
       "\t<tr><th scope=row>3</th><td>7:16454_C_T</td><td>rs544026442</td><td>16454</td><td>C</td><td>T</td><td>7.44231e-07</td><td>T</td><td>0.0110856</td></tr>\n",
       "\t<tr><th scope=row>4</th><td>7:16692_G_C</td><td>rs370739206</td><td>16692</td><td>G</td><td>C</td><td>0.00000e+00</td><td>G</td><td>       NA</td></tr>\n",
       "\t<tr><th scope=row>5</th><td>7:16712_T_G</td><td>rs373250171</td><td>16712</td><td>T</td><td>G</td><td>2.71757e-04</td><td>G</td><td>0.2071130</td></tr>\n",
       "\t<tr><th scope=row>6</th><td>7:16731_T_G</td><td>rs541070747</td><td>16731</td><td>T</td><td>G</td><td>8.05592e-04</td><td>G</td><td>0.5514810</td></tr>\n",
       "</tbody>\n",
       "</table>\n"
      ],
      "text/latex": [
       "A data.frame: 6 × 8\n",
       "\\begin{tabular}{r|llllllll}\n",
       "  & V1 & V2 & V3 & V4 & V5 & V6 & V7 & V8\\\\\n",
       "  & <chr> & <chr> & <int> & <chr> & <chr> & <dbl> & <chr> & <dbl>\\\\\n",
       "\\hline\n",
       "\t1 & 7:14808\\_T\\_C & rs555283805 & 14808 & T & C & 6.69688e-05 & C & 0.3643990\\\\\n",
       "\t2 & 7:15064\\_T\\_C & rs576737504 & 15064 & T & C & 9.84630e-04 & C & 0.6525270\\\\\n",
       "\t3 & 7:16454\\_C\\_T & rs544026442 & 16454 & C & T & 7.44231e-07 & T & 0.0110856\\\\\n",
       "\t4 & 7:16692\\_G\\_C & rs370739206 & 16692 & G & C & 0.00000e+00 & G &        NA\\\\\n",
       "\t5 & 7:16712\\_T\\_G & rs373250171 & 16712 & T & G & 2.71757e-04 & G & 0.2071130\\\\\n",
       "\t6 & 7:16731\\_T\\_G & rs541070747 & 16731 & T & G & 8.05592e-04 & G & 0.5514810\\\\\n",
       "\\end{tabular}\n"
      ],
      "text/markdown": [
       "\n",
       "A data.frame: 6 × 8\n",
       "\n",
       "| <!--/--> | V1 &lt;chr&gt; | V2 &lt;chr&gt; | V3 &lt;int&gt; | V4 &lt;chr&gt; | V5 &lt;chr&gt; | V6 &lt;dbl&gt; | V7 &lt;chr&gt; | V8 &lt;dbl&gt; |\n",
       "|---|---|---|---|---|---|---|---|---|\n",
       "| 1 | 7:14808_T_C | rs555283805 | 14808 | T | C | 6.69688e-05 | C | 0.3643990 |\n",
       "| 2 | 7:15064_T_C | rs576737504 | 15064 | T | C | 9.84630e-04 | C | 0.6525270 |\n",
       "| 3 | 7:16454_C_T | rs544026442 | 16454 | C | T | 7.44231e-07 | T | 0.0110856 |\n",
       "| 4 | 7:16692_G_C | rs370739206 | 16692 | G | C | 0.00000e+00 | G |        NA |\n",
       "| 5 | 7:16712_T_G | rs373250171 | 16712 | T | G | 2.71757e-04 | G | 0.2071130 |\n",
       "| 6 | 7:16731_T_G | rs541070747 | 16731 | T | G | 8.05592e-04 | G | 0.5514810 |\n",
       "\n"
      ],
      "text/plain": [
       "  V1          V2          V3    V4 V5 V6          V7 V8       \n",
       "1 7:14808_T_C rs555283805 14808 T  C  6.69688e-05 C  0.3643990\n",
       "2 7:15064_T_C rs576737504 15064 T  C  9.84630e-04 C  0.6525270\n",
       "3 7:16454_C_T rs544026442 16454 C  T  7.44231e-07 T  0.0110856\n",
       "4 7:16692_G_C rs370739206 16692 G  C  0.00000e+00 G         NA\n",
       "5 7:16712_T_G rs373250171 16712 T  G  2.71757e-04 G  0.2071130\n",
       "6 7:16731_T_G rs541070747 16731 T  G  8.05592e-04 G  0.5514810"
      ]
     },
     "metadata": {},
     "output_type": "display_data"
    }
   ],
   "source": [
    "head(bgenfile)"
   ]
  },
  {
   "cell_type": "code",
   "execution_count": 7,
   "id": "85a9172f-c954-4554-8ed6-22834edf05a7",
   "metadata": {
    "kernel": "SoS",
    "tags": []
   },
   "outputs": [
    {
     "data": {
      "text/html": [
       "<style>\n",
       ".list-inline {list-style: none; margin:0; padding: 0}\n",
       ".list-inline>li {display: inline-block}\n",
       ".list-inline>li:not(:last-child)::after {content: \"\\00b7\"; padding: 0 .5ex}\n",
       "</style>\n",
       "<ol class=list-inline><li>5405524</li><li>8</li></ol>\n"
      ],
      "text/latex": [
       "\\begin{enumerate*}\n",
       "\\item 5405524\n",
       "\\item 8\n",
       "\\end{enumerate*}\n"
      ],
      "text/markdown": [
       "1. 5405524\n",
       "2. 8\n",
       "\n",
       "\n"
      ],
      "text/plain": [
       "[1] 5405524       8"
      ]
     },
     "metadata": {},
     "output_type": "display_data"
    }
   ],
   "source": [
    "dim(bgenfile)"
   ]
  },
  {
   "cell_type": "code",
   "execution_count": 8,
   "id": "d3fa93cd-83da-492a-80f7-17e7a8efcaa9",
   "metadata": {
    "kernel": "SoS"
   },
   "outputs": [],
   "source": [
    "# Import sumstats data\n",
    "asthma_sumstats_marker <- read.table(\"/mnt/mfs/statgen/bst2126/pleiotropy/JAZF1_sum/asthma_sumstats_marker.txt\", header=TRUE, sep=\"\\t\")\n",
    "t2d_sumstats_marker <- read.table(\"/mnt/mfs/statgen/bst2126/pleiotropy/JAZF1_sum/t2d_sumstats_marker.txt\", header=TRUE, sep=\"\\t\")\n",
    "waist_sumstats_marker <- read.table(\"/mnt/mfs/statgen/bst2126/pleiotropy/JAZF1_sum/waist_sumstats_marker.txt\", header=TRUE,sep=\"\\t\")\n"
   ]
  },
  {
   "cell_type": "code",
   "execution_count": 10,
   "id": "de04681d-b4de-40c6-84cd-178c327861cc",
   "metadata": {
    "kernel": "SoS"
   },
   "outputs": [],
   "source": [
    "bgen_chrsnp <- list(bgenfile$V1)"
   ]
  },
  {
   "cell_type": "code",
   "execution_count": 19,
   "id": "11981276-41dd-4538-ab0f-ba330e863fce",
   "metadata": {
    "kernel": "SoS"
   },
   "outputs": [
    {
     "name": "stderr",
     "output_type": "stream",
     "text": [
      "\n",
      "Attaching package: ‘dplyr’\n",
      "\n",
      "\n",
      "The following objects are masked from ‘package:stats’:\n",
      "\n",
      "    filter, lag\n",
      "\n",
      "\n",
      "The following objects are masked from ‘package:base’:\n",
      "\n",
      "    intersect, setdiff, setequal, union\n",
      "\n",
      "\n"
     ]
    }
   ],
   "source": [
    "library(dplyr)"
   ]
  },
  {
   "cell_type": "code",
   "execution_count": 21,
   "id": "a8bd0933-5f0e-4b0e-b316-c4a53ec1e8e7",
   "metadata": {
    "kernel": "SoS"
   },
   "outputs": [],
   "source": [
    "\n",
    "# use anti_join() command from dplyr to filter variants filter of sumstats data that are not in the bgen file\n",
    "\n",
    "asthma_sumstats_notin_bgen <- anti_join(asthma_sumstats_marker, bgenfile, by = c(\"MARKER\" = \"V1\"))\n",
    "t2d_sumstats_notin_bgen <- anti_join(t2d_sumstats_marker, bgenfile, by = c(\"MARKER\" = \"V1\"))\n",
    "waist_sumstats_notin_bgen <- anti_join(waist_sumstats_marker, bgenfile, by = c(\"MARKER\" = \"V1\"))\n",
    "\n"
   ]
  },
  {
   "cell_type": "code",
   "execution_count": 22,
   "id": "842ca9a5-f726-4847-ab43-94e1ea210ba8",
   "metadata": {
    "kernel": "SoS"
   },
   "outputs": [
    {
     "data": {
      "text/html": [
       "<style>\n",
       ".list-inline {list-style: none; margin:0; padding: 0}\n",
       ".list-inline>li {display: inline-block}\n",
       ".list-inline>li:not(:last-child)::after {content: \"\\00b7\"; padding: 0 .5ex}\n",
       "</style>\n",
       "<ol class=list-inline><li>115</li><li>11</li></ol>\n"
      ],
      "text/latex": [
       "\\begin{enumerate*}\n",
       "\\item 115\n",
       "\\item 11\n",
       "\\end{enumerate*}\n"
      ],
      "text/markdown": [
       "1. 115\n",
       "2. 11\n",
       "\n",
       "\n"
      ],
      "text/plain": [
       "[1] 115  11"
      ]
     },
     "metadata": {},
     "output_type": "display_data"
    }
   ],
   "source": [
    "dim(asthma_sumstats_notin_bgen)"
   ]
  },
  {
   "cell_type": "code",
   "execution_count": 23,
   "id": "c500280a-5df0-4a35-8b62-ac4d07ffd09d",
   "metadata": {
    "kernel": "SoS"
   },
   "outputs": [
    {
     "data": {
      "text/html": [
       "<style>\n",
       ".list-inline {list-style: none; margin:0; padding: 0}\n",
       ".list-inline>li {display: inline-block}\n",
       ".list-inline>li:not(:last-child)::after {content: \"\\00b7\"; padding: 0 .5ex}\n",
       "</style>\n",
       "<ol class=list-inline><li>115</li><li>11</li></ol>\n"
      ],
      "text/latex": [
       "\\begin{enumerate*}\n",
       "\\item 115\n",
       "\\item 11\n",
       "\\end{enumerate*}\n"
      ],
      "text/markdown": [
       "1. 115\n",
       "2. 11\n",
       "\n",
       "\n"
      ],
      "text/plain": [
       "[1] 115  11"
      ]
     },
     "metadata": {},
     "output_type": "display_data"
    }
   ],
   "source": [
    "dim(t2d_sumstats_notin_bgen)"
   ]
  },
  {
   "cell_type": "code",
   "execution_count": 24,
   "id": "2cd26266-07f5-4b56-8aa9-53712b640129",
   "metadata": {
    "kernel": "SoS"
   },
   "outputs": [
    {
     "data": {
      "text/html": [
       "<style>\n",
       ".list-inline {list-style: none; margin:0; padding: 0}\n",
       ".list-inline>li {display: inline-block}\n",
       ".list-inline>li:not(:last-child)::after {content: \"\\00b7\"; padding: 0 .5ex}\n",
       "</style>\n",
       "<ol class=list-inline><li>115</li><li>11</li></ol>\n"
      ],
      "text/latex": [
       "\\begin{enumerate*}\n",
       "\\item 115\n",
       "\\item 11\n",
       "\\end{enumerate*}\n"
      ],
      "text/markdown": [
       "1. 115\n",
       "2. 11\n",
       "\n",
       "\n"
      ],
      "text/plain": [
       "[1] 115  11"
      ]
     },
     "metadata": {},
     "output_type": "display_data"
    }
   ],
   "source": [
    "dim(waist_sumstats_notin_bgen)"
   ]
  },
  {
   "cell_type": "code",
   "execution_count": 25,
   "id": "d4beac15-9f23-412d-85f7-6fe406c9c991",
   "metadata": {
    "kernel": "SoS"
   },
   "outputs": [
    {
     "data": {
      "text/html": [
       "<table class=\"dataframe\">\n",
       "<caption>A data.frame: 6 × 11</caption>\n",
       "<thead>\n",
       "\t<tr><th></th><th scope=col>CHR</th><th scope=col>POS</th><th scope=col>SNP</th><th scope=col>A1</th><th scope=col>A2</th><th scope=col>A1FREQ</th><th scope=col>beta</th><th scope=col>se</th><th scope=col>p</th><th scope=col>N</th><th scope=col>MARKER</th></tr>\n",
       "\t<tr><th></th><th scope=col>&lt;int&gt;</th><th scope=col>&lt;int&gt;</th><th scope=col>&lt;chr&gt;</th><th scope=col>&lt;chr&gt;</th><th scope=col>&lt;chr&gt;</th><th scope=col>&lt;dbl&gt;</th><th scope=col>&lt;dbl&gt;</th><th scope=col>&lt;dbl&gt;</th><th scope=col>&lt;dbl&gt;</th><th scope=col>&lt;int&gt;</th><th scope=col>&lt;chr&gt;</th></tr>\n",
       "</thead>\n",
       "<tbody>\n",
       "\t<tr><th scope=row>1</th><td>7</td><td>27869377</td><td>rs73075348 </td><td>G</td><td>A</td><td>0.056628</td><td>-0.000203885</td><td>0.0152262</td><td>0.9893163</td><td>339345</td><td>7:27869377_A_G</td></tr>\n",
       "\t<tr><th scope=row>2</th><td>7</td><td>27872466</td><td>rs143697346</td><td>G</td><td>A</td><td>0.001164</td><td> 0.004570960</td><td>0.1042660</td><td>0.9650324</td><td>339345</td><td>7:27872466_A_G</td></tr>\n",
       "\t<tr><th scope=row>3</th><td>7</td><td>27875642</td><td>rs112759592</td><td>C</td><td>G</td><td>0.037919</td><td> 0.011217400</td><td>0.0183894</td><td>0.5418661</td><td>339345</td><td>7:27875642_G_C</td></tr>\n",
       "\t<tr><th scope=row>4</th><td>7</td><td>27877537</td><td>rs10281008 </td><td>G</td><td>A</td><td>0.103650</td><td> 0.005002890</td><td>0.0115376</td><td>0.6645673</td><td>339345</td><td>7:27877537_A_G</td></tr>\n",
       "\t<tr><th scope=row>5</th><td>7</td><td>27879552</td><td>rs117933100</td><td>C</td><td>T</td><td>0.020039</td><td>-0.005789150</td><td>0.0250778</td><td>0.8174334</td><td>339345</td><td>7:27879552_T_C</td></tr>\n",
       "\t<tr><th scope=row>6</th><td>7</td><td>27881058</td><td>rs58651394 </td><td>T</td><td>C</td><td>0.010441</td><td> 0.022539600</td><td>0.0346362</td><td>0.5152073</td><td>339345</td><td>7:27881058_C_T</td></tr>\n",
       "</tbody>\n",
       "</table>\n"
      ],
      "text/latex": [
       "A data.frame: 6 × 11\n",
       "\\begin{tabular}{r|lllllllllll}\n",
       "  & CHR & POS & SNP & A1 & A2 & A1FREQ & beta & se & p & N & MARKER\\\\\n",
       "  & <int> & <int> & <chr> & <chr> & <chr> & <dbl> & <dbl> & <dbl> & <dbl> & <int> & <chr>\\\\\n",
       "\\hline\n",
       "\t1 & 7 & 27869377 & rs73075348  & G & A & 0.056628 & -0.000203885 & 0.0152262 & 0.9893163 & 339345 & 7:27869377\\_A\\_G\\\\\n",
       "\t2 & 7 & 27872466 & rs143697346 & G & A & 0.001164 &  0.004570960 & 0.1042660 & 0.9650324 & 339345 & 7:27872466\\_A\\_G\\\\\n",
       "\t3 & 7 & 27875642 & rs112759592 & C & G & 0.037919 &  0.011217400 & 0.0183894 & 0.5418661 & 339345 & 7:27875642\\_G\\_C\\\\\n",
       "\t4 & 7 & 27877537 & rs10281008  & G & A & 0.103650 &  0.005002890 & 0.0115376 & 0.6645673 & 339345 & 7:27877537\\_A\\_G\\\\\n",
       "\t5 & 7 & 27879552 & rs117933100 & C & T & 0.020039 & -0.005789150 & 0.0250778 & 0.8174334 & 339345 & 7:27879552\\_T\\_C\\\\\n",
       "\t6 & 7 & 27881058 & rs58651394  & T & C & 0.010441 &  0.022539600 & 0.0346362 & 0.5152073 & 339345 & 7:27881058\\_C\\_T\\\\\n",
       "\\end{tabular}\n"
      ],
      "text/markdown": [
       "\n",
       "A data.frame: 6 × 11\n",
       "\n",
       "| <!--/--> | CHR &lt;int&gt; | POS &lt;int&gt; | SNP &lt;chr&gt; | A1 &lt;chr&gt; | A2 &lt;chr&gt; | A1FREQ &lt;dbl&gt; | beta &lt;dbl&gt; | se &lt;dbl&gt; | p &lt;dbl&gt; | N &lt;int&gt; | MARKER &lt;chr&gt; |\n",
       "|---|---|---|---|---|---|---|---|---|---|---|---|\n",
       "| 1 | 7 | 27869377 | rs73075348  | G | A | 0.056628 | -0.000203885 | 0.0152262 | 0.9893163 | 339345 | 7:27869377_A_G |\n",
       "| 2 | 7 | 27872466 | rs143697346 | G | A | 0.001164 |  0.004570960 | 0.1042660 | 0.9650324 | 339345 | 7:27872466_A_G |\n",
       "| 3 | 7 | 27875642 | rs112759592 | C | G | 0.037919 |  0.011217400 | 0.0183894 | 0.5418661 | 339345 | 7:27875642_G_C |\n",
       "| 4 | 7 | 27877537 | rs10281008  | G | A | 0.103650 |  0.005002890 | 0.0115376 | 0.6645673 | 339345 | 7:27877537_A_G |\n",
       "| 5 | 7 | 27879552 | rs117933100 | C | T | 0.020039 | -0.005789150 | 0.0250778 | 0.8174334 | 339345 | 7:27879552_T_C |\n",
       "| 6 | 7 | 27881058 | rs58651394  | T | C | 0.010441 |  0.022539600 | 0.0346362 | 0.5152073 | 339345 | 7:27881058_C_T |\n",
       "\n"
      ],
      "text/plain": [
       "  CHR POS      SNP         A1 A2 A1FREQ   beta         se        p        \n",
       "1 7   27869377 rs73075348  G  A  0.056628 -0.000203885 0.0152262 0.9893163\n",
       "2 7   27872466 rs143697346 G  A  0.001164  0.004570960 0.1042660 0.9650324\n",
       "3 7   27875642 rs112759592 C  G  0.037919  0.011217400 0.0183894 0.5418661\n",
       "4 7   27877537 rs10281008  G  A  0.103650  0.005002890 0.0115376 0.6645673\n",
       "5 7   27879552 rs117933100 C  T  0.020039 -0.005789150 0.0250778 0.8174334\n",
       "6 7   27881058 rs58651394  T  C  0.010441  0.022539600 0.0346362 0.5152073\n",
       "  N      MARKER        \n",
       "1 339345 7:27869377_A_G\n",
       "2 339345 7:27872466_A_G\n",
       "3 339345 7:27875642_G_C\n",
       "4 339345 7:27877537_A_G\n",
       "5 339345 7:27879552_T_C\n",
       "6 339345 7:27881058_C_T"
      ]
     },
     "metadata": {},
     "output_type": "display_data"
    }
   ],
   "source": [
    "head(asthma_sumstats_notin_bgen)"
   ]
  },
  {
   "cell_type": "code",
   "execution_count": 27,
   "id": "1272d443-bfcb-4892-bb7f-49fa2c2a45fa",
   "metadata": {
    "kernel": "SoS"
   },
   "outputs": [],
   "source": [
    "# save the files\n",
    "write.table(asthma_sumstats_notin_bgen,\"/mnt/mfs/statgen/bst2126/pleiotropy/JAZF1_sum/asthma_sumstats_notinbgen.txt\",col.names=TRUE, row.name=FALSE,sep=\"\\t\",quote=FALSE)\n",
    "write.table(t2d_sumstats_notin_bgen,\"/mnt/mfs/statgen/bst2126/pleiotropy/JAZF1_sum/t2d_sumstats_notinbgen.txt\",col.names=TRUE, row.name=FALSE,sep=\"\\t\",quote=FALSE)\n",
    "write.table(waist_sumstats_notin_bgen,\"/mnt/mfs/statgen/bst2126/pleiotropy/JAZF1_sum/waist_sumstats_notinbgen.txt\",col.names=TRUE, row.name=FALSE,sep=\"\\t\",quote=FALSE)\n"
   ]
  },
  {
   "cell_type": "markdown",
   "id": "fcebda6a-2d36-41e5-9897-5e8c41a33589",
   "metadata": {
    "kernel": "SoS"
   },
   "source": [
    "## bfile"
   ]
  },
  {
   "cell_type": "code",
   "execution_count": 4,
   "id": "0d343e8c-bc37-4d70-85ac-2eb9c5ce3980",
   "metadata": {
    "kernel": "SoS"
   },
   "outputs": [
    {
     "name": "stderr",
     "output_type": "stream",
     "text": [
      "\n",
      "Attaching package: ‘dplyr’\n",
      "\n",
      "\n",
      "The following objects are masked from ‘package:stats’:\n",
      "\n",
      "    filter, lag\n",
      "\n",
      "\n",
      "The following objects are masked from ‘package:base’:\n",
      "\n",
      "    intersect, setdiff, setequal, union\n",
      "\n",
      "\n"
     ]
    }
   ],
   "source": [
    "library(dplyr)"
   ]
  },
  {
   "cell_type": "code",
   "execution_count": 1,
   "id": "e4e84a23-78e0-4d24-8eff-37485356e6b8",
   "metadata": {
    "kernel": "SoS"
   },
   "outputs": [],
   "source": [
    "# bfile from imputed dataset\n",
    "# Join the sumstat data with the bfile to check the overlap of variants\n",
    "\n",
    "bfile <- read.table(\"/mnt/mfs/statgen/archive/UKBiobank_Yale_transfer/pleiotropy_geneticfiles/UKB_Caucasians_phenotypeindepqc120319_updated020221removedwithdrawnindiv.bim\",sep=\"\\t\", header=FALSE)\n"
   ]
  },
  {
   "cell_type": "code",
   "execution_count": 2,
   "id": "faa8e08e-fee0-4be8-a56c-a73d3423ff40",
   "metadata": {
    "kernel": "SoS"
   },
   "outputs": [
    {
     "data": {
      "text/html": [
       "<table class=\"dataframe\">\n",
       "<caption>A data.frame: 6 × 6</caption>\n",
       "<thead>\n",
       "\t<tr><th></th><th scope=col>V1</th><th scope=col>V2</th><th scope=col>V3</th><th scope=col>V4</th><th scope=col>V5</th><th scope=col>V6</th></tr>\n",
       "\t<tr><th></th><th scope=col>&lt;int&gt;</th><th scope=col>&lt;chr&gt;</th><th scope=col>&lt;int&gt;</th><th scope=col>&lt;int&gt;</th><th scope=col>&lt;chr&gt;</th><th scope=col>&lt;chr&gt;</th></tr>\n",
       "</thead>\n",
       "<tbody>\n",
       "\t<tr><th scope=row>1</th><td>1</td><td>rs3131962 </td><td>0</td><td>756604</td><td>A</td><td>G</td></tr>\n",
       "\t<tr><th scope=row>2</th><td>1</td><td>rs12562034</td><td>0</td><td>768448</td><td>A</td><td>G</td></tr>\n",
       "\t<tr><th scope=row>3</th><td>1</td><td>rs4040617 </td><td>0</td><td>779322</td><td>G</td><td>A</td></tr>\n",
       "\t<tr><th scope=row>4</th><td>1</td><td>rs79373928</td><td>0</td><td>801536</td><td>G</td><td>T</td></tr>\n",
       "\t<tr><th scope=row>5</th><td>1</td><td>rs11240779</td><td>0</td><td>808631</td><td>G</td><td>A</td></tr>\n",
       "\t<tr><th scope=row>6</th><td>1</td><td>rs57181708</td><td>0</td><td>809876</td><td>G</td><td>A</td></tr>\n",
       "</tbody>\n",
       "</table>\n"
      ],
      "text/latex": [
       "A data.frame: 6 × 6\n",
       "\\begin{tabular}{r|llllll}\n",
       "  & V1 & V2 & V3 & V4 & V5 & V6\\\\\n",
       "  & <int> & <chr> & <int> & <int> & <chr> & <chr>\\\\\n",
       "\\hline\n",
       "\t1 & 1 & rs3131962  & 0 & 756604 & A & G\\\\\n",
       "\t2 & 1 & rs12562034 & 0 & 768448 & A & G\\\\\n",
       "\t3 & 1 & rs4040617  & 0 & 779322 & G & A\\\\\n",
       "\t4 & 1 & rs79373928 & 0 & 801536 & G & T\\\\\n",
       "\t5 & 1 & rs11240779 & 0 & 808631 & G & A\\\\\n",
       "\t6 & 1 & rs57181708 & 0 & 809876 & G & A\\\\\n",
       "\\end{tabular}\n"
      ],
      "text/markdown": [
       "\n",
       "A data.frame: 6 × 6\n",
       "\n",
       "| <!--/--> | V1 &lt;int&gt; | V2 &lt;chr&gt; | V3 &lt;int&gt; | V4 &lt;int&gt; | V5 &lt;chr&gt; | V6 &lt;chr&gt; |\n",
       "|---|---|---|---|---|---|---|\n",
       "| 1 | 1 | rs3131962  | 0 | 756604 | A | G |\n",
       "| 2 | 1 | rs12562034 | 0 | 768448 | A | G |\n",
       "| 3 | 1 | rs4040617  | 0 | 779322 | G | A |\n",
       "| 4 | 1 | rs79373928 | 0 | 801536 | G | T |\n",
       "| 5 | 1 | rs11240779 | 0 | 808631 | G | A |\n",
       "| 6 | 1 | rs57181708 | 0 | 809876 | G | A |\n",
       "\n"
      ],
      "text/plain": [
       "  V1 V2         V3 V4     V5 V6\n",
       "1 1  rs3131962  0  756604 A  G \n",
       "2 1  rs12562034 0  768448 A  G \n",
       "3 1  rs4040617  0  779322 G  A \n",
       "4 1  rs79373928 0  801536 G  T \n",
       "5 1  rs11240779 0  808631 G  A \n",
       "6 1  rs57181708 0  809876 G  A "
      ]
     },
     "metadata": {},
     "output_type": "display_data"
    }
   ],
   "source": [
    "head(bfile)"
   ]
  },
  {
   "cell_type": "code",
   "execution_count": 5,
   "id": "863422a2-795f-4bb5-95fe-1e5690da5796",
   "metadata": {
    "kernel": "SoS"
   },
   "outputs": [],
   "source": [
    "bfile1 <- bfile %>% filter(V1 == 7 & V4 >= 27868573 & V4 <= 28273990)"
   ]
  },
  {
   "cell_type": "code",
   "execution_count": 6,
   "id": "cbb6e46d-61cc-4c33-a7e8-540c9f19d7c4",
   "metadata": {
    "kernel": "SoS"
   },
   "outputs": [
    {
     "data": {
      "text/html": [
       "<style>\n",
       ".list-inline {list-style: none; margin:0; padding: 0}\n",
       ".list-inline>li {display: inline-block}\n",
       ".list-inline>li:not(:last-child)::after {content: \"\\00b7\"; padding: 0 .5ex}\n",
       "</style>\n",
       "<ol class=list-inline><li>529024</li><li>6</li></ol>\n"
      ],
      "text/latex": [
       "\\begin{enumerate*}\n",
       "\\item 529024\n",
       "\\item 6\n",
       "\\end{enumerate*}\n"
      ],
      "text/markdown": [
       "1. 529024\n",
       "2. 6\n",
       "\n",
       "\n"
      ],
      "text/plain": [
       "[1] 529024      6"
      ]
     },
     "metadata": {},
     "output_type": "display_data"
    }
   ],
   "source": [
    "dim(bfile)"
   ]
  },
  {
   "cell_type": "code",
   "execution_count": 7,
   "id": "38856509-6472-4c8e-8a60-24f68064dedd",
   "metadata": {
    "kernel": "SoS"
   },
   "outputs": [
    {
     "data": {
      "text/html": [
       "<style>\n",
       ".list-inline {list-style: none; margin:0; padding: 0}\n",
       ".list-inline>li {display: inline-block}\n",
       ".list-inline>li:not(:last-child)::after {content: \"\\00b7\"; padding: 0 .5ex}\n",
       "</style>\n",
       "<ol class=list-inline><li>96</li><li>6</li></ol>\n"
      ],
      "text/latex": [
       "\\begin{enumerate*}\n",
       "\\item 96\n",
       "\\item 6\n",
       "\\end{enumerate*}\n"
      ],
      "text/markdown": [
       "1. 96\n",
       "2. 6\n",
       "\n",
       "\n"
      ],
      "text/plain": [
       "[1] 96  6"
      ]
     },
     "metadata": {},
     "output_type": "display_data"
    }
   ],
   "source": [
    "dim(bfile1)"
   ]
  },
  {
   "cell_type": "code",
   "execution_count": 27,
   "id": "c278a744-5fe8-443f-b817-3b0b1dee92cc",
   "metadata": {
    "kernel": "SoS"
   },
   "outputs": [],
   "source": [
    "# import sumstats\n",
    "# Import sumstats data\n",
    "asthma <- read.table(\"/mnt/mfs/statgen/bst2126/pleiotropy/JAZF1_sum/asthma_sumstats_marker.txt\", header=TRUE, sep=\"\\t\")\n",
    "t2d <- read.table(\"/mnt/mfs/statgen/bst2126/pleiotropy/JAZF1_sum/t2d_sumstats_marker.txt\", header=TRUE, sep=\"\\t\")\n",
    "waist <- read.table(\"/mnt/mfs/statgen/bst2126/pleiotropy/JAZF1_sum/waist_sumstats_marker.txt\", header=TRUE,sep=\"\\t\")\n"
   ]
  },
  {
   "cell_type": "markdown",
   "id": "4b2c15a1-c6c2-48e7-9cd9-0b77a9cbac91",
   "metadata": {
    "kernel": "SoS"
   },
   "source": [
    "## Estimate LD correlation matrix\n",
    "\n",
    "The availlable bfile contains only 96 variants in the jazf1 region. I used plink to generate bfiles from the imputed bgen data."
   ]
  },
  {
   "cell_type": "code",
   "execution_count": null,
   "id": "22f0408a-2707-477c-981e-6e4cf35bdb38",
   "metadata": {
    "kernel": "SoS"
   },
   "outputs": [],
   "source": [
    "# ran this command on the terminal to generate plink files from the imputed bgen file to estimate LD correlation matrix\n",
    "./plink2 --bgen /mnt/mfs/statgen/archive/UKBiobank_Yale_transfer/ukb39554_imputeddataset/ukb_imp_chr7_v3.bgen 'ref-first'  \n",
    "         --sample /mnt/mfs/statgen/archive/UKBiobank_Yale_transfer/ukb39554_imputeddataset/ukb32285_imputedindiv.sample \n",
    "         --make-bed \n",
    "         --out /mnt/mfs/statgen/bst2126/pleiotropy/geno/UKB_imputed_chr7_v3"
   ]
  },
  {
   "cell_type": "code",
   "execution_count": 2,
   "id": "2bc77448-5a4e-41ce-abe6-929037f9acd8",
   "metadata": {
    "kernel": "R",
    "tags": []
   },
   "outputs": [
    {
     "name": "stderr",
     "output_type": "stream",
     "text": [
      "\n",
      "Attaching package: ‘dplyr’\n",
      "\n",
      "\n",
      "The following objects are masked from ‘package:data.table’:\n",
      "\n",
      "    between, first, last\n",
      "\n",
      "\n",
      "The following objects are masked from ‘package:stats’:\n",
      "\n",
      "    filter, lag\n",
      "\n",
      "\n",
      "The following objects are masked from ‘package:base’:\n",
      "\n",
      "    intersect, setdiff, setequal, union\n",
      "\n",
      "\n"
     ]
    }
   ],
   "source": [
    "library(data.table)\n",
    "library(dplyr)\n"
   ]
  },
  {
   "cell_type": "code",
   "execution_count": 6,
   "id": "07a4ff66-5252-4224-bc44-b4500f01f137",
   "metadata": {
    "kernel": "R"
   },
   "outputs": [],
   "source": [
    "# Prepare the GWAS sumstats in GCTA-COJO format: SNP, A1, A2, freq, b, se, p, N\n",
    "asthma <- fread(\"/mnt/mfs/statgen/bst2126/pleiotropy/JAZF1_sum/asthma_sumstats_jazf1\",header=TRUE, sep=\"\\t\")\n",
    "t2d <- fread(\"/mnt/mfs/statgen/bst2126/pleiotropy/JAZF1_sum/t2d_sumstats_jazf1\",header=TRUE, sep=\"\\t\")\n",
    "waist <- fread(\"/mnt/mfs/statgen/bst2126/pleiotropy/JAZF1_sum/waist_sumstats_jazf1\",header=TRUE, sep=\"\\t\")\n",
    "cols<-c(\"SNP\",\"A1\",\"A2\",\"freq\",\"b\",\"se\",\"p\",\"N\")\n",
    "asthma <- asthma[,c(3:10)]\n",
    "colnames(asthma)<- cols\n",
    "t2d <- t2d[,c(3:10)]\n",
    "colnames(t2d)<-cols\n",
    "waist<-waist[,c(3:10)]\n",
    "colnames(waist)<-cols\n",
    "\n",
    "# # Remove if there are any dublicates (as the GCTA_GSMR module do not allow dublicates in SNP column)\n",
    "t2d <- t2d[!duplicated(t2d$SNP), ] \n",
    "asthma <- asthma[!duplicated(asthma$SNP), ] \n",
    "waist <- waist[!duplicated(waist$SNP), ] "
   ]
  },
  {
   "cell_type": "code",
   "execution_count": 7,
   "id": "dccc66ed-e55d-432e-adff-ef29c1bb786e",
   "metadata": {
    "kernel": "R"
   },
   "outputs": [
    {
     "data": {
      "text/html": [
       "<style>\n",
       ".list-inline {list-style: none; margin:0; padding: 0}\n",
       ".list-inline>li {display: inline-block}\n",
       ".list-inline>li:not(:last-child)::after {content: \"\\00b7\"; padding: 0 .5ex}\n",
       "</style>\n",
       "<ol class=list-inline><li>2065</li><li>8</li></ol>\n"
      ],
      "text/latex": [
       "\\begin{enumerate*}\n",
       "\\item 2065\n",
       "\\item 8\n",
       "\\end{enumerate*}\n"
      ],
      "text/markdown": [
       "1. 2065\n",
       "2. 8\n",
       "\n",
       "\n"
      ],
      "text/plain": [
       "[1] 2065    8"
      ]
     },
     "metadata": {},
     "output_type": "display_data"
    },
    {
     "data": {
      "text/html": [
       "<table class=\"dataframe\">\n",
       "<caption>A data.table: 6 × 8</caption>\n",
       "<thead>\n",
       "\t<tr><th scope=col>SNP</th><th scope=col>A1</th><th scope=col>A2</th><th scope=col>freq</th><th scope=col>b</th><th scope=col>se</th><th scope=col>p</th><th scope=col>N</th></tr>\n",
       "\t<tr><th scope=col>&lt;chr&gt;</th><th scope=col>&lt;chr&gt;</th><th scope=col>&lt;chr&gt;</th><th scope=col>&lt;dbl&gt;</th><th scope=col>&lt;dbl&gt;</th><th scope=col>&lt;dbl&gt;</th><th scope=col>&lt;dbl&gt;</th><th scope=col>&lt;int&gt;</th></tr>\n",
       "</thead>\n",
       "<tbody>\n",
       "\t<tr><td>rs545409685       </td><td>C</td><td>T    </td><td>0.002663</td><td> 0.03862570</td><td>0.1000360</td><td>0.69941026</td><td>336074</td></tr>\n",
       "\t<tr><td>7:27869261_CAGTA_C</td><td>C</td><td>CAGTA</td><td>0.001508</td><td> 0.10838600</td><td>0.1401650</td><td>0.43936150</td><td>336074</td></tr>\n",
       "\t<tr><td>rs73075348        </td><td>G</td><td>A    </td><td>0.056693</td><td> 0.01622460</td><td>0.0215218</td><td>0.45092779</td><td>336074</td></tr>\n",
       "\t<tr><td>rs6948467         </td><td>A</td><td>G    </td><td>0.392739</td><td>-0.02054410</td><td>0.0102407</td><td>0.04484252</td><td>336074</td></tr>\n",
       "\t<tr><td>rs73075354        </td><td>G</td><td>C    </td><td>0.116102</td><td> 0.03858900</td><td>0.0156277</td><td>0.01353879</td><td>336074</td></tr>\n",
       "\t<tr><td>rs35410592        </td><td>A</td><td>C    </td><td>0.009458</td><td> 0.00427717</td><td>0.0522587</td><td>0.93476900</td><td>336074</td></tr>\n",
       "</tbody>\n",
       "</table>\n"
      ],
      "text/latex": [
       "A data.table: 6 × 8\n",
       "\\begin{tabular}{llllllll}\n",
       " SNP & A1 & A2 & freq & b & se & p & N\\\\\n",
       " <chr> & <chr> & <chr> & <dbl> & <dbl> & <dbl> & <dbl> & <int>\\\\\n",
       "\\hline\n",
       "\t rs545409685        & C & T     & 0.002663 &  0.03862570 & 0.1000360 & 0.69941026 & 336074\\\\\n",
       "\t 7:27869261\\_CAGTA\\_C & C & CAGTA & 0.001508 &  0.10838600 & 0.1401650 & 0.43936150 & 336074\\\\\n",
       "\t rs73075348         & G & A     & 0.056693 &  0.01622460 & 0.0215218 & 0.45092779 & 336074\\\\\n",
       "\t rs6948467          & A & G     & 0.392739 & -0.02054410 & 0.0102407 & 0.04484252 & 336074\\\\\n",
       "\t rs73075354         & G & C     & 0.116102 &  0.03858900 & 0.0156277 & 0.01353879 & 336074\\\\\n",
       "\t rs35410592         & A & C     & 0.009458 &  0.00427717 & 0.0522587 & 0.93476900 & 336074\\\\\n",
       "\\end{tabular}\n"
      ],
      "text/markdown": [
       "\n",
       "A data.table: 6 × 8\n",
       "\n",
       "| SNP &lt;chr&gt; | A1 &lt;chr&gt; | A2 &lt;chr&gt; | freq &lt;dbl&gt; | b &lt;dbl&gt; | se &lt;dbl&gt; | p &lt;dbl&gt; | N &lt;int&gt; |\n",
       "|---|---|---|---|---|---|---|---|\n",
       "| rs545409685        | C | T     | 0.002663 |  0.03862570 | 0.1000360 | 0.69941026 | 336074 |\n",
       "| 7:27869261_CAGTA_C | C | CAGTA | 0.001508 |  0.10838600 | 0.1401650 | 0.43936150 | 336074 |\n",
       "| rs73075348         | G | A     | 0.056693 |  0.01622460 | 0.0215218 | 0.45092779 | 336074 |\n",
       "| rs6948467          | A | G     | 0.392739 | -0.02054410 | 0.0102407 | 0.04484252 | 336074 |\n",
       "| rs73075354         | G | C     | 0.116102 |  0.03858900 | 0.0156277 | 0.01353879 | 336074 |\n",
       "| rs35410592         | A | C     | 0.009458 |  0.00427717 | 0.0522587 | 0.93476900 | 336074 |\n",
       "\n"
      ],
      "text/plain": [
       "  SNP                A1 A2    freq     b           se        p          N     \n",
       "1 rs545409685        C  T     0.002663  0.03862570 0.1000360 0.69941026 336074\n",
       "2 7:27869261_CAGTA_C C  CAGTA 0.001508  0.10838600 0.1401650 0.43936150 336074\n",
       "3 rs73075348         G  A     0.056693  0.01622460 0.0215218 0.45092779 336074\n",
       "4 rs6948467          A  G     0.392739 -0.02054410 0.0102407 0.04484252 336074\n",
       "5 rs73075354         G  C     0.116102  0.03858900 0.0156277 0.01353879 336074\n",
       "6 rs35410592         A  C     0.009458  0.00427717 0.0522587 0.93476900 336074"
      ]
     },
     "metadata": {},
     "output_type": "display_data"
    }
   ],
   "source": [
    "dim(t2d)\n",
    "head(t2d)"
   ]
  },
  {
   "cell_type": "code",
   "execution_count": null,
   "id": "2cb8efff-a875-48a0-be34-9dd9968ab2ec",
   "metadata": {
    "kernel": "R"
   },
   "outputs": [],
   "source": [
    "# Save sumstats in gsmr format\n",
    "write.table(asthma,\"/mnt/mfs/statgen/bst2126/pleiotropy/JAZF1_sum/asthma_gsmr_jazf1.txt\",col.names=TRUE, row.names=FALSE, sep=\"\\t\",quote=FALSE)\n",
    "write.table(t2d,\"/mnt/mfs/statgen/bst2126/pleiotropy/JAZF1_sum/t2d_gsmr_jazf1.txt\",col.names=TRUE, row.names=FALSE, sep=\"\\t\",quote=FALSE)\n",
    "write.table(waist,\"/mnt/mfs/statgen/bst2126/pleiotropy/JAZF1_sum/waist_gsmr_jazf1.txt\",col.names=TRUE, row.names=FALSE, sep=\"\\t\",quote=FALSE)\n"
   ]
  },
  {
   "cell_type": "code",
   "execution_count": 8,
   "id": "128d6c87-ca8b-47c1-868d-df3b0652b0e3",
   "metadata": {
    "kernel": "R"
   },
   "outputs": [],
   "source": [
    "asthma_t2d_snp <- read.table(\"/mnt/mfs/statgen/bst2126/pleiotropy/JAZF1_sum/asthma_v_t2d_snps.allele\",header=FALSE, sep=\" \")\n",
    "waist_t2d_snp <- read.table(\"/mnt/mfs/statgen/bst2126/pleiotropy/JAZF1_sum/waist_v_t2d_snps.allele\",header=FALSE, sep=\" \")\n",
    "waist_asthma_snp <- read.table(\"/mnt/mfs/statgen/bst2126/pleiotropy/JAZF1_sum/waist_v_asthma_snps.allele\",header=FALSE, sep=\" \")"
   ]
  },
  {
   "cell_type": "code",
   "execution_count": 9,
   "id": "15d162b3-771e-4265-b12b-02f1b900a46d",
   "metadata": {
    "kernel": "R"
   },
   "outputs": [
    {
     "data": {
      "text/html": [
       "<style>\n",
       ".list-inline {list-style: none; margin:0; padding: 0}\n",
       ".list-inline>li {display: inline-block}\n",
       ".list-inline>li:not(:last-child)::after {content: \"\\00b7\"; padding: 0 .5ex}\n",
       "</style>\n",
       "<ol class=list-inline><li>2065</li><li>2</li></ol>\n"
      ],
      "text/latex": [
       "\\begin{enumerate*}\n",
       "\\item 2065\n",
       "\\item 2\n",
       "\\end{enumerate*}\n"
      ],
      "text/markdown": [
       "1. 2065\n",
       "2. 2\n",
       "\n",
       "\n"
      ],
      "text/plain": [
       "[1] 2065    2"
      ]
     },
     "metadata": {},
     "output_type": "display_data"
    }
   ],
   "source": [
    "dim(asthma_t2d_snp)"
   ]
  },
  {
   "cell_type": "code",
   "execution_count": 10,
   "id": "e0d36780-f4ed-464e-b89a-60bcdf643ac3",
   "metadata": {
    "kernel": "R"
   },
   "outputs": [
    {
     "data": {
      "text/html": [
       "<table class=\"dataframe\">\n",
       "<caption>A data.frame: 6 × 2</caption>\n",
       "<thead>\n",
       "\t<tr><th></th><th scope=col>V1</th><th scope=col>V2</th></tr>\n",
       "\t<tr><th></th><th scope=col>&lt;chr&gt;</th><th scope=col>&lt;chr&gt;</th></tr>\n",
       "</thead>\n",
       "<tbody>\n",
       "\t<tr><th scope=row>1</th><td>rs545409685       </td><td>C</td></tr>\n",
       "\t<tr><th scope=row>2</th><td>7:27869261_CAGTA_C</td><td>C</td></tr>\n",
       "\t<tr><th scope=row>3</th><td>rs73075348        </td><td>G</td></tr>\n",
       "\t<tr><th scope=row>4</th><td>rs6948467         </td><td>A</td></tr>\n",
       "\t<tr><th scope=row>5</th><td>rs73075354        </td><td>G</td></tr>\n",
       "\t<tr><th scope=row>6</th><td>rs35410592        </td><td>A</td></tr>\n",
       "</tbody>\n",
       "</table>\n"
      ],
      "text/latex": [
       "A data.frame: 6 × 2\n",
       "\\begin{tabular}{r|ll}\n",
       "  & V1 & V2\\\\\n",
       "  & <chr> & <chr>\\\\\n",
       "\\hline\n",
       "\t1 & rs545409685        & C\\\\\n",
       "\t2 & 7:27869261\\_CAGTA\\_C & C\\\\\n",
       "\t3 & rs73075348         & G\\\\\n",
       "\t4 & rs6948467          & A\\\\\n",
       "\t5 & rs73075354         & G\\\\\n",
       "\t6 & rs35410592         & A\\\\\n",
       "\\end{tabular}\n"
      ],
      "text/markdown": [
       "\n",
       "A data.frame: 6 × 2\n",
       "\n",
       "| <!--/--> | V1 &lt;chr&gt; | V2 &lt;chr&gt; |\n",
       "|---|---|---|\n",
       "| 1 | rs545409685        | C |\n",
       "| 2 | 7:27869261_CAGTA_C | C |\n",
       "| 3 | rs73075348         | G |\n",
       "| 4 | rs6948467          | A |\n",
       "| 5 | rs73075354         | G |\n",
       "| 6 | rs35410592         | A |\n",
       "\n"
      ],
      "text/plain": [
       "  V1                 V2\n",
       "1 rs545409685        C \n",
       "2 7:27869261_CAGTA_C C \n",
       "3 rs73075348         G \n",
       "4 rs6948467          A \n",
       "5 rs73075354         G \n",
       "6 rs35410592         A "
      ]
     },
     "metadata": {},
     "output_type": "display_data"
    }
   ],
   "source": [
    "head(asthma_t2d_snp)"
   ]
  },
  {
   "cell_type": "code",
   "execution_count": 11,
   "id": "06f5107a-5caf-4837-8cdd-fad357556b5b",
   "metadata": {
    "kernel": "R"
   },
   "outputs": [
    {
     "name": "stderr",
     "output_type": "stream",
     "text": [
      "Warning message in write.csv(asthma_t2d_snp, \"/mnt/mfs/statgen/bst2126/pleiotropy/JAZF1_sum/asthma_v_t2d_snps.allele.csv\", :\n",
      "“attempt to set 'col.names' ignored”\n",
      "Warning message in write.csv(waist_t2d_snp, \"/mnt/mfs/statgen/bst2126/pleiotropy/JAZF1_sum/waist_v_t2d_snps.allele.csv\", :\n",
      "“attempt to set 'col.names' ignored”\n",
      "Warning message in write.csv(waist_asthma_snp, \"/mnt/mfs/statgen/bst2126/pleiotropy/JAZF1_sum/waist_v_asthma_snps.allele.csv\", :\n",
      "“attempt to set 'col.names' ignored”\n"
     ]
    }
   ],
   "source": [
    "# drop any dublicates\n",
    "asthma_t2d_snp <- asthma_t2d_snp[!duplicated(asthma_t2d_snp$V1), ] \n",
    "waist_t2d_snp <- waist_t2d_snp[!duplicated(waist_t2d_snp$V1), ]\n",
    "waist_asthma_snp <- waist_asthma_snp[!duplicated(waist_asthma_snp$V1), ] \n"
   ]
  },
  {
   "cell_type": "code",
   "execution_count": 12,
   "id": "54546666-ba23-4e6e-97af-72a72dba228f",
   "metadata": {
    "kernel": "R"
   },
   "outputs": [],
   "source": [
    "# save file\n",
    "write.table(asthma_t2d_snp,\"/mnt/mfs/statgen/bst2126/pleiotropy/JAZF1_sum/asthma_v_t2d_snps.allele.txt\",col.names=FALSE, row.names=FALSE,quote=FALSE)\n",
    "write.table(waist_t2d_snp,\"/mnt/mfs/statgen/bst2126/pleiotropy/JAZF1_sum/waist_v_t2d_snps.allele.txt\",col.names=FALSE, row.names=FALSE,quote=FALSE)\n",
    "write.table(waist_asthma_snp,\"/mnt/mfs/statgen/bst2126/pleiotropy/JAZF1_sum/waist_v_asthma_snps.allele.txt\",col.names=FALSE, row.names=FALSE,quote=FALSE)\n"
   ]
  },
  {
   "cell_type": "code",
   "execution_count": null,
   "id": "803b37d6-f471-43e1-8b94-6e5bb95bd7f3",
   "metadata": {
    "kernel": "SoS"
   },
   "outputs": [],
   "source": [
    "# rs61469546 create a problem in genrationg ld matrix with a wrong ref. allele\n"
   ]
  },
  {
   "cell_type": "code",
   "execution_count": 1,
   "id": "1863bacd-c1e2-445f-89b2-eb6eba05be3e",
   "metadata": {
    "kernel": "SoS",
    "tags": []
   },
   "outputs": [
    {
     "name": "stdout",
     "output_type": "stream",
     "text": [
      "/mnt/mfs/statgen/bst2126/pleiotropy/JAZF1_sum"
     ]
    }
   ],
   "source": [
    "%cd /mnt/mfs/statgen/bst2126/pleiotropy/JAZF1_sum"
   ]
  },
  {
   "cell_type": "code",
   "execution_count": 2,
   "id": "81a4cfef-401c-44cc-bb57-7e70d497a5a0",
   "metadata": {},
   "outputs": [],
   "source": [
    "asthma_v_t2d <- read.table(\"/mnt/mfs/statgen/bst2126/pleiotropy/JAZF1_sum/asthma_v_t2d_snps.allele.txt\")\n",
    "waist_v_t2d <- read.table(\"/mnt/mfs/statgen/bst2126/pleiotropy/JAZF1_sum/waist_v_t2d_snps.allele.txt\")\n",
    "waist_v_asthma <- read.table(\"/mnt/mfs/statgen/bst2126/pleiotropy/JAZF1_sum/waist_v_asthma_snps.allele.txt\")"
   ]
  },
  {
   "cell_type": "code",
   "execution_count": 3,
   "id": "0f1e00bf-21ff-42f1-8904-9aeacf754505",
   "metadata": {},
   "outputs": [],
   "source": [
    "asthma_v_t2d <- asthma_v_t2d[!(asthma_v_t2d$V1 == \"rs61469546\"),]\n",
    "waist_v_t2d <- waist_v_t2d[!(waist_v_t2d$V1 == \"rs61469546\"),]\n",
    "waist_v_asthma <- waist_v_asthma[!(waist_v_asthma$V1 == \"rs61469546\"),]\n"
   ]
  },
  {
   "cell_type": "code",
   "execution_count": 5,
   "id": "4f360421-3e93-4a0b-9a58-386d216903b3",
   "metadata": {},
   "outputs": [],
   "source": [
    "# save file\n",
    "write.table(asthma_v_t2d,\"/mnt/mfs/statgen/bst2126/pleiotropy/JAZF1_sum/asthma_v_t2d_snps.allele.txt\",col.names=FALSE, row.names=FALSE,quote=FALSE)\n",
    "write.table(waist_v_t2d,\"/mnt/mfs/statgen/bst2126/pleiotropy/JAZF1_sum/waist_v_t2d_snps.allele.txt\",col.names=FALSE, row.names=FALSE,quote=FALSE)\n",
    "write.table(waist_v_asthma,\"/mnt/mfs/statgen/bst2126/pleiotropy/JAZF1_sum/waist_v_asthma_snps.allele.txt\",col.names=FALSE, row.names=FALSE,quote=FALSE)\n"
   ]
  },
  {
   "cell_type": "markdown",
   "id": "ac121541-b97e-4847-87bd-bfc7009aa59e",
   "metadata": {},
   "source": [
    "### Checking the updated asthma, T2D and waist circumference REGENIE analyses results\n",
    "\n",
    "data location: '/mnt/mfs/statgen/UKBiobank/results_pleiotropy/REGENIE_results/results_imputed_data'"
   ]
  },
  {
   "cell_type": "code",
   "execution_count": 1,
   "id": "91dde283-daf8-4175-a9c2-b1ed804051c9",
   "metadata": {},
   "outputs": [],
   "source": [
    "import pandas as pd"
   ]
  },
  {
   "cell_type": "code",
   "execution_count": 3,
   "id": "ec4a1acb-820b-4c45-a3ea-dcd5932cf3e2",
   "metadata": {},
   "outputs": [],
   "source": [
    "# reading in the regenie on the imputed data and subsetting regenie data to only keep information within jazf1 region - 7 27868573 28273990\n",
    "# within jazf1 region - 7 27868573 28273990 of the sumstats files there are 2067 variants for asthma and t2d, and 2068 variants for waist\n",
    "\n",
    "# asthma data\n",
    "asthma_regenie = pd.read_csv(\"/mnt/mfs/statgen/UKBiobank/results_pleiotropy/REGENIE_results/results_imputed_data/asthma_final_step2_imp.regenie_ASTHMA.regenie\", sep=\" \")\n",
    "asthma_regenie = asthma_regenie[(asthma_regenie[\"CHROM\"] == 7) & (asthma_regenie[\"GENPOS\"] >= 27868573) & (asthma_regenie[\"GENPOS\"] <= 28273990)][[\"CHROM\", \"GENPOS\", \"ID\", \"ALLELE0\", \"ALLELE1\", \"A1FREQ\", \"N\", \"BETA\", \"SE\", \"LOG10P\"]]\n",
    "\n",
    "# t2d data\n",
    "t2d_regenie = pd.read_csv(\"/mnt/mfs/statgen/UKBiobank/results_pleiotropy/REGENIE_results/results_imputed_data/T2D_final_step2_imp.regenie_T2D.regenie\", sep=\" \")\n",
    "t2d_regenie = t2d_regenie[(t2d_regenie[\"CHROM\"] == 7) & (t2d_regenie[\"GENPOS\"] >= 27868573) & (t2d_regenie[\"GENPOS\"] <= 28273990)][[\"CHROM\", \"GENPOS\", \"ID\", \"ALLELE0\", \"ALLELE1\", \"A1FREQ\", \"N\", \"BETA\", \"SE\", \"LOG10P\"]]\n",
    "\n",
    "# waist circumference data\n",
    "waist_regenie = pd.read_csv(\"/mnt/mfs/statgen/UKBiobank/results_pleiotropy/REGENIE_results/results_imputed_data/WC_final_step2_imp.regenie_rankNorm_WAIST.regenie\", sep=\" \")\n",
    "waist_regenie = waist_regenie[(waist_regenie[\"CHROM\"] == 7) & (waist_regenie[\"GENPOS\"] >= 27868573) & (waist_regenie[\"GENPOS\"] <= 28273990)][[\"CHROM\", \"GENPOS\", \"ID\", \"ALLELE0\", \"ALLELE1\", \"A1FREQ\", \"N\", \"BETA\", \"SE\", \"LOG10P\"]]"
   ]
  },
  {
   "cell_type": "code",
   "execution_count": 4,
   "id": "9edd20df-48c2-419e-b5ed-4cf9a188cfe8",
   "metadata": {},
   "outputs": [
    {
     "data": {
      "text/html": [
       "<div>\n",
       "<style scoped>\n",
       "    .dataframe tbody tr th:only-of-type {\n",
       "        vertical-align: middle;\n",
       "    }\n",
       "\n",
       "    .dataframe tbody tr th {\n",
       "        vertical-align: top;\n",
       "    }\n",
       "\n",
       "    .dataframe thead th {\n",
       "        text-align: right;\n",
       "    }\n",
       "</style>\n",
       "<table border=\"1\" class=\"dataframe\">\n",
       "  <thead>\n",
       "    <tr style=\"text-align: right;\">\n",
       "      <th></th>\n",
       "      <th>CHROM</th>\n",
       "      <th>GENPOS</th>\n",
       "      <th>ID</th>\n",
       "      <th>ALLELE0</th>\n",
       "      <th>ALLELE1</th>\n",
       "      <th>A1FREQ</th>\n",
       "      <th>N</th>\n",
       "      <th>BETA</th>\n",
       "      <th>SE</th>\n",
       "      <th>LOG10P</th>\n",
       "    </tr>\n",
       "  </thead>\n",
       "  <tbody>\n",
       "    <tr>\n",
       "      <th>6070229</th>\n",
       "      <td>7</td>\n",
       "      <td>27869098</td>\n",
       "      <td>rs545409685</td>\n",
       "      <td>C</td>\n",
       "      <td>T</td>\n",
       "      <td>0.997328</td>\n",
       "      <td>361547</td>\n",
       "      <td>0.107914</td>\n",
       "      <td>0.071057</td>\n",
       "      <td>0.889958</td>\n",
       "    </tr>\n",
       "    <tr>\n",
       "      <th>6070230</th>\n",
       "      <td>7</td>\n",
       "      <td>27869261</td>\n",
       "      <td>7:27869261_CAGTA_C</td>\n",
       "      <td>C</td>\n",
       "      <td>CAGTA</td>\n",
       "      <td>0.998500</td>\n",
       "      <td>361547</td>\n",
       "      <td>0.045641</td>\n",
       "      <td>0.098320</td>\n",
       "      <td>0.192128</td>\n",
       "    </tr>\n",
       "    <tr>\n",
       "      <th>6070231</th>\n",
       "      <td>7</td>\n",
       "      <td>27869377</td>\n",
       "      <td>rs73075348</td>\n",
       "      <td>G</td>\n",
       "      <td>A</td>\n",
       "      <td>0.943334</td>\n",
       "      <td>361547</td>\n",
       "      <td>-0.002170</td>\n",
       "      <td>0.015242</td>\n",
       "      <td>0.052182</td>\n",
       "    </tr>\n",
       "    <tr>\n",
       "      <th>6070232</th>\n",
       "      <td>7</td>\n",
       "      <td>27869782</td>\n",
       "      <td>rs6948467</td>\n",
       "      <td>A</td>\n",
       "      <td>G</td>\n",
       "      <td>0.607163</td>\n",
       "      <td>361547</td>\n",
       "      <td>-0.001612</td>\n",
       "      <td>0.007229</td>\n",
       "      <td>0.084324</td>\n",
       "    </tr>\n",
       "    <tr>\n",
       "      <th>6070233</th>\n",
       "      <td>7</td>\n",
       "      <td>27869794</td>\n",
       "      <td>rs73075354</td>\n",
       "      <td>G</td>\n",
       "      <td>C</td>\n",
       "      <td>0.883874</td>\n",
       "      <td>361547</td>\n",
       "      <td>0.012535</td>\n",
       "      <td>0.011008</td>\n",
       "      <td>0.593751</td>\n",
       "    </tr>\n",
       "    <tr>\n",
       "      <th>...</th>\n",
       "      <td>...</td>\n",
       "      <td>...</td>\n",
       "      <td>...</td>\n",
       "      <td>...</td>\n",
       "      <td>...</td>\n",
       "      <td>...</td>\n",
       "      <td>...</td>\n",
       "      <td>...</td>\n",
       "      <td>...</td>\n",
       "      <td>...</td>\n",
       "    </tr>\n",
       "    <tr>\n",
       "      <th>6072291</th>\n",
       "      <td>7</td>\n",
       "      <td>28273623</td>\n",
       "      <td>7:28273623_TTTCCTTCCTTCC_T</td>\n",
       "      <td>T</td>\n",
       "      <td>TTTCCTTCCTTCC</td>\n",
       "      <td>0.842775</td>\n",
       "      <td>361547</td>\n",
       "      <td>0.002123</td>\n",
       "      <td>0.009901</td>\n",
       "      <td>0.080806</td>\n",
       "    </tr>\n",
       "    <tr>\n",
       "      <th>6072292</th>\n",
       "      <td>7</td>\n",
       "      <td>28273697</td>\n",
       "      <td>rs188426589</td>\n",
       "      <td>A</td>\n",
       "      <td>T</td>\n",
       "      <td>0.987428</td>\n",
       "      <td>361547</td>\n",
       "      <td>-0.007622</td>\n",
       "      <td>0.032049</td>\n",
       "      <td>0.090438</td>\n",
       "    </tr>\n",
       "    <tr>\n",
       "      <th>6072293</th>\n",
       "      <td>7</td>\n",
       "      <td>28273719</td>\n",
       "      <td>rs6944995</td>\n",
       "      <td>G</td>\n",
       "      <td>T</td>\n",
       "      <td>0.146688</td>\n",
       "      <td>361547</td>\n",
       "      <td>0.005589</td>\n",
       "      <td>0.009977</td>\n",
       "      <td>0.240083</td>\n",
       "    </tr>\n",
       "    <tr>\n",
       "      <th>6072294</th>\n",
       "      <td>7</td>\n",
       "      <td>28273829</td>\n",
       "      <td>rs192297723</td>\n",
       "      <td>C</td>\n",
       "      <td>A</td>\n",
       "      <td>0.988314</td>\n",
       "      <td>361547</td>\n",
       "      <td>0.022642</td>\n",
       "      <td>0.035026</td>\n",
       "      <td>0.285667</td>\n",
       "    </tr>\n",
       "    <tr>\n",
       "      <th>6072295</th>\n",
       "      <td>7</td>\n",
       "      <td>28273986</td>\n",
       "      <td>rs849313</td>\n",
       "      <td>C</td>\n",
       "      <td>T</td>\n",
       "      <td>0.190564</td>\n",
       "      <td>361547</td>\n",
       "      <td>0.010520</td>\n",
       "      <td>0.008977</td>\n",
       "      <td>0.617525</td>\n",
       "    </tr>\n",
       "  </tbody>\n",
       "</table>\n",
       "<p>2067 rows × 10 columns</p>\n",
       "</div>"
      ],
      "text/plain": [
       "         CHROM    GENPOS                          ID ALLELE0        ALLELE1  \\\n",
       "6070229      7  27869098                 rs545409685       C              T   \n",
       "6070230      7  27869261          7:27869261_CAGTA_C       C          CAGTA   \n",
       "6070231      7  27869377                  rs73075348       G              A   \n",
       "6070232      7  27869782                   rs6948467       A              G   \n",
       "6070233      7  27869794                  rs73075354       G              C   \n",
       "...        ...       ...                         ...     ...            ...   \n",
       "6072291      7  28273623  7:28273623_TTTCCTTCCTTCC_T       T  TTTCCTTCCTTCC   \n",
       "6072292      7  28273697                 rs188426589       A              T   \n",
       "6072293      7  28273719                   rs6944995       G              T   \n",
       "6072294      7  28273829                 rs192297723       C              A   \n",
       "6072295      7  28273986                    rs849313       C              T   \n",
       "\n",
       "           A1FREQ       N      BETA        SE    LOG10P  \n",
       "6070229  0.997328  361547  0.107914  0.071057  0.889958  \n",
       "6070230  0.998500  361547  0.045641  0.098320  0.192128  \n",
       "6070231  0.943334  361547 -0.002170  0.015242  0.052182  \n",
       "6070232  0.607163  361547 -0.001612  0.007229  0.084324  \n",
       "6070233  0.883874  361547  0.012535  0.011008  0.593751  \n",
       "...           ...     ...       ...       ...       ...  \n",
       "6072291  0.842775  361547  0.002123  0.009901  0.080806  \n",
       "6072292  0.987428  361547 -0.007622  0.032049  0.090438  \n",
       "6072293  0.146688  361547  0.005589  0.009977  0.240083  \n",
       "6072294  0.988314  361547  0.022642  0.035026  0.285667  \n",
       "6072295  0.190564  361547  0.010520  0.008977  0.617525  \n",
       "\n",
       "[2067 rows x 10 columns]"
      ]
     },
     "execution_count": 4,
     "metadata": {},
     "output_type": "execute_result"
    }
   ],
   "source": [
    "asthma_regenie"
   ]
  },
  {
   "cell_type": "code",
   "execution_count": 5,
   "id": "de8fb4a8-ecc6-4d2a-8b24-34f0181e3dca",
   "metadata": {},
   "outputs": [],
   "source": [
    "# GSMR uses SNP A1 A2 freq b se p N column for the analyses\n",
    "# from current regenie data need to calculate A0FREQ and PVAL\n",
    "\n",
    "# A0FREQ\n",
    "get_a0freq = lambda row: 1 - row[\"A1FREQ\"]\n",
    "\n",
    "asthma_regenie[\"A0FREQ\"] = asthma_regenie.apply(get_a0freq, axis=1)\n",
    "t2d_regenie[\"A0FREQ\"] = t2d_regenie.apply(get_a0freq, axis=1)\n",
    "waist_regenie[\"A0FREQ\"] = waist_regenie.apply(get_a0freq, axis=1)\n",
    "\n",
    "# PVAL\n",
    "get_pval = lambda row: 10 ** (-row[\"LOG10P\"])\n",
    "\n",
    "asthma_regenie[\"PVAL\"] = asthma_regenie.apply(get_pval, axis=1)\n",
    "t2d_regenie[\"PVAL\"] = t2d_regenie.apply(get_pval, axis=1)\n",
    "waist_regenie[\"PVAL\"] = waist_regenie.apply(get_pval, axis=1)\n",
    "\n",
    "# also renaming all the columns for merging later on\n",
    "asthma_regenie = asthma_regenie.rename(columns={\"ID\":\"SNP\", \"ALLELE0\":\"A1\", \"ALLELE1\":\"A2\", \"A0FREQ\":\"freq\",\"N\":\"N\", \"BETA\":\"b\", \"SE\":\"se\", \"PVAL\":\"p\"})\n",
    "t2d_regenie = t2d_regenie.rename(columns={\"ID\":\"SNP\", \"ALLELE0\":\"A1\", \"ALLELE1\":\"A2\", \"A0FREQ\":\"freq\",\"N\":\"N\", \"BETA\":\"b\", \"SE\":\"se\", \"PVAL\":\"p\"})\n",
    "waist_regenie = waist_regenie.rename(columns={\"ID\":\"SNP\", \"ALLELE0\":\"A1\", \"ALLELE1\":\"A2\", \"A0FREQ\":\"freq\",\"N\":\"N\", \"BETA\":\"b\", \"SE\":\"se\", \"PVAL\":\"p\"})\n",
    "\n",
    "# keeping only relevant columns\n",
    "asthma_regenie = asthma_regenie[[\"SNP\", \"A1\", \"A2\", \"freq\", \"b\", \"se\", \"p\", \"N\"]]\n",
    "t2d_regenie = t2d_regenie[[\"SNP\", \"A1\", \"A2\", \"freq\", \"b\", \"se\", \"p\", \"N\"]]\n",
    "waist_regenie = waist_regenie[[\"SNP\", \"A1\", \"A2\", \"freq\", \"b\", \"se\", \"p\", \"N\"]]"
   ]
  },
  {
   "cell_type": "code",
   "execution_count": 7,
   "id": "c2c60a1c-dd9a-4cf4-a4d4-12e4668b9442",
   "metadata": {},
   "outputs": [],
   "source": [
    "asthma_regenie = asthma_regenie.drop_duplicates(subset='SNP', keep=\"first\")\n",
    "t2d_regenie = t2d_regenie.drop_duplicates(subset='SNP', keep=\"first\")\n",
    "waist_regenie = waist_regenie.drop_duplicates(subset='SNP', keep=\"first\")"
   ]
  },
  {
   "cell_type": "code",
   "execution_count": 11,
   "id": "93ef25dc-b4be-48b0-8b45-bd894478f951",
   "metadata": {},
   "outputs": [],
   "source": [
    "# Save sumstats \n",
    "\n",
    "asthma_regenie.to_csv(\"/mnt/mfs/statgen/bst2126/pleiotropy/gsmr/asthma_gsmr_jazf1.txt\", sep=\"\\t\", index=False)\n",
    "t2d_regenie.to_csv(\"/mnt/mfs/statgen/bst2126/pleiotropy/gsmr/t2d_gsmr_jazf1.txt\", sep=\"\\t\", index=False)\n",
    "waist_regenie.to_csv(\"/mnt/mfs/statgen/bst2126/pleiotropy/gsmr/waist_gsmr_jazf1.txt\", sep=\"\\t\", index=False)"
   ]
  },
  {
   "cell_type": "code",
   "execution_count": 10,
   "id": "b0428cfc-c13a-489c-a6d1-3e024d9ea918",
   "metadata": {},
   "outputs": [
    {
     "data": {
      "text/html": [
       "<div>\n",
       "<style scoped>\n",
       "    .dataframe tbody tr th:only-of-type {\n",
       "        vertical-align: middle;\n",
       "    }\n",
       "\n",
       "    .dataframe tbody tr th {\n",
       "        vertical-align: top;\n",
       "    }\n",
       "\n",
       "    .dataframe thead th {\n",
       "        text-align: right;\n",
       "    }\n",
       "</style>\n",
       "<table border=\"1\" class=\"dataframe\">\n",
       "  <thead>\n",
       "    <tr style=\"text-align: right;\">\n",
       "      <th></th>\n",
       "      <th>SNP</th>\n",
       "      <th>A1</th>\n",
       "      <th>A2</th>\n",
       "      <th>freq</th>\n",
       "      <th>b</th>\n",
       "      <th>se</th>\n",
       "      <th>p</th>\n",
       "      <th>N</th>\n",
       "    </tr>\n",
       "  </thead>\n",
       "  <tbody>\n",
       "    <tr>\n",
       "      <th>6070229</th>\n",
       "      <td>rs545409685</td>\n",
       "      <td>C</td>\n",
       "      <td>T</td>\n",
       "      <td>0.002672</td>\n",
       "      <td>0.044915</td>\n",
       "      <td>0.099664</td>\n",
       "      <td>0.652233</td>\n",
       "      <td>361547</td>\n",
       "    </tr>\n",
       "    <tr>\n",
       "      <th>6070230</th>\n",
       "      <td>7:27869261_CAGTA_C</td>\n",
       "      <td>C</td>\n",
       "      <td>CAGTA</td>\n",
       "      <td>0.001500</td>\n",
       "      <td>0.085851</td>\n",
       "      <td>0.140819</td>\n",
       "      <td>0.542088</td>\n",
       "      <td>361547</td>\n",
       "    </tr>\n",
       "    <tr>\n",
       "      <th>6070231</th>\n",
       "      <td>rs73075348</td>\n",
       "      <td>G</td>\n",
       "      <td>A</td>\n",
       "      <td>0.056666</td>\n",
       "      <td>0.017907</td>\n",
       "      <td>0.021423</td>\n",
       "      <td>0.403215</td>\n",
       "      <td>361547</td>\n",
       "    </tr>\n",
       "    <tr>\n",
       "      <th>6070232</th>\n",
       "      <td>rs6948467</td>\n",
       "      <td>A</td>\n",
       "      <td>G</td>\n",
       "      <td>0.392837</td>\n",
       "      <td>-0.019676</td>\n",
       "      <td>0.010197</td>\n",
       "      <td>0.053664</td>\n",
       "      <td>361547</td>\n",
       "    </tr>\n",
       "    <tr>\n",
       "      <th>6070233</th>\n",
       "      <td>rs73075354</td>\n",
       "      <td>G</td>\n",
       "      <td>C</td>\n",
       "      <td>0.116126</td>\n",
       "      <td>0.037787</td>\n",
       "      <td>0.015558</td>\n",
       "      <td>0.015147</td>\n",
       "      <td>361547</td>\n",
       "    </tr>\n",
       "    <tr>\n",
       "      <th>...</th>\n",
       "      <td>...</td>\n",
       "      <td>...</td>\n",
       "      <td>...</td>\n",
       "      <td>...</td>\n",
       "      <td>...</td>\n",
       "      <td>...</td>\n",
       "      <td>...</td>\n",
       "      <td>...</td>\n",
       "    </tr>\n",
       "    <tr>\n",
       "      <th>6072291</th>\n",
       "      <td>7:28273623_TTTCCTTCCTTCC_T</td>\n",
       "      <td>T</td>\n",
       "      <td>TTTCCTTCCTTCC</td>\n",
       "      <td>0.157225</td>\n",
       "      <td>-0.006717</td>\n",
       "      <td>0.013967</td>\n",
       "      <td>0.630562</td>\n",
       "      <td>361547</td>\n",
       "    </tr>\n",
       "    <tr>\n",
       "      <th>6072292</th>\n",
       "      <td>rs188426589</td>\n",
       "      <td>A</td>\n",
       "      <td>T</td>\n",
       "      <td>0.012572</td>\n",
       "      <td>-0.018526</td>\n",
       "      <td>0.045250</td>\n",
       "      <td>0.682229</td>\n",
       "      <td>361547</td>\n",
       "    </tr>\n",
       "    <tr>\n",
       "      <th>6072293</th>\n",
       "      <td>rs6944995</td>\n",
       "      <td>G</td>\n",
       "      <td>T</td>\n",
       "      <td>0.853312</td>\n",
       "      <td>0.012986</td>\n",
       "      <td>0.014084</td>\n",
       "      <td>0.356507</td>\n",
       "      <td>361547</td>\n",
       "    </tr>\n",
       "    <tr>\n",
       "      <th>6072294</th>\n",
       "      <td>rs192297723</td>\n",
       "      <td>C</td>\n",
       "      <td>A</td>\n",
       "      <td>0.011686</td>\n",
       "      <td>-0.049966</td>\n",
       "      <td>0.049102</td>\n",
       "      <td>0.308870</td>\n",
       "      <td>361547</td>\n",
       "    </tr>\n",
       "    <tr>\n",
       "      <th>6072295</th>\n",
       "      <td>rs849313</td>\n",
       "      <td>C</td>\n",
       "      <td>T</td>\n",
       "      <td>0.809436</td>\n",
       "      <td>0.020496</td>\n",
       "      <td>0.012670</td>\n",
       "      <td>0.105712</td>\n",
       "      <td>361547</td>\n",
       "    </tr>\n",
       "  </tbody>\n",
       "</table>\n",
       "<p>2065 rows × 8 columns</p>\n",
       "</div>"
      ],
      "text/plain": [
       "                                SNP A1             A2      freq         b  \\\n",
       "6070229                 rs545409685  C              T  0.002672  0.044915   \n",
       "6070230          7:27869261_CAGTA_C  C          CAGTA  0.001500  0.085851   \n",
       "6070231                  rs73075348  G              A  0.056666  0.017907   \n",
       "6070232                   rs6948467  A              G  0.392837 -0.019676   \n",
       "6070233                  rs73075354  G              C  0.116126  0.037787   \n",
       "...                             ... ..            ...       ...       ...   \n",
       "6072291  7:28273623_TTTCCTTCCTTCC_T  T  TTTCCTTCCTTCC  0.157225 -0.006717   \n",
       "6072292                 rs188426589  A              T  0.012572 -0.018526   \n",
       "6072293                   rs6944995  G              T  0.853312  0.012986   \n",
       "6072294                 rs192297723  C              A  0.011686 -0.049966   \n",
       "6072295                    rs849313  C              T  0.809436  0.020496   \n",
       "\n",
       "               se         p       N  \n",
       "6070229  0.099664  0.652233  361547  \n",
       "6070230  0.140819  0.542088  361547  \n",
       "6070231  0.021423  0.403215  361547  \n",
       "6070232  0.010197  0.053664  361547  \n",
       "6070233  0.015558  0.015147  361547  \n",
       "...           ...       ...     ...  \n",
       "6072291  0.013967  0.630562  361547  \n",
       "6072292  0.045250  0.682229  361547  \n",
       "6072293  0.014084  0.356507  361547  \n",
       "6072294  0.049102  0.308870  361547  \n",
       "6072295  0.012670  0.105712  361547  \n",
       "\n",
       "[2065 rows x 8 columns]"
      ]
     },
     "execution_count": 10,
     "metadata": {},
     "output_type": "execute_result"
    }
   ],
   "source": [
    "t2d_regenie"
   ]
  },
  {
   "cell_type": "code",
   "execution_count": 24,
   "id": "71077e33-8826-4657-9524-8d68be42de48",
   "metadata": {},
   "outputs": [],
   "source": [
    "asthma_regenie_sig = asthma_regenie[(asthma_regenie[\"p\"] <= 5*10**(-8))]\n",
    "t2d_regenie_sig = t2d_regenie[(t2d_regenie[\"p\"] <= 5*10**(-8))]\n",
    "waist_regenie_sig = waist_regenie[(waist_regenie[\"p\"] <= 5*10**(-8))]"
   ]
  },
  {
   "cell_type": "code",
   "execution_count": 26,
   "id": "e786dc16-562b-44d5-9442-35ee56985daa",
   "metadata": {},
   "outputs": [
    {
     "data": {
      "text/plain": [
       "29"
      ]
     },
     "execution_count": 26,
     "metadata": {},
     "output_type": "execute_result"
    }
   ],
   "source": [
    "len(asthma_regenie_sig)\n"
   ]
  },
  {
   "cell_type": "code",
   "execution_count": 27,
   "id": "62bb35c4-4476-485a-895e-6b5c993679b4",
   "metadata": {},
   "outputs": [
    {
     "data": {
      "text/plain": [
       "43"
      ]
     },
     "execution_count": 27,
     "metadata": {},
     "output_type": "execute_result"
    }
   ],
   "source": [
    "\n",
    "len(t2d_regenie_sig)\n"
   ]
  },
  {
   "cell_type": "code",
   "execution_count": 28,
   "id": "23ac7553-f9da-4610-9b6d-996f599fe5d8",
   "metadata": {},
   "outputs": [
    {
     "data": {
      "text/plain": [
       "125"
      ]
     },
     "execution_count": 28,
     "metadata": {},
     "output_type": "execute_result"
    }
   ],
   "source": [
    "\n",
    "len(waist_regenie_sig)"
   ]
  },
  {
   "cell_type": "code",
   "execution_count": 29,
   "id": "171bcfee-a00a-45f6-83d7-eb9d1ab0af27",
   "metadata": {},
   "outputs": [],
   "source": [
    "asthma_regenie_sig.to_csv(\"/mnt/mfs/statgen/bst2126/pleiotropy/gsmr/asthma_sig_jazf1.txt\", sep=\"\\t\", index=False)\n",
    "t2d_regenie_sig.to_csv(\"/mnt/mfs/statgen/bst2126/pleiotropy/gsmr/t2d_sig_jazf1.txt\", sep=\"\\t\", index=False)\n",
    "waist_regenie_sig.to_csv(\"/mnt/mfs/statgen/bst2126/pleiotropy/gsmr/waist_sig_jazf1.txt\", sep=\"\\t\", index=False)"
   ]
  },
  {
   "cell_type": "code",
   "execution_count": 33,
   "id": "2fb861db-c7cb-4966-98db-2b5199ffd59c",
   "metadata": {},
   "outputs": [
    {
     "data": {
      "text/html": [
       "<div>\n",
       "<style scoped>\n",
       "    .dataframe tbody tr th:only-of-type {\n",
       "        vertical-align: middle;\n",
       "    }\n",
       "\n",
       "    .dataframe tbody tr th {\n",
       "        vertical-align: top;\n",
       "    }\n",
       "\n",
       "    .dataframe thead th {\n",
       "        text-align: right;\n",
       "    }\n",
       "</style>\n",
       "<table border=\"1\" class=\"dataframe\">\n",
       "  <thead>\n",
       "    <tr style=\"text-align: right;\">\n",
       "      <th></th>\n",
       "      <th>SNP</th>\n",
       "      <th>A1</th>\n",
       "      <th>A2</th>\n",
       "      <th>freq</th>\n",
       "      <th>b</th>\n",
       "      <th>se</th>\n",
       "      <th>p</th>\n",
       "      <th>N</th>\n",
       "    </tr>\n",
       "  </thead>\n",
       "  <tbody>\n",
       "    <tr>\n",
       "      <th>6071623</th>\n",
       "      <td>rs2158624</td>\n",
       "      <td>C</td>\n",
       "      <td>T</td>\n",
       "      <td>0.115878</td>\n",
       "      <td>-0.061688</td>\n",
       "      <td>0.010804</td>\n",
       "      <td>1.358188e-08</td>\n",
       "      <td>361547</td>\n",
       "    </tr>\n",
       "    <tr>\n",
       "      <th>6071629</th>\n",
       "      <td>rs57585717</td>\n",
       "      <td>A</td>\n",
       "      <td>G</td>\n",
       "      <td>0.117893</td>\n",
       "      <td>-0.065130</td>\n",
       "      <td>0.010712</td>\n",
       "      <td>1.492313e-09</td>\n",
       "      <td>361547</td>\n",
       "    </tr>\n",
       "    <tr>\n",
       "      <th>6071660</th>\n",
       "      <td>7:28154215_GT_G</td>\n",
       "      <td>G</td>\n",
       "      <td>GT</td>\n",
       "      <td>0.208021</td>\n",
       "      <td>-0.063661</td>\n",
       "      <td>0.008629</td>\n",
       "      <td>2.054471e-13</td>\n",
       "      <td>361547</td>\n",
       "    </tr>\n",
       "    <tr>\n",
       "      <th>6071673</th>\n",
       "      <td>rs4722758</td>\n",
       "      <td>G</td>\n",
       "      <td>C</td>\n",
       "      <td>0.199470</td>\n",
       "      <td>-0.066247</td>\n",
       "      <td>0.008667</td>\n",
       "      <td>2.796405e-14</td>\n",
       "      <td>361547</td>\n",
       "    </tr>\n",
       "  </tbody>\n",
       "</table>\n",
       "</div>"
      ],
      "text/plain": [
       "                     SNP A1  A2      freq         b        se             p  \\\n",
       "6071623        rs2158624  C   T  0.115878 -0.061688  0.010804  1.358188e-08   \n",
       "6071629       rs57585717  A   G  0.117893 -0.065130  0.010712  1.492313e-09   \n",
       "6071660  7:28154215_GT_G  G  GT  0.208021 -0.063661  0.008629  2.054471e-13   \n",
       "6071673        rs4722758  G   C  0.199470 -0.066247  0.008667  2.796405e-14   \n",
       "\n",
       "              N  \n",
       "6071623  361547  \n",
       "6071629  361547  \n",
       "6071660  361547  \n",
       "6071673  361547  "
      ]
     },
     "execution_count": 33,
     "metadata": {},
     "output_type": "execute_result"
    }
   ],
   "source": [
    "asthma_regenie_sig[1:5]"
   ]
  },
  {
   "cell_type": "code",
   "execution_count": 32,
   "id": "5ef1d8e2-d7f5-465a-b5a2-a5c90e13b70c",
   "metadata": {},
   "outputs": [
    {
     "data": {
      "text/html": [
       "<div>\n",
       "<style scoped>\n",
       "    .dataframe tbody tr th:only-of-type {\n",
       "        vertical-align: middle;\n",
       "    }\n",
       "\n",
       "    .dataframe tbody tr th {\n",
       "        vertical-align: top;\n",
       "    }\n",
       "\n",
       "    .dataframe thead th {\n",
       "        text-align: right;\n",
       "    }\n",
       "</style>\n",
       "<table border=\"1\" class=\"dataframe\">\n",
       "  <thead>\n",
       "    <tr style=\"text-align: right;\">\n",
       "      <th></th>\n",
       "      <th>SNP</th>\n",
       "      <th>A1</th>\n",
       "      <th>A2</th>\n",
       "      <th>freq</th>\n",
       "      <th>b</th>\n",
       "      <th>se</th>\n",
       "      <th>p</th>\n",
       "      <th>N</th>\n",
       "    </tr>\n",
       "  </thead>\n",
       "  <tbody>\n",
       "    <tr>\n",
       "      <th>6070358</th>\n",
       "      <td>rs10275982</td>\n",
       "      <td>A</td>\n",
       "      <td>C</td>\n",
       "      <td>0.337575</td>\n",
       "      <td>-0.006749</td>\n",
       "      <td>0.001059</td>\n",
       "      <td>1.855325e-10</td>\n",
       "      <td>360393</td>\n",
       "    </tr>\n",
       "    <tr>\n",
       "      <th>6070384</th>\n",
       "      <td>rs35135622</td>\n",
       "      <td>A</td>\n",
       "      <td>T</td>\n",
       "      <td>0.340960</td>\n",
       "      <td>-0.006638</td>\n",
       "      <td>0.001056</td>\n",
       "      <td>3.228791e-10</td>\n",
       "      <td>360393</td>\n",
       "    </tr>\n",
       "    <tr>\n",
       "      <th>6070390</th>\n",
       "      <td>rs11411348</td>\n",
       "      <td>GT</td>\n",
       "      <td>G</td>\n",
       "      <td>0.339378</td>\n",
       "      <td>-0.006469</td>\n",
       "      <td>0.001062</td>\n",
       "      <td>1.134175e-09</td>\n",
       "      <td>360393</td>\n",
       "    </tr>\n",
       "    <tr>\n",
       "      <th>6070415</th>\n",
       "      <td>rs10239787</td>\n",
       "      <td>T</td>\n",
       "      <td>C</td>\n",
       "      <td>0.327381</td>\n",
       "      <td>-0.006376</td>\n",
       "      <td>0.001064</td>\n",
       "      <td>2.072956e-09</td>\n",
       "      <td>360393</td>\n",
       "    </tr>\n",
       "    <tr>\n",
       "      <th>6070422</th>\n",
       "      <td>rs4722745</td>\n",
       "      <td>T</td>\n",
       "      <td>C</td>\n",
       "      <td>0.328131</td>\n",
       "      <td>-0.006424</td>\n",
       "      <td>0.001063</td>\n",
       "      <td>1.536632e-09</td>\n",
       "      <td>360393</td>\n",
       "    </tr>\n",
       "    <tr>\n",
       "      <th>...</th>\n",
       "      <td>...</td>\n",
       "      <td>...</td>\n",
       "      <td>...</td>\n",
       "      <td>...</td>\n",
       "      <td>...</td>\n",
       "      <td>...</td>\n",
       "      <td>...</td>\n",
       "      <td>...</td>\n",
       "    </tr>\n",
       "    <tr>\n",
       "      <th>6071803</th>\n",
       "      <td>rs11448038</td>\n",
       "      <td>TA</td>\n",
       "      <td>T</td>\n",
       "      <td>0.550241</td>\n",
       "      <td>0.007343</td>\n",
       "      <td>0.001086</td>\n",
       "      <td>1.355189e-11</td>\n",
       "      <td>360393</td>\n",
       "    </tr>\n",
       "    <tr>\n",
       "      <th>6071806</th>\n",
       "      <td>rs150139082</td>\n",
       "      <td>TACAC</td>\n",
       "      <td>T</td>\n",
       "      <td>0.747870</td>\n",
       "      <td>0.006524</td>\n",
       "      <td>0.001154</td>\n",
       "      <td>1.589864e-08</td>\n",
       "      <td>360393</td>\n",
       "    </tr>\n",
       "    <tr>\n",
       "      <th>6071840</th>\n",
       "      <td>rs527637</td>\n",
       "      <td>C</td>\n",
       "      <td>T</td>\n",
       "      <td>0.839501</td>\n",
       "      <td>0.008695</td>\n",
       "      <td>0.001363</td>\n",
       "      <td>1.775415e-10</td>\n",
       "      <td>360393</td>\n",
       "    </tr>\n",
       "    <tr>\n",
       "      <th>6071846</th>\n",
       "      <td>rs498475</td>\n",
       "      <td>A</td>\n",
       "      <td>G</td>\n",
       "      <td>0.633950</td>\n",
       "      <td>0.005884</td>\n",
       "      <td>0.001038</td>\n",
       "      <td>1.440987e-08</td>\n",
       "      <td>360393</td>\n",
       "    </tr>\n",
       "    <tr>\n",
       "      <th>6071865</th>\n",
       "      <td>rs849330</td>\n",
       "      <td>A</td>\n",
       "      <td>G</td>\n",
       "      <td>0.521920</td>\n",
       "      <td>0.008380</td>\n",
       "      <td>0.001032</td>\n",
       "      <td>4.621681e-16</td>\n",
       "      <td>360393</td>\n",
       "    </tr>\n",
       "  </tbody>\n",
       "</table>\n",
       "<p>125 rows × 8 columns</p>\n",
       "</div>"
      ],
      "text/plain": [
       "                 SNP     A1 A2      freq         b        se             p  \\\n",
       "6070358   rs10275982      A  C  0.337575 -0.006749  0.001059  1.855325e-10   \n",
       "6070384   rs35135622      A  T  0.340960 -0.006638  0.001056  3.228791e-10   \n",
       "6070390   rs11411348     GT  G  0.339378 -0.006469  0.001062  1.134175e-09   \n",
       "6070415   rs10239787      T  C  0.327381 -0.006376  0.001064  2.072956e-09   \n",
       "6070422    rs4722745      T  C  0.328131 -0.006424  0.001063  1.536632e-09   \n",
       "...              ...    ... ..       ...       ...       ...           ...   \n",
       "6071803   rs11448038     TA  T  0.550241  0.007343  0.001086  1.355189e-11   \n",
       "6071806  rs150139082  TACAC  T  0.747870  0.006524  0.001154  1.589864e-08   \n",
       "6071840     rs527637      C  T  0.839501  0.008695  0.001363  1.775415e-10   \n",
       "6071846     rs498475      A  G  0.633950  0.005884  0.001038  1.440987e-08   \n",
       "6071865     rs849330      A  G  0.521920  0.008380  0.001032  4.621681e-16   \n",
       "\n",
       "              N  \n",
       "6070358  360393  \n",
       "6070384  360393  \n",
       "6070390  360393  \n",
       "6070415  360393  \n",
       "6070422  360393  \n",
       "...         ...  \n",
       "6071803  360393  \n",
       "6071806  360393  \n",
       "6071840  360393  \n",
       "6071846  360393  \n",
       "6071865  360393  \n",
       "\n",
       "[125 rows x 8 columns]"
      ]
     },
     "execution_count": 32,
     "metadata": {},
     "output_type": "execute_result"
    }
   ],
   "source": [
    "waist_regenie_sig"
   ]
  }
 ],
 "metadata": {
  "kernelspec": {
   "display_name": "Python 3 (ipykernel)",
   "language": "python",
   "name": "python3"
  },
  "language_info": {
   "codemirror_mode": {
    "name": "ipython",
    "version": 3
   },
   "file_extension": ".py",
   "mimetype": "text/x-python",
   "name": "python",
   "nbconvert_exporter": "python",
   "pygments_lexer": "ipython3",
   "version": "3.9.7"
  },
  "sos": {
   "kernels": [
    [
     "R",
     "ir",
     "R",
     "#DCDCDA",
     ""
    ],
    [
     "SoS",
     "sos",
     "",
     "",
     "sos"
    ]
   ],
   "version": "0.23.2"
  }
 },
 "nbformat": 4,
 "nbformat_minor": 5
}
