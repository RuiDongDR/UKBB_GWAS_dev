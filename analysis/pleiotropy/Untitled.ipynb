{
 "cells": [
  {
   "cell_type": "code",
   "execution_count": 1,
   "id": "97d068d8-f437-4fd2-8efb-f3ec6fea69d2",
   "metadata": {},
   "outputs": [
    {
     "ename": "ERROR",
     "evalue": "Error in library(coloc): there is no package called ‘coloc’\n",
     "output_type": "error",
     "traceback": [
      "Error in library(coloc): there is no package called ‘coloc’\nTraceback:\n",
      "1. library(coloc)"
     ]
    }
   ],
   "source": [
    "library(coloc)\n",
    "data(coloc_test_data)\n",
    "attach(coloc_test_data)"
   ]
  },
  {
   "cell_type": "code",
   "execution_count": 2,
   "id": "6e5f2742-4232-476a-ad8b-76a51b147730",
   "metadata": {},
   "outputs": [
    {
     "name": "stderr",
     "output_type": "stream",
     "text": [
      "Installing package into ‘/mnt/mfs/hgrcgrid/homes/bst2126/R/x86_64-pc-linux-gnu-library/4.0’\n",
      "(as ‘lib’ is unspecified)\n",
      "\n",
      "Warning message in install.packages(\"https://cran.r-project.org/src/contrib/coloc_5.1.0.1.tar.gz\", :\n",
      "“installation of package ‘/tmp/2769332.1.high_mem.q/RtmpOV3r71/downloaded_packages/coloc_5.1.0.1.tar.gz’ had non-zero exit status”\n"
     ]
    }
   ],
   "source": [
    "install.packages('https://cran.r-project.org/src/contrib/coloc_5.1.0.1.tar.gz',repos=NULL,type=\"source\")"
   ]
  },
  {
   "cell_type": "code",
   "execution_count": 3,
   "id": "4dd7f209-7bba-439c-b13b-bfb9630d1e6e",
   "metadata": {},
   "outputs": [
    {
     "ename": "ERROR",
     "evalue": "Error in library(coloc): there is no package called ‘coloc’\n",
     "output_type": "error",
     "traceback": [
      "Error in library(coloc): there is no package called ‘coloc’\nTraceback:\n",
      "1. library(coloc)"
     ]
    }
   ],
   "source": [
    "library(coloc)"
   ]
  },
  {
   "cell_type": "code",
   "execution_count": null,
   "id": "07d9d2cd-ce3b-4989-b13f-7b7b31b7e38e",
   "metadata": {},
   "outputs": [],
   "source": [
    "/home/dmc2245/UKBiobank/results/REGENIE_results/results_imputed_data/071222_500k_without_1415/\n",
    "\n",
    "/home/dmc2245/UKBiobank/results/pleiotropy_AD_ARHI/LD_clumping/"
   ]
  },
  {
   "cell_type": "code",
   "execution_count": null,
   "id": "92a38eb7-e674-4b9c-8113-d734d228da45",
   "metadata": {},
   "outputs": [],
   "source": []
  },
  {
   "cell_type": "code",
   "execution_count": null,
   "id": "a01a1c91-80f5-40d8-bfdb-9b09863edac7",
   "metadata": {},
   "outputs": [],
   "source": []
  }
 ],
 "metadata": {
  "kernelspec": {
   "display_name": "R",
   "language": "R",
   "name": "ir"
  },
  "language_info": {
   "codemirror_mode": "r",
   "file_extension": ".r",
   "mimetype": "text/x-r-source",
   "name": "R",
   "pygments_lexer": "r",
   "version": "4.0.0"
  }
 },
 "nbformat": 4,
 "nbformat_minor": 5
}
