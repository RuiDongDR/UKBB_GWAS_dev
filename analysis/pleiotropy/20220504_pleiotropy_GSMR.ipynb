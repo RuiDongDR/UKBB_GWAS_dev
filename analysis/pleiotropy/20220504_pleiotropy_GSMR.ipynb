{
 "cells": [
  {
   "cell_type": "markdown",
   "id": "f7f454b5-b3ef-46ed-9e9d-0cf02c701dc5",
   "metadata": {},
   "source": [
    "## Pleiotropy anaysis for asthma, waist and t2d"
   ]
  },
  {
   "cell_type": "markdown",
   "id": "9dffd0a5-af27-4ade-9865-92e008e700e6",
   "metadata": {},
   "source": [
    "## GSMR: Generalised Summary-data-based Mendelian Randomisation\n",
    "The GSMR analysis requires a reference sample with individual level genotypes (in PLINK binary format) for LD estimation. The inputs are two text or compressed text (gz format) files containing the filepaths of the GWAS summary data (in [GCTA-COJO format](https://yanglab.westlake.edu.cn/software/gcta/#COJO)). The first one is for exposures and the second one is for outcomes.\n",
    "\n",
    "It is possible to run using gsmr R-package or GCTA implemented module. This GCTA module runs the same analysis as in the R version of GSMR but is faster and more flexible.\n"
   ]
  },
  {
   "cell_type": "markdown",
   "id": "dd1d1e14-6837-48ec-b8e5-9851732f5b33",
   "metadata": {
    "kernel": "R",
    "tags": []
   },
   "source": [
    "# GSMR installation to my home directory\n"
   ]
  },
  {
   "cell_type": "code",
   "execution_count": 2,
   "id": "0dfbc72a-962e-4145-b8e3-534e1dbe9db2",
   "metadata": {
    "kernel": "R",
    "tags": []
   },
   "outputs": [],
   "source": [
    "# gsmr requires the R-package(s)\n",
    "install.packages(c('survey'));\n",
    "# install gsmr\n",
    "install.packages(\"http://cnsgenomics.com/software/gsmr/static/gsmr_1.0.9.tar.gz\",repos=NULL,type=\"source\")"
   ]
  },
  {
   "cell_type": "markdown",
   "id": "83f4e163-6116-491f-96f0-4fdd21f54b70",
   "metadata": {
    "kernel": "SoS"
   },
   "source": [
    "This generates a **'Peer certificate cannot be authenticated with given CA certificates' error**.  \n",
    "So I had to download the installation file firdt to my home directory to by pass an authentication certificate.\n"
   ]
  },
  {
   "cell_type": "code",
   "execution_count": 4,
   "id": "4515eda1-7bf7-4023-a838-66bcca1197c2",
   "metadata": {
    "kernel": "SoS",
    "tags": []
   },
   "outputs": [
    {
     "name": "stdout",
     "output_type": "stream",
     "text": [
      "/mnt/mfs/hgrcgrid/homes/bst2126"
     ]
    }
   ],
   "source": [
    "%cd ~"
   ]
  },
  {
   "cell_type": "code",
   "execution_count": 6,
   "id": "67db4c47-3658-45d1-bb76-98599ffcb430",
   "metadata": {
    "kernel": "Bash",
    "tags": []
   },
   "outputs": [
    {
     "name": "stdout",
     "output_type": "stream",
     "text": [
      "--2022-04-04 14:55:16--  https://yanglab.westlake.edu.cn/software/gsmr/static/gsmr_1.0.9.tar.gz\n",
      "Resolving bcp3.cumc.columbia.edu (bcp3.cumc.columbia.edu)... 10.139.211.159\n",
      "Connecting to bcp3.cumc.columbia.edu (bcp3.cumc.columbia.edu)|10.139.211.159|:8080... connected.\n",
      "Proxy request sent, awaiting response... 200 OK\n",
      "Length: 1175860 (1.1M) [application/octet-stream]\n",
      "Saving to: ‘gsmr_1.0.9.tar.gz’\n",
      "\n",
      "gsmr_1.0.9.tar.gz   100%[===================>]   1.12M   240KB/s    in 4.8s    \n",
      "\n",
      "2022-04-04 14:55:22 (240 KB/s) - ‘gsmr_1.0.9.tar.gz’ saved [1175860/1175860]\n",
      "\n"
     ]
    }
   ],
   "source": [
    "wget https://yanglab.westlake.edu.cn/software/gsmr/static/gsmr_1.0.9.tar.gz"
   ]
  },
  {
   "cell_type": "code",
   "execution_count": null,
   "id": "5a067440-d13b-4a85-af8a-d9adeda88310",
   "metadata": {
    "kernel": "Bash"
   },
   "outputs": [],
   "source": [
    "# had to install these manually with R shell\n",
    "# gsmr requires the R-package(s)\n",
    "install.packages(c('survey'));\n",
    "# survey package needs R version > 3.5\n",
    "# install gsmr\n",
    "install.packages(\"~/gsmr_1.0.9.tar.gz\",repos=NULL,type=\"source\")"
   ]
  },
  {
   "cell_type": "markdown",
   "id": "6d9a912b-e6ca-46d9-a1e2-4d39f3183248",
   "metadata": {
    "jupyter": {
     "source_hidden": true
    },
    "kernel": "SoS",
    "tags": []
   },
   "source": [
    "## Data File\n",
    "\n",
    "GSMR requires a data file that includes the effect size, std error, p value, and GWAS sample size for each phenotype.\n",
    "\n",
    "Data file location and steps in workflow are described by Fabiha:\n",
    "\n",
    "> https://github.com/statgenetics/UKBB_GWAS_dev/blob/master/analysis/pleiotropy/data_description.ipynb\n",
    "\n",
    "> https://github.com/statgenetics/UKBB_GWAS_dev/blob/master/analysis/pleiotropy/workflow_gsmr_data_031622.ipynb\n"
   ]
  },
  {
   "cell_type": "code",
   "execution_count": 1,
   "id": "a2853073-904a-4dc4-ba23-fcab064c8755",
   "metadata": {
    "kernel": "SoS"
   },
   "outputs": [
    {
     "name": "stdout",
     "output_type": "stream",
     "text": [
      "/mnt/mfs/statgen/bst2126/pleiotropy/JAZF1_sum"
     ]
    }
   ],
   "source": [
    "%cd /mnt/mfs/statgen/bst2126/pleiotropy/JAZF1_sum"
   ]
  },
  {
   "cell_type": "code",
   "execution_count": 1,
   "id": "b6c8036a-f442-47b7-9ef8-8c6656c23466",
   "metadata": {
    "kernel": "R",
    "tags": []
   },
   "outputs": [],
   "source": [
    "library(\"gsmr\")\n",
    "setwd(\"/mnt/mfs/statgen/bst2126/pleiotropy/JAZF1_sum\")"
   ]
  },
  {
   "cell_type": "code",
   "execution_count": 2,
   "id": "4c548c27-fb5d-4cee-ba5a-45e394609fe0",
   "metadata": {
    "kernel": "R",
    "tags": []
   },
   "outputs": [
    {
     "data": {
      "text/html": [
       "<table class=\"dataframe\">\n",
       "<caption>A data.frame: 6 × 12</caption>\n",
       "<thead>\n",
       "\t<tr><th></th><th scope=col>SNP</th><th scope=col>a1</th><th scope=col>a2</th><th scope=col>a1_freq</th><th scope=col>bzx</th><th scope=col>bzx_se</th><th scope=col>bzx_pval</th><th scope=col>bzx_n</th><th scope=col>bzy</th><th scope=col>bzy_se</th><th scope=col>bzy_pval</th><th scope=col>bzy_n</th></tr>\n",
       "\t<tr><th></th><th scope=col>&lt;chr&gt;</th><th scope=col>&lt;chr&gt;</th><th scope=col>&lt;chr&gt;</th><th scope=col>&lt;dbl&gt;</th><th scope=col>&lt;dbl&gt;</th><th scope=col>&lt;dbl&gt;</th><th scope=col>&lt;dbl&gt;</th><th scope=col>&lt;int&gt;</th><th scope=col>&lt;dbl&gt;</th><th scope=col>&lt;dbl&gt;</th><th scope=col>&lt;dbl&gt;</th><th scope=col>&lt;int&gt;</th></tr>\n",
       "</thead>\n",
       "<tbody>\n",
       "\t<tr><th scope=row>1</th><td>rs545409685       </td><td>C</td><td>T    </td><td>0.002660</td><td> 0.116773000</td><td>0.07112890</td><td>0.1006505</td><td>339345</td><td> 0.03862570</td><td>0.1000360</td><td>0.69941026</td><td>336074</td></tr>\n",
       "\t<tr><th scope=row>2</th><td>7:27869261_CAGTA_C</td><td>C</td><td>CAGTA</td><td>0.001502</td><td> 0.036829900</td><td>0.09843050</td><td>0.7082768</td><td>339345</td><td> 0.10838600</td><td>0.1401650</td><td>0.43936150</td><td>336074</td></tr>\n",
       "\t<tr><th scope=row>3</th><td>rs73075348        </td><td>G</td><td>A    </td><td>0.056628</td><td>-0.000203885</td><td>0.01522620</td><td>0.9893163</td><td>339345</td><td> 0.01622460</td><td>0.0215218</td><td>0.45092779</td><td>336074</td></tr>\n",
       "\t<tr><th scope=row>4</th><td>rs6948467         </td><td>A</td><td>G    </td><td>0.392766</td><td>-0.002206310</td><td>0.00722281</td><td>0.7600130</td><td>339345</td><td>-0.02054410</td><td>0.0102407</td><td>0.04484252</td><td>336074</td></tr>\n",
       "\t<tr><th scope=row>5</th><td>rs73075354        </td><td>G</td><td>C    </td><td>0.116197</td><td> 0.012311100</td><td>0.01100070</td><td>0.2630886</td><td>339345</td><td> 0.03858900</td><td>0.0156277</td><td>0.01353879</td><td>336074</td></tr>\n",
       "\t<tr><th scope=row>6</th><td>rs35410592        </td><td>A</td><td>C    </td><td>0.009441</td><td>-0.015885700</td><td>0.03695520</td><td>0.6672952</td><td>339345</td><td> 0.00427717</td><td>0.0522587</td><td>0.93476900</td><td>336074</td></tr>\n",
       "</tbody>\n",
       "</table>\n"
      ],
      "text/latex": [
       "A data.frame: 6 × 12\n",
       "\\begin{tabular}{r|llllllllllll}\n",
       "  & SNP & a1 & a2 & a1\\_freq & bzx & bzx\\_se & bzx\\_pval & bzx\\_n & bzy & bzy\\_se & bzy\\_pval & bzy\\_n\\\\\n",
       "  & <chr> & <chr> & <chr> & <dbl> & <dbl> & <dbl> & <dbl> & <int> & <dbl> & <dbl> & <dbl> & <int>\\\\\n",
       "\\hline\n",
       "\t1 & rs545409685        & C & T     & 0.002660 &  0.116773000 & 0.07112890 & 0.1006505 & 339345 &  0.03862570 & 0.1000360 & 0.69941026 & 336074\\\\\n",
       "\t2 & 7:27869261\\_CAGTA\\_C & C & CAGTA & 0.001502 &  0.036829900 & 0.09843050 & 0.7082768 & 339345 &  0.10838600 & 0.1401650 & 0.43936150 & 336074\\\\\n",
       "\t3 & rs73075348         & G & A     & 0.056628 & -0.000203885 & 0.01522620 & 0.9893163 & 339345 &  0.01622460 & 0.0215218 & 0.45092779 & 336074\\\\\n",
       "\t4 & rs6948467          & A & G     & 0.392766 & -0.002206310 & 0.00722281 & 0.7600130 & 339345 & -0.02054410 & 0.0102407 & 0.04484252 & 336074\\\\\n",
       "\t5 & rs73075354         & G & C     & 0.116197 &  0.012311100 & 0.01100070 & 0.2630886 & 339345 &  0.03858900 & 0.0156277 & 0.01353879 & 336074\\\\\n",
       "\t6 & rs35410592         & A & C     & 0.009441 & -0.015885700 & 0.03695520 & 0.6672952 & 339345 &  0.00427717 & 0.0522587 & 0.93476900 & 336074\\\\\n",
       "\\end{tabular}\n"
      ],
      "text/markdown": [
       "\n",
       "A data.frame: 6 × 12\n",
       "\n",
       "| <!--/--> | SNP &lt;chr&gt; | a1 &lt;chr&gt; | a2 &lt;chr&gt; | a1_freq &lt;dbl&gt; | bzx &lt;dbl&gt; | bzx_se &lt;dbl&gt; | bzx_pval &lt;dbl&gt; | bzx_n &lt;int&gt; | bzy &lt;dbl&gt; | bzy_se &lt;dbl&gt; | bzy_pval &lt;dbl&gt; | bzy_n &lt;int&gt; |\n",
       "|---|---|---|---|---|---|---|---|---|---|---|---|---|\n",
       "| 1 | rs545409685        | C | T     | 0.002660 |  0.116773000 | 0.07112890 | 0.1006505 | 339345 |  0.03862570 | 0.1000360 | 0.69941026 | 336074 |\n",
       "| 2 | 7:27869261_CAGTA_C | C | CAGTA | 0.001502 |  0.036829900 | 0.09843050 | 0.7082768 | 339345 |  0.10838600 | 0.1401650 | 0.43936150 | 336074 |\n",
       "| 3 | rs73075348         | G | A     | 0.056628 | -0.000203885 | 0.01522620 | 0.9893163 | 339345 |  0.01622460 | 0.0215218 | 0.45092779 | 336074 |\n",
       "| 4 | rs6948467          | A | G     | 0.392766 | -0.002206310 | 0.00722281 | 0.7600130 | 339345 | -0.02054410 | 0.0102407 | 0.04484252 | 336074 |\n",
       "| 5 | rs73075354         | G | C     | 0.116197 |  0.012311100 | 0.01100070 | 0.2630886 | 339345 |  0.03858900 | 0.0156277 | 0.01353879 | 336074 |\n",
       "| 6 | rs35410592         | A | C     | 0.009441 | -0.015885700 | 0.03695520 | 0.6672952 | 339345 |  0.00427717 | 0.0522587 | 0.93476900 | 336074 |\n",
       "\n"
      ],
      "text/plain": [
       "  SNP                a1 a2    a1_freq  bzx          bzx_se     bzx_pval  bzx_n \n",
       "1 rs545409685        C  T     0.002660  0.116773000 0.07112890 0.1006505 339345\n",
       "2 7:27869261_CAGTA_C C  CAGTA 0.001502  0.036829900 0.09843050 0.7082768 339345\n",
       "3 rs73075348         G  A     0.056628 -0.000203885 0.01522620 0.9893163 339345\n",
       "4 rs6948467          A  G     0.392766 -0.002206310 0.00722281 0.7600130 339345\n",
       "5 rs73075354         G  C     0.116197  0.012311100 0.01100070 0.2630886 339345\n",
       "6 rs35410592         A  C     0.009441 -0.015885700 0.03695520 0.6672952 339345\n",
       "  bzy         bzy_se    bzy_pval   bzy_n \n",
       "1  0.03862570 0.1000360 0.69941026 336074\n",
       "2  0.10838600 0.1401650 0.43936150 336074\n",
       "3  0.01622460 0.0215218 0.45092779 336074\n",
       "4 -0.02054410 0.0102407 0.04484252 336074\n",
       "5  0.03858900 0.0156277 0.01353879 336074\n",
       "6  0.00427717 0.0522587 0.93476900 336074"
      ]
     },
     "metadata": {},
     "output_type": "display_data"
    }
   ],
   "source": [
    "gsmr_data <- read.csv(\"asthma_v_t2d_gsmr_data\", sep=\" \")\n",
    "head(gsmr_data)"
   ]
  },
  {
   "cell_type": "code",
   "execution_count": 5,
   "id": "1c89308c-c164-4f67-8d61-c48f22e6e001",
   "metadata": {
    "kernel": "R",
    "tags": []
   },
   "outputs": [
    {
     "data": {
      "text/html": [
       "<style>\n",
       ".list-inline {list-style: none; margin:0; padding: 0}\n",
       ".list-inline>li {display: inline-block}\n",
       ".list-inline>li:not(:last-child)::after {content: \"\\00b7\"; padding: 0 .5ex}\n",
       "</style>\n",
       "<ol class=list-inline><li>2065</li><li>12</li></ol>\n"
      ],
      "text/latex": [
       "\\begin{enumerate*}\n",
       "\\item 2065\n",
       "\\item 12\n",
       "\\end{enumerate*}\n"
      ],
      "text/markdown": [
       "1. 2065\n",
       "2. 12\n",
       "\n",
       "\n"
      ],
      "text/plain": [
       "[1] 2065   12"
      ]
     },
     "metadata": {},
     "output_type": "display_data"
    }
   ],
   "source": [
    "dim(gsmr_data)"
   ]
  },
  {
   "cell_type": "code",
   "execution_count": 3,
   "id": "1f5e3501-bd4a-4c5d-a6ff-54059b9c5a8b",
   "metadata": {
    "kernel": "R",
    "tags": []
   },
   "outputs": [],
   "source": [
    "snp_coeff_id = scan(\"asthma_v_t2d_gcta64.result.xmat.gz\", what=\"\", nlines=1)\n",
    "snp_coeff = read.table(\"asthma_v_t2d_gcta64.result.xmat.gz\", header=F, skip=2)"
   ]
  },
  {
   "cell_type": "code",
   "execution_count": 4,
   "id": "0cc6517d-7056-43a4-a34d-43c1fdad94b9",
   "metadata": {
    "kernel": "R",
    "tags": []
   },
   "outputs": [
    {
     "data": {
      "text/html": [
       "<style>\n",
       ".list-inline {list-style: none; margin:0; padding: 0}\n",
       ".list-inline>li {display: inline-block}\n",
       ".list-inline>li:not(:last-child)::after {content: \"\\00b7\"; padding: 0 .5ex}\n",
       "</style>\n",
       "<ol class=list-inline><li>'rs73075348'</li><li>'rs112759592'</li><li>'rs10281008'</li><li>'rs117933100'</li><li>'rs58651394'</li><li>'rs62451072'</li><li>'rs17620013'</li><li>'rs17692895'</li><li>'rs73083371'</li><li>'rs116990708'</li><li>'rs58753113'</li><li>'rs720659'</li><li>'rs10452749'</li><li>'rs80197206'</li><li>'rs73083390'</li><li>'rs10232181'</li><li>'rs7806217'</li><li>'rs193'</li><li>'rs17156005'</li><li>'rs67705163'</li><li>'rs10486567'</li><li>'rs3919460'</li><li>'rs117034173'</li><li>'rs28657749'</li><li>'rs17156078'</li><li>'rs62451150'</li><li>'rs78975149'</li><li>'rs61648985'</li><li>'rs10237946'</li><li>'rs79909443'</li><li>'rs253310'</li><li>'rs116974921'</li><li>'rs117929884'</li><li>'rs73301337'</li><li>'rs12671522'</li><li>'rs77214245'</li><li>'rs6956423'</li><li>'rs118186994'</li><li>'rs77046554'</li><li>'rs17623527'</li><li>'rs11763515'</li><li>'rs6945134'</li><li>'rs17156127'</li><li>'rs56311485'</li><li>'rs12536791'</li><li>'rs112914067'</li><li>'rs117621905'</li><li>'rs76334155'</li><li>'rs34325103'</li><li>'rs35053797'</li><li>'rs17624621'</li><li>'rs6462063'</li><li>'rs74756543'</li><li>'rs62449904'</li><li>'rs10268254'</li><li>'rs10486576'</li><li>'rs41535351'</li><li>'rs111519725'</li><li>'rs13234714'</li><li>'rs113404264'</li><li>'rs6977730'</li><li>'rs76730676'</li><li>'rs75040112'</li><li>'rs10274928'</li><li>'rs2158623'</li><li>'rs73072534'</li><li>'rs77740984'</li><li>'rs757729'</li><li>'rs57585717'</li><li>'rs78856909'</li><li>'rs4722759'</li><li>'rs62449907'</li><li>'rs6962289'</li><li>'rs62449929'</li><li>'rs2189965'</li><li>'rs113735840'</li><li>'rs864745'</li><li>'rs849140'</li><li>'rs849141'</li><li>'rs4719925'</li><li>'rs1635852'</li><li>'rs1708299'</li><li>'rs79013867'</li><li>'rs530649'</li><li>'rs520161'</li><li>'rs849335'</li><li>'rs550448'</li><li>'rs849315'</li><li>'rs1513270'</li><li>'rs73078484'</li><li>'rs58462233'</li><li>'rs56142710'</li><li>'rs73076597'</li><li>'rs478266'</li><li>'rs475615'</li><li>'rs849325'</li></ol>\n"
      ],
      "text/latex": [
       "\\begin{enumerate*}\n",
       "\\item 'rs73075348'\n",
       "\\item 'rs112759592'\n",
       "\\item 'rs10281008'\n",
       "\\item 'rs117933100'\n",
       "\\item 'rs58651394'\n",
       "\\item 'rs62451072'\n",
       "\\item 'rs17620013'\n",
       "\\item 'rs17692895'\n",
       "\\item 'rs73083371'\n",
       "\\item 'rs116990708'\n",
       "\\item 'rs58753113'\n",
       "\\item 'rs720659'\n",
       "\\item 'rs10452749'\n",
       "\\item 'rs80197206'\n",
       "\\item 'rs73083390'\n",
       "\\item 'rs10232181'\n",
       "\\item 'rs7806217'\n",
       "\\item 'rs193'\n",
       "\\item 'rs17156005'\n",
       "\\item 'rs67705163'\n",
       "\\item 'rs10486567'\n",
       "\\item 'rs3919460'\n",
       "\\item 'rs117034173'\n",
       "\\item 'rs28657749'\n",
       "\\item 'rs17156078'\n",
       "\\item 'rs62451150'\n",
       "\\item 'rs78975149'\n",
       "\\item 'rs61648985'\n",
       "\\item 'rs10237946'\n",
       "\\item 'rs79909443'\n",
       "\\item 'rs253310'\n",
       "\\item 'rs116974921'\n",
       "\\item 'rs117929884'\n",
       "\\item 'rs73301337'\n",
       "\\item 'rs12671522'\n",
       "\\item 'rs77214245'\n",
       "\\item 'rs6956423'\n",
       "\\item 'rs118186994'\n",
       "\\item 'rs77046554'\n",
       "\\item 'rs17623527'\n",
       "\\item 'rs11763515'\n",
       "\\item 'rs6945134'\n",
       "\\item 'rs17156127'\n",
       "\\item 'rs56311485'\n",
       "\\item 'rs12536791'\n",
       "\\item 'rs112914067'\n",
       "\\item 'rs117621905'\n",
       "\\item 'rs76334155'\n",
       "\\item 'rs34325103'\n",
       "\\item 'rs35053797'\n",
       "\\item 'rs17624621'\n",
       "\\item 'rs6462063'\n",
       "\\item 'rs74756543'\n",
       "\\item 'rs62449904'\n",
       "\\item 'rs10268254'\n",
       "\\item 'rs10486576'\n",
       "\\item 'rs41535351'\n",
       "\\item 'rs111519725'\n",
       "\\item 'rs13234714'\n",
       "\\item 'rs113404264'\n",
       "\\item 'rs6977730'\n",
       "\\item 'rs76730676'\n",
       "\\item 'rs75040112'\n",
       "\\item 'rs10274928'\n",
       "\\item 'rs2158623'\n",
       "\\item 'rs73072534'\n",
       "\\item 'rs77740984'\n",
       "\\item 'rs757729'\n",
       "\\item 'rs57585717'\n",
       "\\item 'rs78856909'\n",
       "\\item 'rs4722759'\n",
       "\\item 'rs62449907'\n",
       "\\item 'rs6962289'\n",
       "\\item 'rs62449929'\n",
       "\\item 'rs2189965'\n",
       "\\item 'rs113735840'\n",
       "\\item 'rs864745'\n",
       "\\item 'rs849140'\n",
       "\\item 'rs849141'\n",
       "\\item 'rs4719925'\n",
       "\\item 'rs1635852'\n",
       "\\item 'rs1708299'\n",
       "\\item 'rs79013867'\n",
       "\\item 'rs530649'\n",
       "\\item 'rs520161'\n",
       "\\item 'rs849335'\n",
       "\\item 'rs550448'\n",
       "\\item 'rs849315'\n",
       "\\item 'rs1513270'\n",
       "\\item 'rs73078484'\n",
       "\\item 'rs58462233'\n",
       "\\item 'rs56142710'\n",
       "\\item 'rs73076597'\n",
       "\\item 'rs478266'\n",
       "\\item 'rs475615'\n",
       "\\item 'rs849325'\n",
       "\\end{enumerate*}\n"
      ],
      "text/markdown": [
       "1. 'rs73075348'\n",
       "2. 'rs112759592'\n",
       "3. 'rs10281008'\n",
       "4. 'rs117933100'\n",
       "5. 'rs58651394'\n",
       "6. 'rs62451072'\n",
       "7. 'rs17620013'\n",
       "8. 'rs17692895'\n",
       "9. 'rs73083371'\n",
       "10. 'rs116990708'\n",
       "11. 'rs58753113'\n",
       "12. 'rs720659'\n",
       "13. 'rs10452749'\n",
       "14. 'rs80197206'\n",
       "15. 'rs73083390'\n",
       "16. 'rs10232181'\n",
       "17. 'rs7806217'\n",
       "18. 'rs193'\n",
       "19. 'rs17156005'\n",
       "20. 'rs67705163'\n",
       "21. 'rs10486567'\n",
       "22. 'rs3919460'\n",
       "23. 'rs117034173'\n",
       "24. 'rs28657749'\n",
       "25. 'rs17156078'\n",
       "26. 'rs62451150'\n",
       "27. 'rs78975149'\n",
       "28. 'rs61648985'\n",
       "29. 'rs10237946'\n",
       "30. 'rs79909443'\n",
       "31. 'rs253310'\n",
       "32. 'rs116974921'\n",
       "33. 'rs117929884'\n",
       "34. 'rs73301337'\n",
       "35. 'rs12671522'\n",
       "36. 'rs77214245'\n",
       "37. 'rs6956423'\n",
       "38. 'rs118186994'\n",
       "39. 'rs77046554'\n",
       "40. 'rs17623527'\n",
       "41. 'rs11763515'\n",
       "42. 'rs6945134'\n",
       "43. 'rs17156127'\n",
       "44. 'rs56311485'\n",
       "45. 'rs12536791'\n",
       "46. 'rs112914067'\n",
       "47. 'rs117621905'\n",
       "48. 'rs76334155'\n",
       "49. 'rs34325103'\n",
       "50. 'rs35053797'\n",
       "51. 'rs17624621'\n",
       "52. 'rs6462063'\n",
       "53. 'rs74756543'\n",
       "54. 'rs62449904'\n",
       "55. 'rs10268254'\n",
       "56. 'rs10486576'\n",
       "57. 'rs41535351'\n",
       "58. 'rs111519725'\n",
       "59. 'rs13234714'\n",
       "60. 'rs113404264'\n",
       "61. 'rs6977730'\n",
       "62. 'rs76730676'\n",
       "63. 'rs75040112'\n",
       "64. 'rs10274928'\n",
       "65. 'rs2158623'\n",
       "66. 'rs73072534'\n",
       "67. 'rs77740984'\n",
       "68. 'rs757729'\n",
       "69. 'rs57585717'\n",
       "70. 'rs78856909'\n",
       "71. 'rs4722759'\n",
       "72. 'rs62449907'\n",
       "73. 'rs6962289'\n",
       "74. 'rs62449929'\n",
       "75. 'rs2189965'\n",
       "76. 'rs113735840'\n",
       "77. 'rs864745'\n",
       "78. 'rs849140'\n",
       "79. 'rs849141'\n",
       "80. 'rs4719925'\n",
       "81. 'rs1635852'\n",
       "82. 'rs1708299'\n",
       "83. 'rs79013867'\n",
       "84. 'rs530649'\n",
       "85. 'rs520161'\n",
       "86. 'rs849335'\n",
       "87. 'rs550448'\n",
       "88. 'rs849315'\n",
       "89. 'rs1513270'\n",
       "90. 'rs73078484'\n",
       "91. 'rs58462233'\n",
       "92. 'rs56142710'\n",
       "93. 'rs73076597'\n",
       "94. 'rs478266'\n",
       "95. 'rs475615'\n",
       "96. 'rs849325'\n",
       "\n",
       "\n"
      ],
      "text/plain": [
       " [1] \"rs73075348\"  \"rs112759592\" \"rs10281008\"  \"rs117933100\" \"rs58651394\" \n",
       " [6] \"rs62451072\"  \"rs17620013\"  \"rs17692895\"  \"rs73083371\"  \"rs116990708\"\n",
       "[11] \"rs58753113\"  \"rs720659\"    \"rs10452749\"  \"rs80197206\"  \"rs73083390\" \n",
       "[16] \"rs10232181\"  \"rs7806217\"   \"rs193\"       \"rs17156005\"  \"rs67705163\" \n",
       "[21] \"rs10486567\"  \"rs3919460\"   \"rs117034173\" \"rs28657749\"  \"rs17156078\" \n",
       "[26] \"rs62451150\"  \"rs78975149\"  \"rs61648985\"  \"rs10237946\"  \"rs79909443\" \n",
       "[31] \"rs253310\"    \"rs116974921\" \"rs117929884\" \"rs73301337\"  \"rs12671522\" \n",
       "[36] \"rs77214245\"  \"rs6956423\"   \"rs118186994\" \"rs77046554\"  \"rs17623527\" \n",
       "[41] \"rs11763515\"  \"rs6945134\"   \"rs17156127\"  \"rs56311485\"  \"rs12536791\" \n",
       "[46] \"rs112914067\" \"rs117621905\" \"rs76334155\"  \"rs34325103\"  \"rs35053797\" \n",
       "[51] \"rs17624621\"  \"rs6462063\"   \"rs74756543\"  \"rs62449904\"  \"rs10268254\" \n",
       "[56] \"rs10486576\"  \"rs41535351\"  \"rs111519725\" \"rs13234714\"  \"rs113404264\"\n",
       "[61] \"rs6977730\"   \"rs76730676\"  \"rs75040112\"  \"rs10274928\"  \"rs2158623\"  \n",
       "[66] \"rs73072534\"  \"rs77740984\"  \"rs757729\"    \"rs57585717\"  \"rs78856909\" \n",
       "[71] \"rs4722759\"   \"rs62449907\"  \"rs6962289\"   \"rs62449929\"  \"rs2189965\"  \n",
       "[76] \"rs113735840\" \"rs864745\"    \"rs849140\"    \"rs849141\"    \"rs4719925\"  \n",
       "[81] \"rs1635852\"   \"rs1708299\"   \"rs79013867\"  \"rs530649\"    \"rs520161\"   \n",
       "[86] \"rs849335\"    \"rs550448\"    \"rs849315\"    \"rs1513270\"   \"rs73078484\" \n",
       "[91] \"rs58462233\"  \"rs56142710\"  \"rs73076597\"  \"rs478266\"    \"rs475615\"   \n",
       "[96] \"rs849325\"   "
      ]
     },
     "metadata": {},
     "output_type": "display_data"
    }
   ],
   "source": [
    "# Match the SNP genotype data with the summary data\n",
    "snp_id = Reduce(intersect, list(gsmr_data$SNP, snp_coeff_id))\n",
    "snp_id"
   ]
  },
  {
   "cell_type": "code",
   "execution_count": 5,
   "id": "509f6e9c-547a-430d-9ee4-bf094fd4a0dc",
   "metadata": {
    "kernel": "R",
    "tags": []
   },
   "outputs": [],
   "source": [
    "gsmr_data = gsmr_data[match(snp_id, gsmr_data$SNP),]\n"
   ]
  },
  {
   "cell_type": "code",
   "execution_count": 6,
   "id": "a29e704e-ca73-47d3-a8cd-b719d59b0379",
   "metadata": {
    "kernel": "R",
    "tags": []
   },
   "outputs": [],
   "source": [
    "snp_order = match(snp_id, snp_coeff_id)\n",
    "snp_coeff_id = snp_coeff_id[snp_order]\n",
    "snp_coeff = snp_coeff[, snp_order]\n"
   ]
  },
  {
   "cell_type": "code",
   "execution_count": 7,
   "id": "0d50f5c8-f3b1-48c0-a69a-7b1db73e8257",
   "metadata": {
    "kernel": "R",
    "tags": []
   },
   "outputs": [
    {
     "data": {
      "text/html": [
       "67606"
      ],
      "text/latex": [
       "67606"
      ],
      "text/markdown": [
       "67606"
      ],
      "text/plain": [
       "[1] 67606"
      ]
     },
     "metadata": {},
     "output_type": "display_data"
    }
   ],
   "source": [
    "sum(is.na(snp_coeff)) #count NA snp coefficients if any."
   ]
  },
  {
   "cell_type": "code",
   "execution_count": 8,
   "id": "317d01be-b968-43db-a11c-d89171745d1e",
   "metadata": {
    "kernel": "R",
    "tags": []
   },
   "outputs": [],
   "source": [
    "snp_coeff[is.na(snp_coeff)] <- 0 # Recode NAs as 0."
   ]
  },
  {
   "cell_type": "code",
   "execution_count": 10,
   "id": "a6fddb41-0947-4f4d-9036-61dfaff1f26a",
   "metadata": {
    "kernel": "SoS"
   },
   "outputs": [
    {
     "data": {
      "text/html": [
       "0"
      ],
      "text/latex": [
       "0"
      ],
      "text/markdown": [
       "0"
      ],
      "text/plain": [
       "[1] 0"
      ]
     },
     "metadata": {},
     "output_type": "display_data"
    }
   ],
   "source": [
    "sum(is.na(snp_coeff))"
   ]
  },
  {
   "cell_type": "code",
   "execution_count": 9,
   "id": "fe3a979e-5860-43d9-9786-327ececdea30",
   "metadata": {
    "kernel": "R",
    "tags": []
   },
   "outputs": [],
   "source": [
    "# Calculate the LD correlation matrix\n",
    "ldrho = cor(snp_coeff)"
   ]
  },
  {
   "cell_type": "code",
   "execution_count": 10,
   "id": "ec0db704-d60c-4749-a741-a3588c8e584e",
   "metadata": {
    "kernel": "SoS"
   },
   "outputs": [],
   "source": [
    "# Check the size of the correlation matrix and double-check if the order of the SNPs in the LD correlation matrix is consistent with that in the GWAS summary data\n",
    "colnames(ldrho) = rownames(ldrho) = snp_coeff_id"
   ]
  },
  {
   "cell_type": "code",
   "execution_count": 11,
   "id": "cab9fa11-70a7-4b85-b4be-35a452e4301a",
   "metadata": {
    "kernel": "SoS"
   },
   "outputs": [
    {
     "data": {
      "text/html": [
       "<style>\n",
       ".list-inline {list-style: none; margin:0; padding: 0}\n",
       ".list-inline>li {display: inline-block}\n",
       ".list-inline>li:not(:last-child)::after {content: \"\\00b7\"; padding: 0 .5ex}\n",
       "</style>\n",
       "<ol class=list-inline><li>96</li><li>96</li></ol>\n"
      ],
      "text/latex": [
       "\\begin{enumerate*}\n",
       "\\item 96\n",
       "\\item 96\n",
       "\\end{enumerate*}\n"
      ],
      "text/markdown": [
       "1. 96\n",
       "2. 96\n",
       "\n",
       "\n"
      ],
      "text/plain": [
       "[1] 96 96"
      ]
     },
     "metadata": {},
     "output_type": "display_data"
    }
   ],
   "source": [
    "dim(ldrho) "
   ]
  },
  {
   "cell_type": "code",
   "execution_count": 12,
   "id": "1a880fa3-8745-43dc-93c3-b8f740418735",
   "metadata": {
    "kernel": "SoS"
   },
   "outputs": [
    {
     "data": {
      "text/html": [
       "<table class=\"dataframe\">\n",
       "<caption>A matrix: 5 × 5 of type dbl</caption>\n",
       "<thead>\n",
       "\t<tr><th></th><th scope=col>rs73075348</th><th scope=col>rs112759592</th><th scope=col>rs10281008</th><th scope=col>rs117933100</th><th scope=col>rs58651394</th></tr>\n",
       "</thead>\n",
       "<tbody>\n",
       "\t<tr><th scope=row>rs73075348</th><td> 1.00000000</td><td>-0.04041098</td><td>-0.07996557</td><td>-0.03335595</td><td>-0.02336440</td></tr>\n",
       "\t<tr><th scope=row>rs112759592</th><td>-0.04041098</td><td> 1.00000000</td><td>-0.06602195</td><td>-0.02949000</td><td>-0.01981965</td></tr>\n",
       "\t<tr><th scope=row>rs10281008</th><td>-0.07996557</td><td>-0.06602195</td><td> 1.00000000</td><td>-0.04834999</td><td>-0.03434119</td></tr>\n",
       "\t<tr><th scope=row>rs117933100</th><td>-0.03335595</td><td>-0.02949000</td><td>-0.04834999</td><td> 1.00000000</td><td>-0.01431049</td></tr>\n",
       "\t<tr><th scope=row>rs58651394</th><td>-0.02336440</td><td>-0.01981965</td><td>-0.03434119</td><td>-0.01431049</td><td> 1.00000000</td></tr>\n",
       "</tbody>\n",
       "</table>\n"
      ],
      "text/latex": [
       "A matrix: 5 × 5 of type dbl\n",
       "\\begin{tabular}{r|lllll}\n",
       "  & rs73075348 & rs112759592 & rs10281008 & rs117933100 & rs58651394\\\\\n",
       "\\hline\n",
       "\trs73075348 &  1.00000000 & -0.04041098 & -0.07996557 & -0.03335595 & -0.02336440\\\\\n",
       "\trs112759592 & -0.04041098 &  1.00000000 & -0.06602195 & -0.02949000 & -0.01981965\\\\\n",
       "\trs10281008 & -0.07996557 & -0.06602195 &  1.00000000 & -0.04834999 & -0.03434119\\\\\n",
       "\trs117933100 & -0.03335595 & -0.02949000 & -0.04834999 &  1.00000000 & -0.01431049\\\\\n",
       "\trs58651394 & -0.02336440 & -0.01981965 & -0.03434119 & -0.01431049 &  1.00000000\\\\\n",
       "\\end{tabular}\n"
      ],
      "text/markdown": [
       "\n",
       "A matrix: 5 × 5 of type dbl\n",
       "\n",
       "| <!--/--> | rs73075348 | rs112759592 | rs10281008 | rs117933100 | rs58651394 |\n",
       "|---|---|---|---|---|---|\n",
       "| rs73075348 |  1.00000000 | -0.04041098 | -0.07996557 | -0.03335595 | -0.02336440 |\n",
       "| rs112759592 | -0.04041098 |  1.00000000 | -0.06602195 | -0.02949000 | -0.01981965 |\n",
       "| rs10281008 | -0.07996557 | -0.06602195 |  1.00000000 | -0.04834999 | -0.03434119 |\n",
       "| rs117933100 | -0.03335595 | -0.02949000 | -0.04834999 |  1.00000000 | -0.01431049 |\n",
       "| rs58651394 | -0.02336440 | -0.01981965 | -0.03434119 | -0.01431049 |  1.00000000 |\n",
       "\n"
      ],
      "text/plain": [
       "            rs73075348  rs112759592 rs10281008  rs117933100 rs58651394 \n",
       "rs73075348   1.00000000 -0.04041098 -0.07996557 -0.03335595 -0.02336440\n",
       "rs112759592 -0.04041098  1.00000000 -0.06602195 -0.02949000 -0.01981965\n",
       "rs10281008  -0.07996557 -0.06602195  1.00000000 -0.04834999 -0.03434119\n",
       "rs117933100 -0.03335595 -0.02949000 -0.04834999  1.00000000 -0.01431049\n",
       "rs58651394  -0.02336440 -0.01981965 -0.03434119 -0.01431049  1.00000000"
      ]
     },
     "metadata": {},
     "output_type": "display_data"
    }
   ],
   "source": [
    "# Show the first  rows and columns of the matrix  \n",
    "ldrho[1:5,1:5]"
   ]
  },
  {
   "cell_type": "code",
   "execution_count": null,
   "id": "146644be-3a90-4455-b2ee-b630468904a7",
   "metadata": {
    "kernel": "SoS"
   },
   "outputs": [],
   "source": [
    "# Standardization"
   ]
  },
  {
   "cell_type": "code",
   "execution_count": 13,
   "id": "75e1fb6a-23de-4d7f-b30b-4c2d08781db2",
   "metadata": {
    "kernel": "SoS"
   },
   "outputs": [
    {
     "name": "stderr",
     "output_type": "stream",
     "text": [
      "std effect: 96 instruments loaded.\n",
      "\n"
     ]
    },
    {
     "data": {
      "text/html": [
       "<table class=\"dataframe\">\n",
       "<caption>A data.frame: 6 × 14</caption>\n",
       "<thead>\n",
       "\t<tr><th></th><th scope=col>SNP</th><th scope=col>a1</th><th scope=col>a2</th><th scope=col>a1_freq</th><th scope=col>bzx</th><th scope=col>bzx_se</th><th scope=col>bzx_pval</th><th scope=col>bzx_n</th><th scope=col>bzy</th><th scope=col>bzy_se</th><th scope=col>bzy_pval</th><th scope=col>bzy_n</th><th scope=col>std_bzx</th><th scope=col>std_bzx_se</th></tr>\n",
       "\t<tr><th></th><th scope=col>&lt;chr&gt;</th><th scope=col>&lt;chr&gt;</th><th scope=col>&lt;chr&gt;</th><th scope=col>&lt;dbl&gt;</th><th scope=col>&lt;dbl&gt;</th><th scope=col>&lt;dbl&gt;</th><th scope=col>&lt;dbl&gt;</th><th scope=col>&lt;int&gt;</th><th scope=col>&lt;dbl&gt;</th><th scope=col>&lt;dbl&gt;</th><th scope=col>&lt;dbl&gt;</th><th scope=col>&lt;int&gt;</th><th scope=col>&lt;dbl&gt;</th><th scope=col>&lt;dbl&gt;</th></tr>\n",
       "</thead>\n",
       "<tbody>\n",
       "\t<tr><th scope=row>3</th><td>rs73075348 </td><td>G</td><td>A</td><td>0.056628</td><td>-0.000203885</td><td>0.0152262</td><td>0.9893163</td><td>339345</td><td> 0.0162246</td><td>0.0215218</td><td>0.4509278</td><td>336074</td><td>-7.032357e-05</td><td>0.005251788</td></tr>\n",
       "\t<tr><th scope=row>24</th><td>rs112759592</td><td>C</td><td>G</td><td>0.037919</td><td> 0.011217400</td><td>0.0183894</td><td>0.5418661</td><td>339345</td><td>-0.0110040</td><td>0.0260792</td><td>0.6730650</td><td>336074</td><td> 3.876631e-03</td><td>0.006355208</td></tr>\n",
       "\t<tr><th scope=row>30</th><td>rs10281008 </td><td>G</td><td>A</td><td>0.103650</td><td> 0.005002890</td><td>0.0115376</td><td>0.6645673</td><td>339345</td><td> 0.0126663</td><td>0.0163541</td><td>0.4386337</td><td>336074</td><td> 1.726816e-03</td><td>0.003982362</td></tr>\n",
       "\t<tr><th scope=row>36</th><td>rs117933100</td><td>C</td><td>T</td><td>0.020039</td><td>-0.005789150</td><td>0.0250778</td><td>0.8174334</td><td>339345</td><td> 0.0172606</td><td>0.0356208</td><td>0.6279846</td><td>336074</td><td>-1.999619e-03</td><td>0.008662073</td></tr>\n",
       "\t<tr><th scope=row>44</th><td>rs58651394 </td><td>T</td><td>C</td><td>0.010441</td><td> 0.022539600</td><td>0.0346362</td><td>0.5152073</td><td>339345</td><td> 0.1005150</td><td>0.0493825</td><td>0.0418071</td><td>336074</td><td> 7.771200e-03</td><td>0.011941864</td></tr>\n",
       "\t<tr><th scope=row>51</th><td>rs62451072 </td><td>T</td><td>G</td><td>0.050092</td><td> 0.008891390</td><td>0.0160970</td><td>0.5806989</td><td>339345</td><td> 0.0308995</td><td>0.0228575</td><td>0.1764302</td><td>336074</td><td> 3.073717e-03</td><td>0.005564666</td></tr>\n",
       "</tbody>\n",
       "</table>\n"
      ],
      "text/latex": [
       "A data.frame: 6 × 14\n",
       "\\begin{tabular}{r|llllllllllllll}\n",
       "  & SNP & a1 & a2 & a1\\_freq & bzx & bzx\\_se & bzx\\_pval & bzx\\_n & bzy & bzy\\_se & bzy\\_pval & bzy\\_n & std\\_bzx & std\\_bzx\\_se\\\\\n",
       "  & <chr> & <chr> & <chr> & <dbl> & <dbl> & <dbl> & <dbl> & <int> & <dbl> & <dbl> & <dbl> & <int> & <dbl> & <dbl>\\\\\n",
       "\\hline\n",
       "\t3 & rs73075348  & G & A & 0.056628 & -0.000203885 & 0.0152262 & 0.9893163 & 339345 &  0.0162246 & 0.0215218 & 0.4509278 & 336074 & -7.032357e-05 & 0.005251788\\\\\n",
       "\t24 & rs112759592 & C & G & 0.037919 &  0.011217400 & 0.0183894 & 0.5418661 & 339345 & -0.0110040 & 0.0260792 & 0.6730650 & 336074 &  3.876631e-03 & 0.006355208\\\\\n",
       "\t30 & rs10281008  & G & A & 0.103650 &  0.005002890 & 0.0115376 & 0.6645673 & 339345 &  0.0126663 & 0.0163541 & 0.4386337 & 336074 &  1.726816e-03 & 0.003982362\\\\\n",
       "\t36 & rs117933100 & C & T & 0.020039 & -0.005789150 & 0.0250778 & 0.8174334 & 339345 &  0.0172606 & 0.0356208 & 0.6279846 & 336074 & -1.999619e-03 & 0.008662073\\\\\n",
       "\t44 & rs58651394  & T & C & 0.010441 &  0.022539600 & 0.0346362 & 0.5152073 & 339345 &  0.1005150 & 0.0493825 & 0.0418071 & 336074 &  7.771200e-03 & 0.011941864\\\\\n",
       "\t51 & rs62451072  & T & G & 0.050092 &  0.008891390 & 0.0160970 & 0.5806989 & 339345 &  0.0308995 & 0.0228575 & 0.1764302 & 336074 &  3.073717e-03 & 0.005564666\\\\\n",
       "\\end{tabular}\n"
      ],
      "text/markdown": [
       "\n",
       "A data.frame: 6 × 14\n",
       "\n",
       "| <!--/--> | SNP &lt;chr&gt; | a1 &lt;chr&gt; | a2 &lt;chr&gt; | a1_freq &lt;dbl&gt; | bzx &lt;dbl&gt; | bzx_se &lt;dbl&gt; | bzx_pval &lt;dbl&gt; | bzx_n &lt;int&gt; | bzy &lt;dbl&gt; | bzy_se &lt;dbl&gt; | bzy_pval &lt;dbl&gt; | bzy_n &lt;int&gt; | std_bzx &lt;dbl&gt; | std_bzx_se &lt;dbl&gt; |\n",
       "|---|---|---|---|---|---|---|---|---|---|---|---|---|---|---|\n",
       "| 3 | rs73075348  | G | A | 0.056628 | -0.000203885 | 0.0152262 | 0.9893163 | 339345 |  0.0162246 | 0.0215218 | 0.4509278 | 336074 | -7.032357e-05 | 0.005251788 |\n",
       "| 24 | rs112759592 | C | G | 0.037919 |  0.011217400 | 0.0183894 | 0.5418661 | 339345 | -0.0110040 | 0.0260792 | 0.6730650 | 336074 |  3.876631e-03 | 0.006355208 |\n",
       "| 30 | rs10281008  | G | A | 0.103650 |  0.005002890 | 0.0115376 | 0.6645673 | 339345 |  0.0126663 | 0.0163541 | 0.4386337 | 336074 |  1.726816e-03 | 0.003982362 |\n",
       "| 36 | rs117933100 | C | T | 0.020039 | -0.005789150 | 0.0250778 | 0.8174334 | 339345 |  0.0172606 | 0.0356208 | 0.6279846 | 336074 | -1.999619e-03 | 0.008662073 |\n",
       "| 44 | rs58651394  | T | C | 0.010441 |  0.022539600 | 0.0346362 | 0.5152073 | 339345 |  0.1005150 | 0.0493825 | 0.0418071 | 336074 |  7.771200e-03 | 0.011941864 |\n",
       "| 51 | rs62451072  | T | G | 0.050092 |  0.008891390 | 0.0160970 | 0.5806989 | 339345 |  0.0308995 | 0.0228575 | 0.1764302 | 336074 |  3.073717e-03 | 0.005564666 |\n",
       "\n"
      ],
      "text/plain": [
       "   SNP         a1 a2 a1_freq  bzx          bzx_se    bzx_pval  bzx_n \n",
       "3  rs73075348  G  A  0.056628 -0.000203885 0.0152262 0.9893163 339345\n",
       "24 rs112759592 C  G  0.037919  0.011217400 0.0183894 0.5418661 339345\n",
       "30 rs10281008  G  A  0.103650  0.005002890 0.0115376 0.6645673 339345\n",
       "36 rs117933100 C  T  0.020039 -0.005789150 0.0250778 0.8174334 339345\n",
       "44 rs58651394  T  C  0.010441  0.022539600 0.0346362 0.5152073 339345\n",
       "51 rs62451072  T  G  0.050092  0.008891390 0.0160970 0.5806989 339345\n",
       "   bzy        bzy_se    bzy_pval  bzy_n  std_bzx       std_bzx_se \n",
       "3   0.0162246 0.0215218 0.4509278 336074 -7.032357e-05 0.005251788\n",
       "24 -0.0110040 0.0260792 0.6730650 336074  3.876631e-03 0.006355208\n",
       "30  0.0126663 0.0163541 0.4386337 336074  1.726816e-03 0.003982362\n",
       "36  0.0172606 0.0356208 0.6279846 336074 -1.999619e-03 0.008662073\n",
       "44  0.1005150 0.0493825 0.0418071 336074  7.771200e-03 0.011941864\n",
       "51  0.0308995 0.0228575 0.1764302 336074  3.073717e-03 0.005564666"
      ]
     },
     "metadata": {},
     "output_type": "display_data"
    }
   ],
   "source": [
    "snpfreq = gsmr_data$a1_freq             # allele frequencies of the SNPs\n",
    "bzx = gsmr_data$bzx     # effects of the instruments on risk factor\n",
    "bzx_se = gsmr_data$bzx_se       # standard errors of bzx\n",
    "bzx_n = gsmr_data$bzx_n          # GWAS sample size for the risk factor\n",
    "std_zx = std_effect(snpfreq, bzx, bzx_se, bzx_n)    # perform standardisation\n",
    "gsmr_data$std_bzx = std_zx$b    # standardized bzx\n",
    "gsmr_data$std_bzx_se = std_zx$se    # standardized bzx_se\n",
    "head(gsmr_data)"
   ]
  },
  {
   "cell_type": "code",
   "execution_count": null,
   "id": "a68bb569-6731-40cb-95a8-c3a898bd4db9",
   "metadata": {
    "kernel": "SoS"
   },
   "outputs": [],
   "source": [
    "# GSMR anlysis between asthma and t2d"
   ]
  },
  {
   "cell_type": "code",
   "execution_count": 16,
   "id": "13fedeb5-c23f-42b3-9ff7-88db1fe89422",
   "metadata": {
    "kernel": "SoS"
   },
   "outputs": [
    {
     "name": "stderr",
     "output_type": "stream",
     "text": [
      "GSMR analysis: 96 instruments loaded.\n",
      "\n",
      "There are 96 SNPs in the dataset.\n",
      "\n",
      "Warning message in filter_summdat(snpid, bzx, bzx_se, bzx_pval, bzy, bzy_se, bzy_pval, :\n",
      "“93 non-significant SNPs were removed.”\n"
     ]
    },
    {
     "ename": "ERROR",
     "evalue": "Error in filter_summdat(snpid, bzx, bzx_se, bzx_pval, bzy, bzy_se, bzy_pval, : At least 5 SNPs are required. Note: this hard limit can be changed by the \"nsnps_thresh\".\n",
     "output_type": "error",
     "traceback": [
      "Error in filter_summdat(snpid, bzx, bzx_se, bzx_pval, bzy, bzy_se, bzy_pval, : At least 5 SNPs are required. Note: this hard limit can be changed by the \"nsnps_thresh\".\nTraceback:\n",
      "1. gsmr(bzx, bzx_se, bzx_pval, bzy, bzy_se, bzy_pval, ldrho, snp_coeff_id, \n .     n_ref, heidi_outlier_flag, gwas_thresh, single_snp_heidi_thresh, \n .     multi_snp_heidi_thresh, nsnps_thresh, ld_r2_thresh, ld_fdr_thresh, \n .     gsmr2_beta)",
      "2. filter_summdat(snpid, bzx, bzx_se, bzx_pval, bzy, bzy_se, bzy_pval, \n .     ldrho, n_ref, nsnps_thresh, gwas_thresh, ld_r2_thresh, ld_fdr_thresh)",
      "3. stop(\"At least \", nsnps_thresh, \" SNPs are required. Note: this hard limit can be changed by the \\\"nsnps_thresh\\\".\")"
     ]
    }
   ],
   "source": [
    "bzx = gsmr_data$std_bzx    # SNP effects on the risk factor\n",
    "bzx_se = gsmr_data$std_bzx_se    # standard errors of bzx\n",
    "bzx_pval = gsmr_data$bzx_pval   # p-values for bzx\n",
    "bzy = gsmr_data$bzy    # SNP effects on the disease\n",
    "bzy_se = gsmr_data$bzy_se    # standard errors of bzy\n",
    "bzy_pval = gsmr_data$bzy_pval    # p-values for bzy\n",
    "n_ref = 487409    # Sample size of the reference sample # 487409 individuals in the sample file\n",
    "gwas_thresh = 5e-8    # GWAS threshold to select SNPs as the instruments for the GSMR analysis\n",
    "single_snp_heidi_thresh = 0.01    # p-value threshold for single-SNP-based HEIDI-outlier analysis\n",
    "multi_snp_heidi_thresh = 0.01    # p-value threshold for multi-SNP-based HEIDI-outlier analysis\n",
    "nsnps_thresh = 5   # the minimum number of instruments required for the GSMR analysis\n",
    "heidi_outlier_flag = T    # flag for HEIDI-outlier analysis\n",
    "ld_r2_thresh = 0.1    # LD r2 threshold to remove SNPs in high LD\n",
    "ld_fdr_thresh = 0.05   # FDR threshold to remove the chance correlations between the SNP instruments\n",
    "gsmr2_beta = 0     # 0 - the original HEIDI-outlier method; 1 - the new HEIDI-outlier method that is currently under development \n",
    "gsmr_results = gsmr(bzx, bzx_se, bzx_pval, bzy, bzy_se, bzy_pval, ldrho, snp_coeff_id, n_ref, heidi_outlier_flag, gwas_thresh, single_snp_heidi_thresh, multi_snp_heidi_thresh, nsnps_thresh, ld_r2_thresh, ld_fdr_thresh, gsmr2_beta)    # GSMR analysis \n",
    "filtered_index=gsmr_results$used_index\n",
    "cat(\"The estimated effect of the exposure on outcome: \",gsmr_results$bxy)"
   ]
  },
  {
   "cell_type": "markdown",
   "id": "14bf4a6e-715a-4897-9fc1-12e8c7c946f1",
   "metadata": {
    "kernel": "SoS"
   },
   "source": [
    "# waist vs t2d"
   ]
  },
  {
   "cell_type": "code",
   "execution_count": 29,
   "id": "c97bd8f4-b197-4d74-88c4-3cec1cc7fef1",
   "metadata": {
    "kernel": "SoS"
   },
   "outputs": [
    {
     "data": {
      "text/html": [
       "<table class=\"dataframe\">\n",
       "<caption>A data.frame: 6 × 12</caption>\n",
       "<thead>\n",
       "\t<tr><th></th><th scope=col>SNP</th><th scope=col>a1</th><th scope=col>a2</th><th scope=col>a1_freq</th><th scope=col>bzx</th><th scope=col>bzx_se</th><th scope=col>bzx_pval</th><th scope=col>bzx_n</th><th scope=col>bzy</th><th scope=col>bzy_se</th><th scope=col>bzy_pval</th><th scope=col>bzy_n</th></tr>\n",
       "\t<tr><th></th><th scope=col>&lt;chr&gt;</th><th scope=col>&lt;chr&gt;</th><th scope=col>&lt;chr&gt;</th><th scope=col>&lt;dbl&gt;</th><th scope=col>&lt;dbl&gt;</th><th scope=col>&lt;dbl&gt;</th><th scope=col>&lt;dbl&gt;</th><th scope=col>&lt;int&gt;</th><th scope=col>&lt;dbl&gt;</th><th scope=col>&lt;dbl&gt;</th><th scope=col>&lt;dbl&gt;</th><th scope=col>&lt;int&gt;</th></tr>\n",
       "</thead>\n",
       "<tbody>\n",
       "\t<tr><th scope=row>1</th><td>rs545409685       </td><td>C</td><td>T    </td><td>0.002660</td><td> 0.000830394</td><td>0.00997982</td><td>9.336868e-01</td><td>365499</td><td> 0.03862570</td><td>0.1000360</td><td>0.69941026</td><td>336074</td></tr>\n",
       "\t<tr><th scope=row>2</th><td>7:27869261_CAGTA_C</td><td>C</td><td>CAGTA</td><td>0.001494</td><td>-0.018772000</td><td>0.01391700</td><td>1.773838e-01</td><td>365499</td><td> 0.10838600</td><td>0.1401650</td><td>0.43936150</td><td>336074</td></tr>\n",
       "\t<tr><th scope=row>3</th><td>rs73075348        </td><td>G</td><td>A    </td><td>0.056610</td><td>-0.002466700</td><td>0.00213852</td><td>2.487196e-01</td><td>365499</td><td> 0.01622460</td><td>0.0215218</td><td>0.45092779</td><td>336074</td></tr>\n",
       "\t<tr><th scope=row>4</th><td>rs6948467         </td><td>A</td><td>G    </td><td>0.392772</td><td>-0.002577480</td><td>0.00101531</td><td>1.112910e-02</td><td>365499</td><td>-0.02054410</td><td>0.0102407</td><td>0.04484252</td><td>336074</td></tr>\n",
       "\t<tr><th scope=row>5</th><td>rs73075354        </td><td>G</td><td>C    </td><td>0.116173</td><td> 0.006933460</td><td>0.00154743</td><td>7.442177e-06</td><td>365499</td><td> 0.03858900</td><td>0.0156277</td><td>0.01353879</td><td>336074</td></tr>\n",
       "\t<tr><th scope=row>6</th><td>rs35410592        </td><td>A</td><td>C    </td><td>0.009428</td><td>-0.003141340</td><td>0.00520300</td><td>5.460067e-01</td><td>365499</td><td> 0.00427717</td><td>0.0522587</td><td>0.93476900</td><td>336074</td></tr>\n",
       "</tbody>\n",
       "</table>\n"
      ],
      "text/latex": [
       "A data.frame: 6 × 12\n",
       "\\begin{tabular}{r|llllllllllll}\n",
       "  & SNP & a1 & a2 & a1\\_freq & bzx & bzx\\_se & bzx\\_pval & bzx\\_n & bzy & bzy\\_se & bzy\\_pval & bzy\\_n\\\\\n",
       "  & <chr> & <chr> & <chr> & <dbl> & <dbl> & <dbl> & <dbl> & <int> & <dbl> & <dbl> & <dbl> & <int>\\\\\n",
       "\\hline\n",
       "\t1 & rs545409685        & C & T     & 0.002660 &  0.000830394 & 0.00997982 & 9.336868e-01 & 365499 &  0.03862570 & 0.1000360 & 0.69941026 & 336074\\\\\n",
       "\t2 & 7:27869261\\_CAGTA\\_C & C & CAGTA & 0.001494 & -0.018772000 & 0.01391700 & 1.773838e-01 & 365499 &  0.10838600 & 0.1401650 & 0.43936150 & 336074\\\\\n",
       "\t3 & rs73075348         & G & A     & 0.056610 & -0.002466700 & 0.00213852 & 2.487196e-01 & 365499 &  0.01622460 & 0.0215218 & 0.45092779 & 336074\\\\\n",
       "\t4 & rs6948467          & A & G     & 0.392772 & -0.002577480 & 0.00101531 & 1.112910e-02 & 365499 & -0.02054410 & 0.0102407 & 0.04484252 & 336074\\\\\n",
       "\t5 & rs73075354         & G & C     & 0.116173 &  0.006933460 & 0.00154743 & 7.442177e-06 & 365499 &  0.03858900 & 0.0156277 & 0.01353879 & 336074\\\\\n",
       "\t6 & rs35410592         & A & C     & 0.009428 & -0.003141340 & 0.00520300 & 5.460067e-01 & 365499 &  0.00427717 & 0.0522587 & 0.93476900 & 336074\\\\\n",
       "\\end{tabular}\n"
      ],
      "text/markdown": [
       "\n",
       "A data.frame: 6 × 12\n",
       "\n",
       "| <!--/--> | SNP &lt;chr&gt; | a1 &lt;chr&gt; | a2 &lt;chr&gt; | a1_freq &lt;dbl&gt; | bzx &lt;dbl&gt; | bzx_se &lt;dbl&gt; | bzx_pval &lt;dbl&gt; | bzx_n &lt;int&gt; | bzy &lt;dbl&gt; | bzy_se &lt;dbl&gt; | bzy_pval &lt;dbl&gt; | bzy_n &lt;int&gt; |\n",
       "|---|---|---|---|---|---|---|---|---|---|---|---|---|\n",
       "| 1 | rs545409685        | C | T     | 0.002660 |  0.000830394 | 0.00997982 | 9.336868e-01 | 365499 |  0.03862570 | 0.1000360 | 0.69941026 | 336074 |\n",
       "| 2 | 7:27869261_CAGTA_C | C | CAGTA | 0.001494 | -0.018772000 | 0.01391700 | 1.773838e-01 | 365499 |  0.10838600 | 0.1401650 | 0.43936150 | 336074 |\n",
       "| 3 | rs73075348         | G | A     | 0.056610 | -0.002466700 | 0.00213852 | 2.487196e-01 | 365499 |  0.01622460 | 0.0215218 | 0.45092779 | 336074 |\n",
       "| 4 | rs6948467          | A | G     | 0.392772 | -0.002577480 | 0.00101531 | 1.112910e-02 | 365499 | -0.02054410 | 0.0102407 | 0.04484252 | 336074 |\n",
       "| 5 | rs73075354         | G | C     | 0.116173 |  0.006933460 | 0.00154743 | 7.442177e-06 | 365499 |  0.03858900 | 0.0156277 | 0.01353879 | 336074 |\n",
       "| 6 | rs35410592         | A | C     | 0.009428 | -0.003141340 | 0.00520300 | 5.460067e-01 | 365499 |  0.00427717 | 0.0522587 | 0.93476900 | 336074 |\n",
       "\n"
      ],
      "text/plain": [
       "  SNP                a1 a2    a1_freq  bzx          bzx_se     bzx_pval    \n",
       "1 rs545409685        C  T     0.002660  0.000830394 0.00997982 9.336868e-01\n",
       "2 7:27869261_CAGTA_C C  CAGTA 0.001494 -0.018772000 0.01391700 1.773838e-01\n",
       "3 rs73075348         G  A     0.056610 -0.002466700 0.00213852 2.487196e-01\n",
       "4 rs6948467          A  G     0.392772 -0.002577480 0.00101531 1.112910e-02\n",
       "5 rs73075354         G  C     0.116173  0.006933460 0.00154743 7.442177e-06\n",
       "6 rs35410592         A  C     0.009428 -0.003141340 0.00520300 5.460067e-01\n",
       "  bzx_n  bzy         bzy_se    bzy_pval   bzy_n \n",
       "1 365499  0.03862570 0.1000360 0.69941026 336074\n",
       "2 365499  0.10838600 0.1401650 0.43936150 336074\n",
       "3 365499  0.01622460 0.0215218 0.45092779 336074\n",
       "4 365499 -0.02054410 0.0102407 0.04484252 336074\n",
       "5 365499  0.03858900 0.0156277 0.01353879 336074\n",
       "6 365499  0.00427717 0.0522587 0.93476900 336074"
      ]
     },
     "metadata": {},
     "output_type": "display_data"
    }
   ],
   "source": [
    "gsmr_data <- read.csv(\"waist_v_t2d_gsmr_data\", sep=\" \")\n",
    "head(gsmr_data)"
   ]
  },
  {
   "cell_type": "code",
   "execution_count": 3,
   "id": "86dd7080-dbea-4823-978c-8415fab966b0",
   "metadata": {
    "kernel": "SoS"
   },
   "outputs": [
    {
     "data": {
      "text/html": [
       "<style>\n",
       ".list-inline {list-style: none; margin:0; padding: 0}\n",
       ".list-inline>li {display: inline-block}\n",
       ".list-inline>li:not(:last-child)::after {content: \"\\00b7\"; padding: 0 .5ex}\n",
       "</style>\n",
       "<ol class=list-inline><li>2063</li><li>12</li></ol>\n"
      ],
      "text/latex": [
       "\\begin{enumerate*}\n",
       "\\item 2063\n",
       "\\item 12\n",
       "\\end{enumerate*}\n"
      ],
      "text/markdown": [
       "1. 2063\n",
       "2. 12\n",
       "\n",
       "\n"
      ],
      "text/plain": [
       "[1] 2063   12"
      ]
     },
     "metadata": {},
     "output_type": "display_data"
    }
   ],
   "source": [
    "dim(gsmr_data)"
   ]
  },
  {
   "cell_type": "code",
   "execution_count": 30,
   "id": "1c4bbbe1-98b8-4c20-908a-83e709dfe0f3",
   "metadata": {
    "kernel": "SoS"
   },
   "outputs": [],
   "source": [
    "snp_coeff_id = scan(\"/mnt/mfs/statgen/bst2126/pleiotropy/JAZF1_sum/waist_v_t2d_gcta64.result.xmat.gz\", what=\"\", nlines=1)\n",
    "snp_coeff = read.table(\"/mnt/mfs/statgen/bst2126/pleiotropy/JAZF1_sum/waist_v_t2d_gcta64.result.xmat.gz\", header=F, skip=2)"
   ]
  },
  {
   "cell_type": "code",
   "execution_count": 31,
   "id": "ced7df06-462a-4098-8206-2c4d9e6d3422",
   "metadata": {
    "kernel": "SoS"
   },
   "outputs": [
    {
     "data": {
      "text/html": [
       "<style>\n",
       ".list-inline {list-style: none; margin:0; padding: 0}\n",
       ".list-inline>li {display: inline-block}\n",
       ".list-inline>li:not(:last-child)::after {content: \"\\00b7\"; padding: 0 .5ex}\n",
       "</style>\n",
       "<ol class=list-inline><li>'rs73075348'</li><li>'rs112759592'</li><li>'rs10281008'</li><li>'rs117933100'</li><li>'rs58651394'</li><li>'rs62451072'</li><li>'rs17620013'</li><li>'rs17692895'</li><li>'rs73083371'</li><li>'rs116990708'</li><li>'rs58753113'</li><li>'rs720659'</li><li>'rs10452749'</li><li>'rs80197206'</li><li>'rs73083390'</li><li>'rs10232181'</li><li>'rs7806217'</li><li>'rs193'</li><li>'rs17156005'</li><li>'rs67705163'</li><li>'rs10486567'</li><li>'rs3919460'</li><li>'rs117034173'</li><li>'rs28657749'</li><li>'rs17156078'</li><li>'rs62451150'</li><li>'rs78975149'</li><li>'rs61648985'</li><li>'rs10237946'</li><li>'rs79909443'</li><li>'rs253310'</li><li>'rs116974921'</li><li>'rs117929884'</li><li>'rs73301337'</li><li>'rs12671522'</li><li>'rs77214245'</li><li>'rs6956423'</li><li>'rs118186994'</li><li>'rs77046554'</li><li>'rs17623527'</li><li>'rs11763515'</li><li>'rs6945134'</li><li>'rs17156127'</li><li>'rs56311485'</li><li>'rs12536791'</li><li>'rs112914067'</li><li>'rs117621905'</li><li>'rs76334155'</li><li>'rs34325103'</li><li>'rs35053797'</li><li>'rs17624621'</li><li>'rs6462063'</li><li>'rs74756543'</li><li>'rs62449904'</li><li>'rs10268254'</li><li>'rs10486576'</li><li>'rs41535351'</li><li>'rs111519725'</li><li>'rs13234714'</li><li>'rs113404264'</li><li>'rs6977730'</li><li>'rs76730676'</li><li>'rs75040112'</li><li>'rs10274928'</li><li>'rs2158623'</li><li>'rs73072534'</li><li>'rs77740984'</li><li>'rs757729'</li><li>'rs57585717'</li><li>'rs78856909'</li><li>'rs4722759'</li><li>'rs62449907'</li><li>'rs6962289'</li><li>'rs62449929'</li><li>'rs2189965'</li><li>'rs113735840'</li><li>'rs864745'</li><li>'rs849140'</li><li>'rs849141'</li><li>'rs4719925'</li><li>'rs1635852'</li><li>'rs1708299'</li><li>'rs79013867'</li><li>'rs530649'</li><li>'rs520161'</li><li>'rs849335'</li><li>'rs550448'</li><li>'rs849315'</li><li>'rs1513270'</li><li>'rs73078484'</li><li>'rs58462233'</li><li>'rs56142710'</li><li>'rs73076597'</li><li>'rs478266'</li><li>'rs475615'</li><li>'rs849325'</li></ol>\n"
      ],
      "text/latex": [
       "\\begin{enumerate*}\n",
       "\\item 'rs73075348'\n",
       "\\item 'rs112759592'\n",
       "\\item 'rs10281008'\n",
       "\\item 'rs117933100'\n",
       "\\item 'rs58651394'\n",
       "\\item 'rs62451072'\n",
       "\\item 'rs17620013'\n",
       "\\item 'rs17692895'\n",
       "\\item 'rs73083371'\n",
       "\\item 'rs116990708'\n",
       "\\item 'rs58753113'\n",
       "\\item 'rs720659'\n",
       "\\item 'rs10452749'\n",
       "\\item 'rs80197206'\n",
       "\\item 'rs73083390'\n",
       "\\item 'rs10232181'\n",
       "\\item 'rs7806217'\n",
       "\\item 'rs193'\n",
       "\\item 'rs17156005'\n",
       "\\item 'rs67705163'\n",
       "\\item 'rs10486567'\n",
       "\\item 'rs3919460'\n",
       "\\item 'rs117034173'\n",
       "\\item 'rs28657749'\n",
       "\\item 'rs17156078'\n",
       "\\item 'rs62451150'\n",
       "\\item 'rs78975149'\n",
       "\\item 'rs61648985'\n",
       "\\item 'rs10237946'\n",
       "\\item 'rs79909443'\n",
       "\\item 'rs253310'\n",
       "\\item 'rs116974921'\n",
       "\\item 'rs117929884'\n",
       "\\item 'rs73301337'\n",
       "\\item 'rs12671522'\n",
       "\\item 'rs77214245'\n",
       "\\item 'rs6956423'\n",
       "\\item 'rs118186994'\n",
       "\\item 'rs77046554'\n",
       "\\item 'rs17623527'\n",
       "\\item 'rs11763515'\n",
       "\\item 'rs6945134'\n",
       "\\item 'rs17156127'\n",
       "\\item 'rs56311485'\n",
       "\\item 'rs12536791'\n",
       "\\item 'rs112914067'\n",
       "\\item 'rs117621905'\n",
       "\\item 'rs76334155'\n",
       "\\item 'rs34325103'\n",
       "\\item 'rs35053797'\n",
       "\\item 'rs17624621'\n",
       "\\item 'rs6462063'\n",
       "\\item 'rs74756543'\n",
       "\\item 'rs62449904'\n",
       "\\item 'rs10268254'\n",
       "\\item 'rs10486576'\n",
       "\\item 'rs41535351'\n",
       "\\item 'rs111519725'\n",
       "\\item 'rs13234714'\n",
       "\\item 'rs113404264'\n",
       "\\item 'rs6977730'\n",
       "\\item 'rs76730676'\n",
       "\\item 'rs75040112'\n",
       "\\item 'rs10274928'\n",
       "\\item 'rs2158623'\n",
       "\\item 'rs73072534'\n",
       "\\item 'rs77740984'\n",
       "\\item 'rs757729'\n",
       "\\item 'rs57585717'\n",
       "\\item 'rs78856909'\n",
       "\\item 'rs4722759'\n",
       "\\item 'rs62449907'\n",
       "\\item 'rs6962289'\n",
       "\\item 'rs62449929'\n",
       "\\item 'rs2189965'\n",
       "\\item 'rs113735840'\n",
       "\\item 'rs864745'\n",
       "\\item 'rs849140'\n",
       "\\item 'rs849141'\n",
       "\\item 'rs4719925'\n",
       "\\item 'rs1635852'\n",
       "\\item 'rs1708299'\n",
       "\\item 'rs79013867'\n",
       "\\item 'rs530649'\n",
       "\\item 'rs520161'\n",
       "\\item 'rs849335'\n",
       "\\item 'rs550448'\n",
       "\\item 'rs849315'\n",
       "\\item 'rs1513270'\n",
       "\\item 'rs73078484'\n",
       "\\item 'rs58462233'\n",
       "\\item 'rs56142710'\n",
       "\\item 'rs73076597'\n",
       "\\item 'rs478266'\n",
       "\\item 'rs475615'\n",
       "\\item 'rs849325'\n",
       "\\end{enumerate*}\n"
      ],
      "text/markdown": [
       "1. 'rs73075348'\n",
       "2. 'rs112759592'\n",
       "3. 'rs10281008'\n",
       "4. 'rs117933100'\n",
       "5. 'rs58651394'\n",
       "6. 'rs62451072'\n",
       "7. 'rs17620013'\n",
       "8. 'rs17692895'\n",
       "9. 'rs73083371'\n",
       "10. 'rs116990708'\n",
       "11. 'rs58753113'\n",
       "12. 'rs720659'\n",
       "13. 'rs10452749'\n",
       "14. 'rs80197206'\n",
       "15. 'rs73083390'\n",
       "16. 'rs10232181'\n",
       "17. 'rs7806217'\n",
       "18. 'rs193'\n",
       "19. 'rs17156005'\n",
       "20. 'rs67705163'\n",
       "21. 'rs10486567'\n",
       "22. 'rs3919460'\n",
       "23. 'rs117034173'\n",
       "24. 'rs28657749'\n",
       "25. 'rs17156078'\n",
       "26. 'rs62451150'\n",
       "27. 'rs78975149'\n",
       "28. 'rs61648985'\n",
       "29. 'rs10237946'\n",
       "30. 'rs79909443'\n",
       "31. 'rs253310'\n",
       "32. 'rs116974921'\n",
       "33. 'rs117929884'\n",
       "34. 'rs73301337'\n",
       "35. 'rs12671522'\n",
       "36. 'rs77214245'\n",
       "37. 'rs6956423'\n",
       "38. 'rs118186994'\n",
       "39. 'rs77046554'\n",
       "40. 'rs17623527'\n",
       "41. 'rs11763515'\n",
       "42. 'rs6945134'\n",
       "43. 'rs17156127'\n",
       "44. 'rs56311485'\n",
       "45. 'rs12536791'\n",
       "46. 'rs112914067'\n",
       "47. 'rs117621905'\n",
       "48. 'rs76334155'\n",
       "49. 'rs34325103'\n",
       "50. 'rs35053797'\n",
       "51. 'rs17624621'\n",
       "52. 'rs6462063'\n",
       "53. 'rs74756543'\n",
       "54. 'rs62449904'\n",
       "55. 'rs10268254'\n",
       "56. 'rs10486576'\n",
       "57. 'rs41535351'\n",
       "58. 'rs111519725'\n",
       "59. 'rs13234714'\n",
       "60. 'rs113404264'\n",
       "61. 'rs6977730'\n",
       "62. 'rs76730676'\n",
       "63. 'rs75040112'\n",
       "64. 'rs10274928'\n",
       "65. 'rs2158623'\n",
       "66. 'rs73072534'\n",
       "67. 'rs77740984'\n",
       "68. 'rs757729'\n",
       "69. 'rs57585717'\n",
       "70. 'rs78856909'\n",
       "71. 'rs4722759'\n",
       "72. 'rs62449907'\n",
       "73. 'rs6962289'\n",
       "74. 'rs62449929'\n",
       "75. 'rs2189965'\n",
       "76. 'rs113735840'\n",
       "77. 'rs864745'\n",
       "78. 'rs849140'\n",
       "79. 'rs849141'\n",
       "80. 'rs4719925'\n",
       "81. 'rs1635852'\n",
       "82. 'rs1708299'\n",
       "83. 'rs79013867'\n",
       "84. 'rs530649'\n",
       "85. 'rs520161'\n",
       "86. 'rs849335'\n",
       "87. 'rs550448'\n",
       "88. 'rs849315'\n",
       "89. 'rs1513270'\n",
       "90. 'rs73078484'\n",
       "91. 'rs58462233'\n",
       "92. 'rs56142710'\n",
       "93. 'rs73076597'\n",
       "94. 'rs478266'\n",
       "95. 'rs475615'\n",
       "96. 'rs849325'\n",
       "\n",
       "\n"
      ],
      "text/plain": [
       " [1] \"rs73075348\"  \"rs112759592\" \"rs10281008\"  \"rs117933100\" \"rs58651394\" \n",
       " [6] \"rs62451072\"  \"rs17620013\"  \"rs17692895\"  \"rs73083371\"  \"rs116990708\"\n",
       "[11] \"rs58753113\"  \"rs720659\"    \"rs10452749\"  \"rs80197206\"  \"rs73083390\" \n",
       "[16] \"rs10232181\"  \"rs7806217\"   \"rs193\"       \"rs17156005\"  \"rs67705163\" \n",
       "[21] \"rs10486567\"  \"rs3919460\"   \"rs117034173\" \"rs28657749\"  \"rs17156078\" \n",
       "[26] \"rs62451150\"  \"rs78975149\"  \"rs61648985\"  \"rs10237946\"  \"rs79909443\" \n",
       "[31] \"rs253310\"    \"rs116974921\" \"rs117929884\" \"rs73301337\"  \"rs12671522\" \n",
       "[36] \"rs77214245\"  \"rs6956423\"   \"rs118186994\" \"rs77046554\"  \"rs17623527\" \n",
       "[41] \"rs11763515\"  \"rs6945134\"   \"rs17156127\"  \"rs56311485\"  \"rs12536791\" \n",
       "[46] \"rs112914067\" \"rs117621905\" \"rs76334155\"  \"rs34325103\"  \"rs35053797\" \n",
       "[51] \"rs17624621\"  \"rs6462063\"   \"rs74756543\"  \"rs62449904\"  \"rs10268254\" \n",
       "[56] \"rs10486576\"  \"rs41535351\"  \"rs111519725\" \"rs13234714\"  \"rs113404264\"\n",
       "[61] \"rs6977730\"   \"rs76730676\"  \"rs75040112\"  \"rs10274928\"  \"rs2158623\"  \n",
       "[66] \"rs73072534\"  \"rs77740984\"  \"rs757729\"    \"rs57585717\"  \"rs78856909\" \n",
       "[71] \"rs4722759\"   \"rs62449907\"  \"rs6962289\"   \"rs62449929\"  \"rs2189965\"  \n",
       "[76] \"rs113735840\" \"rs864745\"    \"rs849140\"    \"rs849141\"    \"rs4719925\"  \n",
       "[81] \"rs1635852\"   \"rs1708299\"   \"rs79013867\"  \"rs530649\"    \"rs520161\"   \n",
       "[86] \"rs849335\"    \"rs550448\"    \"rs849315\"    \"rs1513270\"   \"rs73078484\" \n",
       "[91] \"rs58462233\"  \"rs56142710\"  \"rs73076597\"  \"rs478266\"    \"rs475615\"   \n",
       "[96] \"rs849325\"   "
      ]
     },
     "metadata": {},
     "output_type": "display_data"
    }
   ],
   "source": [
    "# Match the SNP genotype data with the summary data\n",
    "snp_id = Reduce(intersect, list(gsmr_data$SNP, snp_coeff_id))\n",
    "snp_id"
   ]
  },
  {
   "cell_type": "code",
   "execution_count": 32,
   "id": "0246dfb6-ec82-4903-b1b0-8040096f7276",
   "metadata": {
    "kernel": "SoS"
   },
   "outputs": [],
   "source": [
    "gsmr_data = gsmr_data[match(snp_id, gsmr_data$SNP),]"
   ]
  },
  {
   "cell_type": "code",
   "execution_count": 33,
   "id": "041a2fb9-32f8-4726-aa67-18ce6d1fda3e",
   "metadata": {
    "kernel": "SoS"
   },
   "outputs": [
    {
     "data": {
      "text/html": [
       "<style>\n",
       ".list-inline {list-style: none; margin:0; padding: 0}\n",
       ".list-inline>li {display: inline-block}\n",
       ".list-inline>li:not(:last-child)::after {content: \"\\00b7\"; padding: 0 .5ex}\n",
       "</style>\n",
       "<ol class=list-inline><li>96</li><li>12</li></ol>\n"
      ],
      "text/latex": [
       "\\begin{enumerate*}\n",
       "\\item 96\n",
       "\\item 12\n",
       "\\end{enumerate*}\n"
      ],
      "text/markdown": [
       "1. 96\n",
       "2. 12\n",
       "\n",
       "\n"
      ],
      "text/plain": [
       "[1] 96 12"
      ]
     },
     "metadata": {},
     "output_type": "display_data"
    }
   ],
   "source": [
    "dim(gsmr_data)"
   ]
  },
  {
   "cell_type": "code",
   "execution_count": 34,
   "id": "e1b2df65-a69c-4c34-8ec2-a3a002f3b67d",
   "metadata": {
    "kernel": "SoS"
   },
   "outputs": [],
   "source": [
    "snp_order = match(snp_id, snp_coeff_id)\n",
    "snp_coeff_id = snp_coeff_id[snp_order]\n",
    "snp_coeff = snp_coeff[, snp_order]"
   ]
  },
  {
   "cell_type": "code",
   "execution_count": 35,
   "id": "9761a4d1-844d-4665-8dbe-8d451b0ae179",
   "metadata": {
    "kernel": "SoS"
   },
   "outputs": [
    {
     "data": {
      "text/html": [
       "67606"
      ],
      "text/latex": [
       "67606"
      ],
      "text/markdown": [
       "67606"
      ],
      "text/plain": [
       "[1] 67606"
      ]
     },
     "metadata": {},
     "output_type": "display_data"
    }
   ],
   "source": [
    "sum(is.na(snp_coeff)) #count NA snp coefficients if any."
   ]
  },
  {
   "cell_type": "code",
   "execution_count": 36,
   "id": "457634f4-2e98-4691-8328-57104286608f",
   "metadata": {
    "kernel": "SoS"
   },
   "outputs": [],
   "source": [
    "snp_coeff[is.na(snp_coeff)] <- 0 # Recode NAs as 0."
   ]
  },
  {
   "cell_type": "code",
   "execution_count": 37,
   "id": "cbdb8483-8c3b-4271-bb8a-8cc94d940d45",
   "metadata": {
    "kernel": "SoS"
   },
   "outputs": [],
   "source": [
    "# Calculate the LD correlation matrix\n",
    "ldrho = cor(snp_coeff)"
   ]
  },
  {
   "cell_type": "code",
   "execution_count": 40,
   "id": "76e71f17-70d8-44fe-8fc8-7a7a039e305a",
   "metadata": {
    "kernel": "SoS"
   },
   "outputs": [],
   "source": [
    "# Check the size of the correlation matrix and double-check if the order of the SNPs in the LD correlation matrix is consistent with that in the GWAS summary data\n",
    "colnames(ldrho) = rownames(ldrho) = snp_coeff_id"
   ]
  },
  {
   "cell_type": "code",
   "execution_count": 38,
   "id": "8642bad9-ee50-4343-80a2-249e28c28c0c",
   "metadata": {
    "kernel": "SoS"
   },
   "outputs": [
    {
     "data": {
      "text/html": [
       "<style>\n",
       ".list-inline {list-style: none; margin:0; padding: 0}\n",
       ".list-inline>li {display: inline-block}\n",
       ".list-inline>li:not(:last-child)::after {content: \"\\00b7\"; padding: 0 .5ex}\n",
       "</style>\n",
       "<ol class=list-inline><li>96</li><li>96</li></ol>\n"
      ],
      "text/latex": [
       "\\begin{enumerate*}\n",
       "\\item 96\n",
       "\\item 96\n",
       "\\end{enumerate*}\n"
      ],
      "text/markdown": [
       "1. 96\n",
       "2. 96\n",
       "\n",
       "\n"
      ],
      "text/plain": [
       "[1] 96 96"
      ]
     },
     "metadata": {},
     "output_type": "display_data"
    }
   ],
   "source": [
    "dim(ldrho)"
   ]
  },
  {
   "cell_type": "code",
   "execution_count": 41,
   "id": "73b964fb-c538-4866-94d3-a5999410225e",
   "metadata": {
    "kernel": "SoS"
   },
   "outputs": [
    {
     "data": {
      "text/html": [
       "<table class=\"dataframe\">\n",
       "<caption>A matrix: 6 × 96 of type dbl</caption>\n",
       "<thead>\n",
       "\t<tr><th></th><th scope=col>rs73075348</th><th scope=col>rs112759592</th><th scope=col>rs10281008</th><th scope=col>rs117933100</th><th scope=col>rs58651394</th><th scope=col>rs62451072</th><th scope=col>rs17620013</th><th scope=col>rs17692895</th><th scope=col>rs73083371</th><th scope=col>rs116990708</th><th scope=col>⋯</th><th scope=col>rs550448</th><th scope=col>rs849315</th><th scope=col>rs1513270</th><th scope=col>rs73078484</th><th scope=col>rs58462233</th><th scope=col>rs56142710</th><th scope=col>rs73076597</th><th scope=col>rs478266</th><th scope=col>rs475615</th><th scope=col>rs849325</th></tr>\n",
       "</thead>\n",
       "<tbody>\n",
       "\t<tr><th scope=row>rs73075348</th><td> 1.00000000</td><td>-0.04041098</td><td>-0.07996557</td><td>-0.03335595</td><td>-0.02336440</td><td>-0.05488513</td><td>-0.03503106</td><td>-0.07178532</td><td>-0.08564629</td><td>-0.03307041</td><td>⋯</td><td>-0.012193881</td><td>-0.004231554</td><td>-0.012190839</td><td>-0.005024991</td><td>-0.009390126</td><td> 0.028835015</td><td> 0.02291125</td><td> 0.012771782</td><td> 0.021427349</td><td> 0.020983068</td></tr>\n",
       "\t<tr><th scope=row>rs112759592</th><td>-0.04041098</td><td> 1.00000000</td><td>-0.06602195</td><td>-0.02949000</td><td>-0.01981965</td><td>-0.04497065</td><td> 0.75275268</td><td>-0.06876986</td><td>-0.07115160</td><td>-0.02709303</td><td>⋯</td><td> 0.032784561</td><td> 0.038715861</td><td> 0.051126375</td><td>-0.019672099</td><td>-0.017216201</td><td> 0.064879467</td><td> 0.02914763</td><td> 0.031141599</td><td> 0.039552737</td><td> 0.038159101</td></tr>\n",
       "\t<tr><th scope=row>rs10281008</th><td>-0.07996557</td><td>-0.06602195</td><td> 1.00000000</td><td>-0.04834999</td><td>-0.03434119</td><td> 0.66899749</td><td>-0.05087862</td><td> 0.92509475</td><td>-0.11578063</td><td>-0.04488270</td><td>⋯</td><td> 0.080442475</td><td> 0.088898129</td><td>-0.057028090</td><td>-0.043854988</td><td>-0.002810901</td><td> 0.004074045</td><td>-0.03627451</td><td>-0.032118634</td><td> 0.005333929</td><td> 0.005510484</td></tr>\n",
       "\t<tr><th scope=row>rs117933100</th><td>-0.03335595</td><td>-0.02949000</td><td>-0.04834999</td><td> 1.00000000</td><td>-0.01431049</td><td>-0.03345474</td><td>-0.02400475</td><td>-0.05058952</td><td> 0.38968324</td><td>-0.01945354</td><td>⋯</td><td>-0.022444169</td><td>-0.022391630</td><td> 0.010911630</td><td>-0.014082289</td><td>-0.015042299</td><td> 0.004733850</td><td> 0.04553759</td><td>-0.024361144</td><td> 0.036895833</td><td> 0.036839540</td></tr>\n",
       "\t<tr><th scope=row>rs58651394</th><td>-0.02336440</td><td>-0.01981965</td><td>-0.03434119</td><td>-0.01431049</td><td> 1.00000000</td><td>-0.02166221</td><td>-0.01374465</td><td>-0.03644620</td><td>-0.03346114</td><td>-0.01496801</td><td>⋯</td><td>-0.004495018</td><td>-0.001186875</td><td> 0.004335979</td><td>-0.013269013</td><td> 0.068328771</td><td>-0.006321429</td><td> 0.03607545</td><td>-0.002826752</td><td> 0.015662251</td><td> 0.016064075</td></tr>\n",
       "\t<tr><th scope=row>rs62451072</th><td>-0.05488513</td><td>-0.04497065</td><td> 0.66899749</td><td>-0.03345474</td><td>-0.02166221</td><td> 1.00000000</td><td>-0.03536187</td><td> 0.62427538</td><td>-0.07504880</td><td>-0.02993311</td><td>⋯</td><td> 0.043659386</td><td> 0.050078573</td><td>-0.033108691</td><td>-0.025724194</td><td> 0.008474177</td><td>-0.010517689</td><td> 0.00964271</td><td>-0.040736288</td><td>-0.002335865</td><td>-0.001502818</td></tr>\n",
       "</tbody>\n",
       "</table>\n"
      ],
      "text/latex": [
       "A matrix: 6 × 96 of type dbl\n",
       "\\begin{tabular}{r|lllllllllllllllllllll}\n",
       "  & rs73075348 & rs112759592 & rs10281008 & rs117933100 & rs58651394 & rs62451072 & rs17620013 & rs17692895 & rs73083371 & rs116990708 & ⋯ & rs550448 & rs849315 & rs1513270 & rs73078484 & rs58462233 & rs56142710 & rs73076597 & rs478266 & rs475615 & rs849325\\\\\n",
       "\\hline\n",
       "\trs73075348 &  1.00000000 & -0.04041098 & -0.07996557 & -0.03335595 & -0.02336440 & -0.05488513 & -0.03503106 & -0.07178532 & -0.08564629 & -0.03307041 & ⋯ & -0.012193881 & -0.004231554 & -0.012190839 & -0.005024991 & -0.009390126 &  0.028835015 &  0.02291125 &  0.012771782 &  0.021427349 &  0.020983068\\\\\n",
       "\trs112759592 & -0.04041098 &  1.00000000 & -0.06602195 & -0.02949000 & -0.01981965 & -0.04497065 &  0.75275268 & -0.06876986 & -0.07115160 & -0.02709303 & ⋯ &  0.032784561 &  0.038715861 &  0.051126375 & -0.019672099 & -0.017216201 &  0.064879467 &  0.02914763 &  0.031141599 &  0.039552737 &  0.038159101\\\\\n",
       "\trs10281008 & -0.07996557 & -0.06602195 &  1.00000000 & -0.04834999 & -0.03434119 &  0.66899749 & -0.05087862 &  0.92509475 & -0.11578063 & -0.04488270 & ⋯ &  0.080442475 &  0.088898129 & -0.057028090 & -0.043854988 & -0.002810901 &  0.004074045 & -0.03627451 & -0.032118634 &  0.005333929 &  0.005510484\\\\\n",
       "\trs117933100 & -0.03335595 & -0.02949000 & -0.04834999 &  1.00000000 & -0.01431049 & -0.03345474 & -0.02400475 & -0.05058952 &  0.38968324 & -0.01945354 & ⋯ & -0.022444169 & -0.022391630 &  0.010911630 & -0.014082289 & -0.015042299 &  0.004733850 &  0.04553759 & -0.024361144 &  0.036895833 &  0.036839540\\\\\n",
       "\trs58651394 & -0.02336440 & -0.01981965 & -0.03434119 & -0.01431049 &  1.00000000 & -0.02166221 & -0.01374465 & -0.03644620 & -0.03346114 & -0.01496801 & ⋯ & -0.004495018 & -0.001186875 &  0.004335979 & -0.013269013 &  0.068328771 & -0.006321429 &  0.03607545 & -0.002826752 &  0.015662251 &  0.016064075\\\\\n",
       "\trs62451072 & -0.05488513 & -0.04497065 &  0.66899749 & -0.03345474 & -0.02166221 &  1.00000000 & -0.03536187 &  0.62427538 & -0.07504880 & -0.02993311 & ⋯ &  0.043659386 &  0.050078573 & -0.033108691 & -0.025724194 &  0.008474177 & -0.010517689 &  0.00964271 & -0.040736288 & -0.002335865 & -0.001502818\\\\\n",
       "\\end{tabular}\n"
      ],
      "text/markdown": [
       "\n",
       "A matrix: 6 × 96 of type dbl\n",
       "\n",
       "| <!--/--> | rs73075348 | rs112759592 | rs10281008 | rs117933100 | rs58651394 | rs62451072 | rs17620013 | rs17692895 | rs73083371 | rs116990708 | ⋯ | rs550448 | rs849315 | rs1513270 | rs73078484 | rs58462233 | rs56142710 | rs73076597 | rs478266 | rs475615 | rs849325 |\n",
       "|---|---|---|---|---|---|---|---|---|---|---|---|---|---|---|---|---|---|---|---|---|---|\n",
       "| rs73075348 |  1.00000000 | -0.04041098 | -0.07996557 | -0.03335595 | -0.02336440 | -0.05488513 | -0.03503106 | -0.07178532 | -0.08564629 | -0.03307041 | ⋯ | -0.012193881 | -0.004231554 | -0.012190839 | -0.005024991 | -0.009390126 |  0.028835015 |  0.02291125 |  0.012771782 |  0.021427349 |  0.020983068 |\n",
       "| rs112759592 | -0.04041098 |  1.00000000 | -0.06602195 | -0.02949000 | -0.01981965 | -0.04497065 |  0.75275268 | -0.06876986 | -0.07115160 | -0.02709303 | ⋯ |  0.032784561 |  0.038715861 |  0.051126375 | -0.019672099 | -0.017216201 |  0.064879467 |  0.02914763 |  0.031141599 |  0.039552737 |  0.038159101 |\n",
       "| rs10281008 | -0.07996557 | -0.06602195 |  1.00000000 | -0.04834999 | -0.03434119 |  0.66899749 | -0.05087862 |  0.92509475 | -0.11578063 | -0.04488270 | ⋯ |  0.080442475 |  0.088898129 | -0.057028090 | -0.043854988 | -0.002810901 |  0.004074045 | -0.03627451 | -0.032118634 |  0.005333929 |  0.005510484 |\n",
       "| rs117933100 | -0.03335595 | -0.02949000 | -0.04834999 |  1.00000000 | -0.01431049 | -0.03345474 | -0.02400475 | -0.05058952 |  0.38968324 | -0.01945354 | ⋯ | -0.022444169 | -0.022391630 |  0.010911630 | -0.014082289 | -0.015042299 |  0.004733850 |  0.04553759 | -0.024361144 |  0.036895833 |  0.036839540 |\n",
       "| rs58651394 | -0.02336440 | -0.01981965 | -0.03434119 | -0.01431049 |  1.00000000 | -0.02166221 | -0.01374465 | -0.03644620 | -0.03346114 | -0.01496801 | ⋯ | -0.004495018 | -0.001186875 |  0.004335979 | -0.013269013 |  0.068328771 | -0.006321429 |  0.03607545 | -0.002826752 |  0.015662251 |  0.016064075 |\n",
       "| rs62451072 | -0.05488513 | -0.04497065 |  0.66899749 | -0.03345474 | -0.02166221 |  1.00000000 | -0.03536187 |  0.62427538 | -0.07504880 | -0.02993311 | ⋯ |  0.043659386 |  0.050078573 | -0.033108691 | -0.025724194 |  0.008474177 | -0.010517689 |  0.00964271 | -0.040736288 | -0.002335865 | -0.001502818 |\n",
       "\n"
      ],
      "text/plain": [
       "            rs73075348  rs112759592 rs10281008  rs117933100 rs58651394 \n",
       "rs73075348   1.00000000 -0.04041098 -0.07996557 -0.03335595 -0.02336440\n",
       "rs112759592 -0.04041098  1.00000000 -0.06602195 -0.02949000 -0.01981965\n",
       "rs10281008  -0.07996557 -0.06602195  1.00000000 -0.04834999 -0.03434119\n",
       "rs117933100 -0.03335595 -0.02949000 -0.04834999  1.00000000 -0.01431049\n",
       "rs58651394  -0.02336440 -0.01981965 -0.03434119 -0.01431049  1.00000000\n",
       "rs62451072  -0.05488513 -0.04497065  0.66899749 -0.03345474 -0.02166221\n",
       "            rs62451072  rs17620013  rs17692895  rs73083371  rs116990708 ⋯\n",
       "rs73075348  -0.05488513 -0.03503106 -0.07178532 -0.08564629 -0.03307041 ⋯\n",
       "rs112759592 -0.04497065  0.75275268 -0.06876986 -0.07115160 -0.02709303 ⋯\n",
       "rs10281008   0.66899749 -0.05087862  0.92509475 -0.11578063 -0.04488270 ⋯\n",
       "rs117933100 -0.03345474 -0.02400475 -0.05058952  0.38968324 -0.01945354 ⋯\n",
       "rs58651394  -0.02166221 -0.01374465 -0.03644620 -0.03346114 -0.01496801 ⋯\n",
       "rs62451072   1.00000000 -0.03536187  0.62427538 -0.07504880 -0.02993311 ⋯\n",
       "            rs550448     rs849315     rs1513270    rs73078484   rs58462233  \n",
       "rs73075348  -0.012193881 -0.004231554 -0.012190839 -0.005024991 -0.009390126\n",
       "rs112759592  0.032784561  0.038715861  0.051126375 -0.019672099 -0.017216201\n",
       "rs10281008   0.080442475  0.088898129 -0.057028090 -0.043854988 -0.002810901\n",
       "rs117933100 -0.022444169 -0.022391630  0.010911630 -0.014082289 -0.015042299\n",
       "rs58651394  -0.004495018 -0.001186875  0.004335979 -0.013269013  0.068328771\n",
       "rs62451072   0.043659386  0.050078573 -0.033108691 -0.025724194  0.008474177\n",
       "            rs56142710   rs73076597  rs478266     rs475615     rs849325    \n",
       "rs73075348   0.028835015  0.02291125  0.012771782  0.021427349  0.020983068\n",
       "rs112759592  0.064879467  0.02914763  0.031141599  0.039552737  0.038159101\n",
       "rs10281008   0.004074045 -0.03627451 -0.032118634  0.005333929  0.005510484\n",
       "rs117933100  0.004733850  0.04553759 -0.024361144  0.036895833  0.036839540\n",
       "rs58651394  -0.006321429  0.03607545 -0.002826752  0.015662251  0.016064075\n",
       "rs62451072  -0.010517689  0.00964271 -0.040736288 -0.002335865 -0.001502818"
      ]
     },
     "metadata": {},
     "output_type": "display_data"
    }
   ],
   "source": [
    "head(ldrho)"
   ]
  },
  {
   "cell_type": "code",
   "execution_count": 42,
   "id": "c2282e99-6ade-499d-a2e9-e0a409f75c56",
   "metadata": {
    "kernel": "SoS"
   },
   "outputs": [
    {
     "name": "stderr",
     "output_type": "stream",
     "text": [
      "std effect: 96 instruments loaded.\n",
      "\n"
     ]
    },
    {
     "data": {
      "text/html": [
       "<table class=\"dataframe\">\n",
       "<caption>A data.frame: 6 × 14</caption>\n",
       "<thead>\n",
       "\t<tr><th></th><th scope=col>SNP</th><th scope=col>a1</th><th scope=col>a2</th><th scope=col>a1_freq</th><th scope=col>bzx</th><th scope=col>bzx_se</th><th scope=col>bzx_pval</th><th scope=col>bzx_n</th><th scope=col>bzy</th><th scope=col>bzy_se</th><th scope=col>bzy_pval</th><th scope=col>bzy_n</th><th scope=col>std_bzx</th><th scope=col>std_bzx_se</th></tr>\n",
       "\t<tr><th></th><th scope=col>&lt;chr&gt;</th><th scope=col>&lt;chr&gt;</th><th scope=col>&lt;chr&gt;</th><th scope=col>&lt;dbl&gt;</th><th scope=col>&lt;dbl&gt;</th><th scope=col>&lt;dbl&gt;</th><th scope=col>&lt;dbl&gt;</th><th scope=col>&lt;int&gt;</th><th scope=col>&lt;dbl&gt;</th><th scope=col>&lt;dbl&gt;</th><th scope=col>&lt;dbl&gt;</th><th scope=col>&lt;int&gt;</th><th scope=col>&lt;dbl&gt;</th><th scope=col>&lt;dbl&gt;</th></tr>\n",
       "</thead>\n",
       "<tbody>\n",
       "\t<tr><th scope=row>3</th><td>rs73075348 </td><td>G</td><td>A</td><td>0.056610</td><td>-0.002466700</td><td>0.00213852</td><td>0.2487196</td><td>365499</td><td> 0.0162246</td><td>0.0215218</td><td>0.4509278</td><td>336074</td><td>-0.0058378364</td><td>0.005061146</td></tr>\n",
       "\t<tr><th scope=row>24</th><td>rs112759592</td><td>C</td><td>G</td><td>0.037982</td><td>-0.001038050</td><td>0.00258446</td><td>0.6879407</td><td>365499</td><td>-0.0110040</td><td>0.0260792</td><td>0.6730650</td><td>336074</td><td>-0.0024575918</td><td>0.006118730</td></tr>\n",
       "\t<tr><th scope=row>30</th><td>rs10281008 </td><td>G</td><td>A</td><td>0.103474</td><td>-0.003913590</td><td>0.00162312</td><td>0.0159023</td><td>365499</td><td> 0.0126663</td><td>0.0163541</td><td>0.4386337</td><td>336074</td><td>-0.0092590427</td><td>0.003840090</td></tr>\n",
       "\t<tr><th scope=row>36</th><td>rs117933100</td><td>C</td><td>T</td><td>0.020068</td><td> 0.002374400</td><td>0.00352758</td><td>0.5008850</td><td>365499</td><td> 0.0172606</td><td>0.0356208</td><td>0.6279846</td><td>336074</td><td> 0.0056139512</td><td>0.008340491</td></tr>\n",
       "\t<tr><th scope=row>44</th><td>rs58651394 </td><td>T</td><td>C</td><td>0.010405</td><td> 0.006520910</td><td>0.00487527</td><td>0.1810439</td><td>365499</td><td> 0.1005150</td><td>0.0493825</td><td>0.0418071</td><td>336074</td><td> 0.0154170254</td><td>0.011526330</td></tr>\n",
       "\t<tr><th scope=row>51</th><td>rs62451072 </td><td>T</td><td>G</td><td>0.050026</td><td>-0.000364629</td><td>0.00226674</td><td>0.8722032</td><td>365499</td><td> 0.0308995</td><td>0.0228575</td><td>0.1764302</td><td>336074</td><td>-0.0008630533</td><td>0.005365227</td></tr>\n",
       "</tbody>\n",
       "</table>\n"
      ],
      "text/latex": [
       "A data.frame: 6 × 14\n",
       "\\begin{tabular}{r|llllllllllllll}\n",
       "  & SNP & a1 & a2 & a1\\_freq & bzx & bzx\\_se & bzx\\_pval & bzx\\_n & bzy & bzy\\_se & bzy\\_pval & bzy\\_n & std\\_bzx & std\\_bzx\\_se\\\\\n",
       "  & <chr> & <chr> & <chr> & <dbl> & <dbl> & <dbl> & <dbl> & <int> & <dbl> & <dbl> & <dbl> & <int> & <dbl> & <dbl>\\\\\n",
       "\\hline\n",
       "\t3 & rs73075348  & G & A & 0.056610 & -0.002466700 & 0.00213852 & 0.2487196 & 365499 &  0.0162246 & 0.0215218 & 0.4509278 & 336074 & -0.0058378364 & 0.005061146\\\\\n",
       "\t24 & rs112759592 & C & G & 0.037982 & -0.001038050 & 0.00258446 & 0.6879407 & 365499 & -0.0110040 & 0.0260792 & 0.6730650 & 336074 & -0.0024575918 & 0.006118730\\\\\n",
       "\t30 & rs10281008  & G & A & 0.103474 & -0.003913590 & 0.00162312 & 0.0159023 & 365499 &  0.0126663 & 0.0163541 & 0.4386337 & 336074 & -0.0092590427 & 0.003840090\\\\\n",
       "\t36 & rs117933100 & C & T & 0.020068 &  0.002374400 & 0.00352758 & 0.5008850 & 365499 &  0.0172606 & 0.0356208 & 0.6279846 & 336074 &  0.0056139512 & 0.008340491\\\\\n",
       "\t44 & rs58651394  & T & C & 0.010405 &  0.006520910 & 0.00487527 & 0.1810439 & 365499 &  0.1005150 & 0.0493825 & 0.0418071 & 336074 &  0.0154170254 & 0.011526330\\\\\n",
       "\t51 & rs62451072  & T & G & 0.050026 & -0.000364629 & 0.00226674 & 0.8722032 & 365499 &  0.0308995 & 0.0228575 & 0.1764302 & 336074 & -0.0008630533 & 0.005365227\\\\\n",
       "\\end{tabular}\n"
      ],
      "text/markdown": [
       "\n",
       "A data.frame: 6 × 14\n",
       "\n",
       "| <!--/--> | SNP &lt;chr&gt; | a1 &lt;chr&gt; | a2 &lt;chr&gt; | a1_freq &lt;dbl&gt; | bzx &lt;dbl&gt; | bzx_se &lt;dbl&gt; | bzx_pval &lt;dbl&gt; | bzx_n &lt;int&gt; | bzy &lt;dbl&gt; | bzy_se &lt;dbl&gt; | bzy_pval &lt;dbl&gt; | bzy_n &lt;int&gt; | std_bzx &lt;dbl&gt; | std_bzx_se &lt;dbl&gt; |\n",
       "|---|---|---|---|---|---|---|---|---|---|---|---|---|---|---|\n",
       "| 3 | rs73075348  | G | A | 0.056610 | -0.002466700 | 0.00213852 | 0.2487196 | 365499 |  0.0162246 | 0.0215218 | 0.4509278 | 336074 | -0.0058378364 | 0.005061146 |\n",
       "| 24 | rs112759592 | C | G | 0.037982 | -0.001038050 | 0.00258446 | 0.6879407 | 365499 | -0.0110040 | 0.0260792 | 0.6730650 | 336074 | -0.0024575918 | 0.006118730 |\n",
       "| 30 | rs10281008  | G | A | 0.103474 | -0.003913590 | 0.00162312 | 0.0159023 | 365499 |  0.0126663 | 0.0163541 | 0.4386337 | 336074 | -0.0092590427 | 0.003840090 |\n",
       "| 36 | rs117933100 | C | T | 0.020068 |  0.002374400 | 0.00352758 | 0.5008850 | 365499 |  0.0172606 | 0.0356208 | 0.6279846 | 336074 |  0.0056139512 | 0.008340491 |\n",
       "| 44 | rs58651394  | T | C | 0.010405 |  0.006520910 | 0.00487527 | 0.1810439 | 365499 |  0.1005150 | 0.0493825 | 0.0418071 | 336074 |  0.0154170254 | 0.011526330 |\n",
       "| 51 | rs62451072  | T | G | 0.050026 | -0.000364629 | 0.00226674 | 0.8722032 | 365499 |  0.0308995 | 0.0228575 | 0.1764302 | 336074 | -0.0008630533 | 0.005365227 |\n",
       "\n"
      ],
      "text/plain": [
       "   SNP         a1 a2 a1_freq  bzx          bzx_se     bzx_pval  bzx_n \n",
       "3  rs73075348  G  A  0.056610 -0.002466700 0.00213852 0.2487196 365499\n",
       "24 rs112759592 C  G  0.037982 -0.001038050 0.00258446 0.6879407 365499\n",
       "30 rs10281008  G  A  0.103474 -0.003913590 0.00162312 0.0159023 365499\n",
       "36 rs117933100 C  T  0.020068  0.002374400 0.00352758 0.5008850 365499\n",
       "44 rs58651394  T  C  0.010405  0.006520910 0.00487527 0.1810439 365499\n",
       "51 rs62451072  T  G  0.050026 -0.000364629 0.00226674 0.8722032 365499\n",
       "   bzy        bzy_se    bzy_pval  bzy_n  std_bzx       std_bzx_se \n",
       "3   0.0162246 0.0215218 0.4509278 336074 -0.0058378364 0.005061146\n",
       "24 -0.0110040 0.0260792 0.6730650 336074 -0.0024575918 0.006118730\n",
       "30  0.0126663 0.0163541 0.4386337 336074 -0.0092590427 0.003840090\n",
       "36  0.0172606 0.0356208 0.6279846 336074  0.0056139512 0.008340491\n",
       "44  0.1005150 0.0493825 0.0418071 336074  0.0154170254 0.011526330\n",
       "51  0.0308995 0.0228575 0.1764302 336074 -0.0008630533 0.005365227"
      ]
     },
     "metadata": {},
     "output_type": "display_data"
    }
   ],
   "source": [
    "snpfreq = gsmr_data$a1_freq             # allele frequencies of the SNPs\n",
    "bzx = gsmr_data$bzx     # effects of the instruments on risk factor\n",
    "bzx_se = gsmr_data$bzx_se       # standard errors of bzx\n",
    "bzx_n = gsmr_data$bzx_n          # GWAS sample size for the risk factor\n",
    "std_zx = std_effect(snpfreq, bzx, bzx_se, bzx_n)    # perform standardisation\n",
    "gsmr_data$std_bzx = std_zx$b    # standardized bzx\n",
    "gsmr_data$std_bzx_se = std_zx$se    # standardized bzx_se\n",
    "head(gsmr_data)"
   ]
  },
  {
   "cell_type": "code",
   "execution_count": null,
   "id": "d965b855-8b9a-4f4e-8d8e-0847a483ca9a",
   "metadata": {},
   "outputs": [],
   "source": [
    "# GSMR (forward) analysis between waist and t2d"
   ]
  },
  {
   "cell_type": "code",
   "execution_count": 46,
   "id": "469dba80-d19b-4fc0-a587-a1b03beca038",
   "metadata": {
    "kernel": "SoS"
   },
   "outputs": [
    {
     "name": "stderr",
     "output_type": "stream",
     "text": [
      "GSMR analysis: 96 instruments loaded.\n",
      "\n",
      "There are 96 SNPs in the dataset.\n",
      "\n",
      "Warning message in filter_summdat(snpid, bzx, bzx_se, bzx_pval, bzy, bzy_se, bzy_pval, :\n",
      "“81 non-significant SNPs were removed.”\n",
      "Warning message in filter_summdat(snpid, bzx, bzx_se, bzx_pval, bzy, bzy_se, bzy_pval, :\n",
      "“There were SNPs in high LD. After LD pruning with a LD r2 threshold of 0.6, 7 SNPs were removed. Note: The threshold of LD can be changed by the \"ld_r2_thresh\".”\n",
      "8 SNPs were retained after filtering.\n",
      "\n",
      "5 SNPs were retained after the HEIDI-outlier analysis.\n",
      "\n",
      "Estimating bxy using all the remaining instruments.\n",
      "\n",
      "GSMR analysis is completed.\n",
      "\n"
     ]
    },
    {
     "name": "stdout",
     "output_type": "stream",
     "text": [
      "The estimated effect of the exposure on outcome:  2.628154"
     ]
    }
   ],
   "source": [
    "bzx = gsmr_data$std_bzx    # SNP effects on the risk factor\n",
    "bzx_se = gsmr_data$std_bzx_se    # standard errors of bzx\n",
    "bzx_pval = gsmr_data$bzx_pval   # p-values for bzx\n",
    "bzy = gsmr_data$bzy    # SNP effects on the disease\n",
    "bzy_se = gsmr_data$bzy_se    # standard errors of bzy\n",
    "bzy_pval = gsmr_data$bzy_pval    # p-values for bzy\n",
    "n_ref = 487409    # Sample size of the reference sample # 487409 individuals in the sample file\n",
    "gwas_thresh = 5e-8    # GWAS threshold to select SNPs as the instruments for the GSMR analysis\n",
    "single_snp_heidi_thresh = 0.01    # p-value threshold for single-SNP-based HEIDI-outlier analysis\n",
    "multi_snp_heidi_thresh = 0.01    # p-value threshold for multi-SNP-based HEIDI-outlier analysis\n",
    "nsnps_thresh = 5   # the minimum number of instruments required for the GSMR analysis\n",
    "heidi_outlier_flag = T    # flag for HEIDI-outlier analysis\n",
    "ld_r2_thresh = 0.6   # LD r2 threshold to remove SNPs in high LD\n",
    "ld_fdr_thresh = 0.05   # FDR threshold to remove the chance correlations between the SNP instruments\n",
    "gsmr2_beta = 0     # 0 - the original HEIDI-outlier method; 1 - the new HEIDI-outlier method that is currently under development \n",
    "gsmr_results = gsmr(bzx, bzx_se, bzx_pval, bzy, bzy_se, bzy_pval, ldrho, snp_coeff_id, n_ref, heidi_outlier_flag, gwas_thresh, single_snp_heidi_thresh, multi_snp_heidi_thresh, nsnps_thresh, ld_r2_thresh, ld_fdr_thresh, gsmr2_beta)    # GSMR analysis \n",
    "filtered_index=gsmr_results$used_index\n",
    "cat(\"The estimated effect of the exposure on outcome: \",gsmr_results$bxy)"
   ]
  },
  {
   "cell_type": "code",
   "execution_count": 18,
   "id": "557762dd-9b56-4786-a3c2-395160c8d04c",
   "metadata": {
    "kernel": "SoS"
   },
   "outputs": [
    {
     "name": "stdout",
     "output_type": "stream",
     "text": [
      "Standard error of bxy:  0.3967818"
     ]
    }
   ],
   "source": [
    "cat(\"Standard error of bxy: \",gsmr_results$bxy_se)"
   ]
  },
  {
   "cell_type": "code",
   "execution_count": 19,
   "id": "8ce906d2-3fdb-419f-a0de-817a284dd9c5",
   "metadata": {
    "kernel": "SoS"
   },
   "outputs": [
    {
     "name": "stdout",
     "output_type": "stream",
     "text": [
      "P-value for bxy:  3.503761e-11"
     ]
    }
   ],
   "source": [
    "cat(\"P-value for bxy: \", gsmr_results$bxy_pval)"
   ]
  },
  {
   "cell_type": "code",
   "execution_count": 20,
   "id": "05f5232e-beb5-4b68-8d41-7af88cf275d4",
   "metadata": {
    "kernel": "SoS"
   },
   "outputs": [
    {
     "name": "stdout",
     "output_type": "stream",
     "text": [
      "Indexes of the SNPs used in the GSMR analysis:  64 65 73 78 88 ..."
     ]
    }
   ],
   "source": [
    "cat(\"Indexes of the SNPs used in the GSMR analysis: \", gsmr_results$used_index[1:5], \"...\")"
   ]
  },
  {
   "cell_type": "code",
   "execution_count": 21,
   "id": "2af942ee-2ef8-465e-89dc-0f3e1b51ae7c",
   "metadata": {
    "kernel": "SoS"
   },
   "outputs": [
    {
     "name": "stdout",
     "output_type": "stream",
     "text": [
      "Number of SNPs with missing estimates in the summary data:  0"
     ]
    }
   ],
   "source": [
    "cat(\"Number of SNPs with missing estimates in the summary data: \", length(gsmr_results$na_snps))"
   ]
  },
  {
   "cell_type": "code",
   "execution_count": 22,
   "id": "d086f31d-1c14-4884-8b13-660da0493e3a",
   "metadata": {
    "kernel": "SoS"
   },
   "outputs": [
    {
     "name": "stdout",
     "output_type": "stream",
     "text": [
      "Number of non-significant SNPs:  81"
     ]
    }
   ],
   "source": [
    "cat(\"Number of non-significant SNPs: \", length(gsmr_results$weak_snps))"
   ]
  },
  {
   "cell_type": "code",
   "execution_count": 23,
   "id": "e830baa7-19ca-4286-8bf1-a64b2d034781",
   "metadata": {
    "kernel": "SoS"
   },
   "outputs": [
    {
     "name": "stdout",
     "output_type": "stream",
     "text": [
      "Number of SNPs in high LD ( LD rsq > 0.6 ):  7"
     ]
    }
   ],
   "source": [
    "cat(\"Number of SNPs in high LD ( LD rsq >\", ld_r2_thresh, \"): \", length(gsmr_results$linkage_snps))"
   ]
  },
  {
   "cell_type": "code",
   "execution_count": 24,
   "id": "20827859-ff80-4ec3-bf51-8e510d139906",
   "metadata": {
    "kernel": "SoS"
   },
   "outputs": [
    {
     "name": "stdout",
     "output_type": "stream",
     "text": [
      "Number of pleiotropic outliers:  3"
     ]
    }
   ],
   "source": [
    "cat(\"Number of pleiotropic outliers: \", length(gsmr_results$pleio_snps))"
   ]
  },
  {
   "cell_type": "code",
   "execution_count": 27,
   "id": "523612f9-e397-4213-a1ad-0af465341ab8",
   "metadata": {
    "kernel": "SoS"
   },
   "outputs": [
    {
     "data": {
      "text/html": [
       "<dl>\n",
       "\t<dt>$bxy</dt>\n",
       "\t\t<dd>2.62815405328187</dd>\n",
       "\t<dt>$bxy_se</dt>\n",
       "\t\t<dd>0.396781839687045</dd>\n",
       "\t<dt>$bxy_pval</dt>\n",
       "\t\t<dd>3.50376066965106e-11</dd>\n",
       "\t<dt>$used_index</dt>\n",
       "\t\t<dd><style>\n",
       ".list-inline {list-style: none; margin:0; padding: 0}\n",
       ".list-inline>li {display: inline-block}\n",
       ".list-inline>li:not(:last-child)::after {content: \"\\00b7\"; padding: 0 .5ex}\n",
       "</style>\n",
       "<ol class=list-inline><li>64</li><li>65</li><li>73</li><li>78</li><li>88</li></ol>\n",
       "</dd>\n",
       "\t<dt>$na_snps</dt>\n",
       "\t\t<dd>NULL</dd>\n",
       "\t<dt>$weak_snps</dt>\n",
       "\t\t<dd><style>\n",
       ".list-inline {list-style: none; margin:0; padding: 0}\n",
       ".list-inline>li {display: inline-block}\n",
       ".list-inline>li:not(:last-child)::after {content: \"\\00b7\"; padding: 0 .5ex}\n",
       "</style>\n",
       "<ol class=list-inline><li>'rs73075348'</li><li>'rs112759592'</li><li>'rs10281008'</li><li>'rs117933100'</li><li>'rs58651394'</li><li>'rs62451072'</li><li>'rs17620013'</li><li>'rs17692895'</li><li>'rs73083371'</li><li>'rs116990708'</li><li>'rs58753113'</li><li>'rs720659'</li><li>'rs10452749'</li><li>'rs80197206'</li><li>'rs73083390'</li><li>'rs10232181'</li><li>'rs7806217'</li><li>'rs193'</li><li>'rs17156005'</li><li>'rs67705163'</li><li>'rs10486567'</li><li>'rs3919460'</li><li>'rs117034173'</li><li>'rs28657749'</li><li>'rs17156078'</li><li>'rs62451150'</li><li>'rs78975149'</li><li>'rs61648985'</li><li>'rs10237946'</li><li>'rs79909443'</li><li>'rs253310'</li><li>'rs116974921'</li><li>'rs117929884'</li><li>'rs73301337'</li><li>'rs12671522'</li><li>'rs77214245'</li><li>'rs6956423'</li><li>'rs118186994'</li><li>'rs77046554'</li><li>'rs17623527'</li><li>'rs11763515'</li><li>'rs6945134'</li><li>'rs17156127'</li><li>'rs56311485'</li><li>'rs12536791'</li><li>'rs112914067'</li><li>'rs117621905'</li><li>'rs76334155'</li><li>'rs34325103'</li><li>'rs35053797'</li><li>'rs17624621'</li><li>'rs6462063'</li><li>'rs74756543'</li><li>'rs62449904'</li><li>'rs10268254'</li><li>'rs10486576'</li><li>'rs41535351'</li><li>'rs111519725'</li><li>'rs13234714'</li><li>'rs113404264'</li><li>'rs6977730'</li><li>'rs76730676'</li><li>'rs75040112'</li><li>'rs73072534'</li><li>'rs77740984'</li><li>'rs57585717'</li><li>'rs78856909'</li><li>'rs62449907'</li><li>'rs62449929'</li><li>'rs2189965'</li><li>'rs113735840'</li><li>'rs4719925'</li><li>'rs79013867'</li><li>'rs1513270'</li><li>'rs73078484'</li><li>'rs58462233'</li><li>'rs56142710'</li><li>'rs73076597'</li><li>'rs478266'</li><li>'rs475615'</li><li>'rs849325'</li></ol>\n",
       "</dd>\n",
       "</dl>\n"
      ],
      "text/latex": [
       "\\begin{description}\n",
       "\\item[\\$bxy] 2.62815405328187\n",
       "\\item[\\$bxy\\_se] 0.396781839687045\n",
       "\\item[\\$bxy\\_pval] 3.50376066965106e-11\n",
       "\\item[\\$used\\_index] \\begin{enumerate*}\n",
       "\\item 64\n",
       "\\item 65\n",
       "\\item 73\n",
       "\\item 78\n",
       "\\item 88\n",
       "\\end{enumerate*}\n",
       "\n",
       "\\item[\\$na\\_snps] NULL\n",
       "\\item[\\$weak\\_snps] \\begin{enumerate*}\n",
       "\\item 'rs73075348'\n",
       "\\item 'rs112759592'\n",
       "\\item 'rs10281008'\n",
       "\\item 'rs117933100'\n",
       "\\item 'rs58651394'\n",
       "\\item 'rs62451072'\n",
       "\\item 'rs17620013'\n",
       "\\item 'rs17692895'\n",
       "\\item 'rs73083371'\n",
       "\\item 'rs116990708'\n",
       "\\item 'rs58753113'\n",
       "\\item 'rs720659'\n",
       "\\item 'rs10452749'\n",
       "\\item 'rs80197206'\n",
       "\\item 'rs73083390'\n",
       "\\item 'rs10232181'\n",
       "\\item 'rs7806217'\n",
       "\\item 'rs193'\n",
       "\\item 'rs17156005'\n",
       "\\item 'rs67705163'\n",
       "\\item 'rs10486567'\n",
       "\\item 'rs3919460'\n",
       "\\item 'rs117034173'\n",
       "\\item 'rs28657749'\n",
       "\\item 'rs17156078'\n",
       "\\item 'rs62451150'\n",
       "\\item 'rs78975149'\n",
       "\\item 'rs61648985'\n",
       "\\item 'rs10237946'\n",
       "\\item 'rs79909443'\n",
       "\\item 'rs253310'\n",
       "\\item 'rs116974921'\n",
       "\\item 'rs117929884'\n",
       "\\item 'rs73301337'\n",
       "\\item 'rs12671522'\n",
       "\\item 'rs77214245'\n",
       "\\item 'rs6956423'\n",
       "\\item 'rs118186994'\n",
       "\\item 'rs77046554'\n",
       "\\item 'rs17623527'\n",
       "\\item 'rs11763515'\n",
       "\\item 'rs6945134'\n",
       "\\item 'rs17156127'\n",
       "\\item 'rs56311485'\n",
       "\\item 'rs12536791'\n",
       "\\item 'rs112914067'\n",
       "\\item 'rs117621905'\n",
       "\\item 'rs76334155'\n",
       "\\item 'rs34325103'\n",
       "\\item 'rs35053797'\n",
       "\\item 'rs17624621'\n",
       "\\item 'rs6462063'\n",
       "\\item 'rs74756543'\n",
       "\\item 'rs62449904'\n",
       "\\item 'rs10268254'\n",
       "\\item 'rs10486576'\n",
       "\\item 'rs41535351'\n",
       "\\item 'rs111519725'\n",
       "\\item 'rs13234714'\n",
       "\\item 'rs113404264'\n",
       "\\item 'rs6977730'\n",
       "\\item 'rs76730676'\n",
       "\\item 'rs75040112'\n",
       "\\item 'rs73072534'\n",
       "\\item 'rs77740984'\n",
       "\\item 'rs57585717'\n",
       "\\item 'rs78856909'\n",
       "\\item 'rs62449907'\n",
       "\\item 'rs62449929'\n",
       "\\item 'rs2189965'\n",
       "\\item 'rs113735840'\n",
       "\\item 'rs4719925'\n",
       "\\item 'rs79013867'\n",
       "\\item 'rs1513270'\n",
       "\\item 'rs73078484'\n",
       "\\item 'rs58462233'\n",
       "\\item 'rs56142710'\n",
       "\\item 'rs73076597'\n",
       "\\item 'rs478266'\n",
       "\\item 'rs475615'\n",
       "\\item 'rs849325'\n",
       "\\end{enumerate*}\n",
       "\n",
       "\\end{description}\n"
      ],
      "text/markdown": [
       "$bxy\n",
       ":   2.62815405328187\n",
       "$bxy_se\n",
       ":   0.396781839687045\n",
       "$bxy_pval\n",
       ":   3.50376066965106e-11\n",
       "$used_index\n",
       ":   1. 64\n",
       "2. 65\n",
       "3. 73\n",
       "4. 78\n",
       "5. 88\n",
       "\n",
       "\n",
       "\n",
       "$na_snps\n",
       ":   NULL\n",
       "$weak_snps\n",
       ":   1. 'rs73075348'\n",
       "2. 'rs112759592'\n",
       "3. 'rs10281008'\n",
       "4. 'rs117933100'\n",
       "5. 'rs58651394'\n",
       "6. 'rs62451072'\n",
       "7. 'rs17620013'\n",
       "8. 'rs17692895'\n",
       "9. 'rs73083371'\n",
       "10. 'rs116990708'\n",
       "11. 'rs58753113'\n",
       "12. 'rs720659'\n",
       "13. 'rs10452749'\n",
       "14. 'rs80197206'\n",
       "15. 'rs73083390'\n",
       "16. 'rs10232181'\n",
       "17. 'rs7806217'\n",
       "18. 'rs193'\n",
       "19. 'rs17156005'\n",
       "20. 'rs67705163'\n",
       "21. 'rs10486567'\n",
       "22. 'rs3919460'\n",
       "23. 'rs117034173'\n",
       "24. 'rs28657749'\n",
       "25. 'rs17156078'\n",
       "26. 'rs62451150'\n",
       "27. 'rs78975149'\n",
       "28. 'rs61648985'\n",
       "29. 'rs10237946'\n",
       "30. 'rs79909443'\n",
       "31. 'rs253310'\n",
       "32. 'rs116974921'\n",
       "33. 'rs117929884'\n",
       "34. 'rs73301337'\n",
       "35. 'rs12671522'\n",
       "36. 'rs77214245'\n",
       "37. 'rs6956423'\n",
       "38. 'rs118186994'\n",
       "39. 'rs77046554'\n",
       "40. 'rs17623527'\n",
       "41. 'rs11763515'\n",
       "42. 'rs6945134'\n",
       "43. 'rs17156127'\n",
       "44. 'rs56311485'\n",
       "45. 'rs12536791'\n",
       "46. 'rs112914067'\n",
       "47. 'rs117621905'\n",
       "48. 'rs76334155'\n",
       "49. 'rs34325103'\n",
       "50. 'rs35053797'\n",
       "51. 'rs17624621'\n",
       "52. 'rs6462063'\n",
       "53. 'rs74756543'\n",
       "54. 'rs62449904'\n",
       "55. 'rs10268254'\n",
       "56. 'rs10486576'\n",
       "57. 'rs41535351'\n",
       "58. 'rs111519725'\n",
       "59. 'rs13234714'\n",
       "60. 'rs113404264'\n",
       "61. 'rs6977730'\n",
       "62. 'rs76730676'\n",
       "63. 'rs75040112'\n",
       "64. 'rs73072534'\n",
       "65. 'rs77740984'\n",
       "66. 'rs57585717'\n",
       "67. 'rs78856909'\n",
       "68. 'rs62449907'\n",
       "69. 'rs62449929'\n",
       "70. 'rs2189965'\n",
       "71. 'rs113735840'\n",
       "72. 'rs4719925'\n",
       "73. 'rs79013867'\n",
       "74. 'rs1513270'\n",
       "75. 'rs73078484'\n",
       "76. 'rs58462233'\n",
       "77. 'rs56142710'\n",
       "78. 'rs73076597'\n",
       "79. 'rs478266'\n",
       "80. 'rs475615'\n",
       "81. 'rs849325'\n",
       "\n",
       "\n",
       "\n",
       "\n",
       "\n"
      ],
      "text/plain": [
       "$bxy\n",
       "[1] 2.628154\n",
       "\n",
       "$bxy_se\n",
       "[1] 0.3967818\n",
       "\n",
       "$bxy_pval\n",
       "[1] 3.503761e-11\n",
       "\n",
       "$used_index\n",
       "[1] 64 65 73 78 88\n",
       "\n",
       "$na_snps\n",
       "NULL\n",
       "\n",
       "$weak_snps\n",
       " [1] \"rs73075348\"  \"rs112759592\" \"rs10281008\"  \"rs117933100\" \"rs58651394\" \n",
       " [6] \"rs62451072\"  \"rs17620013\"  \"rs17692895\"  \"rs73083371\"  \"rs116990708\"\n",
       "[11] \"rs58753113\"  \"rs720659\"    \"rs10452749\"  \"rs80197206\"  \"rs73083390\" \n",
       "[16] \"rs10232181\"  \"rs7806217\"   \"rs193\"       \"rs17156005\"  \"rs67705163\" \n",
       "[21] \"rs10486567\"  \"rs3919460\"   \"rs117034173\" \"rs28657749\"  \"rs17156078\" \n",
       "[26] \"rs62451150\"  \"rs78975149\"  \"rs61648985\"  \"rs10237946\"  \"rs79909443\" \n",
       "[31] \"rs253310\"    \"rs116974921\" \"rs117929884\" \"rs73301337\"  \"rs12671522\" \n",
       "[36] \"rs77214245\"  \"rs6956423\"   \"rs118186994\" \"rs77046554\"  \"rs17623527\" \n",
       "[41] \"rs11763515\"  \"rs6945134\"   \"rs17156127\"  \"rs56311485\"  \"rs12536791\" \n",
       "[46] \"rs112914067\" \"rs117621905\" \"rs76334155\"  \"rs34325103\"  \"rs35053797\" \n",
       "[51] \"rs17624621\"  \"rs6462063\"   \"rs74756543\"  \"rs62449904\"  \"rs10268254\" \n",
       "[56] \"rs10486576\"  \"rs41535351\"  \"rs111519725\" \"rs13234714\"  \"rs113404264\"\n",
       "[61] \"rs6977730\"   \"rs76730676\"  \"rs75040112\"  \"rs73072534\"  \"rs77740984\" \n",
       "[66] \"rs57585717\"  \"rs78856909\"  \"rs62449907\"  \"rs62449929\"  \"rs2189965\"  \n",
       "[71] \"rs113735840\" \"rs4719925\"   \"rs79013867\"  \"rs1513270\"   \"rs73078484\" \n",
       "[76] \"rs58462233\"  \"rs56142710\"  \"rs73076597\"  \"rs478266\"    \"rs475615\"   \n",
       "[81] \"rs849325\"   \n"
      ]
     },
     "metadata": {},
     "output_type": "display_data"
    }
   ],
   "source": [
    "head(gsmr_results)"
   ]
  },
  {
   "cell_type": "markdown",
   "id": "91aa32c7-92aa-4cdb-a2cd-2aed2a35ad25",
   "metadata": {},
   "source": [
    "## Waist vs asthma"
   ]
  },
  {
   "cell_type": "code",
   "execution_count": 55,
   "id": "0123fdb4-7bf1-4286-be1a-a30f90f62213",
   "metadata": {},
   "outputs": [],
   "source": [
    "gsmr_data <- read.csv(\"waist_v_asthma_gsmr_data\", sep=\" \")"
   ]
  },
  {
   "cell_type": "code",
   "execution_count": 56,
   "id": "ddc8cb34-a6f7-4bf4-878e-5332b0ad681d",
   "metadata": {},
   "outputs": [],
   "source": [
    "snp_coeff_id = scan(\"/mnt/mfs/statgen/bst2126/pleiotropy/JAZF1_sum/waist_v_asthma_gcta64.result.xmat.gz\", what=\"\", nlines=1)\n",
    "snp_coeff = read.table(\"/mnt/mfs/statgen/bst2126/pleiotropy/JAZF1_sum/waist_v_asthma_gcta64.result.xmat.gz\", header=F, skip=2)"
   ]
  },
  {
   "cell_type": "code",
   "execution_count": 57,
   "id": "3ef9f7f2-618b-44f5-9ead-a68007fb2558",
   "metadata": {},
   "outputs": [
    {
     "data": {
      "text/html": [
       "<style>\n",
       ".list-inline {list-style: none; margin:0; padding: 0}\n",
       ".list-inline>li {display: inline-block}\n",
       ".list-inline>li:not(:last-child)::after {content: \"\\00b7\"; padding: 0 .5ex}\n",
       "</style>\n",
       "<ol class=list-inline><li>'rs73075348'</li><li>'rs112759592'</li><li>'rs10281008'</li><li>'rs117933100'</li><li>'rs58651394'</li><li>'rs62451072'</li><li>'rs17620013'</li><li>'rs17692895'</li><li>'rs73083371'</li><li>'rs116990708'</li><li>'rs58753113'</li><li>'rs720659'</li><li>'rs10452749'</li><li>'rs80197206'</li><li>'rs73083390'</li><li>'rs10232181'</li><li>'rs7806217'</li><li>'rs193'</li><li>'rs17156005'</li><li>'rs67705163'</li><li>'rs10486567'</li><li>'rs3919460'</li><li>'rs117034173'</li><li>'rs28657749'</li><li>'rs17156078'</li><li>'rs62451150'</li><li>'rs78975149'</li><li>'rs61648985'</li><li>'rs10237946'</li><li>'rs79909443'</li><li>'rs253310'</li><li>'rs116974921'</li><li>'rs117929884'</li><li>'rs73301337'</li><li>'rs12671522'</li><li>'rs77214245'</li><li>'rs6956423'</li><li>'rs118186994'</li><li>'rs77046554'</li><li>'rs17623527'</li><li>'rs11763515'</li><li>'rs6945134'</li><li>'rs17156127'</li><li>'rs56311485'</li><li>'rs12536791'</li><li>'rs112914067'</li><li>'rs117621905'</li><li>'rs76334155'</li><li>'rs34325103'</li><li>'rs35053797'</li><li>'rs17624621'</li><li>'rs6462063'</li><li>'rs74756543'</li><li>'rs62449904'</li><li>'rs10268254'</li><li>'rs10486576'</li><li>'rs41535351'</li><li>'rs111519725'</li><li>'rs13234714'</li><li>'rs113404264'</li><li>'rs6977730'</li><li>'rs76730676'</li><li>'rs75040112'</li><li>'rs10274928'</li><li>'rs2158623'</li><li>'rs73072534'</li><li>'rs77740984'</li><li>'rs757729'</li><li>'rs57585717'</li><li>'rs78856909'</li><li>'rs4722759'</li><li>'rs62449907'</li><li>'rs6962289'</li><li>'rs62449929'</li><li>'rs2189965'</li><li>'rs113735840'</li><li>'rs864745'</li><li>'rs849140'</li><li>'rs849141'</li><li>'rs4719925'</li><li>'rs1635852'</li><li>'rs1708299'</li><li>'rs79013867'</li><li>'rs530649'</li><li>'rs520161'</li><li>'rs849335'</li><li>'rs550448'</li><li>'rs849315'</li><li>'rs1513270'</li><li>'rs73078484'</li><li>'rs58462233'</li><li>'rs56142710'</li><li>'rs73076597'</li><li>'rs478266'</li><li>'rs475615'</li><li>'rs849325'</li></ol>\n"
      ],
      "text/latex": [
       "\\begin{enumerate*}\n",
       "\\item 'rs73075348'\n",
       "\\item 'rs112759592'\n",
       "\\item 'rs10281008'\n",
       "\\item 'rs117933100'\n",
       "\\item 'rs58651394'\n",
       "\\item 'rs62451072'\n",
       "\\item 'rs17620013'\n",
       "\\item 'rs17692895'\n",
       "\\item 'rs73083371'\n",
       "\\item 'rs116990708'\n",
       "\\item 'rs58753113'\n",
       "\\item 'rs720659'\n",
       "\\item 'rs10452749'\n",
       "\\item 'rs80197206'\n",
       "\\item 'rs73083390'\n",
       "\\item 'rs10232181'\n",
       "\\item 'rs7806217'\n",
       "\\item 'rs193'\n",
       "\\item 'rs17156005'\n",
       "\\item 'rs67705163'\n",
       "\\item 'rs10486567'\n",
       "\\item 'rs3919460'\n",
       "\\item 'rs117034173'\n",
       "\\item 'rs28657749'\n",
       "\\item 'rs17156078'\n",
       "\\item 'rs62451150'\n",
       "\\item 'rs78975149'\n",
       "\\item 'rs61648985'\n",
       "\\item 'rs10237946'\n",
       "\\item 'rs79909443'\n",
       "\\item 'rs253310'\n",
       "\\item 'rs116974921'\n",
       "\\item 'rs117929884'\n",
       "\\item 'rs73301337'\n",
       "\\item 'rs12671522'\n",
       "\\item 'rs77214245'\n",
       "\\item 'rs6956423'\n",
       "\\item 'rs118186994'\n",
       "\\item 'rs77046554'\n",
       "\\item 'rs17623527'\n",
       "\\item 'rs11763515'\n",
       "\\item 'rs6945134'\n",
       "\\item 'rs17156127'\n",
       "\\item 'rs56311485'\n",
       "\\item 'rs12536791'\n",
       "\\item 'rs112914067'\n",
       "\\item 'rs117621905'\n",
       "\\item 'rs76334155'\n",
       "\\item 'rs34325103'\n",
       "\\item 'rs35053797'\n",
       "\\item 'rs17624621'\n",
       "\\item 'rs6462063'\n",
       "\\item 'rs74756543'\n",
       "\\item 'rs62449904'\n",
       "\\item 'rs10268254'\n",
       "\\item 'rs10486576'\n",
       "\\item 'rs41535351'\n",
       "\\item 'rs111519725'\n",
       "\\item 'rs13234714'\n",
       "\\item 'rs113404264'\n",
       "\\item 'rs6977730'\n",
       "\\item 'rs76730676'\n",
       "\\item 'rs75040112'\n",
       "\\item 'rs10274928'\n",
       "\\item 'rs2158623'\n",
       "\\item 'rs73072534'\n",
       "\\item 'rs77740984'\n",
       "\\item 'rs757729'\n",
       "\\item 'rs57585717'\n",
       "\\item 'rs78856909'\n",
       "\\item 'rs4722759'\n",
       "\\item 'rs62449907'\n",
       "\\item 'rs6962289'\n",
       "\\item 'rs62449929'\n",
       "\\item 'rs2189965'\n",
       "\\item 'rs113735840'\n",
       "\\item 'rs864745'\n",
       "\\item 'rs849140'\n",
       "\\item 'rs849141'\n",
       "\\item 'rs4719925'\n",
       "\\item 'rs1635852'\n",
       "\\item 'rs1708299'\n",
       "\\item 'rs79013867'\n",
       "\\item 'rs530649'\n",
       "\\item 'rs520161'\n",
       "\\item 'rs849335'\n",
       "\\item 'rs550448'\n",
       "\\item 'rs849315'\n",
       "\\item 'rs1513270'\n",
       "\\item 'rs73078484'\n",
       "\\item 'rs58462233'\n",
       "\\item 'rs56142710'\n",
       "\\item 'rs73076597'\n",
       "\\item 'rs478266'\n",
       "\\item 'rs475615'\n",
       "\\item 'rs849325'\n",
       "\\end{enumerate*}\n"
      ],
      "text/markdown": [
       "1. 'rs73075348'\n",
       "2. 'rs112759592'\n",
       "3. 'rs10281008'\n",
       "4. 'rs117933100'\n",
       "5. 'rs58651394'\n",
       "6. 'rs62451072'\n",
       "7. 'rs17620013'\n",
       "8. 'rs17692895'\n",
       "9. 'rs73083371'\n",
       "10. 'rs116990708'\n",
       "11. 'rs58753113'\n",
       "12. 'rs720659'\n",
       "13. 'rs10452749'\n",
       "14. 'rs80197206'\n",
       "15. 'rs73083390'\n",
       "16. 'rs10232181'\n",
       "17. 'rs7806217'\n",
       "18. 'rs193'\n",
       "19. 'rs17156005'\n",
       "20. 'rs67705163'\n",
       "21. 'rs10486567'\n",
       "22. 'rs3919460'\n",
       "23. 'rs117034173'\n",
       "24. 'rs28657749'\n",
       "25. 'rs17156078'\n",
       "26. 'rs62451150'\n",
       "27. 'rs78975149'\n",
       "28. 'rs61648985'\n",
       "29. 'rs10237946'\n",
       "30. 'rs79909443'\n",
       "31. 'rs253310'\n",
       "32. 'rs116974921'\n",
       "33. 'rs117929884'\n",
       "34. 'rs73301337'\n",
       "35. 'rs12671522'\n",
       "36. 'rs77214245'\n",
       "37. 'rs6956423'\n",
       "38. 'rs118186994'\n",
       "39. 'rs77046554'\n",
       "40. 'rs17623527'\n",
       "41. 'rs11763515'\n",
       "42. 'rs6945134'\n",
       "43. 'rs17156127'\n",
       "44. 'rs56311485'\n",
       "45. 'rs12536791'\n",
       "46. 'rs112914067'\n",
       "47. 'rs117621905'\n",
       "48. 'rs76334155'\n",
       "49. 'rs34325103'\n",
       "50. 'rs35053797'\n",
       "51. 'rs17624621'\n",
       "52. 'rs6462063'\n",
       "53. 'rs74756543'\n",
       "54. 'rs62449904'\n",
       "55. 'rs10268254'\n",
       "56. 'rs10486576'\n",
       "57. 'rs41535351'\n",
       "58. 'rs111519725'\n",
       "59. 'rs13234714'\n",
       "60. 'rs113404264'\n",
       "61. 'rs6977730'\n",
       "62. 'rs76730676'\n",
       "63. 'rs75040112'\n",
       "64. 'rs10274928'\n",
       "65. 'rs2158623'\n",
       "66. 'rs73072534'\n",
       "67. 'rs77740984'\n",
       "68. 'rs757729'\n",
       "69. 'rs57585717'\n",
       "70. 'rs78856909'\n",
       "71. 'rs4722759'\n",
       "72. 'rs62449907'\n",
       "73. 'rs6962289'\n",
       "74. 'rs62449929'\n",
       "75. 'rs2189965'\n",
       "76. 'rs113735840'\n",
       "77. 'rs864745'\n",
       "78. 'rs849140'\n",
       "79. 'rs849141'\n",
       "80. 'rs4719925'\n",
       "81. 'rs1635852'\n",
       "82. 'rs1708299'\n",
       "83. 'rs79013867'\n",
       "84. 'rs530649'\n",
       "85. 'rs520161'\n",
       "86. 'rs849335'\n",
       "87. 'rs550448'\n",
       "88. 'rs849315'\n",
       "89. 'rs1513270'\n",
       "90. 'rs73078484'\n",
       "91. 'rs58462233'\n",
       "92. 'rs56142710'\n",
       "93. 'rs73076597'\n",
       "94. 'rs478266'\n",
       "95. 'rs475615'\n",
       "96. 'rs849325'\n",
       "\n",
       "\n"
      ],
      "text/plain": [
       " [1] \"rs73075348\"  \"rs112759592\" \"rs10281008\"  \"rs117933100\" \"rs58651394\" \n",
       " [6] \"rs62451072\"  \"rs17620013\"  \"rs17692895\"  \"rs73083371\"  \"rs116990708\"\n",
       "[11] \"rs58753113\"  \"rs720659\"    \"rs10452749\"  \"rs80197206\"  \"rs73083390\" \n",
       "[16] \"rs10232181\"  \"rs7806217\"   \"rs193\"       \"rs17156005\"  \"rs67705163\" \n",
       "[21] \"rs10486567\"  \"rs3919460\"   \"rs117034173\" \"rs28657749\"  \"rs17156078\" \n",
       "[26] \"rs62451150\"  \"rs78975149\"  \"rs61648985\"  \"rs10237946\"  \"rs79909443\" \n",
       "[31] \"rs253310\"    \"rs116974921\" \"rs117929884\" \"rs73301337\"  \"rs12671522\" \n",
       "[36] \"rs77214245\"  \"rs6956423\"   \"rs118186994\" \"rs77046554\"  \"rs17623527\" \n",
       "[41] \"rs11763515\"  \"rs6945134\"   \"rs17156127\"  \"rs56311485\"  \"rs12536791\" \n",
       "[46] \"rs112914067\" \"rs117621905\" \"rs76334155\"  \"rs34325103\"  \"rs35053797\" \n",
       "[51] \"rs17624621\"  \"rs6462063\"   \"rs74756543\"  \"rs62449904\"  \"rs10268254\" \n",
       "[56] \"rs10486576\"  \"rs41535351\"  \"rs111519725\" \"rs13234714\"  \"rs113404264\"\n",
       "[61] \"rs6977730\"   \"rs76730676\"  \"rs75040112\"  \"rs10274928\"  \"rs2158623\"  \n",
       "[66] \"rs73072534\"  \"rs77740984\"  \"rs757729\"    \"rs57585717\"  \"rs78856909\" \n",
       "[71] \"rs4722759\"   \"rs62449907\"  \"rs6962289\"   \"rs62449929\"  \"rs2189965\"  \n",
       "[76] \"rs113735840\" \"rs864745\"    \"rs849140\"    \"rs849141\"    \"rs4719925\"  \n",
       "[81] \"rs1635852\"   \"rs1708299\"   \"rs79013867\"  \"rs530649\"    \"rs520161\"   \n",
       "[86] \"rs849335\"    \"rs550448\"    \"rs849315\"    \"rs1513270\"   \"rs73078484\" \n",
       "[91] \"rs58462233\"  \"rs56142710\"  \"rs73076597\"  \"rs478266\"    \"rs475615\"   \n",
       "[96] \"rs849325\"   "
      ]
     },
     "metadata": {},
     "output_type": "display_data"
    }
   ],
   "source": [
    "# Match the SNP genotype data with the summary data\n",
    "snp_id = Reduce(intersect, list(gsmr_data$SNP, snp_coeff_id))\n",
    "snp_id"
   ]
  },
  {
   "cell_type": "code",
   "execution_count": 58,
   "id": "3e1b53b8-a0c9-44d9-b696-2ce6b3b6b0fa",
   "metadata": {},
   "outputs": [],
   "source": [
    "gsmr_data = gsmr_data[match(snp_id, gsmr_data$SNP),]"
   ]
  },
  {
   "cell_type": "code",
   "execution_count": 59,
   "id": "f9257942-2f4f-46fd-b379-3b5bd8bdade2",
   "metadata": {},
   "outputs": [],
   "source": [
    "snp_order = match(snp_id, snp_coeff_id)\n",
    "snp_coeff_id = snp_coeff_id[snp_order]\n",
    "snp_coeff = snp_coeff[, snp_order]"
   ]
  },
  {
   "cell_type": "code",
   "execution_count": 60,
   "id": "83f76722-cc6d-4cec-b50a-4ddf729df1e8",
   "metadata": {},
   "outputs": [
    {
     "data": {
      "text/html": [
       "67606"
      ],
      "text/latex": [
       "67606"
      ],
      "text/markdown": [
       "67606"
      ],
      "text/plain": [
       "[1] 67606"
      ]
     },
     "metadata": {},
     "output_type": "display_data"
    }
   ],
   "source": [
    "sum(is.na(snp_coeff)) #count NA snp coefficients if any."
   ]
  },
  {
   "cell_type": "code",
   "execution_count": 61,
   "id": "65c60284-6af2-43a9-ba56-b82a2ddf8d06",
   "metadata": {},
   "outputs": [],
   "source": [
    "snp_coeff[is.na(snp_coeff)] <- 0 # Recode NAs as 0."
   ]
  },
  {
   "cell_type": "code",
   "execution_count": 62,
   "id": "d1d7e423-0f95-4e18-9e9c-21a747a01353",
   "metadata": {},
   "outputs": [],
   "source": [
    "# Calculate the LD correlation matrix\n",
    "ldrho = cor(snp_coeff)"
   ]
  },
  {
   "cell_type": "code",
   "execution_count": 63,
   "id": "2a8ba0be-599b-4f43-8226-e19f8f7fd633",
   "metadata": {},
   "outputs": [],
   "source": [
    "# Check the size of the correlation matrix and double-check if the order of the SNPs in the LD correlation matrix is consistent with that in the GWAS summary data\n",
    "colnames(ldrho) = rownames(ldrho) = snp_coeff_id"
   ]
  },
  {
   "cell_type": "code",
   "execution_count": 64,
   "id": "15cca3ba-5dd3-4e43-8a04-eb8cba77fec2",
   "metadata": {},
   "outputs": [
    {
     "data": {
      "text/html": [
       "<table class=\"dataframe\">\n",
       "<caption>A matrix: 6 × 96 of type dbl</caption>\n",
       "<thead>\n",
       "\t<tr><th></th><th scope=col>rs73075348</th><th scope=col>rs112759592</th><th scope=col>rs10281008</th><th scope=col>rs117933100</th><th scope=col>rs58651394</th><th scope=col>rs62451072</th><th scope=col>rs17620013</th><th scope=col>rs17692895</th><th scope=col>rs73083371</th><th scope=col>rs116990708</th><th scope=col>⋯</th><th scope=col>rs550448</th><th scope=col>rs849315</th><th scope=col>rs1513270</th><th scope=col>rs73078484</th><th scope=col>rs58462233</th><th scope=col>rs56142710</th><th scope=col>rs73076597</th><th scope=col>rs478266</th><th scope=col>rs475615</th><th scope=col>rs849325</th></tr>\n",
       "</thead>\n",
       "<tbody>\n",
       "\t<tr><th scope=row>rs73075348</th><td> 1.00000000</td><td>-0.04041098</td><td>-0.07996557</td><td>-0.03335595</td><td>-0.02336440</td><td>-0.05488513</td><td>-0.03503106</td><td>-0.07178532</td><td>-0.08564629</td><td>-0.03307041</td><td>⋯</td><td>-0.012193881</td><td>-0.004231554</td><td>-0.012190839</td><td>-0.005024991</td><td>-0.009390126</td><td> 0.028835015</td><td> 0.02291125</td><td> 0.012771782</td><td> 0.021427349</td><td> 0.020983068</td></tr>\n",
       "\t<tr><th scope=row>rs112759592</th><td>-0.04041098</td><td> 1.00000000</td><td>-0.06602195</td><td>-0.02949000</td><td>-0.01981965</td><td>-0.04497065</td><td> 0.75275268</td><td>-0.06876986</td><td>-0.07115160</td><td>-0.02709303</td><td>⋯</td><td> 0.032784561</td><td> 0.038715861</td><td> 0.051126375</td><td>-0.019672099</td><td>-0.017216201</td><td> 0.064879467</td><td> 0.02914763</td><td> 0.031141599</td><td> 0.039552737</td><td> 0.038159101</td></tr>\n",
       "\t<tr><th scope=row>rs10281008</th><td>-0.07996557</td><td>-0.06602195</td><td> 1.00000000</td><td>-0.04834999</td><td>-0.03434119</td><td> 0.66899749</td><td>-0.05087862</td><td> 0.92509475</td><td>-0.11578063</td><td>-0.04488270</td><td>⋯</td><td> 0.080442475</td><td> 0.088898129</td><td>-0.057028090</td><td>-0.043854988</td><td>-0.002810901</td><td> 0.004074045</td><td>-0.03627451</td><td>-0.032118634</td><td> 0.005333929</td><td> 0.005510484</td></tr>\n",
       "\t<tr><th scope=row>rs117933100</th><td>-0.03335595</td><td>-0.02949000</td><td>-0.04834999</td><td> 1.00000000</td><td>-0.01431049</td><td>-0.03345474</td><td>-0.02400475</td><td>-0.05058952</td><td> 0.38968324</td><td>-0.01945354</td><td>⋯</td><td>-0.022444169</td><td>-0.022391630</td><td> 0.010911630</td><td>-0.014082289</td><td>-0.015042299</td><td> 0.004733850</td><td> 0.04553759</td><td>-0.024361144</td><td> 0.036895833</td><td> 0.036839540</td></tr>\n",
       "\t<tr><th scope=row>rs58651394</th><td>-0.02336440</td><td>-0.01981965</td><td>-0.03434119</td><td>-0.01431049</td><td> 1.00000000</td><td>-0.02166221</td><td>-0.01374465</td><td>-0.03644620</td><td>-0.03346114</td><td>-0.01496801</td><td>⋯</td><td>-0.004495018</td><td>-0.001186875</td><td> 0.004335979</td><td>-0.013269013</td><td> 0.068328771</td><td>-0.006321429</td><td> 0.03607545</td><td>-0.002826752</td><td> 0.015662251</td><td> 0.016064075</td></tr>\n",
       "\t<tr><th scope=row>rs62451072</th><td>-0.05488513</td><td>-0.04497065</td><td> 0.66899749</td><td>-0.03345474</td><td>-0.02166221</td><td> 1.00000000</td><td>-0.03536187</td><td> 0.62427538</td><td>-0.07504880</td><td>-0.02993311</td><td>⋯</td><td> 0.043659386</td><td> 0.050078573</td><td>-0.033108691</td><td>-0.025724194</td><td> 0.008474177</td><td>-0.010517689</td><td> 0.00964271</td><td>-0.040736288</td><td>-0.002335865</td><td>-0.001502818</td></tr>\n",
       "</tbody>\n",
       "</table>\n"
      ],
      "text/latex": [
       "A matrix: 6 × 96 of type dbl\n",
       "\\begin{tabular}{r|lllllllllllllllllllll}\n",
       "  & rs73075348 & rs112759592 & rs10281008 & rs117933100 & rs58651394 & rs62451072 & rs17620013 & rs17692895 & rs73083371 & rs116990708 & ⋯ & rs550448 & rs849315 & rs1513270 & rs73078484 & rs58462233 & rs56142710 & rs73076597 & rs478266 & rs475615 & rs849325\\\\\n",
       "\\hline\n",
       "\trs73075348 &  1.00000000 & -0.04041098 & -0.07996557 & -0.03335595 & -0.02336440 & -0.05488513 & -0.03503106 & -0.07178532 & -0.08564629 & -0.03307041 & ⋯ & -0.012193881 & -0.004231554 & -0.012190839 & -0.005024991 & -0.009390126 &  0.028835015 &  0.02291125 &  0.012771782 &  0.021427349 &  0.020983068\\\\\n",
       "\trs112759592 & -0.04041098 &  1.00000000 & -0.06602195 & -0.02949000 & -0.01981965 & -0.04497065 &  0.75275268 & -0.06876986 & -0.07115160 & -0.02709303 & ⋯ &  0.032784561 &  0.038715861 &  0.051126375 & -0.019672099 & -0.017216201 &  0.064879467 &  0.02914763 &  0.031141599 &  0.039552737 &  0.038159101\\\\\n",
       "\trs10281008 & -0.07996557 & -0.06602195 &  1.00000000 & -0.04834999 & -0.03434119 &  0.66899749 & -0.05087862 &  0.92509475 & -0.11578063 & -0.04488270 & ⋯ &  0.080442475 &  0.088898129 & -0.057028090 & -0.043854988 & -0.002810901 &  0.004074045 & -0.03627451 & -0.032118634 &  0.005333929 &  0.005510484\\\\\n",
       "\trs117933100 & -0.03335595 & -0.02949000 & -0.04834999 &  1.00000000 & -0.01431049 & -0.03345474 & -0.02400475 & -0.05058952 &  0.38968324 & -0.01945354 & ⋯ & -0.022444169 & -0.022391630 &  0.010911630 & -0.014082289 & -0.015042299 &  0.004733850 &  0.04553759 & -0.024361144 &  0.036895833 &  0.036839540\\\\\n",
       "\trs58651394 & -0.02336440 & -0.01981965 & -0.03434119 & -0.01431049 &  1.00000000 & -0.02166221 & -0.01374465 & -0.03644620 & -0.03346114 & -0.01496801 & ⋯ & -0.004495018 & -0.001186875 &  0.004335979 & -0.013269013 &  0.068328771 & -0.006321429 &  0.03607545 & -0.002826752 &  0.015662251 &  0.016064075\\\\\n",
       "\trs62451072 & -0.05488513 & -0.04497065 &  0.66899749 & -0.03345474 & -0.02166221 &  1.00000000 & -0.03536187 &  0.62427538 & -0.07504880 & -0.02993311 & ⋯ &  0.043659386 &  0.050078573 & -0.033108691 & -0.025724194 &  0.008474177 & -0.010517689 &  0.00964271 & -0.040736288 & -0.002335865 & -0.001502818\\\\\n",
       "\\end{tabular}\n"
      ],
      "text/markdown": [
       "\n",
       "A matrix: 6 × 96 of type dbl\n",
       "\n",
       "| <!--/--> | rs73075348 | rs112759592 | rs10281008 | rs117933100 | rs58651394 | rs62451072 | rs17620013 | rs17692895 | rs73083371 | rs116990708 | ⋯ | rs550448 | rs849315 | rs1513270 | rs73078484 | rs58462233 | rs56142710 | rs73076597 | rs478266 | rs475615 | rs849325 |\n",
       "|---|---|---|---|---|---|---|---|---|---|---|---|---|---|---|---|---|---|---|---|---|---|\n",
       "| rs73075348 |  1.00000000 | -0.04041098 | -0.07996557 | -0.03335595 | -0.02336440 | -0.05488513 | -0.03503106 | -0.07178532 | -0.08564629 | -0.03307041 | ⋯ | -0.012193881 | -0.004231554 | -0.012190839 | -0.005024991 | -0.009390126 |  0.028835015 |  0.02291125 |  0.012771782 |  0.021427349 |  0.020983068 |\n",
       "| rs112759592 | -0.04041098 |  1.00000000 | -0.06602195 | -0.02949000 | -0.01981965 | -0.04497065 |  0.75275268 | -0.06876986 | -0.07115160 | -0.02709303 | ⋯ |  0.032784561 |  0.038715861 |  0.051126375 | -0.019672099 | -0.017216201 |  0.064879467 |  0.02914763 |  0.031141599 |  0.039552737 |  0.038159101 |\n",
       "| rs10281008 | -0.07996557 | -0.06602195 |  1.00000000 | -0.04834999 | -0.03434119 |  0.66899749 | -0.05087862 |  0.92509475 | -0.11578063 | -0.04488270 | ⋯ |  0.080442475 |  0.088898129 | -0.057028090 | -0.043854988 | -0.002810901 |  0.004074045 | -0.03627451 | -0.032118634 |  0.005333929 |  0.005510484 |\n",
       "| rs117933100 | -0.03335595 | -0.02949000 | -0.04834999 |  1.00000000 | -0.01431049 | -0.03345474 | -0.02400475 | -0.05058952 |  0.38968324 | -0.01945354 | ⋯ | -0.022444169 | -0.022391630 |  0.010911630 | -0.014082289 | -0.015042299 |  0.004733850 |  0.04553759 | -0.024361144 |  0.036895833 |  0.036839540 |\n",
       "| rs58651394 | -0.02336440 | -0.01981965 | -0.03434119 | -0.01431049 |  1.00000000 | -0.02166221 | -0.01374465 | -0.03644620 | -0.03346114 | -0.01496801 | ⋯ | -0.004495018 | -0.001186875 |  0.004335979 | -0.013269013 |  0.068328771 | -0.006321429 |  0.03607545 | -0.002826752 |  0.015662251 |  0.016064075 |\n",
       "| rs62451072 | -0.05488513 | -0.04497065 |  0.66899749 | -0.03345474 | -0.02166221 |  1.00000000 | -0.03536187 |  0.62427538 | -0.07504880 | -0.02993311 | ⋯ |  0.043659386 |  0.050078573 | -0.033108691 | -0.025724194 |  0.008474177 | -0.010517689 |  0.00964271 | -0.040736288 | -0.002335865 | -0.001502818 |\n",
       "\n"
      ],
      "text/plain": [
       "            rs73075348  rs112759592 rs10281008  rs117933100 rs58651394 \n",
       "rs73075348   1.00000000 -0.04041098 -0.07996557 -0.03335595 -0.02336440\n",
       "rs112759592 -0.04041098  1.00000000 -0.06602195 -0.02949000 -0.01981965\n",
       "rs10281008  -0.07996557 -0.06602195  1.00000000 -0.04834999 -0.03434119\n",
       "rs117933100 -0.03335595 -0.02949000 -0.04834999  1.00000000 -0.01431049\n",
       "rs58651394  -0.02336440 -0.01981965 -0.03434119 -0.01431049  1.00000000\n",
       "rs62451072  -0.05488513 -0.04497065  0.66899749 -0.03345474 -0.02166221\n",
       "            rs62451072  rs17620013  rs17692895  rs73083371  rs116990708 ⋯\n",
       "rs73075348  -0.05488513 -0.03503106 -0.07178532 -0.08564629 -0.03307041 ⋯\n",
       "rs112759592 -0.04497065  0.75275268 -0.06876986 -0.07115160 -0.02709303 ⋯\n",
       "rs10281008   0.66899749 -0.05087862  0.92509475 -0.11578063 -0.04488270 ⋯\n",
       "rs117933100 -0.03345474 -0.02400475 -0.05058952  0.38968324 -0.01945354 ⋯\n",
       "rs58651394  -0.02166221 -0.01374465 -0.03644620 -0.03346114 -0.01496801 ⋯\n",
       "rs62451072   1.00000000 -0.03536187  0.62427538 -0.07504880 -0.02993311 ⋯\n",
       "            rs550448     rs849315     rs1513270    rs73078484   rs58462233  \n",
       "rs73075348  -0.012193881 -0.004231554 -0.012190839 -0.005024991 -0.009390126\n",
       "rs112759592  0.032784561  0.038715861  0.051126375 -0.019672099 -0.017216201\n",
       "rs10281008   0.080442475  0.088898129 -0.057028090 -0.043854988 -0.002810901\n",
       "rs117933100 -0.022444169 -0.022391630  0.010911630 -0.014082289 -0.015042299\n",
       "rs58651394  -0.004495018 -0.001186875  0.004335979 -0.013269013  0.068328771\n",
       "rs62451072   0.043659386  0.050078573 -0.033108691 -0.025724194  0.008474177\n",
       "            rs56142710   rs73076597  rs478266     rs475615     rs849325    \n",
       "rs73075348   0.028835015  0.02291125  0.012771782  0.021427349  0.020983068\n",
       "rs112759592  0.064879467  0.02914763  0.031141599  0.039552737  0.038159101\n",
       "rs10281008   0.004074045 -0.03627451 -0.032118634  0.005333929  0.005510484\n",
       "rs117933100  0.004733850  0.04553759 -0.024361144  0.036895833  0.036839540\n",
       "rs58651394  -0.006321429  0.03607545 -0.002826752  0.015662251  0.016064075\n",
       "rs62451072  -0.010517689  0.00964271 -0.040736288 -0.002335865 -0.001502818"
      ]
     },
     "metadata": {},
     "output_type": "display_data"
    },
    {
     "data": {
      "text/html": [
       "<style>\n",
       ".list-inline {list-style: none; margin:0; padding: 0}\n",
       ".list-inline>li {display: inline-block}\n",
       ".list-inline>li:not(:last-child)::after {content: \"\\00b7\"; padding: 0 .5ex}\n",
       "</style>\n",
       "<ol class=list-inline><li>96</li><li>96</li></ol>\n"
      ],
      "text/latex": [
       "\\begin{enumerate*}\n",
       "\\item 96\n",
       "\\item 96\n",
       "\\end{enumerate*}\n"
      ],
      "text/markdown": [
       "1. 96\n",
       "2. 96\n",
       "\n",
       "\n"
      ],
      "text/plain": [
       "[1] 96 96"
      ]
     },
     "metadata": {},
     "output_type": "display_data"
    }
   ],
   "source": [
    "head(ldrho)\n",
    "dim(ldrho)"
   ]
  },
  {
   "cell_type": "code",
   "execution_count": 65,
   "id": "5450b1f9-d225-477c-b6b5-d0ad25371f58",
   "metadata": {},
   "outputs": [
    {
     "name": "stderr",
     "output_type": "stream",
     "text": [
      "std effect: 96 instruments loaded.\n",
      "\n"
     ]
    },
    {
     "data": {
      "text/html": [
       "<table class=\"dataframe\">\n",
       "<caption>A data.frame: 6 × 14</caption>\n",
       "<thead>\n",
       "\t<tr><th></th><th scope=col>SNP</th><th scope=col>a1</th><th scope=col>a2</th><th scope=col>a1_freq</th><th scope=col>bzx</th><th scope=col>bzx_se</th><th scope=col>bzx_pval</th><th scope=col>bzx_n</th><th scope=col>bzy</th><th scope=col>bzy_se</th><th scope=col>bzy_pval</th><th scope=col>bzy_n</th><th scope=col>std_bzx</th><th scope=col>std_bzx_se</th></tr>\n",
       "\t<tr><th></th><th scope=col>&lt;chr&gt;</th><th scope=col>&lt;chr&gt;</th><th scope=col>&lt;chr&gt;</th><th scope=col>&lt;dbl&gt;</th><th scope=col>&lt;dbl&gt;</th><th scope=col>&lt;dbl&gt;</th><th scope=col>&lt;dbl&gt;</th><th scope=col>&lt;int&gt;</th><th scope=col>&lt;dbl&gt;</th><th scope=col>&lt;dbl&gt;</th><th scope=col>&lt;dbl&gt;</th><th scope=col>&lt;int&gt;</th><th scope=col>&lt;dbl&gt;</th><th scope=col>&lt;dbl&gt;</th></tr>\n",
       "</thead>\n",
       "<tbody>\n",
       "\t<tr><th scope=row>3</th><td>rs73075348 </td><td>G</td><td>A</td><td>0.056610</td><td>-0.002466700</td><td>0.00213852</td><td>0.2487196</td><td>365499</td><td>-0.000203885</td><td>0.0152262</td><td>0.9893163</td><td>339345</td><td>-0.0058378364</td><td>0.005061146</td></tr>\n",
       "\t<tr><th scope=row>24</th><td>rs112759592</td><td>C</td><td>G</td><td>0.037982</td><td>-0.001038050</td><td>0.00258446</td><td>0.6879407</td><td>365499</td><td> 0.011217400</td><td>0.0183894</td><td>0.5418661</td><td>339345</td><td>-0.0024575918</td><td>0.006118730</td></tr>\n",
       "\t<tr><th scope=row>30</th><td>rs10281008 </td><td>G</td><td>A</td><td>0.103474</td><td>-0.003913590</td><td>0.00162312</td><td>0.0159023</td><td>365499</td><td> 0.005002890</td><td>0.0115376</td><td>0.6645673</td><td>339345</td><td>-0.0092590427</td><td>0.003840090</td></tr>\n",
       "\t<tr><th scope=row>36</th><td>rs117933100</td><td>C</td><td>T</td><td>0.020068</td><td> 0.002374400</td><td>0.00352758</td><td>0.5008850</td><td>365499</td><td>-0.005789150</td><td>0.0250778</td><td>0.8174334</td><td>339345</td><td> 0.0056139512</td><td>0.008340491</td></tr>\n",
       "\t<tr><th scope=row>44</th><td>rs58651394 </td><td>T</td><td>C</td><td>0.010405</td><td> 0.006520910</td><td>0.00487527</td><td>0.1810439</td><td>365499</td><td> 0.022539600</td><td>0.0346362</td><td>0.5152073</td><td>339345</td><td> 0.0154170254</td><td>0.011526330</td></tr>\n",
       "\t<tr><th scope=row>51</th><td>rs62451072 </td><td>T</td><td>G</td><td>0.050026</td><td>-0.000364629</td><td>0.00226674</td><td>0.8722032</td><td>365499</td><td> 0.008891390</td><td>0.0160970</td><td>0.5806989</td><td>339345</td><td>-0.0008630533</td><td>0.005365227</td></tr>\n",
       "</tbody>\n",
       "</table>\n"
      ],
      "text/latex": [
       "A data.frame: 6 × 14\n",
       "\\begin{tabular}{r|llllllllllllll}\n",
       "  & SNP & a1 & a2 & a1\\_freq & bzx & bzx\\_se & bzx\\_pval & bzx\\_n & bzy & bzy\\_se & bzy\\_pval & bzy\\_n & std\\_bzx & std\\_bzx\\_se\\\\\n",
       "  & <chr> & <chr> & <chr> & <dbl> & <dbl> & <dbl> & <dbl> & <int> & <dbl> & <dbl> & <dbl> & <int> & <dbl> & <dbl>\\\\\n",
       "\\hline\n",
       "\t3 & rs73075348  & G & A & 0.056610 & -0.002466700 & 0.00213852 & 0.2487196 & 365499 & -0.000203885 & 0.0152262 & 0.9893163 & 339345 & -0.0058378364 & 0.005061146\\\\\n",
       "\t24 & rs112759592 & C & G & 0.037982 & -0.001038050 & 0.00258446 & 0.6879407 & 365499 &  0.011217400 & 0.0183894 & 0.5418661 & 339345 & -0.0024575918 & 0.006118730\\\\\n",
       "\t30 & rs10281008  & G & A & 0.103474 & -0.003913590 & 0.00162312 & 0.0159023 & 365499 &  0.005002890 & 0.0115376 & 0.6645673 & 339345 & -0.0092590427 & 0.003840090\\\\\n",
       "\t36 & rs117933100 & C & T & 0.020068 &  0.002374400 & 0.00352758 & 0.5008850 & 365499 & -0.005789150 & 0.0250778 & 0.8174334 & 339345 &  0.0056139512 & 0.008340491\\\\\n",
       "\t44 & rs58651394  & T & C & 0.010405 &  0.006520910 & 0.00487527 & 0.1810439 & 365499 &  0.022539600 & 0.0346362 & 0.5152073 & 339345 &  0.0154170254 & 0.011526330\\\\\n",
       "\t51 & rs62451072  & T & G & 0.050026 & -0.000364629 & 0.00226674 & 0.8722032 & 365499 &  0.008891390 & 0.0160970 & 0.5806989 & 339345 & -0.0008630533 & 0.005365227\\\\\n",
       "\\end{tabular}\n"
      ],
      "text/markdown": [
       "\n",
       "A data.frame: 6 × 14\n",
       "\n",
       "| <!--/--> | SNP &lt;chr&gt; | a1 &lt;chr&gt; | a2 &lt;chr&gt; | a1_freq &lt;dbl&gt; | bzx &lt;dbl&gt; | bzx_se &lt;dbl&gt; | bzx_pval &lt;dbl&gt; | bzx_n &lt;int&gt; | bzy &lt;dbl&gt; | bzy_se &lt;dbl&gt; | bzy_pval &lt;dbl&gt; | bzy_n &lt;int&gt; | std_bzx &lt;dbl&gt; | std_bzx_se &lt;dbl&gt; |\n",
       "|---|---|---|---|---|---|---|---|---|---|---|---|---|---|---|\n",
       "| 3 | rs73075348  | G | A | 0.056610 | -0.002466700 | 0.00213852 | 0.2487196 | 365499 | -0.000203885 | 0.0152262 | 0.9893163 | 339345 | -0.0058378364 | 0.005061146 |\n",
       "| 24 | rs112759592 | C | G | 0.037982 | -0.001038050 | 0.00258446 | 0.6879407 | 365499 |  0.011217400 | 0.0183894 | 0.5418661 | 339345 | -0.0024575918 | 0.006118730 |\n",
       "| 30 | rs10281008  | G | A | 0.103474 | -0.003913590 | 0.00162312 | 0.0159023 | 365499 |  0.005002890 | 0.0115376 | 0.6645673 | 339345 | -0.0092590427 | 0.003840090 |\n",
       "| 36 | rs117933100 | C | T | 0.020068 |  0.002374400 | 0.00352758 | 0.5008850 | 365499 | -0.005789150 | 0.0250778 | 0.8174334 | 339345 |  0.0056139512 | 0.008340491 |\n",
       "| 44 | rs58651394  | T | C | 0.010405 |  0.006520910 | 0.00487527 | 0.1810439 | 365499 |  0.022539600 | 0.0346362 | 0.5152073 | 339345 |  0.0154170254 | 0.011526330 |\n",
       "| 51 | rs62451072  | T | G | 0.050026 | -0.000364629 | 0.00226674 | 0.8722032 | 365499 |  0.008891390 | 0.0160970 | 0.5806989 | 339345 | -0.0008630533 | 0.005365227 |\n",
       "\n"
      ],
      "text/plain": [
       "   SNP         a1 a2 a1_freq  bzx          bzx_se     bzx_pval  bzx_n \n",
       "3  rs73075348  G  A  0.056610 -0.002466700 0.00213852 0.2487196 365499\n",
       "24 rs112759592 C  G  0.037982 -0.001038050 0.00258446 0.6879407 365499\n",
       "30 rs10281008  G  A  0.103474 -0.003913590 0.00162312 0.0159023 365499\n",
       "36 rs117933100 C  T  0.020068  0.002374400 0.00352758 0.5008850 365499\n",
       "44 rs58651394  T  C  0.010405  0.006520910 0.00487527 0.1810439 365499\n",
       "51 rs62451072  T  G  0.050026 -0.000364629 0.00226674 0.8722032 365499\n",
       "   bzy          bzy_se    bzy_pval  bzy_n  std_bzx       std_bzx_se \n",
       "3  -0.000203885 0.0152262 0.9893163 339345 -0.0058378364 0.005061146\n",
       "24  0.011217400 0.0183894 0.5418661 339345 -0.0024575918 0.006118730\n",
       "30  0.005002890 0.0115376 0.6645673 339345 -0.0092590427 0.003840090\n",
       "36 -0.005789150 0.0250778 0.8174334 339345  0.0056139512 0.008340491\n",
       "44  0.022539600 0.0346362 0.5152073 339345  0.0154170254 0.011526330\n",
       "51  0.008891390 0.0160970 0.5806989 339345 -0.0008630533 0.005365227"
      ]
     },
     "metadata": {},
     "output_type": "display_data"
    }
   ],
   "source": [
    "# standardization\n",
    "snpfreq = gsmr_data$a1_freq             # allele frequencies of the SNPs\n",
    "bzx = gsmr_data$bzx     # effects of the instruments on risk factor\n",
    "bzx_se = gsmr_data$bzx_se       # standard errors of bzx\n",
    "bzx_n = gsmr_data$bzx_n          # GWAS sample size for the risk factor\n",
    "std_zx = std_effect(snpfreq, bzx, bzx_se, bzx_n)    # perform standardisation\n",
    "gsmr_data$std_bzx = std_zx$b    # standardized bzx\n",
    "gsmr_data$std_bzx_se = std_zx$se    # standardized bzx_se\n",
    "head(gsmr_data)"
   ]
  },
  {
   "cell_type": "code",
   "execution_count": 66,
   "id": "78e43000-aca1-4c34-a898-7523be206e41",
   "metadata": {},
   "outputs": [
    {
     "name": "stderr",
     "output_type": "stream",
     "text": [
      "GSMR analysis: 96 instruments loaded.\n",
      "\n",
      "There are 96 SNPs in the dataset.\n",
      "\n",
      "Warning message in filter_summdat(snpid, bzx, bzx_se, bzx_pval, bzy, bzy_se, bzy_pval, :\n",
      "“81 non-significant SNPs were removed.”\n",
      "Warning message in filter_summdat(snpid, bzx, bzx_se, bzx_pval, bzy, bzy_se, bzy_pval, :\n",
      "“There were SNPs in high LD. After LD pruning with a LD r2 threshold of 0.1, 13 SNPs were removed. Note: The threshold of LD can be changed by the \"ld_r2_thresh\".”\n"
     ]
    },
    {
     "ename": "ERROR",
     "evalue": "Error in filter_summdat(snpid, bzx, bzx_se, bzx_pval, bzy, bzy_se, bzy_pval, : At least 5 SNPs are required. Note: this hard limit can be changed by the \"nsnps_thresh\".\n",
     "output_type": "error",
     "traceback": [
      "Error in filter_summdat(snpid, bzx, bzx_se, bzx_pval, bzy, bzy_se, bzy_pval, : At least 5 SNPs are required. Note: this hard limit can be changed by the \"nsnps_thresh\".\nTraceback:\n",
      "1. gsmr(bzx, bzx_se, bzx_pval, bzy, bzy_se, bzy_pval, ldrho, snp_coeff_id, \n .     n_ref, heidi_outlier_flag, gwas_thresh, single_snp_heidi_thresh, \n .     multi_snp_heidi_thresh, nsnps_thresh, ld_r2_thresh, ld_fdr_thresh, \n .     gsmr2_beta)",
      "2. filter_summdat(snpid, bzx, bzx_se, bzx_pval, bzy, bzy_se, bzy_pval, \n .     ldrho, n_ref, nsnps_thresh, gwas_thresh, ld_r2_thresh, ld_fdr_thresh)",
      "3. stop(\"At least \", nsnps_thresh, \" SNPs are required. Note: this hard limit can be changed by the \\\"nsnps_thresh\\\".\")"
     ]
    }
   ],
   "source": [
    "# GSMR analysis forward)\n",
    "bzx = gsmr_data$std_bzx    # SNP effects on the risk factor\n",
    "bzx_se = gsmr_data$std_bzx_se    # standard errors of bzx\n",
    "bzx_pval = gsmr_data$bzx_pval   # p-values for bzx\n",
    "bzy = gsmr_data$bzy    # SNP effects on the disease\n",
    "bzy_se = gsmr_data$bzy_se    # standard errors of bzy\n",
    "bzy_pval = gsmr_data$bzy_pval    # p-values for bzy\n",
    "n_ref = 487409    # Sample size of the reference sample # 487409 individuals in the sample file\n",
    "gwas_thresh = 5e-8    # GWAS threshold to select SNPs as the instruments for the GSMR analysis\n",
    "single_snp_heidi_thresh = 0.01    # p-value threshold for single-SNP-based HEIDI-outlier analysis\n",
    "multi_snp_heidi_thresh = 0.01    # p-value threshold for multi-SNP-based HEIDI-outlier analysis\n",
    "nsnps_thresh = 5   # the minimum number of instruments required for the GSMR analysis\n",
    "heidi_outlier_flag = T    # flag for HEIDI-outlier analysis\n",
    "ld_r2_thresh = 0.1   # LD r2 threshold to remove SNPs in high LD\n",
    "ld_fdr_thresh = 0.05   # FDR threshold to remove the chance correlations between the SNP instruments\n",
    "gsmr2_beta = 0     # 0 - the original HEIDI-outlier method; 1 - the new HEIDI-outlier method that is currently under development \n",
    "gsmr_results = gsmr(bzx, bzx_se, bzx_pval, bzy, bzy_se, bzy_pval, ldrho, snp_coeff_id, n_ref, heidi_outlier_flag, gwas_thresh, single_snp_heidi_thresh, multi_snp_heidi_thresh, nsnps_thresh, ld_r2_thresh, ld_fdr_thresh, gsmr2_beta)    # GSMR analysis \n",
    "filtered_index=gsmr_results$used_index\n",
    "cat(\"The estimated effect of the exposure on outcome: \",gsmr_results$bxy)"
   ]
  },
  {
   "cell_type": "markdown",
   "id": "f9dab425-381a-4056-a04e-1b4783515ce2",
   "metadata": {},
   "source": [
    "The GSMR analysis did not show any results even after modifiying some of the criterias like --r2-clum from 0.05 to 0.1 and minimum number of SNPs to be included in the analysis from 10 to 5.\n",
    "One of reason could be the bfile used for LD reference has only 96 SNPs that can be used for the analysis\n",
    "/mnt/mfs/statgen/archive/UKBiobank_Yale_transfer/pleiotropy_geneticfiles/UKB_Caucasians_phenotypeindepqc120319_updated082020removedwithdrawnindiv\n"
   ]
  },
  {
   "cell_type": "markdown",
   "id": "c22bc8f0-f52f-4cba-a9d4-a1896a89cf4b",
   "metadata": {},
   "source": [
    "### Rerun the GSMR with a new bfile generated using plink using the GCTA module\n",
    "\n",
    "**exposure path** : /mnt/mfs/statgen/bst2126/pleiotropy/JAZF1_sum/t2d_gsmr_exposure.txt  \n",
    "**Outcome path** : /mnt/mfs/statgen/bst2126/pleiotropy/JAZF1_sum/t2d_gsmr_outcome.txt  \n",
    "**Geno path** : /mnt/mfs/statgen/bst2126/pleiotropy/geno/UKB_imputed_chr7_v3\n",
    "\n",
    "There are 3 GSMR analyses, forward-GSMR analysis (coded as 0), reverse-GSMR analysis (coded as 1) and bi-GSMR analysis (both forward- and reverse-GSMR analyses, coded as 2)."
   ]
  },
  {
   "cell_type": "code",
   "execution_count": null,
   "id": "154df170-cb15-4fcf-abca-857c1273b010",
   "metadata": {},
   "outputs": [],
   "source": [
    "module load GCTA/1.93.3\n",
    "\n",
    "gcta64 --bfile /mnt/mfs/statgen/bst2126/pleiotropy/geno/UKB_imputed_chr7_v3 \n",
    "       --gsmr-file /mnt/mfs/statgen/bst2126/pleiotropy/JAZF1_sum/t2d_gsmr_exposure.txt  /mnt/mfs/statgen/bst2126/pleiotropy/JAZF1_sum/t2d_gsmr_outcome.txt \n",
    "       --gsmr-direction 0  \n",
    "       --out /mnt/mfs/statgen/bst2126/pleiotropy/JAZF1_sum/gsmr_result/t2d_gsmr01_result \n",
    "       --effect-plot \n",
    "       --clump-r2 0.1 \n",
    "       --gsmr-snp-min 5 "
   ]
  },
  {
   "cell_type": "code",
   "execution_count": null,
   "id": "9830500a-bb20-4882-8c5f-6bc4dd9b67ca",
   "metadata": {},
   "outputs": [],
   "source": [
    "qsub /mnt/mfs/statgen/bst2126/pleiotropy/JAZF1_sum/t2d_gsmr3.sh"
   ]
  },
  {
   "cell_type": "code",
   "execution_count": null,
   "id": "861799c7-69ef-46ec-8428-2039583fe89c",
   "metadata": {},
   "outputs": [],
   "source": [
    "Reading GWAS summary data for exposure(s) from [/mnt/mfs/statgen/bst2126/pleiotropy/JAZF1_sum/t2d_gsmr_exposure.txt].\n",
    "Reading GWAS summary data for outcome(s) from [/mnt/mfs/statgen/bst2126/pleiotropy/JAZF1_sum/t2d_gsmr_outcome.txt].\n",
    "145 SNPs genome-wide significant SNPs in common between the exposure(s) and the outcome(s).\n",
    "Filtering out SNPs with multiple alleles or missing value ...\n",
    "145 SNPs are retained after filtering.\n",
    "145 genome-wide significant SNPs with p < 5.0e-08 are in common among the exposure(s), the outcome(s) and the LD reference sample.\n",
    "\n",
    "Reading PLINK BED file from [/mnt/mfs/statgen/bst2126/pleiotropy/geno/UKB_imputed_chr7_v3.bed] in SNP-major format ...\n",
    "Genotype data for 487409 individuals and 145 SNPs to be included from [/mnt/mfs/statgen/bst2126/pleiotropy/geno/UKB_imputed_chr7_v3.bed].\n",
    "Calculating allele frequencies ...\n",
    "Checking allele frequencies among the GWAS summary data and the reference sample...\n",
    "\n",
    "Forward GSMR analysis for exposure #1 and outcome #1 ...\n",
    "7 index SNPs are obtained from the clumping analysis with p < 5.0e-08 and LD r2 < 0.10.\n",
    "7 index SNPs are retained after HEIDI-outlier analysis.\n",
    "Forward GSMR analysis for exposure #1 and outcome #1 completed.\n",
    "\n",
    "Forward GSMR analysis for exposure #2 and outcome #1 ...\n",
    "1 index SNPs are obtained from the clumping analysis with p < 5.0e-08 and LD r2 < 0.10.\n",
    "Warning: Not enough SNPs to perform the GSMR analysis. At least 5 SNPs are required."
   ]
  },
  {
   "cell_type": "code",
   "execution_count": 67,
   "id": "7a68259c-aac3-419d-b15c-8ba339563655",
   "metadata": {},
   "outputs": [],
   "source": [
    "library(\"gsmr\")\n",
    "setwd(\"/mnt/mfs/statgen/bst2126/pleiotropy/JAZF1_sum/gsmr_result\")"
   ]
  },
  {
   "cell_type": "code",
   "execution_count": 68,
   "id": "9639e3dc-41f7-4986-90d3-65e3969b0917",
   "metadata": {},
   "outputs": [],
   "source": [
    "# check results of the GSMR analysis\n",
    "# There are 7 SNPs included "
   ]
  },
  {
   "cell_type": "code",
   "execution_count": 72,
   "id": "e77c0707-6014-4d0c-9e72-6c8edb8233a0",
   "metadata": {},
   "outputs": [
    {
     "name": "stdout",
     "output_type": "stream",
     "text": [
      "[1] 10\n",
      " [1] \"7:28213499_TAAAAAAAAAAAAAA_T\" \"T\"                           \n",
      " [3] \"TAAAAAAAAAAAAAA\"              \"0.039207\"                    \n",
      " [5] \"-0.0157897\"                   \"0.00277328\"                  \n",
      " [7] \"0.0127581\"                    \"0.0197258\"                   \n",
      " [9] \"-0.0864612\"                   \"0.027165\"                    \n",
      "[1] 10\n",
      " [1] \"rs10275982\"  \"A\"           \"C\"           \"0.337556\"    \"-0.00658053\"\n",
      " [6] \"0.00105114\"  \"0.00146841\"  \"0.00747687\"  \"-0.0238996\"  \"0.0106069\"  \n",
      "[1] 10\n",
      " [1] \"rs11448038\" \"TA\"         \"T\"          \"0.550049\"   \"0.00730479\"\n",
      " [6] \"0.00107761\" \"0.0373388\"  \"0.00765055\" \"0.0648301\"  \"0.0108398\" \n",
      "[1] 10\n",
      " [1] \"rs11763181\"  \"G\"           \"T\"           \"0.932679\"    \"-0.0112937\" \n",
      " [6] \"0.00198594\"  \"-0.00103321\" \"0.0141235\"   \"-0.0558825\"  \"0.0204014\"  \n",
      "[1] 10\n",
      " [1] \"rs552707\"     \"C\"            \"T\"            \"0.704436\"     \"0.013811\"    \n",
      " [6] \"0.0010836\"    \"-0.000808671\" \"0.00771348\"   \"0.0616489\"    \"0.0108266\"   \n",
      "[1] 10\n",
      " [1] \"rs55901351\"  \"T\"           \"C\"           \"0.043161\"    \"-0.0137131\" \n",
      " [6] \"0.0024832\"   \"-0.00950145\" \"0.0176564\"   \"-0.0238387\"  \"0.0251576\"  \n",
      "[1] 10\n",
      " [1] \"rs6963719\"  \"T\"          \"C\"          \"0.73644\"    \"0.00845343\"\n",
      " [6] \"0.00112294\" \"0.0256037\"  \"0.007958\"   \"0.0301114\"  \"0.0112592\" \n"
     ]
    },
    {
     "name": "stderr",
     "output_type": "stream",
     "text": [
      "\n",
      "## Exposure and outcome\n",
      "\n",
      "2 exposure(s): waist, asthma\n",
      "\n",
      "1 outcome(s): t2d\n",
      "\n",
      "\n",
      "## GSMR result\n",
      "\n"
     ]
    },
    {
     "name": "stdout",
     "output_type": "stream",
     "text": [
      "  Exposure Outcome     bxy       se           p n_snps\n",
      "1    waist     t2d 4.82491 0.695642 4.03621e-12      7\n",
      "2   asthma     t2d     NaN      NaN         NaN    NaN\n"
     ]
    },
    {
     "data": {
      "image/png": "[encoded data removed]",
      "text/plain": [
       "plot without title"
      ]
     },
     "metadata": {
      "image/png": {
       "height": 420,
       "width": 420
      }
     },
     "output_type": "display_data"
    }
   ],
   "source": [
    "source(\"gsmr_plot.r\")\n",
    "gsmr_data = read_gsmr_data(\"t2d_gsmr01_result.eff_plot.gz\")\n",
    "gsmr_summary(gsmr_data)      # show a summary of the data\n",
    "plot_gsmr_effect(gsmr_data, \"waist\", \"t2d\", colors()[74])  "
   ]
  },
  {
   "cell_type": "code",
   "execution_count": 73,
   "id": "8e6ed404-208b-48c4-b281-95de01ff135b",
   "metadata": {},
   "outputs": [
    {
     "data": {
      "text/html": [
       "<dl>\n",
       "\t<dt>$pheno</dt>\n",
       "\t\t<dd><style>\n",
       ".list-inline {list-style: none; margin:0; padding: 0}\n",
       ".list-inline>li {display: inline-block}\n",
       ".list-inline>li:not(:last-child)::after {content: \"\\00b7\"; padding: 0 .5ex}\n",
       "</style>\n",
       "<ol class=list-inline><li>'2'</li><li>'1'</li><li>'waist'</li><li>'asthma'</li><li>'t2d'</li></ol>\n",
       "</dd>\n",
       "\t<dt>$bxy_result</dt>\n",
       "\t\t<dd><table class=\"dataframe\">\n",
       "<caption>A matrix: 2 × 6 of type chr</caption>\n",
       "<thead>\n",
       "\t<tr><th scope=col>Exposure</th><th scope=col>Outcome</th><th scope=col>bxy</th><th scope=col>se</th><th scope=col>p</th><th scope=col>n_snps</th></tr>\n",
       "</thead>\n",
       "<tbody>\n",
       "\t<tr><td>waist </td><td>t2d</td><td>4.82491</td><td>0.695642</td><td>4.03621e-12</td><td>7  </td></tr>\n",
       "\t<tr><td>asthma</td><td>t2d</td><td>NaN    </td><td>NaN     </td><td>NaN        </td><td>NaN</td></tr>\n",
       "</tbody>\n",
       "</table>\n",
       "</dd>\n",
       "\t<dt>$snp_effect</dt>\n",
       "\t\t<dd><table class=\"dataframe\">\n",
       "<caption>A matrix: 7 × 13 of type chr</caption>\n",
       "<tbody>\n",
       "\t<tr><th scope=row>strbuf</th><td>7:28213499_TAAAAAAAAAAAAAA_T</td><td>1</td><td>0</td><td>NA</td><td>T </td><td>TAAAAAAAAAAAAAA</td><td>0.039207</td><td>-0.0157897 </td><td>0.00277328</td><td>0.0127581   </td><td>0.0197258 </td><td>-0.0864612</td><td>0.027165 </td></tr>\n",
       "\t<tr><th scope=row>strbuf</th><td>rs10275982                  </td><td>1</td><td>0</td><td>NA</td><td>A </td><td>C              </td><td>0.337556</td><td>-0.00658053</td><td>0.00105114</td><td>0.00146841  </td><td>0.00747687</td><td>-0.0238996</td><td>0.0106069</td></tr>\n",
       "\t<tr><th scope=row>strbuf</th><td>rs11448038                  </td><td>1</td><td>0</td><td>NA</td><td>TA</td><td>T              </td><td>0.550049</td><td>0.00730479 </td><td>0.00107761</td><td>0.0373388   </td><td>0.00765055</td><td>0.0648301 </td><td>0.0108398</td></tr>\n",
       "\t<tr><th scope=row>strbuf</th><td>rs11763181                  </td><td>1</td><td>0</td><td>NA</td><td>G </td><td>T              </td><td>0.932679</td><td>-0.0112937 </td><td>0.00198594</td><td>-0.00103321 </td><td>0.0141235 </td><td>-0.0558825</td><td>0.0204014</td></tr>\n",
       "\t<tr><th scope=row>strbuf</th><td>rs552707                    </td><td>1</td><td>0</td><td>NA</td><td>C </td><td>T              </td><td>0.704436</td><td>0.013811   </td><td>0.0010836 </td><td>-0.000808671</td><td>0.00771348</td><td>0.0616489 </td><td>0.0108266</td></tr>\n",
       "\t<tr><th scope=row>strbuf</th><td>rs55901351                  </td><td>1</td><td>0</td><td>NA</td><td>T </td><td>C              </td><td>0.043161</td><td>-0.0137131 </td><td>0.0024832 </td><td>-0.00950145 </td><td>0.0176564 </td><td>-0.0238387</td><td>0.0251576</td></tr>\n",
       "\t<tr><th scope=row>strbuf</th><td>rs6963719                   </td><td>1</td><td>0</td><td>NA</td><td>T </td><td>C              </td><td>0.73644 </td><td>0.00845343 </td><td>0.00112294</td><td>0.0256037   </td><td>0.007958  </td><td>0.0301114 </td><td>0.0112592</td></tr>\n",
       "</tbody>\n",
       "</table>\n",
       "</dd>\n",
       "</dl>\n"
      ],
      "text/latex": [
       "\\begin{description}\n",
       "\\item[\\$pheno] \\begin{enumerate*}\n",
       "\\item '2'\n",
       "\\item '1'\n",
       "\\item 'waist'\n",
       "\\item 'asthma'\n",
       "\\item 't2d'\n",
       "\\end{enumerate*}\n",
       "\n",
       "\\item[\\$bxy\\_result] A matrix: 2 × 6 of type chr\n",
       "\\begin{tabular}{llllll}\n",
       " Exposure & Outcome & bxy & se & p & n\\_snps\\\\\n",
       "\\hline\n",
       "\t waist  & t2d & 4.82491 & 0.695642 & 4.03621e-12 & 7  \\\\\n",
       "\t asthma & t2d & NaN     & NaN      & NaN         & NaN\\\\\n",
       "\\end{tabular}\n",
       "\n",
       "\\item[\\$snp\\_effect] A matrix: 7 × 13 of type chr\n",
       "\\begin{tabular}{r|lllllllllllll}\n",
       "\tstrbuf & 7:28213499\\_TAAAAAAAAAAAAAA\\_T & 1 & 0 & NA & T  & TAAAAAAAAAAAAAA & 0.039207 & -0.0157897  & 0.00277328 & 0.0127581    & 0.0197258  & -0.0864612 & 0.027165 \\\\\n",
       "\tstrbuf & rs10275982                   & 1 & 0 & NA & A  & C               & 0.337556 & -0.00658053 & 0.00105114 & 0.00146841   & 0.00747687 & -0.0238996 & 0.0106069\\\\\n",
       "\tstrbuf & rs11448038                   & 1 & 0 & NA & TA & T               & 0.550049 & 0.00730479  & 0.00107761 & 0.0373388    & 0.00765055 & 0.0648301  & 0.0108398\\\\\n",
       "\tstrbuf & rs11763181                   & 1 & 0 & NA & G  & T               & 0.932679 & -0.0112937  & 0.00198594 & -0.00103321  & 0.0141235  & -0.0558825 & 0.0204014\\\\\n",
       "\tstrbuf & rs552707                     & 1 & 0 & NA & C  & T               & 0.704436 & 0.013811    & 0.0010836  & -0.000808671 & 0.00771348 & 0.0616489  & 0.0108266\\\\\n",
       "\tstrbuf & rs55901351                   & 1 & 0 & NA & T  & C               & 0.043161 & -0.0137131  & 0.0024832  & -0.00950145  & 0.0176564  & -0.0238387 & 0.0251576\\\\\n",
       "\tstrbuf & rs6963719                    & 1 & 0 & NA & T  & C               & 0.73644  & 0.00845343  & 0.00112294 & 0.0256037    & 0.007958   & 0.0301114  & 0.0112592\\\\\n",
       "\\end{tabular}\n",
       "\n",
       "\\end{description}\n"
      ],
      "text/markdown": [
       "$pheno\n",
       ":   1. '2'\n",
       "2. '1'\n",
       "3. 'waist'\n",
       "4. 'asthma'\n",
       "5. 't2d'\n",
       "\n",
       "\n",
       "\n",
       "$bxy_result\n",
       ":   \n",
       "A matrix: 2 × 6 of type chr\n",
       "\n",
       "| Exposure | Outcome | bxy | se | p | n_snps |\n",
       "|---|---|---|---|---|---|\n",
       "| waist  | t2d | 4.82491 | 0.695642 | 4.03621e-12 | 7   |\n",
       "| asthma | t2d | NaN     | NaN      | NaN         | NaN |\n",
       "\n",
       "\n",
       "$snp_effect\n",
       ":   \n",
       "A matrix: 7 × 13 of type chr\n",
       "\n",
       "| strbuf | 7:28213499_TAAAAAAAAAAAAAA_T | 1 | 0 | NA | T  | TAAAAAAAAAAAAAA | 0.039207 | -0.0157897  | 0.00277328 | 0.0127581    | 0.0197258  | -0.0864612 | 0.027165  |\n",
       "| strbuf | rs10275982                   | 1 | 0 | NA | A  | C               | 0.337556 | -0.00658053 | 0.00105114 | 0.00146841   | 0.00747687 | -0.0238996 | 0.0106069 |\n",
       "| strbuf | rs11448038                   | 1 | 0 | NA | TA | T               | 0.550049 | 0.00730479  | 0.00107761 | 0.0373388    | 0.00765055 | 0.0648301  | 0.0108398 |\n",
       "| strbuf | rs11763181                   | 1 | 0 | NA | G  | T               | 0.932679 | -0.0112937  | 0.00198594 | -0.00103321  | 0.0141235  | -0.0558825 | 0.0204014 |\n",
       "| strbuf | rs552707                     | 1 | 0 | NA | C  | T               | 0.704436 | 0.013811    | 0.0010836  | -0.000808671 | 0.00771348 | 0.0616489  | 0.0108266 |\n",
       "| strbuf | rs55901351                   | 1 | 0 | NA | T  | C               | 0.043161 | -0.0137131  | 0.0024832  | -0.00950145  | 0.0176564  | -0.0238387 | 0.0251576 |\n",
       "| strbuf | rs6963719                    | 1 | 0 | NA | T  | C               | 0.73644  | 0.00845343  | 0.00112294 | 0.0256037    | 0.007958   | 0.0301114  | 0.0112592 |\n",
       "\n",
       "\n",
       "\n",
       "\n"
      ],
      "text/plain": [
       "$pheno\n",
       "[1] \"2\"      \"1\"      \"waist\"  \"asthma\" \"t2d\"   \n",
       "\n",
       "$bxy_result\n",
       "     Exposure Outcome bxy       se         p             n_snps\n",
       "[1,] \"waist\"  \"t2d\"   \"4.82491\" \"0.695642\" \"4.03621e-12\" \"7\"   \n",
       "[2,] \"asthma\" \"t2d\"   \"NaN\"     \"NaN\"      \"NaN\"         \"NaN\" \n",
       "\n",
       "$snp_effect\n",
       "       [,1]                           [,2] [,3] [,4] [,5] [,6]             \n",
       "strbuf \"7:28213499_TAAAAAAAAAAAAAA_T\" \"1\"  \"0\"  NA   \"T\"  \"TAAAAAAAAAAAAAA\"\n",
       "strbuf \"rs10275982\"                   \"1\"  \"0\"  NA   \"A\"  \"C\"              \n",
       "strbuf \"rs11448038\"                   \"1\"  \"0\"  NA   \"TA\" \"T\"              \n",
       "strbuf \"rs11763181\"                   \"1\"  \"0\"  NA   \"G\"  \"T\"              \n",
       "strbuf \"rs552707\"                     \"1\"  \"0\"  NA   \"C\"  \"T\"              \n",
       "strbuf \"rs55901351\"                   \"1\"  \"0\"  NA   \"T\"  \"C\"              \n",
       "strbuf \"rs6963719\"                    \"1\"  \"0\"  NA   \"T\"  \"C\"              \n",
       "       [,7]       [,8]          [,9]         [,10]          [,11]       \n",
       "strbuf \"0.039207\" \"-0.0157897\"  \"0.00277328\" \"0.0127581\"    \"0.0197258\" \n",
       "strbuf \"0.337556\" \"-0.00658053\" \"0.00105114\" \"0.00146841\"   \"0.00747687\"\n",
       "strbuf \"0.550049\" \"0.00730479\"  \"0.00107761\" \"0.0373388\"    \"0.00765055\"\n",
       "strbuf \"0.932679\" \"-0.0112937\"  \"0.00198594\" \"-0.00103321\"  \"0.0141235\" \n",
       "strbuf \"0.704436\" \"0.013811\"    \"0.0010836\"  \"-0.000808671\" \"0.00771348\"\n",
       "strbuf \"0.043161\" \"-0.0137131\"  \"0.0024832\"  \"-0.00950145\"  \"0.0176564\" \n",
       "strbuf \"0.73644\"  \"0.00845343\"  \"0.00112294\" \"0.0256037\"    \"0.007958\"  \n",
       "       [,12]        [,13]      \n",
       "strbuf \"-0.0864612\" \"0.027165\" \n",
       "strbuf \"-0.0238996\" \"0.0106069\"\n",
       "strbuf \"0.0648301\"  \"0.0108398\"\n",
       "strbuf \"-0.0558825\" \"0.0204014\"\n",
       "strbuf \"0.0616489\"  \"0.0108266\"\n",
       "strbuf \"-0.0238387\" \"0.0251576\"\n",
       "strbuf \"0.0301114\"  \"0.0112592\"\n"
      ]
     },
     "metadata": {},
     "output_type": "display_data"
    }
   ],
   "source": [
    "head(gsmr_data)"
   ]
  },
  {
   "cell_type": "markdown",
   "id": "3f27202f-e2c0-4edb-8d37-84029b628bb4",
   "metadata": {},
   "source": [
    "## Repeat the analyses with the updated sumstats\n",
    "\n",
    "The results are the same, only the association between waist and t2d can be done if the p value threshhold is 5e-08"
   ]
  },
  {
   "cell_type": "code",
   "execution_count": null,
   "id": "e0ae46e9-3684-49f9-8792-81f7a72051f0",
   "metadata": {},
   "outputs": [],
   "source": [
    "# GSMR waist_t2d\n",
    "module load GCTA/1.93.3\n",
    "gcta64 --bfile ~/project_bst/pleiotropy/geno/UKB_imputed_chr7_v3\\\n",
    "       --gsmr-file ~/project_bst/pleiotropy/gsmr/t2d_gsmr_exposure.txt ~/project_bst/pleiotropy/gsmr/t2d_gsmr_outcome.txt \n",
    "       --gsmr-direction 0 \\\n",
    "       --effect-plot \\\n",
    "       --clump-r2 0.1 \\\n",
    "       --out waist_t2d_gsmr0 \\\n",
    "       --gsmr-snp-min 5 \\\n",
    "       --out ~/project_bst/pleiotropy/gsmr/waist_t2d_gsmr0"
   ]
  },
  {
   "cell_type": "code",
   "execution_count": null,
   "id": "f6da5714-fbd7-4226-967a-dbe174f4a4f7",
   "metadata": {},
   "outputs": [],
   "source": [
    "Reading GWAS summary data for exposure(s) from [/home/bst2126/project_bst/pleiotropy/gsmr/t2d_gsmr_exposure.txt].\n",
    "Reading GWAS summary data for outcome(s) from [/home/bst2126/project_bst/pleiotropy/gsmr/t2d_gsmr_outcome.txt].\n",
    "126 SNPs genome-wide significant SNPs in common between the exposure(s) and the outcome(s).\n",
    "Filtering out SNPs with multiple alleles or missing value ...\n",
    "126 SNPs are retained after filtering.\n",
    "126 genome-wide significant SNPs with p < 5.0e-08 are in common among the exposure(s), the outcome(s) and the LD reference sample."
   ]
  },
  {
   "cell_type": "code",
   "execution_count": null,
   "id": "70f6826a-9d2a-437e-9fd5-5c094cdef527",
   "metadata": {},
   "outputs": [],
   "source": [
    "Forward GSMR analysis for exposure #1 and outcome #1 ...\n",
    "7 index SNPs are obtained from the clumping analysis with p < 5.0e-08 and LD r2 < 0.10.\n",
    "7 index SNPs are retained after HEIDI-outlier analysis.\n",
    "Forward GSMR analysis for exposure #1 and outcome #1 completed."
   ]
  },
  {
   "cell_type": "code",
   "execution_count": 10,
   "id": "5a44b3ec-eb91-472a-8fd9-46391c5ac151",
   "metadata": {},
   "outputs": [],
   "source": [
    "library(\"gsmr\")\n",
    "setwd(\"~/project_bst/pleiotropy/gsmr\")"
   ]
  },
  {
   "cell_type": "code",
   "execution_count": 12,
   "id": "0f6df808-7f49-46a7-8a19-c6b29c9aa82e",
   "metadata": {},
   "outputs": [
    {
     "name": "stdout",
     "output_type": "stream",
     "text": [
      "[1] 8\n",
      "[1] \"7:28213499_TAAAAAAAAAAAAAA_T\" \"T\"                           \n",
      "[3] \"TAAAAAAAAAAAAAA\"              \"0.039226\"                    \n",
      "[5] \"-0.0158933\"                   \"0.00279364\"                  \n",
      "[7] \"-0.0874312\"                   \"0.0270446\"                   \n",
      "[1] 8\n",
      "[1] \"rs10275982\"  \"A\"           \"C\"           \"0.337575\"    \"-0.00674933\"\n",
      "[6] \"0.00105907\"  \"-0.0232861\"  \"0.0105652\"  \n",
      "[1] 8\n",
      "[1] \"rs11448038\" \"TA\"         \"T\"          \"0.550241\"   \"0.00734251\"\n",
      "[6] \"0.00108575\" \"0.0643327\"  \"0.010791\"  \n",
      "[1] 8\n",
      "[1] \"rs11763181\" \"G\"          \"T\"          \"0.932675\"   \"-0.0113624\"\n",
      "[6] \"0.00200085\" \"-0.0558798\" \"0.0203279\" \n",
      "[1] 8\n",
      "[1] \"rs552707\"   \"C\"          \"T\"          \"0.704571\"   \"0.0137139\" \n",
      "[6] \"0.00109172\" \"0.0603912\"  \"0.0107819\" \n",
      "[1] 8\n",
      "[1] \"rs55901351\" \"T\"          \"C\"          \"0.043143\"   \"-0.0139155\"\n",
      "[6] \"0.00250225\" \"-0.0227267\" \"0.0250389\" \n",
      "[1] 8\n",
      "[1] \"rs6963719\"  \"T\"          \"C\"          \"0.736491\"   \"0.00853848\"\n",
      "[6] \"0.00113137\" \"0.03057\"    \"0.0112096\" \n"
     ]
    },
    {
     "name": "stderr",
     "output_type": "stream",
     "text": [
      "\n",
      "## Exposure and outcome\n",
      "\n",
      "1 exposure(s): waist\n",
      "\n",
      "1 outcome(s): t2d\n",
      "\n",
      "\n",
      "## GSMR result\n",
      "\n"
     ]
    },
    {
     "name": "stdout",
     "output_type": "stream",
     "text": [
      "  Exposure Outcome     bxy       se           p n_snps\n",
      "1    waist     t2d 4.74769 0.690623 6.22094e-12      7\n"
     ]
    },
    {
     "data": {
      "image/png": "[encoded data removed]",
      "text/plain": [
       "plot without title"
      ]
     },
     "metadata": {
      "image/png": {
       "height": 420,
       "width": 420
      }
     },
     "output_type": "display_data"
    }
   ],
   "source": [
    "source(\"gsmr_plot.r\")\n",
    "gsmr_data = read_gsmr_data(\"waist_t2d_gsmr0.eff_plot.gz\")\n",
    "gsmr_summary(gsmr_data)      # show a summary of the data\n",
    "plot_gsmr_effect(gsmr_data, \"waist\", \"t2d\", colors()[74]) "
   ]
  },
  {
   "cell_type": "code",
   "execution_count": 13,
   "id": "60b78a02-05ed-434c-b300-7eedf2da43bc",
   "metadata": {},
   "outputs": [
    {
     "data": {
      "text/html": [
       "<dl>\n",
       "\t<dt>$pheno</dt>\n",
       "\t\t<dd><style>\n",
       ".list-inline {list-style: none; margin:0; padding: 0}\n",
       ".list-inline>li {display: inline-block}\n",
       ".list-inline>li:not(:last-child)::after {content: \"\\00b7\"; padding: 0 .5ex}\n",
       "</style>\n",
       "<ol class=list-inline><li>'1'</li><li>'1'</li><li>'waist'</li><li>'t2d'</li></ol>\n",
       "</dd>\n",
       "\t<dt>$bxy_result</dt>\n",
       "\t\t<dd><table class=\"dataframe\">\n",
       "<caption>A matrix: 1 × 6 of type chr</caption>\n",
       "<thead>\n",
       "\t<tr><th scope=col>Exposure</th><th scope=col>Outcome</th><th scope=col>bxy</th><th scope=col>se</th><th scope=col>p</th><th scope=col>n_snps</th></tr>\n",
       "</thead>\n",
       "<tbody>\n",
       "\t<tr><td>waist</td><td>t2d</td><td>4.74769</td><td>0.690623</td><td>6.22094e-12</td><td>7</td></tr>\n",
       "</tbody>\n",
       "</table>\n",
       "</dd>\n",
       "\t<dt>$snp_effect</dt>\n",
       "\t\t<dd><table class=\"dataframe\">\n",
       "<caption>A matrix: 7 × 10 of type chr</caption>\n",
       "<tbody>\n",
       "\t<tr><th scope=row>strbuf</th><td>7:28213499_TAAAAAAAAAAAAAA_T</td><td>1</td><td>NA</td><td>T </td><td>TAAAAAAAAAAAAAA</td><td>0.039226</td><td>-0.0158933 </td><td>0.00279364</td><td>-0.0874312</td><td>0.0270446</td></tr>\n",
       "\t<tr><th scope=row>strbuf</th><td>rs10275982                  </td><td>1</td><td>NA</td><td>A </td><td>C              </td><td>0.337575</td><td>-0.00674933</td><td>0.00105907</td><td>-0.0232861</td><td>0.0105652</td></tr>\n",
       "\t<tr><th scope=row>strbuf</th><td>rs11448038                  </td><td>1</td><td>NA</td><td>TA</td><td>T              </td><td>0.550241</td><td>0.00734251 </td><td>0.00108575</td><td>0.0643327 </td><td>0.010791 </td></tr>\n",
       "\t<tr><th scope=row>strbuf</th><td>rs11763181                  </td><td>1</td><td>NA</td><td>G </td><td>T              </td><td>0.932675</td><td>-0.0113624 </td><td>0.00200085</td><td>-0.0558798</td><td>0.0203279</td></tr>\n",
       "\t<tr><th scope=row>strbuf</th><td>rs552707                    </td><td>1</td><td>NA</td><td>C </td><td>T              </td><td>0.704571</td><td>0.0137139  </td><td>0.00109172</td><td>0.0603912 </td><td>0.0107819</td></tr>\n",
       "\t<tr><th scope=row>strbuf</th><td>rs55901351                  </td><td>1</td><td>NA</td><td>T </td><td>C              </td><td>0.043143</td><td>-0.0139155 </td><td>0.00250225</td><td>-0.0227267</td><td>0.0250389</td></tr>\n",
       "\t<tr><th scope=row>strbuf</th><td>rs6963719                   </td><td>1</td><td>NA</td><td>T </td><td>C              </td><td>0.736491</td><td>0.00853848 </td><td>0.00113137</td><td>0.03057   </td><td>0.0112096</td></tr>\n",
       "</tbody>\n",
       "</table>\n",
       "</dd>\n",
       "</dl>\n"
      ],
      "text/latex": [
       "\\begin{description}\n",
       "\\item[\\$pheno] \\begin{enumerate*}\n",
       "\\item '1'\n",
       "\\item '1'\n",
       "\\item 'waist'\n",
       "\\item 't2d'\n",
       "\\end{enumerate*}\n",
       "\n",
       "\\item[\\$bxy\\_result] A matrix: 1 × 6 of type chr\n",
       "\\begin{tabular}{llllll}\n",
       " Exposure & Outcome & bxy & se & p & n\\_snps\\\\\n",
       "\\hline\n",
       "\t waist & t2d & 4.74769 & 0.690623 & 6.22094e-12 & 7\\\\\n",
       "\\end{tabular}\n",
       "\n",
       "\\item[\\$snp\\_effect] A matrix: 7 × 10 of type chr\n",
       "\\begin{tabular}{r|llllllllll}\n",
       "\tstrbuf & 7:28213499\\_TAAAAAAAAAAAAAA\\_T & 1 & NA & T  & TAAAAAAAAAAAAAA & 0.039226 & -0.0158933  & 0.00279364 & -0.0874312 & 0.0270446\\\\\n",
       "\tstrbuf & rs10275982                   & 1 & NA & A  & C               & 0.337575 & -0.00674933 & 0.00105907 & -0.0232861 & 0.0105652\\\\\n",
       "\tstrbuf & rs11448038                   & 1 & NA & TA & T               & 0.550241 & 0.00734251  & 0.00108575 & 0.0643327  & 0.010791 \\\\\n",
       "\tstrbuf & rs11763181                   & 1 & NA & G  & T               & 0.932675 & -0.0113624  & 0.00200085 & -0.0558798 & 0.0203279\\\\\n",
       "\tstrbuf & rs552707                     & 1 & NA & C  & T               & 0.704571 & 0.0137139   & 0.00109172 & 0.0603912  & 0.0107819\\\\\n",
       "\tstrbuf & rs55901351                   & 1 & NA & T  & C               & 0.043143 & -0.0139155  & 0.00250225 & -0.0227267 & 0.0250389\\\\\n",
       "\tstrbuf & rs6963719                    & 1 & NA & T  & C               & 0.736491 & 0.00853848  & 0.00113137 & 0.03057    & 0.0112096\\\\\n",
       "\\end{tabular}\n",
       "\n",
       "\\end{description}\n"
      ],
      "text/markdown": [
       "$pheno\n",
       ":   1. '1'\n",
       "2. '1'\n",
       "3. 'waist'\n",
       "4. 't2d'\n",
       "\n",
       "\n",
       "\n",
       "$bxy_result\n",
       ":   \n",
       "A matrix: 1 × 6 of type chr\n",
       "\n",
       "| Exposure | Outcome | bxy | se | p | n_snps |\n",
       "|---|---|---|---|---|---|\n",
       "| waist | t2d | 4.74769 | 0.690623 | 6.22094e-12 | 7 |\n",
       "\n",
       "\n",
       "$snp_effect\n",
       ":   \n",
       "A matrix: 7 × 10 of type chr\n",
       "\n",
       "| strbuf | 7:28213499_TAAAAAAAAAAAAAA_T | 1 | NA | T  | TAAAAAAAAAAAAAA | 0.039226 | -0.0158933  | 0.00279364 | -0.0874312 | 0.0270446 |\n",
       "| strbuf | rs10275982                   | 1 | NA | A  | C               | 0.337575 | -0.00674933 | 0.00105907 | -0.0232861 | 0.0105652 |\n",
       "| strbuf | rs11448038                   | 1 | NA | TA | T               | 0.550241 | 0.00734251  | 0.00108575 | 0.0643327  | 0.010791  |\n",
       "| strbuf | rs11763181                   | 1 | NA | G  | T               | 0.932675 | -0.0113624  | 0.00200085 | -0.0558798 | 0.0203279 |\n",
       "| strbuf | rs552707                     | 1 | NA | C  | T               | 0.704571 | 0.0137139   | 0.00109172 | 0.0603912  | 0.0107819 |\n",
       "| strbuf | rs55901351                   | 1 | NA | T  | C               | 0.043143 | -0.0139155  | 0.00250225 | -0.0227267 | 0.0250389 |\n",
       "| strbuf | rs6963719                    | 1 | NA | T  | C               | 0.736491 | 0.00853848  | 0.00113137 | 0.03057    | 0.0112096 |\n",
       "\n",
       "\n",
       "\n",
       "\n"
      ],
      "text/plain": [
       "$pheno\n",
       "[1] \"1\"     \"1\"     \"waist\" \"t2d\"  \n",
       "\n",
       "$bxy_result\n",
       "     Exposure Outcome bxy       se         p             n_snps\n",
       "[1,] \"waist\"  \"t2d\"   \"4.74769\" \"0.690623\" \"6.22094e-12\" \"7\"   \n",
       "\n",
       "$snp_effect\n",
       "       [,1]                           [,2] [,3] [,4] [,5]             \n",
       "strbuf \"7:28213499_TAAAAAAAAAAAAAA_T\" \"1\"  NA   \"T\"  \"TAAAAAAAAAAAAAA\"\n",
       "strbuf \"rs10275982\"                   \"1\"  NA   \"A\"  \"C\"              \n",
       "strbuf \"rs11448038\"                   \"1\"  NA   \"TA\" \"T\"              \n",
       "strbuf \"rs11763181\"                   \"1\"  NA   \"G\"  \"T\"              \n",
       "strbuf \"rs552707\"                     \"1\"  NA   \"C\"  \"T\"              \n",
       "strbuf \"rs55901351\"                   \"1\"  NA   \"T\"  \"C\"              \n",
       "strbuf \"rs6963719\"                    \"1\"  NA   \"T\"  \"C\"              \n",
       "       [,6]       [,7]          [,8]         [,9]         [,10]      \n",
       "strbuf \"0.039226\" \"-0.0158933\"  \"0.00279364\" \"-0.0874312\" \"0.0270446\"\n",
       "strbuf \"0.337575\" \"-0.00674933\" \"0.00105907\" \"-0.0232861\" \"0.0105652\"\n",
       "strbuf \"0.550241\" \"0.00734251\"  \"0.00108575\" \"0.0643327\"  \"0.010791\" \n",
       "strbuf \"0.932675\" \"-0.0113624\"  \"0.00200085\" \"-0.0558798\" \"0.0203279\"\n",
       "strbuf \"0.704571\" \"0.0137139\"   \"0.00109172\" \"0.0603912\"  \"0.0107819\"\n",
       "strbuf \"0.043143\" \"-0.0139155\"  \"0.00250225\" \"-0.0227267\" \"0.0250389\"\n",
       "strbuf \"0.736491\" \"0.00853848\"  \"0.00113137\" \"0.03057\"    \"0.0112096\"\n"
      ]
     },
     "metadata": {},
     "output_type": "display_data"
    }
   ],
   "source": [
    "head(gsmr_data)"
   ]
  },
  {
   "cell_type": "markdown",
   "id": "c75640ce-3de4-4fca-a9f7-2df23e58fba4",
   "metadata": {},
   "source": [
    "## Modify the the p value to threhold up to 5e-05"
   ]
  },
  {
   "cell_type": "markdown",
   "id": "ab418f8a-3dfb-4194-929f-2eabdae4ed94",
   "metadata": {},
   "source": [
    "## Waist vs t2d"
   ]
  },
  {
   "cell_type": "code",
   "execution_count": 8,
   "id": "f5cbb105-d66b-49f6-b1d1-036645278b90",
   "metadata": {},
   "outputs": [
    {
     "name": "stdout",
     "output_type": "stream",
     "text": [
      "[1] 8\n",
      "[1] \"rs10275982\" \"A\"          \"C\"          \"0.337575\"   \"0.00674933\"\n",
      "[6] \"0.00105907\" \"0.0232861\"  \"0.0105652\" \n",
      "[1] 8\n",
      "[1] \"rs113568287\" \"G\"           \"T\"           \"0.019327\"    \"0.0178602\"  \n",
      "[6] \"0.00371564\"  \"0.110902\"    \"0.0355717\"  \n",
      "[1] 8\n",
      "[1] \"rs11763181\" \"T\"          \"G\"          \"0.0673248\"  \"-0.0113624\"\n",
      "[6] \"0.00200085\" \"-0.0558798\" \"0.0203279\" \n",
      "[1] 8\n",
      "[1] \"rs552707\"   \"T\"          \"C\"          \"0.295429\"   \"0.0137139\" \n",
      "[6] \"0.00109172\" \"0.0603912\"  \"0.0107819\" \n",
      "[1] 8\n",
      "[1] \"rs55901351\" \"T\"          \"C\"          \"0.043143\"   \"0.0139155\" \n",
      "[6] \"0.00250225\" \"0.0227267\"  \"0.0250389\" \n",
      "[1] 8\n",
      "[1] \"rs62449929\"  \"A\"           \"G\"           \"0.166346\"    \"-0.00601634\"\n",
      "[6] \"0.00133588\"  \"-0.0157505\"  \"0.0133041\"  \n",
      "[1] 8\n",
      "[1] \"rs6963719\"  \"C\"          \"T\"          \"0.263509\"   \"0.00853848\"\n",
      "[6] \"0.00113137\" \"0.03057\"    \"0.0112096\" \n"
     ]
    },
    {
     "name": "stderr",
     "output_type": "stream",
     "text": [
      "\n",
      "## Exposure and outcome\n",
      "\n",
      "1 exposure(s): waist\n",
      "\n",
      "1 outcome(s): t2d\n",
      "\n",
      "\n",
      "## GSMR result\n",
      "\n"
     ]
    },
    {
     "name": "stdout",
     "output_type": "stream",
     "text": [
      "  Exposure Outcome     bxy       se           p n_snps\n",
      "1    waist     t2d 4.13425 0.671978 7.63346e-10      7\n"
     ]
    },
    {
     "data": {
      "image/png": "[encoded data removed]",
      "text/plain": [
       "plot without title"
      ]
     },
     "metadata": {
      "image/png": {
       "height": 420,
       "width": 420
      }
     },
     "output_type": "display_data"
    }
   ],
   "source": [
    "gsmr_data = read_gsmr_data(\"~/project_bst/pleiotropy/gsmr2/waist_t2d_gsmr2.eff_plot.gz\")\n",
    "gsmr_summary(gsmr_data)      # show a summary of the data\n",
    "plot_gsmr_effect(gsmr_data, \"waist\", \"t2d\", colors()[74]) "
   ]
  },
  {
   "cell_type": "code",
   "execution_count": null,
   "id": "3cd1e240-761c-407f-b95c-f9d358bfda05",
   "metadata": {},
   "outputs": [],
   "source": []
  },
  {
   "cell_type": "markdown",
   "id": "2b1d791f-9714-4c3f-a424-91d1466303ce",
   "metadata": {},
   "source": [
    "## Asthma vs t2d"
   ]
  },
  {
   "cell_type": "code",
   "execution_count": 1,
   "id": "073ba20e-b4fb-47bf-bb27-2342e9ff912a",
   "metadata": {},
   "outputs": [],
   "source": [
    "library(\"gsmr\")\n",
    "setwd(\"~/project_bst/pleiotropy/gsmr/gsmr_result\")\n",
    "source(\"~/project_bst/pleiotropy/gsmr/gsmr_plot.r\")"
   ]
  },
  {
   "cell_type": "code",
   "execution_count": 3,
   "id": "d1d19572-1567-4c9e-b395-9b12c0ab25ee",
   "metadata": {},
   "outputs": [
    {
     "name": "stdout",
     "output_type": "stream",
     "text": [
      "[1] 8\n",
      "[1] \"7:28168745_GTCTT_G\" \"G\"                  \"GTCTT\"             \n",
      "[4] \"0.208401\"           \"-0.066065\"          \"0.00854986\"        \n",
      "[7] \"-0.0574497\"         \"0.0120596\"         \n",
      "[1] 8\n",
      "[1] \"7:28220442_GC_G\" \"G\"               \"GC\"              \"0.489124\"       \n",
      "[5] \"0.0358269\"       \"0.00756831\"      \"0.0599062\"       \"0.010673\"       \n",
      "[1] 8\n",
      "[1] \"7:28238276_CT_C\" \"C\"               \"CT\"              \"0.130109\"       \n",
      "[5] \"-0.0545137\"      \"0.0113213\"       \"-0.0355087\"      \"0.0161995\"      \n",
      "[1] 8\n",
      "[1] \"rs10226758\" \"C\"          \"A\"          \"0.34418\"    \"-0.0366323\"\n",
      "[6] \"0.00822957\" \"-0.0223983\" \"0.0116617\" \n",
      "[1] 8\n",
      "[1] \"rs10260837\" \"T\"          \"C\"          \"0.114763\"   \"-0.0468162\"\n",
      "[6] \"0.0108969\"  \"-0.0516\"    \"0.0153189\" \n",
      "[1] 8\n",
      "[1] \"rs11448038\" \"TA\"         \"T\"          \"0.550279\"   \"0.036878\"  \n",
      "[6] \"0.00765695\" \"0.0643327\"  \"0.010791\"  \n",
      "[1] 8\n",
      "[1] \"rs11767776\" \"T\"          \"G\"          \"0.651347\"   \"0.0400554\" \n",
      "[6] \"0.00734949\" \"0.0522301\"  \"0.0103465\" \n",
      "[1] 8\n",
      "[1] \"rs13247499\" \"A\"          \"C\"          \"0.090871\"   \"-0.0622232\"\n",
      "[6] \"0.0120685\"  \"-0.0262857\" \"0.0173101\" \n",
      "[1] 8\n",
      "[1] \"rs151265501\" \"G\"           \"GAA\"         \"0.09096\"     \"-0.0605599\" \n",
      "[6] \"0.0128042\"   \"-0.0515486\"  \"0.0180555\"  \n",
      "[1] 8\n",
      "[1] \"rs2015027\"  \"T\"          \"C\"          \"0.111157\"   \"-0.0575823\"\n",
      "[6] \"0.0111033\"  \"-0.0220017\" \"0.0159009\" \n",
      "[1] 8\n",
      "[1] \"rs78823938\" \"A\"          \"G\"          \"0.079244\"   \"-0.061297\" \n",
      "[6] \"0.012841\"   \"-0.0654648\" \"0.0180692\" \n"
     ]
    },
    {
     "name": "stderr",
     "output_type": "stream",
     "text": [
      "\n",
      "## Exposure and outcome\n",
      "\n",
      "1 exposure(s): asthma\n",
      "\n",
      "1 outcome(s): t2d\n",
      "\n",
      "\n",
      "## GSMR result\n",
      "\n"
     ]
    },
    {
     "name": "stdout",
     "output_type": "stream",
     "text": [
      "  Exposure Outcome      bxy       se           p n_snps\n",
      "1   asthma     t2d 0.977844 0.197145 7.04857e-07     11\n"
     ]
    },
    {
     "data": {
      "image/png": "[encoded data removed]",
      "text/plain": [
       "plot without title"
      ]
     },
     "metadata": {
      "image/png": {
       "height": 420,
       "width": 420
      }
     },
     "output_type": "display_data"
    }
   ],
   "source": [
    "\n",
    "gsmr_data = read_gsmr_data(\"asthma_t2d_gsmr0.eff_plot.gz\")\n",
    "gsmr_summary(gsmr_data)      # show a summary of the data\n",
    "plot_gsmr_effect(gsmr_data, \"asthma\", \"t2d\", colors()[74]) "
   ]
  },
  {
   "cell_type": "code",
   "execution_count": 4,
   "id": "b7a75e8d-9d2f-4961-baaf-045dbcc6ca78",
   "metadata": {},
   "outputs": [
    {
     "data": {
      "text/html": [
       "<dl>\n",
       "\t<dt>$pheno</dt>\n",
       "\t\t<dd><style>\n",
       ".list-inline {list-style: none; margin:0; padding: 0}\n",
       ".list-inline>li {display: inline-block}\n",
       ".list-inline>li:not(:last-child)::after {content: \"\\00b7\"; padding: 0 .5ex}\n",
       "</style>\n",
       "<ol class=list-inline><li>'1'</li><li>'1'</li><li>'asthma'</li><li>'t2d'</li></ol>\n",
       "</dd>\n",
       "\t<dt>$bxy_result</dt>\n",
       "\t\t<dd><table class=\"dataframe\">\n",
       "<caption>A matrix: 1 × 6 of type chr</caption>\n",
       "<thead>\n",
       "\t<tr><th scope=col>Exposure</th><th scope=col>Outcome</th><th scope=col>bxy</th><th scope=col>se</th><th scope=col>p</th><th scope=col>n_snps</th></tr>\n",
       "</thead>\n",
       "<tbody>\n",
       "\t<tr><td>asthma</td><td>t2d</td><td>0.977844</td><td>0.197145</td><td>7.04857e-07</td><td>11</td></tr>\n",
       "</tbody>\n",
       "</table>\n",
       "</dd>\n",
       "\t<dt>$snp_effect</dt>\n",
       "\t\t<dd><table class=\"dataframe\">\n",
       "<caption>A matrix: 11 × 10 of type chr</caption>\n",
       "<tbody>\n",
       "\t<tr><th scope=row>strbuf</th><td>7:28168745_GTCTT_G</td><td>1</td><td>NA</td><td>G </td><td>GTCTT</td><td>0.208401</td><td>-0.066065 </td><td>0.00854986</td><td>-0.0574497</td><td>0.0120596</td></tr>\n",
       "\t<tr><th scope=row>strbuf</th><td>7:28220442_GC_G   </td><td>1</td><td>NA</td><td>G </td><td>GC   </td><td>0.489124</td><td>0.0358269 </td><td>0.00756831</td><td>0.0599062 </td><td>0.010673 </td></tr>\n",
       "\t<tr><th scope=row>strbuf</th><td>7:28238276_CT_C   </td><td>1</td><td>NA</td><td>C </td><td>CT   </td><td>0.130109</td><td>-0.0545137</td><td>0.0113213 </td><td>-0.0355087</td><td>0.0161995</td></tr>\n",
       "\t<tr><th scope=row>strbuf</th><td>rs10226758        </td><td>1</td><td>NA</td><td>C </td><td>A    </td><td>0.34418 </td><td>-0.0366323</td><td>0.00822957</td><td>-0.0223983</td><td>0.0116617</td></tr>\n",
       "\t<tr><th scope=row>strbuf</th><td>rs10260837        </td><td>1</td><td>NA</td><td>T </td><td>C    </td><td>0.114763</td><td>-0.0468162</td><td>0.0108969 </td><td>-0.0516   </td><td>0.0153189</td></tr>\n",
       "\t<tr><th scope=row>strbuf</th><td>rs11448038        </td><td>1</td><td>NA</td><td>TA</td><td>T    </td><td>0.550279</td><td>0.036878  </td><td>0.00765695</td><td>0.0643327 </td><td>0.010791 </td></tr>\n",
       "\t<tr><th scope=row>strbuf</th><td>rs11767776        </td><td>1</td><td>NA</td><td>T </td><td>G    </td><td>0.651347</td><td>0.0400554 </td><td>0.00734949</td><td>0.0522301 </td><td>0.0103465</td></tr>\n",
       "\t<tr><th scope=row>strbuf</th><td>rs13247499        </td><td>1</td><td>NA</td><td>A </td><td>C    </td><td>0.090871</td><td>-0.0622232</td><td>0.0120685 </td><td>-0.0262857</td><td>0.0173101</td></tr>\n",
       "\t<tr><th scope=row>strbuf</th><td>rs151265501       </td><td>1</td><td>NA</td><td>G </td><td>GAA  </td><td>0.09096 </td><td>-0.0605599</td><td>0.0128042 </td><td>-0.0515486</td><td>0.0180555</td></tr>\n",
       "\t<tr><th scope=row>strbuf</th><td>rs2015027         </td><td>1</td><td>NA</td><td>T </td><td>C    </td><td>0.111157</td><td>-0.0575823</td><td>0.0111033 </td><td>-0.0220017</td><td>0.0159009</td></tr>\n",
       "\t<tr><th scope=row>strbuf</th><td>rs78823938        </td><td>1</td><td>NA</td><td>A </td><td>G    </td><td>0.079244</td><td>-0.061297 </td><td>0.012841  </td><td>-0.0654648</td><td>0.0180692</td></tr>\n",
       "</tbody>\n",
       "</table>\n",
       "</dd>\n",
       "</dl>\n"
      ],
      "text/latex": [
       "\\begin{description}\n",
       "\\item[\\$pheno] \\begin{enumerate*}\n",
       "\\item '1'\n",
       "\\item '1'\n",
       "\\item 'asthma'\n",
       "\\item 't2d'\n",
       "\\end{enumerate*}\n",
       "\n",
       "\\item[\\$bxy\\_result] A matrix: 1 × 6 of type chr\n",
       "\\begin{tabular}{llllll}\n",
       " Exposure & Outcome & bxy & se & p & n\\_snps\\\\\n",
       "\\hline\n",
       "\t asthma & t2d & 0.977844 & 0.197145 & 7.04857e-07 & 11\\\\\n",
       "\\end{tabular}\n",
       "\n",
       "\\item[\\$snp\\_effect] A matrix: 11 × 10 of type chr\n",
       "\\begin{tabular}{r|llllllllll}\n",
       "\tstrbuf & 7:28168745\\_GTCTT\\_G & 1 & NA & G  & GTCTT & 0.208401 & -0.066065  & 0.00854986 & -0.0574497 & 0.0120596\\\\\n",
       "\tstrbuf & 7:28220442\\_GC\\_G    & 1 & NA & G  & GC    & 0.489124 & 0.0358269  & 0.00756831 & 0.0599062  & 0.010673 \\\\\n",
       "\tstrbuf & 7:28238276\\_CT\\_C    & 1 & NA & C  & CT    & 0.130109 & -0.0545137 & 0.0113213  & -0.0355087 & 0.0161995\\\\\n",
       "\tstrbuf & rs10226758         & 1 & NA & C  & A     & 0.34418  & -0.0366323 & 0.00822957 & -0.0223983 & 0.0116617\\\\\n",
       "\tstrbuf & rs10260837         & 1 & NA & T  & C     & 0.114763 & -0.0468162 & 0.0108969  & -0.0516    & 0.0153189\\\\\n",
       "\tstrbuf & rs11448038         & 1 & NA & TA & T     & 0.550279 & 0.036878   & 0.00765695 & 0.0643327  & 0.010791 \\\\\n",
       "\tstrbuf & rs11767776         & 1 & NA & T  & G     & 0.651347 & 0.0400554  & 0.00734949 & 0.0522301  & 0.0103465\\\\\n",
       "\tstrbuf & rs13247499         & 1 & NA & A  & C     & 0.090871 & -0.0622232 & 0.0120685  & -0.0262857 & 0.0173101\\\\\n",
       "\tstrbuf & rs151265501        & 1 & NA & G  & GAA   & 0.09096  & -0.0605599 & 0.0128042  & -0.0515486 & 0.0180555\\\\\n",
       "\tstrbuf & rs2015027          & 1 & NA & T  & C     & 0.111157 & -0.0575823 & 0.0111033  & -0.0220017 & 0.0159009\\\\\n",
       "\tstrbuf & rs78823938         & 1 & NA & A  & G     & 0.079244 & -0.061297  & 0.012841   & -0.0654648 & 0.0180692\\\\\n",
       "\\end{tabular}\n",
       "\n",
       "\\end{description}\n"
      ],
      "text/markdown": [
       "$pheno\n",
       ":   1. '1'\n",
       "2. '1'\n",
       "3. 'asthma'\n",
       "4. 't2d'\n",
       "\n",
       "\n",
       "\n",
       "$bxy_result\n",
       ":   \n",
       "A matrix: 1 × 6 of type chr\n",
       "\n",
       "| Exposure | Outcome | bxy | se | p | n_snps |\n",
       "|---|---|---|---|---|---|\n",
       "| asthma | t2d | 0.977844 | 0.197145 | 7.04857e-07 | 11 |\n",
       "\n",
       "\n",
       "$snp_effect\n",
       ":   \n",
       "A matrix: 11 × 10 of type chr\n",
       "\n",
       "| strbuf | 7:28168745_GTCTT_G | 1 | NA | G  | GTCTT | 0.208401 | -0.066065  | 0.00854986 | -0.0574497 | 0.0120596 |\n",
       "| strbuf | 7:28220442_GC_G    | 1 | NA | G  | GC    | 0.489124 | 0.0358269  | 0.00756831 | 0.0599062  | 0.010673  |\n",
       "| strbuf | 7:28238276_CT_C    | 1 | NA | C  | CT    | 0.130109 | -0.0545137 | 0.0113213  | -0.0355087 | 0.0161995 |\n",
       "| strbuf | rs10226758         | 1 | NA | C  | A     | 0.34418  | -0.0366323 | 0.00822957 | -0.0223983 | 0.0116617 |\n",
       "| strbuf | rs10260837         | 1 | NA | T  | C     | 0.114763 | -0.0468162 | 0.0108969  | -0.0516    | 0.0153189 |\n",
       "| strbuf | rs11448038         | 1 | NA | TA | T     | 0.550279 | 0.036878   | 0.00765695 | 0.0643327  | 0.010791  |\n",
       "| strbuf | rs11767776         | 1 | NA | T  | G     | 0.651347 | 0.0400554  | 0.00734949 | 0.0522301  | 0.0103465 |\n",
       "| strbuf | rs13247499         | 1 | NA | A  | C     | 0.090871 | -0.0622232 | 0.0120685  | -0.0262857 | 0.0173101 |\n",
       "| strbuf | rs151265501        | 1 | NA | G  | GAA   | 0.09096  | -0.0605599 | 0.0128042  | -0.0515486 | 0.0180555 |\n",
       "| strbuf | rs2015027          | 1 | NA | T  | C     | 0.111157 | -0.0575823 | 0.0111033  | -0.0220017 | 0.0159009 |\n",
       "| strbuf | rs78823938         | 1 | NA | A  | G     | 0.079244 | -0.061297  | 0.012841   | -0.0654648 | 0.0180692 |\n",
       "\n",
       "\n",
       "\n",
       "\n"
      ],
      "text/plain": [
       "$pheno\n",
       "[1] \"1\"      \"1\"      \"asthma\" \"t2d\"   \n",
       "\n",
       "$bxy_result\n",
       "     Exposure Outcome bxy        se         p             n_snps\n",
       "[1,] \"asthma\" \"t2d\"   \"0.977844\" \"0.197145\" \"7.04857e-07\" \"11\"  \n",
       "\n",
       "$snp_effect\n",
       "       [,1]                 [,2] [,3] [,4] [,5]    [,6]       [,7]        \n",
       "strbuf \"7:28168745_GTCTT_G\" \"1\"  NA   \"G\"  \"GTCTT\" \"0.208401\" \"-0.066065\" \n",
       "strbuf \"7:28220442_GC_G\"    \"1\"  NA   \"G\"  \"GC\"    \"0.489124\" \"0.0358269\" \n",
       "strbuf \"7:28238276_CT_C\"    \"1\"  NA   \"C\"  \"CT\"    \"0.130109\" \"-0.0545137\"\n",
       "strbuf \"rs10226758\"         \"1\"  NA   \"C\"  \"A\"     \"0.34418\"  \"-0.0366323\"\n",
       "strbuf \"rs10260837\"         \"1\"  NA   \"T\"  \"C\"     \"0.114763\" \"-0.0468162\"\n",
       "strbuf \"rs11448038\"         \"1\"  NA   \"TA\" \"T\"     \"0.550279\" \"0.036878\"  \n",
       "strbuf \"rs11767776\"         \"1\"  NA   \"T\"  \"G\"     \"0.651347\" \"0.0400554\" \n",
       "strbuf \"rs13247499\"         \"1\"  NA   \"A\"  \"C\"     \"0.090871\" \"-0.0622232\"\n",
       "strbuf \"rs151265501\"        \"1\"  NA   \"G\"  \"GAA\"   \"0.09096\"  \"-0.0605599\"\n",
       "strbuf \"rs2015027\"          \"1\"  NA   \"T\"  \"C\"     \"0.111157\" \"-0.0575823\"\n",
       "strbuf \"rs78823938\"         \"1\"  NA   \"A\"  \"G\"     \"0.079244\" \"-0.061297\" \n",
       "       [,8]         [,9]         [,10]      \n",
       "strbuf \"0.00854986\" \"-0.0574497\" \"0.0120596\"\n",
       "strbuf \"0.00756831\" \"0.0599062\"  \"0.010673\" \n",
       "strbuf \"0.0113213\"  \"-0.0355087\" \"0.0161995\"\n",
       "strbuf \"0.00822957\" \"-0.0223983\" \"0.0116617\"\n",
       "strbuf \"0.0108969\"  \"-0.0516\"    \"0.0153189\"\n",
       "strbuf \"0.00765695\" \"0.0643327\"  \"0.010791\" \n",
       "strbuf \"0.00734949\" \"0.0522301\"  \"0.0103465\"\n",
       "strbuf \"0.0120685\"  \"-0.0262857\" \"0.0173101\"\n",
       "strbuf \"0.0128042\"  \"-0.0515486\" \"0.0180555\"\n",
       "strbuf \"0.0111033\"  \"-0.0220017\" \"0.0159009\"\n",
       "strbuf \"0.012841\"   \"-0.0654648\" \"0.0180692\"\n"
      ]
     },
     "metadata": {},
     "output_type": "display_data"
    }
   ],
   "source": [
    "head(gsmr_data)"
   ]
  },
  {
   "cell_type": "markdown",
   "id": "e3db1910-191f-41d7-8299-d65e08354cb6",
   "metadata": {},
   "source": [
    "## waist vs t2d"
   ]
  },
  {
   "cell_type": "code",
   "execution_count": 2,
   "id": "5882ff04-8f8d-426b-a8a6-fe2b791622ef",
   "metadata": {},
   "outputs": [
    {
     "name": "stdout",
     "output_type": "stream",
     "text": [
      "[1] 8\n",
      "[1] \"7:27945054_CT_C\" \"C\"               \"CT\"              \"0.93275\"        \n",
      "[5] \"0.0100334\"       \"0.00210073\"      \"0.010264\"        \"0.0208798\"      \n",
      "[1] 8\n",
      "[1] \"7:28174085_CT_C\" \"C\"               \"CT\"              \"0.624225\"       \n",
      "[5] \"-0.0112521\"      \"0.00107171\"      \"-0.0619409\"      \"0.0106291\"      \n",
      "[1] 8\n",
      "[1] \"7:28213499_TAAAAAAAAAAAAAA_T\" \"T\"                           \n",
      "[3] \"TAAAAAAAAAAAAAA\"              \"0.039226\"                    \n",
      "[5] \"0.0158933\"                    \"0.00279364\"                  \n",
      "[7] \"0.0874312\"                    \"0.0270446\"                   \n",
      "[1] 8\n",
      "[1] \"7:28220442_GC_G\" \"G\"               \"GC\"              \"0.489112\"       \n",
      "[5] \"-0.00491049\"     \"0.00107162\"      \"-0.0599062\"      \"0.010673\"       \n",
      "[1] 8\n",
      "[1] \"rs10275982\" \"A\"          \"C\"          \"0.337575\"   \"0.00674933\"\n",
      "[6] \"0.00105907\" \"0.0232861\"  \"0.0105652\" \n",
      "[1] 8\n",
      "[1] \"rs10951191\"  \"A\"           \"C\"           \"0.734871\"    \"-0.00528991\"\n",
      "[6] \"0.00115746\"  \"-0.00839323\" \"0.0115493\"  \n",
      "[1] 8\n",
      "[1] \"rs113568287\" \"G\"           \"T\"           \"0.019327\"    \"0.0178602\"  \n",
      "[6] \"0.00371564\"  \"0.110902\"    \"0.0355717\"  \n",
      "[1] 8\n",
      "[1] \"rs11448038\"  \"TA\"          \"T\"           \"0.550241\"    \"-0.00734251\"\n",
      "[6] \"0.00108575\"  \"-0.0643327\"  \"0.010791\"   \n",
      "[1] 8\n",
      "[1] \"rs11760913\" \"C\"          \"T\"          \"0.528898\"   \"0.00511127\"\n",
      "[6] \"0.00100302\" \"0.0150306\"  \"0.00999892\"\n",
      "[1] 8\n",
      "[1] \"rs11763181\" \"G\"          \"T\"          \"0.932675\"   \"0.0113624\" \n",
      "[6] \"0.00200085\" \"0.0558798\"  \"0.0203279\" \n",
      "[1] 8\n",
      "[1] \"rs12669171\" \"G\"          \"A\"          \"0.197928\"   \"0.00626456\"\n",
      "[6] \"0.00129282\" \"0.0261861\"  \"0.0129241\" \n",
      "[1] 8\n",
      "[1] \"rs150139082\" \"TACAC\"       \"T\"           \"0.74787\"     \"-0.00652433\"\n",
      "[6] \"0.00115443\"  \"-0.0542918\"  \"0.0113906\"  \n",
      "[1] 8\n",
      "[1] \"rs198\"      \"T\"          \"C\"          \"0.862353\"   \"0.00682598\"\n",
      "[6] \"0.00144728\" \"0.045438\"   \"0.0146276\" \n",
      "[1] 8\n",
      "[1] \"rs217\"      \"T\"          \"C\"          \"0.631407\"   \"0.00495402\"\n",
      "[6] \"0.00103524\" \"0.0353873\"  \"0.0103556\" \n",
      "[1] 8\n",
      "[1] \"rs2391496\"   \"T\"           \"C\"           \"0.773442\"    \"-0.00799461\"\n",
      "[6] \"0.00119058\"  \"-0.0500094\"  \"0.0117453\"  \n",
      "[1] 8\n",
      "[1] \"rs28576490\" \"C\"          \"T\"          \"0.249261\"   \"0.00710177\"\n",
      "[6] \"0.00115341\" \"0.0481631\"  \"0.0113927\" \n",
      "[1] 8\n",
      "[1] \"rs35830575\"  \"CT\"          \"C\"           \"0.460592\"    \"-0.00685115\"\n",
      "[6] \"0.00105472\"  \"-0.0520141\"  \"0.0105302\"  \n",
      "[1] 8\n",
      "[1] \"rs552707\"   \"C\"          \"T\"          \"0.704571\"   \"-0.0137139\"\n",
      "[6] \"0.00109172\" \"-0.0603912\" \"0.0107819\" \n",
      "[1] 8\n",
      "[1] \"rs55901351\" \"T\"          \"C\"          \"0.043143\"   \"0.0139155\" \n",
      "[6] \"0.00250225\" \"0.0227267\"  \"0.0250389\" \n",
      "[1] 8\n",
      "[1] \"rs56079286\" \"A\"          \"G\"          \"0.047788\"   \"0.00949376\"\n",
      "[6] \"0.00233771\" \"0.0320608\"  \"0.0233391\" \n",
      "[1] 8\n",
      "[1] \"rs62449929\"  \"A\"           \"G\"           \"0.166346\"    \"-0.00601634\"\n",
      "[6] \"0.00133588\"  \"-0.0157505\"  \"0.0133041\"  \n",
      "[1] 8\n",
      "[1] \"rs6963719\"   \"T\"           \"C\"           \"0.736491\"    \"-0.00853848\"\n",
      "[6] \"0.00113137\"  \"-0.03057\"    \"0.0112096\"  \n",
      "[1] 8\n",
      "[1] \"rs73083396\"  \"A\"           \"C\"           \"0.083239\"    \"-0.00825809\"\n",
      "[6] \"0.00182029\"  \"-0.0360591\"  \"0.0181444\"  \n",
      "[1] 8\n",
      "[1] \"rs73089168\"  \"T\"           \"C\"           \"0.103008\"    \"0.00672198\" \n",
      "[6] \"0.00163987\"  \"5.74948e-05\" \"0.0163692\"  \n",
      "[1] 8\n",
      "[1] \"rs73091056\"  \"A\"           \"G\"           \"0.061852\"    \"-0.00870687\"\n",
      "[6] \"0.00213489\"  \"-0.0256625\"  \"0.0213076\"  \n",
      "[1] 8\n",
      "[1] \"rs73091220\" \"G\"          \"C\"          \"0.151202\"   \"0.0118983\" \n",
      "[6] \"0.00138936\" \"0.0324259\"  \"0.0138546\" \n",
      "[1] 8\n",
      "[1] \"rs7384844\"   \"T\"           \"A\"           \"0.443721\"    \"0.00490425\" \n",
      "[6] \"0.00100417\"  \"-0.00505873\" \"0.0100198\"  \n",
      "[1] 8\n",
      "[1] \"rs75685985\" \"C\"          \"T\"          \"0.030876\"   \"0.0158526\" \n",
      "[6] \"0.00295249\" \"0.0722014\"  \"0.029598\"  \n",
      "[1] 8\n",
      "[1] \"rs78912482\" \"T\"          \"C\"          \"0.047805\"   \"0.00992181\"\n",
      "[6] \"0.00236238\" \"0.00606896\" \"0.0235307\" \n",
      "[1] 8\n",
      "[1] \"rs849328\"   \"A\"          \"C\"          \"0.855613\"   \"-0.0108077\"\n",
      "[6] \"0.00141975\" \"-0.0649381\" \"0.0139059\" \n",
      "[1] 8\n",
      "[1] \"rs849330\"    \"A\"           \"G\"           \"0.0102795\"   \"-0.00837974\"\n",
      "[6] \"0.00103186\"  \"-0.0462282\"  \"0.0102795\"  \n"
     ]
    },
    {
     "name": "stderr",
     "output_type": "stream",
     "text": [
      "\n",
      "## Exposure and outcome\n",
      "\n",
      "1 exposure(s): waist\n",
      "\n",
      "1 outcome(s): t2d\n",
      "\n",
      "\n",
      "## GSMR result\n",
      "\n"
     ]
    },
    {
     "name": "stdout",
     "output_type": "stream",
     "text": [
      "  Exposure Outcome     bxy       se           p n_snps\n",
      "1    waist     t2d 4.44127 0.656177 1.30218e-11     31\n"
     ]
    },
    {
     "data": {
      "image/png": "[encoded data removed]",
      "text/plain": [
       "plot without title"
      ]
     },
     "metadata": {
      "image/png": {
       "height": 420,
       "width": 420
      }
     },
     "output_type": "display_data"
    }
   ],
   "source": [
    "gsmr_data = read_gsmr_data(\"waist_t2d_gsmr0.eff_plot.gz\")\n",
    "gsmr_summary(gsmr_data)      # show a summary of the data\n",
    "plot_gsmr_effect(gsmr_data, \"waist\", \"t2d\", colors()[74]) "
   ]
  },
  {
   "cell_type": "code",
   "execution_count": 3,
   "id": "35b16296-c3da-4eab-8a1a-8f7cfdb03f82",
   "metadata": {},
   "outputs": [
    {
     "data": {
      "text/html": [
       "<dl>\n",
       "\t<dt>$pheno</dt>\n",
       "\t\t<dd><style>\n",
       ".list-inline {list-style: none; margin:0; padding: 0}\n",
       ".list-inline>li {display: inline-block}\n",
       ".list-inline>li:not(:last-child)::after {content: \"\\00b7\"; padding: 0 .5ex}\n",
       "</style>\n",
       "<ol class=list-inline><li>'1'</li><li>'1'</li><li>'waist'</li><li>'t2d'</li></ol>\n",
       "</dd>\n",
       "\t<dt>$bxy_result</dt>\n",
       "\t\t<dd><table class=\"dataframe\">\n",
       "<caption>A matrix: 1 × 6 of type chr</caption>\n",
       "<thead>\n",
       "\t<tr><th scope=col>Exposure</th><th scope=col>Outcome</th><th scope=col>bxy</th><th scope=col>se</th><th scope=col>p</th><th scope=col>n_snps</th></tr>\n",
       "</thead>\n",
       "<tbody>\n",
       "\t<tr><td>waist</td><td>t2d</td><td>4.44127</td><td>0.656177</td><td>1.30218e-11</td><td>31</td></tr>\n",
       "</tbody>\n",
       "</table>\n",
       "</dd>\n",
       "\t<dt>$snp_effect</dt>\n",
       "\t\t<dd><table class=\"dataframe\">\n",
       "<caption>A matrix: 31 × 10 of type chr</caption>\n",
       "<tbody>\n",
       "\t<tr><th scope=row>strbuf</th><td>7:27945054_CT_C             </td><td>1</td><td>NA</td><td>C    </td><td>CT             </td><td>0.93275  </td><td>0.0100334  </td><td>0.00210073</td><td>0.010264   </td><td>0.0208798 </td></tr>\n",
       "\t<tr><th scope=row>strbuf</th><td>7:28174085_CT_C             </td><td>1</td><td>NA</td><td>C    </td><td>CT             </td><td>0.624225 </td><td>-0.0112521 </td><td>0.00107171</td><td>-0.0619409 </td><td>0.0106291 </td></tr>\n",
       "\t<tr><th scope=row>strbuf</th><td>7:28213499_TAAAAAAAAAAAAAA_T</td><td>1</td><td>NA</td><td>T    </td><td>TAAAAAAAAAAAAAA</td><td>0.039226 </td><td>0.0158933  </td><td>0.00279364</td><td>0.0874312  </td><td>0.0270446 </td></tr>\n",
       "\t<tr><th scope=row>strbuf</th><td>7:28220442_GC_G             </td><td>1</td><td>NA</td><td>G    </td><td>GC             </td><td>0.489112 </td><td>-0.00491049</td><td>0.00107162</td><td>-0.0599062 </td><td>0.010673  </td></tr>\n",
       "\t<tr><th scope=row>strbuf</th><td>rs10275982                  </td><td>1</td><td>NA</td><td>A    </td><td>C              </td><td>0.337575 </td><td>0.00674933 </td><td>0.00105907</td><td>0.0232861  </td><td>0.0105652 </td></tr>\n",
       "\t<tr><th scope=row>strbuf</th><td>rs10951191                  </td><td>1</td><td>NA</td><td>A    </td><td>C              </td><td>0.734871 </td><td>-0.00528991</td><td>0.00115746</td><td>-0.00839323</td><td>0.0115493 </td></tr>\n",
       "\t<tr><th scope=row>strbuf</th><td>rs113568287                 </td><td>1</td><td>NA</td><td>G    </td><td>T              </td><td>0.019327 </td><td>0.0178602  </td><td>0.00371564</td><td>0.110902   </td><td>0.0355717 </td></tr>\n",
       "\t<tr><th scope=row>strbuf</th><td>rs11448038                  </td><td>1</td><td>NA</td><td>TA   </td><td>T              </td><td>0.550241 </td><td>-0.00734251</td><td>0.00108575</td><td>-0.0643327 </td><td>0.010791  </td></tr>\n",
       "\t<tr><th scope=row>strbuf</th><td>rs11760913                  </td><td>1</td><td>NA</td><td>C    </td><td>T              </td><td>0.528898 </td><td>0.00511127 </td><td>0.00100302</td><td>0.0150306  </td><td>0.00999892</td></tr>\n",
       "\t<tr><th scope=row>strbuf</th><td>rs11763181                  </td><td>1</td><td>NA</td><td>G    </td><td>T              </td><td>0.932675 </td><td>0.0113624  </td><td>0.00200085</td><td>0.0558798  </td><td>0.0203279 </td></tr>\n",
       "\t<tr><th scope=row>strbuf</th><td>rs12669171                  </td><td>1</td><td>NA</td><td>G    </td><td>A              </td><td>0.197928 </td><td>0.00626456 </td><td>0.00129282</td><td>0.0261861  </td><td>0.0129241 </td></tr>\n",
       "\t<tr><th scope=row>strbuf</th><td>rs150139082                 </td><td>1</td><td>NA</td><td>TACAC</td><td>T              </td><td>0.74787  </td><td>-0.00652433</td><td>0.00115443</td><td>-0.0542918 </td><td>0.0113906 </td></tr>\n",
       "\t<tr><th scope=row>strbuf</th><td>rs198                       </td><td>1</td><td>NA</td><td>T    </td><td>C              </td><td>0.862353 </td><td>0.00682598 </td><td>0.00144728</td><td>0.045438   </td><td>0.0146276 </td></tr>\n",
       "\t<tr><th scope=row>strbuf</th><td>rs217                       </td><td>1</td><td>NA</td><td>T    </td><td>C              </td><td>0.631407 </td><td>0.00495402 </td><td>0.00103524</td><td>0.0353873  </td><td>0.0103556 </td></tr>\n",
       "\t<tr><th scope=row>strbuf</th><td>rs2391496                   </td><td>1</td><td>NA</td><td>T    </td><td>C              </td><td>0.773442 </td><td>-0.00799461</td><td>0.00119058</td><td>-0.0500094 </td><td>0.0117453 </td></tr>\n",
       "\t<tr><th scope=row>strbuf</th><td>rs28576490                  </td><td>1</td><td>NA</td><td>C    </td><td>T              </td><td>0.249261 </td><td>0.00710177 </td><td>0.00115341</td><td>0.0481631  </td><td>0.0113927 </td></tr>\n",
       "\t<tr><th scope=row>strbuf</th><td>rs35830575                  </td><td>1</td><td>NA</td><td>CT   </td><td>C              </td><td>0.460592 </td><td>-0.00685115</td><td>0.00105472</td><td>-0.0520141 </td><td>0.0105302 </td></tr>\n",
       "\t<tr><th scope=row>strbuf</th><td>rs552707                    </td><td>1</td><td>NA</td><td>C    </td><td>T              </td><td>0.704571 </td><td>-0.0137139 </td><td>0.00109172</td><td>-0.0603912 </td><td>0.0107819 </td></tr>\n",
       "\t<tr><th scope=row>strbuf</th><td>rs55901351                  </td><td>1</td><td>NA</td><td>T    </td><td>C              </td><td>0.043143 </td><td>0.0139155  </td><td>0.00250225</td><td>0.0227267  </td><td>0.0250389 </td></tr>\n",
       "\t<tr><th scope=row>strbuf</th><td>rs56079286                  </td><td>1</td><td>NA</td><td>A    </td><td>G              </td><td>0.047788 </td><td>0.00949376 </td><td>0.00233771</td><td>0.0320608  </td><td>0.0233391 </td></tr>\n",
       "\t<tr><th scope=row>strbuf</th><td>rs62449929                  </td><td>1</td><td>NA</td><td>A    </td><td>G              </td><td>0.166346 </td><td>-0.00601634</td><td>0.00133588</td><td>-0.0157505 </td><td>0.0133041 </td></tr>\n",
       "\t<tr><th scope=row>strbuf</th><td>rs6963719                   </td><td>1</td><td>NA</td><td>T    </td><td>C              </td><td>0.736491 </td><td>-0.00853848</td><td>0.00113137</td><td>-0.03057   </td><td>0.0112096 </td></tr>\n",
       "\t<tr><th scope=row>strbuf</th><td>rs73083396                  </td><td>1</td><td>NA</td><td>A    </td><td>C              </td><td>0.083239 </td><td>-0.00825809</td><td>0.00182029</td><td>-0.0360591 </td><td>0.0181444 </td></tr>\n",
       "\t<tr><th scope=row>strbuf</th><td>rs73089168                  </td><td>1</td><td>NA</td><td>T    </td><td>C              </td><td>0.103008 </td><td>0.00672198 </td><td>0.00163987</td><td>5.74948e-05</td><td>0.0163692 </td></tr>\n",
       "\t<tr><th scope=row>strbuf</th><td>rs73091056                  </td><td>1</td><td>NA</td><td>A    </td><td>G              </td><td>0.061852 </td><td>-0.00870687</td><td>0.00213489</td><td>-0.0256625 </td><td>0.0213076 </td></tr>\n",
       "\t<tr><th scope=row>strbuf</th><td>rs73091220                  </td><td>1</td><td>NA</td><td>G    </td><td>C              </td><td>0.151202 </td><td>0.0118983  </td><td>0.00138936</td><td>0.0324259  </td><td>0.0138546 </td></tr>\n",
       "\t<tr><th scope=row>strbuf</th><td>rs7384844                   </td><td>1</td><td>NA</td><td>T    </td><td>A              </td><td>0.443721 </td><td>0.00490425 </td><td>0.00100417</td><td>-0.00505873</td><td>0.0100198 </td></tr>\n",
       "\t<tr><th scope=row>strbuf</th><td>rs75685985                  </td><td>1</td><td>NA</td><td>C    </td><td>T              </td><td>0.030876 </td><td>0.0158526  </td><td>0.00295249</td><td>0.0722014  </td><td>0.029598  </td></tr>\n",
       "\t<tr><th scope=row>strbuf</th><td>rs78912482                  </td><td>1</td><td>NA</td><td>T    </td><td>C              </td><td>0.047805 </td><td>0.00992181 </td><td>0.00236238</td><td>0.00606896 </td><td>0.0235307 </td></tr>\n",
       "\t<tr><th scope=row>strbuf</th><td>rs849328                    </td><td>1</td><td>NA</td><td>A    </td><td>C              </td><td>0.855613 </td><td>-0.0108077 </td><td>0.00141975</td><td>-0.0649381 </td><td>0.0139059 </td></tr>\n",
       "\t<tr><th scope=row>strbuf</th><td>rs849330                    </td><td>1</td><td>NA</td><td>A    </td><td>G              </td><td>0.0102795</td><td>-0.00837974</td><td>0.00103186</td><td>-0.0462282 </td><td>0.0102795 </td></tr>\n",
       "</tbody>\n",
       "</table>\n",
       "</dd>\n",
       "</dl>\n"
      ],
      "text/latex": [
       "\\begin{description}\n",
       "\\item[\\$pheno] \\begin{enumerate*}\n",
       "\\item '1'\n",
       "\\item '1'\n",
       "\\item 'waist'\n",
       "\\item 't2d'\n",
       "\\end{enumerate*}\n",
       "\n",
       "\\item[\\$bxy\\_result] A matrix: 1 × 6 of type chr\n",
       "\\begin{tabular}{llllll}\n",
       " Exposure & Outcome & bxy & se & p & n\\_snps\\\\\n",
       "\\hline\n",
       "\t waist & t2d & 4.44127 & 0.656177 & 1.30218e-11 & 31\\\\\n",
       "\\end{tabular}\n",
       "\n",
       "\\item[\\$snp\\_effect] A matrix: 31 × 10 of type chr\n",
       "\\begin{tabular}{r|llllllllll}\n",
       "\tstrbuf & 7:27945054\\_CT\\_C              & 1 & NA & C     & CT              & 0.93275   & 0.0100334   & 0.00210073 & 0.010264    & 0.0208798 \\\\\n",
       "\tstrbuf & 7:28174085\\_CT\\_C              & 1 & NA & C     & CT              & 0.624225  & -0.0112521  & 0.00107171 & -0.0619409  & 0.0106291 \\\\\n",
       "\tstrbuf & 7:28213499\\_TAAAAAAAAAAAAAA\\_T & 1 & NA & T     & TAAAAAAAAAAAAAA & 0.039226  & 0.0158933   & 0.00279364 & 0.0874312   & 0.0270446 \\\\\n",
       "\tstrbuf & 7:28220442\\_GC\\_G              & 1 & NA & G     & GC              & 0.489112  & -0.00491049 & 0.00107162 & -0.0599062  & 0.010673  \\\\\n",
       "\tstrbuf & rs10275982                   & 1 & NA & A     & C               & 0.337575  & 0.00674933  & 0.00105907 & 0.0232861   & 0.0105652 \\\\\n",
       "\tstrbuf & rs10951191                   & 1 & NA & A     & C               & 0.734871  & -0.00528991 & 0.00115746 & -0.00839323 & 0.0115493 \\\\\n",
       "\tstrbuf & rs113568287                  & 1 & NA & G     & T               & 0.019327  & 0.0178602   & 0.00371564 & 0.110902    & 0.0355717 \\\\\n",
       "\tstrbuf & rs11448038                   & 1 & NA & TA    & T               & 0.550241  & -0.00734251 & 0.00108575 & -0.0643327  & 0.010791  \\\\\n",
       "\tstrbuf & rs11760913                   & 1 & NA & C     & T               & 0.528898  & 0.00511127  & 0.00100302 & 0.0150306   & 0.00999892\\\\\n",
       "\tstrbuf & rs11763181                   & 1 & NA & G     & T               & 0.932675  & 0.0113624   & 0.00200085 & 0.0558798   & 0.0203279 \\\\\n",
       "\tstrbuf & rs12669171                   & 1 & NA & G     & A               & 0.197928  & 0.00626456  & 0.00129282 & 0.0261861   & 0.0129241 \\\\\n",
       "\tstrbuf & rs150139082                  & 1 & NA & TACAC & T               & 0.74787   & -0.00652433 & 0.00115443 & -0.0542918  & 0.0113906 \\\\\n",
       "\tstrbuf & rs198                        & 1 & NA & T     & C               & 0.862353  & 0.00682598  & 0.00144728 & 0.045438    & 0.0146276 \\\\\n",
       "\tstrbuf & rs217                        & 1 & NA & T     & C               & 0.631407  & 0.00495402  & 0.00103524 & 0.0353873   & 0.0103556 \\\\\n",
       "\tstrbuf & rs2391496                    & 1 & NA & T     & C               & 0.773442  & -0.00799461 & 0.00119058 & -0.0500094  & 0.0117453 \\\\\n",
       "\tstrbuf & rs28576490                   & 1 & NA & C     & T               & 0.249261  & 0.00710177  & 0.00115341 & 0.0481631   & 0.0113927 \\\\\n",
       "\tstrbuf & rs35830575                   & 1 & NA & CT    & C               & 0.460592  & -0.00685115 & 0.00105472 & -0.0520141  & 0.0105302 \\\\\n",
       "\tstrbuf & rs552707                     & 1 & NA & C     & T               & 0.704571  & -0.0137139  & 0.00109172 & -0.0603912  & 0.0107819 \\\\\n",
       "\tstrbuf & rs55901351                   & 1 & NA & T     & C               & 0.043143  & 0.0139155   & 0.00250225 & 0.0227267   & 0.0250389 \\\\\n",
       "\tstrbuf & rs56079286                   & 1 & NA & A     & G               & 0.047788  & 0.00949376  & 0.00233771 & 0.0320608   & 0.0233391 \\\\\n",
       "\tstrbuf & rs62449929                   & 1 & NA & A     & G               & 0.166346  & -0.00601634 & 0.00133588 & -0.0157505  & 0.0133041 \\\\\n",
       "\tstrbuf & rs6963719                    & 1 & NA & T     & C               & 0.736491  & -0.00853848 & 0.00113137 & -0.03057    & 0.0112096 \\\\\n",
       "\tstrbuf & rs73083396                   & 1 & NA & A     & C               & 0.083239  & -0.00825809 & 0.00182029 & -0.0360591  & 0.0181444 \\\\\n",
       "\tstrbuf & rs73089168                   & 1 & NA & T     & C               & 0.103008  & 0.00672198  & 0.00163987 & 5.74948e-05 & 0.0163692 \\\\\n",
       "\tstrbuf & rs73091056                   & 1 & NA & A     & G               & 0.061852  & -0.00870687 & 0.00213489 & -0.0256625  & 0.0213076 \\\\\n",
       "\tstrbuf & rs73091220                   & 1 & NA & G     & C               & 0.151202  & 0.0118983   & 0.00138936 & 0.0324259   & 0.0138546 \\\\\n",
       "\tstrbuf & rs7384844                    & 1 & NA & T     & A               & 0.443721  & 0.00490425  & 0.00100417 & -0.00505873 & 0.0100198 \\\\\n",
       "\tstrbuf & rs75685985                   & 1 & NA & C     & T               & 0.030876  & 0.0158526   & 0.00295249 & 0.0722014   & 0.029598  \\\\\n",
       "\tstrbuf & rs78912482                   & 1 & NA & T     & C               & 0.047805  & 0.00992181  & 0.00236238 & 0.00606896  & 0.0235307 \\\\\n",
       "\tstrbuf & rs849328                     & 1 & NA & A     & C               & 0.855613  & -0.0108077  & 0.00141975 & -0.0649381  & 0.0139059 \\\\\n",
       "\tstrbuf & rs849330                     & 1 & NA & A     & G               & 0.0102795 & -0.00837974 & 0.00103186 & -0.0462282  & 0.0102795 \\\\\n",
       "\\end{tabular}\n",
       "\n",
       "\\end{description}\n"
      ],
      "text/markdown": [
       "$pheno\n",
       ":   1. '1'\n",
       "2. '1'\n",
       "3. 'waist'\n",
       "4. 't2d'\n",
       "\n",
       "\n",
       "\n",
       "$bxy_result\n",
       ":   \n",
       "A matrix: 1 × 6 of type chr\n",
       "\n",
       "| Exposure | Outcome | bxy | se | p | n_snps |\n",
       "|---|---|---|---|---|---|\n",
       "| waist | t2d | 4.44127 | 0.656177 | 1.30218e-11 | 31 |\n",
       "\n",
       "\n",
       "$snp_effect\n",
       ":   \n",
       "A matrix: 31 × 10 of type chr\n",
       "\n",
       "| strbuf | 7:27945054_CT_C              | 1 | NA | C     | CT              | 0.93275   | 0.0100334   | 0.00210073 | 0.010264    | 0.0208798  |\n",
       "| strbuf | 7:28174085_CT_C              | 1 | NA | C     | CT              | 0.624225  | -0.0112521  | 0.00107171 | -0.0619409  | 0.0106291  |\n",
       "| strbuf | 7:28213499_TAAAAAAAAAAAAAA_T | 1 | NA | T     | TAAAAAAAAAAAAAA | 0.039226  | 0.0158933   | 0.00279364 | 0.0874312   | 0.0270446  |\n",
       "| strbuf | 7:28220442_GC_G              | 1 | NA | G     | GC              | 0.489112  | -0.00491049 | 0.00107162 | -0.0599062  | 0.010673   |\n",
       "| strbuf | rs10275982                   | 1 | NA | A     | C               | 0.337575  | 0.00674933  | 0.00105907 | 0.0232861   | 0.0105652  |\n",
       "| strbuf | rs10951191                   | 1 | NA | A     | C               | 0.734871  | -0.00528991 | 0.00115746 | -0.00839323 | 0.0115493  |\n",
       "| strbuf | rs113568287                  | 1 | NA | G     | T               | 0.019327  | 0.0178602   | 0.00371564 | 0.110902    | 0.0355717  |\n",
       "| strbuf | rs11448038                   | 1 | NA | TA    | T               | 0.550241  | -0.00734251 | 0.00108575 | -0.0643327  | 0.010791   |\n",
       "| strbuf | rs11760913                   | 1 | NA | C     | T               | 0.528898  | 0.00511127  | 0.00100302 | 0.0150306   | 0.00999892 |\n",
       "| strbuf | rs11763181                   | 1 | NA | G     | T               | 0.932675  | 0.0113624   | 0.00200085 | 0.0558798   | 0.0203279  |\n",
       "| strbuf | rs12669171                   | 1 | NA | G     | A               | 0.197928  | 0.00626456  | 0.00129282 | 0.0261861   | 0.0129241  |\n",
       "| strbuf | rs150139082                  | 1 | NA | TACAC | T               | 0.74787   | -0.00652433 | 0.00115443 | -0.0542918  | 0.0113906  |\n",
       "| strbuf | rs198                        | 1 | NA | T     | C               | 0.862353  | 0.00682598  | 0.00144728 | 0.045438    | 0.0146276  |\n",
       "| strbuf | rs217                        | 1 | NA | T     | C               | 0.631407  | 0.00495402  | 0.00103524 | 0.0353873   | 0.0103556  |\n",
       "| strbuf | rs2391496                    | 1 | NA | T     | C               | 0.773442  | -0.00799461 | 0.00119058 | -0.0500094  | 0.0117453  |\n",
       "| strbuf | rs28576490                   | 1 | NA | C     | T               | 0.249261  | 0.00710177  | 0.00115341 | 0.0481631   | 0.0113927  |\n",
       "| strbuf | rs35830575                   | 1 | NA | CT    | C               | 0.460592  | -0.00685115 | 0.00105472 | -0.0520141  | 0.0105302  |\n",
       "| strbuf | rs552707                     | 1 | NA | C     | T               | 0.704571  | -0.0137139  | 0.00109172 | -0.0603912  | 0.0107819  |\n",
       "| strbuf | rs55901351                   | 1 | NA | T     | C               | 0.043143  | 0.0139155   | 0.00250225 | 0.0227267   | 0.0250389  |\n",
       "| strbuf | rs56079286                   | 1 | NA | A     | G               | 0.047788  | 0.00949376  | 0.00233771 | 0.0320608   | 0.0233391  |\n",
       "| strbuf | rs62449929                   | 1 | NA | A     | G               | 0.166346  | -0.00601634 | 0.00133588 | -0.0157505  | 0.0133041  |\n",
       "| strbuf | rs6963719                    | 1 | NA | T     | C               | 0.736491  | -0.00853848 | 0.00113137 | -0.03057    | 0.0112096  |\n",
       "| strbuf | rs73083396                   | 1 | NA | A     | C               | 0.083239  | -0.00825809 | 0.00182029 | -0.0360591  | 0.0181444  |\n",
       "| strbuf | rs73089168                   | 1 | NA | T     | C               | 0.103008  | 0.00672198  | 0.00163987 | 5.74948e-05 | 0.0163692  |\n",
       "| strbuf | rs73091056                   | 1 | NA | A     | G               | 0.061852  | -0.00870687 | 0.00213489 | -0.0256625  | 0.0213076  |\n",
       "| strbuf | rs73091220                   | 1 | NA | G     | C               | 0.151202  | 0.0118983   | 0.00138936 | 0.0324259   | 0.0138546  |\n",
       "| strbuf | rs7384844                    | 1 | NA | T     | A               | 0.443721  | 0.00490425  | 0.00100417 | -0.00505873 | 0.0100198  |\n",
       "| strbuf | rs75685985                   | 1 | NA | C     | T               | 0.030876  | 0.0158526   | 0.00295249 | 0.0722014   | 0.029598   |\n",
       "| strbuf | rs78912482                   | 1 | NA | T     | C               | 0.047805  | 0.00992181  | 0.00236238 | 0.00606896  | 0.0235307  |\n",
       "| strbuf | rs849328                     | 1 | NA | A     | C               | 0.855613  | -0.0108077  | 0.00141975 | -0.0649381  | 0.0139059  |\n",
       "| strbuf | rs849330                     | 1 | NA | A     | G               | 0.0102795 | -0.00837974 | 0.00103186 | -0.0462282  | 0.0102795  |\n",
       "\n",
       "\n",
       "\n",
       "\n"
      ],
      "text/plain": [
       "$pheno\n",
       "[1] \"1\"     \"1\"     \"waist\" \"t2d\"  \n",
       "\n",
       "$bxy_result\n",
       "     Exposure Outcome bxy       se         p             n_snps\n",
       "[1,] \"waist\"  \"t2d\"   \"4.44127\" \"0.656177\" \"1.30218e-11\" \"31\"  \n",
       "\n",
       "$snp_effect\n",
       "       [,1]                           [,2] [,3] [,4]    [,5]             \n",
       "strbuf \"7:27945054_CT_C\"              \"1\"  NA   \"C\"     \"CT\"             \n",
       "strbuf \"7:28174085_CT_C\"              \"1\"  NA   \"C\"     \"CT\"             \n",
       "strbuf \"7:28213499_TAAAAAAAAAAAAAA_T\" \"1\"  NA   \"T\"     \"TAAAAAAAAAAAAAA\"\n",
       "strbuf \"7:28220442_GC_G\"              \"1\"  NA   \"G\"     \"GC\"             \n",
       "strbuf \"rs10275982\"                   \"1\"  NA   \"A\"     \"C\"              \n",
       "strbuf \"rs10951191\"                   \"1\"  NA   \"A\"     \"C\"              \n",
       "strbuf \"rs113568287\"                  \"1\"  NA   \"G\"     \"T\"              \n",
       "strbuf \"rs11448038\"                   \"1\"  NA   \"TA\"    \"T\"              \n",
       "strbuf \"rs11760913\"                   \"1\"  NA   \"C\"     \"T\"              \n",
       "strbuf \"rs11763181\"                   \"1\"  NA   \"G\"     \"T\"              \n",
       "strbuf \"rs12669171\"                   \"1\"  NA   \"G\"     \"A\"              \n",
       "strbuf \"rs150139082\"                  \"1\"  NA   \"TACAC\" \"T\"              \n",
       "strbuf \"rs198\"                        \"1\"  NA   \"T\"     \"C\"              \n",
       "strbuf \"rs217\"                        \"1\"  NA   \"T\"     \"C\"              \n",
       "strbuf \"rs2391496\"                    \"1\"  NA   \"T\"     \"C\"              \n",
       "strbuf \"rs28576490\"                   \"1\"  NA   \"C\"     \"T\"              \n",
       "strbuf \"rs35830575\"                   \"1\"  NA   \"CT\"    \"C\"              \n",
       "strbuf \"rs552707\"                     \"1\"  NA   \"C\"     \"T\"              \n",
       "strbuf \"rs55901351\"                   \"1\"  NA   \"T\"     \"C\"              \n",
       "strbuf \"rs56079286\"                   \"1\"  NA   \"A\"     \"G\"              \n",
       "strbuf \"rs62449929\"                   \"1\"  NA   \"A\"     \"G\"              \n",
       "strbuf \"rs6963719\"                    \"1\"  NA   \"T\"     \"C\"              \n",
       "strbuf \"rs73083396\"                   \"1\"  NA   \"A\"     \"C\"              \n",
       "strbuf \"rs73089168\"                   \"1\"  NA   \"T\"     \"C\"              \n",
       "strbuf \"rs73091056\"                   \"1\"  NA   \"A\"     \"G\"              \n",
       "strbuf \"rs73091220\"                   \"1\"  NA   \"G\"     \"C\"              \n",
       "strbuf \"rs7384844\"                    \"1\"  NA   \"T\"     \"A\"              \n",
       "strbuf \"rs75685985\"                   \"1\"  NA   \"C\"     \"T\"              \n",
       "strbuf \"rs78912482\"                   \"1\"  NA   \"T\"     \"C\"              \n",
       "strbuf \"rs849328\"                     \"1\"  NA   \"A\"     \"C\"              \n",
       "strbuf \"rs849330\"                     \"1\"  NA   \"A\"     \"G\"              \n",
       "       [,6]        [,7]          [,8]         [,9]          [,10]       \n",
       "strbuf \"0.93275\"   \"0.0100334\"   \"0.00210073\" \"0.010264\"    \"0.0208798\" \n",
       "strbuf \"0.624225\"  \"-0.0112521\"  \"0.00107171\" \"-0.0619409\"  \"0.0106291\" \n",
       "strbuf \"0.039226\"  \"0.0158933\"   \"0.00279364\" \"0.0874312\"   \"0.0270446\" \n",
       "strbuf \"0.489112\"  \"-0.00491049\" \"0.00107162\" \"-0.0599062\"  \"0.010673\"  \n",
       "strbuf \"0.337575\"  \"0.00674933\"  \"0.00105907\" \"0.0232861\"   \"0.0105652\" \n",
       "strbuf \"0.734871\"  \"-0.00528991\" \"0.00115746\" \"-0.00839323\" \"0.0115493\" \n",
       "strbuf \"0.019327\"  \"0.0178602\"   \"0.00371564\" \"0.110902\"    \"0.0355717\" \n",
       "strbuf \"0.550241\"  \"-0.00734251\" \"0.00108575\" \"-0.0643327\"  \"0.010791\"  \n",
       "strbuf \"0.528898\"  \"0.00511127\"  \"0.00100302\" \"0.0150306\"   \"0.00999892\"\n",
       "strbuf \"0.932675\"  \"0.0113624\"   \"0.00200085\" \"0.0558798\"   \"0.0203279\" \n",
       "strbuf \"0.197928\"  \"0.00626456\"  \"0.00129282\" \"0.0261861\"   \"0.0129241\" \n",
       "strbuf \"0.74787\"   \"-0.00652433\" \"0.00115443\" \"-0.0542918\"  \"0.0113906\" \n",
       "strbuf \"0.862353\"  \"0.00682598\"  \"0.00144728\" \"0.045438\"    \"0.0146276\" \n",
       "strbuf \"0.631407\"  \"0.00495402\"  \"0.00103524\" \"0.0353873\"   \"0.0103556\" \n",
       "strbuf \"0.773442\"  \"-0.00799461\" \"0.00119058\" \"-0.0500094\"  \"0.0117453\" \n",
       "strbuf \"0.249261\"  \"0.00710177\"  \"0.00115341\" \"0.0481631\"   \"0.0113927\" \n",
       "strbuf \"0.460592\"  \"-0.00685115\" \"0.00105472\" \"-0.0520141\"  \"0.0105302\" \n",
       "strbuf \"0.704571\"  \"-0.0137139\"  \"0.00109172\" \"-0.0603912\"  \"0.0107819\" \n",
       "strbuf \"0.043143\"  \"0.0139155\"   \"0.00250225\" \"0.0227267\"   \"0.0250389\" \n",
       "strbuf \"0.047788\"  \"0.00949376\"  \"0.00233771\" \"0.0320608\"   \"0.0233391\" \n",
       "strbuf \"0.166346\"  \"-0.00601634\" \"0.00133588\" \"-0.0157505\"  \"0.0133041\" \n",
       "strbuf \"0.736491\"  \"-0.00853848\" \"0.00113137\" \"-0.03057\"    \"0.0112096\" \n",
       "strbuf \"0.083239\"  \"-0.00825809\" \"0.00182029\" \"-0.0360591\"  \"0.0181444\" \n",
       "strbuf \"0.103008\"  \"0.00672198\"  \"0.00163987\" \"5.74948e-05\" \"0.0163692\" \n",
       "strbuf \"0.061852\"  \"-0.00870687\" \"0.00213489\" \"-0.0256625\"  \"0.0213076\" \n",
       "strbuf \"0.151202\"  \"0.0118983\"   \"0.00138936\" \"0.0324259\"   \"0.0138546\" \n",
       "strbuf \"0.443721\"  \"0.00490425\"  \"0.00100417\" \"-0.00505873\" \"0.0100198\" \n",
       "strbuf \"0.030876\"  \"0.0158526\"   \"0.00295249\" \"0.0722014\"   \"0.029598\"  \n",
       "strbuf \"0.047805\"  \"0.00992181\"  \"0.00236238\" \"0.00606896\"  \"0.0235307\" \n",
       "strbuf \"0.855613\"  \"-0.0108077\"  \"0.00141975\" \"-0.0649381\"  \"0.0139059\" \n",
       "strbuf \"0.0102795\" \"-0.00837974\" \"0.00103186\" \"-0.0462282\"  \"0.0102795\" \n"
      ]
     },
     "metadata": {},
     "output_type": "display_data"
    }
   ],
   "source": [
    "head(gsmr_data)"
   ]
  },
  {
   "cell_type": "markdown",
   "id": "1a0266fe-9500-4d24-bb07-937db9fb5b89",
   "metadata": {},
   "source": [
    "## AD vs t2d"
   ]
  },
  {
   "cell_type": "code",
   "execution_count": 4,
   "id": "5f41604a-cffb-4d15-9fc6-b773627f3188",
   "metadata": {},
   "outputs": [
    {
     "name": "stdout",
     "output_type": "stream",
     "text": [
      "[1] 8\n",
      "[1] \"rs11495981\" \"T\"          \"C\"          \"0.2094\"     \"-0.0561\"   \n",
      "[6] \"0.01\"       \"0.0498459\"  \"0.0122557\" \n",
      "[1] 8\n",
      "[1] \"rs2015027\" \"T\"         \"C\"         \"0.116\"     \"-0.0583\"   \"0.0129\"   \n",
      "[7] \"0.0220017\" \"0.0159009\"\n",
      "[1] 8\n",
      "[1] \"rs3735569\" \"C\"         \"G\"         \"0.0894\"    \"-0.0635\"   \"0.0143\"   \n",
      "[7] \"0.0392527\" \"0.0184387\"\n",
      "[1] 8\n",
      "[1] \"rs4722756\"  \"G\"          \"A\"          \"0.6393\"     \"0.0387\"    \n",
      "[6] \"0.0085\"     \"-0.0521622\" \"0.0103567\" \n",
      "[1] 8\n",
      "[1] \"rs73072534\" \"T\"          \"C\"          \"0.0497\"     \"-0.0812\"   \n",
      "[6] \"0.019\"      \"0.0351489\"  \"0.0233158\" \n"
     ]
    },
    {
     "name": "stderr",
     "output_type": "stream",
     "text": [
      "\n",
      "## Exposure and outcome\n",
      "\n",
      "1 exposure(s): AD\n",
      "\n",
      "1 outcome(s): t2d\n",
      "\n",
      "\n",
      "## GSMR result\n",
      "\n"
     ]
    },
    {
     "name": "stdout",
     "output_type": "stream",
     "text": [
      "  Exposure Outcome       bxy       se           p n_snps\n",
      "1       AD     t2d -0.837343 0.225431 0.000203684      5\n"
     ]
    },
    {
     "data": {
      "image/png": "[encoded data removed]",
      "text/plain": [
       "plot without title"
      ]
     },
     "metadata": {
      "image/png": {
       "height": 420,
       "width": 420
      }
     },
     "output_type": "display_data"
    }
   ],
   "source": [
    "gsmr_data = read_gsmr_data(\"AD_t2d_gsmr0.eff_plot.gz\")\n",
    "gsmr_summary(gsmr_data)      # show a summary of the data\n",
    "plot_gsmr_effect(gsmr_data, \"AD\", \"t2d\", colors()[74]) "
   ]
  },
  {
   "cell_type": "code",
   "execution_count": 5,
   "id": "d9e2086c-c04e-4fbe-9466-3481f3e1890c",
   "metadata": {},
   "outputs": [
    {
     "data": {
      "text/html": [
       "<dl>\n",
       "\t<dt>$pheno</dt>\n",
       "\t\t<dd><style>\n",
       ".list-inline {list-style: none; margin:0; padding: 0}\n",
       ".list-inline>li {display: inline-block}\n",
       ".list-inline>li:not(:last-child)::after {content: \"\\00b7\"; padding: 0 .5ex}\n",
       "</style>\n",
       "<ol class=list-inline><li>'1'</li><li>'1'</li><li>'AD'</li><li>'t2d'</li></ol>\n",
       "</dd>\n",
       "\t<dt>$bxy_result</dt>\n",
       "\t\t<dd><table class=\"dataframe\">\n",
       "<caption>A matrix: 1 × 6 of type chr</caption>\n",
       "<thead>\n",
       "\t<tr><th scope=col>Exposure</th><th scope=col>Outcome</th><th scope=col>bxy</th><th scope=col>se</th><th scope=col>p</th><th scope=col>n_snps</th></tr>\n",
       "</thead>\n",
       "<tbody>\n",
       "\t<tr><td>AD</td><td>t2d</td><td>-0.837343</td><td>0.225431</td><td>0.000203684</td><td>5</td></tr>\n",
       "</tbody>\n",
       "</table>\n",
       "</dd>\n",
       "\t<dt>$snp_effect</dt>\n",
       "\t\t<dd><table class=\"dataframe\">\n",
       "<caption>A matrix: 5 × 10 of type chr</caption>\n",
       "<tbody>\n",
       "\t<tr><th scope=row>strbuf</th><td>rs11495981</td><td>1</td><td>NA</td><td>T</td><td>C</td><td>0.2094</td><td>-0.0561</td><td>0.01  </td><td>0.0498459 </td><td>0.0122557</td></tr>\n",
       "\t<tr><th scope=row>strbuf</th><td>rs2015027 </td><td>1</td><td>NA</td><td>T</td><td>C</td><td>0.116 </td><td>-0.0583</td><td>0.0129</td><td>0.0220017 </td><td>0.0159009</td></tr>\n",
       "\t<tr><th scope=row>strbuf</th><td>rs3735569 </td><td>1</td><td>NA</td><td>C</td><td>G</td><td>0.0894</td><td>-0.0635</td><td>0.0143</td><td>0.0392527 </td><td>0.0184387</td></tr>\n",
       "\t<tr><th scope=row>strbuf</th><td>rs4722756 </td><td>1</td><td>NA</td><td>G</td><td>A</td><td>0.6393</td><td>0.0387 </td><td>0.0085</td><td>-0.0521622</td><td>0.0103567</td></tr>\n",
       "\t<tr><th scope=row>strbuf</th><td>rs73072534</td><td>1</td><td>NA</td><td>T</td><td>C</td><td>0.0497</td><td>-0.0812</td><td>0.019 </td><td>0.0351489 </td><td>0.0233158</td></tr>\n",
       "</tbody>\n",
       "</table>\n",
       "</dd>\n",
       "</dl>\n"
      ],
      "text/latex": [
       "\\begin{description}\n",
       "\\item[\\$pheno] \\begin{enumerate*}\n",
       "\\item '1'\n",
       "\\item '1'\n",
       "\\item 'AD'\n",
       "\\item 't2d'\n",
       "\\end{enumerate*}\n",
       "\n",
       "\\item[\\$bxy\\_result] A matrix: 1 × 6 of type chr\n",
       "\\begin{tabular}{llllll}\n",
       " Exposure & Outcome & bxy & se & p & n\\_snps\\\\\n",
       "\\hline\n",
       "\t AD & t2d & -0.837343 & 0.225431 & 0.000203684 & 5\\\\\n",
       "\\end{tabular}\n",
       "\n",
       "\\item[\\$snp\\_effect] A matrix: 5 × 10 of type chr\n",
       "\\begin{tabular}{r|llllllllll}\n",
       "\tstrbuf & rs11495981 & 1 & NA & T & C & 0.2094 & -0.0561 & 0.01   & 0.0498459  & 0.0122557\\\\\n",
       "\tstrbuf & rs2015027  & 1 & NA & T & C & 0.116  & -0.0583 & 0.0129 & 0.0220017  & 0.0159009\\\\\n",
       "\tstrbuf & rs3735569  & 1 & NA & C & G & 0.0894 & -0.0635 & 0.0143 & 0.0392527  & 0.0184387\\\\\n",
       "\tstrbuf & rs4722756  & 1 & NA & G & A & 0.6393 & 0.0387  & 0.0085 & -0.0521622 & 0.0103567\\\\\n",
       "\tstrbuf & rs73072534 & 1 & NA & T & C & 0.0497 & -0.0812 & 0.019  & 0.0351489  & 0.0233158\\\\\n",
       "\\end{tabular}\n",
       "\n",
       "\\end{description}\n"
      ],
      "text/markdown": [
       "$pheno\n",
       ":   1. '1'\n",
       "2. '1'\n",
       "3. 'AD'\n",
       "4. 't2d'\n",
       "\n",
       "\n",
       "\n",
       "$bxy_result\n",
       ":   \n",
       "A matrix: 1 × 6 of type chr\n",
       "\n",
       "| Exposure | Outcome | bxy | se | p | n_snps |\n",
       "|---|---|---|---|---|---|\n",
       "| AD | t2d | -0.837343 | 0.225431 | 0.000203684 | 5 |\n",
       "\n",
       "\n",
       "$snp_effect\n",
       ":   \n",
       "A matrix: 5 × 10 of type chr\n",
       "\n",
       "| strbuf | rs11495981 | 1 | NA | T | C | 0.2094 | -0.0561 | 0.01   | 0.0498459  | 0.0122557 |\n",
       "| strbuf | rs2015027  | 1 | NA | T | C | 0.116  | -0.0583 | 0.0129 | 0.0220017  | 0.0159009 |\n",
       "| strbuf | rs3735569  | 1 | NA | C | G | 0.0894 | -0.0635 | 0.0143 | 0.0392527  | 0.0184387 |\n",
       "| strbuf | rs4722756  | 1 | NA | G | A | 0.6393 | 0.0387  | 0.0085 | -0.0521622 | 0.0103567 |\n",
       "| strbuf | rs73072534 | 1 | NA | T | C | 0.0497 | -0.0812 | 0.019  | 0.0351489  | 0.0233158 |\n",
       "\n",
       "\n",
       "\n",
       "\n"
      ],
      "text/plain": [
       "$pheno\n",
       "[1] \"1\"   \"1\"   \"AD\"  \"t2d\"\n",
       "\n",
       "$bxy_result\n",
       "     Exposure Outcome bxy         se         p             n_snps\n",
       "[1,] \"AD\"     \"t2d\"   \"-0.837343\" \"0.225431\" \"0.000203684\" \"5\"   \n",
       "\n",
       "$snp_effect\n",
       "       [,1]         [,2] [,3] [,4] [,5] [,6]     [,7]      [,8]    \n",
       "strbuf \"rs11495981\" \"1\"  NA   \"T\"  \"C\"  \"0.2094\" \"-0.0561\" \"0.01\"  \n",
       "strbuf \"rs2015027\"  \"1\"  NA   \"T\"  \"C\"  \"0.116\"  \"-0.0583\" \"0.0129\"\n",
       "strbuf \"rs3735569\"  \"1\"  NA   \"C\"  \"G\"  \"0.0894\" \"-0.0635\" \"0.0143\"\n",
       "strbuf \"rs4722756\"  \"1\"  NA   \"G\"  \"A\"  \"0.6393\" \"0.0387\"  \"0.0085\"\n",
       "strbuf \"rs73072534\" \"1\"  NA   \"T\"  \"C\"  \"0.0497\" \"-0.0812\" \"0.019\" \n",
       "       [,9]         [,10]      \n",
       "strbuf \"0.0498459\"  \"0.0122557\"\n",
       "strbuf \"0.0220017\"  \"0.0159009\"\n",
       "strbuf \"0.0392527\"  \"0.0184387\"\n",
       "strbuf \"-0.0521622\" \"0.0103567\"\n",
       "strbuf \"0.0351489\"  \"0.0233158\"\n"
      ]
     },
     "metadata": {},
     "output_type": "display_data"
    }
   ],
   "source": [
    "head(gsmr_data)"
   ]
  },
  {
   "cell_type": "markdown",
   "id": "d77335e7-63c8-43a4-b929-01179742fe91",
   "metadata": {},
   "source": [
    "## t2d vs AD"
   ]
  },
  {
   "cell_type": "code",
   "execution_count": 1,
   "id": "dfd3df13-b72a-4c8a-9203-96ec1f802fe0",
   "metadata": {},
   "outputs": [],
   "source": [
    "library(\"gsmr\")\n",
    "setwd(\"~/project_bst/pleiotropy/gsmr/gsmr_result\")\n",
    "source(\"~/project_bst/pleiotropy/gsmr/gsmr_plot.r\")"
   ]
  },
  {
   "cell_type": "code",
   "execution_count": 2,
   "id": "42bec725-f0e4-4540-aef7-529f0018cff4",
   "metadata": {},
   "outputs": [
    {
     "name": "stdout",
     "output_type": "stream",
     "text": [
      "[1] 8\n",
      "[1] \"rs10245867\" \"T\"          \"G\"          \"0.329078\"   \"0.0628153\" \n",
      "[6] \"0.0104881\"  \"-0.03\"      \"0.0086\"    \n",
      "[1] 8\n",
      "[1] \"rs6958010\"  \"G\"          \"T\"          \"0.774495\"   \"-0.0508955\"\n",
      "[6] \"0.0117463\"  \"0.0116\"     \"0.0097\"    \n",
      "[1] 8\n",
      "[1] \"rs73072539\" \"G\"          \"C\"          \"0.083529\"   \"0.0749488\" \n",
      "[6] \"0.0175289\"  \"-0.0393\"    \"0.0144\"    \n",
      "[1] 8\n",
      "[1] \"rs740123\"   \"C\"          \"G\"          \"0.62887\"    \"-0.0491675\"\n",
      "[6] \"0.0102281\"  \"0.0326\"     \"0.0084\"    \n",
      "[1] 8\n",
      "[1] \"rs860262\"   \"A\"          \"C\"          \"0.502\"      \"-0.0883406\"\n",
      "[6] \"0.00991734\" \"0.0229\"     \"0.0081\"    \n"
     ]
    },
    {
     "name": "stderr",
     "output_type": "stream",
     "text": [
      "\n",
      "## Exposure and outcome\n",
      "\n",
      "1 exposure(s): t2d\n",
      "\n",
      "1 outcome(s): AD\n",
      "\n",
      "\n",
      "## GSMR result\n",
      "\n"
     ]
    },
    {
     "name": "stdout",
     "output_type": "stream",
     "text": [
      "  Exposure Outcome       bxy        se         p n_snps\n",
      "1      t2d      AD -0.184507 0.0994638 0.0635942      5\n"
     ]
    },
    {
     "data": {
      "image/png": "[encoded data removed]",
      "text/plain": [
       "plot without title"
      ]
     },
     "metadata": {
      "image/png": {
       "height": 420,
       "width": 420
      }
     },
     "output_type": "display_data"
    }
   ],
   "source": [
    "gsmr_data = read_gsmr_data(\"t2d_AD_gsmr0.eff_plot.gz\")\n",
    "gsmr_summary(gsmr_data)      # show a summary of the data\n",
    "plot_gsmr_effect(gsmr_data, \"t2d\", \"AD\", colors()[74]) "
   ]
  },
  {
   "cell_type": "code",
   "execution_count": 3,
   "id": "1e04731c-a97b-434c-8334-afa6f9359d08",
   "metadata": {},
   "outputs": [
    {
     "data": {
      "text/html": [
       "<dl>\n",
       "\t<dt>$pheno</dt>\n",
       "\t\t<dd><style>\n",
       ".list-inline {list-style: none; margin:0; padding: 0}\n",
       ".list-inline>li {display: inline-block}\n",
       ".list-inline>li:not(:last-child)::after {content: \"\\00b7\"; padding: 0 .5ex}\n",
       "</style>\n",
       "<ol class=list-inline><li>'1'</li><li>'1'</li><li>'t2d'</li><li>'AD'</li></ol>\n",
       "</dd>\n",
       "\t<dt>$bxy_result</dt>\n",
       "\t\t<dd><table class=\"dataframe\">\n",
       "<caption>A matrix: 1 × 6 of type chr</caption>\n",
       "<thead>\n",
       "\t<tr><th scope=col>Exposure</th><th scope=col>Outcome</th><th scope=col>bxy</th><th scope=col>se</th><th scope=col>p</th><th scope=col>n_snps</th></tr>\n",
       "</thead>\n",
       "<tbody>\n",
       "\t<tr><td>t2d</td><td>AD</td><td>-0.184507</td><td>0.0994638</td><td>0.0635942</td><td>5</td></tr>\n",
       "</tbody>\n",
       "</table>\n",
       "</dd>\n",
       "\t<dt>$snp_effect</dt>\n",
       "\t\t<dd><table class=\"dataframe\">\n",
       "<caption>A matrix: 5 × 10 of type chr</caption>\n",
       "<tbody>\n",
       "\t<tr><th scope=row>strbuf</th><td>rs10245867</td><td>1</td><td>NA</td><td>T</td><td>G</td><td>0.329078</td><td>0.0628153 </td><td>0.0104881 </td><td>-0.03  </td><td>0.0086</td></tr>\n",
       "\t<tr><th scope=row>strbuf</th><td>rs6958010 </td><td>1</td><td>NA</td><td>G</td><td>T</td><td>0.774495</td><td>-0.0508955</td><td>0.0117463 </td><td>0.0116 </td><td>0.0097</td></tr>\n",
       "\t<tr><th scope=row>strbuf</th><td>rs73072539</td><td>1</td><td>NA</td><td>G</td><td>C</td><td>0.083529</td><td>0.0749488 </td><td>0.0175289 </td><td>-0.0393</td><td>0.0144</td></tr>\n",
       "\t<tr><th scope=row>strbuf</th><td>rs740123  </td><td>1</td><td>NA</td><td>C</td><td>G</td><td>0.62887 </td><td>-0.0491675</td><td>0.0102281 </td><td>0.0326 </td><td>0.0084</td></tr>\n",
       "\t<tr><th scope=row>strbuf</th><td>rs860262  </td><td>1</td><td>NA</td><td>A</td><td>C</td><td>0.502   </td><td>-0.0883406</td><td>0.00991734</td><td>0.0229 </td><td>0.0081</td></tr>\n",
       "</tbody>\n",
       "</table>\n",
       "</dd>\n",
       "</dl>\n"
      ],
      "text/latex": [
       "\\begin{description}\n",
       "\\item[\\$pheno] \\begin{enumerate*}\n",
       "\\item '1'\n",
       "\\item '1'\n",
       "\\item 't2d'\n",
       "\\item 'AD'\n",
       "\\end{enumerate*}\n",
       "\n",
       "\\item[\\$bxy\\_result] A matrix: 1 × 6 of type chr\n",
       "\\begin{tabular}{llllll}\n",
       " Exposure & Outcome & bxy & se & p & n\\_snps\\\\\n",
       "\\hline\n",
       "\t t2d & AD & -0.184507 & 0.0994638 & 0.0635942 & 5\\\\\n",
       "\\end{tabular}\n",
       "\n",
       "\\item[\\$snp\\_effect] A matrix: 5 × 10 of type chr\n",
       "\\begin{tabular}{r|llllllllll}\n",
       "\tstrbuf & rs10245867 & 1 & NA & T & G & 0.329078 & 0.0628153  & 0.0104881  & -0.03   & 0.0086\\\\\n",
       "\tstrbuf & rs6958010  & 1 & NA & G & T & 0.774495 & -0.0508955 & 0.0117463  & 0.0116  & 0.0097\\\\\n",
       "\tstrbuf & rs73072539 & 1 & NA & G & C & 0.083529 & 0.0749488  & 0.0175289  & -0.0393 & 0.0144\\\\\n",
       "\tstrbuf & rs740123   & 1 & NA & C & G & 0.62887  & -0.0491675 & 0.0102281  & 0.0326  & 0.0084\\\\\n",
       "\tstrbuf & rs860262   & 1 & NA & A & C & 0.502    & -0.0883406 & 0.00991734 & 0.0229  & 0.0081\\\\\n",
       "\\end{tabular}\n",
       "\n",
       "\\end{description}\n"
      ],
      "text/markdown": [
       "$pheno\n",
       ":   1. '1'\n",
       "2. '1'\n",
       "3. 't2d'\n",
       "4. 'AD'\n",
       "\n",
       "\n",
       "\n",
       "$bxy_result\n",
       ":   \n",
       "A matrix: 1 × 6 of type chr\n",
       "\n",
       "| Exposure | Outcome | bxy | se | p | n_snps |\n",
       "|---|---|---|---|---|---|\n",
       "| t2d | AD | -0.184507 | 0.0994638 | 0.0635942 | 5 |\n",
       "\n",
       "\n",
       "$snp_effect\n",
       ":   \n",
       "A matrix: 5 × 10 of type chr\n",
       "\n",
       "| strbuf | rs10245867 | 1 | NA | T | G | 0.329078 | 0.0628153  | 0.0104881  | -0.03   | 0.0086 |\n",
       "| strbuf | rs6958010  | 1 | NA | G | T | 0.774495 | -0.0508955 | 0.0117463  | 0.0116  | 0.0097 |\n",
       "| strbuf | rs73072539 | 1 | NA | G | C | 0.083529 | 0.0749488  | 0.0175289  | -0.0393 | 0.0144 |\n",
       "| strbuf | rs740123   | 1 | NA | C | G | 0.62887  | -0.0491675 | 0.0102281  | 0.0326  | 0.0084 |\n",
       "| strbuf | rs860262   | 1 | NA | A | C | 0.502    | -0.0883406 | 0.00991734 | 0.0229  | 0.0081 |\n",
       "\n",
       "\n",
       "\n",
       "\n"
      ],
      "text/plain": [
       "$pheno\n",
       "[1] \"1\"   \"1\"   \"t2d\" \"AD\" \n",
       "\n",
       "$bxy_result\n",
       "     Exposure Outcome bxy         se          p           n_snps\n",
       "[1,] \"t2d\"    \"AD\"    \"-0.184507\" \"0.0994638\" \"0.0635942\" \"5\"   \n",
       "\n",
       "$snp_effect\n",
       "       [,1]         [,2] [,3] [,4] [,5] [,6]       [,7]         [,8]        \n",
       "strbuf \"rs10245867\" \"1\"  NA   \"T\"  \"G\"  \"0.329078\" \"0.0628153\"  \"0.0104881\" \n",
       "strbuf \"rs6958010\"  \"1\"  NA   \"G\"  \"T\"  \"0.774495\" \"-0.0508955\" \"0.0117463\" \n",
       "strbuf \"rs73072539\" \"1\"  NA   \"G\"  \"C\"  \"0.083529\" \"0.0749488\"  \"0.0175289\" \n",
       "strbuf \"rs740123\"   \"1\"  NA   \"C\"  \"G\"  \"0.62887\"  \"-0.0491675\" \"0.0102281\" \n",
       "strbuf \"rs860262\"   \"1\"  NA   \"A\"  \"C\"  \"0.502\"    \"-0.0883406\" \"0.00991734\"\n",
       "       [,9]      [,10]   \n",
       "strbuf \"-0.03\"   \"0.0086\"\n",
       "strbuf \"0.0116\"  \"0.0097\"\n",
       "strbuf \"-0.0393\" \"0.0144\"\n",
       "strbuf \"0.0326\"  \"0.0084\"\n",
       "strbuf \"0.0229\"  \"0.0081\"\n"
      ]
     },
     "metadata": {},
     "output_type": "display_data"
    }
   ],
   "source": [
    "head(gsmr_data)"
   ]
  },
  {
   "cell_type": "markdown",
   "id": "480a9b8d-0a11-4f8c-94ab-5c7ac7e81219",
   "metadata": {},
   "source": [
    "## ånayses updated on 20220604 after making sure all the coding of effect allele and other allele in the sumstats are coded correctly.\n",
    "GSMR analyses was run for the following possible pairwise combinations in forward direction (also checked for reverse association\n",
    "* Waist vs t2d, asthma vs t2d, waist vs asthma, t2d vs AD and waist vs AD\n",
    "\n",
    "Note: Given that the analyses were limited to jazf1 region, we included more variants by applying a more flexible gsmr parametres like p value threshhold 5e-05 and r2 for clumping 0.5."
   ]
  },
  {
   "cell_type": "code",
   "execution_count": 12,
   "id": "7cd66728-3502-4a2c-8bd4-229b19bbd9f3",
   "metadata": {},
   "outputs": [],
   "source": [
    "library(\"gsmr\")\n",
    "setwd(\"~/project_bst/pleiotropy/gsmr/gsmr_20220604\")\n",
    "source(\"~/project_bst/pleiotropy/gsmr/gsmr_plot.r\")"
   ]
  },
  {
   "cell_type": "markdown",
   "id": "7154e694-0b8f-4040-bfcc-9e253ee2feef",
   "metadata": {},
   "source": [
    "## Waist vs t2d: forward direction"
   ]
  },
  {
   "cell_type": "code",
   "execution_count": 2,
   "id": "3a86eb18-6114-4ce7-aa9b-7f77d6dc40fb",
   "metadata": {},
   "outputs": [
    {
     "name": "stdout",
     "output_type": "stream",
     "text": [
      "[1] 8\n",
      "[1] \"7:27945054_CT_C\" \"C\"               \"CT\"              \"0.93275\"        \n",
      "[5] \"0.0100334\"       \"0.00210073\"      \"0.010264\"        \"0.0208798\"      \n",
      "[1] 8\n",
      "[1] \"7:28174085_CT_C\" \"C\"               \"CT\"              \"0.624225\"       \n",
      "[5] \"-0.0112521\"      \"0.00107171\"      \"-0.0619409\"      \"0.0106291\"      \n",
      "[1] 8\n",
      "[1] \"7:28213499_TAAAAAAAAAAAAAA_T\" \"T\"                           \n",
      "[3] \"TAAAAAAAAAAAAAA\"              \"0.039226\"                    \n",
      "[5] \"0.0158933\"                    \"0.00279364\"                  \n",
      "[7] \"0.0874312\"                    \"0.0270446\"                   \n",
      "[1] 8\n",
      "[1] \"7:28220442_GC_G\" \"G\"               \"GC\"              \"0.489112\"       \n",
      "[5] \"-0.00491049\"     \"0.00107162\"      \"-0.0599062\"      \"0.010673\"       \n",
      "[1] 8\n",
      "[1] \"rs10275982\" \"A\"          \"C\"          \"0.337575\"   \"0.00674933\"\n",
      "[6] \"0.00105907\" \"0.0232861\"  \"0.0105652\" \n",
      "[1] 8\n",
      "[1] \"rs10951191\"  \"A\"           \"C\"           \"0.734871\"    \"-0.00528991\"\n",
      "[6] \"0.00115746\"  \"-0.00839323\" \"0.0115493\"  \n",
      "[1] 8\n",
      "[1] \"rs113568287\" \"G\"           \"T\"           \"0.019327\"    \"0.0178602\"  \n",
      "[6] \"0.00371564\"  \"0.110902\"    \"0.0355717\"  \n",
      "[1] 8\n",
      "[1] \"rs11448038\"  \"TA\"          \"T\"           \"0.550241\"    \"-0.00734251\"\n",
      "[6] \"0.00108575\"  \"-0.0643327\"  \"0.010791\"   \n",
      "[1] 8\n",
      "[1] \"rs11760913\" \"C\"          \"T\"          \"0.528898\"   \"0.00511127\"\n",
      "[6] \"0.00100302\" \"0.0150306\"  \"0.00999892\"\n",
      "[1] 8\n",
      "[1] \"rs11763181\" \"G\"          \"T\"          \"0.932675\"   \"0.0113624\" \n",
      "[6] \"0.00200085\" \"0.0558798\"  \"0.0203279\" \n",
      "[1] 8\n",
      "[1] \"rs12669171\" \"G\"          \"A\"          \"0.197928\"   \"0.00626456\"\n",
      "[6] \"0.00129282\" \"0.0261861\"  \"0.0129241\" \n",
      "[1] 8\n",
      "[1] \"rs150139082\" \"TACAC\"       \"T\"           \"0.74787\"     \"-0.00652433\"\n",
      "[6] \"0.00115443\"  \"-0.0542918\"  \"0.0113906\"  \n",
      "[1] 8\n",
      "[1] \"rs198\"      \"T\"          \"C\"          \"0.862353\"   \"0.00682598\"\n",
      "[6] \"0.00144728\" \"0.045438\"   \"0.0146276\" \n",
      "[1] 8\n",
      "[1] \"rs217\"      \"T\"          \"C\"          \"0.631407\"   \"0.00495402\"\n",
      "[6] \"0.00103524\" \"0.0353873\"  \"0.0103556\" \n",
      "[1] 8\n",
      "[1] \"rs2391496\"   \"T\"           \"C\"           \"0.773442\"    \"-0.00799461\"\n",
      "[6] \"0.00119058\"  \"-0.0500094\"  \"0.0117453\"  \n",
      "[1] 8\n",
      "[1] \"rs28576490\" \"C\"          \"T\"          \"0.249261\"   \"0.00710177\"\n",
      "[6] \"0.00115341\" \"0.0481631\"  \"0.0113927\" \n",
      "[1] 8\n",
      "[1] \"rs35830575\"  \"CT\"          \"C\"           \"0.460592\"    \"-0.00685115\"\n",
      "[6] \"0.00105472\"  \"-0.0520141\"  \"0.0105302\"  \n",
      "[1] 8\n",
      "[1] \"rs552707\"   \"C\"          \"T\"          \"0.704571\"   \"-0.0137139\"\n",
      "[6] \"0.00109172\" \"-0.0603912\" \"0.0107819\" \n",
      "[1] 8\n",
      "[1] \"rs55901351\" \"T\"          \"C\"          \"0.043143\"   \"0.0139155\" \n",
      "[6] \"0.00250225\" \"0.0227267\"  \"0.0250389\" \n",
      "[1] 8\n",
      "[1] \"rs56079286\" \"A\"          \"G\"          \"0.047788\"   \"0.00949376\"\n",
      "[6] \"0.00233771\" \"0.0320608\"  \"0.0233391\" \n",
      "[1] 8\n",
      "[1] \"rs62449929\"  \"A\"           \"G\"           \"0.166346\"    \"-0.00601634\"\n",
      "[6] \"0.00133588\"  \"-0.0157505\"  \"0.0133041\"  \n",
      "[1] 8\n",
      "[1] \"rs6963719\"   \"T\"           \"C\"           \"0.736491\"    \"-0.00853848\"\n",
      "[6] \"0.00113137\"  \"-0.03057\"    \"0.0112096\"  \n",
      "[1] 8\n",
      "[1] \"rs73083396\"  \"A\"           \"C\"           \"0.083239\"    \"-0.00825809\"\n",
      "[6] \"0.00182029\"  \"-0.0360591\"  \"0.0181444\"  \n",
      "[1] 8\n",
      "[1] \"rs73089168\"  \"T\"           \"C\"           \"0.103008\"    \"0.00672198\" \n",
      "[6] \"0.00163987\"  \"5.74948e-05\" \"0.0163692\"  \n",
      "[1] 8\n",
      "[1] \"rs73091056\"  \"A\"           \"G\"           \"0.061852\"    \"-0.00870687\"\n",
      "[6] \"0.00213489\"  \"-0.0256625\"  \"0.0213076\"  \n",
      "[1] 8\n",
      "[1] \"rs73091220\" \"G\"          \"C\"          \"0.151202\"   \"0.0118983\" \n",
      "[6] \"0.00138936\" \"0.0324259\"  \"0.0138546\" \n",
      "[1] 8\n",
      "[1] \"rs7384844\"   \"T\"           \"A\"           \"0.443721\"    \"0.00490425\" \n",
      "[6] \"0.00100417\"  \"-0.00505873\" \"0.0100198\"  \n",
      "[1] 8\n",
      "[1] \"rs75685985\" \"C\"          \"T\"          \"0.030876\"   \"0.0158526\" \n",
      "[6] \"0.00295249\" \"0.0722014\"  \"0.029598\"  \n",
      "[1] 8\n",
      "[1] \"rs78912482\" \"T\"          \"C\"          \"0.047805\"   \"0.00992181\"\n",
      "[6] \"0.00236238\" \"0.00606896\" \"0.0235307\" \n",
      "[1] 8\n",
      "[1] \"rs849328\"   \"A\"          \"C\"          \"0.855613\"   \"-0.0108077\"\n",
      "[6] \"0.00141975\" \"-0.0649381\" \"0.0139059\" \n",
      "[1] 8\n",
      "[1] \"rs849330\"    \"A\"           \"G\"           \"0.0102795\"   \"-0.00837974\"\n",
      "[6] \"0.00103186\"  \"-0.0462282\"  \"0.0102795\"  \n"
     ]
    },
    {
     "name": "stderr",
     "output_type": "stream",
     "text": [
      "\n",
      "## Exposure and outcome\n",
      "\n",
      "1 exposure(s): waist\n",
      "\n",
      "1 outcome(s): t2d\n",
      "\n",
      "\n",
      "## GSMR result\n",
      "\n"
     ]
    },
    {
     "name": "stdout",
     "output_type": "stream",
     "text": [
      "  Exposure Outcome     bxy       se           p n_snps\n",
      "1    waist     t2d 4.44127 0.656177 1.30218e-11     31\n"
     ]
    },
    {
     "data": {
      "text/html": [
       "<dl>\n",
       "\t<dt>$pheno</dt>\n",
       "\t\t<dd><style>\n",
       ".list-inline {list-style: none; margin:0; padding: 0}\n",
       ".list-inline>li {display: inline-block}\n",
       ".list-inline>li:not(:last-child)::after {content: \"\\00b7\"; padding: 0 .5ex}\n",
       "</style>\n",
       "<ol class=list-inline><li>'1'</li><li>'1'</li><li>'waist'</li><li>'t2d'</li></ol>\n",
       "</dd>\n",
       "\t<dt>$bxy_result</dt>\n",
       "\t\t<dd><table class=\"dataframe\">\n",
       "<caption>A matrix: 1 × 6 of type chr</caption>\n",
       "<thead>\n",
       "\t<tr><th scope=col>Exposure</th><th scope=col>Outcome</th><th scope=col>bxy</th><th scope=col>se</th><th scope=col>p</th><th scope=col>n_snps</th></tr>\n",
       "</thead>\n",
       "<tbody>\n",
       "\t<tr><td>waist</td><td>t2d</td><td>4.44127</td><td>0.656177</td><td>1.30218e-11</td><td>31</td></tr>\n",
       "</tbody>\n",
       "</table>\n",
       "</dd>\n",
       "\t<dt>$snp_effect</dt>\n",
       "\t\t<dd><table class=\"dataframe\">\n",
       "<caption>A matrix: 31 × 10 of type chr</caption>\n",
       "<tbody>\n",
       "\t<tr><th scope=row>strbuf</th><td>7:27945054_CT_C             </td><td>1</td><td>NA</td><td>C    </td><td>CT             </td><td>0.93275  </td><td>0.0100334  </td><td>0.00210073</td><td>0.010264   </td><td>0.0208798 </td></tr>\n",
       "\t<tr><th scope=row>strbuf</th><td>7:28174085_CT_C             </td><td>1</td><td>NA</td><td>C    </td><td>CT             </td><td>0.624225 </td><td>-0.0112521 </td><td>0.00107171</td><td>-0.0619409 </td><td>0.0106291 </td></tr>\n",
       "\t<tr><th scope=row>strbuf</th><td>7:28213499_TAAAAAAAAAAAAAA_T</td><td>1</td><td>NA</td><td>T    </td><td>TAAAAAAAAAAAAAA</td><td>0.039226 </td><td>0.0158933  </td><td>0.00279364</td><td>0.0874312  </td><td>0.0270446 </td></tr>\n",
       "\t<tr><th scope=row>strbuf</th><td>7:28220442_GC_G             </td><td>1</td><td>NA</td><td>G    </td><td>GC             </td><td>0.489112 </td><td>-0.00491049</td><td>0.00107162</td><td>-0.0599062 </td><td>0.010673  </td></tr>\n",
       "\t<tr><th scope=row>strbuf</th><td>rs10275982                  </td><td>1</td><td>NA</td><td>A    </td><td>C              </td><td>0.337575 </td><td>0.00674933 </td><td>0.00105907</td><td>0.0232861  </td><td>0.0105652 </td></tr>\n",
       "\t<tr><th scope=row>strbuf</th><td>rs10951191                  </td><td>1</td><td>NA</td><td>A    </td><td>C              </td><td>0.734871 </td><td>-0.00528991</td><td>0.00115746</td><td>-0.00839323</td><td>0.0115493 </td></tr>\n",
       "\t<tr><th scope=row>strbuf</th><td>rs113568287                 </td><td>1</td><td>NA</td><td>G    </td><td>T              </td><td>0.019327 </td><td>0.0178602  </td><td>0.00371564</td><td>0.110902   </td><td>0.0355717 </td></tr>\n",
       "\t<tr><th scope=row>strbuf</th><td>rs11448038                  </td><td>1</td><td>NA</td><td>TA   </td><td>T              </td><td>0.550241 </td><td>-0.00734251</td><td>0.00108575</td><td>-0.0643327 </td><td>0.010791  </td></tr>\n",
       "\t<tr><th scope=row>strbuf</th><td>rs11760913                  </td><td>1</td><td>NA</td><td>C    </td><td>T              </td><td>0.528898 </td><td>0.00511127 </td><td>0.00100302</td><td>0.0150306  </td><td>0.00999892</td></tr>\n",
       "\t<tr><th scope=row>strbuf</th><td>rs11763181                  </td><td>1</td><td>NA</td><td>G    </td><td>T              </td><td>0.932675 </td><td>0.0113624  </td><td>0.00200085</td><td>0.0558798  </td><td>0.0203279 </td></tr>\n",
       "\t<tr><th scope=row>strbuf</th><td>rs12669171                  </td><td>1</td><td>NA</td><td>G    </td><td>A              </td><td>0.197928 </td><td>0.00626456 </td><td>0.00129282</td><td>0.0261861  </td><td>0.0129241 </td></tr>\n",
       "\t<tr><th scope=row>strbuf</th><td>rs150139082                 </td><td>1</td><td>NA</td><td>TACAC</td><td>T              </td><td>0.74787  </td><td>-0.00652433</td><td>0.00115443</td><td>-0.0542918 </td><td>0.0113906 </td></tr>\n",
       "\t<tr><th scope=row>strbuf</th><td>rs198                       </td><td>1</td><td>NA</td><td>T    </td><td>C              </td><td>0.862353 </td><td>0.00682598 </td><td>0.00144728</td><td>0.045438   </td><td>0.0146276 </td></tr>\n",
       "\t<tr><th scope=row>strbuf</th><td>rs217                       </td><td>1</td><td>NA</td><td>T    </td><td>C              </td><td>0.631407 </td><td>0.00495402 </td><td>0.00103524</td><td>0.0353873  </td><td>0.0103556 </td></tr>\n",
       "\t<tr><th scope=row>strbuf</th><td>rs2391496                   </td><td>1</td><td>NA</td><td>T    </td><td>C              </td><td>0.773442 </td><td>-0.00799461</td><td>0.00119058</td><td>-0.0500094 </td><td>0.0117453 </td></tr>\n",
       "\t<tr><th scope=row>strbuf</th><td>rs28576490                  </td><td>1</td><td>NA</td><td>C    </td><td>T              </td><td>0.249261 </td><td>0.00710177 </td><td>0.00115341</td><td>0.0481631  </td><td>0.0113927 </td></tr>\n",
       "\t<tr><th scope=row>strbuf</th><td>rs35830575                  </td><td>1</td><td>NA</td><td>CT   </td><td>C              </td><td>0.460592 </td><td>-0.00685115</td><td>0.00105472</td><td>-0.0520141 </td><td>0.0105302 </td></tr>\n",
       "\t<tr><th scope=row>strbuf</th><td>rs552707                    </td><td>1</td><td>NA</td><td>C    </td><td>T              </td><td>0.704571 </td><td>-0.0137139 </td><td>0.00109172</td><td>-0.0603912 </td><td>0.0107819 </td></tr>\n",
       "\t<tr><th scope=row>strbuf</th><td>rs55901351                  </td><td>1</td><td>NA</td><td>T    </td><td>C              </td><td>0.043143 </td><td>0.0139155  </td><td>0.00250225</td><td>0.0227267  </td><td>0.0250389 </td></tr>\n",
       "\t<tr><th scope=row>strbuf</th><td>rs56079286                  </td><td>1</td><td>NA</td><td>A    </td><td>G              </td><td>0.047788 </td><td>0.00949376 </td><td>0.00233771</td><td>0.0320608  </td><td>0.0233391 </td></tr>\n",
       "\t<tr><th scope=row>strbuf</th><td>rs62449929                  </td><td>1</td><td>NA</td><td>A    </td><td>G              </td><td>0.166346 </td><td>-0.00601634</td><td>0.00133588</td><td>-0.0157505 </td><td>0.0133041 </td></tr>\n",
       "\t<tr><th scope=row>strbuf</th><td>rs6963719                   </td><td>1</td><td>NA</td><td>T    </td><td>C              </td><td>0.736491 </td><td>-0.00853848</td><td>0.00113137</td><td>-0.03057   </td><td>0.0112096 </td></tr>\n",
       "\t<tr><th scope=row>strbuf</th><td>rs73083396                  </td><td>1</td><td>NA</td><td>A    </td><td>C              </td><td>0.083239 </td><td>-0.00825809</td><td>0.00182029</td><td>-0.0360591 </td><td>0.0181444 </td></tr>\n",
       "\t<tr><th scope=row>strbuf</th><td>rs73089168                  </td><td>1</td><td>NA</td><td>T    </td><td>C              </td><td>0.103008 </td><td>0.00672198 </td><td>0.00163987</td><td>5.74948e-05</td><td>0.0163692 </td></tr>\n",
       "\t<tr><th scope=row>strbuf</th><td>rs73091056                  </td><td>1</td><td>NA</td><td>A    </td><td>G              </td><td>0.061852 </td><td>-0.00870687</td><td>0.00213489</td><td>-0.0256625 </td><td>0.0213076 </td></tr>\n",
       "\t<tr><th scope=row>strbuf</th><td>rs73091220                  </td><td>1</td><td>NA</td><td>G    </td><td>C              </td><td>0.151202 </td><td>0.0118983  </td><td>0.00138936</td><td>0.0324259  </td><td>0.0138546 </td></tr>\n",
       "\t<tr><th scope=row>strbuf</th><td>rs7384844                   </td><td>1</td><td>NA</td><td>T    </td><td>A              </td><td>0.443721 </td><td>0.00490425 </td><td>0.00100417</td><td>-0.00505873</td><td>0.0100198 </td></tr>\n",
       "\t<tr><th scope=row>strbuf</th><td>rs75685985                  </td><td>1</td><td>NA</td><td>C    </td><td>T              </td><td>0.030876 </td><td>0.0158526  </td><td>0.00295249</td><td>0.0722014  </td><td>0.029598  </td></tr>\n",
       "\t<tr><th scope=row>strbuf</th><td>rs78912482                  </td><td>1</td><td>NA</td><td>T    </td><td>C              </td><td>0.047805 </td><td>0.00992181 </td><td>0.00236238</td><td>0.00606896 </td><td>0.0235307 </td></tr>\n",
       "\t<tr><th scope=row>strbuf</th><td>rs849328                    </td><td>1</td><td>NA</td><td>A    </td><td>C              </td><td>0.855613 </td><td>-0.0108077 </td><td>0.00141975</td><td>-0.0649381 </td><td>0.0139059 </td></tr>\n",
       "\t<tr><th scope=row>strbuf</th><td>rs849330                    </td><td>1</td><td>NA</td><td>A    </td><td>G              </td><td>0.0102795</td><td>-0.00837974</td><td>0.00103186</td><td>-0.0462282 </td><td>0.0102795 </td></tr>\n",
       "</tbody>\n",
       "</table>\n",
       "</dd>\n",
       "</dl>\n"
      ],
      "text/latex": [
       "\\begin{description}\n",
       "\\item[\\$pheno] \\begin{enumerate*}\n",
       "\\item '1'\n",
       "\\item '1'\n",
       "\\item 'waist'\n",
       "\\item 't2d'\n",
       "\\end{enumerate*}\n",
       "\n",
       "\\item[\\$bxy\\_result] A matrix: 1 × 6 of type chr\n",
       "\\begin{tabular}{llllll}\n",
       " Exposure & Outcome & bxy & se & p & n\\_snps\\\\\n",
       "\\hline\n",
       "\t waist & t2d & 4.44127 & 0.656177 & 1.30218e-11 & 31\\\\\n",
       "\\end{tabular}\n",
       "\n",
       "\\item[\\$snp\\_effect] A matrix: 31 × 10 of type chr\n",
       "\\begin{tabular}{r|llllllllll}\n",
       "\tstrbuf & 7:27945054\\_CT\\_C              & 1 & NA & C     & CT              & 0.93275   & 0.0100334   & 0.00210073 & 0.010264    & 0.0208798 \\\\\n",
       "\tstrbuf & 7:28174085\\_CT\\_C              & 1 & NA & C     & CT              & 0.624225  & -0.0112521  & 0.00107171 & -0.0619409  & 0.0106291 \\\\\n",
       "\tstrbuf & 7:28213499\\_TAAAAAAAAAAAAAA\\_T & 1 & NA & T     & TAAAAAAAAAAAAAA & 0.039226  & 0.0158933   & 0.00279364 & 0.0874312   & 0.0270446 \\\\\n",
       "\tstrbuf & 7:28220442\\_GC\\_G              & 1 & NA & G     & GC              & 0.489112  & -0.00491049 & 0.00107162 & -0.0599062  & 0.010673  \\\\\n",
       "\tstrbuf & rs10275982                   & 1 & NA & A     & C               & 0.337575  & 0.00674933  & 0.00105907 & 0.0232861   & 0.0105652 \\\\\n",
       "\tstrbuf & rs10951191                   & 1 & NA & A     & C               & 0.734871  & -0.00528991 & 0.00115746 & -0.00839323 & 0.0115493 \\\\\n",
       "\tstrbuf & rs113568287                  & 1 & NA & G     & T               & 0.019327  & 0.0178602   & 0.00371564 & 0.110902    & 0.0355717 \\\\\n",
       "\tstrbuf & rs11448038                   & 1 & NA & TA    & T               & 0.550241  & -0.00734251 & 0.00108575 & -0.0643327  & 0.010791  \\\\\n",
       "\tstrbuf & rs11760913                   & 1 & NA & C     & T               & 0.528898  & 0.00511127  & 0.00100302 & 0.0150306   & 0.00999892\\\\\n",
       "\tstrbuf & rs11763181                   & 1 & NA & G     & T               & 0.932675  & 0.0113624   & 0.00200085 & 0.0558798   & 0.0203279 \\\\\n",
       "\tstrbuf & rs12669171                   & 1 & NA & G     & A               & 0.197928  & 0.00626456  & 0.00129282 & 0.0261861   & 0.0129241 \\\\\n",
       "\tstrbuf & rs150139082                  & 1 & NA & TACAC & T               & 0.74787   & -0.00652433 & 0.00115443 & -0.0542918  & 0.0113906 \\\\\n",
       "\tstrbuf & rs198                        & 1 & NA & T     & C               & 0.862353  & 0.00682598  & 0.00144728 & 0.045438    & 0.0146276 \\\\\n",
       "\tstrbuf & rs217                        & 1 & NA & T     & C               & 0.631407  & 0.00495402  & 0.00103524 & 0.0353873   & 0.0103556 \\\\\n",
       "\tstrbuf & rs2391496                    & 1 & NA & T     & C               & 0.773442  & -0.00799461 & 0.00119058 & -0.0500094  & 0.0117453 \\\\\n",
       "\tstrbuf & rs28576490                   & 1 & NA & C     & T               & 0.249261  & 0.00710177  & 0.00115341 & 0.0481631   & 0.0113927 \\\\\n",
       "\tstrbuf & rs35830575                   & 1 & NA & CT    & C               & 0.460592  & -0.00685115 & 0.00105472 & -0.0520141  & 0.0105302 \\\\\n",
       "\tstrbuf & rs552707                     & 1 & NA & C     & T               & 0.704571  & -0.0137139  & 0.00109172 & -0.0603912  & 0.0107819 \\\\\n",
       "\tstrbuf & rs55901351                   & 1 & NA & T     & C               & 0.043143  & 0.0139155   & 0.00250225 & 0.0227267   & 0.0250389 \\\\\n",
       "\tstrbuf & rs56079286                   & 1 & NA & A     & G               & 0.047788  & 0.00949376  & 0.00233771 & 0.0320608   & 0.0233391 \\\\\n",
       "\tstrbuf & rs62449929                   & 1 & NA & A     & G               & 0.166346  & -0.00601634 & 0.00133588 & -0.0157505  & 0.0133041 \\\\\n",
       "\tstrbuf & rs6963719                    & 1 & NA & T     & C               & 0.736491  & -0.00853848 & 0.00113137 & -0.03057    & 0.0112096 \\\\\n",
       "\tstrbuf & rs73083396                   & 1 & NA & A     & C               & 0.083239  & -0.00825809 & 0.00182029 & -0.0360591  & 0.0181444 \\\\\n",
       "\tstrbuf & rs73089168                   & 1 & NA & T     & C               & 0.103008  & 0.00672198  & 0.00163987 & 5.74948e-05 & 0.0163692 \\\\\n",
       "\tstrbuf & rs73091056                   & 1 & NA & A     & G               & 0.061852  & -0.00870687 & 0.00213489 & -0.0256625  & 0.0213076 \\\\\n",
       "\tstrbuf & rs73091220                   & 1 & NA & G     & C               & 0.151202  & 0.0118983   & 0.00138936 & 0.0324259   & 0.0138546 \\\\\n",
       "\tstrbuf & rs7384844                    & 1 & NA & T     & A               & 0.443721  & 0.00490425  & 0.00100417 & -0.00505873 & 0.0100198 \\\\\n",
       "\tstrbuf & rs75685985                   & 1 & NA & C     & T               & 0.030876  & 0.0158526   & 0.00295249 & 0.0722014   & 0.029598  \\\\\n",
       "\tstrbuf & rs78912482                   & 1 & NA & T     & C               & 0.047805  & 0.00992181  & 0.00236238 & 0.00606896  & 0.0235307 \\\\\n",
       "\tstrbuf & rs849328                     & 1 & NA & A     & C               & 0.855613  & -0.0108077  & 0.00141975 & -0.0649381  & 0.0139059 \\\\\n",
       "\tstrbuf & rs849330                     & 1 & NA & A     & G               & 0.0102795 & -0.00837974 & 0.00103186 & -0.0462282  & 0.0102795 \\\\\n",
       "\\end{tabular}\n",
       "\n",
       "\\end{description}\n"
      ],
      "text/markdown": [
       "$pheno\n",
       ":   1. '1'\n",
       "2. '1'\n",
       "3. 'waist'\n",
       "4. 't2d'\n",
       "\n",
       "\n",
       "\n",
       "$bxy_result\n",
       ":   \n",
       "A matrix: 1 × 6 of type chr\n",
       "\n",
       "| Exposure | Outcome | bxy | se | p | n_snps |\n",
       "|---|---|---|---|---|---|\n",
       "| waist | t2d | 4.44127 | 0.656177 | 1.30218e-11 | 31 |\n",
       "\n",
       "\n",
       "$snp_effect\n",
       ":   \n",
       "A matrix: 31 × 10 of type chr\n",
       "\n",
       "| strbuf | 7:27945054_CT_C              | 1 | NA | C     | CT              | 0.93275   | 0.0100334   | 0.00210073 | 0.010264    | 0.0208798  |\n",
       "| strbuf | 7:28174085_CT_C              | 1 | NA | C     | CT              | 0.624225  | -0.0112521  | 0.00107171 | -0.0619409  | 0.0106291  |\n",
       "| strbuf | 7:28213499_TAAAAAAAAAAAAAA_T | 1 | NA | T     | TAAAAAAAAAAAAAA | 0.039226  | 0.0158933   | 0.00279364 | 0.0874312   | 0.0270446  |\n",
       "| strbuf | 7:28220442_GC_G              | 1 | NA | G     | GC              | 0.489112  | -0.00491049 | 0.00107162 | -0.0599062  | 0.010673   |\n",
       "| strbuf | rs10275982                   | 1 | NA | A     | C               | 0.337575  | 0.00674933  | 0.00105907 | 0.0232861   | 0.0105652  |\n",
       "| strbuf | rs10951191                   | 1 | NA | A     | C               | 0.734871  | -0.00528991 | 0.00115746 | -0.00839323 | 0.0115493  |\n",
       "| strbuf | rs113568287                  | 1 | NA | G     | T               | 0.019327  | 0.0178602   | 0.00371564 | 0.110902    | 0.0355717  |\n",
       "| strbuf | rs11448038                   | 1 | NA | TA    | T               | 0.550241  | -0.00734251 | 0.00108575 | -0.0643327  | 0.010791   |\n",
       "| strbuf | rs11760913                   | 1 | NA | C     | T               | 0.528898  | 0.00511127  | 0.00100302 | 0.0150306   | 0.00999892 |\n",
       "| strbuf | rs11763181                   | 1 | NA | G     | T               | 0.932675  | 0.0113624   | 0.00200085 | 0.0558798   | 0.0203279  |\n",
       "| strbuf | rs12669171                   | 1 | NA | G     | A               | 0.197928  | 0.00626456  | 0.00129282 | 0.0261861   | 0.0129241  |\n",
       "| strbuf | rs150139082                  | 1 | NA | TACAC | T               | 0.74787   | -0.00652433 | 0.00115443 | -0.0542918  | 0.0113906  |\n",
       "| strbuf | rs198                        | 1 | NA | T     | C               | 0.862353  | 0.00682598  | 0.00144728 | 0.045438    | 0.0146276  |\n",
       "| strbuf | rs217                        | 1 | NA | T     | C               | 0.631407  | 0.00495402  | 0.00103524 | 0.0353873   | 0.0103556  |\n",
       "| strbuf | rs2391496                    | 1 | NA | T     | C               | 0.773442  | -0.00799461 | 0.00119058 | -0.0500094  | 0.0117453  |\n",
       "| strbuf | rs28576490                   | 1 | NA | C     | T               | 0.249261  | 0.00710177  | 0.00115341 | 0.0481631   | 0.0113927  |\n",
       "| strbuf | rs35830575                   | 1 | NA | CT    | C               | 0.460592  | -0.00685115 | 0.00105472 | -0.0520141  | 0.0105302  |\n",
       "| strbuf | rs552707                     | 1 | NA | C     | T               | 0.704571  | -0.0137139  | 0.00109172 | -0.0603912  | 0.0107819  |\n",
       "| strbuf | rs55901351                   | 1 | NA | T     | C               | 0.043143  | 0.0139155   | 0.00250225 | 0.0227267   | 0.0250389  |\n",
       "| strbuf | rs56079286                   | 1 | NA | A     | G               | 0.047788  | 0.00949376  | 0.00233771 | 0.0320608   | 0.0233391  |\n",
       "| strbuf | rs62449929                   | 1 | NA | A     | G               | 0.166346  | -0.00601634 | 0.00133588 | -0.0157505  | 0.0133041  |\n",
       "| strbuf | rs6963719                    | 1 | NA | T     | C               | 0.736491  | -0.00853848 | 0.00113137 | -0.03057    | 0.0112096  |\n",
       "| strbuf | rs73083396                   | 1 | NA | A     | C               | 0.083239  | -0.00825809 | 0.00182029 | -0.0360591  | 0.0181444  |\n",
       "| strbuf | rs73089168                   | 1 | NA | T     | C               | 0.103008  | 0.00672198  | 0.00163987 | 5.74948e-05 | 0.0163692  |\n",
       "| strbuf | rs73091056                   | 1 | NA | A     | G               | 0.061852  | -0.00870687 | 0.00213489 | -0.0256625  | 0.0213076  |\n",
       "| strbuf | rs73091220                   | 1 | NA | G     | C               | 0.151202  | 0.0118983   | 0.00138936 | 0.0324259   | 0.0138546  |\n",
       "| strbuf | rs7384844                    | 1 | NA | T     | A               | 0.443721  | 0.00490425  | 0.00100417 | -0.00505873 | 0.0100198  |\n",
       "| strbuf | rs75685985                   | 1 | NA | C     | T               | 0.030876  | 0.0158526   | 0.00295249 | 0.0722014   | 0.029598   |\n",
       "| strbuf | rs78912482                   | 1 | NA | T     | C               | 0.047805  | 0.00992181  | 0.00236238 | 0.00606896  | 0.0235307  |\n",
       "| strbuf | rs849328                     | 1 | NA | A     | C               | 0.855613  | -0.0108077  | 0.00141975 | -0.0649381  | 0.0139059  |\n",
       "| strbuf | rs849330                     | 1 | NA | A     | G               | 0.0102795 | -0.00837974 | 0.00103186 | -0.0462282  | 0.0102795  |\n",
       "\n",
       "\n",
       "\n",
       "\n"
      ],
      "text/plain": [
       "$pheno\n",
       "[1] \"1\"     \"1\"     \"waist\" \"t2d\"  \n",
       "\n",
       "$bxy_result\n",
       "     Exposure Outcome bxy       se         p             n_snps\n",
       "[1,] \"waist\"  \"t2d\"   \"4.44127\" \"0.656177\" \"1.30218e-11\" \"31\"  \n",
       "\n",
       "$snp_effect\n",
       "       [,1]                           [,2] [,3] [,4]    [,5]             \n",
       "strbuf \"7:27945054_CT_C\"              \"1\"  NA   \"C\"     \"CT\"             \n",
       "strbuf \"7:28174085_CT_C\"              \"1\"  NA   \"C\"     \"CT\"             \n",
       "strbuf \"7:28213499_TAAAAAAAAAAAAAA_T\" \"1\"  NA   \"T\"     \"TAAAAAAAAAAAAAA\"\n",
       "strbuf \"7:28220442_GC_G\"              \"1\"  NA   \"G\"     \"GC\"             \n",
       "strbuf \"rs10275982\"                   \"1\"  NA   \"A\"     \"C\"              \n",
       "strbuf \"rs10951191\"                   \"1\"  NA   \"A\"     \"C\"              \n",
       "strbuf \"rs113568287\"                  \"1\"  NA   \"G\"     \"T\"              \n",
       "strbuf \"rs11448038\"                   \"1\"  NA   \"TA\"    \"T\"              \n",
       "strbuf \"rs11760913\"                   \"1\"  NA   \"C\"     \"T\"              \n",
       "strbuf \"rs11763181\"                   \"1\"  NA   \"G\"     \"T\"              \n",
       "strbuf \"rs12669171\"                   \"1\"  NA   \"G\"     \"A\"              \n",
       "strbuf \"rs150139082\"                  \"1\"  NA   \"TACAC\" \"T\"              \n",
       "strbuf \"rs198\"                        \"1\"  NA   \"T\"     \"C\"              \n",
       "strbuf \"rs217\"                        \"1\"  NA   \"T\"     \"C\"              \n",
       "strbuf \"rs2391496\"                    \"1\"  NA   \"T\"     \"C\"              \n",
       "strbuf \"rs28576490\"                   \"1\"  NA   \"C\"     \"T\"              \n",
       "strbuf \"rs35830575\"                   \"1\"  NA   \"CT\"    \"C\"              \n",
       "strbuf \"rs552707\"                     \"1\"  NA   \"C\"     \"T\"              \n",
       "strbuf \"rs55901351\"                   \"1\"  NA   \"T\"     \"C\"              \n",
       "strbuf \"rs56079286\"                   \"1\"  NA   \"A\"     \"G\"              \n",
       "strbuf \"rs62449929\"                   \"1\"  NA   \"A\"     \"G\"              \n",
       "strbuf \"rs6963719\"                    \"1\"  NA   \"T\"     \"C\"              \n",
       "strbuf \"rs73083396\"                   \"1\"  NA   \"A\"     \"C\"              \n",
       "strbuf \"rs73089168\"                   \"1\"  NA   \"T\"     \"C\"              \n",
       "strbuf \"rs73091056\"                   \"1\"  NA   \"A\"     \"G\"              \n",
       "strbuf \"rs73091220\"                   \"1\"  NA   \"G\"     \"C\"              \n",
       "strbuf \"rs7384844\"                    \"1\"  NA   \"T\"     \"A\"              \n",
       "strbuf \"rs75685985\"                   \"1\"  NA   \"C\"     \"T\"              \n",
       "strbuf \"rs78912482\"                   \"1\"  NA   \"T\"     \"C\"              \n",
       "strbuf \"rs849328\"                     \"1\"  NA   \"A\"     \"C\"              \n",
       "strbuf \"rs849330\"                     \"1\"  NA   \"A\"     \"G\"              \n",
       "       [,6]        [,7]          [,8]         [,9]          [,10]       \n",
       "strbuf \"0.93275\"   \"0.0100334\"   \"0.00210073\" \"0.010264\"    \"0.0208798\" \n",
       "strbuf \"0.624225\"  \"-0.0112521\"  \"0.00107171\" \"-0.0619409\"  \"0.0106291\" \n",
       "strbuf \"0.039226\"  \"0.0158933\"   \"0.00279364\" \"0.0874312\"   \"0.0270446\" \n",
       "strbuf \"0.489112\"  \"-0.00491049\" \"0.00107162\" \"-0.0599062\"  \"0.010673\"  \n",
       "strbuf \"0.337575\"  \"0.00674933\"  \"0.00105907\" \"0.0232861\"   \"0.0105652\" \n",
       "strbuf \"0.734871\"  \"-0.00528991\" \"0.00115746\" \"-0.00839323\" \"0.0115493\" \n",
       "strbuf \"0.019327\"  \"0.0178602\"   \"0.00371564\" \"0.110902\"    \"0.0355717\" \n",
       "strbuf \"0.550241\"  \"-0.00734251\" \"0.00108575\" \"-0.0643327\"  \"0.010791\"  \n",
       "strbuf \"0.528898\"  \"0.00511127\"  \"0.00100302\" \"0.0150306\"   \"0.00999892\"\n",
       "strbuf \"0.932675\"  \"0.0113624\"   \"0.00200085\" \"0.0558798\"   \"0.0203279\" \n",
       "strbuf \"0.197928\"  \"0.00626456\"  \"0.00129282\" \"0.0261861\"   \"0.0129241\" \n",
       "strbuf \"0.74787\"   \"-0.00652433\" \"0.00115443\" \"-0.0542918\"  \"0.0113906\" \n",
       "strbuf \"0.862353\"  \"0.00682598\"  \"0.00144728\" \"0.045438\"    \"0.0146276\" \n",
       "strbuf \"0.631407\"  \"0.00495402\"  \"0.00103524\" \"0.0353873\"   \"0.0103556\" \n",
       "strbuf \"0.773442\"  \"-0.00799461\" \"0.00119058\" \"-0.0500094\"  \"0.0117453\" \n",
       "strbuf \"0.249261\"  \"0.00710177\"  \"0.00115341\" \"0.0481631\"   \"0.0113927\" \n",
       "strbuf \"0.460592\"  \"-0.00685115\" \"0.00105472\" \"-0.0520141\"  \"0.0105302\" \n",
       "strbuf \"0.704571\"  \"-0.0137139\"  \"0.00109172\" \"-0.0603912\"  \"0.0107819\" \n",
       "strbuf \"0.043143\"  \"0.0139155\"   \"0.00250225\" \"0.0227267\"   \"0.0250389\" \n",
       "strbuf \"0.047788\"  \"0.00949376\"  \"0.00233771\" \"0.0320608\"   \"0.0233391\" \n",
       "strbuf \"0.166346\"  \"-0.00601634\" \"0.00133588\" \"-0.0157505\"  \"0.0133041\" \n",
       "strbuf \"0.736491\"  \"-0.00853848\" \"0.00113137\" \"-0.03057\"    \"0.0112096\" \n",
       "strbuf \"0.083239\"  \"-0.00825809\" \"0.00182029\" \"-0.0360591\"  \"0.0181444\" \n",
       "strbuf \"0.103008\"  \"0.00672198\"  \"0.00163987\" \"5.74948e-05\" \"0.0163692\" \n",
       "strbuf \"0.061852\"  \"-0.00870687\" \"0.00213489\" \"-0.0256625\"  \"0.0213076\" \n",
       "strbuf \"0.151202\"  \"0.0118983\"   \"0.00138936\" \"0.0324259\"   \"0.0138546\" \n",
       "strbuf \"0.443721\"  \"0.00490425\"  \"0.00100417\" \"-0.00505873\" \"0.0100198\" \n",
       "strbuf \"0.030876\"  \"0.0158526\"   \"0.00295249\" \"0.0722014\"   \"0.029598\"  \n",
       "strbuf \"0.047805\"  \"0.00992181\"  \"0.00236238\" \"0.00606896\"  \"0.0235307\" \n",
       "strbuf \"0.855613\"  \"-0.0108077\"  \"0.00141975\" \"-0.0649381\"  \"0.0139059\" \n",
       "strbuf \"0.0102795\" \"-0.00837974\" \"0.00103186\" \"-0.0462282\"  \"0.0102795\" \n"
      ]
     },
     "metadata": {},
     "output_type": "display_data"
    },
    {
     "data": {
      "image/png": "[encoded data removed]",
      "text/plain": [
       "plot without title"
      ]
     },
     "metadata": {
      "image/png": {
       "height": 420,
       "width": 420
      }
     },
     "output_type": "display_data"
    }
   ],
   "source": [
    "gsmr0_waist_t2d = read_gsmr_data(\"waist_t2d_gsmr0.eff_plot.gz\")\n",
    "gsmr_summary(gsmr0_waist_t2d)      # show a summary of the data\n",
    "plot_gsmr_effect(gsmr0_waist_t2d, \"waist\", \"t2d\", colors()[74]) \n",
    "head(gsmr0_waist_t2d)"
   ]
  },
  {
   "cell_type": "code",
   "execution_count": null,
   "id": "ce78d9b7-073a-466b-88f2-cd286e275bd7",
   "metadata": {},
   "outputs": [],
   "source": []
  },
  {
   "cell_type": "markdown",
   "id": "34311b74-5c3a-4f1c-a8be-2e4aab82a720",
   "metadata": {},
   "source": [
    "## waist vs t2d reverse direction\n",
    "\n",
    "Not enough SNPs retain for the analysis"
   ]
  },
  {
   "cell_type": "code",
   "execution_count": 3,
   "id": "4b93a53a-5604-42ce-a02a-2cab8c730652",
   "metadata": {},
   "outputs": [
    {
     "name": "stdout",
     "output_type": "stream",
     "text": [
      "[1] 8\n",
      "[1] \"7:28174085_CT_C\" \"C\"               \"CT\"              \"0.624225\"       \n",
      "[5] \"-0.0112521\"      \"0.00107171\"      \"-0.0619409\"      \"0.0106291\"      \n",
      "[1] 8\n",
      "[1] \"rs1708299\"  \"G\"          \"A\"          \"0.699574\"   \"-0.013372\" \n",
      "[6] \"0.00108603\" \"-0.0642032\" \"0.010721\"  \n",
      "[1] 8\n",
      "[1] \"rs28576490\" \"C\"          \"T\"          \"0.249261\"   \"0.00710177\"\n",
      "[6] \"0.00115341\" \"0.0481631\"  \"0.0113927\" \n",
      "[1] 8\n",
      "[1] \"rs35830575\"  \"CT\"          \"C\"           \"0.460592\"    \"-0.00685115\"\n",
      "[6] \"0.00105472\"  \"-0.0520141\"  \"0.0105302\"  \n",
      "[1] 8\n",
      "[1] \"rs515013\"   \"T\"          \"C\"          \"0.855736\"   \"-0.0105402\"\n",
      "[6] \"0.00142193\" \"-0.0694419\" \"0.0139083\" \n",
      "[1] 8\n",
      "[1] \"rs6958010\"   \"G\"           \"T\"           \"0.774492\"    \"-0.00783205\"\n",
      "[6] \"0.00119101\"  \"-0.0508955\"  \"0.0117463\"  \n",
      "[1] 8\n",
      "[1] \"rs740123\"    \"C\"           \"G\"           \"0.628838\"    \"-0.00609634\"\n",
      "[6] \"0.00103145\"  \"-0.0491675\"  \"0.0102281\"  \n",
      "[1] 8\n",
      "[1] \"rs849330\"    \"A\"           \"G\"           \"0.00103186\"  \"-0.00837974\"\n",
      "[6] \"0.00103186\"  \"-0.0462282\"  \"0.0102795\"  \n",
      "[1] 8\n",
      "[1] \"rs860262\"   \"A\"          \"C\"          \"0.501994\"   \"-0.0122771\"\n",
      "[6] \"0.00099583\" \"-0.0883406\" \"0.00991734\"\n"
     ]
    },
    {
     "data": {
      "text/html": [
       "<dl>\n",
       "\t<dt>$pheno</dt>\n",
       "\t\t<dd><style>\n",
       ".list-inline {list-style: none; margin:0; padding: 0}\n",
       ".list-inline>li {display: inline-block}\n",
       ".list-inline>li:not(:last-child)::after {content: \"\\00b7\"; padding: 0 .5ex}\n",
       "</style>\n",
       "<ol class=list-inline><li>'1'</li><li>'1'</li><li>'waist'</li><li>'t2d'</li></ol>\n",
       "</dd>\n",
       "\t<dt>$bxy_result</dt>\n",
       "\t\t<dd><table class=\"dataframe\">\n",
       "<caption>A matrix: 1 × 6 of type chr</caption>\n",
       "<thead>\n",
       "\t<tr><th scope=col>Exposure</th><th scope=col>Outcome</th><th scope=col>bxy</th><th scope=col>se</th><th scope=col>p</th><th scope=col>n_snps</th></tr>\n",
       "</thead>\n",
       "<tbody>\n",
       "\t<tr><td>t2d</td><td>waist</td><td>0.128415</td><td>0.0191838</td><td>2.17218e-11</td><td>9</td></tr>\n",
       "</tbody>\n",
       "</table>\n",
       "</dd>\n",
       "\t<dt>$snp_effect</dt>\n",
       "\t\t<dd><table class=\"dataframe\">\n",
       "<caption>A matrix: 9 × 10 of type chr</caption>\n",
       "<tbody>\n",
       "\t<tr><th scope=row>strbuf</th><td>7:28174085_CT_C</td><td>NA</td><td>1</td><td>C </td><td>CT</td><td>0.624225  </td><td>-0.0112521 </td><td>0.00107171</td><td>-0.0619409</td><td>0.0106291 </td></tr>\n",
       "\t<tr><th scope=row>strbuf</th><td>rs1708299      </td><td>NA</td><td>1</td><td>G </td><td>A </td><td>0.699574  </td><td>-0.013372  </td><td>0.00108603</td><td>-0.0642032</td><td>0.010721  </td></tr>\n",
       "\t<tr><th scope=row>strbuf</th><td>rs28576490     </td><td>NA</td><td>1</td><td>C </td><td>T </td><td>0.249261  </td><td>0.00710177 </td><td>0.00115341</td><td>0.0481631 </td><td>0.0113927 </td></tr>\n",
       "\t<tr><th scope=row>strbuf</th><td>rs35830575     </td><td>NA</td><td>1</td><td>CT</td><td>C </td><td>0.460592  </td><td>-0.00685115</td><td>0.00105472</td><td>-0.0520141</td><td>0.0105302 </td></tr>\n",
       "\t<tr><th scope=row>strbuf</th><td>rs515013       </td><td>NA</td><td>1</td><td>T </td><td>C </td><td>0.855736  </td><td>-0.0105402 </td><td>0.00142193</td><td>-0.0694419</td><td>0.0139083 </td></tr>\n",
       "\t<tr><th scope=row>strbuf</th><td>rs6958010      </td><td>NA</td><td>1</td><td>G </td><td>T </td><td>0.774492  </td><td>-0.00783205</td><td>0.00119101</td><td>-0.0508955</td><td>0.0117463 </td></tr>\n",
       "\t<tr><th scope=row>strbuf</th><td>rs740123       </td><td>NA</td><td>1</td><td>C </td><td>G </td><td>0.628838  </td><td>-0.00609634</td><td>0.00103145</td><td>-0.0491675</td><td>0.0102281 </td></tr>\n",
       "\t<tr><th scope=row>strbuf</th><td>rs849330       </td><td>NA</td><td>1</td><td>A </td><td>G </td><td>0.00103186</td><td>-0.00837974</td><td>0.00103186</td><td>-0.0462282</td><td>0.0102795 </td></tr>\n",
       "\t<tr><th scope=row>strbuf</th><td>rs860262       </td><td>NA</td><td>1</td><td>A </td><td>C </td><td>0.501994  </td><td>-0.0122771 </td><td>0.00099583</td><td>-0.0883406</td><td>0.00991734</td></tr>\n",
       "</tbody>\n",
       "</table>\n",
       "</dd>\n",
       "</dl>\n"
      ],
      "text/latex": [
       "\\begin{description}\n",
       "\\item[\\$pheno] \\begin{enumerate*}\n",
       "\\item '1'\n",
       "\\item '1'\n",
       "\\item 'waist'\n",
       "\\item 't2d'\n",
       "\\end{enumerate*}\n",
       "\n",
       "\\item[\\$bxy\\_result] A matrix: 1 × 6 of type chr\n",
       "\\begin{tabular}{llllll}\n",
       " Exposure & Outcome & bxy & se & p & n\\_snps\\\\\n",
       "\\hline\n",
       "\t t2d & waist & 0.128415 & 0.0191838 & 2.17218e-11 & 9\\\\\n",
       "\\end{tabular}\n",
       "\n",
       "\\item[\\$snp\\_effect] A matrix: 9 × 10 of type chr\n",
       "\\begin{tabular}{r|llllllllll}\n",
       "\tstrbuf & 7:28174085\\_CT\\_C & NA & 1 & C  & CT & 0.624225   & -0.0112521  & 0.00107171 & -0.0619409 & 0.0106291 \\\\\n",
       "\tstrbuf & rs1708299       & NA & 1 & G  & A  & 0.699574   & -0.013372   & 0.00108603 & -0.0642032 & 0.010721  \\\\\n",
       "\tstrbuf & rs28576490      & NA & 1 & C  & T  & 0.249261   & 0.00710177  & 0.00115341 & 0.0481631  & 0.0113927 \\\\\n",
       "\tstrbuf & rs35830575      & NA & 1 & CT & C  & 0.460592   & -0.00685115 & 0.00105472 & -0.0520141 & 0.0105302 \\\\\n",
       "\tstrbuf & rs515013        & NA & 1 & T  & C  & 0.855736   & -0.0105402  & 0.00142193 & -0.0694419 & 0.0139083 \\\\\n",
       "\tstrbuf & rs6958010       & NA & 1 & G  & T  & 0.774492   & -0.00783205 & 0.00119101 & -0.0508955 & 0.0117463 \\\\\n",
       "\tstrbuf & rs740123        & NA & 1 & C  & G  & 0.628838   & -0.00609634 & 0.00103145 & -0.0491675 & 0.0102281 \\\\\n",
       "\tstrbuf & rs849330        & NA & 1 & A  & G  & 0.00103186 & -0.00837974 & 0.00103186 & -0.0462282 & 0.0102795 \\\\\n",
       "\tstrbuf & rs860262        & NA & 1 & A  & C  & 0.501994   & -0.0122771  & 0.00099583 & -0.0883406 & 0.00991734\\\\\n",
       "\\end{tabular}\n",
       "\n",
       "\\end{description}\n"
      ],
      "text/markdown": [
       "$pheno\n",
       ":   1. '1'\n",
       "2. '1'\n",
       "3. 'waist'\n",
       "4. 't2d'\n",
       "\n",
       "\n",
       "\n",
       "$bxy_result\n",
       ":   \n",
       "A matrix: 1 × 6 of type chr\n",
       "\n",
       "| Exposure | Outcome | bxy | se | p | n_snps |\n",
       "|---|---|---|---|---|---|\n",
       "| t2d | waist | 0.128415 | 0.0191838 | 2.17218e-11 | 9 |\n",
       "\n",
       "\n",
       "$snp_effect\n",
       ":   \n",
       "A matrix: 9 × 10 of type chr\n",
       "\n",
       "| strbuf | 7:28174085_CT_C | NA | 1 | C  | CT | 0.624225   | -0.0112521  | 0.00107171 | -0.0619409 | 0.0106291  |\n",
       "| strbuf | rs1708299       | NA | 1 | G  | A  | 0.699574   | -0.013372   | 0.00108603 | -0.0642032 | 0.010721   |\n",
       "| strbuf | rs28576490      | NA | 1 | C  | T  | 0.249261   | 0.00710177  | 0.00115341 | 0.0481631  | 0.0113927  |\n",
       "| strbuf | rs35830575      | NA | 1 | CT | C  | 0.460592   | -0.00685115 | 0.00105472 | -0.0520141 | 0.0105302  |\n",
       "| strbuf | rs515013        | NA | 1 | T  | C  | 0.855736   | -0.0105402  | 0.00142193 | -0.0694419 | 0.0139083  |\n",
       "| strbuf | rs6958010       | NA | 1 | G  | T  | 0.774492   | -0.00783205 | 0.00119101 | -0.0508955 | 0.0117463  |\n",
       "| strbuf | rs740123        | NA | 1 | C  | G  | 0.628838   | -0.00609634 | 0.00103145 | -0.0491675 | 0.0102281  |\n",
       "| strbuf | rs849330        | NA | 1 | A  | G  | 0.00103186 | -0.00837974 | 0.00103186 | -0.0462282 | 0.0102795  |\n",
       "| strbuf | rs860262        | NA | 1 | A  | C  | 0.501994   | -0.0122771  | 0.00099583 | -0.0883406 | 0.00991734 |\n",
       "\n",
       "\n",
       "\n",
       "\n"
      ],
      "text/plain": [
       "$pheno\n",
       "[1] \"1\"     \"1\"     \"waist\" \"t2d\"  \n",
       "\n",
       "$bxy_result\n",
       "     Exposure Outcome bxy        se          p             n_snps\n",
       "[1,] \"t2d\"    \"waist\" \"0.128415\" \"0.0191838\" \"2.17218e-11\" \"9\"   \n",
       "\n",
       "$snp_effect\n",
       "       [,1]              [,2] [,3] [,4] [,5] [,6]         [,7]         \n",
       "strbuf \"7:28174085_CT_C\" NA   \"1\"  \"C\"  \"CT\" \"0.624225\"   \"-0.0112521\" \n",
       "strbuf \"rs1708299\"       NA   \"1\"  \"G\"  \"A\"  \"0.699574\"   \"-0.013372\"  \n",
       "strbuf \"rs28576490\"      NA   \"1\"  \"C\"  \"T\"  \"0.249261\"   \"0.00710177\" \n",
       "strbuf \"rs35830575\"      NA   \"1\"  \"CT\" \"C\"  \"0.460592\"   \"-0.00685115\"\n",
       "strbuf \"rs515013\"        NA   \"1\"  \"T\"  \"C\"  \"0.855736\"   \"-0.0105402\" \n",
       "strbuf \"rs6958010\"       NA   \"1\"  \"G\"  \"T\"  \"0.774492\"   \"-0.00783205\"\n",
       "strbuf \"rs740123\"        NA   \"1\"  \"C\"  \"G\"  \"0.628838\"   \"-0.00609634\"\n",
       "strbuf \"rs849330\"        NA   \"1\"  \"A\"  \"G\"  \"0.00103186\" \"-0.00837974\"\n",
       "strbuf \"rs860262\"        NA   \"1\"  \"A\"  \"C\"  \"0.501994\"   \"-0.0122771\" \n",
       "       [,8]         [,9]         [,10]       \n",
       "strbuf \"0.00107171\" \"-0.0619409\" \"0.0106291\" \n",
       "strbuf \"0.00108603\" \"-0.0642032\" \"0.010721\"  \n",
       "strbuf \"0.00115341\" \"0.0481631\"  \"0.0113927\" \n",
       "strbuf \"0.00105472\" \"-0.0520141\" \"0.0105302\" \n",
       "strbuf \"0.00142193\" \"-0.0694419\" \"0.0139083\" \n",
       "strbuf \"0.00119101\" \"-0.0508955\" \"0.0117463\" \n",
       "strbuf \"0.00103145\" \"-0.0491675\" \"0.0102281\" \n",
       "strbuf \"0.00103186\" \"-0.0462282\" \"0.0102795\" \n",
       "strbuf \"0.00099583\" \"-0.0883406\" \"0.00991734\"\n"
      ]
     },
     "metadata": {},
     "output_type": "display_data"
    },
    {
     "data": {
      "image/png": "[encoded data removed]",
      "text/plain": [
       "plot without title"
      ]
     },
     "metadata": {
      "image/png": {
       "height": 420,
       "width": 420
      }
     },
     "output_type": "display_data"
    }
   ],
   "source": [
    "gsmr1_waist_t2d = read_gsmr_data(\"waist_t2d_gsmr1.eff_plot.gz\")\n",
    "#gsmr_summary(gsmr1_waist_t2d)      # show a summary of the data\n",
    "plot_gsmr_effect(gsmr1_waist_t2d, \"t2d\", \"waist\", colors()[74]) \n",
    "head(gsmr1_waist_t2d)"
   ]
  },
  {
   "cell_type": "code",
   "execution_count": null,
   "id": "9b49798a-f5db-48a3-addc-310ef00ec7fd",
   "metadata": {},
   "outputs": [],
   "source": []
  },
  {
   "cell_type": "markdown",
   "id": "f94d40dc-3807-4115-9f1f-4b3ce9ca3ee9",
   "metadata": {},
   "source": [
    "## asthma vs t2d forward direction"
   ]
  },
  {
   "cell_type": "code",
   "execution_count": 4,
   "id": "0b7feb31-1361-4a4d-afc1-85daf3b095f1",
   "metadata": {},
   "outputs": [
    {
     "name": "stdout",
     "output_type": "stream",
     "text": [
      "[1] 8\n",
      "[1] \"7:28168745_GTCTT_G\" \"G\"                  \"GTCTT\"             \n",
      "[4] \"0.208401\"           \"0.066065\"           \"0.00854986\"        \n",
      "[7] \"0.0574497\"          \"0.0120596\"         \n",
      "[1] 8\n",
      "[1] \"7:28220442_GC_G\" \"G\"               \"GC\"              \"0.489124\"       \n",
      "[5] \"-0.0358269\"      \"0.00756831\"      \"-0.0599062\"      \"0.010673\"       \n",
      "[1] 8\n",
      "[1] \"7:28238276_CT_C\" \"C\"               \"CT\"              \"0.130109\"       \n",
      "[5] \"0.0545137\"       \"0.0113213\"       \"0.0355087\"       \"0.0161995\"      \n",
      "[1] 8\n",
      "[1] \"rs10226758\" \"C\"          \"A\"          \"0.34418\"    \"0.0366323\" \n",
      "[6] \"0.00822957\" \"0.0223983\"  \"0.0116617\" \n",
      "[1] 8\n",
      "[1] \"rs10260837\" \"T\"          \"C\"          \"0.114763\"   \"0.0468162\" \n",
      "[6] \"0.0108969\"  \"0.0516\"     \"0.0153189\" \n",
      "[1] 8\n",
      "[1] \"rs11448038\" \"TA\"         \"T\"          \"0.550279\"   \"-0.036878\" \n",
      "[6] \"0.00765695\" \"-0.0643327\" \"0.010791\"  \n",
      "[1] 8\n",
      "[1] \"rs11767776\" \"T\"          \"G\"          \"0.651347\"   \"-0.0400554\"\n",
      "[6] \"0.00734949\" \"-0.0522301\" \"0.0103465\" \n",
      "[1] 8\n",
      "[1] \"rs13247499\" \"A\"          \"C\"          \"0.090871\"   \"0.0622232\" \n",
      "[6] \"0.0120685\"  \"0.0262857\"  \"0.0173101\" \n",
      "[1] 8\n",
      "[1] \"rs151265501\" \"G\"           \"GAA\"         \"0.09096\"     \"0.0605599\"  \n",
      "[6] \"0.0128042\"   \"0.0515486\"   \"0.0180555\"  \n",
      "[1] 8\n",
      "[1] \"rs2015027\" \"T\"         \"C\"         \"0.111157\"  \"0.0575823\" \"0.0111033\"\n",
      "[7] \"0.0220017\" \"0.0159009\"\n",
      "[1] 8\n",
      "[1] \"rs78823938\" \"A\"          \"G\"          \"0.079244\"   \"0.061297\"  \n",
      "[6] \"0.012841\"   \"0.0654648\"  \"0.0180692\" \n"
     ]
    },
    {
     "name": "stderr",
     "output_type": "stream",
     "text": [
      "\n",
      "## Exposure and outcome\n",
      "\n",
      "1 exposure(s): asthma\n",
      "\n",
      "1 outcome(s): t2d\n",
      "\n",
      "\n",
      "## GSMR result\n",
      "\n"
     ]
    },
    {
     "name": "stdout",
     "output_type": "stream",
     "text": [
      "  Exposure Outcome      bxy       se           p n_snps\n",
      "1   asthma     t2d 0.977844 0.197145 7.04857e-07     11\n"
     ]
    },
    {
     "data": {
      "text/html": [
       "<dl>\n",
       "\t<dt>$pheno</dt>\n",
       "\t\t<dd><style>\n",
       ".list-inline {list-style: none; margin:0; padding: 0}\n",
       ".list-inline>li {display: inline-block}\n",
       ".list-inline>li:not(:last-child)::after {content: \"\\00b7\"; padding: 0 .5ex}\n",
       "</style>\n",
       "<ol class=list-inline><li>'1'</li><li>'1'</li><li>'asthma'</li><li>'t2d'</li></ol>\n",
       "</dd>\n",
       "\t<dt>$bxy_result</dt>\n",
       "\t\t<dd><table class=\"dataframe\">\n",
       "<caption>A matrix: 1 × 6 of type chr</caption>\n",
       "<thead>\n",
       "\t<tr><th scope=col>Exposure</th><th scope=col>Outcome</th><th scope=col>bxy</th><th scope=col>se</th><th scope=col>p</th><th scope=col>n_snps</th></tr>\n",
       "</thead>\n",
       "<tbody>\n",
       "\t<tr><td>asthma</td><td>t2d</td><td>0.977844</td><td>0.197145</td><td>7.04857e-07</td><td>11</td></tr>\n",
       "</tbody>\n",
       "</table>\n",
       "</dd>\n",
       "\t<dt>$snp_effect</dt>\n",
       "\t\t<dd><table class=\"dataframe\">\n",
       "<caption>A matrix: 11 × 10 of type chr</caption>\n",
       "<tbody>\n",
       "\t<tr><th scope=row>strbuf</th><td>7:28168745_GTCTT_G</td><td>1</td><td>NA</td><td>G </td><td>GTCTT</td><td>0.208401</td><td>0.066065  </td><td>0.00854986</td><td>0.0574497 </td><td>0.0120596</td></tr>\n",
       "\t<tr><th scope=row>strbuf</th><td>7:28220442_GC_G   </td><td>1</td><td>NA</td><td>G </td><td>GC   </td><td>0.489124</td><td>-0.0358269</td><td>0.00756831</td><td>-0.0599062</td><td>0.010673 </td></tr>\n",
       "\t<tr><th scope=row>strbuf</th><td>7:28238276_CT_C   </td><td>1</td><td>NA</td><td>C </td><td>CT   </td><td>0.130109</td><td>0.0545137 </td><td>0.0113213 </td><td>0.0355087 </td><td>0.0161995</td></tr>\n",
       "\t<tr><th scope=row>strbuf</th><td>rs10226758        </td><td>1</td><td>NA</td><td>C </td><td>A    </td><td>0.34418 </td><td>0.0366323 </td><td>0.00822957</td><td>0.0223983 </td><td>0.0116617</td></tr>\n",
       "\t<tr><th scope=row>strbuf</th><td>rs10260837        </td><td>1</td><td>NA</td><td>T </td><td>C    </td><td>0.114763</td><td>0.0468162 </td><td>0.0108969 </td><td>0.0516    </td><td>0.0153189</td></tr>\n",
       "\t<tr><th scope=row>strbuf</th><td>rs11448038        </td><td>1</td><td>NA</td><td>TA</td><td>T    </td><td>0.550279</td><td>-0.036878 </td><td>0.00765695</td><td>-0.0643327</td><td>0.010791 </td></tr>\n",
       "\t<tr><th scope=row>strbuf</th><td>rs11767776        </td><td>1</td><td>NA</td><td>T </td><td>G    </td><td>0.651347</td><td>-0.0400554</td><td>0.00734949</td><td>-0.0522301</td><td>0.0103465</td></tr>\n",
       "\t<tr><th scope=row>strbuf</th><td>rs13247499        </td><td>1</td><td>NA</td><td>A </td><td>C    </td><td>0.090871</td><td>0.0622232 </td><td>0.0120685 </td><td>0.0262857 </td><td>0.0173101</td></tr>\n",
       "\t<tr><th scope=row>strbuf</th><td>rs151265501       </td><td>1</td><td>NA</td><td>G </td><td>GAA  </td><td>0.09096 </td><td>0.0605599 </td><td>0.0128042 </td><td>0.0515486 </td><td>0.0180555</td></tr>\n",
       "\t<tr><th scope=row>strbuf</th><td>rs2015027         </td><td>1</td><td>NA</td><td>T </td><td>C    </td><td>0.111157</td><td>0.0575823 </td><td>0.0111033 </td><td>0.0220017 </td><td>0.0159009</td></tr>\n",
       "\t<tr><th scope=row>strbuf</th><td>rs78823938        </td><td>1</td><td>NA</td><td>A </td><td>G    </td><td>0.079244</td><td>0.061297  </td><td>0.012841  </td><td>0.0654648 </td><td>0.0180692</td></tr>\n",
       "</tbody>\n",
       "</table>\n",
       "</dd>\n",
       "</dl>\n"
      ],
      "text/latex": [
       "\\begin{description}\n",
       "\\item[\\$pheno] \\begin{enumerate*}\n",
       "\\item '1'\n",
       "\\item '1'\n",
       "\\item 'asthma'\n",
       "\\item 't2d'\n",
       "\\end{enumerate*}\n",
       "\n",
       "\\item[\\$bxy\\_result] A matrix: 1 × 6 of type chr\n",
       "\\begin{tabular}{llllll}\n",
       " Exposure & Outcome & bxy & se & p & n\\_snps\\\\\n",
       "\\hline\n",
       "\t asthma & t2d & 0.977844 & 0.197145 & 7.04857e-07 & 11\\\\\n",
       "\\end{tabular}\n",
       "\n",
       "\\item[\\$snp\\_effect] A matrix: 11 × 10 of type chr\n",
       "\\begin{tabular}{r|llllllllll}\n",
       "\tstrbuf & 7:28168745\\_GTCTT\\_G & 1 & NA & G  & GTCTT & 0.208401 & 0.066065   & 0.00854986 & 0.0574497  & 0.0120596\\\\\n",
       "\tstrbuf & 7:28220442\\_GC\\_G    & 1 & NA & G  & GC    & 0.489124 & -0.0358269 & 0.00756831 & -0.0599062 & 0.010673 \\\\\n",
       "\tstrbuf & 7:28238276\\_CT\\_C    & 1 & NA & C  & CT    & 0.130109 & 0.0545137  & 0.0113213  & 0.0355087  & 0.0161995\\\\\n",
       "\tstrbuf & rs10226758         & 1 & NA & C  & A     & 0.34418  & 0.0366323  & 0.00822957 & 0.0223983  & 0.0116617\\\\\n",
       "\tstrbuf & rs10260837         & 1 & NA & T  & C     & 0.114763 & 0.0468162  & 0.0108969  & 0.0516     & 0.0153189\\\\\n",
       "\tstrbuf & rs11448038         & 1 & NA & TA & T     & 0.550279 & -0.036878  & 0.00765695 & -0.0643327 & 0.010791 \\\\\n",
       "\tstrbuf & rs11767776         & 1 & NA & T  & G     & 0.651347 & -0.0400554 & 0.00734949 & -0.0522301 & 0.0103465\\\\\n",
       "\tstrbuf & rs13247499         & 1 & NA & A  & C     & 0.090871 & 0.0622232  & 0.0120685  & 0.0262857  & 0.0173101\\\\\n",
       "\tstrbuf & rs151265501        & 1 & NA & G  & GAA   & 0.09096  & 0.0605599  & 0.0128042  & 0.0515486  & 0.0180555\\\\\n",
       "\tstrbuf & rs2015027          & 1 & NA & T  & C     & 0.111157 & 0.0575823  & 0.0111033  & 0.0220017  & 0.0159009\\\\\n",
       "\tstrbuf & rs78823938         & 1 & NA & A  & G     & 0.079244 & 0.061297   & 0.012841   & 0.0654648  & 0.0180692\\\\\n",
       "\\end{tabular}\n",
       "\n",
       "\\end{description}\n"
      ],
      "text/markdown": [
       "$pheno\n",
       ":   1. '1'\n",
       "2. '1'\n",
       "3. 'asthma'\n",
       "4. 't2d'\n",
       "\n",
       "\n",
       "\n",
       "$bxy_result\n",
       ":   \n",
       "A matrix: 1 × 6 of type chr\n",
       "\n",
       "| Exposure | Outcome | bxy | se | p | n_snps |\n",
       "|---|---|---|---|---|---|\n",
       "| asthma | t2d | 0.977844 | 0.197145 | 7.04857e-07 | 11 |\n",
       "\n",
       "\n",
       "$snp_effect\n",
       ":   \n",
       "A matrix: 11 × 10 of type chr\n",
       "\n",
       "| strbuf | 7:28168745_GTCTT_G | 1 | NA | G  | GTCTT | 0.208401 | 0.066065   | 0.00854986 | 0.0574497  | 0.0120596 |\n",
       "| strbuf | 7:28220442_GC_G    | 1 | NA | G  | GC    | 0.489124 | -0.0358269 | 0.00756831 | -0.0599062 | 0.010673  |\n",
       "| strbuf | 7:28238276_CT_C    | 1 | NA | C  | CT    | 0.130109 | 0.0545137  | 0.0113213  | 0.0355087  | 0.0161995 |\n",
       "| strbuf | rs10226758         | 1 | NA | C  | A     | 0.34418  | 0.0366323  | 0.00822957 | 0.0223983  | 0.0116617 |\n",
       "| strbuf | rs10260837         | 1 | NA | T  | C     | 0.114763 | 0.0468162  | 0.0108969  | 0.0516     | 0.0153189 |\n",
       "| strbuf | rs11448038         | 1 | NA | TA | T     | 0.550279 | -0.036878  | 0.00765695 | -0.0643327 | 0.010791  |\n",
       "| strbuf | rs11767776         | 1 | NA | T  | G     | 0.651347 | -0.0400554 | 0.00734949 | -0.0522301 | 0.0103465 |\n",
       "| strbuf | rs13247499         | 1 | NA | A  | C     | 0.090871 | 0.0622232  | 0.0120685  | 0.0262857  | 0.0173101 |\n",
       "| strbuf | rs151265501        | 1 | NA | G  | GAA   | 0.09096  | 0.0605599  | 0.0128042  | 0.0515486  | 0.0180555 |\n",
       "| strbuf | rs2015027          | 1 | NA | T  | C     | 0.111157 | 0.0575823  | 0.0111033  | 0.0220017  | 0.0159009 |\n",
       "| strbuf | rs78823938         | 1 | NA | A  | G     | 0.079244 | 0.061297   | 0.012841   | 0.0654648  | 0.0180692 |\n",
       "\n",
       "\n",
       "\n",
       "\n"
      ],
      "text/plain": [
       "$pheno\n",
       "[1] \"1\"      \"1\"      \"asthma\" \"t2d\"   \n",
       "\n",
       "$bxy_result\n",
       "     Exposure Outcome bxy        se         p             n_snps\n",
       "[1,] \"asthma\" \"t2d\"   \"0.977844\" \"0.197145\" \"7.04857e-07\" \"11\"  \n",
       "\n",
       "$snp_effect\n",
       "       [,1]                 [,2] [,3] [,4] [,5]    [,6]       [,7]        \n",
       "strbuf \"7:28168745_GTCTT_G\" \"1\"  NA   \"G\"  \"GTCTT\" \"0.208401\" \"0.066065\"  \n",
       "strbuf \"7:28220442_GC_G\"    \"1\"  NA   \"G\"  \"GC\"    \"0.489124\" \"-0.0358269\"\n",
       "strbuf \"7:28238276_CT_C\"    \"1\"  NA   \"C\"  \"CT\"    \"0.130109\" \"0.0545137\" \n",
       "strbuf \"rs10226758\"         \"1\"  NA   \"C\"  \"A\"     \"0.34418\"  \"0.0366323\" \n",
       "strbuf \"rs10260837\"         \"1\"  NA   \"T\"  \"C\"     \"0.114763\" \"0.0468162\" \n",
       "strbuf \"rs11448038\"         \"1\"  NA   \"TA\" \"T\"     \"0.550279\" \"-0.036878\" \n",
       "strbuf \"rs11767776\"         \"1\"  NA   \"T\"  \"G\"     \"0.651347\" \"-0.0400554\"\n",
       "strbuf \"rs13247499\"         \"1\"  NA   \"A\"  \"C\"     \"0.090871\" \"0.0622232\" \n",
       "strbuf \"rs151265501\"        \"1\"  NA   \"G\"  \"GAA\"   \"0.09096\"  \"0.0605599\" \n",
       "strbuf \"rs2015027\"          \"1\"  NA   \"T\"  \"C\"     \"0.111157\" \"0.0575823\" \n",
       "strbuf \"rs78823938\"         \"1\"  NA   \"A\"  \"G\"     \"0.079244\" \"0.061297\"  \n",
       "       [,8]         [,9]         [,10]      \n",
       "strbuf \"0.00854986\" \"0.0574497\"  \"0.0120596\"\n",
       "strbuf \"0.00756831\" \"-0.0599062\" \"0.010673\" \n",
       "strbuf \"0.0113213\"  \"0.0355087\"  \"0.0161995\"\n",
       "strbuf \"0.00822957\" \"0.0223983\"  \"0.0116617\"\n",
       "strbuf \"0.0108969\"  \"0.0516\"     \"0.0153189\"\n",
       "strbuf \"0.00765695\" \"-0.0643327\" \"0.010791\" \n",
       "strbuf \"0.00734949\" \"-0.0522301\" \"0.0103465\"\n",
       "strbuf \"0.0120685\"  \"0.0262857\"  \"0.0173101\"\n",
       "strbuf \"0.0128042\"  \"0.0515486\"  \"0.0180555\"\n",
       "strbuf \"0.0111033\"  \"0.0220017\"  \"0.0159009\"\n",
       "strbuf \"0.012841\"   \"0.0654648\"  \"0.0180692\"\n"
      ]
     },
     "metadata": {},
     "output_type": "display_data"
    },
    {
     "data": {
      "image/png": "[encoded data removed]",
      "text/plain": [
       "plot without title"
      ]
     },
     "metadata": {
      "image/png": {
       "height": 420,
       "width": 420
      }
     },
     "output_type": "display_data"
    }
   ],
   "source": [
    "gsmr0_asthma_t2d = read_gsmr_data(\"asthma_t2d_gsmr0.eff_plot.gz\")\n",
    "gsmr_summary(gsmr0_asthma_t2d)      # show a summary of the data\n",
    "plot_gsmr_effect(gsmr0_asthma_t2d, \"asthma\", \"t2d\", colors()[74]) \n",
    "head(gsmr0_asthma_t2d)"
   ]
  },
  {
   "cell_type": "markdown",
   "id": "dd54a507-058a-4d7e-bceb-b815f2e50aea",
   "metadata": {},
   "source": [
    "## asthma vs t2d reverse direction"
   ]
  },
  {
   "cell_type": "code",
   "execution_count": 5,
   "id": "9988fd14-cbc2-4de5-81fc-032b49c698bd",
   "metadata": {},
   "outputs": [
    {
     "name": "stdout",
     "output_type": "stream",
     "text": [
      "[1] 8\n",
      "[1] \"7:28174085_CT_C\" \"C\"               \"CT\"              \"0.624241\"       \n",
      "[5] \"-0.0183084\"      \"0.00757168\"      \"-0.0619409\"      \"0.0106291\"      \n",
      "[1] 8\n",
      "[1] \"7:28220442_GC_G\" \"G\"               \"GC\"              \"0.489124\"       \n",
      "[5] \"-0.0358269\"      \"0.00756831\"      \"-0.0599062\"      \"0.010673\"       \n",
      "[1] 8\n",
      "[1] \"rs10264306\" \"G\"          \"A\"          \"0.197298\"   \"0.0574306\" \n",
      "[6] \"0.00873257\" \"0.0650806\"  \"0.0122714\" \n",
      "[1] 8\n",
      "[1] \"rs28576490\" \"C\"          \"T\"          \"0.249263\"   \"0.0314758\" \n",
      "[6] \"0.00810059\" \"0.0481631\"  \"0.0113927\" \n",
      "[1] 8\n",
      "[1] \"rs35830575\" \"CT\"         \"C\"          \"0.460609\"   \"-0.0298146\"\n",
      "[6] \"0.0074534\"  \"-0.0520141\" \"0.0105302\" \n",
      "[1] 8\n",
      "[1] \"rs498475\"   \"A\"          \"G\"          \"0.633996\"   \"-0.0429401\"\n",
      "[6] \"0.00730065\" \"-0.0722011\" \"0.0102597\" \n",
      "[1] 8\n",
      "[1] \"rs515013\"    \"T\"           \"C\"           \"0.85573\"     \"-0.00819354\"\n",
      "[6] \"0.0100391\"   \"-0.0694419\"  \"0.0139083\"  \n",
      "[1] 8\n",
      "[1] \"rs6958010\"  \"G\"          \"T\"          \"0.774495\"   \"-0.0127326\"\n",
      "[6] \"0.00841332\" \"-0.0508955\" \"0.0117463\" \n",
      "[1] 8\n",
      "[1] \"rs702816\"    \"T\"           \"A\"           \"0.000452574\" \"-0.047453\"  \n",
      "[6] \"0.0134687\"   \"-0.0853362\"  \"0.0187366\"  \n",
      "[1] 8\n",
      "[1] \"rs740123\"   \"C\"          \"G\"          \"0.62887\"    \"-0.0344438\"\n",
      "[6] \"0.00726488\" \"-0.0491675\" \"0.0102281\" \n",
      "[1] 8\n",
      "[1] \"rs849330\"     \"A\"            \"G\"            \"7.90505e-321\" \"-0.00952561\" \n",
      "[6] \"0.00728958\"   \"-0.0462282\"   \"0.0102795\"   \n",
      "[1] 8\n",
      "[1] \"rs860262\"   \"A\"          \"C\"          \"0.502\"      \"-0.0347431\"\n",
      "[6] \"0.00703582\" \"-0.0883406\" \"0.00991734\"\n"
     ]
    },
    {
     "name": "stderr",
     "output_type": "stream",
     "text": [
      "\n",
      "## Exposure and outcome\n",
      "\n",
      "1 exposure(s): asthma\n",
      "\n",
      "1 outcome(s): t2d\n",
      "\n",
      "\n",
      "## GSMR result\n",
      "\n"
     ]
    },
    {
     "name": "stdout",
     "output_type": "stream",
     "text": [
      "  Exposure Outcome     bxy       se           p n_snps\n",
      "1      t2d  asthma 0.35082 0.088856 7.87435e-05     12\n"
     ]
    },
    {
     "data": {
      "text/html": [
       "<dl>\n",
       "\t<dt>$pheno</dt>\n",
       "\t\t<dd><style>\n",
       ".list-inline {list-style: none; margin:0; padding: 0}\n",
       ".list-inline>li {display: inline-block}\n",
       ".list-inline>li:not(:last-child)::after {content: \"\\00b7\"; padding: 0 .5ex}\n",
       "</style>\n",
       "<ol class=list-inline><li>'1'</li><li>'1'</li><li>'asthma'</li><li>'t2d'</li></ol>\n",
       "</dd>\n",
       "\t<dt>$bxy_result</dt>\n",
       "\t\t<dd><table class=\"dataframe\">\n",
       "<caption>A matrix: 1 × 6 of type chr</caption>\n",
       "<thead>\n",
       "\t<tr><th scope=col>Exposure</th><th scope=col>Outcome</th><th scope=col>bxy</th><th scope=col>se</th><th scope=col>p</th><th scope=col>n_snps</th></tr>\n",
       "</thead>\n",
       "<tbody>\n",
       "\t<tr><td>t2d</td><td>asthma</td><td>0.35082</td><td>0.088856</td><td>7.87435e-05</td><td>12</td></tr>\n",
       "</tbody>\n",
       "</table>\n",
       "</dd>\n",
       "\t<dt>$snp_effect</dt>\n",
       "\t\t<dd><table class=\"dataframe\">\n",
       "<caption>A matrix: 12 × 10 of type chr</caption>\n",
       "<tbody>\n",
       "\t<tr><th scope=row>strbuf</th><td>7:28174085_CT_C</td><td>NA</td><td>1</td><td>C </td><td>CT</td><td>0.624241    </td><td>-0.0183084 </td><td>0.00757168</td><td>-0.0619409</td><td>0.0106291 </td></tr>\n",
       "\t<tr><th scope=row>strbuf</th><td>7:28220442_GC_G</td><td>NA</td><td>1</td><td>G </td><td>GC</td><td>0.489124    </td><td>-0.0358269 </td><td>0.00756831</td><td>-0.0599062</td><td>0.010673  </td></tr>\n",
       "\t<tr><th scope=row>strbuf</th><td>rs10264306     </td><td>NA</td><td>1</td><td>G </td><td>A </td><td>0.197298    </td><td>0.0574306  </td><td>0.00873257</td><td>0.0650806 </td><td>0.0122714 </td></tr>\n",
       "\t<tr><th scope=row>strbuf</th><td>rs28576490     </td><td>NA</td><td>1</td><td>C </td><td>T </td><td>0.249263    </td><td>0.0314758  </td><td>0.00810059</td><td>0.0481631 </td><td>0.0113927 </td></tr>\n",
       "\t<tr><th scope=row>strbuf</th><td>rs35830575     </td><td>NA</td><td>1</td><td>CT</td><td>C </td><td>0.460609    </td><td>-0.0298146 </td><td>0.0074534 </td><td>-0.0520141</td><td>0.0105302 </td></tr>\n",
       "\t<tr><th scope=row>strbuf</th><td>rs498475       </td><td>NA</td><td>1</td><td>A </td><td>G </td><td>0.633996    </td><td>-0.0429401 </td><td>0.00730065</td><td>-0.0722011</td><td>0.0102597 </td></tr>\n",
       "\t<tr><th scope=row>strbuf</th><td>rs515013       </td><td>NA</td><td>1</td><td>T </td><td>C </td><td>0.85573     </td><td>-0.00819354</td><td>0.0100391 </td><td>-0.0694419</td><td>0.0139083 </td></tr>\n",
       "\t<tr><th scope=row>strbuf</th><td>rs6958010      </td><td>NA</td><td>1</td><td>G </td><td>T </td><td>0.774495    </td><td>-0.0127326 </td><td>0.00841332</td><td>-0.0508955</td><td>0.0117463 </td></tr>\n",
       "\t<tr><th scope=row>strbuf</th><td>rs702816       </td><td>NA</td><td>1</td><td>T </td><td>A </td><td>0.000452574 </td><td>-0.047453  </td><td>0.0134687 </td><td>-0.0853362</td><td>0.0187366 </td></tr>\n",
       "\t<tr><th scope=row>strbuf</th><td>rs740123       </td><td>NA</td><td>1</td><td>C </td><td>G </td><td>0.62887     </td><td>-0.0344438 </td><td>0.00726488</td><td>-0.0491675</td><td>0.0102281 </td></tr>\n",
       "\t<tr><th scope=row>strbuf</th><td>rs849330       </td><td>NA</td><td>1</td><td>A </td><td>G </td><td>7.90505e-321</td><td>-0.00952561</td><td>0.00728958</td><td>-0.0462282</td><td>0.0102795 </td></tr>\n",
       "\t<tr><th scope=row>strbuf</th><td>rs860262       </td><td>NA</td><td>1</td><td>A </td><td>C </td><td>0.502       </td><td>-0.0347431 </td><td>0.00703582</td><td>-0.0883406</td><td>0.00991734</td></tr>\n",
       "</tbody>\n",
       "</table>\n",
       "</dd>\n",
       "</dl>\n"
      ],
      "text/latex": [
       "\\begin{description}\n",
       "\\item[\\$pheno] \\begin{enumerate*}\n",
       "\\item '1'\n",
       "\\item '1'\n",
       "\\item 'asthma'\n",
       "\\item 't2d'\n",
       "\\end{enumerate*}\n",
       "\n",
       "\\item[\\$bxy\\_result] A matrix: 1 × 6 of type chr\n",
       "\\begin{tabular}{llllll}\n",
       " Exposure & Outcome & bxy & se & p & n\\_snps\\\\\n",
       "\\hline\n",
       "\t t2d & asthma & 0.35082 & 0.088856 & 7.87435e-05 & 12\\\\\n",
       "\\end{tabular}\n",
       "\n",
       "\\item[\\$snp\\_effect] A matrix: 12 × 10 of type chr\n",
       "\\begin{tabular}{r|llllllllll}\n",
       "\tstrbuf & 7:28174085\\_CT\\_C & NA & 1 & C  & CT & 0.624241     & -0.0183084  & 0.00757168 & -0.0619409 & 0.0106291 \\\\\n",
       "\tstrbuf & 7:28220442\\_GC\\_G & NA & 1 & G  & GC & 0.489124     & -0.0358269  & 0.00756831 & -0.0599062 & 0.010673  \\\\\n",
       "\tstrbuf & rs10264306      & NA & 1 & G  & A  & 0.197298     & 0.0574306   & 0.00873257 & 0.0650806  & 0.0122714 \\\\\n",
       "\tstrbuf & rs28576490      & NA & 1 & C  & T  & 0.249263     & 0.0314758   & 0.00810059 & 0.0481631  & 0.0113927 \\\\\n",
       "\tstrbuf & rs35830575      & NA & 1 & CT & C  & 0.460609     & -0.0298146  & 0.0074534  & -0.0520141 & 0.0105302 \\\\\n",
       "\tstrbuf & rs498475        & NA & 1 & A  & G  & 0.633996     & -0.0429401  & 0.00730065 & -0.0722011 & 0.0102597 \\\\\n",
       "\tstrbuf & rs515013        & NA & 1 & T  & C  & 0.85573      & -0.00819354 & 0.0100391  & -0.0694419 & 0.0139083 \\\\\n",
       "\tstrbuf & rs6958010       & NA & 1 & G  & T  & 0.774495     & -0.0127326  & 0.00841332 & -0.0508955 & 0.0117463 \\\\\n",
       "\tstrbuf & rs702816        & NA & 1 & T  & A  & 0.000452574  & -0.047453   & 0.0134687  & -0.0853362 & 0.0187366 \\\\\n",
       "\tstrbuf & rs740123        & NA & 1 & C  & G  & 0.62887      & -0.0344438  & 0.00726488 & -0.0491675 & 0.0102281 \\\\\n",
       "\tstrbuf & rs849330        & NA & 1 & A  & G  & 7.90505e-321 & -0.00952561 & 0.00728958 & -0.0462282 & 0.0102795 \\\\\n",
       "\tstrbuf & rs860262        & NA & 1 & A  & C  & 0.502        & -0.0347431  & 0.00703582 & -0.0883406 & 0.00991734\\\\\n",
       "\\end{tabular}\n",
       "\n",
       "\\end{description}\n"
      ],
      "text/markdown": [
       "$pheno\n",
       ":   1. '1'\n",
       "2. '1'\n",
       "3. 'asthma'\n",
       "4. 't2d'\n",
       "\n",
       "\n",
       "\n",
       "$bxy_result\n",
       ":   \n",
       "A matrix: 1 × 6 of type chr\n",
       "\n",
       "| Exposure | Outcome | bxy | se | p | n_snps |\n",
       "|---|---|---|---|---|---|\n",
       "| t2d | asthma | 0.35082 | 0.088856 | 7.87435e-05 | 12 |\n",
       "\n",
       "\n",
       "$snp_effect\n",
       ":   \n",
       "A matrix: 12 × 10 of type chr\n",
       "\n",
       "| strbuf | 7:28174085_CT_C | NA | 1 | C  | CT | 0.624241     | -0.0183084  | 0.00757168 | -0.0619409 | 0.0106291  |\n",
       "| strbuf | 7:28220442_GC_G | NA | 1 | G  | GC | 0.489124     | -0.0358269  | 0.00756831 | -0.0599062 | 0.010673   |\n",
       "| strbuf | rs10264306      | NA | 1 | G  | A  | 0.197298     | 0.0574306   | 0.00873257 | 0.0650806  | 0.0122714  |\n",
       "| strbuf | rs28576490      | NA | 1 | C  | T  | 0.249263     | 0.0314758   | 0.00810059 | 0.0481631  | 0.0113927  |\n",
       "| strbuf | rs35830575      | NA | 1 | CT | C  | 0.460609     | -0.0298146  | 0.0074534  | -0.0520141 | 0.0105302  |\n",
       "| strbuf | rs498475        | NA | 1 | A  | G  | 0.633996     | -0.0429401  | 0.00730065 | -0.0722011 | 0.0102597  |\n",
       "| strbuf | rs515013        | NA | 1 | T  | C  | 0.85573      | -0.00819354 | 0.0100391  | -0.0694419 | 0.0139083  |\n",
       "| strbuf | rs6958010       | NA | 1 | G  | T  | 0.774495     | -0.0127326  | 0.00841332 | -0.0508955 | 0.0117463  |\n",
       "| strbuf | rs702816        | NA | 1 | T  | A  | 0.000452574  | -0.047453   | 0.0134687  | -0.0853362 | 0.0187366  |\n",
       "| strbuf | rs740123        | NA | 1 | C  | G  | 0.62887      | -0.0344438  | 0.00726488 | -0.0491675 | 0.0102281  |\n",
       "| strbuf | rs849330        | NA | 1 | A  | G  | 7.90505e-321 | -0.00952561 | 0.00728958 | -0.0462282 | 0.0102795  |\n",
       "| strbuf | rs860262        | NA | 1 | A  | C  | 0.502        | -0.0347431  | 0.00703582 | -0.0883406 | 0.00991734 |\n",
       "\n",
       "\n",
       "\n",
       "\n"
      ],
      "text/plain": [
       "$pheno\n",
       "[1] \"1\"      \"1\"      \"asthma\" \"t2d\"   \n",
       "\n",
       "$bxy_result\n",
       "     Exposure Outcome  bxy       se         p             n_snps\n",
       "[1,] \"t2d\"    \"asthma\" \"0.35082\" \"0.088856\" \"7.87435e-05\" \"12\"  \n",
       "\n",
       "$snp_effect\n",
       "       [,1]              [,2] [,3] [,4] [,5] [,6]           [,7]         \n",
       "strbuf \"7:28174085_CT_C\" NA   \"1\"  \"C\"  \"CT\" \"0.624241\"     \"-0.0183084\" \n",
       "strbuf \"7:28220442_GC_G\" NA   \"1\"  \"G\"  \"GC\" \"0.489124\"     \"-0.0358269\" \n",
       "strbuf \"rs10264306\"      NA   \"1\"  \"G\"  \"A\"  \"0.197298\"     \"0.0574306\"  \n",
       "strbuf \"rs28576490\"      NA   \"1\"  \"C\"  \"T\"  \"0.249263\"     \"0.0314758\"  \n",
       "strbuf \"rs35830575\"      NA   \"1\"  \"CT\" \"C\"  \"0.460609\"     \"-0.0298146\" \n",
       "strbuf \"rs498475\"        NA   \"1\"  \"A\"  \"G\"  \"0.633996\"     \"-0.0429401\" \n",
       "strbuf \"rs515013\"        NA   \"1\"  \"T\"  \"C\"  \"0.85573\"      \"-0.00819354\"\n",
       "strbuf \"rs6958010\"       NA   \"1\"  \"G\"  \"T\"  \"0.774495\"     \"-0.0127326\" \n",
       "strbuf \"rs702816\"        NA   \"1\"  \"T\"  \"A\"  \"0.000452574\"  \"-0.047453\"  \n",
       "strbuf \"rs740123\"        NA   \"1\"  \"C\"  \"G\"  \"0.62887\"      \"-0.0344438\" \n",
       "strbuf \"rs849330\"        NA   \"1\"  \"A\"  \"G\"  \"7.90505e-321\" \"-0.00952561\"\n",
       "strbuf \"rs860262\"        NA   \"1\"  \"A\"  \"C\"  \"0.502\"        \"-0.0347431\" \n",
       "       [,8]         [,9]         [,10]       \n",
       "strbuf \"0.00757168\" \"-0.0619409\" \"0.0106291\" \n",
       "strbuf \"0.00756831\" \"-0.0599062\" \"0.010673\"  \n",
       "strbuf \"0.00873257\" \"0.0650806\"  \"0.0122714\" \n",
       "strbuf \"0.00810059\" \"0.0481631\"  \"0.0113927\" \n",
       "strbuf \"0.0074534\"  \"-0.0520141\" \"0.0105302\" \n",
       "strbuf \"0.00730065\" \"-0.0722011\" \"0.0102597\" \n",
       "strbuf \"0.0100391\"  \"-0.0694419\" \"0.0139083\" \n",
       "strbuf \"0.00841332\" \"-0.0508955\" \"0.0117463\" \n",
       "strbuf \"0.0134687\"  \"-0.0853362\" \"0.0187366\" \n",
       "strbuf \"0.00726488\" \"-0.0491675\" \"0.0102281\" \n",
       "strbuf \"0.00728958\" \"-0.0462282\" \"0.0102795\" \n",
       "strbuf \"0.00703582\" \"-0.0883406\" \"0.00991734\"\n"
      ]
     },
     "metadata": {},
     "output_type": "display_data"
    },
    {
     "data": {
      "image/png": "[encoded data removed]",
      "text/plain": [
       "plot without title"
      ]
     },
     "metadata": {
      "image/png": {
       "height": 420,
       "width": 420
      }
     },
     "output_type": "display_data"
    }
   ],
   "source": [
    "gsmr1_asthma_t2d = read_gsmr_data(\"asthma_t2d_gsmr01.eff_plot.gz\")\n",
    "gsmr_summary(gsmr1_asthma_t2d)      # show a summary of the data\n",
    "plot_gsmr_effect(gsmr1_asthma_t2d, \"t2d\", \"asthma\", colors()[74]) \n",
    "head(gsmr1_asthma_t2d)"
   ]
  },
  {
   "cell_type": "markdown",
   "id": "2ae6478b-fcdc-47df-8b28-cb979b785eb5",
   "metadata": {},
   "source": [
    "## t2d vs AD forward direction"
   ]
  },
  {
   "cell_type": "code",
   "execution_count": 7,
   "id": "88ece425-58f2-4ce5-bd21-ca3e997df8d1",
   "metadata": {},
   "outputs": [
    {
     "name": "stdout",
     "output_type": "stream",
     "text": [
      "[1] 8\n",
      "[1] \"rs10245867\" \"T\"          \"G\"          \"0.329078\"   \"0.0628153\" \n",
      "[6] \"0.0104881\"  \"-0.03\"      \"0.0086\"    \n",
      "[1] 8\n",
      "[1] \"rs6958010\"  \"G\"          \"T\"          \"0.774495\"   \"-0.0508955\"\n",
      "[6] \"0.0117463\"  \"0.0116\"     \"0.0097\"    \n",
      "[1] 8\n",
      "[1] \"rs73072539\" \"G\"          \"C\"          \"0.083529\"   \"0.0749488\" \n",
      "[6] \"0.0175289\"  \"-0.0393\"    \"0.0144\"    \n",
      "[1] 8\n",
      "[1] \"rs740123\"   \"C\"          \"G\"          \"0.62887\"    \"-0.0491675\"\n",
      "[6] \"0.0102281\"  \"0.0326\"     \"0.0084\"    \n",
      "[1] 8\n",
      "[1] \"rs860262\"   \"A\"          \"C\"          \"0.502\"      \"-0.0883406\"\n",
      "[6] \"0.00991734\" \"0.0229\"     \"0.0081\"    \n"
     ]
    },
    {
     "name": "stderr",
     "output_type": "stream",
     "text": [
      "\n",
      "## Exposure and outcome\n",
      "\n",
      "1 exposure(s): t2d\n",
      "\n",
      "1 outcome(s): AD\n",
      "\n",
      "\n",
      "## GSMR result\n",
      "\n"
     ]
    },
    {
     "name": "stdout",
     "output_type": "stream",
     "text": [
      "  Exposure Outcome       bxy        se         p n_snps\n",
      "1      t2d      AD -0.184507 0.0994638 0.0635942      5\n"
     ]
    },
    {
     "data": {
      "text/html": [
       "<dl>\n",
       "\t<dt>$pheno</dt>\n",
       "\t\t<dd><style>\n",
       ".list-inline {list-style: none; margin:0; padding: 0}\n",
       ".list-inline>li {display: inline-block}\n",
       ".list-inline>li:not(:last-child)::after {content: \"\\00b7\"; padding: 0 .5ex}\n",
       "</style>\n",
       "<ol class=list-inline><li>'1'</li><li>'1'</li><li>'t2d'</li><li>'AD'</li></ol>\n",
       "</dd>\n",
       "\t<dt>$bxy_result</dt>\n",
       "\t\t<dd><table class=\"dataframe\">\n",
       "<caption>A matrix: 1 × 6 of type chr</caption>\n",
       "<thead>\n",
       "\t<tr><th scope=col>Exposure</th><th scope=col>Outcome</th><th scope=col>bxy</th><th scope=col>se</th><th scope=col>p</th><th scope=col>n_snps</th></tr>\n",
       "</thead>\n",
       "<tbody>\n",
       "\t<tr><td>t2d</td><td>AD</td><td>-0.184507</td><td>0.0994638</td><td>0.0635942</td><td>5</td></tr>\n",
       "</tbody>\n",
       "</table>\n",
       "</dd>\n",
       "\t<dt>$snp_effect</dt>\n",
       "\t\t<dd><table class=\"dataframe\">\n",
       "<caption>A matrix: 5 × 10 of type chr</caption>\n",
       "<tbody>\n",
       "\t<tr><th scope=row>strbuf</th><td>rs10245867</td><td>1</td><td>NA</td><td>T</td><td>G</td><td>0.329078</td><td>0.0628153 </td><td>0.0104881 </td><td>-0.03  </td><td>0.0086</td></tr>\n",
       "\t<tr><th scope=row>strbuf</th><td>rs6958010 </td><td>1</td><td>NA</td><td>G</td><td>T</td><td>0.774495</td><td>-0.0508955</td><td>0.0117463 </td><td>0.0116 </td><td>0.0097</td></tr>\n",
       "\t<tr><th scope=row>strbuf</th><td>rs73072539</td><td>1</td><td>NA</td><td>G</td><td>C</td><td>0.083529</td><td>0.0749488 </td><td>0.0175289 </td><td>-0.0393</td><td>0.0144</td></tr>\n",
       "\t<tr><th scope=row>strbuf</th><td>rs740123  </td><td>1</td><td>NA</td><td>C</td><td>G</td><td>0.62887 </td><td>-0.0491675</td><td>0.0102281 </td><td>0.0326 </td><td>0.0084</td></tr>\n",
       "\t<tr><th scope=row>strbuf</th><td>rs860262  </td><td>1</td><td>NA</td><td>A</td><td>C</td><td>0.502   </td><td>-0.0883406</td><td>0.00991734</td><td>0.0229 </td><td>0.0081</td></tr>\n",
       "</tbody>\n",
       "</table>\n",
       "</dd>\n",
       "</dl>\n"
      ],
      "text/latex": [
       "\\begin{description}\n",
       "\\item[\\$pheno] \\begin{enumerate*}\n",
       "\\item '1'\n",
       "\\item '1'\n",
       "\\item 't2d'\n",
       "\\item 'AD'\n",
       "\\end{enumerate*}\n",
       "\n",
       "\\item[\\$bxy\\_result] A matrix: 1 × 6 of type chr\n",
       "\\begin{tabular}{llllll}\n",
       " Exposure & Outcome & bxy & se & p & n\\_snps\\\\\n",
       "\\hline\n",
       "\t t2d & AD & -0.184507 & 0.0994638 & 0.0635942 & 5\\\\\n",
       "\\end{tabular}\n",
       "\n",
       "\\item[\\$snp\\_effect] A matrix: 5 × 10 of type chr\n",
       "\\begin{tabular}{r|llllllllll}\n",
       "\tstrbuf & rs10245867 & 1 & NA & T & G & 0.329078 & 0.0628153  & 0.0104881  & -0.03   & 0.0086\\\\\n",
       "\tstrbuf & rs6958010  & 1 & NA & G & T & 0.774495 & -0.0508955 & 0.0117463  & 0.0116  & 0.0097\\\\\n",
       "\tstrbuf & rs73072539 & 1 & NA & G & C & 0.083529 & 0.0749488  & 0.0175289  & -0.0393 & 0.0144\\\\\n",
       "\tstrbuf & rs740123   & 1 & NA & C & G & 0.62887  & -0.0491675 & 0.0102281  & 0.0326  & 0.0084\\\\\n",
       "\tstrbuf & rs860262   & 1 & NA & A & C & 0.502    & -0.0883406 & 0.00991734 & 0.0229  & 0.0081\\\\\n",
       "\\end{tabular}\n",
       "\n",
       "\\end{description}\n"
      ],
      "text/markdown": [
       "$pheno\n",
       ":   1. '1'\n",
       "2. '1'\n",
       "3. 't2d'\n",
       "4. 'AD'\n",
       "\n",
       "\n",
       "\n",
       "$bxy_result\n",
       ":   \n",
       "A matrix: 1 × 6 of type chr\n",
       "\n",
       "| Exposure | Outcome | bxy | se | p | n_snps |\n",
       "|---|---|---|---|---|---|\n",
       "| t2d | AD | -0.184507 | 0.0994638 | 0.0635942 | 5 |\n",
       "\n",
       "\n",
       "$snp_effect\n",
       ":   \n",
       "A matrix: 5 × 10 of type chr\n",
       "\n",
       "| strbuf | rs10245867 | 1 | NA | T | G | 0.329078 | 0.0628153  | 0.0104881  | -0.03   | 0.0086 |\n",
       "| strbuf | rs6958010  | 1 | NA | G | T | 0.774495 | -0.0508955 | 0.0117463  | 0.0116  | 0.0097 |\n",
       "| strbuf | rs73072539 | 1 | NA | G | C | 0.083529 | 0.0749488  | 0.0175289  | -0.0393 | 0.0144 |\n",
       "| strbuf | rs740123   | 1 | NA | C | G | 0.62887  | -0.0491675 | 0.0102281  | 0.0326  | 0.0084 |\n",
       "| strbuf | rs860262   | 1 | NA | A | C | 0.502    | -0.0883406 | 0.00991734 | 0.0229  | 0.0081 |\n",
       "\n",
       "\n",
       "\n",
       "\n"
      ],
      "text/plain": [
       "$pheno\n",
       "[1] \"1\"   \"1\"   \"t2d\" \"AD\" \n",
       "\n",
       "$bxy_result\n",
       "     Exposure Outcome bxy         se          p           n_snps\n",
       "[1,] \"t2d\"    \"AD\"    \"-0.184507\" \"0.0994638\" \"0.0635942\" \"5\"   \n",
       "\n",
       "$snp_effect\n",
       "       [,1]         [,2] [,3] [,4] [,5] [,6]       [,7]         [,8]        \n",
       "strbuf \"rs10245867\" \"1\"  NA   \"T\"  \"G\"  \"0.329078\" \"0.0628153\"  \"0.0104881\" \n",
       "strbuf \"rs6958010\"  \"1\"  NA   \"G\"  \"T\"  \"0.774495\" \"-0.0508955\" \"0.0117463\" \n",
       "strbuf \"rs73072539\" \"1\"  NA   \"G\"  \"C\"  \"0.083529\" \"0.0749488\"  \"0.0175289\" \n",
       "strbuf \"rs740123\"   \"1\"  NA   \"C\"  \"G\"  \"0.62887\"  \"-0.0491675\" \"0.0102281\" \n",
       "strbuf \"rs860262\"   \"1\"  NA   \"A\"  \"C\"  \"0.502\"    \"-0.0883406\" \"0.00991734\"\n",
       "       [,9]      [,10]   \n",
       "strbuf \"-0.03\"   \"0.0086\"\n",
       "strbuf \"0.0116\"  \"0.0097\"\n",
       "strbuf \"-0.0393\" \"0.0144\"\n",
       "strbuf \"0.0326\"  \"0.0084\"\n",
       "strbuf \"0.0229\"  \"0.0081\"\n"
      ]
     },
     "metadata": {},
     "output_type": "display_data"
    },
    {
     "data": {
      "image/png": "[encoded data removed]",
      "text/plain": [
       "plot without title"
      ]
     },
     "metadata": {
      "image/png": {
       "height": 420,
       "width": 420
      }
     },
     "output_type": "display_data"
    }
   ],
   "source": [
    "gsmr0_t2d_AD = read_gsmr_data(\"t2d_AD_gsmr0.eff_plot.gz\")\n",
    "gsmr_summary(gsmr0_t2d_AD)      # show a summary of the data\n",
    "plot_gsmr_effect(gsmr0_t2d_AD, \"t2d\", \"AD\", colors()[74]) \n",
    "head(gsmr0_t2d_AD)"
   ]
  },
  {
   "cell_type": "markdown",
   "id": "e6a48ca3-f279-47ac-b1d6-8cbfa9201add",
   "metadata": {},
   "source": [
    "## t2d vs AD reverse direcition"
   ]
  },
  {
   "cell_type": "code",
   "execution_count": 14,
   "id": "d1cc444d-0f15-4ad5-a4ff-8aa29d2af563",
   "metadata": {},
   "outputs": [
    {
     "name": "stdout",
     "output_type": "stream",
     "text": [
      "[1] 8\n",
      "[1] \"rs11495981\" \"T\"          \"C\"          \"0.199386\"   \"0.0498459\" \n",
      "[6] \"0.0122557\"  \"-0.0561\"    \"0.01\"      \n",
      "[1] 8\n",
      "[1] \"rs2015027\" \"T\"         \"C\"         \"0.111157\"  \"0.0220017\" \"0.0159009\"\n",
      "[7] \"-0.0583\"   \"0.0129\"   \n",
      "[1] 8\n",
      "[1] \"rs3735569\" \"C\"         \"G\"         \"0.078685\"  \"0.0392527\" \"0.0184387\"\n",
      "[7] \"-0.0635\"   \"0.0143\"   \n",
      "[1] 8\n",
      "[1] \"rs4722756\"  \"G\"          \"A\"          \"0.652699\"   \"-0.0521622\"\n",
      "[6] \"0.0103567\"  \"0.0387\"     \"0.0085\"    \n",
      "[1] 8\n",
      "[1] \"rs73072534\" \"T\"          \"C\"          \"0.0475\"     \"0.0351489\" \n",
      "[6] \"0.0233158\"  \"-0.0812\"    \"0.019\"     \n"
     ]
    },
    {
     "name": "stderr",
     "output_type": "stream",
     "text": [
      "\n",
      "## Exposure and outcome\n",
      "\n",
      "1 exposure(s): t2d\n",
      "\n",
      "1 outcome(s): AD\n",
      "\n",
      "\n",
      "## GSMR result\n",
      "\n"
     ]
    },
    {
     "name": "stdout",
     "output_type": "stream",
     "text": [
      "  Exposure Outcome       bxy       se           p n_snps\n",
      "1       AD     t2d -0.837343 0.225431 0.000203684      5\n"
     ]
    },
    {
     "data": {
      "text/html": [
       "<dl>\n",
       "\t<dt>$pheno</dt>\n",
       "\t\t<dd><style>\n",
       ".list-inline {list-style: none; margin:0; padding: 0}\n",
       ".list-inline>li {display: inline-block}\n",
       ".list-inline>li:not(:last-child)::after {content: \"\\00b7\"; padding: 0 .5ex}\n",
       "</style>\n",
       "<ol class=list-inline><li>'1'</li><li>'1'</li><li>'t2d'</li><li>'AD'</li></ol>\n",
       "</dd>\n",
       "\t<dt>$bxy_result</dt>\n",
       "\t\t<dd><table class=\"dataframe\">\n",
       "<caption>A matrix: 1 × 6 of type chr</caption>\n",
       "<thead>\n",
       "\t<tr><th scope=col>Exposure</th><th scope=col>Outcome</th><th scope=col>bxy</th><th scope=col>se</th><th scope=col>p</th><th scope=col>n_snps</th></tr>\n",
       "</thead>\n",
       "<tbody>\n",
       "\t<tr><td>AD</td><td>t2d</td><td>-0.837343</td><td>0.225431</td><td>0.000203684</td><td>5</td></tr>\n",
       "</tbody>\n",
       "</table>\n",
       "</dd>\n",
       "\t<dt>$snp_effect</dt>\n",
       "\t\t<dd><table class=\"dataframe\">\n",
       "<caption>A matrix: 5 × 10 of type chr</caption>\n",
       "<tbody>\n",
       "\t<tr><th scope=row>strbuf</th><td>rs11495981</td><td>NA</td><td>1</td><td>T</td><td>C</td><td>0.199386</td><td>0.0498459 </td><td>0.0122557</td><td>-0.0561</td><td>0.01  </td></tr>\n",
       "\t<tr><th scope=row>strbuf</th><td>rs2015027 </td><td>NA</td><td>1</td><td>T</td><td>C</td><td>0.111157</td><td>0.0220017 </td><td>0.0159009</td><td>-0.0583</td><td>0.0129</td></tr>\n",
       "\t<tr><th scope=row>strbuf</th><td>rs3735569 </td><td>NA</td><td>1</td><td>C</td><td>G</td><td>0.078685</td><td>0.0392527 </td><td>0.0184387</td><td>-0.0635</td><td>0.0143</td></tr>\n",
       "\t<tr><th scope=row>strbuf</th><td>rs4722756 </td><td>NA</td><td>1</td><td>G</td><td>A</td><td>0.652699</td><td>-0.0521622</td><td>0.0103567</td><td>0.0387 </td><td>0.0085</td></tr>\n",
       "\t<tr><th scope=row>strbuf</th><td>rs73072534</td><td>NA</td><td>1</td><td>T</td><td>C</td><td>0.0475  </td><td>0.0351489 </td><td>0.0233158</td><td>-0.0812</td><td>0.019 </td></tr>\n",
       "</tbody>\n",
       "</table>\n",
       "</dd>\n",
       "</dl>\n"
      ],
      "text/latex": [
       "\\begin{description}\n",
       "\\item[\\$pheno] \\begin{enumerate*}\n",
       "\\item '1'\n",
       "\\item '1'\n",
       "\\item 't2d'\n",
       "\\item 'AD'\n",
       "\\end{enumerate*}\n",
       "\n",
       "\\item[\\$bxy\\_result] A matrix: 1 × 6 of type chr\n",
       "\\begin{tabular}{llllll}\n",
       " Exposure & Outcome & bxy & se & p & n\\_snps\\\\\n",
       "\\hline\n",
       "\t AD & t2d & -0.837343 & 0.225431 & 0.000203684 & 5\\\\\n",
       "\\end{tabular}\n",
       "\n",
       "\\item[\\$snp\\_effect] A matrix: 5 × 10 of type chr\n",
       "\\begin{tabular}{r|llllllllll}\n",
       "\tstrbuf & rs11495981 & NA & 1 & T & C & 0.199386 & 0.0498459  & 0.0122557 & -0.0561 & 0.01  \\\\\n",
       "\tstrbuf & rs2015027  & NA & 1 & T & C & 0.111157 & 0.0220017  & 0.0159009 & -0.0583 & 0.0129\\\\\n",
       "\tstrbuf & rs3735569  & NA & 1 & C & G & 0.078685 & 0.0392527  & 0.0184387 & -0.0635 & 0.0143\\\\\n",
       "\tstrbuf & rs4722756  & NA & 1 & G & A & 0.652699 & -0.0521622 & 0.0103567 & 0.0387  & 0.0085\\\\\n",
       "\tstrbuf & rs73072534 & NA & 1 & T & C & 0.0475   & 0.0351489  & 0.0233158 & -0.0812 & 0.019 \\\\\n",
       "\\end{tabular}\n",
       "\n",
       "\\end{description}\n"
      ],
      "text/markdown": [
       "$pheno\n",
       ":   1. '1'\n",
       "2. '1'\n",
       "3. 't2d'\n",
       "4. 'AD'\n",
       "\n",
       "\n",
       "\n",
       "$bxy_result\n",
       ":   \n",
       "A matrix: 1 × 6 of type chr\n",
       "\n",
       "| Exposure | Outcome | bxy | se | p | n_snps |\n",
       "|---|---|---|---|---|---|\n",
       "| AD | t2d | -0.837343 | 0.225431 | 0.000203684 | 5 |\n",
       "\n",
       "\n",
       "$snp_effect\n",
       ":   \n",
       "A matrix: 5 × 10 of type chr\n",
       "\n",
       "| strbuf | rs11495981 | NA | 1 | T | C | 0.199386 | 0.0498459  | 0.0122557 | -0.0561 | 0.01   |\n",
       "| strbuf | rs2015027  | NA | 1 | T | C | 0.111157 | 0.0220017  | 0.0159009 | -0.0583 | 0.0129 |\n",
       "| strbuf | rs3735569  | NA | 1 | C | G | 0.078685 | 0.0392527  | 0.0184387 | -0.0635 | 0.0143 |\n",
       "| strbuf | rs4722756  | NA | 1 | G | A | 0.652699 | -0.0521622 | 0.0103567 | 0.0387  | 0.0085 |\n",
       "| strbuf | rs73072534 | NA | 1 | T | C | 0.0475   | 0.0351489  | 0.0233158 | -0.0812 | 0.019  |\n",
       "\n",
       "\n",
       "\n",
       "\n"
      ],
      "text/plain": [
       "$pheno\n",
       "[1] \"1\"   \"1\"   \"t2d\" \"AD\" \n",
       "\n",
       "$bxy_result\n",
       "     Exposure Outcome bxy         se         p             n_snps\n",
       "[1,] \"AD\"     \"t2d\"   \"-0.837343\" \"0.225431\" \"0.000203684\" \"5\"   \n",
       "\n",
       "$snp_effect\n",
       "       [,1]         [,2] [,3] [,4] [,5] [,6]       [,7]         [,8]       \n",
       "strbuf \"rs11495981\" NA   \"1\"  \"T\"  \"C\"  \"0.199386\" \"0.0498459\"  \"0.0122557\"\n",
       "strbuf \"rs2015027\"  NA   \"1\"  \"T\"  \"C\"  \"0.111157\" \"0.0220017\"  \"0.0159009\"\n",
       "strbuf \"rs3735569\"  NA   \"1\"  \"C\"  \"G\"  \"0.078685\" \"0.0392527\"  \"0.0184387\"\n",
       "strbuf \"rs4722756\"  NA   \"1\"  \"G\"  \"A\"  \"0.652699\" \"-0.0521622\" \"0.0103567\"\n",
       "strbuf \"rs73072534\" NA   \"1\"  \"T\"  \"C\"  \"0.0475\"   \"0.0351489\"  \"0.0233158\"\n",
       "       [,9]      [,10]   \n",
       "strbuf \"-0.0561\" \"0.01\"  \n",
       "strbuf \"-0.0583\" \"0.0129\"\n",
       "strbuf \"-0.0635\" \"0.0143\"\n",
       "strbuf \"0.0387\"  \"0.0085\"\n",
       "strbuf \"-0.0812\" \"0.019\" \n"
      ]
     },
     "metadata": {},
     "output_type": "display_data"
    },
    {
     "data": {
      "image/png": "[encoded data removed]",
      "text/plain": [
       "plot without title"
      ]
     },
     "metadata": {
      "image/png": {
       "height": 420,
       "width": 420
      }
     },
     "output_type": "display_data"
    }
   ],
   "source": [
    "gsmr1_t2d_AD = read_gsmr_data(\"t2d_AD_gsmr1.eff_plot.gz\")\n",
    "gsmr_summary(gsmr1_t2d_AD)      # show a summary of the data\n",
    "plot_gsmr_effect(gsmr1_t2d_AD, \"AD\", \"t2d\", colors()[74]) \n",
    "head(gsmr1_t2d_AD)"
   ]
  },
  {
   "cell_type": "markdown",
   "id": "c5fd1328-623a-46fd-81f7-5b9b3121dd3e",
   "metadata": {},
   "source": [
    "## waist vs AD forward direction"
   ]
  },
  {
   "cell_type": "code",
   "execution_count": null,
   "id": "ac7f7a05-5e66-4c92-9748-0e7351ec38ac",
   "metadata": {},
   "outputs": [
    {
     "name": "stdout",
     "output_type": "stream",
     "text": [
      "[1] 8\n",
      "[1] \"rs10245867\" \"T\"          \"G\"          \"0.329097\"   \"0.00583376\"\n",
      "[6] \"0.00106143\" \"-0.03\"      \"0.0086\"    \n",
      "[1] 8\n",
      "[1] \"rs10275982\" \"A\"          \"C\"          \"0.337575\"   \"0.00674933\"\n",
      "[6] \"0.00105907\" \"-0.0194\"    \"0.0085\"    \n",
      "[1] 8\n",
      "[1] \"rs10951191\"  \"A\"           \"C\"           \"0.734871\"    \"-0.00528991\"\n",
      "[6] \"0.00115746\"  \"0.0082\"      \"0.0095\"     \n",
      "[1] 8\n",
      "[1] \"rs11760913\" \"C\"          \"T\"          \"0.528898\"   \"0.00511127\"\n",
      "[6] \"0.00100302\" \"-0.0101\"    \"0.0081\"    \n",
      "[1] 8\n",
      "[1] \"rs11763181\" \"G\"          \"T\"          \"0.932675\"   \"0.0113624\" \n",
      "[6] \"0.00200085\" \"-0.0124\"    \"0.015\"     \n",
      "[1] 8\n",
      "[1] \"rs198\"      \"T\"          \"C\"          \"0.862353\"   \"0.00682598\"\n",
      "[6] \"0.00144728\" \"-0.0142\"    \"0.0117\"    \n",
      "[1] 8\n",
      "[1] \"rs217\"      \"T\"          \"C\"          \"0.631407\"   \"0.00495402\"\n",
      "[6] \"0.00103524\" \"-0.0112\"    \"0.0083\"    \n",
      "[1] 8\n",
      "[1] \"rs2391496\"   \"T\"           \"C\"           \"0.773442\"    \"-0.00799461\"\n",
      "[6] \"0.00119058\"  \"0.0097\"      \"0.0097\"     \n",
      "[1] 8\n",
      "[1] \"rs55901351\" \"T\"          \"C\"          \"0.043143\"   \"0.0139155\" \n",
      "[6] \"0.00250225\" \"-0.0073\"    \"0.0215\"    \n",
      "[1] 8\n",
      "[1] \"rs56079286\" \"A\"          \"G\"          \"0.047788\"   \"0.00949376\"\n",
      "[6] \"0.00233771\" \"-0.0226\"    \"0.0201\"    \n",
      "[1] 8\n",
      "[1] \"rs62449929\"  \"A\"           \"G\"           \"0.166346\"    \"-0.00601634\"\n",
      "[6] \"0.00133588\"  \"0.0117\"      \"0.0115\"     \n",
      "[1] 8\n",
      "[1] \"rs6963719\"   \"T\"           \"C\"           \"0.736491\"    \"-0.00853848\"\n",
      "[6] \"0.00113137\"  \"0.0283\"      \"0.0092\"     \n",
      "[1] 8\n",
      "[1] \"rs73083396\"  \"A\"           \"C\"           \"0.083239\"    \"-0.00825809\"\n",
      "[6] \"0.00182029\"  \"0.0175\"      \"0.0141\"     \n",
      "[1] 8\n",
      "[1] \"rs73089168\" \"T\"          \"C\"          \"0.103008\"   \"0.00672198\"\n",
      "[6] \"0.00163987\" \"-0.0114\"    \"0.0136\"    \n",
      "[1] 8\n",
      "[1] \"rs73091056\"  \"A\"           \"G\"           \"0.061852\"    \"-0.00870687\"\n",
      "[6] \"0.00213489\"  \"0.0095\"      \"0.0173\"     \n",
      "[1] 8\n",
      "[1] \"rs7384844\"  \"T\"          \"A\"          \"0.443721\"   \"0.00490425\"\n",
      "[6] \"0.00100417\" \"-0.0207\"    \"0.0084\"    \n",
      "[1] 8\n",
      "[1] \"rs860262\"   \"A\"          \"C\"          \"0.501994\"   \"-0.0122771\"\n",
      "[6] \"0.00099583\" \"0.0229\"     \"0.0081\"    \n"
     ]
    },
    {
     "name": "stderr",
     "output_type": "stream",
     "text": [
      "\n",
      "## Exposure and outcome\n",
      "\n",
      "1 exposure(s): waist\n",
      "\n",
      "1 outcome(s): AD\n",
      "\n",
      "\n",
      "## GSMR result\n",
      "\n"
     ]
    },
    {
     "name": "stdout",
     "output_type": "stream",
     "text": [
      "  Exposure Outcome      bxy       se         p n_snps\n",
      "1    waist      AD -1.39657 0.553407 0.0116164     17\n"
     ]
    },
    {
     "data": {
      "text/html": [
       "<dl>\n",
       "\t<dt>$pheno</dt>\n",
       "\t\t<dd><style>\n",
       ".list-inline {list-style: none; margin:0; padding: 0}\n",
       ".list-inline>li {display: inline-block}\n",
       ".list-inline>li:not(:last-child)::after {content: \"\\00b7\"; padding: 0 .5ex}\n",
       "</style>\n",
       "<ol class=list-inline><li>'1'</li><li>'1'</li><li>'waist'</li><li>'AD'</li></ol>\n",
       "</dd>\n",
       "\t<dt>$bxy_result</dt>\n",
       "\t\t<dd><table class=\"dataframe\">\n",
       "<caption>A matrix: 1 × 6 of type chr</caption>\n",
       "<thead>\n",
       "\t<tr><th scope=col>Exposure</th><th scope=col>Outcome</th><th scope=col>bxy</th><th scope=col>se</th><th scope=col>p</th><th scope=col>n_snps</th></tr>\n",
       "</thead>\n",
       "<tbody>\n",
       "\t<tr><td>waist</td><td>AD</td><td>-1.39657</td><td>0.553407</td><td>0.0116164</td><td>17</td></tr>\n",
       "</tbody>\n",
       "</table>\n",
       "</dd>\n",
       "\t<dt>$snp_effect</dt>\n",
       "\t\t<dd><table class=\"dataframe\">\n",
       "<caption>A matrix: 17 × 10 of type chr</caption>\n",
       "<tbody>\n",
       "\t<tr><th scope=row>strbuf</th><td>rs10245867</td><td>1</td><td>NA</td><td>T</td><td>G</td><td>0.329097</td><td>0.00583376 </td><td>0.00106143</td><td>-0.03  </td><td>0.0086</td></tr>\n",
       "\t<tr><th scope=row>strbuf</th><td>rs10275982</td><td>1</td><td>NA</td><td>A</td><td>C</td><td>0.337575</td><td>0.00674933 </td><td>0.00105907</td><td>-0.0194</td><td>0.0085</td></tr>\n",
       "\t<tr><th scope=row>strbuf</th><td>rs10951191</td><td>1</td><td>NA</td><td>A</td><td>C</td><td>0.734871</td><td>-0.00528991</td><td>0.00115746</td><td>0.0082 </td><td>0.0095</td></tr>\n",
       "\t<tr><th scope=row>strbuf</th><td>rs11760913</td><td>1</td><td>NA</td><td>C</td><td>T</td><td>0.528898</td><td>0.00511127 </td><td>0.00100302</td><td>-0.0101</td><td>0.0081</td></tr>\n",
       "\t<tr><th scope=row>strbuf</th><td>rs11763181</td><td>1</td><td>NA</td><td>G</td><td>T</td><td>0.932675</td><td>0.0113624  </td><td>0.00200085</td><td>-0.0124</td><td>0.015 </td></tr>\n",
       "\t<tr><th scope=row>strbuf</th><td>rs198     </td><td>1</td><td>NA</td><td>T</td><td>C</td><td>0.862353</td><td>0.00682598 </td><td>0.00144728</td><td>-0.0142</td><td>0.0117</td></tr>\n",
       "\t<tr><th scope=row>strbuf</th><td>rs217     </td><td>1</td><td>NA</td><td>T</td><td>C</td><td>0.631407</td><td>0.00495402 </td><td>0.00103524</td><td>-0.0112</td><td>0.0083</td></tr>\n",
       "\t<tr><th scope=row>strbuf</th><td>rs2391496 </td><td>1</td><td>NA</td><td>T</td><td>C</td><td>0.773442</td><td>-0.00799461</td><td>0.00119058</td><td>0.0097 </td><td>0.0097</td></tr>\n",
       "\t<tr><th scope=row>strbuf</th><td>rs55901351</td><td>1</td><td>NA</td><td>T</td><td>C</td><td>0.043143</td><td>0.0139155  </td><td>0.00250225</td><td>-0.0073</td><td>0.0215</td></tr>\n",
       "\t<tr><th scope=row>strbuf</th><td>rs56079286</td><td>1</td><td>NA</td><td>A</td><td>G</td><td>0.047788</td><td>0.00949376 </td><td>0.00233771</td><td>-0.0226</td><td>0.0201</td></tr>\n",
       "\t<tr><th scope=row>strbuf</th><td>rs62449929</td><td>1</td><td>NA</td><td>A</td><td>G</td><td>0.166346</td><td>-0.00601634</td><td>0.00133588</td><td>0.0117 </td><td>0.0115</td></tr>\n",
       "\t<tr><th scope=row>strbuf</th><td>rs6963719 </td><td>1</td><td>NA</td><td>T</td><td>C</td><td>0.736491</td><td>-0.00853848</td><td>0.00113137</td><td>0.0283 </td><td>0.0092</td></tr>\n",
       "\t<tr><th scope=row>strbuf</th><td>rs73083396</td><td>1</td><td>NA</td><td>A</td><td>C</td><td>0.083239</td><td>-0.00825809</td><td>0.00182029</td><td>0.0175 </td><td>0.0141</td></tr>\n",
       "\t<tr><th scope=row>strbuf</th><td>rs73089168</td><td>1</td><td>NA</td><td>T</td><td>C</td><td>0.103008</td><td>0.00672198 </td><td>0.00163987</td><td>-0.0114</td><td>0.0136</td></tr>\n",
       "\t<tr><th scope=row>strbuf</th><td>rs73091056</td><td>1</td><td>NA</td><td>A</td><td>G</td><td>0.061852</td><td>-0.00870687</td><td>0.00213489</td><td>0.0095 </td><td>0.0173</td></tr>\n",
       "\t<tr><th scope=row>strbuf</th><td>rs7384844 </td><td>1</td><td>NA</td><td>T</td><td>A</td><td>0.443721</td><td>0.00490425 </td><td>0.00100417</td><td>-0.0207</td><td>0.0084</td></tr>\n",
       "\t<tr><th scope=row>strbuf</th><td>rs860262  </td><td>1</td><td>NA</td><td>A</td><td>C</td><td>0.501994</td><td>-0.0122771 </td><td>0.00099583</td><td>0.0229 </td><td>0.0081</td></tr>\n",
       "</tbody>\n",
       "</table>\n",
       "</dd>\n",
       "</dl>\n"
      ],
      "text/latex": [
       "\\begin{description}\n",
       "\\item[\\$pheno] \\begin{enumerate*}\n",
       "\\item '1'\n",
       "\\item '1'\n",
       "\\item 'waist'\n",
       "\\item 'AD'\n",
       "\\end{enumerate*}\n",
       "\n",
       "\\item[\\$bxy\\_result] A matrix: 1 × 6 of type chr\n",
       "\\begin{tabular}{llllll}\n",
       " Exposure & Outcome & bxy & se & p & n\\_snps\\\\\n",
       "\\hline\n",
       "\t waist & AD & -1.39657 & 0.553407 & 0.0116164 & 17\\\\\n",
       "\\end{tabular}\n",
       "\n",
       "\\item[\\$snp\\_effect] A matrix: 17 × 10 of type chr\n",
       "\\begin{tabular}{r|llllllllll}\n",
       "\tstrbuf & rs10245867 & 1 & NA & T & G & 0.329097 & 0.00583376  & 0.00106143 & -0.03   & 0.0086\\\\\n",
       "\tstrbuf & rs10275982 & 1 & NA & A & C & 0.337575 & 0.00674933  & 0.00105907 & -0.0194 & 0.0085\\\\\n",
       "\tstrbuf & rs10951191 & 1 & NA & A & C & 0.734871 & -0.00528991 & 0.00115746 & 0.0082  & 0.0095\\\\\n",
       "\tstrbuf & rs11760913 & 1 & NA & C & T & 0.528898 & 0.00511127  & 0.00100302 & -0.0101 & 0.0081\\\\\n",
       "\tstrbuf & rs11763181 & 1 & NA & G & T & 0.932675 & 0.0113624   & 0.00200085 & -0.0124 & 0.015 \\\\\n",
       "\tstrbuf & rs198      & 1 & NA & T & C & 0.862353 & 0.00682598  & 0.00144728 & -0.0142 & 0.0117\\\\\n",
       "\tstrbuf & rs217      & 1 & NA & T & C & 0.631407 & 0.00495402  & 0.00103524 & -0.0112 & 0.0083\\\\\n",
       "\tstrbuf & rs2391496  & 1 & NA & T & C & 0.773442 & -0.00799461 & 0.00119058 & 0.0097  & 0.0097\\\\\n",
       "\tstrbuf & rs55901351 & 1 & NA & T & C & 0.043143 & 0.0139155   & 0.00250225 & -0.0073 & 0.0215\\\\\n",
       "\tstrbuf & rs56079286 & 1 & NA & A & G & 0.047788 & 0.00949376  & 0.00233771 & -0.0226 & 0.0201\\\\\n",
       "\tstrbuf & rs62449929 & 1 & NA & A & G & 0.166346 & -0.00601634 & 0.00133588 & 0.0117  & 0.0115\\\\\n",
       "\tstrbuf & rs6963719  & 1 & NA & T & C & 0.736491 & -0.00853848 & 0.00113137 & 0.0283  & 0.0092\\\\\n",
       "\tstrbuf & rs73083396 & 1 & NA & A & C & 0.083239 & -0.00825809 & 0.00182029 & 0.0175  & 0.0141\\\\\n",
       "\tstrbuf & rs73089168 & 1 & NA & T & C & 0.103008 & 0.00672198  & 0.00163987 & -0.0114 & 0.0136\\\\\n",
       "\tstrbuf & rs73091056 & 1 & NA & A & G & 0.061852 & -0.00870687 & 0.00213489 & 0.0095  & 0.0173\\\\\n",
       "\tstrbuf & rs7384844  & 1 & NA & T & A & 0.443721 & 0.00490425  & 0.00100417 & -0.0207 & 0.0084\\\\\n",
       "\tstrbuf & rs860262   & 1 & NA & A & C & 0.501994 & -0.0122771  & 0.00099583 & 0.0229  & 0.0081\\\\\n",
       "\\end{tabular}\n",
       "\n",
       "\\end{description}\n"
      ],
      "text/markdown": [
       "$pheno\n",
       ":   1. '1'\n",
       "2. '1'\n",
       "3. 'waist'\n",
       "4. 'AD'\n",
       "\n",
       "\n",
       "\n",
       "$bxy_result\n",
       ":   \n",
       "A matrix: 1 × 6 of type chr\n",
       "\n",
       "| Exposure | Outcome | bxy | se | p | n_snps |\n",
       "|---|---|---|---|---|---|\n",
       "| waist | AD | -1.39657 | 0.553407 | 0.0116164 | 17 |\n",
       "\n",
       "\n",
       "$snp_effect\n",
       ":   \n",
       "A matrix: 17 × 10 of type chr\n",
       "\n",
       "| strbuf | rs10245867 | 1 | NA | T | G | 0.329097 | 0.00583376  | 0.00106143 | -0.03   | 0.0086 |\n",
       "| strbuf | rs10275982 | 1 | NA | A | C | 0.337575 | 0.00674933  | 0.00105907 | -0.0194 | 0.0085 |\n",
       "| strbuf | rs10951191 | 1 | NA | A | C | 0.734871 | -0.00528991 | 0.00115746 | 0.0082  | 0.0095 |\n",
       "| strbuf | rs11760913 | 1 | NA | C | T | 0.528898 | 0.00511127  | 0.00100302 | -0.0101 | 0.0081 |\n",
       "| strbuf | rs11763181 | 1 | NA | G | T | 0.932675 | 0.0113624   | 0.00200085 | -0.0124 | 0.015  |\n",
       "| strbuf | rs198      | 1 | NA | T | C | 0.862353 | 0.00682598  | 0.00144728 | -0.0142 | 0.0117 |\n",
       "| strbuf | rs217      | 1 | NA | T | C | 0.631407 | 0.00495402  | 0.00103524 | -0.0112 | 0.0083 |\n",
       "| strbuf | rs2391496  | 1 | NA | T | C | 0.773442 | -0.00799461 | 0.00119058 | 0.0097  | 0.0097 |\n",
       "| strbuf | rs55901351 | 1 | NA | T | C | 0.043143 | 0.0139155   | 0.00250225 | -0.0073 | 0.0215 |\n",
       "| strbuf | rs56079286 | 1 | NA | A | G | 0.047788 | 0.00949376  | 0.00233771 | -0.0226 | 0.0201 |\n",
       "| strbuf | rs62449929 | 1 | NA | A | G | 0.166346 | -0.00601634 | 0.00133588 | 0.0117  | 0.0115 |\n",
       "| strbuf | rs6963719  | 1 | NA | T | C | 0.736491 | -0.00853848 | 0.00113137 | 0.0283  | 0.0092 |\n",
       "| strbuf | rs73083396 | 1 | NA | A | C | 0.083239 | -0.00825809 | 0.00182029 | 0.0175  | 0.0141 |\n",
       "| strbuf | rs73089168 | 1 | NA | T | C | 0.103008 | 0.00672198  | 0.00163987 | -0.0114 | 0.0136 |\n",
       "| strbuf | rs73091056 | 1 | NA | A | G | 0.061852 | -0.00870687 | 0.00213489 | 0.0095  | 0.0173 |\n",
       "| strbuf | rs7384844  | 1 | NA | T | A | 0.443721 | 0.00490425  | 0.00100417 | -0.0207 | 0.0084 |\n",
       "| strbuf | rs860262   | 1 | NA | A | C | 0.501994 | -0.0122771  | 0.00099583 | 0.0229  | 0.0081 |\n",
       "\n",
       "\n",
       "\n",
       "\n"
      ],
      "text/plain": [
       "$pheno\n",
       "[1] \"1\"     \"1\"     \"waist\" \"AD\"   \n",
       "\n",
       "$bxy_result\n",
       "     Exposure Outcome bxy        se         p           n_snps\n",
       "[1,] \"waist\"  \"AD\"    \"-1.39657\" \"0.553407\" \"0.0116164\" \"17\"  \n",
       "\n",
       "$snp_effect\n",
       "       [,1]         [,2] [,3] [,4] [,5] [,6]       [,7]          [,8]        \n",
       "strbuf \"rs10245867\" \"1\"  NA   \"T\"  \"G\"  \"0.329097\" \"0.00583376\"  \"0.00106143\"\n",
       "strbuf \"rs10275982\" \"1\"  NA   \"A\"  \"C\"  \"0.337575\" \"0.00674933\"  \"0.00105907\"\n",
       "strbuf \"rs10951191\" \"1\"  NA   \"A\"  \"C\"  \"0.734871\" \"-0.00528991\" \"0.00115746\"\n",
       "strbuf \"rs11760913\" \"1\"  NA   \"C\"  \"T\"  \"0.528898\" \"0.00511127\"  \"0.00100302\"\n",
       "strbuf \"rs11763181\" \"1\"  NA   \"G\"  \"T\"  \"0.932675\" \"0.0113624\"   \"0.00200085\"\n",
       "strbuf \"rs198\"      \"1\"  NA   \"T\"  \"C\"  \"0.862353\" \"0.00682598\"  \"0.00144728\"\n",
       "strbuf \"rs217\"      \"1\"  NA   \"T\"  \"C\"  \"0.631407\" \"0.00495402\"  \"0.00103524\"\n",
       "strbuf \"rs2391496\"  \"1\"  NA   \"T\"  \"C\"  \"0.773442\" \"-0.00799461\" \"0.00119058\"\n",
       "strbuf \"rs55901351\" \"1\"  NA   \"T\"  \"C\"  \"0.043143\" \"0.0139155\"   \"0.00250225\"\n",
       "strbuf \"rs56079286\" \"1\"  NA   \"A\"  \"G\"  \"0.047788\" \"0.00949376\"  \"0.00233771\"\n",
       "strbuf \"rs62449929\" \"1\"  NA   \"A\"  \"G\"  \"0.166346\" \"-0.00601634\" \"0.00133588\"\n",
       "strbuf \"rs6963719\"  \"1\"  NA   \"T\"  \"C\"  \"0.736491\" \"-0.00853848\" \"0.00113137\"\n",
       "strbuf \"rs73083396\" \"1\"  NA   \"A\"  \"C\"  \"0.083239\" \"-0.00825809\" \"0.00182029\"\n",
       "strbuf \"rs73089168\" \"1\"  NA   \"T\"  \"C\"  \"0.103008\" \"0.00672198\"  \"0.00163987\"\n",
       "strbuf \"rs73091056\" \"1\"  NA   \"A\"  \"G\"  \"0.061852\" \"-0.00870687\" \"0.00213489\"\n",
       "strbuf \"rs7384844\"  \"1\"  NA   \"T\"  \"A\"  \"0.443721\" \"0.00490425\"  \"0.00100417\"\n",
       "strbuf \"rs860262\"   \"1\"  NA   \"A\"  \"C\"  \"0.501994\" \"-0.0122771\"  \"0.00099583\"\n",
       "       [,9]      [,10]   \n",
       "strbuf \"-0.03\"   \"0.0086\"\n",
       "strbuf \"-0.0194\" \"0.0085\"\n",
       "strbuf \"0.0082\"  \"0.0095\"\n",
       "strbuf \"-0.0101\" \"0.0081\"\n",
       "strbuf \"-0.0124\" \"0.015\" \n",
       "strbuf \"-0.0142\" \"0.0117\"\n",
       "strbuf \"-0.0112\" \"0.0083\"\n",
       "strbuf \"0.0097\"  \"0.0097\"\n",
       "strbuf \"-0.0073\" \"0.0215\"\n",
       "strbuf \"-0.0226\" \"0.0201\"\n",
       "strbuf \"0.0117\"  \"0.0115\"\n",
       "strbuf \"0.0283\"  \"0.0092\"\n",
       "strbuf \"0.0175\"  \"0.0141\"\n",
       "strbuf \"-0.0114\" \"0.0136\"\n",
       "strbuf \"0.0095\"  \"0.0173\"\n",
       "strbuf \"-0.0207\" \"0.0084\"\n",
       "strbuf \"0.0229\"  \"0.0081\"\n"
      ]
     },
     "metadata": {},
     "output_type": "display_data"
    },
    {
     "data": {
      "image/png": "[encoded data removed]",
      "text/plain": [
       "plot without title"
      ]
     },
     "metadata": {
      "image/png": {
       "height": 420,
       "width": 420
      }
     },
     "output_type": "display_data"
    }
   ],
   "source": [
    "gsmr0_waist_AD = read_gsmr_data(\"waist_AD_gsmr0.eff_plot.gz\")\n",
    "gsmr_summary(gsmr0_waist_AD)      # show a summary of the data\n",
    "plot_gsmr_effect(gsmr0_waist_AD, \"waist\", \"AD\", colors()[74]) \n",
    "head(gsmr0_waist_AD)"
   ]
  },
  {
   "cell_type": "markdown",
   "id": "eee94e24-392d-4d5c-b26b-d0c5af2929db",
   "metadata": {},
   "source": [
    "## waist vs AD reverse direction"
   ]
  },
  {
   "cell_type": "code",
   "execution_count": 10,
   "id": "888c0c0b-7f3a-452d-aaa2-16e3baa11302",
   "metadata": {},
   "outputs": [
    {
     "name": "stdout",
     "output_type": "stream",
     "text": [
      "[1] 8\n",
      "[1] \"rs10245867\" \"T\"          \"G\"          \"0.329097\"   \"0.00583376\"\n",
      "[6] \"0.00106143\" \"-0.03\"      \"0.0086\"    \n",
      "[1] 8\n",
      "[1] \"rs10275982\" \"A\"          \"C\"          \"0.337575\"   \"0.00674933\"\n",
      "[6] \"0.00105907\" \"-0.0194\"    \"0.0085\"    \n",
      "[1] 8\n",
      "[1] \"rs10951191\"  \"A\"           \"C\"           \"0.734871\"    \"-0.00528991\"\n",
      "[6] \"0.00115746\"  \"0.0082\"      \"0.0095\"     \n",
      "[1] 8\n",
      "[1] \"rs11760913\" \"C\"          \"T\"          \"0.528898\"   \"0.00511127\"\n",
      "[6] \"0.00100302\" \"-0.0101\"    \"0.0081\"    \n",
      "[1] 8\n",
      "[1] \"rs11763181\" \"G\"          \"T\"          \"0.932675\"   \"0.0113624\" \n",
      "[6] \"0.00200085\" \"-0.0124\"    \"0.015\"     \n",
      "[1] 8\n",
      "[1] \"rs198\"      \"T\"          \"C\"          \"0.862353\"   \"0.00682598\"\n",
      "[6] \"0.00144728\" \"-0.0142\"    \"0.0117\"    \n",
      "[1] 8\n",
      "[1] \"rs217\"      \"T\"          \"C\"          \"0.631407\"   \"0.00495402\"\n",
      "[6] \"0.00103524\" \"-0.0112\"    \"0.0083\"    \n",
      "[1] 8\n",
      "[1] \"rs2391496\"   \"T\"           \"C\"           \"0.773442\"    \"-0.00799461\"\n",
      "[6] \"0.00119058\"  \"0.0097\"      \"0.0097\"     \n",
      "[1] 8\n",
      "[1] \"rs55901351\" \"T\"          \"C\"          \"0.043143\"   \"0.0139155\" \n",
      "[6] \"0.00250225\" \"-0.0073\"    \"0.0215\"    \n",
      "[1] 8\n",
      "[1] \"rs56079286\" \"A\"          \"G\"          \"0.047788\"   \"0.00949376\"\n",
      "[6] \"0.00233771\" \"-0.0226\"    \"0.0201\"    \n",
      "[1] 8\n",
      "[1] \"rs62449929\"  \"A\"           \"G\"           \"0.166346\"    \"-0.00601634\"\n",
      "[6] \"0.00133588\"  \"0.0117\"      \"0.0115\"     \n",
      "[1] 8\n",
      "[1] \"rs6963719\"   \"T\"           \"C\"           \"0.736491\"    \"-0.00853848\"\n",
      "[6] \"0.00113137\"  \"0.0283\"      \"0.0092\"     \n",
      "[1] 8\n",
      "[1] \"rs73083396\"  \"A\"           \"C\"           \"0.083239\"    \"-0.00825809\"\n",
      "[6] \"0.00182029\"  \"0.0175\"      \"0.0141\"     \n",
      "[1] 8\n",
      "[1] \"rs73089168\" \"T\"          \"C\"          \"0.103008\"   \"0.00672198\"\n",
      "[6] \"0.00163987\" \"-0.0114\"    \"0.0136\"    \n",
      "[1] 8\n",
      "[1] \"rs73091056\"  \"A\"           \"G\"           \"0.061852\"    \"-0.00870687\"\n",
      "[6] \"0.00213489\"  \"0.0095\"      \"0.0173\"     \n",
      "[1] 8\n",
      "[1] \"rs7384844\"  \"T\"          \"A\"          \"0.443721\"   \"0.00490425\"\n",
      "[6] \"0.00100417\" \"-0.0207\"    \"0.0084\"    \n",
      "[1] 8\n",
      "[1] \"rs860262\"   \"A\"          \"C\"          \"0.501994\"   \"-0.0122771\"\n",
      "[6] \"0.00099583\" \"0.0229\"     \"0.0081\"    \n"
     ]
    },
    {
     "name": "stderr",
     "output_type": "stream",
     "text": [
      "\n",
      "## Exposure and outcome\n",
      "\n",
      "1 exposure(s): waist\n",
      "\n",
      "1 outcome(s): AD\n",
      "\n",
      "\n",
      "## GSMR result\n",
      "\n"
     ]
    },
    {
     "name": "stdout",
     "output_type": "stream",
     "text": [
      "  Exposure Outcome      bxy       se         p n_snps\n",
      "1    waist      AD -1.39657 0.553407 0.0116164     17\n"
     ]
    },
    {
     "ename": "ERROR",
     "evalue": "Error in gsmr_snp_effect(gsmr_data, expo_str, outcome_str): Not enough SNPs retained.\n",
     "output_type": "error",
     "traceback": [
      "Error in gsmr_snp_effect(gsmr_data, expo_str, outcome_str): Not enough SNPs retained.\nTraceback:\n",
      "1. plot_gsmr_effect(gsmr1_waist_AD, \"AD\", \"waist\", colors()[74])",
      "2. gsmr_snp_effect(gsmr_data, expo_str, outcome_str)",
      "3. stop(\"Not enough SNPs retained.\")"
     ]
    }
   ],
   "source": [
    "gsmr1_waist_AD = read_gsmr_data(\"waist_AD_gsmr1.eff_plot.gz\")\n",
    "gsmr_summary(gsmr1_waist_AD)      # show a summary of the data\n",
    "plot_gsmr_effect(gsmr1_waist_AD, \"AD\", \"waist\", colors()[74]) \n",
    "head(gsmr1_waist_AD)"
   ]
  },
  {
   "cell_type": "code",
   "execution_count": null,
   "id": "4ea1ab8f-4853-402c-8cfc-52cf2fa82197",
   "metadata": {},
   "outputs": [],
   "source": []
  },
  {
   "cell_type": "markdown",
   "id": "51cce645-f05a-4a84-87d5-5ecb6ef47ed6",
   "metadata": {},
   "source": [
    "### checking effect sizes and p values of instrument variables from the sumstats"
   ]
  },
  {
   "cell_type": "code",
   "execution_count": 18,
   "id": "67cebd58-bce0-4855-bd7f-2a90fbef82f8",
   "metadata": {},
   "outputs": [],
   "source": [
    "asthma <- read.table(\"~/project_bst/pleiotropy/gsmr/asthma_gsmr_jazf1.txt\",sep=\"\\t\",header=TRUE)\n",
    "t2d <- read.table(\"~/project_bst/pleiotropy/gsmr/t2d_gsmr_jazf1.txt\",sep=\"\\t\",header=TRUE)\n",
    "waist <- read.table(\"~/project_bst/pleiotropy/gsmr/waist_gsmr_jazf1.txt\",sep=\"\\t\",header=TRUE)\n",
    "AD <- read.table(\"~/project_bst/pleiotropy/gsmr/AD_gsmr_jazf1.txt\",sep=\"\\t\",header=TRUE)"
   ]
  },
  {
   "cell_type": "code",
   "execution_count": 19,
   "id": "6318f777-362b-49b6-aa78-4496062e6f43",
   "metadata": {},
   "outputs": [
    {
     "name": "stderr",
     "output_type": "stream",
     "text": [
      "\n",
      "Attaching package: ‘dplyr’\n",
      "\n",
      "\n",
      "The following objects are masked from ‘package:stats’:\n",
      "\n",
      "    filter, lag\n",
      "\n",
      "\n",
      "The following objects are masked from ‘package:base’:\n",
      "\n",
      "    intersect, setdiff, setequal, union\n",
      "\n",
      "\n"
     ]
    }
   ],
   "source": [
    "library(dplyr)"
   ]
  },
  {
   "cell_type": "code",
   "execution_count": null,
   "id": "07440f88-9326-433f-83fb-3590dfe7b4c6",
   "metadata": {},
   "outputs": [],
   "source": [
    "AD_t2d<-inner_join(AD_p505,t2d_p505,by=\"SNP\")"
   ]
  },
  {
   "cell_type": "code",
   "execution_count": 20,
   "id": "bd931c85-7f46-4bbd-9ef3-6d4e4f73654d",
   "metadata": {},
   "outputs": [],
   "source": [
    "cols<-c(\"SNP\",\"A1\",\"A2\",\"freq\",\"bzx\",\"bzx_se\",\"bzy\",\"bzy_se\")"
   ]
  },
  {
   "cell_type": "code",
   "execution_count": 22,
   "id": "b6bf4ad8-d198-49ee-bb35-d4ccc3963f3d",
   "metadata": {},
   "outputs": [
    {
     "ename": "ERROR",
     "evalue": "Error in gsmr0_waist_t2d[, c(1, 4:10)]: incorrect number of dimensions\n",
     "output_type": "error",
     "traceback": [
      "Error in gsmr0_waist_t2d[, c(1, 4:10)]: incorrect number of dimensions\nTraceback:\n"
     ]
    }
   ],
   "source": [
    "waist_t2d <-gsmr0_waist_t2d[,c(1,4:10)]"
   ]
  },
  {
   "cell_type": "code",
   "execution_count": null,
   "id": "6299d6a0-fe91-4ce4-9afb-f9469f92152f",
   "metadata": {},
   "outputs": [],
   "source": []
  },
  {
   "cell_type": "code",
   "execution_count": null,
   "id": "089a2e79-f07d-4c99-b68c-7f768f11df36",
   "metadata": {},
   "outputs": [],
   "source": []
  },
  {
   "cell_type": "code",
   "execution_count": null,
   "id": "c1052d3f-0071-4cf0-b650-73c07a62531a",
   "metadata": {},
   "outputs": [],
   "source": [
    "gsmr0_waist_t2d"
   ]
  },
  {
   "cell_type": "code",
   "execution_count": null,
   "id": "da8e3e51-4b89-4322-bd87-17c67c77b8d1",
   "metadata": {},
   "outputs": [],
   "source": []
  },
  {
   "cell_type": "code",
   "execution_count": null,
   "id": "41957a3d-99ee-4862-853c-6cd7a9994224",
   "metadata": {},
   "outputs": [],
   "source": []
  },
  {
   "cell_type": "code",
   "execution_count": null,
   "id": "073ed757-3362-48d8-ab09-d04c9f71b7f7",
   "metadata": {},
   "outputs": [],
   "source": []
  },
  {
   "cell_type": "code",
   "execution_count": null,
   "id": "30032dbd-37ba-450f-b2ed-c995ed49602a",
   "metadata": {},
   "outputs": [],
   "source": []
  },
  {
   "cell_type": "code",
   "execution_count": null,
   "id": "15da26db-c05d-493b-a697-b26ad924e2d3",
   "metadata": {},
   "outputs": [],
   "source": []
  },
  {
   "cell_type": "code",
   "execution_count": null,
   "id": "9df2a558-a66f-43d2-a0c7-f17cef6ecc35",
   "metadata": {},
   "outputs": [],
   "source": []
  },
  {
   "cell_type": "code",
   "execution_count": null,
   "id": "d539f51a-f88f-4760-a007-1eeaf99a4efc",
   "metadata": {},
   "outputs": [],
   "source": []
  }
 ],
 "metadata": {
  "kernelspec": {
   "display_name": "R",
   "language": "R",
   "name": "ir"
  },
  "language_info": {
   "codemirror_mode": "r",
   "file_extension": ".r",
   "mimetype": "text/x-r-source",
   "name": "R",
   "pygments_lexer": "r",
   "version": "4.0.0"
  },
  "sos": {
   "kernels": [
    [
     "Bash",
     "bash",
     "Bash",
     "#E6EEFF",
     "shell"
    ],
    [
     "R",
     "ir",
     "R",
     "#DCDCDA",
     "r"
    ],
    [
     "SoS",
     "sos",
     "",
     "",
     "sos"
    ]
   ],
   "version": "0.23.2"
  }
 },
 "nbformat": 4,
 "nbformat_minor": 5
}
