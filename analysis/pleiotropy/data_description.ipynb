{
 "cells": [
  {
   "cell_type": "markdown",
   "id": "22072bc7-8517-4597-9b56-08622e6b2892",
   "metadata": {},
   "source": [
    "## GSMR"
   ]
  },
  {
   "cell_type": "markdown",
   "id": "5bc3e66c-08c6-42f8-b9cc-a7286757808a",
   "metadata": {},
   "source": [
    "Note: Wasn't able to get the GSMR package working on Columbia cluster due to a <b>'Peer certificate cannot be authenticated with given CA certificates'<b> error."
   ]
  },
  {
   "cell_type": "markdown",
   "id": "5d30a294-be07-4bf7-b6a6-dcdca73903f7",
   "metadata": {},
   "source": [
    "### Data File"
   ]
  },
  {
   "cell_type": "markdown",
   "id": "629ce565-e2d4-4f5a-8816-dc4334da0a05",
   "metadata": {},
   "source": [
    "GSMR requires a data file that includes the effect size, std error, p value, and GWAS sample size for each phenotype. \n",
    "\n",
    "The original jazf1 summary stats files from Summer 2021 were\n",
    "\n",
    "> **asthma** = /gpfs/gibbs/pi/dewan/data/UKBiobank/results/FastGWA_results/results_imputed_data/asthma/Asthma_casesbyICD10codesANDselfreport_controlsbyselfreportandicd10_noautoimmuneincontrols_forbolt030720_ASTHMA.fastGWA.snp_stats.gz\n",
    "\n",
    "> **t2d** = /gpfs/gibbs/pi/dewan/data/UKBiobank/results/FastGWA_results/results_imputed_data/T2D/diabetes_casesbyICD10andselfreport_controlswithoutautoiummune_030720_T2D.fastGWA.snp_stats.gz\n",
    "\n",
    "> **waist** = /gpfs/gibbs/pi/dewan/data/UKBiobank/results/BOLTLMM_results/results_imputed_data/INT-WAIST/UKB_caucasians_BMIwaisthip_AsthmaAndT2D_INT-WAIST_withagesex_042020_rankNorm_WAIST.boltlmm.snp_stats.gz\n",
    "\n",
    "But since these files don't have the sample size, used Yining's rerun regenie files for jazf1 to create the datafile for GSMR\n",
    "\n",
    "Yining's regenie sumstats files are located on the Yale cluster at:\n",
    "\n",
    "> **asthma**:/home/yl2385/work/21fall/220110_regenie_asthma_rerun/asthma_PC10_step2_imp.regenie_ASTHMA.regenie\n",
    "\n",
    "> **t2d**:/home/yl2385/work/21fall/220110_regenie_T2D_rerun/T2D_PC10_step2_imp.regenie_T2D.regenie\n",
    "\n",
    "> **waist**:/home/yl2385/work/21fall/220110_regenie_WC_rerun/WC_PC10_step2_imp.regenie_WAISTcirc_invranknorm.regenie\n",
    "\n",
    "Moved them to Columbia's cluster and they're currently under:\n",
    "\n",
    "> **asthma**:/mnt/mfs/hgrcgrid/homes/tf2478/20220302_regenie_rerun_yining/asthma_PC10_step2_imp.regenie_ASTHMA.regenie\n",
    "\n",
    "> **t2d**:/mnt/mfs/hgrcgrid/homes/tf2478/20220302_regenie_rerun_yining/T2D_PC10_step2_imp.regenie_T2D.regenie\n",
    "\n",
    "> **waist**:/mnt/mfs/hgrcgrid/homes/tf2478/20220302_regenie_rerun_yining/WC_PC10_step2_imp.regenie_WAISTcirc_invranknorm.regenie\n",
    "\n",
    "Steps for creating the datafile located in **workflow_gsmr_data_031622.ipynb**. This notebook was run on Columbia's cluster"
   ]
  },
  {
   "cell_type": "markdown",
   "id": "ce08d042-6ec4-49c8-a4be-f316bcaa0e6e",
   "metadata": {},
   "source": [
    "### LD File"
   ]
  },
  {
   "cell_type": "markdown",
   "id": "47a70a02-e22e-474f-b15c-f896b4a2ccd2",
   "metadata": {},
   "source": [
    "GSMR example format uses gcta64 to create the LD file for snps, but chose to use [Region Extraction](https://github.com/cumc/bioworkflows/blob/master/GWAS/Region_Extraction.ipynb) for LD files instead\n",
    "\n",
    "The bfiles used for the regenie rerun\n",
    "> /mnt/mfs/statgen/archive/UKBiobank_Yale_transfer/pleiotropy_geneticfiles/UKB_Caucasians_phenotypeindepqc120319_updated082020removedwithdrawnindiv\n",
    "\n",
    "However in this bfile there are only 96 snps in the jazf1 region, and only 74 of these snps are snps in the asthma regenie file. (Did not test for t2d or waist circumference but 96 snps are still less than the full number of snps for all three phenotypes).\n",
    "\n",
    "Note: The rsid on the bfile do not match the rsid on the regenie. Used `chr:pos_a1_a2` to identify intersections for snps between the two files\n",
    "\n",
    "The bgen files used for the regenie rerun. Regenie was run with all chr1..22 but jazf1 is only in chr 7\n",
    "> /mnt/mfs/statgen/archive/UKBiobank_Yale_transfer/ukb39554_imputeddataset/ukb_imp_chr7_v3.bgen\n",
    "\n",
    "**TODO**: The bgen files are in HG19, but the regenie are in HG38. Need to [liftover](https://github.com/cumc/bioworkflows/blob/master/GWAS/liftover.ipynb) the regenie to HG19 to see if all the regenie snps are in the bgen file prior to extraction to determine LD (skipped this to get Region Extraction working)"
   ]
  },
  {
   "cell_type": "markdown",
   "id": "ccd18d4e-8559-4e25-ad0a-a4887c8f32d4",
   "metadata": {},
   "source": [
    "#### Region Extraction"
   ]
  },
  {
   "cell_type": "markdown",
   "id": "1db83295-5806-4bbd-adc6-37c5746be84c",
   "metadata": {},
   "source": [
    "There were problems with the region extraction so wasn't able to run it through, but the pipeline is fixed at this point in time.\n",
    "\n",
    "The **phenotype** files used to rerun the regenie were in Yale's cluster in the same directories as the regenie files. They were pulled to Columbia's cluster. Located in\n",
    "\n",
    "> **asthma**: /mnt/mfs/hgrcgrid/homes/tf2478/20220302_regenie_rerun_yining/pheno_asthma_ind_PC.txt\n",
    "\n",
    "> **t2d**: /mnt/mfs/hgrcgrid/homes/tf2478/20220302_regenie_rerun_yining/pheno_asthma_ind_PC.txt\n",
    "\n",
    "> **waist**: /mnt/mfs/hgrcgrid/homes/tf2478/20220302_regenie_rerun_yining/pheno_WC_ind_PC.txt\n",
    "\n",
    "**TODO**: These are the full phenotype files. Need to subset the columns prior to running through Region Extraction. \n",
    "\n",
    "Format for files `FID IID sex [pheno] age PC1 PC2`\n",
    "\n",
    "Created the **unrelated samples** file with header at\n",
    "> /mnt/mfs/statgen/archive/UKBiobank_Yale_transfer/pleiotropy_geneticfiles/unrelated_n307259/UKB_genotypedatadownloaded0830_unrelatedCAUConly_307259indiv_529024snps_120319_withdrawnsubjects021820.fam_IDonly_wheader\n",
    "\n",
    "The **geno** files used is the bgen file previously mentioned\n",
    "\n",
    "The **sumstats** file is the regenie file for each phenotype. Note that since bgen is in HG19 and regenie are in HG38, need to use files produced from liftover as sumstats input for region extraction\n",
    "\n",
    "The **region file** is\n",
    "> /mnt/mfs/hgrcgrid/homes/tf2478/20220302_regenie_rerun_yining/jazf1.clumped_region\n",
    "\n",
    "The **format config is**\n",
    "> /home/dmc2245/project/UKBB_GWAS_dev/data/regenie_template.yml\n",
    "\n",
    "**TODO**: Run region extraction to obtain the LD files necessary for analysis"
   ]
  },
  {
   "cell_type": "markdown",
   "id": "d0987e8b-ecc6-4289-b0dc-c6e43eb39456",
   "metadata": {},
   "source": [
    "### Analysis"
   ]
  },
  {
   "cell_type": "markdown",
   "id": "c0a47d69-7df3-45f5-a8b6-1afa104b5e65",
   "metadata": {},
   "source": [
    "Used the **gsmr_031622.ipynb** file on personal machine since GSMR would not download on Columbia's cluster. Successfully ran the example scripts. Was testing on Asthma-T2D, but dealt with issues regarding the LD."
   ]
  },
  {
   "cell_type": "code",
   "execution_count": null,
   "id": "40762688-3004-4334-947a-e3e7df64c744",
   "metadata": {},
   "outputs": [],
   "source": []
  }
 ],
 "metadata": {
  "kernelspec": {
   "display_name": "Python 3 (ipykernel)",
   "language": "python",
   "name": "python3"
  },
  "language_info": {
   "codemirror_mode": {
    "name": "ipython",
    "version": 3
   },
   "file_extension": ".py",
   "mimetype": "text/x-python",
   "name": "python",
   "nbconvert_exporter": "python",
   "pygments_lexer": "ipython3",
   "version": "3.9.7"
  }
 },
 "nbformat": 4,
 "nbformat_minor": 5
}
