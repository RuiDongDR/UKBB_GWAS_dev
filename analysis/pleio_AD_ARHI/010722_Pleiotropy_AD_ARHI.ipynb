{
 "cells": [
  {
   "cell_type": "markdown",
   "id": "fd25e634-0e11-4a02-82ac-b9b36652da3a",
   "metadata": {
    "kernel": "SoS",
    "tags": []
   },
   "source": [
    "# Analysis of pleiotopy between Alzheimer's Disease and ARHI traits "
   ]
  },
  {
   "cell_type": "markdown",
   "id": "cd628a18-daff-4fe4-ae5f-9dabb0f910b3",
   "metadata": {
    "kernel": "SoS"
   },
   "source": [
    "First of all a review of the available references is made regarding AD. Particularly for GWAS using AD and meta-analysis from different studies. \n",
    "\n",
    "1. Kunkle et al https://www.nature.com/articles/s41588-019-0358-2\n",
    "2. Jansen et al https://pubmed.ncbi.nlm.nih.gov/30617256/\n",
    "3. Wightman et al https://www.nature.com/articles/s41588-021-00921-z\n",
    "4. [family history based] https://pubmed.ncbi.nlm.nih.gov/29777097/\n",
    "5. Schwartzentruber et al https://pubmed.ncbi.nlm.nih.gov/33589840/ \n",
    "6. Bellenguez et al https://www.nature.com/articles/s41588-022-01024-z\n",
    "\n",
    "**Using AD proxy case definition**\n",
    "\n",
    "[Schwartzentruber et al 2021](https://www.nature.com/articles/s41588-020-00776-w)\n",
    "\n",
    "**Using clinically diagnosed LOAD**\n",
    "\n",
    "[Kunkle et al 2019](https://www.nature.com/articles/s41588-019-0358-2)\n",
    "\n",
    "**Using clinically diagnosed/proxy AD cases**\n",
    "\n",
    "[Belenguez et al 2022](https://www.nature.com/articles/s41588-022-01024-z)\n",
    "\n",
    "- two stage GWAS\n",
    "- 111,326 clinically diagnosed/‘proxy’ AD cases and 677,663 controls\n",
    "- The European Alzheimer & Dementia Biobank  + UK Biobank\n",
    "- GWAS meta-analysis results can be downloaded here https://www.ebi.ac.uk/gwas/studies/GCST90027158\n",
    "\n",
    "The results from this meta-analysis have been downloaded to our cluster and are located here:\n",
    "\n",
    "`/mnt/vast/hpc/csg/data_public/GWAS_sumstats/GCST90027158_buildGRCh38.tsv.gz`"
   ]
  },
  {
   "cell_type": "markdown",
   "id": "190dcf85-54d2-44bc-9dcd-e9dddedcc468",
   "metadata": {
    "kernel": "SoS"
   },
   "source": [
    "## GWAS for ARHI used in the pleiotropy analysis\n",
    "\n",
    "Parameters used for REGENIE\n",
    "\n",
    "```\n",
    "covarCol=sex\n",
    "qCovarCol=\"age PC1 PC2\"\n",
    "bgenMinINFO=0.8\n",
    "minMAC=4\n",
    "bfile=$UKBB_PATH/genotype_files_processed/090221_sample_variant_qc_final_callrate90/cache/UKB_genotypedatadownloaded083019.090221_sample_variant_qc_final_callrate90.filtered.extracted.bed\n",
    "genoFile=`echo ~/UKBiobank_Yale_transfer/ukb39554_imputeddataset/ukb_imp_chr{1..22}_v3.bgen`\n",
    "sampleFile=$UKBB_yale/ukb39554_imputeddataset/ukb32285_imputedindiv.sample\n",
    "```\n",
    "\n",
    "The GWAS results are stored here (Note: these results correspond to white European individuals:\n",
    "\n",
    "- /mnt/vast/hpc/csg/UKBiobank/results/REGENIE_results/results_imputed_data/2021_10_07_f3393_500K\n",
    "- /mnt/vast/hpc/csg/UKBiobank/results/REGENIE_results/results_imputed_data/2021_10_07_f2247_500K\n",
    "- /mnt/vast/hpc/csg/UKBiobank/results/REGENIE_results/results_imputed_data/2021_10_07_f2257_500K\n",
    "- /mnt/vast/hpc/csg/UKBiobank/results/REGENIE_results/results_imputed_data/2021_10_07_combined_500K"
   ]
  },
  {
   "cell_type": "markdown",
   "id": "66aac625-3db4-46ce-8f2e-841e51642015",
   "metadata": {
    "kernel": "SoS"
   },
   "source": [
    "# Step 1. Liftover of the meta-analysis sumtats of AD to match our GWAS results in hg19"
   ]
  },
  {
   "cell_type": "code",
   "execution_count": null,
   "id": "cbb7c26e-76d3-4201-b4ad-b43a48f6fa8c",
   "metadata": {
    "kernel": "Bash"
   },
   "outputs": [],
   "source": [
    "module load Singularity\n",
    "USER_PATH=~/working\n",
    "export PATH=$HOME/miniconda3/bin:$PATH\n",
    "sos run $USER_PATH/bioworkflows/GWAS/liftover.ipynb \\\n",
    "--cwd /mnt/vast/hpc/csg/UKBiobank/results/pleiotropy_AD_ARHI \\\n",
    "--input_file /mnt/vast/hpc/csg/data_public/GWAS_sumstats/GCST90027158_buildGRCh38.tsv.gz \\\n",
    "--output_file GCST90027158_buildGRCh37.tsv \\\n",
    "--fr 'hg38' \\\n",
    "--to 'hg19' \\\n",
    "--yml_file $USER_PATH/UKBB_GWAS_dev/data/liftover.yml"
   ]
  },
  {
   "cell_type": "markdown",
   "id": "5756148d-f093-4c05-9663-a4a366526eac",
   "metadata": {
    "kernel": "Bash"
   },
   "source": [
    "# Step 2. Association analysis of the imputed data"
   ]
  },
  {
   "cell_type": "markdown",
   "id": "9803db17-fccd-49a1-9fd4-aa71abd7f7d9",
   "metadata": {
    "kernel": "Bash"
   },
   "source": [
    "Do the association analysis for the Hearing impairment traits with the white european individuals present in the 500K samples"
   ]
  },
  {
   "cell_type": "code",
   "execution_count": 39,
   "id": "d79f4870-22d0-4163-9bd1-58389664e53c",
   "metadata": {
    "kernel": "Bash"
   },
   "outputs": [
    {
     "name": "stdout",
     "output_type": "stream",
     "text": [
      "\n"
     ]
    }
   ],
   "source": [
    "# Common variables Columbia's cluster\n",
    "UKBB_PATH=$HOME/UKBiobank\n",
    "UKBB_yale=$HOME/UKBiobank_Yale_transfer\n",
    "USER_PATH=$HOME/project\n",
    "container_lmm=$HOME/containers/lmm.sif\n",
    "container_marp=$HOME/containers/marp.sif\n",
    "container_annovar=$HOME/containers/gatk4-annovar.sif\n",
    "hearing_pheno_path=$UKBB_PATH/phenotype_files/hearing_impairment\n",
    "tpl_file=$USER_PATH/bioworkflows/admin/csg.yml\n",
    "formatFile_fastgwa=$USER_PATH/UKBB_GWAS_dev/data/fastGWA_template.yml\n",
    "formatFile_bolt=$USER_PATH/UKBB_GWAS_dev/data/boltlmm_template.yml\n",
    "formatFile_saige=$USER_PATH/UKBB_GWAS_dev/data/saige_template.yml\n",
    "formatFile_regenie=$USER_PATH/UKBB_GWAS_dev/data/regenie_template.yml\n",
    "# Workflows\n",
    "lmm_sos=$USER_PATH/bioworkflows/GWAS/LMM.ipynb\n",
    "anno_sos=$USER_PATH/bioworkflows/variant-annotation/annovar.ipynb\n",
    "clumping_sos=$USER_PATH/bioworkflows/GWAS/LD_Clumping.ipynb\n",
    "extract_sos=$USER_PATH/bioworkflows/GWAS/Region_Extraction.ipynb\n",
    "snptogene_sos=$USER_PATH/UKBB_GWAS_dev/workflow/snptogene.ipynb\n",
    "\n",
    "# LMM directories for imputed data\n",
    "lmm_imp_dir_fastgwa=$UKBB_PATH/results/FastGWA_results/results_imputed_data\n",
    "lmm_imp_dir_bolt=$UKBB_PATH/results/BOLTLMM_results/results_imputed_data\n",
    "lmm_imp_dir_saige=$UKBB_PATH/results/SAIGE_results/results_imputed_data\n",
    "lmm_imp_dir_regenie=$UKBB_PATH/results/REGENIE_results/results_imputed_data\n",
    "\n",
    "# LMM directories for exome data\n",
    "lmm_exome_dir_fastgwa=$UKBB_PATH/results/FastGWA_results/results_exome_data\n",
    "lmm_exome_dir_bolt=$UKBB_PATH/results/BOLTLMM_results/results_exome_data\n",
    "lmm_exome_dir_saige=$UKBB_PATH/results/SAIGE_results/results_exome_data\n",
    "lmm_exome_dir_regenie=$UKBB_PATH/results/REGENIE_results/results_exome_data\n",
    "\n",
    "## LMM variables \n",
    "## Specific to Bolt_LMM\n",
    "LDscoresFile=$UKBB_PATH/LDSCORE.1000G_EUR.tab.gz\n",
    "geneticMapFile=$UKBB_PATH/genetic_map_hg19_withX.txt.gz\n",
    "covarMaxLevels=10\n",
    "numThreads=20\n",
    "bgenMinMAF=0.001\n",
    "bgenMinINFO=0.8\n",
    "lmm_job_size=1\n",
    "ylim=0\n",
    "\n",
    "### Specific to FastGWA (depeding if you run from Yale or Columbia)\n",
    "####Yale's cluster\n",
    "grmFile=$UKBB_PATH/results/FastGWA_results/results_imputed_data/UKB_Caucasians_phenotypeindepqc120319_updated020720removedwithdrawnindiv.grm.sp\n",
    "####Columbia's cluster\n",
    "grmFile=$UKBB_yale/results/FastGWA_results/results_imputed_data/UKB_Caucasians_phenotypeindepqc120319_updated020720removedwithdrawnindiv.grm.sp\n",
    "\n",
    "### Specific to SAIGE\n",
    "bgenMinMAC=4\n",
    "trait_type=binary\n",
    "loco=TRUE\n",
    "sampleCol=IID\n",
    "\n",
    "### Specific to REGENIE\n",
    "bsize=1000\n",
    "lowmem=$HOME/scratch60/\n",
    "lowmem_dir=$HOME/scratch60/predictions\n",
    "trait=bt\n",
    "minMAC=4\n",
    "maf_filter=0\n",
    "geno_filter=0\n",
    "hwe_filter=0\n",
    "mind_filter=0\n",
    "reverse_log_p=True"
   ]
  },
  {
   "cell_type": "markdown",
   "id": "05a364ef-5f8e-4893-b67a-a03b3a1e6306",
   "metadata": {
    "kernel": "Bash"
   },
   "source": [
    "## New PCA\n",
    "### Exclude the samples wiht code 1415 but without the sub-category code"
   ]
  },
  {
   "cell_type": "code",
   "execution_count": null,
   "id": "9d827c77-3df5-43e0-ae1c-3c5c70aa37a2",
   "metadata": {
    "kernel": "Python3",
    "tags": []
   },
   "outputs": [],
   "source": [
    "import pandas as pd\n",
    "sample500k = pd.read_csv(\"/home/gl2776/UKBiobank/phenotype_files/HI_UKBB/ukb47922_white_460649ind.keep_id\",header=None,sep=\" \")\n",
    "sample500k"
   ]
  },
  {
   "cell_type": "code",
   "execution_count": null,
   "id": "711d32a1-b9e9-4350-b3e7-eb05f7a00f54",
   "metadata": {
    "kernel": "Python3",
    "tags": []
   },
   "outputs": [],
   "source": [
    "exclusion = pd.read_csv(\"/home/gl2776/UKBiobank/phenotype_files/hearing_impairment/fulldb_500K/pleiotropy_AD_ARHI/with_1415_without_subcat.500k.sample_id.txt\",header=0,sep=\"\\t\")\n",
    "exclusion = exclusion[\"IID\"].to_list()\n",
    "len(exclusion)"
   ]
  },
  {
   "cell_type": "code",
   "execution_count": null,
   "id": "07540516-646e-4dca-b0b5-196cc6abd603",
   "metadata": {
    "kernel": "Python3"
   },
   "outputs": [],
   "source": [
    "sample500k[~sample500k[0].isin(exclusion)].shape"
   ]
  },
  {
   "cell_type": "code",
   "execution_count": null,
   "id": "c0d101cf-1118-4fc4-bbe7-dadf405721e0",
   "metadata": {
    "kernel": "Python3"
   },
   "outputs": [],
   "source": [
    "sample500k[~sample500k[0].isin(exclusion)].to_csv(\"/home/gl2776/UKBiobank/phenotype_files/hearing_impairment/fulldb_500K/pleiotropy_AD_ARHI/ukb47922_white_456561ind_exclu_1415.keep_id\",header=False,index=False,sep=\" \")"
   ]
  },
  {
   "cell_type": "code",
   "execution_count": null,
   "id": "caf0f2bd-dcec-4d00-957c-0175fb2b227a",
   "metadata": {
    "kernel": "Python3"
   },
   "outputs": [],
   "source": [
    "## Keep_id for PCA\n",
    "# f3393\n",
    "file = \"/home/gl2776/UKBiobank/phenotype_files/hearing_impairment/fulldb_500K/pleiotropy_AD_ARHI/070722_UKBB_Hearing_aid_f3393_expandedwhite_14734cases_236699ctrl_500k_PC1_PC2\"\n",
    "phe = pd.read_csv(file,header=0,sep=\"\\t\")\n",
    "phe[[\"FID\", \"IID\"]].to_csv(\"/home/gl2776/UKBiobank/phenotype_files/hearing_impairment/fulldb_500K/pleiotropy_AD_ARHI/070722_UKBB_Hearing_aid_f3393_expandedwhite_14734cases_236699ctrl_500k_PC1_PC2.keep_id\", sep='\\t', index=False, header=False)\n",
    "# f2247\n",
    "file = \"/home/gl2776/UKBiobank/phenotype_files/hearing_impairment/fulldb_500K/pleiotropy_AD_ARHI/070722_UKBB_Hearing_difficulty_f2247_expandedwhite_107994cases_236699ctrl_500k_PC1_PC2\"\n",
    "phe = pd.read_csv(file,header=0,sep=\"\\t\")\n",
    "phe[[\"FID\", \"IID\"]].to_csv(\"/home/gl2776/UKBiobank/phenotype_files/hearing_impairment/fulldb_500K/pleiotropy_AD_ARHI/070722_UKBB_Hearing_difficulty_f2247_expandedwhite_107994cases_236699ctrl_500k_PC1_PC2.keep_id\", sep='\\t', index=False, header=False)\n",
    "# f2257\n",
    "file = \"/home/gl2776/UKBiobank/phenotype_files/hearing_impairment/fulldb_500K/pleiotropy_AD_ARHI/070722_UKBB_Hearing_noise_f2257_expandedwhite_159033cases_236699ctrl_500k_PC1_PC2\"\n",
    "phe = pd.read_csv(file,header=0,sep=\"\\t\")\n",
    "phe[[\"FID\", \"IID\"]].to_csv(\"/home/gl2776/UKBiobank/phenotype_files/hearing_impairment/fulldb_500K/pleiotropy_AD_ARHI/070722_UKBB_Hearing_noise_f2257_expandedwhite_159033cases_236699ctrl_500k_PC1_PC2.keep_id\", sep='\\t', index=False, header=False)\n",
    "# f2247_f2257\n",
    "file = \"/home/gl2776/UKBiobank/phenotype_files/hearing_impairment/fulldb_500K/pleiotropy_AD_ARHI/070722_UKBB_Combined_f2247_f2257_expandedwhite_91092cases_236699ctrl_500k_PC1_PC2\"\n",
    "phe = pd.read_csv(file,header=0,sep=\"\\t\")\n",
    "phe[[\"FID\", \"IID\"]].to_csv(\"/home/gl2776/UKBiobank/phenotype_files/hearing_impairment/fulldb_500K/pleiotropy_AD_ARHI/070722_UKBB_Combined_f2247_f2257_expandedwhite_91092cases_236699ctrl_500k_PC1_PC2.keep_id\", sep='\\t', index=False, header=False)"
   ]
  },
  {
   "cell_type": "code",
   "execution_count": null,
   "id": "1c65d208-3d5a-42d9-b370-08291037170e",
   "metadata": {
    "kernel": "Python3"
   },
   "outputs": [],
   "source": [
    "# phenopca\n",
    "import pandas as pd\n",
    "# f3393\n",
    "file = \"/home/gl2776/UKBiobank/phenotype_files/hearing_impairment/fulldb_500K/pleiotropy_AD_ARHI/070722_UKBB_Hearing_aid_f3393_expandedwhite_14734cases_236699ctrl_500k_PC1_PC2\"\n",
    "list1415 = pd.read_csv(file,header=0,sep=\"\\t\")[\"IID\"].to_list()\n",
    "file = \"/home/gl2776/UKBiobank/results/092821_PCA_results_500K/100521_UKBB_Hearing_aid_f3393_expandedwhite_15601cases_237318ctrl_500k.phenopca\"\n",
    "phe = pd.read_csv(file,header=0,sep=\"\\t\")\n",
    "phe[phe[\"IID\"].isin(list1415)].to_csv(\"/home/gl2776/UKBiobank/phenotype_files/hearing_impairment/fulldb_500K/pleiotropy_AD_ARHI/071122_UKBB_Hearing_aid_f3393_expandedwhite_14734cases_236699ctrl_500k.phenopca\", sep='\\t', index=False)\n",
    "# f2247\n",
    "file = \"/home/gl2776/UKBiobank/phenotype_files/hearing_impairment/fulldb_500K/pleiotropy_AD_ARHI/070722_UKBB_Hearing_difficulty_f2247_expandedwhite_107994cases_236699ctrl_500k_PC1_PC2\"\n",
    "list1415 = pd.read_csv(file,header=0,sep=\"\\t\")[\"IID\"].to_list()\n",
    "file = \"/home/gl2776/UKBiobank/results/092821_PCA_results_500K/100521_UKBB_Hearing_difficulty_f2247_expandedwhite_110453cases_237318ctrl_500k.phenopca\"\n",
    "phe = pd.read_csv(file,header=0,sep=\"\\t\")\n",
    "phe[phe[\"IID\"].isin(list1415)].to_csv(\"/home/gl2776/UKBiobank/phenotype_files/hearing_impairment/fulldb_500K/pleiotropy_AD_ARHI/071122_UKBB_Hearing_difficulty_f2247_expandedwhite_107994cases_236699ctrl_500k.phenopca\", sep='\\t', index=False)\n",
    "# f2247\n",
    "file = \"/home/gl2776/UKBiobank/phenotype_files/hearing_impairment/fulldb_500K/pleiotropy_AD_ARHI/070722_UKBB_Hearing_noise_f2257_expandedwhite_159033cases_236699ctrl_500k_PC1_PC2\"\n",
    "list1415 = pd.read_csv(file,header=0,sep=\"\\t\")[\"IID\"].to_list()\n",
    "file = \"/home/gl2776/UKBiobank/results/092821_PCA_results_500K/100521_UKBB_Hearing_noise_f2257_expandedwhite_161443cases_237318ctrl_500k.phenopca\"\n",
    "phe = pd.read_csv(file,header=0,sep=\"\\t\")\n",
    "phe[phe[\"IID\"].isin(list1415)].to_csv(\"/home/gl2776/UKBiobank/phenotype_files/hearing_impairment/fulldb_500K/pleiotropy_AD_ARHI/071122_UKBB_Hearing_noise_f2257_expandedwhite_159033cases_236699ctrl_500k.phenopca\", sep='\\t', index=False)\n",
    "# f2247\n",
    "file = \"/home/gl2776/UKBiobank/phenotype_files/hearing_impairment/fulldb_500K/pleiotropy_AD_ARHI/070722_UKBB_Combined_f2247_f2257_expandedwhite_91092cases_236699ctrl_500k_PC1_PC2\"\n",
    "list1415 = pd.read_csv(file,header=0,sep=\"\\t\")[\"IID\"].to_list()\n",
    "file = \"/home/gl2776/UKBiobank/results/092821_PCA_results_500K/100521_UKBB_Combined_f2247_f2257_expandedwhite_93258cases_237318ctrl_500k.phenopca\"\n",
    "phe = pd.read_csv(file,header=0,sep=\"\\t\")\n",
    "phe[phe[\"IID\"].isin(list1415)].to_csv(\"/home/gl2776/UKBiobank/phenotype_files/hearing_impairment/fulldb_500K/pleiotropy_AD_ARHI/071122_UKBB_Combined_f2247_f2257_expandedwhite_91092cases_236699ctrl_500k.phenopca\", sep='\\t', index=False)"
   ]
  },
  {
   "cell_type": "markdown",
   "id": "11de07be-7517-4b66-a479-b5903aea001d",
   "metadata": {
    "kernel": "Python3"
   },
   "source": [
    "### Calculate the first 2 PC's for each of these phenotypes to run the association analysis with the imputed data\n",
    "#### f.3393\n",
    "##### Step 1"
   ]
  },
  {
   "cell_type": "code",
   "execution_count": null,
   "id": "07933097-4acf-4181-87b5-9a9367bdfd28",
   "metadata": {
    "kernel": "Bash",
    "tags": []
   },
   "outputs": [],
   "source": [
    "## Columbia's cluster\n",
    "cwd=$UKBB_PATH/results/092821_PCA_results_500K/071122_PCA_500k_exclu_1415/f3393\n",
    "#gwas_sbatch=$USER_PATH/UKBB_GWAS_dev/output/qc1_f3393_qcarray_$(date +\"%Y-%m-%d\").sbatch\n",
    "gwas_sbatch=$cwd/qc1_f3393_qcarray_$(date +\"%Y-%m-%d\").sbatch\n",
    "## Use qc'ed genotype array\n",
    "genoFile=$UKBB_PATH/genotype_files_processed/090221_sample_variant_qc_final_callrate90/cache/UKB_genotypedatadownloaded083019.090221_sample_variant_qc_final_callrate90.filtered.extracted.bed\n",
    "keep_samples=$UKBB_PATH/phenotype_files/hearing_impairment/fulldb_500K/pleiotropy_AD_ARHI/070722_UKBB_Hearing_aid_f3393_expandedwhite_14734cases_236699ctrl_500k_PC1_PC2.keep_id\n",
    "#Keep variants after LD pruning\n",
    "keep_variants=$UKBB_PATH/results/092821_PCA_results_500K/092821_ldprun_unrelated/cache/*092821_ldprun_unrelated.filtered.prune.in\n",
    "\n",
    "#GWAS QC variables set all of this variables to 0 to avoid doing more filtering\n",
    "maf_filter=0\n",
    "geno_filter=0\n",
    "hwe_filter=0\n",
    "mind_filter=0\n",
    "numThreads=1\n",
    "mem='30G'\n",
    "\n",
    "gwasqc_sos=$USER_PATH/xqtl-pipeline/code/data_preprocessing/genotype/GWAS_QC.ipynb\n",
    "\n",
    "gwasqc_args=\"\"\"qc:1\n",
    "    --cwd $cwd\n",
    "    --genoFile $genoFile\n",
    "    --keep_samples $keep_samples\n",
    "    --keep_variants $keep_variants\n",
    "    --maf_filter $maf_filter\n",
    "    --geno_filter $geno_filter\n",
    "    --hwe_filter $hwe_filter\n",
    "    --mind_filter $mind_filter\n",
    "    --numThreads $numThreads \n",
    "    --job_size $job_size\n",
    "    --container $container_lmm\n",
    "    --mem $mem\n",
    "\"\"\"\n",
    "\n",
    "sos run $USER_PATH/UKBB_GWAS_dev/admin/Get_Job_Script.ipynb csg \\\n",
    "    --template-file $tpl_file \\\n",
    "    --workflow-file $gwasqc_sos \\\n",
    "    --to-script $gwas_sbatch \\\n",
    "    --args \"$gwasqc_args\""
   ]
  },
  {
   "cell_type": "markdown",
   "id": "c7d9be72-15b9-4bc7-8dfc-92250ea48148",
   "metadata": {
    "kernel": "Bash"
   },
   "source": [
    "##### Step 2"
   ]
  },
  {
   "cell_type": "code",
   "execution_count": null,
   "id": "6744038d-695e-46f3-9b86-ca05c707c0c4",
   "metadata": {
    "kernel": "Bash"
   },
   "outputs": [],
   "source": [
    "## Columbia's cluster\n",
    "cwd=$UKBB_PATH/results/092821_PCA_results_500K/071122_PCA_500k_exclu_1415/f3393\n",
    "#This is the bfile obtained in step 1\n",
    "genoFile=$cwd/*.bed\n",
    "# Format FID, IID, pop\n",
    "phenoFile=$UKBB_PATH/phenotype_files/hearing_impairment/fulldb_500K/pleiotropy_AD_ARHI/071122_UKBB_Hearing_aid_f3393_expandedwhite_14734cases_236699ctrl_500k.phenopca\n",
    "label_col=ethnicity\n",
    "pop_col=ethnicity\n",
    "pca_sbatch=$cwd/flashpca_f3393_pc_$(date +\"%Y-%m-%d\").sbatch\n",
    "k=2\n",
    "maha_k=2\n",
    "min_axis=\"\"\n",
    "max_axis=\"\"\n",
    "\n",
    "pca_sos=$USER_PATH/xqtl-pipeline/code/data_preprocessing/genotype/PCA.ipynb\n",
    "\n",
    "pca_args=\"\"\"flashpca\n",
    "    --cwd $cwd\n",
    "    --genoFile $genoFile\n",
    "    --phenoFile $phenoFile\n",
    "    --k $k\n",
    "    --maha_k $maha_k\n",
    "    --label_col $label_col\n",
    "    --pop_col $pop_col\n",
    "    --min_axis $min_axis\n",
    "    --max_axis $max_axis\n",
    "    --numThreads $numThreads \n",
    "    --job_size $job_size\n",
    "    --container $container_lmm\n",
    "\"\"\"\n",
    "\n",
    "sos run $USER_PATH/UKBB_GWAS_dev/admin/Get_Job_Script.ipynb csg \\\n",
    "    --template-file $tpl_file \\\n",
    "    --workflow-file $pca_sos \\\n",
    "    --to-script $pca_sbatch \\\n",
    "    --args \"$pca_args\""
   ]
  },
  {
   "cell_type": "markdown",
   "id": "1d437b20-fda8-47c5-852b-6d7562a57d31",
   "metadata": {
    "kernel": "Bash"
   },
   "source": [
    "#### f.2247\n",
    "\n",
    "##### Step 1"
   ]
  },
  {
   "cell_type": "code",
   "execution_count": null,
   "id": "fa888c01-5401-4960-91f6-e79827d83175",
   "metadata": {
    "kernel": "Bash"
   },
   "outputs": [],
   "source": [
    "## Columbia's cluster\n",
    "cwd=$UKBB_PATH/results/092821_PCA_results_500K/071122_PCA_500k_exclu_1415/f2247\n",
    "#gwas_sbatch=$USER_PATH/UKBB_GWAS_dev/output/qc1_f2247_qcarray_$(date +\"%Y-%m-%d\").sbatch\n",
    "gwas_sbatch=$cwd/qc1_f2247_qcarray_$(date +\"%Y-%m-%d\").sbatch\n",
    "## Use qc'ed genotype array\n",
    "genoFile=$UKBB_PATH/genotype_files_processed/090221_sample_variant_qc_final_callrate90/cache/UKB_genotypedatadownloaded083019.090221_sample_variant_qc_final_callrate90.filtered.extracted.bed\n",
    "keep_samples=$UKBB_PATH/phenotype_files/hearing_impairment/fulldb_500K/pleiotropy_AD_ARHI/070722_UKBB_Hearing_difficulty_f2247_expandedwhite_107994cases_236699ctrl_500k_PC1_PC2.keep_id\n",
    "#Keep variants after LD pruning\n",
    "keep_variants=$UKBB_PATH/results/092821_PCA_results_500K/092821_ldprun_unrelated/cache/*092821_ldprun_unrelated.filtered.prune.in\n",
    "\n",
    "#GWAS QC variables set all of this variables to 0 to avoid doing more filtering\n",
    "maf_filter=0\n",
    "geno_filter=0\n",
    "hwe_filter=0\n",
    "mind_filter=0\n",
    "numThreads=1\n",
    "mem='30G'\n",
    "\n",
    "gwasqc_sos=$USER_PATH/xqtl-pipeline/code/data_preprocessing/genotype/GWAS_QC.ipynb\n",
    "\n",
    "gwasqc_args=\"\"\"qc:1\n",
    "    --cwd $cwd\n",
    "    --genoFile $genoFile\n",
    "    --keep_samples $keep_samples\n",
    "    --keep_variants $keep_variants\n",
    "    --maf_filter $maf_filter\n",
    "    --geno_filter $geno_filter\n",
    "    --hwe_filter $hwe_filter\n",
    "    --mind_filter $mind_filter\n",
    "    --numThreads $numThreads \n",
    "    --job_size $job_size\n",
    "    --container $container_lmm\n",
    "    --mem $mem\n",
    "\"\"\"\n",
    "\n",
    "sos run $USER_PATH/UKBB_GWAS_dev/admin/Get_Job_Script.ipynb csg \\\n",
    "    --template-file $tpl_file \\\n",
    "    --workflow-file $gwasqc_sos \\\n",
    "    --to-script $gwas_sbatch \\\n",
    "    --args \"$gwasqc_args\""
   ]
  },
  {
   "cell_type": "markdown",
   "id": "793d22a5-3ff2-4610-b971-f4d578a94c0f",
   "metadata": {
    "kernel": "Bash"
   },
   "source": [
    "##### Step 2."
   ]
  },
  {
   "cell_type": "code",
   "execution_count": null,
   "id": "4348318b-0030-4349-92b3-602eae6d3475",
   "metadata": {
    "kernel": "Bash"
   },
   "outputs": [],
   "source": [
    "## Columbia's cluster\n",
    "cwd=$UKBB_PATH/results/092821_PCA_results_500K/071122_PCA_500k_exclu_1415/f2247\n",
    "#This is the bfile obtained in step 1\n",
    "genoFile=$cwd/*.bed\n",
    "# Format FID, IID, pop\n",
    "phenoFile=$UKBB_PATH/phenotype_files/hearing_impairment/fulldb_500K/pleiotropy_AD_ARHI/071122_UKBB_Hearing_difficulty_f2247_expandedwhite_107994cases_236699ctrl_500k.phenopca\n",
    "label_col=ethnicity\n",
    "pop_col=ethnicity\n",
    "pca_sbatch=$cwd/flashpca_f2247_pc_$(date +\"%Y-%m-%d\").sbatch\n",
    "k=2\n",
    "maha_k=2\n",
    "min_axis=\"\"\n",
    "max_axis=\"\"\n",
    "\n",
    "pca_sos=$USER_PATH/xqtl-pipeline/code/data_preprocessing/genotype/PCA.ipynb\n",
    "\n",
    "pca_args=\"\"\"flashpca\n",
    "    --cwd $cwd\n",
    "    --genoFile $genoFile\n",
    "    --phenoFile $phenoFile\n",
    "    --k $k\n",
    "    --maha_k $maha_k\n",
    "    --label_col $label_col\n",
    "    --pop_col $pop_col\n",
    "    --min_axis $min_axis\n",
    "    --max_axis $max_axis\n",
    "    --numThreads $numThreads \n",
    "    --job_size $job_size\n",
    "    --container $container_lmm\n",
    "\"\"\"\n",
    "\n",
    "sos run  $USER_PATH/UKBB_GWAS_dev/admin/Get_Job_Script.ipynb csg\\\n",
    "    --template-file $tpl_file \\\n",
    "    --workflow-file $pca_sos \\\n",
    "    --to-script $pca_sbatch \\\n",
    "    --args \"$pca_args\""
   ]
  },
  {
   "cell_type": "markdown",
   "id": "e6e24976-1365-4fa3-8785-838395e38676",
   "metadata": {
    "kernel": "Bash"
   },
   "source": [
    "#### f.2257\n",
    "\n",
    "##### Step 1"
   ]
  },
  {
   "cell_type": "code",
   "execution_count": null,
   "id": "baeaad1d-2c31-48e9-8cf8-9a9852a5bf98",
   "metadata": {
    "kernel": "Bash"
   },
   "outputs": [],
   "source": [
    "## Columbia's cluster\n",
    "cwd=$UKBB_PATH/results/092821_PCA_results_500K/071122_PCA_500k_exclu_1415/f2257\n",
    "#gwas_sbatch=$USER_PATH/UKBB_GWAS_dev/output/qc1_f2257_qcarray_$(date +\"%Y-%m-%d\").sbatch\n",
    "gwas_sbatch=$cwd/qc1_f2257_qcarray_$(date +\"%Y-%m-%d\").sbatch\n",
    "## Use qc'ed genotype array\n",
    "genoFile=$UKBB_PATH/genotype_files_processed/090221_sample_variant_qc_final_callrate90/cache/UKB_genotypedatadownloaded083019.090221_sample_variant_qc_final_callrate90.filtered.extracted.bed\n",
    "keep_samples=$UKBB_PATH/phenotype_files/hearing_impairment/fulldb_500K/pleiotropy_AD_ARHI/070722_UKBB_Hearing_noise_f2257_expandedwhite_159033cases_236699ctrl_500k_PC1_PC2.keep_id\n",
    "#Keep variants after LD pruning\n",
    "keep_variants=$UKBB_PATH/results/092821_PCA_results_500K/092821_ldprun_unrelated/cache/*092821_ldprun_unrelated.filtered.prune.in\n",
    "\n",
    "#GWAS QC variables set all of this variables to 0 to avoid doing more filtering\n",
    "maf_filter=0\n",
    "geno_filter=0\n",
    "hwe_filter=0\n",
    "mind_filter=0\n",
    "numThreads=1\n",
    "mem='30G'\n",
    "\n",
    "gwasqc_sos=$USER_PATH/xqtl-pipeline/code/data_preprocessing/genotype/GWAS_QC.ipynb\n",
    "\n",
    "gwasqc_args=\"\"\"qc:1\n",
    "    --cwd $cwd\n",
    "    --genoFile $genoFile\n",
    "    --keep_samples $keep_samples\n",
    "    --keep_variants $keep_variants\n",
    "    --maf_filter $maf_filter\n",
    "    --geno_filter $geno_filter\n",
    "    --hwe_filter $hwe_filter\n",
    "    --mind_filter $mind_filter\n",
    "    --numThreads $numThreads \n",
    "    --job_size $job_size\n",
    "    --container $container_lmm\n",
    "    --mem $mem\n",
    "\"\"\"\n",
    "\n",
    "sos run $USER_PATH/UKBB_GWAS_dev/admin/Get_Job_Script.ipynb csg \\\n",
    "    --template-file $tpl_file \\\n",
    "    --workflow-file $gwasqc_sos \\\n",
    "    --to-script $gwas_sbatch \\\n",
    "    --args \"$gwasqc_args\""
   ]
  },
  {
   "cell_type": "markdown",
   "id": "99e71584-7a87-48d4-8fdc-39eca467320b",
   "metadata": {
    "kernel": "Bash"
   },
   "source": [
    "##### Step 2."
   ]
  },
  {
   "cell_type": "code",
   "execution_count": null,
   "id": "107fca30-2cd9-463a-a629-f623fdf1dc91",
   "metadata": {
    "kernel": "Bash"
   },
   "outputs": [],
   "source": [
    "## Columbia's cluster\n",
    "cwd=$UKBB_PATH/results/092821_PCA_results_500K/071122_PCA_500k_exclu_1415/f2257\n",
    "#This is the bfile obtained in step 1\n",
    "genoFile=$cwd/*.bed\n",
    "# Format FID, IID, pop\n",
    "phenoFile=$UKBB_PATH/phenotype_files/hearing_impairment/fulldb_500K/pleiotropy_AD_ARHI/071122_UKBB_Hearing_noise_f2257_expandedwhite_159033cases_236699ctrl_500k.phenopca\n",
    "label_col=ethnicity\n",
    "pop_col=ethnicity\n",
    "pca_sbatch=$cwd/flashpca_f2257_pc_$(date +\"%Y-%m-%d\").sbatch\n",
    "k=2\n",
    "maha_k=2\n",
    "min_axis=\"\"\n",
    "max_axis=\"\"\n",
    "\n",
    "pca_sos=$USER_PATH/xqtl-pipeline/code/data_preprocessing/genotype/PCA.ipynb\n",
    "\n",
    "pca_args=\"\"\"flashpca\n",
    "    --cwd $cwd\n",
    "    --genoFile $genoFile\n",
    "    --phenoFile $phenoFile\n",
    "    --k $k\n",
    "    --maha_k $maha_k\n",
    "    --label_col $label_col\n",
    "    --pop_col $pop_col\n",
    "    --min_axis $min_axis\n",
    "    --max_axis $max_axis\n",
    "    --numThreads $numThreads \n",
    "    --job_size $job_size\n",
    "    --container $container_lmm\n",
    "\"\"\"\n",
    "\n",
    "sos run  $USER_PATH/UKBB_GWAS_dev/admin/Get_Job_Script.ipynb csg\\\n",
    "    --template-file $tpl_file \\\n",
    "    --workflow-file $pca_sos \\\n",
    "    --to-script $pca_sbatch \\\n",
    "    --args \"$pca_args\""
   ]
  },
  {
   "cell_type": "markdown",
   "id": "295fa416-a810-4b58-9cb4-1afb15dec939",
   "metadata": {
    "kernel": "Bash"
   },
   "source": [
    "#### Combined f.2247 & f.2257\n",
    "\n",
    "##### Step 1"
   ]
  },
  {
   "cell_type": "code",
   "execution_count": null,
   "id": "b54c12a2-6d85-46b7-856d-0460956987b1",
   "metadata": {
    "kernel": "Bash"
   },
   "outputs": [],
   "source": [
    "## Columbia's cluster\n",
    "cwd=$UKBB_PATH/results/092821_PCA_results_500K/071122_PCA_500k_exclu_1415/f2247_f2257\n",
    "#gwas_sbatch=$USER_PATH/UKBB_GWAS_dev/output/qc1_f2247_f2257_qcarray_$(date +\"%Y-%m-%d\").sbatch\n",
    "gwas_sbatch=$cwd/qc1_f2247_f2257_qcarray_$(date +\"%Y-%m-%d\").sbatch\n",
    "## Use qc'ed genotype array\n",
    "genoFile=$UKBB_PATH/genotype_files_processed/090221_sample_variant_qc_final_callrate90/cache/UKB_genotypedatadownloaded083019.090221_sample_variant_qc_final_callrate90.filtered.extracted.bed\n",
    "keep_samples=$UKBB_PATH/phenotype_files/hearing_impairment/fulldb_500K/pleiotropy_AD_ARHI/070722_UKBB_Combined_f2247_f2257_expandedwhite_91092cases_236699ctrl_500k_PC1_PC2.keep_id\n",
    "#Keep variants after LD pruning\n",
    "keep_variants=$UKBB_PATH/results/092821_PCA_results_500K/092821_ldprun_unrelated/cache/*092821_ldprun_unrelated.filtered.prune.in\n",
    "\n",
    "#GWAS QC variables set all of this variables to 0 to avoid doing more filtering\n",
    "maf_filter=0\n",
    "geno_filter=0\n",
    "hwe_filter=0\n",
    "mind_filter=0\n",
    "numThreads=1\n",
    "mem='30G'\n",
    "\n",
    "gwasqc_sos=$USER_PATH/xqtl-pipeline/code/data_preprocessing/genotype/GWAS_QC.ipynb\n",
    "\n",
    "gwasqc_args=\"\"\"qc:1\n",
    "    --cwd $cwd\n",
    "    --genoFile $genoFile\n",
    "    --keep_samples $keep_samples\n",
    "    --keep_variants $keep_variants\n",
    "    --maf_filter $maf_filter\n",
    "    --geno_filter $geno_filter\n",
    "    --hwe_filter $hwe_filter\n",
    "    --mind_filter $mind_filter\n",
    "    --numThreads $numThreads \n",
    "    --job_size $job_size\n",
    "    --container $container_lmm\n",
    "    --mem $mem\n",
    "\"\"\"\n",
    "\n",
    "sos run $USER_PATH/UKBB_GWAS_dev/admin/Get_Job_Script.ipynb csg \\\n",
    "    --template-file $tpl_file \\\n",
    "    --workflow-file $gwasqc_sos \\\n",
    "    --to-script $gwas_sbatch \\\n",
    "    --args \"$gwasqc_args\""
   ]
  },
  {
   "cell_type": "markdown",
   "id": "92d4cdca-a740-49db-9a54-f13b077e1242",
   "metadata": {
    "kernel": "Bash"
   },
   "source": [
    "##### Step 2."
   ]
  },
  {
   "cell_type": "code",
   "execution_count": null,
   "id": "30fc887a-81ed-463b-bfc3-f48d510ff6af",
   "metadata": {
    "kernel": "Bash"
   },
   "outputs": [],
   "source": [
    "## Columbia's cluster\n",
    "cwd=$UKBB_PATH/results/092821_PCA_results_500K/071122_PCA_500k_exclu_1415/f2247_f2257\n",
    "#This is the bfile obtained in step 1\n",
    "genoFile=$cwd/*.bed\n",
    "# Format FID, IID, pop\n",
    "phenoFile=$UKBB_PATH/phenotype_files/hearing_impairment/fulldb_500K/pleiotropy_AD_ARHI/071122_UKBB_Combined_f2247_f2257_expandedwhite_91092cases_236699ctrl_500k.phenopca\n",
    "label_col=ethnicity\n",
    "pop_col=ethnicity\n",
    "pca_sbatch=$cwd/flashpca_f2247_f2257_pc_$(date +\"%Y-%m-%d\").sbatch\n",
    "k=2\n",
    "maha_k=2\n",
    "min_axis=\"\"\n",
    "max_axis=\"\"\n",
    "\n",
    "pca_sos=$USER_PATH/xqtl-pipeline/code/data_preprocessing/genotype/PCA.ipynb\n",
    "\n",
    "pca_args=\"\"\"flashpca\n",
    "    --cwd $cwd\n",
    "    --genoFile $genoFile\n",
    "    --phenoFile $phenoFile\n",
    "    --k $k\n",
    "    --maha_k $maha_k\n",
    "    --label_col $label_col\n",
    "    --pop_col $pop_col\n",
    "    --min_axis $min_axis\n",
    "    --max_axis $max_axis\n",
    "    --numThreads $numThreads \n",
    "    --job_size $job_size\n",
    "    --container $container_lmm\n",
    "\"\"\"\n",
    "\n",
    "sos run  $USER_PATH/UKBB_GWAS_dev/admin/Get_Job_Script.ipynb csg\\\n",
    "    --template-file $tpl_file \\\n",
    "    --workflow-file $pca_sos \\\n",
    "    --to-script $pca_sbatch \\\n",
    "    --args \"$pca_args\""
   ]
  },
  {
   "cell_type": "markdown",
   "id": "2e6c6dff-57a1-4e90-8ba6-8d5c68a16891",
   "metadata": {
    "kernel": "Bash"
   },
   "source": [
    "### Combine the PCs in the phenotype files\n",
    "\n",
    "Phenotype files named \"070722_*_500k_PC1_PC2\" are with original PCs calculated by original sample size with code 1415. \"071222_*_500k_PC1_PC2\" will be the new phenotype files with the newly calculated PCs"
   ]
  },
  {
   "cell_type": "code",
   "execution_count": null,
   "id": "ded105c7-b614-41c3-8d0d-51b7f7f9a435",
   "metadata": {
    "kernel": "Python3",
    "tags": []
   },
   "outputs": [],
   "source": [
    "# f3393\n",
    "import pandas as pd\n",
    "phe = pd.read_csv(\"~/UKBiobank/phenotype_files/hearing_impairment/fulldb_500K/pleiotropy_AD_ARHI/070722_UKBB_Hearing_aid_f3393_expandedwhite_14734cases_236699ctrl_500k_PC1_PC2\",header=0,sep=\"\\t\")\n",
    "pc = pd.read_csv(\"~/UKBiobank/results/092821_PCA_results_500K/071122_PCA_500k_exclu_1415/f3393/071122_UKBB_Hearing_aid_f3393_expandedwhite_14734cases_236699ctrl_500k.pca.txt\",header=0,sep=\"\\t\")\n",
    "phe = phe[['FID', 'IID', 'sex', 'f3393', 'age']]\n",
    "phe = phe.merge(pc[[\"IID\",\"PC1\",\"PC2\"]],how=\"left\",left_on=\"IID\",right_on=\"IID\")\n",
    "phe.to_csv(\"~/UKBiobank/phenotype_files/hearing_impairment/fulldb_500K/pleiotropy_AD_ARHI/071222_UKBB_Hearing_aid_f3393_expandedwhite_14734cases_236699ctrl_500k_PC1_PC2\",index=False,sep=\"\\t\")"
   ]
  },
  {
   "cell_type": "code",
   "execution_count": null,
   "id": "5daa9b61-f8b3-40b4-b4a8-0aaf3e96a3e2",
   "metadata": {
    "kernel": "Python3"
   },
   "outputs": [],
   "source": [
    "# f2247\n",
    "phe = pd.read_csv(\"~/UKBiobank/phenotype_files/hearing_impairment/fulldb_500K/pleiotropy_AD_ARHI/070722_UKBB_Hearing_difficulty_f2247_expandedwhite_107994cases_236699ctrl_500k_PC1_PC2\",header=0,sep=\"\\t\")\n",
    "pc = pd.read_csv(\"~/UKBiobank/results/092821_PCA_results_500K/071122_PCA_500k_exclu_1415/f2247/071122_UKBB_Hearing_difficulty_f2247_expandedwhite_107994cases_236699ctrl_500k.pca.txt\",header=0,sep=\"\\t\")\n",
    "phe = phe[['FID', 'IID', 'sex', 'f2247', 'age']]\n",
    "phe = phe.merge(pc[[\"IID\",\"PC1\",\"PC2\"]],how=\"left\",left_on=\"IID\",right_on=\"IID\")\n",
    "phe.to_csv(\"~/UKBiobank/phenotype_files/hearing_impairment/fulldb_500K/pleiotropy_AD_ARHI/071222_UKBB_Hearing_difficulty_f2247_expandedwhite_107994cases_236699ctrl_500k_PC1_PC2\",index=False,sep=\"\\t\")\n",
    "# f2257\n",
    "phe = pd.read_csv(\"~/UKBiobank/phenotype_files/hearing_impairment/fulldb_500K/pleiotropy_AD_ARHI/070722_UKBB_Hearing_noise_f2257_expandedwhite_159033cases_236699ctrl_500k_PC1_PC2\",header=0,sep=\"\\t\")\n",
    "pc = pd.read_csv(\"~/UKBiobank/results/092821_PCA_results_500K/071122_PCA_500k_exclu_1415/f2257/071122_UKBB_Hearing_noise_f2257_expandedwhite_159033cases_236699ctrl_500k.pca.txt\",header=0,sep=\"\\t\")\n",
    "phe = phe[['FID', 'IID', 'sex', 'f2257', 'age']]\n",
    "phe = phe.merge(pc[[\"IID\",\"PC1\",\"PC2\"]],how=\"left\",left_on=\"IID\",right_on=\"IID\")\n",
    "phe.to_csv(\"~/UKBiobank/phenotype_files/hearing_impairment/fulldb_500K/pleiotropy_AD_ARHI/071222_UKBB_Hearing_noise_f2257_expandedwhite_159033cases_236699ctrl_500k_PC1_PC2\",index=False,sep=\"\\t\")\n",
    "# f2247_f2257\n",
    "phe = pd.read_csv(\"~/UKBiobank/phenotype_files/hearing_impairment/fulldb_500K/pleiotropy_AD_ARHI/070722_UKBB_Combined_f2247_f2257_expandedwhite_91092cases_236699ctrl_500k_PC1_PC2\",header=0,sep=\"\\t\")\n",
    "pc = pd.read_csv(\"~/UKBiobank/results/092821_PCA_results_500K/071122_PCA_500k_exclu_1415/f2247_f2257/071122_UKBB_Combined_f2247_f2257_expandedwhite_91092cases_236699ctrl_500k.pca.txt\",header=0,sep=\"\\t\")\n",
    "phe = phe[['FID', 'IID', 'sex', 'f2247_f2257', 'age']]\n",
    "phe = phe.merge(pc[[\"IID\",\"PC1\",\"PC2\"]],how=\"left\",left_on=\"IID\",right_on=\"IID\")\n",
    "phe.to_csv(\"~/UKBiobank/phenotype_files/hearing_impairment/fulldb_500K/pleiotropy_AD_ARHI/071222_UKBB_Combined_f2247_f2257_expandedwhite_91092cases_236699ctrl_500k_PC1_PC2\",index=False,sep=\"\\t\")"
   ]
  },
  {
   "cell_type": "markdown",
   "id": "01f089a9-c9be-488a-802b-d051a930b056",
   "metadata": {
    "kernel": "Python3"
   },
   "source": [
    "## Run association analysis with imputed data for each phenotype\n",
    "### 500k\n",
    "\n",
    "#### f.3393"
   ]
  },
  {
   "cell_type": "code",
   "execution_count": null,
   "id": "de789a3e-3f48-42ba-85e0-11e69a1a757d",
   "metadata": {
    "kernel": "Bash",
    "tags": []
   },
   "outputs": [],
   "source": [
    "cwd=~/UKBiobank/results/REGENIE_results/results_imputed_data/071222_500k_without_1415/f3393\n",
    "lmm_dir_regenie=$cwd\n",
    "lmm_sbatch_regenie=$cwd/f3393_500K_impdata_regenie_$(date +\"%Y-%m-%d\").sbatch\n",
    "phenoFile=$hearing_pheno_path/fulldb_500K/pleiotropy_AD_ARHI/071222_UKBB_Hearing_aid_f3393_expandedwhite_14734cases_236699ctrl_500k_PC1_PC2\n",
    "covarFile=$hearing_pheno_path/fulldb_500K/pleiotropy_AD_ARHI/071222_UKBB_Hearing_aid_f3393_expandedwhite_14734cases_236699ctrl_500k_PC1_PC2\n",
    "phenoCol=f3393\n",
    "covarCol=sex\n",
    "qCovarCol=\"age PC1 PC2\"\n",
    "bgenMinINFO=0.8\n",
    "bgenMinMAF=0.001\n",
    "minMAC=4\n",
    "maf_filter=0\n",
    "geno_filter=0\n",
    "hwe_filter=0\n",
    "mind_filter=0\n",
    "#Use the original bed files for the genotype array on regenie step1\n",
    "bfile=$UKBB_PATH/genotype_files_processed/090221_sample_variant_qc_final_callrate90/cache/UKB_genotypedatadownloaded083019.090221_sample_variant_qc_final_callrate90.filtered.extracted.bed\n",
    "# Use the imputed data hg19 to run the association analysis\n",
    "genoFile=`echo ~/UKBiobank_Yale_transfer/ukb39554_imputeddataset/ukb_imp_chr{1..22}_v3.bgen`\n",
    "sampleFile=$UKBB_yale/ukb39554_imputeddataset/ukb32285_imputedindiv.sample\n",
    "label_annotate=SNP\n",
    "lowmem_dir=$cwd/predictions\n",
    "\n",
    "lmm_args=\"\"\"regenie\n",
    "    --cwd $lmm_dir_regenie \n",
    "    --bfile $bfile \n",
    "    --genoFile $genoFile\n",
    "    --sampleFile $sampleFile\n",
    "    --phenoFile $phenoFile \n",
    "    --formatFile $formatFile_regenie \n",
    "    --phenoCol $phenoCol\n",
    "    --covarCol $covarCol  \n",
    "    --qCovarCol $qCovarCol\n",
    "    --bsize $bsize\n",
    "    --lowmem_dir $lowmem_dir\n",
    "    --trait $trait \n",
    "    --bgenMinMAF $bgenMinMAF \n",
    "    --bgenMinINFO $bgenMinINFO\n",
    "    --maf_filter $maf_filter\n",
    "    --geno_filter $geno_filter\n",
    "    --hwe_filter $hwe_filter\n",
    "    --mind_filter $mind_filter\n",
    "    --minMAC $minMAC\n",
    "    --job_size $lmm_job_size\n",
    "    --ylim $ylim\n",
    "    --label_annotate $label_annotate\n",
    "    --no-annotate\n",
    "    --reverse_log_p $reverse_log_p\n",
    "    --numThreads $numThreads\n",
    "    --container_lmm $container_lmm\n",
    "    --container_marp $container_marp\n",
    "\"\"\"\n",
    "\n",
    "sos run $USER_PATH/UKBB_GWAS_dev/admin/Get_Job_Script.ipynb csg\\\n",
    "    --template-file $tpl_file \\\n",
    "    --workflow-file $lmm_sos \\\n",
    "    --to-script $lmm_sbatch_regenie \\\n",
    "    --args \"$lmm_args\""
   ]
  },
  {
   "cell_type": "markdown",
   "id": "d22ed9cc-1243-4bd5-936d-b5e741fe78e1",
   "metadata": {
    "kernel": "Bash"
   },
   "source": [
    "#### f.2247"
   ]
  },
  {
   "cell_type": "code",
   "execution_count": null,
   "id": "1eba0502-94be-4f1c-ab1d-a3bce1e7c381",
   "metadata": {
    "kernel": "Bash"
   },
   "outputs": [],
   "source": [
    "cwd=~/UKBiobank/results/REGENIE_results/results_imputed_data/071222_500k_without_1415/f2247\n",
    "lmm_dir_regenie=$cwd\n",
    "lmm_sbatch_regenie=$cwd/f2247_500K_impdata_regenie_$(date +\"%Y-%m-%d\").sbatch\n",
    "phenoFile=$hearing_pheno_path/fulldb_500K/pleiotropy_AD_ARHI/071222_UKBB_Hearing_difficulty_f2247_expandedwhite_107994cases_236699ctrl_500k_PC1_PC2\n",
    "covarFile=$hearing_pheno_path/fulldb_500K/pleiotropy_AD_ARHI/071222_UKBB_Hearing_difficulty_f2247_expandedwhite_107994cases_236699ctrl_500k_PC1_PC2\n",
    "phenoCol=f2247\n",
    "covarCol=sex\n",
    "qCovarCol=\"age PC1 PC2\"\n",
    "bgenMinINFO=0.8\n",
    "bgenMinMAF=0.001\n",
    "minMAC=4\n",
    "maf_filter=0\n",
    "geno_filter=0\n",
    "hwe_filter=0\n",
    "mind_filter=0\n",
    "#Use the original bed files for the genotype array on regenie step1\n",
    "bfile=$UKBB_PATH/genotype_files_processed/090221_sample_variant_qc_final_callrate90/cache/UKB_genotypedatadownloaded083019.090221_sample_variant_qc_final_callrate90.filtered.extracted.bed\n",
    "# Use the imputed data hg19 to run the association analysis\n",
    "genoFile=`echo ~/UKBiobank_Yale_transfer/ukb39554_imputeddataset/ukb_imp_chr{1..22}_v3.bgen`\n",
    "sampleFile=$UKBB_yale/ukb39554_imputeddataset/ukb32285_imputedindiv.sample\n",
    "label_annotate=SNP\n",
    "lowmem_dir=$cwd/predictions\n",
    "\n",
    "lmm_args=\"\"\"regenie\n",
    "    --cwd $lmm_dir_regenie \n",
    "    --bfile $bfile \n",
    "    --genoFile $genoFile\n",
    "    --sampleFile $sampleFile\n",
    "    --phenoFile $phenoFile \n",
    "    --formatFile $formatFile_regenie \n",
    "    --phenoCol $phenoCol\n",
    "    --covarCol $covarCol  \n",
    "    --qCovarCol $qCovarCol\n",
    "    --bsize $bsize\n",
    "    --lowmem_dir $lowmem_dir\n",
    "    --trait $trait \n",
    "    --bgenMinMAF $bgenMinMAF \n",
    "    --bgenMinINFO $bgenMinINFO\n",
    "    --maf_filter $maf_filter\n",
    "    --geno_filter $geno_filter\n",
    "    --hwe_filter $hwe_filter\n",
    "    --mind_filter $mind_filter\n",
    "    --minMAC $minMAC\n",
    "    --job_size $lmm_job_size\n",
    "    --ylim $ylim\n",
    "    --label_annotate $label_annotate\n",
    "    --no-annotate\n",
    "    --reverse_log_p $reverse_log_p\n",
    "    --numThreads $numThreads\n",
    "    --container_lmm $container_lmm\n",
    "    --container_marp $container_marp\n",
    "\"\"\"\n",
    "\n",
    "sos run $USER_PATH/UKBB_GWAS_dev/admin/Get_Job_Script.ipynb csg\\\n",
    "    --template-file $tpl_file \\\n",
    "    --workflow-file $lmm_sos \\\n",
    "    --to-script $lmm_sbatch_regenie \\\n",
    "    --args \"$lmm_args\""
   ]
  },
  {
   "cell_type": "markdown",
   "id": "371bb66b-1903-4562-b4c3-81af39cfcf98",
   "metadata": {
    "kernel": "Bash"
   },
   "source": [
    "#### f.2257"
   ]
  },
  {
   "cell_type": "code",
   "execution_count": null,
   "id": "17af5199-53e0-42ca-883e-dbf96d4c510f",
   "metadata": {
    "kernel": "Bash"
   },
   "outputs": [],
   "source": [
    "cwd=~/UKBiobank/results/REGENIE_results/results_imputed_data/071222_500k_without_1415/f2257\n",
    "lmm_dir_regenie=$cwd\n",
    "lmm_sbatch_regenie=$cwd/f2257_500K_impdata_regenie_$(date +\"%Y-%m-%d\").sbatch\n",
    "phenoFile=$hearing_pheno_path/fulldb_500K/pleiotropy_AD_ARHI/071222_UKBB_Hearing_noise_f2257_expandedwhite_159033cases_236699ctrl_500k_PC1_PC2\n",
    "covarFile=$hearing_pheno_path/fulldb_500K/pleiotropy_AD_ARHI/071222_UKBB_Hearing_noise_f2257_expandedwhite_159033cases_236699ctrl_500k_PC1_PC2\n",
    "phenoCol=f2257\n",
    "covarCol=sex\n",
    "qCovarCol=\"age PC1 PC2\"\n",
    "bgenMinINFO=0.8\n",
    "bgenMinMAF=0.001\n",
    "minMAC=4\n",
    "maf_filter=0\n",
    "geno_filter=0\n",
    "hwe_filter=0\n",
    "mind_filter=0\n",
    "#Use the original bed files for the genotype array on regenie step1\n",
    "bfile=$UKBB_PATH/genotype_files_processed/090221_sample_variant_qc_final_callrate90/cache/UKB_genotypedatadownloaded083019.090221_sample_variant_qc_final_callrate90.filtered.extracted.bed\n",
    "# Use the imputed data hg19 to run the association analysis\n",
    "genoFile=`echo ~/UKBiobank_Yale_transfer/ukb39554_imputeddataset/ukb_imp_chr{1..22}_v3.bgen`\n",
    "sampleFile=$UKBB_yale/ukb39554_imputeddataset/ukb32285_imputedindiv.sample\n",
    "label_annotate=SNP\n",
    "lowmem_dir=$cwd/predictions\n",
    "\n",
    "lmm_args=\"\"\"regenie\n",
    "    --cwd $lmm_dir_regenie \n",
    "    --bfile $bfile \n",
    "    --genoFile $genoFile\n",
    "    --sampleFile $sampleFile\n",
    "    --phenoFile $phenoFile \n",
    "    --formatFile $formatFile_regenie \n",
    "    --phenoCol $phenoCol\n",
    "    --covarCol $covarCol  \n",
    "    --qCovarCol $qCovarCol\n",
    "    --bsize $bsize\n",
    "    --lowmem_dir $lowmem_dir\n",
    "    --trait $trait \n",
    "    --bgenMinMAF $bgenMinMAF \n",
    "    --bgenMinINFO $bgenMinINFO\n",
    "    --maf_filter $maf_filter\n",
    "    --geno_filter $geno_filter\n",
    "    --hwe_filter $hwe_filter\n",
    "    --mind_filter $mind_filter\n",
    "    --minMAC $minMAC\n",
    "    --job_size $lmm_job_size\n",
    "    --ylim $ylim\n",
    "    --label_annotate $label_annotate\n",
    "    --no-annotate\n",
    "    --reverse_log_p $reverse_log_p\n",
    "    --numThreads $numThreads\n",
    "    --container_lmm $container_lmm\n",
    "    --container_marp $container_marp\n",
    "\"\"\"\n",
    "\n",
    "sos run $USER_PATH/UKBB_GWAS_dev/admin/Get_Job_Script.ipynb csg\\\n",
    "    --template-file $tpl_file \\\n",
    "    --workflow-file $lmm_sos \\\n",
    "    --to-script $lmm_sbatch_regenie \\\n",
    "    --args \"$lmm_args\""
   ]
  },
  {
   "cell_type": "markdown",
   "id": "51923fbe-4e1b-4e11-b875-0cf1915ce9fb",
   "metadata": {
    "kernel": "Bash"
   },
   "source": [
    "#### Combined f.2247 & f.2257"
   ]
  },
  {
   "cell_type": "code",
   "execution_count": null,
   "id": "e7b32059-771e-496c-9561-88aa5124b319",
   "metadata": {
    "kernel": "Bash"
   },
   "outputs": [],
   "source": [
    "cwd=~/UKBiobank/results/REGENIE_results/results_imputed_data/071222_500k_without_1415/f2247_f2257\n",
    "lmm_dir_regenie=$cwd\n",
    "lmm_sbatch_regenie=$cwd/f2247_f2257_500K_impdata_regenie_$(date +\"%Y-%m-%d\").sbatch\n",
    "phenoFile=$hearing_pheno_path/fulldb_500K/pleiotropy_AD_ARHI/071222_UKBB_Combined_f2247_f2257_expandedwhite_91092cases_236699ctrl_500k_PC1_PC2\n",
    "covarFile=$hearing_pheno_path/fulldb_500K/pleiotropy_AD_ARHI/071222_UKBB_Combined_f2247_f2257_expandedwhite_91092cases_236699ctrl_500k_PC1_PC2\n",
    "phenoCol=f2247_f2257\n",
    "covarCol=sex\n",
    "qCovarCol=\"age PC1 PC2\"\n",
    "bgenMinINFO=0.8\n",
    "bgenMinMAF=0.001\n",
    "minMAC=4\n",
    "maf_filter=0\n",
    "geno_filter=0\n",
    "hwe_filter=0\n",
    "mind_filter=0\n",
    "#Use the original bed files for the genotype array on regenie step1\n",
    "bfile=$UKBB_PATH/genotype_files_processed/090221_sample_variant_qc_final_callrate90/cache/UKB_genotypedatadownloaded083019.090221_sample_variant_qc_final_callrate90.filtered.extracted.bed\n",
    "# Use the imputed data hg19 to run the association analysis\n",
    "genoFile=`echo ~/UKBiobank_Yale_transfer/ukb39554_imputeddataset/ukb_imp_chr{1..22}_v3.bgen`\n",
    "sampleFile=$UKBB_yale/ukb39554_imputeddataset/ukb32285_imputedindiv.sample\n",
    "label_annotate=SNP\n",
    "lowmem_dir=$cwd/predictions\n",
    "\n",
    "lmm_args=\"\"\"regenie\n",
    "    --cwd $lmm_dir_regenie \n",
    "    --bfile $bfile \n",
    "    --genoFile $genoFile\n",
    "    --sampleFile $sampleFile\n",
    "    --phenoFile $phenoFile \n",
    "    --formatFile $formatFile_regenie \n",
    "    --phenoCol $phenoCol\n",
    "    --covarCol $covarCol  \n",
    "    --qCovarCol $qCovarCol\n",
    "    --bsize $bsize\n",
    "    --lowmem_dir $lowmem_dir\n",
    "    --trait $trait \n",
    "    --bgenMinMAF $bgenMinMAF \n",
    "    --bgenMinINFO $bgenMinINFO\n",
    "    --maf_filter $maf_filter\n",
    "    --geno_filter $geno_filter\n",
    "    --hwe_filter $hwe_filter\n",
    "    --mind_filter $mind_filter\n",
    "    --minMAC $minMAC\n",
    "    --job_size $lmm_job_size\n",
    "    --ylim $ylim\n",
    "    --label_annotate $label_annotate\n",
    "    --no-annotate\n",
    "    --reverse_log_p $reverse_log_p\n",
    "    --numThreads $numThreads\n",
    "    --container_lmm $container_lmm\n",
    "    --container_marp $container_marp\n",
    "\"\"\"\n",
    "\n",
    "sos run $USER_PATH/UKBB_GWAS_dev/admin/Get_Job_Script.ipynb csg\\\n",
    "    --template-file $tpl_file \\\n",
    "    --workflow-file $lmm_sos \\\n",
    "    --to-script $lmm_sbatch_regenie \\\n",
    "    --args \"$lmm_args\""
   ]
  },
  {
   "cell_type": "markdown",
   "id": "711452b4-3699-4d28-a959-f1729db41625",
   "metadata": {
    "kernel": "Bash"
   },
   "source": [
    "# Step 3. LD clumping between different traits"
   ]
  },
  {
   "cell_type": "markdown",
   "id": "c8d2ac42-303a-4604-a85d-f6c2c206f90c",
   "metadata": {
    "kernel": "Bash"
   },
   "source": [
    "## Format file preparation so that all summary stats match "
   ]
  },
  {
   "cell_type": "code",
   "execution_count": 4,
   "id": "5cea3345-21ea-4660-a5c5-c8baa0c6e6d4",
   "metadata": {
    "kernel": "Python3",
    "tags": []
   },
   "outputs": [],
   "source": [
    "import pandas as pd\n",
    "data = pd.read_csv('/mnt/vast/hpc/csg/UKBiobank/results/pleiotropy_AD_ARHI/GCST90027158_buildGRCh37.tsv.gz', compression='gzip', sep=\"\\t\", header=0)"
   ]
  },
  {
   "cell_type": "code",
   "execution_count": 5,
   "id": "586daad4-1900-4d05-8824-8047b45e2b6d",
   "metadata": {
    "kernel": "Python3"
   },
   "outputs": [
    {
     "data": {
      "text/html": [
       "<div>\n",
       "<style scoped>\n",
       "    .dataframe tbody tr th:only-of-type {\n",
       "        vertical-align: middle;\n",
       "    }\n",
       "\n",
       "    .dataframe tbody tr th {\n",
       "        vertical-align: top;\n",
       "    }\n",
       "\n",
       "    .dataframe thead th {\n",
       "        text-align: right;\n",
       "    }\n",
       "</style>\n",
       "<table border=\"1\" class=\"dataframe\">\n",
       "  <thead>\n",
       "    <tr style=\"text-align: right;\">\n",
       "      <th></th>\n",
       "      <th>CHR</th>\n",
       "      <th>POS</th>\n",
       "      <th>A0</th>\n",
       "      <th>A1</th>\n",
       "      <th>SNP</th>\n",
       "      <th>STAT</th>\n",
       "      <th>SE</th>\n",
       "      <th>P</th>\n",
       "    </tr>\n",
       "  </thead>\n",
       "  <tbody>\n",
       "    <tr>\n",
       "      <th>0</th>\n",
       "      <td>1</td>\n",
       "      <td>529825</td>\n",
       "      <td>C</td>\n",
       "      <td>T</td>\n",
       "      <td>chr1:529825:C:T</td>\n",
       "      <td>-0.0152</td>\n",
       "      <td>0.3236</td>\n",
       "      <td>0.9626</td>\n",
       "    </tr>\n",
       "    <tr>\n",
       "      <th>1</th>\n",
       "      <td>1</td>\n",
       "      <td>531142</td>\n",
       "      <td>C</td>\n",
       "      <td>CTG</td>\n",
       "      <td>chr1:531142:C:CTG</td>\n",
       "      <td>-0.2494</td>\n",
       "      <td>0.2247</td>\n",
       "      <td>0.2670</td>\n",
       "    </tr>\n",
       "    <tr>\n",
       "      <th>2</th>\n",
       "      <td>1</td>\n",
       "      <td>566327</td>\n",
       "      <td>G</td>\n",
       "      <td>A</td>\n",
       "      <td>chr1:566327:G:A</td>\n",
       "      <td>0.0975</td>\n",
       "      <td>0.4320</td>\n",
       "      <td>0.8214</td>\n",
       "    </tr>\n",
       "    <tr>\n",
       "      <th>3</th>\n",
       "      <td>1</td>\n",
       "      <td>581537</td>\n",
       "      <td>G</td>\n",
       "      <td>A</td>\n",
       "      <td>chr1:581537:G:A</td>\n",
       "      <td>-0.3028</td>\n",
       "      <td>0.3180</td>\n",
       "      <td>0.3411</td>\n",
       "    </tr>\n",
       "    <tr>\n",
       "      <th>4</th>\n",
       "      <td>1</td>\n",
       "      <td>661906</td>\n",
       "      <td>G</td>\n",
       "      <td>C</td>\n",
       "      <td>chr1:661906:G:C</td>\n",
       "      <td>0.2938</td>\n",
       "      <td>0.3171</td>\n",
       "      <td>0.3542</td>\n",
       "    </tr>\n",
       "  </tbody>\n",
       "</table>\n",
       "</div>"
      ],
      "text/plain": [
       "   CHR     POS A0   A1                SNP    STAT      SE       P\n",
       "0    1  529825  C    T    chr1:529825:C:T -0.0152  0.3236  0.9626\n",
       "1    1  531142  C  CTG  chr1:531142:C:CTG -0.2494  0.2247  0.2670\n",
       "2    1  566327  G    A    chr1:566327:G:A  0.0975  0.4320  0.8214\n",
       "3    1  581537  G    A    chr1:581537:G:A -0.3028  0.3180  0.3411\n",
       "4    1  661906  G    C    chr1:661906:G:C  0.2938  0.3171  0.3542"
      ]
     },
     "execution_count": 5,
     "metadata": {},
     "output_type": "execute_result"
    }
   ],
   "source": [
    "data.head()"
   ]
  },
  {
   "cell_type": "code",
   "execution_count": 6,
   "id": "639f9d2d-fbb9-4cd6-8ddf-fb4427e6e745",
   "metadata": {
    "kernel": "Python3"
   },
   "outputs": [],
   "source": [
    "data.rename(columns={'A0':'REF', 'A1':'ALT', 'STAT':'BETA'}, inplace=True)"
   ]
  },
  {
   "cell_type": "code",
   "execution_count": 7,
   "id": "ba754fb5-b141-4f70-acd4-1bae7625c0c3",
   "metadata": {
    "kernel": "Python3"
   },
   "outputs": [
    {
     "data": {
      "text/html": [
       "<div>\n",
       "<style scoped>\n",
       "    .dataframe tbody tr th:only-of-type {\n",
       "        vertical-align: middle;\n",
       "    }\n",
       "\n",
       "    .dataframe tbody tr th {\n",
       "        vertical-align: top;\n",
       "    }\n",
       "\n",
       "    .dataframe thead th {\n",
       "        text-align: right;\n",
       "    }\n",
       "</style>\n",
       "<table border=\"1\" class=\"dataframe\">\n",
       "  <thead>\n",
       "    <tr style=\"text-align: right;\">\n",
       "      <th></th>\n",
       "      <th>CHR</th>\n",
       "      <th>POS</th>\n",
       "      <th>REF</th>\n",
       "      <th>ALT</th>\n",
       "      <th>SNP</th>\n",
       "      <th>BETA</th>\n",
       "      <th>SE</th>\n",
       "      <th>P</th>\n",
       "    </tr>\n",
       "  </thead>\n",
       "  <tbody>\n",
       "    <tr>\n",
       "      <th>0</th>\n",
       "      <td>1</td>\n",
       "      <td>529825</td>\n",
       "      <td>C</td>\n",
       "      <td>T</td>\n",
       "      <td>chr1:529825:C:T</td>\n",
       "      <td>-0.0152</td>\n",
       "      <td>0.3236</td>\n",
       "      <td>0.9626</td>\n",
       "    </tr>\n",
       "    <tr>\n",
       "      <th>1</th>\n",
       "      <td>1</td>\n",
       "      <td>531142</td>\n",
       "      <td>C</td>\n",
       "      <td>CTG</td>\n",
       "      <td>chr1:531142:C:CTG</td>\n",
       "      <td>-0.2494</td>\n",
       "      <td>0.2247</td>\n",
       "      <td>0.2670</td>\n",
       "    </tr>\n",
       "    <tr>\n",
       "      <th>2</th>\n",
       "      <td>1</td>\n",
       "      <td>566327</td>\n",
       "      <td>G</td>\n",
       "      <td>A</td>\n",
       "      <td>chr1:566327:G:A</td>\n",
       "      <td>0.0975</td>\n",
       "      <td>0.4320</td>\n",
       "      <td>0.8214</td>\n",
       "    </tr>\n",
       "    <tr>\n",
       "      <th>3</th>\n",
       "      <td>1</td>\n",
       "      <td>581537</td>\n",
       "      <td>G</td>\n",
       "      <td>A</td>\n",
       "      <td>chr1:581537:G:A</td>\n",
       "      <td>-0.3028</td>\n",
       "      <td>0.3180</td>\n",
       "      <td>0.3411</td>\n",
       "    </tr>\n",
       "    <tr>\n",
       "      <th>4</th>\n",
       "      <td>1</td>\n",
       "      <td>661906</td>\n",
       "      <td>G</td>\n",
       "      <td>C</td>\n",
       "      <td>chr1:661906:G:C</td>\n",
       "      <td>0.2938</td>\n",
       "      <td>0.3171</td>\n",
       "      <td>0.3542</td>\n",
       "    </tr>\n",
       "  </tbody>\n",
       "</table>\n",
       "</div>"
      ],
      "text/plain": [
       "   CHR     POS REF  ALT                SNP    BETA      SE       P\n",
       "0    1  529825   C    T    chr1:529825:C:T -0.0152  0.3236  0.9626\n",
       "1    1  531142   C  CTG  chr1:531142:C:CTG -0.2494  0.2247  0.2670\n",
       "2    1  566327   G    A    chr1:566327:G:A  0.0975  0.4320  0.8214\n",
       "3    1  581537   G    A    chr1:581537:G:A -0.3028  0.3180  0.3411\n",
       "4    1  661906   G    C    chr1:661906:G:C  0.2938  0.3171  0.3542"
      ]
     },
     "execution_count": 7,
     "metadata": {},
     "output_type": "execute_result"
    }
   ],
   "source": [
    "data.head()"
   ]
  },
  {
   "cell_type": "code",
   "execution_count": 8,
   "id": "2c489f3e-39b6-4458-ae47-2bd920f89ef7",
   "metadata": {
    "kernel": "Python3"
   },
   "outputs": [],
   "source": [
    "data.to_csv(\"/mnt/vast/hpc/csg/UKBiobank/results/pleiotropy_AD_ARHI/GCST90027158_buildGRCh37_reheader.tsv.gz\", sep='\\t', index=False, header=True, compression=\"gzip\")"
   ]
  },
  {
   "cell_type": "markdown",
   "id": "37688145-eea5-47bc-b2f5-641d456298a0",
   "metadata": {
    "kernel": "Python3"
   },
   "source": [
    "### Re-format the SNP in the 500K GWAS summary stats"
   ]
  },
  {
   "cell_type": "code",
   "execution_count": 16,
   "id": "d173039f-b1e3-4e17-b877-9cde338df064",
   "metadata": {
    "kernel": "Python3"
   },
   "outputs": [],
   "source": [
    "\n",
    "f3393 = pd.read_csv('/mnt/vast/hpc/csg/UKBiobank/results/REGENIE_results/results_imputed_data/071222_500k_without_1415/f3393/071222_UKBB_Hearing_aid_f3393_expandedwhite_14734cases_236699ctrl_500k_PC1_PC2_f3393.regenie.snp_stats.gz', dtype=str, compression='gzip',sep=\"\\t\", header=0)"
   ]
  },
  {
   "cell_type": "code",
   "execution_count": 17,
   "id": "c15b6c26-e74c-4045-b9a2-cece1e82eda9",
   "metadata": {
    "kernel": "Python3"
   },
   "outputs": [
    {
     "data": {
      "text/html": [
       "<div>\n",
       "<style scoped>\n",
       "    .dataframe tbody tr th:only-of-type {\n",
       "        vertical-align: middle;\n",
       "    }\n",
       "\n",
       "    .dataframe tbody tr th {\n",
       "        vertical-align: top;\n",
       "    }\n",
       "\n",
       "    .dataframe thead th {\n",
       "        text-align: right;\n",
       "    }\n",
       "</style>\n",
       "<table border=\"1\" class=\"dataframe\">\n",
       "  <thead>\n",
       "    <tr style=\"text-align: right;\">\n",
       "      <th></th>\n",
       "      <th>CHR</th>\n",
       "      <th>POS</th>\n",
       "      <th>REF</th>\n",
       "      <th>ALT</th>\n",
       "      <th>SNP</th>\n",
       "      <th>BETA</th>\n",
       "      <th>SE</th>\n",
       "      <th>P</th>\n",
       "    </tr>\n",
       "  </thead>\n",
       "  <tbody>\n",
       "    <tr>\n",
       "      <th>0</th>\n",
       "      <td>1</td>\n",
       "      <td>13259</td>\n",
       "      <td>A</td>\n",
       "      <td>G</td>\n",
       "      <td>rs562993331</td>\n",
       "      <td>-0.444965</td>\n",
       "      <td>0.405872</td>\n",
       "      <td>0.272939253875768</td>\n",
       "    </tr>\n",
       "    <tr>\n",
       "      <th>1</th>\n",
       "      <td>1</td>\n",
       "      <td>17569</td>\n",
       "      <td>A</td>\n",
       "      <td>C</td>\n",
       "      <td>rs535086049</td>\n",
       "      <td>1.19541</td>\n",
       "      <td>1.86985</td>\n",
       "      <td>0.5226211725664186</td>\n",
       "    </tr>\n",
       "    <tr>\n",
       "      <th>2</th>\n",
       "      <td>1</td>\n",
       "      <td>17641</td>\n",
       "      <td>A</td>\n",
       "      <td>G</td>\n",
       "      <td>rs578081284</td>\n",
       "      <td>0.435933</td>\n",
       "      <td>0.233139</td>\n",
       "      <td>0.06150635633786312</td>\n",
       "    </tr>\n",
       "    <tr>\n",
       "      <th>3</th>\n",
       "      <td>1</td>\n",
       "      <td>30741</td>\n",
       "      <td>A</td>\n",
       "      <td>C</td>\n",
       "      <td>rs558169846</td>\n",
       "      <td>1.28043</td>\n",
       "      <td>1.24525</td>\n",
       "      <td>0.303832341109345</td>\n",
       "    </tr>\n",
       "    <tr>\n",
       "      <th>4</th>\n",
       "      <td>1</td>\n",
       "      <td>52144</td>\n",
       "      <td>A</td>\n",
       "      <td>T</td>\n",
       "      <td>rs190291950</td>\n",
       "      <td>-0.117852</td>\n",
       "      <td>0.337249</td>\n",
       "      <td>0.7267499323234313</td>\n",
       "    </tr>\n",
       "  </tbody>\n",
       "</table>\n",
       "</div>"
      ],
      "text/plain": [
       "  CHR    POS REF ALT          SNP       BETA        SE                    P\n",
       "0   1  13259   A   G  rs562993331  -0.444965  0.405872    0.272939253875768\n",
       "1   1  17569   A   C  rs535086049    1.19541   1.86985   0.5226211725664186\n",
       "2   1  17641   A   G  rs578081284   0.435933  0.233139  0.06150635633786312\n",
       "3   1  30741   A   C  rs558169846    1.28043   1.24525    0.303832341109345\n",
       "4   1  52144   A   T  rs190291950  -0.117852  0.337249   0.7267499323234313"
      ]
     },
     "execution_count": 17,
     "metadata": {},
     "output_type": "execute_result"
    }
   ],
   "source": [
    "f3393.head()"
   ]
  },
  {
   "cell_type": "code",
   "execution_count": 18,
   "id": "21ac3f75-8afc-4f9b-a65f-27401b290c2c",
   "metadata": {
    "kernel": "Python3"
   },
   "outputs": [],
   "source": [
    "f3393['var'] = f3393['CHR'] + ':' + f3393['POS'] + ':' + f3393['REF'] + ':' + f3393['ALT']"
   ]
  },
  {
   "cell_type": "code",
   "execution_count": 19,
   "id": "1c69f5b7-71a0-4037-ba00-3eddcb43dc94",
   "metadata": {
    "kernel": "Python3"
   },
   "outputs": [
    {
     "data": {
      "text/html": [
       "<div>\n",
       "<style scoped>\n",
       "    .dataframe tbody tr th:only-of-type {\n",
       "        vertical-align: middle;\n",
       "    }\n",
       "\n",
       "    .dataframe tbody tr th {\n",
       "        vertical-align: top;\n",
       "    }\n",
       "\n",
       "    .dataframe thead th {\n",
       "        text-align: right;\n",
       "    }\n",
       "</style>\n",
       "<table border=\"1\" class=\"dataframe\">\n",
       "  <thead>\n",
       "    <tr style=\"text-align: right;\">\n",
       "      <th></th>\n",
       "      <th>CHR</th>\n",
       "      <th>POS</th>\n",
       "      <th>REF</th>\n",
       "      <th>ALT</th>\n",
       "      <th>SNP</th>\n",
       "      <th>BETA</th>\n",
       "      <th>SE</th>\n",
       "      <th>P</th>\n",
       "      <th>var</th>\n",
       "    </tr>\n",
       "  </thead>\n",
       "  <tbody>\n",
       "    <tr>\n",
       "      <th>0</th>\n",
       "      <td>1</td>\n",
       "      <td>13259</td>\n",
       "      <td>A</td>\n",
       "      <td>G</td>\n",
       "      <td>rs562993331</td>\n",
       "      <td>-0.444965</td>\n",
       "      <td>0.405872</td>\n",
       "      <td>0.272939253875768</td>\n",
       "      <td>1:13259:A:G</td>\n",
       "    </tr>\n",
       "    <tr>\n",
       "      <th>1</th>\n",
       "      <td>1</td>\n",
       "      <td>17569</td>\n",
       "      <td>A</td>\n",
       "      <td>C</td>\n",
       "      <td>rs535086049</td>\n",
       "      <td>1.19541</td>\n",
       "      <td>1.86985</td>\n",
       "      <td>0.5226211725664186</td>\n",
       "      <td>1:17569:A:C</td>\n",
       "    </tr>\n",
       "    <tr>\n",
       "      <th>2</th>\n",
       "      <td>1</td>\n",
       "      <td>17641</td>\n",
       "      <td>A</td>\n",
       "      <td>G</td>\n",
       "      <td>rs578081284</td>\n",
       "      <td>0.435933</td>\n",
       "      <td>0.233139</td>\n",
       "      <td>0.06150635633786312</td>\n",
       "      <td>1:17641:A:G</td>\n",
       "    </tr>\n",
       "    <tr>\n",
       "      <th>3</th>\n",
       "      <td>1</td>\n",
       "      <td>30741</td>\n",
       "      <td>A</td>\n",
       "      <td>C</td>\n",
       "      <td>rs558169846</td>\n",
       "      <td>1.28043</td>\n",
       "      <td>1.24525</td>\n",
       "      <td>0.303832341109345</td>\n",
       "      <td>1:30741:A:C</td>\n",
       "    </tr>\n",
       "    <tr>\n",
       "      <th>4</th>\n",
       "      <td>1</td>\n",
       "      <td>52144</td>\n",
       "      <td>A</td>\n",
       "      <td>T</td>\n",
       "      <td>rs190291950</td>\n",
       "      <td>-0.117852</td>\n",
       "      <td>0.337249</td>\n",
       "      <td>0.7267499323234313</td>\n",
       "      <td>1:52144:A:T</td>\n",
       "    </tr>\n",
       "  </tbody>\n",
       "</table>\n",
       "</div>"
      ],
      "text/plain": [
       "  CHR    POS REF ALT          SNP       BETA        SE                    P  \\\n",
       "0   1  13259   A   G  rs562993331  -0.444965  0.405872    0.272939253875768   \n",
       "1   1  17569   A   C  rs535086049    1.19541   1.86985   0.5226211725664186   \n",
       "2   1  17641   A   G  rs578081284   0.435933  0.233139  0.06150635633786312   \n",
       "3   1  30741   A   C  rs558169846    1.28043   1.24525    0.303832341109345   \n",
       "4   1  52144   A   T  rs190291950  -0.117852  0.337249   0.7267499323234313   \n",
       "\n",
       "           var  \n",
       "0  1:13259:A:G  \n",
       "1  1:17569:A:C  \n",
       "2  1:17641:A:G  \n",
       "3  1:30741:A:C  \n",
       "4  1:52144:A:T  "
      ]
     },
     "execution_count": 19,
     "metadata": {},
     "output_type": "execute_result"
    }
   ],
   "source": [
    "f3393.head()"
   ]
  },
  {
   "cell_type": "code",
   "execution_count": 23,
   "id": "7537da40-9c60-4c6d-b6e7-125c120e1c65",
   "metadata": {
    "kernel": "Python3"
   },
   "outputs": [
    {
     "ename": "IndentationError",
     "evalue": "unindent does not match any outer indentation level (<tokenize>, line 8)",
     "output_type": "error",
     "traceback": [
      "\u001b[0;36m  File \u001b[0;32m\"<tokenize>\"\u001b[0;36m, line \u001b[0;32m8\u001b[0m\n\u001b[0;31m    continue\u001b[0m\n\u001b[0m    ^\u001b[0m\n\u001b[0;31mIndentationError\u001b[0m\u001b[0;31m:\u001b[0m unindent does not match any outer indentation level\n"
     ]
    }
   ],
   "source": [
    "import os\n",
    "directory = '/mnt/vast/hpc/csg/UKBiobank/results/REGENIE_results/results_imputed_data/071222_500k_without_1415/'\n",
    "\n",
    "for filename in os.listdir(directory):\n",
    "    if filename.endswith(\".regenie.snp_stats.gz\"):\n",
    "        df = pd.read_csv(filename, dtype=str, compression='gzip',sep=\"\\t\", header=0)\n",
    "        df.head()\n",
    "     continue\n",
    "    else:\n",
    "    continue"
   ]
  },
  {
   "cell_type": "code",
   "execution_count": 35,
   "id": "64bb807b-d859-4fe1-a9a8-14313aa4ea5c",
   "metadata": {
    "kernel": "Python3"
   },
   "outputs": [
    {
     "name": "stdout",
     "output_type": "stream",
     "text": [
      "/mnt/vast/hpc/csg/UKBiobank/results/REGENIE_results/results_imputed_data/071222_500k_without_1415/f2247/071222_UKBB_Hearing_difficulty_f2247_expandedwhite_107994cases_236699ctrl_500k_PC1_PC2_f2247.regenie.snp_stats.gz\n",
      "  CHR    POS REF ALT        varid        BETA        SE                     P  \\\n",
      "0   1  13259   A   G  rs562993331   -0.387653  0.169082  0.023122777490193567   \n",
      "1   1  17569   A   C  rs535086049    0.331285  0.764723    0.6648627475668728   \n",
      "2   1  17641   A   G  rs578081284   0.0451544  0.103088    0.6613738204754334   \n",
      "3   1  30741   A   C  rs558169846     1.76303  0.991047  0.024469776350843825   \n",
      "4   1  57222   C   T  rs576081345  -0.0501817  0.114946    0.6624254356036648   \n",
      "\n",
      "           SNP  \n",
      "0  1:13259:A:G  \n",
      "1  1:17569:A:C  \n",
      "2  1:17641:A:G  \n",
      "3  1:30741:A:C  \n",
      "4  1:57222:C:T  \n",
      "/mnt/vast/hpc/csg/UKBiobank/results/REGENIE_results/results_imputed_data/071222_500k_without_1415/f2247_f2257/071222_UKBB_Combined_f2247_f2257_expandedwhite_91092cases_236699ctrl_500k_PC1_PC2_f2247_f2257.regenie.snp_stats.gz\n",
      "  CHR    POS REF ALT        varid        BETA        SE                     P  \\\n",
      "0   1  13259   A   G  rs562993331   -0.439782  0.176722  0.014219030965401364   \n",
      "1   1  17569   A   C  rs535086049   0.0823806  0.804463    0.9184355803042868   \n",
      "2   1  17641   A   G  rs578081284   0.0734569  0.109471    0.5022107445598102   \n",
      "3   1  30741   A   C  rs558169846     1.58704  0.987036   0.04583318099923091   \n",
      "4   1  57222   C   T  rs576081345  -0.0309519  0.122759    0.8009359732318994   \n",
      "\n",
      "           SNP  \n",
      "0  1:13259:A:G  \n",
      "1  1:17569:A:C  \n",
      "2  1:17641:A:G  \n",
      "3  1:30741:A:C  \n",
      "4  1:57222:C:T  \n",
      "/mnt/vast/hpc/csg/UKBiobank/results/REGENIE_results/results_imputed_data/071222_500k_without_1415/f2257/071222_UKBB_Hearing_noise_f2257_expandedwhite_159033cases_236699ctrl_500k_PC1_PC2_f2257.regenie.snp_stats.gz\n",
      "  CHR    POS REF ALT        varid       BETA        SE                    P  \\\n",
      "0   1  13259   A   G  rs562993331   -0.29128  0.157364   0.0641696986813927   \n",
      "1   1  17569   A   C  rs535086049   0.301553   0.68814   0.6612306862332016   \n",
      "2   1  17641   A   G  rs578081284  0.0108731  0.090079   0.9039235473923297   \n",
      "3   1  30741   A   C  rs558169846   0.665389  0.529693  0.20905136133220822   \n",
      "4   1  57222   C   T  rs576081345  0.0523963  0.102875   0.6105285815399013   \n",
      "\n",
      "           SNP  \n",
      "0  1:13259:A:G  \n",
      "1  1:17569:A:C  \n",
      "2  1:17641:A:G  \n",
      "3  1:30741:A:C  \n",
      "4  1:57222:C:T  \n",
      "/mnt/vast/hpc/csg/UKBiobank/results/REGENIE_results/results_imputed_data/071222_500k_without_1415/f3393/071222_UKBB_Hearing_aid_f3393_expandedwhite_14734cases_236699ctrl_500k_PC1_PC2_f3393.regenie.snp_stats.gz\n",
      "  CHR    POS REF ALT        varid       BETA        SE                    P  \\\n",
      "0   1  13259   A   G  rs562993331  -0.444965  0.405872    0.272939253875768   \n",
      "1   1  17569   A   C  rs535086049    1.19541   1.86985   0.5226211725664186   \n",
      "2   1  17641   A   G  rs578081284   0.435933  0.233139  0.06150635633786312   \n",
      "3   1  30741   A   C  rs558169846    1.28043   1.24525    0.303832341109345   \n",
      "4   1  52144   A   T  rs190291950  -0.117852  0.337249   0.7267499323234313   \n",
      "\n",
      "           SNP  \n",
      "0  1:13259:A:G  \n",
      "1  1:17569:A:C  \n",
      "2  1:17641:A:G  \n",
      "3  1:30741:A:C  \n",
      "4  1:52144:A:T  \n"
     ]
    }
   ],
   "source": [
    "import os\n",
    "rootdir = '/mnt/vast/hpc/csg/UKBiobank/results/REGENIE_results/results_imputed_data/071222_500k_without_1415/'\n",
    "\n",
    "for subdir, dirs, files in os.walk(rootdir):\n",
    "    for filename in files:\n",
    "        if filename.endswith(\".regenie.snp_stats.gz\"):\n",
    "            print(os.path.join(subdir, filename))\n",
    "            df = pd.read_csv(os.path.join(subdir, filename), dtype=str, compression='gzip',sep=\"\\t\", header=0)\n",
    "            df.rename(columns={'SNP':'varid'}, inplace=True)\n",
    "            df['SNP'] = df['CHR'] + ':' + df['POS'] + ':' + df['REF'] + ':' + df['ALT']\n",
    "            df.to_csv('/mnt/vast/hpc/csg/UKBiobank/results/pleiotropy_AD_ARHI/' + filename, sep='\\t', index=False, header=True, compression=\"gzip\")\n",
    "            print(df.head())"
   ]
  },
  {
   "cell_type": "markdown",
   "id": "628890b0-f9ee-4912-af8d-a00e12b2423a",
   "metadata": {
    "kernel": "Python3"
   },
   "source": [
    "## Variables for LD clumping "
   ]
  },
  {
   "cell_type": "code",
   "execution_count": 53,
   "id": "2d42a0c3-2370-4925-a322-f1f5668113a9",
   "metadata": {
    "kernel": "Bash"
   },
   "outputs": [
    {
     "name": "stdout",
     "output_type": "stream",
     "text": [
      "\n"
     ]
    }
   ],
   "source": [
    "clumping_sos=~/project/bioworkflows/GWAS/LD_Clumping.ipynb\n",
    "## GenoFile is not necessary to run LD clumping but it is needed by the global parameters. It won't be use in this module but you have to provide path\n",
    "genoFile=`echo $UKBB_yale/ukb39554_imputeddataset/ukb_imp_chr{1..22}_v3.bgen`\n",
    "sampleFile=$UKBB_yale/ukb39554_imputeddataset/ukb32285_imputedindiv.sample\n",
    "reference_genotype_prefix=~/UKBiobank/results/LD_clumping/ref_files/ukb39554_c1_22_v3.imputed\n",
    "ld_sample_size=2000\n",
    "clump_field=P\n",
    "clump_p1=5e-08\n",
    "clump_p2=0.01\n",
    "clump_r2=0.04\n",
    "clump_kb=2000\n",
    "clump_annotate=BP\n",
    "numThreads=20\n",
    "clump_job_size=1"
   ]
  },
  {
   "cell_type": "markdown",
   "id": "8d23cc3e-e22e-47c4-a41b-0ba82c246eb1",
   "metadata": {
    "kernel": "Bash"
   },
   "source": [
    "## AD and f3393"
   ]
  },
  {
   "cell_type": "code",
   "execution_count": 54,
   "id": "0ce89594-6bdc-43fa-ab54-0a53eb5f819d",
   "metadata": {
    "kernel": "Bash"
   },
   "outputs": [
    {
     "name": "stdout",
     "output_type": "stream",
     "text": [
      "INFO: Running \u001b[32mcsg\u001b[0m: Configuration for Columbia csg partition cluster\n",
      "INFO: \u001b[32mcsg\u001b[0m is \u001b[32mcompleted\u001b[0m.\n",
      "INFO: \u001b[32mcsg\u001b[0m output:   \u001b[32m/mnt/vast/hpc/csg/UKBiobank/results/pleiotropy_AD_ARHI/LD_clumping/AD_f3393-ldclumping_2022-07-21.sbatch\u001b[0m\n",
      "INFO: Workflow csg (ID=wf686120a6a136c95) is executed successfully with 1 completed step.\n",
      "\n"
     ]
    }
   ],
   "source": [
    "# Set the bash variables \n",
    "clumping_dir=/mnt/vast/hpc/csg/UKBiobank/results/pleiotropy_AD_ARHI/LD_clumping\n",
    "clumping_sbatch=$clumping_dir/AD_f3393-ldclumping_$(date +\"%Y-%m-%d\").sbatch\n",
    "sumstatsFiles=`echo /mnt/vast/hpc/csg/UKBiobank/results/pleiotropy_AD_ARHI/CST90027158_buildGRCh37_reheader.tsv.gz /mnt/vast/hpc/csg/UKBiobank/results/pleiotropy_AD_ARHI/071222_UKBB_Hearing_aid_f3393_expandedwhite_14734cases_236699ctrl_500k_PC1_PC2_f3393.regenie.snp_stats.gz`\n",
    "\n",
    "clumping_args=\"\"\"default \n",
    "    --cwd $clumping_dir\n",
    "    --genoFile $genoFile\n",
    "    --sampleFile $sampleFile\n",
    "    --reference_genotype_prefix $reference_genotype_prefix  \n",
    "    --sumstatsFiles $sumstatsFiles \n",
    "    --unrelated_samples $unrelated_samples \n",
    "    --ld_sample_size $ld_sample_size \n",
    "    --clump_field $clump_field\n",
    "    --clump_p1 $clump_p1 \n",
    "    --clump_p2 $clump_p2 \n",
    "    --clump_r2 $clump_r2 \n",
    "    --clump_kb $clump_kb \n",
    "    --clump_annotate $clump_annotate \n",
    "    --numThreads $numThreads \n",
    "    --job_size $clump_job_size\n",
    "\"\"\"\n",
    "\n",
    "sos run ~/project/UKBB_GWAS_dev/admin/Get_Job_Script.ipynb csg \\\n",
    "    --template-file $tpl_file \\\n",
    "    --workflow-file $clumping_sos \\\n",
    "    --to-script $clumping_sbatch \\\n",
    "    --args \"$clumping_args\""
   ]
  },
  {
   "cell_type": "code",
   "execution_count": null,
   "id": "d1f5640b-f4ee-4681-b0a6-b76a1b4e2b8a",
   "metadata": {
    "kernel": "Bash"
   },
   "outputs": [],
   "source": []
  }
 ],
 "metadata": {
  "kernelspec": {
   "display_name": "SoS",
   "language": "sos",
   "name": "sos"
  },
  "language_info": {
   "codemirror_mode": "sos",
   "file_extension": ".sos",
   "mimetype": "text/x-sos",
   "name": "sos",
   "nbconvert_exporter": "sos_notebook.converter.SoS_Exporter",
   "pygments_lexer": "sos"
  },
  "sos": {
   "kernels": [
    [
     "Bash",
     "calysto_bash",
     "Bash",
     "#E6EEFF",
     "shell"
    ],
    [
     "Python3",
     "python3",
     "Python3",
     "#FFD91A",
     ""
    ]
   ],
   "version": "0.22.6"
  },
  "toc-autonumbering": false,
  "toc-showcode": false
 },
 "nbformat": 4,
 "nbformat_minor": 5
}
