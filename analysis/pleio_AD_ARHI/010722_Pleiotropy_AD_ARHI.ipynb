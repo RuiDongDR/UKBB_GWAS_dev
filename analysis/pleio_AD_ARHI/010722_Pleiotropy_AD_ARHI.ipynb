{
 "cells": [
  {
   "cell_type": "markdown",
   "id": "fd25e634-0e11-4a02-82ac-b9b36652da3a",
   "metadata": {
    "kernel": "SoS",
    "tags": []
   },
   "source": [
    "# Analysis of pleiotopy between Alzheimer's Disease and ARHI traits "
   ]
  },
  {
   "cell_type": "markdown",
   "id": "cd628a18-daff-4fe4-ae5f-9dabb0f910b3",
   "metadata": {
    "kernel": "SoS"
   },
   "source": [
    "First of all a review of the available references is made regarding AD. Particularly for GWAS using AD and meta-analysis from different studies. \n",
    "\n",
    "1. Kunkle et al https://www.nature.com/articles/s41588-019-0358-2\n",
    "2. Jansen et al https://pubmed.ncbi.nlm.nih.gov/30617256/\n",
    "3. Wightman et al https://www.nature.com/articles/s41588-021-00921-z\n",
    "4. [family history based] https://pubmed.ncbi.nlm.nih.gov/29777097/\n",
    "5. Schwartzentruber et al https://pubmed.ncbi.nlm.nih.gov/33589840/ \n",
    "6. Bellenguez et al https://www.nature.com/articles/s41588-022-01024-z\n",
    "\n",
    "**Using AD proxy case definition**\n",
    "\n",
    "[Schwartzentruber et al 2021](https://www.nature.com/articles/s41588-020-00776-w)\n",
    "\n",
    "**Using clinically diagnosed LOAD**\n",
    "\n",
    "[Kunkle et al 2019](https://www.nature.com/articles/s41588-019-0358-2)\n",
    "\n",
    "**Using clinically diagnosed/proxy AD cases**\n",
    "\n",
    "[Belenguez et al 2022](https://www.nature.com/articles/s41588-022-01024-z)\n",
    "\n",
    "- two stage GWAS\n",
    "- 111,326 clinically diagnosed/‘proxy’ AD cases and 677,663 controls\n",
    "- The European Alzheimer & Dementia Biobank  + UK Biobank\n",
    "- GWAS meta-analysis results can be downloaded here https://www.ebi.ac.uk/gwas/studies/GCST90027158\n",
    "\n",
    "The results from this meta-analysis have been downloaded to our cluster and are located here:\n",
    "\n",
    "`/mnt/vast/hpc/csg/data_public/GWAS_sumstats/GCST90027158_buildGRCh38.tsv.gz`"
   ]
  },
  {
   "cell_type": "markdown",
   "id": "190dcf85-54d2-44bc-9dcd-e9dddedcc468",
   "metadata": {
    "kernel": "SoS"
   },
   "source": [
    "## GWAS for ARHI used in the pleiotropy analysis\n",
    "\n",
    "Parameters used for REGENIE\n",
    "\n",
    "```\n",
    "covarCol=sex\n",
    "qCovarCol=\"age PC1 PC2\"\n",
    "bgenMinINFO=0.8\n",
    "minMAC=4\n",
    "bfile=$UKBB_PATH/genotype_files_processed/090221_sample_variant_qc_final_callrate90/cache/UKB_genotypedatadownloaded083019.090221_sample_variant_qc_final_callrate90.filtered.extracted.bed\n",
    "genoFile=`echo ~/UKBiobank_Yale_transfer/ukb39554_imputeddataset/ukb_imp_chr{1..22}_v3.bgen`\n",
    "sampleFile=$UKBB_yale/ukb39554_imputeddataset/ukb32285_imputedindiv.sample\n",
    "```\n",
    "\n",
    "The GWAS results are stored here (Note: these results correspond to white European individuals:\n",
    "\n",
    "- /mnt/vast/hpc/csg/UKBiobank/results/REGENIE_results/results_imputed_data/2021_10_07_f3393_500K\n",
    "- /mnt/vast/hpc/csg/UKBiobank/results/REGENIE_results/results_imputed_data/2021_10_07_f2247_500K\n",
    "- /mnt/vast/hpc/csg/UKBiobank/results/REGENIE_results/results_imputed_data/2021_10_07_f2257_500K\n",
    "- /mnt/vast/hpc/csg/UKBiobank/results/REGENIE_results/results_imputed_data/2021_10_07_combined_500K"
   ]
  },
  {
   "cell_type": "markdown",
   "id": "66aac625-3db4-46ce-8f2e-841e51642015",
   "metadata": {
    "kernel": "SoS"
   },
   "source": [
    "# Step 1. Liftover of the meta-analysis sumtats of AD to match our GWAS results in hg19"
   ]
  },
  {
   "cell_type": "code",
   "execution_count": null,
   "id": "cbb7c26e-76d3-4201-b4ad-b43a48f6fa8c",
   "metadata": {
    "kernel": "Bash"
   },
   "outputs": [],
   "source": [
    "module load Singularity\n",
    "USER_PATH=~/working\n",
    "export PATH=$HOME/miniconda3/bin:$PATH\n",
    "sos run $USER_PATH/bioworkflows/GWAS/liftover.ipynb \\\n",
    "--cwd /mnt/vast/hpc/csg/UKBiobank/results/pleiotropy_AD_ARHI \\\n",
    "--input_file /mnt/vast/hpc/csg/data_public/GWAS_sumstats/GCST90027158_buildGRCh38.tsv.gz \\\n",
    "--output_file GCST90027158_buildGRCh37.tsv \\\n",
    "--fr 'hg38' \\\n",
    "--to 'hg19' \\\n",
    "--yml_file $USER_PATH/UKBB_GWAS_dev/data/liftover.yml"
   ]
  },
  {
   "cell_type": "markdown",
   "id": "5756148d-f093-4c05-9663-a4a366526eac",
   "metadata": {
    "kernel": "Bash"
   },
   "source": [
    "# Association analysis of the imputed data"
   ]
  },
  {
   "cell_type": "markdown",
   "id": "9803db17-fccd-49a1-9fd4-aa71abd7f7d9",
   "metadata": {
    "kernel": "Bash"
   },
   "source": [
    "Do the association analysis for the Hearing impairment traits with the white european individuals present in the 500K samples"
   ]
  },
  {
   "cell_type": "code",
   "execution_count": null,
   "id": "d79f4870-22d0-4163-9bd1-58389664e53c",
   "metadata": {
    "kernel": "Bash"
   },
   "outputs": [],
   "source": [
    "# Common variables Columbia's cluster\n",
    "UKBB_PATH=$HOME/UKBiobank\n",
    "UKBB_yale=$HOME/UKBiobank_Yale_transfer\n",
    "USER_PATH=$HOME/working\n",
    "container_lmm=$HOME/containers/lmm.sif\n",
    "container_marp=$HOME/containers/marp.sif\n",
    "container_annovar=$HOME/containers/gatk4-annovar.sif\n",
    "hearing_pheno_path=$UKBB_PATH/phenotype_files/hearing_impairment\n",
    "tpl_file=$USER_PATH/bioworkflows/admin/csg.yml\n",
    "formatFile_fastgwa=$USER_PATH/UKBB_GWAS_dev/data/fastGWA_template.yml\n",
    "formatFile_bolt=$USER_PATH/UKBB_GWAS_dev/data/boltlmm_template.yml\n",
    "formatFile_saige=$USER_PATH/UKBB_GWAS_dev/data/saige_template.yml\n",
    "formatFile_regenie=$USER_PATH/UKBB_GWAS_dev/data/regenie_template.yml\n",
    "# Workflows\n",
    "lmm_sos=$USER_PATH/bioworkflows/GWAS/LMM.ipynb\n",
    "anno_sos=$USER_PATH/bioworkflows/variant-annotation/annovar.ipynb\n",
    "clumping_sos=$USER_PATH/bioworkflows/GWAS/LD_Clumping.ipynb\n",
    "extract_sos=$USER_PATH/bioworkflows/GWAS/Region_Extraction.ipynb\n",
    "snptogene_sos=$USER_PATH/UKBB_GWAS_dev/workflow/snptogene.ipynb\n",
    "\n",
    "# LMM directories for imputed data\n",
    "lmm_imp_dir_fastgwa=$UKBB_PATH/results/FastGWA_results/results_imputed_data\n",
    "lmm_imp_dir_bolt=$UKBB_PATH/results/BOLTLMM_results/results_imputed_data\n",
    "lmm_imp_dir_saige=$UKBB_PATH/results/SAIGE_results/results_imputed_data\n",
    "lmm_imp_dir_regenie=$UKBB_PATH/results/REGENIE_results/results_imputed_data\n",
    "\n",
    "# LMM directories for exome data\n",
    "lmm_exome_dir_fastgwa=$UKBB_PATH/results/FastGWA_results/results_exome_data\n",
    "lmm_exome_dir_bolt=$UKBB_PATH/results/BOLTLMM_results/results_exome_data\n",
    "lmm_exome_dir_saige=$UKBB_PATH/results/SAIGE_results/results_exome_data\n",
    "lmm_exome_dir_regenie=$UKBB_PATH/results/REGENIE_results/results_exome_data\n",
    "\n",
    "## LMM variables \n",
    "## Specific to Bolt_LMM\n",
    "LDscoresFile=$UKBB_PATH/LDSCORE.1000G_EUR.tab.gz\n",
    "geneticMapFile=$UKBB_PATH/genetic_map_hg19_withX.txt.gz\n",
    "covarMaxLevels=10\n",
    "numThreads=20\n",
    "bgenMinMAF=0.001\n",
    "bgenMinINFO=0.8\n",
    "lmm_job_size=1\n",
    "ylim=0\n",
    "\n",
    "### Specific to FastGWA (depeding if you run from Yale or Columbia)\n",
    "####Yale's cluster\n",
    "grmFile=$UKBB_PATH/results/FastGWA_results/results_imputed_data/UKB_Caucasians_phenotypeindepqc120319_updated020720removedwithdrawnindiv.grm.sp\n",
    "####Columbia's cluster\n",
    "grmFile=$UKBB_yale/results/FastGWA_results/results_imputed_data/UKB_Caucasians_phenotypeindepqc120319_updated020720removedwithdrawnindiv.grm.sp\n",
    "\n",
    "### Specific to SAIGE\n",
    "bgenMinMAC=4\n",
    "trait_type=binary\n",
    "loco=TRUE\n",
    "sampleCol=IID\n",
    "\n",
    "### Specific to REGENIE\n",
    "bsize=1000\n",
    "lowmem=$HOME/scratch60/\n",
    "lowmem_dir=$HOME/scratch60/predictions\n",
    "trait=bt\n",
    "minMAC=4\n",
    "maf_filter=0\n",
    "geno_filter=0\n",
    "hwe_filter=0\n",
    "mind_filter=0\n",
    "reverse_log_p=True"
   ]
  },
  {
   "cell_type": "markdown",
   "id": "05a364ef-5f8e-4893-b67a-a03b3a1e6306",
   "metadata": {
    "kernel": "Bash"
   },
   "source": [
    "## New PCA\n",
    "### Exclude the samples wiht code 1415 but without the sub-category code"
   ]
  },
  {
   "cell_type": "code",
   "execution_count": null,
   "id": "9d827c77-3df5-43e0-ae1c-3c5c70aa37a2",
   "metadata": {
    "kernel": "Python3",
    "tags": []
   },
   "outputs": [],
   "source": [
    "import pandas as pd\n",
    "sample500k = pd.read_csv(\"/home/gl2776/UKBiobank/phenotype_files/HI_UKBB/ukb47922_white_460649ind.keep_id\",header=None,sep=\" \")\n",
    "sample500k"
   ]
  },
  {
   "cell_type": "code",
   "execution_count": null,
   "id": "711d32a1-b9e9-4350-b3e7-eb05f7a00f54",
   "metadata": {
    "kernel": "Python3",
    "tags": []
   },
   "outputs": [],
   "source": [
    "exclusion = pd.read_csv(\"/home/gl2776/UKBiobank/phenotype_files/hearing_impairment/fulldb_500K/pleiotropy_AD_ARHI/with_1415_without_subcat.500k.sample_id.txt\",header=0,sep=\"\\t\")\n",
    "exclusion = exclusion[\"IID\"].to_list()\n",
    "len(exclusion)"
   ]
  },
  {
   "cell_type": "code",
   "execution_count": null,
   "id": "07540516-646e-4dca-b0b5-196cc6abd603",
   "metadata": {
    "kernel": "Python3"
   },
   "outputs": [],
   "source": [
    "sample500k[~sample500k[0].isin(exclusion)].shape"
   ]
  },
  {
   "cell_type": "code",
   "execution_count": null,
   "id": "c0d101cf-1118-4fc4-bbe7-dadf405721e0",
   "metadata": {
    "kernel": "Python3"
   },
   "outputs": [],
   "source": [
    "sample500k[~sample500k[0].isin(exclusion)].to_csv(\"/home/gl2776/UKBiobank/phenotype_files/hearing_impairment/fulldb_500K/pleiotropy_AD_ARHI/ukb47922_white_456561ind_exclu_1415.keep_id\",header=False,index=False,sep=\" \")"
   ]
  },
  {
   "cell_type": "code",
   "execution_count": null,
   "id": "caf0f2bd-dcec-4d00-957c-0175fb2b227a",
   "metadata": {
    "kernel": "Python3"
   },
   "outputs": [],
   "source": [
    "## Keep_id for PCA\n",
    "# f3393\n",
    "file = \"/home/gl2776/UKBiobank/phenotype_files/hearing_impairment/fulldb_500K/pleiotropy_AD_ARHI/070722_UKBB_Hearing_aid_f3393_expandedwhite_14734cases_236699ctrl_500k_PC1_PC2\"\n",
    "phe = pd.read_csv(file,header=0,sep=\"\\t\")\n",
    "phe[[\"FID\", \"IID\"]].to_csv(\"/home/gl2776/UKBiobank/phenotype_files/hearing_impairment/fulldb_500K/pleiotropy_AD_ARHI/070722_UKBB_Hearing_aid_f3393_expandedwhite_14734cases_236699ctrl_500k_PC1_PC2.keep_id\", sep='\\t', index=False, header=False)\n",
    "# f2247\n",
    "file = \"/home/gl2776/UKBiobank/phenotype_files/hearing_impairment/fulldb_500K/pleiotropy_AD_ARHI/070722_UKBB_Hearing_difficulty_f2247_expandedwhite_107994cases_236699ctrl_500k_PC1_PC2\"\n",
    "phe = pd.read_csv(file,header=0,sep=\"\\t\")\n",
    "phe[[\"FID\", \"IID\"]].to_csv(\"/home/gl2776/UKBiobank/phenotype_files/hearing_impairment/fulldb_500K/pleiotropy_AD_ARHI/070722_UKBB_Hearing_difficulty_f2247_expandedwhite_107994cases_236699ctrl_500k_PC1_PC2.keep_id\", sep='\\t', index=False, header=False)\n",
    "# f2257\n",
    "file = \"/home/gl2776/UKBiobank/phenotype_files/hearing_impairment/fulldb_500K/pleiotropy_AD_ARHI/070722_UKBB_Hearing_noise_f2257_expandedwhite_159033cases_236699ctrl_500k_PC1_PC2\"\n",
    "phe = pd.read_csv(file,header=0,sep=\"\\t\")\n",
    "phe[[\"FID\", \"IID\"]].to_csv(\"/home/gl2776/UKBiobank/phenotype_files/hearing_impairment/fulldb_500K/pleiotropy_AD_ARHI/070722_UKBB_Hearing_noise_f2257_expandedwhite_159033cases_236699ctrl_500k_PC1_PC2.keep_id\", sep='\\t', index=False, header=False)\n",
    "# f2247_f2257\n",
    "file = \"/home/gl2776/UKBiobank/phenotype_files/hearing_impairment/fulldb_500K/pleiotropy_AD_ARHI/070722_UKBB_Combined_f2247_f2257_expandedwhite_91092cases_236699ctrl_500k_PC1_PC2\"\n",
    "phe = pd.read_csv(file,header=0,sep=\"\\t\")\n",
    "phe[[\"FID\", \"IID\"]].to_csv(\"/home/gl2776/UKBiobank/phenotype_files/hearing_impairment/fulldb_500K/pleiotropy_AD_ARHI/070722_UKBB_Combined_f2247_f2257_expandedwhite_91092cases_236699ctrl_500k_PC1_PC2.keep_id\", sep='\\t', index=False, header=False)"
   ]
  },
  {
   "cell_type": "code",
   "execution_count": null,
   "id": "1c65d208-3d5a-42d9-b370-08291037170e",
   "metadata": {
    "kernel": "Python3"
   },
   "outputs": [],
   "source": [
    "# phenopca\n",
    "import pandas as pd\n",
    "# f3393\n",
    "file = \"/home/gl2776/UKBiobank/phenotype_files/hearing_impairment/fulldb_500K/pleiotropy_AD_ARHI/070722_UKBB_Hearing_aid_f3393_expandedwhite_14734cases_236699ctrl_500k_PC1_PC2\"\n",
    "list1415 = pd.read_csv(file,header=0,sep=\"\\t\")[\"IID\"].to_list()\n",
    "file = \"/home/gl2776/UKBiobank/results/092821_PCA_results_500K/100521_UKBB_Hearing_aid_f3393_expandedwhite_15601cases_237318ctrl_500k.phenopca\"\n",
    "phe = pd.read_csv(file,header=0,sep=\"\\t\")\n",
    "phe[phe[\"IID\"].isin(list1415)].to_csv(\"/home/gl2776/UKBiobank/phenotype_files/hearing_impairment/fulldb_500K/pleiotropy_AD_ARHI/071122_UKBB_Hearing_aid_f3393_expandedwhite_14734cases_236699ctrl_500k.phenopca\", sep='\\t', index=False)\n",
    "# f2247\n",
    "file = \"/home/gl2776/UKBiobank/phenotype_files/hearing_impairment/fulldb_500K/pleiotropy_AD_ARHI/070722_UKBB_Hearing_difficulty_f2247_expandedwhite_107994cases_236699ctrl_500k_PC1_PC2\"\n",
    "list1415 = pd.read_csv(file,header=0,sep=\"\\t\")[\"IID\"].to_list()\n",
    "file = \"/home/gl2776/UKBiobank/results/092821_PCA_results_500K/100521_UKBB_Hearing_difficulty_f2247_expandedwhite_110453cases_237318ctrl_500k.phenopca\"\n",
    "phe = pd.read_csv(file,header=0,sep=\"\\t\")\n",
    "phe[phe[\"IID\"].isin(list1415)].to_csv(\"/home/gl2776/UKBiobank/phenotype_files/hearing_impairment/fulldb_500K/pleiotropy_AD_ARHI/071122_UKBB_Hearing_difficulty_f2247_expandedwhite_107994cases_236699ctrl_500k.phenopca\", sep='\\t', index=False)\n",
    "# f2247\n",
    "file = \"/home/gl2776/UKBiobank/phenotype_files/hearing_impairment/fulldb_500K/pleiotropy_AD_ARHI/070722_UKBB_Hearing_noise_f2257_expandedwhite_159033cases_236699ctrl_500k_PC1_PC2\"\n",
    "list1415 = pd.read_csv(file,header=0,sep=\"\\t\")[\"IID\"].to_list()\n",
    "file = \"/home/gl2776/UKBiobank/results/092821_PCA_results_500K/100521_UKBB_Hearing_noise_f2257_expandedwhite_161443cases_237318ctrl_500k.phenopca\"\n",
    "phe = pd.read_csv(file,header=0,sep=\"\\t\")\n",
    "phe[phe[\"IID\"].isin(list1415)].to_csv(\"/home/gl2776/UKBiobank/phenotype_files/hearing_impairment/fulldb_500K/pleiotropy_AD_ARHI/071122_UKBB_Hearing_noise_f2257_expandedwhite_159033cases_236699ctrl_500k.phenopca\", sep='\\t', index=False)\n",
    "# f2247\n",
    "file = \"/home/gl2776/UKBiobank/phenotype_files/hearing_impairment/fulldb_500K/pleiotropy_AD_ARHI/070722_UKBB_Combined_f2247_f2257_expandedwhite_91092cases_236699ctrl_500k_PC1_PC2\"\n",
    "list1415 = pd.read_csv(file,header=0,sep=\"\\t\")[\"IID\"].to_list()\n",
    "file = \"/home/gl2776/UKBiobank/results/092821_PCA_results_500K/100521_UKBB_Combined_f2247_f2257_expandedwhite_93258cases_237318ctrl_500k.phenopca\"\n",
    "phe = pd.read_csv(file,header=0,sep=\"\\t\")\n",
    "phe[phe[\"IID\"].isin(list1415)].to_csv(\"/home/gl2776/UKBiobank/phenotype_files/hearing_impairment/fulldb_500K/pleiotropy_AD_ARHI/071122_UKBB_Combined_f2247_f2257_expandedwhite_91092cases_236699ctrl_500k.phenopca\", sep='\\t', index=False)"
   ]
  },
  {
   "cell_type": "markdown",
   "id": "11de07be-7517-4b66-a479-b5903aea001d",
   "metadata": {
    "kernel": "Python3"
   },
   "source": [
    "### Calculate the first 2 PC's for each of these phenotypes to run the association analysis with the imputed data\n",
    "#### f.3393\n",
    "##### Step 1"
   ]
  },
  {
   "cell_type": "code",
   "execution_count": null,
   "id": "07933097-4acf-4181-87b5-9a9367bdfd28",
   "metadata": {
    "kernel": "Bash",
    "tags": []
   },
   "outputs": [],
   "source": [
    "## Columbia's cluster\n",
    "cwd=$UKBB_PATH/results/092821_PCA_results_500K/071122_PCA_500k_exclu_1415/f3393\n",
    "#gwas_sbatch=$USER_PATH/UKBB_GWAS_dev/output/qc1_f3393_qcarray_$(date +\"%Y-%m-%d\").sbatch\n",
    "gwas_sbatch=$cwd/qc1_f3393_qcarray_$(date +\"%Y-%m-%d\").sbatch\n",
    "## Use qc'ed genotype array\n",
    "genoFile=$UKBB_PATH/genotype_files_processed/090221_sample_variant_qc_final_callrate90/cache/UKB_genotypedatadownloaded083019.090221_sample_variant_qc_final_callrate90.filtered.extracted.bed\n",
    "keep_samples=$UKBB_PATH/phenotype_files/hearing_impairment/fulldb_500K/pleiotropy_AD_ARHI/070722_UKBB_Hearing_aid_f3393_expandedwhite_14734cases_236699ctrl_500k_PC1_PC2.keep_id\n",
    "#Keep variants after LD pruning\n",
    "keep_variants=$UKBB_PATH/results/092821_PCA_results_500K/092821_ldprun_unrelated/cache/*092821_ldprun_unrelated.filtered.prune.in\n",
    "\n",
    "#GWAS QC variables set all of this variables to 0 to avoid doing more filtering\n",
    "maf_filter=0\n",
    "geno_filter=0\n",
    "hwe_filter=0\n",
    "mind_filter=0\n",
    "numThreads=1\n",
    "mem='30G'\n",
    "\n",
    "gwasqc_sos=$USER_PATH/xqtl-pipeline/code/data_preprocessing/genotype/GWAS_QC.ipynb\n",
    "\n",
    "gwasqc_args=\"\"\"qc:1\n",
    "    --cwd $cwd\n",
    "    --genoFile $genoFile\n",
    "    --keep_samples $keep_samples\n",
    "    --keep_variants $keep_variants\n",
    "    --maf_filter $maf_filter\n",
    "    --geno_filter $geno_filter\n",
    "    --hwe_filter $hwe_filter\n",
    "    --mind_filter $mind_filter\n",
    "    --numThreads $numThreads \n",
    "    --job_size $job_size\n",
    "    --container $container_lmm\n",
    "    --mem $mem\n",
    "\"\"\"\n",
    "\n",
    "sos run $USER_PATH/UKBB_GWAS_dev/admin/Get_Job_Script.ipynb csg \\\n",
    "    --template-file $tpl_file \\\n",
    "    --workflow-file $gwasqc_sos \\\n",
    "    --to-script $gwas_sbatch \\\n",
    "    --args \"$gwasqc_args\""
   ]
  },
  {
   "cell_type": "markdown",
   "id": "c7d9be72-15b9-4bc7-8dfc-92250ea48148",
   "metadata": {
    "kernel": "Bash"
   },
   "source": [
    "##### Step 2"
   ]
  },
  {
   "cell_type": "code",
   "execution_count": null,
   "id": "6744038d-695e-46f3-9b86-ca05c707c0c4",
   "metadata": {
    "kernel": "Bash"
   },
   "outputs": [],
   "source": [
    "## Columbia's cluster\n",
    "cwd=$UKBB_PATH/results/092821_PCA_results_500K/071122_PCA_500k_exclu_1415/f3393\n",
    "#This is the bfile obtained in step 1\n",
    "genoFile=$cwd/*.bed\n",
    "# Format FID, IID, pop\n",
    "phenoFile=$UKBB_PATH/phenotype_files/hearing_impairment/fulldb_500K/pleiotropy_AD_ARHI/071122_UKBB_Hearing_aid_f3393_expandedwhite_14734cases_236699ctrl_500k.phenopca\n",
    "label_col=ethnicity\n",
    "pop_col=ethnicity\n",
    "pca_sbatch=$cwd/flashpca_f3393_pc_$(date +\"%Y-%m-%d\").sbatch\n",
    "k=2\n",
    "maha_k=2\n",
    "min_axis=\"\"\n",
    "max_axis=\"\"\n",
    "\n",
    "pca_sos=$USER_PATH/xqtl-pipeline/code/data_preprocessing/genotype/PCA.ipynb\n",
    "\n",
    "pca_args=\"\"\"flashpca\n",
    "    --cwd $cwd\n",
    "    --genoFile $genoFile\n",
    "    --phenoFile $phenoFile\n",
    "    --k $k\n",
    "    --maha_k $maha_k\n",
    "    --label_col $label_col\n",
    "    --pop_col $pop_col\n",
    "    --min_axis $min_axis\n",
    "    --max_axis $max_axis\n",
    "    --numThreads $numThreads \n",
    "    --job_size $job_size\n",
    "    --container $container_lmm\n",
    "\"\"\"\n",
    "\n",
    "sos run $USER_PATH/UKBB_GWAS_dev/admin/Get_Job_Script.ipynb csg \\\n",
    "    --template-file $tpl_file \\\n",
    "    --workflow-file $pca_sos \\\n",
    "    --to-script $pca_sbatch \\\n",
    "    --args \"$pca_args\""
   ]
  },
  {
   "cell_type": "markdown",
   "id": "1d437b20-fda8-47c5-852b-6d7562a57d31",
   "metadata": {
    "kernel": "Bash"
   },
   "source": [
    "#### f.2247\n",
    "\n",
    "##### Step 1"
   ]
  },
  {
   "cell_type": "code",
   "execution_count": null,
   "id": "fa888c01-5401-4960-91f6-e79827d83175",
   "metadata": {
    "kernel": "Bash"
   },
   "outputs": [],
   "source": [
    "## Columbia's cluster\n",
    "cwd=$UKBB_PATH/results/092821_PCA_results_500K/071122_PCA_500k_exclu_1415/f2247\n",
    "#gwas_sbatch=$USER_PATH/UKBB_GWAS_dev/output/qc1_f2247_qcarray_$(date +\"%Y-%m-%d\").sbatch\n",
    "gwas_sbatch=$cwd/qc1_f2247_qcarray_$(date +\"%Y-%m-%d\").sbatch\n",
    "## Use qc'ed genotype array\n",
    "genoFile=$UKBB_PATH/genotype_files_processed/090221_sample_variant_qc_final_callrate90/cache/UKB_genotypedatadownloaded083019.090221_sample_variant_qc_final_callrate90.filtered.extracted.bed\n",
    "keep_samples=$UKBB_PATH/phenotype_files/hearing_impairment/fulldb_500K/pleiotropy_AD_ARHI/070722_UKBB_Hearing_difficulty_f2247_expandedwhite_107994cases_236699ctrl_500k_PC1_PC2.keep_id\n",
    "#Keep variants after LD pruning\n",
    "keep_variants=$UKBB_PATH/results/092821_PCA_results_500K/092821_ldprun_unrelated/cache/*092821_ldprun_unrelated.filtered.prune.in\n",
    "\n",
    "#GWAS QC variables set all of this variables to 0 to avoid doing more filtering\n",
    "maf_filter=0\n",
    "geno_filter=0\n",
    "hwe_filter=0\n",
    "mind_filter=0\n",
    "numThreads=1\n",
    "mem='30G'\n",
    "\n",
    "gwasqc_sos=$USER_PATH/xqtl-pipeline/code/data_preprocessing/genotype/GWAS_QC.ipynb\n",
    "\n",
    "gwasqc_args=\"\"\"qc:1\n",
    "    --cwd $cwd\n",
    "    --genoFile $genoFile\n",
    "    --keep_samples $keep_samples\n",
    "    --keep_variants $keep_variants\n",
    "    --maf_filter $maf_filter\n",
    "    --geno_filter $geno_filter\n",
    "    --hwe_filter $hwe_filter\n",
    "    --mind_filter $mind_filter\n",
    "    --numThreads $numThreads \n",
    "    --job_size $job_size\n",
    "    --container $container_lmm\n",
    "    --mem $mem\n",
    "\"\"\"\n",
    "\n",
    "sos run $USER_PATH/UKBB_GWAS_dev/admin/Get_Job_Script.ipynb csg \\\n",
    "    --template-file $tpl_file \\\n",
    "    --workflow-file $gwasqc_sos \\\n",
    "    --to-script $gwas_sbatch \\\n",
    "    --args \"$gwasqc_args\""
   ]
  },
  {
   "cell_type": "markdown",
   "id": "793d22a5-3ff2-4610-b971-f4d578a94c0f",
   "metadata": {
    "kernel": "Bash"
   },
   "source": [
    "##### Step 2."
   ]
  },
  {
   "cell_type": "code",
   "execution_count": null,
   "id": "4348318b-0030-4349-92b3-602eae6d3475",
   "metadata": {
    "kernel": "Bash"
   },
   "outputs": [],
   "source": [
    "## Columbia's cluster\n",
    "cwd=$UKBB_PATH/results/092821_PCA_results_500K/071122_PCA_500k_exclu_1415/f2247\n",
    "#This is the bfile obtained in step 1\n",
    "genoFile=$cwd/*.bed\n",
    "# Format FID, IID, pop\n",
    "phenoFile=$UKBB_PATH/phenotype_files/hearing_impairment/fulldb_500K/pleiotropy_AD_ARHI/071122_UKBB_Hearing_difficulty_f2247_expandedwhite_107994cases_236699ctrl_500k.phenopca\n",
    "label_col=ethnicity\n",
    "pop_col=ethnicity\n",
    "pca_sbatch=$cwd/flashpca_f2247_pc_$(date +\"%Y-%m-%d\").sbatch\n",
    "k=2\n",
    "maha_k=2\n",
    "min_axis=\"\"\n",
    "max_axis=\"\"\n",
    "\n",
    "pca_sos=$USER_PATH/xqtl-pipeline/code/data_preprocessing/genotype/PCA.ipynb\n",
    "\n",
    "pca_args=\"\"\"flashpca\n",
    "    --cwd $cwd\n",
    "    --genoFile $genoFile\n",
    "    --phenoFile $phenoFile\n",
    "    --k $k\n",
    "    --maha_k $maha_k\n",
    "    --label_col $label_col\n",
    "    --pop_col $pop_col\n",
    "    --min_axis $min_axis\n",
    "    --max_axis $max_axis\n",
    "    --numThreads $numThreads \n",
    "    --job_size $job_size\n",
    "    --container $container_lmm\n",
    "\"\"\"\n",
    "\n",
    "sos run  $USER_PATH/UKBB_GWAS_dev/admin/Get_Job_Script.ipynb csg\\\n",
    "    --template-file $tpl_file \\\n",
    "    --workflow-file $pca_sos \\\n",
    "    --to-script $pca_sbatch \\\n",
    "    --args \"$pca_args\""
   ]
  },
  {
   "cell_type": "markdown",
   "id": "e6e24976-1365-4fa3-8785-838395e38676",
   "metadata": {
    "kernel": "Bash"
   },
   "source": [
    "#### f.2257\n",
    "\n",
    "##### Step 1"
   ]
  },
  {
   "cell_type": "code",
   "execution_count": null,
   "id": "baeaad1d-2c31-48e9-8cf8-9a9852a5bf98",
   "metadata": {
    "kernel": "Bash"
   },
   "outputs": [],
   "source": [
    "## Columbia's cluster\n",
    "cwd=$UKBB_PATH/results/092821_PCA_results_500K/071122_PCA_500k_exclu_1415/f2257\n",
    "#gwas_sbatch=$USER_PATH/UKBB_GWAS_dev/output/qc1_f2257_qcarray_$(date +\"%Y-%m-%d\").sbatch\n",
    "gwas_sbatch=$cwd/qc1_f2257_qcarray_$(date +\"%Y-%m-%d\").sbatch\n",
    "## Use qc'ed genotype array\n",
    "genoFile=$UKBB_PATH/genotype_files_processed/090221_sample_variant_qc_final_callrate90/cache/UKB_genotypedatadownloaded083019.090221_sample_variant_qc_final_callrate90.filtered.extracted.bed\n",
    "keep_samples=$UKBB_PATH/phenotype_files/hearing_impairment/fulldb_500K/pleiotropy_AD_ARHI/070722_UKBB_Hearing_noise_f2257_expandedwhite_159033cases_236699ctrl_500k_PC1_PC2.keep_id\n",
    "#Keep variants after LD pruning\n",
    "keep_variants=$UKBB_PATH/results/092821_PCA_results_500K/092821_ldprun_unrelated/cache/*092821_ldprun_unrelated.filtered.prune.in\n",
    "\n",
    "#GWAS QC variables set all of this variables to 0 to avoid doing more filtering\n",
    "maf_filter=0\n",
    "geno_filter=0\n",
    "hwe_filter=0\n",
    "mind_filter=0\n",
    "numThreads=1\n",
    "mem='30G'\n",
    "\n",
    "gwasqc_sos=$USER_PATH/xqtl-pipeline/code/data_preprocessing/genotype/GWAS_QC.ipynb\n",
    "\n",
    "gwasqc_args=\"\"\"qc:1\n",
    "    --cwd $cwd\n",
    "    --genoFile $genoFile\n",
    "    --keep_samples $keep_samples\n",
    "    --keep_variants $keep_variants\n",
    "    --maf_filter $maf_filter\n",
    "    --geno_filter $geno_filter\n",
    "    --hwe_filter $hwe_filter\n",
    "    --mind_filter $mind_filter\n",
    "    --numThreads $numThreads \n",
    "    --job_size $job_size\n",
    "    --container $container_lmm\n",
    "    --mem $mem\n",
    "\"\"\"\n",
    "\n",
    "sos run $USER_PATH/UKBB_GWAS_dev/admin/Get_Job_Script.ipynb csg \\\n",
    "    --template-file $tpl_file \\\n",
    "    --workflow-file $gwasqc_sos \\\n",
    "    --to-script $gwas_sbatch \\\n",
    "    --args \"$gwasqc_args\""
   ]
  },
  {
   "cell_type": "markdown",
   "id": "99e71584-7a87-48d4-8fdc-39eca467320b",
   "metadata": {
    "kernel": "Bash"
   },
   "source": [
    "##### Step 2."
   ]
  },
  {
   "cell_type": "code",
   "execution_count": null,
   "id": "107fca30-2cd9-463a-a629-f623fdf1dc91",
   "metadata": {
    "kernel": "Bash"
   },
   "outputs": [],
   "source": [
    "## Columbia's cluster\n",
    "cwd=$UKBB_PATH/results/092821_PCA_results_500K/071122_PCA_500k_exclu_1415/f2257\n",
    "#This is the bfile obtained in step 1\n",
    "genoFile=$cwd/*.bed\n",
    "# Format FID, IID, pop\n",
    "phenoFile=$UKBB_PATH/phenotype_files/hearing_impairment/fulldb_500K/pleiotropy_AD_ARHI/071122_UKBB_Hearing_noise_f2257_expandedwhite_159033cases_236699ctrl_500k.phenopca\n",
    "label_col=ethnicity\n",
    "pop_col=ethnicity\n",
    "pca_sbatch=$cwd/flashpca_f2257_pc_$(date +\"%Y-%m-%d\").sbatch\n",
    "k=2\n",
    "maha_k=2\n",
    "min_axis=\"\"\n",
    "max_axis=\"\"\n",
    "\n",
    "pca_sos=$USER_PATH/xqtl-pipeline/code/data_preprocessing/genotype/PCA.ipynb\n",
    "\n",
    "pca_args=\"\"\"flashpca\n",
    "    --cwd $cwd\n",
    "    --genoFile $genoFile\n",
    "    --phenoFile $phenoFile\n",
    "    --k $k\n",
    "    --maha_k $maha_k\n",
    "    --label_col $label_col\n",
    "    --pop_col $pop_col\n",
    "    --min_axis $min_axis\n",
    "    --max_axis $max_axis\n",
    "    --numThreads $numThreads \n",
    "    --job_size $job_size\n",
    "    --container $container_lmm\n",
    "\"\"\"\n",
    "\n",
    "sos run  $USER_PATH/UKBB_GWAS_dev/admin/Get_Job_Script.ipynb csg\\\n",
    "    --template-file $tpl_file \\\n",
    "    --workflow-file $pca_sos \\\n",
    "    --to-script $pca_sbatch \\\n",
    "    --args \"$pca_args\""
   ]
  },
  {
   "cell_type": "markdown",
   "id": "295fa416-a810-4b58-9cb4-1afb15dec939",
   "metadata": {
    "kernel": "Bash"
   },
   "source": [
    "#### Combined f.2247 & f.2257\n",
    "\n",
    "##### Step 1"
   ]
  },
  {
   "cell_type": "code",
   "execution_count": null,
   "id": "b54c12a2-6d85-46b7-856d-0460956987b1",
   "metadata": {
    "kernel": "Bash"
   },
   "outputs": [],
   "source": [
    "## Columbia's cluster\n",
    "cwd=$UKBB_PATH/results/092821_PCA_results_500K/071122_PCA_500k_exclu_1415/f2247_f2257\n",
    "#gwas_sbatch=$USER_PATH/UKBB_GWAS_dev/output/qc1_f2247_f2257_qcarray_$(date +\"%Y-%m-%d\").sbatch\n",
    "gwas_sbatch=$cwd/qc1_f2247_f2257_qcarray_$(date +\"%Y-%m-%d\").sbatch\n",
    "## Use qc'ed genotype array\n",
    "genoFile=$UKBB_PATH/genotype_files_processed/090221_sample_variant_qc_final_callrate90/cache/UKB_genotypedatadownloaded083019.090221_sample_variant_qc_final_callrate90.filtered.extracted.bed\n",
    "keep_samples=$UKBB_PATH/phenotype_files/hearing_impairment/fulldb_500K/pleiotropy_AD_ARHI/070722_UKBB_Combined_f2247_f2257_expandedwhite_91092cases_236699ctrl_500k_PC1_PC2.keep_id\n",
    "#Keep variants after LD pruning\n",
    "keep_variants=$UKBB_PATH/results/092821_PCA_results_500K/092821_ldprun_unrelated/cache/*092821_ldprun_unrelated.filtered.prune.in\n",
    "\n",
    "#GWAS QC variables set all of this variables to 0 to avoid doing more filtering\n",
    "maf_filter=0\n",
    "geno_filter=0\n",
    "hwe_filter=0\n",
    "mind_filter=0\n",
    "numThreads=1\n",
    "mem='30G'\n",
    "\n",
    "gwasqc_sos=$USER_PATH/xqtl-pipeline/code/data_preprocessing/genotype/GWAS_QC.ipynb\n",
    "\n",
    "gwasqc_args=\"\"\"qc:1\n",
    "    --cwd $cwd\n",
    "    --genoFile $genoFile\n",
    "    --keep_samples $keep_samples\n",
    "    --keep_variants $keep_variants\n",
    "    --maf_filter $maf_filter\n",
    "    --geno_filter $geno_filter\n",
    "    --hwe_filter $hwe_filter\n",
    "    --mind_filter $mind_filter\n",
    "    --numThreads $numThreads \n",
    "    --job_size $job_size\n",
    "    --container $container_lmm\n",
    "    --mem $mem\n",
    "\"\"\"\n",
    "\n",
    "sos run $USER_PATH/UKBB_GWAS_dev/admin/Get_Job_Script.ipynb csg \\\n",
    "    --template-file $tpl_file \\\n",
    "    --workflow-file $gwasqc_sos \\\n",
    "    --to-script $gwas_sbatch \\\n",
    "    --args \"$gwasqc_args\""
   ]
  },
  {
   "cell_type": "markdown",
   "id": "92d4cdca-a740-49db-9a54-f13b077e1242",
   "metadata": {
    "kernel": "Bash"
   },
   "source": [
    "##### Step 2."
   ]
  },
  {
   "cell_type": "code",
   "execution_count": null,
   "id": "30fc887a-81ed-463b-bfc3-f48d510ff6af",
   "metadata": {
    "kernel": "Bash"
   },
   "outputs": [],
   "source": [
    "## Columbia's cluster\n",
    "cwd=$UKBB_PATH/results/092821_PCA_results_500K/071122_PCA_500k_exclu_1415/f2247_f2257\n",
    "#This is the bfile obtained in step 1\n",
    "genoFile=$cwd/*.bed\n",
    "# Format FID, IID, pop\n",
    "phenoFile=$UKBB_PATH/phenotype_files/hearing_impairment/fulldb_500K/pleiotropy_AD_ARHI/071122_UKBB_Combined_f2247_f2257_expandedwhite_91092cases_236699ctrl_500k.phenopca\n",
    "label_col=ethnicity\n",
    "pop_col=ethnicity\n",
    "pca_sbatch=$cwd/flashpca_f2247_f2257_pc_$(date +\"%Y-%m-%d\").sbatch\n",
    "k=2\n",
    "maha_k=2\n",
    "min_axis=\"\"\n",
    "max_axis=\"\"\n",
    "\n",
    "pca_sos=$USER_PATH/xqtl-pipeline/code/data_preprocessing/genotype/PCA.ipynb\n",
    "\n",
    "pca_args=\"\"\"flashpca\n",
    "    --cwd $cwd\n",
    "    --genoFile $genoFile\n",
    "    --phenoFile $phenoFile\n",
    "    --k $k\n",
    "    --maha_k $maha_k\n",
    "    --label_col $label_col\n",
    "    --pop_col $pop_col\n",
    "    --min_axis $min_axis\n",
    "    --max_axis $max_axis\n",
    "    --numThreads $numThreads \n",
    "    --job_size $job_size\n",
    "    --container $container_lmm\n",
    "\"\"\"\n",
    "\n",
    "sos run  $USER_PATH/UKBB_GWAS_dev/admin/Get_Job_Script.ipynb csg\\\n",
    "    --template-file $tpl_file \\\n",
    "    --workflow-file $pca_sos \\\n",
    "    --to-script $pca_sbatch \\\n",
    "    --args \"$pca_args\""
   ]
  },
  {
   "cell_type": "markdown",
   "id": "2e6c6dff-57a1-4e90-8ba6-8d5c68a16891",
   "metadata": {
    "kernel": "Bash"
   },
   "source": [
    "### Combine the PCs in the phenotype files\n",
    "\n",
    "Phenotype files named \"070722_*_500k_PC1_PC2\" are with original PCs calculated by original sample size with code 1415. \"071222_*_500k_PC1_PC2\" will be the new phenotype files with the newly calculated PCs"
   ]
  },
  {
   "cell_type": "code",
   "execution_count": null,
   "id": "ded105c7-b614-41c3-8d0d-51b7f7f9a435",
   "metadata": {
    "kernel": "Python3",
    "tags": []
   },
   "outputs": [],
   "source": [
    "# f3393\n",
    "import pandas as pd\n",
    "phe = pd.read_csv(\"~/UKBiobank/phenotype_files/hearing_impairment/fulldb_500K/pleiotropy_AD_ARHI/070722_UKBB_Hearing_aid_f3393_expandedwhite_14734cases_236699ctrl_500k_PC1_PC2\",header=0,sep=\"\\t\")\n",
    "pc = pd.read_csv(\"~/UKBiobank/results/092821_PCA_results_500K/071122_PCA_500k_exclu_1415/f3393/071122_UKBB_Hearing_aid_f3393_expandedwhite_14734cases_236699ctrl_500k.pca.txt\",header=0,sep=\"\\t\")\n",
    "phe = phe[['FID', 'IID', 'sex', 'f3393', 'age']]\n",
    "phe = phe.merge(pc[[\"IID\",\"PC1\",\"PC2\"]],how=\"left\",left_on=\"IID\",right_on=\"IID\")\n",
    "phe.to_csv(\"~/UKBiobank/phenotype_files/hearing_impairment/fulldb_500K/pleiotropy_AD_ARHI/071222_UKBB_Hearing_aid_f3393_expandedwhite_14734cases_236699ctrl_500k_PC1_PC2\",index=False,sep=\"\\t\")"
   ]
  },
  {
   "cell_type": "code",
   "execution_count": null,
   "id": "5daa9b61-f8b3-40b4-b4a8-0aaf3e96a3e2",
   "metadata": {
    "kernel": "Python3"
   },
   "outputs": [],
   "source": [
    "# f2247\n",
    "phe = pd.read_csv(\"~/UKBiobank/phenotype_files/hearing_impairment/fulldb_500K/pleiotropy_AD_ARHI/070722_UKBB_Hearing_difficulty_f2247_expandedwhite_107994cases_236699ctrl_500k_PC1_PC2\",header=0,sep=\"\\t\")\n",
    "pc = pd.read_csv(\"~/UKBiobank/results/092821_PCA_results_500K/071122_PCA_500k_exclu_1415/f2247/071122_UKBB_Hearing_difficulty_f2247_expandedwhite_107994cases_236699ctrl_500k.pca.txt\",header=0,sep=\"\\t\")\n",
    "phe = phe[['FID', 'IID', 'sex', 'f2247', 'age']]\n",
    "phe = phe.merge(pc[[\"IID\",\"PC1\",\"PC2\"]],how=\"left\",left_on=\"IID\",right_on=\"IID\")\n",
    "phe.to_csv(\"~/UKBiobank/phenotype_files/hearing_impairment/fulldb_500K/pleiotropy_AD_ARHI/071222_UKBB_Hearing_difficulty_f2247_expandedwhite_107994cases_236699ctrl_500k_PC1_PC2\",index=False,sep=\"\\t\")\n",
    "# f2257\n",
    "phe = pd.read_csv(\"~/UKBiobank/phenotype_files/hearing_impairment/fulldb_500K/pleiotropy_AD_ARHI/070722_UKBB_Hearing_noise_f2257_expandedwhite_159033cases_236699ctrl_500k_PC1_PC2\",header=0,sep=\"\\t\")\n",
    "pc = pd.read_csv(\"~/UKBiobank/results/092821_PCA_results_500K/071122_PCA_500k_exclu_1415/f2257/071122_UKBB_Hearing_noise_f2257_expandedwhite_159033cases_236699ctrl_500k.pca.txt\",header=0,sep=\"\\t\")\n",
    "phe = phe[['FID', 'IID', 'sex', 'f2257', 'age']]\n",
    "phe = phe.merge(pc[[\"IID\",\"PC1\",\"PC2\"]],how=\"left\",left_on=\"IID\",right_on=\"IID\")\n",
    "phe.to_csv(\"~/UKBiobank/phenotype_files/hearing_impairment/fulldb_500K/pleiotropy_AD_ARHI/071222_UKBB_Hearing_noise_f2257_expandedwhite_159033cases_236699ctrl_500k_PC1_PC2\",index=False,sep=\"\\t\")\n",
    "# f2247_f2257\n",
    "phe = pd.read_csv(\"~/UKBiobank/phenotype_files/hearing_impairment/fulldb_500K/pleiotropy_AD_ARHI/070722_UKBB_Combined_f2247_f2257_expandedwhite_91092cases_236699ctrl_500k_PC1_PC2\",header=0,sep=\"\\t\")\n",
    "pc = pd.read_csv(\"~/UKBiobank/results/092821_PCA_results_500K/071122_PCA_500k_exclu_1415/f2247_f2257/071122_UKBB_Combined_f2247_f2257_expandedwhite_91092cases_236699ctrl_500k.pca.txt\",header=0,sep=\"\\t\")\n",
    "phe = phe[['FID', 'IID', 'sex', 'f2247_f2257', 'age']]\n",
    "phe = phe.merge(pc[[\"IID\",\"PC1\",\"PC2\"]],how=\"left\",left_on=\"IID\",right_on=\"IID\")\n",
    "phe.to_csv(\"~/UKBiobank/phenotype_files/hearing_impairment/fulldb_500K/pleiotropy_AD_ARHI/071222_UKBB_Combined_f2247_f2257_expandedwhite_91092cases_236699ctrl_500k_PC1_PC2\",index=False,sep=\"\\t\")"
   ]
  },
  {
   "cell_type": "markdown",
   "id": "01f089a9-c9be-488a-802b-d051a930b056",
   "metadata": {
    "kernel": "Python3"
   },
   "source": [
    "## Run association analysis with imputed data for each phenotype\n",
    "### 500k\n",
    "\n",
    "#### f.3393"
   ]
  },
  {
   "cell_type": "code",
   "execution_count": null,
   "id": "de789a3e-3f48-42ba-85e0-11e69a1a757d",
   "metadata": {
    "kernel": "Bash",
    "tags": []
   },
   "outputs": [],
   "source": [
    "cwd=~/UKBiobank/results/REGENIE_results/results_imputed_data/071222_500k_without_1415/f3393\n",
    "lmm_dir_regenie=$cwd\n",
    "lmm_sbatch_regenie=$cwd/f3393_500K_impdata_regenie_$(date +\"%Y-%m-%d\").sbatch\n",
    "phenoFile=$hearing_pheno_path/fulldb_500K/pleiotropy_AD_ARHI/071222_UKBB_Hearing_aid_f3393_expandedwhite_14734cases_236699ctrl_500k_PC1_PC2\n",
    "covarFile=$hearing_pheno_path/fulldb_500K/pleiotropy_AD_ARHI/071222_UKBB_Hearing_aid_f3393_expandedwhite_14734cases_236699ctrl_500k_PC1_PC2\n",
    "phenoCol=f3393\n",
    "covarCol=sex\n",
    "qCovarCol=\"age PC1 PC2\"\n",
    "bgenMinINFO=0.8\n",
    "bgenMinMAF=0.001\n",
    "minMAC=4\n",
    "maf_filter=0\n",
    "geno_filter=0\n",
    "hwe_filter=0\n",
    "mind_filter=0\n",
    "#Use the original bed files for the genotype array on regenie step1\n",
    "bfile=$UKBB_PATH/genotype_files_processed/090221_sample_variant_qc_final_callrate90/cache/UKB_genotypedatadownloaded083019.090221_sample_variant_qc_final_callrate90.filtered.extracted.bed\n",
    "# Use the imputed data hg19 to run the association analysis\n",
    "genoFile=`echo ~/UKBiobank_Yale_transfer/ukb39554_imputeddataset/ukb_imp_chr{1..22}_v3.bgen`\n",
    "sampleFile=$UKBB_yale/ukb39554_imputeddataset/ukb32285_imputedindiv.sample\n",
    "label_annotate=SNP\n",
    "lowmem_dir=$cwd/predictions\n",
    "\n",
    "lmm_args=\"\"\"regenie\n",
    "    --cwd $lmm_dir_regenie \n",
    "    --bfile $bfile \n",
    "    --genoFile $genoFile\n",
    "    --sampleFile $sampleFile\n",
    "    --phenoFile $phenoFile \n",
    "    --formatFile $formatFile_regenie \n",
    "    --phenoCol $phenoCol\n",
    "    --covarCol $covarCol  \n",
    "    --qCovarCol $qCovarCol\n",
    "    --bsize $bsize\n",
    "    --lowmem_dir $lowmem_dir\n",
    "    --trait $trait \n",
    "    --bgenMinMAF $bgenMinMAF \n",
    "    --bgenMinINFO $bgenMinINFO\n",
    "    --maf_filter $maf_filter\n",
    "    --geno_filter $geno_filter\n",
    "    --hwe_filter $hwe_filter\n",
    "    --mind_filter $mind_filter\n",
    "    --minMAC $minMAC\n",
    "    --job_size $lmm_job_size\n",
    "    --ylim $ylim\n",
    "    --label_annotate $label_annotate\n",
    "    --no-annotate\n",
    "    --reverse_log_p $reverse_log_p\n",
    "    --numThreads $numThreads\n",
    "    --container_lmm $container_lmm\n",
    "    --container_marp $container_marp\n",
    "\"\"\"\n",
    "\n",
    "sos run $USER_PATH/UKBB_GWAS_dev/admin/Get_Job_Script.ipynb csg\\\n",
    "    --template-file $tpl_file \\\n",
    "    --workflow-file $lmm_sos \\\n",
    "    --to-script $lmm_sbatch_regenie \\\n",
    "    --args \"$lmm_args\""
   ]
  },
  {
   "cell_type": "markdown",
   "id": "d22ed9cc-1243-4bd5-936d-b5e741fe78e1",
   "metadata": {
    "kernel": "Bash"
   },
   "source": [
    "#### f.2247"
   ]
  },
  {
   "cell_type": "code",
   "execution_count": null,
   "id": "1eba0502-94be-4f1c-ab1d-a3bce1e7c381",
   "metadata": {
    "kernel": "Bash"
   },
   "outputs": [],
   "source": [
    "cwd=~/UKBiobank/results/REGENIE_results/results_imputed_data/071222_500k_without_1415/f2247\n",
    "lmm_dir_regenie=$cwd\n",
    "lmm_sbatch_regenie=$cwd/f2247_500K_impdata_regenie_$(date +\"%Y-%m-%d\").sbatch\n",
    "phenoFile=$hearing_pheno_path/fulldb_500K/pleiotropy_AD_ARHI/071222_UKBB_Hearing_difficulty_f2247_expandedwhite_107994cases_236699ctrl_500k_PC1_PC2\n",
    "covarFile=$hearing_pheno_path/fulldb_500K/pleiotropy_AD_ARHI/071222_UKBB_Hearing_difficulty_f2247_expandedwhite_107994cases_236699ctrl_500k_PC1_PC2\n",
    "phenoCol=f2247\n",
    "covarCol=sex\n",
    "qCovarCol=\"age PC1 PC2\"\n",
    "bgenMinINFO=0.8\n",
    "bgenMinMAF=0.001\n",
    "minMAC=4\n",
    "maf_filter=0\n",
    "geno_filter=0\n",
    "hwe_filter=0\n",
    "mind_filter=0\n",
    "#Use the original bed files for the genotype array on regenie step1\n",
    "bfile=$UKBB_PATH/genotype_files_processed/090221_sample_variant_qc_final_callrate90/cache/UKB_genotypedatadownloaded083019.090221_sample_variant_qc_final_callrate90.filtered.extracted.bed\n",
    "# Use the imputed data hg19 to run the association analysis\n",
    "genoFile=`echo ~/UKBiobank_Yale_transfer/ukb39554_imputeddataset/ukb_imp_chr{1..22}_v3.bgen`\n",
    "sampleFile=$UKBB_yale/ukb39554_imputeddataset/ukb32285_imputedindiv.sample\n",
    "label_annotate=SNP\n",
    "lowmem_dir=$cwd/predictions\n",
    "\n",
    "lmm_args=\"\"\"regenie\n",
    "    --cwd $lmm_dir_regenie \n",
    "    --bfile $bfile \n",
    "    --genoFile $genoFile\n",
    "    --sampleFile $sampleFile\n",
    "    --phenoFile $phenoFile \n",
    "    --formatFile $formatFile_regenie \n",
    "    --phenoCol $phenoCol\n",
    "    --covarCol $covarCol  \n",
    "    --qCovarCol $qCovarCol\n",
    "    --bsize $bsize\n",
    "    --lowmem_dir $lowmem_dir\n",
    "    --trait $trait \n",
    "    --bgenMinMAF $bgenMinMAF \n",
    "    --bgenMinINFO $bgenMinINFO\n",
    "    --maf_filter $maf_filter\n",
    "    --geno_filter $geno_filter\n",
    "    --hwe_filter $hwe_filter\n",
    "    --mind_filter $mind_filter\n",
    "    --minMAC $minMAC\n",
    "    --job_size $lmm_job_size\n",
    "    --ylim $ylim\n",
    "    --label_annotate $label_annotate\n",
    "    --no-annotate\n",
    "    --reverse_log_p $reverse_log_p\n",
    "    --numThreads $numThreads\n",
    "    --container_lmm $container_lmm\n",
    "    --container_marp $container_marp\n",
    "\"\"\"\n",
    "\n",
    "sos run $USER_PATH/UKBB_GWAS_dev/admin/Get_Job_Script.ipynb csg\\\n",
    "    --template-file $tpl_file \\\n",
    "    --workflow-file $lmm_sos \\\n",
    "    --to-script $lmm_sbatch_regenie \\\n",
    "    --args \"$lmm_args\""
   ]
  },
  {
   "cell_type": "markdown",
   "id": "371bb66b-1903-4562-b4c3-81af39cfcf98",
   "metadata": {
    "kernel": "Bash"
   },
   "source": [
    "#### f.2257"
   ]
  },
  {
   "cell_type": "code",
   "execution_count": null,
   "id": "17af5199-53e0-42ca-883e-dbf96d4c510f",
   "metadata": {
    "kernel": "Bash"
   },
   "outputs": [],
   "source": [
    "cwd=~/UKBiobank/results/REGENIE_results/results_imputed_data/071222_500k_without_1415/f2257\n",
    "lmm_dir_regenie=$cwd\n",
    "lmm_sbatch_regenie=$cwd/f2257_500K_impdata_regenie_$(date +\"%Y-%m-%d\").sbatch\n",
    "phenoFile=$hearing_pheno_path/fulldb_500K/pleiotropy_AD_ARHI/071222_UKBB_Hearing_noise_f2257_expandedwhite_159033cases_236699ctrl_500k_PC1_PC2\n",
    "covarFile=$hearing_pheno_path/fulldb_500K/pleiotropy_AD_ARHI/071222_UKBB_Hearing_noise_f2257_expandedwhite_159033cases_236699ctrl_500k_PC1_PC2\n",
    "phenoCol=f2257\n",
    "covarCol=sex\n",
    "qCovarCol=\"age PC1 PC2\"\n",
    "bgenMinINFO=0.8\n",
    "bgenMinMAF=0.001\n",
    "minMAC=4\n",
    "maf_filter=0\n",
    "geno_filter=0\n",
    "hwe_filter=0\n",
    "mind_filter=0\n",
    "#Use the original bed files for the genotype array on regenie step1\n",
    "bfile=$UKBB_PATH/genotype_files_processed/090221_sample_variant_qc_final_callrate90/cache/UKB_genotypedatadownloaded083019.090221_sample_variant_qc_final_callrate90.filtered.extracted.bed\n",
    "# Use the imputed data hg19 to run the association analysis\n",
    "genoFile=`echo ~/UKBiobank_Yale_transfer/ukb39554_imputeddataset/ukb_imp_chr{1..22}_v3.bgen`\n",
    "sampleFile=$UKBB_yale/ukb39554_imputeddataset/ukb32285_imputedindiv.sample\n",
    "label_annotate=SNP\n",
    "lowmem_dir=$cwd/predictions\n",
    "\n",
    "lmm_args=\"\"\"regenie\n",
    "    --cwd $lmm_dir_regenie \n",
    "    --bfile $bfile \n",
    "    --genoFile $genoFile\n",
    "    --sampleFile $sampleFile\n",
    "    --phenoFile $phenoFile \n",
    "    --formatFile $formatFile_regenie \n",
    "    --phenoCol $phenoCol\n",
    "    --covarCol $covarCol  \n",
    "    --qCovarCol $qCovarCol\n",
    "    --bsize $bsize\n",
    "    --lowmem_dir $lowmem_dir\n",
    "    --trait $trait \n",
    "    --bgenMinMAF $bgenMinMAF \n",
    "    --bgenMinINFO $bgenMinINFO\n",
    "    --maf_filter $maf_filter\n",
    "    --geno_filter $geno_filter\n",
    "    --hwe_filter $hwe_filter\n",
    "    --mind_filter $mind_filter\n",
    "    --minMAC $minMAC\n",
    "    --job_size $lmm_job_size\n",
    "    --ylim $ylim\n",
    "    --label_annotate $label_annotate\n",
    "    --no-annotate\n",
    "    --reverse_log_p $reverse_log_p\n",
    "    --numThreads $numThreads\n",
    "    --container_lmm $container_lmm\n",
    "    --container_marp $container_marp\n",
    "\"\"\"\n",
    "\n",
    "sos run $USER_PATH/UKBB_GWAS_dev/admin/Get_Job_Script.ipynb csg\\\n",
    "    --template-file $tpl_file \\\n",
    "    --workflow-file $lmm_sos \\\n",
    "    --to-script $lmm_sbatch_regenie \\\n",
    "    --args \"$lmm_args\""
   ]
  },
  {
   "cell_type": "markdown",
   "id": "51923fbe-4e1b-4e11-b875-0cf1915ce9fb",
   "metadata": {
    "kernel": "Bash"
   },
   "source": [
    "#### Combined f.2247 & f.2257"
   ]
  },
  {
   "cell_type": "code",
   "execution_count": null,
   "id": "e7b32059-771e-496c-9561-88aa5124b319",
   "metadata": {
    "kernel": "Bash"
   },
   "outputs": [],
   "source": [
    "cwd=~/UKBiobank/results/REGENIE_results/results_imputed_data/071222_500k_without_1415/f2247_f2257\n",
    "lmm_dir_regenie=$cwd\n",
    "lmm_sbatch_regenie=$cwd/f2247_f2257_500K_impdata_regenie_$(date +\"%Y-%m-%d\").sbatch\n",
    "phenoFile=$hearing_pheno_path/fulldb_500K/pleiotropy_AD_ARHI/071222_UKBB_Combined_f2247_f2257_expandedwhite_91092cases_236699ctrl_500k_PC1_PC2\n",
    "covarFile=$hearing_pheno_path/fulldb_500K/pleiotropy_AD_ARHI/071222_UKBB_Combined_f2247_f2257_expandedwhite_91092cases_236699ctrl_500k_PC1_PC2\n",
    "phenoCol=f2247_f2257\n",
    "covarCol=sex\n",
    "qCovarCol=\"age PC1 PC2\"\n",
    "bgenMinINFO=0.8\n",
    "bgenMinMAF=0.001\n",
    "minMAC=4\n",
    "maf_filter=0\n",
    "geno_filter=0\n",
    "hwe_filter=0\n",
    "mind_filter=0\n",
    "#Use the original bed files for the genotype array on regenie step1\n",
    "bfile=$UKBB_PATH/genotype_files_processed/090221_sample_variant_qc_final_callrate90/cache/UKB_genotypedatadownloaded083019.090221_sample_variant_qc_final_callrate90.filtered.extracted.bed\n",
    "# Use the imputed data hg19 to run the association analysis\n",
    "genoFile=`echo ~/UKBiobank_Yale_transfer/ukb39554_imputeddataset/ukb_imp_chr{1..22}_v3.bgen`\n",
    "sampleFile=$UKBB_yale/ukb39554_imputeddataset/ukb32285_imputedindiv.sample\n",
    "label_annotate=SNP\n",
    "lowmem_dir=$cwd/predictions\n",
    "\n",
    "lmm_args=\"\"\"regenie\n",
    "    --cwd $lmm_dir_regenie \n",
    "    --bfile $bfile \n",
    "    --genoFile $genoFile\n",
    "    --sampleFile $sampleFile\n",
    "    --phenoFile $phenoFile \n",
    "    --formatFile $formatFile_regenie \n",
    "    --phenoCol $phenoCol\n",
    "    --covarCol $covarCol  \n",
    "    --qCovarCol $qCovarCol\n",
    "    --bsize $bsize\n",
    "    --lowmem_dir $lowmem_dir\n",
    "    --trait $trait \n",
    "    --bgenMinMAF $bgenMinMAF \n",
    "    --bgenMinINFO $bgenMinINFO\n",
    "    --maf_filter $maf_filter\n",
    "    --geno_filter $geno_filter\n",
    "    --hwe_filter $hwe_filter\n",
    "    --mind_filter $mind_filter\n",
    "    --minMAC $minMAC\n",
    "    --job_size $lmm_job_size\n",
    "    --ylim $ylim\n",
    "    --label_annotate $label_annotate\n",
    "    --no-annotate\n",
    "    --reverse_log_p $reverse_log_p\n",
    "    --numThreads $numThreads\n",
    "    --container_lmm $container_lmm\n",
    "    --container_marp $container_marp\n",
    "\"\"\"\n",
    "\n",
    "sos run $USER_PATH/UKBB_GWAS_dev/admin/Get_Job_Script.ipynb csg\\\n",
    "    --template-file $tpl_file \\\n",
    "    --workflow-file $lmm_sos \\\n",
    "    --to-script $lmm_sbatch_regenie \\\n",
    "    --args \"$lmm_args\""
   ]
  }
 ],
 "metadata": {
  "kernelspec": {
   "display_name": "SoS",
   "language": "sos",
   "name": "sos"
  },
  "language_info": {
   "codemirror_mode": "sos",
   "file_extension": ".sos",
   "mimetype": "text/x-sos",
   "name": "sos",
   "nbconvert_exporter": "sos_notebook.converter.SoS_Exporter",
   "pygments_lexer": "sos"
  },
  "sos": {
   "kernels": [
    [
     "Bash",
     "bash",
     "Bash",
     "#E6EEFF",
     ""
    ],
    [
     "Python3",
     "python3",
     "Python3",
     "#FFD91A",
     ""
    ]
   ],
   "version": "0.23.3"
  },
  "toc-autonumbering": false
 },
 "nbformat": 4,
 "nbformat_minor": 5
}
