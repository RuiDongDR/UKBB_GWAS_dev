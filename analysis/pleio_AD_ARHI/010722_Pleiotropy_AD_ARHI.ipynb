{
 "cells": [
  {
   "cell_type": "markdown",
   "id": "fd25e634-0e11-4a02-82ac-b9b36652da3a",
   "metadata": {
    "kernel": "SoS",
    "tags": []
   },
   "source": [
    "# Analysis of pleiotopy between Alzheimer's Disease and ARHI traits "
   ]
  },
  {
   "cell_type": "markdown",
   "id": "cd628a18-daff-4fe4-ae5f-9dabb0f910b3",
   "metadata": {
    "kernel": "SoS"
   },
   "source": [
    "First of all a review of the available references is made regarding AD. Particularly for GWAS using AD and meta-analysis from different studies. \n",
    "\n",
    "1. Kunkle et al https://www.nature.com/articles/s41588-019-0358-2\n",
    "2. Jansen et al https://pubmed.ncbi.nlm.nih.gov/30617256/\n",
    "3. Wightman et al https://www.nature.com/articles/s41588-021-00921-z\n",
    "4. [family history based] https://pubmed.ncbi.nlm.nih.gov/29777097/\n",
    "5. Schwartzentruber et al https://pubmed.ncbi.nlm.nih.gov/33589840/ \n",
    "6. Bellenguez et al https://www.nature.com/articles/s41588-022-01024-z\n",
    "\n",
    "**Using AD proxy case definition**\n",
    "\n",
    "[Schwartzentruber et al 2021](https://www.nature.com/articles/s41588-020-00776-w)\n",
    "\n",
    "**Using clinically diagnosed LOAD**\n",
    "\n",
    "[Kunkle et al 2019](https://www.nature.com/articles/s41588-019-0358-2)\n",
    "\n",
    "**Using clinically diagnosed/proxy AD cases**\n",
    "\n",
    "[Belenguez et al 2022](https://www.nature.com/articles/s41588-022-01024-z)\n",
    "\n",
    "- two stage GWAS\n",
    "- 111,326 clinically diagnosed/‘proxy’ AD cases and 677,663 controls\n",
    "- The European Alzheimer & Dementia Biobank  + UK Biobank\n",
    "- GWAS meta-analysis results can be downloaded here https://www.ebi.ac.uk/gwas/studies/GCST90027158\n",
    "\n",
    "The results from this meta-analysis have been downloaded to our cluster and are located here:\n",
    "\n",
    "`/mnt/vast/hpc/csg/data_public/GWAS_sumstats/GCST90027158_buildGRCh38.tsv.gz`"
   ]
  },
  {
   "cell_type": "markdown",
   "id": "190dcf85-54d2-44bc-9dcd-e9dddedcc468",
   "metadata": {
    "kernel": "SoS"
   },
   "source": [
    "## GWAS for ARHI used in the pleiotropy analysis\n",
    "\n",
    "Parameters used for REGENIE\n",
    "\n",
    "```\n",
    "covarCol=sex\n",
    "qCovarCol=\"age PC1 PC2\"\n",
    "bgenMinINFO=0.8\n",
    "minMAC=4\n",
    "bfile=$UKBB_PATH/genotype_files_processed/090221_sample_variant_qc_final_callrate90/cache/UKB_genotypedatadownloaded083019.090221_sample_variant_qc_final_callrate90.filtered.extracted.bed\n",
    "genoFile=`echo ~/UKBiobank_Yale_transfer/ukb39554_imputeddataset/ukb_imp_chr{1..22}_v3.bgen`\n",
    "sampleFile=$UKBB_yale/ukb39554_imputeddataset/ukb32285_imputedindiv.sample\n",
    "```\n",
    "\n",
    "The GWAS results are stored here (Note: these results correspond to white European individuals:\n",
    "\n",
    "- /mnt/vast/hpc/csg/UKBiobank/results/REGENIE_results/results_imputed_data/2021_10_07_f3393_500K\n",
    "- /mnt/vast/hpc/csg/UKBiobank/results/REGENIE_results/results_imputed_data/2021_10_07_f2247_500K\n",
    "- /mnt/vast/hpc/csg/UKBiobank/results/REGENIE_results/results_imputed_data/2021_10_07_f2257_500K\n",
    "- /mnt/vast/hpc/csg/UKBiobank/results/REGENIE_results/results_imputed_data/2021_10_07_combined_500K"
   ]
  },
  {
   "cell_type": "markdown",
   "id": "66aac625-3db4-46ce-8f2e-841e51642015",
   "metadata": {
    "kernel": "SoS"
   },
   "source": [
    "# Step 1. Liftover of the meta-analysis sumtats of AD to match our GWAS results in hg.19"
   ]
  },
  {
   "cell_type": "code",
   "execution_count": 39,
   "id": "ded5a935-efe5-43aa-8fea-8f84c751a90e",
   "metadata": {
    "kernel": "Bash",
    "tags": []
   },
   "outputs": [
    {
     "name": "stdout",
     "output_type": "stream",
     "text": [
      "INFO: Running \u001b[32mexport utils script\u001b[0m: \n",
      "INFO: \u001b[32mexport utils script\u001b[0m is \u001b[32mcompleted\u001b[0m.\n",
      "INFO: \u001b[32mexport utils script\u001b[0m output:   \u001b[32m/mnt/vast/hpc/csg/UKBiobank/results/pleiotropy_AD_ARHI/utils.py\u001b[0m\n",
      "INFO: Running \u001b[32mdo liftover\u001b[0m: \n",
      "\u001b[91mERROR\u001b[0m: \u001b[91mdo liftover (id=3eff696380ae4cf1) returns an error.\u001b[0m\n",
      "\u001b[91mERROR\u001b[0m: \u001b[91m[default_2]: [0]: \n",
      "Failed to execute \u001b[0m\u001b[32mpython /home/dmc2245/.sos/fb769d0479f65da0/default_2_0_d8d08d20.py\u001b[0m\u001b[91m\n",
      "exitcode=1, workdir=\u001b[0m\u001b[32m/mnt/mfs/hgrcgrid/homes/dmc2245/project/UKBB_GWAS_dev/analysis/pleio_AD_ARHI\u001b[0m\u001b[91m, stdout=/mnt/vast/hpc/csg/UKBiobank/results/pleiotropy_AD_ARHI/GCST90027158_buildGRCh37.stdout, stderr=/mnt/vast/hpc/csg/UKBiobank/results/pleiotropy_AD_ARHI/GCST90027158_buildGRCh37.stderr\n",
      "---------------------------------------------------------------------------\u001b[0m\n"
     ]
    },
    {
     "ename": "",
     "evalue": "1",
     "output_type": "error",
     "traceback": []
    }
   ],
   "source": [
    "module load Singularity\n",
    "export PATH=$HOME/miniconda3/bin:$PATH\n",
    "sos run ~/project/bioworkflows/GWAS/liftover.ipynb \\\n",
    "--cwd /mnt/vast/hpc/csg/UKBiobank/results/pleiotropy_AD_ARHI \\\n",
    "--input_file /mnt/vast/hpc/csg/data_public/GWAS_sumstats/GCST90027158_buildGRCh38.tsv.gz \\\n",
    "--output-file GCST90027158_buildGRCh37.tsv \\\n",
    "--fr 'hg38' \\\n",
    "--to 'hg19' \\\n",
    "--yml_file ~/project/UKBB_GWAS_dev/data/liftover.yml"
   ]
  },
  {
   "cell_type": "code",
   "execution_count": null,
   "id": "cbb7c26e-76d3-4201-b4ad-b43a48f6fa8c",
   "metadata": {
    "kernel": "Bash"
   },
   "outputs": [],
   "source": []
  }
 ],
 "metadata": {
  "kernelspec": {
   "display_name": "SoS",
   "language": "sos",
   "name": "sos"
  },
  "language_info": {
   "codemirror_mode": "sos",
   "file_extension": ".sos",
   "mimetype": "text/x-sos",
   "name": "sos",
   "nbconvert_exporter": "sos_notebook.converter.SoS_Exporter",
   "pygments_lexer": "sos"
  },
  "sos": {
   "kernels": [
    [
     "Bash",
     "calysto_bash",
     "Bash",
     "#E6EEFF",
     ""
    ]
   ],
   "version": "0.22.6"
  },
  "toc-autonumbering": false
 },
 "nbformat": 4,
 "nbformat_minor": 5
}
