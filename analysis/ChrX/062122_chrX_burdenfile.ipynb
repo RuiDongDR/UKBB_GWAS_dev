{
 "cells": [
  {
   "cell_type": "markdown",
   "id": "9a6b8545-60cb-4232-82db-0f78dad01c30",
   "metadata": {
    "kernel": "SoS",
    "tags": []
   },
   "source": [
    "# Burden test for chr X"
   ]
  },
  {
   "cell_type": "markdown",
   "id": "47f4e894-03f5-4407-b46f-3ad83c4795c9",
   "metadata": {
    "kernel": "SoS"
   },
   "source": [
    "## Create annotation file with annovar "
   ]
  },
  {
   "cell_type": "code",
   "execution_count": 4,
   "id": "c463d17a-8067-473c-9b95-e04369494914",
   "metadata": {
    "kernel": "Bash",
    "tags": []
   },
   "outputs": [
    {
     "name": "stdout",
     "output_type": "stream",
     "text": [
      "INFO: Running \u001b[32mcsg\u001b[0m: Configuration for Columbia csg partition cluster\n",
      "INFO: \u001b[32mcsg\u001b[0m is \u001b[32mcompleted\u001b[0m.\n",
      "INFO: \u001b[32mcsg\u001b[0m output:   \u001b[32m/mnt/vast/hpc/csg/en2509/exome/BurdenTest/BurdenFiles/chrX_annotation_2022-06-21.sbatch\u001b[0m\n",
      "INFO: Workflow csg (ID=w888e7b04827ea2d8) is executed successfully with 1 completed step.\n"
     ]
    }
   ],
   "source": [
    "tpl_file=~/working/bioworkflows/admin/csg.yml\n",
    "annovar_dir=/mnt/vast/hpc/csg/en2509/exome/BurdenTest/BurdenFiles/\n",
    "annovar_sos=~/working/bioworkflows/variant-annotation/annovar.ipynb\n",
    "annovar_sbatch=/mnt/vast/hpc/csg/en2509/exome/BurdenTest/BurdenFiles/chrX_annotation_$(date +\"%Y-%m-%d\").sbatch\n",
    "bfiles=/mnt/vast/hpc/csg/en2509/exome/All_qced_exome200k.bim\n",
    "name_prefix=\"chrX\"\n",
    "build=\"hg38\"\n",
    "walltime=\"60h\"\n",
    "mem=\"80G\"\n",
    "\n",
    "annovar_args=\"\"\"annovar\n",
    "    --cwd $annovar_dir \n",
    "    --bim_name $bfiles \n",
    "    --humandb /mnt/vast/hpc/csg/isabelle/REF/humandb  \n",
    "    --xref_path /mnt/vast/hpc/csg/isabelle/REF/humandb \n",
    "    --job_size 1 \n",
    "    --build $build\n",
    "    --name_prefix $name_prefix\n",
    "    --walltime $walltime\n",
    "    --mem $mem\n",
    "    --container_annovar /mnt/vast/hpc/csg/containers/gatk4-annovar.sif\n",
    "\"\"\"\n",
    "\n",
    "sos run ~/working/UKBB_GWAS_dev/admin/Get_Job_Script.ipynb csg \\\n",
    "    --template-file $tpl_file \\\n",
    "    --workflow-file $annovar_sos \\\n",
    "    --to-script $annovar_sbatch \\\n",
    "    --args \"$annovar_args\""
   ]
  },
  {
   "cell_type": "markdown",
   "id": "cd4451d8-6cc2-4a4e-955d-ab9144fb4f79",
   "metadata": {
    "kernel": "Bash"
   },
   "source": [
    "## Create the anno_file, set_list_file and mask_files necessary for burden test"
   ]
  },
  {
   "cell_type": "code",
   "execution_count": 5,
   "id": "001b4efc-19f3-47e6-bc79-d9868a89f8d7",
   "metadata": {
    "kernel": "Bash"
   },
   "outputs": [],
   "source": [
    "gzip -k /mnt/vast/hpc/csg/en2509/exome/BurdenTest/BurdenFiles/All_qced_exome200k.hg38.hg38_multianno.csv"
   ]
  },
  {
   "cell_type": "code",
   "execution_count": 4,
   "id": "d23cdf7d-d24b-409b-894a-85775fa8ff12",
   "metadata": {
    "kernel": "Bash"
   },
   "outputs": [
    {
     "name": "stdout",
     "output_type": "stream",
     "text": [
      "INFO: Running \u001b[32mcsg\u001b[0m: Configuration for Columbia csg partition cluster\n",
      "INFO: \u001b[32mcsg\u001b[0m is \u001b[32mcompleted\u001b[0m.\n",
      "INFO: \u001b[32mcsg\u001b[0m output:   \u001b[32m/mnt/vast/hpc/csg/en2509/exome/BurdenTest/BurdenFiles/chrX_burdenfiles_2022-06-23.sbatch\u001b[0m\n",
      "INFO: Workflow csg (ID=w038634fbdfa5a2d6) is executed successfully with 1 completed step.\n"
     ]
    }
   ],
   "source": [
    "burden_dir=/mnt/vast/hpc/csg/en2509/exome/BurdenTest/BurdenFiles/\n",
    "anno_sbatch_burden=/mnt/vast/hpc/csg/en2509/exome/BurdenTest/BurdenFiles/chrX_burdenfiles_$(date +\"%Y-%m-%d\").sbatch\n",
    "annotated_file_hg38=/mnt/vast/hpc/csg/en2509/exome/BurdenTest/BurdenFiles/All_qced_exome200k.hg38.hg38_multianno.csv.gz\n",
    "bim_name=/mnt/vast/hpc/csg/en2509/exome/All_qced_exome200k.bim\n",
    "job_size=1\n",
    "name_prefix='chrX_burden_files'\n",
    "anno_sos=~/working/bioworkflows/variant-annotation/annovar.ipynb\n",
    "tpl_file=~/working/bioworkflows/admin/csg.yml\n",
    "container_annovar=/mnt/vast/hpc/csg/guangyou/containers/gatk4-annovar.sif\n",
    "\n",
    "anno_args=\"\"\"burden_files\n",
    "    --cwd $burden_dir\n",
    "    --annotated_file $annotated_file_hg38\n",
    "    --bim_name $bim_name\n",
    "    --name_prefix $name_prefix\n",
    "    --job_size $job_size\n",
    "    --container_annovar $container_annovar\n",
    "    --container_lmm /mnt/vast/hpc/csg/containers/lmm.sif\n",
    "\"\"\"\n",
    "\n",
    "sos run ~/working/UKBB_GWAS_dev/admin/Get_Job_Script.ipynb csg \\\n",
    "    --template-file $tpl_file \\\n",
    "    --workflow-file $anno_sos \\\n",
    "    --to-script $anno_sbatch_burden\\\n",
    "    --args \"$anno_args\""
   ]
  },
  {
   "cell_type": "code",
   "execution_count": 2,
   "id": "93034926-db8e-4232-b743-5c21d34efddd",
   "metadata": {
    "kernel": "Bash"
   },
   "outputs": [
    {
     "name": "stdout",
     "output_type": "stream",
     "text": [
      "136\n"
     ]
    }
   ],
   "source": [
    "awk --field-separator=\",\" \"{ print NF }\" /mnt/vast/hpc/csg/en2509/exome/BurdenTest/BurdenFiles/All_qced_exome200k.hg38.hg38_multianno.csv | sort -n | uniq"
   ]
  },
  {
   "cell_type": "code",
   "execution_count": null,
   "id": "c9be0eb7-f873-40b5-a419-f8cd43a26d19",
   "metadata": {
    "kernel": "Bash"
   },
   "outputs": [],
   "source": [
    "cat > /mnt/vast/hpc/csg/en2509/exome/BurdenTest/BurdenFiles/All_qced_exome200k.hg38.hg38_multianno.csv.mask_file << EOF\n",
    "Mask1 LoF\n",
    "Mask2 LoF,missense\n",
    "EOF"
   ]
  },
  {
   "cell_type": "markdown",
   "id": "bf6d827a-8bfe-4db3-8f3b-cd8432cd68aa",
   "metadata": {
    "kernel": "Bash"
   },
   "source": [
    "## Fix the problem of sex chr name for annovar pipeline\n",
    "\n",
    "Annovar pipeline creates the varID using \"23\" as the chr name but in our chr X bim file it uses \"X\", which leads to mistch. "
   ]
  },
  {
   "cell_type": "code",
   "execution_count": 3,
   "id": "e491e0a1-0738-4161-b388-5503fbb5bdc6",
   "metadata": {
    "kernel": "Bash"
   },
   "outputs": [
    {
     "name": "stdout",
     "output_type": "stream",
     "text": [
      "All_qced_exome200k.hg38.avinput\n",
      "All_qced_exome200k.hg38.ensGene.invalid_input\n",
      "All_qced_exome200k.hg38.hg38_multianno.csv\n",
      "All_qced_exome200k.hg38.hg38_multianno.csv.aff_file\n",
      "All_qced_exome200k.hg38.hg38_multianno.csv.anno_file\n",
      "\u001b[0m\u001b[01;31mAll_qced_exome200k.hg38.hg38_multianno.csv.bak.gz\u001b[0m\n",
      "All_qced_exome200k.hg38.hg38_multianno.csv.err\n",
      "\u001b[01;31mAll_qced_exome200k.hg38.hg38_multianno.csv.gz\u001b[0m\n",
      "All_qced_exome200k.hg38.hg38_multianno.csv.mask_file\n",
      "All_qced_exome200k.hg38.hg38_multianno.csv.out\n",
      "All_qced_exome200k.hg38.hg38_multianno.csv.set_list_file\n",
      "All_qced_exome200k.hg38.hg38_multianno.err\n",
      "All_qced_exome200k.hg38.hg38_multianno.out\n",
      "All_qced_exome200k.hg38.invalid_input\n",
      "All_qced_exome200k.hg38.knownGene.invalid_input\n",
      "All_qced_exome200k.hg38.refGene.invalid_input\n",
      "All_qced_exome200k.hg38.refGeneWithVer.invalid_input\n",
      "chrX_annotation_2022-06-21-2553416.out\n",
      "chrX_annotation_2022-06-21-2554591.out\n",
      "chrX_annotation_2022-06-21.log\n",
      "chrX_annotation_2022-06-21.sbatch\n",
      "chrX_burdenfiles_2022-06-23-2554612.out\n",
      "chrX_burdenfiles_2022-06-23-2554617.out\n",
      "chrX_burdenfiles_2022-06-23-2554623.out\n",
      "chrX_burdenfiles_2022-06-23-2554650.out\n",
      "chrX_burdenfiles_2022-06-23.log\n",
      "chrX_burdenfiles_2022-06-23.sbatch\n"
     ]
    }
   ],
   "source": [
    "ls /mnt/vast/hpc/csg/en2509/exome/BurdenTest/BurdenFiles/"
   ]
  },
  {
   "cell_type": "code",
   "execution_count": 5,
   "id": "2c5a4ee2-dacd-4f70-9e56-26434248eaa0",
   "metadata": {
    "kernel": "Bash"
   },
   "outputs": [
    {
     "name": "stdout",
     "output_type": "stream",
     "text": [
      "chr23:334222:G:A NONE other\n",
      "chr23:334223:C:A NONE other\n",
      "chr23:334224:A:G NONE other\n",
      "chr23:334229:A:C NONE other\n",
      "chr23:334232:C:T NONE other\n",
      "chr23:334233:G:A NONE other\n",
      "chr23:334241:GAAT:G NONE other\n",
      "chr23:334241:GAATA:G NONE other\n",
      "chr23:334243:A:C NONE other\n",
      "chr23:334248:T:C NONE other\n"
     ]
    }
   ],
   "source": [
    "head /mnt/vast/hpc/csg/en2509/exome/BurdenTest/BurdenFiles/All_qced_exome200k.hg38.hg38_multianno.csv.anno_file"
   ]
  },
  {
   "cell_type": "code",
   "execution_count": 7,
   "id": "d0dbfe40-a712-492b-b646-6509848063a0",
   "metadata": {
    "kernel": "Bash"
   },
   "outputs": [
    {
     "name": "stdout",
     "output_type": "stream",
     "text": [
      ". 23 101360035 chr23:15244692:T:GA,chr23:50607728:T:CTCC,chr23:67546514:T:CGGC,chr23:101360035:T:GAG,chr23:120438731:C:AAAAA,chr23:120438731:C:AAAAAAA,chr23:120438731:C:AAAAAAAA,chr23:154781342:AG:T\n"
     ]
    },
    {
     "name": "stderr",
     "output_type": "stream",
     "text": [
      "IOPub data rate exceeded.\n",
      "The Jupyter server will temporarily stop sending output\n",
      "to the client in order to avoid crashing it.\n",
      "To change this limit, set the config variable\n",
      "`--ServerApp.iopub_data_rate_limit`.\n",
      "\n",
      "Current values:\n",
      "ServerApp.iopub_data_rate_limit=1000000.0 (bytes/sec)\n",
      "ServerApp.rate_limit_window=3.0 (secs)\n",
      "\n"
     ]
    }
   ],
   "source": [
    "head /mnt/vast/hpc/csg/en2509/exome/BurdenTest/BurdenFiles/All_qced_exome200k.hg38.hg38_multianno.csv.set_list_file"
   ]
  },
  {
   "cell_type": "code",
   "execution_count": 8,
   "id": "63c87eb7-9c86-4670-9d9c-b97479647840",
   "metadata": {
    "kernel": "Bash"
   },
   "outputs": [
    {
     "name": "stdout",
     "output_type": "stream",
     "text": [
      "23\tchrX:334222:G:A\t0\t334222\tA\tG\n",
      "23\tchrX:334223:C:A\t0\t334223\tA\tC\n",
      "23\tchrX:334224:A:G\t0\t334224\tG\tA\n",
      "23\tchrX:334229:A:C\t0\t334229\tC\tA\n",
      "23\tchrX:334232:C:T\t0\t334232\tT\tC\n",
      "23\tchrX:334233:G:A\t0\t334233\tA\tG\n",
      "23\tchrX:334241:GAAT:G\t0\t334241\tG\tGAAT\n",
      "23\tchrX:334241:GAATA:G\t0\t334241\tG\tGAATA\n",
      "23\tchrX:334243:A:C\t0\t334243\tC\tA\n",
      "23\tchrX:334248:T:C\t0\t334248\tC\tT\n"
     ]
    }
   ],
   "source": [
    "head /mnt/vast/hpc/csg/en2509/exome/All_qced_exome200k.bim"
   ]
  },
  {
   "cell_type": "code",
   "execution_count": 6,
   "id": "552325fa-f4f6-4650-977d-5110461f536a",
   "metadata": {
    "kernel": "Bash"
   },
   "outputs": [
    {
     "name": "stdout",
     "output_type": "stream",
     "text": [
      "Chr,Start,End,Ref,Alt,Func.refGene,Gene.refGene,GeneDetail.refGene,ExonicFunc.refGene,AAChange.refGene,Func.refGeneWithVer,Gene.refGeneWithVer,GeneDetail.refGeneWithVer,ExonicFunc.refGeneWithVer,AAChange.refGeneWithVer,Func.knownGene,Gene.knownGene,GeneDetail.knownGene,ExonicFunc.knownGene,AAChange.knownGene,Func.ensGene,Gene.ensGene,GeneDetail.ensGene,ExonicFunc.ensGene,AAChange.ensGene,Xref.ensGene,phastConsElements30way,encRegTfbsClustered,gwasCatalog,AF,AF_raw,AF_male,AF_female,AF_afr,AF_ami,AF_amr,AF_asj,AF_eas,AF_fin,AF_nfe,AF_oth,AF_sas,AF_exome,AF_popmax_exome,AF_male_exome,AF_female_exome,AF_raw_exome,AF_afr_exome,AF_sas_exome,AF_amr_exome,AF_eas_exome,AF_nfe_exome,AF_fin_exome,AF_asj_exome,AF_oth_exome,non_topmed_AF_popmax,non_neuro_AF_popmax,non_cancer_AF_popmax,controls_AF_popmax,GME_AF,GME_NWA,GME_NEA,GME_AP,GME_Israel,GME_SD,GME_TP,GME_CA,Kaviar_AF,Kaviar_AC,Kaviar_AN,avsnp150,DamagePredCount,SIFT_pred,SIFT4G_pred,Polyphen2_HDIV_pred,Polyphen2_HVAR_pred,LRT_pred,MutationTaster_pred,MutationAssessor_pred,FATHMM_pred,PROVEAN_pred,VEST4_score,MetaSVM_pred,MetaLR_pred,M-CAP_pred,REVEL_score,MutPred_score,MVP_score,MPC_score,PrimateAI_pred,DEOGEN2_pred,BayesDel_addAF_pred,BayesDel_noAF_pred,ClinPred_pred,LIST-S2_pred,CADD_raw,CADD_phred,DANN_score,fathmm-MKL_coding_pred,fathmm-XF_coding_pred,Eigen-raw_coding,Eigen-phred_coding,Eigen-PC-raw_coding,Eigen-PC-phred_coding,GenoCanyon_score,integrated_fitCons_score,GM12878_fitCons_score,H1-hESC_fitCons_score,HUVEC_fitCons_score,LINSIGHT,GERP++_NR,GERP++_RS,phyloP100way_vertebrate,phyloP30way_mammalian,phyloP17way_primate,phastCons100way_vertebrate,phastCons30way_mammalian,phastCons17way_primate,bStatistic,Interpro_domain,GTEx_V8_gene,GTEx_V8_tissue,dbscSNV_ADA_SCORE,dbscSNV_RF_SCORE,CLNALLELEID,CLNDN,CLNDISDB,CLNREVSTAT,CLNSIG,DN ID,Patient ID,Phenotype,Platform,Study,Pubmed ID,Otherinfo1\n",
      "23,334222,334222,G,A,\"intergenic\",\"NONE;NONE\",\"dist=NONE;dist=NONE\",.,.,\"intergenic\",\"NONE;NONE\",\"dist=NONE;dist=NONE\",.,.,\"intergenic\",\"NONE;NONE\",\"dist=NONE;dist=NONE\",.,.,\"intergenic\",\"NONE;NONE\",\"dist=NONE;dist=NONE\",.,.,.,.,.,.,.,.,.,.,.,.,.,.,.,.,.,.,.,.,.,.,.,.,.,.,.,.,.,.,.,.,.,.,.,.,.,.,.,.,.,.,.,.,.,.,.,.,.,.,.,.,.,.,.,.,.,.,.,.,.,.,.,.,.,.,.,.,.,.,.,.,.,.,.,.,.,.,.,.,.,.,.,.,.,.,.,.,.,.,.,.,.,.,.,.,.,.,.,.,.,.,.,.,.,.,.,.,.,.,.,.,\"chrX:334222:G:A\"\n",
      "23,334223,334223,C,A,\"intergenic\",\"NONE;NONE\",\"dist=NONE;dist=NONE\",.,.,\"intergenic\",\"NONE;NONE\",\"dist=NONE;dist=NONE\",.,.,\"intergenic\",\"NONE;NONE\",\"dist=NONE;dist=NONE\",.,.,\"intergenic\",\"NONE;NONE\",\"dist=NONE;dist=NONE\",.,.,.,.,.,.,.,.,.,.,.,.,.,.,.,.,.,.,.,.,.,.,.,.,.,.,.,.,.,.,.,.,.,.,.,.,.,.,.,.,.,.,.,.,.,.,.,.,.,.,.,.,.,.,.,.,.,.,.,.,.,.,.,.,.,.,.,.,.,.,.,.,.,.,.,.,.,.,.,.,.,.,.,.,.,.,.,.,.,.,.,.,.,.,.,.,.,.,.,.,.,.,.,.,.,.,.,.,.,.,.,.,\"chrX:334223:C:A\"\n",
      "23,334224,334224,A,G,\"intergenic\",\"NONE;NONE\",\"dist=NONE;dist=NONE\",.,.,\"intergenic\",\"NONE;NONE\",\"dist=NONE;dist=NONE\",.,.,\"intergenic\",\"NONE;NONE\",\"dist=NONE;dist=NONE\",.,.,\"intergenic\",\"NONE;NONE\",\"dist=NONE;dist=NONE\",.,.,.,.,.,.,.,.,.,.,.,.,.,.,.,.,.,.,.,.,.,.,.,.,.,.,.,.,.,.,.,.,.,.,.,.,.,.,.,.,.,.,.,.,.,.,.,.,.,.,.,.,.,.,.,.,.,.,.,.,.,.,.,.,.,.,.,.,.,.,.,.,.,.,.,.,.,.,.,.,.,.,.,.,.,.,.,.,.,.,.,.,.,.,.,.,.,.,.,.,.,.,.,.,.,.,.,.,.,.,.,.,\"chrX:334224:A:G\"\n",
      "23,334229,334229,A,C,\"intergenic\",\"NONE;NONE\",\"dist=NONE;dist=NONE\",.,.,\"intergenic\",\"NONE;NONE\",\"dist=NONE;dist=NONE\",.,.,\"intergenic\",\"NONE;NONE\",\"dist=NONE;dist=NONE\",.,.,\"intergenic\",\"NONE;NONE\",\"dist=NONE;dist=NONE\",.,.,.,.,.,.,.,.,.,.,.,.,.,.,.,.,.,.,.,.,.,.,.,.,.,.,.,.,.,.,.,.,.,.,.,.,.,.,.,.,.,.,.,.,.,.,.,.,.,.,.,.,.,.,.,.,.,.,.,.,.,.,.,.,.,.,.,.,.,.,.,.,.,.,.,.,.,.,.,.,.,.,.,.,.,.,.,.,.,.,.,.,.,.,.,.,.,.,.,.,.,.,.,.,.,.,.,.,.,.,.,.,\"chrX:334229:A:C\"\n",
      "23,334232,334232,C,T,\"intergenic\",\"NONE;NONE\",\"dist=NONE;dist=NONE\",.,.,\"intergenic\",\"NONE;NONE\",\"dist=NONE;dist=NONE\",.,.,\"intergenic\",\"NONE;NONE\",\"dist=NONE;dist=NONE\",.,.,\"intergenic\",\"NONE;NONE\",\"dist=NONE;dist=NONE\",.,.,.,.,.,.,.,.,.,.,.,.,.,.,.,.,.,.,.,.,.,.,.,.,.,.,.,.,.,.,.,.,.,.,.,.,.,.,.,.,.,.,.,.,.,.,.,.,.,.,.,.,.,.,.,.,.,.,.,.,.,.,.,.,.,.,.,.,.,.,.,.,.,.,.,.,.,.,.,.,.,.,.,.,.,.,.,.,.,.,.,.,.,.,.,.,.,.,.,.,.,.,.,.,.,.,.,.,.,.,.,.,\"chrX:334232:C:T\"\n",
      "23,334233,334233,G,A,\"intergenic\",\"NONE;NONE\",\"dist=NONE;dist=NONE\",.,.,\"intergenic\",\"NONE;NONE\",\"dist=NONE;dist=NONE\",.,.,\"intergenic\",\"NONE;NONE\",\"dist=NONE;dist=NONE\",.,.,\"intergenic\",\"NONE;NONE\",\"dist=NONE;dist=NONE\",.,.,.,.,.,.,.,.,.,.,.,.,.,.,.,.,.,.,.,.,.,.,.,.,.,.,.,.,.,.,.,.,.,.,.,.,.,.,.,.,.,.,.,.,.,.,.,.,.,.,.,.,.,.,.,.,.,.,.,.,.,.,.,.,.,.,.,.,.,.,.,.,.,.,.,.,.,.,.,.,.,.,.,.,.,.,.,.,.,.,.,.,.,.,.,.,.,.,.,.,.,.,.,.,.,.,.,.,.,.,.,.,\"chrX:334233:G:A\"\n",
      "23,334241,334244,GAAT,G,\"intergenic\",\"NONE;NONE\",\"dist=NONE;dist=NONE\",.,.,\"intergenic\",\"NONE;NONE\",\"dist=NONE;dist=NONE\",.,.,\"intergenic\",\"NONE;NONE\",\"dist=NONE;dist=NONE\",.,.,\"intergenic\",\"NONE;NONE\",\"dist=NONE;dist=NONE\",.,.,.,.,.,.,.,.,.,.,.,.,.,.,.,.,.,.,.,.,.,.,.,.,.,.,.,.,.,.,.,.,.,.,.,.,.,.,.,.,.,.,.,.,.,.,.,.,.,.,.,.,.,.,.,.,.,.,.,.,.,.,.,.,.,.,.,.,.,.,.,.,.,.,.,.,.,.,.,.,.,.,.,.,.,.,.,.,.,.,.,.,.,.,.,.,.,.,.,.,.,.,.,.,.,.,.,.,.,.,.,.,\"chrX:334241:GAAT:G\"\n",
      "23,334241,334245,GAATA,G,\"intergenic\",\"NONE;NONE\",\"dist=NONE;dist=NONE\",.,.,\"intergenic\",\"NONE;NONE\",\"dist=NONE;dist=NONE\",.,.,\"intergenic\",\"NONE;NONE\",\"dist=NONE;dist=NONE\",.,.,\"intergenic\",\"NONE;NONE\",\"dist=NONE;dist=NONE\",.,.,.,.,.,.,.,.,.,.,.,.,.,.,.,.,.,.,.,.,.,.,.,.,.,.,.,.,.,.,.,.,.,.,.,.,.,.,.,.,.,.,.,.,.,.,.,.,.,.,.,.,.,.,.,.,.,.,.,.,.,.,.,.,.,.,.,.,.,.,.,.,.,.,.,.,.,.,.,.,.,.,.,.,.,.,.,.,.,.,.,.,.,.,.,.,.,.,.,.,.,.,.,.,.,.,.,.,.,.,.,.,\"chrX:334241:GAATA:G\"\n",
      "23,334243,334243,A,C,\"intergenic\",\"NONE;NONE\",\"dist=NONE;dist=NONE\",.,.,\"intergenic\",\"NONE;NONE\",\"dist=NONE;dist=NONE\",.,.,\"intergenic\",\"NONE;NONE\",\"dist=NONE;dist=NONE\",.,.,\"intergenic\",\"NONE;NONE\",\"dist=NONE;dist=NONE\",.,.,.,.,.,.,.,.,.,.,.,.,.,.,.,.,.,.,.,.,.,.,.,.,.,.,.,.,.,.,.,.,.,.,.,.,.,.,.,.,.,.,.,.,.,.,.,.,.,.,.,.,.,.,.,.,.,.,.,.,.,.,.,.,.,.,.,.,.,.,.,.,.,.,.,.,.,.,.,.,.,.,.,.,.,.,.,.,.,.,.,.,.,.,.,.,.,.,.,.,.,.,.,.,.,.,.,.,.,.,.,.,\"chrX:334243:A:C\"\n"
     ]
    }
   ],
   "source": [
    "head /mnt/vast/hpc/csg/en2509/exome/BurdenTest/BurdenFiles/All_qced_exome200k.hg38.hg38_multianno.csv "
   ]
  },
  {
   "cell_type": "code",
   "execution_count": 14,
   "id": "0aa90892-03ae-4252-8c7d-c3053f877100",
   "metadata": {
    "kernel": "Python3",
    "tags": []
   },
   "outputs": [
    {
     "data": {
      "text/html": [
       "<div>\n",
       "<style scoped>\n",
       "    .dataframe tbody tr th:only-of-type {\n",
       "        vertical-align: middle;\n",
       "    }\n",
       "\n",
       "    .dataframe tbody tr th {\n",
       "        vertical-align: top;\n",
       "    }\n",
       "\n",
       "    .dataframe thead th {\n",
       "        text-align: right;\n",
       "    }\n",
       "</style>\n",
       "<table border=\"1\" class=\"dataframe\">\n",
       "  <thead>\n",
       "    <tr style=\"text-align: right;\">\n",
       "      <th></th>\n",
       "      <th>Chr</th>\n",
       "      <th>Start</th>\n",
       "      <th>End</th>\n",
       "      <th>Ref</th>\n",
       "      <th>Alt</th>\n",
       "      <th>Func.refGene</th>\n",
       "      <th>Gene.refGene</th>\n",
       "      <th>GeneDetail.refGene</th>\n",
       "      <th>ExonicFunc.refGene</th>\n",
       "      <th>AAChange.refGene</th>\n",
       "      <th>...</th>\n",
       "      <th>CLNDISDB</th>\n",
       "      <th>CLNREVSTAT</th>\n",
       "      <th>CLNSIG</th>\n",
       "      <th>DN ID</th>\n",
       "      <th>Patient ID</th>\n",
       "      <th>Phenotype</th>\n",
       "      <th>Platform</th>\n",
       "      <th>Study</th>\n",
       "      <th>Pubmed ID</th>\n",
       "      <th>Otherinfo1</th>\n",
       "    </tr>\n",
       "  </thead>\n",
       "  <tbody>\n",
       "    <tr>\n",
       "      <th>0</th>\n",
       "      <td>23</td>\n",
       "      <td>334222</td>\n",
       "      <td>334222</td>\n",
       "      <td>G</td>\n",
       "      <td>A</td>\n",
       "      <td>intergenic</td>\n",
       "      <td>NONE;NONE</td>\n",
       "      <td>dist=NONE;dist=NONE</td>\n",
       "      <td>.</td>\n",
       "      <td>.</td>\n",
       "      <td>...</td>\n",
       "      <td>.</td>\n",
       "      <td>.</td>\n",
       "      <td>.</td>\n",
       "      <td>.</td>\n",
       "      <td>.</td>\n",
       "      <td>.</td>\n",
       "      <td>.</td>\n",
       "      <td>.</td>\n",
       "      <td>.</td>\n",
       "      <td>chrX:334222:G:A</td>\n",
       "    </tr>\n",
       "    <tr>\n",
       "      <th>1</th>\n",
       "      <td>23</td>\n",
       "      <td>334223</td>\n",
       "      <td>334223</td>\n",
       "      <td>C</td>\n",
       "      <td>A</td>\n",
       "      <td>intergenic</td>\n",
       "      <td>NONE;NONE</td>\n",
       "      <td>dist=NONE;dist=NONE</td>\n",
       "      <td>.</td>\n",
       "      <td>.</td>\n",
       "      <td>...</td>\n",
       "      <td>.</td>\n",
       "      <td>.</td>\n",
       "      <td>.</td>\n",
       "      <td>.</td>\n",
       "      <td>.</td>\n",
       "      <td>.</td>\n",
       "      <td>.</td>\n",
       "      <td>.</td>\n",
       "      <td>.</td>\n",
       "      <td>chrX:334223:C:A</td>\n",
       "    </tr>\n",
       "    <tr>\n",
       "      <th>2</th>\n",
       "      <td>23</td>\n",
       "      <td>334224</td>\n",
       "      <td>334224</td>\n",
       "      <td>A</td>\n",
       "      <td>G</td>\n",
       "      <td>intergenic</td>\n",
       "      <td>NONE;NONE</td>\n",
       "      <td>dist=NONE;dist=NONE</td>\n",
       "      <td>.</td>\n",
       "      <td>.</td>\n",
       "      <td>...</td>\n",
       "      <td>.</td>\n",
       "      <td>.</td>\n",
       "      <td>.</td>\n",
       "      <td>.</td>\n",
       "      <td>.</td>\n",
       "      <td>.</td>\n",
       "      <td>.</td>\n",
       "      <td>.</td>\n",
       "      <td>.</td>\n",
       "      <td>chrX:334224:A:G</td>\n",
       "    </tr>\n",
       "    <tr>\n",
       "      <th>3</th>\n",
       "      <td>23</td>\n",
       "      <td>334229</td>\n",
       "      <td>334229</td>\n",
       "      <td>A</td>\n",
       "      <td>C</td>\n",
       "      <td>intergenic</td>\n",
       "      <td>NONE;NONE</td>\n",
       "      <td>dist=NONE;dist=NONE</td>\n",
       "      <td>.</td>\n",
       "      <td>.</td>\n",
       "      <td>...</td>\n",
       "      <td>.</td>\n",
       "      <td>.</td>\n",
       "      <td>.</td>\n",
       "      <td>.</td>\n",
       "      <td>.</td>\n",
       "      <td>.</td>\n",
       "      <td>.</td>\n",
       "      <td>.</td>\n",
       "      <td>.</td>\n",
       "      <td>chrX:334229:A:C</td>\n",
       "    </tr>\n",
       "    <tr>\n",
       "      <th>4</th>\n",
       "      <td>23</td>\n",
       "      <td>334232</td>\n",
       "      <td>334232</td>\n",
       "      <td>C</td>\n",
       "      <td>T</td>\n",
       "      <td>intergenic</td>\n",
       "      <td>NONE;NONE</td>\n",
       "      <td>dist=NONE;dist=NONE</td>\n",
       "      <td>.</td>\n",
       "      <td>.</td>\n",
       "      <td>...</td>\n",
       "      <td>.</td>\n",
       "      <td>.</td>\n",
       "      <td>.</td>\n",
       "      <td>.</td>\n",
       "      <td>.</td>\n",
       "      <td>.</td>\n",
       "      <td>.</td>\n",
       "      <td>.</td>\n",
       "      <td>.</td>\n",
       "      <td>chrX:334232:C:T</td>\n",
       "    </tr>\n",
       "    <tr>\n",
       "      <th>...</th>\n",
       "      <td>...</td>\n",
       "      <td>...</td>\n",
       "      <td>...</td>\n",
       "      <td>...</td>\n",
       "      <td>...</td>\n",
       "      <td>...</td>\n",
       "      <td>...</td>\n",
       "      <td>...</td>\n",
       "      <td>...</td>\n",
       "      <td>...</td>\n",
       "      <td>...</td>\n",
       "      <td>...</td>\n",
       "      <td>...</td>\n",
       "      <td>...</td>\n",
       "      <td>...</td>\n",
       "      <td>...</td>\n",
       "      <td>...</td>\n",
       "      <td>...</td>\n",
       "      <td>...</td>\n",
       "      <td>...</td>\n",
       "      <td>...</td>\n",
       "    </tr>\n",
       "    <tr>\n",
       "      <th>294835</th>\n",
       "      <td>23</td>\n",
       "      <td>155774815</td>\n",
       "      <td>155774815</td>\n",
       "      <td>G</td>\n",
       "      <td>C</td>\n",
       "      <td>intergenic</td>\n",
       "      <td>NONE;NONE</td>\n",
       "      <td>dist=NONE;dist=NONE</td>\n",
       "      <td>.</td>\n",
       "      <td>.</td>\n",
       "      <td>...</td>\n",
       "      <td>.</td>\n",
       "      <td>.</td>\n",
       "      <td>.</td>\n",
       "      <td>.</td>\n",
       "      <td>.</td>\n",
       "      <td>.</td>\n",
       "      <td>.</td>\n",
       "      <td>.</td>\n",
       "      <td>.</td>\n",
       "      <td>chrX:155774815:G:C</td>\n",
       "    </tr>\n",
       "    <tr>\n",
       "      <th>294836</th>\n",
       "      <td>23</td>\n",
       "      <td>155774816</td>\n",
       "      <td>155774816</td>\n",
       "      <td>G</td>\n",
       "      <td>A</td>\n",
       "      <td>intergenic</td>\n",
       "      <td>NONE;NONE</td>\n",
       "      <td>dist=NONE;dist=NONE</td>\n",
       "      <td>.</td>\n",
       "      <td>.</td>\n",
       "      <td>...</td>\n",
       "      <td>.</td>\n",
       "      <td>.</td>\n",
       "      <td>.</td>\n",
       "      <td>.</td>\n",
       "      <td>.</td>\n",
       "      <td>.</td>\n",
       "      <td>.</td>\n",
       "      <td>.</td>\n",
       "      <td>.</td>\n",
       "      <td>chrX:155774816:G:A</td>\n",
       "    </tr>\n",
       "    <tr>\n",
       "      <th>294837</th>\n",
       "      <td>23</td>\n",
       "      <td>155774828</td>\n",
       "      <td>155774828</td>\n",
       "      <td>A</td>\n",
       "      <td>G</td>\n",
       "      <td>intergenic</td>\n",
       "      <td>NONE;NONE</td>\n",
       "      <td>dist=NONE;dist=NONE</td>\n",
       "      <td>.</td>\n",
       "      <td>.</td>\n",
       "      <td>...</td>\n",
       "      <td>.</td>\n",
       "      <td>.</td>\n",
       "      <td>.</td>\n",
       "      <td>.</td>\n",
       "      <td>.</td>\n",
       "      <td>.</td>\n",
       "      <td>.</td>\n",
       "      <td>.</td>\n",
       "      <td>.</td>\n",
       "      <td>chrX:155774828:A:G</td>\n",
       "    </tr>\n",
       "    <tr>\n",
       "      <th>294838</th>\n",
       "      <td>23</td>\n",
       "      <td>155774836</td>\n",
       "      <td>155774836</td>\n",
       "      <td>C</td>\n",
       "      <td>G</td>\n",
       "      <td>intergenic</td>\n",
       "      <td>NONE;NONE</td>\n",
       "      <td>dist=NONE;dist=NONE</td>\n",
       "      <td>.</td>\n",
       "      <td>.</td>\n",
       "      <td>...</td>\n",
       "      <td>.</td>\n",
       "      <td>.</td>\n",
       "      <td>.</td>\n",
       "      <td>.</td>\n",
       "      <td>.</td>\n",
       "      <td>.</td>\n",
       "      <td>.</td>\n",
       "      <td>.</td>\n",
       "      <td>.</td>\n",
       "      <td>chrX:155774836:C:G</td>\n",
       "    </tr>\n",
       "    <tr>\n",
       "      <th>294839</th>\n",
       "      <td>23</td>\n",
       "      <td>155774837</td>\n",
       "      <td>155774837</td>\n",
       "      <td>A</td>\n",
       "      <td>G</td>\n",
       "      <td>intergenic</td>\n",
       "      <td>NONE;NONE</td>\n",
       "      <td>dist=NONE;dist=NONE</td>\n",
       "      <td>.</td>\n",
       "      <td>.</td>\n",
       "      <td>...</td>\n",
       "      <td>.</td>\n",
       "      <td>.</td>\n",
       "      <td>.</td>\n",
       "      <td>.</td>\n",
       "      <td>.</td>\n",
       "      <td>.</td>\n",
       "      <td>.</td>\n",
       "      <td>.</td>\n",
       "      <td>.</td>\n",
       "      <td>chrX:155774837:A:G</td>\n",
       "    </tr>\n",
       "  </tbody>\n",
       "</table>\n",
       "<p>294840 rows × 136 columns</p>\n",
       "</div>"
      ],
      "text/plain": [
       "       Chr      Start        End Ref Alt Func.refGene Gene.refGene  \\\n",
       "0       23     334222     334222   G   A   intergenic    NONE;NONE   \n",
       "1       23     334223     334223   C   A   intergenic    NONE;NONE   \n",
       "2       23     334224     334224   A   G   intergenic    NONE;NONE   \n",
       "3       23     334229     334229   A   C   intergenic    NONE;NONE   \n",
       "4       23     334232     334232   C   T   intergenic    NONE;NONE   \n",
       "...     ..        ...        ...  ..  ..          ...          ...   \n",
       "294835  23  155774815  155774815   G   C   intergenic    NONE;NONE   \n",
       "294836  23  155774816  155774816   G   A   intergenic    NONE;NONE   \n",
       "294837  23  155774828  155774828   A   G   intergenic    NONE;NONE   \n",
       "294838  23  155774836  155774836   C   G   intergenic    NONE;NONE   \n",
       "294839  23  155774837  155774837   A   G   intergenic    NONE;NONE   \n",
       "\n",
       "         GeneDetail.refGene ExonicFunc.refGene AAChange.refGene  ... CLNDISDB  \\\n",
       "0       dist=NONE;dist=NONE                  .                .  ...        .   \n",
       "1       dist=NONE;dist=NONE                  .                .  ...        .   \n",
       "2       dist=NONE;dist=NONE                  .                .  ...        .   \n",
       "3       dist=NONE;dist=NONE                  .                .  ...        .   \n",
       "4       dist=NONE;dist=NONE                  .                .  ...        .   \n",
       "...                     ...                ...              ...  ...      ...   \n",
       "294835  dist=NONE;dist=NONE                  .                .  ...        .   \n",
       "294836  dist=NONE;dist=NONE                  .                .  ...        .   \n",
       "294837  dist=NONE;dist=NONE                  .                .  ...        .   \n",
       "294838  dist=NONE;dist=NONE                  .                .  ...        .   \n",
       "294839  dist=NONE;dist=NONE                  .                .  ...        .   \n",
       "\n",
       "       CLNREVSTAT CLNSIG DN ID Patient ID Phenotype Platform Study Pubmed ID  \\\n",
       "0               .      .     .          .         .        .     .         .   \n",
       "1               .      .     .          .         .        .     .         .   \n",
       "2               .      .     .          .         .        .     .         .   \n",
       "3               .      .     .          .         .        .     .         .   \n",
       "4               .      .     .          .         .        .     .         .   \n",
       "...           ...    ...   ...        ...       ...      ...   ...       ...   \n",
       "294835          .      .     .          .         .        .     .         .   \n",
       "294836          .      .     .          .         .        .     .         .   \n",
       "294837          .      .     .          .         .        .     .         .   \n",
       "294838          .      .     .          .         .        .     .         .   \n",
       "294839          .      .     .          .         .        .     .         .   \n",
       "\n",
       "                Otherinfo1  \n",
       "0          chrX:334222:G:A  \n",
       "1          chrX:334223:C:A  \n",
       "2          chrX:334224:A:G  \n",
       "3          chrX:334229:A:C  \n",
       "4          chrX:334232:C:T  \n",
       "...                    ...  \n",
       "294835  chrX:155774815:G:C  \n",
       "294836  chrX:155774816:G:A  \n",
       "294837  chrX:155774828:A:G  \n",
       "294838  chrX:155774836:C:G  \n",
       "294839  chrX:155774837:A:G  \n",
       "\n",
       "[294840 rows x 136 columns]"
      ]
     },
     "execution_count": 14,
     "metadata": {},
     "output_type": "execute_result"
    }
   ],
   "source": [
    "import pandas as pd\n",
    "df = pd.read_csv('/mnt/vast/hpc/csg/en2509/exome/BurdenTest/BurdenFiles/All_qced_exome200k.hg38.hg38_multianno.csv', header=0, dtype='string', index_col=False)\n",
    "df"
   ]
  },
  {
   "cell_type": "code",
   "execution_count": 11,
   "id": "886afebb-9bde-48ce-8f19-dd1b4535c53b",
   "metadata": {
    "kernel": "Python3"
   },
   "outputs": [
    {
     "data": {
      "text/plain": [
       "23    294840\n",
       "Name: Chr, dtype: Int64"
      ]
     },
     "execution_count": 11,
     "metadata": {},
     "output_type": "execute_result"
    }
   ],
   "source": [
    "df[\"Chr\"].value_counts()"
   ]
  },
  {
   "cell_type": "code",
   "execution_count": 15,
   "id": "92d43cb6-f7d9-4c44-a4a1-021f31a83818",
   "metadata": {
    "kernel": "Python3"
   },
   "outputs": [
    {
     "data": {
      "text/plain": [
       "X    294840\n",
       "Name: Chr, dtype: Int64"
      ]
     },
     "execution_count": 15,
     "metadata": {},
     "output_type": "execute_result"
    }
   ],
   "source": [
    "df.loc[df[\"Chr\"]==\"23\",\"Chr\"]=\"X\"\n",
    "df[\"Chr\"].value_counts()"
   ]
  },
  {
   "cell_type": "code",
   "execution_count": 17,
   "id": "9d627357-114a-4614-b23d-9cc1e9ba830c",
   "metadata": {
    "kernel": "Python3"
   },
   "outputs": [],
   "source": [
    "df.to_csv(\"/mnt/vast/hpc/csg/en2509/exome/BurdenTest/BurdenFiles/All_qced_exome200k.rename_chrX.hg38.hg38_multianno.csv\",index=False)"
   ]
  },
  {
   "cell_type": "code",
   "execution_count": 18,
   "id": "53bbf59f-b1f2-42f0-aff5-204af4e6c663",
   "metadata": {
    "kernel": "Bash",
    "tags": []
   },
   "outputs": [],
   "source": [
    "gzip -k /mnt/vast/hpc/csg/en2509/exome/BurdenTest/BurdenFiles/All_qced_exome200k.rename_chrX.hg38.hg38_multianno.csv"
   ]
  },
  {
   "cell_type": "code",
   "execution_count": null,
   "id": "427457df-7f08-46a8-b5a7-43bafcf06fbb",
   "metadata": {
    "kernel": "Bash"
   },
   "outputs": [],
   "source": []
  },
  {
   "cell_type": "markdown",
   "id": "5bfd2200-ef13-4d59-8bc8-4d5be921f307",
   "metadata": {
    "kernel": "Bash"
   },
   "source": [
    "## Error: no masks are left to be included in the analysis"
   ]
  },
  {
   "cell_type": "code",
   "execution_count": 20,
   "id": "6a0c7005-916a-4d46-833c-9767e3ce3337",
   "metadata": {
    "kernel": "Python3",
    "tags": []
   },
   "outputs": [
    {
     "data": {
      "text/html": [
       "<div>\n",
       "<style scoped>\n",
       "    .dataframe tbody tr th:only-of-type {\n",
       "        vertical-align: middle;\n",
       "    }\n",
       "\n",
       "    .dataframe tbody tr th {\n",
       "        vertical-align: top;\n",
       "    }\n",
       "\n",
       "    .dataframe thead th {\n",
       "        text-align: right;\n",
       "    }\n",
       "</style>\n",
       "<table border=\"1\" class=\"dataframe\">\n",
       "  <thead>\n",
       "    <tr style=\"text-align: right;\">\n",
       "      <th></th>\n",
       "      <th>0</th>\n",
       "      <th>1</th>\n",
       "      <th>2</th>\n",
       "    </tr>\n",
       "  </thead>\n",
       "  <tbody>\n",
       "    <tr>\n",
       "      <th>0</th>\n",
       "      <td>chrX:334222:G:A</td>\n",
       "      <td>NONE</td>\n",
       "      <td>other</td>\n",
       "    </tr>\n",
       "    <tr>\n",
       "      <th>1</th>\n",
       "      <td>chrX:334223:C:A</td>\n",
       "      <td>NONE</td>\n",
       "      <td>other</td>\n",
       "    </tr>\n",
       "    <tr>\n",
       "      <th>2</th>\n",
       "      <td>chrX:334224:A:G</td>\n",
       "      <td>NONE</td>\n",
       "      <td>other</td>\n",
       "    </tr>\n",
       "    <tr>\n",
       "      <th>3</th>\n",
       "      <td>chrX:334229:A:C</td>\n",
       "      <td>NONE</td>\n",
       "      <td>other</td>\n",
       "    </tr>\n",
       "    <tr>\n",
       "      <th>4</th>\n",
       "      <td>chrX:334232:C:T</td>\n",
       "      <td>NONE</td>\n",
       "      <td>other</td>\n",
       "    </tr>\n",
       "    <tr>\n",
       "      <th>...</th>\n",
       "      <td>...</td>\n",
       "      <td>...</td>\n",
       "      <td>...</td>\n",
       "    </tr>\n",
       "    <tr>\n",
       "      <th>294817</th>\n",
       "      <td>chrX:155774815:G:C</td>\n",
       "      <td>NONE</td>\n",
       "      <td>other</td>\n",
       "    </tr>\n",
       "    <tr>\n",
       "      <th>294818</th>\n",
       "      <td>chrX:155774816:G:A</td>\n",
       "      <td>NONE</td>\n",
       "      <td>other</td>\n",
       "    </tr>\n",
       "    <tr>\n",
       "      <th>294819</th>\n",
       "      <td>chrX:155774828:A:G</td>\n",
       "      <td>NONE</td>\n",
       "      <td>other</td>\n",
       "    </tr>\n",
       "    <tr>\n",
       "      <th>294820</th>\n",
       "      <td>chrX:155774836:C:G</td>\n",
       "      <td>NONE</td>\n",
       "      <td>other</td>\n",
       "    </tr>\n",
       "    <tr>\n",
       "      <th>294821</th>\n",
       "      <td>chrX:155774837:A:G</td>\n",
       "      <td>NONE</td>\n",
       "      <td>other</td>\n",
       "    </tr>\n",
       "  </tbody>\n",
       "</table>\n",
       "<p>294822 rows × 3 columns</p>\n",
       "</div>"
      ],
      "text/plain": [
       "                         0     1      2\n",
       "0          chrX:334222:G:A  NONE  other\n",
       "1          chrX:334223:C:A  NONE  other\n",
       "2          chrX:334224:A:G  NONE  other\n",
       "3          chrX:334229:A:C  NONE  other\n",
       "4          chrX:334232:C:T  NONE  other\n",
       "...                    ...   ...    ...\n",
       "294817  chrX:155774815:G:C  NONE  other\n",
       "294818  chrX:155774816:G:A  NONE  other\n",
       "294819  chrX:155774828:A:G  NONE  other\n",
       "294820  chrX:155774836:C:G  NONE  other\n",
       "294821  chrX:155774837:A:G  NONE  other\n",
       "\n",
       "[294822 rows x 3 columns]"
      ]
     },
     "execution_count": 20,
     "metadata": {},
     "output_type": "execute_result"
    }
   ],
   "source": [
    "import pandas as pd\n",
    "df = pd.read_csv('/mnt/vast/hpc/csg/en2509/exome/BurdenTest/BurdenFiles/All_qced_exome200k.hg38.hg38_multianno.csv.anno_file', header=None, sep=\" \")\n",
    "df"
   ]
  },
  {
   "cell_type": "code",
   "execution_count": 22,
   "id": "c2df0eca-57ad-40d8-a880-9d9051da471b",
   "metadata": {
    "kernel": "Python3"
   },
   "outputs": [
    {
     "data": {
      "text/plain": [
       "other    294822\n",
       "Name: 2, dtype: int64"
      ]
     },
     "execution_count": 22,
     "metadata": {},
     "output_type": "execute_result"
    }
   ],
   "source": [
    "df[2].value_counts()"
   ]
  },
  {
   "cell_type": "code",
   "execution_count": 23,
   "id": "2dc60ee3-4bb2-45e4-8f97-e837eabdd791",
   "metadata": {
    "kernel": "Python3"
   },
   "outputs": [
    {
     "data": {
      "text/plain": [
       "NONE    294814\n",
       ".            8\n",
       "Name: 1, dtype: int64"
      ]
     },
     "execution_count": 23,
     "metadata": {},
     "output_type": "execute_result"
    }
   ],
   "source": [
    "df[1].value_counts()"
   ]
  },
  {
   "cell_type": "markdown",
   "id": "e01b44f4-45c9-4452-9aef-70f7b4f5d960",
   "metadata": {
    "kernel": "Bash",
    "tags": []
   },
   "source": [
    "There's no gene annotation as well"
   ]
  },
  {
   "cell_type": "markdown",
   "id": "721e3868-201a-4db9-91a2-d73fec273a3c",
   "metadata": {
    "kernel": "Bash"
   },
   "source": [
    "## Change the 23 to X in bim file"
   ]
  },
  {
   "cell_type": "code",
   "execution_count": 2,
   "id": "6267b5c5-e7f9-413d-aa07-5eede29c0302",
   "metadata": {
    "kernel": "Python3",
    "tags": []
   },
   "outputs": [
    {
     "data": {
      "text/html": [
       "<div>\n",
       "<style scoped>\n",
       "    .dataframe tbody tr th:only-of-type {\n",
       "        vertical-align: middle;\n",
       "    }\n",
       "\n",
       "    .dataframe tbody tr th {\n",
       "        vertical-align: top;\n",
       "    }\n",
       "\n",
       "    .dataframe thead th {\n",
       "        text-align: right;\n",
       "    }\n",
       "</style>\n",
       "<table border=\"1\" class=\"dataframe\">\n",
       "  <thead>\n",
       "    <tr style=\"text-align: right;\">\n",
       "      <th></th>\n",
       "      <th>0</th>\n",
       "      <th>1</th>\n",
       "      <th>2</th>\n",
       "      <th>3</th>\n",
       "      <th>4</th>\n",
       "      <th>5</th>\n",
       "    </tr>\n",
       "  </thead>\n",
       "  <tbody>\n",
       "    <tr>\n",
       "      <th>0</th>\n",
       "      <td>23</td>\n",
       "      <td>chrX:334222:G:A</td>\n",
       "      <td>0</td>\n",
       "      <td>334222</td>\n",
       "      <td>A</td>\n",
       "      <td>G</td>\n",
       "    </tr>\n",
       "    <tr>\n",
       "      <th>1</th>\n",
       "      <td>23</td>\n",
       "      <td>chrX:334223:C:A</td>\n",
       "      <td>0</td>\n",
       "      <td>334223</td>\n",
       "      <td>A</td>\n",
       "      <td>C</td>\n",
       "    </tr>\n",
       "    <tr>\n",
       "      <th>2</th>\n",
       "      <td>23</td>\n",
       "      <td>chrX:334224:A:G</td>\n",
       "      <td>0</td>\n",
       "      <td>334224</td>\n",
       "      <td>G</td>\n",
       "      <td>A</td>\n",
       "    </tr>\n",
       "    <tr>\n",
       "      <th>3</th>\n",
       "      <td>23</td>\n",
       "      <td>chrX:334229:A:C</td>\n",
       "      <td>0</td>\n",
       "      <td>334229</td>\n",
       "      <td>C</td>\n",
       "      <td>A</td>\n",
       "    </tr>\n",
       "    <tr>\n",
       "      <th>4</th>\n",
       "      <td>23</td>\n",
       "      <td>chrX:334232:C:T</td>\n",
       "      <td>0</td>\n",
       "      <td>334232</td>\n",
       "      <td>T</td>\n",
       "      <td>C</td>\n",
       "    </tr>\n",
       "    <tr>\n",
       "      <th>...</th>\n",
       "      <td>...</td>\n",
       "      <td>...</td>\n",
       "      <td>...</td>\n",
       "      <td>...</td>\n",
       "      <td>...</td>\n",
       "      <td>...</td>\n",
       "    </tr>\n",
       "    <tr>\n",
       "      <th>294835</th>\n",
       "      <td>23</td>\n",
       "      <td>chrX:155774815:G:C</td>\n",
       "      <td>0</td>\n",
       "      <td>155774815</td>\n",
       "      <td>C</td>\n",
       "      <td>G</td>\n",
       "    </tr>\n",
       "    <tr>\n",
       "      <th>294836</th>\n",
       "      <td>23</td>\n",
       "      <td>chrX:155774816:G:A</td>\n",
       "      <td>0</td>\n",
       "      <td>155774816</td>\n",
       "      <td>A</td>\n",
       "      <td>G</td>\n",
       "    </tr>\n",
       "    <tr>\n",
       "      <th>294837</th>\n",
       "      <td>23</td>\n",
       "      <td>chrX:155774828:A:G</td>\n",
       "      <td>0</td>\n",
       "      <td>155774828</td>\n",
       "      <td>G</td>\n",
       "      <td>A</td>\n",
       "    </tr>\n",
       "    <tr>\n",
       "      <th>294838</th>\n",
       "      <td>23</td>\n",
       "      <td>chrX:155774836:C:G</td>\n",
       "      <td>0</td>\n",
       "      <td>155774836</td>\n",
       "      <td>G</td>\n",
       "      <td>C</td>\n",
       "    </tr>\n",
       "    <tr>\n",
       "      <th>294839</th>\n",
       "      <td>23</td>\n",
       "      <td>chrX:155774837:A:G</td>\n",
       "      <td>0</td>\n",
       "      <td>155774837</td>\n",
       "      <td>G</td>\n",
       "      <td>A</td>\n",
       "    </tr>\n",
       "  </tbody>\n",
       "</table>\n",
       "<p>294840 rows × 6 columns</p>\n",
       "</div>"
      ],
      "text/plain": [
       "         0                   1  2          3  4  5\n",
       "0       23     chrX:334222:G:A  0     334222  A  G\n",
       "1       23     chrX:334223:C:A  0     334223  A  C\n",
       "2       23     chrX:334224:A:G  0     334224  G  A\n",
       "3       23     chrX:334229:A:C  0     334229  C  A\n",
       "4       23     chrX:334232:C:T  0     334232  T  C\n",
       "...     ..                 ... ..        ... .. ..\n",
       "294835  23  chrX:155774815:G:C  0  155774815  C  G\n",
       "294836  23  chrX:155774816:G:A  0  155774816  A  G\n",
       "294837  23  chrX:155774828:A:G  0  155774828  G  A\n",
       "294838  23  chrX:155774836:C:G  0  155774836  G  C\n",
       "294839  23  chrX:155774837:A:G  0  155774837  G  A\n",
       "\n",
       "[294840 rows x 6 columns]"
      ]
     },
     "execution_count": 2,
     "metadata": {},
     "output_type": "execute_result"
    }
   ],
   "source": [
    "import pandas as pd\n",
    "bim = pd.read_csv('/mnt/vast/hpc/csg/en2509/exome/All_qced_exome200k.bim', header=None, sep=\"\\t\")\n",
    "bim"
   ]
  },
  {
   "cell_type": "code",
   "execution_count": 3,
   "id": "01274285-5b08-48e7-9efb-d1b2f7b5d229",
   "metadata": {
    "kernel": "Python3",
    "tags": []
   },
   "outputs": [
    {
     "data": {
      "text/plain": [
       "23    294840\n",
       "Name: 0, dtype: int64"
      ]
     },
     "execution_count": 3,
     "metadata": {},
     "output_type": "execute_result"
    }
   ],
   "source": [
    "bim[0].value_counts()"
   ]
  },
  {
   "cell_type": "code",
   "execution_count": 4,
   "id": "dcc01252-c6e2-450e-a90c-c41181124180",
   "metadata": {
    "kernel": "Python3",
    "tags": []
   },
   "outputs": [
    {
     "data": {
      "text/plain": [
       "X    294840\n",
       "Name: 0, dtype: int64"
      ]
     },
     "execution_count": 4,
     "metadata": {},
     "output_type": "execute_result"
    }
   ],
   "source": [
    "bim[0]=\"X\"\n",
    "bim[0].value_counts()"
   ]
  },
  {
   "cell_type": "code",
   "execution_count": 5,
   "id": "fd148393-bc1d-4464-9ad4-dfea4aaea647",
   "metadata": {
    "kernel": "Python3"
   },
   "outputs": [],
   "source": [
    "bim.to_csv(\"/mnt/vast/hpc/csg/en2509/exome/BurdenTest/BurdenFiles/All_qced_exome200k_rename_chrX.bim\",index=False,header=False,sep=\"\\t\")"
   ]
  },
  {
   "cell_type": "markdown",
   "id": "6ec15835-fd1d-45e4-83e0-27528cceeb94",
   "metadata": {
    "kernel": "Python3"
   },
   "source": [
    "Change the title from\n",
    "\n",
    "```\n",
    "Chr,Start,End,Ref,Alt,Func.refGene,Gene.refGene,GeneDetail.refGene,ExonicFunc.refGene,AAChange.refGene,Func.refGeneWithVer,Gene.refGeneWithVer,GeneDetail.refGeneWithVer,ExonicFunc.refGeneWithVer,AAChange.refGeneWithVer,Func.knownGene,Gene.knownGene,GeneDetail.knownGene,ExonicFunc.knownGene,AAChange.knownGene,Func.ensGene,Gene.ensGene,GeneDetail.ensGene,ExonicFunc.ensGene,AAChange.ensGene,Xref.ensGene,phastConsElements30way,encRegTfbsClustered,gwasCatalog,AF,AF_raw,AF_male,AF_female,AF_afr,AF_ami,AF_amr,AF_asj,AF_eas,AF_fin,AF_nfe,AF_oth,AF_sas,AF,AF_popmax,AF_male,AF_female,AF_raw,AF_afr,AF_sas,AF_amr,AF_eas,AF_nfe,AF_fin,AF_asj,AF_oth,non_topmed_AF_popmax,non_neuro_AF_popmax,non_cancer_AF_popmax,controls_AF_popmax,GME_AF,GME_NWA,GME_NEA,GME_AP,GME_Israel,GME_SD,GME_TP,GME_CA,Kaviar_AF,Kaviar_AC,Kaviar_AN,avsnp150,DamagePredCount,SIFT_pred,SIFT4G_pred,Polyphen2_HDIV_pred,Polyphen2_HVAR_pred,LRT_pred,MutationTaster_pred,MutationAssessor_pred,FATHMM_pred,PROVEAN_pred,VEST4_score,MetaSVM_pred,MetaLR_pred,M-CAP_pred,REVEL_score,MutPred_score,MVP_score,MPC_score,PrimateAI_pred,DEOGEN2_pred,BayesDel_addAF_pred,BayesDel_noAF_pred,ClinPred_pred,LIST-S2_pred,CADD_raw,CADD_phred,DANN_score,fathmm-MKL_coding_pred,fathmm-XF_coding_pred,Eigen-raw_coding,Eigen-phred_coding,Eigen-PC-raw_coding,Eigen-PC-phred_coding,GenoCanyon_score,integrated_fitCons_score,GM12878_fitCons_score,H1-hESC_fitCons_score,HUVEC_fitCons_score,LINSIGHT,GERP++_NR,GERP++_RS,phyloP100way_vertebrate,phyloP30way_mammalian,phyloP17way_primate,phastCons100way_vertebrate,phastCons30way_mammalian,phastCons17way_primate,bStatistic,Interpro_domain,GTEx_V8_gene,GTEx_V8_tissue,dbscSNV_ADA_SCORE,dbscSNV_RF_SCORE,CLNALLELEID,CLNDN,CLNDISDB,CLNREVSTAT,CLNSIG,DN ID,Patient ID,Phenotype,Platform,Study,Pubmed ID,Otherinfo1\n",
    "```\n",
    "\n",
    "```\n",
    "Chr,Start,End,Ref,Alt,Func.refGene,Gene.refGene,GeneDetail.refGene,ExonicFunc.refGene,AAChange.refGene,Func.refGeneWithVer,Gene.refGeneWithVer,GeneDetail.refGeneWithVer,ExonicFunc.refGeneWithVer,AAChange.refGeneWithVer,Func.knownGene,Gene.knownGene,GeneDetail.knownGene,ExonicFunc.knownGene,AAChange.knownGene,Func.ensGene,Gene.ensGene,GeneDetail.ensGene,ExonicFunc.ensGene,AAChange.ensGene,Xref.ensGene,phastConsElements30way,encRegTfbsClustered,gwasCatalog,AF,AF_raw,AF_male,AF_female,AF_afr,AF_ami,AF_amr,AF_asj,AF_eas,AF_fin,AF_nfe,AF_oth,AF_sas,AF_exome,AF_popmax_exome,AF_male_exome,AF_female_exome,AF_raw_exome,AF_afr_exome,AF_sas_exome,AF_amr_exome,AF_eas_exome,AF_nfe_exome,AF_fin_exome,AF_asj_exome,AF_oth_exome,non_topmed_AF_popmax,non_neuro_AF_popmax,non_cancer_AF_popmax,controls_AF_popmax,GME_AF,GME_NWA,GME_NEA,GME_AP,GME_Israel,GME_SD,GME_TP,GME_CA,Kaviar_AF,Kaviar_AC,Kaviar_AN,avsnp150,DamagePredCount,SIFT_pred,SIFT4G_pred,Polyphen2_HDIV_pred,Polyphen2_HVAR_pred,LRT_pred,MutationTaster_pred,MutationAssessor_pred,FATHMM_pred,PROVEAN_pred,VEST4_score,MetaSVM_pred,MetaLR_pred,M-CAP_pred,REVEL_score,MutPred_score,MVP_score,MPC_score,PrimateAI_pred,DEOGEN2_pred,BayesDel_addAF_pred,BayesDel_noAF_pred,ClinPred_pred,LIST-S2_pred,CADD_raw,CADD_phred,DANN_score,fathmm-MKL_coding_pred,fathmm-XF_coding_pred,Eigen-raw_coding,Eigen-phred_coding,Eigen-PC-raw_coding,Eigen-PC-phred_coding,GenoCanyon_score,integrated_fitCons_score,GM12878_fitCons_score,H1-hESC_fitCons_score,HUVEC_fitCons_score,LINSIGHT,GERP++_NR,GERP++_RS,phyloP100way_vertebrate,phyloP30way_mammalian,phyloP17way_primate,phastCons100way_vertebrate,phastCons30way_mammalian,phastCons17way_primate,bStatistic,Interpro_domain,GTEx_V8_gene,GTEx_V8_tissue,dbscSNV_ADA_SCORE,dbscSNV_RF_SCORE,CLNALLELEID,CLNDN,CLNDISDB,CLNREVSTAT,CLNSIG,DN ID,Patient ID,Phenotype,Platform,Study,Pubmed ID,Otherinfo1\n",
    "```"
   ]
  },
  {
   "cell_type": "code",
   "execution_count": 8,
   "id": "b6b445bc-6fe2-4a7a-bb39-a6212eaa8b98",
   "metadata": {
    "kernel": "Bash",
    "tags": []
   },
   "outputs": [],
   "source": [
    "gzip -k /mnt/vast/hpc/csg/en2509/exome/BurdenTest/BurdenFiles/All_qced_exome200k_rename_chrX.hg38.hg38_multianno.csv"
   ]
  },
  {
   "cell_type": "code",
   "execution_count": 9,
   "id": "80662793-a8c1-4936-a8f8-3cfe6933a631",
   "metadata": {
    "kernel": "Python3",
    "tags": []
   },
   "outputs": [
    {
     "data": {
      "text/html": [
       "<div>\n",
       "<style scoped>\n",
       "    .dataframe tbody tr th:only-of-type {\n",
       "        vertical-align: middle;\n",
       "    }\n",
       "\n",
       "    .dataframe tbody tr th {\n",
       "        vertical-align: top;\n",
       "    }\n",
       "\n",
       "    .dataframe thead th {\n",
       "        text-align: right;\n",
       "    }\n",
       "</style>\n",
       "<table border=\"1\" class=\"dataframe\">\n",
       "  <thead>\n",
       "    <tr style=\"text-align: right;\">\n",
       "      <th></th>\n",
       "      <th>0</th>\n",
       "      <th>1</th>\n",
       "      <th>2</th>\n",
       "    </tr>\n",
       "  </thead>\n",
       "  <tbody>\n",
       "    <tr>\n",
       "      <th>0</th>\n",
       "      <td>chrX:334222:G:A</td>\n",
       "      <td>PPP2R3B</td>\n",
       "      <td>other</td>\n",
       "    </tr>\n",
       "    <tr>\n",
       "      <th>1</th>\n",
       "      <td>chrX:334223:C:A</td>\n",
       "      <td>PPP2R3B</td>\n",
       "      <td>other</td>\n",
       "    </tr>\n",
       "    <tr>\n",
       "      <th>2</th>\n",
       "      <td>chrX:334224:A:G</td>\n",
       "      <td>PPP2R3B</td>\n",
       "      <td>other</td>\n",
       "    </tr>\n",
       "    <tr>\n",
       "      <th>3</th>\n",
       "      <td>chrX:334229:A:C</td>\n",
       "      <td>PPP2R3B</td>\n",
       "      <td>other</td>\n",
       "    </tr>\n",
       "    <tr>\n",
       "      <th>4</th>\n",
       "      <td>chrX:334232:C:T</td>\n",
       "      <td>PPP2R3B</td>\n",
       "      <td>other</td>\n",
       "    </tr>\n",
       "    <tr>\n",
       "      <th>...</th>\n",
       "      <td>...</td>\n",
       "      <td>...</td>\n",
       "      <td>...</td>\n",
       "    </tr>\n",
       "    <tr>\n",
       "      <th>294817</th>\n",
       "      <td>chrX:155774815:G:C</td>\n",
       "      <td>SPRY3</td>\n",
       "      <td>other</td>\n",
       "    </tr>\n",
       "    <tr>\n",
       "      <th>294818</th>\n",
       "      <td>chrX:155774816:G:A</td>\n",
       "      <td>SPRY3</td>\n",
       "      <td>other</td>\n",
       "    </tr>\n",
       "    <tr>\n",
       "      <th>294819</th>\n",
       "      <td>chrX:155774828:A:G</td>\n",
       "      <td>SPRY3</td>\n",
       "      <td>other</td>\n",
       "    </tr>\n",
       "    <tr>\n",
       "      <th>294820</th>\n",
       "      <td>chrX:155774836:C:G</td>\n",
       "      <td>SPRY3</td>\n",
       "      <td>other</td>\n",
       "    </tr>\n",
       "    <tr>\n",
       "      <th>294821</th>\n",
       "      <td>chrX:155774837:A:G</td>\n",
       "      <td>SPRY3</td>\n",
       "      <td>other</td>\n",
       "    </tr>\n",
       "  </tbody>\n",
       "</table>\n",
       "<p>294822 rows × 3 columns</p>\n",
       "</div>"
      ],
      "text/plain": [
       "                         0        1      2\n",
       "0          chrX:334222:G:A  PPP2R3B  other\n",
       "1          chrX:334223:C:A  PPP2R3B  other\n",
       "2          chrX:334224:A:G  PPP2R3B  other\n",
       "3          chrX:334229:A:C  PPP2R3B  other\n",
       "4          chrX:334232:C:T  PPP2R3B  other\n",
       "...                    ...      ...    ...\n",
       "294817  chrX:155774815:G:C    SPRY3  other\n",
       "294818  chrX:155774816:G:A    SPRY3  other\n",
       "294819  chrX:155774828:A:G    SPRY3  other\n",
       "294820  chrX:155774836:C:G    SPRY3  other\n",
       "294821  chrX:155774837:A:G    SPRY3  other\n",
       "\n",
       "[294822 rows x 3 columns]"
      ]
     },
     "execution_count": 9,
     "metadata": {},
     "output_type": "execute_result"
    }
   ],
   "source": [
    "import pandas as pd\n",
    "df = pd.read_csv('/mnt/vast/hpc/csg/en2509/exome/BurdenTest/BurdenFiles/All_qced_exome200k_rename_chrX.hg38.hg38_multianno.csv.anno_file', header=None, sep=\" \")\n",
    "df"
   ]
  },
  {
   "cell_type": "code",
   "execution_count": 10,
   "id": "d85ae4d6-31f0-4a8e-aaba-9e624ce0ebde",
   "metadata": {
    "kernel": "Python3"
   },
   "outputs": [
    {
     "data": {
      "text/plain": [
       "DMD             3736\n",
       "PLXNB3          2633\n",
       "HUWE1           2403\n",
       "FLNA            2193\n",
       "PLXNA3          1918\n",
       "                ... \n",
       "MIR934             4\n",
       "LOC101927830       4\n",
       "SNORA56            3\n",
       "INE1               3\n",
       "CT45A2             2\n",
       "Name: 1, Length: 786, dtype: int64"
      ]
     },
     "execution_count": 10,
     "metadata": {},
     "output_type": "execute_result"
    }
   ],
   "source": [
    "df[1].value_counts()"
   ]
  },
  {
   "cell_type": "code",
   "execution_count": 11,
   "id": "4294ba5f-86e8-4743-b4c5-8825a5543336",
   "metadata": {
    "kernel": "Python3"
   },
   "outputs": [
    {
     "data": {
      "text/plain": [
       "other         151771\n",
       "missense       91539\n",
       "synonymous     47056\n",
       "LoF             4456\n",
       "Name: 2, dtype: int64"
      ]
     },
     "execution_count": 11,
     "metadata": {},
     "output_type": "execute_result"
    }
   ],
   "source": [
    "df[2].value_counts()"
   ]
  },
  {
   "cell_type": "code",
   "execution_count": 12,
   "id": "ee1b5e8e-3e01-4151-baff-97886fb40c8d",
   "metadata": {
    "kernel": "Bash",
    "tags": []
   },
   "outputs": [],
   "source": [
    "cat > /mnt/vast/hpc/csg/en2509/exome/BurdenTest/BurdenFiles/All_qced_exome200k_rename_chrX.hg38.hg38_multianno.csv.mask_file << EOF\n",
    "Mask1 LoF\n",
    "Mask2 LoF,missense\n",
    "EOF"
   ]
  },
  {
   "cell_type": "code",
   "execution_count": null,
   "id": "4906f266-7440-4611-b1b8-55b4d0be0994",
   "metadata": {
    "kernel": "Bash"
   },
   "outputs": [],
   "source": []
  }
 ],
 "metadata": {
  "kernelspec": {
   "display_name": "SoS",
   "language": "sos",
   "name": "sos"
  },
  "language_info": {
   "codemirror_mode": "sos",
   "file_extension": ".sos",
   "mimetype": "text/x-sos",
   "name": "sos",
   "nbconvert_exporter": "sos_notebook.converter.SoS_Exporter",
   "pygments_lexer": "sos"
  },
  "sos": {
   "kernels": [
    [
     "Bash",
     "bash",
     "Bash",
     "#E6EEFF",
     "shell"
    ],
    [
     "Python3",
     "python3",
     "Python3",
     "#FFD91A",
     {
      "name": "ipython",
      "version": 3
     }
    ]
   ],
   "version": "0.23.3"
  }
 },
 "nbformat": 4,
 "nbformat_minor": 5
}
