{
 "cells": [
  {
   "cell_type": "markdown",
   "id": "3ab9deef-03c2-4349-9f73-154e4bed62e7",
   "metadata": {
    "tags": []
   },
   "source": [
    "# Hight GWAS fine-mapping"
   ]
  },
  {
   "cell_type": "markdown",
   "id": "578bdf54-4b7d-4573-8f71-8cf4b10df2ff",
   "metadata": {},
   "source": [
    "## Liftover"
   ]
  },
  {
   "cell_type": "code",
   "execution_count": 1,
   "id": "253f963a-379c-4880-a98b-b6c43663a7d0",
   "metadata": {},
   "outputs": [],
   "source": [
    "import pandas as pd\n",
    "import numpy as np\n",
    "import cugg\n",
    "from cugg import liftover\n",
    "lf = liftover.Liftover('hg19','hg38')\n",
    "gwas = pd.read_csv(\"height_PC10_step2_imp.regenie_HEIGHT_inverserank.regenie_JAZF1\",comment = \"#\",sep = \" \")\n"
   ]
  },
  {
   "cell_type": "code",
   "execution_count": 2,
   "id": "0e2fc069-364e-4043-b341-97eff807b441",
   "metadata": {},
   "outputs": [
    {
     "data": {
      "text/html": [
       "<div>\n",
       "<style scoped>\n",
       "    .dataframe tbody tr th:only-of-type {\n",
       "        vertical-align: middle;\n",
       "    }\n",
       "\n",
       "    .dataframe tbody tr th {\n",
       "        vertical-align: top;\n",
       "    }\n",
       "\n",
       "    .dataframe thead th {\n",
       "        text-align: right;\n",
       "    }\n",
       "</style>\n",
       "<table border=\"1\" class=\"dataframe\">\n",
       "  <thead>\n",
       "    <tr style=\"text-align: right;\">\n",
       "      <th></th>\n",
       "      <th>CHROM</th>\n",
       "      <th>GENPOS</th>\n",
       "      <th>ID</th>\n",
       "      <th>ALLELE0</th>\n",
       "      <th>ALLELE1</th>\n",
       "      <th>A1FREQ</th>\n",
       "      <th>INFO</th>\n",
       "      <th>N</th>\n",
       "      <th>TEST</th>\n",
       "      <th>BETA</th>\n",
       "      <th>SE</th>\n",
       "      <th>CHISQ</th>\n",
       "      <th>LOG10P</th>\n",
       "      <th>EXTRA</th>\n",
       "    </tr>\n",
       "  </thead>\n",
       "  <tbody>\n",
       "    <tr>\n",
       "      <th>0</th>\n",
       "      <td>7</td>\n",
       "      <td>27869098</td>\n",
       "      <td>rs545409685</td>\n",
       "      <td>C</td>\n",
       "      <td>T</td>\n",
       "      <td>0.997338</td>\n",
       "      <td>0.921920</td>\n",
       "      <td>365920</td>\n",
       "      <td>ADD</td>\n",
       "      <td>-0.020502</td>\n",
       "      <td>0.013793</td>\n",
       "      <td>2.209410</td>\n",
       "      <td>0.862739</td>\n",
       "      <td>NaN</td>\n",
       "    </tr>\n",
       "    <tr>\n",
       "      <th>1</th>\n",
       "      <td>7</td>\n",
       "      <td>27869261</td>\n",
       "      <td>7:27869261_CAGTA_C</td>\n",
       "      <td>C</td>\n",
       "      <td>CAGTA</td>\n",
       "      <td>0.998504</td>\n",
       "      <td>0.847013</td>\n",
       "      <td>365920</td>\n",
       "      <td>ADD</td>\n",
       "      <td>0.010341</td>\n",
       "      <td>0.019221</td>\n",
       "      <td>0.289412</td>\n",
       "      <td>0.228708</td>\n",
       "      <td>NaN</td>\n",
       "    </tr>\n",
       "    <tr>\n",
       "      <th>2</th>\n",
       "      <td>7</td>\n",
       "      <td>27869377</td>\n",
       "      <td>rs73075348</td>\n",
       "      <td>G</td>\n",
       "      <td>A</td>\n",
       "      <td>0.943403</td>\n",
       "      <td>1.000000</td>\n",
       "      <td>365920</td>\n",
       "      <td>ADD</td>\n",
       "      <td>0.000331</td>\n",
       "      <td>0.002957</td>\n",
       "      <td>0.012549</td>\n",
       "      <td>0.040575</td>\n",
       "      <td>NaN</td>\n",
       "    </tr>\n",
       "    <tr>\n",
       "      <th>3</th>\n",
       "      <td>7</td>\n",
       "      <td>27869782</td>\n",
       "      <td>rs6948467</td>\n",
       "      <td>A</td>\n",
       "      <td>G</td>\n",
       "      <td>0.607201</td>\n",
       "      <td>0.993109</td>\n",
       "      <td>365920</td>\n",
       "      <td>ADD</td>\n",
       "      <td>-0.006317</td>\n",
       "      <td>0.001404</td>\n",
       "      <td>20.250800</td>\n",
       "      <td>5.167980</td>\n",
       "      <td>NaN</td>\n",
       "    </tr>\n",
       "    <tr>\n",
       "      <th>4</th>\n",
       "      <td>7</td>\n",
       "      <td>27869794</td>\n",
       "      <td>rs73075354</td>\n",
       "      <td>G</td>\n",
       "      <td>C</td>\n",
       "      <td>0.883848</td>\n",
       "      <td>0.994221</td>\n",
       "      <td>365920</td>\n",
       "      <td>ADD</td>\n",
       "      <td>0.013539</td>\n",
       "      <td>0.002140</td>\n",
       "      <td>40.038800</td>\n",
       "      <td>9.603850</td>\n",
       "      <td>NaN</td>\n",
       "    </tr>\n",
       "    <tr>\n",
       "      <th>...</th>\n",
       "      <td>...</td>\n",
       "      <td>...</td>\n",
       "      <td>...</td>\n",
       "      <td>...</td>\n",
       "      <td>...</td>\n",
       "      <td>...</td>\n",
       "      <td>...</td>\n",
       "      <td>...</td>\n",
       "      <td>...</td>\n",
       "      <td>...</td>\n",
       "      <td>...</td>\n",
       "      <td>...</td>\n",
       "      <td>...</td>\n",
       "      <td>...</td>\n",
       "    </tr>\n",
       "    <tr>\n",
       "      <th>2266</th>\n",
       "      <td>7</td>\n",
       "      <td>28305583</td>\n",
       "      <td>rs142080139</td>\n",
       "      <td>C</td>\n",
       "      <td>T</td>\n",
       "      <td>0.980411</td>\n",
       "      <td>0.993345</td>\n",
       "      <td>365920</td>\n",
       "      <td>ADD</td>\n",
       "      <td>-0.014940</td>\n",
       "      <td>0.004946</td>\n",
       "      <td>9.125600</td>\n",
       "      <td>2.598500</td>\n",
       "      <td>NaN</td>\n",
       "    </tr>\n",
       "    <tr>\n",
       "      <th>2267</th>\n",
       "      <td>7</td>\n",
       "      <td>28305872</td>\n",
       "      <td>rs77166288</td>\n",
       "      <td>G</td>\n",
       "      <td>A</td>\n",
       "      <td>0.953204</td>\n",
       "      <td>0.961312</td>\n",
       "      <td>365920</td>\n",
       "      <td>ADD</td>\n",
       "      <td>0.005109</td>\n",
       "      <td>0.003299</td>\n",
       "      <td>2.398330</td>\n",
       "      <td>0.915548</td>\n",
       "      <td>NaN</td>\n",
       "    </tr>\n",
       "    <tr>\n",
       "      <th>2268</th>\n",
       "      <td>7</td>\n",
       "      <td>28306168</td>\n",
       "      <td>rs577794962</td>\n",
       "      <td>C</td>\n",
       "      <td>G</td>\n",
       "      <td>0.998276</td>\n",
       "      <td>0.807648</td>\n",
       "      <td>365920</td>\n",
       "      <td>ADD</td>\n",
       "      <td>-0.004818</td>\n",
       "      <td>0.018340</td>\n",
       "      <td>0.069008</td>\n",
       "      <td>0.100844</td>\n",
       "      <td>NaN</td>\n",
       "    </tr>\n",
       "    <tr>\n",
       "      <th>2269</th>\n",
       "      <td>7</td>\n",
       "      <td>28306169</td>\n",
       "      <td>rs494452</td>\n",
       "      <td>C</td>\n",
       "      <td>T</td>\n",
       "      <td>0.063266</td>\n",
       "      <td>0.979944</td>\n",
       "      <td>365920</td>\n",
       "      <td>ADD</td>\n",
       "      <td>0.006939</td>\n",
       "      <td>0.002835</td>\n",
       "      <td>5.991360</td>\n",
       "      <td>1.842360</td>\n",
       "      <td>NaN</td>\n",
       "    </tr>\n",
       "    <tr>\n",
       "      <th>2270</th>\n",
       "      <td>7</td>\n",
       "      <td>28306174</td>\n",
       "      <td>rs494458</td>\n",
       "      <td>T</td>\n",
       "      <td>C</td>\n",
       "      <td>0.489686</td>\n",
       "      <td>0.983075</td>\n",
       "      <td>365920</td>\n",
       "      <td>ADD</td>\n",
       "      <td>0.003391</td>\n",
       "      <td>0.001378</td>\n",
       "      <td>6.055170</td>\n",
       "      <td>1.858060</td>\n",
       "      <td>NaN</td>\n",
       "    </tr>\n",
       "  </tbody>\n",
       "</table>\n",
       "<p>2271 rows × 14 columns</p>\n",
       "</div>"
      ],
      "text/plain": [
       "      CHROM    GENPOS                  ID ALLELE0 ALLELE1    A1FREQ      INFO  \\\n",
       "0         7  27869098         rs545409685       C       T  0.997338  0.921920   \n",
       "1         7  27869261  7:27869261_CAGTA_C       C   CAGTA  0.998504  0.847013   \n",
       "2         7  27869377          rs73075348       G       A  0.943403  1.000000   \n",
       "3         7  27869782           rs6948467       A       G  0.607201  0.993109   \n",
       "4         7  27869794          rs73075354       G       C  0.883848  0.994221   \n",
       "...     ...       ...                 ...     ...     ...       ...       ...   \n",
       "2266      7  28305583         rs142080139       C       T  0.980411  0.993345   \n",
       "2267      7  28305872          rs77166288       G       A  0.953204  0.961312   \n",
       "2268      7  28306168         rs577794962       C       G  0.998276  0.807648   \n",
       "2269      7  28306169            rs494452       C       T  0.063266  0.979944   \n",
       "2270      7  28306174            rs494458       T       C  0.489686  0.983075   \n",
       "\n",
       "           N TEST      BETA        SE      CHISQ    LOG10P  EXTRA  \n",
       "0     365920  ADD -0.020502  0.013793   2.209410  0.862739    NaN  \n",
       "1     365920  ADD  0.010341  0.019221   0.289412  0.228708    NaN  \n",
       "2     365920  ADD  0.000331  0.002957   0.012549  0.040575    NaN  \n",
       "3     365920  ADD -0.006317  0.001404  20.250800  5.167980    NaN  \n",
       "4     365920  ADD  0.013539  0.002140  40.038800  9.603850    NaN  \n",
       "...      ...  ...       ...       ...        ...       ...    ...  \n",
       "2266  365920  ADD -0.014940  0.004946   9.125600  2.598500    NaN  \n",
       "2267  365920  ADD  0.005109  0.003299   2.398330  0.915548    NaN  \n",
       "2268  365920  ADD -0.004818  0.018340   0.069008  0.100844    NaN  \n",
       "2269  365920  ADD  0.006939  0.002835   5.991360  1.842360    NaN  \n",
       "2270  365920  ADD  0.003391  0.001378   6.055170  1.858060    NaN  \n",
       "\n",
       "[2271 rows x 14 columns]"
      ]
     },
     "execution_count": 2,
     "metadata": {},
     "output_type": "execute_result"
    }
   ],
   "source": [
    "gwas"
   ]
  },
  {
   "cell_type": "code",
   "execution_count": 3,
   "id": "650e570c-dea9-46c4-aedd-4d0e424faf41",
   "metadata": {},
   "outputs": [
    {
     "data": {
      "text/plain": [
       "0"
      ]
     },
     "execution_count": 3,
     "metadata": {},
     "output_type": "execute_result"
    }
   ],
   "source": [
    "gwas_POS = gwas.apply(lambda x:  lf.chrpos_liftover(x[\"CHROM\"],x[\"GENPOS\"]),axis = 1 )\n",
    "gwas[\"GENPOS\"] =  [x[1] for x in gwas_POS]\n",
    "len(gwas.query(\"GENPOS == 0\").index)"
   ]
  },
  {
   "cell_type": "code",
   "execution_count": 4,
   "id": "0ce38414-d0c2-4eab-90ff-eb6e720f2e83",
   "metadata": {},
   "outputs": [
    {
     "data": {
      "text/plain": [
       "0       (7, 27829479)\n",
       "1       (7, 27829642)\n",
       "2       (7, 27829758)\n",
       "3       (7, 27830163)\n",
       "4       (7, 27830175)\n",
       "            ...      \n",
       "2266    (7, 28265964)\n",
       "2267    (7, 28266253)\n",
       "2268    (7, 28266549)\n",
       "2269    (7, 28266550)\n",
       "2270    (7, 28266555)\n",
       "Length: 2271, dtype: object"
      ]
     },
     "execution_count": 4,
     "metadata": {},
     "output_type": "execute_result"
    }
   ],
   "source": [
    "gwas_POS"
   ]
  },
  {
   "cell_type": "code",
   "execution_count": 6,
   "id": "469fa654-cc31-419b-b3a5-02b5df406437",
   "metadata": {},
   "outputs": [],
   "source": [
    "gwas.to_csv(\"height_PC10_step2_imp.regenie_HEIGHT_inverserank.regenie_JAZF1_liftedover_hg38\",index = 0,sep = \" \")"
   ]
  },
  {
   "cell_type": "markdown",
   "id": "f6c75cfb-8412-4498-aaa6-bccf116270dc",
   "metadata": {},
   "source": [
    "## Finemapping in R"
   ]
  },
  {
   "cell_type": "code",
   "execution_count": 213,
   "id": "50d59810-0ec8-465d-915c-78a841a34383",
   "metadata": {},
   "outputs": [],
   "source": [
    "library(\"reticulate\")"
   ]
  },
  {
   "cell_type": "code",
   "execution_count": 214,
   "id": "e5c99203-dacc-444c-ab09-7a724cb4a3b4",
   "metadata": {},
   "outputs": [
    {
     "name": "stderr",
     "output_type": "stream",
     "text": [
      "\u001b[1mRows: \u001b[22m\u001b[34m2271\u001b[39m \u001b[1mColumns: \u001b[22m\u001b[34m14\u001b[39m\n",
      "\u001b[36m──\u001b[39m \u001b[1mColumn specification\u001b[22m \u001b[36m────────────────────────────────────────────────────────\u001b[39m\n",
      "\u001b[1mDelimiter:\u001b[22m \" \"\n",
      "\u001b[31mchr\u001b[39m (4): ID, ALLELE0, ALLELE1, TEST\n",
      "\u001b[32mdbl\u001b[39m (9): CHROM, GENPOS, A1FREQ, INFO, N, BETA, SE, CHISQ, LOG10P\n",
      "\u001b[33mlgl\u001b[39m (1): EXTRA\n",
      "\n",
      "\u001b[36mℹ\u001b[39m Use `spec()` to retrieve the full column specification for this data.\n",
      "\u001b[36mℹ\u001b[39m Specify the column types or set `show_col_types = FALSE` to quiet this message.\n"
     ]
    }
   ],
   "source": [
    "GWAS = read_delim(\"height_PC10_step2_imp.regenie_HEIGHT_inverserank.regenie_JAZF1_liftedover_hg38\",\" \")"
   ]
  },
  {
   "cell_type": "code",
   "execution_count": 215,
   "id": "ed898388-ad3d-436b-a032-e697d54a2a86",
   "metadata": {},
   "outputs": [
    {
     "data": {
      "image/png": "[encoded data removed]",
      "text/plain": [
       "plot without title"
      ]
     },
     "metadata": {
      "image/png": {
       "height": 420,
       "width": 420
      }
     },
     "output_type": "display_data"
    }
   ],
   "source": [
    "GWAS%>%ggplot(aes(x = GENPOS,  y = LOG10P ))+geom_point()"
   ]
  },
  {
   "cell_type": "code",
   "execution_count": null,
   "id": "a979c233-10db-4270-98a3-759f13ac7779",
   "metadata": {},
   "outputs": [],
   "source": []
  },
  {
   "cell_type": "code",
   "execution_count": null,
   "id": "4d373321-544c-4243-bbe5-65f997d468c2",
   "metadata": {},
   "outputs": [],
   "source": []
  },
  {
   "cell_type": "code",
   "execution_count": 212,
   "id": "8e05c970-9fb3-455d-acd7-727d0de9b687",
   "metadata": {},
   "outputs": [
    {
     "data": {
      "text/html": [
       "27869098"
      ],
      "text/latex": [
       "27869098"
      ],
      "text/markdown": [
       "27869098"
      ],
      "text/plain": [
       "[1] 27869098"
      ]
     },
     "metadata": {},
     "output_type": "display_data"
    },
    {
     "data": {
      "text/html": [
       "28306174"
      ],
      "text/latex": [
       "28306174"
      ],
      "text/markdown": [
       "28306174"
      ],
      "text/plain": [
       "[1] 28306174"
      ]
     },
     "metadata": {},
     "output_type": "display_data"
    }
   ],
   "source": [
    "min(GWAS$GENPOS)\n",
    "max(GWAS$GENPOS)"
   ]
  },
  {
   "cell_type": "code",
   "execution_count": 235,
   "id": "9a2876b1-eb93-4b1f-93b9-e20428316b7b",
   "metadata": {},
   "outputs": [],
   "source": [
    "np <- import(\"numpy\")"
   ]
  },
  {
   "cell_type": "code",
   "execution_count": 240,
   "id": "d14754ba-0a25-45e2-a137-f1e0416df5b8",
   "metadata": {},
   "outputs": [],
   "source": [
    "npz1 <- np$load(\"/mnt/vast/hpc/csg/molecular_phenotype_calling/LD/output/1300_hg38_EUR_LD_blocks_LD/ROSMAP_NIA_WGS.leftnorm.filtered.filtered.chr7_25641844_28408975.float16.npz\",allow_pickle=T)\n"
   ]
  },
  {
   "cell_type": "code",
   "execution_count": 241,
   "id": "779b0f40-7425-4585-afd4-325c4d89bbfe",
   "metadata": {},
   "outputs": [],
   "source": [
    "SNP = npz1[[\"arr_1\"]]"
   ]
  },
  {
   "cell_type": "code",
   "execution_count": 237,
   "id": "74f9bf3e-9ddf-4c88-b5b9-76621c808847",
   "metadata": {},
   "outputs": [
    {
     "data": {
      "text/plain": [
       "<numpy.lib.npyio.NpzFile object at 0x151255c573d0>"
      ]
     },
     "metadata": {},
     "output_type": "display_data"
    }
   ],
   "source": [
    "npz1"
   ]
  },
  {
   "cell_type": "code",
   "execution_count": 248,
   "id": "9f534086-2523-4b83-800f-1d38018737a2",
   "metadata": {},
   "outputs": [],
   "source": [
    "GWAS_filtered = GWAS%>%mutate(variant  = paste0(\"chr\",CHROM,\":\",GENPOS,\"_\",ALLELE1,\"_\",ALLELE0 ))%>%filter(variant %in% SNP)"
   ]
  },
  {
   "cell_type": "code",
   "execution_count": 250,
   "id": "c7f55cba-0227-4c28-a320-70add3d7bba8",
   "metadata": {},
   "outputs": [],
   "source": [
    "LD = npz1[[\"arr_0\"]]\n",
    "colnames(LD) = rownames(LD) = SNP"
   ]
  },
  {
   "cell_type": "code",
   "execution_count": 253,
   "id": "17dcf865-8bf4-42fd-ad36-6f2a97722dfc",
   "metadata": {},
   "outputs": [],
   "source": [
    "LD_filtered = LD[intersect(SNP, GWAS_filtered$variant),intersect(SNP, GWAS_filtered$variant)]"
   ]
  },
  {
   "cell_type": "code",
   "execution_count": null,
   "id": "cc55c246-9ec8-4325-8a82-f09ca7082abd",
   "metadata": {},
   "outputs": [],
   "source": []
  },
  {
   "cell_type": "code",
   "execution_count": 263,
   "id": "ae59660a-d589-4db6-8f24-e25081459a37",
   "metadata": {},
   "outputs": [
    {
     "data": {
      "image/png": "[encoded data removed]",
      "text/plain": [
       "plot without title"
      ]
     },
     "metadata": {
      "image/png": {
       "height": 420,
       "width": 420
      }
     },
     "output_type": "display_data"
    }
   ],
   "source": [
    "GWAS_filtered%>%ggplot(aes(x = GENPOS,  y = LOG10P ))+geom_point()"
   ]
  },
  {
   "cell_type": "code",
   "execution_count": 217,
   "id": "ce6dce24-2bef-4900-b8dc-665954315881",
   "metadata": {},
   "outputs": [],
   "source": [
    "GWAS = GWAS%>%mutate(Z = BETA/SE)"
   ]
  },
  {
   "cell_type": "code",
   "execution_count": null,
   "id": "05f19fbf-6b70-4be0-821d-fdc49a404c0d",
   "metadata": {},
   "outputs": [
    {
     "ename": "SyntaxError",
     "evalue": "invalid syntax (4006526684.py, line 1)",
     "output_type": "error",
     "traceback": [
      "\u001b[0;36m  File \u001b[0;32m\"/tmp/4219757.1.csg2.q/ipykernel_53027/4006526684.py\"\u001b[0;36m, line \u001b[0;32m1\u001b[0m\n\u001b[0;31m    res = susieR:::susie_rss(as.matrix(GWAS_filtered%>%pull(Z)) ,R = LD_filtered,n = 365920  , z_ld_weight = 0, estimate_residual_variance = FALSE,\u001b[0m\n\u001b[0m                ^\u001b[0m\n\u001b[0;31mSyntaxError\u001b[0m\u001b[0;31m:\u001b[0m invalid syntax\n"
     ]
    }
   ],
   "source": [
    "res = susieR:::susie_rss(as.matrix(GWAS_filtered%>%pull(Z)) ,R = LD_filtered,n = 365920  , z_ld_weight = 0, estimate_residual_variance = FALSE, \n",
    "    prior_variance = 50, check_prior = TRUE ,L = 10,verbose = TRUE, compute_univariate_zscore = TRUE )"
   ]
  },
  {
   "cell_type": "code",
   "execution_count": 257,
   "id": "dc9a565c-4759-483c-827c-192568b6cab5",
   "metadata": {},
   "outputs": [
    {
     "data": {
      "image/png": "[encoded data removed]",
      "text/plain": [
       "plot without title"
      ]
     },
     "metadata": {
      "image/png": {
       "height": 420,
       "width": 420
      }
     },
     "output_type": "display_data"
    }
   ],
   "source": [
    "susie_plot(res,y = \"PIP\")"
   ]
  },
  {
   "cell_type": "code",
   "execution_count": 259,
   "id": "02b6900d-782a-43e1-869b-c89a88d5b119",
   "metadata": {},
   "outputs": [
    {
     "name": "stderr",
     "output_type": "stream",
     "text": [
      "\u001b[1m\u001b[4m\u001b[31mWARNING:\u001b[39m\u001b[24m\u001b[22m The matrix R is not positive semidefinite. Negative eigenvalues are set to zero.\n",
      "\n",
      "\u001b[1m\u001b[4m\u001b[31mWARNING:\u001b[39m\u001b[24m\u001b[22m The matrix R is not positive semidefinite. Negative eigenvalues are set to zero\n",
      "\n"
     ]
    }
   ],
   "source": [
    "condz = susieR::kriging_rss(as.matrix(GWAS_filtered%>%pull(Z)) ,R = LD_filtered,n = 365920)"
   ]
  },
  {
   "cell_type": "code",
   "execution_count": 260,
   "id": "9b72c35b-f751-4e1f-a3be-a0e05fbb676c",
   "metadata": {},
   "outputs": [
    {
     "data": {
      "image/png": "[encoded data removed]",
      "text/plain": [
       "plot without title"
      ]
     },
     "metadata": {
      "image/png": {
       "height": 420,
       "width": 420
      }
     },
     "output_type": "display_data"
    }
   ],
   "source": [
    "condz$plot"
   ]
  },
  {
   "cell_type": "code",
   "execution_count": 9,
   "id": "a50c5925-b49b-433e-b03b-2f48348462f3",
   "metadata": {},
   "outputs": [],
   "source": [
    "lf2 = liftover.Liftover('hg38','hg19')\n"
   ]
  },
  {
   "cell_type": "code",
   "execution_count": 12,
   "id": "8e010079-8ac6-4336-9692-c702ade88246",
   "metadata": {},
   "outputs": [
    {
     "data": {
      "text/plain": [
       "0"
      ]
     },
     "execution_count": 12,
     "metadata": {},
     "output_type": "execute_result"
    }
   ],
   "source": [
    "gwas = pd.read_csv(\"JAZF1_pip_0.01.txt\",comment = \"#\",sep = \"\\t\")\n",
    "gwas_POS = gwas.apply(lambda x:  lf.chrpos_liftover(x[\"chr\"],x[\"pos\"]),axis = 1 )\n",
    "gwas[\"pos\"] =  [x[1] for x in gwas_POS]\n",
    "len(gwas.query(\"pos == 0\").index)"
   ]
  },
  {
   "cell_type": "code",
   "execution_count": 14,
   "id": "58ffeeaf-93ed-431a-be5a-2ccb83cd91cf",
   "metadata": {},
   "outputs": [],
   "source": [
    "gwas.to_csv(\"JAZF1_pip_0.01_hg19_.txt\",sep = \"\\t\")"
   ]
  },
  {
   "cell_type": "markdown",
   "id": "6d77357a-bfab-48ad-b6cf-4a9fde32a75b",
   "metadata": {},
   "source": [
    "## The non-overlifted version with waist population LD\n",
    "\n"
   ]
  },
  {
   "cell_type": "code",
   "execution_count": 7,
   "id": "0c1fce72-b295-4f14-83fb-5a7e1fc65c3a",
   "metadata": {},
   "outputs": [],
   "source": [
    "library(\"dplyr\")\n",
    "library(\"readr\")\n",
    "library(\"susieR\")\n",
    "library(\"ggplot2\")"
   ]
  },
  {
   "cell_type": "code",
   "execution_count": 8,
   "id": "2c0a97d6-50b6-4e14-bef0-c2cae465eece",
   "metadata": {},
   "outputs": [
    {
     "name": "stderr",
     "output_type": "stream",
     "text": [
      "\u001b[1mRows: \u001b[22m\u001b[34m2271\u001b[39m \u001b[1mColumns: \u001b[22m\u001b[34m14\u001b[39m\n",
      "\u001b[36m──\u001b[39m \u001b[1mColumn specification\u001b[22m \u001b[36m────────────────────────────────────────────────────────\u001b[39m\n",
      "\u001b[1mDelimiter:\u001b[22m \" \"\n",
      "\u001b[31mchr\u001b[39m (4): ID, ALLELE0, ALLELE1, TEST\n",
      "\u001b[32mdbl\u001b[39m (9): CHROM, GENPOS, A1FREQ, INFO, N, BETA, SE, CHISQ, LOG10P\n",
      "\u001b[33mlgl\u001b[39m (1): EXTRA\n",
      "\n",
      "\u001b[36mℹ\u001b[39m Use `spec()` to retrieve the full column specification for this data.\n",
      "\u001b[36mℹ\u001b[39m Specify the column types or set `show_col_types = FALSE` to quiet this message.\n",
      "\u001b[1mRows: \u001b[22m\u001b[34m2549\u001b[39m \u001b[1mColumns: \u001b[22m\u001b[34m2549\u001b[39m\n",
      "\u001b[36m──\u001b[39m \u001b[1mColumn specification\u001b[22m \u001b[36m────────────────────────────────────────────────────────\u001b[39m\n",
      "\u001b[1mDelimiter:\u001b[22m \"\\t\"\n",
      "\u001b[32mdbl\u001b[39m (2549): 7_27869098_C_T, 7_27869261_C_CAGTA, 7_27869377_G_A, 7_27869782_A...\n",
      "\n",
      "\u001b[36mℹ\u001b[39m Use `spec()` to retrieve the full column specification for this data.\n",
      "\u001b[36mℹ\u001b[39m Specify the column types or set `show_col_types = FALSE` to quiet this message.\n",
      "Warning message:\n",
      "“Setting row names on a tibble is deprecated.”\n"
     ]
    },
    {
     "name": "stdout",
     "output_type": "stream",
     "text": [
      "[1] \"objective:-518925.900679102\"\n",
      "[1] \"objective:-518916.948374706\"\n",
      "[1] \"objective:-518911.663137437\"\n",
      "[1] \"objective:-518909.654061877\"\n",
      "[1] \"objective:-518908.84013224\"\n",
      "[1] \"objective:-518908.611390242\"\n",
      "[1] \"objective:-518908.5701074\"\n",
      "[1] \"objective:-518908.562623539\"\n",
      "[1] \"objective:-518908.560925755\"\n",
      "[1] \"objective:-518908.560461281\"\n"
     ]
    }
   ],
   "source": [
    "gwas = read_delim(\"height_PC10_step2_imp.regenie_HEIGHT_inverserank.regenie_JAZF1\")\n",
    "new_LD = read_delim(\"/mnt/vast/hpc/csg/tf2478/2021/20211226_jazf1/working_jazf1_extractions/WAIST_extraction/7_27868573_28273990/UKB_caucasians_BMIwaisthip_AsthmaAndT2D_INT-WAIST_withagesex_042020_rankNorm_WAIST.boltlmm.snp_stats_7_27868573_28273990.population_ld\")\n",
    "rownames(new_LD) = colnames(new_LD)\n",
    "GWAS_filtered = gwas%>%mutate(variant  = paste0(CHROM,\"_\",GENPOS,\"_\",ALLELE0,\"_\",ALLELE1 ))%>%filter(variant %in% colnames(new_LD))\n",
    "GWAS_filtered = GWAS_filtered%>%mutate(Z = BETA/SE)\n",
    "new_LD_filtered =as.matrix(new_LD)[GWAS_filtered$variant,GWAS_filtered$variant]\n",
    "res10_waist = susieR:::susie_rss(as.matrix(GWAS_filtered%>%pull(Z)) ,\n",
    "                                 R = new_LD_filtered,n = 365920  , estimate_residual_variance = FALSE, \n",
    "    prior_variance = 50, check_prior = TRUE ,L = 10,verbose = TRUE, compute_univariate_zscore\n",
    "                                 = TRUE )"
   ]
  },
  {
   "cell_type": "code",
   "execution_count": 38,
   "id": "36e679db-59bb-4173-b3fc-22cc6d76a779",
   "metadata": {},
   "outputs": [
    {
     "data": {
      "text/html": [
       "<dl>\n",
       "\t<dt>$cs</dt>\n",
       "\t\t<dd><dl>\n",
       "\t<dt>$L2</dt>\n",
       "\t\t<dd>1457</dd>\n",
       "\t<dt>$L5</dt>\n",
       "\t\t<dd>1724</dd>\n",
       "\t<dt>$L1</dt>\n",
       "\t\t<dd><style>\n",
       ".list-inline {list-style: none; margin:0; padding: 0}\n",
       ".list-inline>li {display: inline-block}\n",
       ".list-inline>li:not(:last-child)::after {content: \"\\00b7\"; padding: 0 .5ex}\n",
       "</style>\n",
       "<ol class=list-inline><li>1669</li><li>1680</li><li>1692</li><li>1707</li><li>1714</li></ol>\n",
       "</dd>\n",
       "\t<dt>$L4</dt>\n",
       "\t\t<dd><style>\n",
       ".list-inline {list-style: none; margin:0; padding: 0}\n",
       ".list-inline>li {display: inline-block}\n",
       ".list-inline>li:not(:last-child)::after {content: \"\\00b7\"; padding: 0 .5ex}\n",
       "</style>\n",
       "<ol class=list-inline><li>1743</li><li>1783</li><li>1835</li><li>1851</li><li>1863</li><li>1885</li></ol>\n",
       "</dd>\n",
       "\t<dt>$L3</dt>\n",
       "\t\t<dd><style>\n",
       ".list-inline {list-style: none; margin:0; padding: 0}\n",
       ".list-inline>li {display: inline-block}\n",
       ".list-inline>li:not(:last-child)::after {content: \"\\00b7\"; padding: 0 .5ex}\n",
       "</style>\n",
       "<ol class=list-inline><li>403</li><li>427</li><li>569</li><li>571</li><li>590</li><li>623</li><li>641</li></ol>\n",
       "</dd>\n",
       "</dl>\n",
       "</dd>\n",
       "\t<dt>$purity</dt>\n",
       "\t\t<dd><table class=\"dataframe\">\n",
       "<caption>A data.frame: 5 × 3</caption>\n",
       "<thead>\n",
       "\t<tr><th></th><th scope=col>min.abs.corr</th><th scope=col>mean.abs.corr</th><th scope=col>median.abs.corr</th></tr>\n",
       "\t<tr><th></th><th scope=col>&lt;dbl&gt;</th><th scope=col>&lt;dbl&gt;</th><th scope=col>&lt;dbl&gt;</th></tr>\n",
       "</thead>\n",
       "<tbody>\n",
       "\t<tr><th scope=row>L2</th><td>1.0000000</td><td>1.0000000</td><td>1.0000000</td></tr>\n",
       "\t<tr><th scope=row>L5</th><td>1.0000000</td><td>1.0000000</td><td>1.0000000</td></tr>\n",
       "\t<tr><th scope=row>L1</th><td>0.9839210</td><td>0.9906866</td><td>0.9875604</td></tr>\n",
       "\t<tr><th scope=row>L4</th><td>0.9762961</td><td>0.9867972</td><td>0.9846997</td></tr>\n",
       "\t<tr><th scope=row>L3</th><td>0.5655507</td><td>0.7948809</td><td>0.6962179</td></tr>\n",
       "</tbody>\n",
       "</table>\n",
       "</dd>\n",
       "\t<dt>$cs_index</dt>\n",
       "\t\t<dd><style>\n",
       ".list-inline {list-style: none; margin:0; padding: 0}\n",
       ".list-inline>li {display: inline-block}\n",
       ".list-inline>li:not(:last-child)::after {content: \"\\00b7\"; padding: 0 .5ex}\n",
       "</style>\n",
       "<ol class=list-inline><li>2</li><li>5</li><li>1</li><li>4</li><li>3</li></ol>\n",
       "</dd>\n",
       "\t<dt>$coverage</dt>\n",
       "\t\t<dd><style>\n",
       ".list-inline {list-style: none; margin:0; padding: 0}\n",
       ".list-inline>li {display: inline-block}\n",
       ".list-inline>li:not(:last-child)::after {content: \"\\00b7\"; padding: 0 .5ex}\n",
       "</style>\n",
       "<ol class=list-inline><li>0.999999999938054</li><li>0.999999999999145</li><li>0.976204878828672</li><li>0.974016467027621</li><li>0.953641066481069</li></ol>\n",
       "</dd>\n",
       "\t<dt>$requested_coverage</dt>\n",
       "\t\t<dd>0.95</dd>\n",
       "</dl>\n"
      ],
      "text/latex": [
       "\\begin{description}\n",
       "\\item[\\$cs] \\begin{description}\n",
       "\\item[\\$L2] 1457\n",
       "\\item[\\$L5] 1724\n",
       "\\item[\\$L1] \\begin{enumerate*}\n",
       "\\item 1669\n",
       "\\item 1680\n",
       "\\item 1692\n",
       "\\item 1707\n",
       "\\item 1714\n",
       "\\end{enumerate*}\n",
       "\n",
       "\\item[\\$L4] \\begin{enumerate*}\n",
       "\\item 1743\n",
       "\\item 1783\n",
       "\\item 1835\n",
       "\\item 1851\n",
       "\\item 1863\n",
       "\\item 1885\n",
       "\\end{enumerate*}\n",
       "\n",
       "\\item[\\$L3] \\begin{enumerate*}\n",
       "\\item 403\n",
       "\\item 427\n",
       "\\item 569\n",
       "\\item 571\n",
       "\\item 590\n",
       "\\item 623\n",
       "\\item 641\n",
       "\\end{enumerate*}\n",
       "\n",
       "\\end{description}\n",
       "\n",
       "\\item[\\$purity] A data.frame: 5 × 3\n",
       "\\begin{tabular}{r|lll}\n",
       "  & min.abs.corr & mean.abs.corr & median.abs.corr\\\\\n",
       "  & <dbl> & <dbl> & <dbl>\\\\\n",
       "\\hline\n",
       "\tL2 & 1.0000000 & 1.0000000 & 1.0000000\\\\\n",
       "\tL5 & 1.0000000 & 1.0000000 & 1.0000000\\\\\n",
       "\tL1 & 0.9839210 & 0.9906866 & 0.9875604\\\\\n",
       "\tL4 & 0.9762961 & 0.9867972 & 0.9846997\\\\\n",
       "\tL3 & 0.5655507 & 0.7948809 & 0.6962179\\\\\n",
       "\\end{tabular}\n",
       "\n",
       "\\item[\\$cs\\_index] \\begin{enumerate*}\n",
       "\\item 2\n",
       "\\item 5\n",
       "\\item 1\n",
       "\\item 4\n",
       "\\item 3\n",
       "\\end{enumerate*}\n",
       "\n",
       "\\item[\\$coverage] \\begin{enumerate*}\n",
       "\\item 0.999999999938054\n",
       "\\item 0.999999999999145\n",
       "\\item 0.976204878828672\n",
       "\\item 0.974016467027621\n",
       "\\item 0.953641066481069\n",
       "\\end{enumerate*}\n",
       "\n",
       "\\item[\\$requested\\_coverage] 0.95\n",
       "\\end{description}\n"
      ],
      "text/markdown": [
       "$cs\n",
       ":   $L2\n",
       ":   1457\n",
       "$L5\n",
       ":   1724\n",
       "$L1\n",
       ":   1. 1669\n",
       "2. 1680\n",
       "3. 1692\n",
       "4. 1707\n",
       "5. 1714\n",
       "\n",
       "\n",
       "\n",
       "$L4\n",
       ":   1. 1743\n",
       "2. 1783\n",
       "3. 1835\n",
       "4. 1851\n",
       "5. 1863\n",
       "6. 1885\n",
       "\n",
       "\n",
       "\n",
       "$L3\n",
       ":   1. 403\n",
       "2. 427\n",
       "3. 569\n",
       "4. 571\n",
       "5. 590\n",
       "6. 623\n",
       "7. 641\n",
       "\n",
       "\n",
       "\n",
       "\n",
       "\n",
       "\n",
       "$purity\n",
       ":   \n",
       "A data.frame: 5 × 3\n",
       "\n",
       "| <!--/--> | min.abs.corr &lt;dbl&gt; | mean.abs.corr &lt;dbl&gt; | median.abs.corr &lt;dbl&gt; |\n",
       "|---|---|---|---|\n",
       "| L2 | 1.0000000 | 1.0000000 | 1.0000000 |\n",
       "| L5 | 1.0000000 | 1.0000000 | 1.0000000 |\n",
       "| L1 | 0.9839210 | 0.9906866 | 0.9875604 |\n",
       "| L4 | 0.9762961 | 0.9867972 | 0.9846997 |\n",
       "| L3 | 0.5655507 | 0.7948809 | 0.6962179 |\n",
       "\n",
       "\n",
       "$cs_index\n",
       ":   1. 2\n",
       "2. 5\n",
       "3. 1\n",
       "4. 4\n",
       "5. 3\n",
       "\n",
       "\n",
       "\n",
       "$coverage\n",
       ":   1. 0.999999999938054\n",
       "2. 0.999999999999145\n",
       "3. 0.976204878828672\n",
       "4. 0.974016467027621\n",
       "5. 0.953641066481069\n",
       "\n",
       "\n",
       "\n",
       "$requested_coverage\n",
       ":   0.95\n",
       "\n",
       "\n"
      ],
      "text/plain": [
       "$cs\n",
       "$cs$L2\n",
       "[1] 1457\n",
       "\n",
       "$cs$L5\n",
       "[1] 1724\n",
       "\n",
       "$cs$L1\n",
       "[1] 1669 1680 1692 1707 1714\n",
       "\n",
       "$cs$L4\n",
       "[1] 1743 1783 1835 1851 1863 1885\n",
       "\n",
       "$cs$L3\n",
       "[1] 403 427 569 571 590 623 641\n",
       "\n",
       "\n",
       "$purity\n",
       "   min.abs.corr mean.abs.corr median.abs.corr\n",
       "L2    1.0000000     1.0000000       1.0000000\n",
       "L5    1.0000000     1.0000000       1.0000000\n",
       "L1    0.9839210     0.9906866       0.9875604\n",
       "L4    0.9762961     0.9867972       0.9846997\n",
       "L3    0.5655507     0.7948809       0.6962179\n",
       "\n",
       "$cs_index\n",
       "[1] 2 5 1 4 3\n",
       "\n",
       "$coverage\n",
       "[1] 1.0000000 1.0000000 0.9762049 0.9740165 0.9536411\n",
       "\n",
       "$requested_coverage\n",
       "[1] 0.95\n"
      ]
     },
     "metadata": {},
     "output_type": "display_data"
    }
   ],
   "source": [
    "res10_waist$sets"
   ]
  },
  {
   "cell_type": "code",
   "execution_count": 35,
   "id": "803934ea-a785-467f-a230-4cf9437d32f8",
   "metadata": {},
   "outputs": [],
   "source": [
    "## Issue investigation:\n",
    "### Overlap Check\n"
   ]
  },
  {
   "cell_type": "markdown",
   "id": "4085df92-9d5b-4105-816e-c1d103f93a64",
   "metadata": {},
   "source": [
    "#### Number of SNP in the GWAS "
   ]
  },
  {
   "cell_type": "code",
   "execution_count": null,
   "id": "7de711c3-145a-4380-837e-fa70ee4c6847",
   "metadata": {},
   "outputs": [
    {
     "data": {
      "text/html": [
       "2271"
      ],
      "text/latex": [
       "2271"
      ],
      "text/markdown": [
       "2271"
      ],
      "text/plain": [
       "[1] 2271"
      ]
     },
     "metadata": {},
     "output_type": "display_data"
    }
   ],
   "source": [
    "gwas%>%nrow"
   ]
  },
  {
   "cell_type": "code",
   "execution_count": null,
   "id": "a176f5e2-c7d3-44f9-96b8-ce95743e6068",
   "metadata": {},
   "outputs": [],
   "source": [
    "#### Number of SNP in the LD "
   ]
  },
  {
   "cell_type": "code",
   "execution_count": null,
   "id": "ca388d45-a65b-40c7-9cb3-7dfcc04d7e1f",
   "metadata": {},
   "outputs": [
    {
     "data": {
      "text/html": [
       "2549"
      ],
      "text/latex": [
       "2549"
      ],
      "text/markdown": [
       "2549"
      ],
      "text/plain": [
       "[1] 2549"
      ]
     },
     "metadata": {},
     "output_type": "display_data"
    }
   ],
   "source": [
    "new_LD%>%nrow"
   ]
  },
  {
   "cell_type": "markdown",
   "id": "bef8e7d1-5320-41d3-b214-e54f897f2a9b",
   "metadata": {},
   "source": [
    "#### Number of Overlap SNP based on Chr:POS:Ref:Alt with Allele0 being the Ref"
   ]
  },
  {
   "cell_type": "code",
   "execution_count": null,
   "id": "ac337458-c2ee-4265-a881-183f555052af",
   "metadata": {},
   "outputs": [
    {
     "data": {
      "text/html": [
       "2048"
      ],
      "text/latex": [
       "2048"
      ],
      "text/markdown": [
       "2048"
      ],
      "text/plain": [
       "[1] 2048"
      ]
     },
     "metadata": {},
     "output_type": "display_data"
    }
   ],
   "source": [
    "GWAS_filtered%>%nrow()"
   ]
  },
  {
   "cell_type": "markdown",
   "id": "62e32985-f9ed-48aa-b3c2-d7afd70010b6",
   "metadata": {},
   "source": [
    "#### Number of Overlap SNP based on GENEPOS"
   ]
  },
  {
   "cell_type": "code",
   "execution_count": 36,
   "id": "b9f2ea87-4a1a-4784-ab1b-c51d97c85215",
   "metadata": {},
   "outputs": [
    {
     "data": {
      "text/html": [
       "2048"
      ],
      "text/latex": [
       "2048"
      ],
      "text/markdown": [
       "2048"
      ],
      "text/plain": [
       "[1] 2048"
      ]
     },
     "metadata": {},
     "output_type": "display_data"
    }
   ],
   "source": [
    "gwas%>%filter(GENPOS %in% read.table(text = colnames(new_LD), sep = \"_\")$V2)%>%nrow"
   ]
  },
  {
   "cell_type": "markdown",
   "id": "409742be-6852-42dc-b891-56f9e1460746",
   "metadata": {},
   "source": [
    "#### Distribution of ALLELE1 Freq for the unmatched SNP"
   ]
  },
  {
   "cell_type": "code",
   "execution_count": 42,
   "id": "c3131f6d-d90e-4d8f-ab6f-e1667a43cdf5",
   "metadata": {},
   "outputs": [
    {
     "data": {
      "image/png": "[encoded data removed]",
      "text/plain": [
       "plot without title"
      ]
     },
     "metadata": {
      "image/png": {
       "height": 420,
       "width": 420
      }
     },
     "output_type": "display_data"
    }
   ],
   "source": [
    "gwas%>%filter(!ID %in% GWAS_filtered$ID)%>%arrange(-LOG10P)%>%mutate(variant  = paste0(CHROM,\"_\",GENPOS,\"_\",ALLELE1,\"_\",ALLELE0 ))%>%ggplot(aes(x = GENPOS ) )+ geom_point(aes(y = A1FREQ))"
   ]
  },
  {
   "cell_type": "code",
   "execution_count": 41,
   "id": "8f0e1f6a-9b7e-4567-bcbb-7bad58270703",
   "metadata": {},
   "outputs": [
    {
     "data": {
      "image/png": "[encoded data removed]",
      "text/plain": [
       "plot without title"
      ]
     },
     "metadata": {
      "image/png": {
       "height": 420,
       "width": 420
      }
     },
     "output_type": "display_data"
    }
   ],
   "source": [
    "gwas%>%filter(!ID %in% GWAS_filtered$ID)%>%arrange(-LOG10P)%>%mutate(variant  = paste0(CHROM,\"_\",GENPOS,\"_\",ALLELE1,\"_\",ALLELE0 ))%>%ggplot(aes(x = GENPOS ) )+ geom_point(aes(y = LOG10P))"
   ]
  },
  {
   "cell_type": "code",
   "execution_count": null,
   "id": "f74be3e7-d3d1-4e4d-a66f-ffb903ddb851",
   "metadata": {},
   "outputs": [],
   "source": [
    "#### Rerun with suff statistics"
   ]
  },
  {
   "cell_type": "code",
   "execution_count": null,
   "id": "26421f31-681d-4088-8df0-f7ab2368b96a",
   "metadata": {},
   "outputs": [],
   "source": []
  },
  {
   "cell_type": "code",
   "execution_count": null,
   "id": "1a04d766-de69-42de-986b-4e2f16bf0f48",
   "metadata": {},
   "outputs": [],
   "source": []
  },
  {
   "cell_type": "code",
   "execution_count": 44,
   "id": "5a2a151a-8d7c-45c0-b416-9b5cb5627567",
   "metadata": {},
   "outputs": [],
   "source": [
    "bhat = as.matrix(GWAS_filtered%>%pull(BETA))\n",
    "sbhat =  as.matrix(GWAS_filtered%>%pull(SE))"
   ]
  },
  {
   "cell_type": "code",
   "execution_count": 61,
   "id": "8f72aa44-542d-443a-8ae4-69e6db3d77fb",
   "metadata": {},
   "outputs": [
    {
     "name": "stderr",
     "output_type": "stream",
     "text": [
      "\u001b[1m\u001b[4m\u001b[35mHINT:\u001b[39m\u001b[24m\u001b[22m For estimate_residual_variance = TRUE, please check that R is the \"in-sample\" LD matrix; that is, the correlation matrix obtained using the exact same data matrix X that was used for the other summary statistics. Also note, when covariates are included in the univariate regressions that produced the summary statistics, also consider removing these effects from X before computing R.\n",
      "\n"
     ]
    },
    {
     "name": "stdout",
     "output_type": "stream",
     "text": [
      "[1] \"objective:-518925.900679102\"\n",
      "[1] \"objective:-518925.583774693\"\n",
      "[1] \"objective:-518916.595576937\"\n",
      "[1] \"objective:-518916.59487317\"\n",
      "[1] \"objective:-518911.302084229\"\n",
      "[1] \"objective:-518911.301967852\"\n",
      "[1] \"objective:-518909.291087976\"\n",
      "[1] \"objective:-518909.291074266\"\n",
      "[1] \"objective:-518908.474641675\"\n",
      "[1] \"objective:-518908.47463886\"\n",
      "[1] \"objective:-518908.244119946\"\n",
      "[1] \"objective:-518908.244119584\"\n",
      "[1] \"objective:-518908.202465545\"\n",
      "[1] \"objective:-518908.202465516\"\n",
      "[1] \"objective:-518908.19493602\"\n",
      "[1] \"objective:-518908.194936018\"\n",
      "[1] \"objective:-518908.193235808\"\n",
      "[1] \"objective:-518908.193235808\"\n",
      "[1] \"objective:-518908.192770904\"\n"
     ]
    },
    {
     "name": "stderr",
     "output_type": "stream",
     "text": [
      "\u001b[1m\u001b[4m\u001b[31mWARNING:\u001b[39m\u001b[24m\u001b[22m XtX is not symmetric; forcing XtX to be symmetric by replacing XtX with (XtX + t(XtX))/2\n",
      "\n",
      "\u001b[1m\u001b[4m\u001b[31mWARNING:\u001b[39m\u001b[24m\u001b[22m XtX is not symmetric; forcing XtX to be symmetric by replacing XtX with (XtX + t(XtX))/2\n",
      "\n",
      "\u001b[1m\u001b[4m\u001b[31mWARNING:\u001b[39m\u001b[24m\u001b[22m XtX is not symmetric; forcing XtX to be symmetric by replacing XtX with (XtX + t(XtX))/2\n",
      "\n",
      "\u001b[1m\u001b[4m\u001b[31mWARNING:\u001b[39m\u001b[24m\u001b[22m XtX is not symmetric; forcing XtX to be symmetric by replacing XtX with (XtX + t(XtX))/2\n",
      "\n",
      "\u001b[1m\u001b[4m\u001b[31mWARNING:\u001b[39m\u001b[24m\u001b[22m XtX is not symmetric; forcing XtX to be symmetric by replacing XtX with (XtX + t(XtX))/2\n",
      "\n",
      "\u001b[1m\u001b[4m\u001b[31mWARNING:\u001b[39m\u001b[24m\u001b[22m XtX is not symmetric; forcing XtX to be symmetric by replacing XtX with (XtX + t(XtX))/2\n",
      "\n",
      "\u001b[1m\u001b[4m\u001b[31mWARNING:\u001b[39m\u001b[24m\u001b[22m XtX is not symmetric; forcing XtX to be symmetric by replacing XtX with (XtX + t(XtX))/2\n",
      "\n",
      "\u001b[1m\u001b[4m\u001b[31mWARNING:\u001b[39m\u001b[24m\u001b[22m XtX is not symmetric; forcing XtX to be symmetric by replacing XtX with (XtX + t(XtX))/2\n",
      "\n",
      "\u001b[1m\u001b[4m\u001b[31mWARNING:\u001b[39m\u001b[24m\u001b[22m XtX is not symmetric; forcing XtX to be symmetric by replacing XtX with (XtX + t(XtX))/2\n",
      "\n",
      "\u001b[1m\u001b[4m\u001b[31mWARNING:\u001b[39m\u001b[24m\u001b[22m XtX is not symmetric; forcing XtX to be symmetric by replacing XtX with (XtX + t(XtX))/2\n",
      "\n",
      "\u001b[1m\u001b[4m\u001b[31mWARNING:\u001b[39m\u001b[24m\u001b[22m XtX is not symmetric; forcing XtX to be symmetric by replacing XtX with (XtX + t(XtX))/2\n",
      "\n",
      "\u001b[1m\u001b[4m\u001b[31mWARNING:\u001b[39m\u001b[24m\u001b[22m XtX is not symmetric; forcing XtX to be symmetric by replacing XtX with (XtX + t(XtX))/2\n",
      "\n",
      "\u001b[1m\u001b[4m\u001b[31mWARNING:\u001b[39m\u001b[24m\u001b[22m XtX is not symmetric; forcing XtX to be symmetric by replacing XtX with (XtX + t(XtX))/2\n",
      "\n",
      "\u001b[1m\u001b[4m\u001b[31mWARNING:\u001b[39m\u001b[24m\u001b[22m XtX is not symmetric; forcing XtX to be symmetric by replacing XtX with (XtX + t(XtX))/2\n",
      "\n",
      "\u001b[1m\u001b[4m\u001b[31mWARNING:\u001b[39m\u001b[24m\u001b[22m XtX is not symmetric; forcing XtX to be symmetric by replacing XtX with (XtX + t(XtX))/2\n",
      "\n",
      "\u001b[1m\u001b[4m\u001b[31mWARNING:\u001b[39m\u001b[24m\u001b[22m XtX is not symmetric; forcing XtX to be symmetric by replacing XtX with (XtX + t(XtX))/2\n",
      "\n",
      "\u001b[1m\u001b[4m\u001b[31mWARNING:\u001b[39m\u001b[24m\u001b[22m XtX is not symmetric; forcing XtX to be symmetric by replacing XtX with (XtX + t(XtX))/2\n",
      "\n",
      "\u001b[1m\u001b[4m\u001b[31mWARNING:\u001b[39m\u001b[24m\u001b[22m XtX is not symmetric; forcing XtX to be symmetric by replacing XtX with (XtX + t(XtX))/2\n",
      "\n",
      "\u001b[1m\u001b[4m\u001b[31mWARNING:\u001b[39m\u001b[24m\u001b[22m XtX is not symmetric; forcing XtX to be symmetric by replacing XtX with (XtX + t(XtX))/2\n",
      "\n",
      "\u001b[1m\u001b[4m\u001b[31mWARNING:\u001b[39m\u001b[24m\u001b[22m XtX is not symmetric; forcing XtX to be symmetric by replacing XtX with (XtX + t(XtX))/2\n",
      "\n",
      "\u001b[1m\u001b[4m\u001b[31mWARNING:\u001b[39m\u001b[24m\u001b[22m XtX is not symmetric; forcing XtX to be symmetric by replacing XtX with (XtX + t(XtX))/2\n",
      "\n",
      "\u001b[1m\u001b[4m\u001b[31mWARNING:\u001b[39m\u001b[24m\u001b[22m XtX is not symmetric; forcing XtX to be symmetric by replacing XtX with (XtX + t(XtX))/2\n",
      "\n"
     ]
    }
   ],
   "source": [
    "res10_waist_rerun = susieR:::susie_rss(bhat = bhat , shat = sbhat ,\n",
    "                                 R = new_LD_filtered,n = 365920  , estimate_residual_variance = TRUE, \n",
    "    prior_variance = 50, check_prior = F ,L = 10,verbose = TRUE, compute_univariate_zscore = TRUE , refine = T)"
   ]
  },
  {
   "cell_type": "code",
   "execution_count": 62,
   "id": "5902c84b-ab05-4939-908a-f5df5a5a9981",
   "metadata": {},
   "outputs": [
    {
     "data": {
      "text/html": [
       "<dl>\n",
       "\t<dt>$cs</dt>\n",
       "\t\t<dd><dl>\n",
       "\t<dt>$L3</dt>\n",
       "\t\t<dd>1644</dd>\n",
       "\t<dt>$L4</dt>\n",
       "\t\t<dd>1724</dd>\n",
       "\t<dt>$L6</dt>\n",
       "\t\t<dd>1457</dd>\n",
       "\t<dt>$L1</dt>\n",
       "\t\t<dd><style>\n",
       ".list-inline {list-style: none; margin:0; padding: 0}\n",
       ".list-inline>li {display: inline-block}\n",
       ".list-inline>li:not(:last-child)::after {content: \"\\00b7\"; padding: 0 .5ex}\n",
       "</style>\n",
       "<ol class=list-inline><li>1669</li><li>1680</li><li>1692</li><li>1707</li><li>1714</li></ol>\n",
       "</dd>\n",
       "\t<dt>$L5</dt>\n",
       "\t\t<dd><style>\n",
       ".list-inline {list-style: none; margin:0; padding: 0}\n",
       ".list-inline>li {display: inline-block}\n",
       ".list-inline>li:not(:last-child)::after {content: \"\\00b7\"; padding: 0 .5ex}\n",
       "</style>\n",
       "<ol class=list-inline><li>1743</li><li>1783</li><li>1803</li><li>1835</li><li>1851</li><li>1863</li><li>1885</li></ol>\n",
       "</dd>\n",
       "\t<dt>$L2</dt>\n",
       "\t\t<dd><style>\n",
       ".list-inline {list-style: none; margin:0; padding: 0}\n",
       ".list-inline>li {display: inline-block}\n",
       ".list-inline>li:not(:last-child)::after {content: \"\\00b7\"; padding: 0 .5ex}\n",
       "</style>\n",
       "<ol class=list-inline><li>403</li><li>427</li><li>569</li><li>571</li><li>590</li><li>623</li><li>641</li></ol>\n",
       "</dd>\n",
       "</dl>\n",
       "</dd>\n",
       "\t<dt>$purity</dt>\n",
       "\t\t<dd><table class=\"dataframe\">\n",
       "<caption>A data.frame: 6 × 3</caption>\n",
       "<thead>\n",
       "\t<tr><th></th><th scope=col>min.abs.corr</th><th scope=col>mean.abs.corr</th><th scope=col>median.abs.corr</th></tr>\n",
       "\t<tr><th></th><th scope=col>&lt;dbl&gt;</th><th scope=col>&lt;dbl&gt;</th><th scope=col>&lt;dbl&gt;</th></tr>\n",
       "</thead>\n",
       "<tbody>\n",
       "\t<tr><th scope=row>L3</th><td>1.0000000</td><td>1.0000000</td><td>1.0000000</td></tr>\n",
       "\t<tr><th scope=row>L4</th><td>1.0000000</td><td>1.0000000</td><td>1.0000000</td></tr>\n",
       "\t<tr><th scope=row>L6</th><td>1.0000000</td><td>1.0000000</td><td>1.0000000</td></tr>\n",
       "\t<tr><th scope=row>L1</th><td>0.9839210</td><td>0.9906866</td><td>0.9875604</td></tr>\n",
       "\t<tr><th scope=row>L5</th><td>0.9762961</td><td>0.9878110</td><td>0.9908655</td></tr>\n",
       "\t<tr><th scope=row>L2</th><td>0.5655507</td><td>0.7948809</td><td>0.6962179</td></tr>\n",
       "</tbody>\n",
       "</table>\n",
       "</dd>\n",
       "\t<dt>$cs_index</dt>\n",
       "\t\t<dd><style>\n",
       ".list-inline {list-style: none; margin:0; padding: 0}\n",
       ".list-inline>li {display: inline-block}\n",
       ".list-inline>li:not(:last-child)::after {content: \"\\00b7\"; padding: 0 .5ex}\n",
       "</style>\n",
       "<ol class=list-inline><li>3</li><li>4</li><li>6</li><li>1</li><li>5</li><li>2</li></ol>\n",
       "</dd>\n",
       "\t<dt>$coverage</dt>\n",
       "\t\t<dd><style>\n",
       ".list-inline {list-style: none; margin:0; padding: 0}\n",
       ".list-inline>li {display: inline-block}\n",
       ".list-inline>li:not(:last-child)::after {content: \"\\00b7\"; padding: 0 .5ex}\n",
       "</style>\n",
       "<ol class=list-inline><li>0.998581998568179</li><li>0.999999999999539</li><li>0.999999999609993</li><li>0.967658984576764</li><li>0.951170633542582</li><li>0.962865876199364</li></ol>\n",
       "</dd>\n",
       "\t<dt>$requested_coverage</dt>\n",
       "\t\t<dd>0.95</dd>\n",
       "</dl>\n"
      ],
      "text/latex": [
       "\\begin{description}\n",
       "\\item[\\$cs] \\begin{description}\n",
       "\\item[\\$L3] 1644\n",
       "\\item[\\$L4] 1724\n",
       "\\item[\\$L6] 1457\n",
       "\\item[\\$L1] \\begin{enumerate*}\n",
       "\\item 1669\n",
       "\\item 1680\n",
       "\\item 1692\n",
       "\\item 1707\n",
       "\\item 1714\n",
       "\\end{enumerate*}\n",
       "\n",
       "\\item[\\$L5] \\begin{enumerate*}\n",
       "\\item 1743\n",
       "\\item 1783\n",
       "\\item 1803\n",
       "\\item 1835\n",
       "\\item 1851\n",
       "\\item 1863\n",
       "\\item 1885\n",
       "\\end{enumerate*}\n",
       "\n",
       "\\item[\\$L2] \\begin{enumerate*}\n",
       "\\item 403\n",
       "\\item 427\n",
       "\\item 569\n",
       "\\item 571\n",
       "\\item 590\n",
       "\\item 623\n",
       "\\item 641\n",
       "\\end{enumerate*}\n",
       "\n",
       "\\end{description}\n",
       "\n",
       "\\item[\\$purity] A data.frame: 6 × 3\n",
       "\\begin{tabular}{r|lll}\n",
       "  & min.abs.corr & mean.abs.corr & median.abs.corr\\\\\n",
       "  & <dbl> & <dbl> & <dbl>\\\\\n",
       "\\hline\n",
       "\tL3 & 1.0000000 & 1.0000000 & 1.0000000\\\\\n",
       "\tL4 & 1.0000000 & 1.0000000 & 1.0000000\\\\\n",
       "\tL6 & 1.0000000 & 1.0000000 & 1.0000000\\\\\n",
       "\tL1 & 0.9839210 & 0.9906866 & 0.9875604\\\\\n",
       "\tL5 & 0.9762961 & 0.9878110 & 0.9908655\\\\\n",
       "\tL2 & 0.5655507 & 0.7948809 & 0.6962179\\\\\n",
       "\\end{tabular}\n",
       "\n",
       "\\item[\\$cs\\_index] \\begin{enumerate*}\n",
       "\\item 3\n",
       "\\item 4\n",
       "\\item 6\n",
       "\\item 1\n",
       "\\item 5\n",
       "\\item 2\n",
       "\\end{enumerate*}\n",
       "\n",
       "\\item[\\$coverage] \\begin{enumerate*}\n",
       "\\item 0.998581998568179\n",
       "\\item 0.999999999999539\n",
       "\\item 0.999999999609993\n",
       "\\item 0.967658984576764\n",
       "\\item 0.951170633542582\n",
       "\\item 0.962865876199364\n",
       "\\end{enumerate*}\n",
       "\n",
       "\\item[\\$requested\\_coverage] 0.95\n",
       "\\end{description}\n"
      ],
      "text/markdown": [
       "$cs\n",
       ":   $L3\n",
       ":   1644\n",
       "$L4\n",
       ":   1724\n",
       "$L6\n",
       ":   1457\n",
       "$L1\n",
       ":   1. 1669\n",
       "2. 1680\n",
       "3. 1692\n",
       "4. 1707\n",
       "5. 1714\n",
       "\n",
       "\n",
       "\n",
       "$L5\n",
       ":   1. 1743\n",
       "2. 1783\n",
       "3. 1803\n",
       "4. 1835\n",
       "5. 1851\n",
       "6. 1863\n",
       "7. 1885\n",
       "\n",
       "\n",
       "\n",
       "$L2\n",
       ":   1. 403\n",
       "2. 427\n",
       "3. 569\n",
       "4. 571\n",
       "5. 590\n",
       "6. 623\n",
       "7. 641\n",
       "\n",
       "\n",
       "\n",
       "\n",
       "\n",
       "\n",
       "$purity\n",
       ":   \n",
       "A data.frame: 6 × 3\n",
       "\n",
       "| <!--/--> | min.abs.corr &lt;dbl&gt; | mean.abs.corr &lt;dbl&gt; | median.abs.corr &lt;dbl&gt; |\n",
       "|---|---|---|---|\n",
       "| L3 | 1.0000000 | 1.0000000 | 1.0000000 |\n",
       "| L4 | 1.0000000 | 1.0000000 | 1.0000000 |\n",
       "| L6 | 1.0000000 | 1.0000000 | 1.0000000 |\n",
       "| L1 | 0.9839210 | 0.9906866 | 0.9875604 |\n",
       "| L5 | 0.9762961 | 0.9878110 | 0.9908655 |\n",
       "| L2 | 0.5655507 | 0.7948809 | 0.6962179 |\n",
       "\n",
       "\n",
       "$cs_index\n",
       ":   1. 3\n",
       "2. 4\n",
       "3. 6\n",
       "4. 1\n",
       "5. 5\n",
       "6. 2\n",
       "\n",
       "\n",
       "\n",
       "$coverage\n",
       ":   1. 0.998581998568179\n",
       "2. 0.999999999999539\n",
       "3. 0.999999999609993\n",
       "4. 0.967658984576764\n",
       "5. 0.951170633542582\n",
       "6. 0.962865876199364\n",
       "\n",
       "\n",
       "\n",
       "$requested_coverage\n",
       ":   0.95\n",
       "\n",
       "\n"
      ],
      "text/plain": [
       "$cs\n",
       "$cs$L3\n",
       "[1] 1644\n",
       "\n",
       "$cs$L4\n",
       "[1] 1724\n",
       "\n",
       "$cs$L6\n",
       "[1] 1457\n",
       "\n",
       "$cs$L1\n",
       "[1] 1669 1680 1692 1707 1714\n",
       "\n",
       "$cs$L5\n",
       "[1] 1743 1783 1803 1835 1851 1863 1885\n",
       "\n",
       "$cs$L2\n",
       "[1] 403 427 569 571 590 623 641\n",
       "\n",
       "\n",
       "$purity\n",
       "   min.abs.corr mean.abs.corr median.abs.corr\n",
       "L3    1.0000000     1.0000000       1.0000000\n",
       "L4    1.0000000     1.0000000       1.0000000\n",
       "L6    1.0000000     1.0000000       1.0000000\n",
       "L1    0.9839210     0.9906866       0.9875604\n",
       "L5    0.9762961     0.9878110       0.9908655\n",
       "L2    0.5655507     0.7948809       0.6962179\n",
       "\n",
       "$cs_index\n",
       "[1] 3 4 6 1 5 2\n",
       "\n",
       "$coverage\n",
       "[1] 0.9985820 1.0000000 1.0000000 0.9676590 0.9511706 0.9628659\n",
       "\n",
       "$requested_coverage\n",
       "[1] 0.95\n"
      ]
     },
     "metadata": {},
     "output_type": "display_data"
    }
   ],
   "source": [
    "res10_waist_rerun$sets"
   ]
  },
  {
   "cell_type": "code",
   "execution_count": 52,
   "id": "69b7361c-a028-46eb-99f5-ced7fde5f6eb",
   "metadata": {},
   "outputs": [
    {
     "data": {
      "text/html": [
       "<dl>\n",
       "\t<dt>$cs</dt>\n",
       "\t\t<dd><dl>\n",
       "\t<dt>$L2</dt>\n",
       "\t\t<dd>1457</dd>\n",
       "\t<dt>$L5</dt>\n",
       "\t\t<dd>1724</dd>\n",
       "\t<dt>$L1</dt>\n",
       "\t\t<dd><style>\n",
       ".list-inline {list-style: none; margin:0; padding: 0}\n",
       ".list-inline>li {display: inline-block}\n",
       ".list-inline>li:not(:last-child)::after {content: \"\\00b7\"; padding: 0 .5ex}\n",
       "</style>\n",
       "<ol class=list-inline><li>1669</li><li>1680</li><li>1692</li><li>1707</li><li>1714</li></ol>\n",
       "</dd>\n",
       "\t<dt>$L4</dt>\n",
       "\t\t<dd><style>\n",
       ".list-inline {list-style: none; margin:0; padding: 0}\n",
       ".list-inline>li {display: inline-block}\n",
       ".list-inline>li:not(:last-child)::after {content: \"\\00b7\"; padding: 0 .5ex}\n",
       "</style>\n",
       "<ol class=list-inline><li>1743</li><li>1783</li><li>1835</li><li>1851</li><li>1863</li><li>1885</li></ol>\n",
       "</dd>\n",
       "\t<dt>$L3</dt>\n",
       "\t\t<dd><style>\n",
       ".list-inline {list-style: none; margin:0; padding: 0}\n",
       ".list-inline>li {display: inline-block}\n",
       ".list-inline>li:not(:last-child)::after {content: \"\\00b7\"; padding: 0 .5ex}\n",
       "</style>\n",
       "<ol class=list-inline><li>403</li><li>427</li><li>569</li><li>571</li><li>590</li><li>623</li><li>641</li></ol>\n",
       "</dd>\n",
       "</dl>\n",
       "</dd>\n",
       "\t<dt>$purity</dt>\n",
       "\t\t<dd><table class=\"dataframe\">\n",
       "<caption>A data.frame: 5 × 3</caption>\n",
       "<thead>\n",
       "\t<tr><th></th><th scope=col>min.abs.corr</th><th scope=col>mean.abs.corr</th><th scope=col>median.abs.corr</th></tr>\n",
       "\t<tr><th></th><th scope=col>&lt;dbl&gt;</th><th scope=col>&lt;dbl&gt;</th><th scope=col>&lt;dbl&gt;</th></tr>\n",
       "</thead>\n",
       "<tbody>\n",
       "\t<tr><th scope=row>L2</th><td>1.0000000</td><td>1.0000000</td><td>1.0000000</td></tr>\n",
       "\t<tr><th scope=row>L5</th><td>1.0000000</td><td>1.0000000</td><td>1.0000000</td></tr>\n",
       "\t<tr><th scope=row>L1</th><td>0.9839210</td><td>0.9906866</td><td>0.9875604</td></tr>\n",
       "\t<tr><th scope=row>L4</th><td>0.9762961</td><td>0.9867972</td><td>0.9846997</td></tr>\n",
       "\t<tr><th scope=row>L3</th><td>0.5655507</td><td>0.7948809</td><td>0.6962179</td></tr>\n",
       "</tbody>\n",
       "</table>\n",
       "</dd>\n",
       "\t<dt>$cs_index</dt>\n",
       "\t\t<dd><style>\n",
       ".list-inline {list-style: none; margin:0; padding: 0}\n",
       ".list-inline>li {display: inline-block}\n",
       ".list-inline>li:not(:last-child)::after {content: \"\\00b7\"; padding: 0 .5ex}\n",
       "</style>\n",
       "<ol class=list-inline><li>2</li><li>5</li><li>1</li><li>4</li><li>3</li></ol>\n",
       "</dd>\n",
       "\t<dt>$coverage</dt>\n",
       "\t\t<dd><style>\n",
       ".list-inline {list-style: none; margin:0; padding: 0}\n",
       ".list-inline>li {display: inline-block}\n",
       ".list-inline>li:not(:last-child)::after {content: \"\\00b7\"; padding: 0 .5ex}\n",
       "</style>\n",
       "<ol class=list-inline><li>0.999999999938054</li><li>0.999999999999145</li><li>0.976204878828672</li><li>0.974016467027621</li><li>0.953641066481069</li></ol>\n",
       "</dd>\n",
       "\t<dt>$requested_coverage</dt>\n",
       "\t\t<dd>0.95</dd>\n",
       "</dl>\n"
      ],
      "text/latex": [
       "\\begin{description}\n",
       "\\item[\\$cs] \\begin{description}\n",
       "\\item[\\$L2] 1457\n",
       "\\item[\\$L5] 1724\n",
       "\\item[\\$L1] \\begin{enumerate*}\n",
       "\\item 1669\n",
       "\\item 1680\n",
       "\\item 1692\n",
       "\\item 1707\n",
       "\\item 1714\n",
       "\\end{enumerate*}\n",
       "\n",
       "\\item[\\$L4] \\begin{enumerate*}\n",
       "\\item 1743\n",
       "\\item 1783\n",
       "\\item 1835\n",
       "\\item 1851\n",
       "\\item 1863\n",
       "\\item 1885\n",
       "\\end{enumerate*}\n",
       "\n",
       "\\item[\\$L3] \\begin{enumerate*}\n",
       "\\item 403\n",
       "\\item 427\n",
       "\\item 569\n",
       "\\item 571\n",
       "\\item 590\n",
       "\\item 623\n",
       "\\item 641\n",
       "\\end{enumerate*}\n",
       "\n",
       "\\end{description}\n",
       "\n",
       "\\item[\\$purity] A data.frame: 5 × 3\n",
       "\\begin{tabular}{r|lll}\n",
       "  & min.abs.corr & mean.abs.corr & median.abs.corr\\\\\n",
       "  & <dbl> & <dbl> & <dbl>\\\\\n",
       "\\hline\n",
       "\tL2 & 1.0000000 & 1.0000000 & 1.0000000\\\\\n",
       "\tL5 & 1.0000000 & 1.0000000 & 1.0000000\\\\\n",
       "\tL1 & 0.9839210 & 0.9906866 & 0.9875604\\\\\n",
       "\tL4 & 0.9762961 & 0.9867972 & 0.9846997\\\\\n",
       "\tL3 & 0.5655507 & 0.7948809 & 0.6962179\\\\\n",
       "\\end{tabular}\n",
       "\n",
       "\\item[\\$cs\\_index] \\begin{enumerate*}\n",
       "\\item 2\n",
       "\\item 5\n",
       "\\item 1\n",
       "\\item 4\n",
       "\\item 3\n",
       "\\end{enumerate*}\n",
       "\n",
       "\\item[\\$coverage] \\begin{enumerate*}\n",
       "\\item 0.999999999938054\n",
       "\\item 0.999999999999145\n",
       "\\item 0.976204878828672\n",
       "\\item 0.974016467027621\n",
       "\\item 0.953641066481069\n",
       "\\end{enumerate*}\n",
       "\n",
       "\\item[\\$requested\\_coverage] 0.95\n",
       "\\end{description}\n"
      ],
      "text/markdown": [
       "$cs\n",
       ":   $L2\n",
       ":   1457\n",
       "$L5\n",
       ":   1724\n",
       "$L1\n",
       ":   1. 1669\n",
       "2. 1680\n",
       "3. 1692\n",
       "4. 1707\n",
       "5. 1714\n",
       "\n",
       "\n",
       "\n",
       "$L4\n",
       ":   1. 1743\n",
       "2. 1783\n",
       "3. 1835\n",
       "4. 1851\n",
       "5. 1863\n",
       "6. 1885\n",
       "\n",
       "\n",
       "\n",
       "$L3\n",
       ":   1. 403\n",
       "2. 427\n",
       "3. 569\n",
       "4. 571\n",
       "5. 590\n",
       "6. 623\n",
       "7. 641\n",
       "\n",
       "\n",
       "\n",
       "\n",
       "\n",
       "\n",
       "$purity\n",
       ":   \n",
       "A data.frame: 5 × 3\n",
       "\n",
       "| <!--/--> | min.abs.corr &lt;dbl&gt; | mean.abs.corr &lt;dbl&gt; | median.abs.corr &lt;dbl&gt; |\n",
       "|---|---|---|---|\n",
       "| L2 | 1.0000000 | 1.0000000 | 1.0000000 |\n",
       "| L5 | 1.0000000 | 1.0000000 | 1.0000000 |\n",
       "| L1 | 0.9839210 | 0.9906866 | 0.9875604 |\n",
       "| L4 | 0.9762961 | 0.9867972 | 0.9846997 |\n",
       "| L3 | 0.5655507 | 0.7948809 | 0.6962179 |\n",
       "\n",
       "\n",
       "$cs_index\n",
       ":   1. 2\n",
       "2. 5\n",
       "3. 1\n",
       "4. 4\n",
       "5. 3\n",
       "\n",
       "\n",
       "\n",
       "$coverage\n",
       ":   1. 0.999999999938054\n",
       "2. 0.999999999999145\n",
       "3. 0.976204878828672\n",
       "4. 0.974016467027621\n",
       "5. 0.953641066481069\n",
       "\n",
       "\n",
       "\n",
       "$requested_coverage\n",
       ":   0.95\n",
       "\n",
       "\n"
      ],
      "text/plain": [
       "$cs\n",
       "$cs$L2\n",
       "[1] 1457\n",
       "\n",
       "$cs$L5\n",
       "[1] 1724\n",
       "\n",
       "$cs$L1\n",
       "[1] 1669 1680 1692 1707 1714\n",
       "\n",
       "$cs$L4\n",
       "[1] 1743 1783 1835 1851 1863 1885\n",
       "\n",
       "$cs$L3\n",
       "[1] 403 427 569 571 590 623 641\n",
       "\n",
       "\n",
       "$purity\n",
       "   min.abs.corr mean.abs.corr median.abs.corr\n",
       "L2    1.0000000     1.0000000       1.0000000\n",
       "L5    1.0000000     1.0000000       1.0000000\n",
       "L1    0.9839210     0.9906866       0.9875604\n",
       "L4    0.9762961     0.9867972       0.9846997\n",
       "L3    0.5655507     0.7948809       0.6962179\n",
       "\n",
       "$cs_index\n",
       "[1] 2 5 1 4 3\n",
       "\n",
       "$coverage\n",
       "[1] 1.0000000 1.0000000 0.9762049 0.9740165 0.9536411\n",
       "\n",
       "$requested_coverage\n",
       "[1] 0.95\n"
      ]
     },
     "metadata": {},
     "output_type": "display_data"
    }
   ],
   "source": [
    "res10_waist$sets"
   ]
  },
  {
   "cell_type": "code",
   "execution_count": 54,
   "id": "2b5039b3-0136-4426-8a11-a54c7362eaf1",
   "metadata": {},
   "outputs": [
    {
     "data": {
      "text/html": [
       "FALSE"
      ],
      "text/latex": [
       "FALSE"
      ],
      "text/markdown": [
       "FALSE"
      ],
      "text/plain": [
       "[1] FALSE"
      ]
     },
     "metadata": {},
     "output_type": "display_data"
    }
   ],
   "source": [
    "any(res10_waist_rerun$pip == res10_waist$pip)"
   ]
  },
  {
   "cell_type": "code",
   "execution_count": 63,
   "id": "f3c7caa5-8717-47aa-873f-49477ce34f40",
   "metadata": {},
   "outputs": [
    {
     "data": {
      "image/png": "[encoded data removed]",
      "text/plain": [
       "plot without title"
      ]
     },
     "metadata": {
      "image/png": {
       "height": 420,
       "width": 420
      }
     },
     "output_type": "display_data"
    }
   ],
   "source": [
    "susie_plot(res10_waist_rerun, \"PIP\")"
   ]
  },
  {
   "cell_type": "code",
   "execution_count": 64,
   "id": "6b40e241-f862-4de7-8108-585d6f9a144b",
   "metadata": {},
   "outputs": [
    {
     "data": {
      "image/png": "[encoded data removed]",
      "text/plain": [
       "plot without title"
      ]
     },
     "metadata": {
      "image/png": {
       "height": 420,
       "width": 420
      }
     },
     "output_type": "display_data"
    }
   ],
   "source": [
    "res10_waist_rerun$z = GWAS_filtered%>%pull(Z)\n",
    "susie_plot(res10_waist_rerun, \"z_original\")"
   ]
  },
  {
   "cell_type": "code",
   "execution_count": 65,
   "id": "20c2a969-71df-47f9-8f66-942239250df4",
   "metadata": {},
   "outputs": [
    {
     "name": "stderr",
     "output_type": "stream",
     "text": [
      "\u001b[1m\u001b[4m\u001b[35mHINT:\u001b[39m\u001b[24m\u001b[22m For estimate_residual_variance = TRUE, please check that R is the \"in-sample\" LD matrix; that is, the correlation matrix obtained using the exact same data matrix X that was used for the other summary statistics. Also note, when covariates are included in the univariate regressions that produced the summary statistics, also consider removing these effects from X before computing R.\n",
      "\n"
     ]
    },
    {
     "name": "stdout",
     "output_type": "stream",
     "text": [
      "[1] \"objective:-518925.900679102\"\n",
      "[1] \"objective:-518925.583774693\"\n",
      "[1] \"objective:-518916.595576937\"\n",
      "[1] \"objective:-518916.59487317\"\n",
      "[1] \"objective:-518911.302084229\"\n",
      "[1] \"objective:-518911.301967852\"\n",
      "[1] \"objective:-518909.291087976\"\n",
      "[1] \"objective:-518909.291074266\"\n",
      "[1] \"objective:-518908.474641675\"\n",
      "[1] \"objective:-518908.47463886\"\n",
      "[1] \"objective:-518908.244119946\"\n",
      "[1] \"objective:-518908.244119584\"\n",
      "[1] \"objective:-518908.202465545\"\n",
      "[1] \"objective:-518908.202465516\"\n",
      "[1] \"objective:-518908.19493602\"\n",
      "[1] \"objective:-518908.194936018\"\n",
      "[1] \"objective:-518908.193235808\"\n",
      "[1] \"objective:-518908.193235808\"\n",
      "[1] \"objective:-518908.192770904\"\n"
     ]
    }
   ],
   "source": [
    "res10_waist_rerun_non_refine = susieR:::susie_rss(bhat = bhat , shat = sbhat ,\n",
    "                                 R = new_LD_filtered,n = 365920  , estimate_residual_variance = TRUE, \n",
    "    prior_variance = 50, check_prior = F ,L = 10,verbose = TRUE, compute_univariate_zscore = TRUE )"
   ]
  },
  {
   "cell_type": "code",
   "execution_count": 68,
   "id": "74d5477a-df72-4c8b-9e91-61b8a363d0d3",
   "metadata": {},
   "outputs": [
    {
     "data": {
      "image/png": "[encoded data removed]",
      "text/plain": [
       "plot without title"
      ]
     },
     "metadata": {
      "image/png": {
       "height": 420,
       "width": 420
      }
     },
     "output_type": "display_data"
    },
    {
     "data": {
      "image/png": "[encoded data removed]",
      "text/plain": [
       "plot without title"
      ]
     },
     "metadata": {
      "image/png": {
       "height": 420,
       "width": 420
      }
     },
     "output_type": "display_data"
    }
   ],
   "source": [
    "susie_plot(res10_waist_rerun_non_refine, \"PIP\")\n",
    "res10_waist_rerun_non_refine$z = GWAS_filtered%>%pull(Z)\n",
    "susie_plot(res10_waist_rerun_non_refine, \"z_original\")"
   ]
  },
  {
   "cell_type": "code",
   "execution_count": 84,
   "id": "5e1b2359-447d-4a3d-9cb1-b1543680110b",
   "metadata": {},
   "outputs": [
    {
     "data": {
      "text/html": [
       "<style>\n",
       ".list-inline {list-style: none; margin:0; padding: 0}\n",
       ".list-inline>li {display: inline-block}\n",
       ".list-inline>li:not(:last-child)::after {content: \"\\00b7\"; padding: 0 .5ex}\n",
       "</style>\n",
       "<ol class=list-inline><li>1604</li><li>1657</li><li>1678</li><li>1688</li><li>1695</li><li>1720</li><li>1805</li></ol>\n"
      ],
      "text/latex": [
       "\\begin{enumerate*}\n",
       "\\item 1604\n",
       "\\item 1657\n",
       "\\item 1678\n",
       "\\item 1688\n",
       "\\item 1695\n",
       "\\item 1720\n",
       "\\item 1805\n",
       "\\end{enumerate*}\n"
      ],
      "text/markdown": [
       "1. 1604\n",
       "2. 1657\n",
       "3. 1678\n",
       "4. 1688\n",
       "5. 1695\n",
       "6. 1720\n",
       "7. 1805\n",
       "\n",
       "\n"
      ],
      "text/plain": [
       "[1] 1604 1657 1678 1688 1695 1720 1805"
      ]
     },
     "metadata": {},
     "output_type": "display_data"
    }
   ],
   "source": []
  },
  {
   "cell_type": "code",
   "execution_count": null,
   "id": "3764cbdd-59a2-43a0-a2e5-4681362c433a",
   "metadata": {},
   "outputs": [],
   "source": [
    "#### Waist LD QC plot "
   ]
  },
  {
   "cell_type": "code",
   "execution_count": 70,
   "id": "bceacce6-5713-4e99-804e-0bf5e5738ea6",
   "metadata": {},
   "outputs": [
    {
     "name": "stderr",
     "output_type": "stream",
     "text": [
      "\u001b[1m\u001b[4m\u001b[31mWARNING:\u001b[39m\u001b[24m\u001b[22m The matrix R is not positive semidefinite. Negative eigenvalues are set to zero.\n",
      "\n",
      "\u001b[1m\u001b[4m\u001b[31mWARNING:\u001b[39m\u001b[24m\u001b[22m The matrix R is not positive semidefinite. Negative eigenvalues are set to zero\n",
      "\n"
     ]
    }
   ],
   "source": [
    "condz = susieR::kriging_rss(as.matrix(GWAS_filtered%>%pull(Z)) ,R = new_LD_filtered,n = 365920)"
   ]
  },
  {
   "cell_type": "markdown",
   "id": "6d6c4b95-d907-495d-a49c-eedf69e7cb89",
   "metadata": {},
   "source": [
    "#### See where is the high Z  that are not in CS"
   ]
  },
  {
   "cell_type": "code",
   "execution_count": null,
   "id": "d3832187-de46-461c-ada5-823b32957e10",
   "metadata": {},
   "outputs": [],
   "source": [
    "which(GWAS_filtered$Z %in%  (GWAS_filtered%>%filter(Z < -10))$Z)"
   ]
  },
  {
   "cell_type": "code",
   "execution_count": 86,
   "id": "ab5a2684-0c2b-4643-ac4b-39eaf681fe49",
   "metadata": {},
   "outputs": [],
   "source": [
    "\n",
    "\n",
    "p = ggplot(condz$conditional_dist, aes_string(y = \"z\", x = \"condmean\")) + geom_point() + \n",
    "        labs(y = \"Observed z scores\", x = \"Expected value\") + \n",
    "        geom_abline(intercept = 0, slope = 1) + theme_bw()\n",
    "    idx = c(1604,1657,1678,1688,1695,1720,1805)\n",
    "    if (length(idx) > 0) \n",
    "        p = p + geom_point(data = condz$conditional_dist[idx, ], aes_string(y = \"z\", \n",
    "            x = \"condmean\"), col = \"red\")"
   ]
  },
  {
   "cell_type": "code",
   "execution_count": 87,
   "id": "4b436f30-83f2-4aac-adf7-77d9aadfa3d3",
   "metadata": {},
   "outputs": [
    {
     "data": {
      "image/png": "[encoded data removed]",
      "text/plain": [
       "plot without title"
      ]
     },
     "metadata": {
      "image/png": {
       "height": 420,
       "width": 420
      }
     },
     "output_type": "display_data"
    }
   ],
   "source": [
    "p"
   ]
  },
  {
   "cell_type": "code",
   "execution_count": null,
   "id": "2713729f-9c21-48e2-a8fc-dd394ec9ab7d",
   "metadata": {},
   "outputs": [],
   "source": [
    "#### See the LD of the hightlighted "
   ]
  },
  {
   "cell_type": "code",
   "execution_count": 94,
   "id": "73935c69-0247-43e2-b13a-4295ae11fdab",
   "metadata": {},
   "outputs": [
    {
     "data": {
      "text/html": [
       "<table class=\"dataframe\">\n",
       "<caption>A matrix: 7 × 7 of type dbl</caption>\n",
       "<thead>\n",
       "\t<tr><th></th><th scope=col>7_28220228_T_C</th><th scope=col>7_28227024_A_G</th><th scope=col>7_28230401_C_A</th><th scope=col>7_28238811_G_A</th><th scope=col>7_28241276_G_A</th><th scope=col>7_28243473_G_A</th><th scope=col>7_28246989_G_A</th></tr>\n",
       "</thead>\n",
       "<tbody>\n",
       "\t<tr><th scope=row>7_28188046_A_C</th><td>-0.1438247</td><td>-0.1418293</td><td>-0.1435604</td><td>-0.1413670</td><td>-0.1432374</td><td>-0.1433002</td><td>-0.1433398</td></tr>\n",
       "\t<tr><th scope=row>7_28200324_C_T</th><td>-0.1198626</td><td>-0.1170267</td><td>-0.1191613</td><td>-0.1169498</td><td>-0.1190787</td><td>-0.1188156</td><td>-0.1189458</td></tr>\n",
       "\t<tr><th scope=row>7_28205138_G_C</th><td>-0.1487952</td><td>-0.1455810</td><td>-0.1469904</td><td>-0.1453467</td><td>-0.1479779</td><td>-0.1478341</td><td>-0.1479376</td></tr>\n",
       "\t<tr><th scope=row>7_28206668_C_T</th><td>-0.1485278</td><td>-0.1453177</td><td>-0.1467278</td><td>-0.1450824</td><td>-0.1477121</td><td>-0.1475659</td><td>-0.1476755</td></tr>\n",
       "\t<tr><th scope=row>7_28207784_A_G</th><td>-0.1485592</td><td>-0.1453448</td><td>-0.1467529</td><td>-0.1451129</td><td>-0.1477402</td><td>-0.1475962</td><td>-0.1477036</td></tr>\n",
       "\t<tr><th scope=row>7_28213530_A_G</th><td>-0.1494639</td><td>-0.1468453</td><td>-0.1479619</td><td>-0.1462178</td><td>-0.1485422</td><td>-0.1487740</td><td>-0.1488889</td></tr>\n",
       "\t<tr><th scope=row>7_28231103_T_C</th><td>-0.1511659</td><td>-0.1484653</td><td>-0.1510192</td><td>-0.1479063</td><td>-0.1504406</td><td>-0.1506815</td><td>-0.1508226</td></tr>\n",
       "</tbody>\n",
       "</table>\n"
      ],
      "text/latex": [
       "A matrix: 7 × 7 of type dbl\n",
       "\\begin{tabular}{r|lllllll}\n",
       "  & 7\\_28220228\\_T\\_C & 7\\_28227024\\_A\\_G & 7\\_28230401\\_C\\_A & 7\\_28238811\\_G\\_A & 7\\_28241276\\_G\\_A & 7\\_28243473\\_G\\_A & 7\\_28246989\\_G\\_A\\\\\n",
       "\\hline\n",
       "\t7\\_28188046\\_A\\_C & -0.1438247 & -0.1418293 & -0.1435604 & -0.1413670 & -0.1432374 & -0.1433002 & -0.1433398\\\\\n",
       "\t7\\_28200324\\_C\\_T & -0.1198626 & -0.1170267 & -0.1191613 & -0.1169498 & -0.1190787 & -0.1188156 & -0.1189458\\\\\n",
       "\t7\\_28205138\\_G\\_C & -0.1487952 & -0.1455810 & -0.1469904 & -0.1453467 & -0.1479779 & -0.1478341 & -0.1479376\\\\\n",
       "\t7\\_28206668\\_C\\_T & -0.1485278 & -0.1453177 & -0.1467278 & -0.1450824 & -0.1477121 & -0.1475659 & -0.1476755\\\\\n",
       "\t7\\_28207784\\_A\\_G & -0.1485592 & -0.1453448 & -0.1467529 & -0.1451129 & -0.1477402 & -0.1475962 & -0.1477036\\\\\n",
       "\t7\\_28213530\\_A\\_G & -0.1494639 & -0.1468453 & -0.1479619 & -0.1462178 & -0.1485422 & -0.1487740 & -0.1488889\\\\\n",
       "\t7\\_28231103\\_T\\_C & -0.1511659 & -0.1484653 & -0.1510192 & -0.1479063 & -0.1504406 & -0.1506815 & -0.1508226\\\\\n",
       "\\end{tabular}\n"
      ],
      "text/markdown": [
       "\n",
       "A matrix: 7 × 7 of type dbl\n",
       "\n",
       "| <!--/--> | 7_28220228_T_C | 7_28227024_A_G | 7_28230401_C_A | 7_28238811_G_A | 7_28241276_G_A | 7_28243473_G_A | 7_28246989_G_A |\n",
       "|---|---|---|---|---|---|---|---|\n",
       "| 7_28188046_A_C | -0.1438247 | -0.1418293 | -0.1435604 | -0.1413670 | -0.1432374 | -0.1433002 | -0.1433398 |\n",
       "| 7_28200324_C_T | -0.1198626 | -0.1170267 | -0.1191613 | -0.1169498 | -0.1190787 | -0.1188156 | -0.1189458 |\n",
       "| 7_28205138_G_C | -0.1487952 | -0.1455810 | -0.1469904 | -0.1453467 | -0.1479779 | -0.1478341 | -0.1479376 |\n",
       "| 7_28206668_C_T | -0.1485278 | -0.1453177 | -0.1467278 | -0.1450824 | -0.1477121 | -0.1475659 | -0.1476755 |\n",
       "| 7_28207784_A_G | -0.1485592 | -0.1453448 | -0.1467529 | -0.1451129 | -0.1477402 | -0.1475962 | -0.1477036 |\n",
       "| 7_28213530_A_G | -0.1494639 | -0.1468453 | -0.1479619 | -0.1462178 | -0.1485422 | -0.1487740 | -0.1488889 |\n",
       "| 7_28231103_T_C | -0.1511659 | -0.1484653 | -0.1510192 | -0.1479063 | -0.1504406 | -0.1506815 | -0.1508226 |\n",
       "\n"
      ],
      "text/plain": [
       "               7_28220228_T_C 7_28227024_A_G 7_28230401_C_A 7_28238811_G_A\n",
       "7_28188046_A_C -0.1438247     -0.1418293     -0.1435604     -0.1413670    \n",
       "7_28200324_C_T -0.1198626     -0.1170267     -0.1191613     -0.1169498    \n",
       "7_28205138_G_C -0.1487952     -0.1455810     -0.1469904     -0.1453467    \n",
       "7_28206668_C_T -0.1485278     -0.1453177     -0.1467278     -0.1450824    \n",
       "7_28207784_A_G -0.1485592     -0.1453448     -0.1467529     -0.1451129    \n",
       "7_28213530_A_G -0.1494639     -0.1468453     -0.1479619     -0.1462178    \n",
       "7_28231103_T_C -0.1511659     -0.1484653     -0.1510192     -0.1479063    \n",
       "               7_28241276_G_A 7_28243473_G_A 7_28246989_G_A\n",
       "7_28188046_A_C -0.1432374     -0.1433002     -0.1433398    \n",
       "7_28200324_C_T -0.1190787     -0.1188156     -0.1189458    \n",
       "7_28205138_G_C -0.1479779     -0.1478341     -0.1479376    \n",
       "7_28206668_C_T -0.1477121     -0.1475659     -0.1476755    \n",
       "7_28207784_A_G -0.1477402     -0.1475962     -0.1477036    \n",
       "7_28213530_A_G -0.1485422     -0.1487740     -0.1488889    \n",
       "7_28231103_T_C -0.1504406     -0.1506815     -0.1508226    "
      ]
     },
     "metadata": {},
     "output_type": "display_data"
    }
   ],
   "source": [
    "new_LD_filtered[c(1604,1657,1678,1688,1695,1720,1805), res10_waist_rerun$sets$cs$L5]"
   ]
  },
  {
   "cell_type": "code",
   "execution_count": 92,
   "id": "238ee668-61f1-4ac0-ba59-9e0d296739d5",
   "metadata": {},
   "outputs": [
    {
     "data": {
      "text/html": [
       "<table class=\"dataframe\">\n",
       "<caption>A matrix: 7 × 7 of type dbl</caption>\n",
       "<thead>\n",
       "\t<tr><th></th><th scope=col>7_27945054_C_CT</th><th scope=col>7_27949022_C_CA</th><th scope=col>7_27982312_A_C</th><th scope=col>7_27982633_A_C</th><th scope=col>7_27985368_T_C</th><th scope=col>7_27991924_G_C</th><th scope=col>7_27994758_C_T</th></tr>\n",
       "</thead>\n",
       "<tbody>\n",
       "\t<tr><th scope=row>7_28188046_A_C</th><td>0.04497646</td><td>-0.03067978</td><td>0.05280593</td><td>0.05271899</td><td>0.05300182</td><td>0.05352839</td><td>0.05702767</td></tr>\n",
       "\t<tr><th scope=row>7_28200324_C_T</th><td>0.03889781</td><td> 0.05190818</td><td>0.04697416</td><td>0.04704921</td><td>0.04699595</td><td>0.04617575</td><td>0.04657780</td></tr>\n",
       "\t<tr><th scope=row>7_28205138_G_C</th><td>0.03754114</td><td> 0.05546208</td><td>0.05766422</td><td>0.05766934</td><td>0.05679111</td><td>0.05603536</td><td>0.05950225</td></tr>\n",
       "\t<tr><th scope=row>7_28206668_C_T</th><td>0.03751054</td><td> 0.05509809</td><td>0.05756182</td><td>0.05756923</td><td>0.05668832</td><td>0.05593158</td><td>0.05939947</td></tr>\n",
       "\t<tr><th scope=row>7_28207784_A_G</th><td>0.03733439</td><td> 0.05492651</td><td>0.05747806</td><td>0.05748009</td><td>0.05659992</td><td>0.05584929</td><td>0.05931407</td></tr>\n",
       "\t<tr><th scope=row>7_28213530_A_G</th><td>0.03760291</td><td> 0.05491675</td><td>0.05724929</td><td>0.05728415</td><td>0.05637860</td><td>0.05562851</td><td>0.05923380</td></tr>\n",
       "\t<tr><th scope=row>7_28231103_T_C</th><td>0.03813424</td><td> 0.05514225</td><td>0.05740496</td><td>0.05742219</td><td>0.05657585</td><td>0.05580112</td><td>0.05934832</td></tr>\n",
       "</tbody>\n",
       "</table>\n"
      ],
      "text/latex": [
       "A matrix: 7 × 7 of type dbl\n",
       "\\begin{tabular}{r|lllllll}\n",
       "  & 7\\_27945054\\_C\\_CT & 7\\_27949022\\_C\\_CA & 7\\_27982312\\_A\\_C & 7\\_27982633\\_A\\_C & 7\\_27985368\\_T\\_C & 7\\_27991924\\_G\\_C & 7\\_27994758\\_C\\_T\\\\\n",
       "\\hline\n",
       "\t7\\_28188046\\_A\\_C & 0.04497646 & -0.03067978 & 0.05280593 & 0.05271899 & 0.05300182 & 0.05352839 & 0.05702767\\\\\n",
       "\t7\\_28200324\\_C\\_T & 0.03889781 &  0.05190818 & 0.04697416 & 0.04704921 & 0.04699595 & 0.04617575 & 0.04657780\\\\\n",
       "\t7\\_28205138\\_G\\_C & 0.03754114 &  0.05546208 & 0.05766422 & 0.05766934 & 0.05679111 & 0.05603536 & 0.05950225\\\\\n",
       "\t7\\_28206668\\_C\\_T & 0.03751054 &  0.05509809 & 0.05756182 & 0.05756923 & 0.05668832 & 0.05593158 & 0.05939947\\\\\n",
       "\t7\\_28207784\\_A\\_G & 0.03733439 &  0.05492651 & 0.05747806 & 0.05748009 & 0.05659992 & 0.05584929 & 0.05931407\\\\\n",
       "\t7\\_28213530\\_A\\_G & 0.03760291 &  0.05491675 & 0.05724929 & 0.05728415 & 0.05637860 & 0.05562851 & 0.05923380\\\\\n",
       "\t7\\_28231103\\_T\\_C & 0.03813424 &  0.05514225 & 0.05740496 & 0.05742219 & 0.05657585 & 0.05580112 & 0.05934832\\\\\n",
       "\\end{tabular}\n"
      ],
      "text/markdown": [
       "\n",
       "A matrix: 7 × 7 of type dbl\n",
       "\n",
       "| <!--/--> | 7_27945054_C_CT | 7_27949022_C_CA | 7_27982312_A_C | 7_27982633_A_C | 7_27985368_T_C | 7_27991924_G_C | 7_27994758_C_T |\n",
       "|---|---|---|---|---|---|---|---|\n",
       "| 7_28188046_A_C | 0.04497646 | -0.03067978 | 0.05280593 | 0.05271899 | 0.05300182 | 0.05352839 | 0.05702767 |\n",
       "| 7_28200324_C_T | 0.03889781 |  0.05190818 | 0.04697416 | 0.04704921 | 0.04699595 | 0.04617575 | 0.04657780 |\n",
       "| 7_28205138_G_C | 0.03754114 |  0.05546208 | 0.05766422 | 0.05766934 | 0.05679111 | 0.05603536 | 0.05950225 |\n",
       "| 7_28206668_C_T | 0.03751054 |  0.05509809 | 0.05756182 | 0.05756923 | 0.05668832 | 0.05593158 | 0.05939947 |\n",
       "| 7_28207784_A_G | 0.03733439 |  0.05492651 | 0.05747806 | 0.05748009 | 0.05659992 | 0.05584929 | 0.05931407 |\n",
       "| 7_28213530_A_G | 0.03760291 |  0.05491675 | 0.05724929 | 0.05728415 | 0.05637860 | 0.05562851 | 0.05923380 |\n",
       "| 7_28231103_T_C | 0.03813424 |  0.05514225 | 0.05740496 | 0.05742219 | 0.05657585 | 0.05580112 | 0.05934832 |\n",
       "\n"
      ],
      "text/plain": [
       "               7_27945054_C_CT 7_27949022_C_CA 7_27982312_A_C 7_27982633_A_C\n",
       "7_28188046_A_C 0.04497646      -0.03067978     0.05280593     0.05271899    \n",
       "7_28200324_C_T 0.03889781       0.05190818     0.04697416     0.04704921    \n",
       "7_28205138_G_C 0.03754114       0.05546208     0.05766422     0.05766934    \n",
       "7_28206668_C_T 0.03751054       0.05509809     0.05756182     0.05756923    \n",
       "7_28207784_A_G 0.03733439       0.05492651     0.05747806     0.05748009    \n",
       "7_28213530_A_G 0.03760291       0.05491675     0.05724929     0.05728415    \n",
       "7_28231103_T_C 0.03813424       0.05514225     0.05740496     0.05742219    \n",
       "               7_27985368_T_C 7_27991924_G_C 7_27994758_C_T\n",
       "7_28188046_A_C 0.05300182     0.05352839     0.05702767    \n",
       "7_28200324_C_T 0.04699595     0.04617575     0.04657780    \n",
       "7_28205138_G_C 0.05679111     0.05603536     0.05950225    \n",
       "7_28206668_C_T 0.05668832     0.05593158     0.05939947    \n",
       "7_28207784_A_G 0.05659992     0.05584929     0.05931407    \n",
       "7_28213530_A_G 0.05637860     0.05562851     0.05923380    \n",
       "7_28231103_T_C 0.05657585     0.05580112     0.05934832    "
      ]
     },
     "metadata": {},
     "output_type": "display_data"
    }
   ],
   "source": [
    "new_LD_filtered[c(1604,1657,1678,1688,1695,1720,1805), res10_waist_rerun$sets$cs$L2]"
   ]
  },
  {
   "cell_type": "code",
   "execution_count": 96,
   "id": "e1eb41bf-fc87-4f4e-bf4b-2822c4e4b928",
   "metadata": {},
   "outputs": [
    {
     "data": {
      "text/html": [
       "<table class=\"dataframe\">\n",
       "<caption>A matrix: 7 × 5 of type dbl</caption>\n",
       "<thead>\n",
       "\t<tr><th></th><th scope=col>7_28203142_T_C</th><th scope=col>7_28205303_C_T</th><th scope=col>7_28207300_T_G</th><th scope=col>7_28210660_C_T</th><th scope=col>7_28212824_C_T</th></tr>\n",
       "</thead>\n",
       "<tbody>\n",
       "\t<tr><th scope=row>7_28188046_A_C</th><td>-0.6298969</td><td>-0.6295271</td><td>-0.6288748</td><td>-0.6247857</td><td>-0.6239123</td></tr>\n",
       "\t<tr><th scope=row>7_28200324_C_T</th><td>-0.5266182</td><td>-0.5263625</td><td>-0.5257240</td><td>-0.5215563</td><td>-0.5204246</td></tr>\n",
       "\t<tr><th scope=row>7_28205138_G_C</th><td>-0.6517138</td><td>-0.6513777</td><td>-0.6505541</td><td>-0.6457562</td><td>-0.6425622</td></tr>\n",
       "\t<tr><th scope=row>7_28206668_C_T</th><td>-0.6509243</td><td>-0.6506042</td><td>-0.6500722</td><td>-0.6452318</td><td>-0.6420599</td></tr>\n",
       "\t<tr><th scope=row>7_28207784_A_G</th><td>-0.6506574</td><td>-0.6503206</td><td>-0.6498404</td><td>-0.6452299</td><td>-0.6439474</td></tr>\n",
       "\t<tr><th scope=row>7_28213530_A_G</th><td>-0.6452822</td><td>-0.6449918</td><td>-0.6444793</td><td>-0.6473064</td><td>-0.6437795</td></tr>\n",
       "\t<tr><th scope=row>7_28231103_T_C</th><td>-0.6165873</td><td>-0.6163041</td><td>-0.6158517</td><td>-0.6184030</td><td>-0.6172483</td></tr>\n",
       "</tbody>\n",
       "</table>\n"
      ],
      "text/latex": [
       "A matrix: 7 × 5 of type dbl\n",
       "\\begin{tabular}{r|lllll}\n",
       "  & 7\\_28203142\\_T\\_C & 7\\_28205303\\_C\\_T & 7\\_28207300\\_T\\_G & 7\\_28210660\\_C\\_T & 7\\_28212824\\_C\\_T\\\\\n",
       "\\hline\n",
       "\t7\\_28188046\\_A\\_C & -0.6298969 & -0.6295271 & -0.6288748 & -0.6247857 & -0.6239123\\\\\n",
       "\t7\\_28200324\\_C\\_T & -0.5266182 & -0.5263625 & -0.5257240 & -0.5215563 & -0.5204246\\\\\n",
       "\t7\\_28205138\\_G\\_C & -0.6517138 & -0.6513777 & -0.6505541 & -0.6457562 & -0.6425622\\\\\n",
       "\t7\\_28206668\\_C\\_T & -0.6509243 & -0.6506042 & -0.6500722 & -0.6452318 & -0.6420599\\\\\n",
       "\t7\\_28207784\\_A\\_G & -0.6506574 & -0.6503206 & -0.6498404 & -0.6452299 & -0.6439474\\\\\n",
       "\t7\\_28213530\\_A\\_G & -0.6452822 & -0.6449918 & -0.6444793 & -0.6473064 & -0.6437795\\\\\n",
       "\t7\\_28231103\\_T\\_C & -0.6165873 & -0.6163041 & -0.6158517 & -0.6184030 & -0.6172483\\\\\n",
       "\\end{tabular}\n"
      ],
      "text/markdown": [
       "\n",
       "A matrix: 7 × 5 of type dbl\n",
       "\n",
       "| <!--/--> | 7_28203142_T_C | 7_28205303_C_T | 7_28207300_T_G | 7_28210660_C_T | 7_28212824_C_T |\n",
       "|---|---|---|---|---|---|\n",
       "| 7_28188046_A_C | -0.6298969 | -0.6295271 | -0.6288748 | -0.6247857 | -0.6239123 |\n",
       "| 7_28200324_C_T | -0.5266182 | -0.5263625 | -0.5257240 | -0.5215563 | -0.5204246 |\n",
       "| 7_28205138_G_C | -0.6517138 | -0.6513777 | -0.6505541 | -0.6457562 | -0.6425622 |\n",
       "| 7_28206668_C_T | -0.6509243 | -0.6506042 | -0.6500722 | -0.6452318 | -0.6420599 |\n",
       "| 7_28207784_A_G | -0.6506574 | -0.6503206 | -0.6498404 | -0.6452299 | -0.6439474 |\n",
       "| 7_28213530_A_G | -0.6452822 | -0.6449918 | -0.6444793 | -0.6473064 | -0.6437795 |\n",
       "| 7_28231103_T_C | -0.6165873 | -0.6163041 | -0.6158517 | -0.6184030 | -0.6172483 |\n",
       "\n"
      ],
      "text/plain": [
       "               7_28203142_T_C 7_28205303_C_T 7_28207300_T_G 7_28210660_C_T\n",
       "7_28188046_A_C -0.6298969     -0.6295271     -0.6288748     -0.6247857    \n",
       "7_28200324_C_T -0.5266182     -0.5263625     -0.5257240     -0.5215563    \n",
       "7_28205138_G_C -0.6517138     -0.6513777     -0.6505541     -0.6457562    \n",
       "7_28206668_C_T -0.6509243     -0.6506042     -0.6500722     -0.6452318    \n",
       "7_28207784_A_G -0.6506574     -0.6503206     -0.6498404     -0.6452299    \n",
       "7_28213530_A_G -0.6452822     -0.6449918     -0.6444793     -0.6473064    \n",
       "7_28231103_T_C -0.6165873     -0.6163041     -0.6158517     -0.6184030    \n",
       "               7_28212824_C_T\n",
       "7_28188046_A_C -0.6239123    \n",
       "7_28200324_C_T -0.5204246    \n",
       "7_28205138_G_C -0.6425622    \n",
       "7_28206668_C_T -0.6420599    \n",
       "7_28207784_A_G -0.6439474    \n",
       "7_28213530_A_G -0.6437795    \n",
       "7_28231103_T_C -0.6172483    "
      ]
     },
     "metadata": {},
     "output_type": "display_data"
    }
   ],
   "source": [
    "new_LD_filtered[c(1604,1657,1678,1688,1695,1720,1805), res10_waist_rerun$sets$cs$L1]"
   ]
  },
  {
   "cell_type": "code",
   "execution_count": 95,
   "id": "5645c9e7-ee08-4bf9-918d-337f06ae96c6",
   "metadata": {},
   "outputs": [
    {
     "data": {
      "text/html": [
       "<table class=\"dataframe\">\n",
       "<caption>A matrix: 7 × 3 of type dbl</caption>\n",
       "<thead>\n",
       "\t<tr><th></th><th scope=col>7_28197805_CACACAG_C</th><th scope=col>7_28214614_C_A</th><th scope=col>7_28159795_G_GT</th></tr>\n",
       "</thead>\n",
       "<tbody>\n",
       "\t<tr><th scope=row>7_28188046_A_C</th><td>-0.4044334</td><td>-0.2104333</td><td> 0.05735555</td></tr>\n",
       "\t<tr><th scope=row>7_28200324_C_T</th><td>-0.3393821</td><td>-0.1769121</td><td>-0.41772950</td></tr>\n",
       "\t<tr><th scope=row>7_28205138_G_C</th><td>-0.4207897</td><td>-0.2185265</td><td>-0.50068301</td></tr>\n",
       "\t<tr><th scope=row>7_28206668_C_T</th><td>-0.4203068</td><td>-0.2182654</td><td>-0.50112510</td></tr>\n",
       "\t<tr><th scope=row>7_28207784_A_G</th><td>-0.4200498</td><td>-0.2197752</td><td>-0.49996263</td></tr>\n",
       "\t<tr><th scope=row>7_28213530_A_G</th><td>-0.4153030</td><td>-0.2189582</td><td>-0.49585664</td></tr>\n",
       "\t<tr><th scope=row>7_28231103_T_C</th><td>-0.3923382</td><td>-0.2083391</td><td>-0.49056581</td></tr>\n",
       "</tbody>\n",
       "</table>\n"
      ],
      "text/latex": [
       "A matrix: 7 × 3 of type dbl\n",
       "\\begin{tabular}{r|lll}\n",
       "  & 7\\_28197805\\_CACACAG\\_C & 7\\_28214614\\_C\\_A & 7\\_28159795\\_G\\_GT\\\\\n",
       "\\hline\n",
       "\t7\\_28188046\\_A\\_C & -0.4044334 & -0.2104333 &  0.05735555\\\\\n",
       "\t7\\_28200324\\_C\\_T & -0.3393821 & -0.1769121 & -0.41772950\\\\\n",
       "\t7\\_28205138\\_G\\_C & -0.4207897 & -0.2185265 & -0.50068301\\\\\n",
       "\t7\\_28206668\\_C\\_T & -0.4203068 & -0.2182654 & -0.50112510\\\\\n",
       "\t7\\_28207784\\_A\\_G & -0.4200498 & -0.2197752 & -0.49996263\\\\\n",
       "\t7\\_28213530\\_A\\_G & -0.4153030 & -0.2189582 & -0.49585664\\\\\n",
       "\t7\\_28231103\\_T\\_C & -0.3923382 & -0.2083391 & -0.49056581\\\\\n",
       "\\end{tabular}\n"
      ],
      "text/markdown": [
       "\n",
       "A matrix: 7 × 3 of type dbl\n",
       "\n",
       "| <!--/--> | 7_28197805_CACACAG_C | 7_28214614_C_A | 7_28159795_G_GT |\n",
       "|---|---|---|---|\n",
       "| 7_28188046_A_C | -0.4044334 | -0.2104333 |  0.05735555 |\n",
       "| 7_28200324_C_T | -0.3393821 | -0.1769121 | -0.41772950 |\n",
       "| 7_28205138_G_C | -0.4207897 | -0.2185265 | -0.50068301 |\n",
       "| 7_28206668_C_T | -0.4203068 | -0.2182654 | -0.50112510 |\n",
       "| 7_28207784_A_G | -0.4200498 | -0.2197752 | -0.49996263 |\n",
       "| 7_28213530_A_G | -0.4153030 | -0.2189582 | -0.49585664 |\n",
       "| 7_28231103_T_C | -0.3923382 | -0.2083391 | -0.49056581 |\n",
       "\n"
      ],
      "text/plain": [
       "               7_28197805_CACACAG_C 7_28214614_C_A 7_28159795_G_GT\n",
       "7_28188046_A_C -0.4044334           -0.2104333      0.05735555    \n",
       "7_28200324_C_T -0.3393821           -0.1769121     -0.41772950    \n",
       "7_28205138_G_C -0.4207897           -0.2185265     -0.50068301    \n",
       "7_28206668_C_T -0.4203068           -0.2182654     -0.50112510    \n",
       "7_28207784_A_G -0.4200498           -0.2197752     -0.49996263    \n",
       "7_28213530_A_G -0.4153030           -0.2189582     -0.49585664    \n",
       "7_28231103_T_C -0.3923382           -0.2083391     -0.49056581    "
      ]
     },
     "metadata": {},
     "output_type": "display_data"
    }
   ],
   "source": [
    "new_LD_filtered[c(1604,1657,1678,1688,1695,1720,1805), c(res10_waist_rerun$sets$cs$L3,res10_waist_rerun$sets$cs$L4,res10_waist_rerun$sets$cs$L6 )]"
   ]
  },
  {
   "cell_type": "code",
   "execution_count": 99,
   "id": "5d162c6d-e8a7-44b4-8088-990c46610168",
   "metadata": {},
   "outputs": [
    {
     "data": {
      "text/html": [
       "<table class=\"dataframe\">\n",
       "<caption>A tibble: 6 × 16</caption>\n",
       "<thead>\n",
       "\t<tr><th scope=col>CHROM</th><th scope=col>GENPOS</th><th scope=col>ID</th><th scope=col>ALLELE0</th><th scope=col>ALLELE1</th><th scope=col>A1FREQ</th><th scope=col>INFO</th><th scope=col>N</th><th scope=col>TEST</th><th scope=col>BETA</th><th scope=col>SE</th><th scope=col>CHISQ</th><th scope=col>LOG10P</th><th scope=col>EXTRA</th><th scope=col>variant</th><th scope=col>Z</th></tr>\n",
       "\t<tr><th scope=col>&lt;dbl&gt;</th><th scope=col>&lt;dbl&gt;</th><th scope=col>&lt;chr&gt;</th><th scope=col>&lt;chr&gt;</th><th scope=col>&lt;chr&gt;</th><th scope=col>&lt;dbl&gt;</th><th scope=col>&lt;dbl&gt;</th><th scope=col>&lt;dbl&gt;</th><th scope=col>&lt;chr&gt;</th><th scope=col>&lt;dbl&gt;</th><th scope=col>&lt;dbl&gt;</th><th scope=col>&lt;dbl&gt;</th><th scope=col>&lt;dbl&gt;</th><th scope=col>&lt;lgl&gt;</th><th scope=col>&lt;chr&gt;</th><th scope=col>&lt;dbl&gt;</th></tr>\n",
       "</thead>\n",
       "<tbody>\n",
       "\t<tr><td>7</td><td>28200324</td><td>rs73091214 </td><td>C</td><td>T</td><td>0.893509</td><td>0.977700</td><td>365920</td><td>ADD</td><td>-0.0352128</td><td>0.00223654</td><td>247.883</td><td>55.1240</td><td>NA</td><td>7_28200324_C_T</td><td>-15.74432</td></tr>\n",
       "\t<tr><td>7</td><td>28205138</td><td>rs73091220 </td><td>G</td><td>C</td><td>0.848774</td><td>0.999036</td><td>365920</td><td>ADD</td><td>-0.0348317</td><td>0.00190664</td><td>333.744</td><td>73.8327</td><td>NA</td><td>7_28205138_G_C</td><td>-18.26863</td></tr>\n",
       "\t<tr><td>7</td><td>28206668</td><td>rs76491048 </td><td>C</td><td>T</td><td>0.848915</td><td>0.998997</td><td>365920</td><td>ADD</td><td>-0.0347635</td><td>0.00190749</td><td>332.142</td><td>73.4837</td><td>NA</td><td>7_28206668_C_T</td><td>-18.22474</td></tr>\n",
       "\t<tr><td>7</td><td>28207784</td><td>rs150231034</td><td>A</td><td>G</td><td>0.849051</td><td>0.999127</td><td>365920</td><td>ADD</td><td>-0.0348108</td><td>0.00190812</td><td>332.827</td><td>73.6329</td><td>NA</td><td>7_28207784_A_G</td><td>-18.24351</td></tr>\n",
       "\t<tr><td>7</td><td>28213530</td><td>rs113598422</td><td>A</td><td>G</td><td>0.847854</td><td>0.996083</td><td>365920</td><td>ADD</td><td>-0.0346974</td><td>0.00190497</td><td>331.756</td><td>73.3997</td><td>NA</td><td>7_28213530_A_G</td><td>-18.21415</td></tr>\n",
       "\t<tr><td>7</td><td>28231103</td><td>rs57871463 </td><td>T</td><td>C</td><td>0.844042</td><td>0.984847</td><td>365920</td><td>ADD</td><td>-0.0328799</td><td>0.00189633</td><td>300.633</td><td>66.6201</td><td>NA</td><td>7_28231103_T_C</td><td>-17.33870</td></tr>\n",
       "</tbody>\n",
       "</table>\n"
      ],
      "text/latex": [
       "A tibble: 6 × 16\n",
       "\\begin{tabular}{llllllllllllllll}\n",
       " CHROM & GENPOS & ID & ALLELE0 & ALLELE1 & A1FREQ & INFO & N & TEST & BETA & SE & CHISQ & LOG10P & EXTRA & variant & Z\\\\\n",
       " <dbl> & <dbl> & <chr> & <chr> & <chr> & <dbl> & <dbl> & <dbl> & <chr> & <dbl> & <dbl> & <dbl> & <dbl> & <lgl> & <chr> & <dbl>\\\\\n",
       "\\hline\n",
       "\t 7 & 28200324 & rs73091214  & C & T & 0.893509 & 0.977700 & 365920 & ADD & -0.0352128 & 0.00223654 & 247.883 & 55.1240 & NA & 7\\_28200324\\_C\\_T & -15.74432\\\\\n",
       "\t 7 & 28205138 & rs73091220  & G & C & 0.848774 & 0.999036 & 365920 & ADD & -0.0348317 & 0.00190664 & 333.744 & 73.8327 & NA & 7\\_28205138\\_G\\_C & -18.26863\\\\\n",
       "\t 7 & 28206668 & rs76491048  & C & T & 0.848915 & 0.998997 & 365920 & ADD & -0.0347635 & 0.00190749 & 332.142 & 73.4837 & NA & 7\\_28206668\\_C\\_T & -18.22474\\\\\n",
       "\t 7 & 28207784 & rs150231034 & A & G & 0.849051 & 0.999127 & 365920 & ADD & -0.0348108 & 0.00190812 & 332.827 & 73.6329 & NA & 7\\_28207784\\_A\\_G & -18.24351\\\\\n",
       "\t 7 & 28213530 & rs113598422 & A & G & 0.847854 & 0.996083 & 365920 & ADD & -0.0346974 & 0.00190497 & 331.756 & 73.3997 & NA & 7\\_28213530\\_A\\_G & -18.21415\\\\\n",
       "\t 7 & 28231103 & rs57871463  & T & C & 0.844042 & 0.984847 & 365920 & ADD & -0.0328799 & 0.00189633 & 300.633 & 66.6201 & NA & 7\\_28231103\\_T\\_C & -17.33870\\\\\n",
       "\\end{tabular}\n"
      ],
      "text/markdown": [
       "\n",
       "A tibble: 6 × 16\n",
       "\n",
       "| CHROM &lt;dbl&gt; | GENPOS &lt;dbl&gt; | ID &lt;chr&gt; | ALLELE0 &lt;chr&gt; | ALLELE1 &lt;chr&gt; | A1FREQ &lt;dbl&gt; | INFO &lt;dbl&gt; | N &lt;dbl&gt; | TEST &lt;chr&gt; | BETA &lt;dbl&gt; | SE &lt;dbl&gt; | CHISQ &lt;dbl&gt; | LOG10P &lt;dbl&gt; | EXTRA &lt;lgl&gt; | variant &lt;chr&gt; | Z &lt;dbl&gt; |\n",
       "|---|---|---|---|---|---|---|---|---|---|---|---|---|---|---|---|\n",
       "| 7 | 28200324 | rs73091214  | C | T | 0.893509 | 0.977700 | 365920 | ADD | -0.0352128 | 0.00223654 | 247.883 | 55.1240 | NA | 7_28200324_C_T | -15.74432 |\n",
       "| 7 | 28205138 | rs73091220  | G | C | 0.848774 | 0.999036 | 365920 | ADD | -0.0348317 | 0.00190664 | 333.744 | 73.8327 | NA | 7_28205138_G_C | -18.26863 |\n",
       "| 7 | 28206668 | rs76491048  | C | T | 0.848915 | 0.998997 | 365920 | ADD | -0.0347635 | 0.00190749 | 332.142 | 73.4837 | NA | 7_28206668_C_T | -18.22474 |\n",
       "| 7 | 28207784 | rs150231034 | A | G | 0.849051 | 0.999127 | 365920 | ADD | -0.0348108 | 0.00190812 | 332.827 | 73.6329 | NA | 7_28207784_A_G | -18.24351 |\n",
       "| 7 | 28213530 | rs113598422 | A | G | 0.847854 | 0.996083 | 365920 | ADD | -0.0346974 | 0.00190497 | 331.756 | 73.3997 | NA | 7_28213530_A_G | -18.21415 |\n",
       "| 7 | 28231103 | rs57871463  | T | C | 0.844042 | 0.984847 | 365920 | ADD | -0.0328799 | 0.00189633 | 300.633 | 66.6201 | NA | 7_28231103_T_C | -17.33870 |\n",
       "\n"
      ],
      "text/plain": [
       "  CHROM GENPOS   ID          ALLELE0 ALLELE1 A1FREQ   INFO     N      TEST\n",
       "1 7     28200324 rs73091214  C       T       0.893509 0.977700 365920 ADD \n",
       "2 7     28205138 rs73091220  G       C       0.848774 0.999036 365920 ADD \n",
       "3 7     28206668 rs76491048  C       T       0.848915 0.998997 365920 ADD \n",
       "4 7     28207784 rs150231034 A       G       0.849051 0.999127 365920 ADD \n",
       "5 7     28213530 rs113598422 A       G       0.847854 0.996083 365920 ADD \n",
       "6 7     28231103 rs57871463  T       C       0.844042 0.984847 365920 ADD \n",
       "  BETA       SE         CHISQ   LOG10P  EXTRA variant        Z        \n",
       "1 -0.0352128 0.00223654 247.883 55.1240 NA    7_28200324_C_T -15.74432\n",
       "2 -0.0348317 0.00190664 333.744 73.8327 NA    7_28205138_G_C -18.26863\n",
       "3 -0.0347635 0.00190749 332.142 73.4837 NA    7_28206668_C_T -18.22474\n",
       "4 -0.0348108 0.00190812 332.827 73.6329 NA    7_28207784_A_G -18.24351\n",
       "5 -0.0346974 0.00190497 331.756 73.3997 NA    7_28213530_A_G -18.21415\n",
       "6 -0.0328799 0.00189633 300.633 66.6201 NA    7_28231103_T_C -17.33870"
      ]
     },
     "metadata": {},
     "output_type": "display_data"
    }
   ],
   "source": [
    "GWAS_filtered%>%filter(Z < -12)"
   ]
  },
  {
   "cell_type": "markdown",
   "id": "e06561f7-a2b7-42e4-b97a-e52dcf2a80c8",
   "metadata": {},
   "source": [
    "### 2. Check correlation of CS between Hight_5(L4) with other CS"
   ]
  },
  {
   "cell_type": "code",
   "execution_count": 97,
   "id": "0d973ab8-8f66-453d-9479-9f40e7f8c511",
   "metadata": {},
   "outputs": [
    {
     "data": {
      "text/html": [
       "<table class=\"dataframe\">\n",
       "<caption>A matrix: 6 × 6 of type dbl</caption>\n",
       "<thead>\n",
       "\t<tr><th></th><th scope=col>L3</th><th scope=col>L4</th><th scope=col>L6</th><th scope=col>L1</th><th scope=col>L5</th><th scope=col>L2</th></tr>\n",
       "</thead>\n",
       "<tbody>\n",
       "\t<tr><th scope=row>L3</th><td> 1.00000000</td><td>-0.089923881</td><td>0.34157416</td><td> 0.63241333</td><td>-0.09149425</td><td>-0.046376299</td></tr>\n",
       "\t<tr><th scope=row>L4</th><td>-0.08992388</td><td> 1.000000000</td><td>0.07125106</td><td> 0.32550335</td><td> 0.52575368</td><td> 0.006262631</td></tr>\n",
       "\t<tr><th scope=row>L6</th><td> 0.34157416</td><td> 0.071251057</td><td>1.00000000</td><td> 0.34625262</td><td> 0.07895993</td><td> 0.013319202</td></tr>\n",
       "\t<tr><th scope=row>L1</th><td> 0.63241333</td><td> 0.325503349</td><td>0.34625262</td><td> 1.00000012</td><td> 0.22524266</td><td>-0.064054720</td></tr>\n",
       "\t<tr><th scope=row>L5</th><td>-0.09149425</td><td> 0.525753677</td><td>0.07895993</td><td> 0.22524266</td><td> 1.00000000</td><td> 0.025586858</td></tr>\n",
       "\t<tr><th scope=row>L2</th><td>-0.04637630</td><td> 0.006262631</td><td>0.01331920</td><td>-0.06405472</td><td> 0.02558686</td><td> 1.000000119</td></tr>\n",
       "</tbody>\n",
       "</table>\n"
      ],
      "text/latex": [
       "A matrix: 6 × 6 of type dbl\n",
       "\\begin{tabular}{r|llllll}\n",
       "  & L3 & L4 & L6 & L1 & L5 & L2\\\\\n",
       "\\hline\n",
       "\tL3 &  1.00000000 & -0.089923881 & 0.34157416 &  0.63241333 & -0.09149425 & -0.046376299\\\\\n",
       "\tL4 & -0.08992388 &  1.000000000 & 0.07125106 &  0.32550335 &  0.52575368 &  0.006262631\\\\\n",
       "\tL6 &  0.34157416 &  0.071251057 & 1.00000000 &  0.34625262 &  0.07895993 &  0.013319202\\\\\n",
       "\tL1 &  0.63241333 &  0.325503349 & 0.34625262 &  1.00000012 &  0.22524266 & -0.064054720\\\\\n",
       "\tL5 & -0.09149425 &  0.525753677 & 0.07895993 &  0.22524266 &  1.00000000 &  0.025586858\\\\\n",
       "\tL2 & -0.04637630 &  0.006262631 & 0.01331920 & -0.06405472 &  0.02558686 &  1.000000119\\\\\n",
       "\\end{tabular}\n"
      ],
      "text/markdown": [
       "\n",
       "A matrix: 6 × 6 of type dbl\n",
       "\n",
       "| <!--/--> | L3 | L4 | L6 | L1 | L5 | L2 |\n",
       "|---|---|---|---|---|---|---|\n",
       "| L3 |  1.00000000 | -0.089923881 | 0.34157416 |  0.63241333 | -0.09149425 | -0.046376299 |\n",
       "| L4 | -0.08992388 |  1.000000000 | 0.07125106 |  0.32550335 |  0.52575368 |  0.006262631 |\n",
       "| L6 |  0.34157416 |  0.071251057 | 1.00000000 |  0.34625262 |  0.07895993 |  0.013319202 |\n",
       "| L1 |  0.63241333 |  0.325503349 | 0.34625262 |  1.00000012 |  0.22524266 | -0.064054720 |\n",
       "| L5 | -0.09149425 |  0.525753677 | 0.07895993 |  0.22524266 |  1.00000000 |  0.025586858 |\n",
       "| L2 | -0.04637630 |  0.006262631 | 0.01331920 | -0.06405472 |  0.02558686 |  1.000000119 |\n",
       "\n"
      ],
      "text/plain": [
       "   L3          L4           L6         L1          L5          L2          \n",
       "L3  1.00000000 -0.089923881 0.34157416  0.63241333 -0.09149425 -0.046376299\n",
       "L4 -0.08992388  1.000000000 0.07125106  0.32550335  0.52575368  0.006262631\n",
       "L6  0.34157416  0.071251057 1.00000000  0.34625262  0.07895993  0.013319202\n",
       "L1  0.63241333  0.325503349 0.34625262  1.00000012  0.22524266 -0.064054720\n",
       "L5 -0.09149425  0.525753677 0.07895993  0.22524266  1.00000000  0.025586858\n",
       "L2 -0.04637630  0.006262631 0.01331920 -0.06405472  0.02558686  1.000000119"
      ]
     },
     "metadata": {},
     "output_type": "display_data"
    }
   ],
   "source": [
    "get_cs_correlation(res10_waist_rerun,Xcorr = new_LD_filtered )"
   ]
  },
  {
   "cell_type": "code",
   "execution_count": null,
   "id": "98b59b19-25c2-4bab-bcd5-dc9ffb34270a",
   "metadata": {},
   "outputs": [],
   "source": []
  },
  {
   "cell_type": "code",
   "execution_count": 101,
   "id": "59aad46b-63f4-4639-bebe-012b82fa6139",
   "metadata": {},
   "outputs": [
    {
     "name": "stderr",
     "output_type": "stream",
     "text": [
      "\u001b[1m\u001b[4m\u001b[35mHINT:\u001b[39m\u001b[24m\u001b[22m For estimate_residual_variance = TRUE, please check that R is the \"in-sample\" LD matrix; that is, the correlation matrix obtained using the exact same data matrix X that was used for the other summary statistics. Also note, when covariates are included in the univariate regressions that produced the summary statistics, also consider removing these effects from X before computing R.\n",
      "\n"
     ]
    },
    {
     "name": "stdout",
     "output_type": "stream",
     "text": [
      "[1] \"objective:-518925.900679102\"\n",
      "[1] \"objective:-518925.583774693\"\n"
     ]
    },
    {
     "name": "stderr",
     "output_type": "stream",
     "text": [
      "Warning message in susie_suff_stat(XtX = XtX, Xty = Xty, n = n, yty = (n - 1) * :\n",
      "“IBSS algorithm did not converge in 1 iterations!\n",
      "                  Please check consistency between summary statistics and LD matrix.\n",
      "                  See https://stephenslab.github.io/susieR/articles/susierss_diagnostic.html”\n"
     ]
    }
   ],
   "source": [
    "res10_waist_conditional_analysis = susieR:::susie_rss(bhat = bhat , shat = sbhat ,\n",
    "                                 R = new_LD_filtered,n = 365920  , estimate_residual_variance = TRUE, \n",
    "    prior_variance = 50, check_prior = F ,L = 10,verbose = TRUE, compute_univariate_zscore = TRUE, max_iter = 1)"
   ]
  },
  {
   "cell_type": "code",
   "execution_count": 104,
   "id": "98e20766-aec7-4575-80b3-a4bccee6f08c",
   "metadata": {},
   "outputs": [
    {
     "data": {
      "image/png": "[encoded data removed]",
      "text/plain": [
       "plot without title"
      ]
     },
     "metadata": {
      "image/png": {
       "height": 420,
       "width": 420
      }
     },
     "output_type": "display_data"
    }
   ],
   "source": [
    "res10_waist_conditional_analysis$z = GWAS_filtered%>%pull(Z)\n",
    "susie_plot(res10_waist_conditional_analysis,\"z_original\")"
   ]
  },
  {
   "cell_type": "code",
   "execution_count": 34,
   "id": "8fcb03d2-be78-42d5-a463-54c6ffc5104f",
   "metadata": {},
   "outputs": [
    {
     "data": {
      "text/html": [
       "<style>\n",
       ".dl-inline {width: auto; margin:0; padding: 0}\n",
       ".dl-inline>dt, .dl-inline>dd {float: none; width: auto; display: inline-block}\n",
       ".dl-inline>dt::after {content: \":\\0020\"; padding-right: .5ex}\n",
       ".dl-inline>dt:not(:first-of-type) {padding-left: .5ex}\n",
       "</style><dl class=dl-inline><dt>0%</dt><dd>0.0632659</dd><dt>25%</dt><dd>0.7503065</dd><dt>50%</dt><dd>0.992367</dd><dt>75%</dt><dd>0.997964</dd><dt>100%</dt><dd>0.998994</dd></dl>\n"
      ],
      "text/latex": [
       "\\begin{description*}\n",
       "\\item[0\\textbackslash{}\\%] 0.0632659\n",
       "\\item[25\\textbackslash{}\\%] 0.7503065\n",
       "\\item[50\\textbackslash{}\\%] 0.992367\n",
       "\\item[75\\textbackslash{}\\%] 0.997964\n",
       "\\item[100\\textbackslash{}\\%] 0.998994\n",
       "\\end{description*}\n"
      ],
      "text/markdown": [
       "0%\n",
       ":   0.063265925%\n",
       ":   0.750306550%\n",
       ":   0.99236775%\n",
       ":   0.997964100%\n",
       ":   0.998994\n",
       "\n"
      ],
      "text/plain": [
       "       0%       25%       50%       75%      100% \n",
       "0.0632659 0.7503065 0.9923670 0.9979640 0.9989940 "
      ]
     },
     "metadata": {},
     "output_type": "display_data"
    }
   ],
   "source": [
    "gwas%>%filter(!ID %in% GWAS_filtered$ID)%>%arrange(-LOG10P)%>%mutate(variant  = paste0(CHROM,\"_\",GENPOS,\"_\",ALLELE1,\"_\",ALLELE0 ))%>%pull(A1FREQ)%>%ggplot(aes(x = ) )+ "
   ]
  },
  {
   "cell_type": "code",
   "execution_count": 26,
   "id": "0585e939-9ce6-4b58-91c8-43d067c4b8d5",
   "metadata": {},
   "outputs": [
    {
     "data": {
      "text/html": [
       "<table class=\"dataframe\">\n",
       "<caption>A tibble: 0 × 15</caption>\n",
       "<thead>\n",
       "\t<tr><th scope=col>CHROM</th><th scope=col>GENPOS</th><th scope=col>ID</th><th scope=col>ALLELE0</th><th scope=col>ALLELE1</th><th scope=col>A1FREQ</th><th scope=col>INFO</th><th scope=col>N</th><th scope=col>TEST</th><th scope=col>BETA</th><th scope=col>SE</th><th scope=col>CHISQ</th><th scope=col>LOG10P</th><th scope=col>EXTRA</th><th scope=col>variant</th></tr>\n",
       "\t<tr><th scope=col>&lt;dbl&gt;</th><th scope=col>&lt;dbl&gt;</th><th scope=col>&lt;chr&gt;</th><th scope=col>&lt;chr&gt;</th><th scope=col>&lt;chr&gt;</th><th scope=col>&lt;dbl&gt;</th><th scope=col>&lt;dbl&gt;</th><th scope=col>&lt;dbl&gt;</th><th scope=col>&lt;chr&gt;</th><th scope=col>&lt;dbl&gt;</th><th scope=col>&lt;dbl&gt;</th><th scope=col>&lt;dbl&gt;</th><th scope=col>&lt;dbl&gt;</th><th scope=col>&lt;lgl&gt;</th><th scope=col>&lt;chr&gt;</th></tr>\n",
       "</thead>\n",
       "<tbody>\n",
       "</tbody>\n",
       "</table>\n"
      ],
      "text/latex": [
       "A tibble: 0 × 15\n",
       "\\begin{tabular}{lllllllllllllll}\n",
       " CHROM & GENPOS & ID & ALLELE0 & ALLELE1 & A1FREQ & INFO & N & TEST & BETA & SE & CHISQ & LOG10P & EXTRA & variant\\\\\n",
       " <dbl> & <dbl> & <chr> & <chr> & <chr> & <dbl> & <dbl> & <dbl> & <chr> & <dbl> & <dbl> & <dbl> & <dbl> & <lgl> & <chr>\\\\\n",
       "\\hline\n",
       "\\end{tabular}\n"
      ],
      "text/markdown": [
       "\n",
       "A tibble: 0 × 15\n",
       "\n",
       "| CHROM &lt;dbl&gt; | GENPOS &lt;dbl&gt; | ID &lt;chr&gt; | ALLELE0 &lt;chr&gt; | ALLELE1 &lt;chr&gt; | A1FREQ &lt;dbl&gt; | INFO &lt;dbl&gt; | N &lt;dbl&gt; | TEST &lt;chr&gt; | BETA &lt;dbl&gt; | SE &lt;dbl&gt; | CHISQ &lt;dbl&gt; | LOG10P &lt;dbl&gt; | EXTRA &lt;lgl&gt; | variant &lt;chr&gt; |\n",
       "|---|---|---|---|---|---|---|---|---|---|---|---|---|---|---|\n",
       "\n"
      ],
      "text/plain": [
       "     CHROM GENPOS ID ALLELE0 ALLELE1 A1FREQ INFO N TEST BETA SE CHISQ LOG10P\n",
       "     EXTRA variant"
      ]
     },
     "metadata": {},
     "output_type": "display_data"
    }
   ],
   "source": [
    "gwas%>%filter(!ID %in% GWAS_filtered$ID)%>%arrange(-LOG10P)%>%mutate(variant  = paste0(CHROM,\"_\",GENPOS,\"_\",ALLELE1,\"_\",ALLELE0 ))%>%filter(variant %in% colnames(new_LD))"
   ]
  },
  {
   "cell_type": "code",
   "execution_count": 32,
   "id": "e9e02a8c-5c3b-4ab5-b820-72185ee354c3",
   "metadata": {},
   "outputs": [
    {
     "data": {
      "text/html": [
       "<table class=\"dataframe\">\n",
       "<caption>A spec_tbl_df: 2048 × 14</caption>\n",
       "<thead>\n",
       "\t<tr><th scope=col>CHROM</th><th scope=col>GENPOS</th><th scope=col>ID</th><th scope=col>ALLELE0</th><th scope=col>ALLELE1</th><th scope=col>A1FREQ</th><th scope=col>INFO</th><th scope=col>N</th><th scope=col>TEST</th><th scope=col>BETA</th><th scope=col>SE</th><th scope=col>CHISQ</th><th scope=col>LOG10P</th><th scope=col>EXTRA</th></tr>\n",
       "\t<tr><th scope=col>&lt;dbl&gt;</th><th scope=col>&lt;dbl&gt;</th><th scope=col>&lt;chr&gt;</th><th scope=col>&lt;chr&gt;</th><th scope=col>&lt;chr&gt;</th><th scope=col>&lt;dbl&gt;</th><th scope=col>&lt;dbl&gt;</th><th scope=col>&lt;dbl&gt;</th><th scope=col>&lt;chr&gt;</th><th scope=col>&lt;dbl&gt;</th><th scope=col>&lt;dbl&gt;</th><th scope=col>&lt;dbl&gt;</th><th scope=col>&lt;dbl&gt;</th><th scope=col>&lt;lgl&gt;</th></tr>\n",
       "</thead>\n",
       "<tbody>\n",
       "\t<tr><td>7</td><td>27869098</td><td>rs545409685       </td><td>C </td><td>T    </td><td>0.997338</td><td>0.921920</td><td>365920</td><td>ADD</td><td>-0.020502500</td><td>0.01379330</td><td> 2.2094100</td><td>0.8627390</td><td>NA</td></tr>\n",
       "\t<tr><td>7</td><td>27869261</td><td>7:27869261_CAGTA_C</td><td>C </td><td>CAGTA</td><td>0.998504</td><td>0.847013</td><td>365920</td><td>ADD</td><td> 0.010340600</td><td>0.01922140</td><td> 0.2894120</td><td>0.2287080</td><td>NA</td></tr>\n",
       "\t<tr><td>7</td><td>27869377</td><td>rs73075348        </td><td>G </td><td>A    </td><td>0.943403</td><td>1.000000</td><td>365920</td><td>ADD</td><td> 0.000331266</td><td>0.00295709</td><td> 0.0125495</td><td>0.0405750</td><td>NA</td></tr>\n",
       "\t<tr><td>7</td><td>27869782</td><td>rs6948467         </td><td>A </td><td>G    </td><td>0.607201</td><td>0.993109</td><td>365920</td><td>ADD</td><td>-0.006316580</td><td>0.00140366</td><td>20.2508000</td><td>5.1679800</td><td>NA</td></tr>\n",
       "\t<tr><td>7</td><td>27869794</td><td>rs73075354        </td><td>G </td><td>C    </td><td>0.883848</td><td>0.994221</td><td>365920</td><td>ADD</td><td> 0.013539200</td><td>0.00213971</td><td>40.0388000</td><td>9.6038500</td><td>NA</td></tr>\n",
       "\t<tr><td>7</td><td>27869921</td><td>rs35410592        </td><td>A </td><td>C    </td><td>0.990574</td><td>0.967843</td><td>365920</td><td>ADD</td><td> 0.014456400</td><td>0.00719418</td><td> 4.0379100</td><td>1.3517500</td><td>NA</td></tr>\n",
       "\t<tr><td>7</td><td>27870389</td><td>rs183893860       </td><td>G </td><td>A    </td><td>0.997424</td><td>0.939441</td><td>365920</td><td>ADD</td><td>-0.002618450</td><td>0.01391080</td><td> 0.0354312</td><td>0.0702262</td><td>NA</td></tr>\n",
       "\t<tr><td>7</td><td>27870716</td><td>rs75940382        </td><td>T </td><td>C    </td><td>0.990173</td><td>0.976199</td><td>365920</td><td>ADD</td><td>-0.017327800</td><td>0.00701361</td><td> 6.1038700</td><td>1.8700300</td><td>NA</td></tr>\n",
       "\t<tr><td>7</td><td>27870845</td><td>rs185104866       </td><td>C </td><td>G    </td><td>0.998640</td><td>0.978154</td><td>365920</td><td>ADD</td><td> 0.003053000</td><td>0.01876370</td><td> 0.0264737</td><td>0.0601071</td><td>NA</td></tr>\n",
       "\t<tr><td>7</td><td>27870853</td><td>rs73075357        </td><td>G </td><td>A    </td><td>0.987119</td><td>0.977403</td><td>365920</td><td>ADD</td><td> 0.010849200</td><td>0.00612643</td><td> 3.1360500</td><td>1.1158900</td><td>NA</td></tr>\n",
       "\t<tr><td>7</td><td>27871171</td><td>rs73075359        </td><td>C </td><td>T    </td><td>0.884106</td><td>0.992106</td><td>365920</td><td>ADD</td><td> 0.013548400</td><td>0.00214415</td><td>39.9269000</td><td>9.5789700</td><td>NA</td></tr>\n",
       "\t<tr><td>7</td><td>27871270</td><td>rs533943884       </td><td>C </td><td>T    </td><td>0.997406</td><td>0.869612</td><td>365920</td><td>ADD</td><td>-0.071334900</td><td>0.01440250</td><td>24.5318000</td><td>6.1361200</td><td>NA</td></tr>\n",
       "\t<tr><td>7</td><td>27871845</td><td>rs140006286       </td><td>A </td><td>G    </td><td>0.988629</td><td>0.955023</td><td>365920</td><td>ADD</td><td>-0.016436900</td><td>0.00659306</td><td> 6.2153200</td><td>1.8974000</td><td>NA</td></tr>\n",
       "\t<tr><td>7</td><td>27872466</td><td>rs143697346       </td><td>G </td><td>A    </td><td>0.998862</td><td>1.000000</td><td>365920</td><td>ADD</td><td>-0.031547100</td><td>0.02022760</td><td> 2.4323700</td><td>0.9249890</td><td>NA</td></tr>\n",
       "\t<tr><td>7</td><td>27872675</td><td>rs56070801        </td><td>G </td><td>A    </td><td>0.883095</td><td>0.987761</td><td>365920</td><td>ADD</td><td> 0.013321200</td><td>0.00214105</td><td>38.7108000</td><td>9.3084800</td><td>NA</td></tr>\n",
       "\t<tr><td>7</td><td>27872783</td><td>rs532733424       </td><td>T </td><td>C    </td><td>0.997905</td><td>0.922150</td><td>365920</td><td>ADD</td><td> 0.002944580</td><td>0.01557910</td><td> 0.0357241</td><td>0.0705370</td><td>NA</td></tr>\n",
       "\t<tr><td>7</td><td>27873118</td><td>rs3823945         </td><td>A </td><td>G    </td><td>0.981626</td><td>0.976166</td><td>365920</td><td>ADD</td><td> 0.009261760</td><td>0.00514452</td><td> 3.2411400</td><td>1.1438100</td><td>NA</td></tr>\n",
       "\t<tr><td>7</td><td>27873195</td><td>rs73075361        </td><td>A </td><td>G    </td><td>0.886797</td><td>0.993540</td><td>365920</td><td>ADD</td><td> 0.012761300</td><td>0.00216420</td><td>34.7695000</td><td>8.4304600</td><td>NA</td></tr>\n",
       "\t<tr><td>7</td><td>27873271</td><td>rs7797980         </td><td>A </td><td>C    </td><td>0.981921</td><td>0.975354</td><td>365920</td><td>ADD</td><td> 0.009190210</td><td>0.00518932</td><td> 3.1363800</td><td>1.1159800</td><td>NA</td></tr>\n",
       "\t<tr><td>7</td><td>27873685</td><td>rs739900          </td><td>C </td><td>T    </td><td>0.896583</td><td>0.999388</td><td>365920</td><td>ADD</td><td> 0.002375690</td><td>0.00224445</td><td> 1.1203700</td><td>0.5378420</td><td>NA</td></tr>\n",
       "\t<tr><td>7</td><td>27873726</td><td>rs80248894        </td><td>T </td><td>C    </td><td>0.991091</td><td>0.912135</td><td>365920</td><td>ADD</td><td>-0.000978838</td><td>0.00761737</td><td> 0.0165125</td><td>0.0468433</td><td>NA</td></tr>\n",
       "\t<tr><td>7</td><td>27874500</td><td>rs144816303       </td><td>C </td><td>T    </td><td>0.988708</td><td>0.905126</td><td>365920</td><td>ADD</td><td> 0.000255421</td><td>0.00680504</td><td> 0.0014088</td><td>0.0132018</td><td>NA</td></tr>\n",
       "\t<tr><td>7</td><td>27875454</td><td>rs6979972         </td><td>G </td><td>A    </td><td>0.902437</td><td>0.998711</td><td>365920</td><td>ADD</td><td> 0.002107880</td><td>0.00230392</td><td> 0.8370630</td><td>0.4434100</td><td>NA</td></tr>\n",
       "\t<tr><td>7</td><td>27875642</td><td>rs112759592       </td><td>C </td><td>G    </td><td>0.962019</td><td>1.000000</td><td>365920</td><td>ADD</td><td> 0.003032180</td><td>0.00357325</td><td> 0.7200820</td><td>0.4021770</td><td>NA</td></tr>\n",
       "\t<tr><td>7</td><td>27875959</td><td>rs755931846       </td><td>T </td><td>C    </td><td>0.998699</td><td>0.852261</td><td>365920</td><td>ADD</td><td>-0.056395300</td><td>0.02054630</td><td> 7.5338600</td><td>2.2178800</td><td>NA</td></tr>\n",
       "\t<tr><td>7</td><td>27876255</td><td>rs62451071        </td><td>A </td><td>T    </td><td>0.896560</td><td>0.999456</td><td>365920</td><td>ADD</td><td> 0.002398470</td><td>0.00224415</td><td> 1.1422600</td><td>0.5448890</td><td>NA</td></tr>\n",
       "\t<tr><td>7</td><td>27876401</td><td>rs2285929         </td><td>A </td><td>C    </td><td>0.896626</td><td>0.999625</td><td>365920</td><td>ADD</td><td> 0.002318740</td><td>0.00224452</td><td> 1.0672300</td><td>0.5206080</td><td>NA</td></tr>\n",
       "\t<tr><td>7</td><td>27876683</td><td>rs55901354        </td><td>G </td><td>A    </td><td>0.990058</td><td>0.992866</td><td>365920</td><td>ADD</td><td> 0.012102800</td><td>0.00691577</td><td> 3.0626000</td><td>1.0962900</td><td>NA</td></tr>\n",
       "\t<tr><td>7</td><td>27876795</td><td>rs71555716        </td><td>CA</td><td>C    </td><td>0.955919</td><td>0.952423</td><td>365920</td><td>ADD</td><td>-0.008941190</td><td>0.00340810</td><td> 6.8828100</td><td>2.0603400</td><td>NA</td></tr>\n",
       "\t<tr><td>7</td><td>27877537</td><td>rs10281008        </td><td>G </td><td>A    </td><td>0.896542</td><td>1.000000</td><td>365920</td><td>ADD</td><td> 0.002381480</td><td>0.00224417</td><td> 1.1261200</td><td>0.5396960</td><td>NA</td></tr>\n",
       "\t<tr><td>⋮</td><td>⋮</td><td>⋮</td><td>⋮</td><td>⋮</td><td>⋮</td><td>⋮</td><td>⋮</td><td>⋮</td><td>⋮</td><td>⋮</td><td>⋮</td><td>⋮</td><td>⋮</td></tr>\n",
       "\t<tr><td>7</td><td>28269992</td><td>rs112395683               </td><td>G </td><td>T            </td><td>0.994973</td><td>0.972732</td><td>365920</td><td>ADD</td><td> 0.007505180</td><td>0.00978515</td><td> 0.58828300</td><td>0.3535140</td><td>NA</td></tr>\n",
       "\t<tr><td>7</td><td>28270189</td><td>rs493195                  </td><td>G </td><td>A            </td><td>0.192116</td><td>0.998001</td><td>365920</td><td>ADD</td><td> 0.008652620</td><td>0.00173745</td><td>24.80110000</td><td>6.1968000</td><td>NA</td></tr>\n",
       "\t<tr><td>7</td><td>28270710</td><td>rs35030870                </td><td>CA</td><td>C            </td><td>0.624212</td><td>0.873913</td><td>365920</td><td>ADD</td><td> 0.003118390</td><td>0.00150867</td><td> 4.27240000</td><td>1.4118800</td><td>NA</td></tr>\n",
       "\t<tr><td>7</td><td>28270740</td><td>rs148362301               </td><td>G </td><td>A            </td><td>0.987005</td><td>0.873417</td><td>365920</td><td>ADD</td><td> 0.007797310</td><td>0.00645640</td><td> 1.45851000</td><td>0.6436540</td><td>NA</td></tr>\n",
       "\t<tr><td>7</td><td>28270760</td><td>rs12533350                </td><td>T </td><td>G            </td><td>0.746297</td><td>0.985017</td><td>365920</td><td>ADD</td><td> 0.000220491</td><td>0.00158094</td><td> 0.01945150</td><td>0.0510593</td><td>NA</td></tr>\n",
       "\t<tr><td>7</td><td>28271293</td><td>7:28271293_AT_A           </td><td>A </td><td>AT           </td><td>0.854236</td><td>0.974563</td><td>365920</td><td>ADD</td><td> 0.001771150</td><td>0.00196116</td><td> 0.81561400</td><td>0.4359670</td><td>NA</td></tr>\n",
       "\t<tr><td>7</td><td>28271387</td><td>7:28271387_CTG_C          </td><td>C </td><td>CTG          </td><td>0.955922</td><td>0.985601</td><td>365920</td><td>ADD</td><td>-0.017783700</td><td>0.00335278</td><td>28.13430000</td><td>6.9462200</td><td>NA</td></tr>\n",
       "\t<tr><td>7</td><td>28271539</td><td>rs11419831                </td><td>CA</td><td>C            </td><td>0.867370</td><td>0.957658</td><td>365920</td><td>ADD</td><td> 0.002757230</td><td>0.00205714</td><td> 1.79646000</td><td>0.7443880</td><td>NA</td></tr>\n",
       "\t<tr><td>7</td><td>28271674</td><td>rs555334913               </td><td>T </td><td>C            </td><td>0.998564</td><td>0.817873</td><td>365920</td><td>ADD</td><td>-0.022745800</td><td>0.01995670</td><td> 1.29905000</td><td>0.5945050</td><td>NA</td></tr>\n",
       "\t<tr><td>7</td><td>28271690</td><td>rs73302615                </td><td>A </td><td>G            </td><td>0.994732</td><td>0.971498</td><td>365920</td><td>ADD</td><td> 0.010131600</td><td>0.00956974</td><td> 1.12086000</td><td>0.5380020</td><td>NA</td></tr>\n",
       "\t<tr><td>7</td><td>28271922</td><td>rs138183084               </td><td>A </td><td>G            </td><td>0.972219</td><td>0.936951</td><td>365920</td><td>ADD</td><td>-0.003921490</td><td>0.00429903</td><td> 0.83207200</td><td>0.4416830</td><td>NA</td></tr>\n",
       "\t<tr><td>7</td><td>28271983</td><td>rs73302618                </td><td>C </td><td>G            </td><td>0.994732</td><td>0.972184</td><td>365920</td><td>ADD</td><td> 0.010929100</td><td>0.00956396</td><td> 1.30585000</td><td>0.5966270</td><td>NA</td></tr>\n",
       "\t<tr><td>7</td><td>28272003</td><td>rs73302620                </td><td>A </td><td>G            </td><td>0.994732</td><td>0.972116</td><td>365920</td><td>ADD</td><td> 0.010768700</td><td>0.00956490</td><td> 1.26756000</td><td>0.5846520</td><td>NA</td></tr>\n",
       "\t<tr><td>7</td><td>28272025</td><td>rs184929813               </td><td>C </td><td>T            </td><td>0.995000</td><td>0.977497</td><td>365920</td><td>ADD</td><td> 0.006764620</td><td>0.00979124</td><td> 0.47732300</td><td>0.3101250</td><td>NA</td></tr>\n",
       "\t<tr><td>7</td><td>28272098</td><td>rs189147188               </td><td>T </td><td>C            </td><td>0.994984</td><td>0.978202</td><td>365920</td><td>ADD</td><td> 0.006981350</td><td>0.00977262</td><td> 0.51033700</td><td>0.3233130</td><td>NA</td></tr>\n",
       "\t<tr><td>7</td><td>28272541</td><td>7:28272541_GAGAGAGAA_G    </td><td>G </td><td>GAGAGAGAA    </td><td>0.995123</td><td>0.972216</td><td>365920</td><td>ADD</td><td> 0.006200980</td><td>0.00993945</td><td> 0.38922100</td><td>0.2735100</td><td>NA</td></tr>\n",
       "\t<tr><td>7</td><td>28272621</td><td>rs114163027               </td><td>G </td><td>A            </td><td>0.997904</td><td>0.982879</td><td>365920</td><td>ADD</td><td>-0.009108500</td><td>0.01508440</td><td> 0.36461500</td><td>0.2628440</td><td>NA</td></tr>\n",
       "\t<tr><td>7</td><td>28272666</td><td>rs849325                  </td><td>T </td><td>C            </td><td>0.198673</td><td>1.000000</td><td>365920</td><td>ADD</td><td> 0.008115260</td><td>0.00171383</td><td>22.42180000</td><td>5.6597900</td><td>NA</td></tr>\n",
       "\t<tr><td>7</td><td>28272748</td><td>rs186167894               </td><td>A </td><td>G            </td><td>0.997046</td><td>0.925939</td><td>365920</td><td>ADD</td><td> 0.013200600</td><td>0.01308100</td><td> 1.01837000</td><td>0.5045860</td><td>NA</td></tr>\n",
       "\t<tr><td>7</td><td>28273072</td><td>rs849326                  </td><td>C </td><td>G            </td><td>0.146600</td><td>0.996174</td><td>365920</td><td>ADD</td><td> 0.004813040</td><td>0.00193662</td><td> 6.17664000</td><td>1.8879000</td><td>NA</td></tr>\n",
       "\t<tr><td>7</td><td>28273378</td><td>rs145009308               </td><td>G </td><td>T            </td><td>0.996956</td><td>0.814635</td><td>365920</td><td>ADD</td><td>-0.029214700</td><td>0.01373710</td><td> 4.52287000</td><td>1.4756700</td><td>NA</td></tr>\n",
       "\t<tr><td>7</td><td>28273524</td><td>rs28595028                </td><td>T </td><td>G            </td><td>0.341781</td><td>0.843844</td><td>365920</td><td>ADD</td><td> 0.005760920</td><td>0.00157001</td><td>13.46420000</td><td>3.6141100</td><td>NA</td></tr>\n",
       "\t<tr><td>7</td><td>28273528</td><td>rs11766682                </td><td>T </td><td>G            </td><td>0.196753</td><td>0.989954</td><td>365920</td><td>ADD</td><td> 0.008065120</td><td>0.00172830</td><td>21.77630000</td><td>5.5137800</td><td>NA</td></tr>\n",
       "\t<tr><td>7</td><td>28273532</td><td>rs150271922               </td><td>G </td><td>T            </td><td>0.995901</td><td>0.888223</td><td>365920</td><td>ADD</td><td>-0.000863742</td><td>0.01135290</td><td> 0.00578838</td><td>0.0271705</td><td>NA</td></tr>\n",
       "\t<tr><td>7</td><td>28273609</td><td>rs533302077               </td><td>T </td><td>C            </td><td>0.998718</td><td>0.827723</td><td>365920</td><td>ADD</td><td> 0.035463700</td><td>0.02094580</td><td> 2.86665000</td><td>1.0436700</td><td>NA</td></tr>\n",
       "\t<tr><td>7</td><td>28273623</td><td>7:28273623_TTTCCTTCCTTCC_T</td><td>T </td><td>TTTCCTTCCTTCC</td><td>0.842745</td><td>0.950650</td><td>365920</td><td>ADD</td><td> 0.003161520</td><td>0.00192321</td><td> 2.70232000</td><td>0.9991230</td><td>NA</td></tr>\n",
       "\t<tr><td>7</td><td>28273697</td><td>rs188426589               </td><td>A </td><td>T            </td><td>0.987438</td><td>0.964895</td><td>365920</td><td>ADD</td><td>-0.038124600</td><td>0.00624552</td><td>37.26270000</td><td>8.9861400</td><td>NA</td></tr>\n",
       "\t<tr><td>7</td><td>28273719</td><td>rs6944995                 </td><td>G </td><td>T            </td><td>0.146807</td><td>0.995760</td><td>365920</td><td>ADD</td><td> 0.004790380</td><td>0.00193589</td><td> 6.12319000</td><td>1.8747800</td><td>NA</td></tr>\n",
       "\t<tr><td>7</td><td>28273829</td><td>rs192297723               </td><td>C </td><td>A            </td><td>0.988323</td><td>0.873941</td><td>365920</td><td>ADD</td><td>-0.003912700</td><td>0.00680775</td><td> 0.33032900</td><td>0.2475940</td><td>NA</td></tr>\n",
       "\t<tr><td>7</td><td>28273986</td><td>rs849313                  </td><td>C </td><td>T            </td><td>0.190701</td><td>0.997894</td><td>365920</td><td>ADD</td><td> 0.008643300</td><td>0.00174245</td><td>24.60600000</td><td>6.1528400</td><td>NA</td></tr>\n",
       "</tbody>\n",
       "</table>\n"
      ],
      "text/latex": [
       "A spec\\_tbl\\_df: 2048 × 14\n",
       "\\begin{tabular}{llllllllllllll}\n",
       " CHROM & GENPOS & ID & ALLELE0 & ALLELE1 & A1FREQ & INFO & N & TEST & BETA & SE & CHISQ & LOG10P & EXTRA\\\\\n",
       " <dbl> & <dbl> & <chr> & <chr> & <chr> & <dbl> & <dbl> & <dbl> & <chr> & <dbl> & <dbl> & <dbl> & <dbl> & <lgl>\\\\\n",
       "\\hline\n",
       "\t 7 & 27869098 & rs545409685        & C  & T     & 0.997338 & 0.921920 & 365920 & ADD & -0.020502500 & 0.01379330 &  2.2094100 & 0.8627390 & NA\\\\\n",
       "\t 7 & 27869261 & 7:27869261\\_CAGTA\\_C & C  & CAGTA & 0.998504 & 0.847013 & 365920 & ADD &  0.010340600 & 0.01922140 &  0.2894120 & 0.2287080 & NA\\\\\n",
       "\t 7 & 27869377 & rs73075348         & G  & A     & 0.943403 & 1.000000 & 365920 & ADD &  0.000331266 & 0.00295709 &  0.0125495 & 0.0405750 & NA\\\\\n",
       "\t 7 & 27869782 & rs6948467          & A  & G     & 0.607201 & 0.993109 & 365920 & ADD & -0.006316580 & 0.00140366 & 20.2508000 & 5.1679800 & NA\\\\\n",
       "\t 7 & 27869794 & rs73075354         & G  & C     & 0.883848 & 0.994221 & 365920 & ADD &  0.013539200 & 0.00213971 & 40.0388000 & 9.6038500 & NA\\\\\n",
       "\t 7 & 27869921 & rs35410592         & A  & C     & 0.990574 & 0.967843 & 365920 & ADD &  0.014456400 & 0.00719418 &  4.0379100 & 1.3517500 & NA\\\\\n",
       "\t 7 & 27870389 & rs183893860        & G  & A     & 0.997424 & 0.939441 & 365920 & ADD & -0.002618450 & 0.01391080 &  0.0354312 & 0.0702262 & NA\\\\\n",
       "\t 7 & 27870716 & rs75940382         & T  & C     & 0.990173 & 0.976199 & 365920 & ADD & -0.017327800 & 0.00701361 &  6.1038700 & 1.8700300 & NA\\\\\n",
       "\t 7 & 27870845 & rs185104866        & C  & G     & 0.998640 & 0.978154 & 365920 & ADD &  0.003053000 & 0.01876370 &  0.0264737 & 0.0601071 & NA\\\\\n",
       "\t 7 & 27870853 & rs73075357         & G  & A     & 0.987119 & 0.977403 & 365920 & ADD &  0.010849200 & 0.00612643 &  3.1360500 & 1.1158900 & NA\\\\\n",
       "\t 7 & 27871171 & rs73075359         & C  & T     & 0.884106 & 0.992106 & 365920 & ADD &  0.013548400 & 0.00214415 & 39.9269000 & 9.5789700 & NA\\\\\n",
       "\t 7 & 27871270 & rs533943884        & C  & T     & 0.997406 & 0.869612 & 365920 & ADD & -0.071334900 & 0.01440250 & 24.5318000 & 6.1361200 & NA\\\\\n",
       "\t 7 & 27871845 & rs140006286        & A  & G     & 0.988629 & 0.955023 & 365920 & ADD & -0.016436900 & 0.00659306 &  6.2153200 & 1.8974000 & NA\\\\\n",
       "\t 7 & 27872466 & rs143697346        & G  & A     & 0.998862 & 1.000000 & 365920 & ADD & -0.031547100 & 0.02022760 &  2.4323700 & 0.9249890 & NA\\\\\n",
       "\t 7 & 27872675 & rs56070801         & G  & A     & 0.883095 & 0.987761 & 365920 & ADD &  0.013321200 & 0.00214105 & 38.7108000 & 9.3084800 & NA\\\\\n",
       "\t 7 & 27872783 & rs532733424        & T  & C     & 0.997905 & 0.922150 & 365920 & ADD &  0.002944580 & 0.01557910 &  0.0357241 & 0.0705370 & NA\\\\\n",
       "\t 7 & 27873118 & rs3823945          & A  & G     & 0.981626 & 0.976166 & 365920 & ADD &  0.009261760 & 0.00514452 &  3.2411400 & 1.1438100 & NA\\\\\n",
       "\t 7 & 27873195 & rs73075361         & A  & G     & 0.886797 & 0.993540 & 365920 & ADD &  0.012761300 & 0.00216420 & 34.7695000 & 8.4304600 & NA\\\\\n",
       "\t 7 & 27873271 & rs7797980          & A  & C     & 0.981921 & 0.975354 & 365920 & ADD &  0.009190210 & 0.00518932 &  3.1363800 & 1.1159800 & NA\\\\\n",
       "\t 7 & 27873685 & rs739900           & C  & T     & 0.896583 & 0.999388 & 365920 & ADD &  0.002375690 & 0.00224445 &  1.1203700 & 0.5378420 & NA\\\\\n",
       "\t 7 & 27873726 & rs80248894         & T  & C     & 0.991091 & 0.912135 & 365920 & ADD & -0.000978838 & 0.00761737 &  0.0165125 & 0.0468433 & NA\\\\\n",
       "\t 7 & 27874500 & rs144816303        & C  & T     & 0.988708 & 0.905126 & 365920 & ADD &  0.000255421 & 0.00680504 &  0.0014088 & 0.0132018 & NA\\\\\n",
       "\t 7 & 27875454 & rs6979972          & G  & A     & 0.902437 & 0.998711 & 365920 & ADD &  0.002107880 & 0.00230392 &  0.8370630 & 0.4434100 & NA\\\\\n",
       "\t 7 & 27875642 & rs112759592        & C  & G     & 0.962019 & 1.000000 & 365920 & ADD &  0.003032180 & 0.00357325 &  0.7200820 & 0.4021770 & NA\\\\\n",
       "\t 7 & 27875959 & rs755931846        & T  & C     & 0.998699 & 0.852261 & 365920 & ADD & -0.056395300 & 0.02054630 &  7.5338600 & 2.2178800 & NA\\\\\n",
       "\t 7 & 27876255 & rs62451071         & A  & T     & 0.896560 & 0.999456 & 365920 & ADD &  0.002398470 & 0.00224415 &  1.1422600 & 0.5448890 & NA\\\\\n",
       "\t 7 & 27876401 & rs2285929          & A  & C     & 0.896626 & 0.999625 & 365920 & ADD &  0.002318740 & 0.00224452 &  1.0672300 & 0.5206080 & NA\\\\\n",
       "\t 7 & 27876683 & rs55901354         & G  & A     & 0.990058 & 0.992866 & 365920 & ADD &  0.012102800 & 0.00691577 &  3.0626000 & 1.0962900 & NA\\\\\n",
       "\t 7 & 27876795 & rs71555716         & CA & C     & 0.955919 & 0.952423 & 365920 & ADD & -0.008941190 & 0.00340810 &  6.8828100 & 2.0603400 & NA\\\\\n",
       "\t 7 & 27877537 & rs10281008         & G  & A     & 0.896542 & 1.000000 & 365920 & ADD &  0.002381480 & 0.00224417 &  1.1261200 & 0.5396960 & NA\\\\\n",
       "\t ⋮ & ⋮ & ⋮ & ⋮ & ⋮ & ⋮ & ⋮ & ⋮ & ⋮ & ⋮ & ⋮ & ⋮ & ⋮ & ⋮\\\\\n",
       "\t 7 & 28269992 & rs112395683                & G  & T             & 0.994973 & 0.972732 & 365920 & ADD &  0.007505180 & 0.00978515 &  0.58828300 & 0.3535140 & NA\\\\\n",
       "\t 7 & 28270189 & rs493195                   & G  & A             & 0.192116 & 0.998001 & 365920 & ADD &  0.008652620 & 0.00173745 & 24.80110000 & 6.1968000 & NA\\\\\n",
       "\t 7 & 28270710 & rs35030870                 & CA & C             & 0.624212 & 0.873913 & 365920 & ADD &  0.003118390 & 0.00150867 &  4.27240000 & 1.4118800 & NA\\\\\n",
       "\t 7 & 28270740 & rs148362301                & G  & A             & 0.987005 & 0.873417 & 365920 & ADD &  0.007797310 & 0.00645640 &  1.45851000 & 0.6436540 & NA\\\\\n",
       "\t 7 & 28270760 & rs12533350                 & T  & G             & 0.746297 & 0.985017 & 365920 & ADD &  0.000220491 & 0.00158094 &  0.01945150 & 0.0510593 & NA\\\\\n",
       "\t 7 & 28271293 & 7:28271293\\_AT\\_A            & A  & AT            & 0.854236 & 0.974563 & 365920 & ADD &  0.001771150 & 0.00196116 &  0.81561400 & 0.4359670 & NA\\\\\n",
       "\t 7 & 28271387 & 7:28271387\\_CTG\\_C           & C  & CTG           & 0.955922 & 0.985601 & 365920 & ADD & -0.017783700 & 0.00335278 & 28.13430000 & 6.9462200 & NA\\\\\n",
       "\t 7 & 28271539 & rs11419831                 & CA & C             & 0.867370 & 0.957658 & 365920 & ADD &  0.002757230 & 0.00205714 &  1.79646000 & 0.7443880 & NA\\\\\n",
       "\t 7 & 28271674 & rs555334913                & T  & C             & 0.998564 & 0.817873 & 365920 & ADD & -0.022745800 & 0.01995670 &  1.29905000 & 0.5945050 & NA\\\\\n",
       "\t 7 & 28271690 & rs73302615                 & A  & G             & 0.994732 & 0.971498 & 365920 & ADD &  0.010131600 & 0.00956974 &  1.12086000 & 0.5380020 & NA\\\\\n",
       "\t 7 & 28271922 & rs138183084                & A  & G             & 0.972219 & 0.936951 & 365920 & ADD & -0.003921490 & 0.00429903 &  0.83207200 & 0.4416830 & NA\\\\\n",
       "\t 7 & 28271983 & rs73302618                 & C  & G             & 0.994732 & 0.972184 & 365920 & ADD &  0.010929100 & 0.00956396 &  1.30585000 & 0.5966270 & NA\\\\\n",
       "\t 7 & 28272003 & rs73302620                 & A  & G             & 0.994732 & 0.972116 & 365920 & ADD &  0.010768700 & 0.00956490 &  1.26756000 & 0.5846520 & NA\\\\\n",
       "\t 7 & 28272025 & rs184929813                & C  & T             & 0.995000 & 0.977497 & 365920 & ADD &  0.006764620 & 0.00979124 &  0.47732300 & 0.3101250 & NA\\\\\n",
       "\t 7 & 28272098 & rs189147188                & T  & C             & 0.994984 & 0.978202 & 365920 & ADD &  0.006981350 & 0.00977262 &  0.51033700 & 0.3233130 & NA\\\\\n",
       "\t 7 & 28272541 & 7:28272541\\_GAGAGAGAA\\_G     & G  & GAGAGAGAA     & 0.995123 & 0.972216 & 365920 & ADD &  0.006200980 & 0.00993945 &  0.38922100 & 0.2735100 & NA\\\\\n",
       "\t 7 & 28272621 & rs114163027                & G  & A             & 0.997904 & 0.982879 & 365920 & ADD & -0.009108500 & 0.01508440 &  0.36461500 & 0.2628440 & NA\\\\\n",
       "\t 7 & 28272666 & rs849325                   & T  & C             & 0.198673 & 1.000000 & 365920 & ADD &  0.008115260 & 0.00171383 & 22.42180000 & 5.6597900 & NA\\\\\n",
       "\t 7 & 28272748 & rs186167894                & A  & G             & 0.997046 & 0.925939 & 365920 & ADD &  0.013200600 & 0.01308100 &  1.01837000 & 0.5045860 & NA\\\\\n",
       "\t 7 & 28273072 & rs849326                   & C  & G             & 0.146600 & 0.996174 & 365920 & ADD &  0.004813040 & 0.00193662 &  6.17664000 & 1.8879000 & NA\\\\\n",
       "\t 7 & 28273378 & rs145009308                & G  & T             & 0.996956 & 0.814635 & 365920 & ADD & -0.029214700 & 0.01373710 &  4.52287000 & 1.4756700 & NA\\\\\n",
       "\t 7 & 28273524 & rs28595028                 & T  & G             & 0.341781 & 0.843844 & 365920 & ADD &  0.005760920 & 0.00157001 & 13.46420000 & 3.6141100 & NA\\\\\n",
       "\t 7 & 28273528 & rs11766682                 & T  & G             & 0.196753 & 0.989954 & 365920 & ADD &  0.008065120 & 0.00172830 & 21.77630000 & 5.5137800 & NA\\\\\n",
       "\t 7 & 28273532 & rs150271922                & G  & T             & 0.995901 & 0.888223 & 365920 & ADD & -0.000863742 & 0.01135290 &  0.00578838 & 0.0271705 & NA\\\\\n",
       "\t 7 & 28273609 & rs533302077                & T  & C             & 0.998718 & 0.827723 & 365920 & ADD &  0.035463700 & 0.02094580 &  2.86665000 & 1.0436700 & NA\\\\\n",
       "\t 7 & 28273623 & 7:28273623\\_TTTCCTTCCTTCC\\_T & T  & TTTCCTTCCTTCC & 0.842745 & 0.950650 & 365920 & ADD &  0.003161520 & 0.00192321 &  2.70232000 & 0.9991230 & NA\\\\\n",
       "\t 7 & 28273697 & rs188426589                & A  & T             & 0.987438 & 0.964895 & 365920 & ADD & -0.038124600 & 0.00624552 & 37.26270000 & 8.9861400 & NA\\\\\n",
       "\t 7 & 28273719 & rs6944995                  & G  & T             & 0.146807 & 0.995760 & 365920 & ADD &  0.004790380 & 0.00193589 &  6.12319000 & 1.8747800 & NA\\\\\n",
       "\t 7 & 28273829 & rs192297723                & C  & A             & 0.988323 & 0.873941 & 365920 & ADD & -0.003912700 & 0.00680775 &  0.33032900 & 0.2475940 & NA\\\\\n",
       "\t 7 & 28273986 & rs849313                   & C  & T             & 0.190701 & 0.997894 & 365920 & ADD &  0.008643300 & 0.00174245 & 24.60600000 & 6.1528400 & NA\\\\\n",
       "\\end{tabular}\n"
      ],
      "text/markdown": [
       "\n",
       "A spec_tbl_df: 2048 × 14\n",
       "\n",
       "| CHROM &lt;dbl&gt; | GENPOS &lt;dbl&gt; | ID &lt;chr&gt; | ALLELE0 &lt;chr&gt; | ALLELE1 &lt;chr&gt; | A1FREQ &lt;dbl&gt; | INFO &lt;dbl&gt; | N &lt;dbl&gt; | TEST &lt;chr&gt; | BETA &lt;dbl&gt; | SE &lt;dbl&gt; | CHISQ &lt;dbl&gt; | LOG10P &lt;dbl&gt; | EXTRA &lt;lgl&gt; |\n",
       "|---|---|---|---|---|---|---|---|---|---|---|---|---|---|\n",
       "| 7 | 27869098 | rs545409685        | C  | T     | 0.997338 | 0.921920 | 365920 | ADD | -0.020502500 | 0.01379330 |  2.2094100 | 0.8627390 | NA |\n",
       "| 7 | 27869261 | 7:27869261_CAGTA_C | C  | CAGTA | 0.998504 | 0.847013 | 365920 | ADD |  0.010340600 | 0.01922140 |  0.2894120 | 0.2287080 | NA |\n",
       "| 7 | 27869377 | rs73075348         | G  | A     | 0.943403 | 1.000000 | 365920 | ADD |  0.000331266 | 0.00295709 |  0.0125495 | 0.0405750 | NA |\n",
       "| 7 | 27869782 | rs6948467          | A  | G     | 0.607201 | 0.993109 | 365920 | ADD | -0.006316580 | 0.00140366 | 20.2508000 | 5.1679800 | NA |\n",
       "| 7 | 27869794 | rs73075354         | G  | C     | 0.883848 | 0.994221 | 365920 | ADD |  0.013539200 | 0.00213971 | 40.0388000 | 9.6038500 | NA |\n",
       "| 7 | 27869921 | rs35410592         | A  | C     | 0.990574 | 0.967843 | 365920 | ADD |  0.014456400 | 0.00719418 |  4.0379100 | 1.3517500 | NA |\n",
       "| 7 | 27870389 | rs183893860        | G  | A     | 0.997424 | 0.939441 | 365920 | ADD | -0.002618450 | 0.01391080 |  0.0354312 | 0.0702262 | NA |\n",
       "| 7 | 27870716 | rs75940382         | T  | C     | 0.990173 | 0.976199 | 365920 | ADD | -0.017327800 | 0.00701361 |  6.1038700 | 1.8700300 | NA |\n",
       "| 7 | 27870845 | rs185104866        | C  | G     | 0.998640 | 0.978154 | 365920 | ADD |  0.003053000 | 0.01876370 |  0.0264737 | 0.0601071 | NA |\n",
       "| 7 | 27870853 | rs73075357         | G  | A     | 0.987119 | 0.977403 | 365920 | ADD |  0.010849200 | 0.00612643 |  3.1360500 | 1.1158900 | NA |\n",
       "| 7 | 27871171 | rs73075359         | C  | T     | 0.884106 | 0.992106 | 365920 | ADD |  0.013548400 | 0.00214415 | 39.9269000 | 9.5789700 | NA |\n",
       "| 7 | 27871270 | rs533943884        | C  | T     | 0.997406 | 0.869612 | 365920 | ADD | -0.071334900 | 0.01440250 | 24.5318000 | 6.1361200 | NA |\n",
       "| 7 | 27871845 | rs140006286        | A  | G     | 0.988629 | 0.955023 | 365920 | ADD | -0.016436900 | 0.00659306 |  6.2153200 | 1.8974000 | NA |\n",
       "| 7 | 27872466 | rs143697346        | G  | A     | 0.998862 | 1.000000 | 365920 | ADD | -0.031547100 | 0.02022760 |  2.4323700 | 0.9249890 | NA |\n",
       "| 7 | 27872675 | rs56070801         | G  | A     | 0.883095 | 0.987761 | 365920 | ADD |  0.013321200 | 0.00214105 | 38.7108000 | 9.3084800 | NA |\n",
       "| 7 | 27872783 | rs532733424        | T  | C     | 0.997905 | 0.922150 | 365920 | ADD |  0.002944580 | 0.01557910 |  0.0357241 | 0.0705370 | NA |\n",
       "| 7 | 27873118 | rs3823945          | A  | G     | 0.981626 | 0.976166 | 365920 | ADD |  0.009261760 | 0.00514452 |  3.2411400 | 1.1438100 | NA |\n",
       "| 7 | 27873195 | rs73075361         | A  | G     | 0.886797 | 0.993540 | 365920 | ADD |  0.012761300 | 0.00216420 | 34.7695000 | 8.4304600 | NA |\n",
       "| 7 | 27873271 | rs7797980          | A  | C     | 0.981921 | 0.975354 | 365920 | ADD |  0.009190210 | 0.00518932 |  3.1363800 | 1.1159800 | NA |\n",
       "| 7 | 27873685 | rs739900           | C  | T     | 0.896583 | 0.999388 | 365920 | ADD |  0.002375690 | 0.00224445 |  1.1203700 | 0.5378420 | NA |\n",
       "| 7 | 27873726 | rs80248894         | T  | C     | 0.991091 | 0.912135 | 365920 | ADD | -0.000978838 | 0.00761737 |  0.0165125 | 0.0468433 | NA |\n",
       "| 7 | 27874500 | rs144816303        | C  | T     | 0.988708 | 0.905126 | 365920 | ADD |  0.000255421 | 0.00680504 |  0.0014088 | 0.0132018 | NA |\n",
       "| 7 | 27875454 | rs6979972          | G  | A     | 0.902437 | 0.998711 | 365920 | ADD |  0.002107880 | 0.00230392 |  0.8370630 | 0.4434100 | NA |\n",
       "| 7 | 27875642 | rs112759592        | C  | G     | 0.962019 | 1.000000 | 365920 | ADD |  0.003032180 | 0.00357325 |  0.7200820 | 0.4021770 | NA |\n",
       "| 7 | 27875959 | rs755931846        | T  | C     | 0.998699 | 0.852261 | 365920 | ADD | -0.056395300 | 0.02054630 |  7.5338600 | 2.2178800 | NA |\n",
       "| 7 | 27876255 | rs62451071         | A  | T     | 0.896560 | 0.999456 | 365920 | ADD |  0.002398470 | 0.00224415 |  1.1422600 | 0.5448890 | NA |\n",
       "| 7 | 27876401 | rs2285929          | A  | C     | 0.896626 | 0.999625 | 365920 | ADD |  0.002318740 | 0.00224452 |  1.0672300 | 0.5206080 | NA |\n",
       "| 7 | 27876683 | rs55901354         | G  | A     | 0.990058 | 0.992866 | 365920 | ADD |  0.012102800 | 0.00691577 |  3.0626000 | 1.0962900 | NA |\n",
       "| 7 | 27876795 | rs71555716         | CA | C     | 0.955919 | 0.952423 | 365920 | ADD | -0.008941190 | 0.00340810 |  6.8828100 | 2.0603400 | NA |\n",
       "| 7 | 27877537 | rs10281008         | G  | A     | 0.896542 | 1.000000 | 365920 | ADD |  0.002381480 | 0.00224417 |  1.1261200 | 0.5396960 | NA |\n",
       "| ⋮ | ⋮ | ⋮ | ⋮ | ⋮ | ⋮ | ⋮ | ⋮ | ⋮ | ⋮ | ⋮ | ⋮ | ⋮ | ⋮ |\n",
       "| 7 | 28269992 | rs112395683                | G  | T             | 0.994973 | 0.972732 | 365920 | ADD |  0.007505180 | 0.00978515 |  0.58828300 | 0.3535140 | NA |\n",
       "| 7 | 28270189 | rs493195                   | G  | A             | 0.192116 | 0.998001 | 365920 | ADD |  0.008652620 | 0.00173745 | 24.80110000 | 6.1968000 | NA |\n",
       "| 7 | 28270710 | rs35030870                 | CA | C             | 0.624212 | 0.873913 | 365920 | ADD |  0.003118390 | 0.00150867 |  4.27240000 | 1.4118800 | NA |\n",
       "| 7 | 28270740 | rs148362301                | G  | A             | 0.987005 | 0.873417 | 365920 | ADD |  0.007797310 | 0.00645640 |  1.45851000 | 0.6436540 | NA |\n",
       "| 7 | 28270760 | rs12533350                 | T  | G             | 0.746297 | 0.985017 | 365920 | ADD |  0.000220491 | 0.00158094 |  0.01945150 | 0.0510593 | NA |\n",
       "| 7 | 28271293 | 7:28271293_AT_A            | A  | AT            | 0.854236 | 0.974563 | 365920 | ADD |  0.001771150 | 0.00196116 |  0.81561400 | 0.4359670 | NA |\n",
       "| 7 | 28271387 | 7:28271387_CTG_C           | C  | CTG           | 0.955922 | 0.985601 | 365920 | ADD | -0.017783700 | 0.00335278 | 28.13430000 | 6.9462200 | NA |\n",
       "| 7 | 28271539 | rs11419831                 | CA | C             | 0.867370 | 0.957658 | 365920 | ADD |  0.002757230 | 0.00205714 |  1.79646000 | 0.7443880 | NA |\n",
       "| 7 | 28271674 | rs555334913                | T  | C             | 0.998564 | 0.817873 | 365920 | ADD | -0.022745800 | 0.01995670 |  1.29905000 | 0.5945050 | NA |\n",
       "| 7 | 28271690 | rs73302615                 | A  | G             | 0.994732 | 0.971498 | 365920 | ADD |  0.010131600 | 0.00956974 |  1.12086000 | 0.5380020 | NA |\n",
       "| 7 | 28271922 | rs138183084                | A  | G             | 0.972219 | 0.936951 | 365920 | ADD | -0.003921490 | 0.00429903 |  0.83207200 | 0.4416830 | NA |\n",
       "| 7 | 28271983 | rs73302618                 | C  | G             | 0.994732 | 0.972184 | 365920 | ADD |  0.010929100 | 0.00956396 |  1.30585000 | 0.5966270 | NA |\n",
       "| 7 | 28272003 | rs73302620                 | A  | G             | 0.994732 | 0.972116 | 365920 | ADD |  0.010768700 | 0.00956490 |  1.26756000 | 0.5846520 | NA |\n",
       "| 7 | 28272025 | rs184929813                | C  | T             | 0.995000 | 0.977497 | 365920 | ADD |  0.006764620 | 0.00979124 |  0.47732300 | 0.3101250 | NA |\n",
       "| 7 | 28272098 | rs189147188                | T  | C             | 0.994984 | 0.978202 | 365920 | ADD |  0.006981350 | 0.00977262 |  0.51033700 | 0.3233130 | NA |\n",
       "| 7 | 28272541 | 7:28272541_GAGAGAGAA_G     | G  | GAGAGAGAA     | 0.995123 | 0.972216 | 365920 | ADD |  0.006200980 | 0.00993945 |  0.38922100 | 0.2735100 | NA |\n",
       "| 7 | 28272621 | rs114163027                | G  | A             | 0.997904 | 0.982879 | 365920 | ADD | -0.009108500 | 0.01508440 |  0.36461500 | 0.2628440 | NA |\n",
       "| 7 | 28272666 | rs849325                   | T  | C             | 0.198673 | 1.000000 | 365920 | ADD |  0.008115260 | 0.00171383 | 22.42180000 | 5.6597900 | NA |\n",
       "| 7 | 28272748 | rs186167894                | A  | G             | 0.997046 | 0.925939 | 365920 | ADD |  0.013200600 | 0.01308100 |  1.01837000 | 0.5045860 | NA |\n",
       "| 7 | 28273072 | rs849326                   | C  | G             | 0.146600 | 0.996174 | 365920 | ADD |  0.004813040 | 0.00193662 |  6.17664000 | 1.8879000 | NA |\n",
       "| 7 | 28273378 | rs145009308                | G  | T             | 0.996956 | 0.814635 | 365920 | ADD | -0.029214700 | 0.01373710 |  4.52287000 | 1.4756700 | NA |\n",
       "| 7 | 28273524 | rs28595028                 | T  | G             | 0.341781 | 0.843844 | 365920 | ADD |  0.005760920 | 0.00157001 | 13.46420000 | 3.6141100 | NA |\n",
       "| 7 | 28273528 | rs11766682                 | T  | G             | 0.196753 | 0.989954 | 365920 | ADD |  0.008065120 | 0.00172830 | 21.77630000 | 5.5137800 | NA |\n",
       "| 7 | 28273532 | rs150271922                | G  | T             | 0.995901 | 0.888223 | 365920 | ADD | -0.000863742 | 0.01135290 |  0.00578838 | 0.0271705 | NA |\n",
       "| 7 | 28273609 | rs533302077                | T  | C             | 0.998718 | 0.827723 | 365920 | ADD |  0.035463700 | 0.02094580 |  2.86665000 | 1.0436700 | NA |\n",
       "| 7 | 28273623 | 7:28273623_TTTCCTTCCTTCC_T | T  | TTTCCTTCCTTCC | 0.842745 | 0.950650 | 365920 | ADD |  0.003161520 | 0.00192321 |  2.70232000 | 0.9991230 | NA |\n",
       "| 7 | 28273697 | rs188426589                | A  | T             | 0.987438 | 0.964895 | 365920 | ADD | -0.038124600 | 0.00624552 | 37.26270000 | 8.9861400 | NA |\n",
       "| 7 | 28273719 | rs6944995                  | G  | T             | 0.146807 | 0.995760 | 365920 | ADD |  0.004790380 | 0.00193589 |  6.12319000 | 1.8747800 | NA |\n",
       "| 7 | 28273829 | rs192297723                | C  | A             | 0.988323 | 0.873941 | 365920 | ADD | -0.003912700 | 0.00680775 |  0.33032900 | 0.2475940 | NA |\n",
       "| 7 | 28273986 | rs849313                   | C  | T             | 0.190701 | 0.997894 | 365920 | ADD |  0.008643300 | 0.00174245 | 24.60600000 | 6.1528400 | NA |\n",
       "\n"
      ],
      "text/plain": [
       "     CHROM GENPOS   ID                         ALLELE0 ALLELE1       A1FREQ  \n",
       "1    7     27869098 rs545409685                C       T             0.997338\n",
       "2    7     27869261 7:27869261_CAGTA_C         C       CAGTA         0.998504\n",
       "3    7     27869377 rs73075348                 G       A             0.943403\n",
       "4    7     27869782 rs6948467                  A       G             0.607201\n",
       "5    7     27869794 rs73075354                 G       C             0.883848\n",
       "6    7     27869921 rs35410592                 A       C             0.990574\n",
       "7    7     27870389 rs183893860                G       A             0.997424\n",
       "8    7     27870716 rs75940382                 T       C             0.990173\n",
       "9    7     27870845 rs185104866                C       G             0.998640\n",
       "10   7     27870853 rs73075357                 G       A             0.987119\n",
       "11   7     27871171 rs73075359                 C       T             0.884106\n",
       "12   7     27871270 rs533943884                C       T             0.997406\n",
       "13   7     27871845 rs140006286                A       G             0.988629\n",
       "14   7     27872466 rs143697346                G       A             0.998862\n",
       "15   7     27872675 rs56070801                 G       A             0.883095\n",
       "16   7     27872783 rs532733424                T       C             0.997905\n",
       "17   7     27873118 rs3823945                  A       G             0.981626\n",
       "18   7     27873195 rs73075361                 A       G             0.886797\n",
       "19   7     27873271 rs7797980                  A       C             0.981921\n",
       "20   7     27873685 rs739900                   C       T             0.896583\n",
       "21   7     27873726 rs80248894                 T       C             0.991091\n",
       "22   7     27874500 rs144816303                C       T             0.988708\n",
       "23   7     27875454 rs6979972                  G       A             0.902437\n",
       "24   7     27875642 rs112759592                C       G             0.962019\n",
       "25   7     27875959 rs755931846                T       C             0.998699\n",
       "26   7     27876255 rs62451071                 A       T             0.896560\n",
       "27   7     27876401 rs2285929                  A       C             0.896626\n",
       "28   7     27876683 rs55901354                 G       A             0.990058\n",
       "29   7     27876795 rs71555716                 CA      C             0.955919\n",
       "30   7     27877537 rs10281008                 G       A             0.896542\n",
       "⋮    ⋮     ⋮        ⋮                          ⋮       ⋮             ⋮       \n",
       "2019 7     28269992 rs112395683                G       T             0.994973\n",
       "2020 7     28270189 rs493195                   G       A             0.192116\n",
       "2021 7     28270710 rs35030870                 CA      C             0.624212\n",
       "2022 7     28270740 rs148362301                G       A             0.987005\n",
       "2023 7     28270760 rs12533350                 T       G             0.746297\n",
       "2024 7     28271293 7:28271293_AT_A            A       AT            0.854236\n",
       "2025 7     28271387 7:28271387_CTG_C           C       CTG           0.955922\n",
       "2026 7     28271539 rs11419831                 CA      C             0.867370\n",
       "2027 7     28271674 rs555334913                T       C             0.998564\n",
       "2028 7     28271690 rs73302615                 A       G             0.994732\n",
       "2029 7     28271922 rs138183084                A       G             0.972219\n",
       "2030 7     28271983 rs73302618                 C       G             0.994732\n",
       "2031 7     28272003 rs73302620                 A       G             0.994732\n",
       "2032 7     28272025 rs184929813                C       T             0.995000\n",
       "2033 7     28272098 rs189147188                T       C             0.994984\n",
       "2034 7     28272541 7:28272541_GAGAGAGAA_G     G       GAGAGAGAA     0.995123\n",
       "2035 7     28272621 rs114163027                G       A             0.997904\n",
       "2036 7     28272666 rs849325                   T       C             0.198673\n",
       "2037 7     28272748 rs186167894                A       G             0.997046\n",
       "2038 7     28273072 rs849326                   C       G             0.146600\n",
       "2039 7     28273378 rs145009308                G       T             0.996956\n",
       "2040 7     28273524 rs28595028                 T       G             0.341781\n",
       "2041 7     28273528 rs11766682                 T       G             0.196753\n",
       "2042 7     28273532 rs150271922                G       T             0.995901\n",
       "2043 7     28273609 rs533302077                T       C             0.998718\n",
       "2044 7     28273623 7:28273623_TTTCCTTCCTTCC_T T       TTTCCTTCCTTCC 0.842745\n",
       "2045 7     28273697 rs188426589                A       T             0.987438\n",
       "2046 7     28273719 rs6944995                  G       T             0.146807\n",
       "2047 7     28273829 rs192297723                C       A             0.988323\n",
       "2048 7     28273986 rs849313                   C       T             0.190701\n",
       "     INFO     N      TEST BETA         SE         CHISQ       LOG10P    EXTRA\n",
       "1    0.921920 365920 ADD  -0.020502500 0.01379330  2.2094100  0.8627390 NA   \n",
       "2    0.847013 365920 ADD   0.010340600 0.01922140  0.2894120  0.2287080 NA   \n",
       "3    1.000000 365920 ADD   0.000331266 0.00295709  0.0125495  0.0405750 NA   \n",
       "4    0.993109 365920 ADD  -0.006316580 0.00140366 20.2508000  5.1679800 NA   \n",
       "5    0.994221 365920 ADD   0.013539200 0.00213971 40.0388000  9.6038500 NA   \n",
       "6    0.967843 365920 ADD   0.014456400 0.00719418  4.0379100  1.3517500 NA   \n",
       "7    0.939441 365920 ADD  -0.002618450 0.01391080  0.0354312  0.0702262 NA   \n",
       "8    0.976199 365920 ADD  -0.017327800 0.00701361  6.1038700  1.8700300 NA   \n",
       "9    0.978154 365920 ADD   0.003053000 0.01876370  0.0264737  0.0601071 NA   \n",
       "10   0.977403 365920 ADD   0.010849200 0.00612643  3.1360500  1.1158900 NA   \n",
       "11   0.992106 365920 ADD   0.013548400 0.00214415 39.9269000  9.5789700 NA   \n",
       "12   0.869612 365920 ADD  -0.071334900 0.01440250 24.5318000  6.1361200 NA   \n",
       "13   0.955023 365920 ADD  -0.016436900 0.00659306  6.2153200  1.8974000 NA   \n",
       "14   1.000000 365920 ADD  -0.031547100 0.02022760  2.4323700  0.9249890 NA   \n",
       "15   0.987761 365920 ADD   0.013321200 0.00214105 38.7108000  9.3084800 NA   \n",
       "16   0.922150 365920 ADD   0.002944580 0.01557910  0.0357241  0.0705370 NA   \n",
       "17   0.976166 365920 ADD   0.009261760 0.00514452  3.2411400  1.1438100 NA   \n",
       "18   0.993540 365920 ADD   0.012761300 0.00216420 34.7695000  8.4304600 NA   \n",
       "19   0.975354 365920 ADD   0.009190210 0.00518932  3.1363800  1.1159800 NA   \n",
       "20   0.999388 365920 ADD   0.002375690 0.00224445  1.1203700  0.5378420 NA   \n",
       "21   0.912135 365920 ADD  -0.000978838 0.00761737  0.0165125  0.0468433 NA   \n",
       "22   0.905126 365920 ADD   0.000255421 0.00680504  0.0014088  0.0132018 NA   \n",
       "23   0.998711 365920 ADD   0.002107880 0.00230392  0.8370630  0.4434100 NA   \n",
       "24   1.000000 365920 ADD   0.003032180 0.00357325  0.7200820  0.4021770 NA   \n",
       "25   0.852261 365920 ADD  -0.056395300 0.02054630  7.5338600  2.2178800 NA   \n",
       "26   0.999456 365920 ADD   0.002398470 0.00224415  1.1422600  0.5448890 NA   \n",
       "27   0.999625 365920 ADD   0.002318740 0.00224452  1.0672300  0.5206080 NA   \n",
       "28   0.992866 365920 ADD   0.012102800 0.00691577  3.0626000  1.0962900 NA   \n",
       "29   0.952423 365920 ADD  -0.008941190 0.00340810  6.8828100  2.0603400 NA   \n",
       "30   1.000000 365920 ADD   0.002381480 0.00224417  1.1261200  0.5396960 NA   \n",
       "⋮    ⋮        ⋮      ⋮    ⋮            ⋮          ⋮           ⋮         ⋮    \n",
       "2019 0.972732 365920 ADD   0.007505180 0.00978515  0.58828300 0.3535140 NA   \n",
       "2020 0.998001 365920 ADD   0.008652620 0.00173745 24.80110000 6.1968000 NA   \n",
       "2021 0.873913 365920 ADD   0.003118390 0.00150867  4.27240000 1.4118800 NA   \n",
       "2022 0.873417 365920 ADD   0.007797310 0.00645640  1.45851000 0.6436540 NA   \n",
       "2023 0.985017 365920 ADD   0.000220491 0.00158094  0.01945150 0.0510593 NA   \n",
       "2024 0.974563 365920 ADD   0.001771150 0.00196116  0.81561400 0.4359670 NA   \n",
       "2025 0.985601 365920 ADD  -0.017783700 0.00335278 28.13430000 6.9462200 NA   \n",
       "2026 0.957658 365920 ADD   0.002757230 0.00205714  1.79646000 0.7443880 NA   \n",
       "2027 0.817873 365920 ADD  -0.022745800 0.01995670  1.29905000 0.5945050 NA   \n",
       "2028 0.971498 365920 ADD   0.010131600 0.00956974  1.12086000 0.5380020 NA   \n",
       "2029 0.936951 365920 ADD  -0.003921490 0.00429903  0.83207200 0.4416830 NA   \n",
       "2030 0.972184 365920 ADD   0.010929100 0.00956396  1.30585000 0.5966270 NA   \n",
       "2031 0.972116 365920 ADD   0.010768700 0.00956490  1.26756000 0.5846520 NA   \n",
       "2032 0.977497 365920 ADD   0.006764620 0.00979124  0.47732300 0.3101250 NA   \n",
       "2033 0.978202 365920 ADD   0.006981350 0.00977262  0.51033700 0.3233130 NA   \n",
       "2034 0.972216 365920 ADD   0.006200980 0.00993945  0.38922100 0.2735100 NA   \n",
       "2035 0.982879 365920 ADD  -0.009108500 0.01508440  0.36461500 0.2628440 NA   \n",
       "2036 1.000000 365920 ADD   0.008115260 0.00171383 22.42180000 5.6597900 NA   \n",
       "2037 0.925939 365920 ADD   0.013200600 0.01308100  1.01837000 0.5045860 NA   \n",
       "2038 0.996174 365920 ADD   0.004813040 0.00193662  6.17664000 1.8879000 NA   \n",
       "2039 0.814635 365920 ADD  -0.029214700 0.01373710  4.52287000 1.4756700 NA   \n",
       "2040 0.843844 365920 ADD   0.005760920 0.00157001 13.46420000 3.6141100 NA   \n",
       "2041 0.989954 365920 ADD   0.008065120 0.00172830 21.77630000 5.5137800 NA   \n",
       "2042 0.888223 365920 ADD  -0.000863742 0.01135290  0.00578838 0.0271705 NA   \n",
       "2043 0.827723 365920 ADD   0.035463700 0.02094580  2.86665000 1.0436700 NA   \n",
       "2044 0.950650 365920 ADD   0.003161520 0.00192321  2.70232000 0.9991230 NA   \n",
       "2045 0.964895 365920 ADD  -0.038124600 0.00624552 37.26270000 8.9861400 NA   \n",
       "2046 0.995760 365920 ADD   0.004790380 0.00193589  6.12319000 1.8747800 NA   \n",
       "2047 0.873941 365920 ADD  -0.003912700 0.00680775  0.33032900 0.2475940 NA   \n",
       "2048 0.997894 365920 ADD   0.008643300 0.00174245 24.60600000 6.1528400 NA   "
      ]
     },
     "metadata": {},
     "output_type": "display_data"
    }
   ],
   "source": [
    "gwas%>%filter(GENPOS %in% read.table(text = colnames(new_LD), sep = \"_\")$V2)"
   ]
  },
  {
   "cell_type": "code",
   "execution_count": 27,
   "id": "9a3383ea-2a07-4c8f-ad10-efec9867c7d7",
   "metadata": {},
   "outputs": [
    {
     "data": {
      "text/html": [
       "<table class=\"dataframe\">\n",
       "<caption>A tibble: 0 × 15</caption>\n",
       "<thead>\n",
       "\t<tr><th scope=col>CHROM</th><th scope=col>GENPOS</th><th scope=col>ID</th><th scope=col>ALLELE0</th><th scope=col>ALLELE1</th><th scope=col>A1FREQ</th><th scope=col>INFO</th><th scope=col>N</th><th scope=col>TEST</th><th scope=col>BETA</th><th scope=col>SE</th><th scope=col>CHISQ</th><th scope=col>LOG10P</th><th scope=col>EXTRA</th><th scope=col>variant</th></tr>\n",
       "\t<tr><th scope=col>&lt;dbl&gt;</th><th scope=col>&lt;dbl&gt;</th><th scope=col>&lt;chr&gt;</th><th scope=col>&lt;chr&gt;</th><th scope=col>&lt;chr&gt;</th><th scope=col>&lt;dbl&gt;</th><th scope=col>&lt;dbl&gt;</th><th scope=col>&lt;dbl&gt;</th><th scope=col>&lt;chr&gt;</th><th scope=col>&lt;dbl&gt;</th><th scope=col>&lt;dbl&gt;</th><th scope=col>&lt;dbl&gt;</th><th scope=col>&lt;dbl&gt;</th><th scope=col>&lt;lgl&gt;</th><th scope=col>&lt;chr&gt;</th></tr>\n",
       "</thead>\n",
       "<tbody>\n",
       "</tbody>\n",
       "</table>\n"
      ],
      "text/latex": [
       "A tibble: 0 × 15\n",
       "\\begin{tabular}{lllllllllllllll}\n",
       " CHROM & GENPOS & ID & ALLELE0 & ALLELE1 & A1FREQ & INFO & N & TEST & BETA & SE & CHISQ & LOG10P & EXTRA & variant\\\\\n",
       " <dbl> & <dbl> & <chr> & <chr> & <chr> & <dbl> & <dbl> & <dbl> & <chr> & <dbl> & <dbl> & <dbl> & <dbl> & <lgl> & <chr>\\\\\n",
       "\\hline\n",
       "\\end{tabular}\n"
      ],
      "text/markdown": [
       "\n",
       "A tibble: 0 × 15\n",
       "\n",
       "| CHROM &lt;dbl&gt; | GENPOS &lt;dbl&gt; | ID &lt;chr&gt; | ALLELE0 &lt;chr&gt; | ALLELE1 &lt;chr&gt; | A1FREQ &lt;dbl&gt; | INFO &lt;dbl&gt; | N &lt;dbl&gt; | TEST &lt;chr&gt; | BETA &lt;dbl&gt; | SE &lt;dbl&gt; | CHISQ &lt;dbl&gt; | LOG10P &lt;dbl&gt; | EXTRA &lt;lgl&gt; | variant &lt;chr&gt; |\n",
       "|---|---|---|---|---|---|---|---|---|---|---|---|---|---|---|\n",
       "\n"
      ],
      "text/plain": [
       "     CHROM GENPOS ID ALLELE0 ALLELE1 A1FREQ INFO N TEST BETA SE CHISQ LOG10P\n",
       "     EXTRA variant"
      ]
     },
     "metadata": {},
     "output_type": "display_data"
    }
   ],
   "source": [
    "gwas%>%filter(!ID %in% GWAS_filtered$ID)%>%arrange(-LOG10P)%>%mutate(variant  = paste0(CHROM,\"_\",GENPOS,\"_\",ALLELE0,\"_\",ALLELE1 ))%>%filter(variant %in% colnames(new_LD))"
   ]
  },
  {
   "cell_type": "code",
   "execution_count": null,
   "id": "a3842aa0-de06-4fcf-987b-6a6a2e9f1567",
   "metadata": {},
   "outputs": [],
   "source": []
  }
 ],
 "metadata": {
  "kernelspec": {
   "display_name": "stephenslab R",
   "language": "R",
   "name": "stephenslab"
  },
  "language_info": {
   "codemirror_mode": "r",
   "file_extension": ".r",
   "mimetype": "text/x-r-source",
   "name": "R",
   "pygments_lexer": "r",
   "version": "4.0.3"
  }
 },
 "nbformat": 4,
 "nbformat_minor": 5
}
