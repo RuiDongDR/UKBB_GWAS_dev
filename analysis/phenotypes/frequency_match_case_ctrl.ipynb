{
 "cells": [
  {
   "cell_type": "markdown",
   "id": "9151ad91-569f-49b2-bab2-67f7f30ea8c2",
   "metadata": {
    "kernel": "SoS",
    "tags": []
   },
   "source": [
    "## Frequency matched case control data"
   ]
  },
  {
   "cell_type": "markdown",
   "id": "97323cdc-a711-43b6-87a5-9d65c8f42f96",
   "metadata": {
    "kernel": "Markdown",
    "tags": []
   },
   "source": [
    "https://cran.r-project.org/web/packages/ccoptimalmatch/vignettes/ccoptimalmatching_vignette.html"
   ]
  },
  {
   "cell_type": "code",
   "execution_count": 1,
   "id": "437d2e3b-415a-437f-8cba-671b072cadda",
   "metadata": {
    "kernel": "R"
   },
   "outputs": [
    {
     "name": "stderr",
     "output_type": "stream",
     "text": [
      "/home/dmc2245/miniconda3/lib/python3.8/site-packages/sos_notebook/kernel.py:1334: DeprecationWarning: Kernel._parent_header is deprecated in ipykernel 6. Use .get_parent()\n",
      "  msg['msg_id'] = self._parent_header['header']['msg_id']\n"
     ]
    }
   ],
   "source": [
    "library(ccoptimalmatch)"
   ]
  },
  {
   "cell_type": "code",
   "execution_count": 2,
   "id": "2cfcb238-a6c8-4a74-b8a4-d68234e5ecca",
   "metadata": {
    "kernel": "R"
   },
   "outputs": [],
   "source": [
    "## Load my raw data for f3393\n",
    "raw_f3393 <- read.table ('~/UKBiobank/phenotype_files/hearing_impairment/090321_UKBB_Hearing_aid_f3393_expandedwhite_6436cases_96601ctrl_PC1_2.tsv', header=T)"
   ]
  },
  {
   "cell_type": "code",
   "execution_count": 3,
   "id": "f51ed0bd-c3f8-477e-b2ef-6c859879f99f",
   "metadata": {
    "kernel": "R"
   },
   "outputs": [
    {
     "data": {
      "text/html": [
       "<table class=\"dataframe\">\n",
       "<caption>A data.frame: 6 x 7</caption>\n",
       "<thead>\n",
       "\t<tr><th></th><th scope=col>FID</th><th scope=col>IID</th><th scope=col>sex</th><th scope=col>f3393</th><th scope=col>age</th><th scope=col>PC1</th><th scope=col>PC2</th></tr>\n",
       "\t<tr><th></th><th scope=col>&lt;int&gt;</th><th scope=col>&lt;int&gt;</th><th scope=col>&lt;int&gt;</th><th scope=col>&lt;int&gt;</th><th scope=col>&lt;int&gt;</th><th scope=col>&lt;dbl&gt;</th><th scope=col>&lt;dbl&gt;</th></tr>\n",
       "</thead>\n",
       "<tbody>\n",
       "\t<tr><th scope=row>1</th><td>1000078</td><td>1000078</td><td>1</td><td>0</td><td>60</td><td> 0.0070245643</td><td> 0.009614509</td></tr>\n",
       "\t<tr><th scope=row>2</th><td>1000081</td><td>1000081</td><td>0</td><td>0</td><td>67</td><td>-0.1198316925</td><td>-0.012082002</td></tr>\n",
       "\t<tr><th scope=row>3</th><td>1000224</td><td>1000224</td><td>1</td><td>0</td><td>58</td><td> 0.0022356173</td><td>-0.012769062</td></tr>\n",
       "\t<tr><th scope=row>4</th><td>1000236</td><td>1000236</td><td>0</td><td>0</td><td>70</td><td>-0.0029660149</td><td> 0.016806466</td></tr>\n",
       "\t<tr><th scope=row>5</th><td>1000255</td><td>1000255</td><td>1</td><td>0</td><td>61</td><td> 0.0042133323</td><td> 0.002938649</td></tr>\n",
       "\t<tr><th scope=row>6</th><td>1000291</td><td>1000291</td><td>0</td><td>0</td><td>62</td><td> 0.0003901785</td><td> 0.001768452</td></tr>\n",
       "</tbody>\n",
       "</table>\n"
      ],
      "text/latex": [
       "A data.frame: 6 x 7\n",
       "\\begin{tabular}{r|lllllll}\n",
       "  & FID & IID & sex & f3393 & age & PC1 & PC2\\\\\n",
       "  & <int> & <int> & <int> & <int> & <int> & <dbl> & <dbl>\\\\\n",
       "\\hline\n",
       "\t1 & 1000078 & 1000078 & 1 & 0 & 60 &  0.0070245643 &  0.009614509\\\\\n",
       "\t2 & 1000081 & 1000081 & 0 & 0 & 67 & -0.1198316925 & -0.012082002\\\\\n",
       "\t3 & 1000224 & 1000224 & 1 & 0 & 58 &  0.0022356173 & -0.012769062\\\\\n",
       "\t4 & 1000236 & 1000236 & 0 & 0 & 70 & -0.0029660149 &  0.016806466\\\\\n",
       "\t5 & 1000255 & 1000255 & 1 & 0 & 61 &  0.0042133323 &  0.002938649\\\\\n",
       "\t6 & 1000291 & 1000291 & 0 & 0 & 62 &  0.0003901785 &  0.001768452\\\\\n",
       "\\end{tabular}\n"
      ],
      "text/markdown": [
       "\n",
       "A data.frame: 6 x 7\n",
       "\n",
       "| <!--/--> | FID &lt;int&gt; | IID &lt;int&gt; | sex &lt;int&gt; | f3393 &lt;int&gt; | age &lt;int&gt; | PC1 &lt;dbl&gt; | PC2 &lt;dbl&gt; |\n",
       "|---|---|---|---|---|---|---|---|\n",
       "| 1 | 1000078 | 1000078 | 1 | 0 | 60 |  0.0070245643 |  0.009614509 |\n",
       "| 2 | 1000081 | 1000081 | 0 | 0 | 67 | -0.1198316925 | -0.012082002 |\n",
       "| 3 | 1000224 | 1000224 | 1 | 0 | 58 |  0.0022356173 | -0.012769062 |\n",
       "| 4 | 1000236 | 1000236 | 0 | 0 | 70 | -0.0029660149 |  0.016806466 |\n",
       "| 5 | 1000255 | 1000255 | 1 | 0 | 61 |  0.0042133323 |  0.002938649 |\n",
       "| 6 | 1000291 | 1000291 | 0 | 0 | 62 |  0.0003901785 |  0.001768452 |\n",
       "\n"
      ],
      "text/plain": [
       "  FID     IID     sex f3393 age PC1           PC2         \n",
       "1 1000078 1000078 1   0     60   0.0070245643  0.009614509\n",
       "2 1000081 1000081 0   0     67  -0.1198316925 -0.012082002\n",
       "3 1000224 1000224 1   0     58   0.0022356173 -0.012769062\n",
       "4 1000236 1000236 0   0     70  -0.0029660149  0.016806466\n",
       "5 1000255 1000255 1   0     61   0.0042133323  0.002938649\n",
       "6 1000291 1000291 0   0     62   0.0003901785  0.001768452"
      ]
     },
     "metadata": {},
     "output_type": "display_data"
    }
   ],
   "source": [
    "head(raw_f3393)"
   ]
  },
  {
   "cell_type": "code",
   "execution_count": 4,
   "id": "2a3fe5fc-454b-4613-b5de-f1bc786bdcc7",
   "metadata": {
    "kernel": "R"
   },
   "outputs": [
    {
     "data": {
      "text/plain": [
       "\n",
       "    0     1 \n",
       "96601  6436 "
      ]
     },
     "metadata": {},
     "output_type": "display_data"
    }
   ],
   "source": [
    "# Gert the number of cases and controls\n",
    "table(raw_f3393$f3393)"
   ]
  },
  {
   "cell_type": "markdown",
   "id": "bd304ea1-77a0-4379-9bcb-c5caf75840df",
   "metadata": {
    "kernel": "R"
   },
   "source": [
    "# Step 1: Exact Matching on several variables"
   ]
  },
  {
   "cell_type": "code",
   "execution_count": 5,
   "id": "6277d0b7-4514-4b34-98c8-5357a816a502",
   "metadata": {
    "kernel": "R"
   },
   "outputs": [
    {
     "name": "stderr",
     "output_type": "stream",
     "text": [
      "\n",
      "Attaching package: ‘dplyr’\n",
      "\n",
      "\n",
      "The following objects are masked from ‘package:stats’:\n",
      "\n",
      "    filter, lag\n",
      "\n",
      "\n",
      "The following objects are masked from ‘package:base’:\n",
      "\n",
      "    intersect, setdiff, setequal, union\n",
      "\n",
      "\n"
     ]
    }
   ],
   "source": [
    "library(dplyr)"
   ]
  },
  {
   "cell_type": "code",
   "execution_count": 6,
   "id": "4cbc3801-dec9-48dc-b191-3dcb29e1172e",
   "metadata": {
    "kernel": "R"
   },
   "outputs": [],
   "source": [
    "create_subset <- raw_f3393 %>% \n",
    "                 filter(f3393 ==\"1\") %>%\n",
    "                 arrange(sex, age) %>%\n",
    "                 distinct(sex, age, .keep_all = TRUE) %>%\n",
    "                 mutate(subset = 1:n()) %>%\n",
    "                 select(sex, age, subset)"
   ]
  },
  {
   "cell_type": "code",
   "execution_count": 7,
   "id": "305904a5-f9fd-4e27-8d8a-b7f996c5c24d",
   "metadata": {
    "kernel": "R",
    "scrolled": true,
    "tags": []
   },
   "outputs": [
    {
     "data": {
      "text/html": [
       "<table class=\"dataframe\">\n",
       "<caption>A data.frame: 86 x 3</caption>\n",
       "<thead>\n",
       "\t<tr><th scope=col>sex</th><th scope=col>age</th><th scope=col>subset</th></tr>\n",
       "\t<tr><th scope=col>&lt;int&gt;</th><th scope=col>&lt;int&gt;</th><th scope=col>&lt;int&gt;</th></tr>\n",
       "</thead>\n",
       "<tbody>\n",
       "\t<tr><td>0</td><td>40</td><td> 1</td></tr>\n",
       "\t<tr><td>0</td><td>41</td><td> 2</td></tr>\n",
       "\t<tr><td>0</td><td>42</td><td> 3</td></tr>\n",
       "\t<tr><td>0</td><td>43</td><td> 4</td></tr>\n",
       "\t<tr><td>0</td><td>44</td><td> 5</td></tr>\n",
       "\t<tr><td>0</td><td>45</td><td> 6</td></tr>\n",
       "\t<tr><td>0</td><td>46</td><td> 7</td></tr>\n",
       "\t<tr><td>0</td><td>47</td><td> 8</td></tr>\n",
       "\t<tr><td>0</td><td>48</td><td> 9</td></tr>\n",
       "\t<tr><td>0</td><td>49</td><td>10</td></tr>\n",
       "\t<tr><td>0</td><td>50</td><td>11</td></tr>\n",
       "\t<tr><td>0</td><td>51</td><td>12</td></tr>\n",
       "\t<tr><td>0</td><td>52</td><td>13</td></tr>\n",
       "\t<tr><td>0</td><td>53</td><td>14</td></tr>\n",
       "\t<tr><td>0</td><td>54</td><td>15</td></tr>\n",
       "\t<tr><td>0</td><td>55</td><td>16</td></tr>\n",
       "\t<tr><td>0</td><td>56</td><td>17</td></tr>\n",
       "\t<tr><td>0</td><td>57</td><td>18</td></tr>\n",
       "\t<tr><td>0</td><td>58</td><td>19</td></tr>\n",
       "\t<tr><td>0</td><td>59</td><td>20</td></tr>\n",
       "\t<tr><td>0</td><td>60</td><td>21</td></tr>\n",
       "\t<tr><td>0</td><td>61</td><td>22</td></tr>\n",
       "\t<tr><td>0</td><td>62</td><td>23</td></tr>\n",
       "\t<tr><td>0</td><td>63</td><td>24</td></tr>\n",
       "\t<tr><td>0</td><td>64</td><td>25</td></tr>\n",
       "\t<tr><td>0</td><td>65</td><td>26</td></tr>\n",
       "\t<tr><td>0</td><td>66</td><td>27</td></tr>\n",
       "\t<tr><td>0</td><td>67</td><td>28</td></tr>\n",
       "\t<tr><td>0</td><td>68</td><td>29</td></tr>\n",
       "\t<tr><td>0</td><td>69</td><td>30</td></tr>\n",
       "\t<tr><td>...</td><td>...</td><td>...</td></tr>\n",
       "\t<tr><td>1</td><td>53</td><td>57</td></tr>\n",
       "\t<tr><td>1</td><td>54</td><td>58</td></tr>\n",
       "\t<tr><td>1</td><td>55</td><td>59</td></tr>\n",
       "\t<tr><td>1</td><td>56</td><td>60</td></tr>\n",
       "\t<tr><td>1</td><td>57</td><td>61</td></tr>\n",
       "\t<tr><td>1</td><td>58</td><td>62</td></tr>\n",
       "\t<tr><td>1</td><td>59</td><td>63</td></tr>\n",
       "\t<tr><td>1</td><td>60</td><td>64</td></tr>\n",
       "\t<tr><td>1</td><td>61</td><td>65</td></tr>\n",
       "\t<tr><td>1</td><td>62</td><td>66</td></tr>\n",
       "\t<tr><td>1</td><td>63</td><td>67</td></tr>\n",
       "\t<tr><td>1</td><td>64</td><td>68</td></tr>\n",
       "\t<tr><td>1</td><td>65</td><td>69</td></tr>\n",
       "\t<tr><td>1</td><td>66</td><td>70</td></tr>\n",
       "\t<tr><td>1</td><td>67</td><td>71</td></tr>\n",
       "\t<tr><td>1</td><td>68</td><td>72</td></tr>\n",
       "\t<tr><td>1</td><td>69</td><td>73</td></tr>\n",
       "\t<tr><td>1</td><td>70</td><td>74</td></tr>\n",
       "\t<tr><td>1</td><td>71</td><td>75</td></tr>\n",
       "\t<tr><td>1</td><td>72</td><td>76</td></tr>\n",
       "\t<tr><td>1</td><td>73</td><td>77</td></tr>\n",
       "\t<tr><td>1</td><td>74</td><td>78</td></tr>\n",
       "\t<tr><td>1</td><td>75</td><td>79</td></tr>\n",
       "\t<tr><td>1</td><td>76</td><td>80</td></tr>\n",
       "\t<tr><td>1</td><td>77</td><td>81</td></tr>\n",
       "\t<tr><td>1</td><td>78</td><td>82</td></tr>\n",
       "\t<tr><td>1</td><td>79</td><td>83</td></tr>\n",
       "\t<tr><td>1</td><td>80</td><td>84</td></tr>\n",
       "\t<tr><td>1</td><td>81</td><td>85</td></tr>\n",
       "\t<tr><td>1</td><td>82</td><td>86</td></tr>\n",
       "</tbody>\n",
       "</table>\n"
      ],
      "text/latex": [
       "A data.frame: 86 x 3\n",
       "\\begin{tabular}{lll}\n",
       " sex & age & subset\\\\\n",
       " <int> & <int> & <int>\\\\\n",
       "\\hline\n",
       "\t 0 & 40 &  1\\\\\n",
       "\t 0 & 41 &  2\\\\\n",
       "\t 0 & 42 &  3\\\\\n",
       "\t 0 & 43 &  4\\\\\n",
       "\t 0 & 44 &  5\\\\\n",
       "\t 0 & 45 &  6\\\\\n",
       "\t 0 & 46 &  7\\\\\n",
       "\t 0 & 47 &  8\\\\\n",
       "\t 0 & 48 &  9\\\\\n",
       "\t 0 & 49 & 10\\\\\n",
       "\t 0 & 50 & 11\\\\\n",
       "\t 0 & 51 & 12\\\\\n",
       "\t 0 & 52 & 13\\\\\n",
       "\t 0 & 53 & 14\\\\\n",
       "\t 0 & 54 & 15\\\\\n",
       "\t 0 & 55 & 16\\\\\n",
       "\t 0 & 56 & 17\\\\\n",
       "\t 0 & 57 & 18\\\\\n",
       "\t 0 & 58 & 19\\\\\n",
       "\t 0 & 59 & 20\\\\\n",
       "\t 0 & 60 & 21\\\\\n",
       "\t 0 & 61 & 22\\\\\n",
       "\t 0 & 62 & 23\\\\\n",
       "\t 0 & 63 & 24\\\\\n",
       "\t 0 & 64 & 25\\\\\n",
       "\t 0 & 65 & 26\\\\\n",
       "\t 0 & 66 & 27\\\\\n",
       "\t 0 & 67 & 28\\\\\n",
       "\t 0 & 68 & 29\\\\\n",
       "\t 0 & 69 & 30\\\\\n",
       "\t ... & ... & ...\\\\\n",
       "\t 1 & 53 & 57\\\\\n",
       "\t 1 & 54 & 58\\\\\n",
       "\t 1 & 55 & 59\\\\\n",
       "\t 1 & 56 & 60\\\\\n",
       "\t 1 & 57 & 61\\\\\n",
       "\t 1 & 58 & 62\\\\\n",
       "\t 1 & 59 & 63\\\\\n",
       "\t 1 & 60 & 64\\\\\n",
       "\t 1 & 61 & 65\\\\\n",
       "\t 1 & 62 & 66\\\\\n",
       "\t 1 & 63 & 67\\\\\n",
       "\t 1 & 64 & 68\\\\\n",
       "\t 1 & 65 & 69\\\\\n",
       "\t 1 & 66 & 70\\\\\n",
       "\t 1 & 67 & 71\\\\\n",
       "\t 1 & 68 & 72\\\\\n",
       "\t 1 & 69 & 73\\\\\n",
       "\t 1 & 70 & 74\\\\\n",
       "\t 1 & 71 & 75\\\\\n",
       "\t 1 & 72 & 76\\\\\n",
       "\t 1 & 73 & 77\\\\\n",
       "\t 1 & 74 & 78\\\\\n",
       "\t 1 & 75 & 79\\\\\n",
       "\t 1 & 76 & 80\\\\\n",
       "\t 1 & 77 & 81\\\\\n",
       "\t 1 & 78 & 82\\\\\n",
       "\t 1 & 79 & 83\\\\\n",
       "\t 1 & 80 & 84\\\\\n",
       "\t 1 & 81 & 85\\\\\n",
       "\t 1 & 82 & 86\\\\\n",
       "\\end{tabular}\n"
      ],
      "text/markdown": [
       "\n",
       "A data.frame: 86 x 3\n",
       "\n",
       "| sex &lt;int&gt; | age &lt;int&gt; | subset &lt;int&gt; |\n",
       "|---|---|---|\n",
       "| 0 | 40 |  1 |\n",
       "| 0 | 41 |  2 |\n",
       "| 0 | 42 |  3 |\n",
       "| 0 | 43 |  4 |\n",
       "| 0 | 44 |  5 |\n",
       "| 0 | 45 |  6 |\n",
       "| 0 | 46 |  7 |\n",
       "| 0 | 47 |  8 |\n",
       "| 0 | 48 |  9 |\n",
       "| 0 | 49 | 10 |\n",
       "| 0 | 50 | 11 |\n",
       "| 0 | 51 | 12 |\n",
       "| 0 | 52 | 13 |\n",
       "| 0 | 53 | 14 |\n",
       "| 0 | 54 | 15 |\n",
       "| 0 | 55 | 16 |\n",
       "| 0 | 56 | 17 |\n",
       "| 0 | 57 | 18 |\n",
       "| 0 | 58 | 19 |\n",
       "| 0 | 59 | 20 |\n",
       "| 0 | 60 | 21 |\n",
       "| 0 | 61 | 22 |\n",
       "| 0 | 62 | 23 |\n",
       "| 0 | 63 | 24 |\n",
       "| 0 | 64 | 25 |\n",
       "| 0 | 65 | 26 |\n",
       "| 0 | 66 | 27 |\n",
       "| 0 | 67 | 28 |\n",
       "| 0 | 68 | 29 |\n",
       "| 0 | 69 | 30 |\n",
       "| ... | ... | ... |\n",
       "| 1 | 53 | 57 |\n",
       "| 1 | 54 | 58 |\n",
       "| 1 | 55 | 59 |\n",
       "| 1 | 56 | 60 |\n",
       "| 1 | 57 | 61 |\n",
       "| 1 | 58 | 62 |\n",
       "| 1 | 59 | 63 |\n",
       "| 1 | 60 | 64 |\n",
       "| 1 | 61 | 65 |\n",
       "| 1 | 62 | 66 |\n",
       "| 1 | 63 | 67 |\n",
       "| 1 | 64 | 68 |\n",
       "| 1 | 65 | 69 |\n",
       "| 1 | 66 | 70 |\n",
       "| 1 | 67 | 71 |\n",
       "| 1 | 68 | 72 |\n",
       "| 1 | 69 | 73 |\n",
       "| 1 | 70 | 74 |\n",
       "| 1 | 71 | 75 |\n",
       "| 1 | 72 | 76 |\n",
       "| 1 | 73 | 77 |\n",
       "| 1 | 74 | 78 |\n",
       "| 1 | 75 | 79 |\n",
       "| 1 | 76 | 80 |\n",
       "| 1 | 77 | 81 |\n",
       "| 1 | 78 | 82 |\n",
       "| 1 | 79 | 83 |\n",
       "| 1 | 80 | 84 |\n",
       "| 1 | 81 | 85 |\n",
       "| 1 | 82 | 86 |\n",
       "\n"
      ],
      "text/plain": [
       "    sex age subset\n",
       "1   0   40   1    \n",
       "2   0   41   2    \n",
       "3   0   42   3    \n",
       "4   0   43   4    \n",
       "5   0   44   5    \n",
       "6   0   45   6    \n",
       "7   0   46   7    \n",
       "8   0   47   8    \n",
       "9   0   48   9    \n",
       "10  0   49  10    \n",
       "11  0   50  11    \n",
       "12  0   51  12    \n",
       "13  0   52  13    \n",
       "14  0   53  14    \n",
       "15  0   54  15    \n",
       "16  0   55  16    \n",
       "17  0   56  17    \n",
       "18  0   57  18    \n",
       "19  0   58  19    \n",
       "20  0   59  20    \n",
       "21  0   60  21    \n",
       "22  0   61  22    \n",
       "23  0   62  23    \n",
       "24  0   63  24    \n",
       "25  0   64  25    \n",
       "26  0   65  26    \n",
       "27  0   66  27    \n",
       "28  0   67  28    \n",
       "29  0   68  29    \n",
       "30  0   69  30    \n",
       "... ... ... ...   \n",
       "57  1   53  57    \n",
       "58  1   54  58    \n",
       "59  1   55  59    \n",
       "60  1   56  60    \n",
       "61  1   57  61    \n",
       "62  1   58  62    \n",
       "63  1   59  63    \n",
       "64  1   60  64    \n",
       "65  1   61  65    \n",
       "66  1   62  66    \n",
       "67  1   63  67    \n",
       "68  1   64  68    \n",
       "69  1   65  69    \n",
       "70  1   66  70    \n",
       "71  1   67  71    \n",
       "72  1   68  72    \n",
       "73  1   69  73    \n",
       "74  1   70  74    \n",
       "75  1   71  75    \n",
       "76  1   72  76    \n",
       "77  1   73  77    \n",
       "78  1   74  78    \n",
       "79  1   75  79    \n",
       "80  1   76  80    \n",
       "81  1   77  81    \n",
       "82  1   78  82    \n",
       "83  1   79  83    \n",
       "84  1   80  84    \n",
       "85  1   81  85    \n",
       "86  1   82  86    "
      ]
     },
     "metadata": {},
     "output_type": "display_data"
    }
   ],
   "source": [
    "create_subset"
   ]
  },
  {
   "cell_type": "markdown",
   "id": "7422f538-9164-45bb-8ccb-5e8d730de8b5",
   "metadata": {
    "kernel": "R"
   },
   "source": [
    "Merge the data that contains the subset with the cases only "
   ]
  },
  {
   "cell_type": "code",
   "execution_count": 8,
   "id": "5a514fd6-6ca8-4777-8092-fff5fc1da6ea",
   "metadata": {
    "kernel": "R"
   },
   "outputs": [],
   "source": [
    "case_with_subset <- raw_f3393 %>% \n",
    "                          filter(f3393 ==\"1\") %>%\n",
    "                           full_join(create_subset, by = c(\"sex\", \"age\"))"
   ]
  },
  {
   "cell_type": "markdown",
   "id": "4fa4e956-ea42-4472-8993-0206a9d2eef3",
   "metadata": {
    "kernel": "R"
   },
   "source": [
    "Merge the data that contains the subset with the controls only"
   ]
  },
  {
   "cell_type": "code",
   "execution_count": 9,
   "id": "72a8cdcd-ce94-47b4-b1ae-577eea14c9b7",
   "metadata": {
    "kernel": "R"
   },
   "outputs": [],
   "source": [
    "#There's one control with age=83 which creates NA in the data since there are not cases with that age, therefore we remove it\n",
    "control_with_subset <- raw_f3393 %>% \n",
    "                             filter(f3393 ==\"0\") %>%\n",
    "                             right_join(create_subset, by = c(\"sex\", \"age\")) %>%\n",
    "                             na.exclude()"
   ]
  },
  {
   "cell_type": "markdown",
   "id": "c2f1e6dc-84d7-44f9-9045-73098526dc3a",
   "metadata": {
    "kernel": "R"
   },
   "source": [
    "Merge the data from cases and controls"
   ]
  },
  {
   "cell_type": "code",
   "execution_count": 10,
   "id": "2e6206a8-5b79-4a2a-a896-e77fdcd186b6",
   "metadata": {
    "kernel": "R"
   },
   "outputs": [],
   "source": [
    "not_processed <- rbind(case_with_subset,control_with_subset)"
   ]
  },
  {
   "cell_type": "code",
   "execution_count": 11,
   "id": "8e3cc43e-f0ee-48ce-b478-bc19a9ad9a57",
   "metadata": {
    "kernel": "R"
   },
   "outputs": [
    {
     "data": {
      "text/html": [
       "<table class=\"dataframe\">\n",
       "<caption>A data.frame: 6 x 8</caption>\n",
       "<thead>\n",
       "\t<tr><th></th><th scope=col>FID</th><th scope=col>IID</th><th scope=col>sex</th><th scope=col>f3393</th><th scope=col>age</th><th scope=col>PC1</th><th scope=col>PC2</th><th scope=col>subset</th></tr>\n",
       "\t<tr><th></th><th scope=col>&lt;int&gt;</th><th scope=col>&lt;int&gt;</th><th scope=col>&lt;int&gt;</th><th scope=col>&lt;int&gt;</th><th scope=col>&lt;int&gt;</th><th scope=col>&lt;dbl&gt;</th><th scope=col>&lt;dbl&gt;</th><th scope=col>&lt;int&gt;</th></tr>\n",
       "</thead>\n",
       "<tbody>\n",
       "\t<tr><th scope=row>1</th><td>1001384</td><td>1001384</td><td>1</td><td>1</td><td>61</td><td>0.0027161810</td><td> 0.00165980</td><td>65</td></tr>\n",
       "\t<tr><th scope=row>2</th><td>1002548</td><td>1002548</td><td>0</td><td>1</td><td>62</td><td>0.0008948446</td><td> 0.01342160</td><td>23</td></tr>\n",
       "\t<tr><th scope=row>3</th><td>1002888</td><td>1002888</td><td>0</td><td>1</td><td>68</td><td>0.0080358312</td><td>-0.00139989</td><td>29</td></tr>\n",
       "\t<tr><th scope=row>4</th><td>1002944</td><td>1002944</td><td>0</td><td>1</td><td>65</td><td>0.0065072331</td><td>-0.01052309</td><td>26</td></tr>\n",
       "\t<tr><th scope=row>5</th><td>1003258</td><td>1003258</td><td>0</td><td>1</td><td>74</td><td>0.0125914159</td><td>-0.01414233</td><td>35</td></tr>\n",
       "\t<tr><th scope=row>6</th><td>1004843</td><td>1004843</td><td>0</td><td>1</td><td>64</td><td>0.0180530254</td><td>-0.04619064</td><td>25</td></tr>\n",
       "</tbody>\n",
       "</table>\n"
      ],
      "text/latex": [
       "A data.frame: 6 x 8\n",
       "\\begin{tabular}{r|llllllll}\n",
       "  & FID & IID & sex & f3393 & age & PC1 & PC2 & subset\\\\\n",
       "  & <int> & <int> & <int> & <int> & <int> & <dbl> & <dbl> & <int>\\\\\n",
       "\\hline\n",
       "\t1 & 1001384 & 1001384 & 1 & 1 & 61 & 0.0027161810 &  0.00165980 & 65\\\\\n",
       "\t2 & 1002548 & 1002548 & 0 & 1 & 62 & 0.0008948446 &  0.01342160 & 23\\\\\n",
       "\t3 & 1002888 & 1002888 & 0 & 1 & 68 & 0.0080358312 & -0.00139989 & 29\\\\\n",
       "\t4 & 1002944 & 1002944 & 0 & 1 & 65 & 0.0065072331 & -0.01052309 & 26\\\\\n",
       "\t5 & 1003258 & 1003258 & 0 & 1 & 74 & 0.0125914159 & -0.01414233 & 35\\\\\n",
       "\t6 & 1004843 & 1004843 & 0 & 1 & 64 & 0.0180530254 & -0.04619064 & 25\\\\\n",
       "\\end{tabular}\n"
      ],
      "text/markdown": [
       "\n",
       "A data.frame: 6 x 8\n",
       "\n",
       "| <!--/--> | FID &lt;int&gt; | IID &lt;int&gt; | sex &lt;int&gt; | f3393 &lt;int&gt; | age &lt;int&gt; | PC1 &lt;dbl&gt; | PC2 &lt;dbl&gt; | subset &lt;int&gt; |\n",
       "|---|---|---|---|---|---|---|---|---|\n",
       "| 1 | 1001384 | 1001384 | 1 | 1 | 61 | 0.0027161810 |  0.00165980 | 65 |\n",
       "| 2 | 1002548 | 1002548 | 0 | 1 | 62 | 0.0008948446 |  0.01342160 | 23 |\n",
       "| 3 | 1002888 | 1002888 | 0 | 1 | 68 | 0.0080358312 | -0.00139989 | 29 |\n",
       "| 4 | 1002944 | 1002944 | 0 | 1 | 65 | 0.0065072331 | -0.01052309 | 26 |\n",
       "| 5 | 1003258 | 1003258 | 0 | 1 | 74 | 0.0125914159 | -0.01414233 | 35 |\n",
       "| 6 | 1004843 | 1004843 | 0 | 1 | 64 | 0.0180530254 | -0.04619064 | 25 |\n",
       "\n"
      ],
      "text/plain": [
       "  FID     IID     sex f3393 age PC1          PC2         subset\n",
       "1 1001384 1001384 1   1     61  0.0027161810  0.00165980 65    \n",
       "2 1002548 1002548 0   1     62  0.0008948446  0.01342160 23    \n",
       "3 1002888 1002888 0   1     68  0.0080358312 -0.00139989 29    \n",
       "4 1002944 1002944 0   1     65  0.0065072331 -0.01052309 26    \n",
       "5 1003258 1003258 0   1     74  0.0125914159 -0.01414233 35    \n",
       "6 1004843 1004843 0   1     64  0.0180530254 -0.04619064 25    "
      ]
     },
     "metadata": {},
     "output_type": "display_data"
    }
   ],
   "source": [
    "head(not_processed)"
   ]
  },
  {
   "cell_type": "code",
   "execution_count": 12,
   "id": "169598a3-b0d5-4162-83dc-c5b60c2e3fba",
   "metadata": {
    "kernel": "R"
   },
   "outputs": [
    {
     "data": {
      "text/plain": [
       "\n",
       "    0     1 \n",
       "96599  6436 "
      ]
     },
     "metadata": {},
     "output_type": "display_data"
    }
   ],
   "source": [
    "# All the cases were matched to controls\n",
    "table(not_processed$f3393)"
   ]
  },
  {
   "cell_type": "markdown",
   "id": "6658a8df-1b6c-4274-b230-d2d1ce31017e",
   "metadata": {
    "kernel": "R"
   },
   "source": [
    "# Step 2. Create artificial observations and select the range of variables"
   ]
  },
  {
   "cell_type": "code",
   "execution_count": 13,
   "id": "3650f8ea-8e5a-47cb-b0df-9f7d5bd0417b",
   "metadata": {
    "kernel": "R"
   },
   "outputs": [],
   "source": [
    "bdd_controls <- not_processed[not_processed$f3393==\"0\",]\n",
    "bdd_controls$cluster_case <- 0"
   ]
  },
  {
   "cell_type": "code",
   "execution_count": 14,
   "id": "11eeefe4-0069-455e-9f68-4dae83ad8c64",
   "metadata": {
    "kernel": "R"
   },
   "outputs": [],
   "source": [
    "bdd_cases <- not_processed[not_processed$f3393==\"1\",]\n",
    "bdd_cases$cluster_case <- paste(\"1\",1:nrow(bdd_cases),sep = \"_\")"
   ]
  },
  {
   "cell_type": "code",
   "execution_count": 15,
   "id": "c53aedd5-698a-47ef-8bd0-aa28bc4f6269",
   "metadata": {
    "kernel": "R"
   },
   "outputs": [],
   "source": [
    "not_processed <- rbind(bdd_cases,bdd_controls)"
   ]
  },
  {
   "cell_type": "code",
   "execution_count": 16,
   "id": "4ec95e80-37d2-48b7-9688-2af071a1641d",
   "metadata": {
    "kernel": "R"
   },
   "outputs": [],
   "source": [
    "bdd_cases <- not_processed[not_processed$f3393==\"1\",]\n",
    "bdd_control <- not_processed[not_processed$f3393==\"0\",]"
   ]
  },
  {
   "cell_type": "code",
   "execution_count": 17,
   "id": "b2f775fc-fca0-4304-85e7-2429c2cb86b9",
   "metadata": {
    "kernel": "R"
   },
   "outputs": [],
   "source": [
    "bdd_temp <- data.frame()\n",
    "list_p <- unique(bdd_cases$cluster_case)"
   ]
  },
  {
   "cell_type": "code",
   "execution_count": 18,
   "id": "79063178-f985-448d-b7b9-3201992e2d99",
   "metadata": {
    "kernel": "R"
   },
   "outputs": [
    {
     "data": {
      "text/html": [
       "6436"
      ],
      "text/latex": [
       "6436"
      ],
      "text/markdown": [
       "6436"
      ],
      "text/plain": [
       "[1] 6436"
      ]
     },
     "metadata": {},
     "output_type": "display_data"
    }
   ],
   "source": [
    "length(list_p)"
   ]
  },
  {
   "cell_type": "code",
   "execution_count": 19,
   "id": "9813cb10-bf1f-4c12-be39-032cd4e6434e",
   "metadata": {
    "kernel": "R"
   },
   "outputs": [],
   "source": [
    "bdd_temp <- data.frame()\n",
    "for(i in 1:length(list_p)){\n",
    "temp <- bdd_cases[bdd_cases$cluster_case==list_p[i],]\n",
    "subset_identified <- temp$subset\n",
    "temp0 <- bdd_control[bdd_control$subset==temp$subset,]\n",
    "temp_final <- rbind(temp,temp0)\n",
    "temp_final$cluster_case <- list_p[i]\n",
    "temp_final=temp_final %>%\n",
    "    group_by(cluster_case) %>%\n",
    "    mutate(age_diff = abs(age - age[f3393==\"1\"]))\n",
    "temp_final$age_match <- ifelse(temp_final$age_diff<=2,\"accept\",\"delete\")\n",
    "temp_final <- temp_final[temp_final$age_match==\"accept\",]\n",
    "temp_final$age_match <- NULL\n",
    "bdd_temp <- rbind(data.frame(bdd_temp),data.frame(temp_final))\n",
    "}"
   ]
  },
  {
   "cell_type": "code",
   "execution_count": 21,
   "id": "ecc18ac9-59a0-4693-b50e-ceb022b65a32",
   "metadata": {
    "kernel": "R"
   },
   "outputs": [
    {
     "data": {
      "text/plain": [
       "\n",
       "      0       1 \n",
       "9670178    6436 "
      ]
     },
     "metadata": {},
     "output_type": "display_data"
    }
   ],
   "source": [
    "table(bdd_temp$f3393)"
   ]
  },
  {
   "cell_type": "code",
   "execution_count": 22,
   "id": "4d77e961-36a3-4def-a358-0fa4b0c10dfa",
   "metadata": {
    "kernel": "R"
   },
   "outputs": [
    {
     "data": {
      "text/html": [
       "<table class=\"dataframe\">\n",
       "<caption>A data.frame: 6 x 10</caption>\n",
       "<thead>\n",
       "\t<tr><th></th><th scope=col>FID</th><th scope=col>IID</th><th scope=col>sex</th><th scope=col>f3393</th><th scope=col>age</th><th scope=col>PC1</th><th scope=col>PC2</th><th scope=col>subset</th><th scope=col>cluster_case</th><th scope=col>age_diff</th></tr>\n",
       "\t<tr><th></th><th scope=col>&lt;int&gt;</th><th scope=col>&lt;int&gt;</th><th scope=col>&lt;int&gt;</th><th scope=col>&lt;int&gt;</th><th scope=col>&lt;int&gt;</th><th scope=col>&lt;dbl&gt;</th><th scope=col>&lt;dbl&gt;</th><th scope=col>&lt;int&gt;</th><th scope=col>&lt;chr&gt;</th><th scope=col>&lt;int&gt;</th></tr>\n",
       "</thead>\n",
       "<tbody>\n",
       "\t<tr><th scope=row>1</th><td>1001384</td><td>1001384</td><td>1</td><td>1</td><td>61</td><td> 0.0027161810</td><td> 0.001659800</td><td>65</td><td>1_1</td><td>0</td></tr>\n",
       "\t<tr><th scope=row>2</th><td>1000255</td><td>1000255</td><td>1</td><td>0</td><td>61</td><td> 0.0042133323</td><td> 0.002938649</td><td>65</td><td>1_1</td><td>0</td></tr>\n",
       "\t<tr><th scope=row>3</th><td>1001349</td><td>1001349</td><td>1</td><td>0</td><td>61</td><td> 0.0050870769</td><td>-0.002624446</td><td>65</td><td>1_1</td><td>0</td></tr>\n",
       "\t<tr><th scope=row>4</th><td>1002199</td><td>1002199</td><td>1</td><td>0</td><td>61</td><td> 0.0093873752</td><td>-0.004486079</td><td>65</td><td>1_1</td><td>0</td></tr>\n",
       "\t<tr><th scope=row>5</th><td>1002639</td><td>1002639</td><td>1</td><td>0</td><td>61</td><td>-0.0005047414</td><td> 0.009322109</td><td>65</td><td>1_1</td><td>0</td></tr>\n",
       "\t<tr><th scope=row>6</th><td>1003881</td><td>1003881</td><td>1</td><td>0</td><td>61</td><td> 0.0015532872</td><td> 0.004203057</td><td>65</td><td>1_1</td><td>0</td></tr>\n",
       "</tbody>\n",
       "</table>\n"
      ],
      "text/latex": [
       "A data.frame: 6 x 10\n",
       "\\begin{tabular}{r|llllllllll}\n",
       "  & FID & IID & sex & f3393 & age & PC1 & PC2 & subset & cluster\\_case & age\\_diff\\\\\n",
       "  & <int> & <int> & <int> & <int> & <int> & <dbl> & <dbl> & <int> & <chr> & <int>\\\\\n",
       "\\hline\n",
       "\t1 & 1001384 & 1001384 & 1 & 1 & 61 &  0.0027161810 &  0.001659800 & 65 & 1\\_1 & 0\\\\\n",
       "\t2 & 1000255 & 1000255 & 1 & 0 & 61 &  0.0042133323 &  0.002938649 & 65 & 1\\_1 & 0\\\\\n",
       "\t3 & 1001349 & 1001349 & 1 & 0 & 61 &  0.0050870769 & -0.002624446 & 65 & 1\\_1 & 0\\\\\n",
       "\t4 & 1002199 & 1002199 & 1 & 0 & 61 &  0.0093873752 & -0.004486079 & 65 & 1\\_1 & 0\\\\\n",
       "\t5 & 1002639 & 1002639 & 1 & 0 & 61 & -0.0005047414 &  0.009322109 & 65 & 1\\_1 & 0\\\\\n",
       "\t6 & 1003881 & 1003881 & 1 & 0 & 61 &  0.0015532872 &  0.004203057 & 65 & 1\\_1 & 0\\\\\n",
       "\\end{tabular}\n"
      ],
      "text/markdown": [
       "\n",
       "A data.frame: 6 x 10\n",
       "\n",
       "| <!--/--> | FID &lt;int&gt; | IID &lt;int&gt; | sex &lt;int&gt; | f3393 &lt;int&gt; | age &lt;int&gt; | PC1 &lt;dbl&gt; | PC2 &lt;dbl&gt; | subset &lt;int&gt; | cluster_case &lt;chr&gt; | age_diff &lt;int&gt; |\n",
       "|---|---|---|---|---|---|---|---|---|---|---|\n",
       "| 1 | 1001384 | 1001384 | 1 | 1 | 61 |  0.0027161810 |  0.001659800 | 65 | 1_1 | 0 |\n",
       "| 2 | 1000255 | 1000255 | 1 | 0 | 61 |  0.0042133323 |  0.002938649 | 65 | 1_1 | 0 |\n",
       "| 3 | 1001349 | 1001349 | 1 | 0 | 61 |  0.0050870769 | -0.002624446 | 65 | 1_1 | 0 |\n",
       "| 4 | 1002199 | 1002199 | 1 | 0 | 61 |  0.0093873752 | -0.004486079 | 65 | 1_1 | 0 |\n",
       "| 5 | 1002639 | 1002639 | 1 | 0 | 61 | -0.0005047414 |  0.009322109 | 65 | 1_1 | 0 |\n",
       "| 6 | 1003881 | 1003881 | 1 | 0 | 61 |  0.0015532872 |  0.004203057 | 65 | 1_1 | 0 |\n",
       "\n"
      ],
      "text/plain": [
       "  FID     IID     sex f3393 age PC1           PC2          subset cluster_case\n",
       "1 1001384 1001384 1   1     61   0.0027161810  0.001659800 65     1_1         \n",
       "2 1000255 1000255 1   0     61   0.0042133323  0.002938649 65     1_1         \n",
       "3 1001349 1001349 1   0     61   0.0050870769 -0.002624446 65     1_1         \n",
       "4 1002199 1002199 1   0     61   0.0093873752 -0.004486079 65     1_1         \n",
       "5 1002639 1002639 1   0     61  -0.0005047414  0.009322109 65     1_1         \n",
       "6 1003881 1003881 1   0     61   0.0015532872  0.004203057 65     1_1         \n",
       "  age_diff\n",
       "1 0       \n",
       "2 0       \n",
       "3 0       \n",
       "4 0       \n",
       "5 0       \n",
       "6 0       "
      ]
     },
     "metadata": {},
     "output_type": "display_data"
    }
   ],
   "source": [
    "head(bdd_temp)"
   ]
  },
  {
   "cell_type": "markdown",
   "id": "5e4376e8-0f49-4fc9-8b00-5ecf52a59db0",
   "metadata": {
    "kernel": "R"
   },
   "source": [
    "# Step 3: Create the variables \"total controls per case\" and \"frequency of controls\""
   ]
  },
  {
   "cell_type": "code",
   "execution_count": 23,
   "id": "15057e8e-23e5-45d1-a503-8724d5583b2c",
   "metadata": {
    "kernel": "R"
   },
   "outputs": [],
   "source": [
    "bdd_temp1 = bdd_temp %>% group_by(cluster_case) %>% mutate(total_control_per_case = n()-1)\n",
    "bdd_temp1$case_ind <- bdd_temp1$f3393\n",
    "bdd_temp1$case_control <- ifelse(bdd_temp$f3393==\"1\",\"case\",\"control\")\n",
    "bdd_temp1 <- subset(bdd_temp1, select=c(cluster_case, IID, f3393, case_ind,case_control,\n",
    "                     sex, age, age_diff, total_control_per_case))"
   ]
  },
  {
   "cell_type": "code",
   "execution_count": 24,
   "id": "0be5fe51-5238-483b-8152-43543d0b52e5",
   "metadata": {
    "kernel": "R"
   },
   "outputs": [],
   "source": [
    "bdd_temp1 = bdd_temp1 %>% group_by(IID) %>% mutate(freq_of_controls = n())"
   ]
  },
  {
   "cell_type": "code",
   "execution_count": 25,
   "id": "f0906063-d81d-4a9f-b070-9a0451b22b4e",
   "metadata": {
    "kernel": "R"
   },
   "outputs": [
    {
     "data": {
      "text/html": [
       "<table class=\"dataframe\">\n",
       "<caption>A grouped_df: 6 x 10</caption>\n",
       "<thead>\n",
       "\t<tr><th scope=col>cluster_case</th><th scope=col>IID</th><th scope=col>f3393</th><th scope=col>case_ind</th><th scope=col>case_control</th><th scope=col>sex</th><th scope=col>age</th><th scope=col>age_diff</th><th scope=col>total_control_per_case</th><th scope=col>freq_of_controls</th></tr>\n",
       "\t<tr><th scope=col>&lt;chr&gt;</th><th scope=col>&lt;int&gt;</th><th scope=col>&lt;int&gt;</th><th scope=col>&lt;int&gt;</th><th scope=col>&lt;chr&gt;</th><th scope=col>&lt;int&gt;</th><th scope=col>&lt;int&gt;</th><th scope=col>&lt;int&gt;</th><th scope=col>&lt;dbl&gt;</th><th scope=col>&lt;int&gt;</th></tr>\n",
       "</thead>\n",
       "<tbody>\n",
       "\t<tr><td>1_1</td><td>1001384</td><td>1</td><td>1</td><td>case   </td><td>1</td><td>61</td><td>0</td><td>2975</td><td>  1</td></tr>\n",
       "\t<tr><td>1_1</td><td>1000255</td><td>0</td><td>0</td><td>control</td><td>1</td><td>61</td><td>0</td><td>2975</td><td>163</td></tr>\n",
       "\t<tr><td>1_1</td><td>1001349</td><td>0</td><td>0</td><td>control</td><td>1</td><td>61</td><td>0</td><td>2975</td><td>163</td></tr>\n",
       "\t<tr><td>1_1</td><td>1002199</td><td>0</td><td>0</td><td>control</td><td>1</td><td>61</td><td>0</td><td>2975</td><td>163</td></tr>\n",
       "\t<tr><td>1_1</td><td>1002639</td><td>0</td><td>0</td><td>control</td><td>1</td><td>61</td><td>0</td><td>2975</td><td>163</td></tr>\n",
       "\t<tr><td>1_1</td><td>1003881</td><td>0</td><td>0</td><td>control</td><td>1</td><td>61</td><td>0</td><td>2975</td><td>163</td></tr>\n",
       "</tbody>\n",
       "</table>\n"
      ],
      "text/latex": [
       "A grouped\\_df: 6 x 10\n",
       "\\begin{tabular}{llllllllll}\n",
       " cluster\\_case & IID & f3393 & case\\_ind & case\\_control & sex & age & age\\_diff & total\\_control\\_per\\_case & freq\\_of\\_controls\\\\\n",
       " <chr> & <int> & <int> & <int> & <chr> & <int> & <int> & <int> & <dbl> & <int>\\\\\n",
       "\\hline\n",
       "\t 1\\_1 & 1001384 & 1 & 1 & case    & 1 & 61 & 0 & 2975 &   1\\\\\n",
       "\t 1\\_1 & 1000255 & 0 & 0 & control & 1 & 61 & 0 & 2975 & 163\\\\\n",
       "\t 1\\_1 & 1001349 & 0 & 0 & control & 1 & 61 & 0 & 2975 & 163\\\\\n",
       "\t 1\\_1 & 1002199 & 0 & 0 & control & 1 & 61 & 0 & 2975 & 163\\\\\n",
       "\t 1\\_1 & 1002639 & 0 & 0 & control & 1 & 61 & 0 & 2975 & 163\\\\\n",
       "\t 1\\_1 & 1003881 & 0 & 0 & control & 1 & 61 & 0 & 2975 & 163\\\\\n",
       "\\end{tabular}\n"
      ],
      "text/markdown": [
       "\n",
       "A grouped_df: 6 x 10\n",
       "\n",
       "| cluster_case &lt;chr&gt; | IID &lt;int&gt; | f3393 &lt;int&gt; | case_ind &lt;int&gt; | case_control &lt;chr&gt; | sex &lt;int&gt; | age &lt;int&gt; | age_diff &lt;int&gt; | total_control_per_case &lt;dbl&gt; | freq_of_controls &lt;int&gt; |\n",
       "|---|---|---|---|---|---|---|---|---|---|\n",
       "| 1_1 | 1001384 | 1 | 1 | case    | 1 | 61 | 0 | 2975 |   1 |\n",
       "| 1_1 | 1000255 | 0 | 0 | control | 1 | 61 | 0 | 2975 | 163 |\n",
       "| 1_1 | 1001349 | 0 | 0 | control | 1 | 61 | 0 | 2975 | 163 |\n",
       "| 1_1 | 1002199 | 0 | 0 | control | 1 | 61 | 0 | 2975 | 163 |\n",
       "| 1_1 | 1002639 | 0 | 0 | control | 1 | 61 | 0 | 2975 | 163 |\n",
       "| 1_1 | 1003881 | 0 | 0 | control | 1 | 61 | 0 | 2975 | 163 |\n",
       "\n"
      ],
      "text/plain": [
       "  cluster_case IID     f3393 case_ind case_control sex age age_diff\n",
       "1 1_1          1001384 1     1        case         1   61  0       \n",
       "2 1_1          1000255 0     0        control      1   61  0       \n",
       "3 1_1          1001349 0     0        control      1   61  0       \n",
       "4 1_1          1002199 0     0        control      1   61  0       \n",
       "5 1_1          1002639 0     0        control      1   61  0       \n",
       "6 1_1          1003881 0     0        control      1   61  0       \n",
       "  total_control_per_case freq_of_controls\n",
       "1 2975                     1             \n",
       "2 2975                   163             \n",
       "3 2975                   163             \n",
       "4 2975                   163             \n",
       "5 2975                   163             \n",
       "6 2975                   163             "
      ]
     },
     "metadata": {},
     "output_type": "display_data"
    }
   ],
   "source": [
    "head(bdd_temp1)"
   ]
  },
  {
   "cell_type": "code",
   "execution_count": 26,
   "id": "05c0b000-5301-4955-8271-9b28eab2d28e",
   "metadata": {
    "kernel": "R",
    "scrolled": true,
    "tags": []
   },
   "outputs": [
    {
     "data": {
      "text/plain": [
       "\n",
       "      0       1 \n",
       "9670178    6436 "
      ]
     },
     "metadata": {},
     "output_type": "display_data"
    }
   ],
   "source": [
    "table(bdd_temp1$f3393)"
   ]
  },
  {
   "cell_type": "markdown",
   "id": "dfd19647-54ef-4211-bb11-e34a2b355895",
   "metadata": {
    "kernel": "R"
   },
   "source": [
    "# Step 4: Order variables"
   ]
  },
  {
   "cell_type": "code",
   "execution_count": 27,
   "id": "d651ddd2-255f-4d10-b0d0-5f7acb4731c5",
   "metadata": {
    "kernel": "R"
   },
   "outputs": [],
   "source": [
    "bdd_temp1<-bdd_temp1[order(bdd_temp1$cluster_case,bdd_temp1$case_control,bdd_temp1$sex,\n",
    "                         bdd_temp1$age_diff,bdd_temp1$freq_of_controls),]"
   ]
  },
  {
   "cell_type": "code",
   "execution_count": 28,
   "id": "210aff84-c478-4e35-bf05-d1c98a7e03d4",
   "metadata": {
    "kernel": "R"
   },
   "outputs": [
    {
     "data": {
      "text/html": [
       "<table class=\"dataframe\">\n",
       "<caption>A grouped_df: 10 x 10</caption>\n",
       "<thead>\n",
       "\t<tr><th scope=col>cluster_case</th><th scope=col>IID</th><th scope=col>f3393</th><th scope=col>case_ind</th><th scope=col>case_control</th><th scope=col>sex</th><th scope=col>age</th><th scope=col>age_diff</th><th scope=col>total_control_per_case</th><th scope=col>freq_of_controls</th></tr>\n",
       "\t<tr><th scope=col>&lt;chr&gt;</th><th scope=col>&lt;int&gt;</th><th scope=col>&lt;int&gt;</th><th scope=col>&lt;int&gt;</th><th scope=col>&lt;chr&gt;</th><th scope=col>&lt;int&gt;</th><th scope=col>&lt;int&gt;</th><th scope=col>&lt;int&gt;</th><th scope=col>&lt;dbl&gt;</th><th scope=col>&lt;int&gt;</th></tr>\n",
       "</thead>\n",
       "<tbody>\n",
       "\t<tr><td>1_1</td><td>1001384</td><td>1</td><td>1</td><td>case   </td><td>1</td><td>61</td><td>0</td><td>2975</td><td>  1</td></tr>\n",
       "\t<tr><td>1_1</td><td>1000255</td><td>0</td><td>0</td><td>control</td><td>1</td><td>61</td><td>0</td><td>2975</td><td>163</td></tr>\n",
       "\t<tr><td>1_1</td><td>1001349</td><td>0</td><td>0</td><td>control</td><td>1</td><td>61</td><td>0</td><td>2975</td><td>163</td></tr>\n",
       "\t<tr><td>1_1</td><td>1002199</td><td>0</td><td>0</td><td>control</td><td>1</td><td>61</td><td>0</td><td>2975</td><td>163</td></tr>\n",
       "\t<tr><td>1_1</td><td>1002639</td><td>0</td><td>0</td><td>control</td><td>1</td><td>61</td><td>0</td><td>2975</td><td>163</td></tr>\n",
       "\t<tr><td>1_1</td><td>1003881</td><td>0</td><td>0</td><td>control</td><td>1</td><td>61</td><td>0</td><td>2975</td><td>163</td></tr>\n",
       "\t<tr><td>1_1</td><td>1006698</td><td>0</td><td>0</td><td>control</td><td>1</td><td>61</td><td>0</td><td>2975</td><td>163</td></tr>\n",
       "\t<tr><td>1_1</td><td>1008144</td><td>0</td><td>0</td><td>control</td><td>1</td><td>61</td><td>0</td><td>2975</td><td>163</td></tr>\n",
       "\t<tr><td>1_1</td><td>1008221</td><td>0</td><td>0</td><td>control</td><td>1</td><td>61</td><td>0</td><td>2975</td><td>163</td></tr>\n",
       "\t<tr><td>1_1</td><td>1011115</td><td>0</td><td>0</td><td>control</td><td>1</td><td>61</td><td>0</td><td>2975</td><td>163</td></tr>\n",
       "</tbody>\n",
       "</table>\n"
      ],
      "text/latex": [
       "A grouped\\_df: 10 x 10\n",
       "\\begin{tabular}{llllllllll}\n",
       " cluster\\_case & IID & f3393 & case\\_ind & case\\_control & sex & age & age\\_diff & total\\_control\\_per\\_case & freq\\_of\\_controls\\\\\n",
       " <chr> & <int> & <int> & <int> & <chr> & <int> & <int> & <int> & <dbl> & <int>\\\\\n",
       "\\hline\n",
       "\t 1\\_1 & 1001384 & 1 & 1 & case    & 1 & 61 & 0 & 2975 &   1\\\\\n",
       "\t 1\\_1 & 1000255 & 0 & 0 & control & 1 & 61 & 0 & 2975 & 163\\\\\n",
       "\t 1\\_1 & 1001349 & 0 & 0 & control & 1 & 61 & 0 & 2975 & 163\\\\\n",
       "\t 1\\_1 & 1002199 & 0 & 0 & control & 1 & 61 & 0 & 2975 & 163\\\\\n",
       "\t 1\\_1 & 1002639 & 0 & 0 & control & 1 & 61 & 0 & 2975 & 163\\\\\n",
       "\t 1\\_1 & 1003881 & 0 & 0 & control & 1 & 61 & 0 & 2975 & 163\\\\\n",
       "\t 1\\_1 & 1006698 & 0 & 0 & control & 1 & 61 & 0 & 2975 & 163\\\\\n",
       "\t 1\\_1 & 1008144 & 0 & 0 & control & 1 & 61 & 0 & 2975 & 163\\\\\n",
       "\t 1\\_1 & 1008221 & 0 & 0 & control & 1 & 61 & 0 & 2975 & 163\\\\\n",
       "\t 1\\_1 & 1011115 & 0 & 0 & control & 1 & 61 & 0 & 2975 & 163\\\\\n",
       "\\end{tabular}\n"
      ],
      "text/markdown": [
       "\n",
       "A grouped_df: 10 x 10\n",
       "\n",
       "| cluster_case &lt;chr&gt; | IID &lt;int&gt; | f3393 &lt;int&gt; | case_ind &lt;int&gt; | case_control &lt;chr&gt; | sex &lt;int&gt; | age &lt;int&gt; | age_diff &lt;int&gt; | total_control_per_case &lt;dbl&gt; | freq_of_controls &lt;int&gt; |\n",
       "|---|---|---|---|---|---|---|---|---|---|\n",
       "| 1_1 | 1001384 | 1 | 1 | case    | 1 | 61 | 0 | 2975 |   1 |\n",
       "| 1_1 | 1000255 | 0 | 0 | control | 1 | 61 | 0 | 2975 | 163 |\n",
       "| 1_1 | 1001349 | 0 | 0 | control | 1 | 61 | 0 | 2975 | 163 |\n",
       "| 1_1 | 1002199 | 0 | 0 | control | 1 | 61 | 0 | 2975 | 163 |\n",
       "| 1_1 | 1002639 | 0 | 0 | control | 1 | 61 | 0 | 2975 | 163 |\n",
       "| 1_1 | 1003881 | 0 | 0 | control | 1 | 61 | 0 | 2975 | 163 |\n",
       "| 1_1 | 1006698 | 0 | 0 | control | 1 | 61 | 0 | 2975 | 163 |\n",
       "| 1_1 | 1008144 | 0 | 0 | control | 1 | 61 | 0 | 2975 | 163 |\n",
       "| 1_1 | 1008221 | 0 | 0 | control | 1 | 61 | 0 | 2975 | 163 |\n",
       "| 1_1 | 1011115 | 0 | 0 | control | 1 | 61 | 0 | 2975 | 163 |\n",
       "\n"
      ],
      "text/plain": [
       "   cluster_case IID     f3393 case_ind case_control sex age age_diff\n",
       "1  1_1          1001384 1     1        case         1   61  0       \n",
       "2  1_1          1000255 0     0        control      1   61  0       \n",
       "3  1_1          1001349 0     0        control      1   61  0       \n",
       "4  1_1          1002199 0     0        control      1   61  0       \n",
       "5  1_1          1002639 0     0        control      1   61  0       \n",
       "6  1_1          1003881 0     0        control      1   61  0       \n",
       "7  1_1          1006698 0     0        control      1   61  0       \n",
       "8  1_1          1008144 0     0        control      1   61  0       \n",
       "9  1_1          1008221 0     0        control      1   61  0       \n",
       "10 1_1          1011115 0     0        control      1   61  0       \n",
       "   total_control_per_case freq_of_controls\n",
       "1  2975                     1             \n",
       "2  2975                   163             \n",
       "3  2975                   163             \n",
       "4  2975                   163             \n",
       "5  2975                   163             \n",
       "6  2975                   163             \n",
       "7  2975                   163             \n",
       "8  2975                   163             \n",
       "9  2975                   163             \n",
       "10 2975                   163             "
      ]
     },
     "metadata": {},
     "output_type": "display_data"
    }
   ],
   "source": [
    "head(bdd_temp1, 10)"
   ]
  },
  {
   "cell_type": "code",
   "execution_count": 29,
   "id": "55f3f41d-0bbb-4782-b9c8-a6aed0000549",
   "metadata": {
    "kernel": "R"
   },
   "outputs": [
    {
     "data": {
      "text/plain": [
       "\n",
       "   case control \n",
       "   6436 9670178 "
      ]
     },
     "metadata": {},
     "output_type": "display_data"
    }
   ],
   "source": [
    "table(bdd_temp1$case_control)"
   ]
  },
  {
   "cell_type": "markdown",
   "id": "19ecf895-960b-44df-ae55-acb4d9d5aab0",
   "metadata": {
    "kernel": "R"
   },
   "source": [
    "# Step 5. Case-control matching"
   ]
  },
  {
   "cell_type": "code",
   "execution_count": 30,
   "id": "1009d216-c407-4f04-be5d-e85a906285cd",
   "metadata": {
    "kernel": "R"
   },
   "outputs": [],
   "source": [
    "final_data <- optimal_matching(bdd_temp1, n_con=5, cluster_case, IID, \n",
    "                               total_control_per_case, case_control, with_replacement = FALSE)"
   ]
  },
  {
   "cell_type": "markdown",
   "id": "57a7cb3c-dad2-4ffb-a26a-d419ea6b0d50",
   "metadata": {
    "kernel": "R"
   },
   "source": [
    "To see how many controls are matched per case"
   ]
  },
  {
   "cell_type": "code",
   "execution_count": 31,
   "id": "48ec1bb4-e0e7-4c37-84fb-0a5250e616ed",
   "metadata": {
    "kernel": "R"
   },
   "outputs": [
    {
     "data": {
      "text/plain": [
       "         \n",
       "              1     2     3     4     5\n",
       "  case      323   285   536   653  4582\n",
       "  control   323   570  1608  2612 22910"
      ]
     },
     "metadata": {},
     "output_type": "display_data"
    }
   ],
   "source": [
    "final_data = final_data %>% group_by(cluster_case) %>% mutate(total_control_matched = n()-1)\n",
    "table(final_data$case_control,final_data$total_control_matched)"
   ]
  },
  {
   "cell_type": "code",
   "execution_count": 32,
   "id": "28c194be-1703-4e2b-a0e3-969a1c5d1696",
   "metadata": {
    "kernel": "R"
   },
   "outputs": [
    {
     "data": {
      "text/html": [
       "<table class=\"dataframe\">\n",
       "<caption>A grouped_df: 20 x 11</caption>\n",
       "<thead>\n",
       "\t<tr><th scope=col>cluster_case</th><th scope=col>IID</th><th scope=col>f3393</th><th scope=col>case_ind</th><th scope=col>case_control</th><th scope=col>sex</th><th scope=col>age</th><th scope=col>age_diff</th><th scope=col>total_control_per_case</th><th scope=col>freq_of_controls</th><th scope=col>total_control_matched</th></tr>\n",
       "\t<tr><th scope=col>&lt;chr&gt;</th><th scope=col>&lt;int&gt;</th><th scope=col>&lt;int&gt;</th><th scope=col>&lt;int&gt;</th><th scope=col>&lt;chr&gt;</th><th scope=col>&lt;int&gt;</th><th scope=col>&lt;int&gt;</th><th scope=col>&lt;int&gt;</th><th scope=col>&lt;dbl&gt;</th><th scope=col>&lt;int&gt;</th><th scope=col>&lt;dbl&gt;</th></tr>\n",
       "</thead>\n",
       "<tbody>\n",
       "\t<tr><td>1_1   </td><td>1001384</td><td>1</td><td>1</td><td>case   </td><td>1</td><td>61</td><td>0</td><td>2975</td><td>  1</td><td>5</td></tr>\n",
       "\t<tr><td>1_1   </td><td>1000255</td><td>0</td><td>0</td><td>control</td><td>1</td><td>61</td><td>0</td><td>2975</td><td>163</td><td>5</td></tr>\n",
       "\t<tr><td>1_1   </td><td>1282708</td><td>0</td><td>0</td><td>control</td><td>1</td><td>61</td><td>0</td><td>2812</td><td>163</td><td>5</td></tr>\n",
       "\t<tr><td>1_1   </td><td>1599950</td><td>0</td><td>0</td><td>control</td><td>1</td><td>61</td><td>0</td><td>2649</td><td>163</td><td>5</td></tr>\n",
       "\t<tr><td>1_1   </td><td>1848921</td><td>0</td><td>0</td><td>control</td><td>1</td><td>61</td><td>0</td><td>2486</td><td>163</td><td>5</td></tr>\n",
       "\t<tr><td>1_1   </td><td>2122284</td><td>0</td><td>0</td><td>control</td><td>1</td><td>61</td><td>0</td><td>2323</td><td>163</td><td>5</td></tr>\n",
       "\t<tr><td>1_10  </td><td>1007725</td><td>1</td><td>1</td><td>case   </td><td>1</td><td>69</td><td>0</td><td>1702</td><td>  1</td><td>5</td></tr>\n",
       "\t<tr><td>1_10  </td><td>1000609</td><td>0</td><td>0</td><td>control</td><td>1</td><td>69</td><td>0</td><td>1702</td><td>174</td><td>5</td></tr>\n",
       "\t<tr><td>1_10  </td><td>1512394</td><td>0</td><td>0</td><td>control</td><td>1</td><td>69</td><td>0</td><td>1528</td><td>174</td><td>5</td></tr>\n",
       "\t<tr><td>1_10  </td><td>2051811</td><td>0</td><td>0</td><td>control</td><td>1</td><td>69</td><td>0</td><td>1354</td><td>174</td><td>5</td></tr>\n",
       "\t<tr><td>1_10  </td><td>2540926</td><td>0</td><td>0</td><td>control</td><td>1</td><td>69</td><td>0</td><td>1180</td><td>174</td><td>5</td></tr>\n",
       "\t<tr><td>1_10  </td><td>3037122</td><td>0</td><td>0</td><td>control</td><td>1</td><td>69</td><td>0</td><td>1006</td><td>174</td><td>5</td></tr>\n",
       "\t<tr><td>1_100 </td><td>1071556</td><td>1</td><td>1</td><td>case   </td><td>1</td><td>62</td><td>0</td><td>2965</td><td>  1</td><td>5</td></tr>\n",
       "\t<tr><td>1_100 </td><td>1001669</td><td>0</td><td>0</td><td>control</td><td>1</td><td>62</td><td>0</td><td>2965</td><td>156</td><td>5</td></tr>\n",
       "\t<tr><td>1_100 </td><td>1233236</td><td>0</td><td>0</td><td>control</td><td>1</td><td>62</td><td>0</td><td>2809</td><td>156</td><td>5</td></tr>\n",
       "\t<tr><td>1_100 </td><td>1447585</td><td>0</td><td>0</td><td>control</td><td>1</td><td>62</td><td>0</td><td>2653</td><td>156</td><td>5</td></tr>\n",
       "\t<tr><td>1_100 </td><td>1750887</td><td>0</td><td>0</td><td>control</td><td>1</td><td>62</td><td>0</td><td>2497</td><td>156</td><td>5</td></tr>\n",
       "\t<tr><td>1_100 </td><td>2003151</td><td>0</td><td>0</td><td>control</td><td>1</td><td>62</td><td>0</td><td>2341</td><td>156</td><td>5</td></tr>\n",
       "\t<tr><td>1_1000</td><td>1769626</td><td>1</td><td>1</td><td>case   </td><td>1</td><td>67</td><td>0</td><td>2030</td><td>  1</td><td>5</td></tr>\n",
       "\t<tr><td>1_1000</td><td>1007810</td><td>0</td><td>0</td><td>control</td><td>1</td><td>67</td><td>0</td><td>2030</td><td>203</td><td>5</td></tr>\n",
       "</tbody>\n",
       "</table>\n"
      ],
      "text/latex": [
       "A grouped\\_df: 20 x 11\n",
       "\\begin{tabular}{lllllllllll}\n",
       " cluster\\_case & IID & f3393 & case\\_ind & case\\_control & sex & age & age\\_diff & total\\_control\\_per\\_case & freq\\_of\\_controls & total\\_control\\_matched\\\\\n",
       " <chr> & <int> & <int> & <int> & <chr> & <int> & <int> & <int> & <dbl> & <int> & <dbl>\\\\\n",
       "\\hline\n",
       "\t 1\\_1    & 1001384 & 1 & 1 & case    & 1 & 61 & 0 & 2975 &   1 & 5\\\\\n",
       "\t 1\\_1    & 1000255 & 0 & 0 & control & 1 & 61 & 0 & 2975 & 163 & 5\\\\\n",
       "\t 1\\_1    & 1282708 & 0 & 0 & control & 1 & 61 & 0 & 2812 & 163 & 5\\\\\n",
       "\t 1\\_1    & 1599950 & 0 & 0 & control & 1 & 61 & 0 & 2649 & 163 & 5\\\\\n",
       "\t 1\\_1    & 1848921 & 0 & 0 & control & 1 & 61 & 0 & 2486 & 163 & 5\\\\\n",
       "\t 1\\_1    & 2122284 & 0 & 0 & control & 1 & 61 & 0 & 2323 & 163 & 5\\\\\n",
       "\t 1\\_10   & 1007725 & 1 & 1 & case    & 1 & 69 & 0 & 1702 &   1 & 5\\\\\n",
       "\t 1\\_10   & 1000609 & 0 & 0 & control & 1 & 69 & 0 & 1702 & 174 & 5\\\\\n",
       "\t 1\\_10   & 1512394 & 0 & 0 & control & 1 & 69 & 0 & 1528 & 174 & 5\\\\\n",
       "\t 1\\_10   & 2051811 & 0 & 0 & control & 1 & 69 & 0 & 1354 & 174 & 5\\\\\n",
       "\t 1\\_10   & 2540926 & 0 & 0 & control & 1 & 69 & 0 & 1180 & 174 & 5\\\\\n",
       "\t 1\\_10   & 3037122 & 0 & 0 & control & 1 & 69 & 0 & 1006 & 174 & 5\\\\\n",
       "\t 1\\_100  & 1071556 & 1 & 1 & case    & 1 & 62 & 0 & 2965 &   1 & 5\\\\\n",
       "\t 1\\_100  & 1001669 & 0 & 0 & control & 1 & 62 & 0 & 2965 & 156 & 5\\\\\n",
       "\t 1\\_100  & 1233236 & 0 & 0 & control & 1 & 62 & 0 & 2809 & 156 & 5\\\\\n",
       "\t 1\\_100  & 1447585 & 0 & 0 & control & 1 & 62 & 0 & 2653 & 156 & 5\\\\\n",
       "\t 1\\_100  & 1750887 & 0 & 0 & control & 1 & 62 & 0 & 2497 & 156 & 5\\\\\n",
       "\t 1\\_100  & 2003151 & 0 & 0 & control & 1 & 62 & 0 & 2341 & 156 & 5\\\\\n",
       "\t 1\\_1000 & 1769626 & 1 & 1 & case    & 1 & 67 & 0 & 2030 &   1 & 5\\\\\n",
       "\t 1\\_1000 & 1007810 & 0 & 0 & control & 1 & 67 & 0 & 2030 & 203 & 5\\\\\n",
       "\\end{tabular}\n"
      ],
      "text/markdown": [
       "\n",
       "A grouped_df: 20 x 11\n",
       "\n",
       "| cluster_case &lt;chr&gt; | IID &lt;int&gt; | f3393 &lt;int&gt; | case_ind &lt;int&gt; | case_control &lt;chr&gt; | sex &lt;int&gt; | age &lt;int&gt; | age_diff &lt;int&gt; | total_control_per_case &lt;dbl&gt; | freq_of_controls &lt;int&gt; | total_control_matched &lt;dbl&gt; |\n",
       "|---|---|---|---|---|---|---|---|---|---|---|\n",
       "| 1_1    | 1001384 | 1 | 1 | case    | 1 | 61 | 0 | 2975 |   1 | 5 |\n",
       "| 1_1    | 1000255 | 0 | 0 | control | 1 | 61 | 0 | 2975 | 163 | 5 |\n",
       "| 1_1    | 1282708 | 0 | 0 | control | 1 | 61 | 0 | 2812 | 163 | 5 |\n",
       "| 1_1    | 1599950 | 0 | 0 | control | 1 | 61 | 0 | 2649 | 163 | 5 |\n",
       "| 1_1    | 1848921 | 0 | 0 | control | 1 | 61 | 0 | 2486 | 163 | 5 |\n",
       "| 1_1    | 2122284 | 0 | 0 | control | 1 | 61 | 0 | 2323 | 163 | 5 |\n",
       "| 1_10   | 1007725 | 1 | 1 | case    | 1 | 69 | 0 | 1702 |   1 | 5 |\n",
       "| 1_10   | 1000609 | 0 | 0 | control | 1 | 69 | 0 | 1702 | 174 | 5 |\n",
       "| 1_10   | 1512394 | 0 | 0 | control | 1 | 69 | 0 | 1528 | 174 | 5 |\n",
       "| 1_10   | 2051811 | 0 | 0 | control | 1 | 69 | 0 | 1354 | 174 | 5 |\n",
       "| 1_10   | 2540926 | 0 | 0 | control | 1 | 69 | 0 | 1180 | 174 | 5 |\n",
       "| 1_10   | 3037122 | 0 | 0 | control | 1 | 69 | 0 | 1006 | 174 | 5 |\n",
       "| 1_100  | 1071556 | 1 | 1 | case    | 1 | 62 | 0 | 2965 |   1 | 5 |\n",
       "| 1_100  | 1001669 | 0 | 0 | control | 1 | 62 | 0 | 2965 | 156 | 5 |\n",
       "| 1_100  | 1233236 | 0 | 0 | control | 1 | 62 | 0 | 2809 | 156 | 5 |\n",
       "| 1_100  | 1447585 | 0 | 0 | control | 1 | 62 | 0 | 2653 | 156 | 5 |\n",
       "| 1_100  | 1750887 | 0 | 0 | control | 1 | 62 | 0 | 2497 | 156 | 5 |\n",
       "| 1_100  | 2003151 | 0 | 0 | control | 1 | 62 | 0 | 2341 | 156 | 5 |\n",
       "| 1_1000 | 1769626 | 1 | 1 | case    | 1 | 67 | 0 | 2030 |   1 | 5 |\n",
       "| 1_1000 | 1007810 | 0 | 0 | control | 1 | 67 | 0 | 2030 | 203 | 5 |\n",
       "\n"
      ],
      "text/plain": [
       "   cluster_case IID     f3393 case_ind case_control sex age age_diff\n",
       "1  1_1          1001384 1     1        case         1   61  0       \n",
       "2  1_1          1000255 0     0        control      1   61  0       \n",
       "3  1_1          1282708 0     0        control      1   61  0       \n",
       "4  1_1          1599950 0     0        control      1   61  0       \n",
       "5  1_1          1848921 0     0        control      1   61  0       \n",
       "6  1_1          2122284 0     0        control      1   61  0       \n",
       "7  1_10         1007725 1     1        case         1   69  0       \n",
       "8  1_10         1000609 0     0        control      1   69  0       \n",
       "9  1_10         1512394 0     0        control      1   69  0       \n",
       "10 1_10         2051811 0     0        control      1   69  0       \n",
       "11 1_10         2540926 0     0        control      1   69  0       \n",
       "12 1_10         3037122 0     0        control      1   69  0       \n",
       "13 1_100        1071556 1     1        case         1   62  0       \n",
       "14 1_100        1001669 0     0        control      1   62  0       \n",
       "15 1_100        1233236 0     0        control      1   62  0       \n",
       "16 1_100        1447585 0     0        control      1   62  0       \n",
       "17 1_100        1750887 0     0        control      1   62  0       \n",
       "18 1_100        2003151 0     0        control      1   62  0       \n",
       "19 1_1000       1769626 1     1        case         1   67  0       \n",
       "20 1_1000       1007810 0     0        control      1   67  0       \n",
       "   total_control_per_case freq_of_controls total_control_matched\n",
       "1  2975                     1              5                    \n",
       "2  2975                   163              5                    \n",
       "3  2812                   163              5                    \n",
       "4  2649                   163              5                    \n",
       "5  2486                   163              5                    \n",
       "6  2323                   163              5                    \n",
       "7  1702                     1              5                    \n",
       "8  1702                   174              5                    \n",
       "9  1528                   174              5                    \n",
       "10 1354                   174              5                    \n",
       "11 1180                   174              5                    \n",
       "12 1006                   174              5                    \n",
       "13 2965                     1              5                    \n",
       "14 2965                   156              5                    \n",
       "15 2809                   156              5                    \n",
       "16 2653                   156              5                    \n",
       "17 2497                   156              5                    \n",
       "18 2341                   156              5                    \n",
       "19 2030                     1              5                    \n",
       "20 2030                   203              5                    "
      ]
     },
     "metadata": {},
     "output_type": "display_data"
    }
   ],
   "source": [
    "final_data <- final_data %>% arrange(cluster_case)\n",
    "head(final_data,20)"
   ]
  },
  {
   "cell_type": "code",
   "execution_count": 33,
   "id": "fb6fb5f9-cae6-4a08-93d5-18e21bd16881",
   "metadata": {
    "kernel": "R"
   },
   "outputs": [
    {
     "data": {
      "text/html": [
       "34402"
      ],
      "text/latex": [
       "34402"
      ],
      "text/markdown": [
       "34402"
      ],
      "text/plain": [
       "[1] 34402"
      ]
     },
     "metadata": {},
     "output_type": "display_data"
    }
   ],
   "source": [
    "nrow(final_data)"
   ]
  },
  {
   "cell_type": "markdown",
   "id": "5aa71ab2-9322-46f8-8392-319238a26ff9",
   "metadata": {
    "kernel": "R"
   },
   "source": [
    "## find the cases not present in the matched data to learn more about them "
   ]
  },
  {
   "cell_type": "code",
   "execution_count": 35,
   "id": "b49bb17e-ae23-486a-915b-636b4fd4b0fa",
   "metadata": {
    "kernel": "R"
   },
   "outputs": [
    {
     "data": {
      "text/html": [
       "<table class=\"dataframe\">\n",
       "<caption>A data.frame: 6 x 10</caption>\n",
       "<thead>\n",
       "\t<tr><th></th><th scope=col>FID</th><th scope=col>IID</th><th scope=col>sex</th><th scope=col>f3393</th><th scope=col>age</th><th scope=col>PC1</th><th scope=col>PC2</th><th scope=col>subset</th><th scope=col>cluster_case</th><th scope=col>age_diff</th></tr>\n",
       "\t<tr><th></th><th scope=col>&lt;int&gt;</th><th scope=col>&lt;int&gt;</th><th scope=col>&lt;int&gt;</th><th scope=col>&lt;int&gt;</th><th scope=col>&lt;int&gt;</th><th scope=col>&lt;dbl&gt;</th><th scope=col>&lt;dbl&gt;</th><th scope=col>&lt;int&gt;</th><th scope=col>&lt;chr&gt;</th><th scope=col>&lt;int&gt;</th></tr>\n",
       "</thead>\n",
       "<tbody>\n",
       "\t<tr><th scope=row>1</th><td>1001384</td><td>1001384</td><td>1</td><td>1</td><td>61</td><td> 0.0027161810</td><td> 0.001659800</td><td>65</td><td>1_1</td><td>0</td></tr>\n",
       "\t<tr><th scope=row>2</th><td>1000255</td><td>1000255</td><td>1</td><td>0</td><td>61</td><td> 0.0042133323</td><td> 0.002938649</td><td>65</td><td>1_1</td><td>0</td></tr>\n",
       "\t<tr><th scope=row>3</th><td>1001349</td><td>1001349</td><td>1</td><td>0</td><td>61</td><td> 0.0050870769</td><td>-0.002624446</td><td>65</td><td>1_1</td><td>0</td></tr>\n",
       "\t<tr><th scope=row>4</th><td>1002199</td><td>1002199</td><td>1</td><td>0</td><td>61</td><td> 0.0093873752</td><td>-0.004486079</td><td>65</td><td>1_1</td><td>0</td></tr>\n",
       "\t<tr><th scope=row>5</th><td>1002639</td><td>1002639</td><td>1</td><td>0</td><td>61</td><td>-0.0005047414</td><td> 0.009322109</td><td>65</td><td>1_1</td><td>0</td></tr>\n",
       "\t<tr><th scope=row>6</th><td>1003881</td><td>1003881</td><td>1</td><td>0</td><td>61</td><td> 0.0015532872</td><td> 0.004203057</td><td>65</td><td>1_1</td><td>0</td></tr>\n",
       "</tbody>\n",
       "</table>\n"
      ],
      "text/latex": [
       "A data.frame: 6 x 10\n",
       "\\begin{tabular}{r|llllllllll}\n",
       "  & FID & IID & sex & f3393 & age & PC1 & PC2 & subset & cluster\\_case & age\\_diff\\\\\n",
       "  & <int> & <int> & <int> & <int> & <int> & <dbl> & <dbl> & <int> & <chr> & <int>\\\\\n",
       "\\hline\n",
       "\t1 & 1001384 & 1001384 & 1 & 1 & 61 &  0.0027161810 &  0.001659800 & 65 & 1\\_1 & 0\\\\\n",
       "\t2 & 1000255 & 1000255 & 1 & 0 & 61 &  0.0042133323 &  0.002938649 & 65 & 1\\_1 & 0\\\\\n",
       "\t3 & 1001349 & 1001349 & 1 & 0 & 61 &  0.0050870769 & -0.002624446 & 65 & 1\\_1 & 0\\\\\n",
       "\t4 & 1002199 & 1002199 & 1 & 0 & 61 &  0.0093873752 & -0.004486079 & 65 & 1\\_1 & 0\\\\\n",
       "\t5 & 1002639 & 1002639 & 1 & 0 & 61 & -0.0005047414 &  0.009322109 & 65 & 1\\_1 & 0\\\\\n",
       "\t6 & 1003881 & 1003881 & 1 & 0 & 61 &  0.0015532872 &  0.004203057 & 65 & 1\\_1 & 0\\\\\n",
       "\\end{tabular}\n"
      ],
      "text/markdown": [
       "\n",
       "A data.frame: 6 x 10\n",
       "\n",
       "| <!--/--> | FID &lt;int&gt; | IID &lt;int&gt; | sex &lt;int&gt; | f3393 &lt;int&gt; | age &lt;int&gt; | PC1 &lt;dbl&gt; | PC2 &lt;dbl&gt; | subset &lt;int&gt; | cluster_case &lt;chr&gt; | age_diff &lt;int&gt; |\n",
       "|---|---|---|---|---|---|---|---|---|---|---|\n",
       "| 1 | 1001384 | 1001384 | 1 | 1 | 61 |  0.0027161810 |  0.001659800 | 65 | 1_1 | 0 |\n",
       "| 2 | 1000255 | 1000255 | 1 | 0 | 61 |  0.0042133323 |  0.002938649 | 65 | 1_1 | 0 |\n",
       "| 3 | 1001349 | 1001349 | 1 | 0 | 61 |  0.0050870769 | -0.002624446 | 65 | 1_1 | 0 |\n",
       "| 4 | 1002199 | 1002199 | 1 | 0 | 61 |  0.0093873752 | -0.004486079 | 65 | 1_1 | 0 |\n",
       "| 5 | 1002639 | 1002639 | 1 | 0 | 61 | -0.0005047414 |  0.009322109 | 65 | 1_1 | 0 |\n",
       "| 6 | 1003881 | 1003881 | 1 | 0 | 61 |  0.0015532872 |  0.004203057 | 65 | 1_1 | 0 |\n",
       "\n"
      ],
      "text/plain": [
       "  FID     IID     sex f3393 age PC1           PC2          subset cluster_case\n",
       "1 1001384 1001384 1   1     61   0.0027161810  0.001659800 65     1_1         \n",
       "2 1000255 1000255 1   0     61   0.0042133323  0.002938649 65     1_1         \n",
       "3 1001349 1001349 1   0     61   0.0050870769 -0.002624446 65     1_1         \n",
       "4 1002199 1002199 1   0     61   0.0093873752 -0.004486079 65     1_1         \n",
       "5 1002639 1002639 1   0     61  -0.0005047414  0.009322109 65     1_1         \n",
       "6 1003881 1003881 1   0     61   0.0015532872  0.004203057 65     1_1         \n",
       "  age_diff\n",
       "1 0       \n",
       "2 0       \n",
       "3 0       \n",
       "4 0       \n",
       "5 0       \n",
       "6 0       "
      ]
     },
     "metadata": {},
     "output_type": "display_data"
    }
   ],
   "source": [
    "head(bdd_temp)"
   ]
  },
  {
   "cell_type": "code",
   "execution_count": 36,
   "id": "a4793aef-3691-4a6d-a6cc-26b5638b8b6b",
   "metadata": {
    "kernel": "R"
   },
   "outputs": [],
   "source": [
    "excluded_cases <- bdd_cases %>% \n",
    "  filter(!IID %in% final_data$IID)"
   ]
  },
  {
   "cell_type": "code",
   "execution_count": 85,
   "id": "f64e6245-3f98-4ce0-9b19-a1657520e836",
   "metadata": {
    "kernel": "R"
   },
   "outputs": [
    {
     "data": {
      "text/html": [
       "<table class=\"dataframe\">\n",
       "<caption>A grouped_df: 24 x 10</caption>\n",
       "<thead>\n",
       "\t<tr><th scope=col>cluster_case</th><th scope=col>IID</th><th scope=col>f3393</th><th scope=col>case_ind</th><th scope=col>case_control</th><th scope=col>sex</th><th scope=col>age</th><th scope=col>age_diff</th><th scope=col>total_control_per_case</th><th scope=col>freq_of_controls</th></tr>\n",
       "\t<tr><th scope=col>&lt;chr&gt;</th><th scope=col>&lt;int&gt;</th><th scope=col>&lt;int&gt;</th><th scope=col>&lt;int&gt;</th><th scope=col>&lt;chr&gt;</th><th scope=col>&lt;int&gt;</th><th scope=col>&lt;int&gt;</th><th scope=col>&lt;int&gt;</th><th scope=col>&lt;dbl&gt;</th><th scope=col>&lt;int&gt;</th></tr>\n",
       "</thead>\n",
       "<tbody>\n",
       "\t<tr><td>1_553</td><td>1411201</td><td>1</td><td>1</td><td>case   </td><td>0</td><td>79</td><td>0</td><td>23</td><td> 1</td></tr>\n",
       "\t<tr><td>1_553</td><td>1408572</td><td>0</td><td>0</td><td>control</td><td>0</td><td>79</td><td>0</td><td>23</td><td>32</td></tr>\n",
       "\t<tr><td>1_553</td><td>1492440</td><td>0</td><td>0</td><td>control</td><td>0</td><td>79</td><td>0</td><td>23</td><td>32</td></tr>\n",
       "\t<tr><td>1_553</td><td>1531102</td><td>0</td><td>0</td><td>control</td><td>0</td><td>79</td><td>0</td><td>23</td><td>32</td></tr>\n",
       "\t<tr><td>1_553</td><td>1641498</td><td>0</td><td>0</td><td>control</td><td>0</td><td>79</td><td>0</td><td>23</td><td>32</td></tr>\n",
       "\t<tr><td>1_553</td><td>1672791</td><td>0</td><td>0</td><td>control</td><td>0</td><td>79</td><td>0</td><td>23</td><td>32</td></tr>\n",
       "\t<tr><td>1_553</td><td>1719267</td><td>0</td><td>0</td><td>control</td><td>0</td><td>79</td><td>0</td><td>23</td><td>32</td></tr>\n",
       "\t<tr><td>1_553</td><td>1766501</td><td>0</td><td>0</td><td>control</td><td>0</td><td>79</td><td>0</td><td>23</td><td>32</td></tr>\n",
       "\t<tr><td>1_553</td><td>2216527</td><td>0</td><td>0</td><td>control</td><td>0</td><td>79</td><td>0</td><td>23</td><td>32</td></tr>\n",
       "\t<tr><td>1_553</td><td>2583707</td><td>0</td><td>0</td><td>control</td><td>0</td><td>79</td><td>0</td><td>23</td><td>32</td></tr>\n",
       "\t<tr><td>1_553</td><td>3232230</td><td>0</td><td>0</td><td>control</td><td>0</td><td>79</td><td>0</td><td>23</td><td>32</td></tr>\n",
       "\t<tr><td>1_553</td><td>3486453</td><td>0</td><td>0</td><td>control</td><td>0</td><td>79</td><td>0</td><td>23</td><td>32</td></tr>\n",
       "\t<tr><td>1_553</td><td>3717645</td><td>0</td><td>0</td><td>control</td><td>0</td><td>79</td><td>0</td><td>23</td><td>32</td></tr>\n",
       "\t<tr><td>1_553</td><td>3916285</td><td>0</td><td>0</td><td>control</td><td>0</td><td>79</td><td>0</td><td>23</td><td>32</td></tr>\n",
       "\t<tr><td>1_553</td><td>4131116</td><td>0</td><td>0</td><td>control</td><td>0</td><td>79</td><td>0</td><td>23</td><td>32</td></tr>\n",
       "\t<tr><td>1_553</td><td>4213545</td><td>0</td><td>0</td><td>control</td><td>0</td><td>79</td><td>0</td><td>23</td><td>32</td></tr>\n",
       "\t<tr><td>1_553</td><td>4218867</td><td>0</td><td>0</td><td>control</td><td>0</td><td>79</td><td>0</td><td>23</td><td>32</td></tr>\n",
       "\t<tr><td>1_553</td><td>4328124</td><td>0</td><td>0</td><td>control</td><td>0</td><td>79</td><td>0</td><td>23</td><td>32</td></tr>\n",
       "\t<tr><td>1_553</td><td>4336857</td><td>0</td><td>0</td><td>control</td><td>0</td><td>79</td><td>0</td><td>23</td><td>32</td></tr>\n",
       "\t<tr><td>1_553</td><td>4413080</td><td>0</td><td>0</td><td>control</td><td>0</td><td>79</td><td>0</td><td>23</td><td>32</td></tr>\n",
       "\t<tr><td>1_553</td><td>4594049</td><td>0</td><td>0</td><td>control</td><td>0</td><td>79</td><td>0</td><td>23</td><td>32</td></tr>\n",
       "\t<tr><td>1_553</td><td>4602062</td><td>0</td><td>0</td><td>control</td><td>0</td><td>79</td><td>0</td><td>23</td><td>32</td></tr>\n",
       "\t<tr><td>1_553</td><td>4914322</td><td>0</td><td>0</td><td>control</td><td>0</td><td>79</td><td>0</td><td>23</td><td>32</td></tr>\n",
       "\t<tr><td>1_553</td><td>5401005</td><td>0</td><td>0</td><td>control</td><td>0</td><td>79</td><td>0</td><td>23</td><td>32</td></tr>\n",
       "</tbody>\n",
       "</table>\n"
      ],
      "text/latex": [
       "A grouped\\_df: 24 x 10\n",
       "\\begin{tabular}{llllllllll}\n",
       " cluster\\_case & IID & f3393 & case\\_ind & case\\_control & sex & age & age\\_diff & total\\_control\\_per\\_case & freq\\_of\\_controls\\\\\n",
       " <chr> & <int> & <int> & <int> & <chr> & <int> & <int> & <int> & <dbl> & <int>\\\\\n",
       "\\hline\n",
       "\t 1\\_553 & 1411201 & 1 & 1 & case    & 0 & 79 & 0 & 23 &  1\\\\\n",
       "\t 1\\_553 & 1408572 & 0 & 0 & control & 0 & 79 & 0 & 23 & 32\\\\\n",
       "\t 1\\_553 & 1492440 & 0 & 0 & control & 0 & 79 & 0 & 23 & 32\\\\\n",
       "\t 1\\_553 & 1531102 & 0 & 0 & control & 0 & 79 & 0 & 23 & 32\\\\\n",
       "\t 1\\_553 & 1641498 & 0 & 0 & control & 0 & 79 & 0 & 23 & 32\\\\\n",
       "\t 1\\_553 & 1672791 & 0 & 0 & control & 0 & 79 & 0 & 23 & 32\\\\\n",
       "\t 1\\_553 & 1719267 & 0 & 0 & control & 0 & 79 & 0 & 23 & 32\\\\\n",
       "\t 1\\_553 & 1766501 & 0 & 0 & control & 0 & 79 & 0 & 23 & 32\\\\\n",
       "\t 1\\_553 & 2216527 & 0 & 0 & control & 0 & 79 & 0 & 23 & 32\\\\\n",
       "\t 1\\_553 & 2583707 & 0 & 0 & control & 0 & 79 & 0 & 23 & 32\\\\\n",
       "\t 1\\_553 & 3232230 & 0 & 0 & control & 0 & 79 & 0 & 23 & 32\\\\\n",
       "\t 1\\_553 & 3486453 & 0 & 0 & control & 0 & 79 & 0 & 23 & 32\\\\\n",
       "\t 1\\_553 & 3717645 & 0 & 0 & control & 0 & 79 & 0 & 23 & 32\\\\\n",
       "\t 1\\_553 & 3916285 & 0 & 0 & control & 0 & 79 & 0 & 23 & 32\\\\\n",
       "\t 1\\_553 & 4131116 & 0 & 0 & control & 0 & 79 & 0 & 23 & 32\\\\\n",
       "\t 1\\_553 & 4213545 & 0 & 0 & control & 0 & 79 & 0 & 23 & 32\\\\\n",
       "\t 1\\_553 & 4218867 & 0 & 0 & control & 0 & 79 & 0 & 23 & 32\\\\\n",
       "\t 1\\_553 & 4328124 & 0 & 0 & control & 0 & 79 & 0 & 23 & 32\\\\\n",
       "\t 1\\_553 & 4336857 & 0 & 0 & control & 0 & 79 & 0 & 23 & 32\\\\\n",
       "\t 1\\_553 & 4413080 & 0 & 0 & control & 0 & 79 & 0 & 23 & 32\\\\\n",
       "\t 1\\_553 & 4594049 & 0 & 0 & control & 0 & 79 & 0 & 23 & 32\\\\\n",
       "\t 1\\_553 & 4602062 & 0 & 0 & control & 0 & 79 & 0 & 23 & 32\\\\\n",
       "\t 1\\_553 & 4914322 & 0 & 0 & control & 0 & 79 & 0 & 23 & 32\\\\\n",
       "\t 1\\_553 & 5401005 & 0 & 0 & control & 0 & 79 & 0 & 23 & 32\\\\\n",
       "\\end{tabular}\n"
      ],
      "text/markdown": [
       "\n",
       "A grouped_df: 24 x 10\n",
       "\n",
       "| cluster_case &lt;chr&gt; | IID &lt;int&gt; | f3393 &lt;int&gt; | case_ind &lt;int&gt; | case_control &lt;chr&gt; | sex &lt;int&gt; | age &lt;int&gt; | age_diff &lt;int&gt; | total_control_per_case &lt;dbl&gt; | freq_of_controls &lt;int&gt; |\n",
       "|---|---|---|---|---|---|---|---|---|---|\n",
       "| 1_553 | 1411201 | 1 | 1 | case    | 0 | 79 | 0 | 23 |  1 |\n",
       "| 1_553 | 1408572 | 0 | 0 | control | 0 | 79 | 0 | 23 | 32 |\n",
       "| 1_553 | 1492440 | 0 | 0 | control | 0 | 79 | 0 | 23 | 32 |\n",
       "| 1_553 | 1531102 | 0 | 0 | control | 0 | 79 | 0 | 23 | 32 |\n",
       "| 1_553 | 1641498 | 0 | 0 | control | 0 | 79 | 0 | 23 | 32 |\n",
       "| 1_553 | 1672791 | 0 | 0 | control | 0 | 79 | 0 | 23 | 32 |\n",
       "| 1_553 | 1719267 | 0 | 0 | control | 0 | 79 | 0 | 23 | 32 |\n",
       "| 1_553 | 1766501 | 0 | 0 | control | 0 | 79 | 0 | 23 | 32 |\n",
       "| 1_553 | 2216527 | 0 | 0 | control | 0 | 79 | 0 | 23 | 32 |\n",
       "| 1_553 | 2583707 | 0 | 0 | control | 0 | 79 | 0 | 23 | 32 |\n",
       "| 1_553 | 3232230 | 0 | 0 | control | 0 | 79 | 0 | 23 | 32 |\n",
       "| 1_553 | 3486453 | 0 | 0 | control | 0 | 79 | 0 | 23 | 32 |\n",
       "| 1_553 | 3717645 | 0 | 0 | control | 0 | 79 | 0 | 23 | 32 |\n",
       "| 1_553 | 3916285 | 0 | 0 | control | 0 | 79 | 0 | 23 | 32 |\n",
       "| 1_553 | 4131116 | 0 | 0 | control | 0 | 79 | 0 | 23 | 32 |\n",
       "| 1_553 | 4213545 | 0 | 0 | control | 0 | 79 | 0 | 23 | 32 |\n",
       "| 1_553 | 4218867 | 0 | 0 | control | 0 | 79 | 0 | 23 | 32 |\n",
       "| 1_553 | 4328124 | 0 | 0 | control | 0 | 79 | 0 | 23 | 32 |\n",
       "| 1_553 | 4336857 | 0 | 0 | control | 0 | 79 | 0 | 23 | 32 |\n",
       "| 1_553 | 4413080 | 0 | 0 | control | 0 | 79 | 0 | 23 | 32 |\n",
       "| 1_553 | 4594049 | 0 | 0 | control | 0 | 79 | 0 | 23 | 32 |\n",
       "| 1_553 | 4602062 | 0 | 0 | control | 0 | 79 | 0 | 23 | 32 |\n",
       "| 1_553 | 4914322 | 0 | 0 | control | 0 | 79 | 0 | 23 | 32 |\n",
       "| 1_553 | 5401005 | 0 | 0 | control | 0 | 79 | 0 | 23 | 32 |\n",
       "\n"
      ],
      "text/plain": [
       "   cluster_case IID     f3393 case_ind case_control sex age age_diff\n",
       "1  1_553        1411201 1     1        case         0   79  0       \n",
       "2  1_553        1408572 0     0        control      0   79  0       \n",
       "3  1_553        1492440 0     0        control      0   79  0       \n",
       "4  1_553        1531102 0     0        control      0   79  0       \n",
       "5  1_553        1641498 0     0        control      0   79  0       \n",
       "6  1_553        1672791 0     0        control      0   79  0       \n",
       "7  1_553        1719267 0     0        control      0   79  0       \n",
       "8  1_553        1766501 0     0        control      0   79  0       \n",
       "9  1_553        2216527 0     0        control      0   79  0       \n",
       "10 1_553        2583707 0     0        control      0   79  0       \n",
       "11 1_553        3232230 0     0        control      0   79  0       \n",
       "12 1_553        3486453 0     0        control      0   79  0       \n",
       "13 1_553        3717645 0     0        control      0   79  0       \n",
       "14 1_553        3916285 0     0        control      0   79  0       \n",
       "15 1_553        4131116 0     0        control      0   79  0       \n",
       "16 1_553        4213545 0     0        control      0   79  0       \n",
       "17 1_553        4218867 0     0        control      0   79  0       \n",
       "18 1_553        4328124 0     0        control      0   79  0       \n",
       "19 1_553        4336857 0     0        control      0   79  0       \n",
       "20 1_553        4413080 0     0        control      0   79  0       \n",
       "21 1_553        4594049 0     0        control      0   79  0       \n",
       "22 1_553        4602062 0     0        control      0   79  0       \n",
       "23 1_553        4914322 0     0        control      0   79  0       \n",
       "24 1_553        5401005 0     0        control      0   79  0       \n",
       "   total_control_per_case freq_of_controls\n",
       "1  23                      1              \n",
       "2  23                     32              \n",
       "3  23                     32              \n",
       "4  23                     32              \n",
       "5  23                     32              \n",
       "6  23                     32              \n",
       "7  23                     32              \n",
       "8  23                     32              \n",
       "9  23                     32              \n",
       "10 23                     32              \n",
       "11 23                     32              \n",
       "12 23                     32              \n",
       "13 23                     32              \n",
       "14 23                     32              \n",
       "15 23                     32              \n",
       "16 23                     32              \n",
       "17 23                     32              \n",
       "18 23                     32              \n",
       "19 23                     32              \n",
       "20 23                     32              \n",
       "21 23                     32              \n",
       "22 23                     32              \n",
       "23 23                     32              \n",
       "24 23                     32              "
      ]
     },
     "metadata": {},
     "output_type": "display_data"
    }
   ],
   "source": [
    "bdd_temp1 %>% filter(IID %in% excluded_cases$IID)"
   ]
  },
  {
   "cell_type": "code",
   "execution_count": 197,
   "id": "49fcd0ea-e8ec-488e-8b7f-3f18bdcadccd",
   "metadata": {
    "kernel": "R"
   },
   "outputs": [],
   "source": [
    "write.table(final_data, file='/home/dmc2245/UKBiobank/phenotype_files/hearing_impairment/matched_case_control/090321_UKBB_Hearing_aid_f3393_expandedwhite_34402matched_allvars', quote=F, row.names=F, sep=\" \", col.names=T)"
   ]
  },
  {
   "cell_type": "code",
   "execution_count": 193,
   "id": "69fcda1e-053e-4103-a68b-dd9d41a6c2c7",
   "metadata": {
    "kernel": "R"
   },
   "outputs": [],
   "source": [
    "f3393_match<- final_data %>% mutate (FID = IID) %>% \n",
    "                             select ('FID', 'IID','sex', 'f3393', 'age', 'cluster_case' )"
   ]
  },
  {
   "cell_type": "code",
   "execution_count": 195,
   "id": "8a819a60-555a-4255-b664-73af4e1a26e7",
   "metadata": {
    "kernel": "R"
   },
   "outputs": [
    {
     "data": {
      "text/html": [
       "<table class=\"dataframe\">\n",
       "<caption>A grouped_df: 6 x 6</caption>\n",
       "<thead>\n",
       "\t<tr><th scope=col>FID</th><th scope=col>IID</th><th scope=col>sex</th><th scope=col>f3393</th><th scope=col>age</th><th scope=col>cluster_case</th></tr>\n",
       "\t<tr><th scope=col>&lt;int&gt;</th><th scope=col>&lt;int&gt;</th><th scope=col>&lt;int&gt;</th><th scope=col>&lt;int&gt;</th><th scope=col>&lt;int&gt;</th><th scope=col>&lt;chr&gt;</th></tr>\n",
       "</thead>\n",
       "<tbody>\n",
       "\t<tr><td>1001384</td><td>1001384</td><td>1</td><td>1</td><td>61</td><td>1_1</td></tr>\n",
       "\t<tr><td>1000255</td><td>1000255</td><td>1</td><td>0</td><td>61</td><td>1_1</td></tr>\n",
       "\t<tr><td>1282708</td><td>1282708</td><td>1</td><td>0</td><td>61</td><td>1_1</td></tr>\n",
       "\t<tr><td>1599950</td><td>1599950</td><td>1</td><td>0</td><td>61</td><td>1_1</td></tr>\n",
       "\t<tr><td>1848921</td><td>1848921</td><td>1</td><td>0</td><td>61</td><td>1_1</td></tr>\n",
       "\t<tr><td>2122284</td><td>2122284</td><td>1</td><td>0</td><td>61</td><td>1_1</td></tr>\n",
       "</tbody>\n",
       "</table>\n"
      ],
      "text/latex": [
       "A grouped\\_df: 6 x 6\n",
       "\\begin{tabular}{llllll}\n",
       " FID & IID & sex & f3393 & age & cluster\\_case\\\\\n",
       " <int> & <int> & <int> & <int> & <int> & <chr>\\\\\n",
       "\\hline\n",
       "\t 1001384 & 1001384 & 1 & 1 & 61 & 1\\_1\\\\\n",
       "\t 1000255 & 1000255 & 1 & 0 & 61 & 1\\_1\\\\\n",
       "\t 1282708 & 1282708 & 1 & 0 & 61 & 1\\_1\\\\\n",
       "\t 1599950 & 1599950 & 1 & 0 & 61 & 1\\_1\\\\\n",
       "\t 1848921 & 1848921 & 1 & 0 & 61 & 1\\_1\\\\\n",
       "\t 2122284 & 2122284 & 1 & 0 & 61 & 1\\_1\\\\\n",
       "\\end{tabular}\n"
      ],
      "text/markdown": [
       "\n",
       "A grouped_df: 6 x 6\n",
       "\n",
       "| FID &lt;int&gt; | IID &lt;int&gt; | sex &lt;int&gt; | f3393 &lt;int&gt; | age &lt;int&gt; | cluster_case &lt;chr&gt; |\n",
       "|---|---|---|---|---|---|\n",
       "| 1001384 | 1001384 | 1 | 1 | 61 | 1_1 |\n",
       "| 1000255 | 1000255 | 1 | 0 | 61 | 1_1 |\n",
       "| 1282708 | 1282708 | 1 | 0 | 61 | 1_1 |\n",
       "| 1599950 | 1599950 | 1 | 0 | 61 | 1_1 |\n",
       "| 1848921 | 1848921 | 1 | 0 | 61 | 1_1 |\n",
       "| 2122284 | 2122284 | 1 | 0 | 61 | 1_1 |\n",
       "\n"
      ],
      "text/plain": [
       "  FID     IID     sex f3393 age cluster_case\n",
       "1 1001384 1001384 1   1     61  1_1         \n",
       "2 1000255 1000255 1   0     61  1_1         \n",
       "3 1282708 1282708 1   0     61  1_1         \n",
       "4 1599950 1599950 1   0     61  1_1         \n",
       "5 1848921 1848921 1   0     61  1_1         \n",
       "6 2122284 2122284 1   0     61  1_1         "
      ]
     },
     "metadata": {},
     "output_type": "display_data"
    },
    {
     "data": {
      "text/html": [
       "34402"
      ],
      "text/latex": [
       "34402"
      ],
      "text/markdown": [
       "34402"
      ],
      "text/plain": [
       "[1] 34402"
      ]
     },
     "metadata": {},
     "output_type": "display_data"
    }
   ],
   "source": [
    "head(f3393_match)\n",
    "nrow(f3393_match)"
   ]
  },
  {
   "cell_type": "code",
   "execution_count": 196,
   "id": "f5fa081c-648d-4894-b43e-43b808aba874",
   "metadata": {
    "kernel": "R"
   },
   "outputs": [],
   "source": [
    "write.table(f3393_match, file='/home/dmc2245/UKBiobank/phenotype_files/hearing_impairment/matched_case_control/090321_UKBB_Hearing_aid_f3393_expandedwhite_6436cases_96601ctrl_34402matched', quote=F, row.names=F, sep=\" \", col.names=T)"
   ]
  },
  {
   "cell_type": "code",
   "execution_count": 5,
   "id": "f1c65440-6285-47c6-a8d1-ee7fe66192e8",
   "metadata": {
    "kernel": "R"
   },
   "outputs": [],
   "source": [
    "f3393_match <- read.table('/home/dmc2245/UKBiobank/phenotype_files/hearing_impairment/matched_case_control/090321_UKBB_Hearing_aid_f3393_expandedwhite_6436cases_96601ctrl_34402matched', header=T)"
   ]
  },
  {
   "cell_type": "code",
   "execution_count": 6,
   "id": "6acc924c-3133-422a-b7a3-b1231feb502a",
   "metadata": {
    "kernel": "R"
   },
   "outputs": [
    {
     "data": {
      "text/html": [
       "<table class=\"dataframe\">\n",
       "<caption>A data.frame: 6 x 6</caption>\n",
       "<thead>\n",
       "\t<tr><th></th><th scope=col>FID</th><th scope=col>IID</th><th scope=col>sex</th><th scope=col>f3393</th><th scope=col>age</th><th scope=col>cluster_case</th></tr>\n",
       "\t<tr><th></th><th scope=col>&lt;int&gt;</th><th scope=col>&lt;int&gt;</th><th scope=col>&lt;int&gt;</th><th scope=col>&lt;int&gt;</th><th scope=col>&lt;int&gt;</th><th scope=col>&lt;fct&gt;</th></tr>\n",
       "</thead>\n",
       "<tbody>\n",
       "\t<tr><th scope=row>1</th><td>1001384</td><td>1001384</td><td>1</td><td>1</td><td>61</td><td>1_1</td></tr>\n",
       "\t<tr><th scope=row>2</th><td>1000255</td><td>1000255</td><td>1</td><td>0</td><td>61</td><td>1_1</td></tr>\n",
       "\t<tr><th scope=row>3</th><td>1282708</td><td>1282708</td><td>1</td><td>0</td><td>61</td><td>1_1</td></tr>\n",
       "\t<tr><th scope=row>4</th><td>1599950</td><td>1599950</td><td>1</td><td>0</td><td>61</td><td>1_1</td></tr>\n",
       "\t<tr><th scope=row>5</th><td>1848921</td><td>1848921</td><td>1</td><td>0</td><td>61</td><td>1_1</td></tr>\n",
       "\t<tr><th scope=row>6</th><td>2122284</td><td>2122284</td><td>1</td><td>0</td><td>61</td><td>1_1</td></tr>\n",
       "</tbody>\n",
       "</table>\n"
      ],
      "text/latex": [
       "A data.frame: 6 x 6\n",
       "\\begin{tabular}{r|llllll}\n",
       "  & FID & IID & sex & f3393 & age & cluster\\_case\\\\\n",
       "  & <int> & <int> & <int> & <int> & <int> & <fct>\\\\\n",
       "\\hline\n",
       "\t1 & 1001384 & 1001384 & 1 & 1 & 61 & 1\\_1\\\\\n",
       "\t2 & 1000255 & 1000255 & 1 & 0 & 61 & 1\\_1\\\\\n",
       "\t3 & 1282708 & 1282708 & 1 & 0 & 61 & 1\\_1\\\\\n",
       "\t4 & 1599950 & 1599950 & 1 & 0 & 61 & 1\\_1\\\\\n",
       "\t5 & 1848921 & 1848921 & 1 & 0 & 61 & 1\\_1\\\\\n",
       "\t6 & 2122284 & 2122284 & 1 & 0 & 61 & 1\\_1\\\\\n",
       "\\end{tabular}\n"
      ],
      "text/markdown": [
       "\n",
       "A data.frame: 6 x 6\n",
       "\n",
       "| <!--/--> | FID &lt;int&gt; | IID &lt;int&gt; | sex &lt;int&gt; | f3393 &lt;int&gt; | age &lt;int&gt; | cluster_case &lt;fct&gt; |\n",
       "|---|---|---|---|---|---|---|\n",
       "| 1 | 1001384 | 1001384 | 1 | 1 | 61 | 1_1 |\n",
       "| 2 | 1000255 | 1000255 | 1 | 0 | 61 | 1_1 |\n",
       "| 3 | 1282708 | 1282708 | 1 | 0 | 61 | 1_1 |\n",
       "| 4 | 1599950 | 1599950 | 1 | 0 | 61 | 1_1 |\n",
       "| 5 | 1848921 | 1848921 | 1 | 0 | 61 | 1_1 |\n",
       "| 6 | 2122284 | 2122284 | 1 | 0 | 61 | 1_1 |\n",
       "\n"
      ],
      "text/plain": [
       "  FID     IID     sex f3393 age cluster_case\n",
       "1 1001384 1001384 1   1     61  1_1         \n",
       "2 1000255 1000255 1   0     61  1_1         \n",
       "3 1282708 1282708 1   0     61  1_1         \n",
       "4 1599950 1599950 1   0     61  1_1         \n",
       "5 1848921 1848921 1   0     61  1_1         \n",
       "6 2122284 2122284 1   0     61  1_1         "
      ]
     },
     "metadata": {},
     "output_type": "display_data"
    }
   ],
   "source": [
    "head(f3393_match)"
   ]
  },
  {
   "cell_type": "code",
   "execution_count": 8,
   "id": "749f9e6f-bc49-4798-977d-2c300da43884",
   "metadata": {
    "kernel": "R"
   },
   "outputs": [],
   "source": [
    "library(ggplot2)"
   ]
  },
  {
   "cell_type": "code",
   "execution_count": 37,
   "id": "6a27b629-a760-4991-8719-d75bb7d2c7d3",
   "metadata": {
    "kernel": "R"
   },
   "outputs": [
    {
     "name": "stderr",
     "output_type": "stream",
     "text": [
      "`stat_bin()` using `bins = 30`. Pick better value with `binwidth`.\n",
      "\n",
      "`stat_bin()` using `bins = 30`. Pick better value with `binwidth`.\n",
      "\n"
     ]
    },
    {
     "data": {
      "image/png": "[encoded data removed]",
      "text/plain": [
       "plot without title"
      ]
     },
     "metadata": {
      "image/png": {
       "height": 420,
       "width": 420
      }
     },
     "output_type": "display_data"
    }
   ],
   "source": [
    "ggplot(f3393_match,aes(x=age)) +\n",
    "    geom_histogram(data=subset(f3393_match,f3393 == '1'),fill = \"red\", alpha = 0.2) +\n",
    "    geom_histogram(data=subset(f3393_match,f3393 == '0'),fill = \"blue\", alpha = 0.2) +\n",
    "    theme_classic ()"
   ]
  },
  {
   "cell_type": "code",
   "execution_count": 35,
   "id": "91284019-ea1f-4da9-9623-d96abf12f7de",
   "metadata": {
    "kernel": "R"
   },
   "outputs": [
    {
     "name": "stderr",
     "output_type": "stream",
     "text": [
      "`stat_bin()` using `bins = 30`. Pick better value with `binwidth`.\n",
      "\n",
      "`stat_bin()` using `bins = 30`. Pick better value with `binwidth`.\n",
      "\n"
     ]
    },
    {
     "data": {
      "image/png": "[encoded data removed]",
      "text/plain": [
       "plot without title"
      ]
     },
     "metadata": {
      "image/png": {
       "height": 420,
       "width": 420
      }
     },
     "output_type": "display_data"
    }
   ],
   "source": [
    "ggplot(raw_f3393,aes(x=age)) + \n",
    "    geom_histogram(data=subset(raw_f3393,f3393 == '1'),fill = \"red\", alpha = 0.2) +\n",
    "    geom_histogram(data=subset(raw_f3393,f3393 == '0'),fill = \"blue\", alpha = 0.2) +\n",
    "    theme_classic()"
   ]
  },
  {
   "cell_type": "code",
   "execution_count": 73,
   "id": "1e5632cd-3707-4889-8153-2108ad3a6523",
   "metadata": {
    "kernel": "R"
   },
   "outputs": [
    {
     "data": {
      "text/html": [
       "<table class=\"dataframe\">\n",
       "<caption>A data.frame: 2 x 7</caption>\n",
       "<thead>\n",
       "\t<tr><th scope=col>FID</th><th scope=col>IID</th><th scope=col>sex</th><th scope=col>f3393</th><th scope=col>age</th><th scope=col>PC1</th><th scope=col>PC2</th></tr>\n",
       "\t<tr><th scope=col>&lt;int&gt;</th><th scope=col>&lt;int&gt;</th><th scope=col>&lt;int&gt;</th><th scope=col>&lt;int&gt;</th><th scope=col>&lt;int&gt;</th><th scope=col>&lt;dbl&gt;</th><th scope=col>&lt;dbl&gt;</th></tr>\n",
       "</thead>\n",
       "<tbody>\n",
       "\t<tr><td>1709450</td><td>1709450</td><td>0</td><td>0</td><td>38</td><td>-0.01066263</td><td> 0.003443163</td></tr>\n",
       "\t<tr><td>5016304</td><td>5016304</td><td>0</td><td>0</td><td>39</td><td> 0.01802290</td><td>-0.029011409</td></tr>\n",
       "</tbody>\n",
       "</table>\n"
      ],
      "text/latex": [
       "A data.frame: 2 x 7\n",
       "\\begin{tabular}{lllllll}\n",
       " FID & IID & sex & f3393 & age & PC1 & PC2\\\\\n",
       " <int> & <int> & <int> & <int> & <int> & <dbl> & <dbl>\\\\\n",
       "\\hline\n",
       "\t 1709450 & 1709450 & 0 & 0 & 38 & -0.01066263 &  0.003443163\\\\\n",
       "\t 5016304 & 5016304 & 0 & 0 & 39 &  0.01802290 & -0.029011409\\\\\n",
       "\\end{tabular}\n"
      ],
      "text/markdown": [
       "\n",
       "A data.frame: 2 x 7\n",
       "\n",
       "| FID &lt;int&gt; | IID &lt;int&gt; | sex &lt;int&gt; | f3393 &lt;int&gt; | age &lt;int&gt; | PC1 &lt;dbl&gt; | PC2 &lt;dbl&gt; |\n",
       "|---|---|---|---|---|---|---|\n",
       "| 1709450 | 1709450 | 0 | 0 | 38 | -0.01066263 |  0.003443163 |\n",
       "| 5016304 | 5016304 | 0 | 0 | 39 |  0.01802290 | -0.029011409 |\n",
       "\n"
      ],
      "text/plain": [
       "  FID     IID     sex f3393 age PC1         PC2         \n",
       "1 1709450 1709450 0   0     38  -0.01066263  0.003443163\n",
       "2 5016304 5016304 0   0     39   0.01802290 -0.029011409"
      ]
     },
     "metadata": {},
     "output_type": "display_data"
    }
   ],
   "source": [
    "filter(raw_f3393, age <= 39)"
   ]
  },
  {
   "cell_type": "code",
   "execution_count": null,
   "id": "11ff513a-9dd9-43c4-9821-4ed04271d758",
   "metadata": {
    "kernel": "R"
   },
   "outputs": [],
   "source": []
  }
 ],
 "metadata": {
  "kernelspec": {
   "display_name": "SoS",
   "language": "sos",
   "name": "sos"
  },
  "language_info": {
   "codemirror_mode": "sos",
   "file_extension": ".sos",
   "mimetype": "text/x-sos",
   "name": "sos",
   "nbconvert_exporter": "sos_notebook.converter.SoS_Exporter",
   "pygments_lexer": "sos"
  },
  "sos": {
   "kernels": [
    [
     "Markdown",
     "markdown",
     "markdown",
     "",
     ""
    ],
    [
     "R",
     "ir",
     "R",
     "#DCDCDA",
     ""
    ]
   ],
   "version": "0.22.6"
  }
 },
 "nbformat": 4,
 "nbformat_minor": 5
}
