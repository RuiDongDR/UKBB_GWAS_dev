{
 "cells": [
  {
   "cell_type": "markdown",
   "metadata": {
    "kernel": "SoS"
   },
   "source": [
    "# Scripts for PCA analyses"
   ]
  },
  {
   "cell_type": "markdown",
   "metadata": {
    "kernel": "SoS"
   },
   "source": [
    "This notebook applies the `Get_Job_Script.ipynb` to automatically generate the sbatch scripts to run in Yale's or Columbia's cluster. \n",
    "\n",
    "Here the scripts generated are to run:\n",
    "\n",
    "1. PCA analysis\n",
    "2. Detect missingness in plink files\n",
    "3. Extract SNPs/Individuals using Plink\n",
    "4. Run regenie burden MWE"
   ]
  },
  {
   "cell_type": "markdown",
   "metadata": {
    "kernel": "SoS"
   },
   "source": [
    "## File paths on Yale cluster\n",
    "- Genotype files exome data:\n",
    "`/gpfs/gibbs/pi/dewan/data/UKBiobank/genotype_files/ukb28374_exomedata/exome_data_OCT2020`\n",
    "- Genotype files in PLINK format:\n",
    "`/gpfs/gibbs/pi/dewan/data/UKBiobank/genotype_files/pleiotropy_geneticfiles/UKB_Caucasians_phenotypeindepqc120319_updated020720removedwithdrawnindiv`\n",
    "- Genotype files in bgen format:\n",
    "`SAY/dbgapstg/scratch/UKBiobank/genotype_files/ukb39554_imputeddataset/`\n",
    "- Summary stats for imputed variants BOLT-LMM:\n",
    "`/gpfs/gibbs/pi/dewan/data/UKBiobank/results/BOLTLMM_results/results_imputed_data`\n",
    "- Summary stats for inputed variants FastGWA:\n",
    "`/gpfs/gibbs/pi/dewan/data/UKBiobank/results/FastGWA_results/results_imputed_data`\n",
    "- Phenotype files:\n",
    "`/gpfs/gibbs/pi/dewan/data/UKBiobank/phenotype_files/pleiotropy_R01/phenotypesforanalysis/UKB_Caucasiansubset_cholesterolfields_adjbymedstatus_062420_foranalysis`\n",
    "- Relationship file:\n",
    "`/gpfs/gibbs/pi/dewan/data/UKBiobank/genotype_files/pleiotropy_geneticfiles/unrelated_n307259/UKB_unrelatedcauc_phenotypes_asthmat2dbmiwaisthip_agesex_waisthipratio_040620`\n",
    "- Other traits to be analyzed:\n",
    "`/gpfs/gibbs/pi/dewan/data/UKBiobank/phenotype_files/pleiotropy_R01/phenotypesforanalysis/UKB_CAUC_lipidsforanalysis_apolipoproteinAandB,Hba1c_continuousandcategorical,egfrbyCKDEPI,serumcreatinine,UACR_inverseranknorm_110320`\n",
    "- PCA results for expanded white\n",
    "`/gpfs/gibbs/pi/dewan/data/UKBiobank/results/070921_pca_genotype_array`"
   ]
  },
  {
   "cell_type": "markdown",
   "metadata": {
    "kernel": "SoS"
   },
   "source": [
    "## Create symlinks to necessary folders in your home dir\n",
    "\n",
    "```\n",
    "ln -s /mnt/mfs/statgen/archive/UKBiobank_Yale_transfer ~/\n",
    "ln -s /mnt/mfs/statgen/UKBiobank ~/\n",
    "```"
   ]
  },
  {
   "cell_type": "markdown",
   "metadata": {
    "kernel": "SoS"
   },
   "source": [
    "## Yale's variables"
   ]
  },
  {
   "cell_type": "code",
   "execution_count": null,
   "metadata": {
    "kernel": "SoS"
   },
   "outputs": [],
   "source": [
    "# Common variables Yale's cluster\n",
    "UKBB_PATH=/gpfs/gibbs/pi/dewan/data/UKBiobank\n",
    "USER_PATH=$HOME/project\n",
    "OUT_PATH=$USER_PATH/UKBB_GWAS_dev/output\n",
    "tpl_file=$USER_PATH/bioworkflows/admin/farnam.yml\n",
    "# Working directory for PCA made from exome data\n",
    "pca_dir=$UKBB_PATH/results/pca_exomes\n",
    "#Working directory for PCA made from genotype array data\n",
    "cwd=$UKBB_PATH/results/070921_pca_genotype_array\n",
    "#Use the original bed files for the genotype array for kinship calculation\n",
    "bfile=$UKBB_PATH/genotype_files/pleiotropy_geneticfiles/UKB_originalgenotypefilesdownloaded083019/UKB_genotypedatadownloaded083019.bed\n",
    "# Container lmm \n",
    "container_lmm=$UKBB_PATH/lmm.sif\n",
    "# Use a subset of the exomed markers\n",
    "#genoFile=`echo $UKBB_PATH/genotype_files/ukb28374_exomedata/exome_data_OCT2020/ukb23155_c{1..22}_b0_v1.bed`\n",
    "#phenoFile=~/scratch60/pca/cache/ukb23155_s200631.non_white_white_outliers_11971ind.pheno\n",
    "#database=$UKBB_PATH/phenotype_files/pleiotropy_R01/ukb42495_updatedJune2020/ukb42495.tab\n",
    "#ethnia_prefix='non_white_white_outliers_11971ind'"
   ]
  },
  {
   "cell_type": "markdown",
   "metadata": {
    "kernel": "SoS"
   },
   "source": [
    "## Columbia's variables"
   ]
  },
  {
   "cell_type": "code",
   "execution_count": 3,
   "metadata": {
    "kernel": "Bash",
    "tags": []
   },
   "outputs": [
    {
     "name": "stdout",
     "output_type": "stream",
     "text": [
      "\n"
     ]
    }
   ],
   "source": [
    "# This is the path to the data transferred from Yale\n",
    "UKBB_yale=/mnt/vast/hpc/csg/UKBiobank_Yale_transfer\n",
    "UKBB_PATH=/mnt/vast/hpc/csg/UKBiobank\n",
    "USER_PATH=$HOME/project\n",
    "#OUT_PATH=$HOME/pca_01_18_22\n",
    "tpl_file=$USER_PATH/bioworkflows/admin/csg.yml\n",
    "container=$HOME/containers/lmm.sif"
   ]
  },
  {
   "cell_type": "markdown",
   "metadata": {
    "kernel": "SoS"
   },
   "source": [
    "## General variables"
   ]
  },
  {
   "cell_type": "code",
   "execution_count": 4,
   "metadata": {
    "kernel": "Bash"
   },
   "outputs": [
    {
     "name": "stdout",
     "output_type": "stream",
     "text": [
      "\n"
     ]
    }
   ],
   "source": [
    "# Pipeline\n",
    "pca_sos=$USER_PATH/xqtl-pipeline/code/data_preprocessing/genotype/PCA.ipynb\n",
    "gwasqc_sos=$USER_PATH/xqtl-pipeline/code/data_preprocessing/genotype/GWAS_QC.ipynb\n",
    "numThreads=1\n",
    "job_size=1"
   ]
  },
  {
   "cell_type": "markdown",
   "metadata": {
    "kernel": "Bash"
   },
   "source": [
    "## PCA variables\n",
    "\n",
    "These can change depending on the work you are doing"
   ]
  },
  {
   "cell_type": "code",
   "execution_count": 5,
   "metadata": {
    "kernel": "Bash"
   },
   "outputs": [
    {
     "name": "stdout",
     "output_type": "stream",
     "text": [
      "\n"
     ]
    }
   ],
   "source": [
    "#PCA variables change according to your analyses\n",
    "k=10\n",
    "maxiter=0\n",
    "topk=10\n",
    "sigma=6\n",
    "window=50\n",
    "shift=10\n",
    "r2=0.1"
   ]
  },
  {
   "cell_type": "code",
   "execution_count": null,
   "metadata": {
    "kernel": "Bash"
   },
   "outputs": [],
   "source": [
    "# Name of bash script\n",
    "#pca_sbatch=../output/$(date +\"%Y-%m-%d\")_pca_non_white.sbatch\n",
    "#pca_sbatch=../output/$(date +\"%Y-%m-%d\")_flashpca_non_white_whiteoutliers.sbatch"
   ]
  },
  {
   "cell_type": "markdown",
   "metadata": {
    "kernel": "Bash"
   },
   "source": [
    "## PCA jobs"
   ]
  },
  {
   "cell_type": "markdown",
   "metadata": {
    "kernel": "Bash"
   },
   "source": [
    "### Full sample exome data UKBB"
   ]
  },
  {
   "cell_type": "markdown",
   "metadata": {
    "kernel": "Bash"
   },
   "source": [
    "## 1. Do QC_1 on the genotype file (genotypic array) that includes all samples"
   ]
  },
  {
   "cell_type": "code",
   "execution_count": 4,
   "metadata": {
    "kernel": "Bash"
   },
   "outputs": [
    {
     "name": "stdout",
     "output_type": "stream",
     "text": [
      "INFO: Running \u001b[32mdewan\u001b[0m: Configuration for Yale `pi_dewan` partition cluster\n",
      "INFO: \u001b[32mdewan\u001b[0m is \u001b[32mcompleted\u001b[0m.\n",
      "INFO: \u001b[32mdewan\u001b[0m output:   \u001b[32m/home/dc2325/project/UKBB_GWAS_dev/output/2021-06-14_gwasqc1_originalbed.sbatch\u001b[0m\n",
      "INFO: Workflow dewan (ID=w138e6a004ca3f3fd) is executed successfully with 1 completed step.\n",
      "\n"
     ]
    }
   ],
   "source": [
    "# Yale's cluster vars\n",
    "#cwd=$UKBB_PATH/results/070921_pca_genotype_array/plinkqc_05_28_21\n",
    "# Original bfile containing all of the samples Yale's cluster\n",
    "#genoFile=$UKBB_PATH/genotype_files/pleiotropy_geneticfiles/UKB_originalgenotypefilesdownloaded083019/UKB_genotypedatadownloaded083019.bed\n",
    "#To keep the samples of white individuals only\n",
    "#keep_samples=$UKBB_PATH/phenotype_files/pleiotropy_R01/ukb43978_OCT2020/dc2325_phenotypes/030821_ukb42495_exomed_white_189010ind\n",
    "\n",
    "#Columbia's cluster\n",
    "cwd=$UKBB_PATH/results/070921_pca_genotype_array/plinkqc_05_28_21\n",
    "# Original bfile containing all of the samples Columbias's cluster\n",
    "genoFile=$UKBB_yale/pleiotropy_geneticfiles/UKB_originalgenotypefilesdownloaded083019/UKB_genotypedatadownloaded083019.bed\n",
    "#To keep the samples of white individuals only\n",
    "keep_samples=$UKBB_yale/pleiotropy_R01/ukb43978_OCT2020/dc2325_phenotypes/030821_ukb42495_exomed_white_189010ind\n",
    "\n",
    "maf_filter=0.01\n",
    "geno_filter=0.01\n",
    "hwe_filter=5e-08\n",
    "mind_filter=0.1\n",
    "mem='30G'\n",
    "\n",
    "gwasqc_sos=$USER_PATH/bioworkflows/GWAS/GWAS_QC.ipynb\n",
    "gwasqc_sbatch=$USER_PATH/UKBB_GWAS_dev/output/$(date +\"%Y-%m-%d\")_gwasqc1_originalbed.sbatch\n",
    "\n",
    "gwasqc1_args=\"\"\"qc:1\n",
    "    --cwd $cwd\n",
    "    --genoFile $genoFile\n",
    "    --keep_samples $keep_samples\n",
    "    --maf_filter $maf_filter\n",
    "    --geno_filter $geno_filter\n",
    "    --hwe_filter $hwe_filter\n",
    "    --mind_filter $mind_filter\n",
    "    --numThreads $numThreads \n",
    "    --job_size $job_size\n",
    "    --container_lmm $container_lmm\n",
    "    --mem $mem\n",
    "\"\"\"\n",
    "\n",
    "sos run ~/project/bioworkflows/admin/Get_Job_Script.ipynb dewan \\\n",
    "    --template-file $tpl_file \\\n",
    "    --workflow-file $gwasqc_sos \\\n",
    "    --to-script $gwasqc_sbatch \\\n",
    "    --args \"$gwasqc1_args\""
   ]
  },
  {
   "cell_type": "markdown",
   "metadata": {
    "kernel": "Bash"
   },
   "source": [
    "## 2. Run king:\n",
    "\n",
    "Estimate relationship between the exomed individuals.\n",
    "\n",
    "In this case using the subset of white individuals first file `030821_ukb42495_exomed_white_189010ind`"
   ]
  },
  {
   "cell_type": "code",
   "execution_count": 2,
   "metadata": {
    "kernel": "Bash"
   },
   "outputs": [
    {
     "name": "stdout",
     "output_type": "stream",
     "text": [
      "INFO: Running \u001b[32mfarnam\u001b[0m: Configuration for Yale `farnam` cluster\n",
      "INFO: \u001b[32mfarnam\u001b[0m is \u001b[32mcompleted\u001b[0m.\n",
      "INFO: \u001b[32mfarnam\u001b[0m output:   \u001b[32m/home/dc2325/project/UKBB_GWAS_dev/output/2021-06-21_flashpca_king_extendedwhite.sbatch\u001b[0m\n",
      "INFO: Workflow farnam (ID=wb21b557b74272734) is executed successfully with 1 completed step.\n",
      "\n"
     ]
    }
   ],
   "source": [
    "##Yale's variables\n",
    "#cwd=$UKBB_PATH/results/070921_pca_genotype_array/king_05_28_21\n",
    "#phenoFile=$UKBB_PATH/phenotype_files/pleiotropy_R01/ukb43978_OCT2020/dc2325_phenotypes/030821_ukb42495_exomed_white_189010ind.pheno\n",
    "#keep_samples=$UKBB_PATH/phenotype_files/pleiotropy_R01/ukb43978_OCT2020/dc2325_phenotypes/030821_ukb42495_exomed_white_189010ind\n",
    "##Use the qc'ed version of the genotype data\n",
    "#genoFile=$UKBB_PATH/results/070921_pca_genotype_array/plinkqc_05_28_21/cache/UKB_genotypedatadownloaded083019.plinkqc_05_28_21.filtered.bed\n",
    "\n",
    "##Columbia's variables\n",
    "cwd=$UKBB_PATH/results/070921_pca_genotype_array/king_05_28_21\n",
    "genoFile=$UKBB_yale/results/070921_pca_genotype_array/plinkqc_05_28_21/cache/UKB_genotypedatadownloaded083019.plinkqc_05_28_21.filtered.bed\n",
    "\n",
    "king_sbatch=$OUT_PATH/$(date +\"%Y-%m-%d\")_flashpca_king_extendedwhite.sbatch\n",
    "kinship=0.0625\n",
    "gwasqc_sos=$USER_PATH/bioworkflows/GWAS/GWAS_QC.ipynb\n",
    "numThreads=20\n",
    "mem='30G'\n",
    "walltime='24h'\n",
    "\n",
    "king_args=\"\"\"king\n",
    "    --cwd $cwd\n",
    "    --genoFile $genoFile\n",
    "    --kinship $kinship\n",
    "    --numThreads $numThreads \n",
    "    --job_size $job_size\n",
    "    --container_lmm $container_lmm\n",
    "    --mem $mem\n",
    "    --walltime $walltime\n",
    "    --no-maximize-unrelated\n",
    "\"\"\"\n",
    "\n",
    "sos run ~/project/bioworkflows/admin/Get_Job_Script.ipynb farnam \\\n",
    "    --template-file $tpl_file \\\n",
    "    --workflow-file $gwasqc_sos \\\n",
    "    --to-script $king_sbatch \\\n",
    "    --args \"$king_args\""
   ]
  },
  {
   "cell_type": "markdown",
   "metadata": {
    "kernel": "Bash"
   },
   "source": [
    "## 2.1 Merge all of the exome bed files\n",
    "\n",
    "This step is only necessary if working with the exome data. This is the non-qc'ed UKBB data"
   ]
  },
  {
   "cell_type": "code",
   "execution_count": 4,
   "metadata": {
    "kernel": "Bash"
   },
   "outputs": [
    {
     "name": "stdout",
     "output_type": "stream",
     "text": [
      "INFO: Running \u001b[32mfarnam\u001b[0m: Configuration for Yale `farnam` cluster\n",
      "INFO: \u001b[32mfarnam\u001b[0m is \u001b[32mcompleted\u001b[0m.\n",
      "INFO: \u001b[32mfarnam\u001b[0m output:   \u001b[32m/home/dc2325/project/UKBB_GWAS_dev/output/2021-06-23_merged_exomes.sbatch\u001b[0m\n",
      "INFO: Workflow farnam (ID=w01c904d3a0a199dc) is executed successfully with 1 completed step.\n",
      "\n"
     ]
    }
   ],
   "source": [
    "## Yale's cluster\n",
    "#pca_dir=$UKBB_PATH/results/pca_exomes/merged_exomes\n",
    "#genoFile=`echo $UKBB_PATH/genotype_files/ukb28374_exomedata/exome_data_OCT2020/ukb23155_c{1..22}_b0_v1.bed`\n",
    "\n",
    "## Columbia's cluster\n",
    "pca_dir=$UKBB_yale/results/pca_exomes/merged_exomes\n",
    "genoFile=`echo $UKBB_yale/ukb28374_exomedata/exome_data_OCT2020/ukb23155_c{1..22}_b0_v1.bed`\n",
    "\n",
    "gwas_sbatch=$OUT_PATH/$(date +\"%Y-%m-%d\")_merged_exomes.sbatch\n",
    "numThreads=20\n",
    "mem='60G'\n",
    "merged_prefix='ukb23155_all_merged'\n",
    "\n",
    "gwasqc_args=\"\"\"merge_plink\n",
    "    --cwd $pca_dir\n",
    "    --genoFile $genoFile\n",
    "    --numThreads $numThreads \n",
    "    --job_size $job_size\n",
    "    --container_lmm $container_lmm\n",
    "    --mem $mem\n",
    "    --merged_prefix $merged_prefix\n",
    "\"\"\"\n",
    "\n",
    "sos run ~/project/bioworkflows/admin/Get_Job_Script.ipynb farnam\\\n",
    "    --template-file $tpl_file \\\n",
    "    --workflow-file $gwasqc_sos \\\n",
    "    --to-script $gwas_sbatch \\\n",
    "    --args \"$gwasqc_args\""
   ]
  },
  {
   "cell_type": "markdown",
   "metadata": {
    "kernel": "Bash"
   },
   "source": [
    "## 3. QC the exome data for PCA calculations \n",
    "\n",
    "This time I'll use the merged exomes with no qc (directly downloaded from UKBB) as the mind filter is hard to apply in individual chromosomes)"
   ]
  },
  {
   "cell_type": "code",
   "execution_count": 2,
   "metadata": {
    "kernel": "Bash"
   },
   "outputs": [
    {
     "name": "stdout",
     "output_type": "stream",
     "text": [
      "INFO: Running \u001b[32mfarnam\u001b[0m: Configuration for Yale `farnam` cluster\n",
      "INFO: \u001b[32mfarnam\u001b[0m is \u001b[32mcompleted\u001b[0m.\n",
      "INFO: \u001b[32mfarnam\u001b[0m output:   \u001b[32m/home/dc2325/project/UKBB_GWAS_dev/output/2021-06-29_flashpca_white_unrelated_qc_merged_exomes.sbatch\u001b[0m\n",
      "INFO: Workflow farnam (ID=w3a3fa030c00ef69a) is executed successfully with 1 completed step.\n",
      "\n"
     ]
    }
   ],
   "source": [
    "## Yale's cluster\n",
    "#pca_dir=$UKBB_PATH/results/pca_exomes/white_expanded_06_29_21_merged_exomes\n",
    "## Use non qc'ed exomes files but merged since the begining\n",
    "#genoFile=$UKBB_PATH/results/pca_exomes/merged_exomes/ukb23155_all_merged.bed\n",
    "#To keep the samples of white individuals only\n",
    "keep_samples=$UKBB_PATH/phenotype_files/pleiotropy_R01/ukb43978_OCT2020/dc2325_phenotypes/030821_ukb42495_exomed_white_189010ind\n",
    "remove_samples=$UKBB_PATH/results/070921_pca_genotype_array/king_05_28_21/UKB_genotypedatadownloaded083019.plinkqc_05_28_21.filtered.king_05_28_21.related_id\n",
    "\n",
    "## Columbia's cluster\n",
    "pca_dir=$UKBB_yale/results/pca_exomes/white_expanded_06_29_21_merged_exomes\n",
    "genoFile=$UKBB_yale/results/pca_exomes/merged_exomes/ukb23155_all_merged.bed\n",
    "keep_samples=$UKBB_yale/pleiotropy_R01/ukb43978_OCT2020/dc2325_phenotypes/030821_ukb42495_exomed_white_189010ind\n",
    "remove_samples=$UKBB_yale/results/070921_pca_genotype_array/king_05_28_21/UKB_genotypedatadownloaded083019.plinkqc_05_28_21.filtered.king_05_28_21.related_id\n",
    "\n",
    "#GWAS QC variables\n",
    "maf_filter=0.01\n",
    "geno_filter=0.01\n",
    "hwe_filter=5e-08\n",
    "#In this case I do want to remove individuals with 1% missing data\n",
    "mind_filter=0.1\n",
    "#LD prunning variables\n",
    "window=50\n",
    "shift=10\n",
    "r2=0.1\n",
    "gwas_sbatch=$OUT_PATH/$(date +\"%Y-%m-%d\")_flashpca_white_unrelated_qc_merged_exomes.sbatch\n",
    "numThreads=20\n",
    "mem='30G'\n",
    "merged_prefix='ukb23155_unrelated_noqc_merged_exomes'\n",
    "\n",
    "gwasqc_args=\"\"\"qc\n",
    "    --cwd $pca_dir\n",
    "    --genoFile $genoFile\n",
    "    --keep_samples $keep_samples\n",
    "    --remove_samples $remove_samples\n",
    "    --maf_filter $maf_filter\n",
    "    --geno_filter $geno_filter\n",
    "    --hwe_filter $hwe_filter\n",
    "    --mind_filter $mind_filter\n",
    "    --window $window\n",
    "    --shift $shift\n",
    "    --r2 $r2\n",
    "    --numThreads $numThreads \n",
    "    --job_size $job_size\n",
    "    --container_lmm $container_lmm\n",
    "    --mem $mem\n",
    "    --merged_prefix $merged_prefix\n",
    "\"\"\"\n",
    "\n",
    "sos run ~/project/bioworkflows/admin/Get_Job_Script.ipynb farnam\\\n",
    "    --template-file $tpl_file \\\n",
    "    --workflow-file $gwasqc_sos \\\n",
    "    --to-script $gwas_sbatch \\\n",
    "    --args \"$gwasqc_args\""
   ]
  },
  {
   "cell_type": "markdown",
   "metadata": {
    "kernel": "Bash"
   },
   "source": [
    "## 3.1 QC the genotype data we want to use for the PCA calculation on unrelated individuals\n",
    "\n",
    "Ideal: In the case of the UKBB exome data, we would like to use the genotypes after pVCF-QC for every chromosome.\n",
    "\n",
    "Trial run: Use the exome data without QC filters as was released by the UKBB"
   ]
  },
  {
   "cell_type": "code",
   "execution_count": 2,
   "metadata": {
    "kernel": "Bash"
   },
   "outputs": [
    {
     "name": "stdout",
     "output_type": "stream",
     "text": [
      "INFO: Running \u001b[32mfarnam\u001b[0m: Configuration for Yale `farnam` cluster\n",
      "INFO: \u001b[32mfarnam\u001b[0m is \u001b[32mcompleted\u001b[0m.\n",
      "INFO: \u001b[32mfarnam\u001b[0m output:   \u001b[32m/home/dc2325/project/UKBB_GWAS_dev/output/2021-06-23_flashpca_white_unrelated_qc.sbatch\u001b[0m\n",
      "INFO: Workflow farnam (ID=w23511b402aa82ba0) is executed successfully with 1 completed step.\n",
      "\n"
     ]
    }
   ],
   "source": [
    "pca_dir=$UKBB_PATH/results/pca_exomes/white_expanded_06_14_21\n",
    "#pca_dir=~/scratch60/pca/white_expanded_06_14_21\n",
    "## Use non qc'ed exomes files\n",
    "genoFile=`echo $UKBB_PATH/genotype_files/ukb28374_exomedata/exome_data_OCT2020/ukb23155_c{1..22}_b0_v1.bed`\n",
    "#To keep the samples of white individuals only\n",
    "keep_samples=$UKBB_PATH/phenotype_files/pleiotropy_R01/ukb43978_OCT2020/dc2325_phenotypes/030821_ukb42495_exomed_white_189010ind\n",
    "remove_samples=$UKBB_PATH/results/070921_pca_genotype_array/king_05_28_21/UKB_genotypedatadownloaded083019.plinkqc_05_28_21.filtered.king_05_28_21.related_id\n",
    "#GWAS QC variables\n",
    "maf_filter=0.01\n",
    "geno_filter=0.01\n",
    "hwe_filter=5e-08\n",
    "## Do not use mind filter this time since it will remove samples based on each chromosome\n",
    "mind_filter=0\n",
    "#LD prunning variables\n",
    "window=50\n",
    "shift=10\n",
    "r2=0.1\n",
    "gwas_sbatch=$OUT_PATH/$(date +\"%Y-%m-%d\")_flashpca_white_unrelated_qc.sbatch\n",
    "numThreads=20\n",
    "mem='30G'\n",
    "merged_prefix='ukb23155_unrelated_merged'\n",
    "\n",
    "gwasqc_args=\"\"\"qc\n",
    "    --cwd $pca_dir\n",
    "    --genoFile $genoFile\n",
    "    --keep_samples $keep_samples\n",
    "    --remove_samples $remove_samples\n",
    "    --maf_filter $maf_filter\n",
    "    --geno_filter $geno_filter\n",
    "    --hwe_filter $hwe_filter\n",
    "    --mind_filter $mind_filter\n",
    "    --window $window\n",
    "    --shift $shift\n",
    "    --r2 $r2\n",
    "    --numThreads $numThreads \n",
    "    --job_size $job_size\n",
    "    --container_lmm $container_lmm\n",
    "    --mem $mem\n",
    "    --merged_prefix $merged_prefix\n",
    "\"\"\"\n",
    "\n",
    "sos run ~/project/bioworkflows/admin/Get_Job_Script.ipynb farnam\\\n",
    "    --template-file $tpl_file \\\n",
    "    --workflow-file $gwasqc_sos \\\n",
    "    --to-script $gwas_sbatch \\\n",
    "    --args \"$gwasqc_args\""
   ]
  },
  {
   "cell_type": "markdown",
   "metadata": {
    "kernel": "Bash"
   },
   "source": [
    "## 3.2 Remove related individuals and do LD prunning for genotype array and further PCA calculation\n",
    "\n",
    "After the meeting on 06/30/21 the group decided that we should be using the PC's calculated from the genotype array. So this new analysis reflects that"
   ]
  },
  {
   "cell_type": "code",
   "execution_count": 6,
   "metadata": {
    "kernel": "Bash"
   },
   "outputs": [
    {
     "name": "stdout",
     "output_type": "stream",
     "text": [
      "INFO: Running \u001b[32mfarnam\u001b[0m: Configuration for Yale `farnam` cluster\n",
      "INFO: \u001b[32mfarnam\u001b[0m is \u001b[32mcompleted\u001b[0m.\n",
      "INFO: \u001b[32mfarnam\u001b[0m output:   \u001b[32m/home/dc2325/project/UKBB_GWAS_dev/output/2021-06-30_gwas_qc_white_expanded_unrelated_genoarray.sbatch\u001b[0m\n",
      "INFO: Workflow farnam (ID=wf132c3ecc6bb7885) is executed successfully with 1 completed step.\n",
      "\n"
     ]
    }
   ],
   "source": [
    "## Yale's cluster\n",
    "#cwd=$UKBB_PATH/results/070921_pca_genotype_array/white_expanded_06_30_21_genoarray\n",
    "## Use the qc version of the genotype array with the already filtered 189010 white individuals\n",
    "#genoFile=$UKBB_PATH/results/070921_pca_genotype_array/plinkqc_05_28_21/cache/UKB_genotypedatadownloaded083019.plinkqc_05_28_21.filtered.bed\n",
    "#To keep the samples of white individuals only\n",
    "#remove_samples=$UKBB_PATH/results/070921_pca_genotype_array/king_05_28_21/UKB_genotypedatadownloaded083019.plinkqc_05_28_21.filtered.king_05_28_21.related_id\n",
    "\n",
    "## Columbia's cluster\n",
    "cwd=$UKBB_yale/results/070921_pca_genotype_array/white_expanded_06_30_21_genoarray\n",
    "## Use the qc version of the genotype array with the already filtered 189010 white individuals\n",
    "genoFile=$UKBB_yale/results/070921_pca_genotype_array/plinkqc_05_28_21/cache/UKB_genotypedatadownloaded083019.plinkqc_05_28_21.filtered.bed\n",
    "#To keep the samples of white individuals only\n",
    "remove_samples=$UKBB_yale/results/070921_pca_genotype_array/king_05_28_21/UKB_genotypedatadownloaded083019.plinkqc_05_28_21.filtered.king_05_28_21.related_id\n",
    "\n",
    "#GWAS QC variables: leave all the variables in 0 so there's no more filtering in the already filtered data\n",
    "maf_filter=0\n",
    "geno_filter=0\n",
    "hwe_filter=0\n",
    "mind_filter=0\n",
    "#LD prunning variables\n",
    "window=50\n",
    "shift=10\n",
    "r2=0.1\n",
    "gwas_sbatch=$OUT_PATH/$(date +\"%Y-%m-%d\")_gwas_qc_white_expanded_unrelated_genoarray.sbatch\n",
    "numThreads=20\n",
    "mem='30G'\n",
    "merged_prefix='ukb23155_qc_unrelated_genoarray'\n",
    "\n",
    "gwasqc_args=\"\"\"qc\n",
    "    --cwd $cwd\n",
    "    --genoFile $genoFile\n",
    "    --remove_samples $remove_samples\n",
    "    --maf_filter $maf_filter\n",
    "    --geno_filter $geno_filter\n",
    "    --hwe_filter $hwe_filter\n",
    "    --mind_filter $mind_filter\n",
    "    --window $window\n",
    "    --shift $shift\n",
    "    --r2 $r2\n",
    "    --numThreads $numThreads \n",
    "    --job_size $job_size\n",
    "    --container_lmm $container_lmm\n",
    "    --mem $mem\n",
    "    --merged_prefix $merged_prefix\n",
    "\"\"\"\n",
    "\n",
    "sos run ~/project/bioworkflows/admin/Get_Job_Script.ipynb farnam\\\n",
    "    --template-file $tpl_file \\\n",
    "    --workflow-file $gwasqc_sos \\\n",
    "    --to-script $gwas_sbatch \\\n",
    "    --args \"$gwasqc_args\""
   ]
  },
  {
   "cell_type": "markdown",
   "metadata": {
    "kernel": "Bash"
   },
   "source": [
    "### Do the merge_plink independently since it's not working in the nested workflow"
   ]
  },
  {
   "cell_type": "code",
   "execution_count": 7,
   "metadata": {
    "kernel": "Bash"
   },
   "outputs": [
    {
     "name": "stdout",
     "output_type": "stream",
     "text": [
      "INFO: Running \u001b[32mfarnam\u001b[0m: Configuration for Yale `farnam` cluster\n",
      "INFO: \u001b[32mfarnam\u001b[0m is \u001b[32mcompleted\u001b[0m.\n",
      "INFO: \u001b[32mfarnam\u001b[0m output:   \u001b[32m/home/dc2325/project/UKBB_GWAS_dev/output/2021-06-23merged_unrelated_pruned.sbatch\u001b[0m\n",
      "INFO: Workflow farnam (ID=w008b80bc19edb218) is executed successfully with 1 completed step.\n",
      "\n"
     ]
    }
   ],
   "source": [
    "## Yale's cluster\n",
    "#genoFile=`echo $UKBB_PATH/results/pca_exomes/white_expanded_06_14_21/cache/ukb23155_c{1..22}_b0_v1.white_expanded_06_14_21.filtered.prune.bed`\n",
    "#pca_dir=$UKBB_PATH/results/pca_exomes/white_expanded_06_14_21_merged_exomes\n",
    "\n",
    "## Columbia's cluster\n",
    "genoFile=`echo $UKBB_yale/results/pca_exomes/white_expanded_06_14_21/cache/ukb23155_c{1..22}_b0_v1.white_expanded_06_14_21.filtered.prune.bed`\n",
    "pca_dir=$UKBB_yale/results/pca_exomes/white_expanded_06_14_21_merged_exomes\n",
    "\n",
    "gwas_sbatch=$OUT_PATH/$(date +\"%Y-%m-%d\")_merged_unrelated_pruned.sbatch\n",
    "numThreads=20\n",
    "mem='30G'\n",
    "merged_prefix='ukb23155_unrelated_pruned_merged'\n",
    "\n",
    "gwasqc_args=\"\"\"merge_plink\n",
    "    --cwd $pca_dir\n",
    "    --genoFile $genoFile\n",
    "    --numThreads $numThreads \n",
    "    --job_size $job_size\n",
    "    --container_lmm $container_lmm\n",
    "    --mem $mem\n",
    "    --merged_prefix $merged_prefix\n",
    "\"\"\"\n",
    "\n",
    "sos run ~/project/bioworkflows/admin/Get_Job_Script.ipynb farnam\\\n",
    "    --template-file $tpl_file \\\n",
    "    --workflow-file $gwasqc_sos \\\n",
    "    --to-script $gwas_sbatch \\\n",
    "    --args \"$gwasqc_args\""
   ]
  },
  {
   "cell_type": "markdown",
   "metadata": {
    "kernel": "Bash"
   },
   "source": [
    "## 4. Get bed file for related individuals for exome data"
   ]
  },
  {
   "cell_type": "markdown",
   "metadata": {
    "kernel": "Bash"
   },
   "source": [
    "This implies a problem when getting the related idnividuals from the exome data that is not merged, that's why the data was merged first and then the related individuals can be extracted"
   ]
  },
  {
   "cell_type": "code",
   "execution_count": null,
   "metadata": {
    "kernel": "Bash"
   },
   "outputs": [],
   "source": [
    "##Yale's cluster\n",
    "#pca_dir=$UKBB_PATH/results/pca_exomes/white_expanded_related_06_29_21\n",
    "## Use non qc'ed exomes files\n",
    "#genoFile=$UKBB_PATH/results/pca_exomes/merged_exomes/ukb23155_all_merged.bed\n",
    "## phenoFile=$UKBB_PATH/phenotype_files/pleiotropy_R01/ukb43978_OCT2020/dc2325_phenotypes/030821_ukb42495_exomed_white_189010ind.pheno\n",
    "#keep_samples=$UKBB_PATH/results/070921_pca_genotype_array/king_05_28_21/UKB_genotypedatadownloaded083019.plinkqc_05_28_21.filtered.king_05_28_21.related_id\n",
    "#Keep the same variants as above\n",
    "#keep_variants=~/scratch60/pca/white_expanded_06_29_21_merged_exomes\n",
    "\n",
    "##Columbia's cluster\n",
    "pca_dir=$UKBB_yale/results/pca_exomes/white_expanded_related_06_29_21\n",
    "## Use non qc'ed exomes files\n",
    "genoFile=$UKBB_yale/results/pca_exomes/merged_exomes/ukb23155_all_merged.bed\n",
    "## phenoFile=$UKBB_PATH/phenotype_files/pleiotropy_R01/ukb43978_OCT2020/dc2325_phenotypes/030821_ukb42495_exomed_white_189010ind.pheno\n",
    "keep_samples=$UKBB_yale/results/070921_pca_genotype_array/king_05_28_21/UKB_genotypedatadownloaded083019.plinkqc_05_28_21.filtered.king_05_28_21.related_id\n",
    "#Keep the same variants as above\n",
    "keep_variants=~/scratch60/pca/white_expanded_06_29_21_merged_exomes\n",
    "\n",
    "#GWAS QC variables\n",
    "maf_filter=0.0\n",
    "geno_filter=0.0\n",
    "hwe_filter=0.0\n",
    "mind_filter=0.0\n",
    "gwas_sbatch=$OUT_PATH/$(date +\"%Y-%m-%d\")_flashpca_white_related_qc_merged_exomes.sbatch\n",
    "numThreads=20\n",
    "mem='30G'\n",
    "\n",
    "gwasqc_args=\"\"\"qc:1\n",
    "    --cwd $pca_dir\n",
    "    --genoFile $genoFile\n",
    "    --keep_samples $keep_samples\n",
    "    --keep_variants $keep_variants\n",
    "    --maf_filter $maf_filter\n",
    "    --geno_filter $geno_filter\n",
    "    --hwe_filter $hwe_filter\n",
    "    --mind_filter $mind_filter\n",
    "    --numThreads $numThreads \n",
    "    --job_size $job_size\n",
    "    --container_lmm $container_lmm\n",
    "    --mem $mem\n",
    "\"\"\"\n",
    "\n",
    "sos run ~/project/bioworkflows/admin/Get_Job_Script.ipynb farnam \\\n",
    "    --template-file $tpl_file \\\n",
    "    --workflow-file $gwasqc_sos \\\n",
    "    --to-script $gwas_sbatch \\\n",
    "    --args \"$gwasqc_args\""
   ]
  },
  {
   "cell_type": "markdown",
   "metadata": {
    "kernel": "Bash"
   },
   "source": [
    "## 4.1 Get bed file for related individuals genotype data"
   ]
  },
  {
   "cell_type": "code",
   "execution_count": 12,
   "metadata": {
    "kernel": "Bash"
   },
   "outputs": [
    {
     "name": "stdout",
     "output_type": "stream",
     "text": [
      "INFO: Running \u001b[32mfarnam\u001b[0m: Configuration for Yale `farnam` cluster\n",
      "INFO: \u001b[32mfarnam\u001b[0m is \u001b[32mcompleted\u001b[0m.\n",
      "INFO: \u001b[32mfarnam\u001b[0m output:   \u001b[32m/home/dc2325/project/UKBB_GWAS_dev/output/2021-06-30_flashpca_white_related_qc_genoarray.sbatch\u001b[0m\n",
      "INFO: Workflow farnam (ID=w3038c5cdfd98262a) is executed successfully with 1 completed step.\n",
      "\n"
     ]
    }
   ],
   "source": [
    "##Yale's cluster\n",
    "#cwd=$UKBB_PATH/results/070921_pca_genotype_array/white_expanded_related_06_30_21_genoarray\n",
    "## Use qc'ed genotype array\n",
    "#genoFile=$UKBB_PATH/results/070921_pca_genotype_array/plinkqc_05_28_21/cache/UKB_genotypedatadownloaded083019.plinkqc_05_28_21.filtered.bed\n",
    "## phenoFile=$UKBB_PATH/phenotype_files/pleiotropy_R01/ukb43978_OCT2020/dc2325_phenotypes/030821_ukb42495_exomed_white_189010ind.pheno\n",
    "#keep_samples=$UKBB_PATH/results/070921_pca_genotype_array/king_05_28_21/UKB_genotypedatadownloaded083019.plinkqc_05_28_21.filtered.king_05_28_21.related_id\n",
    "#Keep the same variants as above\n",
    "#keep_variants=$UKBB_PATH/results/070921_pca_genotype_array/white_expanded_06_30_21_genoarray/cache/UKB_genotypedatadownloaded083019.plinkqc_05_28_21.filtered.white_expanded_06_30_21_genoarray.filtered.prune.in\n",
    "\n",
    "## Columbia's cluster\n",
    "cwd=$UKBB_yale/results/070921_pca_genotype_array/white_expanded_related_06_30_21_genoarray\n",
    "## Use qc'ed genotype array\n",
    "genoFile=$UKBB_yale/results/070921_pca_genotype_array/plinkqc_05_28_21/cache/UKB_genotypedatadownloaded083019.plinkqc_05_28_21.filtered.bed\n",
    "## phenoFile=$UKBB_yale/phenotype_files/pleiotropy_R01/ukb43978_OCT2020/dc2325_phenotypes/030821_ukb42495_exomed_white_189010ind.pheno\n",
    "keep_samples=$UKBB_yale/results/070921_pca_genotype_array/king_05_28_21/UKB_genotypedatadownloaded083019.plinkqc_05_28_21.filtered.king_05_28_21.related_id\n",
    "#Keep the same variants as above\n",
    "keep_variants=$UKBB_yale/results/070921_pca_genotype_array/white_expanded_06_30_21_genoarray/cache/UKB_genotypedatadownloaded083019.plinkqc_05_28_21.filtered.white_expanded_06_30_21_genoarray.filtered.prune.in\n",
    "\n",
    "#GWAS QC variables\n",
    "maf_filter=0\n",
    "geno_filter=0\n",
    "hwe_filter=0\n",
    "mind_filter=0\n",
    "gwas_sbatch=$OUT_PATH/$(date +\"%Y-%m-%d\")_flashpca_white_related_qc_genoarray.sbatch\n",
    "numThreads=20\n",
    "mem='30G'\n",
    "merged_prefix='ukb23155_qc_related_genoarray'\n",
    "\n",
    "gwasqc_args=\"\"\"qc:1\n",
    "    --cwd $cwd\n",
    "    --genoFile $genoFile\n",
    "    --keep_samples $keep_samples\n",
    "    --keep_variants $keep_variants\n",
    "    --maf_filter $maf_filter\n",
    "    --geno_filter $geno_filter\n",
    "    --hwe_filter $hwe_filter\n",
    "    --mind_filter $mind_filter\n",
    "    --merged_prefix $merged_prefix\n",
    "    --numThreads $numThreads \n",
    "    --job_size $job_size\n",
    "    --container_lmm $container_lmm\n",
    "    --mem $mem\n",
    "\"\"\"\n",
    "\n",
    "sos run ~/project/bioworkflows/admin/Get_Job_Script.ipynb farnam \\\n",
    "    --template-file $tpl_file \\\n",
    "    --workflow-file $gwasqc_sos \\\n",
    "    --to-script $gwas_sbatch \\\n",
    "    --args \"$gwasqc_args\""
   ]
  },
  {
   "cell_type": "markdown",
   "metadata": {
    "kernel": "Bash"
   },
   "source": [
    "## 5. Run PCA analysis for unrelated expanded white individuals with merged exomed data"
   ]
  },
  {
   "cell_type": "code",
   "execution_count": 2,
   "metadata": {
    "kernel": "Bash"
   },
   "outputs": [
    {
     "name": "stdout",
     "output_type": "stream",
     "text": [
      "INFO: Running \u001b[32mfarnam\u001b[0m: Configuration for Yale `farnam` cluster\n",
      "INFO: \u001b[32mfarnam\u001b[0m is \u001b[32mcompleted\u001b[0m.\n",
      "INFO: \u001b[32mfarnam\u001b[0m output:   \u001b[32m/home/dc2325/project/UKBB_GWAS_dev/output/2021-06-24_flashpca_white_unrelated.sbatch\u001b[0m\n",
      "INFO: Workflow farnam (ID=w3542743200dac65e) is executed successfully with 1 completed step.\n",
      "\n"
     ]
    }
   ],
   "source": [
    "pca_dir=$UKBB_PATH/results/pca_exomes/white_expanded_06_14_21\n",
    "#This is the bfile originated after filtering unrelated individuals\n",
    "genoFile=$UKBB_PATH/results/pca_exomes/white_expanded_06_14_21_merged_exomes/ukb23155_unrelated_pruned_merged.bed\n",
    "## I had to modify the original file to add a super_pop and replace ethnicity for pop\n",
    "phenoFile=$UKBB_PATH/phenotype_files/pleiotropy_R01/ukb43978_OCT2020/dc2325_phenotypes/030821_ukb42495_exomed_white_189010ind.pheno.new\n",
    "label_col=pop\n",
    "pop_col=pop\n",
    "pops=extended_white\n",
    "k=10\n",
    "maha_k=5\n",
    "pca_sbatch=$OUT_PATH/$(date +\"%Y-%m-%d\")_flashpca_white_unrelated.sbatch\n",
    "min_axis=\"\"\n",
    "max_axis=\"\"\n",
    "\n",
    "pca_args=\"\"\"flashpca\n",
    "    --cwd $pca_dir\n",
    "    --genoFile $genoFile\n",
    "    --phenoFile $phenoFile\n",
    "    --k $k\n",
    "    --maha_k $maha_k\n",
    "    --label_col $label_col\n",
    "    --pop_col $pop_col\n",
    "    --pops $pops\n",
    "    --min_axis $min_axis\n",
    "    --max_axis $max_axis\n",
    "    --numThreads $numThreads \n",
    "    --job_size $job_size\n",
    "    --container_lmm $container_lmm\n",
    "\"\"\"\n",
    "\n",
    "sos run ~/project/bioworkflows/admin/Get_Job_Script.ipynb farnam \\\n",
    "    --template-file $tpl_file \\\n",
    "    --workflow-file $pca_sos \\\n",
    "    --to-script $pca_sbatch \\\n",
    "    --args \"$pca_args\""
   ]
  },
  {
   "cell_type": "markdown",
   "metadata": {
    "kernel": "Bash"
   },
   "source": [
    "## 5.1 Run PCA analysis for unrelated expanded white individuals with genotype array"
   ]
  },
  {
   "cell_type": "code",
   "execution_count": 13,
   "metadata": {
    "kernel": "Bash"
   },
   "outputs": [
    {
     "name": "stdout",
     "output_type": "stream",
     "text": [
      "INFO: Running \u001b[32mfarnam\u001b[0m: Configuration for Yale `farnam` cluster\n",
      "INFO: \u001b[32mfarnam\u001b[0m is \u001b[32mcompleted\u001b[0m.\n",
      "INFO: \u001b[32mfarnam\u001b[0m output:   \u001b[32m/home/dc2325/project/UKBB_GWAS_dev/output/2021-06-30_flashpca_white_unrelated_genoarray.sbatch\u001b[0m\n",
      "INFO: Workflow farnam (ID=w68e7dd36254f1a17) is executed successfully with 1 completed step.\n",
      "\n"
     ]
    }
   ],
   "source": [
    "## Yale's cluster\n",
    "#cwd=$UKBB_PATH/results/070921_pca_genotype_array/white_expanded_06_30_21_genoarray\n",
    "#This is the bfile originated after filtering unrelated individuals and pruning\n",
    "#genoFile=$UKBB_PATH/results/070921_pca_genotype_array/white_expanded_06_30_21_genoarray/cache/UKB_genotypedatadownloaded083019.plinkqc_05_28_21.filtered.white_expanded_06_30_21_genoarray.filtered.prune.bed\n",
    "## I had to modify the original file to add a super_pop and replace ethnicity for pop\n",
    "#phenoFile=$UKBB_PATH/phenotype_files/pleiotropy_R01/ukb43978_OCT2020/dc2325_phenotypes/030821_ukb42495_exomed_white_189010ind.pheno.new\n",
    "\n",
    "## Columbia's cluster\n",
    "cwd=$UKBB_yale/results/070921_pca_genotype_array/white_expanded_06_30_21_genoarray\n",
    "#This is the bfile originated after filtering unrelated individuals and pruning\n",
    "genoFile=$UKBB_yale/results/070921_pca_genotype_array/white_expanded_06_30_21_genoarray/cache/UKB_genotypedatadownloaded083019.plinkqc_05_28_21.filtered.white_expanded_06_30_21_genoarray.filtered.prune.bed\n",
    "## I had to modify the original file to add a super_pop and replace ethnicity for pop\n",
    "phenoFile=$UKBB_yale/pleiotropy_R01/ukb43978_OCT2020/dc2325_phenotypes/030821_ukb42495_exomed_white_189010ind.pheno.new\n",
    "\n",
    "label_col=pop\n",
    "pop_col=pop\n",
    "pops=extended_white\n",
    "pca_sbatch=$OUT_PATH/$(date +\"%Y-%m-%d\")_flashpca_white_unrelated_genoarray.sbatch\n",
    "k=10\n",
    "maha_k=5\n",
    "min_axis=\"\"\n",
    "max_axis=\"\"\n",
    "\n",
    "pca_args=\"\"\"flashpca\n",
    "    --cwd $cwd\n",
    "    --genoFile $genoFile\n",
    "    --phenoFile $phenoFile\n",
    "    --k $k\n",
    "    --maha_k $maha_k\n",
    "    --label_col $label_col\n",
    "    --pop_col $pop_col\n",
    "    --pops $pops\n",
    "    --min_axis $min_axis\n",
    "    --max_axis $max_axis\n",
    "    --numThreads $numThreads \n",
    "    --job_size $job_size\n",
    "    --container_lmm $container_lmm\n",
    "\"\"\"\n",
    "\n",
    "sos run ~/project/bioworkflows/admin/Get_Job_Script.ipynb farnam \\\n",
    "    --template-file $tpl_file \\\n",
    "    --workflow-file $pca_sos \\\n",
    "    --to-script $pca_sbatch \\\n",
    "    --args \"$pca_args\""
   ]
  },
  {
   "cell_type": "markdown",
   "metadata": {
    "kernel": "Bash"
   },
   "source": [
    "## 6. Project related invididuals back genotype array"
   ]
  },
  {
   "cell_type": "code",
   "execution_count": 6,
   "metadata": {
    "kernel": "Bash"
   },
   "outputs": [
    {
     "name": "stdout",
     "output_type": "stream",
     "text": [
      "INFO: Running \u001b[32mfarnam\u001b[0m: Configuration for Yale `farnam` cluster\n",
      "INFO: \u001b[32mfarnam\u001b[0m is \u001b[32mcompleted\u001b[0m.\n",
      "INFO: \u001b[32mfarnam\u001b[0m output:   \u001b[32m/home/dc2325/project/UKBB_GWAS_dev/output/2021-07-09_flashpca_white_related_genoarray_projected.sbatch\u001b[0m\n",
      "INFO: Workflow farnam (ID=w7e5b5c1fbf037041) is executed successfully with 1 completed step.\n",
      "\n"
     ]
    }
   ],
   "source": [
    "## Yale's cluster\n",
    "#cwd=$UKBB_PATH/results/070921_pca_genotype_array/white_expanded_07_09_21_genoarray_projected\n",
    "#This is the bfile originated after filtering related individuals\n",
    "#genoFile=$UKBB_PATH/results/070921_pca_genotype_array/white_expanded_related_06_30_21_genoarray/cache/UKB_genotypedatadownloaded083019.plinkqc_05_28_21.filtered.white_expanded_related_06_30_21_genoarray.filtered.extracted.bed\n",
    "## I had to modify the original file to add a super_pop and replace ethnicity for pop\n",
    "#phenoFile=$UKBB_PATH/phenotype_files/pleiotropy_R01/ukb43978_OCT2020/dc2325_phenotypes/030821_ukb42495_exomed_white_189010ind.pheno.new\n",
    "#pca_model=$UKBB_PATH/results/070921_pca_genotype_array/white_expanded_06_30_21_genoarray/030821_ukb42495_exomed_white_189010ind.pheno.white_expanded_06_30_21_genoarray.extended_white.pca.rds\n",
    "\n",
    "## Columbia's cluster\n",
    "cwd=$UKBB_yale/results/070921_pca_genotype_array/white_expanded_07_09_21_genoarray_projected\n",
    "#This is the bfile originated after filtering related individuals\n",
    "genoFile=$UKBB_yale/results/070921_pca_genotype_array/white_expanded_related_06_30_21_genoarray/cache/UKB_genotypedatadownloaded083019.plinkqc_05_28_21.filtered.white_expanded_related_06_30_21_genoarray.filtered.extracted.bed\n",
    "## I had to modify the original file to add a super_pop and replace ethnicity for pop\n",
    "phenoFile=$UKBB_yale/pleiotropy_R01/ukb43978_OCT2020/dc2325_phenotypes/030821_ukb42495_exomed_white_189010ind.pheno.new\n",
    "pca_model=$UKBB_yale/results/070921_pca_genotype_array/white_expanded_06_30_21_genoarray/030821_ukb42495_exomed_white_189010ind.pheno.white_expanded_06_30_21_genoarray.extended_white.pca.rds\n",
    "\n",
    "pca_sbatch=$OUT_PATH/$(date +\"%Y-%m-%d\")_flashpca_white_related_genoarray_projected.sbatch\n",
    "label_col=pop\n",
    "pop_col=pop\n",
    "pops=extended_white\n",
    "k=10\n",
    "maha_k=5\n",
    "prob=0.997\n",
    "pval=0.05\n",
    "min_axis=\"\"\n",
    "max_axis=\"\"\n",
    "label_col=pop\n",
    "pop_col=pop\n",
    "pops=extended_white\n",
    "## set the --homogeneous TRUE options to consider all the pops like one \n",
    "homogeneous=TRUE\n",
    "## For the plot you need to use the *.projected.rds and not the *.projected.mahalanobis.rds\n",
    "#plot_data=$UKBB_PATH/results/070921_pca_genotype_array/white_expanded_06_30_21_genoarray_projected/030821_ukb42495_exomed_white_189010ind.pheno.white_expanded_06_30_21_genoarray_projected.pca.projected.rds\n",
    "#outlier_file=$UKBB_PATH/results/070921_pca_genotype_array/white_expanded_06_30_21_genoarray_projected/030821_ukb42495_exomed_white_189010ind.pheno.white_expanded_06_30_21_genoarray_projected.pca.projected.outliers\n",
    "\n",
    "\n",
    "pca_args=\"\"\"project_samples\n",
    "    --cwd $cwd\n",
    "    --genoFile $genoFile\n",
    "    --phenoFile $phenoFile\n",
    "    --pca_model $pca_model\n",
    "    --k $k\n",
    "    --maha_k $maha_k\n",
    "    --label_col $label_col\n",
    "    --pop_col $pop_col\n",
    "    --pops $pops\n",
    "    --prob $prob\n",
    "    --pval $pval\n",
    "    --homogeneous $homogeneous\n",
    "    --min_axis $min_axis\n",
    "    --max_axis $max_axis\n",
    "    --numThreads $numThreads \n",
    "    --job_size $job_size\n",
    "    --container_lmm $container_lmm\n",
    "\"\"\"\n",
    "\n",
    "sos run ~/project/bioworkflows/admin/Get_Job_Script.ipynb farnam \\\n",
    "    --template-file $tpl_file \\\n",
    "    --workflow-file $pca_sos \\\n",
    "    --to-script $pca_sbatch \\\n",
    "    --args \"$pca_args\""
   ]
  },
  {
   "cell_type": "markdown",
   "metadata": {
    "kernel": "Bash"
   },
   "source": [
    "# Plot the projected individuals highlight outliers"
   ]
  },
  {
   "cell_type": "code",
   "execution_count": 5,
   "metadata": {
    "kernel": "Bash"
   },
   "outputs": [
    {
     "name": "stdout",
     "output_type": "stream",
     "text": [
      "INFO: Running \u001b[32mfarnam\u001b[0m: Configuration for Yale `farnam` cluster\n",
      "INFO: \u001b[32mfarnam\u001b[0m is \u001b[32mcompleted\u001b[0m.\n",
      "INFO: \u001b[32mfarnam\u001b[0m output:   \u001b[32m/home/dc2325/project/UKBB_GWAS_dev/output/2021-07-09_flashpca_white_related_genoarray_plot.sbatch\u001b[0m\n",
      "INFO: Workflow farnam (ID=w77ea737f258b746f) is executed successfully with 1 completed step.\n",
      "\n"
     ]
    }
   ],
   "source": [
    "##Yale's cluster\n",
    "#pca_dir=$UKBB_PATH/results/070921_pca_genotype_array/white_expanded_07_09_21_genoarray_projected\n",
    "#This is the bfile originated after filtering related individuals\n",
    "#genoFile=$UKBB_PATH/results/070921_pca_genotype_array/white_expanded_related_06_30_21_genoarray/cache/UKB_genotypedatadownloaded083019.plinkqc_05_28_21.filtered.white_expanded_related_06_30_21_genoarray.filtered.extracted.bed\n",
    "## I had to modify the original file to add a super_pop and replace ethnicity for pop\n",
    "#phenoFile=$UKBB_PATH/phenotype_files/pleiotropy_R01/ukb43978_OCT2020/dc2325_phenotypes/030821_ukb42495_exomed_white_189010ind.pheno.new\n",
    "#pca_model=$UKBB_PATH/results/070921_pca_genotype_array/white_expanded_06_30_21_genoarray/030821_ukb42495_exomed_white_189010ind.pheno.white_expanded_06_30_21_genoarray.extended_white.pca.rds\n",
    "#plot_data=$UKBB_PATH/results/070921_pca_genotype_array/white_expanded_07_09_21_genoarray_projected/030821_ukb42495_exomed_white_189010ind.pheno.white_expanded_07_09_21_genoarray_projected.pca.projected.rds\n",
    "#outlier_file=$UKBB_PATH/results/070921_pca_genotype_array/white_expanded_07_09_21_genoarray_projected/030821_ukb42495_exomed_white_189010ind.pheno.white_expanded_07_09_21_genoarray_projected.pca.projected.outliers\n",
    "\n",
    "## Columbia's cluster\n",
    "pca_dir=$UKBB_yale/results/070921_pca_genotype_array/white_expanded_07_09_21_genoarray_projected\n",
    "#This is the bfile originated after filtering related individuals\n",
    "genoFile=$UKBB_yale/results/070921_pca_genotype_array/white_expanded_related_06_30_21_genoarray/cache/UKB_genotypedatadownloaded083019.plinkqc_05_28_21.filtered.white_expanded_related_06_30_21_genoarray.filtered.extracted.bed\n",
    "## I had to modify the original file to add a super_pop and replace ethnicity for pop\n",
    "phenoFile=$UKBB_yale/pleiotropy_R01/ukb43978_OCT2020/dc2325_phenotypes/030821_ukb42495_exomed_white_189010ind.pheno.new\n",
    "pca_model=$UKBB_yale/results/070921_pca_genotype_array/white_expanded_06_30_21_genoarray/030821_ukb42495_exomed_white_189010ind.pheno.white_expanded_06_30_21_genoarray.extended_white.pca.rds\n",
    "plot_data=$UKBB_yale/results/070921_pca_genotype_array/white_expanded_07_09_21_genoarray_projected/030821_ukb42495_exomed_white_189010ind.pheno.white_expanded_07_09_21_genoarray_projected.pca.projected.rds\n",
    "outlier_file=$UKBB_yale/results/070921_pca_genotype_array/white_expanded_07_09_21_genoarray_projected/030821_ukb42495_exomed_white_189010ind.pheno.white_expanded_07_09_21_genoarray_projected.pca.projected.outliers\n",
    "\n",
    "label_col=pop\n",
    "pop_col=pop\n",
    "pops=extended_white\n",
    "pca_sbatch=$OUT_PATH/$(date +\"%Y-%m-%d\")_flashpca_white_related_genoarray_plot.sbatch\n",
    "\n",
    "pca_args=\"\"\"plot_pca\n",
    "    --cwd $cwd\n",
    "    --genoFile $genoFile\n",
    "    --phenoFile $phenoFile\n",
    "    --label_col $label_col\n",
    "    --pop_col $pop_col\n",
    "    --pops $pops\n",
    "    --plot_data $plot_data\n",
    "    --outlier_file $outlier_file\n",
    "    --numThreads $numThreads \n",
    "    --job_size $job_size\n",
    "    --container_lmm $container_lmm\n",
    "\"\"\"\n",
    "\n",
    "sos run ~/project/bioworkflows/admin/Get_Job_Script.ipynb farnam \\\n",
    "    --template-file $tpl_file \\\n",
    "    --workflow-file $pca_sos \\\n",
    "    --to-script $pca_sbatch \\\n",
    "    --args \"$pca_args\""
   ]
  },
  {
   "cell_type": "markdown",
   "metadata": {
    "kernel": "Bash"
   },
   "source": [
    "## Old run for white population (using old phenotype file)"
   ]
  },
  {
   "cell_type": "code",
   "execution_count": 19,
   "metadata": {
    "kernel": "Bash"
   },
   "outputs": [
    {
     "name": "stdout",
     "output_type": "stream",
     "text": [
      "INFO: Running \u001b[32mfarnam\u001b[0m: Configuration for Yale `farnam` cluster\n",
      "INFO: \u001b[32mfarnam\u001b[0m is \u001b[32mcompleted\u001b[0m.\n",
      "INFO: \u001b[32mfarnam\u001b[0m output:   \u001b[32m/home/dc2325/project/UKBB_GWAS_dev/output/2021-03-01_flashpca_filter_white.sbatch\u001b[0m\n",
      "INFO: Workflow farnam (ID=wdddf2ddca776f9f1) is executed successfully with 1 completed step.\n",
      "\n"
     ]
    }
   ],
   "source": [
    "pca_dir=~/scratch60/pca/white_030121_repeat\n",
    "phenoFile=$UKBB_PATH/phenotype_files/pleiotropy_R01/ukb43978_OCT2020/dc2325_phenotypes/030121_ukb42495_exomed_white_189228ind.pheno\n",
    "keep_samples=$UKBB_PATH/phenotype_files/pleiotropy_R01/ukb43978_OCT2020/dc2325_phenotypes/030121_ukb42495_exomed_white_189228ind\n",
    "pca_sbatch=$OUT_PATH/$(date +\"%Y-%m-%d\")_flashpca_filter_white.sbatch\n",
    "trait_name=ethnicity\n",
    "numThreads=20\n",
    "\n",
    "pca_args=\"\"\"filter\n",
    "    --cwd $pca_dir\n",
    "    --bfile $bfile\n",
    "    --genoFile $genoFile\n",
    "    --phenoFile $phenoFile\n",
    "    --keep_samples $keep_samples\n",
    "    --k $k\n",
    "    --window $window\n",
    "    --shift $shift\n",
    "    --r2 $r2\n",
    "    --trait_name $trait_name\n",
    "    --numThreads $numThreads \n",
    "    --job_size $job_size\n",
    "    --container_lmm $container_lmm\n",
    "\"\"\"\n",
    "\n",
    "sos run ~/project/bioworkflows/GWAS/Get_Job_Script.ipynb farnam \\\n",
    "    --template-file $tpl_file \\\n",
    "    --workflow-file $pca_sos \\\n",
    "    --to-script $pca_sbatch \\\n",
    "    --args \"$pca_args\""
   ]
  },
  {
   "cell_type": "markdown",
   "metadata": {
    "kernel": "Bash"
   },
   "source": [
    "### 1. African ancestry"
   ]
  },
  {
   "cell_type": "code",
   "execution_count": 5,
   "metadata": {
    "kernel": "Bash"
   },
   "outputs": [
    {
     "name": "stdout",
     "output_type": "stream",
     "text": [
      "INFO: Running \u001b[32mfarnam\u001b[0m: Configuration for Yale `farnam` cluster\n",
      "INFO: \u001b[32mfarnam\u001b[0m is \u001b[32mcompleted\u001b[0m.\n",
      "INFO: \u001b[32mfarnam\u001b[0m output:   \u001b[32m/home/dc2325/project/UKBB_GWAS_dev/output/2021-02-22_flashpca_african.sbatch\u001b[0m\n",
      "INFO: Workflow farnam (ID=wd99c56feacb4bc44) is executed successfully with 1 completed step.\n",
      "\n"
     ]
    }
   ],
   "source": [
    "pca_dir=~/scratch60/pca/african_ancestry\n",
    "ethnia_prefix='african_3690ind'\n",
    "phenoFile=~/scratch60/pca/african_ancestry/cache/ukb23155_s200631.african_3690ind.pheno\n",
    "pca_sbatch=$OUT_PATH/$(date +\"%Y-%m-%d\")_flashpca_african.sbatch\n",
    "trait_name=ethnicity\n",
    "\n",
    "pca_args=\"\"\"flashpca\n",
    "    --cwd $pca_dir\n",
    "    --bfile $bfile\n",
    "    --genoFile $genoFile\n",
    "    --phenoFile $phenoFile\n",
    "    --k $k\n",
    "    --maxiter $maxiter\n",
    "    --topk $topk\n",
    "    --sigma $sigma\n",
    "    --window $window\n",
    "    --shift $shift\n",
    "    --r2 $r2\n",
    "    --trait_name $trait_name\n",
    "    --numThreads $numThreads \n",
    "    --job_size $job_size\n",
    "    --container_lmm $container_lmm\n",
    "\"\"\"\n",
    "\n",
    "sos run ~/project/bioworkflows/GWAS/Get_Job_Script.ipynb farnam \\\n",
    "    --template-file $tpl_file \\\n",
    "    --workflow-file $pca_sos \\\n",
    "    --to-script $pca_sbatch \\\n",
    "    --args \"$pca_args\""
   ]
  },
  {
   "cell_type": "markdown",
   "metadata": {
    "kernel": "Bash"
   },
   "source": [
    "### 2. Asian ancestry"
   ]
  },
  {
   "cell_type": "code",
   "execution_count": 7,
   "metadata": {
    "kernel": "Bash"
   },
   "outputs": [
    {
     "name": "stdout",
     "output_type": "stream",
     "text": [
      "INFO: Running \u001b[32mfarnam\u001b[0m: Configuration for Yale `farnam` cluster\n",
      "INFO: \u001b[32mfarnam\u001b[0m is \u001b[32mcompleted\u001b[0m.\n",
      "INFO: \u001b[32mfarnam\u001b[0m output:   \u001b[32m/home/dc2325/project/UKBB_GWAS_dev/output/2021-02-22_flashpca_asian.sbatch\u001b[0m\n",
      "INFO: Workflow farnam (ID=wd32c86713853144c) is executed successfully with 1 completed step.\n",
      "\n"
     ]
    }
   ],
   "source": [
    "pca_dir=~/scratch60/pca/asian_ancestry\n",
    "ethnia_prefix='asian_4618ind'\n",
    "phenoFile=~/scratch60/pca/asian_ancestry/cache/ukb23155_s200631.asian_4618ind.pheno\n",
    "pca_sbatch=$OUT_PATH/$(date +\"%Y-%m-%d\")_flashpca_asian.sbatch\n",
    "trait_name=ethnicity\n",
    "\n",
    "pca_args=\"\"\"flashpca\n",
    "    --cwd $pca_dir \n",
    "    --genoFile $genoFile\n",
    "    --famFile $famFile\n",
    "    --database $database\n",
    "    --ethnia_prefix $ethnia_prefix\n",
    "    --select_ethnia $select_ethnia\n",
    "    --phenoFile $phenoFile\n",
    "    --k $k\n",
    "    --maxiter $maxiter\n",
    "    --topk $topk\n",
    "    --sigma $sigma\n",
    "    --window $window\n",
    "    --shift $shift\n",
    "    --r2 $r2\n",
    "    --trait_name $trait_name\n",
    "    --numThreads $numThreads \n",
    "    --job_size $job_size\n",
    "    --container_lmm $container_lmm\n",
    "\"\"\"\n",
    "\n",
    "sos run ~/project/bioworkflows/GWAS/Get_Job_Script.ipynb farnam \\\n",
    "    --template-file $tpl_file \\\n",
    "    --workflow-file $pca_sos \\\n",
    "    --to-script $pca_sbatch \\\n",
    "    --args \"$pca_args\""
   ]
  },
  {
   "cell_type": "code",
   "execution_count": 15,
   "metadata": {
    "kernel": "Bash"
   },
   "outputs": [
    {
     "name": "stdout",
     "output_type": "stream",
     "text": [
      "INFO: Running \u001b[32mflashpca_1\u001b[0m: Run PCA analysis using flashpca\n",
      "\u001b[91mERROR\u001b[0m: \u001b[91mflashpca_1 (id=40e0bfbf8b836d3a) returns an error.\u001b[0m\n",
      "\u001b[91mERROR\u001b[0m: \u001b[91m[flashpca_1]: [0]: \n",
      "Failed to execute \u001b[0m\u001b[32mRscript /home/dc2325/.sos/af137bdf2659ed53/flashpca_1_0_fe1199ce.R\u001b[0m\u001b[91m\n",
      "exitcode=1, workdir=\u001b[0m\u001b[32m/gpfs/ysm/project/dewan/dc2325/UKBB_GWAS_dev/analysis/cluster_scripts\u001b[0m\u001b[91m, stdout=/home/dc2325/scratch60/pca/phenotype_burden.filtered.merged.prune.stdout, stderr=/home/dc2325/scratch60/pca/phenotype_burden.filtered.merged.prune.stderr\n",
      "---------------------------------------------------------------------------\u001b[0m\n",
      "\n"
     ]
    }
   ],
   "source": [
    "bfile=$UKBB_PATH/MWE/genotypes21_22.bed\n",
    "genoFile=$UKBB_PATH/MWE/burden/ukb23155_c2*_b0_v1.plink.exome.filtered.bed\n",
    "keep_samples=$UKBB_PATH/MWE/burden/unrelated_ind_burden.txt\n",
    "phenoFile=$UKBB_PATH/MWE/burden/phenotype_burden.txt\n",
    "kinship=0.05\n",
    "maf_filter=0.01\n",
    "geno_filter=0.1\n",
    "mind_filter=0.2 \n",
    "hwe_filter=5e-08 \n",
    "numThreads=2\n",
    "k=10\n",
    "trait_name='ASTHMA'\n",
    "sos run ~/project/bioworkflows/GWAS/PCA.ipynb flashpca:1\\\n",
    "    --cwd $pca_dir \\\n",
    "    --bfile $bfile \\\n",
    "    --genoFile $genoFile \\\n",
    "    --keep_samples $keep_samples \\\n",
    "    --kinship $kinship \\\n",
    "    --phenoFile $phenoFile \\\n",
    "    --window $window \\\n",
    "    --shift $shift \\\n",
    "    --r2 $r2 \\\n",
    "    --maf_filter $maf_filter\\\n",
    "    --geno_filter $geno_filter\\\n",
    "    --mind_filter $mind_filter \\\n",
    "    --hwe_filter $hwe_filter \\\n",
    "    --k $k\\\n",
    "    --trait_name $trait_name \\\n",
    "    --numThreads $numThreads \\\n",
    "    --job_size $job_size \\\n",
    "    --container_lmm $container_lmm"
   ]
  },
  {
   "cell_type": "code",
   "execution_count": null,
   "metadata": {
    "kernel": "Bash"
   },
   "outputs": [],
   "source": [
    "tpl_file=../farnam.yml\n",
    "pca_dir=$UKBB_PATH/results/pca_exomes\n",
    "famFile=$UKBB_PATH/genotype_files/ukb28374_exomedata/exome_data_OCT2020/ukb23155_s200631.fam\n",
    "bedfiles=`echo $UKBB_PATH/genotype_files/ukb28374_exomedata/exome_data_OCT2020/ukb23155_c{1..22}_b0_v1.bed`\n",
    "bimfiles=`echo $UKBB_PATH/genotype_files/ukb28374_exomedata/exome_data_OCT2020/UKBexomeOQFE_chr{1..22}.bim`\n",
    "database=$UKBB_PATH/phenotype_files/pleiotropy_R01/ukb42495_updatedJune2020/ukb42495.tab\n",
    "# Container\n",
    "container_lmm=$UKBB_PATH/lmm.sif\n",
    "# Pipeline\n",
    "pca_sos=~/project/UKBB_GWAS_dev/PCA.ipynb\n",
    "# Name of bash script\n",
    "pca_sbatch=../output/$(date +\"%Y-%m-%d\")_pca_white.sbatch\n",
    "numThreads=1\n",
    "job_size=1\n",
    "#PCA variables\n",
    "k=10\n",
    "maxiter=5\n",
    "topk=10\n",
    "sigma=6\n",
    "window=50\n",
    "shift=5\n",
    "r2=0.5\n",
    "stand=\"binom2\"\n",
    "maf_filter=0.01\n",
    "geno_filter=0.01\n",
    "mind_filter=0.02\n",
    "\n",
    "sos run ~/project/UKBB_GWAS_dev/PCA.ipynb smartpca \\\n",
    "    --cwd $pca_dir \\\n",
    "    --bedfiles $bedfiles \\\n",
    "    --bimfiles $bimfiles \\\n",
    "    --famFile $famFile \\\n",
    "    --database $database \\\n",
    "    --k $k \\\n",
    "    --stand $stand \\\n",
    "    --maxiter $maxiter \\\n",
    "    --topk $topk \\\n",
    "    --sigma $sigma \\\n",
    "    --window $window \\\n",
    "    --shift $shift \\\n",
    "    --r2 $r2 \\\n",
    "    --maf_filter $maf_filter\\\n",
    "    --geno_filter $geno_filter\\\n",
    "    --mind_filter $mind_filter \\\n",
    "    --numThreads $numThreads \\\n",
    "    --job_size $job_size \\\n",
    "    --container_lmm $container_lmm \\\n",
    "    -s build"
   ]
  },
  {
   "cell_type": "code",
   "execution_count": null,
   "metadata": {
    "kernel": "Bash"
   },
   "outputs": [],
   "source": [
    "    smartpca.perl \\\n",
    "    -i example.geno \\\n",
    "    -a example.snp \\\n",
    "    -b example.ind \\\n",
    "    -k 2 \\\n",
    "    -o example.pca \\\n",
    "    -p example.plot \\\n",
    "    -e example.eval \\\n",
    "    -l example.log \\\n",
    "    -m 5 \\\n",
    "    -t 2 \\\n",
    "    -s 6.0"
   ]
  },
  {
   "cell_type": "code",
   "execution_count": null,
   "metadata": {
    "kernel": "Bash"
   },
   "outputs": [],
   "source": [
    "par.PACKEDPED.EIGENSTRAT\n",
    "genotypename:    ukb23155_s200631.filtered.merged.bed\n",
    "snpname:         ukb23155_s200631.filtered.merged.bim\n",
    "indivname:       ukb23155_s200631.filtered.merged.fam\n",
    "outputformat:    EIGENSTRAT\n",
    "genotypeoutname: ukb23155_s200631.filtered.merged.eigenstratgeno\n",
    "snpoutname:      ukb23155_s200631.filtered.merged.snp\n",
    "indivoutname:    ukb23155_s200631.filtered.merged.ind"
   ]
  },
  {
   "cell_type": "code",
   "execution_count": null,
   "metadata": {
    "kernel": "Bash"
   },
   "outputs": [],
   "source": [
    "#!/bin/bash\n",
    "#SBATCH --partition general\n",
    "#SBATCH --nodes 1\n",
    "#SBATCH --ntasks-per-node 1\n",
    "#SBATCH --cpus-per-task 1\n",
    "#SBATCH --mem 60G\n",
    "#SBATCH --time 5-0:00:00\n",
    "#SBATCH --job-name ../output/2020-12-01_pca_white\n",
    "#SBATCH --output ../output/2020-12-01_pca_white-%J.out\n",
    "#SBATCH --error ../output/2020-12-01_pca_white-%J.log\n",
    "module load EIGENSOFT/7.2.1-foss-2018b\n",
    "smartpca.perl -i ukb23155_s200631.filtered.merged.bed -a ukb23155_s200631.filtered.merged.pedsnp -b ukb23155_s200631.filtered.merged.pedind -o ukb23155_s200631.filtered.merged.pca -p ukb23155_s200631.filtered.merged.plot -e ukb23155_s200631.filtered.eval -l ukb23155_s200631.filtered.merged.log"
   ]
  },
  {
   "cell_type": "markdown",
   "metadata": {
    "kernel": "Bash"
   },
   "source": [
    "# Running plink missing pipeline"
   ]
  },
  {
   "cell_type": "code",
   "execution_count": 36,
   "metadata": {
    "kernel": "Bash"
   },
   "outputs": [
    {
     "name": "stdout",
     "output_type": "stream",
     "text": [
      "INFO: Running \u001b[32mmissing_1\u001b[0m: Genotype and sample missingness for exome files\n",
      "INFO: Step \u001b[32mmissing_1\u001b[0m (index=0) is \u001b[32mignored\u001b[0m with signature constructed\n",
      "INFO: Step \u001b[32mmissing_1\u001b[0m (index=1) is \u001b[32mignored\u001b[0m with signature constructed\n",
      "INFO: Step \u001b[32mmissing_1\u001b[0m (index=2) is \u001b[32mignored\u001b[0m with signature constructed\n",
      "INFO: Step \u001b[32mmissing_1\u001b[0m (index=3) is \u001b[32mignored\u001b[0m with signature constructed\n",
      "INFO: Step \u001b[32mmissing_1\u001b[0m (index=4) is \u001b[32mignored\u001b[0m with signature constructed\n",
      "INFO: Step \u001b[32mmissing_1\u001b[0m (index=5) is \u001b[32mignored\u001b[0m with signature constructed\n",
      "INFO: Step \u001b[32mmissing_1\u001b[0m (index=6) is \u001b[32mignored\u001b[0m with signature constructed\n",
      "INFO: Step \u001b[32mmissing_1\u001b[0m (index=7) is \u001b[32mignored\u001b[0m with signature constructed\n",
      "INFO: Step \u001b[32mmissing_1\u001b[0m (index=8) is \u001b[32mignored\u001b[0m with signature constructed\n",
      "INFO: Step \u001b[32mmissing_1\u001b[0m (index=9) is \u001b[32mignored\u001b[0m with signature constructed\n",
      "INFO: Step \u001b[32mmissing_1\u001b[0m (index=10) is \u001b[32mignored\u001b[0m with signature constructed\n",
      "INFO: Step \u001b[32mmissing_1\u001b[0m (index=11) is \u001b[32mignored\u001b[0m with signature constructed\n",
      "INFO: Step \u001b[32mmissing_1\u001b[0m (index=12) is \u001b[32mignored\u001b[0m with signature constructed\n",
      "INFO: Step \u001b[32mmissing_1\u001b[0m (index=13) is \u001b[32mignored\u001b[0m with signature constructed\n",
      "INFO: Step \u001b[32mmissing_1\u001b[0m (index=14) is \u001b[32mignored\u001b[0m with signature constructed\n",
      "INFO: Step \u001b[32mmissing_1\u001b[0m (index=15) is \u001b[32mignored\u001b[0m with signature constructed\n",
      "INFO: Step \u001b[32mmissing_1\u001b[0m (index=16) is \u001b[32mignored\u001b[0m with signature constructed\n",
      "INFO: Step \u001b[32mmissing_1\u001b[0m (index=17) is \u001b[32mignored\u001b[0m with signature constructed\n",
      "INFO: Step \u001b[32mmissing_1\u001b[0m (index=18) is \u001b[32mignored\u001b[0m with signature constructed\n",
      "INFO: Step \u001b[32mmissing_1\u001b[0m (index=19) is \u001b[32mignored\u001b[0m with signature constructed\n",
      "INFO: Step \u001b[32mmissing_1\u001b[0m (index=20) is \u001b[32mignored\u001b[0m with signature constructed\n",
      "INFO: Step \u001b[32mmissing_1\u001b[0m (index=21) is \u001b[32mignored\u001b[0m with signature constructed\n",
      "INFO: \u001b[32mmissing_1\u001b[0m output:   \u001b[32m/gpfs/gibbs/pi/dewan/data/UKBiobank/results/pca_exomes/ukb23155_c1_b0_v1.imiss /gpfs/gibbs/pi/dewan/data/UKBiobank/results/pca_exomes/ukb23155_c1_b0_v1.lmiss... (88 items in 22 groups)\u001b[0m\n",
      "INFO: Running \u001b[32mmissing_2\u001b[0m: Generate plots to understand patterns of missing data\n",
      "1783906 variants loaded from .bim file.\n",
      "INFO: \u001b[32mmissing_2\u001b[0m (index=0) is \u001b[32mcompleted\u001b[0m.\n",
      "1310712 variants loaded from .bim file.\n",
      "INFO: \u001b[32mmissing_2\u001b[0m (index=1) is \u001b[32mcompleted\u001b[0m.\n",
      "1039941 variants loaded from .bim file.\n",
      "INFO: \u001b[32mmissing_2\u001b[0m (index=2) is \u001b[32mcompleted\u001b[0m.\n",
      "717783 variants loaded from .bim file.\n",
      "INFO: \u001b[32mmissing_2\u001b[0m (index=3) is \u001b[32mcompleted\u001b[0m.\n",
      "790760 variants loaded from .bim file.\n",
      "INFO: \u001b[32mmissing_2\u001b[0m (index=4) is \u001b[32mcompleted\u001b[0m.\n",
      "887003 variants loaded from .bim file.\n",
      "INFO: \u001b[32mmissing_2\u001b[0m (index=5) is \u001b[32mcompleted\u001b[0m.\n",
      "858981 variants loaded from .bim file.\n",
      "INFO: \u001b[32mmissing_2\u001b[0m (index=6) is \u001b[32mcompleted\u001b[0m.\n",
      "654090 variants loaded from .bim file.\n",
      "INFO: \u001b[32mmissing_2\u001b[0m (index=7) is \u001b[32mcompleted\u001b[0m.\n",
      "774556 variants loaded from .bim file.\n",
      "INFO: \u001b[32mmissing_2\u001b[0m (index=8) is \u001b[32mcompleted\u001b[0m.\n",
      "733427 variants loaded from .bim file.\n",
      "INFO: \u001b[32mmissing_2\u001b[0m (index=9) is \u001b[32mcompleted\u001b[0m.\n",
      "1059628 variants loaded from .bim file.\n",
      "INFO: \u001b[32mmissing_2\u001b[0m (index=10) is \u001b[32mcompleted\u001b[0m.\n",
      "950532 variants loaded from .bim file.\n",
      "INFO: \u001b[32mmissing_2\u001b[0m (index=11) is \u001b[32mcompleted\u001b[0m.\n",
      "320631 variants loaded from .bim file.\n",
      "INFO: \u001b[32mmissing_2\u001b[0m (index=12) is \u001b[32mcompleted\u001b[0m.\n",
      "557237 variants loaded from .bim file.\n",
      "INFO: \u001b[32mmissing_2\u001b[0m (index=13) is \u001b[32mcompleted\u001b[0m.\n",
      "620095 variants loaded from .bim file.\n",
      "INFO: \u001b[32mmissing_2\u001b[0m (index=14) is \u001b[32mcompleted\u001b[0m.\n",
      "875192 variants loaded from .bim file.\n",
      "INFO: \u001b[32mmissing_2\u001b[0m (index=15) is \u001b[32mcompleted\u001b[0m.\n",
      "1047224 variants loaded from .bim file.\n",
      "INFO: \u001b[32mmissing_2\u001b[0m (index=16) is \u001b[32mcompleted\u001b[0m.\n",
      "286694 variants loaded from .bim file.\n",
      "INFO: \u001b[32mmissing_2\u001b[0m (index=17) is \u001b[32mcompleted\u001b[0m.\n",
      "1210652 variants loaded from .bim file.\n",
      "INFO: \u001b[32mmissing_2\u001b[0m (index=18) is \u001b[32mcompleted\u001b[0m.\n",
      "459900 variants loaded from .bim file.\n",
      "INFO: \u001b[32mmissing_2\u001b[0m (index=19) is \u001b[32mcompleted\u001b[0m.\n",
      "195726 variants loaded from .bim file.\n",
      "INFO: \u001b[32mmissing_2\u001b[0m (index=20) is \u001b[32mcompleted\u001b[0m.\n",
      "414980 variants loaded from .bim file.\n",
      "INFO: \u001b[32mmissing_2\u001b[0m (index=21) is \u001b[32mcompleted\u001b[0m.\n",
      "INFO: \u001b[32mmissing_2\u001b[0m output:   \u001b[32m/gpfs/gibbs/pi/dewan/data/UKBiobank/results/pca_exomes/ukb23155_c1_b0_v1.missing.md /gpfs/gibbs/pi/dewan/data/UKBiobank/results/pca_exomes/ukb23155_c1_b0_v1.imiss.png... (88 items in 22 groups)\u001b[0m\n",
      "INFO: Running \u001b[32mmissing_3\u001b[0m: Generate markdown file\n",
      "INFO: \u001b[32mmissing_3\u001b[0m (index=0) is \u001b[32mcompleted\u001b[0m.\n",
      "INFO: \u001b[32mmissing_3\u001b[0m (index=1) is \u001b[32mcompleted\u001b[0m.\n",
      "INFO: \u001b[32mmissing_3\u001b[0m (index=2) is \u001b[32mcompleted\u001b[0m.\n",
      "INFO: \u001b[32mmissing_3\u001b[0m (index=3) is \u001b[32mcompleted\u001b[0m.\n",
      "INFO: \u001b[32mmissing_3\u001b[0m (index=4) is \u001b[32mcompleted\u001b[0m.\n",
      "INFO: \u001b[32mmissing_3\u001b[0m (index=5) is \u001b[32mcompleted\u001b[0m.\n",
      "INFO: \u001b[32mmissing_3\u001b[0m (index=6) is \u001b[32mcompleted\u001b[0m.\n",
      "INFO: \u001b[32mmissing_3\u001b[0m (index=7) is \u001b[32mcompleted\u001b[0m.\n",
      "INFO: \u001b[32mmissing_3\u001b[0m (index=8) is \u001b[32mcompleted\u001b[0m.\n",
      "INFO: \u001b[32mmissing_3\u001b[0m (index=9) is \u001b[32mcompleted\u001b[0m.\n",
      "INFO: \u001b[32mmissing_3\u001b[0m (index=10) is \u001b[32mcompleted\u001b[0m.\n",
      "INFO: \u001b[32mmissing_3\u001b[0m (index=11) is \u001b[32mcompleted\u001b[0m.\n",
      "INFO: \u001b[32mmissing_3\u001b[0m (index=12) is \u001b[32mcompleted\u001b[0m.\n",
      "INFO: \u001b[32mmissing_3\u001b[0m (index=13) is \u001b[32mcompleted\u001b[0m.\n",
      "INFO: \u001b[32mmissing_3\u001b[0m (index=14) is \u001b[32mcompleted\u001b[0m.\n",
      "INFO: \u001b[32mmissing_3\u001b[0m (index=15) is \u001b[32mcompleted\u001b[0m.\n",
      "INFO: \u001b[32mmissing_3\u001b[0m (index=16) is \u001b[32mcompleted\u001b[0m.\n",
      "INFO: \u001b[32mmissing_3\u001b[0m (index=17) is \u001b[32mcompleted\u001b[0m.\n",
      "INFO: \u001b[32mmissing_3\u001b[0m (index=18) is \u001b[32mcompleted\u001b[0m.\n",
      "INFO: \u001b[32mmissing_3\u001b[0m (index=19) is \u001b[32mcompleted\u001b[0m.\n",
      "INFO: \u001b[32mmissing_3\u001b[0m (index=20) is \u001b[32mcompleted\u001b[0m.\n",
      "INFO: \u001b[32mmissing_3\u001b[0m (index=21) is \u001b[32mcompleted\u001b[0m.\n",
      "INFO: Running \u001b[32mmissing_4\u001b[0m: Generate analysis report: HTML file, and optionally PPTX file\n",
      "INFO: \u001b[32mmissing_4\u001b[0m is \u001b[32mcompleted\u001b[0m.\n",
      "INFO: \u001b[32mmissing_4\u001b[0m output:   \u001b[32m/gpfs/gibbs/pi/dewan/data/UKBiobank/results/pca_exomes/ukb23155.merged.html\u001b[0m\n",
      "INFO: Workflow missing (ID=w0e3348cee7472d97) is executed successfully with 3 completed steps, 45 completed substeps, 1 ignored step and 22 ignored substeps.\n",
      "\n"
     ]
    }
   ],
   "source": [
    "tpl_file=../farnam.yml\n",
    "pca_dir=$UKBB_PATH/results/pca_exomes\n",
    "famFile=$UKBB_PATH/genotype_files/ukb28374_exomedata/exome_data_OCT2020/ukb23155_s200631.fam\n",
    "bedfiles=`echo $UKBB_PATH/genotype_files/ukb28374_exomedata/exome_data_OCT2020/ukb23155_c{1..22}_b0_v1.bed`\n",
    "bimfiles=`echo $UKBB_PATH/genotype_files/ukb28374_exomedata/exome_data_OCT2020/UKBexomeOQFE_chr{1..22}.bim`\n",
    "# Container\n",
    "container_lmm=$UKBB_PATH/lmm.sif\n",
    "container_marp=$UKBB_PATH/marp.sif\n",
    "# Pipeline\n",
    "plink_sos=~/project/UKBB_GWAS_dev/workflow/plink_missing.ipynb\n",
    "# Name of bash script\n",
    "pca_sbatch=../output/$(date +\"%Y-%m-%d\")_plink_miss.sbatch\n",
    "numThreads=1\n",
    "job_size=1\n",
    "\n",
    "\n",
    "sos run ~/project/UKBB_GWAS_dev/workflow/plink_missing.ipynb missing\\\n",
    "    --cwd $pca_dir \\\n",
    "    --bedfiles $bedfiles \\\n",
    "    --bimfiles $bimfiles \\\n",
    "    --famFile $famFile \\\n",
    "    --numThreads $numThreads \\\n",
    "    --job_size $job_size \\\n",
    "    --container_lmm $container_lmm \\\n",
    "    --container_marp $container_marp \\\n",
    "    -s build"
   ]
  },
  {
   "cell_type": "markdown",
   "metadata": {
    "kernel": "Bash"
   },
   "source": [
    "## Extracting individuals for a particular snp plink"
   ]
  },
  {
   "cell_type": "code",
   "execution_count": 37,
   "metadata": {
    "kernel": "Bash"
   },
   "outputs": [
    {
     "name": "stdout",
     "output_type": "stream",
     "text": [
      "\u001b[91mERROR\u001b[0m: \u001b[91mFailed to locate /home/dc2325/project/UKBB_GWAS_dev/plink_extract.ipynb.sos\u001b[0m\n",
      "\n"
     ]
    }
   ],
   "source": [
    "tpl_file=../farnam.yml\n",
    "pca_dir=/home/dc2325/scratch60/plink_extract\n",
    "famFile=$UKBB_PATH/genotype_files/ukb28374_exomedata/exome_data_OCT2020/ukb23155_s200631.fam\n",
    "bedfiles=$UKBB_PATH/genotype_files/ukb28374_exomedata/exome_data_OCT2020/ukb23155_c12_b0_v1.bed\n",
    "bimfiles=$UKBB_PATH/genotype_files/ukb28374_exomedata/exome_data_OCT2020/UKBexomeOQFE_chr12.bim\n",
    "snp_list=/home/dc2325/scratch60/plink_extract/snp.txt\n",
    "# Container\n",
    "container_lmm=$UKBB_PATH/lmm.sif\n",
    "container_marp=$UKBB_PATH/marp.sif\n",
    "# Pipeline\n",
    "plink_sos=~/project/UKBB_GWAS_dev/plink_extract.ipynb\n",
    "# Name of bash script\n",
    "pca_sbatch=../output/$(date +\"%Y-%m-%d\")_plink_miss.sbatch\n",
    "numThreads=1\n",
    "job_size=1\n",
    "\n",
    "\n",
    "sos run ~/project/UKBB_GWAS_dev/plink_extract.ipynb  \\\n",
    "    --cwd $pca_dir \\\n",
    "    --bedfiles $bedfiles \\\n",
    "    --bimfiles $bimfiles \\\n",
    "    --famFile $famFile \\\n",
    "    --snp_list $snp_list \\\n",
    "    --numThreads $numThreads \\\n",
    "    --job_size $job_size \\\n",
    "    --container_lmm $container_lmm \\\n",
    "    --container_marp $container_marp"
   ]
  },
  {
   "cell_type": "markdown",
   "metadata": {
    "kernel": "Bash"
   },
   "source": [
    "## Regenie burden"
   ]
  },
  {
   "cell_type": "code",
   "execution_count": 23,
   "metadata": {
    "kernel": "Bash"
   },
   "outputs": [
    {
     "name": "stdout",
     "output_type": "stream",
     "text": [
      "INFO: Checking \u001b[32mregenie_burden\u001b[0m: Run regenie for burden tests\n",
      "HINT: singularity exec  /gpfs/gibbs/pi/dewan/data/UKBiobank/lmm.sif /bin/bash /gpfs/ysm/project/dewan/dc2325/UKBB_GWAS_dev/analysis/tmph24c8d72/singularity_run_193934.sh\n",
      "set -e\n",
      "regenie \\\n",
      "  --step 2 \\\n",
      "  --bed /gpfs/gibbs/pi/dewan/data/UKBiobank/MWE/burden/ukb23155_c21_b0_v1.plink.exome.filtered \\\n",
      "  --phenoFile output/phenotype_burden.regenie_phenotype \\\n",
      "  --covarFile output/phenotype_burden.regenie_covar \\\n",
      "  --phenoColList ASTHMA \\\n",
      "  --bt\n",
      "  --firth --approx \\\n",
      "  --pred output/phenotype_burden_ASTHMA.regenie_pred.list \\\n",
      "  --anno-file burden/annotation_file.txt \\\n",
      "  --set-list burden/set_list_file.txt \\\n",
      "  --extract-sets burden/keep_file.txt\\\n",
      "  --mask-def burden/mask_file.txt \\\n",
      "  --aaf-bins 0.05 \\\n",
      "  --write-mask \\\n",
      "  --build-mask \\\n",
      "  --bsize 10 \\\n",
      "  --check-burden-files \\\n",
      "  --gz \\\n",
      "  --out  output/cache/ukb23155_c21_b0_v1.plink.exome.filtered.burden\n",
      "\n",
      "\n",
      "INFO: \u001b[32mregenie_burden\u001b[0m (index=0) is \u001b[32mcompleted\u001b[0m.\n",
      "HINT: singularity exec  /gpfs/gibbs/pi/dewan/data/UKBiobank/lmm.sif /bin/bash /gpfs/ysm/project/dewan/dc2325/UKBB_GWAS_dev/analysis/tmpeg8za31c/singularity_run_193934.sh\n",
      "set -e\n",
      "regenie \\\n",
      "  --step 2 \\\n",
      "  --bed /gpfs/gibbs/pi/dewan/data/UKBiobank/MWE/burden/ukb23155_c22_b0_v1.plink.exome.filtered \\\n",
      "  --phenoFile output/phenotype_burden.regenie_phenotype \\\n",
      "  --covarFile output/phenotype_burden.regenie_covar \\\n",
      "  --phenoColList ASTHMA \\\n",
      "  --bt\n",
      "  --firth --approx \\\n",
      "  --pred output/phenotype_burden_ASTHMA.regenie_pred.list \\\n",
      "  --anno-file burden/annotation_file.txt \\\n",
      "  --set-list burden/set_list_file.txt \\\n",
      "  --extract-sets burden/keep_file.txt\\\n",
      "  --mask-def burden/mask_file.txt \\\n",
      "  --aaf-bins 0.05 \\\n",
      "  --write-mask \\\n",
      "  --build-mask \\\n",
      "  --bsize 10 \\\n",
      "  --check-burden-files \\\n",
      "  --gz \\\n",
      "  --out  output/cache/ukb23155_c22_b0_v1.plink.exome.filtered.burden\n",
      "\n",
      "\n",
      "INFO: \u001b[32mregenie_burden\u001b[0m (index=1) is \u001b[32mcompleted\u001b[0m.\n",
      "INFO: \u001b[32mregenie_burden\u001b[0m output:   \u001b[32moutput/cache/ukb23155_c21_b0_v1.plink.exome.filtered_ASTHMAburden.regenie.gz output/cache/ukb23155_c22_b0_v1.plink.exome.filtered_ASTHMAburden.regenie.gz in 2 groups\u001b[0m\n",
      "INFO: Workflow regenie_burden (ID=w7723835731215d60) is tested successfully with 1 completed step and 2 completed substeps.\n",
      "\n"
     ]
    }
   ],
   "source": [
    "genoFile=`echo $UKBB_PATH/MWE/burden/ukb23155_c{21..22}_b0_v1.plink.exome.filtered.bed`\n",
    "sos dryrun ~/project/bioworkflows/GWAS/LMM.ipynb regenie_burden \\\n",
    "    --cwd output \\\n",
    "    --bfile genotypes21_22.bed \\\n",
    "    --genoFile $genoFile \\\n",
    "    --sampleFile \\\n",
    "    --phenoFile burden/phenotype_burden.txt\\\n",
    "    --phenoCol ASTHMA\\\n",
    "    --covarCol SEX \\\n",
    "    --qCovarCol AGE \\\n",
    "    --numThreads 8 \\\n",
    "    --bsize 10 \\\n",
    "    --anno_file burden/annotation_file.txt\\\n",
    "    --set_list burden/set_list_file.txt \\\n",
    "    --mask_file burden/mask_file.txt \\\n",
    "    --keep_gene burden/keep_file.txt\\\n",
    "    --aaf_bins 0.05 \\\n",
    "    --trait bt \\\n",
    "    --build_mask max \\\n",
    "    --container_lmm $UKBB_PATH/lmm.sif"
   ]
  },
  {
   "cell_type": "markdown",
   "metadata": {
    "kernel": "Bash"
   },
   "source": [
    "## PCA to calculate PC scores per hearing impairment trait"
   ]
  },
  {
   "cell_type": "markdown",
   "metadata": {
    "kernel": "Bash"
   },
   "source": [
    "### f.3393\n",
    "\n",
    "#### Step 1. Produce the genotype file keeping specific samples and variants"
   ]
  },
  {
   "cell_type": "code",
   "execution_count": 9,
   "metadata": {
    "kernel": "Bash"
   },
   "outputs": [
    {
     "name": "stdout",
     "output_type": "stream",
     "text": [
      "INFO: Running \u001b[32mcsg\u001b[0m: Configuration for Columbia csg partition cluster\n",
      "INFO: \u001b[32mcsg\u001b[0m is \u001b[32mcompleted\u001b[0m.\n",
      "INFO: \u001b[32mcsg\u001b[0m output:   \u001b[32m/home/tf2478/pca/qc1_f3393_genoarray_2021-08-06.sbatch\u001b[0m\n",
      "INFO: Workflow csg (ID=we5e680985396158d) is executed successfully with 1 completed step.\n"
     ]
    }
   ],
   "source": [
    "##Yale's cluster\n",
    "#cwd=$UKBB_PATH/results/070921_pca_genotype_array/white_expanded_related_06_30_21_genoarray\n",
    "## Use qc'ed genotype array\n",
    "#genoFile=$UKBB_PATH/results/070921_pca_genotype_array/plinkqc_05_28_21/cache/UKB_genotypedatadownloaded083019.plinkqc_05_28_21.filtered.bed\n",
    "## phenoFile=$UKBB_PATH/phenotype_files/pleiotropy_R01/ukb43978_OCT2020/dc2325_phenotypes/030821_ukb42495_exomed_white_189010ind.pheno\n",
    "#keep_samples=$UKBB_PATH/results/070921_pca_genotype_array/king_05_28_21/UKB_genotypedatadownloaded083019.plinkqc_05_28_21.filtered.king_05_28_21.related_id\n",
    "#Keep the same variants as above\n",
    "#keep_variants=$UKBB_PATH/results/070921_pca_genotype_array/white_expanded_06_30_21_genoarray/cache/UKB_genotypedatadownloaded083019.plinkqc_05_28_21.filtered.white_expanded_06_30_21_genoarray.filtered.prune.in\n",
    "\n",
    "## Columbia's cluster\n",
    "cwd=$UKBB_PATH/results/080621_pca_genoarray_HI/f3393\n",
    "gwas_sbatch=$OUT_PATH/qc1_f3393_genoarray_$(date +\"%Y-%m-%d\").sbatch\n",
    "## Use qc'ed genotype array\n",
    "genoFile=$UKBB_yale/results/070921_pca_genotype_array/plinkqc_05_28_21/cache/UKB_genotypedatadownloaded083019.plinkqc_05_28_21.filtered.bed\n",
    "keep_samples=$UKBB_PATH/results/080621_pca_genoarray_HI/080421_UKBB_Hearing_aid_f3393_expandedwhite_6305cases_98082ctrl.keep_id\n",
    "#Keep the same variants as above\n",
    "keep_variants=$UKBB_yale/results/070921_pca_genotype_array/white_expanded_06_30_21_genoarray/cache/UKB_genotypedatadownloaded083019.plinkqc_05_28_21.filtered.white_expanded_06_30_21_genoarray.filtered.prune.in\n",
    "\n",
    "#GWAS QC variables set all of this variables to 0 to avoid doing more filtering\n",
    "maf_filter=0\n",
    "geno_filter=0\n",
    "hwe_filter=0\n",
    "mind_filter=0\n",
    "numThreads=1\n",
    "mem='30G'\n",
    "\n",
    "gwasqc_args=\"\"\"qc:1\n",
    "    --cwd $cwd\n",
    "    --genoFile $genoFile\n",
    "    --keep_samples $keep_samples\n",
    "    --keep_variants $keep_variants\n",
    "    --maf_filter $maf_filter\n",
    "    --geno_filter $geno_filter\n",
    "    --hwe_filter $hwe_filter\n",
    "    --mind_filter $mind_filter\n",
    "    --numThreads $numThreads \n",
    "    --job_size $job_size\n",
    "    --container_lmm $container_lmm\n",
    "    --mem $mem\n",
    "\"\"\"\n",
    "\n",
    "sos run $USER_PATH/UKBB_GWAS_dev/admin/Get_Job_Script.ipynb csg \\\n",
    "    --template-file $tpl_file \\\n",
    "    --workflow-file $gwasqc_sos \\\n",
    "    --to-script $gwas_sbatch \\\n",
    "    --args \"$gwasqc_args\""
   ]
  },
  {
   "cell_type": "markdown",
   "metadata": {
    "kernel": "Bash"
   },
   "source": [
    "#### Step 2: Get the PC's"
   ]
  },
  {
   "cell_type": "code",
   "execution_count": 11,
   "metadata": {
    "kernel": "Bash"
   },
   "outputs": [
    {
     "name": "stdout",
     "output_type": "stream",
     "text": [
      "INFO: Running \u001b[32mcsg\u001b[0m: Configuration for Columbia csg partition cluster\n",
      "INFO: \u001b[32mcsg\u001b[0m is \u001b[32mcompleted\u001b[0m.\n",
      "INFO: \u001b[32mcsg\u001b[0m output:   \u001b[32m/home/tf2478/pca/flashpca_f3393_genoarray_2021-08-07.sbatch\u001b[0m\n",
      "INFO: Workflow csg (ID=w1101c0cce37b86f9) is executed successfully with 1 completed step.\n"
     ]
    }
   ],
   "source": [
    "## Yale's cluster\n",
    "#cwd=$UKBB_PATH/results/070921_pca_genotype_array/white_expanded_06_30_21_genoarray\n",
    "#This is the bfile originated after filtering unrelated individuals and pruning\n",
    "#genoFile=$UKBB_PATH/results/070921_pca_genotype_array/white_expanded_06_30_21_genoarray/cache/UKB_genotypedatadownloaded083019.plinkqc_05_28_21.filtered.white_expanded_06_30_21_genoarray.filtered.prune.bed\n",
    "## I had to modify the original file to add a super_pop and replace ethnicity for pop\n",
    "#phenoFile=$UKBB_PATH/phenotype_files/pleiotropy_R01/ukb43978_OCT2020/dc2325_phenotypes/030821_ukb42495_exomed_white_189010ind.pheno.new\n",
    "\n",
    "## Columbia's cluster\n",
    "cwd=$UKBB_PATH/results/080621_pca_genoarray_HI/f3393\n",
    "#This is the bfile originated after filtering unrelated individuals and pruning ending in *filtered.prune.bed\n",
    "genoFile=$UKBB_PATH/results/080621_pca_genoarray_HI/f3393/cache/UKB_genotypedatadownloaded083019.plinkqc_05_28_21.filtered.f3393.filtered.extracted.bed\n",
    "# Format FID, IID, pop, superpop\n",
    "phenoFile=$UKBB_PATH/results/080621_pca_genoarray_HI/080421_UKBB_Hearing_aid_f3393_expandedwhite_6305cases_98082ctrl.phenopca\n",
    "\n",
    "label_col=pop\n",
    "pop_col=pop\n",
    "pops=extended_white\n",
    "pca_sbatch=$OUT_PATH/flashpca_f3393_genoarray_$(date +\"%Y-%m-%d\").sbatch\n",
    "k=2\n",
    "maha_k=2\n",
    "min_axis=0\n",
    "max_axis=0\n",
    "\n",
    "pca_args=\"\"\"flashpca\n",
    "    --cwd $cwd\n",
    "    --genoFile $genoFile\n",
    "    --phenoFile $phenoFile\n",
    "    --k $k\n",
    "    --maha_k $maha_k\n",
    "    --label_col $label_col\n",
    "    --pop_col $pop_col\n",
    "    --pops $pops\n",
    "    --min_axis $min_axis\n",
    "    --max_axis $max_axis\n",
    "    --numThreads $numThreads \n",
    "    --job_size $job_size\n",
    "    --container_lmm $container_lmm\n",
    "\"\"\"\n",
    "\n",
    "sos run  $USER_PATH/UKBB_GWAS_dev/admin/Get_Job_Script.ipynb csg\\\n",
    "    --template-file $tpl_file \\\n",
    "    --workflow-file $pca_sos \\\n",
    "    --to-script $pca_sbatch \\\n",
    "    --args \"$pca_args\""
   ]
  },
  {
   "cell_type": "markdown",
   "metadata": {
    "kernel": "Bash"
   },
   "source": [
    "### f3393 50k individuals"
   ]
  },
  {
   "cell_type": "markdown",
   "metadata": {
    "kernel": "Bash"
   },
   "source": [
    "#### Step 1"
   ]
  },
  {
   "cell_type": "code",
   "execution_count": 6,
   "metadata": {
    "kernel": "Bash"
   },
   "outputs": [
    {
     "name": "stdout",
     "output_type": "stream",
     "text": [
      "INFO: Running \u001b[32mcsg\u001b[0m: Configuration for Columbia csg partition cluster\n",
      "INFO: \u001b[32mcsg\u001b[0m is \u001b[32mcompleted\u001b[0m.\n",
      "INFO: \u001b[32mcsg\u001b[0m output:   \u001b[32m/home/dmc2245/project/UKBB_GWAS_dev/output/qc1_f3393_genoarray_50K2021-09-07.sbatch\u001b[0m\n",
      "INFO: Workflow csg (ID=w189c76f0d4f4d0cb) is executed successfully with 1 completed step.\n",
      "\n"
     ]
    }
   ],
   "source": [
    "## Columbia's cluster\n",
    "cwd=$UKBB_PATH/results/080621_pca_genoarray_HI/090721_f3393_50K\n",
    "gwas_sbatch=$OUT_PATH/qc1_f3393_genoarray_50K$(date +\"%Y-%m-%d\").sbatch\n",
    "## Use qc'ed genotype array\n",
    "genoFile=$UKBB_yale/results/070921_pca_genotype_array/plinkqc_05_28_21/cache/UKB_genotypedatadownloaded083019.plinkqc_05_28_21.filtered.bed\n",
    "keep_samples=~/UKBiobank/phenotype_files/hearing_impairment/080421_UKBB_Hearing_aid_f3393_expandedwhite_24496ind_50Kexomes.keep_id\n",
    "#Keep the same variants as above\n",
    "keep_variants=$UKBB_yale/results/070921_pca_genotype_array/white_expanded_06_30_21_genoarray/cache/UKB_genotypedatadownloaded083019.plinkqc_05_28_21.filtered.white_expanded_06_30_21_genoarray.filtered.prune.in\n",
    "\n",
    "#GWAS QC variables set all of this variables to 0 to avoid doing more filtering\n",
    "maf_filter=0\n",
    "geno_filter=0\n",
    "hwe_filter=0\n",
    "mind_filter=0\n",
    "numThreads=1\n",
    "mem='30G'\n",
    "\n",
    "gwasqc_args=\"\"\"qc:1\n",
    "    --cwd $cwd\n",
    "    --genoFile $genoFile\n",
    "    --keep_samples $keep_samples\n",
    "    --keep_variants $keep_variants\n",
    "    --maf_filter $maf_filter\n",
    "    --geno_filter $geno_filter\n",
    "    --hwe_filter $hwe_filter\n",
    "    --mind_filter $mind_filter\n",
    "    --numThreads $numThreads \n",
    "    --job_size $job_size\n",
    "    --container_lmm $container_lmm\n",
    "    --mem $mem\n",
    "\"\"\"\n",
    "\n",
    "sos run $USER_PATH/UKBB_GWAS_dev/admin/Get_Job_Script.ipynb csg \\\n",
    "    --template-file $tpl_file \\\n",
    "    --workflow-file $gwasqc_sos \\\n",
    "    --to-script $gwas_sbatch \\\n",
    "    --args \"$gwasqc_args\""
   ]
  },
  {
   "cell_type": "markdown",
   "metadata": {
    "kernel": "Bash"
   },
   "source": [
    "#### Step 2. "
   ]
  },
  {
   "cell_type": "code",
   "execution_count": 17,
   "metadata": {
    "kernel": "Bash"
   },
   "outputs": [
    {
     "name": "stdout",
     "output_type": "stream",
     "text": [
      "INFO: Running \u001b[32mcsg\u001b[0m: Configuration for Columbia csg partition cluster\n",
      "INFO: \u001b[32mcsg\u001b[0m is \u001b[32mcompleted\u001b[0m.\n",
      "INFO: \u001b[32mcsg\u001b[0m output:   \u001b[32m/home/dmc2245/project/UKBB_GWAS_dev/output/flashpca_f3393_genoarray_50K_2021-09-07.sbatch\u001b[0m\n",
      "INFO: Workflow csg (ID=w180994a972fcdfac) is executed successfully with 1 completed step.\n",
      "\n"
     ]
    }
   ],
   "source": [
    "## Columbia's cluster\n",
    "cwd=$UKBB_PATH/results/080621_pca_genoarray_HI/090721_f3393_50K\n",
    "#This is the bfile originated after filtering unrelated individuals and pruning ending in *filtered.prune.bed\n",
    "genoFile=$UKBB_PATH/results/080621_pca_genoarray_HI/090721_f3393_50K/cache/UKB_genotypedatadownloaded083019.plinkqc_05_28_21.filtered.090721_f3393_50K.filtered.extracted.bed\n",
    "# Format FID, IID, pop\n",
    "phenoFile=$UKBB_PATH/results/080621_pca_genoarray_HI/080421_UKBB_Hearing_aid_f3393_expandedwhite_24496ind_50K.phenopca\n",
    "\n",
    "label_col=pop\n",
    "pop_col=pop\n",
    "pca_sbatch=$OUT_PATH/flashpca_f3393_genoarray_50K_$(date +\"%Y-%m-%d\").sbatch\n",
    "k=2\n",
    "maha_k=2\n",
    "min_axis=0\n",
    "max_axis=0\n",
    "\n",
    "pca_args=\"\"\"flashpca\n",
    "    --cwd $cwd\n",
    "    --genoFile $genoFile\n",
    "    --phenoFile $phenoFile\n",
    "    --k $k\n",
    "    --maha_k $maha_k\n",
    "    --label_col $label_col\n",
    "    --pop_col $pop_col\n",
    "    --min_axis $min_axis\n",
    "    --max_axis $max_axis\n",
    "    --numThreads $numThreads \n",
    "    --job_size $job_size\n",
    "    --container_lmm $container_lmm\n",
    "\"\"\"\n",
    "\n",
    "sos run  $USER_PATH/UKBB_GWAS_dev/admin/Get_Job_Script.ipynb csg\\\n",
    "    --template-file $tpl_file \\\n",
    "    --workflow-file $pca_sos \\\n",
    "    --to-script $pca_sbatch \\\n",
    "    --args \"$pca_args\""
   ]
  },
  {
   "cell_type": "markdown",
   "metadata": {
    "kernel": "Bash"
   },
   "source": [
    "### f3393. 150K individuals"
   ]
  },
  {
   "cell_type": "markdown",
   "metadata": {
    "kernel": "Bash"
   },
   "source": [
    "#### Step 1. "
   ]
  },
  {
   "cell_type": "code",
   "execution_count": 5,
   "metadata": {
    "kernel": "Bash"
   },
   "outputs": [
    {
     "name": "stdout",
     "output_type": "stream",
     "text": [
      "INFO: Running \u001b[32mcsg\u001b[0m: Configuration for Columbia csg partition cluster\n",
      "INFO: \u001b[32mcsg\u001b[0m is \u001b[32mcompleted\u001b[0m.\n",
      "INFO: \u001b[32mcsg\u001b[0m output:   \u001b[32m/home/dmc2245/project/UKBB_GWAS_dev/output/qc1_f3393_genoarray_2021-09-07.sbatch\u001b[0m\n",
      "INFO: Workflow csg (ID=wd20db76a4d467345) is executed successfully with 1 completed step.\n",
      "\n"
     ]
    }
   ],
   "source": [
    "## Columbia's cluster\n",
    "cwd=$UKBB_PATH/results/080621_pca_genoarray_HI/090721_f3393_150K\n",
    "gwas_sbatch=$OUT_PATH/qc1_f3393_genoarray_150K$(date +\"%Y-%m-%d\").sbatch\n",
    "## Use qc'ed genotype array\n",
    "genoFile=$UKBB_yale/results/070921_pca_genotype_array/plinkqc_05_28_21/cache/UKB_genotypedatadownloaded083019.plinkqc_05_28_21.filtered.bed\n",
    "keep_samples=~/UKBiobank/phenotype_files/hearing_impairment/080421_UKBB_Hearing_aid_f3393_expandedwhite_79891ind_150Kexomes.keep_id\n",
    "#Keep the same variants as above\n",
    "keep_variants=$UKBB_yale/results/070921_pca_genotype_array/white_expanded_06_30_21_genoarray/cache/UKB_genotypedatadownloaded083019.plinkqc_05_28_21.filtered.white_expanded_06_30_21_genoarray.filtered.prune.in\n",
    "\n",
    "#GWAS QC variables set all of this variables to 0 to avoid doing more filtering\n",
    "maf_filter=0\n",
    "geno_filter=0\n",
    "hwe_filter=0\n",
    "mind_filter=0\n",
    "numThreads=1\n",
    "mem='30G'\n",
    "\n",
    "gwasqc_args=\"\"\"qc:1\n",
    "    --cwd $cwd\n",
    "    --genoFile $genoFile\n",
    "    --keep_samples $keep_samples\n",
    "    --keep_variants $keep_variants\n",
    "    --maf_filter $maf_filter\n",
    "    --geno_filter $geno_filter\n",
    "    --hwe_filter $hwe_filter\n",
    "    --mind_filter $mind_filter\n",
    "    --numThreads $numThreads \n",
    "    --job_size $job_size\n",
    "    --container_lmm $container_lmm\n",
    "    --mem $mem\n",
    "\"\"\"\n",
    "\n",
    "sos run $USER_PATH/UKBB_GWAS_dev/admin/Get_Job_Script.ipynb csg \\\n",
    "    --template-file $tpl_file \\\n",
    "    --workflow-file $gwasqc_sos \\\n",
    "    --to-script $gwas_sbatch \\\n",
    "    --args \"$gwasqc_args\""
   ]
  },
  {
   "cell_type": "markdown",
   "metadata": {
    "kernel": "Bash"
   },
   "source": [
    "#### Step 2"
   ]
  },
  {
   "cell_type": "code",
   "execution_count": 18,
   "metadata": {
    "kernel": "Bash"
   },
   "outputs": [
    {
     "name": "stdout",
     "output_type": "stream",
     "text": [
      "INFO: Running \u001b[32mcsg\u001b[0m: Configuration for Columbia csg partition cluster\n",
      "INFO: \u001b[32mcsg\u001b[0m is \u001b[32mcompleted\u001b[0m.\n",
      "INFO: \u001b[32mcsg\u001b[0m output:   \u001b[32m/home/dmc2245/project/UKBB_GWAS_dev/output/flashpca_f3393_genoarray_150K_2021-09-07.sbatch\u001b[0m\n",
      "INFO: Workflow csg (ID=wc70a3d6332b7a074) is executed successfully with 1 completed step.\n",
      "\n"
     ]
    }
   ],
   "source": [
    "## Columbia's cluster\n",
    "cwd=$UKBB_PATH/results/080621_pca_genoarray_HI/090721_f3393_150K\n",
    "#This is the bfile originated after filtering unrelated individuals and pruning ending in *filtered.prune.bed\n",
    "genoFile=$UKBB_PATH/results/080621_pca_genoarray_HI/090721_f3393_150K/cache/UKB_genotypedatadownloaded083019.plinkqc_05_28_21.filtered.090721_f3393_150K.filtered.extracted.bed\n",
    "# Format FID, IID, pop\n",
    "phenoFile=$UKBB_PATH/results/080621_pca_genoarray_HI/080421_UKBB_Hearing_aid_f3393_expandedwhite_79891ind_150K.phenopca\n",
    "\n",
    "label_col=pop\n",
    "pop_col=pop\n",
    "pca_sbatch=$OUT_PATH/flashpca_f3393_genoarray_150K_$(date +\"%Y-%m-%d\").sbatch\n",
    "k=2\n",
    "maha_k=2\n",
    "min_axis=0\n",
    "max_axis=0\n",
    "\n",
    "pca_args=\"\"\"flashpca\n",
    "    --cwd $cwd\n",
    "    --genoFile $genoFile\n",
    "    --phenoFile $phenoFile\n",
    "    --k $k\n",
    "    --maha_k $maha_k\n",
    "    --label_col $label_col\n",
    "    --pop_col $pop_col\n",
    "    --min_axis $min_axis\n",
    "    --max_axis $max_axis\n",
    "    --numThreads $numThreads \n",
    "    --job_size $job_size\n",
    "    --container_lmm $container_lmm\n",
    "\"\"\"\n",
    "\n",
    "sos run  $USER_PATH/UKBB_GWAS_dev/admin/Get_Job_Script.ipynb csg\\\n",
    "    --template-file $tpl_file \\\n",
    "    --workflow-file $pca_sos \\\n",
    "    --to-script $pca_sbatch \\\n",
    "    --args \"$pca_args\""
   ]
  },
  {
   "cell_type": "markdown",
   "metadata": {
    "kernel": "Bash"
   },
   "source": [
    "### f.2247\n",
    "\n",
    "#### Step 1. Produce the genotype file keeping specific samples and variants"
   ]
  },
  {
   "cell_type": "code",
   "execution_count": 13,
   "metadata": {
    "kernel": "Bash"
   },
   "outputs": [
    {
     "name": "stdout",
     "output_type": "stream",
     "text": [
      "INFO: Running \u001b[32mcsg\u001b[0m: Configuration for Columbia csg partition cluster\n",
      "INFO: \u001b[32mcsg\u001b[0m is \u001b[32mcompleted\u001b[0m.\n",
      "INFO: \u001b[32mcsg\u001b[0m output:   \u001b[32m/home/tf2478/pca/qc1_f2247_genoarray_2021-08-06.sbatch\u001b[0m\n",
      "INFO: Workflow csg (ID=wba0b0069c01c6c33) is executed successfully with 1 completed step.\n"
     ]
    }
   ],
   "source": [
    "##Yale's cluster\n",
    "#cwd=$UKBB_PATH/results/070921_pca_genotype_array/white_expanded_related_06_30_21_genoarray\n",
    "## Use qc'ed genotype array\n",
    "#genoFile=$UKBB_PATH/results/070921_pca_genotype_array/plinkqc_05_28_21/cache/UKB_genotypedatadownloaded083019.plinkqc_05_28_21.filtered.bed\n",
    "## phenoFile=$UKBB_PATH/phenotype_files/pleiotropy_R01/ukb43978_OCT2020/dc2325_phenotypes/030821_ukb42495_exomed_white_189010ind.pheno\n",
    "#keep_samples=$UKBB_PATH/results/070921_pca_genotype_array/king_05_28_21/UKB_genotypedatadownloaded083019.plinkqc_05_28_21.filtered.king_05_28_21.related_id\n",
    "#Keep the same variants as above\n",
    "#keep_variants=$UKBB_PATH/results/070921_pca_genotype_array/white_expanded_06_30_21_genoarray/cache/UKB_genotypedatadownloaded083019.plinkqc_05_28_21.filtered.white_expanded_06_30_21_genoarray.filtered.prune.in\n",
    "\n",
    "## Columbia's cluster\n",
    "cwd=$UKBB_PATH/results/080621_pca_genoarray_HI/f2247\n",
    "gwas_sbatch=$OUT_PATH/qc1_f2247_genoarray_$(date +\"%Y-%m-%d\").sbatch\n",
    "## Use qc'ed genotype array\n",
    "genoFile=$UKBB_yale/results/070921_pca_genotype_array/plinkqc_05_28_21/cache/UKB_genotypedatadownloaded083019.plinkqc_05_28_21.filtered.bed\n",
    "keep_samples=$UKBB_PATH/results/080621_pca_genoarray_HI/080421_UKBB_Hearing_difficulty_f2247_expandedwhite_46237cases_98082ctrl.keep_id\n",
    "#Keep the same variants as above\n",
    "keep_variants=$UKBB_yale/results/070921_pca_genotype_array/white_expanded_06_30_21_genoarray/cache/UKB_genotypedatadownloaded083019.plinkqc_05_28_21.filtered.white_expanded_06_30_21_genoarray.filtered.prune.in\n",
    "\n",
    "#GWAS QC variables set all of this variables to 0 to avoid doing more filtering\n",
    "maf_filter=0\n",
    "geno_filter=0\n",
    "hwe_filter=0\n",
    "mind_filter=0\n",
    "numThreads=1\n",
    "mem='30G'\n",
    "\n",
    "gwasqc_args=\"\"\"qc:1\n",
    "    --cwd $cwd\n",
    "    --genoFile $genoFile\n",
    "    --keep_samples $keep_samples\n",
    "    --keep_variants $keep_variants\n",
    "    --maf_filter $maf_filter\n",
    "    --geno_filter $geno_filter\n",
    "    --hwe_filter $hwe_filter\n",
    "    --mind_filter $mind_filter\n",
    "    --numThreads $numThreads \n",
    "    --job_size $job_size\n",
    "    --container_lmm $container_lmm\n",
    "    --mem $mem\n",
    "\"\"\"\n",
    "\n",
    "sos run $USER_PATH/UKBB_GWAS_dev/admin/Get_Job_Script.ipynb csg \\\n",
    "    --template-file $tpl_file \\\n",
    "    --workflow-file $gwasqc_sos \\\n",
    "    --to-script $gwas_sbatch \\\n",
    "    --args \"$gwasqc_args\""
   ]
  },
  {
   "cell_type": "markdown",
   "metadata": {
    "kernel": "Bash"
   },
   "source": [
    "#### Step 2: Get the PC's"
   ]
  },
  {
   "cell_type": "code",
   "execution_count": 5,
   "metadata": {
    "kernel": "Bash"
   },
   "outputs": [
    {
     "name": "stdout",
     "output_type": "stream",
     "text": [
      "INFO: Running \u001b[32mcsg\u001b[0m: Configuration for Columbia csg partition cluster\n",
      "INFO: \u001b[32mcsg\u001b[0m is \u001b[32mcompleted\u001b[0m.\n",
      "INFO: \u001b[32mcsg\u001b[0m output:   \u001b[32m/home/tf2478/pca/flashpca_f2247_genoarray_2021-08-06.sbatch\u001b[0m\n",
      "INFO: Workflow csg (ID=wc48eaca4d58fc942) is executed successfully with 1 completed step.\n"
     ]
    }
   ],
   "source": [
    "## Yale's cluster\n",
    "#cwd=$UKBB_PATH/results/070921_pca_genotype_array/white_expanded_06_30_21_genoarray\n",
    "#This is the bfile originated after filtering unrelated individuals and pruning\n",
    "#genoFile=$UKBB_PATH/results/070921_pca_genotype_array/white_expanded_06_30_21_genoarray/cache/UKB_genotypedatadownloaded083019.plinkqc_05_28_21.filtered.white_expanded_06_30_21_genoarray.filtered.prune.bed\n",
    "## I had to modify the original file to add a super_pop and replace ethnicity for pop\n",
    "#phenoFile=$UKBB_PATH/phenotype_files/pleiotropy_R01/ukb43978_OCT2020/dc2325_phenotypes/030821_ukb42495_exomed_white_189010ind.pheno.new\n",
    "\n",
    "## Columbia's cluster\n",
    "cwd=$UKBB_PATH/results/080621_pca_genoarray_HI/f2247\n",
    "#This is the bfile originated from qc1 ending in *.bed\n",
    "genoFile=$UKBB_PATH/results/080621_pca_genoarray_HI/f2247/cache/UKB_genotypedatadownloaded083019.plinkqc_05_28_21.filtered.f2247.filtered.extracted.bed\n",
    "# Format FID, IID, pop, superpop\n",
    "phenoFile=$UKBB_PATH/results/080621_pca_genoarray_HI/080421_UKBB_Hearing_difficulty_f2247_expandedwhite_46237cases_98082ctrl.phenopca\n",
    "\n",
    "label_col=pop\n",
    "pop_col=pop\n",
    "pops=extended_white\n",
    "pca_sbatch=$OUT_PATH/flashpca_f2247_genoarray_$(date +\"%Y-%m-%d\").sbatch\n",
    "k=2\n",
    "maha_k=2\n",
    "min_axis=0\n",
    "max_axis=0\n",
    "\n",
    "pca_args=\"\"\"flashpca\n",
    "    --cwd $cwd\n",
    "    --genoFile $genoFile\n",
    "    --phenoFile $phenoFile\n",
    "    --k $k\n",
    "    --maha_k $maha_k\n",
    "    --label_col $label_col\n",
    "    --pop_col $pop_col\n",
    "    --pops $pops\n",
    "    --min_axis $min_axis\n",
    "    --max_axis $max_axis\n",
    "    --numThreads $numThreads \n",
    "    --job_size $job_size\n",
    "    --container_lmm $container_lmm\n",
    "\"\"\"\n",
    "\n",
    "sos run  $USER_PATH/UKBB_GWAS_dev/admin/Get_Job_Script.ipynb csg\\\n",
    "    --template-file $tpl_file \\\n",
    "    --workflow-file $pca_sos \\\n",
    "    --to-script $pca_sbatch \\\n",
    "    --args \"$pca_args\""
   ]
  },
  {
   "cell_type": "markdown",
   "metadata": {
    "kernel": "Bash"
   },
   "source": [
    "### f.2247 50K\n",
    "\n",
    "#### Step 1"
   ]
  },
  {
   "cell_type": "code",
   "execution_count": 7,
   "metadata": {
    "kernel": "Bash"
   },
   "outputs": [
    {
     "name": "stdout",
     "output_type": "stream",
     "text": [
      "INFO: Running \u001b[32mcsg\u001b[0m: Configuration for Columbia csg partition cluster\n",
      "INFO: \u001b[32mcsg\u001b[0m is \u001b[32mcompleted\u001b[0m.\n",
      "INFO: \u001b[32mcsg\u001b[0m output:   \u001b[32m/home/dmc2245/project/UKBB_GWAS_dev/output/qc1_f2247_genoarray_50K_2021-09-07.sbatch\u001b[0m\n",
      "INFO: Workflow csg (ID=w73f26b4d9ef6b15d) is executed successfully with 1 completed step.\n",
      "\n"
     ]
    }
   ],
   "source": [
    "## Columbia's cluster\n",
    "cwd=$UKBB_PATH/results/080621_pca_genoarray_HI/090721_f2247_50K\n",
    "gwas_sbatch=$OUT_PATH/qc1_f2247_genoarray_50K_$(date +\"%Y-%m-%d\").sbatch\n",
    "## Use qc'ed genotype array\n",
    "genoFile=$UKBB_yale/results/070921_pca_genotype_array/plinkqc_05_28_21/cache/UKB_genotypedatadownloaded083019.plinkqc_05_28_21.filtered.bed\n",
    "keep_samples=~/UKBiobank/phenotype_files/hearing_impairment/080421_UKBB_Hearing_difficulty_f2247_expandedwhite_35147ind_50Kexomes.keep_id\n",
    "#Keep the same variants as above\n",
    "keep_variants=$UKBB_yale/results/070921_pca_genotype_array/white_expanded_06_30_21_genoarray/cache/UKB_genotypedatadownloaded083019.plinkqc_05_28_21.filtered.white_expanded_06_30_21_genoarray.filtered.prune.in\n",
    "\n",
    "#GWAS QC variables set all of this variables to 0 to avoid doing more filtering\n",
    "maf_filter=0\n",
    "geno_filter=0\n",
    "hwe_filter=0\n",
    "mind_filter=0\n",
    "numThreads=1\n",
    "mem='30G'\n",
    "\n",
    "gwasqc_args=\"\"\"qc:1\n",
    "    --cwd $cwd\n",
    "    --genoFile $genoFile\n",
    "    --keep_samples $keep_samples\n",
    "    --keep_variants $keep_variants\n",
    "    --maf_filter $maf_filter\n",
    "    --geno_filter $geno_filter\n",
    "    --hwe_filter $hwe_filter\n",
    "    --mind_filter $mind_filter\n",
    "    --numThreads $numThreads \n",
    "    --job_size $job_size\n",
    "    --container_lmm $container_lmm\n",
    "    --mem $mem\n",
    "\"\"\"\n",
    "\n",
    "sos run $USER_PATH/UKBB_GWAS_dev/admin/Get_Job_Script.ipynb csg \\\n",
    "    --template-file $tpl_file \\\n",
    "    --workflow-file $gwasqc_sos \\\n",
    "    --to-script $gwas_sbatch \\\n",
    "    --args \"$gwasqc_args\""
   ]
  },
  {
   "cell_type": "markdown",
   "metadata": {
    "kernel": "Bash"
   },
   "source": [
    "#### Step 2"
   ]
  },
  {
   "cell_type": "code",
   "execution_count": 20,
   "metadata": {
    "kernel": "Bash"
   },
   "outputs": [
    {
     "name": "stdout",
     "output_type": "stream",
     "text": [
      "INFO: Running \u001b[32mcsg\u001b[0m: Configuration for Columbia csg partition cluster\n",
      "INFO: \u001b[32mcsg\u001b[0m is \u001b[32mcompleted\u001b[0m.\n",
      "INFO: \u001b[32mcsg\u001b[0m output:   \u001b[32m/home/dmc2245/project/UKBB_GWAS_dev/output/flashpca_f2247_genoarray_50K_2021-09-07.sbatch\u001b[0m\n",
      "INFO: Workflow csg (ID=w40eb593ada863c75) is executed successfully with 1 completed step.\n",
      "\n"
     ]
    }
   ],
   "source": [
    "## Columbia's cluster\n",
    "cwd=$UKBB_PATH/results/080621_pca_genoarray_HI/090721_f2247_50K\n",
    "#This is the bfile originated from qc1 ending in *.bed\n",
    "genoFile=$UKBB_PATH/results/080621_pca_genoarray_HI/090721_f2247_50K/cache/UKB_genotypedatadownloaded083019.plinkqc_05_28_21.filtered.090721_f2247_50K.filtered.extracted.bed\n",
    "# Format FID, IID, pop, superpop\n",
    "phenoFile=$UKBB_PATH/results/080621_pca_genoarray_HI/080421_UKBB_Hearing_difficulty_f2247_expandedwhite_35147ind_50K.phenopca\n",
    "\n",
    "label_col=pop\n",
    "pop_col=pop\n",
    "pca_sbatch=$OUT_PATH/flashpca_f2247_genoarray_50K_$(date +\"%Y-%m-%d\").sbatch\n",
    "k=2\n",
    "maha_k=2\n",
    "min_axis=0\n",
    "max_axis=0\n",
    "\n",
    "pca_args=\"\"\"flashpca\n",
    "    --cwd $cwd\n",
    "    --genoFile $genoFile\n",
    "    --phenoFile $phenoFile\n",
    "    --k $k\n",
    "    --maha_k $maha_k\n",
    "    --label_col $label_col\n",
    "    --pop_col $pop_col\n",
    "    --min_axis $min_axis\n",
    "    --max_axis $max_axis\n",
    "    --numThreads $numThreads \n",
    "    --job_size $job_size\n",
    "    --container_lmm $container_lmm\n",
    "\"\"\"\n",
    "\n",
    "sos run  $USER_PATH/UKBB_GWAS_dev/admin/Get_Job_Script.ipynb csg\\\n",
    "    --template-file $tpl_file \\\n",
    "    --workflow-file $pca_sos \\\n",
    "    --to-script $pca_sbatch \\\n",
    "    --args \"$pca_args\""
   ]
  },
  {
   "cell_type": "markdown",
   "metadata": {
    "kernel": "Bash"
   },
   "source": [
    "### f.2247 150 K\n",
    "\n",
    "#### Step 1"
   ]
  },
  {
   "cell_type": "code",
   "execution_count": 14,
   "metadata": {
    "kernel": "Bash"
   },
   "outputs": [
    {
     "name": "stdout",
     "output_type": "stream",
     "text": [
      "INFO: Running \u001b[32mcsg\u001b[0m: Configuration for Columbia csg partition cluster\n",
      "INFO: \u001b[32mcsg\u001b[0m is \u001b[32mcompleted\u001b[0m.\n",
      "INFO: \u001b[32mcsg\u001b[0m output:   \u001b[32m/home/dmc2245/project/UKBB_GWAS_dev/output/qc1_f2247_genoarray_150k_2021-09-07.sbatch\u001b[0m\n",
      "INFO: Workflow csg (ID=wbabb09f1af66670f) is executed successfully with 1 completed step.\n",
      "\n"
     ]
    }
   ],
   "source": [
    "## Columbia's cluster\n",
    "cwd=$UKBB_PATH/results/080621_pca_genoarray_HI/090721_f2247_150K\n",
    "gwas_sbatch=$OUT_PATH/qc1_f2247_genoarray_150k_$(date +\"%Y-%m-%d\").sbatch\n",
    "## Use qc'ed genotype array\n",
    "genoFile=$UKBB_yale/results/070921_pca_genotype_array/plinkqc_05_28_21/cache/UKB_genotypedatadownloaded083019.plinkqc_05_28_21.filtered.bed\n",
    "keep_samples=~/UKBiobank/phenotype_files/hearing_impairment/080421_UKBB_Hearing_difficulty_f2247_expandedwhite_109172ind_150Kexomes.keep_id\n",
    "#Keep the same variants as above\n",
    "keep_variants=$UKBB_yale/results/070921_pca_genotype_array/white_expanded_06_30_21_genoarray/cache/UKB_genotypedatadownloaded083019.plinkqc_05_28_21.filtered.white_expanded_06_30_21_genoarray.filtered.prune.in\n",
    "\n",
    "#GWAS QC variables set all of this variables to 0 to avoid doing more filtering\n",
    "maf_filter=0\n",
    "geno_filter=0\n",
    "hwe_filter=0\n",
    "mind_filter=0\n",
    "numThreads=1\n",
    "mem='30G'\n",
    "\n",
    "gwasqc_args=\"\"\"qc:1\n",
    "    --cwd $cwd\n",
    "    --genoFile $genoFile\n",
    "    --keep_samples $keep_samples\n",
    "    --keep_variants $keep_variants\n",
    "    --maf_filter $maf_filter\n",
    "    --geno_filter $geno_filter\n",
    "    --hwe_filter $hwe_filter\n",
    "    --mind_filter $mind_filter\n",
    "    --numThreads $numThreads \n",
    "    --job_size $job_size\n",
    "    --container_lmm $container_lmm\n",
    "    --mem $mem\n",
    "\"\"\"\n",
    "\n",
    "sos run $USER_PATH/UKBB_GWAS_dev/admin/Get_Job_Script.ipynb csg \\\n",
    "    --template-file $tpl_file \\\n",
    "    --workflow-file $gwasqc_sos \\\n",
    "    --to-script $gwas_sbatch \\\n",
    "    --args \"$gwasqc_args\""
   ]
  },
  {
   "cell_type": "markdown",
   "metadata": {
    "kernel": "Bash"
   },
   "source": [
    "#### Step 2"
   ]
  },
  {
   "cell_type": "code",
   "execution_count": 21,
   "metadata": {
    "kernel": "Bash"
   },
   "outputs": [
    {
     "name": "stdout",
     "output_type": "stream",
     "text": [
      "INFO: Running \u001b[32mcsg\u001b[0m: Configuration for Columbia csg partition cluster\n",
      "INFO: \u001b[32mcsg\u001b[0m is \u001b[32mcompleted\u001b[0m.\n",
      "INFO: \u001b[32mcsg\u001b[0m output:   \u001b[32m/home/dmc2245/project/UKBB_GWAS_dev/output/flashpca_f2247_genoarray_150K_2021-09-07.sbatch\u001b[0m\n",
      "INFO: Workflow csg (ID=w24fc03e66d394141) is executed successfully with 1 completed step.\n",
      "\n"
     ]
    }
   ],
   "source": [
    "## Columbia's cluster\n",
    "cwd=$UKBB_PATH/results/080621_pca_genoarray_HI/090721_f2247_150K\n",
    "#This is the bfile originated from qc1 ending in *.bed\n",
    "genoFile=$UKBB_PATH/results/080621_pca_genoarray_HI/090721_f2247_150K/cache/UKB_genotypedatadownloaded083019.plinkqc_05_28_21.filtered.090721_f2247_150K.filtered.extracted.bed\n",
    "# Format FID, IID, pop, superpop\n",
    "phenoFile=$UKBB_PATH/results/080621_pca_genoarray_HI/080421_UKBB_Hearing_difficulty_f2247_expandedwhite_109172ind_150K.phenopca\n",
    "\n",
    "label_col=pop\n",
    "pop_col=pop\n",
    "pca_sbatch=$OUT_PATH/flashpca_f2247_genoarray_150K_$(date +\"%Y-%m-%d\").sbatch\n",
    "k=2\n",
    "maha_k=2\n",
    "min_axis=0\n",
    "max_axis=0\n",
    "\n",
    "pca_args=\"\"\"flashpca\n",
    "    --cwd $cwd\n",
    "    --genoFile $genoFile\n",
    "    --phenoFile $phenoFile\n",
    "    --k $k\n",
    "    --maha_k $maha_k\n",
    "    --label_col $label_col\n",
    "    --pop_col $pop_col\n",
    "    --min_axis $min_axis\n",
    "    --max_axis $max_axis\n",
    "    --numThreads $numThreads \n",
    "    --job_size $job_size\n",
    "    --container_lmm $container_lmm\n",
    "\"\"\"\n",
    "\n",
    "sos run  $USER_PATH/UKBB_GWAS_dev/admin/Get_Job_Script.ipynb csg\\\n",
    "    --template-file $tpl_file \\\n",
    "    --workflow-file $pca_sos \\\n",
    "    --to-script $pca_sbatch \\\n",
    "    --args \"$pca_args\""
   ]
  },
  {
   "cell_type": "markdown",
   "metadata": {
    "kernel": "Bash"
   },
   "source": [
    "### f.2257\n",
    "\n",
    "#### Step 1. Produce the genotype file keeping specific samples and variants"
   ]
  },
  {
   "cell_type": "code",
   "execution_count": 19,
   "metadata": {
    "kernel": "Bash"
   },
   "outputs": [
    {
     "name": "stdout",
     "output_type": "stream",
     "text": [
      "INFO: Running \u001b[32mcsg\u001b[0m: Configuration for Columbia csg partition cluster\n",
      "INFO: \u001b[32mcsg\u001b[0m is \u001b[32mcompleted\u001b[0m.\n",
      "INFO: \u001b[32mcsg\u001b[0m output:   \u001b[32m/home/tf2478/pca/qc1_f2257_genoarray_2021-08-06.sbatch\u001b[0m\n",
      "INFO: Workflow csg (ID=w6621ca45cbe5b97e) is executed successfully with 1 completed step.\n"
     ]
    }
   ],
   "source": [
    "##Yale's cluster\n",
    "#cwd=$UKBB_PATH/results/070921_pca_genotype_array/white_expanded_related_06_30_21_genoarray\n",
    "## Use qc'ed genotype array\n",
    "#genoFile=$UKBB_PATH/results/070921_pca_genotype_array/plinkqc_05_28_21/cache/UKB_genotypedatadownloaded083019.plinkqc_05_28_21.filtered.bed\n",
    "## phenoFile=$UKBB_PATH/phenotype_files/pleiotropy_R01/ukb43978_OCT2020/dc2325_phenotypes/030821_ukb42495_exomed_white_189010ind.pheno\n",
    "#keep_samples=$UKBB_PATH/results/070921_pca_genotype_array/king_05_28_21/UKB_genotypedatadownloaded083019.plinkqc_05_28_21.filtered.king_05_28_21.related_id\n",
    "#Keep the same variants as above\n",
    "#keep_variants=$UKBB_PATH/results/070921_pca_genotype_array/white_expanded_06_30_21_genoarray/cache/UKB_genotypedatadownloaded083019.plinkqc_05_28_21.filtered.white_expanded_06_30_21_genoarray.filtered.prune.in\n",
    "\n",
    "## Columbia's cluster\n",
    "cwd=$UKBB_PATH/results/080621_pca_genoarray_HI/f2257\n",
    "gwas_sbatch=$OUT_PATH/qc1_f2257_genoarray_$(date +\"%Y-%m-%d\").sbatch\n",
    "## Use qc'ed genotype array\n",
    "genoFile=$UKBB_yale/results/070921_pca_genotype_array/plinkqc_05_28_21/cache/UKB_genotypedatadownloaded083019.plinkqc_05_28_21.filtered.bed\n",
    "keep_samples=$UKBB_PATH/results/080621_pca_genoarray_HI/080421_UKBB_Hearing_aid_f3393_expandedwhite_6305cases_98082ctrl.keep_id\n",
    "#Keep the same variants as above\n",
    "keep_variants=$UKBB_yale/results/070921_pca_genotype_array/white_expanded_06_30_21_genoarray/cache/UKB_genotypedatadownloaded083019.plinkqc_05_28_21.filtered.white_expanded_06_30_21_genoarray.filtered.prune.in\n",
    "\n",
    "#GWAS QC variables set all of this variables to 0 to avoid doing more filtering\n",
    "maf_filter=0\n",
    "geno_filter=0\n",
    "hwe_filter=0\n",
    "mind_filter=0\n",
    "numThreads=1\n",
    "mem='30G'\n",
    "\n",
    "gwasqc_args=\"\"\"qc:1\n",
    "    --cwd $cwd\n",
    "    --genoFile $genoFile\n",
    "    --keep_samples $keep_samples\n",
    "    --keep_variants $keep_variants\n",
    "    --maf_filter $maf_filter\n",
    "    --geno_filter $geno_filter\n",
    "    --hwe_filter $hwe_filter\n",
    "    --mind_filter $mind_filter\n",
    "    --numThreads $numThreads \n",
    "    --job_size $job_size\n",
    "    --container_lmm $container_lmm\n",
    "    --mem $mem\n",
    "\"\"\"\n",
    "\n",
    "sos run $USER_PATH/UKBB_GWAS_dev/admin/Get_Job_Script.ipynb csg \\\n",
    "    --template-file $tpl_file \\\n",
    "    --workflow-file $gwasqc_sos \\\n",
    "    --to-script $gwas_sbatch \\\n",
    "    --args \"$gwasqc_args\""
   ]
  },
  {
   "cell_type": "markdown",
   "metadata": {
    "kernel": "Bash"
   },
   "source": [
    "#### Step 2: Get the PC's"
   ]
  },
  {
   "cell_type": "code",
   "execution_count": 14,
   "metadata": {
    "kernel": "Bash"
   },
   "outputs": [
    {
     "name": "stdout",
     "output_type": "stream",
     "text": [
      "INFO: Running \u001b[32mcsg\u001b[0m: Configuration for Columbia csg partition cluster\n",
      "INFO: \u001b[32mcsg\u001b[0m is \u001b[32mcompleted\u001b[0m.\n",
      "INFO: \u001b[32mcsg\u001b[0m output:   \u001b[32m/home/tf2478/pca/flashpca_f2257_genoarray_2021-08-10.sbatch\u001b[0m\n",
      "INFO: Workflow csg (ID=w0beb6d6cde13fddd) is executed successfully with 1 completed step.\n"
     ]
    }
   ],
   "source": [
    "## Yale's cluster\n",
    "#cwd=$UKBB_PATH/results/070921_pca_genotype_array/white_expanded_06_30_21_genoarray\n",
    "#This is the bfile originated after filtering unrelated individuals and pruning\n",
    "#genoFile=$UKBB_PATH/results/070921_pca_genotype_array/white_expanded_06_30_21_genoarray/cache/UKB_genotypedatadownloaded083019.plinkqc_05_28_21.filtered.white_expanded_06_30_21_genoarray.filtered.prune.bed\n",
    "## I had to modify the original file to add a super_pop and replace ethnicity for pop\n",
    "#phenoFile=$UKBB_PATH/phenotype_files/pleiotropy_R01/ukb43978_OCT2020/dc2325_phenotypes/030821_ukb42495_exomed_white_189010ind.pheno.new\n",
    "\n",
    "## Columbia's cluster\n",
    "cwd=$UKBB_PATH/results/080621_pca_genoarray_HI/f2257\n",
    "#This is the bfile originated after filtering unrelated individuals and pruning ending in *filtered.prune.bed\n",
    "genoFile=$UKBB_PATH/results/080621_pca_genoarray_HI/f2257/cache/UKB_genotypedatadownloaded083019.plinkqc_05_28_21.filtered.f2257.filtered.extracted.bed\n",
    "# Format FID, IID, pop, superpop\n",
    "phenoFile=$UKBB_PATH/results/080621_pca_genoarray_HI/080421_UKBB_Hearing_noise_f2257_expandedwhite_66656cases_98082ctrl.phenopca\n",
    "\n",
    "label_col=pop\n",
    "pop_col=pop\n",
    "pops=extended_white\n",
    "pca_sbatch=$OUT_PATH/flashpca_f2257_genoarray_$(date +\"%Y-%m-%d\").sbatch\n",
    "k=2\n",
    "maha_k=2\n",
    "min_axis=0\n",
    "max_axis=0\n",
    "\n",
    "pca_args=\"\"\"flashpca\n",
    "    --cwd $cwd\n",
    "    --genoFile $genoFile\n",
    "    --phenoFile $phenoFile\n",
    "    --k $k\n",
    "    --maha_k $maha_k\n",
    "    --label_col $label_col\n",
    "    --pop_col $pop_col\n",
    "    --pops $pops\n",
    "    --min_axis $min_axis\n",
    "    --max_axis $max_axis\n",
    "    --numThreads $numThreads \n",
    "    --job_size $job_size\n",
    "    --container_lmm $container_lmm\n",
    "\"\"\"\n",
    "\n",
    "sos run  $USER_PATH/UKBB_GWAS_dev/admin/Get_Job_Script.ipynb csg\\\n",
    "    --template-file $tpl_file \\\n",
    "    --workflow-file $pca_sos \\\n",
    "    --to-script $pca_sbatch \\\n",
    "    --args \"$pca_args\""
   ]
  },
  {
   "cell_type": "markdown",
   "metadata": {
    "kernel": "Bash"
   },
   "source": [
    "### f.2257 50K\n",
    "\n",
    "#### Step 1"
   ]
  },
  {
   "cell_type": "code",
   "execution_count": 9,
   "metadata": {
    "kernel": "Bash"
   },
   "outputs": [
    {
     "name": "stdout",
     "output_type": "stream",
     "text": [
      "INFO: Running \u001b[32mcsg\u001b[0m: Configuration for Columbia csg partition cluster\n",
      "INFO: \u001b[32mcsg\u001b[0m is \u001b[32mcompleted\u001b[0m.\n",
      "INFO: \u001b[32mcsg\u001b[0m output:   \u001b[32m/home/dmc2245/project/UKBB_GWAS_dev/output/qc1_f2257_genoarray_50K_2021-09-07.sbatch\u001b[0m\n",
      "INFO: Workflow csg (ID=wf7a442071013d36e) is executed successfully with 1 completed step.\n",
      "\n"
     ]
    }
   ],
   "source": [
    "## Columbia's cluster\n",
    "cwd=$UKBB_PATH/results/080621_pca_genoarray_HI/090721_f2257_50k\n",
    "gwas_sbatch=$OUT_PATH/qc1_f2257_genoarray_50K_$(date +\"%Y-%m-%d\").sbatch\n",
    "## Use qc'ed genotype array\n",
    "genoFile=$UKBB_yale/results/070921_pca_genotype_array/plinkqc_05_28_21/cache/UKB_genotypedatadownloaded083019.plinkqc_05_28_21.filtered.bed\n",
    "keep_samples=~/UKBiobank/phenotype_files/hearing_impairment/080421_UKBB_Hearing_noise_f2257_expandedwhite_39344ind_50Kexomes.keep_id\n",
    "#Keep the same variants as above\n",
    "keep_variants=$UKBB_yale/results/070921_pca_genotype_array/white_expanded_06_30_21_genoarray/cache/UKB_genotypedatadownloaded083019.plinkqc_05_28_21.filtered.white_expanded_06_30_21_genoarray.filtered.prune.in\n",
    "\n",
    "#GWAS QC variables set all of this variables to 0 to avoid doing more filtering\n",
    "maf_filter=0\n",
    "geno_filter=0\n",
    "hwe_filter=0\n",
    "mind_filter=0\n",
    "numThreads=1\n",
    "mem='30G'\n",
    "\n",
    "gwasqc_args=\"\"\"qc:1\n",
    "    --cwd $cwd\n",
    "    --genoFile $genoFile\n",
    "    --keep_samples $keep_samples\n",
    "    --keep_variants $keep_variants\n",
    "    --maf_filter $maf_filter\n",
    "    --geno_filter $geno_filter\n",
    "    --hwe_filter $hwe_filter\n",
    "    --mind_filter $mind_filter\n",
    "    --numThreads $numThreads \n",
    "    --job_size $job_size\n",
    "    --container_lmm $container_lmm\n",
    "    --mem $mem\n",
    "\"\"\"\n",
    "\n",
    "sos run $USER_PATH/UKBB_GWAS_dev/admin/Get_Job_Script.ipynb csg \\\n",
    "    --template-file $tpl_file \\\n",
    "    --workflow-file $gwasqc_sos \\\n",
    "    --to-script $gwas_sbatch \\\n",
    "    --args \"$gwasqc_args\""
   ]
  },
  {
   "cell_type": "markdown",
   "metadata": {
    "kernel": "Bash"
   },
   "source": [
    "#### Step 2"
   ]
  },
  {
   "cell_type": "code",
   "execution_count": 4,
   "metadata": {
    "kernel": "Bash"
   },
   "outputs": [
    {
     "name": "stdout",
     "output_type": "stream",
     "text": [
      "INFO: Running \u001b[32mcsg\u001b[0m: Configuration for Columbia csg partition cluster\n",
      "INFO: \u001b[32mcsg\u001b[0m is \u001b[32mcompleted\u001b[0m.\n",
      "INFO: \u001b[32mcsg\u001b[0m output:   \u001b[32m/home/dmc2245/project/UKBB_GWAS_dev/output/flashpca_f2257_genoarray_50K_2021-09-07.sbatch\u001b[0m\n",
      "INFO: Workflow csg (ID=wf2ebca4ad92fb2e5) is executed successfully with 1 completed step.\n",
      "\n"
     ]
    }
   ],
   "source": [
    "## Columbia's cluster\n",
    "cwd=$UKBB_PATH/results/080621_pca_genoarray_HI/090721_f2257_50k\n",
    "#This is the bfile originated after filtering unrelated individuals and pruning ending in *filtered.prune.bed\n",
    "genoFile=$UKBB_PATH/results/080621_pca_genoarray_HI/090721_f2257_50k/cache/UKB_genotypedatadownloaded083019.plinkqc_05_28_21.filtered.090721_f2257_50k.filtered.extracted.bed\n",
    "# Format FID, IID, pop, superpop\n",
    "phenoFile=$UKBB_PATH/results/080621_pca_genoarray_HI/080421_UKBB_Hearing_noise_f2257_expandedwhite_39344ind_50K.phenopca\n",
    "\n",
    "label_col=pop\n",
    "pop_col=pop\n",
    "pca_sbatch=$OUT_PATH/flashpca_f2257_genoarray_50K_$(date +\"%Y-%m-%d\").sbatch\n",
    "k=2\n",
    "maha_k=2\n",
    "min_axis=0\n",
    "max_axis=0\n",
    "\n",
    "pca_args=\"\"\"flashpca\n",
    "    --cwd $cwd\n",
    "    --genoFile $genoFile\n",
    "    --phenoFile $phenoFile\n",
    "    --k $k\n",
    "    --maha_k $maha_k\n",
    "    --label_col $label_col\n",
    "    --pop_col $pop_col\n",
    "    --min_axis $min_axis\n",
    "    --max_axis $max_axis\n",
    "    --numThreads $numThreads \n",
    "    --job_size $job_size\n",
    "    --container_lmm $container_lmm\n",
    "\"\"\"\n",
    "\n",
    "sos run  $USER_PATH/UKBB_GWAS_dev/admin/Get_Job_Script.ipynb csg\\\n",
    "    --template-file $tpl_file \\\n",
    "    --workflow-file $pca_sos \\\n",
    "    --to-script $pca_sbatch \\\n",
    "    --args \"$pca_args\""
   ]
  },
  {
   "cell_type": "markdown",
   "metadata": {
    "kernel": "Bash"
   },
   "source": [
    "### f.2257 150K\n",
    "\n",
    "#### Step 1"
   ]
  },
  {
   "cell_type": "code",
   "execution_count": 11,
   "metadata": {
    "kernel": "Bash"
   },
   "outputs": [
    {
     "name": "stdout",
     "output_type": "stream",
     "text": [
      "INFO: Running \u001b[32mcsg\u001b[0m: Configuration for Columbia csg partition cluster\n",
      "INFO: \u001b[32mcsg\u001b[0m (index=0) is \u001b[32mignored\u001b[0m due to saved signature\n",
      "INFO: \u001b[32mcsg\u001b[0m output:   \u001b[32m/home/dmc2245/project/UKBB_GWAS_dev/output/qc1_f2257_genoarray_150K_2021-09-07.sbatch\u001b[0m\n",
      "INFO: Workflow csg (ID=w16a91f2ae83f04f3) is ignored with 1 ignored step.\n",
      "\n"
     ]
    }
   ],
   "source": [
    "## Columbia's cluster\n",
    "cwd=$UKBB_PATH/results/080621_pca_genoarray_HI/090721_f2257_150k\n",
    "gwas_sbatch=$OUT_PATH/qc1_f2257_genoarray_150K_$(date +\"%Y-%m-%d\").sbatch\n",
    "## Use qc'ed genotype array\n",
    "genoFile=$UKBB_yale/results/070921_pca_genotype_array/plinkqc_05_28_21/cache/UKB_genotypedatadownloaded083019.plinkqc_05_28_21.filtered.bed\n",
    "keep_samples=~/UKBiobank/phenotype_files/hearing_impairment/080421_UKBB_Hearing_noise_f2257_expandedwhite_125394ind_150Kexomes.keep_id\n",
    "#Keep the same variants as above\n",
    "keep_variants=$UKBB_yale/results/070921_pca_genotype_array/white_expanded_06_30_21_genoarray/cache/UKB_genotypedatadownloaded083019.plinkqc_05_28_21.filtered.white_expanded_06_30_21_genoarray.filtered.prune.in\n",
    "\n",
    "#GWAS QC variables set all of this variables to 0 to avoid doing more filtering\n",
    "maf_filter=0\n",
    "geno_filter=0\n",
    "hwe_filter=0\n",
    "mind_filter=0\n",
    "numThreads=1\n",
    "mem='30G'\n",
    "\n",
    "gwasqc_args=\"\"\"qc:1\n",
    "    --cwd $cwd\n",
    "    --genoFile $genoFile\n",
    "    --keep_samples $keep_samples\n",
    "    --keep_variants $keep_variants\n",
    "    --maf_filter $maf_filter\n",
    "    --geno_filter $geno_filter\n",
    "    --hwe_filter $hwe_filter\n",
    "    --mind_filter $mind_filter\n",
    "    --numThreads $numThreads \n",
    "    --job_size $job_size\n",
    "    --container_lmm $container_lmm\n",
    "    --mem $mem\n",
    "\"\"\"\n",
    "\n",
    "sos run $USER_PATH/UKBB_GWAS_dev/admin/Get_Job_Script.ipynb csg \\\n",
    "    --template-file $tpl_file \\\n",
    "    --workflow-file $gwasqc_sos \\\n",
    "    --to-script $gwas_sbatch \\\n",
    "    --args \"$gwasqc_args\""
   ]
  },
  {
   "cell_type": "markdown",
   "metadata": {
    "kernel": "Bash"
   },
   "source": [
    "#### Step 2"
   ]
  },
  {
   "cell_type": "code",
   "execution_count": 5,
   "metadata": {
    "kernel": "Bash"
   },
   "outputs": [
    {
     "name": "stdout",
     "output_type": "stream",
     "text": [
      "INFO: Running \u001b[32mcsg\u001b[0m: Configuration for Columbia csg partition cluster\n",
      "INFO: \u001b[32mcsg\u001b[0m is \u001b[32mcompleted\u001b[0m.\n",
      "INFO: \u001b[32mcsg\u001b[0m output:   \u001b[32m/home/dmc2245/project/UKBB_GWAS_dev/output/flashpca_f2257_genoarray_150K_2021-09-07.sbatch\u001b[0m\n",
      "INFO: Workflow csg (ID=w2869a34a897f09f1) is executed successfully with 1 completed step.\n",
      "\n"
     ]
    }
   ],
   "source": [
    "## Columbia's cluster\n",
    "cwd=$UKBB_PATH/results/080621_pca_genoarray_HI/090721_f2257_150k\n",
    "#This is the bfile originated after filtering unrelated individuals and pruning ending in *filtered.prune.bed\n",
    "genoFile=$UKBB_PATH/results/080621_pca_genoarray_HI/090721_f2257_150k/cache/UKB_genotypedatadownloaded083019.plinkqc_05_28_21.filtered.090721_f2257_150k.filtered.extracted.bed\n",
    "# Format FID, IID, pop, superpop\n",
    "phenoFile=$UKBB_PATH/results/080621_pca_genoarray_HI/080421_UKBB_Hearing_noise_f2257_expandedwhite_125394ind_150K.phenopca\n",
    "\n",
    "label_col=pop\n",
    "pop_col=pop\n",
    "pca_sbatch=$OUT_PATH/flashpca_f2257_genoarray_150K_$(date +\"%Y-%m-%d\").sbatch\n",
    "k=2\n",
    "maha_k=2\n",
    "min_axis=0\n",
    "max_axis=0\n",
    "\n",
    "pca_args=\"\"\"flashpca\n",
    "    --cwd $cwd\n",
    "    --genoFile $genoFile\n",
    "    --phenoFile $phenoFile\n",
    "    --k $k\n",
    "    --maha_k $maha_k\n",
    "    --label_col $label_col\n",
    "    --pop_col $pop_col\n",
    "    --min_axis $min_axis\n",
    "    --max_axis $max_axis\n",
    "    --numThreads $numThreads \n",
    "    --job_size $job_size\n",
    "    --container_lmm $container_lmm\n",
    "\"\"\"\n",
    "\n",
    "sos run  $USER_PATH/UKBB_GWAS_dev/admin/Get_Job_Script.ipynb csg\\\n",
    "    --template-file $tpl_file \\\n",
    "    --workflow-file $pca_sos \\\n",
    "    --to-script $pca_sbatch \\\n",
    "    --args \"$pca_args\""
   ]
  },
  {
   "cell_type": "markdown",
   "metadata": {
    "kernel": "Bash"
   },
   "source": [
    "### Combined f.2247 and f.2257\n",
    "\n",
    "#### Step 1. Produce the genotype file keeping specific samples and variants"
   ]
  },
  {
   "cell_type": "code",
   "execution_count": 26,
   "metadata": {
    "kernel": "Bash"
   },
   "outputs": [
    {
     "name": "stdout",
     "output_type": "stream",
     "text": [
      "INFO: Running \u001b[32mcsg\u001b[0m: Configuration for Columbia csg partition cluster\n",
      "INFO: \u001b[32mcsg\u001b[0m is \u001b[32mcompleted\u001b[0m.\n",
      "INFO: \u001b[32mcsg\u001b[0m output:   \u001b[32m/home/tf2478/pca/qc1_f2247_f2257_genoarray_2021-08-06.sbatch\u001b[0m\n",
      "INFO: Workflow csg (ID=w33ca191312732348) is executed successfully with 1 completed step.\n"
     ]
    }
   ],
   "source": [
    "##Yale's cluster\n",
    "#cwd=$UKBB_PATH/results/070921_pca_genotype_array/white_expanded_related_06_30_21_genoarray\n",
    "## Use qc'ed genotype array\n",
    "#genoFile=$UKBB_PATH/results/070921_pca_genotype_array/plinkqc_05_28_21/cache/UKB_genotypedatadownloaded083019.plinkqc_05_28_21.filtered.bed\n",
    "## phenoFile=$UKBB_PATH/phenotype_files/pleiotropy_R01/ukb43978_OCT2020/dc2325_phenotypes/030821_ukb42495_exomed_white_189010ind.pheno\n",
    "#keep_samples=$UKBB_PATH/results/070921_pca_genotype_array/king_05_28_21/UKB_genotypedatadownloaded083019.plinkqc_05_28_21.filtered.king_05_28_21.related_id\n",
    "#Keep the same variants as above\n",
    "#keep_variants=$UKBB_PATH/results/070921_pca_genotype_array/white_expanded_06_30_21_genoarray/cache/UKB_genotypedatadownloaded083019.plinkqc_05_28_21.filtered.white_expanded_06_30_21_genoarray.filtered.prune.in\n",
    "\n",
    "## Columbia's cluster\n",
    "cwd=$UKBB_PATH/results/080621_pca_genoarray_HI/f2247_f2257\n",
    "gwas_sbatch=$OUT_PATH/qc1_f2247_f2257_genoarray_$(date +\"%Y-%m-%d\").sbatch\n",
    "## Use qc'ed genotype array\n",
    "genoFile=$UKBB_yale/results/070921_pca_genotype_array/plinkqc_05_28_21/cache/UKB_genotypedatadownloaded083019.plinkqc_05_28_21.filtered.bed\n",
    "keep_samples=$UKBB_PATH/results/080621_pca_genoarray_HI/080421_UKBB_Combined_f2247_f2257_expandedwhite_39049cases_98082ctrl.keep_id\n",
    "#Keep the same variants as above\n",
    "keep_variants=$UKBB_yale/results/070921_pca_genotype_array/white_expanded_06_30_21_genoarray/cache/UKB_genotypedatadownloaded083019.plinkqc_05_28_21.filtered.white_expanded_06_30_21_genoarray.filtered.prune.in\n",
    "\n",
    "#GWAS QC variables set all of this variables to 0 to avoid doing more filtering\n",
    "maf_filter=0\n",
    "geno_filter=0\n",
    "hwe_filter=0\n",
    "mind_filter=0\n",
    "numThreads=1\n",
    "mem='30G'\n",
    "\n",
    "gwasqc_args=\"\"\"qc:1\n",
    "    --cwd $cwd\n",
    "    --genoFile $genoFile\n",
    "    --keep_samples $keep_samples\n",
    "    --keep_variants $keep_variants\n",
    "    --maf_filter $maf_filter\n",
    "    --geno_filter $geno_filter\n",
    "    --hwe_filter $hwe_filter\n",
    "    --mind_filter $mind_filter\n",
    "    --numThreads $numThreads \n",
    "    --job_size $job_size\n",
    "    --container_lmm $container_lmm\n",
    "    --mem $mem\n",
    "\"\"\"\n",
    "\n",
    "sos run $USER_PATH/UKBB_GWAS_dev/admin/Get_Job_Script.ipynb csg \\\n",
    "    --template-file $tpl_file \\\n",
    "    --workflow-file $gwasqc_sos \\\n",
    "    --to-script $gwas_sbatch \\\n",
    "    --args \"$gwasqc_args\""
   ]
  },
  {
   "cell_type": "markdown",
   "metadata": {
    "kernel": "Bash"
   },
   "source": [
    "#### Step 2: Get the PC's"
   ]
  },
  {
   "cell_type": "code",
   "execution_count": null,
   "metadata": {
    "kernel": "Bash"
   },
   "outputs": [
    {
     "name": "stderr",
     "output_type": "stream",
     "text": [
      "[MetaKernelApp] ERROR | KeyboardInterrupt caught in kernel.\n"
     ]
    }
   ],
   "source": [
    "## Yale's cluster\n",
    "#cwd=$UKBB_PATH/results/070921_pca_genotype_array/white_expanded_06_30_21_genoarray\n",
    "#This is the bfile originated after filtering unrelated individuals and pruning\n",
    "#genoFile=$UKBB_PATH/results/070921_pca_genotype_array/white_expanded_06_30_21_genoarray/cache/UKB_genotypedatadownloaded083019.plinkqc_05_28_21.filtered.white_expanded_06_30_21_genoarray.filtered.prune.bed\n",
    "## I had to modify the original file to add a super_pop and replace ethnicity for pop\n",
    "#phenoFile=$UKBB_PATH/phenotype_files/pleiotropy_R01/ukb43978_OCT2020/dc2325_phenotypes/030821_ukb42495_exomed_white_189010ind.pheno.new\n",
    "\n",
    "## Columbia's cluster\n",
    "cwd=$UKBB_PATH/results/080621_pca_genoarray_HI/f2247_f2257\n",
    "#This is the bfile originated after filtering unrelated individuals and pruning ending in *filtered.prune.bed\n",
    "genoFile=$UKBB_PATH/results/080621_pca_genoarray_HI/f2247_f2257/cache/UKB_genotypedatadownloaded083019.plinkqc_05_28_21.filtered.f2247_f2257.filtered.extracted.bed\n",
    "# Format FID, IID, pop, superpop\n",
    "phenoFile=$UKBB_PATH/results/080621_pca_genoarray_HI/080421_UKBB_Combined_f2247_f2257_expandedwhite_39049cases_98082ctrl.phenopca\n",
    "\n",
    "label_col=pop\n",
    "pop_col=pop\n",
    "pops=extended_white\n",
    "pca_sbatch=$OUT_PATH/flashpca_f2247_f2257_genoarray_$(date +\"%Y-%m-%d\").sbatch\n",
    "k=2\n",
    "maha_k=2\n",
    "min_axis=0\n",
    "max_axis=0\n",
    "\n",
    "pca_args=\"\"\"flashpca\n",
    "    --cwd $cwd\n",
    "    --genoFile $genoFile\n",
    "    --phenoFile $phenoFile\n",
    "    --k $k\n",
    "    --maha_k $maha_k\n",
    "    --label_col $label_col\n",
    "    --pop_col $pop_col\n",
    "    --pops $pops\n",
    "    --min_axis $min_axis\n",
    "    --max_axis $max_axis\n",
    "    --numThreads $numThreads \n",
    "    --job_size $job_size\n",
    "    --container_lmm $container_lmm\n",
    "\"\"\"\n",
    "\n",
    "sos run  $USER_PATH/UKBB_GWAS_dev/admin/Get_Job_Script.ipynb csg\\\n",
    "    --template-file $tpl_file \\\n",
    "    --workflow-file $pca_sos \\\n",
    "    --to-script $pca_sbatch \\\n",
    "    --args \"$pca_args\""
   ]
  },
  {
   "cell_type": "markdown",
   "metadata": {
    "kernel": "Bash"
   },
   "source": [
    "### Combined 50K\n",
    "\n",
    "#### Step 1"
   ]
  },
  {
   "cell_type": "code",
   "execution_count": 12,
   "metadata": {
    "kernel": "Bash"
   },
   "outputs": [
    {
     "name": "stdout",
     "output_type": "stream",
     "text": [
      "INFO: Running \u001b[32mcsg\u001b[0m: Configuration for Columbia csg partition cluster\n",
      "INFO: \u001b[32mcsg\u001b[0m is \u001b[32mcompleted\u001b[0m.\n",
      "INFO: \u001b[32mcsg\u001b[0m output:   \u001b[32m/home/dmc2245/project/UKBB_GWAS_dev/output/qc1_f2247_f2257_genoarray_50K_2021-09-07.sbatch\u001b[0m\n",
      "INFO: Workflow csg (ID=wb8829af0783f6ffe) is executed successfully with 1 completed step.\n",
      "\n"
     ]
    }
   ],
   "source": [
    "## Columbia's cluster\n",
    "cwd=$UKBB_PATH/results/080621_pca_genoarray_HI/090721_f2247_f2257_50K\n",
    "gwas_sbatch=$OUT_PATH/qc1_f2247_f2257_genoarray_50K_$(date +\"%Y-%m-%d\").sbatch\n",
    "## Use qc'ed genotype array\n",
    "genoFile=$UKBB_yale/results/070921_pca_genotype_array/plinkqc_05_28_21/cache/UKB_genotypedatadownloaded083019.plinkqc_05_28_21.filtered.bed\n",
    "keep_samples=~/UKBiobank/phenotype_files/hearing_impairment/080421_UKBB_Combined_f2247_f2257_expandedwhite_33399ind_50Kexomes.keep_id\n",
    "#Keep the same variants as above\n",
    "keep_variants=$UKBB_yale/results/070921_pca_genotype_array/white_expanded_06_30_21_genoarray/cache/UKB_genotypedatadownloaded083019.plinkqc_05_28_21.filtered.white_expanded_06_30_21_genoarray.filtered.prune.in\n",
    "\n",
    "#GWAS QC variables set all of this variables to 0 to avoid doing more filtering\n",
    "maf_filter=0\n",
    "geno_filter=0\n",
    "hwe_filter=0\n",
    "mind_filter=0\n",
    "numThreads=1\n",
    "mem='30G'\n",
    "\n",
    "gwasqc_args=\"\"\"qc:1\n",
    "    --cwd $cwd\n",
    "    --genoFile $genoFile\n",
    "    --keep_samples $keep_samples\n",
    "    --keep_variants $keep_variants\n",
    "    --maf_filter $maf_filter\n",
    "    --geno_filter $geno_filter\n",
    "    --hwe_filter $hwe_filter\n",
    "    --mind_filter $mind_filter\n",
    "    --numThreads $numThreads \n",
    "    --job_size $job_size\n",
    "    --container_lmm $container_lmm\n",
    "    --mem $mem\n",
    "\"\"\"\n",
    "\n",
    "sos run $USER_PATH/UKBB_GWAS_dev/admin/Get_Job_Script.ipynb csg \\\n",
    "    --template-file $tpl_file \\\n",
    "    --workflow-file $gwasqc_sos \\\n",
    "    --to-script $gwas_sbatch \\\n",
    "    --args \"$gwasqc_args\""
   ]
  },
  {
   "cell_type": "markdown",
   "metadata": {
    "kernel": "Bash"
   },
   "source": [
    "#### Step 2"
   ]
  },
  {
   "cell_type": "code",
   "execution_count": 5,
   "metadata": {
    "kernel": "Bash"
   },
   "outputs": [
    {
     "name": "stdout",
     "output_type": "stream",
     "text": [
      "INFO: Running \u001b[32mcsg\u001b[0m: Configuration for Columbia csg partition cluster\n",
      "INFO: \u001b[32mcsg\u001b[0m is \u001b[32mcompleted\u001b[0m.\n",
      "INFO: \u001b[32mcsg\u001b[0m output:   \u001b[32m/home/dmc2245/project/UKBB_GWAS_dev/output/flashpca_f2247_f2257_genoarray_50K_2021-09-07.sbatch\u001b[0m\n",
      "INFO: Workflow csg (ID=w28b3f40fb289286a) is executed successfully with 1 completed step.\n",
      "\n"
     ]
    }
   ],
   "source": [
    "## Columbia's cluster\n",
    "cwd=$UKBB_PATH/results/080621_pca_genoarray_HI/090721_f2247_f2257_50K\n",
    "#This is the bfile originated after filtering unrelated individuals and pruning ending in *filtered.prune.bed\n",
    "genoFile=$UKBB_PATH/results/080621_pca_genoarray_HI/090721_f2247_f2257_50K/cache/UKB_genotypedatadownloaded083019.plinkqc_05_28_21.filtered.090721_f2247_f2257_50K.filtered.extracted.bed\n",
    "# Format FID, IID, pop, superpop\n",
    "phenoFile=$UKBB_PATH/results/080621_pca_genoarray_HI/080421_UKBB_Combined_f2247_f2257_expandedwhite_33399ind_50K.phenopca\n",
    "\n",
    "label_col=pop\n",
    "pop_col=pop\n",
    "pca_sbatch=$OUT_PATH/flashpca_f2247_f2257_genoarray_50K_$(date +\"%Y-%m-%d\").sbatch\n",
    "k=2\n",
    "maha_k=2\n",
    "min_axis=0\n",
    "max_axis=0\n",
    "\n",
    "pca_args=\"\"\"flashpca\n",
    "    --cwd $cwd\n",
    "    --genoFile $genoFile\n",
    "    --phenoFile $phenoFile\n",
    "    --k $k\n",
    "    --maha_k $maha_k\n",
    "    --label_col $label_col\n",
    "    --pop_col $pop_col\n",
    "    --min_axis $min_axis\n",
    "    --max_axis $max_axis\n",
    "    --numThreads $numThreads \n",
    "    --job_size $job_size\n",
    "    --container_lmm $container_lmm\n",
    "\"\"\"\n",
    "\n",
    "sos run  $USER_PATH/UKBB_GWAS_dev/admin/Get_Job_Script.ipynb csg\\\n",
    "    --template-file $tpl_file \\\n",
    "    --workflow-file $pca_sos \\\n",
    "    --to-script $pca_sbatch \\\n",
    "    --args \"$pca_args\""
   ]
  },
  {
   "cell_type": "markdown",
   "metadata": {
    "kernel": "Bash"
   },
   "source": [
    "### Combined 150K\n",
    "\n",
    "#### Step 1"
   ]
  },
  {
   "cell_type": "code",
   "execution_count": 7,
   "metadata": {
    "kernel": "Bash"
   },
   "outputs": [
    {
     "name": "stdout",
     "output_type": "stream",
     "text": [
      "INFO: Running \u001b[32mcsg\u001b[0m: Configuration for Columbia csg partition cluster\n",
      "INFO: \u001b[32mcsg\u001b[0m (index=0) is \u001b[32mignored\u001b[0m due to saved signature\n",
      "INFO: \u001b[32mcsg\u001b[0m output:   \u001b[32m/home/dmc2245/project/UKBB_GWAS_dev/output/qc1_f2247_f2257_genoarray_150K2021-09-07.sbatch\u001b[0m\n",
      "INFO: Workflow csg (ID=w17799829d36f4355) is ignored with 1 ignored step.\n",
      "\n"
     ]
    }
   ],
   "source": [
    "## Columbia's cluster\n",
    "cwd=$UKBB_PATH/results/080621_pca_genoarray_HI/090721_f2247_f2257_150K\n",
    "gwas_sbatch=$OUT_PATH/qc1_f2247_f2257_genoarray_150K$(date +\"%Y-%m-%d\").sbatch\n",
    "## Use qc'ed genotype array\n",
    "genoFile=$UKBB_yale/results/070921_pca_genotype_array/plinkqc_05_28_21/cache/UKB_genotypedatadownloaded083019.plinkqc_05_28_21.filtered.bed\n",
    "keep_samples=~/UKBiobank/phenotype_files/hearing_impairment/080421_UKBB_Combined_f2247_f2257_expandedwhite_103732ind_150Kexomes.keep_id\n",
    "#Keep the same variants as above\n",
    "keep_variants=$UKBB_yale/results/070921_pca_genotype_array/white_expanded_06_30_21_genoarray/cache/UKB_genotypedatadownloaded083019.plinkqc_05_28_21.filtered.white_expanded_06_30_21_genoarray.filtered.prune.in\n",
    "\n",
    "#GWAS QC variables set all of this variables to 0 to avoid doing more filtering\n",
    "maf_filter=0\n",
    "geno_filter=0\n",
    "hwe_filter=0\n",
    "mind_filter=0\n",
    "numThreads=1\n",
    "mem='30G'\n",
    "\n",
    "gwasqc_args=\"\"\"qc:1\n",
    "    --cwd $cwd\n",
    "    --genoFile $genoFile\n",
    "    --keep_samples $keep_samples\n",
    "    --keep_variants $keep_variants\n",
    "    --maf_filter $maf_filter\n",
    "    --geno_filter $geno_filter\n",
    "    --hwe_filter $hwe_filter\n",
    "    --mind_filter $mind_filter\n",
    "    --numThreads $numThreads \n",
    "    --job_size $job_size\n",
    "    --container_lmm $container_lmm\n",
    "    --mem $mem\n",
    "\"\"\"\n",
    "\n",
    "sos run $USER_PATH/UKBB_GWAS_dev/admin/Get_Job_Script.ipynb csg \\\n",
    "    --template-file $tpl_file \\\n",
    "    --workflow-file $gwasqc_sos \\\n",
    "    --to-script $gwas_sbatch \\\n",
    "    --args \"$gwasqc_args\""
   ]
  },
  {
   "cell_type": "markdown",
   "metadata": {
    "kernel": "Bash"
   },
   "source": [
    "#### Step 2"
   ]
  },
  {
   "cell_type": "code",
   "execution_count": 6,
   "metadata": {
    "kernel": "Bash"
   },
   "outputs": [
    {
     "name": "stdout",
     "output_type": "stream",
     "text": [
      "INFO: Running \u001b[32mcsg\u001b[0m: Configuration for Columbia csg partition cluster\n",
      "INFO: \u001b[32mcsg\u001b[0m is \u001b[32mcompleted\u001b[0m.\n",
      "INFO: \u001b[32mcsg\u001b[0m output:   \u001b[32m/home/dmc2245/project/UKBB_GWAS_dev/output/flashpca_f2247_f2257_genoarray_150K_2021-09-07.sbatch\u001b[0m\n",
      "INFO: Workflow csg (ID=w319b847dbf4637b7) is executed successfully with 1 completed step.\n",
      "\n"
     ]
    }
   ],
   "source": [
    "## Columbia's cluster\n",
    "cwd=$UKBB_PATH/results/080621_pca_genoarray_HI/090721_f2247_f2257_150K\n",
    "#This is the bfile originated after filtering unrelated individuals and pruning ending in *filtered.prune.bed\n",
    "genoFile=$UKBB_PATH/results/080621_pca_genoarray_HI/090721_f2247_f2257_150K/cache/UKB_genotypedatadownloaded083019.plinkqc_05_28_21.filtered.090721_f2247_f2257_150K.filtered.extracted.bed\n",
    "# Format FID, IID, pop, superpop\n",
    "phenoFile=$UKBB_PATH/results/080621_pca_genoarray_HI/080421_UKBB_Combined_f2247_f2257_expandedwhite_103732ind_150K.phenopca\n",
    "\n",
    "label_col=pop\n",
    "pop_col=pop\n",
    "pca_sbatch=$OUT_PATH/flashpca_f2247_f2257_genoarray_150K_$(date +\"%Y-%m-%d\").sbatch\n",
    "k=2\n",
    "maha_k=2\n",
    "min_axis=0\n",
    "max_axis=0\n",
    "\n",
    "pca_args=\"\"\"flashpca\n",
    "    --cwd $cwd\n",
    "    --genoFile $genoFile\n",
    "    --phenoFile $phenoFile\n",
    "    --k $k\n",
    "    --maha_k $maha_k\n",
    "    --label_col $label_col\n",
    "    --pop_col $pop_col\n",
    "    --min_axis $min_axis\n",
    "    --max_axis $max_axis\n",
    "    --numThreads $numThreads \n",
    "    --job_size $job_size\n",
    "    --container_lmm $container_lmm\n",
    "\"\"\"\n",
    "\n",
    "sos run  $USER_PATH/UKBB_GWAS_dev/admin/Get_Job_Script.ipynb csg\\\n",
    "    --template-file $tpl_file \\\n",
    "    --workflow-file $pca_sos \\\n",
    "    --to-script $pca_sbatch \\\n",
    "    --args \"$pca_args\""
   ]
  },
  {
   "cell_type": "markdown",
   "metadata": {
    "kernel": "Bash"
   },
   "source": [
    "### Mendelian\n",
    "\n",
    "#### Step 1. Produce the genotype file keeping specific samples and variants"
   ]
  },
  {
   "cell_type": "code",
   "execution_count": 27,
   "metadata": {
    "kernel": "Bash"
   },
   "outputs": [
    {
     "name": "stdout",
     "output_type": "stream",
     "text": [
      "INFO: Running \u001b[32mcsg\u001b[0m: Configuration for Columbia csg partition cluster\n",
      "INFO: \u001b[32mcsg\u001b[0m is \u001b[32mcompleted\u001b[0m.\n",
      "INFO: \u001b[32mcsg\u001b[0m output:   \u001b[32m/home/tf2478/pca/qc1_mendelian_genoarray_2021-08-06.sbatch\u001b[0m\n",
      "INFO: Workflow csg (ID=wd82d336f7549f02a) is executed successfully with 1 completed step.\n"
     ]
    }
   ],
   "source": [
    "##Yale's cluster\n",
    "#cwd=$UKBB_PATH/results/070921_pca_genotype_array/white_expanded_related_06_30_21_genoarray\n",
    "## Use qc'ed genotype array\n",
    "#genoFile=$UKBB_PATH/results/070921_pca_genotype_array/plinkqc_05_28_21/cache/UKB_genotypedatadownloaded083019.plinkqc_05_28_21.filtered.bed\n",
    "## phenoFile=$UKBB_PATH/phenotype_files/pleiotropy_R01/ukb43978_OCT2020/dc2325_phenotypes/030821_ukb42495_exomed_white_189010ind.pheno\n",
    "#keep_samples=$UKBB_PATH/results/070921_pca_genotype_array/king_05_28_21/UKB_genotypedatadownloaded083019.plinkqc_05_28_21.filtered.king_05_28_21.related_id\n",
    "#Keep the same variants as above\n",
    "#keep_variants=$UKBB_PATH/results/070921_pca_genotype_array/white_expanded_06_30_21_genoarray/cache/UKB_genotypedatadownloaded083019.plinkqc_05_28_21.filtered.white_expanded_06_30_21_genoarray.filtered.prune.in\n",
    "\n",
    "## Columbia's cluster\n",
    "cwd=$UKBB_PATH/results/080621_pca_genoarray_HI/mendelian\n",
    "gwas_sbatch=$OUT_PATH/qc1_mendelian_genoarray_$(date +\"%Y-%m-%d\").sbatch\n",
    "## Use qc'ed genotype array\n",
    "genoFile=$UKBB_yale/results/070921_pca_genotype_array/plinkqc_05_28_21/cache/UKB_genotypedatadownloaded083019.plinkqc_05_28_21.filtered.bed\n",
    "keep_samples=$UKBB_PATH/results/080621_pca_genoarray_HI/080421_UKBB_Mendelian_expandedwhite_1520cases_98082ctrl.keep_id\n",
    "#Keep the same variants as above\n",
    "keep_variants=$UKBB_yale/results/070921_pca_genotype_array/white_expanded_06_30_21_genoarray/cache/UKB_genotypedatadownloaded083019.plinkqc_05_28_21.filtered.white_expanded_06_30_21_genoarray.filtered.prune.in\n",
    "\n",
    "#GWAS QC variables set all of this variables to 0 to avoid doing more filtering\n",
    "maf_filter=0\n",
    "geno_filter=0\n",
    "hwe_filter=0\n",
    "mind_filter=0\n",
    "numThreads=1\n",
    "mem='30G'\n",
    "\n",
    "gwasqc_args=\"\"\"qc:1\n",
    "    --cwd $cwd\n",
    "    --genoFile $genoFile\n",
    "    --keep_samples $keep_samples\n",
    "    --keep_variants $keep_variants\n",
    "    --maf_filter $maf_filter\n",
    "    --geno_filter $geno_filter\n",
    "    --hwe_filter $hwe_filter\n",
    "    --mind_filter $mind_filter\n",
    "    --numThreads $numThreads \n",
    "    --job_size $job_size\n",
    "    --container_lmm $container_lmm\n",
    "    --mem $mem\n",
    "\"\"\"\n",
    "\n",
    "sos run $USER_PATH/UKBB_GWAS_dev/admin/Get_Job_Script.ipynb csg \\\n",
    "    --template-file $tpl_file \\\n",
    "    --workflow-file $gwasqc_sos \\\n",
    "    --to-script $gwas_sbatch \\\n",
    "    --args \"$gwasqc_args\""
   ]
  },
  {
   "cell_type": "markdown",
   "metadata": {
    "kernel": "Bash"
   },
   "source": [
    "#### Step 2: Get the PC's"
   ]
  },
  {
   "cell_type": "code",
   "execution_count": 7,
   "metadata": {
    "kernel": "Bash"
   },
   "outputs": [
    {
     "name": "stdout",
     "output_type": "stream",
     "text": [
      "INFO: Running \u001b[32mcsg\u001b[0m: Configuration for Columbia csg partition cluster\n",
      "INFO: \u001b[32mcsg\u001b[0m is \u001b[32mcompleted\u001b[0m.\n",
      "INFO: \u001b[32mcsg\u001b[0m output:   \u001b[32m/home/tf2478/pca/flashpca_mendelian_genoarray_2021-08-06.sbatch\u001b[0m\n",
      "INFO: Workflow csg (ID=w9670c3d5696c82f5) is executed successfully with 1 completed step.\n"
     ]
    }
   ],
   "source": [
    "## Yale's cluster\n",
    "#cwd=$UKBB_PATH/results/070921_pca_genotype_array/white_expanded_06_30_21_genoarray\n",
    "#This is the bfile originated after filtering unrelated individuals and pruning\n",
    "#genoFile=$UKBB_PATH/results/070921_pca_genotype_array/white_expanded_06_30_21_genoarray/cache/UKB_genotypedatadownloaded083019.plinkqc_05_28_21.filtered.white_expanded_06_30_21_genoarray.filtered.prune.bed\n",
    "## I had to modify the original file to add a super_pop and replace ethnicity for pop\n",
    "#phenoFile=$UKBB_PATH/phenotype_files/pleiotropy_R01/ukb43978_OCT2020/dc2325_phenotypes/030821_ukb42495_exomed_white_189010ind.pheno.new\n",
    "\n",
    "## Columbia's cluster\n",
    "cwd=$UKBB_PATH/results/080621_pca_genoarray_HI/mendelian\n",
    "#This is the bfile originated after filtering unrelated individuals and pruning ending in *filtered.prune.bed\n",
    "genoFile=$UKBB_PATH/results/080621_pca_genoarray_HI/mendelian/cache/UKB_genotypedatadownloaded083019.plinkqc_05_28_21.filtered.mendelian.filtered.extracted.bed\n",
    "# Format FID, IID, pop, superpop\n",
    "phenoFile=$UKBB_PATH/results/080621_pca_genoarray_HI/080421_UKBB_Mendelian_expandedwhite_1520cases_98082ctrl.phenopca\n",
    "\n",
    "label_col=pop\n",
    "pop_col=pop\n",
    "pops=extended_white\n",
    "pca_sbatch=$OUT_PATH/flashpca_mendelian_genoarray_$(date +\"%Y-%m-%d\").sbatch\n",
    "k=2\n",
    "maha_k=2\n",
    "min_axis=\n",
    "max_axis=\n",
    "\n",
    "pca_args=\"\"\"flashpca\n",
    "    --cwd $cwd\n",
    "    --genoFile $genoFile\n",
    "    --phenoFile $phenoFile\n",
    "    --k $k\n",
    "    --maha_k $maha_k\n",
    "    --label_col $label_col\n",
    "    --pop_col $pop_col\n",
    "    --pops $pops\n",
    "    --min_axis $min_axis\n",
    "    --max_axis $max_axis\n",
    "    --numThreads $numThreads \n",
    "    --job_size $job_size\n",
    "    --container_lmm $container_lmm\n",
    "\"\"\"\n",
    "\n",
    "sos run  $USER_PATH/UKBB_GWAS_dev/admin/Get_Job_Script.ipynb csg\\\n",
    "    --template-file $tpl_file \\\n",
    "    --workflow-file $pca_sos \\\n",
    "    --to-script $pca_sbatch \\\n",
    "    --args \"$pca_args\""
   ]
  },
  {
   "cell_type": "markdown",
   "metadata": {
    "kernel": "Bash"
   },
   "source": [
    "## 08-30-21 Run with QC'ed genotype array data"
   ]
  },
  {
   "cell_type": "markdown",
   "metadata": {
    "kernel": "Bash"
   },
   "source": [
    "### Merge QC'ed exome bed file to assess sample missingess"
   ]
  },
  {
   "cell_type": "code",
   "execution_count": 5,
   "metadata": {
    "kernel": "Bash"
   },
   "outputs": [
    {
     "name": "stdout",
     "output_type": "stream",
     "text": [
      "INFO: Running \u001b[32mcsg\u001b[0m: Configuration for Columbia csg partition cluster\n",
      "INFO: \u001b[32mcsg\u001b[0m is \u001b[32mcompleted\u001b[0m.\n",
      "INFO: \u001b[32mcsg\u001b[0m output:   \u001b[32m/home/dmc2245/project/UKBB_GWAS_dev/output/merged_qc_exomes_2021-09-02.sbatch\u001b[0m\n",
      "INFO: Workflow csg (ID=we00f5e940d3f54a6) is executed successfully with 1 completed step.\n",
      "\n"
     ]
    }
   ],
   "source": [
    "## Columbia's cluster\n",
    "cwd=~/UKBiobank/data/exome_files/project_VCF/072721_run/merged_plink\n",
    "genoFile=`echo ~/UKBiobank/data/exome_files/project_VCF/072721_run/plink/ukb23156_c{1..22}.merged.filtered.bed`\n",
    "gwas_sbatch=$OUT_PATH/merged_qc_exomes_$(date +\"%Y-%m-%d\").sbatch\n",
    "numThreads=20\n",
    "mem='60G'\n",
    "walltime='60h'\n",
    "merged_prefix='ukb23155_qc_merged'\n",
    "\n",
    "gwasqc_args=\"\"\"merge_plink\n",
    "    --cwd $cwd\n",
    "    --genoFile $genoFile\n",
    "    --numThreads $numThreads \n",
    "    --job_size $job_size\n",
    "    --container_lmm $container_lmm\n",
    "    --mem $mem\n",
    "    --walltime $walltime\n",
    "    --merged_prefix $merged_prefix\n",
    "\"\"\"\n",
    "\n",
    "sos run ~/project/UKBB_GWAS_dev/admin/Get_Job_Script.ipynb csg\\\n",
    "    --template-file $tpl_file \\\n",
    "    --workflow-file $gwasqc_sos \\\n",
    "    --to-script $gwas_sbatch \\\n",
    "    --args \"$gwasqc_args\""
   ]
  },
  {
   "cell_type": "markdown",
   "metadata": {
    "kernel": "Bash"
   },
   "source": [
    "## Step 1. Select \"European individuals\" from genotype array data"
   ]
  },
  {
   "cell_type": "code",
   "execution_count": 9,
   "metadata": {
    "kernel": "Bash"
   },
   "outputs": [
    {
     "name": "stdout",
     "output_type": "stream",
     "text": [
      "INFO: Running \u001b[32mcsg\u001b[0m: Configuration for Columbia csg partition cluster\n",
      "INFO: \u001b[32mcsg\u001b[0m is \u001b[32mcompleted\u001b[0m.\n",
      "INFO: \u001b[32mcsg\u001b[0m output:   \u001b[32m/home/dmc2245/project/UKBB_GWAS_dev/output/select_europeans_qcbed_2021-09-02.sbatch\u001b[0m\n",
      "INFO: Workflow csg (ID=w2a67ebea54c884ff) is executed successfully with 1 completed step.\n",
      "\n"
     ]
    }
   ],
   "source": [
    "#Columbia's cluster\n",
    "cwd=$UKBB_PATH/results/083021_PCA_results/europeans\n",
    "#bfile with sample and variants QC from 083021 containing all of the samples Columbias's cluster\n",
    "##here I used the bfile in which individuals with call rate >90% were retained\n",
    "genoFile=~/UKBiobank/genotype_files_processed/090221_sample_variant_qc_final_callrate90/cache/UKB_genotypedatadownloaded083019.090221_sample_variant_qc_final_callrate90.filtered.extracted.bed\n",
    "#To keep the samples of white individuals only\n",
    "keep_samples=$UKBB_yale/pleiotropy_R01/ukb43978_OCT2020/dc2325_phenotypes/030821_ukb42495_exomed_white_189010ind\n",
    "#QC is already done, so no need to filter any more\n",
    "maf_filter=0\n",
    "geno_filter=0\n",
    "hwe_filter=0\n",
    "mind_filter=0\n",
    "mem='30G'\n",
    "gwasqc_sos=$USER_PATH/bioworkflows/GWAS/GWAS_QC.ipynb\n",
    "gwasqc_sbatch=$USER_PATH/UKBB_GWAS_dev/output/select_europeans_qcbed_$(date +\"%Y-%m-%d\").sbatch\n",
    "\n",
    "gwasqc1_args=\"\"\"qc:1\n",
    "    --cwd $cwd\n",
    "    --genoFile $genoFile\n",
    "    --keep_samples $keep_samples\n",
    "    --maf_filter $maf_filter\n",
    "    --geno_filter $geno_filter\n",
    "    --hwe_filter $hwe_filter\n",
    "    --mind_filter $mind_filter\n",
    "    --numThreads $numThreads \n",
    "    --job_size $job_size\n",
    "    --container_lmm $container_lmm\n",
    "    --mem $mem\n",
    "\"\"\"\n",
    "\n",
    "sos run ~/project/UKBB_GWAS_dev/admin/Get_Job_Script.ipynb csg \\\n",
    "    --template-file $tpl_file \\\n",
    "    --workflow-file $gwasqc_sos \\\n",
    "    --to-script $gwasqc_sbatch \\\n",
    "    --args \"$gwasqc1_args\""
   ]
  },
  {
   "cell_type": "markdown",
   "metadata": {
    "kernel": "Bash"
   },
   "source": [
    "## Step 2 . Run KING"
   ]
  },
  {
   "cell_type": "code",
   "execution_count": 12,
   "metadata": {
    "kernel": "Bash"
   },
   "outputs": [
    {
     "name": "stdout",
     "output_type": "stream",
     "text": [
      "INFO: Running \u001b[32mcsg\u001b[0m: Configuration for Columbia csg partition cluster\n",
      "INFO: \u001b[32mcsg\u001b[0m is \u001b[32mcompleted\u001b[0m.\n",
      "INFO: \u001b[32mcsg\u001b[0m output:   \u001b[32m/home/dmc2245/project/UKBB_GWAS_dev/output/flashpca_king_extendedwhite_2021-09-02.sbatch\u001b[0m\n",
      "INFO: Workflow csg (ID=w8aa48a3899af1935) is executed successfully with 1 completed step.\n",
      "\n"
     ]
    }
   ],
   "source": [
    "##Columbia's variables\n",
    "cwd=$UKBB_PATH/results/083021_PCA_results/090221_king/\n",
    "genoFile=$UKBB_PATH/results/083021_PCA_results/europeans/cache/UKB_genotypedatadownloaded083019.090221_sample_variant_qc_final_callrate90.filtered.extracted.europeans.filtered.bed\n",
    "king_sbatch=$OUT_PATH/flashpca_king_extendedwhite_$(date +\"%Y-%m-%d\").sbatch\n",
    "kinship=0.0625\n",
    "gwasqc_sos=$USER_PATH/bioworkflows/GWAS/GWAS_QC.ipynb\n",
    "numThreads=20\n",
    "mem='30G'\n",
    "walltime='36h'\n",
    "\n",
    "king_args=\"\"\"king\n",
    "    --cwd $cwd\n",
    "    --genoFile $genoFile\n",
    "    --kinship $kinship\n",
    "    --numThreads $numThreads \n",
    "    --job_size $job_size\n",
    "    --container_lmm $container_lmm\n",
    "    --mem $mem\n",
    "    --walltime $walltime\n",
    "    --no-maximize-unrelated\n",
    "\"\"\"\n",
    "\n",
    "sos run ~/project/UKBB_GWAS_dev/admin/Get_Job_Script.ipynb csg \\\n",
    "    --template-file $tpl_file \\\n",
    "    --workflow-file $gwasqc_sos \\\n",
    "    --to-script $king_sbatch \\\n",
    "    --args \"$king_args\""
   ]
  },
  {
   "cell_type": "markdown",
   "metadata": {
    "kernel": "Bash"
   },
   "source": [
    "## Step 3 . Remove related and LD pruning"
   ]
  },
  {
   "cell_type": "code",
   "execution_count": 4,
   "metadata": {
    "kernel": "Bash"
   },
   "outputs": [
    {
     "name": "stdout",
     "output_type": "stream",
     "text": [
      "INFO: Running \u001b[32mcsg\u001b[0m: Configuration for Columbia csg partition cluster\n",
      "INFO: \u001b[32mcsg\u001b[0m is \u001b[32mcompleted\u001b[0m.\n",
      "INFO: \u001b[32mcsg\u001b[0m output:   \u001b[32m/home/dmc2245/project/UKBB_GWAS_dev/output/gwas_unrelated_european_2021-09-03.sbatch\u001b[0m\n",
      "INFO: Workflow csg (ID=w772a2dadd9f0d3c8) is executed successfully with 1 completed step.\n",
      "\n"
     ]
    }
   ],
   "source": [
    "## Columbia's cluster\n",
    "cwd=$UKBB_PATH/results/083021_PCA_results/090221_ldprun_unrelated\n",
    "## Use the qc version of the genotype array with the already filtered 189010 white individuals\n",
    "genoFile=$UKBB_PATH/results/083021_PCA_results/europeans/cache/*.europeans.filtered.bed\n",
    "#To keep the samples of white individuals only\n",
    "remove_samples=$UKBB_PATH/results/083021_PCA_results/090221_king/*.related_id\n",
    "\n",
    "#GWAS QC variables: leave all the variables in 0 so there's no more filtering in the already filtered data\n",
    "maf_filter=0\n",
    "geno_filter=0\n",
    "hwe_filter=0\n",
    "mind_filter=0\n",
    "#LD prunning variables\n",
    "window=50\n",
    "shift=10\n",
    "r2=0.1\n",
    "gwas_sbatch=$OUT_PATH/gwas_unrelated_european_$(date +\"%Y-%m-%d\").sbatch\n",
    "numThreads=20\n",
    "mem='30G'\n",
    "\n",
    "gwasqc_args=\"\"\"qc\n",
    "    --cwd $cwd\n",
    "    --genoFile $genoFile\n",
    "    --remove_samples $remove_samples\n",
    "    --maf_filter $maf_filter\n",
    "    --geno_filter $geno_filter\n",
    "    --hwe_filter $hwe_filter\n",
    "    --mind_filter $mind_filter\n",
    "    --window $window\n",
    "    --shift $shift\n",
    "    --r2 $r2\n",
    "    --numThreads $numThreads \n",
    "    --job_size $job_size\n",
    "    --container_lmm $container_lmm\n",
    "    --mem $mem\n",
    "\"\"\"\n",
    "\n",
    "sos run ~/project/UKBB_GWAS_dev/admin/Get_Job_Script.ipynb csg\\\n",
    "    --template-file $tpl_file \\\n",
    "    --workflow-file $gwasqc_sos \\\n",
    "    --to-script $gwas_sbatch \\\n",
    "    --args \"$gwasqc_args\""
   ]
  },
  {
   "cell_type": "markdown",
   "metadata": {
    "kernel": "Bash"
   },
   "source": [
    "## Step 4. Get bed file for related"
   ]
  },
  {
   "cell_type": "code",
   "execution_count": 11,
   "metadata": {
    "kernel": "Bash"
   },
   "outputs": [
    {
     "name": "stdout",
     "output_type": "stream",
     "text": [
      "INFO: Running \u001b[32mcsg\u001b[0m: Configuration for Columbia csg partition cluster\n",
      "INFO: \u001b[32mcsg\u001b[0m is \u001b[32mcompleted\u001b[0m.\n",
      "INFO: \u001b[32mcsg\u001b[0m output:   \u001b[32m/home/dmc2245/project/UKBB_GWAS_dev/output/gwas_related_european_2021-09-03.sbatch\u001b[0m\n",
      "INFO: Workflow csg (ID=w8f33a1fa03c50cb6) is executed successfully with 1 completed step.\n",
      "\n"
     ]
    }
   ],
   "source": [
    "##Columbia's cluster\n",
    "cwd=$UKBB_PATH/results/083021_PCA_results/090221_ldprun_related\n",
    "genoFile=$UKBB_PATH/results/083021_PCA_results/europeans/cache/*.europeans.filtered.bed\n",
    "keep_samples=$UKBB_PATH/results/083021_PCA_results/090221_king/*.related_id\n",
    "keep_variants=$UKBB_PATH/results/083021_PCA_results/090221_ldprun_unrelated/cache/*.090221_ldprun_unrelated.filtered.prune.in\n",
    "\n",
    "#GWAS QC variables\n",
    "maf_filter=0.0\n",
    "geno_filter=0.0\n",
    "hwe_filter=0.0\n",
    "mind_filter=0.0\n",
    "gwas_sbatch=$OUT_PATH/gwas_related_european_$(date +\"%Y-%m-%d\").sbatch\n",
    "numThreads=20\n",
    "mem='30G'\n",
    "\n",
    "gwasqc_args=\"\"\"qc:1\n",
    "    --cwd $cwd\n",
    "    --genoFile $genoFile\n",
    "    --keep_samples $keep_samples\n",
    "    --keep_variants $keep_variants\n",
    "    --maf_filter $maf_filter\n",
    "    --geno_filter $geno_filter\n",
    "    --hwe_filter $hwe_filter\n",
    "    --mind_filter $mind_filter\n",
    "    --numThreads $numThreads \n",
    "    --job_size $job_size\n",
    "    --container_lmm $container_lmm\n",
    "    --mem $mem\n",
    "\"\"\"\n",
    "\n",
    "sos run ~/project/UKBB_GWAS_dev/admin/Get_Job_Script.ipynb csg\\\n",
    "    --template-file $tpl_file \\\n",
    "    --workflow-file $gwasqc_sos \\\n",
    "    --to-script $gwas_sbatch \\\n",
    "    --args \"$gwasqc_args\""
   ]
  },
  {
   "cell_type": "markdown",
   "metadata": {
    "kernel": "Bash"
   },
   "source": [
    "## Step 5. Run PCA with unrelated samples"
   ]
  },
  {
   "cell_type": "code",
   "execution_count": 10,
   "metadata": {
    "kernel": "Bash"
   },
   "outputs": [
    {
     "name": "stdout",
     "output_type": "stream",
     "text": [
      "INFO: Running \u001b[32mcsg\u001b[0m: Configuration for Columbia csg partition cluster\n",
      "INFO: \u001b[32mcsg\u001b[0m is \u001b[32mcompleted\u001b[0m.\n",
      "INFO: \u001b[32mcsg\u001b[0m output:   \u001b[32m/home/dmc2245/project/UKBB_GWAS_dev/output/flashpca_european_unrelated_2021-09-03.sbatch\u001b[0m\n",
      "INFO: Workflow csg (ID=wf589152d03288f2a) is executed successfully with 1 completed step.\n",
      "\n"
     ]
    }
   ],
   "source": [
    "## Columbia's cluster\n",
    "cwd=$UKBB_PATH/results/083021_PCA_results/090321_PCA_unrelated\n",
    "#This is the bfile originated after filtering unrelated individuals and pruning\n",
    "genoFile=$UKBB_PATH/results/083021_PCA_results/090221_ldprun_unrelated/cache/*.090221_ldprun_unrelated.filtered.prune.bed\n",
    "phenoFile=$UKBB_yale/pleiotropy_R01/ukb43978_OCT2020/dc2325_phenotypes/030821_ukb42495_exomed_white_189010ind.pheno\n",
    "label_col=ethnicity\n",
    "pop_col=ethnicity\n",
    "pca_sbatch=$OUT_PATH/flashpca_european_unrelated_$(date +\"%Y-%m-%d\").sbatch\n",
    "k=10\n",
    "maha_k=5\n",
    "min_axis=0\n",
    "max_axis=0\n",
    "\n",
    "pca_args=\"\"\"flashpca\n",
    "    --cwd $cwd\n",
    "    --genoFile $genoFile\n",
    "    --phenoFile $phenoFile\n",
    "    --k $k\n",
    "    --maha_k $maha_k\n",
    "    --label_col $label_col\n",
    "    --pop_col $pop_col\n",
    "    --min_axis $min_axis\n",
    "    --max_axis $max_axis\n",
    "    --numThreads $numThreads \n",
    "    --job_size $job_size\n",
    "    --container_lmm $container_lmm\n",
    "\"\"\"\n",
    "\n",
    "sos run ~/project/UKBB_GWAS_dev/admin/Get_Job_Script.ipynb csg \\\n",
    "    --template-file $tpl_file \\\n",
    "    --workflow-file $pca_sos \\\n",
    "    --to-script $pca_sbatch \\\n",
    "    --args \"$pca_args\""
   ]
  },
  {
   "cell_type": "markdown",
   "metadata": {
    "kernel": "Bash"
   },
   "source": [
    "## Step 6. Project related samples back\n",
    "\n",
    "https://privefl.github.io/blog/detecting-outlier-samples-in-pca/"
   ]
  },
  {
   "cell_type": "code",
   "execution_count": 19,
   "metadata": {
    "kernel": "Bash"
   },
   "outputs": [
    {
     "name": "stdout",
     "output_type": "stream",
     "text": [
      "INFO: Running \u001b[32mcsg\u001b[0m: Configuration for Columbia csg partition cluster\n",
      "INFO: \u001b[32mcsg\u001b[0m is \u001b[32mcompleted\u001b[0m.\n",
      "INFO: \u001b[32mcsg\u001b[0m output:   \u001b[32m/home/dmc2245/project/UKBB_GWAS_dev/output/flashpca_european_related_projected_pval0.0052021-09-03.sbatch\u001b[0m\n",
      "INFO: Workflow csg (ID=wab37037fb8d999e2) is executed successfully with 1 completed step.\n",
      "\n"
     ]
    }
   ],
   "source": [
    "## Columbia's cluster\n",
    "cwd=$UKBB_PATH/results/083021_PCA_results/090321_PCA_related_pval0.005\n",
    "#This is the bfile originated after filtering related individuals\n",
    "genoFile=$UKBB_PATH/results/083021_PCA_results/090221_ldprun_related/cache/*.filtered.extracted.bed\n",
    "phenoFile=$UKBB_yale/pleiotropy_R01/ukb43978_OCT2020/dc2325_phenotypes/030821_ukb42495_exomed_white_189010ind.pheno\n",
    "# Project using the PCA model for the unrelated individuals\n",
    "pca_model=$UKBB_PATH/results/083021_PCA_results/090321_PCA_unrelated/*.pca.rds\n",
    "\n",
    "pca_sbatch=$OUT_PATH/flashpca_european_related_projected_pval0.005_$(date +\"%Y-%m-%d\").sbatch\n",
    "label_col=ethnicity\n",
    "pop_col=ethnicity\n",
    "k=10\n",
    "maha_k=10\n",
    "prob=0.997\n",
    "#after correcting for multiple comparissons 0.05/10PC's\n",
    "pval=0.005\n",
    "min_axis=0\n",
    "max_axis=0\n",
    "## set the --homogeneous options to consider all the pops like one \n",
    "## For the plot you need to use the *.projected.rds and not the *.projected.mahalanobis.rds\n",
    "#plot_data=$UKBB_PATH/results/070921_pca_genotype_array/white_expanded_06_30_21_genoarray_projected/030821_ukb42495_exomed_white_189010ind.pheno.white_expanded_06_30_21_genoarray_projected.pca.projected.rds\n",
    "#outlier_file=$UKBB_PATH/results/070921_pca_genotype_array/white_expanded_06_30_21_genoarray_projected/030821_ukb42495_exomed_white_189010ind.pheno.white_expanded_06_30_21_genoarray_projected.pca.projected.outliers\n",
    "\n",
    "\n",
    "pca_args=\"\"\"project_samples\n",
    "    --cwd $cwd\n",
    "    --genoFile $genoFile\n",
    "    --phenoFile $phenoFile\n",
    "    --pca_model $pca_model\n",
    "    --k $k\n",
    "    --maha_k $maha_k\n",
    "    --label_col $label_col\n",
    "    --pop_col $pop_col\n",
    "    --prob $prob\n",
    "    --pval $pval\n",
    "    --homogeneous\n",
    "    --min_axis $min_axis\n",
    "    --max_axis $max_axis\n",
    "    --numThreads $numThreads \n",
    "    --job_size $job_size\n",
    "    --container_lmm $container_lmm\n",
    "\"\"\"\n",
    "\n",
    "sos run ~/project/UKBB_GWAS_dev/admin/Get_Job_Script.ipynb csg \\\n",
    "    --template-file $tpl_file \\\n",
    "    --workflow-file $pca_sos \\\n",
    "    --to-script $pca_sbatch \\\n",
    "    --args \"$pca_args\""
   ]
  },
  {
   "cell_type": "markdown",
   "metadata": {
    "kernel": "Bash"
   },
   "source": [
    "## Step 7. Plot the projected individuals and highlight outliers"
   ]
  },
  {
   "cell_type": "code",
   "execution_count": 21,
   "metadata": {
    "kernel": "Bash"
   },
   "outputs": [
    {
     "name": "stdout",
     "output_type": "stream",
     "text": [
      "INFO: Running \u001b[32mcsg\u001b[0m: Configuration for Columbia csg partition cluster\n",
      "INFO: \u001b[32mcsg\u001b[0m is \u001b[32mcompleted\u001b[0m.\n",
      "INFO: \u001b[32mcsg\u001b[0m output:   \u001b[32m/home/dmc2245/project/UKBB_GWAS_dev/output/plot_european_projected_2021-09-03.sbatch\u001b[0m\n",
      "INFO: Workflow csg (ID=w551e30b44159cdab) is executed successfully with 1 completed step.\n",
      "\n"
     ]
    }
   ],
   "source": [
    "## Columbia's cluster\n",
    "cwd=$UKBB_PATH/results/083021_PCA_results/090321_PCA_related_pval0.005\n",
    "#This is the bfile originated after filtering related individuals\n",
    "genoFile=$UKBB_PATH/results/083021_PCA_results/090221_ldprun_related/cache/*.filtered.extracted.bed\n",
    "phenoFile=$UKBB_yale/pleiotropy_R01/ukb43978_OCT2020/dc2325_phenotypes/030821_ukb42495_exomed_white_189010ind.pheno\n",
    "plot_data=$UKBB_PATH/results/083021_PCA_results/090321_PCA_related_pval0.005/*.pca.projected.rds\n",
    "outlier_file=$UKBB_PATH/results/083021_PCA_results/090321_PCA_related_pval0.005/*.outliers\n",
    "label_col=ethnicity\n",
    "pop_col=ethnicity\n",
    "pca_sbatch=$OUT_PATH/plot_european_projected_$(date +\"%Y-%m-%d\").sbatch\n",
    "\n",
    "pca_args=\"\"\"plot_pca\n",
    "    --cwd $cwd\n",
    "    --genoFile $genoFile\n",
    "    --phenoFile $phenoFile\n",
    "    --label_col $label_col\n",
    "    --pop_col $pop_col\n",
    "    --plot_data $plot_data\n",
    "    --outlier_file $outlier_file\n",
    "    --numThreads $numThreads \n",
    "    --job_size $job_size\n",
    "    --container_lmm $container_lmm\n",
    "\"\"\"\n",
    "\n",
    "sos run ~/project/UKBB_GWAS_dev/admin/Get_Job_Script.ipynb csg \\\n",
    "    --template-file $tpl_file \\\n",
    "    --workflow-file $pca_sos \\\n",
    "    --to-script $pca_sbatch \\\n",
    "    --args \"$pca_args\""
   ]
  },
  {
   "cell_type": "markdown",
   "metadata": {
    "kernel": "Bash"
   },
   "source": [
    "## Per Suzanne's request color the individuals that are related in the PC's Pc1:4"
   ]
  },
  {
   "cell_type": "code",
   "execution_count": 7,
   "metadata": {
    "kernel": "Bash"
   },
   "outputs": [
    {
     "name": "stdout",
     "output_type": "stream",
     "text": [
      "INFO: Running \u001b[32mcsg\u001b[0m: Configuration for Columbia csg partition cluster\n",
      "INFO: \u001b[32mcsg\u001b[0m is \u001b[32mcompleted\u001b[0m.\n",
      "INFO: \u001b[32mcsg\u001b[0m output:   \u001b[32m/mnt/vast/hpc/csg/UKBiobank/results/083021_PCA_results/090321_PCA_related_pval0.005/related_colored/plot_related_2022-11-29.sbatch\u001b[0m\n",
      "INFO: Workflow csg (ID=wa787a1a9e09a3c38) is executed successfully with 1 completed step.\n",
      "\n"
     ]
    }
   ],
   "source": [
    "## Columbia's cluster\n",
    "cwd=$UKBB_PATH/results/083021_PCA_results/090321_PCA_related_pval0.005/related_colored\n",
    "#This is the bfile originated after filtering related individuals\n",
    "genoFile=$UKBB_PATH/results/083021_PCA_results/090221_ldprun_related/cache/*.filtered.extracted.bed\n",
    "phenoFile=$UKBB_yale/pleiotropy_R01/ukb43978_OCT2020/dc2325_phenotypes/030821_ukb42495_exomed_white_189010ind.pheno\n",
    "plot_data=$UKBB_PATH/results/083021_PCA_results/090321_PCA_related_pval0.005/*.pca.projected.rds\n",
    "# Change here the outlier file for the related individuals\n",
    "related_ind=$UKBB_PATH/results/083021_PCA_results/090221_king/UKB_genotypedatadownloaded083019.090221_sample_variant_qc_final_callrate90.filtered.extracted.europeans.filtered.090221_king.related_id\n",
    "##outlier_file=$UKBB_PATH/results/083021_PCA_results/090321_PCA_related_pval0.005/*.outliers\n",
    "label_col=ethnicity\n",
    "pop_col=ethnicity\n",
    "pca_sbatch=$cwd/plot_related_$(date +\"%Y-%m-%d\").sbatch\n",
    "k=10\n",
    "\n",
    "pca_args=\"\"\"plot_pca\n",
    "    --cwd $cwd\n",
    "    --genoFile $genoFile\n",
    "    --phenoFile $phenoFile\n",
    "    --label_col $label_col\n",
    "    --pop_col $pop_col\n",
    "    --plot_data $plot_data\n",
    "    --outlier_file $related_ind\n",
    "    --numThreads $numThreads \n",
    "    --job_size $job_size\n",
    "    --k $k\n",
    "    --container $container_lmm\n",
    "\"\"\"\n",
    "\n",
    "sos run ~/project/UKBB_GWAS_dev/admin/Get_Job_Script.ipynb csg \\\n",
    "    --template-file $tpl_file \\\n",
    "    --workflow-file $pca_sos \\\n",
    "    --to-script $pca_sbatch \\\n",
    "    --args \"$pca_args\""
   ]
  },
  {
   "cell_type": "markdown",
   "metadata": {
    "kernel": "Bash"
   },
   "source": [
    "## 09-03-21 Re-run the PCA for every phenotype to obtain PC's for LMM analysis. "
   ]
  },
  {
   "cell_type": "markdown",
   "metadata": {
    "kernel": "Bash"
   },
   "source": [
    "### f.3393"
   ]
  },
  {
   "cell_type": "markdown",
   "metadata": {
    "kernel": "Bash"
   },
   "source": [
    "#### Step 1."
   ]
  },
  {
   "cell_type": "code",
   "execution_count": 4,
   "metadata": {
    "kernel": "Bash"
   },
   "outputs": [
    {
     "name": "stdout",
     "output_type": "stream",
     "text": [
      "INFO: Running \u001b[32mcsg\u001b[0m: Configuration for Columbia csg partition cluster\n",
      "INFO: \u001b[32mcsg\u001b[0m is \u001b[32mcompleted\u001b[0m.\n",
      "INFO: \u001b[32mcsg\u001b[0m output:   \u001b[32m/home/dmc2245/project/UKBB_GWAS_dev/output/qc1_f3393_qcarray_2021-09-08.sbatch\u001b[0m\n",
      "INFO: Workflow csg (ID=wf5b4c32259fd836b) is executed successfully with 1 completed step.\n",
      "\n"
     ]
    }
   ],
   "source": [
    "## Columbia's cluster\n",
    "cwd=$UKBB_PATH/results/083021_PCA_results/090821_f3393_pca\n",
    "gwas_sbatch=$OUT_PATH/qc1_f3393_qcarray_$(date +\"%Y-%m-%d\").sbatch\n",
    "## Use qc'ed genotype array\n",
    "genoFile=~/UKBiobank/genotype_files_processed/090221_sample_variant_qc_final_callrate90/cache/UKB_genotypedatadownloaded083019.090221_sample_variant_qc_final_callrate90.filtered.extracted.bed\n",
    "keep_samples=$UKBB_PATH/results/083021_PCA_results/090321_UKBB_Hearing_aid_f3393_expandedwhite_6436cases_96601ctrl.keep_id\n",
    "#Keep variants after LD pruning\n",
    "keep_variants=$UKBB_PATH/results/083021_PCA_results/090221_ldprun_unrelated/cache/*.090221_ldprun_unrelated.filtered.prune.in\n",
    "\n",
    "#GWAS QC variables set all of this variables to 0 to avoid doing more filtering\n",
    "maf_filter=0\n",
    "geno_filter=0\n",
    "hwe_filter=0\n",
    "mind_filter=0\n",
    "numThreads=1\n",
    "mem='30G'\n",
    "\n",
    "gwasqc_args=\"\"\"qc:1\n",
    "    --cwd $cwd\n",
    "    --genoFile $genoFile\n",
    "    --keep_samples $keep_samples\n",
    "    --keep_variants $keep_variants\n",
    "    --maf_filter $maf_filter\n",
    "    --geno_filter $geno_filter\n",
    "    --hwe_filter $hwe_filter\n",
    "    --mind_filter $mind_filter\n",
    "    --numThreads $numThreads \n",
    "    --job_size $job_size\n",
    "    --container_lmm $container_lmm\n",
    "    --mem $mem\n",
    "\"\"\"\n",
    "\n",
    "sos run $USER_PATH/UKBB_GWAS_dev/admin/Get_Job_Script.ipynb csg \\\n",
    "    --template-file $tpl_file \\\n",
    "    --workflow-file $gwasqc_sos \\\n",
    "    --to-script $gwas_sbatch \\\n",
    "    --args \"$gwasqc_args\""
   ]
  },
  {
   "cell_type": "markdown",
   "metadata": {
    "kernel": "Bash"
   },
   "source": [
    "#### Step 2. "
   ]
  },
  {
   "cell_type": "code",
   "execution_count": 10,
   "metadata": {
    "kernel": "Bash"
   },
   "outputs": [
    {
     "name": "stdout",
     "output_type": "stream",
     "text": [
      "INFO: Running \u001b[32mcsg\u001b[0m: Configuration for Columbia csg partition cluster\n",
      "INFO: \u001b[32mcsg\u001b[0m is \u001b[32mcompleted\u001b[0m.\n",
      "INFO: \u001b[32mcsg\u001b[0m output:   \u001b[32m/home/dmc2245/project/UKBB_GWAS_dev/output/flashpca_f3393_pc_2021-09-08.sbatch\u001b[0m\n",
      "INFO: Workflow csg (ID=w2819b574619af6fb) is executed successfully with 1 completed step.\n",
      "\n"
     ]
    }
   ],
   "source": [
    "## Columbia's cluster\n",
    "cwd=$UKBB_PATH/results/083021_PCA_results/090821_f3393_pca\n",
    "#This is the bfile obtained in step 1\n",
    "genoFile=$UKBB_PATH/results/083021_PCA_results/090821_f3393_pca/cache/*.bed\n",
    "# Format FID, IID, pop\n",
    "phenoFile=$UKBB_PATH/results/083021_PCA_results/090321_UKBB_Hearing_aid_f3393_expandedwhite_6436cases_96601ctrl.phenopca\n",
    "label_col=ethnicity\n",
    "pop_col=ethnicity\n",
    "pca_sbatch=$OUT_PATH/flashpca_f3393_pc_$(date +\"%Y-%m-%d\").sbatch\n",
    "k=2\n",
    "min_axis=0\n",
    "max_axis=0\n",
    "\n",
    "pca_args=\"\"\"flashpca\n",
    "    --cwd $cwd\n",
    "    --genoFile $genoFile\n",
    "    --phenoFile $phenoFile\n",
    "    --k $k\n",
    "    --label_col $label_col\n",
    "    --pop_col $pop_col\n",
    "    --min_axis $min_axis\n",
    "    --max_axis $max_axis\n",
    "    --numThreads $numThreads \n",
    "    --job_size $job_size\n",
    "    --container_lmm $container_lmm\n",
    "\"\"\"\n",
    "\n",
    "sos run  $USER_PATH/UKBB_GWAS_dev/admin/Get_Job_Script.ipynb csg\\\n",
    "    --template-file $tpl_file \\\n",
    "    --workflow-file $pca_sos \\\n",
    "    --to-script $pca_sbatch \\\n",
    "    --args \"$pca_args\""
   ]
  },
  {
   "cell_type": "markdown",
   "metadata": {
    "kernel": "Bash"
   },
   "source": [
    "### f.2247\n",
    "\n",
    "#### Step 1. Produce the genotype file keeping specific samples and variants"
   ]
  },
  {
   "cell_type": "code",
   "execution_count": 5,
   "metadata": {
    "kernel": "Bash"
   },
   "outputs": [
    {
     "name": "stdout",
     "output_type": "stream",
     "text": [
      "INFO: Running \u001b[32mcsg\u001b[0m: Configuration for Columbia csg partition cluster\n",
      "INFO: \u001b[32mcsg\u001b[0m is \u001b[32mcompleted\u001b[0m.\n",
      "INFO: \u001b[32mcsg\u001b[0m output:   \u001b[32m/home/dmc2245/project/UKBB_GWAS_dev/output/qc1_f2247_qcarray_2021-09-08.sbatch\u001b[0m\n",
      "INFO: Workflow csg (ID=wcfe536eb22d9e7dc) is executed successfully with 1 completed step.\n",
      "\n"
     ]
    }
   ],
   "source": [
    "## Columbia's cluster\n",
    "cwd=$UKBB_PATH/results/083021_PCA_results/090821_f2247_pca\n",
    "gwas_sbatch=$OUT_PATH/qc1_f2247_qcarray_$(date +\"%Y-%m-%d\").sbatch\n",
    "## Use qc'ed genotype array\n",
    "genoFile=~/UKBiobank/genotype_files_processed/090221_sample_variant_qc_final_callrate90/cache/UKB_genotypedatadownloaded083019.090221_sample_variant_qc_final_callrate90.filtered.extracted.bed\n",
    "keep_samples=$UKBB_PATH/results/083021_PCA_results/090321_UKBB_Hearing_difficulty_f2247_expandedwhite_45502cases_96601ctrl.keep_id\n",
    "keep_variants=$UKBB_PATH/results/083021_PCA_results/090221_ldprun_unrelated/cache/*.090221_ldprun_unrelated.filtered.prune.in\n",
    "#GWAS QC variables set all of this variables to 0 to avoid doing more filtering\n",
    "maf_filter=0\n",
    "geno_filter=0\n",
    "hwe_filter=0\n",
    "mind_filter=0\n",
    "numThreads=1\n",
    "mem='30G'\n",
    "\n",
    "gwasqc_args=\"\"\"qc:1\n",
    "    --cwd $cwd\n",
    "    --genoFile $genoFile\n",
    "    --keep_samples $keep_samples\n",
    "    --keep_variants $keep_variants\n",
    "    --maf_filter $maf_filter\n",
    "    --geno_filter $geno_filter\n",
    "    --hwe_filter $hwe_filter\n",
    "    --mind_filter $mind_filter\n",
    "    --numThreads $numThreads \n",
    "    --job_size $job_size\n",
    "    --container_lmm $container_lmm\n",
    "    --mem $mem\n",
    "\"\"\"\n",
    "\n",
    "sos run $USER_PATH/UKBB_GWAS_dev/admin/Get_Job_Script.ipynb csg \\\n",
    "    --template-file $tpl_file \\\n",
    "    --workflow-file $gwasqc_sos \\\n",
    "    --to-script $gwas_sbatch \\\n",
    "    --args \"$gwasqc_args\""
   ]
  },
  {
   "cell_type": "markdown",
   "metadata": {
    "kernel": "Bash"
   },
   "source": [
    "#### Step 2."
   ]
  },
  {
   "cell_type": "code",
   "execution_count": 13,
   "metadata": {
    "kernel": "Bash"
   },
   "outputs": [
    {
     "name": "stdout",
     "output_type": "stream",
     "text": [
      "INFO: Running \u001b[32mcsg\u001b[0m: Configuration for Columbia csg partition cluster\n",
      "INFO: \u001b[32mcsg\u001b[0m is \u001b[32mcompleted\u001b[0m.\n",
      "INFO: \u001b[32mcsg\u001b[0m output:   \u001b[32m/home/dmc2245/project/UKBB_GWAS_dev/output/flashpca_f2247_pc_2021-09-08.sbatch\u001b[0m\n",
      "INFO: Workflow csg (ID=wafeca9cb7b20c80b) is executed successfully with 1 completed step.\n",
      "\n"
     ]
    }
   ],
   "source": [
    "## Columbia's cluster\n",
    "cwd=$UKBB_PATH/results/083021_PCA_results/090821_f2247_pca\n",
    "#This is the bfile obtained in step 1\n",
    "genoFile=$UKBB_PATH/results/083021_PCA_results/090821_f2247_pca/cache/*.bed\n",
    "# Format FID, IID, pop\n",
    "phenoFile=$UKBB_PATH/results/083021_PCA_results/090321_UKBB_Hearing_difficulty_f2247_expandedwhite_45502cases_96601ctrl.phenopca\n",
    "label_col=ethnicity\n",
    "pop_col=ethnicity\n",
    "pca_sbatch=$OUT_PATH/flashpca_f2247_pc_$(date +\"%Y-%m-%d\").sbatch\n",
    "k=2\n",
    "min_axis=0\n",
    "max_axis=0\n",
    "\n",
    "pca_args=\"\"\"flashpca\n",
    "    --cwd $cwd\n",
    "    --genoFile $genoFile\n",
    "    --phenoFile $phenoFile\n",
    "    --k $k\n",
    "    --label_col $label_col\n",
    "    --pop_col $pop_col\n",
    "    --min_axis $min_axis\n",
    "    --max_axis $max_axis\n",
    "    --numThreads $numThreads \n",
    "    --job_size $job_size\n",
    "    --container_lmm $container_lmm\n",
    "\"\"\"\n",
    "\n",
    "sos run  $USER_PATH/UKBB_GWAS_dev/admin/Get_Job_Script.ipynb csg\\\n",
    "    --template-file $tpl_file \\\n",
    "    --workflow-file $pca_sos \\\n",
    "    --to-script $pca_sbatch \\\n",
    "    --args \"$pca_args\""
   ]
  },
  {
   "cell_type": "markdown",
   "metadata": {
    "kernel": "Bash"
   },
   "source": [
    "### f.2257\n",
    "\n",
    "#### Step 1. Produce the genotype file keeping specific samples and variants"
   ]
  },
  {
   "cell_type": "code",
   "execution_count": 7,
   "metadata": {
    "kernel": "Bash"
   },
   "outputs": [
    {
     "name": "stdout",
     "output_type": "stream",
     "text": [
      "INFO: Running \u001b[32mcsg\u001b[0m: Configuration for Columbia csg partition cluster\n",
      "INFO: \u001b[32mcsg\u001b[0m is \u001b[32mcompleted\u001b[0m.\n",
      "INFO: \u001b[32mcsg\u001b[0m output:   \u001b[32m/home/dmc2245/project/UKBB_GWAS_dev/output/qc1_f2257_qcarray_2021-09-08.sbatch\u001b[0m\n",
      "INFO: Workflow csg (ID=w7ff2e9c165c744b4) is executed successfully with 1 completed step.\n",
      "\n"
     ]
    }
   ],
   "source": [
    "## Columbia's cluster\n",
    "cwd=$UKBB_PATH/results/083021_PCA_results/090821_f2257_pca\n",
    "gwas_sbatch=$OUT_PATH/qc1_f2257_qcarray_$(date +\"%Y-%m-%d\").sbatch\n",
    "## Use qc'ed genotype array\n",
    "genoFile=~/UKBiobank/genotype_files_processed/090221_sample_variant_qc_final_callrate90/cache/UKB_genotypedatadownloaded083019.090221_sample_variant_qc_final_callrate90.filtered.extracted.bed\n",
    "keep_samples=$UKBB_PATH/results/083021_PCA_results/090321_UKBB_Hearing_noise_f2257_expandedwhite_65660cases_96601ctrl.keep_id\n",
    "keep_variants=$UKBB_PATH/results/083021_PCA_results/090221_ldprun_unrelated/cache/*.090221_ldprun_unrelated.filtered.prune.in\n",
    "#GWAS QC variables set all of this variables to 0 to avoid doing more filtering\n",
    "maf_filter=0\n",
    "geno_filter=0\n",
    "hwe_filter=0\n",
    "mind_filter=0\n",
    "numThreads=1\n",
    "mem='30G'\n",
    "\n",
    "gwasqc_args=\"\"\"qc:1\n",
    "    --cwd $cwd\n",
    "    --genoFile $genoFile\n",
    "    --keep_samples $keep_samples\n",
    "    --keep_variants $keep_variants\n",
    "    --maf_filter $maf_filter\n",
    "    --geno_filter $geno_filter\n",
    "    --hwe_filter $hwe_filter\n",
    "    --mind_filter $mind_filter\n",
    "    --numThreads $numThreads \n",
    "    --job_size $job_size\n",
    "    --container_lmm $container_lmm\n",
    "    --mem $mem\n",
    "\"\"\"\n",
    "\n",
    "sos run $USER_PATH/UKBB_GWAS_dev/admin/Get_Job_Script.ipynb csg \\\n",
    "    --template-file $tpl_file \\\n",
    "    --workflow-file $gwasqc_sos \\\n",
    "    --to-script $gwas_sbatch \\\n",
    "    --args \"$gwasqc_args\""
   ]
  },
  {
   "cell_type": "markdown",
   "metadata": {
    "kernel": "Bash"
   },
   "source": [
    "#### Step 2."
   ]
  },
  {
   "cell_type": "code",
   "execution_count": 12,
   "metadata": {
    "kernel": "Bash"
   },
   "outputs": [
    {
     "name": "stdout",
     "output_type": "stream",
     "text": [
      "INFO: Running \u001b[32mcsg\u001b[0m: Configuration for Columbia csg partition cluster\n",
      "INFO: \u001b[32mcsg\u001b[0m is \u001b[32mcompleted\u001b[0m.\n",
      "INFO: \u001b[32mcsg\u001b[0m output:   \u001b[32m/home/dmc2245/project/UKBB_GWAS_dev/output/flashpca_f2257_pc_2021-09-08.sbatch\u001b[0m\n",
      "INFO: Workflow csg (ID=w208de65bc74b283f) is executed successfully with 1 completed step.\n",
      "\n"
     ]
    }
   ],
   "source": [
    "## Columbia's cluster\n",
    "cwd=$UKBB_PATH/results/083021_PCA_results/090821_f2257_pca\n",
    "#This is the bfile obtained in step 1\n",
    "genoFile=$UKBB_PATH/results/083021_PCA_results/090821_f2257_pca/cache/*.bed\n",
    "# Format FID, IID, pop\n",
    "phenoFile=$UKBB_PATH/results/083021_PCA_results/090321_UKBB_Hearing_noise_f2257_expandedwhite_65660cases_96601ctrl.phenopca\n",
    "label_col=ethnicity\n",
    "pop_col=ethnicity\n",
    "pca_sbatch=$OUT_PATH/flashpca_f2257_pc_$(date +\"%Y-%m-%d\").sbatch\n",
    "k=2\n",
    "min_axis=0\n",
    "max_axis=0\n",
    "\n",
    "pca_args=\"\"\"flashpca\n",
    "    --cwd $cwd\n",
    "    --genoFile $genoFile\n",
    "    --phenoFile $phenoFile\n",
    "    --k $k\n",
    "    --label_col $label_col\n",
    "    --pop_col $pop_col\n",
    "    --min_axis $min_axis\n",
    "    --max_axis $max_axis\n",
    "    --numThreads $numThreads \n",
    "    --job_size $job_size\n",
    "    --container_lmm $container_lmm\n",
    "\"\"\"\n",
    "\n",
    "sos run  $USER_PATH/UKBB_GWAS_dev/admin/Get_Job_Script.ipynb csg\\\n",
    "    --template-file $tpl_file \\\n",
    "    --workflow-file $pca_sos \\\n",
    "    --to-script $pca_sbatch \\\n",
    "    --args \"$pca_args\""
   ]
  },
  {
   "cell_type": "markdown",
   "metadata": {
    "kernel": "Bash"
   },
   "source": [
    "### Combined trait\n",
    "\n",
    "#### Step 1. Produce the genotype file keeping specific samples and variants"
   ]
  },
  {
   "cell_type": "code",
   "execution_count": 8,
   "metadata": {
    "kernel": "Bash"
   },
   "outputs": [
    {
     "name": "stdout",
     "output_type": "stream",
     "text": [
      "INFO: Running \u001b[32mcsg\u001b[0m: Configuration for Columbia csg partition cluster\n",
      "INFO: \u001b[32mcsg\u001b[0m is \u001b[32mcompleted\u001b[0m.\n",
      "INFO: \u001b[32mcsg\u001b[0m output:   \u001b[32m/home/dmc2245/project/UKBB_GWAS_dev/output/qc1_combined_qcarray_2021-09-08.sbatch\u001b[0m\n",
      "INFO: Workflow csg (ID=w7dfd0657210e6c24) is executed successfully with 1 completed step.\n",
      "\n"
     ]
    }
   ],
   "source": [
    "## Columbia's cluster\n",
    "cwd=$UKBB_PATH/results/083021_PCA_results/090821_combined_f2247_f2257_pca\n",
    "gwas_sbatch=$OUT_PATH/qc1_combined_qcarray_$(date +\"%Y-%m-%d\").sbatch\n",
    "## Use qc'ed genotype array\n",
    "genoFile=~/UKBiobank/genotype_files_processed/090221_sample_variant_qc_final_callrate90/cache/UKB_genotypedatadownloaded083019.090221_sample_variant_qc_final_callrate90.filtered.extracted.bed\n",
    "keep_samples=$UKBB_PATH/results/083021_PCA_results/090321_UKBB_Combined_f2247_f2257_expandedwhite_38410cases_96601ctrl.keep_id\n",
    "keep_variants=$UKBB_PATH/results/083021_PCA_results/090221_ldprun_unrelated/cache/*.090221_ldprun_unrelated.filtered.prune.in\n",
    "#GWAS QC variables set all of this variables to 0 to avoid doing more filtering\n",
    "maf_filter=0\n",
    "geno_filter=0\n",
    "hwe_filter=0\n",
    "mind_filter=0\n",
    "numThreads=1\n",
    "mem='30G'\n",
    "\n",
    "gwasqc_args=\"\"\"qc:1\n",
    "    --cwd $cwd\n",
    "    --genoFile $genoFile\n",
    "    --keep_samples $keep_samples\n",
    "    --keep_variants $keep_variants\n",
    "    --maf_filter $maf_filter\n",
    "    --geno_filter $geno_filter\n",
    "    --hwe_filter $hwe_filter\n",
    "    --mind_filter $mind_filter\n",
    "    --numThreads $numThreads \n",
    "    --job_size $job_size\n",
    "    --container_lmm $container_lmm\n",
    "    --mem $mem\n",
    "\"\"\"\n",
    "\n",
    "sos run $USER_PATH/UKBB_GWAS_dev/admin/Get_Job_Script.ipynb csg \\\n",
    "    --template-file $tpl_file \\\n",
    "    --workflow-file $gwasqc_sos \\\n",
    "    --to-script $gwas_sbatch \\\n",
    "    --args \"$gwasqc_args\""
   ]
  },
  {
   "cell_type": "markdown",
   "metadata": {
    "kernel": "Bash"
   },
   "source": [
    "#### Step 2."
   ]
  },
  {
   "cell_type": "code",
   "execution_count": 14,
   "metadata": {
    "kernel": "Bash"
   },
   "outputs": [
    {
     "name": "stdout",
     "output_type": "stream",
     "text": [
      "INFO: Running \u001b[32mcsg\u001b[0m: Configuration for Columbia csg partition cluster\n",
      "INFO: \u001b[32mcsg\u001b[0m is \u001b[32mcompleted\u001b[0m.\n",
      "INFO: \u001b[32mcsg\u001b[0m output:   \u001b[32m/home/dmc2245/project/UKBB_GWAS_dev/output/flashpca_combined_pc_2021-09-08.sbatch\u001b[0m\n",
      "INFO: Workflow csg (ID=w431cc450bb079b20) is executed successfully with 1 completed step.\n",
      "\n"
     ]
    }
   ],
   "source": [
    "## Columbia's cluster\n",
    "cwd=$UKBB_PATH/results/083021_PCA_results/090821_combined_f2247_f2257_pca\n",
    "#This is the bfile obtained in step 1\n",
    "genoFile=$UKBB_PATH/results/083021_PCA_results/090821_combined_f2247_f2257_pca/cache/*.bed\n",
    "# Format FID, IID, pop\n",
    "phenoFile=$UKBB_PATH/results/083021_PCA_results/090321_UKBB_Combined_f2247_f2257_expandedwhite_38410cases_96601ctrl.phenopca\n",
    "label_col=ethnicity\n",
    "pop_col=ethnicity\n",
    "pca_sbatch=$OUT_PATH/flashpca_combined_pc_$(date +\"%Y-%m-%d\").sbatch\n",
    "k=2\n",
    "min_axis=0\n",
    "max_axis=0\n",
    "\n",
    "pca_args=\"\"\"flashpca\n",
    "    --cwd $cwd\n",
    "    --genoFile $genoFile\n",
    "    --phenoFile $phenoFile\n",
    "    --k $k\n",
    "    --label_col $label_col\n",
    "    --pop_col $pop_col\n",
    "    --min_axis $min_axis\n",
    "    --max_axis $max_axis\n",
    "    --numThreads $numThreads \n",
    "    --job_size $job_size\n",
    "    --container_lmm $container_lmm\n",
    "\"\"\"\n",
    "\n",
    "sos run  $USER_PATH/UKBB_GWAS_dev/admin/Get_Job_Script.ipynb csg\\\n",
    "    --template-file $tpl_file \\\n",
    "    --workflow-file $pca_sos \\\n",
    "    --to-script $pca_sbatch \\\n",
    "    --args \"$pca_args\""
   ]
  },
  {
   "cell_type": "markdown",
   "metadata": {
    "kernel": "Bash"
   },
   "source": [
    "## 09-14-21 Get PCA for every phenotype for 50K and 150K samples to obtain PC's for LMM analysis. "
   ]
  },
  {
   "cell_type": "markdown",
   "metadata": {
    "kernel": "Bash"
   },
   "source": [
    "### f.3393 50K"
   ]
  },
  {
   "cell_type": "markdown",
   "metadata": {
    "kernel": "Bash"
   },
   "source": [
    "#### Step 1."
   ]
  },
  {
   "cell_type": "code",
   "execution_count": 7,
   "metadata": {
    "kernel": "Bash"
   },
   "outputs": [
    {
     "name": "stdout",
     "output_type": "stream",
     "text": [
      "INFO: Running \u001b[32mcsg\u001b[0m: Configuration for Columbia csg partition cluster\n",
      "INFO: \u001b[32mcsg\u001b[0m is \u001b[32mcompleted\u001b[0m.\n",
      "INFO: \u001b[32mcsg\u001b[0m output:   \u001b[32m/home/dmc2245/project/UKBB_GWAS_dev/output/qc1_f3393_qcarray_2021-09-14.sbatch\u001b[0m\n",
      "INFO: Workflow csg (ID=w08964e7b21063bd2) is executed successfully with 1 completed step.\n",
      "\n"
     ]
    }
   ],
   "source": [
    "## Columbia's cluster\n",
    "cwd=$UKBB_PATH/results/083021_PCA_results/091421_f3393_50Kexomes_pca\n",
    "gwas_sbatch=$OUT_PATH/qc1_f3393_qcarray_50K_$(date +\"%Y-%m-%d\").sbatch\n",
    "## Use qc'ed genotype array\n",
    "genoFile=~/UKBiobank/genotype_files_processed/090221_sample_variant_qc_final_callrate90/cache/UKB_genotypedatadownloaded083019.090221_sample_variant_qc_final_callrate90.filtered.extracted.bed\n",
    "keep_samples=$UKBB_PATH/results/083021_PCA_results/090321_UKBB_Hearing_aid_f3393_expandedwhite_24189ind_50Kexomes.keep_id\n",
    "#Keep variants after LD pruning\n",
    "keep_variants=$UKBB_PATH/results/083021_PCA_results/090221_ldprun_unrelated/cache/*.090221_ldprun_unrelated.filtered.prune.in\n",
    "\n",
    "#GWAS QC variables set all of this variables to 0 to avoid doing more filtering\n",
    "maf_filter=0\n",
    "geno_filter=0\n",
    "hwe_filter=0\n",
    "mind_filter=0\n",
    "numThreads=1\n",
    "mem='30G'\n",
    "\n",
    "gwasqc_args=\"\"\"qc:1\n",
    "    --cwd $cwd\n",
    "    --genoFile $genoFile\n",
    "    --keep_samples $keep_samples\n",
    "    --keep_variants $keep_variants\n",
    "    --maf_filter $maf_filter\n",
    "    --geno_filter $geno_filter\n",
    "    --hwe_filter $hwe_filter\n",
    "    --mind_filter $mind_filter\n",
    "    --numThreads $numThreads \n",
    "    --job_size $job_size\n",
    "    --container_lmm $container_lmm\n",
    "    --mem $mem\n",
    "\"\"\"\n",
    "\n",
    "sos run ~/project/UKBB_GWAS_dev/admin/Get_Job_Script.ipynb csg \\\n",
    "    --template-file $tpl_file \\\n",
    "    --workflow-file $gwasqc_sos \\\n",
    "    --to-script $gwas_sbatch \\\n",
    "    --args \"$gwasqc_args\""
   ]
  },
  {
   "cell_type": "markdown",
   "metadata": {
    "kernel": "Bash"
   },
   "source": [
    "#### Step 2"
   ]
  },
  {
   "cell_type": "code",
   "execution_count": 17,
   "metadata": {
    "kernel": "Bash"
   },
   "outputs": [
    {
     "name": "stdout",
     "output_type": "stream",
     "text": [
      "INFO: Running \u001b[32mcsg\u001b[0m: Configuration for Columbia csg partition cluster\n",
      "INFO: \u001b[32mcsg\u001b[0m is \u001b[32mcompleted\u001b[0m.\n",
      "INFO: \u001b[32mcsg\u001b[0m output:   \u001b[32m/home/dmc2245/project/UKBB_GWAS_dev/output/flashpca_f3393_pc_50K_2021-09-14.sbatch\u001b[0m\n",
      "INFO: Workflow csg (ID=w11fcf6c45777d4a0) is executed successfully with 1 completed step.\n",
      "\n"
     ]
    }
   ],
   "source": [
    "## Columbia's cluster\n",
    "cwd=$UKBB_PATH/results/083021_PCA_results/091421_f3393_50Kexomes_pca\n",
    "#This is the bfile obtained in step 1\n",
    "genoFile=$UKBB_PATH/results/083021_PCA_results/091421_f3393_50Kexomes_pca/cache/*.bed\n",
    "# Format FID, IID, ethnicity\n",
    "phenoFile=$UKBB_PATH/results/083021_PCA_results/090321_UKBB_Hearing_aid_f3393_expandedwhite_24189_50K.phenopca\n",
    "label_col=ethnicity\n",
    "pop_col=ethnicity\n",
    "pca_sbatch=$OUT_PATH/flashpca_f3393_pc_50K_$(date +\"%Y-%m-%d\").sbatch\n",
    "k=2\n",
    "min_axis=0\n",
    "max_axis=0\n",
    "\n",
    "pca_args=\"\"\"flashpca\n",
    "    --cwd $cwd\n",
    "    --genoFile $genoFile\n",
    "    --phenoFile $phenoFile\n",
    "    --k $k\n",
    "    --label_col $label_col\n",
    "    --pop_col $pop_col\n",
    "    --min_axis $min_axis\n",
    "    --max_axis $max_axis\n",
    "    --numThreads $numThreads \n",
    "    --job_size $job_size\n",
    "    --container_lmm $container_lmm\n",
    "\"\"\"\n",
    "\n",
    "sos run  $USER_PATH/UKBB_GWAS_dev/admin/Get_Job_Script.ipynb csg\\\n",
    "    --template-file $tpl_file \\\n",
    "    --workflow-file $pca_sos \\\n",
    "    --to-script $pca_sbatch \\\n",
    "    --args \"$pca_args\""
   ]
  },
  {
   "cell_type": "markdown",
   "metadata": {
    "kernel": "Bash"
   },
   "source": [
    "### f.3393 150K"
   ]
  },
  {
   "cell_type": "markdown",
   "metadata": {
    "kernel": "Bash"
   },
   "source": [
    "#### Step 1"
   ]
  },
  {
   "cell_type": "code",
   "execution_count": 11,
   "metadata": {
    "kernel": "Bash"
   },
   "outputs": [
    {
     "name": "stdout",
     "output_type": "stream",
     "text": [
      "INFO: Running \u001b[32mcsg\u001b[0m: Configuration for Columbia csg partition cluster\n",
      "INFO: \u001b[32mcsg\u001b[0m is \u001b[32mcompleted\u001b[0m.\n",
      "INFO: \u001b[32mcsg\u001b[0m output:   \u001b[32m/home/dmc2245/project/UKBB_GWAS_dev/output/qc1_f3393_qcarray_150K_2021-09-14.sbatch\u001b[0m\n",
      "INFO: Workflow csg (ID=wbbcc5a29996f0bc1) is executed successfully with 1 completed step.\n",
      "\n"
     ]
    }
   ],
   "source": [
    "## Columbia's cluster\n",
    "cwd=$UKBB_PATH/results/083021_PCA_results/091421_f3393_150Kexomes_pca\n",
    "gwas_sbatch=$OUT_PATH/qc1_f3393_qcarray_150K_$(date +\"%Y-%m-%d\").sbatch\n",
    "## Use qc'ed genotype array\n",
    "genoFile=~/UKBiobank/genotype_files_processed/090221_sample_variant_qc_final_callrate90/cache/UKB_genotypedatadownloaded083019.090221_sample_variant_qc_final_callrate90.filtered.extracted.bed\n",
    "keep_samples=$UKBB_PATH/results/083021_PCA_results/090321_UKBB_Hearing_aid_f3393_expandedwhite_78848ind_150Kexomes.keep_id\n",
    "#Keep variants after LD pruning\n",
    "keep_variants=$UKBB_PATH/results/083021_PCA_results/090221_ldprun_unrelated/cache/*.090221_ldprun_unrelated.filtered.prune.in\n",
    "\n",
    "#GWAS QC variables set all of this variables to 0 to avoid doing more filtering\n",
    "maf_filter=0\n",
    "geno_filter=0\n",
    "hwe_filter=0\n",
    "mind_filter=0\n",
    "numThreads=1\n",
    "mem='30G'\n",
    "\n",
    "gwasqc_args=\"\"\"qc:1\n",
    "    --cwd $cwd\n",
    "    --genoFile $genoFile\n",
    "    --keep_samples $keep_samples\n",
    "    --keep_variants $keep_variants\n",
    "    --maf_filter $maf_filter\n",
    "    --geno_filter $geno_filter\n",
    "    --hwe_filter $hwe_filter\n",
    "    --mind_filter $mind_filter\n",
    "    --numThreads $numThreads \n",
    "    --job_size $job_size\n",
    "    --container_lmm $container_lmm\n",
    "    --mem $mem\n",
    "\"\"\"\n",
    "\n",
    "sos run ~/project/UKBB_GWAS_dev/admin/Get_Job_Script.ipynb csg \\\n",
    "    --template-file $tpl_file \\\n",
    "    --workflow-file $gwasqc_sos \\\n",
    "    --to-script $gwas_sbatch \\\n",
    "    --args \"$gwasqc_args\""
   ]
  },
  {
   "cell_type": "markdown",
   "metadata": {
    "kernel": "Bash"
   },
   "source": [
    "#### Step 2"
   ]
  },
  {
   "cell_type": "code",
   "execution_count": 18,
   "metadata": {
    "kernel": "Bash"
   },
   "outputs": [
    {
     "name": "stdout",
     "output_type": "stream",
     "text": [
      "INFO: Running \u001b[32mcsg\u001b[0m: Configuration for Columbia csg partition cluster\n",
      "INFO: \u001b[32mcsg\u001b[0m is \u001b[32mcompleted\u001b[0m.\n",
      "INFO: \u001b[32mcsg\u001b[0m output:   \u001b[32m/home/dmc2245/project/UKBB_GWAS_dev/output/flashpca_f3393_pc_150K_2021-09-14.sbatch\u001b[0m\n",
      "INFO: Workflow csg (ID=wc3aa95c22f2a068c) is executed successfully with 1 completed step.\n",
      "\n"
     ]
    }
   ],
   "source": [
    "## Columbia's cluster\n",
    "cwd=$UKBB_PATH/results/083021_PCA_results/091421_f3393_150Kexomes_pca\n",
    "#This is the bfile obtained in step 1\n",
    "genoFile=$UKBB_PATH/results/083021_PCA_results/091421_f3393_150Kexomes_pca/cache/*.bed\n",
    "# Format FID, IID, ethnicity\n",
    "phenoFile=$UKBB_PATH/results/083021_PCA_results/090321_UKBB_Hearing_aid_f3393_expandedwhite_78848_150K.phenopca\n",
    "label_col=ethnicity\n",
    "pop_col=ethnicity\n",
    "pca_sbatch=$OUT_PATH/flashpca_f3393_pc_150K_$(date +\"%Y-%m-%d\").sbatch\n",
    "k=2\n",
    "min_axis=0\n",
    "max_axis=0\n",
    "\n",
    "pca_args=\"\"\"flashpca\n",
    "    --cwd $cwd\n",
    "    --genoFile $genoFile\n",
    "    --phenoFile $phenoFile\n",
    "    --k $k\n",
    "    --label_col $label_col\n",
    "    --pop_col $pop_col\n",
    "    --min_axis $min_axis\n",
    "    --max_axis $max_axis\n",
    "    --numThreads $numThreads \n",
    "    --job_size $job_size\n",
    "    --container_lmm $container_lmm\n",
    "\"\"\"\n",
    "\n",
    "sos run  $USER_PATH/UKBB_GWAS_dev/admin/Get_Job_Script.ipynb csg\\\n",
    "    --template-file $tpl_file \\\n",
    "    --workflow-file $pca_sos \\\n",
    "    --to-script $pca_sbatch \\\n",
    "    --args \"$pca_args\""
   ]
  },
  {
   "cell_type": "markdown",
   "metadata": {
    "kernel": "Bash"
   },
   "source": [
    "## f.2247 50 K"
   ]
  },
  {
   "cell_type": "markdown",
   "metadata": {
    "kernel": "Bash"
   },
   "source": [
    "#### Step 1"
   ]
  },
  {
   "cell_type": "code",
   "execution_count": 10,
   "metadata": {
    "kernel": "Bash"
   },
   "outputs": [
    {
     "name": "stdout",
     "output_type": "stream",
     "text": [
      "INFO: Running \u001b[32mcsg\u001b[0m: Configuration for Columbia csg partition cluster\n",
      "INFO: \u001b[32mcsg\u001b[0m is \u001b[32mcompleted\u001b[0m.\n",
      "INFO: \u001b[32mcsg\u001b[0m output:   \u001b[32m/home/dmc2245/project/UKBB_GWAS_dev/output/qc1_f2247_qcarray_50K_2021-09-14.sbatch\u001b[0m\n",
      "INFO: Workflow csg (ID=w49665c69c9f3543b) is executed successfully with 1 completed step.\n",
      "\n"
     ]
    }
   ],
   "source": [
    "## Columbia's cluster\n",
    "cwd=$UKBB_PATH/results/083021_PCA_results/091421_f2247_50Kexomes_pca\n",
    "gwas_sbatch=$OUT_PATH/qc1_f2247_qcarray_50K_$(date +\"%Y-%m-%d\").sbatch\n",
    "## Use qc'ed genotype array\n",
    "genoFile=~/UKBiobank/genotype_files_processed/090221_sample_variant_qc_final_callrate90/cache/UKB_genotypedatadownloaded083019.090221_sample_variant_qc_final_callrate90.filtered.extracted.bed\n",
    "keep_samples=$UKBB_PATH/results/083021_PCA_results/090321_UKBB_Hearing_difficulty_f2247_expandedwhite_34596ind_50Kexomes.keep_id\n",
    "keep_variants=$UKBB_PATH/results/083021_PCA_results/090221_ldprun_unrelated/cache/*.090221_ldprun_unrelated.filtered.prune.in\n",
    "#GWAS QC variables set all of this variables to 0 to avoid doing more filtering\n",
    "maf_filter=0\n",
    "geno_filter=0\n",
    "hwe_filter=0\n",
    "mind_filter=0\n",
    "numThreads=1\n",
    "mem='30G'\n",
    "\n",
    "gwasqc_args=\"\"\"qc:1\n",
    "    --cwd $cwd\n",
    "    --genoFile $genoFile\n",
    "    --keep_samples $keep_samples\n",
    "    --keep_variants $keep_variants\n",
    "    --maf_filter $maf_filter\n",
    "    --geno_filter $geno_filter\n",
    "    --hwe_filter $hwe_filter\n",
    "    --mind_filter $mind_filter\n",
    "    --numThreads $numThreads \n",
    "    --job_size $job_size\n",
    "    --container_lmm $container_lmm\n",
    "    --mem $mem\n",
    "\"\"\"\n",
    "\n",
    "sos run $USER_PATH/UKBB_GWAS_dev/admin/Get_Job_Script.ipynb csg \\\n",
    "    --template-file $tpl_file \\\n",
    "    --workflow-file $gwasqc_sos \\\n",
    "    --to-script $gwas_sbatch \\\n",
    "    --args \"$gwasqc_args\""
   ]
  },
  {
   "cell_type": "markdown",
   "metadata": {
    "kernel": "Bash"
   },
   "source": [
    "#### Step 2."
   ]
  },
  {
   "cell_type": "code",
   "execution_count": 19,
   "metadata": {
    "kernel": "Bash"
   },
   "outputs": [
    {
     "name": "stdout",
     "output_type": "stream",
     "text": [
      "INFO: Running \u001b[32mcsg\u001b[0m: Configuration for Columbia csg partition cluster\n",
      "INFO: \u001b[32mcsg\u001b[0m is \u001b[32mcompleted\u001b[0m.\n",
      "INFO: \u001b[32mcsg\u001b[0m output:   \u001b[32m/home/dmc2245/project/UKBB_GWAS_dev/output/flashpca_f2247_pc_50K_2021-09-14.sbatch\u001b[0m\n",
      "INFO: Workflow csg (ID=wa725739c54f73ca3) is executed successfully with 1 completed step.\n",
      "\n"
     ]
    }
   ],
   "source": [
    "## Columbia's cluster\n",
    "cwd=$UKBB_PATH/results/083021_PCA_results/091421_f2247_50Kexomes_pca\n",
    "#This is the bfile obtained in step 1\n",
    "genoFile=$UKBB_PATH/results/083021_PCA_results/091421_f2247_50Kexomes_pca/cache/*.bed\n",
    "# Format FID, IID, ethnicity\n",
    "phenoFile=$UKBB_PATH/results/083021_PCA_results/090321_UKBB_Hearing_difficulty_f2247_expandedwhite_34596ind_50K.phenopca\n",
    "label_col=ethnicity\n",
    "pop_col=ethnicity\n",
    "pca_sbatch=$OUT_PATH/flashpca_f2247_pc_50K_$(date +\"%Y-%m-%d\").sbatch\n",
    "k=2\n",
    "min_axis=0\n",
    "max_axis=0\n",
    "\n",
    "pca_args=\"\"\"flashpca\n",
    "    --cwd $cwd\n",
    "    --genoFile $genoFile\n",
    "    --phenoFile $phenoFile\n",
    "    --k $k\n",
    "    --label_col $label_col\n",
    "    --pop_col $pop_col\n",
    "    --min_axis $min_axis\n",
    "    --max_axis $max_axis\n",
    "    --numThreads $numThreads \n",
    "    --job_size $job_size\n",
    "    --container_lmm $container_lmm\n",
    "\"\"\"\n",
    "\n",
    "sos run  $USER_PATH/UKBB_GWAS_dev/admin/Get_Job_Script.ipynb csg\\\n",
    "    --template-file $tpl_file \\\n",
    "    --workflow-file $pca_sos \\\n",
    "    --to-script $pca_sbatch \\\n",
    "    --args \"$pca_args\""
   ]
  },
  {
   "cell_type": "markdown",
   "metadata": {
    "kernel": "Bash"
   },
   "source": [
    "## f.2247 150 K"
   ]
  },
  {
   "cell_type": "markdown",
   "metadata": {
    "kernel": "Bash"
   },
   "source": [
    "#### Step 1. "
   ]
  },
  {
   "cell_type": "code",
   "execution_count": null,
   "metadata": {
    "kernel": "Bash"
   },
   "outputs": [],
   "source": [
    "## Columbia's cluster\n",
    "cwd=$UKBB_PATH/results/083021_PCA_results/091421_f2247_150Kexomes_pca\n",
    "gwas_sbatch=$OUT_PATH/qc1_f2247_qcarray_150K_$(date +\"%Y-%m-%d\").sbatch\n",
    "## Use qc'ed genotype array\n",
    "genoFile=~/UKBiobank/genotype_files_processed/090221_sample_variant_qc_final_callrate90/cache/UKB_genotypedatadownloaded083019.090221_sample_variant_qc_final_callrate90.filtered.extracted.bed\n",
    "keep_samples=$UKBB_PATH/results/083021_PCA_results/090321_UKBB_Hearing_difficulty_f2247_expandedwhite_107507ind_150Kexomes.keep_id\n",
    "keep_variants=$UKBB_PATH/results/083021_PCA_results/090221_ldprun_unrelated/cache/*.090221_ldprun_unrelated.filtered.prune.in\n",
    "#GWAS QC variables set all of this variables to 0 to avoid doing more filtering\n",
    "maf_filter=0\n",
    "geno_filter=0\n",
    "hwe_filter=0\n",
    "mind_filter=0\n",
    "numThreads=1\n",
    "mem='30G'\n",
    "\n",
    "gwasqc_args=\"\"\"qc:1\n",
    "    --cwd $cwd\n",
    "    --genoFile $genoFile\n",
    "    --keep_samples $keep_samples\n",
    "    --keep_variants $keep_variants\n",
    "    --maf_filter $maf_filter\n",
    "    --geno_filter $geno_filter\n",
    "    --hwe_filter $hwe_filter\n",
    "    --mind_filter $mind_filter\n",
    "    --numThreads $numThreads \n",
    "    --job_size $job_size\n",
    "    --container_lmm $container_lmm\n",
    "    --mem $mem\n",
    "\"\"\"\n",
    "\n",
    "sos run $USER_PATH/UKBB_GWAS_dev/admin/Get_Job_Script.ipynb csg \\\n",
    "    --template-file $tpl_file \\\n",
    "    --workflow-file $gwasqc_sos \\\n",
    "    --to-script $gwas_sbatch \\\n",
    "    --args \"$gwasqc_args\""
   ]
  },
  {
   "cell_type": "markdown",
   "metadata": {
    "kernel": "Bash"
   },
   "source": [
    "#### Step 2."
   ]
  },
  {
   "cell_type": "code",
   "execution_count": 20,
   "metadata": {
    "kernel": "Bash"
   },
   "outputs": [
    {
     "name": "stdout",
     "output_type": "stream",
     "text": [
      "INFO: Running \u001b[32mcsg\u001b[0m: Configuration for Columbia csg partition cluster\n",
      "INFO: \u001b[32mcsg\u001b[0m is \u001b[32mcompleted\u001b[0m.\n",
      "INFO: \u001b[32mcsg\u001b[0m output:   \u001b[32m/home/dmc2245/project/UKBB_GWAS_dev/output/flashpca_f2247_pc_150K_2021-09-14.sbatch\u001b[0m\n",
      "INFO: Workflow csg (ID=w7e44a7ddb4b4f8d7) is executed successfully with 1 completed step.\n",
      "\n"
     ]
    }
   ],
   "source": [
    "## Columbia's cluster\n",
    "cwd=$UKBB_PATH/results/083021_PCA_results/091421_f2247_150Kexomes_pca\n",
    "#This is the bfile obtained in step 1\n",
    "genoFile=$UKBB_PATH/results/083021_PCA_results/091421_f2247_150Kexomes_pca/cache/*.bed\n",
    "# Format FID, IID, ethnicity\n",
    "phenoFile=$UKBB_PATH/results/083021_PCA_results/090321_UKBB_Hearing_difficulty_f2247_expandedwhite_107507ind_150K.phenopca\n",
    "label_col=ethnicity\n",
    "pop_col=ethnicity\n",
    "pca_sbatch=$OUT_PATH/flashpca_f2247_pc_150K_$(date +\"%Y-%m-%d\").sbatch\n",
    "k=2\n",
    "min_axis=0\n",
    "max_axis=0\n",
    "\n",
    "pca_args=\"\"\"flashpca\n",
    "    --cwd $cwd\n",
    "    --genoFile $genoFile\n",
    "    --phenoFile $phenoFile\n",
    "    --k $k\n",
    "    --label_col $label_col\n",
    "    --pop_col $pop_col\n",
    "    --min_axis $min_axis\n",
    "    --max_axis $max_axis\n",
    "    --numThreads $numThreads \n",
    "    --job_size $job_size\n",
    "    --container_lmm $container_lmm\n",
    "\"\"\"\n",
    "\n",
    "sos run  $USER_PATH/UKBB_GWAS_dev/admin/Get_Job_Script.ipynb csg\\\n",
    "    --template-file $tpl_file \\\n",
    "    --workflow-file $pca_sos \\\n",
    "    --to-script $pca_sbatch \\\n",
    "    --args \"$pca_args\""
   ]
  },
  {
   "cell_type": "markdown",
   "metadata": {
    "kernel": "Bash"
   },
   "source": [
    "## f.2257 50K\n",
    "\n",
    "#### Step 1"
   ]
  },
  {
   "cell_type": "code",
   "execution_count": 13,
   "metadata": {
    "kernel": "Bash"
   },
   "outputs": [
    {
     "name": "stdout",
     "output_type": "stream",
     "text": [
      "INFO: Running \u001b[32mcsg\u001b[0m: Configuration for Columbia csg partition cluster\n",
      "INFO: \u001b[32mcsg\u001b[0m is \u001b[32mcompleted\u001b[0m.\n",
      "INFO: \u001b[32mcsg\u001b[0m output:   \u001b[32m/home/dmc2245/project/UKBB_GWAS_dev/output/qc1_f2257_qcarray_50K_2021-09-14.sbatch\u001b[0m\n",
      "INFO: Workflow csg (ID=w3935a290a25c2248) is executed successfully with 1 completed step.\n",
      "\n"
     ]
    }
   ],
   "source": [
    "## Columbia's cluster\n",
    "cwd=$UKBB_PATH/results/083021_PCA_results/091421_f2257_50Kexomes_pca\n",
    "gwas_sbatch=$OUT_PATH/qc1_f2257_qcarray_50K_$(date +\"%Y-%m-%d\").sbatch\n",
    "## Use qc'ed genotype array\n",
    "genoFile=~/UKBiobank/genotype_files_processed/090221_sample_variant_qc_final_callrate90/cache/UKB_genotypedatadownloaded083019.090221_sample_variant_qc_final_callrate90.filtered.extracted.bed\n",
    "keep_samples=$UKBB_PATH/results/083021_PCA_results/090321_UKBB_Hearing_noise_f2257_expandedwhite_38721ind_50Kexomes.keep_id\n",
    "keep_variants=$UKBB_PATH/results/083021_PCA_results/090221_ldprun_unrelated/cache/*.090221_ldprun_unrelated.filtered.prune.in\n",
    "#GWAS QC variables set all of this variables to 0 to avoid doing more filtering\n",
    "maf_filter=0\n",
    "geno_filter=0\n",
    "hwe_filter=0\n",
    "mind_filter=0\n",
    "numThreads=1\n",
    "mem='30G'\n",
    "\n",
    "gwasqc_args=\"\"\"qc:1\n",
    "    --cwd $cwd\n",
    "    --genoFile $genoFile\n",
    "    --keep_samples $keep_samples\n",
    "    --keep_variants $keep_variants\n",
    "    --maf_filter $maf_filter\n",
    "    --geno_filter $geno_filter\n",
    "    --hwe_filter $hwe_filter\n",
    "    --mind_filter $mind_filter\n",
    "    --numThreads $numThreads \n",
    "    --job_size $job_size\n",
    "    --container_lmm $container_lmm\n",
    "    --mem $mem\n",
    "\"\"\"\n",
    "\n",
    "sos run $USER_PATH/UKBB_GWAS_dev/admin/Get_Job_Script.ipynb csg \\\n",
    "    --template-file $tpl_file \\\n",
    "    --workflow-file $gwasqc_sos \\\n",
    "    --to-script $gwas_sbatch \\\n",
    "    --args \"$gwasqc_args\""
   ]
  },
  {
   "cell_type": "markdown",
   "metadata": {
    "kernel": "Bash"
   },
   "source": [
    "#### Step 2"
   ]
  },
  {
   "cell_type": "code",
   "execution_count": 21,
   "metadata": {
    "kernel": "Bash"
   },
   "outputs": [
    {
     "name": "stdout",
     "output_type": "stream",
     "text": [
      "INFO: Running \u001b[32mcsg\u001b[0m: Configuration for Columbia csg partition cluster\n",
      "INFO: \u001b[32mcsg\u001b[0m is \u001b[32mcompleted\u001b[0m.\n",
      "INFO: \u001b[32mcsg\u001b[0m output:   \u001b[32m/home/dmc2245/project/UKBB_GWAS_dev/output/flashpca_f2257_pc_50K_2021-09-14.sbatch\u001b[0m\n",
      "INFO: Workflow csg (ID=wdb9ab761be06600d) is executed successfully with 1 completed step.\n",
      "\n"
     ]
    }
   ],
   "source": [
    "## Columbia's cluster\n",
    "cwd=$UKBB_PATH/results/083021_PCA_results/091421_f2257_50Kexomes_pca\n",
    "#This is the bfile obtained in step 1\n",
    "genoFile=$UKBB_PATH/results/083021_PCA_results/091421_f2257_50Kexomes_pca/cache/*.bed\n",
    "# Format FID, IID, ethnicity\n",
    "phenoFile=$UKBB_PATH/results/083021_PCA_results/090321_UKBB_Hearing_noise_f2257_expandedwhite_38723ind_50K.phenopca\n",
    "label_col=ethnicity\n",
    "pop_col=ethnicity\n",
    "pca_sbatch=$OUT_PATH/flashpca_f2257_pc_50K_$(date +\"%Y-%m-%d\").sbatch\n",
    "k=2\n",
    "min_axis=0\n",
    "max_axis=0\n",
    "\n",
    "pca_args=\"\"\"flashpca\n",
    "    --cwd $cwd\n",
    "    --genoFile $genoFile\n",
    "    --phenoFile $phenoFile\n",
    "    --k $k\n",
    "    --label_col $label_col\n",
    "    --pop_col $pop_col\n",
    "    --min_axis $min_axis\n",
    "    --max_axis $max_axis\n",
    "    --numThreads $numThreads \n",
    "    --job_size $job_size\n",
    "    --container_lmm $container_lmm\n",
    "\"\"\"\n",
    "\n",
    "sos run  $USER_PATH/UKBB_GWAS_dev/admin/Get_Job_Script.ipynb csg\\\n",
    "    --template-file $tpl_file \\\n",
    "    --workflow-file $pca_sos \\\n",
    "    --to-script $pca_sbatch \\\n",
    "    --args \"$pca_args\""
   ]
  },
  {
   "cell_type": "markdown",
   "metadata": {
    "kernel": "Bash"
   },
   "source": [
    "## f.2257 150K\n",
    "\n",
    "#### Step 1."
   ]
  },
  {
   "cell_type": "code",
   "execution_count": 14,
   "metadata": {
    "kernel": "Bash"
   },
   "outputs": [
    {
     "name": "stdout",
     "output_type": "stream",
     "text": [
      "INFO: Running \u001b[32mcsg\u001b[0m: Configuration for Columbia csg partition cluster\n",
      "INFO: \u001b[32mcsg\u001b[0m is \u001b[32mcompleted\u001b[0m.\n",
      "INFO: \u001b[32mcsg\u001b[0m output:   \u001b[32m/home/dmc2245/project/UKBB_GWAS_dev/output/qc1_f2257_qcarray_150K_2021-09-14.sbatch\u001b[0m\n",
      "INFO: Workflow csg (ID=w44507a1ae5adbe55) is executed successfully with 1 completed step.\n",
      "\n"
     ]
    }
   ],
   "source": [
    "## Columbia's cluster\n",
    "cwd=$UKBB_PATH/results/083021_PCA_results/091421_f2257_150Kexomes_pca\n",
    "gwas_sbatch=$OUT_PATH/qc1_f2257_qcarray_150K_$(date +\"%Y-%m-%d\").sbatch\n",
    "## Use qc'ed genotype array\n",
    "genoFile=~/UKBiobank/genotype_files_processed/090221_sample_variant_qc_final_callrate90/cache/UKB_genotypedatadownloaded083019.090221_sample_variant_qc_final_callrate90.filtered.extracted.bed\n",
    "keep_samples=$UKBB_PATH/results/083021_PCA_results/090321_UKBB_Hearing_noise_f2257_expandedwhite_123538ind_150Kexomes.keep_id\n",
    "keep_variants=$UKBB_PATH/results/083021_PCA_results/090221_ldprun_unrelated/cache/*.090221_ldprun_unrelated.filtered.prune.in\n",
    "#GWAS QC variables set all of this variables to 0 to avoid doing more filtering\n",
    "maf_filter=0\n",
    "geno_filter=0\n",
    "hwe_filter=0\n",
    "mind_filter=0\n",
    "numThreads=1\n",
    "mem='30G'\n",
    "\n",
    "gwasqc_args=\"\"\"qc:1\n",
    "    --cwd $cwd\n",
    "    --genoFile $genoFile\n",
    "    --keep_samples $keep_samples\n",
    "    --keep_variants $keep_variants\n",
    "    --maf_filter $maf_filter\n",
    "    --geno_filter $geno_filter\n",
    "    --hwe_filter $hwe_filter\n",
    "    --mind_filter $mind_filter\n",
    "    --numThreads $numThreads \n",
    "    --job_size $job_size\n",
    "    --container_lmm $container_lmm\n",
    "    --mem $mem\n",
    "\"\"\"\n",
    "\n",
    "sos run $USER_PATH/UKBB_GWAS_dev/admin/Get_Job_Script.ipynb csg \\\n",
    "    --template-file $tpl_file \\\n",
    "    --workflow-file $gwasqc_sos \\\n",
    "    --to-script $gwas_sbatch \\\n",
    "    --args \"$gwasqc_args\""
   ]
  },
  {
   "cell_type": "markdown",
   "metadata": {
    "kernel": "Bash"
   },
   "source": [
    "#### Step 2. "
   ]
  },
  {
   "cell_type": "code",
   "execution_count": 22,
   "metadata": {
    "kernel": "Bash"
   },
   "outputs": [
    {
     "name": "stdout",
     "output_type": "stream",
     "text": [
      "INFO: Running \u001b[32mcsg\u001b[0m: Configuration for Columbia csg partition cluster\n",
      "INFO: \u001b[32mcsg\u001b[0m is \u001b[32mcompleted\u001b[0m.\n",
      "INFO: \u001b[32mcsg\u001b[0m output:   \u001b[32m/home/dmc2245/project/UKBB_GWAS_dev/output/flashpca_f2257_pc_150K_2021-09-14.sbatch\u001b[0m\n",
      "INFO: Workflow csg (ID=w0ad961c577b76fb1) is executed successfully with 1 completed step.\n",
      "\n"
     ]
    }
   ],
   "source": [
    "## Columbia's cluster\n",
    "cwd=$UKBB_PATH/results/083021_PCA_results/091421_f2257_150Kexomes_pca\n",
    "#This is the bfile obtained in step 1\n",
    "genoFile=$UKBB_PATH/results/083021_PCA_results/091421_f2257_150Kexomes_pca/cache/*.bed\n",
    "# Format FID, IID, ethnicity\n",
    "phenoFile=$UKBB_PATH/results/083021_PCA_results/090321_UKBB_Hearing_noise_f2257_expandedwhite_123538ind_150K.phenopca\n",
    "label_col=ethnicity\n",
    "pop_col=ethnicity\n",
    "pca_sbatch=$OUT_PATH/flashpca_f2257_pc_150K_$(date +\"%Y-%m-%d\").sbatch\n",
    "k=2\n",
    "min_axis=0\n",
    "max_axis=0\n",
    "\n",
    "pca_args=\"\"\"flashpca\n",
    "    --cwd $cwd\n",
    "    --genoFile $genoFile\n",
    "    --phenoFile $phenoFile\n",
    "    --k $k\n",
    "    --label_col $label_col\n",
    "    --pop_col $pop_col\n",
    "    --min_axis $min_axis\n",
    "    --max_axis $max_axis\n",
    "    --numThreads $numThreads \n",
    "    --job_size $job_size\n",
    "    --container_lmm $container_lmm\n",
    "\"\"\"\n",
    "\n",
    "sos run  $USER_PATH/UKBB_GWAS_dev/admin/Get_Job_Script.ipynb csg\\\n",
    "    --template-file $tpl_file \\\n",
    "    --workflow-file $pca_sos \\\n",
    "    --to-script $pca_sbatch \\\n",
    "    --args \"$pca_args\""
   ]
  },
  {
   "cell_type": "markdown",
   "metadata": {
    "kernel": "Bash"
   },
   "source": [
    "## combined 50K\n",
    "\n",
    "#### Step 1"
   ]
  },
  {
   "cell_type": "code",
   "execution_count": 15,
   "metadata": {
    "kernel": "Bash"
   },
   "outputs": [
    {
     "name": "stdout",
     "output_type": "stream",
     "text": [
      "INFO: Running \u001b[32mcsg\u001b[0m: Configuration for Columbia csg partition cluster\n",
      "INFO: \u001b[32mcsg\u001b[0m is \u001b[32mcompleted\u001b[0m.\n",
      "INFO: \u001b[32mcsg\u001b[0m output:   \u001b[32m/home/dmc2245/project/UKBB_GWAS_dev/output/qc1_combined_qcarray_50K_2021-09-14.sbatch\u001b[0m\n",
      "INFO: Workflow csg (ID=w50102ad74cf5bbdf) is executed successfully with 1 completed step.\n",
      "\n"
     ]
    }
   ],
   "source": [
    "## Columbia's cluster\n",
    "cwd=$UKBB_PATH/results/083021_PCA_results/091421_combined_f2247_f2257_50Kexomes_pca\n",
    "gwas_sbatch=$OUT_PATH/qc1_combined_qcarray_50K_$(date +\"%Y-%m-%d\").sbatch\n",
    "## Use qc'ed genotype array\n",
    "genoFile=~/UKBiobank/genotype_files_processed/090221_sample_variant_qc_final_callrate90/cache/UKB_genotypedatadownloaded083019.090221_sample_variant_qc_final_callrate90.filtered.extracted.bed\n",
    "keep_samples=$UKBB_PATH/results/083021_PCA_results/090321_UKBB_Combined_f2247_f2257_expandedwhite_32878ind_50Kexomes.keep_id\n",
    "keep_variants=$UKBB_PATH/results/083021_PCA_results/090221_ldprun_unrelated/cache/*.090221_ldprun_unrelated.filtered.prune.in\n",
    "#GWAS QC variables set all of this variables to 0 to avoid doing more filtering\n",
    "maf_filter=0\n",
    "geno_filter=0\n",
    "hwe_filter=0\n",
    "mind_filter=0\n",
    "numThreads=1\n",
    "mem='30G'\n",
    "\n",
    "gwasqc_args=\"\"\"qc:1\n",
    "    --cwd $cwd\n",
    "    --genoFile $genoFile\n",
    "    --keep_samples $keep_samples\n",
    "    --keep_variants $keep_variants\n",
    "    --maf_filter $maf_filter\n",
    "    --geno_filter $geno_filter\n",
    "    --hwe_filter $hwe_filter\n",
    "    --mind_filter $mind_filter\n",
    "    --numThreads $numThreads \n",
    "    --job_size $job_size\n",
    "    --container_lmm $container_lmm\n",
    "    --mem $mem\n",
    "\"\"\"\n",
    "\n",
    "sos run $USER_PATH/UKBB_GWAS_dev/admin/Get_Job_Script.ipynb csg \\\n",
    "    --template-file $tpl_file \\\n",
    "    --workflow-file $gwasqc_sos \\\n",
    "    --to-script $gwas_sbatch \\\n",
    "    --args \"$gwasqc_args\""
   ]
  },
  {
   "cell_type": "markdown",
   "metadata": {
    "kernel": "Bash"
   },
   "source": [
    "## Step 2. "
   ]
  },
  {
   "cell_type": "code",
   "execution_count": 23,
   "metadata": {
    "kernel": "Bash"
   },
   "outputs": [
    {
     "name": "stdout",
     "output_type": "stream",
     "text": [
      "INFO: Running \u001b[32mcsg\u001b[0m: Configuration for Columbia csg partition cluster\n",
      "INFO: \u001b[32mcsg\u001b[0m is \u001b[32mcompleted\u001b[0m.\n",
      "INFO: \u001b[32mcsg\u001b[0m output:   \u001b[32m/home/dmc2245/project/UKBB_GWAS_dev/output/flashpca_combined_pc_50K_2021-09-14.sbatch\u001b[0m\n",
      "INFO: Workflow csg (ID=w392fb78ab856c93a) is executed successfully with 1 completed step.\n",
      "\n"
     ]
    }
   ],
   "source": [
    "## Columbia's cluster\n",
    "cwd=$UKBB_PATH/results/083021_PCA_results/091421_combined_f2247_f2257_50Kexomes_pca\n",
    "#This is the bfile obtained in step 1\n",
    "genoFile=$UKBB_PATH/results/083021_PCA_results/091421_combined_f2247_f2257_50Kexomes_pca/cache/*.bed\n",
    "# Format FID, IID, ethnicity\n",
    "phenoFile=$UKBB_PATH/results/083021_PCA_results/090321_UKBB_Combined_f2247_f2257_expandedwhite_32878ind_50K.phenopca\n",
    "label_col=ethnicity\n",
    "pop_col=ethnicity\n",
    "pca_sbatch=$OUT_PATH/flashpca_combined_pc_50K_$(date +\"%Y-%m-%d\").sbatch\n",
    "k=2\n",
    "min_axis=0\n",
    "max_axis=0\n",
    "\n",
    "pca_args=\"\"\"flashpca\n",
    "    --cwd $cwd\n",
    "    --genoFile $genoFile\n",
    "    --phenoFile $phenoFile\n",
    "    --k $k\n",
    "    --label_col $label_col\n",
    "    --pop_col $pop_col\n",
    "    --min_axis $min_axis\n",
    "    --max_axis $max_axis\n",
    "    --numThreads $numThreads \n",
    "    --job_size $job_size\n",
    "    --container_lmm $container_lmm\n",
    "\"\"\"\n",
    "\n",
    "sos run  $USER_PATH/UKBB_GWAS_dev/admin/Get_Job_Script.ipynb csg\\\n",
    "    --template-file $tpl_file \\\n",
    "    --workflow-file $pca_sos \\\n",
    "    --to-script $pca_sbatch \\\n",
    "    --args \"$pca_args\""
   ]
  },
  {
   "cell_type": "markdown",
   "metadata": {
    "kernel": "Bash"
   },
   "source": [
    "## combined 150K\n",
    "\n",
    "#### Step 1."
   ]
  },
  {
   "cell_type": "code",
   "execution_count": 16,
   "metadata": {
    "kernel": "Bash"
   },
   "outputs": [
    {
     "name": "stdout",
     "output_type": "stream",
     "text": [
      "INFO: Running \u001b[32mcsg\u001b[0m: Configuration for Columbia csg partition cluster\n",
      "INFO: \u001b[32mcsg\u001b[0m is \u001b[32mcompleted\u001b[0m.\n",
      "INFO: \u001b[32mcsg\u001b[0m output:   \u001b[32m/home/dmc2245/project/UKBB_GWAS_dev/output/qc1_combined_qcarray_150K_2021-09-14.sbatch\u001b[0m\n",
      "INFO: Workflow csg (ID=w97617f3c320f3808) is executed successfully with 1 completed step.\n",
      "\n"
     ]
    }
   ],
   "source": [
    "## Columbia's cluster\n",
    "cwd=$UKBB_PATH/results/083021_PCA_results/091421_combined_f2247_f2257_150Kexomes_pca\n",
    "gwas_sbatch=$OUT_PATH/qc1_combined_qcarray_150K_$(date +\"%Y-%m-%d\").sbatch\n",
    "## Use qc'ed genotype array\n",
    "genoFile=~/UKBiobank/genotype_files_processed/090221_sample_variant_qc_final_callrate90/cache/UKB_genotypedatadownloaded083019.090221_sample_variant_qc_final_callrate90.filtered.extracted.bed\n",
    "keep_samples=$UKBB_PATH/results/083021_PCA_results/090321_UKBB_Combined_f2247_f2257_expandedwhite_102133ind_150Kexomes.keep_id\n",
    "keep_variants=$UKBB_PATH/results/083021_PCA_results/090221_ldprun_unrelated/cache/*.090221_ldprun_unrelated.filtered.prune.in\n",
    "#GWAS QC variables set all of this variables to 0 to avoid doing more filtering\n",
    "maf_filter=0\n",
    "geno_filter=0\n",
    "hwe_filter=0\n",
    "mind_filter=0\n",
    "numThreads=1\n",
    "mem='30G'\n",
    "\n",
    "gwasqc_args=\"\"\"qc:1\n",
    "    --cwd $cwd\n",
    "    --genoFile $genoFile\n",
    "    --keep_samples $keep_samples\n",
    "    --keep_variants $keep_variants\n",
    "    --maf_filter $maf_filter\n",
    "    --geno_filter $geno_filter\n",
    "    --hwe_filter $hwe_filter\n",
    "    --mind_filter $mind_filter\n",
    "    --numThreads $numThreads \n",
    "    --job_size $job_size\n",
    "    --container_lmm $container_lmm\n",
    "    --mem $mem\n",
    "\"\"\"\n",
    "\n",
    "sos run $USER_PATH/UKBB_GWAS_dev/admin/Get_Job_Script.ipynb csg \\\n",
    "    --template-file $tpl_file \\\n",
    "    --workflow-file $gwasqc_sos \\\n",
    "    --to-script $gwas_sbatch \\\n",
    "    --args \"$gwasqc_args\""
   ]
  },
  {
   "cell_type": "markdown",
   "metadata": {
    "kernel": "Bash"
   },
   "source": [
    "#### Step 2."
   ]
  },
  {
   "cell_type": "code",
   "execution_count": 24,
   "metadata": {
    "kernel": "Bash"
   },
   "outputs": [
    {
     "name": "stdout",
     "output_type": "stream",
     "text": [
      "INFO: Running \u001b[32mcsg\u001b[0m: Configuration for Columbia csg partition cluster\n",
      "INFO: \u001b[32mcsg\u001b[0m is \u001b[32mcompleted\u001b[0m.\n",
      "INFO: \u001b[32mcsg\u001b[0m output:   \u001b[32m/home/dmc2245/project/UKBB_GWAS_dev/output/flashpca_combined_pc_150K_2021-09-14.sbatch\u001b[0m\n",
      "INFO: Workflow csg (ID=w76325a9da60537fd) is executed successfully with 1 completed step.\n",
      "\n"
     ]
    }
   ],
   "source": [
    "## Columbia's cluster\n",
    "cwd=$UKBB_PATH/results/083021_PCA_results/091421_combined_f2247_f2257_150Kexomes_pca\n",
    "#This is the bfile obtained in step 1\n",
    "genoFile=$UKBB_PATH/results/083021_PCA_results/091421_combined_f2247_f2257_150Kexomes_pca/cache/*.bed\n",
    "# Format FID, IID, ethnicity\n",
    "phenoFile=$UKBB_PATH/results/083021_PCA_results/090321_UKBB_Combined_f2247_f2257_expandedwhite_102133ind_150K.phenopca\n",
    "label_col=ethnicity\n",
    "pop_col=ethnicity\n",
    "pca_sbatch=$OUT_PATH/flashpca_combined_pc_150K_$(date +\"%Y-%m-%d\").sbatch\n",
    "k=2\n",
    "min_axis=0\n",
    "max_axis=0\n",
    "\n",
    "pca_args=\"\"\"flashpca\n",
    "    --cwd $cwd\n",
    "    --genoFile $genoFile\n",
    "    --phenoFile $phenoFile\n",
    "    --k $k\n",
    "    --label_col $label_col\n",
    "    --pop_col $pop_col\n",
    "    --min_axis $min_axis\n",
    "    --max_axis $max_axis\n",
    "    --numThreads $numThreads \n",
    "    --job_size $job_size\n",
    "    --container_lmm $container_lmm\n",
    "\"\"\"\n",
    "\n",
    "sos run  $USER_PATH/UKBB_GWAS_dev/admin/Get_Job_Script.ipynb csg\\\n",
    "    --template-file $tpl_file \\\n",
    "    --workflow-file $pca_sos \\\n",
    "    --to-script $pca_sbatch \\\n",
    "    --args \"$pca_args\""
   ]
  },
  {
   "cell_type": "markdown",
   "metadata": {
    "kernel": "Bash"
   },
   "source": [
    "# Get the phenoFiles for Asian and Africans"
   ]
  },
  {
   "cell_type": "code",
   "execution_count": 14,
   "metadata": {
    "kernel": "Bash"
   },
   "outputs": [],
   "source": [
    "library(dplyr)"
   ]
  },
  {
   "cell_type": "code",
   "execution_count": 48,
   "metadata": {
    "kernel": "Bash"
   },
   "outputs": [],
   "source": [
    "asian <-  read.table(\"/mnt/mfs/statgen/UKBiobank/phenotype_files/asian_IID/010622_ukb47922_asian_10695.iid\", sep=\"\\t\", header=T)"
   ]
  },
  {
   "cell_type": "code",
   "execution_count": 32,
   "metadata": {
    "kernel": "Bash"
   },
   "outputs": [
    {
     "data": {
      "text/html": [
       "<table class=\"dataframe\">\n",
       "<caption>A data.frame: 6 x 3</caption>\n",
       "<thead>\n",
       "\t<tr><th></th><th scope=col>FID</th><th scope=col>IID</th><th scope=col>ethnicity</th></tr>\n",
       "\t<tr><th></th><th scope=col>&lt;int&gt;</th><th scope=col>&lt;int&gt;</th><th scope=col>&lt;fct&gt;</th></tr>\n",
       "</thead>\n",
       "<tbody>\n",
       "\t<tr><th scope=row>1</th><td>1000906</td><td>1000906</td><td>3003</td></tr>\n",
       "\t<tr><th scope=row>2</th><td>1001874</td><td>1001874</td><td>3004</td></tr>\n",
       "\t<tr><th scope=row>3</th><td>1002497</td><td>1002497</td><td>3001</td></tr>\n",
       "\t<tr><th scope=row>4</th><td>1002712</td><td>1002712</td><td>3001</td></tr>\n",
       "\t<tr><th scope=row>5</th><td>1003025</td><td>1003025</td><td>3001</td></tr>\n",
       "\t<tr><th scope=row>6</th><td>1003083</td><td>1003083</td><td>3001</td></tr>\n",
       "</tbody>\n",
       "</table>\n"
      ],
      "text/latex": [
       "A data.frame: 6 x 3\n",
       "\\begin{tabular}{r|lll}\n",
       "  & FID & IID & ethnicity\\\\\n",
       "  & <int> & <int> & <fct>\\\\\n",
       "\\hline\n",
       "\t1 & 1000906 & 1000906 & 3003\\\\\n",
       "\t2 & 1001874 & 1001874 & 3004\\\\\n",
       "\t3 & 1002497 & 1002497 & 3001\\\\\n",
       "\t4 & 1002712 & 1002712 & 3001\\\\\n",
       "\t5 & 1003025 & 1003025 & 3001\\\\\n",
       "\t6 & 1003083 & 1003083 & 3001\\\\\n",
       "\\end{tabular}\n"
      ],
      "text/markdown": [
       "\n",
       "A data.frame: 6 x 3\n",
       "\n",
       "| <!--/--> | FID &lt;int&gt; | IID &lt;int&gt; | ethnicity &lt;fct&gt; |\n",
       "|---|---|---|---|\n",
       "| 1 | 1000906 | 1000906 | 3003 |\n",
       "| 2 | 1001874 | 1001874 | 3004 |\n",
       "| 3 | 1002497 | 1002497 | 3001 |\n",
       "| 4 | 1002712 | 1002712 | 3001 |\n",
       "| 5 | 1003025 | 1003025 | 3001 |\n",
       "| 6 | 1003083 | 1003083 | 3001 |\n",
       "\n"
      ],
      "text/plain": [
       "  FID     IID     ethnicity\n",
       "1 1000906 1000906 3003     \n",
       "2 1001874 1001874 3004     \n",
       "3 1002497 1002497 3001     \n",
       "4 1002712 1002712 3001     \n",
       "5 1003025 1003025 3001     \n",
       "6 1003083 1003083 3001     "
      ]
     },
     "metadata": {},
     "output_type": "display_data"
    }
   ],
   "source": [
    "head(asian)"
   ]
  },
  {
   "cell_type": "code",
   "execution_count": 49,
   "metadata": {
    "kernel": "Bash"
   },
   "outputs": [],
   "source": [
    "asian <- asian %>%\n",
    "    mutate(ethnia=recode(ethnicity, '3001' = \"Indian\", \"3002\" = \"Pakistani\", \"3003\" = \"Bangladeshi\", \"2003\" = 'White_and_Asian', \"3004\" = \"Any_other_asian_background\", '3' = \"Asian_or_Asian_British\")) %>%\n",
    "    select(FID,IID,ethnia)"
   ]
  },
  {
   "cell_type": "code",
   "execution_count": 50,
   "metadata": {
    "kernel": "Bash"
   },
   "outputs": [
    {
     "data": {
      "text/html": [
       "<table class=\"dataframe\">\n",
       "<caption>A data.frame: 6 x 3</caption>\n",
       "<thead>\n",
       "\t<tr><th></th><th scope=col>FID</th><th scope=col>IID</th><th scope=col>ethnia</th></tr>\n",
       "\t<tr><th></th><th scope=col>&lt;int&gt;</th><th scope=col>&lt;int&gt;</th><th scope=col>&lt;fct&gt;</th></tr>\n",
       "</thead>\n",
       "<tbody>\n",
       "\t<tr><th scope=row>1</th><td>1000906</td><td>1000906</td><td>Bangladeshi               </td></tr>\n",
       "\t<tr><th scope=row>2</th><td>1001874</td><td>1001874</td><td>Any_other_asian_background</td></tr>\n",
       "\t<tr><th scope=row>3</th><td>1002497</td><td>1002497</td><td>Indian                    </td></tr>\n",
       "\t<tr><th scope=row>4</th><td>1002712</td><td>1002712</td><td>Indian                    </td></tr>\n",
       "\t<tr><th scope=row>5</th><td>1003025</td><td>1003025</td><td>Indian                    </td></tr>\n",
       "\t<tr><th scope=row>6</th><td>1003083</td><td>1003083</td><td>Indian                    </td></tr>\n",
       "</tbody>\n",
       "</table>\n"
      ],
      "text/latex": [
       "A data.frame: 6 x 3\n",
       "\\begin{tabular}{r|lll}\n",
       "  & FID & IID & ethnia\\\\\n",
       "  & <int> & <int> & <fct>\\\\\n",
       "\\hline\n",
       "\t1 & 1000906 & 1000906 & Bangladeshi               \\\\\n",
       "\t2 & 1001874 & 1001874 & Any\\_other\\_asian\\_background\\\\\n",
       "\t3 & 1002497 & 1002497 & Indian                    \\\\\n",
       "\t4 & 1002712 & 1002712 & Indian                    \\\\\n",
       "\t5 & 1003025 & 1003025 & Indian                    \\\\\n",
       "\t6 & 1003083 & 1003083 & Indian                    \\\\\n",
       "\\end{tabular}\n"
      ],
      "text/markdown": [
       "\n",
       "A data.frame: 6 x 3\n",
       "\n",
       "| <!--/--> | FID &lt;int&gt; | IID &lt;int&gt; | ethnia &lt;fct&gt; |\n",
       "|---|---|---|---|\n",
       "| 1 | 1000906 | 1000906 | Bangladeshi                |\n",
       "| 2 | 1001874 | 1001874 | Any_other_asian_background |\n",
       "| 3 | 1002497 | 1002497 | Indian                     |\n",
       "| 4 | 1002712 | 1002712 | Indian                     |\n",
       "| 5 | 1003025 | 1003025 | Indian                     |\n",
       "| 6 | 1003083 | 1003083 | Indian                     |\n",
       "\n"
      ],
      "text/plain": [
       "  FID     IID     ethnia                    \n",
       "1 1000906 1000906 Bangladeshi               \n",
       "2 1001874 1001874 Any_other_asian_background\n",
       "3 1002497 1002497 Indian                    \n",
       "4 1002712 1002712 Indian                    \n",
       "5 1003025 1003025 Indian                    \n",
       "6 1003083 1003083 Indian                    "
      ]
     },
     "metadata": {},
     "output_type": "display_data"
    }
   ],
   "source": [
    "head(asian)"
   ]
  },
  {
   "cell_type": "code",
   "execution_count": 51,
   "metadata": {
    "kernel": "Bash"
   },
   "outputs": [],
   "source": [
    "write.table(asian, \"/mnt/mfs/statgen/UKBiobank/phenotype_files/asian_IID/010622_ukb47922_asian_10695_pop_superpop.iid\", sep=\"\\t\", row.names = FALSE, col.names =TRUE, quote=FALSE)"
   ]
  },
  {
   "cell_type": "code",
   "execution_count": 52,
   "metadata": {
    "kernel": "Bash"
   },
   "outputs": [],
   "source": [
    "african <-  read.table(\"/mnt/mfs/statgen/UKBiobank/phenotype_files/african_IID/010622_ukb47922_african_9096.iid\", sep=\"\\t\", header=T)"
   ]
  },
  {
   "cell_type": "code",
   "execution_count": 53,
   "metadata": {
    "kernel": "Bash"
   },
   "outputs": [],
   "source": [
    "african <- african %>%\n",
    "    mutate(ethnia=recode(ethnicity, '4001' = \"Caribbean\", \"4002\" = \"African\", \"4003\" = \"Any_other_Black_background\", \"2001\" = 'White_and_Black_Caribbean', \"2002\" = \"White_and_Black_African\", '4' = \"Black_or_Black_British\")) %>%\n",
    "    select(FID,IID,ethnia)"
   ]
  },
  {
   "cell_type": "code",
   "execution_count": 54,
   "metadata": {
    "kernel": "Bash"
   },
   "outputs": [],
   "source": [
    "write.table(african, \"/mnt/mfs/statgen/UKBiobank/phenotype_files/african_IID/010622_ukb47922_african_9096_pop_superpop.iid\", sep=\"\\t\", row.names = FALSE, col.names =TRUE, quote=FALSE)"
   ]
  },
  {
   "cell_type": "markdown",
   "metadata": {
    "kernel": "Bash"
   },
   "source": [
    "# 01-07-22 PCA for Asian samples in the full data N=10,189 of these N=4,591 have exome data"
   ]
  },
  {
   "cell_type": "markdown",
   "metadata": {
    "kernel": "Bash"
   },
   "source": [
    "## Step 1. Run King to check sample relatedness N=1,111 samples related\n",
    "\n",
    "The file with the Asian individuals that have imputed and exome data\n",
    "\n",
    "`~/UKBiobank/genotype_files_processed/010622_asian_10189ind/010722_asian_qc_10188ind_withexome_or_imputed`"
   ]
  },
  {
   "cell_type": "code",
   "execution_count": 4,
   "metadata": {
    "kernel": "Bash"
   },
   "outputs": [
    {
     "name": "stdout",
     "output_type": "stream",
     "text": [
      "INFO: Running \u001b[32mcsg\u001b[0m: Configuration for Columbia csg partition cluster\n",
      "INFO: \u001b[32mcsg\u001b[0m is \u001b[32mcompleted\u001b[0m.\n",
      "INFO: \u001b[32mcsg\u001b[0m output:   \u001b[32m/home/dmc2245/project/UKBB_GWAS_dev/output/flashpca_king_asian_2022-01-07.sbatch\u001b[0m\n",
      "INFO: Workflow csg (ID=w561b4276c3de8ab6) is executed successfully with 1 completed step.\n",
      "\n"
     ]
    }
   ],
   "source": [
    "##Columbia's variables\n",
    "cwd=$UKBB_PATH/genotype_files_processed/010622_asian_10189ind/010722_king_asian\n",
    "genoFile=~/UKBiobank/genotype_files_processed/010622_asian_10189ind/010722_sample_var_final_qc/cache/UKB_genotypedatadownloaded083019.010722_sample_var_final_qc.filtered.extracted.bed\n",
    "king_sbatch=$OUT_PATH/flashpca_king_asian_$(date +\"%Y-%m-%d\").sbatch\n",
    "kinship=0.0625\n",
    "gwasqc_sos=$USER_PATH/bioworkflows/GWAS/GWAS_QC.ipynb\n",
    "numThreads=20\n",
    "mem='30G'\n",
    "walltime='36h'\n",
    "\n",
    "king_args=\"\"\"king\n",
    "    --cwd $cwd\n",
    "    --genoFile $genoFile\n",
    "    --kinship $kinship\n",
    "    --numThreads $numThreads \n",
    "    --job_size $job_size\n",
    "    --container_lmm $container_lmm\n",
    "    --mem $mem\n",
    "    --walltime $walltime\n",
    "    --no-maximize-unrelated\n",
    "\"\"\"\n",
    "\n",
    "sos run ~/project/UKBB_GWAS_dev/admin/Get_Job_Script.ipynb csg \\\n",
    "    --template-file $tpl_file \\\n",
    "    --workflow-file $gwasqc_sos \\\n",
    "    --to-script $king_sbatch \\\n",
    "    --args \"$king_args\""
   ]
  },
  {
   "cell_type": "markdown",
   "metadata": {
    "kernel": "Bash"
   },
   "source": [
    "## Step 2. Get the unrelated individuals and do LD pruning"
   ]
  },
  {
   "cell_type": "code",
   "execution_count": 4,
   "metadata": {
    "kernel": "Bash"
   },
   "outputs": [
    {
     "name": "stdout",
     "output_type": "stream",
     "text": [
      "INFO: Running \u001b[32mcsg\u001b[0m: Configuration for Columbia csg partition cluster\n",
      "INFO: \u001b[32mcsg\u001b[0m is \u001b[32mcompleted\u001b[0m.\n",
      "INFO: \u001b[32mcsg\u001b[0m output:   \u001b[32m/home/dmc2245/project/UKBB_GWAS_dev/output/ldprun_unrelated_asian_2022-01-10.sbatch\u001b[0m\n",
      "INFO: Workflow csg (ID=w339f1ad05015d800) is executed successfully with 1 completed step.\n",
      "\n"
     ]
    }
   ],
   "source": [
    "## Columbia's cluster\n",
    "cwd=$UKBB_PATH/genotype_files_processed/010622_asian_10189ind/010722_ldprun_unrelated_asian\n",
    "## Use the qc version of the genotype array with the already filtered asian individuals\n",
    "genoFile=~/UKBiobank/genotype_files_processed/010622_asian_10189ind/010722_sample_var_final_qc/cache/UKB_genotypedatadownloaded083019.010722_sample_var_final_qc.filtered.extracted.bed\n",
    "#To keep the samples of asian and unrelated individuals only\n",
    "remove_samples=$UKBB_PATH/genotype_files_processed/010622_asian_10189ind/010722_king_asian/UKB_genotypedatadownloaded083019.010722_sample_var_final_qc.filtered.extracted.010722_king_asian.related_id\n",
    "\n",
    "#GWAS QC variables: leave all the variables in 0 so there's no more filtering in the already filtered data\n",
    "maf_filter=0\n",
    "geno_filter=0\n",
    "hwe_filter=0\n",
    "mind_filter=0\n",
    "#LD prunning variables\n",
    "window=50\n",
    "shift=10\n",
    "r2=0.1\n",
    "gwas_sbatch=$OUT_PATH/ldprun_unrelated_asian_$(date +\"%Y-%m-%d\").sbatch\n",
    "numThreads=20\n",
    "mem='30G'\n",
    "\n",
    "gwasqc_args=\"\"\"qc\n",
    "    --cwd $cwd\n",
    "    --genoFile $genoFile\n",
    "    --remove_samples $remove_samples\n",
    "    --maf_filter $maf_filter\n",
    "    --geno_filter $geno_filter\n",
    "    --hwe_filter $hwe_filter\n",
    "    --mind_filter $mind_filter\n",
    "    --window $window\n",
    "    --shift $shift\n",
    "    --r2 $r2\n",
    "    --numThreads $numThreads \n",
    "    --job_size $job_size\n",
    "    --container_lmm $container_lmm\n",
    "    --mem $mem\n",
    "\"\"\"\n",
    "\n",
    "sos run ~/project/UKBB_GWAS_dev/admin/Get_Job_Script.ipynb csg\\\n",
    "    --template-file $tpl_file \\\n",
    "    --workflow-file $gwasqc_sos \\\n",
    "    --to-script $gwas_sbatch \\\n",
    "    --args \"$gwasqc_args\""
   ]
  },
  {
   "cell_type": "markdown",
   "metadata": {
    "kernel": "Bash"
   },
   "source": [
    "## Step 3. Run PCA for unrelated Asian"
   ]
  },
  {
   "cell_type": "code",
   "execution_count": 20,
   "metadata": {
    "kernel": "Bash"
   },
   "outputs": [
    {
     "name": "stdout",
     "output_type": "stream",
     "text": [
      "INFO: Running \u001b[32mcsg\u001b[0m: Configuration for Columbia csg partition cluster\n",
      "INFO: \u001b[32mcsg\u001b[0m is \u001b[32mcompleted\u001b[0m.\n",
      "INFO: \u001b[32mcsg\u001b[0m output:   \u001b[32m/home/dmc2245/project/UKBB_GWAS_dev/output/flashpca_asian_unrelated_genoarray_2022-01-10.sbatch\u001b[0m\n",
      "INFO: Workflow csg (ID=wa8d2fc29796281ae) is executed successfully with 1 completed step.\n",
      "\n"
     ]
    }
   ],
   "source": [
    "## Columbia's cluster\n",
    "cwd=$UKBB_PATH/genotype_files_processed/010622_asian_10189ind/010722_pca_unrelated_asian\n",
    "#This is the bfile originated after filtering unrelated individuals and pruning\n",
    "genoFile=$UKBB_PATH/genotype_files_processed/010622_asian_10189ind/010722_ldprun_unrelated_asian/cache/UKB_genotypedatadownloaded083019.010722_sample_var_final_qc.filtered.extracted.010722_ldprun_unrelated_asian.filtered.prune.bed\n",
    "## I had to modify the original file to add a super_pop and replace ethnicity for pop\n",
    "phenoFile=/mnt/mfs/statgen/UKBiobank/phenotype_files/asian_IID/010622_ukb47922_asian_10695_pop_superpop.iid\n",
    "label_col=ethnia\n",
    "pca_sbatch=$OUT_PATH/flashpca_asian_unrelated_genoarray_$(date +\"%Y-%m-%d\").sbatch\n",
    "k=10\n",
    "maha_k=5\n",
    "min_axis=\"\"\n",
    "max_axis=\"\"\n",
    "homogeneous=TRUE\n",
    "\n",
    "pca_args=\"\"\"flashpca\n",
    "    --cwd $cwd\n",
    "    --genoFile $genoFile\n",
    "    --phenoFile $phenoFile\n",
    "    --k $k\n",
    "    --maha_k $maha_k\n",
    "    --label_col $label_col\n",
    "    --pop_col $pop_col\n",
    "    --pops $pops\n",
    "    --min_axis $min_axis\n",
    "    --max_axis $max_axis\n",
    "    --homogeneous $homogeneous\n",
    "    --numThreads $numThreads \n",
    "    --job_size $job_size\n",
    "    --container_lmm $container_lmm\n",
    "\"\"\"\n",
    "\n",
    "sos run ~/project/UKBB_GWAS_dev/admin/Get_Job_Script.ipynb csg \\\n",
    "    --template-file $tpl_file \\\n",
    "    --workflow-file $pca_sos \\\n",
    "    --to-script $pca_sbatch \\\n",
    "    --args \"$pca_args\""
   ]
  },
  {
   "cell_type": "markdown",
   "metadata": {
    "kernel": "Bash"
   },
   "source": [
    "## Step 4. Get the bed file for related Asian"
   ]
  },
  {
   "cell_type": "code",
   "execution_count": 11,
   "metadata": {
    "kernel": "Bash"
   },
   "outputs": [
    {
     "name": "stdout",
     "output_type": "stream",
     "text": [
      "INFO: Running \u001b[32mcsg\u001b[0m: Configuration for Columbia csg partition cluster\n",
      "INFO: \u001b[32mcsg\u001b[0m is \u001b[32mcompleted\u001b[0m.\n",
      "INFO: \u001b[32mcsg\u001b[0m output:   \u001b[32m/home/dmc2245/project/UKBB_GWAS_dev/output/flashpca_asian_related_qc_genoarray_2022-01-10.sbatch\u001b[0m\n",
      "INFO: Workflow csg (ID=wc78d7a348c45c450) is executed successfully with 1 completed step.\n",
      "\n"
     ]
    }
   ],
   "source": [
    "## Columbia's cluster\n",
    "cwd=$UKBB_PATH/genotype_files_processed/010622_asian_10189ind/010722_related_asian\n",
    "## Use qc'ed genotype array\n",
    "genoFile=~/UKBiobank/genotype_files_processed/010622_asian_10189ind/010722_sample_var_final_qc/cache/UKB_genotypedatadownloaded083019.010722_sample_var_final_qc.filtered.extracted.bed\n",
    "keep_samples=$UKBB_PATH/genotype_files_processed/010622_asian_10189ind/010722_king_asian/UKB_genotypedatadownloaded083019.010722_sample_var_final_qc.filtered.extracted.010722_king_asian.related_id\n",
    "#Keep the same variants as above\n",
    "keep_variants=~/UKBiobank/genotype_files_processed/010622_asian_10189ind/010722_ldprun_unrelated_asian/cache/UKB_genotypedatadownloaded083019.010722_sample_var_final_qc.filtered.extracted.010722_ldprun_unrelated_asian.filtered.prune.in\n",
    "\n",
    "#GWAS QC variables\n",
    "maf_filter=0\n",
    "geno_filter=0\n",
    "hwe_filter=0\n",
    "mind_filter=0\n",
    "gwas_sbatch=$OUT_PATH/flashpca_asian_related_qc_genoarray_$(date +\"%Y-%m-%d\").sbatch\n",
    "numThreads=20\n",
    "mem='30G'\n",
    "merged_prefix='ukb23155_qc_related_genoarray_asian'\n",
    "\n",
    "gwasqc_args=\"\"\"qc:1\n",
    "    --cwd $cwd\n",
    "    --genoFile $genoFile\n",
    "    --keep_samples $keep_samples\n",
    "    --keep_variants $keep_variants\n",
    "    --maf_filter $maf_filter\n",
    "    --geno_filter $geno_filter\n",
    "    --hwe_filter $hwe_filter\n",
    "    --mind_filter $mind_filter\n",
    "    --merged_prefix $merged_prefix\n",
    "    --numThreads $numThreads \n",
    "    --job_size $job_size\n",
    "    --container_lmm $container_lmm\n",
    "    --mem $mem\n",
    "\"\"\"\n",
    "\n",
    "sos run ~/project/UKBB_GWAS_dev/admin/Get_Job_Script.ipynb csg \\\n",
    "    --template-file $tpl_file \\\n",
    "    --workflow-file $gwasqc_sos \\\n",
    "    --to-script $gwas_sbatch \\\n",
    "    --args \"$gwasqc_args\""
   ]
  },
  {
   "cell_type": "markdown",
   "metadata": {
    "kernel": "Bash"
   },
   "source": [
    "## Step 5. Project back related asian individuals"
   ]
  },
  {
   "cell_type": "code",
   "execution_count": 24,
   "metadata": {
    "kernel": "Bash"
   },
   "outputs": [
    {
     "name": "stdout",
     "output_type": "stream",
     "text": [
      "INFO: Running \u001b[32mcsg\u001b[0m: Configuration for Columbia csg partition cluster\n",
      "INFO: \u001b[32mcsg\u001b[0m is \u001b[32mcompleted\u001b[0m.\n",
      "INFO: \u001b[32mcsg\u001b[0m output:   \u001b[32m/home/dmc2245/project/UKBB_GWAS_dev/output/flashpca_asian_related_genoarray_projected_2022-01-10.sbatch\u001b[0m\n",
      "INFO: Workflow csg (ID=w5836c0866cc3f9ed) is executed successfully with 1 completed step.\n",
      "\n"
     ]
    }
   ],
   "source": [
    "## Columbia's cluster\n",
    "cwd=$UKBB_PATH/genotype_files_processed/010622_asian_10189ind/010722_project_related_asian\n",
    "#This is the bfile originated after filtering related individuals\n",
    "genoFile=$UKBB_PATH/genotype_files_processed/010622_asian_10189ind/010722_related_asian/cache/UKB_genotypedatadownloaded083019.010722_sample_var_final_qc.filtered.extracted.010722_related_asian.filtered.extracted.bed\n",
    "## I had to modify the original file to add a super_pop and replace ethnicity for pop\n",
    "phenoFile=/mnt/mfs/statgen/UKBiobank/phenotype_files/asian_IID/010622_ukb47922_asian_10695_pop_superpop.iid\n",
    "pca_model=$UKBB_PATH/genotype_files_processed/010622_asian_10189ind/010722_pca_unrelated_asian/010622_ukb47922_asian_10695_pop_superpop.010722_pca_unrelated_asian.pca.rds\n",
    "pca_sbatch=$OUT_PATH/flashpca_asian_related_genoarray_projected_$(date +\"%Y-%m-%d\").sbatch\n",
    "label_col=ethnia\n",
    "pop_col=ethnia\n",
    "k=10\n",
    "maha_k=5\n",
    "prob=0.997\n",
    "pval=0.05\n",
    "## set the --homogeneous TRUE options to consider all the pops like one \n",
    "homogeneous=TRUE\n",
    "## For the plot you need to use the *.projected.rds and not the *.projected.mahalanobis.rds\n",
    "#plot_data=$UKBB_PATH/results/070921_pca_genotype_array/white_expanded_06_30_21_genoarray_projected/030821_ukb42495_exomed_white_189010ind.pheno.white_expanded_06_30_21_genoarray_projected.pca.projected.rds\n",
    "#outlier_file=$UKBB_PATH/results/070921_pca_genotype_array/white_expanded_06_30_21_genoarray_projected/030821_ukb42495_exomed_white_189010ind.pheno.white_expanded_06_30_21_genoarray_projected.pca.projected.outliers\n",
    "\n",
    "\n",
    "pca_args=\"\"\"project_samples\n",
    "    --cwd $cwd\n",
    "    --genoFile $genoFile\n",
    "    --phenoFile $phenoFile\n",
    "    --pca_model $pca_model\n",
    "    --k $k\n",
    "    --maha_k $maha_k\n",
    "    --label_col $label_col\n",
    "    --pop_col $pop_col\n",
    "    --prob $prob\n",
    "    --pval $pval\n",
    "    --homogeneous $homogeneous\n",
    "    --numThreads $numThreads \n",
    "    --job_size $job_size\n",
    "    --container_lmm $container_lmm\n",
    "\"\"\"\n",
    "\n",
    "sos run ~/project/UKBB_GWAS_dev/admin/Get_Job_Script.ipynb csg \\\n",
    "    --template-file $tpl_file \\\n",
    "    --workflow-file $pca_sos \\\n",
    "    --to-script $pca_sbatch \\\n",
    "    --args \"$pca_args\""
   ]
  },
  {
   "cell_type": "markdown",
   "metadata": {
    "kernel": "Bash"
   },
   "source": [
    "## Step 6. Plot projected indviduals and look for outliers "
   ]
  },
  {
   "cell_type": "code",
   "execution_count": 28,
   "metadata": {
    "kernel": "Bash"
   },
   "outputs": [
    {
     "name": "stdout",
     "output_type": "stream",
     "text": [
      "INFO: Running \u001b[32mcsg\u001b[0m: Configuration for Columbia csg partition cluster\n",
      "INFO: \u001b[32mcsg\u001b[0m is \u001b[32mcompleted\u001b[0m.\n",
      "INFO: \u001b[32mcsg\u001b[0m output:   \u001b[32m/home/dmc2245/project/UKBB_GWAS_dev/output/flashpca_asian_related_genoarray_plot_2022-01-10.sbatch\u001b[0m\n",
      "INFO: Workflow csg (ID=w5aed8844c8fe2afd) is executed successfully with 1 completed step.\n",
      "\n"
     ]
    }
   ],
   "source": [
    "## Columbia's cluster\n",
    "cwd=$UKBB_PATH/genotype_files_processed/010622_asian_10189ind/010722_project_related_asian\n",
    "#This is the bfile originated after filtering related individuals\n",
    "genoFile=$UKBB_PATH/genotype_files_processed/010622_asian_10189ind/010722_related_asian/cache/UKB_genotypedatadownloaded083019.010722_sample_var_final_qc.filtered.extracted.010722_related_asian.filtered.extracted.bed\n",
    "## I had to modify the original file to add a super_pop and replace ethnicity for pop\n",
    "phenoFile=/mnt/mfs/statgen/UKBiobank/phenotype_files/asian_IID/010622_ukb47922_asian_10695_pop_superpop.iid\n",
    "pca_model=$UKBB_PATH/genotype_files_processed/010622_asian_10189ind/010722_pca_unrelated_asian/010622_ukb47922_asian_10695_pop_superpop.010722_pca_unrelated_asian.pca.rds\n",
    "plot_data=$UKBB_PATH/genotype_files_processed/010622_asian_10189ind/010722_project_related_asian/010622_ukb47922_asian_10695_pop_superpop.010722_project_related_asian.pca.projected.rds\n",
    "outlier_file=$UKBB_PATH/genotype_files_processed/010622_asian_10189ind/010722_project_related_asian/010622_ukb47922_asian_10695_pop_superpop.010722_project_related_asian.pca.projected.outliers\n",
    "label_col=ethnia\n",
    "pop_col=ethnia\n",
    "pca_sbatch=$OUT_PATH/flashpca_asian_related_genoarray_plot_$(date +\"%Y-%m-%d\").sbatch\n",
    "\n",
    "pca_args=\"\"\"plot_pca\n",
    "    --cwd $cwd\n",
    "    --genoFile $genoFile\n",
    "    --phenoFile $phenoFile\n",
    "    --label_col $label_col\n",
    "    --pop_col $pop_col\n",
    "    --plot_data $plot_data\n",
    "    --outlier_file $outlier_file\n",
    "    --numThreads $numThreads \n",
    "    --job_size $job_size\n",
    "    --container_lmm $container_lmm\n",
    "\"\"\"\n",
    "\n",
    "sos run ~/project/UKBB_GWAS_dev/admin/Get_Job_Script.ipynb csg  \\\n",
    "    --template-file $tpl_file \\\n",
    "    --workflow-file $pca_sos \\\n",
    "    --to-script $pca_sbatch \\\n",
    "    --args \"$pca_args\""
   ]
  },
  {
   "cell_type": "markdown",
   "metadata": {
    "kernel": "Bash"
   },
   "source": [
    "## Get the sample id and variant list after QC and PCA"
   ]
  },
  {
   "cell_type": "code",
   "execution_count": null,
   "metadata": {
    "kernel": "Bash"
   },
   "outputs": [],
   "source": [
    "# N=10,157 samples and 444,076 variants\n",
    "plink2 \\\n",
    "    --bfile ~/UKBiobank/genotype_files_processed/010622_asian_10189ind/010722_sample_var_final_qc/cache/UKB_genotypedatadownloaded083019.010722_sample_var_final_qc.filtered.extracted \\\n",
    "    --remove ~/UKBiobank/genotype_files_processed/010622_asian_10189ind/010722_project_related_asian/010622_ukb47922_asian_10695_pop_superpop.010722_project_related_asian.pca.projected.outliers \\\n",
    "    --write-snplist --write-samples --no-id-header \\\n",
    "    --threads 8 \\\n",
    "    --out ~/UKBiobank/genotype_files_processed/010622_asian_10189ind/UKB_genotypedatadownloaded083019.010722_sample_var_final_qc.filtered.extracted_ASIAN"
   ]
  },
  {
   "cell_type": "markdown",
   "metadata": {
    "kernel": "Bash"
   },
   "source": [
    "# 01-07-22 PCA for African samples in th full data N=8,617 of these N=3,678 have exome data"
   ]
  },
  {
   "cell_type": "markdown",
   "metadata": {
    "kernel": "Bash"
   },
   "source": [
    "## Step 1. Run King to check sample relatedness\n",
    "\n",
    "The file having the individuals that have exome and imputed data and are African\n",
    "\n",
    "`~/UKBiobank/genotype_files_processed/010622_african_9096ind/010722_african_qc_8617ind_withexome_or_imputed`"
   ]
  },
  {
   "cell_type": "code",
   "execution_count": 5,
   "metadata": {
    "kernel": "Bash"
   },
   "outputs": [
    {
     "name": "stdout",
     "output_type": "stream",
     "text": [
      "INFO: Running \u001b[32mcsg\u001b[0m: Configuration for Columbia csg partition cluster\n",
      "INFO: \u001b[32mcsg\u001b[0m is \u001b[32mcompleted\u001b[0m.\n",
      "INFO: \u001b[32mcsg\u001b[0m output:   \u001b[32m/home/dmc2245/project/UKBB_GWAS_dev/output/flashpca_king_african_2022-01-10.sbatch\u001b[0m\n",
      "INFO: Workflow csg (ID=wad64520a422f6c32) is executed successfully with 1 completed step.\n",
      "\n"
     ]
    }
   ],
   "source": [
    "cwd=$UKBB_PATH/genotype_files_processed/010622_african_9096ind/010722_king_african\n",
    "genoFile=~/UKBiobank/genotype_files_processed/010622_african_9096ind/010722_sample_var_final_qc/cache/UKB_genotypedatadownloaded083019.010722_sample_var_final_qc.filtered.extracted.bed\n",
    "king_sbatch=$OUT_PATH/flashpca_king_african_$(date +\"%Y-%m-%d\").sbatch\n",
    "kinship=0.0625\n",
    "gwasqc_sos=$USER_PATH/bioworkflows/GWAS/GWAS_QC.ipynb\n",
    "numThreads=20\n",
    "mem='30G'\n",
    "walltime='36h'\n",
    "\n",
    "king_args=\"\"\"king\n",
    "    --cwd $cwd\n",
    "    --genoFile $genoFile\n",
    "    --kinship $kinship\n",
    "    --numThreads $numThreads \n",
    "    --job_size $job_size\n",
    "    --container_lmm $container_lmm\n",
    "    --mem $mem\n",
    "    --walltime $walltime\n",
    "    --no-maximize-unrelated\n",
    "\"\"\"\n",
    "\n",
    "sos run ~/project/UKBB_GWAS_dev/admin/Get_Job_Script.ipynb csg \\\n",
    "    --template-file $tpl_file \\\n",
    "    --workflow-file $gwasqc_sos \\\n",
    "    --to-script $king_sbatch \\\n",
    "    --args \"$king_args\""
   ]
  },
  {
   "cell_type": "markdown",
   "metadata": {
    "kernel": "Bash"
   },
   "source": [
    "## Step 2. Get the unrelated individuals and do LD pruning"
   ]
  },
  {
   "cell_type": "code",
   "execution_count": 16,
   "metadata": {
    "kernel": "Bash"
   },
   "outputs": [
    {
     "name": "stdout",
     "output_type": "stream",
     "text": [
      "INFO: Running \u001b[32mcsg\u001b[0m: Configuration for Columbia csg partition cluster\n",
      "INFO: \u001b[32mcsg\u001b[0m is \u001b[32mcompleted\u001b[0m.\n",
      "INFO: \u001b[32mcsg\u001b[0m output:   \u001b[32m/home/dmc2245/project/UKBB_GWAS_dev/output/ldprun_unrelated_african_2022-01-10.sbatch\u001b[0m\n",
      "INFO: Workflow csg (ID=w54542a1dafbffbf6) is executed successfully with 1 completed step.\n",
      "\n"
     ]
    }
   ],
   "source": [
    "## Columbia's cluster\n",
    "cwd=$UKBB_PATH/genotype_files_processed/010622_african_9096ind/010722_ldprun_unrelated_african\n",
    "## Use the qc version of the genotype array with the already filtered asian individuals\n",
    "genoFile=~/UKBiobank/genotype_files_processed/010622_african_9096ind/010722_sample_var_final_qc/cache/UKB_genotypedatadownloaded083019.010722_sample_var_final_qc.filtered.extracted.bed\n",
    "#To keep the samples of asian and unrelated individuals only\n",
    "remove_samples=~/UKBiobank/genotype_files_processed/010622_african_9096ind/010722_king_african/UKB_genotypedatadownloaded083019.010722_sample_var_final_qc.filtered.extracted.010722_king_african.related_id\n",
    "\n",
    "#GWAS QC variables: leave all the variables in 0 so there's no more filtering in the already filtered data\n",
    "maf_filter=0\n",
    "geno_filter=0\n",
    "hwe_filter=0\n",
    "mind_filter=0\n",
    "#LD prunning variables\n",
    "window=50\n",
    "shift=10\n",
    "r2=0.1\n",
    "gwas_sbatch=$OUT_PATH/ldprun_unrelated_african_$(date +\"%Y-%m-%d\").sbatch\n",
    "numThreads=20\n",
    "mem='30G'\n",
    "\n",
    "gwasqc_args=\"\"\"qc\n",
    "    --cwd $cwd\n",
    "    --genoFile $genoFile\n",
    "    --remove_samples $remove_samples\n",
    "    --maf_filter $maf_filter\n",
    "    --geno_filter $geno_filter\n",
    "    --hwe_filter $hwe_filter\n",
    "    --mind_filter $mind_filter\n",
    "    --window $window\n",
    "    --shift $shift\n",
    "    --r2 $r2\n",
    "    --numThreads $numThreads \n",
    "    --job_size $job_size\n",
    "    --container_lmm $container_lmm\n",
    "    --mem $mem\n",
    "\"\"\"\n",
    "\n",
    "sos run ~/project/UKBB_GWAS_dev/admin/Get_Job_Script.ipynb csg\\\n",
    "    --template-file $tpl_file \\\n",
    "    --workflow-file $gwasqc_sos \\\n",
    "    --to-script $gwas_sbatch \\\n",
    "    --args \"$gwasqc_args\""
   ]
  },
  {
   "cell_type": "markdown",
   "metadata": {
    "kernel": "Bash"
   },
   "source": [
    "## Step 3. Flashpca in the unrelated"
   ]
  },
  {
   "cell_type": "code",
   "execution_count": 25,
   "metadata": {
    "kernel": "Bash"
   },
   "outputs": [
    {
     "name": "stdout",
     "output_type": "stream",
     "text": [
      "INFO: Running \u001b[32mcsg\u001b[0m: Configuration for Columbia csg partition cluster\n",
      "INFO: \u001b[32mcsg\u001b[0m is \u001b[32mcompleted\u001b[0m.\n",
      "INFO: \u001b[32mcsg\u001b[0m output:   \u001b[32m/home/dmc2245/project/UKBB_GWAS_dev/output/flashpca_african_unrelated_genoarray_2022-01-10.sbatch\u001b[0m\n",
      "INFO: Workflow csg (ID=w8a97bc7e44cc076f) is executed successfully with 1 completed step.\n",
      "\n"
     ]
    }
   ],
   "source": [
    "## Columbia's cluster\n",
    "cwd=$UKBB_PATH/genotype_files_processed/010622_african_9096ind/010722_pca_unrelated_african\n",
    "#This is the bfile originated after filtering unrelated individuals and pruning\n",
    "genoFile=$UKBB_PATH/genotype_files_processed/010622_african_9096ind/010722_ldprun_unrelated_african/cache/UKB_genotypedatadownloaded083019.010722_sample_var_final_qc.filtered.extracted.010722_ldprun_unrelated_african.filtered.prune.bed\n",
    "## I had to modify the original file to add a super_pop and replace ethnicity for pop\n",
    "phenoFile=/mnt/mfs/statgen/UKBiobank/phenotype_files/african_IID/010622_ukb47922_african_9096_pop_superpop.iid\n",
    "label_col=ethnia\n",
    "pca_sbatch=$OUT_PATH/flashpca_african_unrelated_genoarray_$(date +\"%Y-%m-%d\").sbatch\n",
    "k=10\n",
    "maha_k=5\n",
    "min_axis=0\n",
    "max_axis=0\n",
    "\n",
    "pca_args=\"\"\"flashpca\n",
    "    --cwd $cwd\n",
    "    --genoFile $genoFile\n",
    "    --phenoFile $phenoFile\n",
    "    --k $k\n",
    "    --maha_k $maha_k\n",
    "    --label_col $label_col\n",
    "    --pop_col $pop_col\n",
    "    --pops $pops\n",
    "    --min_axis $min_axis\n",
    "    --max_axis $max_axis\n",
    "    --numThreads $numThreads \n",
    "    --job_size $job_size\n",
    "    --container_lmm $container_lmm\n",
    "\"\"\"\n",
    "\n",
    "sos run ~/project/UKBB_GWAS_dev/admin/Get_Job_Script.ipynb csg \\\n",
    "    --template-file $tpl_file \\\n",
    "    --workflow-file $pca_sos \\\n",
    "    --to-script $pca_sbatch \\\n",
    "    --args \"$pca_args\""
   ]
  },
  {
   "cell_type": "markdown",
   "metadata": {
    "kernel": "Bash"
   },
   "source": [
    "## Step 4. Get the bed file for related Africans"
   ]
  },
  {
   "cell_type": "code",
   "execution_count": 26,
   "metadata": {
    "kernel": "Bash"
   },
   "outputs": [
    {
     "name": "stdout",
     "output_type": "stream",
     "text": [
      "INFO: Running \u001b[32mcsg\u001b[0m: Configuration for Columbia csg partition cluster\n",
      "INFO: \u001b[32mcsg\u001b[0m is \u001b[32mcompleted\u001b[0m.\n",
      "INFO: \u001b[32mcsg\u001b[0m output:   \u001b[32m/home/dmc2245/project/UKBB_GWAS_dev/output/flashpca_african_related_qc_genoarray_2022-01-10.sbatch\u001b[0m\n",
      "INFO: Workflow csg (ID=w60c8a480c99afab0) is executed successfully with 1 completed step.\n",
      "\n"
     ]
    }
   ],
   "source": [
    "## Columbia's cluster\n",
    "cwd=$UKBB_PATH/genotype_files_processed/010622_african_9096ind/010722_related_african\n",
    "## Use qc'ed genotype array\n",
    "genoFile=~/UKBiobank/genotype_files_processed/010622_african_9096ind/010722_sample_var_final_qc/cache/UKB_genotypedatadownloaded083019.010722_sample_var_final_qc.filtered.extracted.bed\n",
    "keep_samples=~/UKBiobank/genotype_files_processed/010622_african_9096ind/010722_king_african/UKB_genotypedatadownloaded083019.010722_sample_var_final_qc.filtered.extracted.010722_king_african.related_id\n",
    "#Keep the same variants as above\n",
    "keep_variants=$UKBB_PATH/genotype_files_processed/010622_african_9096ind/010722_ldprun_unrelated_african/cache/UKB_genotypedatadownloaded083019.010722_sample_var_final_qc.filtered.extracted.010722_ldprun_unrelated_african.filtered.prune.in\n",
    "\n",
    "#GWAS QC variables\n",
    "maf_filter=0\n",
    "geno_filter=0\n",
    "hwe_filter=0\n",
    "mind_filter=0\n",
    "gwas_sbatch=$OUT_PATH/flashpca_african_related_qc_genoarray_$(date +\"%Y-%m-%d\").sbatch\n",
    "numThreads=20\n",
    "mem='30G'\n",
    "merged_prefix='ukb23155_qc_related_genoarray_asian'\n",
    "\n",
    "gwasqc_args=\"\"\"qc:1\n",
    "    --cwd $cwd\n",
    "    --genoFile $genoFile\n",
    "    --keep_samples $keep_samples\n",
    "    --keep_variants $keep_variants\n",
    "    --maf_filter $maf_filter\n",
    "    --geno_filter $geno_filter\n",
    "    --hwe_filter $hwe_filter\n",
    "    --mind_filter $mind_filter\n",
    "    --merged_prefix $merged_prefix\n",
    "    --numThreads $numThreads \n",
    "    --job_size $job_size\n",
    "    --container_lmm $container_lmm\n",
    "    --mem $mem\n",
    "\"\"\"\n",
    "\n",
    "sos run ~/project/UKBB_GWAS_dev/admin/Get_Job_Script.ipynb csg \\\n",
    "    --template-file $tpl_file \\\n",
    "    --workflow-file $gwasqc_sos \\\n",
    "    --to-script $gwas_sbatch \\\n",
    "    --args \"$gwasqc_args\""
   ]
  },
  {
   "cell_type": "markdown",
   "metadata": {
    "kernel": "Bash"
   },
   "source": [
    "## Step 5.Project back related Africans"
   ]
  },
  {
   "cell_type": "code",
   "execution_count": 36,
   "metadata": {
    "kernel": "Bash"
   },
   "outputs": [
    {
     "name": "stdout",
     "output_type": "stream",
     "text": [
      "INFO: Running \u001b[32mcsg\u001b[0m: Configuration for Columbia csg partition cluster\n",
      "INFO: \u001b[32mcsg\u001b[0m is \u001b[32mcompleted\u001b[0m.\n",
      "INFO: \u001b[32mcsg\u001b[0m output:   \u001b[32m/home/dmc2245/project/UKBB_GWAS_dev/output/flashpca_african_related_genoarray_projected_2022-01-11.sbatch\u001b[0m\n",
      "INFO: Workflow csg (ID=w4d96ac2a1a1d0bc4) is executed successfully with 1 completed step.\n",
      "\n"
     ]
    }
   ],
   "source": [
    "## Columbia's cluster\n",
    "cwd=$UKBB_PATH/genotype_files_processed/010622_african_9096ind/010722_project_related_african\n",
    "#This is the bfile originated after filtering related individuals\n",
    "genoFile=$UKBB_PATH/genotype_files_processed/010622_african_9096ind/010722_related_african/cache/UKB_genotypedatadownloaded083019.010722_sample_var_final_qc.filtered.extracted.010722_related_african.filtered.extracted.bed\n",
    "## I had to modify the original file to add a super_pop and replace ethnicity for pop\n",
    "phenoFile=/mnt/mfs/statgen/UKBiobank/phenotype_files/african_IID/010622_ukb47922_african_9096_pop_superpop.iid\n",
    "pca_model=~/UKBiobank/genotype_files_processed/010622_african_9096ind/010722_pca_unrelated_african/010622_ukb47922_african_9096_pop_superpop.010722_pca_unrelated_african.pca.rds\n",
    "pca_sbatch=$OUT_PATH/flashpca_african_related_genoarray_projected_$(date +\"%Y-%m-%d\").sbatch\n",
    "label_col=ethnia\n",
    "pop_col=ethnia\n",
    "maha_k=5\n",
    "prob=0.997\n",
    "pval=0.05\n",
    "## set the --homogeneous TRUE options to consider all the pops like one \n",
    "homogeneous=TRUE\n",
    "## For the plot you need to use the *.projected.rds and not the *.projected.mahalanobis.rds\n",
    "#plot_data=$UKBB_PATH/results/070921_pca_genotype_array/white_expanded_06_30_21_genoarray_projected/030821_ukb42495_exomed_white_189010ind.pheno.white_expanded_06_30_21_genoarray_projected.pca.projected.rds\n",
    "#outlier_file=$UKBB_PATH/results/070921_pca_genotype_array/white_expanded_06_30_21_genoarray_projected/030821_ukb42495_exomed_white_189010ind.pheno.white_expanded_06_30_21_genoarray_projected.pca.projected.outliers\n",
    "\n",
    "\n",
    "pca_args=\"\"\"project_samples\n",
    "    --cwd $cwd\n",
    "    --genoFile $genoFile\n",
    "    --phenoFile $phenoFile\n",
    "    --pca_model $pca_model\n",
    "    --k $k\n",
    "    --maha_k $maha_k\n",
    "    --label_col $label_col\n",
    "    --pop_col $ethnia\n",
    "    --prob $prob\n",
    "    --pval $pval\n",
    "    --homogeneous $homogeneous\n",
    "    --numThreads $numThreads \n",
    "    --job_size $job_size\n",
    "    --container_lmm $container_lmm\n",
    "\"\"\"\n",
    "\n",
    "sos run ~/project/UKBB_GWAS_dev/admin/Get_Job_Script.ipynb csg \\\n",
    "    --template-file $tpl_file \\\n",
    "    --workflow-file $pca_sos \\\n",
    "    --to-script $pca_sbatch \\\n",
    "    --args \"$pca_args\""
   ]
  },
  {
   "cell_type": "markdown",
   "metadata": {
    "kernel": "Bash"
   },
   "source": [
    "## Step 6. Plot projected individuals and look for outliers"
   ]
  },
  {
   "cell_type": "code",
   "execution_count": 37,
   "metadata": {
    "kernel": "Bash"
   },
   "outputs": [
    {
     "name": "stdout",
     "output_type": "stream",
     "text": [
      "INFO: Running \u001b[32mcsg\u001b[0m: Configuration for Columbia csg partition cluster\n",
      "INFO: \u001b[32mcsg\u001b[0m is \u001b[32mcompleted\u001b[0m.\n",
      "INFO: \u001b[32mcsg\u001b[0m output:   \u001b[32m/home/dmc2245/project/UKBB_GWAS_dev/output/flashpca_african_related_genoarray_plot_2022-01-11.sbatch\u001b[0m\n",
      "INFO: Workflow csg (ID=w27a90c47284e126b) is executed successfully with 1 completed step.\n",
      "\n"
     ]
    }
   ],
   "source": [
    "## Columbia's cluster\n",
    "cwd=$UKBB_PATH/genotype_files_processed/010622_african_9096ind/010722_project_related_african\n",
    "#This is the bfile originated after filtering related individuals\n",
    "genoFile=~/UKBiobank/genotype_files_processed/010622_african_9096ind/010722_sample_var_final_qc/cache/UKB_genotypedatadownloaded083019.010722_sample_var_final_qc.filtered.extracted.bed\n",
    "## Phenofile with ethnia column\n",
    "phenoFile=/mnt/mfs/statgen/UKBiobank/phenotype_files/african_IID/010622_ukb47922_african_9096_pop_superpop.iid\n",
    "pca_model=~/UKBiobank/genotype_files_processed/010622_african_9096ind/010722_pca_unrelated_african/010622_ukb47922_african_9096_pop_superpop.010722_pca_unrelated_african.pca.rds\n",
    "plot_data=$UKBB_PATH/genotype_files_processed/010622_african_9096ind/010722_project_related_african/010622_ukb47922_african_9096_pop_superpop.010722_project_related_african.pca.projected.rds\n",
    "#outlier_file=$UKBB_PATH/genotype_files_processed/010622_african_9096ind/010722_related_african/010722_project_related_african/*.pca.projected.outliers\n",
    "label_col=ethnia\n",
    "pop_col=ethnia\n",
    "pca_sbatch=$OUT_PATH/flashpca_african_related_genoarray_plot_$(date +\"%Y-%m-%d\").sbatch\n",
    "\n",
    "pca_args=\"\"\"plot_pca\n",
    "    --cwd $cwd\n",
    "    --genoFile $genoFile\n",
    "    --phenoFile $phenoFile\n",
    "    --label_col $label_col\n",
    "    --pop_col $pop_col\n",
    "    --plot_data $plot_data\n",
    "    --outlier_file $outlier_file\n",
    "    --numThreads $numThreads \n",
    "    --job_size $job_size\n",
    "    --container_lmm $container_lmm\n",
    "\"\"\"\n",
    "\n",
    "sos run ~/project/UKBB_GWAS_dev/admin/Get_Job_Script.ipynb csg  \\\n",
    "    --template-file $tpl_file \\\n",
    "    --workflow-file $pca_sos \\\n",
    "    --to-script $pca_sbatch \\\n",
    "    --args \"$pca_args\""
   ]
  },
  {
   "cell_type": "markdown",
   "metadata": {
    "kernel": "Bash"
   },
   "source": [
    "## Get final sample_list and variant_list after QC and PCA"
   ]
  },
  {
   "cell_type": "code",
   "execution_count": null,
   "metadata": {
    "kernel": "Bash"
   },
   "outputs": [],
   "source": [
    "# N=8,591 samples and 351,690 variants\n",
    "plink2 \\\n",
    "    --bfile ~/UKBiobank/genotype_files_processed/010622_african_9096ind/010722_sample_var_final_qc/cache/UKB_genotypedatadownloaded083019.010722_sample_var_final_qc.filtered.extracted  \\\n",
    "    --remove ~/UKBiobank/genotype_files_processed/010622_african_9096ind/010722_project_related_african/010622_ukb47922_african_9096_pop_superpop.010722_project_related_african.pca.projected.outliers \\\n",
    "    --write-snplist --write-samples --no-id-header \\\n",
    "    --threads 8 \\\n",
    "    --out ~/UKBiobank/genotype_files_processed/010622_african_9096ind/UKB_genotypedatadownloaded083019.010722_sample_var_final_qc.filtered.extracted"
   ]
  },
  {
   "cell_type": "markdown",
   "metadata": {
    "kernel": "Bash"
   },
   "source": [
    "# Calculate PC's for Asians on hearing impairment data "
   ]
  },
  {
   "cell_type": "markdown",
   "metadata": {
    "kernel": "Bash"
   },
   "source": [
    "## f.3393 200K\n",
    "\n",
    "#### Step 1."
   ]
  },
  {
   "cell_type": "code",
   "execution_count": 8,
   "metadata": {
    "kernel": "Bash"
   },
   "outputs": [
    {
     "name": "stdout",
     "output_type": "stream",
     "text": [
      "INFO: Running \u001b[32mcsg\u001b[0m: Configuration for Columbia csg partition cluster\n",
      "INFO: \u001b[32mcsg\u001b[0m is \u001b[32mcompleted\u001b[0m.\n",
      "INFO: \u001b[32mcsg\u001b[0m output:   \u001b[32m/home/tf2478/pca_01_18_22/f3393_asian_PC3_2022-01-18.sbatch\u001b[0m\n",
      "INFO: Workflow csg (ID=wcb0da58e7e7ce450) is executed successfully with 1 completed step.\n"
     ]
    }
   ],
   "source": [
    "## Columbia's cluster\n",
    "cwd=$UKBB_PATH/genotype_files_processed/010622_asian_10189ind/011822_f3393_asian_PC3\n",
    "gwas_sbatch=$OUT_PATH/f3393_asian_PC3_$(date +\"%Y-%m-%d\").sbatch\n",
    "## Use qc'ed genotype array\n",
    "genoFile=$UKBB_PATH/genotype_files_processed/010622_asian_10189ind/010722_sample_var_final_qc/cache/UKB_genotypedatadownloaded083019.010722_sample_var_final_qc.filtered.extracted.bed\n",
    "keep_samples=$UKBB_PATH/phenotype_files/hearing_impairment/011422_UKBB_Hearing_aid_f3393_asian_96cases_2395ctrl.keep_id\n",
    "#GWAS QC variables set all of this variables to 0 to avoid doing more filtering\n",
    "maf_filter=0\n",
    "geno_filter=0\n",
    "hwe_filter=0\n",
    "mind_filter=0\n",
    "numThreads=1\n",
    "mem='30G'\n",
    "\n",
    "gwasqc_args=\"\"\"qc:1\n",
    "    --cwd $cwd\n",
    "    --genoFile $genoFile\n",
    "    --keep_samples $keep_samples\n",
    "    --maf_filter $maf_filter\n",
    "    --geno_filter $geno_filter\n",
    "    --hwe_filter $hwe_filter\n",
    "    --mind_filter $mind_filter\n",
    "    --numThreads $numThreads \n",
    "    --job_size $job_size\n",
    "    --container_lmm $container_lmm\n",
    "    --mem $mem\n",
    "\"\"\"\n",
    "\n",
    "sos run $USER_PATH/UKBB_GWAS_dev/admin/Get_Job_Script.ipynb csg \\\n",
    "    --template-file $tpl_file \\\n",
    "    --workflow-file $gwasqc_sos \\\n",
    "    --to-script $gwas_sbatch \\\n",
    "    --args \"$gwasqc_args\""
   ]
  },
  {
   "cell_type": "markdown",
   "metadata": {
    "kernel": "Bash"
   },
   "source": [
    "#### Step 2."
   ]
  },
  {
   "cell_type": "code",
   "execution_count": 13,
   "metadata": {
    "kernel": "Bash"
   },
   "outputs": [
    {
     "name": "stdout",
     "output_type": "stream",
     "text": [
      "INFO: Running \u001b[32mcsg\u001b[0m: Configuration for Columbia csg partition cluster\n",
      "INFO: \u001b[32mcsg\u001b[0m is \u001b[32mcompleted\u001b[0m.\n",
      "INFO: \u001b[32mcsg\u001b[0m output:   \u001b[32m/home/tf2478/pca_01_18_22/flashpca_f3393_pc3_asian_2022-01-18.sbatch\u001b[0m\n",
      "INFO: Workflow csg (ID=wd9ec91a4951bf48d) is executed successfully with 1 completed step.\n"
     ]
    }
   ],
   "source": [
    "## Columbia's cluster\n",
    "cwd=$UKBB_PATH/genotype_files_processed/010622_asian_10189ind/011822_f3393_asian_PC3\n",
    "#This is the bfile obtained in step 1\n",
    "genoFile=$UKBB_PATH/genotype_files_processed/010622_asian_10189ind/011822_f3393_asian_PC3/cache/*.bed\n",
    "# Format FID, IID, ethnicity\n",
    "phenoFile=$UKBB_PATH/genotype_files_processed/010622_asian_10189ind/011822_f3393_asian_PC3/cache/*.fam\n",
    "pca_sbatch=$OUT_PATH/flashpca_f3393_pc3_asian_$(date +\"%Y-%m-%d\").sbatch\n",
    "k=3\n",
    "\n",
    "pca_args=\"\"\"flashpca\n",
    "    --cwd $cwd\n",
    "    --genoFile $genoFile\n",
    "    --phenoFile $phenoFile\n",
    "    --k $k\n",
    "    --numThreads $numThreads \n",
    "    --job_size $job_size\n",
    "    --container_lmm $container_lmm\n",
    "\"\"\"\n",
    "\n",
    "sos run  $USER_PATH/UKBB_GWAS_dev/admin/Get_Job_Script.ipynb csg\\\n",
    "    --template-file $tpl_file \\\n",
    "    --workflow-file $pca_sos \\\n",
    "    --to-script $pca_sbatch \\\n",
    "    --args \"$pca_args\""
   ]
  },
  {
   "cell_type": "markdown",
   "metadata": {
    "kernel": "Bash"
   },
   "source": [
    "## f.2247 200K\n",
    "\n",
    "#### Step 1."
   ]
  },
  {
   "cell_type": "code",
   "execution_count": 9,
   "metadata": {
    "kernel": "Bash"
   },
   "outputs": [
    {
     "name": "stdout",
     "output_type": "stream",
     "text": [
      "INFO: Running \u001b[32mcsg\u001b[0m: Configuration for Columbia csg partition cluster\n",
      "INFO: \u001b[32mcsg\u001b[0m is \u001b[32mcompleted\u001b[0m.\n",
      "INFO: \u001b[32mcsg\u001b[0m output:   \u001b[32m/home/tf2478/pca_01_18_22/f2247_asian_PC3_2022-01-18.sbatch\u001b[0m\n",
      "INFO: Workflow csg (ID=w586506ca57e6c0ab) is executed successfully with 1 completed step.\n"
     ]
    }
   ],
   "source": [
    "## Columbia's cluster\n",
    "cwd=$UKBB_PATH/genotype_files_processed/010622_asian_10189ind/011822_f2247_asian_PC3\n",
    "gwas_sbatch=$OUT_PATH/f2247_asian_PC3_$(date +\"%Y-%m-%d\").sbatch\n",
    "## Use qc'ed genotype array\n",
    "genoFile=$UKBB_PATH/genotype_files_processed/010622_asian_10189ind/010722_sample_var_final_qc/cache/UKB_genotypedatadownloaded083019.010722_sample_var_final_qc.filtered.extracted.bed\n",
    "keep_samples=$UKBB_PATH/phenotype_files/hearing_impairment/011422_UKBB_Hearing_difficulty_f2247_asian_728cases_2395ctrl.keep_id\n",
    "#GWAS QC variables set all of this variables to 0 to avoid doing more filtering\n",
    "maf_filter=0\n",
    "geno_filter=0\n",
    "hwe_filter=0\n",
    "mind_filter=0\n",
    "numThreads=1\n",
    "mem='30G'\n",
    "\n",
    "gwasqc_args=\"\"\"qc:1\n",
    "    --cwd $cwd\n",
    "    --genoFile $genoFile\n",
    "    --keep_samples $keep_samples\n",
    "    --maf_filter $maf_filter\n",
    "    --geno_filter $geno_filter\n",
    "    --hwe_filter $hwe_filter\n",
    "    --mind_filter $mind_filter\n",
    "    --numThreads $numThreads \n",
    "    --job_size $job_size\n",
    "    --container_lmm $container_lmm\n",
    "    --mem $mem\n",
    "\"\"\"\n",
    "\n",
    "sos run $USER_PATH/UKBB_GWAS_dev/admin/Get_Job_Script.ipynb csg \\\n",
    "    --template-file $tpl_file \\\n",
    "    --workflow-file $gwasqc_sos \\\n",
    "    --to-script $gwas_sbatch \\\n",
    "    --args \"$gwasqc_args\""
   ]
  },
  {
   "cell_type": "markdown",
   "metadata": {
    "kernel": "Bash"
   },
   "source": [
    "#### Step 2."
   ]
  },
  {
   "cell_type": "code",
   "execution_count": 14,
   "metadata": {
    "kernel": "Bash"
   },
   "outputs": [
    {
     "name": "stdout",
     "output_type": "stream",
     "text": [
      "INFO: Running \u001b[32mcsg\u001b[0m: Configuration for Columbia csg partition cluster\n",
      "INFO: \u001b[32mcsg\u001b[0m is \u001b[32mcompleted\u001b[0m.\n",
      "INFO: \u001b[32mcsg\u001b[0m output:   \u001b[32m/home/tf2478/pca_01_18_22/flashpca_f2247_pc3_asian_2022-01-18.sbatch\u001b[0m\n",
      "INFO: Workflow csg (ID=wb6c3f8fefbec1dc6) is executed successfully with 1 completed step.\n"
     ]
    }
   ],
   "source": [
    "## Columbia's cluster\n",
    "cwd=$UKBB_PATH/genotype_files_processed/010622_asian_10189ind/011822_f2247_asian_PC3\n",
    "#This is the bfile obtained in step 1\n",
    "genoFile=$UKBB_PATH/genotype_files_processed/010622_asian_10189ind/011822_f2247_asian_PC3/cache/*.bed\n",
    "# Format FID, IID, ethnicity\n",
    "phenoFile=$UKBB_PATH/genotype_files_processed/010622_asian_10189ind/011822_f2247_asian_PC3/cache/*.fam\n",
    "pca_sbatch=$OUT_PATH/flashpca_f2247_pc3_asian_$(date +\"%Y-%m-%d\").sbatch\n",
    "k=3\n",
    "\n",
    "pca_args=\"\"\"flashpca\n",
    "    --cwd $cwd\n",
    "    --genoFile $genoFile\n",
    "    --phenoFile $phenoFile\n",
    "    --k $k\n",
    "    --numThreads $numThreads \n",
    "    --job_size $job_size\n",
    "    --container_lmm $container_lmm\n",
    "\"\"\"\n",
    "\n",
    "sos run  $USER_PATH/UKBB_GWAS_dev/admin/Get_Job_Script.ipynb csg\\\n",
    "    --template-file $tpl_file \\\n",
    "    --workflow-file $pca_sos \\\n",
    "    --to-script $pca_sbatch \\\n",
    "    --args \"$pca_args\""
   ]
  },
  {
   "cell_type": "markdown",
   "metadata": {
    "kernel": "Bash"
   },
   "source": [
    "## f.2257 200K\n",
    "\n",
    "#### Step 1."
   ]
  },
  {
   "cell_type": "code",
   "execution_count": 11,
   "metadata": {
    "kernel": "Bash"
   },
   "outputs": [
    {
     "name": "stdout",
     "output_type": "stream",
     "text": [
      "INFO: Running \u001b[32mcsg\u001b[0m: Configuration for Columbia csg partition cluster\n",
      "INFO: \u001b[32mcsg\u001b[0m is \u001b[32mcompleted\u001b[0m.\n",
      "INFO: \u001b[32mcsg\u001b[0m output:   \u001b[32m/home/tf2478/pca_01_18_22/f2257_asian_PC3_2022-01-18.sbatch\u001b[0m\n",
      "INFO: Workflow csg (ID=w2c5ce40875952475) is executed successfully with 1 completed step.\n"
     ]
    }
   ],
   "source": [
    "## Columbia's cluster\n",
    "cwd=$UKBB_PATH/genotype_files_processed/010622_asian_10189ind/011822_f2257_asian_PC3\n",
    "gwas_sbatch=$OUT_PATH/f2257_asian_PC3_$(date +\"%Y-%m-%d\").sbatch\n",
    "## Use qc'ed genotype array\n",
    "genoFile=$UKBB_PATH/genotype_files_processed/010622_asian_10189ind/010722_sample_var_final_qc/cache/UKB_genotypedatadownloaded083019.010722_sample_var_final_qc.filtered.extracted.bed\n",
    "keep_samples=$UKBB_PATH/phenotype_files/hearing_impairment/011422_UKBB_Hearing_noise_f2257_asian_1515cases_2395ctrl.keep_id\n",
    "#GWAS QC variables set all of this variables to 0 to avoid doing more filtering\n",
    "maf_filter=0\n",
    "geno_filter=0\n",
    "hwe_filter=0\n",
    "mind_filter=0\n",
    "numThreads=1\n",
    "mem='30G'\n",
    "\n",
    "gwasqc_args=\"\"\"qc:1\n",
    "    --cwd $cwd\n",
    "    --genoFile $genoFile\n",
    "    --keep_samples $keep_samples\n",
    "    --maf_filter $maf_filter\n",
    "    --geno_filter $geno_filter\n",
    "    --hwe_filter $hwe_filter\n",
    "    --mind_filter $mind_filter\n",
    "    --numThreads $numThreads \n",
    "    --job_size $job_size\n",
    "    --container_lmm $container_lmm\n",
    "    --mem $mem\n",
    "\"\"\"\n",
    "\n",
    "sos run $USER_PATH/UKBB_GWAS_dev/admin/Get_Job_Script.ipynb csg \\\n",
    "    --template-file $tpl_file \\\n",
    "    --workflow-file $gwasqc_sos \\\n",
    "    --to-script $gwas_sbatch \\\n",
    "    --args \"$gwasqc_args\""
   ]
  },
  {
   "cell_type": "markdown",
   "metadata": {
    "kernel": "Bash"
   },
   "source": [
    "#### Step 2."
   ]
  },
  {
   "cell_type": "code",
   "execution_count": 15,
   "metadata": {
    "kernel": "Bash"
   },
   "outputs": [
    {
     "name": "stdout",
     "output_type": "stream",
     "text": [
      "INFO: Running \u001b[32mcsg\u001b[0m: Configuration for Columbia csg partition cluster\n",
      "INFO: \u001b[32mcsg\u001b[0m is \u001b[32mcompleted\u001b[0m.\n",
      "INFO: \u001b[32mcsg\u001b[0m output:   \u001b[32m/home/tf2478/pca_01_18_22/flashpca_f2257_pc3_asian_2022-01-18.sbatch\u001b[0m\n",
      "INFO: Workflow csg (ID=w3f5b2e6d6361c89b) is executed successfully with 1 completed step.\n"
     ]
    }
   ],
   "source": [
    "## Columbia's cluster\n",
    "cwd=$UKBB_PATH/genotype_files_processed/010622_asian_10189ind/011822_f2257_asian_PC3\n",
    "#This is the bfile obtained in step 1\n",
    "genoFile=$UKBB_PATH/genotype_files_processed/010622_asian_10189ind/011822_f2257_asian_PC3/cache/*.bed\n",
    "# Format FID, IID, ethnicity\n",
    "phenoFile=$UKBB_PATH/genotype_files_processed/010622_asian_10189ind/011822_f2257_asian_PC3/cache/*.fam\n",
    "pca_sbatch=$OUT_PATH/flashpca_f2257_pc3_asian_$(date +\"%Y-%m-%d\").sbatch\n",
    "k=3\n",
    "\n",
    "pca_args=\"\"\"flashpca\n",
    "    --cwd $cwd\n",
    "    --genoFile $genoFile\n",
    "    --phenoFile $phenoFile\n",
    "    --k $k\n",
    "    --numThreads $numThreads \n",
    "    --job_size $job_size\n",
    "    --container_lmm $container_lmm\n",
    "\"\"\"\n",
    "\n",
    "sos run  $USER_PATH/UKBB_GWAS_dev/admin/Get_Job_Script.ipynb csg\\\n",
    "    --template-file $tpl_file \\\n",
    "    --workflow-file $pca_sos \\\n",
    "    --to-script $pca_sbatch \\\n",
    "    --args \"$pca_args\""
   ]
  },
  {
   "cell_type": "markdown",
   "metadata": {
    "kernel": "Bash"
   },
   "source": [
    "## Combined 200K\n",
    "\n",
    "#### Step 1."
   ]
  },
  {
   "cell_type": "code",
   "execution_count": 12,
   "metadata": {
    "kernel": "Bash"
   },
   "outputs": [
    {
     "name": "stdout",
     "output_type": "stream",
     "text": [
      "INFO: Running \u001b[32mcsg\u001b[0m: Configuration for Columbia csg partition cluster\n",
      "INFO: \u001b[32mcsg\u001b[0m is \u001b[32mcompleted\u001b[0m.\n",
      "INFO: \u001b[32mcsg\u001b[0m output:   \u001b[32m/home/tf2478/pca_01_18_22/combined_asian_PC3_2022-01-18.sbatch\u001b[0m\n",
      "INFO: Workflow csg (ID=w9d5f00ed9ba00513) is executed successfully with 1 completed step.\n"
     ]
    }
   ],
   "source": [
    "## Columbia's cluster\n",
    "cwd=$UKBB_PATH/genotype_files_processed/010622_asian_10189ind/011822_combined_asian_PC3\n",
    "gwas_sbatch=$OUT_PATH/combined_asian_PC3_$(date +\"%Y-%m-%d\").sbatch\n",
    "## Use qc'ed genotype array\n",
    "genoFile=$UKBB_PATH/genotype_files_processed/010622_asian_10189ind/010722_sample_var_final_qc/cache/UKB_genotypedatadownloaded083019.010722_sample_var_final_qc.filtered.extracted.bed\n",
    "keep_samples=$UKBB_PATH/phenotype_files/hearing_impairment/011422_UKBB_Combined_f2247_f2257_asian_598cases_2395ctrl.keep_id\n",
    "#GWAS QC variables set all of this variables to 0 to avoid doing more filtering\n",
    "maf_filter=0\n",
    "geno_filter=0\n",
    "hwe_filter=0\n",
    "mind_filter=0\n",
    "numThreads=1\n",
    "mem='30G'\n",
    "\n",
    "gwasqc_args=\"\"\"qc:1\n",
    "    --cwd $cwd\n",
    "    --genoFile $genoFile\n",
    "    --keep_samples $keep_samples\n",
    "    --maf_filter $maf_filter\n",
    "    --geno_filter $geno_filter\n",
    "    --hwe_filter $hwe_filter\n",
    "    --mind_filter $mind_filter\n",
    "    --numThreads $numThreads \n",
    "    --job_size $job_size\n",
    "    --container_lmm $container_lmm\n",
    "    --mem $mem\n",
    "\"\"\"\n",
    "\n",
    "sos run $USER_PATH/UKBB_GWAS_dev/admin/Get_Job_Script.ipynb csg \\\n",
    "    --template-file $tpl_file \\\n",
    "    --workflow-file $gwasqc_sos \\\n",
    "    --to-script $gwas_sbatch \\\n",
    "    --args \"$gwasqc_args\""
   ]
  },
  {
   "cell_type": "markdown",
   "metadata": {
    "kernel": "Bash"
   },
   "source": [
    "#### Step 2."
   ]
  },
  {
   "cell_type": "code",
   "execution_count": 16,
   "metadata": {
    "kernel": "Bash"
   },
   "outputs": [
    {
     "name": "stdout",
     "output_type": "stream",
     "text": [
      "INFO: Running \u001b[32mcsg\u001b[0m: Configuration for Columbia csg partition cluster\n",
      "INFO: \u001b[32mcsg\u001b[0m is \u001b[32mcompleted\u001b[0m.\n",
      "INFO: \u001b[32mcsg\u001b[0m output:   \u001b[32m/home/tf2478/pca_01_18_22/flashpca_combined_pc3_asian_2022-01-18.sbatch\u001b[0m\n",
      "INFO: Workflow csg (ID=w21a0df69a9de56f3) is executed successfully with 1 completed step.\n"
     ]
    }
   ],
   "source": [
    "## Columbia's cluster\n",
    "cwd=$UKBB_PATH/genotype_files_processed/010622_asian_10189ind/011822_combined_asian_PC3\n",
    "#This is the bfile obtained in step 1\n",
    "genoFile=$UKBB_PATH/genotype_files_processed/010622_asian_10189ind/011822_combined_asian_PC3/cache/*.bed\n",
    "# Format FID, IID, ethnicity\n",
    "phenoFile=$UKBB_PATH/genotype_files_processed/010622_asian_10189ind/011822_combined_asian_PC3/cache/*.fam\n",
    "pca_sbatch=$OUT_PATH/flashpca_combined_pc3_asian_$(date +\"%Y-%m-%d\").sbatch\n",
    "k=3\n",
    "\n",
    "pca_args=\"\"\"flashpca\n",
    "    --cwd $cwd\n",
    "    --genoFile $genoFile\n",
    "    --phenoFile $phenoFile\n",
    "    --k $k\n",
    "    --numThreads $numThreads \n",
    "    --job_size $job_size\n",
    "    --container_lmm $container_lmm\n",
    "\"\"\"\n",
    "\n",
    "sos run  $USER_PATH/UKBB_GWAS_dev/admin/Get_Job_Script.ipynb csg\\\n",
    "    --template-file $tpl_file \\\n",
    "    --workflow-file $pca_sos \\\n",
    "    --to-script $pca_sbatch \\\n",
    "    --args \"$pca_args\""
   ]
  },
  {
   "cell_type": "markdown",
   "metadata": {
    "kernel": "Bash"
   },
   "source": []
  },
  {
   "cell_type": "code",
   "execution_count": null,
   "metadata": {
    "kernel": "Bash"
   },
   "outputs": [],
   "source": []
  }
 ],
 "metadata": {
  "kernelspec": {
   "display_name": "SoS",
   "language": "sos",
   "name": "sos"
  },
  "language_info": {
   "codemirror_mode": "sos",
   "file_extension": ".sos",
   "mimetype": "text/x-sos",
   "name": "sos",
   "nbconvert_exporter": "sos_notebook.converter.SoS_Exporter",
   "pygments_lexer": "sos"
  },
  "sos": {
   "kernels": [
    [
     "Bash",
     "calysto_bash",
     "Bash",
     "#E6EEFF",
     ""
    ],
    [
     "SoS",
     "sos",
     "",
     "",
     "sos"
    ]
   ],
   "version": "0.22.6"
  },
  "toc-showcode": false
 },
 "nbformat": 4,
 "nbformat_minor": 4
}
