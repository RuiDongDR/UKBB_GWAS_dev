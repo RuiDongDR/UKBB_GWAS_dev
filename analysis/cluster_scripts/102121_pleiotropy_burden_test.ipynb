{
 "cells": [
  {
   "cell_type": "markdown",
   "id": "06b7cd4d-345a-4a7e-ba93-6ec4e526a725",
   "metadata": {
    "kernel": "SoS",
    "tags": []
   },
   "source": [
    "# Pleiotropy traits: rare-variant association analysis"
   ]
  },
  {
   "cell_type": "markdown",
   "id": "41ff432d-286a-45d7-b7ce-bb2e28a52731",
   "metadata": {
    "kernel": "SoS"
   },
   "source": [
    "## Aim\n",
    "\n",
    "Run the regenie_burden on different traits for the pleiotropy project"
   ]
  },
  {
   "cell_type": "code",
   "execution_count": 1,
   "id": "bbba81d1-446f-4886-bbc0-27f4c045c266",
   "metadata": {
    "kernel": "Bash",
    "tags": []
   },
   "outputs": [
    {
     "name": "stderr",
     "output_type": "stream",
     "text": [
      "/home/dmc2245/miniconda3/lib/python3.8/site-packages/sos_notebook/kernel.py:1334: DeprecationWarning: Kernel._parent_header is deprecated in ipykernel 6. Use .get_parent()\n",
      "  msg['msg_id'] = self._parent_header['header']['msg_id']\n"
     ]
    },
    {
     "name": "stdout",
     "output_type": "stream",
     "text": [
      "\n"
     ]
    }
   ],
   "source": [
    "# Common variables Columbia's cluster\n",
    "UKBB_PATH=$HOME/UKBiobank\n",
    "UKBB_yale=$HOME/UKBiobank_Yale_transfer\n",
    "USER_PATH=$HOME/project\n",
    "container_lmm=$HOME/containers/lmm.sif\n",
    "container_marp=$HOME/containers/marp.sif\n",
    "container_annovar=$HOME/containers/gatk4-annovar.sif\n",
    "hearing_pheno_path=$UKBB_PATH/phenotype_files/hearing_impairment\n",
    "tpl_file=$USER_PATH/bioworkflows/admin/csg.yml\n",
    "formatFile_fastgwa=$USER_PATH/UKBB_GWAS_dev/data/fastGWA_template.yml\n",
    "formatFile_bolt=$USER_PATH/UKBB_GWAS_dev/data/boltlmm_template.yml\n",
    "formatFile_saige=$USER_PATH/UKBB_GWAS_dev/data/saige_template.yml\n",
    "formatFile_regenie=$USER_PATH/UKBB_GWAS_dev/data/regenie_template.yml\n",
    "##bfile=$UKBB_yale/pleiotropy_geneticfiles/UKB_Caucasians_phenotypeindepqc120319_updated082020removedwithdrawnindiv.bed\n",
    "##unrelated_samples=$UKBB_yale/pleiotropy_geneticfiles/unrelated_n307259/UKB_unrelatedcauc_phenotypes_asthmat2dbmiwaisthip_agesex_waisthipratio_040620\n",
    "\n",
    "# Cleaned Imputed data BGEN input\n",
    "##genoFile=`echo $UKBB_yale/ukb39554_imputeddataset/ukb_imp_chr{1..22}_v3.bgen`\n",
    "##sampleFile=$UKBB_yale/ukb39554_imputeddataset/ukb32285_imputedindiv.sample\n",
    "\n",
    "# Non-QC'ed Exome data PLINK input (as downloaded from the UKBB)\n",
    "##genoFile=`echo $UKBB_yale/ukb28374_exomedata/exome_data_OCT2020/ukb23155_c{1..22}_b0_v1.bed`"
   ]
  },
  {
   "cell_type": "code",
   "execution_count": 2,
   "id": "c75cb611-5df9-4790-b628-804e5fcd71cb",
   "metadata": {
    "kernel": "Bash",
    "tags": []
   },
   "outputs": [
    {
     "name": "stdout",
     "output_type": "stream",
     "text": [
      "\n"
     ]
    }
   ],
   "source": [
    "# Workflows\n",
    "lmm_sos=$USER_PATH/bioworkflows/GWAS/LMM.ipynb\n",
    "anno_sos=$USER_PATH/bioworkflows/variant-annotation/annovar.ipynb\n",
    "clumping_sos=$USER_PATH/bioworkflows/GWAS/LD_Clumping.ipynb\n",
    "extract_sos=$USER_PATH/bioworkflows/GWAS/Region_Extraction.ipynb\n",
    "snptogene_sos=$USER_PATH/UKBB_GWAS_dev/workflow/snptogene.ipynb\n",
    "\n",
    "# LMM directories for imputed data\n",
    "lmm_imp_dir_fastgwa=$UKBB_PATH/results/FastGWA_results/results_imputed_data\n",
    "lmm_imp_dir_bolt=$UKBB_PATH/results/BOLTLMM_results/results_imputed_data\n",
    "lmm_imp_dir_saige=$UKBB_PATH/results/SAIGE_results/results_imputed_data\n",
    "lmm_imp_dir_regenie=$UKBB_PATH/results/REGENIE_results/results_imputed_data\n",
    "\n",
    "# LMM directories for exome data\n",
    "lmm_exome_dir_fastgwa=$UKBB_PATH/results/FastGWA_results/results_exome_data\n",
    "lmm_exome_dir_bolt=$UKBB_PATH/results/BOLTLMM_results/results_exome_data\n",
    "lmm_exome_dir_saige=$UKBB_PATH/results/SAIGE_results/results_exome_data\n",
    "lmm_exome_dir_regenie=$UKBB_PATH/results/REGENIE_results/results_exome_data"
   ]
  },
  {
   "cell_type": "code",
   "execution_count": 4,
   "id": "fde374e7-1415-4de9-9f04-8ba9e35839f9",
   "metadata": {
    "kernel": "Bash",
    "tags": []
   },
   "outputs": [
    {
     "name": "stdout",
     "output_type": "stream",
     "text": [
      "\n"
     ]
    }
   ],
   "source": [
    "## LMM variables \n",
    "## Specific to Bolt_LMM\n",
    "LDscoresFile=$UKBB_PATH/LDSCORE.1000G_EUR.tab.gz\n",
    "geneticMapFile=$UKBB_PATH/genetic_map_hg19_withX.txt.gz\n",
    "covarMaxLevels=10\n",
    "numThreads=20\n",
    "bgenMinMAF=0.001\n",
    "bgenMinINFO=0.8\n",
    "lmm_job_size=1\n",
    "ylim=0\n",
    "\n",
    "### Specific to FastGWA (depeding if you run from Yale or Columbia)\n",
    "####Yale's cluster\n",
    "grmFile=$UKBB_PATH/results/FastGWA_results/results_imputed_data/UKB_Caucasians_phenotypeindepqc120319_updated020720removedwithdrawnindiv.grm.sp\n",
    "####Columbia's cluster\n",
    "grmFile=$UKBB_yale/results/FastGWA_results/results_imputed_data/UKB_Caucasians_phenotypeindepqc120319_updated020720removedwithdrawnindiv.grm.sp\n",
    "\n",
    "### Specific to SAIGE\n",
    "bgenMinMAC=4\n",
    "trait_type=binary\n",
    "loco=TRUE\n",
    "sampleCol=IID\n",
    "\n",
    "### Specific to REGENIE\n",
    "bsize=1000\n",
    "lowmem=$HOME/scratch60/\n",
    "lowmem_dir=$HOME/scratch60/predictions\n",
    "trait=bt\n",
    "minMAC=4\n",
    "maf_filter=0\n",
    "geno_filter=0\n",
    "hwe_filter=0\n",
    "mind_filter=0\n",
    "reverse_log_p=True"
   ]
  },
  {
   "cell_type": "markdown",
   "id": "e4a3eb39-5672-4460-9213-a3d8067b1589",
   "metadata": {
    "kernel": "SoS"
   },
   "source": [
    "## Create the anno_file, set_list_file,aaf_file and mask_files necessary for burden test"
   ]
  },
  {
   "cell_type": "code",
   "execution_count": 8,
   "id": "516be086-1f2e-4bfe-b1d0-a94464e31b4c",
   "metadata": {
    "kernel": "Bash",
    "tags": []
   },
   "outputs": [
    {
     "name": "stdout",
     "output_type": "stream",
     "text": [
      "INFO: Running \u001b[32mcsg\u001b[0m: Configuration for Columbia csg partition cluster\n",
      "INFO: \u001b[32mcsg\u001b[0m is \u001b[32mcompleted\u001b[0m.\n",
      "INFO: \u001b[32mcsg\u001b[0m output:   \u001b[32m/home/dmc2245/pleiotropy/102121_burden_files/ukb23155_200Kexomes_burdenfiles_2021-10-21.sbatch\u001b[0m\n",
      "INFO: Workflow csg (ID=w7feb221e3490aa74) is executed successfully with 1 completed step.\n"
     ]
    }
   ],
   "source": [
    "burden_dir=~/pleiotropy/102121_burden_files\n",
    "anno_sbatch_burden=~/pleiotropy/102121_burden_files/ukb23155_200Kexomes_burdenfiles_$(date +\"%Y-%m-%d\").sbatch\n",
    "annotated_file_hg38=~/UKBiobank/results/ukb23155_200Kexomes_annovar/2021_10_12_hg38_exome/ukb23155_chr1_chr22_091321.hg38.hg38_multianno.renamedcols.csv.gz\n",
    "bim_name=~/UKBiobank/results/ukb23155_200Kexomes_annovar/091321_exome_bim_merge/ukb23155_chr1_chr22_091321.bim\n",
    "job_size=1\n",
    "name_prefix='ukb23155_chr1_chr22_qcexomedata_102121_burden_files'\n",
    "anno_sos=$HOME/project/bioworkflows/variant-annotation/annovar.ipynb\n",
    "tpl_file=$HOME/project/bioworkflows/admin/csg.yml\n",
    "container_annovar=$HOME/containers/gatk4-annovar.sif\n",
    "\n",
    "anno_args=\"\"\"burden_files\n",
    "    --cwd $burden_dir\n",
    "    --annotated_file $annotated_file_hg38\n",
    "    --bim_name $bim_name\n",
    "    --name_prefix $name_prefix\n",
    "    --job_size $job_size\n",
    "    --container_annovar $container_annovar\n",
    "    --container_lmm /mnt/mfs/statgen/containers/lmm.sif\n",
    "\"\"\"\n",
    "\n",
    "sos run ~/project/UKBB_GWAS_dev/admin/Get_Job_Script.ipynb csg \\\n",
    "    --template-file $tpl_file \\\n",
    "    --workflow-file $anno_sos \\\n",
    "    --to-script $anno_sbatch_burden\\\n",
    "    --args \"$anno_args\"\n"
   ]
  },
  {
   "cell_type": "markdown",
   "id": "70e61144-c504-457a-83b3-3616960eb538",
   "metadata": {
    "kernel": "SoS"
   },
   "source": [
    "## Regenie burden association analysis"
   ]
  },
  {
   "cell_type": "markdown",
   "id": "ee759afd-167c-4395-99fc-1ea37fe6c8fd",
   "metadata": {
    "kernel": "Bash"
   },
   "source": [
    "### 05/02/22 Asthma extended white (INCORRECT bed files and PC file)"
   ]
  },
  {
   "cell_type": "code",
   "execution_count": 11,
   "id": "b707cd6b-8e2e-4190-9e9b-66500d9b0c00",
   "metadata": {
    "kernel": "Bash"
   },
   "outputs": [
    {
     "name": "stdout",
     "output_type": "stream",
     "text": [
      "INFO: Running \u001b[32mcsg\u001b[0m: Configuration for Columbia csg partition cluster\n",
      "INFO: \u001b[32mcsg\u001b[0m is \u001b[32mcompleted\u001b[0m.\n",
      "INFO: \u001b[32mcsg\u001b[0m output:   \u001b[32m/home/dmc2245/pleiotropy/102121_asthma_burden/asthma_200k_exomes-regenie-burden_2021-10-21.sbatch\u001b[0m\n",
      "INFO: Workflow csg (ID=wbeb5eaa15673eb03) is executed successfully with 1 completed step.\n"
     ]
    }
   ],
   "source": [
    "lmm_dir_regenie=~/pleiotropy/050222_asthma_burden_extwhite\n",
    "lmm_sbatch_regenie=~/pleiotropy/050222_asthma_burden_extwhite/asthma_200k_exomes-regenie-burden_$(date +\"%Y-%m-%d\").sbatch\n",
    "phenoFile=~/UKBiobank_Yale_transfer/pleiotropy_R01/phenotypesforanalysis/UKB_caucasians_BMIwaisthip_AsthmaAndT2D_withagesex_033120\n",
    "covarFile=~/UKBiobank_Yale_transfer/pleiotropy_R01/phenotypesforanalysis/UKB_caucasians_BMIwaisthip_AsthmaAndT2D_withagesex_033120\n",
    "phenoCol=ASTHMA\n",
    "covarCol=SEX\n",
    "qCovarCol=AGE\n",
    "## QC'ed exome files for 200K\n",
    "genoFile=`echo ~/UKBiobank/data/exome_files/project_VCF/072721_run/plink/ukb23156_c{1..22}.merged.filtered.bed`\n",
    "bfile=~/UKBiobank_Yale_transfer/pleiotropy_geneticfiles/UKB_Caucasians_phenotypeindepqc120319_updated082020removedwithdrawnindiv.bed\n",
    "anno_file=~/pleiotropy/102121_burden_files/ukb23155_chr1_chr22_091321.hg38.hg38_multianno.renamedcols.csv.anno_file\n",
    "set_list=~/pleiotropy/102121_burden_files/ukb23155_chr1_chr22_091321.hg38.hg38_multianno.renamedcols.csv.set_list_file\n",
    "mask_file=~/pleiotropy/102121_burden_files/ukb23155_chr1_chr22_091321.hg38.hg38_multianno.renamedcols.csv.mask_file\n",
    "aaf_file=~/pleiotropy/102121_burden_files/ukb23155_chr1_chr22_091321.hg38.hg38_multianno.renamedcols.csv.aaf_file\n",
    "keep_gene=\n",
    "build_mask=max\n",
    "aaf_bins='0.005 0.01'\n",
    "tpl_file=~/project/bioworkflows/admin/csg.yml\n",
    "lmm_sos=~/project/bioworkflows/GWAS/LMM.ipynb\n",
    "container_marp=$HOME/containers/marp.sif\n",
    "container_lmm=$HOME/containers/lmm.sif \n",
    "lmm_job_size=1\n",
    "ylim=0\n",
    "reverse_log_p=True\n",
    "numThreads=2\n",
    "formatFile_regenie=$HOME/project/UKBB_GWAS_dev/data/regenie_template.yml\n",
    "bsize=1000\n",
    "trait=bt\n",
    "minMAC=1\n",
    "snpannofile=~/UKBiobank/results/ukb23155_200Kexomes_annovar/2021_10_12_hg38_exome/ukb23155_chr1_chr22_091321.hg38.hg38_multianno.renamedcols.csv.gz\n",
    "\n",
    "lmm_args=\"\"\"regenie_burden\n",
    "    --cwd $lmm_dir_regenie \n",
    "    --bfile $bfile \n",
    "    --genoFile $genoFile\n",
    "    --sampleFile $sampleFile\n",
    "    --phenoFile $phenoFile \n",
    "    --formatFile $formatFile_regenie \n",
    "    --phenoCol $phenoCol\n",
    "    --covarCol $covarCol  \n",
    "    --qCovarCol $qCovarCol\n",
    "    --bsize $bsize\n",
    "    --trait $trait\n",
    "    --anno_file $anno_file\n",
    "    --set_list $set_list\n",
    "    --mask_file $mask_file\n",
    "    --keep_gene $keep_gene\n",
    "    --aaf_bins $aaf_bins\n",
    "    --aaf_file $aaf_file\n",
    "    --build_mask $build_mask\n",
    "    --job_size $lmm_job_size\n",
    "    --ylim $ylim\n",
    "    --reverse_log_p $reverse_log_p\n",
    "    --numThreads $numThreads\n",
    "    --minMAC $minMAC\n",
    "    --snpannofile $snpannofile\n",
    "    --container_lmm $container_lmm\n",
    "    --container_marp $container_marp\n",
    "\"\"\"\n",
    "\n",
    "sos run ~/project/UKBB_GWAS_dev/admin/Get_Job_Script.ipynb csg \\\n",
    "    --template-file $tpl_file \\\n",
    "    --workflow-file $lmm_sos \\\n",
    "    --to-script $lmm_sbatch_regenie \\\n",
    "    --args \"$lmm_args\""
   ]
  },
  {
   "cell_type": "markdown",
   "id": "3fe28d5f-525c-4d9a-acd3-9a806ecf7a5a",
   "metadata": {
    "kernel": "Bash"
   },
   "source": [
    "### 05/12/22 Asthma extended white"
   ]
  },
  {
   "cell_type": "code",
   "execution_count": 4,
   "id": "6fc8b905-fa9a-4bbe-8930-6bc72bba62a4",
   "metadata": {
    "kernel": "Bash"
   },
   "outputs": [
    {
     "name": "stdout",
     "output_type": "stream",
     "text": [
      "INFO: Running \u001b[32mcsg\u001b[0m: Configuration for Columbia csg partition cluster\n",
      "INFO: \u001b[32mcsg\u001b[0m is \u001b[32mcompleted\u001b[0m.\n",
      "INFO: \u001b[32mcsg\u001b[0m output:   \u001b[32m/home/dmc2245/UKBiobank/results_pleiotropy/REGENIE_results/results_burden_exome/051222_asthma_burden_extwhite/asthma_white_exomes-regenie-burden_2022-05-12.sbatch\u001b[0m\n",
      "INFO: Workflow csg (ID=w725338aa7ba1e019) is executed successfully with 1 completed step.\n",
      "\n"
     ]
    }
   ],
   "source": [
    "lmm_dir_regenie=~/UKBiobank/results_pleiotropy/REGENIE_results/results_burden_exome/051222_asthma_burden_extwhite\n",
    "lmm_sbatch_regenie=~/UKBiobank/results_pleiotropy/REGENIE_results/results_burden_exome/051222_asthma_burden_extwhite/asthma_white_exomes-regenie-burden_$(date +\"%Y-%m-%d\").sbatch\n",
    "phenoFile=~/UKBiobank/phenotype_files/pleiotropy/UKB_exome_White_asthma_pcs\n",
    "phenoCol=ASTHMA_ICD10orself_03_28_22\n",
    "covarCol=sex\n",
    "qCovarCol=`echo age asm_PC{1..10}`\n",
    "## QC'ed exome files for 200K\n",
    "genoFile=`echo ~/UKBiobank/data/exome_files/project_VCF/072721_run/plink/ukb23156_c{1..22}.merged.filtered.bed`\n",
    "bfile=~/UKBiobank/genotype_files_processed/010622_exp_white_finalqc/cache/*.bed\n",
    "anno_file=~/pleiotropy/102121_burden_files/ukb23155_chr1_chr22_091321.hg38.hg38_multianno.renamedcols.csv.anno_file\n",
    "set_list=~/pleiotropy/102121_burden_files/ukb23155_chr1_chr22_091321.hg38.hg38_multianno.renamedcols.csv.set_list_file\n",
    "mask_file=~/pleiotropy/102121_burden_files/ukb23155_chr1_chr22_091321.hg38.hg38_multianno.renamedcols.csv.mask_file\n",
    "aaf_file=~/pleiotropy/102121_burden_files/ukb23155_chr1_chr22_091321.hg38.hg38_multianno.renamedcols.csv.aaf_file\n",
    "build_mask=max\n",
    "aaf_bins='0.005 0.01'\n",
    "tpl_file=~/project/bioworkflows/admin/csg.yml\n",
    "lmm_sos=~/project/bioworkflows/GWAS/LMM.ipynb\n",
    "container_marp=$HOME/containers/marp.sif\n",
    "container_lmm=$HOME/containers/lmm.sif \n",
    "lmm_job_size=1\n",
    "ylim=0\n",
    "k=10\n",
    "reverse_log_p=True\n",
    "numThreads=2\n",
    "formatFile_regenie=$HOME/project/UKBB_GWAS_dev/data/regenie_template.yml\n",
    "bsize=1000\n",
    "trait=bt\n",
    "minMAC=1\n",
    "snpannofile=~/UKBiobank/results/ukb23155_200Kexomes_annovar/2021_10_12_hg38_exome/ukb23155_chr1_chr22_091321.hg38.hg38_multianno.renamedcols.csv.gz\n",
    "\n",
    "lmm_args=\"\"\"regenie_burden\n",
    "    --cwd $lmm_dir_regenie \n",
    "    --bfile $bfile \n",
    "    --genoFile $genoFile\n",
    "    --sampleFile $sampleFile\n",
    "    --phenoFile $phenoFile \n",
    "    --formatFile $formatFile_regenie \n",
    "    --phenoCol $phenoCol\n",
    "    --covarCol $covarCol  \n",
    "    --qCovarCol $qCovarCol\n",
    "    --bsize $bsize\n",
    "    --trait $trait\n",
    "    --anno_file $anno_file\n",
    "    --set_list $set_list\n",
    "    --mask_file $mask_file\n",
    "    --aaf_bins $aaf_bins\n",
    "    --aaf_file $aaf_file\n",
    "    --build_mask $build_mask\n",
    "    --job_size $lmm_job_size\n",
    "    --ylim $ylim\n",
    "    --k $k\n",
    "    --reverse_log_p $reverse_log_p\n",
    "    --numThreads $numThreads\n",
    "    --minMAC $minMAC\n",
    "    --snpannofile $snpannofile\n",
    "    --container_lmm $container_lmm\n",
    "    --container_marp $container_marp\n",
    "\"\"\"\n",
    "\n",
    "sos run ~/project/UKBB_GWAS_dev/admin/Get_Job_Script.ipynb csg \\\n",
    "    --template-file $tpl_file \\\n",
    "    --workflow-file $lmm_sos \\\n",
    "    --to-script $lmm_sbatch_regenie \\\n",
    "    --args \"$lmm_args\""
   ]
  },
  {
   "cell_type": "markdown",
   "id": "4da19de2-5be1-46e8-aebe-9439060b748e",
   "metadata": {
    "kernel": "Bash"
   },
   "source": [
    "### 05/12/22 Asthma Asian"
   ]
  },
  {
   "cell_type": "code",
   "execution_count": 5,
   "id": "d2e4dec3-2d45-4618-bf31-154fb2f34863",
   "metadata": {
    "kernel": "Bash"
   },
   "outputs": [
    {
     "name": "stdout",
     "output_type": "stream",
     "text": [
      "INFO: Running \u001b[32mcsg\u001b[0m: Configuration for Columbia csg partition cluster\n",
      "INFO: \u001b[32mcsg\u001b[0m is \u001b[32mcompleted\u001b[0m.\n",
      "INFO: \u001b[32mcsg\u001b[0m output:   \u001b[32m/home/dmc2245/UKBiobank/results_pleiotropy/REGENIE_results/results_burden_exome/051222_asthma_asian/asthma_asian_exomes-regenie-burden2022-05-12.sbatch\u001b[0m\n",
      "INFO: Workflow csg (ID=we1031cdb10b8ee7b) is executed successfully with 1 completed step.\n",
      "\n"
     ]
    }
   ],
   "source": [
    "lmm_dir_regenie=~/UKBiobank/results_pleiotropy/REGENIE_results/results_burden_exome/051222_asthma_asian\n",
    "lmm_sbatch_regenie=~/UKBiobank/results_pleiotropy/REGENIE_results/results_burden_exome/051222_asthma_asian/asthma_asian_exomes-regenie-burden$(date +\"%Y-%m-%d\").sbatch\n",
    "phenoFile=~/UKBiobank/phenotype_files/pleiotropy/UKB_exome_Asian_asthma_pcs\n",
    "phenoCol=ASTHMA_ICD10orself_03_28_22\n",
    "covarCol=sex\n",
    "qCovarCol=`echo age asm_PC{1..10}`\n",
    "genoFile=`echo ~/UKBiobank/data/exome_files/project_VCF/072721_run/plink/ukb23156_c{1..22}.merged.filtered.bed`\n",
    "bfile=~/UKBiobank/genotype_files_processed/021722_asian_finalqc_10157samples_444076variants/cache/*.bed\n",
    "anno_file=~/UKBiobank/results_pleiotropy/REGENIE_results/results_burden_exome/102121_burden_files/ukb23155_chr1_chr22_091321.hg38.hg38_multianno.renamedcols.csv.anno_file\n",
    "set_list=~/UKBiobank/results_pleiotropy/REGENIE_results/results_burden_exome/102121_burden_files/ukb23155_chr1_chr22_091321.hg38.hg38_multianno.renamedcols.csv.set_list_file\n",
    "mask_file=~/UKBiobank/results_pleiotropy/REGENIE_results/results_burden_exome/102121_burden_files/ukb23155_chr1_chr22_091321.hg38.hg38_multianno.renamedcols.csv.mask_file\n",
    "aaf_file=~/UKBiobank/results_pleiotropy/REGENIE_results/results_burden_exome/102121_burden_files/ukb23155_chr1_chr22_091321.hg38.hg38_multianno.renamedcols.csv.aff_file\n",
    "build_mask=max\n",
    "aaf_bins='0.005 0.01'\n",
    "tpl_file=~/project/bioworkflows/admin/csg.yml\n",
    "lmm_sos=~/project/bioworkflows/GWAS/LMM.ipynb\n",
    "container_marp=~/containers/marp.sif\n",
    "container_lmm=~/containers/lmm.sif \n",
    "lmm_job_size=1\n",
    "ylim=0\n",
    "k=10\n",
    "reverse_log_p=True\n",
    "numThreads=20\n",
    "formatFile_regenie=~/project/UKBB_GWAS_dev/data/regenie_template.yml\n",
    "bsize=1000\n",
    "## Trait leave empty for qt traits\n",
    "trait=bt\n",
    "minMAC=1\n",
    "snpannofile=~/UKBiobank/results/ukb23155_200Kexomes_annovar/2021_10_12_hg38_exome/ukb23155_chr1_chr22_091321.hg38.hg38_multianno.renamedcols.csv.gz\n",
    "\n",
    "lmm_args=\"\"\"regenie_burden\n",
    "    --cwd $lmm_dir_regenie \n",
    "    --bfile $bfile \n",
    "    --genoFile $genoFile\n",
    "    --phenoFile $phenoFile \n",
    "    --formatFile $formatFile_regenie \n",
    "    --phenoCol $phenoCol\n",
    "    --covarCol $covarCol  \n",
    "    --qCovarCol $qCovarCol\n",
    "    --bsize $bsize\n",
    "    --trait $trait\n",
    "    --anno_file $anno_file\n",
    "    --set_list $set_list\n",
    "    --mask_file $mask_file\n",
    "    --aaf_file $aaf_file\n",
    "    --aaf_bins $aaf_bins\n",
    "    --build_mask $build_mask\n",
    "    --job_size $lmm_job_size\n",
    "    --ylim $ylim\n",
    "    --k $k\n",
    "    --reverse_log_p $reverse_log_p\n",
    "    --numThreads $numThreads\n",
    "    --minMAC $minMAC\n",
    "    --snpannofile $snpannofile\n",
    "    --container_lmm $container_lmm\n",
    "    --container_marp $container_marp\n",
    "\"\"\"\n",
    "\n",
    "sos run ~/project/UKBB_GWAS_dev/admin/Get_Job_Script.ipynb csg \\\n",
    "    --template-file $tpl_file \\\n",
    "    --workflow-file $lmm_sos \\\n",
    "    --to-script $lmm_sbatch_regenie \\\n",
    "    --args \"$lmm_args\""
   ]
  },
  {
   "cell_type": "markdown",
   "id": "6a5f19a7-dd9c-4a4c-8f1f-f327e4919fd4",
   "metadata": {
    "kernel": "Bash"
   },
   "source": [
    "### 05/12/22 Asthma African"
   ]
  },
  {
   "cell_type": "code",
   "execution_count": 6,
   "id": "c75c5274-1b03-4386-bf87-4970bab0ffd7",
   "metadata": {
    "kernel": "Bash"
   },
   "outputs": [
    {
     "name": "stdout",
     "output_type": "stream",
     "text": [
      "INFO: Running \u001b[32mcsg\u001b[0m: Configuration for Columbia csg partition cluster\n",
      "INFO: \u001b[32mcsg\u001b[0m is \u001b[32mcompleted\u001b[0m.\n",
      "INFO: \u001b[32mcsg\u001b[0m output:   \u001b[32m/home/dmc2245/UKBiobank/results_pleiotropy/REGENIE_results/results_burden_exome/051222_asthma_african/ashtma_african-regenie-burden2022-05-12.sbatch\u001b[0m\n",
      "INFO: Workflow csg (ID=w2c6ee6fc287350f4) is executed successfully with 1 completed step.\n",
      "\n"
     ]
    }
   ],
   "source": [
    "lmm_dir_regenie=~/UKBiobank/results_pleiotropy/REGENIE_results/results_burden_exome/051222_asthma_african\n",
    "lmm_sbatch_regenie=~/UKBiobank/results_pleiotropy/REGENIE_results/results_burden_exome/051222_asthma_african/ashtma_african-regenie-burden$(date +\"%Y-%m-%d\").sbatch\n",
    "phenoFile=~/UKBiobank/phenotype_files/pleiotropy/UKB_exome_African_asthma_pcs\n",
    "phenoCol=ASTHMA_ICD10orself_03_28_22\n",
    "covarCol=sex\n",
    "qCovarCol=`echo age asm_PC{1..10}`\n",
    "genoFile=`echo ~/UKBiobank/data/exome_files/project_VCF/072721_run/plink/ukb23156_c{1..22}.merged.filtered.bed`\n",
    "bfile=~/UKBiobank/genotype_files_processed/021722_african_finalqc_8591samples_351690variants/cache/*.bed\n",
    "anno_file=~/UKBiobank/results_pleiotropy/REGENIE_results/results_burden_exome/102121_burden_files/ukb23155_chr1_chr22_091321.hg38.hg38_multianno.renamedcols.csv.anno_file\n",
    "set_list=~/UKBiobank/results_pleiotropy/REGENIE_results/results_burden_exome/102121_burden_files/ukb23155_chr1_chr22_091321.hg38.hg38_multianno.renamedcols.csv.set_list_file\n",
    "mask_file=~/UKBiobank/results_pleiotropy/REGENIE_results/results_burden_exome/102121_burden_files/ukb23155_chr1_chr22_091321.hg38.hg38_multianno.renamedcols.csv.mask_file\n",
    "aaf_file=~/UKBiobank/results_pleiotropy/REGENIE_results/results_burden_exome/102121_burden_files/ukb23155_chr1_chr22_091321.hg38.hg38_multianno.renamedcols.csv.aff_file\n",
    "build_mask=max\n",
    "aaf_bins='0.005 0.01'\n",
    "tpl_file=~/project/bioworkflows/admin/csg.yml\n",
    "lmm_sos=~/project/bioworkflows/GWAS/LMM.ipynb\n",
    "container_marp=~/containers/marp.sif\n",
    "container_lmm=~/containers/lmm.sif \n",
    "lmm_job_size=1\n",
    "ylim=0\n",
    "k=10\n",
    "reverse_log_p=True\n",
    "numThreads=20\n",
    "formatFile_regenie=~/project/UKBB_GWAS_dev/data/regenie_template.yml\n",
    "bsize=1000\n",
    "## Trait leave empty for qt traits\n",
    "trait=bt\n",
    "minMAC=1\n",
    "snpannofile=~/UKBiobank/results/ukb23155_200Kexomes_annovar/2021_10_12_hg38_exome/ukb23155_chr1_chr22_091321.hg38.hg38_multianno.renamedcols.csv.gz\n",
    "\n",
    "lmm_args=\"\"\"regenie_burden\n",
    "    --cwd $lmm_dir_regenie \n",
    "    --bfile $bfile \n",
    "    --genoFile $genoFile\n",
    "    --phenoFile $phenoFile \n",
    "    --formatFile $formatFile_regenie \n",
    "    --phenoCol $phenoCol\n",
    "    --covarCol $covarCol  \n",
    "    --qCovarCol $qCovarCol\n",
    "    --bsize $bsize\n",
    "    --trait $trait\n",
    "    --anno_file $anno_file\n",
    "    --set_list $set_list\n",
    "    --mask_file $mask_file\n",
    "    --aaf_file $aaf_file\n",
    "    --aaf_bins $aaf_bins\n",
    "    --build_mask $build_mask\n",
    "    --job_size $lmm_job_size\n",
    "    --ylim $ylim\n",
    "    --k $k\n",
    "    --reverse_log_p $reverse_log_p\n",
    "    --numThreads $numThreads\n",
    "    --minMAC $minMAC\n",
    "    --snpannofile $snpannofile\n",
    "    --container_lmm $container_lmm\n",
    "    --container_marp $container_marp\n",
    "\"\"\"\n",
    "\n",
    "sos run ~/project/UKBB_GWAS_dev/admin/Get_Job_Script.ipynb csg \\\n",
    "    --template-file $tpl_file \\\n",
    "    --workflow-file $lmm_sos \\\n",
    "    --to-script $lmm_sbatch_regenie \\\n",
    "    --args \"$lmm_args\""
   ]
  },
  {
   "cell_type": "markdown",
   "id": "c4acf8ec-fa25-4323-aa4f-6106244fb13f",
   "metadata": {
    "kernel": "Bash"
   },
   "source": [
    "## Regenie single variant analysis for asthma with WES"
   ]
  },
  {
   "cell_type": "code",
   "execution_count": 6,
   "id": "7d0a6424-9d2f-413f-87d7-4b42db3706cf",
   "metadata": {
    "kernel": "Bash"
   },
   "outputs": [
    {
     "name": "stdout",
     "output_type": "stream",
     "text": [
      "INFO: Running \u001b[32mcsg\u001b[0m: Configuration for Columbia csg partition cluster\n",
      "INFO: \u001b[32mcsg\u001b[0m is \u001b[32mcompleted\u001b[0m.\n",
      "INFO: \u001b[32mcsg\u001b[0m output:   \u001b[32m/home/dmc2245/UKBiobank/results_pleiotropy/REGENIE_results/results_exome_data/060822_asthma_WES_200K/asthma_WES_200K-regenie_2022-06-08.sbatch\u001b[0m\n",
      "INFO: Workflow csg (ID=wf46c31d9af94966f) is executed successfully with 1 completed step.\n",
      "\n"
     ]
    }
   ],
   "source": [
    "## All filters set to 0 because the version of the bfile has already been QC'ed previously and there is not need to do it here\n",
    "maf_filter=0\n",
    "geno_filter=0\n",
    "hwe_filter=0\n",
    "mind_filter=0\n",
    "lmm_dir_regenie=~/UKBiobank/results_pleiotropy/REGENIE_results/results_exome_data/060822_asthma_WES_200K\n",
    "lmm_sbatch_regenie=~/UKBiobank/results_pleiotropy/REGENIE_results/results_exome_data/060822_asthma_WES_200K/asthma_WES_200K-regenie_$(date +\"%Y-%m-%d\").sbatch\n",
    "phenoFile=~/UKBiobank/phenotype_files/pleiotropy/UKB_exome_White_asthma_pcs\n",
    "phenoCol=ASTHMA_ICD10orself_03_28_22\n",
    "covarCol=sex\n",
    "qCovarCol=`echo age asm_PC{1..10}`\n",
    "genoFile=`echo ~/UKBiobank/data/exome_files/project_VCF/072721_run/plink/ukb23156_c{1..22}.merged.filtered.bed`\n",
    "bfile=~/UKBiobank/genotype_files_processed/010622_exp_white_finalqc/cache/*.bed\n",
    "formatFile_regenie=~/project/UKBB_GWAS_dev/data/regenie_template.yml\n",
    "bsize=1000\n",
    "reverse_log_p=True\n",
    "numThreads=20\n",
    "\n",
    "lmm_args=\"\"\"regenie\n",
    "    --cwd $lmm_dir_regenie \n",
    "    --bfile $bfile \n",
    "    --genoFile $genoFile\n",
    "    --phenoFile $phenoFile \n",
    "    --formatFile $formatFile_regenie \n",
    "    --phenoCol $phenoCol\n",
    "    --covarCol $covarCol  \n",
    "    --qCovarCol $qCovarCol\n",
    "    --bsize $bsize\n",
    "    --lowmem_dir $lowmem_dir\n",
    "    --trait $trait \n",
    "    --bgenMinMAF $bgenMinMAF \n",
    "    --bgenMinINFO $bgenMinINFO\n",
    "    --maf_filter $maf_filter\n",
    "    --geno_filter $geno_filter\n",
    "    --hwe_filter $hwe_filter\n",
    "    --mind_filter $mind_filter\n",
    "    --minMAC $minMAC\n",
    "    --job_size $lmm_job_size\n",
    "    --ylim $ylim\n",
    "    --reverse_log_p $reverse_log_p\n",
    "    --numThreads $numThreads\n",
    "    --no-annotate\n",
    "    --container_lmm $container_lmm\n",
    "    --container_marp $container_marp\n",
    "\"\"\"\n",
    "\n",
    "sos run ~/project/UKBB_GWAS_dev/admin/Get_Job_Script.ipynb csg\\\n",
    "    --template-file $tpl_file \\\n",
    "    --workflow-file $lmm_sos \\\n",
    "    --to-script $lmm_sbatch_regenie \\\n",
    "    --args \"$lmm_args\" "
   ]
  },
  {
   "cell_type": "code",
   "execution_count": null,
   "id": "2de6a4f6-1642-4575-b0ed-daee0deba7ae",
   "metadata": {
    "kernel": "Bash"
   },
   "outputs": [],
   "source": []
  }
 ],
 "metadata": {
  "kernelspec": {
   "display_name": "SoS",
   "language": "sos",
   "name": "sos"
  },
  "language_info": {
   "codemirror_mode": "sos",
   "file_extension": ".sos",
   "mimetype": "text/x-sos",
   "name": "sos",
   "nbconvert_exporter": "sos_notebook.converter.SoS_Exporter",
   "pygments_lexer": "sos"
  },
  "sos": {
   "kernels": [
    [
     "Bash",
     "calysto_bash",
     "Bash",
     "#E6EEFF",
     "shell"
    ]
   ],
   "version": "0.22.6"
  }
 },
 "nbformat": 4,
 "nbformat_minor": 5
}
