{
 "cells": [
  {
   "cell_type": "markdown",
   "metadata": {
    "kernel": "SoS"
   },
   "source": [
    "# Analysis of type 2 diabetes (T2D)"
   ]
  },
  {
   "cell_type": "markdown",
   "metadata": {
    "kernel": "SoS"
   },
   "source": [
    "This notebook applies the `Get_Job_Script.ipynb` to automatically generate the sbatch scripts to run in Yale's cluster. The end result is to apply [various LMM workflows](https://github.com/statgenetics/UKBB_GWAS_dev/tree/master/workflow) to perform association analysis in the T2D trait, do clumping analysis and extract associated regions."
   ]
  },
  {
   "cell_type": "markdown",
   "metadata": {
    "kernel": "SoS"
   },
   "source": [
    "## File paths on Yale cluster\n",
    "\n",
    "- Genotype files in PLINK format:\n",
    "`/gpfs/gibbs/pi/dewan/data/UKBiobank/genotype_files/pleiotropy_geneticfiles/UKB_Caucasians_phenotypeindepqc120319_updated020720removedwithdrawnindiv`\n",
    "- Genotype files in bgen format:\n",
    "`SAY/dbgapstg/scratch/UKBiobank/genotype_files/ukb39554_imputeddataset/`\n",
    "- Summary stats for imputed variants BOLT-LMM:\n",
    "`/gpfs/gibbs/pi/dewan/data/UKBiobank/results/BOLTLMM_results/results_imputed_data`\n",
    "- Summary stats for inputed variants FastGWA:\n",
    "`/gpfs/gibbs/pi/dewan/data/UKBiobank/results/FastGWA_results/results_imputed_data`\n",
    "- Phenotype files:\n",
    "`/gpfs/gibbs/pi/dewan/data/UKBiobank/phenotype_files/pleiotropy_R01/phenotypesforanalysis`\n",
    "- Relationship file:\n",
    "`/gpfs/gibbs/pi/dewan/data/UKBiobank/genotype_files/pleiotropy_geneticfiles/unrelated_n307259/UKB_unrelatedcauc_phenotypes_asthmat2dbmiwaisthip_agesex_waisthipratio_040620`\n"
   ]
  },
  {
   "cell_type": "markdown",
   "metadata": {
    "kernel": "SoS"
   },
   "source": [
    "# 07/01/20 analysis\n",
    "\n",
    "On the cluster, open up this notebook using the JupyterLab server you set up via the ssh channel, then run the following cells,"
   ]
  },
  {
   "cell_type": "markdown",
   "metadata": {
    "kernel": "SoS"
   },
   "source": [
    "## Bash variables for workflow configuration"
   ]
  },
  {
   "cell_type": "code",
   "execution_count": 1,
   "metadata": {
    "kernel": "SoS"
   },
   "outputs": [
    {
     "name": "stdout",
     "output_type": "stream",
     "text": [
      "\n"
     ]
    }
   ],
   "source": [
    "# Common variables\n",
    "tpl_file=../farnam.yml\n",
    "bfile=/gpfs/gibbs/pi/dewan/data/UKBiobank/genotype_files/pleiotropy_geneticfiles/UKB_Caucasians_phenotypeindepqc120319_updated020720removedwithdrawnindiv.bed\n",
    "sampleFile=/gpfs/gibbs/pi/dewan/data/UKBiobank/genotype_files/ukb39554_imputeddataset/ukb32285_imputedindiv.sample\n",
    "bgenFile=`echo /gpfs/gibbs/pi/dewan/data/UKBiobank/genotype_files/ukb39554_imputeddataset/ukb_imp_chr{1..22}_v3.bgen`\n",
    "unrelated_samples=/gpfs/gibbs/pi/dewan/data/UKBiobank/genotype_files/pleiotropy_geneticfiles/unrelated_n307259/UKB_unrelatedcauc_phenotypes_asthmat2dbmiwaisthip_agesex_waisthipratio_040620\n",
    "formatFile_fastgwa=~/project/UKBB_GWAS_dev/data/fastGWA_template.yml\n",
    "formatFile_bolt=~/project/UKBB_GWAS_dev/data/boltlmm_template.yml\n",
    "formatFile_saige=~/project/UKBB_GWAS_dev/data/saige_template.yml\n",
    "container_lmm=/gpfs/gibbs/pi/dewan/data/UKBiobank/lmm.sif\n",
    "container_marp=/gpfs/gibbs/pi/dewan/data/UKBiobank/marp.sif\n",
    "# LMM directories\n",
    "lmm_dir_fastgwa=/gpfs/gibbs/pi/dewan/data/UKBiobank/results/FastGWA_results/results_imputed_data/T2D\n",
    "lmm_dir_bolt=/gpfs/gibbs/pi/dewan/data/UKBiobank/results/BOLTLMM_results/results_imputed_data/T2D\n",
    "lmm_dir_saige=/gpfs/gibbs/pi/dewan/data/UKBiobank/results/SAIGE_results/results_imputed_data/T2D\n",
    "lmm_sos=../workflow/LMM.ipynb\n",
    "lmm_sbatch_fastgwa=../output/$(date +\"%Y-%m-%d\")_T2D-fastgwa.sbatch\n",
    "lmm_sbatch_bolt=../output/$(date +\"%Y-%m-%d\")_T2D-bolt.sbatch\n",
    "lmm_sbatch_saige=../output/$(date +\"%Y-%m-%d\")_T2D-saige.sbatch\n",
    "phenoFile=/gpfs/gibbs/pi/dewan/data/UKBiobank/phenotype_files/pleiotropy_R01/phenotypesforanalysis/diabetes_casesbyICD10andselfreport_controlswithoutautoiummune_030720\n",
    "## LMM variables \n",
    "covarFile=/gpfs/gibbs/pi/dewan/data/UKBiobank/phenotype_files/pleiotropy_R01/phenotypesforanalysis/diabetes_casesbyICD10andselfreport_controlswithoutautoiummune_030720\n",
    "LDscoresFile=/gpfs/gibbs/pi/dewan/data/UKBiobank/LDSCORE.1000G_EUR.tab.gz\n",
    "geneticMapFile=/gpfs/gibbs/pi/dewan/data/UKBiobank/genetic_map_hg19_withX.txt.gz\n",
    "phenoCol=T2D\n",
    "covarCol=SEX\n",
    "covarMaxLevels=10\n",
    "qCovarCol=AGE\n",
    "numThreads=20\n",
    "bgenMinMAF=0.001\n",
    "bgenMinINFO=0.8\n",
    "lmm_job_size=1\n",
    "### Specific to SAIGE\n",
    "bgenMinMAC=4\n",
    "trait_type=binary\n",
    "loco=TRUE\n",
    "sampleCol=IID\n",
    "# LD clumping directories\n",
    "clumping_dir=/gpfs/gibbs/pi/dewan/data/UKBiobank/results/LD_clumping/T2D\n",
    "clumping_sos=../workflow/LD_Clumping.ipynb\n",
    "clumping_sbatch=../output/$(date +\"%Y-%m-%d\")_T2D_ldclumping.sbatch\n",
    "## LD clumping variables\n",
    "# For sumtastsFiles if more than one provide each path\n",
    "bfile_ref=/gpfs/gibbs/pi/dewan/data/UKBiobank/results/LD_clumping/UKB_Caucasians_phenotypeindepqc120319_updated020720removedwithdrawnindiv.1210.ref_geno.bed\n",
    "# Changes dependending upon which traits are analyzed\n",
    "# In this case T2D and INT-WHR\n",
    "sumstatsFiles=\"/gpfs/gibbs/pi/dewan/data/UKBiobank/results/FastGWA_results/results_imputed_data/T2D/diabetes_casesbyICD10andselfreport_controlswithoutautoiummune_030720_T2D.fastGWA.snp_stats.gz \\\n",
    "              /gpfs/gibbs/pi/dewan/data/UKBiobank/results/BOLTLMM_results/results_imputed_data/INT-WHR/ukb_imp_v3.UKB_caucasians_BMIwaisthip_AsthmaAndT2D_INT-WHR_withagesex_042020.BoltLMM.snp_stats.all_chr.gz\"\n",
    "ld_sample_size=1210\n",
    "clump_field=P\n",
    "clump_p1=5e-08\n",
    "clump_p2=1\n",
    "clump_r2=0.2\n",
    "clump_kb=2000\n",
    "clump_annotate=BP\n",
    "numThreads=20\n",
    "clump_job_size=1\n",
    "# Region extraction directories\n",
    "extract_dir=/gpfs/gibbs/pi/dewan/data/UKBiobank/results/region_extraction/T2D\n",
    "extract_sos=~/project/bioworkflows/GWAS/Region_Extraction.ipynb\n",
    "extract_sbatch=../output/$(date +\"%Y-%m-%d\")_T2D-region.sbatch\n",
    "## Region extraction variables\n",
    "region_file=/gpfs/gibbs/pi/dewan/data/UKBiobank/results/LD_clumping/asthma_INT-WHR_T2D/*.clumped_region\n",
    "geno_path=/gpfs/gibbs/pi/dewan/data/UKBiobank/results/UKBB_bgenfilepath.txt\n",
    "sumstats_path=/gpfs/gibbs/pi/dewan/data/UKBiobank/results/FastGWA_results/results_imputed_data/T2D/diabetes_casesbyICD10andselfreport_controlswithoutautoiummune_030720_T2D.fastGWA.snp_stats.gz\n",
    "extract_job_size=10"
   ]
  },
  {
   "cell_type": "markdown",
   "metadata": {
    "kernel": "SoS"
   },
   "source": [
    "## BoltLMM job"
   ]
  },
  {
   "cell_type": "code",
   "execution_count": null,
   "metadata": {
    "kernel": "SoS"
   },
   "outputs": [],
   "source": [
    "lmm_args=\"\"\"boltlmm\n",
    "    --cwd $lmm_dir_bolt \n",
    "    --bfile $bfile \n",
    "    --sampleFile $sampleFile\n",
    "    --bgenFile $bgenFile \n",
    "    --phenoFile $phenoFile \n",
    "    --formatFile $formatFile_bolt \n",
    "    --covarFile $covarFile \n",
    "    --LDscoresFile $LDscoresFile \n",
    "    --geneticMapFile $geneticMapFile \n",
    "    --phenoCol $phenoCol \n",
    "    --covarCol $covarCol \n",
    "    --covarMaxLevels $covarMaxLevels \n",
    "    --qCovarCol $qCovarCol \n",
    "    --numThreads $numThreads \n",
    "    --bgenMinMAF $bgenMinMAF \n",
    "    --bgenMinINFO $bgenMinINFO \n",
    "    --job_size $lmm_job_size\n",
    "    --ylim $ylim\n",
    "    --container_lmm $container_lmm\n",
    "    --container_marp $container_marp\n",
    "\"\"\"\n",
    "\n",
    "sos run ~/project/UKBB_GWAS_dev/admin/Get_Job_Script.ipynb farnam \\\n",
    "    --template-file $tpl_file \\\n",
    "    --workflow-file $lmm_sos \\\n",
    "    --to-script $lmm_sbatch_bolt \\\n",
    "    --args \"$lmm_args\""
   ]
  },
  {
   "cell_type": "markdown",
   "metadata": {
    "kernel": "SoS"
   },
   "source": [
    "## FastGWA job"
   ]
  },
  {
   "cell_type": "code",
   "execution_count": null,
   "metadata": {
    "kernel": "SoS"
   },
   "outputs": [],
   "source": [
    "lmm_args=\"\"\"fastGWA\n",
    "    --cwd $lmm_dir_fastgwa \n",
    "    --bfile $bfile \n",
    "    --sampleFile $sampleFile\n",
    "    --bgenFile $bgenFile \n",
    "    --phenoFile $phenoFile \n",
    "    --formatFile $formatFile_fastgwa \n",
    "    --covarFile $covarFile \n",
    "    --LDscoresFile $LDscoresFile \n",
    "    --geneticMapFile $geneticMapFile \n",
    "    --phenoCol $phenoCol \n",
    "    --covarCol $covarCol \n",
    "    --covarMaxLevels $covarMaxLevels \n",
    "    --qCovarCol $qCovarCol \n",
    "    --numThreads $numThreads \n",
    "    --bgenMinMAF $bgenMinMAF \n",
    "    --bgenMinINFO $bgenMinINFO \n",
    "    --job_size $lmm_job_size\n",
    "    --ylim $ylim\n",
    "    --container_lmm $container_lmm\n",
    "    --container_marp $container_marp\n",
    "\"\"\"\n",
    "\n",
    "sos run ../workflow/Get_Job_Script.ipynb farnam \\\n",
    "    --template-file $tpl_file \\\n",
    "    --workflow-file $lmm_sos \\\n",
    "    --to-script $lmm_sbatch_fastgwa \\\n",
    "    --args \"$lmm_args\"\n"
   ]
  },
  {
   "cell_type": "markdown",
   "metadata": {
    "kernel": "SoS"
   },
   "source": [
    "## SAIGE job"
   ]
  },
  {
   "cell_type": "code",
   "execution_count": null,
   "metadata": {
    "kernel": "SoS"
   },
   "outputs": [],
   "source": [
    "lmm_args=\"\"\"SAIGE\n",
    "    --cwd $lmm_dir_saige \n",
    "    --bfile $bfile \n",
    "    --sampleFile $sampleFile\n",
    "    --bgenFile $bgenFile \n",
    "    --phenoFile $phenoFile \n",
    "    --formatFile $formatFile_saige \n",
    "    --covarFile $covarFile \n",
    "    --LDscoresFile $LDscoresFile \n",
    "    --geneticMapFile $geneticMapFile \n",
    "    --phenoCol $phenoCol \n",
    "    --covarCol $covarCol \n",
    "    --covarMaxLevels $covarMaxLevels \n",
    "    --qCovarCol $qCovarCol \n",
    "    --numThreads $numThreads \n",
    "    --bgenMinMAF $bgenMinMAF \n",
    "    --bgenMinINFO $bgenMinINFO \n",
    "    --bgenMinMAC $bgenMinMAC\n",
    "    --trait_type $trait_type\n",
    "    --loco $loco\n",
    "    --sampleCol $sampleCol\n",
    "    --job_size $lmm_job_size\n",
    "    --ylim $ylim\n",
    "    --container_lmm $container_lmm\n",
    "    --container_marp $container_marp\n",
    "\"\"\"\n",
    "\n",
    "sos run ../workflow/Get_Job_Script.ipynb farnam \\\n",
    "    --template-file $tpl_file \\\n",
    "    --workflow-file $lmm_sos \\\n",
    "    --to-script $lmm_sbatch_saige \\\n",
    "    --args \"$lmm_args\""
   ]
  },
  {
   "cell_type": "markdown",
   "metadata": {
    "kernel": "SoS"
   },
   "source": [
    "## LD clumping job"
   ]
  },
  {
   "cell_type": "code",
   "execution_count": null,
   "metadata": {
    "kernel": "SoS"
   },
   "outputs": [],
   "source": [
    "clumping_args=\"\"\"default \n",
    "    --cwd $clumping_dir \n",
    "    --bfile_ref $bfile_ref \n",
    "    --bgenFile $bgenFile\n",
    "    --sampleFile $sampleFile \n",
    "    --sumstatsFiles $sumstatsFiles \n",
    "    --unrelated_samples $unrelated_samples \n",
    "    --ld_sample_size $ld_sample_size \n",
    "    --clump_field $clump_field\n",
    "    --clump_p1 $clump_p1 \n",
    "    --clump_p2 $clump_p2 \n",
    "    --clump_r2 $clump_r2 \n",
    "    --clump_kb $clump_kb \n",
    "    --clump_annotate $clump_annotate \n",
    "    --numThreads $numThreads \n",
    "    --job_size $clump_job_size\n",
    "\"\"\"\n",
    "\n",
    "sos run ~/project/bioworkflows/admin/Get_Job_Script.ipynb farnam \\\n",
    "    --template-file $tpl_file \\\n",
    "    --workflow-file $clumping_sos \\\n",
    "    --to-script $clumping_sbatch \\\n",
    "    --args \"$clumping_args\""
   ]
  },
  {
   "cell_type": "markdown",
   "metadata": {
    "kernel": "SoS"
   },
   "source": [
    "## Region extraction job"
   ]
  },
  {
   "cell_type": "code",
   "execution_count": 4,
   "metadata": {
    "kernel": "SoS"
   },
   "outputs": [
    {
     "name": "stdout",
     "output_type": "stream",
     "text": [
      "INFO: Running \u001b[32mdewan\u001b[0m: Configuration for Yale `pi_dewan` partition cluster\n",
      "INFO: \u001b[32mdewan\u001b[0m is \u001b[32mcompleted\u001b[0m.\n",
      "INFO: \u001b[32mdewan\u001b[0m output:   \u001b[32m../output/2021-05-03_T2D-region.sbatch\u001b[0m\n",
      "INFO: Workflow dewan (ID=wf6e25133daf5176d) is executed successfully with 1 completed step.\n",
      "\n"
     ]
    }
   ],
   "source": [
    "extract_args=\"\"\"default\n",
    "    --cwd $extract_dir\n",
    "    --region-file $region_file\n",
    "    --pheno-path $phenoFile\n",
    "    --geno-path $geno_path\n",
    "    --bgen-sample-path $sampleFile\n",
    "    --sumstats-path $sumstats_path\n",
    "    --format-config-path $formatFile_fastgwa\n",
    "    --unrelated-samples $unrelated_samples\n",
    "    --job-size $extract_job_size\n",
    "\"\"\"\n",
    "\n",
    "sos run ~/project/bioworkflows/admin/Get_Job_Script.ipynb dewan \\\n",
    "    --template-file $tpl_file \\\n",
    "    --workflow-file $extract_sos \\\n",
    "    --to-script $extract_sbatch \\\n",
    "    --args \"$extract_args\""
   ]
  },
  {
   "cell_type": "markdown",
   "metadata": {},
   "source": [
    "## Hudson Plots"
   ]
  },
  {
   "cell_type": "markdown",
   "metadata": {},
   "source": [
    "### T2D vs INT-BMI"
   ]
  },
  {
   "cell_type": "code",
   "execution_count": null,
   "metadata": {},
   "outputs": [],
   "source": [
    "tpl_file=../farnam.yml\n",
    "hudson_sos=~/project/bioworkflows/GWAS/Hudson_plot.ipynb\n",
    "hudson_dir=/gpfs/gibbs/pi/dewan/data/UKBiobank/results/hudson_plots/pleiotropy/T2D_INT-BMI\n",
    "hudson_sbatch=../output/$(date +\"%Y-%m-%d\")_T2D_vs_INT-BMI_hudson.sbatch\n",
    "sumstats_1=/gpfs/gibbs/pi/dewan/data/UKBiobank/results/FastGWA_results/results_imputed_data/T2D_091120/diabetes_casesbyICD10andselfreport_controlswithoutautoiummune_030720_T2D.fastGWA.snp_stats.gz\n",
    "sumstats_2=/gpfs/gibbs/pi/dewan/data/UKBiobank/results/BOLTLMM_results/results_imputed_data/INT-BMI/UKB_caucasians_BMIwaisthip_AsthmaAndT2D_INT-BMI_withagesex_041720_rankNorm_BMI.boltlmm.snp_stats.gz\n",
    "toptitle=\"T2D_fastGWA\"\n",
    "bottomtitle=\"INT-BMI_boltlmm\"\n",
    "highlight_p_top=0\n",
    "highlight_p_bottom=0\n",
    "pval_filter=5e-06\n",
    "job_size=1\n",
    "container_lmm=/gpfs/gibbs/pi/dewan/data/UKBiobank/lmm.sif\n",
    "#highlight_snp=\n",
    "annotate_snp=0\n",
    "phenocol1='T2D'\n",
    "phenocol2='INT-BMI'\n",
    "\n",
    "hudson_args=\"\"\"hudson\n",
    "    --cwd $hudson_dir\n",
    "    --sumstats_1 $sumstats_1\n",
    "    --sumstats_2 $sumstats_2\n",
    "    --toptitle $toptitle\n",
    "    --bottomtitle $bottomtitle\n",
    "    --job_size $job_size\n",
    "    --highlight_p_top $highlight_p_top\n",
    "    --highlight_p_bottom $highlight_p_bottom\n",
    "    --pval_filter $pval_filter\n",
    "    --annotate_snp $annotate_snp\n",
    "    --phenocol1 $phenocol1\n",
    "    --phenocol2 $phenocol2\n",
    "    --container_lmm $container_lmm\n",
    "\"\"\"\n",
    "sos run ~/project/bioworkflows/admin/Get_Job_Script.ipynb farnam \\\n",
    "    --template-file $tpl_file \\\n",
    "    --workflow-file $hudson_sos \\\n",
    "    --to-script $hudson_sbatch \\\n",
    "    --args \"$hudson_args\""
   ]
  },
  {
   "cell_type": "markdown",
   "metadata": {},
   "source": [
    "### T2D vs INT-WHR"
   ]
  },
  {
   "cell_type": "code",
   "execution_count": null,
   "metadata": {},
   "outputs": [],
   "source": [
    "tpl_file=../farnam.yml\n",
    "hudson_sos=~/project/bioworkflows/GWAS/Hudson_plot.ipynb\n",
    "hudson_dir=/gpfs/gibbs/pi/dewan/data/UKBiobank/results/hudson_plots/pleiotropy/T2D_INT-WHR\n",
    "hudson_sbatch=../output/$(date +\"%Y-%m-%d\")_T2D_vs_INT-WHR_hudson.sbatch\n",
    "sumstats_1=/gpfs/gibbs/pi/dewan/data/UKBiobank/results/FastGWA_results/results_imputed_data/T2D_091120/diabetes_casesbyICD10andselfreport_controlswithoutautoiummune_030720_T2D.fastGWA.snp_stats.gz\n",
    "sumstats_2=/gpfs/gibbs/pi/dewan/data/UKBiobank/results/BOLTLMM_results/results_imputed_data/INT-WHR/UKB_caucasians_BMIwaisthip_AsthmaAndT2D_INT-WHR_withagesex_042020_rankNorm_WHR.boltlmm.snp_stats.gz\n",
    "toptitle=\"T2D_fastGWA\"\n",
    "bottomtitle=\"INT-WHR_boltlmm\"\n",
    "highlight_p_top=0\n",
    "highlight_p_bottom=0\n",
    "pval_filter=5e-06\n",
    "job_size=1\n",
    "container_lmm=/gpfs/gibbs/pi/dewan/data/UKBiobank/lmm.sif\n",
    "#highlight_snp=\n",
    "annotate_snp=0\n",
    "phenocol1='T2D'\n",
    "phenocol2='INT-WHR'\n",
    "\n",
    "hudson_args=\"\"\"hudson\n",
    "    --cwd $hudson_dir\n",
    "    --sumstats_1 $sumstats_1\n",
    "    --sumstats_2 $sumstats_2\n",
    "    --toptitle $toptitle\n",
    "    --bottomtitle $bottomtitle\n",
    "    --job_size $job_size\n",
    "    --highlight_p_top $highlight_p_top\n",
    "    --highlight_p_bottom $highlight_p_bottom\n",
    "    --pval_filter $pval_filter\n",
    "    --annotate_snp $annotate_snp\n",
    "    --phenocol1 $phenocol1\n",
    "    --phenocol2 $phenocol2\n",
    "    --container_lmm $container_lmm\n",
    "\"\"\"\n",
    "sos run ~/project/bioworkflows/admin/Get_Job_Script.ipynb farnam \\\n",
    "    --template-file $tpl_file \\\n",
    "    --workflow-file $hudson_sos \\\n",
    "    --to-script $hudson_sbatch \\\n",
    "    --args \"$hudson_args\""
   ]
  },
  {
   "cell_type": "markdown",
   "metadata": {},
   "source": [
    "### T2D vs INT-WAIST"
   ]
  },
  {
   "cell_type": "code",
   "execution_count": null,
   "metadata": {},
   "outputs": [],
   "source": [
    "tpl_file=../farnam.yml\n",
    "hudson_sos=~/project/bioworkflows/GWAS/Hudson_plot.ipynb\n",
    "hudson_dir=/gpfs/gibbs/pi/dewan/data/UKBiobank/results/hudson_plots/pleiotropy/T2D_INT-WAIST\n",
    "hudson_sbatch=../output/$(date +\"%Y-%m-%d\")_T2D_vs_INT-WAIST_hudson.sbatch\n",
    "sumstats_1=/gpfs/gibbs/pi/dewan/data/UKBiobank/results/FastGWA_results/results_imputed_data/T2D_091120/diabetes_casesbyICD10andselfreport_controlswithoutautoiummune_030720_T2D.fastGWA.snp_stats.gz\n",
    "sumstats_2=/gpfs/gibbs/pi/dewan/data/UKBiobank/results/BOLTLMM_results/results_imputed_data/INT-WAIST/UKB_caucasians_BMIwaisthip_AsthmaAndT2D_INT-WAIST_withagesex_042020_rankNorm_WAIST.boltlmm.snp_stats.gz\n",
    "toptitle=\"T2D_fastGWA\"\n",
    "bottomtitle=\"INT-WAIST_boltlmm\"\n",
    "highlight_p_top=0\n",
    "highlight_p_bottom=0\n",
    "pval_filter=5e-06\n",
    "job_size=1\n",
    "container_lmm=/gpfs/gibbs/pi/dewan/data/UKBiobank/lmm.sif\n",
    "#highlight_snp=\n",
    "annotate_snp=0\n",
    "phenocol1='T2D'\n",
    "phenocol2='INT-WAIST'\n",
    "\n",
    "hudson_args=\"\"\"hudson\n",
    "    --cwd $hudson_dir\n",
    "    --sumstats_1 $sumstats_1\n",
    "    --sumstats_2 $sumstats_2\n",
    "    --toptitle $toptitle\n",
    "    --bottomtitle $bottomtitle\n",
    "    --job_size $job_size\n",
    "    --highlight_p_top $highlight_p_top\n",
    "    --highlight_p_bottom $highlight_p_bottom\n",
    "    --pval_filter $pval_filter\n",
    "    --annotate_snp $annotate_snp\n",
    "    --phenocol1 $phenocol1\n",
    "    --phenocol2 $phenocol2\n",
    "    --container_lmm $container_lmm\n",
    "\"\"\"\n",
    "sos run ~/project/bioworkflows/admin/Get_Job_Script.ipynb farnam \\\n",
    "    --template-file $tpl_file \\\n",
    "    --workflow-file $hudson_sos \\\n",
    "    --to-script $hudson_sbatch \\\n",
    "    --args \"$hudson_args\""
   ]
  },
  {
   "cell_type": "markdown",
   "metadata": {},
   "source": [
    "# 08/22/22 - Burden test for T2D"
   ]
  },
  {
   "cell_type": "markdown",
   "metadata": {},
   "source": [
    "## White European extended"
   ]
  },
  {
   "cell_type": "code",
   "execution_count": 4,
   "metadata": {},
   "outputs": [
    {
     "name": "stdout",
     "output_type": "stream",
     "text": [
      "INFO: Running \u001b[32mcsg\u001b[0m: Configuration for Columbia csg partition cluster\n",
      "INFO: \u001b[32mcsg\u001b[0m is \u001b[32mcompleted\u001b[0m.\n",
      "INFO: \u001b[32mcsg\u001b[0m output:   \u001b[32m/home/dmc2245/UKBiobank/results_pleiotropy/REGENIE_results/results_burden_exome/082222_T2D_extwhite/T2D_200k_exomes-regenie-burden_2022-08-22.sbatch\u001b[0m\n",
      "INFO: Workflow csg (ID=w457b9b9624f4983d) is executed successfully with 1 completed step.\n"
     ]
    }
   ],
   "source": [
    "lmm_dir_regenie=~/UKBiobank/results_pleiotropy/REGENIE_results/results_burden_exome/082222_T2D_extwhite\n",
    "lmm_sbatch_regenie=~/UKBiobank/results_pleiotropy/REGENIE_results/results_burden_exome/082222_T2D_extwhite/T2D_200k_exomes-regenie-burden_$(date +\"%Y-%m-%d\").sbatch\n",
    "phenoFile=~/UKBiobank/phenotype_files/pleiotropy/pheno_covs_t2d_white_euro\n",
    "covarFile=~/UKBiobank/phenotype_files/pleiotropy/pheno_covs_t2d_white_euro\n",
    "phenoCol=T2D\n",
    "covarCol=SEX\n",
    "qCovarCol='AGE PC1 PC2 PC3 PC4 PC5 PC6 PC7 PC8 PC9 PC10'\n",
    "genoFile=`echo ~/UKBiobank/data/exome_files/project_VCF/072721_run/plink/ukb23156_c{1..22}.merged.filtered.bed`\n",
    "bfile=~/UKBiobank/genotype_files_processed/010622_exp_white_finalqc/cache/*.bed\n",
    "anno_file=~/UKBiobank/results_pleiotropy/REGENIE_results/results_burden_exome/102121_burden_files/ukb23155_chr1_chr22_091321.hg38.hg38_multianno.renamedcols.csv.anno_file\n",
    "set_list=~/UKBiobank/results_pleiotropy/REGENIE_results/results_burden_exome/102121_burden_files/ukb23155_chr1_chr22_091321.hg38.hg38_multianno.renamedcols.csv.set_list_file\n",
    "mask_file=~/UKBiobank/results_pleiotropy/REGENIE_results/results_burden_exome/102121_burden_files/ukb23155_chr1_chr22_091321.hg38.hg38_multianno.renamedcols.csv.mask_file\n",
    "aaf_file=~/UKBiobank/results_pleiotropy/REGENIE_results/results_burden_exome/102121_burden_files/ukb23155_chr1_chr22_091321.hg38.hg38_multianno.renamedcols.csv.aff_file\n",
    "build_mask=max\n",
    "aaf_bins='0.005 0.01'\n",
    "tpl_file=~/project/bioworkflows/admin/csg.yml\n",
    "lmm_sos=~/project/bioworkflows/GWAS/LMM.ipynb\n",
    "container_marp=~/containers/marp.sif\n",
    "container_lmm=~/containers/lmm.sif \n",
    "lmm_job_size=1\n",
    "ylim=20\n",
    "k=10\n",
    "reverse_log_p=True\n",
    "numThreads=20\n",
    "formatFile_regenie=~/project/UKBB_GWAS_dev/data/regenie_template.yml\n",
    "bsize=1000\n",
    "## Trait leave empty for qt traits\n",
    "trait=bt\n",
    "minMAC=1\n",
    "snpannofile=~/UKBiobank/results/ukb23155_200Kexomes_annovar/2021_10_12_hg38_exome/ukb23155_chr1_chr22_091321.hg38.hg38_multianno.renamedcols.csv.gz\n",
    "\n",
    "lmm_args=\"\"\"regenie_burden\n",
    "    --cwd $lmm_dir_regenie \n",
    "    --bfile $bfile \n",
    "    --genoFile $genoFile\n",
    "    --phenoFile $phenoFile \n",
    "    --formatFile $formatFile_regenie \n",
    "    --phenoCol $phenoCol\n",
    "    --covarCol $covarCol  \n",
    "    --qCovarCol $qCovarCol\n",
    "    --bsize $bsize\n",
    "    --trait $trait\n",
    "    --anno_file $anno_file\n",
    "    --set_list $set_list\n",
    "    --mask_file $mask_file\n",
    "    --aaf_file $aaf_file\n",
    "    --aaf_bins $aaf_bins\n",
    "    --build_mask $build_mask\n",
    "    --job_size $lmm_job_size\n",
    "    --ylim $ylim\n",
    "    --k $k\n",
    "    --reverse_log_p $reverse_log_p\n",
    "    --numThreads $numThreads\n",
    "    --minMAC $minMAC\n",
    "    --snpannofile $snpannofile\n",
    "    --container_lmm $container_lmm\n",
    "    --container_marp $container_marp\n",
    "\"\"\"\n",
    "\n",
    "sos run ~/project/UKBB_GWAS_dev/admin/Get_Job_Script.ipynb csg \\\n",
    "    --template-file $tpl_file \\\n",
    "    --workflow-file $lmm_sos \\\n",
    "    --to-script $lmm_sbatch_regenie \\\n",
    "    --args \"$lmm_args\""
   ]
  },
  {
   "cell_type": "markdown",
   "metadata": {},
   "source": [
    "## Asian"
   ]
  },
  {
   "cell_type": "code",
   "execution_count": 5,
   "metadata": {},
   "outputs": [
    {
     "name": "stdout",
     "output_type": "stream",
     "text": [
      "INFO: Running \u001b[32mcsg\u001b[0m: Configuration for Columbia csg partition cluster\n",
      "INFO: \u001b[32mcsg\u001b[0m is \u001b[32mcompleted\u001b[0m.\n",
      "INFO: \u001b[32mcsg\u001b[0m output:   \u001b[32m/home/dmc2245/UKBiobank/results_pleiotropy/REGENIE_results/results_burden_exome/082222_T2D_asian/T2D_200k_exomes-regenie-burden_asian2022-08-22.sbatch\u001b[0m\n",
      "INFO: Workflow csg (ID=w066ac1a56b6201ed) is executed successfully with 1 completed step.\n"
     ]
    }
   ],
   "source": [
    "lmm_dir_regenie=~/UKBiobank/results_pleiotropy/REGENIE_results/results_burden_exome/082222_T2D_asian\n",
    "lmm_sbatch_regenie=~/UKBiobank/results_pleiotropy/REGENIE_results/results_burden_exome/082222_T2D_asian/T2D_200k_exomes-regenie-burden_asian$(date +\"%Y-%m-%d\").sbatch\n",
    "phenoFile=~/UKBiobank/phenotype_files/pleiotropy/pheno_covs_t2d_asian\n",
    "covarFile=~/UKBiobank/phenotype_files/pleiotropy/pheno_covs_t2d_asian\n",
    "phenoCol=T2D\n",
    "covarCol=SEX\n",
    "qCovarCol='AGE PC1 PC2 PC3 PC4 PC5 PC6 PC7 PC8 PC9 PC10' \n",
    "genoFile=`echo ~/UKBiobank/data/exome_files/project_VCF/072721_run/plink/ukb23156_c{1..22}.merged.filtered.bed`\n",
    "bfile=~/UKBiobank/genotype_files_processed/021722_asian_finalqc_10157samples_444076variants/cache/*.bed\n",
    "anno_file=~/UKBiobank/results_pleiotropy/REGENIE_results/results_burden_exome/102121_burden_files/ukb23155_chr1_chr22_091321.hg38.hg38_multianno.renamedcols.csv.anno_file\n",
    "set_list=~/UKBiobank/results_pleiotropy/REGENIE_results/results_burden_exome/102121_burden_files/ukb23155_chr1_chr22_091321.hg38.hg38_multianno.renamedcols.csv.set_list_file\n",
    "mask_file=~/UKBiobank/results_pleiotropy/REGENIE_results/results_burden_exome/102121_burden_files/ukb23155_chr1_chr22_091321.hg38.hg38_multianno.renamedcols.csv.mask_file\n",
    "aaf_file=~/UKBiobank/results_pleiotropy/REGENIE_results/results_burden_exome/102121_burden_files/ukb23155_chr1_chr22_091321.hg38.hg38_multianno.renamedcols.csv.aff_file\n",
    "build_mask=max\n",
    "aaf_bins='0.005 0.01'\n",
    "tpl_file=~/project/bioworkflows/admin/csg.yml\n",
    "lmm_sos=~/project/bioworkflows/GWAS/LMM.ipynb\n",
    "container_marp=~/containers/marp.sif\n",
    "container_lmm=~/containers/lmm.sif \n",
    "lmm_job_size=1\n",
    "ylim=0\n",
    "k=10\n",
    "reverse_log_p=True\n",
    "numThreads=20\n",
    "formatFile_regenie=~/project/UKBB_GWAS_dev/data/regenie_template.yml\n",
    "bsize=1000\n",
    "## Trait leave empty for qt traits\n",
    "trait=bt\n",
    "minMAC=1\n",
    "snpannofile=~/UKBiobank/results/ukb23155_200Kexomes_annovar/2021_10_12_hg38_exome/ukb23155_chr1_chr22_091321.hg38.hg38_multianno.renamedcols.csv.gz\n",
    "\n",
    "lmm_args=\"\"\"regenie_burden\n",
    "    --cwd $lmm_dir_regenie \n",
    "    --bfile $bfile \n",
    "    --genoFile $genoFile\n",
    "    --phenoFile $phenoFile \n",
    "    --formatFile $formatFile_regenie \n",
    "    --phenoCol $phenoCol\n",
    "    --covarCol $covarCol  \n",
    "    --qCovarCol $qCovarCol\n",
    "    --bsize $bsize\n",
    "    --trait $trait\n",
    "    --anno_file $anno_file\n",
    "    --set_list $set_list\n",
    "    --mask_file $mask_file\n",
    "    --aaf_file $aaf_file\n",
    "    --aaf_bins $aaf_bins\n",
    "    --build_mask $build_mask\n",
    "    --job_size $lmm_job_size\n",
    "    --ylim $ylim\n",
    "    --k $k\n",
    "    --reverse_log_p $reverse_log_p\n",
    "    --numThreads $numThreads\n",
    "    --minMAC $minMAC\n",
    "    --snpannofile $snpannofile\n",
    "    --container_lmm $container_lmm\n",
    "    --container_marp $container_marp\n",
    "\"\"\"\n",
    "\n",
    "sos run ~/project/UKBB_GWAS_dev/admin/Get_Job_Script.ipynb csg \\\n",
    "    --template-file $tpl_file \\\n",
    "    --workflow-file $lmm_sos \\\n",
    "    --to-script $lmm_sbatch_regenie \\\n",
    "    --args \"$lmm_args\""
   ]
  },
  {
   "cell_type": "markdown",
   "metadata": {},
   "source": [
    "## African"
   ]
  },
  {
   "cell_type": "code",
   "execution_count": 6,
   "metadata": {},
   "outputs": [
    {
     "name": "stdout",
     "output_type": "stream",
     "text": [
      "INFO: Running \u001b[32mcsg\u001b[0m: Configuration for Columbia csg partition cluster\n",
      "INFO: \u001b[32mcsg\u001b[0m is \u001b[32mcompleted\u001b[0m.\n",
      "INFO: \u001b[32mcsg\u001b[0m output:   \u001b[32m/home/dmc2245/UKBiobank/results_pleiotropy/REGENIE_results/results_burden_exome/08222_T2D_african/T2D_200k_exomes-regenie-burden_african_2022-08-22.sbatch\u001b[0m\n",
      "INFO: Workflow csg (ID=wc4ef86ff0f6ea370) is executed successfully with 1 completed step.\n"
     ]
    }
   ],
   "source": [
    "lmm_dir_regenie=~/UKBiobank/results_pleiotropy/REGENIE_results/results_burden_exome/082222_T2D_african\n",
    "lmm_sbatch_regenie=~/UKBiobank/results_pleiotropy/REGENIE_results/results_burden_exome/082222_T2D_african/T2D_200k_exomes-regenie-burden_african_$(date +\"%Y-%m-%d\").sbatch\n",
    "phenoFile=~/UKBiobank/phenotype_files/pleiotropy/pheno_covs_t2d_african\n",
    "covarFile=~/UKBiobank/phenotype_files/pleiotropy/pheno_covs_t2d_african\n",
    "phenoCol=T2D\n",
    "covarCol=SEX\n",
    "qCovarCol='AGE PC1 PC2 PC3 PC4 PC5 PC6 PC7 PC8 PC9 PC10'\n",
    "genoFile=`echo ~/UKBiobank/data/exome_files/project_VCF/072721_run/plink/ukb23156_c{1..22}.merged.filtered.bed`\n",
    "bfile=~/UKBiobank/genotype_files_processed/021722_african_finalqc_8591samples_351690variants/cache/*.bed\n",
    "anno_file=~/UKBiobank/results_pleiotropy/REGENIE_results/results_burden_exome/102121_burden_files/ukb23155_chr1_chr22_091321.hg38.hg38_multianno.renamedcols.csv.anno_file\n",
    "set_list=~/UKBiobank/results_pleiotropy/REGENIE_results/results_burden_exome/102121_burden_files/ukb23155_chr1_chr22_091321.hg38.hg38_multianno.renamedcols.csv.set_list_file\n",
    "mask_file=~/UKBiobank/results_pleiotropy/REGENIE_results/results_burden_exome/102121_burden_files/ukb23155_chr1_chr22_091321.hg38.hg38_multianno.renamedcols.csv.mask_file\n",
    "aaf_file=~/UKBiobank/results_pleiotropy/REGENIE_results/results_burden_exome/102121_burden_files/ukb23155_chr1_chr22_091321.hg38.hg38_multianno.renamedcols.csv.aff_file\n",
    "build_mask=max\n",
    "aaf_bins='0.005 0.01'\n",
    "tpl_file=~/project/bioworkflows/admin/csg.yml\n",
    "lmm_sos=~/project/bioworkflows/GWAS/LMM.ipynb\n",
    "container_marp=~/containers/marp.sif\n",
    "container_lmm=~/containers/lmm.sif \n",
    "lmm_job_size=1\n",
    "ylim=0\n",
    "k=10\n",
    "reverse_log_p=True\n",
    "numThreads=20\n",
    "formatFile_regenie=~/project/UKBB_GWAS_dev/data/regenie_template.yml\n",
    "bsize=1000\n",
    "## Trait leave empty for qt traits\n",
    "trait=bt\n",
    "minMAC=1\n",
    "snpannofile=~/UKBiobank/results/ukb23155_200Kexomes_annovar/2021_10_12_hg38_exome/ukb23155_chr1_chr22_091321.hg38.hg38_multianno.renamedcols.csv.gz\n",
    "\n",
    "lmm_args=\"\"\"regenie_burden\n",
    "    --cwd $lmm_dir_regenie \n",
    "    --bfile $bfile \n",
    "    --genoFile $genoFile\n",
    "    --phenoFile $phenoFile \n",
    "    --formatFile $formatFile_regenie \n",
    "    --phenoCol $phenoCol\n",
    "    --covarCol $covarCol  \n",
    "    --qCovarCol $qCovarCol\n",
    "    --bsize $bsize\n",
    "    --trait $trait\n",
    "    --anno_file $anno_file\n",
    "    --set_list $set_list\n",
    "    --mask_file $mask_file\n",
    "    --aaf_file $aaf_file\n",
    "    --aaf_bins $aaf_bins\n",
    "    --build_mask $build_mask\n",
    "    --job_size $lmm_job_size\n",
    "    --ylim $ylim\n",
    "    --k $k\n",
    "    --reverse_log_p $reverse_log_p\n",
    "    --numThreads $numThreads\n",
    "    --minMAC $minMAC\n",
    "    --snpannofile $snpannofile\n",
    "    --container_lmm $container_lmm\n",
    "    --container_marp $container_marp\n",
    "\"\"\"\n",
    "\n",
    "sos run ~/project/UKBB_GWAS_dev/admin/Get_Job_Script.ipynb csg \\\n",
    "    --template-file $tpl_file \\\n",
    "    --workflow-file $lmm_sos \\\n",
    "    --to-script $lmm_sbatch_regenie \\\n",
    "    --args \"$lmm_args\""
   ]
  },
  {
   "cell_type": "markdown",
   "metadata": {},
   "source": [
    "# 08/22/22 - Exome analysis T2D Single variant analysis "
   ]
  },
  {
   "cell_type": "markdown",
   "metadata": {},
   "source": [
    "## White European extended"
   ]
  },
  {
   "cell_type": "code",
   "execution_count": 14,
   "metadata": {},
   "outputs": [
    {
     "name": "stdout",
     "output_type": "stream",
     "text": [
      "INFO: Running \u001b[32mcsg\u001b[0m: Configuration for Columbia csg partition cluster\n",
      "INFO: \u001b[32mcsg\u001b[0m is \u001b[32mcompleted\u001b[0m.\n",
      "INFO: \u001b[32mcsg\u001b[0m output:   \u001b[32m/home/dmc2245/UKBiobank/results_pleiotropy/REGENIE_results/results_exome_data/082222_T2D_extwhite/T2D_200k_exomes-regenie_extwhite_2022-08-22.sbatch\u001b[0m\n",
      "INFO: Workflow csg (ID=w13150adf623ac7ba) is executed successfully with 1 completed step.\n"
     ]
    }
   ],
   "source": [
    "## All filters set to 0 because the version of the bfile has already been QC'ed previously and there is not need to do it here\n",
    "maf_filter=0\n",
    "geno_filter=0\n",
    "hwe_filter=0\n",
    "mind_filter=0\n",
    "lmm_dir_regenie=~/UKBiobank/results_pleiotropy/REGENIE_results/results_exome_data/082222_T2D_extwhite/\n",
    "lmm_sbatch_regenie=~/UKBiobank/results_pleiotropy/REGENIE_results/results_exome_data/082222_T2D_extwhite/T2D_200k_exomes-regenie_extwhite_$(date +\"%Y-%m-%d\").sbatch\n",
    "phenoFile=~/UKBiobank/phenotype_files/pleiotropy/pheno_covs_t2d_white_euro\n",
    "covarFile=~/UKBiobank/phenotype_files/pleiotropy/pheno_covs_t2d_white_euro\n",
    "phenoCol=T2D\n",
    "covarCol=SEX\n",
    "qCovarCol='AGE PC1 PC2 PC3 PC4 PC5 PC6 PC7 PC8 PC9 PC10' \n",
    "# Use the QC'ed exome files variant and sample missingness < 10%\n",
    "genoFile=`echo ~/UKBiobank/data/exome_files/project_VCF/072721_run/plink/ukb23156_c{1..22}.merged.filtered.bed`\n",
    "#Use the original bed files that passed QC using Megan's parameters geno=0.01, mind=0.1, maf=0.01, hwe=5e-08\n",
    "bfile=~/UKBiobank/genotype_files_processed/010622_exp_white_finalqc/cache/*.bed\n",
    "tpl_file=~/project/bioworkflows/admin/csg.yml\n",
    "lmm_sos=~/project/bioworkflows/GWAS/LMM.ipynb\n",
    "container_marp=~/containers/marp.sif\n",
    "container_lmm=~/containers/lmm.sif \n",
    "lmm_job_size=1\n",
    "ylim=0\n",
    "reverse_log_p=True\n",
    "numThreads=20\n",
    "formatFile_regenie=~/project/UKBB_GWAS_dev/data/regenie_template.yml\n",
    "bsize=1000\n",
    "trait=bt\n",
    "## Using this MAC the default in regenie analysis\n",
    "minMAC=5\n",
    "label_annotate='SNP'\n",
    "lowmem_dir=~/scratch60/predictions\n",
    "\n",
    "lmm_args=\"\"\"regenie\n",
    "    --cwd $lmm_dir_regenie \n",
    "    --bfile $bfile \n",
    "    --genoFile $genoFile\n",
    "    --phenoFile $phenoFile \n",
    "    --formatFile $formatFile_regenie \n",
    "    --phenoCol $phenoCol\n",
    "    --covarCol $covarCol  \n",
    "    --qCovarCol $qCovarCol\n",
    "    --bsize $bsize\n",
    "    --lowmem_dir $lowmem_dir\n",
    "    --trait $trait \n",
    "    --maf_filter $maf_filter\n",
    "    --geno_filter $geno_filter\n",
    "    --hwe_filter $hwe_filter\n",
    "    --mind_filter $mind_filter\n",
    "    --minMAC $minMAC\n",
    "    --job_size $lmm_job_size\n",
    "    --ylim $ylim\n",
    "    --reverse_log_p $reverse_log_p\n",
    "    --label_annotate $label_annotate\n",
    "    --numThreads $numThreads\n",
    "    --container_lmm $container_lmm\n",
    "    --container_marp $container_marp\n",
    "\"\"\"\n",
    "\n",
    "sos run ~/project/UKBB_GWAS_dev/admin/Get_Job_Script.ipynb csg\\\n",
    "    --template-file $tpl_file \\\n",
    "    --workflow-file $lmm_sos \\\n",
    "    --to-script $lmm_sbatch_regenie \\\n",
    "    --args \"$lmm_args\" "
   ]
  },
  {
   "cell_type": "markdown",
   "metadata": {},
   "source": [
    "## Asian"
   ]
  },
  {
   "cell_type": "code",
   "execution_count": 15,
   "metadata": {},
   "outputs": [
    {
     "name": "stdout",
     "output_type": "stream",
     "text": [
      "INFO: Running \u001b[32mcsg\u001b[0m: Configuration for Columbia csg partition cluster\n",
      "INFO: \u001b[32mcsg\u001b[0m is \u001b[32mcompleted\u001b[0m.\n",
      "INFO: \u001b[32mcsg\u001b[0m output:   \u001b[32m/home/dmc2245/UKBiobank/results_pleiotropy/REGENIE_results/results_exome_data/082222_T2D_asian/T2D_200k_exomes-regenie_asian_2022-08-22.sbatch\u001b[0m\n",
      "INFO: Workflow csg (ID=w5fb01359ff79f6f9) is executed successfully with 1 completed step.\n"
     ]
    }
   ],
   "source": [
    "## All filters set to 0 because the version of the bfile has already been QC'ed previously and there is not need to do it here\n",
    "maf_filter=0\n",
    "geno_filter=0\n",
    "hwe_filter=0\n",
    "mind_filter=0\n",
    "lmm_dir_regenie=~/UKBiobank/results_pleiotropy/REGENIE_results/results_exome_data/082222_T2D_asian/\n",
    "lmm_sbatch_regenie=~/UKBiobank/results_pleiotropy/REGENIE_results/results_exome_data/082222_T2D_asian/T2D_200k_exomes-regenie_asian_$(date +\"%Y-%m-%d\").sbatch\n",
    "phenoFile=~/UKBiobank/phenotype_files/pleiotropy/pheno_covs_t2d_asian\n",
    "phenoCol=T2D\n",
    "covarCol=SEX\n",
    "qCovarCol=`echo AGE PC{1..10}`\n",
    "# Use the QC'ed exome files variant and sample missingness < 10%\n",
    "genoFile=`echo ~/UKBiobank/data/exome_files/project_VCF/072721_run/plink/ukb23156_c{1..22}.merged.filtered.bed`\n",
    "#Use the original bed files that passed QC using Megan's parameters geno=0.01, mind=0.1, maf=0.01, hwe=5e-08\n",
    "bfile=~/UKBiobank/genotype_files_processed/021722_asian_finalqc_10157samples_444076variants/cache/UKB_genotypedatadownloaded083019.021722_asian_finalqc_10157samples_444076variants.filtered.extracted.bed\n",
    "tpl_file=~/project/bioworkflows/admin/csg.yml\n",
    "lmm_sos=~/project/bioworkflows/GWAS/LMM.ipynb\n",
    "container_marp=~/containers/marp.sif\n",
    "container_lmm=~/containers/lmm.sif \n",
    "lmm_job_size=1\n",
    "ylim=0\n",
    "reverse_log_p=True\n",
    "numThreads=20\n",
    "formatFile_regenie=~/project/UKBB_GWAS_dev/data/regenie_template.yml\n",
    "bsize=1000\n",
    "trait=bt\n",
    "## Using this MAC the default in regenie analysis\n",
    "minMAC=5\n",
    "label_annotate='SNP'\n",
    "lowmem_dir=~/scratch60/predictions\n",
    "## After doing the annotation you can create the annotatted manhatan plot\n",
    "#anno_file=$lmm_exome_dir_regenie/090921_f3393_hearing_aid_200K/091321_annotation/*.formatted.csv\n",
    "#label_annotate=Gene\n",
    "#known_vars=\n",
    "#new_vars=\n",
    "# If --annotate then it will add the label to the plot otherwise --no-annotate\n",
    "\n",
    "lmm_args=\"\"\"regenie\n",
    "    --cwd $lmm_dir_regenie \n",
    "    --bfile $bfile \n",
    "    --genoFile $genoFile\n",
    "    --phenoFile $phenoFile \n",
    "    --formatFile $formatFile_regenie \n",
    "    --phenoCol $phenoCol\n",
    "    --covarCol $covarCol  \n",
    "    --qCovarCol $qCovarCol\n",
    "    --bsize $bsize\n",
    "    --lowmem_dir $lowmem_dir\n",
    "    --trait $trait \n",
    "    --maf_filter $maf_filter\n",
    "    --geno_filter $geno_filter\n",
    "    --hwe_filter $hwe_filter\n",
    "    --mind_filter $mind_filter\n",
    "    --minMAC $minMAC\n",
    "    --job_size $lmm_job_size\n",
    "    --ylim $ylim\n",
    "    --reverse_log_p $reverse_log_p\n",
    "    --label_annotate $label_annotate\n",
    "    --numThreads $numThreads\n",
    "    --container_lmm $container_lmm\n",
    "    --container_marp $container_marp\n",
    "\"\"\"\n",
    "\n",
    "sos run ~/project/UKBB_GWAS_dev/admin/Get_Job_Script.ipynb csg\\\n",
    "    --template-file $tpl_file \\\n",
    "    --workflow-file $lmm_sos \\\n",
    "    --to-script $lmm_sbatch_regenie \\\n",
    "    --args \"$lmm_args\" "
   ]
  },
  {
   "cell_type": "markdown",
   "metadata": {},
   "source": [
    "## African "
   ]
  },
  {
   "cell_type": "code",
   "execution_count": 16,
   "metadata": {},
   "outputs": [
    {
     "name": "stdout",
     "output_type": "stream",
     "text": [
      "INFO: Running \u001b[32mcsg\u001b[0m: Configuration for Columbia csg partition cluster\n",
      "INFO: \u001b[32mcsg\u001b[0m is \u001b[32mcompleted\u001b[0m.\n",
      "INFO: \u001b[32mcsg\u001b[0m output:   \u001b[32m/home/dmc2245/UKBiobank/results_pleiotropy/REGENIE_results/results_exome_data/082222_T2D_african/T2D_200k_exomes-regenie_african_2022-08-22.sbatch\u001b[0m\n",
      "INFO: Workflow csg (ID=w7bbf6cdb501e6971) is executed successfully with 1 completed step.\n"
     ]
    }
   ],
   "source": [
    "## All filters set to 0 because the version of the bfile has already been QC'ed previously and there is not need to do it here\n",
    "maf_filter=0\n",
    "geno_filter=0\n",
    "hwe_filter=0\n",
    "mind_filter=0\n",
    "lmm_dir_regenie=~/UKBiobank/results_pleiotropy/REGENIE_results/results_exome_data/082222_T2D_african/\n",
    "lmm_sbatch_regenie=~/UKBiobank/results_pleiotropy/REGENIE_results/results_exome_data/082222_T2D_african/T2D_200k_exomes-regenie_african_$(date +\"%Y-%m-%d\").sbatch\n",
    "phenoFile=~/UKBiobank/phenotype_files/pleiotropy/pheno_covs_t2d_african\n",
    "phenoCol=T2D\n",
    "covarCol=SEX\n",
    "qCovarCol=`echo AGE PC{1..10}`\n",
    "# Use the QC'ed exome files variant and sample missingness < 10%\n",
    "genoFile=`echo ~/UKBiobank/data/exome_files/project_VCF/072721_run/plink/ukb23156_c{1..22}.merged.filtered.bed`\n",
    "#Use the original bed files that passed QC using Megan's parameters geno=0.01, mind=0.1, maf=0.01, hwe=5e-08\n",
    "bfile=~/UKBiobank/genotype_files_processed/021722_african_finalqc_8591samples_351690variants/cache/*.bed\n",
    "tpl_file=~/project/bioworkflows/admin/csg.yml\n",
    "lmm_sos=~/project/bioworkflows/GWAS/LMM.ipynb\n",
    "container_marp=~/containers/marp.sif\n",
    "container_lmm=~/containers/lmm.sif \n",
    "lmm_job_size=1\n",
    "ylim=0\n",
    "reverse_log_p=True\n",
    "numThreads=20\n",
    "formatFile_regenie=~/project/UKBB_GWAS_dev/data/regenie_template.yml\n",
    "bsize=1000\n",
    "trait=bt\n",
    "## Using this MAC the default in regenie analysis\n",
    "minMAC=5\n",
    "label_annotate='SNP'\n",
    "lowmem_dir=~/scratch60/predictions\n",
    "\n",
    "## After doing the annotation you can create the annotatted manhatan plot\n",
    "#anno_file=$lmm_exome_dir_regenie/090921_f3393_hearing_aid_200K/091321_annotation/*.formatted.csv\n",
    "#label_annotate=Gene\n",
    "#known_vars=\n",
    "#new_vars=\n",
    "# If --annotate then it will add the label to the plot otherwise --no-annotate\n",
    "\n",
    "lmm_args=\"\"\"regenie\n",
    "    --cwd $lmm_dir_regenie \n",
    "    --bfile $bfile \n",
    "    --genoFile $genoFile\n",
    "    --phenoFile $phenoFile \n",
    "    --formatFile $formatFile_regenie \n",
    "    --phenoCol $phenoCol\n",
    "    --covarCol $covarCol  \n",
    "    --qCovarCol $qCovarCol\n",
    "    --bsize $bsize\n",
    "    --lowmem_dir $lowmem_dir\n",
    "    --trait $trait \n",
    "    --bgenMinMAF $bgenMinMAF \n",
    "    --bgenMinINFO $bgenMinINFO\n",
    "    --maf_filter $maf_filter\n",
    "    --geno_filter $geno_filter\n",
    "    --hwe_filter $hwe_filter\n",
    "    --mind_filter $mind_filter\n",
    "    --minMAC $minMAC\n",
    "    --job_size $lmm_job_size\n",
    "    --ylim $ylim\n",
    "    --reverse_log_p $reverse_log_p\n",
    "    --label_annotate $label_annotate\n",
    "    --numThreads $numThreads\n",
    "    --container_lmm $container_lmm\n",
    "    --container_marp $container_marp\n",
    "\"\"\"\n",
    "\n",
    "sos run ~/project/UKBB_GWAS_dev/admin/Get_Job_Script.ipynb csg\\\n",
    "    --template-file $tpl_file \\\n",
    "    --workflow-file $lmm_sos \\\n",
    "    --to-script $lmm_sbatch_regenie \\\n",
    "    --args \"$lmm_args\" "
   ]
  },
  {
   "cell_type": "markdown",
   "metadata": {},
   "source": [
    "# 04/12/23 Burden Test for T2D (using hg38 genotype array file)"
   ]
  },
  {
   "cell_type": "markdown",
   "metadata": {},
   "source": [
    "## White European"
   ]
  },
  {
   "cell_type": "code",
   "execution_count": 1,
   "metadata": {},
   "outputs": [
    {
     "name": "stdout",
     "output_type": "stream",
     "text": [
      "INFO: Running \u001b[32mcsg2\u001b[0m: Configuration for Columbia csg partition cluster\n",
      "INFO: \u001b[32mcsg2\u001b[0m is \u001b[32mcompleted\u001b[0m.\n",
      "INFO: \u001b[32mcsg2\u001b[0m output:   \u001b[32m/home/dmc2245/UKBiobank/results_pleiotropy/REGENIE_results/results_burden_exome/041223_T2D_whiteEUR-hg38/T2D_EUR_200kWES-regenie-burden_2023-04-12.sbatch\u001b[0m\n",
      "INFO: Workflow csg2 (ID=w0ced246e9a398263) is executed successfully with 1 completed step.\n"
     ]
    }
   ],
   "source": [
    "lmm_dir_regenie=~/UKBiobank/results_pleiotropy/REGENIE_results/results_burden_exome/041223_T2D_whiteEUR-hg38\n",
    "lmm_sbatch_regenie=~/UKBiobank/results_pleiotropy/REGENIE_results/results_burden_exome/041223_T2D_whiteEUR-hg38/T2D_EUR_200kWES-regenie-burden_$(date +\"%Y-%m-%d\").sbatch\n",
    "phenoFile=~/UKBiobank/phenotype_files/pleiotropy/UKB_exome_white_T2D_pcs_rerun\n",
    "covarFile=~/UKBiobank/phenotype_files/pleiotropy/UKB_exome_white_T2D_pcs_rerun\n",
    "phenoCol=T2D\n",
    "covarCol=SEX\n",
    "qCovarCol=`echo AGE T2D_PC{1..10}`\n",
    "genoFile=`echo ~/UKBiobank/data/exome_files/project_VCF/072721_run/plink/ukb23156_c{1..22}.merged.filtered.bed`\n",
    "bfile=~/UKBiobank/genotype_files_processed/012323_white_european_460649ind_hg38/final_files_no_outliers/*.bed\n",
    "anno_file=~/UKBiobank/results_pleiotropy/REGENIE_results/results_burden_exome/102121_burden_files/ukb23155_chr1_chr22_091321.hg38.hg38_multianno.renamedcols.csv.anno_file\n",
    "set_list=~/UKBiobank/results_pleiotropy/REGENIE_results/results_burden_exome/102121_burden_files/ukb23155_chr1_chr22_091321.hg38.hg38_multianno.renamedcols.csv.set_list_file\n",
    "mask_file=~/UKBiobank/results_pleiotropy/REGENIE_results/results_burden_exome/102121_burden_files/ukb23155_chr1_chr22_091321.hg38.hg38_multianno.renamedcols.csv.mask_file\n",
    "aaf_file=~/UKBiobank/results_pleiotropy/REGENIE_results/results_burden_exome/102121_burden_files/ukb23155_chr1_chr22_091321.hg38.hg38_multianno.renamedcols.csv.aff_file\n",
    "build_mask=max\n",
    "aaf_bins='0.005 0.01'\n",
    "tpl_file=~/project/bioworkflows/admin/csg2.yml\n",
    "lmm_sos=~/project/bioworkflows/GWAS/LMM.ipynb\n",
    "container_marp=~/containers/marp.sif\n",
    "container_lmm=~/containers/lmm.sif \n",
    "lmm_job_size=1\n",
    "ylim=0\n",
    "k=10\n",
    "reverse_log_p=True\n",
    "numThreads=20\n",
    "formatFile_regenie=~/project/UKBB_GWAS_dev/data/regenie_template.yml\n",
    "bsize=1000\n",
    "## Trait leave empty for qt traits\n",
    "trait=bt\n",
    "minMAC=1\n",
    "snpannofile=~/UKBiobank/results/ukb23155_200Kexomes_annovar/2021_10_12_hg38_exome/ukb23155_chr1_chr22_091321.hg38.hg38_multianno.renamedcols.csv.gz\n",
    "\n",
    "lmm_args=\"\"\"regenie_burden\n",
    "    --cwd $lmm_dir_regenie \n",
    "    --bfile $bfile \n",
    "    --genoFile $genoFile\n",
    "    --phenoFile $phenoFile \n",
    "    --formatFile $formatFile_regenie \n",
    "    --phenoCol $phenoCol\n",
    "    --covarCol $covarCol  \n",
    "    --qCovarCol $qCovarCol\n",
    "    --bsize $bsize\n",
    "    --trait $trait\n",
    "    --anno_file $anno_file\n",
    "    --set_list $set_list\n",
    "    --mask_file $mask_file\n",
    "    --aaf_file $aaf_file\n",
    "    --aaf_bins $aaf_bins\n",
    "    --build_mask $build_mask\n",
    "    --job_size $lmm_job_size\n",
    "    --ylim $ylim\n",
    "    --k $k\n",
    "    --reverse_log_p $reverse_log_p\n",
    "    --numThreads $numThreads\n",
    "    --minMAC $minMAC\n",
    "    --snpannofile $snpannofile\n",
    "    --container_lmm $container_lmm\n",
    "    --container_marp $container_marp\n",
    "\"\"\"\n",
    "\n",
    "sos run ~/project/UKBB_GWAS_dev/admin/Get_Job_Script.ipynb csg2 \\\n",
    "    --template-file $tpl_file \\\n",
    "    --workflow-file $lmm_sos \\\n",
    "    --to-script $lmm_sbatch_regenie \\\n",
    "    --args \"$lmm_args\""
   ]
  },
  {
   "cell_type": "markdown",
   "metadata": {},
   "source": [
    "## Asian"
   ]
  },
  {
   "cell_type": "code",
   "execution_count": 2,
   "metadata": {},
   "outputs": [
    {
     "name": "stdout",
     "output_type": "stream",
     "text": [
      "INFO: Running \u001b[32mcsg2\u001b[0m: Configuration for Columbia csg partition cluster\n",
      "INFO: \u001b[32mcsg2\u001b[0m is \u001b[32mcompleted\u001b[0m.\n",
      "INFO: \u001b[32mcsg2\u001b[0m output:   \u001b[32m/home/dmc2245/UKBiobank/results_pleiotropy/REGENIE_results/results_burden_exome/041223_T2D_asian-hg38/T2D_ASN_200kWES-regenie-burden_2023-04-12.sbatch\u001b[0m\n",
      "INFO: Workflow csg2 (ID=wb08e7801c8f49c8f) is executed successfully with 1 completed step.\n"
     ]
    }
   ],
   "source": [
    "lmm_dir_regenie=~/UKBiobank/results_pleiotropy/REGENIE_results/results_burden_exome/041223_T2D_asian-hg38\n",
    "lmm_sbatch_regenie=~/UKBiobank/results_pleiotropy/REGENIE_results/results_burden_exome/041223_T2D_asian-hg38/T2D_ASN_200kWES-regenie-burden_$(date +\"%Y-%m-%d\").sbatch\n",
    "phenoFile=~/UKBiobank/phenotype_files/pleiotropy/UKB_exome_asian_T2D_pcs_rerun\n",
    "covarFile=~/UKBiobank/phenotype_files/pleiotropy/UKB_exome_asian_T2D_pcs_rerun\n",
    "phenoCol=T2D\n",
    "covarCol=SEX\n",
    "qCovarCol=`echo AGE T2D_PC{1..10}`\n",
    "genoFile=`echo ~/UKBiobank/data/exome_files/project_VCF/072721_run/plink/ukb23156_c{1..22}.merged.filtered.bed`\n",
    "bfile=~/UKBiobank/genotype_files_processed/012323_asian_10189ind_hg38/final_files_no_outliers/*.bed\n",
    "anno_file=~/UKBiobank/results_pleiotropy/REGENIE_results/results_burden_exome/102121_burden_files/ukb23155_chr1_chr22_091321.hg38.hg38_multianno.renamedcols.csv.anno_file\n",
    "set_list=~/UKBiobank/results_pleiotropy/REGENIE_results/results_burden_exome/102121_burden_files/ukb23155_chr1_chr22_091321.hg38.hg38_multianno.renamedcols.csv.set_list_file\n",
    "mask_file=~/UKBiobank/results_pleiotropy/REGENIE_results/results_burden_exome/102121_burden_files/ukb23155_chr1_chr22_091321.hg38.hg38_multianno.renamedcols.csv.mask_file\n",
    "aaf_file=~/UKBiobank/results_pleiotropy/REGENIE_results/results_burden_exome/102121_burden_files/ukb23155_chr1_chr22_091321.hg38.hg38_multianno.renamedcols.csv.aff_file\n",
    "build_mask=max\n",
    "aaf_bins='0.005 0.01'\n",
    "tpl_file=~/project/bioworkflows/admin/csg2.yml\n",
    "lmm_sos=~/project/bioworkflows/GWAS/LMM.ipynb\n",
    "container_marp=~/containers/marp.sif\n",
    "container_lmm=~/containers/lmm.sif \n",
    "lmm_job_size=1\n",
    "ylim=0\n",
    "k=10\n",
    "reverse_log_p=True\n",
    "numThreads=20\n",
    "formatFile_regenie=~/project/UKBB_GWAS_dev/data/regenie_template.yml\n",
    "bsize=1000\n",
    "## Trait leave empty for qt traits\n",
    "trait=bt\n",
    "minMAC=1\n",
    "snpannofile=~/UKBiobank/results/ukb23155_200Kexomes_annovar/2021_10_12_hg38_exome/ukb23155_chr1_chr22_091321.hg38.hg38_multianno.renamedcols.csv.gz\n",
    "\n",
    "lmm_args=\"\"\"regenie_burden\n",
    "    --cwd $lmm_dir_regenie \n",
    "    --bfile $bfile \n",
    "    --genoFile $genoFile\n",
    "    --phenoFile $phenoFile \n",
    "    --formatFile $formatFile_regenie \n",
    "    --phenoCol $phenoCol\n",
    "    --covarCol $covarCol  \n",
    "    --qCovarCol $qCovarCol\n",
    "    --bsize $bsize\n",
    "    --trait $trait\n",
    "    --anno_file $anno_file\n",
    "    --set_list $set_list\n",
    "    --mask_file $mask_file\n",
    "    --aaf_file $aaf_file\n",
    "    --aaf_bins $aaf_bins\n",
    "    --build_mask $build_mask\n",
    "    --job_size $lmm_job_size\n",
    "    --ylim $ylim\n",
    "    --k $k\n",
    "    --reverse_log_p $reverse_log_p\n",
    "    --numThreads $numThreads\n",
    "    --minMAC $minMAC\n",
    "    --snpannofile $snpannofile\n",
    "    --container_lmm $container_lmm\n",
    "    --container_marp $container_marp\n",
    "\"\"\"\n",
    "\n",
    "sos run ~/project/UKBB_GWAS_dev/admin/Get_Job_Script.ipynb csg2 \\\n",
    "    --template-file $tpl_file \\\n",
    "    --workflow-file $lmm_sos \\\n",
    "    --to-script $lmm_sbatch_regenie \\\n",
    "    --args \"$lmm_args\""
   ]
  },
  {
   "cell_type": "markdown",
   "metadata": {},
   "source": [
    "## African"
   ]
  },
  {
   "cell_type": "code",
   "execution_count": 1,
   "metadata": {},
   "outputs": [
    {
     "name": "stdout",
     "output_type": "stream",
     "text": [
      "INFO: Running \u001b[32mcsg2\u001b[0m: Configuration for Columbia csg partition cluster\n",
      "INFO: \u001b[32mcsg2\u001b[0m is \u001b[32mcompleted\u001b[0m.\n",
      "INFO: \u001b[32mcsg2\u001b[0m output:   \u001b[32m/home/dmc2245/UKBiobank/results_pleiotropy/REGENIE_results/results_burden_exome/041223_T2D_african-hg38/T2D_AFR_200kWES-regenie-burden_2023-04-14.sbatch\u001b[0m\n",
      "INFO: Workflow csg2 (ID=w4bd241896fec852f) is executed successfully with 1 completed step.\n"
     ]
    }
   ],
   "source": [
    "lmm_dir_regenie=~/UKBiobank/results_pleiotropy/REGENIE_results/results_burden_exome/041223_T2D_african-hg38\n",
    "lmm_sbatch_regenie=~/UKBiobank/results_pleiotropy/REGENIE_results/results_burden_exome/041223_T2D_african-hg38/T2D_AFR_200kWES-regenie-burden_$(date +\"%Y-%m-%d\").sbatch\n",
    "phenoFile=~/UKBiobank/phenotype_files/pleiotropy/UKB_exome_african_T2D_pcs_rerun\n",
    "covarFile=~/UKBiobank/phenotype_files/pleiotropy/UKB_exome_african_T2D_pcs_rerun\n",
    "phenoCol=T2D\n",
    "covarCol=SEX\n",
    "qCovarCol=`echo AGE T2D_PC{1..10}`\n",
    "genoFile=`echo ~/UKBiobank/data/exome_files/project_VCF/072721_run/plink/ukb23156_c{1..22}.merged.filtered.bed`\n",
    "bfile=~/UKBiobank/genotype_files_processed/012323_african_9096ind_hg38/final_files_no_outliers/*.bed\n",
    "anno_file=~/UKBiobank/results_pleiotropy/REGENIE_results/results_burden_exome/102121_burden_files/ukb23155_chr1_chr22_091321.hg38.hg38_multianno.renamedcols.csv.anno_file\n",
    "set_list=~/UKBiobank/results_pleiotropy/REGENIE_results/results_burden_exome/102121_burden_files/ukb23155_chr1_chr22_091321.hg38.hg38_multianno.renamedcols.csv.set_list_file\n",
    "mask_file=~/UKBiobank/results_pleiotropy/REGENIE_results/results_burden_exome/102121_burden_files/ukb23155_chr1_chr22_091321.hg38.hg38_multianno.renamedcols.csv.mask_file\n",
    "aaf_file=~/UKBiobank/results_pleiotropy/REGENIE_results/results_burden_exome/102121_burden_files/ukb23155_chr1_chr22_091321.hg38.hg38_multianno.renamedcols.csv.aff_file\n",
    "build_mask=max\n",
    "aaf_bins='0.005 0.01'\n",
    "tpl_file=~/project/bioworkflows/admin/csg2.yml\n",
    "lmm_sos=~/project/bioworkflows/GWAS/LMM.ipynb\n",
    "container_marp=~/containers/marp.sif\n",
    "container_lmm=~/containers/lmm.sif \n",
    "lmm_job_size=1\n",
    "ylim=0\n",
    "k=10\n",
    "reverse_log_p=True\n",
    "numThreads=20\n",
    "formatFile_regenie=~/project/UKBB_GWAS_dev/data/regenie_template.yml\n",
    "bsize=1000\n",
    "## Trait leave empty for qt traits\n",
    "trait=bt\n",
    "minMAC=1\n",
    "snpannofile=~/UKBiobank/results/ukb23155_200Kexomes_annovar/2021_10_12_hg38_exome/ukb23155_chr1_chr22_091321.hg38.hg38_multianno.renamedcols.csv.gz\n",
    "\n",
    "lmm_args=\"\"\"regenie_burden\n",
    "    --cwd $lmm_dir_regenie \n",
    "    --bfile $bfile \n",
    "    --genoFile $genoFile\n",
    "    --phenoFile $phenoFile \n",
    "    --formatFile $formatFile_regenie \n",
    "    --phenoCol $phenoCol\n",
    "    --covarCol $covarCol  \n",
    "    --qCovarCol $qCovarCol\n",
    "    --bsize $bsize\n",
    "    --trait $trait\n",
    "    --anno_file $anno_file\n",
    "    --set_list $set_list\n",
    "    --mask_file $mask_file\n",
    "    --aaf_file $aaf_file\n",
    "    --aaf_bins $aaf_bins\n",
    "    --build_mask $build_mask\n",
    "    --job_size $lmm_job_size\n",
    "    --ylim $ylim\n",
    "    --k $k\n",
    "    --reverse_log_p $reverse_log_p\n",
    "    --numThreads $numThreads\n",
    "    --minMAC $minMAC\n",
    "    --snpannofile $snpannofile\n",
    "    --container_lmm $container_lmm\n",
    "    --container_marp $container_marp\n",
    "\"\"\"\n",
    "\n",
    "sos run ~/project/UKBB_GWAS_dev/admin/Get_Job_Script.ipynb csg2 \\\n",
    "    --template-file $tpl_file \\\n",
    "    --workflow-file $lmm_sos \\\n",
    "    --to-script $lmm_sbatch_regenie \\\n",
    "    --args \"$lmm_args\""
   ]
  },
  {
   "cell_type": "markdown",
   "metadata": {},
   "source": [
    "# 04/12/23 - Exome analysis T2D Single variant analysis (using hg38 genotype array file)"
   ]
  },
  {
   "cell_type": "markdown",
   "metadata": {},
   "source": [
    "## White European"
   ]
  },
  {
   "cell_type": "code",
   "execution_count": 7,
   "metadata": {},
   "outputs": [
    {
     "name": "stdout",
     "output_type": "stream",
     "text": [
      "INFO: Running \u001b[32mcsg2\u001b[0m: Configuration for Columbia csg partition cluster\n",
      "INFO: \u001b[32mcsg2\u001b[0m is \u001b[32mcompleted\u001b[0m.\n",
      "INFO: \u001b[32mcsg2\u001b[0m output:   \u001b[32m/home/dmc2245/UKBiobank/results_pleiotropy/REGENIE_results/results_exome_data/041223_T2D_whiteEUR/T2D_whiteEUR_200kWES-regenie_2023-04-12.sbatch\u001b[0m\n",
      "INFO: Workflow csg2 (ID=wa5e41c0ed85e8631) is executed successfully with 1 completed step.\n"
     ]
    }
   ],
   "source": [
    "## All filters set to 0 because the version of the bfile has already been QC'ed previously and there is not need to do it here\n",
    "maf_filter=0\n",
    "geno_filter=0\n",
    "hwe_filter=0\n",
    "mind_filter=0\n",
    "lmm_dir_regenie=~/UKBiobank/results_pleiotropy/REGENIE_results/results_exome_data/041223_T2D_whiteEUR/\n",
    "lmm_sbatch_regenie=~/UKBiobank/results_pleiotropy/REGENIE_results/results_exome_data/041223_T2D_whiteEUR/T2D_whiteEUR_200kWES-regenie_$(date +\"%Y-%m-%d\").sbatch\n",
    "phenoFile=~/UKBiobank/phenotype_files/pleiotropy/UKB_exome_white_T2D_pcs_rerun\n",
    "covarFile=~/UKBiobank/phenotype_files/pleiotropy/UKB_exome_white_T2D_pcs_rerun\n",
    "phenoCol=T2D\n",
    "covarCol=SEX\n",
    "qCovarCol=`echo AGE T2D_PC{1..10}`\n",
    "# Use the QC'ed exome files variant and sample missingness < 10%\n",
    "genoFile=`echo ~/UKBiobank/data/exome_files/project_VCF/072721_run/plink/ukb23156_c{1..22}.merged.filtered.bed`\n",
    "#Use the original bed files that passed QC using Megan's parameters geno=0.01, mind=0.1, maf=0.01, hwe=5e-08\n",
    "bfile=~/UKBiobank/genotype_files_processed/012323_white_european_460649ind_hg38/final_files_no_outliers/*.bed\n",
    "tpl_file=~/project/bioworkflows/admin/csg2.yml\n",
    "lmm_sos=~/project/bioworkflows/GWAS/LMM.ipynb\n",
    "container_marp=~/containers/marp.sif\n",
    "container_lmm=~/containers/lmm.sif \n",
    "lmm_job_size=1\n",
    "ylim=0\n",
    "reverse_log_p=True\n",
    "numThreads=20\n",
    "formatFile_regenie=~/project/UKBB_GWAS_dev/data/regenie_template.yml\n",
    "bsize=1000\n",
    "trait=bt\n",
    "## Using this MAC the default in regenie analysis\n",
    "minMAC=5\n",
    "label_annotate='SNP'\n",
    "lowmem_dir=~/scratch60/predictions\n",
    "\n",
    "lmm_args=\"\"\"regenie\n",
    "    --cwd $lmm_dir_regenie \n",
    "    --bfile $bfile \n",
    "    --genoFile $genoFile\n",
    "    --phenoFile $phenoFile \n",
    "    --formatFile $formatFile_regenie \n",
    "    --phenoCol $phenoCol\n",
    "    --covarCol $covarCol  \n",
    "    --qCovarCol $qCovarCol\n",
    "    --bsize $bsize\n",
    "    --lowmem_dir $lowmem_dir\n",
    "    --trait $trait \n",
    "    --maf_filter $maf_filter\n",
    "    --geno_filter $geno_filter\n",
    "    --hwe_filter $hwe_filter\n",
    "    --mind_filter $mind_filter\n",
    "    --minMAC $minMAC\n",
    "    --job_size $lmm_job_size\n",
    "    --ylim $ylim\n",
    "    --reverse_log_p $reverse_log_p\n",
    "    --label_annotate $label_annotate\n",
    "    --numThreads $numThreads\n",
    "    --container_lmm $container_lmm\n",
    "    --container_marp $container_marp\n",
    "\"\"\"\n",
    "\n",
    "sos run ~/project/UKBB_GWAS_dev/admin/Get_Job_Script.ipynb csg2\\\n",
    "    --template-file $tpl_file \\\n",
    "    --workflow-file $lmm_sos \\\n",
    "    --to-script $lmm_sbatch_regenie \\\n",
    "    --args \"$lmm_args\" "
   ]
  },
  {
   "cell_type": "markdown",
   "metadata": {},
   "source": [
    "## Asian"
   ]
  },
  {
   "cell_type": "code",
   "execution_count": 8,
   "metadata": {},
   "outputs": [
    {
     "name": "stdout",
     "output_type": "stream",
     "text": [
      "INFO: Running \u001b[32mcsg\u001b[0m: Configuration for Columbia csg partition cluster\n",
      "INFO: \u001b[32mcsg\u001b[0m is \u001b[32mcompleted\u001b[0m.\n",
      "INFO: \u001b[32mcsg\u001b[0m output:   \u001b[32m/home/dmc2245/UKBiobank/results_pleiotropy/REGENIE_results/results_exome_data/041223_T2D_ASN/T2D_ASN_200kWES-regenie_2023-04-12.sbatch\u001b[0m\n",
      "INFO: Workflow csg (ID=wa76cc4d031e7da70) is executed successfully with 1 completed step.\n"
     ]
    }
   ],
   "source": [
    "## All filters set to 0 because the version of the bfile has already been QC'ed previously and there is not need to do it here\n",
    "maf_filter=0\n",
    "geno_filter=0\n",
    "hwe_filter=0\n",
    "mind_filter=0\n",
    "lmm_dir_regenie=~/UKBiobank/results_pleiotropy/REGENIE_results/results_exome_data/041223_T2D_ASN/\n",
    "lmm_sbatch_regenie=~/UKBiobank/results_pleiotropy/REGENIE_results/results_exome_data/041223_T2D_ASN/T2D_ASN_200kWES-regenie_$(date +\"%Y-%m-%d\").sbatch\n",
    "phenoFile=~/UKBiobank/phenotype_files/pleiotropy/UKB_exome_asian_T2D_pcs_rerun\n",
    "covarFile=~/UKBiobank/phenotype_files/pleiotropy/UKB_exome_asian_T2D_pcs_rerun\n",
    "phenoCol=T2D\n",
    "covarCol=SEX\n",
    "qCovarCol=`echo AGE T2D_PC{1..10}`\n",
    "# Use the QC'ed exome files variant and sample missingness < 10%\n",
    "genoFile=`echo ~/UKBiobank/data/exome_files/project_VCF/072721_run/plink/ukb23156_c{1..22}.merged.filtered.bed`\n",
    "#Use the original bed files that passed QC using Megan's parameters geno=0.01, mind=0.1, maf=0.01, hwe=5e-08\n",
    "bfile=~/UKBiobank/genotype_files_processed/012323_asian_10189ind_hg38/final_files_no_outliers/*.bed\n",
    "tpl_file=~/project/bioworkflows/admin/csg.yml\n",
    "lmm_sos=~/project/bioworkflows/GWAS/LMM.ipynb\n",
    "container_marp=~/containers/marp.sif\n",
    "container_lmm=~/containers/lmm.sif \n",
    "lmm_job_size=1\n",
    "ylim=0\n",
    "reverse_log_p=True\n",
    "numThreads=20\n",
    "formatFile_regenie=~/project/UKBB_GWAS_dev/data/regenie_template.yml\n",
    "bsize=1000\n",
    "trait=bt\n",
    "## Using this MAC the default in regenie analysis\n",
    "minMAC=5\n",
    "label_annotate='SNP'\n",
    "lowmem_dir=~/scratch60/predictions\n",
    "\n",
    "lmm_args=\"\"\"regenie\n",
    "    --cwd $lmm_dir_regenie \n",
    "    --bfile $bfile \n",
    "    --genoFile $genoFile\n",
    "    --phenoFile $phenoFile \n",
    "    --formatFile $formatFile_regenie \n",
    "    --phenoCol $phenoCol\n",
    "    --covarCol $covarCol  \n",
    "    --qCovarCol $qCovarCol\n",
    "    --bsize $bsize\n",
    "    --lowmem_dir $lowmem_dir\n",
    "    --trait $trait \n",
    "    --maf_filter $maf_filter\n",
    "    --geno_filter $geno_filter\n",
    "    --hwe_filter $hwe_filter\n",
    "    --mind_filter $mind_filter\n",
    "    --minMAC $minMAC\n",
    "    --job_size $lmm_job_size\n",
    "    --ylim $ylim\n",
    "    --reverse_log_p $reverse_log_p\n",
    "    --label_annotate $label_annotate\n",
    "    --numThreads $numThreads\n",
    "    --container_lmm $container_lmm\n",
    "    --container_marp $container_marp\n",
    "\"\"\"\n",
    "\n",
    "sos run ~/project/UKBB_GWAS_dev/admin/Get_Job_Script.ipynb csg\\\n",
    "    --template-file $tpl_file \\\n",
    "    --workflow-file $lmm_sos \\\n",
    "    --to-script $lmm_sbatch_regenie \\\n",
    "    --args \"$lmm_args\" "
   ]
  },
  {
   "cell_type": "markdown",
   "metadata": {},
   "source": [
    "## African"
   ]
  },
  {
   "cell_type": "code",
   "execution_count": 2,
   "metadata": {},
   "outputs": [
    {
     "name": "stdout",
     "output_type": "stream",
     "text": [
      "INFO: Running \u001b[32mcsg2\u001b[0m: Configuration for Columbia csg partition cluster\n",
      "INFO: \u001b[32mcsg2\u001b[0m is \u001b[32mcompleted\u001b[0m.\n",
      "INFO: \u001b[32mcsg2\u001b[0m output:   \u001b[32m/home/dmc2245/UKBiobank/results_pleiotropy/REGENIE_results/results_exome_data/041223_T2D_AFR/T2D_AFR_200kWES-regenie2023-04-12.sbatch\u001b[0m\n",
      "INFO: Workflow csg2 (ID=wa6b5e24abfaf347c) is executed successfully with 1 completed step.\n"
     ]
    }
   ],
   "source": [
    "## All filters set to 0 because the version of the bfile has already been QC'ed previously and there is not need to do it here\n",
    "maf_filter=0\n",
    "geno_filter=0\n",
    "hwe_filter=0\n",
    "mind_filter=0\n",
    "lmm_dir_regenie=~/UKBiobank/results_pleiotropy/REGENIE_results/results_exome_data/041223_T2D_AFR/\n",
    "lmm_sbatch_regenie=~/UKBiobank/results_pleiotropy/REGENIE_results/results_exome_data/041223_T2D_AFR/T2D_AFR_200kWES-regenie$(date +\"%Y-%m-%d\").sbatch\n",
    "phenoFile=~/UKBiobank/phenotype_files/pleiotropy/UKB_exome_african_T2D_pcs_rerun\n",
    "covarFile=~/UKBiobank/phenotype_files/pleiotropy/UKB_exome_african_T2D_pcs_rerun\n",
    "phenoCol=T2D\n",
    "covarCol=SEX\n",
    "qCovarCol=`echo AGE T2D_PC{1..10}`\n",
    "# Use the QC'ed exome files variant and sample missingness < 10%\n",
    "genoFile=`echo ~/UKBiobank/data/exome_files/project_VCF/072721_run/plink/ukb23156_c{1..22}.merged.filtered.bed`\n",
    "#Use the original bed files that passed QC using Megan's parameters geno=0.01, mind=0.1, maf=0.01, hwe=5e-08\n",
    "bfile=~/UKBiobank/genotype_files_processed/012323_african_9096ind_hg38/final_files_no_outliers/*.bed\n",
    "tpl_file=~/project/bioworkflows/admin/csg2.yml\n",
    "lmm_sos=~/project/bioworkflows/GWAS/LMM.ipynb\n",
    "container_marp=~/containers/marp.sif\n",
    "container_lmm=~/containers/lmm.sif \n",
    "lmm_job_size=1\n",
    "ylim=0\n",
    "reverse_log_p=True\n",
    "numThreads=20\n",
    "formatFile_regenie=~/project/UKBB_GWAS_dev/data/regenie_template.yml\n",
    "bsize=1000\n",
    "trait=bt\n",
    "## Using this MAC the default in regenie analysis\n",
    "minMAC=5\n",
    "label_annotate='SNP'\n",
    "lowmem_dir=~/scratch60/predictions\n",
    "\n",
    "lmm_args=\"\"\"regenie\n",
    "    --cwd $lmm_dir_regenie \n",
    "    --bfile $bfile \n",
    "    --genoFile $genoFile\n",
    "    --phenoFile $phenoFile \n",
    "    --formatFile $formatFile_regenie \n",
    "    --phenoCol $phenoCol\n",
    "    --covarCol $covarCol  \n",
    "    --qCovarCol $qCovarCol\n",
    "    --bsize $bsize\n",
    "    --lowmem_dir $lowmem_dir\n",
    "    --trait $trait \n",
    "    --maf_filter $maf_filter\n",
    "    --geno_filter $geno_filter\n",
    "    --hwe_filter $hwe_filter\n",
    "    --mind_filter $mind_filter\n",
    "    --minMAC $minMAC\n",
    "    --job_size $lmm_job_size\n",
    "    --ylim $ylim\n",
    "    --reverse_log_p $reverse_log_p\n",
    "    --label_annotate $label_annotate\n",
    "    --numThreads $numThreads\n",
    "    --container_lmm $container_lmm\n",
    "    --container_marp $container_marp\n",
    "\"\"\"\n",
    "\n",
    "sos run ~/project/UKBB_GWAS_dev/admin/Get_Job_Script.ipynb csg2\\\n",
    "    --template-file $tpl_file \\\n",
    "    --workflow-file $lmm_sos \\\n",
    "    --to-script $lmm_sbatch_regenie \\\n",
    "    --args \"$lmm_args\" "
   ]
  },
  {
   "cell_type": "code",
   "execution_count": null,
   "metadata": {},
   "outputs": [],
   "source": []
  }
 ],
 "metadata": {
  "kernelspec": {
   "display_name": "Bash",
   "language": "bash",
   "name": "bash"
  },
  "language_info": {
   "codemirror_mode": "shell",
   "file_extension": ".sh",
   "mimetype": "text/x-sh",
   "name": "bash"
  },
  "sos": {
   "kernels": [
    [
     "SoS",
     "sos",
     "",
     ""
    ]
   ],
   "version": "0.21.12"
  }
 },
 "nbformat": 4,
 "nbformat_minor": 4
}
