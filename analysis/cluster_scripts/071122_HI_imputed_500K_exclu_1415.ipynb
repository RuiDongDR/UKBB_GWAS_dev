{
 "cells": [
  {
   "cell_type": "markdown",
   "id": "78bd9b69-e327-4521-a228-e8c686536680",
   "metadata": {
    "kernel": "SoS",
    "tags": []
   },
   "source": [
    "# Association analysis imputed data\n",
    "\n",
    "Do the association analysis for the Hearing impairment traits with the white european individuals present in the 500K samples"
   ]
  },
  {
   "cell_type": "markdown",
   "id": "6e099273-9343-45b7-8b34-694c73d32312",
   "metadata": {
    "kernel": "SoS"
   },
   "source": [
    "## Columbia's cluster"
   ]
  },
  {
   "cell_type": "code",
   "execution_count": 1,
   "id": "a6901f24-e798-49a5-bda5-9a6b0ec2bc16",
   "metadata": {
    "kernel": "Bash",
    "tags": []
   },
   "outputs": [],
   "source": [
    "# Common variables Columbia's cluster\n",
    "UKBB_PATH=$HOME/UKBiobank\n",
    "UKBB_yale=$HOME/UKBiobank_Yale_transfer\n",
    "USER_PATH=$HOME/working\n",
    "container_lmm=$HOME/containers/lmm.sif\n",
    "container_marp=$HOME/containers/marp.sif\n",
    "container_annovar=$HOME/containers/gatk4-annovar.sif\n",
    "hearing_pheno_path=$UKBB_PATH/phenotype_files/hearing_impairment\n",
    "tpl_file=$USER_PATH/bioworkflows/admin/csg.yml\n",
    "formatFile_fastgwa=$USER_PATH/UKBB_GWAS_dev/data/fastGWA_template.yml\n",
    "formatFile_bolt=$USER_PATH/UKBB_GWAS_dev/data/boltlmm_template.yml\n",
    "formatFile_saige=$USER_PATH/UKBB_GWAS_dev/data/saige_template.yml\n",
    "formatFile_regenie=$USER_PATH/UKBB_GWAS_dev/data/regenie_template.yml"
   ]
  },
  {
   "cell_type": "markdown",
   "id": "42949368-2df4-47e1-b6e4-c5c4449f97b5",
   "metadata": {
    "kernel": "SoS"
   },
   "source": [
    "## Shared variables for workflows and results"
   ]
  },
  {
   "cell_type": "code",
   "execution_count": 2,
   "id": "df6a3352-3509-448f-a32b-86ab0ba61233",
   "metadata": {
    "kernel": "Bash",
    "tags": []
   },
   "outputs": [],
   "source": [
    "# Workflows\n",
    "lmm_sos=$USER_PATH/bioworkflows/GWAS/LMM.ipynb\n",
    "anno_sos=$USER_PATH/bioworkflows/variant-annotation/annovar.ipynb\n",
    "clumping_sos=$USER_PATH/bioworkflows/GWAS/LD_Clumping.ipynb\n",
    "extract_sos=$USER_PATH/bioworkflows/GWAS/Region_Extraction.ipynb\n",
    "snptogene_sos=$USER_PATH/UKBB_GWAS_dev/workflow/snptogene.ipynb\n",
    "\n",
    "# LMM directories for imputed data\n",
    "lmm_imp_dir_fastgwa=$UKBB_PATH/results/FastGWA_results/results_imputed_data\n",
    "lmm_imp_dir_bolt=$UKBB_PATH/results/BOLTLMM_results/results_imputed_data\n",
    "lmm_imp_dir_saige=$UKBB_PATH/results/SAIGE_results/results_imputed_data\n",
    "lmm_imp_dir_regenie=$UKBB_PATH/results/REGENIE_results/results_imputed_data\n",
    "\n",
    "# LMM directories for exome data\n",
    "lmm_exome_dir_fastgwa=$UKBB_PATH/results/FastGWA_results/results_exome_data\n",
    "lmm_exome_dir_bolt=$UKBB_PATH/results/BOLTLMM_results/results_exome_data\n",
    "lmm_exome_dir_saige=$UKBB_PATH/results/SAIGE_results/results_exome_data\n",
    "lmm_exome_dir_regenie=$UKBB_PATH/results/REGENIE_results/results_exome_data"
   ]
  },
  {
   "cell_type": "code",
   "execution_count": 3,
   "id": "26ee25f1-55af-49b6-ad67-d4c34dd80f38",
   "metadata": {
    "kernel": "Bash",
    "tags": []
   },
   "outputs": [],
   "source": [
    "## LMM variables \n",
    "## Specific to Bolt_LMM\n",
    "LDscoresFile=$UKBB_PATH/LDSCORE.1000G_EUR.tab.gz\n",
    "geneticMapFile=$UKBB_PATH/genetic_map_hg19_withX.txt.gz\n",
    "covarMaxLevels=10\n",
    "numThreads=20\n",
    "bgenMinMAF=0.001\n",
    "bgenMinINFO=0.8\n",
    "lmm_job_size=1\n",
    "ylim=0\n",
    "\n",
    "### Specific to FastGWA (depeding if you run from Yale or Columbia)\n",
    "####Yale's cluster\n",
    "grmFile=$UKBB_PATH/results/FastGWA_results/results_imputed_data/UKB_Caucasians_phenotypeindepqc120319_updated020720removedwithdrawnindiv.grm.sp\n",
    "####Columbia's cluster\n",
    "grmFile=$UKBB_yale/results/FastGWA_results/results_imputed_data/UKB_Caucasians_phenotypeindepqc120319_updated020720removedwithdrawnindiv.grm.sp\n",
    "\n",
    "### Specific to SAIGE\n",
    "bgenMinMAC=4\n",
    "trait_type=binary\n",
    "loco=TRUE\n",
    "sampleCol=IID\n",
    "\n",
    "### Specific to REGENIE\n",
    "bsize=1000\n",
    "lowmem=$HOME/scratch60/\n",
    "lowmem_dir=$HOME/scratch60/predictions\n",
    "trait=bt\n",
    "minMAC=4\n",
    "maf_filter=0\n",
    "geno_filter=0\n",
    "hwe_filter=0\n",
    "mind_filter=0\n",
    "reverse_log_p=True"
   ]
  },
  {
   "cell_type": "markdown",
   "id": "86ce8475-c2d3-49f8-af74-3f1471a60bc7",
   "metadata": {
    "kernel": "SoS"
   },
   "source": [
    "## Subset the individuals excluding samples with the code 1415 but without a sub-category code for f20002 self-report"
   ]
  },
  {
   "cell_type": "code",
   "execution_count": 2,
   "id": "848d39d3-38a8-45c1-8bb9-688412476d63",
   "metadata": {
    "kernel": "SoS"
   },
   "outputs": [
    {
     "data": {
      "text/html": [
       "<div>\n",
       "<style scoped>\n",
       "    .dataframe tbody tr th:only-of-type {\n",
       "        vertical-align: middle;\n",
       "    }\n",
       "\n",
       "    .dataframe tbody tr th {\n",
       "        vertical-align: top;\n",
       "    }\n",
       "\n",
       "    .dataframe thead th {\n",
       "        text-align: right;\n",
       "    }\n",
       "</style>\n",
       "<table border=\"1\" class=\"dataframe\">\n",
       "  <thead>\n",
       "    <tr style=\"text-align: right;\">\n",
       "      <th></th>\n",
       "      <th>0</th>\n",
       "      <th>1</th>\n",
       "    </tr>\n",
       "  </thead>\n",
       "  <tbody>\n",
       "    <tr>\n",
       "      <th>0</th>\n",
       "      <td>1000019</td>\n",
       "      <td>1000019</td>\n",
       "    </tr>\n",
       "    <tr>\n",
       "      <th>1</th>\n",
       "      <td>1000022</td>\n",
       "      <td>1000022</td>\n",
       "    </tr>\n",
       "    <tr>\n",
       "      <th>2</th>\n",
       "      <td>1000035</td>\n",
       "      <td>1000035</td>\n",
       "    </tr>\n",
       "    <tr>\n",
       "      <th>3</th>\n",
       "      <td>1000046</td>\n",
       "      <td>1000046</td>\n",
       "    </tr>\n",
       "    <tr>\n",
       "      <th>4</th>\n",
       "      <td>1000054</td>\n",
       "      <td>1000054</td>\n",
       "    </tr>\n",
       "    <tr>\n",
       "      <th>...</th>\n",
       "      <td>...</td>\n",
       "      <td>...</td>\n",
       "    </tr>\n",
       "    <tr>\n",
       "      <th>460644</th>\n",
       "      <td>6025390</td>\n",
       "      <td>6025390</td>\n",
       "    </tr>\n",
       "    <tr>\n",
       "      <th>460645</th>\n",
       "      <td>6025409</td>\n",
       "      <td>6025409</td>\n",
       "    </tr>\n",
       "    <tr>\n",
       "      <th>460646</th>\n",
       "      <td>6025411</td>\n",
       "      <td>6025411</td>\n",
       "    </tr>\n",
       "    <tr>\n",
       "      <th>460647</th>\n",
       "      <td>6025425</td>\n",
       "      <td>6025425</td>\n",
       "    </tr>\n",
       "    <tr>\n",
       "      <th>460648</th>\n",
       "      <td>6025438</td>\n",
       "      <td>6025438</td>\n",
       "    </tr>\n",
       "  </tbody>\n",
       "</table>\n",
       "<p>460649 rows × 2 columns</p>\n",
       "</div>"
      ],
      "text/plain": [
       "              0        1\n",
       "0       1000019  1000019\n",
       "1       1000022  1000022\n",
       "2       1000035  1000035\n",
       "3       1000046  1000046\n",
       "4       1000054  1000054\n",
       "...         ...      ...\n",
       "460644  6025390  6025390\n",
       "460645  6025409  6025409\n",
       "460646  6025411  6025411\n",
       "460647  6025425  6025425\n",
       "460648  6025438  6025438\n",
       "\n",
       "[460649 rows x 2 columns]"
      ]
     },
     "execution_count": 2,
     "metadata": {},
     "output_type": "execute_result"
    }
   ],
   "source": [
    "import pandas as pd\n",
    "sample500k = pd.read_csv(\"/home/gl2776/UKBiobank/phenotype_files/HI_UKBB/ukb47922_white_460649ind.keep_id\",header=None,sep=\" \")\n",
    "sample500k"
   ]
  },
  {
   "cell_type": "code",
   "execution_count": 3,
   "id": "2253890c-d45a-42e9-b841-dd5a31aefad2",
   "metadata": {
    "kernel": "SoS"
   },
   "outputs": [
    {
     "data": {
      "text/plain": [
       "[1000767, 1002847, 1004257, 1005452, 1009003]"
      ]
     },
     "execution_count": 3,
     "metadata": {},
     "output_type": "execute_result"
    }
   ],
   "source": [
    "exclusion = pd.read_csv(\"/home/gl2776/UKBiobank/phenotype_files/hearing_impairment/fulldb_500K/pleiotropy_AD_ARHI/with_1415_without_subcat.500k.sample_id.txt\",header=0,sep=\"\\t\")\n",
    "exclusion = exclusion[\"IID\"].to_list()\n",
    "exclusion[:5]"
   ]
  },
  {
   "cell_type": "code",
   "execution_count": 4,
   "id": "127ffbba-3ba0-4a38-b3f3-ad1dbcf6480a",
   "metadata": {
    "kernel": "SoS"
   },
   "outputs": [
    {
     "data": {
      "text/plain": [
       "4226"
      ]
     },
     "execution_count": 4,
     "metadata": {},
     "output_type": "execute_result"
    }
   ],
   "source": [
    "len(exclusion)"
   ]
  },
  {
   "cell_type": "code",
   "execution_count": 5,
   "id": "9c021cff-db8b-4e53-b1b8-e86c7f34ba7d",
   "metadata": {
    "kernel": "SoS"
   },
   "outputs": [
    {
     "data": {
      "text/plain": [
       "(456561, 2)"
      ]
     },
     "execution_count": 5,
     "metadata": {},
     "output_type": "execute_result"
    }
   ],
   "source": [
    "sample500k[~sample500k[0].isin(exclusion)].shape"
   ]
  },
  {
   "cell_type": "code",
   "execution_count": null,
   "id": "5ecd9977-e20a-447a-ae0e-efdfa76af8ac",
   "metadata": {},
   "outputs": [],
   "source": [
    "sample500k[~sample500k[0].isin(exclusion)].to_csv(\"/home/gl2776/UKBiobank/phenotype_files/hearing_impairment/fulldb_500K/pleiotropy_AD_ARHI/ukb47922_white_456561ind_exclu_1415.keep_id\",header=False,index=False,sep=\" \")"
   ]
  },
  {
   "cell_type": "code",
   "execution_count": 13,
   "id": "c8ccd47c-7c23-4c5d-9d6f-2aff276a117e",
   "metadata": {},
   "outputs": [
    {
     "data": {
      "text/html": [
       "<div>\n",
       "<style scoped>\n",
       "    .dataframe tbody tr th:only-of-type {\n",
       "        vertical-align: middle;\n",
       "    }\n",
       "\n",
       "    .dataframe tbody tr th {\n",
       "        vertical-align: top;\n",
       "    }\n",
       "\n",
       "    .dataframe thead th {\n",
       "        text-align: right;\n",
       "    }\n",
       "</style>\n",
       "<table border=\"1\" class=\"dataframe\">\n",
       "  <thead>\n",
       "    <tr style=\"text-align: right;\">\n",
       "      <th></th>\n",
       "      <th>FID</th>\n",
       "      <th>IID</th>\n",
       "      <th>sex</th>\n",
       "      <th>f3393</th>\n",
       "      <th>age</th>\n",
       "      <th>PC1</th>\n",
       "      <th>PC2</th>\n",
       "    </tr>\n",
       "  </thead>\n",
       "  <tbody>\n",
       "    <tr>\n",
       "      <th>0</th>\n",
       "      <td>1000112</td>\n",
       "      <td>1000112</td>\n",
       "      <td>0</td>\n",
       "      <td>1</td>\n",
       "      <td>68</td>\n",
       "      <td>0.011931</td>\n",
       "      <td>0.031198</td>\n",
       "    </tr>\n",
       "    <tr>\n",
       "      <th>1</th>\n",
       "      <td>1001067</td>\n",
       "      <td>1001067</td>\n",
       "      <td>0</td>\n",
       "      <td>1</td>\n",
       "      <td>50</td>\n",
       "      <td>0.004472</td>\n",
       "      <td>0.002904</td>\n",
       "    </tr>\n",
       "    <tr>\n",
       "      <th>2</th>\n",
       "      <td>1001384</td>\n",
       "      <td>1001384</td>\n",
       "      <td>1</td>\n",
       "      <td>1</td>\n",
       "      <td>61</td>\n",
       "      <td>0.002001</td>\n",
       "      <td>-0.001850</td>\n",
       "    </tr>\n",
       "    <tr>\n",
       "      <th>3</th>\n",
       "      <td>1001459</td>\n",
       "      <td>1001459</td>\n",
       "      <td>0</td>\n",
       "      <td>1</td>\n",
       "      <td>64</td>\n",
       "      <td>0.010770</td>\n",
       "      <td>0.022391</td>\n",
       "    </tr>\n",
       "    <tr>\n",
       "      <th>4</th>\n",
       "      <td>1002548</td>\n",
       "      <td>1002548</td>\n",
       "      <td>0</td>\n",
       "      <td>1</td>\n",
       "      <td>62</td>\n",
       "      <td>0.000226</td>\n",
       "      <td>-0.014383</td>\n",
       "    </tr>\n",
       "    <tr>\n",
       "      <th>...</th>\n",
       "      <td>...</td>\n",
       "      <td>...</td>\n",
       "      <td>...</td>\n",
       "      <td>...</td>\n",
       "      <td>...</td>\n",
       "      <td>...</td>\n",
       "      <td>...</td>\n",
       "    </tr>\n",
       "    <tr>\n",
       "      <th>251428</th>\n",
       "      <td>6025363</td>\n",
       "      <td>6025363</td>\n",
       "      <td>0</td>\n",
       "      <td>0</td>\n",
       "      <td>64</td>\n",
       "      <td>0.004982</td>\n",
       "      <td>0.006218</td>\n",
       "    </tr>\n",
       "    <tr>\n",
       "      <th>251429</th>\n",
       "      <td>6025409</td>\n",
       "      <td>6025409</td>\n",
       "      <td>1</td>\n",
       "      <td>0</td>\n",
       "      <td>66</td>\n",
       "      <td>0.002693</td>\n",
       "      <td>-0.003802</td>\n",
       "    </tr>\n",
       "    <tr>\n",
       "      <th>251430</th>\n",
       "      <td>6025411</td>\n",
       "      <td>6025411</td>\n",
       "      <td>1</td>\n",
       "      <td>0</td>\n",
       "      <td>49</td>\n",
       "      <td>0.014998</td>\n",
       "      <td>0.007031</td>\n",
       "    </tr>\n",
       "    <tr>\n",
       "      <th>251431</th>\n",
       "      <td>6025425</td>\n",
       "      <td>6025425</td>\n",
       "      <td>1</td>\n",
       "      <td>0</td>\n",
       "      <td>44</td>\n",
       "      <td>0.017568</td>\n",
       "      <td>0.020817</td>\n",
       "    </tr>\n",
       "    <tr>\n",
       "      <th>251432</th>\n",
       "      <td>6025438</td>\n",
       "      <td>6025438</td>\n",
       "      <td>0</td>\n",
       "      <td>0</td>\n",
       "      <td>55</td>\n",
       "      <td>0.004759</td>\n",
       "      <td>0.004076</td>\n",
       "    </tr>\n",
       "  </tbody>\n",
       "</table>\n",
       "<p>251433 rows × 7 columns</p>\n",
       "</div>"
      ],
      "text/plain": [
       "            FID      IID  sex  f3393  age       PC1       PC2\n",
       "0       1000112  1000112    0      1   68  0.011931  0.031198\n",
       "1       1001067  1001067    0      1   50  0.004472  0.002904\n",
       "2       1001384  1001384    1      1   61  0.002001 -0.001850\n",
       "3       1001459  1001459    0      1   64  0.010770  0.022391\n",
       "4       1002548  1002548    0      1   62  0.000226 -0.014383\n",
       "...         ...      ...  ...    ...  ...       ...       ...\n",
       "251428  6025363  6025363    0      0   64  0.004982  0.006218\n",
       "251429  6025409  6025409    1      0   66  0.002693 -0.003802\n",
       "251430  6025411  6025411    1      0   49  0.014998  0.007031\n",
       "251431  6025425  6025425    1      0   44  0.017568  0.020817\n",
       "251432  6025438  6025438    0      0   55  0.004759  0.004076\n",
       "\n",
       "[251433 rows x 7 columns]"
      ]
     },
     "execution_count": 13,
     "metadata": {},
     "output_type": "execute_result"
    }
   ],
   "source": [
    "# f3393\n",
    "file = \"/home/gl2776/UKBiobank/phenotype_files/hearing_impairment/fulldb_500K/pleiotropy_AD_ARHI/070722_UKBB_Hearing_aid_f3393_expandedwhite_14734cases_236699ctrl_500k_PC1_PC2\"\n",
    "phe = pd.read_csv(file,header=0,sep=\"\\t\")\n",
    "phe"
   ]
  },
  {
   "cell_type": "code",
   "execution_count": 14,
   "id": "9dc32549-fa47-423e-ab7c-dd9d1f8b1963",
   "metadata": {},
   "outputs": [],
   "source": [
    "phe[[\"FID\", \"IID\"]].to_csv(\"/home/gl2776/UKBiobank/phenotype_files/hearing_impairment/fulldb_500K/pleiotropy_AD_ARHI/070722_UKBB_Hearing_aid_f3393_expandedwhite_14734cases_236699ctrl_500k_PC1_PC2.keep_id\", sep='\\t', index=False, header=False)"
   ]
  },
  {
   "cell_type": "code",
   "execution_count": 15,
   "id": "382af952-706d-4b56-a262-24b07bde0067",
   "metadata": {},
   "outputs": [],
   "source": [
    "# f2247\n",
    "file = \"/home/gl2776/UKBiobank/phenotype_files/hearing_impairment/fulldb_500K/pleiotropy_AD_ARHI/070722_UKBB_Hearing_difficulty_f2247_expandedwhite_107994cases_236699ctrl_500k_PC1_PC2\"\n",
    "phe = pd.read_csv(file,header=0,sep=\"\\t\")\n",
    "phe[[\"FID\", \"IID\"]].to_csv(\"/home/gl2776/UKBiobank/phenotype_files/hearing_impairment/fulldb_500K/pleiotropy_AD_ARHI/070722_UKBB_Hearing_difficulty_f2247_expandedwhite_107994cases_236699ctrl_500k_PC1_PC2.keep_id\", sep='\\t', index=False, header=False)\n",
    "# f2257\n",
    "file = \"/home/gl2776/UKBiobank/phenotype_files/hearing_impairment/fulldb_500K/pleiotropy_AD_ARHI/070722_UKBB_Hearing_noise_f2257_expandedwhite_159033cases_236699ctrl_500k_PC1_PC2\"\n",
    "phe = pd.read_csv(file,header=0,sep=\"\\t\")\n",
    "phe[[\"FID\", \"IID\"]].to_csv(\"/home/gl2776/UKBiobank/phenotype_files/hearing_impairment/fulldb_500K/pleiotropy_AD_ARHI/070722_UKBB_Hearing_noise_f2257_expandedwhite_159033cases_236699ctrl_500k_PC1_PC2.keep_id\", sep='\\t', index=False, header=False)\n",
    "# f2247_f2257\n",
    "file = \"/home/gl2776/UKBiobank/phenotype_files/hearing_impairment/fulldb_500K/pleiotropy_AD_ARHI/070722_UKBB_Combined_f2247_f2257_expandedwhite_91092cases_236699ctrl_500k_PC1_PC2\"\n",
    "phe = pd.read_csv(file,header=0,sep=\"\\t\")\n",
    "phe[[\"FID\", \"IID\"]].to_csv(\"/home/gl2776/UKBiobank/phenotype_files/hearing_impairment/fulldb_500K/pleiotropy_AD_ARHI/070722_UKBB_Combined_f2247_f2257_expandedwhite_91092cases_236699ctrl_500k_PC1_PC2.keep_id\", sep='\\t', index=False, header=False)"
   ]
  },
  {
   "cell_type": "code",
   "execution_count": 9,
   "id": "44d62c7c-0126-4589-b9a2-baca3b3f94fd",
   "metadata": {},
   "outputs": [],
   "source": [
    "# phenopca\n",
    "import pandas as pd\n",
    "# f3393\n",
    "file = \"/home/gl2776/UKBiobank/phenotype_files/hearing_impairment/fulldb_500K/pleiotropy_AD_ARHI/070722_UKBB_Hearing_aid_f3393_expandedwhite_14734cases_236699ctrl_500k_PC1_PC2\"\n",
    "list1415 = pd.read_csv(file,header=0,sep=\"\\t\")[\"IID\"].to_list()\n",
    "file = \"/home/gl2776/UKBiobank/results/092821_PCA_results_500K/100521_UKBB_Hearing_aid_f3393_expandedwhite_15601cases_237318ctrl_500k.phenopca\"\n",
    "phe = pd.read_csv(file,header=0,sep=\"\\t\")\n",
    "phe[phe[\"IID\"].isin(list1415)].to_csv(\"/home/gl2776/UKBiobank/phenotype_files/hearing_impairment/fulldb_500K/pleiotropy_AD_ARHI/071122_UKBB_Hearing_aid_f3393_expandedwhite_14734cases_236699ctrl_500k.phenopca\", sep='\\t', index=False)"
   ]
  },
  {
   "cell_type": "code",
   "execution_count": 8,
   "id": "2728b65e-f3f1-4543-8df8-bcdda3212787",
   "metadata": {},
   "outputs": [],
   "source": [
    "# f2247\n",
    "file = \"/home/gl2776/UKBiobank/phenotype_files/hearing_impairment/fulldb_500K/pleiotropy_AD_ARHI/070722_UKBB_Hearing_difficulty_f2247_expandedwhite_107994cases_236699ctrl_500k_PC1_PC2\"\n",
    "list1415 = pd.read_csv(file,header=0,sep=\"\\t\")[\"IID\"].to_list()\n",
    "file = \"/home/gl2776/UKBiobank/results/092821_PCA_results_500K/100521_UKBB_Hearing_difficulty_f2247_expandedwhite_110453cases_237318ctrl_500k.phenopca\"\n",
    "phe = pd.read_csv(file,header=0,sep=\"\\t\")\n",
    "phe[phe[\"IID\"].isin(list1415)].to_csv(\"/home/gl2776/UKBiobank/phenotype_files/hearing_impairment/fulldb_500K/pleiotropy_AD_ARHI/071122_UKBB_Hearing_difficulty_f2247_expandedwhite_107994cases_236699ctrl_500k.phenopca\", sep='\\t', index=False)\n",
    "# f2247\n",
    "file = \"/home/gl2776/UKBiobank/phenotype_files/hearing_impairment/fulldb_500K/pleiotropy_AD_ARHI/070722_UKBB_Hearing_noise_f2257_expandedwhite_159033cases_236699ctrl_500k_PC1_PC2\"\n",
    "list1415 = pd.read_csv(file,header=0,sep=\"\\t\")[\"IID\"].to_list()\n",
    "file = \"/home/gl2776/UKBiobank/results/092821_PCA_results_500K/100521_UKBB_Hearing_noise_f2257_expandedwhite_161443cases_237318ctrl_500k.phenopca\"\n",
    "phe = pd.read_csv(file,header=0,sep=\"\\t\")\n",
    "phe[phe[\"IID\"].isin(list1415)].to_csv(\"/home/gl2776/UKBiobank/phenotype_files/hearing_impairment/fulldb_500K/pleiotropy_AD_ARHI/071122_UKBB_Hearing_noise_f2257_expandedwhite_159033cases_236699ctrl_500k.phenopca\", sep='\\t', index=False)\n",
    "# f2247\n",
    "file = \"/home/gl2776/UKBiobank/phenotype_files/hearing_impairment/fulldb_500K/pleiotropy_AD_ARHI/070722_UKBB_Combined_f2247_f2257_expandedwhite_91092cases_236699ctrl_500k_PC1_PC2\"\n",
    "list1415 = pd.read_csv(file,header=0,sep=\"\\t\")[\"IID\"].to_list()\n",
    "file = \"/home/gl2776/UKBiobank/results/092821_PCA_results_500K/100521_UKBB_Combined_f2247_f2257_expandedwhite_93258cases_237318ctrl_500k.phenopca\"\n",
    "phe = pd.read_csv(file,header=0,sep=\"\\t\")\n",
    "phe[phe[\"IID\"].isin(list1415)].to_csv(\"/home/gl2776/UKBiobank/phenotype_files/hearing_impairment/fulldb_500K/pleiotropy_AD_ARHI/071122_UKBB_Combined_f2247_f2257_expandedwhite_91092cases_236699ctrl_500k.phenopca\", sep='\\t', index=False)"
   ]
  },
  {
   "cell_type": "code",
   "execution_count": null,
   "id": "979b729e-ab9b-4357-adbf-1ac93d211fb2",
   "metadata": {},
   "outputs": [],
   "source": []
  },
  {
   "cell_type": "markdown",
   "id": "cb9d797e-7bc6-44a4-a789-299a80d3fced",
   "metadata": {
    "kernel": "Bash"
   },
   "source": [
    "## Calculate the first 2 PC's for each of these phenotypes to run the association analysis with the imputed data"
   ]
  },
  {
   "cell_type": "markdown",
   "id": "2d839bdb-718c-4f13-a715-f09fce1c69fa",
   "metadata": {},
   "source": [
    "### 500k Data"
   ]
  },
  {
   "cell_type": "markdown",
   "id": "735748a7-9664-40da-b50e-bd54b4ea5f36",
   "metadata": {
    "kernel": "Bash"
   },
   "source": [
    "#### f.3393\n",
    "\n",
    "##### Step 1"
   ]
  },
  {
   "cell_type": "code",
   "execution_count": 7,
   "id": "fd7c34ca-5d42-480e-9586-829684897613",
   "metadata": {
    "kernel": "Bash"
   },
   "outputs": [
    {
     "name": "stdout",
     "output_type": "stream",
     "text": [
      "INFO: Running \u001b[32mcsg\u001b[0m: Configuration for Columbia csg partition cluster\n",
      "INFO: \u001b[32mcsg\u001b[0m is \u001b[32mcompleted\u001b[0m.\n",
      "INFO: \u001b[32mcsg\u001b[0m output:   \u001b[32m/home/gl2776/UKBiobank/results/092821_PCA_results_500K/071122_PCA_500k_exclu_1415/f3393/qc1_f3393_qcarray_2022-07-11.sbatch\u001b[0m\n",
      "INFO: Workflow csg (ID=we6b0c18b257f3d69) is executed successfully with 1 completed step.\n"
     ]
    }
   ],
   "source": [
    "## Columbia's cluster\n",
    "cwd=$UKBB_PATH/results/092821_PCA_results_500K/071122_PCA_500k_exclu_1415/f3393\n",
    "#gwas_sbatch=$USER_PATH/UKBB_GWAS_dev/output/qc1_f3393_qcarray_$(date +\"%Y-%m-%d\").sbatch\n",
    "gwas_sbatch=$cwd/qc1_f3393_qcarray_$(date +\"%Y-%m-%d\").sbatch\n",
    "## Use qc'ed genotype array\n",
    "genoFile=$UKBB_PATH/genotype_files_processed/090221_sample_variant_qc_final_callrate90/cache/UKB_genotypedatadownloaded083019.090221_sample_variant_qc_final_callrate90.filtered.extracted.bed\n",
    "keep_samples=$UKBB_PATH/phenotype_files/hearing_impairment/fulldb_500K/pleiotropy_AD_ARHI/070722_UKBB_Hearing_aid_f3393_expandedwhite_14734cases_236699ctrl_500k_PC1_PC2.keep_id\n",
    "#Keep variants after LD pruning\n",
    "keep_variants=$UKBB_PATH/results/092821_PCA_results_500K/092821_ldprun_unrelated/cache/*092821_ldprun_unrelated.filtered.prune.in\n",
    "\n",
    "#GWAS QC variables set all of this variables to 0 to avoid doing more filtering\n",
    "maf_filter=0\n",
    "geno_filter=0\n",
    "hwe_filter=0\n",
    "mind_filter=0\n",
    "numThreads=1\n",
    "mem='30G'\n",
    "\n",
    "gwasqc_sos=$USER_PATH/xqtl-pipeline/code/data_preprocessing/genotype/GWAS_QC.ipynb\n",
    "\n",
    "gwasqc_args=\"\"\"qc:1\n",
    "    --cwd $cwd\n",
    "    --genoFile $genoFile\n",
    "    --keep_samples $keep_samples\n",
    "    --keep_variants $keep_variants\n",
    "    --maf_filter $maf_filter\n",
    "    --geno_filter $geno_filter\n",
    "    --hwe_filter $hwe_filter\n",
    "    --mind_filter $mind_filter\n",
    "    --numThreads $numThreads \n",
    "    --job_size $job_size\n",
    "    --container $container_lmm\n",
    "    --mem $mem\n",
    "\"\"\"\n",
    "\n",
    "sos run $USER_PATH/UKBB_GWAS_dev/admin/Get_Job_Script.ipynb csg \\\n",
    "    --template-file $tpl_file \\\n",
    "    --workflow-file $gwasqc_sos \\\n",
    "    --to-script $gwas_sbatch \\\n",
    "    --args \"$gwasqc_args\""
   ]
  },
  {
   "cell_type": "markdown",
   "id": "681e2a97-e81b-44b7-857d-74f6f36067c1",
   "metadata": {
    "kernel": "Bash"
   },
   "source": [
    "##### Step 2."
   ]
  },
  {
   "cell_type": "code",
   "execution_count": 5,
   "id": "ab9026f0-035e-4212-93eb-e814b199806d",
   "metadata": {
    "kernel": "Bash"
   },
   "outputs": [
    {
     "name": "stdout",
     "output_type": "stream",
     "text": [
      "INFO: Running \u001b[32mcsg\u001b[0m: Configuration for Columbia csg partition cluster\n",
      "INFO: \u001b[32mcsg\u001b[0m is \u001b[32mcompleted\u001b[0m.\n",
      "INFO: \u001b[32mcsg\u001b[0m output:   \u001b[32m/home/gl2776/UKBiobank/results/092821_PCA_results_500K/071122_PCA_500k_exclu_1415/f3393/flashpca_f3393_pc_2022-07-11.sbatch\u001b[0m\n",
      "INFO: Workflow csg (ID=w33c3970745c7458e) is executed successfully with 1 completed step.\n"
     ]
    }
   ],
   "source": [
    "## Columbia's cluster\n",
    "cwd=$UKBB_PATH/results/092821_PCA_results_500K/071122_PCA_500k_exclu_1415/f3393\n",
    "#This is the bfile obtained in step 1\n",
    "genoFile=$cwd/*.bed\n",
    "# Format FID, IID, pop\n",
    "phenoFile=$UKBB_PATH/phenotype_files/hearing_impairment/fulldb_500K/pleiotropy_AD_ARHI/071122_UKBB_Hearing_aid_f3393_expandedwhite_14734cases_236699ctrl_500k.phenopca\n",
    "label_col=ethnicity\n",
    "pop_col=ethnicity\n",
    "pca_sbatch=$cwd/flashpca_f3393_pc_$(date +\"%Y-%m-%d\").sbatch\n",
    "k=2\n",
    "maha_k=2\n",
    "min_axis=\"\"\n",
    "max_axis=\"\"\n",
    "\n",
    "pca_sos=$USER_PATH/xqtl-pipeline/code/data_preprocessing/genotype/PCA.ipynb\n",
    "\n",
    "pca_args=\"\"\"flashpca\n",
    "    --cwd $cwd\n",
    "    --genoFile $genoFile\n",
    "    --phenoFile $phenoFile\n",
    "    --k $k\n",
    "    --maha_k $maha_k\n",
    "    --label_col $label_col\n",
    "    --pop_col $pop_col\n",
    "    --min_axis $min_axis\n",
    "    --max_axis $max_axis\n",
    "    --numThreads $numThreads \n",
    "    --job_size $job_size\n",
    "    --container $container_lmm\n",
    "\"\"\"\n",
    "\n",
    "sos run $USER_PATH/UKBB_GWAS_dev/admin/Get_Job_Script.ipynb csg \\\n",
    "    --template-file $tpl_file \\\n",
    "    --workflow-file $pca_sos \\\n",
    "    --to-script $pca_sbatch \\\n",
    "    --args \"$pca_args\""
   ]
  },
  {
   "cell_type": "markdown",
   "id": "6ae1bf9b-c863-4fbd-aa65-ff2841da35e4",
   "metadata": {
    "kernel": "Bash"
   },
   "source": [
    "#### f.2247\n",
    "\n",
    "##### Step 1"
   ]
  },
  {
   "cell_type": "code",
   "execution_count": 7,
   "id": "384ecbb3-c0ce-40ab-9d50-02f3e37421ec",
   "metadata": {
    "kernel": "Bash"
   },
   "outputs": [
    {
     "name": "stdout",
     "output_type": "stream",
     "text": [
      "INFO: Running \u001b[32mcsg\u001b[0m: Configuration for Columbia csg partition cluster\n",
      "INFO: \u001b[32mcsg\u001b[0m is \u001b[32mcompleted\u001b[0m.\n",
      "INFO: \u001b[32mcsg\u001b[0m output:   \u001b[32m/home/gl2776/UKBiobank/results/092821_PCA_results_500K/071122_PCA_500k_exclu_1415/f2247/qc1_f2247_qcarray_2022-07-11.sbatch\u001b[0m\n",
      "INFO: Workflow csg (ID=w0480799a289fd655) is executed successfully with 1 completed step.\n"
     ]
    }
   ],
   "source": [
    "## Columbia's cluster\n",
    "cwd=$UKBB_PATH/results/092821_PCA_results_500K/071122_PCA_500k_exclu_1415/f2247\n",
    "#gwas_sbatch=$USER_PATH/UKBB_GWAS_dev/output/qc1_f2247_qcarray_$(date +\"%Y-%m-%d\").sbatch\n",
    "gwas_sbatch=$cwd/qc1_f2247_qcarray_$(date +\"%Y-%m-%d\").sbatch\n",
    "## Use qc'ed genotype array\n",
    "genoFile=$UKBB_PATH/genotype_files_processed/090221_sample_variant_qc_final_callrate90/cache/UKB_genotypedatadownloaded083019.090221_sample_variant_qc_final_callrate90.filtered.extracted.bed\n",
    "keep_samples=$UKBB_PATH/phenotype_files/hearing_impairment/fulldb_500K/pleiotropy_AD_ARHI/070722_UKBB_Hearing_difficulty_f2247_expandedwhite_107994cases_236699ctrl_500k_PC1_PC2.keep_id\n",
    "#Keep variants after LD pruning\n",
    "keep_variants=$UKBB_PATH/results/092821_PCA_results_500K/092821_ldprun_unrelated/cache/*092821_ldprun_unrelated.filtered.prune.in\n",
    "\n",
    "#GWAS QC variables set all of this variables to 0 to avoid doing more filtering\n",
    "maf_filter=0\n",
    "geno_filter=0\n",
    "hwe_filter=0\n",
    "mind_filter=0\n",
    "numThreads=1\n",
    "mem='30G'\n",
    "\n",
    "gwasqc_sos=$USER_PATH/xqtl-pipeline/code/data_preprocessing/genotype/GWAS_QC.ipynb\n",
    "\n",
    "gwasqc_args=\"\"\"qc:1\n",
    "    --cwd $cwd\n",
    "    --genoFile $genoFile\n",
    "    --keep_samples $keep_samples\n",
    "    --keep_variants $keep_variants\n",
    "    --maf_filter $maf_filter\n",
    "    --geno_filter $geno_filter\n",
    "    --hwe_filter $hwe_filter\n",
    "    --mind_filter $mind_filter\n",
    "    --numThreads $numThreads \n",
    "    --job_size $job_size\n",
    "    --container $container_lmm\n",
    "    --mem $mem\n",
    "\"\"\"\n",
    "\n",
    "sos run $USER_PATH/UKBB_GWAS_dev/admin/Get_Job_Script.ipynb csg \\\n",
    "    --template-file $tpl_file \\\n",
    "    --workflow-file $gwasqc_sos \\\n",
    "    --to-script $gwas_sbatch \\\n",
    "    --args \"$gwasqc_args\""
   ]
  },
  {
   "cell_type": "markdown",
   "id": "c5626b48-7543-4358-9558-3cb484da5781",
   "metadata": {
    "tags": []
   },
   "source": [
    "##### Step 2."
   ]
  },
  {
   "cell_type": "code",
   "execution_count": 14,
   "id": "59638d60-5ff9-4640-b018-9614ce66dd3a",
   "metadata": {
    "kernel": "Bash"
   },
   "outputs": [
    {
     "name": "stdout",
     "output_type": "stream",
     "text": [
      "INFO: Running \u001b[32mcsg\u001b[0m: Configuration for Columbia csg partition cluster\n",
      "INFO: \u001b[32mcsg\u001b[0m is \u001b[32mcompleted\u001b[0m.\n",
      "INFO: \u001b[32mcsg\u001b[0m output:   \u001b[32m/home/gl2776/UKBiobank/results/092821_PCA_results_500K/071122_PCA_500k_exclu_1415/f2247/flashpca_f2247_pc_2022-07-11.sbatch\u001b[0m\n",
      "INFO: Workflow csg (ID=wa728fcf455ac0e6a) is executed successfully with 1 completed step.\n"
     ]
    }
   ],
   "source": [
    "## Columbia's cluster\n",
    "cwd=$UKBB_PATH/results/092821_PCA_results_500K/071122_PCA_500k_exclu_1415/f2247\n",
    "#This is the bfile obtained in step 1\n",
    "genoFile=$cwd/*.bed\n",
    "# Format FID, IID, pop\n",
    "phenoFile=$UKBB_PATH/phenotype_files/hearing_impairment/fulldb_500K/pleiotropy_AD_ARHI/071122_UKBB_Hearing_difficulty_f2247_expandedwhite_107994cases_236699ctrl_500k.phenopca\n",
    "label_col=ethnicity\n",
    "pop_col=ethnicity\n",
    "pca_sbatch=$cwd/flashpca_f2247_pc_$(date +\"%Y-%m-%d\").sbatch\n",
    "k=2\n",
    "maha_k=2\n",
    "min_axis=\"\"\n",
    "max_axis=\"\"\n",
    "\n",
    "pca_sos=$USER_PATH/xqtl-pipeline/code/data_preprocessing/genotype/PCA.ipynb\n",
    "\n",
    "pca_args=\"\"\"flashpca\n",
    "    --cwd $cwd\n",
    "    --genoFile $genoFile\n",
    "    --phenoFile $phenoFile\n",
    "    --k $k\n",
    "    --maha_k $maha_k\n",
    "    --label_col $label_col\n",
    "    --pop_col $pop_col\n",
    "    --min_axis $min_axis\n",
    "    --max_axis $max_axis\n",
    "    --numThreads $numThreads \n",
    "    --job_size $job_size\n",
    "    --container $container_lmm\n",
    "\"\"\"\n",
    "\n",
    "sos run  $USER_PATH/UKBB_GWAS_dev/admin/Get_Job_Script.ipynb csg\\\n",
    "    --template-file $tpl_file \\\n",
    "    --workflow-file $pca_sos \\\n",
    "    --to-script $pca_sbatch \\\n",
    "    --args \"$pca_args\""
   ]
  },
  {
   "cell_type": "markdown",
   "id": "bdfd5359-293d-4c6f-bcc6-b13ea61a0cc6",
   "metadata": {
    "kernel": "Bash"
   },
   "source": [
    "#### f.2257\n",
    "\n",
    "##### Step 1"
   ]
  },
  {
   "cell_type": "code",
   "execution_count": 15,
   "id": "186feb00-566c-451a-8140-2249f1a2e4df",
   "metadata": {
    "kernel": "Bash"
   },
   "outputs": [
    {
     "name": "stdout",
     "output_type": "stream",
     "text": [
      "INFO: Running \u001b[32mcsg\u001b[0m: Configuration for Columbia csg partition cluster\n",
      "INFO: \u001b[32mcsg\u001b[0m is \u001b[32mcompleted\u001b[0m.\n",
      "INFO: \u001b[32mcsg\u001b[0m output:   \u001b[32m/home/gl2776/UKBiobank/results/092821_PCA_results_500K/071122_PCA_500k_exclu_1415/f2257/qc1_f2257_qcarray_2022-07-11.sbatch\u001b[0m\n",
      "INFO: Workflow csg (ID=w86710bcece4549a1) is executed successfully with 1 completed step.\n"
     ]
    }
   ],
   "source": [
    "## Columbia's cluster\n",
    "cwd=$UKBB_PATH/results/092821_PCA_results_500K/071122_PCA_500k_exclu_1415/f2257\n",
    "#gwas_sbatch=$USER_PATH/UKBB_GWAS_dev/output/qc1_f2257_qcarray_$(date +\"%Y-%m-%d\").sbatch\n",
    "gwas_sbatch=$cwd/qc1_f2257_qcarray_$(date +\"%Y-%m-%d\").sbatch\n",
    "## Use qc'ed genotype array\n",
    "genoFile=$UKBB_PATH/genotype_files_processed/090221_sample_variant_qc_final_callrate90/cache/UKB_genotypedatadownloaded083019.090221_sample_variant_qc_final_callrate90.filtered.extracted.bed\n",
    "keep_samples=$UKBB_PATH/phenotype_files/hearing_impairment/fulldb_500K/pleiotropy_AD_ARHI/070722_UKBB_Hearing_noise_f2257_expandedwhite_159033cases_236699ctrl_500k_PC1_PC2.keep_id\n",
    "#Keep variants after LD pruning\n",
    "keep_variants=$UKBB_PATH/results/092821_PCA_results_500K/092821_ldprun_unrelated/cache/*092821_ldprun_unrelated.filtered.prune.in\n",
    "\n",
    "#GWAS QC variables set all of this variables to 0 to avoid doing more filtering\n",
    "maf_filter=0\n",
    "geno_filter=0\n",
    "hwe_filter=0\n",
    "mind_filter=0\n",
    "numThreads=1\n",
    "mem='30G'\n",
    "\n",
    "gwasqc_sos=$USER_PATH/xqtl-pipeline/code/data_preprocessing/genotype/GWAS_QC.ipynb\n",
    "\n",
    "gwasqc_args=\"\"\"qc:1\n",
    "    --cwd $cwd\n",
    "    --genoFile $genoFile\n",
    "    --keep_samples $keep_samples\n",
    "    --keep_variants $keep_variants\n",
    "    --maf_filter $maf_filter\n",
    "    --geno_filter $geno_filter\n",
    "    --hwe_filter $hwe_filter\n",
    "    --mind_filter $mind_filter\n",
    "    --numThreads $numThreads \n",
    "    --job_size $job_size\n",
    "    --container $container_lmm\n",
    "    --mem $mem\n",
    "\"\"\"\n",
    "\n",
    "sos run $USER_PATH/UKBB_GWAS_dev/admin/Get_Job_Script.ipynb csg \\\n",
    "    --template-file $tpl_file \\\n",
    "    --workflow-file $gwasqc_sos \\\n",
    "    --to-script $gwas_sbatch \\\n",
    "    --args \"$gwasqc_args\""
   ]
  },
  {
   "cell_type": "markdown",
   "id": "c0bee53a-9c4e-46dd-876f-a76f7241b3f2",
   "metadata": {
    "kernel": "Bash"
   },
   "source": [
    "##### Step 2."
   ]
  },
  {
   "cell_type": "code",
   "execution_count": 16,
   "id": "b6f08c2e-d0d5-4d06-8390-91d28f7ddbd6",
   "metadata": {
    "kernel": "Bash"
   },
   "outputs": [
    {
     "name": "stdout",
     "output_type": "stream",
     "text": [
      "INFO: Running \u001b[32mcsg\u001b[0m: Configuration for Columbia csg partition cluster\n",
      "INFO: \u001b[32mcsg\u001b[0m is \u001b[32mcompleted\u001b[0m.\n",
      "INFO: \u001b[32mcsg\u001b[0m output:   \u001b[32m/home/gl2776/UKBiobank/results/092821_PCA_results_500K/071122_PCA_500k_exclu_1415/f2257/flashpca_f2257_pc_2022-07-11.sbatch\u001b[0m\n",
      "INFO: Workflow csg (ID=wd6b8aa394484cf0b) is executed successfully with 1 completed step.\n"
     ]
    }
   ],
   "source": [
    "## Columbia's cluster\n",
    "cwd=$UKBB_PATH/results/092821_PCA_results_500K/071122_PCA_500k_exclu_1415/f2257\n",
    "#This is the bfile obtained in step 1\n",
    "genoFile=$cwd/*.bed\n",
    "# Format FID, IID, pop\n",
    "phenoFile=$UKBB_PATH/phenotype_files/hearing_impairment/fulldb_500K/pleiotropy_AD_ARHI/071122_UKBB_Hearing_noise_f2257_expandedwhite_159033cases_236699ctrl_500k.phenopca\n",
    "label_col=ethnicity\n",
    "pop_col=ethnicity\n",
    "pca_sbatch=$cwd/flashpca_f2257_pc_$(date +\"%Y-%m-%d\").sbatch\n",
    "k=2\n",
    "maha_k=2\n",
    "min_axis=\"\"\n",
    "max_axis=\"\"\n",
    "\n",
    "pca_sos=$USER_PATH/xqtl-pipeline/code/data_preprocessing/genotype/PCA.ipynb\n",
    "\n",
    "pca_args=\"\"\"flashpca\n",
    "    --cwd $cwd\n",
    "    --genoFile $genoFile\n",
    "    --phenoFile $phenoFile\n",
    "    --k $k\n",
    "    --maha_k $maha_k\n",
    "    --label_col $label_col\n",
    "    --pop_col $pop_col\n",
    "    --min_axis $min_axis\n",
    "    --max_axis $max_axis\n",
    "    --numThreads $numThreads \n",
    "    --job_size $job_size\n",
    "    --container $container_lmm\n",
    "\"\"\"\n",
    "\n",
    "sos run  $USER_PATH/UKBB_GWAS_dev/admin/Get_Job_Script.ipynb csg\\\n",
    "    --template-file $tpl_file \\\n",
    "    --workflow-file $pca_sos \\\n",
    "    --to-script $pca_sbatch \\\n",
    "    --args \"$pca_args\""
   ]
  },
  {
   "cell_type": "markdown",
   "id": "dd43bce0-66d0-45d8-be87-a505a939d6f4",
   "metadata": {
    "kernel": "Bash"
   },
   "source": [
    "#### Combined f.2247 & f.2257\n",
    "\n",
    "##### Step 1"
   ]
  },
  {
   "cell_type": "code",
   "execution_count": 17,
   "id": "8a9d4233-b321-4e5e-ada0-28426bfe0384",
   "metadata": {
    "kernel": "Bash"
   },
   "outputs": [
    {
     "name": "stdout",
     "output_type": "stream",
     "text": [
      "INFO: Running \u001b[32mcsg\u001b[0m: Configuration for Columbia csg partition cluster\n",
      "INFO: \u001b[32mcsg\u001b[0m is \u001b[32mcompleted\u001b[0m.\n",
      "INFO: \u001b[32mcsg\u001b[0m output:   \u001b[32m/home/gl2776/UKBiobank/results/092821_PCA_results_500K/071122_PCA_500k_exclu_1415/f2247_f2257/qc1_f2247_f2257_qcarray_2022-07-11.sbatch\u001b[0m\n",
      "INFO: Workflow csg (ID=w5aece13fb22324c9) is executed successfully with 1 completed step.\n"
     ]
    }
   ],
   "source": [
    "## Columbia's cluster\n",
    "cwd=$UKBB_PATH/results/092821_PCA_results_500K/071122_PCA_500k_exclu_1415/f2247_f2257\n",
    "#gwas_sbatch=$USER_PATH/UKBB_GWAS_dev/output/qc1_f2247_f2257_qcarray_$(date +\"%Y-%m-%d\").sbatch\n",
    "gwas_sbatch=$cwd/qc1_f2247_f2257_qcarray_$(date +\"%Y-%m-%d\").sbatch\n",
    "## Use qc'ed genotype array\n",
    "genoFile=$UKBB_PATH/genotype_files_processed/090221_sample_variant_qc_final_callrate90/cache/UKB_genotypedatadownloaded083019.090221_sample_variant_qc_final_callrate90.filtered.extracted.bed\n",
    "keep_samples=$UKBB_PATH/phenotype_files/hearing_impairment/fulldb_500K/pleiotropy_AD_ARHI/070722_UKBB_Combined_f2247_f2257_expandedwhite_91092cases_236699ctrl_500k_PC1_PC2.keep_id\n",
    "#Keep variants after LD pruning\n",
    "keep_variants=$UKBB_PATH/results/092821_PCA_results_500K/092821_ldprun_unrelated/cache/*092821_ldprun_unrelated.filtered.prune.in\n",
    "\n",
    "#GWAS QC variables set all of this variables to 0 to avoid doing more filtering\n",
    "maf_filter=0\n",
    "geno_filter=0\n",
    "hwe_filter=0\n",
    "mind_filter=0\n",
    "numThreads=1\n",
    "mem='30G'\n",
    "\n",
    "gwasqc_sos=$USER_PATH/xqtl-pipeline/code/data_preprocessing/genotype/GWAS_QC.ipynb\n",
    "\n",
    "gwasqc_args=\"\"\"qc:1\n",
    "    --cwd $cwd\n",
    "    --genoFile $genoFile\n",
    "    --keep_samples $keep_samples\n",
    "    --keep_variants $keep_variants\n",
    "    --maf_filter $maf_filter\n",
    "    --geno_filter $geno_filter\n",
    "    --hwe_filter $hwe_filter\n",
    "    --mind_filter $mind_filter\n",
    "    --numThreads $numThreads \n",
    "    --job_size $job_size\n",
    "    --container $container_lmm\n",
    "    --mem $mem\n",
    "\"\"\"\n",
    "\n",
    "sos run $USER_PATH/UKBB_GWAS_dev/admin/Get_Job_Script.ipynb csg \\\n",
    "    --template-file $tpl_file \\\n",
    "    --workflow-file $gwasqc_sos \\\n",
    "    --to-script $gwas_sbatch \\\n",
    "    --args \"$gwasqc_args\""
   ]
  },
  {
   "cell_type": "markdown",
   "id": "2669b729-9956-4abd-8082-2b0410bed141",
   "metadata": {
    "kernel": "Bash"
   },
   "source": [
    "##### Step 2."
   ]
  },
  {
   "cell_type": "code",
   "execution_count": 18,
   "id": "8bdcf6ad-13ef-455b-ac37-10ec57d7ad04",
   "metadata": {
    "kernel": "Bash"
   },
   "outputs": [
    {
     "name": "stdout",
     "output_type": "stream",
     "text": [
      "INFO: Running \u001b[32mcsg\u001b[0m: Configuration for Columbia csg partition cluster\n",
      "INFO: \u001b[32mcsg\u001b[0m is \u001b[32mcompleted\u001b[0m.\n",
      "INFO: \u001b[32mcsg\u001b[0m output:   \u001b[32m/home/gl2776/UKBiobank/results/092821_PCA_results_500K/071122_PCA_500k_exclu_1415/f2247_f2257/flashpca_f2247_f2257_pc_2022-07-11.sbatch\u001b[0m\n",
      "INFO: Workflow csg (ID=w0ca2ac5cfecfd1ca) is executed successfully with 1 completed step.\n"
     ]
    }
   ],
   "source": [
    "## Columbia's cluster\n",
    "cwd=$UKBB_PATH/results/092821_PCA_results_500K/071122_PCA_500k_exclu_1415/f2247_f2257\n",
    "#This is the bfile obtained in step 1\n",
    "genoFile=$cwd/*.bed\n",
    "# Format FID, IID, pop\n",
    "phenoFile=$UKBB_PATH/phenotype_files/hearing_impairment/fulldb_500K/pleiotropy_AD_ARHI/071122_UKBB_Combined_f2247_f2257_expandedwhite_91092cases_236699ctrl_500k.phenopca\n",
    "label_col=ethnicity\n",
    "pop_col=ethnicity\n",
    "pca_sbatch=$cwd/flashpca_f2247_f2257_pc_$(date +\"%Y-%m-%d\").sbatch\n",
    "k=2\n",
    "maha_k=2\n",
    "min_axis=\"\"\n",
    "max_axis=\"\"\n",
    "\n",
    "pca_sos=$USER_PATH/xqtl-pipeline/code/data_preprocessing/genotype/PCA.ipynb\n",
    "\n",
    "pca_args=\"\"\"flashpca\n",
    "    --cwd $cwd\n",
    "    --genoFile $genoFile\n",
    "    --phenoFile $phenoFile\n",
    "    --k $k\n",
    "    --maha_k $maha_k\n",
    "    --label_col $label_col\n",
    "    --pop_col $pop_col\n",
    "    --min_axis $min_axis\n",
    "    --max_axis $max_axis\n",
    "    --numThreads $numThreads \n",
    "    --job_size $job_size\n",
    "    --container $container_lmm\n",
    "\"\"\"\n",
    "\n",
    "sos run  $USER_PATH/UKBB_GWAS_dev/admin/Get_Job_Script.ipynb csg\\\n",
    "    --template-file $tpl_file \\\n",
    "    --workflow-file $pca_sos \\\n",
    "    --to-script $pca_sbatch \\\n",
    "    --args \"$pca_args\""
   ]
  },
  {
   "cell_type": "markdown",
   "id": "2fb26654-b46b-48d9-a8ea-2f1a984b7b32",
   "metadata": {},
   "source": [
    "## Combine the PCs in the phenotype files"
   ]
  },
  {
   "cell_type": "code",
   "execution_count": 1,
   "id": "1346ce5f-4458-4cea-8e7d-59a4264a25a1",
   "metadata": {},
   "outputs": [
    {
     "name": "stdout",
     "output_type": "stream",
     "text": [
      "070722_UKBB_Combined_f2247_f2257_expandedwhite_91092cases_236699ctrl_500k_PC1_PC2\n",
      "070722_UKBB_Combined_f2247_f2257_expandedwhite_91092cases_236699ctrl_500k_PC1_PC2.keep_id\n",
      "070722_UKBB_Hearing_aid_f3393_expandedwhite_14734cases_236699ctrl_500k_PC1_PC2\n",
      "070722_UKBB_Hearing_aid_f3393_expandedwhite_14734cases_236699ctrl_500k_PC1_PC2.keep_id\n",
      "070722_UKBB_Hearing_difficulty_f2247_expandedwhite_107994cases_236699ctrl_500k_PC1_PC2\n",
      "070722_UKBB_Hearing_difficulty_f2247_expandedwhite_107994cases_236699ctrl_500k_PC1_PC2.keep_id\n",
      "070722_UKBB_Hearing_noise_f2257_expandedwhite_159033cases_236699ctrl_500k_PC1_PC2\n",
      "070722_UKBB_Hearing_noise_f2257_expandedwhite_159033cases_236699ctrl_500k_PC1_PC2.keep_id\n",
      "071122_UKBB_Combined_f2247_f2257_expandedwhite_91092cases_236699ctrl_500k.phenopca\n",
      "071122_UKBB_Hearing_aid_f3393_expandedwhite_14734cases_236699ctrl_500k.phenopca\n",
      "071122_UKBB_Hearing_difficulty_f2247_expandedwhite_107994cases_236699ctrl_500k.phenopca\n",
      "071122_UKBB_Hearing_noise_f2257_expandedwhite_159033cases_236699ctrl_500k.phenopca\n",
      "ukb47922_white_456561ind_exclu_1415.keep_id\n",
      "with_1415_without_subcat.500k.sample_id.txt\n"
     ]
    }
   ],
   "source": [
    "ls /home/gl2776/UKBiobank/phenotype_files/hearing_impairment/fulldb_500K/pleiotropy_AD_ARHI"
   ]
  },
  {
   "cell_type": "markdown",
   "id": "e0d5adf0-40e8-43af-a547-57dcdf1d2d57",
   "metadata": {},
   "source": [
    "Phenotype files named \"070722_*_500k_PC1_PC2\" are with original PCs calculated by original sample size with code 1415. \"071222_*_500k_PC1_PC2\" will be the new phenotype files with the newly calculated PCs"
   ]
  },
  {
   "cell_type": "code",
   "execution_count": 2,
   "id": "5e544ecd-29c1-4d75-94cb-1eb6cd75ffb0",
   "metadata": {},
   "outputs": [
    {
     "data": {
      "text/html": [
       "<div>\n",
       "<style scoped>\n",
       "    .dataframe tbody tr th:only-of-type {\n",
       "        vertical-align: middle;\n",
       "    }\n",
       "\n",
       "    .dataframe tbody tr th {\n",
       "        vertical-align: top;\n",
       "    }\n",
       "\n",
       "    .dataframe thead th {\n",
       "        text-align: right;\n",
       "    }\n",
       "</style>\n",
       "<table border=\"1\" class=\"dataframe\">\n",
       "  <thead>\n",
       "    <tr style=\"text-align: right;\">\n",
       "      <th></th>\n",
       "      <th>FID</th>\n",
       "      <th>IID</th>\n",
       "      <th>sex</th>\n",
       "      <th>f3393</th>\n",
       "      <th>age</th>\n",
       "      <th>PC1</th>\n",
       "      <th>PC2</th>\n",
       "    </tr>\n",
       "  </thead>\n",
       "  <tbody>\n",
       "    <tr>\n",
       "      <th>0</th>\n",
       "      <td>1000112</td>\n",
       "      <td>1000112</td>\n",
       "      <td>0</td>\n",
       "      <td>1</td>\n",
       "      <td>68</td>\n",
       "      <td>0.011931</td>\n",
       "      <td>0.031198</td>\n",
       "    </tr>\n",
       "    <tr>\n",
       "      <th>1</th>\n",
       "      <td>1001067</td>\n",
       "      <td>1001067</td>\n",
       "      <td>0</td>\n",
       "      <td>1</td>\n",
       "      <td>50</td>\n",
       "      <td>0.004472</td>\n",
       "      <td>0.002904</td>\n",
       "    </tr>\n",
       "    <tr>\n",
       "      <th>2</th>\n",
       "      <td>1001384</td>\n",
       "      <td>1001384</td>\n",
       "      <td>1</td>\n",
       "      <td>1</td>\n",
       "      <td>61</td>\n",
       "      <td>0.002001</td>\n",
       "      <td>-0.001850</td>\n",
       "    </tr>\n",
       "    <tr>\n",
       "      <th>3</th>\n",
       "      <td>1001459</td>\n",
       "      <td>1001459</td>\n",
       "      <td>0</td>\n",
       "      <td>1</td>\n",
       "      <td>64</td>\n",
       "      <td>0.010770</td>\n",
       "      <td>0.022391</td>\n",
       "    </tr>\n",
       "    <tr>\n",
       "      <th>4</th>\n",
       "      <td>1002548</td>\n",
       "      <td>1002548</td>\n",
       "      <td>0</td>\n",
       "      <td>1</td>\n",
       "      <td>62</td>\n",
       "      <td>0.000226</td>\n",
       "      <td>-0.014383</td>\n",
       "    </tr>\n",
       "    <tr>\n",
       "      <th>...</th>\n",
       "      <td>...</td>\n",
       "      <td>...</td>\n",
       "      <td>...</td>\n",
       "      <td>...</td>\n",
       "      <td>...</td>\n",
       "      <td>...</td>\n",
       "      <td>...</td>\n",
       "    </tr>\n",
       "    <tr>\n",
       "      <th>251428</th>\n",
       "      <td>6025363</td>\n",
       "      <td>6025363</td>\n",
       "      <td>0</td>\n",
       "      <td>0</td>\n",
       "      <td>64</td>\n",
       "      <td>0.004982</td>\n",
       "      <td>0.006218</td>\n",
       "    </tr>\n",
       "    <tr>\n",
       "      <th>251429</th>\n",
       "      <td>6025409</td>\n",
       "      <td>6025409</td>\n",
       "      <td>1</td>\n",
       "      <td>0</td>\n",
       "      <td>66</td>\n",
       "      <td>0.002693</td>\n",
       "      <td>-0.003802</td>\n",
       "    </tr>\n",
       "    <tr>\n",
       "      <th>251430</th>\n",
       "      <td>6025411</td>\n",
       "      <td>6025411</td>\n",
       "      <td>1</td>\n",
       "      <td>0</td>\n",
       "      <td>49</td>\n",
       "      <td>0.014998</td>\n",
       "      <td>0.007031</td>\n",
       "    </tr>\n",
       "    <tr>\n",
       "      <th>251431</th>\n",
       "      <td>6025425</td>\n",
       "      <td>6025425</td>\n",
       "      <td>1</td>\n",
       "      <td>0</td>\n",
       "      <td>44</td>\n",
       "      <td>0.017568</td>\n",
       "      <td>0.020817</td>\n",
       "    </tr>\n",
       "    <tr>\n",
       "      <th>251432</th>\n",
       "      <td>6025438</td>\n",
       "      <td>6025438</td>\n",
       "      <td>0</td>\n",
       "      <td>0</td>\n",
       "      <td>55</td>\n",
       "      <td>0.004759</td>\n",
       "      <td>0.004076</td>\n",
       "    </tr>\n",
       "  </tbody>\n",
       "</table>\n",
       "<p>251433 rows × 7 columns</p>\n",
       "</div>"
      ],
      "text/plain": [
       "            FID      IID  sex  f3393  age       PC1       PC2\n",
       "0       1000112  1000112    0      1   68  0.011931  0.031198\n",
       "1       1001067  1001067    0      1   50  0.004472  0.002904\n",
       "2       1001384  1001384    1      1   61  0.002001 -0.001850\n",
       "3       1001459  1001459    0      1   64  0.010770  0.022391\n",
       "4       1002548  1002548    0      1   62  0.000226 -0.014383\n",
       "...         ...      ...  ...    ...  ...       ...       ...\n",
       "251428  6025363  6025363    0      0   64  0.004982  0.006218\n",
       "251429  6025409  6025409    1      0   66  0.002693 -0.003802\n",
       "251430  6025411  6025411    1      0   49  0.014998  0.007031\n",
       "251431  6025425  6025425    1      0   44  0.017568  0.020817\n",
       "251432  6025438  6025438    0      0   55  0.004759  0.004076\n",
       "\n",
       "[251433 rows x 7 columns]"
      ]
     },
     "execution_count": 2,
     "metadata": {},
     "output_type": "execute_result"
    }
   ],
   "source": [
    "# f3393\n",
    "import pandas as pd\n",
    "phe = pd.read_csv(\"~/UKBiobank/phenotype_files/hearing_impairment/fulldb_500K/pleiotropy_AD_ARHI/070722_UKBB_Hearing_aid_f3393_expandedwhite_14734cases_236699ctrl_500k_PC1_PC2\",header=0,sep=\"\\t\")\n",
    "phe"
   ]
  },
  {
   "cell_type": "code",
   "execution_count": 4,
   "id": "4af1e41b-6d5d-49ff-b23e-fab84f4fe2e9",
   "metadata": {},
   "outputs": [
    {
     "data": {
      "text/html": [
       "<div>\n",
       "<style scoped>\n",
       "    .dataframe tbody tr th:only-of-type {\n",
       "        vertical-align: middle;\n",
       "    }\n",
       "\n",
       "    .dataframe tbody tr th {\n",
       "        vertical-align: top;\n",
       "    }\n",
       "\n",
       "    .dataframe thead th {\n",
       "        text-align: right;\n",
       "    }\n",
       "</style>\n",
       "<table border=\"1\" class=\"dataframe\">\n",
       "  <thead>\n",
       "    <tr style=\"text-align: right;\">\n",
       "      <th></th>\n",
       "      <th>IID</th>\n",
       "      <th>FID</th>\n",
       "      <th>ethnicity</th>\n",
       "      <th>ID</th>\n",
       "      <th>PC1</th>\n",
       "      <th>PC2</th>\n",
       "    </tr>\n",
       "  </thead>\n",
       "  <tbody>\n",
       "    <tr>\n",
       "      <th>0</th>\n",
       "      <td>1000063</td>\n",
       "      <td>1000063</td>\n",
       "      <td>British</td>\n",
       "      <td>1000063:1000063</td>\n",
       "      <td>-0.001268</td>\n",
       "      <td>0.011031</td>\n",
       "    </tr>\n",
       "    <tr>\n",
       "      <th>1</th>\n",
       "      <td>1000078</td>\n",
       "      <td>1000078</td>\n",
       "      <td>British</td>\n",
       "      <td>1000078:1000078</td>\n",
       "      <td>-0.006248</td>\n",
       "      <td>0.009816</td>\n",
       "    </tr>\n",
       "    <tr>\n",
       "      <th>2</th>\n",
       "      <td>1000081</td>\n",
       "      <td>1000081</td>\n",
       "      <td>British</td>\n",
       "      <td>1000081:1000081</td>\n",
       "      <td>0.118765</td>\n",
       "      <td>-0.016446</td>\n",
       "    </tr>\n",
       "    <tr>\n",
       "      <th>3</th>\n",
       "      <td>1000112</td>\n",
       "      <td>1000112</td>\n",
       "      <td>British</td>\n",
       "      <td>1000112:1000112</td>\n",
       "      <td>-0.011938</td>\n",
       "      <td>-0.031102</td>\n",
       "    </tr>\n",
       "    <tr>\n",
       "      <th>4</th>\n",
       "      <td>1000129</td>\n",
       "      <td>1000129</td>\n",
       "      <td>British</td>\n",
       "      <td>1000129:1000129</td>\n",
       "      <td>-0.000505</td>\n",
       "      <td>0.011894</td>\n",
       "    </tr>\n",
       "    <tr>\n",
       "      <th>...</th>\n",
       "      <td>...</td>\n",
       "      <td>...</td>\n",
       "      <td>...</td>\n",
       "      <td>...</td>\n",
       "      <td>...</td>\n",
       "      <td>...</td>\n",
       "    </tr>\n",
       "    <tr>\n",
       "      <th>251428</th>\n",
       "      <td>6025363</td>\n",
       "      <td>6025363</td>\n",
       "      <td>British</td>\n",
       "      <td>6025363:6025363</td>\n",
       "      <td>-0.004974</td>\n",
       "      <td>-0.006233</td>\n",
       "    </tr>\n",
       "    <tr>\n",
       "      <th>251429</th>\n",
       "      <td>6025409</td>\n",
       "      <td>6025409</td>\n",
       "      <td>British</td>\n",
       "      <td>6025409:6025409</td>\n",
       "      <td>-0.002686</td>\n",
       "      <td>0.003770</td>\n",
       "    </tr>\n",
       "    <tr>\n",
       "      <th>251430</th>\n",
       "      <td>6025411</td>\n",
       "      <td>6025411</td>\n",
       "      <td>British</td>\n",
       "      <td>6025411:6025411</td>\n",
       "      <td>-0.015043</td>\n",
       "      <td>-0.007018</td>\n",
       "    </tr>\n",
       "    <tr>\n",
       "      <th>251431</th>\n",
       "      <td>6025425</td>\n",
       "      <td>6025425</td>\n",
       "      <td>British</td>\n",
       "      <td>6025425:6025425</td>\n",
       "      <td>-0.017598</td>\n",
       "      <td>-0.020819</td>\n",
       "    </tr>\n",
       "    <tr>\n",
       "      <th>251432</th>\n",
       "      <td>6025438</td>\n",
       "      <td>6025438</td>\n",
       "      <td>British</td>\n",
       "      <td>6025438:6025438</td>\n",
       "      <td>-0.004774</td>\n",
       "      <td>-0.004041</td>\n",
       "    </tr>\n",
       "  </tbody>\n",
       "</table>\n",
       "<p>251433 rows × 6 columns</p>\n",
       "</div>"
      ],
      "text/plain": [
       "            IID      FID ethnicity               ID       PC1       PC2\n",
       "0       1000063  1000063   British  1000063:1000063 -0.001268  0.011031\n",
       "1       1000078  1000078   British  1000078:1000078 -0.006248  0.009816\n",
       "2       1000081  1000081   British  1000081:1000081  0.118765 -0.016446\n",
       "3       1000112  1000112   British  1000112:1000112 -0.011938 -0.031102\n",
       "4       1000129  1000129   British  1000129:1000129 -0.000505  0.011894\n",
       "...         ...      ...       ...              ...       ...       ...\n",
       "251428  6025363  6025363   British  6025363:6025363 -0.004974 -0.006233\n",
       "251429  6025409  6025409   British  6025409:6025409 -0.002686  0.003770\n",
       "251430  6025411  6025411   British  6025411:6025411 -0.015043 -0.007018\n",
       "251431  6025425  6025425   British  6025425:6025425 -0.017598 -0.020819\n",
       "251432  6025438  6025438   British  6025438:6025438 -0.004774 -0.004041\n",
       "\n",
       "[251433 rows x 6 columns]"
      ]
     },
     "execution_count": 4,
     "metadata": {},
     "output_type": "execute_result"
    }
   ],
   "source": [
    "pc = pd.read_csv(\"~/UKBiobank/results/092821_PCA_results_500K/071122_PCA_500k_exclu_1415/f3393/071122_UKBB_Hearing_aid_f3393_expandedwhite_14734cases_236699ctrl_500k.pca.txt\",header=0,sep=\"\\t\")\n",
    "pc"
   ]
  },
  {
   "cell_type": "code",
   "execution_count": 8,
   "id": "bd510d26-31e8-4a96-81d3-4819297cab16",
   "metadata": {},
   "outputs": [
    {
     "data": {
      "text/html": [
       "<div>\n",
       "<style scoped>\n",
       "    .dataframe tbody tr th:only-of-type {\n",
       "        vertical-align: middle;\n",
       "    }\n",
       "\n",
       "    .dataframe tbody tr th {\n",
       "        vertical-align: top;\n",
       "    }\n",
       "\n",
       "    .dataframe thead th {\n",
       "        text-align: right;\n",
       "    }\n",
       "</style>\n",
       "<table border=\"1\" class=\"dataframe\">\n",
       "  <thead>\n",
       "    <tr style=\"text-align: right;\">\n",
       "      <th></th>\n",
       "      <th>FID</th>\n",
       "      <th>IID</th>\n",
       "      <th>sex</th>\n",
       "      <th>f3393</th>\n",
       "      <th>age</th>\n",
       "      <th>PC1</th>\n",
       "      <th>PC2</th>\n",
       "    </tr>\n",
       "  </thead>\n",
       "  <tbody>\n",
       "    <tr>\n",
       "      <th>0</th>\n",
       "      <td>1000112</td>\n",
       "      <td>1000112</td>\n",
       "      <td>0</td>\n",
       "      <td>1</td>\n",
       "      <td>68</td>\n",
       "      <td>-0.011938</td>\n",
       "      <td>-0.031102</td>\n",
       "    </tr>\n",
       "    <tr>\n",
       "      <th>1</th>\n",
       "      <td>1001067</td>\n",
       "      <td>1001067</td>\n",
       "      <td>0</td>\n",
       "      <td>1</td>\n",
       "      <td>50</td>\n",
       "      <td>-0.004491</td>\n",
       "      <td>-0.002928</td>\n",
       "    </tr>\n",
       "    <tr>\n",
       "      <th>2</th>\n",
       "      <td>1001384</td>\n",
       "      <td>1001384</td>\n",
       "      <td>1</td>\n",
       "      <td>1</td>\n",
       "      <td>61</td>\n",
       "      <td>-0.001991</td>\n",
       "      <td>0.001819</td>\n",
       "    </tr>\n",
       "    <tr>\n",
       "      <th>3</th>\n",
       "      <td>1001459</td>\n",
       "      <td>1001459</td>\n",
       "      <td>0</td>\n",
       "      <td>1</td>\n",
       "      <td>64</td>\n",
       "      <td>-0.010785</td>\n",
       "      <td>-0.022329</td>\n",
       "    </tr>\n",
       "    <tr>\n",
       "      <th>4</th>\n",
       "      <td>1002548</td>\n",
       "      <td>1002548</td>\n",
       "      <td>0</td>\n",
       "      <td>1</td>\n",
       "      <td>62</td>\n",
       "      <td>-0.000190</td>\n",
       "      <td>0.014417</td>\n",
       "    </tr>\n",
       "    <tr>\n",
       "      <th>...</th>\n",
       "      <td>...</td>\n",
       "      <td>...</td>\n",
       "      <td>...</td>\n",
       "      <td>...</td>\n",
       "      <td>...</td>\n",
       "      <td>...</td>\n",
       "      <td>...</td>\n",
       "    </tr>\n",
       "    <tr>\n",
       "      <th>251428</th>\n",
       "      <td>6025363</td>\n",
       "      <td>6025363</td>\n",
       "      <td>0</td>\n",
       "      <td>0</td>\n",
       "      <td>64</td>\n",
       "      <td>-0.004974</td>\n",
       "      <td>-0.006233</td>\n",
       "    </tr>\n",
       "    <tr>\n",
       "      <th>251429</th>\n",
       "      <td>6025409</td>\n",
       "      <td>6025409</td>\n",
       "      <td>1</td>\n",
       "      <td>0</td>\n",
       "      <td>66</td>\n",
       "      <td>-0.002686</td>\n",
       "      <td>0.003770</td>\n",
       "    </tr>\n",
       "    <tr>\n",
       "      <th>251430</th>\n",
       "      <td>6025411</td>\n",
       "      <td>6025411</td>\n",
       "      <td>1</td>\n",
       "      <td>0</td>\n",
       "      <td>49</td>\n",
       "      <td>-0.015043</td>\n",
       "      <td>-0.007018</td>\n",
       "    </tr>\n",
       "    <tr>\n",
       "      <th>251431</th>\n",
       "      <td>6025425</td>\n",
       "      <td>6025425</td>\n",
       "      <td>1</td>\n",
       "      <td>0</td>\n",
       "      <td>44</td>\n",
       "      <td>-0.017598</td>\n",
       "      <td>-0.020819</td>\n",
       "    </tr>\n",
       "    <tr>\n",
       "      <th>251432</th>\n",
       "      <td>6025438</td>\n",
       "      <td>6025438</td>\n",
       "      <td>0</td>\n",
       "      <td>0</td>\n",
       "      <td>55</td>\n",
       "      <td>-0.004774</td>\n",
       "      <td>-0.004041</td>\n",
       "    </tr>\n",
       "  </tbody>\n",
       "</table>\n",
       "<p>251433 rows × 7 columns</p>\n",
       "</div>"
      ],
      "text/plain": [
       "            FID      IID  sex  f3393  age       PC1       PC2\n",
       "0       1000112  1000112    0      1   68 -0.011938 -0.031102\n",
       "1       1001067  1001067    0      1   50 -0.004491 -0.002928\n",
       "2       1001384  1001384    1      1   61 -0.001991  0.001819\n",
       "3       1001459  1001459    0      1   64 -0.010785 -0.022329\n",
       "4       1002548  1002548    0      1   62 -0.000190  0.014417\n",
       "...         ...      ...  ...    ...  ...       ...       ...\n",
       "251428  6025363  6025363    0      0   64 -0.004974 -0.006233\n",
       "251429  6025409  6025409    1      0   66 -0.002686  0.003770\n",
       "251430  6025411  6025411    1      0   49 -0.015043 -0.007018\n",
       "251431  6025425  6025425    1      0   44 -0.017598 -0.020819\n",
       "251432  6025438  6025438    0      0   55 -0.004774 -0.004041\n",
       "\n",
       "[251433 rows x 7 columns]"
      ]
     },
     "execution_count": 8,
     "metadata": {},
     "output_type": "execute_result"
    }
   ],
   "source": [
    "phe = phe[['FID', 'IID', 'sex', 'f3393', 'age']]\n",
    "phe = phe.merge(pc[[\"IID\",\"PC1\",\"PC2\"]],how=\"left\",left_on=\"IID\",right_on=\"IID\")\n",
    "phe"
   ]
  },
  {
   "cell_type": "code",
   "execution_count": 10,
   "id": "5d72ebd7-ff31-4e36-8bfc-778d6bf11183",
   "metadata": {},
   "outputs": [],
   "source": [
    "phe.to_csv(\"~/UKBiobank/phenotype_files/hearing_impairment/fulldb_500K/pleiotropy_AD_ARHI/071222_UKBB_Hearing_aid_f3393_expandedwhite_14734cases_236699ctrl_500k_PC1_PC2\",index=False,sep=\"\\t\")"
   ]
  },
  {
   "cell_type": "code",
   "execution_count": 11,
   "id": "2eab28dd-2639-4b31-bcb7-c39b1c0585ab",
   "metadata": {},
   "outputs": [],
   "source": [
    "# f2247\n",
    "phe = pd.read_csv(\"~/UKBiobank/phenotype_files/hearing_impairment/fulldb_500K/pleiotropy_AD_ARHI/070722_UKBB_Hearing_difficulty_f2247_expandedwhite_107994cases_236699ctrl_500k_PC1_PC2\",header=0,sep=\"\\t\")\n",
    "pc = pd.read_csv(\"~/UKBiobank/results/092821_PCA_results_500K/071122_PCA_500k_exclu_1415/f2247/071122_UKBB_Hearing_difficulty_f2247_expandedwhite_107994cases_236699ctrl_500k.pca.txt\",header=0,sep=\"\\t\")\n",
    "phe = phe[['FID', 'IID', 'sex', 'f2247', 'age']]\n",
    "phe = phe.merge(pc[[\"IID\",\"PC1\",\"PC2\"]],how=\"left\",left_on=\"IID\",right_on=\"IID\")\n",
    "phe.to_csv(\"~/UKBiobank/phenotype_files/hearing_impairment/fulldb_500K/pleiotropy_AD_ARHI/071222_UKBB_Hearing_difficulty_f2247_expandedwhite_107994cases_236699ctrl_500k_PC1_PC2\",index=False,sep=\"\\t\")\n",
    "# f2257\n",
    "phe = pd.read_csv(\"~/UKBiobank/phenotype_files/hearing_impairment/fulldb_500K/pleiotropy_AD_ARHI/070722_UKBB_Hearing_noise_f2257_expandedwhite_159033cases_236699ctrl_500k_PC1_PC2\",header=0,sep=\"\\t\")\n",
    "pc = pd.read_csv(\"~/UKBiobank/results/092821_PCA_results_500K/071122_PCA_500k_exclu_1415/f3393/071122_UKBB_Hearing_aid_f3393_expandedwhite_14734cases_236699ctrl_500k.pca.txt\",header=0,sep=\"\\t\")\n",
    "phe = phe[['FID', 'IID', 'sex', 'f2257', 'age']]\n",
    "phe = phe.merge(pc[[\"IID\",\"PC1\",\"PC2\"]],how=\"left\",left_on=\"IID\",right_on=\"IID\")\n",
    "phe.to_csv(\"~/UKBiobank/phenotype_files/hearing_impairment/fulldb_500K/pleiotropy_AD_ARHI/071222_UKBB_Hearing_noise_f2257_expandedwhite_159033cases_236699ctrl_500k_PC1_PC2\",index=False,sep=\"\\t\")\n",
    "# f2247_f2257\n",
    "phe = pd.read_csv(\"~/UKBiobank/phenotype_files/hearing_impairment/fulldb_500K/pleiotropy_AD_ARHI/070722_UKBB_Combined_f2247_f2257_expandedwhite_91092cases_236699ctrl_500k_PC1_PC2\",header=0,sep=\"\\t\")\n",
    "pc = pd.read_csv(\"~/UKBiobank/results/092821_PCA_results_500K/071122_PCA_500k_exclu_1415/f2247_f2257/071122_UKBB_Combined_f2247_f2257_expandedwhite_91092cases_236699ctrl_500k.pca.txt\",header=0,sep=\"\\t\")\n",
    "phe = phe[['FID', 'IID', 'sex', 'f2247_f2257', 'age']]\n",
    "phe = phe.merge(pc[[\"IID\",\"PC1\",\"PC2\"]],how=\"left\",left_on=\"IID\",right_on=\"IID\")\n",
    "phe.to_csv(\"~/UKBiobank/phenotype_files/hearing_impairment/fulldb_500K/pleiotropy_AD_ARHI/071222_UKBB_Combined_f2247_f2257_expandedwhite_91092cases_236699ctrl_500k_PC1_PC2\",index=False,sep=\"\\t\")"
   ]
  },
  {
   "cell_type": "markdown",
   "id": "fcf146aa-d657-409a-94ca-a59d85587845",
   "metadata": {
    "kernel": "SoS"
   },
   "source": [
    "## Run association analysis with imputed data for each phenotype"
   ]
  },
  {
   "cell_type": "markdown",
   "id": "966cc78b-6dbf-4755-a205-d3fdfa53762f",
   "metadata": {},
   "source": [
    "### 500k\n",
    "\n",
    "#### f.3393"
   ]
  },
  {
   "cell_type": "code",
   "execution_count": 9,
   "id": "41ccdeea-1026-4f50-a508-062a502fa706",
   "metadata": {
    "kernel": "Bash"
   },
   "outputs": [
    {
     "name": "stdout",
     "output_type": "stream",
     "text": [
      "INFO: Running \u001b[32mcsg\u001b[0m: Configuration for Columbia csg partition cluster\n",
      "INFO: \u001b[32mcsg\u001b[0m is \u001b[32mcompleted\u001b[0m.\n",
      "INFO: \u001b[32mcsg\u001b[0m output:   \u001b[32m/home/gl2776/UKBiobank/results/REGENIE_results/results_imputed_data/071222_500k_without_1415/f3393/f3393_500K_impdata_regenie_2022-07-12.sbatch\u001b[0m\n",
      "INFO: Workflow csg (ID=w4a3815c4dd568e8d) is executed successfully with 1 completed step.\n"
     ]
    }
   ],
   "source": [
    "cwd=~/UKBiobank/results/REGENIE_results/results_imputed_data/071222_500k_without_1415/f3393\n",
    "lmm_dir_regenie=$cwd\n",
    "lmm_sbatch_regenie=$cwd/f3393_500K_impdata_regenie_$(date +\"%Y-%m-%d\").sbatch\n",
    "phenoFile=$hearing_pheno_path/fulldb_500K/pleiotropy_AD_ARHI/071222_UKBB_Hearing_aid_f3393_expandedwhite_14734cases_236699ctrl_500k_PC1_PC2\n",
    "covarFile=$hearing_pheno_path/fulldb_500K/pleiotropy_AD_ARHI/071222_UKBB_Hearing_aid_f3393_expandedwhite_14734cases_236699ctrl_500k_PC1_PC2\n",
    "phenoCol=f3393\n",
    "covarCol=sex\n",
    "qCovarCol=\"age PC1 PC2\"\n",
    "bgenMinINFO=0.8\n",
    "bgenMinMAF=0.001\n",
    "minMAC=4\n",
    "maf_filter=0\n",
    "geno_filter=0\n",
    "hwe_filter=0\n",
    "mind_filter=0\n",
    "#Use the original bed files for the genotype array on regenie step1\n",
    "bfile=$UKBB_PATH/genotype_files_processed/090221_sample_variant_qc_final_callrate90/cache/UKB_genotypedatadownloaded083019.090221_sample_variant_qc_final_callrate90.filtered.extracted.bed\n",
    "# Use the imputed data hg19 to run the association analysis\n",
    "genoFile=`echo ~/UKBiobank_Yale_transfer/ukb39554_imputeddataset/ukb_imp_chr{1..22}_v3.bgen`\n",
    "sampleFile=$UKBB_yale/ukb39554_imputeddataset/ukb32285_imputedindiv.sample\n",
    "label_annotate=SNP\n",
    "lowmem_dir=$cwd/predictions\n",
    "\n",
    "lmm_args=\"\"\"regenie\n",
    "    --cwd $lmm_dir_regenie \n",
    "    --bfile $bfile \n",
    "    --genoFile $genoFile\n",
    "    --sampleFile $sampleFile\n",
    "    --phenoFile $phenoFile \n",
    "    --formatFile $formatFile_regenie \n",
    "    --phenoCol $phenoCol\n",
    "    --covarCol $covarCol  \n",
    "    --qCovarCol $qCovarCol\n",
    "    --bsize $bsize\n",
    "    --lowmem_dir $lowmem_dir\n",
    "    --trait $trait \n",
    "    --bgenMinMAF $bgenMinMAF \n",
    "    --bgenMinINFO $bgenMinINFO\n",
    "    --maf_filter $maf_filter\n",
    "    --geno_filter $geno_filter\n",
    "    --hwe_filter $hwe_filter\n",
    "    --mind_filter $mind_filter\n",
    "    --minMAC $minMAC\n",
    "    --job_size $lmm_job_size\n",
    "    --ylim $ylim\n",
    "    --label_annotate $label_annotate\n",
    "    --no-annotate\n",
    "    --reverse_log_p $reverse_log_p\n",
    "    --numThreads $numThreads\n",
    "    --container_lmm $container_lmm\n",
    "    --container_marp $container_marp\n",
    "\"\"\"\n",
    "\n",
    "sos run $USER_PATH/UKBB_GWAS_dev/admin/Get_Job_Script.ipynb csg\\\n",
    "    --template-file $tpl_file \\\n",
    "    --workflow-file $lmm_sos \\\n",
    "    --to-script $lmm_sbatch_regenie \\\n",
    "    --args \"$lmm_args\""
   ]
  },
  {
   "cell_type": "markdown",
   "id": "1a69cd0a-4228-4657-92a0-9bcc734b8251",
   "metadata": {},
   "source": [
    "#### f.2247"
   ]
  },
  {
   "cell_type": "code",
   "execution_count": 10,
   "id": "dd5c8f8a-2478-4f32-ab83-d5cdfa744386",
   "metadata": {
    "kernel": "Bash"
   },
   "outputs": [
    {
     "name": "stdout",
     "output_type": "stream",
     "text": [
      "INFO: Running \u001b[32mcsg\u001b[0m: Configuration for Columbia csg partition cluster\n",
      "INFO: \u001b[32mcsg\u001b[0m is \u001b[32mcompleted\u001b[0m.\n",
      "INFO: \u001b[32mcsg\u001b[0m output:   \u001b[32m/home/gl2776/UKBiobank/results/REGENIE_results/results_imputed_data/071222_500k_without_1415/f2247/f2247_500K_impdata_regenie_2022-07-12.sbatch\u001b[0m\n",
      "INFO: Workflow csg (ID=w329a5209646a2078) is executed successfully with 1 completed step.\n"
     ]
    }
   ],
   "source": [
    "cwd=~/UKBiobank/results/REGENIE_results/results_imputed_data/071222_500k_without_1415/f2247\n",
    "lmm_dir_regenie=$cwd\n",
    "lmm_sbatch_regenie=$cwd/f2247_500K_impdata_regenie_$(date +\"%Y-%m-%d\").sbatch\n",
    "phenoFile=$hearing_pheno_path/fulldb_500K/pleiotropy_AD_ARHI/071222_UKBB_Hearing_difficulty_f2247_expandedwhite_107994cases_236699ctrl_500k_PC1_PC2\n",
    "covarFile=$hearing_pheno_path/fulldb_500K/pleiotropy_AD_ARHI/071222_UKBB_Hearing_difficulty_f2247_expandedwhite_107994cases_236699ctrl_500k_PC1_PC2\n",
    "phenoCol=f2247\n",
    "covarCol=sex\n",
    "qCovarCol=\"age PC1 PC2\"\n",
    "bgenMinINFO=0.8\n",
    "bgenMinMAF=0.001\n",
    "minMAC=4\n",
    "maf_filter=0\n",
    "geno_filter=0\n",
    "hwe_filter=0\n",
    "mind_filter=0\n",
    "#Use the original bed files for the genotype array on regenie step1\n",
    "bfile=$UKBB_PATH/genotype_files_processed/090221_sample_variant_qc_final_callrate90/cache/UKB_genotypedatadownloaded083019.090221_sample_variant_qc_final_callrate90.filtered.extracted.bed\n",
    "# Use the imputed data hg19 to run the association analysis\n",
    "genoFile=`echo ~/UKBiobank_Yale_transfer/ukb39554_imputeddataset/ukb_imp_chr{1..22}_v3.bgen`\n",
    "sampleFile=$UKBB_yale/ukb39554_imputeddataset/ukb32285_imputedindiv.sample\n",
    "label_annotate=SNP\n",
    "lowmem_dir=$cwd/predictions\n",
    "\n",
    "lmm_args=\"\"\"regenie\n",
    "    --cwd $lmm_dir_regenie \n",
    "    --bfile $bfile \n",
    "    --genoFile $genoFile\n",
    "    --sampleFile $sampleFile\n",
    "    --phenoFile $phenoFile \n",
    "    --formatFile $formatFile_regenie \n",
    "    --phenoCol $phenoCol\n",
    "    --covarCol $covarCol  \n",
    "    --qCovarCol $qCovarCol\n",
    "    --bsize $bsize\n",
    "    --lowmem_dir $lowmem_dir\n",
    "    --trait $trait \n",
    "    --bgenMinMAF $bgenMinMAF \n",
    "    --bgenMinINFO $bgenMinINFO\n",
    "    --maf_filter $maf_filter\n",
    "    --geno_filter $geno_filter\n",
    "    --hwe_filter $hwe_filter\n",
    "    --mind_filter $mind_filter\n",
    "    --minMAC $minMAC\n",
    "    --job_size $lmm_job_size\n",
    "    --ylim $ylim\n",
    "    --label_annotate $label_annotate\n",
    "    --no-annotate\n",
    "    --reverse_log_p $reverse_log_p\n",
    "    --numThreads $numThreads\n",
    "    --container_lmm $container_lmm\n",
    "    --container_marp $container_marp\n",
    "\"\"\"\n",
    "\n",
    "sos run $USER_PATH/UKBB_GWAS_dev/admin/Get_Job_Script.ipynb csg\\\n",
    "    --template-file $tpl_file \\\n",
    "    --workflow-file $lmm_sos \\\n",
    "    --to-script $lmm_sbatch_regenie \\\n",
    "    --args \"$lmm_args\""
   ]
  },
  {
   "cell_type": "markdown",
   "id": "f1f9f774-3ce2-4508-b15d-47a2ec126cbf",
   "metadata": {},
   "source": [
    "#### f.2257"
   ]
  },
  {
   "cell_type": "code",
   "execution_count": 11,
   "id": "056f60c1-ec6b-48a1-a3e8-f6071d4f2987",
   "metadata": {
    "kernel": "Bash"
   },
   "outputs": [
    {
     "name": "stdout",
     "output_type": "stream",
     "text": [
      "INFO: Running \u001b[32mcsg\u001b[0m: Configuration for Columbia csg partition cluster\n",
      "INFO: \u001b[32mcsg\u001b[0m is \u001b[32mcompleted\u001b[0m.\n",
      "INFO: \u001b[32mcsg\u001b[0m output:   \u001b[32m/home/gl2776/UKBiobank/results/REGENIE_results/results_imputed_data/071222_500k_without_1415/f2257/f2257_500K_impdata_regenie_2022-07-12.sbatch\u001b[0m\n",
      "INFO: Workflow csg (ID=wdbffea273c2939f5) is executed successfully with 1 completed step.\n"
     ]
    }
   ],
   "source": [
    "cwd=~/UKBiobank/results/REGENIE_results/results_imputed_data/071222_500k_without_1415/f2257\n",
    "lmm_dir_regenie=$cwd\n",
    "lmm_sbatch_regenie=$cwd/f2257_500K_impdata_regenie_$(date +\"%Y-%m-%d\").sbatch\n",
    "phenoFile=$hearing_pheno_path/fulldb_500K/pleiotropy_AD_ARHI/071222_UKBB_Hearing_noise_f2257_expandedwhite_159033cases_236699ctrl_500k_PC1_PC2\n",
    "covarFile=$hearing_pheno_path/fulldb_500K/pleiotropy_AD_ARHI/071222_UKBB_Hearing_noise_f2257_expandedwhite_159033cases_236699ctrl_500k_PC1_PC2\n",
    "phenoCol=f2257\n",
    "covarCol=sex\n",
    "qCovarCol=\"age PC1 PC2\"\n",
    "bgenMinINFO=0.8\n",
    "bgenMinMAF=0.001\n",
    "minMAC=4\n",
    "maf_filter=0\n",
    "geno_filter=0\n",
    "hwe_filter=0\n",
    "mind_filter=0\n",
    "#Use the original bed files for the genotype array on regenie step1\n",
    "bfile=$UKBB_PATH/genotype_files_processed/090221_sample_variant_qc_final_callrate90/cache/UKB_genotypedatadownloaded083019.090221_sample_variant_qc_final_callrate90.filtered.extracted.bed\n",
    "# Use the imputed data hg19 to run the association analysis\n",
    "genoFile=`echo ~/UKBiobank_Yale_transfer/ukb39554_imputeddataset/ukb_imp_chr{1..22}_v3.bgen`\n",
    "sampleFile=$UKBB_yale/ukb39554_imputeddataset/ukb32285_imputedindiv.sample\n",
    "label_annotate=SNP\n",
    "lowmem_dir=$cwd/predictions\n",
    "\n",
    "lmm_args=\"\"\"regenie\n",
    "    --cwd $lmm_dir_regenie \n",
    "    --bfile $bfile \n",
    "    --genoFile $genoFile\n",
    "    --sampleFile $sampleFile\n",
    "    --phenoFile $phenoFile \n",
    "    --formatFile $formatFile_regenie \n",
    "    --phenoCol $phenoCol\n",
    "    --covarCol $covarCol  \n",
    "    --qCovarCol $qCovarCol\n",
    "    --bsize $bsize\n",
    "    --lowmem_dir $lowmem_dir\n",
    "    --trait $trait \n",
    "    --bgenMinMAF $bgenMinMAF \n",
    "    --bgenMinINFO $bgenMinINFO\n",
    "    --maf_filter $maf_filter\n",
    "    --geno_filter $geno_filter\n",
    "    --hwe_filter $hwe_filter\n",
    "    --mind_filter $mind_filter\n",
    "    --minMAC $minMAC\n",
    "    --job_size $lmm_job_size\n",
    "    --ylim $ylim\n",
    "    --label_annotate $label_annotate\n",
    "    --no-annotate\n",
    "    --reverse_log_p $reverse_log_p\n",
    "    --numThreads $numThreads\n",
    "    --container_lmm $container_lmm\n",
    "    --container_marp $container_marp\n",
    "\"\"\"\n",
    "\n",
    "sos run $USER_PATH/UKBB_GWAS_dev/admin/Get_Job_Script.ipynb csg\\\n",
    "    --template-file $tpl_file \\\n",
    "    --workflow-file $lmm_sos \\\n",
    "    --to-script $lmm_sbatch_regenie \\\n",
    "    --args \"$lmm_args\""
   ]
  },
  {
   "cell_type": "markdown",
   "id": "6564af65-8675-41e0-a629-4eff3f07bc29",
   "metadata": {},
   "source": [
    "#### Combined f.2247 & f.2257"
   ]
  },
  {
   "cell_type": "code",
   "execution_count": 12,
   "id": "87472b59-071d-4f0d-95eb-357edf376c4a",
   "metadata": {
    "kernel": "Bash"
   },
   "outputs": [
    {
     "name": "stdout",
     "output_type": "stream",
     "text": [
      "INFO: Running \u001b[32mcsg\u001b[0m: Configuration for Columbia csg partition cluster\n",
      "INFO: \u001b[32mcsg\u001b[0m is \u001b[32mcompleted\u001b[0m.\n",
      "INFO: \u001b[32mcsg\u001b[0m output:   \u001b[32m/home/gl2776/UKBiobank/results/REGENIE_results/results_imputed_data/071222_500k_without_1415/f2247_f2257/f2247_f2257_500K_impdata_regenie_2022-07-12.sbatch\u001b[0m\n",
      "INFO: Workflow csg (ID=w2037a78a2962a0b7) is executed successfully with 1 completed step.\n"
     ]
    }
   ],
   "source": [
    "cwd=~/UKBiobank/results/REGENIE_results/results_imputed_data/071222_500k_without_1415/f2247_f2257\n",
    "lmm_dir_regenie=$cwd\n",
    "lmm_sbatch_regenie=$cwd/f2247_f2257_500K_impdata_regenie_$(date +\"%Y-%m-%d\").sbatch\n",
    "phenoFile=$hearing_pheno_path/fulldb_500K/pleiotropy_AD_ARHI/071222_UKBB_Combined_f2247_f2257_expandedwhite_91092cases_236699ctrl_500k_PC1_PC2\n",
    "covarFile=$hearing_pheno_path/fulldb_500K/pleiotropy_AD_ARHI/071222_UKBB_Combined_f2247_f2257_expandedwhite_91092cases_236699ctrl_500k_PC1_PC2\n",
    "phenoCol=f2247_f2257\n",
    "covarCol=sex\n",
    "qCovarCol=\"age PC1 PC2\"\n",
    "bgenMinINFO=0.8\n",
    "bgenMinMAF=0.001\n",
    "minMAC=4\n",
    "maf_filter=0\n",
    "geno_filter=0\n",
    "hwe_filter=0\n",
    "mind_filter=0\n",
    "#Use the original bed files for the genotype array on regenie step1\n",
    "bfile=$UKBB_PATH/genotype_files_processed/090221_sample_variant_qc_final_callrate90/cache/UKB_genotypedatadownloaded083019.090221_sample_variant_qc_final_callrate90.filtered.extracted.bed\n",
    "# Use the imputed data hg19 to run the association analysis\n",
    "genoFile=`echo ~/UKBiobank_Yale_transfer/ukb39554_imputeddataset/ukb_imp_chr{1..22}_v3.bgen`\n",
    "sampleFile=$UKBB_yale/ukb39554_imputeddataset/ukb32285_imputedindiv.sample\n",
    "label_annotate=SNP\n",
    "lowmem_dir=$cwd/predictions\n",
    "\n",
    "lmm_args=\"\"\"regenie\n",
    "    --cwd $lmm_dir_regenie \n",
    "    --bfile $bfile \n",
    "    --genoFile $genoFile\n",
    "    --sampleFile $sampleFile\n",
    "    --phenoFile $phenoFile \n",
    "    --formatFile $formatFile_regenie \n",
    "    --phenoCol $phenoCol\n",
    "    --covarCol $covarCol  \n",
    "    --qCovarCol $qCovarCol\n",
    "    --bsize $bsize\n",
    "    --lowmem_dir $lowmem_dir\n",
    "    --trait $trait \n",
    "    --bgenMinMAF $bgenMinMAF \n",
    "    --bgenMinINFO $bgenMinINFO\n",
    "    --maf_filter $maf_filter\n",
    "    --geno_filter $geno_filter\n",
    "    --hwe_filter $hwe_filter\n",
    "    --mind_filter $mind_filter\n",
    "    --minMAC $minMAC\n",
    "    --job_size $lmm_job_size\n",
    "    --ylim $ylim\n",
    "    --label_annotate $label_annotate\n",
    "    --no-annotate\n",
    "    --reverse_log_p $reverse_log_p\n",
    "    --numThreads $numThreads\n",
    "    --container_lmm $container_lmm\n",
    "    --container_marp $container_marp\n",
    "\"\"\"\n",
    "\n",
    "sos run $USER_PATH/UKBB_GWAS_dev/admin/Get_Job_Script.ipynb csg\\\n",
    "    --template-file $tpl_file \\\n",
    "    --workflow-file $lmm_sos \\\n",
    "    --to-script $lmm_sbatch_regenie \\\n",
    "    --args \"$lmm_args\""
   ]
  },
  {
   "cell_type": "markdown",
   "id": "5e571e15-f51a-4a20-bf88-b3ec74976c2b",
   "metadata": {},
   "source": [
    "## Do liftover of summary stats for 300K imputed data for HI"
   ]
  },
  {
   "cell_type": "markdown",
   "id": "56d6b1b0-e7c4-4b71-b5fd-eb11269ee020",
   "metadata": {},
   "source": [
    "### f.3393"
   ]
  },
  {
   "cell_type": "code",
   "execution_count": 21,
   "id": "02269be4-87d9-4d63-b1f6-01827f47adb4",
   "metadata": {},
   "outputs": [
    {
     "name": "stdout",
     "output_type": "stream",
     "text": [
      "INFO: Running \u001b[32mcsg\u001b[0m: Configuration for Columbia csg partition cluster\n",
      "INFO: \u001b[32mcsg\u001b[0m is \u001b[32mcompleted\u001b[0m.\n",
      "INFO: \u001b[32mcsg\u001b[0m output:   \u001b[32m/home/dmc2245/project/UKBB_GWAS_dev/output/f3393_liftover_300K_2021-11-14.sbatch\u001b[0m\n",
      "INFO: Workflow csg (ID=wecd8e7289a8fac7e) is executed successfully with 1 completed step.\n"
     ]
    }
   ],
   "source": [
    "liftover_sos=~/project/UKBB_GWAS_dev/workflow/liftover_hg19tohg38.ipynb\n",
    "lmm_dir_regenie=$lmm_imp_dir_regenie/2021_10_13_f3393_300K/\n",
    "input_path=$lmm_imp_dir_regenie/2021_10_13_f3393_300K/100521_UKBB_Hearing_aid_f3393_expandedwhite_9165cases_141007ctrl_300k_PC1_PC2_f3393.regenie.snp_stats.gz\n",
    "liftover_sbatch=~/project/UKBB_GWAS_dev/output/f3393_liftover_300K_$(date +\"%Y-%m-%d\").sbatch\n",
    "\n",
    "liftover=\"\"\"default\n",
    "    --cwd $lmm_dir_regenie \n",
    "    --input_path $input_path\n",
    "    --container_lmm $container_lmm\n",
    "\"\"\"\n",
    "\n",
    "sos run ~/project/UKBB_GWAS_dev/admin/Get_Job_Script.ipynb csg\\\n",
    "    --template-file $tpl_file \\\n",
    "    --workflow-file $liftover_sos \\\n",
    "    --to-script $liftover_sbatch \\\n",
    "    --args \"$liftover\""
   ]
  },
  {
   "cell_type": "markdown",
   "id": "71305c68-0e6e-4ad1-a27b-1c401bf3ff07",
   "metadata": {},
   "source": [
    "### f.2247"
   ]
  },
  {
   "cell_type": "code",
   "execution_count": 29,
   "id": "7465475d-d0cb-4395-861d-7906b79556e9",
   "metadata": {},
   "outputs": [
    {
     "name": "stdout",
     "output_type": "stream",
     "text": [
      "INFO: Running \u001b[32mcsg\u001b[0m: Configuration for Columbia csg partition cluster\n",
      "INFO: \u001b[32mcsg\u001b[0m is \u001b[32mcompleted\u001b[0m.\n",
      "INFO: \u001b[32mcsg\u001b[0m output:   \u001b[32m/home/dmc2245/project/UKBB_GWAS_dev/output/f2247_liftover_300K_2021-11-14.sbatch\u001b[0m\n",
      "INFO: Workflow csg (ID=we1f3277392e2c31b) is executed successfully with 1 completed step.\n"
     ]
    }
   ],
   "source": [
    "liftover_sos=~/project/UKBB_GWAS_dev/workflow/liftover_hg19tohg38.ipynb\n",
    "lmm_dir_regenie=$lmm_imp_dir_regenie/2021_10_13_f2247_300K/\n",
    "input_path=$lmm_imp_dir_regenie/2021_10_13_f2247_300K/100521_UKBB_Hearing_difficulty_f2247_expandedwhite_64953cases_141007ctrl_300k_PC1_PC2_f2247.regenie.snp_stats.gz\n",
    "liftover_sbatch=~/project/UKBB_GWAS_dev/output/f2247_liftover_300K_$(date +\"%Y-%m-%d\").sbatch\n",
    "\n",
    "liftover=\"\"\"default\n",
    "    --cwd $lmm_dir_regenie \n",
    "    --input_path $input_path\n",
    "    --container_lmm $container_lmm\n",
    "\"\"\"\n",
    "\n",
    "sos run ~/project/UKBB_GWAS_dev/admin/Get_Job_Script.ipynb csg\\\n",
    "    --template-file $tpl_file \\\n",
    "    --workflow-file $liftover_sos \\\n",
    "    --to-script $liftover_sbatch \\\n",
    "    --args \"$liftover\""
   ]
  },
  {
   "cell_type": "markdown",
   "id": "8fc006e8-588a-4abe-a33a-ce831af95797",
   "metadata": {},
   "source": [
    "### f.2257"
   ]
  },
  {
   "cell_type": "code",
   "execution_count": 22,
   "id": "eac35403-5ab5-4821-930d-3069188fbc22",
   "metadata": {},
   "outputs": [
    {
     "name": "stdout",
     "output_type": "stream",
     "text": [
      "INFO: Running \u001b[32mcsg\u001b[0m: Configuration for Columbia csg partition cluster\n",
      "INFO: \u001b[32mcsg\u001b[0m is \u001b[32mcompleted\u001b[0m.\n",
      "INFO: \u001b[32mcsg\u001b[0m output:   \u001b[32m/home/dmc2245/project/UKBB_GWAS_dev/output/f2257_liftover_300K_2021-11-14.sbatch\u001b[0m\n",
      "INFO: Workflow csg (ID=w031d9249c62a2e2a) is executed successfully with 1 completed step.\n"
     ]
    }
   ],
   "source": [
    "liftover_sos=~/project/UKBB_GWAS_dev/workflow/liftover_hg19tohg38.ipynb\n",
    "lmm_dir_regenie=$lmm_imp_dir_regenie/2021_10_13_f2257_300K/\n",
    "input_path=$lmm_imp_dir_regenie/2021_10_13_f2257_300K/100521_UKBB_Hearing_noise_f2257_expandedwhite_95794cases_141007ctrl_300k_PC1_PC2_f2257.regenie.snp_stats.gz\n",
    "liftover_sbatch=~/project/UKBB_GWAS_dev/output/f2257_liftover_300K_$(date +\"%Y-%m-%d\").sbatch\n",
    "\n",
    "liftover=\"\"\"default\n",
    "    --cwd $lmm_dir_regenie \n",
    "    --input_path $input_path\n",
    "    --container_lmm $container_lmm\n",
    "\"\"\"\n",
    "\n",
    "sos run ~/project/UKBB_GWAS_dev/admin/Get_Job_Script.ipynb csg\\\n",
    "    --template-file $tpl_file \\\n",
    "    --workflow-file $liftover_sos \\\n",
    "    --to-script $liftover_sbatch \\\n",
    "    --args \"$liftover\""
   ]
  },
  {
   "cell_type": "markdown",
   "id": "8ea5ce67-b0e1-4e8c-81cd-e730c4970b74",
   "metadata": {},
   "source": [
    "### f.2247 & f.2257"
   ]
  },
  {
   "cell_type": "code",
   "execution_count": 23,
   "id": "cc80e120-7e77-4334-a74e-cdc0b9240857",
   "metadata": {},
   "outputs": [
    {
     "name": "stdout",
     "output_type": "stream",
     "text": [
      "INFO: Running \u001b[32mcsg\u001b[0m: Configuration for Columbia csg partition cluster\n",
      "INFO: \u001b[32mcsg\u001b[0m is \u001b[32mcompleted\u001b[0m.\n",
      "INFO: \u001b[32mcsg\u001b[0m output:   \u001b[32m/home/dmc2245/project/UKBB_GWAS_dev/output/f2247_f2257_liftover_300K_2021-11-14.sbatch\u001b[0m\n",
      "INFO: Workflow csg (ID=w22a470d981327bc2) is executed successfully with 1 completed step.\n"
     ]
    }
   ],
   "source": [
    "liftover_sos=~/project/UKBB_GWAS_dev/workflow/liftover_hg19tohg38.ipynb\n",
    "lmm_dir_regenie=$lmm_imp_dir_regenie/2021_10_13_f2247_f2257_300K/\n",
    "input_path=$lmm_imp_dir_regenie/2021_10_13_f2247_f2257_300K/100521_UKBB_Combined_f2247_f2257_expandedwhite_54853cases_141007ctrl_300k_PC1_PC2_f2247_f2257.regenie.snp_stats.gz\n",
    "liftover_sbatch=~/project/UKBB_GWAS_dev/output/f2247_f2257_liftover_300K_$(date +\"%Y-%m-%d\").sbatch\n",
    "\n",
    "liftover=\"\"\"default\n",
    "    --cwd $lmm_dir_regenie \n",
    "    --input_path $input_path\n",
    "    --container_lmm $container_lmm\n",
    "\"\"\"\n",
    "\n",
    "sos run ~/project/UKBB_GWAS_dev/admin/Get_Job_Script.ipynb csg\\\n",
    "    --template-file $tpl_file \\\n",
    "    --workflow-file $liftover_sos \\\n",
    "    --to-script $liftover_sbatch \\\n",
    "    --args \"$liftover\""
   ]
  },
  {
   "cell_type": "markdown",
   "id": "78af744d-c0cb-4cbc-861b-d037c2cb4a8f",
   "metadata": {},
   "source": [
    "## Do the hudson plot to illustrate the 200K exomes vs the 300K imputed data individuals"
   ]
  },
  {
   "cell_type": "markdown",
   "id": "cfacb75b-9301-4bf8-8665-5c3e6521ec88",
   "metadata": {},
   "source": [
    "### f.3393"
   ]
  },
  {
   "cell_type": "code",
   "execution_count": 33,
   "id": "79d403dc-d288-4040-815b-d16d8161b46a",
   "metadata": {},
   "outputs": [
    {
     "name": "stdout",
     "output_type": "stream",
     "text": [
      "INFO: Running \u001b[32mcsg\u001b[0m: Configuration for Columbia csg partition cluster\n",
      "INFO: \u001b[32mcsg\u001b[0m is \u001b[32mcompleted\u001b[0m.\n",
      "INFO: \u001b[32mcsg\u001b[0m output:   \u001b[32m/home/dmc2245/output/hudson/f3393_exome200K_imp300K_hg38_hudson_2021-11-14.sbatch\u001b[0m\n",
      "INFO: Workflow csg (ID=wf91a4e14d8a92db2) is executed successfully with 1 completed step.\n"
     ]
    }
   ],
   "source": [
    "hudson_sos=~/project/bioworkflows/GWAS/Hudson_Plot.ipynb\n",
    "hudson_dir=$UKBB_PATH/results/hudson_plots/f3393_200Kexome_300kimp_hg38\n",
    "hudson_sbatch=~/output/hudson/f3393_exome200K_imp300K_hg38_hudson_$(date +\"%Y-%m-%d\").sbatch\n",
    "sumstats_1=$UKBB_PATH/results/REGENIE_results/results_exome_data/090921_f3393_hearing_aid_200K/090321_UKBB_Hearing_aid_f3393_expandedwhite_6436cases_96601ctrl_PC1_2_f3393.regenie.snp_stats.gz\n",
    "sumstats_2=$UKBB_PATH/results/REGENIE_results/results_imputed_data/2021_10_13_f3393_300K/100521_UKBB_Hearing_aid_f3393_expandedwhite_9165cases_141007ctrl_300k_PC1_PC2_f3393.regenie.hg38.sumstats_mapped.gz\n",
    "toptitle=\"f3393_exome_200K\"\n",
    "bottomtitle=\"f3393_imputed_300K\"\n",
    "phenocol1=\"f3393_exome\"\n",
    "phenocol2=\"f3393_imp\"\n",
    "highlight_p_top=5e-08\n",
    "highlight_p_bottom=5e-08\n",
    "pval_filter=5e-08\n",
    "job_size=1\n",
    "container_lmm=~/containers/lmm.sif\n",
    "\n",
    "hudson_args=\"\"\"hudson\n",
    "    --cwd $hudson_dir\n",
    "    --sumstats_1 $sumstats_1\n",
    "    --sumstats_2 $sumstats_2\n",
    "    --toptitle $toptitle\n",
    "    --bottomtitle $bottomtitle\n",
    "    --phenocol1 $phenocol1\n",
    "    --phenocol2 $phenocol2\n",
    "    --job_size $job_size\n",
    "    --highlight_p_top $highlight_p_top\n",
    "    --highlight_p_bottom $highlight_p_bottom\n",
    "    --pval_filter $pval_filter\n",
    "    --container_lmm $container_lmm\n",
    "\"\"\"\n",
    "sos run ~/project/UKBB_GWAS_dev/admin/Get_Job_Script.ipynb  csg\\\n",
    "    --template-file $tpl_file \\\n",
    "    --workflow-file $hudson_sos \\\n",
    "    --to-script $hudson_sbatch \\\n",
    "    --args \"$hudson_args\""
   ]
  },
  {
   "cell_type": "markdown",
   "id": "01f87ccc-3bc5-4bee-ace0-7e5a53313cc4",
   "metadata": {},
   "source": [
    "### f.2247"
   ]
  },
  {
   "cell_type": "code",
   "execution_count": 34,
   "id": "10b60c46-9112-4f53-b708-927f0924590f",
   "metadata": {},
   "outputs": [
    {
     "name": "stdout",
     "output_type": "stream",
     "text": [
      "INFO: Running \u001b[32mcsg\u001b[0m: Configuration for Columbia csg partition cluster\n",
      "INFO: \u001b[32mcsg\u001b[0m is \u001b[32mcompleted\u001b[0m.\n",
      "INFO: \u001b[32mcsg\u001b[0m output:   \u001b[32m/home/dmc2245/output/hudson/f2247_imp300K_exome200K_hg38_hudson_2021-11-14.sbatch\u001b[0m\n",
      "INFO: Workflow csg (ID=w691d182dabd90aa1) is executed successfully with 1 completed step.\n"
     ]
    }
   ],
   "source": [
    "hudson_sos=~/project/bioworkflows/GWAS/Hudson_Plot.ipynb\n",
    "hudson_dir=$UKBB_PATH/results/hudson_plots/f2247_200Kexome_300kimp_hg38\n",
    "hudson_sbatch=~/output/hudson/f2247_imp300K_exome200K_hg38_hudson_$(date +\"%Y-%m-%d\").sbatch\n",
    "sumstats_1=$UKBB_PATH/results/REGENIE_results/results_exome_data/090921_f2247_hearing_difficulty_200K/090321_UKBB_Hearing_difficulty_f2247_expandedwhite_45502cases_96601ctrl_PC1_2_f2247.regenie.snp_stats.gz\n",
    "sumstats_2=$UKBB_PATH/results/REGENIE_results/results_imputed_data/2021_10_13_f2247_300K/*.sumstats_mapped.gz\n",
    "toptitle=\"f2247_exome_200K\"\n",
    "bottomtitle=\"f2247_imputed_300K\"\n",
    "phenocol1=\"f2247_exome\"\n",
    "phenocol2=\"f2247_imp\"\n",
    "highlight_p_top=5e-08\n",
    "highlight_p_bottom=5e-08\n",
    "pval_filter=5e-08\n",
    "job_size=1\n",
    "container_lmm=~/containers/lmm.sif\n",
    "\n",
    "hudson_args=\"\"\"hudson\n",
    "    --cwd $hudson_dir\n",
    "    --sumstats_1 $sumstats_1\n",
    "    --sumstats_2 $sumstats_2\n",
    "    --toptitle $toptitle\n",
    "    --bottomtitle $bottomtitle\n",
    "    --phenocol1 $phenocol1\n",
    "    --phenocol2 $phenocol2\n",
    "    --job_size $job_size\n",
    "    --highlight_p_top $highlight_p_top\n",
    "    --highlight_p_bottom $highlight_p_bottom\n",
    "    --pval_filter $pval_filter\n",
    "    --container_lmm $container_lmm\n",
    "\"\"\"\n",
    "sos run ~/project/UKBB_GWAS_dev/admin/Get_Job_Script.ipynb  csg\\\n",
    "    --template-file $tpl_file \\\n",
    "    --workflow-file $hudson_sos \\\n",
    "    --to-script $hudson_sbatch \\\n",
    "    --args \"$hudson_args\""
   ]
  },
  {
   "cell_type": "markdown",
   "id": "95896dcb-0a9f-4b61-a9d9-4617aa8a481a",
   "metadata": {},
   "source": [
    "### f.2257"
   ]
  },
  {
   "cell_type": "code",
   "execution_count": 31,
   "id": "ee4ebd69-ce07-4ec4-b2da-84b031171bb8",
   "metadata": {},
   "outputs": [
    {
     "name": "stdout",
     "output_type": "stream",
     "text": [
      "INFO: Running \u001b[32mcsg\u001b[0m: Configuration for Columbia csg partition cluster\n",
      "INFO: \u001b[32mcsg\u001b[0m is \u001b[32mcompleted\u001b[0m.\n",
      "INFO: \u001b[32mcsg\u001b[0m output:   \u001b[32m/home/dmc2245/output/hudson/f2257_exome200K_imp300K_hg38_hudson_2021-11-14.sbatch\u001b[0m\n",
      "INFO: Workflow csg (ID=w10d0794e6132b078) is executed successfully with 1 completed step.\n"
     ]
    }
   ],
   "source": [
    "hudson_sos=~/project/bioworkflows/GWAS/Hudson_Plot.ipynb\n",
    "hudson_dir=$UKBB_PATH/results/hudson_plots/f2257_200Kexome_300kimp_hg38\n",
    "hudson_sbatch=~/output/hudson/f2257_exome200K_imp300K_hg38_hudson_$(date +\"%Y-%m-%d\").sbatch\n",
    "sumstats_1=$UKBB_PATH/results/REGENIE_results/results_exome_data/090921_f2257_hearing_noise_200K/*.regenie.snp_stats.gz\n",
    "sumstats_2=$UKBB_PATH/results/REGENIE_results/results_imputed_data/2021_10_13_f2257_300K/*.sumstats_mapped.gz\n",
    "toptitle=\"f2257_exome_200K\"\n",
    "bottomtitle=\"f2257_imputed_300K\"\n",
    "phenocol1=\"f2257_exome\"\n",
    "phenocol2=\"f2257_imp\"\n",
    "highlight_p_top=5e-08\n",
    "highlight_p_bottom=5e-08\n",
    "pval_filter=5e-08\n",
    "job_size=1\n",
    "container_lmm=~/containers/lmm.sif\n",
    "\n",
    "hudson_args=\"\"\"hudson\n",
    "    --cwd $hudson_dir\n",
    "    --sumstats_1 $sumstats_1\n",
    "    --sumstats_2 $sumstats_2\n",
    "    --toptitle $toptitle\n",
    "    --bottomtitle $bottomtitle\n",
    "    --phenocol1 $phenocol1\n",
    "    --phenocol2 $phenocol2\n",
    "    --job_size $job_size\n",
    "    --highlight_p_top $highlight_p_top\n",
    "    --highlight_p_bottom $highlight_p_bottom\n",
    "    --pval_filter $pval_filter\n",
    "    --container_lmm $container_lmm\n",
    "\"\"\"\n",
    "sos run ~/project/UKBB_GWAS_dev/admin/Get_Job_Script.ipynb  csg\\\n",
    "    --template-file $tpl_file \\\n",
    "    --workflow-file $hudson_sos \\\n",
    "    --to-script $hudson_sbatch \\\n",
    "    --args \"$hudson_args\""
   ]
  },
  {
   "cell_type": "markdown",
   "id": "cf7c19bc-f6a5-4d5b-9e69-45b78ba7f672",
   "metadata": {},
   "source": [
    "### Combined f.2247 & f.2257"
   ]
  },
  {
   "cell_type": "code",
   "execution_count": 32,
   "id": "8be3ac99-66c5-4648-be94-befa374c6348",
   "metadata": {},
   "outputs": [
    {
     "name": "stdout",
     "output_type": "stream",
     "text": [
      "INFO: Running \u001b[32mcsg\u001b[0m: Configuration for Columbia csg partition cluster\n",
      "INFO: \u001b[32mcsg\u001b[0m is \u001b[32mcompleted\u001b[0m.\n",
      "INFO: \u001b[32mcsg\u001b[0m output:   \u001b[32m/home/dmc2245/output/hudson/f2247_f2257_exome200K_imp300K_hg38_hudson_2021-11-14.sbatch\u001b[0m\n",
      "INFO: Workflow csg (ID=w50811e04a77ee223) is executed successfully with 1 completed step.\n"
     ]
    }
   ],
   "source": [
    "hudson_sos=~/project/bioworkflows/GWAS/Hudson_Plot.ipynb\n",
    "hudson_dir=$UKBB_PATH/results/hudson_plots/f2247_f2257_200Kexome_300kimp_hg38\n",
    "hudson_sbatch=~/output/hudson/f2247_f2257_exome200K_imp300K_hg38_hudson_$(date +\"%Y-%m-%d\").sbatch\n",
    "sumstats_1=$UKBB_PATH/results/REGENIE_results/results_exome_data/090921_combined_f2247_f2257_200K/*.regenie.snp_stats.gz\n",
    "sumstats_2=$UKBB_PATH/results/REGENIE_results/results_imputed_data/2021_10_13_f2247_f2257_300K/*.sumstats_mapped.gz\n",
    "toptitle=\"combined_exome_200K\"\n",
    "bottomtitle=\"combined_imputed_300K\"\n",
    "phenocol1=\"f2247_f2257_exome\"\n",
    "phenocol2=\"f2247_f2257_imp\"\n",
    "highlight_p_top=5e-08\n",
    "highlight_p_bottom=5e-08\n",
    "pval_filter=5e-08\n",
    "job_size=1\n",
    "container_lmm=~/containers/lmm.sif\n",
    "\n",
    "hudson_args=\"\"\"hudson\n",
    "    --cwd $hudson_dir\n",
    "    --sumstats_1 $sumstats_1\n",
    "    --sumstats_2 $sumstats_2\n",
    "    --toptitle $toptitle\n",
    "    --bottomtitle $bottomtitle\n",
    "    --phenocol1 $phenocol1\n",
    "    --phenocol2 $phenocol2\n",
    "    --job_size $job_size\n",
    "    --highlight_p_top $highlight_p_top\n",
    "    --highlight_p_bottom $highlight_p_bottom\n",
    "    --pval_filter $pval_filter\n",
    "    --container_lmm $container_lmm\n",
    "\"\"\"\n",
    "sos run ~/project/UKBB_GWAS_dev/admin/Get_Job_Script.ipynb  csg\\\n",
    "    --template-file $tpl_file \\\n",
    "    --workflow-file $hudson_sos \\\n",
    "    --to-script $hudson_sbatch \\\n",
    "    --args \"$hudson_args\""
   ]
  },
  {
   "cell_type": "markdown",
   "id": "46ec4198-121c-4284-b73d-bc03c9c18ead",
   "metadata": {
    "kernel": "SoS"
   },
   "source": [
    "## Use Yin's pipeline to:\n",
    "\n",
    "1. Do liftover of the GRhC 37 coordinates of the imputed data to GRhC 38\n",
    "2. Merge imputed and exome genotype data\n",
    "3. Do fine mapping analysis. "
   ]
  },
  {
   "cell_type": "code",
   "execution_count": null,
   "id": "ceec5306-020f-4acc-a695-2643e2ef61bf",
   "metadata": {
    "kernel": "SoS"
   },
   "outputs": [],
   "source": []
  }
 ],
 "metadata": {
  "kernelspec": {
   "display_name": "Bash",
   "language": "bash",
   "name": "bash"
  },
  "language_info": {
   "codemirror_mode": "shell",
   "file_extension": ".sh",
   "mimetype": "text/x-sh",
   "name": "bash"
  },
  "sos": {
   "kernels": [
    [
     "Bash",
     "calysto_bash",
     "Bash",
     "#E6EEFF",
     "shell"
    ],
    [
     "SoS",
     "sos",
     "",
     "",
     "sos"
    ]
   ],
   "version": "0.22.6"
  },
  "toc-autonumbering": true
 },
 "nbformat": 4,
 "nbformat_minor": 5
}
