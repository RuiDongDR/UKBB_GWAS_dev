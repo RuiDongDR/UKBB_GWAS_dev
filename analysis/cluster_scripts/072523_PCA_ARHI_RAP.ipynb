{
 "cells": [
  {
   "cell_type": "markdown",
   "id": "581e01ee-1591-4b56-b4d9-cdae49d68b6f",
   "metadata": {
    "kernel": "SoS",
    "tags": []
   },
   "source": [
    "# Calculate the PCAs for the ARHI phenotypes to use in the RAP system"
   ]
  },
  {
   "cell_type": "code",
   "execution_count": 9,
   "id": "9447c86a-d4e7-4ec2-9fff-d2aeec45dcfe",
   "metadata": {
    "kernel": "SoS"
   },
   "outputs": [],
   "source": [
    "# Common variables Columbia's cluster\n",
    "UKBB_PATH=$HOME/UKBiobank\n",
    "UKBB_yale=$HOME/UKBiobank_Yale_transfer\n",
    "USER_PATH=$HOME/project\n",
    "container=$HOME/containers/lmm.sif\n",
    "container_marp=$HOME/containers/marp.sif\n",
    "container_annovar=$HOME/containers/gatk4-annovar.sif\n",
    "hearing_pheno_path=$UKBB_PATH/phenotype_files/hearing_impairment\n",
    "tpl_file=$USER_PATH/bioworkflows/admin/csg.yml\n",
    "formatFile_fastgwa=$USER_PATH/UKBB_GWAS_dev/data/fastGWA_template.yml\n",
    "formatFile_bolt=$USER_PATH/UKBB_GWAS_dev/data/boltlmm_template.yml\n",
    "formatFile_saige=$USER_PATH/UKBB_GWAS_dev/data/saige_template.yml\n",
    "formatFile_regenie=$USER_PATH/UKBB_GWAS_dev/data/regenie_template.yml"
   ]
  },
  {
   "cell_type": "markdown",
   "id": "0cb7a260-cacf-40d4-9339-ee90d7ff0355",
   "metadata": {
    "kernel": "SoS"
   },
   "source": [
    "# f3393 \n",
    "\n",
    "## Step1"
   ]
  },
  {
   "cell_type": "code",
   "execution_count": 10,
   "id": "d9aa07e4-a29f-4bf4-961a-b248219c8901",
   "metadata": {
    "kernel": "SoS"
   },
   "outputs": [
    {
     "name": "stdout",
     "output_type": "stream",
     "text": [
      "INFO: Running \u001b[32mcsg\u001b[0m: Configuration for Columbia csg partition cluster\n",
      "INFO: \u001b[32mcsg\u001b[0m is \u001b[32mcompleted\u001b[0m.\n",
      "INFO: \u001b[32mcsg\u001b[0m output:   \u001b[32m/home/dmc2245/UKBiobank/results/092821_PCA_results_500K/072523_f3393_pca_500K_imputed_RAP/qc1_f3393_qcarray_2023-07-25.sbatch\u001b[0m\n",
      "INFO: Workflow csg (ID=w1194fc8aef312acf) is executed successfully with 1 completed step.\n"
     ]
    }
   ],
   "source": [
    "## Columbia's cluster\n",
    "cwd=$UKBB_PATH/results/092821_PCA_results_500K/072523_f3393_pca_500K_imputed_RAP\n",
    "gwas_sbatch=$UKBB_PATH/results/092821_PCA_results_500K/072523_f3393_pca_500K_imputed_RAP/qc1_f3393_qcarray_$(date +\"%Y-%m-%d\").sbatch\n",
    "## Use qc'ed genotype array\n",
    "genoFile=$UKBB_PATH/genotype_files_processed/090221_sample_variant_qc_final_callrate90/cache/UKB_genotypedatadownloaded083019.090221_sample_variant_qc_final_callrate90.filtered.extracted.bed\n",
    "keep_samples=/mnt/vast/hpc/csg/UKBiobank/phenotype_files/HI_UKBB/072423_ARHI_phenotypes_RAP/072423_UKBB_Haid_f3393_expandedwhite_DMCS_251561ind.tsv\n",
    "#Keep variants after LD pruning\n",
    "keep_variants=$UKBB_PATH/results/092821_PCA_results_500K/092821_ldprun_unrelated/cache/*092821_ldprun_unrelated.filtered.prune.in\n",
    "\n",
    "#GWAS QC variables set all of this variables to 0 to avoid doing more filtering\n",
    "maf_filter=0\n",
    "geno_filter=0\n",
    "hwe_filter=0\n",
    "mind_filter=0\n",
    "numThreads=1\n",
    "mem='30G'\n",
    "job_size=1\n",
    "gwasqc_sos=$USER_PATH/xqtl-pipeline/code/data_preprocessing/genotype/GWAS_QC.ipynb\n",
    "\n",
    "gwasqc_args=\"\"\"qc:1\n",
    "    --cwd $cwd\n",
    "    --genoFile $genoFile\n",
    "    --keep_samples $keep_samples\n",
    "    --keep_variants $keep_variants\n",
    "    --maf_filter $maf_filter\n",
    "    --geno_filter $geno_filter\n",
    "    --hwe_filter $hwe_filter\n",
    "    --mind_filter $mind_filter\n",
    "    --numThreads $numThreads \n",
    "    --job_size $job_size\n",
    "    --container $container\n",
    "    --mem $mem\n",
    "\"\"\"\n",
    "\n",
    "sos run $USER_PATH/UKBB_GWAS_dev/admin/Get_Job_Script.ipynb csg \\\n",
    "    --template-file $tpl_file \\\n",
    "    --workflow-file $gwasqc_sos \\\n",
    "    --to-script $gwas_sbatch \\\n",
    "    --args \"$gwasqc_args\""
   ]
  },
  {
   "cell_type": "code",
   "execution_count": 18,
   "id": "16f913fe-4259-4de7-b077-c3fd4b3b79b9",
   "metadata": {},
   "outputs": [
    {
     "name": "stdout",
     "output_type": "stream",
     "text": [
      "PLINK v2.00a4LM 64-bit Intel (11 Apr 2023)     www.cog-genomics.org/plink/2.0/\n",
      "(C) 2005-2023 Shaun Purcell, Christopher Chang   GNU General Public License v3\n",
      "Logging to /home/dmc2245/UKBiobank/results/092821_PCA_results_500K/072523_f3393_pca_500K_imputed_RAP/UKB_genotypedatadownloaded083019.090221_sample_variant_qc_final_callrate90.filtered.extracted.filtered.extracted.log.\n",
      "Options in effect:\n",
      "  --bfile /home/dmc2245/UKBiobank/genotype_files_processed/090221_sample_variant_qc_final_callrate90/cache/UKB_genotypedatadownloaded083019.090221_sample_variant_qc_final_callrate90.filtered.extracted\n",
      "  --extract /home/dmc2245/UKBiobank/results/092821_PCA_results_500K/092821_ldprun_unrelated/cache/UKB_genotypedatadownloaded083019.090221_sample_variant_qc_final_callrate90.filtered.extracted.white_europeans.filtered.092821_ldprun_unrelated.filtered.prune.in\n",
      "  --keep /mnt/vast/hpc/csg/UKBiobank/phenotype_files/HI_UKBB/072423_ARHI_phenotypes_RAP/072423_UKBB_Haid_f3393_expandedwhite_DMCS_251561ind.tsv\n",
      "  --make-bed\n",
      "  --memory 27000.0\n",
      "  --new-id-max-allele-len 1000\n",
      "  --out /home/dmc2245/UKBiobank/results/092821_PCA_results_500K/072523_f3393_pca_500K_imputed_RAP/UKB_genotypedatadownloaded083019.090221_sample_variant_qc_final_callrate90.filtered.extracted.filtered.extracted\n",
      "  --threads 1\n",
      "\n",
      "Start time: Tue Jul 25 16:53:48 2023\n",
      "515665 MiB RAM detected, ~486190 available; reserving 27000 MiB for main\n",
      "workspace.\n",
      "Using 1 compute thread.\n",
      "486416 samples (263776 females, 222640 males; 486416 founders) loaded from\n",
      "/home/dmc2245/UKBiobank/genotype_files_processed/090221_sample_variant_qc_final_callrate90/cache/UKB_genotypedatadownloaded083019.090221_sample_variant_qc_final_callrate90.filtered.extracted.fam.\n",
      "429453 variants loaded from\n",
      "/home/dmc2245/UKBiobank/genotype_files_processed/090221_sample_variant_qc_final_callrate90/cache/UKB_genotypedatadownloaded083019.090221_sample_variant_qc_final_callrate90.filtered.extracted.bim.\n",
      "Note: No phenotype data present.\n",
      "--extract: 145017 variants remaining.\n",
      "--keep: 251561 samples remaining.\n",
      "251561 samples (147866 females, 103695 males; 251561 founders) remaining after\n",
      "main filters.\n",
      "145017 variants remaining after main filters.\n",
      "Writing\n",
      "/home/dmc2245/UKBiobank/results/092821_PCA_results_500K/072523_f3393_pca_500K_imputed_RAP/UKB_genotypedatadownloaded083019.090221_sample_variant_qc_final_callrate90.filtered.extracted.filtered.extracted.fam\n",
      "... done.\n",
      "Writing\n",
      "/home/dmc2245/UKBiobank/results/092821_PCA_results_500K/072523_f3393_pca_500K_imputed_RAP/UKB_genotypedatadownloaded083019.090221_sample_variant_qc_final_callrate90.filtered.extracted.filtered.extracted.bim\n",
      "... done.\n",
      "Writing\n",
      "/home/dmc2245/UKBiobank/results/092821_PCA_results_500K/072523_f3393_pca_500K_imputed_RAP/UKB_genotypedatadownloaded083019.090221_sample_variant_qc_final_callrate90.filtered.extracted.filtered.extracted.bed\n",
      "... 111519222630343740444852565963677175798387919599done.\n",
      "End time: Tue Jul 25 20:03:16 2023\n"
     ]
    }
   ],
   "source": [
    "module load Plink/2.00a\n",
    " plink2 --bfile /home/dmc2245/UKBiobank/genotype_files_processed/090221_sample_variant_qc_final_callrate90/cache/UKB_genotypedatadownloaded083019.090221_sample_variant_qc_final_callrate90.filtered.extracted \\\n",
    "  --extract /home/dmc2245/UKBiobank/results/092821_PCA_results_500K/092821_ldprun_unrelated/cache/UKB_genotypedatadownloaded083019.090221_sample_variant_qc_final_callrate90.filtered.extracted.white_europeans.filtered.092821_ldprun_unrelated.filtered.prune.in \\\n",
    "  --keep /mnt/vast/hpc/csg/UKBiobank/phenotype_files/HI_UKBB/072423_ARHI_phenotypes_RAP/072423_UKBB_Haid_f3393_expandedwhite_DMCS_251561ind.tsv \\\n",
    "  --make-bed \\\n",
    "  --memory 27000.0 \\\n",
    "  --new-id-max-allele-len 1000 \\\n",
    "  --out /home/dmc2245/UKBiobank/results/092821_PCA_results_500K/072523_f3393_pca_500K_imputed_RAP/UKB_genotypedatadownloaded083019.090221_sample_variant_qc_final_callrate90.filtered.extracted.filtered.extracted \\\n",
    "  --threads 1"
   ]
  },
  {
   "cell_type": "markdown",
   "id": "32f073b7-8be1-47b3-9c7f-2396b2da883a",
   "metadata": {
    "kernel": "SoS"
   },
   "source": [
    "## Step 2"
   ]
  },
  {
   "cell_type": "code",
   "execution_count": 22,
   "id": "573c5dc0-c00a-4c7e-839f-b23ccde39a4b",
   "metadata": {
    "kernel": "SoS"
   },
   "outputs": [
    {
     "name": "stdout",
     "output_type": "stream",
     "text": [
      "INFO: Running \u001b[32mcsg\u001b[0m: Configuration for Columbia csg partition cluster\n",
      "INFO: \u001b[32mcsg\u001b[0m is \u001b[32mcompleted\u001b[0m.\n",
      "INFO: \u001b[32mcsg\u001b[0m output:   \u001b[32m/home/dmc2245/UKBiobank/results/092821_PCA_results_500K/072523_f3393_pca_500K_imputed_RAP/flashpca_f3393_pc_2023-07-26.sbatch\u001b[0m\n",
      "INFO: Workflow csg (ID=wfce1448e339e5fd7) is executed successfully with 1 completed step.\n"
     ]
    }
   ],
   "source": [
    "## Columbia's cluster\n",
    "cwd=$UKBB_PATH/results/092821_PCA_results_500K/072523_f3393_pca_500K_imputed_RAP\n",
    "#This is the bfile obtained in step 1\n",
    "genoFile=$UKBB_PATH/results/092821_PCA_results_500K/072523_f3393_pca_500K_imputed_RAP/*.bed\n",
    "# Format FID, IID, pop\n",
    "phenoFile=/mnt/vast/hpc/csg/UKBiobank/phenotype_files/HI_UKBB/072423_ARHI_phenotypes_RAP/072423_UKBB_Haid_f3393_expandedwhite_DMCS_251561ind.phenopca\n",
    "label_col=ethnicity\n",
    "pop_col=ethnicity\n",
    "pca_sbatch=$UKBB_PATH/results/092821_PCA_results_500K/072523_f3393_pca_500K_imputed_RAP/flashpca_f3393_pc_$(date +\"%Y-%m-%d\").sbatch\n",
    "k=4\n",
    "min_axis=\"\"\n",
    "max_axis=\"\"\n",
    "job_size=1\n",
    "pca_sos=$USER_PATH/xqtl-pipeline/code/data_preprocessing/genotype/PCA.ipynb\n",
    "\n",
    "pca_args=\"\"\"flashpca\n",
    "    --cwd $cwd\n",
    "    --genoFile $genoFile\n",
    "    --phenoFile $phenoFile\n",
    "    --k $k\n",
    "    --label_col $label_col\n",
    "    --pop_col $pop_col\n",
    "    --min_axis $min_axis\n",
    "    --max_axis $max_axis\n",
    "    --numThreads $numThreads \n",
    "    --job_size $job_size\n",
    "    --container $container\n",
    "\"\"\"\n",
    "\n",
    "sos run $USER_PATH/UKBB_GWAS_dev/admin/Get_Job_Script.ipynb csg \\\n",
    "    --template-file $tpl_file \\\n",
    "    --workflow-file $pca_sos \\\n",
    "    --to-script $pca_sbatch \\\n",
    "    --args \"$pca_args\""
   ]
  },
  {
   "cell_type": "markdown",
   "id": "462b77ae-c0c7-4df0-acc2-0f69e64df1b6",
   "metadata": {},
   "source": [
    "# f2247\n",
    "\n",
    "## Step 1"
   ]
  },
  {
   "cell_type": "code",
   "execution_count": 16,
   "id": "5a52d486-3e70-499f-8e85-0b51193b4cdc",
   "metadata": {},
   "outputs": [
    {
     "name": "stdout",
     "output_type": "stream",
     "text": [
      "INFO: Running \u001b[32mcsg\u001b[0m: Configuration for Columbia csg partition cluster\n",
      "INFO: \u001b[32mcsg\u001b[0m is \u001b[32mcompleted\u001b[0m.\n",
      "INFO: \u001b[32mcsg\u001b[0m output:   \u001b[32m/home/dmc2245/UKBiobank/results/092821_PCA_results_500K/072523_f2247_pca_500K_imputed_RAP/qc1_f2247_qcarray_2023-07-25.sbatch\u001b[0m\n",
      "INFO: Workflow csg (ID=w84f413ab96248cc3) is executed successfully with 1 completed step.\n"
     ]
    }
   ],
   "source": [
    "## Columbia's cluster\n",
    "cwd=$UKBB_PATH/results/092821_PCA_results_500K/072523_f2247_pca_500K_imputed_RAP\n",
    "gwas_sbatch=$UKBB_PATH/results/092821_PCA_results_500K/072523_f2247_pca_500K_imputed_RAP/qc1_f2247_qcarray_$(date +\"%Y-%m-%d\").sbatch\n",
    "## Use qc'ed genotype array\n",
    "genoFile=$UKBB_PATH/genotype_files_processed/090221_sample_variant_qc_final_callrate90/cache/UKB_genotypedatadownloaded083019.090221_sample_variant_qc_final_callrate90.filtered.extracted.bed\n",
    "keep_samples=/mnt/vast/hpc/csg/UKBiobank/phenotype_files/HI_UKBB/072423_ARHI_phenotypes_RAP/072423_UKBB_Hdiff_2247_expandedwhite_DMCS_346667ind.phenopca\n",
    "#Keep variants after LD pruning\n",
    "keep_variants=$UKBB_PATH/results/092821_PCA_results_500K/092821_ldprun_unrelated/cache/*092821_ldprun_unrelated.filtered.prune.in\n",
    "\n",
    "#GWAS QC variables set all of this variables to 0 to avoid doing more filtering\n",
    "maf_filter=0\n",
    "geno_filter=0\n",
    "hwe_filter=0\n",
    "mind_filter=0\n",
    "numThreads=1\n",
    "mem='30G'\n",
    "job_size=1\n",
    "gwasqc_sos=$USER_PATH/xqtl-pipeline/code/data_preprocessing/genotype/GWAS_QC.ipynb\n",
    "\n",
    "gwasqc_args=\"\"\"qc:1\n",
    "    --cwd $cwd\n",
    "    --genoFile $genoFile\n",
    "    --keep_samples $keep_samples\n",
    "    --keep_variants $keep_variants\n",
    "    --maf_filter $maf_filter\n",
    "    --geno_filter $geno_filter\n",
    "    --hwe_filter $hwe_filter\n",
    "    --mind_filter $mind_filter\n",
    "    --numThreads $numThreads \n",
    "    --job_size $job_size\n",
    "    --container $container\n",
    "    --mem $mem\n",
    "\"\"\"\n",
    "\n",
    "sos run $USER_PATH/UKBB_GWAS_dev/admin/Get_Job_Script.ipynb csg \\\n",
    "    --template-file $tpl_file \\\n",
    "    --workflow-file $gwasqc_sos \\\n",
    "    --to-script $gwas_sbatch \\\n",
    "    --args \"$gwasqc_args\""
   ]
  },
  {
   "cell_type": "code",
   "execution_count": null,
   "id": "a589aafb-3f55-4578-bb4c-8f93570c3721",
   "metadata": {},
   "outputs": [],
   "source": [
    "#!/bin/sh\n",
    "#$ -l h_rt=36:00:00\n",
    "#$ -l h_vmem=3G\n",
    "#$ -N UKBB_Hdiff_2247_expandedwhite_DMCS_346667ind\n",
    "#$ -o /home/dmc2245/UKBiobank/results/092821_PCA_results_500K/072523_f2247_pca_500K_imputed_RAP/qc1_f2247_qcarray-$JOB_ID.out\n",
    "#$ -e /home/dmc2245/UKBiobank/results/092821_PCA_results_500K/072523_f2247_pca_500K_imputed_RAP/qc1_f2247_qcarray-$JOB_ID.err\n",
    "#$ -j y\n",
    "#$ -q csg.q\n",
    "#$ -S /bin/bash\n",
    "\n",
    "export PATH=$HOME/miniconda3/bin:$PATH\n",
    "module load Plink/2.00a\n",
    " plink2 --bfile /home/dmc2245/UKBiobank/genotype_files_processed/090221_sample_variant_qc_final_callrate90/cache/UKB_genotypedatadownloaded083019.090221_sample_variant_qc_final_callrate90.filtered.extracted \\\n",
    "  --extract /home/dmc2245/UKBiobank/results/092821_PCA_results_500K/092821_ldprun_unrelated/cache/UKB_genotypedatadownloaded083019.090221_sample_variant_qc_final_callrate90.filtered.extracted.white_europeans.filtered.092821_ldprun_unrelated.filtered.prune.in \\\n",
    "  --keep /mnt/vast/hpc/csg/UKBiobank/phenotype_files/HI_UKBB/072423_ARHI_phenotypes_RAP/072423_UKBB_Hdiff_2247_expandedwhite_DMCS_346667ind.phenopca \\\n",
    "  --make-bed \\\n",
    "  --memory 27000.0 \\\n",
    "  --new-id-max-allele-len 1000 \\\n",
    "  --out /home/dmc2245/UKBiobank/results/092821_PCA_results_500K/072523_f2247_pca_500K_imputed_RAP/UKB_genotypedatadownloaded083019.090221_sample_variant_qc_final_callrate90.filtered.extracted.filtered.extracted \\\n",
    "  --threads 1"
   ]
  },
  {
   "cell_type": "markdown",
   "id": "c2bee947-2669-41b4-b705-677096cf3de4",
   "metadata": {},
   "source": [
    "## Step 2"
   ]
  },
  {
   "cell_type": "code",
   "execution_count": 23,
   "id": "1c2b19c1-60e3-4534-b4d8-436216559a97",
   "metadata": {},
   "outputs": [
    {
     "name": "stdout",
     "output_type": "stream",
     "text": [
      "INFO: Running \u001b[32mcsg\u001b[0m: Configuration for Columbia csg partition cluster\n",
      "INFO: \u001b[32mcsg\u001b[0m is \u001b[32mcompleted\u001b[0m.\n",
      "INFO: \u001b[32mcsg\u001b[0m output:   \u001b[32m/home/dmc2245/UKBiobank/results/092821_PCA_results_500K/072523_f2247_pca_500K_imputed_RAP/flashpca_f2247_pc_2023-07-26.sbatch\u001b[0m\n",
      "INFO: Workflow csg (ID=w13b49e1e3aa46d36) is executed successfully with 1 completed step.\n"
     ]
    }
   ],
   "source": [
    "## Columbia's cluster\n",
    "cwd=$UKBB_PATH/results/092821_PCA_results_500K/072523_f2247_pca_500K_imputed_RAP\n",
    "pca_sbatch=$UKBB_PATH/results/092821_PCA_results_500K/072523_f2247_pca_500K_imputed_RAP/flashpca_f2247_pc_$(date +\"%Y-%m-%d\").sbatch\n",
    "#This is the bfile obtained in step 1\n",
    "genoFile=$UKBB_PATH/results/092821_PCA_results_500K/072523_f2247_pca_500K_imputed_RAP/*.bed\n",
    "# Format FID, IID, pop\n",
    "phenoFile=/mnt/vast/hpc/csg/UKBiobank/phenotype_files/HI_UKBB/072423_ARHI_phenotypes_RAP/072423_UKBB_Hdiff_2247_expandedwhite_DMCS_346667ind.phenopca\n",
    "label_col=ethnicity\n",
    "pop_col=ethnicity\n",
    "k=4\n",
    "min_axis=\"\"\n",
    "max_axis=\"\"\n",
    "job_size=1\n",
    "pca_sos=$USER_PATH/xqtl-pipeline/code/data_preprocessing/genotype/PCA.ipynb\n",
    "\n",
    "pca_args=\"\"\"flashpca\n",
    "    --cwd $cwd\n",
    "    --genoFile $genoFile\n",
    "    --phenoFile $phenoFile\n",
    "    --k $k\n",
    "    --label_col $label_col\n",
    "    --pop_col $pop_col\n",
    "    --min_axis $min_axis\n",
    "    --max_axis $max_axis\n",
    "    --numThreads $numThreads \n",
    "    --job_size $job_size\n",
    "    --container $container\n",
    "\"\"\"\n",
    "\n",
    "sos run  $USER_PATH/UKBB_GWAS_dev/admin/Get_Job_Script.ipynb csg\\\n",
    "    --template-file $tpl_file \\\n",
    "    --workflow-file $pca_sos \\\n",
    "    --to-script $pca_sbatch \\\n",
    "    --args \"$pca_args\""
   ]
  },
  {
   "cell_type": "markdown",
   "id": "7bba276c-8d5e-4108-9d47-9095f55b864b",
   "metadata": {},
   "source": [
    "# f2257\n",
    "\n",
    "## Step 1"
   ]
  },
  {
   "cell_type": "code",
   "execution_count": null,
   "id": "139d0113-4dce-4e15-98a2-e7d617587757",
   "metadata": {},
   "outputs": [],
   "source": [
    "## Columbia's cluster\n",
    "cwd=$UKBB_PATH/results/092821_PCA_results_500K/072523_f2257_pca_500K_imputed_RAP\n",
    "gwas_sbatch=$UKBB_PATH/results/092821_PCA_results_500K/072523_f2257_pca_500K_imputed_RAP/qc1_f2257_qcarray_$(date +\"%Y-%m-%d\").sbatch\n",
    "## Use qc'ed genotype array\n",
    "genoFile=$UKBB_PATH/genotype_files_processed/090221_sample_variant_qc_final_callrate90/cache/UKB_genotypedatadownloaded083019.090221_sample_variant_qc_final_callrate90.filtered.extracted.bed\n",
    "keep_samples=/mnt/vast/hpc/csg/UKBiobank/phenotype_files/HI_UKBB/072423_ARHI_phenotypes_RAP/072423_UKBB_Hnoise_f2257_expandedwhite_DMCS_397027ind.phenopca\n",
    "#Keep variants after LD pruning\n",
    "keep_variants=$UKBB_PATH/results/092821_PCA_results_500K/092821_ldprun_unrelated/cache/*092821_ldprun_unrelated.filtered.prune.in\n",
    "\n",
    "#GWAS QC variables set all of this variables to 0 to avoid doing more filtering\n",
    "maf_filter=0\n",
    "geno_filter=0\n",
    "hwe_filter=0\n",
    "mind_filter=0\n",
    "numThreads=1\n",
    "mem='30G'\n",
    "job_size=1\n",
    "gwasqc_sos=$USER_PATH/xqtl-pipeline/code/data_preprocessing/genotype/GWAS_QC.ipynb\n",
    "\n",
    "gwasqc_args=\"\"\"qc:1\n",
    "    --cwd $cwd\n",
    "    --genoFile $genoFile\n",
    "    --keep_samples $keep_samples\n",
    "    --keep_variants $keep_variants\n",
    "    --maf_filter $maf_filter\n",
    "    --geno_filter $geno_filter\n",
    "    --hwe_filter $hwe_filter\n",
    "    --mind_filter $mind_filter\n",
    "    --numThreads $numThreads \n",
    "    --job_size $job_size\n",
    "    --container $container\n",
    "    --mem $mem\n",
    "\"\"\"\n",
    "\n",
    "sos run $USER_PATH/UKBB_GWAS_dev/admin/Get_Job_Script.ipynb csg \\\n",
    "    --template-file $tpl_file \\\n",
    "    --workflow-file $gwasqc_sos \\\n",
    "    --to-script $gwas_sbatch \\\n",
    "    --args \"$gwasqc_args\""
   ]
  },
  {
   "cell_type": "code",
   "execution_count": null,
   "id": "e77034a6-03bc-42bb-8e25-61c83f91f692",
   "metadata": {},
   "outputs": [],
   "source": [
    "#!/bin/sh\n",
    "#$ -l h_rt=36:00:00\n",
    "#$ -l h_vmem=3G\n",
    "#$ -N UKBB_Hnoise_f2257_expandedwhite_DMCS_397027ind\n",
    "#$ -o /home/dmc2245/UKBiobank/results/092821_PCA_results_500K/072523_f2257_pca_500K_imputed_RAP/qc1_f2257_qcarray-$JOB_ID.out\n",
    "#$ -e /home/dmc2245/UKBiobank/results/092821_PCA_results_500K/072523_f2257_pca_500K_imputed_RAP/qc1_f2257_qcarray-$JOB_ID.err\n",
    "#$ -j y\n",
    "#$ -q csg.q\n",
    "#$ -S /bin/bash\n",
    "\n",
    "export PATH=$HOME/miniconda3/bin:$PATH\n",
    "module load Plink/2.00a\n",
    " plink2 --bfile /home/dmc2245/UKBiobank/genotype_files_processed/090221_sample_variant_qc_final_callrate90/cache/UKB_genotypedatadownloaded083019.090221_sample_variant_qc_final_callrate90.filtered.extracted \\\n",
    "  --extract /home/dmc2245/UKBiobank/results/092821_PCA_results_500K/092821_ldprun_unrelated/cache/UKB_genotypedatadownloaded083019.090221_sample_variant_qc_final_callrate90.filtered.extracted.white_europeans.filtered.092821_ldprun_unrelated.filtered.prune.in \\\n",
    "  --keep /mnt/vast/hpc/csg/UKBiobank/phenotype_files/HI_UKBB/072423_ARHI_phenotypes_RAP/072423_UKBB_Hnoise_f2257_expandedwhite_DMCS_397027ind.phenopca \\\n",
    "  --make-bed \\\n",
    "  --memory 27000.0 \\\n",
    "  --new-id-max-allele-len 1000 \\\n",
    "  --out /home/dmc2245/UKBiobank/results/092821_PCA_results_500K/072523_f2257_pca_500K_imputed_RAP/UKB_genotypedatadownloaded083019.090221_sample_variant_qc_final_callrate90.filtered.extracted.filtered.extracted \\\n",
    "  --threads 10"
   ]
  },
  {
   "cell_type": "markdown",
   "id": "ef31551b-993f-4ac4-ae59-7b07c8d5d7ec",
   "metadata": {},
   "source": [
    "## Step 2"
   ]
  },
  {
   "cell_type": "code",
   "execution_count": 24,
   "id": "ff3ddced-b1fa-4eb3-918d-8c42841e5530",
   "metadata": {},
   "outputs": [
    {
     "name": "stdout",
     "output_type": "stream",
     "text": [
      "INFO: Running \u001b[32mcsg\u001b[0m: Configuration for Columbia csg partition cluster\n",
      "INFO: \u001b[32mcsg\u001b[0m is \u001b[32mcompleted\u001b[0m.\n",
      "INFO: \u001b[32mcsg\u001b[0m output:   \u001b[32m/home/dmc2245/UKBiobank/results/092821_PCA_results_500K/072523_f2257_pca_500K_imputed_RAP/flashpca_f2257_pc_2023-07-26.sbatch\u001b[0m\n",
      "INFO: Workflow csg (ID=wd41ad62f6549be09) is executed successfully with 1 completed step.\n"
     ]
    }
   ],
   "source": [
    "## Columbia's cluster\n",
    "cwd=$UKBB_PATH/results/092821_PCA_results_500K/072523_f2257_pca_500K_imputed_RAP\n",
    "pca_sbatch=$UKBB_PATH/results/092821_PCA_results_500K/072523_f2257_pca_500K_imputed_RAP/flashpca_f2257_pc_$(date +\"%Y-%m-%d\").sbatch\n",
    "#This is the bfile obtained in step 1\n",
    "genoFile=$UKBB_PATH/results/092821_PCA_results_500K/072523_f2257_pca_500K_imputed_RAP/*.bed\n",
    "# Format FID, IID, pop\n",
    "phenoFile=/mnt/vast/hpc/csg/UKBiobank/phenotype_files/HI_UKBB/072423_ARHI_phenotypes_RAP/072423_UKBB_Hnoise_f2257_expandedwhite_DMCS_397027ind.phenopca\n",
    "label_col=ethnicity\n",
    "pop_col=ethnicity\n",
    "k=4\n",
    "min_axis=\"\"\n",
    "max_axis=\"\"\n",
    "job_size=1\n",
    "pca_sos=$USER_PATH/xqtl-pipeline/code/data_preprocessing/genotype/PCA.ipynb\n",
    "\n",
    "pca_args=\"\"\"flashpca\n",
    "    --cwd $cwd\n",
    "    --genoFile $genoFile\n",
    "    --phenoFile $phenoFile\n",
    "    --k $k\n",
    "    --label_col $label_col\n",
    "    --pop_col $pop_col\n",
    "    --min_axis $min_axis\n",
    "    --max_axis $max_axis\n",
    "    --numThreads $numThreads \n",
    "    --job_size $job_size\n",
    "    --container $container\n",
    "\"\"\"\n",
    "\n",
    "sos run  $USER_PATH/UKBB_GWAS_dev/admin/Get_Job_Script.ipynb csg\\\n",
    "    --template-file $tpl_file \\\n",
    "    --workflow-file $pca_sos \\\n",
    "    --to-script $pca_sbatch \\\n",
    "    --args \"$pca_args\""
   ]
  },
  {
   "cell_type": "markdown",
   "id": "37e84163-a140-4407-83bc-caeb653f3a10",
   "metadata": {
    "kernel": "Bash"
   },
   "source": [
    "# Combined f.2247 & f.2257\n",
    "\n",
    "## Step 1"
   ]
  },
  {
   "cell_type": "code",
   "execution_count": 12,
   "id": "13746734-52e7-4216-804d-b72e5bbb8b91",
   "metadata": {
    "kernel": "Bash"
   },
   "outputs": [
    {
     "name": "stdout",
     "output_type": "stream",
     "text": [
      "INFO: Running \u001b[32mcsg\u001b[0m: Configuration for Columbia csg partition cluster\n",
      "INFO: \u001b[32mcsg\u001b[0m is \u001b[32mcompleted\u001b[0m.\n",
      "INFO: \u001b[32mcsg\u001b[0m output:   \u001b[32m/home/tf2478/hearing/qc1_f2247_f2257_qcarray_2021-10-05.sbatch\u001b[0m\n",
      "INFO: Workflow csg (ID=w8e0d9b17c271ad03) is executed successfully with 1 completed step.\n"
     ]
    }
   ],
   "source": [
    "## Columbia's cluster\n",
    "cwd=$UKBB_PATH/results/092821_PCA_results_500K/072523_f2247_f2257_pca_500K_imputed_RAP\n",
    "#gwas_sbatch=$USER_PATH/UKBB_GWAS_dev/output/qc1_f2247_f2257_qcarray_$(date +\"%Y-%m-%d\").sbatch\n",
    "gwas_sbatch=$UKBB_PATH/results/092821_PCA_results_500K/072523_f2247_f2257_pca_500K_imputed_RAP/qc1_f2247_f2257_qcarray_$(date +\"%Y-%m-%d\").sbatch\n",
    "## Use qc'ed genotype array\n",
    "genoFile=$UKBB_PATH/genotype_files_processed/090221_sample_variant_qc_final_callrate90/cache/UKB_genotypedatadownloaded083019.090221_sample_variant_qc_final_callrate90.filtered.extracted.bed\n",
    "keep_samples=/mnt/vast/hpc/csg/UKBiobank/phenotype_files/HI_UKBB/072423_ARHI_phenotypes_RAP/072423_UKBB_Hboth_2247_2257_expandedwhite_DMCS_329552ind.phenopca\n",
    "#Keep variants after LD pruning\n",
    "keep_variants=$UKBB_PATH/results/092821_PCA_results_500K/092821_ldprun_unrelated/cache/*092821_ldprun_unrelated.filtered.prune.in\n",
    "\n",
    "#GWAS QC variables set all of this variables to 0 to avoid doing more filtering\n",
    "maf_filter=0\n",
    "geno_filter=0\n",
    "hwe_filter=0\n",
    "mind_filter=0\n",
    "numThreads=1\n",
    "mem='30G'\n",
    "job_size=1\n",
    "gwasqc_sos=$USER_PATH/xqtl-pipeline/code/data_preprocessing/genotype/GWAS_QC.ipynb\n",
    "\n",
    "gwasqc_args=\"\"\"qc:1\n",
    "    --cwd $cwd\n",
    "    --genoFile $genoFile\n",
    "    --keep_samples $keep_samples\n",
    "    --keep_variants $keep_variants\n",
    "    --maf_filter $maf_filter\n",
    "    --geno_filter $geno_filter\n",
    "    --hwe_filter $hwe_filter\n",
    "    --mind_filter $mind_filter\n",
    "    --numThreads $numThreads \n",
    "    --job_size $job_size\n",
    "    --container $container\n",
    "    --mem $mem\n",
    "\"\"\"\n",
    "\n",
    "sos run $USER_PATH/UKBB_GWAS_dev/admin/Get_Job_Script.ipynb csg \\\n",
    "    --template-file $tpl_file \\\n",
    "    --workflow-file $gwasqc_sos \\\n",
    "    --to-script $gwas_sbatch \\\n",
    "    --args \"$gwasqc_args\""
   ]
  },
  {
   "cell_type": "code",
   "execution_count": null,
   "id": "7ba89778-98ae-4735-803a-7a190d48341c",
   "metadata": {},
   "outputs": [],
   "source": [
    "#!/bin/sh\n",
    "#$ -l h_rt=36:00:00\n",
    "#$ -l h_vmem=3G\n",
    "#$ -N UKBB_Hboth_2247_2257_expandedwhite_DMCS_329552ind\n",
    "#$ -o /home/dmc2245/UKBiobank/results/092821_PCA_results_500K/072523_f2247_f2257_pca_500K_imputed_RAP/qc1_f2247_f2257_qcarray-$JOB_ID.out\n",
    "#$ -e /home/dmc2245/UKBiobank/results/092821_PCA_results_500K/072523_f2247_f2257_pca_500K_imputed_RAP/qc1_f2247_f2257_qcarray-$JOB_ID.err\n",
    "#$ -j y\n",
    "#$ -q csg.q\n",
    "#$ -S /bin/bash\n",
    "\n",
    "export PATH=$HOME/miniconda3/bin:$PATH\n",
    "module load Plink/2.00a\n",
    " plink2 --bfile /home/dmc2245/UKBiobank/genotype_files_processed/090221_sample_variant_qc_final_callrate90/cache/UKB_genotypedatadownloaded083019.090221_sample_variant_qc_final_callrate90.filtered.extracted \\\n",
    "  --extract /home/dmc2245/UKBiobank/results/092821_PCA_results_500K/092821_ldprun_unrelated/cache/UKB_genotypedatadownloaded083019.090221_sample_variant_qc_final_callrate90.filtered.extracted.white_europeans.filtered.092821_ldprun_unrelated.filtered.prune.in \\\n",
    "  --keep /mnt/vast/hpc/csg/UKBiobank/phenotype_files/HI_UKBB/072423_ARHI_phenotypes_RAP/072423_UKBB_Hboth_2247_2257_expandedwhite_DMCS_329552ind.phenopca \\\n",
    "  --make-bed \\\n",
    "  --memory 27000.0 \\\n",
    "  --new-id-max-allele-len 1000 \\\n",
    "  --out /home/dmc2245/UKBiobank/results/092821_PCA_results_500K/072523_f2247_f2257_pca_500K_imputed_RAP/UKB_genotypedatadownloaded083019.090221_sample_variant_qc_final_callrate90.filtered.extracted.filtered.extracted \\\n",
    "  --threads 10"
   ]
  },
  {
   "cell_type": "markdown",
   "id": "3ad594fb-abdc-4e2f-8e77-4aa142cc399c",
   "metadata": {
    "kernel": "Bash"
   },
   "source": [
    "## Step 2."
   ]
  },
  {
   "cell_type": "code",
   "execution_count": 25,
   "id": "2ba80e8c-463a-4222-9ab1-12c4ec852fe4",
   "metadata": {
    "kernel": "Bash"
   },
   "outputs": [
    {
     "name": "stdout",
     "output_type": "stream",
     "text": [
      "INFO: Running \u001b[32mcsg\u001b[0m: Configuration for Columbia csg partition cluster\n",
      "INFO: \u001b[32mcsg\u001b[0m is \u001b[32mcompleted\u001b[0m.\n",
      "INFO: \u001b[32mcsg\u001b[0m output:   \u001b[32m/home/dmc2245/UKBiobank/results/092821_PCA_results_500K/072523_f2247_f2257_pca_500K_imputed_RAP/flashpca_f2247_f2257_pc_2023-07-26.sbatch\u001b[0m\n",
      "INFO: Workflow csg (ID=w5dc842eb08c3492f) is executed successfully with 1 completed step.\n"
     ]
    }
   ],
   "source": [
    "## Columbia's cluster\n",
    "cwd=$UKBB_PATH/results/092821_PCA_results_500K/072523_f2247_f2257_pca_500K_imputed_RAP\n",
    "#This is the bfile obtained in step 1\n",
    "genoFile=$UKBB_PATH/results/092821_PCA_results_500K/072523_f2247_f2257_pca_500K_imputed_RAP/*.bed\n",
    "# Format FID, IID, pop\n",
    "phenoFile=/mnt/vast/hpc/csg/UKBiobank/phenotype_files/HI_UKBB/072423_ARHI_phenotypes_RAP/072423_UKBB_Hboth_2247_2257_expandedwhite_DMCS_329552ind.phenopca\n",
    "label_col=ethnicity\n",
    "pop_col=ethnicity\n",
    "pca_sbatch=$UKBB_PATH/results/092821_PCA_results_500K/072523_f2247_f2257_pca_500K_imputed_RAP/flashpca_f2247_f2257_pc_$(date +\"%Y-%m-%d\").sbatch\n",
    "k=4\n",
    "min_axis=\"\"\n",
    "max_axis=\"\"\n",
    "job_size=1\n",
    "pca_sos=$USER_PATH/xqtl-pipeline/code/data_preprocessing/genotype/PCA.ipynb\n",
    "\n",
    "pca_args=\"\"\"flashpca\n",
    "    --cwd $cwd\n",
    "    --genoFile $genoFile\n",
    "    --phenoFile $phenoFile\n",
    "    --k $k\n",
    "    --label_col $label_col\n",
    "    --pop_col $pop_col\n",
    "    --min_axis $min_axis\n",
    "    --max_axis $max_axis\n",
    "    --numThreads $numThreads \n",
    "    --job_size $job_size\n",
    "    --container $container\n",
    "\"\"\"\n",
    "\n",
    "sos run  $USER_PATH/UKBB_GWAS_dev/admin/Get_Job_Script.ipynb csg\\\n",
    "    --template-file $tpl_file \\\n",
    "    --workflow-file $pca_sos \\\n",
    "    --to-script $pca_sbatch \\\n",
    "    --args \"$pca_args\""
   ]
  },
  {
   "cell_type": "code",
   "execution_count": null,
   "id": "fe58ef52-9d27-4846-8f09-d176e77222be",
   "metadata": {},
   "outputs": [],
   "source": []
  }
 ],
 "metadata": {
  "kernelspec": {
   "display_name": "Bash",
   "language": "bash",
   "name": "bash"
  },
  "language_info": {
   "codemirror_mode": "shell",
   "file_extension": ".sh",
   "mimetype": "text/x-sh",
   "name": "bash"
  },
  "sos": {
   "kernels": [
    [
     "SoS",
     "sos",
     "",
     ""
    ]
   ],
   "version": ""
  }
 },
 "nbformat": 4,
 "nbformat_minor": 5
}
