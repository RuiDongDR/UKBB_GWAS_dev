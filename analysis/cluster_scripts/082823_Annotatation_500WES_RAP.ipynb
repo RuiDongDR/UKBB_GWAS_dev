{
 "cells": [
  {
   "cell_type": "markdown",
   "id": "d7432f0c-d674-4176-8621-4dd7040a4aae",
   "metadata": {
    "kernel": "SoS",
    "tags": []
   },
   "source": [
    "# Scripts for the annotation of 500K WES in the RAP system"
   ]
  },
  {
   "cell_type": "markdown",
   "id": "2f71c23f-382f-48e7-a351-60c4f17a8051",
   "metadata": {
    "kernel": "SoS"
   },
   "source": [
    "## Create annotation file with annovar for 500K exomes"
   ]
  },
  {
   "cell_type": "code",
   "execution_count": 3,
   "id": "c598623d-be62-4ffa-8e6e-f279bd92cd87",
   "metadata": {
    "kernel": "Bash",
    "tags": []
   },
   "outputs": [
    {
     "name": "stdout",
     "output_type": "stream",
     "text": [
      "INFO: Running \u001b[32mcsg\u001b[0m: Configuration for Columbia csg partition cluster\n",
      "INFO: \u001b[32mcsg\u001b[0m is \u001b[32mcompleted\u001b[0m.\n",
      "INFO: \u001b[32mcsg\u001b[0m output:   \u001b[32m/home/dmc2245/UKBiobank/results/ukb23157_500Kexomes_annovar/ukb23157_500Kexomes_annotation_2023-08-28.sbatch\u001b[0m\n",
      "INFO: Workflow csg (ID=w246207202af7fa33) is executed successfully with 1 completed step.\n"
     ]
    }
   ],
   "source": [
    "tpl_file=~/project/bioworkflows/admin/csg.yml\n",
    "annovar_dir=~/UKBiobank/results/ukb23157_500Kexomes_annovar/\n",
    "annovar_sos=~/project/bioworkflows/variant-annotation/annovar.ipynb\n",
    "annovar_sbatch=~/UKBiobank/results/ukb23157_500Kexomes_annovar/ukb23157_500Kexomes_annotation_$(date +\"%Y-%m-%d\").sbatch\n",
    "bfiles=~/UKBiobank/RAP/ukb23158_c1_22_variants.bim\n",
    "walltime=\"60h\"\n",
    "mem=\"30G\"\n",
    "\n",
    "annovar_args=\"\"\"annovar\n",
    "    --cwd $annovar_dir \n",
    "    --bim_name $bfiles \n",
    "    --humandb /mnt/vast/hpc/csg/isabelle/REF/humandb\n",
    "    --xref_path /mnt/vast/hpc/csg/isabelle/REF/humandb \n",
    "    --job_size 1 \n",
    "    --build 'hg38' \n",
    "    --name_prefix ukb23158_c1_22_variants\n",
    "    --walltime $walltime\n",
    "    --mem $mem\n",
    "    --container_annovar /mnt/mfs/statgen/containers/gatk4-annovar.sif\n",
    "\"\"\"\n",
    "\n",
    "sos run ~/project/UKBB_GWAS_dev/admin/Get_Job_Script.ipynb csg \\\n",
    "    --template-file $tpl_file \\\n",
    "    --workflow-file $annovar_sos \\\n",
    "    --to-script $annovar_sbatch \\\n",
    "    --args \"$annovar_args\""
   ]
  },
  {
   "cell_type": "markdown",
   "id": "9db8c36b-fe16-468b-9b4c-a85fd6e34d35",
   "metadata": {
    "kernel": "Bash"
   },
   "source": [
    "# Re-do the annotation file based on the new pvar files generated for the 500K WES data in the RAP system"
   ]
  },
  {
   "cell_type": "code",
   "execution_count": 4,
   "id": "13c1ef12-ba23-4819-9292-f2d49d4a0649",
   "metadata": {
    "kernel": "Bash",
    "tags": []
   },
   "outputs": [
    {
     "name": "stdout",
     "output_type": "stream",
     "text": [
      "INFO: Running \u001b[32mcsg_mamba\u001b[0m: Configuration for Columbia csg partition cluster\n",
      "INFO: \u001b[32mcsg_mamba\u001b[0m is \u001b[32mcompleted\u001b[0m.\n",
      "INFO: \u001b[32mcsg_mamba\u001b[0m output:   \u001b[32m/home/dmc2245/UKBiobank/results/ukb23157_500Kexomes_annovar/pgen_annotation/chr1_pgen500Kexomes_annotation_2023-10-18.sbatch\u001b[0m\n",
      "INFO: Workflow csg_mamba (ID=w1bb60b674888b8a5) is executed successfully with 1 completed step.\n"
     ]
    }
   ],
   "source": [
    "tpl_file=~/project/bioworkflows/admin/csg.yml\n",
    "annovar_dir=~/UKBiobank/results/ukb23157_500Kexomes_annovar/pgen_annotation\n",
    "annovar_sos=~/project/bioworkflows/variant-annotation/annovar-rap.ipynb\n",
    "annovar_sbatch=~/UKBiobank/results/ukb23157_500Kexomes_annovar/pgen_annotation/chr1_pgen500Kexomes_annotation_$(date +\"%Y-%m-%d\").sbatch\n",
    "pvar_files=~/UKBiobank/RAP/pgen_files/ukb23157_c1.concat.pvar\n",
    "walltime=\"60h\"\n",
    "mem=\"30G\"\n",
    "\n",
    "annovar_args=\"\"\"annovar\n",
    "    --cwd $annovar_dir \n",
    "    --bim_name $pvar_files \n",
    "    --humandb /mnt/vast/hpc/csg/isabelle/REF/humandb\n",
    "    --xref_path /mnt/vast/hpc/csg/isabelle/REF/humandb \n",
    "    --job_size 1 \n",
    "    --build 'hg38' \n",
    "    --name_prefix c1\n",
    "    --walltime $walltime\n",
    "    --mem $mem\n",
    "    --container_annovar /mnt/mfs/statgen/containers/gatk4-annovar.sif\n",
    "\"\"\"\n",
    "\n",
    "sos run ~/project/UKBB_GWAS_dev/admin/Get_Job_Script.ipynb csg_mamba \\\n",
    "    --template-file $tpl_file \\\n",
    "    --workflow-file $annovar_sos \\\n",
    "    --to-script $annovar_sbatch \\\n",
    "    --args \"$annovar_args\""
   ]
  },
  {
   "cell_type": "markdown",
   "id": "628d136d-fc8d-4617-9471-316c2a44d4db",
   "metadata": {
    "kernel": "Bash"
   },
   "source": [
    "# Do the annotation with the new VEP pipeline"
   ]
  },
  {
   "cell_type": "code",
   "execution_count": 22,
   "id": "e76d34aa-f809-442d-b8df-af29b3e3d611",
   "metadata": {
    "kernel": "Bash",
    "tags": []
   },
   "outputs": [
    {
     "name": "stdout",
     "output_type": "stream",
     "text": [
      "INFO: Running \u001b[32mcsg_mamba\u001b[0m: Configuration for Columbia csg partition cluster\n",
      "INFO: \u001b[32mcsg_mamba\u001b[0m is \u001b[32mcompleted\u001b[0m.\n",
      "INFO: \u001b[32mcsg_mamba\u001b[0m output:   \u001b[32m/home/dmc2245/UKBiobank/results/ukb23157_500Kexomes_annovar/pgen_annotation/chr1_pgen500KWES_anno_vep_2023-11-01.sbatch\u001b[0m\n",
      "INFO: Workflow csg_mamba (ID=wdd4fce22ef76a4b0) is executed successfully with 1 completed step.\n"
     ]
    }
   ],
   "source": [
    "tpl_file=~/project/bioworkflows/admin/csg.yml\n",
    "vep_dir=~/UKBiobank/results/ukb23157_500Kexomes_annovar/pgen_annotation\n",
    "vep_sos=~/project/bioworkflows/variant-annotation/vep.ipynb\n",
    "vep_sbatch=~/UKBiobank/results/ukb23157_500Kexomes_annovar/pgen_annotation/chr1_pgen500KWES_anno_vep_$(date +\"%Y-%m-%d\").sbatch\n",
    "pvar_files=~/UKBiobank/RAP/pgen_files/ukb23157_c1.concat.pvar\n",
    "human_ancestor=/mnt/vast/hpc/csg/data_public/vep/human_ancestor.fa.gz\n",
    "conservation_file=/mnt/vast/hpc/csg/data_public/vep/loftee.sql\n",
    "gerp_bigwig=/mnt/vast/hpc/csg/data_public/vep/gerp_conservation_scores.homo_sapiens.GRCh38.bw\n",
    "cadd_snps=/mnt/vast/hpc/csg/data_public/cadd/whole_genome_SNVs_inclAnno.tsv.gz\n",
    "cadd_indels=/mnt/vast/hpc/csg/data_public/cadd/gnomad.genomes.r3.0.indel.tsv.gz\n",
    "cache_version=110\n",
    "clinvar_db=/mnt/vast/hpc/csg/data_public/clinvar/clinvar_20231028.vcf.gz\n",
    "dir_cache=/mnt/vast/hpc/csg/data_public/vep\n",
    "container=/mnt/vast/hpc/csg/containers/rare_variation_apptainer_latest.sif\n",
    "walltime=\"60h\"\n",
    "mem=\"30G\"\n",
    "\n",
    "vep_args=\"\"\"\n",
    "    --cwd $vep_dir \n",
    "    --vcf  $pvar_files\n",
    "    --human_ancestor $human_ancestor\n",
    "    --conservation_file $conservation_file\n",
    "    --gerp_bigwig $gerp_bigwig\n",
    "    --cadd_snps $cadd_snps\n",
    "    --cadd_indels $cadd_indels\n",
    "    --cache_version $cache_version\n",
    "    --clinvar_db $clinvar_db\n",
    "    --dir_cache $dir_cache\n",
    "    --no-output-vcf\n",
    "    --job_size 1\n",
    "    --walltime $walltime\n",
    "    --mem $mem\n",
    "    --container $container\n",
    "\"\"\"\n",
    "\n",
    "sos run ~/project/UKBB_GWAS_dev/admin/Get_Job_Script.ipynb csg_mamba \\\n",
    "    --template-file $tpl_file \\\n",
    "    --workflow-file $vep_sos \\\n",
    "    --to-script $vep_sbatch \\\n",
    "    --args \"$vep_args\""
   ]
  },
  {
   "cell_type": "code",
   "execution_count": 5,
   "id": "7a30a6a8-9400-491b-8a02-ccb4871afe60",
   "metadata": {
    "kernel": "Bash",
    "tags": []
   },
   "outputs": [
    {
     "name": "stdout",
     "output_type": "stream",
     "text": [
      "INFO: Running \u001b[32mcsg_mamba\u001b[0m: Configuration for Columbia csg partition cluster\n",
      "INFO: \u001b[32mcsg_mamba\u001b[0m is \u001b[32mcompleted\u001b[0m.\n",
      "INFO: \u001b[32mcsg_mamba\u001b[0m output:   \u001b[32m/home/dmc2245/UKBiobank/results/ukb23157_500Kexomes_annovar/pgen_annotation/chr2_pgen500Kexomes_annotation_2023-10-18.sbatch\u001b[0m\n",
      "INFO: Workflow csg_mamba (ID=wd11a0694f160764b) is executed successfully with 1 completed step.\n"
     ]
    }
   ],
   "source": [
    "tpl_file=~/project/bioworkflows/admin/csg.yml\n",
    "annovar_dir=~/UKBiobank/results/ukb23157_500Kexomes_annovar/pgen_annotation\n",
    "annovar_sos=~/project/bioworkflows/variant-annotation/annovar-rap.ipynb\n",
    "annovar_sbatch=~/UKBiobank/results/ukb23157_500Kexomes_annovar/pgen_annotation/chr2_pgen500Kexomes_annotation_$(date +\"%Y-%m-%d\").sbatch\n",
    "pvar_files=~/UKBiobank/RAP/pgen_files/ukb23157_c2.concat.pvar\n",
    "walltime=\"60h\"\n",
    "mem=\"30G\"\n",
    "\n",
    "annovar_args=\"\"\"annovar\n",
    "    --cwd $annovar_dir \n",
    "    --bim_name $pvar_files \n",
    "    --humandb /mnt/vast/hpc/csg/isabelle/REF/humandb\n",
    "    --xref_path /mnt/vast/hpc/csg/isabelle/REF/humandb \n",
    "    --job_size 1 \n",
    "    --build 'hg38' \n",
    "    --name_prefix c2\n",
    "    --walltime $walltime\n",
    "    --mem $mem\n",
    "    --container_annovar /mnt/mfs/statgen/containers/gatk4-annovar.sif\n",
    "\"\"\"\n",
    "\n",
    "sos run ~/project/UKBB_GWAS_dev/admin/Get_Job_Script.ipynb csg_mamba \\\n",
    "    --template-file $tpl_file \\\n",
    "    --workflow-file $annovar_sos \\\n",
    "    --to-script $annovar_sbatch \\\n",
    "    --args \"$annovar_args\""
   ]
  },
  {
   "cell_type": "code",
   "execution_count": 6,
   "id": "b73b9165-d162-4fc6-822f-d19bad7becb2",
   "metadata": {
    "kernel": "Bash",
    "tags": []
   },
   "outputs": [
    {
     "name": "stdout",
     "output_type": "stream",
     "text": [
      "INFO: Running \u001b[32mcsg_mamba\u001b[0m: Configuration for Columbia csg partition cluster\n",
      "INFO: \u001b[32mcsg_mamba\u001b[0m is \u001b[32mcompleted\u001b[0m.\n",
      "INFO: \u001b[32mcsg_mamba\u001b[0m output:   \u001b[32m/home/dmc2245/UKBiobank/results/ukb23157_500Kexomes_annovar/pgen_annotation/chr3_pgen500Kexomes_annotation_2023-10-18.sbatch\u001b[0m\n",
      "INFO: Workflow csg_mamba (ID=w91a619f5b7fa5eb0) is executed successfully with 1 completed step.\n"
     ]
    }
   ],
   "source": [
    "tpl_file=~/project/bioworkflows/admin/csg.yml\n",
    "annovar_dir=~/UKBiobank/results/ukb23157_500Kexomes_annovar/pgen_annotation\n",
    "annovar_sos=~/project/bioworkflows/variant-annotation/annovar-rap.ipynb\n",
    "annovar_sbatch=~/UKBiobank/results/ukb23157_500Kexomes_annovar/pgen_annotation/chr3_pgen500Kexomes_annotation_$(date +\"%Y-%m-%d\").sbatch\n",
    "pvar_files=~/UKBiobank/RAP/pgen_files/ukb23157_c3.concat.pvar\n",
    "walltime=\"60h\"\n",
    "mem=\"30G\"\n",
    "\n",
    "annovar_args=\"\"\"annovar\n",
    "    --cwd $annovar_dir \n",
    "    --bim_name $pvar_files \n",
    "    --humandb /mnt/vast/hpc/csg/isabelle/REF/humandb\n",
    "    --xref_path /mnt/vast/hpc/csg/isabelle/REF/humandb \n",
    "    --job_size 1 \n",
    "    --build 'hg38' \n",
    "    --name_prefix c3\n",
    "    --walltime $walltime\n",
    "    --mem $mem\n",
    "    --container_annovar /mnt/mfs/statgen/containers/gatk4-annovar.sif\n",
    "\"\"\"\n",
    "\n",
    "sos run ~/project/UKBB_GWAS_dev/admin/Get_Job_Script.ipynb csg_mamba \\\n",
    "    --template-file $tpl_file \\\n",
    "    --workflow-file $annovar_sos \\\n",
    "    --to-script $annovar_sbatch \\\n",
    "    --args \"$annovar_args\""
   ]
  },
  {
   "cell_type": "code",
   "execution_count": 7,
   "id": "f41a5d35-9ac3-48a5-b3af-0b16fafd4ab0",
   "metadata": {
    "kernel": "Bash",
    "tags": []
   },
   "outputs": [
    {
     "name": "stdout",
     "output_type": "stream",
     "text": [
      "INFO: Running \u001b[32mcsg_mamba\u001b[0m: Configuration for Columbia csg partition cluster\n",
      "INFO: \u001b[32mcsg_mamba\u001b[0m is \u001b[32mcompleted\u001b[0m.\n",
      "INFO: \u001b[32mcsg_mamba\u001b[0m output:   \u001b[32m/home/dmc2245/UKBiobank/results/ukb23157_500Kexomes_annovar/pgen_annotation/chr4_pgen500Kexomes_annotation_2023-10-18.sbatch\u001b[0m\n",
      "INFO: Workflow csg_mamba (ID=w9d8f641546b60bed) is executed successfully with 1 completed step.\n"
     ]
    }
   ],
   "source": [
    "tpl_file=~/project/bioworkflows/admin/csg.yml\n",
    "annovar_dir=~/UKBiobank/results/ukb23157_500Kexomes_annovar/pgen_annotation\n",
    "annovar_sos=~/project/bioworkflows/variant-annotation/annovar-rap.ipynb\n",
    "annovar_sbatch=~/UKBiobank/results/ukb23157_500Kexomes_annovar/pgen_annotation/chr4_pgen500Kexomes_annotation_$(date +\"%Y-%m-%d\").sbatch\n",
    "pvar_files=~/UKBiobank/RAP/pgen_files/ukb23157_c4.concat.pvar\n",
    "walltime=\"60h\"\n",
    "mem=\"30G\"\n",
    "\n",
    "annovar_args=\"\"\"annovar\n",
    "    --cwd $annovar_dir \n",
    "    --bim_name $pvar_files \n",
    "    --humandb /mnt/vast/hpc/csg/isabelle/REF/humandb\n",
    "    --xref_path /mnt/vast/hpc/csg/isabelle/REF/humandb \n",
    "    --job_size 1 \n",
    "    --build 'hg38' \n",
    "    --name_prefix c4\n",
    "    --walltime $walltime\n",
    "    --mem $mem\n",
    "    --container_annovar /mnt/mfs/statgen/containers/gatk4-annovar.sif\n",
    "\"\"\"\n",
    "\n",
    "sos run ~/project/UKBB_GWAS_dev/admin/Get_Job_Script.ipynb csg_mamba \\\n",
    "    --template-file $tpl_file \\\n",
    "    --workflow-file $annovar_sos \\\n",
    "    --to-script $annovar_sbatch \\\n",
    "    --args \"$annovar_args\""
   ]
  },
  {
   "cell_type": "code",
   "execution_count": 8,
   "id": "eac3d8f1-2b11-4a41-be72-98ca205b03b4",
   "metadata": {
    "kernel": "Bash",
    "tags": []
   },
   "outputs": [
    {
     "name": "stdout",
     "output_type": "stream",
     "text": [
      "INFO: Running \u001b[32mcsg_mamba\u001b[0m: Configuration for Columbia csg partition cluster\n",
      "INFO: \u001b[32mcsg_mamba\u001b[0m is \u001b[32mcompleted\u001b[0m.\n",
      "INFO: \u001b[32mcsg_mamba\u001b[0m output:   \u001b[32m/home/dmc2245/UKBiobank/results/ukb23157_500Kexomes_annovar/pgen_annotation/chr5_pgen500Kexomes_annotation_2023-10-18.sbatch\u001b[0m\n",
      "INFO: Workflow csg_mamba (ID=wd9ba3c4f5e9d9d2e) is executed successfully with 1 completed step.\n"
     ]
    }
   ],
   "source": [
    "tpl_file=~/project/bioworkflows/admin/csg.yml\n",
    "annovar_dir=~/UKBiobank/results/ukb23157_500Kexomes_annovar/pgen_annotation\n",
    "annovar_sos=~/project/bioworkflows/variant-annotation/annovar-rap.ipynb\n",
    "annovar_sbatch=~/UKBiobank/results/ukb23157_500Kexomes_annovar/pgen_annotation/chr5_pgen500Kexomes_annotation_$(date +\"%Y-%m-%d\").sbatch\n",
    "pvar_files=~/UKBiobank/RAP/pgen_files/ukb23157_c5.concat.pvar\n",
    "walltime=\"60h\"\n",
    "mem=\"30G\"\n",
    "\n",
    "annovar_args=\"\"\"annovar\n",
    "    --cwd $annovar_dir \n",
    "    --bim_name $pvar_files \n",
    "    --humandb /mnt/vast/hpc/csg/isabelle/REF/humandb\n",
    "    --xref_path /mnt/vast/hpc/csg/isabelle/REF/humandb \n",
    "    --job_size 1 \n",
    "    --build 'hg38' \n",
    "    --name_prefix c5\n",
    "    --walltime $walltime\n",
    "    --mem $mem\n",
    "    --container_annovar /mnt/mfs/statgen/containers/gatk4-annovar.sif\n",
    "\"\"\"\n",
    "\n",
    "sos run ~/project/UKBB_GWAS_dev/admin/Get_Job_Script.ipynb csg_mamba \\\n",
    "    --template-file $tpl_file \\\n",
    "    --workflow-file $annovar_sos \\\n",
    "    --to-script $annovar_sbatch \\\n",
    "    --args \"$annovar_args\""
   ]
  },
  {
   "cell_type": "code",
   "execution_count": 9,
   "id": "358d7d9e-d0c2-4b20-b14c-06a60bcaa53b",
   "metadata": {
    "kernel": "Bash",
    "tags": []
   },
   "outputs": [
    {
     "name": "stdout",
     "output_type": "stream",
     "text": [
      "INFO: Running \u001b[32mcsg_mamba\u001b[0m: Configuration for Columbia csg partition cluster\n",
      "INFO: \u001b[32mcsg_mamba\u001b[0m is \u001b[32mcompleted\u001b[0m.\n",
      "INFO: \u001b[32mcsg_mamba\u001b[0m output:   \u001b[32m/home/dmc2245/UKBiobank/results/ukb23157_500Kexomes_annovar/pgen_annotation/chr6_pgen500Kexomes_annotation_2023-10-18.sbatch\u001b[0m\n",
      "INFO: Workflow csg_mamba (ID=w907da99513e20715) is executed successfully with 1 completed step.\n"
     ]
    }
   ],
   "source": [
    "tpl_file=~/project/bioworkflows/admin/csg.yml\n",
    "annovar_dir=~/UKBiobank/results/ukb23157_500Kexomes_annovar/pgen_annotation\n",
    "annovar_sos=~/project/bioworkflows/variant-annotation/annovar-rap.ipynb\n",
    "annovar_sbatch=~/UKBiobank/results/ukb23157_500Kexomes_annovar/pgen_annotation/chr6_pgen500Kexomes_annotation_$(date +\"%Y-%m-%d\").sbatch\n",
    "pvar_files=~/UKBiobank/RAP/pgen_files/ukb23157_c6.concat.pvar\n",
    "walltime=\"60h\"\n",
    "mem=\"30G\"\n",
    "\n",
    "annovar_args=\"\"\"annovar\n",
    "    --cwd $annovar_dir \n",
    "    --bim_name $pvar_files \n",
    "    --humandb /mnt/vast/hpc/csg/isabelle/REF/humandb\n",
    "    --xref_path /mnt/vast/hpc/csg/isabelle/REF/humandb \n",
    "    --job_size 1 \n",
    "    --build 'hg38' \n",
    "    --name_prefix c6\n",
    "    --walltime $walltime\n",
    "    --mem $mem\n",
    "    --container_annovar /mnt/mfs/statgen/containers/gatk4-annovar.sif\n",
    "\"\"\"\n",
    "\n",
    "sos run ~/project/UKBB_GWAS_dev/admin/Get_Job_Script.ipynb csg_mamba \\\n",
    "    --template-file $tpl_file \\\n",
    "    --workflow-file $annovar_sos \\\n",
    "    --to-script $annovar_sbatch \\\n",
    "    --args \"$annovar_args\""
   ]
  },
  {
   "cell_type": "code",
   "execution_count": 10,
   "id": "116291bf-5095-4f75-ae56-df32d170e033",
   "metadata": {
    "kernel": "Bash",
    "tags": []
   },
   "outputs": [
    {
     "name": "stdout",
     "output_type": "stream",
     "text": [
      "INFO: Running \u001b[32mcsg_mamba\u001b[0m: Configuration for Columbia csg partition cluster\n",
      "INFO: \u001b[32mcsg_mamba\u001b[0m is \u001b[32mcompleted\u001b[0m.\n",
      "INFO: \u001b[32mcsg_mamba\u001b[0m output:   \u001b[32m/home/dmc2245/UKBiobank/results/ukb23157_500Kexomes_annovar/pgen_annotation/chr7_pgen500Kexomes_annotation_2023-10-18.sbatch\u001b[0m\n",
      "INFO: Workflow csg_mamba (ID=wffac8df3f43dc6a7) is executed successfully with 1 completed step.\n"
     ]
    }
   ],
   "source": [
    "tpl_file=~/project/bioworkflows/admin/csg.yml\n",
    "annovar_dir=~/UKBiobank/results/ukb23157_500Kexomes_annovar/pgen_annotation\n",
    "annovar_sos=~/project/bioworkflows/variant-annotation/annovar-rap.ipynb\n",
    "annovar_sbatch=~/UKBiobank/results/ukb23157_500Kexomes_annovar/pgen_annotation/chr7_pgen500Kexomes_annotation_$(date +\"%Y-%m-%d\").sbatch\n",
    "pvar_files=~/UKBiobank/RAP/pgen_files/ukb23157_c7.concat.pvar\n",
    "walltime=\"60h\"\n",
    "mem=\"30G\"\n",
    "\n",
    "annovar_args=\"\"\"annovar\n",
    "    --cwd $annovar_dir \n",
    "    --bim_name $pvar_files \n",
    "    --humandb /mnt/vast/hpc/csg/isabelle/REF/humandb\n",
    "    --xref_path /mnt/vast/hpc/csg/isabelle/REF/humandb \n",
    "    --job_size 1 \n",
    "    --build 'hg38' \n",
    "    --name_prefix c7\n",
    "    --walltime $walltime\n",
    "    --mem $mem\n",
    "    --container_annovar /mnt/mfs/statgen/containers/gatk4-annovar.sif\n",
    "\"\"\"\n",
    "\n",
    "sos run ~/project/UKBB_GWAS_dev/admin/Get_Job_Script.ipynb csg_mamba \\\n",
    "    --template-file $tpl_file \\\n",
    "    --workflow-file $annovar_sos \\\n",
    "    --to-script $annovar_sbatch \\\n",
    "    --args \"$annovar_args\""
   ]
  },
  {
   "cell_type": "code",
   "execution_count": 11,
   "id": "693d63bb-4189-40cd-a2a8-40673c8ad9ef",
   "metadata": {
    "kernel": "Bash",
    "tags": []
   },
   "outputs": [
    {
     "name": "stdout",
     "output_type": "stream",
     "text": [
      "INFO: Running \u001b[32mcsg_mamba\u001b[0m: Configuration for Columbia csg partition cluster\n",
      "INFO: \u001b[32mcsg_mamba\u001b[0m is \u001b[32mcompleted\u001b[0m.\n",
      "INFO: \u001b[32mcsg_mamba\u001b[0m output:   \u001b[32m/home/dmc2245/UKBiobank/results/ukb23157_500Kexomes_annovar/pgen_annotation/chr8_pgen500Kexomes_annotation_2023-10-18.sbatch\u001b[0m\n",
      "INFO: Workflow csg_mamba (ID=w66d4fec5d863106d) is executed successfully with 1 completed step.\n"
     ]
    }
   ],
   "source": [
    "tpl_file=~/project/bioworkflows/admin/csg.yml\n",
    "annovar_dir=~/UKBiobank/results/ukb23157_500Kexomes_annovar/pgen_annotation\n",
    "annovar_sos=~/project/bioworkflows/variant-annotation/annovar-rap.ipynb\n",
    "annovar_sbatch=~/UKBiobank/results/ukb23157_500Kexomes_annovar/pgen_annotation/chr8_pgen500Kexomes_annotation_$(date +\"%Y-%m-%d\").sbatch\n",
    "pvar_files=~/UKBiobank/RAP/pgen_files/ukb23157_c8.concat.pvar\n",
    "walltime=\"60h\"\n",
    "mem=\"30G\"\n",
    "\n",
    "annovar_args=\"\"\"annovar\n",
    "    --cwd $annovar_dir \n",
    "    --bim_name $pvar_files \n",
    "    --humandb /mnt/vast/hpc/csg/isabelle/REF/humandb\n",
    "    --xref_path /mnt/vast/hpc/csg/isabelle/REF/humandb \n",
    "    --job_size 1 \n",
    "    --build 'hg38' \n",
    "    --name_prefix c8\n",
    "    --walltime $walltime\n",
    "    --mem $mem\n",
    "    --container_annovar /mnt/mfs/statgen/containers/gatk4-annovar.sif\n",
    "\"\"\"\n",
    "\n",
    "sos run ~/project/UKBB_GWAS_dev/admin/Get_Job_Script.ipynb csg_mamba \\\n",
    "    --template-file $tpl_file \\\n",
    "    --workflow-file $annovar_sos \\\n",
    "    --to-script $annovar_sbatch \\\n",
    "    --args \"$annovar_args\""
   ]
  },
  {
   "cell_type": "code",
   "execution_count": 12,
   "id": "deb4e2c8-b70b-4c54-a420-5ca6b4ddb511",
   "metadata": {
    "kernel": "Bash",
    "tags": []
   },
   "outputs": [
    {
     "name": "stdout",
     "output_type": "stream",
     "text": [
      "INFO: Running \u001b[32mcsg_mamba\u001b[0m: Configuration for Columbia csg partition cluster\n",
      "INFO: \u001b[32mcsg_mamba\u001b[0m is \u001b[32mcompleted\u001b[0m.\n",
      "INFO: \u001b[32mcsg_mamba\u001b[0m output:   \u001b[32m/home/dmc2245/UKBiobank/results/ukb23157_500Kexomes_annovar/pgen_annotation/chr9_pgen500Kexomes_annotation_2023-10-18.sbatch\u001b[0m\n",
      "INFO: Workflow csg_mamba (ID=wcb548cbf71f5766e) is executed successfully with 1 completed step.\n"
     ]
    }
   ],
   "source": [
    "tpl_file=~/project/bioworkflows/admin/csg.yml\n",
    "annovar_dir=~/UKBiobank/results/ukb23157_500Kexomes_annovar/pgen_annotation\n",
    "annovar_sos=~/project/bioworkflows/variant-annotation/annovar-rap.ipynb\n",
    "annovar_sbatch=~/UKBiobank/results/ukb23157_500Kexomes_annovar/pgen_annotation/chr9_pgen500Kexomes_annotation_$(date +\"%Y-%m-%d\").sbatch\n",
    "pvar_files=~/UKBiobank/RAP/pgen_files/ukb23157_c9.concat.pvar\n",
    "walltime=\"60h\"\n",
    "mem=\"30G\"\n",
    "\n",
    "annovar_args=\"\"\"annovar\n",
    "    --cwd $annovar_dir \n",
    "    --bim_name $pvar_files \n",
    "    --humandb /mnt/vast/hpc/csg/isabelle/REF/humandb\n",
    "    --xref_path /mnt/vast/hpc/csg/isabelle/REF/humandb \n",
    "    --job_size 1 \n",
    "    --build 'hg38' \n",
    "    --name_prefix c9\n",
    "    --walltime $walltime\n",
    "    --mem $mem\n",
    "    --container_annovar /mnt/mfs/statgen/containers/gatk4-annovar.sif\n",
    "\"\"\"\n",
    "\n",
    "sos run ~/project/UKBB_GWAS_dev/admin/Get_Job_Script.ipynb csg_mamba \\\n",
    "    --template-file $tpl_file \\\n",
    "    --workflow-file $annovar_sos \\\n",
    "    --to-script $annovar_sbatch \\\n",
    "    --args \"$annovar_args\""
   ]
  },
  {
   "cell_type": "code",
   "execution_count": 13,
   "id": "de8a29d6-26f9-4ac8-97c4-cc8712d37756",
   "metadata": {
    "kernel": "Bash",
    "tags": []
   },
   "outputs": [
    {
     "name": "stdout",
     "output_type": "stream",
     "text": [
      "INFO: Running \u001b[32mcsg_mamba\u001b[0m: Configuration for Columbia csg partition cluster\n",
      "INFO: \u001b[32mcsg_mamba\u001b[0m is \u001b[32mcompleted\u001b[0m.\n",
      "INFO: \u001b[32mcsg_mamba\u001b[0m output:   \u001b[32m/home/dmc2245/UKBiobank/results/ukb23157_500Kexomes_annovar/pgen_annotation/chr10_pgen500Kexomes_annotation_2023-10-18.sbatch\u001b[0m\n",
      "INFO: Workflow csg_mamba (ID=w682210e09023c559) is executed successfully with 1 completed step.\n"
     ]
    }
   ],
   "source": [
    "tpl_file=~/project/bioworkflows/admin/csg.yml\n",
    "annovar_dir=~/UKBiobank/results/ukb23157_500Kexomes_annovar/pgen_annotation\n",
    "annovar_sos=~/project/bioworkflows/variant-annotation/annovar-rap.ipynb\n",
    "annovar_sbatch=~/UKBiobank/results/ukb23157_500Kexomes_annovar/pgen_annotation/chr10_pgen500Kexomes_annotation_$(date +\"%Y-%m-%d\").sbatch\n",
    "pvar_files=~/UKBiobank/RAP/pgen_files/ukb23157_c10.concat.pvar\n",
    "walltime=\"60h\"\n",
    "mem=\"30G\"\n",
    "\n",
    "annovar_args=\"\"\"annovar\n",
    "    --cwd $annovar_dir \n",
    "    --bim_name $pvar_files \n",
    "    --humandb /mnt/vast/hpc/csg/isabelle/REF/humandb\n",
    "    --xref_path /mnt/vast/hpc/csg/isabelle/REF/humandb \n",
    "    --job_size 1 \n",
    "    --build 'hg38' \n",
    "    --name_prefix c10\n",
    "    --walltime $walltime\n",
    "    --mem $mem\n",
    "    --container_annovar /mnt/mfs/statgen/containers/gatk4-annovar.sif\n",
    "\"\"\"\n",
    "\n",
    "sos run ~/project/UKBB_GWAS_dev/admin/Get_Job_Script.ipynb csg_mamba \\\n",
    "    --template-file $tpl_file \\\n",
    "    --workflow-file $annovar_sos \\\n",
    "    --to-script $annovar_sbatch \\\n",
    "    --args \"$annovar_args\""
   ]
  },
  {
   "cell_type": "code",
   "execution_count": 14,
   "id": "3cc0d0f5-987b-4465-8805-40005cd17490",
   "metadata": {
    "kernel": "Bash",
    "tags": []
   },
   "outputs": [
    {
     "name": "stdout",
     "output_type": "stream",
     "text": [
      "INFO: Running \u001b[32mcsg_mamba\u001b[0m: Configuration for Columbia csg partition cluster\n",
      "INFO: \u001b[32mcsg_mamba\u001b[0m is \u001b[32mcompleted\u001b[0m.\n",
      "INFO: \u001b[32mcsg_mamba\u001b[0m output:   \u001b[32m/home/dmc2245/UKBiobank/results/ukb23157_500Kexomes_annovar/pgen_annotation/chr11_pgen500Kexomes_annotation_2023-10-18.sbatch\u001b[0m\n",
      "INFO: Workflow csg_mamba (ID=w9fd0da83d47c1fa5) is executed successfully with 1 completed step.\n"
     ]
    }
   ],
   "source": [
    "tpl_file=~/project/bioworkflows/admin/csg.yml\n",
    "annovar_dir=~/UKBiobank/results/ukb23157_500Kexomes_annovar/pgen_annotation\n",
    "annovar_sos=~/project/bioworkflows/variant-annotation/annovar-rap.ipynb\n",
    "annovar_sbatch=~/UKBiobank/results/ukb23157_500Kexomes_annovar/pgen_annotation/chr11_pgen500Kexomes_annotation_$(date +\"%Y-%m-%d\").sbatch\n",
    "pvar_files=~/UKBiobank/RAP/pgen_files/ukb23157_c11.concat.pvar\n",
    "walltime=\"60h\"\n",
    "mem=\"30G\"\n",
    "\n",
    "annovar_args=\"\"\"annovar\n",
    "    --cwd $annovar_dir \n",
    "    --bim_name $pvar_files \n",
    "    --humandb /mnt/vast/hpc/csg/isabelle/REF/humandb\n",
    "    --xref_path /mnt/vast/hpc/csg/isabelle/REF/humandb \n",
    "    --job_size 1 \n",
    "    --build 'hg38' \n",
    "    --name_prefix c11\n",
    "    --walltime $walltime\n",
    "    --mem $mem\n",
    "    --container_annovar /mnt/mfs/statgen/containers/gatk4-annovar.sif\n",
    "\"\"\"\n",
    "\n",
    "sos run ~/project/UKBB_GWAS_dev/admin/Get_Job_Script.ipynb csg_mamba \\\n",
    "    --template-file $tpl_file \\\n",
    "    --workflow-file $annovar_sos \\\n",
    "    --to-script $annovar_sbatch \\\n",
    "    --args \"$annovar_args\""
   ]
  },
  {
   "cell_type": "code",
   "execution_count": 15,
   "id": "3d21fa54-2ca2-4fcf-a661-6c078778b3ee",
   "metadata": {
    "kernel": "Bash",
    "tags": []
   },
   "outputs": [
    {
     "name": "stdout",
     "output_type": "stream",
     "text": [
      "INFO: Running \u001b[32mcsg_mamba\u001b[0m: Configuration for Columbia csg partition cluster\n",
      "INFO: \u001b[32mcsg_mamba\u001b[0m is \u001b[32mcompleted\u001b[0m.\n",
      "INFO: \u001b[32mcsg_mamba\u001b[0m output:   \u001b[32m/home/dmc2245/UKBiobank/results/ukb23157_500Kexomes_annovar/pgen_annotation/chr12_pgen500Kexomes_annotation_2023-10-18.sbatch\u001b[0m\n",
      "INFO: Workflow csg_mamba (ID=w7f5a432965d82dd8) is executed successfully with 1 completed step.\n"
     ]
    }
   ],
   "source": [
    "tpl_file=~/project/bioworkflows/admin/csg.yml\n",
    "annovar_dir=~/UKBiobank/results/ukb23157_500Kexomes_annovar/pgen_annotation\n",
    "annovar_sos=~/project/bioworkflows/variant-annotation/annovar-rap.ipynb\n",
    "annovar_sbatch=~/UKBiobank/results/ukb23157_500Kexomes_annovar/pgen_annotation/chr12_pgen500Kexomes_annotation_$(date +\"%Y-%m-%d\").sbatch\n",
    "pvar_files=~/UKBiobank/RAP/pgen_files/ukb23157_c12.concat.pvar\n",
    "walltime=\"60h\"\n",
    "mem=\"30G\"\n",
    "\n",
    "annovar_args=\"\"\"annovar\n",
    "    --cwd $annovar_dir \n",
    "    --bim_name $pvar_files \n",
    "    --humandb /mnt/vast/hpc/csg/isabelle/REF/humandb\n",
    "    --xref_path /mnt/vast/hpc/csg/isabelle/REF/humandb \n",
    "    --job_size 1 \n",
    "    --build 'hg38' \n",
    "    --name_prefix c12\n",
    "    --walltime $walltime\n",
    "    --mem $mem\n",
    "    --container_annovar /mnt/mfs/statgen/containers/gatk4-annovar.sif\n",
    "\"\"\"\n",
    "\n",
    "sos run ~/project/UKBB_GWAS_dev/admin/Get_Job_Script.ipynb csg_mamba \\\n",
    "    --template-file $tpl_file \\\n",
    "    --workflow-file $annovar_sos \\\n",
    "    --to-script $annovar_sbatch \\\n",
    "    --args \"$annovar_args\""
   ]
  },
  {
   "cell_type": "code",
   "execution_count": 16,
   "id": "ac9b762d-2b79-4137-aefd-222dc14f7bb9",
   "metadata": {
    "kernel": "Bash",
    "tags": []
   },
   "outputs": [
    {
     "name": "stdout",
     "output_type": "stream",
     "text": [
      "INFO: Running \u001b[32mcsg_mamba\u001b[0m: Configuration for Columbia csg partition cluster\n",
      "INFO: \u001b[32mcsg_mamba\u001b[0m is \u001b[32mcompleted\u001b[0m.\n",
      "INFO: \u001b[32mcsg_mamba\u001b[0m output:   \u001b[32m/home/dmc2245/UKBiobank/results/ukb23157_500Kexomes_annovar/pgen_annotation/chr13_pgen500Kexomes_annotation_2023-10-18.sbatch\u001b[0m\n",
      "INFO: Workflow csg_mamba (ID=w154529b122f013c8) is executed successfully with 1 completed step.\n"
     ]
    }
   ],
   "source": [
    "tpl_file=~/project/bioworkflows/admin/csg.yml\n",
    "annovar_dir=~/UKBiobank/results/ukb23157_500Kexomes_annovar/pgen_annotation\n",
    "annovar_sos=~/project/bioworkflows/variant-annotation/annovar-rap.ipynb\n",
    "annovar_sbatch=~/UKBiobank/results/ukb23157_500Kexomes_annovar/pgen_annotation/chr13_pgen500Kexomes_annotation_$(date +\"%Y-%m-%d\").sbatch\n",
    "pvar_files=~/UKBiobank/RAP/pgen_files/ukb23157_c13.concat.pvar\n",
    "walltime=\"60h\"\n",
    "mem=\"30G\"\n",
    "\n",
    "annovar_args=\"\"\"annovar\n",
    "    --cwd $annovar_dir \n",
    "    --bim_name $pvar_files \n",
    "    --humandb /mnt/vast/hpc/csg/isabelle/REF/humandb\n",
    "    --xref_path /mnt/vast/hpc/csg/isabelle/REF/humandb \n",
    "    --job_size 1 \n",
    "    --build 'hg38' \n",
    "    --name_prefix c13\n",
    "    --walltime $walltime\n",
    "    --mem $mem\n",
    "    --container_annovar /mnt/mfs/statgen/containers/gatk4-annovar.sif\n",
    "\"\"\"\n",
    "\n",
    "sos run ~/project/UKBB_GWAS_dev/admin/Get_Job_Script.ipynb csg_mamba \\\n",
    "    --template-file $tpl_file \\\n",
    "    --workflow-file $annovar_sos \\\n",
    "    --to-script $annovar_sbatch \\\n",
    "    --args \"$annovar_args\""
   ]
  },
  {
   "cell_type": "code",
   "execution_count": 17,
   "id": "2a81d10b-c814-4ac5-9ca8-eacd1376ca5d",
   "metadata": {
    "kernel": "Bash",
    "tags": []
   },
   "outputs": [
    {
     "name": "stdout",
     "output_type": "stream",
     "text": [
      "INFO: Running \u001b[32mcsg_mamba\u001b[0m: Configuration for Columbia csg partition cluster\n",
      "INFO: \u001b[32mcsg_mamba\u001b[0m is \u001b[32mcompleted\u001b[0m.\n",
      "INFO: \u001b[32mcsg_mamba\u001b[0m output:   \u001b[32m/home/dmc2245/UKBiobank/results/ukb23157_500Kexomes_annovar/pgen_annotation/chr14_pgen500Kexomes_annotation_2023-10-18.sbatch\u001b[0m\n",
      "INFO: Workflow csg_mamba (ID=w2b8ea0f24aa69c3a) is executed successfully with 1 completed step.\n"
     ]
    }
   ],
   "source": [
    "tpl_file=~/project/bioworkflows/admin/csg.yml\n",
    "annovar_dir=~/UKBiobank/results/ukb23157_500Kexomes_annovar/pgen_annotation\n",
    "annovar_sos=~/project/bioworkflows/variant-annotation/annovar-rap.ipynb\n",
    "annovar_sbatch=~/UKBiobank/results/ukb23157_500Kexomes_annovar/pgen_annotation/chr14_pgen500Kexomes_annotation_$(date +\"%Y-%m-%d\").sbatch\n",
    "pvar_files=~/UKBiobank/RAP/pgen_files/ukb23157_c14.concat.pvar\n",
    "walltime=\"60h\"\n",
    "mem=\"30G\"\n",
    "\n",
    "annovar_args=\"\"\"annovar\n",
    "    --cwd $annovar_dir \n",
    "    --bim_name $pvar_files \n",
    "    --humandb /mnt/vast/hpc/csg/isabelle/REF/humandb\n",
    "    --xref_path /mnt/vast/hpc/csg/isabelle/REF/humandb \n",
    "    --job_size 1 \n",
    "    --build 'hg38' \n",
    "    --name_prefix c14\n",
    "    --walltime $walltime\n",
    "    --mem $mem\n",
    "    --container_annovar /mnt/mfs/statgen/containers/gatk4-annovar.sif\n",
    "\"\"\"\n",
    "\n",
    "sos run ~/project/UKBB_GWAS_dev/admin/Get_Job_Script.ipynb csg_mamba \\\n",
    "    --template-file $tpl_file \\\n",
    "    --workflow-file $annovar_sos \\\n",
    "    --to-script $annovar_sbatch \\\n",
    "    --args \"$annovar_args\""
   ]
  },
  {
   "cell_type": "code",
   "execution_count": 18,
   "id": "a4e52682-8c05-4950-a91e-f5e7bc79f820",
   "metadata": {
    "kernel": "Bash",
    "tags": []
   },
   "outputs": [
    {
     "name": "stdout",
     "output_type": "stream",
     "text": [
      "INFO: Running \u001b[32mcsg_mamba\u001b[0m: Configuration for Columbia csg partition cluster\n",
      "INFO: \u001b[32mcsg_mamba\u001b[0m is \u001b[32mcompleted\u001b[0m.\n",
      "INFO: \u001b[32mcsg_mamba\u001b[0m output:   \u001b[32m/home/dmc2245/UKBiobank/results/ukb23157_500Kexomes_annovar/pgen_annotation/chr15_pgen500Kexomes_annotation_2023-10-18.sbatch\u001b[0m\n",
      "INFO: Workflow csg_mamba (ID=w379a566b42058287) is executed successfully with 1 completed step.\n"
     ]
    }
   ],
   "source": [
    "tpl_file=~/project/bioworkflows/admin/csg.yml\n",
    "annovar_dir=~/UKBiobank/results/ukb23157_500Kexomes_annovar/pgen_annotation\n",
    "annovar_sos=~/project/bioworkflows/variant-annotation/annovar-rap.ipynb\n",
    "annovar_sbatch=~/UKBiobank/results/ukb23157_500Kexomes_annovar/pgen_annotation/chr15_pgen500Kexomes_annotation_$(date +\"%Y-%m-%d\").sbatch\n",
    "pvar_files=~/UKBiobank/RAP/pgen_files/ukb23157_c15.concat.pvar\n",
    "walltime=\"60h\"\n",
    "mem=\"30G\"\n",
    "\n",
    "annovar_args=\"\"\"annovar\n",
    "    --cwd $annovar_dir \n",
    "    --bim_name $pvar_files \n",
    "    --humandb /mnt/vast/hpc/csg/isabelle/REF/humandb\n",
    "    --xref_path /mnt/vast/hpc/csg/isabelle/REF/humandb \n",
    "    --job_size 1 \n",
    "    --build 'hg38' \n",
    "    --name_prefix c15\n",
    "    --walltime $walltime\n",
    "    --mem $mem\n",
    "    --container_annovar /mnt/mfs/statgen/containers/gatk4-annovar.sif\n",
    "\"\"\"\n",
    "\n",
    "sos run ~/project/UKBB_GWAS_dev/admin/Get_Job_Script.ipynb csg_mamba \\\n",
    "    --template-file $tpl_file \\\n",
    "    --workflow-file $annovar_sos \\\n",
    "    --to-script $annovar_sbatch \\\n",
    "    --args \"$annovar_args\""
   ]
  },
  {
   "cell_type": "code",
   "execution_count": 19,
   "id": "388f6477-59f5-4e53-8d56-f15bd5a09163",
   "metadata": {
    "kernel": "Bash",
    "tags": []
   },
   "outputs": [
    {
     "name": "stdout",
     "output_type": "stream",
     "text": [
      "INFO: Running \u001b[32mcsg_mamba\u001b[0m: Configuration for Columbia csg partition cluster\n",
      "INFO: \u001b[32mcsg_mamba\u001b[0m is \u001b[32mcompleted\u001b[0m.\n",
      "INFO: \u001b[32mcsg_mamba\u001b[0m output:   \u001b[32m/home/dmc2245/UKBiobank/results/ukb23157_500Kexomes_annovar/pgen_annotation/chr16_pgen500Kexomes_annotation_2023-10-18.sbatch\u001b[0m\n",
      "INFO: Workflow csg_mamba (ID=w4edd46f7aac30c9d) is executed successfully with 1 completed step.\n"
     ]
    }
   ],
   "source": [
    "tpl_file=~/project/bioworkflows/admin/csg.yml\n",
    "annovar_dir=~/UKBiobank/results/ukb23157_500Kexomes_annovar/pgen_annotation\n",
    "annovar_sos=~/project/bioworkflows/variant-annotation/annovar-rap.ipynb\n",
    "annovar_sbatch=~/UKBiobank/results/ukb23157_500Kexomes_annovar/pgen_annotation/chr16_pgen500Kexomes_annotation_$(date +\"%Y-%m-%d\").sbatch\n",
    "pvar_files=~/UKBiobank/RAP/pgen_files/ukb23157_c16.concat.pvar\n",
    "walltime=\"60h\"\n",
    "mem=\"30G\"\n",
    "\n",
    "annovar_args=\"\"\"annovar\n",
    "    --cwd $annovar_dir \n",
    "    --bim_name $pvar_files \n",
    "    --humandb /mnt/vast/hpc/csg/isabelle/REF/humandb\n",
    "    --xref_path /mnt/vast/hpc/csg/isabelle/REF/humandb \n",
    "    --job_size 1 \n",
    "    --build 'hg38' \n",
    "    --name_prefix c16\n",
    "    --walltime $walltime\n",
    "    --mem $mem\n",
    "    --container_annovar /mnt/mfs/statgen/containers/gatk4-annovar.sif\n",
    "\"\"\"\n",
    "\n",
    "sos run ~/project/UKBB_GWAS_dev/admin/Get_Job_Script.ipynb csg_mamba \\\n",
    "    --template-file $tpl_file \\\n",
    "    --workflow-file $annovar_sos \\\n",
    "    --to-script $annovar_sbatch \\\n",
    "    --args \"$annovar_args\""
   ]
  },
  {
   "cell_type": "code",
   "execution_count": 20,
   "id": "47d7e101-b4d6-4ef0-aeaa-b8ef3f273c1a",
   "metadata": {
    "kernel": "Bash",
    "tags": []
   },
   "outputs": [
    {
     "name": "stdout",
     "output_type": "stream",
     "text": [
      "INFO: Running \u001b[32mcsg_mamba\u001b[0m: Configuration for Columbia csg partition cluster\n",
      "INFO: \u001b[32mcsg_mamba\u001b[0m is \u001b[32mcompleted\u001b[0m.\n",
      "INFO: \u001b[32mcsg_mamba\u001b[0m output:   \u001b[32m/home/dmc2245/UKBiobank/results/ukb23157_500Kexomes_annovar/pgen_annotation/chr17_pgen500Kexomes_annotation_2023-10-18.sbatch\u001b[0m\n",
      "INFO: Workflow csg_mamba (ID=w0d30a2fa6d09d355) is executed successfully with 1 completed step.\n"
     ]
    }
   ],
   "source": [
    "tpl_file=~/project/bioworkflows/admin/csg.yml\n",
    "annovar_dir=~/UKBiobank/results/ukb23157_500Kexomes_annovar/pgen_annotation\n",
    "annovar_sos=~/project/bioworkflows/variant-annotation/annovar-rap.ipynb\n",
    "annovar_sbatch=~/UKBiobank/results/ukb23157_500Kexomes_annovar/pgen_annotation/chr17_pgen500Kexomes_annotation_$(date +\"%Y-%m-%d\").sbatch\n",
    "pvar_files=~/UKBiobank/RAP/pgen_files/ukb23157_c17.concat.pvar\n",
    "walltime=\"60h\"\n",
    "mem=\"30G\"\n",
    "\n",
    "annovar_args=\"\"\"annovar\n",
    "    --cwd $annovar_dir \n",
    "    --bim_name $pvar_files \n",
    "    --humandb /mnt/vast/hpc/csg/isabelle/REF/humandb\n",
    "    --xref_path /mnt/vast/hpc/csg/isabelle/REF/humandb \n",
    "    --job_size 1 \n",
    "    --build 'hg38' \n",
    "    --name_prefix c17\n",
    "    --walltime $walltime\n",
    "    --mem $mem\n",
    "    --container_annovar /mnt/mfs/statgen/containers/gatk4-annovar.sif\n",
    "\"\"\"\n",
    "\n",
    "sos run ~/project/UKBB_GWAS_dev/admin/Get_Job_Script.ipynb csg_mamba \\\n",
    "    --template-file $tpl_file \\\n",
    "    --workflow-file $annovar_sos \\\n",
    "    --to-script $annovar_sbatch \\\n",
    "    --args \"$annovar_args\""
   ]
  },
  {
   "cell_type": "code",
   "execution_count": 21,
   "id": "82c3af84-bc73-47dd-b021-b528b88014bf",
   "metadata": {
    "kernel": "Bash",
    "tags": []
   },
   "outputs": [
    {
     "name": "stdout",
     "output_type": "stream",
     "text": [
      "INFO: Running \u001b[32mcsg_mamba\u001b[0m: Configuration for Columbia csg partition cluster\n",
      "INFO: \u001b[32mcsg_mamba\u001b[0m is \u001b[32mcompleted\u001b[0m.\n",
      "INFO: \u001b[32mcsg_mamba\u001b[0m output:   \u001b[32m/home/dmc2245/UKBiobank/results/ukb23157_500Kexomes_annovar/pgen_annotation/chr18_pgen500Kexomes_annotation_2023-10-18.sbatch\u001b[0m\n",
      "INFO: Workflow csg_mamba (ID=wd38a864a42ee732c) is executed successfully with 1 completed step.\n"
     ]
    }
   ],
   "source": [
    "tpl_file=~/project/bioworkflows/admin/csg.yml\n",
    "annovar_dir=~/UKBiobank/results/ukb23157_500Kexomes_annovar/pgen_annotation\n",
    "annovar_sos=~/project/bioworkflows/variant-annotation/annovar-rap.ipynb\n",
    "annovar_sbatch=~/UKBiobank/results/ukb23157_500Kexomes_annovar/pgen_annotation/chr18_pgen500Kexomes_annotation_$(date +\"%Y-%m-%d\").sbatch\n",
    "pvar_files=~/UKBiobank/RAP/pgen_files/ukb23157_c18.concat.pvar\n",
    "walltime=\"60h\"\n",
    "mem=\"30G\"\n",
    "\n",
    "annovar_args=\"\"\"annovar\n",
    "    --cwd $annovar_dir \n",
    "    --bim_name $pvar_files \n",
    "    --humandb /mnt/vast/hpc/csg/isabelle/REF/humandb\n",
    "    --xref_path /mnt/vast/hpc/csg/isabelle/REF/humandb \n",
    "    --job_size 1 \n",
    "    --build 'hg38' \n",
    "    --name_prefix c18\n",
    "    --walltime $walltime\n",
    "    --mem $mem\n",
    "    --container_annovar /mnt/mfs/statgen/containers/gatk4-annovar.sif\n",
    "\"\"\"\n",
    "\n",
    "sos run ~/project/UKBB_GWAS_dev/admin/Get_Job_Script.ipynb csg_mamba \\\n",
    "    --template-file $tpl_file \\\n",
    "    --workflow-file $annovar_sos \\\n",
    "    --to-script $annovar_sbatch \\\n",
    "    --args \"$annovar_args\""
   ]
  },
  {
   "cell_type": "code",
   "execution_count": 22,
   "id": "b0aa7339-1ff8-404f-a467-10d3002fc8b6",
   "metadata": {
    "kernel": "Bash",
    "tags": []
   },
   "outputs": [
    {
     "name": "stdout",
     "output_type": "stream",
     "text": [
      "INFO: Running \u001b[32mcsg_mamba\u001b[0m: Configuration for Columbia csg partition cluster\n",
      "INFO: \u001b[32mcsg_mamba\u001b[0m is \u001b[32mcompleted\u001b[0m.\n",
      "INFO: \u001b[32mcsg_mamba\u001b[0m output:   \u001b[32m/home/dmc2245/UKBiobank/results/ukb23157_500Kexomes_annovar/pgen_annotation/chr19_pgen500Kexomes_annotation_2023-10-18.sbatch\u001b[0m\n",
      "INFO: Workflow csg_mamba (ID=w9e23dc3d91b6f40c) is executed successfully with 1 completed step.\n"
     ]
    }
   ],
   "source": [
    "tpl_file=~/project/bioworkflows/admin/csg.yml\n",
    "annovar_dir=~/UKBiobank/results/ukb23157_500Kexomes_annovar/pgen_annotation\n",
    "annovar_sos=~/project/bioworkflows/variant-annotation/annovar-rap.ipynb\n",
    "annovar_sbatch=~/UKBiobank/results/ukb23157_500Kexomes_annovar/pgen_annotation/chr19_pgen500Kexomes_annotation_$(date +\"%Y-%m-%d\").sbatch\n",
    "pvar_files=~/UKBiobank/RAP/pgen_files/ukb23157_c19.concat.pvar\n",
    "walltime=\"60h\"\n",
    "mem=\"30G\"\n",
    "\n",
    "annovar_args=\"\"\"annovar\n",
    "    --cwd $annovar_dir \n",
    "    --bim_name $pvar_files \n",
    "    --humandb /mnt/vast/hpc/csg/isabelle/REF/humandb\n",
    "    --xref_path /mnt/vast/hpc/csg/isabelle/REF/humandb \n",
    "    --job_size 1 \n",
    "    --build 'hg38' \n",
    "    --name_prefix c19\n",
    "    --walltime $walltime\n",
    "    --mem $mem\n",
    "    --container_annovar /mnt/mfs/statgen/containers/gatk4-annovar.sif\n",
    "\"\"\"\n",
    "\n",
    "sos run ~/project/UKBB_GWAS_dev/admin/Get_Job_Script.ipynb csg_mamba \\\n",
    "    --template-file $tpl_file \\\n",
    "    --workflow-file $annovar_sos \\\n",
    "    --to-script $annovar_sbatch \\\n",
    "    --args \"$annovar_args\""
   ]
  },
  {
   "cell_type": "code",
   "execution_count": 23,
   "id": "a0e98110-8ca1-4e8b-84f4-30b9f6a64306",
   "metadata": {
    "kernel": "Bash",
    "tags": []
   },
   "outputs": [
    {
     "name": "stdout",
     "output_type": "stream",
     "text": [
      "INFO: Running \u001b[32mcsg_mamba\u001b[0m: Configuration for Columbia csg partition cluster\n",
      "INFO: \u001b[32mcsg_mamba\u001b[0m is \u001b[32mcompleted\u001b[0m.\n",
      "INFO: \u001b[32mcsg_mamba\u001b[0m output:   \u001b[32m/home/dmc2245/UKBiobank/results/ukb23157_500Kexomes_annovar/pgen_annotation/chr20_pgen500Kexomes_annotation_2023-10-18.sbatch\u001b[0m\n",
      "INFO: Workflow csg_mamba (ID=w96103edc501896ae) is executed successfully with 1 completed step.\n"
     ]
    }
   ],
   "source": [
    "tpl_file=~/project/bioworkflows/admin/csg.yml\n",
    "annovar_dir=~/UKBiobank/results/ukb23157_500Kexomes_annovar/pgen_annotation\n",
    "annovar_sos=~/project/bioworkflows/variant-annotation/annovar-rap.ipynb\n",
    "annovar_sbatch=~/UKBiobank/results/ukb23157_500Kexomes_annovar/pgen_annotation/chr20_pgen500Kexomes_annotation_$(date +\"%Y-%m-%d\").sbatch\n",
    "pvar_files=~/UKBiobank/RAP/pgen_files/ukb23157_c20.concat.pvar\n",
    "walltime=\"60h\"\n",
    "mem=\"30G\"\n",
    "\n",
    "annovar_args=\"\"\"annovar\n",
    "    --cwd $annovar_dir \n",
    "    --bim_name $pvar_files \n",
    "    --humandb /mnt/vast/hpc/csg/isabelle/REF/humandb\n",
    "    --xref_path /mnt/vast/hpc/csg/isabelle/REF/humandb \n",
    "    --job_size 1 \n",
    "    --build 'hg38' \n",
    "    --name_prefix c20\n",
    "    --walltime $walltime\n",
    "    --mem $mem\n",
    "    --container_annovar /mnt/mfs/statgen/containers/gatk4-annovar.sif\n",
    "\"\"\"\n",
    "\n",
    "sos run ~/project/UKBB_GWAS_dev/admin/Get_Job_Script.ipynb csg_mamba \\\n",
    "    --template-file $tpl_file \\\n",
    "    --workflow-file $annovar_sos \\\n",
    "    --to-script $annovar_sbatch \\\n",
    "    --args \"$annovar_args\""
   ]
  },
  {
   "cell_type": "code",
   "execution_count": 24,
   "id": "e4c4b762-16d9-4c17-a2ff-0b7a6a0d2907",
   "metadata": {
    "kernel": "Bash",
    "tags": []
   },
   "outputs": [
    {
     "name": "stdout",
     "output_type": "stream",
     "text": [
      "INFO: Running \u001b[32mcsg_mamba\u001b[0m: Configuration for Columbia csg partition cluster\n",
      "INFO: \u001b[32mcsg_mamba\u001b[0m is \u001b[32mcompleted\u001b[0m.\n",
      "INFO: \u001b[32mcsg_mamba\u001b[0m output:   \u001b[32m/home/dmc2245/UKBiobank/results/ukb23157_500Kexomes_annovar/pgen_annotation/chr21_pgen500Kexomes_annotation_2023-10-18.sbatch\u001b[0m\n",
      "INFO: Workflow csg_mamba (ID=w64af5edc2ca7cab2) is executed successfully with 1 completed step.\n"
     ]
    }
   ],
   "source": [
    "tpl_file=~/project/bioworkflows/admin/csg.yml\n",
    "annovar_dir=~/UKBiobank/results/ukb23157_500Kexomes_annovar/pgen_annotation\n",
    "annovar_sos=~/project/bioworkflows/variant-annotation/annovar-rap.ipynb\n",
    "annovar_sbatch=~/UKBiobank/results/ukb23157_500Kexomes_annovar/pgen_annotation/chr21_pgen500Kexomes_annotation_$(date +\"%Y-%m-%d\").sbatch\n",
    "pvar_files=~/UKBiobank/RAP/pgen_files/ukb23157_c21.concat.pvar\n",
    "walltime=\"60h\"\n",
    "mem=\"30G\"\n",
    "\n",
    "annovar_args=\"\"\"annovar\n",
    "    --cwd $annovar_dir \n",
    "    --bim_name $pvar_files \n",
    "    --humandb /mnt/vast/hpc/csg/isabelle/REF/humandb\n",
    "    --xref_path /mnt/vast/hpc/csg/isabelle/REF/humandb \n",
    "    --job_size 1 \n",
    "    --build 'hg38' \n",
    "    --name_prefix c21\n",
    "    --walltime $walltime\n",
    "    --mem $mem\n",
    "    --container_annovar /mnt/mfs/statgen/containers/gatk4-annovar.sif\n",
    "\"\"\"\n",
    "\n",
    "sos run ~/project/UKBB_GWAS_dev/admin/Get_Job_Script.ipynb csg_mamba \\\n",
    "    --template-file $tpl_file \\\n",
    "    --workflow-file $annovar_sos \\\n",
    "    --to-script $annovar_sbatch \\\n",
    "    --args \"$annovar_args\""
   ]
  },
  {
   "cell_type": "code",
   "execution_count": 27,
   "id": "a8928fc7-dbb6-48c4-8fe5-fc05d4a71e6a",
   "metadata": {
    "kernel": "Bash",
    "tags": []
   },
   "outputs": [
    {
     "name": "stdout",
     "output_type": "stream",
     "text": [
      "INFO: Running \u001b[32mcsg_mamba\u001b[0m: Configuration for Columbia csg partition cluster\n",
      "INFO: \u001b[32mcsg_mamba\u001b[0m is \u001b[32mcompleted\u001b[0m.\n",
      "INFO: \u001b[32mcsg_mamba\u001b[0m output:   \u001b[32m/home/dmc2245/UKBiobank/results/ukb23157_500Kexomes_annovar/pgen_annotation/chr22_pgen500Kexomes_annotation_2023-10-18.sbatch\u001b[0m\n",
      "INFO: Workflow csg_mamba (ID=wdcb9aeacf1c4afee) is executed successfully with 1 completed step.\n"
     ]
    }
   ],
   "source": [
    "tpl_file=~/project/bioworkflows/admin/csg.yml\n",
    "annovar_dir=~/UKBiobank/results/ukb23157_500Kexomes_annovar/pgen_annotation\n",
    "annovar_sos=~/project/bioworkflows/variant-annotation/annovar-rap.ipynb\n",
    "annovar_sbatch=~/UKBiobank/results/ukb23157_500Kexomes_annovar/pgen_annotation/chr22_pgen500Kexomes_annotation_$(date +\"%Y-%m-%d\").sbatch\n",
    "pvar_files=~/UKBiobank/RAP/pgen_files/ukb23157_c22.concat.pvar\n",
    "walltime=\"60h\"\n",
    "mem=\"30G\"\n",
    "\n",
    "annovar_args=\"\"\"annovar\n",
    "    --cwd $annovar_dir \n",
    "    --bim_name $pvar_files \n",
    "    --humandb /mnt/vast/hpc/csg/isabelle/REF/humandb\n",
    "    --xref_path /mnt/vast/hpc/csg/isabelle/REF/humandb \n",
    "    --job_size 1 \n",
    "    --build 'hg38' \n",
    "    --name_prefix c22\n",
    "    --walltime $walltime\n",
    "    --mem $mem\n",
    "    --container_annovar /mnt/mfs/statgen/containers/gatk4-annovar.sif\n",
    "\"\"\"\n",
    "\n",
    "sos run ~/project/UKBB_GWAS_dev/admin/Get_Job_Script.ipynb csg_mamba \\\n",
    "    --template-file $tpl_file \\\n",
    "    --workflow-file $annovar_sos \\\n",
    "    --to-script $annovar_sbatch \\\n",
    "    --args \"$annovar_args\""
   ]
  },
  {
   "cell_type": "markdown",
   "id": "b6689832-dbe8-4534-bcb3-fa2b0cc3938f",
   "metadata": {
    "kernel": "Bash"
   },
   "source": [
    "## Create the anno_file, set_list_file and mask_files necessary for burden test"
   ]
  },
  {
   "cell_type": "code",
   "execution_count": 5,
   "id": "3d645e42-3820-48c6-a239-dee53fb975b5",
   "metadata": {
    "kernel": "Bash",
    "tags": []
   },
   "outputs": [
    {
     "name": "stdout",
     "output_type": "stream",
     "text": [
      "INFO: Running \u001b[32mcsg_mamba\u001b[0m: Configuration for Columbia csg partition cluster\n",
      "INFO: \u001b[32mcsg_mamba\u001b[0m is \u001b[32mcompleted\u001b[0m.\n",
      "INFO: \u001b[32mcsg_mamba\u001b[0m output:   \u001b[32m/home/dmc2245/UKBiobank/results/ukb23157_500Kexomes_annovar/burden_files/ukb23157_500Kexomes_burdenfiles_2023-09-20.sbatch\u001b[0m\n",
      "INFO: Workflow csg_mamba (ID=w3b02eb833862c33c) is executed successfully with 1 completed step.\n",
      "\n"
     ]
    }
   ],
   "source": [
    "burden_dir=~/UKBiobank/results/ukb23157_500Kexomes_annovar/burden_files\n",
    "anno_sbatch_burden=~/UKBiobank/results/ukb23157_500Kexomes_annovar/burden_files/ukb23157_500Kexomes_burdenfiles_$(date +\"%Y-%m-%d\").sbatch\n",
    "annotated_file_hg38=~/UKBiobank/results/ukb23157_500Kexomes_annovar/chr22.hg38.hg38_multianno.csv\n",
    "bim_name=~/UKBiobank/RAP/chr22.bim\n",
    "job_size=1\n",
    "name_prefix='c22'\n",
    "anno_sos=~/project/bioworkflows/variant-annotation/annovar-rap.ipynb\n",
    "tpl_file=~/project/bioworkflows/admin/csg.yml\n",
    "container_annovar=~/containers/gatk4-annovar.sif\n",
    "\n",
    "anno_args=\"\"\"burden_files\n",
    "    --cwd $burden_dir\n",
    "    --annotated_file $annotated_file_hg38\n",
    "    --bim_name $bim_name\n",
    "    --name_prefix $name_prefix\n",
    "    --job_size $job_size\n",
    "    --container_annovar $container_annovar\n",
    "\"\"\"\n",
    "\n",
    "sos run ~/project/UKBB_GWAS_dev/admin/Get_Job_Script.ipynb csg_mamba \\\n",
    "    --template-file $tpl_file \\\n",
    "    --workflow-file $anno_sos \\\n",
    "    --to-script $anno_sbatch_burden\\\n",
    "    --args \"$anno_args\"\n"
   ]
  },
  {
   "cell_type": "code",
   "execution_count": 8,
   "id": "91225cd1-4b51-4830-a741-3b6ee8b85e8c",
   "metadata": {
    "kernel": "Bash",
    "tags": []
   },
   "outputs": [
    {
     "name": "stdout",
     "output_type": "stream",
     "text": [
      "INFO: Running \u001b[32mcsg_mamba\u001b[0m: Configuration for Columbia csg partition cluster\n",
      "INFO: \u001b[32mcsg_mamba\u001b[0m is \u001b[32mcompleted\u001b[0m.\n",
      "INFO: \u001b[32mcsg_mamba\u001b[0m output:   \u001b[32m/home/dmc2245/UKBiobank/results/ukb23157_500Kexomes_annovar/burden_files/ukb23157_c1_22_500Kexomes_burdenfiles_2023-09-22.sbatch\u001b[0m\n",
      "INFO: Workflow csg_mamba (ID=we7b7eb07f5915300) is executed successfully with 1 completed step.\n",
      "\n"
     ]
    }
   ],
   "source": [
    "burden_dir=~/UKBiobank/results/ukb23157_500Kexomes_annovar/burden_files\n",
    "anno_sbatch_burden=~/UKBiobank/results/ukb23157_500Kexomes_annovar/burden_files/ukb23157_c1_22_500Kexomes_burdenfiles_$(date +\"%Y-%m-%d\").sbatch\n",
    "annotated_file_hg38=`echo ~/UKBiobank/results/ukb23157_500Kexomes_annovar/chr{1..22}.hg38.hg38_multianno.csv`\n",
    "bim_name=~/UKBiobank/RAP/ukb23158_c1_22_variants.bim\n",
    "job_size=1\n",
    "name_prefix='c1_c22'\n",
    "anno_sos=~/project/bioworkflows/variant-annotation/annovar-rap.ipynb\n",
    "tpl_file=~/project/bioworkflows/admin/csg.yml\n",
    "container_annovar=~/containers/gatk4-annovar.sif\n",
    "\n",
    "anno_args=\"\"\"burden_files\n",
    "    --cwd $burden_dir\n",
    "    --annotated_file $annotated_file_hg38\n",
    "    --bim_name $bim_name\n",
    "    --name_prefix $name_prefix\n",
    "    --job_size $job_size\n",
    "    --container_annovar $container_annovar\n",
    "\"\"\"\n",
    "\n",
    "sos run ~/project/UKBB_GWAS_dev/admin/Get_Job_Script.ipynb csg_mamba \\\n",
    "    --template-file $tpl_file \\\n",
    "    --workflow-file $anno_sos \\\n",
    "    --to-script $anno_sbatch_burden\\\n",
    "    --args \"$anno_args\"\n"
   ]
  },
  {
   "cell_type": "code",
   "execution_count": 1,
   "id": "1205fa6e-f727-443c-97a2-96f626dff320",
   "metadata": {
    "kernel": "Bash",
    "tags": []
   },
   "outputs": [
    {
     "name": "stdout",
     "output_type": "stream",
     "text": [
      "INFO: Running \u001b[32mcsg_mamba\u001b[0m: Configuration for Columbia csg partition cluster\n",
      "INFO: \u001b[32mcsg_mamba\u001b[0m is \u001b[32mcompleted\u001b[0m.\n",
      "INFO: \u001b[32mcsg_mamba\u001b[0m output:   \u001b[32m/home/dmc2245/UKBiobank/results/ukb23157_500Kexomes_annovar/burden_files/VEP_ukb23157_cX_500KWES_burdenfiles_2023-11-06.sbatch\u001b[0m\n",
      "INFO: Workflow csg_mamba (ID=w748686bf2cfbe372) is executed successfully with 1 completed step.\n"
     ]
    }
   ],
   "source": [
    "burden_dir=~/UKBiobank/results/ukb23157_500Kexomes_annovar/burden_files\n",
    "anno_sbatch_burden=~/UKBiobank/results/ukb23157_500Kexomes_annovar/burden_files/VEP_ukb23157_cX_500KWES_burdenfiles_$(date +\"%Y-%m-%d\").sbatch\n",
    "annovar_anno=~/UKBiobank/results/ukb23157_500Kexomes_annovar/chrx.hg38.hg38_multianno.csv\n",
    "vep_anno=~/UKBiobank/results/ukb23157_500Kexomes_annovar/pgen_annotation/ukb23157_cX.concat.VEP.CADD_gnomAD.formatted.tsv.gz\n",
    "bim_name=~/UKBiobank/RAP/chrx.bim\n",
    "job_size=1\n",
    "name_prefix='cx'\n",
    "anno_sos=~/project/bioworkflows/variant-annotation/annovar-rap.ipynb\n",
    "tpl_file=~/project/bioworkflows/admin/csg.yml\n",
    "container_annovar=~/containers/gatk4-annovar.sif\n",
    "\n",
    "anno_args=\"\"\"burden_files\n",
    "    --cwd $burden_dir\n",
    "    --annovar_anno $annovar_anno\n",
    "    --vep_anno $vep_anno\n",
    "    --bim_name $bim_name\n",
    "    --name_prefix $name_prefix\n",
    "    --job_size $job_size\n",
    "    --container_annovar $container_annovar\n",
    "\"\"\"\n",
    "\n",
    "sos run ~/project/UKBB_GWAS_dev/admin/Get_Job_Script.ipynb csg_mamba \\\n",
    "    --template-file $tpl_file \\\n",
    "    --workflow-file $anno_sos \\\n",
    "    --to-script $anno_sbatch_burden\\\n",
    "    --args \"$anno_args\"\n"
   ]
  },
  {
   "cell_type": "markdown",
   "id": "4a50d85e-742f-4a51-a24e-25e3622204bb",
   "metadata": {
    "kernel": "Bash"
   },
   "source": [
    "## Create burden_file using annovar and VEP annotation"
   ]
  },
  {
   "cell_type": "code",
   "execution_count": 4,
   "id": "ac8efa05-1c5b-4c82-99e0-9d5bec0356d1",
   "metadata": {
    "kernel": "Bash",
    "tags": []
   },
   "outputs": [
    {
     "name": "stdout",
     "output_type": "stream",
     "text": [
      "INFO: Running \u001b[32mcsg_mamba\u001b[0m: Configuration for Columbia csg partition cluster\n",
      "INFO: \u001b[32mcsg_mamba\u001b[0m is \u001b[32mcompleted\u001b[0m.\n",
      "INFO: \u001b[32mcsg_mamba\u001b[0m output:   \u001b[32m/home/dmc2245/UKBiobank/results/ukb23157_500Kexomes_annovar/burden_files/CADD_annotation/VEP_ukb23157_c3_22_500KWES_burdenfiles_2023-11-06.sbatch\u001b[0m\n",
      "INFO: Workflow csg_mamba (ID=w50822144d7bcc813) is executed successfully with 1 completed step.\n"
     ]
    }
   ],
   "source": [
    "burden_dir=~/UKBiobank/results/ukb23157_500Kexomes_annovar/burden_files/CADD_annotation\n",
    "anno_sbatch_burden=~/UKBiobank/results/ukb23157_500Kexomes_annovar/burden_files/CADD_annotation/VEP_ukb23157_c3_22_500KWES_burdenfiles_$(date +\"%Y-%m-%d\").sbatch\n",
    "annovar_anno=`echo ~/UKBiobank/results/ukb23157_500Kexomes_annovar/chr{3..22}.hg38.hg38_multianno.csv`\n",
    "vep_anno=`echo ~/UKBiobank/results/ukb23157_500Kexomes_annovar/pgen_annotation/ukb23157_c{3..22}.concat.VEP.CADD_gnomAD.formatted.tsv.gz`\n",
    "bim_name=`echo ~/UKBiobank/RAP/chr{3..22}.bim`\n",
    "job_size=1\n",
    "name_prefix='c3-22'\n",
    "anno_sos=~/project/bioworkflows/variant-annotation/annovar-rap.ipynb\n",
    "tpl_file=~/project/bioworkflows/admin/csg.yml\n",
    "container_annovar=~/containers/gatk4-annovar.sif\n",
    "\n",
    "anno_args=\"\"\"burden_files\n",
    "    --cwd $burden_dir\n",
    "    --annovar_anno $annovar_anno\n",
    "    --vep_anno $vep_anno\n",
    "    --bim_name $bim_name\n",
    "    --name_prefix $name_prefix\n",
    "    --job_size $job_size\n",
    "    --container_annovar $container_annovar\n",
    "\"\"\"\n",
    "\n",
    "sos run ~/project/UKBB_GWAS_dev/admin/Get_Job_Script.ipynb csg_mamba \\\n",
    "    --template-file $tpl_file \\\n",
    "    --workflow-file $anno_sos \\\n",
    "    --to-script $anno_sbatch_burden\\\n",
    "    --args \"$anno_args\"\n"
   ]
  },
  {
   "cell_type": "markdown",
   "id": "29fafbec-8e28-4be9-9e56-12b8cd7c278a",
   "metadata": {
    "kernel": "Bash"
   },
   "source": [
    "## Annotation of significant results univariate analysis RAP"
   ]
  },
  {
   "cell_type": "markdown",
   "id": "2f898e53-5963-4cad-958d-cfde952b78ca",
   "metadata": {
    "kernel": "Bash"
   },
   "source": [
    "### Haid"
   ]
  },
  {
   "cell_type": "code",
   "execution_count": 1,
   "id": "22a04078-79c7-44d0-bc1f-18df1f8f1212",
   "metadata": {
    "kernel": "Bash",
    "tags": []
   },
   "outputs": [
    {
     "name": "stderr",
     "output_type": "stream",
     "text": [
      "Traceback (most recent call last):\n",
      "  File \"/mnt/mfs/hgrcgrid/homes/dmc2245/micromamba/envs/pisces-rabbit/lib/python3.10/runpy.py\", line 196, in _run_module_as_main\n",
      "    return _run_code(code, main_globals, None,\n",
      "  File \"/mnt/mfs/hgrcgrid/homes/dmc2245/micromamba/envs/pisces-rabbit/lib/python3.10/runpy.py\", line 86, in _run_code\n",
      "    exec(code, run_globals)\n",
      "  File \"/mnt/mfs/hgrcgrid/homes/dmc2245/micromamba/envs/pisces-rabbit/lib/python3.10/site-packages/calysto_bash/__main__.py\", line 2, in <module>\n",
      "    from .kernel import BashKernel\n",
      "  File \"/mnt/mfs/hgrcgrid/homes/dmc2245/micromamba/envs/pisces-rabbit/lib/python3.10/site-packages/calysto_bash/kernel.py\", line 6, in <module>\n",
      "    from metakernel import MetaKernel\n",
      "  File \"/mnt/mfs/hgrcgrid/homes/dmc2245/micromamba/envs/pisces-rabbit/lib/python3.10/site-packages/metakernel/__init__.py\", line 2, in <module>\n",
      "    from ._metakernel import (\n",
      "  File \"/mnt/mfs/hgrcgrid/homes/dmc2245/micromamba/envs/pisces-rabbit/lib/python3.10/site-packages/metakernel/_metakernel.py\", line 21, in <module>\n",
      "    from IPython.paths import get_ipython_dir\n",
      "  File \"/mnt/mfs/hgrcgrid/homes/dmc2245/micromamba/envs/pisces-rabbit/lib/python3.10/site-packages/IPython/__init__.py\", line 54, in <module>\n",
      "    from .terminal.embed import embed\n",
      "  File \"/mnt/mfs/hgrcgrid/homes/dmc2245/micromamba/envs/pisces-rabbit/lib/python3.10/site-packages/IPython/terminal/embed.py\", line 16, in <module>\n",
      "    from IPython.terminal.interactiveshell import TerminalInteractiveShell\n",
      "  File \"/mnt/mfs/hgrcgrid/homes/dmc2245/micromamba/envs/pisces-rabbit/lib/python3.10/site-packages/IPython/terminal/interactiveshell.py\", line 48, in <module>\n",
      "    from .debugger import TerminalPdb, Pdb\n",
      "  File \"/mnt/mfs/hgrcgrid/homes/dmc2245/micromamba/envs/pisces-rabbit/lib/python3.10/site-packages/IPython/terminal/debugger.py\", line 6, in <module>\n",
      "    from IPython.core.completer import IPCompleter\n",
      "  File \"/mnt/mfs/hgrcgrid/homes/dmc2245/micromamba/envs/pisces-rabbit/lib/python3.10/site-packages/IPython/core/completer.py\", line 250, in <module>\n",
      "    import jedi\n",
      "  File \"/mnt/mfs/hgrcgrid/homes/dmc2245/micromamba/envs/pisces-rabbit/lib/python3.10/site-packages/jedi/__init__.py\", line 32, in <module>\n",
      "    from jedi.api import Script, Interpreter, set_debug_function, preload_module\n",
      "  File \"/mnt/mfs/hgrcgrid/homes/dmc2245/micromamba/envs/pisces-rabbit/lib/python3.10/site-packages/jedi/api/__init__.py\", line 21, in <module>\n",
      "    from jedi.api import classes\n",
      "  File \"/mnt/mfs/hgrcgrid/homes/dmc2245/micromamba/envs/pisces-rabbit/lib/python3.10/site-packages/jedi/api/classes.py\", line 24, in <module>\n",
      "    from jedi.inference.utils import unite\n",
      "  File \"/mnt/mfs/hgrcgrid/homes/dmc2245/micromamba/envs/pisces-rabbit/lib/python3.10/site-packages/jedi/inference/__init__.py\", line 70, in <module>\n",
      "    from jedi.inference import imports\n",
      "  File \"/mnt/mfs/hgrcgrid/homes/dmc2245/micromamba/envs/pisces-rabbit/lib/python3.10/site-packages/jedi/inference/imports.py\", line 31, in <module>\n",
      "    from jedi.inference.compiled.subprocess.functions import ImplicitNSInfo\n",
      "  File \"/mnt/mfs/hgrcgrid/homes/dmc2245/micromamba/envs/pisces-rabbit/lib/python3.10/site-packages/jedi/inference/compiled/subprocess/__init__.py\", line 20, in <module>\n",
      "    from jedi._compatibility import pickle_dump, pickle_load\n",
      "  File \"<frozen importlib._bootstrap>\", line 1027, in _find_and_load\n",
      "  File \"<frozen importlib._bootstrap>\", line 1006, in _find_and_load_unlocked\n",
      "  File \"<frozen importlib._bootstrap>\", line 688, in _load_unlocked\n",
      "  File \"<frozen importlib._bootstrap_external>\", line 879, in exec_module\n",
      "  File \"<frozen importlib._bootstrap_external>\", line 975, in get_code\n",
      "  File \"<frozen importlib._bootstrap_external>\", line 1074, in get_data\n",
      "KeyboardInterrupt\n"
     ]
    },
    {
     "name": "stdout",
     "output_type": "stream",
     "text": [
      "INFO: Running \u001b[32mcsg_mamba\u001b[0m: Configuration for Columbia csg partition cluster\n",
      "INFO: \u001b[32mcsg_mamba\u001b[0m is \u001b[32mcompleted\u001b[0m.\n",
      "INFO: \u001b[32mcsg_mamba\u001b[0m output:   \u001b[32m/home/dmc2245/UKBiobank/RAP/results/autosomal/univariate/Haid/Haid_500Kexomes_annotation_2023-09-27.sbatch\u001b[0m\n",
      "INFO: Workflow csg_mamba (ID=wd9ae5ebb8b5e68e7) is executed successfully with 1 completed step.\n",
      "\n"
     ]
    }
   ],
   "source": [
    "tpl_file=~/project/bioworkflows/admin/csg.yml\n",
    "annovar_dir=~/UKBiobank/results/ukb23157_500Kexomes_annovar/\n",
    "annovar_sos=~/project/bioworkflows/variant-annotation/annovar.ipynb\n",
    "annovar_sbatch=~/UKBiobank/RAP/results/autosomal/univariate/Haid/Haid_500Kexomes_annotation_$(date +\"%Y-%m-%d\").sbatch\n",
    "sumstat_file=~/UKBiobank/RAP/results/autosomal/univariate/Haid/Haid_pval5e-08.txt\n",
    "walltime=\"60h\"\n",
    "mem=\"30G\"\n",
    "\n",
    "annovar_args=\"\"\"annovar\n",
    "    --cwd $annovar_dir \n",
    "    --bim_name $sumstat_file\n",
    "    --humandb /mnt/vast/hpc/csg/isabelle/REF/humandb\n",
    "    --xref_path /mnt/vast/hpc/csg/isabelle/REF/humandb \n",
    "    --job_size 1 \n",
    "    --build 'hg38' \n",
    "    --name_prefix Haid_sig_variants\n",
    "    --walltime $walltime\n",
    "    --mem $mem\n",
    "    --container_annovar /mnt/mfs/statgen/containers/gatk4-annovar.sif\n",
    "\"\"\"\n",
    "\n",
    "sos run ~/project/UKBB_GWAS_dev/admin/Get_Job_Script.ipynb csg_mamba \\\n",
    "    --template-file $tpl_file \\\n",
    "    --workflow-file $annovar_sos \\\n",
    "    --to-script $annovar_sbatch \\\n",
    "    --args \"$annovar_args\""
   ]
  },
  {
   "cell_type": "markdown",
   "id": "2eb7539c-0485-448b-91c1-d693d5dfff74",
   "metadata": {
    "kernel": "Bash"
   },
   "source": [
    "### Hdiff"
   ]
  },
  {
   "cell_type": "code",
   "execution_count": 2,
   "id": "387c2dea-675f-42ca-93b6-e8a2dc5ac8b2",
   "metadata": {
    "kernel": "Bash",
    "tags": []
   },
   "outputs": [
    {
     "name": "stdout",
     "output_type": "stream",
     "text": [
      "INFO: Running \u001b[32mcsg_mamba\u001b[0m: Configuration for Columbia csg partition cluster\n",
      "INFO: \u001b[32mcsg_mamba\u001b[0m is \u001b[32mcompleted\u001b[0m.\n",
      "INFO: \u001b[32mcsg_mamba\u001b[0m output:   \u001b[32m/home/dmc2245/UKBiobank/RAP/results/autosomal/univariate/Hdiff/Hdiff_500Kexomes_annotation_2023-09-28.sbatch\u001b[0m\n",
      "INFO: Workflow csg_mamba (ID=w2a12aa29b0a54831) is executed successfully with 1 completed step.\n",
      "\n"
     ]
    }
   ],
   "source": [
    "tpl_file=~/project/bioworkflows/admin/csg.yml\n",
    "cwd=~/UKBiobank/RAP/results/autosomal/univariate/Hdiff/\n",
    "annovar_sos=~/project/bioworkflows/variant-annotation/annovar-rap.ipynb\n",
    "annovar_sbatch=~/UKBiobank/RAP/results/autosomal/univariate/Hdiff/Hdiff_500Kexomes_annotation_$(date +\"%Y-%m-%d\").sbatch\n",
    "sumstat_file=~/UKBiobank/RAP/results/autosomal/univariate/Hdiff/Hdiff_pval5e-08.txt\n",
    "walltime=\"60h\"\n",
    "mem=\"30G\"\n",
    "\n",
    "annovar_args=\"\"\"annovar\n",
    "    --cwd $cwd \n",
    "    --bim_name $sumstat_file\n",
    "    --humandb /mnt/vast/hpc/csg/isabelle/REF/humandb\n",
    "    --xref_path /mnt/vast/hpc/csg/isabelle/REF/humandb \n",
    "    --job_size 1 \n",
    "    --build 'hg38' \n",
    "    --name_prefix Hdiff_sig_variants\n",
    "    --walltime $walltime\n",
    "    --mem $mem\n",
    "    --container_annovar /mnt/mfs/statgen/containers/gatk4-annovar.sif\n",
    "\"\"\"\n",
    "\n",
    "sos run ~/project/UKBB_GWAS_dev/admin/Get_Job_Script.ipynb csg_mamba \\\n",
    "    --template-file $tpl_file \\\n",
    "    --workflow-file $annovar_sos \\\n",
    "    --to-script $annovar_sbatch \\\n",
    "    --args \"$annovar_args\""
   ]
  },
  {
   "cell_type": "markdown",
   "id": "f3bcb5f4-bfe3-4d12-95d6-47a6e3fe6bf0",
   "metadata": {
    "kernel": "Bash"
   },
   "source": [
    "### Hnoise"
   ]
  },
  {
   "cell_type": "code",
   "execution_count": 3,
   "id": "87c93bfa-83cd-4e83-af3b-2d0f9bfddb68",
   "metadata": {
    "kernel": "Bash",
    "tags": []
   },
   "outputs": [
    {
     "name": "stdout",
     "output_type": "stream",
     "text": [
      "INFO: Running \u001b[32mcsg_mamba\u001b[0m: Configuration for Columbia csg partition cluster\n",
      "INFO: \u001b[32mcsg_mamba\u001b[0m is \u001b[32mcompleted\u001b[0m.\n",
      "INFO: \u001b[32mcsg_mamba\u001b[0m output:   \u001b[32m/home/dmc2245/UKBiobank/RAP/results/autosomal/univariate/Hnoise/Hnoise_500Kexomes_annotation_2023-09-28.sbatch\u001b[0m\n",
      "INFO: Workflow csg_mamba (ID=wd9e9c63aa988089a) is executed successfully with 1 completed step.\n",
      "\n"
     ]
    }
   ],
   "source": [
    "tpl_file=~/project/bioworkflows/admin/csg.yml\n",
    "cwd=~/UKBiobank/RAP/results/autosomal/univariate/Hnoise/\n",
    "annovar_sos=~/project/bioworkflows/variant-annotation/annovar-rap.ipynb\n",
    "annovar_sbatch=~/UKBiobank/RAP/results/autosomal/univariate/Hnoise/Hnoise_500Kexomes_annotation_$(date +\"%Y-%m-%d\").sbatch\n",
    "sumstat_file=~/UKBiobank/RAP/results/autosomal/univariate/Hnoise/Hnoise_pval5e-08.txt\n",
    "walltime=\"60h\"\n",
    "mem=\"30G\"\n",
    "\n",
    "annovar_args=\"\"\"annovar\n",
    "    --cwd $cwd \n",
    "    --bim_name $sumstat_file\n",
    "    --humandb /mnt/vast/hpc/csg/isabelle/REF/humandb\n",
    "    --xref_path /mnt/vast/hpc/csg/isabelle/REF/humandb \n",
    "    --job_size 1 \n",
    "    --build 'hg38' \n",
    "    --name_prefix Hnoise_sig_variants\n",
    "    --walltime $walltime\n",
    "    --mem $mem\n",
    "    --container_annovar /mnt/mfs/statgen/containers/gatk4-annovar.sif\n",
    "\"\"\"\n",
    "\n",
    "sos run ~/project/UKBB_GWAS_dev/admin/Get_Job_Script.ipynb csg_mamba \\\n",
    "    --template-file $tpl_file \\\n",
    "    --workflow-file $annovar_sos \\\n",
    "    --to-script $annovar_sbatch \\\n",
    "    --args \"$annovar_args\""
   ]
  },
  {
   "cell_type": "markdown",
   "id": "6db0cec6-6170-402b-bbb9-b220ae46dca6",
   "metadata": {
    "kernel": "Bash"
   },
   "source": [
    "### Hboth"
   ]
  },
  {
   "cell_type": "code",
   "execution_count": 4,
   "id": "2e02b6ad-99be-4a55-964b-d7be5e063732",
   "metadata": {
    "kernel": "Bash",
    "tags": []
   },
   "outputs": [
    {
     "name": "stdout",
     "output_type": "stream",
     "text": [
      "INFO: Running \u001b[32mcsg_mamba\u001b[0m: Configuration for Columbia csg partition cluster\n",
      "INFO: \u001b[32mcsg_mamba\u001b[0m is \u001b[32mcompleted\u001b[0m.\n",
      "INFO: \u001b[32mcsg_mamba\u001b[0m output:   \u001b[32m/home/dmc2245/UKBiobank/RAP/results/autosomal/univariate/Hboth/Hboth_500Kexomes_annotation_2023-09-28.sbatch\u001b[0m\n",
      "INFO: Workflow csg_mamba (ID=w257421ebaa5dd1ce) is executed successfully with 1 completed step.\n",
      "\n"
     ]
    }
   ],
   "source": [
    "tpl_file=~/project/bioworkflows/admin/csg.yml\n",
    "cwd=~/UKBiobank/RAP/results/autosomal/univariate/Hboth/\n",
    "annovar_sos=~/project/bioworkflows/variant-annotation/annovar-rap.ipynb\n",
    "annovar_sbatch=~/UKBiobank/RAP/results/autosomal/univariate/Hboth/Hboth_500Kexomes_annotation_$(date +\"%Y-%m-%d\").sbatch\n",
    "sumstat_file=~/UKBiobank/RAP/results/autosomal/univariate/Hboth/Hboth_pval5e-08.txt\n",
    "walltime=\"60h\"\n",
    "mem=\"30G\"\n",
    "\n",
    "annovar_args=\"\"\"annovar\n",
    "    --cwd $cwd \n",
    "    --bim_name $sumstat_file\n",
    "    --humandb /mnt/vast/hpc/csg/isabelle/REF/humandb\n",
    "    --xref_path /mnt/vast/hpc/csg/isabelle/REF/humandb \n",
    "    --job_size 1 \n",
    "    --build 'hg38' \n",
    "    --name_prefix Hboth_sig_variants\n",
    "    --walltime $walltime\n",
    "    --mem $mem\n",
    "    --container_annovar /mnt/mfs/statgen/containers/gatk4-annovar.sif\n",
    "\"\"\"\n",
    "\n",
    "sos run ~/project/UKBB_GWAS_dev/admin/Get_Job_Script.ipynb csg_mamba \\\n",
    "    --template-file $tpl_file \\\n",
    "    --workflow-file $annovar_sos \\\n",
    "    --to-script $annovar_sbatch \\\n",
    "    --args \"$annovar_args\""
   ]
  },
  {
   "cell_type": "code",
   "execution_count": null,
   "id": "aea26565-e92b-44a9-8587-fe0920b4320b",
   "metadata": {
    "kernel": "Bash"
   },
   "outputs": [],
   "source": []
  }
 ],
 "metadata": {
  "kernelspec": {
   "display_name": "SoS",
   "language": "sos",
   "name": "sos"
  },
  "language_info": {
   "codemirror_mode": "sos",
   "file_extension": ".sos",
   "mimetype": "text/x-sos",
   "name": "sos",
   "nbconvert_exporter": "sos_notebook.converter.SoS_Exporter",
   "pygments_lexer": "sos"
  },
  "sos": {
   "kernels": [
    [
     "Bash",
     "bash",
     "Bash",
     "#E6EEFF",
     "shell"
    ]
   ],
   "version": "0.24.3"
  }
 },
 "nbformat": 4,
 "nbformat_minor": 5
}
