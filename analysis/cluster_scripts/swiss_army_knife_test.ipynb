{
 "cells": [
  {
   "cell_type": "code",
   "execution_count": 5,
   "id": "d500a46a-9fb6-4cd0-a7ed-b84b6fcce3b8",
   "metadata": {
    "kernel": "Bash",
    "tags": []
   },
   "outputs": [
    {
     "name": "stdout",
     "output_type": "stream",
     "text": [
      "INFO: Checking \u001b[32mqc_1\u001b[0m: Split multiallelic sites and create unique variant annotation\n",
      "HINT: singularity exec  /mnt/mfs/statgen/containers/lmm.sif /bin/bash /mnt/mfs/hgrcgrid/homes/dmc2245/project/UKBB_GWAS_dev/analysis/cluster_scripts/tmptthf625z/singularity_run_18963.sh\n",
      "python ~/monitor.py bcftools norm -m-any /mnt/mfs/statgen/UKBiobank/data/exome_files/project_VCF/ukb23156_c21_b0_v1.vcf.gz |\\\n",
      "python ~/monitor.py bcftools norm --check-ref w -f /home/dmc2245/software/GRCh38_reference_genome/GRCh38_full_analysis_set_plus_decoy_hla.fa  -Oz|\\\n",
      "python ~/monitor.py bcftools +fill-tags -- -t all,F_MISSING,'VD=sum(DP)' |\\\n",
      "python ~/monitor.py bcftools annotate -x ID -I +'%CHROM:%POS:%REF:%ALT' |\\\n",
      "python ~/monitor.py bcftools annotate -a /mnt/mfs/statgen/UKBiobank/data/exome_files/project_VCF/dbSPN_hg38/00-All.renamechrs.indels_snps.tab.gz  -h /mnt/mfs/statgen/UKBiobank/data/exome_files/project_VCF/dbSPN_hg38/00-All.renamechrs.indels_snps.header.txt -c CHROM,FROM,TO,RS -Oz > /mnt/mfs/statgen/UKBiobank/data/exome_files/project_VCF/072721_run/cache/ukb23156_c21_b0_v1.leftnorm.vcf.gz\n",
      "\n",
      "\n",
      "INFO: \u001b[32mqc_1\u001b[0m is \u001b[32mcompleted\u001b[0m.\n",
      "INFO: \u001b[32mqc_1\u001b[0m output:   \u001b[32m/mnt/mfs/statgen/UKBiobank/data/exome_files/project_VCF/072721_run/cache/ukb23156_c21_b0_v1.leftnorm.vcf.gz\u001b[0m\n",
      "INFO: Checking \u001b[32mqc_2\u001b[0m: Filter out variants based on DP and QC for snps and indels Remove monomorphic sites -- using bcftools view -c1  will only keep sites with at least one nonref allele F_MISSING= Fraction of missing genotypes (all samples)\n",
      "HINT: singularity exec  /mnt/mfs/statgen/containers/lmm.sif /bin/bash /mnt/mfs/hgrcgrid/homes/dmc2245/project/UKBB_GWAS_dev/analysis/cluster_scripts/tmplr__xnn1/singularity_run_18963.sh\n",
      "\n",
      "python ~/monitor.py bcftools filter -S . -e '(TYPE=\"SNP\" & (FMT/DP)<10 & (FMT/GQ)<20)|(TYPE=\"INDEL\" & (FMT/DP)<10 & (FMT/GQ)<20) ' /mnt/mfs/statgen/UKBiobank/data/exome_files/project_VCF/072721_run/cache/ukb23156_c21_b0_v1.leftnorm.vcf.gz | \\\n",
      "python ~/monitor.py bcftools view -c1  | \\\n",
      "python ~/monitor.py bcftools filter -i 'GT=\"hom\" | TYPE=\"snp\" & GT=\"het\" & (FORMAT/AD[*:1])/(FORMAT/AD[*:0] + FORMAT/AD[*:1]) >= 0.15 | TYPE=\"indel\" & GT=\"het\" & (FORMAT/AD[*:1])/(FORMAT/AD[*:0] + FORMAT/AD[*:1]) >= 0.2' -Oz -o /mnt/mfs/statgen/UKBiobank/data/exome_files/project_VCF/072721_run/cache/ukb23156_c21_b0_v1.leftnorm.filtered.vcf.gz \n",
      "\n",
      "\n",
      "INFO: \u001b[32mqc_2\u001b[0m is \u001b[32mcompleted\u001b[0m.\n",
      "INFO: \u001b[32mqc_2\u001b[0m output:   \u001b[32m/mnt/mfs/statgen/UKBiobank/data/exome_files/project_VCF/072721_run/cache/ukb23156_c21_b0_v1.leftnorm.filtered.vcf.gz\u001b[0m\n",
      "INFO: Workflow qc (ID=wdb1d87ce666b5123) is tested successfully with 2 completed steps.\n"
     ]
    }
   ],
   "source": [
    "module load Singularity/3.5.3\n",
    "sos dryrun /home/dmc2245/project/UKBB_GWAS_dev/workflow/VCF_QC_pipeline.ipynb \\\n",
    "    qc:1-2\\\n",
    "    --cwd /mnt/mfs/statgen/UKBiobank/data/exome_files/project_VCF/072721_run     \\\n",
    "    --vcfs /mnt/mfs/statgen/UKBiobank/data/exome_files/project_VCF/ukb23156_c21_b0_v1.vcf.gz     \\\n",
    "    --ref_hg38 /home/dmc2245/software/GRCh38_reference_genome/GRCh38_full_analysis_set_plus_decoy_hla.fa    \\\n",
    "    --DP_snp 10     \\\n",
    "    --DP_indel 10    \\\n",
    "    --GQ 20     \\\n",
    "    --AB_snp 0.15     \\\n",
    "    --AB_indel 0.2 \\\n",
    "    --anno_file /mnt/mfs/statgen/UKBiobank/data/exome_files/project_VCF/dbSPN_hg38/00-All.renamechrs.indels_snps.tab.gz    \\\n",
    "    --anno_header /mnt/mfs/statgen/UKBiobank/data/exome_files/project_VCF/dbSPN_hg38/00-All.renamechrs.indels_snps.header.txt\\\n",
    "    --bins 0,5e-05 \\\n",
    "    --container_lmm /mnt/mfs/statgen/containers/lmm.sif "
   ]
  },
  {
   "cell_type": "code",
   "execution_count": null,
   "id": "746bbf38-135e-46a5-9c69-738518816692",
   "metadata": {
    "kernel": "SoS",
    "tags": []
   },
   "outputs": [],
   "source": [
    "bcftools norm -m - -f <reference> -Oz -o <normVCF> <inputVCF>\n",
    "bcftools view -i 'F_PASS(DP>=10 & GQ>=20 & GT!=\"mis\")> 0.9' -Oz -o <filtered_normVCF> <normVCF>"
   ]
  },
  {
   "cell_type": "code",
   "execution_count": null,
   "id": "00a16e6e-beb5-4031-9fb2-92295df12dcc",
   "metadata": {
    "kernel": "SoS"
   },
   "outputs": [],
   "source": [
    "exome_file_dir=\"/Bulk/Exome sequences/Population level exome OQFE variants, pVCF format - final release/\"\n",
    "\n",
    "run_wes_qc='''cp /mnt/project//Bulk/Exome\\ sequences/Population\\ level\\ exome\\ OQFE\\ variants\\, pVCF\\ format\\ \\- \\final\\ release/ukb23157_c22_b0_v1.vcf.gz . ;\\\n",
    "cp /mnt/project/Bulk/Exome\\ sequences/Exome\\ OQFE\\ CRAM\\ files/helper_files/GRCh38_full_analysis_set_plus_decoy_hla.* .;\\\n",
    "bcftools norm -m-any ukb23157_c22_b0_v1.vcf.gz -f GRCh38_full_analysis_set_plus_decoy_hla.fa |\\\n",
    "bcftools annotate -x ID -I +'%CHROM_%POS_%REF_%ALT' -Oz > ukb23157_c22_b0_v1.norm.vcf.gz ;\\\n",
    "bcftools view -i 'F_PASS(DP>=10 & GQ>=20 & GT!= \"mis\")> 0.9' ukb23157_c22_b0_v1.norm.vcf.gz |\\\n",
    "bcftools filter -i 'GT=\"hom\" | TYPE=\"snp\" & GT=\"het\" & (FORMAT/AD[*:1])/(FORMAT/AD[*:0] + FORMAT/AD[*:1]) >= 0.15 | TYPE=\"indel\" & GT=\"het\" & (FORMAT/AD[*:1])/(FORMAT/AD[*:0] + FORMAT/AD[*:1]) >= 0.2' -Oz -o ukb23157_c22_b0_v1.filtered.norm.vcf.gz''' \n"
   ]
  },
  {
   "cell_type": "code",
   "execution_count": null,
   "id": "bb1bfe0c-b96d-4440-9dfb-7f1017cccb70",
   "metadata": {
    "kernel": "SoS"
   },
   "outputs": [],
   "source": [
    "#!/bin/sh\n",
    "\n",
    "# Requirements:\n",
    "# Please refer to readme.md for more information about the requirements\n",
    "\n",
    "# How to Run:\n",
    "# Run this script using:\n",
    "# sh 01-WES-QC-norm-filter.sh\n",
    "# on the command line\n",
    "\n",
    "# Inputs\n",
    "# - /gwas_cohort_textfiles/090321_UKBB_Hearing_aid_f3393_expandedwhite_6436cases_96601ctrl_PC1_2.tsv - not strictly needed, but swiss-army-knife needs at least one input\n",
    "\n",
    "# Outputs\n",
    "# - ukb23157_c22_b0_v1.filtered.norm.vcf.gz\n",
    "\n",
    "\n",
    "# Steps:\n",
    "# 1. copy pVCF files to instance 1-22\n",
    "# 2. normalize pVCF files\n",
    "# 3. filter pVCF files\n",
    "# 4. delete temporary files\n",
    "\n",
    "\n",
    "# Variables\n",
    "# set this to the exome path and data field for your release\n",
    "exome_file_dir=\"/Bulk/Exome sequences/Population level exome OQFE variants, pVCF format - final release/\"\n",
    "data_field=\"ukb23157\"\n",
    "# working dir and reference text file dir\n",
    "data_file_dir=\"/data/wes_hg38/\"\n",
    "txt_file_dir=\"/gwas_cohort_textfiles/\"\n",
    "\n",
    "#cmd to run (use as input with `-icmd=\"{$run_merge}\"`)\n",
    "\n",
    "run_wes_qc='''cp /mnt/project//Bulk/Exome\\ sequences/Population\\ level\\ exome\\ OQFE\\ variants\\, pVCF\\ format\\ \\- \\final\\ release/ukb23157_c22_b0_v1.vcf.gz . ;\\\n",
    "cp /mnt/project/Bulk/Exome\\ sequences/Exome\\ OQFE\\ CRAM\\ files/helper_files/GRCh38_full_analysis_set_plus_decoy_hla.* .;\\\n",
    "bcftools norm -m-any ukb23157_c22_b0_v1.vcf.gz -f GRCh38_full_analysis_set_plus_decoy_hla.fa -Oz -o ukb23157_c22_b0_v1.norm.vcf.gz ;\\\n",
    "bcftools view -i 'F_PASS(DP>=10 & GQ>=20 & GT!= \"mis\")> 0.9' ukb23157_c22_b0_v1.norm.vcf.gz |\\\n",
    "bcftools filter -i 'GT=\"hom\" | TYPE=\"snp\" & GT=\"het\" & (FORMAT/AD[*:1])/(FORMAT/AD[*:0] + FORMAT/AD[*:1]) >= 0.15 | TYPE=\"indel\" & GT=\"het\" & (FORMAT/AD[*:1])/(FORMAT/AD[*:0] + FORMAT/AD[*:1]) >= 0.2' -Oz -o ukb23157_c22_b0_v1.filtered.norm.vcf.gz''' \n",
    "\n",
    "\n",
    "dx run swiss-army-knife -iin=\"${txt_file_dir}/090321_UKBB_Hearing_aid_f3393_expandedwhite_6436cases_96601ctrl_PC1_2.tsv\" \\\n",
    "   -icmd=\"${run_wes_qc}\" --tag=\"Step1\" --instance-type \"mem1_ssd1_v2_x16\"\\\n",
    "   --destination=\"${project}:/data/gt_hg19/\" --brief --yes"
   ]
  }
 ],
 "metadata": {
  "kernelspec": {
   "display_name": "SoS",
   "language": "sos",
   "name": "sos"
  },
  "language_info": {
   "codemirror_mode": "sos",
   "file_extension": ".sos",
   "mimetype": "text/x-sos",
   "name": "sos",
   "nbconvert_exporter": "sos_notebook.converter.SoS_Exporter",
   "pygments_lexer": "sos"
  },
  "sos": {
   "kernels": [
    [
     "Bash",
     "calysto_bash",
     "Bash",
     "#E6EEFF",
     ""
    ],
    [
     "SoS",
     "sos",
     "",
     "",
     "sos"
    ]
   ],
   "version": "0.22.6"
  }
 },
 "nbformat": 4,
 "nbformat_minor": 5
}
