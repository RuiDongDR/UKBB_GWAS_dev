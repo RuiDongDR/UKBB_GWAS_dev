{
 "cells": [
  {
   "cell_type": "markdown",
   "id": "a973e60b-e61d-4c49-a3bd-d24b1cf13c54",
   "metadata": {
    "kernel": "SoS",
    "tags": []
   },
   "source": [
    "# Otosclerosis analysis "
   ]
  },
  {
   "cell_type": "markdown",
   "id": "56619d63-c263-45d4-8925-0df993fe69cc",
   "metadata": {
    "kernel": "SoS"
   },
   "source": [
    "## Variables for Columbia's cluster"
   ]
  },
  {
   "cell_type": "code",
   "execution_count": null,
   "id": "ce9755c5-dc96-436b-9d10-7e96dbd63b70",
   "metadata": {
    "kernel": "Bash",
    "tags": []
   },
   "outputs": [],
   "source": [
    "# Common variables Columbia's cluster\n",
    "UKBB_PATH=$HOME/UKBiobank\n",
    "UKBB_yale=$HOME/UKBiobank_Yale_transfer\n",
    "USER_PATH=$HOME/project\n",
    "container_lmm=$HOME/containers/lmm.sif\n",
    "container_marp=$HOME/containers/marp.sif\n",
    "container_annovar=$HOME/containers/gatk4-annovar.sif\n",
    "hearing_pheno_path=$UKBB_PATH/phenotype_files/\n",
    "tpl_file=$USER_PATH/bioworkflows/admin/csg.yml\n",
    "formatFile_fastgwa=$USER_PATH/UKBB_GWAS_dev/data/fastGWA_template.yml\n",
    "formatFile_bolt=$USER_PATH/UKBB_GWAS_dev/data/boltlmm_template.yml\n",
    "formatFile_saige=$USER_PATH/UKBB_GWAS_dev/data/saige_template.yml\n",
    "formatFile_regenie=$USER_PATH/UKBB_GWAS_dev/data/regenie_template.yml"
   ]
  },
  {
   "cell_type": "code",
   "execution_count": 3,
   "id": "0d279648-2913-49d6-8511-c4f50b7406ca",
   "metadata": {
    "kernel": "Bash",
    "tags": []
   },
   "outputs": [],
   "source": [
    "# Workflows\n",
    "lmm_sos=$USER_PATH/bioworkflows/GWAS/LMM.ipynb\n",
    "anno_sos=$USER_PATH/bioworkflows/variant-annotation/annovar.ipynb\n",
    "clumping_sos=$USER_PATH/bioworkflows/GWAS/LD_Clumping.ipynb\n",
    "extract_sos=$USER_PATH/bioworkflows/GWAS/Region_Extraction.ipynb\n",
    "snptogene_sos=$USER_PATH/UKBB_GWAS_dev/workflow/snptogene.ipynb\n",
    "\n",
    "# LMM directories for imputed data\n",
    "lmm_imp_dir_fastgwa=$UKBB_PATH/results/FastGWA_results/results_imputed_data\n",
    "lmm_imp_dir_bolt=$UKBB_PATH/results/BOLTLMM_results/results_imputed_data\n",
    "lmm_imp_dir_saige=$UKBB_PATH/results/SAIGE_results/results_imputed_data\n",
    "lmm_imp_dir_regenie=$UKBB_PATH/results/REGENIE_results/results_imputed_data\n",
    "\n",
    "# LMM directories for exome data\n",
    "lmm_exome_dir_fastgwa=$UKBB_PATH/results/FastGWA_results/results_exome_data\n",
    "lmm_exome_dir_bolt=$UKBB_PATH/results/BOLTLMM_results/results_exome_data\n",
    "lmm_exome_dir_saige=$UKBB_PATH/results/SAIGE_results/results_exome_data\n",
    "lmm_exome_dir_regenie=$UKBB_PATH/results/REGENIE_results/results_exome_data"
   ]
  },
  {
   "cell_type": "code",
   "execution_count": 9,
   "id": "f56898f2-2af5-4efc-8f45-90266d580742",
   "metadata": {
    "kernel": "Bash",
    "tags": []
   },
   "outputs": [],
   "source": [
    "## LMM variables \n",
    "### Specific to REGENIE\n",
    "bsize=1000\n",
    "lowmem=$HOME/scratch60/\n",
    "lowmem_dir=$HOME/scratch60/predictions\n",
    "trait=bt\n",
    "minMAC=4\n",
    "maf_filter=0\n",
    "geno_filter=0\n",
    "hwe_filter=0\n",
    "mind_filter=0\n",
    "reverse_log_p=True\n",
    "numThreads=4\n",
    "lmm_job_size=1\n",
    "ylim=0"
   ]
  },
  {
   "cell_type": "markdown",
   "id": "036980ea-8910-4b82-a5e6-b8f0c5b1d8de",
   "metadata": {
    "kernel": "SoS"
   },
   "source": [
    "## Single variant association analysis for otosclerosis"
   ]
  },
  {
   "cell_type": "code",
   "execution_count": 10,
   "id": "da51f09c-6700-47f1-af19-73f58e94bd65",
   "metadata": {
    "kernel": "Bash",
    "tags": []
   },
   "outputs": [
    {
     "name": "stdout",
     "output_type": "stream",
     "text": [
      "INFO: Running \u001b[32mcsg\u001b[0m: Configuration for Columbia csg partition cluster\n",
      "INFO: \u001b[32mcsg\u001b[0m is \u001b[32mcompleted\u001b[0m.\n",
      "INFO: \u001b[32mcsg\u001b[0m output:   \u001b[32m/home/dmc2245/UKBiobank/results/REGENIE_results/results_exome_data/070722_otosclerosis_200K/otosclerosis_200K_exome_regenie_2022-07-07.sbatch\u001b[0m\n",
      "INFO: Workflow csg (ID=w3eaa66dfb95cd32b) is executed successfully with 1 completed step.\n"
     ]
    }
   ],
   "source": [
    "lmm_dir_regenie=$lmm_exome_dir_regenie/070722_otosclerosis_200K\n",
    "lmm_sbatch_regenie=$lmm_exome_dir_regenie/070722_otosclerosis_200K/otosclerosis_200K_exome_regenie_$(date +\"%Y-%m-%d\").sbatch\n",
    "phenoFile=$hearing_pheno_path/HI_UKBB/otosclerosis/070122_oto_200k.382case_97050ctrl.tsv\n",
    "phenoCol=oto\n",
    "covarCol=sex\n",
    "qCovarCol=\"age\"\n",
    "bgenMinINFO=0.8\n",
    "bgenMinMAF=0.001\n",
    "minMAC=4\n",
    "#Use the original bed files that passed QC using Megan's parameters geno=0.01, mind=0.1, maf=0.01, hwe=5e-08\n",
    "bfile=$UKBB_PATH/genotype_files_processed/090221_sample_variant_qc_final_callrate90/cache/UKB_genotypedatadownloaded083019.090221_sample_variant_qc_final_callrate90.filtered.extracted.bed\n",
    "# Use the QC'ed exome files variant and sample missingness < 10%\n",
    "genoFile=`echo $UKBB_PATH/data/exome_files/project_VCF/072721_run/plink/ukb23156_c{1..22}.merged.filtered.bed`\n",
    "label_annotate=SNP\n",
    "\n",
    "lmm_args=\"\"\"regenie\n",
    "    --cwd $lmm_dir_regenie \n",
    "    --bfile $bfile \n",
    "    --genoFile $genoFile\n",
    "    --phenoFile $phenoFile \n",
    "    --formatFile $formatFile_regenie \n",
    "    --phenoCol $phenoCol\n",
    "    --covarCol $covarCol\n",
    "    --qCovarCol $qCovarCol\n",
    "    --bsize $bsize\n",
    "    --lowmem_dir $lowmem_dir\n",
    "    --trait $trait \n",
    "    --bgenMinMAF $bgenMinMAF \n",
    "    --bgenMinINFO $bgenMinINFO\n",
    "    --maf_filter $maf_filter\n",
    "    --geno_filter $geno_filter\n",
    "    --hwe_filter $hwe_filter\n",
    "    --mind_filter $mind_filter\n",
    "    --minMAC $minMAC\n",
    "    --job_size $lmm_job_size\n",
    "    --ylim $ylim\n",
    "    --label_annotate $label_annotate\n",
    "    --no-annotate\n",
    "    --reverse_log_p $reverse_log_p\n",
    "    --numThreads $numThreads\n",
    "    --container_lmm $container_lmm\n",
    "    --container_marp $container_marp\n",
    "\"\"\"\n",
    "\n",
    "sos run ~/project/UKBB_GWAS_dev/admin/Get_Job_Script.ipynb csg\\\n",
    "    --template-file $tpl_file \\\n",
    "    --workflow-file $lmm_sos \\\n",
    "    --to-script $lmm_sbatch_regenie \\\n",
    "    --args \"$lmm_args\""
   ]
  },
  {
   "cell_type": "markdown",
   "id": "5ceabe51-bd80-4196-87f0-73e6572768cb",
   "metadata": {
    "kernel": "SoS"
   },
   "source": [
    "## Rare-variant aggregate test for otosclerosis\n",
    "\n",
    "In the burden files Isabelle asked to add start-loss to the LoF category"
   ]
  },
  {
   "cell_type": "markdown",
   "id": "76985d68-29f0-4291-9dc8-95aa7340860d",
   "metadata": {
    "kernel": "Bash"
   },
   "source": [
    "### Create the new annotation file"
   ]
  },
  {
   "cell_type": "code",
   "execution_count": null,
   "id": "e37db086-876f-4ddf-b3ae-0f0d808f61af",
   "metadata": {
    "kernel": "Bash"
   },
   "outputs": [],
   "source": [
    "tpl_file=$USER_PATH/bioworkflows/admin/csg.yml\n",
    "annovar_dir=$UKBB_PATH/results/ukb23155_200Kexomes_annovar/070722_hg38_exome\n",
    "annovar_sos=$USER_PATH/bioworkflows/variant-annotation/annovar.ipynb\n",
    "annovar_sbatch=$UKBB_PATH/results/ukb23155_200Kexomes_annovar/070722_hg38_exome/ukb23155_200kexome_anno_startloss_$(date +\"%Y-%m-%d\").sbatch\n",
    "bfiles=$UKBB_PATH/results/ukb23155_200Kexomes_annovar/091321_exome_bim_merge/ukb23155_chr1_chr22_091321.bim\n",
    "walltime=\"60h\"\n",
    "mem=\"30G\"\n",
    "\n",
    "annovar_args=\"\"\"annovar\n",
    "    --cwd $annovar_dir \n",
    "    --bim_name $bfiles \n",
    "    --humandb /mnt/mfs/statgen/isabelle/REF/humandb  \n",
    "    --xref_path /mnt/mfs/statgen/isabelle/REF/humandb \n",
    "    --job_size 1 \n",
    "    --build 'hg38' \n",
    "    --name_prefix ukb23155_chr1_chr22_qcexomedata_070722\n",
    "    --walltime $walltime\n",
    "    --mem $mem\n",
    "    --container_annovar /mnt/mfs/statgen/containers/gatk4-annovar.sif\n",
    "\"\"\"\n",
    "\n",
    "sos run ~/working/UKBB_GWAS_dev/admin/Get_Job_Script.ipynb csg \\\n",
    "    --template-file $tpl_file \\\n",
    "    --workflow-file $annovar_sos \\\n",
    "    --to-script $annovar_sbatch \\\n",
    "    --args \"$annovar_args\""
   ]
  }
 ],
 "metadata": {
  "kernelspec": {
   "display_name": "SoS",
   "language": "sos",
   "name": "sos"
  },
  "language_info": {
   "codemirror_mode": "sos",
   "file_extension": ".sos",
   "mimetype": "text/x-sos",
   "name": "sos",
   "nbconvert_exporter": "sos_notebook.converter.SoS_Exporter",
   "pygments_lexer": "sos"
  },
  "sos": {
   "kernels": [
    [
     "Bash",
     "calysto_bash",
     "Bash",
     "#E6EEFF",
     "shell"
    ],
    [
     "SoS",
     "sos",
     "",
     "",
     "sos"
    ]
   ],
   "version": "0.22.6"
  }
 },
 "nbformat": 4,
 "nbformat_minor": 5
}
