{
 "cells": [
  {
   "cell_type": "markdown",
   "id": "a973e60b-e61d-4c49-a3bd-d24b1cf13c54",
   "metadata": {
    "kernel": "SoS",
    "tags": []
   },
   "source": [
    "# Otosclerosis analysis "
   ]
  },
  {
   "cell_type": "markdown",
   "id": "56619d63-c263-45d4-8925-0df993fe69cc",
   "metadata": {
    "kernel": "SoS"
   },
   "source": [
    "## Variables for Columbia's cluster"
   ]
  },
  {
   "cell_type": "code",
   "execution_count": 4,
   "id": "ce9755c5-dc96-436b-9d10-7e96dbd63b70",
   "metadata": {
    "kernel": "Bash",
    "tags": []
   },
   "outputs": [],
   "source": [
    "# Common variables Columbia's cluster\n",
    "UKBB_PATH=$HOME/UKBiobank\n",
    "UKBB_yale=$HOME/UKBiobank_Yale_transfer\n",
    "USER_PATH=$HOME/working\n",
    "container_lmm=$HOME/containers/lmm.sif\n",
    "container_marp=$HOME/containers/marp.sif\n",
    "container_annovar=$HOME/containers/gatk4-annovar.sif\n",
    "hearing_pheno_path=$UKBB_PATH/phenotype_files/\n",
    "tpl_file=$USER_PATH/bioworkflows/admin/csg.yml\n",
    "formatFile_fastgwa=$USER_PATH/UKBB_GWAS_dev/data/fastGWA_template.yml\n",
    "formatFile_bolt=$USER_PATH/UKBB_GWAS_dev/data/boltlmm_template.yml\n",
    "formatFile_saige=$USER_PATH/UKBB_GWAS_dev/data/saige_template.yml\n",
    "formatFile_regenie=$USER_PATH/UKBB_GWAS_dev/data/regenie_template.yml"
   ]
  },
  {
   "cell_type": "code",
   "execution_count": 5,
   "id": "0d279648-2913-49d6-8511-c4f50b7406ca",
   "metadata": {
    "kernel": "Bash",
    "tags": []
   },
   "outputs": [],
   "source": [
    "# Workflows\n",
    "lmm_sos=$USER_PATH/bioworkflows/GWAS/LMM.ipynb\n",
    "anno_sos=$USER_PATH/bioworkflows/variant-annotation/annovar.ipynb\n",
    "clumping_sos=$USER_PATH/bioworkflows/GWAS/LD_Clumping.ipynb\n",
    "extract_sos=$USER_PATH/bioworkflows/GWAS/Region_Extraction.ipynb\n",
    "snptogene_sos=$USER_PATH/UKBB_GWAS_dev/workflow/snptogene.ipynb\n",
    "\n",
    "# LMM directories for imputed data\n",
    "lmm_imp_dir_fastgwa=$UKBB_PATH/results/FastGWA_results/results_imputed_data\n",
    "lmm_imp_dir_bolt=$UKBB_PATH/results/BOLTLMM_results/results_imputed_data\n",
    "lmm_imp_dir_saige=$UKBB_PATH/results/SAIGE_results/results_imputed_data\n",
    "lmm_imp_dir_regenie=$UKBB_PATH/results/REGENIE_results/results_imputed_data\n",
    "\n",
    "# LMM directories for exome data\n",
    "lmm_exome_dir_fastgwa=$UKBB_PATH/results/FastGWA_results/results_exome_data\n",
    "lmm_exome_dir_bolt=$UKBB_PATH/results/BOLTLMM_results/results_exome_data\n",
    "lmm_exome_dir_saige=$UKBB_PATH/results/SAIGE_results/results_exome_data\n",
    "lmm_exome_dir_regenie=$UKBB_PATH/results/REGENIE_results/results_exome_data"
   ]
  },
  {
   "cell_type": "code",
   "execution_count": 6,
   "id": "f56898f2-2af5-4efc-8f45-90266d580742",
   "metadata": {
    "kernel": "Bash",
    "tags": []
   },
   "outputs": [],
   "source": [
    "## LMM variables \n",
    "### Specific to REGENIE\n",
    "bsize=1000\n",
    "lowmem=$HOME/scratch60/\n",
    "lowmem_dir=$HOME/scratch60/predictions\n",
    "trait=bt\n",
    "minMAC=4\n",
    "maf_filter=0\n",
    "geno_filter=0\n",
    "hwe_filter=0\n",
    "mind_filter=0\n",
    "reverse_log_p=True\n",
    "numThreads=4\n",
    "lmm_job_size=1\n",
    "ylim=0"
   ]
  },
  {
   "cell_type": "markdown",
   "id": "036980ea-8910-4b82-a5e6-b8f0c5b1d8de",
   "metadata": {
    "kernel": "SoS"
   },
   "source": [
    "## Single variant association analysis for otosclerosis"
   ]
  },
  {
   "cell_type": "code",
   "execution_count": 10,
   "id": "da51f09c-6700-47f1-af19-73f58e94bd65",
   "metadata": {
    "kernel": "Bash",
    "tags": []
   },
   "outputs": [
    {
     "name": "stdout",
     "output_type": "stream",
     "text": [
      "INFO: Running \u001b[32mcsg\u001b[0m: Configuration for Columbia csg partition cluster\n",
      "INFO: \u001b[32mcsg\u001b[0m is \u001b[32mcompleted\u001b[0m.\n",
      "INFO: \u001b[32mcsg\u001b[0m output:   \u001b[32m/home/dmc2245/UKBiobank/results/REGENIE_results/results_exome_data/070722_otosclerosis_200K/otosclerosis_200K_exome_regenie_2022-07-07.sbatch\u001b[0m\n",
      "INFO: Workflow csg (ID=w3eaa66dfb95cd32b) is executed successfully with 1 completed step.\n"
     ]
    }
   ],
   "source": [
    "lmm_dir_regenie=$lmm_exome_dir_regenie/070722_otosclerosis_200K\n",
    "lmm_sbatch_regenie=$lmm_exome_dir_regenie/070722_otosclerosis_200K/otosclerosis_200K_exome_regenie_$(date +\"%Y-%m-%d\").sbatch\n",
    "phenoFile=$hearing_pheno_path/HI_UKBB/otosclerosis/070122_oto_200k.382case_97050ctrl.tsv\n",
    "phenoCol=oto\n",
    "covarCol=sex\n",
    "qCovarCol=\"age\"\n",
    "bgenMinINFO=0.8\n",
    "bgenMinMAF=0.001\n",
    "minMAC=4\n",
    "#Use the original bed files that passed QC using Megan's parameters geno=0.01, mind=0.1, maf=0.01, hwe=5e-08\n",
    "bfile=$UKBB_PATH/genotype_files_processed/090221_sample_variant_qc_final_callrate90/cache/UKB_genotypedatadownloaded083019.090221_sample_variant_qc_final_callrate90.filtered.extracted.bed\n",
    "# Use the QC'ed exome files variant and sample missingness < 10%\n",
    "genoFile=`echo $UKBB_PATH/data/exome_files/project_VCF/072721_run/plink/ukb23156_c{1..22}.merged.filtered.bed`\n",
    "label_annotate=SNP\n",
    "\n",
    "lmm_args=\"\"\"regenie\n",
    "    --cwd $lmm_dir_regenie \n",
    "    --bfile $bfile \n",
    "    --genoFile $genoFile\n",
    "    --phenoFile $phenoFile \n",
    "    --formatFile $formatFile_regenie \n",
    "    --phenoCol $phenoCol\n",
    "    --covarCol $covarCol\n",
    "    --qCovarCol $qCovarCol\n",
    "    --bsize $bsize\n",
    "    --lowmem_dir $lowmem_dir\n",
    "    --trait $trait \n",
    "    --bgenMinMAF $bgenMinMAF \n",
    "    --bgenMinINFO $bgenMinINFO\n",
    "    --maf_filter $maf_filter\n",
    "    --geno_filter $geno_filter\n",
    "    --hwe_filter $hwe_filter\n",
    "    --mind_filter $mind_filter\n",
    "    --minMAC $minMAC\n",
    "    --job_size $lmm_job_size\n",
    "    --ylim $ylim\n",
    "    --label_annotate $label_annotate\n",
    "    --no-annotate\n",
    "    --reverse_log_p $reverse_log_p\n",
    "    --numThreads $numThreads\n",
    "    --container_lmm $container_lmm\n",
    "    --container_marp $container_marp\n",
    "\"\"\"\n",
    "\n",
    "sos run ~/project/UKBB_GWAS_dev/admin/Get_Job_Script.ipynb csg\\\n",
    "    --template-file $tpl_file \\\n",
    "    --workflow-file $lmm_sos \\\n",
    "    --to-script $lmm_sbatch_regenie \\\n",
    "    --args \"$lmm_args\""
   ]
  },
  {
   "cell_type": "markdown",
   "id": "5ceabe51-bd80-4196-87f0-73e6572768cb",
   "metadata": {
    "kernel": "SoS"
   },
   "source": [
    "## Rare-variant aggregate test for otosclerosis\n",
    "\n",
    "In the burden files Isabelle asked to add start-loss to the LoF category"
   ]
  },
  {
   "cell_type": "markdown",
   "id": "76985d68-29f0-4291-9dc8-95aa7340860d",
   "metadata": {
    "kernel": "Bash"
   },
   "source": [
    "### Create the new annotation file"
   ]
  },
  {
   "cell_type": "code",
   "execution_count": 7,
   "id": "e37db086-876f-4ddf-b3ae-0f0d808f61af",
   "metadata": {
    "kernel": "Bash"
   },
   "outputs": [
    {
     "name": "stdout",
     "output_type": "stream",
     "text": [
      "INFO: Running \u001b[32mcsg\u001b[0m: Configuration for Columbia csg partition cluster\n",
      "INFO: \u001b[32mcsg\u001b[0m is \u001b[32mcompleted\u001b[0m.\n",
      "INFO: \u001b[32mcsg\u001b[0m output:   \u001b[32m/home/gl2776/UKBiobank/results/ukb23155_200Kexomes_annovar/070722_hg38_exome/ukb23155_200kexome_anno_startloss_2022-07-08.sbatch\u001b[0m\n",
      "INFO: Workflow csg (ID=wa9cf06730d50312e) is executed successfully with 1 completed step.\n"
     ]
    }
   ],
   "source": [
    "tpl_file=$USER_PATH/bioworkflows/admin/csg.yml\n",
    "annovar_dir=$UKBB_PATH/results/ukb23155_200Kexomes_annovar/070722_hg38_exome\n",
    "annovar_sos=$USER_PATH/bioworkflows/variant-annotation/annovar.ipynb\n",
    "annovar_sbatch=$UKBB_PATH/results/ukb23155_200Kexomes_annovar/070722_hg38_exome/ukb23155_200kexome_anno_startloss_$(date +\"%Y-%m-%d\").sbatch\n",
    "bfiles=$UKBB_PATH/results/ukb23155_200Kexomes_annovar/091321_exome_bim_merge/ukb23155_chr1_chr22_091321.bim\n",
    "walltime=\"60h\"\n",
    "mem=\"30G\"\n",
    "\n",
    "annovar_args=\"\"\"annovar\n",
    "    --cwd $annovar_dir \n",
    "    --bim_name $bfiles \n",
    "    --humandb /mnt/vast/hpc/csg/isabelle/REF/humandb  \n",
    "    --xref_path /mnt/vast/hpc/csg/isabelle/REF/humandb \n",
    "    --job_size 1 \n",
    "    --build 'hg38' \n",
    "    --name_prefix ukb23155_chr1_chr22_qcexomedata_070722\n",
    "    --walltime $walltime\n",
    "    --mem $mem\n",
    "    --container_annovar $container_annovar\n",
    "\"\"\"\n",
    "\n",
    "sos run $USER_PATH/UKBB_GWAS_dev/admin/Get_Job_Script.ipynb csg \\\n",
    "    --template-file $tpl_file \\\n",
    "    --workflow-file $annovar_sos \\\n",
    "    --to-script $annovar_sbatch \\\n",
    "    --args \"$annovar_args\""
   ]
  },
  {
   "cell_type": "markdown",
   "id": "c4f39000-498e-479a-83df-10832236036e",
   "metadata": {
    "kernel": "Bash"
   },
   "source": [
    "## Create the anno_file, set_list_file and mask_files necessary for burden test"
   ]
  },
  {
   "cell_type": "code",
   "execution_count": 9,
   "id": "e27cde5c-267e-4f91-9d1b-19b1a7ed8dff",
   "metadata": {
    "kernel": "Bash"
   },
   "outputs": [],
   "source": [
    "## Manually add \"_exome\" suffix for the hear and zip\n",
    "gzip -k /mnt/vast/hpc/csg/UKBiobank/results/ukb23155_200Kexomes_annovar/070722_hg38_exome/ukb23155_chr1_chr22_091321.hg38.hg38_multianno.csv"
   ]
  },
  {
   "cell_type": "code",
   "execution_count": 10,
   "id": "e67a16e5-d8e7-410c-a806-37d562297902",
   "metadata": {
    "kernel": "Bash"
   },
   "outputs": [
    {
     "name": "stdout",
     "output_type": "stream",
     "text": [
      "INFO: Running \u001b[32mcsg\u001b[0m: Configuration for Columbia csg partition cluster\n",
      "INFO: \u001b[32mcsg\u001b[0m is \u001b[32mcompleted\u001b[0m.\n",
      "INFO: \u001b[32mcsg\u001b[0m output:   \u001b[32m/home/gl2776/UKBiobank/results/REGENIE_results/results_burden_exome/070822_burden_files/burdenfiles_2022-07-08.sbatch\u001b[0m\n",
      "INFO: Workflow csg (ID=w5fd1bfe76e1b8e25) is executed successfully with 1 completed step.\n"
     ]
    }
   ],
   "source": [
    "burden_dir=$UKBB_PATH/results/REGENIE_results/results_burden_exome/070822_burden_files\n",
    "anno_sbatch_burden=$burden_dir/burdenfiles_$(date +\"%Y-%m-%d\").sbatch\n",
    "annotated_file_hg38=$UKBB_PATH/results/ukb23155_200Kexomes_annovar/070722_hg38_exome/ukb23155_chr1_chr22_091321.hg38.hg38_multianno.csv.gz\n",
    "bim_name=$UKBB_PATH/results/ukb23155_200Kexomes_annovar/091321_exome_bim_merge/ukb23155_chr1_chr22_091321.bim\n",
    "job_size=1\n",
    "name_prefix='ukb23155_chr1_chr22_qcexomedata_070722'\n",
    "anno_sos=$USER_PATH/bioworkflows/variant-annotation/annovar.ipynb\n",
    "tpl_file=$USER_PATH/bioworkflows/admin/csg.yml\n",
    "container_annovar=/mnt/vast/hpc/csg/guangyou/containers/gatk4-annovar.sif\n",
    "\n",
    "anno_args=\"\"\"burden_files\n",
    "    --cwd $burden_dir\n",
    "    --annotated_file $annotated_file_hg38\n",
    "    --bim_name $bim_name\n",
    "    --name_prefix $name_prefix\n",
    "    --job_size $job_size\n",
    "    --container_annovar $container_annovar\n",
    "    --container_lmm /mnt/vast/hpc/csg/containers/lmm.sif\n",
    "\"\"\"\n",
    "\n",
    "sos run $USER_PATH/UKBB_GWAS_dev/admin/Get_Job_Script.ipynb csg \\\n",
    "    --template-file $tpl_file \\\n",
    "    --workflow-file $anno_sos \\\n",
    "    --to-script $anno_sbatch_burden\\\n",
    "    --args \"$anno_args\""
   ]
  },
  {
   "cell_type": "code",
   "execution_count": null,
   "id": "6cf61341-7214-4f02-bde9-2acbc88dc913",
   "metadata": {
    "kernel": "Bash"
   },
   "outputs": [],
   "source": []
  }
 ],
 "metadata": {
  "kernelspec": {
   "display_name": "SoS",
   "language": "sos",
   "name": "sos"
  },
  "language_info": {
   "codemirror_mode": "sos",
   "file_extension": ".sos",
   "mimetype": "text/x-sos",
   "name": "sos",
   "nbconvert_exporter": "sos_notebook.converter.SoS_Exporter",
   "pygments_lexer": "sos"
  },
  "sos": {
   "kernels": [
    [
     "Bash",
     "calysto_bash",
     "Bash",
     "#E6EEFF",
     "shell"
    ],
    [
     "SoS",
     "sos",
     "",
     "",
     "sos"
    ]
   ],
   "version": "0.23.3"
  }
 },
 "nbformat": 4,
 "nbformat_minor": 5
}
