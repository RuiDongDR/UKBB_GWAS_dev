{
 "cells": [
  {
   "cell_type": "markdown",
   "id": "0d3eac95-7517-4c7b-b828-dd32e9f5d661",
   "metadata": {
    "kernel": "SoS",
    "tags": []
   },
   "source": [
    "# COPD: running burden and univariate analyses in the COPD UKBB data"
   ]
  },
  {
   "cell_type": "markdown",
   "id": "d8beaa1c-9dfe-472e-9fc8-0286630bfd38",
   "metadata": {
    "kernel": "SoS"
   },
   "source": [
    "# 03/30/23 Exome analysis univariate COPD 200K WES hg38 genotype array"
   ]
  },
  {
   "cell_type": "markdown",
   "id": "83315bae-22c2-4687-8651-f23edd9670cd",
   "metadata": {
    "kernel": "SoS"
   },
   "source": [
    "Only analyzing white European since there were too many missing values for African and Asian"
   ]
  },
  {
   "cell_type": "markdown",
   "id": "e0fb22f6-6b03-4192-875c-e47400ec75a4",
   "metadata": {
    "kernel": "SoS"
   },
   "source": [
    "## White European"
   ]
  },
  {
   "cell_type": "code",
   "execution_count": 5,
   "id": "d5a73547-9667-455b-8323-3fcc42222eb3",
   "metadata": {
    "kernel": "Bash",
    "tags": []
   },
   "outputs": [
    {
     "name": "stdout",
     "output_type": "stream",
     "text": [
      "INFO: Running \u001b[32mcsg2\u001b[0m: Configuration for Columbia csg partition cluster\n",
      "INFO: \u001b[32mcsg2\u001b[0m is \u001b[32mcompleted\u001b[0m.\n",
      "INFO: \u001b[32mcsg2\u001b[0m output:   \u001b[32m/home/dmc2245/UKBiobank/results_pleiotropy/REGENIE_results/results_exome_data/033023_COPD_whiteEUR/COPD_whiteEUR_200kWES-regenie_2023-04-11.sbatch\u001b[0m\n",
      "INFO: Workflow csg2 (ID=w6c2ff0f417c7dc05) is executed successfully with 1 completed step.\n",
      "\n"
     ]
    }
   ],
   "source": [
    "## All filters set to 0 because the version of the bfile has already been QC'ed previously and there is not need to do it here\n",
    "maf_filter=0\n",
    "geno_filter=0\n",
    "hwe_filter=0\n",
    "mind_filter=0\n",
    "lmm_dir_regenie=~/UKBiobank/results_pleiotropy/REGENIE_results/results_exome_data/033023_COPD_whiteEUR/\n",
    "lmm_sbatch_regenie=~/UKBiobank/results_pleiotropy/REGENIE_results/results_exome_data/033023_COPD_whiteEUR/COPD_whiteEUR_200kWES-regenie_$(date +\"%Y-%m-%d\").sbatch\n",
    "phenoFile=~/UKBiobank/phenotype_files/pleiotropy/UKB_exome_EUR_COPD_pcs_clean\n",
    "covarFile=~/UKBiobank/phenotype_files/pleiotropy/UKB_exome_EUR_COPD_pcs_clean\n",
    "phenoCol=COPD\n",
    "covarCol=SEX\n",
    "qCovarCol=`echo AGE SMOK_DUM{1..2} COPD_PC{1..10}`\n",
    "# Use the QC'ed exome files variant and sample missingness < 10%\n",
    "genoFile=`echo ~/UKBiobank/data/exome_files/project_VCF/072721_run/plink/ukb23156_c{1..22}.merged.filtered.bed`\n",
    "#Use the original bed files that passed QC using Megan's parameters geno=0.01, mind=0.1, maf=0.01, hwe=5e-08\n",
    "bfile=~/UKBiobank/genotype_files_processed/012323_white_european_460649ind_hg38/final_files_no_outliers/*.bed\n",
    "tpl_file=~/project/bioworkflows/admin/csg2.yml\n",
    "lmm_sos=~/project/bioworkflows/GWAS/LMM.ipynb\n",
    "container_marp=~/containers/marp.sif\n",
    "container_lmm=~/containers/lmm.sif \n",
    "lmm_job_size=1\n",
    "ylim=0\n",
    "reverse_log_p=True\n",
    "numThreads=20\n",
    "formatFile_regenie=~/project/UKBB_GWAS_dev/data/regenie_template.yml\n",
    "bsize=1000\n",
    "trait=bt\n",
    "## Using this MAC the default in regenie analysis\n",
    "minMAC=5\n",
    "label_annotate='SNP'\n",
    "lowmem_dir=~/scratch60/predictions\n",
    "\n",
    "lmm_args=\"\"\"regenie\n",
    "    --cwd $lmm_dir_regenie \n",
    "    --bfile $bfile \n",
    "    --genoFile $genoFile\n",
    "    --phenoFile $phenoFile \n",
    "    --formatFile $formatFile_regenie \n",
    "    --phenoCol $phenoCol\n",
    "    --covarCol $covarCol  \n",
    "    --qCovarCol $qCovarCol\n",
    "    --bsize $bsize\n",
    "    --lowmem_dir $lowmem_dir\n",
    "    --trait $trait \n",
    "    --maf_filter $maf_filter\n",
    "    --geno_filter $geno_filter\n",
    "    --hwe_filter $hwe_filter\n",
    "    --mind_filter $mind_filter\n",
    "    --minMAC $minMAC\n",
    "    --job_size $lmm_job_size\n",
    "    --ylim $ylim\n",
    "    --reverse_log_p $reverse_log_p\n",
    "    --label_annotate $label_annotate\n",
    "    --numThreads $numThreads\n",
    "    --container_lmm $container_lmm\n",
    "    --container_marp $container_marp\n",
    "\"\"\"\n",
    "\n",
    "sos run ~/project/UKBB_GWAS_dev/admin/Get_Job_Script.ipynb csg2\\\n",
    "    --template-file $tpl_file \\\n",
    "    --workflow-file $lmm_sos \\\n",
    "    --to-script $lmm_sbatch_regenie \\\n",
    "    --args \"$lmm_args\" "
   ]
  },
  {
   "cell_type": "markdown",
   "id": "b65c2bbe-d248-45de-b8ae-404d3942b8bc",
   "metadata": {
    "kernel": "Bash"
   },
   "source": [
    "## Re-run with new PC data"
   ]
  },
  {
   "cell_type": "code",
   "execution_count": 3,
   "id": "5b3c829d-d448-4d08-89ac-9f40e9f97dad",
   "metadata": {
    "kernel": "Bash"
   },
   "outputs": [
    {
     "name": "stdout",
     "output_type": "stream",
     "text": [
      "INFO: Running \u001b[32mcsg\u001b[0m: Configuration for Columbia csg partition cluster\n",
      "INFO: \u001b[32mcsg\u001b[0m is \u001b[32mcompleted\u001b[0m.\n",
      "INFO: \u001b[32mcsg\u001b[0m output:   \u001b[32m/home/dmc2245/UKBiobank/results_pleiotropy/REGENIE_results/results_exome_data/071023_COPD_whiteEUR_newPC/COPD_newPC_whiteEUR_200kWES-regenie_2023-07-10.sbatch\u001b[0m\n",
      "INFO: Workflow csg (ID=w3a73781e496417b5) is executed successfully with 1 completed step.\n",
      "\n"
     ]
    }
   ],
   "source": [
    "## All filters set to 0 because the version of the bfile has already been QC'ed previously and there is not need to do it here\n",
    "maf_filter=0\n",
    "geno_filter=0\n",
    "hwe_filter=0\n",
    "mind_filter=0\n",
    "lmm_dir_regenie=~/UKBiobank/results_pleiotropy/REGENIE_results/results_exome_data/071023_COPD_whiteEUR_newPC/\n",
    "lmm_sbatch_regenie=~/UKBiobank/results_pleiotropy/REGENIE_results/results_exome_data/071023_COPD_whiteEUR_newPC/COPD_newPC_whiteEUR_200kWES-regenie_$(date +\"%Y-%m-%d\").sbatch\n",
    "phenoFile=~/UKBiobank/phenotype_files/pleiotropy/UKB_exome_EUR_COPD_pcs_clean\n",
    "covarFile=~/UKBiobank/phenotype_files/pleiotropy/UKB_exome_EUR_COPD_pcs_clean\n",
    "phenoCol=COPD\n",
    "covarCol=SEX\n",
    "qCovarCol=`echo AGE SMOK_DUM{1..2} COPD_PC{1..10}`\n",
    "# Use the QC'ed exome files variant and sample missingness < 10%\n",
    "genoFile=`echo ~/UKBiobank/data/exome_files/project_VCF/072721_run/plink/ukb23156_c{1..22}.merged.filtered.bed`\n",
    "#Use the original bed files that passed QC using Megan's parameters geno=0.01, mind=0.1, maf=0.01, hwe=5e-08\n",
    "bfile=~/UKBiobank/genotype_files_processed/012323_white_european_460649ind_hg38/final_files_no_outliers/*.bed\n",
    "tpl_file=~/project/bioworkflows/admin/csg.yml\n",
    "lmm_sos=~/project/bioworkflows/GWAS/LMM.ipynb\n",
    "container_marp=~/containers/marp.sif\n",
    "container_lmm=~/containers/lmm.sif \n",
    "lmm_job_size=1\n",
    "ylim=0\n",
    "reverse_log_p=True\n",
    "numThreads=20\n",
    "formatFile_regenie=~/project/UKBB_GWAS_dev/data/regenie_template.yml\n",
    "bsize=1000\n",
    "trait=bt\n",
    "## Using this MAC the default in regenie analysis\n",
    "minMAC=5\n",
    "label_annotate='SNP'\n",
    "lowmem_dir=~/scratch60/predictions\n",
    "\n",
    "lmm_args=\"\"\"regenie\n",
    "    --cwd $lmm_dir_regenie \n",
    "    --bfile $bfile \n",
    "    --genoFile $genoFile\n",
    "    --phenoFile $phenoFile \n",
    "    --formatFile $formatFile_regenie \n",
    "    --phenoCol $phenoCol\n",
    "    --covarCol $covarCol  \n",
    "    --qCovarCol $qCovarCol\n",
    "    --bsize $bsize\n",
    "    --lowmem_dir $lowmem_dir\n",
    "    --trait $trait \n",
    "    --maf_filter $maf_filter\n",
    "    --geno_filter $geno_filter\n",
    "    --hwe_filter $hwe_filter\n",
    "    --mind_filter $mind_filter\n",
    "    --minMAC $minMAC\n",
    "    --job_size $lmm_job_size\n",
    "    --ylim $ylim\n",
    "    --reverse_log_p $reverse_log_p\n",
    "    --label_annotate $label_annotate\n",
    "    --numThreads $numThreads\n",
    "    --container_lmm $container_lmm\n",
    "    --container_marp $container_marp\n",
    "\"\"\"\n",
    "\n",
    "sos run ~/project/UKBB_GWAS_dev/admin/Get_Job_Script.ipynb csg\\\n",
    "    --template-file $tpl_file \\\n",
    "    --workflow-file $lmm_sos \\\n",
    "    --to-script $lmm_sbatch_regenie \\\n",
    "    --args \"$lmm_args\" "
   ]
  },
  {
   "cell_type": "markdown",
   "id": "75770ffb-9401-4343-b870-985027b178da",
   "metadata": {
    "kernel": "SoS"
   },
   "source": [
    "# 03/30/23 Burden analysis COPD 200 WES hg38 genotype array"
   ]
  },
  {
   "cell_type": "markdown",
   "id": "b12adc93-c38b-4ac0-b61b-d620c675bdaf",
   "metadata": {
    "kernel": "Bash"
   },
   "source": [
    "## White European"
   ]
  },
  {
   "cell_type": "code",
   "execution_count": 4,
   "id": "32d7dbad-e19e-4774-8857-8d9e33252cfb",
   "metadata": {
    "kernel": "Bash"
   },
   "outputs": [
    {
     "name": "stdout",
     "output_type": "stream",
     "text": [
      "INFO: Running \u001b[32mcsg\u001b[0m: Configuration for Columbia csg partition cluster\n",
      "INFO: \u001b[32mcsg\u001b[0m is \u001b[32mcompleted\u001b[0m.\n",
      "INFO: \u001b[32mcsg\u001b[0m output:   \u001b[32m/home/dmc2245/UKBiobank/results_pleiotropy/REGENIE_results/results_burden_exome/033023_COPD_whiteEUR/COPD_EUR_200kWES-regenie-burden_2023-04-11.sbatch\u001b[0m\n",
      "INFO: Workflow csg (ID=wcd957b971fd9cc7c) is executed successfully with 1 completed step.\n",
      "\n"
     ]
    }
   ],
   "source": [
    "lmm_dir_regenie=~/UKBiobank/results_pleiotropy/REGENIE_results/results_burden_exome/033023_COPD_whiteEUR\n",
    "lmm_sbatch_regenie=~/UKBiobank/results_pleiotropy/REGENIE_results/results_burden_exome/033023_COPD_whiteEUR/COPD_EUR_200kWES-regenie-burden_$(date +\"%Y-%m-%d\").sbatch\n",
    "phenoFile=~/UKBiobank/phenotype_files/pleiotropy/UKB_exome_EUR_COPD_pcs_clean\n",
    "phenoCol=COPD\n",
    "covarCol=SEX\n",
    "qCovarCol=`echo AGE SMOK_DUM{1..2} COPD_PC{1..10}`\n",
    "genoFile=`echo ~/UKBiobank/data/exome_files/project_VCF/072721_run/plink/ukb23156_c{1..22}.merged.filtered.bed`\n",
    "bfile=~/UKBiobank/genotype_files_processed/012323_white_european_460649ind_hg38/final_files_no_outliers/*.bed\n",
    "anno_file=~/UKBiobank/results_pleiotropy/REGENIE_results/results_burden_exome/102121_burden_files/ukb23155_chr1_chr22_091321.hg38.hg38_multianno.renamedcols.csv.anno_file\n",
    "set_list=~/UKBiobank/results_pleiotropy/REGENIE_results/results_burden_exome/102121_burden_files/ukb23155_chr1_chr22_091321.hg38.hg38_multianno.renamedcols.csv.set_list_file\n",
    "mask_file=~/UKBiobank/results_pleiotropy/REGENIE_results/results_burden_exome/102121_burden_files/ukb23155_chr1_chr22_091321.hg38.hg38_multianno.renamedcols.csv.mask_file\n",
    "aaf_file=~/UKBiobank/results_pleiotropy/REGENIE_results/results_burden_exome/102121_burden_files/ukb23155_chr1_chr22_091321.hg38.hg38_multianno.renamedcols.csv.aff_file\n",
    "build_mask=max\n",
    "aaf_bins='0.005 0.01'\n",
    "tpl_file=~/project/bioworkflows/admin/csg.yml\n",
    "lmm_sos=~/project/bioworkflows/GWAS/LMM.ipynb\n",
    "container_marp=~/containers/marp.sif\n",
    "container_lmm=~/containers/lmm.sif \n",
    "lmm_job_size=1\n",
    "ylim=0\n",
    "k=10\n",
    "reverse_log_p=True\n",
    "numThreads=20\n",
    "formatFile_regenie=~/project/UKBB_GWAS_dev/data/regenie_template.yml\n",
    "bsize=1000\n",
    "## Trait leave empty for qt traits\n",
    "trait=bt\n",
    "minMAC=1\n",
    "snpannofile=~/UKBiobank/results/ukb23155_200Kexomes_annovar/2021_10_12_hg38_exome/ukb23155_chr1_chr22_091321.hg38.hg38_multianno.renamedcols.csv.gz\n",
    "\n",
    "lmm_args=\"\"\"regenie_burden\n",
    "    --cwd $lmm_dir_regenie \n",
    "    --bfile $bfile \n",
    "    --genoFile $genoFile\n",
    "    --phenoFile $phenoFile \n",
    "    --formatFile $formatFile_regenie \n",
    "    --phenoCol $phenoCol\n",
    "    --covarCol $covarCol  \n",
    "    --qCovarCol $qCovarCol\n",
    "    --bsize $bsize\n",
    "    --trait $trait\n",
    "    --anno_file $anno_file\n",
    "    --set_list $set_list\n",
    "    --mask_file $mask_file\n",
    "    --aaf_file $aaf_file\n",
    "    --aaf_bins $aaf_bins\n",
    "    --build_mask $build_mask\n",
    "    --job_size $lmm_job_size\n",
    "    --ylim $ylim\n",
    "    --k $k\n",
    "    --reverse_log_p $reverse_log_p\n",
    "    --numThreads $numThreads\n",
    "    --minMAC $minMAC\n",
    "    --snpannofile $snpannofile\n",
    "    --container_lmm $container_lmm\n",
    "    --container_marp $container_marp\n",
    "\"\"\"\n",
    "\n",
    "sos run ~/project/UKBB_GWAS_dev/admin/Get_Job_Script.ipynb csg \\\n",
    "    --template-file $tpl_file \\\n",
    "    --workflow-file $lmm_sos \\\n",
    "    --to-script $lmm_sbatch_regenie \\\n",
    "    --args \"$lmm_args\""
   ]
  },
  {
   "cell_type": "markdown",
   "id": "3a97693b-7bcc-49f4-8c56-b5b335f45641",
   "metadata": {
    "kernel": "Bash"
   },
   "source": [
    "## Re-run with new PC data"
   ]
  },
  {
   "cell_type": "code",
   "execution_count": 5,
   "id": "0f0cb001-ccf5-4b1f-9cdb-3cf1c934c7b8",
   "metadata": {
    "kernel": "Bash"
   },
   "outputs": [
    {
     "name": "stdout",
     "output_type": "stream",
     "text": [
      "INFO: Running \u001b[32mcsg\u001b[0m: Configuration for Columbia csg partition cluster\n",
      "INFO: \u001b[32mcsg\u001b[0m is \u001b[32mcompleted\u001b[0m.\n",
      "INFO: \u001b[32mcsg\u001b[0m output:   \u001b[32m/home/dmc2245/UKBiobank/results_pleiotropy/REGENIE_results/results_burden_exome/071023_COPD_whiteEUR_newPC/COPD_newPC_EUR_200kWES-regenie-burden_2023-07-10.sbatch\u001b[0m\n",
      "INFO: Workflow csg (ID=w0330fdf9f5f0f1af) is executed successfully with 1 completed step.\n",
      "\n"
     ]
    }
   ],
   "source": [
    "lmm_dir_regenie=~/UKBiobank/results_pleiotropy/REGENIE_results/results_burden_exome/071023_COPD_whiteEUR_newPC\n",
    "lmm_sbatch_regenie=~/UKBiobank/results_pleiotropy/REGENIE_results/results_burden_exome/071023_COPD_whiteEUR_newPC/COPD_newPC_EUR_200kWES-regenie-burden_$(date +\"%Y-%m-%d\").sbatch\n",
    "phenoFile=~/UKBiobank/phenotype_files/pleiotropy/UKB_exome_EUR_COPD_pcs_clean\n",
    "phenoCol=COPD\n",
    "covarCol=SEX\n",
    "qCovarCol=`echo AGE SMOK_DUM{1..2} COPD_PC{1..10}`\n",
    "genoFile=`echo ~/UKBiobank/data/exome_files/project_VCF/072721_run/plink/ukb23156_c{1..22}.merged.filtered.bed`\n",
    "bfile=~/UKBiobank/genotype_files_processed/012323_white_european_460649ind_hg38/final_files_no_outliers/*.bed\n",
    "anno_file=~/UKBiobank/results_pleiotropy/REGENIE_results/results_burden_exome/102121_burden_files/ukb23155_chr1_chr22_091321.hg38.hg38_multianno.renamedcols.csv.anno_file\n",
    "set_list=~/UKBiobank/results_pleiotropy/REGENIE_results/results_burden_exome/102121_burden_files/ukb23155_chr1_chr22_091321.hg38.hg38_multianno.renamedcols.csv.set_list_file\n",
    "mask_file=~/UKBiobank/results_pleiotropy/REGENIE_results/results_burden_exome/102121_burden_files/ukb23155_chr1_chr22_091321.hg38.hg38_multianno.renamedcols.csv.mask_file\n",
    "aaf_file=~/UKBiobank/results_pleiotropy/REGENIE_results/results_burden_exome/102121_burden_files/ukb23155_chr1_chr22_091321.hg38.hg38_multianno.renamedcols.csv.aff_file\n",
    "build_mask=max\n",
    "aaf_bins='0.005 0.01'\n",
    "tpl_file=~/project/bioworkflows/admin/csg.yml\n",
    "lmm_sos=~/project/bioworkflows/GWAS/LMM.ipynb\n",
    "container_marp=~/containers/marp.sif\n",
    "container_lmm=~/containers/lmm.sif \n",
    "lmm_job_size=1\n",
    "ylim=0\n",
    "k=10\n",
    "reverse_log_p=True\n",
    "numThreads=20\n",
    "formatFile_regenie=~/project/UKBB_GWAS_dev/data/regenie_template.yml\n",
    "bsize=1000\n",
    "## Trait leave empty for qt traits\n",
    "trait=bt\n",
    "minMAC=1\n",
    "snpannofile=~/UKBiobank/results/ukb23155_200Kexomes_annovar/2021_10_12_hg38_exome/ukb23155_chr1_chr22_091321.hg38.hg38_multianno.renamedcols.csv.gz\n",
    "\n",
    "lmm_args=\"\"\"regenie_burden\n",
    "    --cwd $lmm_dir_regenie \n",
    "    --bfile $bfile \n",
    "    --genoFile $genoFile\n",
    "    --phenoFile $phenoFile \n",
    "    --formatFile $formatFile_regenie \n",
    "    --phenoCol $phenoCol\n",
    "    --covarCol $covarCol  \n",
    "    --qCovarCol $qCovarCol\n",
    "    --bsize $bsize\n",
    "    --trait $trait\n",
    "    --anno_file $anno_file\n",
    "    --set_list $set_list\n",
    "    --mask_file $mask_file\n",
    "    --aaf_file $aaf_file\n",
    "    --aaf_bins $aaf_bins\n",
    "    --build_mask $build_mask\n",
    "    --job_size $lmm_job_size\n",
    "    --ylim $ylim\n",
    "    --k $k\n",
    "    --reverse_log_p $reverse_log_p\n",
    "    --numThreads $numThreads\n",
    "    --minMAC $minMAC\n",
    "    --snpannofile $snpannofile\n",
    "    --container_lmm $container_lmm\n",
    "    --container_marp $container_marp\n",
    "\"\"\"\n",
    "\n",
    "sos run ~/project/UKBB_GWAS_dev/admin/Get_Job_Script.ipynb csg \\\n",
    "    --template-file $tpl_file \\\n",
    "    --workflow-file $lmm_sos \\\n",
    "    --to-script $lmm_sbatch_regenie \\\n",
    "    --args \"$lmm_args\""
   ]
  },
  {
   "cell_type": "markdown",
   "id": "e00d879f-e164-4bf4-8f86-9165d665d8c9",
   "metadata": {
    "kernel": "Bash"
   },
   "source": [
    "# 07/10/23 Exome analysis univariate  Lung function 200K WES hg38 genotype array"
   ]
  },
  {
   "cell_type": "markdown",
   "id": "b4ce17bd-6d06-42a4-8873-e2602694a4cf",
   "metadata": {
    "kernel": "Bash"
   },
   "source": [
    "## White European"
   ]
  },
  {
   "cell_type": "code",
   "execution_count": 4,
   "id": "8324a36b-ab77-446f-95df-468ac042f844",
   "metadata": {
    "kernel": "Bash"
   },
   "outputs": [
    {
     "name": "stdout",
     "output_type": "stream",
     "text": [
      "INFO: Running \u001b[32mcsg\u001b[0m: Configuration for Columbia csg partition cluster\n",
      "INFO: \u001b[32mcsg\u001b[0m is \u001b[32mcompleted\u001b[0m.\n",
      "INFO: \u001b[32mcsg\u001b[0m output:   \u001b[32m/home/dmc2245/UKBiobank/results_pleiotropy/REGENIE_results/results_exome_data/071023_Lung_fuction_whiteEUR/Lung_function_whiteEUR_200kWES-regenie_2023-07-10.sbatch\u001b[0m\n",
      "INFO: Workflow csg (ID=w7e2f444c514dd008) is executed successfully with 1 completed step.\n",
      "\n"
     ]
    }
   ],
   "source": [
    "## All filters set to 0 because the version of the bfile has already been QC'ed previously and there is not need to do it here\n",
    "maf_filter=0\n",
    "geno_filter=0\n",
    "hwe_filter=0\n",
    "mind_filter=0\n",
    "lmm_dir_regenie=~/UKBiobank/results_pleiotropy/REGENIE_results/results_exome_data/071023_Lung_fuction_whiteEUR/\n",
    "lmm_sbatch_regenie=~/UKBiobank/results_pleiotropy/REGENIE_results/results_exome_data/071023_Lung_fuction_whiteEUR/Lung_function_whiteEUR_200kWES-regenie_$(date +\"%Y-%m-%d\").sbatch\n",
    "phenoFile=~/UKBiobank/phenotype_files/pleiotropy/UKB_exome_EUR_LungFunc_pcs_clean\n",
    "covarFile=~/UKBiobank/phenotype_files/pleiotropy/UKB_exome_EUR_LungFunc_pcs_clean\n",
    "phenoCol=FEV1_FVC_RATIO\n",
    "covarCol=SEX\n",
    "qCovarCol=`echo AGE SMOK_DUM{1..2} Lung_PC{1..10}`\n",
    "# Use the QC'ed exome files variant and sample missingness < 10%\n",
    "genoFile=`echo ~/UKBiobank/data/exome_files/project_VCF/072721_run/plink/ukb23156_c{1..22}.merged.filtered.bed`\n",
    "#Use the original bed files that passed QC using Megan's parameters geno=0.01, mind=0.1, maf=0.01, hwe=5e-08\n",
    "bfile=~/UKBiobank/genotype_files_processed/012323_white_european_460649ind_hg38/final_files_no_outliers/*.bed\n",
    "tpl_file=~/project/bioworkflows/admin/csg.yml\n",
    "lmm_sos=~/project/bioworkflows/GWAS/LMM.ipynb\n",
    "container_marp=~/containers/marp.sif\n",
    "container_lmm=~/containers/lmm.sif \n",
    "lmm_job_size=1\n",
    "ylim=0\n",
    "reverse_log_p=True\n",
    "numThreads=20\n",
    "formatFile_regenie=~/project/UKBB_GWAS_dev/data/regenie_template.yml\n",
    "bsize=1000\n",
    "trait=\n",
    "## Using this MAC the default in regenie analysis\n",
    "minMAC=5\n",
    "label_annotate='SNP'\n",
    "lowmem_dir=~/scratch60/predictions\n",
    "\n",
    "lmm_args=\"\"\"regenie\n",
    "    --cwd $lmm_dir_regenie \n",
    "    --bfile $bfile \n",
    "    --genoFile $genoFile\n",
    "    --phenoFile $phenoFile \n",
    "    --formatFile $formatFile_regenie \n",
    "    --phenoCol $phenoCol\n",
    "    --covarCol $covarCol  \n",
    "    --qCovarCol $qCovarCol\n",
    "    --bsize $bsize\n",
    "    --lowmem_dir $lowmem_dir\n",
    "    --trait $trait \n",
    "    --maf_filter $maf_filter\n",
    "    --geno_filter $geno_filter\n",
    "    --hwe_filter $hwe_filter\n",
    "    --mind_filter $mind_filter\n",
    "    --minMAC $minMAC\n",
    "    --job_size $lmm_job_size\n",
    "    --ylim $ylim\n",
    "    --reverse_log_p $reverse_log_p\n",
    "    --label_annotate $label_annotate\n",
    "    --numThreads $numThreads\n",
    "    --container_lmm $container_lmm\n",
    "    --container_marp $container_marp\n",
    "\"\"\"\n",
    "\n",
    "sos run ~/project/UKBB_GWAS_dev/admin/Get_Job_Script.ipynb csg\\\n",
    "    --template-file $tpl_file \\\n",
    "    --workflow-file $lmm_sos \\\n",
    "    --to-script $lmm_sbatch_regenie \\\n",
    "    --args \"$lmm_args\" "
   ]
  },
  {
   "cell_type": "markdown",
   "id": "dc783e8e-1113-42bb-a16a-5fc8a4a9afe1",
   "metadata": {
    "kernel": "Bash"
   },
   "source": [
    "## 07/10/23 Burden analysis Lung function 200 WES hg38 genotype array"
   ]
  },
  {
   "cell_type": "markdown",
   "id": "b36e2f3e-291b-4001-8735-4d2a1889d66e",
   "metadata": {
    "kernel": "Bash"
   },
   "source": [
    "## White European"
   ]
  },
  {
   "cell_type": "code",
   "execution_count": 2,
   "id": "8b8e7ccc-12fa-4a56-b1b1-90f97257ee58",
   "metadata": {
    "kernel": "Bash"
   },
   "outputs": [
    {
     "name": "stdout",
     "output_type": "stream",
     "text": [
      "INFO: Running \u001b[32mcsg\u001b[0m: Configuration for Columbia csg partition cluster\n",
      "INFO: \u001b[32mcsg\u001b[0m is \u001b[32mcompleted\u001b[0m.\n",
      "INFO: \u001b[32mcsg\u001b[0m output:   \u001b[32m/home/dmc2245/UKBiobank/results_pleiotropy/REGENIE_results/results_burden_exome/071023_Lung_fuction_whiteEUR/Lung_function_EUR_200kWES-regenie-burden_2023-07-10.sbatch\u001b[0m\n",
      "INFO: Workflow csg (ID=wc175203074529a0e) is executed successfully with 1 completed step.\n",
      "\n"
     ]
    }
   ],
   "source": [
    "lmm_dir_regenie=~/UKBiobank/results_pleiotropy/REGENIE_results/results_burden_exome/071023_Lung_fuction_whiteEUR\n",
    "lmm_sbatch_regenie=~/UKBiobank/results_pleiotropy/REGENIE_results/results_burden_exome/071023_Lung_fuction_whiteEUR/Lung_function_EUR_200kWES-regenie-burden_$(date +\"%Y-%m-%d\").sbatch\n",
    "phenoFile=~/UKBiobank/phenotype_files/pleiotropy/UKB_exome_EUR_LungFunc_pcs_clean\n",
    "phenoCol=FEV1_FVC_RATIO\n",
    "covarCol=SEX\n",
    "qCovarCol=`echo AGE SMOK_DUM{1..2} Lung_PC{1..10}`\n",
    "genoFile=`echo ~/UKBiobank/data/exome_files/project_VCF/072721_run/plink/ukb23156_c{1..22}.merged.filtered.bed`\n",
    "bfile=~/UKBiobank/genotype_files_processed/012323_white_european_460649ind_hg38/final_files_no_outliers/*.bed\n",
    "anno_file=~/UKBiobank/results_pleiotropy/REGENIE_results/results_burden_exome/102121_burden_files/ukb23155_chr1_chr22_091321.hg38.hg38_multianno.renamedcols.csv.anno_file\n",
    "set_list=~/UKBiobank/results_pleiotropy/REGENIE_results/results_burden_exome/102121_burden_files/ukb23155_chr1_chr22_091321.hg38.hg38_multianno.renamedcols.csv.set_list_file\n",
    "mask_file=~/UKBiobank/results_pleiotropy/REGENIE_results/results_burden_exome/102121_burden_files/ukb23155_chr1_chr22_091321.hg38.hg38_multianno.renamedcols.csv.mask_file\n",
    "aaf_file=~/UKBiobank/results_pleiotropy/REGENIE_results/results_burden_exome/102121_burden_files/ukb23155_chr1_chr22_091321.hg38.hg38_multianno.renamedcols.csv.aff_file\n",
    "build_mask=max\n",
    "aaf_bins='0.005 0.01'\n",
    "tpl_file=~/project/bioworkflows/admin/csg.yml\n",
    "lmm_sos=~/project/bioworkflows/GWAS/LMM.ipynb\n",
    "container_marp=~/containers/marp.sif\n",
    "container_lmm=~/containers/lmm.sif \n",
    "lmm_job_size=1\n",
    "ylim=0\n",
    "k=10\n",
    "reverse_log_p=True\n",
    "numThreads=20\n",
    "formatFile_regenie=~/project/UKBB_GWAS_dev/data/regenie_template.yml\n",
    "bsize=1000\n",
    "## Trait leave empty for qt traits\n",
    "trait=\n",
    "minMAC=1\n",
    "snpannofile=~/UKBiobank/results/ukb23155_200Kexomes_annovar/2021_10_12_hg38_exome/ukb23155_chr1_chr22_091321.hg38.hg38_multianno.renamedcols.csv.gz\n",
    "\n",
    "lmm_args=\"\"\"regenie_burden\n",
    "    --cwd $lmm_dir_regenie \n",
    "    --bfile $bfile \n",
    "    --genoFile $genoFile\n",
    "    --phenoFile $phenoFile \n",
    "    --formatFile $formatFile_regenie \n",
    "    --phenoCol $phenoCol\n",
    "    --covarCol $covarCol  \n",
    "    --qCovarCol $qCovarCol\n",
    "    --bsize $bsize\n",
    "    --trait $trait\n",
    "    --anno_file $anno_file\n",
    "    --set_list $set_list\n",
    "    --mask_file $mask_file\n",
    "    --aaf_file $aaf_file\n",
    "    --aaf_bins $aaf_bins\n",
    "    --build_mask $build_mask\n",
    "    --job_size $lmm_job_size\n",
    "    --ylim $ylim\n",
    "    --k $k\n",
    "    --reverse_log_p $reverse_log_p\n",
    "    --numThreads $numThreads\n",
    "    --minMAC $minMAC\n",
    "    --snpannofile $snpannofile\n",
    "    --container_lmm $container_lmm\n",
    "    --container_marp $container_marp\n",
    "\"\"\"\n",
    "\n",
    "sos run ~/project/UKBB_GWAS_dev/admin/Get_Job_Script.ipynb csg \\\n",
    "    --template-file $tpl_file \\\n",
    "    --workflow-file $lmm_sos \\\n",
    "    --to-script $lmm_sbatch_regenie \\\n",
    "    --args \"$lmm_args\""
   ]
  },
  {
   "cell_type": "code",
   "execution_count": null,
   "id": "5fb20227-f047-4379-b643-164cfd9821df",
   "metadata": {
    "kernel": "Bash"
   },
   "outputs": [],
   "source": []
  }
 ],
 "metadata": {
  "kernelspec": {
   "display_name": "SoS",
   "language": "sos",
   "name": "sos"
  },
  "language_info": {
   "codemirror_mode": "sos",
   "file_extension": ".sos",
   "mimetype": "text/x-sos",
   "name": "sos",
   "nbconvert_exporter": "sos_notebook.converter.SoS_Exporter",
   "pygments_lexer": "sos"
  },
  "sos": {
   "kernels": [
    [
     "Bash",
     "calysto_bash",
     "Bash",
     "#E6EEFF",
     ""
    ],
    [
     "SoS",
     "sos",
     "",
     "",
     "sos"
    ]
   ],
   "version": "0.22.6"
  }
 },
 "nbformat": 4,
 "nbformat_minor": 5
}
