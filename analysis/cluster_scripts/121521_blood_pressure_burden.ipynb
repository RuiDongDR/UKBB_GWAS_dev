{
 "cells": [
  {
   "cell_type": "markdown",
   "id": "9defc553-b608-4b99-a984-464c88b07efb",
   "metadata": {
    "kernel": "SoS",
    "tags": []
   },
   "source": [
    "# 12-17-21 Analysis of regenie burden test for Blood Presure traits"
   ]
  },
  {
   "cell_type": "markdown",
   "id": "653d867c-e4c8-484a-9af3-dceb9eb509f0",
   "metadata": {
    "kernel": "SoS"
   },
   "source": [
    "## Create the anno_file, set_list_file and mask_files necessary for burden test"
   ]
  },
  {
   "cell_type": "code",
   "execution_count": 1,
   "id": "cf48bacd-4063-43ef-a91a-ce3ffbc4e417",
   "metadata": {
    "kernel": "Bash"
   },
   "outputs": [
    {
     "name": "stdout",
     "output_type": "stream",
     "text": [
      "INFO: Running \u001b[32mcsg\u001b[0m: Configuration for Columbia csg partition cluster\n",
      "INFO: \u001b[32mcsg\u001b[0m is \u001b[32mcompleted\u001b[0m.\n",
      "INFO: \u001b[32mcsg\u001b[0m output:   \u001b[32m/home/gl2776/UKBiobank/results/REGENIE_results/results_burden_exome/101321_burden_files/ukb23155_200Kexomes_burdenfiles_2021-10-13.sbatch\u001b[0m\n",
      "INFO: Workflow csg (ID=w2360ed87c5992d95) is executed successfully with 1 completed step.\n",
      "\n"
     ]
    }
   ],
   "source": [
    "burden_dir=~/UKBiobank/results/REGENIE_results/results_burden_exome/101321_burden_files\n",
    "anno_sbatch_burden=~/UKBiobank/results/REGENIE_results/results_burden_exome/101321_burden_files/ukb23155_200Kexomes_burdenfiles_$(date +\"%Y-%m-%d\").sbatch\n",
    "annotated_file_hg38=~/UKBiobank/results/ukb23155_200Kexomes_annovar/2021_10_12_hg38_exome/ukb23155_chr1_chr22_091321.hg38.hg38_multianno.renamedcols.csv.gz\n",
    "bim_name=~/UKBiobank/results/ukb23155_200Kexomes_annovar/091321_exome_bim_merge/ukb23155_chr1_chr22_091321.bim\n",
    "job_size=1\n",
    "name_prefix='ukb23155_chr1_chr22_qcexomedata_101321_burden_files'\n",
    "anno_sos=~/project/bioworkflows/variant-annotation/annovar.ipynb\n",
    "tpl_file=~/project/bioworkflows/admin/csg.yml\n",
    "container_annovar=$HOME/containers/gatk4-annovar.sif\n",
    "\n",
    "anno_args=\"\"\"burden_files\n",
    "    --cwd $burden_dir\n",
    "    --annotated_file $annotated_file_hg38\n",
    "    --bim_name $bim_name\n",
    "    --name_prefix $name_prefix\n",
    "    --job_size $job_size\n",
    "    --container_annovar $container_annovar\n",
    "    --container_lmm /mnt/mfs/statgen/containers/lmm.sif\n",
    "\"\"\"\n",
    "\n",
    "sos run ~/working/UKBB_GWAS_dev/admin/Get_Job_Script.ipynb csg \\\n",
    "    --template-file $tpl_file \\\n",
    "    --workflow-file $anno_sos \\\n",
    "    --to-script $anno_sbatch_burden\\\n",
    "    --args \"$anno_args\"\n"
   ]
  },
  {
   "cell_type": "markdown",
   "id": "ee5e8b58-da17-4f24-ba75-8312f2306c78",
   "metadata": {
    "kernel": "Bash"
   },
   "source": [
    "## Regenie Burden with 200K exomes white British only\n",
    "### 121521 Systolic Blood Presure"
   ]
  },
  {
   "cell_type": "code",
   "execution_count": 1,
   "id": "67605881-1ded-4895-aa76-7284c3ae83d5",
   "metadata": {
    "kernel": "Bash"
   },
   "outputs": [
    {
     "name": "stderr",
     "output_type": "stream",
     "text": [
      "/home/dmc2245/miniconda3/lib/python3.8/site-packages/sos_notebook/kernel.py:1334: DeprecationWarning: Kernel._parent_header is deprecated in ipykernel 6. Use .get_parent()\n",
      "  msg['msg_id'] = self._parent_header['header']['msg_id']\n"
     ]
    },
    {
     "name": "stdout",
     "output_type": "stream",
     "text": [
      "INFO: Running \u001b[32mcsg\u001b[0m: Configuration for Columbia csg partition cluster\n",
      "INFO: \u001b[32mcsg\u001b[0m is \u001b[32mcompleted\u001b[0m.\n",
      "INFO: \u001b[32mcsg\u001b[0m output:   \u001b[32m/home/dmc2245/UKBiobank/results_pleiotropy/REGENIE_results/results_burden_exome/121521_systolicBP/systolicBP_200k_exomes-regenie-burden_2021-12-16.sbatch\u001b[0m\n",
      "INFO: Workflow csg (ID=w6b2e261b0836f1af) is executed successfully with 1 completed step.\n"
     ]
    }
   ],
   "source": [
    "lmm_dir_regenie=~/UKBiobank/results_pleiotropy/REGENIE_results/results_burden_exome/121521_systolicBP_british\n",
    "lmm_sbatch_regenie=~/UKBiobank/results_pleiotropy/REGENIE_results/results_burden_exome/121521_systolicBP/systolicBP_200k_exomes-regenie-burden_$(date +\"%Y-%m-%d\").sbatch\n",
    "phenoFile=~/UKBiobank/phenotype_files/pleiotropy/UKBCauc_cholesterolandbloodpressurefields_inverseranknorm_covariatesage_sex_alcohol_smokingpackyears_pcs\n",
    "covarFile=~/UKBiobank/phenotype_files/pleiotropy/UKBCauc_cholesterolandbloodpressurefields_inverseranknorm_covariatesage_sex_alcohol_smokingpackyears_pcs\n",
    "phenoCol=systolic_plus15inmedicated_inverserank\n",
    "covarCol=SEX\n",
    "qCovarCol='AGE alcohol1 alcohol2 alcohol3 alcohol4 smoking_dummy1 smoking_dummy2 SBP_PC1 SBP_PC2 SBP_PC3 SBP_PC4 SBP_PC5 SBP_PC6 SBP_PC7 SBP_PC8 SBP_PC9 SBP_PC10' \n",
    "genoFile=`echo ~/UKBiobank/data/exome_files/project_VCF/072721_run/plink/ukb23156_c{1..22}.merged.filtered.bed`\n",
    "bfile=~/UKBiobank/genotype_files_processed/090221_sample_variant_qc_final_callrate90/cache/UKB_genotypedatadownloaded083019.090221_sample_variant_qc_final_callrate90.filtered.extracted.bed\n",
    "anno_file=~/UKBiobank/results_pleiotropy/REGENIE_results/results_burden_exome/102121_burden_files/ukb23155_chr1_chr22_091321.hg38.hg38_multianno.renamedcols.csv.anno_file\n",
    "set_list=~/UKBiobank/results_pleiotropy/REGENIE_results/results_burden_exome/102121_burden_files/ukb23155_chr1_chr22_091321.hg38.hg38_multianno.renamedcols.csv.set_list_file\n",
    "mask_file=~/UKBiobank/results_pleiotropy/REGENIE_results/results_burden_exome/102121_burden_files/ukb23155_chr1_chr22_091321.hg38.hg38_multianno.renamedcols.csv.mask_file\n",
    "aaf_file=~/UKBiobank/results_pleiotropy/REGENIE_results/results_burden_exome/102121_burden_files/ukb23155_chr1_chr22_091321.hg38.hg38_multianno.renamedcols.csv.aff_file\n",
    "build_mask=max\n",
    "aaf_bins='0.005 0.01'\n",
    "tpl_file=~/project/bioworkflows/admin/csg.yml\n",
    "lmm_sos=~/project/bioworkflows/GWAS/LMM.ipynb\n",
    "container_marp=~/containers/marp.sif\n",
    "container_lmm=~/containers/lmm.sif \n",
    "lmm_job_size=1\n",
    "ylim=20\n",
    "k=10\n",
    "reverse_log_p=True\n",
    "numThreads=20\n",
    "formatFile_regenie=~/project/UKBB_GWAS_dev/data/regenie_template.yml\n",
    "bsize=1000\n",
    "## Trait leave empty for qt traits\n",
    "trait=\n",
    "minMAC=1\n",
    "snpannofile=~/UKBiobank/results/ukb23155_200Kexomes_annovar/2021_10_12_hg38_exome/ukb23155_chr1_chr22_091321.hg38.hg38_multianno.renamedcols.csv.gz\n",
    "\n",
    "lmm_args=\"\"\"regenie_burden\n",
    "    --cwd $lmm_dir_regenie \n",
    "    --bfile $bfile \n",
    "    --genoFile $genoFile\n",
    "    --phenoFile $phenoFile \n",
    "    --formatFile $formatFile_regenie \n",
    "    --phenoCol $phenoCol\n",
    "    --covarCol $covarCol  \n",
    "    --qCovarCol $qCovarCol\n",
    "    --bsize $bsize\n",
    "    --trait $trait\n",
    "    --anno_file $anno_file\n",
    "    --set_list $set_list\n",
    "    --mask_file $mask_file\n",
    "    --aaf_file $aaf_file\n",
    "    --aaf_bins $aaf_bins\n",
    "    --build_mask $build_mask\n",
    "    --job_size $lmm_job_size\n",
    "    --ylim $ylim\n",
    "    --k $k\n",
    "    --reverse_log_p $reverse_log_p\n",
    "    --numThreads $numThreads\n",
    "    --minMAC $minMAC\n",
    "    --snpannofile $snpannofile\n",
    "    --container_lmm $container_lmm\n",
    "    --container_marp $container_marp\n",
    "\"\"\"\n",
    "\n",
    "sos run ~/project/UKBB_GWAS_dev/admin/Get_Job_Script.ipynb csg \\\n",
    "    --template-file $tpl_file \\\n",
    "    --workflow-file $lmm_sos \\\n",
    "    --to-script $lmm_sbatch_regenie \\\n",
    "    --args \"$lmm_args\""
   ]
  },
  {
   "cell_type": "markdown",
   "id": "64c7d0c3-76ed-41e1-8022-575a5bd3dc14",
   "metadata": {
    "kernel": "Bash"
   },
   "source": [
    "### 121521 Diastolic Blood Presure"
   ]
  },
  {
   "cell_type": "code",
   "execution_count": 2,
   "id": "61678c2c-ea72-4877-a288-440a420fa7da",
   "metadata": {
    "kernel": "Bash"
   },
   "outputs": [
    {
     "name": "stdout",
     "output_type": "stream",
     "text": [
      "INFO: Running \u001b[32mcsg\u001b[0m: Configuration for Columbia csg partition cluster\n",
      "INFO: \u001b[32mcsg\u001b[0m is \u001b[32mcompleted\u001b[0m.\n",
      "INFO: \u001b[32mcsg\u001b[0m output:   \u001b[32m/home/dmc2245/UKBiobank/results_pleiotropy/REGENIE_results/results_burden_exome/121521_diastolicBP/diastolicBP_200k_exomes-regenie-burden_2021-12-16.sbatch\u001b[0m\n",
      "INFO: Workflow csg (ID=wc620d9e819673c30) is executed successfully with 1 completed step.\n"
     ]
    }
   ],
   "source": [
    "lmm_dir_regenie=~/UKBiobank/results_pleiotropy/REGENIE_results/results_burden_exome/121521_diastolicBP_british\n",
    "lmm_sbatch_regenie=~/UKBiobank/results_pleiotropy/REGENIE_results/results_burden_exome/121521_diastolicBP/diastolicBP_200k_exomes-regenie-burden_$(date +\"%Y-%m-%d\").sbatch\n",
    "phenoFile=~/UKBiobank/phenotype_files/pleiotropy/UKBCauc_cholesterolandbloodpressurefields_inverseranknorm_covariatesage_sex_alcohol_smokingpackyears_pcs\n",
    "covarFile=~/UKBiobank/phenotype_files/pleiotropy/UKBCauc_cholesterolandbloodpressurefields_inverseranknorm_covariatesage_sex_alcohol_smokingpackyears_pcs\n",
    "phenoCol=diastolic_plus10inmedicated_inverserank\n",
    "covarCol=SEX\n",
    "qCovarCol='AGE alcohol1 alcohol2 alcohol3 alcohol4 smoking_dummy1 smoking_dummy2 DBP_PC1 DBP_PC2 DBP_PC3 DBP_PC4 DBP_PC5 DBP_PC6 DBP_PC7 DBP_PC8 DBP_PC9 DBP_PC10' \n",
    "genoFile=`echo ~/UKBiobank/data/exome_files/project_VCF/072721_run/plink/ukb23156_c{1..22}.merged.filtered.bed`\n",
    "bfile=~/UKBiobank/genotype_files_processed/090221_sample_variant_qc_final_callrate90/cache/UKB_genotypedatadownloaded083019.090221_sample_variant_qc_final_callrate90.filtered.extracted.bed\n",
    "anno_file=~/UKBiobank/results_pleiotropy/REGENIE_results/results_burden_exome/102121_burden_files/ukb23155_chr1_chr22_091321.hg38.hg38_multianno.renamedcols.csv.anno_file\n",
    "set_list=~/UKBiobank/results_pleiotropy/REGENIE_results/results_burden_exome/102121_burden_files/ukb23155_chr1_chr22_091321.hg38.hg38_multianno.renamedcols.csv.set_list_file\n",
    "mask_file=~/UKBiobank/results_pleiotropy/REGENIE_results/results_burden_exome/102121_burden_files/ukb23155_chr1_chr22_091321.hg38.hg38_multianno.renamedcols.csv.mask_file\n",
    "aaf_file=~/UKBiobank/results_pleiotropy/REGENIE_results/results_burden_exome/102121_burden_files/ukb23155_chr1_chr22_091321.hg38.hg38_multianno.renamedcols.csv.aff_file\n",
    "build_mask=max\n",
    "aaf_bins='0.005 0.01'\n",
    "tpl_file=~/project/bioworkflows/admin/csg.yml\n",
    "lmm_sos=~/project/bioworkflows/GWAS/LMM.ipynb\n",
    "container_marp=~/containers/marp.sif\n",
    "container_lmm=~/containers/lmm.sif \n",
    "lmm_job_size=1\n",
    "ylim=20\n",
    "k=10\n",
    "reverse_log_p=True\n",
    "numThreads=20\n",
    "formatFile_regenie=~/project/UKBB_GWAS_dev/data/regenie_template.yml\n",
    "bsize=1000\n",
    "trait=\n",
    "minMAC=1\n",
    "snpannofile=~/UKBiobank/results/ukb23155_200Kexomes_annovar/2021_10_12_hg38_exome/ukb23155_chr1_chr22_091321.hg38.hg38_multianno.renamedcols.csv.gz\n",
    "\n",
    "lmm_args=\"\"\"regenie_burden\n",
    "    --cwd $lmm_dir_regenie \n",
    "    --bfile $bfile \n",
    "    --genoFile $genoFile\n",
    "    --phenoFile $phenoFile \n",
    "    --formatFile $formatFile_regenie \n",
    "    --phenoCol $phenoCol\n",
    "    --covarCol $covarCol  \n",
    "    --qCovarCol $qCovarCol\n",
    "    --bsize $bsize\n",
    "    --trait $trait\n",
    "    --anno_file $anno_file\n",
    "    --set_list $set_list\n",
    "    --mask_file $mask_file\n",
    "    --aaf_file $aaf_file\n",
    "    --aaf_bins $aaf_bins\n",
    "    --build_mask $build_mask\n",
    "    --job_size $lmm_job_size\n",
    "    --ylim $ylim\n",
    "    --k $k\n",
    "    --reverse_log_p $reverse_log_p\n",
    "    --numThreads $numThreads\n",
    "    --minMAC $minMAC\n",
    "    --snpannofile $snpannofile\n",
    "    --container_lmm $container_lmm\n",
    "    --container_marp $container_marp\n",
    "\"\"\"\n",
    "\n",
    "sos run ~/project/UKBB_GWAS_dev/admin/Get_Job_Script.ipynb csg \\\n",
    "    --template-file $tpl_file \\\n",
    "    --workflow-file $lmm_sos \\\n",
    "    --to-script $lmm_sbatch_regenie \\\n",
    "    --args \"$lmm_args\""
   ]
  },
  {
   "cell_type": "markdown",
   "id": "e24f4002-8e11-432a-ba59-1cdaf680bc04",
   "metadata": {
    "kernel": "Bash"
   },
   "source": [
    "## Create the genotypeFile "
   ]
  },
  {
   "cell_type": "code",
   "execution_count": null,
   "id": "cd713a0f-633c-4661-95f3-2364fb4fec3a",
   "metadata": {
    "kernel": "Bash"
   },
   "outputs": [],
   "source": [
    "cwd=~/UKBiobank/genotype_files_processed/010622_exp_white_finalqc\n",
    "genoFile=~/UKBiobank_Yale_transfer/pleiotropy_geneticfiles/UKB_originalgenotypefilesdownloaded083019/UKB_genotypedatadownloaded083019.bed \n",
    "keep_samples=~/UKBiobank/genotype_files_processed/010622_exp_white_exomed_mind0.1/cache/UKB_genotypedatadownloaded083019.genotype_files_processed.filtered.extracted.010622_exp_white_exomed_mind0.1.filtered.pass_qc.samplelist\n",
    "keep_variants=~/UKBiobank/genotype_files_processed/010622_exp_white_exomed_mind0.1/cache/UKB_genotypedatadownloaded083019.genotype_files_processed.filtered.extracted.010622_exp_white_exomed_mind0.1.filtered.010622_exp_white_exomed_mind0.1.filtered.bim\n",
    "maf_filter=0\n",
    "geno_filter=0\n",
    "hwe_filter=0\n",
    "mind_filter=0\n",
    "mem='30G'\n",
    "gwasqc_sos=~/project/bioworkflows/GWAS/GWAS_QC.ipynb\n",
    "gwasqc_sbatch=~/pleiotropy/LMM/gwasqc1_extwhite_$(date +\"%Y-%m-%d\").sbatch\n",
    "container_lmm=~/containers/lmm.sif\n",
    "tpl_file=~/project/bioworkflows/admin/csg.yml\n",
    "numThreads=1\n",
    "job_size=1\n",
    "\n",
    "gwasqc1_args=\"\"\"qc:1\n",
    "    --cwd $cwd\n",
    "    --genoFile $genoFile\n",
    "    --keep_samples $keep_samples\n",
    "    --keep_variants $keep_variants\n",
    "    --maf_filter $maf_filter\n",
    "    --geno_filter $geno_filter\n",
    "    --hwe_filter $hwe_filter\n",
    "    --mind_filter $mind_filter\n",
    "    --numThreads $numThreads \n",
    "    --job_size $job_size\n",
    "    --container_lmm $container_lmm\n",
    "    --mem $mem\n",
    "\"\"\"\n",
    "\n",
    "sos run ~/project/UKBB_GWAS_dev/admin/Get_Job_Script.ipynb csg \\\n",
    "    --template-file $tpl_file \\\n",
    "    --workflow-file $gwasqc_sos \\\n",
    "    --to-script $gwasqc_sbatch \\\n",
    "    --args \"$gwasqc1_args\""
   ]
  },
  {
   "cell_type": "markdown",
   "id": "274b5c91-312d-496f-8051-50d8e2d40fe1",
   "metadata": {
    "kernel": "Bash"
   },
   "source": [
    "## Calculate the first 10 PC's"
   ]
  },
  {
   "cell_type": "markdown",
   "id": "c38bcbb8-8438-4676-b44b-4223fa37c103",
   "metadata": {
    "kernel": "Bash"
   },
   "source": [
    "## Systolic and Diastolic 200K"
   ]
  },
  {
   "cell_type": "markdown",
   "id": "e5643370-6e82-4c43-8463-46b86ad32ca1",
   "metadata": {
    "kernel": "Bash"
   },
   "source": [
    "### Step 1"
   ]
  },
  {
   "cell_type": "code",
   "execution_count": null,
   "id": "b610a282-60ea-44f8-b568-01888e198c9a",
   "metadata": {
    "kernel": "Bash"
   },
   "outputs": [],
   "source": [
    "## Columbia's cluster\n",
    "cwd=$UKBB_PATH/results/083021_PCA_results/091421_f3393_50Kexomes_pca\n",
    "gwas_sbatch=$OUT_PATH/qc1_f3393_qcarray_50K_$(date +\"%Y-%m-%d\").sbatch\n",
    "## Use qc'ed genotype array\n",
    "genoFile=~/UKBiobank/genotype_files_processed/090221_sample_variant_qc_final_callrate90/cache/UKB_genotypedatadownloaded083019.090221_sample_variant_qc_final_callrate90.filtered.extracted.bed\n",
    "keep_samples=$UKBB_PATH/results/083021_PCA_results/090321_UKBB_Hearing_aid_f3393_expandedwhite_24189ind_50Kexomes.keep_id\n",
    "#Keep variants after LD pruning\n",
    "keep_variants=$UKBB_PATH/results/083021_PCA_results/090221_ldprun_unrelated/cache/*.090221_ldprun_unrelated.filtered.prune.in\n",
    "\n",
    "#GWAS QC variables set all of this variables to 0 to avoid doing more filtering\n",
    "maf_filter=0\n",
    "geno_filter=0\n",
    "hwe_filter=0\n",
    "mind_filter=0\n",
    "numThreads=1\n",
    "mem='30G'\n",
    "\n",
    "gwasqc_args=\"\"\"qc:1\n",
    "    --cwd $cwd\n",
    "    --genoFile $genoFile\n",
    "    --keep_samples $keep_samples\n",
    "    --keep_variants $keep_variants\n",
    "    --maf_filter $maf_filter\n",
    "    --geno_filter $geno_filter\n",
    "    --hwe_filter $hwe_filter\n",
    "    --mind_filter $mind_filter\n",
    "    --numThreads $numThreads \n",
    "    --job_size $job_size\n",
    "    --container_lmm $container_lmm\n",
    "    --mem $mem\n",
    "\"\"\"\n",
    "\n",
    "sos run ~/project/UKBB_GWAS_dev/admin/Get_Job_Script.ipynb csg \\\n",
    "    --template-file $tpl_file \\\n",
    "    --workflow-file $gwasqc_sos \\\n",
    "    --to-script $gwas_sbatch \\\n",
    "    --args \"$gwasqc_args\""
   ]
  },
  {
   "cell_type": "code",
   "execution_count": 3,
   "id": "2805e06b-b6e6-477b-891c-c1309118a7ef",
   "metadata": {
    "kernel": "Bash"
   },
   "outputs": [
    {
     "name": "stdout",
     "output_type": "stream",
     "text": [
      "INFO: Running \u001b[32mcsg\u001b[0m: Configuration for Columbia csg partition cluster\n",
      "INFO: \u001b[32mcsg\u001b[0m is \u001b[32mcompleted\u001b[0m.\n",
      "INFO: \u001b[32mcsg\u001b[0m output:   \u001b[32m/home/dmc2245/pleiotropy/LMM/flashpca_systolicBP_pc10_ext_white_2022-01-24.sbatch\u001b[0m\n",
      "INFO: Workflow csg (ID=wec037a691651b09d) is executed successfully with 1 completed step.\n"
     ]
    }
   ],
   "source": [
    "## Columbia's cluster\n",
    "cwd=~/UKBiobank/genotype_files_processed/010622_exp_white_finalqc/012421_PC_1_10\n",
    "#This is the bfile obtained in step 1\n",
    "genoFile=~/UKBiobank/genotype_files_processed/010622_exp_white_finalqc/cache/UKB_genotypedatadownloaded083019.010622_exp_white_finalqc.filtered.extracted.bed\n",
    "# Format fam file\n",
    "phenoFile=~/UKBiobank/genotype_files_processed/010622_exp_white_finalqc/cache/UKB_genotypedatadownloaded083019.010622_exp_white_finalqc.filtered.extracted.fam\n",
    "pca_sbatch=~/pleiotropy/LMM/flashpca_systolicBP_pc10_ext_white_$(date +\"%Y-%m-%d\").sbatch\n",
    "k=10\n",
    "# Pipeline\n",
    "pca_sos=~/project/bioworkflows/GWAS/PCA.ipynb\n",
    "numThreads=1\n",
    "job_size=1\n",
    "container_lmm=$HOME/containers/lmm.sif\n",
    "tpl_file=~/project/bioworkflows/admin/csg.yml\n",
    "\n",
    "pca_args=\"\"\"flashpca\n",
    "    --cwd $cwd\n",
    "    --genoFile $genoFile\n",
    "    --phenoFile $phenoFile\n",
    "    --k $k\n",
    "    --numThreads $numThreads \n",
    "    --job_size $job_size\n",
    "    --container_lmm $container_lmm\n",
    "\"\"\"\n",
    "\n",
    "sos run  ~/project/UKBB_GWAS_dev/admin/Get_Job_Script.ipynb csg\\\n",
    "    --template-file $tpl_file \\\n",
    "    --workflow-file $pca_sos \\\n",
    "    --to-script $pca_sbatch \\\n",
    "    --args \"$pca_args\""
   ]
  },
  {
   "cell_type": "code",
   "execution_count": 4,
   "id": "30ee8738-b8aa-43b0-b407-b7a66ce7d95c",
   "metadata": {
    "kernel": "R",
    "tags": []
   },
   "outputs": [],
   "source": [
    "pheno <- read.table(\"~/UKBiobank/phenotype_files/pleiotropy/UKB_exome_white_bloodpressure_invnorm_pcs\", header=T)"
   ]
  },
  {
   "cell_type": "code",
   "execution_count": 19,
   "id": "53bebf80-77ef-421f-9c07-183b63cee383",
   "metadata": {
    "kernel": "R"
   },
   "outputs": [
    {
     "data": {
      "text/html": [
       "<table class=\"dataframe\">\n",
       "<caption>A data.frame: 6 x 63</caption>\n",
       "<thead>\n",
       "\t<tr><th></th><th scope=col>FID</th><th scope=col>IID</th><th scope=col>age</th><th scope=col>sex</th><th scope=col>smoking1</th><th scope=col>smoking2</th><th scope=col>Alcohol1</th><th scope=col>Alcohol2</th><th scope=col>Alcohol3</th><th scope=col>Alcohol4</th><th scope=col>...</th><th scope=col>DBP_PC12</th><th scope=col>DBP_PC13</th><th scope=col>DBP_PC14</th><th scope=col>DBP_PC15</th><th scope=col>DBP_PC16</th><th scope=col>DBP_PC17</th><th scope=col>DBP_PC18</th><th scope=col>DBP_PC19</th><th scope=col>DBP_PC20</th><th scope=col>DBP_status</th></tr>\n",
       "\t<tr><th></th><th scope=col>&lt;int&gt;</th><th scope=col>&lt;int&gt;</th><th scope=col>&lt;int&gt;</th><th scope=col>&lt;int&gt;</th><th scope=col>&lt;int&gt;</th><th scope=col>&lt;int&gt;</th><th scope=col>&lt;int&gt;</th><th scope=col>&lt;int&gt;</th><th scope=col>&lt;int&gt;</th><th scope=col>&lt;int&gt;</th><th scope=col>...</th><th scope=col>&lt;dbl&gt;</th><th scope=col>&lt;dbl&gt;</th><th scope=col>&lt;dbl&gt;</th><th scope=col>&lt;dbl&gt;</th><th scope=col>&lt;dbl&gt;</th><th scope=col>&lt;dbl&gt;</th><th scope=col>&lt;dbl&gt;</th><th scope=col>&lt;dbl&gt;</th><th scope=col>&lt;dbl&gt;</th><th scope=col>&lt;fct&gt;</th></tr>\n",
       "</thead>\n",
       "<tbody>\n",
       "\t<tr><th scope=row>1</th><td>1000019</td><td>1000019</td><td>47</td><td>0</td><td>0</td><td>0</td><td>0</td><td>0</td><td>1</td><td>0</td><td>...</td><td>-0.0010</td><td>-0.0019</td><td>-0.0006</td><td> 0.0010</td><td> 0.0004</td><td>-0.0012</td><td>-0.0020</td><td> 0.0003</td><td> 0.0036</td><td>Case</td></tr>\n",
       "\t<tr><th scope=row>2</th><td>1000035</td><td>1000035</td><td>63</td><td>1</td><td>0</td><td>0</td><td>0</td><td>0</td><td>0</td><td>0</td><td>...</td><td>-0.0012</td><td> 0.0006</td><td> 0.0011</td><td>-0.0008</td><td>-0.0001</td><td> 0.0009</td><td> 0.0012</td><td> 0.0010</td><td>-0.0005</td><td>Case</td></tr>\n",
       "\t<tr><th scope=row>3</th><td>1000078</td><td>1000078</td><td>52</td><td>0</td><td>0</td><td>0</td><td>1</td><td>0</td><td>0</td><td>0</td><td>...</td><td> 0.0005</td><td> 0.0013</td><td>-0.0004</td><td>-0.0010</td><td> 0.0001</td><td>-0.0026</td><td> 0.0077</td><td>-0.0030</td><td> 0.0010</td><td>Case</td></tr>\n",
       "\t<tr><th scope=row>4</th><td>1000081</td><td>1000081</td><td>67</td><td>1</td><td>1</td><td>0</td><td>1</td><td>0</td><td>0</td><td>0</td><td>...</td><td> 0.0009</td><td>-0.0075</td><td> 0.0046</td><td>-0.0068</td><td> 0.0022</td><td>-0.0078</td><td>-0.0114</td><td> 0.0054</td><td>-0.0117</td><td>Case</td></tr>\n",
       "\t<tr><th scope=row>5</th><td>1000198</td><td>1000198</td><td>41</td><td>0</td><td>1</td><td>0</td><td>1</td><td>0</td><td>0</td><td>0</td><td>...</td><td>-0.0025</td><td> 0.0021</td><td> 0.0010</td><td>-0.0025</td><td> 0.0003</td><td>-0.0015</td><td> 0.0006</td><td> 0.0004</td><td> 0.0005</td><td>Case</td></tr>\n",
       "\t<tr><th scope=row>6</th><td>1000210</td><td>1000210</td><td>66</td><td>1</td><td>1</td><td>0</td><td>0</td><td>0</td><td>0</td><td>0</td><td>...</td><td>-0.0015</td><td>-0.0001</td><td> 0.0000</td><td>-0.0005</td><td> 0.0000</td><td> 0.0000</td><td> 0.0009</td><td>-0.0011</td><td>-0.0028</td><td>Case</td></tr>\n",
       "</tbody>\n",
       "</table>\n"
      ],
      "text/latex": [
       "A data.frame: 6 x 63\n",
       "\\begin{tabular}{r|lllllllllllllllllllll}\n",
       "  & FID & IID & age & sex & smoking1 & smoking2 & Alcohol1 & Alcohol2 & Alcohol3 & Alcohol4 & ... & DBP\\_PC12 & DBP\\_PC13 & DBP\\_PC14 & DBP\\_PC15 & DBP\\_PC16 & DBP\\_PC17 & DBP\\_PC18 & DBP\\_PC19 & DBP\\_PC20 & DBP\\_status\\\\\n",
       "  & <int> & <int> & <int> & <int> & <int> & <int> & <int> & <int> & <int> & <int> & ... & <dbl> & <dbl> & <dbl> & <dbl> & <dbl> & <dbl> & <dbl> & <dbl> & <dbl> & <fct>\\\\\n",
       "\\hline\n",
       "\t1 & 1000019 & 1000019 & 47 & 0 & 0 & 0 & 0 & 0 & 1 & 0 & ... & -0.0010 & -0.0019 & -0.0006 &  0.0010 &  0.0004 & -0.0012 & -0.0020 &  0.0003 &  0.0036 & Case\\\\\n",
       "\t2 & 1000035 & 1000035 & 63 & 1 & 0 & 0 & 0 & 0 & 0 & 0 & ... & -0.0012 &  0.0006 &  0.0011 & -0.0008 & -0.0001 &  0.0009 &  0.0012 &  0.0010 & -0.0005 & Case\\\\\n",
       "\t3 & 1000078 & 1000078 & 52 & 0 & 0 & 0 & 1 & 0 & 0 & 0 & ... &  0.0005 &  0.0013 & -0.0004 & -0.0010 &  0.0001 & -0.0026 &  0.0077 & -0.0030 &  0.0010 & Case\\\\\n",
       "\t4 & 1000081 & 1000081 & 67 & 1 & 1 & 0 & 1 & 0 & 0 & 0 & ... &  0.0009 & -0.0075 &  0.0046 & -0.0068 &  0.0022 & -0.0078 & -0.0114 &  0.0054 & -0.0117 & Case\\\\\n",
       "\t5 & 1000198 & 1000198 & 41 & 0 & 1 & 0 & 1 & 0 & 0 & 0 & ... & -0.0025 &  0.0021 &  0.0010 & -0.0025 &  0.0003 & -0.0015 &  0.0006 &  0.0004 &  0.0005 & Case\\\\\n",
       "\t6 & 1000210 & 1000210 & 66 & 1 & 1 & 0 & 0 & 0 & 0 & 0 & ... & -0.0015 & -0.0001 &  0.0000 & -0.0005 &  0.0000 &  0.0000 &  0.0009 & -0.0011 & -0.0028 & Case\\\\\n",
       "\\end{tabular}\n"
      ],
      "text/markdown": [
       "\n",
       "A data.frame: 6 x 63\n",
       "\n",
       "| <!--/--> | FID &lt;int&gt; | IID &lt;int&gt; | age &lt;int&gt; | sex &lt;int&gt; | smoking1 &lt;int&gt; | smoking2 &lt;int&gt; | Alcohol1 &lt;int&gt; | Alcohol2 &lt;int&gt; | Alcohol3 &lt;int&gt; | Alcohol4 &lt;int&gt; | ... ... | DBP_PC12 &lt;dbl&gt; | DBP_PC13 &lt;dbl&gt; | DBP_PC14 &lt;dbl&gt; | DBP_PC15 &lt;dbl&gt; | DBP_PC16 &lt;dbl&gt; | DBP_PC17 &lt;dbl&gt; | DBP_PC18 &lt;dbl&gt; | DBP_PC19 &lt;dbl&gt; | DBP_PC20 &lt;dbl&gt; | DBP_status &lt;fct&gt; |\n",
       "|---|---|---|---|---|---|---|---|---|---|---|---|---|---|---|---|---|---|---|---|---|---|\n",
       "| 1 | 1000019 | 1000019 | 47 | 0 | 0 | 0 | 0 | 0 | 1 | 0 | ... | -0.0010 | -0.0019 | -0.0006 |  0.0010 |  0.0004 | -0.0012 | -0.0020 |  0.0003 |  0.0036 | Case |\n",
       "| 2 | 1000035 | 1000035 | 63 | 1 | 0 | 0 | 0 | 0 | 0 | 0 | ... | -0.0012 |  0.0006 |  0.0011 | -0.0008 | -0.0001 |  0.0009 |  0.0012 |  0.0010 | -0.0005 | Case |\n",
       "| 3 | 1000078 | 1000078 | 52 | 0 | 0 | 0 | 1 | 0 | 0 | 0 | ... |  0.0005 |  0.0013 | -0.0004 | -0.0010 |  0.0001 | -0.0026 |  0.0077 | -0.0030 |  0.0010 | Case |\n",
       "| 4 | 1000081 | 1000081 | 67 | 1 | 1 | 0 | 1 | 0 | 0 | 0 | ... |  0.0009 | -0.0075 |  0.0046 | -0.0068 |  0.0022 | -0.0078 | -0.0114 |  0.0054 | -0.0117 | Case |\n",
       "| 5 | 1000198 | 1000198 | 41 | 0 | 1 | 0 | 1 | 0 | 0 | 0 | ... | -0.0025 |  0.0021 |  0.0010 | -0.0025 |  0.0003 | -0.0015 |  0.0006 |  0.0004 |  0.0005 | Case |\n",
       "| 6 | 1000210 | 1000210 | 66 | 1 | 1 | 0 | 0 | 0 | 0 | 0 | ... | -0.0015 | -0.0001 |  0.0000 | -0.0005 |  0.0000 |  0.0000 |  0.0009 | -0.0011 | -0.0028 | Case |\n",
       "\n"
      ],
      "text/plain": [
       "  FID     IID     age sex smoking1 smoking2 Alcohol1 Alcohol2 Alcohol3 Alcohol4\n",
       "1 1000019 1000019 47  0   0        0        0        0        1        0       \n",
       "2 1000035 1000035 63  1   0        0        0        0        0        0       \n",
       "3 1000078 1000078 52  0   0        0        1        0        0        0       \n",
       "4 1000081 1000081 67  1   1        0        1        0        0        0       \n",
       "5 1000198 1000198 41  0   1        0        1        0        0        0       \n",
       "6 1000210 1000210 66  1   1        0        0        0        0        0       \n",
       "  ... DBP_PC12 DBP_PC13 DBP_PC14 DBP_PC15 DBP_PC16 DBP_PC17 DBP_PC18 DBP_PC19\n",
       "1 ... -0.0010  -0.0019  -0.0006   0.0010   0.0004  -0.0012  -0.0020   0.0003 \n",
       "2 ... -0.0012   0.0006   0.0011  -0.0008  -0.0001   0.0009   0.0012   0.0010 \n",
       "3 ...  0.0005   0.0013  -0.0004  -0.0010   0.0001  -0.0026   0.0077  -0.0030 \n",
       "4 ...  0.0009  -0.0075   0.0046  -0.0068   0.0022  -0.0078  -0.0114   0.0054 \n",
       "5 ... -0.0025   0.0021   0.0010  -0.0025   0.0003  -0.0015   0.0006   0.0004 \n",
       "6 ... -0.0015  -0.0001   0.0000  -0.0005   0.0000   0.0000   0.0009  -0.0011 \n",
       "  DBP_PC20 DBP_status\n",
       "1  0.0036  Case      \n",
       "2 -0.0005  Case      \n",
       "3  0.0010  Case      \n",
       "4 -0.0117  Case      \n",
       "5  0.0005  Case      \n",
       "6 -0.0028  Case      "
      ]
     },
     "metadata": {},
     "output_type": "display_data"
    },
    {
     "data": {
      "text/html": [
       "187908"
      ],
      "text/latex": [
       "187908"
      ],
      "text/markdown": [
       "187908"
      ],
      "text/plain": [
       "[1] 187908"
      ]
     },
     "metadata": {},
     "output_type": "display_data"
    }
   ],
   "source": [
    "head(pheno)\n",
    "nrow(pheno)"
   ]
  },
  {
   "cell_type": "code",
   "execution_count": 6,
   "id": "af40e560-a2e0-48f3-becd-60ea922747c8",
   "metadata": {
    "kernel": "R"
   },
   "outputs": [],
   "source": [
    "sys <- pheno[is.na(pheno$systolic_plus15inmedicated_inverserank),] "
   ]
  },
  {
   "cell_type": "code",
   "execution_count": 13,
   "id": "0130e251-d39d-4391-bf30-dd707f6dc5e8",
   "metadata": {
    "kernel": "R"
   },
   "outputs": [],
   "source": [
    "dias <- pheno[is.na(pheno$diastolic_plus10inmedicated_inverserank),] "
   ]
  },
  {
   "cell_type": "code",
   "execution_count": 15,
   "id": "94501bea-9b5f-495a-bae1-40aa4fed2dfd",
   "metadata": {
    "kernel": "R",
    "scrolled": true,
    "tags": []
   },
   "outputs": [
    {
     "data": {
      "text/html": [
       "<table class=\"dataframe\">\n",
       "<caption>A data.frame: 171 x 2</caption>\n",
       "<thead>\n",
       "\t<tr><th></th><th scope=col>FID</th><th scope=col>systolic_plus15inmedicated_inverserank</th></tr>\n",
       "\t<tr><th></th><th scope=col>&lt;int&gt;</th><th scope=col>&lt;dbl&gt;</th></tr>\n",
       "</thead>\n",
       "<tbody>\n",
       "\t<tr><th scope=row>75</th><td>1001825</td><td>NA</td></tr>\n",
       "\t<tr><th scope=row>3262</th><td>1085950</td><td>NA</td></tr>\n",
       "\t<tr><th scope=row>3893</th><td>1102904</td><td>NA</td></tr>\n",
       "\t<tr><th scope=row>3977</th><td>1105106</td><td>NA</td></tr>\n",
       "\t<tr><th scope=row>5950</th><td>1158287</td><td>NA</td></tr>\n",
       "\t<tr><th scope=row>7351</th><td>1195805</td><td>NA</td></tr>\n",
       "\t<tr><th scope=row>8058</th><td>1215530</td><td>NA</td></tr>\n",
       "\t<tr><th scope=row>9419</th><td>1251517</td><td>NA</td></tr>\n",
       "\t<tr><th scope=row>10103</th><td>1269481</td><td>NA</td></tr>\n",
       "\t<tr><th scope=row>11156</th><td>1297404</td><td>NA</td></tr>\n",
       "\t<tr><th scope=row>12737</th><td>1339173</td><td>NA</td></tr>\n",
       "\t<tr><th scope=row>13226</th><td>1352236</td><td>NA</td></tr>\n",
       "\t<tr><th scope=row>14112</th><td>1374729</td><td>NA</td></tr>\n",
       "\t<tr><th scope=row>14271</th><td>1379340</td><td>NA</td></tr>\n",
       "\t<tr><th scope=row>17153</th><td>1455532</td><td>NA</td></tr>\n",
       "\t<tr><th scope=row>19274</th><td>1512486</td><td>NA</td></tr>\n",
       "\t<tr><th scope=row>19473</th><td>1517737</td><td>NA</td></tr>\n",
       "\t<tr><th scope=row>19532</th><td>1519006</td><td>NA</td></tr>\n",
       "\t<tr><th scope=row>20867</th><td>1555527</td><td>NA</td></tr>\n",
       "\t<tr><th scope=row>21670</th><td>1576837</td><td>NA</td></tr>\n",
       "\t<tr><th scope=row>22633</th><td>1602205</td><td>NA</td></tr>\n",
       "\t<tr><th scope=row>23232</th><td>1618334</td><td>NA</td></tr>\n",
       "\t<tr><th scope=row>25045</th><td>1667370</td><td>NA</td></tr>\n",
       "\t<tr><th scope=row>26003</th><td>1692437</td><td>NA</td></tr>\n",
       "\t<tr><th scope=row>29790</th><td>1794793</td><td>NA</td></tr>\n",
       "\t<tr><th scope=row>30798</th><td>1820654</td><td>NA</td></tr>\n",
       "\t<tr><th scope=row>31148</th><td>1830421</td><td>NA</td></tr>\n",
       "\t<tr><th scope=row>32848</th><td>1875633</td><td>NA</td></tr>\n",
       "\t<tr><th scope=row>36087</th><td>1964650</td><td>NA</td></tr>\n",
       "\t<tr><th scope=row>38438</th><td>2027172</td><td>NA</td></tr>\n",
       "\t<tr><th scope=row>...</th><td>...</td><td>...</td></tr>\n",
       "\t<tr><th scope=row>155011</th><td>5145065</td><td>NA</td></tr>\n",
       "\t<tr><th scope=row>156936</th><td>5197627</td><td>NA</td></tr>\n",
       "\t<tr><th scope=row>159703</th><td>5270913</td><td>NA</td></tr>\n",
       "\t<tr><th scope=row>165259</th><td>5418565</td><td>NA</td></tr>\n",
       "\t<tr><th scope=row>165868</th><td>5434448</td><td>NA</td></tr>\n",
       "\t<tr><th scope=row>166089</th><td>5440641</td><td>NA</td></tr>\n",
       "\t<tr><th scope=row>166214</th><td>5444074</td><td>NA</td></tr>\n",
       "\t<tr><th scope=row>169082</th><td>5519758</td><td>NA</td></tr>\n",
       "\t<tr><th scope=row>173566</th><td>5639855</td><td>NA</td></tr>\n",
       "\t<tr><th scope=row>174092</th><td>5654162</td><td>NA</td></tr>\n",
       "\t<tr><th scope=row>174514</th><td>5665658</td><td>NA</td></tr>\n",
       "\t<tr><th scope=row>175271</th><td>5686740</td><td>NA</td></tr>\n",
       "\t<tr><th scope=row>175720</th><td>5698907</td><td>NA</td></tr>\n",
       "\t<tr><th scope=row>176279</th><td>5713428</td><td>NA</td></tr>\n",
       "\t<tr><th scope=row>176281</th><td>5713452</td><td>NA</td></tr>\n",
       "\t<tr><th scope=row>176296</th><td>5713946</td><td>NA</td></tr>\n",
       "\t<tr><th scope=row>177249</th><td>5739159</td><td>NA</td></tr>\n",
       "\t<tr><th scope=row>177968</th><td>5759006</td><td>NA</td></tr>\n",
       "\t<tr><th scope=row>178859</th><td>5782175</td><td>NA</td></tr>\n",
       "\t<tr><th scope=row>179529</th><td>5800001</td><td>NA</td></tr>\n",
       "\t<tr><th scope=row>179559</th><td>5800860</td><td>NA</td></tr>\n",
       "\t<tr><th scope=row>181145</th><td>5842980</td><td>NA</td></tr>\n",
       "\t<tr><th scope=row>181900</th><td>5863365</td><td>NA</td></tr>\n",
       "\t<tr><th scope=row>182743</th><td>5886281</td><td>NA</td></tr>\n",
       "\t<tr><th scope=row>182765</th><td>5886897</td><td>NA</td></tr>\n",
       "\t<tr><th scope=row>183155</th><td>5897311</td><td>NA</td></tr>\n",
       "\t<tr><th scope=row>183225</th><td>5899100</td><td>NA</td></tr>\n",
       "\t<tr><th scope=row>184898</th><td>5944450</td><td>NA</td></tr>\n",
       "\t<tr><th scope=row>185490</th><td>5961332</td><td>NA</td></tr>\n",
       "\t<tr><th scope=row>185989</th><td>5974911</td><td>NA</td></tr>\n",
       "</tbody>\n",
       "</table>\n"
      ],
      "text/latex": [
       "A data.frame: 171 x 2\n",
       "\\begin{tabular}{r|ll}\n",
       "  & FID & systolic\\_plus15inmedicated\\_inverserank\\\\\n",
       "  & <int> & <dbl>\\\\\n",
       "\\hline\n",
       "\t75 & 1001825 & NA\\\\\n",
       "\t3262 & 1085950 & NA\\\\\n",
       "\t3893 & 1102904 & NA\\\\\n",
       "\t3977 & 1105106 & NA\\\\\n",
       "\t5950 & 1158287 & NA\\\\\n",
       "\t7351 & 1195805 & NA\\\\\n",
       "\t8058 & 1215530 & NA\\\\\n",
       "\t9419 & 1251517 & NA\\\\\n",
       "\t10103 & 1269481 & NA\\\\\n",
       "\t11156 & 1297404 & NA\\\\\n",
       "\t12737 & 1339173 & NA\\\\\n",
       "\t13226 & 1352236 & NA\\\\\n",
       "\t14112 & 1374729 & NA\\\\\n",
       "\t14271 & 1379340 & NA\\\\\n",
       "\t17153 & 1455532 & NA\\\\\n",
       "\t19274 & 1512486 & NA\\\\\n",
       "\t19473 & 1517737 & NA\\\\\n",
       "\t19532 & 1519006 & NA\\\\\n",
       "\t20867 & 1555527 & NA\\\\\n",
       "\t21670 & 1576837 & NA\\\\\n",
       "\t22633 & 1602205 & NA\\\\\n",
       "\t23232 & 1618334 & NA\\\\\n",
       "\t25045 & 1667370 & NA\\\\\n",
       "\t26003 & 1692437 & NA\\\\\n",
       "\t29790 & 1794793 & NA\\\\\n",
       "\t30798 & 1820654 & NA\\\\\n",
       "\t31148 & 1830421 & NA\\\\\n",
       "\t32848 & 1875633 & NA\\\\\n",
       "\t36087 & 1964650 & NA\\\\\n",
       "\t38438 & 2027172 & NA\\\\\n",
       "\t... & ... & ...\\\\\n",
       "\t155011 & 5145065 & NA\\\\\n",
       "\t156936 & 5197627 & NA\\\\\n",
       "\t159703 & 5270913 & NA\\\\\n",
       "\t165259 & 5418565 & NA\\\\\n",
       "\t165868 & 5434448 & NA\\\\\n",
       "\t166089 & 5440641 & NA\\\\\n",
       "\t166214 & 5444074 & NA\\\\\n",
       "\t169082 & 5519758 & NA\\\\\n",
       "\t173566 & 5639855 & NA\\\\\n",
       "\t174092 & 5654162 & NA\\\\\n",
       "\t174514 & 5665658 & NA\\\\\n",
       "\t175271 & 5686740 & NA\\\\\n",
       "\t175720 & 5698907 & NA\\\\\n",
       "\t176279 & 5713428 & NA\\\\\n",
       "\t176281 & 5713452 & NA\\\\\n",
       "\t176296 & 5713946 & NA\\\\\n",
       "\t177249 & 5739159 & NA\\\\\n",
       "\t177968 & 5759006 & NA\\\\\n",
       "\t178859 & 5782175 & NA\\\\\n",
       "\t179529 & 5800001 & NA\\\\\n",
       "\t179559 & 5800860 & NA\\\\\n",
       "\t181145 & 5842980 & NA\\\\\n",
       "\t181900 & 5863365 & NA\\\\\n",
       "\t182743 & 5886281 & NA\\\\\n",
       "\t182765 & 5886897 & NA\\\\\n",
       "\t183155 & 5897311 & NA\\\\\n",
       "\t183225 & 5899100 & NA\\\\\n",
       "\t184898 & 5944450 & NA\\\\\n",
       "\t185490 & 5961332 & NA\\\\\n",
       "\t185989 & 5974911 & NA\\\\\n",
       "\\end{tabular}\n"
      ],
      "text/markdown": [
       "\n",
       "A data.frame: 171 x 2\n",
       "\n",
       "| <!--/--> | FID &lt;int&gt; | systolic_plus15inmedicated_inverserank &lt;dbl&gt; |\n",
       "|---|---|---|\n",
       "| 75 | 1001825 | NA |\n",
       "| 3262 | 1085950 | NA |\n",
       "| 3893 | 1102904 | NA |\n",
       "| 3977 | 1105106 | NA |\n",
       "| 5950 | 1158287 | NA |\n",
       "| 7351 | 1195805 | NA |\n",
       "| 8058 | 1215530 | NA |\n",
       "| 9419 | 1251517 | NA |\n",
       "| 10103 | 1269481 | NA |\n",
       "| 11156 | 1297404 | NA |\n",
       "| 12737 | 1339173 | NA |\n",
       "| 13226 | 1352236 | NA |\n",
       "| 14112 | 1374729 | NA |\n",
       "| 14271 | 1379340 | NA |\n",
       "| 17153 | 1455532 | NA |\n",
       "| 19274 | 1512486 | NA |\n",
       "| 19473 | 1517737 | NA |\n",
       "| 19532 | 1519006 | NA |\n",
       "| 20867 | 1555527 | NA |\n",
       "| 21670 | 1576837 | NA |\n",
       "| 22633 | 1602205 | NA |\n",
       "| 23232 | 1618334 | NA |\n",
       "| 25045 | 1667370 | NA |\n",
       "| 26003 | 1692437 | NA |\n",
       "| 29790 | 1794793 | NA |\n",
       "| 30798 | 1820654 | NA |\n",
       "| 31148 | 1830421 | NA |\n",
       "| 32848 | 1875633 | NA |\n",
       "| 36087 | 1964650 | NA |\n",
       "| 38438 | 2027172 | NA |\n",
       "| ... | ... | ... |\n",
       "| 155011 | 5145065 | NA |\n",
       "| 156936 | 5197627 | NA |\n",
       "| 159703 | 5270913 | NA |\n",
       "| 165259 | 5418565 | NA |\n",
       "| 165868 | 5434448 | NA |\n",
       "| 166089 | 5440641 | NA |\n",
       "| 166214 | 5444074 | NA |\n",
       "| 169082 | 5519758 | NA |\n",
       "| 173566 | 5639855 | NA |\n",
       "| 174092 | 5654162 | NA |\n",
       "| 174514 | 5665658 | NA |\n",
       "| 175271 | 5686740 | NA |\n",
       "| 175720 | 5698907 | NA |\n",
       "| 176279 | 5713428 | NA |\n",
       "| 176281 | 5713452 | NA |\n",
       "| 176296 | 5713946 | NA |\n",
       "| 177249 | 5739159 | NA |\n",
       "| 177968 | 5759006 | NA |\n",
       "| 178859 | 5782175 | NA |\n",
       "| 179529 | 5800001 | NA |\n",
       "| 179559 | 5800860 | NA |\n",
       "| 181145 | 5842980 | NA |\n",
       "| 181900 | 5863365 | NA |\n",
       "| 182743 | 5886281 | NA |\n",
       "| 182765 | 5886897 | NA |\n",
       "| 183155 | 5897311 | NA |\n",
       "| 183225 | 5899100 | NA |\n",
       "| 184898 | 5944450 | NA |\n",
       "| 185490 | 5961332 | NA |\n",
       "| 185989 | 5974911 | NA |\n",
       "\n"
      ],
      "text/plain": [
       "       FID     systolic_plus15inmedicated_inverserank\n",
       "75     1001825 NA                                    \n",
       "3262   1085950 NA                                    \n",
       "3893   1102904 NA                                    \n",
       "3977   1105106 NA                                    \n",
       "5950   1158287 NA                                    \n",
       "7351   1195805 NA                                    \n",
       "8058   1215530 NA                                    \n",
       "9419   1251517 NA                                    \n",
       "10103  1269481 NA                                    \n",
       "11156  1297404 NA                                    \n",
       "12737  1339173 NA                                    \n",
       "13226  1352236 NA                                    \n",
       "14112  1374729 NA                                    \n",
       "14271  1379340 NA                                    \n",
       "17153  1455532 NA                                    \n",
       "19274  1512486 NA                                    \n",
       "19473  1517737 NA                                    \n",
       "19532  1519006 NA                                    \n",
       "20867  1555527 NA                                    \n",
       "21670  1576837 NA                                    \n",
       "22633  1602205 NA                                    \n",
       "23232  1618334 NA                                    \n",
       "25045  1667370 NA                                    \n",
       "26003  1692437 NA                                    \n",
       "29790  1794793 NA                                    \n",
       "30798  1820654 NA                                    \n",
       "31148  1830421 NA                                    \n",
       "32848  1875633 NA                                    \n",
       "36087  1964650 NA                                    \n",
       "38438  2027172 NA                                    \n",
       "...    ...     ...                                   \n",
       "155011 5145065 NA                                    \n",
       "156936 5197627 NA                                    \n",
       "159703 5270913 NA                                    \n",
       "165259 5418565 NA                                    \n",
       "165868 5434448 NA                                    \n",
       "166089 5440641 NA                                    \n",
       "166214 5444074 NA                                    \n",
       "169082 5519758 NA                                    \n",
       "173566 5639855 NA                                    \n",
       "174092 5654162 NA                                    \n",
       "174514 5665658 NA                                    \n",
       "175271 5686740 NA                                    \n",
       "175720 5698907 NA                                    \n",
       "176279 5713428 NA                                    \n",
       "176281 5713452 NA                                    \n",
       "176296 5713946 NA                                    \n",
       "177249 5739159 NA                                    \n",
       "177968 5759006 NA                                    \n",
       "178859 5782175 NA                                    \n",
       "179529 5800001 NA                                    \n",
       "179559 5800860 NA                                    \n",
       "181145 5842980 NA                                    \n",
       "181900 5863365 NA                                    \n",
       "182743 5886281 NA                                    \n",
       "182765 5886897 NA                                    \n",
       "183155 5897311 NA                                    \n",
       "183225 5899100 NA                                    \n",
       "184898 5944450 NA                                    \n",
       "185490 5961332 NA                                    \n",
       "185989 5974911 NA                                    "
      ]
     },
     "metadata": {},
     "output_type": "display_data"
    },
    {
     "data": {
      "text/html": [
       "171"
      ],
      "text/latex": [
       "171"
      ],
      "text/markdown": [
       "171"
      ],
      "text/plain": [
       "[1] 171"
      ]
     },
     "metadata": {},
     "output_type": "display_data"
    }
   ],
   "source": [
    "library(dplyr)\n",
    "sys %>% select(FID, systolic_plus15inmedicated_inverserank)\n",
    "nrow(sys)"
   ]
  },
  {
   "cell_type": "code",
   "execution_count": 16,
   "id": "09e38606-7c8a-47df-8787-2c35c5cdc831",
   "metadata": {
    "kernel": "R",
    "scrolled": true,
    "tags": []
   },
   "outputs": [
    {
     "data": {
      "text/html": [
       "<table class=\"dataframe\">\n",
       "<caption>A data.frame: 171 x 2</caption>\n",
       "<thead>\n",
       "\t<tr><th></th><th scope=col>FID</th><th scope=col>diastolic_plus10inmedicated_inverserank</th></tr>\n",
       "\t<tr><th></th><th scope=col>&lt;int&gt;</th><th scope=col>&lt;dbl&gt;</th></tr>\n",
       "</thead>\n",
       "<tbody>\n",
       "\t<tr><th scope=row>75</th><td>1001825</td><td>NA</td></tr>\n",
       "\t<tr><th scope=row>3262</th><td>1085950</td><td>NA</td></tr>\n",
       "\t<tr><th scope=row>3893</th><td>1102904</td><td>NA</td></tr>\n",
       "\t<tr><th scope=row>3977</th><td>1105106</td><td>NA</td></tr>\n",
       "\t<tr><th scope=row>5950</th><td>1158287</td><td>NA</td></tr>\n",
       "\t<tr><th scope=row>7351</th><td>1195805</td><td>NA</td></tr>\n",
       "\t<tr><th scope=row>8058</th><td>1215530</td><td>NA</td></tr>\n",
       "\t<tr><th scope=row>9419</th><td>1251517</td><td>NA</td></tr>\n",
       "\t<tr><th scope=row>10103</th><td>1269481</td><td>NA</td></tr>\n",
       "\t<tr><th scope=row>11156</th><td>1297404</td><td>NA</td></tr>\n",
       "\t<tr><th scope=row>12737</th><td>1339173</td><td>NA</td></tr>\n",
       "\t<tr><th scope=row>13226</th><td>1352236</td><td>NA</td></tr>\n",
       "\t<tr><th scope=row>14112</th><td>1374729</td><td>NA</td></tr>\n",
       "\t<tr><th scope=row>14271</th><td>1379340</td><td>NA</td></tr>\n",
       "\t<tr><th scope=row>17153</th><td>1455532</td><td>NA</td></tr>\n",
       "\t<tr><th scope=row>19274</th><td>1512486</td><td>NA</td></tr>\n",
       "\t<tr><th scope=row>19473</th><td>1517737</td><td>NA</td></tr>\n",
       "\t<tr><th scope=row>19532</th><td>1519006</td><td>NA</td></tr>\n",
       "\t<tr><th scope=row>20867</th><td>1555527</td><td>NA</td></tr>\n",
       "\t<tr><th scope=row>21670</th><td>1576837</td><td>NA</td></tr>\n",
       "\t<tr><th scope=row>22633</th><td>1602205</td><td>NA</td></tr>\n",
       "\t<tr><th scope=row>23232</th><td>1618334</td><td>NA</td></tr>\n",
       "\t<tr><th scope=row>25045</th><td>1667370</td><td>NA</td></tr>\n",
       "\t<tr><th scope=row>26003</th><td>1692437</td><td>NA</td></tr>\n",
       "\t<tr><th scope=row>29790</th><td>1794793</td><td>NA</td></tr>\n",
       "\t<tr><th scope=row>30798</th><td>1820654</td><td>NA</td></tr>\n",
       "\t<tr><th scope=row>31148</th><td>1830421</td><td>NA</td></tr>\n",
       "\t<tr><th scope=row>32848</th><td>1875633</td><td>NA</td></tr>\n",
       "\t<tr><th scope=row>36087</th><td>1964650</td><td>NA</td></tr>\n",
       "\t<tr><th scope=row>38438</th><td>2027172</td><td>NA</td></tr>\n",
       "\t<tr><th scope=row>...</th><td>...</td><td>...</td></tr>\n",
       "\t<tr><th scope=row>155011</th><td>5145065</td><td>NA</td></tr>\n",
       "\t<tr><th scope=row>156936</th><td>5197627</td><td>NA</td></tr>\n",
       "\t<tr><th scope=row>159703</th><td>5270913</td><td>NA</td></tr>\n",
       "\t<tr><th scope=row>165259</th><td>5418565</td><td>NA</td></tr>\n",
       "\t<tr><th scope=row>165868</th><td>5434448</td><td>NA</td></tr>\n",
       "\t<tr><th scope=row>166089</th><td>5440641</td><td>NA</td></tr>\n",
       "\t<tr><th scope=row>166214</th><td>5444074</td><td>NA</td></tr>\n",
       "\t<tr><th scope=row>169082</th><td>5519758</td><td>NA</td></tr>\n",
       "\t<tr><th scope=row>173566</th><td>5639855</td><td>NA</td></tr>\n",
       "\t<tr><th scope=row>174092</th><td>5654162</td><td>NA</td></tr>\n",
       "\t<tr><th scope=row>174514</th><td>5665658</td><td>NA</td></tr>\n",
       "\t<tr><th scope=row>175271</th><td>5686740</td><td>NA</td></tr>\n",
       "\t<tr><th scope=row>175720</th><td>5698907</td><td>NA</td></tr>\n",
       "\t<tr><th scope=row>176279</th><td>5713428</td><td>NA</td></tr>\n",
       "\t<tr><th scope=row>176281</th><td>5713452</td><td>NA</td></tr>\n",
       "\t<tr><th scope=row>176296</th><td>5713946</td><td>NA</td></tr>\n",
       "\t<tr><th scope=row>177249</th><td>5739159</td><td>NA</td></tr>\n",
       "\t<tr><th scope=row>177968</th><td>5759006</td><td>NA</td></tr>\n",
       "\t<tr><th scope=row>178859</th><td>5782175</td><td>NA</td></tr>\n",
       "\t<tr><th scope=row>179529</th><td>5800001</td><td>NA</td></tr>\n",
       "\t<tr><th scope=row>179559</th><td>5800860</td><td>NA</td></tr>\n",
       "\t<tr><th scope=row>181145</th><td>5842980</td><td>NA</td></tr>\n",
       "\t<tr><th scope=row>181900</th><td>5863365</td><td>NA</td></tr>\n",
       "\t<tr><th scope=row>182743</th><td>5886281</td><td>NA</td></tr>\n",
       "\t<tr><th scope=row>182765</th><td>5886897</td><td>NA</td></tr>\n",
       "\t<tr><th scope=row>183155</th><td>5897311</td><td>NA</td></tr>\n",
       "\t<tr><th scope=row>183225</th><td>5899100</td><td>NA</td></tr>\n",
       "\t<tr><th scope=row>184898</th><td>5944450</td><td>NA</td></tr>\n",
       "\t<tr><th scope=row>185490</th><td>5961332</td><td>NA</td></tr>\n",
       "\t<tr><th scope=row>185989</th><td>5974911</td><td>NA</td></tr>\n",
       "</tbody>\n",
       "</table>\n"
      ],
      "text/latex": [
       "A data.frame: 171 x 2\n",
       "\\begin{tabular}{r|ll}\n",
       "  & FID & diastolic\\_plus10inmedicated\\_inverserank\\\\\n",
       "  & <int> & <dbl>\\\\\n",
       "\\hline\n",
       "\t75 & 1001825 & NA\\\\\n",
       "\t3262 & 1085950 & NA\\\\\n",
       "\t3893 & 1102904 & NA\\\\\n",
       "\t3977 & 1105106 & NA\\\\\n",
       "\t5950 & 1158287 & NA\\\\\n",
       "\t7351 & 1195805 & NA\\\\\n",
       "\t8058 & 1215530 & NA\\\\\n",
       "\t9419 & 1251517 & NA\\\\\n",
       "\t10103 & 1269481 & NA\\\\\n",
       "\t11156 & 1297404 & NA\\\\\n",
       "\t12737 & 1339173 & NA\\\\\n",
       "\t13226 & 1352236 & NA\\\\\n",
       "\t14112 & 1374729 & NA\\\\\n",
       "\t14271 & 1379340 & NA\\\\\n",
       "\t17153 & 1455532 & NA\\\\\n",
       "\t19274 & 1512486 & NA\\\\\n",
       "\t19473 & 1517737 & NA\\\\\n",
       "\t19532 & 1519006 & NA\\\\\n",
       "\t20867 & 1555527 & NA\\\\\n",
       "\t21670 & 1576837 & NA\\\\\n",
       "\t22633 & 1602205 & NA\\\\\n",
       "\t23232 & 1618334 & NA\\\\\n",
       "\t25045 & 1667370 & NA\\\\\n",
       "\t26003 & 1692437 & NA\\\\\n",
       "\t29790 & 1794793 & NA\\\\\n",
       "\t30798 & 1820654 & NA\\\\\n",
       "\t31148 & 1830421 & NA\\\\\n",
       "\t32848 & 1875633 & NA\\\\\n",
       "\t36087 & 1964650 & NA\\\\\n",
       "\t38438 & 2027172 & NA\\\\\n",
       "\t... & ... & ...\\\\\n",
       "\t155011 & 5145065 & NA\\\\\n",
       "\t156936 & 5197627 & NA\\\\\n",
       "\t159703 & 5270913 & NA\\\\\n",
       "\t165259 & 5418565 & NA\\\\\n",
       "\t165868 & 5434448 & NA\\\\\n",
       "\t166089 & 5440641 & NA\\\\\n",
       "\t166214 & 5444074 & NA\\\\\n",
       "\t169082 & 5519758 & NA\\\\\n",
       "\t173566 & 5639855 & NA\\\\\n",
       "\t174092 & 5654162 & NA\\\\\n",
       "\t174514 & 5665658 & NA\\\\\n",
       "\t175271 & 5686740 & NA\\\\\n",
       "\t175720 & 5698907 & NA\\\\\n",
       "\t176279 & 5713428 & NA\\\\\n",
       "\t176281 & 5713452 & NA\\\\\n",
       "\t176296 & 5713946 & NA\\\\\n",
       "\t177249 & 5739159 & NA\\\\\n",
       "\t177968 & 5759006 & NA\\\\\n",
       "\t178859 & 5782175 & NA\\\\\n",
       "\t179529 & 5800001 & NA\\\\\n",
       "\t179559 & 5800860 & NA\\\\\n",
       "\t181145 & 5842980 & NA\\\\\n",
       "\t181900 & 5863365 & NA\\\\\n",
       "\t182743 & 5886281 & NA\\\\\n",
       "\t182765 & 5886897 & NA\\\\\n",
       "\t183155 & 5897311 & NA\\\\\n",
       "\t183225 & 5899100 & NA\\\\\n",
       "\t184898 & 5944450 & NA\\\\\n",
       "\t185490 & 5961332 & NA\\\\\n",
       "\t185989 & 5974911 & NA\\\\\n",
       "\\end{tabular}\n"
      ],
      "text/markdown": [
       "\n",
       "A data.frame: 171 x 2\n",
       "\n",
       "| <!--/--> | FID &lt;int&gt; | diastolic_plus10inmedicated_inverserank &lt;dbl&gt; |\n",
       "|---|---|---|\n",
       "| 75 | 1001825 | NA |\n",
       "| 3262 | 1085950 | NA |\n",
       "| 3893 | 1102904 | NA |\n",
       "| 3977 | 1105106 | NA |\n",
       "| 5950 | 1158287 | NA |\n",
       "| 7351 | 1195805 | NA |\n",
       "| 8058 | 1215530 | NA |\n",
       "| 9419 | 1251517 | NA |\n",
       "| 10103 | 1269481 | NA |\n",
       "| 11156 | 1297404 | NA |\n",
       "| 12737 | 1339173 | NA |\n",
       "| 13226 | 1352236 | NA |\n",
       "| 14112 | 1374729 | NA |\n",
       "| 14271 | 1379340 | NA |\n",
       "| 17153 | 1455532 | NA |\n",
       "| 19274 | 1512486 | NA |\n",
       "| 19473 | 1517737 | NA |\n",
       "| 19532 | 1519006 | NA |\n",
       "| 20867 | 1555527 | NA |\n",
       "| 21670 | 1576837 | NA |\n",
       "| 22633 | 1602205 | NA |\n",
       "| 23232 | 1618334 | NA |\n",
       "| 25045 | 1667370 | NA |\n",
       "| 26003 | 1692437 | NA |\n",
       "| 29790 | 1794793 | NA |\n",
       "| 30798 | 1820654 | NA |\n",
       "| 31148 | 1830421 | NA |\n",
       "| 32848 | 1875633 | NA |\n",
       "| 36087 | 1964650 | NA |\n",
       "| 38438 | 2027172 | NA |\n",
       "| ... | ... | ... |\n",
       "| 155011 | 5145065 | NA |\n",
       "| 156936 | 5197627 | NA |\n",
       "| 159703 | 5270913 | NA |\n",
       "| 165259 | 5418565 | NA |\n",
       "| 165868 | 5434448 | NA |\n",
       "| 166089 | 5440641 | NA |\n",
       "| 166214 | 5444074 | NA |\n",
       "| 169082 | 5519758 | NA |\n",
       "| 173566 | 5639855 | NA |\n",
       "| 174092 | 5654162 | NA |\n",
       "| 174514 | 5665658 | NA |\n",
       "| 175271 | 5686740 | NA |\n",
       "| 175720 | 5698907 | NA |\n",
       "| 176279 | 5713428 | NA |\n",
       "| 176281 | 5713452 | NA |\n",
       "| 176296 | 5713946 | NA |\n",
       "| 177249 | 5739159 | NA |\n",
       "| 177968 | 5759006 | NA |\n",
       "| 178859 | 5782175 | NA |\n",
       "| 179529 | 5800001 | NA |\n",
       "| 179559 | 5800860 | NA |\n",
       "| 181145 | 5842980 | NA |\n",
       "| 181900 | 5863365 | NA |\n",
       "| 182743 | 5886281 | NA |\n",
       "| 182765 | 5886897 | NA |\n",
       "| 183155 | 5897311 | NA |\n",
       "| 183225 | 5899100 | NA |\n",
       "| 184898 | 5944450 | NA |\n",
       "| 185490 | 5961332 | NA |\n",
       "| 185989 | 5974911 | NA |\n",
       "\n"
      ],
      "text/plain": [
       "       FID     diastolic_plus10inmedicated_inverserank\n",
       "75     1001825 NA                                     \n",
       "3262   1085950 NA                                     \n",
       "3893   1102904 NA                                     \n",
       "3977   1105106 NA                                     \n",
       "5950   1158287 NA                                     \n",
       "7351   1195805 NA                                     \n",
       "8058   1215530 NA                                     \n",
       "9419   1251517 NA                                     \n",
       "10103  1269481 NA                                     \n",
       "11156  1297404 NA                                     \n",
       "12737  1339173 NA                                     \n",
       "13226  1352236 NA                                     \n",
       "14112  1374729 NA                                     \n",
       "14271  1379340 NA                                     \n",
       "17153  1455532 NA                                     \n",
       "19274  1512486 NA                                     \n",
       "19473  1517737 NA                                     \n",
       "19532  1519006 NA                                     \n",
       "20867  1555527 NA                                     \n",
       "21670  1576837 NA                                     \n",
       "22633  1602205 NA                                     \n",
       "23232  1618334 NA                                     \n",
       "25045  1667370 NA                                     \n",
       "26003  1692437 NA                                     \n",
       "29790  1794793 NA                                     \n",
       "30798  1820654 NA                                     \n",
       "31148  1830421 NA                                     \n",
       "32848  1875633 NA                                     \n",
       "36087  1964650 NA                                     \n",
       "38438  2027172 NA                                     \n",
       "...    ...     ...                                    \n",
       "155011 5145065 NA                                     \n",
       "156936 5197627 NA                                     \n",
       "159703 5270913 NA                                     \n",
       "165259 5418565 NA                                     \n",
       "165868 5434448 NA                                     \n",
       "166089 5440641 NA                                     \n",
       "166214 5444074 NA                                     \n",
       "169082 5519758 NA                                     \n",
       "173566 5639855 NA                                     \n",
       "174092 5654162 NA                                     \n",
       "174514 5665658 NA                                     \n",
       "175271 5686740 NA                                     \n",
       "175720 5698907 NA                                     \n",
       "176279 5713428 NA                                     \n",
       "176281 5713452 NA                                     \n",
       "176296 5713946 NA                                     \n",
       "177249 5739159 NA                                     \n",
       "177968 5759006 NA                                     \n",
       "178859 5782175 NA                                     \n",
       "179529 5800001 NA                                     \n",
       "179559 5800860 NA                                     \n",
       "181145 5842980 NA                                     \n",
       "181900 5863365 NA                                     \n",
       "182743 5886281 NA                                     \n",
       "182765 5886897 NA                                     \n",
       "183155 5897311 NA                                     \n",
       "183225 5899100 NA                                     \n",
       "184898 5944450 NA                                     \n",
       "185490 5961332 NA                                     \n",
       "185989 5974911 NA                                     "
      ]
     },
     "metadata": {},
     "output_type": "display_data"
    },
    {
     "data": {
      "text/html": [
       "171"
      ],
      "text/latex": [
       "171"
      ],
      "text/markdown": [
       "171"
      ],
      "text/plain": [
       "[1] 171"
      ]
     },
     "metadata": {},
     "output_type": "display_data"
    }
   ],
   "source": [
    "dias %>% select(FID, diastolic_plus10inmedicated_inverserank)\n",
    "nrow(dias)"
   ]
  },
  {
   "cell_type": "code",
   "execution_count": 18,
   "id": "c02023d6-fb0d-427c-9621-19d902fb8e4f",
   "metadata": {
    "kernel": "R"
   },
   "outputs": [
    {
     "data": {
      "text/html": [
       "TRUE"
      ],
      "text/latex": [
       "TRUE"
      ],
      "text/markdown": [
       "TRUE"
      ],
      "text/plain": [
       "[1] TRUE"
      ]
     },
     "metadata": {},
     "output_type": "display_data"
    }
   ],
   "source": [
    "all_equal(sys,dias)"
   ]
  },
  {
   "cell_type": "markdown",
   "id": "53790be9-e2a2-489e-941e-b8f58f7f98e4",
   "metadata": {
    "kernel": "Bash"
   },
   "source": [
    "## 02-16-22 GWAS burden analysis for extended white using the correct bed file and PC calculation\n",
    "\n",
    "* Samples=187,908\n",
    "* Variants=522,952"
   ]
  },
  {
   "cell_type": "markdown",
   "id": "c21d7e13-2cb3-44b0-bcad-918fa5b22066",
   "metadata": {
    "kernel": "Bash"
   },
   "source": [
    "### Systolic burden"
   ]
  },
  {
   "cell_type": "code",
   "execution_count": null,
   "id": "16c0261f-d978-482c-9754-862751f83d9b",
   "metadata": {
    "kernel": "Bash"
   },
   "outputs": [],
   "source": [
    "lmm_dir_regenie=~/UKBiobank/results_pleiotropy/REGENIE_results/results_burden_exome/021622_systolicBP_extwhite\n",
    "lmm_sbatch_regenie=~/pleiotropy/LMM/systolicBP_200k_exomes-regenie-burden_$(date +\"%Y-%m-%d\").sbatch\n",
    "phenoFile=~/UKBiobank/phenotype_files/pleiotropy/UKB_exome_white_bloodpressure_invnorm_pcs_new\n",
    "covarFile=~/UKBiobank/phenotype_files/pleiotropy/UKB_exome_white_bloodpressure_invnorm_pcs_new\n",
    "phenoCol=systolic_plus15inmedicated_inverserank\n",
    "covarCol=sex\n",
    "qCovarCol='age Alcohol1 Alcohol2 Alcohol3 Alcohol4 smoking1 smoking2 SBP_PC1 SBP_PC2 SBP_PC3 SBP_PC4 SBP_PC5 SBP_PC6 SBP_PC7 SBP_PC8 SBP_PC9 SBP_PC10' \n",
    "genoFile=`echo ~/UKBiobank/data/exome_files/project_VCF/072721_run/plink/ukb23156_c{1..22}.merged.filtered.bed`\n",
    "bfile=~/UKBiobank/genotype_files_processed/010622_exp_white_finalqc/cache/*.bed\n",
    "anno_file=~/UKBiobank/results_pleiotropy/REGENIE_results/results_burden_exome/102121_burden_files/ukb23155_chr1_chr22_091321.hg38.hg38_multianno.renamedcols.csv.anno_file\n",
    "set_list=~/UKBiobank/results_pleiotropy/REGENIE_results/results_burden_exome/102121_burden_files/ukb23155_chr1_chr22_091321.hg38.hg38_multianno.renamedcols.csv.set_list_file\n",
    "mask_file=~/UKBiobank/results_pleiotropy/REGENIE_results/results_burden_exome/102121_burden_files/ukb23155_chr1_chr22_091321.hg38.hg38_multianno.renamedcols.csv.mask_file\n",
    "aaf_file=~/UKBiobank/results_pleiotropy/REGENIE_results/results_burden_exome/102121_burden_files/ukb23155_chr1_chr22_091321.hg38.hg38_multianno.renamedcols.csv.aff_file\n",
    "build_mask=max\n",
    "aaf_bins='0.005 0.01'\n",
    "tpl_file=~/project/bioworkflows/admin/csg.yml\n",
    "lmm_sos=~/project/bioworkflows/GWAS/LMM.ipynb\n",
    "container_marp=~/containers/marp.sif\n",
    "container_lmm=~/containers/lmm.sif \n",
    "lmm_job_size=1\n",
    "ylim=20\n",
    "k=10\n",
    "reverse_log_p=True\n",
    "numThreads=20\n",
    "formatFile_regenie=~/project/UKBB_GWAS_dev/data/regenie_template.yml\n",
    "bsize=1000\n",
    "## Trait leave empty for qt traits\n",
    "trait=\n",
    "minMAC=1\n",
    "snpannofile=~/UKBiobank/results/ukb23155_200Kexomes_annovar/2021_10_12_hg38_exome/ukb23155_chr1_chr22_091321.hg38.hg38_multianno.renamedcols.csv.gz\n",
    "\n",
    "lmm_args=\"\"\"regenie_burden\n",
    "    --cwd $lmm_dir_regenie \n",
    "    --bfile $bfile \n",
    "    --genoFile $genoFile\n",
    "    --phenoFile $phenoFile \n",
    "    --formatFile $formatFile_regenie \n",
    "    --phenoCol $phenoCol\n",
    "    --covarCol $covarCol  \n",
    "    --qCovarCol $qCovarCol\n",
    "    --bsize $bsize\n",
    "    --trait $trait\n",
    "    --anno_file $anno_file\n",
    "    --set_list $set_list\n",
    "    --mask_file $mask_file\n",
    "    --aaf_file $aaf_file\n",
    "    --aaf_bins $aaf_bins\n",
    "    --build_mask $build_mask\n",
    "    --job_size $lmm_job_size\n",
    "    --ylim $ylim\n",
    "    --k $k\n",
    "    --reverse_log_p $reverse_log_p\n",
    "    --numThreads $numThreads\n",
    "    --minMAC $minMAC\n",
    "    --snpannofile $snpannofile\n",
    "    --container_lmm $container_lmm\n",
    "    --container_marp $container_marp\n",
    "\"\"\"\n",
    "\n",
    "sos run ~/project/UKBB_GWAS_dev/admin/Get_Job_Script.ipynb csg \\\n",
    "    --template-file $tpl_file \\\n",
    "    --workflow-file $lmm_sos \\\n",
    "    --to-script $lmm_sbatch_regenie \\\n",
    "    --args \"$lmm_args\""
   ]
  },
  {
   "cell_type": "markdown",
   "id": "ec431232-c21b-402a-8330-a32c60779d70",
   "metadata": {
    "kernel": "Bash"
   },
   "source": [
    "### Diastolic BP burden"
   ]
  },
  {
   "cell_type": "code",
   "execution_count": null,
   "id": "46e683ca-771f-4476-9896-b855be615f31",
   "metadata": {
    "kernel": "Bash"
   },
   "outputs": [],
   "source": [
    "lmm_dir_regenie=~/UKBiobank/results_pleiotropy/REGENIE_results/results_burden_exome/021622_diastolicBP_extwhite\n",
    "lmm_sbatch_regenie=~/pleiotropy/LMM/diastolicBP_200k_exomes-regenie-burden_$(date +\"%Y-%m-%d\").sbatch\n",
    "phenoFile=~/UKBiobank/phenotype_files/pleiotropy/UKB_exome_white_bloodpressure_invnorm_pcs_new\n",
    "covarFile=~/UKBiobank/phenotype_files/pleiotropy/UKB_exome_white_bloodpressure_invnorm_pcs_new\n",
    "phenoCol=diastolic_plus10inmedicated_inverserank\n",
    "covarCol=sex\n",
    "qCovarCol='age Alcohol1 Alcohol2 Alcohol3 Alcohol4 smoking1 smoking2 DBP_PC1 DBP_PC2 DBP_PC3 DBP_PC4 DBP_PC5 DBP_PC6 DBP_PC7 DBP_PC8 DBP_PC9 DBP_PC10' \n",
    "genoFile=`echo ~/UKBiobank/data/exome_files/project_VCF/072721_run/plink/ukb23156_c{1..22}.merged.filtered.bed`\n",
    "bfile=~/UKBiobank/genotype_files_processed/010622_exp_white_finalqc/cache/*.bed\n",
    "anno_file=~/UKBiobank/results_pleiotropy/REGENIE_results/results_burden_exome/102121_burden_files/ukb23155_chr1_chr22_091321.hg38.hg38_multianno.renamedcols.csv.anno_file\n",
    "set_list=~/UKBiobank/results_pleiotropy/REGENIE_results/results_burden_exome/102121_burden_files/ukb23155_chr1_chr22_091321.hg38.hg38_multianno.renamedcols.csv.set_list_file\n",
    "mask_file=~/UKBiobank/results_pleiotropy/REGENIE_results/results_burden_exome/102121_burden_files/ukb23155_chr1_chr22_091321.hg38.hg38_multianno.renamedcols.csv.mask_file\n",
    "aaf_file=~/UKBiobank/results_pleiotropy/REGENIE_results/results_burden_exome/102121_burden_files/ukb23155_chr1_chr22_091321.hg38.hg38_multianno.renamedcols.csv.aff_file\n",
    "build_mask=max\n",
    "aaf_bins='0.005 0.01'\n",
    "tpl_file=~/project/bioworkflows/admin/csg.yml\n",
    "lmm_sos=~/project/bioworkflows/GWAS/LMM.ipynb\n",
    "container_marp=~/containers/marp.sif\n",
    "container_lmm=~/containers/lmm.sif \n",
    "lmm_job_size=1\n",
    "ylim=20\n",
    "k=10\n",
    "reverse_log_p=True\n",
    "numThreads=20\n",
    "formatFile_regenie=~/project/UKBB_GWAS_dev/data/regenie_template.yml\n",
    "bsize=1000\n",
    "trait=\n",
    "minMAC=1\n",
    "snpannofile=~/UKBiobank/results/ukb23155_200Kexomes_annovar/2021_10_12_hg38_exome/ukb23155_chr1_chr22_091321.hg38.hg38_multianno.renamedcols.csv.gz\n",
    "\n",
    "lmm_args=\"\"\"regenie_burden\n",
    "    --cwd $lmm_dir_regenie \n",
    "    --bfile $bfile \n",
    "    --genoFile $genoFile\n",
    "    --phenoFile $phenoFile \n",
    "    --formatFile $formatFile_regenie \n",
    "    --phenoCol $phenoCol\n",
    "    --covarCol $covarCol  \n",
    "    --qCovarCol $qCovarCol\n",
    "    --bsize $bsize\n",
    "    --trait $trait\n",
    "    --anno_file $anno_file\n",
    "    --set_list $set_list\n",
    "    --mask_file $mask_file\n",
    "    --aaf_file $aaf_file\n",
    "    --aaf_bins $aaf_bins\n",
    "    --build_mask $build_mask\n",
    "    --job_size $lmm_job_size\n",
    "    --ylim $ylim\n",
    "    --k $k\n",
    "    --reverse_log_p $reverse_log_p\n",
    "    --numThreads $numThreads\n",
    "    --minMAC $minMAC\n",
    "    --snpannofile $snpannofile\n",
    "    --container_lmm $container_lmm\n",
    "    --container_marp $container_marp\n",
    "\"\"\"\n",
    "\n",
    "sos run ~/project/UKBB_GWAS_dev/admin/Get_Job_Script.ipynb csg \\\n",
    "    --template-file $tpl_file \\\n",
    "    --workflow-file $lmm_sos \\\n",
    "    --to-script $lmm_sbatch_regenie \\\n",
    "    --args \"$lmm_args\""
   ]
  },
  {
   "cell_type": "markdown",
   "id": "9bc13d3d-73ff-4670-a705-897067bae52a",
   "metadata": {
    "kernel": "Bash"
   },
   "source": [
    "## 02-17-22 GWAS analysis for BP traits  - Single Variant Analysis with Exome data\n",
    "\n",
    "* Samples=187,908\n",
    "* Variants=522,952\n"
   ]
  },
  {
   "cell_type": "markdown",
   "id": "897daefb-8764-4107-a48c-26072db22ba7",
   "metadata": {
    "kernel": "Bash"
   },
   "source": [
    "### SBP"
   ]
  },
  {
   "cell_type": "code",
   "execution_count": 5,
   "id": "2044f076-eba3-4e57-acaa-14794cdb8d44",
   "metadata": {
    "kernel": "Bash"
   },
   "outputs": [
    {
     "name": "stdout",
     "output_type": "stream",
     "text": [
      "INFO: Running \u001b[32mcsg\u001b[0m: Configuration for Columbia csg partition cluster\n",
      "INFO: \u001b[32mcsg\u001b[0m is \u001b[32mcompleted\u001b[0m.\n",
      "INFO: \u001b[32mcsg\u001b[0m output:   \u001b[32m/home/dmc2245/pleiotropy/LMM/systolicBP_200k_exomes-regenie_extwhite_2022-02-17.sbatch\u001b[0m\n",
      "INFO: Workflow csg (ID=wb628f2e6fd7ff0a0) is executed successfully with 1 completed step.\n",
      "\n"
     ]
    }
   ],
   "source": [
    "## All filters set to 0 because the version of the bfile has already been QC'ed previously and there is not need to do it here\n",
    "maf_filter=0\n",
    "geno_filter=0\n",
    "hwe_filter=0\n",
    "mind_filter=0\n",
    "lmm_dir_regenie=~/UKBiobank/results_pleiotropy/REGENIE_results/results_exome_data/021722_systolicBP_extwhite/\n",
    "lmm_sbatch_regenie=~/pleiotropy/LMM/systolicBP_200k_exomes-regenie_extwhite_$(date +\"%Y-%m-%d\").sbatch\n",
    "phenoFile=~/UKBiobank/phenotype_files/pleiotropy/UKB_exome_white_bloodpressure_invnorm_pcs_new\n",
    "covarFile=~/UKBiobank/phenotype_files/pleiotropy/UKB_exome_white_bloodpressure_invnorm_pcs_new\n",
    "phenoCol=systolic_plus15inmedicated_inverserank\n",
    "covarCol=sex\n",
    "qCovarCol='age Alcohol1 Alcohol2 Alcohol3 Alcohol4 smoking1 smoking2 SBP_PC1 SBP_PC2 SBP_PC3 SBP_PC4 SBP_PC5 SBP_PC6 SBP_PC7 SBP_PC8 SBP_PC9 SBP_PC10' \n",
    "# Use the QC'ed exome files variant and sample missingness < 10%\n",
    "genoFile=`echo ~/UKBiobank/data/exome_files/project_VCF/072721_run/plink/ukb23156_c{1..22}.merged.filtered.bed`\n",
    "#Use the original bed files that passed QC using Megan's parameters geno=0.01, mind=0.1, maf=0.01, hwe=5e-08\n",
    "bfile=~/UKBiobank/genotype_files_processed/010622_exp_white_finalqc/cache/*.bed\n",
    "tpl_file=~/project/bioworkflows/admin/csg.yml\n",
    "lmm_sos=~/project/bioworkflows/GWAS/LMM.ipynb\n",
    "container_marp=~/containers/marp.sif\n",
    "container_lmm=~/containers/lmm.sif \n",
    "lmm_job_size=1\n",
    "ylim=0\n",
    "reverse_log_p=True\n",
    "numThreads=20\n",
    "formatFile_regenie=~/project/UKBB_GWAS_dev/data/regenie_template.yml\n",
    "bsize=1000\n",
    "trait=\n",
    "## Using this MAC the default in regenie analysis\n",
    "minMAC=5\n",
    "label_annotate='SNP'\n",
    "\n",
    "## After doing the annotation you can create the annotatted manhatan plot\n",
    "#anno_file=$lmm_exome_dir_regenie/090921_f3393_hearing_aid_200K/091321_annotation/*.formatted.csv\n",
    "#label_annotate=Gene\n",
    "#known_vars=\n",
    "#new_vars=\n",
    "# If --annotate then it will add the label to the plot otherwise --no-annotate\n",
    "\n",
    "lmm_args=\"\"\"regenie\n",
    "    --cwd $lmm_dir_regenie \n",
    "    --bfile $bfile \n",
    "    --genoFile $genoFile\n",
    "    --phenoFile $phenoFile \n",
    "    --formatFile $formatFile_regenie \n",
    "    --phenoCol $phenoCol\n",
    "    --covarCol $covarCol  \n",
    "    --qCovarCol $qCovarCol\n",
    "    --bsize $bsize\n",
    "    --lowmem_dir $lowmem_dir\n",
    "    --trait $trait \n",
    "    --bgenMinMAF $bgenMinMAF \n",
    "    --bgenMinINFO $bgenMinINFO\n",
    "    --maf_filter $maf_filter\n",
    "    --geno_filter $geno_filter\n",
    "    --hwe_filter $hwe_filter\n",
    "    --mind_filter $mind_filter\n",
    "    --minMAC $minMAC\n",
    "    --job_size $lmm_job_size\n",
    "    --ylim $ylim\n",
    "    --reverse_log_p $reverse_log_p\n",
    "    --label_annotate $label_annotate\n",
    "    --numThreads $numThreads\n",
    "    --container_lmm $container_lmm\n",
    "    --container_marp $container_marp\n",
    "\"\"\"\n",
    "\n",
    "sos run ~/project/UKBB_GWAS_dev/admin/Get_Job_Script.ipynb csg\\\n",
    "    --template-file $tpl_file \\\n",
    "    --workflow-file $lmm_sos \\\n",
    "    --to-script $lmm_sbatch_regenie \\\n",
    "    --args \"$lmm_args\" "
   ]
  },
  {
   "cell_type": "markdown",
   "id": "3c9fa45a-37d7-4dfb-b4ec-f85017462105",
   "metadata": {
    "kernel": "Bash"
   },
   "source": [
    "### DBP"
   ]
  },
  {
   "cell_type": "code",
   "execution_count": 6,
   "id": "6a308261-a281-43de-b906-ea92cc900e82",
   "metadata": {
    "kernel": "Bash"
   },
   "outputs": [
    {
     "name": "stdout",
     "output_type": "stream",
     "text": [
      "INFO: Running \u001b[32mcsg\u001b[0m: Configuration for Columbia csg partition cluster\n",
      "INFO: \u001b[32mcsg\u001b[0m is \u001b[32mcompleted\u001b[0m.\n",
      "INFO: \u001b[32mcsg\u001b[0m output:   \u001b[32m/home/dmc2245/pleiotropy/LMM/diastolicBP_200k_exomes-regenie_extwhite_2022-02-17.sbatch\u001b[0m\n",
      "INFO: Workflow csg (ID=w72fc077e0d9b345f) is executed successfully with 1 completed step.\n",
      "\n"
     ]
    }
   ],
   "source": [
    "## All filters set to 0 because the version of the bfile has already been QC'ed previously and there is not need to do it here\n",
    "maf_filter=0\n",
    "geno_filter=0\n",
    "hwe_filter=0\n",
    "mind_filter=0\n",
    "lmm_dir_regenie=~/UKBiobank/results_pleiotropy/REGENIE_results/results_exome_data/021722_diastolicBP_extwhite/\n",
    "lmm_sbatch_regenie=~/pleiotropy/LMM/diastolicBP_200k_exomes-regenie_extwhite_$(date +\"%Y-%m-%d\").sbatch\n",
    "phenoFile=~/UKBiobank/phenotype_files/pleiotropy/UKB_exome_white_bloodpressure_invnorm_pcs_new\n",
    "phenoCol=diastolic_plus10inmedicated_inverserank\n",
    "covarCol=sex\n",
    "qCovarCol='age Alcohol1 Alcohol2 Alcohol3 Alcohol4 smoking1 smoking2 DBP_PC1 DBP_PC2 DBP_PC3 DBP_PC4 DBP_PC5 DBP_PC6 DBP_PC7 DBP_PC8 DBP_PC9 DBP_PC10' \n",
    "# Use the QC'ed exome files variant and sample missingness < 10%\n",
    "genoFile=`echo ~/UKBiobank/data/exome_files/project_VCF/072721_run/plink/ukb23156_c{1..22}.merged.filtered.bed`\n",
    "#Use the original bed files that passed QC using Megan's parameters geno=0.01, mind=0.1, maf=0.01, hwe=5e-08\n",
    "bfile=~/UKBiobank/genotype_files_processed/010622_exp_white_finalqc/cache/*.bed\n",
    "tpl_file=~/project/bioworkflows/admin/csg.yml\n",
    "lmm_sos=~/project/bioworkflows/GWAS/LMM.ipynb\n",
    "container_marp=~/containers/marp.sif\n",
    "container_lmm=~/containers/lmm.sif \n",
    "lmm_job_size=1\n",
    "ylim=0\n",
    "reverse_log_p=True\n",
    "numThreads=20\n",
    "formatFile_regenie=~/project/UKBB_GWAS_dev/data/regenie_template.yml\n",
    "bsize=1000\n",
    "trait=\n",
    "minMAC=5\n",
    "label_annotate='SNP'\n",
    "\n",
    "## After doing the annotation you can create the annotatted manhatan plot\n",
    "#anno_file=$lmm_exome_dir_regenie/090921_f3393_hearing_aid_200K/091321_annotation/*.formatted.csv\n",
    "#label_annotate=Gene\n",
    "#known_vars=\n",
    "#new_vars=\n",
    "# If --annotate then it will add the label to the plot otherwise --no-annotate\n",
    "\n",
    "lmm_args=\"\"\"regenie\n",
    "    --cwd $lmm_dir_regenie \n",
    "    --bfile $bfile \n",
    "    --genoFile $genoFile\n",
    "    --phenoFile $phenoFile \n",
    "    --formatFile $formatFile_regenie \n",
    "    --phenoCol $phenoCol\n",
    "    --covarCol $covarCol  \n",
    "    --qCovarCol $qCovarCol\n",
    "    --bsize $bsize\n",
    "    --lowmem_dir $lowmem_dir\n",
    "    --trait $trait \n",
    "    --bgenMinMAF $bgenMinMAF \n",
    "    --bgenMinINFO $bgenMinINFO\n",
    "    --maf_filter $maf_filter\n",
    "    --geno_filter $geno_filter\n",
    "    --hwe_filter $hwe_filter\n",
    "    --mind_filter $mind_filter\n",
    "    --minMAC $minMAC\n",
    "    --job_size $lmm_job_size\n",
    "    --ylim $ylim\n",
    "    --label_annotate $label_annotate\n",
    "    --reverse_log_p $reverse_log_p\n",
    "    --numThreads $numThreads\n",
    "    --container_lmm $container_lmm\n",
    "    --container_marp $container_marp\n",
    "\"\"\"\n",
    "\n",
    "sos run ~/project/UKBB_GWAS_dev/admin/Get_Job_Script.ipynb csg\\\n",
    "    --template-file $tpl_file \\\n",
    "    --workflow-file $lmm_sos \\\n",
    "    --to-script $lmm_sbatch_regenie \\\n",
    "    --args \"$lmm_args\" "
   ]
  },
  {
   "cell_type": "markdown",
   "id": "ab32088e-16a4-4bb6-8290-89f56b9e25fb",
   "metadata": {
    "kernel": "Bash"
   },
   "source": [
    "### Asian SBP RINT"
   ]
  },
  {
   "cell_type": "code",
   "execution_count": 1,
   "id": "5d7b5d72-7ca8-46ef-ba83-91169d0e1312",
   "metadata": {
    "kernel": "Bash"
   },
   "outputs": [
    {
     "name": "stderr",
     "output_type": "stream",
     "text": [
      "/home/dmc2245/miniconda3/lib/python3.8/site-packages/sos_notebook/kernel.py:1334: DeprecationWarning: Kernel._parent_header is deprecated in ipykernel 6. Use .get_parent()\n",
      "  msg['msg_id'] = self._parent_header['header']['msg_id']\n"
     ]
    },
    {
     "name": "stdout",
     "output_type": "stream",
     "text": [
      "INFO: Running \u001b[32mcsg\u001b[0m: Configuration for Columbia csg partition cluster\n",
      "INFO: \u001b[32mcsg\u001b[0m is \u001b[32mcompleted\u001b[0m.\n",
      "INFO: \u001b[32mcsg\u001b[0m output:   \u001b[32m/home/dmc2245/UKBiobank/results_pleiotropy/REGENIE_results/results_exome_data/051222_systolicBP_asian/systolicBP_200k_exomes-regenie_asian_2022-05-12.sbatch\u001b[0m\n",
      "INFO: Workflow csg (ID=wf8f1405badbdfdcd) is executed successfully with 1 completed step.\n",
      "\n"
     ]
    }
   ],
   "source": [
    "## All filters set to 0 because the version of the bfile has already been QC'ed previously and there is not need to do it here\n",
    "maf_filter=0\n",
    "geno_filter=0\n",
    "hwe_filter=0\n",
    "mind_filter=0\n",
    "lmm_dir_regenie=~/UKBiobank/results_pleiotropy/REGENIE_results/results_exome_data/051222_systolicBP_asian/\n",
    "lmm_sbatch_regenie=~/UKBiobank/results_pleiotropy/REGENIE_results/results_exome_data/051222_systolicBP_asian/systolicBP_200k_exomes-regenie_asian_$(date +\"%Y-%m-%d\").sbatch\n",
    "phenoFile=~/UKBiobank/phenotype_files/pleiotropy/UKB_exome_Asian_bloodpressure_invnorm_pcs\n",
    "phenoCol=systolic_plus15inmedicated_inverserank\n",
    "covarCol=sex\n",
    "qCovarCol=`echo age Alcohol{1..4} smoking{1..2} SBP_PC{1..10}`\n",
    "# Use the QC'ed exome files variant and sample missingness < 10%\n",
    "genoFile=`echo ~/UKBiobank/data/exome_files/project_VCF/072721_run/plink/ukb23156_c{1..22}.merged.filtered.bed`\n",
    "#Use the original bed files that passed QC using Megan's parameters geno=0.01, mind=0.1, maf=0.01, hwe=5e-08\n",
    "bfile=~/UKBiobank/genotype_files_processed/021722_asian_finalqc_10157samples_444076variants/cache/*.bed\n",
    "tpl_file=~/project/bioworkflows/admin/csg.yml\n",
    "lmm_sos=~/project/bioworkflows/GWAS/LMM.ipynb\n",
    "container_marp=~/containers/marp.sif\n",
    "container_lmm=~/containers/lmm.sif \n",
    "lmm_job_size=1\n",
    "ylim=0\n",
    "reverse_log_p=True\n",
    "numThreads=20\n",
    "formatFile_regenie=~/project/UKBB_GWAS_dev/data/regenie_template.yml\n",
    "bsize=1000\n",
    "trait=\n",
    "## Using this MAC the default in regenie analysis\n",
    "minMAC=5\n",
    "label_annotate='SNP'\n",
    "\n",
    "## After doing the annotation you can create the annotatted manhatan plot\n",
    "#anno_file=$lmm_exome_dir_regenie/090921_f3393_hearing_aid_200K/091321_annotation/*.formatted.csv\n",
    "#label_annotate=Gene\n",
    "#known_vars=\n",
    "#new_vars=\n",
    "# If --annotate then it will add the label to the plot otherwise --no-annotate\n",
    "\n",
    "lmm_args=\"\"\"regenie\n",
    "    --cwd $lmm_dir_regenie \n",
    "    --bfile $bfile \n",
    "    --genoFile $genoFile\n",
    "    --phenoFile $phenoFile \n",
    "    --formatFile $formatFile_regenie \n",
    "    --phenoCol $phenoCol\n",
    "    --covarCol $covarCol  \n",
    "    --qCovarCol $qCovarCol\n",
    "    --bsize $bsize\n",
    "    --lowmem_dir $lowmem_dir\n",
    "    --trait $trait \n",
    "    --bgenMinMAF $bgenMinMAF \n",
    "    --bgenMinINFO $bgenMinINFO\n",
    "    --maf_filter $maf_filter\n",
    "    --geno_filter $geno_filter\n",
    "    --hwe_filter $hwe_filter\n",
    "    --mind_filter $mind_filter\n",
    "    --minMAC $minMAC\n",
    "    --job_size $lmm_job_size\n",
    "    --ylim $ylim\n",
    "    --reverse_log_p $reverse_log_p\n",
    "    --label_annotate $label_annotate\n",
    "    --numThreads $numThreads\n",
    "    --container_lmm $container_lmm\n",
    "    --container_marp $container_marp\n",
    "\"\"\"\n",
    "\n",
    "sos run ~/project/UKBB_GWAS_dev/admin/Get_Job_Script.ipynb csg\\\n",
    "    --template-file $tpl_file \\\n",
    "    --workflow-file $lmm_sos \\\n",
    "    --to-script $lmm_sbatch_regenie \\\n",
    "    --args \"$lmm_args\" "
   ]
  },
  {
   "cell_type": "markdown",
   "id": "4f35b6c6-0467-442d-8782-e38eb61d6399",
   "metadata": {
    "kernel": "Bash"
   },
   "source": [
    "### Asian DBP RINT"
   ]
  },
  {
   "cell_type": "code",
   "execution_count": 2,
   "id": "6b646f36-96bb-4f8e-bc30-0ebf565aebcb",
   "metadata": {
    "kernel": "Bash"
   },
   "outputs": [
    {
     "name": "stdout",
     "output_type": "stream",
     "text": [
      "INFO: Running \u001b[32mcsg\u001b[0m: Configuration for Columbia csg partition cluster\n",
      "INFO: \u001b[32mcsg\u001b[0m is \u001b[32mcompleted\u001b[0m.\n",
      "INFO: \u001b[32mcsg\u001b[0m output:   \u001b[32m/home/dmc2245/UKBiobank/results_pleiotropy/REGENIE_results/results_exome_data/051222_diastolicBP_asian/diastolicBP_200k_exomes-regenie_asian_2022-05-12.sbatch\u001b[0m\n",
      "INFO: Workflow csg (ID=wc0c63a14ea09a39e) is executed successfully with 1 completed step.\n",
      "\n"
     ]
    }
   ],
   "source": [
    "## All filters set to 0 because the version of the bfile has already been QC'ed previously and there is not need to do it here\n",
    "maf_filter=0\n",
    "geno_filter=0\n",
    "hwe_filter=0\n",
    "mind_filter=0\n",
    "lmm_dir_regenie=~/UKBiobank/results_pleiotropy/REGENIE_results/results_exome_data/051222_diastolicBP_asian/\n",
    "lmm_sbatch_regenie=~/UKBiobank/results_pleiotropy/REGENIE_results/results_exome_data/051222_diastolicBP_asian/diastolicBP_200k_exomes-regenie_asian_$(date +\"%Y-%m-%d\").sbatch\n",
    "phenoFile=~/UKBiobank/phenotype_files/pleiotropy/UKB_exome_Asian_bloodpressure_invnorm_pcs\n",
    "phenoCol=diastolic_plus10inmedicated_inverserank\n",
    "covarCol=sex\n",
    "qCovarCol=`echo age Alcohol{1..4} smoking{1..2} DBP_PC{1..10}`\n",
    "# Use the QC'ed exome files variant and sample missingness < 10%\n",
    "genoFile=`echo ~/UKBiobank/data/exome_files/project_VCF/072721_run/plink/ukb23156_c{1..22}.merged.filtered.bed`\n",
    "#Use the original bed files that passed QC using Megan's parameters geno=0.01, mind=0.1, maf=0.01, hwe=5e-08\n",
    "bfile=~/UKBiobank/genotype_files_processed/021722_asian_finalqc_10157samples_444076variants/cache/*.bed\n",
    "tpl_file=~/project/bioworkflows/admin/csg.yml\n",
    "lmm_sos=~/project/bioworkflows/GWAS/LMM.ipynb\n",
    "container_marp=~/containers/marp.sif\n",
    "container_lmm=~/containers/lmm.sif \n",
    "lmm_job_size=1\n",
    "ylim=0\n",
    "reverse_log_p=True\n",
    "numThreads=20\n",
    "formatFile_regenie=~/project/UKBB_GWAS_dev/data/regenie_template.yml\n",
    "bsize=1000\n",
    "trait=\n",
    "## Using this MAC the default in regenie analysis\n",
    "minMAC=5\n",
    "label_annotate='SNP'\n",
    "\n",
    "## After doing the annotation you can create the annotatted manhatan plot\n",
    "#anno_file=$lmm_exome_dir_regenie/090921_f3393_hearing_aid_200K/091321_annotation/*.formatted.csv\n",
    "#label_annotate=Gene\n",
    "#known_vars=\n",
    "#new_vars=\n",
    "# If --annotate then it will add the label to the plot otherwise --no-annotate\n",
    "\n",
    "lmm_args=\"\"\"regenie\n",
    "    --cwd $lmm_dir_regenie \n",
    "    --bfile $bfile \n",
    "    --genoFile $genoFile\n",
    "    --phenoFile $phenoFile \n",
    "    --formatFile $formatFile_regenie \n",
    "    --phenoCol $phenoCol\n",
    "    --covarCol $covarCol  \n",
    "    --qCovarCol $qCovarCol\n",
    "    --bsize $bsize\n",
    "    --lowmem_dir $lowmem_dir\n",
    "    --trait $trait \n",
    "    --bgenMinMAF $bgenMinMAF \n",
    "    --bgenMinINFO $bgenMinINFO\n",
    "    --maf_filter $maf_filter\n",
    "    --geno_filter $geno_filter\n",
    "    --hwe_filter $hwe_filter\n",
    "    --mind_filter $mind_filter\n",
    "    --minMAC $minMAC\n",
    "    --job_size $lmm_job_size\n",
    "    --ylim $ylim\n",
    "    --reverse_log_p $reverse_log_p\n",
    "    --label_annotate $label_annotate\n",
    "    --numThreads $numThreads\n",
    "    --container_lmm $container_lmm\n",
    "    --container_marp $container_marp\n",
    "\"\"\"\n",
    "\n",
    "sos run ~/project/UKBB_GWAS_dev/admin/Get_Job_Script.ipynb csg\\\n",
    "    --template-file $tpl_file \\\n",
    "    --workflow-file $lmm_sos \\\n",
    "    --to-script $lmm_sbatch_regenie \\\n",
    "    --args \"$lmm_args\" "
   ]
  },
  {
   "cell_type": "markdown",
   "id": "ed499b04-2f2d-4b5a-87b4-78f1b08e2a8d",
   "metadata": {
    "kernel": "Bash"
   },
   "source": [
    "### African SBP RINT"
   ]
  },
  {
   "cell_type": "code",
   "execution_count": 3,
   "id": "4896a120-15ed-45ec-9b60-138bbc686e7b",
   "metadata": {
    "kernel": "Bash"
   },
   "outputs": [
    {
     "name": "stdout",
     "output_type": "stream",
     "text": [
      "INFO: Running \u001b[32mcsg\u001b[0m: Configuration for Columbia csg partition cluster\n",
      "INFO: \u001b[32mcsg\u001b[0m is \u001b[32mcompleted\u001b[0m.\n",
      "INFO: \u001b[32mcsg\u001b[0m output:   \u001b[32m/home/dmc2245/UKBiobank/results_pleiotropy/REGENIE_results/results_exome_data/051222_systolicBP_african/systolicBP_200k_exomes-regenie_african_2022-05-12.sbatch\u001b[0m\n",
      "INFO: Workflow csg (ID=w138684d664c0da91) is executed successfully with 1 completed step.\n",
      "\n"
     ]
    }
   ],
   "source": [
    "## All filters set to 0 because the version of the bfile has already been QC'ed previously and there is not need to do it here\n",
    "maf_filter=0\n",
    "geno_filter=0\n",
    "hwe_filter=0\n",
    "mind_filter=0\n",
    "lmm_dir_regenie=~/UKBiobank/results_pleiotropy/REGENIE_results/results_exome_data/051222_systolicBP_african/\n",
    "lmm_sbatch_regenie=~/UKBiobank/results_pleiotropy/REGENIE_results/results_exome_data/051222_systolicBP_african/systolicBP_200k_exomes-regenie_african_$(date +\"%Y-%m-%d\").sbatch\n",
    "phenoFile=~/UKBiobank/phenotype_files/pleiotropy/UKB_exome_African_bloodpressure_invnorm_pcs\n",
    "phenoCol=systolic_plus15inmedicated_inverserank\n",
    "covarCol=sex\n",
    "qCovarCol=`echo age Alcohol{1..4} smoking{1..2} SBP_PC{1..10}`\n",
    "# Use the QC'ed exome files variant and sample missingness < 10%\n",
    "genoFile=`echo ~/UKBiobank/data/exome_files/project_VCF/072721_run/plink/ukb23156_c{1..22}.merged.filtered.bed`\n",
    "#Use the original bed files that passed QC using Megan's parameters geno=0.01, mind=0.1, maf=0.01, hwe=5e-08\n",
    "bfile=~/UKBiobank/genotype_files_processed/021722_african_finalqc_8591samples_351690variants/cache/*.bed\n",
    "tpl_file=~/project/bioworkflows/admin/csg.yml\n",
    "lmm_sos=~/project/bioworkflows/GWAS/LMM.ipynb\n",
    "container_marp=~/containers/marp.sif\n",
    "container_lmm=~/containers/lmm.sif \n",
    "lmm_job_size=1\n",
    "ylim=0\n",
    "reverse_log_p=True\n",
    "numThreads=20\n",
    "formatFile_regenie=~/project/UKBB_GWAS_dev/data/regenie_template.yml\n",
    "bsize=1000\n",
    "trait=\n",
    "## Using this MAC the default in regenie analysis\n",
    "minMAC=5\n",
    "label_annotate='SNP'\n",
    "\n",
    "## After doing the annotation you can create the annotatted manhatan plot\n",
    "#anno_file=$lmm_exome_dir_regenie/090921_f3393_hearing_aid_200K/091321_annotation/*.formatted.csv\n",
    "#label_annotate=Gene\n",
    "#known_vars=\n",
    "#new_vars=\n",
    "# If --annotate then it will add the label to the plot otherwise --no-annotate\n",
    "\n",
    "lmm_args=\"\"\"regenie\n",
    "    --cwd $lmm_dir_regenie \n",
    "    --bfile $bfile \n",
    "    --genoFile $genoFile\n",
    "    --phenoFile $phenoFile \n",
    "    --formatFile $formatFile_regenie \n",
    "    --phenoCol $phenoCol\n",
    "    --covarCol $covarCol  \n",
    "    --qCovarCol $qCovarCol\n",
    "    --bsize $bsize\n",
    "    --lowmem_dir $lowmem_dir\n",
    "    --trait $trait \n",
    "    --bgenMinMAF $bgenMinMAF \n",
    "    --bgenMinINFO $bgenMinINFO\n",
    "    --maf_filter $maf_filter\n",
    "    --geno_filter $geno_filter\n",
    "    --hwe_filter $hwe_filter\n",
    "    --mind_filter $mind_filter\n",
    "    --minMAC $minMAC\n",
    "    --job_size $lmm_job_size\n",
    "    --ylim $ylim\n",
    "    --reverse_log_p $reverse_log_p\n",
    "    --label_annotate $label_annotate\n",
    "    --numThreads $numThreads\n",
    "    --container_lmm $container_lmm\n",
    "    --container_marp $container_marp\n",
    "\"\"\"\n",
    "\n",
    "sos run ~/project/UKBB_GWAS_dev/admin/Get_Job_Script.ipynb csg\\\n",
    "    --template-file $tpl_file \\\n",
    "    --workflow-file $lmm_sos \\\n",
    "    --to-script $lmm_sbatch_regenie \\\n",
    "    --args \"$lmm_args\" "
   ]
  },
  {
   "cell_type": "markdown",
   "id": "58ef50fb-7921-4d38-90c3-aea7762ac78c",
   "metadata": {
    "kernel": "Bash"
   },
   "source": [
    "### African DBP RINT"
   ]
  },
  {
   "cell_type": "code",
   "execution_count": 4,
   "id": "c9219b4e-4dc8-4cd7-8c8b-5ab9e205768a",
   "metadata": {
    "kernel": "Bash"
   },
   "outputs": [
    {
     "name": "stdout",
     "output_type": "stream",
     "text": [
      "INFO: Running \u001b[32mcsg\u001b[0m: Configuration for Columbia csg partition cluster\n",
      "INFO: \u001b[32mcsg\u001b[0m is \u001b[32mcompleted\u001b[0m.\n",
      "INFO: \u001b[32mcsg\u001b[0m output:   \u001b[32m/home/dmc2245/UKBiobank/results_pleiotropy/REGENIE_results/results_exome_data/051222_diastolicBP_african/diastolicBP_200k_exomes-regenie_african_2022-05-12.sbatch\u001b[0m\n",
      "INFO: Workflow csg (ID=w009464eb0ae3a6eb) is executed successfully with 1 completed step.\n",
      "\n"
     ]
    }
   ],
   "source": [
    "## All filters set to 0 because the version of the bfile has already been QC'ed previously and there is not need to do it here\n",
    "maf_filter=0\n",
    "geno_filter=0\n",
    "hwe_filter=0\n",
    "mind_filter=0\n",
    "lmm_dir_regenie=~/UKBiobank/results_pleiotropy/REGENIE_results/results_exome_data/051222_diastolicBP_african/\n",
    "lmm_sbatch_regenie=~/UKBiobank/results_pleiotropy/REGENIE_results/results_exome_data/051222_diastolicBP_african/diastolicBP_200k_exomes-regenie_african_$(date +\"%Y-%m-%d\").sbatch\n",
    "phenoFile=~/UKBiobank/phenotype_files/pleiotropy/UKB_exome_African_bloodpressure_invnorm_pcs\n",
    "phenoCol=diastolic_plus10inmedicated_inverserank\n",
    "covarCol=sex\n",
    "qCovarCol=`echo age Alcohol{1..4} smoking{1..2} DBP_PC{1..10}`\n",
    "# Use the QC'ed exome files variant and sample missingness < 10%\n",
    "genoFile=`echo ~/UKBiobank/data/exome_files/project_VCF/072721_run/plink/ukb23156_c{1..22}.merged.filtered.bed`\n",
    "#Use the original bed files that passed QC using Megan's parameters geno=0.01, mind=0.1, maf=0.01, hwe=5e-08\n",
    "bfile=~/UKBiobank/genotype_files_processed/021722_african_finalqc_8591samples_351690variants/cache/*.bed\n",
    "tpl_file=~/project/bioworkflows/admin/csg.yml\n",
    "lmm_sos=~/project/bioworkflows/GWAS/LMM.ipynb\n",
    "container_marp=~/containers/marp.sif\n",
    "container_lmm=~/containers/lmm.sif \n",
    "lmm_job_size=1\n",
    "ylim=0\n",
    "reverse_log_p=True\n",
    "numThreads=20\n",
    "formatFile_regenie=~/project/UKBB_GWAS_dev/data/regenie_template.yml\n",
    "bsize=1000\n",
    "trait=\n",
    "## Using this MAC the default in regenie analysis\n",
    "minMAC=5\n",
    "label_annotate='SNP'\n",
    "\n",
    "## After doing the annotation you can create the annotatted manhatan plot\n",
    "#anno_file=$lmm_exome_dir_regenie/090921_f3393_hearing_aid_200K/091321_annotation/*.formatted.csv\n",
    "#label_annotate=Gene\n",
    "#known_vars=\n",
    "#new_vars=\n",
    "# If --annotate then it will add the label to the plot otherwise --no-annotate\n",
    "\n",
    "lmm_args=\"\"\"regenie\n",
    "    --cwd $lmm_dir_regenie \n",
    "    --bfile $bfile \n",
    "    --genoFile $genoFile\n",
    "    --phenoFile $phenoFile \n",
    "    --formatFile $formatFile_regenie \n",
    "    --phenoCol $phenoCol\n",
    "    --covarCol $covarCol  \n",
    "    --qCovarCol $qCovarCol\n",
    "    --bsize $bsize\n",
    "    --lowmem_dir $lowmem_dir\n",
    "    --trait $trait \n",
    "    --bgenMinMAF $bgenMinMAF \n",
    "    --bgenMinINFO $bgenMinINFO\n",
    "    --maf_filter $maf_filter\n",
    "    --geno_filter $geno_filter\n",
    "    --hwe_filter $hwe_filter\n",
    "    --mind_filter $mind_filter\n",
    "    --minMAC $minMAC\n",
    "    --job_size $lmm_job_size\n",
    "    --ylim $ylim\n",
    "    --reverse_log_p $reverse_log_p\n",
    "    --label_annotate $label_annotate\n",
    "    --numThreads $numThreads\n",
    "    --container_lmm $container_lmm\n",
    "    --container_marp $container_marp\n",
    "\"\"\"\n",
    "\n",
    "sos run ~/project/UKBB_GWAS_dev/admin/Get_Job_Script.ipynb csg\\\n",
    "    --template-file $tpl_file \\\n",
    "    --workflow-file $lmm_sos \\\n",
    "    --to-script $lmm_sbatch_regenie \\\n",
    "    --args \"$lmm_args\" "
   ]
  },
  {
   "cell_type": "markdown",
   "id": "a43ba973-54cd-4279-bf1f-3b0930e593a6",
   "metadata": {
    "kernel": "Bash"
   },
   "source": [
    "## 02-17-22 ASIAN burden analysis\n",
    "\n",
    "The final bed file consist of this number of samples and variants\n",
    "\n",
    "* Variants:444076\n",
    "* Samples: 10157"
   ]
  },
  {
   "cell_type": "markdown",
   "id": "50f5e345-ebe2-42fc-b50c-9ec21527496c",
   "metadata": {
    "kernel": "Bash"
   },
   "source": [
    "### Generation of the final bed file that is QC'ed and outiers have been removed"
   ]
  },
  {
   "cell_type": "code",
   "execution_count": 2,
   "id": "c840ec7f-4086-4487-bfd4-96a7450dba6f",
   "metadata": {
    "kernel": "Bash"
   },
   "outputs": [
    {
     "name": "stdout",
     "output_type": "stream",
     "text": [
      "INFO: Running \u001b[32mcsg\u001b[0m: Configuration for Columbia csg partition cluster\n",
      "INFO: \u001b[32mcsg\u001b[0m is \u001b[32mcompleted\u001b[0m.\n",
      "INFO: \u001b[32mcsg\u001b[0m output:   \u001b[32m/home/dmc2245/pleiotropy/LMM/asian_final_qc_2022-02-17.sbatch\u001b[0m\n",
      "INFO: Workflow csg (ID=w6e4a7b68b24be629) is executed successfully with 1 completed step.\n",
      "\n"
     ]
    }
   ],
   "source": [
    "#Columbia's cluster\n",
    "cwd=~/UKBiobank/genotype_files_processed/021722_asian_finalqc_10157samples_444076variants\n",
    "# Original bfile containing all of the samples Columbias's cluster\n",
    "genoFile=~/UKBiobank_Yale_transfer/pleiotropy_geneticfiles/UKB_originalgenotypefilesdownloaded083019/UKB_genotypedatadownloaded083019.bed\n",
    "#To keep the samples of white individuals only\n",
    "keep_samples=~/UKBiobank/genotype_files_processed/010622_asian_10189ind/UKB_genotypedatadownloaded083019.010722_sample_var_final_qc.filtered.extracted_ASIAN.id\n",
    "keep_variants=~/UKBiobank/genotype_files_processed/010622_asian_10189ind/UKB_genotypedatadownloaded083019.010722_sample_var_final_qc.filtered.extracted_ASIAN.snplist\n",
    "tpl_file=~/project/bioworkflows/admin/csg.yml\n",
    "maf_filter=0\n",
    "geno_filter=0\n",
    "hwe_filter=0\n",
    "mind_filter=0\n",
    "mem='30G'\n",
    "\n",
    "gwasqc_sos=~/UKBB_GWAS_dev/bioworkflows/GWAS/GWAS_QC.ipynb\n",
    "gwasqc_sbatch=~/pleiotropy/LMM/asian_final_qc_$(date +\"%Y-%m-%d\").sbatch\n",
    "\n",
    "gwasqc1_args=\"\"\"qc:1\n",
    "    --cwd $cwd\n",
    "    --genoFile $genoFile\n",
    "    --keep_samples $keep_samples\n",
    "    --keep_variants $keep_variants\n",
    "    --maf_filter $maf_filter\n",
    "    --geno_filter $geno_filter\n",
    "    --hwe_filter $hwe_filter\n",
    "    --mind_filter $mind_filter\n",
    "    --numThreads $numThreads \n",
    "    --job_size $job_size\n",
    "    --container_lmm $container_lmm\n",
    "    --mem $mem\n",
    "\"\"\"\n",
    "\n",
    "sos run ~/project/UKBB_GWAS_dev/admin/Get_Job_Script.ipynb csg \\\n",
    "    --template-file $tpl_file \\\n",
    "    --workflow-file $gwasqc_sos \\\n",
    "    --to-script $gwasqc_sbatch \\\n",
    "    --args \"$gwasqc1_args\""
   ]
  },
  {
   "cell_type": "markdown",
   "id": "f32861a6-c160-42c9-b207-f306225ab0bd",
   "metadata": {
    "kernel": "Bash"
   },
   "source": [
    "### Systolic BP"
   ]
  },
  {
   "cell_type": "code",
   "execution_count": 3,
   "id": "e868f12f-2136-419e-90b4-17673286406c",
   "metadata": {
    "kernel": "Bash"
   },
   "outputs": [
    {
     "name": "stdout",
     "output_type": "stream",
     "text": [
      "INFO: Running \u001b[32mcsg\u001b[0m: Configuration for Columbia csg partition cluster\n",
      "INFO: \u001b[32mcsg\u001b[0m is \u001b[32mcompleted\u001b[0m.\n",
      "INFO: \u001b[32mcsg\u001b[0m output:   \u001b[32m/home/dmc2245/pleiotropy/LMM/systolicBP_200k_exomes-regenie-burden_asian2022-02-17.sbatch\u001b[0m\n",
      "INFO: Workflow csg (ID=w9274a47cc1a187b1) is executed successfully with 1 completed step.\n",
      "\n"
     ]
    }
   ],
   "source": [
    "lmm_dir_regenie=~/UKBiobank/results_pleiotropy/REGENIE_results/results_burden_exome/021622_systolicBP_asian\n",
    "lmm_sbatch_regenie=~/pleiotropy/LMM/systolicBP_200k_exomes-regenie-burden_asian$(date +\"%Y-%m-%d\").sbatch\n",
    "phenoFile=~/UKBiobank/phenotype_files/pleiotropy/UKB_exome_Asian_bloodpressure_invnorm_pcs\n",
    "covarFile=~/UKBiobank/phenotype_files/pleiotropy/UKB_exome_Asian_bloodpressure_invnorm_pcs\n",
    "phenoCol=systolic_plus15inmedicated_inverserank\n",
    "covarCol=sex\n",
    "qCovarCol='age Alcohol1 Alcohol2 Alcohol3 Alcohol4 smoking1 smoking2 SBP_PC1 SBP_PC2 SBP_PC3 SBP_PC4 SBP_PC5 SBP_PC6 SBP_PC7 SBP_PC8 SBP_PC9 SBP_PC10' \n",
    "genoFile=`echo ~/UKBiobank/data/exome_files/project_VCF/072721_run/plink/ukb23156_c{1..22}.merged.filtered.bed`\n",
    "bfile=~/UKBiobank/genotype_files_processed/021722_asian_finalqc_10157samples_444076variants/cache/*.bed\n",
    "anno_file=~/UKBiobank/results_pleiotropy/REGENIE_results/results_burden_exome/102121_burden_files/ukb23155_chr1_chr22_091321.hg38.hg38_multianno.renamedcols.csv.anno_file\n",
    "set_list=~/UKBiobank/results_pleiotropy/REGENIE_results/results_burden_exome/102121_burden_files/ukb23155_chr1_chr22_091321.hg38.hg38_multianno.renamedcols.csv.set_list_file\n",
    "mask_file=~/UKBiobank/results_pleiotropy/REGENIE_results/results_burden_exome/102121_burden_files/ukb23155_chr1_chr22_091321.hg38.hg38_multianno.renamedcols.csv.mask_file\n",
    "aaf_file=~/UKBiobank/results_pleiotropy/REGENIE_results/results_burden_exome/102121_burden_files/ukb23155_chr1_chr22_091321.hg38.hg38_multianno.renamedcols.csv.aff_file\n",
    "build_mask=max\n",
    "aaf_bins='0.005 0.01'\n",
    "tpl_file=~/project/bioworkflows/admin/csg.yml\n",
    "lmm_sos=~/project/bioworkflows/GWAS/LMM.ipynb\n",
    "container_marp=~/containers/marp.sif\n",
    "container_lmm=~/containers/lmm.sif \n",
    "lmm_job_size=1\n",
    "ylim=0\n",
    "k=10\n",
    "reverse_log_p=True\n",
    "numThreads=20\n",
    "formatFile_regenie=~/project/UKBB_GWAS_dev/data/regenie_template.yml\n",
    "bsize=1000\n",
    "## Trait leave empty for qt traits\n",
    "trait=\n",
    "minMAC=1\n",
    "snpannofile=~/UKBiobank/results/ukb23155_200Kexomes_annovar/2021_10_12_hg38_exome/ukb23155_chr1_chr22_091321.hg38.hg38_multianno.renamedcols.csv.gz\n",
    "\n",
    "lmm_args=\"\"\"regenie_burden\n",
    "    --cwd $lmm_dir_regenie \n",
    "    --bfile $bfile \n",
    "    --genoFile $genoFile\n",
    "    --phenoFile $phenoFile \n",
    "    --formatFile $formatFile_regenie \n",
    "    --phenoCol $phenoCol\n",
    "    --covarCol $covarCol  \n",
    "    --qCovarCol $qCovarCol\n",
    "    --bsize $bsize\n",
    "    --trait $trait\n",
    "    --anno_file $anno_file\n",
    "    --set_list $set_list\n",
    "    --mask_file $mask_file\n",
    "    --aaf_file $aaf_file\n",
    "    --aaf_bins $aaf_bins\n",
    "    --build_mask $build_mask\n",
    "    --job_size $lmm_job_size\n",
    "    --ylim $ylim\n",
    "    --k $k\n",
    "    --reverse_log_p $reverse_log_p\n",
    "    --numThreads $numThreads\n",
    "    --minMAC $minMAC\n",
    "    --snpannofile $snpannofile\n",
    "    --container_lmm $container_lmm\n",
    "    --container_marp $container_marp\n",
    "\"\"\"\n",
    "\n",
    "sos run ~/project/UKBB_GWAS_dev/admin/Get_Job_Script.ipynb csg \\\n",
    "    --template-file $tpl_file \\\n",
    "    --workflow-file $lmm_sos \\\n",
    "    --to-script $lmm_sbatch_regenie \\\n",
    "    --args \"$lmm_args\""
   ]
  },
  {
   "cell_type": "markdown",
   "id": "1b9233f3-8771-4242-af28-8a8cd3454403",
   "metadata": {
    "kernel": "Bash"
   },
   "source": [
    "### Diastolic BP"
   ]
  },
  {
   "cell_type": "code",
   "execution_count": 4,
   "id": "bdb8abf9-13f4-4d0e-9444-1512d0390a87",
   "metadata": {
    "kernel": "Bash"
   },
   "outputs": [
    {
     "name": "stdout",
     "output_type": "stream",
     "text": [
      "INFO: Running \u001b[32mcsg\u001b[0m: Configuration for Columbia csg partition cluster\n",
      "INFO: \u001b[32mcsg\u001b[0m is \u001b[32mcompleted\u001b[0m.\n",
      "INFO: \u001b[32mcsg\u001b[0m output:   \u001b[32m/home/dmc2245/pleiotropy/LMM/diastolicBP_200k_exomes-regenie-burden_asian_2022-02-17.sbatch\u001b[0m\n",
      "INFO: Workflow csg (ID=wa14c29a01f502d99) is executed successfully with 1 completed step.\n",
      "\n"
     ]
    }
   ],
   "source": [
    "lmm_dir_regenie=~/UKBiobank/results_pleiotropy/REGENIE_results/results_burden_exome/021622_diastolicBP_asian\n",
    "lmm_sbatch_regenie=~/pleiotropy/LMM/diastolicBP_200k_exomes-regenie-burden_asian_$(date +\"%Y-%m-%d\").sbatch\n",
    "phenoFile=~/UKBiobank/phenotype_files/pleiotropy/UKB_exome_Asian_bloodpressure_invnorm_pcs\n",
    "covarFile=~/UKBiobank/phenotype_files/pleiotropy/UKB_exome_Asian_bloodpressure_invnorm_pcs\n",
    "phenoCol=diastolic_plus10inmedicated_inverserank\n",
    "covarCol=sex\n",
    "qCovarCol='age Alcohol1 Alcohol2 Alcohol3 Alcohol4 smoking1 smoking2 DBP_PC1 DBP_PC2 DBP_PC3 DBP_PC4 DBP_PC5 DBP_PC6 DBP_PC7 DBP_PC8 DBP_PC9 DBP_PC10' \n",
    "genoFile=`echo ~/UKBiobank/data/exome_files/project_VCF/072721_run/plink/ukb23156_c{1..22}.merged.filtered.bed`\n",
    "bfile=~/UKBiobank/genotype_files_processed/021722_asian_finalqc_10157samples_444076variants/cache/*.bed\n",
    "anno_file=~/UKBiobank/results_pleiotropy/REGENIE_results/results_burden_exome/102121_burden_files/ukb23155_chr1_chr22_091321.hg38.hg38_multianno.renamedcols.csv.anno_file\n",
    "set_list=~/UKBiobank/results_pleiotropy/REGENIE_results/results_burden_exome/102121_burden_files/ukb23155_chr1_chr22_091321.hg38.hg38_multianno.renamedcols.csv.set_list_file\n",
    "mask_file=~/UKBiobank/results_pleiotropy/REGENIE_results/results_burden_exome/102121_burden_files/ukb23155_chr1_chr22_091321.hg38.hg38_multianno.renamedcols.csv.mask_file\n",
    "aaf_file=~/UKBiobank/results_pleiotropy/REGENIE_results/results_burden_exome/102121_burden_files/ukb23155_chr1_chr22_091321.hg38.hg38_multianno.renamedcols.csv.aff_file\n",
    "build_mask=max\n",
    "aaf_bins='0.005 0.01'\n",
    "tpl_file=~/project/bioworkflows/admin/csg.yml\n",
    "lmm_sos=~/project/bioworkflows/GWAS/LMM.ipynb\n",
    "container_marp=~/containers/marp.sif\n",
    "container_lmm=~/containers/lmm.sif \n",
    "lmm_job_size=1\n",
    "ylim=0\n",
    "k=10\n",
    "reverse_log_p=True\n",
    "numThreads=20\n",
    "formatFile_regenie=~/project/UKBB_GWAS_dev/data/regenie_template.yml\n",
    "bsize=1000\n",
    "trait=\n",
    "minMAC=1\n",
    "snpannofile=~/UKBiobank/results/ukb23155_200Kexomes_annovar/2021_10_12_hg38_exome/ukb23155_chr1_chr22_091321.hg38.hg38_multianno.renamedcols.csv.gz\n",
    "\n",
    "lmm_args=\"\"\"regenie_burden\n",
    "    --cwd $lmm_dir_regenie \n",
    "    --bfile $bfile \n",
    "    --genoFile $genoFile\n",
    "    --phenoFile $phenoFile \n",
    "    --formatFile $formatFile_regenie \n",
    "    --phenoCol $phenoCol\n",
    "    --covarCol $covarCol  \n",
    "    --qCovarCol $qCovarCol\n",
    "    --bsize $bsize\n",
    "    --trait $trait\n",
    "    --anno_file $anno_file\n",
    "    --set_list $set_list\n",
    "    --mask_file $mask_file\n",
    "    --aaf_file $aaf_file\n",
    "    --aaf_bins $aaf_bins\n",
    "    --build_mask $build_mask\n",
    "    --job_size $lmm_job_size\n",
    "    --ylim $ylim\n",
    "    --k $k\n",
    "    --reverse_log_p $reverse_log_p\n",
    "    --numThreads $numThreads\n",
    "    --minMAC $minMAC\n",
    "    --snpannofile $snpannofile\n",
    "    --container_lmm $container_lmm\n",
    "    --container_marp $container_marp\n",
    "\"\"\"\n",
    "\n",
    "sos run ~/project/UKBB_GWAS_dev/admin/Get_Job_Script.ipynb csg \\\n",
    "    --template-file $tpl_file \\\n",
    "    --workflow-file $lmm_sos \\\n",
    "    --to-script $lmm_sbatch_regenie \\\n",
    "    --args \"$lmm_args\""
   ]
  },
  {
   "cell_type": "markdown",
   "id": "01bb511f-b14f-46e2-853b-ee6e059ef622",
   "metadata": {
    "kernel": "Bash"
   },
   "source": [
    "# AFRICAN burden analysis"
   ]
  },
  {
   "cell_type": "markdown",
   "id": "90e0ed55-311d-470c-9f20-ad0b4b347c0c",
   "metadata": {
    "kernel": "Bash"
   },
   "source": [
    "### Generation of the final bed file that is QC'ed and outliers have been removed"
   ]
  },
  {
   "cell_type": "code",
   "execution_count": 2,
   "id": "4d0f5704-f562-4dca-a2e0-a20e0d9ba7ba",
   "metadata": {
    "kernel": "Bash"
   },
   "outputs": [
    {
     "name": "stdout",
     "output_type": "stream",
     "text": [
      "INFO: Running \u001b[32mcsg\u001b[0m: Configuration for Columbia csg partition cluster\n",
      "INFO: \u001b[32mcsg\u001b[0m is \u001b[32mcompleted\u001b[0m.\n",
      "INFO: \u001b[32mcsg\u001b[0m output:   \u001b[32m/home/dmc2245/pleiotropy/LMM/african_final_qc_2022-02-18.sbatch\u001b[0m\n",
      "INFO: Workflow csg (ID=wdbb9ef0ed5ed88c9) is executed successfully with 1 completed step.\n",
      "\n"
     ]
    }
   ],
   "source": [
    "#Columbia's cluster\n",
    "cwd=~/UKBiobank/genotype_files_processed/021722_african_finalqc_8591samples_351690variants\n",
    "# Original bfile containing all of the samples Columbias's cluster\n",
    "genoFile=~/UKBiobank_Yale_transfer/pleiotropy_geneticfiles/UKB_originalgenotypefilesdownloaded083019/UKB_genotypedatadownloaded083019.bed\n",
    "#To keep the samples of white individuals only\n",
    "keep_samples=~/UKBiobank/genotype_files_processed/010622_african_9096ind/UKB_genotypedatadownloaded083019.010722_sample_var_final_qc.filtered.extracted.id\n",
    "keep_variants=~/UKBiobank/genotype_files_processed/010622_african_9096ind/UKB_genotypedatadownloaded083019.010722_sample_var_final_qc.filtered.extracted.snplist\n",
    "tpl_file=~/project/bioworkflows/admin/csg.yml\n",
    "maf_filter=0\n",
    "geno_filter=0\n",
    "hwe_filter=0\n",
    "mind_filter=0\n",
    "mem='20G'\n",
    "job_size=1\n",
    "numThreads=8\n",
    "gwasqc_sos=~/project/bioworkflows/GWAS/GWAS_QC.ipynb\n",
    "gwasqc_sbatch=~/pleiotropy/LMM/african_final_qc_$(date +\"%Y-%m-%d\").sbatch\n",
    "container_lmm=~/containers/lmm.sif \n",
    "\n",
    "gwasqc1_args=\"\"\"qc:1\n",
    "    --cwd $cwd\n",
    "    --genoFile $genoFile\n",
    "    --keep_samples $keep_samples\n",
    "    --keep_variants $keep_variants\n",
    "    --maf_filter $maf_filter\n",
    "    --geno_filter $geno_filter\n",
    "    --hwe_filter $hwe_filter\n",
    "    --mind_filter $mind_filter\n",
    "    --numThreads $numThreads \n",
    "    --job_size $job_size\n",
    "    --container_lmm $container_lmm\n",
    "    --mem $mem\n",
    "\"\"\"\n",
    "\n",
    "sos run ~/project/UKBB_GWAS_dev/admin/Get_Job_Script.ipynb csg \\\n",
    "    --template-file $tpl_file \\\n",
    "    --workflow-file $gwasqc_sos \\\n",
    "    --to-script $gwasqc_sbatch \\\n",
    "    --args \"$gwasqc1_args\""
   ]
  },
  {
   "cell_type": "markdown",
   "id": "19f6a5d9-3a6e-4564-a094-cb5d516d51f0",
   "metadata": {
    "kernel": "Bash"
   },
   "source": [
    "### Systolic BP"
   ]
  },
  {
   "cell_type": "code",
   "execution_count": 3,
   "id": "fc97ba35-3f84-41f9-8fdf-a24c2c00e7c4",
   "metadata": {
    "kernel": "Bash"
   },
   "outputs": [
    {
     "name": "stdout",
     "output_type": "stream",
     "text": [
      "INFO: Running \u001b[32mcsg\u001b[0m: Configuration for Columbia csg partition cluster\n",
      "INFO: \u001b[32mcsg\u001b[0m is \u001b[32mcompleted\u001b[0m.\n",
      "INFO: \u001b[32mcsg\u001b[0m output:   \u001b[32m/home/dmc2245/pleiotropy/LMM/systolicBP_200k_exomes-regenie-burden_african_2022-02-22.sbatch\u001b[0m\n",
      "INFO: Workflow csg (ID=wd745d0e7a1f4c5c9) is executed successfully with 1 completed step.\n",
      "\n"
     ]
    }
   ],
   "source": [
    "lmm_dir_regenie=~/UKBiobank/results_pleiotropy/REGENIE_results/results_burden_exome/022222_systolicBP_african\n",
    "lmm_sbatch_regenie=~/pleiotropy/LMM/systolicBP_200k_exomes-regenie-burden_african_$(date +\"%Y-%m-%d\").sbatch\n",
    "phenoFile=~/UKBiobank/phenotype_files/pleiotropy/UKB_exome_African_bloodpressure_invnorm_pcs\n",
    "covarFile=~/UKBiobank/phenotype_files/pleiotropy/UKB_exome_African_bloodpressure_invnorm_pcs\n",
    "phenoCol=systolic_plus15inmedicated_inverserank\n",
    "covarCol=sex\n",
    "qCovarCol='age Alcohol1 Alcohol2 Alcohol3 Alcohol4 smoking1 smoking2 SBP_PC1 SBP_PC2 SBP_PC3 SBP_PC4 SBP_PC5 SBP_PC6 SBP_PC7 SBP_PC8 SBP_PC9 SBP_PC10' \n",
    "genoFile=`echo ~/UKBiobank/data/exome_files/project_VCF/072721_run/plink/ukb23156_c{1..22}.merged.filtered.bed`\n",
    "bfile=~/UKBiobank/genotype_files_processed/021722_african_finalqc_8591samples_351690variants/cache/*.bed\n",
    "anno_file=~/UKBiobank/results_pleiotropy/REGENIE_results/results_burden_exome/102121_burden_files/ukb23155_chr1_chr22_091321.hg38.hg38_multianno.renamedcols.csv.anno_file\n",
    "set_list=~/UKBiobank/results_pleiotropy/REGENIE_results/results_burden_exome/102121_burden_files/ukb23155_chr1_chr22_091321.hg38.hg38_multianno.renamedcols.csv.set_list_file\n",
    "mask_file=~/UKBiobank/results_pleiotropy/REGENIE_results/results_burden_exome/102121_burden_files/ukb23155_chr1_chr22_091321.hg38.hg38_multianno.renamedcols.csv.mask_file\n",
    "aaf_file=~/UKBiobank/results_pleiotropy/REGENIE_results/results_burden_exome/102121_burden_files/ukb23155_chr1_chr22_091321.hg38.hg38_multianno.renamedcols.csv.aff_file\n",
    "build_mask=max\n",
    "aaf_bins='0.005 0.01'\n",
    "tpl_file=~/project/bioworkflows/admin/csg.yml\n",
    "lmm_sos=~/project/bioworkflows/GWAS/LMM.ipynb\n",
    "container_marp=~/containers/marp.sif\n",
    "container_lmm=~/containers/lmm.sif \n",
    "lmm_job_size=1\n",
    "ylim=0\n",
    "k=10\n",
    "reverse_log_p=True\n",
    "numThreads=20\n",
    "formatFile_regenie=~/project/UKBB_GWAS_dev/data/regenie_template.yml\n",
    "bsize=1000\n",
    "## Trait leave empty for qt traits\n",
    "trait=\n",
    "minMAC=1\n",
    "snpannofile=~/UKBiobank/results/ukb23155_200Kexomes_annovar/2021_10_12_hg38_exome/ukb23155_chr1_chr22_091321.hg38.hg38_multianno.renamedcols.csv.gz\n",
    "\n",
    "lmm_args=\"\"\"regenie_burden\n",
    "    --cwd $lmm_dir_regenie \n",
    "    --bfile $bfile \n",
    "    --genoFile $genoFile\n",
    "    --phenoFile $phenoFile \n",
    "    --formatFile $formatFile_regenie \n",
    "    --phenoCol $phenoCol\n",
    "    --covarCol $covarCol  \n",
    "    --qCovarCol $qCovarCol\n",
    "    --bsize $bsize\n",
    "    --trait $trait\n",
    "    --anno_file $anno_file\n",
    "    --set_list $set_list\n",
    "    --mask_file $mask_file\n",
    "    --aaf_file $aaf_file\n",
    "    --aaf_bins $aaf_bins\n",
    "    --build_mask $build_mask\n",
    "    --job_size $lmm_job_size\n",
    "    --ylim $ylim\n",
    "    --k $k\n",
    "    --reverse_log_p $reverse_log_p\n",
    "    --numThreads $numThreads\n",
    "    --minMAC $minMAC\n",
    "    --snpannofile $snpannofile\n",
    "    --container_lmm $container_lmm\n",
    "    --container_marp $container_marp\n",
    "\"\"\"\n",
    "\n",
    "sos run ~/project/UKBB_GWAS_dev/admin/Get_Job_Script.ipynb csg \\\n",
    "    --template-file $tpl_file \\\n",
    "    --workflow-file $lmm_sos \\\n",
    "    --to-script $lmm_sbatch_regenie \\\n",
    "    --args \"$lmm_args\""
   ]
  },
  {
   "cell_type": "markdown",
   "id": "6e8e7ba0-cbeb-4e32-bc63-1bc06c1a6010",
   "metadata": {
    "kernel": "Bash"
   },
   "source": [
    "### Diastolic BP"
   ]
  },
  {
   "cell_type": "code",
   "execution_count": 4,
   "id": "e3c7ddbe-0e42-40c3-82d0-f7a7233f8fcd",
   "metadata": {
    "kernel": "Bash"
   },
   "outputs": [
    {
     "name": "stdout",
     "output_type": "stream",
     "text": [
      "INFO: Running \u001b[32mcsg\u001b[0m: Configuration for Columbia csg partition cluster\n",
      "INFO: \u001b[32mcsg\u001b[0m is \u001b[32mcompleted\u001b[0m.\n",
      "INFO: \u001b[32mcsg\u001b[0m output:   \u001b[32m/home/dmc2245/pleiotropy/LMM/diastolicBP_200k_exomes-regenie-burden_african_2022-02-22.sbatch\u001b[0m\n",
      "INFO: Workflow csg (ID=w592764c03e7ebef7) is executed successfully with 1 completed step.\n",
      "\n"
     ]
    }
   ],
   "source": [
    "lmm_dir_regenie=~/UKBiobank/results_pleiotropy/REGENIE_results/results_burden_exome/022222_diastolicBP_african\n",
    "lmm_sbatch_regenie=~/pleiotropy/LMM/diastolicBP_200k_exomes-regenie-burden_african_$(date +\"%Y-%m-%d\").sbatch\n",
    "phenoFile=~/UKBiobank/phenotype_files/pleiotropy/UKB_exome_African_bloodpressure_invnorm_pcs\n",
    "covarFile=~/UKBiobank/phenotype_files/pleiotropy/UKB_exome_African_bloodpressure_invnorm_pcs\n",
    "phenoCol=diastolic_plus10inmedicated_inverserank\n",
    "covarCol=sex\n",
    "qCovarCol='age Alcohol1 Alcohol2 Alcohol3 Alcohol4 smoking1 smoking2 DBP_PC1 DBP_PC2 DBP_PC3 DBP_PC4 DBP_PC5 DBP_PC6 DBP_PC7 DBP_PC8 DBP_PC9 DBP_PC10' \n",
    "genoFile=`echo ~/UKBiobank/data/exome_files/project_VCF/072721_run/plink/ukb23156_c{1..22}.merged.filtered.bed`\n",
    "bfile=~/UKBiobank/genotype_files_processed/021722_african_finalqc_8591samples_351690variants/cache/*.bed\n",
    "anno_file=~/UKBiobank/results_pleiotropy/REGENIE_results/results_burden_exome/102121_burden_files/ukb23155_chr1_chr22_091321.hg38.hg38_multianno.renamedcols.csv.anno_file\n",
    "set_list=~/UKBiobank/results_pleiotropy/REGENIE_results/results_burden_exome/102121_burden_files/ukb23155_chr1_chr22_091321.hg38.hg38_multianno.renamedcols.csv.set_list_file\n",
    "mask_file=~/UKBiobank/results_pleiotropy/REGENIE_results/results_burden_exome/102121_burden_files/ukb23155_chr1_chr22_091321.hg38.hg38_multianno.renamedcols.csv.mask_file\n",
    "aaf_file=~/UKBiobank/results_pleiotropy/REGENIE_results/results_burden_exome/102121_burden_files/ukb23155_chr1_chr22_091321.hg38.hg38_multianno.renamedcols.csv.aff_file\n",
    "build_mask=max\n",
    "aaf_bins='0.005 0.01'\n",
    "tpl_file=~/project/bioworkflows/admin/csg.yml\n",
    "lmm_sos=~/project/bioworkflows/GWAS/LMM.ipynb\n",
    "container_marp=~/containers/marp.sif\n",
    "container_lmm=~/containers/lmm.sif \n",
    "lmm_job_size=1\n",
    "ylim=0\n",
    "k=10\n",
    "reverse_log_p=True\n",
    "numThreads=20\n",
    "formatFile_regenie=~/project/UKBB_GWAS_dev/data/regenie_template.yml\n",
    "bsize=1000\n",
    "trait=\n",
    "minMAC=1\n",
    "snpannofile=~/UKBiobank/results/ukb23155_200Kexomes_annovar/2021_10_12_hg38_exome/ukb23155_chr1_chr22_091321.hg38.hg38_multianno.renamedcols.csv.gz\n",
    "\n",
    "lmm_args=\"\"\"regenie_burden\n",
    "    --cwd $lmm_dir_regenie \n",
    "    --bfile $bfile \n",
    "    --genoFile $genoFile\n",
    "    --phenoFile $phenoFile \n",
    "    --formatFile $formatFile_regenie \n",
    "    --phenoCol $phenoCol\n",
    "    --covarCol $covarCol  \n",
    "    --qCovarCol $qCovarCol\n",
    "    --bsize $bsize\n",
    "    --trait $trait\n",
    "    --anno_file $anno_file\n",
    "    --set_list $set_list\n",
    "    --mask_file $mask_file\n",
    "    --aaf_file $aaf_file\n",
    "    --aaf_bins $aaf_bins\n",
    "    --build_mask $build_mask\n",
    "    --job_size $lmm_job_size\n",
    "    --ylim $ylim\n",
    "    --k $k\n",
    "    --reverse_log_p $reverse_log_p\n",
    "    --numThreads $numThreads\n",
    "    --minMAC $minMAC\n",
    "    --snpannofile $snpannofile\n",
    "    --container_lmm $container_lmm\n",
    "    --container_marp $container_marp\n",
    "\"\"\"\n",
    "\n",
    "sos run ~/project/UKBB_GWAS_dev/admin/Get_Job_Script.ipynb csg \\\n",
    "    --template-file $tpl_file \\\n",
    "    --workflow-file $lmm_sos \\\n",
    "    --to-script $lmm_sbatch_regenie \\\n",
    "    --args \"$lmm_args\""
   ]
  },
  {
   "cell_type": "markdown",
   "id": "34f3d5d0-eb2a-4c00-b35a-dac506f5e1f7",
   "metadata": {
    "kernel": "Bash"
   },
   "source": [
    "# 04-29-22 Burden analysis with the raw systolic_plus15inmedicated for extended white"
   ]
  },
  {
   "cell_type": "code",
   "execution_count": 1,
   "id": "99768afa-42e5-4394-b153-79b1f74de816",
   "metadata": {
    "kernel": "Bash"
   },
   "outputs": [
    {
     "name": "stderr",
     "output_type": "stream",
     "text": [
      "/home/dmc2245/miniconda3/lib/python3.8/site-packages/sos_notebook/kernel.py:1334: DeprecationWarning: Kernel._parent_header is deprecated in ipykernel 6. Use .get_parent()\n",
      "  msg['msg_id'] = self._parent_header['header']['msg_id']\n"
     ]
    },
    {
     "name": "stdout",
     "output_type": "stream",
     "text": [
      "INFO: Running \u001b[32mcsg\u001b[0m: Configuration for Columbia csg partition cluster\n",
      "INFO: \u001b[32mcsg\u001b[0m is \u001b[32mcompleted\u001b[0m.\n",
      "INFO: \u001b[32mcsg\u001b[0m output:   \u001b[32m/home/dmc2245/pleiotropy/LMM/systolic_plus15inmedicated_200k_exomes-regenie-burden_2022-04-29.sbatch\u001b[0m\n",
      "INFO: Workflow csg (ID=w2300964bdfbac263) is executed successfully with 1 completed step.\n",
      "\n"
     ]
    }
   ],
   "source": [
    "lmm_dir_regenie=~/UKBiobank/results_pleiotropy/REGENIE_results/results_burden_exome/042922_systolic_plus15inmedicated_extwhite\n",
    "lmm_sbatch_regenie=~/pleiotropy/LMM/systolic_plus15inmedicated_200k_exomes-regenie-burden_$(date +\"%Y-%m-%d\").sbatch\n",
    "phenoFile=~/UKBiobank/phenotype_files/pleiotropy/UKB_exome_white_bloodpressure_invnorm_pcs_new\n",
    "covarFile=~/UKBiobank/phenotype_files/pleiotropy/UKB_exome_white_bloodpressure_invnorm_pcs_new\n",
    "phenoCol=systolic_plus15inmedicated\n",
    "covarCol=sex\n",
    "qCovarCol='age Alcohol1 Alcohol2 Alcohol3 Alcohol4 smoking1 smoking2 SBP_PC1 SBP_PC2 SBP_PC3 SBP_PC4 SBP_PC5 SBP_PC6 SBP_PC7 SBP_PC8 SBP_PC9 SBP_PC10' \n",
    "genoFile=`echo ~/UKBiobank/data/exome_files/project_VCF/072721_run/plink/ukb23156_c{1..22}.merged.filtered.bed`\n",
    "bfile=~/UKBiobank/genotype_files_processed/010622_exp_white_finalqc/cache/*.bed\n",
    "anno_file=~/UKBiobank/results_pleiotropy/REGENIE_results/results_burden_exome/102121_burden_files/ukb23155_chr1_chr22_091321.hg38.hg38_multianno.renamedcols.csv.anno_file\n",
    "set_list=~/UKBiobank/results_pleiotropy/REGENIE_results/results_burden_exome/102121_burden_files/ukb23155_chr1_chr22_091321.hg38.hg38_multianno.renamedcols.csv.set_list_file\n",
    "mask_file=~/UKBiobank/results_pleiotropy/REGENIE_results/results_burden_exome/102121_burden_files/ukb23155_chr1_chr22_091321.hg38.hg38_multianno.renamedcols.csv.mask_file\n",
    "aaf_file=~/UKBiobank/results_pleiotropy/REGENIE_results/results_burden_exome/102121_burden_files/ukb23155_chr1_chr22_091321.hg38.hg38_multianno.renamedcols.csv.aff_file\n",
    "build_mask=max\n",
    "aaf_bins='0.005 0.01'\n",
    "tpl_file=~/project/bioworkflows/admin/csg.yml\n",
    "lmm_sos=~/project/bioworkflows/GWAS/LMM.ipynb\n",
    "container_marp=~/containers/marp.sif\n",
    "container_lmm=~/containers/lmm.sif \n",
    "lmm_job_size=1\n",
    "ylim=0\n",
    "k=10\n",
    "reverse_log_p=True\n",
    "numThreads=20\n",
    "formatFile_regenie=~/project/UKBB_GWAS_dev/data/regenie_template.yml\n",
    "bsize=1000\n",
    "## Trait leave empty for qt traits\n",
    "trait=\n",
    "minMAC=1\n",
    "snpannofile=~/UKBiobank/results/ukb23155_200Kexomes_annovar/2021_10_12_hg38_exome/ukb23155_chr1_chr22_091321.hg38.hg38_multianno.renamedcols.csv.gz\n",
    "\n",
    "lmm_args=\"\"\"regenie_burden\n",
    "    --cwd $lmm_dir_regenie \n",
    "    --bfile $bfile \n",
    "    --genoFile $genoFile\n",
    "    --phenoFile $phenoFile \n",
    "    --formatFile $formatFile_regenie \n",
    "    --phenoCol $phenoCol\n",
    "    --covarCol $covarCol  \n",
    "    --qCovarCol $qCovarCol\n",
    "    --bsize $bsize\n",
    "    --trait $trait\n",
    "    --anno_file $anno_file\n",
    "    --set_list $set_list\n",
    "    --mask_file $mask_file\n",
    "    --aaf_file $aaf_file\n",
    "    --aaf_bins $aaf_bins\n",
    "    --build_mask $build_mask\n",
    "    --job_size $lmm_job_size\n",
    "    --ylim $ylim\n",
    "    --k $k\n",
    "    --reverse_log_p $reverse_log_p\n",
    "    --numThreads $numThreads\n",
    "    --minMAC $minMAC\n",
    "    --snpannofile $snpannofile\n",
    "    --container_lmm $container_lmm\n",
    "    --container_marp $container_marp\n",
    "\"\"\"\n",
    "\n",
    "sos run ~/project/UKBB_GWAS_dev/admin/Get_Job_Script.ipynb csg \\\n",
    "    --template-file $tpl_file \\\n",
    "    --workflow-file $lmm_sos \\\n",
    "    --to-script $lmm_sbatch_regenie \\\n",
    "    --args \"$lmm_args\""
   ]
  },
  {
   "cell_type": "markdown",
   "id": "e59679ba-cc85-48f8-99d0-f4b7d1e022fa",
   "metadata": {
    "kernel": "Bash"
   },
   "source": [
    "# 04-29-22 Burden analysis with the raw diastolic_plus10inmedicated for extended white"
   ]
  },
  {
   "cell_type": "code",
   "execution_count": 3,
   "id": "079237a9-95be-4510-96e5-627ccf78855c",
   "metadata": {
    "kernel": "Bash"
   },
   "outputs": [
    {
     "name": "stdout",
     "output_type": "stream",
     "text": [
      "INFO: Running \u001b[32mcsg\u001b[0m: Configuration for Columbia csg partition cluster\n",
      "INFO: \u001b[32mcsg\u001b[0m is \u001b[32mcompleted\u001b[0m.\n",
      "INFO: \u001b[32mcsg\u001b[0m output:   \u001b[32m/home/dmc2245/pleiotropy/LMM/diastolic_plus10inmedicated_200k_exomes-regenie-burden_2022-04-29.sbatch\u001b[0m\n",
      "INFO: Workflow csg (ID=w1c1654f1075d5a11) is executed successfully with 1 completed step.\n",
      "\n"
     ]
    }
   ],
   "source": [
    "lmm_dir_regenie=~/UKBiobank/results_pleiotropy/REGENIE_results/results_burden_exome/042922_diastolic_plus10inmedicated_extwhite\n",
    "lmm_sbatch_regenie=~/pleiotropy/LMM/diastolic_plus10inmedicated_200k_exomes-regenie-burden_$(date +\"%Y-%m-%d\").sbatch\n",
    "phenoFile=~/UKBiobank/phenotype_files/pleiotropy/UKB_exome_white_bloodpressure_invnorm_pcs_new\n",
    "covarFile=~/UKBiobank/phenotype_files/pleiotropy/UKB_exome_white_bloodpressure_invnorm_pcs_new\n",
    "phenoCol=diastolic_plus10inmedicated\n",
    "covarCol=sex\n",
    "qCovarCol='age Alcohol1 Alcohol2 Alcohol3 Alcohol4 smoking1 smoking2 DBP_PC1 DBP_PC2 DBP_PC3 DBP_PC4 DBP_PC5 DBP_PC6 DBP_PC7 DBP_PC8 DBP_PC9 DBP_PC10' \n",
    "genoFile=`echo ~/UKBiobank/data/exome_files/project_VCF/072721_run/plink/ukb23156_c{1..22}.merged.filtered.bed`\n",
    "bfile=~/UKBiobank/genotype_files_processed/010622_exp_white_finalqc/cache/*.bed\n",
    "anno_file=~/UKBiobank/results_pleiotropy/REGENIE_results/results_burden_exome/102121_burden_files/ukb23155_chr1_chr22_091321.hg38.hg38_multianno.renamedcols.csv.anno_file\n",
    "set_list=~/UKBiobank/results_pleiotropy/REGENIE_results/results_burden_exome/102121_burden_files/ukb23155_chr1_chr22_091321.hg38.hg38_multianno.renamedcols.csv.set_list_file\n",
    "mask_file=~/UKBiobank/results_pleiotropy/REGENIE_results/results_burden_exome/102121_burden_files/ukb23155_chr1_chr22_091321.hg38.hg38_multianno.renamedcols.csv.mask_file\n",
    "aaf_file=~/UKBiobank/results_pleiotropy/REGENIE_results/results_burden_exome/102121_burden_files/ukb23155_chr1_chr22_091321.hg38.hg38_multianno.renamedcols.csv.aff_file\n",
    "build_mask=max\n",
    "aaf_bins='0.005 0.01'\n",
    "tpl_file=~/project/bioworkflows/admin/csg.yml\n",
    "lmm_sos=~/project/bioworkflows/GWAS/LMM.ipynb\n",
    "container_marp=~/containers/marp.sif\n",
    "container_lmm=~/containers/lmm.sif \n",
    "lmm_job_size=1\n",
    "ylim=0\n",
    "k=10\n",
    "reverse_log_p=True\n",
    "numThreads=20\n",
    "formatFile_regenie=~/project/UKBB_GWAS_dev/data/regenie_template.yml\n",
    "bsize=1000\n",
    "trait=\n",
    "minMAC=1\n",
    "snpannofile=~/UKBiobank/results/ukb23155_200Kexomes_annovar/2021_10_12_hg38_exome/ukb23155_chr1_chr22_091321.hg38.hg38_multianno.renamedcols.csv.gz\n",
    "\n",
    "lmm_args=\"\"\"regenie_burden\n",
    "    --cwd $lmm_dir_regenie \n",
    "    --bfile $bfile \n",
    "    --genoFile $genoFile\n",
    "    --phenoFile $phenoFile \n",
    "    --formatFile $formatFile_regenie \n",
    "    --phenoCol $phenoCol\n",
    "    --covarCol $covarCol  \n",
    "    --qCovarCol $qCovarCol\n",
    "    --bsize $bsize\n",
    "    --trait $trait\n",
    "    --anno_file $anno_file\n",
    "    --set_list $set_list\n",
    "    --mask_file $mask_file\n",
    "    --aaf_file $aaf_file\n",
    "    --aaf_bins $aaf_bins\n",
    "    --build_mask $build_mask\n",
    "    --job_size $lmm_job_size\n",
    "    --ylim $ylim\n",
    "    --k $k\n",
    "    --reverse_log_p $reverse_log_p\n",
    "    --numThreads $numThreads\n",
    "    --minMAC $minMAC\n",
    "    --snpannofile $snpannofile\n",
    "    --container_lmm $container_lmm\n",
    "    --container_marp $container_marp\n",
    "\"\"\"\n",
    "\n",
    "sos run ~/project/UKBB_GWAS_dev/admin/Get_Job_Script.ipynb csg \\\n",
    "    --template-file $tpl_file \\\n",
    "    --workflow-file $lmm_sos \\\n",
    "    --to-script $lmm_sbatch_regenie \\\n",
    "    --args \"$lmm_args\""
   ]
  },
  {
   "cell_type": "code",
   "execution_count": null,
   "id": "6a097093-7419-41d6-8174-214d35d6664b",
   "metadata": {
    "kernel": "Bash"
   },
   "outputs": [],
   "source": []
  }
 ],
 "metadata": {
  "kernelspec": {
   "display_name": "SoS",
   "language": "sos",
   "name": "sos"
  },
  "language_info": {
   "codemirror_mode": "sos",
   "file_extension": ".sos",
   "mimetype": "text/x-sos",
   "name": "sos",
   "nbconvert_exporter": "sos_notebook.converter.SoS_Exporter",
   "pygments_lexer": "sos"
  },
  "sos": {
   "kernels": [
    [
     "Bash",
     "calysto_bash",
     "Bash",
     "#E6EEFF",
     "shell"
    ],
    [
     "R",
     "ir",
     "R",
     "#DCDCDA",
     ""
    ]
   ],
   "version": "0.22.6"
  }
 },
 "nbformat": 4,
 "nbformat_minor": 5
}
