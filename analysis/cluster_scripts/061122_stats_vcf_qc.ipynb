{
 "cells": [
  {
   "cell_type": "markdown",
   "id": "f73bab47-2540-43c0-a974-95247c7eca0e",
   "metadata": {
    "kernel": "SoS",
    "tags": []
   },
   "source": [
    "# Compile all the stats form the exome data "
   ]
  },
  {
   "cell_type": "code",
   "execution_count": 10,
   "id": "8f1c8e2c-27aa-4e0b-81d1-8bae68b0ad0c",
   "metadata": {
    "kernel": "Bash",
    "tags": []
   },
   "outputs": [
    {
     "name": "stdout",
     "output_type": "stream",
     "text": [
      "\n"
     ]
    }
   ],
   "source": [
    "for file in `ls -v ~/UKBiobank/data/exome_files/project_VCF/072721_run/stats/ukb23156_c1_b*_v1.stats_bcftools |  tr \"\\n\" \" \"` ; \n",
    "do \n",
    "    cat $file | grep \"^SN\" | awk '{print $5, $6, $7, $8}' | awk -F': ' '{print $2}' | xargs -n9 >> ~/chr1_original.txt;\n",
    "done"
   ]
  },
  {
   "cell_type": "code",
   "execution_count": 18,
   "id": "5e1de106-0e46-4ef4-904c-0a37eeca173f",
   "metadata": {
    "kernel": "Bash"
   },
   "outputs": [
    {
     "name": "stdout",
     "output_type": "stream",
     "text": [
      "\n"
     ]
    }
   ],
   "source": [
    "for file in `ls -v ~/UKBiobank/data/exome_files/project_VCF/072721_run/stats/ukb23156_c2_b*_v1.stats_bcftools |  tr \"\\n\" \" \"` ; \n",
    "do \n",
    "    cat $file | grep \"^SN\" | awk '{print $5, $6, $7, $8}' | awk -F': ' '{print $2}' | xargs -n9 >> ~/chr2_original.txt; \n",
    "done"
   ]
  },
  {
   "cell_type": "code",
   "execution_count": 1,
   "id": "0498a20f-37f2-4352-a0d0-6c320a908f47",
   "metadata": {
    "kernel": "Bash",
    "scrolled": true,
    "tags": []
   },
   "outputs": [
    {
     "name": "stderr",
     "output_type": "stream",
     "text": [
      "/home/dmc2245/miniconda3/lib/python3.8/site-packages/sos_notebook/kernel.py:1334: DeprecationWarning: Kernel._parent_header is deprecated in ipykernel 6. Use .get_parent()\n",
      "  msg['msg_id'] = self._parent_header['header']['msg_id']\n"
     ]
    },
    {
     "name": "stdout",
     "output_type": "stream",
     "text": [
      "200643 16655 0 16051 0 1010 0 1872 1421\n",
      "ukb23156_c3_b0_v1.stats_bcftools\n",
      "200643 16976 0 16282 0 1166 0 1769 1274\n",
      "ukb23156_c3_b1_v1.stats_bcftools\n",
      "200643 16564 0 15920 0 1059 0 1680 1237\n",
      "ukb23156_c3_b2_v1.stats_bcftools\n",
      "200643 16715 0 16012 0 1158 0 1743 1260\n",
      "ukb23156_c3_b3_v1.stats_bcftools\n",
      "200643 16779 0 16123 0 1081 1 1745 1295\n",
      "ukb23156_c3_b4_v1.stats_bcftools\n",
      "200643 16585 0 15795 0 1312 2 1637 1071\n",
      "ukb23156_c3_b5_v1.stats_bcftools\n",
      "200643 16337 0 15514 0 1359 0 1733 1130\n",
      "ukb23156_c3_b6_v1.stats_bcftools\n",
      "200643 16622 0 15802 0 1306 0 1710 1175\n",
      "ukb23156_c3_b7_v1.stats_bcftools\n",
      "200643 16393 0 15684 0 1196 0 1611 1088\n",
      "ukb23156_c3_b8_v1.stats_bcftools\n",
      "200643 16505 0 15784 0 1108 3 1550 1128\n",
      "ukb23156_c3_b9_v1.stats_bcftools\n",
      "200643 17059 0 16400 0 1074 1 1592 1139\n",
      "ukb23156_c3_b10_v1.stats_bcftools\n",
      "200643 16949 0 16206 0 1269 2 1769 1208\n",
      "ukb23156_c3_b11_v1.stats_bcftools\n",
      "200643 16896 0 16137 0 1230 0 1611 1094\n",
      "ukb23156_c3_b12_v1.stats_bcftools\n",
      "200643 17307 0 16683 0 970 0 1708 1334\n",
      "ukb23156_c3_b13_v1.stats_bcftools\n",
      "200643 17329 0 16569 0 1206 0 1640 1154\n",
      "ukb23156_c3_b14_v1.stats_bcftools\n",
      "200643 17240 0 16500 0 1127 0 1707 1285\n",
      "ukb23156_c3_b15_v1.stats_bcftools\n",
      "200643 17447 0 16787 0 1093 0 1654 1188\n",
      "ukb23156_c3_b16_v1.stats_bcftools\n",
      "200643 16884 0 16254 0 1090 0 1654 1172\n",
      "ukb23156_c3_b17_v1.stats_bcftools\n",
      "200643 17079 0 16391 0 1081 0 1558 1140\n",
      "ukb23156_c3_b18_v1.stats_bcftools\n",
      "200643 17111 0 16443 0 1042 0 1526 1131\n",
      "ukb23156_c3_b19_v1.stats_bcftools\n",
      "200643 17465 0 16834 0 1018 0 1658 1248\n",
      "ukb23156_c3_b20_v1.stats_bcftools\n",
      "200643 16785 0 16003 0 1265 0 1736 1209\n",
      "ukb23156_c3_b21_v1.stats_bcftools\n",
      "200643 16420 0 15635 0 1268 0 1660 1127\n",
      "ukb23156_c3_b22_v1.stats_bcftools\n",
      "200643 16727 0 15961 0 1251 1 1673 1133\n",
      "ukb23156_c3_b23_v1.stats_bcftools\n",
      "200643 16422 0 15679 0 1245 0 1735 1197\n",
      "ukb23156_c3_b24_v1.stats_bcftools\n",
      "200643 16737 0 16042 0 1140 1 1774 1298\n",
      "ukb23156_c3_b25_v1.stats_bcftools\n",
      "200643 15864 0 15162 0 1171 0 1668 1152\n",
      "ukb23156_c3_b26_v1.stats_bcftools\n",
      "200643 16872 0 16148 0 1189 0 1668 1158\n",
      "ukb23156_c3_b27_v1.stats_bcftools\n",
      "200643 16618 0 15826 0 1305 1 1660 1102\n",
      "ukb23156_c3_b28_v1.stats_bcftools\n",
      "200643 16447 0 15700 0 1198 3 1553 1060\n",
      "ukb23156_c3_b29_v1.stats_bcftools\n",
      "200643 16577 0 15785 0 1305 2 1636 1065\n",
      "ukb23156_c3_b30_v1.stats_bcftools\n",
      "200643 16785 0 15957 0 1362 2 1577 994\n",
      "ukb23156_c3_b31_v1.stats_bcftools\n",
      "200643 16578 0 15912 0 1092 0 1612 1150\n",
      "ukb23156_c3_b32_v1.stats_bcftools\n",
      "200643 16675 0 15942 0 1192 2 1511 1015\n",
      "ukb23156_c3_b33_v1.stats_bcftools\n",
      "200643 16584 0 15937 0 1055 4 1620 1173\n",
      "ukb23156_c3_b34_v1.stats_bcftools\n",
      "200643 17007 0 16364 0 1054 0 1676 1228\n",
      "ukb23156_c3_b35_v1.stats_bcftools\n",
      "200643 16929 0 16304 0 1012 0 1791 1378\n",
      "ukb23156_c3_b36_v1.stats_bcftools\n",
      "200643 16501 0 15817 0 1113 0 1668 1209\n",
      "ukb23156_c3_b37_v1.stats_bcftools\n",
      "200643 16323 0 15574 0 1258 0 1567 1008\n",
      "ukb23156_c3_b38_v1.stats_bcftools\n",
      "200643 16654 0 15910 0 1197 0 1585 1101\n",
      "ukb23156_c3_b39_v1.stats_bcftools\n",
      "200643 16653 0 15876 0 1314 0 1661 1080\n",
      "ukb23156_c3_b40_v1.stats_bcftools\n",
      "200643 16859 0 16047 0 1253 1 1586 1100\n",
      "ukb23156_c3_b41_v1.stats_bcftools\n",
      "200643 16488 0 15667 0 1280 1 1590 1065\n",
      "ukb23156_c3_b42_v1.stats_bcftools\n",
      "200643 16499 0 15623 0 1366 2 1614 1054\n",
      "ukb23156_c3_b43_v1.stats_bcftools\n",
      "200643 16596 0 15767 0 1355 0 1628 1058\n",
      "ukb23156_c3_b44_v1.stats_bcftools\n",
      "200643 16166 0 15248 0 1483 2 1699 1072\n",
      "ukb23156_c3_b45_v1.stats_bcftools\n",
      "200643 16673 0 15896 0 1236 0 1587 1081\n",
      "ukb23156_c3_b46_v1.stats_bcftools\n",
      "200643 16288 0 15471 0 1322 5 1566 1009\n",
      "ukb23156_c3_b47_v1.stats_bcftools\n",
      "200643 16010 0 15045 0 1576 0 1672 967\n",
      "ukb23156_c3_b48_v1.stats_bcftools\n",
      "200643 16976 0 16271 0 1120 1 1566 1116\n",
      "ukb23156_c3_b49_v1.stats_bcftools\n",
      "200643 16957 0 16214 0 1177 0 1700 1226\n",
      "ukb23156_c3_b50_v1.stats_bcftools\n",
      "200643 16433 0 15583 0 1444 0 1787 1145\n",
      "ukb23156_c3_b51_v1.stats_bcftools\n",
      "200643 16651 0 15934 0 1162 1 1621 1117\n",
      "ukb23156_c3_b52_v1.stats_bcftools\n",
      "200643 17194 0 16605 0 1004 1 2293 1836\n",
      "ukb23156_c3_b53_v1.stats_bcftools\n",
      "200643 16273 0 15475 0 1318 0 1854 1283\n",
      "ukb23156_c3_b54_v1.stats_bcftools\n",
      "200643 7031 0 6666 0 572 0 761 536\n",
      "ukb23156_c3_b55_v1.stats_bcftools\n",
      "\n"
     ]
    }
   ],
   "source": [
    "for file in `ls -v ~/UKBiobank/data/exome_files/project_VCF/072721_run/stats/ukb23156_c3_b*_v1.stats_bcftools |  tr \"\\n\" \" \"` ; \n",
    "do \n",
    "    cat $file | grep \"^SN\" | awk '{print $5, $6, $7, $8}' | awk -F': ' '{print $2}' | xargs -n9 >> ~/chr3_original.txt\n",
    "    basename $file; \n",
    "done"
   ]
  },
  {
   "cell_type": "code",
   "execution_count": 2,
   "id": "a2e73700-77ad-468a-90d1-3db325126579",
   "metadata": {
    "kernel": "Bash",
    "scrolled": true,
    "tags": []
   },
   "outputs": [
    {
     "name": "stdout",
     "output_type": "stream",
     "text": [
      "200643 16035 0 15416 0 1138 0 2035 1495\n",
      "ukb23156_c4_b0_v1.stats_bcftools\n",
      "200643 16301 0 15659 0 1098 0 2108 1629\n",
      "ukb23156_c4_b1_v1.stats_bcftools\n",
      "200643 16621 0 15958 0 1127 0 1916 1425\n",
      "ukb23156_c4_b2_v1.stats_bcftools\n",
      "200643 16431 0 15764 0 1106 0 1978 1510\n",
      "ukb23156_c4_b3_v1.stats_bcftools\n",
      "200643 16922 0 16305 0 1052 1 2134 1672\n",
      "ukb23156_c4_b4_v1.stats_bcftools\n",
      "200643 16974 0 16443 0 933 1 1963 1541\n",
      "ukb23156_c4_b5_v1.stats_bcftools\n",
      "200643 16440 0 15855 0 1027 0 2227 1759\n",
      "ukb23156_c4_b6_v1.stats_bcftools\n",
      "200643 16496 0 15757 0 1243 0 1770 1227\n",
      "ukb23156_c4_b7_v1.stats_bcftools\n",
      "200643 16305 0 15476 0 1366 0 1679 1093\n",
      "ukb23156_c4_b8_v1.stats_bcftools\n",
      "200643 16667 0 15975 0 1136 0 1669 1181\n",
      "ukb23156_c4_b9_v1.stats_bcftools\n",
      "200643 16543 0 15752 0 1259 0 1521 1007\n",
      "ukb23156_c4_b10_v1.stats_bcftools\n",
      "200643 16102 0 15234 0 1415 1 1702 1094\n",
      "ukb23156_c4_b11_v1.stats_bcftools\n",
      "200643 16604 0 15740 0 1367 0 1585 1027\n",
      "ukb23156_c4_b12_v1.stats_bcftools\n",
      "200643 16579 0 15761 0 1303 0 1584 1053\n",
      "ukb23156_c4_b13_v1.stats_bcftools\n",
      "200643 16321 0 15547 0 1277 6 1613 1053\n",
      "ukb23156_c4_b14_v1.stats_bcftools\n",
      "200643 16544 0 15847 0 1167 0 1635 1116\n",
      "ukb23156_c4_b15_v1.stats_bcftools\n",
      "200643 16448 0 15641 0 1251 1 1574 1074\n",
      "ukb23156_c4_b16_v1.stats_bcftools\n",
      "200643 16553 0 15779 0 1241 0 1671 1143\n",
      "ukb23156_c4_b17_v1.stats_bcftools\n",
      "200643 16794 0 16025 0 1215 2 1633 1137\n",
      "ukb23156_c4_b18_v1.stats_bcftools\n",
      "200643 16710 0 15842 0 1384 0 1665 1091\n",
      "ukb23156_c4_b19_v1.stats_bcftools\n",
      "200643 16521 0 15737 0 1232 0 1541 1039\n",
      "ukb23156_c4_b20_v1.stats_bcftools\n",
      "200643 16134 0 15311 0 1341 2 1506 943\n",
      "ukb23156_c4_b21_v1.stats_bcftools\n",
      "200643 16715 0 15943 0 1241 1 1606 1086\n",
      "ukb23156_c4_b22_v1.stats_bcftools\n",
      "200643 16295 0 15510 0 1272 0 1621 1084\n",
      "ukb23156_c4_b23_v1.stats_bcftools\n",
      "200643 16174 0 15413 0 1239 2 1545 1021\n",
      "ukb23156_c4_b24_v1.stats_bcftools\n",
      "200643 16484 0 15705 0 1232 0 1627 1121\n",
      "ukb23156_c4_b25_v1.stats_bcftools\n",
      "200643 16585 0 15816 0 1229 2 1497 985\n",
      "ukb23156_c4_b26_v1.stats_bcftools\n",
      "200643 16112 0 15119 0 1550 1 1618 987\n",
      "ukb23156_c4_b27_v1.stats_bcftools\n",
      "200643 17048 0 16227 0 1327 0 1488 931\n",
      "ukb23156_c4_b28_v1.stats_bcftools\n",
      "200643 16492 0 15588 0 1403 1 1620 1071\n",
      "ukb23156_c4_b29_v1.stats_bcftools\n",
      "200643 16387 0 15626 0 1223 0 1578 1067\n",
      "ukb23156_c4_b30_v1.stats_bcftools\n",
      "200643 16328 0 15546 0 1216 0 1546 1062\n",
      "ukb23156_c4_b31_v1.stats_bcftools\n",
      "200643 16663 0 15821 0 1300 2 1595 1086\n",
      "ukb23156_c4_b32_v1.stats_bcftools\n",
      "200643 16493 0 15731 0 1220 1 1516 1013\n",
      "ukb23156_c4_b33_v1.stats_bcftools\n",
      "200643 16279 0 15554 0 1163 0 1513 1028\n",
      "ukb23156_c4_b34_v1.stats_bcftools\n",
      "200643 16298 0 15448 0 1327 0 1532 990\n",
      "ukb23156_c4_b35_v1.stats_bcftools\n",
      "200643 16753 0 15996 0 1195 0 1689 1183\n",
      "ukb23156_c4_b36_v1.stats_bcftools\n",
      "200643 16554 0 15715 0 1390 0 1760 1155\n",
      "ukb23156_c4_b37_v1.stats_bcftools\n",
      "200643 10154 0 9805 0 597 0 976 711\n",
      "ukb23156_c4_b38_v1.stats_bcftools\n",
      "\n"
     ]
    }
   ],
   "source": [
    "for file in `ls -v ~/UKBiobank/data/exome_files/project_VCF/072721_run/stats/ukb23156_c4_b*_v1.stats_bcftools |  tr \"\\n\" \" \"` ; \n",
    "do \n",
    "    cat $file | grep \"^SN\" | awk '{print $5, $6, $7, $8}' | awk -F': ' '{print $2}' | xargs -n9 >> ~/chr4_original.txt\n",
    "    basename $file ; \n",
    "done"
   ]
  },
  {
   "cell_type": "code",
   "execution_count": 3,
   "id": "5ca5578b-f10e-45ae-9bef-1d4f32388ca1",
   "metadata": {
    "kernel": "Bash",
    "scrolled": true,
    "tags": []
   },
   "outputs": [
    {
     "name": "stdout",
     "output_type": "stream",
     "text": [
      "200643 15163 0 14610 0 956 0 1785 1363\n",
      "ukb23156_c5_b0_v1.stats_bcftools\n",
      "200643 17023 0 16424 0 1020 1 2095 1648\n",
      "ukb23156_c5_b1_v1.stats_bcftools\n",
      "200643 16256 0 15538 0 1163 2 1682 1205\n",
      "ukb23156_c5_b2_v1.stats_bcftools\n",
      "200643 16785 0 16133 0 1084 1 1712 1242\n",
      "ukb23156_c5_b3_v1.stats_bcftools\n",
      "200643 16323 0 15627 0 1141 1 1551 1071\n",
      "ukb23156_c5_b4_v1.stats_bcftools\n",
      "200643 17158 0 16388 0 1196 1 1594 1125\n",
      "ukb23156_c5_b5_v1.stats_bcftools\n",
      "200643 16359 0 15516 0 1363 1 1566 982\n",
      "ukb23156_c5_b6_v1.stats_bcftools\n",
      "200643 16622 0 15912 0 1134 0 1547 1075\n",
      "ukb23156_c5_b7_v1.stats_bcftools\n",
      "200643 16390 0 15658 0 1245 0 1595 1031\n",
      "ukb23156_c5_b8_v1.stats_bcftools\n",
      "200643 16324 0 15440 0 1385 0 1642 1087\n",
      "ukb23156_c5_b9_v1.stats_bcftools\n",
      "200643 16335 0 15468 0 1422 2 1663 1049\n",
      "ukb23156_c5_b10_v1.stats_bcftools\n",
      "200643 16234 0 15328 0 1466 2 1667 1036\n",
      "ukb23156_c5_b11_v1.stats_bcftools\n",
      "200643 15815 0 15037 0 1252 0 1557 1030\n",
      "ukb23156_c5_b12_v1.stats_bcftools\n",
      "200643 16523 0 15685 0 1348 0 1547 990\n",
      "ukb23156_c5_b13_v1.stats_bcftools\n",
      "200643 17579 0 16717 0 1400 0 1751 1164\n",
      "ukb23156_c5_b14_v1.stats_bcftools\n",
      "200643 17438 0 16627 0 1279 0 1634 1127\n",
      "ukb23156_c5_b15_v1.stats_bcftools\n",
      "200643 16583 0 15678 0 1436 3 1588 974\n",
      "ukb23156_c5_b16_v1.stats_bcftools\n",
      "200643 16397 0 15617 0 1276 2 1597 1043\n",
      "ukb23156_c5_b17_v1.stats_bcftools\n",
      "200643 16339 0 15427 0 1447 0 1577 950\n",
      "ukb23156_c5_b18_v1.stats_bcftools\n",
      "200643 16604 0 15868 0 1241 1 1785 1240\n",
      "ukb23156_c5_b19_v1.stats_bcftools\n",
      "200643 16550 0 15882 0 1115 0 1834 1351\n",
      "ukb23156_c5_b20_v1.stats_bcftools\n",
      "200643 16308 0 15575 0 1167 0 1627 1127\n",
      "ukb23156_c5_b21_v1.stats_bcftools\n",
      "200643 16722 0 16017 0 1137 0 1665 1194\n",
      "ukb23156_c5_b22_v1.stats_bcftools\n",
      "200643 17012 0 16261 0 1210 0 1637 1140\n",
      "ukb23156_c5_b23_v1.stats_bcftools\n",
      "200643 16027 0 15262 0 1287 1 1702 1121\n",
      "ukb23156_c5_b24_v1.stats_bcftools\n",
      "200643 16416 0 15678 0 1194 0 1553 1048\n",
      "ukb23156_c5_b25_v1.stats_bcftools\n",
      "200643 16384 0 15599 0 1253 3 1625 1117\n",
      "ukb23156_c5_b26_v1.stats_bcftools\n",
      "200643 16964 0 16295 0 1097 0 1826 1372\n",
      "ukb23156_c5_b27_v1.stats_bcftools\n",
      "200643 16621 0 16100 0 911 0 1991 1592\n",
      "ukb23156_c5_b28_v1.stats_bcftools\n",
      "200643 17291 0 16615 0 1061 0 1812 1402\n",
      "ukb23156_c5_b29_v1.stats_bcftools\n",
      "200643 16651 0 15838 0 1304 0 1673 1138\n",
      "ukb23156_c5_b30_v1.stats_bcftools\n",
      "200643 16863 0 16160 0 1138 1 1613 1137\n",
      "ukb23156_c5_b31_v1.stats_bcftools\n",
      "200643 16668 0 15986 0 1097 2 1639 1204\n",
      "ukb23156_c5_b32_v1.stats_bcftools\n",
      "200643 17067 0 16377 0 1059 1 1613 1217\n",
      "ukb23156_c5_b33_v1.stats_bcftools\n",
      "200643 16237 0 15547 0 1087 0 1598 1152\n",
      "ukb23156_c5_b34_v1.stats_bcftools\n",
      "200643 16474 0 15730 0 1206 1 1663 1153\n",
      "ukb23156_c5_b35_v1.stats_bcftools\n",
      "200643 16559 0 15905 0 1024 2 1597 1187\n",
      "ukb23156_c5_b36_v1.stats_bcftools\n",
      "200643 16252 0 15555 0 1132 0 1734 1257\n",
      "ukb23156_c5_b37_v1.stats_bcftools\n",
      "200643 15307 0 14664 0 1011 0 1608 1207\n",
      "ukb23156_c5_b38_v1.stats_bcftools\n",
      "200643 16879 0 16140 0 1175 1 1809 1346\n",
      "ukb23156_c5_b39_v1.stats_bcftools\n",
      "200643 16031 0 15320 0 1210 0 1782 1260\n",
      "ukb23156_c5_b40_v1.stats_bcftools\n",
      "200643 16128 0 15400 0 1234 0 1823 1284\n",
      "ukb23156_c5_b41_v1.stats_bcftools\n",
      "200643 8343 0 8004 0 587 0 964 700\n",
      "ukb23156_c5_b42_v1.stats_bcftools\n",
      "\n"
     ]
    }
   ],
   "source": [
    "for file in `ls -v ~/UKBiobank/data/exome_files/project_VCF/072721_run/stats/ukb23156_c5_b*_v1.stats_bcftools |  tr \"\\n\" \" \"` ; \n",
    "do \n",
    "    cat $file | grep \"^SN\" | awk '{print $5, $6, $7, $8}' | awk -F': ' '{print $2}' | xargs -n9 >> ~/chr5_original.txt\n",
    "    basename $file; \n",
    "done"
   ]
  },
  {
   "cell_type": "code",
   "execution_count": 4,
   "id": "a86813c5-dc5f-4781-b25f-8dd0eb9f935b",
   "metadata": {
    "kernel": "Bash"
   },
   "outputs": [
    {
     "name": "stdout",
     "output_type": "stream",
     "text": [
      "\n"
     ]
    }
   ],
   "source": [
    "for file in `ls -v ~/UKBiobank/data/exome_files/project_VCF/072721_run/stats/ukb23156_c6_b*_v1.stats_bcftools |  tr \"\\n\" \" \"` ; \n",
    "do \n",
    "    cat $file | grep \"^SN\" | awk '{print $5, $6, $7, $8}' | awk -F': ' '{print $2}' | xargs -n9 >> ~/chr6_original.txt ;\n",
    "done"
   ]
  },
  {
   "cell_type": "code",
   "execution_count": 5,
   "id": "4af8aa91-d61a-45f5-82d1-aafda34dd3ee",
   "metadata": {
    "kernel": "Bash"
   },
   "outputs": [
    {
     "name": "stdout",
     "output_type": "stream",
     "text": [
      "\n"
     ]
    }
   ],
   "source": [
    "for file in `ls -v ~/UKBiobank/data/exome_files/project_VCF/072721_run/stats/ukb23156_c7_b*_v1.stats_bcftools |  tr \"\\n\" \" \"` ; \n",
    "do \n",
    "    cat $file | grep \"^SN\" | awk '{print $5, $6, $7, $8}' | awk -F': ' '{print $2}' | xargs -n9 >> ~/chr7_original.txt ;\n",
    "done"
   ]
  },
  {
   "cell_type": "code",
   "execution_count": 6,
   "id": "8f3c1f27-1b6f-4b82-a1c9-25608080cb03",
   "metadata": {
    "kernel": "Bash"
   },
   "outputs": [
    {
     "name": "stdout",
     "output_type": "stream",
     "text": [
      "\n"
     ]
    }
   ],
   "source": [
    "for file in `ls -v ~/UKBiobank/data/exome_files/project_VCF/072721_run/stats/ukb23156_c8_b*_v1.stats_bcftools |  tr \"\\n\" \" \"` ; \n",
    "do \n",
    "    cat $file | grep \"^SN\" | awk '{print $5, $6, $7, $8}' | awk -F': ' '{print $2}' | xargs -n9 >> ~/chr8_original.txt ;\n",
    "done"
   ]
  },
  {
   "cell_type": "code",
   "execution_count": 7,
   "id": "8fc4df2d-df7b-4acc-b29b-c843586de62b",
   "metadata": {
    "kernel": "Bash"
   },
   "outputs": [
    {
     "name": "stdout",
     "output_type": "stream",
     "text": [
      "\n"
     ]
    }
   ],
   "source": [
    "for file in `ls -v ~/UKBiobank/data/exome_files/project_VCF/072721_run/stats/ukb23156_c9_b*_v1.stats_bcftools |  tr \"\\n\" \" \"` ; \n",
    "do \n",
    "    cat $file | grep \"^SN\" | awk '{print $5, $6, $7, $8}' | awk -F': ' '{print $2}' | xargs -n9 >> ~/chr9_original.txt ;\n",
    "done"
   ]
  },
  {
   "cell_type": "code",
   "execution_count": 8,
   "id": "ac209a9d-f3e7-4f69-8196-059b2d3261e2",
   "metadata": {
    "kernel": "Bash"
   },
   "outputs": [
    {
     "name": "stdout",
     "output_type": "stream",
     "text": [
      "\n"
     ]
    }
   ],
   "source": [
    "for file in `ls -v ~/UKBiobank/data/exome_files/project_VCF/072721_run/stats/ukb23156_c10_b*_v1.stats_bcftools |  tr \"\\n\" \" \"` ; \n",
    "do \n",
    "    cat $file | grep \"^SN\" | awk '{print $5, $6, $7, $8}' | awk -F': ' '{print $2}' | xargs -n9 >> ~/chr10_original.txt ;\n",
    "done"
   ]
  },
  {
   "cell_type": "code",
   "execution_count": 10,
   "id": "7877de04-2855-47f5-8a93-471f89b60e5b",
   "metadata": {
    "kernel": "Bash"
   },
   "outputs": [
    {
     "name": "stdout",
     "output_type": "stream",
     "text": [
      "\n"
     ]
    }
   ],
   "source": [
    "for file in `ls -v ~/UKBiobank/data/exome_files/project_VCF/072721_run/stats/ukb23156_c11_b*_v1.stats_bcftools |  tr \"\\n\" \" \"` ; \n",
    "do \n",
    "    cat $file | grep \"^SN\" | awk '{print $5, $6, $7, $8}' | awk -F': ' '{print $2}' | xargs -n9 >> ~/chr11_original.txt ;\n",
    "done"
   ]
  },
  {
   "cell_type": "code",
   "execution_count": 11,
   "id": "5a7fd295-7846-4482-8ed6-8d2c4fc19a28",
   "metadata": {
    "kernel": "Bash"
   },
   "outputs": [
    {
     "name": "stdout",
     "output_type": "stream",
     "text": [
      "\n"
     ]
    }
   ],
   "source": [
    "for file in `ls -v ~/UKBiobank/data/exome_files/project_VCF/072721_run/stats/ukb23156_c12_b*_v1.stats_bcftools |  tr \"\\n\" \" \"` ; \n",
    "do \n",
    "    cat $file | grep \"^SN\" | awk '{print $5, $6, $7, $8}' | awk -F': ' '{print $2}' | xargs -n9 >> ~/chr12_original.txt ;\n",
    "done"
   ]
  },
  {
   "cell_type": "code",
   "execution_count": 12,
   "id": "aa4e1ad3-832a-4fae-b04f-5ae0631b4b27",
   "metadata": {
    "kernel": "Bash"
   },
   "outputs": [
    {
     "name": "stdout",
     "output_type": "stream",
     "text": [
      "\n"
     ]
    }
   ],
   "source": [
    "for file in `ls -v ~/UKBiobank/data/exome_files/project_VCF/072721_run/stats/ukb23156_c13_b*_v1.stats_bcftools |  tr \"\\n\" \" \"` ; \n",
    "do \n",
    "    cat $file | grep \"^SN\" | awk '{print $5, $6, $7, $8}' | awk -F': ' '{print $2}' | xargs -n9 >> ~/chr13_original.txt ;\n",
    "done"
   ]
  },
  {
   "cell_type": "code",
   "execution_count": 13,
   "id": "2c987838-4d7c-42a0-a0ec-518c90581c6a",
   "metadata": {
    "kernel": "Bash"
   },
   "outputs": [
    {
     "name": "stdout",
     "output_type": "stream",
     "text": [
      "\n"
     ]
    }
   ],
   "source": [
    "for file in `ls -v ~/UKBiobank/data/exome_files/project_VCF/072721_run/stats/ukb23156_c14_b*_v1.stats_bcftools |  tr \"\\n\" \" \"` ; \n",
    "do \n",
    "    cat $file | grep \"^SN\" | awk '{print $5, $6, $7, $8}' | awk -F': ' '{print $2}' | xargs -n9 >> ~/chr14_original.txt ;\n",
    "done"
   ]
  },
  {
   "cell_type": "code",
   "execution_count": 14,
   "id": "46ee4e9d-1899-4d17-85c0-6cfcd62b15b3",
   "metadata": {
    "kernel": "Bash"
   },
   "outputs": [
    {
     "name": "stdout",
     "output_type": "stream",
     "text": [
      "\n"
     ]
    }
   ],
   "source": [
    "for file in `ls -v ~/UKBiobank/data/exome_files/project_VCF/072721_run/stats/ukb23156_c15_b*_v1.stats_bcftools |  tr \"\\n\" \" \"` ; \n",
    "do \n",
    "    cat $file | grep \"^SN\" | awk '{print $5, $6, $7, $8}' | awk -F': ' '{print $2}' | xargs -n9 >> ~/chr15_original.txt ;\n",
    "done"
   ]
  },
  {
   "cell_type": "code",
   "execution_count": 15,
   "id": "e8c1fe23-5461-472d-a66a-7d83f6cdfead",
   "metadata": {
    "kernel": "Bash"
   },
   "outputs": [
    {
     "name": "stdout",
     "output_type": "stream",
     "text": [
      "\n"
     ]
    }
   ],
   "source": [
    "for file in `ls -v ~/UKBiobank/data/exome_files/project_VCF/072721_run/stats/ukb23156_c16_b*_v1.stats_bcftools |  tr \"\\n\" \" \"` ; \n",
    "do \n",
    "    cat $file | grep \"^SN\" | awk '{print $5, $6, $7, $8}' | awk -F': ' '{print $2}' | xargs -n9 >> ~/chr16_original.txt ;\n",
    "done"
   ]
  },
  {
   "cell_type": "code",
   "execution_count": 16,
   "id": "42eac194-b199-46de-b0e4-e75d613dc6b4",
   "metadata": {
    "kernel": "Bash"
   },
   "outputs": [
    {
     "name": "stdout",
     "output_type": "stream",
     "text": [
      "\n"
     ]
    }
   ],
   "source": [
    "for file in `ls -v ~/UKBiobank/data/exome_files/project_VCF/072721_run/stats/ukb23156_c17_b*_v1.stats_bcftools |  tr \"\\n\" \" \"` ; \n",
    "do \n",
    "    cat $file | grep \"^SN\" | awk '{print $5, $6, $7, $8}' | awk -F': ' '{print $2}' | xargs -n9 >> ~/chr17_original.txt ;\n",
    "done"
   ]
  },
  {
   "cell_type": "code",
   "execution_count": 17,
   "id": "5722cd5e-8f73-4386-baff-a92523c6a7a8",
   "metadata": {
    "kernel": "Bash"
   },
   "outputs": [
    {
     "name": "stdout",
     "output_type": "stream",
     "text": [
      "\n"
     ]
    }
   ],
   "source": [
    "for file in `ls -v ~/UKBiobank/data/exome_files/project_VCF/072721_run/stats/ukb23156_c18_b*_v1.stats_bcftools |  tr \"\\n\" \" \"` ; \n",
    "do \n",
    "    cat $file | grep \"^SN\" | awk '{print $5, $6, $7, $8}' | awk -F': ' '{print $2}' | xargs -n9 >> ~/chr18_original.txt ;\n",
    "done"
   ]
  },
  {
   "cell_type": "code",
   "execution_count": 18,
   "id": "5388313a-c3af-4a74-9115-fab733ab5697",
   "metadata": {
    "kernel": "Bash"
   },
   "outputs": [
    {
     "name": "stdout",
     "output_type": "stream",
     "text": [
      "\n"
     ]
    }
   ],
   "source": [
    "for file in `ls -v ~/UKBiobank/data/exome_files/project_VCF/072721_run/stats/ukb23156_c19_b*_v1.stats_bcftools |  tr \"\\n\" \" \"` ; \n",
    "do \n",
    "    cat $file | grep \"^SN\" | awk '{print $5, $6, $7, $8}' | awk -F': ' '{print $2}' | xargs -n9 >> ~/chr19_original.txt ;\n",
    "done"
   ]
  },
  {
   "cell_type": "code",
   "execution_count": 19,
   "id": "836fe811-16e5-4a15-86b0-1a22c6b47d27",
   "metadata": {
    "kernel": "Bash"
   },
   "outputs": [
    {
     "name": "stdout",
     "output_type": "stream",
     "text": [
      "\n"
     ]
    }
   ],
   "source": [
    "for file in `ls -v ~/UKBiobank/data/exome_files/project_VCF/072721_run/stats/ukb23156_c20_b*_v1.stats_bcftools |  tr \"\\n\" \" \"` ; \n",
    "do \n",
    "    cat $file | grep \"^SN\" | awk '{print $5, $6, $7, $8}' | awk -F': ' '{print $2}' | xargs -n9 >> ~/chr20_original.txt ;\n",
    "done"
   ]
  },
  {
   "cell_type": "code",
   "execution_count": 20,
   "id": "04dab71b-12eb-4bae-9aec-55aae1b8272c",
   "metadata": {
    "kernel": "Bash"
   },
   "outputs": [
    {
     "name": "stdout",
     "output_type": "stream",
     "text": [
      "\n"
     ]
    }
   ],
   "source": [
    "for file in `ls -v ~/UKBiobank/data/exome_files/project_VCF/072721_run/stats/ukb23156_c21_b*_v1.stats_bcftools |  tr \"\\n\" \" \"` ; \n",
    "do \n",
    "    cat $file | grep \"^SN\" | awk '{print $5, $6, $7, $8}' | awk -F': ' '{print $2}' | xargs -n9 >> ~/chr21_original.txt ;\n",
    "done"
   ]
  },
  {
   "cell_type": "code",
   "execution_count": 21,
   "id": "40bf07fc-f8f1-45bb-abbd-ff87e167092f",
   "metadata": {
    "kernel": "Bash"
   },
   "outputs": [
    {
     "name": "stdout",
     "output_type": "stream",
     "text": [
      "\n"
     ]
    }
   ],
   "source": [
    "for file in `ls -v ~/UKBiobank/data/exome_files/project_VCF/072721_run/stats/ukb23156_c22_b*_v1.stats_bcftools |  tr \"\\n\" \" \"` ; \n",
    "do \n",
    "    cat $file | grep \"^SN\" | awk '{print $5, $6, $7, $8}' | awk -F': ' '{print $2}' | xargs -n9 >> ~/chr22_original.txt ;\n",
    "done"
   ]
  },
  {
   "cell_type": "markdown",
   "id": "63351357-75ff-48a0-99e8-a621fd3aa871",
   "metadata": {
    "kernel": "Bash"
   },
   "source": [
    "# Get the stats after leftnorm without filtering"
   ]
  },
  {
   "cell_type": "code",
   "execution_count": 1,
   "id": "810c4ca5-6810-4f6f-887d-d491c593bc9e",
   "metadata": {
    "kernel": "Bash",
    "tags": []
   },
   "outputs": [
    {
     "name": "stderr",
     "output_type": "stream",
     "text": [
      "/home/dmc2245/miniconda3/lib/python3.8/site-packages/sos_notebook/kernel.py:1334: DeprecationWarning: Kernel._parent_header is deprecated in ipykernel 6. Use .get_parent()\n",
      "  msg['msg_id'] = self._parent_header['header']['msg_id']\n"
     ]
    },
    {
     "name": "stdout",
     "output_type": "stream",
     "text": [
      "\n"
     ]
    }
   ],
   "source": [
    "for file in `ls -v ~/UKBiobank/data/exome_files/project_VCF/072721_run/stats/ukb23156_c1_b*_v1.leftnorm.stats_bcftools.maf |  tr \"\\n\" \" \"` ; \n",
    "do \n",
    "    cat $file | grep \"^SN\" | awk '{print $5, $6, $7, $8}' | awk -F': ' '{print $2}' | xargs -n9 >> ~/chr1_leftnorm.txt;\n",
    "done"
   ]
  },
  {
   "cell_type": "code",
   "execution_count": 2,
   "id": "350aae17-6044-4bea-a89c-768798f02af2",
   "metadata": {
    "kernel": "Bash"
   },
   "outputs": [
    {
     "name": "stdout",
     "output_type": "stream",
     "text": [
      "\n"
     ]
    }
   ],
   "source": [
    "for file in `ls -v ~/UKBiobank/data/exome_files/project_VCF/072721_run/stats/ukb23156_c2_b*_v1.leftnorm.stats_bcftools.maf |  tr \"\\n\" \" \"` ; \n",
    "do \n",
    "    cat $file | grep \"^SN\" | awk '{print $5, $6, $7, $8}' | awk -F': ' '{print $2}' | xargs -n9 >> ~/chr2_leftnorm.txt; \n",
    "done"
   ]
  },
  {
   "cell_type": "code",
   "execution_count": 3,
   "id": "84d23653-e4e9-45e3-b1ce-e95802d808f9",
   "metadata": {
    "kernel": "Bash",
    "scrolled": true,
    "tags": []
   },
   "outputs": [
    {
     "name": "stdout",
     "output_type": "stream",
     "text": [
      "ukb23156_c3_b0_v1.leftnorm.stats_bcftools.maf\n",
      "ukb23156_c3_b1_v1.leftnorm.stats_bcftools.maf\n",
      "ukb23156_c3_b2_v1.leftnorm.stats_bcftools.maf\n",
      "ukb23156_c3_b3_v1.leftnorm.stats_bcftools.maf\n",
      "ukb23156_c3_b4_v1.leftnorm.stats_bcftools.maf\n",
      "ukb23156_c3_b5_v1.leftnorm.stats_bcftools.maf\n",
      "ukb23156_c3_b6_v1.leftnorm.stats_bcftools.maf\n",
      "ukb23156_c3_b7_v1.leftnorm.stats_bcftools.maf\n",
      "ukb23156_c3_b8_v1.leftnorm.stats_bcftools.maf\n",
      "ukb23156_c3_b9_v1.leftnorm.stats_bcftools.maf\n",
      "ukb23156_c3_b10_v1.leftnorm.stats_bcftools.maf\n",
      "ukb23156_c3_b11_v1.leftnorm.stats_bcftools.maf\n",
      "ukb23156_c3_b12_v1.leftnorm.stats_bcftools.maf\n",
      "ukb23156_c3_b13_v1.leftnorm.stats_bcftools.maf\n",
      "ukb23156_c3_b14_v1.leftnorm.stats_bcftools.maf\n",
      "ukb23156_c3_b15_v1.leftnorm.stats_bcftools.maf\n",
      "ukb23156_c3_b16_v1.leftnorm.stats_bcftools.maf\n",
      "ukb23156_c3_b17_v1.leftnorm.stats_bcftools.maf\n",
      "ukb23156_c3_b18_v1.leftnorm.stats_bcftools.maf\n",
      "ukb23156_c3_b19_v1.leftnorm.stats_bcftools.maf\n",
      "ukb23156_c3_b20_v1.leftnorm.stats_bcftools.maf\n",
      "ukb23156_c3_b21_v1.leftnorm.stats_bcftools.maf\n",
      "ukb23156_c3_b22_v1.leftnorm.stats_bcftools.maf\n",
      "ukb23156_c3_b23_v1.leftnorm.stats_bcftools.maf\n",
      "ukb23156_c3_b24_v1.leftnorm.stats_bcftools.maf\n",
      "ukb23156_c3_b25_v1.leftnorm.stats_bcftools.maf\n",
      "ukb23156_c3_b26_v1.leftnorm.stats_bcftools.maf\n",
      "ukb23156_c3_b27_v1.leftnorm.stats_bcftools.maf\n",
      "ukb23156_c3_b28_v1.leftnorm.stats_bcftools.maf\n",
      "ukb23156_c3_b29_v1.leftnorm.stats_bcftools.maf\n",
      "ukb23156_c3_b30_v1.leftnorm.stats_bcftools.maf\n",
      "ukb23156_c3_b31_v1.leftnorm.stats_bcftools.maf\n",
      "ukb23156_c3_b32_v1.leftnorm.stats_bcftools.maf\n",
      "ukb23156_c3_b33_v1.leftnorm.stats_bcftools.maf\n",
      "ukb23156_c3_b34_v1.leftnorm.stats_bcftools.maf\n",
      "ukb23156_c3_b35_v1.leftnorm.stats_bcftools.maf\n",
      "ukb23156_c3_b36_v1.leftnorm.stats_bcftools.maf\n",
      "ukb23156_c3_b37_v1.leftnorm.stats_bcftools.maf\n",
      "ukb23156_c3_b38_v1.leftnorm.stats_bcftools.maf\n",
      "ukb23156_c3_b39_v1.leftnorm.stats_bcftools.maf\n",
      "ukb23156_c3_b40_v1.leftnorm.stats_bcftools.maf\n",
      "ukb23156_c3_b41_v1.leftnorm.stats_bcftools.maf\n",
      "ukb23156_c3_b42_v1.leftnorm.stats_bcftools.maf\n",
      "ukb23156_c3_b43_v1.leftnorm.stats_bcftools.maf\n",
      "ukb23156_c3_b44_v1.leftnorm.stats_bcftools.maf\n",
      "ukb23156_c3_b45_v1.leftnorm.stats_bcftools.maf\n",
      "ukb23156_c3_b46_v1.leftnorm.stats_bcftools.maf\n",
      "ukb23156_c3_b47_v1.leftnorm.stats_bcftools.maf\n",
      "ukb23156_c3_b48_v1.leftnorm.stats_bcftools.maf\n",
      "ukb23156_c3_b49_v1.leftnorm.stats_bcftools.maf\n",
      "ukb23156_c3_b50_v1.leftnorm.stats_bcftools.maf\n",
      "ukb23156_c3_b51_v1.leftnorm.stats_bcftools.maf\n",
      "ukb23156_c3_b52_v1.leftnorm.stats_bcftools.maf\n",
      "ukb23156_c3_b53_v1.leftnorm.stats_bcftools.maf\n",
      "ukb23156_c3_b54_v1.leftnorm.stats_bcftools.maf\n",
      "ukb23156_c3_b55_v1.leftnorm.stats_bcftools.maf\n",
      "\n"
     ]
    }
   ],
   "source": [
    "for file in `ls -v ~/UKBiobank/data/exome_files/project_VCF/072721_run/stats/ukb23156_c3_b*_v1.leftnorm.stats_bcftools.maf |  tr \"\\n\" \" \"` ; \n",
    "do \n",
    "    cat $file | grep \"^SN\" | awk '{print $5, $6, $7, $8}' | awk -F': ' '{print $2}' | xargs -n9 >> ~/chr3_leftnorm.txt\n",
    "    basename $file; \n",
    "done"
   ]
  },
  {
   "cell_type": "code",
   "execution_count": 4,
   "id": "855c89b4-9934-4680-8435-cd0423a73cdc",
   "metadata": {
    "kernel": "Bash",
    "scrolled": true,
    "tags": []
   },
   "outputs": [
    {
     "name": "stdout",
     "output_type": "stream",
     "text": [
      "ukb23156_c4_b0_v1.leftnorm.stats_bcftools.maf\n",
      "ukb23156_c4_b1_v1.leftnorm.stats_bcftools.maf\n",
      "ukb23156_c4_b2_v1.leftnorm.stats_bcftools.maf\n",
      "ukb23156_c4_b3_v1.leftnorm.stats_bcftools.maf\n",
      "ukb23156_c4_b4_v1.leftnorm.stats_bcftools.maf\n",
      "ukb23156_c4_b5_v1.leftnorm.stats_bcftools.maf\n",
      "ukb23156_c4_b6_v1.leftnorm.stats_bcftools.maf\n",
      "ukb23156_c4_b7_v1.leftnorm.stats_bcftools.maf\n",
      "ukb23156_c4_b8_v1.leftnorm.stats_bcftools.maf\n",
      "ukb23156_c4_b9_v1.leftnorm.stats_bcftools.maf\n",
      "ukb23156_c4_b10_v1.leftnorm.stats_bcftools.maf\n",
      "ukb23156_c4_b11_v1.leftnorm.stats_bcftools.maf\n",
      "ukb23156_c4_b12_v1.leftnorm.stats_bcftools.maf\n",
      "ukb23156_c4_b13_v1.leftnorm.stats_bcftools.maf\n",
      "ukb23156_c4_b14_v1.leftnorm.stats_bcftools.maf\n",
      "ukb23156_c4_b15_v1.leftnorm.stats_bcftools.maf\n",
      "ukb23156_c4_b16_v1.leftnorm.stats_bcftools.maf\n",
      "ukb23156_c4_b17_v1.leftnorm.stats_bcftools.maf\n",
      "ukb23156_c4_b18_v1.leftnorm.stats_bcftools.maf\n",
      "ukb23156_c4_b19_v1.leftnorm.stats_bcftools.maf\n",
      "ukb23156_c4_b20_v1.leftnorm.stats_bcftools.maf\n",
      "ukb23156_c4_b21_v1.leftnorm.stats_bcftools.maf\n",
      "ukb23156_c4_b22_v1.leftnorm.stats_bcftools.maf\n",
      "ukb23156_c4_b23_v1.leftnorm.stats_bcftools.maf\n",
      "ukb23156_c4_b24_v1.leftnorm.stats_bcftools.maf\n",
      "ukb23156_c4_b25_v1.leftnorm.stats_bcftools.maf\n",
      "ukb23156_c4_b26_v1.leftnorm.stats_bcftools.maf\n",
      "ukb23156_c4_b27_v1.leftnorm.stats_bcftools.maf\n",
      "ukb23156_c4_b28_v1.leftnorm.stats_bcftools.maf\n",
      "ukb23156_c4_b29_v1.leftnorm.stats_bcftools.maf\n",
      "ukb23156_c4_b30_v1.leftnorm.stats_bcftools.maf\n",
      "ukb23156_c4_b31_v1.leftnorm.stats_bcftools.maf\n",
      "ukb23156_c4_b32_v1.leftnorm.stats_bcftools.maf\n",
      "ukb23156_c4_b33_v1.leftnorm.stats_bcftools.maf\n",
      "ukb23156_c4_b34_v1.leftnorm.stats_bcftools.maf\n",
      "ukb23156_c4_b35_v1.leftnorm.stats_bcftools.maf\n",
      "ukb23156_c4_b36_v1.leftnorm.stats_bcftools.maf\n",
      "ukb23156_c4_b37_v1.leftnorm.stats_bcftools.maf\n",
      "ukb23156_c4_b38_v1.leftnorm.stats_bcftools.maf\n",
      "\n"
     ]
    }
   ],
   "source": [
    "for file in `ls -v ~/UKBiobank/data/exome_files/project_VCF/072721_run/stats/ukb23156_c4_b*_v1.leftnorm.stats_bcftools.maf  |  tr \"\\n\" \" \"` ; \n",
    "do \n",
    "    cat $file | grep \"^SN\" | awk '{print $5, $6, $7, $8}' | awk -F': ' '{print $2}' | xargs -n9 >> ~/chr4_leftnorm.txt\n",
    "    basename $file ; \n",
    "done"
   ]
  },
  {
   "cell_type": "code",
   "execution_count": 5,
   "id": "5e083475-2fd8-4b4e-94ed-9cc8317ea386",
   "metadata": {
    "kernel": "Bash",
    "scrolled": true,
    "tags": []
   },
   "outputs": [
    {
     "name": "stdout",
     "output_type": "stream",
     "text": [
      "ukb23156_c5_b0_v1.leftnorm.stats_bcftools.maf\n",
      "ukb23156_c5_b1_v1.leftnorm.stats_bcftools.maf\n",
      "ukb23156_c5_b2_v1.leftnorm.stats_bcftools.maf\n",
      "ukb23156_c5_b3_v1.leftnorm.stats_bcftools.maf\n",
      "ukb23156_c5_b4_v1.leftnorm.stats_bcftools.maf\n",
      "ukb23156_c5_b5_v1.leftnorm.stats_bcftools.maf\n",
      "ukb23156_c5_b6_v1.leftnorm.stats_bcftools.maf\n",
      "ukb23156_c5_b7_v1.leftnorm.stats_bcftools.maf\n",
      "ukb23156_c5_b8_v1.leftnorm.stats_bcftools.maf\n",
      "ukb23156_c5_b9_v1.leftnorm.stats_bcftools.maf\n",
      "ukb23156_c5_b10_v1.leftnorm.stats_bcftools.maf\n",
      "ukb23156_c5_b11_v1.leftnorm.stats_bcftools.maf\n",
      "ukb23156_c5_b12_v1.leftnorm.stats_bcftools.maf\n",
      "ukb23156_c5_b13_v1.leftnorm.stats_bcftools.maf\n",
      "ukb23156_c5_b14_v1.leftnorm.stats_bcftools.maf\n",
      "ukb23156_c5_b15_v1.leftnorm.stats_bcftools.maf\n",
      "ukb23156_c5_b16_v1.leftnorm.stats_bcftools.maf\n",
      "ukb23156_c5_b17_v1.leftnorm.stats_bcftools.maf\n",
      "ukb23156_c5_b18_v1.leftnorm.stats_bcftools.maf\n",
      "ukb23156_c5_b19_v1.leftnorm.stats_bcftools.maf\n",
      "ukb23156_c5_b20_v1.leftnorm.stats_bcftools.maf\n",
      "ukb23156_c5_b21_v1.leftnorm.stats_bcftools.maf\n",
      "ukb23156_c5_b22_v1.leftnorm.stats_bcftools.maf\n",
      "ukb23156_c5_b23_v1.leftnorm.stats_bcftools.maf\n",
      "ukb23156_c5_b24_v1.leftnorm.stats_bcftools.maf\n",
      "ukb23156_c5_b25_v1.leftnorm.stats_bcftools.maf\n",
      "ukb23156_c5_b26_v1.leftnorm.stats_bcftools.maf\n",
      "ukb23156_c5_b27_v1.leftnorm.stats_bcftools.maf\n",
      "ukb23156_c5_b28_v1.leftnorm.stats_bcftools.maf\n",
      "ukb23156_c5_b29_v1.leftnorm.stats_bcftools.maf\n",
      "ukb23156_c5_b30_v1.leftnorm.stats_bcftools.maf\n",
      "ukb23156_c5_b31_v1.leftnorm.stats_bcftools.maf\n",
      "ukb23156_c5_b32_v1.leftnorm.stats_bcftools.maf\n",
      "ukb23156_c5_b33_v1.leftnorm.stats_bcftools.maf\n",
      "ukb23156_c5_b34_v1.leftnorm.stats_bcftools.maf\n",
      "ukb23156_c5_b35_v1.leftnorm.stats_bcftools.maf\n",
      "ukb23156_c5_b36_v1.leftnorm.stats_bcftools.maf\n",
      "ukb23156_c5_b37_v1.leftnorm.stats_bcftools.maf\n",
      "ukb23156_c5_b38_v1.leftnorm.stats_bcftools.maf\n",
      "ukb23156_c5_b39_v1.leftnorm.stats_bcftools.maf\n",
      "ukb23156_c5_b40_v1.leftnorm.stats_bcftools.maf\n",
      "ukb23156_c5_b41_v1.leftnorm.stats_bcftools.maf\n",
      "ukb23156_c5_b42_v1.leftnorm.stats_bcftools.maf\n",
      "\n"
     ]
    }
   ],
   "source": [
    "for file in `ls -v ~/UKBiobank/data/exome_files/project_VCF/072721_run/stats/ukb23156_c5_b*_v1.leftnorm.stats_bcftools.maf |  tr \"\\n\" \" \"` ; \n",
    "do \n",
    "    cat $file | grep \"^SN\" | awk '{print $5, $6, $7, $8}' | awk -F': ' '{print $2}' | xargs -n9 >> ~/chr5_leftnorm.txt\n",
    "    basename $file; \n",
    "done"
   ]
  },
  {
   "cell_type": "code",
   "execution_count": 6,
   "id": "53bf436e-018f-4ac8-b56b-c73b5adc42f8",
   "metadata": {
    "kernel": "Bash"
   },
   "outputs": [
    {
     "name": "stdout",
     "output_type": "stream",
     "text": [
      "\n"
     ]
    }
   ],
   "source": [
    "for file in `ls -v ~/UKBiobank/data/exome_files/project_VCF/072721_run/stats/ukb23156_c6_b*_v1.leftnorm.stats_bcftools.maf |  tr \"\\n\" \" \"` ; \n",
    "do \n",
    "    cat $file | grep \"^SN\" | awk '{print $5, $6, $7, $8}' | awk -F': ' '{print $2}' | xargs -n9 >> ~/chr6_leftnorm.txt ;\n",
    "done"
   ]
  },
  {
   "cell_type": "code",
   "execution_count": 7,
   "id": "85484c2c-e448-49fe-83bb-a8993bd685cd",
   "metadata": {
    "kernel": "Bash"
   },
   "outputs": [
    {
     "name": "stdout",
     "output_type": "stream",
     "text": [
      "\n"
     ]
    }
   ],
   "source": [
    "for file in `ls -v ~/UKBiobank/data/exome_files/project_VCF/072721_run/stats/ukb23156_c7_b*_v1.leftnorm.stats_bcftools.maf |  tr \"\\n\" \" \"` ; \n",
    "do \n",
    "    cat $file | grep \"^SN\" | awk '{print $5, $6, $7, $8}' | awk -F': ' '{print $2}' | xargs -n9 >> ~/chr7_leftnorm.txt ;\n",
    "done"
   ]
  },
  {
   "cell_type": "code",
   "execution_count": 8,
   "id": "711ed073-f525-47a8-9b27-03888ca0d583",
   "metadata": {
    "kernel": "Bash"
   },
   "outputs": [
    {
     "name": "stdout",
     "output_type": "stream",
     "text": [
      "\n"
     ]
    }
   ],
   "source": [
    "for file in `ls -v ~/UKBiobank/data/exome_files/project_VCF/072721_run/stats/ukb23156_c8_b*_v1.leftnorm.stats_bcftools.maf |  tr \"\\n\" \" \"` ; \n",
    "do \n",
    "    cat $file | grep \"^SN\" | awk '{print $5, $6, $7, $8}' | awk -F': ' '{print $2}' | xargs -n9 >> ~/chr8_leftnorm.txt ;\n",
    "done"
   ]
  },
  {
   "cell_type": "code",
   "execution_count": 9,
   "id": "c62d292a-8e2f-4d3e-907f-15a30205bb5a",
   "metadata": {
    "kernel": "Bash"
   },
   "outputs": [
    {
     "name": "stdout",
     "output_type": "stream",
     "text": [
      "\n"
     ]
    }
   ],
   "source": [
    "for file in `ls -v ~/UKBiobank/data/exome_files/project_VCF/072721_run/stats/ukb23156_c9_b*_v1.leftnorm.stats_bcftools.maf |  tr \"\\n\" \" \"` ; \n",
    "do \n",
    "    cat $file | grep \"^SN\" | awk '{print $5, $6, $7, $8}' | awk -F': ' '{print $2}' | xargs -n9 >> ~/chr9_leftnorm.txt ;\n",
    "done"
   ]
  },
  {
   "cell_type": "code",
   "execution_count": 10,
   "id": "cc388a6d-ac15-47bb-91aa-ec3ab179f8f4",
   "metadata": {
    "kernel": "Bash"
   },
   "outputs": [
    {
     "name": "stdout",
     "output_type": "stream",
     "text": [
      "\n"
     ]
    }
   ],
   "source": [
    "for file in `ls -v ~/UKBiobank/data/exome_files/project_VCF/072721_run/stats/ukb23156_c10_b*_v1.leftnorm.stats_bcftools.maf |  tr \"\\n\" \" \"` ; \n",
    "do \n",
    "    cat $file | grep \"^SN\" | awk '{print $5, $6, $7, $8}' | awk -F': ' '{print $2}' | xargs -n9 >> ~/chr10_leftnorm.txt ;\n",
    "done"
   ]
  },
  {
   "cell_type": "code",
   "execution_count": 11,
   "id": "87266b31-8fb2-4651-bba1-71f200cbe663",
   "metadata": {
    "kernel": "Bash"
   },
   "outputs": [
    {
     "name": "stdout",
     "output_type": "stream",
     "text": [
      "\n"
     ]
    }
   ],
   "source": [
    "for file in `ls -v ~/UKBiobank/data/exome_files/project_VCF/072721_run/stats/ukb23156_c11_b*_v1.leftnorm.stats_bcftools.maf |  tr \"\\n\" \" \"` ; \n",
    "do \n",
    "    cat $file | grep \"^SN\" | awk '{print $5, $6, $7, $8}' | awk -F': ' '{print $2}' | xargs -n9 >> ~/chr11_leftnorm.txt ;\n",
    "done"
   ]
  },
  {
   "cell_type": "code",
   "execution_count": 12,
   "id": "4a21fddd-2916-4e0a-8006-6c3338913e85",
   "metadata": {
    "kernel": "Bash"
   },
   "outputs": [
    {
     "name": "stdout",
     "output_type": "stream",
     "text": [
      "\n"
     ]
    }
   ],
   "source": [
    "for file in `ls -v ~/UKBiobank/data/exome_files/project_VCF/072721_run/stats/ukb23156_c12_b*_v1.leftnorm.stats_bcftools.maf |  tr \"\\n\" \" \"` ; \n",
    "do \n",
    "    cat $file | grep \"^SN\" | awk '{print $5, $6, $7, $8}' | awk -F': ' '{print $2}' | xargs -n9 >> ~/chr12_leftnorm.txt ;\n",
    "done"
   ]
  },
  {
   "cell_type": "code",
   "execution_count": 13,
   "id": "5140dd2e-5eba-4131-800d-8fc3d8c12d94",
   "metadata": {
    "kernel": "Bash"
   },
   "outputs": [
    {
     "name": "stdout",
     "output_type": "stream",
     "text": [
      "\n"
     ]
    }
   ],
   "source": [
    "for file in `ls -v ~/UKBiobank/data/exome_files/project_VCF/072721_run/stats/ukb23156_c13_b*_v1.leftnorm.stats_bcftools.maf |  tr \"\\n\" \" \"` ; \n",
    "do \n",
    "    cat $file | grep \"^SN\" | awk '{print $5, $6, $7, $8}' | awk -F': ' '{print $2}' | xargs -n9 >> ~/chr13_leftnorm.txt ;\n",
    "done"
   ]
  },
  {
   "cell_type": "code",
   "execution_count": 15,
   "id": "2f5f6a37-54bb-4861-b292-29d5cf65c8d7",
   "metadata": {
    "kernel": "Bash"
   },
   "outputs": [
    {
     "name": "stdout",
     "output_type": "stream",
     "text": [
      "\n"
     ]
    }
   ],
   "source": [
    "for file in `ls -v ~/UKBiobank/data/exome_files/project_VCF/072721_run/stats/ukb23156_c14_b*_v1.leftnorm.stats_bcftools.maf |  tr \"\\n\" \" \"` ; \n",
    "do \n",
    "    cat $file | grep \"^SN\" | awk '{print $5, $6, $7, $8}' | awk -F': ' '{print $2}' | xargs -n9 >> ~/chr14_leftnorm.txt ;\n",
    "done"
   ]
  },
  {
   "cell_type": "code",
   "execution_count": 24,
   "id": "e99d42a1-123a-4d9c-a0bb-5e698e606e6f",
   "metadata": {
    "kernel": "Bash"
   },
   "outputs": [
    {
     "name": "stdout",
     "output_type": "stream",
     "text": [
      "\n"
     ]
    }
   ],
   "source": [
    "for file in `ls -v ~/UKBiobank/data/exome_files/project_VCF/072721_run/stats/ukb23156_c15_b*_v1.leftnorm.stats_bcftools.maf|  tr \"\\n\" \" \"` ; \n",
    "do \n",
    "    cat $file | grep \"^SN\" | awk '{print $5, $6, $7, $8}' | awk -F': ' '{print $2}' | xargs -n9 >> ~/chr15_leftnorm.txt ;\n",
    "done"
   ]
  },
  {
   "cell_type": "code",
   "execution_count": 17,
   "id": "f6a02bb5-8fd9-4de0-ac84-b1db9addafcd",
   "metadata": {
    "kernel": "Bash"
   },
   "outputs": [
    {
     "name": "stdout",
     "output_type": "stream",
     "text": [
      "\n"
     ]
    }
   ],
   "source": [
    "for file in `ls -v ~/UKBiobank/data/exome_files/project_VCF/072721_run/stats/ukb23156_c16_b*_v1.leftnorm.stats_bcftools.maf |  tr \"\\n\" \" \"` ; \n",
    "do \n",
    "    cat $file | grep \"^SN\" | awk '{print $5, $6, $7, $8}' | awk -F': ' '{print $2}' | xargs -n9 >> ~/chr16_leftnorm.txt ;\n",
    "done"
   ]
  },
  {
   "cell_type": "code",
   "execution_count": 18,
   "id": "03aa823c-c274-4514-82b2-792875214f1b",
   "metadata": {
    "kernel": "Bash"
   },
   "outputs": [
    {
     "name": "stdout",
     "output_type": "stream",
     "text": [
      "\n"
     ]
    }
   ],
   "source": [
    "for file in `ls -v ~/UKBiobank/data/exome_files/project_VCF/072721_run/stats/ukb23156_c17_b*_v1.leftnorm.stats_bcftools.maf|  tr \"\\n\" \" \"` ; \n",
    "do \n",
    "    cat $file | grep \"^SN\" | awk '{print $5, $6, $7, $8}' | awk -F': ' '{print $2}' | xargs -n9 >> ~/chr17_leftnorm.txt ;\n",
    "done"
   ]
  },
  {
   "cell_type": "code",
   "execution_count": 19,
   "id": "86712e71-80ef-43f1-94a5-78e79a95ec90",
   "metadata": {
    "kernel": "Bash"
   },
   "outputs": [
    {
     "name": "stdout",
     "output_type": "stream",
     "text": [
      "\n"
     ]
    }
   ],
   "source": [
    "for file in `ls -v ~/UKBiobank/data/exome_files/project_VCF/072721_run/stats/ukb23156_c18_b*_v1.leftnorm.stats_bcftools.maf |  tr \"\\n\" \" \"` ; \n",
    "do \n",
    "    cat $file | grep \"^SN\" | awk '{print $5, $6, $7, $8}' | awk -F': ' '{print $2}' | xargs -n9 >> ~/chr18_leftnorm.txt ;\n",
    "done"
   ]
  },
  {
   "cell_type": "code",
   "execution_count": 20,
   "id": "438182b3-706c-43e6-ad9f-1992b65700a5",
   "metadata": {
    "kernel": "Bash"
   },
   "outputs": [
    {
     "name": "stdout",
     "output_type": "stream",
     "text": [
      "\n"
     ]
    }
   ],
   "source": [
    "for file in `ls -v ~/UKBiobank/data/exome_files/project_VCF/072721_run/stats/ukb23156_c19_b*_v1.leftnorm.stats_bcftools.maf|  tr \"\\n\" \" \"` ; \n",
    "do \n",
    "    cat $file | grep \"^SN\" | awk '{print $5, $6, $7, $8}' | awk -F': ' '{print $2}' | xargs -n9 >> ~/chr19_leftnorm.txt ;\n",
    "done"
   ]
  },
  {
   "cell_type": "code",
   "execution_count": 21,
   "id": "f97aa447-5715-4d4f-af75-5c39755bd565",
   "metadata": {
    "kernel": "Bash"
   },
   "outputs": [
    {
     "name": "stdout",
     "output_type": "stream",
     "text": [
      "\n"
     ]
    }
   ],
   "source": [
    "for file in `ls -v ~/UKBiobank/data/exome_files/project_VCF/072721_run/stats/ukb23156_c20_b*_v1.leftnorm.stats_bcftools.maf|  tr \"\\n\" \" \"` ; \n",
    "do \n",
    "    cat $file | grep \"^SN\" | awk '{print $5, $6, $7, $8}' | awk -F': ' '{print $2}' | xargs -n9 >> ~/chr20_leftnorm.txt ;\n",
    "done"
   ]
  },
  {
   "cell_type": "code",
   "execution_count": 22,
   "id": "c5947b84-fc0c-4f12-bc78-94c522952ef8",
   "metadata": {
    "kernel": "Bash"
   },
   "outputs": [
    {
     "name": "stdout",
     "output_type": "stream",
     "text": [
      "\n"
     ]
    }
   ],
   "source": [
    "for file in `ls -v ~/UKBiobank/data/exome_files/project_VCF/072721_run/stats/ukb23156_c21_b*_v1.leftnorm.stats_bcftools.maf |  tr \"\\n\" \" \"` ; \n",
    "do \n",
    "    cat $file | grep \"^SN\" | awk '{print $5, $6, $7, $8}' | awk -F': ' '{print $2}' | xargs -n9 >> ~/chr21_leftnorm.txt ;\n",
    "done"
   ]
  },
  {
   "cell_type": "code",
   "execution_count": 23,
   "id": "0da67af9-feca-4231-ae3b-a19e52693fa3",
   "metadata": {
    "kernel": "Bash"
   },
   "outputs": [
    {
     "name": "stdout",
     "output_type": "stream",
     "text": [
      "\n"
     ]
    }
   ],
   "source": [
    "for file in `ls -v ~/UKBiobank/data/exome_files/project_VCF/072721_run/stats/ukb23156_c22_b*_v1.leftnorm.stats_bcftools.maf |  tr \"\\n\" \" \"` ; \n",
    "do \n",
    "    cat $file | grep \"^SN\" | awk '{print $5, $6, $7, $8}' | awk -F': ' '{print $2}' | xargs -n9 >> ~/chr22_leftnorm.txt ;\n",
    "done"
   ]
  },
  {
   "cell_type": "markdown",
   "id": "9fd41808-2b7b-46c4-9221-0dfb29de9124",
   "metadata": {
    "kernel": "Bash"
   },
   "source": [
    "# Get the stats from the leftnorm filtered VCF Qc'ed data from WES UKB"
   ]
  },
  {
   "cell_type": "code",
   "execution_count": 1,
   "id": "a2b9b256-a72a-4991-ab34-8b92be909980",
   "metadata": {
    "kernel": "Bash"
   },
   "outputs": [
    {
     "name": "stderr",
     "output_type": "stream",
     "text": [
      "/home/dmc2245/miniconda3/lib/python3.8/site-packages/sos_notebook/kernel.py:1334: DeprecationWarning: Kernel._parent_header is deprecated in ipykernel 6. Use .get_parent()\n",
      "  msg['msg_id'] = self._parent_header['header']['msg_id']\n"
     ]
    },
    {
     "name": "stdout",
     "output_type": "stream",
     "text": [
      "\n"
     ]
    }
   ],
   "source": [
    "for file in `ls -v ~/UKBiobank/data/exome_files/project_VCF/072721_run/stats/ukb23156_c1_b*_v1.leftnorm.filtered.stats_bcftools |  tr \"\\n\" \" \"` ; \n",
    "do \n",
    "    cat $file | grep \"^SN\" | awk '{print $5, $6, $7, $8}' | awk -F': ' '{print $2}' | xargs -n9 >> ~/chr1_leftnorm_filtered.txt;\n",
    "done "
   ]
  },
  {
   "cell_type": "code",
   "execution_count": 2,
   "id": "94c33ec9-56e5-4888-8374-6f477807c2d0",
   "metadata": {
    "kernel": "Bash"
   },
   "outputs": [
    {
     "name": "stdout",
     "output_type": "stream",
     "text": [
      "\n"
     ]
    }
   ],
   "source": [
    "for file in `ls -v ~/UKBiobank/data/exome_files/project_VCF/072721_run/stats/ukb23156_c2_b*_v1.leftnorm.filtered.stats_bcftools |  tr \"\\n\" \" \"` ; \n",
    "do \n",
    "    cat $file | grep \"^SN\" | awk '{print $5, $6, $7, $8}' | awk -F': ' '{print $2}' | xargs -n9 >> ~/chr2_leftnorm_filtered.txt;\n",
    "done "
   ]
  },
  {
   "cell_type": "code",
   "execution_count": 3,
   "id": "fd826733-4cbe-40ec-9094-04a0a8c305af",
   "metadata": {
    "kernel": "Bash"
   },
   "outputs": [
    {
     "name": "stdout",
     "output_type": "stream",
     "text": [
      "\n"
     ]
    }
   ],
   "source": [
    "for file in `ls -v ~/UKBiobank/data/exome_files/project_VCF/072721_run/stats/ukb23156_c3_b*_v1.leftnorm.filtered.stats_bcftools |  tr \"\\n\" \" \"` ; \n",
    "do \n",
    "    cat $file | grep \"^SN\" | awk '{print $5, $6, $7, $8}' | awk -F': ' '{print $2}' | xargs -n9 >> ~/chr3_leftnorm_filtered.txt;\n",
    "done "
   ]
  },
  {
   "cell_type": "code",
   "execution_count": 4,
   "id": "5d9d93c2-b6f4-4987-8674-a74ee62a92b3",
   "metadata": {
    "kernel": "Bash"
   },
   "outputs": [
    {
     "name": "stdout",
     "output_type": "stream",
     "text": [
      "\n"
     ]
    }
   ],
   "source": [
    "for file in `ls -v ~/UKBiobank/data/exome_files/project_VCF/072721_run/stats/ukb23156_c4_b*_v1.leftnorm.filtered.stats_bcftools |  tr \"\\n\" \" \"` ; \n",
    "do \n",
    "    cat $file | grep \"^SN\" | awk '{print $5, $6, $7, $8}' | awk -F': ' '{print $2}' | xargs -n9 >> ~/chr4_leftnorm_filtered.txt;\n",
    "done "
   ]
  },
  {
   "cell_type": "code",
   "execution_count": 5,
   "id": "60d88935-d524-4cd2-8baa-537e2db398fa",
   "metadata": {
    "kernel": "Bash"
   },
   "outputs": [
    {
     "name": "stdout",
     "output_type": "stream",
     "text": [
      "\n"
     ]
    }
   ],
   "source": [
    "for file in `ls -v ~/UKBiobank/data/exome_files/project_VCF/072721_run/stats/ukb23156_c5_b*_v1.leftnorm.filtered.stats_bcftools |  tr \"\\n\" \" \"` ; \n",
    "do \n",
    "    cat $file | grep \"^SN\" | awk '{print $5, $6, $7, $8}' | awk -F': ' '{print $2}' | xargs -n9 >> ~/chr5_leftnorm_filtered.txt;\n",
    "done "
   ]
  },
  {
   "cell_type": "code",
   "execution_count": 6,
   "id": "ca397c83-07b3-4094-bb53-7e14db0aa8e9",
   "metadata": {
    "kernel": "Bash"
   },
   "outputs": [
    {
     "name": "stdout",
     "output_type": "stream",
     "text": [
      "\n"
     ]
    }
   ],
   "source": [
    "for file in `ls -v ~/UKBiobank/data/exome_files/project_VCF/072721_run/stats/ukb23156_c6_b*_v1.leftnorm.filtered.stats_bcftools |  tr \"\\n\" \" \"` ; \n",
    "do \n",
    "    cat $file | grep \"^SN\" | awk '{print $5, $6, $7, $8}' | awk -F': ' '{print $2}' | xargs -n9 >> ~/chr6_leftnorm_filtered.txt;\n",
    "done "
   ]
  },
  {
   "cell_type": "code",
   "execution_count": 7,
   "id": "776d0d9a-b99b-4ae4-b9fb-8e9fd7f22688",
   "metadata": {
    "kernel": "Bash"
   },
   "outputs": [
    {
     "name": "stdout",
     "output_type": "stream",
     "text": [
      "\n"
     ]
    }
   ],
   "source": [
    "for file in `ls -v ~/UKBiobank/data/exome_files/project_VCF/072721_run/stats/ukb23156_c7_b*_v1.leftnorm.filtered.stats_bcftools |  tr \"\\n\" \" \"` ; \n",
    "do \n",
    "    cat $file | grep \"^SN\" | awk '{print $5, $6, $7, $8}' | awk -F': ' '{print $2}' | xargs -n9 >> ~/chr7_leftnorm_filtered.txt;\n",
    "done "
   ]
  },
  {
   "cell_type": "code",
   "execution_count": 8,
   "id": "50f84cf9-78ba-4e06-a452-2cf1558be632",
   "metadata": {
    "kernel": "Bash"
   },
   "outputs": [
    {
     "name": "stdout",
     "output_type": "stream",
     "text": [
      "\n"
     ]
    }
   ],
   "source": [
    "for file in `ls -v ~/UKBiobank/data/exome_files/project_VCF/072721_run/stats/ukb23156_c8_b*_v1.leftnorm.filtered.stats_bcftools |  tr \"\\n\" \" \"` ; \n",
    "do \n",
    "    cat $file | grep \"^SN\" | awk '{print $5, $6, $7, $8}' | awk -F': ' '{print $2}' | xargs -n9 >> ~/chr8_leftnorm_filtered.txt;\n",
    "done "
   ]
  },
  {
   "cell_type": "code",
   "execution_count": 9,
   "id": "65a43da2-5840-4cd1-9e5e-6e6fdf4600ef",
   "metadata": {
    "kernel": "Bash"
   },
   "outputs": [
    {
     "name": "stdout",
     "output_type": "stream",
     "text": [
      "\n"
     ]
    }
   ],
   "source": [
    "for file in `ls -v ~/UKBiobank/data/exome_files/project_VCF/072721_run/stats/ukb23156_c9_b*_v1.leftnorm.filtered.stats_bcftools |  tr \"\\n\" \" \"` ; \n",
    "do \n",
    "    cat $file | grep \"^SN\" | awk '{print $5, $6, $7, $8}' | awk -F': ' '{print $2}' | xargs -n9 >> ~/chr9_leftnorm_filtered.txt;\n",
    "done "
   ]
  },
  {
   "cell_type": "code",
   "execution_count": 10,
   "id": "8b083af3-3917-476f-8c7f-98389a0f3a26",
   "metadata": {
    "kernel": "Bash"
   },
   "outputs": [
    {
     "name": "stdout",
     "output_type": "stream",
     "text": [
      "\n"
     ]
    }
   ],
   "source": [
    "for file in `ls -v ~/UKBiobank/data/exome_files/project_VCF/072721_run/stats/ukb23156_c10_b*_v1.leftnorm.filtered.stats_bcftools |  tr \"\\n\" \" \"` ; \n",
    "do \n",
    "    cat $file | grep \"^SN\" | awk '{print $5, $6, $7, $8}' | awk -F': ' '{print $2}' | xargs -n9 >> ~/chr10_leftnorm_filtered.txt;\n",
    "done "
   ]
  },
  {
   "cell_type": "code",
   "execution_count": 11,
   "id": "cf2ad12a-d205-4c4d-a1fe-a41969eb9ff9",
   "metadata": {
    "kernel": "Bash"
   },
   "outputs": [
    {
     "name": "stdout",
     "output_type": "stream",
     "text": [
      "\n"
     ]
    }
   ],
   "source": [
    "for file in `ls -v ~/UKBiobank/data/exome_files/project_VCF/072721_run/stats/ukb23156_c11_b*_v1.leftnorm.filtered.stats_bcftools |  tr \"\\n\" \" \"` ; \n",
    "do \n",
    "    cat $file | grep \"^SN\" | awk '{print $5, $6, $7, $8}' | awk -F': ' '{print $2}' | xargs -n9 >> ~/chr11_leftnorm_filtered.txt;\n",
    "done "
   ]
  },
  {
   "cell_type": "code",
   "execution_count": 12,
   "id": "ec60abe3-3677-497e-b595-c832d848bf2d",
   "metadata": {
    "kernel": "Bash"
   },
   "outputs": [
    {
     "name": "stdout",
     "output_type": "stream",
     "text": [
      "\n"
     ]
    }
   ],
   "source": [
    "for file in `ls -v ~/UKBiobank/data/exome_files/project_VCF/072721_run/stats/ukb23156_c12_b*_v1.leftnorm.filtered.stats_bcftools |  tr \"\\n\" \" \"` ; \n",
    "do \n",
    "    cat $file | grep \"^SN\" | awk '{print $5, $6, $7, $8}' | awk -F': ' '{print $2}' | xargs -n9 >> ~/chr12_leftnorm_filtered.txt;\n",
    "done "
   ]
  },
  {
   "cell_type": "code",
   "execution_count": 13,
   "id": "71ec2416-9e03-428d-9fc3-8feead2ea873",
   "metadata": {
    "kernel": "Bash"
   },
   "outputs": [
    {
     "name": "stdout",
     "output_type": "stream",
     "text": [
      "\n"
     ]
    }
   ],
   "source": [
    "for file in `ls -v ~/UKBiobank/data/exome_files/project_VCF/072721_run/stats/ukb23156_c13_b*_v1.leftnorm.filtered.stats_bcftools |  tr \"\\n\" \" \"` ; \n",
    "do \n",
    "    cat $file | grep \"^SN\" | awk '{print $5, $6, $7, $8}' | awk -F': ' '{print $2}' | xargs -n9 >> ~/chr13_leftnorm_filtered.txt;\n",
    "done "
   ]
  },
  {
   "cell_type": "code",
   "execution_count": 14,
   "id": "0f4b0c64-3d85-4ade-9ad1-d9f34e8dac68",
   "metadata": {
    "kernel": "Bash"
   },
   "outputs": [
    {
     "name": "stdout",
     "output_type": "stream",
     "text": [
      "\n"
     ]
    }
   ],
   "source": [
    "for file in `ls -v ~/UKBiobank/data/exome_files/project_VCF/072721_run/stats/ukb23156_c14_b*_v1.leftnorm.filtered.stats_bcftools |  tr \"\\n\" \" \"` ; \n",
    "do \n",
    "    cat $file | grep \"^SN\" | awk '{print $5, $6, $7, $8}' | awk -F': ' '{print $2}' | xargs -n9 >> ~/chr14_leftnorm_filtered.txt;\n",
    "done "
   ]
  },
  {
   "cell_type": "code",
   "execution_count": 15,
   "id": "53de625c-c133-497a-88ac-996fad79ea29",
   "metadata": {
    "kernel": "Bash"
   },
   "outputs": [
    {
     "name": "stdout",
     "output_type": "stream",
     "text": [
      "\n"
     ]
    }
   ],
   "source": [
    "for file in `ls -v ~/UKBiobank/data/exome_files/project_VCF/072721_run/stats/ukb23156_c15_b*_v1.leftnorm.filtered.stats_bcftools |  tr \"\\n\" \" \"` ; \n",
    "do \n",
    "    cat $file | grep \"^SN\" | awk '{print $5, $6, $7, $8}' | awk -F': ' '{print $2}' | xargs -n9 >> ~/chr15_leftnorm_filtered.txt;\n",
    "done "
   ]
  },
  {
   "cell_type": "code",
   "execution_count": 16,
   "id": "bc28217e-b1bd-4f5f-8516-238e255dedde",
   "metadata": {
    "kernel": "Bash"
   },
   "outputs": [
    {
     "name": "stdout",
     "output_type": "stream",
     "text": [
      "\n"
     ]
    }
   ],
   "source": [
    "for file in `ls -v ~/UKBiobank/data/exome_files/project_VCF/072721_run/stats/ukb23156_c16_b*_v1.leftnorm.filtered.stats_bcftools |  tr \"\\n\" \" \"` ; \n",
    "do \n",
    "    cat $file | grep \"^SN\" | awk '{print $5, $6, $7, $8}' | awk -F': ' '{print $2}' | xargs -n9 >> ~/chr16_leftnorm_filtered.txt;\n",
    "done "
   ]
  },
  {
   "cell_type": "code",
   "execution_count": 17,
   "id": "28a783df-f4d9-470f-8b64-1d2be96aea09",
   "metadata": {
    "kernel": "Bash"
   },
   "outputs": [
    {
     "name": "stdout",
     "output_type": "stream",
     "text": [
      "\n"
     ]
    }
   ],
   "source": [
    "for file in `ls -v ~/UKBiobank/data/exome_files/project_VCF/072721_run/stats/ukb23156_c17_b*_v1.leftnorm.filtered.stats_bcftools |  tr \"\\n\" \" \"` ; \n",
    "do \n",
    "    cat $file | grep \"^SN\" | awk '{print $5, $6, $7, $8}' | awk -F': ' '{print $2}' | xargs -n9 >> ~/chr17_leftnorm_filtered.txt;\n",
    "done "
   ]
  },
  {
   "cell_type": "code",
   "execution_count": 18,
   "id": "fe1af624-6b97-4264-b803-ee77cb401bfa",
   "metadata": {
    "kernel": "Bash"
   },
   "outputs": [
    {
     "name": "stdout",
     "output_type": "stream",
     "text": [
      "\n"
     ]
    }
   ],
   "source": [
    "for file in `ls -v ~/UKBiobank/data/exome_files/project_VCF/072721_run/stats/ukb23156_c18_b*_v1.leftnorm.filtered.stats_bcftools |  tr \"\\n\" \" \"` ; \n",
    "do \n",
    "    cat $file | grep \"^SN\" | awk '{print $5, $6, $7, $8}' | awk -F': ' '{print $2}' | xargs -n9 >> ~/chr18_leftnorm_filtered.txt;\n",
    "done "
   ]
  },
  {
   "cell_type": "code",
   "execution_count": 19,
   "id": "7a030f32-60b9-49e0-bd45-58e9a85cd6f0",
   "metadata": {
    "kernel": "Bash"
   },
   "outputs": [
    {
     "name": "stdout",
     "output_type": "stream",
     "text": [
      "\n"
     ]
    }
   ],
   "source": [
    "for file in `ls -v ~/UKBiobank/data/exome_files/project_VCF/072721_run/stats/ukb23156_c19_b*_v1.leftnorm.filtered.stats_bcftools |  tr \"\\n\" \" \"` ; \n",
    "do \n",
    "    cat $file | grep \"^SN\" | awk '{print $5, $6, $7, $8}' | awk -F': ' '{print $2}' | xargs -n9 >> ~/chr19_leftnorm_filtered.txt;\n",
    "done "
   ]
  },
  {
   "cell_type": "code",
   "execution_count": 20,
   "id": "05fe8db6-df04-4159-a364-516d61996c7e",
   "metadata": {
    "kernel": "Bash"
   },
   "outputs": [
    {
     "name": "stdout",
     "output_type": "stream",
     "text": [
      "\n"
     ]
    }
   ],
   "source": [
    "for file in `ls -v ~/UKBiobank/data/exome_files/project_VCF/072721_run/stats/ukb23156_c20_b*_v1.leftnorm.filtered.stats_bcftools |  tr \"\\n\" \" \"` ; \n",
    "do \n",
    "    cat $file | grep \"^SN\" | awk '{print $5, $6, $7, $8}' | awk -F': ' '{print $2}' | xargs -n9 >> ~/chr20_leftnorm_filtered.txt;\n",
    "done "
   ]
  },
  {
   "cell_type": "code",
   "execution_count": 21,
   "id": "90e7e80a-0e97-4281-af21-0409c4d28f12",
   "metadata": {
    "kernel": "Bash"
   },
   "outputs": [
    {
     "name": "stdout",
     "output_type": "stream",
     "text": [
      "\n"
     ]
    }
   ],
   "source": [
    "for file in `ls -v ~/UKBiobank/data/exome_files/project_VCF/072721_run/stats/ukb23156_c21_b*_v1.leftnorm.filtered.stats_bcftools |  tr \"\\n\" \" \"` ; \n",
    "do \n",
    "    cat $file | grep \"^SN\" | awk '{print $5, $6, $7, $8}' | awk -F': ' '{print $2}' | xargs -n9 >> ~/chr21_leftnorm_filtered.txt;\n",
    "done "
   ]
  },
  {
   "cell_type": "code",
   "execution_count": 22,
   "id": "02c8aaaa-e4e2-4699-b6af-835355bf6462",
   "metadata": {
    "kernel": "Bash"
   },
   "outputs": [
    {
     "name": "stdout",
     "output_type": "stream",
     "text": [
      "\n"
     ]
    }
   ],
   "source": [
    "for file in `ls -v ~/UKBiobank/data/exome_files/project_VCF/072721_run/stats/ukb23156_c22_b*_v1.leftnorm.filtered.stats_bcftools |  tr \"\\n\" \" \"` ; \n",
    "do \n",
    "    cat $file | grep \"^SN\" | awk '{print $5, $6, $7, $8}' | awk -F': ' '{print $2}' | xargs -n9 >> ~/chr22_leftnorm_filtered.txt;\n",
    "done "
   ]
  },
  {
   "cell_type": "markdown",
   "id": "6581194f-d20a-40c4-b870-3cc7922e0e18",
   "metadata": {
    "kernel": "Bash"
   },
   "source": [
    "### Get the stats after applying geno_filter 0.1"
   ]
  },
  {
   "cell_type": "code",
   "execution_count": 25,
   "id": "24c5382f-d740-471b-86f8-d79d15cfe35c",
   "metadata": {
    "kernel": "Bash"
   },
   "outputs": [
    {
     "name": "stdout",
     "output_type": "stream",
     "text": [
      "(58 variants skipped.)\n",
      "1771256 variants loaded from .bim file.\n",
      "184162 variants removed due to missing genotype data (--geno).\n",
      "1587094 variants and 200643 people pass filters and QC.\n",
      "\n"
     ]
    }
   ],
   "source": [
    "for file in `ls -v ~/UKBiobank/data/exome_files/project_VCF/072721_run/plink/ukb23156_c1.merged.filtered.log |  tr \"\\n\" \" \"` ; \n",
    "do \n",
    "    cat $file | grep \"variants\" \n",
    "done "
   ]
  },
  {
   "cell_type": "code",
   "execution_count": 27,
   "id": "321167b1-7cf7-45f8-8a36-de85bfb13797",
   "metadata": {
    "kernel": "Bash"
   },
   "outputs": [
    {
     "name": "stdout",
     "output_type": "stream",
     "text": [
      "(30 variants skipped.)\n",
      "1301408 variants loaded from .bim file.\n",
      "159540 variants removed due to missing genotype data (--geno).\n",
      "1141868 variants and 200643 people pass filters and QC.\n",
      "\n"
     ]
    }
   ],
   "source": [
    "for file in `ls -v ~/UKBiobank/data/exome_files/project_VCF/072721_run/plink/ukb23156_c2.merged.filtered.log |  tr \"\\n\" \" \"` ; \n",
    "do \n",
    "    cat $file | grep \"variants\" \n",
    "done "
   ]
  },
  {
   "cell_type": "code",
   "execution_count": 28,
   "id": "319dad48-3943-4362-aabc-8d2c528f5099",
   "metadata": {
    "kernel": "Bash"
   },
   "outputs": [
    {
     "name": "stdout",
     "output_type": "stream",
     "text": [
      "(20 variants skipped.)\n",
      "1033022 variants loaded from .bim file.\n",
      "122179 variants removed due to missing genotype data (--geno).\n",
      "910843 variants and 200643 people pass filters and QC.\n",
      "\n"
     ]
    }
   ],
   "source": [
    "for file in `ls -v ~/UKBiobank/data/exome_files/project_VCF/072721_run/plink/ukb23156_c3.merged.filtered.log |  tr \"\\n\" \" \"` ; \n",
    "do \n",
    "    cat $file | grep \"variants\" \n",
    "done "
   ]
  },
  {
   "cell_type": "code",
   "execution_count": 29,
   "id": "89156550-2f87-4ff4-9879-48d203aad263",
   "metadata": {
    "kernel": "Bash"
   },
   "outputs": [
    {
     "name": "stdout",
     "output_type": "stream",
     "text": [
      "(21 variants skipped.)\n",
      "712594 variants loaded from .bim file.\n",
      "102259 variants removed due to missing genotype data (--geno).\n",
      "610335 variants and 200643 people pass filters and QC.\n",
      "\n"
     ]
    }
   ],
   "source": [
    "for file in `ls -v ~/UKBiobank/data/exome_files/project_VCF/072721_run/plink/ukb23156_c4.merged.filtered.log |  tr \"\\n\" \" \"` ; \n",
    "do \n",
    "    cat $file | grep \"variants\" \n",
    "done "
   ]
  },
  {
   "cell_type": "code",
   "execution_count": 30,
   "id": "53001c11-f12d-4486-96c7-2f4efee2cc77",
   "metadata": {
    "kernel": "Bash"
   },
   "outputs": [
    {
     "name": "stdout",
     "output_type": "stream",
     "text": [
      "(23 variants skipped.)\n",
      "785258 variants loaded from .bim file.\n",
      "97051 variants removed due to missing genotype data (--geno).\n",
      "688207 variants and 200643 people pass filters and QC.\n",
      "\n"
     ]
    }
   ],
   "source": [
    "for file in `ls -v ~/UKBiobank/data/exome_files/project_VCF/072721_run/plink/ukb23156_c5.merged.filtered.log |  tr \"\\n\" \" \"` ; \n",
    "do \n",
    "    cat $file | grep \"variants\" \n",
    "done "
   ]
  },
  {
   "cell_type": "code",
   "execution_count": 31,
   "id": "cb6b6ffd-fb1b-4aee-b275-c4fbffc1465c",
   "metadata": {
    "kernel": "Bash"
   },
   "outputs": [
    {
     "name": "stdout",
     "output_type": "stream",
     "text": [
      "(27 variants skipped.)\n",
      "880562 variants loaded from .bim file.\n",
      "106269 variants removed due to missing genotype data (--geno).\n",
      "774293 variants and 200643 people pass filters and QC.\n",
      "\n"
     ]
    }
   ],
   "source": [
    "for file in `ls -v ~/UKBiobank/data/exome_files/project_VCF/072721_run/plink/ukb23156_c6.merged.filtered.log |  tr \"\\n\" \" \"` ; \n",
    "do \n",
    "    cat $file | grep \"variants\" \n",
    "done "
   ]
  },
  {
   "cell_type": "code",
   "execution_count": 32,
   "id": "f90ba48a-538e-4b0c-a8f1-937328e882ec",
   "metadata": {
    "kernel": "Bash"
   },
   "outputs": [
    {
     "name": "stdout",
     "output_type": "stream",
     "text": [
      "(15 variants skipped.)\n",
      "852278 variants loaded from .bim file.\n",
      "96912 variants removed due to missing genotype data (--geno).\n",
      "755366 variants and 200643 people pass filters and QC.\n",
      "\n"
     ]
    }
   ],
   "source": [
    "for file in `ls -v ~/UKBiobank/data/exome_files/project_VCF/072721_run/plink/ukb23156_c7.merged.filtered.log |  tr \"\\n\" \" \"` ; \n",
    "do \n",
    "    cat $file | grep \"variants\" \n",
    "done "
   ]
  },
  {
   "cell_type": "code",
   "execution_count": 33,
   "id": "26afde12-9b78-480f-8992-14c907e56dd0",
   "metadata": {
    "kernel": "Bash"
   },
   "outputs": [
    {
     "name": "stdout",
     "output_type": "stream",
     "text": [
      "(24 variants skipped.)\n",
      "649120 variants loaded from .bim file.\n",
      "76312 variants removed due to missing genotype data (--geno).\n",
      "572808 variants and 200643 people pass filters and QC.\n",
      "\n"
     ]
    }
   ],
   "source": [
    "for file in `ls -v ~/UKBiobank/data/exome_files/project_VCF/072721_run/plink/ukb23156_c8.merged.filtered.log |  tr \"\\n\" \" \"` ; \n",
    "do \n",
    "    cat $file | grep \"variants\" \n",
    "done "
   ]
  },
  {
   "cell_type": "code",
   "execution_count": 34,
   "id": "b8001e83-2f1e-4661-867c-1975746a0366",
   "metadata": {
    "kernel": "Bash"
   },
   "outputs": [
    {
     "name": "stdout",
     "output_type": "stream",
     "text": [
      "(21 variants skipped.)\n",
      "768363 variants loaded from .bim file.\n",
      "79468 variants removed due to missing genotype data (--geno).\n",
      "688895 variants and 200643 people pass filters and QC.\n",
      "\n"
     ]
    }
   ],
   "source": [
    "for file in `ls -v ~/UKBiobank/data/exome_files/project_VCF/072721_run/plink/ukb23156_c9.merged.filtered.log |  tr \"\\n\" \" \"` ; \n",
    "do \n",
    "    cat $file | grep \"variants\" \n",
    "done "
   ]
  },
  {
   "cell_type": "code",
   "execution_count": 35,
   "id": "0d79c2c8-f44f-4fdb-9d16-b344d63696fb",
   "metadata": {
    "kernel": "Bash"
   },
   "outputs": [
    {
     "name": "stdout",
     "output_type": "stream",
     "text": [
      "(23 variants skipped.)\n",
      "728099 variants loaded from .bim file.\n",
      "88318 variants removed due to missing genotype data (--geno).\n",
      "639781 variants and 200643 people pass filters and QC.\n",
      "\n"
     ]
    }
   ],
   "source": [
    "for file in `ls -v ~/UKBiobank/data/exome_files/project_VCF/072721_run/plink/ukb23156_c10.merged.filtered.log |  tr \"\\n\" \" \"` ; \n",
    "do \n",
    "    cat $file | grep \"variants\" \n",
    "done "
   ]
  },
  {
   "cell_type": "code",
   "execution_count": 36,
   "id": "f6108abc-3890-48b8-b9f7-4a6b9957a05a",
   "metadata": {
    "kernel": "Bash"
   },
   "outputs": [
    {
     "name": "stdout",
     "output_type": "stream",
     "text": [
      "(28 variants skipped.)\n",
      "1052071 variants loaded from .bim file.\n",
      "93144 variants removed due to missing genotype data (--geno).\n",
      "958927 variants and 200643 people pass filters and QC.\n",
      "\n"
     ]
    }
   ],
   "source": [
    "for file in `ls -v ~/UKBiobank/data/exome_files/project_VCF/072721_run/plink/ukb23156_c11.merged.filtered.log |  tr \"\\n\" \" \"` ; \n",
    "do \n",
    "    cat $file | grep \"variants\" \n",
    "done "
   ]
  },
  {
   "cell_type": "code",
   "execution_count": 37,
   "id": "af20cdd3-15dc-40dd-973b-c0f368987cfa",
   "metadata": {
    "kernel": "Bash"
   },
   "outputs": [
    {
     "name": "stdout",
     "output_type": "stream",
     "text": [
      "(18 variants skipped.)\n",
      "943662 variants loaded from .bim file.\n",
      "110167 variants removed due to missing genotype data (--geno).\n",
      "833495 variants and 200643 people pass filters and QC.\n",
      "\n"
     ]
    }
   ],
   "source": [
    "for file in `ls -v ~/UKBiobank/data/exome_files/project_VCF/072721_run/plink/ukb23156_c12.merged.filtered.log |  tr \"\\n\" \" \"` ; \n",
    "do \n",
    "    cat $file | grep \"variants\" \n",
    "done "
   ]
  },
  {
   "cell_type": "code",
   "execution_count": 38,
   "id": "c6c5fa0e-840c-4cda-a010-6ce0f905fcce",
   "metadata": {
    "kernel": "Bash"
   },
   "outputs": [
    {
     "name": "stdout",
     "output_type": "stream",
     "text": [
      "(17 variants skipped.)\n",
      "318170 variants loaded from .bim file.\n",
      "42549 variants removed due to missing genotype data (--geno).\n",
      "275621 variants and 200643 people pass filters and QC.\n",
      "\n"
     ]
    }
   ],
   "source": [
    "for file in `ls -v ~/UKBiobank/data/exome_files/project_VCF/072721_run/plink/ukb23156_c13.merged.filtered.log |  tr \"\\n\" \" \"` ; \n",
    "do \n",
    "    cat $file | grep \"variants\" \n",
    "done "
   ]
  },
  {
   "cell_type": "code",
   "execution_count": 39,
   "id": "c69f51bf-6fe2-47a1-bb70-66590a2af2a3",
   "metadata": {
    "kernel": "Bash"
   },
   "outputs": [
    {
     "name": "stdout",
     "output_type": "stream",
     "text": [
      "(20 variants skipped.)\n",
      "553041 variants loaded from .bim file.\n",
      "60621 variants removed due to missing genotype data (--geno).\n",
      "492420 variants and 200643 people pass filters and QC.\n",
      "\n"
     ]
    }
   ],
   "source": [
    "for file in `ls -v ~/UKBiobank/data/exome_files/project_VCF/072721_run/plink/ukb23156_c14.merged.filtered.log |  tr \"\\n\" \" \"` ; \n",
    "do \n",
    "    cat $file | grep \"variants\" \n",
    "done "
   ]
  },
  {
   "cell_type": "code",
   "execution_count": 40,
   "id": "3896e4bf-fb71-4dd2-9723-be74e46dd087",
   "metadata": {
    "kernel": "Bash"
   },
   "outputs": [
    {
     "name": "stdout",
     "output_type": "stream",
     "text": [
      "(29 variants skipped.)\n",
      "615164 variants loaded from .bim file.\n",
      "70040 variants removed due to missing genotype data (--geno).\n",
      "545124 variants and 200643 people pass filters and QC.\n",
      "\n"
     ]
    }
   ],
   "source": [
    "for file in `ls -v ~/UKBiobank/data/exome_files/project_VCF/072721_run/plink/ukb23156_c15.merged.filtered.log |  tr \"\\n\" \" \"` ; \n",
    "do \n",
    "    cat $file | grep \"variants\" \n",
    "done "
   ]
  },
  {
   "cell_type": "code",
   "execution_count": 41,
   "id": "e8198d2e-4059-46a2-a1f2-579fc3272c54",
   "metadata": {
    "kernel": "Bash"
   },
   "outputs": [
    {
     "name": "stdout",
     "output_type": "stream",
     "text": [
      "(21 variants skipped.)\n",
      "867504 variants loaded from .bim file.\n",
      "66704 variants removed due to missing genotype data (--geno).\n",
      "800800 variants and 200643 people pass filters and QC.\n",
      "\n"
     ]
    }
   ],
   "source": [
    "for file in `ls -v ~/UKBiobank/data/exome_files/project_VCF/072721_run/plink/ukb23156_c16.merged.filtered.log |  tr \"\\n\" \" \"` ; \n",
    "do \n",
    "    cat $file | grep \"variants\" \n",
    "done "
   ]
  },
  {
   "cell_type": "code",
   "execution_count": 42,
   "id": "8e9f257c-eb45-425c-8aad-c520f9c72ab9",
   "metadata": {
    "kernel": "Bash"
   },
   "outputs": [
    {
     "name": "stdout",
     "output_type": "stream",
     "text": [
      "(47 variants skipped.)\n",
      "1038753 variants loaded from .bim file.\n",
      "82875 variants removed due to missing genotype data (--geno).\n",
      "955878 variants and 200643 people pass filters and QC.\n",
      "\n"
     ]
    }
   ],
   "source": [
    "for file in `ls -v ~/UKBiobank/data/exome_files/project_VCF/072721_run/plink/ukb23156_c17.merged.filtered.log |  tr \"\\n\" \" \"` ; \n",
    "do \n",
    "    cat $file | grep \"variants\" \n",
    "done "
   ]
  },
  {
   "cell_type": "code",
   "execution_count": 43,
   "id": "e2eabc92-0ea0-4f2a-8359-0a4d569bd212",
   "metadata": {
    "kernel": "Bash"
   },
   "outputs": [
    {
     "name": "stdout",
     "output_type": "stream",
     "text": [
      "(10 variants skipped.)\n",
      "284576 variants loaded from .bim file.\n",
      "35750 variants removed due to missing genotype data (--geno).\n",
      "248826 variants and 200643 people pass filters and QC.\n",
      "\n"
     ]
    }
   ],
   "source": [
    "for file in `ls -v ~/UKBiobank/data/exome_files/project_VCF/072721_run/plink/ukb23156_c18.merged.filtered.log |  tr \"\\n\" \" \"` ; \n",
    "do \n",
    "    cat $file | grep \"variants\" \n",
    "done "
   ]
  },
  {
   "cell_type": "code",
   "execution_count": 44,
   "id": "c8d5451b-04c9-4dad-b05f-a37bb5012882",
   "metadata": {
    "kernel": "Bash"
   },
   "outputs": [
    {
     "name": "stdout",
     "output_type": "stream",
     "text": [
      "(44 variants skipped.)\n",
      "1199753 variants loaded from .bim file.\n",
      "70207 variants removed due to missing genotype data (--geno).\n",
      "1129546 variants and 200643 people pass filters and QC.\n",
      "\n"
     ]
    }
   ],
   "source": [
    "for file in `ls -v ~/UKBiobank/data/exome_files/project_VCF/072721_run/plink/ukb23156_c19.merged.filtered.log |  tr \"\\n\" \" \"` ; \n",
    "do \n",
    "    cat $file | grep \"variants\" \n",
    "done "
   ]
  },
  {
   "cell_type": "code",
   "execution_count": 45,
   "id": "3555cfae-c9ab-404c-a55f-7c1e58d26516",
   "metadata": {
    "kernel": "Bash"
   },
   "outputs": [
    {
     "name": "stdout",
     "output_type": "stream",
     "text": [
      "(5 variants skipped.)\n",
      "456316 variants loaded from .bim file.\n",
      "39437 variants removed due to missing genotype data (--geno).\n",
      "416879 variants and 200643 people pass filters and QC.\n",
      "\n"
     ]
    }
   ],
   "source": [
    "for file in `ls -v ~/UKBiobank/data/exome_files/project_VCF/072721_run/plink/ukb23156_c20.merged.filtered.log |  tr \"\\n\" \" \"` ; \n",
    "do \n",
    "    cat $file | grep \"variants\" \n",
    "done "
   ]
  },
  {
   "cell_type": "code",
   "execution_count": 46,
   "id": "51299d0a-0255-48b2-b1ac-bb476ffd71a7",
   "metadata": {
    "kernel": "Bash"
   },
   "outputs": [
    {
     "name": "stdout",
     "output_type": "stream",
     "text": [
      "(11 variants skipped.)\n",
      "193790 variants loaded from .bim file.\n",
      "20513 variants removed due to missing genotype data (--geno).\n",
      "173277 variants and 200643 people pass filters and QC.\n",
      "\n"
     ]
    }
   ],
   "source": [
    "for file in `ls -v ~/UKBiobank/data/exome_files/project_VCF/072721_run/plink/ukb23156_c21.merged.filtered.log |  tr \"\\n\" \" \"` ; \n",
    "do \n",
    "    cat $file | grep \"variants\" \n",
    "done "
   ]
  },
  {
   "cell_type": "code",
   "execution_count": 47,
   "id": "f28d93e5-43f9-4198-8cf9-607f78ee2b9a",
   "metadata": {
    "kernel": "Bash"
   },
   "outputs": [
    {
     "name": "stdout",
     "output_type": "stream",
     "text": [
      "(10 variants skipped.)\n",
      "411455 variants loaded from .bim file.\n",
      "31569 variants removed due to missing genotype data (--geno).\n",
      "379886 variants and 200643 people pass filters and QC.\n",
      "\n"
     ]
    }
   ],
   "source": [
    "for file in `ls -v ~/UKBiobank/data/exome_files/project_VCF/072721_run/plink/ukb23156_c22.merged.filtered.log |  tr \"\\n\" \" \"` ; \n",
    "do \n",
    "    cat $file | grep \"variants\" \n",
    "done "
   ]
  },
  {
   "cell_type": "code",
   "execution_count": null,
   "id": "fcee9e80-1e27-4021-aedd-89179ac8cc25",
   "metadata": {
    "kernel": "Bash"
   },
   "outputs": [],
   "source": []
  }
 ],
 "metadata": {
  "kernelspec": {
   "display_name": "SoS",
   "language": "sos",
   "name": "sos"
  },
  "language_info": {
   "codemirror_mode": "sos",
   "file_extension": ".sos",
   "mimetype": "text/x-sos",
   "name": "sos",
   "nbconvert_exporter": "sos_notebook.converter.SoS_Exporter",
   "pygments_lexer": "sos"
  },
  "sos": {
   "kernels": [
    [
     "Bash",
     "calysto_bash",
     "Bash",
     "#E6EEFF",
     ""
    ]
   ],
   "version": "0.22.6"
  }
 },
 "nbformat": 4,
 "nbformat_minor": 5
}
