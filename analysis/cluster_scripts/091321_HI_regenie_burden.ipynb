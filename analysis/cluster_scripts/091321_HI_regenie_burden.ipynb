{
 "cells": [
  {
   "cell_type": "markdown",
   "id": "1b14f2a2-caee-4ef6-ac14-d1824441084e",
   "metadata": {
    "kernel": "SoS"
   },
   "source": [
    "# Analysis of Regenie Burden Test for hearing impairment traits"
   ]
  },
  {
   "cell_type": "markdown",
   "id": "1638ad9f-5d93-40e5-ad65-56bdf98f697d",
   "metadata": {
    "kernel": "SoS",
    "tags": []
   },
   "source": [
    "# Hearing impairment 091321 new"
   ]
  },
  {
   "cell_type": "markdown",
   "id": "25b53ca1-3f23-48a3-8763-d8bf333f36d4",
   "metadata": {
    "kernel": "SoS"
   },
   "source": [
    "## Create annotation file with annovar for 200K exomes"
   ]
  },
  {
   "cell_type": "code",
   "execution_count": 3,
   "id": "b6301ace-24ee-488c-be64-490c2716fbf5",
   "metadata": {
    "kernel": "Bash",
    "tags": []
   },
   "outputs": [
    {
     "name": "stdout",
     "output_type": "stream",
     "text": [
      "INFO: Running \u001b[32mcsg\u001b[0m: Configuration for Columbia csg partition cluster\n",
      "INFO: \u001b[32mcsg\u001b[0m is \u001b[32mcompleted\u001b[0m.\n",
      "INFO: \u001b[32mcsg\u001b[0m output:   \u001b[32m/home/gl2776/scripts/ukb23155_200kexome_annotation_2021-09-13.sbatch\u001b[0m\n",
      "INFO: Workflow csg (ID=wdd488ffa49fe7402) is executed successfully with 1 completed step.\n",
      "\n"
     ]
    }
   ],
   "source": [
    "tpl_file=~/working/bioworkflows/admin/csg.yml\n",
    "annovar_dir=~/UKBiobank/results/ukb23155_200Kexomes_annovar/091321_exome_bim_merge\n",
    "annovar_sos=~/working/bioworkflows/variant-annotation/annovar.ipynb\n",
    "annovar_sbatch=~/scripts/ukb23155_200kexome_annotation_$(date +\"%Y-%m-%d\").sbatch\n",
    "bfiles=~/UKBiobank/results/ukb23155_200Kexomes_annovar/091321_exome_bim_merge/ukb23155_chr1_chr22_091321.bim\n",
    "walltime=\"60h\"\n",
    "mem=\"30G\"\n",
    "\n",
    "annovar_args=\"\"\"annovar\n",
    "    --cwd $annovar_dir \n",
    "    --bim_name $bfiles \n",
    "    --humandb /mnt/mfs/statgen/isabelle/REF/humandb  \n",
    "    --xref_path /mnt/mfs/statgen/isabelle/REF/humandb \n",
    "    --job_size 1 \n",
    "    --build 'hg38' \n",
    "    --name_prefix ukb23155_chr1_chr22_qcexomedata_091321\n",
    "    --walltime $walltime\n",
    "    --mem $mem\n",
    "    --container_annovar /mnt/mfs/statgen/containers/gatk4-annovar.sif\n",
    "\"\"\"\n",
    "\n",
    "sos run ~/working/UKBB_GWAS_dev/admin/Get_Job_Script.ipynb csg \\\n",
    "    --template-file $tpl_file \\\n",
    "    --workflow-file $annovar_sos \\\n",
    "    --to-script $annovar_sbatch \\\n",
    "    --args \"$annovar_args\""
   ]
  },
  {
   "cell_type": "markdown",
   "id": "cf96b77d-431c-4bd8-a8c0-417be75c4034",
   "metadata": {
    "kernel": "SoS"
   },
   "source": [
    "## Create the anno_file, set_list_file and mask_files necessary for burden test"
   ]
  },
  {
   "cell_type": "code",
   "execution_count": 3,
   "id": "121c68f3-27e5-42a1-bc92-223f8973badf",
   "metadata": {
    "kernel": "Bash"
   },
   "outputs": [
    {
     "name": "stdout",
     "output_type": "stream",
     "text": [
      "INFO: Running \u001b[32mcsg\u001b[0m: Configuration for Columbia csg partition cluster\n",
      "INFO: \u001b[32mcsg\u001b[0m is \u001b[32mcompleted\u001b[0m.\n",
      "INFO: \u001b[32mcsg\u001b[0m output:   \u001b[32m/home/gl2776/scripts/ukb23155_200Kexomes_burdenfiles_2021-09-14.sbatch\u001b[0m\n",
      "INFO: Workflow csg (ID=wac133bb8c5b16846) is executed successfully with 1 completed step.\n",
      "\n"
     ]
    }
   ],
   "source": [
    "burden_dir=~/UKBiobank/results/REGENIE_results/results_burden_exome/091321_burden_files\n",
    "anno_sbatch_burden=~/scripts/ukb23155_200Kexomes_burdenfiles_$(date +\"%Y-%m-%d\").sbatch\n",
    "annotated_file_hg38=~/UKBiobank/results/ukb23155_200Kexomes_annovar/091321_exome_bim_merge/ukb23155_chr1_chr22_091321.hg38.hg38_multianno.csv\n",
    "bim_name=~/UKBiobank/results/ukb23155_200Kexomes_annovar/091321_exome_bim_merge/ukb23155_chr1_chr22_091321.bim\n",
    "job_size=1\n",
    "name_prefix='ukb23155_chr1_chr22_qcexomedata_091321_burden_files'\n",
    "anno_sos=~/working/bioworkflows/variant-annotation/annovar.ipynb\n",
    "tpl_file=~/working/bioworkflows/admin/csg.yml\n",
    "container_annovar=$HOME/containers/gatk4-annovar.sif\n",
    "\n",
    "anno_args=\"\"\"burden_files\n",
    "    --cwd $burden_dir\n",
    "    --annotated_file $annotated_file_hg38\n",
    "    --bim_name $bim_name\n",
    "    --name_prefix $name_prefix\n",
    "    --job_size $job_size\n",
    "    --container_annovar $container_annovar\n",
    "    --container_lmm /mnt/mfs/statgen/containers/lmm.sif\n",
    "\"\"\"\n",
    "\n",
    "sos run ~/working/UKBB_GWAS_dev/admin/Get_Job_Script.ipynb csg \\\n",
    "    --template-file $tpl_file \\\n",
    "    --workflow-file $anno_sos \\\n",
    "    --to-script $anno_sbatch_burden\\\n",
    "    --args \"$anno_args\"\n"
   ]
  },
  {
   "cell_type": "markdown",
   "id": "5f627dca-9111-4809-bbfa-7e314834a16e",
   "metadata": {
    "kernel": "Bash"
   },
   "source": [
    "## Regenie Burden with 200K exomes"
   ]
  },
  {
   "cell_type": "markdown",
   "id": "804cb3d4-fab5-474f-9b74-34706950df7b",
   "metadata": {
    "kernel": "Bash"
   },
   "source": [
    "### 091321_f3393_hearing_aid"
   ]
  },
  {
   "cell_type": "code",
   "execution_count": 1,
   "id": "b740f7d9-5c8e-44b8-a58e-dcbf4be9ba03",
   "metadata": {
    "kernel": "Bash"
   },
   "outputs": [
    {
     "name": "stderr",
     "output_type": "stream",
     "text": [
      "/home/dmc2245/miniconda3/lib/python3.8/site-packages/sos_notebook/kernel.py:1334: DeprecationWarning: Kernel._parent_header is deprecated in ipykernel 6. Use .get_parent()\n",
      "  msg['msg_id'] = self._parent_header['header']['msg_id']\n"
     ]
    },
    {
     "name": "stdout",
     "output_type": "stream",
     "text": [
      "\u001b[91mERROR\u001b[0m: \u001b[91mFailed to locate /home/dmc2245/working/UKBB_GWAS_dev/admin/Get_Job_Script.ipynb.sos\u001b[0m\n",
      "\n"
     ]
    }
   ],
   "source": [
    "lmm_dir_regenie=~/UKBiobank/results/REGENIE_results/results_burden_exome/091321_f3393_hearing_aid\n",
    "lmm_sbatch_regenie=~/scripts/f3393_hearing_aid_200k_exomes-regenie-burden_$(date +\"%Y-%m-%d\").sbatch\n",
    "phenoFile=~/UKBiobank/phenotype_files/hearing_impairment/090321_UKBB_Hearing_aid_f3393_expandedwhite_6436cases_96601ctrl_PC1_2.tsv\n",
    "covarFile=~/UKBiobank/phenotype_files/hearing_impairment/090321_UKBB_Hearing_aid_f3393_expandedwhite_6436cases_96601ctrl_PC1_2.tsv\n",
    "phenoCol=f3393\n",
    "covarCol=sex\n",
    "qCovarCol='age PC1 PC2'\n",
    "#This run do it with unqc'ed plink files while we wait for the qc'ed ones\n",
    "genoFile=`echo /home/gl2776/UKBiobank/data/exome_files/project_VCF/072721_run/plink/ukb23156_c{1..22}.merged.filtered.bed`\n",
    "bfile=/home/gl2776/UKBiobank/genotype_files_processed/090221_sample_variant_qc_final_callrate90/cache/UKB_genotypedatadownloaded083019.090221_sample_variant_qc_final_callrate90.filtered.extracted.bed\n",
    "anno_file=~/UKBiobank/results/REGENIE_results/results_burden_exome/091321_burden_files/ukb23155_chr1_chr22_091321.hg38.hg38_multianno.anno_file\n",
    "set_list=~/UKBiobank/results/REGENIE_results/results_burden_exome/091321_burden_files/ukb23155_chr1_chr22_091321.hg38.hg38_multianno.set_list_file\n",
    "mask_file=~/UKBiobank/results/REGENIE_results/results_burden_exome/091321_burden_files/ukb23155_chr1_chr22_091321.hg38.hg38_multianno.mask_file\n",
    "keep_gene=\n",
    "build_mask=max\n",
    "aaf_bins='0.005 0.01'\n",
    "tpl_file=~/working/bioworkflows/admin/csg.yml\n",
    "lmm_sos=~/working/bioworkflows/GWAS/LMM.ipynb\n",
    "container_marp=/home/gl2776/containers/marp.sif\n",
    "container_lmm=/home/gl2776/containers/lmm.sif \n",
    "lmm_job_size=1\n",
    "ylim=0\n",
    "reverse_log_p=True\n",
    "numThreads=20\n",
    "formatFile_regenie=/home/gl2776/working/UKBB_GWAS_dev/data/regenie_template.yml\n",
    "bsize=1000\n",
    "trait=bt\n",
    "minMAC=1\n",
    "snpannofile=~/UKBiobank/results/ukb23155_200Kexomes_annovar/091321_exome_bim_merge/ukb23155_chr1_chr22_091321.hg38.hg38_multianno.csv\n",
    "\n",
    "lmm_args=\"\"\"regenie_burden\n",
    "    --cwd $lmm_dir_regenie \n",
    "    --bfile $bfile \n",
    "    --genoFile $genoFile\n",
    "    --sampleFile $sampleFile\n",
    "    --phenoFile $phenoFile \n",
    "    --formatFile $formatFile_regenie \n",
    "    --phenoCol $phenoCol\n",
    "    --covarCol $covarCol  \n",
    "    --qCovarCol $qCovarCol\n",
    "    --bsize $bsize\n",
    "    --trait $trait\n",
    "    --anno_file $anno_file\n",
    "    --set_list $set_list\n",
    "    --mask_file $mask_file\n",
    "    --keep_gene $keep_gene\n",
    "    --aaf_bins $aaf_bins\n",
    "    --build_mask $build_mask\n",
    "    --job_size $lmm_job_size\n",
    "    --ylim $ylim\n",
    "    --reverse_log_p $reverse_log_p\n",
    "    --numThreads $numThreads\n",
    "    --minMAC $minMAC\n",
    "    --snpannofile $snpannofile\n",
    "    --label_annotate\n",
    "    --container_lmm $container_lmm\n",
    "    --container_marp $container_marp\n",
    "\"\"\"\n",
    "\n",
    "sos run ~/working/UKBB_GWAS_dev/admin/Get_Job_Script.ipynb csg \\\n",
    "    --template-file $tpl_file \\\n",
    "    --workflow-file $lmm_sos \\\n",
    "    --to-script $lmm_sbatch_regenie \\\n",
    "    --args \"$lmm_args\""
   ]
  },
  {
   "cell_type": "markdown",
   "id": "2c80f1d5-4643-465b-8ff7-44ef2382f00c",
   "metadata": {
    "kernel": "Bash"
   },
   "source": [
    "### 090321_f2247_hearing_difficulty"
   ]
  },
  {
   "cell_type": "code",
   "execution_count": 16,
   "id": "18977579-6b4d-4b7b-b5cf-010ef47cf969",
   "metadata": {
    "kernel": "Bash"
   },
   "outputs": [
    {
     "name": "stdout",
     "output_type": "stream",
     "text": [
      "INFO: Running \u001b[32mcsg\u001b[0m: Configuration for Columbia csg partition cluster\n",
      "INFO: \u001b[32mcsg\u001b[0m is \u001b[32mcompleted\u001b[0m.\n",
      "INFO: \u001b[32mcsg\u001b[0m output:   \u001b[32m/home/gl2776/scripts/f2247_hearing_difficulty_200k_exomes-regenie-burden_2021-09-15.sbatch\u001b[0m\n",
      "INFO: Workflow csg (ID=w90db456c6ca63366) is executed successfully with 1 completed step.\n",
      "\n"
     ]
    }
   ],
   "source": [
    "lmm_dir_regenie=~/UKBiobank/results/REGENIE_results/results_burden_exome/090321_f2247_hearing_difficulty\n",
    "lmm_sbatch_regenie=~/scripts/f2247_hearing_difficulty_200k_exomes-regenie-burden_$(date +\"%Y-%m-%d\").sbatch\n",
    "phenoFile=~/UKBiobank/phenotype_files/hearing_impairment/090321_UKBB_Hearing_difficulty_f2247_expandedwhite_45502cases_96601ctrl_PC1_2.tsv\n",
    "covarFile=~/UKBiobank/phenotype_files/hearing_impairment/090321_UKBB_Hearing_difficulty_f2247_expandedwhite_45502cases_96601ctrl_PC1_2.tsv\n",
    "phenoCol=f2247\n",
    "covarCol=sex\n",
    "qCovarCol='age PC1 PC2'\n",
    "#This run do it with unqc'ed plink files while we wait for the qc'ed ones\n",
    "genoFile=`echo /home/gl2776/UKBiobank/data/exome_files/project_VCF/072721_run/plink/ukb23156_c{1..22}.merged.filtered.bed`\n",
    "bfile=/home/gl2776/UKBiobank/genotype_files_processed/090221_sample_variant_qc_final_callrate90/cache/UKB_genotypedatadownloaded083019.090221_sample_variant_qc_final_callrate90.filtered.extracted.bed\n",
    "anno_file=~/UKBiobank/results/REGENIE_results/results_burden_exome/091321_burden_files/ukb23155_chr1_chr22_091321.hg38.hg38_multianno.anno_file\n",
    "set_list=~/UKBiobank/results/REGENIE_results/results_burden_exome/091321_burden_files/ukb23155_chr1_chr22_091321.hg38.hg38_multianno.set_list_file\n",
    "mask_file=~/UKBiobank/results/REGENIE_results/results_burden_exome/091321_burden_files/ukb23155_chr1_chr22_091321.hg38.hg38_multianno.mask_file\n",
    "keep_gene=\n",
    "build_mask=max\n",
    "aaf_bins='0.005 0.01'\n",
    "tpl_file=~/working/bioworkflows/admin/csg.yml\n",
    "lmm_sos=~/working/bioworkflows/GWAS/LMM.ipynb\n",
    "container_marp=/home/gl2776/containers/marp.sif\n",
    "container_lmm=/home/gl2776/containers/lmm.sif \n",
    "lmm_job_size=1\n",
    "ylim=0\n",
    "reverse_log_p=True\n",
    "numThreads=20\n",
    "formatFile_regenie=/home/gl2776/working/UKBB_GWAS_dev/data/regenie_template.yml\n",
    "bsize=1000\n",
    "trait=bt\n",
    "minMAC=1\n",
    "snpannofile=~/UKBiobank/results/ukb23155_200Kexomes_annovar/091321_exome_bim_merge/ukb23155_chr1_chr22_091321.hg38.hg38_multianno.csv\n",
    "\n",
    "lmm_args=\"\"\"regenie_burden\n",
    "    --cwd $lmm_dir_regenie \n",
    "    --bfile $bfile \n",
    "    --genoFile $genoFile\n",
    "    --sampleFile $sampleFile\n",
    "    --phenoFile $phenoFile \n",
    "    --formatFile $formatFile_regenie \n",
    "    --phenoCol $phenoCol\n",
    "    --covarCol $covarCol  \n",
    "    --qCovarCol $qCovarCol\n",
    "    --bsize $bsize\n",
    "    --trait $trait\n",
    "    --anno_file $anno_file\n",
    "    --set_list $set_list\n",
    "    --mask_file $mask_file\n",
    "    --keep_gene $keep_gene\n",
    "    --aaf_bins $aaf_bins\n",
    "    --build_mask $build_mask\n",
    "    --job_size $lmm_job_size\n",
    "    --ylim $ylim\n",
    "    --reverse_log_p $reverse_log_p\n",
    "    --numThreads $numThreads\n",
    "    --minMAC $minMAC\n",
    "    --snpannofile $snpannofile\n",
    "    --container_lmm $container_lmm\n",
    "    --container_marp $container_marp\n",
    "\"\"\"\n",
    "\n",
    "sos run ~/working/UKBB_GWAS_dev/admin/Get_Job_Script.ipynb csg \\\n",
    "    --template-file $tpl_file \\\n",
    "    --workflow-file $lmm_sos \\\n",
    "    --to-script $lmm_sbatch_regenie \\\n",
    "    --args \"$lmm_args\""
   ]
  },
  {
   "cell_type": "markdown",
   "id": "4cf90683-57de-47ea-b08f-fed87d4404d7",
   "metadata": {
    "kernel": "Bash"
   },
   "source": [
    "### 090321_f2257_hearing_noise"
   ]
  },
  {
   "cell_type": "code",
   "execution_count": 17,
   "id": "81a3ce60-8a56-453e-804a-b22d0d3cbb83",
   "metadata": {
    "kernel": "Bash"
   },
   "outputs": [
    {
     "name": "stdout",
     "output_type": "stream",
     "text": [
      "INFO: Running \u001b[32mcsg\u001b[0m: Configuration for Columbia csg partition cluster\n",
      "INFO: \u001b[32mcsg\u001b[0m is \u001b[32mcompleted\u001b[0m.\n",
      "INFO: \u001b[32mcsg\u001b[0m output:   \u001b[32m/home/gl2776/scripts/f2257_hearing_noise_200k_exomes-regenie-burden_2021-09-15.sbatch\u001b[0m\n",
      "INFO: Workflow csg (ID=w78800ab614faa54c) is executed successfully with 1 completed step.\n",
      "\n"
     ]
    }
   ],
   "source": [
    "lmm_dir_regenie=~/UKBiobank/results/REGENIE_results/results_burden_exome/090321_f2257_hearing_noise\n",
    "lmm_sbatch_regenie=~/scripts/f2257_hearing_noise_200k_exomes-regenie-burden_$(date +\"%Y-%m-%d\").sbatch\n",
    "phenoFile=~/UKBiobank/phenotype_files/hearing_impairment/090321_UKBB_Hearing_noise_f2257_expandedwhite_65660cases_96601ctrl_PC1_2.tsv\n",
    "covarFile=~/UKBiobank/phenotype_files/hearing_impairment/090321_UKBB_Hearing_noise_f2257_expandedwhite_65660cases_96601ctrl_PC1_2.tsv\n",
    "phenoCol=f2257\n",
    "covarCol=sex\n",
    "qCovarCol='age PC1 PC2'\n",
    "#This run do it with unqc'ed plink files while we wait for the qc'ed ones\n",
    "genoFile=`echo /home/gl2776/UKBiobank/data/exome_files/project_VCF/072721_run/plink/ukb23156_c{1..22}.merged.filtered.bed`\n",
    "bfile=/home/gl2776/UKBiobank/genotype_files_processed/090221_sample_variant_qc_final_callrate90/cache/UKB_genotypedatadownloaded083019.090221_sample_variant_qc_final_callrate90.filtered.extracted.bed\n",
    "anno_file=~/UKBiobank/results/REGENIE_results/results_burden_exome/091321_burden_files/ukb23155_chr1_chr22_091321.hg38.hg38_multianno.anno_file\n",
    "set_list=~/UKBiobank/results/REGENIE_results/results_burden_exome/091321_burden_files/ukb23155_chr1_chr22_091321.hg38.hg38_multianno.set_list_file\n",
    "mask_file=~/UKBiobank/results/REGENIE_results/results_burden_exome/091321_burden_files/ukb23155_chr1_chr22_091321.hg38.hg38_multianno.mask_file\n",
    "keep_gene=\n",
    "build_mask=max\n",
    "aaf_bins='0.005 0.01'\n",
    "tpl_file=~/working/bioworkflows/admin/csg.yml\n",
    "lmm_sos=~/working/bioworkflows/GWAS/LMM.ipynb\n",
    "container_marp=/home/gl2776/containers/marp.sif\n",
    "container_lmm=/home/gl2776/containers/lmm.sif \n",
    "lmm_job_size=1\n",
    "ylim=0\n",
    "reverse_log_p=True\n",
    "numThreads=20\n",
    "formatFile_regenie=/home/gl2776/working/UKBB_GWAS_dev/data/regenie_template.yml\n",
    "bsize=1000\n",
    "trait=bt\n",
    "minMAC=1\n",
    "snpannofile=~/UKBiobank/results/ukb23155_200Kexomes_annovar/091321_exome_bim_merge/ukb23155_chr1_chr22_091321.hg38.hg38_multianno.csv\n",
    "\n",
    "lmm_args=\"\"\"regenie_burden\n",
    "    --cwd $lmm_dir_regenie \n",
    "    --bfile $bfile \n",
    "    --genoFile $genoFile\n",
    "    --sampleFile $sampleFile\n",
    "    --phenoFile $phenoFile \n",
    "    --formatFile $formatFile_regenie \n",
    "    --phenoCol $phenoCol\n",
    "    --covarCol $covarCol  \n",
    "    --qCovarCol $qCovarCol\n",
    "    --bsize $bsize\n",
    "    --trait $trait\n",
    "    --anno_file $anno_file\n",
    "    --set_list $set_list\n",
    "    --mask_file $mask_file\n",
    "    --keep_gene $keep_gene\n",
    "    --aaf_bins $aaf_bins\n",
    "    --build_mask $build_mask\n",
    "    --job_size $lmm_job_size\n",
    "    --ylim $ylim\n",
    "    --reverse_log_p $reverse_log_p\n",
    "    --numThreads $numThreads\n",
    "    --minMAC $minMAC\n",
    "    --snpannofile $snpannofile\n",
    "    --container_lmm $container_lmm\n",
    "    --container_marp $container_marp\n",
    "\"\"\"\n",
    "\n",
    "sos run ~/working/UKBB_GWAS_dev/admin/Get_Job_Script.ipynb csg \\\n",
    "    --template-file $tpl_file \\\n",
    "    --workflow-file $lmm_sos \\\n",
    "    --to-script $lmm_sbatch_regenie \\\n",
    "    --args \"$lmm_args\""
   ]
  },
  {
   "cell_type": "markdown",
   "id": "5c60ae7f-8981-449a-992a-3a884aefb12a",
   "metadata": {
    "kernel": "Bash"
   },
   "source": [
    "### 090321_Combined_f2247_f2257"
   ]
  },
  {
   "cell_type": "code",
   "execution_count": 18,
   "id": "2f77cef8-c607-40e6-8362-74c94a22c882",
   "metadata": {
    "kernel": "Bash"
   },
   "outputs": [
    {
     "name": "stdout",
     "output_type": "stream",
     "text": [
      "INFO: Running \u001b[32mcsg\u001b[0m: Configuration for Columbia csg partition cluster\n",
      "INFO: \u001b[32mcsg\u001b[0m is \u001b[32mcompleted\u001b[0m.\n",
      "INFO: \u001b[32mcsg\u001b[0m output:   \u001b[32m/home/gl2776/scripts/Combined_f2247_f2257_200k_exomes-regenie-burden_2021-09-15.sbatch\u001b[0m\n",
      "INFO: Workflow csg (ID=w8797907b7fc089ea) is executed successfully with 1 completed step.\n",
      "\n"
     ]
    }
   ],
   "source": [
    "lmm_dir_regenie=~/UKBiobank/results/REGENIE_results/results_burden_exome/090321_Combined_f2247_f2257\n",
    "lmm_sbatch_regenie=~/scripts/Combined_f2247_f2257_200k_exomes-regenie-burden_$(date +\"%Y-%m-%d\").sbatch\n",
    "phenoFile=~/UKBiobank/phenotype_files/hearing_impairment/090321_UKBB_Combined_f2247_f2257_expandedwhite_38410cases_96601ctrl_PC1_2.tsv\n",
    "covarFile=~/UKBiobank/phenotype_files/hearing_impairment/090321_UKBB_Combined_f2247_f2257_expandedwhite_38410cases_96601ctrl_PC1_2.tsv\n",
    "phenoCol=f2247_f2257\n",
    "covarCol=sex\n",
    "qCovarCol='age PC1 PC2'\n",
    "#This run do it with unqc'ed plink files while we wait for the qc'ed ones\n",
    "genoFile=`echo /home/gl2776/UKBiobank/data/exome_files/project_VCF/072721_run/plink/ukb23156_c{1..22}.merged.filtered.bed`\n",
    "bfile=/home/gl2776/UKBiobank/genotype_files_processed/090221_sample_variant_qc_final_callrate90/cache/UKB_genotypedatadownloaded083019.090221_sample_variant_qc_final_callrate90.filtered.extracted.bed\n",
    "anno_file=~/UKBiobank/results/REGENIE_results/results_burden_exome/091321_burden_files/ukb23155_chr1_chr22_091321.hg38.hg38_multianno.anno_file\n",
    "set_list=~/UKBiobank/results/REGENIE_results/results_burden_exome/091321_burden_files/ukb23155_chr1_chr22_091321.hg38.hg38_multianno.set_list_file\n",
    "mask_file=~/UKBiobank/results/REGENIE_results/results_burden_exome/091321_burden_files/ukb23155_chr1_chr22_091321.hg38.hg38_multianno.mask_file\n",
    "keep_gene=\n",
    "build_mask=max\n",
    "aaf_bins='0.005 0.01'\n",
    "tpl_file=~/working/bioworkflows/admin/csg.yml\n",
    "lmm_sos=~/working/bioworkflows/GWAS/LMM.ipynb\n",
    "container_marp=/home/gl2776/containers/marp.sif\n",
    "container_lmm=/home/gl2776/containers/lmm.sif \n",
    "lmm_job_size=1\n",
    "ylim=0\n",
    "reverse_log_p=True\n",
    "numThreads=20\n",
    "formatFile_regenie=/home/gl2776/working/UKBB_GWAS_dev/data/regenie_template.yml\n",
    "bsize=1000\n",
    "trait=bt\n",
    "minMAC=1\n",
    "snpannofile=~/UKBiobank/results/ukb23155_200Kexomes_annovar/091321_exome_bim_merge/ukb23155_chr1_chr22_091321.hg38.hg38_multianno.csv\n",
    "\n",
    "lmm_args=\"\"\"regenie_burden\n",
    "    --cwd $lmm_dir_regenie \n",
    "    --bfile $bfile \n",
    "    --genoFile $genoFile\n",
    "    --sampleFile $sampleFile\n",
    "    --phenoFile $phenoFile \n",
    "    --formatFile $formatFile_regenie \n",
    "    --phenoCol $phenoCol\n",
    "    --covarCol $covarCol  \n",
    "    --qCovarCol $qCovarCol\n",
    "    --bsize $bsize\n",
    "    --trait $trait\n",
    "    --anno_file $anno_file\n",
    "    --set_list $set_list\n",
    "    --mask_file $mask_file\n",
    "    --keep_gene $keep_gene\n",
    "    --aaf_bins $aaf_bins\n",
    "    --build_mask $build_mask\n",
    "    --job_size $lmm_job_size\n",
    "    --ylim $ylim\n",
    "    --reverse_log_p $reverse_log_p\n",
    "    --numThreads $numThreads\n",
    "    --minMAC $minMAC\n",
    "    --snpannofile $snpannofile\n",
    "    --container_lmm $container_lmm\n",
    "    --container_marp $container_marp\n",
    "\"\"\"\n",
    "\n",
    "sos run ~/working/UKBB_GWAS_dev/admin/Get_Job_Script.ipynb csg \\\n",
    "    --template-file $tpl_file \\\n",
    "    --workflow-file $lmm_sos \\\n",
    "    --to-script $lmm_sbatch_regenie \\\n",
    "    --args \"$lmm_args\""
   ]
  },
  {
   "cell_type": "markdown",
   "id": "78765c72-9cd4-4cba-9b41-e017b42fa94c",
   "metadata": {
    "kernel": "Bash"
   },
   "source": [
    "## Regenie Burden with 150K exomes"
   ]
  },
  {
   "cell_type": "markdown",
   "id": "bcc2927b-14f9-48a2-855a-bd57ca42fde0",
   "metadata": {
    "kernel": "Bash"
   },
   "source": [
    "### 091321_f3393_hearing_aid"
   ]
  },
  {
   "cell_type": "code",
   "execution_count": 19,
   "id": "98a7e1a0-cffc-4523-92e1-6fb99cbde632",
   "metadata": {
    "kernel": "Bash"
   },
   "outputs": [
    {
     "name": "stdout",
     "output_type": "stream",
     "text": [
      "INFO: Running \u001b[32mcsg\u001b[0m: Configuration for Columbia csg partition cluster\n",
      "INFO: \u001b[32mcsg\u001b[0m is \u001b[32mcompleted\u001b[0m.\n",
      "INFO: \u001b[32mcsg\u001b[0m output:   \u001b[32m/home/gl2776/scripts/f3393_hearing_aid_150k_exomes-regenie-burden_2021-09-15.sbatch\u001b[0m\n",
      "INFO: Workflow csg (ID=w51162fcc771707b4) is executed successfully with 1 completed step.\n",
      "\n"
     ]
    }
   ],
   "source": [
    "lmm_dir_regenie=~/UKBiobank/results/REGENIE_results/results_burden_exome/150k/091321_f3393_hearing_aid\n",
    "lmm_sbatch_regenie=~/scripts/f3393_hearing_aid_150k_exomes-regenie-burden_$(date +\"%Y-%m-%d\").sbatch\n",
    "phenoFile=~/UKBiobank/phenotype_files/hearing_impairment/090321_UKBB_Hearing_aid_f3393_expandedwhite_78848ind_150K.tsv\n",
    "covarFile=~/UKBiobank/phenotype_files/hearing_impairment/090321_UKBB_Hearing_aid_f3393_expandedwhite_78848ind_150K.tsv\n",
    "phenoCol=f3393\n",
    "covarCol=sex\n",
    "qCovarCol='age PC1 PC2'\n",
    "#This run do it with unqc'ed plink files while we wait for the qc'ed ones\n",
    "genoFile=`echo /home/gl2776/UKBiobank/data/exome_files/project_VCF/072721_run/plink/ukb23156_c{1..22}.merged.filtered.bed`\n",
    "bfile=/home/gl2776/UKBiobank/genotype_files_processed/090221_sample_variant_qc_final_callrate90/cache/UKB_genotypedatadownloaded083019.090221_sample_variant_qc_final_callrate90.filtered.extracted.bed\n",
    "anno_file=~/UKBiobank/results/REGENIE_results/results_burden_exome/091321_burden_files/ukb23155_chr1_chr22_091321.hg38.hg38_multianno.anno_file\n",
    "set_list=~/UKBiobank/results/REGENIE_results/results_burden_exome/091321_burden_files/ukb23155_chr1_chr22_091321.hg38.hg38_multianno.set_list_file\n",
    "mask_file=~/UKBiobank/results/REGENIE_results/results_burden_exome/091321_burden_files/ukb23155_chr1_chr22_091321.hg38.hg38_multianno.mask_file\n",
    "keep_gene=\n",
    "build_mask=max\n",
    "aaf_bins='0.005 0.01'\n",
    "tpl_file=~/working/bioworkflows/admin/csg.yml\n",
    "lmm_sos=~/working/bioworkflows/GWAS/LMM.ipynb\n",
    "container_marp=/home/gl2776/containers/marp.sif\n",
    "container_lmm=/home/gl2776/containers/lmm.sif \n",
    "lmm_job_size=1\n",
    "ylim=0\n",
    "reverse_log_p=True\n",
    "numThreads=20\n",
    "formatFile_regenie=/home/gl2776/working/UKBB_GWAS_dev/data/regenie_template.yml\n",
    "bsize=1000\n",
    "trait=bt\n",
    "minMAC=1\n",
    "snpannofile=~/UKBiobank/results/ukb23155_200Kexomes_annovar/091321_exome_bim_merge/ukb23155_chr1_chr22_091321.hg38.hg38_multianno.csv\n",
    "\n",
    "lmm_args=\"\"\"regenie_burden\n",
    "    --cwd $lmm_dir_regenie \n",
    "    --bfile $bfile \n",
    "    --genoFile $genoFile\n",
    "    --sampleFile $sampleFile\n",
    "    --phenoFile $phenoFile \n",
    "    --formatFile $formatFile_regenie \n",
    "    --phenoCol $phenoCol\n",
    "    --covarCol $covarCol  \n",
    "    --qCovarCol $qCovarCol\n",
    "    --bsize $bsize\n",
    "    --trait $trait\n",
    "    --anno_file $anno_file\n",
    "    --set_list $set_list\n",
    "    --mask_file $mask_file\n",
    "    --keep_gene $keep_gene\n",
    "    --aaf_bins $aaf_bins\n",
    "    --build_mask $build_mask\n",
    "    --job_size $lmm_job_size\n",
    "    --ylim $ylim\n",
    "    --reverse_log_p $reverse_log_p\n",
    "    --numThreads $numThreads\n",
    "    --minMAC $minMAC\n",
    "    --snpannofile $snpannofile\n",
    "    --container_lmm $container_lmm\n",
    "    --container_marp $container_marp\n",
    "\"\"\"\n",
    "\n",
    "sos run ~/working/UKBB_GWAS_dev/admin/Get_Job_Script.ipynb csg \\\n",
    "    --template-file $tpl_file \\\n",
    "    --workflow-file $lmm_sos \\\n",
    "    --to-script $lmm_sbatch_regenie \\\n",
    "    --args \"$lmm_args\""
   ]
  },
  {
   "cell_type": "markdown",
   "id": "0437dbe9-e94e-489d-a826-3608a9bbb69d",
   "metadata": {
    "kernel": "Bash"
   },
   "source": [
    "### 090321_f2247_hearing_difficulty"
   ]
  },
  {
   "cell_type": "code",
   "execution_count": 20,
   "id": "037603bc-71eb-43a9-ae41-818109330d6d",
   "metadata": {
    "kernel": "Bash"
   },
   "outputs": [
    {
     "name": "stdout",
     "output_type": "stream",
     "text": [
      "INFO: Running \u001b[32mcsg\u001b[0m: Configuration for Columbia csg partition cluster\n",
      "INFO: \u001b[32mcsg\u001b[0m is \u001b[32mcompleted\u001b[0m.\n",
      "INFO: \u001b[32mcsg\u001b[0m output:   \u001b[32m/home/gl2776/scripts/f2247_hearing_difficulty_150k_exomes-regenie-burden_2021-09-15.sbatch\u001b[0m\n",
      "INFO: Workflow csg (ID=wad7f4d041448e8f0) is executed successfully with 1 completed step.\n",
      "\n"
     ]
    }
   ],
   "source": [
    "lmm_dir_regenie=~/UKBiobank/results/REGENIE_results/results_burden_exome/150k/090321_f2247_hearing_difficulty\n",
    "lmm_sbatch_regenie=~/scripts/f2247_hearing_difficulty_150k_exomes-regenie-burden_$(date +\"%Y-%m-%d\").sbatch\n",
    "phenoFile=~/UKBiobank/phenotype_files/hearing_impairment/090321_UKBB_Hearing_difficulty_f2247_expandedwhite_107507ind_150K.tsv\n",
    "covarFile=~/UKBiobank/phenotype_files/hearing_impairment/090321_UKBB_Hearing_difficulty_f2247_expandedwhite_107507ind_150K.tsv\n",
    "phenoCol=f2247\n",
    "covarCol=sex\n",
    "qCovarCol='age PC1 PC2'\n",
    "#This run do it with unqc'ed plink files while we wait for the qc'ed ones\n",
    "genoFile=`echo /home/gl2776/UKBiobank/data/exome_files/project_VCF/072721_run/plink/ukb23156_c{1..22}.merged.filtered.bed`\n",
    "bfile=/home/gl2776/UKBiobank/genotype_files_processed/090221_sample_variant_qc_final_callrate90/cache/UKB_genotypedatadownloaded083019.090221_sample_variant_qc_final_callrate90.filtered.extracted.bed\n",
    "anno_file=~/UKBiobank/results/REGENIE_results/results_burden_exome/091321_burden_files/ukb23155_chr1_chr22_091321.hg38.hg38_multianno.anno_file\n",
    "set_list=~/UKBiobank/results/REGENIE_results/results_burden_exome/091321_burden_files/ukb23155_chr1_chr22_091321.hg38.hg38_multianno.set_list_file\n",
    "mask_file=~/UKBiobank/results/REGENIE_results/results_burden_exome/091321_burden_files/ukb23155_chr1_chr22_091321.hg38.hg38_multianno.mask_file\n",
    "keep_gene=\n",
    "build_mask=max\n",
    "aaf_bins='0.005 0.01'\n",
    "tpl_file=~/working/bioworkflows/admin/csg.yml\n",
    "lmm_sos=~/working/bioworkflows/GWAS/LMM.ipynb\n",
    "container_marp=/home/gl2776/containers/marp.sif\n",
    "container_lmm=/home/gl2776/containers/lmm.sif \n",
    "lmm_job_size=1\n",
    "ylim=0\n",
    "reverse_log_p=True\n",
    "numThreads=20\n",
    "formatFile_regenie=/home/gl2776/working/UKBB_GWAS_dev/data/regenie_template.yml\n",
    "bsize=1000\n",
    "trait=bt\n",
    "minMAC=1\n",
    "snpannofile=~/UKBiobank/results/ukb23155_200Kexomes_annovar/091321_exome_bim_merge/ukb23155_chr1_chr22_091321.hg38.hg38_multianno.csv\n",
    "\n",
    "lmm_args=\"\"\"regenie_burden\n",
    "    --cwd $lmm_dir_regenie \n",
    "    --bfile $bfile \n",
    "    --genoFile $genoFile\n",
    "    --sampleFile $sampleFile\n",
    "    --phenoFile $phenoFile \n",
    "    --formatFile $formatFile_regenie \n",
    "    --phenoCol $phenoCol\n",
    "    --covarCol $covarCol  \n",
    "    --qCovarCol $qCovarCol\n",
    "    --bsize $bsize\n",
    "    --trait $trait\n",
    "    --anno_file $anno_file\n",
    "    --set_list $set_list\n",
    "    --mask_file $mask_file\n",
    "    --keep_gene $keep_gene\n",
    "    --aaf_bins $aaf_bins\n",
    "    --build_mask $build_mask\n",
    "    --job_size $lmm_job_size\n",
    "    --ylim $ylim\n",
    "    --reverse_log_p $reverse_log_p\n",
    "    --numThreads $numThreads\n",
    "    --minMAC $minMAC\n",
    "    --snpannofile $snpannofile\n",
    "    --container_lmm $container_lmm\n",
    "    --container_marp $container_marp\n",
    "\"\"\"\n",
    "\n",
    "sos run ~/working/UKBB_GWAS_dev/admin/Get_Job_Script.ipynb csg \\\n",
    "    --template-file $tpl_file \\\n",
    "    --workflow-file $lmm_sos \\\n",
    "    --to-script $lmm_sbatch_regenie \\\n",
    "    --args \"$lmm_args\""
   ]
  },
  {
   "cell_type": "markdown",
   "id": "15a313f2-cd17-4520-89ed-b8ab10aa56f4",
   "metadata": {
    "kernel": "Bash"
   },
   "source": [
    "### 090321_f2257_hearing_noise"
   ]
  },
  {
   "cell_type": "code",
   "execution_count": 21,
   "id": "d7c80646-9a6a-4f81-9ed8-f8822423ad0c",
   "metadata": {
    "kernel": "Bash"
   },
   "outputs": [
    {
     "name": "stdout",
     "output_type": "stream",
     "text": [
      "INFO: Running \u001b[32mcsg\u001b[0m: Configuration for Columbia csg partition cluster\n",
      "INFO: \u001b[32mcsg\u001b[0m is \u001b[32mcompleted\u001b[0m.\n",
      "INFO: \u001b[32mcsg\u001b[0m output:   \u001b[32m/home/gl2776/scripts/f2257_hearing_noise_150k_exomes-regenie-burden_2021-09-15.sbatch\u001b[0m\n",
      "INFO: Workflow csg (ID=wab5d433b4da56679) is executed successfully with 1 completed step.\n",
      "\n"
     ]
    }
   ],
   "source": [
    "lmm_dir_regenie=~/UKBiobank/results/REGENIE_results/results_burden_exome/150k/090321_f2257_hearing_noise\n",
    "lmm_sbatch_regenie=~/scripts/f2257_hearing_noise_150k_exomes-regenie-burden_$(date +\"%Y-%m-%d\").sbatch\n",
    "phenoFile=~/UKBiobank/phenotype_files/hearing_impairment/090321_UKBB_Hearing_noise_f2257_expandedwhite_123538ind_150K.tsv\n",
    "covarFile=~/UKBiobank/phenotype_files/hearing_impairment/090321_UKBB_Hearing_noise_f2257_expandedwhite_123538ind_150K.tsv\n",
    "phenoCol=f2257\n",
    "covarCol=sex\n",
    "qCovarCol='age PC1 PC2'\n",
    "#This run do it with unqc'ed plink files while we wait for the qc'ed ones\n",
    "genoFile=`echo /home/gl2776/UKBiobank/data/exome_files/project_VCF/072721_run/plink/ukb23156_c{1..22}.merged.filtered.bed`\n",
    "bfile=/home/gl2776/UKBiobank/genotype_files_processed/090221_sample_variant_qc_final_callrate90/cache/UKB_genotypedatadownloaded083019.090221_sample_variant_qc_final_callrate90.filtered.extracted.bed\n",
    "anno_file=~/UKBiobank/results/REGENIE_results/results_burden_exome/091321_burden_files/ukb23155_chr1_chr22_091321.hg38.hg38_multianno.anno_file\n",
    "set_list=~/UKBiobank/results/REGENIE_results/results_burden_exome/091321_burden_files/ukb23155_chr1_chr22_091321.hg38.hg38_multianno.set_list_file\n",
    "mask_file=~/UKBiobank/results/REGENIE_results/results_burden_exome/091321_burden_files/ukb23155_chr1_chr22_091321.hg38.hg38_multianno.mask_file\n",
    "keep_gene=\n",
    "build_mask=max\n",
    "aaf_bins='0.005 0.01'\n",
    "tpl_file=~/working/bioworkflows/admin/csg.yml\n",
    "lmm_sos=~/working/bioworkflows/GWAS/LMM.ipynb\n",
    "container_marp=/home/gl2776/containers/marp.sif\n",
    "container_lmm=/home/gl2776/containers/lmm.sif \n",
    "lmm_job_size=1\n",
    "ylim=0\n",
    "reverse_log_p=True\n",
    "numThreads=20\n",
    "formatFile_regenie=/home/gl2776/working/UKBB_GWAS_dev/data/regenie_template.yml\n",
    "bsize=1000\n",
    "trait=bt\n",
    "minMAC=1\n",
    "snpannofile=~/UKBiobank/results/ukb23155_200Kexomes_annovar/091321_exome_bim_merge/ukb23155_chr1_chr22_091321.hg38.hg38_multianno.csv\n",
    "\n",
    "lmm_args=\"\"\"regenie_burden\n",
    "    --cwd $lmm_dir_regenie \n",
    "    --bfile $bfile \n",
    "    --genoFile $genoFile\n",
    "    --sampleFile $sampleFile\n",
    "    --phenoFile $phenoFile \n",
    "    --formatFile $formatFile_regenie \n",
    "    --phenoCol $phenoCol\n",
    "    --covarCol $covarCol  \n",
    "    --qCovarCol $qCovarCol\n",
    "    --bsize $bsize\n",
    "    --trait $trait\n",
    "    --anno_file $anno_file\n",
    "    --set_list $set_list\n",
    "    --mask_file $mask_file\n",
    "    --keep_gene $keep_gene\n",
    "    --aaf_bins $aaf_bins\n",
    "    --build_mask $build_mask\n",
    "    --job_size $lmm_job_size\n",
    "    --ylim $ylim\n",
    "    --reverse_log_p $reverse_log_p\n",
    "    --numThreads $numThreads\n",
    "    --minMAC $minMAC\n",
    "    --snpannofile $snpannofile\n",
    "    --container_lmm $container_lmm\n",
    "    --container_marp $container_marp\n",
    "\"\"\"\n",
    "\n",
    "sos run ~/working/UKBB_GWAS_dev/admin/Get_Job_Script.ipynb csg \\\n",
    "    --template-file $tpl_file \\\n",
    "    --workflow-file $lmm_sos \\\n",
    "    --to-script $lmm_sbatch_regenie \\\n",
    "    --args \"$lmm_args\""
   ]
  },
  {
   "cell_type": "markdown",
   "id": "dafa7c0a-f43a-42ce-a187-c5d593011de4",
   "metadata": {
    "kernel": "Bash"
   },
   "source": [
    "### 090321_Combined_f2247_f2257"
   ]
  },
  {
   "cell_type": "code",
   "execution_count": 22,
   "id": "9a31a8e5-0372-44a9-a076-cd938fce7427",
   "metadata": {
    "kernel": "Bash"
   },
   "outputs": [
    {
     "name": "stdout",
     "output_type": "stream",
     "text": [
      "INFO: Running \u001b[32mcsg\u001b[0m: Configuration for Columbia csg partition cluster\n",
      "INFO: \u001b[32mcsg\u001b[0m is \u001b[32mcompleted\u001b[0m.\n",
      "INFO: \u001b[32mcsg\u001b[0m output:   \u001b[32m/home/gl2776/scripts/Combined_f2247_f2257_150k_exomes-regenie-burden_2021-09-15.sbatch\u001b[0m\n",
      "INFO: Workflow csg (ID=w604dbcdcac6c65da) is executed successfully with 1 completed step.\n",
      "\n"
     ]
    }
   ],
   "source": [
    "lmm_dir_regenie=~/UKBiobank/results/REGENIE_results/results_burden_exome/150k/090321_Combined_f2247_f2257\n",
    "lmm_sbatch_regenie=~/scripts/Combined_f2247_f2257_150k_exomes-regenie-burden_$(date +\"%Y-%m-%d\").sbatch\n",
    "phenoFile=~/UKBiobank/phenotype_files/hearing_impairment/090321_UKBB_Combined_f2247_f2257_expandedwhite_102133ind_150K.tsv\n",
    "covarFile=~/UKBiobank/phenotype_files/hearing_impairment/090321_UKBB_Combined_f2247_f2257_expandedwhite_102133ind_150K.tsv\n",
    "phenoCol=f2247_f2257\n",
    "covarCol=sex\n",
    "qCovarCol='age PC1 PC2'\n",
    "#This run do it with unqc'ed plink files while we wait for the qc'ed ones\n",
    "genoFile=`echo /home/gl2776/UKBiobank/data/exome_files/project_VCF/072721_run/plink/ukb23156_c{1..22}.merged.filtered.bed`\n",
    "bfile=/home/gl2776/UKBiobank/genotype_files_processed/090221_sample_variant_qc_final_callrate90/cache/UKB_genotypedatadownloaded083019.090221_sample_variant_qc_final_callrate90.filtered.extracted.bed\n",
    "anno_file=~/UKBiobank/results/REGENIE_results/results_burden_exome/091321_burden_files/ukb23155_chr1_chr22_091321.hg38.hg38_multianno.anno_file\n",
    "set_list=~/UKBiobank/results/REGENIE_results/results_burden_exome/091321_burden_files/ukb23155_chr1_chr22_091321.hg38.hg38_multianno.set_list_file\n",
    "mask_file=~/UKBiobank/results/REGENIE_results/results_burden_exome/091321_burden_files/ukb23155_chr1_chr22_091321.hg38.hg38_multianno.mask_file\n",
    "keep_gene=\n",
    "build_mask=max\n",
    "aaf_bins='0.005 0.01'\n",
    "tpl_file=~/working/bioworkflows/admin/csg.yml\n",
    "lmm_sos=~/working/bioworkflows/GWAS/LMM.ipynb\n",
    "container_marp=/home/gl2776/containers/marp.sif\n",
    "container_lmm=/home/gl2776/containers/lmm.sif \n",
    "lmm_job_size=1\n",
    "ylim=0\n",
    "reverse_log_p=True\n",
    "numThreads=20\n",
    "formatFile_regenie=/home/gl2776/working/UKBB_GWAS_dev/data/regenie_template.yml\n",
    "bsize=1000\n",
    "trait=bt\n",
    "minMAC=1\n",
    "snpannofile=~/UKBiobank/results/ukb23155_200Kexomes_annovar/091321_exome_bim_merge/ukb23155_chr1_chr22_091321.hg38.hg38_multianno.csv\n",
    "\n",
    "lmm_args=\"\"\"regenie_burden\n",
    "    --cwd $lmm_dir_regenie \n",
    "    --bfile $bfile \n",
    "    --genoFile $genoFile\n",
    "    --sampleFile $sampleFile\n",
    "    --phenoFile $phenoFile \n",
    "    --formatFile $formatFile_regenie \n",
    "    --phenoCol $phenoCol\n",
    "    --covarCol $covarCol  \n",
    "    --qCovarCol $qCovarCol\n",
    "    --bsize $bsize\n",
    "    --trait $trait\n",
    "    --anno_file $anno_file\n",
    "    --set_list $set_list\n",
    "    --mask_file $mask_file\n",
    "    --keep_gene $keep_gene\n",
    "    --aaf_bins $aaf_bins\n",
    "    --build_mask $build_mask\n",
    "    --job_size $lmm_job_size\n",
    "    --ylim $ylim\n",
    "    --reverse_log_p $reverse_log_p\n",
    "    --numThreads $numThreads\n",
    "    --minMAC $minMAC\n",
    "    --snpannofile $snpannofile\n",
    "    --container_lmm $container_lmm\n",
    "    --container_marp $container_marp\n",
    "\"\"\"\n",
    "\n",
    "sos run ~/working/UKBB_GWAS_dev/admin/Get_Job_Script.ipynb csg \\\n",
    "    --template-file $tpl_file \\\n",
    "    --workflow-file $lmm_sos \\\n",
    "    --to-script $lmm_sbatch_regenie \\\n",
    "    --args \"$lmm_args\""
   ]
  },
  {
   "cell_type": "markdown",
   "id": "d318f725-f1a2-4c25-8c55-d56b4a1dd955",
   "metadata": {
    "kernel": "Bash"
   },
   "source": [
    "## Regenie Burden with 50K exomes"
   ]
  },
  {
   "cell_type": "markdown",
   "id": "d1a47b7e-1b78-4453-be6a-2c713a052c13",
   "metadata": {
    "kernel": "Bash"
   },
   "source": [
    "### 091321_f3393_hearing_aid"
   ]
  },
  {
   "cell_type": "code",
   "execution_count": 23,
   "id": "66197991-ee67-4da2-bfea-6040ad6d74f1",
   "metadata": {
    "kernel": "Bash"
   },
   "outputs": [
    {
     "name": "stdout",
     "output_type": "stream",
     "text": [
      "INFO: Running \u001b[32mcsg\u001b[0m: Configuration for Columbia csg partition cluster\n",
      "INFO: \u001b[32mcsg\u001b[0m is \u001b[32mcompleted\u001b[0m.\n",
      "INFO: \u001b[32mcsg\u001b[0m output:   \u001b[32m/home/gl2776/scripts/f3393_hearing_aid_50k_exomes-regenie-burden_2021-09-15.sbatch\u001b[0m\n",
      "INFO: Workflow csg (ID=w9ee3bb0306c92e88) is executed successfully with 1 completed step.\n",
      "\n"
     ]
    }
   ],
   "source": [
    "lmm_dir_regenie=~/UKBiobank/results/REGENIE_results/results_burden_exome/50k/091321_f3393_hearing_aid\n",
    "lmm_sbatch_regenie=~/scripts/f3393_hearing_aid_50k_exomes-regenie-burden_$(date +\"%Y-%m-%d\").sbatch\n",
    "phenoFile=~/UKBiobank/phenotype_files/hearing_impairment/090321_UKBB_Hearing_aid_f3393_expandedwhite_24189ind_50K.tsv\n",
    "covarFile=~/UKBiobank/phenotype_files/hearing_impairment/090321_UKBB_Hearing_aid_f3393_expandedwhite_24189ind_50K.tsv\n",
    "phenoCol=f3393\n",
    "covarCol=sex\n",
    "qCovarCol='age PC1 PC2'\n",
    "#This run do it with unqc'ed plink files while we wait for the qc'ed ones\n",
    "genoFile=`echo /home/gl2776/UKBiobank/data/exome_files/project_VCF/072721_run/plink/ukb23156_c{1..22}.merged.filtered.bed`\n",
    "bfile=/home/gl2776/UKBiobank/genotype_files_processed/090221_sample_variant_qc_final_callrate90/cache/UKB_genotypedatadownloaded083019.090221_sample_variant_qc_final_callrate90.filtered.extracted.bed\n",
    "anno_file=~/UKBiobank/results/REGENIE_results/results_burden_exome/091321_burden_files/ukb23155_chr1_chr22_091321.hg38.hg38_multianno.anno_file\n",
    "set_list=~/UKBiobank/results/REGENIE_results/results_burden_exome/091321_burden_files/ukb23155_chr1_chr22_091321.hg38.hg38_multianno.set_list_file\n",
    "mask_file=~/UKBiobank/results/REGENIE_results/results_burden_exome/091321_burden_files/ukb23155_chr1_chr22_091321.hg38.hg38_multianno.mask_file\n",
    "keep_gene=\n",
    "build_mask=max\n",
    "aaf_bins='0.005 0.01'\n",
    "tpl_file=~/working/bioworkflows/admin/csg.yml\n",
    "lmm_sos=~/working/bioworkflows/GWAS/LMM.ipynb\n",
    "container_marp=/home/gl2776/containers/marp.sif\n",
    "container_lmm=/home/gl2776/containers/lmm.sif \n",
    "lmm_job_size=1\n",
    "ylim=0\n",
    "reverse_log_p=True\n",
    "numThreads=20\n",
    "formatFile_regenie=/home/gl2776/working/UKBB_GWAS_dev/data/regenie_template.yml\n",
    "bsize=1000\n",
    "trait=bt\n",
    "minMAC=1\n",
    "snpannofile=~/UKBiobank/results/ukb23155_200Kexomes_annovar/091321_exome_bim_merge/ukb23155_chr1_chr22_091321.hg38.hg38_multianno.csv\n",
    "\n",
    "lmm_args=\"\"\"regenie_burden\n",
    "    --cwd $lmm_dir_regenie \n",
    "    --bfile $bfile \n",
    "    --genoFile $genoFile\n",
    "    --sampleFile $sampleFile\n",
    "    --phenoFile $phenoFile \n",
    "    --formatFile $formatFile_regenie \n",
    "    --phenoCol $phenoCol\n",
    "    --covarCol $covarCol  \n",
    "    --qCovarCol $qCovarCol\n",
    "    --bsize $bsize\n",
    "    --trait $trait\n",
    "    --anno_file $anno_file\n",
    "    --set_list $set_list\n",
    "    --mask_file $mask_file\n",
    "    --keep_gene $keep_gene\n",
    "    --aaf_bins $aaf_bins\n",
    "    --build_mask $build_mask\n",
    "    --job_size $lmm_job_size\n",
    "    --ylim $ylim\n",
    "    --reverse_log_p $reverse_log_p\n",
    "    --numThreads $numThreads\n",
    "    --minMAC $minMAC\n",
    "    --snpannofile $snpannofile\n",
    "    --container_lmm $container_lmm\n",
    "    --container_marp $container_marp\n",
    "\"\"\"\n",
    "\n",
    "sos run ~/working/UKBB_GWAS_dev/admin/Get_Job_Script.ipynb csg \\\n",
    "    --template-file $tpl_file \\\n",
    "    --workflow-file $lmm_sos \\\n",
    "    --to-script $lmm_sbatch_regenie \\\n",
    "    --args \"$lmm_args\""
   ]
  },
  {
   "cell_type": "markdown",
   "id": "b976a78c-7c5d-4c5c-be9b-ee155290ec91",
   "metadata": {
    "kernel": "Bash"
   },
   "source": [
    "### 090321_f2247_hearing_difficulty"
   ]
  },
  {
   "cell_type": "code",
   "execution_count": 24,
   "id": "70b169f7-e51f-482a-801d-7def8f068139",
   "metadata": {
    "kernel": "Bash"
   },
   "outputs": [
    {
     "name": "stdout",
     "output_type": "stream",
     "text": [
      "INFO: Running \u001b[32mcsg\u001b[0m: Configuration for Columbia csg partition cluster\n",
      "INFO: \u001b[32mcsg\u001b[0m is \u001b[32mcompleted\u001b[0m.\n",
      "INFO: \u001b[32mcsg\u001b[0m output:   \u001b[32m/home/gl2776/scripts/f2247_hearing_difficulty_50k_exomes-regenie-burden_2021-09-15.sbatch\u001b[0m\n",
      "INFO: Workflow csg (ID=w43418dbdd66619db) is executed successfully with 1 completed step.\n",
      "\n"
     ]
    }
   ],
   "source": [
    "lmm_dir_regenie=~/UKBiobank/results/REGENIE_results/results_burden_exome/50k/090321_f2247_hearing_difficulty\n",
    "lmm_sbatch_regenie=~/scripts/f2247_hearing_difficulty_50k_exomes-regenie-burden_$(date +\"%Y-%m-%d\").sbatch\n",
    "phenoFile=~/UKBiobank/phenotype_files/hearing_impairment/090321_UKBB_Hearing_difficulty_f2247_expandedwhite_34596ind_50K.tsv\n",
    "covarFile=~/UKBiobank/phenotype_files/hearing_impairment/090321_UKBB_Hearing_difficulty_f2247_expandedwhite_34596ind_50K.tsv\n",
    "phenoCol=f2247\n",
    "covarCol=sex\n",
    "qCovarCol='age PC1 PC2'\n",
    "#This run do it with unqc'ed plink files while we wait for the qc'ed ones\n",
    "genoFile=`echo /home/gl2776/UKBiobank/data/exome_files/project_VCF/072721_run/plink/ukb23156_c{1..22}.merged.filtered.bed`\n",
    "bfile=/home/gl2776/UKBiobank/genotype_files_processed/090221_sample_variant_qc_final_callrate90/cache/UKB_genotypedatadownloaded083019.090221_sample_variant_qc_final_callrate90.filtered.extracted.bed\n",
    "anno_file=~/UKBiobank/results/REGENIE_results/results_burden_exome/091321_burden_files/ukb23155_chr1_chr22_091321.hg38.hg38_multianno.anno_file\n",
    "set_list=~/UKBiobank/results/REGENIE_results/results_burden_exome/091321_burden_files/ukb23155_chr1_chr22_091321.hg38.hg38_multianno.set_list_file\n",
    "mask_file=~/UKBiobank/results/REGENIE_results/results_burden_exome/091321_burden_files/ukb23155_chr1_chr22_091321.hg38.hg38_multianno.mask_file\n",
    "keep_gene=\n",
    "build_mask=max\n",
    "aaf_bins='0.005 0.01'\n",
    "tpl_file=~/working/bioworkflows/admin/csg.yml\n",
    "lmm_sos=~/working/bioworkflows/GWAS/LMM.ipynb\n",
    "container_marp=/home/gl2776/containers/marp.sif\n",
    "container_lmm=/home/gl2776/containers/lmm.sif \n",
    "lmm_job_size=1\n",
    "ylim=0\n",
    "reverse_log_p=True\n",
    "numThreads=20\n",
    "formatFile_regenie=/home/gl2776/working/UKBB_GWAS_dev/data/regenie_template.yml\n",
    "bsize=1000\n",
    "trait=bt\n",
    "minMAC=1\n",
    "snpannofile=~/UKBiobank/results/ukb23155_200Kexomes_annovar/091321_exome_bim_merge/ukb23155_chr1_chr22_091321.hg38.hg38_multianno.csv\n",
    "\n",
    "lmm_args=\"\"\"regenie_burden\n",
    "    --cwd $lmm_dir_regenie \n",
    "    --bfile $bfile \n",
    "    --genoFile $genoFile\n",
    "    --sampleFile $sampleFile\n",
    "    --phenoFile $phenoFile \n",
    "    --formatFile $formatFile_regenie \n",
    "    --phenoCol $phenoCol\n",
    "    --covarCol $covarCol  \n",
    "    --qCovarCol $qCovarCol\n",
    "    --bsize $bsize\n",
    "    --trait $trait\n",
    "    --anno_file $anno_file\n",
    "    --set_list $set_list\n",
    "    --mask_file $mask_file\n",
    "    --keep_gene $keep_gene\n",
    "    --aaf_bins $aaf_bins\n",
    "    --build_mask $build_mask\n",
    "    --job_size $lmm_job_size\n",
    "    --ylim $ylim\n",
    "    --reverse_log_p $reverse_log_p\n",
    "    --numThreads $numThreads\n",
    "    --minMAC $minMAC\n",
    "    --snpannofile $snpannofile\n",
    "    --container_lmm $container_lmm\n",
    "    --container_marp $container_marp\n",
    "\"\"\"\n",
    "\n",
    "sos run ~/working/UKBB_GWAS_dev/admin/Get_Job_Script.ipynb csg \\\n",
    "    --template-file $tpl_file \\\n",
    "    --workflow-file $lmm_sos \\\n",
    "    --to-script $lmm_sbatch_regenie \\\n",
    "    --args \"$lmm_args\""
   ]
  },
  {
   "cell_type": "markdown",
   "id": "64c5cbd8-da8f-4b80-8cb2-c456e6526623",
   "metadata": {
    "kernel": "Bash"
   },
   "source": [
    "### 090321_f2257_hearing_noise"
   ]
  },
  {
   "cell_type": "code",
   "execution_count": 25,
   "id": "7b256369-811b-4b43-adbe-5e4674fa3158",
   "metadata": {
    "kernel": "Bash"
   },
   "outputs": [
    {
     "name": "stdout",
     "output_type": "stream",
     "text": [
      "INFO: Running \u001b[32mcsg\u001b[0m: Configuration for Columbia csg partition cluster\n",
      "INFO: \u001b[32mcsg\u001b[0m is \u001b[32mcompleted\u001b[0m.\n",
      "INFO: \u001b[32mcsg\u001b[0m output:   \u001b[32m/home/gl2776/scripts/f2257_hearing_noise_50k_exomes-regenie-burden_2021-09-15.sbatch\u001b[0m\n",
      "INFO: Workflow csg (ID=w0b166151a3ada337) is executed successfully with 1 completed step.\n",
      "\n"
     ]
    }
   ],
   "source": [
    "lmm_dir_regenie=~/UKBiobank/results/REGENIE_results/results_burden_exome/50k/090321_f2257_hearing_noise\n",
    "lmm_sbatch_regenie=~/scripts/f2257_hearing_noise_50k_exomes-regenie-burden_$(date +\"%Y-%m-%d\").sbatch\n",
    "phenoFile=~/UKBiobank/phenotype_files/hearing_impairment/090321_UKBB_Hearing_noise_f2257_expandedwhite_38723ind_50K.tsv\n",
    "covarFile=~/UKBiobank/phenotype_files/hearing_impairment/090321_UKBB_Hearing_noise_f2257_expandedwhite_38723ind_50K.tsv\n",
    "phenoCol=f2257\n",
    "covarCol=sex\n",
    "qCovarCol='age PC1 PC2'\n",
    "#This run do it with unqc'ed plink files while we wait for the qc'ed ones\n",
    "genoFile=`echo /home/gl2776/UKBiobank/data/exome_files/project_VCF/072721_run/plink/ukb23156_c{1..22}.merged.filtered.bed`\n",
    "bfile=/home/gl2776/UKBiobank/genotype_files_processed/090221_sample_variant_qc_final_callrate90/cache/UKB_genotypedatadownloaded083019.090221_sample_variant_qc_final_callrate90.filtered.extracted.bed\n",
    "anno_file=~/UKBiobank/results/REGENIE_results/results_burden_exome/091321_burden_files/ukb23155_chr1_chr22_091321.hg38.hg38_multianno.anno_file\n",
    "set_list=~/UKBiobank/results/REGENIE_results/results_burden_exome/091321_burden_files/ukb23155_chr1_chr22_091321.hg38.hg38_multianno.set_list_file\n",
    "mask_file=~/UKBiobank/results/REGENIE_results/results_burden_exome/091321_burden_files/ukb23155_chr1_chr22_091321.hg38.hg38_multianno.mask_file\n",
    "keep_gene=\n",
    "build_mask=max\n",
    "aaf_bins='0.005 0.01'\n",
    "tpl_file=~/working/bioworkflows/admin/csg.yml\n",
    "lmm_sos=~/working/bioworkflows/GWAS/LMM.ipynb\n",
    "container_marp=/home/gl2776/containers/marp.sif\n",
    "container_lmm=/home/gl2776/containers/lmm.sif \n",
    "lmm_job_size=1\n",
    "ylim=0\n",
    "reverse_log_p=True\n",
    "numThreads=20\n",
    "formatFile_regenie=/home/gl2776/working/UKBB_GWAS_dev/data/regenie_template.yml\n",
    "bsize=1000\n",
    "trait=bt\n",
    "minMAC=1\n",
    "snpannofile=~/UKBiobank/results/ukb23155_200Kexomes_annovar/091321_exome_bim_merge/ukb23155_chr1_chr22_091321.hg38.hg38_multianno.csv\n",
    "\n",
    "lmm_args=\"\"\"regenie_burden\n",
    "    --cwd $lmm_dir_regenie \n",
    "    --bfile $bfile \n",
    "    --genoFile $genoFile\n",
    "    --sampleFile $sampleFile\n",
    "    --phenoFile $phenoFile \n",
    "    --formatFile $formatFile_regenie \n",
    "    --phenoCol $phenoCol\n",
    "    --covarCol $covarCol  \n",
    "    --qCovarCol $qCovarCol\n",
    "    --bsize $bsize\n",
    "    --trait $trait\n",
    "    --anno_file $anno_file\n",
    "    --set_list $set_list\n",
    "    --mask_file $mask_file\n",
    "    --keep_gene $keep_gene\n",
    "    --aaf_bins $aaf_bins\n",
    "    --build_mask $build_mask\n",
    "    --job_size $lmm_job_size\n",
    "    --ylim $ylim\n",
    "    --reverse_log_p $reverse_log_p\n",
    "    --numThreads $numThreads\n",
    "    --minMAC $minMAC\n",
    "    --snpannofile $snpannofile\n",
    "    --container_lmm $container_lmm\n",
    "    --container_marp $container_marp\n",
    "\"\"\"\n",
    "\n",
    "sos run ~/working/UKBB_GWAS_dev/admin/Get_Job_Script.ipynb csg \\\n",
    "    --template-file $tpl_file \\\n",
    "    --workflow-file $lmm_sos \\\n",
    "    --to-script $lmm_sbatch_regenie \\\n",
    "    --args \"$lmm_args\""
   ]
  },
  {
   "cell_type": "markdown",
   "id": "335c93c5-a746-479d-96d3-8af87f602f92",
   "metadata": {
    "kernel": "Bash"
   },
   "source": [
    "### 090321_Combined_f2247_f2257"
   ]
  },
  {
   "cell_type": "code",
   "execution_count": 27,
   "id": "31ac072e-ddce-4712-980a-25d63bb129ff",
   "metadata": {
    "kernel": "Bash"
   },
   "outputs": [
    {
     "name": "stdout",
     "output_type": "stream",
     "text": [
      "INFO: Running \u001b[32mcsg\u001b[0m: Configuration for Columbia csg partition cluster\n",
      "INFO: \u001b[32mcsg\u001b[0m is \u001b[32mcompleted\u001b[0m.\n",
      "INFO: \u001b[32mcsg\u001b[0m output:   \u001b[32m/home/gl2776/scripts/Combined_f2247_f2257_50k_exomes-regenie-burden_2021-09-15.sbatch\u001b[0m\n",
      "INFO: Workflow csg (ID=w61d178575df1ecf6) is executed successfully with 1 completed step.\n",
      "\n"
     ]
    }
   ],
   "source": [
    "lmm_dir_regenie=~/UKBiobank/results/REGENIE_results/results_burden_exome/50k/090321_Combined_f2247_f2257\n",
    "lmm_sbatch_regenie=~/scripts/Combined_f2247_f2257_50k_exomes-regenie-burden_$(date +\"%Y-%m-%d\").sbatch\n",
    "phenoFile=~/UKBiobank/phenotype_files/hearing_impairment/090321_UKBB_Combined_f2247_f2257_expandedwhite_32878ind_50K.tsv\n",
    "covarFile=~/UKBiobank/phenotype_files/hearing_impairment/090321_UKBB_Combined_f2247_f2257_expandedwhite_32878ind_50K.tsv\n",
    "phenoCol=f2247_f2257\n",
    "covarCol=sex\n",
    "qCovarCol='age PC1 PC2'\n",
    "#This run do it with unqc'ed plink files while we wait for the qc'ed ones\n",
    "genoFile=`echo /home/gl2776/UKBiobank/data/exome_files/project_VCF/072721_run/plink/ukb23156_c{1..22}.merged.filtered.bed`\n",
    "bfile=/home/gl2776/UKBiobank/genotype_files_processed/090221_sample_variant_qc_final_callrate90/cache/UKB_genotypedatadownloaded083019.090221_sample_variant_qc_final_callrate90.filtered.extracted.bed\n",
    "anno_file=~/UKBiobank/results/REGENIE_results/results_burden_exome/091321_burden_files/ukb23155_chr1_chr22_091321.hg38.hg38_multianno.anno_file\n",
    "set_list=~/UKBiobank/results/REGENIE_results/results_burden_exome/091321_burden_files/ukb23155_chr1_chr22_091321.hg38.hg38_multianno.set_list_file\n",
    "mask_file=~/UKBiobank/results/REGENIE_results/results_burden_exome/091321_burden_files/ukb23155_chr1_chr22_091321.hg38.hg38_multianno.mask_file\n",
    "keep_gene=\n",
    "build_mask=max\n",
    "aaf_bins='0.005 0.01'\n",
    "tpl_file=~/working/bioworkflows/admin/csg.yml\n",
    "lmm_sos=~/working/bioworkflows/GWAS/LMM.ipynb\n",
    "container_marp=/home/gl2776/containers/marp.sif\n",
    "container_lmm=/home/gl2776/containers/lmm.sif \n",
    "lmm_job_size=1\n",
    "ylim=0\n",
    "reverse_log_p=True\n",
    "numThreads=20\n",
    "formatFile_regenie=/home/gl2776/working/UKBB_GWAS_dev/data/regenie_template.yml\n",
    "bsize=1000\n",
    "trait=bt\n",
    "minMAC=1\n",
    "snpannofile=~/UKBiobank/results/ukb23155_200Kexomes_annovar/091321_exome_bim_merge/ukb23155_chr1_chr22_091321.hg38.hg38_multianno.csv\n",
    "\n",
    "lmm_args=\"\"\"regenie_burden\n",
    "    --cwd $lmm_dir_regenie \n",
    "    --bfile $bfile \n",
    "    --genoFile $genoFile\n",
    "    --sampleFile $sampleFile\n",
    "    --phenoFile $phenoFile \n",
    "    --formatFile $formatFile_regenie \n",
    "    --phenoCol $phenoCol\n",
    "    --covarCol $covarCol  \n",
    "    --qCovarCol $qCovarCol\n",
    "    --bsize $bsize\n",
    "    --trait $trait\n",
    "    --anno_file $anno_file\n",
    "    --set_list $set_list\n",
    "    --mask_file $mask_file\n",
    "    --keep_gene $keep_gene\n",
    "    --aaf_bins $aaf_bins\n",
    "    --build_mask $build_mask\n",
    "    --job_size $lmm_job_size\n",
    "    --ylim $ylim\n",
    "    --reverse_log_p $reverse_log_p\n",
    "    --numThreads $numThreads\n",
    "    --minMAC $minMAC\n",
    "    --snpannofile $snpannofile\n",
    "    --container_lmm $container_lmm\n",
    "    --container_marp $container_marp\n",
    "\"\"\"\n",
    "\n",
    "sos run ~/working/UKBB_GWAS_dev/admin/Get_Job_Script.ipynb csg \\\n",
    "    --template-file $tpl_file \\\n",
    "    --workflow-file $lmm_sos \\\n",
    "    --to-script $lmm_sbatch_regenie \\\n",
    "    --args \"$lmm_args\""
   ]
  },
  {
   "cell_type": "markdown",
   "id": "20bdfa13-70d8-439b-8f23-69a830d5db75",
   "metadata": {
    "kernel": "Bash"
   },
   "source": [
    "## Regenie Burden with 200K exomes for paper"
   ]
  },
  {
   "cell_type": "markdown",
   "id": "0790ab68-3b44-471a-869c-e91f8672feb6",
   "metadata": {
    "kernel": "Bash"
   },
   "source": [
    "### 091321_f3393_hearing_aid"
   ]
  },
  {
   "cell_type": "code",
   "execution_count": null,
   "id": "d1a29e95-6706-425a-b278-79101cda2467",
   "metadata": {
    "kernel": "Bash"
   },
   "outputs": [],
   "source": [
    "lmm_dir_regenie=~/UKBiobank/results/REGENIE_results/results_burden_exome/200k_paper/091321_f3393_hearing_aid\n",
    "lmm_sbatch_regenie=~/scripts/f3393_hearing_aid_200k_exomes-regenie-burden_$(date +\"%Y-%m-%d\").sbatch\n",
    "phenoFile=~/UKBiobank/phenotype_files/hearing_impairment/090321_UKBB_Hearing_aid_f3393_expandedwhite_6436cases_96601ctrl_PC1_2.tsv\n",
    "covarFile=~/UKBiobank/phenotype_files/hearing_impairment/090321_UKBB_Hearing_aid_f3393_expandedwhite_6436cases_96601ctrl_PC1_2.tsv\n",
    "phenoCol=f3393\n",
    "covarCol=sex\n",
    "qCovarCol='age PC1 PC2'\n",
    "#This run do it with unqc'ed plink files while we wait for the qc'ed ones\n",
    "genoFile=`echo /home/gl2776/UKBiobank/data/exome_files/project_VCF/072721_run/plink/ukb23156_c{1..22}.merged.filtered.bed`\n",
    "bfile=/home/gl2776/UKBiobank/genotype_files_processed/090221_sample_variant_qc_final_callrate90/cache/UKB_genotypedatadownloaded083019.090221_sample_variant_qc_final_callrate90.filtered.extracted.bed\n",
    "anno_file=~/UKBiobank/results/REGENIE_results/results_burden_exome/091321_burden_files/ukb23155_chr1_chr22_091321.hg38.hg38_multianno.anno_file\n",
    "set_list=~/UKBiobank/results/REGENIE_results/results_burden_exome/091321_burden_files/ukb23155_chr1_chr22_091321.hg38.hg38_multianno.set_list_file\n",
    "mask_file=~/UKBiobank/results/REGENIE_results/results_burden_exome/091321_burden_files/ukb23155_chr1_chr22_091321.hg38.hg38_multianno.mask_file\n",
    "keep_gene=\n",
    "build_mask=max\n",
    "aaf_bins='0.005 0.01'\n",
    "tpl_file=~/working/bioworkflows/admin/csg.yml\n",
    "lmm_sos=~/working/bioworkflows/GWAS/LMM.ipynb\n",
    "container_marp=/home/gl2776/containers/marp.sif\n",
    "container_lmm=/home/gl2776/containers/lmm.sif \n",
    "lmm_job_size=1\n",
    "ylim=0\n",
    "reverse_log_p=True\n",
    "numThreads=20\n",
    "formatFile_regenie=/home/gl2776/working/UKBB_GWAS_dev/data/regenie_template.yml\n",
    "bsize=1000\n",
    "trait=bt\n",
    "minMAC=1\n",
    "snpannofile=~/UKBiobank/results/ukb23155_200Kexomes_annovar/091321_exome_bim_merge/ukb23155_chr1_chr22_091321.hg38.hg38_multianno.csv\n",
    "\n",
    "lmm_args=\"\"\"regenie_burden\n",
    "    --cwd $lmm_dir_regenie \n",
    "    --bfile $bfile \n",
    "    --genoFile $genoFile\n",
    "    --sampleFile $sampleFile\n",
    "    --phenoFile $phenoFile \n",
    "    --formatFile $formatFile_regenie \n",
    "    --phenoCol $phenoCol\n",
    "    --covarCol $covarCol  \n",
    "    --qCovarCol $qCovarCol\n",
    "    --bsize $bsize\n",
    "    --trait $trait\n",
    "    --anno_file $anno_file\n",
    "    --set_list $set_list\n",
    "    --mask_file $mask_file\n",
    "    --keep_gene $keep_gene\n",
    "    --aaf_bins $aaf_bins\n",
    "    --build_mask $build_mask\n",
    "    --job_size $lmm_job_size\n",
    "    --ylim $ylim\n",
    "    --reverse_log_p $reverse_log_p\n",
    "    --numThreads $numThreads\n",
    "    --minMAC $minMAC\n",
    "    --snpannofile $snpannofile\n",
    "    --container_lmm $container_lmm\n",
    "    --container_marp $container_marp\n",
    "\"\"\"\n",
    "\n",
    "sos run ~/working/UKBB_GWAS_dev/admin/Get_Job_Script.ipynb csg \\\n",
    "    --template-file $tpl_file \\\n",
    "    --workflow-file $lmm_sos \\\n",
    "    --to-script $lmm_sbatch_regenie \\\n",
    "    --args \"$lmm_args\""
   ]
  },
  {
   "cell_type": "markdown",
   "id": "c4cd0d32-132a-4c91-ada4-62bdf9b806aa",
   "metadata": {
    "kernel": "Bash"
   },
   "source": [
    "# HSPG2"
   ]
  },
  {
   "cell_type": "code",
   "execution_count": 2,
   "id": "77e9817c-6140-44d3-902e-3021ab992949",
   "metadata": {
    "kernel": "Bash"
   },
   "outputs": [
    {
     "name": "stdout",
     "output_type": "stream",
     "text": [
      "INFO: Running \u001b[32mcsg\u001b[0m: Configuration for Columbia csg partition cluster\n",
      "INFO: \u001b[32mcsg\u001b[0m is \u001b[32mcompleted\u001b[0m.\n",
      "INFO: \u001b[32mcsg\u001b[0m output:   \u001b[32m/mnt/mfs/statgen/guangyou/HSPG2/burden_files/HSPG2_annotation_2021-09-21.sbatch\u001b[0m\n",
      "INFO: Workflow csg (ID=w199a4fba9b04ecbf) is executed successfully with 1 completed step.\n",
      "\n"
     ]
    }
   ],
   "source": [
    "tpl_file=~/working/bioworkflows/admin/csg.yml\n",
    "annovar_dir=/mnt/mfs/statgen/guangyou/HSPG2/burden_files/\n",
    "annovar_sos=~/working/bioworkflows/variant-annotation/annovar.ipynb\n",
    "annovar_sbatch=/mnt/mfs/statgen/guangyou/HSPG2/burden_files/HSPG2_annotation_$(date +\"%Y-%m-%d\").sbatch\n",
    "bfiles=/mnt/mfs/statgen/guangyou/HSPG2/HSPG2_snp_0.005.bim\n",
    "walltime=\"60h\"\n",
    "mem=\"30G\"\n",
    "\n",
    "annovar_args=\"\"\"annovar\n",
    "    --cwd $annovar_dir \n",
    "    --bim_name $bfiles \n",
    "    --humandb /mnt/mfs/statgen/isabelle/REF/humandb  \n",
    "    --xref_path /mnt/mfs/statgen/isabelle/REF/humandb \n",
    "    --job_size 1 \n",
    "    --build 'hg38' \n",
    "    --name_prefix HSPG2_snp_0.005\n",
    "    --walltime $walltime\n",
    "    --mem $mem\n",
    "    --container_annovar /mnt/mfs/statgen/containers/gatk4-annovar.sif\n",
    "\"\"\"\n",
    "\n",
    "sos run ~/working/UKBB_GWAS_dev/admin/Get_Job_Script.ipynb csg \\\n",
    "    --template-file $tpl_file \\\n",
    "    --workflow-file $annovar_sos \\\n",
    "    --to-script $annovar_sbatch \\\n",
    "    --args \"$annovar_args\""
   ]
  },
  {
   "cell_type": "code",
   "execution_count": 3,
   "id": "c89dfe7d-2915-48ef-8bf8-f4009dc80c56",
   "metadata": {
    "kernel": "Bash"
   },
   "outputs": [
    {
     "name": "stdout",
     "output_type": "stream",
     "text": [
      "INFO: Running \u001b[32mcsg\u001b[0m: Configuration for Columbia csg partition cluster\n",
      "INFO: \u001b[32mcsg\u001b[0m is \u001b[32mcompleted\u001b[0m.\n",
      "INFO: \u001b[32mcsg\u001b[0m output:   \u001b[32m/mnt/mfs/statgen/guangyou/HSPG2/burden_files/HSPG2_burdenfiles_2021-09-21.sbatch\u001b[0m\n",
      "INFO: Workflow csg (ID=w6e2eecbf7cf27212) is executed successfully with 1 completed step.\n",
      "\n"
     ]
    }
   ],
   "source": [
    "burden_dir=/mnt/mfs/statgen/guangyou/HSPG2/burden_files/\n",
    "anno_sbatch_burden=/mnt/mfs/statgen/guangyou/HSPG2/burden_files/HSPG2_burdenfiles_$(date +\"%Y-%m-%d\").sbatch\n",
    "annotated_file_hg38=/mnt/mfs/statgen/guangyou/HSPG2/burden_files/HSPG2_snp_0.005.hg38.hg38_multianno.csv\n",
    "bim_name=/mnt/mfs/statgen/guangyou/HSPG2/HSPG2_snp_0.005.bim\n",
    "job_size=1\n",
    "name_prefix='HSPG2_burden_files'\n",
    "anno_sos=~/working/bioworkflows/variant-annotation/annovar.ipynb\n",
    "tpl_file=~/working/bioworkflows/admin/csg.yml\n",
    "container_annovar=$HOME/containers/gatk4-annovar.sif\n",
    "\n",
    "anno_args=\"\"\"burden_files\n",
    "    --cwd $burden_dir\n",
    "    --annotated_file $annotated_file_hg38\n",
    "    --bim_name $bim_name\n",
    "    --name_prefix $name_prefix\n",
    "    --job_size $job_size\n",
    "    --container_annovar $container_annovar\n",
    "    --container_lmm /mnt/mfs/statgen/containers/lmm.sif\n",
    "\"\"\"\n",
    "\n",
    "sos run ~/working/UKBB_GWAS_dev/admin/Get_Job_Script.ipynb csg \\\n",
    "    --template-file $tpl_file \\\n",
    "    --workflow-file $anno_sos \\\n",
    "    --to-script $anno_sbatch_burden\\\n",
    "    --args \"$anno_args\""
   ]
  },
  {
   "cell_type": "code",
   "execution_count": 9,
   "id": "809e6173-ad20-434c-b8bd-6a43e4e7267a",
   "metadata": {
    "kernel": "Bash"
   },
   "outputs": [
    {
     "name": "stdout",
     "output_type": "stream",
     "text": [
      "INFO: Running \u001b[32mcsg\u001b[0m: Configuration for Columbia csg partition cluster\n",
      "INFO: \u001b[32mcsg\u001b[0m is \u001b[32mcompleted\u001b[0m.\n",
      "INFO: \u001b[32mcsg\u001b[0m output:   \u001b[32m/mnt/mfs/statgen/guangyou/HSPG2/burden_test/HSPG2-regenie-burden_2021-09-21.sbatch\u001b[0m\n",
      "INFO: Workflow csg (ID=w36b89c1376c5bd42) is executed successfully with 1 completed step.\n",
      "\n"
     ]
    }
   ],
   "source": [
    "lmm_dir_regenie=/mnt/mfs/statgen/guangyou/HSPG2/burden_test\n",
    "lmm_sbatch_regenie=/mnt/mfs/statgen/guangyou/HSPG2/burden_test/HSPG2-regenie-burden_$(date +\"%Y-%m-%d\").sbatch\n",
    "phenoFile=/mnt/mfs/statgen/guangyou/HSPG2/ukb47922_exomed_white_187908qced_092021_f41270_neurodegenerative.csv\n",
    "covarFile=/mnt/mfs/statgen/guangyou/HSPG2/ukb47922_exomed_white_187908qced_092021_f41270_neurodegenerative.csv\n",
    "phenoCol=f41270\n",
    "covarCol=sex\n",
    "qCovarCol=age\n",
    "#This run do it with unqc'ed plink files while we wait for the qc'ed ones\n",
    "genoFile=/home/gl2776/UKBiobank/data/exome_files/project_VCF/072721_run/plink/ukb23156_c1.merged.filtered.bed\n",
    "bfile=/home/gl2776/UKBiobank/genotype_files_processed/090221_sample_variant_qc_final_callrate90/cache/UKB_genotypedatadownloaded083019.090221_sample_variant_qc_final_callrate90.filtered.extracted.bed\n",
    "anno_file=/mnt/mfs/statgen/guangyou/HSPG2/burden_files/HSPG2_snp_0.005.hg38.hg38_multianno.anno_file\n",
    "set_list=/mnt/mfs/statgen/guangyou/HSPG2/burden_files/HSPG2_snp_0.005.hg38.hg38_multianno.set_list_file\n",
    "mask_file=/mnt/mfs/statgen/guangyou/HSPG2/burden_files/HSPG2_snp_0.005.hg38.hg38_multianno.mask_file\n",
    "build_mask=max\n",
    "aaf_bins='0.0005 0.01'\n",
    "tpl_file=~/working/bioworkflows/admin/csg.yml\n",
    "lmm_sos=~/working/bioworkflows/GWAS/LMM.ipynb\n",
    "container_marp=/home/gl2776/containers/marp.sif\n",
    "container_lmm=/home/gl2776/containers/lmm.sif \n",
    "lmm_job_size=1\n",
    "ylim=0\n",
    "reverse_log_p=True\n",
    "numThreads=20\n",
    "formatFile_regenie=/home/gl2776/working/UKBB_GWAS_dev/data/regenie_template.yml\n",
    "bsize=1000\n",
    "trait=bt\n",
    "minMAC=1\n",
    "snpannofile=/mnt/mfs/statgen/guangyou/HSPG2/burden_files/HSPG2_snp_0.005.hg38.hg38_multianno.csv\n",
    "\n",
    "lmm_args=\"\"\"regenie_burden\n",
    "    --cwd $lmm_dir_regenie \n",
    "    --bfile $bfile \n",
    "    --genoFile $genoFile\n",
    "    --sampleFile $sampleFile\n",
    "    --phenoFile $phenoFile \n",
    "    --formatFile $formatFile_regenie \n",
    "    --phenoCol $phenoCol\n",
    "    --covarCol $covarCol  \n",
    "    --qCovarCol $qCovarCol\n",
    "    --bsize $bsize\n",
    "    --trait $trait\n",
    "    --anno_file $anno_file\n",
    "    --set_list $set_list\n",
    "    --mask_file $mask_file\n",
    "    --keep_gene $keep_gene\n",
    "    --aaf_bins $aaf_bins\n",
    "    --build_mask $build_mask\n",
    "    --job_size $lmm_job_size\n",
    "    --ylim $ylim\n",
    "    --reverse_log_p $reverse_log_p\n",
    "    --numThreads $numThreads\n",
    "    --minMAC $minMAC\n",
    "    --snpannofile $snpannofile\n",
    "    --container_lmm $container_lmm\n",
    "    --container_marp $container_marp\n",
    "\"\"\"\n",
    "\n",
    "sos run ~/working/UKBB_GWAS_dev/admin/Get_Job_Script.ipynb csg \\\n",
    "    --template-file $tpl_file \\\n",
    "    --workflow-file $lmm_sos \\\n",
    "    --to-script $lmm_sbatch_regenie \\\n",
    "    --args \"$lmm_args\""
   ]
  },
  {
   "cell_type": "code",
   "execution_count": null,
   "id": "c735e13c-7221-4169-ba46-f5dc58159ac4",
   "metadata": {
    "kernel": "Bash"
   },
   "outputs": [],
   "source": [
    "lmm_dir_regenie=/mnt/mfs/statgen/guangyou/HSPG2/burden_test\n",
    "lmm_sbatch_regenie=~/scripts/f3393_hearing_aid_200k_exomes-regenie-burden_$(date +\"%Y-%m-%d\").sbatch\n",
    "phenoFile=~/UKBiobank/phenotype_files/hearing_impairment/090321_UKBB_Hearing_aid_f3393_expandedwhite_6436cases_96601ctrl_PC1_2.tsv\n",
    "covarFile=~/UKBiobank/phenotype_files/hearing_impairment/090321_UKBB_Hearing_aid_f3393_expandedwhite_6436cases_96601ctrl_PC1_2.tsv\n",
    "phenoCol=f3393\n",
    "covarCol=sex\n",
    "qCovarCol='age PC1 PC2'\n",
    "#This run do it with unqc'ed plink files while we wait for the qc'ed ones\n",
    "genoFile=`echo /home/gl2776/UKBiobank/data/exome_files/project_VCF/072721_run/plink/ukb23156_c{1..22}.merged.filtered.bed`\n",
    "bfile=/home/gl2776/UKBiobank/genotype_files_processed/090221_sample_variant_qc_final_callrate90/cache/UKB_genotypedatadownloaded083019.090221_sample_variant_qc_final_callrate90.filtered.extracted.bed\n",
    "anno_file=~/UKBiobank/results/REGENIE_results/results_burden_exome/091321_burden_files/ukb23155_chr1_chr22_091321.hg38.hg38_multianno.anno_file\n",
    "set_list=~/UKBiobank/results/REGENIE_results/results_burden_exome/091321_burden_files/ukb23155_chr1_chr22_091321.hg38.hg38_multianno.set_list_file\n",
    "mask_file=~/UKBiobank/results/REGENIE_results/results_burden_exome/091321_burden_files/ukb23155_chr1_chr22_091321.hg38.hg38_multianno.mask_file\n",
    "keep_gene=\n",
    "build_mask=max\n",
    "aaf_bins='0.005 0.01'\n",
    "tpl_file=~/working/bioworkflows/admin/csg.yml\n",
    "lmm_sos=~/working/bioworkflows/GWAS/LMM.ipynb\n",
    "container_marp=/home/gl2776/containers/marp.sif\n",
    "container_lmm=/home/gl2776/containers/lmm.sif \n",
    "lmm_job_size=1\n",
    "ylim=0\n",
    "reverse_log_p=True\n",
    "numThreads=20\n",
    "formatFile_regenie=/home/gl2776/working/UKBB_GWAS_dev/data/regenie_template.yml\n",
    "bsize=1000\n",
    "trait=bt\n",
    "minMAC=1\n",
    "snpannofile=~/UKBiobank/results/ukb23155_200Kexomes_annovar/091321_exome_bim_merge/ukb23155_chr1_chr22_091321.hg38.hg38_multianno.csv\n",
    "\n",
    "lmm_args=\"\"\"regenie_burden\n",
    "    --cwd $lmm_dir_regenie \n",
    "    --bfile $bfile \n",
    "    --genoFile $genoFile\n",
    "    --sampleFile $sampleFile\n",
    "    --phenoFile $phenoFile \n",
    "    --formatFile $formatFile_regenie \n",
    "    --phenoCol $phenoCol\n",
    "    --covarCol $covarCol  \n",
    "    --qCovarCol $qCovarCol\n",
    "    --bsize $bsize\n",
    "    --trait $trait\n",
    "    --anno_file $anno_file\n",
    "    --set_list $set_list\n",
    "    --mask_file $mask_file\n",
    "    --keep_gene $keep_gene\n",
    "    --aaf_bins $aaf_bins\n",
    "    --build_mask $build_mask\n",
    "    --job_size $lmm_job_size\n",
    "    --ylim $ylim\n",
    "    --reverse_log_p $reverse_log_p\n",
    "    --numThreads $numThreads\n",
    "    --minMAC $minMAC\n",
    "    --snpannofile $snpannofile\n",
    "    --container_lmm $container_lmm\n",
    "    --container_marp $container_marp\n",
    "\"\"\"\n",
    "\n",
    "sos run ~/working/UKBB_GWAS_dev/admin/Get_Job_Script.ipynb csg \\\n",
    "    --template-file $tpl_file \\\n",
    "    --workflow-file $lmm_sos \\\n",
    "    --to-script $lmm_sbatch_regenie \\\n",
    "    --args \"$lmm_args\""
   ]
  },
  {
   "cell_type": "code",
   "execution_count": null,
   "id": "43809753-1776-4988-a226-5b26abb805a6",
   "metadata": {
    "kernel": "Bash"
   },
   "outputs": [],
   "source": []
  },
  {
   "cell_type": "markdown",
   "id": "8da4e585-7b58-4308-9712-99eebd4505c3",
   "metadata": {
    "kernel": "Bash"
   },
   "source": [
    "# Hearing impairment 100421 300k exome"
   ]
  },
  {
   "cell_type": "markdown",
   "id": "2471771c-c0f2-4259-aca5-2f6bb4036648",
   "metadata": {
    "kernel": "Bash"
   },
   "source": [
    "## Create annotation file with annovar for 300K exomes"
   ]
  },
  {
   "cell_type": "code",
   "execution_count": 2,
   "id": "a9b780e1-a1ff-47cf-a6aa-c6202c5d7274",
   "metadata": {
    "kernel": "Bash"
   },
   "outputs": [
    {
     "name": "stdout",
     "output_type": "stream",
     "text": [
      "INFO: Running \u001b[32mcsg\u001b[0m: Configuration for Columbia csg partition cluster\n",
      "INFO: \u001b[32mcsg\u001b[0m is \u001b[32mcompleted\u001b[0m.\n",
      "INFO: \u001b[32mcsg\u001b[0m output:   \u001b[32m/home/gl2776/UKBiobank/results/ukb23155_300Kexomes_annovar/ukb23155_300kexome_annotation_2021-10-04.sbatch\u001b[0m\n",
      "INFO: Workflow csg (ID=w930be3fb4f021648) is executed successfully with 1 completed step.\n",
      "\n"
     ]
    }
   ],
   "source": [
    "tpl_file=~/working/bioworkflows/admin/csg.yml\n",
    "annovar_dir=~/UKBiobank/results/ukb23155_300Kexomes_annovar/\n",
    "annovar_sos=~/working/bioworkflows/variant-annotation/annovar.ipynb\n",
    "annovar_sbatch=~/UKBiobank/results/ukb23155_300Kexomes_annovar/ukb23155_300kexome_annotation_$(date +\"%Y-%m-%d\").sbatch\n",
    "bfiles=~/UKBiobank/results/ukb23155_200Kexomes_annovar/091321_exome_bim_merge/ukb23155_chr1_chr22_091321.bim\n",
    "walltime=\"60h\"\n",
    "mem=\"100G\"\n",
    "\n",
    "annovar_args=\"\"\"annovar\n",
    "    --cwd $annovar_dir \n",
    "    --bim_name $bfiles \n",
    "    --humandb /mnt/mfs/statgen/isabelle/REF/humandb  \n",
    "    --xref_path /mnt/mfs/statgen/isabelle/REF/humandb \n",
    "    --job_size 1 \n",
    "    --build 'hg38' \n",
    "    --name_prefix ukb23155_chr1_chr22_qcexomedata_100421\n",
    "    --walltime $walltime\n",
    "    --mem $mem\n",
    "    --container_annovar /mnt/mfs/statgen/containers/gatk4-annovar.sif\n",
    "\"\"\"\n",
    "\n",
    "sos run ~/working/UKBB_GWAS_dev/admin/Get_Job_Script.ipynb csg \\\n",
    "    --template-file $tpl_file \\\n",
    "    --workflow-file $annovar_sos \\\n",
    "    --to-script $annovar_sbatch \\\n",
    "    --args \"$annovar_args\""
   ]
  },
  {
   "cell_type": "markdown",
   "id": "d60b21b5-95df-481d-80e8-06d00906daa2",
   "metadata": {
    "kernel": "Bash"
   },
   "source": [
    "## Create the anno_file, set_list_file and mask_files necessary for burden test"
   ]
  },
  {
   "cell_type": "code",
   "execution_count": 1,
   "id": "f71e6fbd-23cc-448b-91b3-2dc5a8e3067d",
   "metadata": {
    "kernel": "Bash"
   },
   "outputs": [
    {
     "name": "stdout",
     "output_type": "stream",
     "text": [
      "INFO: Running \u001b[32mcsg\u001b[0m: Configuration for Columbia csg partition cluster\n",
      "INFO: \u001b[32mcsg\u001b[0m is \u001b[32mcompleted\u001b[0m.\n",
      "INFO: \u001b[32mcsg\u001b[0m output:   \u001b[32m/home/gl2776/UKBiobank/results/REGENIE_results/results_burden_exome/300k/100421_burden_files/ukb23155_300Kexomes_burdenfiles_2021-10-04.sbatch\u001b[0m\n",
      "INFO: Workflow csg (ID=w694b908ef55bc328) is executed successfully with 1 completed step.\n",
      "\n"
     ]
    }
   ],
   "source": [
    "burden_dir=~/UKBiobank/results/REGENIE_results/results_burden_exome/300k/100421_burden_files\n",
    "anno_sbatch_burden=~/UKBiobank/results/REGENIE_results/results_burden_exome/300k/100421_burden_files/ukb23155_300Kexomes_burdenfiles_$(date +\"%Y-%m-%d\").sbatch\n",
    "annotated_file_hg38=~/UKBiobank/results/ukb23155_200Kexomes_annovar/091321_exome_bim_merge/ukb23155_chr1_chr22_091321.hg38.hg38_multianno.csv\n",
    "bim_name=~/UKBiobank/results/ukb23155_200Kexomes_annovar/091321_exome_bim_merge/ukb23155_chr1_chr22_091321.bim\n",
    "job_size=1\n",
    "name_prefix='ukb23155_chr1_chr22_qcexomedata_100421_burden_files'\n",
    "anno_sos=~/working/bioworkflows/variant-annotation/annovar.ipynb\n",
    "tpl_file=~/working/bioworkflows/admin/csg.yml\n",
    "container_annovar=$HOME/containers/gatk4-annovar.sif\n",
    "\n",
    "anno_args=\"\"\"burden_files\n",
    "    --cwd $burden_dir\n",
    "    --annotated_file $annotated_file_hg38\n",
    "    --bim_name $bim_name\n",
    "    --name_prefix $name_prefix\n",
    "    --job_size $job_size\n",
    "    --container_annovar $container_annovar\n",
    "    --container_lmm /mnt/mfs/statgen/containers/lmm.sif\n",
    "\"\"\"\n",
    "\n",
    "sos run ~/working/UKBB_GWAS_dev/admin/Get_Job_Script.ipynb csg \\\n",
    "    --template-file $tpl_file \\\n",
    "    --workflow-file $anno_sos \\\n",
    "    --to-script $anno_sbatch_burden\\\n",
    "    --args \"$anno_args\"\n"
   ]
  },
  {
   "cell_type": "markdown",
   "id": "b29c325d-12d5-464a-ac25-67e64e9c5080",
   "metadata": {
    "kernel": "Bash"
   },
   "source": [
    "## Regenie Burden with 300K exomes"
   ]
  },
  {
   "cell_type": "markdown",
   "id": "961be4b0-9230-48e8-9863-72a04fc26b6c",
   "metadata": {
    "kernel": "Bash"
   },
   "source": [
    "### 100421_f3393_hearing_aid"
   ]
  },
  {
   "cell_type": "code",
   "execution_count": 3,
   "id": "279ebc4e-9808-4a6d-9277-3bac7ba9bcc7",
   "metadata": {
    "kernel": "Bash"
   },
   "outputs": [
    {
     "name": "stdout",
     "output_type": "stream",
     "text": [
      "INFO: Running \u001b[32mcsg\u001b[0m: Configuration for Columbia csg partition cluster\n",
      "INFO: \u001b[32mcsg\u001b[0m is \u001b[32mcompleted\u001b[0m.\n",
      "INFO: \u001b[32mcsg\u001b[0m output:   \u001b[32m/home/gl2776/UKBiobank/results/REGENIE_results/results_burden_exome/300k/100421_f3393_hearing_aid/f3393_hearing_aid_300k_exomes-regenie-burden_2021-10-04.sbatch\u001b[0m\n",
      "INFO: Workflow csg (ID=wed9bcc3971241667) is executed successfully with 1 completed step.\n",
      "\n"
     ]
    }
   ],
   "source": [
    "lmm_dir_regenie=~/UKBiobank/results/REGENIE_results/results_burden_exome/300k/100421_f3393_hearing_aid\n",
    "lmm_sbatch_regenie=~/UKBiobank/results/REGENIE_results/results_burden_exome/300k/100421_f3393_hearing_aid/f3393_hearing_aid_300k_exomes-regenie-burden_$(date +\"%Y-%m-%d\").sbatch\n",
    "phenoFile=~/project/guangyou/HI_UKBB/100421_UKBB_Hearing_aid_f3393_expandedwhite_9165cases_141003ctrl.tsv\n",
    "covarFile=~/project/guangyou/HI_UKBB/100421_UKBB_Hearing_aid_f3393_expandedwhite_9165cases_141003ctrl.tsv\n",
    "phenoCol=f3393\n",
    "covarCol=sex\n",
    "qCovarCol='age PC1 PC2'\n",
    "#This run do it with unqc'ed plink files while we wait for the qc'ed ones\n",
    "genoFile=`echo /home/gl2776/UKBiobank/data/exome_files/project_VCF/072721_run/plink/ukb23156_c{1..22}.merged.filtered.bed`\n",
    "bfile=/home/gl2776/UKBiobank/genotype_files_processed/090221_sample_variant_qc_final_callrate90/cache/UKB_genotypedatadownloaded083019.090221_sample_variant_qc_final_callrate90.filtered.extracted.bed\n",
    "anno_file=~/UKBiobank/results/REGENIE_results/results_burden_exome/300k/100421_burden_files/ukb23155_chr1_chr22_100421.hg38.hg38_multianno.anno_file\n",
    "set_list=~/UKBiobank/results/REGENIE_results/results_burden_exome/300k/100421_burden_files/ukb23155_chr1_chr22_100421.hg38.hg38_multianno.set_list_file\n",
    "mask_file=~/UKBiobank/results/REGENIE_results/results_burden_exome/300k/100421_burden_files/ukb23155_chr1_chr22_100421.hg38.hg38_multianno.mask_file\n",
    "#keep_gene=\n",
    "build_mask=max\n",
    "aaf_bins='0.005 0.01'\n",
    "tpl_file=~/working/bioworkflows/admin/csg.yml\n",
    "lmm_sos=~/working/bioworkflows/GWAS/LMM.ipynb\n",
    "container_marp=/home/gl2776/containers/marp.sif\n",
    "container_lmm=/home/gl2776/containers/lmm.sif \n",
    "lmm_job_size=1\n",
    "ylim=0\n",
    "reverse_log_p=True\n",
    "numThreads=20\n",
    "formatFile_regenie=/home/gl2776/working/UKBB_GWAS_dev/data/regenie_template.yml\n",
    "bsize=1000\n",
    "trait=bt\n",
    "minMAC=1\n",
    "snpannofile=~/UKBiobank/results/ukb23155_200Kexomes_annovar/091321_exome_bim_merge/ukb23155_chr1_chr22_091321.hg38.hg38_multianno.csv\n",
    "\n",
    "lmm_args=\"\"\"regenie_burden\n",
    "    --cwd $lmm_dir_regenie \n",
    "    --bfile $bfile \n",
    "    --genoFile $genoFile\n",
    "    --sampleFile $sampleFile\n",
    "    --phenoFile $phenoFile \n",
    "    --formatFile $formatFile_regenie \n",
    "    --phenoCol $phenoCol\n",
    "    --covarCol $covarCol  \n",
    "    --qCovarCol $qCovarCol\n",
    "    --bsize $bsize\n",
    "    --trait $trait\n",
    "    --anno_file $anno_file\n",
    "    --set_list $set_list\n",
    "    --mask_file $mask_file\n",
    "    --keep_gene $keep_gene\n",
    "    --aaf_bins $aaf_bins\n",
    "    --build_mask $build_mask\n",
    "    --job_size $lmm_job_size\n",
    "    --ylim $ylim\n",
    "    --reverse_log_p $reverse_log_p\n",
    "    --numThreads $numThreads\n",
    "    --minMAC $minMAC\n",
    "    --snpannofile $snpannofile\n",
    "    --container_lmm $container_lmm\n",
    "    --container_marp $container_marp\n",
    "\"\"\"\n",
    "\n",
    "sos run ~/working/UKBB_GWAS_dev/admin/Get_Job_Script.ipynb csg \\\n",
    "    --template-file $tpl_file \\\n",
    "    --workflow-file $lmm_sos \\\n",
    "    --to-script $lmm_sbatch_regenie \\\n",
    "    --args \"$lmm_args\""
   ]
  },
  {
   "cell_type": "markdown",
   "id": "2fc3a2e5-8400-4e9c-b1a3-f4521580c2d9",
   "metadata": {
    "kernel": "Bash"
   },
   "source": [
    "### 100421_f2247_hearing_difficulty"
   ]
  },
  {
   "cell_type": "code",
   "execution_count": 5,
   "id": "e6222700-054d-4eb2-99cd-8affa3ac4f26",
   "metadata": {
    "kernel": "Bash"
   },
   "outputs": [
    {
     "name": "stdout",
     "output_type": "stream",
     "text": [
      "INFO: Running \u001b[32mcsg\u001b[0m: Configuration for Columbia csg partition cluster\n",
      "INFO: \u001b[32mcsg\u001b[0m is \u001b[32mcompleted\u001b[0m.\n",
      "INFO: \u001b[32mcsg\u001b[0m output:   \u001b[32m/home/gl2776/UKBiobank/results/REGENIE_results/results_burden_exome/300k/100421_f2247_hearing_difficulty/f2247_hearing_difficulty_300k_exomes-regenie-burden_2021-10-04.sbatch\u001b[0m\n",
      "INFO: Workflow csg (ID=w3024954673c4a868) is executed successfully with 1 completed step.\n",
      "\n"
     ]
    }
   ],
   "source": [
    "lmm_dir_regenie=~/UKBiobank/results/REGENIE_results/results_burden_exome/300k/100421_f2247_hearing_difficulty\n",
    "lmm_sbatch_regenie=~/UKBiobank/results/REGENIE_results/results_burden_exome/300k/100421_f2247_hearing_difficulty/f2247_hearing_difficulty_300k_exomes-regenie-burden_$(date +\"%Y-%m-%d\").sbatch\n",
    "phenoFile=~/project/guangyou/HI_UKBB/100421_UKBB_Hearing_difficulty_f2247_expandedwhite_64962cases_141003ctrl.tsv\n",
    "covarFile=~/project/guangyou/HI_UKBB/100421_UKBB_Hearing_difficulty_f2247_expandedwhite_64962cases_141003ctrl.tsv\n",
    "phenoCol=f2247\n",
    "covarCol=sex\n",
    "qCovarCol='age PC1 PC2'\n",
    "#This run do it with unqc'ed plink files while we wait for the qc'ed ones\n",
    "genoFile=`echo /home/gl2776/UKBiobank/data/exome_files/project_VCF/072721_run/plink/ukb23156_c{1..22}.merged.filtered.bed`\n",
    "bfile=/home/gl2776/UKBiobank/genotype_files_processed/090221_sample_variant_qc_final_callrate90/cache/UKB_genotypedatadownloaded083019.090221_sample_variant_qc_final_callrate90.filtered.extracted.bed\n",
    "anno_file=~/UKBiobank/results/REGENIE_results/results_burden_exome/300k/100421_burden_files/ukb23155_chr1_chr22_100421.hg38.hg38_multianno.anno_file\n",
    "set_list=~/UKBiobank/results/REGENIE_results/results_burden_exome/300k/100421_burden_files/ukb23155_chr1_chr22_100421.hg38.hg38_multianno.set_list_file\n",
    "mask_file=~/UKBiobank/results/REGENIE_results/results_burden_exome/300k/100421_burden_files/ukb23155_chr1_chr22_100421.hg38.hg38_multianno.mask_file\n",
    "#keep_gene=\n",
    "build_mask=max\n",
    "aaf_bins='0.005 0.01'\n",
    "tpl_file=~/working/bioworkflows/admin/csg.yml\n",
    "lmm_sos=~/working/bioworkflows/GWAS/LMM.ipynb\n",
    "container_marp=/home/gl2776/containers/marp.sif\n",
    "container_lmm=/home/gl2776/containers/lmm.sif \n",
    "lmm_job_size=1\n",
    "ylim=0\n",
    "reverse_log_p=True\n",
    "numThreads=20\n",
    "formatFile_regenie=/home/gl2776/working/UKBB_GWAS_dev/data/regenie_template.yml\n",
    "bsize=1000\n",
    "trait=bt\n",
    "minMAC=1\n",
    "snpannofile=~/UKBiobank/results/ukb23155_200Kexomes_annovar/091321_exome_bim_merge/ukb23155_chr1_chr22_091321.hg38.hg38_multianno.csv\n",
    "\n",
    "lmm_args=\"\"\"regenie_burden\n",
    "    --cwd $lmm_dir_regenie \n",
    "    --bfile $bfile \n",
    "    --genoFile $genoFile\n",
    "    --sampleFile $sampleFile\n",
    "    --phenoFile $phenoFile \n",
    "    --formatFile $formatFile_regenie \n",
    "    --phenoCol $phenoCol\n",
    "    --covarCol $covarCol  \n",
    "    --qCovarCol $qCovarCol\n",
    "    --bsize $bsize\n",
    "    --trait $trait\n",
    "    --anno_file $anno_file\n",
    "    --set_list $set_list\n",
    "    --mask_file $mask_file\n",
    "    --keep_gene $keep_gene\n",
    "    --aaf_bins $aaf_bins\n",
    "    --build_mask $build_mask\n",
    "    --job_size $lmm_job_size\n",
    "    --ylim $ylim\n",
    "    --reverse_log_p $reverse_log_p\n",
    "    --numThreads $numThreads\n",
    "    --minMAC $minMAC\n",
    "    --snpannofile $snpannofile\n",
    "    --container_lmm $container_lmm\n",
    "    --container_marp $container_marp\n",
    "\"\"\"\n",
    "\n",
    "sos run ~/working/UKBB_GWAS_dev/admin/Get_Job_Script.ipynb csg \\\n",
    "    --template-file $tpl_file \\\n",
    "    --workflow-file $lmm_sos \\\n",
    "    --to-script $lmm_sbatch_regenie \\\n",
    "    --args \"$lmm_args\""
   ]
  },
  {
   "cell_type": "markdown",
   "id": "02d4a9d2-84df-43f4-99b6-8f84ca920543",
   "metadata": {
    "kernel": "Bash"
   },
   "source": [
    "### 100421_f2257_hearing_noise"
   ]
  },
  {
   "cell_type": "code",
   "execution_count": 7,
   "id": "40f9c189-a8da-4271-9b24-5377ac6c5501",
   "metadata": {
    "kernel": "Bash"
   },
   "outputs": [
    {
     "name": "stdout",
     "output_type": "stream",
     "text": [
      "INFO: Running \u001b[32mcsg\u001b[0m: Configuration for Columbia csg partition cluster\n",
      "INFO: \u001b[32mcsg\u001b[0m is \u001b[32mcompleted\u001b[0m.\n",
      "INFO: \u001b[32mcsg\u001b[0m output:   \u001b[32m/home/gl2776/UKBiobank/results/REGENIE_results/results_burden_exome/300k/100421_f2257_hearing_noise/f2257_hearing_noise_300k_exomes-regenie-burden_2021-10-04.sbatch\u001b[0m\n",
      "INFO: Workflow csg (ID=w8d460ba41b2de798) is executed successfully with 1 completed step.\n",
      "\n"
     ]
    }
   ],
   "source": [
    "lmm_dir_regenie=~/UKBiobank/results/REGENIE_results/results_burden_exome/300k/100421_f2257_hearing_noise\n",
    "lmm_sbatch_regenie=~/UKBiobank/results/REGENIE_results/results_burden_exome/300k/100421_f2257_hearing_noise/f2257_hearing_noise_300k_exomes-regenie-burden_$(date +\"%Y-%m-%d\").sbatch\n",
    "phenoFile=~/project/guangyou/HI_UKBB/100421_UKBB_Hearing_noise_f2257_expandedwhite_95796cases_141003ctrl.tsv\n",
    "covarFile=~/project/guangyou/HI_UKBB/100421_UKBB_Hearing_noise_f2257_expandedwhite_95796cases_141003ctrl.tsv\n",
    "phenoCol=f2257\n",
    "covarCol=sex\n",
    "qCovarCol='age PC1 PC2'\n",
    "#This run do it with unqc'ed plink files while we wait for the qc'ed ones\n",
    "genoFile=`echo /home/gl2776/UKBiobank/data/exome_files/project_VCF/072721_run/plink/ukb23156_c{1..22}.merged.filtered.bed`\n",
    "bfile=/home/gl2776/UKBiobank/genotype_files_processed/090221_sample_variant_qc_final_callrate90/cache/UKB_genotypedatadownloaded083019.090221_sample_variant_qc_final_callrate90.filtered.extracted.bed\n",
    "anno_file=~/UKBiobank/results/REGENIE_results/results_burden_exome/300k/100421_burden_files/ukb23155_chr1_chr22_100421.hg38.hg38_multianno.anno_file\n",
    "set_list=~/UKBiobank/results/REGENIE_results/results_burden_exome/300k/100421_burden_files/ukb23155_chr1_chr22_100421.hg38.hg38_multianno.set_list_file\n",
    "mask_file=~/UKBiobank/results/REGENIE_results/results_burden_exome/300k/100421_burden_files/ukb23155_chr1_chr22_100421.hg38.hg38_multianno.mask_file\n",
    "#keep_gene=\n",
    "build_mask=max\n",
    "aaf_bins='0.005 0.01'\n",
    "tpl_file=~/working/bioworkflows/admin/csg.yml\n",
    "lmm_sos=~/working/bioworkflows/GWAS/LMM.ipynb\n",
    "container_marp=/home/gl2776/containers/marp.sif\n",
    "container_lmm=/home/gl2776/containers/lmm.sif \n",
    "lmm_job_size=1\n",
    "ylim=0\n",
    "reverse_log_p=True\n",
    "numThreads=20\n",
    "formatFile_regenie=/home/gl2776/working/UKBB_GWAS_dev/data/regenie_template.yml\n",
    "bsize=1000\n",
    "trait=bt\n",
    "minMAC=1\n",
    "snpannofile=~/UKBiobank/results/ukb23155_200Kexomes_annovar/091321_exome_bim_merge/ukb23155_chr1_chr22_091321.hg38.hg38_multianno.csv\n",
    "\n",
    "lmm_args=\"\"\"regenie_burden\n",
    "    --cwd $lmm_dir_regenie \n",
    "    --bfile $bfile \n",
    "    --genoFile $genoFile\n",
    "    --sampleFile $sampleFile\n",
    "    --phenoFile $phenoFile \n",
    "    --formatFile $formatFile_regenie \n",
    "    --phenoCol $phenoCol\n",
    "    --covarCol $covarCol  \n",
    "    --qCovarCol $qCovarCol\n",
    "    --bsize $bsize\n",
    "    --trait $trait\n",
    "    --anno_file $anno_file\n",
    "    --set_list $set_list\n",
    "    --mask_file $mask_file\n",
    "    --keep_gene $keep_gene\n",
    "    --aaf_bins $aaf_bins\n",
    "    --build_mask $build_mask\n",
    "    --job_size $lmm_job_size\n",
    "    --ylim $ylim\n",
    "    --reverse_log_p $reverse_log_p\n",
    "    --numThreads $numThreads\n",
    "    --minMAC $minMAC\n",
    "    --snpannofile $snpannofile\n",
    "    --container_lmm $container_lmm\n",
    "    --container_marp $container_marp\n",
    "\"\"\"\n",
    "\n",
    "sos run ~/working/UKBB_GWAS_dev/admin/Get_Job_Script.ipynb csg \\\n",
    "    --template-file $tpl_file \\\n",
    "    --workflow-file $lmm_sos \\\n",
    "    --to-script $lmm_sbatch_regenie \\\n",
    "    --args \"$lmm_args\""
   ]
  },
  {
   "cell_type": "markdown",
   "id": "3d7c7aa4-4969-454b-a8db-710dc2180e64",
   "metadata": {
    "kernel": "Bash"
   },
   "source": [
    "### 100421_Combined_f2247_f2257"
   ]
  },
  {
   "cell_type": "code",
   "execution_count": 8,
   "id": "c8e18fa0-11a1-468d-baec-2a3887acbd5b",
   "metadata": {
    "kernel": "Bash"
   },
   "outputs": [
    {
     "name": "stdout",
     "output_type": "stream",
     "text": [
      "INFO: Running \u001b[32mcsg\u001b[0m: Configuration for Columbia csg partition cluster\n",
      "INFO: \u001b[32mcsg\u001b[0m is \u001b[32mcompleted\u001b[0m.\n",
      "INFO: \u001b[32mcsg\u001b[0m output:   \u001b[32m/home/gl2776/UKBiobank/results/REGENIE_results/results_burden_exome/300k/100421_Combined_f2247_f2257/Combined_f2247_f2257_300k_exomes-regenie-burden_2021-10-04.sbatch\u001b[0m\n",
      "INFO: Workflow csg (ID=w58a9d65830c52bda) is executed successfully with 1 completed step.\n",
      "\n"
     ]
    }
   ],
   "source": [
    "lmm_dir_regenie=~/UKBiobank/results/REGENIE_results/results_burden_exome/300k/100421_Combined_f2247_f2257\n",
    "lmm_sbatch_regenie=~/UKBiobank/results/REGENIE_results/results_burden_exome/300k/100421_Combined_f2247_f2257/Combined_f2247_f2257_300k_exomes-regenie-burden_$(date +\"%Y-%m-%d\").sbatch\n",
    "phenoFile=~/project/guangyou/HI_UKBB/100421_UKBB_Combined_f2247_f2257_expandedwhite_38410cases_141003ctrl.tsv\n",
    "covarFile=~/project/guangyou/HI_UKBB/100421_UKBB_Combined_f2247_f2257_expandedwhite_38410cases_141003ctrl.tsv\n",
    "phenoCol=f2247_f2257\n",
    "covarCol=sex\n",
    "qCovarCol='age PC1 PC2'\n",
    "#This run do it with unqc'ed plink files while we wait for the qc'ed ones\n",
    "genoFile=`echo /home/gl2776/UKBiobank/data/exome_files/project_VCF/072721_run/plink/ukb23156_c{1..22}.merged.filtered.bed`\n",
    "bfile=/home/gl2776/UKBiobank/genotype_files_processed/090221_sample_variant_qc_final_callrate90/cache/UKB_genotypedatadownloaded083019.090221_sample_variant_qc_final_callrate90.filtered.extracted.bed\n",
    "anno_file=~/UKBiobank/results/REGENIE_results/results_burden_exome/300k/100421_burden_files/ukb23155_chr1_chr22_100421.hg38.hg38_multianno.anno_file\n",
    "set_list=~/UKBiobank/results/REGENIE_results/results_burden_exome/300k/100421_burden_files/ukb23155_chr1_chr22_100421.hg38.hg38_multianno.set_list_file\n",
    "mask_file=~/UKBiobank/results/REGENIE_results/results_burden_exome/300k/100421_burden_files/ukb23155_chr1_chr22_100421.hg38.hg38_multianno.mask_file\n",
    "#keep_gene=\n",
    "build_mask=max\n",
    "aaf_bins='0.005 0.01'\n",
    "tpl_file=~/working/bioworkflows/admin/csg.yml\n",
    "lmm_sos=~/working/bioworkflows/GWAS/LMM.ipynb\n",
    "container_marp=/home/gl2776/containers/marp.sif\n",
    "container_lmm=/home/gl2776/containers/lmm.sif \n",
    "lmm_job_size=1\n",
    "ylim=0\n",
    "reverse_log_p=True\n",
    "numThreads=20\n",
    "formatFile_regenie=/home/gl2776/working/UKBB_GWAS_dev/data/regenie_template.yml\n",
    "bsize=1000\n",
    "trait=bt\n",
    "minMAC=1\n",
    "snpannofile=~/UKBiobank/results/ukb23155_200Kexomes_annovar/091321_exome_bim_merge/ukb23155_chr1_chr22_091321.hg38.hg38_multianno.csv\n",
    "\n",
    "lmm_args=\"\"\"regenie_burden\n",
    "    --cwd $lmm_dir_regenie \n",
    "    --bfile $bfile \n",
    "    --genoFile $genoFile\n",
    "    --sampleFile $sampleFile\n",
    "    --phenoFile $phenoFile \n",
    "    --formatFile $formatFile_regenie \n",
    "    --phenoCol $phenoCol\n",
    "    --covarCol $covarCol  \n",
    "    --qCovarCol $qCovarCol\n",
    "    --bsize $bsize\n",
    "    --trait $trait\n",
    "    --anno_file $anno_file\n",
    "    --set_list $set_list\n",
    "    --mask_file $mask_file\n",
    "    --keep_gene $keep_gene\n",
    "    --aaf_bins $aaf_bins\n",
    "    --build_mask $build_mask\n",
    "    --job_size $lmm_job_size\n",
    "    --ylim $ylim\n",
    "    --reverse_log_p $reverse_log_p\n",
    "    --numThreads $numThreads\n",
    "    --minMAC $minMAC\n",
    "    --snpannofile $snpannofile\n",
    "    --container_lmm $container_lmm\n",
    "    --container_marp $container_marp\n",
    "\"\"\"\n",
    "\n",
    "sos run ~/working/UKBB_GWAS_dev/admin/Get_Job_Script.ipynb csg \\\n",
    "    --template-file $tpl_file \\\n",
    "    --workflow-file $lmm_sos \\\n",
    "    --to-script $lmm_sbatch_regenie \\\n",
    "    --args \"$lmm_args\""
   ]
  },
  {
   "cell_type": "code",
   "execution_count": null,
   "id": "8da3d9c8-4894-47b4-8d6a-87fcaf921ae0",
   "metadata": {
    "kernel": "Bash"
   },
   "outputs": [],
   "source": []
  },
  {
   "cell_type": "markdown",
   "id": "8821e143-1cd5-42f8-aa13-1707141ab1d9",
   "metadata": {
    "kernel": "Bash"
   },
   "source": [
    "## 100521 Get PCA for every phenotype for 300K samples to obtain PC's for LMM analysis"
   ]
  },
  {
   "cell_type": "code",
   "execution_count": 2,
   "id": "85659441-f818-4801-b18d-67b9c4fd66ff",
   "metadata": {
    "kernel": "Bash"
   },
   "outputs": [
    {
     "name": "stdout",
     "output_type": "stream",
     "text": [
      "\n"
     ]
    }
   ],
   "source": [
    "gwasqc_sos=~/working/bioworkflows/GWAS/GWAS_QC.ipynb\n",
    "tpl_file=~/working/bioworkflows/admin/csg.yml\n",
    "pca_sos=~/working/bioworkflows/GWAS/PCA.ipynb\n",
    "container_lmm=$HOME/containers/lmm.sif\n",
    "numThreads=1\n",
    "job_size=1"
   ]
  },
  {
   "cell_type": "markdown",
   "id": "03a36168-916b-4a60-a0d3-32c56192e888",
   "metadata": {
    "kernel": "Bash"
   },
   "source": [
    "### f.3393"
   ]
  },
  {
   "cell_type": "markdown",
   "id": "ef582811-0e47-4d19-95d7-5527775ae3d8",
   "metadata": {
    "kernel": "Bash"
   },
   "source": [
    "#### step 1"
   ]
  },
  {
   "cell_type": "code",
   "execution_count": null,
   "id": "fceb5c97-9a87-47c5-b182-be8083a811aa",
   "metadata": {
    "kernel": "Bash"
   },
   "outputs": [],
   "source": [
    "## Columbia's cluster\n",
    "cwd=~/UKBiobank/results/092921_PCA_results_300K/100521_f3393_300Kimputed_pca\n",
    "gwas_sbatch=$cwd/qc1_f3393_qcarray_50K_$(date +\"%Y-%m-%d\").sbatch\n",
    "## Use qc'ed genotype array\n",
    "genoFile=~/UKBiobank/genotype_files_processed/090221_sample_variant_qc_final_callrate90/cache/UKB_genotypedatadownloaded083019.090221_sample_variant_qc_final_callrate90.filtered.extracted.bed\n",
    "keep_samples=~/project/guangyou/HI_UKBB/100421_UKBB_Hearing_aid_f3393_expandedwhite_9165cases_141003ctrl.keep_id\n",
    "#Keep variants after LD pruning\n",
    "keep_variants=~/UKBiobank/results/092921_PCA_results_300K/092921_ldprun_unrelated/cache/*.filtered.prune.in\n",
    "#GWAS QC variables set all of this variables to 0 to avoid doing more filtering\n",
    "maf_filter=0\n",
    "geno_filter=0\n",
    "hwe_filter=0\n",
    "mind_filter=0\n",
    "numThreads=1\n",
    "mem='30G'\n",
    "\n",
    "gwasqc_args=\"\"\"qc:1\n",
    "    --cwd $cwd\n",
    "    --genoFile $genoFile\n",
    "    --keep_samples $keep_samples\n",
    "    --keep_variants $keep_variants\n",
    "    --maf_filter $maf_filter\n",
    "    --geno_filter $geno_filter\n",
    "    --hwe_filter $hwe_filter\n",
    "    --mind_filter $mind_filter\n",
    "    --numThreads $numThreads \n",
    "    --job_size $job_size\n",
    "    --container_lmm $container_lmm\n",
    "    --mem $mem\n",
    "\"\"\"\n",
    "\n",
    "sos run ~/working/UKBB_GWAS_dev/admin/Get_Job_Script.ipynb csg \\\n",
    "    --template-file $tpl_file \\\n",
    "    --workflow-file $gwasqc_sos \\\n",
    "    --to-script $gwas_sbatch \\\n",
    "    --args \"$gwasqc_args\""
   ]
  },
  {
   "cell_type": "markdown",
   "id": "70ac1c02-bebf-4b0b-944a-6f2e258cdd0f",
   "metadata": {
    "kernel": "Bash"
   },
   "source": [
    "#### step 2"
   ]
  },
  {
   "cell_type": "code",
   "execution_count": null,
   "id": "830b169d-e8e8-4708-a75d-74fd59134c2f",
   "metadata": {
    "kernel": "Bash"
   },
   "outputs": [],
   "source": [
    "## Columbia's cluster\n",
    "cwd=~/UKBiobank/results/092921_PCA_results_300K/100521_f3393_300Kimputed_pca\n",
    "#This is the bfile obtained in step 1\n",
    "genoFile=~/UKBiobank/results/092921_PCA_results_300K/100521_f3393_300Kimputed_pca/cache/*.filtered.extracted.bed\n",
    "# Format FID, IID, ethnicity\n",
    "phenoFile=~/project/guangyou/HI_UKBB/100421_UKBB_Hearing_aid_f3393_expandedwhite_9165cases_141003ctrl.phenopca\n",
    "label_col=ethnicity\n",
    "pop_col=ethnicity\n",
    "pca_sbatch=$cwd/flashpca_f3393_pc_300K_$(date +\"%Y-%m-%d\").sbatch\n",
    "k=2\n",
    "min_axis=0\n",
    "max_axis=0\n",
    "\n",
    "pca_args=\"\"\"flashpca\n",
    "    --cwd $cwd\n",
    "    --genoFile $genoFile\n",
    "    --phenoFile $phenoFile\n",
    "    --k $k\n",
    "    --label_col $label_col\n",
    "    --pop_col $pop_col\n",
    "    --min_axis $min_axis\n",
    "    --max_axis $max_axis\n",
    "    --numThreads $numThreads \n",
    "    --job_size $job_size\n",
    "    --container_lmm $container_lmm\n",
    "\"\"\"\n",
    "\n",
    "sos run  ~/working/UKBB_GWAS_dev/admin/Get_Job_Script.ipynb csg\\\n",
    "    --template-file $tpl_file \\\n",
    "    --workflow-file $pca_sos \\\n",
    "    --to-script $pca_sbatch \\\n",
    "    --args \"$pca_args\""
   ]
  },
  {
   "cell_type": "markdown",
   "id": "8bedad90-4149-47ef-98cb-10166fd57c26",
   "metadata": {
    "kernel": "Bash"
   },
   "source": [
    "### f.2247"
   ]
  },
  {
   "cell_type": "code",
   "execution_count": 3,
   "id": "0eb6b82b-11d9-4174-93d8-d76a52f26457",
   "metadata": {
    "kernel": "Bash"
   },
   "outputs": [
    {
     "name": "stdout",
     "output_type": "stream",
     "text": [
      "INFO: Running \u001b[32mcsg\u001b[0m: Configuration for Columbia csg partition cluster\n",
      "INFO: \u001b[32mcsg\u001b[0m is \u001b[32mcompleted\u001b[0m.\n",
      "INFO: \u001b[32mcsg\u001b[0m output:   \u001b[32m/home/gl2776/UKBiobank/results/092921_PCA_results_300K/100521_f2247_300Kimputed_pca/qc1_f3393_qcarray_50K_2021-10-05.sbatch\u001b[0m\n",
      "INFO: Workflow csg (ID=wb85bba47f155cccd) is executed successfully with 1 completed step.\n",
      "\n"
     ]
    }
   ],
   "source": [
    "## Columbia's cluster\n",
    "cwd=~/UKBiobank/results/092921_PCA_results_300K/100521_f2247_300Kimputed_pca\n",
    "gwas_sbatch=$cwd/qc1_f2247_qcarray_300K_$(date +\"%Y-%m-%d\").sbatch\n",
    "## Use qc'ed genotype array\n",
    "genoFile=~/UKBiobank/genotype_files_processed/090221_sample_variant_qc_final_callrate90/cache/UKB_genotypedatadownloaded083019.090221_sample_variant_qc_final_callrate90.filtered.extracted.bed\n",
    "keep_samples=~/project/guangyou/HI_UKBB/100421_UKBB_Hearing_difficulty_f2247_expandedwhite_64962cases_141003ctrl.keep_id\n",
    "#Keep variants after LD pruning\n",
    "keep_variants=~/UKBiobank/results/092921_PCA_results_300K/092921_ldprun_unrelated/cache/*.filtered.prune.in\n",
    "#GWAS QC variables set all of this variables to 0 to avoid doing more filtering\n",
    "maf_filter=0\n",
    "geno_filter=0\n",
    "hwe_filter=0\n",
    "mind_filter=0\n",
    "numThreads=1\n",
    "mem='30G'\n",
    "\n",
    "gwasqc_args=\"\"\"qc:1\n",
    "    --cwd $cwd\n",
    "    --genoFile $genoFile\n",
    "    --keep_samples $keep_samples\n",
    "    --keep_variants $keep_variants\n",
    "    --maf_filter $maf_filter\n",
    "    --geno_filter $geno_filter\n",
    "    --hwe_filter $hwe_filter\n",
    "    --mind_filter $mind_filter\n",
    "    --numThreads $numThreads \n",
    "    --job_size $job_size\n",
    "    --container_lmm $container_lmm\n",
    "    --mem $mem\n",
    "\"\"\"\n",
    "\n",
    "sos run ~/working/UKBB_GWAS_dev/admin/Get_Job_Script.ipynb csg \\\n",
    "    --template-file $tpl_file \\\n",
    "    --workflow-file $gwasqc_sos \\\n",
    "    --to-script $gwas_sbatch \\\n",
    "    --args \"$gwasqc_args\""
   ]
  },
  {
   "cell_type": "code",
   "execution_count": 4,
   "id": "8563be78-a1cd-4b91-bd72-68fb1b9f03fd",
   "metadata": {
    "kernel": "Bash"
   },
   "outputs": [
    {
     "name": "stdout",
     "output_type": "stream",
     "text": [
      "INFO: Running \u001b[32mcsg\u001b[0m: Configuration for Columbia csg partition cluster\n",
      "INFO: \u001b[32mcsg\u001b[0m is \u001b[32mcompleted\u001b[0m.\n",
      "INFO: \u001b[32mcsg\u001b[0m output:   \u001b[32m/home/gl2776/UKBiobank/results/092921_PCA_results_300K/100521_f2247_300Kimputed_pca/flashpca_f2247_pc_300K_2021-10-05.sbatch\u001b[0m\n",
      "INFO: Workflow csg (ID=w2697f21d631f38cb) is executed successfully with 1 completed step.\n",
      "\n"
     ]
    }
   ],
   "source": [
    "## Columbia's cluster\n",
    "cwd=~/UKBiobank/results/092921_PCA_results_300K/100521_f2247_300Kimputed_pca\n",
    "#This is the bfile obtained in step 1\n",
    "genoFile=~/UKBiobank/results/092921_PCA_results_300K/100521_f2247_300Kimputed_pca/cache/*.filtered.extracted.bed\n",
    "# Format FID, IID, ethnicity\n",
    "phenoFile=~/project/guangyou/HI_UKBB/100421_UKBB_Hearing_difficulty_f2247_expandedwhite_64962cases_141003ctrl.phenopca\n",
    "label_col=ethnicity\n",
    "pop_col=ethnicity\n",
    "pca_sbatch=$cwd/flashpca_f2247_pc_300K_$(date +\"%Y-%m-%d\").sbatch\n",
    "k=2\n",
    "min_axis=0\n",
    "max_axis=0\n",
    "\n",
    "pca_args=\"\"\"flashpca\n",
    "    --cwd $cwd\n",
    "    --genoFile $genoFile\n",
    "    --phenoFile $phenoFile\n",
    "    --k $k\n",
    "    --label_col $label_col\n",
    "    --pop_col $pop_col\n",
    "    --min_axis $min_axis\n",
    "    --max_axis $max_axis\n",
    "    --numThreads $numThreads \n",
    "    --job_size $job_size\n",
    "    --container_lmm $container_lmm\n",
    "\"\"\"\n",
    "\n",
    "sos run  ~/working/UKBB_GWAS_dev/admin/Get_Job_Script.ipynb csg\\\n",
    "    --template-file $tpl_file \\\n",
    "    --workflow-file $pca_sos \\\n",
    "    --to-script $pca_sbatch \\\n",
    "    --args \"$pca_args\""
   ]
  },
  {
   "cell_type": "markdown",
   "id": "bb4403d1-5b0d-49ce-92b1-d42c2a17ab58",
   "metadata": {
    "kernel": "Bash"
   },
   "source": [
    "#### f.2257"
   ]
  },
  {
   "cell_type": "code",
   "execution_count": 7,
   "id": "2275d4de-1eaf-42f9-9890-70eb07a63939",
   "metadata": {
    "kernel": "Bash"
   },
   "outputs": [
    {
     "name": "stdout",
     "output_type": "stream",
     "text": [
      "INFO: Running \u001b[32mcsg\u001b[0m: Configuration for Columbia csg partition cluster\n",
      "INFO: \u001b[32mcsg\u001b[0m is \u001b[32mcompleted\u001b[0m.\n",
      "INFO: \u001b[32mcsg\u001b[0m output:   \u001b[32m/home/gl2776/UKBiobank/results/092921_PCA_results_300K/100521_f2257_300Kimputed_pca/qc1_f2257_qcarray_50K_2021-10-05.sbatch\u001b[0m\n",
      "INFO: Workflow csg (ID=w1c878f0c4ac82418) is executed successfully with 1 completed step.\n",
      "\n"
     ]
    }
   ],
   "source": [
    "## Columbia's cluster\n",
    "cwd=~/UKBiobank/results/092921_PCA_results_300K/100521_f2257_300Kimputed_pca\n",
    "gwas_sbatch=$cwd/qc1_f2257_qcarray_50K_$(date +\"%Y-%m-%d\").sbatch\n",
    "## Use qc'ed genotype array\n",
    "genoFile=~/UKBiobank/genotype_files_processed/090221_sample_variant_qc_final_callrate90/cache/UKB_genotypedatadownloaded083019.090221_sample_variant_qc_final_callrate90.filtered.extracted.bed\n",
    "keep_samples=~/project/guangyou/HI_UKBB/100421_UKBB_Hearing_noise_f2257_expandedwhite_95796cases_141003ctrl.keep_id\n",
    "#Keep variants after LD pruning\n",
    "keep_variants=~/UKBiobank/results/092921_PCA_results_300K/092921_ldprun_unrelated/cache/*.filtered.prune.in\n",
    "#GWAS QC variables set all of this variables to 0 to avoid doing more filtering\n",
    "maf_filter=0\n",
    "geno_filter=0\n",
    "hwe_filter=0\n",
    "mind_filter=0\n",
    "numThreads=1\n",
    "mem='30G'\n",
    "\n",
    "gwasqc_args=\"\"\"qc:1\n",
    "    --cwd $cwd\n",
    "    --genoFile $genoFile\n",
    "    --keep_samples $keep_samples\n",
    "    --keep_variants $keep_variants\n",
    "    --maf_filter $maf_filter\n",
    "    --geno_filter $geno_filter\n",
    "    --hwe_filter $hwe_filter\n",
    "    --mind_filter $mind_filter\n",
    "    --numThreads $numThreads \n",
    "    --job_size $job_size\n",
    "    --container_lmm $container_lmm\n",
    "    --mem $mem\n",
    "\"\"\"\n",
    "\n",
    "sos run ~/working/UKBB_GWAS_dev/admin/Get_Job_Script.ipynb csg \\\n",
    "    --template-file $tpl_file \\\n",
    "    --workflow-file $gwasqc_sos \\\n",
    "    --to-script $gwas_sbatch \\\n",
    "    --args \"$gwasqc_args\""
   ]
  },
  {
   "cell_type": "code",
   "execution_count": 8,
   "id": "fa21cd60-dea5-499c-b3bb-700fad560143",
   "metadata": {
    "kernel": "Bash"
   },
   "outputs": [
    {
     "name": "stdout",
     "output_type": "stream",
     "text": [
      "INFO: Running \u001b[32mcsg\u001b[0m: Configuration for Columbia csg partition cluster\n",
      "INFO: \u001b[32mcsg\u001b[0m is \u001b[32mcompleted\u001b[0m.\n",
      "INFO: \u001b[32mcsg\u001b[0m output:   \u001b[32m/home/gl2776/UKBiobank/results/092921_PCA_results_300K/100521_f2257_300Kimputed_pca/flashpca_f2257_pc_300K_2021-10-05.sbatch\u001b[0m\n",
      "INFO: Workflow csg (ID=w70f105a15ccd00af) is executed successfully with 1 completed step.\n",
      "\n"
     ]
    }
   ],
   "source": [
    "## Columbia's cluster\n",
    "cwd=~/UKBiobank/results/092921_PCA_results_300K/100521_f2257_300Kimputed_pca\n",
    "#This is the bfile obtained in step 1\n",
    "genoFile=~/UKBiobank/results/092921_PCA_results_300K/100521_f2257_300Kimputed_pca/cache/*.filtered.extracted.bed\n",
    "# Format FID, IID, ethnicity\n",
    "phenoFile=~/project/guangyou/HI_UKBB/100421_UKBB_Hearing_noise_f2257_expandedwhite_95796cases_141003ctrl.phenopca\n",
    "label_col=ethnicity\n",
    "pop_col=ethnicity\n",
    "pca_sbatch=$cwd/flashpca_f2257_pc_300K_$(date +\"%Y-%m-%d\").sbatch\n",
    "k=2\n",
    "min_axis=0\n",
    "max_axis=0\n",
    "\n",
    "pca_args=\"\"\"flashpca\n",
    "    --cwd $cwd\n",
    "    --genoFile $genoFile\n",
    "    --phenoFile $phenoFile\n",
    "    --k $k\n",
    "    --label_col $label_col\n",
    "    --pop_col $pop_col\n",
    "    --min_axis $min_axis\n",
    "    --max_axis $max_axis\n",
    "    --numThreads $numThreads \n",
    "    --job_size $job_size\n",
    "    --container_lmm $container_lmm\n",
    "\"\"\"\n",
    "\n",
    "sos run  ~/working/UKBB_GWAS_dev/admin/Get_Job_Script.ipynb csg\\\n",
    "    --template-file $tpl_file \\\n",
    "    --workflow-file $pca_sos \\\n",
    "    --to-script $pca_sbatch \\\n",
    "    --args \"$pca_args\""
   ]
  },
  {
   "cell_type": "markdown",
   "id": "0d765a94-2ed6-4d4d-b41b-2565dcceaed6",
   "metadata": {
    "kernel": "Bash"
   },
   "source": [
    "#### f.2247_f.2257"
   ]
  },
  {
   "cell_type": "code",
   "execution_count": 9,
   "id": "35073fb7-fe28-46e8-a473-15029f0ee7a1",
   "metadata": {
    "kernel": "Bash"
   },
   "outputs": [
    {
     "name": "stdout",
     "output_type": "stream",
     "text": [
      "INFO: Running \u001b[32mcsg\u001b[0m: Configuration for Columbia csg partition cluster\n",
      "INFO: \u001b[32mcsg\u001b[0m is \u001b[32mcompleted\u001b[0m.\n",
      "INFO: \u001b[32mcsg\u001b[0m output:   \u001b[32m/home/gl2776/UKBiobank/results/092921_PCA_results_300K/100521_f2247_f2257_300Kimputed_pca/qc1_f2247_f2257_qcarray_300K_2021-10-05.sbatch\u001b[0m\n",
      "INFO: Workflow csg (ID=wfdc02a67f2ad3206) is executed successfully with 1 completed step.\n",
      "\n"
     ]
    }
   ],
   "source": [
    "## Columbia's cluster\n",
    "cwd=~/UKBiobank/results/092921_PCA_results_300K/100521_f2247_f2257_300Kimputed_pca\n",
    "gwas_sbatch=$cwd/qc1_f2247_f2257_qcarray_300K_$(date +\"%Y-%m-%d\").sbatch\n",
    "## Use qc'ed genotype array\n",
    "genoFile=~/UKBiobank/genotype_files_processed/090221_sample_variant_qc_final_callrate90/cache/UKB_genotypedatadownloaded083019.090221_sample_variant_qc_final_callrate90.filtered.extracted.bed\n",
    "keep_samples=~/project/guangyou/HI_UKBB/100421_UKBB_Combined_f2247_f2257_expandedwhite_38410cases_141003ctrl.keep_id\n",
    "#Keep variants after LD pruning\n",
    "keep_variants=~/UKBiobank/results/092921_PCA_results_300K/092921_ldprun_unrelated/cache/*.filtered.prune.in\n",
    "#GWAS QC variables set all of this variables to 0 to avoid doing more filtering\n",
    "maf_filter=0\n",
    "geno_filter=0\n",
    "hwe_filter=0\n",
    "mind_filter=0\n",
    "numThreads=1\n",
    "mem='30G'\n",
    "\n",
    "gwasqc_args=\"\"\"qc:1\n",
    "    --cwd $cwd\n",
    "    --genoFile $genoFile\n",
    "    --keep_samples $keep_samples\n",
    "    --keep_variants $keep_variants\n",
    "    --maf_filter $maf_filter\n",
    "    --geno_filter $geno_filter\n",
    "    --hwe_filter $hwe_filter\n",
    "    --mind_filter $mind_filter\n",
    "    --numThreads $numThreads \n",
    "    --job_size $job_size\n",
    "    --container_lmm $container_lmm\n",
    "    --mem $mem\n",
    "\"\"\"\n",
    "\n",
    "sos run ~/working/UKBB_GWAS_dev/admin/Get_Job_Script.ipynb csg \\\n",
    "    --template-file $tpl_file \\\n",
    "    --workflow-file $gwasqc_sos \\\n",
    "    --to-script $gwas_sbatch \\\n",
    "    --args \"$gwasqc_args\""
   ]
  },
  {
   "cell_type": "code",
   "execution_count": 10,
   "id": "c94f2597-6993-4e1e-824b-9357f8b12341",
   "metadata": {
    "kernel": "Bash"
   },
   "outputs": [
    {
     "name": "stdout",
     "output_type": "stream",
     "text": [
      "INFO: Running \u001b[32mcsg\u001b[0m: Configuration for Columbia csg partition cluster\n",
      "INFO: \u001b[32mcsg\u001b[0m is \u001b[32mcompleted\u001b[0m.\n",
      "INFO: \u001b[32mcsg\u001b[0m output:   \u001b[32m/home/gl2776/UKBiobank/results/092921_PCA_results_300K/100521_f2247_f2257_300Kimputed_pca/flashpca_f2247_f2257_pc_300K_2021-10-05.sbatch\u001b[0m\n",
      "INFO: Workflow csg (ID=w4a20f8a740e103da) is executed successfully with 1 completed step.\n",
      "\n"
     ]
    }
   ],
   "source": [
    "## Columbia's cluster\n",
    "cwd=~/UKBiobank/results/092921_PCA_results_300K/100521_f2247_f2257_300Kimputed_pca\n",
    "#This is the bfile obtained in step 1\n",
    "genoFile=~/UKBiobank/results/092921_PCA_results_300K/100521_f2247_f2257_300Kimputed_pca/cache/*.filtered.extracted.bed\n",
    "# Format FID, IID, ethnicity\n",
    "phenoFile=~/project/guangyou/HI_UKBB/100421_UKBB_Combined_f2247_f2257_expandedwhite_38410cases_141003ctrl.phenopca\n",
    "label_col=ethnicity\n",
    "pop_col=ethnicity\n",
    "pca_sbatch=$cwd/flashpca_f2247_f2257_pc_300K_$(date +\"%Y-%m-%d\").sbatch\n",
    "k=2\n",
    "min_axis=0\n",
    "max_axis=0\n",
    "\n",
    "pca_args=\"\"\"flashpca\n",
    "    --cwd $cwd\n",
    "    --genoFile $genoFile\n",
    "    --phenoFile $phenoFile\n",
    "    --k $k\n",
    "    --label_col $label_col\n",
    "    --pop_col $pop_col\n",
    "    --min_axis $min_axis\n",
    "    --max_axis $max_axis\n",
    "    --numThreads $numThreads \n",
    "    --job_size $job_size\n",
    "    --container_lmm $container_lmm\n",
    "\"\"\"\n",
    "\n",
    "sos run  ~/working/UKBB_GWAS_dev/admin/Get_Job_Script.ipynb csg\\\n",
    "    --template-file $tpl_file \\\n",
    "    --workflow-file $pca_sos \\\n",
    "    --to-script $pca_sbatch \\\n",
    "    --args \"$pca_args\""
   ]
  },
  {
   "cell_type": "markdown",
   "id": "c9a933dc-cea6-4500-a0fc-885f0489bc4c",
   "metadata": {
    "kernel": "Bash"
   },
   "source": [
    "# 10-13-21 Hearing impairment"
   ]
  },
  {
   "cell_type": "markdown",
   "id": "3ba19ee5-398c-4464-be93-5d4c8755ea73",
   "metadata": {
    "kernel": "SoS"
   },
   "source": [
    "## Create the anno_file, set_list_file and mask_files necessary for burden test"
   ]
  },
  {
   "cell_type": "code",
   "execution_count": 1,
   "id": "a7ca581a-5f96-4d25-93ae-c324ed8235e3",
   "metadata": {
    "kernel": "Bash"
   },
   "outputs": [
    {
     "name": "stdout",
     "output_type": "stream",
     "text": [
      "INFO: Running \u001b[32mcsg\u001b[0m: Configuration for Columbia csg partition cluster\n",
      "INFO: \u001b[32mcsg\u001b[0m is \u001b[32mcompleted\u001b[0m.\n",
      "INFO: \u001b[32mcsg\u001b[0m output:   \u001b[32m/home/gl2776/UKBiobank/results/REGENIE_results/results_burden_exome/101321_burden_files/ukb23155_200Kexomes_burdenfiles_2021-10-13.sbatch\u001b[0m\n",
      "INFO: Workflow csg (ID=w2360ed87c5992d95) is executed successfully with 1 completed step.\n",
      "\n"
     ]
    }
   ],
   "source": [
    "burden_dir=~/UKBiobank/results/REGENIE_results/results_burden_exome/101321_burden_files\n",
    "anno_sbatch_burden=~/UKBiobank/results/REGENIE_results/results_burden_exome/101321_burden_files/ukb23155_200Kexomes_burdenfiles_$(date +\"%Y-%m-%d\").sbatch\n",
    "annotated_file_hg38=~/UKBiobank/results/ukb23155_200Kexomes_annovar/2021_10_12_hg38_exome/ukb23155_chr1_chr22_091321.hg38.hg38_multianno.renamedcols.csv.gz\n",
    "bim_name=~/UKBiobank/results/ukb23155_200Kexomes_annovar/091321_exome_bim_merge/ukb23155_chr1_chr22_091321.bim\n",
    "job_size=1\n",
    "name_prefix='ukb23155_chr1_chr22_qcexomedata_101321_burden_files'\n",
    "anno_sos=~/project/bioworkflows/variant-annotation/annovar.ipynb\n",
    "tpl_file=~/project/bioworkflows/admin/csg.yml\n",
    "container_annovar=$HOME/containers/gatk4-annovar.sif\n",
    "\n",
    "anno_args=\"\"\"burden_files\n",
    "    --cwd $burden_dir\n",
    "    --annotated_file $annotated_file_hg38\n",
    "    --bim_name $bim_name\n",
    "    --name_prefix $name_prefix\n",
    "    --job_size $job_size\n",
    "    --container_annovar $container_annovar\n",
    "    --container_lmm /mnt/mfs/statgen/containers/lmm.sif\n",
    "\"\"\"\n",
    "\n",
    "sos run ~/working/UKBB_GWAS_dev/admin/Get_Job_Script.ipynb csg \\\n",
    "    --template-file $tpl_file \\\n",
    "    --workflow-file $anno_sos \\\n",
    "    --to-script $anno_sbatch_burden\\\n",
    "    --args \"$anno_args\"\n"
   ]
  },
  {
   "cell_type": "markdown",
   "id": "fd7ad079-79fa-4ba0-811b-053831362192",
   "metadata": {
    "kernel": "Bash"
   },
   "source": [
    "## Regenie Burden with 200K exomes\n",
    "### 101321_f3393_hearing_aid"
   ]
  },
  {
   "cell_type": "code",
   "execution_count": 3,
   "id": "63c86713-f107-4799-8846-ee70fc910985",
   "metadata": {
    "kernel": "Bash"
   },
   "outputs": [
    {
     "name": "stdout",
     "output_type": "stream",
     "text": [
      "INFO: Running \u001b[32mcsg\u001b[0m: Configuration for Columbia csg partition cluster\n",
      "INFO: \u001b[32mcsg\u001b[0m is \u001b[32mcompleted\u001b[0m.\n",
      "INFO: \u001b[32mcsg\u001b[0m output:   \u001b[32m/home/dmc2245/UKBiobank/results/REGENIE_results/results_burden_exome/101321_f3393_hearing_aid/f3393_hearing_aid_200k_exomes-regenie-burden_2021-11-05.sbatch\u001b[0m\n",
      "INFO: Workflow csg (ID=wb83e51d8a2499f76) is executed successfully with 1 completed step.\n",
      "\n"
     ]
    }
   ],
   "source": [
    "lmm_dir_regenie=~/UKBiobank/results/REGENIE_results/results_burden_exome/101321_f3393_hearing_aid\n",
    "lmm_sbatch_regenie=~/UKBiobank/results/REGENIE_results/results_burden_exome/101321_f3393_hearing_aid/f3393_hearing_aid_200k_exomes-regenie-burden_$(date +\"%Y-%m-%d\").sbatch\n",
    "phenoFile=~/UKBiobank/phenotype_files/hearing_impairment/090321_UKBB_Hearing_aid_f3393_expandedwhite_6436cases_96601ctrl_PC1_2.tsv\n",
    "covarFile=~/UKBiobank/phenotype_files/hearing_impairment/090321_UKBB_Hearing_aid_f3393_expandedwhite_6436cases_96601ctrl_PC1_2.tsv\n",
    "phenoCol=f3393\n",
    "covarCol=sex\n",
    "qCovarCol='age PC1 PC2'\n",
    "genoFile=`echo ~/UKBiobank/data/exome_files/project_VCF/072721_run/plink/ukb23156_c{1..22}.merged.filtered.bed`\n",
    "bfile=~/UKBiobank/genotype_files_processed/090221_sample_variant_qc_final_callrate90/cache/UKB_genotypedatadownloaded083019.090221_sample_variant_qc_final_callrate90.filtered.extracted.bed\n",
    "anno_file=~/UKBiobank/results/REGENIE_results/results_burden_exome/102121_burden_files/ukb23155_chr1_chr22_091321.hg38.hg38_multianno.renamedcols.csv.anno_file\n",
    "set_list=~/UKBiobank/results/REGENIE_results/results_burden_exome/102121_burden_files/ukb23155_chr1_chr22_091321.hg38.hg38_multianno.renamedcols.csv.set_list_file\n",
    "mask_file=~/UKBiobank/results/REGENIE_results/results_burden_exome/102121_burden_files/ukb23155_chr1_chr22_101321.hg38.hg38_multianno.renamedcols.mask_file\n",
    "aaf_file=~/UKBiobank/results/REGENIE_results/results_burden_exome/102121_burden_files/ukb23155_chr1_chr22_091321.hg38.hg38_multianno.renamedcols.csv.aff_file\n",
    "build_mask=max\n",
    "aaf_bins='0.005 0.01'\n",
    "tpl_file=~/project/bioworkflows/admin/csg.yml\n",
    "lmm_sos=~/project/bioworkflows/GWAS/LMM.ipynb\n",
    "container_marp=~/containers/marp.sif\n",
    "container_lmm=~/containers/lmm.sif \n",
    "lmm_job_size=1\n",
    "ylim=0\n",
    "reverse_log_p=True\n",
    "numThreads=20\n",
    "formatFile_regenie=~/project/UKBB_GWAS_dev/data/regenie_template.yml\n",
    "bsize=1000\n",
    "trait=bt\n",
    "minMAC=1\n",
    "snpannofile=~/UKBiobank/results/ukb23155_200Kexomes_annovar/2021_10_12_hg38_exome/ukb23155_chr1_chr22_091321.hg38.hg38_multianno.csv\n",
    "\n",
    "lmm_args=\"\"\"regenie_burden\n",
    "    --cwd $lmm_dir_regenie \n",
    "    --bfile $bfile \n",
    "    --genoFile $genoFile\n",
    "    --phenoFile $phenoFile \n",
    "    --formatFile $formatFile_regenie \n",
    "    --phenoCol $phenoCol\n",
    "    --covarCol $covarCol  \n",
    "    --qCovarCol $qCovarCol\n",
    "    --bsize $bsize\n",
    "    --trait $trait\n",
    "    --anno_file $anno_file\n",
    "    --set_list $set_list\n",
    "    --mask_file $mask_file\n",
    "    --aaf_file $aaf_file\n",
    "    --aaf_bins $aaf_bins\n",
    "    --build_mask $build_mask\n",
    "    --job_size $lmm_job_size\n",
    "    --ylim $ylim\n",
    "    --reverse_log_p $reverse_log_p\n",
    "    --numThreads $numThreads\n",
    "    --minMAC $minMAC\n",
    "    --snpannofile $snpannofile\n",
    "    --container_lmm $container_lmm\n",
    "    --container_marp $container_marp\n",
    "\"\"\"\n",
    "\n",
    "sos run ~/project/UKBB_GWAS_dev/admin/Get_Job_Script.ipynb csg \\\n",
    "    --template-file $tpl_file \\\n",
    "    --workflow-file $lmm_sos \\\n",
    "    --to-script $lmm_sbatch_regenie \\\n",
    "    --args \"$lmm_args\""
   ]
  },
  {
   "cell_type": "markdown",
   "id": "a9f685f6-c110-4806-9ebe-cad1e237bfaa",
   "metadata": {
    "kernel": "Bash"
   },
   "source": [
    "### 101321_f2247_hearing_difficulty"
   ]
  },
  {
   "cell_type": "code",
   "execution_count": 4,
   "id": "6ad38d47-003a-4722-beda-0d5cd258741d",
   "metadata": {
    "kernel": "Bash"
   },
   "outputs": [
    {
     "name": "stdout",
     "output_type": "stream",
     "text": [
      "INFO: Running \u001b[32mcsg\u001b[0m: Configuration for Columbia csg partition cluster\n",
      "INFO: \u001b[32mcsg\u001b[0m is \u001b[32mcompleted\u001b[0m.\n",
      "INFO: \u001b[32mcsg\u001b[0m output:   \u001b[32m/home/dmc2245/UKBiobank/results/REGENIE_results/results_burden_exome/101321_f2247_hearing_difficulty/f2247_Hearing_difficulty_200k_exomes-regenie-burden_2021-11-05.sbatch\u001b[0m\n",
      "INFO: Workflow csg (ID=w2f4723017cfb785a) is executed successfully with 1 completed step.\n",
      "\n"
     ]
    }
   ],
   "source": [
    "lmm_dir_regenie=~/UKBiobank/results/REGENIE_results/results_burden_exome/101321_f2247_hearing_difficulty\n",
    "lmm_sbatch_regenie=~/UKBiobank/results/REGENIE_results/results_burden_exome/101321_f2247_hearing_difficulty/f2247_Hearing_difficulty_200k_exomes-regenie-burden_$(date +\"%Y-%m-%d\").sbatch\n",
    "phenoFile=~/UKBiobank/phenotype_files/hearing_impairment/090321_UKBB_Hearing_difficulty_f2247_expandedwhite_45502cases_96601ctrl_PC1_2.tsv\n",
    "covarFile=~/UKBiobank/phenotype_files/hearing_impairment/090321_UKBB_Hearing_difficulty_f2247_expandedwhite_45502cases_96601ctrl_PC1_2.tsv\n",
    "phenoCol=f2247\n",
    "covarCol=sex\n",
    "qCovarCol='age PC1 PC2'\n",
    "genoFile=`echo ~/UKBiobank/data/exome_files/project_VCF/072721_run/plink/ukb23156_c{1..22}.merged.filtered.bed`\n",
    "bfile=~/UKBiobank/genotype_files_processed/090221_sample_variant_qc_final_callrate90/cache/UKB_genotypedatadownloaded083019.090221_sample_variant_qc_final_callrate90.filtered.extracted.bed\n",
    "anno_file=~/UKBiobank/results/REGENIE_results/results_burden_exome/102121_burden_files/ukb23155_chr1_chr22_091321.hg38.hg38_multianno.renamedcols.csv.anno_file\n",
    "set_list=~/UKBiobank/results/REGENIE_results/results_burden_exome/102121_burden_files/ukb23155_chr1_chr22_091321.hg38.hg38_multianno.renamedcols.csv.set_list_file\n",
    "mask_file=~/UKBiobank/results/REGENIE_results/results_burden_exome/102121_burden_files/ukb23155_chr1_chr22_101321.hg38.hg38_multianno.renamedcols.mask_file\n",
    "aaf_file=~/UKBiobank/results/REGENIE_results/results_burden_exome/102121_burden_files/ukb23155_chr1_chr22_091321.hg38.hg38_multianno.renamedcols.csv.aff_file\n",
    "build_mask=max\n",
    "aaf_bins='0.005 0.01'\n",
    "tpl_file=~/project/bioworkflows/admin/csg.yml\n",
    "lmm_sos=~/project/bioworkflows/GWAS/LMM.ipynb\n",
    "container_marp=~/containers/marp.sif\n",
    "container_lmm=~/containers/lmm.sif \n",
    "lmm_job_size=1\n",
    "ylim=0\n",
    "reverse_log_p=True\n",
    "numThreads=20\n",
    "formatFile_regenie=~/project/UKBB_GWAS_dev/data/regenie_template.yml\n",
    "bsize=1000\n",
    "trait=bt\n",
    "minMAC=1\n",
    "snpannofile=~/UKBiobank/results/ukb23155_200Kexomes_annovar/2021_10_12_hg38_exome/ukb23155_chr1_chr22_091321.hg38.hg38_multianno.csv\n",
    "\n",
    "lmm_args=\"\"\"regenie_burden\n",
    "    --cwd $lmm_dir_regenie \n",
    "    --bfile $bfile \n",
    "    --genoFile $genoFile\n",
    "    --phenoFile $phenoFile \n",
    "    --formatFile $formatFile_regenie \n",
    "    --phenoCol $phenoCol\n",
    "    --covarCol $covarCol  \n",
    "    --qCovarCol $qCovarCol\n",
    "    --bsize $bsize\n",
    "    --trait $trait\n",
    "    --anno_file $anno_file\n",
    "    --set_list $set_list\n",
    "    --mask_file $mask_file\n",
    "    --aaf_file $aaf_file\n",
    "    --aaf_bins $aaf_bins\n",
    "    --build_mask $build_mask\n",
    "    --job_size $lmm_job_size\n",
    "    --ylim $ylim\n",
    "    --reverse_log_p $reverse_log_p\n",
    "    --numThreads $numThreads\n",
    "    --minMAC $minMAC\n",
    "    --snpannofile $snpannofile\n",
    "    --container_lmm $container_lmm\n",
    "    --container_marp $container_marp\n",
    "\"\"\"\n",
    "\n",
    "sos run ~/project/UKBB_GWAS_dev/admin/Get_Job_Script.ipynb csg \\\n",
    "    --template-file $tpl_file \\\n",
    "    --workflow-file $lmm_sos \\\n",
    "    --to-script $lmm_sbatch_regenie \\\n",
    "    --args \"$lmm_args\""
   ]
  },
  {
   "cell_type": "markdown",
   "id": "dbba7f21-ffca-4faa-9082-d0684d4382c8",
   "metadata": {
    "kernel": "Bash"
   },
   "source": [
    "### 101321_f2257_hearing_noise"
   ]
  },
  {
   "cell_type": "code",
   "execution_count": 5,
   "id": "847a5c4f-b6ae-4b69-969c-1dbdd98a4045",
   "metadata": {
    "kernel": "Bash"
   },
   "outputs": [
    {
     "name": "stdout",
     "output_type": "stream",
     "text": [
      "INFO: Running \u001b[32mcsg\u001b[0m: Configuration for Columbia csg partition cluster\n",
      "INFO: \u001b[32mcsg\u001b[0m is \u001b[32mcompleted\u001b[0m.\n",
      "INFO: \u001b[32mcsg\u001b[0m output:   \u001b[32m/home/dmc2245/UKBiobank/results/REGENIE_results/results_burden_exome/101321_f2257_hearing_noise/f2257_hearing_noise_200k_exomes-regenie-burden_2021-11-05.sbatch\u001b[0m\n",
      "INFO: Workflow csg (ID=wbb95dcedc62a5741) is executed successfully with 1 completed step.\n",
      "\n"
     ]
    }
   ],
   "source": [
    "lmm_dir_regenie=~/UKBiobank/results/REGENIE_results/results_burden_exome/101321_f2257_hearing_noise\n",
    "lmm_sbatch_regenie=~/UKBiobank/results/REGENIE_results/results_burden_exome/101321_f2257_hearing_noise/f2257_hearing_noise_200k_exomes-regenie-burden_$(date +\"%Y-%m-%d\").sbatch\n",
    "phenoFile=~/UKBiobank/phenotype_files/hearing_impairment/090321_UKBB_Hearing_noise_f2257_expandedwhite_65660cases_96601ctrl_PC1_2.tsv\n",
    "covarFile=~/UKBiobank/phenotype_files/hearing_impairment/090321_UKBB_Hearing_noise_f2257_expandedwhite_65660cases_96601ctrl_PC1_2.tsv\n",
    "phenoCol=f2257\n",
    "covarCol=sex\n",
    "qCovarCol='age PC1 PC2'\n",
    "genoFile=`echo ~/UKBiobank/data/exome_files/project_VCF/072721_run/plink/ukb23156_c{1..22}.merged.filtered.bed`\n",
    "bfile=~/UKBiobank/genotype_files_processed/090221_sample_variant_qc_final_callrate90/cache/UKB_genotypedatadownloaded083019.090221_sample_variant_qc_final_callrate90.filtered.extracted.bed\n",
    "anno_file=~/UKBiobank/results/REGENIE_results/results_burden_exome/102121_burden_files/ukb23155_chr1_chr22_091321.hg38.hg38_multianno.renamedcols.csv.anno_file\n",
    "set_list=~/UKBiobank/results/REGENIE_results/results_burden_exome/102121_burden_files/ukb23155_chr1_chr22_091321.hg38.hg38_multianno.renamedcols.csv.set_list_file\n",
    "mask_file=~/UKBiobank/results/REGENIE_results/results_burden_exome/102121_burden_files/ukb23155_chr1_chr22_101321.hg38.hg38_multianno.renamedcols.mask_file\n",
    "aaf_file=~/UKBiobank/results/REGENIE_results/results_burden_exome/102121_burden_files/ukb23155_chr1_chr22_091321.hg38.hg38_multianno.renamedcols.csv.aff_file\n",
    "build_mask=max\n",
    "aaf_bins='0.005 0.01'\n",
    "tpl_file=~/project/bioworkflows/admin/csg.yml\n",
    "lmm_sos=~/project/bioworkflows/GWAS/LMM.ipynb\n",
    "container_marp=~/containers/marp.sif\n",
    "container_lmm=~/containers/lmm.sif \n",
    "lmm_job_size=1\n",
    "ylim=0\n",
    "reverse_log_p=True\n",
    "numThreads=20\n",
    "formatFile_regenie=~/project/UKBB_GWAS_dev/data/regenie_template.yml\n",
    "bsize=1000\n",
    "trait=bt\n",
    "minMAC=1\n",
    "snpannofile=~/UKBiobank/results/ukb23155_200Kexomes_annovar/2021_10_12_hg38_exome/ukb23155_chr1_chr22_091321.hg38.hg38_multianno.csv\n",
    "\n",
    "lmm_args=\"\"\"regenie_burden\n",
    "    --cwd $lmm_dir_regenie \n",
    "    --bfile $bfile \n",
    "    --genoFile $genoFile\n",
    "    --phenoFile $phenoFile \n",
    "    --formatFile $formatFile_regenie \n",
    "    --phenoCol $phenoCol\n",
    "    --covarCol $covarCol  \n",
    "    --qCovarCol $qCovarCol\n",
    "    --bsize $bsize\n",
    "    --trait $trait\n",
    "    --anno_file $anno_file\n",
    "    --set_list $set_list\n",
    "    --mask_file $mask_file\n",
    "    --aaf_file $aaf_file\n",
    "    --aaf_bins $aaf_bins\n",
    "    --build_mask $build_mask\n",
    "    --job_size $lmm_job_size\n",
    "    --ylim $ylim\n",
    "    --reverse_log_p $reverse_log_p\n",
    "    --numThreads $numThreads\n",
    "    --minMAC $minMAC\n",
    "    --snpannofile $snpannofile\n",
    "    --container_lmm $container_lmm\n",
    "    --container_marp $container_marp\n",
    "\"\"\"\n",
    "\n",
    "sos run ~/project/UKBB_GWAS_dev/admin/Get_Job_Script.ipynb csg \\\n",
    "    --template-file $tpl_file \\\n",
    "    --workflow-file $lmm_sos \\\n",
    "    --to-script $lmm_sbatch_regenie \\\n",
    "    --args \"$lmm_args\""
   ]
  },
  {
   "cell_type": "markdown",
   "id": "6fef3e1b-e656-4019-bb7e-f54317d04cf3",
   "metadata": {
    "kernel": "Bash"
   },
   "source": [
    "### 101321_combined_burden"
   ]
  },
  {
   "cell_type": "code",
   "execution_count": 6,
   "id": "3c544fc8-7289-461f-92b5-207f89fa479e",
   "metadata": {
    "kernel": "Bash"
   },
   "outputs": [
    {
     "name": "stdout",
     "output_type": "stream",
     "text": [
      "INFO: Running \u001b[32mcsg\u001b[0m: Configuration for Columbia csg partition cluster\n",
      "INFO: \u001b[32mcsg\u001b[0m is \u001b[32mcompleted\u001b[0m.\n",
      "INFO: \u001b[32mcsg\u001b[0m output:   \u001b[32m/home/dmc2245/UKBiobank/results/REGENIE_results/results_burden_exome/101321_Combined_f2247_f2257/Combined_f2247_f2257_200K_exomes-regenie-burden_2021-11-05.sbatch\u001b[0m\n",
      "INFO: Workflow csg (ID=w5e22927012c61d26) is executed successfully with 1 completed step.\n",
      "\n"
     ]
    }
   ],
   "source": [
    "lmm_dir_regenie=~/UKBiobank/results/REGENIE_results/results_burden_exome/101321_Combined_f2247_f2257\n",
    "lmm_sbatch_regenie=~/UKBiobank/results/REGENIE_results/results_burden_exome/101321_Combined_f2247_f2257/Combined_f2247_f2257_200K_exomes-regenie-burden_$(date +\"%Y-%m-%d\").sbatch\n",
    "phenoFile=~/UKBiobank/phenotype_files/hearing_impairment/090321_UKBB_Combined_f2247_f2257_expandedwhite_38410cases_96601ctrl_PC1_2.tsv\n",
    "covarFile=~/UKBiobank/phenotype_files/hearing_impairment/090321_UKBB_Combined_f2247_f2257_expandedwhite_38410cases_96601ctrl_PC1_2.tsv\n",
    "phenoCol=f2247_f2257\n",
    "covarCol=sex\n",
    "qCovarCol='age PC1 PC2'\n",
    "genoFile=`echo ~/UKBiobank/data/exome_files/project_VCF/072721_run/plink/ukb23156_c{1..22}.merged.filtered.bed`\n",
    "bfile=~/UKBiobank/genotype_files_processed/090221_sample_variant_qc_final_callrate90/cache/UKB_genotypedatadownloaded083019.090221_sample_variant_qc_final_callrate90.filtered.extracted.bed\n",
    "anno_file=~/UKBiobank/results/REGENIE_results/results_burden_exome/102121_burden_files/ukb23155_chr1_chr22_091321.hg38.hg38_multianno.renamedcols.csv.anno_file\n",
    "set_list=~/UKBiobank/results/REGENIE_results/results_burden_exome/102121_burden_files/ukb23155_chr1_chr22_091321.hg38.hg38_multianno.renamedcols.csv.set_list_file\n",
    "mask_file=~/UKBiobank/results/REGENIE_results/results_burden_exome/102121_burden_files/ukb23155_chr1_chr22_101321.hg38.hg38_multianno.renamedcols.mask_file\n",
    "aaf_file=~/UKBiobank/results/REGENIE_results/results_burden_exome/102121_burden_files/ukb23155_chr1_chr22_091321.hg38.hg38_multianno.renamedcols.csv.aff_file\n",
    "build_mask=max\n",
    "aaf_bins='0.005 0.01'\n",
    "tpl_file=~/project/bioworkflows/admin/csg.yml\n",
    "lmm_sos=~/project/bioworkflows/GWAS/LMM.ipynb\n",
    "container_marp=~/containers/marp.sif\n",
    "container_lmm=~/containers/lmm.sif \n",
    "lmm_job_size=1\n",
    "ylim=0\n",
    "reverse_log_p=True\n",
    "numThreads=20\n",
    "formatFile_regenie=~/project/UKBB_GWAS_dev/data/regenie_template.yml\n",
    "bsize=1000\n",
    "trait=bt\n",
    "minMAC=1\n",
    "snpannofile=~/UKBiobank/results/ukb23155_200Kexomes_annovar/2021_10_12_hg38_exome/ukb23155_chr1_chr22_091321.hg38.hg38_multianno.csv\n",
    "\n",
    "lmm_args=\"\"\"regenie_burden\n",
    "    --cwd $lmm_dir_regenie \n",
    "    --bfile $bfile \n",
    "    --genoFile $genoFile\n",
    "    --phenoFile $phenoFile \n",
    "    --formatFile $formatFile_regenie \n",
    "    --phenoCol $phenoCol\n",
    "    --covarCol $covarCol  \n",
    "    --qCovarCol $qCovarCol\n",
    "    --bsize $bsize\n",
    "    --trait $trait\n",
    "    --anno_file $anno_file\n",
    "    --set_list $set_list\n",
    "    --mask_file $mask_file\n",
    "    --aaf_file $aaf_file\n",
    "    --aaf_bins $aaf_bins\n",
    "    --build_mask $build_mask\n",
    "    --job_size $lmm_job_size\n",
    "    --ylim $ylim\n",
    "    --reverse_log_p $reverse_log_p\n",
    "    --numThreads $numThreads\n",
    "    --minMAC $minMAC\n",
    "    --snpannofile $snpannofile\n",
    "    --container_lmm $container_lmm\n",
    "    --container_marp $container_marp\n",
    "\"\"\"\n",
    "\n",
    "sos run ~/project/UKBB_GWAS_dev/admin/Get_Job_Script.ipynb csg \\\n",
    "    --template-file $tpl_file \\\n",
    "    --workflow-file $lmm_sos \\\n",
    "    --to-script $lmm_sbatch_regenie \\\n",
    "    --args \"$lmm_args\""
   ]
  },
  {
   "cell_type": "markdown",
   "id": "036fa891-d85e-434f-9458-e1a92eb7ae92",
   "metadata": {
    "kernel": "Bash"
   },
   "source": [
    "## Regenie burden with 150K exomes"
   ]
  },
  {
   "cell_type": "markdown",
   "id": "7af31739-0b7f-4da9-a631-fb07a481d110",
   "metadata": {
    "kernel": "Bash"
   },
   "source": [
    "### 120621_f3393_hearing_aid"
   ]
  },
  {
   "cell_type": "code",
   "execution_count": 2,
   "id": "687d4014-62c6-4118-b507-f6a475a2acfb",
   "metadata": {
    "kernel": "Bash"
   },
   "outputs": [
    {
     "name": "stdout",
     "output_type": "stream",
     "text": [
      "INFO: Running \u001b[32mcsg\u001b[0m: Configuration for Columbia csg partition cluster\n",
      "INFO: \u001b[32mcsg\u001b[0m is \u001b[32mcompleted\u001b[0m.\n",
      "INFO: \u001b[32mcsg\u001b[0m output:   \u001b[32m/home/dmc2245/UKBiobank/results/REGENIE_results/results_burden_exome/150k/091321_f3393_hearing_aid/f3393_hearing_aid_150k_exomes-regenie-burden_2021-12-06.sbatch\u001b[0m\n",
      "INFO: Workflow csg (ID=w450138e74160bfbb) is executed successfully with 1 completed step.\n",
      "\n"
     ]
    }
   ],
   "source": [
    "lmm_dir_regenie=~/UKBiobank/results/REGENIE_results/results_burden_exome/150k/091321_f3393_hearing_aid\n",
    "lmm_sbatch_regenie=~/UKBiobank/results/REGENIE_results/results_burden_exome/150k/091321_f3393_hearing_aid/f3393_hearing_aid_150k_exomes-regenie-burden_$(date +\"%Y-%m-%d\").sbatch\n",
    "phenoFile=~/UKBiobank/phenotype_files/hearing_impairment/090321_UKBB_Hearing_aid_f3393_expandedwhite_78848ind_150K.tsv\n",
    "covarFile=~/UKBiobank/phenotype_files/hearing_impairment/090321_UKBB_Hearing_aid_f3393_expandedwhite_78848ind_150K.tsv\n",
    "phenoCol=f3393\n",
    "covarCol=sex\n",
    "qCovarCol='age PC1 PC2'\n",
    "genoFile=`echo ~/UKBiobank/data/exome_files/project_VCF/072721_run/plink/ukb23156_c{1..22}.merged.filtered.bed`\n",
    "bfile=~/UKBiobank/genotype_files_processed/090221_sample_variant_qc_final_callrate90/cache/UKB_genotypedatadownloaded083019.090221_sample_variant_qc_final_callrate90.filtered.extracted.bed\n",
    "anno_file=~/UKBiobank/results/REGENIE_results/results_burden_exome/102121_burden_files/ukb23155_chr1_chr22_091321.hg38.hg38_multianno.renamedcols.csv.anno_file\n",
    "set_list=~/UKBiobank/results/REGENIE_results/results_burden_exome/102121_burden_files/ukb23155_chr1_chr22_091321.hg38.hg38_multianno.renamedcols.csv.set_list_file\n",
    "mask_file=~/UKBiobank/results/REGENIE_results/results_burden_exome/102121_burden_files/ukb23155_chr1_chr22_101321.hg38.hg38_multianno.renamedcols.mask_file\n",
    "aaf_file=~/UKBiobank/results/REGENIE_results/results_burden_exome/102121_burden_files/ukb23155_chr1_chr22_091321.hg38.hg38_multianno.renamedcols.csv.aff_file\n",
    "build_mask=max\n",
    "aaf_bins='0.005 0.01'\n",
    "tpl_file=~/project/bioworkflows/admin/csg.yml\n",
    "lmm_sos=~/project/bioworkflows/GWAS/LMM.ipynb\n",
    "container_marp=~/containers/marp.sif\n",
    "container_lmm=~/containers/lmm.sif  \n",
    "lmm_job_size=1\n",
    "ylim=20\n",
    "reverse_log_p=True\n",
    "numThreads=20\n",
    "formatFile_regenie=~/project/UKBB_GWAS_dev/data/regenie_template.yml\n",
    "bsize=1000\n",
    "trait=bt\n",
    "minMAC=1\n",
    "snpannofile=~/UKBiobank/results/ukb23155_200Kexomes_annovar/2021_10_12_hg38_exome/ukb23155_chr1_chr22_091321.hg38.hg38_multianno.csv\n",
    "\n",
    "lmm_args=\"\"\"regenie_burden\n",
    "    --cwd $lmm_dir_regenie \n",
    "    --bfile $bfile \n",
    "    --genoFile $genoFile\n",
    "    --phenoFile $phenoFile \n",
    "    --formatFile $formatFile_regenie \n",
    "    --phenoCol $phenoCol\n",
    "    --covarCol $covarCol  \n",
    "    --qCovarCol $qCovarCol\n",
    "    --bsize $bsize\n",
    "    --trait $trait\n",
    "    --anno_file $anno_file\n",
    "    --set_list $set_list\n",
    "    --mask_file $mask_file\n",
    "    --aaf_file $aaf_file\n",
    "    --aaf_bins $aaf_bins\n",
    "    --build_mask $build_mask\n",
    "    --job_size $lmm_job_size\n",
    "    --ylim $ylim\n",
    "    --reverse_log_p $reverse_log_p\n",
    "    --numThreads $numThreads\n",
    "    --minMAC $minMAC\n",
    "    --snpannofile $snpannofile\n",
    "    --container_lmm $container_lmm\n",
    "    --container_marp $container_marp\n",
    "\"\"\"\n",
    "\n",
    "sos run ~/project/UKBB_GWAS_dev/admin/Get_Job_Script.ipynb csg \\\n",
    "    --template-file $tpl_file \\\n",
    "    --workflow-file $lmm_sos \\\n",
    "    --to-script $lmm_sbatch_regenie \\\n",
    "    --args \"$lmm_args\""
   ]
  },
  {
   "cell_type": "markdown",
   "id": "6a006176-762d-4787-bc77-341eedd8a8a3",
   "metadata": {
    "kernel": "Bash"
   },
   "source": [
    "### 120621_f2247_hearing_difficulty"
   ]
  },
  {
   "cell_type": "code",
   "execution_count": 3,
   "id": "f767be8f-7bdc-46d5-828a-c33df21f1340",
   "metadata": {
    "kernel": "Bash"
   },
   "outputs": [
    {
     "name": "stdout",
     "output_type": "stream",
     "text": [
      "INFO: Running \u001b[32mcsg\u001b[0m: Configuration for Columbia csg partition cluster\n",
      "INFO: \u001b[32mcsg\u001b[0m is \u001b[32mcompleted\u001b[0m.\n",
      "INFO: \u001b[32mcsg\u001b[0m output:   \u001b[32m/home/dmc2245/UKBiobank/results/REGENIE_results/results_burden_exome/150k/090321_f2247_hearing_difficulty/f2247_hearing_difficulty_150k_exomes-regenie-burden_2021-12-06.sbatch\u001b[0m\n",
      "INFO: Workflow csg (ID=w7103c703d25d5a04) is executed successfully with 1 completed step.\n",
      "\n"
     ]
    }
   ],
   "source": [
    "lmm_dir_regenie=/mnt/mfs/statgen/UKBiobank/results/REGENIE_results/results_burden_exome/150k/090321_f2247_hearing_difficulty\n",
    "lmm_sbatch_regenie=/mnt/mfs/statgen/UKBiobank/results/REGENIE_results/results_burden_exome/150k/090321_f2247_hearing_difficulty/f2247_hearing_difficulty_150k_exomes-regenie-burden_$(date +\"%Y-%m-%d\").sbatch\n",
    "phenoFile=/mnt/mfs/statgen/UKBiobank/phenotype_files/hearing_impairment/090321_UKBB_Hearing_difficulty_f2247_expandedwhite_107507ind_150K.tsv\n",
    "covarFile=/mnt/mfs/statgen/UKBiobank/phenotype_files/hearing_impairment/090321_UKBB_Hearing_difficulty_f2247_expandedwhite_107507ind_150K.tsv\n",
    "phenoCol=f2247\n",
    "covarCol=sex\n",
    "qCovarCol='age PC1 PC2'\n",
    "genoFile=`echo ~/UKBiobank/data/exome_files/project_VCF/072721_run/plink/ukb23156_c{1..22}.merged.filtered.bed`\n",
    "bfile=/mnt/mfs/statgen/UKBiobank/genotype_files_processed/090221_sample_variant_qc_final_callrate90/cache/UKB_genotypedatadownloaded083019.090221_sample_variant_qc_final_callrate90.filtered.extracted.bed\n",
    "anno_file=/mnt/mfs/statgen/UKBiobank/results/REGENIE_results/results_burden_exome/102121_burden_files/ukb23155_chr1_chr22_091321.hg38.hg38_multianno.renamedcols.csv.anno_file\n",
    "set_list=/mnt/mfs/statgen/UKBiobank/results/REGENIE_results/results_burden_exome/102121_burden_files/ukb23155_chr1_chr22_091321.hg38.hg38_multianno.renamedcols.csv.set_list_file\n",
    "mask_file=/mnt/mfs/statgen/UKBiobank/results/REGENIE_results/results_burden_exome/102121_burden_files/ukb23155_chr1_chr22_101321.hg38.hg38_multianno.renamedcols.mask_file\n",
    "aaf_file=/mnt/mfs/statgen/UKBiobank/results/REGENIE_results/results_burden_exome/102121_burden_files/ukb23155_chr1_chr22_091321.hg38.hg38_multianno.renamedcols.csv.aff_file\n",
    "build_mask=max\n",
    "aaf_bins='0.005 0.01'\n",
    "tpl_file=~/project/bioworkflows/admin/csg.yml\n",
    "lmm_sos=~/project/bioworkflows/GWAS/LMM.ipynb\n",
    "container_marp=~/containers/marp.sif\n",
    "container_lmm=~/containers/lmm.sif\n",
    "lmm_job_size=1\n",
    "ylim=20\n",
    "reverse_log_p=True\n",
    "numThreads=20\n",
    "formatFile_regenie=~/project/UKBB_GWAS_dev/data/regenie_template.yml\n",
    "bsize=1000\n",
    "trait=bt\n",
    "minMAC=1\n",
    "snpannofile=/mnt/mfs/statgen/UKBiobank/results/ukb23155_200Kexomes_annovar/2021_10_12_hg38_exome/ukb23155_chr1_chr22_091321.hg38.hg38_multianno.csv\n",
    "\n",
    "lmm_args=\"\"\"regenie_burden\n",
    "    --cwd $lmm_dir_regenie \n",
    "    --bfile $bfile \n",
    "    --genoFile $genoFile\n",
    "    --phenoFile $phenoFile \n",
    "    --formatFile $formatFile_regenie \n",
    "    --phenoCol $phenoCol\n",
    "    --covarCol $covarCol  \n",
    "    --qCovarCol $qCovarCol\n",
    "    --bsize $bsize\n",
    "    --trait $trait\n",
    "    --anno_file $anno_file\n",
    "    --set_list $set_list\n",
    "    --mask_file $mask_file\n",
    "    --aaf_file $aaf_file\n",
    "    --aaf_bins $aaf_bins\n",
    "    --build_mask $build_mask\n",
    "    --job_size $lmm_job_size\n",
    "    --ylim $ylim\n",
    "    --reverse_log_p $reverse_log_p\n",
    "    --numThreads $numThreads\n",
    "    --minMAC $minMAC\n",
    "    --snpannofile $snpannofile\n",
    "    --container_lmm $container_lmm\n",
    "    --container_marp $container_marp\n",
    "\"\"\"\n",
    "\n",
    "sos run ~/project/UKBB_GWAS_dev/admin/Get_Job_Script.ipynb csg \\\n",
    "    --template-file $tpl_file \\\n",
    "    --workflow-file $lmm_sos \\\n",
    "    --to-script $lmm_sbatch_regenie \\\n",
    "    --args \"$lmm_args\""
   ]
  },
  {
   "cell_type": "markdown",
   "id": "061e4fcc-e558-4516-a735-f28695408b6f",
   "metadata": {
    "kernel": "Bash"
   },
   "source": [
    "### 120621_f2257_hearing_noise"
   ]
  },
  {
   "cell_type": "code",
   "execution_count": 5,
   "id": "2f999478-18c9-4d54-8264-e1be64c5a9bf",
   "metadata": {
    "kernel": "Bash"
   },
   "outputs": [
    {
     "name": "stdout",
     "output_type": "stream",
     "text": [
      "INFO: Running \u001b[32mcsg\u001b[0m: Configuration for Columbia csg partition cluster\n",
      "INFO: \u001b[32mcsg\u001b[0m is \u001b[32mcompleted\u001b[0m.\n",
      "INFO: \u001b[32mcsg\u001b[0m output:   \u001b[32m/mnt/mfs/statgen/UKBiobank/results/REGENIE_results/results_burden_exome/150k/090321_f2257_hearing_noise/f2257_hearing_noise_150k_exomes-regenie-burden_2021-12-06.sbatch\u001b[0m\n",
      "INFO: Workflow csg (ID=w93d54b67932d180a) is executed successfully with 1 completed step.\n",
      "\n"
     ]
    }
   ],
   "source": [
    "lmm_dir_regenie=/mnt/mfs/statgen/UKBiobank/results/REGENIE_results/results_burden_exome/150k/090321_f2257_hearing_noise\n",
    "lmm_sbatch_regenie=/mnt/mfs/statgen/UKBiobank/results/REGENIE_results/results_burden_exome/150k/090321_f2257_hearing_noise/f2257_hearing_noise_150k_exomes-regenie-burden_$(date +\"%Y-%m-%d\").sbatch\n",
    "phenoFile=/mnt/mfs/statgen/UKBiobank/phenotype_files/hearing_impairment/090321_UKBB_Hearing_noise_f2257_expandedwhite_123538ind_150K.tsv\n",
    "covarFile=/mnt/mfs/statgen/UKBiobank/phenotype_files/hearing_impairment/090321_UKBB_Hearing_noise_f2257_expandedwhite_123538ind_150K.tsv\n",
    "phenoCol=f2257\n",
    "covarCol=sex\n",
    "qCovarCol='age PC1 PC2'\n",
    "genoFile=`echo /mnt/mfs/statgen/UKBiobank/data/exome_files/project_VCF/072721_run/plink/ukb23156_c{1..22}.merged.filtered.bed`\n",
    "bfile=/mnt/mfs/statgen/UKBiobank/genotype_files_processed/090221_sample_variant_qc_final_callrate90/cache/UKB_genotypedatadownloaded083019.090221_sample_variant_qc_final_callrate90.filtered.extracted.bed\n",
    "anno_file=/mnt/mfs/statgen/UKBiobank/results/REGENIE_results/results_burden_exome/102121_burden_files/ukb23155_chr1_chr22_091321.hg38.hg38_multianno.renamedcols.csv.anno_file\n",
    "set_list=/mnt/mfs/statgen/UKBiobank/results/REGENIE_results/results_burden_exome/102121_burden_files/ukb23155_chr1_chr22_091321.hg38.hg38_multianno.renamedcols.csv.set_list_file\n",
    "mask_file=/mnt/mfs/statgen/UKBiobank/results/REGENIE_results/results_burden_exome/102121_burden_files/ukb23155_chr1_chr22_101321.hg38.hg38_multianno.renamedcols.mask_file\n",
    "aaf_file=/mnt/mfs/statgen/UKBiobank/results/REGENIE_results/results_burden_exome/102121_burden_files/ukb23155_chr1_chr22_091321.hg38.hg38_multianno.renamedcols.csv.aff_file\n",
    "build_mask=max\n",
    "aaf_bins='0.005 0.01'\n",
    "tpl_file=~/project/bioworkflows/admin/csg.yml\n",
    "lmm_sos=~/project/bioworkflows/GWAS/LMM.ipynb\n",
    "container_marp=~/containers/marp.sif\n",
    "container_lmm=~/containers/lmm.sif\n",
    "lmm_job_size=1\n",
    "ylim=20\n",
    "reverse_log_p=True\n",
    "numThreads=20\n",
    "formatFile_regenie=~/project/UKBB_GWAS_dev/data/regenie_template.yml\n",
    "bsize=1000\n",
    "trait=bt\n",
    "minMAC=1\n",
    "snpannofile=/mnt/mfs/statgen/UKBiobank/results/ukb23155_200Kexomes_annovar/2021_10_12_hg38_exome/ukb23155_chr1_chr22_091321.hg38.hg38_multianno.csv\n",
    "\n",
    "lmm_args=\"\"\"regenie_burden\n",
    "    --cwd $lmm_dir_regenie \n",
    "    --bfile $bfile \n",
    "    --genoFile $genoFile\n",
    "    --phenoFile $phenoFile \n",
    "    --formatFile $formatFile_regenie \n",
    "    --phenoCol $phenoCol\n",
    "    --covarCol $covarCol  \n",
    "    --qCovarCol $qCovarCol\n",
    "    --bsize $bsize\n",
    "    --trait $trait\n",
    "    --anno_file $anno_file\n",
    "    --set_list $set_list\n",
    "    --mask_file $mask_file\n",
    "    --aaf_file $aaf_file\n",
    "    --aaf_bins $aaf_bins\n",
    "    --build_mask $build_mask\n",
    "    --job_size $lmm_job_size\n",
    "    --ylim $ylim\n",
    "    --reverse_log_p $reverse_log_p\n",
    "    --numThreads $numThreads\n",
    "    --minMAC $minMAC\n",
    "    --snpannofile $snpannofile\n",
    "    --container_lmm $container_lmm\n",
    "    --container_marp $container_marp\n",
    "\"\"\"\n",
    "\n",
    "sos run ~/project/UKBB_GWAS_dev/admin/Get_Job_Script.ipynb csg \\\n",
    "    --template-file $tpl_file \\\n",
    "    --workflow-file $lmm_sos \\\n",
    "    --to-script $lmm_sbatch_regenie \\\n",
    "    --args \"$lmm_args\""
   ]
  },
  {
   "cell_type": "markdown",
   "id": "1b3dc1b4-e63e-465e-aa73-342e77a900b7",
   "metadata": {
    "kernel": "Bash"
   },
   "source": [
    "### 120621_combined"
   ]
  },
  {
   "cell_type": "code",
   "execution_count": 6,
   "id": "25cfb702-8e30-4965-a86a-68329d77f5a4",
   "metadata": {
    "kernel": "Bash"
   },
   "outputs": [
    {
     "name": "stdout",
     "output_type": "stream",
     "text": [
      "INFO: Running \u001b[32mcsg\u001b[0m: Configuration for Columbia csg partition cluster\n",
      "INFO: \u001b[32mcsg\u001b[0m is \u001b[32mcompleted\u001b[0m.\n",
      "INFO: \u001b[32mcsg\u001b[0m output:   \u001b[32m/mnt/mfs/statgen/UKBiobank/results/REGENIE_results/results_burden_exome/150k/090321_Combined_f2247_f2257/Combined_f2247_f2257_150k_exomes-regenie-burden_2021-12-06.sbatch\u001b[0m\n",
      "INFO: Workflow csg (ID=wc689c4864f6e9424) is executed successfully with 1 completed step.\n",
      "\n"
     ]
    }
   ],
   "source": [
    "lmm_dir_regenie=/mnt/mfs/statgen/UKBiobank/results/REGENIE_results/results_burden_exome/150k/090321_Combined_f2247_f2257\n",
    "lmm_sbatch_regenie=/mnt/mfs/statgen/UKBiobank/results/REGENIE_results/results_burden_exome/150k/090321_Combined_f2247_f2257/Combined_f2247_f2257_150k_exomes-regenie-burden_$(date +\"%Y-%m-%d\").sbatch\n",
    "phenoFile=/mnt/mfs/statgen/UKBiobank/phenotype_files/hearing_impairment/090321_UKBB_Combined_f2247_f2257_expandedwhite_102133ind_150K.tsv\n",
    "covarFile=/mnt/mfs/statgen/UKBiobank/phenotype_files/hearing_impairment/090321_UKBB_Combined_f2247_f2257_expandedwhite_102133ind_150K.tsv\n",
    "phenoCol=f2247_f2257\n",
    "covarCol=sex\n",
    "qCovarCol='age PC1 PC2'\n",
    "genoFile=`echo /mnt/mfs/statgen/UKBiobank/data/exome_files/project_VCF/072721_run/plink/ukb23156_c{1..22}.merged.filtered.bed`\n",
    "bfile=/mnt/mfs/statgen/UKBiobank/genotype_files_processed/090221_sample_variant_qc_final_callrate90/cache/UKB_genotypedatadownloaded083019.090221_sample_variant_qc_final_callrate90.filtered.extracted.bed\n",
    "anno_file=/mnt/mfs/statgen/UKBiobank/results/REGENIE_results/results_burden_exome/102121_burden_files/ukb23155_chr1_chr22_091321.hg38.hg38_multianno.renamedcols.csv.anno_file\n",
    "set_list=/mnt/mfs/statgen/UKBiobank/results/REGENIE_results/results_burden_exome/102121_burden_files/ukb23155_chr1_chr22_091321.hg38.hg38_multianno.renamedcols.csv.set_list_file\n",
    "mask_file=/mnt/mfs/statgen/UKBiobank/results/REGENIE_results/results_burden_exome/102121_burden_files/ukb23155_chr1_chr22_101321.hg38.hg38_multianno.renamedcols.mask_file\n",
    "aaf_file=/mnt/mfs/statgen/UKBiobank/results/REGENIE_results/results_burden_exome/102121_burden_files/ukb23155_chr1_chr22_091321.hg38.hg38_multianno.renamedcols.csv.aff_file\n",
    "build_mask=max\n",
    "aaf_bins='0.005 0.01'\n",
    "tpl_file=~/project/bioworkflows/admin/csg.yml\n",
    "lmm_sos=~/project/bioworkflows/GWAS/LMM.ipynb\n",
    "container_marp=~/containers/marp.sif\n",
    "container_lmm=~/containers/lmm.sif\n",
    "lmm_job_size=1\n",
    "ylim=20\n",
    "reverse_log_p=True\n",
    "numThreads=20\n",
    "formatFile_regenie=~/project/UKBB_GWAS_dev/data/regenie_template.yml\n",
    "bsize=1000\n",
    "trait=bt\n",
    "minMAC=1\n",
    "snpannofile=/mnt/mfs/statgen/UKBiobank/results/ukb23155_200Kexomes_annovar/2021_10_12_hg38_exome/ukb23155_chr1_chr22_091321.hg38.hg38_multianno.csv\n",
    "\n",
    "lmm_args=\"\"\"regenie_burden\n",
    "    --cwd $lmm_dir_regenie \n",
    "    --bfile $bfile \n",
    "    --genoFile $genoFile\n",
    "    --phenoFile $phenoFile \n",
    "    --formatFile $formatFile_regenie \n",
    "    --phenoCol $phenoCol\n",
    "    --covarCol $covarCol  \n",
    "    --qCovarCol $qCovarCol\n",
    "    --bsize $bsize\n",
    "    --trait $trait\n",
    "    --anno_file $anno_file\n",
    "    --set_list $set_list\n",
    "    --mask_file $mask_file\n",
    "    --aaf_file $aaf_file\n",
    "    --aaf_bins $aaf_bins\n",
    "    --build_mask $build_mask\n",
    "    --job_size $lmm_job_size\n",
    "    --ylim $ylim\n",
    "    --reverse_log_p $reverse_log_p\n",
    "    --numThreads $numThreads\n",
    "    --minMAC $minMAC\n",
    "    --snpannofile $snpannofile\n",
    "    --container_lmm $container_lmm\n",
    "    --container_marp $container_marp\n",
    "\"\"\"\n",
    "\n",
    "sos run ~/project/UKBB_GWAS_dev/admin/Get_Job_Script.ipynb csg \\\n",
    "    --template-file $tpl_file \\\n",
    "    --workflow-file $lmm_sos \\\n",
    "    --to-script $lmm_sbatch_regenie \\\n",
    "    --args \"$lmm_args\""
   ]
  },
  {
   "cell_type": "markdown",
   "id": "bb6b62a6-d0a2-4ce1-b757-0e4afd58a4a9",
   "metadata": {
    "kernel": "Bash"
   },
   "source": [
    "## Regenie burden with 50K exomes"
   ]
  },
  {
   "cell_type": "markdown",
   "id": "98c2d5f1-778f-4108-bb23-d22cd96802b7",
   "metadata": {
    "kernel": "Bash"
   },
   "source": [
    "### 120621_f3393_hearing_aid"
   ]
  },
  {
   "cell_type": "code",
   "execution_count": 8,
   "id": "c51433b2-c138-4eca-844f-44456cf013c3",
   "metadata": {
    "kernel": "Bash"
   },
   "outputs": [
    {
     "name": "stdout",
     "output_type": "stream",
     "text": [
      "INFO: Running \u001b[32mcsg\u001b[0m: Configuration for Columbia csg partition cluster\n",
      "INFO: \u001b[32mcsg\u001b[0m is \u001b[32mcompleted\u001b[0m.\n",
      "INFO: \u001b[32mcsg\u001b[0m output:   \u001b[32m/mnt/mfs/statgen/UKBiobank/results/REGENIE_results/results_burden_exome/50k/091321_f3393_hearing_aid/f3393_hearing_aid_50k_exomes-regenie-burden_2021-12-06.sbatch\u001b[0m\n",
      "INFO: Workflow csg (ID=w910860fed8cf33f7) is executed successfully with 1 completed step.\n",
      "\n"
     ]
    }
   ],
   "source": [
    "lmm_dir_regenie=/mnt/mfs/statgen/UKBiobank/results/REGENIE_results/results_burden_exome/50k/091321_f3393_hearing_aid\n",
    "lmm_sbatch_regenie=/mnt/mfs/statgen/UKBiobank/results/REGENIE_results/results_burden_exome/50k/091321_f3393_hearing_aid/f3393_hearing_aid_50k_exomes-regenie-burden_$(date +\"%Y-%m-%d\").sbatch\n",
    "phenoFile=/mnt/mfs/statgen/UKBiobank/phenotype_files/hearing_impairment/090321_UKBB_Hearing_aid_f3393_expandedwhite_24189ind_50K.tsv\n",
    "covarFile=/mnt/mfs/statgen/UKBiobank/phenotype_files/hearing_impairment/090321_UKBB_Hearing_aid_f3393_expandedwhite_24189ind_50K.tsv\n",
    "phenoCol=f3393\n",
    "covarCol=sex\n",
    "qCovarCol='age PC1 PC2'\n",
    "genoFile=`echo /mnt/mfs/statgen/UKBiobank/data/exome_files/project_VCF/072721_run/plink/ukb23156_c{1..22}.merged.filtered.bed`\n",
    "bfile=/mnt/mfs/statgen/UKBiobank/genotype_files_processed/090221_sample_variant_qc_final_callrate90/cache/UKB_genotypedatadownloaded083019.090221_sample_variant_qc_final_callrate90.filtered.extracted.bed\n",
    "anno_file=/mnt/mfs/statgen/UKBiobank/results/REGENIE_results/results_burden_exome/102121_burden_files/ukb23155_chr1_chr22_091321.hg38.hg38_multianno.renamedcols.csv.anno_file\n",
    "set_list=/mnt/mfs/statgen/UKBiobank/results/REGENIE_results/results_burden_exome/102121_burden_files/ukb23155_chr1_chr22_091321.hg38.hg38_multianno.renamedcols.csv.set_list_file\n",
    "mask_file=/mnt/mfs/statgen/UKBiobank/results/REGENIE_results/results_burden_exome/102121_burden_files/ukb23155_chr1_chr22_101321.hg38.hg38_multianno.renamedcols.mask_file\n",
    "aaf_file=/mnt/mfs/statgen/UKBiobank/results/REGENIE_results/results_burden_exome/102121_burden_files/ukb23155_chr1_chr22_091321.hg38.hg38_multianno.renamedcols.csv.aff_file\n",
    "build_mask=max\n",
    "aaf_bins='0.005 0.01'\n",
    "tpl_file=~/project/bioworkflows/admin/csg.yml\n",
    "lmm_sos=~/project/bioworkflows/GWAS/LMM.ipynb\n",
    "container_marp=~/containers/marp.sif\n",
    "container_lmm=~/containers/lmm.sif\n",
    "lmm_job_size=1\n",
    "ylim=10\n",
    "reverse_log_p=True\n",
    "numThreads=20\n",
    "formatFile_regenie=~/project/UKBB_GWAS_dev/data/regenie_template.yml\n",
    "bsize=1000\n",
    "trait=bt\n",
    "minMAC=1\n",
    "snpannofile=/mnt/mfs/statgen/UKBiobank/results/ukb23155_200Kexomes_annovar/2021_10_12_hg38_exome/ukb23155_chr1_chr22_091321.hg38.hg38_multianno.csv\n",
    "\n",
    "lmm_args=\"\"\"regenie_burden\n",
    "    --cwd $lmm_dir_regenie \n",
    "    --bfile $bfile \n",
    "    --genoFile $genoFile\n",
    "    --phenoFile $phenoFile \n",
    "    --formatFile $formatFile_regenie \n",
    "    --phenoCol $phenoCol\n",
    "    --covarCol $covarCol  \n",
    "    --qCovarCol $qCovarCol\n",
    "    --bsize $bsize\n",
    "    --trait $trait\n",
    "    --anno_file $anno_file\n",
    "    --set_list $set_list\n",
    "    --mask_file $mask_file\n",
    "    --aaf_file $aaf_file\n",
    "    --aaf_bins $aaf_bins\n",
    "    --build_mask $build_mask\n",
    "    --job_size $lmm_job_size\n",
    "    --ylim $ylim\n",
    "    --reverse_log_p $reverse_log_p\n",
    "    --numThreads $numThreads\n",
    "    --minMAC $minMAC\n",
    "    --snpannofile $snpannofile\n",
    "    --container_lmm $container_lmm\n",
    "    --container_marp $container_marp\n",
    "\"\"\"\n",
    "\n",
    "sos run ~/project/UKBB_GWAS_dev/admin/Get_Job_Script.ipynb csg \\\n",
    "    --template-file $tpl_file \\\n",
    "    --workflow-file $lmm_sos \\\n",
    "    --to-script $lmm_sbatch_regenie \\\n",
    "    --args \"$lmm_args\""
   ]
  },
  {
   "cell_type": "markdown",
   "id": "0551f8ca-a2f1-43c9-b315-19cb94a3b8c2",
   "metadata": {
    "kernel": "Bash"
   },
   "source": [
    "### 120621_f2247_hearing_difficulty"
   ]
  },
  {
   "cell_type": "code",
   "execution_count": 9,
   "id": "99027d0d-09e9-4dca-84bd-17223cf7121f",
   "metadata": {
    "kernel": "Bash"
   },
   "outputs": [
    {
     "name": "stdout",
     "output_type": "stream",
     "text": [
      "INFO: Running \u001b[32mcsg\u001b[0m: Configuration for Columbia csg partition cluster\n",
      "INFO: \u001b[32mcsg\u001b[0m is \u001b[32mcompleted\u001b[0m.\n",
      "INFO: \u001b[32mcsg\u001b[0m output:   \u001b[32m/mnt/mfs/statgen/UKBiobank/results/REGENIE_results/results_burden_exome/50k/090321_f2247_hearing_difficulty/f2247_hearing_difficulty_50k_exomes-regenie-burden_2021-12-06.sbatch\u001b[0m\n",
      "INFO: Workflow csg (ID=w7f0943a69fe2c5ae) is executed successfully with 1 completed step.\n",
      "\n"
     ]
    }
   ],
   "source": [
    "lmm_dir_regenie=/mnt/mfs/statgen/UKBiobank/results/REGENIE_results/results_burden_exome/50k/090321_f2247_hearing_difficulty\n",
    "lmm_sbatch_regenie=/mnt/mfs/statgen/UKBiobank/results/REGENIE_results/results_burden_exome/50k/090321_f2247_hearing_difficulty/f2247_hearing_difficulty_50k_exomes-regenie-burden_$(date +\"%Y-%m-%d\").sbatch\n",
    "phenoFile=/mnt/mfs/statgen/UKBiobank/phenotype_files/hearing_impairment/090321_UKBB_Hearing_difficulty_f2247_expandedwhite_34596ind_50K.tsv\n",
    "covarFile=/mnt/mfs/statgen/UKBiobank/phenotype_files/hearing_impairment/090321_UKBB_Hearing_difficulty_f2247_expandedwhite_34596ind_50K.tsv\n",
    "phenoCol=f2247\n",
    "covarCol=sex\n",
    "qCovarCol='age PC1 PC2'\n",
    "genoFile=`echo /mnt/mfs/statgen/UKBiobank/data/exome_files/project_VCF/072721_run/plink/ukb23156_c{1..22}.merged.filtered.bed`\n",
    "bfile=/mnt/mfs/statgen/UKBiobank/genotype_files_processed/090221_sample_variant_qc_final_callrate90/cache/UKB_genotypedatadownloaded083019.090221_sample_variant_qc_final_callrate90.filtered.extracted.bed\n",
    "anno_file=/mnt/mfs/statgen/UKBiobank/results/REGENIE_results/results_burden_exome/102121_burden_files/ukb23155_chr1_chr22_091321.hg38.hg38_multianno.renamedcols.csv.anno_file\n",
    "set_list=/mnt/mfs/statgen/UKBiobank/results/REGENIE_results/results_burden_exome/102121_burden_files/ukb23155_chr1_chr22_091321.hg38.hg38_multianno.renamedcols.csv.set_list_file\n",
    "mask_file=/mnt/mfs/statgen/UKBiobank/results/REGENIE_results/results_burden_exome/102121_burden_files/ukb23155_chr1_chr22_101321.hg38.hg38_multianno.renamedcols.mask_file\n",
    "aaf_file=/mnt/mfs/statgen/UKBiobank/results/REGENIE_results/results_burden_exome/102121_burden_files/ukb23155_chr1_chr22_091321.hg38.hg38_multianno.renamedcols.csv.aff_file\n",
    "build_mask=max\n",
    "aaf_bins='0.005 0.01'\n",
    "tpl_file=~/project/bioworkflows/admin/csg.yml\n",
    "lmm_sos=~/project/bioworkflows/GWAS/LMM.ipynb\n",
    "container_marp=~/containers/marp.sif\n",
    "container_lmm=~/containers/lmm.sif\n",
    "lmm_job_size=1\n",
    "ylim=10\n",
    "reverse_log_p=True\n",
    "numThreads=20\n",
    "formatFile_regenie=~/project/UKBB_GWAS_dev/data/regenie_template.yml\n",
    "bsize=1000\n",
    "trait=bt\n",
    "minMAC=1\n",
    "snpannofile=/mnt/mfs/statgen/UKBiobank/results/ukb23155_200Kexomes_annovar/2021_10_12_hg38_exome/ukb23155_chr1_chr22_091321.hg38.hg38_multianno.csv\n",
    "\n",
    "lmm_args=\"\"\"regenie_burden\n",
    "    --cwd $lmm_dir_regenie \n",
    "    --bfile $bfile \n",
    "    --genoFile $genoFile\n",
    "    --phenoFile $phenoFile \n",
    "    --formatFile $formatFile_regenie \n",
    "    --phenoCol $phenoCol\n",
    "    --covarCol $covarCol  \n",
    "    --qCovarCol $qCovarCol\n",
    "    --bsize $bsize\n",
    "    --trait $trait\n",
    "    --anno_file $anno_file\n",
    "    --set_list $set_list\n",
    "    --mask_file $mask_file\n",
    "    --aaf_file $aaf_file\n",
    "    --aaf_bins $aaf_bins\n",
    "    --build_mask $build_mask\n",
    "    --job_size $lmm_job_size\n",
    "    --ylim $ylim\n",
    "    --reverse_log_p $reverse_log_p\n",
    "    --numThreads $numThreads\n",
    "    --minMAC $minMAC\n",
    "    --snpannofile $snpannofile\n",
    "    --container_lmm $container_lmm\n",
    "    --container_marp $container_marp\n",
    "\"\"\"\n",
    "\n",
    "sos run ~/project/UKBB_GWAS_dev/admin/Get_Job_Script.ipynb csg \\\n",
    "    --template-file $tpl_file \\\n",
    "    --workflow-file $lmm_sos \\\n",
    "    --to-script $lmm_sbatch_regenie \\\n",
    "    --args \"$lmm_args\""
   ]
  },
  {
   "cell_type": "markdown",
   "id": "0672cede-1355-4224-a386-316cfdc1a384",
   "metadata": {
    "kernel": "Bash"
   },
   "source": [
    "### 120621_f2257_hearing_noise"
   ]
  },
  {
   "cell_type": "code",
   "execution_count": 13,
   "id": "2e733c22-929f-42f6-85ef-ecaf2dbeac28",
   "metadata": {
    "kernel": "Bash"
   },
   "outputs": [
    {
     "name": "stdout",
     "output_type": "stream",
     "text": [
      "INFO: Running \u001b[32mcsg\u001b[0m: Configuration for Columbia csg partition cluster\n",
      "INFO: \u001b[32mcsg\u001b[0m is \u001b[32mcompleted\u001b[0m.\n",
      "INFO: \u001b[32mcsg\u001b[0m output:   \u001b[32m/mnt/mfs/statgen/UKBiobank/results/REGENIE_results/results_burden_exome/50k/090321_f2257_hearing_noise/f2257_hearing_noise_50k_exomes-regenie-burden_2021-12-06.sbatch\u001b[0m\n",
      "INFO: Workflow csg (ID=w7aa12a7ca24f72d5) is executed successfully with 1 completed step.\n",
      "\n"
     ]
    }
   ],
   "source": [
    "lmm_dir_regenie=/mnt/mfs/statgen/UKBiobank/results/REGENIE_results/results_burden_exome/50k/090321_f2257_hearing_noise\n",
    "lmm_sbatch_regenie=/mnt/mfs/statgen/UKBiobank/results/REGENIE_results/results_burden_exome/50k/090321_f2257_hearing_noise/f2257_hearing_noise_50k_exomes-regenie-burden_$(date +\"%Y-%m-%d\").sbatch\n",
    "phenoFile=/mnt/mfs/statgen/UKBiobank/phenotype_files/hearing_impairment/090321_UKBB_Hearing_noise_f2257_expandedwhite_38723ind_50K.tsv\n",
    "covarFile=/mnt/mfs/statgen/UKBiobank/phenotype_files/hearing_impairment/090321_UKBB_Hearing_noise_f2257_expandedwhite_38723ind_50K.tsv\n",
    "phenoCol=f2257\n",
    "covarCol=sex\n",
    "qCovarCol='age PC1 PC2'\n",
    "genoFile=`echo /mnt/mfs/statgen/UKBiobank/data/exome_files/project_VCF/072721_run/plink/ukb23156_c{1..22}.merged.filtered.bed`\n",
    "bfile=/mnt/mfs/statgen/UKBiobank/genotype_files_processed/090221_sample_variant_qc_final_callrate90/cache/UKB_genotypedatadownloaded083019.090221_sample_variant_qc_final_callrate90.filtered.extracted.bed\n",
    "anno_file=/mnt/mfs/statgen/UKBiobank/results/REGENIE_results/results_burden_exome/102121_burden_files/ukb23155_chr1_chr22_091321.hg38.hg38_multianno.renamedcols.csv.anno_file\n",
    "set_list=/mnt/mfs/statgen/UKBiobank/results/REGENIE_results/results_burden_exome/102121_burden_files/ukb23155_chr1_chr22_091321.hg38.hg38_multianno.renamedcols.csv.set_list_file\n",
    "mask_file=/mnt/mfs/statgen/UKBiobank/results/REGENIE_results/results_burden_exome/102121_burden_files/ukb23155_chr1_chr22_101321.hg38.hg38_multianno.renamedcols.mask_file\n",
    "aaf_file=/mnt/mfs/statgen/UKBiobank/results/REGENIE_results/results_burden_exome/102121_burden_files/ukb23155_chr1_chr22_091321.hg38.hg38_multianno.renamedcols.csv.aff_file\n",
    "build_mask=max\n",
    "aaf_bins='0.005 0.01'\n",
    "tpl_file=~/project/bioworkflows/admin/csg.yml\n",
    "lmm_sos=~/project/bioworkflows/GWAS/LMM.ipynb\n",
    "container_marp=~/containers/marp.sif\n",
    "container_lmm=~/containers/lmm.sif\n",
    "lmm_job_size=1\n",
    "ylim=10\n",
    "reverse_log_p=True\n",
    "numThreads=20\n",
    "formatFile_regenie=~/project/UKBB_GWAS_dev/data/regenie_template.yml\n",
    "bsize=1000\n",
    "trait=bt\n",
    "minMAC=1\n",
    "snpannofile=/mnt/mfs/statgen/UKBiobank/results/ukb23155_200Kexomes_annovar/2021_10_12_hg38_exome/ukb23155_chr1_chr22_091321.hg38.hg38_multianno.csv\n",
    "\n",
    "lmm_args=\"\"\"regenie_burden\n",
    "    --cwd $lmm_dir_regenie \n",
    "    --bfile $bfile \n",
    "    --genoFile $genoFile\n",
    "    --phenoFile $phenoFile \n",
    "    --formatFile $formatFile_regenie \n",
    "    --phenoCol $phenoCol\n",
    "    --covarCol $covarCol  \n",
    "    --qCovarCol $qCovarCol\n",
    "    --bsize $bsize\n",
    "    --trait $trait\n",
    "    --anno_file $anno_file\n",
    "    --set_list $set_list\n",
    "    --mask_file $mask_file\n",
    "    --aaf_file $aaf_file\n",
    "    --aaf_bins $aaf_bins\n",
    "    --build_mask $build_mask\n",
    "    --job_size $lmm_job_size\n",
    "    --ylim $ylim\n",
    "    --reverse_log_p $reverse_log_p\n",
    "    --numThreads $numThreads\n",
    "    --minMAC $minMAC\n",
    "    --snpannofile $snpannofile\n",
    "    --container_lmm $container_lmm\n",
    "    --container_marp $container_marp\n",
    "\"\"\"\n",
    "sos run ~/project/UKBB_GWAS_dev/admin/Get_Job_Script.ipynb csg \\\n",
    "    --template-file $tpl_file \\\n",
    "    --workflow-file $lmm_sos \\\n",
    "    --to-script $lmm_sbatch_regenie \\\n",
    "    --args \"$lmm_args\""
   ]
  },
  {
   "cell_type": "markdown",
   "id": "e99a9aa9-1a68-4f45-b1b1-5a5cd3af63b5",
   "metadata": {
    "kernel": "Bash"
   },
   "source": [
    "### 120621_combined"
   ]
  },
  {
   "cell_type": "code",
   "execution_count": 12,
   "id": "7207e8a9-a5a5-4242-9062-a35497625dd7",
   "metadata": {
    "kernel": "Bash"
   },
   "outputs": [
    {
     "name": "stdout",
     "output_type": "stream",
     "text": [
      "INFO: Running \u001b[32mcsg\u001b[0m: Configuration for Columbia csg partition cluster\n",
      "INFO: \u001b[32mcsg\u001b[0m is \u001b[32mcompleted\u001b[0m.\n",
      "INFO: \u001b[32mcsg\u001b[0m output:   \u001b[32m/mnt/mfs/statgen/UKBiobank/results/REGENIE_results/results_burden_exome/50k/090321_Combined_f2247_f2257/Combined_f2247_f2257_50k_exomes-regenie-burden_2021-12-06.sbatch\u001b[0m\n",
      "INFO: Workflow csg (ID=we9e057c086015572) is executed successfully with 1 completed step.\n",
      "\n"
     ]
    }
   ],
   "source": [
    "lmm_dir_regenie=/mnt/mfs/statgen/UKBiobank/results/REGENIE_results/results_burden_exome/50k/090321_Combined_f2247_f2257\n",
    "lmm_sbatch_regenie=/mnt/mfs/statgen/UKBiobank/results/REGENIE_results/results_burden_exome/50k/090321_Combined_f2247_f2257/Combined_f2247_f2257_50k_exomes-regenie-burden_$(date +\"%Y-%m-%d\").sbatch\n",
    "phenoFile=/mnt/mfs/statgen/UKBiobank/phenotype_files/hearing_impairment/090321_UKBB_Combined_f2247_f2257_expandedwhite_32878ind_50K.tsv\n",
    "covarFile=/mnt/mfs/statgen/UKBiobank/phenotype_files/hearing_impairment/090321_UKBB_Combined_f2247_f2257_expandedwhite_32878ind_50K.tsv\n",
    "phenoCol=f2247_f2257\n",
    "covarCol=sex\n",
    "qCovarCol='age PC1 PC2'\n",
    "genoFile=`echo /mnt/mfs/statgen/UKBiobank/data/exome_files/project_VCF/072721_run/plink/ukb23156_c{1..22}.merged.filtered.bed`\n",
    "bfile=/mnt/mfs/statgen/UKBiobank/genotype_files_processed/090221_sample_variant_qc_final_callrate90/cache/UKB_genotypedatadownloaded083019.090221_sample_variant_qc_final_callrate90.filtered.extracted.bed\n",
    "anno_file=/mnt/mfs/statgen/UKBiobank/results/REGENIE_results/results_burden_exome/102121_burden_files/ukb23155_chr1_chr22_091321.hg38.hg38_multianno.renamedcols.csv.anno_file\n",
    "set_list=/mnt/mfs/statgen/UKBiobank/results/REGENIE_results/results_burden_exome/102121_burden_files/ukb23155_chr1_chr22_091321.hg38.hg38_multianno.renamedcols.csv.set_list_file\n",
    "mask_file=/mnt/mfs/statgen/UKBiobank/results/REGENIE_results/results_burden_exome/102121_burden_files/ukb23155_chr1_chr22_101321.hg38.hg38_multianno.renamedcols.mask_file\n",
    "aaf_file=/mnt/mfs/statgen/UKBiobank/results/REGENIE_results/results_burden_exome/102121_burden_files/ukb23155_chr1_chr22_091321.hg38.hg38_multianno.renamedcols.csv.aff_file\n",
    "build_mask=max\n",
    "aaf_bins='0.005 0.01'\n",
    "tpl_file=~/project/bioworkflows/admin/csg.yml\n",
    "lmm_sos=~/project/bioworkflows/GWAS/LMM.ipynb\n",
    "container_marp=~/containers/marp.sif\n",
    "container_lmm=~/containers/lmm.sif\n",
    "lmm_job_size=1\n",
    "ylim=10\n",
    "reverse_log_p=True\n",
    "numThreads=20\n",
    "formatFile_regenie=~/project/UKBB_GWAS_dev/data/regenie_template.yml\n",
    "bsize=1000\n",
    "trait=bt\n",
    "minMAC=1\n",
    "snpannofile=/mnt/mfs/statgen/UKBiobank/results/ukb23155_200Kexomes_annovar/2021_10_12_hg38_exome/ukb23155_chr1_chr22_091321.hg38.hg38_multianno.csv\n",
    "\n",
    "lmm_args=\"\"\"regenie_burden\n",
    "    --cwd $lmm_dir_regenie \n",
    "    --bfile $bfile \n",
    "    --genoFile $genoFile\n",
    "    --phenoFile $phenoFile \n",
    "    --formatFile $formatFile_regenie \n",
    "    --phenoCol $phenoCol\n",
    "    --covarCol $covarCol  \n",
    "    --qCovarCol $qCovarCol\n",
    "    --bsize $bsize\n",
    "    --trait $trait\n",
    "    --anno_file $anno_file\n",
    "    --set_list $set_list\n",
    "    --mask_file $mask_file\n",
    "    --aaf_file $aaf_file\n",
    "    --aaf_bins $aaf_bins\n",
    "    --build_mask $build_mask\n",
    "    --job_size $lmm_job_size\n",
    "    --ylim $ylim\n",
    "    --reverse_log_p $reverse_log_p\n",
    "    --numThreads $numThreads\n",
    "    --minMAC $minMAC\n",
    "    --snpannofile $snpannofile\n",
    "    --container_lmm $container_lmm\n",
    "    --container_marp $container_marp\n",
    "\"\"\"\n",
    "\n",
    "sos run ~/project/UKBB_GWAS_dev/admin/Get_Job_Script.ipynb csg \\\n",
    "    --template-file $tpl_file \\\n",
    "    --workflow-file $lmm_sos \\\n",
    "    --to-script $lmm_sbatch_regenie \\\n",
    "    --args \"$lmm_args\""
   ]
  },
  {
   "cell_type": "code",
   "execution_count": null,
   "id": "b840a3f4-b752-4fc0-922f-ca9e2570cb4e",
   "metadata": {
    "kernel": "Bash"
   },
   "outputs": [],
   "source": []
  }
 ],
 "metadata": {
  "kernelspec": {
   "display_name": "SoS",
   "language": "sos",
   "name": "sos"
  },
  "language_info": {
   "codemirror_mode": "sos",
   "file_extension": ".sos",
   "mimetype": "text/x-sos",
   "name": "sos",
   "nbconvert_exporter": "sos_notebook.converter.SoS_Exporter",
   "pygments_lexer": "sos"
  },
  "sos": {
   "kernels": [
    [
     "Bash",
     "calysto_bash",
     "Bash",
     "#E6EEFF",
     ""
    ],
    [
     "SoS",
     "sos",
     "",
     "",
     "sos"
    ]
   ],
   "version": "0.22.6"
  }
 },
 "nbformat": 4,
 "nbformat_minor": 5
}
