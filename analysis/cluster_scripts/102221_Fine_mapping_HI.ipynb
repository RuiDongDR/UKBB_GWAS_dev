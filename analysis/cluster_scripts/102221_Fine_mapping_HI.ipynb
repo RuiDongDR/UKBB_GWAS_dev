{
 "cells": [
  {
   "cell_type": "markdown",
   "id": "c426e9b6-c25f-433f-8821-480700782838",
   "metadata": {
    "kernel": "Bash"
   },
   "source": [
    "# Variables for cluster"
   ]
  },
  {
   "cell_type": "code",
   "execution_count": 1,
   "id": "463c5ba0-0ec1-4f8e-925e-198fa286c8c2",
   "metadata": {
    "kernel": "Bash",
    "tags": []
   },
   "outputs": [
    {
     "name": "stderr",
     "output_type": "stream",
     "text": [
      "/home/dmc2245/miniconda3/lib/python3.8/site-packages/sos_notebook/kernel.py:1334: DeprecationWarning: Kernel._parent_header is deprecated in ipykernel 6. Use .get_parent()\n",
      "  msg['msg_id'] = self._parent_header['header']['msg_id']\n"
     ]
    },
    {
     "name": "stdout",
     "output_type": "stream",
     "text": [
      "\n"
     ]
    }
   ],
   "source": [
    "# Common variables Columbia's cluster\n",
    "UKBB_PATH=$HOME/UKBiobank\n",
    "UKBB_yale=$HOME/UKBiobank_Yale_transfer\n",
    "USER_PATH=$HOME/project\n",
    "container_lmm=$HOME/containers/lmm.sif\n",
    "container_marp=$HOME/containers/marp.sif\n",
    "container_annovar=$HOME/containers/gatk4-annovar.sif\n",
    "hearing_pheno_path=$UKBB_PATH/phenotype_files/hearing_impairment\n",
    "tpl_file=$USER_PATH/bioworkflows/admin/csg.yml\n",
    "formatFile_fastgwa=$USER_PATH/UKBB_GWAS_dev/data/fastGWA_template.yml\n",
    "formatFile_bolt=$USER_PATH/UKBB_GWAS_dev/data/boltlmm_template.yml\n",
    "formatFile_saige=$USER_PATH/UKBB_GWAS_dev/data/saige_template.yml\n",
    "formatFile_regenie=$USER_PATH/UKBB_GWAS_dev/data/regenie_template.yml\n",
    "##bfile=$UKBB_yale/pleiotropy_geneticfiles/UKB_Caucasians_phenotypeindepqc120319_updated082020removedwithdrawnindiv.bed\n",
    "##unrelated_samples=$UKBB_yale/pleiotropy_geneticfiles/unrelated_n307259/UKB_unrelatedcauc_phenotypes_asthmat2dbmiwaisthip_agesex_waisthipratio_040620\n",
    "\n",
    "# Cleaned Imputed data BGEN input\n",
    "##genoFile=`echo $UKBB_yale/ukb39554_imputeddataset/ukb_imp_chr{1..22}_v3.bgen`\n",
    "##sampleFile=$UKBB_yale/ukb39554_imputeddataset/ukb32285_imputedindiv.sample\n",
    "\n",
    "# Non-QC'ed Exome data PLINK input (as downloaded from the UKBB)\n",
    "##genoFile=`echo $UKBB_yale/ukb28374_exomedata/exome_data_OCT2020/ukb23155_c{1..22}_b0_v1.bed`"
   ]
  },
  {
   "cell_type": "code",
   "execution_count": 2,
   "id": "b4a24dd8-860d-43b6-8248-8f122d48aa8e",
   "metadata": {
    "kernel": "Bash"
   },
   "outputs": [
    {
     "name": "stdout",
     "output_type": "stream",
     "text": [
      "\n"
     ]
    }
   ],
   "source": [
    "# Workflows\n",
    "lmm_sos=$USER_PATH/bioworkflows/GWAS/LMM.ipynb\n",
    "anno_sos=$USER_PATH/bioworkflows/variant-annotation/annovar.ipynb\n",
    "clumping_sos=$USER_PATH/bioworkflows/GWAS/LD_Clumping.ipynb\n",
    "extract_sos=$USER_PATH/bioworkflows/GWAS/Region_Extraction.ipynb\n",
    "snptogene_sos=$USER_PATH/UKBB_GWAS_dev/workflow/snptogene.ipynb\n",
    "\n",
    "# LMM directories for imputed data\n",
    "lmm_imp_dir_fastgwa=$UKBB_PATH/results/FastGWA_results/results_imputed_data\n",
    "lmm_imp_dir_bolt=$UKBB_PATH/results/BOLTLMM_results/results_imputed_data\n",
    "lmm_imp_dir_saige=$UKBB_PATH/results/SAIGE_results/results_imputed_data\n",
    "lmm_imp_dir_regenie=$UKBB_PATH/results/REGENIE_results/results_imputed_data\n",
    "\n",
    "# LMM directories for exome data\n",
    "lmm_exome_dir_fastgwa=$UKBB_PATH/results/FastGWA_results/results_exome_data\n",
    "lmm_exome_dir_bolt=$UKBB_PATH/results/BOLTLMM_results/results_exome_data\n",
    "lmm_exome_dir_saige=$UKBB_PATH/results/SAIGE_results/results_exome_data\n",
    "lmm_exome_dir_regenie=$UKBB_PATH/results/REGENIE_results/results_exome_data"
   ]
  },
  {
   "cell_type": "code",
   "execution_count": 3,
   "id": "5cfb0963-db15-4366-843a-f3baf8de72cc",
   "metadata": {
    "kernel": "Bash"
   },
   "outputs": [
    {
     "name": "stdout",
     "output_type": "stream",
     "text": [
      "\n"
     ]
    }
   ],
   "source": [
    "## LMM variables \n",
    "## Specific to Bolt_LMM\n",
    "LDscoresFile=$UKBB_PATH/LDSCORE.1000G_EUR.tab.gz\n",
    "geneticMapFile=$UKBB_PATH/genetic_map_hg19_withX.txt.gz\n",
    "covarMaxLevels=10\n",
    "numThreads=20\n",
    "bgenMinMAF=0.001\n",
    "bgenMinINFO=0.8\n",
    "lmm_job_size=1\n",
    "ylim=0\n",
    "\n",
    "### Specific to FastGWA (depeding if you run from Yale or Columbia)\n",
    "####Yale's cluster\n",
    "grmFile=$UKBB_PATH/results/FastGWA_results/results_imputed_data/UKB_Caucasians_phenotypeindepqc120319_updated020720removedwithdrawnindiv.grm.sp\n",
    "####Columbia's cluster\n",
    "grmFile=$UKBB_yale/results/FastGWA_results/results_imputed_data/UKB_Caucasians_phenotypeindepqc120319_updated020720removedwithdrawnindiv.grm.sp\n",
    "\n",
    "### Specific to SAIGE\n",
    "bgenMinMAC=4\n",
    "trait_type=binary\n",
    "loco=TRUE\n",
    "sampleCol=IID\n",
    "\n",
    "### Specific to REGENIE\n",
    "bsize=1000\n",
    "lowmem=$HOME/scratch60/\n",
    "lowmem_dir=$HOME/scratch60/predictions\n",
    "trait=bt\n",
    "minMAC=4\n",
    "maf_filter=0.01\n",
    "geno_filter=0.01\n",
    "hwe_filter=0\n",
    "mind_filter=0.1\n",
    "reverse_log_p=True"
   ]
  },
  {
   "cell_type": "code",
   "execution_count": 4,
   "id": "ce2f4508-3920-49d5-ab54-ca83877debc6",
   "metadata": {
    "kernel": "Bash"
   },
   "outputs": [],
   "source": [
    "# LD clumping directories\n",
    "clumping_dir=$UKBB_PATH/results/LD_clumping\n",
    "\n",
    "## LD clumping variables\n",
    "# For sumtastsFiles if more than one provide each path\n",
    "####Yale's cluster for bgen data\n",
    "##bfile_ref=$UKBB_PATH/results/LD_clumping/UKB_Caucasians_phenotypeindepqc120319_updated020720removedwithdrawnindiv.1210.ref_geno.bed\n",
    "####Columbia's cluster for bgen data\n",
    "##bfile_ref=$UKBB_yale/results/LD_clumping/UKB_Caucasians_phenotypeindepqc120319_updated020720removedwithdrawnindiv.1210.ref_geno.bed\n",
    "# Changes dependending upon which traits are analyzed\n",
    "ld_sample_size=1210\n",
    "clump_field=P\n",
    "clump_p1=5e-08\n",
    "clump_p2=1\n",
    "clump_r2=0.2\n",
    "clump_kb=2000\n",
    "clump_annotate=BP\n",
    "numThreads=20\n",
    "clump_job_size=1\n",
    "clumpFile= \n",
    "clumregionFile="
   ]
  },
  {
   "cell_type": "code",
   "execution_count": 5,
   "id": "455fafd0-d149-4a75-970e-abed60c15236",
   "metadata": {
    "kernel": "Bash"
   },
   "outputs": [
    {
     "name": "stdout",
     "output_type": "stream",
     "text": [
      "\n"
     ]
    }
   ],
   "source": [
    "# Region extraction directories\n",
    "extract_dir=$UKBB_PATH/results/region_extraction\n",
    "\n",
    "## Region extraction variables\n",
    "#region_file=$UKBB_PATH/results/LD_clumping/\n",
    "#geno_path=$UKBB_PATH/results/UKBB_bgenfilepath.txt\n",
    "#sumstats_path=$UKBB_PATH/results/\n",
    "#extract_job_size=10"
   ]
  },
  {
   "cell_type": "code",
   "execution_count": 2,
   "id": "e8525aef-b0ea-46f6-9065-85a5389484c6",
   "metadata": {
    "kernel": "Bash",
    "tags": []
   },
   "outputs": [
    {
     "name": "stdout",
     "output_type": "stream",
     "text": [
      "INFO: Running \u001b[32mcsg\u001b[0m: Configuration for Columbia csg partition cluster\n",
      "INFO: \u001b[32mcsg\u001b[0m is \u001b[32mcompleted\u001b[0m.\n",
      "INFO: \u001b[32mcsg\u001b[0m output:   \u001b[32m/home/dmc2245/test/output/2021-10-20_test_HI-finemap.sbatch\u001b[0m\n",
      "INFO: Workflow csg (ID=w3240e7176fe1d1cb) is executed successfully with 1 completed step.\n"
     ]
    }
   ],
   "source": [
    "tpl_file=~/project/bioworkflows/admin/csg.yml\n",
    "finemap_dir=~/test\n",
    "finemap_sos=~/project/bioworkflows/fine-mapping/SuSiE_RSS_before_initialization.ipynb\n",
    "finemap_sbatch=~/test/output/$(date +\"%Y-%m-%d\")_test_HI-finemap.sbatch\n",
    "region_dir=~/test/MWE_region_extraction/output\n",
    "region_file=~/test/MWE_region_extraction/region.txt\n",
    "sumstats_path=~/test/MWE_region_extraction/100521_UKBB_Hearing_aid_f3393_expandedwhite_15601cases_237318ctrl_500k_PC1_PC2_f3393_regenie_5_272741_1213528.sumstats.gz\n",
    "container_lmm=~/containers/lmm.sif\n",
    "\n",
    "finemap_args=\"\"\"default\n",
    "    --cwd $finemap_dir\n",
    "    --region_dir $region_dir\n",
    "    --region_file $region_file\n",
    "    --sumstats_path $sumstats_path\n",
    "    --container_lmm $container_lmm\n",
    "\"\"\"\n",
    "sos run ~/project/UKBB_GWAS_dev/admin/Get_Job_Script.ipynb csg \\\n",
    "    --template-file $tpl_file \\\n",
    "    --workflow-file $finemap_sos \\\n",
    "    --to-script $finemap_sbatch \\\n",
    "    --args \"$finemap_args\""
   ]
  },
  {
   "cell_type": "markdown",
   "id": "6814e32f-668f-4187-9d2f-6ed12d88c708",
   "metadata": {
    "kernel": "Bash"
   },
   "source": [
    "# LD clumping for f3393"
   ]
  },
  {
   "cell_type": "code",
   "execution_count": 5,
   "id": "7547a387-64c7-4471-9b6a-2d7a5c349691",
   "metadata": {
    "kernel": "Bash"
   },
   "outputs": [
    {
     "name": "stdout",
     "output_type": "stream",
     "text": [
      "INFO: Running \u001b[32mcsg\u001b[0m: Configuration for Columbia csg partition cluster\n",
      "INFO: \u001b[32mcsg\u001b[0m is \u001b[32mcompleted\u001b[0m.\n",
      "INFO: \u001b[32mcsg\u001b[0m output:   \u001b[32m/home/dmc2245/project/UKBB_GWAS_dev/output/f3393_exome_ldclumping_best2021-12-17.sbatch\u001b[0m\n",
      "INFO: Workflow csg (ID=w035a246e430b5553) is executed successfully with 1 completed step.\n"
     ]
    }
   ],
   "source": [
    "cwd=~/UKBiobank/results/LD_clumping/092321_f3393_200Kexomes/clump_best\n",
    "clumping_sbatch=$USER_PATH/UKBB_GWAS_dev/output/f3393_exome_ldclumping_best$(date +\"%Y-%m-%d\").sbatch\n",
    "sumstatsFiles=$lmm_exome_dir_regenie/090921_f3393_hearing_aid_200K/*snp_stats.gz\n",
    "genoFile=`echo $UKBB_PATH/data/exome_files/project_VCF/072721_run/plink/ukb23156_c{1..22}.merged.filtered.bed`\n",
    "## Individuals from the subset of white individuals with exome data \n",
    "sampleFile=$UKBB_PATH/results/083021_PCA_results/europeans/cache/UKB_genotypedatadownloaded083019.090221_sample_variant_qc_final_callrate90.filtered.extracted.europeans.filtered.fam\n",
    "unrelated_samples=$UKBB_PATH/results/083021_PCA_results/090221_ldprun_unrelated/cache/UKB_genotypedatadownloaded083019.090221_sample_variant_qc_final_callrate90.filtered.extracted.europeans.filtered.090221_ldprun_unrelated.filtered.fam\n",
    "bfile_ref=$UKBB_PATH/results/LD_clumping/ref_files/ukb23156_c1_22.merged.filtered.2000.ref_geno.bed\n",
    "name_bref='ukb23156_c1_22.merged.filtered'\n",
    "ld_sample_size=2000\n",
    "clump_field=P\n",
    "clump_p1=5e-08\n",
    "clump_p2=1\n",
    "clump_r2=0.2\n",
    "clump_kb=2000\n",
    "clump_annotate=BP\n",
    "numThreads=20\n",
    "\n",
    "# Select samples filter_samples workflow & create reference file with reference workflow\n",
    "# Then use default workflow to run the LD clumping\n",
    "clumping_args=\"\"\"default\n",
    "    --cwd $cwd\n",
    "    --bfile_ref $bfile_ref \n",
    "    --genoFile $genoFile\n",
    "    --sampleFile $sampleFile \n",
    "    --sumstatsFiles $sumstatsFiles \n",
    "    --unrelated_samples $unrelated_samples \n",
    "    --name_bref $name_bref\n",
    "    --ld_sample_size $ld_sample_size \n",
    "    --clump_field $clump_field\n",
    "    --clump_p1 $clump_p1 \n",
    "    --clump_p2 $clump_p2 \n",
    "    --clump_r2 $clump_r2 \n",
    "    --clump_kb $clump_kb \n",
    "    --clump_annotate $clump_annotate \n",
    "    --numThreads $numThreads \n",
    "    --job_size $clump_job_size\n",
    "    --container_lmm $container_lmm\n",
    "\"\"\"\n",
    "\n",
    "sos run ~/project/UKBB_GWAS_dev/admin/Get_Job_Script.ipynb csg \\\n",
    "    --template-file $tpl_file \\\n",
    "    --workflow-file $clumping_sos \\\n",
    "    --to-script $clumping_sbatch \\\n",
    "    --args \"$clumping_args\""
   ]
  },
  {
   "cell_type": "markdown",
   "id": "62ad117d-d7e2-450b-b6b9-67c601279699",
   "metadata": {
    "kernel": "Bash"
   },
   "source": [
    "# f.3393: Analysis merging exome data and imputed data in the specific region"
   ]
  },
  {
   "cell_type": "code",
   "execution_count": null,
   "id": "34f1866a-792e-485b-beb7-b46074135ec8",
   "metadata": {
    "kernel": "Bash"
   },
   "outputs": [],
   "source": [
    "module load Singularity\n",
    "sos run /home/dmc2245/project/bioworkflows/fine-mapping/SuSiE_RSS_before_initialization.ipynb     default \\\n",
    "--cwd /home/dmc2245/test \\\n",
    "--region_dir /home/dmc2245/test/MWE_region_extraction/ \\\n",
    "--region_file /home/dmc2245/test/MWE_region_extraction/region.txt \\\n",
    "--sumstats_path /home/dmc2245/test/MWE_region_extraction/5_272741_1213528/100521_UKBB_Hearing_aid_f3393_expandedwhite_15601cases_237318ctrl_500k_PC1_PC2_f3393_regenie_5_272741_1213528.sumstats.gz    \\\n",
    "--container_lmm /home/dmc2245/containers/lmm.sif"
   ]
  },
  {
   "cell_type": "code",
   "execution_count": 31,
   "id": "d839ca4c-8688-4a74-a1e7-87cd6f20ede1",
   "metadata": {
    "kernel": "Bash"
   },
   "outputs": [
    {
     "data": {
      "text/html": [
       "<div class=\"sos_hint\">> /home/dmc2245/test/5_272741_1213528.100521_UKBB_Hearing_aid_f3393_expandedwhite_15601cases_237318ctrl_500k_PC1_PC2_f3393_regenie_5_272741_1213528.SuSiE_RSS.png (84.3 KiB):</div>"
      ],
      "text/plain": [
       "\n",
       "> /home/dmc2245/test/5_272741_1213528.100521_UKBB_Hearing_aid_f3393_expandedwhite_15601cases_237318ctrl_500k_PC1_PC2_f3393_regenie_5_272741_1213528.SuSiE_RSS.png (84.3 KiB):"
      ]
     },
     "metadata": {},
     "output_type": "display_data"
    },
    {
     "data": {
      "image/png": "[encoded data removed]"
     },
     "metadata": {
      "image/png": {}
     },
     "output_type": "display_data"
    },
    {
     "data": {
      "text/html": [
       "<div class=\"sos_hint\">> /home/dmc2245/test/5_272741_1213528.100521_UKBB_Hearing_aid_f3393_expandedwhite_15601cases_237318ctrl_500k_PC1_PC2_f3393_regenie_5_272741_1213528.SuSiE_RSS.png:</div>"
      ],
      "text/plain": [
       ">>> /home/dmc2245/test/5_272741_1213528.100521_UKBB_Hearing_aid_f3393_expandedwhite_15601cases_237318ctrl_500k_PC1_PC2_f3393_regenie_5_272741_1213528.SuSiE_RSS.png:\n"
      ]
     },
     "metadata": {},
     "output_type": "display_data"
    },
    {
     "name": "stdout",
     "output_type": "stream",
     "text": [
      "bash: /home/dmc2245/test/5_272741_1213528.100521_UKBB_Hearing_aid_f3393_expandedwhite_15601cases_237318ctrl_500k_PC1_PC2_f3393_regenie_5_272741_1213528.SuSiE_RSS.png: Permission denied\n",
      "\n"
     ]
    }
   ],
   "source": [
    "%preview -s png /home/dmc2245/test/5_272741_1213528.100521_UKBB_Hearing_aid_f3393_expandedwhite_15601cases_237318ctrl_500k_PC1_PC2_f3393_regenie_5_272741_1213528.SuSiE_RSS.png"
   ]
  },
  {
   "cell_type": "markdown",
   "id": "d3de7b3f-6bc2-4009-a86a-9d178968f5aa",
   "metadata": {
    "kernel": "Bash"
   },
   "source": [
    "## Run the region extraction for f.3393 exome data to test the pipeline"
   ]
  },
  {
   "cell_type": "code",
   "execution_count": 4,
   "id": "0341d555-5c68-4486-bf78-48de82f169b7",
   "metadata": {
    "kernel": "Bash"
   },
   "outputs": [
    {
     "name": "stdout",
     "output_type": "stream",
     "text": [
      "INFO: Running \u001b[32mcsg\u001b[0m: Configuration for Columbia csg partition cluster\n",
      "INFO: \u001b[32mcsg\u001b[0m is \u001b[32mcompleted\u001b[0m.\n",
      "INFO: \u001b[32mcsg\u001b[0m output:   \u001b[32m/home/dmc2245/test/MWE_region_extraction/exome_data/f3393_exome_region_2021-10-26.sbatch\u001b[0m\n",
      "INFO: Workflow csg (ID=w5daebadcf5cbb4cc) is executed successfully with 1 completed step.\n",
      "\n"
     ]
    }
   ],
   "source": [
    "# Note: no need to give the bgen_sample_path when using plink files \n",
    "UKBB_PATH=$HOME/UKBiobank\n",
    "USER_PATH=$HOME/project\n",
    "hearing_pheno_path=$UKBB_PATH/phenotype_files/hearing_impairment\n",
    "tpl_file=$USER_PATH/bioworkflows/admin/csg.yml\n",
    "phenoFile=$hearing_pheno_path/090321_UKBB_Hearing_aid_f3393_expandedwhite_6436cases_96601ctrl_PC1_2.tsv\n",
    "extract_dir=~/test/MWE_region_extraction/exome_data\n",
    "extract_sos=~/project/bioworkflows/GWAS/Region_Extraction.ipynb\n",
    "extract_sbatch=~/test/MWE_region_extraction/exome_data/f3393_exome_region_$(date +\"%Y-%m-%d\").sbatch\n",
    "region_file=~/UKBiobank/results/LD_clumping/092321_f3393_200Kexomes/090321_UKBB_Hearing_aid_f3393_expandedwhite_6436cases_96601ctrl_PC1_2_f3393.regenie.snp_stats.clumped_region\n",
    "geno_path=~/UKBiobank/data/exome_files/project_VCF/072721_run/plink/092321_UKBB_qc_exome_geno_path.txt\n",
    "sumstats_path=~/UKBiobank/results/REGENIE_results/results_exome_data/090921_f3393_hearing_aid_200K/090321_UKBB_Hearing_aid_f3393_expandedwhite_6436cases_96601ctrl_PC1_2_f3393.regenie.snp_stats.gz\n",
    "unrelated_samples=~/UKBiobank/results/083021_PCA_results/090221_ldprun_unrelated/cache/UKB_genotypedatadownloaded083019.090221_sample_variant_qc_final_callrate90.filtered.extracted.europeans.filtered.090221_ldprun_unrelated.filtered.prune.txt\n",
    "extract_job_size=1\n",
    "# No need to give format file here because the summary stats already have the required format\n",
    "##formatFile_regenie=$USER_PATH/UKBB_GWAS_dev/data/regenie_template.yml\n",
    "container_lmm=$HOME/containers/lmm.sif\n",
    "\n",
    "extract_args=\"\"\"default\n",
    "    --cwd $extract_dir\n",
    "    --region-file $region_file\n",
    "    --pheno-path $phenoFile\n",
    "    --geno-path $geno_path\n",
    "    --sumstats-path $sumstats_path\n",
    "    --format-config-path $formatFile_regenie\n",
    "    --unrelated-samples $unrelated_samples\n",
    "    --job-size $extract_job_size\n",
    "    --container_lmm $container_lmm\n",
    "\"\"\"\n",
    "\n",
    "sos run ~/project/UKBB_GWAS_dev/admin/Get_Job_Script.ipynb csg \\\n",
    "    --template-file $tpl_file \\\n",
    "    --workflow-file $extract_sos \\\n",
    "    --to-script $extract_sbatch \\\n",
    "    --args \"$extract_args\"\n"
   ]
  },
  {
   "cell_type": "markdown",
   "id": "b9a15e8f-d7f7-4184-8b6f-98efae3dfe3c",
   "metadata": {
    "kernel": "Bash"
   },
   "source": [
    "##  Run the fine mapping for the exome data"
   ]
  },
  {
   "cell_type": "code",
   "execution_count": null,
   "id": "27ddd025-eb6a-4c2b-b3b4-08c9e71050d4",
   "metadata": {
    "kernel": "Bash"
   },
   "outputs": [],
   "source": [
    "module load Singularity\n",
    "sos run ~/project/bioworkflows_diana/fine-mapping/SuSiE_RSS_Diana.ipynb     default \\\n",
    "--cwd /home/dmc2245/test/MWE_region_extraction/exome_data \\\n",
    "--region_dir /home/dmc2245/test/MWE_region_extraction/exome_data \\\n",
    "--region_file /home/dmc2245/test/MWE_region_extraction/exome_data/exome_region_file.txt \\\n",
    "--sumstats_path ~/UKBiobank/results/REGENIE_results/results_exome_data/090921_f3393_hearing_aid_200K/090321_UKBB_Hearing_aid_f3393_expandedwhite_6436cases_96601ctrl_PC1_2_f3393.regenie.snp_stats.gz  \\\n",
    "--container_lmm /home/dmc2245/containers/lmm.sif"
   ]
  },
  {
   "cell_type": "code",
   "execution_count": null,
   "id": "31559cfa-ec0f-422d-b51a-c55563d8b099",
   "metadata": {
    "kernel": "Bash"
   },
   "outputs": [],
   "source": [
    "module load Singularity\n",
    "sos run ~/project/bioworkflows_diana/fine-mapping/SuSiE_RSS_Diana.ipynb     default \\\n",
    "--cwd ~/test/MWE_region_extraction/Yin_test/exome \\\n",
    "--region_dir /home/dmc2245/test/MWE_region_extraction/Yin_test/exome \\\n",
    "--region_file /home/dmc2245/test/MWE_region_extraction/Yin_test/exome/exome_region_file.txt \\\n",
    "--sumstats_path /home/dmc2245/test/MWE_region_extraction/Yin_test/merge_exome_impute/100521_UKBB_Hearing_aid_f3393_expandedwhite_15601cases_237318ctrl_500k_PC1_PC2_f3393_regenie.snp_stats_5_272741_1213528.sumstats.gz \\\n",
    "--container_lmm /home/dmc2245/containers/lmm.sif \\\n",
    "--container_marp /home/dmc2245/containers/marp.sif"
   ]
  },
  {
   "cell_type": "code",
   "execution_count": 2,
   "id": "3f4bd575-47c3-479a-ad5c-d071966c63d8",
   "metadata": {
    "kernel": "Bash"
   },
   "outputs": [
    {
     "data": {
      "text/html": [
       "<div class=\"sos_hint\">> /home/dmc2245/test/MWE_region_extraction/Yin_test/exome/5_272741_1213528.100521_UKBB_Hearing_aid_f3393_expandedwhite_15601cases_237318ctrl_500k_PC1_PC2_f3393_regenie.snp_stats_5_272741_1213528.SuSiE_RSS.png (58.1 KiB):</div>"
      ],
      "text/plain": [
       "\n",
       "> /home/dmc2245/test/MWE_region_extraction/Yin_test/exome/5_272741_1213528.100521_UKBB_Hearing_aid_f3393_expandedwhite_15601cases_237318ctrl_500k_PC1_PC2_f3393_regenie.snp_stats_5_272741_1213528.SuSiE_RSS.png (58.1 KiB):"
      ]
     },
     "metadata": {},
     "output_type": "display_data"
    },
    {
     "data": {
      "image/png": "[encoded data removed]"
     },
     "metadata": {
      "image/png": {}
     },
     "output_type": "display_data"
    },
    {
     "data": {
      "text/html": [
       "<div class=\"sos_hint\">> /home/dmc2245/test/MWE_region_extraction/Yin_test/exome/5_272741_1213528.100521_UKBB_Hearing_aid_f3393_expandedwhite_15601cases_237318ctrl_500k_PC1_PC2_f3393_regenie.snp_stats_5_272741_1213528.SuSiE_RSS.png:</div>"
      ],
      "text/plain": [
       ">>> /home/dmc2245/test/MWE_region_extraction/Yin_test/exome/5_272741_1213528.100521_UKBB_Hearing_aid_f3393_expandedwhite_15601cases_237318ctrl_500k_PC1_PC2_f3393_regenie.snp_stats_5_272741_1213528.SuSiE_RSS.png:\n"
      ]
     },
     "metadata": {},
     "output_type": "display_data"
    },
    {
     "name": "stdout",
     "output_type": "stream",
     "text": [
      "bash: /home/dmc2245/test/MWE_region_extraction/Yin_test/exome/5_272741_1213528.100521_UKBB_Hearing_aid_f3393_expandedwhite_15601cases_237318ctrl_500k_PC1_PC2_f3393_regenie.snp_stats_5_272741_1213528.SuSiE_RSS.png: Permission denied\n",
      "\n"
     ]
    }
   ],
   "source": [
    "%preview -s png \\\n",
    "/home/dmc2245/test/MWE_region_extraction/Yin_test/exome/5_272741_1213528.100521_UKBB_Hearing_aid_f3393_expandedwhite_15601cases_237318ctrl_500k_PC1_PC2_f3393_regenie.snp_stats_5_272741_1213528.SuSiE_RSS.png"
   ]
  },
  {
   "cell_type": "markdown",
   "id": "4b09feaa-deb4-4884-ac4b-af06e0a88a9e",
   "metadata": {
    "kernel": "Bash"
   },
   "source": [
    "The variant with the highest PIP is the most significant one for the 200K exomes in the PDCD6 gene"
   ]
  },
  {
   "cell_type": "markdown",
   "id": "63b0cc15-609c-4acb-9375-a05f110ec586",
   "metadata": {
    "kernel": "Bash"
   },
   "source": [
    "## LD clumping in the imputed data"
   ]
  },
  {
   "cell_type": "markdown",
   "id": "9877d30e-6917-4812-b978-847e64e3c6a0",
   "metadata": {
    "kernel": "Bash"
   },
   "source": [
    "### Create the reference file from the bgen files"
   ]
  },
  {
   "cell_type": "code",
   "execution_count": 15,
   "id": "6dcb57ef-180d-4c13-a655-a38a6a1119c8",
   "metadata": {
    "kernel": "Bash"
   },
   "outputs": [
    {
     "name": "stdout",
     "output_type": "stream",
     "text": [
      "INFO: Running \u001b[32mcsg\u001b[0m: Configuration for Columbia csg partition cluster\n",
      "INFO: \u001b[32mcsg\u001b[0m is \u001b[32mcompleted\u001b[0m.\n",
      "INFO: \u001b[32mcsg\u001b[0m output:   \u001b[32m/home/dmc2245/project/UKBB_GWAS_dev/output/refbedfile_imputed_ldclumping_2021-10-26.sbatch\u001b[0m\n",
      "INFO: Workflow csg (ID=w798c3b16d59fd061) is executed successfully with 1 completed step.\n",
      "\n"
     ]
    }
   ],
   "source": [
    "clumping_dir=~/UKBiobank/results/LD_clumping/ref_files\n",
    "clumping_sbatch=$USER_PATH/UKBB_GWAS_dev/output/refbedfile_imputed_ldclumping_$(date +\"%Y-%m-%d\").sbatch\n",
    "sumstatsFiles=~/UKBiobank/results/REGENIE_results/results_imputed_data/2021_10_07_f3393_500K/*.snp_stats.gz\n",
    "genoFile=`echo $UKBB_yale/ukb39554_imputeddataset/ukb_imp_chr{1..22}_v3.bgen`\n",
    "## Individuals from the subset of white individuals with exome data \n",
    "sampleFile=$UKBB_yale/ukb39554_imputeddataset/ukb32285_imputedindiv.sample\n",
    "unrelated_samples=$UKBB_PATH/results/083021_PCA_results/090221_ldprun_unrelated/cache/UKB_genotypedatadownloaded083019.090221_sample_variant_qc_final_callrate90.filtered.extracted.europeans.filtered.090221_ldprun_unrelated.filtered.fam\n",
    "name_bref='ukb39554_c1_22_v3.imputed'\n",
    "ld_sample_size=2000\n",
    "clump_field=P\n",
    "clump_p1=5e-08\n",
    "clump_p2=1\n",
    "clump_r2=0.2\n",
    "clump_kb=2000\n",
    "clump_annotate=BP\n",
    "numThreads=20\n",
    "\n",
    "# Select samples filter_samples workflow & create reference file with reference workflow\n",
    "# Then use default workflow to run the LD clumping\n",
    "clumping_args=\"\"\"reference\n",
    "    --cwd $clumping_dir\n",
    "    --genoFile $genoFile\n",
    "    --sampleFile $sampleFile \n",
    "    --sumstatsFiles $sumstatsFiles \n",
    "    --unrelated_samples $unrelated_samples \n",
    "    --name_bref $name_bref\n",
    "    --ld_sample_size $ld_sample_size \n",
    "    --clump_field $clump_field\n",
    "    --clump_p1 $clump_p1 \n",
    "    --clump_p2 $clump_p2 \n",
    "    --clump_r2 $clump_r2 \n",
    "    --clump_kb $clump_kb \n",
    "    --clump_annotate $clump_annotate \n",
    "    --numThreads $numThreads \n",
    "    --job_size $clump_job_size\n",
    "    --container_lmm $container_lmm\n",
    "\"\"\"\n",
    "\n",
    "sos run ~/project/UKBB_GWAS_dev/admin/Get_Job_Script.ipynb csg \\\n",
    "    --template-file $tpl_file \\\n",
    "    --workflow-file $clumping_sos \\\n",
    "    --to-script $clumping_sbatch \\\n",
    "    --args \"$clumping_args\""
   ]
  },
  {
   "cell_type": "markdown",
   "id": "816ea144-4247-4929-97cc-84642e94ddf0",
   "metadata": {
    "kernel": "Bash"
   },
   "source": [
    "### Do LD clumping for f.3393 imputed data"
   ]
  },
  {
   "cell_type": "code",
   "execution_count": 11,
   "id": "fe7b935f-6611-4b8f-9870-3f737b22b492",
   "metadata": {
    "kernel": "Bash"
   },
   "outputs": [
    {
     "name": "stdout",
     "output_type": "stream",
     "text": [
      "INFO: Running \u001b[32mcsg\u001b[0m: Configuration for Columbia csg partition cluster\n",
      "INFO: \u001b[32mcsg\u001b[0m is \u001b[32mcompleted\u001b[0m.\n",
      "INFO: \u001b[32mcsg\u001b[0m output:   \u001b[32m/home/dmc2245/test/MWE_region_extraction/imputed_data/f3393_imputed_ldclumping_2021-10-26.sbatch\u001b[0m\n",
      "INFO: Workflow csg (ID=w3c06a005c1b6cf13) is executed successfully with 1 completed step.\n",
      "\n"
     ]
    }
   ],
   "source": [
    "UKBB_yale=$HOME/UKBiobank_Yale_transfer\n",
    "clumping_dir=~/test/MWE_region_extraction/imputed_data/$(date +\"%Y-%m-%d\")_f3393_500K\n",
    "clumping_sos=~/project/bioworkflows/GWAS/LD_Clumping.ipynb\n",
    "bfile_ref=\n",
    "clumping_sbatch=~/test/MWE_region_extraction/imputed_data/f3393_imputed_ldclumping_$(date +\"%Y-%m-%d\").sbatch\n",
    "sumstatsFiles=~/UKBiobank/results/REGENIE_results/results_imputed_data/2021_10_07_f3393_500K/*.snp_stats.gz\n",
    "genoFile=`echo ~/UKBiobank_Yale_transfer/ukb39554_imputeddataset/ukb_imp_chr{1..22}_v3.bgen`\n",
    "sampleFile=~/UKBiobank_Yale_transfer/ukb39554_imputeddataset/ukb32285_imputedindiv.sample\n",
    "ld_sample_size=1210\n",
    "clump_field=P\n",
    "clump_p1=5e-08\n",
    "clump_p2=1\n",
    "clump_r2=0.2\n",
    "clump_kb=2000\n",
    "clump_annotate=BP\n",
    "numThreads=2\n",
    "clump_job_size=1\n",
    "unrelated_samples=$UKBB_PATH/results/083021_PCA_results/090221_ldprun_unrelated/cache/UKB_genotypedatadownloaded083019.090221_sample_variant_qc_final_callrate90.filtered.extracted.europeans.filtered.090221_ldprun_unrelated.filtered.fam\n",
    "name_bref='ukb39554_c1_22_v3.imputed'\n",
    "\n",
    "clumping_args=\"\"\"default\n",
    "    --cwd $clumping_dir\n",
    "    --bfile_ref $bfile_ref \n",
    "    --genoFile $genoFile\n",
    "    --sampleFile $sampleFile \n",
    "    --sumstatsFiles $sumstatsFiles \n",
    "    --unrelated_samples $unrelated_samples \n",
    "    --ld_sample_size $ld_sample_size \n",
    "    --clump_field $clump_field\n",
    "    --clump_p1 $clump_p1 \n",
    "    --clump_p2 $clump_p2 \n",
    "    --clump_r2 $clump_r2 \n",
    "    --clump_kb $clump_kb \n",
    "    --clump_annotate $clump_annotate \n",
    "    --numThreads $numThreads \n",
    "    --job_size $clump_job_size\n",
    "    --container_lmm $container_lmm\n",
    "\"\"\"\n",
    "\n",
    "sos run ~/project/UKBB_GWAS_dev/admin/Get_Job_Script.ipynb csg \\\n",
    "    --template-file $tpl_file \\\n",
    "    --workflow-file $clumping_sos \\\n",
    "    --to-script $clumping_sbatch \\\n",
    "    --args \"$clumping_args\""
   ]
  },
  {
   "cell_type": "markdown",
   "id": "50da0ef2-7fbc-48dd-b725-53d1fd336b7b",
   "metadata": {
    "kernel": "Bash"
   },
   "source": [
    "### Run the region extraction for f.3393 imputed  data to test the pipeline"
   ]
  },
  {
   "cell_type": "code",
   "execution_count": null,
   "id": "911ddb9a-ce00-486f-a47a-667a0e3bfad3",
   "metadata": {
    "kernel": "Bash"
   },
   "outputs": [],
   "source": [
    "UKBB_PATH=$HOME/UKBiobank\n",
    "USER_PATH=$HOME/project\n",
    "hearing_pheno_path=$UKBB_PATH/phenotype_files/hearing_impairment\n",
    "tpl_file=$USER_PATH/bioworkflows/admin/csg.yml\n",
    "phenoFile=$hearing_pheno_path/fulldb_500K/100521_UKBB_Hearing_aid_f3393_expandedwhite_15601cases_237318ctrl_500k_PC1_PC2\n",
    "extract_dir=~/test/MWE_region_extraction/imputed_data\n",
    "extract_sos=~/project/bioworkflows/GWAS/Region_Extraction.ipynb\n",
    "extract_sbatch=~/test/MWE_region_extraction/exome_data/f3393_imputed_region_$(date +\"%Y-%m-%d\").sbatch\n",
    "region_file=~/test/MWE_region_extraction/imputed_data/\n",
    "geno_path=~/UKBiobank/results/LD_clumping/ref_files/102621_UKBB_bgenpath.txt\n",
    "sampleFile=~/UKBiobank_Yale_transfer/ukb39554_imputeddataset/ukb32285_imputedindiv.sample\n",
    "# here the summary stats for the 500K individuals imputed data\n",
    "sumstats_path=~/UKBiobank/results/REGENIE_results/results_imputed_data/2021_10_07_f3393_500K/*.snp_stats.gz\n",
    "unrelated_samples=~/UKBiobank/results/083021_PCA_results/090221_ldprun_unrelated/cache/UKB_genotypedatadownloaded083019.090221_sample_variant_qc_final_callrate90.filtered.extracted.europeans.filtered.090221_ldprun_unrelated.filtered.prune.txt\n",
    "extract_job_size=1\n",
    "formatFile_regenie=$USER_PATH/UKBB_GWAS_dev/data/regenie_template.yml\n",
    "container_lmm=$HOME/containers/lmm.sif\n",
    "\n",
    "extract_args=\"\"\"default\n",
    "    --cwd $extract_dir\n",
    "    --region-file $region_file\n",
    "    --pheno-path $phenoFile\n",
    "    --geno-path $geno_path\n",
    "    --bgen-sample-path $sampleFile\n",
    "    --sumstats-path $sumstats_path\n",
    "    --format-config-path $formatFile_regenie\n",
    "    --unrelated-samples $unrelated_samples\n",
    "    --job-size $extract_job_size\n",
    "    --container_lmm $container_lmm\n",
    "\"\"\"\n",
    "\n",
    "sos run ~/project/UKBB_GWAS_dev/admin/Get_Job_Script.ipynb csg \\\n",
    "    --template-file $tpl_file \\\n",
    "    --workflow-file $extract_sos \\\n",
    "    --to-script $extract_sbatch \\\n",
    "    --args \"$extract_args\""
   ]
  },
  {
   "cell_type": "markdown",
   "id": "7db137ab-b2ec-4e68-b4c9-1d9cf98b858c",
   "metadata": {
    "kernel": "Bash"
   },
   "source": [
    "### Run the fine-mapping for the imputed data"
   ]
  },
  {
   "cell_type": "code",
   "execution_count": null,
   "id": "85c6ed50-648f-4f39-bf4e-92b6267aeaa1",
   "metadata": {
    "kernel": "Bash"
   },
   "outputs": [],
   "source": [
    "module load Singularity\n",
    "sos run ~/project/bioworkflows_diana/fine-mapping/SuSiE_RSS_Diana.ipynb     default \\\n",
    "--cwd ~/test/MWE_region_extraction/Yin_test/impute \\\n",
    "--region_dir /home/dmc2245/test/MWE_region_extraction/Yin_test/impute\\\n",
    "--region_file ~/test/MWE_region_extraction/Yin_test/impute/impute_region_file.txt \\\n",
    "--sumstats_path /home/dmc2245/test/MWE_region_extraction/Yin_test/merge_exome_impute/100521_UKBB_Hearing_aid_f3393_expandedwhite_15601cases_237318ctrl_500k_PC1_PC2_f3393_regenie.snp_stats_5_272741_1213528.sumstats.gz \\\n",
    "--container_lmm /home/dmc2245/containers/lmm.sif \\\n",
    "--container_marp /home/dmc2245/containers/marp.sif"
   ]
  },
  {
   "cell_type": "code",
   "execution_count": 3,
   "id": "fd39d823-7b48-4c2a-920a-e77044dfbc3e",
   "metadata": {
    "kernel": "Bash"
   },
   "outputs": [
    {
     "data": {
      "text/html": [
       "<div class=\"sos_hint\">> /home/dmc2245/test/MWE_region_extraction/Yin_test/impute/5_272741_1213528.100521_UKBB_Hearing_aid_f3393_expandedwhite_15601cases_237318ctrl_500k_PC1_PC2_f3393_regenie.snp_stats_5_272741_1213528.SuSiE_RSS.png (83.3 KiB):</div>"
      ],
      "text/plain": [
       "\n",
       "> /home/dmc2245/test/MWE_region_extraction/Yin_test/impute/5_272741_1213528.100521_UKBB_Hearing_aid_f3393_expandedwhite_15601cases_237318ctrl_500k_PC1_PC2_f3393_regenie.snp_stats_5_272741_1213528.SuSiE_RSS.png (83.3 KiB):"
      ]
     },
     "metadata": {},
     "output_type": "display_data"
    },
    {
     "data": {
      "image/png": "[encoded data removed]"
     },
     "metadata": {
      "image/png": {}
     },
     "output_type": "display_data"
    },
    {
     "data": {
      "text/html": [
       "<div class=\"sos_hint\">> ~/test/MWE_region_extraction/Yin_test/impute/5_272741_1213528.100521_UKBB_Hearing_aid_f3393_expandedwhite_15601cases_237318ctrl_500k_PC1_PC2_f3393_regenie.snp_stats_5_272741_1213528.SuSiE_RSS.png:</div>"
      ],
      "text/plain": [
       ">>> ~/test/MWE_region_extraction/Yin_test/impute/5_272741_1213528.100521_UKBB_Hearing_aid_f3393_expandedwhite_15601cases_237318ctrl_500k_PC1_PC2_f3393_regenie.snp_stats_5_272741_1213528.SuSiE_RSS.png:\n"
      ]
     },
     "metadata": {},
     "output_type": "display_data"
    },
    {
     "name": "stdout",
     "output_type": "stream",
     "text": [
      "bash: /home/dmc2245/test/MWE_region_extraction/Yin_test/impute/5_272741_1213528.100521_UKBB_Hearing_aid_f3393_expandedwhite_15601cases_237318ctrl_500k_PC1_PC2_f3393_regenie.snp_stats_5_272741_1213528.SuSiE_RSS.png: Permission denied\n",
      "\n"
     ]
    }
   ],
   "source": [
    "%preview ~/test/MWE_region_extraction/Yin_test/impute/5_272741_1213528.100521_UKBB_Hearing_aid_f3393_expandedwhite_15601cases_237318ctrl_500k_PC1_PC2_f3393_regenie.snp_stats_5_272741_1213528.SuSiE_RSS.png"
   ]
  },
  {
   "cell_type": "code",
   "execution_count": null,
   "id": "ea3c0ee2-6718-4a88-9a51-fa609681c1ed",
   "metadata": {
    "kernel": "Bash"
   },
   "outputs": [],
   "source": [
    "module load Singularity\n",
    "sos run ~/project/bioworkflows_diana/fine-mapping/SuSiE_RSS_Diana.ipynb     default \\\n",
    "--cwd ~/test/MWE_region_extraction/Yin_test/merge_exome_impute \\\n",
    "--region_dir /home/dmc2245/test/MWE_region_extraction/Yin_test/merge_exome_impute\\\n",
    "--region_file ~/test/MWE_region_extraction/Yin_test/merge_exome_impute/exome_impute_region_file.txt \\\n",
    "--sumstats_path /home/dmc2245/test/MWE_region_extraction/Yin_test/merge_exome_impute/5_272741_1213528/100521_UKBB_Hearing_aid_f3393_expandedwhite_15601cases_237318ctrl_500k_PC1_PC2_f3393_regenie.snp_stats_5_272741_1213528.sumstats.gz \\\n",
    "--container_lmm /home/dmc2245/containers/lmm.sif \\\n",
    "--container_marp /home/dmc2245/containers/marp.sif"
   ]
  },
  {
   "cell_type": "markdown",
   "id": "12c962f3-12f1-4463-9932-121b5f34842e",
   "metadata": {
    "kernel": "Bash"
   },
   "source": [
    "# f.2247: Run the LD_clumping pipeline exome data"
   ]
  },
  {
   "cell_type": "code",
   "execution_count": null,
   "id": "6796460a-082b-4c1e-96b6-a2bc6474ddeb",
   "metadata": {
    "kernel": "Bash",
    "tags": []
   },
   "outputs": [],
   "source": [
    "cwd=$clumping_dir/092321_f2247_200Kexomes\n",
    "clumping_sbatch=$USER_PATH/UKBB_GWAS_dev/output/f2247_exome_ldclumping_$(date +\"%Y-%m-%d\").sbatch\n",
    "sumstatsFiles=$lmm_exome_dir_regenie/090921_f2247_hearing_difficulty_200K/*snp_stats.gz\n",
    "genoFile=`echo $UKBB_PATH/data/exome_files/project_VCF/072721_run/plink/ukb23156_c{1..22}.merged.filtered.bed`\n",
    "## Individuals from the subset of white individuals with exome data \n",
    "sampleFile=$UKBB_PATH/results/083021_PCA_results/europeans/cache/UKB_genotypedatadownloaded083019.090221_sample_variant_qc_final_callrate90.filtered.extracted.europeans.filtered.fam\n",
    "unrelated_samples=$UKBB_PATH/results/083021_PCA_results/090221_ldprun_unrelated/cache/UKB_genotypedatadownloaded083019.090221_sample_variant_qc_final_callrate90.filtered.extracted.europeans.filtered.090221_ldprun_unrelated.filtered.fam\n",
    "bfile_ref=$UKBB_PATH/results/LD_clumping/ref_files/ukb23156_c1_22.merged.filtered.2000.ref_geno.bed\n",
    "name_bref='ukb23156_c1_22.merged.filtered'\n",
    "ld_sample_size=2000\n",
    "clump_field=P\n",
    "clump_p1=5e-08\n",
    "clump_p2=1\n",
    "clump_r2=0.2\n",
    "clump_kb=2000\n",
    "clump_annotate=BP\n",
    "numThreads=20\n",
    "\n",
    "# Select samples filter_samples workflow & create reference file with reference workflow\n",
    "# Then use default workflow to run the LD clumping\n",
    "clumping_args=\"\"\"default\n",
    "    --cwd $cwd\n",
    "    --bfile_ref $bfile_ref \n",
    "    --genoFile $genoFile\n",
    "    --sampleFile $sampleFile \n",
    "    --sumstatsFiles $sumstatsFiles \n",
    "    --unrelated_samples $unrelated_samples \n",
    "    --name_bref $name_bref\n",
    "    --ld_sample_size $ld_sample_size \n",
    "    --clump_field $clump_field\n",
    "    --clump_p1 $clump_p1 \n",
    "    --clump_p2 $clump_p2 \n",
    "    --clump_r2 $clump_r2 \n",
    "    --clump_kb $clump_kb \n",
    "    --clump_annotate $clump_annotate \n",
    "    --numThreads $numThreads \n",
    "    --job_size $clump_job_size\n",
    "    --container_lmm $container_lmm\n",
    "\"\"\"\n",
    "\n",
    "sos run ~/project/UKBB_GWAS_dev/admin/Get_Job_Script.ipynb csg \\\n",
    "    --template-file $tpl_file \\\n",
    "    --workflow-file $clumping_sos \\\n",
    "    --to-script $clumping_sbatch \\\n",
    "    --args \"$clumping_args\""
   ]
  },
  {
   "cell_type": "markdown",
   "id": "329eb232-f898-4c78-9ca2-5343783ec454",
   "metadata": {
    "kernel": "Bash"
   },
   "source": [
    "## f.2247: Run the LD clumping in the imputed data"
   ]
  },
  {
   "cell_type": "code",
   "execution_count": 6,
   "id": "8aa9a93d-1293-4217-82ae-da644c0179bb",
   "metadata": {
    "kernel": "Bash"
   },
   "outputs": [
    {
     "name": "stdout",
     "output_type": "stream",
     "text": [
      "INFO: Running \u001b[32mcsg\u001b[0m: Configuration for Columbia csg partition cluster\n",
      "INFO: \u001b[32mcsg\u001b[0m is \u001b[32mcompleted\u001b[0m.\n",
      "INFO: \u001b[32mcsg\u001b[0m output:   \u001b[32m/home/dmc2245/project/UKBB_GWAS_dev/output/f2247_500_imp_ldclumping_2021-11-08.sbatch\u001b[0m\n",
      "INFO: Workflow csg (ID=wf3ebc73e7ad34ab2) is executed successfully with 1 completed step.\n",
      "\n"
     ]
    }
   ],
   "source": [
    "cwd=$clumping_dir/092321_f2247_500Kimputed\n",
    "clumping_sbatch=$USER_PATH/UKBB_GWAS_dev/output/f2247_500_imp_ldclumping_$(date +\"%Y-%m-%d\").sbatch\n",
    "sumstatsFiles=$lmm_imp_dir_regenie/2021_10_14_f2247_500K/*snp_stats.gz\n",
    "genoFile=`echo $UKBB_yale/ukb39554_imputeddataset/ukb_imp_chr{1..22}_v3.bgen`\n",
    "## Individuals from the subset of white individuals with imputed data.\n",
    "sampleFile=$UKBB_PATH/results/092821_PCA_results_500K/white_europeans/cache/UKB_genotypedatadownloaded083019.090221_sample_variant_qc_final_callrate90.filtered.extracted.white_europeans.filtered.fam\n",
    "## This file refers to the unrelated individuals\n",
    "unrelated_samples=$UKBB_PATH/results/092821_PCA_results_500K/092821_ldprun_unrelated/cache/UKB_genotypedatadownloaded083019.090221_sample_variant_qc_final_callrate90.filtered.extracted.white_europeans.filtered.092821_ldprun_unrelated.filtered.fam\n",
    "bfile_ref=$UKBB_PATH/results/LD_clumping/ref_files/ukb39554_c1_22_v3.imputed.2000.ref_geno.bed\n",
    "name_bref='ukb39554_c1_22_v3.imputed.2000.ref_geno'\n",
    "ld_sample_size=2000\n",
    "clump_field=P\n",
    "clump_p1=5e-08\n",
    "clump_p2=1\n",
    "clump_r2=0.2\n",
    "clump_kb=2000\n",
    "clump_annotate=BP\n",
    "numThreads=20\n",
    "\n",
    "# Select samples filter_samples workflow & create reference file with reference workflow\n",
    "# Then use default workflow to run the LD clumping\n",
    "clumping_args=\"\"\"default\n",
    "    --cwd $cwd\n",
    "    --bfile_ref $bfile_ref \n",
    "    --genoFile $genoFile\n",
    "    --sampleFile $sampleFile \n",
    "    --sumstatsFiles $sumstatsFiles \n",
    "    --unrelated_samples $unrelated_samples \n",
    "    --name_bref $name_bref\n",
    "    --ld_sample_size $ld_sample_size \n",
    "    --clump_field $clump_field\n",
    "    --clump_p1 $clump_p1 \n",
    "    --clump_p2 $clump_p2 \n",
    "    --clump_r2 $clump_r2 \n",
    "    --clump_kb $clump_kb \n",
    "    --clump_annotate $clump_annotate \n",
    "    --numThreads $numThreads \n",
    "    --job_size $clump_job_size\n",
    "    --container_lmm $container_lmm\n",
    "\"\"\"\n",
    "\n",
    "sos run ~/project/UKBB_GWAS_dev/admin/Get_Job_Script.ipynb csg \\\n",
    "    --template-file $tpl_file \\\n",
    "    --workflow-file $clumping_sos \\\n",
    "    --to-script $clumping_sbatch \\\n",
    "    --args \"$clumping_args\""
   ]
  },
  {
   "cell_type": "markdown",
   "id": "bad5e0c9-6845-46ae-8f08-b1d8ba690b19",
   "metadata": {
    "kernel": "Bash"
   },
   "source": [
    "## Run region extraction for f.2247 exome data"
   ]
  },
  {
   "cell_type": "code",
   "execution_count": 9,
   "id": "52f32560-bbe3-434b-a774-e74575b4b876",
   "metadata": {
    "kernel": "Bash"
   },
   "outputs": [
    {
     "name": "stdout",
     "output_type": "stream",
     "text": [
      "INFO: Running \u001b[32mcsg\u001b[0m: Configuration for Columbia csg partition cluster\n",
      "INFO: \u001b[32mcsg\u001b[0m is \u001b[32mcompleted\u001b[0m.\n",
      "INFO: \u001b[32mcsg\u001b[0m output:   \u001b[32m/home/dmc2245/test/MWE_region_extraction/f2247_exome_200K/f2247_exome_region_2021-11-02.sbatch\u001b[0m\n",
      "INFO: Workflow csg (ID=w32aa5da8719423b7) is executed successfully with 1 completed step.\n",
      "\n"
     ]
    }
   ],
   "source": [
    "# Note: no need to give the bgen_sample_path when using plink files \n",
    "UKBB_PATH=$HOME/UKBiobank\n",
    "USER_PATH=$HOME/project\n",
    "hearing_pheno_path=$UKBB_PATH/phenotype_files/hearing_impairment\n",
    "tpl_file=$USER_PATH/bioworkflows/admin/csg.yml\n",
    "phenoFile=$hearing_pheno_path/090321_UKBB_Hearing_difficulty_f2247_expandedwhite_45502cases_96601ctrl_PC1_2.tsv\n",
    "extract_dir=~/test/MWE_region_extraction/f2247_exome_200K\n",
    "extract_sos=~/project/bioworkflows/GWAS/Region_Extraction.ipynb\n",
    "extract_sbatch=~/test/MWE_region_extraction/f2247_exome_200K/f2247_exome_region_$(date +\"%Y-%m-%d\").sbatch\n",
    "region_file=~/UKBiobank/results/LD_clumping/092321_f2247_200Kexomes/090321_UKBB_Hearing_difficulty_f2247_expandedwhite_45502cases_96601ctrl_PC1_2_f2247.regenie.snp_stats.clumped_region\n",
    "geno_path=~/UKBiobank/data/exome_files/project_VCF/072721_run/plink/092321_UKBB_qc_exome_geno_path.txt\n",
    "sumstats_path=~/UKBiobank/results/REGENIE_results/results_exome_data/090921_f2247_hearing_difficulty_200K/090321_UKBB_Hearing_difficulty_f2247_expandedwhite_45502cases_96601ctrl_PC1_2_f2247.regenie.snp_stats.gz\n",
    "unrelated_samples=~/UKBiobank/results/083021_PCA_results/090221_ldprun_unrelated/cache/UKB_genotypedatadownloaded083019.090221_sample_variant_qc_final_callrate90.filtered.extracted.europeans.filtered.090221_ldprun_unrelated.filtered.prune.txt\n",
    "extract_job_size=1\n",
    "# No need to give format file here because the summary stats already have the required format\n",
    "##formatFile_regenie=$USER_PATH/UKBB_GWAS_dev/data/regenie_template.yml\n",
    "container_lmm=$HOME/containers/lmm.sif\n",
    "\n",
    "extract_args=\"\"\"default\n",
    "    --cwd $extract_dir\n",
    "    --region-file $region_file\n",
    "    --pheno-path $phenoFile\n",
    "    --geno-path $geno_path\n",
    "    --sumstats-path $sumstats_path\n",
    "    --format-config-path $formatFile_regenie\n",
    "    --unrelated-samples $unrelated_samples\n",
    "    --job-size $extract_job_size\n",
    "    --container_lmm $container_lmm\n",
    "\"\"\"\n",
    "\n",
    "sos run ~/project/UKBB_GWAS_dev/admin/Get_Job_Script.ipynb csg \\\n",
    "    --template-file $tpl_file \\\n",
    "    --workflow-file $extract_sos \\\n",
    "    --to-script $extract_sbatch \\\n",
    "    --args \"$extract_args\"\n"
   ]
  },
  {
   "cell_type": "markdown",
   "id": "5d0d89bd-4b9a-4c6d-a7a2-dcd777ad2203",
   "metadata": {
    "kernel": "Bash"
   },
   "source": [
    "## Run region extraction from Yin's pipeline"
   ]
  },
  {
   "cell_type": "markdown",
   "id": "967f0038-ab1f-40e2-9673-eb0ba766082a",
   "metadata": {
    "kernel": "Bash"
   },
   "source": [
    "### f.3393"
   ]
  },
  {
   "cell_type": "code",
   "execution_count": 37,
   "id": "4dbde2b0-12fd-4c55-99f7-bfa669dad2fd",
   "metadata": {
    "kernel": "Bash"
   },
   "outputs": [
    {
     "name": "stdout",
     "output_type": "stream",
     "text": [
      "INFO: Running \u001b[32mcsg\u001b[0m: Configuration for Columbia csg partition cluster\n",
      "INFO: \u001b[32mcsg\u001b[0m (index=0) is \u001b[32mignored\u001b[0m due to saved signature\n",
      "INFO: \u001b[32mcsg\u001b[0m output:   \u001b[32m/home/dmc2245/hearing/region_extraction/f3393_200exome_500imp_regionextr_2021-11-23.sbatch\u001b[0m\n",
      "INFO: Workflow csg (ID=w26b2dd8b0084ef2c) is ignored with 1 ignored step.\n",
      "\n"
     ]
    }
   ],
   "source": [
    "cwd=/mnt/mfs/statgen/UKBiobank/results/region_extraction/111921_f3393_200Kexomes_500Kimp    \\\n",
    "region_file=/home/dmc2245/UKBiobank/results/LD_clumping/092321_f3393_200Kexomes/090321_UKBB_Hearing_aid_f3393_expandedwhite_6436cases_96601ctrl_PC1_2_f3393.regenie.snp_stats.clumped_region    \\\n",
    "pheno_path=/home/dmc2245/UKBiobank/phenotype_files/hearing_impairment/090321_UKBB_Hearing_aid_f3393_expandedwhite_6436cases_96601ctrl_PC1_2.tsv   \\\n",
    "geno_path=/home/dmc2245/UKBiobank/data/exome_files/project_VCF/072721_run/plink/092321_UKBB_qc_exome_geno_path.txt   \\\n",
    "sumstats_path=/home/dmc2245/UKBiobank/results/REGENIE_results/results_exome_data/090921_f3393_hearing_aid_200K/*.snp_stats.gz     \\\n",
    "unrelated_samples=/home/dmc2245/UKBiobank/results/083021_PCA_results/090221_ldprun_unrelated/cache/UKB_genotypedatadownloaded083019.090221_sample_variant_qc_final_callrate90.filtered.extracted.europeans.filtered.090221_ldprun_unrelated.filtered.prune.txt  \\\n",
    "imp_geno_path=~/UKBiobank/results/LD_clumping/ref_files/102621_UKBB_bgenpath.txt \\\n",
    "imp_sumstats_path=~/UKBiobank/results/REGENIE_results/results_imputed_data/2021_10_07_f3393_500K/100521_UKBB_Hearing_aid_f3393_expandedwhite_15601cases_237318ctrl_500k_PC1_PC2_f3393.regenie.snp_stats.gz \\\n",
    "imp_ref='hg19'\n",
    "extract_sos=~/project/UKBB_GWAS_dev/workflow/LD_merged_exo_imp.ipynb\n",
    "extract_sbatch=~/hearing/region_extraction/f3393_200exome_500imp_regionextr_$(date +\"%Y-%m-%d\").sbatch\n",
    "bgen_sample_path=~/UKBiobank_Yale_transfer/ukb39554_imputeddataset/ukb32285_imputedindiv.sample\n",
    "\n",
    "extract_args=\"\"\"default    \n",
    "    --cwd $cwd   \n",
    "    --region-file $region_file   \n",
    "    --pheno-path $pheno_path  \n",
    "    --geno-path  $geno_path \n",
    "    --sumstats-path  $sumstats_path  \n",
    "    --unrelated-samples $unrelated_samples \n",
    "    --imp-geno-path $imp_geno_path\n",
    "    --imp-sumstats-path $imp_sumstats_path \n",
    "    --imp-ref $imp_ref \n",
    "    --job-size 1\n",
    "    --bgen_sample_path $bgen_sample_path\n",
    "\"\"\"\n",
    "\n",
    "sos run ~/project/UKBB_GWAS_dev/admin/Get_Job_Script.ipynb csg \\\n",
    "    --template-file $tpl_file \\\n",
    "    --workflow-file $extract_sos \\\n",
    "    --to-script $extract_sbatch \\\n",
    "    --args \"$extract_args\""
   ]
  },
  {
   "cell_type": "markdown",
   "id": "f1d8123b-03b9-448b-9d2a-fe27cdb17808",
   "metadata": {
    "kernel": "Bash"
   },
   "source": [
    "### f.2247"
   ]
  },
  {
   "cell_type": "code",
   "execution_count": 38,
   "id": "bc91f87f-d513-452c-b627-0e6f457a07d9",
   "metadata": {
    "kernel": "Bash"
   },
   "outputs": [
    {
     "name": "stdout",
     "output_type": "stream",
     "text": [
      "INFO: Running \u001b[32mcsg\u001b[0m: Configuration for Columbia csg partition cluster\n",
      "INFO: \u001b[32mcsg\u001b[0m is \u001b[32mcompleted\u001b[0m.\n",
      "INFO: \u001b[32mcsg\u001b[0m output:   \u001b[32m/home/dmc2245/hearing/region_extraction/f2247_200exome_500imp_regionextr_2021-11-23.sbatch\u001b[0m\n",
      "INFO: Workflow csg (ID=wb6c70ec19e2caac6) is executed successfully with 1 completed step.\n",
      "\n"
     ]
    }
   ],
   "source": [
    "cwd=/mnt/mfs/statgen/UKBiobank/results/region_extraction/111921_f2247_200Kexomes_500Kimp\n",
    "region_file=/home/dmc2245/UKBiobank/results/LD_clumping/092321_f2247_200Kexomes/090321_UKBB_Hearing_difficulty_f2247_expandedwhite_45502cases_96601ctrl_PC1_2_f2247.regenie.snp_stats.clumped_region\n",
    "pheno_path=/home/dmc2245/UKBiobank/phenotype_files/hearing_impairment/090321_UKBB_Hearing_difficulty_f2247_expandedwhite_45502cases_96601ctrl_PC1_2.tsv\n",
    "geno_path=/home/dmc2245/UKBiobank/data/exome_files/project_VCF/072721_run/plink/092321_UKBB_qc_exome_geno_path.txt \n",
    "sumstats_path=/home/dmc2245/UKBiobank/results/REGENIE_results/results_exome_data/090921_f2247_hearing_difficulty_200K/*.snp_stats.gz \n",
    "unrelated_samples=/home/dmc2245/UKBiobank/results/083021_PCA_results/090221_ldprun_unrelated/cache/UKB_genotypedatadownloaded083019.090221_sample_variant_qc_final_callrate90.filtered.extracted.europeans.filtered.090221_ldprun_unrelated.filtered.prune.txt \n",
    "imp_geno_path=~/UKBiobank/results/LD_clumping/ref_files/102621_UKBB_bgenpath.txt\n",
    "imp_sumstats_path=~/UKBiobank/results/REGENIE_results/results_imputed_data/2021_10_07_f2247_500K/*.snp_stats.gz\n",
    "imp_ref='hg19'\n",
    "extract_sos=~/project/UKBB_GWAS_dev/workflow/LD_merged_exo_imp.ipynb\n",
    "extract_sbatch=~/hearing/region_extraction/f2247_200exome_500imp_regionextr_$(date +\"%Y-%m-%d\").sbatch\n",
    "mem='120G'\n",
    "bgen_sample_path=~/UKBiobank_Yale_transfer/ukb39554_imputeddataset/ukb32285_imputedindiv.sample\n",
    "\n",
    "extract_args=\"\"\"default    \n",
    "    --cwd $cwd   \n",
    "    --region-file $region_file   \n",
    "    --pheno-path $pheno_path  \n",
    "    --geno-path  $geno_path \n",
    "    --sumstats-path  $sumstats_path  \n",
    "    --unrelated-samples $unrelated_samples \n",
    "    --imp-geno-path $imp_geno_path\n",
    "    --imp-sumstats-path $imp_sumstats_path \n",
    "    --imp-ref $imp_ref \n",
    "    --job-size 1\n",
    "    --bgen_sample_path $bgen_sample_path\n",
    "    --mem $mem\n",
    "\"\"\"\n",
    "\n",
    "sos run ~/project/UKBB_GWAS_dev/admin/Get_Job_Script.ipynb csg \\\n",
    "    --template-file $tpl_file \\\n",
    "    --workflow-file $extract_sos \\\n",
    "    --to-script $extract_sbatch \\\n",
    "    --args \"$extract_args\""
   ]
  },
  {
   "cell_type": "markdown",
   "id": "94347d09-68a3-40c0-8e0e-6443cf7f5410",
   "metadata": {
    "kernel": "Bash"
   },
   "source": [
    "### f.2257"
   ]
  },
  {
   "cell_type": "code",
   "execution_count": 39,
   "id": "96cd0d01-e641-434d-9098-5b48b76dd550",
   "metadata": {
    "kernel": "Bash"
   },
   "outputs": [
    {
     "name": "stdout",
     "output_type": "stream",
     "text": [
      "INFO: Running \u001b[32mcsg\u001b[0m: Configuration for Columbia csg partition cluster\n",
      "INFO: \u001b[32mcsg\u001b[0m is \u001b[32mcompleted\u001b[0m.\n",
      "INFO: \u001b[32mcsg\u001b[0m output:   \u001b[32m/home/dmc2245/hearing/region_extraction/f2257_200exome_500imp_regionextr_2021-11-23.sbatch\u001b[0m\n",
      "INFO: Workflow csg (ID=wd0f4844fe6b7e2b2) is executed successfully with 1 completed step.\n",
      "\n"
     ]
    }
   ],
   "source": [
    "cwd=/mnt/mfs/statgen/UKBiobank/results/region_extraction/111921_f2257_200Kexomes_500Kimp   \\\n",
    "region_file=/home/dmc2245/UKBiobank/results/LD_clumping/092321_f2257_200Kexomes/090321_UKBB_Hearing_noise_f2257_expandedwhite_65660cases_96601ctrl_PC1_2_f2257.regenie.snp_stats.clumped_region   \\\n",
    "pheno_path=/home/dmc2245/UKBiobank/phenotype_files/hearing_impairment/090321_UKBB_Hearing_noise_f2257_expandedwhite_65660cases_96601ctrl_PC1_2.tsv \\\n",
    "geno_path=/home/dmc2245/UKBiobank/data/exome_files/project_VCF/072721_run/plink/092321_UKBB_qc_exome_geno_path.txt   \\\n",
    "sumstats_path=/home/dmc2245/UKBiobank/results/REGENIE_results/results_exome_data/090921_f2257_hearing_noise_200K/*.snp_stats.gz     \\\n",
    "unrelated_samples=/home/dmc2245/UKBiobank/results/083021_PCA_results/090221_ldprun_unrelated/cache/UKB_genotypedatadownloaded083019.090221_sample_variant_qc_final_callrate90.filtered.extracted.europeans.filtered.090221_ldprun_unrelated.filtered.prune.txt  \\\n",
    "imp_geno_path=~/UKBiobank/results/LD_clumping/ref_files/102621_UKBB_bgenpath.txt \\\n",
    "imp_sumstats_path=~/UKBiobank/results/REGENIE_results/results_imputed_data/2021_10_07_f2257_500K/*.snp_stats.gz \n",
    "imp_ref='hg19'\n",
    "extract_sos=~/project/UKBB_GWAS_dev/workflow/LD_merged_exo_imp.ipynb\n",
    "extract_sbatch=~/hearing/region_extraction/f2257_200exome_500imp_regionextr_$(date +\"%Y-%m-%d\").sbatch\n",
    "bgen_sample_path=~/UKBiobank_Yale_transfer/ukb39554_imputeddataset/ukb32285_imputedindiv.sample\n",
    "\n",
    "extract_args=\"\"\"default    \n",
    "    --cwd $cwd   \n",
    "    --region-file $region_file   \n",
    "    --pheno-path $pheno_path  \n",
    "    --geno-path  $geno_path \n",
    "    --sumstats-path  $sumstats_path  \n",
    "    --unrelated-samples $unrelated_samples \n",
    "    --imp-geno-path $imp_geno_path\n",
    "    --imp-sumstats-path $imp_sumstats_path \n",
    "    --imp-ref $imp_ref \n",
    "    --job-size 1\n",
    "    --bgen_sample_path $bgen_sample_path\n",
    "\"\"\"\n",
    "\n",
    "sos run ~/project/UKBB_GWAS_dev/admin/Get_Job_Script.ipynb csg \\\n",
    "    --template-file $tpl_file \\\n",
    "    --workflow-file $extract_sos \\\n",
    "    --to-script $extract_sbatch \\\n",
    "    --args \"$extract_args\"\n"
   ]
  },
  {
   "cell_type": "markdown",
   "id": "65564989-9913-4446-b687-37c739cf7f41",
   "metadata": {
    "kernel": "Bash"
   },
   "source": [
    "### Combined"
   ]
  },
  {
   "cell_type": "code",
   "execution_count": 40,
   "id": "697b56e2-3cbc-4709-8b2e-1b392dc752de",
   "metadata": {
    "kernel": "Bash"
   },
   "outputs": [
    {
     "name": "stdout",
     "output_type": "stream",
     "text": [
      "INFO: Running \u001b[32mcsg\u001b[0m: Configuration for Columbia csg partition cluster\n",
      "INFO: \u001b[32mcsg\u001b[0m is \u001b[32mcompleted\u001b[0m.\n",
      "INFO: \u001b[32mcsg\u001b[0m output:   \u001b[32m/home/dmc2245/hearing/region_extraction/combined_200exome_500imp_regionextr_2021-11-23.sbatch\u001b[0m\n",
      "INFO: Workflow csg (ID=wf0a1768428621df4) is executed successfully with 1 completed step.\n",
      "\n"
     ]
    }
   ],
   "source": [
    "cwd=/mnt/mfs/statgen/UKBiobank/results/region_extraction/111921_f2247_f2257_200Kexomes_500Kimp   \\\n",
    "region_file=/home/dmc2245/UKBiobank/results/LD_clumping/092321_combined_200Kexomes/090321_UKBB_Combined_f2247_f2257_expandedwhite_38410cases_96601ctrl_PC1_2_f2247_f2257.regenie.snp_stats.clumped_region \\\n",
    "pheno_path=/home/dmc2245/UKBiobank/phenotype_files/hearing_impairment/090321_UKBB_Combined_f2247_f2257_expandedwhite_38410cases_96601ctrl_PC1_2.tsv  \\\n",
    "geno_path=/home/dmc2245/UKBiobank/data/exome_files/project_VCF/072721_run/plink/092321_UKBB_qc_exome_geno_path.txt   \\\n",
    "sumstats_path=/home/dmc2245/UKBiobank/results/REGENIE_results/results_exome_data/090921_combined_f2247_f2257_200K/*.snp_stats.gz     \\\n",
    "unrelated_samples=/home/dmc2245/UKBiobank/results/083021_PCA_results/090221_ldprun_unrelated/cache/UKB_genotypedatadownloaded083019.090221_sample_variant_qc_final_callrate90.filtered.extracted.europeans.filtered.090221_ldprun_unrelated.filtered.prune.txt  \\\n",
    "imp_geno_path=~/UKBiobank/results/LD_clumping/ref_files/102621_UKBB_bgenpath.txt \\\n",
    "imp_sumstats_path=~/UKBiobank/results/REGENIE_results/results_imputed_data/2021_10_07_combined_500K/*.snp_stats.gz \\\n",
    "imp_ref='hg19'\n",
    "extract_sos=~/project/UKBB_GWAS_dev/workflow/LD_merged_exo_imp.ipynb\n",
    "extract_sbatch=~/hearing/region_extraction/combined_200exome_500imp_regionextr_$(date +\"%Y-%m-%d\").sbatch\n",
    "bgen_sample_path=~/UKBiobank_Yale_transfer/ukb39554_imputeddataset/ukb32285_imputedindiv.sample\n",
    "mem='120G'\n",
    "\n",
    "extract_args=\"\"\"default    \n",
    "    --cwd $cwd   \n",
    "    --region-file $region_file   \n",
    "    --pheno-path $pheno_path  \n",
    "    --geno-path  $geno_path \n",
    "    --sumstats-path  $sumstats_path  \n",
    "    --unrelated-samples $unrelated_samples \n",
    "    --imp-geno-path $imp_geno_path\n",
    "    --imp-sumstats-path $imp_sumstats_path \n",
    "    --imp-ref $imp_ref \n",
    "    --job-size 1\n",
    "    --bgen_sample_path $bgen_sample_path\n",
    "    --mem $mem\n",
    "\"\"\"\n",
    "\n",
    "sos run ~/project/UKBB_GWAS_dev/admin/Get_Job_Script.ipynb csg \\\n",
    "    --template-file $tpl_file \\\n",
    "    --workflow-file $extract_sos \\\n",
    "    --to-script $extract_sbatch \\\n",
    "    --args \"$extract_args\""
   ]
  },
  {
   "cell_type": "markdown",
   "id": "a11372db-f774-41df-b7e7-a2856bc861cc",
   "metadata": {
    "kernel": "Bash"
   },
   "source": [
    "## Fix problems with region extraction: create a MWE from chr 5 "
   ]
  },
  {
   "cell_type": "code",
   "execution_count": null,
   "id": "29637596-fab8-4236-91e2-16c3c5726cd5",
   "metadata": {
    "kernel": "Bash"
   },
   "outputs": [],
   "source": [
    "qctool -g /mnt/mfs/statgen/archive/UKBiobank_Yale_transfer/ukb39554_imputeddataset/ukb_imp_chr5_v3.bgen -og /home/dmc2245/test/region_extract/ukb_imp_5_v3_chr5_73072354_73144845.bgen  \\\n",
    "-incl-range 05:73072354-73144845"
   ]
  },
  {
   "cell_type": "code",
   "execution_count": null,
   "id": "915717e4-3b57-4cac-a4c6-1220d22be3e0",
   "metadata": {
    "kernel": "Bash"
   },
   "outputs": [],
   "source": [
    "## Test\n",
    "\n",
    "export PATH=$HOME/miniconda3/bin:$PATH\n",
    "module load Singularity/3.5.3\n",
    "sos run /home/dmc2245/project/UKBB_GWAS_dev/workflow/RegionExtraction_LDmatrix.ipynb \\\n",
    "    default    \\\n",
    "    --cwd ~/test/region_extract   \\\n",
    "    --region-file ~/test/region_extract/test_chr5_73072354_73144845  \\\n",
    "    --pheno-path /home/dmc2245/UKBiobank/phenotype_files/hearing_impairment/090321_UKBB_Hearing_aid_f3393_expandedwhite_6436cases_96601ctrl_PC1_2.tsv  \\\n",
    "    --geno-path  /home/dmc2245/UKBiobank/data/exome_files/project_VCF/072721_run/plink/092321_UKBB_qc_exome_geno_path.txt \\\n",
    "    --sumstats-path  /home/dmc2245/UKBiobank/results/REGENIE_results/results_exome_data/090921_f3393_hearing_aid_200K/*.snp_stats.gz  \\\n",
    "    --unrelated-samples /home/dmc2245/UKBiobank/results/083021_PCA_results/090221_ldprun_unrelated/cache/UKB_genotypedatadownloaded083019.090221_sample_variant_qc_final_callrate90.filtered.extracted.europeans.filtered.090221_ldprun_unrelated.filtered.prune.txt \\\n",
    "    --imp-geno-path ~/test/region_extract/bgen_path.txt\\\n",
    "    --imp-sumstats-path /home/dmc2245/UKBiobank/results/REGENIE_results/results_imputed_data/2021_10_07_f3393_500K/100521_UKBB_Hearing_aid_f3393_expandedwhite_15601cases_237318ctrl_500k_PC1_PC2_f3393.regenie.snp_stats.gz \\\n",
    "    --imp-ref hg19 \\\n",
    "    --job-size 1\\\n",
    "    --bgen_sample_path /home/dmc2245/UKBiobank_Yale_transfer/ukb39554_imputeddataset/ukb32285_imputedindiv.sample"
   ]
  },
  {
   "cell_type": "code",
   "execution_count": null,
   "id": "e956b573-fed1-4709-8b39-3a109311d60a",
   "metadata": {
    "kernel": "Bash"
   },
   "outputs": [],
   "source": []
  },
  {
   "cell_type": "markdown",
   "id": "c5292e6c-1ea6-45cd-9b18-3dc446516c17",
   "metadata": {
    "kernel": "Bash"
   },
   "source": [
    "### f.2247 regions in hg38\n",
    "\n",
    "```\n",
    "chr1:45508256-46132601\n",
    "chr5:272741-1213528\n",
    "chr5:73776529-73864905\n",
    "chr6:43301291-43433367\n",
    "chr7:73435848-73606007\n",
    "chr22:37945127-38139939\n",
    "chr22:50519304-50549676\n",
    "```\n",
    "\n",
    "### f.2247 regions in hg19\n",
    "```\n",
    "chr1:45973928-46598273\n",
    "chr5:272856-1213643\n",
    "chr5:73072354-73160730\n",
    "chr6:43269029-43401105\n",
    "chr7:72850178-73020337\n",
    "chr22:38341134-38535946\n",
    "chr22:50957733-50988105\n",
    "```\n",
    "\n",
    "### Extract regions to run region extraction pipeline"
   ]
  },
  {
   "cell_type": "code",
   "execution_count": null,
   "id": "c624085f-860c-401b-a09c-74cc74fa0499",
   "metadata": {
    "kernel": "Bash"
   },
   "outputs": [],
   "source": [
    "#!/bin/sh\n",
    "#$ -l h_rt=36:00:00\n",
    "#$ -l h_vmem=80G\n",
    "#$ -N qctool_extract\n",
    "#$ -o /home/dmc2245/hearing/qctool_extract$JOB_ID.out\n",
    "#$ -e /home/dmc2245/hearing/qctool_extract$JOB_ID.err\n",
    "#$ -j y\n",
    "#$ -q csg.q\n",
    "#$ -S /bin/bash\n",
    "\n",
    "export PATH=$HOME/miniconda3/bin:$PATH\n",
    "module load Qctool/2.0.8\n",
    "\n",
    "qctool \\\n",
    "-g /mnt/mfs/statgen/archive/UKBiobank_Yale_transfer/ukb39554_imputeddataset/ukb_imp_chr1_v3.bgen \\\n",
    "-og /home/dmc2245/test/region_extract/ukb_imp_1_v3_chr1_45973928_46598273.bgen  \\\n",
    "-incl-range 01:45973928-46598273 &> ukb_imp_1_v3_chr1_45973928_46598273.log\n",
    "bgenix -g ukb_imp_1_v3_chr1_45973928_46598273.bgen -index\n",
    "\n",
    "qctool \\\n",
    "-g /mnt/mfs/statgen/archive/UKBiobank_Yale_transfer/ukb39554_imputeddataset/ukb_imp_chr5_v3.bgen \\\n",
    "-og /home/dmc2245/test/region_extract/ukb_imp_5_v3_chr5_73072354_73144845.bgen  \\\n",
    "-incl-range 05:73072354-73144845 &> ukb_imp_5_v3_chr5_73072354_73144845.log\n",
    "bgenix -g ukb_imp_5_v3_chr5_73072354_73144845.bgen -index \n",
    "\n",
    "qctool \\\n",
    "-g /mnt/mfs/statgen/archive/UKBiobank_Yale_transfer/ukb39554_imputeddataset/ukb_imp_chr5_v3.bgen \\\n",
    "-og /home/dmc2245/test/region_extract/ukb_imp_5_v3_chr5_272856_1213643.bgen  \\\n",
    "-incl-range 05:272856-1213643  &> ukb_imp_5_v3_chr5_272856_1213643.log\n",
    "\n",
    "bgenix -g ukb_imp_5_v3_chr5_272856_1213643.bgen -index \n",
    "\n",
    "qctool \\\n",
    "-g /mnt/mfs/statgen/archive/UKBiobank_Yale_transfer/ukb39554_imputeddataset/ukb_imp_chr6_v3.bgen \\\n",
    "-og /home/dmc2245/test/region_extract/ukb_imp_6_v3_chr6_43269029_43401105.bgen  \\\n",
    "-incl-range 06:43269029-43401105 &> ukb_imp_6_v3_chr6_43269029_43401105.log\n",
    "\n",
    "bgenix -g ukb_imp_6_v3_chr6_43269029_43401105.bgen -index \n",
    "\n",
    "qctool \\\n",
    "-g /mnt/mfs/statgen/archive/UKBiobank_Yale_transfer/ukb39554_imputeddataset/ukb_imp_chr7_v3.bgen \\\n",
    "-og /home/dmc2245/test/region_extract/ukb_imp_7_v3_chr7_72850178_73020337.bgen  \\\n",
    "-incl-range 07:72850178-73020337 &> ukb_imp_7_v3_chr7_72850178_73020337.log\n",
    "\n",
    "bgenix -g ukb_imp_7_v3_chr7_72850178_73020337.bgen -index \n",
    "\n",
    "qctool \\\n",
    "-g /mnt/mfs/statgen/archive/UKBiobank_Yale_transfer/ukb39554_imputeddataset/ukb_imp_chr22_v3.bgen \\\n",
    "-og /home/dmc2245/test/region_extract/ukb_imp_22_v3_chr22_38341134_38535946.bgen  \\\n",
    "-incl-range 22:38341134-38535946 &> ukb_imp_22_v3_chr22_38341134_38535946.log\n",
    "    \n",
    "bgenix -g ukb_imp_22_v3_chr22_38341134_38535946.bgen -index \n",
    "\n",
    "qctool \\\n",
    "-g /mnt/mfs/statgen/archive/UKBiobank_Yale_transfer/ukb39554_imputeddataset/ukb_imp_chr22_v3.bgen \\\n",
    "-og /home/dmc2245/test/region_extract/ukb_imp_22_v3_chr22_50957733_50988105.bgen  \\\n",
    "-incl-range 22:50957733-50988105 &> ukb_imp_22_v3_chr22_50957733_50988105.log\n",
    "    \n",
    "bgenix -g ukb_imp_22_v3_chr22_50957733_50988105.bgen -index "
   ]
  },
  {
   "cell_type": "code",
   "execution_count": 3,
   "id": "9f50819c-50c5-4a1a-a12e-fba3d87a3375",
   "metadata": {
    "kernel": "Bash"
   },
   "outputs": [
    {
     "name": "stdout",
     "output_type": "stream",
     "text": [
      "INFO: Running \u001b[32mcsg\u001b[0m: Configuration for Columbia csg partition cluster\n",
      "INFO: \u001b[32mcsg\u001b[0m is \u001b[32mcompleted\u001b[0m.\n",
      "INFO: \u001b[32mcsg\u001b[0m output:   \u001b[32m/home/dmc2245/hearing/region_extraction/chr5_272856_1213643_2021-11-30.sbatch\u001b[0m\n",
      "INFO: Workflow csg (ID=w74831e7bfbdd3912) is executed successfully with 1 completed step.\n",
      "\n"
     ]
    }
   ],
   "source": [
    "cwd=~/test/region_extract\n",
    "region='05:272856-1213643'\n",
    "namereg='chr5_272856_1213643'\n",
    "sos_qctool=~/project/UKBB_GWAS_dev/workflow/qctool_extract_region.ipynb\n",
    "genoFile=/mnt/mfs/statgen/archive/UKBiobank_Yale_transfer/ukb39554_imputeddataset/ukb_imp_chr5_v3.bgen\n",
    "extract_sbatch=~/hearing/region_extraction/chr5_272856_1213643_$(date +\"%Y-%m-%d\").sbatch\n",
    "\n",
    "extract_args=\"\"\" qctool \\\n",
    "    --cwd $cwd \n",
    "    --region $region\n",
    "    --namereg $namereg\n",
    "    --genoFile $genoFile\n",
    "\"\"\"\n",
    "sos run ~/project/UKBB_GWAS_dev/admin/Get_Job_Script.ipynb csg \\\n",
    "    --template-file $tpl_file \\\n",
    "    --workflow-file $sos_qctool \\\n",
    "    --to-script $extract_sbatch \\\n",
    "    --args \"$extract_args\""
   ]
  },
  {
   "cell_type": "code",
   "execution_count": 4,
   "id": "5a41425f-b0c5-46ba-aa15-9ad80f9eeb7e",
   "metadata": {
    "kernel": "Bash"
   },
   "outputs": [
    {
     "name": "stdout",
     "output_type": "stream",
     "text": [
      "INFO: Running \u001b[32mcsg\u001b[0m: Configuration for Columbia csg partition cluster\n",
      "INFO: \u001b[32mcsg\u001b[0m is \u001b[32mcompleted\u001b[0m.\n",
      "INFO: \u001b[32mcsg\u001b[0m output:   \u001b[32m/home/dmc2245/hearing/region_extraction/chr6_43269029_43401105_2021-11-30.sbatch\u001b[0m\n",
      "INFO: Workflow csg (ID=w6a5cfdd988d73818) is executed successfully with 1 completed step.\n",
      "\n"
     ]
    }
   ],
   "source": [
    "cwd=~/test/region_extract\n",
    "region='06:43269029-43401105'\n",
    "namereg='chr6_43269029_43401105'\n",
    "sos_qctool=~/project/UKBB_GWAS_dev/workflow/qctool_extract_region.ipynb\n",
    "genoFile=/mnt/mfs/statgen/archive/UKBiobank_Yale_transfer/ukb39554_imputeddataset/ukb_imp_chr6_v3.bgen\n",
    "extract_sbatch=~/hearing/region_extraction/chr6_43269029_43401105_$(date +\"%Y-%m-%d\").sbatch\n",
    "\n",
    "extract_args=\"\"\" qctool \\\n",
    "    --cwd $cwd \n",
    "    --region $region\n",
    "    --namereg $namereg\n",
    "    --genoFile $genoFile\n",
    "\"\"\"\n",
    "sos run ~/project/UKBB_GWAS_dev/admin/Get_Job_Script.ipynb csg \\\n",
    "    --template-file $tpl_file \\\n",
    "    --workflow-file $sos_qctool \\\n",
    "    --to-script $extract_sbatch \\\n",
    "    --args \"$extract_args\""
   ]
  },
  {
   "cell_type": "code",
   "execution_count": 5,
   "id": "1a459390-9e4a-4ce5-bd08-4f7ee973f7dc",
   "metadata": {
    "kernel": "Bash"
   },
   "outputs": [
    {
     "name": "stdout",
     "output_type": "stream",
     "text": [
      "INFO: Running \u001b[32mcsg\u001b[0m: Configuration for Columbia csg partition cluster\n",
      "INFO: \u001b[32mcsg\u001b[0m is \u001b[32mcompleted\u001b[0m.\n",
      "INFO: \u001b[32mcsg\u001b[0m output:   \u001b[32m/home/dmc2245/hearing/region_extraction/chr7_72850178_73020337_2021-11-30.sbatch\u001b[0m\n",
      "INFO: Workflow csg (ID=w6060fe79782b3120) is executed successfully with 1 completed step.\n",
      "\n"
     ]
    }
   ],
   "source": [
    "cwd=~/test/region_extract\n",
    "region='07:72850178-73020337'\n",
    "namereg='chr7_72850178_73020337'\n",
    "sos_qctool=~/project/UKBB_GWAS_dev/workflow/qctool_extract_region.ipynb\n",
    "genoFile=/mnt/mfs/statgen/archive/UKBiobank_Yale_transfer/ukb39554_imputeddataset/ukb_imp_chr7_v3.bgen\n",
    "extract_sbatch=~/hearing/region_extraction/chr7_72850178_73020337_$(date +\"%Y-%m-%d\").sbatch\n",
    "\n",
    "extract_args=\"\"\" qctool \\\n",
    "    --cwd $cwd \n",
    "    --region $region\n",
    "    --namereg $namereg\n",
    "    --genoFile $genoFile\n",
    "\"\"\"\n",
    "sos run ~/project/UKBB_GWAS_dev/admin/Get_Job_Script.ipynb csg \\\n",
    "    --template-file $tpl_file \\\n",
    "    --workflow-file $sos_qctool \\\n",
    "    --to-script $extract_sbatch \\\n",
    "    --args \"$extract_args\""
   ]
  },
  {
   "cell_type": "code",
   "execution_count": 6,
   "id": "78ba8ab8-b353-4b11-a1b6-fbcc8b2565af",
   "metadata": {
    "kernel": "Bash"
   },
   "outputs": [
    {
     "name": "stdout",
     "output_type": "stream",
     "text": [
      "INFO: Running \u001b[32mcsg\u001b[0m: Configuration for Columbia csg partition cluster\n",
      "INFO: \u001b[32mcsg\u001b[0m is \u001b[32mcompleted\u001b[0m.\n",
      "INFO: \u001b[32mcsg\u001b[0m output:   \u001b[32m/home/dmc2245/hearing/region_extraction/chr22_38341134_38535946_2021-11-30.sbatch\u001b[0m\n",
      "INFO: Workflow csg (ID=w855ba145e01d7f1d) is executed successfully with 1 completed step.\n",
      "\n"
     ]
    }
   ],
   "source": [
    "cwd=~/test/region_extract\n",
    "region='22:38341134-38535946'\n",
    "namereg='chr22_38341134_38535946'\n",
    "sos_qctool=~/project/UKBB_GWAS_dev/workflow/qctool_extract_region.ipynb\n",
    "genoFile=/mnt/mfs/statgen/archive/UKBiobank_Yale_transfer/ukb39554_imputeddataset/ukb_imp_chr22_v3.bgen\n",
    "extract_sbatch=~/hearing/region_extraction/chr22_38341134_38535946_$(date +\"%Y-%m-%d\").sbatch\n",
    "\n",
    "extract_args=\"\"\" qctool \\\n",
    "    --cwd $cwd \n",
    "    --region $region\n",
    "    --namereg $namereg\n",
    "    --genoFile $genoFile\n",
    "\"\"\"\n",
    "sos run ~/project/UKBB_GWAS_dev/admin/Get_Job_Script.ipynb csg \\\n",
    "    --template-file $tpl_file \\\n",
    "    --workflow-file $sos_qctool \\\n",
    "    --to-script $extract_sbatch \\\n",
    "    --args \"$extract_args\""
   ]
  },
  {
   "cell_type": "code",
   "execution_count": 7,
   "id": "7f2334e1-8296-4187-b036-7ee46cdd0522",
   "metadata": {
    "kernel": "Bash"
   },
   "outputs": [
    {
     "name": "stdout",
     "output_type": "stream",
     "text": [
      "INFO: Running \u001b[32mcsg\u001b[0m: Configuration for Columbia csg partition cluster\n",
      "INFO: \u001b[32mcsg\u001b[0m is \u001b[32mcompleted\u001b[0m.\n",
      "INFO: \u001b[32mcsg\u001b[0m output:   \u001b[32m/home/dmc2245/hearing/region_extraction/chr22_50957733_50988105_2021-11-30.sbatch\u001b[0m\n",
      "INFO: Workflow csg (ID=wf342b1013db3eb0f) is executed successfully with 1 completed step.\n",
      "\n"
     ]
    }
   ],
   "source": [
    "cwd=~/test/region_extract\n",
    "region='22:50957733-50988105'\n",
    "namereg='chr22_50957733_50988105'\n",
    "sos_qctool=~/project/UKBB_GWAS_dev/workflow/qctool_extract_region.ipynb\n",
    "genoFile=/mnt/mfs/statgen/archive/UKBiobank_Yale_transfer/ukb39554_imputeddataset/ukb_imp_chr22_v3.bgen\n",
    "extract_sbatch=~/hearing/region_extraction/chr22_50957733_50988105_$(date +\"%Y-%m-%d\").sbatch\n",
    "\n",
    "extract_args=\"\"\" qctool \\\n",
    "    --cwd $cwd \n",
    "    --region $region\n",
    "    --namereg $namereg\n",
    "    --genoFile $genoFile\n",
    "\"\"\"\n",
    "sos run ~/project/UKBB_GWAS_dev/admin/Get_Job_Script.ipynb csg \\\n",
    "    --template-file $tpl_file \\\n",
    "    --workflow-file $sos_qctool \\\n",
    "    --to-script $extract_sbatch \\\n",
    "    --args \"$extract_args\""
   ]
  },
  {
   "cell_type": "markdown",
   "id": "3941e83c-ceee-40be-acac-cd3dcd285dee",
   "metadata": {
    "kernel": "Bash"
   },
   "source": [
    "### Test the region extraction pipeline with a MWE on chromosome 5"
   ]
  },
  {
   "cell_type": "code",
   "execution_count": 10,
   "id": "e5166c4f-e951-420f-832e-123aea2cb347",
   "metadata": {
    "kernel": "Bash"
   },
   "outputs": [
    {
     "name": "stdout",
     "output_type": "stream",
     "text": [
      "INFO: Running \u001b[32mcsg\u001b[0m: Configuration for Columbia csg partition cluster\n",
      "INFO: \u001b[32mcsg\u001b[0m is \u001b[32mcompleted\u001b[0m.\n",
      "INFO: \u001b[32mcsg\u001b[0m output:   \u001b[32m/home/dmc2245/hearing/region_extraction/f3393_200exome_500imp_regionextr_2021-12-01.sbatch\u001b[0m\n",
      "INFO: Workflow csg (ID=wbcbeee447b6cf465) is executed successfully with 1 completed step.\n",
      "\n"
     ]
    }
   ],
   "source": [
    "cwd=/home/dmc2245/test/region_extract   \\\n",
    "region_file=/home/dmc2245/test/region_extract/chr5_272856_121364.clumped_region   \\\n",
    "pheno_path=/home/dmc2245/UKBiobank/phenotype_files/hearing_impairment/090321_UKBB_Hearing_aid_f3393_expandedwhite_6436cases_96601ctrl_PC1_2.tsv   \\\n",
    "geno_path=/home/dmc2245/UKBiobank/data/exome_files/project_VCF/072721_run/plink/092321_UKBB_qc_exome_geno_path.txt   \\\n",
    "sumstats_path=/home/dmc2245/UKBiobank/results/REGENIE_results/results_exome_data/090921_f3393_hearing_aid_200K/*.snp_stats.gz     \\\n",
    "unrelated_samples=/home/dmc2245/UKBiobank/results/083021_PCA_results/090221_ldprun_unrelated/cache/UKB_genotypedatadownloaded083019.090221_sample_variant_qc_final_callrate90.filtered.extracted.europeans.filtered.090221_ldprun_unrelated.filtered.prune.txt  \\\n",
    "imp_geno_path=/home/dmc2245/test/region_extract/imp_genochr5_path.txt \\\n",
    "imp_sumstats_path=~/UKBiobank/results/REGENIE_results/results_imputed_data/2021_10_07_f3393_500K/100521_UKBB_Hearing_aid_f3393_expandedwhite_15601cases_237318ctrl_500k_PC1_PC2_f3393.regenie.snp_stats.gz \\\n",
    "imp_ref='hg19'\n",
    "extract_sos=~/project/UKBB_GWAS_dev/workflow/LD_merged_exo_imp.ipynb\n",
    "extract_sbatch=~/hearing/region_extraction/f3393_200exome_500imp_regionextr_$(date +\"%Y-%m-%d\").sbatch\n",
    "\n",
    "extract_args=\"\"\"default    \n",
    "    --cwd $cwd   \n",
    "    --region-file $region_file   \n",
    "    --pheno-path $pheno_path  \n",
    "    --geno-path  $geno_path \n",
    "    --sumstats-path  $sumstats_path  \n",
    "    --unrelated-samples $unrelated_samples \n",
    "    --imp-geno-path $imp_geno_path\n",
    "    --imp-sumstats-path $imp_sumstats_path \n",
    "    --imp-ref $imp_ref \n",
    "    --job-size 1\n",
    "    --bgen_sample_path $bgen_sample_path\n",
    "\"\"\"\n",
    "\n",
    "sos run ~/project/UKBB_GWAS_dev/admin/Get_Job_Script.ipynb csg \\\n",
    "    --template-file $tpl_file \\\n",
    "    --workflow-file $extract_sos \\\n",
    "    --to-script $extract_sbatch \\\n",
    "    --args \"$extract_args\""
   ]
  },
  {
   "cell_type": "code",
   "execution_count": 10,
   "id": "fc4178f2-2719-4f2c-acd2-7259665d9dd8",
   "metadata": {
    "kernel": "Bash"
   },
   "outputs": [
    {
     "name": "stdout",
     "output_type": "stream",
     "text": [
      "INFO: Running \u001b[32mcsg\u001b[0m: Configuration for Columbia csg partition cluster\n",
      "INFO: \u001b[32mcsg\u001b[0m is \u001b[32mcompleted\u001b[0m.\n",
      "INFO: \u001b[32mcsg\u001b[0m output:   \u001b[32m/home/dmc2245/hearing/region_extraction/f3393_500imp_regionextr_2021-12-02.sbatch\u001b[0m\n",
      "INFO: Workflow csg (ID=wdc3d43d781a80fce) is executed successfully with 1 completed step.\n",
      "\n"
     ]
    }
   ],
   "source": [
    "cwd=/home/dmc2245/test/region_extract/imputed_new_sumstats   \\\n",
    "region_file=/home/dmc2245/test/region_extract/chr5_272856_1213643_hg19.clumped_region   \\\n",
    "pheno_path=$hearing_pheno_path/fulldb_500K/100521_UKBB_Hearing_aid_f3393_expandedwhite_15601cases_237318ctrl_500k_PC1_PC2  \\\n",
    "geno_path=/home/dmc2245/test/region_extract/imp_genochr5_path.txt \\\n",
    "sumstats_path=~/UKBiobank/results/REGENIE_results/results_imputed_data/2021_10_07_f3393_500K/100521_UKBB_Hearing_aid_f3393_expandedwhite_15601cases_237318ctrl_500k_PC1_PC2_f3393.regenie.snp_stats.gz     \\\n",
    "unrelated_samples=/home/dmc2245/UKBiobank/results/083021_PCA_results/090221_ldprun_unrelated/cache/UKB_genotypedatadownloaded083019.090221_sample_variant_qc_final_callrate90.filtered.extracted.europeans.filtered.090221_ldprun_unrelated.filtered.prune.txt  \\\n",
    "extract_sos=~/project/bioworkflows/GWAS/Region_Extraction.ipynb\n",
    "extract_sbatch=~/hearing/region_extraction/f3393_500imp_regionextr_$(date +\"%Y-%m-%d\").sbatch\n",
    "bgen_sample_path=~/UKBiobank_Yale_transfer/ukb39554_imputeddataset/ukb32285_imputedindiv.sample\n",
    "\n",
    "extract_args=\"\"\"default    \n",
    "    --cwd $cwd   \n",
    "    --region-file $region_file   \n",
    "    --pheno-path $pheno_path  \n",
    "    --geno-path  $geno_path \n",
    "    --sumstats-path  $sumstats_path  \n",
    "    --unrelated-samples $unrelated_samples \n",
    "    --imp-geno-path $imp_geno_path\n",
    "    --imp-sumstats-path $imp_sumstats_path \n",
    "    --job-size 1\n",
    "    --bgen_sample_path $bgen_sample_path\n",
    "\"\"\"\n",
    "\n",
    "sos run ~/project/UKBB_GWAS_dev/admin/Get_Job_Script.ipynb csg \\\n",
    "    --template-file $tpl_file \\\n",
    "    --workflow-file $extract_sos \\\n",
    "    --to-script $extract_sbatch \\\n",
    "    --args \"$extract_args\"\n"
   ]
  },
  {
   "cell_type": "markdown",
   "id": "756e41f9-7d56-49c4-afd1-6deed51972e4",
   "metadata": {
    "kernel": "Bash"
   },
   "source": [
    "\n",
    "## Run fine-mapping in the 200K exomes + 500K imputed (ld matrix computation)"
   ]
  },
  {
   "cell_type": "markdown",
   "id": "675ce074-a088-4738-981c-2e19f63fec2e",
   "metadata": {
    "kernel": "Bash"
   },
   "source": [
    "### f.3393"
   ]
  },
  {
   "cell_type": "code",
   "execution_count": 31,
   "id": "c8e466ff-9fba-493c-91d4-14b17cfa6417",
   "metadata": {
    "kernel": "Bash"
   },
   "outputs": [
    {
     "name": "stdout",
     "output_type": "stream",
     "text": [
      "INFO: Running \u001b[32mcsg\u001b[0m: Configuration for Columbia csg partition cluster\n",
      "INFO: \u001b[32mcsg\u001b[0m is \u001b[32mcompleted\u001b[0m.\n",
      "INFO: \u001b[32mcsg\u001b[0m output:   \u001b[32m/home/dmc2245/hearing/finemap/f3393_200Kexom_500Kimp_finemap_2021-11-23.sbatch\u001b[0m\n",
      "INFO: Workflow csg (ID=wd7751c01352727e7) is executed successfully with 1 completed step.\n",
      "\n"
     ]
    }
   ],
   "source": [
    "finemap_dir=$UKBB_PATH/results/fine_mapping/112221_f3393_200kexomes_500kimp\n",
    "finemap_sos=~/project/bioworkflows_diana/fine-mapping/SuSiE_RSS_Diana.ipynb \n",
    "finemap_sbatch=~/hearing/finemap/f3393_200Kexom_500Kimp_finemap_$(date +\"%Y-%m-%d\").sbatch\n",
    "region_dir=$UKBB_PATH/results/region_extraction/111921_f3393_200Kexomes_500Kimp\n",
    "region_file=$UKBB_PATH/results/region_extraction/111921_f3393_200Kexomes_500Kimp/f3393_region_file.txt\n",
    "## This sumstats could be the one from the 200K exomes (it is just used to get the file name)\n",
    "sumstats_path=$UKBB_PATH/results/REGENIE_results/results_exome_data/090921_f3393_hearing_aid_200K/*.snp_stats.gz\n",
    "container_lmm=~/containers/lmm.sif\n",
    "job_size=1\n",
    "\n",
    "finemap_args=\"\"\"default\n",
    "    --cwd $finemap_dir\n",
    "    --region_dir $region_dir\n",
    "    --region_file $region_file\n",
    "    --sumstats_path $sumstats_path\n",
    "    --container_lmm $container_lmm\n",
    "    --container_marp $container_marp\n",
    "    --job_size $job_size\n",
    "\"\"\"\n",
    "sos run ~/project/UKBB_GWAS_dev/admin/Get_Job_Script.ipynb csg \\\n",
    "    --template-file $tpl_file \\\n",
    "    --workflow-file $finemap_sos \\\n",
    "    --to-script $finemap_sbatch \\\n",
    "    --args \"$finemap_args\""
   ]
  },
  {
   "cell_type": "code",
   "execution_count": null,
   "id": "20ac631b-5fec-45cd-967c-378bb4a7546d",
   "metadata": {
    "kernel": "Bash"
   },
   "outputs": [],
   "source": [
    "module load Singularity\n",
    "sos run ~/project/bioworkflows_diana/fine-mapping/SuSiE_RSS_Diana.ipynb     default \\\n",
    "--cwd ~/UKBiobank/results/fine_mapping/112221_f3393_200kexomes_500kimp/test \\\n",
    "--region_dir ~/UKBiobank/results/region_extraction/111921_f3393_200Kexomes_500Kimp \\\n",
    "--region_file ~/UKBiobank/results/region_extraction/111921_f3393_200Kexomes_500Kimp/f3393_region_file.txt \\\n",
    "--sumstats_path ~/UKBiobank/results/REGENIE_results/results_exome_data/090921_f3393_hearing_aid_200K/*.snp_stats.gz \\\n",
    "--container_lmm /home/dmc2245/containers/lmm.sif \\\n",
    "--container_marp /home/dmc2245/containers/marp.sif"
   ]
  },
  {
   "cell_type": "markdown",
   "id": "b2a21433-420d-4a70-848d-d40534b52bbb",
   "metadata": {
    "kernel": "Bash"
   },
   "source": [
    "### f.2247"
   ]
  },
  {
   "cell_type": "code",
   "execution_count": 32,
   "id": "dd905676-f3ba-4f12-b5c0-34c7aafa65fc",
   "metadata": {
    "kernel": "Bash"
   },
   "outputs": [
    {
     "name": "stdout",
     "output_type": "stream",
     "text": [
      "INFO: Running \u001b[32mcsg\u001b[0m: Configuration for Columbia csg partition cluster\n",
      "INFO: \u001b[32mcsg\u001b[0m is \u001b[32mcompleted\u001b[0m.\n",
      "INFO: \u001b[32mcsg\u001b[0m output:   \u001b[32m/home/dmc2245/hearing/finemap/f2247_200Kexom_500Kimp_finemap_2021-11-23.sbatch\u001b[0m\n",
      "INFO: Workflow csg (ID=w5350e2a33a3d80f5) is executed successfully with 1 completed step.\n",
      "\n"
     ]
    }
   ],
   "source": [
    "finemap_dir=$UKBB_PATH/results/fine_mapping/112221_f2247_200kexomes_500kimp\n",
    "finemap_sos=~/project/bioworkflows_diana/fine-mapping/SuSiE_RSS_Diana.ipynb \n",
    "finemap_sbatch=~/hearing/finemap/f2247_200Kexom_500Kimp_finemap_$(date +\"%Y-%m-%d\").sbatch\n",
    "region_dir=$UKBB_PATH/results/region_extraction/111921_f2247_200Kexomes_500Kimp\n",
    "#Modified without 1_45508256_46132601 that is erroring because of memory issue\n",
    "region_file=$UKBB_PATH/results/region_extraction/111921_f2247_200Kexomes_500Kimp/f2247_region_file.txt\n",
    "## This sumstats could be the one from the 200K exomes (it is just used to get the file name)\n",
    "sumstats_path=$UKBB_PATH/results/REGENIE_results/results_exome_data/090921_f2247_hearing_difficulty_200K/090321_UKBB_Hearing_difficulty_f2247_expandedwhite_45502cases_96601ctrl_PC1_2_f2247.regenie.snp_stats.gz\n",
    "container_lmm=~/containers/lmm.sif\n",
    "job_size=1\n",
    "\n",
    "finemap_args=\"\"\"default\n",
    "    --cwd $finemap_dir\n",
    "    --region_dir $region_dir\n",
    "    --region_file $region_file\n",
    "    --sumstats_path $sumstats_path\n",
    "    --container_lmm $container_lmm\n",
    "    --container_marp $container_marp\n",
    "    --job_size $job_size\n",
    "\"\"\"\n",
    "sos run ~/project/UKBB_GWAS_dev/admin/Get_Job_Script.ipynb csg \\\n",
    "    --template-file $tpl_file \\\n",
    "    --workflow-file $finemap_sos \\\n",
    "    --to-script $finemap_sbatch \\\n",
    "    --args \"$finemap_args\""
   ]
  },
  {
   "cell_type": "markdown",
   "id": "cd174f96-24a4-4023-b622-ad4bc1768cae",
   "metadata": {
    "kernel": "Bash"
   },
   "source": [
    "### f.2257"
   ]
  },
  {
   "cell_type": "code",
   "execution_count": 33,
   "id": "b42309ee-9776-447a-ac9f-8ca1959d98b2",
   "metadata": {
    "kernel": "Bash"
   },
   "outputs": [
    {
     "name": "stdout",
     "output_type": "stream",
     "text": [
      "INFO: Running \u001b[32mcsg\u001b[0m: Configuration for Columbia csg partition cluster\n",
      "INFO: \u001b[32mcsg\u001b[0m is \u001b[32mcompleted\u001b[0m.\n",
      "INFO: \u001b[32mcsg\u001b[0m output:   \u001b[32m/home/dmc2245/hearing/finemap/f2257_200Kexom_500Kimp_finemap_2021-11-23.sbatch\u001b[0m\n",
      "INFO: Workflow csg (ID=w9f2819f93189e179) is executed successfully with 1 completed step.\n",
      "\n"
     ]
    }
   ],
   "source": [
    "finemap_dir=$UKBB_PATH/results/fine_mapping/112221_f2257_200kexomes_500kimp\n",
    "finemap_sos=~/project/bioworkflows_diana/fine-mapping/SuSiE_RSS_Diana.ipynb \n",
    "finemap_sbatch=~/hearing/finemap/f2257_200Kexom_500Kimp_finemap_$(date +\"%Y-%m-%d\").sbatch\n",
    "region_dir=$UKBB_PATH/results/region_extraction/111921_f2257_200Kexomes_500Kimp\n",
    "region_file=$UKBB_PATH/results/region_extraction/111921_f2257_200Kexomes_500Kimp/f2257_region_file.txt\n",
    "## This sumstats could be the one from the 200K exomes (it is just used to get the file name)\n",
    "sumstats_path=$UKBB_PATH/results/REGENIE_results/results_exome_data/090921_f2257_hearing_noise_200K/*.snp_stats.gz\n",
    "container_lmm=~/containers/lmm.sif\n",
    "job_size=1\n",
    "\n",
    "finemap_args=\"\"\"default\n",
    "    --cwd $finemap_dir\n",
    "    --region_dir $region_dir\n",
    "    --region_file $region_file\n",
    "    --sumstats_path $sumstats_path\n",
    "    --container_lmm $container_lmm\n",
    "    --container_marp $container_marp\n",
    "    --job_size $job_size\n",
    "\"\"\"\n",
    "sos run ~/project/UKBB_GWAS_dev/admin/Get_Job_Script.ipynb csg \\\n",
    "    --template-file $tpl_file \\\n",
    "    --workflow-file $finemap_sos \\\n",
    "    --to-script $finemap_sbatch \\\n",
    "    --args \"$finemap_args\""
   ]
  },
  {
   "cell_type": "markdown",
   "id": "6bbbdbef-7ab4-410d-b00e-a907388dc01a",
   "metadata": {
    "kernel": "Bash"
   },
   "source": [
    "### Combined f.2247 & f.2257"
   ]
  },
  {
   "cell_type": "code",
   "execution_count": 34,
   "id": "45051a9b-0dba-448f-b276-b80e3dc03dd5",
   "metadata": {
    "kernel": "Bash"
   },
   "outputs": [
    {
     "name": "stdout",
     "output_type": "stream",
     "text": [
      "INFO: Running \u001b[32mcsg\u001b[0m: Configuration for Columbia csg partition cluster\n",
      "INFO: \u001b[32mcsg\u001b[0m is \u001b[32mcompleted\u001b[0m.\n",
      "INFO: \u001b[32mcsg\u001b[0m output:   \u001b[32m/home/dmc2245/hearing/finemap/combined_200Kexom_500Kimp_finemap_2021-11-23.sbatch\u001b[0m\n",
      "INFO: Workflow csg (ID=w841b0945b3062c59) is executed successfully with 1 completed step.\n",
      "\n"
     ]
    }
   ],
   "source": [
    "finemap_dir=$UKBB_PATH/results/fine_mapping/112221_f2247_f2257_200kexomes_500kimp\n",
    "finemap_sos=~/project/bioworkflows_diana/fine-mapping/SuSiE_RSS_Diana.ipynb \n",
    "finemap_sbatch=~/hearing/finemap/combined_200Kexom_500Kimp_finemap_$(date +\"%Y-%m-%d\").sbatch\n",
    "region_dir=$UKBB_PATH/results/region_extraction/111921_f2247_f2257_200Kexomes_500Kimp\n",
    "region_file=$UKBB_PATH/results/region_extraction/111921_f2247_f2257_200Kexomes_500Kimp/f2247_f2257_region_file.txt\n",
    "## This sumstats could be the one from the 200K exomes (it is just used to get the file name)\n",
    "sumstats_path=$UKBB_PATH/results/REGENIE_results/results_exome_data/090921_combined_f2247_f2257_200K/*.snp_stats.gz\n",
    "container_lmm=~/containers/lmm.sif\n",
    "job_size=1\n",
    "\n",
    "finemap_args=\"\"\"default\n",
    "    --cwd $finemap_dir\n",
    "    --region_dir $region_dir\n",
    "    --region_file $region_file\n",
    "    --sumstats_path $sumstats_path\n",
    "    --container_lmm $container_lmm\n",
    "    --container_marp $container_marp\n",
    "    --job_size $job_size\n",
    "\"\"\"\n",
    "sos run ~/project/UKBB_GWAS_dev/admin/Get_Job_Script.ipynb csg \\\n",
    "    --template-file $tpl_file \\\n",
    "    --workflow-file $finemap_sos \\\n",
    "    --to-script $finemap_sbatch \\\n",
    "    --args \"$finemap_args\""
   ]
  },
  {
   "cell_type": "code",
   "execution_count": null,
   "id": "74a4d63c-a6ca-4e3e-b194-97751799a060",
   "metadata": {
    "kernel": "Bash"
   },
   "outputs": [],
   "source": []
  },
  {
   "cell_type": "markdown",
   "id": "ad29220a-c92d-4176-bfa2-f441e4b190f6",
   "metadata": {
    "kernel": "Bash"
   },
   "source": [
    "## 12/09/21 Run region extraction from Yin's pipeline: \n",
    "\n",
    "Note: we realize an inconsistency between the summary statistics and the LD matrix computation (signs were opposite) and this was fue to a major/minor allele issue with the exome plink format in which plink files were created using the keep-allele-order and therefore does not follow the major/minor convention normally encountered in plink.\n",
    "\n",
    "To solve this a pipeline is being develop to account for strand flips and allele missmatch between datasets\n",
    "\n",
    "In the mean time results are consistent if we use the non-ref imputed data and the exome data as is. \n",
    "\n",
    "This run failed because the SNP name (chr.pos.ref.alt) does not match between datasets anymore. Theferore for the fine mapping I'm going to change all of the beta signs for the imputed data so that it matches the LD matrix calculation and run the fine mapping again"
   ]
  },
  {
   "cell_type": "markdown",
   "id": "10046448-89f1-4a5f-93c3-279b13b3118e",
   "metadata": {
    "kernel": "Bash"
   },
   "source": [
    "### f.3393"
   ]
  },
  {
   "cell_type": "code",
   "execution_count": 4,
   "id": "90d247f6-de70-46db-81a6-80771e3b3823",
   "metadata": {
    "kernel": "Bash"
   },
   "outputs": [
    {
     "name": "stdout",
     "output_type": "stream",
     "text": [
      "INFO: Running \u001b[32mcsg\u001b[0m: Configuration for Columbia csg partition cluster\n",
      "INFO: \u001b[32mcsg\u001b[0m is \u001b[32mcompleted\u001b[0m.\n",
      "INFO: \u001b[32mcsg\u001b[0m output:   \u001b[32m/home/dmc2245/hearing/region_extraction/f3393_200exome_500imp_regionextr_2021-12-09.sbatch\u001b[0m\n",
      "INFO: Workflow csg (ID=w2e7269d76767e585) is executed successfully with 1 completed step.\n",
      "\n"
     ]
    }
   ],
   "source": [
    "cwd=/mnt/mfs/statgen/UKBiobank/results/region_extraction/120921_f3393_200Kexomes_500Kimp    \\\n",
    "region_file=/home/dmc2245/UKBiobank/results/LD_clumping/092321_f3393_200Kexomes/090321_UKBB_Hearing_aid_f3393_expandedwhite_6436cases_96601ctrl_PC1_2_f3393.regenie.snp_stats.clumped_region    \\\n",
    "pheno_path=/home/dmc2245/UKBiobank/phenotype_files/hearing_impairment/090321_UKBB_Hearing_aid_f3393_expandedwhite_6436cases_96601ctrl_PC1_2.tsv   \\\n",
    "geno_path=/home/dmc2245/UKBiobank/data/exome_files/project_VCF/072721_run/plink/092321_UKBB_qc_exome_geno_path.txt   \\\n",
    "sumstats_path=/home/dmc2245/UKBiobank/results/REGENIE_results/results_exome_data/090921_f3393_hearing_aid_200K/*.snp_stats.gz     \\\n",
    "unrelated_samples=/home/dmc2245/UKBiobank/results/083021_PCA_results/090221_ldprun_unrelated/cache/UKB_genotypedatadownloaded083019.090221_sample_variant_qc_final_callrate90.filtered.extracted.europeans.filtered.090221_ldprun_unrelated.filtered.prune.txt  \\\n",
    "imp_geno_path=~/UKBiobank/results/LD_clumping/ref_files/102621_UKBB_bgenpath.txt \\\n",
    "imp_sumstats_path=~/UKBiobank/results/REGENIE_results/results_imputed_data/2021_10_07_f3393_500K/non_ref_first/100521_UKBB_Hearing_aid_f3393_expandedwhite_15601cases_237318ctrl_500k_PC1_PC2_f3393.regenie.snp_stats.gz \\\n",
    "imp_ref='hg19'\n",
    "extract_sos=~/project/UKBB_GWAS_dev/workflow/RegionExtraction_LDmatrix.ipynb\n",
    "extract_sbatch=~/hearing/region_extraction/f3393_200exome_500imp_regionextr_$(date +\"%Y-%m-%d\").sbatch\n",
    "bgen_sample_path=~/UKBiobank_Yale_transfer/ukb39554_imputeddataset/ukb32285_imputedindiv.sample\n",
    "mem='120G'\n",
    "\n",
    "extract_args=\"\"\"default    \n",
    "    --cwd $cwd   \n",
    "    --region-file $region_file   \n",
    "    --pheno-path $pheno_path  \n",
    "    --geno-path  $geno_path \n",
    "    --sumstats-path  $sumstats_path  \n",
    "    --unrelated-samples $unrelated_samples \n",
    "    --imp-geno-path $imp_geno_path\n",
    "    --imp-sumstats-path $imp_sumstats_path \n",
    "    --imp-ref $imp_ref \n",
    "    --mem $mem\n",
    "    --job-size 1\n",
    "    --bgen_sample_path $bgen_sample_path\n",
    "\"\"\"\n",
    "\n",
    "sos run ~/project/UKBB_GWAS_dev/admin/Get_Job_Script.ipynb csg \\\n",
    "    --template-file $tpl_file \\\n",
    "    --workflow-file $extract_sos \\\n",
    "    --to-script $extract_sbatch \\\n",
    "    --args \"$extract_args\""
   ]
  },
  {
   "cell_type": "markdown",
   "id": "21c663e4-9677-4826-92c7-2890c43b4ed0",
   "metadata": {
    "kernel": "Bash"
   },
   "source": [
    "### f.2247"
   ]
  },
  {
   "cell_type": "code",
   "execution_count": 8,
   "id": "c8b6e020-73ec-41f8-9fac-c52493b96fba",
   "metadata": {
    "kernel": "Bash"
   },
   "outputs": [
    {
     "name": "stdout",
     "output_type": "stream",
     "text": [
      "INFO: Running \u001b[32mcsg\u001b[0m: Configuration for Columbia csg partition cluster\n",
      "INFO: \u001b[32mcsg\u001b[0m is \u001b[32mcompleted\u001b[0m.\n",
      "INFO: \u001b[32mcsg\u001b[0m output:   \u001b[32m/home/dmc2245/hearing/region_extraction/f2247_200exome_500imp_regionextr_2021-12-09.sbatch\u001b[0m\n",
      "INFO: Workflow csg (ID=wbe6280b27c7cc4bf) is executed successfully with 1 completed step.\n",
      "\n"
     ]
    }
   ],
   "source": [
    "cwd=/mnt/mfs/statgen/UKBiobank/results/region_extraction/120921_f2247_200Kexomes_500Kimp\n",
    "region_file=/home/dmc2245/UKBiobank/results/LD_clumping/092321_f2247_200Kexomes/090321_UKBB_Hearing_difficulty_f2247_expandedwhite_45502cases_96601ctrl_PC1_2_f2247.regenie.snp_stats.clumped_region\n",
    "pheno_path=/home/dmc2245/UKBiobank/phenotype_files/hearing_impairment/090321_UKBB_Hearing_difficulty_f2247_expandedwhite_45502cases_96601ctrl_PC1_2.tsv\n",
    "geno_path=/home/dmc2245/UKBiobank/data/exome_files/project_VCF/072721_run/plink/092321_UKBB_qc_exome_geno_path.txt \n",
    "sumstats_path=/home/dmc2245/UKBiobank/results/REGENIE_results/results_exome_data/090921_f2247_hearing_difficulty_200K/*.snp_stats.gz \n",
    "unrelated_samples=/home/dmc2245/UKBiobank/results/083021_PCA_results/090221_ldprun_unrelated/cache/UKB_genotypedatadownloaded083019.090221_sample_variant_qc_final_callrate90.filtered.extracted.europeans.filtered.090221_ldprun_unrelated.filtered.prune.txt \n",
    "imp_geno_path=~/UKBiobank/results/LD_clumping/ref_files/102621_UKBB_bgenpath.txt\n",
    "imp_sumstats_path=~/UKBiobank/results/REGENIE_results/results_imputed_data/2021_10_07_f2247_500K/non_ref_first/*.snp_stats.gz\n",
    "imp_ref='hg19'\n",
    "extract_sos=~/project/UKBB_GWAS_dev/workflow/RegionExtraction_LDmatrix.ipynb\n",
    "extract_sbatch=~/hearing/region_extraction/f2247_200exome_500imp_regionextr_$(date +\"%Y-%m-%d\").sbatch\n",
    "mem='120G'\n",
    "bgen_sample_path=~/UKBiobank_Yale_transfer/ukb39554_imputeddataset/ukb32285_imputedindiv.sample\n",
    "\n",
    "extract_args=\"\"\"default    \n",
    "    --cwd $cwd   \n",
    "    --region-file $region_file   \n",
    "    --pheno-path $pheno_path  \n",
    "    --geno-path  $geno_path \n",
    "    --sumstats-path  $sumstats_path  \n",
    "    --unrelated-samples $unrelated_samples \n",
    "    --imp-geno-path $imp_geno_path\n",
    "    --imp-sumstats-path $imp_sumstats_path \n",
    "    --imp-ref $imp_ref \n",
    "    --job-size 1\n",
    "    --bgen_sample_path $bgen_sample_path\n",
    "    --mem $mem\n",
    "\"\"\"\n",
    "\n",
    "sos run ~/project/UKBB_GWAS_dev/admin/Get_Job_Script.ipynb csg \\\n",
    "    --template-file $tpl_file \\\n",
    "    --workflow-file $extract_sos \\\n",
    "    --to-script $extract_sbatch \\\n",
    "    --args \"$extract_args\""
   ]
  },
  {
   "cell_type": "markdown",
   "id": "8f8d02a3-437f-4f92-b002-75150c0ffae3",
   "metadata": {
    "kernel": "Bash"
   },
   "source": [
    "### f.2257"
   ]
  },
  {
   "cell_type": "code",
   "execution_count": 9,
   "id": "c90ce67e-6db9-4257-b909-afa783c4acaf",
   "metadata": {
    "kernel": "Bash"
   },
   "outputs": [
    {
     "name": "stdout",
     "output_type": "stream",
     "text": [
      "INFO: Running \u001b[32mcsg\u001b[0m: Configuration for Columbia csg partition cluster\n",
      "INFO: \u001b[32mcsg\u001b[0m is \u001b[32mcompleted\u001b[0m.\n",
      "INFO: \u001b[32mcsg\u001b[0m output:   \u001b[32m/home/dmc2245/hearing/region_extraction/f2257_200exome_500imp_regionextr_2021-12-09.sbatch\u001b[0m\n",
      "INFO: Workflow csg (ID=w5741175258d8a36c) is executed successfully with 1 completed step.\n",
      "\n"
     ]
    }
   ],
   "source": [
    "cwd=/mnt/mfs/statgen/UKBiobank/results/region_extraction/120921_f2257_200Kexomes_500Kimp   \\\n",
    "region_file=/home/dmc2245/UKBiobank/results/LD_clumping/092321_f2257_200Kexomes/090321_UKBB_Hearing_noise_f2257_expandedwhite_65660cases_96601ctrl_PC1_2_f2257.regenie.snp_stats.clumped_region   \\\n",
    "pheno_path=/home/dmc2245/UKBiobank/phenotype_files/hearing_impairment/090321_UKBB_Hearing_noise_f2257_expandedwhite_65660cases_96601ctrl_PC1_2.tsv \\\n",
    "geno_path=/home/dmc2245/UKBiobank/data/exome_files/project_VCF/072721_run/plink/092321_UKBB_qc_exome_geno_path.txt   \\\n",
    "sumstats_path=/home/dmc2245/UKBiobank/results/REGENIE_results/results_exome_data/090921_f2257_hearing_noise_200K/*.snp_stats.gz     \\\n",
    "unrelated_samples=/home/dmc2245/UKBiobank/results/083021_PCA_results/090221_ldprun_unrelated/cache/UKB_genotypedatadownloaded083019.090221_sample_variant_qc_final_callrate90.filtered.extracted.europeans.filtered.090221_ldprun_unrelated.filtered.prune.txt  \\\n",
    "imp_geno_path=~/UKBiobank/results/LD_clumping/ref_files/102621_UKBB_bgenpath.txt \\\n",
    "imp_sumstats_path=~/UKBiobank/results/REGENIE_results/results_imputed_data/2021_10_07_f2257_500K/non_ref_first/*.snp_stats.gz \n",
    "imp_ref='hg19'\n",
    "extract_sos=~/project/UKBB_GWAS_dev/workflow/RegionExtraction_LDmatrix.ipynb\n",
    "extract_sbatch=~/hearing/region_extraction/f2257_200exome_500imp_regionextr_$(date +\"%Y-%m-%d\").sbatch\n",
    "bgen_sample_path=~/UKBiobank_Yale_transfer/ukb39554_imputeddataset/ukb32285_imputedindiv.sample\n",
    "mem=\"120G\"\n",
    "\n",
    "extract_args=\"\"\"default    \n",
    "    --cwd $cwd   \n",
    "    --region-file $region_file   \n",
    "    --pheno-path $pheno_path  \n",
    "    --geno-path  $geno_path \n",
    "    --sumstats-path  $sumstats_path  \n",
    "    --unrelated-samples $unrelated_samples \n",
    "    --imp-geno-path $imp_geno_path\n",
    "    --imp-sumstats-path $imp_sumstats_path \n",
    "    --imp-ref $imp_ref \n",
    "    --mem $mem\n",
    "    --job-size 1\n",
    "    --bgen_sample_path $bgen_sample_path\n",
    "\"\"\"\n",
    "\n",
    "sos run ~/project/UKBB_GWAS_dev/admin/Get_Job_Script.ipynb csg \\\n",
    "    --template-file $tpl_file \\\n",
    "    --workflow-file $extract_sos \\\n",
    "    --to-script $extract_sbatch \\\n",
    "    --args \"$extract_args\"\n"
   ]
  },
  {
   "cell_type": "markdown",
   "id": "c2a4f272-c732-4aa4-8eb6-5757161e7310",
   "metadata": {
    "kernel": "Bash"
   },
   "source": [
    "### Combined"
   ]
  },
  {
   "cell_type": "code",
   "execution_count": 10,
   "id": "ef9bf5cd-ebc1-4eee-aba4-34aefcf8205c",
   "metadata": {
    "kernel": "Bash"
   },
   "outputs": [
    {
     "name": "stdout",
     "output_type": "stream",
     "text": [
      "INFO: Running \u001b[32mcsg\u001b[0m: Configuration for Columbia csg partition cluster\n",
      "INFO: \u001b[32mcsg\u001b[0m is \u001b[32mcompleted\u001b[0m.\n",
      "INFO: \u001b[32mcsg\u001b[0m output:   \u001b[32m/home/dmc2245/hearing/region_extraction/combined_200exome_500imp_regionextr_2021-12-09.sbatch\u001b[0m\n",
      "INFO: Workflow csg (ID=w8b5c66964d7ea746) is executed successfully with 1 completed step.\n",
      "\n"
     ]
    }
   ],
   "source": [
    "cwd=/mnt/mfs/statgen/UKBiobank/results/region_extraction/120921_f2247_f2257_200Kexomes_500Kimp   \\\n",
    "region_file=/home/dmc2245/UKBiobank/results/LD_clumping/092321_combined_200Kexomes/090321_UKBB_Combined_f2247_f2257_expandedwhite_38410cases_96601ctrl_PC1_2_f2247_f2257.regenie.snp_stats.clumped_region \\\n",
    "pheno_path=/home/dmc2245/UKBiobank/phenotype_files/hearing_impairment/090321_UKBB_Combined_f2247_f2257_expandedwhite_38410cases_96601ctrl_PC1_2.tsv  \\\n",
    "geno_path=/home/dmc2245/UKBiobank/data/exome_files/project_VCF/072721_run/plink/092321_UKBB_qc_exome_geno_path.txt   \\\n",
    "sumstats_path=/home/dmc2245/UKBiobank/results/REGENIE_results/results_exome_data/090921_combined_f2247_f2257_200K/*.snp_stats.gz     \\\n",
    "unrelated_samples=/home/dmc2245/UKBiobank/results/083021_PCA_results/090221_ldprun_unrelated/cache/UKB_genotypedatadownloaded083019.090221_sample_variant_qc_final_callrate90.filtered.extracted.europeans.filtered.090221_ldprun_unrelated.filtered.prune.txt  \\\n",
    "imp_geno_path=~/UKBiobank/results/LD_clumping/ref_files/102621_UKBB_bgenpath.txt \\\n",
    "imp_sumstats_path=~/UKBiobank/results/REGENIE_results/results_imputed_data/2021_10_07_combined_500K/non_ref_first/*.snp_stats.gz \\\n",
    "imp_ref='hg19'\n",
    "extract_sos=~/project/UKBB_GWAS_dev/workflow/RegionExtraction_LDmatrix.ipynb\n",
    "extract_sbatch=~/hearing/region_extraction/combined_200exome_500imp_regionextr_$(date +\"%Y-%m-%d\").sbatch\n",
    "bgen_sample_path=~/UKBiobank_Yale_transfer/ukb39554_imputeddataset/ukb32285_imputedindiv.sample\n",
    "mem='120G'\n",
    "\n",
    "extract_args=\"\"\"default    \n",
    "    --cwd $cwd   \n",
    "    --region-file $region_file   \n",
    "    --pheno-path $pheno_path  \n",
    "    --geno-path  $geno_path \n",
    "    --sumstats-path  $sumstats_path  \n",
    "    --unrelated-samples $unrelated_samples \n",
    "    --imp-geno-path $imp_geno_path\n",
    "    --imp-sumstats-path $imp_sumstats_path \n",
    "    --imp-ref $imp_ref \n",
    "    --job-size 1\n",
    "    --bgen_sample_path $bgen_sample_path\n",
    "    --mem $mem\n",
    "\"\"\"\n",
    "\n",
    "sos run ~/project/UKBB_GWAS_dev/admin/Get_Job_Script.ipynb csg \\\n",
    "    --template-file $tpl_file \\\n",
    "    --workflow-file $extract_sos \\\n",
    "    --to-script $extract_sbatch \\\n",
    "    --args \"$extract_args\""
   ]
  },
  {
   "cell_type": "markdown",
   "id": "997b9bd8-0883-4c3e-bb12-237c83dd76d6",
   "metadata": {
    "kernel": "Bash"
   },
   "source": [
    "### Chaging the beta sign in the sumstats from the region extraction output"
   ]
  },
  {
   "cell_type": "code",
   "execution_count": 2,
   "id": "b790dad3-cceb-4b88-8b87-3e30c2afa829",
   "metadata": {
    "kernel": "Python3",
    "tags": []
   },
   "outputs": [],
   "source": [
    "import pandas as pd"
   ]
  },
  {
   "cell_type": "code",
   "execution_count": 3,
   "id": "cb7b3384-983e-420f-bee4-e312c6192206",
   "metadata": {
    "kernel": "Python3",
    "tags": []
   },
   "outputs": [],
   "source": [
    "f3393_ori = pd.read_csv('~/UKBiobank/results/region_extraction/111921_f3393_200Kexomes_500Kimp/5_272741_1213528/090321_UKBB_Hearing_aid_f3393_expandedwhite_6436cases_96601ctrl_PC1_2_f3393.regenie.snp_stats_5_272741_1213528.sumstats_original.gz', compression='gzip', sep=\"\\t\",header=0)"
   ]
  },
  {
   "cell_type": "code",
   "execution_count": 5,
   "id": "56b93106-21ee-4c05-a14f-99e24f967d84",
   "metadata": {
    "kernel": "Python3"
   },
   "outputs": [
    {
     "data": {
      "text/html": [
       "<div>\n",
       "<style scoped>\n",
       "    .dataframe tbody tr th:only-of-type {\n",
       "        vertical-align: middle;\n",
       "    }\n",
       "\n",
       "    .dataframe tbody tr th {\n",
       "        vertical-align: top;\n",
       "    }\n",
       "\n",
       "    .dataframe thead th {\n",
       "        text-align: right;\n",
       "    }\n",
       "</style>\n",
       "<table border=\"1\" class=\"dataframe\">\n",
       "  <thead>\n",
       "    <tr style=\"text-align: right;\">\n",
       "      <th></th>\n",
       "      <th>CHR</th>\n",
       "      <th>POS</th>\n",
       "      <th>REF</th>\n",
       "      <th>ALT</th>\n",
       "      <th>SNP</th>\n",
       "      <th>BETA</th>\n",
       "      <th>SE</th>\n",
       "      <th>P</th>\n",
       "    </tr>\n",
       "  </thead>\n",
       "  <tbody>\n",
       "    <tr>\n",
       "      <th>0</th>\n",
       "      <td>5</td>\n",
       "      <td>272741</td>\n",
       "      <td>A</td>\n",
       "      <td>G</td>\n",
       "      <td>chr5:272741:A:G</td>\n",
       "      <td>1.789340</td>\n",
       "      <td>0.250526</td>\n",
       "      <td>7.055048e-11</td>\n",
       "    </tr>\n",
       "    <tr>\n",
       "      <th>1</th>\n",
       "      <td>5</td>\n",
       "      <td>272748</td>\n",
       "      <td>G</td>\n",
       "      <td>C</td>\n",
       "      <td>chr5:272748:G:C</td>\n",
       "      <td>1.698750</td>\n",
       "      <td>0.279645</td>\n",
       "      <td>2.479648e-08</td>\n",
       "    </tr>\n",
       "    <tr>\n",
       "      <th>2</th>\n",
       "      <td>5</td>\n",
       "      <td>272755</td>\n",
       "      <td>A</td>\n",
       "      <td>G</td>\n",
       "      <td>chr5:272755:A:G</td>\n",
       "      <td>1.708990</td>\n",
       "      <td>0.242533</td>\n",
       "      <td>1.335826e-10</td>\n",
       "    </tr>\n",
       "    <tr>\n",
       "      <th>3</th>\n",
       "      <td>5</td>\n",
       "      <td>272758</td>\n",
       "      <td>A</td>\n",
       "      <td>G</td>\n",
       "      <td>chr5:272758:A:G</td>\n",
       "      <td>-1.285990</td>\n",
       "      <td>1.782120</td>\n",
       "      <td>4.705362e-01</td>\n",
       "    </tr>\n",
       "    <tr>\n",
       "      <th>4</th>\n",
       "      <td>5</td>\n",
       "      <td>272771</td>\n",
       "      <td>C</td>\n",
       "      <td>G</td>\n",
       "      <td>chr5:272771:C:G</td>\n",
       "      <td>1.620460</td>\n",
       "      <td>0.466804</td>\n",
       "      <td>1.956681e-03</td>\n",
       "    </tr>\n",
       "    <tr>\n",
       "      <th>...</th>\n",
       "      <td>...</td>\n",
       "      <td>...</td>\n",
       "      <td>...</td>\n",
       "      <td>...</td>\n",
       "      <td>...</td>\n",
       "      <td>...</td>\n",
       "      <td>...</td>\n",
       "      <td>...</td>\n",
       "    </tr>\n",
       "    <tr>\n",
       "      <th>11871</th>\n",
       "      <td>5</td>\n",
       "      <td>1212979</td>\n",
       "      <td>C</td>\n",
       "      <td>T</td>\n",
       "      <td>chr5:1212979:C:T</td>\n",
       "      <td>-0.015881</td>\n",
       "      <td>0.023298</td>\n",
       "      <td>4.954616e-01</td>\n",
       "    </tr>\n",
       "    <tr>\n",
       "      <th>11872</th>\n",
       "      <td>5</td>\n",
       "      <td>1213019</td>\n",
       "      <td>G</td>\n",
       "      <td>A</td>\n",
       "      <td>chr5:1213019:G:A</td>\n",
       "      <td>-1.142280</td>\n",
       "      <td>1.344380</td>\n",
       "      <td>3.955087e-01</td>\n",
       "    </tr>\n",
       "    <tr>\n",
       "      <th>11873</th>\n",
       "      <td>5</td>\n",
       "      <td>1213108</td>\n",
       "      <td>C</td>\n",
       "      <td>T</td>\n",
       "      <td>chr5:1213108:C:T</td>\n",
       "      <td>-0.003009</td>\n",
       "      <td>0.013631</td>\n",
       "      <td>8.252701e-01</td>\n",
       "    </tr>\n",
       "    <tr>\n",
       "      <th>11874</th>\n",
       "      <td>5</td>\n",
       "      <td>1213289</td>\n",
       "      <td>T</td>\n",
       "      <td>TC</td>\n",
       "      <td>chr5:1213289:T:TC</td>\n",
       "      <td>-0.039146</td>\n",
       "      <td>0.117837</td>\n",
       "      <td>7.397347e-01</td>\n",
       "    </tr>\n",
       "    <tr>\n",
       "      <th>11875</th>\n",
       "      <td>5</td>\n",
       "      <td>1213395</td>\n",
       "      <td>C</td>\n",
       "      <td>T</td>\n",
       "      <td>chr5:1213395:C:T</td>\n",
       "      <td>0.009318</td>\n",
       "      <td>0.012922</td>\n",
       "      <td>4.708450e-01</td>\n",
       "    </tr>\n",
       "  </tbody>\n",
       "</table>\n",
       "<p>11876 rows × 8 columns</p>\n",
       "</div>"
      ],
      "text/plain": [
       "       CHR      POS REF ALT                SNP      BETA        SE  \\\n",
       "0        5   272741   A   G    chr5:272741:A:G  1.789340  0.250526   \n",
       "1        5   272748   G   C    chr5:272748:G:C  1.698750  0.279645   \n",
       "2        5   272755   A   G    chr5:272755:A:G  1.708990  0.242533   \n",
       "3        5   272758   A   G    chr5:272758:A:G -1.285990  1.782120   \n",
       "4        5   272771   C   G    chr5:272771:C:G  1.620460  0.466804   \n",
       "...    ...      ...  ..  ..                ...       ...       ...   \n",
       "11871    5  1212979   C   T   chr5:1212979:C:T -0.015881  0.023298   \n",
       "11872    5  1213019   G   A   chr5:1213019:G:A -1.142280  1.344380   \n",
       "11873    5  1213108   C   T   chr5:1213108:C:T -0.003009  0.013631   \n",
       "11874    5  1213289   T  TC  chr5:1213289:T:TC -0.039146  0.117837   \n",
       "11875    5  1213395   C   T   chr5:1213395:C:T  0.009318  0.012922   \n",
       "\n",
       "                  P  \n",
       "0      7.055048e-11  \n",
       "1      2.479648e-08  \n",
       "2      1.335826e-10  \n",
       "3      4.705362e-01  \n",
       "4      1.956681e-03  \n",
       "...             ...  \n",
       "11871  4.954616e-01  \n",
       "11872  3.955087e-01  \n",
       "11873  8.252701e-01  \n",
       "11874  7.397347e-01  \n",
       "11875  4.708450e-01  \n",
       "\n",
       "[11876 rows x 8 columns]"
      ]
     },
     "execution_count": 5,
     "metadata": {},
     "output_type": "execute_result"
    }
   ],
   "source": [
    "f3393_ori"
   ]
  },
  {
   "cell_type": "code",
   "execution_count": 9,
   "id": "6fa81700-f3dc-4d6f-b654-d2db4ea60056",
   "metadata": {
    "kernel": "Python3"
   },
   "outputs": [
    {
     "data": {
      "text/html": [
       "<div>\n",
       "<style scoped>\n",
       "    .dataframe tbody tr th:only-of-type {\n",
       "        vertical-align: middle;\n",
       "    }\n",
       "\n",
       "    .dataframe tbody tr th {\n",
       "        vertical-align: top;\n",
       "    }\n",
       "\n",
       "    .dataframe thead th {\n",
       "        text-align: right;\n",
       "    }\n",
       "</style>\n",
       "<table border=\"1\" class=\"dataframe\">\n",
       "  <thead>\n",
       "    <tr style=\"text-align: right;\">\n",
       "      <th></th>\n",
       "      <th>CHR</th>\n",
       "      <th>POS</th>\n",
       "      <th>REF</th>\n",
       "      <th>ALT</th>\n",
       "      <th>SNP</th>\n",
       "      <th>BETA</th>\n",
       "      <th>SE</th>\n",
       "      <th>P</th>\n",
       "    </tr>\n",
       "  </thead>\n",
       "  <tbody>\n",
       "    <tr>\n",
       "      <th>0</th>\n",
       "      <td>5</td>\n",
       "      <td>272741</td>\n",
       "      <td>A</td>\n",
       "      <td>G</td>\n",
       "      <td>chr5:272741:A:G</td>\n",
       "      <td>1.789340</td>\n",
       "      <td>0.250526</td>\n",
       "      <td>7.055048e-11</td>\n",
       "    </tr>\n",
       "    <tr>\n",
       "      <th>1</th>\n",
       "      <td>5</td>\n",
       "      <td>272748</td>\n",
       "      <td>G</td>\n",
       "      <td>C</td>\n",
       "      <td>chr5:272748:G:C</td>\n",
       "      <td>1.698750</td>\n",
       "      <td>0.279645</td>\n",
       "      <td>2.479648e-08</td>\n",
       "    </tr>\n",
       "    <tr>\n",
       "      <th>2</th>\n",
       "      <td>5</td>\n",
       "      <td>272755</td>\n",
       "      <td>A</td>\n",
       "      <td>G</td>\n",
       "      <td>chr5:272755:A:G</td>\n",
       "      <td>1.708990</td>\n",
       "      <td>0.242533</td>\n",
       "      <td>1.335826e-10</td>\n",
       "    </tr>\n",
       "    <tr>\n",
       "      <th>3</th>\n",
       "      <td>5</td>\n",
       "      <td>272758</td>\n",
       "      <td>A</td>\n",
       "      <td>G</td>\n",
       "      <td>chr5:272758:A:G</td>\n",
       "      <td>-1.285990</td>\n",
       "      <td>1.782120</td>\n",
       "      <td>4.705362e-01</td>\n",
       "    </tr>\n",
       "    <tr>\n",
       "      <th>4</th>\n",
       "      <td>5</td>\n",
       "      <td>272771</td>\n",
       "      <td>C</td>\n",
       "      <td>G</td>\n",
       "      <td>chr5:272771:C:G</td>\n",
       "      <td>1.620460</td>\n",
       "      <td>0.466804</td>\n",
       "      <td>1.956681e-03</td>\n",
       "    </tr>\n",
       "    <tr>\n",
       "      <th>...</th>\n",
       "      <td>...</td>\n",
       "      <td>...</td>\n",
       "      <td>...</td>\n",
       "      <td>...</td>\n",
       "      <td>...</td>\n",
       "      <td>...</td>\n",
       "      <td>...</td>\n",
       "      <td>...</td>\n",
       "    </tr>\n",
       "    <tr>\n",
       "      <th>11871</th>\n",
       "      <td>5</td>\n",
       "      <td>1212979</td>\n",
       "      <td>C</td>\n",
       "      <td>T</td>\n",
       "      <td>chr5:1212979:C:T</td>\n",
       "      <td>0.015881</td>\n",
       "      <td>0.023298</td>\n",
       "      <td>4.954616e-01</td>\n",
       "    </tr>\n",
       "    <tr>\n",
       "      <th>11872</th>\n",
       "      <td>5</td>\n",
       "      <td>1213019</td>\n",
       "      <td>G</td>\n",
       "      <td>A</td>\n",
       "      <td>chr5:1213019:G:A</td>\n",
       "      <td>1.142280</td>\n",
       "      <td>1.344380</td>\n",
       "      <td>3.955087e-01</td>\n",
       "    </tr>\n",
       "    <tr>\n",
       "      <th>11873</th>\n",
       "      <td>5</td>\n",
       "      <td>1213108</td>\n",
       "      <td>C</td>\n",
       "      <td>T</td>\n",
       "      <td>chr5:1213108:C:T</td>\n",
       "      <td>0.003009</td>\n",
       "      <td>0.013631</td>\n",
       "      <td>8.252701e-01</td>\n",
       "    </tr>\n",
       "    <tr>\n",
       "      <th>11874</th>\n",
       "      <td>5</td>\n",
       "      <td>1213289</td>\n",
       "      <td>T</td>\n",
       "      <td>TC</td>\n",
       "      <td>chr5:1213289:T:TC</td>\n",
       "      <td>0.039146</td>\n",
       "      <td>0.117837</td>\n",
       "      <td>7.397347e-01</td>\n",
       "    </tr>\n",
       "    <tr>\n",
       "      <th>11875</th>\n",
       "      <td>5</td>\n",
       "      <td>1213395</td>\n",
       "      <td>C</td>\n",
       "      <td>T</td>\n",
       "      <td>chr5:1213395:C:T</td>\n",
       "      <td>-0.009318</td>\n",
       "      <td>0.012922</td>\n",
       "      <td>4.708450e-01</td>\n",
       "    </tr>\n",
       "  </tbody>\n",
       "</table>\n",
       "<p>11876 rows × 8 columns</p>\n",
       "</div>"
      ],
      "text/plain": [
       "       CHR      POS REF ALT                SNP      BETA        SE  \\\n",
       "0        5   272741   A   G    chr5:272741:A:G  1.789340  0.250526   \n",
       "1        5   272748   G   C    chr5:272748:G:C  1.698750  0.279645   \n",
       "2        5   272755   A   G    chr5:272755:A:G  1.708990  0.242533   \n",
       "3        5   272758   A   G    chr5:272758:A:G -1.285990  1.782120   \n",
       "4        5   272771   C   G    chr5:272771:C:G  1.620460  0.466804   \n",
       "...    ...      ...  ..  ..                ...       ...       ...   \n",
       "11871    5  1212979   C   T   chr5:1212979:C:T  0.015881  0.023298   \n",
       "11872    5  1213019   G   A   chr5:1213019:G:A  1.142280  1.344380   \n",
       "11873    5  1213108   C   T   chr5:1213108:C:T  0.003009  0.013631   \n",
       "11874    5  1213289   T  TC  chr5:1213289:T:TC  0.039146  0.117837   \n",
       "11875    5  1213395   C   T   chr5:1213395:C:T -0.009318  0.012922   \n",
       "\n",
       "                  P  \n",
       "0      7.055048e-11  \n",
       "1      2.479648e-08  \n",
       "2      1.335826e-10  \n",
       "3      4.705362e-01  \n",
       "4      1.956681e-03  \n",
       "...             ...  \n",
       "11871  4.954616e-01  \n",
       "11872  3.955087e-01  \n",
       "11873  8.252701e-01  \n",
       "11874  7.397347e-01  \n",
       "11875  4.708450e-01  \n",
       "\n",
       "[11876 rows x 8 columns]"
      ]
     },
     "execution_count": 9,
     "metadata": {},
     "output_type": "execute_result"
    }
   ],
   "source": [
    "f3393_ori"
   ]
  },
  {
   "cell_type": "code",
   "execution_count": 6,
   "id": "790f5fc8-47a5-48f3-ad8c-da08dadf401e",
   "metadata": {
    "kernel": "Python3"
   },
   "outputs": [
    {
     "data": {
      "text/plain": [
       "3407"
      ]
     },
     "execution_count": 6,
     "metadata": {},
     "output_type": "execute_result"
    }
   ],
   "source": [
    "f3393_ori.loc[f3393_ori['POS'] == 272791].index[0]"
   ]
  },
  {
   "cell_type": "code",
   "execution_count": 7,
   "id": "e99a9b24-c808-4292-85ff-0dcb69c0fa25",
   "metadata": {
    "kernel": "Python3"
   },
   "outputs": [
    {
     "name": "stderr",
     "output_type": "stream",
     "text": [
      "/home/dmc2245/miniconda3/lib/python3.8/site-packages/pandas/core/frame.py:3607: SettingWithCopyWarning: \n",
      "A value is trying to be set on a copy of a slice from a DataFrame.\n",
      "Try using .loc[row_indexer,col_indexer] = value instead\n",
      "\n",
      "See the caveats in the documentation: https://pandas.pydata.org/pandas-docs/stable/user_guide/indexing.html#returning-a-view-versus-a-copy\n",
      "  self._set_item(key, value)\n"
     ]
    }
   ],
   "source": [
    "f3393_ori.iloc[3407:,][\"BETA\"] = -1 * f3393_ori[\"BETA\"]"
   ]
  },
  {
   "cell_type": "code",
   "execution_count": 8,
   "id": "44a8cd31-0e92-4c2b-9c46-1ceb0e3e1a29",
   "metadata": {
    "kernel": "Python3"
   },
   "outputs": [],
   "source": [
    "f3393_ori.to_csv('~/UKBiobank/results/region_extraction/111921_f3393_200Kexomes_500Kimp/5_272741_1213528/090321_UKBB_Hearing_aid_f3393_expandedwhite_6436cases_96601ctrl_PC1_2_f3393.regenie.snp_stats_5_272741_1213528.sumstats.gz', index=False, compression='gzip', sep=\"\\t\")"
   ]
  },
  {
   "cell_type": "code",
   "execution_count": 9,
   "id": "2ecbb06e-13b0-4969-8f03-d27663b4435c",
   "metadata": {
    "kernel": "Python3"
   },
   "outputs": [],
   "source": [
    "f3393_ori = pd.read_csv('~/UKBiobank/results/region_extraction/111921_f3393_200Kexomes_500Kimp/5_73776529_73849020/090321_UKBB_Hearing_aid_f3393_expandedwhite_6436cases_96601ctrl_PC1_2_f3393.regenie.snp_stats_5_73776529_73849020.sumstats_original.gz', compression='gzip', sep=\"\\t\",header=0)"
   ]
  },
  {
   "cell_type": "code",
   "execution_count": 10,
   "id": "7684c7a7-7a9e-4cd5-819f-1b7c57081c52",
   "metadata": {
    "kernel": "Python3"
   },
   "outputs": [
    {
     "data": {
      "text/plain": [
       "105"
      ]
     },
     "execution_count": 10,
     "metadata": {},
     "output_type": "execute_result"
    }
   ],
   "source": [
    "f3393_ori.loc[f3393_ori['POS'] == 73776529].index[0]"
   ]
  },
  {
   "cell_type": "code",
   "execution_count": 11,
   "id": "a8181c04-1909-490b-9ea1-caa85879dfa7",
   "metadata": {
    "kernel": "Python3"
   },
   "outputs": [],
   "source": [
    "f3393_ori.iloc[105:,][\"BETA\"] = -1 * f3393_ori[\"BETA\"]"
   ]
  },
  {
   "cell_type": "code",
   "execution_count": 12,
   "id": "eb365218-7d8f-4550-bfe2-8be67475013d",
   "metadata": {
    "kernel": "Python3"
   },
   "outputs": [],
   "source": [
    "f3393_ori.to_csv('~/UKBiobank/results/region_extraction/111921_f3393_200Kexomes_500Kimp/5_73776529_73849020/090321_UKBB_Hearing_aid_f3393_expandedwhite_6436cases_96601ctrl_PC1_2_f3393.regenie.snp_stats_5_73776529_73849020.sumstats.gz', index=False, compression='gzip', sep=\"\\t\")"
   ]
  },
  {
   "cell_type": "markdown",
   "id": "66fbff24-1a54-4492-a5de-7b9cf6feb862",
   "metadata": {
    "kernel": "Python3"
   },
   "source": [
    "#### f.2257"
   ]
  },
  {
   "cell_type": "code",
   "execution_count": 73,
   "id": "e4bb5bd6-3b75-44e7-a5e6-d057e49dd333",
   "metadata": {
    "kernel": "Python3"
   },
   "outputs": [],
   "source": [
    "f2257_ori = pd.read_csv('~/UKBiobank/results/region_extraction/111921_f2257_200Kexomes_500Kimp/5_272741_1213528/090321_UKBB_Hearing_noise_f2257_expandedwhite_65660cases_96601ctrl_PC1_2_f2257.regenie.snp_stats_5_272741_1213528.sumstats_original.gz', compression='gzip', sep=\"\\t\",header=0)"
   ]
  },
  {
   "cell_type": "code",
   "execution_count": 74,
   "id": "d6c679f3-51bb-400a-af5b-2d0ffb48d973",
   "metadata": {
    "kernel": "Python3"
   },
   "outputs": [
    {
     "data": {
      "text/plain": [
       "4528"
      ]
     },
     "execution_count": 74,
     "metadata": {},
     "output_type": "execute_result"
    }
   ],
   "source": [
    "f2257_ori.loc[f2257_ori['POS'] == 272791].index[0]"
   ]
  },
  {
   "cell_type": "code",
   "execution_count": 75,
   "id": "f6539d00-260a-4c67-89c4-d34c3aeeb01d",
   "metadata": {
    "kernel": "Python3"
   },
   "outputs": [],
   "source": [
    "f2257_ori.iloc[4528:,][\"BETA\"] = -1 * f2257_ori[\"BETA\"]"
   ]
  },
  {
   "cell_type": "code",
   "execution_count": 76,
   "id": "6f705c2a-c364-434e-8943-cbb5893c9850",
   "metadata": {
    "kernel": "Python3"
   },
   "outputs": [],
   "source": [
    "f2257_ori.to_csv('~/UKBiobank/results/region_extraction/111921_f2257_200Kexomes_500Kimp/5_272741_1213528/090321_UKBB_Hearing_noise_f2257_expandedwhite_65660cases_96601ctrl_PC1_2_f2257.regenie.snp_stats_5_272741_1213528.sumstats.gz', index=False, compression='gzip', sep=\"\\t\")"
   ]
  },
  {
   "cell_type": "markdown",
   "id": "6250f16f-34ce-4e9e-83e4-2969ba27665a",
   "metadata": {
    "kernel": "Python3"
   },
   "source": []
  },
  {
   "cell_type": "code",
   "execution_count": 77,
   "id": "e6d5f9c2-394e-4a1f-849e-eee4b8e30fd6",
   "metadata": {
    "kernel": "Python3"
   },
   "outputs": [],
   "source": [
    "f2257_ori_6 = pd.read_csv('~/UKBiobank/results/region_extraction/111921_f2257_200Kexomes_500Kimp/6_43301291_43433367/\\\n",
    "090321_UKBB_Hearing_noise_f2257_expandedwhite_65660cases_96601ctrl_PC1_2_f2257.regenie.snp_stats_6_43301291_43433367.sumstats_original.gz', compression='gzip', sep=\"\\t\",header=0)"
   ]
  },
  {
   "cell_type": "code",
   "execution_count": 78,
   "id": "09fd7594-2587-4c69-9e37-34b18e825124",
   "metadata": {
    "kernel": "Python3"
   },
   "outputs": [
    {
     "data": {
      "text/plain": [
       "733"
      ]
     },
     "execution_count": 78,
     "metadata": {},
     "output_type": "execute_result"
    }
   ],
   "source": [
    "f2257_ori_6.loc[f2257_ori_6['POS'] == 43301291].index[0]"
   ]
  },
  {
   "cell_type": "code",
   "execution_count": 79,
   "id": "0ba479cb-7600-47bf-b983-eba490f1badd",
   "metadata": {
    "kernel": "Python3"
   },
   "outputs": [],
   "source": [
    "f2257_ori_6.iloc[733:,][\"BETA\"] = -1 * f2257_ori_6[\"BETA\"]"
   ]
  },
  {
   "cell_type": "code",
   "execution_count": 80,
   "id": "295de54e-a890-4b8b-ab98-e59d6cb503bf",
   "metadata": {
    "kernel": "Python3"
   },
   "outputs": [],
   "source": [
    "f2257_ori_6.to_csv('~/UKBiobank/results/region_extraction/111921_f2257_200Kexomes_500Kimp/6_43301291_43433367/\\\n",
    "090321_UKBB_Hearing_noise_f2257_expandedwhite_65660cases_96601ctrl_PC1_2_f2257.regenie.snp_stats_6_43301291_43433367.sumstats.gz', index=False, compression='gzip', sep=\"\\t\")"
   ]
  },
  {
   "cell_type": "markdown",
   "id": "7905861c-f02e-4a39-a3a9-5b6833319d6e",
   "metadata": {
    "kernel": "Python3"
   },
   "source": [
    "#### Change filename using python"
   ]
  },
  {
   "cell_type": "code",
   "execution_count": 71,
   "id": "9dc94650-494f-4b55-bf01-72bdd12fab8b",
   "metadata": {
    "kernel": "Python3"
   },
   "outputs": [],
   "source": [
    "import os\n",
    "from glob import iglob\n",
    "\n",
    "rootdir_glob = '/mnt/mfs/statgen/UKBiobank/results/region_extraction/111921*/*/*sumstats.gz' # Note the added asterisks\n",
    "# This will return absolute paths\n",
    "file_list = [f for f in iglob(rootdir_glob, recursive=True) if os.path.isfile(f)]\n",
    "for f in file_list:\n",
    "    os.rename(f,f.split(\".sumstats.gz\")[0]+\".sumstats_original.gz\")"
   ]
  },
  {
   "cell_type": "markdown",
   "id": "0a308699-149c-4a53-8d7f-e5908d6bff59",
   "metadata": {
    "kernel": "Python3"
   },
   "source": [
    "#### f.2247"
   ]
  },
  {
   "cell_type": "code",
   "execution_count": 4,
   "id": "16519d19-6812-4f38-a37d-21f8eea22316",
   "metadata": {
    "kernel": "Python3"
   },
   "outputs": [],
   "source": [
    "f2247_1 = pd.read_csv('~/UKBiobank/results/region_extraction/111921_f2247_200Kexomes_500Kimp/1_45508256_46132601/\\\n",
    "090321_UKBB_Hearing_difficulty_f2247_expandedwhite_45502cases_96601ctrl_PC1_2_f2247.regenie.snp_stats_1_45508256_46132601.sumstats_original.gz', compression='gzip', sep=\"\\t\",header=0)"
   ]
  },
  {
   "cell_type": "code",
   "execution_count": 5,
   "id": "c8b4dbdb-9169-463e-91de-83bfceb44f33",
   "metadata": {
    "kernel": "Python3"
   },
   "outputs": [
    {
     "data": {
      "text/plain": [
       "1543"
      ]
     },
     "execution_count": 5,
     "metadata": {},
     "output_type": "execute_result"
    }
   ],
   "source": [
    "f2247_1.loc[f2247_1['POS'] == 45508256].index[0]"
   ]
  },
  {
   "cell_type": "code",
   "execution_count": 6,
   "id": "f35ae1c4-50ba-43ec-9172-e1f5c8449dce",
   "metadata": {
    "kernel": "Python3"
   },
   "outputs": [
    {
     "name": "stderr",
     "output_type": "stream",
     "text": [
      "/home/dmc2245/miniconda3/lib/python3.8/site-packages/pandas/core/frame.py:3607: SettingWithCopyWarning: \n",
      "A value is trying to be set on a copy of a slice from a DataFrame.\n",
      "Try using .loc[row_indexer,col_indexer] = value instead\n",
      "\n",
      "See the caveats in the documentation: https://pandas.pydata.org/pandas-docs/stable/user_guide/indexing.html#returning-a-view-versus-a-copy\n",
      "  self._set_item(key, value)\n"
     ]
    }
   ],
   "source": [
    "f2247_1.iloc[1543:,][\"BETA\"] = -1 * f2247_1[\"BETA\"]"
   ]
  },
  {
   "cell_type": "code",
   "execution_count": 7,
   "id": "7fb3fea6-8f4b-4736-ae95-3785f52b2b48",
   "metadata": {
    "kernel": "Python3"
   },
   "outputs": [],
   "source": [
    "f2247_1.to_csv('~/UKBiobank/results/region_extraction/111921_f2247_200Kexomes_500Kimp/1_45508256_46132601/\\\n",
    "090321_UKBB_Hearing_difficulty_f2247_expandedwhite_45502cases_96601ctrl_PC1_2_f2247.regenie.snp_stats_1_45508256_46132601.sumstats.gz', index=False, compression='gzip', sep=\"\\t\")"
   ]
  },
  {
   "cell_type": "markdown",
   "id": "2237682e-e7f2-4189-a0f0-0b6e90512611",
   "metadata": {
    "kernel": "Python3"
   },
   "source": []
  },
  {
   "cell_type": "code",
   "execution_count": 8,
   "id": "fe0946c1-7cfe-4b31-898f-3f915ac3b86d",
   "metadata": {
    "kernel": "Python3"
   },
   "outputs": [],
   "source": [
    "f2247_5_2 = pd.read_csv('~/UKBiobank/results/region_extraction/111921_f2247_200Kexomes_500Kimp/5_272741_1213528/\\\n",
    "090321_UKBB_Hearing_difficulty_f2247_expandedwhite_45502cases_96601ctrl_PC1_2_f2247.regenie.snp_stats_5_272741_1213528.sumstats_original.gz', compression='gzip', sep=\"\\t\",header=0)"
   ]
  },
  {
   "cell_type": "code",
   "execution_count": 10,
   "id": "58720611-3799-444c-ab99-880f92daa2e7",
   "metadata": {
    "kernel": "Python3"
   },
   "outputs": [
    {
     "data": {
      "text/plain": [
       "4136"
      ]
     },
     "execution_count": 10,
     "metadata": {},
     "output_type": "execute_result"
    }
   ],
   "source": [
    "f2247_5_2.loc[f2247_5_2['POS'] == 272791].index[0]"
   ]
  },
  {
   "cell_type": "code",
   "execution_count": 11,
   "id": "66684eda-3610-4d83-b6b7-bd9eb4059037",
   "metadata": {
    "kernel": "Python3"
   },
   "outputs": [],
   "source": [
    "f2247_5_2.iloc[4136:,][\"BETA\"] = -1 * f2247_5_2[\"BETA\"]"
   ]
  },
  {
   "cell_type": "code",
   "execution_count": 12,
   "id": "b9fbaa70-0591-4eac-a636-ae0602c91800",
   "metadata": {
    "kernel": "Python3"
   },
   "outputs": [],
   "source": [
    "f2247_5_2.to_csv('~/UKBiobank/results/region_extraction/111921_f2247_200Kexomes_500Kimp/5_272741_1213528/\\\n",
    "090321_UKBB_Hearing_difficulty_f2247_expandedwhite_45502cases_96601ctrl_PC1_2_f2247.regenie.snp_stats_5_272741_1213528.sumstats.gz', index=False, compression='gzip', sep=\"\\t\")"
   ]
  },
  {
   "cell_type": "markdown",
   "id": "7a578f3c-6542-4ffc-8759-64c48ca6015e",
   "metadata": {
    "kernel": "Python3"
   },
   "source": []
  },
  {
   "cell_type": "code",
   "execution_count": 13,
   "id": "fa659851-55cb-4950-80eb-9c56fa7418b0",
   "metadata": {
    "kernel": "Python3"
   },
   "outputs": [],
   "source": [
    "f2247_5_7 = pd.read_csv('~/UKBiobank/results/region_extraction/111921_f2247_200Kexomes_500Kimp/5_73776529_73864905/\\\n",
    "090321_UKBB_Hearing_difficulty_f2247_expandedwhite_45502cases_96601ctrl_PC1_2_f2247.regenie.snp_stats_5_73776529_73864905.sumstats_original.gz', compression='gzip', sep=\"\\t\",header=0)"
   ]
  },
  {
   "cell_type": "code",
   "execution_count": 14,
   "id": "0d0c806d-6737-4cdb-8d08-bd81cb04a9ec",
   "metadata": {
    "kernel": "Python3"
   },
   "outputs": [
    {
     "data": {
      "text/plain": [
       "181"
      ]
     },
     "execution_count": 14,
     "metadata": {},
     "output_type": "execute_result"
    }
   ],
   "source": [
    "f2247_5_7.loc[f2247_5_7['POS'] == 73776529].index[0]"
   ]
  },
  {
   "cell_type": "code",
   "execution_count": 15,
   "id": "128afcbd-065b-47cc-957c-100083ba4f38",
   "metadata": {
    "kernel": "Python3"
   },
   "outputs": [],
   "source": [
    "f2247_5_7.iloc[181:,][\"BETA\"] = -1 * f2247_5_7[\"BETA\"]"
   ]
  },
  {
   "cell_type": "code",
   "execution_count": 16,
   "id": "6f98b861-5675-4b7e-ae16-181054f7261d",
   "metadata": {
    "kernel": "Python3"
   },
   "outputs": [],
   "source": [
    "f2247_5_7.to_csv('~/UKBiobank/results/region_extraction/111921_f2247_200Kexomes_500Kimp/5_73776529_73864905/\\\n",
    "090321_UKBB_Hearing_difficulty_f2247_expandedwhite_45502cases_96601ctrl_PC1_2_f2247.regenie.snp_stats_5_73776529_73864905.sumstats.gz', index=False, compression='gzip', sep=\"\\t\")"
   ]
  },
  {
   "cell_type": "markdown",
   "id": "8f432c18-1ce9-49b3-b420-f52bccf1696e",
   "metadata": {
    "kernel": "Python3"
   },
   "source": []
  },
  {
   "cell_type": "code",
   "execution_count": 17,
   "id": "e323a59a-814d-4667-96c2-72cc1367bb58",
   "metadata": {
    "kernel": "Python3"
   },
   "outputs": [],
   "source": [
    "f2247_6 = pd.read_csv('~/UKBiobank/results/region_extraction/111921_f2247_200Kexomes_500Kimp/6_43301291_43433367/\\\n",
    "090321_UKBB_Hearing_difficulty_f2247_expandedwhite_45502cases_96601ctrl_PC1_2_f2247.regenie.snp_stats_6_43301291_43433367.sumstats_original.gz', compression='gzip', sep=\"\\t\",header=0)"
   ]
  },
  {
   "cell_type": "code",
   "execution_count": 18,
   "id": "57cc6352-9aa4-46a0-a61d-e2412522f3c2",
   "metadata": {
    "kernel": "Python3"
   },
   "outputs": [
    {
     "data": {
      "text/plain": [
       "661"
      ]
     },
     "execution_count": 18,
     "metadata": {},
     "output_type": "execute_result"
    }
   ],
   "source": [
    "f2247_6.loc[f2247_6['POS'] == 43301291].index[0]"
   ]
  },
  {
   "cell_type": "code",
   "execution_count": 19,
   "id": "5504e3d8-241f-423b-a44b-23bec51a9b7d",
   "metadata": {
    "kernel": "Python3"
   },
   "outputs": [],
   "source": [
    "f2247_6.iloc[661:,][\"BETA\"] = -1 * f2247_6[\"BETA\"]"
   ]
  },
  {
   "cell_type": "code",
   "execution_count": 20,
   "id": "987680d3-2740-4edf-9fa6-a816f1fabb86",
   "metadata": {
    "kernel": "Python3"
   },
   "outputs": [],
   "source": [
    "f2247_6.to_csv('~/UKBiobank/results/region_extraction/111921_f2247_200Kexomes_500Kimp/6_43301291_43433367/\\\n",
    "090321_UKBB_Hearing_difficulty_f2247_expandedwhite_45502cases_96601ctrl_PC1_2_f2247.regenie.snp_stats_6_43301291_43433367.sumstats.gz', index=False, compression='gzip', sep=\"\\t\")"
   ]
  },
  {
   "cell_type": "markdown",
   "id": "80128740-bdc5-4100-ac15-0c282146f24f",
   "metadata": {
    "kernel": "Python3"
   },
   "source": []
  },
  {
   "cell_type": "code",
   "execution_count": 21,
   "id": "38d604e7-aa55-4ead-aaf0-0432c83e081a",
   "metadata": {
    "kernel": "Python3"
   },
   "outputs": [],
   "source": [
    "f2247_7 = pd.read_csv('~/UKBiobank/results/region_extraction/111921_f2247_200Kexomes_500Kimp/7_73435848_73606007/\\\n",
    "090321_UKBB_Hearing_difficulty_f2247_expandedwhite_45502cases_96601ctrl_PC1_2_f2247.regenie.snp_stats_7_73435848_73606007.sumstats_original.gz', compression='gzip', sep=\"\\t\",header=0)"
   ]
  },
  {
   "cell_type": "code",
   "execution_count": 22,
   "id": "5a4c2afd-ee20-4f37-a45a-2939a98da619",
   "metadata": {
    "kernel": "Python3"
   },
   "outputs": [
    {
     "data": {
      "text/plain": [
       "724"
      ]
     },
     "execution_count": 22,
     "metadata": {},
     "output_type": "execute_result"
    }
   ],
   "source": [
    "f2247_7.loc[f2247_7['POS'] == 73435848].index[0]"
   ]
  },
  {
   "cell_type": "code",
   "execution_count": 23,
   "id": "db3ccbd7-1204-4394-b894-4f9ebe16b885",
   "metadata": {
    "kernel": "Python3"
   },
   "outputs": [],
   "source": [
    "f2247_7.iloc[724:,][\"BETA\"] = -1 * f2247_7[\"BETA\"]"
   ]
  },
  {
   "cell_type": "code",
   "execution_count": 24,
   "id": "fb5ffaf7-51e2-4b48-9f78-3bef0465a00a",
   "metadata": {
    "kernel": "Python3"
   },
   "outputs": [],
   "source": [
    "f2247_7.to_csv('~/UKBiobank/results/region_extraction/111921_f2247_200Kexomes_500Kimp/7_73435848_73606007/\\\n",
    "090321_UKBB_Hearing_difficulty_f2247_expandedwhite_45502cases_96601ctrl_PC1_2_f2247.regenie.snp_stats_7_73435848_73606007.sumstats.gz', index=False, compression='gzip', sep=\"\\t\")"
   ]
  },
  {
   "cell_type": "markdown",
   "id": "cdc75900-8df3-4adb-8c85-fca21e2f7c19",
   "metadata": {
    "kernel": "Python3"
   },
   "source": []
  },
  {
   "cell_type": "code",
   "execution_count": 55,
   "id": "36836171-faee-40b4-9f99-04e22527ed26",
   "metadata": {
    "kernel": "Python3"
   },
   "outputs": [],
   "source": [
    "f2247_22_3 = pd.read_csv('~/UKBiobank/results/region_extraction/111921_f2247_200Kexomes_500Kimp/22_37945127_38139939/\\\n",
    "090321_UKBB_Hearing_difficulty_f2247_expandedwhite_45502cases_96601ctrl_PC1_2_f2247.regenie.snp_stats_22_37945127_38139939.sumstats_original.gz', compression='gzip', sep=\"\\t\",header=0)"
   ]
  },
  {
   "cell_type": "code",
   "execution_count": 56,
   "id": "edb6d3a4-1035-4081-81d0-3689f71f9edf",
   "metadata": {
    "kernel": "Python3"
   },
   "outputs": [
    {
     "data": {
      "text/plain": [
       "1241"
      ]
     },
     "execution_count": 56,
     "metadata": {},
     "output_type": "execute_result"
    }
   ],
   "source": [
    "f2247_22_3.loc[f2247_22_3['POS'] == 37945127].index[0]"
   ]
  },
  {
   "cell_type": "code",
   "execution_count": 57,
   "id": "46ae0a8a-1807-4800-a579-1becf9137dd7",
   "metadata": {
    "kernel": "Python3"
   },
   "outputs": [],
   "source": [
    "f2247_22_3.iloc[1241:,][\"BETA\"] = -1 * f2247_22_3[\"BETA\"]"
   ]
  },
  {
   "cell_type": "code",
   "execution_count": 58,
   "id": "bff1d869-080e-4c9c-b413-80044d770013",
   "metadata": {
    "kernel": "Python3"
   },
   "outputs": [],
   "source": [
    "f2247_22_3.to_csv('~/UKBiobank/results/region_extraction/111921_f2247_200Kexomes_500Kimp/22_37945127_38139939/\\\n",
    "090321_UKBB_Hearing_difficulty_f2247_expandedwhite_45502cases_96601ctrl_PC1_2_f2247.regenie.snp_stats_22_37945127_38139939.sumstats.gz', index=False, compression='gzip', sep=\"\\t\")"
   ]
  },
  {
   "cell_type": "markdown",
   "id": "3711ab82-3a20-473b-81bc-30cd5ff6384c",
   "metadata": {
    "kernel": "Python3"
   },
   "source": []
  },
  {
   "cell_type": "code",
   "execution_count": 25,
   "id": "26c54228-17d6-4d48-b1a9-9f54940e8695",
   "metadata": {
    "kernel": "Python3"
   },
   "outputs": [],
   "source": [
    "f2247_22_5 = pd.read_csv('~/UKBiobank/results/region_extraction/111921_f2247_200Kexomes_500Kimp/22_50519304_50549676/\\\n",
    "090321_UKBB_Hearing_difficulty_f2247_expandedwhite_45502cases_96601ctrl_PC1_2_f2247.regenie.snp_stats_22_50519304_50549676.sumstats_original.gz', compression='gzip', sep=\"\\t\",header=0)"
   ]
  },
  {
   "cell_type": "code",
   "execution_count": 26,
   "id": "a1625e25-92e1-487a-bc37-2db176c5bc17",
   "metadata": {
    "kernel": "Python3"
   },
   "outputs": [
    {
     "data": {
      "text/plain": [
       "645"
      ]
     },
     "execution_count": 26,
     "metadata": {},
     "output_type": "execute_result"
    }
   ],
   "source": [
    "f2247_22_5.loc[f2247_22_5['POS'] == 50519304].index[0]"
   ]
  },
  {
   "cell_type": "code",
   "execution_count": 27,
   "id": "066724c1-4fce-4b85-9405-8b20248da317",
   "metadata": {
    "kernel": "Python3"
   },
   "outputs": [],
   "source": [
    "f2247_22_5.iloc[645:,][\"BETA\"] = -1 * f2247_22_5[\"BETA\"]"
   ]
  },
  {
   "cell_type": "code",
   "execution_count": 28,
   "id": "ef10e0ef-efb7-4e4f-93ed-70962cf1e9f0",
   "metadata": {
    "kernel": "Python3"
   },
   "outputs": [],
   "source": [
    "f2247_22_5.to_csv('~/UKBiobank/results/region_extraction/111921_f2247_200Kexomes_500Kimp/22_50519304_50549676/\\\n",
    "090321_UKBB_Hearing_difficulty_f2247_expandedwhite_45502cases_96601ctrl_PC1_2_f2247.regenie.snp_stats_22_50519304_50549676.sumstats.gz', index=False, compression='gzip', sep=\"\\t\")"
   ]
  },
  {
   "cell_type": "markdown",
   "id": "d63a9456-d6e0-421d-8cb0-2033242d7901",
   "metadata": {
    "kernel": "Python3"
   },
   "source": [
    "#### Combined"
   ]
  },
  {
   "cell_type": "code",
   "execution_count": 29,
   "id": "f66659e0-d254-471d-b657-54c14bd069f1",
   "metadata": {
    "kernel": "Python3"
   },
   "outputs": [],
   "source": [
    "comb_1 = pd.read_csv('~/UKBiobank/results/region_extraction/111921_f2247_f2257_200Kexomes_500Kimp/1_45508256_46132601/\\\n",
    "090321_UKBB_Combined_f2247_f2257_expandedwhite_38410cases_96601ctrl_PC1_2_f2247_f2257.regenie.snp_stats_1_45508256_46132601.sumstats_original.gz', compression='gzip', sep=\"\\t\",header=0)"
   ]
  },
  {
   "cell_type": "code",
   "execution_count": 30,
   "id": "e9809f02-aafd-4aaf-99dd-64ff2cd2a287",
   "metadata": {
    "kernel": "Python3"
   },
   "outputs": [
    {
     "data": {
      "text/plain": [
       "1479"
      ]
     },
     "execution_count": 30,
     "metadata": {},
     "output_type": "execute_result"
    }
   ],
   "source": [
    "comb_1.loc[comb_1['POS'] == 45508256].index[0]"
   ]
  },
  {
   "cell_type": "code",
   "execution_count": 31,
   "id": "6d11c9d2-a43f-46c9-92ce-f4ba2616ba13",
   "metadata": {
    "kernel": "Python3"
   },
   "outputs": [],
   "source": [
    "comb_1.iloc[1479:,][\"BETA\"] = -1 * comb_1[\"BETA\"]"
   ]
  },
  {
   "cell_type": "code",
   "execution_count": 32,
   "id": "a30bd280-c54a-47dc-b5f4-aaadf97daf62",
   "metadata": {
    "kernel": "Python3"
   },
   "outputs": [],
   "source": [
    "comb_1.to_csv('~/UKBiobank/results/region_extraction/111921_f2247_f2257_200Kexomes_500Kimp/1_45508256_46132601/\\\n",
    "090321_UKBB_Combined_f2247_f2257_expandedwhite_38410cases_96601ctrl_PC1_2_f2247_f2257.regenie.snp_stats_1_45508256_46132601.sumstats.gz', index=False, compression='gzip', sep=\"\\t\")"
   ]
  },
  {
   "cell_type": "markdown",
   "id": "e4ec4bf5-9736-41a0-aad3-e9281f0c2dfe",
   "metadata": {
    "kernel": "Python3"
   },
   "source": []
  },
  {
   "cell_type": "code",
   "execution_count": 33,
   "id": "e2996d57-766c-43e7-9061-0109a5a18142",
   "metadata": {
    "kernel": "Python3"
   },
   "outputs": [],
   "source": [
    "comb_5_2 = pd.read_csv('~/UKBiobank/results/region_extraction/111921_f2247_f2257_200Kexomes_500Kimp/5_272741_1213528/\\\n",
    "090321_UKBB_Combined_f2247_f2257_expandedwhite_38410cases_96601ctrl_PC1_2_f2247_f2257.regenie.snp_stats_5_272741_1213528.sumstats_original.gz', compression='gzip', sep=\"\\t\",header=0)"
   ]
  },
  {
   "cell_type": "code",
   "execution_count": 34,
   "id": "a9d63617-9641-4908-8365-cac4182d09f3",
   "metadata": {
    "kernel": "Python3"
   },
   "outputs": [
    {
     "data": {
      "text/plain": [
       "4014"
      ]
     },
     "execution_count": 34,
     "metadata": {},
     "output_type": "execute_result"
    }
   ],
   "source": [
    "comb_5_2.loc[comb_5_2['POS'] == 272791].index[0]"
   ]
  },
  {
   "cell_type": "code",
   "execution_count": 35,
   "id": "a91302c8-5d7c-44b1-a0e3-5863e35e2037",
   "metadata": {
    "kernel": "Python3"
   },
   "outputs": [],
   "source": [
    "comb_5_2.iloc[4014:,][\"BETA\"] = -1 * comb_5_2[\"BETA\"]"
   ]
  },
  {
   "cell_type": "code",
   "execution_count": 36,
   "id": "46fdd0a2-b108-47d9-ac2e-2618df9f81a3",
   "metadata": {
    "kernel": "Python3"
   },
   "outputs": [],
   "source": [
    "comb_5_2.to_csv('~/UKBiobank/results/region_extraction/111921_f2247_f2257_200Kexomes_500Kimp/5_272741_1213528/\\\n",
    "090321_UKBB_Combined_f2247_f2257_expandedwhite_38410cases_96601ctrl_PC1_2_f2247_f2257.regenie.snp_stats_5_272741_1213528.sumstats.gz', index=False, compression='gzip', sep=\"\\t\")"
   ]
  },
  {
   "cell_type": "markdown",
   "id": "4e3e082f-5883-466f-ae2c-f88bd1fcfce7",
   "metadata": {
    "kernel": "Python3"
   },
   "source": []
  },
  {
   "cell_type": "code",
   "execution_count": 37,
   "id": "ba986d35-b9b0-4fc3-ae3a-ec8ba4f1f943",
   "metadata": {
    "kernel": "Python3"
   },
   "outputs": [],
   "source": [
    "comb_5_7 = pd.read_csv('~/UKBiobank/results/region_extraction/111921_f2247_f2257_200Kexomes_500Kimp/5_73776529_73864905/\\\n",
    "090321_UKBB_Combined_f2247_f2257_expandedwhite_38410cases_96601ctrl_PC1_2_f2247_f2257.regenie.snp_stats_5_73776529_73864905.sumstats_original.gz', compression='gzip', sep=\"\\t\",header=0)"
   ]
  },
  {
   "cell_type": "code",
   "execution_count": 38,
   "id": "999146e0-5e60-4bd5-a366-5c101b69ebcc",
   "metadata": {
    "kernel": "Python3"
   },
   "outputs": [
    {
     "data": {
      "text/plain": [
       "167"
      ]
     },
     "execution_count": 38,
     "metadata": {},
     "output_type": "execute_result"
    }
   ],
   "source": [
    "comb_5_7.loc[comb_5_7['POS'] == 73776529].index[0]"
   ]
  },
  {
   "cell_type": "code",
   "execution_count": 39,
   "id": "5e31f985-effc-474a-ad44-6e41db8732df",
   "metadata": {
    "kernel": "Python3"
   },
   "outputs": [],
   "source": [
    "comb_5_7.iloc[167:,][\"BETA\"] = -1 * comb_5_7[\"BETA\"]"
   ]
  },
  {
   "cell_type": "code",
   "execution_count": 40,
   "id": "6e6af789-3879-4c78-8d9a-01be146340eb",
   "metadata": {
    "kernel": "Python3"
   },
   "outputs": [],
   "source": [
    "comb_5_7.to_csv('~/UKBiobank/results/region_extraction/111921_f2247_f2257_200Kexomes_500Kimp/5_73776529_73864905/\\\n",
    "090321_UKBB_Combined_f2247_f2257_expandedwhite_38410cases_96601ctrl_PC1_2_f2247_f2257.regenie.snp_stats_5_73776529_73864905.sumstats.gz', index=False, compression='gzip', sep=\"\\t\")"
   ]
  },
  {
   "cell_type": "markdown",
   "id": "f1943f03-de70-4cde-92d0-8a403b86b814",
   "metadata": {
    "kernel": "Python3"
   },
   "source": []
  },
  {
   "cell_type": "code",
   "execution_count": 16,
   "id": "5c448a67-938a-492b-a9f5-eedecfd246fb",
   "metadata": {
    "kernel": "Python3"
   },
   "outputs": [],
   "source": [
    "comb_6 = pd.read_csv('~/UKBiobank/results/region_extraction/111921_f2247_f2257_200Kexomes_500Kimp/6_43301291_43433367/\\\n",
    "090321_UKBB_Combined_f2247_f2257_expandedwhite_38410cases_96601ctrl_PC1_2_f2247_f2257.regenie.snp_stats_6_43301291_43433367.sumstats_original.gz', compression='gzip', sep=\"\\t\",header=0)"
   ]
  },
  {
   "cell_type": "code",
   "execution_count": 17,
   "id": "3967f74d-3019-451d-bf03-0a56a71406b1",
   "metadata": {
    "kernel": "Python3"
   },
   "outputs": [
    {
     "data": {
      "text/plain": [
       "634"
      ]
     },
     "execution_count": 17,
     "metadata": {},
     "output_type": "execute_result"
    }
   ],
   "source": [
    "comb_6.loc[comb_6['POS'] == 43301291].index[0]"
   ]
  },
  {
   "cell_type": "code",
   "execution_count": 18,
   "id": "fb69e0ac-5634-4b07-9e6c-379ffd1abd93",
   "metadata": {
    "kernel": "Python3"
   },
   "outputs": [],
   "source": [
    "comb_6.iloc[634:,][\"BETA\"] = -1 * comb_6[\"BETA\"]"
   ]
  },
  {
   "cell_type": "code",
   "execution_count": 19,
   "id": "66f0c645-b524-4ea0-801c-00d3ea0d9ca1",
   "metadata": {
    "kernel": "Python3"
   },
   "outputs": [],
   "source": [
    "comb_6.to_csv('~/UKBiobank/results/region_extraction/111921_f2247_f2257_200Kexomes_500Kimp/6_43301291_43433367/\\\n",
    "090321_UKBB_Combined_f2247_f2257_expandedwhite_38410cases_96601ctrl_PC1_2_f2247_f2257.regenie.snp_stats_6_43301291_43433367.sumstats.gz', index=False, compression='gzip', sep=\"\\t\")"
   ]
  },
  {
   "cell_type": "markdown",
   "id": "a678460f-769e-48e6-8c37-63e97d83a06f",
   "metadata": {
    "kernel": "Python3"
   },
   "source": []
  },
  {
   "cell_type": "code",
   "execution_count": 50,
   "id": "791f2e51-4c15-44b6-b1b0-f613bc6ab9f0",
   "metadata": {
    "kernel": "Python3"
   },
   "outputs": [],
   "source": [
    "comb_7 = pd.read_csv('~/UKBiobank/results/region_extraction/111921_f2247_f2257_200Kexomes_500Kimp/7_73435848_73606007/\\\n",
    "090321_UKBB_Combined_f2247_f2257_expandedwhite_38410cases_96601ctrl_PC1_2_f2247_f2257.regenie.snp_stats_7_73435848_73606007.sumstats_original.gz', compression='gzip', sep=\"\\t\",header=0)"
   ]
  },
  {
   "cell_type": "code",
   "execution_count": 51,
   "id": "5be60ce0-f615-462a-9379-cb900196ff3c",
   "metadata": {
    "kernel": "Python3"
   },
   "outputs": [
    {
     "data": {
      "text/plain": [
       "697"
      ]
     },
     "execution_count": 51,
     "metadata": {},
     "output_type": "execute_result"
    }
   ],
   "source": [
    "comb_7.loc[comb_7['POS'] == 73435848].index[0]"
   ]
  },
  {
   "cell_type": "code",
   "execution_count": 52,
   "id": "779d7437-a9b7-4696-b287-7c2e9782cecf",
   "metadata": {
    "kernel": "Python3"
   },
   "outputs": [],
   "source": [
    "comb_7.iloc[697:,][\"BETA\"] = -1 * comb_7[\"BETA\"]"
   ]
  },
  {
   "cell_type": "code",
   "execution_count": 53,
   "id": "c7c4676a-a40b-40f5-a91d-ca8fc77b5929",
   "metadata": {
    "kernel": "Python3"
   },
   "outputs": [],
   "source": [
    "comb_7.to_csv('~/UKBiobank/results/region_extraction/111921_f2247_f2257_200Kexomes_500Kimp/7_73435848_73606007/\\\n",
    "090321_UKBB_Combined_f2247_f2257_expandedwhite_38410cases_96601ctrl_PC1_2_f2247_f2257.regenie.snp_stats_7_73435848_73606007.sumstats.gz', index=False, compression='gzip', sep=\"\\t\")"
   ]
  },
  {
   "cell_type": "markdown",
   "id": "1c4a2491-27ae-40c2-b32f-821edbd08275",
   "metadata": {
    "kernel": "Python3"
   },
   "source": []
  },
  {
   "cell_type": "code",
   "execution_count": 60,
   "id": "7c2fa0c9-ec24-47e3-aab5-6d1a7c92bd9c",
   "metadata": {
    "kernel": "Python3"
   },
   "outputs": [],
   "source": [
    "comb_22_5 = pd.read_csv('~/UKBiobank/results/region_extraction/111921_f2247_f2257_200Kexomes_500Kimp/22_50519304_50549676/\\\n",
    "090321_UKBB_Combined_f2247_f2257_expandedwhite_38410cases_96601ctrl_PC1_2_f2247_f2257.regenie.snp_stats_22_50519304_50549676.sumstats_original.gz', compression='gzip', sep=\"\\t\",header=0)"
   ]
  },
  {
   "cell_type": "code",
   "execution_count": 61,
   "id": "4f765863-22ea-4712-802d-c0a5a63f2f90",
   "metadata": {
    "kernel": "Python3"
   },
   "outputs": [
    {
     "data": {
      "text/plain": [
       "620"
      ]
     },
     "execution_count": 61,
     "metadata": {},
     "output_type": "execute_result"
    }
   ],
   "source": [
    "comb_22_5.loc[comb_22_5['POS'] == 50519304].index[0]"
   ]
  },
  {
   "cell_type": "code",
   "execution_count": 62,
   "id": "b7c7bfd6-234d-458e-b476-fde8aa1b40cb",
   "metadata": {
    "kernel": "Python3"
   },
   "outputs": [],
   "source": [
    "comb_22_5.iloc[620:,][\"BETA\"] = -1 * comb_22_5[\"BETA\"]"
   ]
  },
  {
   "cell_type": "code",
   "execution_count": 63,
   "id": "784bf50e-d093-4a8c-b7b5-88e6ef404a24",
   "metadata": {
    "kernel": "Python3"
   },
   "outputs": [],
   "source": [
    "comb_22_5.to_csv('~/UKBiobank/results/region_extraction/111921_f2247_f2257_200Kexomes_500Kimp/22_50519304_50549676/\\\n",
    "090321_UKBB_Combined_f2247_f2257_expandedwhite_38410cases_96601ctrl_PC1_2_f2247_f2257.regenie.snp_stats_22_50519304_50549676.sumstats.gz', index=False, compression='gzip', sep=\"\\t\")"
   ]
  },
  {
   "cell_type": "code",
   "execution_count": null,
   "id": "16314c95-b597-4438-8377-084758ead596",
   "metadata": {
    "kernel": "Python3"
   },
   "outputs": [],
   "source": []
  },
  {
   "cell_type": "markdown",
   "id": "552bd810-e853-45e6-80c4-699d0de16576",
   "metadata": {
    "kernel": "Bash",
    "tags": []
   },
   "source": [
    "## Try fine mapping again with this new dataset "
   ]
  },
  {
   "cell_type": "code",
   "execution_count": 13,
   "id": "9c5f2494-6db7-44a4-a00e-f9ad8e847650",
   "metadata": {
    "kernel": "Bash",
    "tags": []
   },
   "outputs": [
    {
     "name": "stdout",
     "output_type": "stream",
     "text": [
      "INFO: Running \u001b[32mdefault_1\u001b[0m: \n",
      "INFO: Step \u001b[32mdefault_1\u001b[0m (index=1) is \u001b[32mignored\u001b[0m with signature constructed\n",
      "INFO: Step \u001b[32mdefault_1\u001b[0m (index=0) is \u001b[32mignored\u001b[0m with signature constructed\n",
      "INFO: \u001b[32mdefault_1\u001b[0m output:   \u001b[32m/home/dmc2245/UKBiobank/results/fine_mapping/112221_f3393_200kexomes_500kimp/121021_beta_sign_fixed/5_272741_1213528.090321_UKBB_Hearing_aid_f3393_expandedwhite_6436cases_96601ctrl_PC1_2_f3393.regenie.SuSiE_RSS.rds /home/dmc2245/UKBiobank/results/fine_mapping/112221_f3393_200kexomes_500kimp/121021_beta_sign_fixed/5_73776529_73849020.090321_UKBB_Hearing_aid_f3393_expandedwhite_6436cases_96601ctrl_PC1_2_f3393.regenie.SuSiE_RSS.rds in 2 groups\u001b[0m\n",
      "INFO: Running \u001b[32mdefault_2\u001b[0m: \n",
      "INFO: Step \u001b[32mdefault_2\u001b[0m (index=1) is \u001b[32mignored\u001b[0m with signature constructed\n",
      "INFO: Step \u001b[32mdefault_2\u001b[0m (index=0) is \u001b[32mignored\u001b[0m with signature constructed\n",
      "INFO: \u001b[32mdefault_2\u001b[0m output:   \u001b[32m/home/dmc2245/UKBiobank/results/fine_mapping/112221_f3393_200kexomes_500kimp/121021_beta_sign_fixed/5_272741_1213528.090321_UKBB_Hearing_aid_f3393_expandedwhite_6436cases_96601ctrl_PC1_2_f3393.regenie.SuSiE_RSS.png /home/dmc2245/UKBiobank/results/fine_mapping/112221_f3393_200kexomes_500kimp/121021_beta_sign_fixed/5_73776529_73849020.090321_UKBB_Hearing_aid_f3393_expandedwhite_6436cases_96601ctrl_PC1_2_f3393.regenie.SuSiE_RSS.png in 2 groups\u001b[0m\n",
      "INFO: Running \u001b[32mdefault_3\u001b[0m: \n",
      "[2]\n",
      "L1\n",
      "L2\n",
      "[2, 0]\n",
      "INFO: \u001b[32mdefault_3\u001b[0m is \u001b[32mcompleted\u001b[0m.\n",
      "INFO: \u001b[32mdefault_3\u001b[0m output:   \u001b[32m/home/dmc2245/UKBiobank/results/fine_mapping/112221_f3393_200kexomes_500kimp/121021_beta_sign_fixed/090321_UKBB_Hearing_aid_f3393_expandedwhite_6436cases_96601ctrl_PC1_2_f3393.regenie.analysis_summary.md /home/dmc2245/UKBiobank/results/fine_mapping/112221_f3393_200kexomes_500kimp/121021_beta_sign_fixed/090321_UKBB_Hearing_aid_f3393_expandedwhite_6436cases_96601ctrl_PC1_2_f3393.regenie.causalvariants.csv... (3 items)\u001b[0m\n",
      "INFO: Running \u001b[32mdefault_4\u001b[0m: Generate analysis report: HTML file, and optionally PPTX file\n",
      "INFO: \u001b[32mdefault_4\u001b[0m is \u001b[32mcompleted\u001b[0m.\n",
      "INFO: \u001b[32mdefault_4\u001b[0m output:   \u001b[32m/home/dmc2245/UKBiobank/results/fine_mapping/112221_f3393_200kexomes_500kimp/121021_beta_sign_fixed/090321_UKBB_Hearing_aid_f3393_expandedwhite_6436cases_96601ctrl_PC1_2_f3393.regenie.analysis_summary.html\u001b[0m\n",
      "INFO: Workflow default (ID=w0898f2733b7258a1) is executed successfully with 2 completed steps, 2 ignored steps and 4 ignored substeps.\n",
      "\n"
     ]
    }
   ],
   "source": [
    "export PATH=$HOME/miniconda3/bin:$PATH\n",
    "module load Singularity/3.5.3\n",
    "sos run /home/dmc2245/project/bioworkflows_diana/fine-mapping/SuSiE_RSS_Diana.ipynb \\\n",
    "    default\\\n",
    "    --cwd /home/dmc2245/UKBiobank/results/fine_mapping/112221_f3393_200kexomes_500kimp/121021_beta_sign_fixed\\\n",
    "    --region_dir /home/dmc2245/UKBiobank/results/region_extraction/111921_f3393_200Kexomes_500Kimp\\\n",
    "    --region_file /home/dmc2245/UKBiobank/results/region_extraction/111921_f3393_200Kexomes_500Kimp/f3393_region_file.txt\\\n",
    "    --sumstats_path /home/dmc2245/UKBiobank/results/REGENIE_results/results_exome_data/090921_f3393_hearing_aid_200K/*.snp_stats.gz\\\n",
    "    --container_lmm /home/dmc2245/containers/lmm.sif\\\n",
    "    --container_marp /home/dmc2245/containers/marp.sif\\\n",
    "    -s build"
   ]
  },
  {
   "cell_type": "code",
   "execution_count": 15,
   "id": "0468672d-43e6-4c63-8d08-39afad079708",
   "metadata": {
    "kernel": "Bash"
   },
   "outputs": [
    {
     "name": "stdout",
     "output_type": "stream",
     "text": [
      "INFO: Running \u001b[32mdefault_1\u001b[0m: \n",
      "INFO: Step \u001b[32mdefault_1\u001b[0m (index=0) is \u001b[32mignored\u001b[0m with signature constructed\n",
      "INFO: Step \u001b[32mdefault_1\u001b[0m (index=3) is \u001b[32mignored\u001b[0m with signature constructed\n",
      "INFO: Step \u001b[32mdefault_1\u001b[0m (index=4) is \u001b[32mignored\u001b[0m with signature constructed\n",
      "INFO: Step \u001b[32mdefault_1\u001b[0m (index=2) is \u001b[32mignored\u001b[0m with signature constructed\n",
      "INFO: Step \u001b[32mdefault_1\u001b[0m (index=6) is \u001b[32mignored\u001b[0m with signature constructed\n",
      "INFO: Step \u001b[32mdefault_1\u001b[0m (index=1) is \u001b[32mignored\u001b[0m with signature constructed\n",
      "INFO: Step \u001b[32mdefault_1\u001b[0m (index=5) is \u001b[32mignored\u001b[0m with signature constructed\n",
      "INFO: \u001b[32mdefault_1\u001b[0m output:   \u001b[32m/home/dmc2245/UKBiobank/results/fine_mapping/112221_f2247_200kexomes_500kimp/121021_beta_sign_fixed/1_45508256_46132601.090321_UKBB_Hearing_difficulty_f2247_expandedwhite_45502cases_96601ctrl_PC1_2_f2247.regenie.SuSiE_RSS.rds /home/dmc2245/UKBiobank/results/fine_mapping/112221_f2247_200kexomes_500kimp/121021_beta_sign_fixed/22_37945127_38139939.090321_UKBB_Hearing_difficulty_f2247_expandedwhite_45502cases_96601ctrl_PC1_2_f2247.regenie.SuSiE_RSS.rds... (7 items in 7 groups)\u001b[0m\n",
      "INFO: Running \u001b[32mdefault_2\u001b[0m: \n",
      "INFO: Step \u001b[32mdefault_2\u001b[0m (index=1) is \u001b[32mignored\u001b[0m with signature constructed\n",
      "INFO: Step \u001b[32mdefault_2\u001b[0m (index=2) is \u001b[32mignored\u001b[0m with signature constructed\n",
      "INFO: Step \u001b[32mdefault_2\u001b[0m (index=0) is \u001b[32mignored\u001b[0m with signature constructed\n",
      "INFO: Step \u001b[32mdefault_2\u001b[0m (index=3) is \u001b[32mignored\u001b[0m with signature constructed\n",
      "INFO: Step \u001b[32mdefault_2\u001b[0m (index=4) is \u001b[32mignored\u001b[0m with signature constructed\n",
      "INFO: Step \u001b[32mdefault_2\u001b[0m (index=5) is \u001b[32mignored\u001b[0m with signature constructed\n",
      "INFO: Step \u001b[32mdefault_2\u001b[0m (index=6) is \u001b[32mignored\u001b[0m with signature constructed\n",
      "INFO: \u001b[32mdefault_2\u001b[0m output:   \u001b[32m/home/dmc2245/UKBiobank/results/fine_mapping/112221_f2247_200kexomes_500kimp/121021_beta_sign_fixed/1_45508256_46132601.090321_UKBB_Hearing_difficulty_f2247_expandedwhite_45502cases_96601ctrl_PC1_2_f2247.regenie.SuSiE_RSS.png /home/dmc2245/UKBiobank/results/fine_mapping/112221_f2247_200kexomes_500kimp/121021_beta_sign_fixed/22_37945127_38139939.090321_UKBB_Hearing_difficulty_f2247_expandedwhite_45502cases_96601ctrl_PC1_2_f2247.regenie.SuSiE_RSS.png... (7 items in 7 groups)\u001b[0m\n",
      "INFO: Running \u001b[32mdefault_3\u001b[0m: \n",
      "[0]\n",
      "[0, 0]\n",
      "[0, 0, 1]\n",
      "L1\n",
      "[0, 0, 1, 1]\n",
      "L1\n",
      "[0, 0, 1, 1, 0]\n",
      "[0, 0, 1, 1, 0, 0]\n",
      "[0, 0, 1, 1, 0, 0, 0]\n",
      "INFO: \u001b[32mdefault_3\u001b[0m is \u001b[32mcompleted\u001b[0m.\n",
      "INFO: \u001b[32mdefault_3\u001b[0m output:   \u001b[32m/home/dmc2245/UKBiobank/results/fine_mapping/112221_f2247_200kexomes_500kimp/121021_beta_sign_fixed/090321_UKBB_Hearing_difficulty_f2247_expandedwhite_45502cases_96601ctrl_PC1_2_f2247.regenie.analysis_summary.md /home/dmc2245/UKBiobank/results/fine_mapping/112221_f2247_200kexomes_500kimp/121021_beta_sign_fixed/090321_UKBB_Hearing_difficulty_f2247_expandedwhite_45502cases_96601ctrl_PC1_2_f2247.regenie.causalvariants.csv... (3 items)\u001b[0m\n",
      "INFO: Running \u001b[32mdefault_4\u001b[0m: Generate analysis report: HTML file, and optionally PPTX file\n",
      "INFO: \u001b[32mdefault_4\u001b[0m is \u001b[32mcompleted\u001b[0m.\n",
      "INFO: \u001b[32mdefault_4\u001b[0m output:   \u001b[32m/home/dmc2245/UKBiobank/results/fine_mapping/112221_f2247_200kexomes_500kimp/121021_beta_sign_fixed/090321_UKBB_Hearing_difficulty_f2247_expandedwhite_45502cases_96601ctrl_PC1_2_f2247.regenie.analysis_summary.html\u001b[0m\n",
      "INFO: Workflow default (ID=w91d2808f8be8d0e6) is executed successfully with 2 completed steps, 2 ignored steps and 14 ignored substeps.\n",
      "\n"
     ]
    }
   ],
   "source": [
    "export PATH=$HOME/miniconda3/bin:$PATH\n",
    "module load Singularity/3.5.3\n",
    "sos run /home/dmc2245/project/bioworkflows_diana/fine-mapping/SuSiE_RSS_Diana.ipynb \\\n",
    "    default \\\n",
    "    --cwd /home/dmc2245/UKBiobank/results/fine_mapping/112221_f2247_200kexomes_500kimp/121021_beta_sign_fixed \\\n",
    "    --region_dir /home/dmc2245/UKBiobank/results/region_extraction/111921_f2247_200Kexomes_500Kimp \\\n",
    "    --region_file /home/dmc2245/UKBiobank/results/region_extraction/111921_f2247_200Kexomes_500Kimp/f2247_region_file.txt \\\n",
    "    --sumstats_path /home/dmc2245/UKBiobank/results/REGENIE_results/results_exome_data/090921_f2247_hearing_difficulty_200K/090321_UKBB_Hearing_difficulty_f2247_expandedwhite_45502cases_96601ctrl_PC1_2_f2247.regenie.snp_stats.gz \\\n",
    "    --container_lmm /home/dmc2245/containers/lmm.sif \\\n",
    "    --container_marp /home/dmc2245/containers/marp.sif \\\n",
    "    -s build"
   ]
  },
  {
   "cell_type": "code",
   "execution_count": null,
   "id": "d2fa7269-1fce-410c-8042-c207ada81ddd",
   "metadata": {
    "kernel": "Bash",
    "tags": []
   },
   "outputs": [],
   "source": [
    "export PATH=$HOME/miniconda3/bin:$PATH\n",
    "module load Singularity/3.5.3\n",
    "sos run /home/dmc2245/project/bioworkflows_diana/fine-mapping/SuSiE_RSS_Diana.ipynb \\\n",
    "    default\\\n",
    "    --cwd /home/dmc2245/UKBiobank/results/fine_mapping/112221_f2257_200kexomes_500kimp/121021_beta_sign_fixed\\\n",
    "    --region_dir /home/dmc2245/UKBiobank/results/region_extraction/111921_f2257_200Kexomes_500Kimp\\\n",
    "    --region_file /home/dmc2245/UKBiobank/results/region_extraction/111921_f2257_200Kexomes_500Kimp/f2257_region_file.txt\\\n",
    "    --sumstats_path /home/dmc2245/UKBiobank/results/REGENIE_results/results_exome_data/090921_f2257_hearing_noise_200K/*.snp_stats.gz\\\n",
    "    --container_lmm /home/dmc2245/containers/lmm.sif\\\n",
    "    --container_marp /home/dmc2245/containers/marp.sif"
   ]
  },
  {
   "cell_type": "markdown",
   "id": "3350b7ca-fb38-492b-bcfc-7e6c3c099a86",
   "metadata": {
    "kernel": "Bash"
   },
   "source": [
    "## 12-22-21 Generate a region around MYO6 variant to see whether FILIP1 is fine-mapped in f.3393"
   ]
  },
  {
   "cell_type": "code",
   "execution_count": 4,
   "id": "515228e3-aa9d-422b-bfb0-803548072d39",
   "metadata": {
    "kernel": "Bash"
   },
   "outputs": [
    {
     "name": "stdout",
     "output_type": "stream",
     "text": [
      "INFO: Running \u001b[32mcsg\u001b[0m: Configuration for Columbia csg partition cluster\n",
      "INFO: \u001b[32mcsg\u001b[0m is \u001b[32mcompleted\u001b[0m.\n",
      "INFO: \u001b[32mcsg\u001b[0m output:   \u001b[32m/home/dmc2245/hearing/region_extraction/f3393_200exome_500imp_regionextr_2022-01-05.sbatch\u001b[0m\n",
      "INFO: Workflow csg (ID=wdbaf64532ea72bca) is executed successfully with 1 completed step.\n",
      "\n"
     ]
    }
   ],
   "source": [
    "cwd=/mnt/mfs/statgen/UKBiobank/results/region_extraction/111921_f3393_200Kexomes_500Kimp    \\\n",
    "region_file=/home/dmc2245/UKBiobank/results/LD_clumping/092321_f3393_200Kexomes/chr6_region_test.txt   \\\n",
    "pheno_path=/home/dmc2245/UKBiobank/phenotype_files/hearing_impairment/090321_UKBB_Hearing_aid_f3393_expandedwhite_6436cases_96601ctrl_PC1_2.tsv   \\\n",
    "geno_path=/home/dmc2245/UKBiobank/data/exome_files/project_VCF/072721_run/plink/092321_UKBB_qc_exome_geno_path.txt   \\\n",
    "sumstats_path=/home/dmc2245/UKBiobank/results/REGENIE_results/results_exome_data/090921_f3393_hearing_aid_200K/*.snp_stats.gz     \\\n",
    "unrelated_samples=/home/dmc2245/UKBiobank/results/083021_PCA_results/090221_ldprun_unrelated/cache/UKB_genotypedatadownloaded083019.090221_sample_variant_qc_final_callrate90.filtered.extracted.europeans.filtered.090221_ldprun_unrelated.filtered.prune.txt  \\\n",
    "imp_geno_path=~/UKBiobank/results/LD_clumping/ref_files/102621_UKBB_bgenpath.txt \\\n",
    "imp_sumstats_path=~/UKBiobank/results/REGENIE_results/results_imputed_data/2021_10_07_f3393_500K/100521_UKBB_Hearing_aid_f3393_expandedwhite_15601cases_237318ctrl_500k_PC1_PC2_f3393.regenie.snp_stats.gz \\\n",
    "imp_ref='hg19'\n",
    "extract_sos=~/project/bioworkflows/GWAS/RegionExtraction_LDmatrix.ipynb\n",
    "extract_sbatch=~/hearing/region_extraction/f3393_200exome_500imp_regionextr_$(date +\"%Y-%m-%d\").sbatch\n",
    "bgen_sample_path=~/UKBiobank_Yale_transfer/ukb39554_imputeddataset/ukb32285_imputedindiv.sample\n",
    "tpl_file=~/project/bioworkflows/admin/csg.yml\n",
    "\n",
    "extract_args=\"\"\"default    \n",
    "    --cwd $cwd   \n",
    "    --region-file $region_file   \n",
    "    --pheno-path $pheno_path  \n",
    "    --geno-path  $geno_path \n",
    "    --sumstats-path  $sumstats_path  \n",
    "    --unrelated-samples $unrelated_samples \n",
    "    --imp-geno-path $imp_geno_path\n",
    "    --imp-sumstats-path $imp_sumstats_path \n",
    "    --imp-ref $imp_ref \n",
    "    --job-size 1\n",
    "    --bgen_sample_path $bgen_sample_path\n",
    "\"\"\"\n",
    "\n",
    "sos run ~/project/UKBB_GWAS_dev/admin/Get_Job_Script.ipynb csg \\\n",
    "    --template-file $tpl_file \\\n",
    "    --workflow-file $extract_sos \\\n",
    "    --to-script $extract_sbatch \\\n",
    "    --args \"$extract_args\""
   ]
  },
  {
   "cell_type": "markdown",
   "id": "5ab8c0a8-e443-4fc7-bd3f-14ca5b7880c6",
   "metadata": {
    "kernel": "Bash"
   },
   "source": [
    "## Fine map myo6 and filip1"
   ]
  },
  {
   "cell_type": "code",
   "execution_count": null,
   "id": "2c69f357-4607-4cc9-afe7-0d9aef31d7bc",
   "metadata": {
    "kernel": "Bash"
   },
   "outputs": [],
   "source": [
    "export PATH=$HOME/miniconda3/bin:$PATH\n",
    "module load Singularity/3.5.3\n",
    "sos run /home/dmc2245/project/bioworkflows_diana/fine-mapping/SuSiE_RSS_Diana.ipynb \\\n",
    "    default\\\n",
    "    --cwd /home/dmc2245/UKBiobank/results/fine_mapping/112221_f3393_200kexomes_500kimp \\\n",
    "    --region_dir /mnt/mfs/statgen/UKBiobank/results/region_extraction/111921_f3393_200Kexomes_500Kimp \\\n",
    "    --region_file /mnt/mfs/statgen/UKBiobank/results/region_extraction/111921_f3393_200Kexomes_500Kimp/f3393_region_file.txt\\\n",
    "    --sumstats_path /home/dmc2245/UKBiobank/results/REGENIE_results/results_exome_data/090921_f3393_hearing_aid_200K/*.snp_stats.gz\\\n",
    "    --container_lmm /home/dmc2245/containers/lmm.sif\\\n",
    "    --container_marp /home/dmc2245/containers/marp.sif"
   ]
  },
  {
   "cell_type": "markdown",
   "id": "4f279005-6cf7-4279-9072-35e35b9adb27",
   "metadata": {
    "kernel": "Bash"
   },
   "source": [
    "## 01/11/22 Run region extraction in the 200K imputed and 200K exomes and then fine-map\n",
    "\n",
    "I need Yin's help to debug this code"
   ]
  },
  {
   "cell_type": "markdown",
   "id": "1a8e0300-baac-4830-abdc-546454601902",
   "metadata": {
    "kernel": "Bash"
   },
   "source": [
    "### f.3393"
   ]
  },
  {
   "cell_type": "code",
   "execution_count": 3,
   "id": "d3f9213a-3d5a-4700-8d1d-27bb9d4071ce",
   "metadata": {
    "kernel": "Bash"
   },
   "outputs": [
    {
     "name": "stdout",
     "output_type": "stream",
     "text": [
      "INFO: Running \u001b[32mcsg\u001b[0m: Configuration for Columbia csg partition cluster\n",
      "INFO: \u001b[32mcsg\u001b[0m is \u001b[32mcompleted\u001b[0m.\n",
      "INFO: \u001b[32mcsg\u001b[0m output:   \u001b[32m/home/dmc2245/hearing/region_extraction/f3393_200exome_200imp_regionextr_2022-01-18.sbatch\u001b[0m\n",
      "INFO: Workflow csg (ID=w779ed8e5f08da715) is executed successfully with 1 completed step.\n",
      "\n"
     ]
    }
   ],
   "source": [
    "cwd=/mnt/mfs/statgen/UKBiobank/results/region_extraction/011122_f3393_200Kexomes_200Kimp_newpipe    \\\n",
    "region_file=/home/dmc2245/UKBiobank/results/LD_clumping/092321_f3393_200Kexomes/090321_UKBB_Hearing_aid_f3393_expandedwhite_6436cases_96601ctrl_PC1_2_f3393.regenie.snp_stats.clumped_region    \\\n",
    "pheno_path=/home/dmc2245/UKBiobank/phenotype_files/hearing_impairment/090321_UKBB_Hearing_aid_f3393_expandedwhite_6436cases_96601ctrl_PC1_2.tsv   \\\n",
    "geno_path=/home/dmc2245/UKBiobank/data/exome_files/project_VCF/072721_run/plink/092321_UKBB_qc_exome_geno_path.txt   \\\n",
    "sumstats_path=/home/dmc2245/UKBiobank/results/REGENIE_results/results_exome_data/090921_f3393_hearing_aid_200K/*.snp_stats.gz     \\\n",
    "unrelated_samples=/home/dmc2245/UKBiobank/results/083021_PCA_results/090221_ldprun_unrelated/cache/UKB_genotypedatadownloaded083019.090221_sample_variant_qc_final_callrate90.filtered.extracted.europeans.filtered.090221_ldprun_unrelated.filtered.prune.txt  \\\n",
    "imp_geno_path=~/UKBiobank/results/LD_clumping/ref_files/102621_UKBB_bgenpath.txt \\\n",
    "imp_sumstats_path=~/UKBiobank/results/REGENIE_results/results_imputed_data/010522_f3393_hearing_aid_200K_imputed/090321_UKBB_Hearing_aid_f3393_expandedwhite_6436cases_96601ctrl_PC1_2_f3393.regenie.snp_stats.gz \\\n",
    "imp_ref='hg19'\n",
    "# old\n",
    "#extract_sos=~/project/UKBB_GWAS_dev/workflow/RegionExtraction_LDmatrix.ipynb\n",
    "# New \n",
    "extract_sos=~/project/bioworkflows/GWAS/Region_Extraction.ipynb\n",
    "extract_sbatch=~/hearing/region_extraction/f3393_200exome_200imp_regionextr_$(date +\"%Y-%m-%d\").sbatch\n",
    "bgen_sample_path=~/UKBiobank_Yale_transfer/ukb39554_imputeddataset/ukb32285_imputedindiv.sample\n",
    "mem='120G'\n",
    "\n",
    "extract_args=\"\"\"default    \n",
    "    --cwd $cwd   \n",
    "    --region-file $region_file   \n",
    "    --pheno-path $pheno_path  \n",
    "    --geno-path  $geno_path \n",
    "    --sumstats-path  $sumstats_path  \n",
    "    --unrelated-samples $unrelated_samples \n",
    "    --imp-geno-path $imp_geno_path\n",
    "    --imp-sumstats-path $imp_sumstats_path \n",
    "    --imp-ref $imp_ref \n",
    "    --mem $mem\n",
    "    --job-size 1\n",
    "    --bgen_sample_path $bgen_sample_path\n",
    "\"\"\"\n",
    "\n",
    "sos run ~/project/UKBB_GWAS_dev/admin/Get_Job_Script.ipynb csg \\\n",
    "    --template-file $tpl_file \\\n",
    "    --workflow-file $extract_sos \\\n",
    "    --to-script $extract_sbatch \\\n",
    "    --args \"$extract_args\""
   ]
  },
  {
   "cell_type": "markdown",
   "id": "b5de1d3e-ad39-4b44-b201-bede05420dc2",
   "metadata": {
    "kernel": "Bash"
   },
   "source": [
    "### f.2247"
   ]
  },
  {
   "cell_type": "code",
   "execution_count": 11,
   "id": "78d8c479-ef13-4cc5-bf57-0a499471dbdd",
   "metadata": {
    "kernel": "Bash"
   },
   "outputs": [
    {
     "name": "stdout",
     "output_type": "stream",
     "text": [
      "INFO: Running \u001b[32mcsg\u001b[0m: Configuration for Columbia csg partition cluster\n",
      "INFO: \u001b[32mcsg\u001b[0m is \u001b[32mcompleted\u001b[0m.\n",
      "INFO: \u001b[32mcsg\u001b[0m output:   \u001b[32m/home/dmc2245/hearing/region_extraction/f2247_200exome_200imp_regionextr_2022-01-11.sbatch\u001b[0m\n",
      "INFO: Workflow csg (ID=wdd8940357a63d39c) is executed successfully with 1 completed step.\n",
      "\n"
     ]
    }
   ],
   "source": [
    "cwd=/mnt/mfs/statgen/UKBiobank/results/region_extraction/011122_f2247_200Kexomes_200Kimp\n",
    "region_file=/home/dmc2245/UKBiobank/results/LD_clumping/092321_f2247_200Kexomes/090321_UKBB_Hearing_difficulty_f2247_expandedwhite_45502cases_96601ctrl_PC1_2_f2247.regenie.snp_stats.clumped_region\n",
    "pheno_path=/home/dmc2245/UKBiobank/phenotype_files/hearing_impairment/090321_UKBB_Hearing_difficulty_f2247_expandedwhite_45502cases_96601ctrl_PC1_2.tsv\n",
    "geno_path=/home/dmc2245/UKBiobank/data/exome_files/project_VCF/072721_run/plink/092321_UKBB_qc_exome_geno_path.txt \n",
    "sumstats_path=/home/dmc2245/UKBiobank/results/REGENIE_results/results_exome_data/090921_f2247_hearing_difficulty_200K/*.snp_stats.gz \n",
    "unrelated_samples=/home/dmc2245/UKBiobank/results/083021_PCA_results/090221_ldprun_unrelated/cache/UKB_genotypedatadownloaded083019.090221_sample_variant_qc_final_callrate90.filtered.extracted.europeans.filtered.090221_ldprun_unrelated.filtered.prune.txt \n",
    "imp_geno_path=~/UKBiobank/results/LD_clumping/ref_files/102621_UKBB_bgenpath.txt\n",
    "imp_sumstats_path=~/UKBiobank/results/REGENIE_results/results_imputed_data/010522_f2247_hearing_diff_200K_imputed/*.snp_stats.gz\n",
    "imp_ref='hg19'\n",
    "#extract_sos=~/project/UKBB_GWAS_dev/workflow/RegionExtraction_LDmatrix.ipynb\n",
    "extract_sos=~/project/bioworkflows/GWAS/RegionExtraction_LDmatrix.ipynb\n",
    "extract_sbatch=~/hearing/region_extraction/f2247_200exome_200imp_regionextr_$(date +\"%Y-%m-%d\").sbatch\n",
    "mem='120G'\n",
    "bgen_sample_path=~/UKBiobank_Yale_transfer/ukb39554_imputeddataset/ukb32285_imputedindiv.sample\n",
    "\n",
    "extract_args=\"\"\"default    \n",
    "    --cwd $cwd   \n",
    "    --region-file $region_file   \n",
    "    --pheno-path $pheno_path  \n",
    "    --geno-path  $geno_path \n",
    "    --sumstats-path  $sumstats_path  \n",
    "    --unrelated-samples $unrelated_samples \n",
    "    --imp-geno-path $imp_geno_path\n",
    "    --imp-sumstats-path $imp_sumstats_path \n",
    "    --imp-ref $imp_ref \n",
    "    --job-size 1\n",
    "    --bgen_sample_path $bgen_sample_path\n",
    "    --mem $mem\n",
    "\"\"\"\n",
    "\n",
    "sos run ~/project/UKBB_GWAS_dev/admin/Get_Job_Script.ipynb csg \\\n",
    "    --template-file $tpl_file \\\n",
    "    --workflow-file $extract_sos \\\n",
    "    --to-script $extract_sbatch \\\n",
    "    --args \"$extract_args\""
   ]
  },
  {
   "cell_type": "markdown",
   "id": "29f4e769-5482-43af-80ca-15d862cce13c",
   "metadata": {
    "kernel": "Bash"
   },
   "source": [
    "### f.2257"
   ]
  },
  {
   "cell_type": "code",
   "execution_count": 12,
   "id": "6e3d8e14-f4fc-419a-92e2-1ae7f4fcd57e",
   "metadata": {
    "kernel": "Bash"
   },
   "outputs": [
    {
     "name": "stdout",
     "output_type": "stream",
     "text": [
      "INFO: Running \u001b[32mcsg\u001b[0m: Configuration for Columbia csg partition cluster\n",
      "INFO: \u001b[32mcsg\u001b[0m is \u001b[32mcompleted\u001b[0m.\n",
      "INFO: \u001b[32mcsg\u001b[0m output:   \u001b[32m/home/dmc2245/hearing/region_extraction/f2257_200exome_200imp_regionextr_2022-01-11.sbatch\u001b[0m\n",
      "INFO: Workflow csg (ID=wc9249e14f5b3095a) is executed successfully with 1 completed step.\n",
      "\n"
     ]
    }
   ],
   "source": [
    "cwd=/mnt/mfs/statgen/UKBiobank/results/region_extraction/011122_f2257_200Kexomes_200Kimp   \\\n",
    "region_file=/home/dmc2245/UKBiobank/results/LD_clumping/092321_f2257_200Kexomes/090321_UKBB_Hearing_noise_f2257_expandedwhite_65660cases_96601ctrl_PC1_2_f2257.regenie.snp_stats.clumped_region   \\\n",
    "pheno_path=/home/dmc2245/UKBiobank/phenotype_files/hearing_impairment/090321_UKBB_Hearing_noise_f2257_expandedwhite_65660cases_96601ctrl_PC1_2.tsv \\\n",
    "geno_path=/home/dmc2245/UKBiobank/data/exome_files/project_VCF/072721_run/plink/092321_UKBB_qc_exome_geno_path.txt   \\\n",
    "sumstats_path=/home/dmc2245/UKBiobank/results/REGENIE_results/results_exome_data/090921_f2257_hearing_noise_200K/*.snp_stats.gz     \\\n",
    "unrelated_samples=/home/dmc2245/UKBiobank/results/083021_PCA_results/090221_ldprun_unrelated/cache/UKB_genotypedatadownloaded083019.090221_sample_variant_qc_final_callrate90.filtered.extracted.europeans.filtered.090221_ldprun_unrelated.filtered.prune.txt  \\\n",
    "imp_geno_path=~/UKBiobank/results/LD_clumping/ref_files/102621_UKBB_bgenpath.txt \\\n",
    "imp_sumstats_path=~/UKBiobank/results/REGENIE_results/results_imputed_data/010522_f2257_hearing_noise_200K_imputed/*.snp_stats.gz \n",
    "imp_ref='hg19'\n",
    "#extract_sos=~/project/UKBB_GWAS_dev/workflow/RegionExtraction_LDmatrix.ipynb\n",
    "extract_sos=~/project/bioworkflows/GWAS/RegionExtraction_LDmatrix.ipynb\n",
    "extract_sbatch=~/hearing/region_extraction/f2257_200exome_200imp_regionextr_$(date +\"%Y-%m-%d\").sbatch\n",
    "bgen_sample_path=~/UKBiobank_Yale_transfer/ukb39554_imputeddataset/ukb32285_imputedindiv.sample\n",
    "mem=\"120G\"\n",
    "\n",
    "extract_args=\"\"\"default    \n",
    "    --cwd $cwd   \n",
    "    --region-file $region_file   \n",
    "    --pheno-path $pheno_path  \n",
    "    --geno-path  $geno_path \n",
    "    --sumstats-path  $sumstats_path  \n",
    "    --unrelated-samples $unrelated_samples \n",
    "    --imp-geno-path $imp_geno_path\n",
    "    --imp-sumstats-path $imp_sumstats_path \n",
    "    --imp-ref $imp_ref \n",
    "    --mem $mem\n",
    "    --job-size 1\n",
    "    --bgen_sample_path $bgen_sample_path\n",
    "\"\"\"\n",
    "\n",
    "sos run ~/project/UKBB_GWAS_dev/admin/Get_Job_Script.ipynb csg \\\n",
    "    --template-file $tpl_file \\\n",
    "    --workflow-file $extract_sos \\\n",
    "    --to-script $extract_sbatch \\\n",
    "    --args \"$extract_args\"\n"
   ]
  },
  {
   "cell_type": "markdown",
   "id": "61c6f435-8444-48a7-9a5b-d0f376e7bab2",
   "metadata": {
    "kernel": "Bash"
   },
   "source": [
    "### Combined"
   ]
  },
  {
   "cell_type": "code",
   "execution_count": 13,
   "id": "0f48948f-316b-4fcc-961d-8c3ece63fbd3",
   "metadata": {
    "kernel": "Bash"
   },
   "outputs": [
    {
     "name": "stdout",
     "output_type": "stream",
     "text": [
      "INFO: Running \u001b[32mcsg\u001b[0m: Configuration for Columbia csg partition cluster\n",
      "INFO: \u001b[32mcsg\u001b[0m is \u001b[32mcompleted\u001b[0m.\n",
      "INFO: \u001b[32mcsg\u001b[0m output:   \u001b[32m/home/dmc2245/hearing/region_extraction/combined_200exome_200imp_regionextr_2022-01-11.sbatch\u001b[0m\n",
      "INFO: Workflow csg (ID=w258b657ff19a8065) is executed successfully with 1 completed step.\n",
      "\n"
     ]
    }
   ],
   "source": [
    "cwd=/mnt/mfs/statgen/UKBiobank/results/region_extraction/011122_f2247_f2257_200Kexomes_200Kimp   \\\n",
    "region_file=/home/dmc2245/UKBiobank/results/LD_clumping/092321_combined_200Kexomes/090321_UKBB_Combined_f2247_f2257_expandedwhite_38410cases_96601ctrl_PC1_2_f2247_f2257.regenie.snp_stats.clumped_region \\\n",
    "pheno_path=/home/dmc2245/UKBiobank/phenotype_files/hearing_impairment/090321_UKBB_Combined_f2247_f2257_expandedwhite_38410cases_96601ctrl_PC1_2.tsv  \\\n",
    "geno_path=/home/dmc2245/UKBiobank/data/exome_files/project_VCF/072721_run/plink/092321_UKBB_qc_exome_geno_path.txt   \\\n",
    "sumstats_path=/home/dmc2245/UKBiobank/results/REGENIE_results/results_exome_data/090921_combined_f2247_f2257_200K/*.snp_stats.gz     \\\n",
    "unrelated_samples=/home/dmc2245/UKBiobank/results/083021_PCA_results/090221_ldprun_unrelated/cache/UKB_genotypedatadownloaded083019.090221_sample_variant_qc_final_callrate90.filtered.extracted.europeans.filtered.090221_ldprun_unrelated.filtered.prune.txt  \\\n",
    "imp_geno_path=~/UKBiobank/results/LD_clumping/ref_files/102621_UKBB_bgenpath.txt \\\n",
    "imp_sumstats_path=~/UKBiobank/results/REGENIE_results/results_imputed_data/010522_combined_f2247_f2257_200K_imputed/*.snp_stats.gz \\\n",
    "imp_ref='hg19'\n",
    "#extract_sos=~/project/UKBB_GWAS_dev/workflow/RegionExtraction_LDmatrix.ipynb\n",
    "extract_sos=~/project/bioworkflows/GWAS/RegionExtraction_LDmatrix.ipynb\n",
    "extract_sbatch=~/hearing/region_extraction/combined_200exome_200imp_regionextr_$(date +\"%Y-%m-%d\").sbatch\n",
    "bgen_sample_path=~/UKBiobank_Yale_transfer/ukb39554_imputeddataset/ukb32285_imputedindiv.sample\n",
    "mem='120G'\n",
    "\n",
    "extract_args=\"\"\"default    \n",
    "    --cwd $cwd   \n",
    "    --region-file $region_file   \n",
    "    --pheno-path $pheno_path  \n",
    "    --geno-path  $geno_path \n",
    "    --sumstats-path  $sumstats_path  \n",
    "    --unrelated-samples $unrelated_samples \n",
    "    --imp-geno-path $imp_geno_path\n",
    "    --imp-sumstats-path $imp_sumstats_path \n",
    "    --imp-ref $imp_ref \n",
    "    --job-size 1\n",
    "    --bgen_sample_path $bgen_sample_path\n",
    "    --mem $mem\n",
    "\"\"\"\n",
    "\n",
    "sos run ~/project/UKBB_GWAS_dev/admin/Get_Job_Script.ipynb csg \\\n",
    "    --template-file $tpl_file \\\n",
    "    --workflow-file $extract_sos \\\n",
    "    --to-script $extract_sbatch \\\n",
    "    --args \"$extract_args\"\n"
   ]
  },
  {
   "cell_type": "markdown",
   "id": "0ed7884b-4c68-41b6-bd81-c977a25bef9e",
   "metadata": {
    "kernel": "Bash"
   },
   "source": [
    "## Fine mapping the 200k imp + 200K exome"
   ]
  },
  {
   "cell_type": "markdown",
   "id": "2a7fb3ac-ef45-40f5-8ac0-7b26eb6ad57e",
   "metadata": {
    "kernel": "Bash"
   },
   "source": [
    "### f.3393"
   ]
  },
  {
   "cell_type": "code",
   "execution_count": null,
   "id": "e71167fa-b162-4467-8aa1-16ebf1099143",
   "metadata": {
    "kernel": "Bash"
   },
   "outputs": [],
   "source": [
    "finemap_dir=$UKBB_PATH/results/fine_mapping/011122_f3393_200kexomes_200kimp\n",
    "finemap_sos=~/project/bioworkflows_diana/fine-mapping/SuSiE_RSS_Diana.ipynb \n",
    "finemap_sbatch=~/hearing/finemap/f3393_200Kexom_200Kimp_finemap_$(date +\"%Y-%m-%d\").sbatch\n",
    "region_dir=/mnt/mfs/statgen/UKBiobank/results/region_extraction/011122_f3393_200Kexomes_200Kimp\n",
    "region_file=$UKBB_PATH/results/region_extraction/011122_f3393_200Kexomes_200Kimp/regions_f3393.txt\n",
    "## This sumstats could be the one from the 200K exomes (it is just used to get the file name)\n",
    "sumstats_path=$UKBB_PATH/results/REGENIE_results/results_exome_data/090921_f3393_hearing_aid_200K/*.snp_stats.gz\n",
    "container_lmm=~/containers/lmm.sif\n",
    "job_size=1\n",
    "\n",
    "finemap_args=\"\"\"default\n",
    "    --cwd $finemap_dir\n",
    "    --region_dir $region_dir\n",
    "    --region_file $region_file\n",
    "    --sumstats_path $sumstats_path\n",
    "    --container_lmm $container_lmm\n",
    "    --container_marp $container_marp\n",
    "    --job_size $job_size\n",
    "\"\"\"\n",
    "sos run ~/project/UKBB_GWAS_dev/admin/Get_Job_Script.ipynb csg \\\n",
    "    --template-file $tpl_file \\\n",
    "    --workflow-file $finemap_sos \\\n",
    "    --to-script $finemap_sbatch \\\n",
    "    --args \"$finemap_args\""
   ]
  },
  {
   "cell_type": "code",
   "execution_count": 4,
   "id": "3daee50f-7250-49bf-8885-a7dfc9de2a8f",
   "metadata": {
    "kernel": "Bash"
   },
   "outputs": [
    {
     "name": "stdout",
     "output_type": "stream",
     "text": [
      "INFO: Running \u001b[32mcsg\u001b[0m: Configuration for Columbia csg partition cluster\n",
      "INFO: \u001b[32mcsg\u001b[0m is \u001b[32mcompleted\u001b[0m.\n",
      "INFO: \u001b[32mcsg\u001b[0m output:   \u001b[32m/home/dmc2245/hearing/finemap/f3393_200Kexom_200Kimp_finemap_2022-01-20.sbatch\u001b[0m\n",
      "INFO: Workflow csg (ID=w4c0db1abb50e4346) is executed successfully with 1 completed step.\n",
      "\n"
     ]
    }
   ],
   "source": [
    "finemap_dir=$UKBB_PATH/results/fine_mapping/012022_f3393_200kexomes_200kimp_newpipe\n",
    "finemap_sos=~/project/bioworkflows_diana/fine-mapping/SuSiE_RSS_Diana.ipynb \n",
    "finemap_sbatch=~/hearing/finemap/f3393_200Kexom_200Kimp_finemap_$(date +\"%Y-%m-%d\").sbatch\n",
    "region_dir=/mnt/mfs/statgen/UKBiobank/results/region_extraction/011122_f3393_200Kexomes_200Kimp_newpipe\n",
    "region_file=/mnt/mfs/statgen/UKBiobank/results/region_extraction/011122_f3393_200Kexomes_200Kimp_newpipe/regions_f3393.txt\n",
    "## This sumstats could be the one from the 200K exomes (it is just used to get the file name)\n",
    "sumstats_path=$UKBB_PATH/results/REGENIE_results/results_exome_data/090921_f3393_hearing_aid_200K/*.snp_stats.gz\n",
    "container_lmm=~/containers/lmm.sif\n",
    "job_size=1\n",
    "\n",
    "finemap_args=\"\"\"default\n",
    "    --cwd $finemap_dir\n",
    "    --region_dir $region_dir\n",
    "    --region_file $region_file\n",
    "    --sumstats_path $sumstats_path\n",
    "    --container_lmm $container_lmm\n",
    "    --container_marp $container_marp\n",
    "    --job_size $job_size\n",
    "\"\"\"\n",
    "sos run ~/project/UKBB_GWAS_dev/admin/Get_Job_Script.ipynb csg \\\n",
    "    --template-file $tpl_file \\\n",
    "    --workflow-file $finemap_sos \\\n",
    "    --to-script $finemap_sbatch \\\n",
    "    --args \"$finemap_args\""
   ]
  },
  {
   "cell_type": "markdown",
   "id": "9561830d-55e1-41e6-9e16-774225ab2c49",
   "metadata": {
    "kernel": "Bash"
   },
   "source": [
    "### f.2247"
   ]
  },
  {
   "cell_type": "code",
   "execution_count": 3,
   "id": "be3c34b0-9cbd-4a5c-961c-d57ab639ccb6",
   "metadata": {
    "kernel": "Bash"
   },
   "outputs": [
    {
     "name": "stdout",
     "output_type": "stream",
     "text": [
      "INFO: Running \u001b[32mcsg\u001b[0m: Configuration for Columbia csg partition cluster\n",
      "INFO: \u001b[32mcsg\u001b[0m is \u001b[32mcompleted\u001b[0m.\n",
      "INFO: \u001b[32mcsg\u001b[0m output:   \u001b[32m/home/dmc2245/hearing/finemap/f2247_200Kexom_200Kimp_finemap_2022-01-12.sbatch\u001b[0m\n",
      "INFO: Workflow csg (ID=wa22a2efaae0c5f56) is executed successfully with 1 completed step.\n",
      "\n"
     ]
    }
   ],
   "source": [
    "finemap_dir=$UKBB_PATH/results/fine_mapping/011122_f2247_200kexomes_200kimp\n",
    "finemap_sos=~/project/bioworkflows_diana/fine-mapping/SuSiE_RSS_Diana.ipynb \n",
    "finemap_sbatch=~/hearing/finemap/f2247_200Kexom_200Kimp_finemap_$(date +\"%Y-%m-%d\").sbatch\n",
    "region_dir=$UKBB_PATH/results/region_extraction/011122_f2247_200Kexomes_200Kimp\n",
    "#Modified without 1_45508256_46132601 that is erroring because of memory issue\n",
    "region_file=$UKBB_PATH/results/region_extraction/011122_f2247_200Kexomes_200Kimp/regions_f2247.txt\n",
    "## This sumstats could be the one from the 200K exomes (it is just used to get the file name)\n",
    "sumstats_path=$UKBB_PATH/results/REGENIE_results/results_exome_data/090921_f2247_hearing_difficulty_200K/090321_UKBB_Hearing_difficulty_f2247_expandedwhite_45502cases_96601ctrl_PC1_2_f2247.regenie.snp_stats.gz\n",
    "container_lmm=~/containers/lmm.sif\n",
    "job_size=1\n",
    "\n",
    "finemap_args=\"\"\"default\n",
    "    --cwd $finemap_dir\n",
    "    --region_dir $region_dir\n",
    "    --region_file $region_file\n",
    "    --sumstats_path $sumstats_path\n",
    "    --container_lmm $container_lmm\n",
    "    --container_marp $container_marp\n",
    "    --job_size $job_size\n",
    "\"\"\"\n",
    "sos run ~/project/UKBB_GWAS_dev/admin/Get_Job_Script.ipynb csg \\\n",
    "    --template-file $tpl_file \\\n",
    "    --workflow-file $finemap_sos \\\n",
    "    --to-script $finemap_sbatch \\\n",
    "    --args \"$finemap_args\""
   ]
  },
  {
   "cell_type": "markdown",
   "id": "80cf51ab-06cf-419b-b317-964b5163e4b9",
   "metadata": {
    "kernel": "Bash"
   },
   "source": [
    "### f.2257"
   ]
  },
  {
   "cell_type": "code",
   "execution_count": 4,
   "id": "0f9a152b-f555-4ab9-a65b-c06c73bee5f1",
   "metadata": {
    "kernel": "Bash"
   },
   "outputs": [
    {
     "name": "stdout",
     "output_type": "stream",
     "text": [
      "INFO: Running \u001b[32mcsg\u001b[0m: Configuration for Columbia csg partition cluster\n",
      "INFO: \u001b[32mcsg\u001b[0m is \u001b[32mcompleted\u001b[0m.\n",
      "INFO: \u001b[32mcsg\u001b[0m output:   \u001b[32m/home/dmc2245/hearing/finemap/f2257_200Kexom_500Kimp_finemap_2022-01-12.sbatch\u001b[0m\n",
      "INFO: Workflow csg (ID=w8a547045a2e6ca6c) is executed successfully with 1 completed step.\n",
      "\n"
     ]
    }
   ],
   "source": [
    "finemap_dir=$UKBB_PATH/results/fine_mapping/011122_f2257_200Kexomes_200Kimp\n",
    "finemap_sos=~/project/bioworkflows_diana/fine-mapping/SuSiE_RSS_Diana.ipynb \n",
    "finemap_sbatch=~/hearing/finemap/f2257_200Kexom_500Kimp_finemap_$(date +\"%Y-%m-%d\").sbatch\n",
    "region_dir=$UKBB_PATH/results/region_extraction/011122_f2257_200Kexomes_200Kimp\n",
    "region_file=$UKBB_PATH/results/region_extraction/011122_f2257_200Kexomes_200Kimp/regions_f2257.txt\n",
    "## This sumstats could be the one from the 200K exomes (it is just used to get the file name)\n",
    "sumstats_path=$UKBB_PATH/results/REGENIE_results/results_exome_data/090921_f2257_hearing_noise_200K/*.snp_stats.gz\n",
    "container_lmm=~/containers/lmm.sif\n",
    "job_size=1\n",
    "\n",
    "finemap_args=\"\"\"default\n",
    "    --cwd $finemap_dir\n",
    "    --region_dir $region_dir\n",
    "    --region_file $region_file\n",
    "    --sumstats_path $sumstats_path\n",
    "    --container_lmm $container_lmm\n",
    "    --container_marp $container_marp\n",
    "    --job_size $job_size\n",
    "\"\"\"\n",
    "sos run ~/project/UKBB_GWAS_dev/admin/Get_Job_Script.ipynb csg \\\n",
    "    --template-file $tpl_file \\\n",
    "    --workflow-file $finemap_sos \\\n",
    "    --to-script $finemap_sbatch \\\n",
    "    --args \"$finemap_args\""
   ]
  },
  {
   "cell_type": "markdown",
   "id": "8b6e1d7a-6c7f-4596-b81e-e174066186e4",
   "metadata": {
    "kernel": "Bash"
   },
   "source": [
    "### Combined"
   ]
  },
  {
   "cell_type": "code",
   "execution_count": 5,
   "id": "fb9f46ae-c2ab-44c8-b646-3e11d9385929",
   "metadata": {
    "kernel": "Bash"
   },
   "outputs": [
    {
     "name": "stdout",
     "output_type": "stream",
     "text": [
      "INFO: Running \u001b[32mcsg\u001b[0m: Configuration for Columbia csg partition cluster\n",
      "INFO: \u001b[32mcsg\u001b[0m is \u001b[32mcompleted\u001b[0m.\n",
      "INFO: \u001b[32mcsg\u001b[0m output:   \u001b[32m/home/dmc2245/hearing/finemap/combined_200Kexom_500Kimp_finemap_2022-01-12.sbatch\u001b[0m\n",
      "INFO: Workflow csg (ID=w4de2d1b4f784fa9d) is executed successfully with 1 completed step.\n",
      "\n"
     ]
    }
   ],
   "source": [
    "finemap_dir=$UKBB_PATH/results/fine_mapping/011122_f2247_f2257_200Kexomes_200Kimp\n",
    "finemap_sos=~/project/bioworkflows_diana/fine-mapping/SuSiE_RSS_Diana.ipynb \n",
    "finemap_sbatch=~/hearing/finemap/combined_200Kexom_500Kimp_finemap_$(date +\"%Y-%m-%d\").sbatch\n",
    "region_dir=$UKBB_PATH/results/region_extraction/011122_f2247_f2257_200Kexomes_200Kimp\n",
    "region_file=$UKBB_PATH/results/region_extraction/011122_f2247_f2257_200Kexomes_200Kimp/regions_combined.txt\n",
    "## This sumstats could be the one from the 200K exomes (it is just used to get the file name)\n",
    "sumstats_path=$UKBB_PATH/results/REGENIE_results/results_exome_data/090921_combined_f2247_f2257_200K/*.snp_stats.gz\n",
    "container_lmm=~/containers/lmm.sif\n",
    "job_size=1\n",
    "\n",
    "finemap_args=\"\"\"default\n",
    "    --cwd $finemap_dir\n",
    "    --region_dir $region_dir\n",
    "    --region_file $region_file\n",
    "    --sumstats_path $sumstats_path\n",
    "    --container_lmm $container_lmm\n",
    "    --container_marp $container_marp\n",
    "    --job_size $job_size\n",
    "\"\"\"\n",
    "sos run ~/project/UKBB_GWAS_dev/admin/Get_Job_Script.ipynb csg \\\n",
    "    --template-file $tpl_file \\\n",
    "    --workflow-file $finemap_sos \\\n",
    "    --to-script $finemap_sbatch \\\n",
    "    --args \"$finemap_args\""
   ]
  },
  {
   "cell_type": "markdown",
   "id": "e7424bad-db36-45fb-8c1e-e9f4fd930197",
   "metadata": {
    "kernel": "Bash"
   },
   "source": [
    "## Fine mapping with the summary stats from 500K individuals RAP"
   ]
  },
  {
   "cell_type": "markdown",
   "id": "22d054d9-736f-4dd9-9922-dff5d0ba2921",
   "metadata": {
    "kernel": "Bash"
   },
   "source": [
    "### f.2247"
   ]
  },
  {
   "cell_type": "code",
   "execution_count": null,
   "id": "dc92881d-15b6-4ce9-849d-0682d795df8a",
   "metadata": {
    "kernel": "Bash"
   },
   "outputs": [],
   "source": []
  }
 ],
 "metadata": {
  "kernelspec": {
   "display_name": "SoS",
   "language": "sos",
   "name": "sos"
  },
  "language_info": {
   "codemirror_mode": "sos",
   "file_extension": ".sos",
   "mimetype": "text/x-sos",
   "name": "sos",
   "nbconvert_exporter": "sos_notebook.converter.SoS_Exporter",
   "pygments_lexer": "sos"
  },
  "sos": {
   "kernels": [
    [
     "Bash",
     "calysto_bash",
     "Bash",
     "#E6EEFF",
     ""
    ],
    [
     "Python3",
     "python3",
     "Python3",
     "#FFD91A",
     {
      "name": "ipython",
      "version": 3
     }
    ]
   ],
   "version": "0.24.3"
  },
  "toc-autonumbering": true,
  "toc-showcode": false
 },
 "nbformat": 4,
 "nbformat_minor": 5
}
