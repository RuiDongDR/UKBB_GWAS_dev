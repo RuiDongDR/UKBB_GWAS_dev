{
 "cells": [
  {
   "cell_type": "markdown",
   "id": "839d84fd-6f23-46d5-9309-e2f8e4dff3d3",
   "metadata": {
    "kernel": "SoS",
    "tags": []
   },
   "source": [
    "# Create MWE regenie.wdl for RAP bgen/bgi/sample"
   ]
  },
  {
   "cell_type": "code",
   "execution_count": 4,
   "id": "94182528-a0e3-4918-871c-5feb59aebbf1",
   "metadata": {
    "kernel": "Bash",
    "tags": []
   },
   "outputs": [
    {
     "name": "stdout",
     "output_type": "stream",
     "text": [
      "\n"
     ]
    }
   ],
   "source": [
    "module load Qctool/2.0.8"
   ]
  },
  {
   "cell_type": "code",
   "execution_count": null,
   "id": "751e16d4-16d8-4194-aed8-2452d5d5ca08",
   "metadata": {
    "kernel": "Bash",
    "tags": []
   },
   "outputs": [],
   "source": [
    "qctool -g ~/UKBiobank_Yale_transfer/ukb39554_imputeddataset/ukb_imp_chr1_v3.bgen -s ~/UKBiobank_Yale_transfer/ukb39554_imputeddataset/ukb32285_imputedindiv.sample -incl-samples ~/mwe_regenie_rap/samples_keep.txt -incl-range 1:10177-17695 -og ~/mwe_regenie_rap/toy_data_chr1.bgen"
   ]
  },
  {
   "cell_type": "code",
   "execution_count": 10,
   "id": "b354ca54-35ed-485f-9b03-a949e99a0e99",
   "metadata": {
    "kernel": "Bash",
    "tags": []
   },
   "outputs": [
    {
     "name": "stdout",
     "output_type": "stream",
     "text": [
      "\n",
      "Welcome to qctool\n",
      "(version: 2.0.8, revision )\n",
      "\n",
      "(C) 2009-2017 University of Oxford\n",
      "\n",
      "Opening genotype files                                      : [******************************] (1/1,-0.8s,-1.2/s)\n",
      "========================================================================\n",
      "\n",
      "Input SAMPLE file(s):           \"/home/dmc2245/UKBiobank_Yale_transfer/ukb39554_imputeddataset/ukb32285_imputedindiv.sample\"\n",
      "Output SAMPLE file:             \"(n/a)\".\n",
      "Sample exclusion output file:   \"(n/a)\".\n",
      "\n",
      "Input GEN file(s):\n",
      "                                                    (not computed)  \"snp-id-data-filtered:/home/dmc2245/UKBiobank_Yale_transfer/ukb39554_imputeddataset/ukb_imp_chr2_v3.bgen (bgen v1.2; 487409 unnamed samples; zlib compression)\"\n",
      "                                         (total 1 sources, number of snps not computed).\n",
      "                      Number of samples: 487409\n",
      "        Number of samples (post-filter): 100\n",
      "Output GEN file(s):             \"/home/dmc2245/mwe_regenie_rap/toy_data_chr2.bgen\"\n",
      "Output SNP position file(s):    (n/a)\n",
      "Sample filter:                  ID_1 IN (1001655, 1053977, 1135375, 1135664, 1245364, ...).\n",
      "SNP filter:                     position in 2:-11406.\n",
      "\n",
      "# of samples in input files:    487409.\n",
      "# of samples after filtering:   100 (487309 filtered out).\n",
      "\n",
      "========================================================================\n",
      "\n",
      "Processing SNPs                                             :  (0/?,0.0s,0.0/s)\n"
     ]
    }
   ],
   "source": [
    "qctool -g ~/UKBiobank_Yale_transfer/ukb39554_imputeddataset/ukb_imp_chr2_v3.bgen -s ~/UKBiobank_Yale_transfer/ukb39554_imputeddataset/ukb32285_imputedindiv.sample -incl-samples ~/mwe_regenie_rap/samples_keep.txt -incl-range 2:-11406 -og ~/mwe_regenie_rap/toy_data_chr2.bgen"
   ]
  },
  {
   "cell_type": "code",
   "execution_count": 13,
   "id": "50844c53-e05a-470d-a67d-4cf57d9f87cc",
   "metadata": {
    "kernel": "Bash",
    "tags": []
   },
   "outputs": [
    {
     "name": "stdout",
     "output_type": "stream",
     "text": [
      "\n",
      "Welcome to qctool\n",
      "(version: 2.0.8, revision )\n",
      "\n",
      "(C) 2009-2017 University of Oxford\n",
      "\n",
      "Opening genotype files                                      : [******************************] (1/1,-8.4s,-0.1/s)\n",
      "========================================================================\n",
      "\n",
      "Input SAMPLE file(s):           \"/home/dmc2245/UKBiobank_Yale_transfer/ukb39554_imputeddataset/ukb32285_imputedindiv.sample\"\n",
      "Output SAMPLE file:             \"(n/a)\".\n",
      "Sample exclusion output file:   \"(n/a)\".\n",
      "\n",
      "Input GEN file(s):\n",
      "                                                    (not computed)  \"snp-id-data-filtered:/home/dmc2245/UKBiobank_Yale_transfer/ukb39554_imputeddataset/ukb_imp_chr3_v3.bgen (bgen v1.2; 487409 unnamed samples; zlib compression)\"\n",
      "                                         (total 1 sources, number of snps not computed).\n",
      "                      Number of samples: 487409\n",
      "        Number of samples (post-filter): 100\n",
      "Output GEN file(s):             \"/home/dmc2245/mwe_regenie_rap/toy_data_chr3.bgen\"\n",
      "Output SNP position file(s):    (n/a)\n",
      "Sample filter:                  ID_1 IN (1001655, 1053977, 1135375, 1135664, 1245364, ...).\n",
      "SNP filter:                     position in 3:-62254.\n",
      "\n",
      "# of samples in input files:    487409.\n",
      "# of samples after filtering:   100 (487309 filtered out).\n",
      "\n",
      "========================================================================\n",
      "\n",
      "Processing SNPs                                             :  (0/?,0.0s,0.0/s)\n"
     ]
    }
   ],
   "source": [
    "qctool -g ~/UKBiobank_Yale_transfer/ukb39554_imputeddataset/ukb_imp_chr3_v3.bgen -s ~/UKBiobank_Yale_transfer/ukb39554_imputeddataset/ukb32285_imputedindiv.sample -incl-samples ~/mwe_regenie_rap/samples_keep.txt -incl-range 3:-62254 -og ~/mwe_regenie_rap/toy_data_chr3.bgen"
   ]
  },
  {
   "cell_type": "code",
   "execution_count": 15,
   "id": "9e93e042-d46e-46c0-bf42-3ab1c55cdc50",
   "metadata": {
    "kernel": "Bash",
    "tags": []
   },
   "outputs": [],
   "source": [
    "module load Plink/1.9.10"
   ]
  },
  {
   "cell_type": "code",
   "execution_count": null,
   "id": "f4b18d3b-c0ad-4e1f-aafc-bf397951f841",
   "metadata": {
    "kernel": "Bash",
    "tags": []
   },
   "outputs": [],
   "source": [
    "plink --bfile ~/UKBiobank/genotype_files_processed/090221_sample_variant_qc_final_callrate90/cache/UKB_genotypedatadownloaded083019.090221_sample_variant_qc_final_callrate90.filtered.extracted \\\n",
    "--keep ~/mwe_regenie_rap/samples_keep_plink.txt \\\n",
    "--mac 100 \\\n",
    "--make-bed \\\n",
    "--threads 10 \\\n",
    "--out ~/mwe_regenie_rap/toy_data_mac"
   ]
  },
  {
   "cell_type": "code",
   "execution_count": 23,
   "id": "07720c91-96fb-4093-9bcc-9cd3608813e9",
   "metadata": {
    "kernel": "Bash"
   },
   "outputs": [
    {
     "name": "stdout",
     "output_type": "stream",
     "text": [
      "\n",
      "Welcome to bgenix\n",
      "(version: 1.1.7, revision )\n",
      "\n",
      "(C) 2009-2017 University of Oxford\n",
      "\n",
      "bgenix: creating index for \"/home/dmc2245/mwe_regenie_rap/toy_data_chr1.bgen\" in \"/home/dmc2245/mwe_regenie_rap/toy_data_chr1.bgen.bgi\"...\n",
      "bgenix: Opened \"/home/dmc2245/mwe_regenie_rap/toy_data_chr1.bgen\" with 0 variants...\n",
      "Building BGEN index                                         :  (0/?,0.0s,0.0/s)\n",
      "\n",
      "Thank you for using bgenix.\n"
     ]
    }
   ],
   "source": [
    "module load Bgenix/1.1.8\n",
    "bgenix -index -g ~/mwe_regenie_rap/toy_data_chr1.bgen"
   ]
  },
  {
   "cell_type": "code",
   "execution_count": 24,
   "id": "b261181c-d708-4277-ab72-4605d452e0e6",
   "metadata": {
    "kernel": "Bash"
   },
   "outputs": [
    {
     "name": "stdout",
     "output_type": "stream",
     "text": [
      "\n",
      "Welcome to bgenix\n",
      "(version: 1.1.7, revision )\n",
      "\n",
      "(C) 2009-2017 University of Oxford\n",
      "\n",
      "bgenix: creating index for \"/home/dmc2245/mwe_regenie_rap/toy_data_chr2.bgen\" in \"/home/dmc2245/mwe_regenie_rap/toy_data_chr2.bgen.bgi\"...\n",
      "bgenix: Opened \"/home/dmc2245/mwe_regenie_rap/toy_data_chr2.bgen\" with 0 variants...\n",
      "Building BGEN index                                         :  (0/?,0.0s,0.0/s)\n",
      "\n",
      "Thank you for using bgenix.\n"
     ]
    }
   ],
   "source": [
    "bgenix -index -g ~/mwe_regenie_rap/toy_data_chr2.bgen"
   ]
  },
  {
   "cell_type": "code",
   "execution_count": 25,
   "id": "5801ba19-41f4-4b32-911c-9f01f3a482d8",
   "metadata": {
    "kernel": "Bash"
   },
   "outputs": [
    {
     "name": "stdout",
     "output_type": "stream",
     "text": [
      "\n",
      "Welcome to bgenix\n",
      "(version: 1.1.7, revision )\n",
      "\n",
      "(C) 2009-2017 University of Oxford\n",
      "\n",
      "bgenix: creating index for \"/home/dmc2245/mwe_regenie_rap/toy_data_chr3.bgen\" in \"/home/dmc2245/mwe_regenie_rap/toy_data_chr3.bgen.bgi\"...\n",
      "bgenix: Opened \"/home/dmc2245/mwe_regenie_rap/toy_data_chr3.bgen\" with 0 variants...\n",
      "Building BGEN index                                         :  (0/?,0.0s,0.0/s)\n",
      "\n",
      "Thank you for using bgenix.\n"
     ]
    }
   ],
   "source": [
    "bgenix -index -g ~/mwe_regenie_rap/toy_data_chr3.bgen"
   ]
  },
  {
   "cell_type": "code",
   "execution_count": 9,
   "id": "1f67b421-30a9-4cf9-9a03-1efc5d032b1a",
   "metadata": {
    "kernel": "Bash"
   },
   "outputs": [
    {
     "name": "stdout",
     "output_type": "stream",
     "text": [
      "\n",
      "Welcome to bgenix\n",
      "(version: 1.1.7, revision )\n",
      "\n",
      "(C) 2009-2017 University of Oxford\n",
      "\n",
      "bgenix: creating index for \"/home/dmc2245/mwe_regenie_rap/toy_data_chr6.bgen\" in \"/home/dmc2245/mwe_regenie_rap/toy_data_chr6.bgen.bgi\"...\n",
      "bgenix: Opened \"/home/dmc2245/mwe_regenie_rap/toy_data_chr6.bgen\" with 100 variants...\n",
      "Building BGEN index                                         : [******************************] (100/100,0.0s,45909.7/s)\n",
      "\n",
      "Thank you for using bgenix.\n",
      "\n"
     ]
    }
   ],
   "source": [
    "bgenix -index -g ~/mwe_regenie_rap/toy_data_chr6.bgen"
   ]
  },
  {
   "cell_type": "code",
   "execution_count": 12,
   "id": "3438d06d-5fad-4235-8ad1-562c99c65a1e",
   "metadata": {
    "kernel": "Bash"
   },
   "outputs": [
    {
     "name": "stdout",
     "output_type": "stream",
     "text": [
      "\n",
      "Welcome to bgenix\n",
      "(version: 1.1.7, revision )\n",
      "\n",
      "(C) 2009-2017 University of Oxford\n",
      "\n",
      "bgenix: creating index for \"/home/dmc2245/mwe_regenie_rap/toy_data_chr1.bgen\" in \"/home/dmc2245/mwe_regenie_rap/toy_data_chr1.bgen.bgi\"...\n",
      "bgenix: Opened \"/home/dmc2245/mwe_regenie_rap/toy_data_chr1.bgen\" with 100 variants...\n",
      "Building BGEN index                                         : [******************************] (100/100,0.0s,34820.3/s)\n",
      "\n",
      "Thank you for using bgenix.\n",
      "\n"
     ]
    }
   ],
   "source": [
    "bgenix -index -g ~/mwe_regenie_rap/toy_data_chr1.bgen"
   ]
  },
  {
   "cell_type": "code",
   "execution_count": 15,
   "id": "c2de3cc8-9cbb-4616-9a47-21961413b570",
   "metadata": {
    "kernel": "Bash"
   },
   "outputs": [
    {
     "name": "stdout",
     "output_type": "stream",
     "text": [
      "\n",
      "Welcome to bgenix\n",
      "(version: 1.1.7, revision )\n",
      "\n",
      "(C) 2009-2017 University of Oxford\n",
      "\n",
      "bgenix: creating index for \"/home/dmc2245/mwe_regenie_rap/toy_data_chr2.bgen\" in \"/home/dmc2245/mwe_regenie_rap/toy_data_chr2.bgen.bgi\"...\n",
      "bgenix: Opened \"/home/dmc2245/mwe_regenie_rap/toy_data_chr2.bgen\" with 100 variants...\n",
      "Building BGEN index                                         : [******************************] (100/100,0.0s,31374.6/s)\n",
      "\n",
      "Thank you for using bgenix.\n",
      "\n"
     ]
    }
   ],
   "source": [
    "bgenix -index -g ~/mwe_regenie_rap/toy_data_chr2.bgen"
   ]
  },
  {
   "cell_type": "code",
   "execution_count": 16,
   "id": "8815ffeb-f0f6-4d66-945a-cb488c5a3c0b",
   "metadata": {
    "kernel": "Bash"
   },
   "outputs": [
    {
     "name": "stdout",
     "output_type": "stream",
     "text": [
      "\n",
      "Welcome to bgenix\n",
      "(version: 1.1.7, revision )\n",
      "\n",
      "(C) 2009-2017 University of Oxford\n",
      "\n",
      "bgenix: creating index for \"/home/dmc2245/mwe_regenie_rap/toy_data_chr3.bgen\" in \"/home/dmc2245/mwe_regenie_rap/toy_data_chr3.bgen.bgi\"...\n",
      "bgenix: Opened \"/home/dmc2245/mwe_regenie_rap/toy_data_chr3.bgen\" with 99 variants...\n",
      "Building BGEN index                                         : [******************************] (99/99,0.0s,25824.2/s)\n",
      "\n",
      "Thank you for using bgenix.\n",
      "\n"
     ]
    }
   ],
   "source": [
    "bgenix -index -g ~/mwe_regenie_rap/toy_data_chr3.bgen"
   ]
  },
  {
   "cell_type": "code",
   "execution_count": null,
   "id": "5a54a304-3746-48b2-ae36-4baf42c126ec",
   "metadata": {
    "kernel": "Bash"
   },
   "outputs": [],
   "source": [
    "/Users/dmc2245/cromwell/mwe_regenie_rap/toy_data_chr1.bgen\t/Users/dmc2245/cromwell/mwe_regenie_rap/toy_data_chr1.bgi\t/Users/dmc2245/cromwell/mwe_regenie_rap/toy_example.sample\t1\n",
    "/Users/dmc2245/cromwell/mwe_regenie_rap/toy_data_chr2.bgen\t/Users/dmc2245/cromwell/mwe_regenie_rap/toy_data_chr2.bgi\t/Users/dmc2245/cromwell/mwe_regenie_rap/toy_example.sample\t2\n",
    "/Users/dmc2245/cromwell/mwe_regenie_rap/toy_data_chr3.bgen\t/Users/dmc2245/cromwell/mwe_regenie_rap/toy_data_chr3.bgi\t/Users/dmc2245/cromwell/mwe_regenie_rap/toy_example.sample\t3"
   ]
  },
  {
   "cell_type": "code",
   "execution_count": 6,
   "id": "ddab9fec-bad6-43b4-ab19-0ab4210c184c",
   "metadata": {
    "kernel": "Python3",
    "tags": []
   },
   "outputs": [],
   "source": [
    "import pandas as pd\n",
    "pheno = pd.read_csv('~/mwe_regenie_rap/toy_example.sample', sep=\" \")"
   ]
  },
  {
   "cell_type": "code",
   "execution_count": 7,
   "id": "e95aae46-222b-4619-aa40-2efa5a0a6d53",
   "metadata": {
    "kernel": "Python3"
   },
   "outputs": [
    {
     "data": {
      "text/html": [
       "<div>\n",
       "<style scoped>\n",
       "    .dataframe tbody tr th:only-of-type {\n",
       "        vertical-align: middle;\n",
       "    }\n",
       "\n",
       "    .dataframe tbody tr th {\n",
       "        vertical-align: top;\n",
       "    }\n",
       "\n",
       "    .dataframe thead th {\n",
       "        text-align: right;\n",
       "    }\n",
       "</style>\n",
       "<table border=\"1\" class=\"dataframe\">\n",
       "  <thead>\n",
       "    <tr style=\"text-align: right;\">\n",
       "      <th></th>\n",
       "      <th>ID_1</th>\n",
       "      <th>ID_2</th>\n",
       "      <th>missing</th>\n",
       "      <th>sex</th>\n",
       "    </tr>\n",
       "  </thead>\n",
       "  <tbody>\n",
       "    <tr>\n",
       "      <th>0</th>\n",
       "      <td>5414209</td>\n",
       "      <td>5414209</td>\n",
       "      <td>0</td>\n",
       "      <td>1</td>\n",
       "    </tr>\n",
       "    <tr>\n",
       "      <th>1</th>\n",
       "      <td>5296052</td>\n",
       "      <td>5296052</td>\n",
       "      <td>0</td>\n",
       "      <td>2</td>\n",
       "    </tr>\n",
       "    <tr>\n",
       "      <th>2</th>\n",
       "      <td>4852763</td>\n",
       "      <td>4852763</td>\n",
       "      <td>0</td>\n",
       "      <td>2</td>\n",
       "    </tr>\n",
       "    <tr>\n",
       "      <th>3</th>\n",
       "      <td>5230840</td>\n",
       "      <td>5230840</td>\n",
       "      <td>0</td>\n",
       "      <td>2</td>\n",
       "    </tr>\n",
       "    <tr>\n",
       "      <th>4</th>\n",
       "      <td>1992219</td>\n",
       "      <td>1992219</td>\n",
       "      <td>0</td>\n",
       "      <td>2</td>\n",
       "    </tr>\n",
       "    <tr>\n",
       "      <th>...</th>\n",
       "      <td>...</td>\n",
       "      <td>...</td>\n",
       "      <td>...</td>\n",
       "      <td>...</td>\n",
       "    </tr>\n",
       "    <tr>\n",
       "      <th>95</th>\n",
       "      <td>4419678</td>\n",
       "      <td>4419678</td>\n",
       "      <td>0</td>\n",
       "      <td>2</td>\n",
       "    </tr>\n",
       "    <tr>\n",
       "      <th>96</th>\n",
       "      <td>5830444</td>\n",
       "      <td>5830444</td>\n",
       "      <td>0</td>\n",
       "      <td>2</td>\n",
       "    </tr>\n",
       "    <tr>\n",
       "      <th>97</th>\n",
       "      <td>2861021</td>\n",
       "      <td>2861021</td>\n",
       "      <td>0</td>\n",
       "      <td>2</td>\n",
       "    </tr>\n",
       "    <tr>\n",
       "      <th>98</th>\n",
       "      <td>2375434</td>\n",
       "      <td>2375434</td>\n",
       "      <td>0</td>\n",
       "      <td>1</td>\n",
       "    </tr>\n",
       "    <tr>\n",
       "      <th>99</th>\n",
       "      <td>1896578</td>\n",
       "      <td>1896578</td>\n",
       "      <td>0</td>\n",
       "      <td>1</td>\n",
       "    </tr>\n",
       "  </tbody>\n",
       "</table>\n",
       "<p>100 rows × 4 columns</p>\n",
       "</div>"
      ],
      "text/plain": [
       "       ID_1     ID_2  missing  sex\n",
       "0   5414209  5414209        0    1\n",
       "1   5296052  5296052        0    2\n",
       "2   4852763  4852763        0    2\n",
       "3   5230840  5230840        0    2\n",
       "4   1992219  1992219        0    2\n",
       "..      ...      ...      ...  ...\n",
       "95  4419678  4419678        0    2\n",
       "96  5830444  5830444        0    2\n",
       "97  2861021  2861021        0    2\n",
       "98  2375434  2375434        0    1\n",
       "99  1896578  1896578        0    1\n",
       "\n",
       "[100 rows x 4 columns]"
      ]
     },
     "execution_count": 7,
     "metadata": {},
     "output_type": "execute_result"
    }
   ],
   "source": [
    "pheno"
   ]
  },
  {
   "cell_type": "code",
   "execution_count": 25,
   "id": "070173bd-9e48-43eb-bae7-143b89717af9",
   "metadata": {
    "kernel": "Python3"
   },
   "outputs": [],
   "source": [
    "pheno= pheno.rename(columns={\"ID_1\": \"FID\", \"ID_2\": \"IID\", \"pheno\": \"covar\"})"
   ]
  },
  {
   "cell_type": "code",
   "execution_count": 26,
   "id": "ab42afe8-b3cf-413e-b2f6-364b9881afb4",
   "metadata": {
    "kernel": "Python3"
   },
   "outputs": [
    {
     "data": {
      "text/html": [
       "<div>\n",
       "<style scoped>\n",
       "    .dataframe tbody tr th:only-of-type {\n",
       "        vertical-align: middle;\n",
       "    }\n",
       "\n",
       "    .dataframe tbody tr th {\n",
       "        vertical-align: top;\n",
       "    }\n",
       "\n",
       "    .dataframe thead th {\n",
       "        text-align: right;\n",
       "    }\n",
       "</style>\n",
       "<table border=\"1\" class=\"dataframe\">\n",
       "  <thead>\n",
       "    <tr style=\"text-align: right;\">\n",
       "      <th></th>\n",
       "      <th>FID</th>\n",
       "      <th>IID</th>\n",
       "      <th>covar</th>\n",
       "      <th>sex</th>\n",
       "    </tr>\n",
       "  </thead>\n",
       "  <tbody>\n",
       "    <tr>\n",
       "      <th>0</th>\n",
       "      <td>5414209</td>\n",
       "      <td>5414209</td>\n",
       "      <td>0</td>\n",
       "      <td>1</td>\n",
       "    </tr>\n",
       "    <tr>\n",
       "      <th>1</th>\n",
       "      <td>5296052</td>\n",
       "      <td>5296052</td>\n",
       "      <td>0</td>\n",
       "      <td>2</td>\n",
       "    </tr>\n",
       "    <tr>\n",
       "      <th>2</th>\n",
       "      <td>4852763</td>\n",
       "      <td>4852763</td>\n",
       "      <td>0</td>\n",
       "      <td>2</td>\n",
       "    </tr>\n",
       "    <tr>\n",
       "      <th>3</th>\n",
       "      <td>5230840</td>\n",
       "      <td>5230840</td>\n",
       "      <td>0</td>\n",
       "      <td>2</td>\n",
       "    </tr>\n",
       "    <tr>\n",
       "      <th>4</th>\n",
       "      <td>1992219</td>\n",
       "      <td>1992219</td>\n",
       "      <td>0</td>\n",
       "      <td>2</td>\n",
       "    </tr>\n",
       "    <tr>\n",
       "      <th>...</th>\n",
       "      <td>...</td>\n",
       "      <td>...</td>\n",
       "      <td>...</td>\n",
       "      <td>...</td>\n",
       "    </tr>\n",
       "    <tr>\n",
       "      <th>95</th>\n",
       "      <td>4419678</td>\n",
       "      <td>4419678</td>\n",
       "      <td>0</td>\n",
       "      <td>2</td>\n",
       "    </tr>\n",
       "    <tr>\n",
       "      <th>96</th>\n",
       "      <td>5830444</td>\n",
       "      <td>5830444</td>\n",
       "      <td>0</td>\n",
       "      <td>2</td>\n",
       "    </tr>\n",
       "    <tr>\n",
       "      <th>97</th>\n",
       "      <td>2861021</td>\n",
       "      <td>2861021</td>\n",
       "      <td>0</td>\n",
       "      <td>2</td>\n",
       "    </tr>\n",
       "    <tr>\n",
       "      <th>98</th>\n",
       "      <td>2375434</td>\n",
       "      <td>2375434</td>\n",
       "      <td>0</td>\n",
       "      <td>1</td>\n",
       "    </tr>\n",
       "    <tr>\n",
       "      <th>99</th>\n",
       "      <td>1896578</td>\n",
       "      <td>1896578</td>\n",
       "      <td>0</td>\n",
       "      <td>1</td>\n",
       "    </tr>\n",
       "  </tbody>\n",
       "</table>\n",
       "<p>100 rows × 4 columns</p>\n",
       "</div>"
      ],
      "text/plain": [
       "        FID      IID  covar  sex\n",
       "0   5414209  5414209      0    1\n",
       "1   5296052  5296052      0    2\n",
       "2   4852763  4852763      0    2\n",
       "3   5230840  5230840      0    2\n",
       "4   1992219  1992219      0    2\n",
       "..      ...      ...    ...  ...\n",
       "95  4419678  4419678      0    2\n",
       "96  5830444  5830444      0    2\n",
       "97  2861021  2861021      0    2\n",
       "98  2375434  2375434      0    1\n",
       "99  1896578  1896578      0    1\n",
       "\n",
       "[100 rows x 4 columns]"
      ]
     },
     "execution_count": 26,
     "metadata": {},
     "output_type": "execute_result"
    }
   ],
   "source": [
    "pheno"
   ]
  },
  {
   "cell_type": "code",
   "execution_count": 20,
   "id": "d7808c4b-d0fd-4612-84dd-692be91bc98c",
   "metadata": {
    "kernel": "Python3"
   },
   "outputs": [],
   "source": [
    "import numpy as np\n",
    "import pandas as pd\n",
    " \n",
    "data = np.random.randint(0,2 , size=100)"
   ]
  },
  {
   "cell_type": "code",
   "execution_count": 34,
   "id": "8f40ed59-dd4d-439d-b98d-015b64aa0f26",
   "metadata": {
    "kernel": "Python3"
   },
   "outputs": [],
   "source": [
    "age = np.random.randint(40,70 , size=100)"
   ]
  },
  {
   "cell_type": "code",
   "execution_count": 21,
   "id": "a10c6d04-6ce2-495f-a22e-0f330c75a15f",
   "metadata": {
    "kernel": "Python3"
   },
   "outputs": [
    {
     "data": {
      "text/plain": [
       "array([1, 0, 0, 0, 0, 1, 0, 0, 1, 0, 1, 1, 1, 1, 0, 0, 1, 0, 0, 0, 1, 1,\n",
       "       0, 0, 1, 0, 1, 1, 1, 0, 0, 0, 1, 1, 1, 1, 0, 1, 1, 1, 0, 1, 1, 1,\n",
       "       0, 1, 1, 0, 1, 0, 1, 1, 1, 0, 0, 1, 0, 1, 0, 0, 0, 1, 0, 0, 1, 1,\n",
       "       0, 0, 0, 0, 0, 0, 1, 0, 0, 1, 0, 0, 0, 0, 0, 1, 0, 1, 1, 1, 0, 1,\n",
       "       1, 1, 0, 1, 1, 0, 1, 0, 0, 1, 0, 0])"
      ]
     },
     "execution_count": 21,
     "metadata": {},
     "output_type": "execute_result"
    }
   ],
   "source": [
    "data"
   ]
  },
  {
   "cell_type": "code",
   "execution_count": 36,
   "id": "d3684384-0f43-4d21-a165-1a90d3f129cb",
   "metadata": {
    "kernel": "Python3"
   },
   "outputs": [],
   "source": [
    "df = pd.DataFrame(data, columns=['pheno'])"
   ]
  },
  {
   "cell_type": "code",
   "execution_count": 37,
   "id": "4c463778-8ad6-4a55-9ca0-52d14bcef1e1",
   "metadata": {
    "kernel": "Python3"
   },
   "outputs": [],
   "source": [
    "df_age = pd.DataFrame(age, columns=['age'])"
   ]
  },
  {
   "cell_type": "code",
   "execution_count": 38,
   "id": "8f06b4a0-e23d-408b-8003-118d74410f8b",
   "metadata": {
    "kernel": "Python3"
   },
   "outputs": [
    {
     "data": {
      "text/html": [
       "<div>\n",
       "<style scoped>\n",
       "    .dataframe tbody tr th:only-of-type {\n",
       "        vertical-align: middle;\n",
       "    }\n",
       "\n",
       "    .dataframe tbody tr th {\n",
       "        vertical-align: top;\n",
       "    }\n",
       "\n",
       "    .dataframe thead th {\n",
       "        text-align: right;\n",
       "    }\n",
       "</style>\n",
       "<table border=\"1\" class=\"dataframe\">\n",
       "  <thead>\n",
       "    <tr style=\"text-align: right;\">\n",
       "      <th></th>\n",
       "      <th>age</th>\n",
       "    </tr>\n",
       "  </thead>\n",
       "  <tbody>\n",
       "    <tr>\n",
       "      <th>0</th>\n",
       "      <td>47</td>\n",
       "    </tr>\n",
       "    <tr>\n",
       "      <th>1</th>\n",
       "      <td>53</td>\n",
       "    </tr>\n",
       "    <tr>\n",
       "      <th>2</th>\n",
       "      <td>45</td>\n",
       "    </tr>\n",
       "    <tr>\n",
       "      <th>3</th>\n",
       "      <td>53</td>\n",
       "    </tr>\n",
       "    <tr>\n",
       "      <th>4</th>\n",
       "      <td>42</td>\n",
       "    </tr>\n",
       "    <tr>\n",
       "      <th>...</th>\n",
       "      <td>...</td>\n",
       "    </tr>\n",
       "    <tr>\n",
       "      <th>95</th>\n",
       "      <td>61</td>\n",
       "    </tr>\n",
       "    <tr>\n",
       "      <th>96</th>\n",
       "      <td>55</td>\n",
       "    </tr>\n",
       "    <tr>\n",
       "      <th>97</th>\n",
       "      <td>42</td>\n",
       "    </tr>\n",
       "    <tr>\n",
       "      <th>98</th>\n",
       "      <td>43</td>\n",
       "    </tr>\n",
       "    <tr>\n",
       "      <th>99</th>\n",
       "      <td>56</td>\n",
       "    </tr>\n",
       "  </tbody>\n",
       "</table>\n",
       "<p>100 rows × 1 columns</p>\n",
       "</div>"
      ],
      "text/plain": [
       "    age\n",
       "0    47\n",
       "1    53\n",
       "2    45\n",
       "3    53\n",
       "4    42\n",
       "..  ...\n",
       "95   61\n",
       "96   55\n",
       "97   42\n",
       "98   43\n",
       "99   56\n",
       "\n",
       "[100 rows x 1 columns]"
      ]
     },
     "execution_count": 38,
     "metadata": {},
     "output_type": "execute_result"
    }
   ],
   "source": [
    "df_age"
   ]
  },
  {
   "cell_type": "code",
   "execution_count": 30,
   "id": "ef17b379-6ea4-46f4-a175-5238c81e85ae",
   "metadata": {
    "kernel": "Python3"
   },
   "outputs": [],
   "source": [
    "concatenated = pd.concat([pheno, df], axis=\"columns\")"
   ]
  },
  {
   "cell_type": "code",
   "execution_count": 31,
   "id": "94d4d785-7fe5-4661-9448-47611ac97acd",
   "metadata": {
    "kernel": "Python3"
   },
   "outputs": [
    {
     "data": {
      "text/html": [
       "<div>\n",
       "<style scoped>\n",
       "    .dataframe tbody tr th:only-of-type {\n",
       "        vertical-align: middle;\n",
       "    }\n",
       "\n",
       "    .dataframe tbody tr th {\n",
       "        vertical-align: top;\n",
       "    }\n",
       "\n",
       "    .dataframe thead th {\n",
       "        text-align: right;\n",
       "    }\n",
       "</style>\n",
       "<table border=\"1\" class=\"dataframe\">\n",
       "  <thead>\n",
       "    <tr style=\"text-align: right;\">\n",
       "      <th></th>\n",
       "      <th>FID</th>\n",
       "      <th>IID</th>\n",
       "      <th>covar</th>\n",
       "      <th>sex</th>\n",
       "      <th>pheno</th>\n",
       "    </tr>\n",
       "  </thead>\n",
       "  <tbody>\n",
       "    <tr>\n",
       "      <th>0</th>\n",
       "      <td>5414209</td>\n",
       "      <td>5414209</td>\n",
       "      <td>0</td>\n",
       "      <td>1</td>\n",
       "      <td>1</td>\n",
       "    </tr>\n",
       "    <tr>\n",
       "      <th>1</th>\n",
       "      <td>5296052</td>\n",
       "      <td>5296052</td>\n",
       "      <td>0</td>\n",
       "      <td>2</td>\n",
       "      <td>0</td>\n",
       "    </tr>\n",
       "    <tr>\n",
       "      <th>2</th>\n",
       "      <td>4852763</td>\n",
       "      <td>4852763</td>\n",
       "      <td>0</td>\n",
       "      <td>2</td>\n",
       "      <td>0</td>\n",
       "    </tr>\n",
       "    <tr>\n",
       "      <th>3</th>\n",
       "      <td>5230840</td>\n",
       "      <td>5230840</td>\n",
       "      <td>0</td>\n",
       "      <td>2</td>\n",
       "      <td>0</td>\n",
       "    </tr>\n",
       "    <tr>\n",
       "      <th>4</th>\n",
       "      <td>1992219</td>\n",
       "      <td>1992219</td>\n",
       "      <td>0</td>\n",
       "      <td>2</td>\n",
       "      <td>0</td>\n",
       "    </tr>\n",
       "    <tr>\n",
       "      <th>...</th>\n",
       "      <td>...</td>\n",
       "      <td>...</td>\n",
       "      <td>...</td>\n",
       "      <td>...</td>\n",
       "      <td>...</td>\n",
       "    </tr>\n",
       "    <tr>\n",
       "      <th>95</th>\n",
       "      <td>4419678</td>\n",
       "      <td>4419678</td>\n",
       "      <td>0</td>\n",
       "      <td>2</td>\n",
       "      <td>0</td>\n",
       "    </tr>\n",
       "    <tr>\n",
       "      <th>96</th>\n",
       "      <td>5830444</td>\n",
       "      <td>5830444</td>\n",
       "      <td>0</td>\n",
       "      <td>2</td>\n",
       "      <td>0</td>\n",
       "    </tr>\n",
       "    <tr>\n",
       "      <th>97</th>\n",
       "      <td>2861021</td>\n",
       "      <td>2861021</td>\n",
       "      <td>0</td>\n",
       "      <td>2</td>\n",
       "      <td>1</td>\n",
       "    </tr>\n",
       "    <tr>\n",
       "      <th>98</th>\n",
       "      <td>2375434</td>\n",
       "      <td>2375434</td>\n",
       "      <td>0</td>\n",
       "      <td>1</td>\n",
       "      <td>0</td>\n",
       "    </tr>\n",
       "    <tr>\n",
       "      <th>99</th>\n",
       "      <td>1896578</td>\n",
       "      <td>1896578</td>\n",
       "      <td>0</td>\n",
       "      <td>1</td>\n",
       "      <td>0</td>\n",
       "    </tr>\n",
       "  </tbody>\n",
       "</table>\n",
       "<p>100 rows × 5 columns</p>\n",
       "</div>"
      ],
      "text/plain": [
       "        FID      IID  covar  sex  pheno\n",
       "0   5414209  5414209      0    1      1\n",
       "1   5296052  5296052      0    2      0\n",
       "2   4852763  4852763      0    2      0\n",
       "3   5230840  5230840      0    2      0\n",
       "4   1992219  1992219      0    2      0\n",
       "..      ...      ...    ...  ...    ...\n",
       "95  4419678  4419678      0    2      0\n",
       "96  5830444  5830444      0    2      0\n",
       "97  2861021  2861021      0    2      1\n",
       "98  2375434  2375434      0    1      0\n",
       "99  1896578  1896578      0    1      0\n",
       "\n",
       "[100 rows x 5 columns]"
      ]
     },
     "execution_count": 31,
     "metadata": {},
     "output_type": "execute_result"
    }
   ],
   "source": [
    "concatenated"
   ]
  },
  {
   "cell_type": "code",
   "execution_count": 39,
   "id": "12f2d4b2-2a68-4baa-9693-4eee74f09253",
   "metadata": {
    "kernel": "Python3"
   },
   "outputs": [],
   "source": [
    "concatenated_age = pd.concat([concatenated, df_age], axis=\"columns\")"
   ]
  },
  {
   "cell_type": "code",
   "execution_count": 33,
   "id": "ef978bc7-882d-4243-b691-6ec7219cace9",
   "metadata": {
    "kernel": "Python3"
   },
   "outputs": [],
   "source": [
    "concatenated[[\"FID\",\"IID\", \"pheno\"]].to_csv(\"~/mwe_regenie_rap/pheno_toy.tsv\", sep=\"\\t\", index=None)"
   ]
  },
  {
   "cell_type": "code",
   "execution_count": 40,
   "id": "f83581c4-7fd0-4c52-af27-564f5833afe3",
   "metadata": {
    "kernel": "Python3"
   },
   "outputs": [
    {
     "data": {
      "text/html": [
       "<div>\n",
       "<style scoped>\n",
       "    .dataframe tbody tr th:only-of-type {\n",
       "        vertical-align: middle;\n",
       "    }\n",
       "\n",
       "    .dataframe tbody tr th {\n",
       "        vertical-align: top;\n",
       "    }\n",
       "\n",
       "    .dataframe thead th {\n",
       "        text-align: right;\n",
       "    }\n",
       "</style>\n",
       "<table border=\"1\" class=\"dataframe\">\n",
       "  <thead>\n",
       "    <tr style=\"text-align: right;\">\n",
       "      <th></th>\n",
       "      <th>FID</th>\n",
       "      <th>IID</th>\n",
       "      <th>covar</th>\n",
       "      <th>sex</th>\n",
       "      <th>pheno</th>\n",
       "      <th>age</th>\n",
       "    </tr>\n",
       "  </thead>\n",
       "  <tbody>\n",
       "    <tr>\n",
       "      <th>0</th>\n",
       "      <td>5414209</td>\n",
       "      <td>5414209</td>\n",
       "      <td>0</td>\n",
       "      <td>1</td>\n",
       "      <td>1</td>\n",
       "      <td>47</td>\n",
       "    </tr>\n",
       "    <tr>\n",
       "      <th>1</th>\n",
       "      <td>5296052</td>\n",
       "      <td>5296052</td>\n",
       "      <td>0</td>\n",
       "      <td>2</td>\n",
       "      <td>0</td>\n",
       "      <td>53</td>\n",
       "    </tr>\n",
       "    <tr>\n",
       "      <th>2</th>\n",
       "      <td>4852763</td>\n",
       "      <td>4852763</td>\n",
       "      <td>0</td>\n",
       "      <td>2</td>\n",
       "      <td>0</td>\n",
       "      <td>45</td>\n",
       "    </tr>\n",
       "    <tr>\n",
       "      <th>3</th>\n",
       "      <td>5230840</td>\n",
       "      <td>5230840</td>\n",
       "      <td>0</td>\n",
       "      <td>2</td>\n",
       "      <td>0</td>\n",
       "      <td>53</td>\n",
       "    </tr>\n",
       "    <tr>\n",
       "      <th>4</th>\n",
       "      <td>1992219</td>\n",
       "      <td>1992219</td>\n",
       "      <td>0</td>\n",
       "      <td>2</td>\n",
       "      <td>0</td>\n",
       "      <td>42</td>\n",
       "    </tr>\n",
       "    <tr>\n",
       "      <th>...</th>\n",
       "      <td>...</td>\n",
       "      <td>...</td>\n",
       "      <td>...</td>\n",
       "      <td>...</td>\n",
       "      <td>...</td>\n",
       "      <td>...</td>\n",
       "    </tr>\n",
       "    <tr>\n",
       "      <th>95</th>\n",
       "      <td>4419678</td>\n",
       "      <td>4419678</td>\n",
       "      <td>0</td>\n",
       "      <td>2</td>\n",
       "      <td>0</td>\n",
       "      <td>61</td>\n",
       "    </tr>\n",
       "    <tr>\n",
       "      <th>96</th>\n",
       "      <td>5830444</td>\n",
       "      <td>5830444</td>\n",
       "      <td>0</td>\n",
       "      <td>2</td>\n",
       "      <td>0</td>\n",
       "      <td>55</td>\n",
       "    </tr>\n",
       "    <tr>\n",
       "      <th>97</th>\n",
       "      <td>2861021</td>\n",
       "      <td>2861021</td>\n",
       "      <td>0</td>\n",
       "      <td>2</td>\n",
       "      <td>1</td>\n",
       "      <td>42</td>\n",
       "    </tr>\n",
       "    <tr>\n",
       "      <th>98</th>\n",
       "      <td>2375434</td>\n",
       "      <td>2375434</td>\n",
       "      <td>0</td>\n",
       "      <td>1</td>\n",
       "      <td>0</td>\n",
       "      <td>43</td>\n",
       "    </tr>\n",
       "    <tr>\n",
       "      <th>99</th>\n",
       "      <td>1896578</td>\n",
       "      <td>1896578</td>\n",
       "      <td>0</td>\n",
       "      <td>1</td>\n",
       "      <td>0</td>\n",
       "      <td>56</td>\n",
       "    </tr>\n",
       "  </tbody>\n",
       "</table>\n",
       "<p>100 rows × 6 columns</p>\n",
       "</div>"
      ],
      "text/plain": [
       "        FID      IID  covar  sex  pheno  age\n",
       "0   5414209  5414209      0    1      1   47\n",
       "1   5296052  5296052      0    2      0   53\n",
       "2   4852763  4852763      0    2      0   45\n",
       "3   5230840  5230840      0    2      0   53\n",
       "4   1992219  1992219      0    2      0   42\n",
       "..      ...      ...    ...  ...    ...  ...\n",
       "95  4419678  4419678      0    2      0   61\n",
       "96  5830444  5830444      0    2      0   55\n",
       "97  2861021  2861021      0    2      1   42\n",
       "98  2375434  2375434      0    1      0   43\n",
       "99  1896578  1896578      0    1      0   56\n",
       "\n",
       "[100 rows x 6 columns]"
      ]
     },
     "execution_count": 40,
     "metadata": {},
     "output_type": "execute_result"
    }
   ],
   "source": [
    "concatenated_age"
   ]
  },
  {
   "cell_type": "code",
   "execution_count": 41,
   "id": "1d74b769-0c1c-4a69-9d6e-766d4a4ca81c",
   "metadata": {
    "kernel": "Python3"
   },
   "outputs": [],
   "source": [
    "concatenated_age[[\"FID\",\"IID\", \"sex\",\"age\"]].to_csv(\"~/mwe_regenie_rap/covar_toy.tsv\", sep=\"\\t\", index=None)"
   ]
  },
  {
   "cell_type": "code",
   "execution_count": 1,
   "id": "2735b677-50b9-452e-af12-5a27b5d9ada7",
   "metadata": {
    "kernel": "Python3"
   },
   "outputs": [
    {
     "name": "stderr",
     "output_type": "stream",
     "text": [
      "/tmp/5965237.1.csg.q/ipykernel_12542/2685489524.py:1: DeprecationWarning: Using or importing the ABCs from 'collections' instead of from 'collections.abc' is deprecated since Python 3.3, and in 3.9 it will stop working\n",
      "  from collections import Sized, KeysView, Sequence\n",
      "/home/dmc2245/miniconda3/lib/python3.8/site-packages/sos_notebook/kernel.py:1334: DeprecationWarning: Kernel._parent_header is deprecated in ipykernel 6. Use .get_parent()\n",
      "  msg['msg_id'] = self._parent_header['header']['msg_id']\n"
     ]
    }
   ],
   "source": [
    "# Read into bgen file\n",
    "from bgen_reader import open_bgen\n",
    "bgen_file = '/mnt/vast/hpc/csg/UKBiobank/results/pleiotropy_AD_ARHI/111822_LDstore_files/regions_chr1_22/06/06_68849483_69523448.bgen'\n",
    "bgen = open_bgen(bgen_file, verbose=False)"
   ]
  },
  {
   "cell_type": "code",
   "execution_count": 2,
   "id": "4a50efb9-42bd-4415-8045-0aba55491c91",
   "metadata": {
    "kernel": "Python3"
   },
   "outputs": [
    {
     "name": "stdout",
     "output_type": "stream",
     "text": [
      "['sample_0' 'sample_1' 'sample_2' 'sample_3' 'sample_4']\n"
     ]
    }
   ],
   "source": [
    "# Print first 5 samples\n",
    "print(bgen.samples[:5])\n",
    "# ['sample_0' 'sample_1' 'sample_2' 'sample_3' 'sample_4']"
   ]
  },
  {
   "cell_type": "code",
   "execution_count": 6,
   "id": "5e6f589b-e2b7-48d9-a307-56432f5a7260",
   "metadata": {
    "kernel": "Python3"
   },
   "outputs": [
    {
     "name": "stdout",
     "output_type": "stream",
     "text": [
      "['6:68849483_A_G' '6:68849636_C_T' '6:68849644_C_T' '6:68849653_T_C'\n",
      " '6:68849689_C_G' '6:68849776_T_C' '6:68849781_T_C' '6:68849783_T_C'\n",
      " '6:68849802_C_T' '6:68849807_C_CG' '6:68849827_T_A' '6:68849836_C_T'\n",
      " '6:68849846_G_A' '6:68849860_A_T' '6:68849881_CA_C' '6:68849897_A_G'\n",
      " '6:68849909_G_T' '6:68849933_C_G' '6:68849948_T_G' '6:68849998_T_C'\n",
      " '6:68850024_A_G' '6:68850051_A_G' '6:68850100_A_T' '6:68850101_G_A'\n",
      " '6:68850106_A_T' '6:68850112_T_A' '6:68850112_T_G' '6:68850119_G_T'\n",
      " '6:68850150_T_C' '6:68850258_C_G' '6:68850322_T_C' '6:68850346_G_A'\n",
      " '6:68850350_C_T' '6:68850358_T_C' '6:68850444_C_A' '6:68850466_C_T'\n",
      " '6:68850468_C_T' '6:68850470_A_G' '6:68850519_C_T' 'rs79114683'\n",
      " '6:68850561_T_A' '6:68850618_C_T' '6:68850625_T_C' '6:68850672_C_T'\n",
      " '6:68850673_G_A' '6:68850691_G_A' '6:68850766_A_G' '6:68850774_T_A'\n",
      " '6:68850790_G_A' '6:68850812_C_T' '6:68850837_G_A' '6:68850838_A_T'\n",
      " '6:68850855_C_T' '6:68850914_A_G' '6:68850923_T_C' '6:68850974_A_C'\n",
      " '6:68850988_G_T' '6:68850989_A_T' '6:68851007_C_T' '6:68851025_C_T'\n",
      " '6:68851038_G_T' '6:68851050_C_G' '6:68851128_A_G' '6:68851232_C_G'\n",
      " '6:68851251_G_T' '6:68851264_A_G' '6:68851279_T_G' '6:68851285_T_C'\n",
      " '6:68851325_G_A' '6:68851355_G_C' '6:68851393_C_G' '6:68851402_G_C'\n",
      " '6:68851420_A_G' '6:68851440_G_A' '6:68851462_C_A' '6:68851475_C_T'\n",
      " '6:68851487_A_G' '6:68851526_A_G' '6:68851560_G_A' '6:68851575_C_G'\n",
      " '6:68851577_C_G' '6:68851577_C_T' '6:68851583_C_T' '6:68851602_T_C'\n",
      " '6:68851619_C_T' '6:68851648_A_G' '6:68851663_G_A' '6:68851673_C_T'\n",
      " '6:68851697_G_T' '6:68851744_C_A' '6:68851775_C_T' '6:68851816_A_G'\n",
      " '6:68851831_C_A' '6:68851834_T_C' '6:68851853_T_C' '6:68851872_C_T'\n",
      " '6:68851880_G_A' '6:68851908_G_A' '6:68851926_C_T' '6:68851956_C_T']\n"
     ]
    }
   ],
   "source": [
    "# Print first 5 variants\n",
    "print(bgen.ids[:100]) #first 5\n",
    "# ['6:31571218_C_T' '6:31571228_A_C' '6:31571296_A_G' '6:31571308_C_T' '6:31571330_C_A']"
   ]
  },
  {
   "cell_type": "code",
   "execution_count": 4,
   "id": "4fdc6dbd-d891-49e9-b9a4-2dd960ae6c18",
   "metadata": {
    "kernel": "Python3"
   },
   "outputs": [
    {
     "name": "stdout",
     "output_type": "stream",
     "text": [
      "23418\n"
     ]
    }
   ],
   "source": [
    "print(bgen.nvariants)\n",
    "# 43053"
   ]
  },
  {
   "cell_type": "code",
   "execution_count": 5,
   "id": "9c146f3c-5d66-40b5-a313-621f99e918d3",
   "metadata": {
    "kernel": "Python3"
   },
   "outputs": [
    {
     "name": "stdout",
     "output_type": "stream",
     "text": [
      "[[[1. 0. 0.]]\n",
      "\n",
      " [[1. 0. 0.]]\n",
      "\n",
      " [[1. 0. 0.]]\n",
      "\n",
      " ...\n",
      "\n",
      " [[1. 0. 0.]]\n",
      "\n",
      " [[1. 0. 0.]]\n",
      "\n",
      " [[1. 0. 0.]]]\n"
     ]
    }
   ],
   "source": [
    "## Read the probabilities of the first variant\n",
    "probs = bgen.read(0)\n",
    "print(probs)"
   ]
  },
  {
   "cell_type": "code",
   "execution_count": 7,
   "id": "306f1fd6-f81e-4613-81fd-2fa154dc1a4f",
   "metadata": {
    "kernel": "Python3"
   },
   "outputs": [],
   "source": [
    "# Read into bgen file\n",
    "from bgen_reader import open_bgen\n",
    "bgen_file_1 = '/mnt/vast/hpc/csg/UKBiobank/results/pleiotropy_AD_ARHI/111822_LDstore_files/regions_chr1_22/01/01_48002576_48978188.bgen'\n",
    "bgen_1 = open_bgen(bgen_file_1, verbose=False)"
   ]
  },
  {
   "cell_type": "code",
   "execution_count": 8,
   "id": "a2ab71a8-6ae4-4c08-bff7-d77a683338d0",
   "metadata": {
    "kernel": "Python3"
   },
   "outputs": [
    {
     "name": "stdout",
     "output_type": "stream",
     "text": [
      "['1:48002576_G_A' '1:48002588_G_A' '1:48002596_T_C' '1:48002631_G_A'\n",
      " '1:48002633_C_T' '1:48002641_G_A' '1:48002650_G_A' '1:48002697_G_T'\n",
      " '1:48002716_G_A' '1:48002723_A_G' '1:48002739_A_G' '1:48002745_C_T'\n",
      " '1:48002753_C_T' '1:48002772_G_A' '1:48002784_G_A' '1:48002790_G_A'\n",
      " '1:48002814_G_A' '1:48002818_G_A' '1:48002859_C_A' '1:48002903_G_A'\n",
      " '1:48002965_G_T' '1:48002966_T_A' '1:48002970_C_T' '1:48003001_T_C'\n",
      " '1:48003055_C_T' '1:48003056_G_A' '1:48003080_C_T' '1:48003081_T_C'\n",
      " '1:48003084_A_C' '1:48003091_G_T' '1:48003121_G_A' '1:48003156_C_A'\n",
      " '1:48003161_C_T' '1:48003169_A_G' '1:48003259_G_A' '1:48003287_G_A'\n",
      " '1:48003305_C_T' '1:48003306_G_A' '1:48003318_C_G' '1:48003323_C_T'\n",
      " '1:48003374_A_G' '1:48003382_AT_A' '1:48003474_G_A' '1:48003512_A_C'\n",
      " '1:48003558_C_T' '1:48003576_C_T' '1:48003592_C_T' '1:48003677_C_T'\n",
      " 'rs512724' '1:48003679_C_T' '1:48003724_G_A' '1:48003762_C_T'\n",
      " '1:48003795_G_A' '1:48003813_G_A' '1:48003886_G_C' '1:48003953_T_TA'\n",
      " '1:48004001_G_T' '1:48004024_CTG_C' '1:48004077_T_C' '1:48004086_G_C'\n",
      " '1:48004101_T_A' '1:48004182_G_A' '1:48004241_G_A' '1:48004276_A_G'\n",
      " '1:48004292_A_C' '1:48004316_A_G' '1:48004645_G_A' '1:48004692_C_A'\n",
      " '1:48004711_C_G' '1:48004769_C_T' '1:48004776_C_T' '1:48004777_C_A'\n",
      " '1:48004806_T_C' '1:48004858_C_A' '1:48004858_C_T' '1:48004873_C_G'\n",
      " '1:48004920_A_C' '1:48004963_A_T' '1:48004968_T_C' '1:48005013_C_G'\n",
      " '1:48005024_G_A' '1:48005038_A_G' '1:48005071_G_A' '1:48005259_T_C'\n",
      " '1:48005296_C_T' '1:48005300_C_T' '1:48005332_C_G' '1:48005347_A_G'\n",
      " '1:48005433_G_T' '1:48005458_C_G' '1:48005471_A_G' '1:48005477_C_T'\n",
      " '1:48005487_C_T' '1:48005558_C_T' '1:48005571_C_T' '1:48005593_T_C'\n",
      " '1:48005615_C_T' '1:48005642_A_G' '1:48005646_A_G' '1:48005672_G_A']\n"
     ]
    }
   ],
   "source": [
    "# Print first 100 variants\n",
    "print(bgen_1.ids[:100])"
   ]
  },
  {
   "cell_type": "code",
   "execution_count": 10,
   "id": "eecff1f5-c540-4ca5-8be2-9a882b04121a",
   "metadata": {
    "kernel": "Python3"
   },
   "outputs": [],
   "source": [
    "# Read into bgen file\n",
    "from bgen_reader import open_bgen\n",
    "bgen_file_2 = '/mnt/vast/hpc/csg/UKBiobank/results/pleiotropy_AD_ARHI/111822_LDstore_files/regions_chr1_22/02/02_195861164_196447456.bgen'\n",
    "bgen_2 = open_bgen(bgen_file_2, verbose=False)"
   ]
  },
  {
   "cell_type": "code",
   "execution_count": 11,
   "id": "0332a623-8f00-4c90-ba59-194a730582ed",
   "metadata": {
    "kernel": "Python3"
   },
   "outputs": [
    {
     "name": "stdout",
     "output_type": "stream",
     "text": [
      "['2:195861164_G_T' '2:195861181_G_C' '2:195861202_C_T' '2:195861203_G_A'\n",
      " '2:195861304_G_T' '2:195861315_T_C' '2:195861380_C_G' '2:195861420_A_C'\n",
      " '2:195861444_T_G' '2:195861451_T_C' '2:195861469_A_G' '2:195861545_T_TTG'\n",
      " '2:195861581_C_T' '2:195861582_G_A' '2:195861594_G_T' '2:195861604_T_C'\n",
      " '2:195861605_G_C' '2:195861613_T_C' '2:195861628_G_A' '2:195861629_T_C'\n",
      " '2:195861640_C_T' '2:195861641_G_A' '2:195861668_T_C' '2:195861718_C_T'\n",
      " '2:195861729_T_C' '2:195861791_A_AT' '2:195861792_T_C' '2:195861814_AT_A'\n",
      " '2:195861815_T_C' '2:195861817_C_T' '2:195861863_T_A' '2:195861865_G_A'\n",
      " '2:195861931_T_C' '2:195861961_T_C' '2:195862048_C_A' '2:195862048_C_T'\n",
      " '2:195862053_G_C' '2:195862145_T_C' '2:195862161_A_C' '2:195862171_G_C'\n",
      " '2:195862203_T_C' '2:195862238_T_C' '2:195862258_T_C' '2:195862308_A_G'\n",
      " '2:195862332_A_G' '2:195862334_T_C' '2:195862344_G_A' '2:195862352_G_A'\n",
      " '2:195862394_T_C' '2:195862427_C_G' '2:195862463_G_A' '2:195862465_G_C'\n",
      " '2:195862482_C_G' '2:195862504_A_G' '2:195862558_G_T' '2:195862606_G_A'\n",
      " '2:195862625_A_T' '2:195862638_T_C' '2:195862680_C_T' '2:195862681_G_A'\n",
      " '2:195862722_A_G' '2:195862750_A_G' '2:195862802_T_C' '2:195862830_C_T'\n",
      " '2:195862852_T_C' '2:195862930_C_T' '2:195862962_A_G' '2:195862983_A_C'\n",
      " '2:195862986_C_T' '2:195862994_A_G' '2:195863099_A_T' '2:195863107_G_A'\n",
      " '2:195863135_T_A' '2:195863147_T_C' '2:195863162_C_T' '2:195863214_T_C'\n",
      " '2:195863217_T_C' '2:195863255_T_A' '2:195863278_T_G' '2:195863290_A_G'\n",
      " '2:195863312_A_G' '2:195863340_A_G' '2:195863381_G_C' '2:195863397_C_T'\n",
      " '2:195863427_G_A' '2:195863510_T_C' '2:195863512_A_G' '2:195863545_T_C'\n",
      " '2:195863641_T_A' '2:195863658_ACT_A' '2:195863664_T_A' '2:195863714_A_C'\n",
      " '2:195863828_A_G' '2:195863908_T_C' '2:195863977_G_T' '2:195863982_G_A'\n",
      " '2:195863997_G_C' '2:195864011_G_A' '2:195864023_C_A' '2:195864029_A_G']\n"
     ]
    }
   ],
   "source": [
    "# Print first 100 variants\n",
    "print(bgen_2.ids[:100])"
   ]
  },
  {
   "cell_type": "code",
   "execution_count": 13,
   "id": "2269369b-80e9-42ba-b556-6a61e6e80161",
   "metadata": {
    "kernel": "Python3"
   },
   "outputs": [],
   "source": [
    "# Read into bgen file\n",
    "from bgen_reader import open_bgen\n",
    "bgen_file_3 = '/mnt/vast/hpc/csg/UKBiobank/results/pleiotropy_AD_ARHI/111822_LDstore_files/regions_chr1_22/03/03_173477285_175116539.bgen'\n",
    "bgen_3 = open_bgen(bgen_file_3, verbose=False)"
   ]
  },
  {
   "cell_type": "code",
   "execution_count": 14,
   "id": "51bffc91-b6d1-4859-b1b5-ac4a375e7146",
   "metadata": {
    "kernel": "Python3"
   },
   "outputs": [
    {
     "name": "stdout",
     "output_type": "stream",
     "text": [
      "['rs115530495' '3:173477307_A_T' '3:173477336_G_A' '3:173477392_G_A'\n",
      " '3:173477441_A_G' '3:173477455_C_G' '3:173477516_G_A' '3:173477564_T_C'\n",
      " '3:173477571_T_A' '3:173477585_G_T' '3:173477642_A_G' '3:173477703_A_G'\n",
      " '3:173477704_T_C' '3:173477773_C_G' '3:173477802_G_A' '3:173477835_C_T'\n",
      " '3:173477852_C_G' '3:173477901_A_G' '3:173477907_A_G' 'rs79574146'\n",
      " '3:173477943_G_A' '3:173477958_C_G' '3:173477960_C_A' '3:173477962_T_C'\n",
      " '3:173477967_C_G' '3:173477993_A_G' '3:173477997_C_A' '3:173478122_A_G'\n",
      " '3:173478158_G_A' 'rs1565196' '3:173478250_C_T' '3:173478304_A_C'\n",
      " '3:173478475_A_G' '3:173478481_A_C' '3:173478485_T_G' '3:173478579_C_CA'\n",
      " '3:173478673_C_A' '3:173478687_T_C' '3:173478733_C_T' '3:173478744_C_G'\n",
      " '3:173478799_G_A' '3:173478859_T_C' 'rs994148' '3:173478948_A_G'\n",
      " '3:173479073_C_G' '3:173479082_C_T' '3:173479124_G_A' '3:173479171_G_A'\n",
      " '3:173479176_G_A' '3:173479187_A_T' '3:173479205_G_T' '3:173479263_A_G'\n",
      " '3:173479273_A_C' '3:173479306_A_G' '3:173479312_G_A' '3:173479315_T_C'\n",
      " '3:173479330_C_T' '3:173479385_C_A' '3:173479391_A_G' '3:173479443_C_G'\n",
      " '3:173479481_A_C' '3:173479542_G_A' '3:173479604_G_T' '3:173479631_A_C'\n",
      " '3:173479695_A_C' '3:173479716_C_T' '3:173479717_G_A' '3:173479720_A_G'\n",
      " '3:173479762_A_G' '3:173479780_T_C' '3:173479800_A_G' '3:173479816_C_T'\n",
      " '3:173479870_C_T' '3:173479873_A_G' '3:173479903_A_G' '3:173480037_T_C'\n",
      " '3:173480070_A_G' '3:173480144_G_C' '3:173480173_A_C' '3:173480189_A_C'\n",
      " '3:173480194_G_T' '3:173480219_A_G' '3:173480231_A_G' '3:173480241_A_G'\n",
      " '3:173480367_G_C' '3:173480406_A_T' '3:173480407_T_C' '3:173480411_C_G'\n",
      " '3:173480454_G_A' '3:173480467_G_C' '3:173480468_C_T' '3:173480471_C_T'\n",
      " '3:173480481_A_G' '3:173480529_A_G' '3:173480547_G_A' '3:173480579_A_G'\n",
      " '3:173480631_G_T' '3:173480676_G_A' '3:173480707_G_C' '3:173480755_T_TAC']\n"
     ]
    }
   ],
   "source": [
    "# Print first 100 variants\n",
    "print(bgen_3.ids[:100])"
   ]
  },
  {
   "cell_type": "code",
   "execution_count": 19,
   "id": "918b88ab-936a-4257-b6ca-5be1eccad917",
   "metadata": {
    "kernel": "Bash",
    "tags": []
   },
   "outputs": [
    {
     "name": "stdout",
     "output_type": "stream",
     "text": [
      "\n"
     ]
    }
   ],
   "source": [
    "# Common variables Columbia's cluster\n",
    "UKBB_PATH=$HOME/UKBiobank\n",
    "UKBB_yale=$HOME/UKBiobank_Yale_transfer\n",
    "USER_PATH=$HOME/project\n",
    "container_lmm=$HOME/containers/lmm.sif\n",
    "container_marp=$HOME/containers/marp.sif\n",
    "container_annovar=$HOME/containers/gatk4-annovar.sif\n",
    "hearing_pheno_path=$UKBB_PATH/phenotype_files/hearing_impairment\n",
    "tpl_file=$USER_PATH/bioworkflows/admin/csg.yml\n",
    "formatFile_fastgwa=$USER_PATH/UKBB_GWAS_dev/data/fastGWA_template.yml\n",
    "formatFile_bolt=$USER_PATH/UKBB_GWAS_dev/data/boltlmm_template.yml\n",
    "formatFile_saige=$USER_PATH/UKBB_GWAS_dev/data/saige_template.yml\n",
    "formatFile_regenie=$USER_PATH/UKBB_GWAS_dev/data/regenie_template.yml"
   ]
  },
  {
   "cell_type": "code",
   "execution_count": 20,
   "id": "4e73e530-5877-46dd-b514-dae73f678d0c",
   "metadata": {
    "kernel": "Bash"
   },
   "outputs": [
    {
     "name": "stdout",
     "output_type": "stream",
     "text": [
      "\n"
     ]
    }
   ],
   "source": [
    "# Workflows\n",
    "lmm_sos=$USER_PATH/bioworkflows/GWAS/LMM.ipynb\n",
    "anno_sos=$USER_PATH/bioworkflows/variant-annotation/annovar.ipynb\n",
    "clumping_sos=$USER_PATH/bioworkflows/GWAS/LD_Clumping.ipynb\n",
    "extract_sos=$USER_PATH/bioworkflows/GWAS/Region_Extraction.ipynb\n",
    "snptogene_sos=$USER_PATH/UKBB_GWAS_dev/workflow/snptogene.ipynb\n",
    "\n",
    "# LMM directories for imputed data\n",
    "lmm_imp_dir_fastgwa=$UKBB_PATH/results/FastGWA_results/results_imputed_data\n",
    "lmm_imp_dir_bolt=$UKBB_PATH/results/BOLTLMM_results/results_imputed_data\n",
    "lmm_imp_dir_saige=$UKBB_PATH/results/SAIGE_results/results_imputed_data\n",
    "lmm_imp_dir_regenie=$UKBB_PATH/results/REGENIE_results/results_imputed_data\n",
    "\n",
    "# LMM directories for exome data\n",
    "lmm_exome_dir_fastgwa=$UKBB_PATH/results/FastGWA_results/results_exome_data\n",
    "lmm_exome_dir_bolt=$UKBB_PATH/results/BOLTLMM_results/results_exome_data\n",
    "lmm_exome_dir_saige=$UKBB_PATH/results/SAIGE_results/results_exome_data\n",
    "lmm_exome_dir_regenie=$UKBB_PATH/results/REGENIE_results/results_exome_data"
   ]
  },
  {
   "cell_type": "code",
   "execution_count": 21,
   "id": "a6745ca0-6f75-451a-b6ed-c6ef80528288",
   "metadata": {
    "kernel": "Bash"
   },
   "outputs": [
    {
     "name": "stdout",
     "output_type": "stream",
     "text": [
      "\n"
     ]
    }
   ],
   "source": [
    "## LMM variables \n",
    "## Specific to Bolt_LMM\n",
    "LDscoresFile=$UKBB_PATH/LDSCORE.1000G_EUR.tab.gz\n",
    "geneticMapFile=$UKBB_PATH/genetic_map_hg19_withX.txt.gz\n",
    "covarMaxLevels=10\n",
    "numThreads=20\n",
    "bgenMinMAF=0.001\n",
    "bgenMinINFO=0.8\n",
    "lmm_job_size=1\n",
    "ylim=0\n",
    "\n",
    "### Specific to FastGWA (depeding if you run from Yale or Columbia)\n",
    "####Yale's cluster\n",
    "grmFile=$UKBB_PATH/results/FastGWA_results/results_imputed_data/UKB_Caucasians_phenotypeindepqc120319_updated020720removedwithdrawnindiv.grm.sp\n",
    "####Columbia's cluster\n",
    "grmFile=$UKBB_yale/results/FastGWA_results/results_imputed_data/UKB_Caucasians_phenotypeindepqc120319_updated020720removedwithdrawnindiv.grm.sp\n",
    "\n",
    "### Specific to SAIGE\n",
    "bgenMinMAC=4\n",
    "trait_type=binary\n",
    "loco=TRUE\n",
    "sampleCol=IID\n",
    "\n",
    "### Specific to REGENIE\n",
    "bsize=1000\n",
    "lowmem=$HOME/scratch60/\n",
    "lowmem_dir=$HOME/scratch60/predictions\n",
    "trait=bt\n",
    "minMAC=4\n",
    "maf_filter=0\n",
    "geno_filter=0\n",
    "hwe_filter=0\n",
    "mind_filter=0\n",
    "reverse_log_p=True"
   ]
  },
  {
   "cell_type": "code",
   "execution_count": 27,
   "id": "034c6117-aa68-4c27-9891-82fb3282d666",
   "metadata": {
    "kernel": "Bash",
    "tags": []
   },
   "outputs": [
    {
     "name": "stdout",
     "output_type": "stream",
     "text": [
      "INFO: Running \u001b[32mcsg\u001b[0m: Configuration for Columbia csg partition cluster\n",
      "INFO: \u001b[32mcsg\u001b[0m is \u001b[32mcompleted\u001b[0m.\n",
      "INFO: \u001b[32mcsg\u001b[0m output:   \u001b[32m/home/dmc2245/test/regenie_rap\u001b[0m\n",
      "INFO: Workflow csg (ID=w90203f7801bead1a) is executed successfully with 1 completed step.\n",
      "\n"
     ]
    }
   ],
   "source": [
    "lmm_dir_regenie=~/test\n",
    "lmm_sbatch_regenie=~/test/regenie_rap\n",
    "phenoFile=~/mwe_regenie_rap/pheno_toy.tsv\n",
    "covarFile=~/mwe_regenie_rap/covar_toy.tsv\n",
    "phenoCol=pheno\n",
    "covarCol=sex\n",
    "qCovarCol=age\n",
    "bgenMinINFO=0.8\n",
    "bgenMinMAF=0.001\n",
    "minMAC=4\n",
    "maf_filter=0\n",
    "geno_filter=0\n",
    "hwe_filter=0\n",
    "mind_filter=0\n",
    "#Use the original bed files for the genotype array on regenie step1\n",
    "bfile=~/mwe_regenie_rap/toy_data_mac.bed\n",
    "# Use the imputed data hg19 to run the association analysis\n",
    "genoFile=`echo ~/mwe_regenie_rap/toy_data_chr{1..3}.bgen`\n",
    "sampleFile=~/mwe_regenie_rap/toy_example.sample\n",
    "label_annotate=SNP\n",
    "\n",
    "lmm_args=\"\"\"regenie\n",
    "    --cwd $lmm_dir_regenie \n",
    "    --bfile $bfile \n",
    "    --genoFile $genoFile\n",
    "    --sampleFile $sampleFile\n",
    "    --phenoFile $phenoFile \n",
    "    --covarFile $covarFile\n",
    "    --formatFile $formatFile_regenie \n",
    "    --phenoCol $phenoCol\n",
    "    --covarCol $covarCol  \n",
    "    --qCovarCol $qCovarCol\n",
    "    --bsize $bsize\n",
    "    --lowmem_dir $lowmem_dir\n",
    "    --trait $trait \n",
    "    --bgenMinMAF $bgenMinMAF \n",
    "    --bgenMinINFO $bgenMinINFO\n",
    "    --maf_filter $maf_filter\n",
    "    --geno_filter $geno_filter\n",
    "    --hwe_filter $hwe_filter\n",
    "    --mind_filter $mind_filter\n",
    "    --minMAC $minMAC\n",
    "    --job_size $lmm_job_size\n",
    "    --ylim $ylim\n",
    "    --label_annotate $label_annotate\n",
    "    --no-annotate\n",
    "    --reverse_log_p $reverse_log_p\n",
    "    --numThreads $numThreads\n",
    "    --container_lmm $container_lmm\n",
    "    --container_marp $container_marp\n",
    "\"\"\"\n",
    "\n",
    "sos run ~/project/UKBB_GWAS_dev/admin/Get_Job_Script.ipynb csg\\\n",
    "    --template-file $tpl_file \\\n",
    "    --workflow-file $lmm_sos \\\n",
    "    --to-script $lmm_sbatch_regenie \\\n",
    "    --args \"$lmm_args\""
   ]
  },
  {
   "cell_type": "code",
   "execution_count": null,
   "id": "414a0f85-c103-4c38-a075-4b3b8aa4421d",
   "metadata": {
    "kernel": "Bash"
   },
   "outputs": [],
   "source": [
    "module load Singularity/3.5.3"
   ]
  },
  {
   "cell_type": "code",
   "execution_count": 28,
   "id": "01c4be74-8a59-47b9-8a80-90a09859c5f0",
   "metadata": {
    "kernel": "Bash"
   },
   "outputs": [
    {
     "name": "stdout",
     "output_type": "stream",
     "text": [
      "INFO: Checking \u001b[32mregenie_qc\u001b[0m: Select the SNPs and samples to be used based on maf, geno, hwe and mind options\n",
      "HINT: singularity exec  /home/dmc2245/containers/lmm.sif /bin/bash /mnt/mfs/hgrcgrid/homes/dmc2245/project/UKBB_GWAS_dev/tmp151ii0xh/singularity_run_17011.sh\n",
      "plink2 \\\n",
      "  --bfile /home/dmc2245/mwe_regenie_rap/toy_data_mac --mac 1 \\\n",
      "      \\\n",
      "  --write-snplist --write-samples --no-id-header \\\n",
      "  --threads 20 \\\n",
      "  --out /home/dmc2245/test/cache/toy_data_mac.qc_pass \n",
      "\n",
      "\n",
      "INFO: \u001b[32mregenie_qc\u001b[0m is \u001b[32mcompleted\u001b[0m.\n",
      "INFO: \u001b[32mregenie_qc\u001b[0m output:   \u001b[32m/home/dmc2245/test/cache/toy_data_mac.qc_pass.id /home/dmc2245/test/cache/toy_data_mac.qc_pass.snplist\u001b[0m\n",
      "INFO: Checking \u001b[32mregenie_1\u001b[0m: Run REGENIE step 1: fitting the null\n",
      "HINT: singularity exec  /home/dmc2245/containers/lmm.sif /bin/bash /mnt/mfs/hgrcgrid/homes/dmc2245/project/UKBB_GWAS_dev/tmpovipfqv9/singularity_run_17011.sh\n",
      "regenie \\\n",
      "  --step 1 \\\n",
      "  --bed /home/dmc2245/mwe_regenie_rap/toy_data_mac \\\n",
      "  --phenoFile /home/dmc2245/test/pheno_toy.regenie_phenotype \\\n",
      "  --covarFile /home/dmc2245/test/pheno_toy.regenie_covar \\\n",
      "  --keep /home/dmc2245/test/cache/toy_data_mac.qc_pass.id \\\n",
      "  --extract /home/dmc2245/test/cache/toy_data_mac.qc_pass.snplist \\\n",
      "  --bt \\\n",
      "  --bsize 1000 \\\n",
      "  --lowmem --lowmem-prefix /home/dmc2245/scratch60/predictions/pheno_toy_pheno.regenie_pred \\\n",
      "  --threads 20 \\\n",
      "  --out /home/dmc2245/test/pheno_toy_pheno.regenie\n",
      "\n",
      "\n",
      "INFO: \u001b[32mregenie_1\u001b[0m is \u001b[32mcompleted\u001b[0m.\n",
      "INFO: \u001b[32mregenie_1\u001b[0m output:   \u001b[32m/home/dmc2245/test/pheno_toy_pheno.regenie_pred.list\u001b[0m\n",
      "INFO: Workflow regenie (ID=wce32a4bd7c41c777) is tested successfully with 2 completed steps.\n",
      "\n"
     ]
    }
   ],
   "source": [
    "sos dryrun /home/dmc2245/project/bioworkflows/GWAS/LMM.ipynb \\\n",
    "    regenie:1\\\n",
    "    --cwd /home/dmc2245/test \\\n",
    "    --bfile /home/dmc2245/mwe_regenie_rap/toy_data_mac.bed \\\n",
    "    --genoFile /home/dmc2245/mwe_regenie_rap/toy_data_chr1.bgen /home/dmc2245/mwe_regenie_rap/toy_data_chr2.bgen /home/dmc2245/mwe_regenie_rap/toy_data_chr3.bgen\\\n",
    "    --sampleFile /home/dmc2245/mwe_regenie_rap/toy_example.sample\\\n",
    "    --phenoFile /home/dmc2245/mwe_regenie_rap/pheno_toy.tsv \\\n",
    "    --covarFile /home/dmc2245/mwe_regenie_rap/covar_toy.tsv \\\n",
    "    --formatFile /home/dmc2245/project/UKBB_GWAS_dev/data/regenie_template.yml \\\n",
    "    --phenoCol pheno\\\n",
    "    --covarCol sex  \\\n",
    "    --qCovarCol age\\\n",
    "    --bsize 1000\\\n",
    "    --lowmem_dir /home/dmc2245/scratch60/predictions\\\n",
    "    --trait bt \\\n",
    "    --bgenMinMAF 0.001 \\\n",
    "    --bgenMinINFO 0.8\\\n",
    "    --maf_filter 0\\\n",
    "    --geno_filter 0\\\n",
    "    --hwe_filter 0\\\n",
    "    --mind_filter 0\\\n",
    "    --minMAC 4\\\n",
    "    --job_size 1\\\n",
    "    --ylim 0\\\n",
    "    --label_annotate SNP\\\n",
    "    --no-annotate\\\n",
    "    --reverse_log_p True\\\n",
    "    --numThreads 20\\\n",
    "    --container_lmm /home/dmc2245/containers/lmm.sif\\\n",
    "    --container_marp /home/dmc2245/containers/marp.sif "
   ]
  },
  {
   "cell_type": "code",
   "execution_count": 2,
   "id": "298fe9f7-062f-4866-a7b9-946c00f0ec98",
   "metadata": {
    "kernel": "Bash"
   },
   "outputs": [
    {
     "name": "stdout",
     "output_type": "stream",
     "text": [
      "INFO: Checking \u001b[32mannovar_1\u001b[0m: Get the list of significantly associated SNPs\n",
      "HINT: singularity exec  /home/dmc2245/containers/lmm.sif Rscript /mnt/mfs/hgrcgrid/homes/dmc2245/project/UKBB_GWAS_dev/tmpfmorapjg/singularity_run_39255.R\n",
      "library('dplyr')\n",
      "# Import the sumstats file as dataframe\n",
      "data <- read.table(gzfile('/home/dmc2245/UKBiobank/results_pleiotropy/REGENIE_results/results_exome_data/071023_Lung_fuction_whiteEUR/UKB_exome_EUR_LungFunc_pcs_clean_FEV1_FVC_RATIO.regenie.snp_stats.gz'), sep='\\t', header=T)\n",
      "# Filter SNPs with p-val <5e-08\n",
      "# Subset data to obtain only chr, pos, snp, beta,se and p for gene mapping\n",
      "# for the imputed data change the SNP field from rs to chr:pos:ref:alt \n",
      "if (FALSE){\n",
      "  sig.p <- data %>%\n",
      "     filter(P < 5e-08) %>%\n",
      "     select(CHR, POS, REF, ALT, BETA, SE, P, SNP)\n",
      "  #sig.p$SNP <- paste(sig.p$CHR, sig.p$POS, sig.p$REF, sig.p$ALT, sep=\":\")\n",
      "  sig.p <- sig.p %>%\n",
      "      select(SNP,BETA,SE,P)\n",
      "} else {\n",
      "  sig.p <- data %>%\n",
      "  filter(P < 5e-08) %>%\n",
      "  select(SNP,BETA,SE,P)\n",
      "}  \n",
      "write.table(sig.p, '/home/dmc2245/UKBiobank/results_pleiotropy/REGENIE_results/results_exome_data/071023_Lung_fuction_whiteEUR/UKB_exome_EUR_LungFunc_pcs_clean_FEV1_FVC_RATIO.regenie.snp_annotate', sep = \" \", quote=FALSE, row.names=FALSE, col.names=FALSE) \n",
      "\n",
      "\n",
      "INFO: \u001b[32mannovar_1\u001b[0m is \u001b[32mcompleted\u001b[0m.\n",
      "INFO: \u001b[32mannovar_1\u001b[0m output:   \u001b[32m/home/dmc2245/UKBiobank/results_pleiotropy/REGENIE_results/results_exome_data/071023_Lung_fuction_whiteEUR/UKB_exome_EUR_LungFunc_pcs_clean_FEV1_FVC_RATIO.regenie.snp_annotate\u001b[0m\n",
      "INFO: Checking \u001b[32mannovar_2\u001b[0m: Get chr, start, end, ref_allele, alt_allele format\n",
      "HINT: /bin/bash SCRIPT\n",
      "# find the variants that are in the input file from the previous step (summary stats) in the bim file created in steps bim_from_plink or bim_from_bgen\n",
      "# be careful make sure the variants are in the same format as in the bim file (e.g chr1 or 1) inconsistent files cause wrong results\n",
      "awk -F\" \" 'NR==FNR{a[$1]=$1\" \"$2\" \"$3\" \"$4; next} ($2 in a){print $1,$2,$3,$4,$5,$6,a[$2]}' /home/dmc2245/UKBiobank/results_pleiotropy/REGENIE_results/results_exome_data/071023_Lung_fuction_whiteEUR/UKB_exome_EUR_LungFunc_pcs_clean_FEV1_FVC_RATIO.regenie.snp_annotate /results/ukb23155_200Kexomes_annovar/091321_exome_bim_merge/ukb23155_chr1_chr22_091321.bim > /home/dmc2245/UKBiobank/results_pleiotropy/REGENIE_results/results_exome_data/071023_Lung_fuction_whiteEUR/UKB_exome_EUR_LungFunc_pcs_clean_FEV1_FVC_RATIO.regenie.tmp\n",
      "# create the annovar input file, the imputed data has only bi-allelic variants\n",
      "awk '{print $1, $4, $4 + (length($6) - 1), $6, $5, $7, $8, $9, $10}' /home/dmc2245/UKBiobank/results_pleiotropy/REGENIE_results/results_exome_data/071023_Lung_fuction_whiteEUR/UKB_exome_EUR_LungFunc_pcs_clean_FEV1_FVC_RATIO.regenie.tmp >  /home/dmc2245/UKBiobank/results_pleiotropy/REGENIE_results/results_exome_data/071023_Lung_fuction_whiteEUR/UKB_exome_EUR_LungFunc_pcs_clean_FEV1_FVC_RATIO.regenie.avinput\n",
      "# remove temporary files\n",
      "rm -f /home/dmc2245/UKBiobank/results_pleiotropy/REGENIE_results/results_exome_data/071023_Lung_fuction_whiteEUR/UKB_exome_EUR_LungFunc_pcs_clean_FEV1_FVC_RATIO.regenie.tmp \n",
      "\n",
      "\n",
      "\n",
      "INFO: \u001b[32mannovar_2\u001b[0m is \u001b[32mcompleted\u001b[0m.\n",
      "INFO: \u001b[32mannovar_2\u001b[0m output:   \u001b[32m/home/dmc2245/UKBiobank/results_pleiotropy/REGENIE_results/results_exome_data/071023_Lung_fuction_whiteEUR/UKB_exome_EUR_LungFunc_pcs_clean_FEV1_FVC_RATIO.regenie.avinput\u001b[0m\n",
      "INFO: Checking \u001b[32mannovar_3\u001b[0m: Annotate variants file using ANNOVAR\n",
      "HINT: singularity exec  /home/dmc2245/containers/gatk4-annovar.sif /bin/bash /mnt/mfs/hgrcgrid/homes/dmc2245/project/UKBB_GWAS_dev/tmpb_z88gcw/singularity_run_39255.sh\n",
      "#do not add -intronhgvs as option -> writes cDNA variants as HGVS but creates issues (+2 splice site reported only)\n",
      "#-nastring . can only be . for VCF files\n",
      "#regsnpintron might cause shifted lines (be carefull using)\n",
      "table_annovar.pl \\\n",
      "    /home/dmc2245/UKBiobank/results_pleiotropy/REGENIE_results/results_exome_data/071023_Lung_fuction_whiteEUR/UKB_exome_EUR_LungFunc_pcs_clean_FEV1_FVC_RATIO.regenie.avinput \\\n",
      "    /mnt/vast/hpc/csg/isabelle/REF/humandb \\\n",
      "    -buildver hg38 \\\n",
      "    -out /home/dmc2245/UKBiobank/results_pleiotropy/REGENIE_results/results_exome_data/071023_Lung_fuction_whiteEUR/UKB_exome_EUR_LungFunc_pcs_clean_FEV1_FVC_RATIO.regenie\\\n",
      "    -otherinfo\\\n",
      "    -remove \\\n",
      "    -polish \\\n",
      "    -nastring . \\\n",
      "    -protocol refGene,refGeneWithVer,knownGene,ensGene,phastConsElements30way,encRegTfbsClustered,gwasCatalog,gnomad30_genome,gnomad211_exome,gme,kaviar_20150923,avsnp150,dbnsfp41a,dbscsnv11,clinvar_20220320,gene4denovo201907\\\n",
      "    -operation g,g,g,gx,r,r,r,f,f,f,f,f,f,f,f,f \\\n",
      "    -arg \"-splicing 12 -exonicsplicing\",\"-splicing 30\",\"-splicing 12 -exonicsplicing\",\"-splicing 12\",,,,,,,,,,,, \\\n",
      "    -csvout \\\n",
      "    -xreffile /mnt/vast/hpc/csg/isabelle/REF/humandb/mart_export_2021_LOFtools.txt \n",
      "\n",
      "\n",
      "INFO: \u001b[32mannovar_3\u001b[0m is \u001b[32mcompleted\u001b[0m.\n",
      "INFO: \u001b[32mannovar_3\u001b[0m output:   \u001b[32m/home/dmc2245/UKBiobank/results_pleiotropy/REGENIE_results/results_exome_data/071023_Lung_fuction_whiteEUR/UKB_exome_EUR_LungFunc_pcs_clean_FEV1_FVC_RATIO.regenie.hg38_multianno.csv\u001b[0m\n",
      "INFO: Checking \u001b[32mannovar_4\u001b[0m: Re-format the annovar csv to have the BETA, SE and P in the front and with headers\n",
      "HINT: python SCRIPT\n",
      "import pandas as pd\n",
      "import numpy as np\n",
      "import csv\n",
      "df = pd.read_csv('/home/dmc2245/UKBiobank/results_pleiotropy/REGENIE_results/results_exome_data/071023_Lung_fuction_whiteEUR/UKB_exome_EUR_LungFunc_pcs_clean_FEV1_FVC_RATIO.regenie.hg38_multianno.csv', header=0)\n",
      "df1 = df[[\"Otherinfo1\"]]\n",
      "df1 = df1.astype(str)\n",
      "df2 = df1[\"Otherinfo1\"].str.split(\" \", n = 4, expand = True)\n",
      "df2.columns = [\"alternate_id\", \"BETA\", \"SE\", \"P\"]\n",
      "df = df2.join(df)\n",
      "df.to_csv('/home/dmc2245/UKBiobank/results_pleiotropy/REGENIE_results/results_exome_data/071023_Lung_fuction_whiteEUR/UKB_exome_EUR_LungFunc_pcs_clean_FEV1_FVC_RATIO.regenie.hg38_multianno.formatted.csv', index=False)\n",
      "\n",
      "\n",
      "\n",
      "INFO: \u001b[32mannovar_4\u001b[0m is \u001b[32mcompleted\u001b[0m.\n",
      "INFO: \u001b[32mannovar_4\u001b[0m output:   \u001b[32m/home/dmc2245/UKBiobank/results_pleiotropy/REGENIE_results/results_exome_data/071023_Lung_fuction_whiteEUR/UKB_exome_EUR_LungFunc_pcs_clean_FEV1_FVC_RATIO.regenie.hg38_multianno.formatted.csv\u001b[0m\n",
      "INFO: Workflow annovar (ID=wbb98491189306e73) is tested successfully with 4 completed steps.\n"
     ]
    }
   ],
   "source": [
    "export PATH=$HOME/miniconda3/bin:$PATH\n",
    "module load Singularity/3.5.3\n",
    "sos dryrun /home/dmc2245/project/UKBB_GWAS_dev/workflow/snptogene.ipynb \\\n",
    "annovar     --cwd /home/dmc2245/UKBiobank/results_pleiotropy/REGENIE_results/results_exome_data/071023_Lung_fuction_whiteEUR/   \\\n",
    "--sumstatsFile /home/dmc2245/UKBiobank/results_pleiotropy/REGENIE_results/results_exome_data/071023_Lung_fuction_whiteEUR/UKB_exome_EUR_LungFunc_pcs_clean_FEV1_FVC_RATIO.regenie.snp_stats.gz  \\\n",
    "--bim_name /results/ukb23155_200Kexomes_annovar/091321_exome_bim_merge/ukb23155_chr1_chr22_091321.bim    \\\n",
    "--bimfiles      --p_filter 5e-08     --hg 38     --job_size 1     \\\n",
    "--humandb /mnt/vast/hpc/csg/isabelle/REF/humandb    --no-rsid      \\\n",
    "--xref_path /mnt/vast/hpc/csg/isabelle/REF/humandb     \\\n",
    "--container_annovar /home/dmc2245/containers/gatk4-annovar.sif     \\\n",
    "--container_lmm /home/dmc2245/containers/lmm.sif"
   ]
  },
  {
   "cell_type": "code",
   "execution_count": null,
   "id": "fe0d7946-78b6-4175-ad58-691fe3b1cc0a",
   "metadata": {
    "kernel": "Bash"
   },
   "outputs": [],
   "source": []
  }
 ],
 "metadata": {
  "kernelspec": {
   "display_name": "SoS",
   "language": "sos",
   "name": "sos"
  },
  "language_info": {
   "codemirror_mode": "sos",
   "file_extension": ".sos",
   "mimetype": "text/x-sos",
   "name": "sos",
   "nbconvert_exporter": "sos_notebook.converter.SoS_Exporter",
   "pygments_lexer": "sos"
  },
  "sos": {
   "kernels": [
    [
     "Bash",
     "calysto_bash",
     "Bash",
     "#E6EEFF",
     "shell"
    ],
    [
     "Python3",
     "python3",
     "Python3",
     "#FFD91A",
     {
      "name": "ipython",
      "version": 3
     }
    ]
   ],
   "version": "0.22.6"
  }
 },
 "nbformat": 4,
 "nbformat_minor": 5
}
