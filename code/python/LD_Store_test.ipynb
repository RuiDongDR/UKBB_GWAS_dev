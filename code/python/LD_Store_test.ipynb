{
 "cells": [
  {
   "cell_type": "markdown",
   "id": "888bf3d8-79bd-4990-bce0-78bf1e14b6a5",
   "metadata": {
    "kernel": "SoS",
    "tags": []
   },
   "source": [
    "## Code for the LDstore pipeline"
   ]
  },
  {
   "cell_type": "markdown",
   "id": "ad79ef8c-a8b6-4794-afb4-1be9e9d31615",
   "metadata": {
    "kernel": "SoS"
   },
   "source": [
    "## Create the Z file\n",
    "\n",
    "This file is created from the mfi files. To check the column description please look [here](https://biobank.ndph.ox.ac.uk/ukb/refer.cgi?id=531)\n",
    "\n",
    "The z-file for the 1725 blocks needs to be created from the variant_list file stored here `/mnt/vast/hpc/csg/UKBiobank/results/pleiotropy_AD_ARHI/113022_regions_bgen`"
   ]
  },
  {
   "cell_type": "code",
   "execution_count": null,
   "id": "1c821863-492f-43f0-b281-8fdde22e79d8",
   "metadata": {
    "kernel": "Python3",
    "tags": []
   },
   "outputs": [],
   "source": [
    "import pandas as pd\n",
    "file = \"/mnt/vast/hpc/csg/UKBiobank_Yale_transfer/ukb39554_imputeddataset/ukb_mfi_chr1_v3.txt\"\n",
    "z_file = pd.read_csv(file,header=None,sep=\"\\t\", names=[\"alternate_id\", \"rsid\", \"position\", \"allele1\", \"allele2\", \"maf\", \"minor_allele\", \"info_score\"])"
   ]
  },
  {
   "cell_type": "code",
   "execution_count": null,
   "id": "d692801e-ef54-42d4-ad10-352269e6d819",
   "metadata": {
    "kernel": "Python3"
   },
   "outputs": [],
   "source": [
    "z_file.head()"
   ]
  },
  {
   "cell_type": "code",
   "execution_count": null,
   "id": "28019984-2a8a-4135-8023-dcd8e8f17b0d",
   "metadata": {
    "kernel": "Python3"
   },
   "outputs": [],
   "source": [
    "z_copy = z_file.copy()\n",
    "z_copy=z_copy.join(z_copy['alternate_id'].str.split(':', 1, expand=True).rename(columns={0:'chromosome', 1:'other'}))"
   ]
  },
  {
   "cell_type": "code",
   "execution_count": null,
   "id": "2dbabd35-3c90-4b58-b230-97bf07fea7fd",
   "metadata": {
    "kernel": "Python3"
   },
   "outputs": [],
   "source": [
    "z_copy.head()"
   ]
  },
  {
   "cell_type": "code",
   "execution_count": null,
   "id": "67619a99-f889-41eb-9383-e11e5df5fbde",
   "metadata": {
    "kernel": "Python3"
   },
   "outputs": [],
   "source": [
    "z_copy[\"chromosome\"]=z_copy['chromosome'].str.zfill(2)"
   ]
  },
  {
   "cell_type": "code",
   "execution_count": null,
   "id": "8796a934-db9a-44de-9232-0c08e6e6473f",
   "metadata": {
    "kernel": "Python3"
   },
   "outputs": [],
   "source": [
    "z_copy=z_copy.drop(columns=['other'])"
   ]
  },
  {
   "cell_type": "code",
   "execution_count": null,
   "id": "7425c3c5-2437-4ead-8730-b5cf4faa639e",
   "metadata": {
    "kernel": "Python3"
   },
   "outputs": [],
   "source": [
    "z_copy.head()"
   ]
  },
  {
   "cell_type": "code",
   "execution_count": null,
   "id": "1116db22-f7b0-46a4-9e51-4878d262f0a1",
   "metadata": {
    "kernel": "Python3"
   },
   "outputs": [],
   "source": [
    "basename = os.path.basename(file)"
   ]
  },
  {
   "cell_type": "code",
   "execution_count": null,
   "id": "7795f3c9-5849-4059-a73a-9f50869ca01e",
   "metadata": {
    "kernel": "Python3"
   },
   "outputs": [],
   "source": [
    "basename + '.z'"
   ]
  },
  {
   "cell_type": "code",
   "execution_count": null,
   "id": "ab621df9-02dd-48ac-b29a-5f35f0941eac",
   "metadata": {
    "kernel": "Python3"
   },
   "outputs": [],
   "source": [
    "z_copy[[\"rsid\",\"chromosome\", \"position\", \"allele1\", \"allele2\", \"alternate_id\", \"minor_allele\", \"maf\", \"info_score\"]].to_csv('/mnt/vast/hpc/csg/UKBiobank/results/pleiotropy_AD_ARHI/111822_LDstore_files/ukb39554_imputeddataset/' + basename + \".z\" , sep='\\t', index=False, header=True)"
   ]
  },
  {
   "cell_type": "markdown",
   "id": "224184bc-b38a-4d7e-a66e-0868dbcc333d",
   "metadata": {
    "kernel": "Python3"
   },
   "source": [
    "## 1725 Ld blocks"
   ]
  },
  {
   "cell_type": "code",
   "execution_count": null,
   "id": "8f677aea-ba59-41f1-83c0-d8882e7d16ee",
   "metadata": {
    "kernel": "Python3"
   },
   "outputs": [],
   "source": [
    "import pandas as pd\n",
    "file = \"/mnt/vast/hpc/csg/UKBiobank/results/pleiotropy_AD_ARHI/113022_regions_bgen/ukb_imp_chr22_v3.22:16050408-17674295.variants\"\n",
    "z_file = pd.read_csv(file,header=0,sep=\"\\t\", skiprows=1, skipfooter=1, names=['alternate_ids', 'rsid', 'chromosome', 'position', 'number_of_alleles', 'allele1', 'allele2'])"
   ]
  },
  {
   "cell_type": "code",
   "execution_count": null,
   "id": "6df5e356-c9a2-47ac-87df-5fc093054d57",
   "metadata": {
    "kernel": "Python3"
   },
   "outputs": [],
   "source": [
    "z_file"
   ]
  },
  {
   "cell_type": "code",
   "execution_count": null,
   "id": "a9c8ec73-7720-4982-926f-1b6f998177bb",
   "metadata": {
    "kernel": "Python3"
   },
   "outputs": [],
   "source": [
    "chr22 = \"/mnt/vast/hpc/csg/UKBiobank_Yale_transfer/ukb39554_imputeddataset/ukb_mfi_chr22_v3.txt\""
   ]
  },
  {
   "cell_type": "code",
   "execution_count": null,
   "id": "479d1518-411c-4548-8106-05ccd125646d",
   "metadata": {
    "kernel": "Python3"
   },
   "outputs": [],
   "source": [
    "chr22_file = pd.read_csv(chr22,header=None,sep=\"\\t\", names=[\"alternate_id\", \"rsid\", \"position\", \"allele1\", \"allele2\", \"maf\", \"minor_allele\", \"info_score\"])"
   ]
  },
  {
   "cell_type": "code",
   "execution_count": null,
   "id": "9ba8605c-3c1d-426f-ae79-217d22dcdf39",
   "metadata": {
    "kernel": "Python3"
   },
   "outputs": [],
   "source": [
    "chr22_file"
   ]
  },
  {
   "cell_type": "code",
   "execution_count": null,
   "id": "f03010ea-920b-49c4-a806-f14790023e6d",
   "metadata": {
    "kernel": "Python3"
   },
   "outputs": [],
   "source": [
    "subset=chr22_file.join(z_file.set_index(['alternate_ids', 'rsid', 'position', 'allele1', 'allele2']), on=['alternate_id', 'rsid', 'position', 'allele1', 'allele2'], how='right')"
   ]
  },
  {
   "cell_type": "code",
   "execution_count": null,
   "id": "6f35fc79-9a57-4949-9a9e-f8dad01d1d20",
   "metadata": {
    "kernel": "Python3"
   },
   "outputs": [],
   "source": [
    "subset"
   ]
  },
  {
   "cell_type": "code",
   "execution_count": null,
   "id": "bfeec6a4-6751-4b02-8e06-047b3cbd4638",
   "metadata": {
    "kernel": "Python3"
   },
   "outputs": [],
   "source": [
    "rslt_df = subset[subset['maf'] > 0.1]"
   ]
  },
  {
   "cell_type": "code",
   "execution_count": null,
   "id": "bc13d263-721c-4ac8-bc16-127b8ff9c8d4",
   "metadata": {
    "kernel": "Python3"
   },
   "outputs": [],
   "source": [
    "rslt_df"
   ]
  },
  {
   "cell_type": "code",
   "execution_count": null,
   "id": "6ff97d92-b280-4dbd-bc7d-30b6bcc29817",
   "metadata": {
    "kernel": "Python3"
   },
   "outputs": [],
   "source": [
    "rslt_df['alternate_id']"
   ]
  },
  {
   "cell_type": "code",
   "execution_count": null,
   "id": "e1f7d0f9-faec-4e5c-b4b6-238ca295276e",
   "metadata": {
    "kernel": "Python3"
   },
   "outputs": [],
   "source": [
    "rslt_df[[\"alternate_id\"]].to_csv('/mnt/vast/hpc/csg/UKBiobank/results/pleiotropy_AD_ARHI/111822_LDstore_files/ukb_imp_chr22_v3.22:16050408-17674295.variants.mafabove0.01' , sep=' ', index=False, header=False)"
   ]
  },
  {
   "cell_type": "code",
   "execution_count": null,
   "id": "3ca8a0a1-f717-49f5-b02e-b29fdcdff2ba",
   "metadata": {
    "kernel": "Python3"
   },
   "outputs": [],
   "source": [
    "rslt_df[[\"rsid\",\"chromosome\", \"position\", \"allele1\", \"allele2\", \"alternate_id\"]].to_csv('/mnt/vast/hpc/csg/UKBiobank/results/pleiotropy_AD_ARHI/111822_LDstore_files/ukb_imp_chr22_v3.22:16050408-17674295.variants.mafabove0.01.z' , sep=' ', index=False, header=True)"
   ]
  },
  {
   "cell_type": "code",
   "execution_count": null,
   "id": "1f5cb2e1-244a-459e-af22-aad9a2d75e29",
   "metadata": {
    "kernel": "Python3"
   },
   "outputs": [],
   "source": []
  },
  {
   "cell_type": "markdown",
   "id": "d3076604-034a-4559-9b19-cf838431fc58",
   "metadata": {
    "kernel": "Python3"
   },
   "source": [
    "### Automating creation of the z files"
   ]
  },
  {
   "cell_type": "code",
   "execution_count": null,
   "id": "c989ffbf-d51a-45d5-a901-815fe42cc368",
   "metadata": {
    "kernel": "Python3"
   },
   "outputs": [],
   "source": [
    "import glob, os\n",
    "import pandas as pd\n",
    "# assign directory\n",
    "flist=glob.glob(\"/mnt/vast/hpc/csg/UKBiobank_Yale_transfer/ukb39554_imputeddataset/ukb_mfi_chr*_v3.txt\")\n",
    "for filename in flist:\n",
    "    print(filename)\n",
    "    basename=os.path.basename(filename)\n",
    "    print(basename)\n",
    "    file=pd.read_csv(filename,header=None,sep=\"\\t\", names=[\"alternate_id\", \"rsid\", \"position\", \"allele1\", \"allele2\", \"maf\", \"minor_allele\", \"info_score\"])\n",
    "    f_copy=file.copy()\n",
    "    f_copy.head()\n",
    "    f_copy=f_copy.join(f_copy['alternate_id'].str.split(':', 1, expand=True).rename(columns={0:'chromosome', 1:'other'}))\n",
    "    f_copy=f_copy.drop(columns=['other'])\n",
    "    f_copy[\"chromosome\"]=f_copy['chromosome'].str.zfill(2)\n",
    "    f_copy[[\"rsid\",\"chromosome\", \"position\", \"allele1\", \"allele2\", \"alternate_id\", \"minor_allele\", \"maf\", \"info_score\"]].to_csv(\"/mnt/vast/hpc/csg/UKBiobank/results/pleiotropy_AD_ARHI/111822_LDstore_files/ukb39554_imputeddataset/\" + basename + \".z\", sep=\" \", index=False, header=True)"
   ]
  },
  {
   "cell_type": "markdown",
   "id": "f63856eb-80a6-45c1-a1d8-631448f94213",
   "metadata": {
    "kernel": "Python3"
   },
   "source": [
    "### Create the z files with the subset of variants in a region\n",
    "\n",
    "Additionally if you want to filter for MAF this needs to be done using the mfi file for the UKB case and providing the variants that you would like to analyze in the z file. "
   ]
  },
  {
   "cell_type": "code",
   "execution_count": null,
   "id": "d7f24ccf-7614-4688-8128-22c2ceb2d419",
   "metadata": {
    "kernel": "Python3"
   },
   "outputs": [],
   "source": [
    "regions=glob.glob('/mnt/vast/hpc/csg/UKBiobank/results/pleiotropy_AD_ARHI/111822_LDstore_files/regions_chr1_22/01/*.variants')\n",
    "mfi_files=glob.glob(\"/mnt/vast/hpc/csg/UKBiobank_Yale_transfer/ukb39554_imputeddataset/ukb_mfi_chr*[0-9]_v3.txt\")\n",
    "for filename in regions:\n",
    "    print(filename)\n",
    "    basename=os.path.basename(filename)\n",
    "    sp = basename.split(\"_\")[0]\n",
    "    chrom= sp.lstrip(\"0\")\n",
    "    print(basename)\n",
    "    fullregion = pd.read_csv(filename,header=0,sep=\"\\t\", skiprows=1, skipfooter=1, names=['alternate_ids', 'rsid', 'chromosome', 'position', 'number_of_alleles', 'allele1', 'allele2'])\n",
    "    print('The number of variants in the region is:',fullregion.shape[0])\n",
    "    mfi_file = [file for file in mfi_files if \"chr\" + chrom + \"_\" in file][0]\n",
    "    chrom_file = pd.read_csv(mfi_file,header=None,sep=\"\\t\", names=[\"alternate_id\", \"rsid\", \"position\", \"allele1\", \"allele2\", \"maf\", \"minor_allele\", \"info_score\"])\n",
    "    print('The number of variants in',chrom_file,'is:',chrom_file.shape[0])\n",
    "    subset_region=chrom_file.join(fullregion.set_index(['alternate_ids', 'rsid', 'position', 'allele1', 'allele2']), on=['alternate_id', 'rsid', 'position', 'allele1', 'allele2'], how='right')\n",
    "    maf=0.01\n",
    "    subset_maf=subset_region[subset_region['maf'] > maf]\n",
    "    print('The number of variants in the maf',maf,'filtered z_file is:',subset_maf.shape[0])\n",
    "    #subset_maf[[\"rsid\",\"chromosome\", \"position\", \"allele1\", \"allele2\", \"alternate_ids\"]].to_csv('/mnt/vast/hpc/csg/UKBiobank/results/pleiotropy_AD_ARHI/111822_LDstore_files/' + basename + \".z\" , sep='\\t', index=False, header=True)\n",
    "    "
   ]
  },
  {
   "cell_type": "code",
   "execution_count": null,
   "id": "be7517c6-ef97-48a3-abd6-87888d41ec1c",
   "metadata": {
    "kernel": "Python3"
   },
   "outputs": [],
   "source": [
    "### Creation of the masterfile\n",
    "import glob\n",
    "import pandas as pd\n",
    "from datetime import datetime\n",
    "date = datetime.now().strftime('%Y%m%d')\n",
    "cwd='/mnt/vast/hpc/csg/UKBiobank/results/pleiotropy_AD_ARHI/111822_LDstore_files/regions_chr1_22'\n",
    "incl_samples='/mnt/vast/hpc/csg/UKBiobank/results/pleiotropy_AD_ARHI/111822_LDstore_files/regions_chr1_22/UKB_genotypedatadownloaded083019.090221_sample_variant_qc_final_callrate90.filtered.extracted.white_europeans.filtered.092821_ldprun_unrelated.filtered.incl'\n",
    "number_of_samples=487409\n",
    "z_files = glob.glob(cwd+'/22/*.z')\n",
    "df = pd.DataFrame({'z':z_files})\n",
    "bgen=glob.glob(cwd+'/22/*.bgen')\n",
    "df1 = pd.DataFrame({'bgen':bgen})\n",
    "bgi=glob.glob(cwd+'/22/*.bgen.bgi')\n",
    "df2 = pd.DataFrame({'bgi':bgi})\n",
    "df3=pd.concat([df,df1,df2], axis=1)\n",
    "bcor=[i.replace('bgen','bcor') for i in bgen]\n",
    "df4 = pd.DataFrame({'bcor':bcor})\n",
    "ld=[i.replace('bgen','ld') for i in bgen]\n",
    "df5 = pd.DataFrame({'ld':ld})\n",
    "df_final=pd.concat([df3,df4,df5], axis=1)\n",
    "#Add a constant number to every row in the sample column (the number of samples to analyze)\n",
    "df_final['n_samples'] = df_final.apply(lambda x:number_of_samples, axis=1)\n",
    "df_final['incl'] = df_final.apply(lambda x:incl_samples, axis=1)\n",
    "df_final.to_csv(cwd +'/masterfile22_'+ date, sep=\";\", index=False, header=True)"
   ]
  },
  {
   "cell_type": "code",
   "execution_count": null,
   "id": "4c9bbea4-0549-48c3-80fe-c65543c58585",
   "metadata": {
    "kernel": "Python3"
   },
   "outputs": [],
   "source": [
    "df_final"
   ]
  },
  {
   "cell_type": "code",
   "execution_count": null,
   "id": "0aa3c802-1cdc-4c7f-9247-37e861a724b3",
   "metadata": {
    "kernel": "Python3"
   },
   "outputs": [],
   "source": [
    "bcor=[i.replace('bgen','bcor') for i in bcor]\n",
    "df = pd.DataFrame({'bcor':bcor})\n",
    "ld=[i.replace('bgen','ld') for i in ld]\n",
    "df = pd.DataFrame({'ld':ld})\n",
    "#Add a constant number to every row in the sample column (the number of samples to analyze)\n",
    "result['n_samples'] = df.apply(lambda x:number_of_samples, axis=1)\n",
    "result['incl'] = df.apply(lambda x:incl_samples, axis=1)\n",
    "result.to_csv(cwd +'/masterfile_'+ date, sep=\";\", index=False, header=True)"
   ]
  },
  {
   "cell_type": "markdown",
   "id": "7ca07b50-f542-493a-adc0-e664f2b24714",
   "metadata": {
    "kernel": "Python3"
   },
   "source": [
    "# Test using the alternate_id instead of rsid"
   ]
  },
  {
   "cell_type": "markdown",
   "id": "6abfa258-5ce0-49a5-b322-194b1a850a75",
   "metadata": {
    "kernel": "Python3"
   },
   "source": [
    "First of all use plink2 to read bgen file and output the snpids to a file to compare with mfi file. Please read this [file](https://biobank.ndph.ox.ac.uk/ukb/refer.cgi?id=531) to understand why ref-first"
   ]
  },
  {
   "cell_type": "code",
   "execution_count": null,
   "id": "8c5a8923-84fa-4258-b24c-28a1a529e684",
   "metadata": {
    "kernel": "Bash",
    "tags": []
   },
   "outputs": [],
   "source": [
    "module load PLINK/2.0\n",
    "plink2 --bgen /mnt/vast/hpc/csg/UKBiobank_Yale_transfer/ukb39554_imputeddataset/ukb_imp_chr22_v3.bgen 'ref-first' \\\n",
    "       --sample /mnt/vast/hpc/csg/UKBiobank_Yale_transfer/ukb39554_imputeddataset/ukb32285_imputedindiv.sample \\\n",
    "       --write-snplist \\\n",
    "       --out /mnt/vast/hpc/csg/UKBiobank/results/pleiotropy_AD_ARHI/111822_LDstore_files/chr22_snplist"
   ]
  },
  {
   "cell_type": "code",
   "execution_count": null,
   "id": "12ade479-fa49-41c9-8586-1e2dccc5c134",
   "metadata": {
    "kernel": "Python3",
    "tags": []
   },
   "outputs": [],
   "source": [
    "import pandas as pd\n",
    "file= '/mnt/vast/hpc/csg/UKBiobank/results/pleiotropy_AD_ARHI/111822_LDstore_files/ukb39554_imputeddataset/ukb_mfi_chr22_v3.txt.z'\n",
    "z = pd.read_csv(file,header=0,sep=\" \")"
   ]
  },
  {
   "cell_type": "code",
   "execution_count": null,
   "id": "5d8d9c3d-b1f7-4578-a799-7026ad37e1b9",
   "metadata": {
    "kernel": "Python3"
   },
   "outputs": [],
   "source": [
    "z.head()"
   ]
  },
  {
   "cell_type": "code",
   "execution_count": null,
   "id": "6ea762eb-dc32-4cd8-a370-bc915676eed8",
   "metadata": {
    "kernel": "Python3"
   },
   "outputs": [],
   "source": [
    "file= '/mnt/vast/hpc/csg/UKBiobank/results/pleiotropy_AD_ARHI/111822_LDstore_files/chr22_snplist.snplist'\n",
    "snplist = pd.read_csv(file,header=None,sep=\" \", names=[\"alternate_id\"])"
   ]
  },
  {
   "cell_type": "code",
   "execution_count": null,
   "id": "abafe3aa-b6c4-42a9-90df-5d2f497bbd06",
   "metadata": {
    "kernel": "Python3"
   },
   "outputs": [],
   "source": [
    " z[[\"alternate_id\",\"chromosome\", \"position\", \"allele1\", \"allele2\", \"rsid\", \"minor_allele\", \"maf\", \"info_score\"]].to_csv(\"/mnt/vast/hpc/csg/UKBiobank/results/pleiotropy_AD_ARHI/111822_LDstore_files/chr22_snplist_alternate_id.z\", sep=\" \", index=False, header=True)"
   ]
  },
  {
   "cell_type": "code",
   "execution_count": null,
   "id": "ae0d70db-8361-4288-8d0c-e6a6b9e11c69",
   "metadata": {
    "kernel": "Python3"
   },
   "outputs": [],
   "source": [
    "snplist.head()"
   ]
  },
  {
   "cell_type": "code",
   "execution_count": null,
   "id": "ae7b2a4a-27f8-4fa8-8b60-6771d6661740",
   "metadata": {
    "kernel": "Python3"
   },
   "outputs": [],
   "source": [
    "z.shape"
   ]
  },
  {
   "cell_type": "code",
   "execution_count": null,
   "id": "98ad692f-6b89-406c-b8e2-a1c1a99b8dfe",
   "metadata": {
    "kernel": "Python3"
   },
   "outputs": [],
   "source": [
    "snplist.shape"
   ]
  },
  {
   "cell_type": "code",
   "execution_count": null,
   "id": "a0271b35-b125-479c-8323-b50314d9724f",
   "metadata": {
    "kernel": "Python3"
   },
   "outputs": [],
   "source": [
    "z['rsid'].isin(snplist['alternate_id']).value_counts()"
   ]
  },
  {
   "cell_type": "code",
   "execution_count": null,
   "id": "31818751-46ef-4961-8813-84523ee39fdb",
   "metadata": {
    "kernel": "Python3"
   },
   "outputs": [],
   "source": [
    "snplist['alternate_id'].isin(z['rsid']).value_counts()"
   ]
  },
  {
   "cell_type": "code",
   "execution_count": null,
   "id": "3d344407-6260-4433-a656-b982e758b2be",
   "metadata": {
    "kernel": "Python3"
   },
   "outputs": [],
   "source": []
  },
  {
   "cell_type": "code",
   "execution_count": null,
   "id": "35ec72f4-bbb4-4605-b61d-cf70c1b4361d",
   "metadata": {
    "kernel": "SoS",
    "scrolled": true,
    "tags": []
   },
   "outputs": [],
   "source": [
    "# Creation of the z file\n",
    "import glob, os\n",
    "import pandas as pd\n",
    "regions=glob.glob('/mnt/vast/hpc/csg/UKBiobank/results/pleiotropy_AD_ARHI/111822_LDstore_files/regions_chr1_22/**/*.variants', recursive=True)\n",
    "mfi_files=glob.glob('/mnt/vast/hpc/csg/UKBiobank_Yale_transfer/ukb39554_imputeddataset/ukb_mfi_chr*[0-9]_v3.txt', recursive=True)\n",
    "for filename in regions:\n",
    "    print(filename)\n",
    "    basename=os.path.basename(filename)\n",
    "    sp = basename.split(\"_\")[0]\n",
    "    chrom= sp.lstrip(\"0\")\n",
    "    print(basename)\n",
    "    fullregion = pd.read_csv(filename,header=0,sep=\"\\t\", skiprows=1, skipfooter=1, names=['alternate_ids', 'rsid', 'chromosome', 'position', 'number_of_alleles', 'allele1', 'allele2'])\n",
    "    print('The number of variants in the region is:',fullregion.shape[0])\n",
    "    mfi_file = [file for file in mfi_files if \"chr\" + chrom + \"_\" in file][0]\n",
    "    chrom_file = pd.read_csv(mfi_file,header=None,sep=\"\\t\", names=[\"alternate_id\", \"rsid\", \"position\", \"allele1\", \"allele2\", \"maf\", \"minor_allele\", \"info_score\"])\n",
    "    print('The number of variants in',mfi_file,'is:',chrom_file.shape[0])\n",
    "    subset_region=chrom_file.join(fullregion.set_index(['alternate_ids', 'rsid', 'position', 'allele1', 'allele2']), on=['alternate_id', 'rsid', 'position', 'allele1', 'allele2'], how='right')\n",
    "    maf=0.001\n",
    "    subset_maf=subset_region[subset_region['maf'] > maf]\n",
    "    print('The number of variants in the maf',maf,'filtered z_file is:',subset_maf.shape[0])\n",
    "    subset_maf[[\"rsid\",\"chromosome\", \"position\", \"allele1\", \"allele2\", \"alternate_id\"]].to_csv(filename + '_' + str(maf) + '.z', sep='\\t', index=False, header=True)"
   ]
  },
  {
   "cell_type": "markdown",
   "id": "3a3c6a32-6ec9-45ca-ace9-36cdfa9e2c3e",
   "metadata": {
    "kernel": "SoS"
   },
   "source": [
    "# Scritps"
   ]
  },
  {
   "cell_type": "code",
   "execution_count": null,
   "id": "92498ae3-4149-46e1-85f4-0b22de5e6dc7",
   "metadata": {
    "kernel": "Bash",
    "tags": []
   },
   "outputs": [],
   "source": [
    "## Set the bash variables \n",
    "cwd=/mnt/vast/hpc/csg/UKBiobank/results/pleiotropy_AD_ARHI/111822_LDstore_files/\n",
    "ldstore_sbatch=$cwd/ldstore_test_$(date +\"%Y-%m-%d\").sbatch\n",
    "masterfile=/mnt/vast/hpc/csg/UKBiobank/results/pleiotropy_AD_ARHI/111822_LDstore_files/master_file_chr22\n",
    "jobsize=1\n",
    "ldstore_sos=~/project/UKBB_GWAS_dev/workflow/111722_LDstore.ipynb\n",
    "tpl_file=~/project/bioworkflows/admin/csg.yml\n",
    "mem='80G'\n",
    "job_size=1\n",
    "numThreads=4\n",
    "#rsid_file=/mnt/vast/hpc/csg/UKBiobank/results/pleiotropy_AD_ARHI/111822_LDstore_files/chr22_snplist.snplist\n",
    "\n",
    "ldstore_args=\"\"\"default \n",
    "    --cwd $cwd\n",
    "    --masterfile $masterfile\n",
    "    --numThreads $numThreads \n",
    "    --mem $mem \n",
    "    --job_size $job_size\n",
    "\"\"\"\n",
    "\n",
    "sos run ~/project/UKBB_GWAS_dev/admin/Get_Job_Script.ipynb csg \\\n",
    "    --template-file $tpl_file \\\n",
    "    --workflow-file $ldstore_sos \\\n",
    "    --to-script $ldstore_sbatch \\\n",
    "    --args \"$ldstore_args\""
   ]
  },
  {
   "cell_type": "code",
   "execution_count": null,
   "id": "22eaab27-a7c0-4f78-a10c-aaa5febb8940",
   "metadata": {
    "kernel": "Bash"
   },
   "outputs": [],
   "source": [
    "# Bash variables to create the z_files\n",
    "cwd=/mnt/vast/hpc/csg/UKBiobank/results/pleiotropy_AD_ARHI/111822_LDstore_files/regions_chr1_22/\n",
    "ldstore_sbatch=$cwd/ldstore_test_$(date +\"%Y-%m-%d\").sbatch\n",
    "masterfile=/mnt/vast/hpc/csg/UKBiobank/results/pleiotropy_AD_ARHI/111822_LDstore_files/master_file_chr22\n",
    "jobsize=1\n",
    "ldstore_sos=~/project/UKBB_GWAS_dev/workflow/111722_LDstore.ipynb\n",
    "tpl_file=~/project/bioworkflows/admin/csg.yml\n",
    "mem='80G'\n",
    "job_size=1\n",
    "numThreads=4\n",
    "#rsid_file=/mnt/vast/hpc/csg/UKBiobank/results/pleiotropy_AD_ARHI/111822_LDstore_files/chr22_snplist.snplist\n",
    "\n",
    "ldstore_args=\"\"\"default \n",
    "    --cwd $cwd\n",
    "    --masterfile $masterfile\n",
    "    --numThreads $numThreads \n",
    "    --mem $mem \n",
    "    --job_size $job_size\n",
    "\"\"\"\n",
    "\n",
    "sos run ~/project/UKBB_GWAS_dev/admin/Get_Job_Script.ipynb csg \\\n",
    "    --template-file $tpl_file \\\n",
    "    --workflow-file $ldstore_sos \\\n",
    "    --to-script $ldstore_sbatch \\\n",
    "    --args \"$ldstore_args\""
   ]
  },
  {
   "cell_type": "code",
   "execution_count": null,
   "id": "c4ac62a0-f163-4aca-98ae-93899cc750a3",
   "metadata": {
    "kernel": "Bash"
   },
   "outputs": [],
   "source": [
    "export PATH=$HOME/miniconda3/bin:$PATH\n",
    "module load Singularity/3.5.3\n",
    "sos run /home/dmc2245/project/UKBB_GWAS_dev/workflow/111722_LDstore.ipynb \\\n",
    "    default \\\n",
    "    --cwd /mnt/vast/hpc/csg/UKBiobank/results/pleiotropy_AD_ARHI/111822_LDstore_files/\\\n",
    "    --masterfile /mnt/vast/hpc/csg/UKBiobank/results/pleiotropy_AD_ARHI/111822_LDstore_files/masterfile_chr22_alternateid\\\n",
    "    --numThreads 4 \\\n",
    "    --mem 80G     --job_size 1 \\\n",
    "    -c /home/dmc2245/project/bioworkflows/admin/csg.yml \\\n",
    "    -q csg -s force \\\n",
    "    &> /mnt/vast/hpc/csg/UKBiobank/results/pleiotropy_AD_ARHI/111822_LDstore_files/ldstore_test_2022-11-21.log"
   ]
  },
  {
   "cell_type": "code",
   "execution_count": null,
   "id": "bfec2735-7a01-4097-8e3c-65dac7de6912",
   "metadata": {
    "kernel": "Bash"
   },
   "outputs": [],
   "source": [
    "#master file with alternate_id chr22\n",
    "z;bgen;bgi;bcor;ld;n_samples\n",
    "/mnt/vast/hpc/csg/UKBiobank/results/pleiotropy_AD_ARHI/111822_LDstore_files/ukb39554_imputeddataset/chr22_test.z;/mnt/vast/hpc/csg/UKBiobank_Yale_transfer/ukb39554_imputeddataset/ukb_imp_chr22_v3.bgen;/mnt/vast/hpc/csg/UKBiobank_Yale_transfer/ukb39554_imputeddataset/ukb_imp_chr22_v3.bgen.bgi;/mnt/vast/hpc/csg/UKBiobank/results/pleiotropy_AD_ARHI/111822_LDstore_files/ukb39554_imputeddataset/ukb_imp_chr22_v3.bcor;/mnt/vast/hpc/csg/UKBiobank/results/pleiotropy_AD_ARHI/111822_LDstore_files/ukb39554_imputeddataset/ukb_imp_chr22_v3.ld;487409"
   ]
  },
  {
   "cell_type": "markdown",
   "id": "cb1556f2-2f6e-4c20-92a3-39eab903fa46",
   "metadata": {
    "kernel": "Bash"
   },
   "source": [
    "## Error troubleshooting"
   ]
  },
  {
   "cell_type": "markdown",
   "id": "a54aca20-b0ed-4f99-a9a4-bf1561d4d8cb",
   "metadata": {
    "kernel": "Bash"
   },
   "source": [
    "* Using the alternate_id from the bgen file creates even more errors\n",
    "* Running the chr22 with the `--rsid` and `--write-text` option finds duplicated rsids which stops from running\n",
    "* Issue is definately arising from the rsid which is used in the bgen file and not the alternate_id which is not duplicated"
   ]
  },
  {
   "cell_type": "markdown",
   "id": "e17d5e94-a51c-45b5-9812-b5c88c97a10a",
   "metadata": {
    "kernel": "Bash"
   },
   "source": [
    "### Find duplicated rsids"
   ]
  },
  {
   "cell_type": "code",
   "execution_count": null,
   "id": "1d0498ee-878a-4aa2-af19-b3de86f145cc",
   "metadata": {
    "kernel": "Python3",
    "tags": []
   },
   "outputs": [],
   "source": [
    "import pandas as pd\n",
    "file= '/mnt/vast/hpc/csg/UKBiobank/results/pleiotropy_AD_ARHI/111822_LDstore_files/chr22_snplist.snplist'\n",
    "rsid = pd.read_csv(file,header=None,sep=\" \",names=[\"rsid\"])"
   ]
  },
  {
   "cell_type": "code",
   "execution_count": null,
   "id": "934b0b03-b21c-4e61-b861-fb122377a134",
   "metadata": {
    "kernel": "Python3"
   },
   "outputs": [],
   "source": [
    "rsid"
   ]
  },
  {
   "cell_type": "code",
   "execution_count": null,
   "id": "f18e8a3b-2c92-469a-be62-d2f6b1e80850",
   "metadata": {
    "kernel": "Python3",
    "tags": []
   },
   "outputs": [],
   "source": [
    "seen = set()\n",
    "dupes = [x for x in rsid if x in seen or seen.add(x)] "
   ]
  },
  {
   "cell_type": "code",
   "execution_count": null,
   "id": "1258370b-1986-468c-8d23-aca58605dddb",
   "metadata": {
    "kernel": "Python3"
   },
   "outputs": [],
   "source": [
    "duplicate = rsid[rsid.duplicated()]"
   ]
  },
  {
   "cell_type": "code",
   "execution_count": null,
   "id": "e6b69e1a-512f-4f59-bb40-b550784a076b",
   "metadata": {
    "kernel": "Python3"
   },
   "outputs": [],
   "source": [
    "duplicate"
   ]
  },
  {
   "cell_type": "markdown",
   "id": "bebb4592-fdd3-4ece-92d2-9e456b900ee0",
   "metadata": {
    "kernel": "Python3"
   },
   "source": [
    "### Find the list of variants present in the bgen file"
   ]
  },
  {
   "cell_type": "code",
   "execution_count": null,
   "id": "1798fcd3-0248-44db-a901-b3299100d847",
   "metadata": {
    "kernel": "Bash",
    "tags": []
   },
   "outputs": [],
   "source": [
    "bgenix -g /mnt/vast/hpc/csg/UKBiobank_Yale_transfer/ukb39554_imputeddataset/ukb_imp_chr22_v3.bgen -list > /mnt/vast/hpc/csg/UKBiobank/results/pleiotropy_AD_ARHI/111822_LDstore_files/chr22_variants.txt"
   ]
  },
  {
   "cell_type": "code",
   "execution_count": null,
   "id": "5d596f80-e273-4ee9-8b29-060bc6094a32",
   "metadata": {
    "kernel": "Bash"
   },
   "outputs": [],
   "source": [
    "bgenix -g /mnt/vast/hpc/csg/UKBiobank_Yale_transfer/ukb39554_imputeddataset/ukb_imp_chr22_v3.bgen -list > /mnt/vast/hpc/csg/UKBiobank/results/pleiotropy_AD_ARHI/111822_LDstore_files/chr22_variants.txt \\\n",
    "| grep rs999224"
   ]
  },
  {
   "cell_type": "code",
   "execution_count": null,
   "id": "d05895a4-8f68-4411-a927-3c1d6179b6af",
   "metadata": {
    "kernel": "Bash"
   },
   "outputs": [],
   "source": [
    "#This is the numer of rows in this file. However it does not reflect the number of variants since this is multiallelic\n",
    "cat /mnt/vast/hpc/csg/UKBiobank/results/pleiotropy_AD_ARHI/111822_LDstore_files/chr22_variants.txt \\\n",
    "| grep \"rs999224\""
   ]
  },
  {
   "cell_type": "markdown",
   "id": "a787749c-f153-4f43-9ab8-805fa30a7017",
   "metadata": {
    "kernel": "Bash"
   },
   "source": [
    "* The error arises since there are some variants in the mfi file that are not present in the bgen file \n",
    "\n",
    "* Next step is to remove the variants not present and re-run the analysis\n",
    "\n",
    "* Error was on the z file with some variants not having a correct chromosome column"
   ]
  },
  {
   "cell_type": "code",
   "execution_count": null,
   "id": "aa76ef17-8053-4dc4-b776-320b0f094500",
   "metadata": {
    "kernel": "Bash"
   },
   "outputs": [],
   "source": [
    "cat /mnt/vast/hpc/csg/UKBiobank/results/pleiotropy_AD_ARHI/111822_LDstore_files/master_file_chr22.stdout | grep \"Error\" | awk -F\"'\" '{print $2 }'\\\n",
    "> /mnt/vast/hpc/csg/UKBiobank/results/pleiotropy_AD_ARHI/111822_LDstore_files/rsid_not_found.txt"
   ]
  },
  {
   "cell_type": "code",
   "execution_count": null,
   "id": "b2dcda3a-4e58-43a5-ba56-da072c84d614",
   "metadata": {
    "kernel": "Bash"
   },
   "outputs": [],
   "source": [
    "cat /mnt/vast/hpc/csg/UKBiobank/results/pleiotropy_AD_ARHI/111822_LDstore_files/chr22_variants.txt | grep -xF /mnt/vast/hpc/csg/UKBiobank/results/pleiotropy_AD_ARHI/111822_LDstore_files/rsid_not_found.txt"
   ]
  },
  {
   "cell_type": "code",
   "execution_count": null,
   "id": "140ff406-3ee0-488d-8b7a-b7774e338a21",
   "metadata": {
    "kernel": "Bash"
   },
   "outputs": [],
   "source": [
    "cd /mnt/vast/hpc/csg/UKBiobank/results/pleiotropy_AD_ARHI/111822_LDstore_files/\n",
    "#grep -f rsid_not_found.txt chr22_variants.txt"
   ]
  },
  {
   "cell_type": "code",
   "execution_count": null,
   "id": "6edd4f81-67d9-4f7f-b8ac-c2bb7f04b5cb",
   "metadata": {
    "kernel": "Bash"
   },
   "outputs": [],
   "source": [
    "cat rsid_not_found.txt |wc -l"
   ]
  },
  {
   "cell_type": "code",
   "execution_count": null,
   "id": "c655b760-4204-43a7-87e3-0a99a564db8b",
   "metadata": {
    "kernel": "Bash"
   },
   "outputs": [],
   "source": [
    "sort rsid_not_found.txt | uniq | wc -l"
   ]
  },
  {
   "cell_type": "code",
   "execution_count": null,
   "id": "03e135db-f742-410e-b980-35077f9061ea",
   "metadata": {
    "kernel": "Bash",
    "scrolled": true,
    "tags": []
   },
   "outputs": [],
   "source": [
    "# 11117 -  45 variants have same rsid but different alleles\n",
    "grep -wf rsid_not_found.txt chr22_variants.txt | wc -l "
   ]
  },
  {
   "cell_type": "code",
   "execution_count": null,
   "id": "4ca43f20-b5ca-49a5-8df0-61243c559997",
   "metadata": {
    "kernel": "Bash"
   },
   "outputs": [],
   "source": [
    "grep -wf rsid_not_found.txt /mnt/vast/hpc/csg/UKBiobank/results/pleiotropy_AD_ARHI/111822_LDstore_files/ukb39554_imputeddataset/ukb_mfi_chr22_v3.txt.z \\\n",
    "> /mnt/vast/hpc/csg/UKBiobank/results/pleiotropy_AD_ARHI/111822_LDstore_files/chr22_notfound.z"
   ]
  },
  {
   "cell_type": "markdown",
   "id": "76d0900c-e672-42d2-8311-3d62a6ec9b43",
   "metadata": {
    "kernel": "Bash"
   },
   "source": [
    "## New run with the block data"
   ]
  },
  {
   "cell_type": "code",
   "execution_count": null,
   "id": "418baa86-d325-4e6d-b480-5c4101963931",
   "metadata": {
    "kernel": "Bash"
   },
   "outputs": [],
   "source": [
    "## Set the bash variables \n",
    "cwd=/mnt/vast/hpc/csg/UKBiobank/results/pleiotropy_AD_ARHI/111822_LDstore_files/regions_chr1_22\n",
    "ldstore_sbatch=$cwd/ldstore_blocks_test$(date +\"%Y-%m-%d\").sbatch\n",
    "masterfile=/mnt/vast/hpc/csg/UKBiobank/results/pleiotropy_AD_ARHI/111822_LDstore_files/regions_chr1_22/masterfile22_20221222\n",
    "jobsize=1\n",
    "ldstore_sos=~/project/UKBB_GWAS_dev/workflow/111722_LDstore.ipynb\n",
    "tpl_file=~/project/bioworkflows/admin/csg.yml\n",
    "mem='40G'\n",
    "job_size=1\n",
    "numThreads=4\n",
    "\n",
    "ldstore_args=\"\"\"bcor \n",
    "    --cwd $cwd\n",
    "    --masterfile $masterfile\n",
    "    --numThreads $numThreads \n",
    "    --mem $mem \n",
    "    --job_size $job_size\n",
    "\"\"\"\n",
    "\n",
    "sos run ~/project/UKBB_GWAS_dev/admin/Get_Job_Script.ipynb csg \\\n",
    "    --template-file $tpl_file \\\n",
    "    --workflow-file $ldstore_sos \\\n",
    "    --to-script $ldstore_sbatch \\\n",
    "    --args \"$ldstore_args\""
   ]
  },
  {
   "cell_type": "code",
   "execution_count": null,
   "id": "5122cd5d-5708-428a-ba3a-35617208e44f",
   "metadata": {
    "kernel": "Bash"
   },
   "outputs": [],
   "source": [
    "export PATH=$HOME/miniconda3/bin:$PATH\n",
    "module load Singularity/3.5.3\n",
    "sos run /home/dmc2245/project/UKBB_GWAS_dev/workflow/111722_LDstore.ipynb \\\n",
    "    bcor \\\n",
    "    --cwd /mnt/vast/hpc/csg/UKBiobank/results/pleiotropy_AD_ARHI/111822_LDstore_files/regions_chr1_22\\\n",
    "    --masterfile /mnt/vast/hpc/csg/UKBiobank/results/pleiotropy_AD_ARHI/111822_LDstore_files/regions_chr1_22/masterfile22_20221222\\\n",
    "    --numThreads 4 \\\n",
    "    --mem 40G \\\n",
    "    --job_size 1"
   ]
  },
  {
   "cell_type": "code",
   "execution_count": null,
   "id": "8a56dd04-fa59-4ed7-845b-7042db021085",
   "metadata": {
    "kernel": "Bash"
   },
   "outputs": [],
   "source": [
    "#master file with a block of chr22\n",
    "z;bgen;bgi;bcor;ld;n_samples\n",
    "/mnt/vast/hpc/csg/UKBiobank/results/pleiotropy_AD_ARHI/113022_regions_bgen/ukb_imp_chr22_v3.22:16050408-17674295.variants.z;/mnt/vast/hpc/csg/UKBiobank/results/pleiotropy_AD_ARHI/113022_regions_bgen/ukb_imp_chr22_v3.22:16050408-17674295.bgen;/mnt/vast/hpc/csg/UKBiobank/results/pleiotropy_AD_ARHI/113022_regions_bgen/ukb_imp_chr22_v3.22:16050408-17674295.bgen.bgi;/mnt/vast/hpc/csg/UKBiobank/results/pleiotropy_AD_ARHI/113022_regions_bgen/ukb_imp_chr22_v3.22:16050408-17674295.bgen.bcor;/mnt/vast/hpc/csg/UKBiobank/results/pleiotropy_AD_ARHI/113022_regions_bgen/ukb_imp_chr22_v3.22:16050408-17674295.bgen.ld;487409"
   ]
  },
  {
   "cell_type": "markdown",
   "id": "0b284701-75bf-4147-b86e-ffd5fb4c4dea",
   "metadata": {
    "kernel": "Bash"
   },
   "source": [
    "## Use tabix to retrieve region"
   ]
  },
  {
   "cell_type": "code",
   "execution_count": null,
   "id": "1d3a7b4e-d42c-4a16-a271-3e143669a283",
   "metadata": {
    "kernel": "Bash"
   },
   "outputs": [],
   "source": [
    "tabix /mnt/vast/hpc/csg/UKBiobank_Yale_transfer/ukb39554_imputeddataset/ukb_mfi_chr22_v3.txt 22:16050408-17674295"
   ]
  },
  {
   "cell_type": "code",
   "execution_count": null,
   "id": "d17c1c08-0921-49d9-8123-e7f5aee19aaf",
   "metadata": {
    "kernel": "Bash"
   },
   "outputs": [],
   "source": [
    "cat ~/output/ldstore/ukb_mfi_chr22_v3.txt | head"
   ]
  },
  {
   "cell_type": "code",
   "execution_count": null,
   "id": "4b41c185-d4eb-44ee-963b-d2ff863e1390",
   "metadata": {
    "kernel": "Bash"
   },
   "outputs": [],
   "source": [
    "tabix ~/output/ldstore/ukb_mfi_chr22_v3.txt -csi"
   ]
  },
  {
   "cell_type": "code",
   "execution_count": null,
   "id": "3e3903a0-eca1-4e6a-b825-ae8b5d8eec72",
   "metadata": {
    "kernel": "SoS",
    "tags": []
   },
   "outputs": [],
   "source": [
    "# Creation of the z file: it has to be space delimited and not tab delimited\n",
    "[zfile]\n",
    "parameter: cwd = path\n",
    "parameter: region_file = path\n",
    "parameter: mfi_files = ''\n",
    "parameter: maf = 0.0001\n",
    "parameter: numThreads = 4\n",
    "parameter: job_size = 5\n",
    "parameter: mem = '40G'\n",
    "parameter: walltime ='2h'\n",
    "import pandas as pd\n",
    "import glob \n",
    "df=pd.read_csv(region_file,header=0,sep=\"\\t\", names=[\"chr\", \"start\", \"stop\"], dtype=str)\n",
    "df.columns = df.columns.str.strip()\n",
    "df1 = df.apply(lambda x: x.str.strip() if x.dtype == \"object\" else x)\n",
    "df1['chr'] = df1['chr'].str.replace('chr','')\n",
    "df1['chr'] = df1['chr'].str.zfill(2)\n",
    "region=df1.values.tolist()\n",
    "mfi=glob.glob(mfi_files)\n",
    "input:for_each='region'\n",
    "output:f\"{cwd}/test/{region[0]}/{region[0]}_{region[1]}_{region[2]}.{maf}.z\"\n",
    "task: trunk_workers = 1, trunk_size = job_size, walltime = walltime, mem = mem, cores = numThreads, tags = f'{step_name}_{_output:bn}'\n",
    "python: expand = \"${ }\", stderr = f'{_output}.stderr', stdout = f'{_output}.stdout'\n",
    "    import glob, os\n",
    "    import pandas as pd\n",
    "    in_file=f\"{cwd}/{_region[0]}/{_region[0]}_{_region[1]}_{_region[2]}.variants\"\n",
    "    basename=os.path.basename(in_file)\n",
    "    sp = basename.split(\"_\")[0]\n",
    "    chrom= sp.lstrip(\"0\")\n",
    "    print(basename)\n",
    "    mfi_file = [file for file in {_mfi} if \"chr\" + chrom + \"_\" in file][0]    \n",
    "    fullregion = pd.read_csv(in_file,header=0,sep=\"\\t\", skiprows=1, skipfooter=1, names=['alternate_ids', 'rsid', 'chromosome', 'position', 'number_of_alleles', 'allele1', 'allele2'])\n",
    "    print('The number of variants in the region is:',fullregion.shape[0])\n",
    "    chrom_file = pd.read_csv(mfi_file,header=None,sep=\"\\t\", names=[\"alternate_id\", \"rsid\", \"position\", \"allele1\", \"allele2\", \"maf\", \"minor_allele\", \"info_score\"])\n",
    "    print('The number of variants in',mfi_file,'is:',chrom_file.shape[0])\n",
    "    subset_region=chrom_file.join(fullregion.set_index(['alternate_ids', 'rsid', 'position', 'allele1', 'allele2']), on=['alternate_id', 'rsid', 'position', 'allele1', 'allele2'], how='right')\n",
    "    subset_maf=subset_region[subset_region['maf'] > ${maf}]\n",
    "    print('The number of variants in the maf',maf,'filtered z_file is:',subset_maf.shape[0])\n",
    "    subset_maf[[\"rsid\",\"chromosome\", \"position\", \"allele1\", \"allele2\", \"alternate_id\"]].to_csv(${_output:r}, sep=' ', index=False, header=True)"
   ]
  },
  {
   "cell_type": "code",
   "execution_count": null,
   "id": "ab0f86a2-fc42-4e07-beab-c0bef65cf125",
   "metadata": {
    "kernel": "Bash",
    "scrolled": true,
    "tags": []
   },
   "outputs": [],
   "source": [
    "export PATH=$HOME/miniconda3/bin:$PATH\n",
    "module load Singularity/3.5.3\n",
    "sos run /home/dmc2245/project/UKBB_GWAS_dev/code/python/LD_Store_test.ipynb \\\n",
    "    zfile \\\n",
    "    --cwd /mnt/vast/hpc/csg/UKBiobank/results/pleiotropy_AD_ARHI/111822_LDstore_files/regions_chr1_22/\\\n",
    "    --region_file /mnt/vast/hpc/csg/UKBiobank/data/ldblocks/EUR/fourier_ls-all.bed \\\n",
    "    --mfi_files /mnt/vast/hpc/csg/UKBiobank_Yale_transfer/ukb39554_imputeddataset/ukb_mfi_chr*[0-9]_v3.txt \\\n",
    "    --numThreads 4 \\\n",
    "    --mem 40G \\\n",
    "    --job_size 1"
   ]
  },
  {
   "cell_type": "code",
   "execution_count": null,
   "id": "9bda5001-a81b-4622-b7f6-3954f6d2a6db",
   "metadata": {
    "kernel": "Bash"
   },
   "outputs": [],
   "source": []
  }
 ],
 "metadata": {
  "kernelspec": {
   "display_name": "SoS",
   "language": "sos",
   "name": "sos"
  },
  "language_info": {
   "codemirror_mode": "sos",
   "file_extension": ".sos",
   "mimetype": "text/x-sos",
   "name": "sos",
   "nbconvert_exporter": "sos_notebook.converter.SoS_Exporter",
   "pygments_lexer": "sos"
  },
  "sos": {
   "kernels": [
    [
     "Bash",
     "calysto_bash",
     "Bash",
     "#E6EEFF",
     "shell"
    ],
    [
     "Python3",
     "python3",
     "Python3",
     "#FFD91A",
     {
      "name": "ipython",
      "version": 3
     }
    ],
    [
     "SoS",
     "sos",
     "",
     "",
     "sos"
    ]
   ],
   "version": "0.22.6"
  }
 },
 "nbformat": 4,
 "nbformat_minor": 5
}
