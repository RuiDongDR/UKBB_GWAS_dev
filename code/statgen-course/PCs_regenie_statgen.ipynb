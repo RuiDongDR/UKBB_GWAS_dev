{
 "cells": [
  {
   "cell_type": "markdown",
   "id": "11baa56e-62fe-4e3d-a869-fbc6333a81ef",
   "metadata": {
    "kernel": "SoS",
    "tags": []
   },
   "source": [
    "## Calculate the PCA's for the MWE regenie statgen-courses"
   ]
  },
  {
   "cell_type": "code",
   "execution_count": 6,
   "id": "1320a42e-e964-4d81-8a25-418eebd0544b",
   "metadata": {
    "kernel": "Bash",
    "tags": []
   },
   "outputs": [],
   "source": [
    "module load Singularity"
   ]
  },
  {
   "cell_type": "code",
   "execution_count": 8,
   "id": "73a27810-4999-488d-b1f9-e8b9e3dd12b0",
   "metadata": {
    "kernel": "Bash",
    "tags": []
   },
   "outputs": [
    {
     "name": "stdout",
     "output_type": "stream",
     "text": [
      "INFO: Running \u001b[32mking_1\u001b[0m: Inference of relationships in the sample to identify closely related individuals\n",
      "INFO: \u001b[32mking_1\u001b[0m is \u001b[32mcompleted\u001b[0m.\n",
      "INFO: \u001b[32mking_1\u001b[0m output:   \u001b[32m/home/dmc2245/mwe_regenie_statgen/output/1000G.EUR.mwe.pruned.regenie_statgen.kin0\u001b[0m\n",
      "INFO: Running \u001b[32mking_2\u001b[0m: Select a list of unrelated individual with an attempt to maximize the unrelated individuals selected from the data\n",
      "\u001b[91mERROR\u001b[0m: \u001b[91mking_2 (id=a6aafb8b3037f0cf) returns an error.\u001b[0m\n",
      "\u001b[91mERROR\u001b[0m: \u001b[91m[king_2]: [0]: Executing script in Singularity returns an error (exitcode=1, stderr=/home/dmc2245/mwe_regenie_statgen/output/1000G.EUR.mwe.pruned.regenie_statgen.related_id.stderr).\n",
      "The script has been saved to /home/dmc2245/.sos/fcec955dd263e8d4/singularity_run_14181.R. To reproduce the error please run:\n",
      "\u001b[0m\u001b[32msingularity exec  /home/dmc2245/containers/bioinfo.sif Rscript /home/dmc2245/.sos/fcec955dd263e8d4/singularity_run_14181.R\u001b[0m\u001b[91m\n",
      "[king]: Exits with 1 pending step (king_3)\u001b[0m\n"
     ]
    },
    {
     "ename": "",
     "evalue": "1",
     "output_type": "error",
     "traceback": []
    }
   ],
   "source": [
    "sos run ~/project/xqtl-pipeline/code/data_preprocessing/genotype/GWAS_QC.ipynb king \\\n",
    "    --cwd ~/mwe_regenie_statgen/output \\\n",
    "    --genoFile ~/mwe_regenie_statgen/1000G.EUR.mwe.pruned.bed\\\n",
    "    --kinship 0.13 \\\n",
    "    --name regenie_statgen \\\n",
    "    --container ~/containers/bioinfo.sif"
   ]
  },
  {
   "cell_type": "code",
   "execution_count": null,
   "id": "fbe34130-121f-448f-b1f1-8e561ff0f88a",
   "metadata": {
    "kernel": "SoS"
   },
   "outputs": [],
   "source": [
    "sos run GWAS_QC.ipynb qc \\\n",
    "    --cwd ~/mwe_regenie_statgen/output \\\n",
    "    --genoFile ~/mwe_regenie_statgen/rename_chr22.20220110.unrelated.bed \\\n",
    "    --maf-filter 0.01 \\\n",
    "    --name for_pca \\\n",
    "    --container container/bioinfo.sif"
   ]
  },
  {
   "cell_type": "code",
   "execution_count": null,
   "id": "21f6eea3-2f05-43b9-8de8-cec11a9702be",
   "metadata": {
    "kernel": "SoS"
   },
   "outputs": [],
   "source": [
    "sos run GWAS_QC.ipynb qc_no_prune \\\n",
    "    --cwd ~/mwe_regenie_statgen/output \\\n",
    "    --genoFile ~/mwe_regenie_statgen/output/rename_chr22.20220110.related.bed \\\n",
    "    --keep-variants output/rename_chr22.20220110.unrelated.for_pca.filtered.prune.in \\\n",
    "    --maf-filter 0 --geno-filter 0 --mind-filter 0.1 --hwe-filter 0 \\\n",
    "    --name for_pca \\\n",
    "    --container container/bioinfo.sif"
   ]
  },
  {
   "cell_type": "code",
   "execution_count": 12,
   "id": "5bcf1eed-7238-4b8b-9326-99fa8ea8d289",
   "metadata": {
    "kernel": "Bash",
    "tags": []
   },
   "outputs": [
    {
     "name": "stdout",
     "output_type": "stream",
     "text": [
      "INFO: Running \u001b[32mflashpca_1\u001b[0m: Run PCA analysis using flashpca\n",
      "INFO: \u001b[32mflashpca_1\u001b[0m is \u001b[32mcompleted\u001b[0m.\n",
      "INFO: \u001b[32mflashpca_1\u001b[0m output:   \u001b[32m/home/dmc2245/mwe_regenie_statgen/output/pca/1000G.EUR.pheno.pca.rds\u001b[0m\n",
      "INFO: Running \u001b[32mflashpca_2\u001b[0m: \n",
      "INFO: \u001b[32mflashpca_2\u001b[0m is \u001b[32mcompleted\u001b[0m (pending nested workflow).\n",
      "INFO: Running \u001b[32mdetect_outliers\u001b[0m: Calculate Mahalanobis distance per population and report outliers\n",
      "INFO: \u001b[32mdetect_outliers\u001b[0m is \u001b[32mcompleted\u001b[0m.\n",
      "INFO: \u001b[32mdetect_outliers\u001b[0m output:   \u001b[32m/home/dmc2245/mwe_regenie_statgen/output/pca/1000G.EUR.pheno.pca.mahalanobis.rds /home/dmc2245/mwe_regenie_statgen/output/pca/1000G.EUR.pheno.pca.outliers... (5 items)\u001b[0m\n",
      "INFO: \u001b[32mflashpca_2\u001b[0m output:   \u001b[32m/home/dmc2245/mwe_regenie_statgen/output/pca/1000G.EUR.pheno.pca.mahalanobis.rds /home/dmc2245/mwe_regenie_statgen/output/pca/1000G.EUR.pheno.pca.outliers... (5 items)\u001b[0m\n",
      "INFO: Running \u001b[32mflashpca_3\u001b[0m: \n",
      "INFO: \u001b[32mflashpca_3\u001b[0m is \u001b[32mcompleted\u001b[0m (pending nested workflow).\n",
      "INFO: Running \u001b[32mplot_pca\u001b[0m: Plot PCA results. Can be used independently as \"plot_pca\" or combined with other workflow as eg \"flashpca+plot_pca\"\n",
      "INFO: \u001b[32mplot_pca\u001b[0m is \u001b[32mcompleted\u001b[0m.\n",
      "INFO: \u001b[32mplot_pca\u001b[0m output:   \u001b[32m/home/dmc2245/mwe_regenie_statgen/output/pca/1000G.EUR.pheno.pca.pc.png /home/dmc2245/mwe_regenie_statgen/output/pca/1000G.EUR.pheno.pca.scree.png... (3 items)\u001b[0m\n",
      "INFO: \u001b[32mflashpca_3\u001b[0m output:   \u001b[32m/home/dmc2245/mwe_regenie_statgen/output/pca/1000G.EUR.pheno.pca.pc.png /home/dmc2245/mwe_regenie_statgen/output/pca/1000G.EUR.pheno.pca.scree.png\u001b[0m\n",
      "INFO: Workflow flashpca (ID=we11e168b827e16d8) is executed successfully with 5 completed steps.\n"
     ]
    }
   ],
   "source": [
    "sos run ~/project/xqtl-pipeline/code/data_preprocessing/genotype/PCA.ipynb flashpca \\\n",
    "        --cwd ~/mwe_regenie_statgen/output/pca \\\n",
    "        --genoFile ~/mwe_regenie_statgen/1000G.EUR.mwe.pruned.bed \\\n",
    "        --phenoFile ~/mwe_regenie_statgen/1000G.EUR.pheno.x \\\n",
    "        --maha-k 2 \\\n",
    "        --container ~/containers/flashpcaR.sif"
   ]
  },
  {
   "cell_type": "code",
   "execution_count": null,
   "id": "02aed890-ee44-472e-836c-f2810ce019ae",
   "metadata": {
    "kernel": "SoS"
   },
   "outputs": [],
   "source": [
    "sos run PCA.ipynb project_samples \\\n",
    "  --cwd output/pca \\\n",
    "  --genoFile output/rename_chr22.20220110.related.for_pca.filtered.extracted.bed \\\n",
    "  --phenoFile data/MWE_pheno.txt \\\n",
    "  --pca-model output/pca/MWE_pheno.pca.rds \\\n",
    "  --label-col RACE \\\n",
    "  --pop-col RACE \\\n",
    "  --maha-k 2 \\\n",
    "  --container container/flashpcaR.sif"
   ]
  }
 ],
 "metadata": {
  "kernelspec": {
   "display_name": "SoS",
   "language": "sos",
   "name": "sos"
  },
  "language_info": {
   "codemirror_mode": "sos",
   "file_extension": ".sos",
   "mimetype": "text/x-sos",
   "name": "sos",
   "nbconvert_exporter": "sos_notebook.converter.SoS_Exporter",
   "pygments_lexer": "sos"
  },
  "sos": {
   "kernels": [
    [
     "Bash",
     "calysto_bash",
     "Bash",
     "#E6EEFF",
     "shell"
    ],
    [
     "SoS",
     "sos",
     "",
     "",
     "sos"
    ]
   ],
   "version": "0.22.6"
  }
 },
 "nbformat": 4,
 "nbformat_minor": 5
}
