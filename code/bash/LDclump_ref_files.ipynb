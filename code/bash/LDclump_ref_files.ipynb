{
 "cells": [
  {
   "cell_type": "code",
   "execution_count": 1,
   "id": "1e5e5172-464c-4e59-b781-0cd187bf97e7",
   "metadata": {},
   "outputs": [],
   "source": [
    "module load  Plink/1.9.10"
   ]
  },
  {
   "cell_type": "code",
   "execution_count": 7,
   "id": "25159cd9-c9ec-4fda-af3c-9ff83316c927",
   "metadata": {},
   "outputs": [
    {
     "name": "stdout",
     "output_type": "stream",
     "text": [
      "PLINK v1.90b6.26 64-bit (2 Apr 2022)           www.cog-genomics.org/plink/1.9/\n",
      "(C) 2005-2022 Shaun Purcell, Christopher Chang   GNU General Public License v3\n",
      "Logging to /mnt/vast/hpc/csg/UKBiobank/results/pleiotropy_AD_ARHI/LD_clumping/072822_AD_meta_p5e-08_Rui/GCST90027158_buildGRCh37_reheader.tsv.log.\n",
      "Options in effect:\n",
      "  --bfile /home/dmc2245/UKBiobank/results/LD_clumping/ref_files/ukb39554_c1_22_v3.imputed.renamedvar.nondup.2000.ref_geno\n",
      "  --clump /mnt/vast/hpc/csg/UKBiobank/results/pleiotropy_AD_ARHI/GCST90027158_buildGRCh37_reheader.snp_stats.ldclump.gz\n",
      "  --clump-allow-overlap\n",
      "  --clump-annotate BP\n",
      "  --clump-field P\n",
      "  --clump-kb 2000\n",
      "  --clump-p1 5e-08\n",
      "  --clump-p2 5e-08\n",
      "  --clump-r2 0.04\n",
      "  --clump-verbose\n",
      "  --memory 220000\n",
      "  --out /mnt/vast/hpc/csg/UKBiobank/results/pleiotropy_AD_ARHI/LD_clumping/072822_AD_meta_p5e-08_Rui/GCST90027158_buildGRCh37_reheader.tsv\n",
      "  --threads 20\n",
      "\n",
      "225224 MB RAM detected; reserving 220000 MB for main workspace.\n",
      "Allocated 69609 MB successfully, after larger attempt(s) failed.\n",
      "92457701 variants loaded from .bim file.\n",
      "2000 people (904 males, 1096 females) loaded from .fam.\n",
      "Using 1 thread (no multithreaded calculations invoked).\n",
      "Before main variant filters, 2000 founders and 0 nonfounders present.\n",
      "Calculating allele frequencies... 10111213141516171819202122232425262728293031323334353637383940414243444546474849505152535455565758596061626364656667686970717273747576777879808182838485868788899091929394959697989 done.\n",
      "Total genotyping rate is 0.9971.\n",
      "92457701 variants and 2000 people pass filters and QC.\n",
      "Note: No phenotypes present.\n",
      "65 top variant IDs missing; see the end of the .clumped file.\n",
      "--clump: 187 clumps formed from 5572 top variants.\n",
      "Results written to\n",
      "/mnt/vast/hpc/csg/UKBiobank/results/pleiotropy_AD_ARHI/LD_clumping/072822_AD_meta_p5e-08_Rui/GCST90027158_buildGRCh37_reheader.tsv.clumped\n",
      ".\n"
     ]
    }
   ],
   "source": [
    "plink \\\n",
    "  --bfile /home/dmc2245/UKBiobank/results/LD_clumping/ref_files/ukb39554_c1_22_v3.imputed.renamedvar.nondup.2000.ref_geno \\\n",
    "  --clump /mnt/vast/hpc/csg/UKBiobank/results/pleiotropy_AD_ARHI/GCST90027158_buildGRCh37_reheader.snp_stats.ldclump.gz \\\n",
    "  --clump-allow-overlap \\\n",
    "  --clump-annotate BP \\\n",
    "  --clump-field P \\\n",
    "  --clump-kb 2000 \\\n",
    "  --clump-p1 5e-08 \\\n",
    "  --clump-p2 5e-08 \\\n",
    "  --clump-r2 0.04 \\\n",
    "  --clump-verbose \\\n",
    "  --out /mnt/vast/hpc/csg/UKBiobank/results/pleiotropy_AD_ARHI/LD_clumping/072822_AD_meta_p5e-08_Rui/GCST90027158_buildGRCh37_reheader.tsv \\\n",
    "  --threads 20 \\\n",
    "  --memory 220000"
   ]
  },
  {
   "cell_type": "code",
   "execution_count": 8,
   "id": "22765262-bea2-453a-9ca9-0080cafb6f8e",
   "metadata": {},
   "outputs": [
    {
     "name": "stdout",
     "output_type": "stream",
     "text": [
      "PLINK v1.90b6.26 64-bit (2 Apr 2022)           www.cog-genomics.org/plink/1.9/\n",
      "(C) 2005-2022 Shaun Purcell, Christopher Chang   GNU General Public License v3\n",
      "Logging to /mnt/vast/hpc/csg/UKBiobank/results/pleiotropy_AD_ARHI/LD_clumping/072822_AD_meta_p5e-08_Rui/GCST90027158_buildGRCh37_reheader.no_overlap.log.\n",
      "Options in effect:\n",
      "  --bfile /home/dmc2245/UKBiobank/results/LD_clumping/ref_files/ukb39554_c1_22_v3.imputed.renamedvar.nondup.2000.ref_geno\n",
      "  --clump /mnt/vast/hpc/csg/UKBiobank/results/pleiotropy_AD_ARHI/GCST90027158_buildGRCh37_reheader.snp_stats.ldclump.gz\n",
      "  --clump-annotate BP\n",
      "  --clump-field P\n",
      "  --clump-kb 2000\n",
      "  --clump-p1 5e-08\n",
      "  --clump-p2 5e-08\n",
      "  --clump-r2 0.04\n",
      "  --clump-verbose\n",
      "  --memory 220000\n",
      "  --out /mnt/vast/hpc/csg/UKBiobank/results/pleiotropy_AD_ARHI/LD_clumping/072822_AD_meta_p5e-08_Rui/GCST90027158_buildGRCh37_reheader.no_overlap\n",
      "  --threads 20\n",
      "\n",
      "225224 MB RAM detected; reserving 220000 MB for main workspace.\n",
      "Allocated 69609 MB successfully, after larger attempt(s) failed.\n",
      "92457701 variants loaded from .bim file.\n",
      "2000 people (904 males, 1096 females) loaded from .fam.\n",
      "Using 1 thread (no multithreaded calculations invoked).\n",
      "Before main variant filters, 2000 founders and 0 nonfounders present.\n",
      "Calculating allele frequencies... 10111213141516171819202122232425262728293031323334353637383940414243444546474849505152535455565758596061626364656667686970717273747576777879808182838485868788899091929394959697989 done.\n",
      "Total genotyping rate is 0.9971.\n",
      "92457701 variants and 2000 people pass filters and QC.\n",
      "Note: No phenotypes present.\n",
      "65 top variant IDs missing; see the end of the .clumped file.\n",
      "--clump: 187 clumps formed from 5572 top variants.\n",
      "Results written to\n",
      "/mnt/vast/hpc/csg/UKBiobank/results/pleiotropy_AD_ARHI/LD_clumping/072822_AD_meta_p5e-08_Rui/GCST90027158_buildGRCh37_reheader.no_overlap.clumped\n",
      ".\n"
     ]
    }
   ],
   "source": [
    "plink \\\n",
    "  --bfile /home/dmc2245/UKBiobank/results/LD_clumping/ref_files/ukb39554_c1_22_v3.imputed.renamedvar.nondup.2000.ref_geno \\\n",
    "  --clump /mnt/vast/hpc/csg/UKBiobank/results/pleiotropy_AD_ARHI/GCST90027158_buildGRCh37_reheader.snp_stats.ldclump.gz \\\n",
    "  --clump-annotate BP \\\n",
    "  --clump-field P \\\n",
    "  --clump-kb 2000 \\\n",
    "  --clump-p1 5e-08 \\\n",
    "  --clump-p2 5e-08 \\\n",
    "  --clump-r2 0.04 \\\n",
    "  --clump-verbose \\\n",
    "  --out /mnt/vast/hpc/csg/UKBiobank/results/pleiotropy_AD_ARHI/LD_clumping/072822_AD_meta_p5e-08_Rui/GCST90027158_buildGRCh37_reheader.no_overlap \\\n",
    "  --threads 20 \\\n",
    "  --memory 220000"
   ]
  },
  {
   "cell_type": "code",
   "execution_count": 9,
   "id": "299b3550-05b8-4bab-b384-c42b67989f6c",
   "metadata": {},
   "outputs": [
    {
     "name": "stdout",
     "output_type": "stream",
     "text": [
      "PLINK v1.90b6.26 64-bit (2 Apr 2022)           www.cog-genomics.org/plink/1.9/\n",
      "(C) 2005-2022 Shaun Purcell, Christopher Chang   GNU General Public License v3\n",
      "Logging to /mnt/vast/hpc/csg/UKBiobank/results/pleiotropy_AD_ARHI/LD_clumping/072822_AD_meta_p5e-08_Rui/GCST90027158_buildGRCh37_reheader.no_overlap.rsq0.5.log.\n",
      "Options in effect:\n",
      "  --bfile /home/dmc2245/UKBiobank/results/LD_clumping/ref_files/ukb39554_c1_22_v3.imputed.renamedvar.nondup.2000.ref_geno\n",
      "  --clump /mnt/vast/hpc/csg/UKBiobank/results/pleiotropy_AD_ARHI/GCST90027158_buildGRCh37_reheader.snp_stats.ldclump.gz\n",
      "  --clump-annotate BP\n",
      "  --clump-field P\n",
      "  --clump-kb 2000\n",
      "  --clump-p1 5e-08\n",
      "  --clump-p2 1\n",
      "  --clump-r2 0.5\n",
      "  --clump-verbose\n",
      "  --memory 220000\n",
      "  --out /mnt/vast/hpc/csg/UKBiobank/results/pleiotropy_AD_ARHI/LD_clumping/072822_AD_meta_p5e-08_Rui/GCST90027158_buildGRCh37_reheader.no_overlap.rsq0.5\n",
      "  --threads 20\n",
      "\n",
      "225224 MB RAM detected; reserving 220000 MB for main workspace.\n",
      "Allocated 69609 MB successfully, after larger attempt(s) failed.\n",
      "92457701 variants loaded from .bim file.\n",
      "2000 people (904 males, 1096 females) loaded from .fam.\n",
      "Using 1 thread (no multithreaded calculations invoked).\n",
      "Before main variant filters, 2000 founders and 0 nonfounders present.\n",
      "Calculating allele frequencies... 10111213141516171819202122232425262728293031323334353637383940414243444546474849505152535455565758596061626364656667686970717273747576777879808182838485868788899091929394959697989 done.\n",
      "Total genotyping rate is 0.9971.\n",
      "92457701 variants and 2000 people pass filters and QC.\n",
      "Note: No phenotypes present.\n",
      "65 top variant IDs missing; see the end of the .clumped file.\n",
      "--clump: 483 clumps formed from 5572 top variants.\n",
      "Results written to\n",
      "/mnt/vast/hpc/csg/UKBiobank/results/pleiotropy_AD_ARHI/LD_clumping/072822_AD_meta_p5e-08_Rui/GCST90027158_buildGRCh37_reheader.no_overlap.rsq0.5.clumped\n",
      ".\n"
     ]
    }
   ],
   "source": [
    "plink \\\n",
    "  --bfile /home/dmc2245/UKBiobank/results/LD_clumping/ref_files/ukb39554_c1_22_v3.imputed.renamedvar.nondup.2000.ref_geno \\\n",
    "  --clump /mnt/vast/hpc/csg/UKBiobank/results/pleiotropy_AD_ARHI/GCST90027158_buildGRCh37_reheader.snp_stats.ldclump.gz \\\n",
    "  --clump-annotate BP \\\n",
    "  --clump-field P \\\n",
    "  --clump-kb 2000 \\\n",
    "  --clump-p1 5e-08 \\\n",
    "  --clump-p2 1 \\\n",
    "  --clump-r2 0.5 \\\n",
    "  --clump-verbose \\\n",
    "  --out /mnt/vast/hpc/csg/UKBiobank/results/pleiotropy_AD_ARHI/LD_clumping/072822_AD_meta_p5e-08_Rui/GCST90027158_buildGRCh37_reheader.no_overlap.rsq0.5 \\\n",
    "  --threads 20 \\\n",
    "  --memory 220000"
   ]
  },
  {
   "cell_type": "code",
   "execution_count": null,
   "id": "0cc900f8-d363-4ff2-8111-50952a8c37d8",
   "metadata": {},
   "outputs": [],
   "source": []
  }
 ],
 "metadata": {
  "kernelspec": {
   "display_name": "Bash",
   "language": "bash",
   "name": "bash"
  },
  "language_info": {
   "codemirror_mode": "shell",
   "file_extension": ".sh",
   "mimetype": "text/x-sh",
   "name": "bash"
  }
 },
 "nbformat": 4,
 "nbformat_minor": 5
}
