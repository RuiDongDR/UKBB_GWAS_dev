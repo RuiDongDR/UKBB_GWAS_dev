{
 "cells": [
  {
   "cell_type": "markdown",
   "id": "b07c4430-0bed-47a3-910d-29a859fdd245",
   "metadata": {
    "kernel": "SoS",
    "tags": []
   },
   "source": [
    "# Frequency matched cases-controls"
   ]
  },
  {
   "cell_type": "markdown",
   "id": "1cb60b0e-31d8-4f67-9351-2ef2a0a8e7eb",
   "metadata": {
    "kernel": "SoS"
   },
   "source": [
    "# Aim\n",
    "\n",
    "The aim of this pipeline is to be able to generate a subset of cases and controls that are matched by frequency"
   ]
  },
  {
   "cell_type": "markdown",
   "id": "2396a317-21f1-4570-9927-0fac60d8767a",
   "metadata": {
    "kernel": "SoS"
   },
   "source": [
    "# Pre-requisites\n",
    "\n",
    "To use this pipeline you must install the R package in your library\n",
    "\n",
    "`install.packages(\"ccoptimalmatch\")`"
   ]
  },
  {
   "cell_type": "markdown",
   "id": "a8b5a7fb-9706-4c7f-8c4d-5eb8713cc9b1",
   "metadata": {
    "kernel": "SoS"
   },
   "source": [
    "# Input\n",
    "\n",
    "Phenotype - covariate file: this is the raw file and should include patient_ID, phenotype (specifying cases and controls), variables that you want to use for matching.  \n",
    "\n",
    "The phenotype variable needs to specify who is a case or a control ('1' or '0' respectively)"
   ]
  },
  {
   "cell_type": "markdown",
   "id": "bc7f0049-7f5d-4900-98a1-649fd0393f4b",
   "metadata": {
    "kernel": "SoS"
   },
   "source": [
    "# Output"
   ]
  },
  {
   "cell_type": "markdown",
   "id": "58e9148d-e359-418d-9018-f1f10655f63c",
   "metadata": {
    "kernel": "SoS"
   },
   "source": [
    "# Reference\n",
    "\n",
    "In this case we will be using the R package [ccoptimalmatch](https://cran.r-project.org/web/packages/ccoptimalmatch/vignettes/ccoptimalmatching_vignette.html)"
   ]
  },
  {
   "cell_type": "markdown",
   "id": "ba49c771-e135-4af8-b339-d8dd033f2e2f",
   "metadata": {
    "kernel": "SoS"
   },
   "source": [
    "# Global parameters"
   ]
  },
  {
   "cell_type": "code",
   "execution_count": null,
   "id": "aeb13e27-32c6-406d-a828-2e3b490687c5",
   "metadata": {
    "kernel": "SoS"
   },
   "outputs": [],
   "source": [
    "[global]\n",
    "# the output directory for generated files\n",
    "parameter: cwd = path\n",
    "# Phenotype file\n",
    "parameter: phenoFile = path\n",
    "# Phenotype to be analyzed (specify the column)\n",
    "parameter: phenoCol = str\n",
    "# Covariates to be used in the matching procedure\n",
    "parameter: covarCol = []\n",
    "# Number of controls to match per case (default: 5 controls per case)\n",
    "parameter: n_con = 5\n",
    "# Specific number of threads to use\n",
    "parameter: numThreads = 1\n",
    "# For cluster jobs, number commands to run per job\n",
    "parameter: job_size = 1\n",
    "parameter: mem = '20G'\n",
    "parameter: walltime = '48h'"
   ]
  },
  {
   "cell_type": "markdown",
   "id": "4116dfe4-4e22-4ec3-84a5-093dd3185646",
   "metadata": {
    "kernel": "SoS"
   },
   "source": [
    "# Illustration of a minimal working example"
   ]
  },
  {
   "cell_type": "markdown",
   "id": "a86fe813-443c-4d10-8da3-4883d0d7cd7e",
   "metadata": {
    "kernel": "SoS"
   },
   "source": [
    "On a minimal working example (MWE) dataset,\n",
    "\n",
    "```\n",
    "sos run frequency_match.ipynb match\\\n",
    "    --cwd output \\\n",
    "    --phenoFile ~/UKBiobank/phenotype_files/hearing_impairment/090321_UKBB_Hearing_aid_f3393_expandedwhite_6436cases_96601ctrl_PC1_2.tsv \\\n",
    "    --phenoCol f3393 \\\n",
    "    --covarCol sex,age\n",
    "```"
   ]
  },
  {
   "cell_type": "markdown",
   "id": "3cb6ffbf-b9f6-4660-b05c-47c8d69d5dc3",
   "metadata": {
    "kernel": "SoS"
   },
   "source": [
    "# Case-control matching workflow implementation"
   ]
  },
  {
   "cell_type": "code",
   "execution_count": null,
   "id": "ba2853d8-e0df-488a-9823-6eeb7e866d32",
   "metadata": {
    "kernel": "SoS"
   },
   "outputs": [],
   "source": [
    "[match]\n",
    "input: phenoFile\n",
    "output: f'{cwd}/{_input:bnn}.ccmatched', f'{cwd}/{_input:bnn}.ccmatched.pheno'\n",
    "task: trunk_workers = 1, trunk_size = job_size, walltime = walltime, mem = mem, cores = numThreads, tags = f'{step_name}_{_output[0]:bn}'\n",
    "R:  expand = \"${ }\", stderr = f'{_output[0]:n}.stderr', stdout = f'{_output[0]:n}.stdout'\n",
    "\n",
    "    library('ccoptimalmatch')\n",
    "    library('dplyr')\n",
    "    print(\"Reading the phenotype file\")\n",
    "    raw <- read.table(${phenoFile:r}, header=T)\n",
    "    head(raw)\n",
    "    #Show number of cases-controls\n",
    "    print(\"The number of cases and controls in the data-set is:\")\n",
    "    table(raw$${phenoCol})\n",
    "    #Step 1. Exact matching on several variables: we need to create subsets based on relevant variables for matching\n",
    "    print(\"Creating subsets based on matching variables\")\n",
    "    create_subset <- raw %>% \n",
    "                 filter(${phenoCol} == \"1\") %>%\n",
    "                 arrange(${paths(covarCol):,}) %>%\n",
    "                 distinct(${paths(covarCol):,}, .keep_all = TRUE) %>%\n",
    "                 mutate(subset = 1:n()) %>%\n",
    "                 select(${paths(covarCol):,}, subset)   \n",
    "    head(create_subset)\n",
    "    #Merge the data that contains subset variable with the cases only\n",
    "    print(\"Merging subset with cases\")\n",
    "    case_with_subset <- raw %>% \n",
    "                          filter(${phenoCol} ==\"1\") %>%\n",
    "                           full_join(create_subset, by = c(${paths(covarCol):r,}))\n",
    "    #Merge the data that contains subset variable with the controls only\n",
    "    print(\"Merging subset with controls\")\n",
    "    control_with_subset <- raw %>% \n",
    "                             filter(${phenoCol} == \"0\") %>%\n",
    "                             right_join(create_subset, by = c(${paths(covarCol):r,})) %>%\n",
    "                             na.exclude()\n",
    "    #Bind the cases and controls with subset variable\n",
    "    raw <- rbind(case_with_subset,control_with_subset)\n",
    "    \n",
    "    #Step 2. Create artificial observations and select range of variables \n",
    "    bdd_controls <- raw[raw$${phenoCol}==\"0\",]\n",
    "    bdd_controls$cluster_case <- 0\n",
    "    bdd_cases <- raw[raw$f${phenoCol}==\"1\",]\n",
    "    bdd_cases$cluster_case <- paste(\"1\",1:nrow(bdd_cases),sep = \"_\")\n",
    "    raw <- rbind(bdd_cases,bdd_controls)\n",
    "    bdd_cases <- raw[raw$${phenoCol}==\"1\",]\n",
    "    bdd_control <- raw[raw$${phenoCol}==\"0\",]\n",
    "    bdd_temp <- data.frame()\n",
    "    list_p <- unique(bdd_cases$cluster_case)\n",
    "    bdd_temp <- data.frame()\n",
    "    ##loop to generated pseudo-observations of controls\n",
    "    for(i in 1:length(list_p)){\n",
    "    temp <- bdd_cases[bdd_cases$cluster_case==list_p[i],]\n",
    "    subset_identified <- temp$subset\n",
    "    temp0 <- bdd_control[bdd_control$subset==temp$subset,]\n",
    "    temp_final <- rbind(temp,temp0)\n",
    "    temp_final$cluster_case <- list_p[i]\n",
    "    temp_final=temp_final %>%\n",
    "        group_by(cluster_case) %>%\n",
    "        mutate(age_diff = abs(age - age[${phenoCol}==\"1\"]))\n",
    "    temp_final$age_match <- ifelse(temp_final$age_diff<=2,\"accept\",\"delete\")\n",
    "    temp_final <- temp_final[temp_final$age_match==\"accept\",]\n",
    "    temp_final$age_match <- NULL\n",
    "    bdd_temp <- rbind(data.frame(bdd_temp),data.frame(temp_final))\n",
    "    }\n",
    "    # Step 3. Create the variables total control per case and frequency of controls\n",
    "    bdd_temp1 = bdd_temp %>% group_by(cluster_case) %>% mutate(total_control_per_case = n()-1)\n",
    "    bdd_temp1$case_ind <- bdd_temp1$${phenoCol}\n",
    "    bdd_temp1$case_control <- ifelse(bdd_temp$${phenoCol}==\"1\",\"case\",\"control\")\n",
    "    bdd_temp1 <- subset(bdd_temp1, select=c(cluster_case, IID, ${phenoCol}, case_ind,case_control,\n",
    "                     ${paths(covarCol):,}, age_diff, total_control_per_case))\n",
    "    bdd_temp1 = bdd_temp1 %>% group_by(IID) %>% mutate(freq_of_controls = n())\n",
    "    print(\"Visualizing data with number of total controls per case and frequency of controls\")\n",
    "    head(bdd_temp1)\n",
    "    # Step 4. Ordering variables \n",
    "    bdd_temp1<-bdd_temp1[order(bdd_temp1$cluster_case,bdd_temp1$case_control,bdd_temp1$sex,\n",
    "                         bdd_temp1$age_diff,bdd_temp1$freq_of_controls),]\n",
    "    # Step5. Case-control matching\n",
    "    final_data <- optimal_matching(bdd_temp1, n_con=${n_con}, cluster_case, IID, \n",
    "                               total_control_per_case, case_control, with_replacement = FALSE)\n",
    "    ##look at how many controls are matched per case\n",
    "    final_data = final_data %>% group_by(cluster_case) %>% mutate(total_control_matched = n()-1)\n",
    "    print(\"Table of the number of controls matched per case\")\n",
    "    table(final_data$case_control,final_data$total_control_matched)\n",
    "    print(\"The total number of individuals in the final sample is:\", nrow(final_data))\n",
    "    write.table(final_data, file=${_output[0]:r}, quote=F, row.names=F, sep=\" \", col.names=T)\n",
    "    ${phenoCol}_match<- final_data %>% mutate (FID = IID) %>% \n",
    "                             select ('FID', 'IID','sex', '${phenoCol}', 'age', 'cluster_case')\n",
    "    print(\"Creating output phenotype file\")\n",
    "    write.table(final_data, file=${_output[1]:r}, quote=F, row.names=F, sep=\" \", col.names=T)"
   ]
  },
  {
   "cell_type": "code",
   "execution_count": null,
   "id": "801ffacd-20f2-4f0f-922f-8dd0a57784f1",
   "metadata": {
    "kernel": "SoS"
   },
   "outputs": [],
   "source": [
    "[plots]\n",
    "parameter: cont_var = ['age']\n",
    "parameter: disc_var = \n",
    "input:\n",
    "output: f'{cwd}/{_input:bnn}.ccmatched.hist.png', f'{cwd}/{_input:bnn}.ccmatched.hist.png'\n",
    "task: trunk_workers = 1, trunk_size = job_size, walltime = walltime, mem = mem, cores = numThreads, tags = f'{step_name}_{_output[0]:bn}'\n",
    "R:  expand = \"${ }\", stderr = f'{_output[0]:n}.stderr', stdout = f'{_output[0]:n}.stdout'\n",
    "    library('ggplot2')\n",
    "    matched_data <- read.table(${_input[0]:r}, header=T)\n",
    "    print(\"Plotting distribution of ${cont_var[0]} for ${phenoCol} cases and controls\")\n",
    "    ggplot(matched_data,aes(x=${cont_var[0]})) + \n",
    "    geom_histogram(data=subset(matched_data,${phenoCol}== '1'),fill = \"red\", alpha = 0.2) +\n",
    "    geom_histogram(data=subset(matched_data,${phenoCol} == '0'),fill = \"blue\", alpha = 0.2) "
   ]
  },
  {
   "cell_type": "code",
   "execution_count": null,
   "id": "3aa90465-7037-4f71-9f01-7c53dcd0df0d",
   "metadata": {
    "kernel": "SoS"
   },
   "outputs": [],
   "source": [
    "', '.join(['\"%s\"' % w for w in words])\n",
    "'\"' + '\",\"'.join(words) + '\"'\n"
   ]
  },
  {
   "cell_type": "code",
   "execution_count": 1,
   "id": "1aa4580b-11f1-4e04-af91-7b46530bef33",
   "metadata": {
    "kernel": "Bash",
    "tags": []
   },
   "outputs": [],
   "source": [
    "module load Singularity"
   ]
  },
  {
   "cell_type": "code",
   "execution_count": 61,
   "id": "ce772d96-2f0c-4f87-8c5a-135be2610bde",
   "metadata": {
    "kernel": "Bash",
    "tags": []
   },
   "outputs": [
    {
     "name": "stdout",
     "output_type": "stream",
     "text": [
      "INFO: Running \u001b[32mmatch\u001b[0m: \n",
      "INFO: \u001b[32mmatch\u001b[0m is \u001b[32mcompleted\u001b[0m.\n",
      "\u001b[91mERROR\u001b[0m: \u001b[91m[match]: [match]: Output target /home/dmc2245/matching_test/090321_UKBB_Hearing_aid_f3393_expandedwhite_6436cases_96601ctrl_PC1_2.ccmatched does not exist after the completion of step match\u001b[0m\n"
     ]
    },
    {
     "ename": "",
     "evalue": "1",
     "output_type": "error",
     "traceback": []
    }
   ],
   "source": [
    "sos run frequency_match.ipynb match\\\n",
    "    --cwd ~/matching_test\\\n",
    "    --phenoFile ~/UKBiobank/phenotype_files/hearing_impairment/090321_UKBB_Hearing_aid_f3393_expandedwhite_6436cases_96601ctrl_PC1_2.tsv \\\n",
    "    --phenoCol f3393 \\\n",
    "    --covarCol sex age"
   ]
  },
  {
   "cell_type": "code",
   "execution_count": null,
   "id": "22009662-ec57-41e6-a9fd-c85983cb3e21",
   "metadata": {
    "kernel": "Bash"
   },
   "outputs": [],
   "source": []
  }
 ],
 "metadata": {
  "kernelspec": {
   "display_name": "SoS",
   "language": "sos",
   "name": "sos"
  },
  "language_info": {
   "codemirror_mode": "sos",
   "file_extension": ".sos",
   "mimetype": "text/x-sos",
   "name": "sos",
   "nbconvert_exporter": "sos_notebook.converter.SoS_Exporter",
   "pygments_lexer": "sos"
  },
  "sos": {
   "kernels": [
    [
     "Bash",
     "calysto_bash",
     "Bash",
     "#E6EEFF",
     "shell"
    ],
    [
     "SoS",
     "sos",
     "",
     "",
     "sos"
    ]
   ],
   "version": "0.22.6"
  },
  "toc-autonumbering": false
 },
 "nbformat": 4,
 "nbformat_minor": 5
}
