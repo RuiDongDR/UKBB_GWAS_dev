{
 "cells": [
  {
   "cell_type": "markdown",
   "id": "416af661-3ebb-42a2-8180-ea9eb31a2b6c",
   "metadata": {
    "kernel": "SoS",
    "tags": []
   },
   "source": [
    "# Permutaiton Test for some vairants and 4 phenotypes"
   ]
  },
  {
   "cell_type": "markdown",
   "id": "f495c5ee-c649-4d71-b683-034e8dd70c24",
   "metadata": {
    "kernel": "SoS"
   },
   "source": [
    "Target variants are listed:\n",
    "\n",
    "Discovery:\n",
    "```\n",
    "chr5:272741:A:G\n",
    "chr5:272748:G:C\n",
    "chr5:272755:A:G\n",
    "chr6:43301291:A:C\n",
    "chr6:43305866:A:G\n",
    "chr6:75841299:A:G\n",
    "```\n",
    "\n",
    "Mega:\n",
    "```\n",
    "chr1:46001049:T:C\n",
    "chr1:46021880:G:A\n",
    "chr1:46027788:T:G\n",
    "chr1:46132597:C:A\n",
    "chr5:73776529:T:C\n",
    "chr5:73780632:G:A\n",
    "chr5:73780649:GT:G\n",
    "chr5:73780686:C:A\n",
    "chr5:73794436:T:C\n",
    "chr5:73795301:T:A\n",
    "chr5:73795403:C:T\n",
    "chr6:43308652:G:A\n",
    "chr6:75841299:A:G\n",
    "chr7:73573024:C:T\n",
    "chr7:73605645:A:G\n",
    "chr22:38086345:GTGCGGGAGCGGGACTGGCCATCCCAGTACTCCGAGGGTGCTA:G\n",
    "chr22:50549676:G:A\n",
    "\n",
    "or in rsid\n",
    "\n",
    "rs7714670\n",
    "rs11949860\n",
    "rs35525194\n",
    "rs6453022\n",
    "rs7716253\n",
    "rs2973549\n",
    "rs2973548\n",
    "rs121912560\n",
    "rs11589562\n",
    "rs2275426\n",
    "rs1707336\n",
    "rs1707304\n",
    "rs2254303\n",
    "rs61010704\n",
    "rs371997714\n",
    "rs36062310\n",
    "rs146694394\n",
    "rs2286276\n",
    "```"
   ]
  },
  {
   "cell_type": "code",
   "execution_count": 8,
   "id": "ad850bde-aae4-456a-a383-df45d402015f",
   "metadata": {
    "kernel": "Bash",
    "tags": []
   },
   "outputs": [
    {
     "name": "stdout",
     "output_type": "stream",
     "text": [
      "chr5:272741:A:G\n",
      "chr5:272748:G:C\n",
      "chr5:272755:A:G\n",
      "chr6:43301291:A:C\n",
      "chr6:43305866:A:G\n",
      "chr6:75841299:A:G\n"
     ]
    }
   ],
   "source": [
    "cat > /mnt/mfs/statgen/guangyou/20220314_permutation/files/variants_mega.txt <<EOF\n",
    "chr5:272741:A:G\n",
    "chr5:272748:G:C\n",
    "chr5:272755:A:G\n",
    "chr6:43301291:A:C\n",
    "chr6:43305866:A:G\n",
    "chr6:75841299:A:G\n",
    "EOF\n",
    "cat /mnt/mfs/statgen/guangyou/20220314_permutation/files/variants_mega.txt"
   ]
  },
  {
   "cell_type": "code",
   "execution_count": 9,
   "id": "ad29e974-cc8f-4a46-af46-76ec9f8bed16",
   "metadata": {
    "kernel": "Bash"
   },
   "outputs": [
    {
     "name": "stdout",
     "output_type": "stream",
     "text": [
      "PLINK v1.90b6.21 64-bit (19 Oct 2020)          www.cog-genomics.org/plink/1.9/\n",
      "(C) 2005-2020 Shaun Purcell, Christopher Chang   GNU General Public License v3\n",
      "Logging to /mnt/mfs/statgen/guangyou/20220314_permutation/files/genome_discovery_chr5.log.\n",
      "Options in effect:\n",
      "  --bfile /mnt/mfs/statgen/UKBiobank/data/exome_files/project_VCF/072721_run/plink/ukb23156_c5.merged.filtered\n",
      "  --extract /mnt/mfs/statgen/guangyou/20220314_permutation/files/variants_discovery.txt\n",
      "  --make-bed\n",
      "  --out /mnt/mfs/statgen/guangyou/20220314_permutation/files/genome_discovery_chr5\n",
      "\n",
      "515677 MB RAM detected; reserving 257838 MB for main workspace.\n",
      "Allocated 34416 MB successfully, after larger attempt(s) failed.\n",
      "688207 variants loaded from .bim file.\n",
      "200643 people (0 males, 0 females, 200643 ambiguous) loaded from .fam.\n",
      "Ambiguous sex IDs written to\n",
      "/mnt/mfs/statgen/guangyou/20220314_permutation/files/genome_discovery_chr5.nosex\n",
      ".\n",
      "--extract: 3 variants remaining.\n",
      "Using 1 thread (no multithreaded calculations invoked).\n",
      "Before main variant filters, 200643 founders and 0 nonfounders present.\n",
      "Calculating allele frequencies... 10111213141516171819202122232425262728293031323334353637383940414243444546474849505152535455565758596061626364656667686970717273747576777879808182838485868788899091929394959697989 done.\n",
      "Total genotyping rate is 0.999801.\n",
      "3 variants and 200643 people pass filters and QC.\n",
      "Note: No phenotypes present.\n",
      "--make-bed to\n",
      "/mnt/mfs/statgen/guangyou/20220314_permutation/files/genome_discovery_chr5.bed\n",
      "+\n",
      "/mnt/mfs/statgen/guangyou/20220314_permutation/files/genome_discovery_chr5.bim\n",
      "+\n",
      "/mnt/mfs/statgen/guangyou/20220314_permutation/files/genome_discovery_chr5.fam\n",
      "... 101112131415161718192021222324252627282930313233343536373839404142434445464748495051525354555657585960616263646566676869707172737475767778798081828384858687888990919293949596979899done.\n",
      "PLINK v1.90b6.21 64-bit (19 Oct 2020)          www.cog-genomics.org/plink/1.9/\n",
      "(C) 2005-2020 Shaun Purcell, Christopher Chang   GNU General Public License v3\n",
      "Logging to /mnt/mfs/statgen/guangyou/20220314_permutation/files/genome_discovery_chr6.log.\n",
      "Options in effect:\n",
      "  --bfile /mnt/mfs/statgen/UKBiobank/data/exome_files/project_VCF/072721_run/plink/ukb23156_c6.merged.filtered\n",
      "  --extract /mnt/mfs/statgen/guangyou/20220314_permutation/files/variants_discovery.txt\n",
      "  --make-bed\n",
      "  --out /mnt/mfs/statgen/guangyou/20220314_permutation/files/genome_discovery_chr6\n",
      "\n",
      "515677 MB RAM detected; reserving 257838 MB for main workspace.\n",
      "Allocated 34416 MB successfully, after larger attempt(s) failed.\n",
      "774293 variants loaded from .bim file.\n",
      "200643 people (0 males, 0 females, 200643 ambiguous) loaded from .fam.\n",
      "Ambiguous sex IDs written to\n",
      "/mnt/mfs/statgen/guangyou/20220314_permutation/files/genome_discovery_chr6.nosex\n",
      ".\n",
      "--extract: 3 variants remaining.\n",
      "Using 1 thread (no multithreaded calculations invoked).\n",
      "Before main variant filters, 200643 founders and 0 nonfounders present.\n",
      "Calculating allele frequencies... 10111213141516171819202122232425262728293031323334353637383940414243444546474849505152535455565758596061626364656667686970717273747576777879808182838485868788899091929394959697989 done.\n",
      "Total genotyping rate is 0.999875.\n",
      "3 variants and 200643 people pass filters and QC.\n",
      "Note: No phenotypes present.\n",
      "--make-bed to\n",
      "/mnt/mfs/statgen/guangyou/20220314_permutation/files/genome_discovery_chr6.bed\n",
      "+\n",
      "/mnt/mfs/statgen/guangyou/20220314_permutation/files/genome_discovery_chr6.bim\n",
      "+\n",
      "/mnt/mfs/statgen/guangyou/20220314_permutation/files/genome_discovery_chr6.fam\n",
      "... 101112131415161718192021222324252627282930313233343536373839404142434445464748495051525354555657585960616263646566676869707172737475767778798081828384858687888990919293949596979899done.\n"
     ]
    }
   ],
   "source": [
    "i=5\n",
    "plink \\\n",
    "--bfile /mnt/mfs/statgen/UKBiobank/data/exome_files/project_VCF/072721_run/plink/ukb23156_c${i}.merged.filtered \\\n",
    "--extract /mnt/mfs/statgen/guangyou/20220314_permutation/files/variants_discovery.txt \\\n",
    "--make-bed \\\n",
    "--out /mnt/mfs/statgen/guangyou/20220314_permutation/files/genome_discovery_chr${i}\n",
    "i=6\n",
    "plink \\\n",
    "--bfile /mnt/mfs/statgen/UKBiobank/data/exome_files/project_VCF/072721_run/plink/ukb23156_c${i}.merged.filtered \\\n",
    "--extract /mnt/mfs/statgen/guangyou/20220314_permutation/files/variants_discovery.txt \\\n",
    "--make-bed \\\n",
    "--out /mnt/mfs/statgen/guangyou/20220314_permutation/files/genome_discovery_chr${i}"
   ]
  },
  {
   "cell_type": "code",
   "execution_count": 10,
   "id": "e16fc973-9350-4162-bec1-2adbdc85fb71",
   "metadata": {
    "kernel": "Bash"
   },
   "outputs": [
    {
     "name": "stdout",
     "output_type": "stream",
     "text": [
      "PLINK v1.90b6.21 64-bit (19 Oct 2020)          www.cog-genomics.org/plink/1.9/\n",
      "(C) 2005-2020 Shaun Purcell, Christopher Chang   GNU General Public License v3\n",
      "Logging to /mnt/mfs/statgen/guangyou/20220314_permutation/files/genome_discovery.log.\n",
      "Options in effect:\n",
      "  --bfile /mnt/mfs/statgen/guangyou/20220314_permutation/files/genome_discovery_chr5\n",
      "  --make-bed\n",
      "  --merge-list /mnt/mfs/statgen/guangyou/20220314_permutation/files/mergelist.txt\n",
      "  --out /mnt/mfs/statgen/guangyou/20220314_permutation/files/genome_discovery\n",
      "\n",
      "515677 MB RAM detected; reserving 257838 MB for main workspace.\n",
      "Allocated 34416 MB successfully, after larger attempt(s) failed.\n",
      "Performing single-pass merge (200643 people, 6 variants).\n",
      "Merged fileset written to                     \n",
      "/mnt/mfs/statgen/guangyou/20220314_permutation/files/genome_discovery-merge.bed\n",
      "+\n",
      "/mnt/mfs/statgen/guangyou/20220314_permutation/files/genome_discovery-merge.bim\n",
      "+\n",
      "/mnt/mfs/statgen/guangyou/20220314_permutation/files/genome_discovery-merge.fam\n",
      ".\n",
      "6 variants loaded from .bim file.\n",
      "200643 people (0 males, 0 females, 200643 ambiguous) loaded from .fam.\n",
      "Ambiguous sex IDs written to\n",
      "/mnt/mfs/statgen/guangyou/20220314_permutation/files/genome_discovery.nosex .\n",
      "Using 1 thread (no multithreaded calculations invoked).\n",
      "Before main variant filters, 200643 founders and 0 nonfounders present.\n",
      "Calculating allele frequencies... 10111213141516171819202122232425262728293031323334353637383940414243444546474849505152535455565758596061626364656667686970717273747576777879808182838485868788899091929394959697989 done.\n",
      "Total genotyping rate is 0.999838.\n",
      "6 variants and 200643 people pass filters and QC.\n",
      "Note: No phenotypes present.\n",
      "--make-bed to\n",
      "/mnt/mfs/statgen/guangyou/20220314_permutation/files/genome_discovery.bed +\n",
      "/mnt/mfs/statgen/guangyou/20220314_permutation/files/genome_discovery.bim +\n",
      "/mnt/mfs/statgen/guangyou/20220314_permutation/files/genome_discovery.fam ...\n",
      "101112131415161718192021222324252627282930313233343536373839404142434445464748495051525354555657585960616263646566676869707172737475767778798081828384858687888990919293949596979899done.\n"
     ]
    }
   ],
   "source": [
    "echo /mnt/mfs/statgen/guangyou/20220314_permutation/files/genome_discovery_chr6 > /mnt/mfs/statgen/guangyou/20220314_permutation/files/mergelist.txt\n",
    "plink \\\n",
    "--bfile /mnt/mfs/statgen/guangyou/20220314_permutation/files/genome_discovery_chr5 \\\n",
    "--merge-list /mnt/mfs/statgen/guangyou/20220314_permutation/files/mergelist.txt \\\n",
    "--make-bed \\\n",
    "--out /mnt/mfs/statgen/guangyou/20220314_permutation/files/genome_discovery"
   ]
  },
  {
   "cell_type": "code",
   "execution_count": null,
   "id": "236ed063-ad0e-43c0-a708-4b939b193c5c",
   "metadata": {
    "kernel": "Bash"
   },
   "outputs": [],
   "source": [
    "cat > /mnt/mfs/statgen/guangyou/20220314_permutation/files/variants_mega.txt <<EOF\n",
    "rs7714670\n",
    "rs11949860\n",
    "rs35525194\n",
    "rs6453022\n",
    "rs7716253\n",
    "rs2973549\n",
    "rs2973548\n",
    "rs121912560\n",
    "rs11589562\n",
    "rs2275426\n",
    "rs1707336\n",
    "rs1707304\n",
    "rs2254303\n",
    "rs61010704\n",
    "rs371997714\n",
    "rs36062310\n",
    "rs146694394\n",
    "rs2286276\n",
    "EOF\n",
    "cat /mnt/mfs/statgen/guangyou/20220314_permutation/files/variants_mega.txt"
   ]
  },
  {
   "cell_type": "code",
   "execution_count": 12,
   "id": "def20d74-d3ea-4ba4-b6bd-1f56eabb12b2",
   "metadata": {
    "kernel": "Bash"
   },
   "outputs": [
    {
     "name": "stdout",
     "output_type": "stream",
     "text": [
      "PLINK v1.90b6.21 64-bit (19 Oct 2020)          www.cog-genomics.org/plink/1.9/\n",
      "(C) 2005-2020 Shaun Purcell, Christopher Chang   GNU General Public License v3\n",
      "Logging to /mnt/mfs/statgen/guangyou/20220314_permutation/files/genome_mega_chr1.log.\n",
      "Options in effect:\n",
      "  --bfile /mnt/mfs/statgen/UKBiobank/data/exome_files/project_VCF/072721_run/plink/ukb23156_c1.merged.filtered\n",
      "  --extract /mnt/mfs/statgen/guangyou/20220314_permutation/files/variants_mega.txt\n",
      "  --make-bed\n",
      "  --out /mnt/mfs/statgen/guangyou/20220314_permutation/files/genome_mega_chr1\n",
      "\n",
      "257630 MB RAM detected; reserving 128815 MB for main workspace.\n",
      "Allocated 17193 MB successfully, after larger attempt(s) failed.\n",
      "1587094 variants loaded from .bim file.\n",
      "200643 people (0 males, 0 females, 200643 ambiguous) loaded from .fam.\n",
      "Ambiguous sex IDs written to\n",
      "/mnt/mfs/statgen/guangyou/20220314_permutation/files/genome_mega_chr1.nosex .\n",
      "--extract: 4 variants remaining.\n",
      "Using 1 thread (no multithreaded calculations invoked).\n",
      "Before main variant filters, 200643 founders and 0 nonfounders present.\n",
      "Calculating allele frequencies... 10111213141516171819202122232425262728293031323334353637383940414243444546474849505152535455565758596061626364656667686970717273747576777879808182838485868788899091929394959697989 done.\n",
      "Total genotyping rate is 0.986868.\n",
      "4 variants and 200643 people pass filters and QC.\n",
      "Note: No phenotypes present.\n",
      "--make-bed to\n",
      "/mnt/mfs/statgen/guangyou/20220314_permutation/files/genome_mega_chr1.bed +\n",
      "/mnt/mfs/statgen/guangyou/20220314_permutation/files/genome_mega_chr1.bim +\n",
      "/mnt/mfs/statgen/guangyou/20220314_permutation/files/genome_mega_chr1.fam ...\n",
      "101112131415161718192021222324252627282930313233343536373839404142434445464748495051525354555657585960616263646566676869707172737475767778798081828384858687888990919293949596979899done.\n",
      "PLINK v1.90b6.21 64-bit (19 Oct 2020)          www.cog-genomics.org/plink/1.9/\n",
      "(C) 2005-2020 Shaun Purcell, Christopher Chang   GNU General Public License v3\n",
      "Logging to /mnt/mfs/statgen/guangyou/20220314_permutation/files/genome_mega_chr5.log.\n",
      "Options in effect:\n",
      "  --bfile /mnt/mfs/statgen/UKBiobank/data/exome_files/project_VCF/072721_run/plink/ukb23156_c5.merged.filtered\n",
      "  --extract /mnt/mfs/statgen/guangyou/20220314_permutation/files/variants_mega.txt\n",
      "  --make-bed\n",
      "  --out /mnt/mfs/statgen/guangyou/20220314_permutation/files/genome_mega_chr5\n",
      "\n",
      "257630 MB RAM detected; reserving 128815 MB for main workspace.\n",
      "Allocated 17193 MB successfully, after larger attempt(s) failed.\n",
      "688207 variants loaded from .bim file.\n",
      "200643 people (0 males, 0 females, 200643 ambiguous) loaded from .fam.\n",
      "Ambiguous sex IDs written to\n",
      "/mnt/mfs/statgen/guangyou/20220314_permutation/files/genome_mega_chr5.nosex .\n",
      "--extract: 7 variants remaining.\n",
      "Using 1 thread (no multithreaded calculations invoked).\n",
      "Before main variant filters, 200643 founders and 0 nonfounders present.\n",
      "Calculating allele frequencies... 10111213141516171819202122232425262728293031323334353637383940414243444546474849505152535455565758596061626364656667686970717273747576777879808182838485868788899091929394959697989 done.\n",
      "Total genotyping rate is 0.995282.\n",
      "7 variants and 200643 people pass filters and QC.\n",
      "Note: No phenotypes present.\n",
      "--make-bed to\n",
      "/mnt/mfs/statgen/guangyou/20220314_permutation/files/genome_mega_chr5.bed +\n",
      "/mnt/mfs/statgen/guangyou/20220314_permutation/files/genome_mega_chr5.bim +\n",
      "/mnt/mfs/statgen/guangyou/20220314_permutation/files/genome_mega_chr5.fam ...\n",
      "101112131415161718192021222324252627282930313233343536373839404142434445464748495051525354555657585960616263646566676869707172737475767778798081828384858687888990919293949596979899done.\n",
      "PLINK v1.90b6.21 64-bit (19 Oct 2020)          www.cog-genomics.org/plink/1.9/\n",
      "(C) 2005-2020 Shaun Purcell, Christopher Chang   GNU General Public License v3\n",
      "Logging to /mnt/mfs/statgen/guangyou/20220314_permutation/files/genome_mega_chr6.log.\n",
      "Options in effect:\n",
      "  --bfile /mnt/mfs/statgen/UKBiobank/data/exome_files/project_VCF/072721_run/plink/ukb23156_c6.merged.filtered\n",
      "  --extract /mnt/mfs/statgen/guangyou/20220314_permutation/files/variants_mega.txt\n",
      "  --make-bed\n",
      "  --out /mnt/mfs/statgen/guangyou/20220314_permutation/files/genome_mega_chr6\n",
      "\n",
      "257630 MB RAM detected; reserving 128815 MB for main workspace.\n",
      "Allocated 17193 MB successfully, after larger attempt(s) failed.\n",
      "774293 variants loaded from .bim file.\n",
      "200643 people (0 males, 0 females, 200643 ambiguous) loaded from .fam.\n",
      "Ambiguous sex IDs written to\n",
      "/mnt/mfs/statgen/guangyou/20220314_permutation/files/genome_mega_chr6.nosex .\n",
      "--extract: 2 variants remaining.\n",
      "Using 1 thread (no multithreaded calculations invoked).\n",
      "Before main variant filters, 200643 founders and 0 nonfounders present.\n",
      "Calculating allele frequencies... 10111213141516171819202122232425262728293031323334353637383940414243444546474849505152535455565758596061626364656667686970717273747576777879808182838485868788899091929394959697989 done.\n",
      "Total genotyping rate is 0.989753.\n",
      "2 variants and 200643 people pass filters and QC.\n",
      "Note: No phenotypes present.\n",
      "--make-bed to\n",
      "/mnt/mfs/statgen/guangyou/20220314_permutation/files/genome_mega_chr6.bed +\n",
      "/mnt/mfs/statgen/guangyou/20220314_permutation/files/genome_mega_chr6.bim +\n",
      "/mnt/mfs/statgen/guangyou/20220314_permutation/files/genome_mega_chr6.fam ...\n",
      "101112131415161718192021222324252627282930313233343536373839404142434445464748495051525354555657585960616263646566676869707172737475767778798081828384858687888990919293949596979899done.\n",
      "PLINK v1.90b6.21 64-bit (19 Oct 2020)          www.cog-genomics.org/plink/1.9/\n",
      "(C) 2005-2020 Shaun Purcell, Christopher Chang   GNU General Public License v3\n",
      "Logging to /mnt/mfs/statgen/guangyou/20220314_permutation/files/genome_mega_chr7.log.\n",
      "Options in effect:\n",
      "  --bfile /mnt/mfs/statgen/UKBiobank/data/exome_files/project_VCF/072721_run/plink/ukb23156_c7.merged.filtered\n",
      "  --extract /mnt/mfs/statgen/guangyou/20220314_permutation/files/variants_mega.txt\n",
      "  --make-bed\n",
      "  --out /mnt/mfs/statgen/guangyou/20220314_permutation/files/genome_mega_chr7\n",
      "\n",
      "257630 MB RAM detected; reserving 128815 MB for main workspace.\n",
      "Allocated 17193 MB successfully, after larger attempt(s) failed.\n",
      "755366 variants loaded from .bim file.\n",
      "200643 people (0 males, 0 females, 200643 ambiguous) loaded from .fam.\n",
      "Ambiguous sex IDs written to\n",
      "/mnt/mfs/statgen/guangyou/20220314_permutation/files/genome_mega_chr7.nosex .\n",
      "--extract: 2 variants remaining.\n",
      "Using 1 thread (no multithreaded calculations invoked).\n",
      "Before main variant filters, 200643 founders and 0 nonfounders present.\n",
      "Calculating allele frequencies... 10111213141516171819202122232425262728293031323334353637383940414243444546474849505152535455565758596061626364656667686970717273747576777879808182838485868788899091929394959697989 done.\n",
      "Total genotyping rate is 0.999198.\n",
      "2 variants and 200643 people pass filters and QC.\n",
      "Note: No phenotypes present.\n",
      "--make-bed to\n",
      "/mnt/mfs/statgen/guangyou/20220314_permutation/files/genome_mega_chr7.bed +\n",
      "/mnt/mfs/statgen/guangyou/20220314_permutation/files/genome_mega_chr7.bim +\n",
      "/mnt/mfs/statgen/guangyou/20220314_permutation/files/genome_mega_chr7.fam ...\n",
      "101112131415161718192021222324252627282930313233343536373839404142434445464748495051525354555657585960616263646566676869707172737475767778798081828384858687888990919293949596979899done.\n",
      "PLINK v1.90b6.21 64-bit (19 Oct 2020)          www.cog-genomics.org/plink/1.9/\n",
      "(C) 2005-2020 Shaun Purcell, Christopher Chang   GNU General Public License v3\n",
      "Logging to /mnt/mfs/statgen/guangyou/20220314_permutation/files/genome_mega_chr22.log.\n",
      "Options in effect:\n",
      "  --bfile /mnt/mfs/statgen/UKBiobank/data/exome_files/project_VCF/072721_run/plink/ukb23156_c22.merged.filtered\n",
      "  --extract /mnt/mfs/statgen/guangyou/20220314_permutation/files/variants_mega.txt\n",
      "  --make-bed\n",
      "  --out /mnt/mfs/statgen/guangyou/20220314_permutation/files/genome_mega_chr22\n",
      "\n",
      "257630 MB RAM detected; reserving 128815 MB for main workspace.\n",
      "Allocated 17193 MB successfully, after larger attempt(s) failed.\n",
      "379886 variants loaded from .bim file.\n",
      "200643 people (0 males, 0 females, 200643 ambiguous) loaded from .fam.\n",
      "Ambiguous sex IDs written to\n",
      "/mnt/mfs/statgen/guangyou/20220314_permutation/files/genome_mega_chr22.nosex .\n",
      "--extract: 2 variants remaining.\n",
      "Using 1 thread (no multithreaded calculations invoked).\n",
      "Before main variant filters, 200643 founders and 0 nonfounders present.\n",
      "Calculating allele frequencies... 10111213141516171819202122232425262728293031323334353637383940414243444546474849505152535455565758596061626364656667686970717273747576777879808182838485868788899091929394959697989 done.\n",
      "Total genotyping rate is 0.977871.\n",
      "2 variants and 200643 people pass filters and QC.\n",
      "Note: No phenotypes present.\n",
      "--make-bed to\n",
      "/mnt/mfs/statgen/guangyou/20220314_permutation/files/genome_mega_chr22.bed +\n",
      "/mnt/mfs/statgen/guangyou/20220314_permutation/files/genome_mega_chr22.bim +\n",
      "/mnt/mfs/statgen/guangyou/20220314_permutation/files/genome_mega_chr22.fam ...\n",
      "101112131415161718192021222324252627282930313233343536373839404142434445464748495051525354555657585960616263646566676869707172737475767778798081828384858687888990919293949596979899done.\n"
     ]
    }
   ],
   "source": [
    "i=1\n",
    "qctool -g ~/UKBiobank_Yale_transfer/ukb39554_imputeddataset/ukb_imp_chr${i}_v3.bgen \\\n",
    "-s ~/UKBiobank_Yale_transfer/ukb39554_imputeddataset/ukb32285_imputedindiv.sample \\\n",
    "-incl-rsids /mnt/mfs/statgen/guangyou/20220314_permutation/files/variants_mega.txt \\\n",
    "-og /mnt/mfs/statgen/guangyou/20220314_permutation/files/genome_mega_chr${i}.bgen \\\n",
    "-ofiletype bgen\n",
    "\n",
    "i=5\n",
    "qctool -g ~/UKBiobank_Yale_transfer/ukb39554_imputeddataset/ukb_imp_chr${i}_v3.bgen \\\n",
    "-s ~/UKBiobank_Yale_transfer/ukb39554_imputeddataset/ukb32285_imputedindiv.sample \\\n",
    "-incl-rsids /mnt/mfs/statgen/guangyou/20220314_permutation/files/variants_mega.txt \\\n",
    "-og /mnt/mfs/statgen/guangyou/20220314_permutation/files/genome_mega_chr${i}.bgen \\\n",
    "-ofiletype bgen\n",
    "i=6\n",
    "qctool -g ~/UKBiobank_Yale_transfer/ukb39554_imputeddataset/ukb_imp_chr${i}_v3.bgen \\\n",
    "-s ~/UKBiobank_Yale_transfer/ukb39554_imputeddataset/ukb32285_imputedindiv.sample \\\n",
    "-incl-rsids /mnt/mfs/statgen/guangyou/20220314_permutation/files/variants_mega.txt \\\n",
    "-og /mnt/mfs/statgen/guangyou/20220314_permutation/files/genome_mega_chr${i}.bgen \\\n",
    "-ofiletype bgen\n",
    "i=7\n",
    "qctool -g ~/UKBiobank_Yale_transfer/ukb39554_imputeddataset/ukb_imp_chr${i}_v3.bgen \\\n",
    "-s ~/UKBiobank_Yale_transfer/ukb39554_imputeddataset/ukb32285_imputedindiv.sample \\\n",
    "-incl-rsids /mnt/mfs/statgen/guangyou/20220314_permutation/files/variants_mega.txt \\\n",
    "-og /mnt/mfs/statgen/guangyou/20220314_permutation/files/genome_mega_chr${i}.bgen \\\n",
    "-ofiletype bgen\n",
    "i=22\n",
    "qctool -g ~/UKBiobank_Yale_transfer/ukb39554_imputeddataset/ukb_imp_chr${i}_v3.bgen \\\n",
    "-s ~/UKBiobank_Yale_transfer/ukb39554_imputeddataset/ukb32285_imputedindiv.sample \\\n",
    "-incl-rsids /mnt/mfs/statgen/guangyou/20220314_permutation/files/variants_mega.txt \\\n",
    "-og /mnt/mfs/statgen/guangyou/20220314_permutation/files/genome_mega_chr${i}.bgen \\\n",
    "-ofiletype bgen"
   ]
  },
  {
   "cell_type": "code",
   "execution_count": 101,
   "id": "13b3507a-201d-487f-a2ed-b7d3926fb167",
   "metadata": {
    "kernel": "Bash"
   },
   "outputs": [],
   "source": [
    "cat > /mnt/mfs/statgen/guangyou/20220314_permutation/files/variants_mega_varid.txt  << EOF\n",
    "chr1:46001049:T:C\n",
    "chr1:46021880:G:A\n",
    "chr1:46027788:T:G\n",
    "chr1:46132597:C:A\n",
    "chr5:73776529:T:C\n",
    "chr5:73780632:G:A\n",
    "chr5:73780649:GT:G\n",
    "chr5:73780686:C:A\n",
    "chr5:73794436:T:C\n",
    "chr5:73795301:T:A\n",
    "chr5:73795403:C:T\n",
    "chr6:43308652:G:A\n",
    "chr6:75841299:A:G\n",
    "chr7:73573024:C:T\n",
    "chr7:73605645:A:G\n",
    "chr22:38086345:GTGCGGGAGCGGGACTGGCCATCCCAGTACTCCGAGGGTGCTA:G\n",
    "chr22:50549676:G:A\n",
    "EOF"
   ]
  },
  {
   "cell_type": "code",
   "execution_count": 18,
   "id": "4984062c-ba50-438c-9c67-647a271442f3",
   "metadata": {
    "kernel": "Python3",
    "tags": []
   },
   "outputs": [
    {
     "data": {
      "text/html": [
       "<div>\n",
       "<style scoped>\n",
       "    .dataframe tbody tr th:only-of-type {\n",
       "        vertical-align: middle;\n",
       "    }\n",
       "\n",
       "    .dataframe tbody tr th {\n",
       "        vertical-align: top;\n",
       "    }\n",
       "\n",
       "    .dataframe thead th {\n",
       "        text-align: right;\n",
       "    }\n",
       "</style>\n",
       "<table border=\"1\" class=\"dataframe\">\n",
       "  <thead>\n",
       "    <tr style=\"text-align: right;\">\n",
       "      <th></th>\n",
       "      <th>0</th>\n",
       "      <th>1</th>\n",
       "      <th>2</th>\n",
       "      <th>3</th>\n",
       "    </tr>\n",
       "  </thead>\n",
       "  <tbody>\n",
       "    <tr>\n",
       "      <th>0</th>\n",
       "      <td>chr1</td>\n",
       "      <td>46001049</td>\n",
       "      <td>T</td>\n",
       "      <td>C</td>\n",
       "    </tr>\n",
       "    <tr>\n",
       "      <th>1</th>\n",
       "      <td>chr1</td>\n",
       "      <td>46021880</td>\n",
       "      <td>G</td>\n",
       "      <td>A</td>\n",
       "    </tr>\n",
       "    <tr>\n",
       "      <th>2</th>\n",
       "      <td>chr1</td>\n",
       "      <td>46027788</td>\n",
       "      <td>T</td>\n",
       "      <td>G</td>\n",
       "    </tr>\n",
       "    <tr>\n",
       "      <th>3</th>\n",
       "      <td>chr1</td>\n",
       "      <td>46132597</td>\n",
       "      <td>C</td>\n",
       "      <td>A</td>\n",
       "    </tr>\n",
       "    <tr>\n",
       "      <th>4</th>\n",
       "      <td>chr5</td>\n",
       "      <td>73776529</td>\n",
       "      <td>T</td>\n",
       "      <td>C</td>\n",
       "    </tr>\n",
       "    <tr>\n",
       "      <th>5</th>\n",
       "      <td>chr5</td>\n",
       "      <td>73780632</td>\n",
       "      <td>G</td>\n",
       "      <td>A</td>\n",
       "    </tr>\n",
       "    <tr>\n",
       "      <th>6</th>\n",
       "      <td>chr5</td>\n",
       "      <td>73780649</td>\n",
       "      <td>GT</td>\n",
       "      <td>G</td>\n",
       "    </tr>\n",
       "    <tr>\n",
       "      <th>7</th>\n",
       "      <td>chr5</td>\n",
       "      <td>73780686</td>\n",
       "      <td>C</td>\n",
       "      <td>A</td>\n",
       "    </tr>\n",
       "    <tr>\n",
       "      <th>8</th>\n",
       "      <td>chr5</td>\n",
       "      <td>73794436</td>\n",
       "      <td>T</td>\n",
       "      <td>C</td>\n",
       "    </tr>\n",
       "    <tr>\n",
       "      <th>9</th>\n",
       "      <td>chr5</td>\n",
       "      <td>73795301</td>\n",
       "      <td>T</td>\n",
       "      <td>A</td>\n",
       "    </tr>\n",
       "    <tr>\n",
       "      <th>10</th>\n",
       "      <td>chr5</td>\n",
       "      <td>73795403</td>\n",
       "      <td>C</td>\n",
       "      <td>T</td>\n",
       "    </tr>\n",
       "    <tr>\n",
       "      <th>11</th>\n",
       "      <td>chr6</td>\n",
       "      <td>43308652</td>\n",
       "      <td>G</td>\n",
       "      <td>A</td>\n",
       "    </tr>\n",
       "    <tr>\n",
       "      <th>12</th>\n",
       "      <td>chr6</td>\n",
       "      <td>75841299</td>\n",
       "      <td>A</td>\n",
       "      <td>G</td>\n",
       "    </tr>\n",
       "    <tr>\n",
       "      <th>13</th>\n",
       "      <td>chr7</td>\n",
       "      <td>73573024</td>\n",
       "      <td>C</td>\n",
       "      <td>T</td>\n",
       "    </tr>\n",
       "    <tr>\n",
       "      <th>14</th>\n",
       "      <td>chr7</td>\n",
       "      <td>73605645</td>\n",
       "      <td>A</td>\n",
       "      <td>G</td>\n",
       "    </tr>\n",
       "    <tr>\n",
       "      <th>15</th>\n",
       "      <td>chr22</td>\n",
       "      <td>38086345</td>\n",
       "      <td>GTGCGGGAGCGGGACTGGCCATCCCAGTACTCCGAGGGTGCTA</td>\n",
       "      <td>G</td>\n",
       "    </tr>\n",
       "    <tr>\n",
       "      <th>16</th>\n",
       "      <td>chr22</td>\n",
       "      <td>50549676</td>\n",
       "      <td>G</td>\n",
       "      <td>A</td>\n",
       "    </tr>\n",
       "  </tbody>\n",
       "</table>\n",
       "</div>"
      ],
      "text/plain": [
       "        0         1                                            2  3\n",
       "0    chr1  46001049                                            T  C\n",
       "1    chr1  46021880                                            G  A\n",
       "2    chr1  46027788                                            T  G\n",
       "3    chr1  46132597                                            C  A\n",
       "4    chr5  73776529                                            T  C\n",
       "5    chr5  73780632                                            G  A\n",
       "6    chr5  73780649                                           GT  G\n",
       "7    chr5  73780686                                            C  A\n",
       "8    chr5  73794436                                            T  C\n",
       "9    chr5  73795301                                            T  A\n",
       "10   chr5  73795403                                            C  T\n",
       "11   chr6  43308652                                            G  A\n",
       "12   chr6  75841299                                            A  G\n",
       "13   chr7  73573024                                            C  T\n",
       "14   chr7  73605645                                            A  G\n",
       "15  chr22  38086345  GTGCGGGAGCGGGACTGGCCATCCCAGTACTCCGAGGGTGCTA  G\n",
       "16  chr22  50549676                                            G  A"
      ]
     },
     "execution_count": 18,
     "metadata": {},
     "output_type": "execute_result"
    }
   ],
   "source": [
    "import pandas as pd\n",
    "df = pd.read_csv(\"/mnt/mfs/statgen/guangyou/20220314_permutation/files/variants_mega_varid.txt\",sep=\":\",header=None)\n",
    "df"
   ]
  },
  {
   "cell_type": "code",
   "execution_count": 19,
   "id": "ff47a87e-0ca9-46e5-a280-8b2df05a1ac1",
   "metadata": {
    "kernel": "Python3"
   },
   "outputs": [
    {
     "data": {
      "text/html": [
       "<div>\n",
       "<style scoped>\n",
       "    .dataframe tbody tr th:only-of-type {\n",
       "        vertical-align: middle;\n",
       "    }\n",
       "\n",
       "    .dataframe tbody tr th {\n",
       "        vertical-align: top;\n",
       "    }\n",
       "\n",
       "    .dataframe thead th {\n",
       "        text-align: right;\n",
       "    }\n",
       "</style>\n",
       "<table border=\"1\" class=\"dataframe\">\n",
       "  <thead>\n",
       "    <tr style=\"text-align: right;\">\n",
       "      <th></th>\n",
       "      <th>chrom</th>\n",
       "      <th>snp</th>\n",
       "      <th>pos</th>\n",
       "      <th>a0</th>\n",
       "      <th>a1</th>\n",
       "    </tr>\n",
       "  </thead>\n",
       "  <tbody>\n",
       "    <tr>\n",
       "      <th>0</th>\n",
       "      <td>1</td>\n",
       "      <td>chr1:46466721:C:T</td>\n",
       "      <td>46466721</td>\n",
       "      <td>T</td>\n",
       "      <td>C</td>\n",
       "    </tr>\n",
       "    <tr>\n",
       "      <th>1</th>\n",
       "      <td>1</td>\n",
       "      <td>chr1:46487552:A:G</td>\n",
       "      <td>46487552</td>\n",
       "      <td>G</td>\n",
       "      <td>A</td>\n",
       "    </tr>\n",
       "    <tr>\n",
       "      <th>2</th>\n",
       "      <td>1</td>\n",
       "      <td>chr1:46493460:G:T</td>\n",
       "      <td>46493460</td>\n",
       "      <td>T</td>\n",
       "      <td>G</td>\n",
       "    </tr>\n",
       "    <tr>\n",
       "      <th>3</th>\n",
       "      <td>1</td>\n",
       "      <td>chr1:46598269:A:C</td>\n",
       "      <td>46598269</td>\n",
       "      <td>C</td>\n",
       "      <td>A</td>\n",
       "    </tr>\n",
       "    <tr>\n",
       "      <th>4</th>\n",
       "      <td>5</td>\n",
       "      <td>chr5:73072354:C:T</td>\n",
       "      <td>73072354</td>\n",
       "      <td>T</td>\n",
       "      <td>C</td>\n",
       "    </tr>\n",
       "    <tr>\n",
       "      <th>5</th>\n",
       "      <td>5</td>\n",
       "      <td>chr5:73076457:A:G</td>\n",
       "      <td>73076457</td>\n",
       "      <td>G</td>\n",
       "      <td>A</td>\n",
       "    </tr>\n",
       "    <tr>\n",
       "      <th>6</th>\n",
       "      <td>5</td>\n",
       "      <td>chr5:73076474:G:GT</td>\n",
       "      <td>73076474</td>\n",
       "      <td>GT</td>\n",
       "      <td>G</td>\n",
       "    </tr>\n",
       "    <tr>\n",
       "      <th>7</th>\n",
       "      <td>5</td>\n",
       "      <td>chr5:73076511:A:C</td>\n",
       "      <td>73076511</td>\n",
       "      <td>C</td>\n",
       "      <td>A</td>\n",
       "    </tr>\n",
       "    <tr>\n",
       "      <th>8</th>\n",
       "      <td>5</td>\n",
       "      <td>chr5:73090261:C:T</td>\n",
       "      <td>73090261</td>\n",
       "      <td>T</td>\n",
       "      <td>C</td>\n",
       "    </tr>\n",
       "    <tr>\n",
       "      <th>9</th>\n",
       "      <td>5</td>\n",
       "      <td>chr5:73091126:A:T</td>\n",
       "      <td>73091126</td>\n",
       "      <td>T</td>\n",
       "      <td>A</td>\n",
       "    </tr>\n",
       "    <tr>\n",
       "      <th>10</th>\n",
       "      <td>5</td>\n",
       "      <td>chr5:73091228:T:C</td>\n",
       "      <td>73091228</td>\n",
       "      <td>C</td>\n",
       "      <td>T</td>\n",
       "    </tr>\n",
       "    <tr>\n",
       "      <th>11</th>\n",
       "      <td>6</td>\n",
       "      <td>chr6:43276390:A:G</td>\n",
       "      <td>43276390</td>\n",
       "      <td>G</td>\n",
       "      <td>A</td>\n",
       "    </tr>\n",
       "    <tr>\n",
       "      <th>12</th>\n",
       "      <td>6</td>\n",
       "      <td>chr6:76551016:G:A</td>\n",
       "      <td>76551016</td>\n",
       "      <td>A</td>\n",
       "      <td>G</td>\n",
       "    </tr>\n",
       "    <tr>\n",
       "      <th>13</th>\n",
       "      <td>7</td>\n",
       "      <td>chr7:72987354:T:C</td>\n",
       "      <td>72987354</td>\n",
       "      <td>C</td>\n",
       "      <td>T</td>\n",
       "    </tr>\n",
       "    <tr>\n",
       "      <th>14</th>\n",
       "      <td>7</td>\n",
       "      <td>chr7:73019975:G:A</td>\n",
       "      <td>73019975</td>\n",
       "      <td>A</td>\n",
       "      <td>G</td>\n",
       "    </tr>\n",
       "    <tr>\n",
       "      <th>15</th>\n",
       "      <td>22</td>\n",
       "      <td>chr22:38482352:G:GTGCGGGAGCGGGACTGGCCATCCCAGTA...</td>\n",
       "      <td>38482352</td>\n",
       "      <td>GTGCGGGAGCGGGACTGGCCATCCCAGTACTCCGAGGGTGCTA</td>\n",
       "      <td>G</td>\n",
       "    </tr>\n",
       "    <tr>\n",
       "      <th>16</th>\n",
       "      <td>22</td>\n",
       "      <td>chr22:50988105:A:G</td>\n",
       "      <td>50988105</td>\n",
       "      <td>G</td>\n",
       "      <td>A</td>\n",
       "    </tr>\n",
       "  </tbody>\n",
       "</table>\n",
       "</div>"
      ],
      "text/plain": [
       "    chrom                                                snp       pos  \\\n",
       "0       1                                  chr1:46466721:C:T  46466721   \n",
       "1       1                                  chr1:46487552:A:G  46487552   \n",
       "2       1                                  chr1:46493460:G:T  46493460   \n",
       "3       1                                  chr1:46598269:A:C  46598269   \n",
       "4       5                                  chr5:73072354:C:T  73072354   \n",
       "5       5                                  chr5:73076457:A:G  73076457   \n",
       "6       5                                 chr5:73076474:G:GT  73076474   \n",
       "7       5                                  chr5:73076511:A:C  73076511   \n",
       "8       5                                  chr5:73090261:C:T  73090261   \n",
       "9       5                                  chr5:73091126:A:T  73091126   \n",
       "10      5                                  chr5:73091228:T:C  73091228   \n",
       "11      6                                  chr6:43276390:A:G  43276390   \n",
       "12      6                                  chr6:76551016:G:A  76551016   \n",
       "13      7                                  chr7:72987354:T:C  72987354   \n",
       "14      7                                  chr7:73019975:G:A  73019975   \n",
       "15     22  chr22:38482352:G:GTGCGGGAGCGGGACTGGCCATCCCAGTA...  38482352   \n",
       "16     22                                 chr22:50988105:A:G  50988105   \n",
       "\n",
       "                                             a0 a1  \n",
       "0                                             T  C  \n",
       "1                                             G  A  \n",
       "2                                             T  G  \n",
       "3                                             C  A  \n",
       "4                                             T  C  \n",
       "5                                             G  A  \n",
       "6                                            GT  G  \n",
       "7                                             C  A  \n",
       "8                                             T  C  \n",
       "9                                             T  A  \n",
       "10                                            C  T  \n",
       "11                                            G  A  \n",
       "12                                            A  G  \n",
       "13                                            C  T  \n",
       "14                                            A  G  \n",
       "15  GTGCGGGAGCGGGACTGGCCATCCCAGTACTCCGAGGGTGCTA  G  \n",
       "16                                            G  A  "
      ]
     },
     "execution_count": 19,
     "metadata": {},
     "output_type": "execute_result"
    }
   ],
   "source": [
    "from liftover import get_lifter\n",
    "chainmap = get_lifter('hg38', 'hg19')\n",
    "new_bim = []\n",
    "bim=df\n",
    "bim.columns=['chrom','pos','a0','a1']\n",
    "bim['chrom'] = bim['chrom'].astype(\"string\")\n",
    "bim['chrom'] = bim['chrom'].str[3:]\n",
    "for c,p,a0,a1 in zip(bim.chrom,bim.pos,bim.a0,bim.a1):\n",
    "    if chainmap[int(c)][p]==[]:\n",
    "        new_c, new_p = 0, 0\n",
    "        snp = ':'.join([str(new_c),str(new_p),a1,a0])\n",
    "        new_bim.append([int(new_c),snp,new_p,a0,a1])            \n",
    "    else:\n",
    "        new_c,new_p,_ = chainmap[int(c)][p][0]\n",
    "        if len(str(new_c))>=6:\n",
    "            new_c, new_p = 0, 0\n",
    "            snp = ':'.join([str(new_c),str(new_p),a1,a0])\n",
    "            new_bim.append([int(new_c),snp,new_p,a0,a1])\n",
    "        elif \"X\" in str(new_c) or \"Y\" in str(new_c):\n",
    "            new_c, new_p = 0, 0\n",
    "            snp = ':'.join([str(new_c),str(new_p),a1,a0])\n",
    "            new_bim.append([int(new_c),snp,new_p,a0,a1])\n",
    "        else:\n",
    "            snp = ':'.join([str(new_c),str(new_p),a1,a0])\n",
    "            new_bim.append([int(new_c[3:]),snp,new_p,a0,a1])\n",
    "new_bim = pd.DataFrame(new_bim,columns=['chrom','snp','pos','a0','a1'])\n",
    "new_bim"
   ]
  },
  {
   "cell_type": "code",
   "execution_count": 20,
   "id": "c063b836-e2ab-4435-a739-8c42733072a9",
   "metadata": {
    "kernel": "Python3"
   },
   "outputs": [
    {
     "data": {
      "text/html": [
       "<div>\n",
       "<style scoped>\n",
       "    .dataframe tbody tr th:only-of-type {\n",
       "        vertical-align: middle;\n",
       "    }\n",
       "\n",
       "    .dataframe tbody tr th {\n",
       "        vertical-align: top;\n",
       "    }\n",
       "\n",
       "    .dataframe thead th {\n",
       "        text-align: right;\n",
       "    }\n",
       "</style>\n",
       "<table border=\"1\" class=\"dataframe\">\n",
       "  <thead>\n",
       "    <tr style=\"text-align: right;\">\n",
       "      <th></th>\n",
       "      <th>chrom</th>\n",
       "      <th>snp</th>\n",
       "      <th>pos</th>\n",
       "      <th>a0</th>\n",
       "      <th>a1</th>\n",
       "      <th>varID_hg19_1</th>\n",
       "      <th>varID_hg19_2</th>\n",
       "      <th>varID_qctools</th>\n",
       "    </tr>\n",
       "  </thead>\n",
       "  <tbody>\n",
       "    <tr>\n",
       "      <th>0</th>\n",
       "      <td>1</td>\n",
       "      <td>chr1:46466721:C:T</td>\n",
       "      <td>46466721</td>\n",
       "      <td>T</td>\n",
       "      <td>C</td>\n",
       "      <td>1:46466721</td>\n",
       "      <td>T_C</td>\n",
       "      <td>1:46466721_T_C</td>\n",
       "    </tr>\n",
       "    <tr>\n",
       "      <th>1</th>\n",
       "      <td>1</td>\n",
       "      <td>chr1:46487552:A:G</td>\n",
       "      <td>46487552</td>\n",
       "      <td>G</td>\n",
       "      <td>A</td>\n",
       "      <td>1:46487552</td>\n",
       "      <td>G_A</td>\n",
       "      <td>1:46487552_G_A</td>\n",
       "    </tr>\n",
       "    <tr>\n",
       "      <th>2</th>\n",
       "      <td>1</td>\n",
       "      <td>chr1:46493460:G:T</td>\n",
       "      <td>46493460</td>\n",
       "      <td>T</td>\n",
       "      <td>G</td>\n",
       "      <td>1:46493460</td>\n",
       "      <td>T_G</td>\n",
       "      <td>1:46493460_T_G</td>\n",
       "    </tr>\n",
       "    <tr>\n",
       "      <th>3</th>\n",
       "      <td>1</td>\n",
       "      <td>chr1:46598269:A:C</td>\n",
       "      <td>46598269</td>\n",
       "      <td>C</td>\n",
       "      <td>A</td>\n",
       "      <td>1:46598269</td>\n",
       "      <td>C_A</td>\n",
       "      <td>1:46598269_C_A</td>\n",
       "    </tr>\n",
       "    <tr>\n",
       "      <th>4</th>\n",
       "      <td>5</td>\n",
       "      <td>chr5:73072354:C:T</td>\n",
       "      <td>73072354</td>\n",
       "      <td>T</td>\n",
       "      <td>C</td>\n",
       "      <td>5:73072354</td>\n",
       "      <td>T_C</td>\n",
       "      <td>5:73072354_T_C</td>\n",
       "    </tr>\n",
       "    <tr>\n",
       "      <th>5</th>\n",
       "      <td>5</td>\n",
       "      <td>chr5:73076457:A:G</td>\n",
       "      <td>73076457</td>\n",
       "      <td>G</td>\n",
       "      <td>A</td>\n",
       "      <td>5:73076457</td>\n",
       "      <td>G_A</td>\n",
       "      <td>5:73076457_G_A</td>\n",
       "    </tr>\n",
       "    <tr>\n",
       "      <th>6</th>\n",
       "      <td>5</td>\n",
       "      <td>chr5:73076474:G:GT</td>\n",
       "      <td>73076474</td>\n",
       "      <td>GT</td>\n",
       "      <td>G</td>\n",
       "      <td>5:73076474</td>\n",
       "      <td>GT_G</td>\n",
       "      <td>5:73076474_GT_G</td>\n",
       "    </tr>\n",
       "    <tr>\n",
       "      <th>7</th>\n",
       "      <td>5</td>\n",
       "      <td>chr5:73076511:A:C</td>\n",
       "      <td>73076511</td>\n",
       "      <td>C</td>\n",
       "      <td>A</td>\n",
       "      <td>5:73076511</td>\n",
       "      <td>C_A</td>\n",
       "      <td>5:73076511_C_A</td>\n",
       "    </tr>\n",
       "    <tr>\n",
       "      <th>8</th>\n",
       "      <td>5</td>\n",
       "      <td>chr5:73090261:C:T</td>\n",
       "      <td>73090261</td>\n",
       "      <td>T</td>\n",
       "      <td>C</td>\n",
       "      <td>5:73090261</td>\n",
       "      <td>T_C</td>\n",
       "      <td>5:73090261_T_C</td>\n",
       "    </tr>\n",
       "    <tr>\n",
       "      <th>9</th>\n",
       "      <td>5</td>\n",
       "      <td>chr5:73091126:A:T</td>\n",
       "      <td>73091126</td>\n",
       "      <td>T</td>\n",
       "      <td>A</td>\n",
       "      <td>5:73091126</td>\n",
       "      <td>T_A</td>\n",
       "      <td>5:73091126_T_A</td>\n",
       "    </tr>\n",
       "    <tr>\n",
       "      <th>10</th>\n",
       "      <td>5</td>\n",
       "      <td>chr5:73091228:T:C</td>\n",
       "      <td>73091228</td>\n",
       "      <td>C</td>\n",
       "      <td>T</td>\n",
       "      <td>5:73091228</td>\n",
       "      <td>C_T</td>\n",
       "      <td>5:73091228_C_T</td>\n",
       "    </tr>\n",
       "    <tr>\n",
       "      <th>11</th>\n",
       "      <td>6</td>\n",
       "      <td>chr6:43276390:A:G</td>\n",
       "      <td>43276390</td>\n",
       "      <td>G</td>\n",
       "      <td>A</td>\n",
       "      <td>6:43276390</td>\n",
       "      <td>G_A</td>\n",
       "      <td>6:43276390_G_A</td>\n",
       "    </tr>\n",
       "    <tr>\n",
       "      <th>12</th>\n",
       "      <td>6</td>\n",
       "      <td>chr6:76551016:G:A</td>\n",
       "      <td>76551016</td>\n",
       "      <td>A</td>\n",
       "      <td>G</td>\n",
       "      <td>6:76551016</td>\n",
       "      <td>A_G</td>\n",
       "      <td>6:76551016_A_G</td>\n",
       "    </tr>\n",
       "    <tr>\n",
       "      <th>13</th>\n",
       "      <td>7</td>\n",
       "      <td>chr7:72987354:T:C</td>\n",
       "      <td>72987354</td>\n",
       "      <td>C</td>\n",
       "      <td>T</td>\n",
       "      <td>7:72987354</td>\n",
       "      <td>C_T</td>\n",
       "      <td>7:72987354_C_T</td>\n",
       "    </tr>\n",
       "    <tr>\n",
       "      <th>14</th>\n",
       "      <td>7</td>\n",
       "      <td>chr7:73019975:G:A</td>\n",
       "      <td>73019975</td>\n",
       "      <td>A</td>\n",
       "      <td>G</td>\n",
       "      <td>7:73019975</td>\n",
       "      <td>A_G</td>\n",
       "      <td>7:73019975_A_G</td>\n",
       "    </tr>\n",
       "    <tr>\n",
       "      <th>15</th>\n",
       "      <td>22</td>\n",
       "      <td>chr22:38482352:G:GTGCGGGAGCGGGACTGGCCATCCCAGTA...</td>\n",
       "      <td>38482352</td>\n",
       "      <td>GTGCGGGAGCGGGACTGGCCATCCCAGTACTCCGAGGGTGCTA</td>\n",
       "      <td>G</td>\n",
       "      <td>22:38482352</td>\n",
       "      <td>GTGCGGGAGCGGGACTGGCCATCCCAGTACTCCGAGGGTGCTA_G</td>\n",
       "      <td>22:38482352_GTGCGGGAGCGGGACTGGCCATCCCAGTACTCCG...</td>\n",
       "    </tr>\n",
       "    <tr>\n",
       "      <th>16</th>\n",
       "      <td>22</td>\n",
       "      <td>chr22:50988105:A:G</td>\n",
       "      <td>50988105</td>\n",
       "      <td>G</td>\n",
       "      <td>A</td>\n",
       "      <td>22:50988105</td>\n",
       "      <td>G_A</td>\n",
       "      <td>22:50988105_G_A</td>\n",
       "    </tr>\n",
       "  </tbody>\n",
       "</table>\n",
       "</div>"
      ],
      "text/plain": [
       "   chrom                                                snp       pos  \\\n",
       "0      1                                  chr1:46466721:C:T  46466721   \n",
       "1      1                                  chr1:46487552:A:G  46487552   \n",
       "2      1                                  chr1:46493460:G:T  46493460   \n",
       "3      1                                  chr1:46598269:A:C  46598269   \n",
       "4      5                                  chr5:73072354:C:T  73072354   \n",
       "5      5                                  chr5:73076457:A:G  73076457   \n",
       "6      5                                 chr5:73076474:G:GT  73076474   \n",
       "7      5                                  chr5:73076511:A:C  73076511   \n",
       "8      5                                  chr5:73090261:C:T  73090261   \n",
       "9      5                                  chr5:73091126:A:T  73091126   \n",
       "10     5                                  chr5:73091228:T:C  73091228   \n",
       "11     6                                  chr6:43276390:A:G  43276390   \n",
       "12     6                                  chr6:76551016:G:A  76551016   \n",
       "13     7                                  chr7:72987354:T:C  72987354   \n",
       "14     7                                  chr7:73019975:G:A  73019975   \n",
       "15    22  chr22:38482352:G:GTGCGGGAGCGGGACTGGCCATCCCAGTA...  38482352   \n",
       "16    22                                 chr22:50988105:A:G  50988105   \n",
       "\n",
       "                                             a0 a1 varID_hg19_1  \\\n",
       "0                                             T  C   1:46466721   \n",
       "1                                             G  A   1:46487552   \n",
       "2                                             T  G   1:46493460   \n",
       "3                                             C  A   1:46598269   \n",
       "4                                             T  C   5:73072354   \n",
       "5                                             G  A   5:73076457   \n",
       "6                                            GT  G   5:73076474   \n",
       "7                                             C  A   5:73076511   \n",
       "8                                             T  C   5:73090261   \n",
       "9                                             T  A   5:73091126   \n",
       "10                                            C  T   5:73091228   \n",
       "11                                            G  A   6:43276390   \n",
       "12                                            A  G   6:76551016   \n",
       "13                                            C  T   7:72987354   \n",
       "14                                            A  G   7:73019975   \n",
       "15  GTGCGGGAGCGGGACTGGCCATCCCAGTACTCCGAGGGTGCTA  G  22:38482352   \n",
       "16                                            G  A  22:50988105   \n",
       "\n",
       "                                     varID_hg19_2  \\\n",
       "0                                             T_C   \n",
       "1                                             G_A   \n",
       "2                                             T_G   \n",
       "3                                             C_A   \n",
       "4                                             T_C   \n",
       "5                                             G_A   \n",
       "6                                            GT_G   \n",
       "7                                             C_A   \n",
       "8                                             T_C   \n",
       "9                                             T_A   \n",
       "10                                            C_T   \n",
       "11                                            G_A   \n",
       "12                                            A_G   \n",
       "13                                            C_T   \n",
       "14                                            A_G   \n",
       "15  GTGCGGGAGCGGGACTGGCCATCCCAGTACTCCGAGGGTGCTA_G   \n",
       "16                                            G_A   \n",
       "\n",
       "                                        varID_qctools  \n",
       "0                                      1:46466721_T_C  \n",
       "1                                      1:46487552_G_A  \n",
       "2                                      1:46493460_T_G  \n",
       "3                                      1:46598269_C_A  \n",
       "4                                      5:73072354_T_C  \n",
       "5                                      5:73076457_G_A  \n",
       "6                                     5:73076474_GT_G  \n",
       "7                                      5:73076511_C_A  \n",
       "8                                      5:73090261_T_C  \n",
       "9                                      5:73091126_T_A  \n",
       "10                                     5:73091228_C_T  \n",
       "11                                     6:43276390_G_A  \n",
       "12                                     6:76551016_A_G  \n",
       "13                                     7:72987354_C_T  \n",
       "14                                     7:73019975_A_G  \n",
       "15  22:38482352_GTGCGGGAGCGGGACTGGCCATCCCAGTACTCCG...  \n",
       "16                                    22:50988105_G_A  "
      ]
     },
     "execution_count": 20,
     "metadata": {},
     "output_type": "execute_result"
    }
   ],
   "source": [
    "new_bim = new_bim.astype(\"string\")\n",
    "new_bim[\"varID_hg19_1\"] = new_bim.chrom.str.cat(others=[new_bim.pos],sep=\":\")\n",
    "new_bim[\"varID_hg19_2\"] = new_bim.a0.str.cat(others=[new_bim.a1],sep=\"_\")\n",
    "new_bim[\"varID_qctools\"] = new_bim[\"varID_hg19_1\"].str.cat(others=[new_bim[\"varID_hg19_2\"]],sep=\"_\")\n",
    "new_bim"
   ]
  },
  {
   "cell_type": "code",
   "execution_count": 21,
   "id": "075bc3bf-a3dc-4122-a1e9-0a1265aa49d4",
   "metadata": {
    "kernel": "Python3"
   },
   "outputs": [],
   "source": [
    "new_bim[\"varID_qctools\"].to_csv(\"/mnt/mfs/statgen/guangyou/20220314_permutation/files/variants_mega_varID_qctools.txt\",index=False,header=False)"
   ]
  },
  {
   "cell_type": "code",
   "execution_count": null,
   "id": "0b1c4f08-83de-4de0-ad28-d4d17878a1d4",
   "metadata": {
    "kernel": "Bash",
    "tags": []
   },
   "outputs": [],
   "source": [
    "i=1\n",
    "qctool -g ~/UKBiobank_Yale_transfer/ukb39554_imputeddataset/ukb_imp_chr${i}_v3.bgen \\\n",
    "-s ~/UKBiobank_Yale_transfer/ukb39554_imputeddataset/ukb32285_imputedindiv.sample \\\n",
    "-incl-snpids /mnt/mfs/statgen/guangyou/20220314_permutation/files/variants_mega_varID_qctools.txt \\\n",
    "-og /mnt/mfs/statgen/guangyou/20220314_permutation/files/genome_mega_chr${i}.bgen \\\n",
    "-ofiletype bgen\n",
    "\n",
    "i=5\n",
    "qctool -g ~/UKBiobank_Yale_transfer/ukb39554_imputeddataset/ukb_imp_chr${i}_v3.bgen \\\n",
    "-s ~/UKBiobank_Yale_transfer/ukb39554_imputeddataset/ukb32285_imputedindiv.sample \\\n",
    "-incl-snpids /mnt/mfs/statgen/guangyou/20220314_permutation/files/variants_mega_varID_qctools.txt \\\n",
    "-og /mnt/mfs/statgen/guangyou/20220314_permutation/files/genome_mega_chr${i}.bgen \\\n",
    "-ofiletype bgen\n",
    "i=6\n",
    "qctool -g ~/UKBiobank_Yale_transfer/ukb39554_imputeddataset/ukb_imp_chr${i}_v3.bgen \\\n",
    "-s ~/UKBiobank_Yale_transfer/ukb39554_imputeddataset/ukb32285_imputedindiv.sample \\\n",
    "-incl-snpids /mnt/mfs/statgen/guangyou/20220314_permutation/files/variants_mega_varID_qctools.txt \\\n",
    "-og /mnt/mfs/statgen/guangyou/20220314_permutation/files/genome_mega_chr${i}.bgen \\\n",
    "-ofiletype bgen\n",
    "i=7\n",
    "qctool -g ~/UKBiobank_Yale_transfer/ukb39554_imputeddataset/ukb_imp_chr${i}_v3.bgen \\\n",
    "-s ~/UKBiobank_Yale_transfer/ukb39554_imputeddataset/ukb32285_imputedindiv.sample \\\n",
    "-incl-snpids /mnt/mfs/statgen/guangyou/20220314_permutation/files/variants_mega_varID_qctools.txt \\\n",
    "-og /mnt/mfs/statgen/guangyou/20220314_permutation/files/genome_mega_chr${i}.bgen \\\n",
    "-ofiletype bgen\n",
    "i=22\n",
    "qctool -g ~/UKBiobank_Yale_transfer/ukb39554_imputeddataset/ukb_imp_chr${i}_v3.bgen \\\n",
    "-s ~/UKBiobank_Yale_transfer/ukb39554_imputeddataset/ukb32285_imputedindiv.sample \\\n",
    "-incl-snpids /mnt/mfs/statgen/guangyou/20220314_permutation/files/variants_mega_varID_qctools.txt \\\n",
    "-og /mnt/mfs/statgen/guangyou/20220314_permutation/files/genome_mega_chr${i}.bgen \\\n",
    "-ofiletype bgen"
   ]
  },
  {
   "cell_type": "code",
   "execution_count": 48,
   "id": "37c118e6-3e87-4427-bbcf-2b9d331ea0de",
   "metadata": {
    "kernel": "Bash"
   },
   "outputs": [
    {
     "name": "stdout",
     "output_type": "stream",
     "text": [
      "\n",
      "Welcome to qctool\n",
      "(version: 2.0.6, revision 18b8f17)\n",
      "\n",
      "(C) 2009-2017 University of Oxford\n",
      "\n",
      "Opening genotype files                                      : [******************************] (1/1,-6.7s,-0.1/s)\n",
      "========================================================================\n",
      "\n",
      "Input SAMPLE file(s):           \"/home/gl2776/UKBiobank_Yale_transfer/ukb39554_imputeddataset/ukb32285_imputedindiv.sample\"\n",
      "Output SAMPLE file:             \"(n/a)\".\n",
      "Sample exclusion output file:   \"(n/a)\".\n",
      "\n",
      "Input GEN file(s):\n",
      "                                                    (      1 snps)  \"/mnt/mfs/statgen/guangyou/20220314_permutation/files/genome_mega_chr22.bgen (bgen v1.2; 487409 named samples; zlib compression)\"\n",
      "                                         (total 1 snps in 1 sources).\n",
      "                      Number of samples: 487409\n",
      "Output GEN file(s):             (n/a)\n",
      "Output SNP position file(s):    (n/a)\n",
      "Sample filter:                  .\n",
      "# of samples in input files:    487409.\n",
      "# of samples after filtering:   487409 (0 filtered out).\n",
      "\n",
      "========================================================================\n",
      "\n",
      "SNPSummaryComponent: the following components are in place:\n",
      "  HWEComputation\n",
      "  AlleleFrequencyComputation\n",
      "  InfoComputation\n",
      "  MissingnessComputation\n",
      "\n",
      "Processing SNPs                                             :  (1/?,2.0s,0.5/s)\n",
      "Total: 1SNPs.\n",
      "========================================================================\n",
      "\n",
      "Number of SNPs:\n",
      "                     -- in input file(s):                 1.\n",
      " -- in output file(s):                0\n",
      "\n",
      "Number of samples in input file(s):   487409.\n",
      "\n",
      "========================================================================\n",
      "\n",
      "\n",
      "Thank you for using qctool.\n"
     ]
    }
   ],
   "source": [
    "qctool -g /mnt/mfs/statgen/guangyou/20220314_permutation/files/genome_mega_chr22.bgen  \\\n",
    "-s ~/UKBiobank_Yale_transfer/ukb39554_imputeddataset/ukb32285_imputedindiv.sample \\\n",
    "-snp-stats \\\n",
    "-osnp /mnt/mfs/statgen/guangyou/20220314_permutation/files/genome_mega_chr22.bgen.stats.qctools.txt"
   ]
  },
  {
   "cell_type": "code",
   "execution_count": 49,
   "id": "527c4a77-3821-471c-aa9f-24b4edfa2cfd",
   "metadata": {
    "kernel": "Bash"
   },
   "outputs": [
    {
     "name": "stdout",
     "output_type": "stream",
     "text": [
      "# Analysis: \"qctool analysis\"\n",
      "#  started: 2022-03-23 16:44:44\n",
      "# \n",
      "# Analysis properties:\n",
      "#   -g /mnt/mfs/statgen/guangyou/20220314_permutation/files/genome_mega_chr22.bgen (user-supplied)\n",
      "#   -osnp /mnt/mfs/statgen/guangyou/20220314_permutation/files/genome_mega_chr22.bgen.stats.qctools.txt (user-supplied)\n",
      "#   -s /home/gl2776/UKBiobank_Yale_transfer/ukb39554_imputeddataset/ukb32285_imputedindiv.sample (user-supplied)\n",
      "#   -snp-stats  (user-supplied)\n",
      "# \n",
      "alternate_ids rsid chromosome position alleleA alleleB comment HW_exact_p_value HW_lrt_p_value alleleA_count alleleB_count alleleA_frequency alleleB_frequency minor_allele_frequency minor_allele major_allele info impute_info missing_proportion A B AA AB BB NULL total\n",
      "22:38482352_GTGCGGGAGCGGGACTGGCCATCCCAGTACTCCGAGGGTGCTA_G 22:38482352_GTGCGGGAGCGGGACTGGCCATCCCAGTACTCCGAGGGTGCTA_G 22 38482352 GTGCGGGAGCGGGACTGGCCATCCCAGTACTCCGAGGGTGCTA G NA 0.000563666 0.000560796 794474 180344 0.814997 0.185003 0.185003 G GTGCGGGAGCGGGACTGGCCATCCCAGTACTCCGAGGGTGCTA 0.806475 0.806475 4.7769e-15 0 0 324111 146252 17046.2 2.32831e-09 487409\n",
      "# Completed successfully at 2022-03-23 16:44:44\n"
     ]
    }
   ],
   "source": [
    "cat /mnt/mfs/statgen/guangyou/20220314_permutation/files/genome_mega_chr22.bgen.stats.qctools.txt"
   ]
  },
  {
   "cell_type": "code",
   "execution_count": 52,
   "id": "b0426353-0b38-468d-bbaa-97f9d8a9d712",
   "metadata": {
    "kernel": "Bash"
   },
   "outputs": [
    {
     "name": "stdout",
     "output_type": "stream",
     "text": [
      "rs36062310\trs36062310\t50988105\tG\tA\t0.0415165\tA\t1\n"
     ]
    }
   ],
   "source": [
    "grep \"50988105\" ~/UKBiobank_Yale_transfer/ukb39554_imputeddataset/ukb_mfi_chr22_v3.txt"
   ]
  },
  {
   "cell_type": "code",
   "execution_count": 66,
   "id": "171511b7-be76-47ee-beb2-587bc5828146",
   "metadata": {
    "kernel": "Bash"
   },
   "outputs": [
    {
     "name": "stdout",
     "output_type": "stream",
     "text": [
      "22:38482352_GTGCGGGAGCGGGACTGGCCATCCCAGTACTCCGAGGGTGCTA_G\t22:38482352_GTGCGGGAGCGGGACTGGCCATCCCAGTACTCCGAGGGTGCTA_G\t38482352\tGTGCGGGAGCGGGACTGGCCATCCCAGTACTCCGAGGGTGCTA\tG\t0.185003\tG\t0.806475\n"
     ]
    }
   ],
   "source": [
    "grep \"38482352\" ~/UKBiobank_Yale_transfer/ukb39554_imputeddataset/ukb_mfi_chr22_v3.txt"
   ]
  },
  {
   "cell_type": "code",
   "execution_count": 73,
   "id": "b87e2803-9cfa-435b-911d-b650f49be15b",
   "metadata": {
    "kernel": "Bash"
   },
   "outputs": [
    {
     "name": "stdout",
     "output_type": "stream",
     "text": [
      "1:46466721_T_C\trs11589562\t46466721\tT\tC\t0.43573\tC\t0.999828\n",
      "1:46487552_G_A\trs2275426\t46487552\tG\tA\t0.435695\tA\t0.999858\n",
      "rs1707336\trs1707336\t46493460\tT\tG\t0.435763\tG\t1\n",
      "1:46598269_C_A\trs1707304\t46598269\tC\tA\t0.437531\tA\t0.997441\n",
      "1:190648419_A_C\trs746493460\t190648419\tA\tC\t0.000208176\tC\t0.901231\n"
     ]
    }
   ],
   "source": [
    "grep \"46466721\\|46487552\\|46493460\\|46598269\" ~/UKBiobank_Yale_transfer/ukb39554_imputeddataset/ukb_mfi_chr1_v3.txt"
   ]
  },
  {
   "cell_type": "code",
   "execution_count": 74,
   "id": "d8158ea9-69b8-4549-941d-1ef253f1e5be",
   "metadata": {
    "kernel": "Bash"
   },
   "outputs": [
    {
     "name": "stdout",
     "output_type": "stream",
     "text": [
      "5:39247491_T_C\trs73091228\t39247491\tT\tC\t0.00162958\tC\t0.977621\n",
      "5:40549857_G_T\trs73076474\t40549857\tG\tT\t0.104582\tT\t0.995995\n",
      "rs7714670\trs7714670\t73072354\tT\tC\t0.463907\tC\t1\n",
      "5:73076457_G_A\trs11949860\t73076457\tG\tA\t0.462359\tA\t0.99923\n",
      "5:73076474_GT_G\trs776823400\t73076474\tGT\tG\t0.460852\tG\t0.993383\n",
      "rs6453022\trs6453022\t73076511\tC\tA\t0.494229\tC\t1\n",
      "5:73090261_T_C\trs7716253\t73090261\tT\tC\t0.466679\tT\t0.987697\n",
      "5:73091126_T_A\trs2973549\t73091126\tT\tA\t0.473513\tA\t0.988221\n",
      "5:73091228_C_T\trs2973548\t73091228\tC\tT\t0.473493\tT\t0.988201\n"
     ]
    }
   ],
   "source": [
    "grep \"73072354\\|73076457\\|73076474\\|73076511\\|73090261\\|73091126\\|73091228\" ~/UKBiobank_Yale_transfer/ukb39554_imputeddataset/ukb_mfi_chr5_v3.txt"
   ]
  },
  {
   "cell_type": "code",
   "execution_count": 75,
   "id": "c5fbbf34-c05c-4d8a-9e99-1c9966e17bd5",
   "metadata": {
    "kernel": "Bash"
   },
   "outputs": [
    {
     "name": "stdout",
     "output_type": "stream",
     "text": [
      "6:43276390_G_A\trs2254303\t43276390\tG\tA\t0.403482\tG\t0.998843\n"
     ]
    }
   ],
   "source": [
    "grep \"43276390\\|76551016\" ~/UKBiobank_Yale_transfer/ukb39554_imputeddataset/ukb_mfi_chr6_v3.txt"
   ]
  },
  {
   "cell_type": "code",
   "execution_count": 76,
   "id": "dc6d9a08-0744-4ebd-8691-d84c835b34a3",
   "metadata": {
    "kernel": "Bash"
   },
   "outputs": [
    {
     "name": "stdout",
     "output_type": "stream",
     "text": [
      "rs2286276\trs2286276\t72987354\tC\tT\t0.280821\tT\t1\n",
      "7:73019975_A_G\trs61010704\t73019975\tA\tG\t0.280211\tG\t0.99861\n"
     ]
    }
   ],
   "source": [
    "grep \"72987354\\|73019975\" ~/UKBiobank_Yale_transfer/ukb39554_imputeddataset/ukb_mfi_chr7_v3.txt"
   ]
  },
  {
   "cell_type": "code",
   "execution_count": 78,
   "id": "069ae4fe-67b9-40b5-869a-fb1891a3d1d6",
   "metadata": {
    "kernel": "Bash"
   },
   "outputs": [
    {
     "name": "stdout",
     "output_type": "stream",
     "text": [
      "22:38482352_GTGCGGGAGCGGGACTGGCCATCCCAGTACTCCGAGGGTGCTA_G\t22:38482352_GTGCGGGAGCGGGACTGGCCATCCCAGTACTCCGAGGGTGCTA_G\t38482352\tGTGCGGGAGCGGGACTGGCCATCCCAGTACTCCGAGGGTGCTA\tG\t0.185003\tG\t0.806475\n",
      "rs36062310\trs36062310\t50988105\tG\tA\t0.0415165\tA\t1\n"
     ]
    }
   ],
   "source": [
    "grep \"38482352\\|50988105\" ~/UKBiobank_Yale_transfer/ukb39554_imputeddataset/ukb_mfi_chr22_v3.txt"
   ]
  },
  {
   "cell_type": "code",
   "execution_count": 67,
   "id": "a8e0ecd2-cb81-440f-a414-0c7a3878aeb8",
   "metadata": {
    "kernel": "Bash",
    "tags": []
   },
   "outputs": [],
   "source": [
    "cat > /mnt/mfs/statgen/guangyou/20220314_permutation/files/variants_mega_chr1.position.txt  << EOF\n",
    "1:46466721\n",
    "1:46487552\n",
    "1:46493460\n",
    "1:46598269\n",
    "EOF\n",
    "cat > /mnt/mfs/statgen/guangyou/20220314_permutation/files/variants_mega_chr5.position.txt  << EOF\n",
    "5:73072354\n",
    "5:73076457\n",
    "5:73076474\n",
    "5:73076511\n",
    "5:73090261\n",
    "5:73091126\n",
    "5:73091228\n",
    "EOF\n",
    "cat > /mnt/mfs/statgen/guangyou/20220314_permutation/files/variants_mega_chr6.position.txt  << EOF\n",
    "6:43276390\n",
    "6:76551016\n",
    "EOF\n",
    "cat > /mnt/mfs/statgen/guangyou/20220314_permutation/files/variants_mega_chr7.position.txt  << EOF\n",
    "7:72987354\n",
    "7:73019975\n",
    "EOF\n",
    "cat > /mnt/mfs/statgen/guangyou/20220314_permutation/files/variants_mega_chr22.position.txt  << EOF\n",
    "22:38482352\n",
    "22:50988105\n",
    "EOF"
   ]
  },
  {
   "cell_type": "code",
   "execution_count": null,
   "id": "da5fe5c5-c591-47ab-8fc8-6e49de6527d7",
   "metadata": {
    "kernel": "Bash"
   },
   "outputs": [],
   "source": [
    "i=1\n",
    "qctool -g ~/UKBiobank_Yale_transfer/ukb39554_imputeddataset/ukb_imp_chr${i}_v3.bgen \\\n",
    "-s ~/UKBiobank_Yale_transfer/ukb39554_imputeddataset/ukb32285_imputedindiv.sample \\\n",
    "-incl-positions /mnt/mfs/statgen/guangyou/20220314_permutation/files/variants_mega_chr${i}.position.txt \\\n",
    "-og /mnt/mfs/statgen/guangyou/20220314_permutation/files/genome_mega_chr${i}.bgen \\\n",
    "-ofiletype bgen\n",
    "\n",
    "i=5\n",
    "qctool -g ~/UKBiobank_Yale_transfer/ukb39554_imputeddataset/ukb_imp_chr${i}_v3.bgen \\\n",
    "-s ~/UKBiobank_Yale_transfer/ukb39554_imputeddataset/ukb32285_imputedindiv.sample \\\n",
    "-incl-positions /mnt/mfs/statgen/guangyou/20220314_permutation/files/variants_mega_chr${i}.position.txt \\\n",
    "-og /mnt/mfs/statgen/guangyou/20220314_permutation/files/genome_mega_chr${i}.bgen \\\n",
    "-ofiletype bgen\n",
    "i=6\n",
    "qctool -g ~/UKBiobank_Yale_transfer/ukb39554_imputeddataset/ukb_imp_chr${i}_v3.bgen \\\n",
    "-s ~/UKBiobank_Yale_transfer/ukb39554_imputeddataset/ukb32285_imputedindiv.sample \\\n",
    "-incl-positions /mnt/mfs/statgen/guangyou/20220314_permutation/files/variants_mega_chr${i}.position.txt \\\n",
    "-og /mnt/mfs/statgen/guangyou/20220314_permutation/files/genome_mega_chr${i}.bgen \\\n",
    "-ofiletype bgen\n",
    "i=7\n",
    "qctool -g ~/UKBiobank_Yale_transfer/ukb39554_imputeddataset/ukb_imp_chr${i}_v3.bgen \\\n",
    "-s ~/UKBiobank_Yale_transfer/ukb39554_imputeddataset/ukb32285_imputedindiv.sample \\\n",
    "-incl-positions /mnt/mfs/statgen/guangyou/20220314_permutation/files/variants_mega_chr${i}.position.txt \\\n",
    "-og /mnt/mfs/statgen/guangyou/20220314_permutation/files/genome_mega_chr${i}.bgen \\\n",
    "-ofiletype bgen\n",
    "i=22\n",
    "qctool -g ~/UKBiobank_Yale_transfer/ukb39554_imputeddataset/ukb_imp_chr${i}_v3.bgen \\\n",
    "-s ~/UKBiobank_Yale_transfer/ukb39554_imputeddataset/ukb32285_imputedindiv.sample \\\n",
    "-incl-positions /mnt/mfs/statgen/guangyou/20220314_permutation/files/variants_mega_chr${i}.position.txt \\\n",
    "-og /mnt/mfs/statgen/guangyou/20220314_permutation/files/genome_mega_chr${i}.bgen \\\n",
    "-ofiletype bgen"
   ]
  },
  {
   "cell_type": "code",
   "execution_count": 79,
   "id": "e875724e-a336-4f2f-be46-29a48ed3a9d4",
   "metadata": {
    "kernel": "Bash"
   },
   "outputs": [],
   "source": [
    "cat > /mnt/mfs/statgen/guangyou/20220314_permutation/files/variants_mega_rsid.txt  << EOF\n",
    "rs11589562\n",
    "rs2275426\n",
    "rs1707336\n",
    "rs1707304\n",
    "rs7714670\n",
    "rs11949860\n",
    "rs6453022\n",
    "rs776823400\n",
    "rs7716253\n",
    "rs2973549\n",
    "rs2973548\n",
    "rs2254303\n",
    "rs146694394\n",
    "rs2286276\n",
    "rs61010704\n",
    "22:38482352_GTGCGGGAGCGGGACTGGCCATCCCAGTACTCCGAGGGTGCTA_G\n",
    "rs36062310\n",
    "EOF"
   ]
  },
  {
   "cell_type": "code",
   "execution_count": 65,
   "id": "a0acf378-5583-4d83-8f54-215d8b4b76d1",
   "metadata": {
    "kernel": "Bash"
   },
   "outputs": [],
   "source": [
    "i=1\n",
    "qctool -g ~/UKBiobank_Yale_transfer/ukb39554_imputeddataset/ukb_imp_chr${i}_v3.bgen \\\n",
    "-s ~/UKBiobank_Yale_transfer/ukb39554_imputeddataset/ukb32285_imputedindiv.sample \\\n",
    "-incl-rsids /mnt/mfs/statgen/guangyou/20220314_permutation/files/variants_mega_rsid.txt \\\n",
    "-og /mnt/mfs/statgen/guangyou/20220314_permutation/files/genome_mega_chr${i}.bgen \\\n",
    "-ofiletype bgen\n",
    "\n",
    "i=5\n",
    "qctool -g ~/UKBiobank_Yale_transfer/ukb39554_imputeddataset/ukb_imp_chr${i}_v3.bgen \\\n",
    "-s ~/UKBiobank_Yale_transfer/ukb39554_imputeddataset/ukb32285_imputedindiv.sample \\\n",
    "-incl-rsids /mnt/mfs/statgen/guangyou/20220314_permutation/files/variants_mega_rsid.txt \\\n",
    "-og /mnt/mfs/statgen/guangyou/20220314_permutation/files/genome_mega_chr${i}.bgen \\\n",
    "-ofiletype bgen\n",
    "i=6\n",
    "qctool -g ~/UKBiobank_Yale_transfer/ukb39554_imputeddataset/ukb_imp_chr${i}_v3.bgen \\\n",
    "-s ~/UKBiobank_Yale_transfer/ukb39554_imputeddataset/ukb32285_imputedindiv.sample \\\n",
    "-incl-rsids /mnt/mfs/statgen/guangyou/20220314_permutation/files/variants_mega_rsid.txt \\\n",
    "-og /mnt/mfs/statgen/guangyou/20220314_permutation/files/genome_mega_chr${i}.bgen \\\n",
    "-ofiletype bgen\n",
    "i=7\n",
    "qctool -g ~/UKBiobank_Yale_transfer/ukb39554_imputeddataset/ukb_imp_chr${i}_v3.bgen \\\n",
    "-s ~/UKBiobank_Yale_transfer/ukb39554_imputeddataset/ukb32285_imputedindiv.sample \\\n",
    "-incl-rsids /mnt/mfs/statgen/guangyou/20220314_permutation/files/variants_mega_rsid.txt \\\n",
    "-og /mnt/mfs/statgen/guangyou/20220314_permutation/files/genome_mega_chr${i}.bgen \\\n",
    "-ofiletype bgen\n",
    "i=22\n",
    "qctool -g ~/UKBiobank_Yale_transfer/ukb39554_imputeddataset/ukb_imp_chr${i}_v3.bgen \\\n",
    "-s ~/UKBiobank_Yale_transfer/ukb39554_imputeddataset/ukb32285_imputedindiv.sample \\\n",
    "-incl-rsids /mnt/mfs/statgen/guangyou/20220314_permutation/files/variants_mega_rsid.txt \\\n",
    "-og /mnt/mfs/statgen/guangyou/20220314_permutation/files/genome_mega_chr${i}.bgen \\\n",
    "-ofiletype bgen"
   ]
  },
  {
   "cell_type": "code",
   "execution_count": 1,
   "id": "5a89ee51-b790-4082-bea7-c1edc22d62c7",
   "metadata": {
    "kernel": "Bash"
   },
   "outputs": [
    {
     "name": "stdout",
     "output_type": "stream",
     "text": [
      "\n",
      "Welcome to qctool\n",
      "(version: 2.0.6, revision 18b8f17)\n",
      "\n",
      "(C) 2009-2017 University of Oxford\n",
      "\n",
      "Opening genotype files                                      : [******************************] (1/1,2.7s,0.4/s)\n",
      "========================================================================\n",
      "\n",
      "Input SAMPLE file(s):           \"/home/gl2776/UKBiobank_Yale_transfer/ukb39554_imputeddataset/ukb32285_imputedindiv.sample\"\n",
      "Output SAMPLE file:             \"(n/a)\".\n",
      "Sample exclusion output file:   \"(n/a)\".\n",
      "\n",
      "Input GEN file(s):\n",
      "                                                    (      4 snps)  \"/mnt/mfs/statgen/guangyou/20220314_permutation/files/genome_mega_chr1.bgen (bgen v1.2; 487409 named samples; zlib compression)\"\n",
      "                                         (total 4 snps in 1 sources).\n",
      "                      Number of samples: 487409\n",
      "Output GEN file(s):             (n/a)\n",
      "Output SNP position file(s):    (n/a)\n",
      "Sample filter:                  .\n",
      "# of samples in input files:    487409.\n",
      "# of samples after filtering:   487409 (0 filtered out).\n",
      "\n",
      "========================================================================\n",
      "\n",
      "SNPSummaryComponent: the following components are in place:\n",
      "  HWEComputation\n",
      "  AlleleFrequencyComputation\n",
      "  InfoComputation\n",
      "  MissingnessComputation\n",
      "\n",
      "Processing SNPs                                             :  (4/?,-5.9s).4/s)\n",
      "Total: 4SNPs.\n",
      "========================================================================\n",
      "\n",
      "Number of SNPs:\n",
      "                     -- in input file(s):                 4.\n",
      " -- in output file(s):                0\n",
      "\n",
      "Number of samples in input file(s):   487409.\n",
      "\n",
      "========================================================================\n",
      "\n",
      "\n",
      "Thank you for using qctool.\n",
      "# Analysis: \"qctool analysis\"\n",
      "#  started: 2022-03-24 10:33:37\n",
      "# \n",
      "# Analysis properties:\n",
      "#   -g /mnt/mfs/statgen/guangyou/20220314_permutation/files/genome_mega_chr1.bgen (user-supplied)\n",
      "#   -osnp /mnt/mfs/statgen/guangyou/20220314_permutation/files/genome_mega_chr1.bgen.stats.qctools.txt (user-supplied)\n",
      "#   -s /home/gl2776/UKBiobank_Yale_transfer/ukb39554_imputeddataset/ukb32285_imputedindiv.sample (user-supplied)\n",
      "#   -snp-stats  (user-supplied)\n",
      "# \n",
      "alternate_ids rsid chromosome position alleleA alleleB comment HW_exact_p_value HW_lrt_p_value alleleA_count alleleB_count alleleA_frequency alleleB_frequency minor_allele_frequency minor_allele major_allele info impute_info missing_proportion A B AA AB BB NULL total\n",
      "1:46466721_T_C rs11589562 01 46466721 T C NA 0.433301 0.433601 550061 424757 0.56427 0.43573 0.43573 C T 0.999828 0.999828 3.58268e-16 0 0 155326 239409 92673.9 1.74623e-10 487409\n",
      "1:46487552_G_A rs2275426 01 46487552 G A NA 0.424791 0.424027 550095 424723 0.564305 0.435695 0.435695 A G 0.999858 0.999858 4.7769e-16 0 0 155348 239399 92662.1 2.32831e-10 487409\n",
      "rs1707336 rs1707336 01 46493460 T G NA 0.477256 0.477138 550028 424790 0.564237 0.435763 0.435763 G T 1 1 0 0 0 155295 239438 92676 0 487409\n",
      "1:46598269_C_A rs1707304 01 46598269 C A NA 0.374758 0.374166 548305 426513 0.562469 0.437531 0.437531 A C 0.997441 0.997441 3.82152e-15 0 0 154355 239595 93459.1 1.86265e-09 487409\n",
      "# Completed successfully at 2022-03-24 10:33:37\n"
     ]
    }
   ],
   "source": [
    "i=1\n",
    "qctool -g /mnt/mfs/statgen/guangyou/20220314_permutation/files/genome_mega_chr${i}.bgen  \\\n",
    "-s ~/UKBiobank_Yale_transfer/ukb39554_imputeddataset/ukb32285_imputedindiv.sample \\\n",
    "-snp-stats \\\n",
    "-osnp /mnt/mfs/statgen/guangyou/20220314_permutation/files/genome_mega_chr${i}.bgen.stats.qctools.txt\n",
    "cat /mnt/mfs/statgen/guangyou/20220314_permutation/files/genome_mega_chr${i}.bgen.stats.qctools.txt"
   ]
  },
  {
   "cell_type": "code",
   "execution_count": 2,
   "id": "f85deeb9-255a-4fde-92cb-921203082588",
   "metadata": {
    "kernel": "Bash"
   },
   "outputs": [
    {
     "name": "stdout",
     "output_type": "stream",
     "text": [
      "\n",
      "Welcome to qctool\n",
      "(version: 2.0.6, revision 18b8f17)\n",
      "\n",
      "(C) 2009-2017 University of Oxford\n",
      "\n",
      "Opening genotype files                                      : [******************************] (1/1,1.7s,0.6/s)\n",
      "========================================================================\n",
      "\n",
      "Input SAMPLE file(s):           \"/home/gl2776/UKBiobank_Yale_transfer/ukb39554_imputeddataset/ukb32285_imputedindiv.sample\"\n",
      "Output SAMPLE file:             \"(n/a)\".\n",
      "Sample exclusion output file:   \"(n/a)\".\n",
      "\n",
      "Input GEN file(s):\n",
      "                                                    (      7 snps)  \"/mnt/mfs/statgen/guangyou/20220314_permutation/files/genome_mega_chr5.bgen (bgen v1.2; 487409 named samples; zlib compression)\"\n",
      "                                         (total 7 snps in 1 sources).\n",
      "                      Number of samples: 487409\n",
      "Output GEN file(s):             (n/a)\n",
      "Output SNP position file(s):    (n/a)\n",
      "Sample filter:                  .\n",
      "# of samples in input files:    487409.\n",
      "# of samples after filtering:   487409 (0 filtered out).\n",
      "\n",
      "========================================================================\n",
      "\n",
      "SNPSummaryComponent: the following components are in place:\n",
      "  HWEComputation\n",
      "  AlleleFrequencyComputation\n",
      "  InfoComputation\n",
      "  MissingnessComputation\n",
      "\n",
      "Processing SNPs                                             :  (7/?,-4.0s).0/s)\n",
      "Total: 7SNPs.\n",
      "========================================================================\n",
      "\n",
      "Number of SNPs:\n",
      "                     -- in input file(s):                 7.\n",
      " -- in output file(s):                0\n",
      "\n",
      "Number of samples in input file(s):   487409.\n",
      "\n",
      "========================================================================\n",
      "\n",
      "\n",
      "Thank you for using qctool.\n",
      "# Analysis: \"qctool analysis\"\n",
      "#  started: 2022-03-24 10:33:55\n",
      "# \n",
      "# Analysis properties:\n",
      "#   -g /mnt/mfs/statgen/guangyou/20220314_permutation/files/genome_mega_chr5.bgen (user-supplied)\n",
      "#   -osnp /mnt/mfs/statgen/guangyou/20220314_permutation/files/genome_mega_chr5.bgen.stats.qctools.txt (user-supplied)\n",
      "#   -s /home/gl2776/UKBiobank_Yale_transfer/ukb39554_imputeddataset/ukb32285_imputedindiv.sample (user-supplied)\n",
      "#   -snp-stats  (user-supplied)\n",
      "# \n",
      "alternate_ids rsid chromosome position alleleA alleleB comment HW_exact_p_value HW_lrt_p_value alleleA_count alleleB_count alleleA_frequency alleleB_frequency minor_allele_frequency minor_allele major_allele info impute_info missing_proportion A B AA AB BB NULL total\n",
      "rs7714670 rs7714670 05 73072354 T C NA 0.043519 0.0433395 522593 452225 0.536093 0.463907 0.463907 C T 1 1 0 0 0 140430 241733 105246 0 487409\n",
      "5:73076457_G_A rs11949860 05 73076457 G A NA 0.124636 0.124396 524102 450716 0.537641 0.462359 0.462359 A G 0.99923 0.99923 -1.19423e-15 0 0 141156 241790 104463 -5.82077e-10 487409\n",
      "5:73076474_GT_G rs776823400 05 73076474 GT G NA 0.0689429 0.0687083 525571 449247 0.539148 0.460852 0.460852 G GT 0.993383 0.993383 -4.55e-14 0 0 141996 241579 103834 -2.21771e-08 487409\n",
      "rs6453022 rs6453022 05 73076511 C A NA 2.03046e-06 2.00273e-06 481783 493035 0.494229 0.505771 0.494229 C A 1 1 0 0 0 118226 245331 123852 0 487409\n",
      "5:73090261_T_C rs7716253 05 73090261 T C NA 1.28697e-05 1.28575e-05 454927 519891 0.466679 0.533321 0.466679 T C 0.987697 0.987697 7.16536e-16 0 0 106910 241106 139393 3.49246e-10 487409\n",
      "5:73091126_T_A rs2973549 05 73091126 T A NA 0.000203585 0.000202219 513229 461589 0.526487 0.473513 0.473513 A T 0.988221 0.988221 5.13517e-15 0 0 135751 241727 109931 2.50293e-09 487409\n",
      "5:73091228_C_T rs2973548 05 73091228 C T NA 0.000205897 0.000204656 513249 461569 0.526507 0.473493 0.473493 T C 0.988201 0.988201 2.86614e-15 0 0 135761 241727 109921 1.39698e-09 487409\n",
      "# Completed successfully at 2022-03-24 10:33:55\n"
     ]
    }
   ],
   "source": [
    "i=5\n",
    "qctool -g /mnt/mfs/statgen/guangyou/20220314_permutation/files/genome_mega_chr${i}.bgen  \\\n",
    "-s ~/UKBiobank_Yale_transfer/ukb39554_imputeddataset/ukb32285_imputedindiv.sample \\\n",
    "-snp-stats \\\n",
    "-osnp /mnt/mfs/statgen/guangyou/20220314_permutation/files/genome_mega_chr${i}.bgen.stats.qctools.txt\n",
    "cat /mnt/mfs/statgen/guangyou/20220314_permutation/files/genome_mega_chr${i}.bgen.stats.qctools.txt"
   ]
  },
  {
   "cell_type": "code",
   "execution_count": 3,
   "id": "e24e0a49-1a9d-4675-909a-ff0d545ec7a3",
   "metadata": {
    "kernel": "Bash"
   },
   "outputs": [
    {
     "name": "stdout",
     "output_type": "stream",
     "text": [
      "\n",
      "Welcome to qctool\n",
      "(version: 2.0.6, revision 18b8f17)\n",
      "\n",
      "(C) 2009-2017 University of Oxford\n",
      "\n",
      "Opening genotype files                                      : [******************************] (1/1,1.4s,0.7/s)\n",
      "========================================================================\n",
      "\n",
      "Input SAMPLE file(s):           \"/home/gl2776/UKBiobank_Yale_transfer/ukb39554_imputeddataset/ukb32285_imputedindiv.sample\"\n",
      "Output SAMPLE file:             \"(n/a)\".\n",
      "Sample exclusion output file:   \"(n/a)\".\n",
      "\n",
      "Input GEN file(s):\n",
      "                                                    (      2 snps)  \"/mnt/mfs/statgen/guangyou/20220314_permutation/files/genome_mega_chr6.bgen (bgen v1.2; 487409 named samples; zlib compression)\"\n",
      "                                         (total 2 snps in 1 sources).\n",
      "                      Number of samples: 487409\n",
      "Output GEN file(s):             (n/a)\n",
      "Output SNP position file(s):    (n/a)\n",
      "Sample filter:                  .\n",
      "# of samples in input files:    487409.\n",
      "# of samples after filtering:   487409 (0 filtered out).\n",
      "\n",
      "========================================================================\n",
      "\n",
      "SNPSummaryComponent: the following components are in place:\n",
      "  HWEComputation\n",
      "  AlleleFrequencyComputation\n",
      "  InfoComputation\n",
      "  MissingnessComputation\n",
      "\n",
      "Processing SNPs                                             :  (2/?,2.0s,1.0/s)\n",
      "Total: 2SNPs.\n",
      "========================================================================\n",
      "\n",
      "Number of SNPs:\n",
      "                     -- in input file(s):                 2.\n",
      " -- in output file(s):                0\n",
      "\n",
      "Number of samples in input file(s):   487409.\n",
      "\n",
      "========================================================================\n",
      "\n",
      "\n",
      "Thank you for using qctool.\n",
      "# Analysis: \"qctool analysis\"\n",
      "#  started: 2022-03-24 10:39:06\n",
      "# \n",
      "# Analysis properties:\n",
      "#   -g /mnt/mfs/statgen/guangyou/20220314_permutation/files/genome_mega_chr6.bgen (user-supplied)\n",
      "#   -osnp /mnt/mfs/statgen/guangyou/20220314_permutation/files/genome_mega_chr6.bgen.stats.qctools.txt (user-supplied)\n",
      "#   -s /home/gl2776/UKBiobank_Yale_transfer/ukb39554_imputeddataset/ukb32285_imputedindiv.sample (user-supplied)\n",
      "#   -snp-stats  (user-supplied)\n",
      "# \n",
      "alternate_ids rsid chromosome position alleleA alleleB comment HW_exact_p_value HW_lrt_p_value alleleA_count alleleB_count alleleA_frequency alleleB_frequency minor_allele_frequency minor_allele major_allele info impute_info missing_proportion A B AA AB BB NULL total\n",
      "6:43276390_G_A rs2254303 06 43276390 G A NA 4.64812e-60 4.65785e-60 393321 581497 0.403482 0.596518 0.403482 G A 0.998843 0.998843 -1.50473e-14 0 0 82097.1 229127 176185 -7.33417e-09 487409\n",
      "6:158492660_C_T rs146694394 06 158492660 C T NA 0.0826144 0.0988162 970337 4481.04 0.995403 0.0045968 0.0045968 T C 0.895007 0.895007 2.6273e-15 0 0 482944 4448.64 16.2 1.28057e-09 487409\n",
      "# Completed successfully at 2022-03-24 10:39:06\n"
     ]
    }
   ],
   "source": [
    "i=6\n",
    "qctool -g /mnt/mfs/statgen/guangyou/20220314_permutation/files/genome_mega_chr${i}.bgen  \\\n",
    "-s ~/UKBiobank_Yale_transfer/ukb39554_imputeddataset/ukb32285_imputedindiv.sample \\\n",
    "-snp-stats \\\n",
    "-osnp /mnt/mfs/statgen/guangyou/20220314_permutation/files/genome_mega_chr${i}.bgen.stats.qctools.txt\n",
    "cat /mnt/mfs/statgen/guangyou/20220314_permutation/files/genome_mega_chr${i}.bgen.stats.qctools.txt"
   ]
  },
  {
   "cell_type": "code",
   "execution_count": 4,
   "id": "bd3b33eb-cb36-45ea-8662-d0b9653f7f22",
   "metadata": {
    "kernel": "Bash"
   },
   "outputs": [
    {
     "name": "stdout",
     "output_type": "stream",
     "text": [
      "\n",
      "Welcome to qctool\n",
      "(version: 2.0.6, revision 18b8f17)\n",
      "\n",
      "(C) 2009-2017 University of Oxford\n",
      "\n",
      "Opening genotype files                                      : [******************************] (1/1,1.7s,0.6/s)\n",
      "========================================================================\n",
      "\n",
      "Input SAMPLE file(s):           \"/home/gl2776/UKBiobank_Yale_transfer/ukb39554_imputeddataset/ukb32285_imputedindiv.sample\"\n",
      "Output SAMPLE file:             \"(n/a)\".\n",
      "Sample exclusion output file:   \"(n/a)\".\n",
      "\n",
      "Input GEN file(s):\n",
      "                                                    (      2 snps)  \"/mnt/mfs/statgen/guangyou/20220314_permutation/files/genome_mega_chr7.bgen (bgen v1.2; 487409 named samples; zlib compression)\"\n",
      "                                         (total 2 snps in 1 sources).\n",
      "                      Number of samples: 487409\n",
      "Output GEN file(s):             (n/a)\n",
      "Output SNP position file(s):    (n/a)\n",
      "Sample filter:                  .\n",
      "# of samples in input files:    487409.\n",
      "# of samples after filtering:   487409 (0 filtered out).\n",
      "\n",
      "========================================================================\n",
      "\n",
      "SNPSummaryComponent: the following components are in place:\n",
      "  HWEComputation\n",
      "  AlleleFrequencyComputation\n",
      "  InfoComputation\n",
      "  MissingnessComputation\n",
      "\n",
      "Processing SNPs                                             :  (2/?,1.5s,1.4/s)\n",
      "Total: 2SNPs.\n",
      "========================================================================\n",
      "\n",
      "Number of SNPs:\n",
      "                     -- in input file(s):                 2.\n",
      " -- in output file(s):                0\n",
      "\n",
      "Number of samples in input file(s):   487409.\n",
      "\n",
      "========================================================================\n",
      "\n",
      "\n",
      "Thank you for using qctool.\n",
      "# Analysis: \"qctool analysis\"\n",
      "#  started: 2022-03-24 10:39:29\n",
      "# \n",
      "# Analysis properties:\n",
      "#   -g /mnt/mfs/statgen/guangyou/20220314_permutation/files/genome_mega_chr7.bgen (user-supplied)\n",
      "#   -osnp /mnt/mfs/statgen/guangyou/20220314_permutation/files/genome_mega_chr7.bgen.stats.qctools.txt (user-supplied)\n",
      "#   -s /home/gl2776/UKBiobank_Yale_transfer/ukb39554_imputeddataset/ukb32285_imputedindiv.sample (user-supplied)\n",
      "#   -snp-stats  (user-supplied)\n",
      "# \n",
      "alternate_ids rsid chromosome position alleleA alleleB comment HW_exact_p_value HW_lrt_p_value alleleA_count alleleB_count alleleA_frequency alleleB_frequency minor_allele_frequency minor_allele major_allele info impute_info missing_proportion A B AA AB BB NULL total\n",
      "rs2286276 rs2286276 07 72987354 C T NA 0.00299611 0.00299364 701069 273749 0.719179 0.280821 0.280821 T C 1 1 0 0 0 252516 196037 38856 0 487409\n",
      "7:73019975_A_G rs61010704 07 73019975 A G NA 0.00460297 0.00460457 701663 273155 0.719789 0.280211 0.280211 G A 0.99861 0.99861 1.0748e-15 0 0 252924 195816 38669.5 5.23869e-10 487409\n",
      "# Completed successfully at 2022-03-24 10:39:29\n"
     ]
    }
   ],
   "source": [
    "i=7\n",
    "qctool -g /mnt/mfs/statgen/guangyou/20220314_permutation/files/genome_mega_chr${i}.bgen  \\\n",
    "-s ~/UKBiobank_Yale_transfer/ukb39554_imputeddataset/ukb32285_imputedindiv.sample \\\n",
    "-snp-stats \\\n",
    "-osnp /mnt/mfs/statgen/guangyou/20220314_permutation/files/genome_mega_chr${i}.bgen.stats.qctools.txt\n",
    "cat /mnt/mfs/statgen/guangyou/20220314_permutation/files/genome_mega_chr${i}.bgen.stats.qctools.txt"
   ]
  },
  {
   "cell_type": "code",
   "execution_count": 5,
   "id": "335aac14-1105-46e2-8956-3bd53744aaa0",
   "metadata": {
    "kernel": "Bash"
   },
   "outputs": [
    {
     "name": "stdout",
     "output_type": "stream",
     "text": [
      "\n",
      "Welcome to qctool\n",
      "(version: 2.0.6, revision 18b8f17)\n",
      "\n",
      "(C) 2009-2017 University of Oxford\n",
      "\n",
      "Opening genotype files                                      : [******************************] (1/1,1.6s,0.6/s)\n",
      "========================================================================\n",
      "\n",
      "Input SAMPLE file(s):           \"/home/gl2776/UKBiobank_Yale_transfer/ukb39554_imputeddataset/ukb32285_imputedindiv.sample\"\n",
      "Output SAMPLE file:             \"(n/a)\".\n",
      "Sample exclusion output file:   \"(n/a)\".\n",
      "\n",
      "Input GEN file(s):\n",
      "                                                    (      2 snps)  \"/mnt/mfs/statgen/guangyou/20220314_permutation/files/genome_mega_chr22.bgen (bgen v1.2; 487409 named samples; zlib compression)\"\n",
      "                                         (total 2 snps in 1 sources).\n",
      "                      Number of samples: 487409\n",
      "Output GEN file(s):             (n/a)\n",
      "Output SNP position file(s):    (n/a)\n",
      "Sample filter:                  .\n",
      "# of samples in input files:    487409.\n",
      "# of samples after filtering:   487409 (0 filtered out).\n",
      "\n",
      "========================================================================\n",
      "\n",
      "SNPSummaryComponent: the following components are in place:\n",
      "  HWEComputation\n",
      "  AlleleFrequencyComputation\n",
      "  InfoComputation\n",
      "  MissingnessComputation\n",
      "\n",
      "Processing SNPs                                             :  (2/?,1.4s,1.4/s)\n",
      "Total: 2SNPs.\n",
      "========================================================================\n",
      "\n",
      "Number of SNPs:\n",
      "                     -- in input file(s):                 2.\n",
      " -- in output file(s):                0\n",
      "\n",
      "Number of samples in input file(s):   487409.\n",
      "\n",
      "========================================================================\n",
      "\n",
      "\n",
      "Thank you for using qctool.\n",
      "# Analysis: \"qctool analysis\"\n",
      "#  started: 2022-03-24 10:39:40\n",
      "# \n",
      "# Analysis properties:\n",
      "#   -g /mnt/mfs/statgen/guangyou/20220314_permutation/files/genome_mega_chr22.bgen (user-supplied)\n",
      "#   -osnp /mnt/mfs/statgen/guangyou/20220314_permutation/files/genome_mega_chr22.bgen.stats.qctools.txt (user-supplied)\n",
      "#   -s /home/gl2776/UKBiobank_Yale_transfer/ukb39554_imputeddataset/ukb32285_imputedindiv.sample (user-supplied)\n",
      "#   -snp-stats  (user-supplied)\n",
      "# \n",
      "alternate_ids rsid chromosome position alleleA alleleB comment HW_exact_p_value HW_lrt_p_value alleleA_count alleleB_count alleleA_frequency alleleB_frequency minor_allele_frequency minor_allele major_allele info impute_info missing_proportion A B AA AB BB NULL total\n",
      "22:38482352_GTGCGGGAGCGGGACTGGCCATCCCAGTACTCCGAGGGTGCTA_G 22:38482352_GTGCGGGAGCGGGACTGGCCATCCCAGTACTCCGAGGGTGCTA_G 22 38482352 GTGCGGGAGCGGGACTGGCCATCCCAGTACTCCGAGGGTGCTA G NA 0.000563666 0.000560796 794474 180344 0.814997 0.185003 0.185003 G GTGCGGGAGCGGGACTGGCCATCCCAGTACTCCGAGGGTGCTA 0.806475 0.806475 4.7769e-15 0 0 324111 146252 17046.2 2.32831e-09 487409\n",
      "rs36062310 rs36062310 22 50988105 G A NA 0.182913 0.18708 934347 40471 0.958484 0.0415165 0.0415165 A G 1 1 0 0 0 447815 38717 877 0 487409\n",
      "# Completed successfully at 2022-03-24 10:39:40\n"
     ]
    }
   ],
   "source": [
    "i=22\n",
    "qctool -g /mnt/mfs/statgen/guangyou/20220314_permutation/files/genome_mega_chr${i}.bgen  \\\n",
    "-s ~/UKBiobank_Yale_transfer/ukb39554_imputeddataset/ukb32285_imputedindiv.sample \\\n",
    "-snp-stats \\\n",
    "-osnp /mnt/mfs/statgen/guangyou/20220314_permutation/files/genome_mega_chr${i}.bgen.stats.qctools.txt\n",
    "cat /mnt/mfs/statgen/guangyou/20220314_permutation/files/genome_mega_chr${i}.bgen.stats.qctools.txt"
   ]
  },
  {
   "cell_type": "code",
   "execution_count": 16,
   "id": "3eda241f-b792-4e85-b7a0-42b2337fceb4",
   "metadata": {
    "kernel": "Bash"
   },
   "outputs": [],
   "source": [
    "echo /mnt/mfs/statgen/guangyou/20220314_permutation/files/genome_mega_chr5 > /mnt/mfs/statgen/guangyou/20220314_permutation/files/mergelist.txt\n",
    "echo /mnt/mfs/statgen/guangyou/20220314_permutation/files/genome_mega_chr6 >> /mnt/mfs/statgen/guangyou/20220314_permutation/files/mergelist.txt\n",
    "echo /mnt/mfs/statgen/guangyou/20220314_permutation/files/genome_mega_chr7 >> /mnt/mfs/statgen/guangyou/20220314_permutation/files/mergelist.txt\n",
    "echo /mnt/mfs/statgen/guangyou/20220314_permutation/files/genome_mega_chr22 >> /mnt/mfs/statgen/guangyou/20220314_permutation/files/mergelist.txt"
   ]
  },
  {
   "cell_type": "code",
   "execution_count": 17,
   "id": "763ebfd4-a249-4a90-ab8e-5c1ce0beefa3",
   "metadata": {
    "kernel": "Bash"
   },
   "outputs": [
    {
     "name": "stdout",
     "output_type": "stream",
     "text": [
      "PLINK v1.90b6.21 64-bit (19 Oct 2020)          www.cog-genomics.org/plink/1.9/\n",
      "(C) 2005-2020 Shaun Purcell, Christopher Chang   GNU General Public License v3\n",
      "Logging to /mnt/mfs/statgen/guangyou/20220314_permutation/files/genome_mega.log.\n",
      "Options in effect:\n",
      "  --bfile /mnt/mfs/statgen/guangyou/20220314_permutation/files/genome_mega_chr1\n",
      "  --make-bed\n",
      "  --merge-list /mnt/mfs/statgen/guangyou/20220314_permutation/files/mergelist.txt\n",
      "  --out /mnt/mfs/statgen/guangyou/20220314_permutation/files/genome_mega\n",
      "\n",
      "257630 MB RAM detected; reserving 128815 MB for main workspace.\n",
      "Allocated 17193 MB successfully, after larger attempt(s) failed.\n",
      "Performing single-pass merge (200643 people, 17 variants).\n",
      "Merged fileset written to                     \n",
      "/mnt/mfs/statgen/guangyou/20220314_permutation/files/genome_mega-merge.bed +\n",
      "/mnt/mfs/statgen/guangyou/20220314_permutation/files/genome_mega-merge.bim +\n",
      "/mnt/mfs/statgen/guangyou/20220314_permutation/files/genome_mega-merge.fam .\n",
      "17 variants loaded from .bim file.\n",
      "200643 people (0 males, 0 females, 200643 ambiguous) loaded from .fam.\n",
      "Ambiguous sex IDs written to\n",
      "/mnt/mfs/statgen/guangyou/20220314_permutation/files/genome_mega.nosex .\n",
      "Using 1 thread (no multithreaded calculations invoked).\n",
      "Before main variant filters, 200643 founders and 0 nonfounders present.\n",
      "Calculating allele frequencies... 10111213141516171819202122232425262728293031323334353637383940414243444546474849505152535455565758596061626364656667686970717273747576777879808182838485868788899091929394959697989 done.\n",
      "Total genotyping rate is 0.991064.\n",
      "17 variants and 200643 people pass filters and QC.\n",
      "Note: No phenotypes present.\n",
      "--make-bed to\n",
      "/mnt/mfs/statgen/guangyou/20220314_permutation/files/genome_mega.bed +\n",
      "/mnt/mfs/statgen/guangyou/20220314_permutation/files/genome_mega.bim +\n",
      "/mnt/mfs/statgen/guangyou/20220314_permutation/files/genome_mega.fam ... 101112131415161718192021222324252627282930313233343536373839404142434445464748495051525354555657585960616263646566676869707172737475767778798081828384858687888990919293949596979899done.\n"
     ]
    }
   ],
   "source": [
    "plink \\\n",
    "--bfile /mnt/mfs/statgen/guangyou/20220314_permutation/files/genome_mega_chr1 \\\n",
    "--merge-list /mnt/mfs/statgen/guangyou/20220314_permutation/files/mergelist.txt \\\n",
    "--make-bed \\\n",
    "--out /mnt/mfs/statgen/guangyou/20220314_permutation/files/genome_mega"
   ]
  },
  {
   "cell_type": "code",
   "execution_count": 1,
   "id": "3dfbc60f-8879-4d41-8482-788d74dde006",
   "metadata": {
    "kernel": "Bash"
   },
   "outputs": [
    {
     "name": "stdout",
     "output_type": "stream",
     "text": [
      "PLINK v1.90b6.21 64-bit (19 Oct 2020)          www.cog-genomics.org/plink/1.9/\n",
      "(C) 2005-2020 Shaun Purcell, Christopher Chang   GNU General Public License v3\n",
      "Logging to /mnt/mfs/statgen/guangyou/20220314_permutation/files/genome_discovery_mega.log.\n",
      "Options in effect:\n",
      "  --bfile /mnt/mfs/statgen/guangyou/20220314_permutation/files/genome_discovery\n",
      "  --make-bed\n",
      "  --merge-list /mnt/mfs/statgen/guangyou/20220314_permutation/files/mergelist.txt\n",
      "  --out /mnt/mfs/statgen/guangyou/20220314_permutation/files/genome_discovery_mega\n",
      "\n",
      "128926 MB RAM detected; reserving 64463 MB for main workspace.\n",
      "Allocated 15297 MB successfully, after larger attempt(s) failed.\n",
      "Performing single-pass merge (200643 people, 22 variants).\n",
      "Merged fileset written to                     \n",
      "/mnt/mfs/statgen/guangyou/20220314_permutation/files/genome_discovery_mega-merge.bed\n",
      "+\n",
      "/mnt/mfs/statgen/guangyou/20220314_permutation/files/genome_discovery_mega-merge.bim\n",
      "+\n",
      "/mnt/mfs/statgen/guangyou/20220314_permutation/files/genome_discovery_mega-merge.fam\n",
      ".\n",
      "22 variants loaded from .bim file.\n",
      "200643 people (0 males, 0 females, 200643 ambiguous) loaded from .fam.\n",
      "Ambiguous sex IDs written to\n",
      "/mnt/mfs/statgen/guangyou/20220314_permutation/files/genome_discovery_mega.nosex\n",
      ".\n",
      "Using 1 thread (no multithreaded calculations invoked).\n",
      "Before main variant filters, 200643 founders and 0 nonfounders present.\n",
      "Calculating allele frequencies... 10111213141516171819202122232425262728293031323334353637383940414243444546474849505152535455565758596061626364656667686970717273747576777879808182838485868788899091929394959697989 done.\n",
      "Total genotyping rate is 0.993052.\n",
      "22 variants and 200643 people pass filters and QC.\n",
      "Note: No phenotypes present.\n",
      "--make-bed to\n",
      "/mnt/mfs/statgen/guangyou/20220314_permutation/files/genome_discovery_mega.bed\n",
      "+\n",
      "/mnt/mfs/statgen/guangyou/20220314_permutation/files/genome_discovery_mega.bim\n",
      "+\n",
      "/mnt/mfs/statgen/guangyou/20220314_permutation/files/genome_discovery_mega.fam\n",
      "... 101112131415161718192021222324252627282930313233343536373839404142434445464748495051525354555657585960616263646566676869707172737475767778798081828384858687888990919293949596979899done.\n"
     ]
    }
   ],
   "source": [
    "# combine\n",
    "echo /mnt/mfs/statgen/guangyou/20220314_permutation/files/genome_mega > /mnt/mfs/statgen/guangyou/20220314_permutation/files/mergelist.txt\n",
    "plink \\\n",
    "--bfile /mnt/mfs/statgen/guangyou/20220314_permutation/files/genome_discovery \\\n",
    "--merge-list /mnt/mfs/statgen/guangyou/20220314_permutation/files/mergelist.txt \\\n",
    "--make-bed \\\n",
    "--out /mnt/mfs/statgen/guangyou/20220314_permutation/files/genome_discovery_mega"
   ]
  },
  {
   "cell_type": "markdown",
   "id": "69e2c061-8242-48ef-9ebd-d75f19bcf0e7",
   "metadata": {
    "kernel": "Bash"
   },
   "source": [
    "# Phenotype permutations"
   ]
  },
  {
   "cell_type": "markdown",
   "id": "b83706d4-1221-4dad-b63c-257be2d1cf48",
   "metadata": {
    "kernel": "Bash"
   },
   "source": [
    "## discovery"
   ]
  },
  {
   "cell_type": "code",
   "execution_count": 23,
   "id": "9326aa16-1e59-4dbe-96d3-454ab89deadf",
   "metadata": {
    "kernel": "R",
    "tags": []
   },
   "outputs": [],
   "source": [
    "file<-\"/home/gl2776/UKBiobank/phenotype_files/hearing_impairment/090321_UKBB_Combined_f2247_f2257_expandedwhite_32878ind_50K.tsv\"\n",
    "data1 <- read.table(file,sep=\"\\t\",header=TRUE)\n",
    "file<-\"/home/gl2776/UKBiobank/phenotype_files/hearing_impairment/090321_UKBB_Hearing_aid_f3393_expandedwhite_24189ind_50K.tsv\"\n",
    "data2 <- read.table(file,sep=\"\\t\",header=TRUE)\n",
    "file<-\"/home/gl2776/UKBiobank/phenotype_files/hearing_impairment/090321_UKBB_Hearing_difficulty_f2247_expandedwhite_34596ind_50K.tsv\"\n",
    "data3 <- read.table(file,sep=\"\\t\",header=TRUE)\n",
    "file<-\"/home/gl2776/UKBiobank/phenotype_files/hearing_impairment/090321_UKBB_Hearing_noise_f2257_expandedwhite_38723ind_50K.tsv\"\n",
    "data4 <- read.table(file,sep=\"\\t\",header=TRUE)"
   ]
  },
  {
   "cell_type": "code",
   "execution_count": 24,
   "id": "73bbb2d8-885a-4d1f-b06a-b51b21f420fb",
   "metadata": {
    "kernel": "R"
   },
   "outputs": [
    {
     "data": {
      "text/html": [
       "<table class=\"dataframe\">\n",
       "<caption>A data.frame: 6 × 7</caption>\n",
       "<thead>\n",
       "\t<tr><th></th><th scope=col>FID</th><th scope=col>IID</th><th scope=col>sex</th><th scope=col>f2247_f2257</th><th scope=col>age</th><th scope=col>PC1</th><th scope=col>PC2</th></tr>\n",
       "\t<tr><th></th><th scope=col>&lt;int&gt;</th><th scope=col>&lt;int&gt;</th><th scope=col>&lt;int&gt;</th><th scope=col>&lt;int&gt;</th><th scope=col>&lt;int&gt;</th><th scope=col>&lt;dbl&gt;</th><th scope=col>&lt;dbl&gt;</th></tr>\n",
       "</thead>\n",
       "<tbody>\n",
       "\t<tr><th scope=row>1</th><td>1000078</td><td>1000078</td><td>1</td><td>0</td><td>60</td><td>-0.0104313258</td><td>-0.008165912</td></tr>\n",
       "\t<tr><th scope=row>2</th><td>1000236</td><td>1000236</td><td>0</td><td>0</td><td>70</td><td> 0.0001824323</td><td>-0.016808129</td></tr>\n",
       "\t<tr><th scope=row>3</th><td>1000331</td><td>1000331</td><td>1</td><td>0</td><td>53</td><td> 0.0893711672</td><td> 0.007956486</td></tr>\n",
       "\t<tr><th scope=row>4</th><td>1000530</td><td>1000530</td><td>0</td><td>0</td><td>67</td><td>-0.0063615046</td><td>-0.013601876</td></tr>\n",
       "\t<tr><th scope=row>5</th><td>1000683</td><td>1000683</td><td>0</td><td>0</td><td>68</td><td>-0.0074845845</td><td>-0.006884348</td></tr>\n",
       "\t<tr><th scope=row>6</th><td>1000992</td><td>1000992</td><td>0</td><td>0</td><td>56</td><td> 0.0049208051</td><td>-0.008990877</td></tr>\n",
       "</tbody>\n",
       "</table>\n"
      ],
      "text/latex": [
       "A data.frame: 6 × 7\n",
       "\\begin{tabular}{r|lllllll}\n",
       "  & FID & IID & sex & f2247\\_f2257 & age & PC1 & PC2\\\\\n",
       "  & <int> & <int> & <int> & <int> & <int> & <dbl> & <dbl>\\\\\n",
       "\\hline\n",
       "\t1 & 1000078 & 1000078 & 1 & 0 & 60 & -0.0104313258 & -0.008165912\\\\\n",
       "\t2 & 1000236 & 1000236 & 0 & 0 & 70 &  0.0001824323 & -0.016808129\\\\\n",
       "\t3 & 1000331 & 1000331 & 1 & 0 & 53 &  0.0893711672 &  0.007956486\\\\\n",
       "\t4 & 1000530 & 1000530 & 0 & 0 & 67 & -0.0063615046 & -0.013601876\\\\\n",
       "\t5 & 1000683 & 1000683 & 0 & 0 & 68 & -0.0074845845 & -0.006884348\\\\\n",
       "\t6 & 1000992 & 1000992 & 0 & 0 & 56 &  0.0049208051 & -0.008990877\\\\\n",
       "\\end{tabular}\n"
      ],
      "text/markdown": [
       "\n",
       "A data.frame: 6 × 7\n",
       "\n",
       "| <!--/--> | FID &lt;int&gt; | IID &lt;int&gt; | sex &lt;int&gt; | f2247_f2257 &lt;int&gt; | age &lt;int&gt; | PC1 &lt;dbl&gt; | PC2 &lt;dbl&gt; |\n",
       "|---|---|---|---|---|---|---|---|\n",
       "| 1 | 1000078 | 1000078 | 1 | 0 | 60 | -0.0104313258 | -0.008165912 |\n",
       "| 2 | 1000236 | 1000236 | 0 | 0 | 70 |  0.0001824323 | -0.016808129 |\n",
       "| 3 | 1000331 | 1000331 | 1 | 0 | 53 |  0.0893711672 |  0.007956486 |\n",
       "| 4 | 1000530 | 1000530 | 0 | 0 | 67 | -0.0063615046 | -0.013601876 |\n",
       "| 5 | 1000683 | 1000683 | 0 | 0 | 68 | -0.0074845845 | -0.006884348 |\n",
       "| 6 | 1000992 | 1000992 | 0 | 0 | 56 |  0.0049208051 | -0.008990877 |\n",
       "\n"
      ],
      "text/plain": [
       "  FID     IID     sex f2247_f2257 age PC1           PC2         \n",
       "1 1000078 1000078 1   0           60  -0.0104313258 -0.008165912\n",
       "2 1000236 1000236 0   0           70   0.0001824323 -0.016808129\n",
       "3 1000331 1000331 1   0           53   0.0893711672  0.007956486\n",
       "4 1000530 1000530 0   0           67  -0.0063615046 -0.013601876\n",
       "5 1000683 1000683 0   0           68  -0.0074845845 -0.006884348\n",
       "6 1000992 1000992 0   0           56   0.0049208051 -0.008990877"
      ]
     },
     "metadata": {},
     "output_type": "display_data"
    }
   ],
   "source": [
    "head(data1)"
   ]
  },
  {
   "cell_type": "code",
   "execution_count": 25,
   "id": "63db6158-2f42-4e0d-bc6c-835bb2e319d6",
   "metadata": {
    "kernel": "R"
   },
   "outputs": [
    {
     "data": {
      "text/html": [
       "24107"
      ],
      "text/latex": [
       "24107"
      ],
      "text/markdown": [
       "24107"
      ],
      "text/plain": [
       "[1] 24107"
      ]
     },
     "metadata": {},
     "output_type": "display_data"
    }
   ],
   "source": [
    "length(Reduce(intersect,list(data1$FID,data2$FID,data3$FID,data4$FID)))"
   ]
  },
  {
   "cell_type": "code",
   "execution_count": 26,
   "id": "e43a5198-6d37-4ce3-966b-e588ad90b0b4",
   "metadata": {
    "kernel": "R"
   },
   "outputs": [
    {
     "data": {
      "text/html": [
       "40464"
      ],
      "text/latex": [
       "40464"
      ],
      "text/markdown": [
       "40464"
      ],
      "text/plain": [
       "[1] 40464"
      ]
     },
     "metadata": {},
     "output_type": "display_data"
    }
   ],
   "source": [
    "length(Reduce(union,list(data1$FID,data2$FID,data3$FID,data4$FID)))"
   ]
  },
  {
   "cell_type": "code",
   "execution_count": 27,
   "id": "d1e107ee-523d-46ce-a7bb-1b9f791118a3",
   "metadata": {
    "kernel": "R"
   },
   "outputs": [
    {
     "data": {
      "text/html": [
       "<table class=\"dataframe\">\n",
       "<caption>A data.frame: 6 × 6</caption>\n",
       "<thead>\n",
       "\t<tr><th></th><th scope=col>FID</th><th scope=col>IID</th><th scope=col>f2247_f2257</th><th scope=col>f3393</th><th scope=col>f2247</th><th scope=col>f2257</th></tr>\n",
       "\t<tr><th></th><th scope=col>&lt;int&gt;</th><th scope=col>&lt;int&gt;</th><th scope=col>&lt;int&gt;</th><th scope=col>&lt;int&gt;</th><th scope=col>&lt;int&gt;</th><th scope=col>&lt;int&gt;</th></tr>\n",
       "</thead>\n",
       "<tbody>\n",
       "\t<tr><th scope=row>1</th><td>1000078</td><td>1000078</td><td>0</td><td>0</td><td>0</td><td>0</td></tr>\n",
       "\t<tr><th scope=row>2</th><td>1000236</td><td>1000236</td><td>0</td><td>0</td><td>0</td><td>0</td></tr>\n",
       "\t<tr><th scope=row>3</th><td>1000331</td><td>1000331</td><td>0</td><td>0</td><td>0</td><td>0</td></tr>\n",
       "\t<tr><th scope=row>4</th><td>1000530</td><td>1000530</td><td>0</td><td>0</td><td>0</td><td>0</td></tr>\n",
       "\t<tr><th scope=row>5</th><td>1000683</td><td>1000683</td><td>0</td><td>0</td><td>0</td><td>0</td></tr>\n",
       "\t<tr><th scope=row>6</th><td>1000992</td><td>1000992</td><td>0</td><td>0</td><td>0</td><td>0</td></tr>\n",
       "</tbody>\n",
       "</table>\n"
      ],
      "text/latex": [
       "A data.frame: 6 × 6\n",
       "\\begin{tabular}{r|llllll}\n",
       "  & FID & IID & f2247\\_f2257 & f3393 & f2247 & f2257\\\\\n",
       "  & <int> & <int> & <int> & <int> & <int> & <int>\\\\\n",
       "\\hline\n",
       "\t1 & 1000078 & 1000078 & 0 & 0 & 0 & 0\\\\\n",
       "\t2 & 1000236 & 1000236 & 0 & 0 & 0 & 0\\\\\n",
       "\t3 & 1000331 & 1000331 & 0 & 0 & 0 & 0\\\\\n",
       "\t4 & 1000530 & 1000530 & 0 & 0 & 0 & 0\\\\\n",
       "\t5 & 1000683 & 1000683 & 0 & 0 & 0 & 0\\\\\n",
       "\t6 & 1000992 & 1000992 & 0 & 0 & 0 & 0\\\\\n",
       "\\end{tabular}\n"
      ],
      "text/markdown": [
       "\n",
       "A data.frame: 6 × 6\n",
       "\n",
       "| <!--/--> | FID &lt;int&gt; | IID &lt;int&gt; | f2247_f2257 &lt;int&gt; | f3393 &lt;int&gt; | f2247 &lt;int&gt; | f2257 &lt;int&gt; |\n",
       "|---|---|---|---|---|---|---|\n",
       "| 1 | 1000078 | 1000078 | 0 | 0 | 0 | 0 |\n",
       "| 2 | 1000236 | 1000236 | 0 | 0 | 0 | 0 |\n",
       "| 3 | 1000331 | 1000331 | 0 | 0 | 0 | 0 |\n",
       "| 4 | 1000530 | 1000530 | 0 | 0 | 0 | 0 |\n",
       "| 5 | 1000683 | 1000683 | 0 | 0 | 0 | 0 |\n",
       "| 6 | 1000992 | 1000992 | 0 | 0 | 0 | 0 |\n",
       "\n"
      ],
      "text/plain": [
       "  FID     IID     f2247_f2257 f3393 f2247 f2257\n",
       "1 1000078 1000078 0           0     0     0    \n",
       "2 1000236 1000236 0           0     0     0    \n",
       "3 1000331 1000331 0           0     0     0    \n",
       "4 1000530 1000530 0           0     0     0    \n",
       "5 1000683 1000683 0           0     0     0    \n",
       "6 1000992 1000992 0           0     0     0    "
      ]
     },
     "metadata": {},
     "output_type": "display_data"
    }
   ],
   "source": [
    "large<-merge(data1[,c(2,4)],data2[,c(2,4)],by=c(\"IID\",\"IID\"),all=TRUE)\n",
    "large<-merge(large,data3[,c(2,4)],by=c(\"IID\",\"IID\"),all=TRUE)\n",
    "large<-merge(large,data4[,c(2,4)],by=c(\"IID\",\"IID\"),all=TRUE)\n",
    "large$FID<-large$IID\n",
    "large<-large[,c(6,1:5)]\n",
    "head(large)"
   ]
  },
  {
   "cell_type": "code",
   "execution_count": 28,
   "id": "d6d897e4-555e-4fc9-846a-ef302a7a9058",
   "metadata": {
    "kernel": "R"
   },
   "outputs": [
    {
     "data": {
      "text/html": [
       "<style>\n",
       ".list-inline {list-style: none; margin:0; padding: 0}\n",
       ".list-inline>li {display: inline-block}\n",
       ".list-inline>li:not(:last-child)::after {content: \"\\00b7\"; padding: 0 .5ex}\n",
       "</style>\n",
       "<ol class=list-inline><li>40464</li><li>6</li></ol>\n"
      ],
      "text/latex": [
       "\\begin{enumerate*}\n",
       "\\item 40464\n",
       "\\item 6\n",
       "\\end{enumerate*}\n"
      ],
      "text/markdown": [
       "1. 40464\n",
       "2. 6\n",
       "\n",
       "\n"
      ],
      "text/plain": [
       "[1] 40464     6"
      ]
     },
     "metadata": {},
     "output_type": "display_data"
    }
   ],
   "source": [
    "dim(large)"
   ]
  },
  {
   "cell_type": "code",
   "execution_count": 29,
   "id": "1a8370d9-4d25-4a2c-b36e-dcd0a8f00d20",
   "metadata": {
    "kernel": "R"
   },
   "outputs": [
    {
     "data": {
      "text/html": [
       "<table class=\"dataframe\">\n",
       "<caption>A matrix: 40464 × 200 of type int</caption>\n",
       "<tbody>\n",
       "\t<tr><td> 7753</td><td>38234</td><td>15008</td><td>31358</td><td>30259</td><td>22268</td><td>19158</td><td> 8743</td><td>24937</td><td> 8135</td><td>⋯</td><td>11890</td><td>15415</td><td>10577</td><td>27438</td><td>29801</td><td>25717</td><td>19816</td><td>27497</td><td>34892</td><td> 4522</td></tr>\n",
       "\t<tr><td>40405</td><td> 7038</td><td>  199</td><td>17266</td><td>33358</td><td>26592</td><td>38639</td><td>31792</td><td>24714</td><td>14368</td><td>⋯</td><td>16088</td><td>28869</td><td>37854</td><td>25086</td><td> 4408</td><td>29645</td><td>10893</td><td>38392</td><td>36085</td><td>17585</td></tr>\n",
       "\t<tr><td>  454</td><td>16934</td><td>11189</td><td>  681</td><td>24459</td><td>20472</td><td> 6106</td><td>20811</td><td>28994</td><td> 4242</td><td>⋯</td><td>29527</td><td>36708</td><td> 9967</td><td>19353</td><td>25476</td><td> 1771</td><td>21706</td><td>39999</td><td>32917</td><td>32448</td></tr>\n",
       "\t<tr><td> 3491</td><td>23605</td><td>36074</td><td>22865</td><td>40311</td><td>28076</td><td>20069</td><td>23108</td><td>15041</td><td>33860</td><td>⋯</td><td>15870</td><td>32962</td><td>14183</td><td>38154</td><td> 2143</td><td>  985</td><td>34735</td><td>11112</td><td>28956</td><td> 3815</td></tr>\n",
       "\t<tr><td>15851</td><td>28222</td><td>31897</td><td>14436</td><td>33635</td><td>23711</td><td>16849</td><td>38799</td><td>15548</td><td>30972</td><td>⋯</td><td>36436</td><td>38225</td><td>11311</td><td>  960</td><td>16992</td><td>25975</td><td>13039</td><td>25436</td><td>  198</td><td> 1569</td></tr>\n",
       "\t<tr><td>30545</td><td>31704</td><td> 3831</td><td> 4212</td><td>36663</td><td>29847</td><td>16937</td><td>23679</td><td>14110</td><td> 1715</td><td>⋯</td><td>21496</td><td> 2511</td><td>19304</td><td>14082</td><td> 6652</td><td>11982</td><td>40193</td><td> 5362</td><td>37955</td><td>23880</td></tr>\n",
       "\t<tr><td>10551</td><td>11113</td><td>38651</td><td>34054</td><td>  707</td><td>31654</td><td>25413</td><td> 4378</td><td> 6296</td><td>16763</td><td>⋯</td><td>24306</td><td> 8464</td><td>17504</td><td> 7801</td><td> 6171</td><td>29634</td><td>14823</td><td>14327</td><td> 8791</td><td>16200</td></tr>\n",
       "\t<tr><td>  638</td><td> 1702</td><td>19237</td><td>19764</td><td>15488</td><td>21995</td><td> 3044</td><td> 1398</td><td> 5282</td><td>18782</td><td>⋯</td><td>26659</td><td> 6843</td><td>31839</td><td> 6264</td><td>21187</td><td>21907</td><td>12841</td><td> 1222</td><td>30519</td><td>11015</td></tr>\n",
       "\t<tr><td>15879</td><td> 7906</td><td>24656</td><td>38351</td><td> 9803</td><td>17422</td><td>34014</td><td>10029</td><td>12202</td><td>30442</td><td>⋯</td><td>11735</td><td>38317</td><td>39295</td><td>19179</td><td> 6607</td><td>35212</td><td>18197</td><td>26178</td><td> 6071</td><td>23155</td></tr>\n",
       "\t<tr><td>  728</td><td>39740</td><td>27288</td><td> 6081</td><td>25234</td><td>22211</td><td>32989</td><td>32835</td><td>11107</td><td>32680</td><td>⋯</td><td>21253</td><td> 2021</td><td>35286</td><td>28407</td><td>34991</td><td>16338</td><td>18433</td><td>36514</td><td> 5809</td><td>22676</td></tr>\n",
       "\t<tr><td>27451</td><td> 3091</td><td>38252</td><td>24194</td><td>39837</td><td>16251</td><td>23827</td><td>17679</td><td> 2023</td><td> 4904</td><td>⋯</td><td>17731</td><td> 3116</td><td>19480</td><td>11484</td><td>19864</td><td>22770</td><td>30537</td><td>26141</td><td> 7480</td><td> 7202</td></tr>\n",
       "\t<tr><td>13640</td><td>11402</td><td>23817</td><td>25153</td><td>32851</td><td> 8127</td><td>34489</td><td> 8021</td><td>28315</td><td>25732</td><td>⋯</td><td>26399</td><td>15748</td><td>28300</td><td>22577</td><td>25932</td><td>29907</td><td>28333</td><td>14421</td><td>17783</td><td>29756</td></tr>\n",
       "\t<tr><td>15745</td><td>29805</td><td>37990</td><td>19930</td><td> 9174</td><td>32905</td><td> 1683</td><td>16389</td><td>24755</td><td>24253</td><td>⋯</td><td>34131</td><td> 9353</td><td>36860</td><td>27044</td><td>29600</td><td>18060</td><td>22109</td><td> 2067</td><td>21250</td><td> 7813</td></tr>\n",
       "\t<tr><td> 9064</td><td>15942</td><td>20341</td><td>34086</td><td>11460</td><td>29703</td><td>28629</td><td>13398</td><td>25943</td><td>25728</td><td>⋯</td><td>32721</td><td>31188</td><td>16100</td><td>39201</td><td>  111</td><td>28435</td><td>39740</td><td> 2859</td><td>30267</td><td> 2813</td></tr>\n",
       "\t<tr><td>12174</td><td>33625</td><td>37771</td><td> 8249</td><td>13529</td><td> 5900</td><td>31575</td><td>35854</td><td> 6833</td><td>31013</td><td>⋯</td><td>22233</td><td>10145</td><td>37624</td><td>21968</td><td>20670</td><td>35857</td><td>14402</td><td>14971</td><td> 7839</td><td>32295</td></tr>\n",
       "\t<tr><td>13802</td><td>  659</td><td>40370</td><td>23288</td><td> 3865</td><td>18076</td><td>35406</td><td>23719</td><td>39792</td><td>26239</td><td>⋯</td><td>17853</td><td>22124</td><td> 6920</td><td>13022</td><td>23652</td><td>28211</td><td>22080</td><td>22005</td><td>15456</td><td>33566</td></tr>\n",
       "\t<tr><td> 3284</td><td>34762</td><td>36839</td><td>32524</td><td> 2489</td><td>38641</td><td>10751</td><td>32828</td><td>26882</td><td> 3453</td><td>⋯</td><td>36891</td><td> 8423</td><td>38947</td><td>  517</td><td>10260</td><td>25386</td><td>11497</td><td>25834</td><td>33755</td><td>37120</td></tr>\n",
       "\t<tr><td> 4468</td><td>27029</td><td> 6084</td><td>30860</td><td>26836</td><td>29159</td><td> 2149</td><td>30740</td><td>27329</td><td>19026</td><td>⋯</td><td> 4023</td><td>37398</td><td> 9786</td><td>27069</td><td>36621</td><td>34366</td><td>12733</td><td>21415</td><td>17284</td><td>30128</td></tr>\n",
       "\t<tr><td>16697</td><td>24252</td><td>20963</td><td> 7187</td><td> 3920</td><td>29798</td><td>12245</td><td> 4530</td><td>26730</td><td> 6640</td><td>⋯</td><td> 4536</td><td>12166</td><td> 5821</td><td>36324</td><td>14744</td><td>   77</td><td> 8591</td><td>39920</td><td>21020</td><td>28052</td></tr>\n",
       "\t<tr><td>28526</td><td>22825</td><td>10848</td><td>20897</td><td>24617</td><td>26088</td><td>35205</td><td>20250</td><td>20331</td><td>22488</td><td>⋯</td><td> 6410</td><td>39432</td><td>18225</td><td> 9661</td><td>38397</td><td>17276</td><td>19001</td><td> 3688</td><td>18002</td><td>34783</td></tr>\n",
       "\t<tr><td>12245</td><td> 6461</td><td>19849</td><td>  471</td><td>33070</td><td>  964</td><td>35856</td><td>25860</td><td>26554</td><td>38517</td><td>⋯</td><td>31484</td><td>12700</td><td>37008</td><td>38566</td><td>29792</td><td>18737</td><td>35423</td><td>32800</td><td>10140</td><td>29833</td></tr>\n",
       "\t<tr><td>33837</td><td>13607</td><td>18816</td><td>35647</td><td>31157</td><td>10106</td><td>16811</td><td>35546</td><td>27331</td><td>29849</td><td>⋯</td><td> 4726</td><td>34639</td><td>38338</td><td>36318</td><td>25024</td><td>15200</td><td>25163</td><td> 2565</td><td> 8091</td><td>32758</td></tr>\n",
       "\t<tr><td>14410</td><td>18119</td><td>29111</td><td>35668</td><td>20041</td><td>13884</td><td> 5456</td><td>22812</td><td>24824</td><td> 4756</td><td>⋯</td><td> 7430</td><td>23944</td><td>39030</td><td>19508</td><td> 5826</td><td>11253</td><td>23446</td><td>27981</td><td>28702</td><td>26559</td></tr>\n",
       "\t<tr><td>26268</td><td>20983</td><td>17825</td><td> 8955</td><td>36394</td><td> 6016</td><td> 2078</td><td> 3455</td><td>19499</td><td>32480</td><td>⋯</td><td>26100</td><td>11513</td><td>32605</td><td>13935</td><td>37900</td><td> 3465</td><td>35697</td><td>20893</td><td>33052</td><td>35493</td></tr>\n",
       "\t<tr><td>36796</td><td> 2509</td><td> 2125</td><td>32649</td><td>21563</td><td>33893</td><td>24616</td><td>20581</td><td> 8375</td><td>19042</td><td>⋯</td><td>25481</td><td>35243</td><td>30419</td><td>17821</td><td>25443</td><td>32856</td><td>18552</td><td> 9912</td><td> 6607</td><td>33393</td></tr>\n",
       "\t<tr><td>39208</td><td>27060</td><td>37631</td><td>34405</td><td>14461</td><td>13046</td><td>19196</td><td>31568</td><td>37368</td><td>35880</td><td>⋯</td><td> 8924</td><td>21725</td><td>34046</td><td>23008</td><td>24429</td><td>33955</td><td>13896</td><td>30709</td><td>27250</td><td>26824</td></tr>\n",
       "\t<tr><td>14419</td><td> 1731</td><td> 9187</td><td>27864</td><td>17388</td><td>14792</td><td> 2155</td><td>31539</td><td>31362</td><td>11499</td><td>⋯</td><td>37563</td><td>18952</td><td>29279</td><td>25380</td><td>36737</td><td>37750</td><td>32016</td><td>23198</td><td> 5524</td><td>20006</td></tr>\n",
       "\t<tr><td>19784</td><td> 3841</td><td>28597</td><td> 7278</td><td>31620</td><td>10958</td><td> 4764</td><td> 9505</td><td> 6744</td><td>10247</td><td>⋯</td><td>21362</td><td>39447</td><td>  256</td><td> 2887</td><td>  372</td><td>37972</td><td>11021</td><td>13947</td><td>27737</td><td>31922</td></tr>\n",
       "\t<tr><td>17082</td><td>12218</td><td> 6464</td><td>34343</td><td>14383</td><td>21937</td><td>26543</td><td>19115</td><td>15817</td><td>32840</td><td>⋯</td><td>25492</td><td>10307</td><td>34705</td><td>29923</td><td>23472</td><td>34895</td><td>27062</td><td>11525</td><td>18698</td><td>15072</td></tr>\n",
       "\t<tr><td>20820</td><td>29117</td><td>18682</td><td>29444</td><td>16841</td><td> 9208</td><td>32052</td><td>11433</td><td> 6313</td><td> 3014</td><td>⋯</td><td>32645</td><td>30873</td><td>32175</td><td> 3376</td><td>16490</td><td> 2421</td><td> 2641</td><td>28809</td><td>16973</td><td>22569</td></tr>\n",
       "\t<tr><td>⋮</td><td>⋮</td><td>⋮</td><td>⋮</td><td>⋮</td><td>⋮</td><td>⋮</td><td>⋮</td><td>⋮</td><td>⋮</td><td>⋱</td><td>⋮</td><td>⋮</td><td>⋮</td><td>⋮</td><td>⋮</td><td>⋮</td><td>⋮</td><td>⋮</td><td>⋮</td><td>⋮</td></tr>\n",
       "\t<tr><td>26676</td><td> 6563</td><td>30528</td><td> 2571</td><td>22478</td><td>29646</td><td>25058</td><td> 7896</td><td> 9988</td><td>27658</td><td>⋯</td><td>15674</td><td> 7711</td><td>16483</td><td>36637</td><td>19024</td><td>10387</td><td>17722</td><td>29545</td><td>23742</td><td>31873</td></tr>\n",
       "\t<tr><td>10970</td><td>27886</td><td>19465</td><td> 9399</td><td>13074</td><td>22796</td><td> 3329</td><td> 5751</td><td>28192</td><td>31377</td><td>⋯</td><td>14776</td><td> 9976</td><td>12214</td><td>15193</td><td>28426</td><td>24328</td><td>29541</td><td>35916</td><td>11185</td><td>21017</td></tr>\n",
       "\t<tr><td>20564</td><td>19630</td><td>32647</td><td> 1450</td><td>27592</td><td>20111</td><td> 9296</td><td> 2111</td><td>17737</td><td>21009</td><td>⋯</td><td>35701</td><td>33330</td><td>27491</td><td> 8253</td><td> 3281</td><td>24476</td><td> 3455</td><td> 6739</td><td> 5376</td><td>13077</td></tr>\n",
       "\t<tr><td>24126</td><td>  865</td><td> 8686</td><td>20275</td><td>35663</td><td> 5938</td><td>24448</td><td>32392</td><td> 6392</td><td> 3371</td><td>⋯</td><td> 2796</td><td>27980</td><td>32334</td><td>13250</td><td>  489</td><td>39220</td><td>19292</td><td>22126</td><td>24030</td><td>16234</td></tr>\n",
       "\t<tr><td>37541</td><td>18538</td><td>29165</td><td>   40</td><td>14522</td><td>10118</td><td> 1980</td><td>39799</td><td>33902</td><td>23477</td><td>⋯</td><td>18874</td><td>29576</td><td>11430</td><td>  859</td><td>38999</td><td>33521</td><td> 9076</td><td>39132</td><td> 6532</td><td>23663</td></tr>\n",
       "\t<tr><td>22287</td><td>17353</td><td>22966</td><td>33007</td><td>26011</td><td>34705</td><td>30864</td><td>36866</td><td> 4181</td><td> 6659</td><td>⋯</td><td>30533</td><td>31091</td><td>34832</td><td>27083</td><td>25492</td><td>23810</td><td>26469</td><td>24783</td><td> 8051</td><td>11544</td></tr>\n",
       "\t<tr><td>25795</td><td>25969</td><td>10077</td><td> 8647</td><td>20475</td><td> 6206</td><td>13301</td><td>36922</td><td>35567</td><td>36854</td><td>⋯</td><td>34318</td><td>32533</td><td> 6012</td><td>30579</td><td>13794</td><td> 4464</td><td>20572</td><td>31135</td><td>25934</td><td>30967</td></tr>\n",
       "\t<tr><td>30092</td><td>35633</td><td>32382</td><td>11933</td><td> 5278</td><td> 2327</td><td>34397</td><td>31322</td><td>32696</td><td>35881</td><td>⋯</td><td>16715</td><td>15311</td><td>24624</td><td>16938</td><td>29759</td><td> 6057</td><td>28105</td><td>29280</td><td>39734</td><td>21228</td></tr>\n",
       "\t<tr><td>19077</td><td>38766</td><td>37541</td><td> 1239</td><td> 7076</td><td>24927</td><td>33613</td><td>40218</td><td>18971</td><td>36318</td><td>⋯</td><td>15059</td><td>12842</td><td>29022</td><td>27662</td><td>37442</td><td> 9556</td><td>25327</td><td>36338</td><td> 8203</td><td>15483</td></tr>\n",
       "\t<tr><td>27050</td><td> 1732</td><td>30248</td><td>  893</td><td> 6827</td><td>11210</td><td>18616</td><td>16921</td><td> 1462</td><td>28521</td><td>⋯</td><td>12164</td><td>13569</td><td>22394</td><td>36280</td><td>37888</td><td>11532</td><td> 4611</td><td> 2603</td><td> 4832</td><td> 5554</td></tr>\n",
       "\t<tr><td>39518</td><td>19206</td><td> 8064</td><td>  542</td><td>26293</td><td>22950</td><td>34571</td><td>38575</td><td>21278</td><td>18476</td><td>⋯</td><td>34559</td><td>10092</td><td>35093</td><td>23056</td><td>34017</td><td> 5036</td><td>34812</td><td>25573</td><td>27246</td><td> 4619</td></tr>\n",
       "\t<tr><td> 4549</td><td> 7579</td><td>19832</td><td> 6919</td><td>33273</td><td>15253</td><td>  661</td><td>22789</td><td> 8033</td><td>33850</td><td>⋯</td><td>24254</td><td>39180</td><td>19837</td><td>10257</td><td> 1752</td><td> 5932</td><td>19530</td><td> 5469</td><td>34280</td><td>36338</td></tr>\n",
       "\t<tr><td>11589</td><td>12736</td><td> 6218</td><td>14597</td><td>20209</td><td> 9611</td><td>27529</td><td>24434</td><td>39827</td><td>11814</td><td>⋯</td><td>29292</td><td>12940</td><td>31521</td><td> 1582</td><td>27137</td><td> 2774</td><td>20771</td><td>28130</td><td>24584</td><td> 9176</td></tr>\n",
       "\t<tr><td> 4339</td><td>10951</td><td>14936</td><td>37695</td><td>25486</td><td>13727</td><td>36947</td><td>32674</td><td>18656</td><td>24514</td><td>⋯</td><td> 8071</td><td>34008</td><td>35691</td><td>24918</td><td> 2956</td><td>27779</td><td>12326</td><td>18011</td><td>18289</td><td>38908</td></tr>\n",
       "\t<tr><td> 1014</td><td>40303</td><td> 9423</td><td> 3493</td><td> 1820</td><td>30521</td><td> 2717</td><td>16532</td><td>10139</td><td>34309</td><td>⋯</td><td>32385</td><td> 4154</td><td>17974</td><td>35999</td><td>36410</td><td>26943</td><td> 7864</td><td> 4707</td><td> 6741</td><td>10266</td></tr>\n",
       "\t<tr><td>11443</td><td>28748</td><td>  314</td><td>22447</td><td>34427</td><td>40030</td><td> 2180</td><td>32914</td><td>29907</td><td>21303</td><td>⋯</td><td>30225</td><td>27210</td><td> 4768</td><td>30042</td><td>36237</td><td>28868</td><td>38103</td><td>32051</td><td>32464</td><td>27683</td></tr>\n",
       "\t<tr><td>18564</td><td>26915</td><td>25866</td><td>12903</td><td>35344</td><td>23469</td><td>20600</td><td>16120</td><td>22322</td><td>  242</td><td>⋯</td><td>26428</td><td>20686</td><td> 2581</td><td>28451</td><td>39853</td><td>35352</td><td>25355</td><td>25694</td><td>14927</td><td>10085</td></tr>\n",
       "\t<tr><td>  312</td><td>29935</td><td> 6188</td><td>36877</td><td>18387</td><td> 5879</td><td> 8421</td><td>26545</td><td>27390</td><td>35748</td><td>⋯</td><td> 6176</td><td>23779</td><td>  523</td><td>23672</td><td>  962</td><td>21527</td><td>39655</td><td> 1734</td><td>32302</td><td>36125</td></tr>\n",
       "\t<tr><td>20104</td><td>37241</td><td>27922</td><td> 8095</td><td> 4004</td><td>31374</td><td>24224</td><td>17929</td><td>35656</td><td>12937</td><td>⋯</td><td> 5238</td><td> 2955</td><td>34068</td><td>24908</td><td>33586</td><td>28105</td><td> 3343</td><td>20291</td><td> 8474</td><td> 6662</td></tr>\n",
       "\t<tr><td>30808</td><td>32978</td><td>32322</td><td>24861</td><td>23336</td><td>13986</td><td>10340</td><td>15058</td><td>29291</td><td>18140</td><td>⋯</td><td>30984</td><td>30433</td><td>38685</td><td> 5989</td><td>28611</td><td>13366</td><td> 6576</td><td> 1642</td><td>13820</td><td>40417</td></tr>\n",
       "\t<tr><td>22225</td><td>39738</td><td>14931</td><td> 4085</td><td> 7831</td><td>34424</td><td>12410</td><td> 6174</td><td>13137</td><td>32317</td><td>⋯</td><td>20809</td><td>11808</td><td> 8795</td><td>20857</td><td> 3692</td><td>33945</td><td>34219</td><td>33561</td><td>25551</td><td>  571</td></tr>\n",
       "\t<tr><td>30418</td><td>28965</td><td>23155</td><td> 1296</td><td>15998</td><td>37154</td><td>34076</td><td>37788</td><td>35407</td><td>40388</td><td>⋯</td><td> 7467</td><td>35567</td><td>32883</td><td>15875</td><td>11509</td><td>11432</td><td>33477</td><td>12888</td><td>30642</td><td>18048</td></tr>\n",
       "\t<tr><td>13225</td><td>20404</td><td>16423</td><td> 2711</td><td>34006</td><td> 1667</td><td>38687</td><td> 2917</td><td>28674</td><td>19118</td><td>⋯</td><td>16022</td><td>12569</td><td> 7621</td><td>36601</td><td> 8795</td><td> 7982</td><td> 7162</td><td>35387</td><td>  553</td><td>13801</td></tr>\n",
       "\t<tr><td> 3468</td><td>29498</td><td>23951</td><td>13484</td><td>24629</td><td> 6742</td><td>24394</td><td>32395</td><td> 3973</td><td> 6991</td><td>⋯</td><td>13741</td><td>34991</td><td>19392</td><td>36097</td><td> 3349</td><td>28427</td><td>32552</td><td> 6316</td><td>37921</td><td>26361</td></tr>\n",
       "\t<tr><td> 7757</td><td> 9994</td><td>14880</td><td>16863</td><td>33798</td><td>25997</td><td>22107</td><td> 3598</td><td>24243</td><td>20791</td><td>⋯</td><td> 7616</td><td>29223</td><td> 3577</td><td>35248</td><td>27763</td><td>28399</td><td> 7831</td><td>25600</td><td>  581</td><td> 4149</td></tr>\n",
       "\t<tr><td> 2923</td><td>16842</td><td>14322</td><td>39425</td><td>17510</td><td> 6872</td><td>34102</td><td> 7072</td><td>20243</td><td>17870</td><td>⋯</td><td>12391</td><td> 8503</td><td>31249</td><td>39344</td><td>34345</td><td>17764</td><td> 6946</td><td>28876</td><td>11091</td><td> 3836</td></tr>\n",
       "\t<tr><td>23275</td><td>31467</td><td>14488</td><td> 3264</td><td>37749</td><td> 9810</td><td>22298</td><td>30027</td><td>18614</td><td>34146</td><td>⋯</td><td>33003</td><td>30285</td><td> 4719</td><td>40218</td><td> 8288</td><td>20968</td><td>33948</td><td>21029</td><td> 9131</td><td>27724</td></tr>\n",
       "\t<tr><td>22578</td><td>25445</td><td>31913</td><td>36431</td><td>29849</td><td>24378</td><td>22283</td><td>20704</td><td>36664</td><td>30962</td><td>⋯</td><td> 7962</td><td>11430</td><td>30796</td><td>29169</td><td>36576</td><td>14855</td><td>24393</td><td>25784</td><td>10546</td><td> 1979</td></tr>\n",
       "\t<tr><td>35165</td><td>19650</td><td>36537</td><td>25167</td><td>17898</td><td>15523</td><td>31949</td><td>28530</td><td>18717</td><td>10773</td><td>⋯</td><td>18530</td><td> 3303</td><td> 5454</td><td>29975</td><td>22951</td><td> 1328</td><td>20552</td><td>26706</td><td>39696</td><td> 8151</td></tr>\n",
       "\t<tr><td> 3384</td><td> 6375</td><td>35980</td><td>27309</td><td>36709</td><td>28470</td><td>11864</td><td>24724</td><td>31954</td><td>18567</td><td>⋯</td><td> 1906</td><td>23917</td><td> 2804</td><td> 7932</td><td>19408</td><td>13876</td><td>35997</td><td>27833</td><td>18915</td><td>12066</td></tr>\n",
       "</tbody>\n",
       "</table>\n"
      ],
      "text/latex": [
       "A matrix: 40464 × 200 of type int\n",
       "\\begin{tabular}{lllllllllllllllllllll}\n",
       "\t  7753 & 38234 & 15008 & 31358 & 30259 & 22268 & 19158 &  8743 & 24937 &  8135 & ⋯ & 11890 & 15415 & 10577 & 27438 & 29801 & 25717 & 19816 & 27497 & 34892 &  4522\\\\\n",
       "\t 40405 &  7038 &   199 & 17266 & 33358 & 26592 & 38639 & 31792 & 24714 & 14368 & ⋯ & 16088 & 28869 & 37854 & 25086 &  4408 & 29645 & 10893 & 38392 & 36085 & 17585\\\\\n",
       "\t   454 & 16934 & 11189 &   681 & 24459 & 20472 &  6106 & 20811 & 28994 &  4242 & ⋯ & 29527 & 36708 &  9967 & 19353 & 25476 &  1771 & 21706 & 39999 & 32917 & 32448\\\\\n",
       "\t  3491 & 23605 & 36074 & 22865 & 40311 & 28076 & 20069 & 23108 & 15041 & 33860 & ⋯ & 15870 & 32962 & 14183 & 38154 &  2143 &   985 & 34735 & 11112 & 28956 &  3815\\\\\n",
       "\t 15851 & 28222 & 31897 & 14436 & 33635 & 23711 & 16849 & 38799 & 15548 & 30972 & ⋯ & 36436 & 38225 & 11311 &   960 & 16992 & 25975 & 13039 & 25436 &   198 &  1569\\\\\n",
       "\t 30545 & 31704 &  3831 &  4212 & 36663 & 29847 & 16937 & 23679 & 14110 &  1715 & ⋯ & 21496 &  2511 & 19304 & 14082 &  6652 & 11982 & 40193 &  5362 & 37955 & 23880\\\\\n",
       "\t 10551 & 11113 & 38651 & 34054 &   707 & 31654 & 25413 &  4378 &  6296 & 16763 & ⋯ & 24306 &  8464 & 17504 &  7801 &  6171 & 29634 & 14823 & 14327 &  8791 & 16200\\\\\n",
       "\t   638 &  1702 & 19237 & 19764 & 15488 & 21995 &  3044 &  1398 &  5282 & 18782 & ⋯ & 26659 &  6843 & 31839 &  6264 & 21187 & 21907 & 12841 &  1222 & 30519 & 11015\\\\\n",
       "\t 15879 &  7906 & 24656 & 38351 &  9803 & 17422 & 34014 & 10029 & 12202 & 30442 & ⋯ & 11735 & 38317 & 39295 & 19179 &  6607 & 35212 & 18197 & 26178 &  6071 & 23155\\\\\n",
       "\t   728 & 39740 & 27288 &  6081 & 25234 & 22211 & 32989 & 32835 & 11107 & 32680 & ⋯ & 21253 &  2021 & 35286 & 28407 & 34991 & 16338 & 18433 & 36514 &  5809 & 22676\\\\\n",
       "\t 27451 &  3091 & 38252 & 24194 & 39837 & 16251 & 23827 & 17679 &  2023 &  4904 & ⋯ & 17731 &  3116 & 19480 & 11484 & 19864 & 22770 & 30537 & 26141 &  7480 &  7202\\\\\n",
       "\t 13640 & 11402 & 23817 & 25153 & 32851 &  8127 & 34489 &  8021 & 28315 & 25732 & ⋯ & 26399 & 15748 & 28300 & 22577 & 25932 & 29907 & 28333 & 14421 & 17783 & 29756\\\\\n",
       "\t 15745 & 29805 & 37990 & 19930 &  9174 & 32905 &  1683 & 16389 & 24755 & 24253 & ⋯ & 34131 &  9353 & 36860 & 27044 & 29600 & 18060 & 22109 &  2067 & 21250 &  7813\\\\\n",
       "\t  9064 & 15942 & 20341 & 34086 & 11460 & 29703 & 28629 & 13398 & 25943 & 25728 & ⋯ & 32721 & 31188 & 16100 & 39201 &   111 & 28435 & 39740 &  2859 & 30267 &  2813\\\\\n",
       "\t 12174 & 33625 & 37771 &  8249 & 13529 &  5900 & 31575 & 35854 &  6833 & 31013 & ⋯ & 22233 & 10145 & 37624 & 21968 & 20670 & 35857 & 14402 & 14971 &  7839 & 32295\\\\\n",
       "\t 13802 &   659 & 40370 & 23288 &  3865 & 18076 & 35406 & 23719 & 39792 & 26239 & ⋯ & 17853 & 22124 &  6920 & 13022 & 23652 & 28211 & 22080 & 22005 & 15456 & 33566\\\\\n",
       "\t  3284 & 34762 & 36839 & 32524 &  2489 & 38641 & 10751 & 32828 & 26882 &  3453 & ⋯ & 36891 &  8423 & 38947 &   517 & 10260 & 25386 & 11497 & 25834 & 33755 & 37120\\\\\n",
       "\t  4468 & 27029 &  6084 & 30860 & 26836 & 29159 &  2149 & 30740 & 27329 & 19026 & ⋯ &  4023 & 37398 &  9786 & 27069 & 36621 & 34366 & 12733 & 21415 & 17284 & 30128\\\\\n",
       "\t 16697 & 24252 & 20963 &  7187 &  3920 & 29798 & 12245 &  4530 & 26730 &  6640 & ⋯ &  4536 & 12166 &  5821 & 36324 & 14744 &    77 &  8591 & 39920 & 21020 & 28052\\\\\n",
       "\t 28526 & 22825 & 10848 & 20897 & 24617 & 26088 & 35205 & 20250 & 20331 & 22488 & ⋯ &  6410 & 39432 & 18225 &  9661 & 38397 & 17276 & 19001 &  3688 & 18002 & 34783\\\\\n",
       "\t 12245 &  6461 & 19849 &   471 & 33070 &   964 & 35856 & 25860 & 26554 & 38517 & ⋯ & 31484 & 12700 & 37008 & 38566 & 29792 & 18737 & 35423 & 32800 & 10140 & 29833\\\\\n",
       "\t 33837 & 13607 & 18816 & 35647 & 31157 & 10106 & 16811 & 35546 & 27331 & 29849 & ⋯ &  4726 & 34639 & 38338 & 36318 & 25024 & 15200 & 25163 &  2565 &  8091 & 32758\\\\\n",
       "\t 14410 & 18119 & 29111 & 35668 & 20041 & 13884 &  5456 & 22812 & 24824 &  4756 & ⋯ &  7430 & 23944 & 39030 & 19508 &  5826 & 11253 & 23446 & 27981 & 28702 & 26559\\\\\n",
       "\t 26268 & 20983 & 17825 &  8955 & 36394 &  6016 &  2078 &  3455 & 19499 & 32480 & ⋯ & 26100 & 11513 & 32605 & 13935 & 37900 &  3465 & 35697 & 20893 & 33052 & 35493\\\\\n",
       "\t 36796 &  2509 &  2125 & 32649 & 21563 & 33893 & 24616 & 20581 &  8375 & 19042 & ⋯ & 25481 & 35243 & 30419 & 17821 & 25443 & 32856 & 18552 &  9912 &  6607 & 33393\\\\\n",
       "\t 39208 & 27060 & 37631 & 34405 & 14461 & 13046 & 19196 & 31568 & 37368 & 35880 & ⋯ &  8924 & 21725 & 34046 & 23008 & 24429 & 33955 & 13896 & 30709 & 27250 & 26824\\\\\n",
       "\t 14419 &  1731 &  9187 & 27864 & 17388 & 14792 &  2155 & 31539 & 31362 & 11499 & ⋯ & 37563 & 18952 & 29279 & 25380 & 36737 & 37750 & 32016 & 23198 &  5524 & 20006\\\\\n",
       "\t 19784 &  3841 & 28597 &  7278 & 31620 & 10958 &  4764 &  9505 &  6744 & 10247 & ⋯ & 21362 & 39447 &   256 &  2887 &   372 & 37972 & 11021 & 13947 & 27737 & 31922\\\\\n",
       "\t 17082 & 12218 &  6464 & 34343 & 14383 & 21937 & 26543 & 19115 & 15817 & 32840 & ⋯ & 25492 & 10307 & 34705 & 29923 & 23472 & 34895 & 27062 & 11525 & 18698 & 15072\\\\\n",
       "\t 20820 & 29117 & 18682 & 29444 & 16841 &  9208 & 32052 & 11433 &  6313 &  3014 & ⋯ & 32645 & 30873 & 32175 &  3376 & 16490 &  2421 &  2641 & 28809 & 16973 & 22569\\\\\n",
       "\t ⋮ & ⋮ & ⋮ & ⋮ & ⋮ & ⋮ & ⋮ & ⋮ & ⋮ & ⋮ & ⋱ & ⋮ & ⋮ & ⋮ & ⋮ & ⋮ & ⋮ & ⋮ & ⋮ & ⋮ & ⋮\\\\\n",
       "\t 26676 &  6563 & 30528 &  2571 & 22478 & 29646 & 25058 &  7896 &  9988 & 27658 & ⋯ & 15674 &  7711 & 16483 & 36637 & 19024 & 10387 & 17722 & 29545 & 23742 & 31873\\\\\n",
       "\t 10970 & 27886 & 19465 &  9399 & 13074 & 22796 &  3329 &  5751 & 28192 & 31377 & ⋯ & 14776 &  9976 & 12214 & 15193 & 28426 & 24328 & 29541 & 35916 & 11185 & 21017\\\\\n",
       "\t 20564 & 19630 & 32647 &  1450 & 27592 & 20111 &  9296 &  2111 & 17737 & 21009 & ⋯ & 35701 & 33330 & 27491 &  8253 &  3281 & 24476 &  3455 &  6739 &  5376 & 13077\\\\\n",
       "\t 24126 &   865 &  8686 & 20275 & 35663 &  5938 & 24448 & 32392 &  6392 &  3371 & ⋯ &  2796 & 27980 & 32334 & 13250 &   489 & 39220 & 19292 & 22126 & 24030 & 16234\\\\\n",
       "\t 37541 & 18538 & 29165 &    40 & 14522 & 10118 &  1980 & 39799 & 33902 & 23477 & ⋯ & 18874 & 29576 & 11430 &   859 & 38999 & 33521 &  9076 & 39132 &  6532 & 23663\\\\\n",
       "\t 22287 & 17353 & 22966 & 33007 & 26011 & 34705 & 30864 & 36866 &  4181 &  6659 & ⋯ & 30533 & 31091 & 34832 & 27083 & 25492 & 23810 & 26469 & 24783 &  8051 & 11544\\\\\n",
       "\t 25795 & 25969 & 10077 &  8647 & 20475 &  6206 & 13301 & 36922 & 35567 & 36854 & ⋯ & 34318 & 32533 &  6012 & 30579 & 13794 &  4464 & 20572 & 31135 & 25934 & 30967\\\\\n",
       "\t 30092 & 35633 & 32382 & 11933 &  5278 &  2327 & 34397 & 31322 & 32696 & 35881 & ⋯ & 16715 & 15311 & 24624 & 16938 & 29759 &  6057 & 28105 & 29280 & 39734 & 21228\\\\\n",
       "\t 19077 & 38766 & 37541 &  1239 &  7076 & 24927 & 33613 & 40218 & 18971 & 36318 & ⋯ & 15059 & 12842 & 29022 & 27662 & 37442 &  9556 & 25327 & 36338 &  8203 & 15483\\\\\n",
       "\t 27050 &  1732 & 30248 &   893 &  6827 & 11210 & 18616 & 16921 &  1462 & 28521 & ⋯ & 12164 & 13569 & 22394 & 36280 & 37888 & 11532 &  4611 &  2603 &  4832 &  5554\\\\\n",
       "\t 39518 & 19206 &  8064 &   542 & 26293 & 22950 & 34571 & 38575 & 21278 & 18476 & ⋯ & 34559 & 10092 & 35093 & 23056 & 34017 &  5036 & 34812 & 25573 & 27246 &  4619\\\\\n",
       "\t  4549 &  7579 & 19832 &  6919 & 33273 & 15253 &   661 & 22789 &  8033 & 33850 & ⋯ & 24254 & 39180 & 19837 & 10257 &  1752 &  5932 & 19530 &  5469 & 34280 & 36338\\\\\n",
       "\t 11589 & 12736 &  6218 & 14597 & 20209 &  9611 & 27529 & 24434 & 39827 & 11814 & ⋯ & 29292 & 12940 & 31521 &  1582 & 27137 &  2774 & 20771 & 28130 & 24584 &  9176\\\\\n",
       "\t  4339 & 10951 & 14936 & 37695 & 25486 & 13727 & 36947 & 32674 & 18656 & 24514 & ⋯ &  8071 & 34008 & 35691 & 24918 &  2956 & 27779 & 12326 & 18011 & 18289 & 38908\\\\\n",
       "\t  1014 & 40303 &  9423 &  3493 &  1820 & 30521 &  2717 & 16532 & 10139 & 34309 & ⋯ & 32385 &  4154 & 17974 & 35999 & 36410 & 26943 &  7864 &  4707 &  6741 & 10266\\\\\n",
       "\t 11443 & 28748 &   314 & 22447 & 34427 & 40030 &  2180 & 32914 & 29907 & 21303 & ⋯ & 30225 & 27210 &  4768 & 30042 & 36237 & 28868 & 38103 & 32051 & 32464 & 27683\\\\\n",
       "\t 18564 & 26915 & 25866 & 12903 & 35344 & 23469 & 20600 & 16120 & 22322 &   242 & ⋯ & 26428 & 20686 &  2581 & 28451 & 39853 & 35352 & 25355 & 25694 & 14927 & 10085\\\\\n",
       "\t   312 & 29935 &  6188 & 36877 & 18387 &  5879 &  8421 & 26545 & 27390 & 35748 & ⋯ &  6176 & 23779 &   523 & 23672 &   962 & 21527 & 39655 &  1734 & 32302 & 36125\\\\\n",
       "\t 20104 & 37241 & 27922 &  8095 &  4004 & 31374 & 24224 & 17929 & 35656 & 12937 & ⋯ &  5238 &  2955 & 34068 & 24908 & 33586 & 28105 &  3343 & 20291 &  8474 &  6662\\\\\n",
       "\t 30808 & 32978 & 32322 & 24861 & 23336 & 13986 & 10340 & 15058 & 29291 & 18140 & ⋯ & 30984 & 30433 & 38685 &  5989 & 28611 & 13366 &  6576 &  1642 & 13820 & 40417\\\\\n",
       "\t 22225 & 39738 & 14931 &  4085 &  7831 & 34424 & 12410 &  6174 & 13137 & 32317 & ⋯ & 20809 & 11808 &  8795 & 20857 &  3692 & 33945 & 34219 & 33561 & 25551 &   571\\\\\n",
       "\t 30418 & 28965 & 23155 &  1296 & 15998 & 37154 & 34076 & 37788 & 35407 & 40388 & ⋯ &  7467 & 35567 & 32883 & 15875 & 11509 & 11432 & 33477 & 12888 & 30642 & 18048\\\\\n",
       "\t 13225 & 20404 & 16423 &  2711 & 34006 &  1667 & 38687 &  2917 & 28674 & 19118 & ⋯ & 16022 & 12569 &  7621 & 36601 &  8795 &  7982 &  7162 & 35387 &   553 & 13801\\\\\n",
       "\t  3468 & 29498 & 23951 & 13484 & 24629 &  6742 & 24394 & 32395 &  3973 &  6991 & ⋯ & 13741 & 34991 & 19392 & 36097 &  3349 & 28427 & 32552 &  6316 & 37921 & 26361\\\\\n",
       "\t  7757 &  9994 & 14880 & 16863 & 33798 & 25997 & 22107 &  3598 & 24243 & 20791 & ⋯ &  7616 & 29223 &  3577 & 35248 & 27763 & 28399 &  7831 & 25600 &   581 &  4149\\\\\n",
       "\t  2923 & 16842 & 14322 & 39425 & 17510 &  6872 & 34102 &  7072 & 20243 & 17870 & ⋯ & 12391 &  8503 & 31249 & 39344 & 34345 & 17764 &  6946 & 28876 & 11091 &  3836\\\\\n",
       "\t 23275 & 31467 & 14488 &  3264 & 37749 &  9810 & 22298 & 30027 & 18614 & 34146 & ⋯ & 33003 & 30285 &  4719 & 40218 &  8288 & 20968 & 33948 & 21029 &  9131 & 27724\\\\\n",
       "\t 22578 & 25445 & 31913 & 36431 & 29849 & 24378 & 22283 & 20704 & 36664 & 30962 & ⋯ &  7962 & 11430 & 30796 & 29169 & 36576 & 14855 & 24393 & 25784 & 10546 &  1979\\\\\n",
       "\t 35165 & 19650 & 36537 & 25167 & 17898 & 15523 & 31949 & 28530 & 18717 & 10773 & ⋯ & 18530 &  3303 &  5454 & 29975 & 22951 &  1328 & 20552 & 26706 & 39696 &  8151\\\\\n",
       "\t  3384 &  6375 & 35980 & 27309 & 36709 & 28470 & 11864 & 24724 & 31954 & 18567 & ⋯ &  1906 & 23917 &  2804 &  7932 & 19408 & 13876 & 35997 & 27833 & 18915 & 12066\\\\\n",
       "\\end{tabular}\n"
      ],
      "text/markdown": [
       "\n",
       "A matrix: 40464 × 200 of type int\n",
       "\n",
       "|  7753 | 38234 | 15008 | 31358 | 30259 | 22268 | 19158 |  8743 | 24937 |  8135 | ⋯ | 11890 | 15415 | 10577 | 27438 | 29801 | 25717 | 19816 | 27497 | 34892 |  4522 |\n",
       "| 40405 |  7038 |   199 | 17266 | 33358 | 26592 | 38639 | 31792 | 24714 | 14368 | ⋯ | 16088 | 28869 | 37854 | 25086 |  4408 | 29645 | 10893 | 38392 | 36085 | 17585 |\n",
       "|   454 | 16934 | 11189 |   681 | 24459 | 20472 |  6106 | 20811 | 28994 |  4242 | ⋯ | 29527 | 36708 |  9967 | 19353 | 25476 |  1771 | 21706 | 39999 | 32917 | 32448 |\n",
       "|  3491 | 23605 | 36074 | 22865 | 40311 | 28076 | 20069 | 23108 | 15041 | 33860 | ⋯ | 15870 | 32962 | 14183 | 38154 |  2143 |   985 | 34735 | 11112 | 28956 |  3815 |\n",
       "| 15851 | 28222 | 31897 | 14436 | 33635 | 23711 | 16849 | 38799 | 15548 | 30972 | ⋯ | 36436 | 38225 | 11311 |   960 | 16992 | 25975 | 13039 | 25436 |   198 |  1569 |\n",
       "| 30545 | 31704 |  3831 |  4212 | 36663 | 29847 | 16937 | 23679 | 14110 |  1715 | ⋯ | 21496 |  2511 | 19304 | 14082 |  6652 | 11982 | 40193 |  5362 | 37955 | 23880 |\n",
       "| 10551 | 11113 | 38651 | 34054 |   707 | 31654 | 25413 |  4378 |  6296 | 16763 | ⋯ | 24306 |  8464 | 17504 |  7801 |  6171 | 29634 | 14823 | 14327 |  8791 | 16200 |\n",
       "|   638 |  1702 | 19237 | 19764 | 15488 | 21995 |  3044 |  1398 |  5282 | 18782 | ⋯ | 26659 |  6843 | 31839 |  6264 | 21187 | 21907 | 12841 |  1222 | 30519 | 11015 |\n",
       "| 15879 |  7906 | 24656 | 38351 |  9803 | 17422 | 34014 | 10029 | 12202 | 30442 | ⋯ | 11735 | 38317 | 39295 | 19179 |  6607 | 35212 | 18197 | 26178 |  6071 | 23155 |\n",
       "|   728 | 39740 | 27288 |  6081 | 25234 | 22211 | 32989 | 32835 | 11107 | 32680 | ⋯ | 21253 |  2021 | 35286 | 28407 | 34991 | 16338 | 18433 | 36514 |  5809 | 22676 |\n",
       "| 27451 |  3091 | 38252 | 24194 | 39837 | 16251 | 23827 | 17679 |  2023 |  4904 | ⋯ | 17731 |  3116 | 19480 | 11484 | 19864 | 22770 | 30537 | 26141 |  7480 |  7202 |\n",
       "| 13640 | 11402 | 23817 | 25153 | 32851 |  8127 | 34489 |  8021 | 28315 | 25732 | ⋯ | 26399 | 15748 | 28300 | 22577 | 25932 | 29907 | 28333 | 14421 | 17783 | 29756 |\n",
       "| 15745 | 29805 | 37990 | 19930 |  9174 | 32905 |  1683 | 16389 | 24755 | 24253 | ⋯ | 34131 |  9353 | 36860 | 27044 | 29600 | 18060 | 22109 |  2067 | 21250 |  7813 |\n",
       "|  9064 | 15942 | 20341 | 34086 | 11460 | 29703 | 28629 | 13398 | 25943 | 25728 | ⋯ | 32721 | 31188 | 16100 | 39201 |   111 | 28435 | 39740 |  2859 | 30267 |  2813 |\n",
       "| 12174 | 33625 | 37771 |  8249 | 13529 |  5900 | 31575 | 35854 |  6833 | 31013 | ⋯ | 22233 | 10145 | 37624 | 21968 | 20670 | 35857 | 14402 | 14971 |  7839 | 32295 |\n",
       "| 13802 |   659 | 40370 | 23288 |  3865 | 18076 | 35406 | 23719 | 39792 | 26239 | ⋯ | 17853 | 22124 |  6920 | 13022 | 23652 | 28211 | 22080 | 22005 | 15456 | 33566 |\n",
       "|  3284 | 34762 | 36839 | 32524 |  2489 | 38641 | 10751 | 32828 | 26882 |  3453 | ⋯ | 36891 |  8423 | 38947 |   517 | 10260 | 25386 | 11497 | 25834 | 33755 | 37120 |\n",
       "|  4468 | 27029 |  6084 | 30860 | 26836 | 29159 |  2149 | 30740 | 27329 | 19026 | ⋯ |  4023 | 37398 |  9786 | 27069 | 36621 | 34366 | 12733 | 21415 | 17284 | 30128 |\n",
       "| 16697 | 24252 | 20963 |  7187 |  3920 | 29798 | 12245 |  4530 | 26730 |  6640 | ⋯ |  4536 | 12166 |  5821 | 36324 | 14744 |    77 |  8591 | 39920 | 21020 | 28052 |\n",
       "| 28526 | 22825 | 10848 | 20897 | 24617 | 26088 | 35205 | 20250 | 20331 | 22488 | ⋯ |  6410 | 39432 | 18225 |  9661 | 38397 | 17276 | 19001 |  3688 | 18002 | 34783 |\n",
       "| 12245 |  6461 | 19849 |   471 | 33070 |   964 | 35856 | 25860 | 26554 | 38517 | ⋯ | 31484 | 12700 | 37008 | 38566 | 29792 | 18737 | 35423 | 32800 | 10140 | 29833 |\n",
       "| 33837 | 13607 | 18816 | 35647 | 31157 | 10106 | 16811 | 35546 | 27331 | 29849 | ⋯ |  4726 | 34639 | 38338 | 36318 | 25024 | 15200 | 25163 |  2565 |  8091 | 32758 |\n",
       "| 14410 | 18119 | 29111 | 35668 | 20041 | 13884 |  5456 | 22812 | 24824 |  4756 | ⋯ |  7430 | 23944 | 39030 | 19508 |  5826 | 11253 | 23446 | 27981 | 28702 | 26559 |\n",
       "| 26268 | 20983 | 17825 |  8955 | 36394 |  6016 |  2078 |  3455 | 19499 | 32480 | ⋯ | 26100 | 11513 | 32605 | 13935 | 37900 |  3465 | 35697 | 20893 | 33052 | 35493 |\n",
       "| 36796 |  2509 |  2125 | 32649 | 21563 | 33893 | 24616 | 20581 |  8375 | 19042 | ⋯ | 25481 | 35243 | 30419 | 17821 | 25443 | 32856 | 18552 |  9912 |  6607 | 33393 |\n",
       "| 39208 | 27060 | 37631 | 34405 | 14461 | 13046 | 19196 | 31568 | 37368 | 35880 | ⋯ |  8924 | 21725 | 34046 | 23008 | 24429 | 33955 | 13896 | 30709 | 27250 | 26824 |\n",
       "| 14419 |  1731 |  9187 | 27864 | 17388 | 14792 |  2155 | 31539 | 31362 | 11499 | ⋯ | 37563 | 18952 | 29279 | 25380 | 36737 | 37750 | 32016 | 23198 |  5524 | 20006 |\n",
       "| 19784 |  3841 | 28597 |  7278 | 31620 | 10958 |  4764 |  9505 |  6744 | 10247 | ⋯ | 21362 | 39447 |   256 |  2887 |   372 | 37972 | 11021 | 13947 | 27737 | 31922 |\n",
       "| 17082 | 12218 |  6464 | 34343 | 14383 | 21937 | 26543 | 19115 | 15817 | 32840 | ⋯ | 25492 | 10307 | 34705 | 29923 | 23472 | 34895 | 27062 | 11525 | 18698 | 15072 |\n",
       "| 20820 | 29117 | 18682 | 29444 | 16841 |  9208 | 32052 | 11433 |  6313 |  3014 | ⋯ | 32645 | 30873 | 32175 |  3376 | 16490 |  2421 |  2641 | 28809 | 16973 | 22569 |\n",
       "| ⋮ | ⋮ | ⋮ | ⋮ | ⋮ | ⋮ | ⋮ | ⋮ | ⋮ | ⋮ | ⋱ | ⋮ | ⋮ | ⋮ | ⋮ | ⋮ | ⋮ | ⋮ | ⋮ | ⋮ | ⋮ |\n",
       "| 26676 |  6563 | 30528 |  2571 | 22478 | 29646 | 25058 |  7896 |  9988 | 27658 | ⋯ | 15674 |  7711 | 16483 | 36637 | 19024 | 10387 | 17722 | 29545 | 23742 | 31873 |\n",
       "| 10970 | 27886 | 19465 |  9399 | 13074 | 22796 |  3329 |  5751 | 28192 | 31377 | ⋯ | 14776 |  9976 | 12214 | 15193 | 28426 | 24328 | 29541 | 35916 | 11185 | 21017 |\n",
       "| 20564 | 19630 | 32647 |  1450 | 27592 | 20111 |  9296 |  2111 | 17737 | 21009 | ⋯ | 35701 | 33330 | 27491 |  8253 |  3281 | 24476 |  3455 |  6739 |  5376 | 13077 |\n",
       "| 24126 |   865 |  8686 | 20275 | 35663 |  5938 | 24448 | 32392 |  6392 |  3371 | ⋯ |  2796 | 27980 | 32334 | 13250 |   489 | 39220 | 19292 | 22126 | 24030 | 16234 |\n",
       "| 37541 | 18538 | 29165 |    40 | 14522 | 10118 |  1980 | 39799 | 33902 | 23477 | ⋯ | 18874 | 29576 | 11430 |   859 | 38999 | 33521 |  9076 | 39132 |  6532 | 23663 |\n",
       "| 22287 | 17353 | 22966 | 33007 | 26011 | 34705 | 30864 | 36866 |  4181 |  6659 | ⋯ | 30533 | 31091 | 34832 | 27083 | 25492 | 23810 | 26469 | 24783 |  8051 | 11544 |\n",
       "| 25795 | 25969 | 10077 |  8647 | 20475 |  6206 | 13301 | 36922 | 35567 | 36854 | ⋯ | 34318 | 32533 |  6012 | 30579 | 13794 |  4464 | 20572 | 31135 | 25934 | 30967 |\n",
       "| 30092 | 35633 | 32382 | 11933 |  5278 |  2327 | 34397 | 31322 | 32696 | 35881 | ⋯ | 16715 | 15311 | 24624 | 16938 | 29759 |  6057 | 28105 | 29280 | 39734 | 21228 |\n",
       "| 19077 | 38766 | 37541 |  1239 |  7076 | 24927 | 33613 | 40218 | 18971 | 36318 | ⋯ | 15059 | 12842 | 29022 | 27662 | 37442 |  9556 | 25327 | 36338 |  8203 | 15483 |\n",
       "| 27050 |  1732 | 30248 |   893 |  6827 | 11210 | 18616 | 16921 |  1462 | 28521 | ⋯ | 12164 | 13569 | 22394 | 36280 | 37888 | 11532 |  4611 |  2603 |  4832 |  5554 |\n",
       "| 39518 | 19206 |  8064 |   542 | 26293 | 22950 | 34571 | 38575 | 21278 | 18476 | ⋯ | 34559 | 10092 | 35093 | 23056 | 34017 |  5036 | 34812 | 25573 | 27246 |  4619 |\n",
       "|  4549 |  7579 | 19832 |  6919 | 33273 | 15253 |   661 | 22789 |  8033 | 33850 | ⋯ | 24254 | 39180 | 19837 | 10257 |  1752 |  5932 | 19530 |  5469 | 34280 | 36338 |\n",
       "| 11589 | 12736 |  6218 | 14597 | 20209 |  9611 | 27529 | 24434 | 39827 | 11814 | ⋯ | 29292 | 12940 | 31521 |  1582 | 27137 |  2774 | 20771 | 28130 | 24584 |  9176 |\n",
       "|  4339 | 10951 | 14936 | 37695 | 25486 | 13727 | 36947 | 32674 | 18656 | 24514 | ⋯ |  8071 | 34008 | 35691 | 24918 |  2956 | 27779 | 12326 | 18011 | 18289 | 38908 |\n",
       "|  1014 | 40303 |  9423 |  3493 |  1820 | 30521 |  2717 | 16532 | 10139 | 34309 | ⋯ | 32385 |  4154 | 17974 | 35999 | 36410 | 26943 |  7864 |  4707 |  6741 | 10266 |\n",
       "| 11443 | 28748 |   314 | 22447 | 34427 | 40030 |  2180 | 32914 | 29907 | 21303 | ⋯ | 30225 | 27210 |  4768 | 30042 | 36237 | 28868 | 38103 | 32051 | 32464 | 27683 |\n",
       "| 18564 | 26915 | 25866 | 12903 | 35344 | 23469 | 20600 | 16120 | 22322 |   242 | ⋯ | 26428 | 20686 |  2581 | 28451 | 39853 | 35352 | 25355 | 25694 | 14927 | 10085 |\n",
       "|   312 | 29935 |  6188 | 36877 | 18387 |  5879 |  8421 | 26545 | 27390 | 35748 | ⋯ |  6176 | 23779 |   523 | 23672 |   962 | 21527 | 39655 |  1734 | 32302 | 36125 |\n",
       "| 20104 | 37241 | 27922 |  8095 |  4004 | 31374 | 24224 | 17929 | 35656 | 12937 | ⋯ |  5238 |  2955 | 34068 | 24908 | 33586 | 28105 |  3343 | 20291 |  8474 |  6662 |\n",
       "| 30808 | 32978 | 32322 | 24861 | 23336 | 13986 | 10340 | 15058 | 29291 | 18140 | ⋯ | 30984 | 30433 | 38685 |  5989 | 28611 | 13366 |  6576 |  1642 | 13820 | 40417 |\n",
       "| 22225 | 39738 | 14931 |  4085 |  7831 | 34424 | 12410 |  6174 | 13137 | 32317 | ⋯ | 20809 | 11808 |  8795 | 20857 |  3692 | 33945 | 34219 | 33561 | 25551 |   571 |\n",
       "| 30418 | 28965 | 23155 |  1296 | 15998 | 37154 | 34076 | 37788 | 35407 | 40388 | ⋯ |  7467 | 35567 | 32883 | 15875 | 11509 | 11432 | 33477 | 12888 | 30642 | 18048 |\n",
       "| 13225 | 20404 | 16423 |  2711 | 34006 |  1667 | 38687 |  2917 | 28674 | 19118 | ⋯ | 16022 | 12569 |  7621 | 36601 |  8795 |  7982 |  7162 | 35387 |   553 | 13801 |\n",
       "|  3468 | 29498 | 23951 | 13484 | 24629 |  6742 | 24394 | 32395 |  3973 |  6991 | ⋯ | 13741 | 34991 | 19392 | 36097 |  3349 | 28427 | 32552 |  6316 | 37921 | 26361 |\n",
       "|  7757 |  9994 | 14880 | 16863 | 33798 | 25997 | 22107 |  3598 | 24243 | 20791 | ⋯ |  7616 | 29223 |  3577 | 35248 | 27763 | 28399 |  7831 | 25600 |   581 |  4149 |\n",
       "|  2923 | 16842 | 14322 | 39425 | 17510 |  6872 | 34102 |  7072 | 20243 | 17870 | ⋯ | 12391 |  8503 | 31249 | 39344 | 34345 | 17764 |  6946 | 28876 | 11091 |  3836 |\n",
       "| 23275 | 31467 | 14488 |  3264 | 37749 |  9810 | 22298 | 30027 | 18614 | 34146 | ⋯ | 33003 | 30285 |  4719 | 40218 |  8288 | 20968 | 33948 | 21029 |  9131 | 27724 |\n",
       "| 22578 | 25445 | 31913 | 36431 | 29849 | 24378 | 22283 | 20704 | 36664 | 30962 | ⋯ |  7962 | 11430 | 30796 | 29169 | 36576 | 14855 | 24393 | 25784 | 10546 |  1979 |\n",
       "| 35165 | 19650 | 36537 | 25167 | 17898 | 15523 | 31949 | 28530 | 18717 | 10773 | ⋯ | 18530 |  3303 |  5454 | 29975 | 22951 |  1328 | 20552 | 26706 | 39696 |  8151 |\n",
       "|  3384 |  6375 | 35980 | 27309 | 36709 | 28470 | 11864 | 24724 | 31954 | 18567 | ⋯ |  1906 | 23917 |  2804 |  7932 | 19408 | 13876 | 35997 | 27833 | 18915 | 12066 |\n",
       "\n"
      ],
      "text/plain": [
       "      [,1]  [,2]  [,3]  [,4]  [,5]  [,6]  [,7]  [,8]  [,9]  [,10] [,11] [,12]\n",
       " [1,]  7753 38234 15008 31358 30259 22268 19158  8743 24937  8135 ⋯     11890\n",
       " [2,] 40405  7038   199 17266 33358 26592 38639 31792 24714 14368 ⋯     16088\n",
       " [3,]   454 16934 11189   681 24459 20472  6106 20811 28994  4242 ⋯     29527\n",
       " [4,]  3491 23605 36074 22865 40311 28076 20069 23108 15041 33860 ⋯     15870\n",
       " [5,] 15851 28222 31897 14436 33635 23711 16849 38799 15548 30972 ⋯     36436\n",
       " [6,] 30545 31704  3831  4212 36663 29847 16937 23679 14110  1715 ⋯     21496\n",
       " [7,] 10551 11113 38651 34054   707 31654 25413  4378  6296 16763 ⋯     24306\n",
       " [8,]   638  1702 19237 19764 15488 21995  3044  1398  5282 18782 ⋯     26659\n",
       " [9,] 15879  7906 24656 38351  9803 17422 34014 10029 12202 30442 ⋯     11735\n",
       "[10,]   728 39740 27288  6081 25234 22211 32989 32835 11107 32680 ⋯     21253\n",
       "[11,] 27451  3091 38252 24194 39837 16251 23827 17679  2023  4904 ⋯     17731\n",
       "[12,] 13640 11402 23817 25153 32851  8127 34489  8021 28315 25732 ⋯     26399\n",
       "[13,] 15745 29805 37990 19930  9174 32905  1683 16389 24755 24253 ⋯     34131\n",
       "[14,]  9064 15942 20341 34086 11460 29703 28629 13398 25943 25728 ⋯     32721\n",
       "[15,] 12174 33625 37771  8249 13529  5900 31575 35854  6833 31013 ⋯     22233\n",
       "[16,] 13802   659 40370 23288  3865 18076 35406 23719 39792 26239 ⋯     17853\n",
       "[17,]  3284 34762 36839 32524  2489 38641 10751 32828 26882  3453 ⋯     36891\n",
       "[18,]  4468 27029  6084 30860 26836 29159  2149 30740 27329 19026 ⋯      4023\n",
       "[19,] 16697 24252 20963  7187  3920 29798 12245  4530 26730  6640 ⋯      4536\n",
       "[20,] 28526 22825 10848 20897 24617 26088 35205 20250 20331 22488 ⋯      6410\n",
       "[21,] 12245  6461 19849   471 33070   964 35856 25860 26554 38517 ⋯     31484\n",
       "[22,] 33837 13607 18816 35647 31157 10106 16811 35546 27331 29849 ⋯      4726\n",
       "[23,] 14410 18119 29111 35668 20041 13884  5456 22812 24824  4756 ⋯      7430\n",
       "[24,] 26268 20983 17825  8955 36394  6016  2078  3455 19499 32480 ⋯     26100\n",
       "[25,] 36796  2509  2125 32649 21563 33893 24616 20581  8375 19042 ⋯     25481\n",
       "[26,] 39208 27060 37631 34405 14461 13046 19196 31568 37368 35880 ⋯      8924\n",
       "[27,] 14419  1731  9187 27864 17388 14792  2155 31539 31362 11499 ⋯     37563\n",
       "[28,] 19784  3841 28597  7278 31620 10958  4764  9505  6744 10247 ⋯     21362\n",
       "[29,] 17082 12218  6464 34343 14383 21937 26543 19115 15817 32840 ⋯     25492\n",
       "[30,] 20820 29117 18682 29444 16841  9208 32052 11433  6313  3014 ⋯     32645\n",
       "[31,] ⋮     ⋮     ⋮     ⋮     ⋮     ⋮     ⋮     ⋮     ⋮     ⋮     ⋱     ⋮    \n",
       "[32,] 26676  6563 30528  2571 22478 29646 25058  7896  9988 27658 ⋯     15674\n",
       "[33,] 10970 27886 19465  9399 13074 22796  3329  5751 28192 31377 ⋯     14776\n",
       "[34,] 20564 19630 32647  1450 27592 20111  9296  2111 17737 21009 ⋯     35701\n",
       "[35,] 24126   865  8686 20275 35663  5938 24448 32392  6392  3371 ⋯      2796\n",
       "[36,] 37541 18538 29165    40 14522 10118  1980 39799 33902 23477 ⋯     18874\n",
       "[37,] 22287 17353 22966 33007 26011 34705 30864 36866  4181  6659 ⋯     30533\n",
       "[38,] 25795 25969 10077  8647 20475  6206 13301 36922 35567 36854 ⋯     34318\n",
       "[39,] 30092 35633 32382 11933  5278  2327 34397 31322 32696 35881 ⋯     16715\n",
       "[40,] 19077 38766 37541  1239  7076 24927 33613 40218 18971 36318 ⋯     15059\n",
       "[41,] 27050  1732 30248   893  6827 11210 18616 16921  1462 28521 ⋯     12164\n",
       "[42,] 39518 19206  8064   542 26293 22950 34571 38575 21278 18476 ⋯     34559\n",
       "[43,]  4549  7579 19832  6919 33273 15253   661 22789  8033 33850 ⋯     24254\n",
       "[44,] 11589 12736  6218 14597 20209  9611 27529 24434 39827 11814 ⋯     29292\n",
       "[45,]  4339 10951 14936 37695 25486 13727 36947 32674 18656 24514 ⋯      8071\n",
       "[46,]  1014 40303  9423  3493  1820 30521  2717 16532 10139 34309 ⋯     32385\n",
       "[47,] 11443 28748   314 22447 34427 40030  2180 32914 29907 21303 ⋯     30225\n",
       "[48,] 18564 26915 25866 12903 35344 23469 20600 16120 22322   242 ⋯     26428\n",
       "[49,]   312 29935  6188 36877 18387  5879  8421 26545 27390 35748 ⋯      6176\n",
       "[50,] 20104 37241 27922  8095  4004 31374 24224 17929 35656 12937 ⋯      5238\n",
       "[51,] 30808 32978 32322 24861 23336 13986 10340 15058 29291 18140 ⋯     30984\n",
       "[52,] 22225 39738 14931  4085  7831 34424 12410  6174 13137 32317 ⋯     20809\n",
       "[53,] 30418 28965 23155  1296 15998 37154 34076 37788 35407 40388 ⋯      7467\n",
       "[54,] 13225 20404 16423  2711 34006  1667 38687  2917 28674 19118 ⋯     16022\n",
       "[55,]  3468 29498 23951 13484 24629  6742 24394 32395  3973  6991 ⋯     13741\n",
       "[56,]  7757  9994 14880 16863 33798 25997 22107  3598 24243 20791 ⋯      7616\n",
       "[57,]  2923 16842 14322 39425 17510  6872 34102  7072 20243 17870 ⋯     12391\n",
       "[58,] 23275 31467 14488  3264 37749  9810 22298 30027 18614 34146 ⋯     33003\n",
       "[59,] 22578 25445 31913 36431 29849 24378 22283 20704 36664 30962 ⋯      7962\n",
       "[60,] 35165 19650 36537 25167 17898 15523 31949 28530 18717 10773 ⋯     18530\n",
       "[61,]  3384  6375 35980 27309 36709 28470 11864 24724 31954 18567 ⋯      1906\n",
       "      [,13] [,14] [,15] [,16] [,17] [,18] [,19] [,20] [,21]\n",
       " [1,] 15415 10577 27438 29801 25717 19816 27497 34892  4522\n",
       " [2,] 28869 37854 25086  4408 29645 10893 38392 36085 17585\n",
       " [3,] 36708  9967 19353 25476  1771 21706 39999 32917 32448\n",
       " [4,] 32962 14183 38154  2143   985 34735 11112 28956  3815\n",
       " [5,] 38225 11311   960 16992 25975 13039 25436   198  1569\n",
       " [6,]  2511 19304 14082  6652 11982 40193  5362 37955 23880\n",
       " [7,]  8464 17504  7801  6171 29634 14823 14327  8791 16200\n",
       " [8,]  6843 31839  6264 21187 21907 12841  1222 30519 11015\n",
       " [9,] 38317 39295 19179  6607 35212 18197 26178  6071 23155\n",
       "[10,]  2021 35286 28407 34991 16338 18433 36514  5809 22676\n",
       "[11,]  3116 19480 11484 19864 22770 30537 26141  7480  7202\n",
       "[12,] 15748 28300 22577 25932 29907 28333 14421 17783 29756\n",
       "[13,]  9353 36860 27044 29600 18060 22109  2067 21250  7813\n",
       "[14,] 31188 16100 39201   111 28435 39740  2859 30267  2813\n",
       "[15,] 10145 37624 21968 20670 35857 14402 14971  7839 32295\n",
       "[16,] 22124  6920 13022 23652 28211 22080 22005 15456 33566\n",
       "[17,]  8423 38947   517 10260 25386 11497 25834 33755 37120\n",
       "[18,] 37398  9786 27069 36621 34366 12733 21415 17284 30128\n",
       "[19,] 12166  5821 36324 14744    77  8591 39920 21020 28052\n",
       "[20,] 39432 18225  9661 38397 17276 19001  3688 18002 34783\n",
       "[21,] 12700 37008 38566 29792 18737 35423 32800 10140 29833\n",
       "[22,] 34639 38338 36318 25024 15200 25163  2565  8091 32758\n",
       "[23,] 23944 39030 19508  5826 11253 23446 27981 28702 26559\n",
       "[24,] 11513 32605 13935 37900  3465 35697 20893 33052 35493\n",
       "[25,] 35243 30419 17821 25443 32856 18552  9912  6607 33393\n",
       "[26,] 21725 34046 23008 24429 33955 13896 30709 27250 26824\n",
       "[27,] 18952 29279 25380 36737 37750 32016 23198  5524 20006\n",
       "[28,] 39447   256  2887   372 37972 11021 13947 27737 31922\n",
       "[29,] 10307 34705 29923 23472 34895 27062 11525 18698 15072\n",
       "[30,] 30873 32175  3376 16490  2421  2641 28809 16973 22569\n",
       "[31,] ⋮     ⋮     ⋮     ⋮     ⋮     ⋮     ⋮     ⋮     ⋮    \n",
       "[32,]  7711 16483 36637 19024 10387 17722 29545 23742 31873\n",
       "[33,]  9976 12214 15193 28426 24328 29541 35916 11185 21017\n",
       "[34,] 33330 27491  8253  3281 24476  3455  6739  5376 13077\n",
       "[35,] 27980 32334 13250   489 39220 19292 22126 24030 16234\n",
       "[36,] 29576 11430   859 38999 33521  9076 39132  6532 23663\n",
       "[37,] 31091 34832 27083 25492 23810 26469 24783  8051 11544\n",
       "[38,] 32533  6012 30579 13794  4464 20572 31135 25934 30967\n",
       "[39,] 15311 24624 16938 29759  6057 28105 29280 39734 21228\n",
       "[40,] 12842 29022 27662 37442  9556 25327 36338  8203 15483\n",
       "[41,] 13569 22394 36280 37888 11532  4611  2603  4832  5554\n",
       "[42,] 10092 35093 23056 34017  5036 34812 25573 27246  4619\n",
       "[43,] 39180 19837 10257  1752  5932 19530  5469 34280 36338\n",
       "[44,] 12940 31521  1582 27137  2774 20771 28130 24584  9176\n",
       "[45,] 34008 35691 24918  2956 27779 12326 18011 18289 38908\n",
       "[46,]  4154 17974 35999 36410 26943  7864  4707  6741 10266\n",
       "[47,] 27210  4768 30042 36237 28868 38103 32051 32464 27683\n",
       "[48,] 20686  2581 28451 39853 35352 25355 25694 14927 10085\n",
       "[49,] 23779   523 23672   962 21527 39655  1734 32302 36125\n",
       "[50,]  2955 34068 24908 33586 28105  3343 20291  8474  6662\n",
       "[51,] 30433 38685  5989 28611 13366  6576  1642 13820 40417\n",
       "[52,] 11808  8795 20857  3692 33945 34219 33561 25551   571\n",
       "[53,] 35567 32883 15875 11509 11432 33477 12888 30642 18048\n",
       "[54,] 12569  7621 36601  8795  7982  7162 35387   553 13801\n",
       "[55,] 34991 19392 36097  3349 28427 32552  6316 37921 26361\n",
       "[56,] 29223  3577 35248 27763 28399  7831 25600   581  4149\n",
       "[57,]  8503 31249 39344 34345 17764  6946 28876 11091  3836\n",
       "[58,] 30285  4719 40218  8288 20968 33948 21029  9131 27724\n",
       "[59,] 11430 30796 29169 36576 14855 24393 25784 10546  1979\n",
       "[60,]  3303  5454 29975 22951  1328 20552 26706 39696  8151\n",
       "[61,] 23917  2804  7932 19408 13876 35997 27833 18915 12066"
      ]
     },
     "metadata": {},
     "output_type": "display_data"
    }
   ],
   "source": [
    "set.seed(35222)\n",
    "n<-dim(large)[1]\n",
    "m<-200\n",
    "p<-matrix(nrow=n, ncol=m)\n",
    "for (i in 1:m){\n",
    "    p[,i]<-sample(1:n,size=n, replace=FALSE)\n",
    "}\n",
    "p"
   ]
  },
  {
   "cell_type": "code",
   "execution_count": 30,
   "id": "8d459f7e-4ae1-4e66-9e93-d603d21734d1",
   "metadata": {
    "kernel": "R"
   },
   "outputs": [],
   "source": [
    "# permute across all traits\n",
    "comb<-f3393<-f2247<-f2257<-c()\n",
    "for (i in 1:m){\n",
    "    comb<-cbind(comb,large[p[,i],3])\n",
    "    f3393<-cbind(f3393,large[p[,i],4])\n",
    "    f2247<-cbind(f2247,large[p[,i],5])\n",
    "    f2257<-cbind(f2257,large[p[,i],6])\n",
    "}\n",
    "comb_name<-f3393_name<-f2247_name<-f2257_name<-c()\n",
    "for (i in 1:m){\n",
    "    comb_name<-c(comb_name,paste0(\"f2247_f2257_\",i))\n",
    "    f3393_name<-c(f3393_name,paste0(\"f3393_\",i))\n",
    "    f2247_name<-c(f2247_name,paste0(\"f2247_\",i))\n",
    "    f2257_name<-c(f2257_name,paste0(\"f2257_\",i))\n",
    "}\n",
    "colnames(comb)<-comb_name\n",
    "colnames(f3393)<-f3393_name\n",
    "colnames(f2247)<-f2247_name\n",
    "colnames(f2257)<-f2257_name\n",
    "comb<-cbind(large[,1:2],comb)\n",
    "f3393<-cbind(large[,1:2],f3393)\n",
    "f2247<-cbind(large[,1:2],f2247)\n",
    "f2257<-cbind(large[,1:2],f2257)\n",
    "\n",
    "write.table(large,\"~/project/guangyou/20220314_permutation/files/phenotype_large_discovery\",col.names=TRUE,row.names=FALSE,sep=\"\\t\",quote=FALSE)\n",
    "write.table(comb,\"~/project/guangyou/20220314_permutation/files/phenotype_discovery_f2247_f2257_permutation\",col.names=TRUE,row.names=FALSE,sep=\"\\t\",quote=FALSE)\n",
    "write.table(f3393,\"~/project/guangyou/20220314_permutation/files/phenotype_discovery_f3393_permutation\",col.names=TRUE,row.names=FALSE,sep=\"\\t\",quote=FALSE)\n",
    "write.table(f2247,\"~/project/guangyou/20220314_permutation/files/phenotype_discovery_f2247_permutation\",col.names=TRUE,row.names=FALSE,sep=\"\\t\",quote=FALSE)\n",
    "write.table(f2257,\"~/project/guangyou/20220314_permutation/files/phenotype_discovery_f2257_permutation\",col.names=TRUE,row.names=FALSE,sep=\"\\t\",quote=FALSE)\n",
    "\n",
    "write.table(comb_name,\"~/project/guangyou/20220314_permutation/files/phenotype_discovery_f2247_f2257_permutation_name\",col.names=FALSE,row.names=FALSE,sep=\",\",quote=FALSE)\n",
    "write.table(f3393_name,\"~/project/guangyou/20220314_permutation/files/phenotype_discovery_f3393_permutation_name\",col.names=FALSE,row.names=FALSE,sep=\",\",quote=FALSE)\n",
    "write.table(f2247_name,\"~/project/guangyou/20220314_permutation/files/phenotype_discovery_f2247_permutation_name\",col.names=FALSE,row.names=FALSE,sep=\",\",quote=FALSE)\n",
    "write.table(f2257_name,\"~/project/guangyou/20220314_permutation/files/phenotype_discovery_f2257_permutation_name\",col.names=FALSE,row.names=FALSE,sep=\",\",quote=FALSE)"
   ]
  },
  {
   "cell_type": "code",
   "execution_count": 31,
   "id": "49b984fd-2f7b-4734-bca7-0620d1e876f2",
   "metadata": {
    "kernel": "R"
   },
   "outputs": [
    {
     "name": "stderr",
     "output_type": "stream",
     "text": [
      "\n",
      "Attaching package: ‘dplyr’\n",
      "\n",
      "\n",
      "The following objects are masked from ‘package:stats’:\n",
      "\n",
      "    filter, lag\n",
      "\n",
      "\n",
      "The following objects are masked from ‘package:base’:\n",
      "\n",
      "    intersect, setdiff, setequal, union\n",
      "\n",
      "\n"
     ]
    }
   ],
   "source": [
    "# covariates\n",
    "library(dplyr)\n",
    "covar<-data1[,-4]\n",
    "IID<-setdiff(large$IID,data1$IID)\n",
    "FID<-IID\n",
    "tmp<-as.data.frame(cbind(FID,IID))\n",
    "tmp$sex<-NA\n",
    "tmp$age<-NA\n",
    "tmp$PC1<-NA\n",
    "tmp$PC2<-NA\n",
    "covar<-rbind(covar,tmp)\n",
    "covar<- covar %>%  slice(match(large$IID, IID))\n",
    "write.table(covar,\"~/project/guangyou/20220314_permutation/files/phenotype_discovery_f2247_f2257_covar_origin\",col.names=TRUE,row.names=FALSE,sep=\"\\t\",quote=FALSE)\n",
    "covar<-data2[,-4]\n",
    "IID<-setdiff(large$IID,data2$IID)\n",
    "FID<-IID\n",
    "tmp<-as.data.frame(cbind(FID,IID))\n",
    "tmp$sex<-NA\n",
    "tmp$age<-NA\n",
    "tmp$PC1<-NA\n",
    "tmp$PC2<-NA\n",
    "covar<-rbind(covar,tmp)\n",
    "covar<- covar %>%  slice(match(large$IID, IID))\n",
    "write.table(covar,\"~/project/guangyou/20220314_permutation/files/phenotype_discovery_f3393_covar_origin\",col.names=TRUE,row.names=FALSE,sep=\"\\t\",quote=FALSE)\n",
    "covar<-data3[,-4]\n",
    "IID<-setdiff(large$IID,data3$IID)\n",
    "FID<-IID\n",
    "tmp<-as.data.frame(cbind(FID,IID))\n",
    "tmp$sex<-NA\n",
    "tmp$age<-NA\n",
    "tmp$PC1<-NA\n",
    "tmp$PC2<-NA\n",
    "covar<-rbind(covar,tmp)\n",
    "covar<- covar %>%  slice(match(large$IID, IID))\n",
    "write.table(covar,\"~/project/guangyou/20220314_permutation/files/phenotype_discovery_f2247_covar_origin\",col.names=TRUE,row.names=FALSE,sep=\"\\t\",quote=FALSE)\n",
    "covar<-data4[,-4]\n",
    "IID<-setdiff(large$IID,data4$IID)\n",
    "FID<-IID\n",
    "tmp<-as.data.frame(cbind(FID,IID))\n",
    "tmp$sex<-NA\n",
    "tmp$age<-NA\n",
    "tmp$PC1<-NA\n",
    "tmp$PC2<-NA\n",
    "covar<-rbind(covar,tmp)\n",
    "covar<- covar %>%  slice(match(large$IID, IID))\n",
    "write.table(covar,\"~/project/guangyou/20220314_permutation/files/phenotype_discovery_f2257_covar_origin\",col.names=TRUE,row.names=FALSE,sep=\"\\t\",quote=FALSE)"
   ]
  },
  {
   "cell_type": "code",
   "execution_count": 32,
   "id": "cc4a7822-1dc6-4c56-85eb-9f941805dfd5",
   "metadata": {
    "kernel": "R"
   },
   "outputs": [],
   "source": [
    "# phenotypes for permutation\n",
    "permpheno<-function(file,prefix,pheno){\n",
    "    data<-read.table(file,header=TRUE)\n",
    "    for (i in 1:m){\n",
    "        perm<-cbind(data[,1:2],data[p[,i],pheno])\n",
    "        colnames(perm)[3]<-pheno\n",
    "        write.table(perm,paste0(\"~/project/guangyou/20220314_permutation/files/permutation/\",prefix,\".discovery.\",i,\".regenie_phenotype\"),col.names=TRUE,row.names=FALSE,sep=\"\\t\",quote=FALSE)\n",
    "    }  \n",
    "}"
   ]
  },
  {
   "cell_type": "code",
   "execution_count": null,
   "id": "27d13779-7e42-4c54-accf-4518f79e28d9",
   "metadata": {
    "kernel": "R"
   },
   "outputs": [],
   "source": [
    "file=\"~/project/guangyou/20220314_permutation/files/phenotype_large_discovery\"\n",
    "prefix=\"UKB_f3393_permutation\"\n",
    "pheno=\"f3393\"\n",
    "permpheno(file,prefix,pheno)\n",
    "prefix=\"UKB_f2247_permutation\"\n",
    "pheno=\"f2247\"\n",
    "permpheno(file,prefix,pheno)\n",
    "prefix=\"UKB_f2257_permutation\"\n",
    "pheno=\"f2257\"\n",
    "permpheno(file,prefix,pheno)\n",
    "prefix=\"UKB_f2247_f2257_permutation\"\n",
    "pheno=\"f2247_f2257\"\n",
    "permpheno(file,prefix,pheno)"
   ]
  },
  {
   "cell_type": "code",
   "execution_count": null,
   "id": "df2c7b76-e602-438c-a57a-fafbaade4ff5",
   "metadata": {
    "kernel": "R"
   },
   "outputs": [],
   "source": [
    "# covariants for permutation\n",
    "permcovar<-function(file,prefix){\n",
    "    data<-read.table(file,header=TRUE)\n",
    "    for (i in 1:m){\n",
    "        perm<-cbind(data[,1:2],data[p[,i],c(\"sex\",\"age\",\"PC1\",\"PC2\")])\n",
    "        write.table(perm,paste0(\"~/project/guangyou/20220314_permutation/files/permutation/\",prefix,\".discovery.\",i,\".regenie_covar\"),col.names=TRUE,row.names=FALSE,sep=\"\\t\",quote=FALSE)\n",
    "    }  \n",
    "}"
   ]
  },
  {
   "cell_type": "code",
   "execution_count": null,
   "id": "64d32b78-db98-4fec-a011-5c1004124e84",
   "metadata": {
    "kernel": "R"
   },
   "outputs": [],
   "source": [
    "file=\"~/project/guangyou/20220314_permutation/files/phenotype_discovery_f3393_covar_origin\"\n",
    "prefix=\"UKB_f3393_permutation\"\n",
    "permcovar(file,prefix)\n",
    "file=\"~/project/guangyou/20220314_permutation/files/phenotype_discovery_f2247_covar_origin\"\n",
    "prefix=\"UKB_f2247_permutation\"\n",
    "permcovar(file,prefix)\n",
    "file=\"~/project/guangyou/20220314_permutation/files/phenotype_discovery_f2257_covar_origin\"\n",
    "prefix=\"UKB_f2257_permutation\"\n",
    "permcovar(file,prefix)\n",
    "file=\"~/project/guangyou/20220314_permutation/files/phenotype_discovery_f2247_f2257_covar_origin\"\n",
    "prefix=\"UKB_f2247_f2257_permutation\"\n",
    "permcovar(file,prefix)"
   ]
  },
  {
   "cell_type": "code",
   "execution_count": 44,
   "id": "665666a7-63f3-4737-97dc-9e471f4e10dc",
   "metadata": {
    "kernel": "R"
   },
   "outputs": [
    {
     "data": {
      "text/html": [
       "<style>\n",
       ".list-inline {list-style: none; margin:0; padding: 0}\n",
       ".list-inline>li {display: inline-block}\n",
       ".list-inline>li:not(:last-child)::after {content: \"\\00b7\"; padding: 0 .5ex}\n",
       "</style>\n",
       "<ol class=list-inline><li>32878</li><li>7</li></ol>\n"
      ],
      "text/latex": [
       "\\begin{enumerate*}\n",
       "\\item 32878\n",
       "\\item 7\n",
       "\\end{enumerate*}\n"
      ],
      "text/markdown": [
       "1. 32878\n",
       "2. 7\n",
       "\n",
       "\n"
      ],
      "text/plain": [
       "[1] 32878     7"
      ]
     },
     "metadata": {},
     "output_type": "display_data"
    }
   ],
   "source": [
    "dim(data)"
   ]
  },
  {
   "cell_type": "code",
   "execution_count": 45,
   "id": "3902ee56-7d53-416d-9918-90b0772426a5",
   "metadata": {
    "kernel": "R"
   },
   "outputs": [],
   "source": [
    "# permute within each trait\n",
    "set.seed(35222)\n",
    "file<-\"/home/gl2776/UKBiobank/phenotype_files/hearing_impairment/090321_UKBB_Combined_f2247_f2257_expandedwhite_32878ind_50K.tsv\"\n",
    "pheno = \"f2247_f2257\"\n",
    "data <- read.table(file,sep=\"\\t\",header=TRUE)\n",
    "n<-dim(data)[1]\n",
    "m<-200\n",
    "p<-matrix(nrow=n, ncol=m)\n",
    "for (i in 1:m){\n",
    "    p[,i]<-sample(1:n,size=n, replace=FALSE)\n",
    "}\n",
    "perm<-c()\n",
    "for (i in 1:m){\n",
    "    perm<-cbind(perm,data[p[,i],3])\n",
    "}\n",
    "perm_name<-c()\n",
    "for (i in 1:m){\n",
    "    perm_name<-c(perm_name,paste0(pheno, \"_\",i))\n",
    "}\n",
    "colnames(perm)<-perm_name\n",
    "perm<-cbind(data[,1:2],perm)\n",
    "write.table(perm,paste0(\"~/project/guangyou/20220314_permutation/files/phenotype_discovery_\",pheno,\"_permutation_eachtrait\"),col.names=TRUE,row.names=FALSE,sep=\"\\t\",quote=FALSE)"
   ]
  },
  {
   "cell_type": "code",
   "execution_count": 46,
   "id": "ef2ce5c1-aa33-40b2-9786-3f7c2eec80bf",
   "metadata": {
    "kernel": "R"
   },
   "outputs": [
    {
     "data": {
      "text/html": [
       "<table class=\"dataframe\">\n",
       "<caption>A data.frame: 6 × 202</caption>\n",
       "<thead>\n",
       "\t<tr><th></th><th scope=col>FID</th><th scope=col>IID</th><th scope=col>f2247_f2257_1</th><th scope=col>f2247_f2257_2</th><th scope=col>f2247_f2257_3</th><th scope=col>f2247_f2257_4</th><th scope=col>f2247_f2257_5</th><th scope=col>f2247_f2257_6</th><th scope=col>f2247_f2257_7</th><th scope=col>f2247_f2257_8</th><th scope=col>⋯</th><th scope=col>f2247_f2257_191</th><th scope=col>f2247_f2257_192</th><th scope=col>f2247_f2257_193</th><th scope=col>f2247_f2257_194</th><th scope=col>f2247_f2257_195</th><th scope=col>f2247_f2257_196</th><th scope=col>f2247_f2257_197</th><th scope=col>f2247_f2257_198</th><th scope=col>f2247_f2257_199</th><th scope=col>f2247_f2257_200</th></tr>\n",
       "\t<tr><th></th><th scope=col>&lt;int&gt;</th><th scope=col>&lt;int&gt;</th><th scope=col>&lt;int&gt;</th><th scope=col>&lt;int&gt;</th><th scope=col>&lt;int&gt;</th><th scope=col>&lt;int&gt;</th><th scope=col>&lt;int&gt;</th><th scope=col>&lt;int&gt;</th><th scope=col>&lt;int&gt;</th><th scope=col>&lt;int&gt;</th><th scope=col>⋯</th><th scope=col>&lt;int&gt;</th><th scope=col>&lt;int&gt;</th><th scope=col>&lt;int&gt;</th><th scope=col>&lt;int&gt;</th><th scope=col>&lt;int&gt;</th><th scope=col>&lt;int&gt;</th><th scope=col>&lt;int&gt;</th><th scope=col>&lt;int&gt;</th><th scope=col>&lt;int&gt;</th><th scope=col>&lt;int&gt;</th></tr>\n",
       "</thead>\n",
       "<tbody>\n",
       "\t<tr><th scope=row>1</th><td>1000078</td><td>1000078</td><td>0</td><td>1</td><td>1</td><td>0</td><td>0</td><td>1</td><td>0</td><td>0</td><td>⋯</td><td>0</td><td>0</td><td>1</td><td>0</td><td>1</td><td>0</td><td>1</td><td>1</td><td>1</td><td>0</td></tr>\n",
       "\t<tr><th scope=row>2</th><td>1000236</td><td>1000236</td><td>1</td><td>1</td><td>0</td><td>1</td><td>0</td><td>0</td><td>1</td><td>1</td><td>⋯</td><td>0</td><td>0</td><td>0</td><td>0</td><td>0</td><td>0</td><td>0</td><td>0</td><td>1</td><td>0</td></tr>\n",
       "\t<tr><th scope=row>3</th><td>1000331</td><td>1000331</td><td>1</td><td>0</td><td>0</td><td>1</td><td>1</td><td>0</td><td>1</td><td>1</td><td>⋯</td><td>0</td><td>1</td><td>0</td><td>0</td><td>0</td><td>1</td><td>1</td><td>1</td><td>0</td><td>0</td></tr>\n",
       "\t<tr><th scope=row>4</th><td>1000530</td><td>1000530</td><td>0</td><td>1</td><td>1</td><td>1</td><td>1</td><td>1</td><td>1</td><td>1</td><td>⋯</td><td>1</td><td>0</td><td>0</td><td>0</td><td>1</td><td>0</td><td>0</td><td>0</td><td>1</td><td>0</td></tr>\n",
       "\t<tr><th scope=row>5</th><td>1000683</td><td>1000683</td><td>0</td><td>1</td><td>1</td><td>1</td><td>0</td><td>0</td><td>0</td><td>1</td><td>⋯</td><td>0</td><td>1</td><td>1</td><td>1</td><td>0</td><td>0</td><td>1</td><td>1</td><td>0</td><td>0</td></tr>\n",
       "\t<tr><th scope=row>6</th><td>1000992</td><td>1000992</td><td>1</td><td>1</td><td>1</td><td>0</td><td>0</td><td>1</td><td>1</td><td>1</td><td>⋯</td><td>0</td><td>1</td><td>1</td><td>1</td><td>1</td><td>1</td><td>0</td><td>0</td><td>1</td><td>0</td></tr>\n",
       "</tbody>\n",
       "</table>\n"
      ],
      "text/latex": [
       "A data.frame: 6 × 202\n",
       "\\begin{tabular}{r|lllllllllllllllllllll}\n",
       "  & FID & IID & f2247\\_f2257\\_1 & f2247\\_f2257\\_2 & f2247\\_f2257\\_3 & f2247\\_f2257\\_4 & f2247\\_f2257\\_5 & f2247\\_f2257\\_6 & f2247\\_f2257\\_7 & f2247\\_f2257\\_8 & ⋯ & f2247\\_f2257\\_191 & f2247\\_f2257\\_192 & f2247\\_f2257\\_193 & f2247\\_f2257\\_194 & f2247\\_f2257\\_195 & f2247\\_f2257\\_196 & f2247\\_f2257\\_197 & f2247\\_f2257\\_198 & f2247\\_f2257\\_199 & f2247\\_f2257\\_200\\\\\n",
       "  & <int> & <int> & <int> & <int> & <int> & <int> & <int> & <int> & <int> & <int> & ⋯ & <int> & <int> & <int> & <int> & <int> & <int> & <int> & <int> & <int> & <int>\\\\\n",
       "\\hline\n",
       "\t1 & 1000078 & 1000078 & 0 & 1 & 1 & 0 & 0 & 1 & 0 & 0 & ⋯ & 0 & 0 & 1 & 0 & 1 & 0 & 1 & 1 & 1 & 0\\\\\n",
       "\t2 & 1000236 & 1000236 & 1 & 1 & 0 & 1 & 0 & 0 & 1 & 1 & ⋯ & 0 & 0 & 0 & 0 & 0 & 0 & 0 & 0 & 1 & 0\\\\\n",
       "\t3 & 1000331 & 1000331 & 1 & 0 & 0 & 1 & 1 & 0 & 1 & 1 & ⋯ & 0 & 1 & 0 & 0 & 0 & 1 & 1 & 1 & 0 & 0\\\\\n",
       "\t4 & 1000530 & 1000530 & 0 & 1 & 1 & 1 & 1 & 1 & 1 & 1 & ⋯ & 1 & 0 & 0 & 0 & 1 & 0 & 0 & 0 & 1 & 0\\\\\n",
       "\t5 & 1000683 & 1000683 & 0 & 1 & 1 & 1 & 0 & 0 & 0 & 1 & ⋯ & 0 & 1 & 1 & 1 & 0 & 0 & 1 & 1 & 0 & 0\\\\\n",
       "\t6 & 1000992 & 1000992 & 1 & 1 & 1 & 0 & 0 & 1 & 1 & 1 & ⋯ & 0 & 1 & 1 & 1 & 1 & 1 & 0 & 0 & 1 & 0\\\\\n",
       "\\end{tabular}\n"
      ],
      "text/markdown": [
       "\n",
       "A data.frame: 6 × 202\n",
       "\n",
       "| <!--/--> | FID &lt;int&gt; | IID &lt;int&gt; | f2247_f2257_1 &lt;int&gt; | f2247_f2257_2 &lt;int&gt; | f2247_f2257_3 &lt;int&gt; | f2247_f2257_4 &lt;int&gt; | f2247_f2257_5 &lt;int&gt; | f2247_f2257_6 &lt;int&gt; | f2247_f2257_7 &lt;int&gt; | f2247_f2257_8 &lt;int&gt; | ⋯ ⋯ | f2247_f2257_191 &lt;int&gt; | f2247_f2257_192 &lt;int&gt; | f2247_f2257_193 &lt;int&gt; | f2247_f2257_194 &lt;int&gt; | f2247_f2257_195 &lt;int&gt; | f2247_f2257_196 &lt;int&gt; | f2247_f2257_197 &lt;int&gt; | f2247_f2257_198 &lt;int&gt; | f2247_f2257_199 &lt;int&gt; | f2247_f2257_200 &lt;int&gt; |\n",
       "|---|---|---|---|---|---|---|---|---|---|---|---|---|---|---|---|---|---|---|---|---|---|\n",
       "| 1 | 1000078 | 1000078 | 0 | 1 | 1 | 0 | 0 | 1 | 0 | 0 | ⋯ | 0 | 0 | 1 | 0 | 1 | 0 | 1 | 1 | 1 | 0 |\n",
       "| 2 | 1000236 | 1000236 | 1 | 1 | 0 | 1 | 0 | 0 | 1 | 1 | ⋯ | 0 | 0 | 0 | 0 | 0 | 0 | 0 | 0 | 1 | 0 |\n",
       "| 3 | 1000331 | 1000331 | 1 | 0 | 0 | 1 | 1 | 0 | 1 | 1 | ⋯ | 0 | 1 | 0 | 0 | 0 | 1 | 1 | 1 | 0 | 0 |\n",
       "| 4 | 1000530 | 1000530 | 0 | 1 | 1 | 1 | 1 | 1 | 1 | 1 | ⋯ | 1 | 0 | 0 | 0 | 1 | 0 | 0 | 0 | 1 | 0 |\n",
       "| 5 | 1000683 | 1000683 | 0 | 1 | 1 | 1 | 0 | 0 | 0 | 1 | ⋯ | 0 | 1 | 1 | 1 | 0 | 0 | 1 | 1 | 0 | 0 |\n",
       "| 6 | 1000992 | 1000992 | 1 | 1 | 1 | 0 | 0 | 1 | 1 | 1 | ⋯ | 0 | 1 | 1 | 1 | 1 | 1 | 0 | 0 | 1 | 0 |\n",
       "\n"
      ],
      "text/plain": [
       "  FID     IID     f2247_f2257_1 f2247_f2257_2 f2247_f2257_3 f2247_f2257_4\n",
       "1 1000078 1000078 0             1             1             0            \n",
       "2 1000236 1000236 1             1             0             1            \n",
       "3 1000331 1000331 1             0             0             1            \n",
       "4 1000530 1000530 0             1             1             1            \n",
       "5 1000683 1000683 0             1             1             1            \n",
       "6 1000992 1000992 1             1             1             0            \n",
       "  f2247_f2257_5 f2247_f2257_6 f2247_f2257_7 f2247_f2257_8 ⋯ f2247_f2257_191\n",
       "1 0             1             0             0             ⋯ 0              \n",
       "2 0             0             1             1             ⋯ 0              \n",
       "3 1             0             1             1             ⋯ 0              \n",
       "4 1             1             1             1             ⋯ 1              \n",
       "5 0             0             0             1             ⋯ 0              \n",
       "6 0             1             1             1             ⋯ 0              \n",
       "  f2247_f2257_192 f2247_f2257_193 f2247_f2257_194 f2247_f2257_195\n",
       "1 0               1               0               1              \n",
       "2 0               0               0               0              \n",
       "3 1               0               0               0              \n",
       "4 0               0               0               1              \n",
       "5 1               1               1               0              \n",
       "6 1               1               1               1              \n",
       "  f2247_f2257_196 f2247_f2257_197 f2247_f2257_198 f2247_f2257_199\n",
       "1 0               1               1               1              \n",
       "2 0               0               0               1              \n",
       "3 1               1               1               0              \n",
       "4 0               0               0               1              \n",
       "5 0               1               1               0              \n",
       "6 1               0               0               1              \n",
       "  f2247_f2257_200\n",
       "1 0              \n",
       "2 0              \n",
       "3 0              \n",
       "4 0              \n",
       "5 0              \n",
       "6 0              "
      ]
     },
     "metadata": {},
     "output_type": "display_data"
    },
    {
     "data": {
      "text/html": [
       "<style>\n",
       ".list-inline {list-style: none; margin:0; padding: 0}\n",
       ".list-inline>li {display: inline-block}\n",
       ".list-inline>li:not(:last-child)::after {content: \"\\00b7\"; padding: 0 .5ex}\n",
       "</style>\n",
       "<ol class=list-inline><li>32878</li><li>202</li></ol>\n"
      ],
      "text/latex": [
       "\\begin{enumerate*}\n",
       "\\item 32878\n",
       "\\item 202\n",
       "\\end{enumerate*}\n"
      ],
      "text/markdown": [
       "1. 32878\n",
       "2. 202\n",
       "\n",
       "\n"
      ],
      "text/plain": [
       "[1] 32878   202"
      ]
     },
     "metadata": {},
     "output_type": "display_data"
    }
   ],
   "source": [
    "head(perm)\n",
    "dim(perm)"
   ]
  },
  {
   "cell_type": "code",
   "execution_count": 47,
   "id": "dbef3e86-fb2a-4f64-9674-4bb19bc2d2fb",
   "metadata": {
    "kernel": "R"
   },
   "outputs": [],
   "source": [
    "file<-\"/home/gl2776/UKBiobank/phenotype_files/hearing_impairment/090321_UKBB_Hearing_difficulty_f2247_expandedwhite_34596ind_50K.tsv\"\n",
    "pheno = \"f2247\"\n",
    "data <- read.table(file,sep=\"\\t\",header=TRUE)\n",
    "n<-dim(data)[1]\n",
    "m<-200\n",
    "p<-matrix(nrow=n, ncol=m)\n",
    "for (i in 1:m){\n",
    "    p[,i]<-sample(1:n,size=n, replace=FALSE)\n",
    "}\n",
    "perm<-c()\n",
    "for (i in 1:m){\n",
    "    perm<-cbind(perm,data[p[,i],3])\n",
    "}\n",
    "perm_name<-c()\n",
    "for (i in 1:m){\n",
    "    perm_name<-c(perm_name,paste0(pheno, \"_\",i))\n",
    "}\n",
    "colnames(perm)<-perm_name\n",
    "perm<-cbind(data[,1:2],perm)\n",
    "write.table(perm,paste0(\"~/project/guangyou/20220314_permutation/files/phenotype_discovery_\",pheno,\"_permutation_eachtrait\"),col.names=TRUE,row.names=FALSE,sep=\"\\t\",quote=FALSE)\n",
    "\n",
    "file<-\"/home/gl2776/UKBiobank/phenotype_files/hearing_impairment/090321_UKBB_Hearing_noise_f2257_expandedwhite_38723ind_50K.tsv\"\n",
    "pheno = \"f2257\"\n",
    "data <- read.table(file,sep=\"\\t\",header=TRUE)\n",
    "n<-dim(data)[1]\n",
    "m<-200\n",
    "p<-matrix(nrow=n, ncol=m)\n",
    "for (i in 1:m){\n",
    "    p[,i]<-sample(1:n,size=n, replace=FALSE)\n",
    "}\n",
    "perm<-c()\n",
    "for (i in 1:m){\n",
    "    perm<-cbind(perm,data[p[,i],3])\n",
    "}\n",
    "perm_name<-c()\n",
    "for (i in 1:m){\n",
    "    perm_name<-c(perm_name,paste0(pheno, \"_\",i))\n",
    "}\n",
    "colnames(perm)<-perm_name\n",
    "perm<-cbind(data[,1:2],perm)\n",
    "write.table(perm,paste0(\"~/project/guangyou/20220314_permutation/files/phenotype_discovery_\",pheno,\"_permutation_eachtrait\"),col.names=TRUE,row.names=FALSE,sep=\"\\t\",quote=FALSE)\n",
    "\n",
    "file<-\"/home/gl2776/UKBiobank/phenotype_files/hearing_impairment/090321_UKBB_Hearing_aid_f3393_expandedwhite_24189ind_50K.tsv\"\n",
    "pheno = \"f3393\"\n",
    "data <- read.table(file,sep=\"\\t\",header=TRUE)\n",
    "n<-dim(data)[1]\n",
    "m<-200\n",
    "p<-matrix(nrow=n, ncol=m)\n",
    "for (i in 1:m){\n",
    "    p[,i]<-sample(1:n,size=n, replace=FALSE)\n",
    "}\n",
    "perm<-c()\n",
    "for (i in 1:m){\n",
    "    perm<-cbind(perm,data[p[,i],3])\n",
    "}\n",
    "perm_name<-c()\n",
    "for (i in 1:m){\n",
    "    perm_name<-c(perm_name,paste0(pheno, \"_\",i))\n",
    "}\n",
    "colnames(perm)<-perm_name\n",
    "perm<-cbind(data[,1:2],perm)\n",
    "write.table(perm,paste0(\"~/project/guangyou/20220314_permutation/files/phenotype_discovery_\",pheno,\"_permutation_eachtrait\"),col.names=TRUE,row.names=FALSE,sep=\"\\t\",quote=FALSE)"
   ]
  },
  {
   "cell_type": "code",
   "execution_count": 48,
   "id": "d5e43e35-ea55-4234-a987-8608951378a9",
   "metadata": {
    "kernel": "R"
   },
   "outputs": [],
   "source": [
    "# phenotypes for permutation\n",
    "permpheno<-function(file,prefix,pheno){\n",
    "    set.seed(35222)\n",
    "    data <- read.table(file,sep=\"\\t\",header=TRUE)\n",
    "    n<-dim(data)[1]\n",
    "    m<-200\n",
    "    p<-matrix(nrow=n, ncol=m)\n",
    "    for (i in 1:m){\n",
    "        p[,i]<-sample(1:n,size=n, replace=FALSE)\n",
    "    }\n",
    "    for (i in 1:m){\n",
    "        perm<-cbind(data[,1:2],data[p[,i],3])\n",
    "        colnames(perm)[3]<-pheno\n",
    "        write.table(perm,paste0(\"~/project/guangyou/20220314_permutation/files/permutation/\",prefix,\".discovery.eachtrait.\",i,\".regenie_phenotype\"),col.names=TRUE,row.names=FALSE,sep=\"\\t\",quote=FALSE)\n",
    "    }  \n",
    "}"
   ]
  },
  {
   "cell_type": "code",
   "execution_count": 49,
   "id": "a754ad94-5d5f-4e0f-aa03-bfcd3660acdd",
   "metadata": {
    "kernel": "R"
   },
   "outputs": [],
   "source": [
    "file=\"/home/gl2776/UKBiobank/phenotype_files/hearing_impairment/090321_UKBB_Hearing_aid_f3393_expandedwhite_24189ind_50K.tsv\"\n",
    "prefix=\"UKB_f3393_permutation\"\n",
    "pheno=\"f3393\"\n",
    "permpheno(file,prefix,pheno)\n",
    "file=\"/home/gl2776/UKBiobank/phenotype_files/hearing_impairment/090321_UKBB_Hearing_difficulty_f2247_expandedwhite_34596ind_50K.tsv\"\n",
    "prefix=\"UKB_f2247_permutation\"\n",
    "pheno=\"f2247\"\n",
    "permpheno(file,prefix,pheno)\n",
    "file=\"/home/gl2776/UKBiobank/phenotype_files/hearing_impairment/090321_UKBB_Hearing_noise_f2257_expandedwhite_38723ind_50K.tsv\"\n",
    "prefix=\"UKB_f2257_permutation\"\n",
    "pheno=\"f2257\"\n",
    "permpheno(file,prefix,pheno)\n",
    "file=\"/home/gl2776/UKBiobank/phenotype_files/hearing_impairment/090321_UKBB_Hearing_difficulty_f2247_expandedwhite_34596ind_50K.tsv\"\n",
    "prefix=\"UKB_f2247_f2257_permutation\"\n",
    "pheno=\"f2247_f2257\"\n",
    "permpheno(file,prefix,pheno)"
   ]
  },
  {
   "cell_type": "code",
   "execution_count": 50,
   "id": "fe684098-ec9f-434f-8d99-fc2a22f0ee40",
   "metadata": {
    "kernel": "R"
   },
   "outputs": [],
   "source": [
    "# covariants for permutation\n",
    "permcovar<-function(file,prefix){\n",
    "    set.seed(35222)\n",
    "    data <- read.table(file,sep=\"\\t\",header=TRUE)\n",
    "    n<-dim(data)[1]\n",
    "    m<-200\n",
    "    p<-matrix(nrow=n, ncol=m)\n",
    "    for (i in 1:m){\n",
    "        p[,i]<-sample(1:n,size=n, replace=FALSE)\n",
    "    }\n",
    "    for (i in 1:m){\n",
    "        perm<-cbind(data[,1:2],data[p[,i],c(\"sex\",\"age\",\"PC1\",\"PC2\")])\n",
    "        write.table(perm,paste0(\"~/project/guangyou/20220314_permutation/files/permutation/\",prefix,\".discovery.eachtrait.\",i,\".regenie_covar\"),col.names=TRUE,row.names=FALSE,sep=\"\\t\",quote=FALSE)\n",
    "    }  \n",
    "}"
   ]
  },
  {
   "cell_type": "code",
   "execution_count": 51,
   "id": "f1cd7a35-ea24-4fc3-9aab-f902e1f50e4b",
   "metadata": {
    "kernel": "R"
   },
   "outputs": [],
   "source": [
    "file=\"/home/gl2776/UKBiobank/phenotype_files/hearing_impairment/090321_UKBB_Hearing_aid_f3393_expandedwhite_24189ind_50K.tsv\"\n",
    "prefix=\"UKB_f3393_permutation\"\n",
    "pheno=\"f3393\"\n",
    "permcovar(file,prefix)\n",
    "file=\"/home/gl2776/UKBiobank/phenotype_files/hearing_impairment/090321_UKBB_Hearing_difficulty_f2247_expandedwhite_34596ind_50K.tsv\"\n",
    "prefix=\"UKB_f2247_permutation\"\n",
    "pheno=\"f2247\"\n",
    "permcovar(file,prefix)\n",
    "file=\"/home/gl2776/UKBiobank/phenotype_files/hearing_impairment/090321_UKBB_Hearing_noise_f2257_expandedwhite_38723ind_50K.tsv\"\n",
    "prefix=\"UKB_f2257_permutation\"\n",
    "pheno=\"f2257\"\n",
    "permcovar(file,prefix)\n",
    "file=\"/home/gl2776/UKBiobank/phenotype_files/hearing_impairment/090321_UKBB_Hearing_difficulty_f2247_expandedwhite_34596ind_50K.tsv\"\n",
    "prefix=\"UKB_f2247_f2257_permutation\"\n",
    "pheno=\"f2247_f2257\"\n",
    "permcovar(file,prefix)"
   ]
  },
  {
   "cell_type": "markdown",
   "id": "9ffc83a0-9212-49a3-94bb-7f29bce44d02",
   "metadata": {
    "kernel": "R"
   },
   "source": [
    "## Mega"
   ]
  },
  {
   "cell_type": "code",
   "execution_count": 66,
   "id": "22414a50-0977-4f39-800a-2c4548823d60",
   "metadata": {
    "kernel": "Bash",
    "tags": []
   },
   "outputs": [
    {
     "name": "stdout",
     "output_type": "stream",
     "text": [
      "\u001b[0m\u001b[01;32m/home/gl2776/UKBiobank/phenotype_files/hearing_impairment/fulldb_500K/100521_UKBB_Combined_f2247_f2257_expandedwhite_10474cases_22255ctrl_50k\u001b[0m\u001b[K\n",
      "\u001b[01;32m/home/gl2776/UKBiobank/phenotype_files/hearing_impairment/fulldb_500K/100521_UKBB_Combined_f2247_f2257_expandedwhite_27932cases_74057ctrl_150k\u001b[0m\u001b[K\n",
      "\u001b[01;32m/home/gl2776/UKBiobank/phenotype_files/hearing_impairment/fulldb_500K/100521_UKBB_Combined_f2247_f2257_expandedwhite_38405cases_96311ctrl_200k\u001b[0m\u001b[K\n",
      "\u001b[01;32m/home/gl2776/UKBiobank/phenotype_files/hearing_impairment/fulldb_500K/100521_UKBB_Combined_f2247_f2257_expandedwhite_54853cases_141007ctrl_300k_PC1_PC2\u001b[0m\u001b[K\n",
      "\u001b[01;32m/home/gl2776/UKBiobank/phenotype_files/hearing_impairment/fulldb_500K/100521_UKBB_Combined_f2247_f2257_expandedwhite_93258cases_237318ctrl_500k_PC1_PC2\u001b[0m\u001b[K\n",
      "\u001b[01;32m/home/gl2776/UKBiobank/phenotype_files/hearing_impairment/fulldb_500K/100521_UKBB_Hearing_aid_f3393_expandedwhite_15601cases_237318ctrl_500k\u001b[0m\u001b[K\n",
      "\u001b[01;32m/home/gl2776/UKBiobank/phenotype_files/hearing_impairment/fulldb_500K/100521_UKBB_Hearing_aid_f3393_expandedwhite_15601cases_237318ctrl_500k_PC1_PC2\u001b[0m\u001b[K\n",
      "\u001b[01;32m/home/gl2776/UKBiobank/phenotype_files/hearing_impairment/fulldb_500K/100521_UKBB_Hearing_aid_f3393_expandedwhite_1787cases_22255ctrl_50k\u001b[0m\u001b[K\n",
      "\u001b[01;32m/home/gl2776/UKBiobank/phenotype_files/hearing_impairment/fulldb_500K/100521_UKBB_Hearing_aid_f3393_expandedwhite_4649cases_74057ctrl_150k\u001b[0m\u001b[K\n",
      "\u001b[01;32m/home/gl2776/UKBiobank/phenotype_files/hearing_impairment/fulldb_500K/100521_UKBB_Hearing_aid_f3393_expandedwhite_6436cases_96311ctrl_200k\u001b[0m\u001b[K\n",
      "\u001b[01;32m/home/gl2776/UKBiobank/phenotype_files/hearing_impairment/fulldb_500K/100521_UKBB_Hearing_aid_f3393_expandedwhite_9165cases_141007ctrl_300k_PC1_PC2\u001b[0m\u001b[K\n",
      "\u001b[01;32m/home/gl2776/UKBiobank/phenotype_files/hearing_impairment/fulldb_500K/100521_UKBB_Hearing_difficulty_f2247_expandedwhite_110453cases_237318ctrl_500k\u001b[0m\u001b[K\n",
      "/home/gl2776/UKBiobank/phenotype_files/hearing_impairment/fulldb_500K/100521_UKBB_Hearing_difficulty_f2247_expandedwhite_110453cases_237318ctrl_500k_PC1_7.tsv\n",
      "\u001b[01;32m/home/gl2776/UKBiobank/phenotype_files/hearing_impairment/fulldb_500K/100521_UKBB_Hearing_difficulty_f2247_expandedwhite_110453cases_237318ctrl_500k_PC1_PC2\u001b[0m\u001b[K\n",
      "\u001b[01;32m/home/gl2776/UKBiobank/phenotype_files/hearing_impairment/fulldb_500K/100521_UKBB_Hearing_difficulty_f2247_expandedwhite_12192cases_22255ctrl_50k\u001b[0m\u001b[K\n",
      "\u001b[01;32m/home/gl2776/UKBiobank/phenotype_files/hearing_impairment/fulldb_500K/100521_UKBB_Hearing_difficulty_f2247_expandedwhite_33309cases_74057ctrl_150k\u001b[0m\u001b[K\n",
      "\u001b[01;32m/home/gl2776/UKBiobank/phenotype_files/hearing_impairment/fulldb_500K/100521_UKBB_Hearing_difficulty_f2247_expandedwhite_45500cases_96311ctrl_200k\u001b[0m\u001b[K\n",
      "/home/gl2776/UKBiobank/phenotype_files/hearing_impairment/fulldb_500K/100521_UKBB_Hearing_difficulty_f2247_expandedwhite_64953cases_141007ctrl_300k_PC1_3.tsv\n",
      "\u001b[01;32m/home/gl2776/UKBiobank/phenotype_files/hearing_impairment/fulldb_500K/100521_UKBB_Hearing_difficulty_f2247_expandedwhite_64953cases_141007ctrl_300k_PC1_PC2\u001b[0m\u001b[K\n",
      "\u001b[01;32m/home/gl2776/UKBiobank/phenotype_files/hearing_impairment/fulldb_500K/100521_UKBB_Hearing_noise_f2257_expandedwhite_161443cases_237318ctrl_500k\u001b[0m\u001b[K\n",
      "\u001b[01;32m/home/gl2776/UKBiobank/phenotype_files/hearing_impairment/fulldb_500K/100521_UKBB_Hearing_noise_f2257_expandedwhite_161443cases_237318ctrl_500k_PC1_PC2\u001b[0m\u001b[K\n",
      "\u001b[01;32m/home/gl2776/UKBiobank/phenotype_files/hearing_impairment/fulldb_500K/100521_UKBB_Hearing_noise_f2257_expandedwhite_16321cases_22255ctrl_50k\u001b[0m\u001b[K\n",
      "\u001b[01;32m/home/gl2776/UKBiobank/phenotype_files/hearing_impairment/fulldb_500K/100521_UKBB_Hearing_noise_f2257_expandedwhite_49329cases_74057ctrl_150k\u001b[0m\u001b[K\n",
      "\u001b[01;32m/home/gl2776/UKBiobank/phenotype_files/hearing_impairment/fulldb_500K/100521_UKBB_Hearing_noise_f2257_expandedwhite_65649cases_96311ctrl_200k\u001b[0m\u001b[K\n",
      "\u001b[01;32m/home/gl2776/UKBiobank/phenotype_files/hearing_impairment/fulldb_500K/100521_UKBB_Hearing_noise_f2257_expandedwhite_95794cases_141007ctrl_300k_PC1_PC2\u001b[0m\u001b[K\n",
      "\u001b[01;32m/home/gl2776/UKBiobank/phenotype_files/hearing_impairment/fulldb_500K/100521_UKBB_Mendelian_expandedwhite_2071cases_74057ctrl_150k\u001b[0m\u001b[K\n",
      "\u001b[01;32m/home/gl2776/UKBiobank/phenotype_files/hearing_impairment/fulldb_500K/100521_UKBB_Mendelian_expandedwhite_2686cases_96311ctrl_200k\u001b[0m\u001b[K\n",
      "\u001b[01;32m/home/gl2776/UKBiobank/phenotype_files/hearing_impairment/fulldb_500K/100521_UKBB_Mendelian_expandedwhite_4138cases_141007ctrl_300k_PC1_PC2\u001b[0m\u001b[K\n",
      "\u001b[01;32m/home/gl2776/UKBiobank/phenotype_files/hearing_impairment/fulldb_500K/100521_UKBB_Mendelian_expandedwhite_615cases_22255ctrl_50k\u001b[0m\u001b[K\n",
      "\u001b[01;32m/home/gl2776/UKBiobank/phenotype_files/hearing_impairment/fulldb_500K/100521_UKBB_Mendelian_expandedwhite_6824cases_237318ctrl_500k_PC1_PC2\u001b[0m\u001b[K\n"
     ]
    }
   ],
   "source": [
    "ls ~/UKBiobank/phenotype_files/hearing_impairment/fulldb_500K/100521_*"
   ]
  },
  {
   "cell_type": "code",
   "execution_count": 67,
   "id": "5f92a09b-862b-42bd-ac76-a93780494e72",
   "metadata": {
    "kernel": "R"
   },
   "outputs": [],
   "source": [
    "file<-\"/home/gl2776/UKBiobank/phenotype_files/hearing_impairment/fulldb_500K/100521_UKBB_Combined_f2247_f2257_expandedwhite_54853cases_141007ctrl_300k_PC1_PC2\"\n",
    "data1 <- read.table(file,sep=\"\\t\",header=TRUE)\n",
    "file<-\"/home/dmc2245/UKBiobank/phenotype_files/hearing_impairment/fulldb_500K/100521_UKBB_Hearing_aid_f3393_expandedwhite_9165cases_141007ctrl_300k_PC1_PC2\"\n",
    "data2 <- read.table(file,sep=\"\\t\",header=TRUE)\n",
    "file<-\"/home/gl2776/UKBiobank/phenotype_files/hearing_impairment/fulldb_500K/100521_UKBB_Hearing_difficulty_f2247_expandedwhite_64953cases_141007ctrl_300k_PC1_PC2\"\n",
    "data3 <- read.table(file,sep=\"\\t\",header=TRUE)\n",
    "file<-\"/home/gl2776/UKBiobank/phenotype_files/hearing_impairment/fulldb_500K/100521_UKBB_Hearing_noise_f2257_expandedwhite_95794cases_141007ctrl_300k_PC1_PC2\"\n",
    "data4 <- read.table(file,sep=\"\\t\",header=TRUE)"
   ]
  },
  {
   "cell_type": "code",
   "execution_count": 68,
   "id": "ba2ea058-d4a0-4530-93fb-99dde787a0b6",
   "metadata": {
    "kernel": "R"
   },
   "outputs": [
    {
     "data": {
      "text/html": [
       "149551"
      ],
      "text/latex": [
       "149551"
      ],
      "text/markdown": [
       "149551"
      ],
      "text/plain": [
       "[1] 149551"
      ]
     },
     "metadata": {},
     "output_type": "display_data"
    }
   ],
   "source": [
    "length(Reduce(intersect,list(data1$FID,data2$FID,data3$FID,data4$FID)))"
   ]
  },
  {
   "cell_type": "code",
   "execution_count": 69,
   "id": "c49437f5-f5b5-4f6d-8eb9-32ee006788f4",
   "metadata": {
    "kernel": "R"
   },
   "outputs": [
    {
     "data": {
      "text/html": [
       "247070"
      ],
      "text/latex": [
       "247070"
      ],
      "text/markdown": [
       "247070"
      ],
      "text/plain": [
       "[1] 247070"
      ]
     },
     "metadata": {},
     "output_type": "display_data"
    }
   ],
   "source": [
    "length(Reduce(union,list(data1$FID,data2$FID,data3$FID,data4$FID)))"
   ]
  },
  {
   "cell_type": "code",
   "execution_count": 70,
   "id": "412fa5c7-82cc-4654-ab24-1293a1fb4053",
   "metadata": {
    "kernel": "R"
   },
   "outputs": [
    {
     "data": {
      "text/html": [
       "<table class=\"dataframe\">\n",
       "<caption>A data.frame: 6 × 6</caption>\n",
       "<thead>\n",
       "\t<tr><th></th><th scope=col>FID</th><th scope=col>IID</th><th scope=col>f2247_f2257</th><th scope=col>f3393</th><th scope=col>f2247</th><th scope=col>f2257</th></tr>\n",
       "\t<tr><th></th><th scope=col>&lt;int&gt;</th><th scope=col>&lt;int&gt;</th><th scope=col>&lt;int&gt;</th><th scope=col>&lt;int&gt;</th><th scope=col>&lt;int&gt;</th><th scope=col>&lt;int&gt;</th></tr>\n",
       "</thead>\n",
       "<tbody>\n",
       "\t<tr><th scope=row>1</th><td>1000022</td><td>1000022</td><td> 1</td><td>NA</td><td> 1</td><td> 1</td></tr>\n",
       "\t<tr><th scope=row>2</th><td>1000046</td><td>1000046</td><td>NA</td><td>NA</td><td>NA</td><td> 1</td></tr>\n",
       "\t<tr><th scope=row>3</th><td>1000054</td><td>1000054</td><td>NA</td><td>NA</td><td>NA</td><td> 1</td></tr>\n",
       "\t<tr><th scope=row>4</th><td>1000063</td><td>1000063</td><td> 0</td><td> 0</td><td> 0</td><td> 0</td></tr>\n",
       "\t<tr><th scope=row>5</th><td>1000090</td><td>1000090</td><td>NA</td><td>NA</td><td> 1</td><td>NA</td></tr>\n",
       "\t<tr><th scope=row>6</th><td>1000105</td><td>1000105</td><td>NA</td><td>NA</td><td>NA</td><td> 1</td></tr>\n",
       "</tbody>\n",
       "</table>\n"
      ],
      "text/latex": [
       "A data.frame: 6 × 6\n",
       "\\begin{tabular}{r|llllll}\n",
       "  & FID & IID & f2247\\_f2257 & f3393 & f2247 & f2257\\\\\n",
       "  & <int> & <int> & <int> & <int> & <int> & <int>\\\\\n",
       "\\hline\n",
       "\t1 & 1000022 & 1000022 &  1 & NA &  1 &  1\\\\\n",
       "\t2 & 1000046 & 1000046 & NA & NA & NA &  1\\\\\n",
       "\t3 & 1000054 & 1000054 & NA & NA & NA &  1\\\\\n",
       "\t4 & 1000063 & 1000063 &  0 &  0 &  0 &  0\\\\\n",
       "\t5 & 1000090 & 1000090 & NA & NA &  1 & NA\\\\\n",
       "\t6 & 1000105 & 1000105 & NA & NA & NA &  1\\\\\n",
       "\\end{tabular}\n"
      ],
      "text/markdown": [
       "\n",
       "A data.frame: 6 × 6\n",
       "\n",
       "| <!--/--> | FID &lt;int&gt; | IID &lt;int&gt; | f2247_f2257 &lt;int&gt; | f3393 &lt;int&gt; | f2247 &lt;int&gt; | f2257 &lt;int&gt; |\n",
       "|---|---|---|---|---|---|---|\n",
       "| 1 | 1000022 | 1000022 |  1 | NA |  1 |  1 |\n",
       "| 2 | 1000046 | 1000046 | NA | NA | NA |  1 |\n",
       "| 3 | 1000054 | 1000054 | NA | NA | NA |  1 |\n",
       "| 4 | 1000063 | 1000063 |  0 |  0 |  0 |  0 |\n",
       "| 5 | 1000090 | 1000090 | NA | NA |  1 | NA |\n",
       "| 6 | 1000105 | 1000105 | NA | NA | NA |  1 |\n",
       "\n"
      ],
      "text/plain": [
       "  FID     IID     f2247_f2257 f3393 f2247 f2257\n",
       "1 1000022 1000022  1          NA     1     1   \n",
       "2 1000046 1000046 NA          NA    NA     1   \n",
       "3 1000054 1000054 NA          NA    NA     1   \n",
       "4 1000063 1000063  0           0     0     0   \n",
       "5 1000090 1000090 NA          NA     1    NA   \n",
       "6 1000105 1000105 NA          NA    NA     1   "
      ]
     },
     "metadata": {},
     "output_type": "display_data"
    },
    {
     "data": {
      "text/html": [
       "<style>\n",
       ".list-inline {list-style: none; margin:0; padding: 0}\n",
       ".list-inline>li {display: inline-block}\n",
       ".list-inline>li:not(:last-child)::after {content: \"\\00b7\"; padding: 0 .5ex}\n",
       "</style>\n",
       "<ol class=list-inline><li>247070</li><li>6</li></ol>\n"
      ],
      "text/latex": [
       "\\begin{enumerate*}\n",
       "\\item 247070\n",
       "\\item 6\n",
       "\\end{enumerate*}\n"
      ],
      "text/markdown": [
       "1. 247070\n",
       "2. 6\n",
       "\n",
       "\n"
      ],
      "text/plain": [
       "[1] 247070      6"
      ]
     },
     "metadata": {},
     "output_type": "display_data"
    }
   ],
   "source": [
    "large<-merge(data1[,c(2,4)],data2[,c(2,4)],by=c(\"IID\",\"IID\"),all=TRUE)\n",
    "large<-merge(large,data3[,c(2,4)],by=c(\"IID\",\"IID\"),all=TRUE)\n",
    "large<-merge(large,data4[,c(2,4)],by=c(\"IID\",\"IID\"),all=TRUE)\n",
    "large$FID<-large$IID\n",
    "large<-large[,c(6,1:5)]\n",
    "head(large)\n",
    "dim(large)"
   ]
  },
  {
   "cell_type": "code",
   "execution_count": 71,
   "id": "8e4f7012-2069-464a-abb4-a2668429082a",
   "metadata": {
    "kernel": "R"
   },
   "outputs": [],
   "source": [
    "set.seed(35222)\n",
    "n<-dim(large)[1]\n",
    "m<-200\n",
    "p<-matrix(nrow=n, ncol=m)\n",
    "for (i in 1:m){\n",
    "    p[,i]<-sample(1:n,size=n, replace=FALSE)\n",
    "}\n",
    "# permute across all traits\n",
    "comb<-f3393<-f2247<-f2257<-c()\n",
    "for (i in 1:m){\n",
    "    comb<-cbind(comb,large[p[,i],3])\n",
    "    f3393<-cbind(f3393,large[p[,i],4])\n",
    "    f2247<-cbind(f2247,large[p[,i],5])\n",
    "    f2257<-cbind(f2257,large[p[,i],6])\n",
    "}\n",
    "comb_name<-f3393_name<-f2247_name<-f2257_name<-c()\n",
    "for (i in 1:m){\n",
    "    comb_name<-c(comb_name,paste0(\"f2247_f2257_\",i))\n",
    "    f3393_name<-c(f3393_name,paste0(\"f3393_\",i))\n",
    "    f2247_name<-c(f2247_name,paste0(\"f2247_\",i))\n",
    "    f2257_name<-c(f2257_name,paste0(\"f2257_\",i))\n",
    "}\n",
    "colnames(comb)<-comb_name\n",
    "colnames(f3393)<-f3393_name\n",
    "colnames(f2247)<-f2247_name\n",
    "colnames(f2257)<-f2257_name\n",
    "comb<-cbind(large[,1:2],comb)\n",
    "f3393<-cbind(large[,1:2],f3393)\n",
    "f2247<-cbind(large[,1:2],f2247)\n",
    "f2257<-cbind(large[,1:2],f2257)\n",
    "\n",
    "write.table(large,\"~/project/guangyou/20220314_permutation/files/phenotype_large_mega\",col.names=TRUE,row.names=FALSE,sep=\"\\t\",quote=FALSE)\n",
    "write.table(comb,\"~/project/guangyou/20220314_permutation/files/phenotype_mega_f2247_f2257_permutation\",col.names=TRUE,row.names=FALSE,sep=\"\\t\",quote=FALSE)\n",
    "write.table(f3393,\"~/project/guangyou/20220314_permutation/files/phenotype_mega_f3393_permutation\",col.names=TRUE,row.names=FALSE,sep=\"\\t\",quote=FALSE)\n",
    "write.table(f2247,\"~/project/guangyou/20220314_permutation/files/phenotype_mega_f2247_permutation\",col.names=TRUE,row.names=FALSE,sep=\"\\t\",quote=FALSE)\n",
    "write.table(f2257,\"~/project/guangyou/20220314_permutation/files/phenotype_mega_f2257_permutation\",col.names=TRUE,row.names=FALSE,sep=\"\\t\",quote=FALSE)\n",
    "\n",
    "write.table(comb_name,\"~/project/guangyou/20220314_permutation/files/phenotype_mega_f2247_f2257_permutation_name\",col.names=FALSE,row.names=FALSE,sep=\",\",quote=FALSE)\n",
    "write.table(f3393_name,\"~/project/guangyou/20220314_permutation/files/phenotype_mega_f3393_permutation_name\",col.names=FALSE,row.names=FALSE,sep=\",\",quote=FALSE)\n",
    "write.table(f2247_name,\"~/project/guangyou/20220314_permutation/files/phenotype_mega_f2247_permutation_name\",col.names=FALSE,row.names=FALSE,sep=\",\",quote=FALSE)\n",
    "write.table(f2257_name,\"~/project/guangyou/20220314_permutation/files/phenotype_mega_f2257_permutation_name\",col.names=FALSE,row.names=FALSE,sep=\",\",quote=FALSE)\n",
    "# covariates\n",
    "library(dplyr)\n",
    "covar<-data1[,-4]\n",
    "IID<-setdiff(large$IID,data1$IID)\n",
    "FID<-IID\n",
    "tmp<-as.data.frame(cbind(FID,IID))\n",
    "tmp$sex<-NA\n",
    "tmp$age<-NA\n",
    "tmp$PC1<-NA\n",
    "tmp$PC2<-NA\n",
    "covar<-rbind(covar,tmp)\n",
    "covar<- covar %>%  slice(match(large$IID, IID))\n",
    "write.table(covar,\"~/project/guangyou/20220314_permutation/files/phenotype_mega_f2247_f2257_covar_origin\",col.names=TRUE,row.names=FALSE,sep=\"\\t\",quote=FALSE)\n",
    "covar<-data2[,-4]\n",
    "IID<-setdiff(large$IID,data2$IID)\n",
    "FID<-IID\n",
    "tmp<-as.data.frame(cbind(FID,IID))\n",
    "tmp$sex<-NA\n",
    "tmp$age<-NA\n",
    "tmp$PC1<-NA\n",
    "tmp$PC2<-NA\n",
    "covar<-rbind(covar,tmp)\n",
    "covar<- covar %>%  slice(match(large$IID, IID))\n",
    "write.table(covar,\"~/project/guangyou/20220314_permutation/files/phenotype_mega_f3393_covar_origin\",col.names=TRUE,row.names=FALSE,sep=\"\\t\",quote=FALSE)\n",
    "covar<-data3[,-4]\n",
    "IID<-setdiff(large$IID,data3$IID)\n",
    "FID<-IID\n",
    "tmp<-as.data.frame(cbind(FID,IID))\n",
    "tmp$sex<-NA\n",
    "tmp$age<-NA\n",
    "tmp$PC1<-NA\n",
    "tmp$PC2<-NA\n",
    "covar<-rbind(covar,tmp)\n",
    "covar<- covar %>%  slice(match(large$IID, IID))\n",
    "write.table(covar,\"~/project/guangyou/20220314_permutation/files/phenotype_mega_f2247_covar_origin\",col.names=TRUE,row.names=FALSE,sep=\"\\t\",quote=FALSE)\n",
    "covar<-data4[,-4]\n",
    "IID<-setdiff(large$IID,data4$IID)\n",
    "FID<-IID\n",
    "tmp<-as.data.frame(cbind(FID,IID))\n",
    "tmp$sex<-NA\n",
    "tmp$age<-NA\n",
    "tmp$PC1<-NA\n",
    "tmp$PC2<-NA\n",
    "covar<-rbind(covar,tmp)\n",
    "covar<- covar %>%  slice(match(large$IID, IID))\n",
    "write.table(covar,\"~/project/guangyou/20220314_permutation/files/phenotype_mega_f2257_covar_origin\",col.names=TRUE,row.names=FALSE,sep=\"\\t\",quote=FALSE)"
   ]
  },
  {
   "cell_type": "code",
   "execution_count": 91,
   "id": "0927fbcb-8559-4952-955f-d6d4412b2799",
   "metadata": {
    "kernel": "R"
   },
   "outputs": [],
   "source": [
    "# permute within each trait\n",
    "# phenotypes for permutation\n",
    "permpheno<-function(file,prefix,pheno){\n",
    "    set.seed(35222)\n",
    "    data <- read.table(file,sep=\"\\t\",header=TRUE)\n",
    "    n<-dim(data)[1]\n",
    "    m<-200\n",
    "    p<-matrix(nrow=n, ncol=m)\n",
    "    for (i in 1:m){\n",
    "        p[,i]<-sample(1:n,size=n, replace=FALSE)\n",
    "    }\n",
    "    for (i in 1:m){\n",
    "        perm<-cbind(data[,1:2],data[p[,i],3])\n",
    "        colnames(perm)[3]<-pheno\n",
    "        write.table(perm,paste0(\"~/project/guangyou/20220314_permutation/files/permutation/\",prefix,\".mega.eachtrait.\",i,\".regenie_phenotype\"),col.names=TRUE,row.names=FALSE,sep=\"\\t\",quote=FALSE)\n",
    "    }  \n",
    "}"
   ]
  },
  {
   "cell_type": "code",
   "execution_count": 92,
   "id": "e320e3ee-6678-447c-b62b-79c78e57f2b8",
   "metadata": {
    "kernel": "R"
   },
   "outputs": [],
   "source": [
    "file=\"/home/dmc2245/UKBiobank/phenotype_files/hearing_impairment/fulldb_500K/100521_UKBB_Hearing_aid_f3393_expandedwhite_9165cases_141007ctrl_300k_PC1_PC2\"\n",
    "prefix=\"UKB_f3393_permutation\"\n",
    "pheno=\"f3393\"\n",
    "permpheno(file,prefix,pheno)\n",
    "file=\"/home/gl2776/UKBiobank/phenotype_files/hearing_impairment/fulldb_500K/100521_UKBB_Hearing_difficulty_f2247_expandedwhite_64953cases_141007ctrl_300k_PC1_PC2\"\n",
    "prefix=\"UKB_f2247_permutation\"\n",
    "pheno=\"f2247\"\n",
    "permpheno(file,prefix,pheno)\n",
    "file=\"/home/gl2776/UKBiobank/phenotype_files/hearing_impairment/fulldb_500K/100521_UKBB_Hearing_noise_f2257_expandedwhite_95794cases_141007ctrl_300k_PC1_PC2\"\n",
    "prefix=\"UKB_f2257_permutation\"\n",
    "pheno=\"f2257\"\n",
    "permpheno(file,prefix,pheno)\n",
    "file=\"/home/gl2776/UKBiobank/phenotype_files/hearing_impairment/fulldb_500K/100521_UKBB_Combined_f2247_f2257_expandedwhite_54853cases_141007ctrl_300k_PC1_PC2\"\n",
    "prefix=\"UKB_f2247_f2257_permutation\"\n",
    "pheno=\"f2247_f2257\"\n",
    "permpheno(file,prefix,pheno)"
   ]
  },
  {
   "cell_type": "code",
   "execution_count": 93,
   "id": "00694b37-5b9d-4208-83c3-7728dbf8ce9e",
   "metadata": {
    "kernel": "R"
   },
   "outputs": [],
   "source": [
    "# covariants for permutation\n",
    "permcovar<-function(file,prefix){\n",
    "    set.seed(35222)\n",
    "    data <- read.table(file,sep=\"\\t\",header=TRUE)\n",
    "    n<-dim(data)[1]\n",
    "    m<-200\n",
    "    p<-matrix(nrow=n, ncol=m)\n",
    "    for (i in 1:m){\n",
    "        p[,i]<-sample(1:n,size=n, replace=FALSE)\n",
    "    }\n",
    "    for (i in 1:m){\n",
    "        perm<-cbind(data[,1:2],data[p[,i],c(\"sex\",\"age\",\"PC1\",\"PC2\")])\n",
    "        write.table(perm,paste0(\"~/project/guangyou/20220314_permutation/files/permutation/\",prefix,\".mega.eachtrait.\",i,\".regenie_covar\"),col.names=TRUE,row.names=FALSE,sep=\"\\t\",quote=FALSE)\n",
    "    }  \n",
    "}"
   ]
  },
  {
   "cell_type": "code",
   "execution_count": 94,
   "id": "ee3eb44d-96be-4617-a0a1-dc61c0a78d3c",
   "metadata": {
    "kernel": "R"
   },
   "outputs": [],
   "source": [
    "file=\"/home/dmc2245/UKBiobank/phenotype_files/hearing_impairment/fulldb_500K/100521_UKBB_Hearing_aid_f3393_expandedwhite_9165cases_141007ctrl_300k_PC1_PC2\"\n",
    "prefix=\"UKB_f3393_permutation\"\n",
    "pheno=\"f3393\"\n",
    "permcovar(file,prefix)\n",
    "file=\"/home/gl2776/UKBiobank/phenotype_files/hearing_impairment/fulldb_500K/100521_UKBB_Hearing_difficulty_f2247_expandedwhite_64953cases_141007ctrl_300k_PC1_PC2\"\n",
    "prefix=\"UKB_f2247_permutation\"\n",
    "pheno=\"f2247\"\n",
    "permcovar(file,prefix)\n",
    "file=\"/home/gl2776/UKBiobank/phenotype_files/hearing_impairment/fulldb_500K/100521_UKBB_Hearing_noise_f2257_expandedwhite_95794cases_141007ctrl_300k_PC1_PC2\"\n",
    "prefix=\"UKB_f2257_permutation\"\n",
    "pheno=\"f2257\"\n",
    "permcovar(file,prefix)\n",
    "file=\"/home/gl2776/UKBiobank/phenotype_files/hearing_impairment/fulldb_500K/100521_UKBB_Combined_f2247_f2257_expandedwhite_54853cases_141007ctrl_300k_PC1_PC2\"\n",
    "prefix=\"UKB_f2247_f2257_permutation\"\n",
    "pheno=\"f2247_f2257\"\n",
    "permcovar(file,prefix)"
   ]
  },
  {
   "cell_type": "markdown",
   "id": "16220753-209d-4f19-87ff-1a2aa3d34305",
   "metadata": {
    "kernel": "Bash",
    "tags": []
   },
   "source": [
    "## Original Regenie"
   ]
  },
  {
   "cell_type": "code",
   "execution_count": 14,
   "id": "495d874e-d96b-43a6-9fcd-1d1b14ba3c03",
   "metadata": {
    "kernel": "Bash",
    "tags": []
   },
   "outputs": [
    {
     "name": "stderr",
     "output_type": "stream",
     "text": [
      "Traceback (most recent call last):\n",
      "  File \"/home/gl2776/miniconda3/lib/python3.8/runpy.py\", line 185, in _run_module_as_main\n",
      "    mod_name, mod_spec, code = _get_module_details(mod_name, _Error)\n",
      "  File \"/home/gl2776/miniconda3/lib/python3.8/runpy.py\", line 144, in _get_module_details\n",
      "    return _get_module_details(pkg_main_name, error)\n",
      "  File \"/home/gl2776/miniconda3/lib/python3.8/runpy.py\", line 111, in _get_module_details\n",
      "    __import__(pkg_name)\n",
      "  File \"/home/gl2776/miniconda3/lib/python3.8/site-packages/bash_kernel/__init__.py\", line 3, in <module>\n",
      "    from .kernel import __version__\n",
      "  File \"/home/gl2776/miniconda3/lib/python3.8/site-packages/bash_kernel/kernel.py\", line 1, in <module>\n",
      "    from ipykernel.kernelbase import Kernel\n",
      "  File \"/home/gl2776/miniconda3/lib/python3.8/site-packages/ipykernel/kernelbase.py\", line 37, in <module>\n",
      "    from IPython.core.error import StdinNotImplementedError\n",
      "  File \"/home/gl2776/miniconda3/lib/python3.8/site-packages/IPython/__init__.py\", line 52, in <module>\n",
      "    from .terminal.embed import embed\n",
      "  File \"/home/gl2776/miniconda3/lib/python3.8/site-packages/IPython/terminal/embed.py\", line 16, in <module>\n",
      "    from IPython.terminal.interactiveshell import TerminalInteractiveShell\n",
      "  File \"/home/gl2776/miniconda3/lib/python3.8/site-packages/IPython/terminal/interactiveshell.py\", line 48, in <module>\n",
      "    from .debugger import TerminalPdb, Pdb\n",
      "  File \"/home/gl2776/miniconda3/lib/python3.8/site-packages/IPython/terminal/debugger.py\", line 6, in <module>\n",
      "    from IPython.core.completer import IPCompleter\n",
      "  File \"/home/gl2776/miniconda3/lib/python3.8/site-packages/IPython/core/completer.py\", line 149, in <module>\n",
      "    import jedi\n",
      "  File \"/home/gl2776/miniconda3/lib/python3.8/site-packages/jedi/__init__.py\", line 32, in <module>\n",
      "    from jedi.api import Script, Interpreter, set_debug_function, preload_module\n",
      "  File \"/home/gl2776/miniconda3/lib/python3.8/site-packages/jedi/api/__init__.py\", line 13, in <module>\n",
      "    import parso\n",
      "  File \"/home/gl2776/miniconda3/lib/python3.8/site-packages/parso/__init__.py\", line 42, in <module>\n",
      "    from parso.grammar import Grammar, load_grammar\n",
      "  File \"/home/gl2776/miniconda3/lib/python3.8/site-packages/parso/grammar.py\", line 18, in <module>\n",
      "    from parso.file_io import FileIO, KnownContentFileIO\n",
      "  File \"<frozen importlib._bootstrap>\", line 991, in _find_and_load\n",
      "  File \"<frozen importlib._bootstrap>\", line 975, in _find_and_load_unlocked\n",
      "  File \"<frozen importlib._bootstrap>\", line 671, in _load_unlocked\n",
      "  File \"<frozen importlib._bootstrap_external>\", line 779, in exec_module\n",
      "  File \"<frozen importlib._bootstrap_external>\", line 874, in get_code\n",
      "  File \"<frozen importlib._bootstrap_external>\", line 973, in get_data\n",
      "KeyboardInterrupt\n"
     ]
    }
   ],
   "source": [
    "# Common variables Columbia's cluster\n",
    "UKBB_PATH=$HOME/UKBiobank\n",
    "UKBB_yale=$HOME/UKBiobank_Yale_transfer\n",
    "USER_PATH=$HOME/working\n",
    "container_lmm=$HOME/containers/lmm.sif\n",
    "container_marp=$HOME/containers/marp.sif\n",
    "container_annovar=$HOME/containers/gatk4-annovar.sif\n",
    "hearing_pheno_path=$UKBB_PATH/phenotype_files/hearing_impairment\n",
    "tpl_file=$USER_PATH/bioworkflows/admin/csg.yml\n",
    "formatFile_fastgwa=$USER_PATH/UKBB_GWAS_dev/data/fastGWA_template.yml\n",
    "formatFile_bolt=$USER_PATH/UKBB_GWAS_dev/data/boltlmm_template.yml\n",
    "formatFile_saige=$USER_PATH/UKBB_GWAS_dev/data/saige_template.yml\n",
    "formatFile_regenie=$USER_PATH/UKBB_GWAS_dev/data/regenie_template.yml\n",
    "\n",
    "# Workflows\n",
    "lmm_sos=$USER_PATH/bioworkflows/GWAS/LMM.ipynb\n",
    "anno_sos=$USER_PATH/bioworkflows/variant-annotation/annovar.ipynb\n",
    "clumping_sos=$USER_PATH/bioworkflows/GWAS/LD_Clumping.ipynb\n",
    "extract_sos=$USER_PATH/bioworkflows/GWAS/Region_Extraction.ipynb\n",
    "snptogene_sos=$USER_PATH/UKBB_GWAS_dev/workflow/snptogene.ipynb\n",
    "\n",
    "# LMM directories for imputed data\n",
    "lmm_imp_dir_fastgwa=$UKBB_PATH/results/FastGWA_results/results_imputed_data\n",
    "lmm_imp_dir_bolt=$UKBB_PATH/results/BOLTLMM_results/results_imputed_data\n",
    "lmm_imp_dir_saige=$UKBB_PATH/results/SAIGE_results/results_imputed_data\n",
    "lmm_imp_dir_regenie=$UKBB_PATH/results/REGENIE_results/results_imputed_data\n",
    "\n",
    "# LMM directories for exome data\n",
    "lmm_exome_dir_fastgwa=$UKBB_PATH/results/FastGWA_results/results_exome_data\n",
    "lmm_exome_dir_bolt=$UKBB_PATH/results/BOLTLMM_results/results_exome_data\n",
    "lmm_exome_dir_saige=$UKBB_PATH/results/SAIGE_results/results_exome_data\n",
    "lmm_exome_dir_regenie=$UKBB_PATH/results/REGENIE_results/results_exome_data\n",
    "## LMM variables \n",
    "## Specific to Bolt_LMM\n",
    "LDscoresFile=$UKBB_PATH/LDSCORE.1000G_EUR.tab.gz\n",
    "geneticMapFile=$UKBB_PATH/genetic_map_hg19_withX.txt.gz\n",
    "covarMaxLevels=10\n",
    "numThreads=20\n",
    "bgenMinMAF=0.001\n",
    "bgenMinINFO=0.8\n",
    "lmm_job_size=1\n",
    "ylim=0\n",
    "\n",
    "### Specific to REGENIE\n",
    "bsize=1000\n",
    "trait=bt\n",
    "minMAC=4\n",
    "maf_filter=0.01\n",
    "geno_filter=0.01\n",
    "hwe_filter=0\n",
    "mind_filter=0.1\n",
    "reverse_log_p=True"
   ]
  },
  {
   "cell_type": "code",
   "execution_count": 61,
   "id": "2a99d34e-cd2e-4943-a3e0-74f662b2fd50",
   "metadata": {
    "kernel": "Bash"
   },
   "outputs": [
    {
     "name": "stdout",
     "output_type": "stream",
     "text": [
      "INFO: Running \u001b[32mcsg\u001b[0m: Configuration for Columbia csg partition cluster\n",
      "INFO: \u001b[32mcsg\u001b[0m is \u001b[32mcompleted\u001b[0m.\n",
      "INFO: \u001b[32mcsg\u001b[0m output:   \u001b[32m/home/gl2776/project/guangyou/20220314_permutation/regenie/discovery/origin/f3393_hearing_aid/f3393_hearing_aid_discovery-regenie_2022-03-22.sbatch\u001b[0m\n",
      "INFO: Workflow csg (ID=w9d3da1549d173800) is executed successfully with 1 completed step.\n"
     ]
    }
   ],
   "source": [
    "## discovery\n",
    "lmm_dir_regenie=~/project/guangyou/20220314_permutation/regenie/discovery/origin/f3393_hearing_aid\n",
    "lmm_sbatch_regenie=$lmm_dir_regenie/f3393_hearing_aid_discovery-regenie_$(date +\"%Y-%m-%d\").sbatch\n",
    "phenoFile=~/project/guangyou/20220314_permutation/files/phenotype_large_discovery\n",
    "covarFile=~/project/guangyou/20220314_permutation/files/phenotype_discovery_f3393_covar_origin\n",
    "phenoCol=f3393\n",
    "covarCol=sex\n",
    "qCovarCol=\"age PC1 PC2\"\n",
    "#Use the original bed files for the genotype array on regenie step1\n",
    "bfile=$UKBB_yale/pleiotropy_geneticfiles/UKB_originalgenotypefilesdownloaded083019/UKB_genotypedatadownloaded083019.bed\n",
    "genoFile=/mnt/mfs/statgen/guangyou/20220314_permutation/files/genome_discovery.bed\n",
    "lowmem_dir=$lmm_dir_regenie/scratch60\n",
    "\n",
    "lmm_args=\"\"\"regenie\n",
    "    --cwd $lmm_dir_regenie \n",
    "    --bfile $bfile \n",
    "    --genoFile $genoFile\n",
    "    --phenoFile $phenoFile \n",
    "    --covarFile $covarFile \n",
    "    --formatFile $formatFile_regenie \n",
    "    --phenoCol $phenoCol\n",
    "    --covarCol $covarCol  \n",
    "    --qCovarCol $qCovarCol\n",
    "    --bsize $bsize\n",
    "    --lowmem_dir $lowmem_dir\n",
    "    --trait $trait \n",
    "    --bgenMinMAF $bgenMinMAF \n",
    "    --bgenMinINFO $bgenMinINFO\n",
    "    --maf_filter $maf_filter\n",
    "    --geno_filter $geno_filter\n",
    "    --hwe_filter $hwe_filter\n",
    "    --mind_filter $mind_filter\n",
    "    --minMAC $minMAC\n",
    "    --job_size $lmm_job_size\n",
    "    --ylim $ylim\n",
    "    --reverse_log_p $reverse_log_p\n",
    "    --numThreads $numThreads\n",
    "    --container_lmm $container_lmm\n",
    "    --container_marp $container_marp\n",
    "\"\"\"\n",
    "\n",
    "sos run ~/working/UKBB_GWAS_dev/admin/Get_Job_Script.ipynb csg\\\n",
    "    --template-file $tpl_file \\\n",
    "    --workflow-file $lmm_sos \\\n",
    "    --to-script $lmm_sbatch_regenie \\\n",
    "    --args \"$lmm_args\""
   ]
  },
  {
   "cell_type": "code",
   "execution_count": 76,
   "id": "975a7d13-26b0-4e05-a271-00eb6d6d5a63",
   "metadata": {
    "kernel": "Bash"
   },
   "outputs": [
    {
     "name": "stdout",
     "output_type": "stream",
     "text": [
      "INFO: Running \u001b[32mcsg\u001b[0m: Configuration for Columbia csg partition cluster\n",
      "INFO: \u001b[32mcsg\u001b[0m is \u001b[32mcompleted\u001b[0m.\n",
      "INFO: \u001b[32mcsg\u001b[0m output:   \u001b[32m/home/gl2776/project/guangyou/20220314_permutation/regenie/discovery/origin/f2247_hearing_difficulty/f2247_hearing_difficulty_discovery-regenie_2022-03-22.sbatch\u001b[0m\n",
      "INFO: Workflow csg (ID=w72f6685309788c62) is executed successfully with 1 completed step.\n"
     ]
    }
   ],
   "source": [
    "lmm_dir_regenie=~/project/guangyou/20220314_permutation/regenie/discovery/origin/f2247_hearing_difficulty\n",
    "lmm_sbatch_regenie=$lmm_dir_regenie/f2247_hearing_difficulty_discovery-regenie_$(date +\"%Y-%m-%d\").sbatch\n",
    "phenoFile=~/project/guangyou/20220314_permutation/files/phenotype_large_discovery\n",
    "covarFile=~/project/guangyou/20220314_permutation/files/phenotype_discovery_f2247_covar_origin\n",
    "phenoCol=f2247\n",
    "covarCol=sex\n",
    "qCovarCol=\"age PC1 PC2\"\n",
    "#Use the original bed files for the genotype array on regenie step1\n",
    "bfile=$UKBB_yale/pleiotropy_geneticfiles/UKB_originalgenotypefilesdownloaded083019/UKB_genotypedatadownloaded083019.bed\n",
    "genoFile=/mnt/mfs/statgen/guangyou/20220314_permutation/files/genome_discovery.bed\n",
    "lowmem_dir=$lmm_dir_regenie/scratch60\n",
    "\n",
    "lmm_args=\"\"\"regenie\n",
    "    --cwd $lmm_dir_regenie \n",
    "    --bfile $bfile \n",
    "    --genoFile $genoFile\n",
    "    --phenoFile $phenoFile \n",
    "    --covarFile $covarFile  \n",
    "    --formatFile $formatFile_regenie \n",
    "    --phenoCol $phenoCol\n",
    "    --covarCol $covarCol  \n",
    "    --qCovarCol $qCovarCol\n",
    "    --bsize $bsize\n",
    "    --lowmem_dir $lowmem_dir\n",
    "    --trait $trait \n",
    "    --bgenMinMAF $bgenMinMAF \n",
    "    --bgenMinINFO $bgenMinINFO\n",
    "    --maf_filter $maf_filter\n",
    "    --geno_filter $geno_filter\n",
    "    --hwe_filter $hwe_filter\n",
    "    --mind_filter $mind_filter\n",
    "    --minMAC $minMAC\n",
    "    --job_size $lmm_job_size\n",
    "    --ylim $ylim\n",
    "    --reverse_log_p $reverse_log_p\n",
    "    --numThreads $numThreads\n",
    "    --container_lmm $container_lmm\n",
    "    --container_marp $container_marp\n",
    "\"\"\"\n",
    "\n",
    "sos run ~/working/UKBB_GWAS_dev/admin/Get_Job_Script.ipynb csg\\\n",
    "    --template-file $tpl_file \\\n",
    "    --workflow-file $lmm_sos \\\n",
    "    --to-script $lmm_sbatch_regenie \\\n",
    "    --args \"$lmm_args\""
   ]
  },
  {
   "cell_type": "code",
   "execution_count": 77,
   "id": "f861fa95-5441-48e4-814b-e243dc2cf89c",
   "metadata": {
    "kernel": "Bash"
   },
   "outputs": [
    {
     "name": "stdout",
     "output_type": "stream",
     "text": [
      "INFO: Running \u001b[32mcsg\u001b[0m: Configuration for Columbia csg partition cluster\n",
      "INFO: \u001b[32mcsg\u001b[0m is \u001b[32mcompleted\u001b[0m.\n",
      "INFO: \u001b[32mcsg\u001b[0m output:   \u001b[32m/home/gl2776/project/guangyou/20220314_permutation/regenie/discovery/origin/f2257_Hearing_noise/f2257_Hearing_noise_discovery-regenie_2022-03-22.sbatch\u001b[0m\n",
      "INFO: Workflow csg (ID=wdb63f1eaeb21bf54) is executed successfully with 1 completed step.\n"
     ]
    }
   ],
   "source": [
    "lmm_dir_regenie=~/project/guangyou/20220314_permutation/regenie/discovery/origin/f2257_Hearing_noise\n",
    "lmm_sbatch_regenie=$lmm_dir_regenie/f2257_Hearing_noise_discovery-regenie_$(date +\"%Y-%m-%d\").sbatch\n",
    "phenoFile=~/project/guangyou/20220314_permutation/files/phenotype_large_discovery\n",
    "covarFile=~/project/guangyou/20220314_permutation/files/phenotype_discovery_f2257_covar_origin\n",
    "phenoCol=f2257\n",
    "covarCol=sex\n",
    "qCovarCol=\"age PC1 PC2\"\n",
    "#Use the original bed files for the genotype array on regenie step1\n",
    "bfile=$UKBB_yale/pleiotropy_geneticfiles/UKB_originalgenotypefilesdownloaded083019/UKB_genotypedatadownloaded083019.bed\n",
    "genoFile=/mnt/mfs/statgen/guangyou/20220314_permutation/files/genome_discovery.bed\n",
    "lowmem_dir=$lmm_dir_regenie/scratch60\n",
    "\n",
    "lmm_args=\"\"\"regenie\n",
    "    --cwd $lmm_dir_regenie \n",
    "    --bfile $bfile \n",
    "    --genoFile $genoFile\n",
    "    --phenoFile $phenoFile \n",
    "    --covarFile $covarFile  \n",
    "    --formatFile $formatFile_regenie \n",
    "    --phenoCol $phenoCol\n",
    "    --covarCol $covarCol  \n",
    "    --qCovarCol $qCovarCol\n",
    "    --bsize $bsize\n",
    "    --lowmem_dir $lowmem_dir\n",
    "    --trait $trait \n",
    "    --bgenMinMAF $bgenMinMAF \n",
    "    --bgenMinINFO $bgenMinINFO\n",
    "    --maf_filter $maf_filter\n",
    "    --geno_filter $geno_filter\n",
    "    --hwe_filter $hwe_filter\n",
    "    --mind_filter $mind_filter\n",
    "    --minMAC $minMAC\n",
    "    --job_size $lmm_job_size\n",
    "    --ylim $ylim\n",
    "    --reverse_log_p $reverse_log_p\n",
    "    --numThreads $numThreads\n",
    "    --container_lmm $container_lmm\n",
    "    --container_marp $container_marp\n",
    "\"\"\"\n",
    "\n",
    "sos run ~/working/UKBB_GWAS_dev/admin/Get_Job_Script.ipynb csg\\\n",
    "    --template-file $tpl_file \\\n",
    "    --workflow-file $lmm_sos \\\n",
    "    --to-script $lmm_sbatch_regenie \\\n",
    "    --args \"$lmm_args\""
   ]
  },
  {
   "cell_type": "code",
   "execution_count": 78,
   "id": "634ecfe0-8558-4c61-9730-431ff3509c5c",
   "metadata": {
    "kernel": "Bash"
   },
   "outputs": [
    {
     "name": "stdout",
     "output_type": "stream",
     "text": [
      "INFO: Running \u001b[32mcsg\u001b[0m: Configuration for Columbia csg partition cluster\n",
      "INFO: \u001b[32mcsg\u001b[0m is \u001b[32mcompleted\u001b[0m.\n",
      "INFO: \u001b[32mcsg\u001b[0m output:   \u001b[32m/home/gl2776/project/guangyou/20220314_permutation/regenie/discovery/origin/Combined_f2247_f2257/Combined_f2247_f2257_discovery-regenie_2022-03-22.sbatch\u001b[0m\n",
      "INFO: Workflow csg (ID=w8660b42ab59d8b91) is executed successfully with 1 completed step.\n"
     ]
    }
   ],
   "source": [
    "lmm_dir_regenie=~/project/guangyou/20220314_permutation/regenie/discovery/origin/Combined_f2247_f2257\n",
    "lmm_sbatch_regenie=$lmm_dir_regenie/Combined_f2247_f2257_discovery-regenie_$(date +\"%Y-%m-%d\").sbatch\n",
    "phenoFile=~/project/guangyou/20220314_permutation/files/phenotype_large_discovery\n",
    "covarFile=~/project/guangyou/20220314_permutation/files/phenotype_discovery_f2247_f2257_covar_origin\n",
    "phenoCol=f2247_f2257\n",
    "covarCol=sex\n",
    "qCovarCol=\"age PC1 PC2\"\n",
    "#Use the original bed files for the genotype array on regenie step1\n",
    "bfile=$UKBB_yale/pleiotropy_geneticfiles/UKB_originalgenotypefilesdownloaded083019/UKB_genotypedatadownloaded083019.bed\n",
    "genoFile=/mnt/mfs/statgen/guangyou/20220314_permutation/files/genome_discovery.bed\n",
    "lowmem_dir=$lmm_dir_regenie/scratch60\n",
    "\n",
    "lmm_args=\"\"\"regenie\n",
    "    --cwd $lmm_dir_regenie \n",
    "    --bfile $bfile \n",
    "    --genoFile $genoFile\n",
    "    --phenoFile $phenoFile  \n",
    "    --covarFile $covarFile \n",
    "    --formatFile $formatFile_regenie \n",
    "    --phenoCol $phenoCol\n",
    "    --covarCol $covarCol  \n",
    "    --qCovarCol $qCovarCol\n",
    "    --bsize $bsize\n",
    "    --lowmem_dir $lowmem_dir\n",
    "    --trait $trait \n",
    "    --bgenMinMAF $bgenMinMAF \n",
    "    --bgenMinINFO $bgenMinINFO\n",
    "    --maf_filter $maf_filter\n",
    "    --geno_filter $geno_filter\n",
    "    --hwe_filter $hwe_filter\n",
    "    --mind_filter $mind_filter\n",
    "    --minMAC $minMAC\n",
    "    --job_size $lmm_job_size\n",
    "    --ylim $ylim\n",
    "    --reverse_log_p $reverse_log_p\n",
    "    --numThreads $numThreads\n",
    "    --container_lmm $container_lmm\n",
    "    --container_marp $container_marp\n",
    "\"\"\"\n",
    "\n",
    "sos run ~/working/UKBB_GWAS_dev/admin/Get_Job_Script.ipynb csg\\\n",
    "    --template-file $tpl_file \\\n",
    "    --workflow-file $lmm_sos \\\n",
    "    --to-script $lmm_sbatch_regenie \\\n",
    "    --args \"$lmm_args\""
   ]
  },
  {
   "cell_type": "code",
   "execution_count": 95,
   "id": "c58357fa-44db-4466-aa29-6d6c37c74006",
   "metadata": {
    "kernel": "Bash"
   },
   "outputs": [
    {
     "name": "stdout",
     "output_type": "stream",
     "text": [
      "INFO: Running \u001b[32mcsg\u001b[0m: Configuration for Columbia csg partition cluster\n",
      "INFO: \u001b[32mcsg\u001b[0m is \u001b[32mcompleted\u001b[0m.\n",
      "INFO: \u001b[32mcsg\u001b[0m output:   \u001b[32m/home/gl2776/project/guangyou/20220314_permutation/regenie/mega/origin/f3393_hearing_aid/f3393_hearing_aid_mega-regenie_2022-03-22.sbatch\u001b[0m\n",
      "INFO: Workflow csg (ID=wcb4f6b98d045e91f) is executed successfully with 1 completed step.\n"
     ]
    }
   ],
   "source": [
    "## mega\n",
    "lmm_sos=$USER_PATH/bioworkflows/GWAS/LMM.ipynb\n",
    "lmm_dir_regenie=~/project/guangyou/20220314_permutation/regenie/mega/origin/f3393_hearing_aid\n",
    "lmm_sbatch_regenie=$lmm_dir_regenie/f3393_hearing_aid_mega-regenie_$(date +\"%Y-%m-%d\").sbatch\n",
    "phenoFile=~/project/guangyou/20220314_permutation/files/phenotype_large_mega\n",
    "covarFile=~/project/guangyou/20220314_permutation/files/phenotype_mega_f3393_covar_origin\n",
    "phenoCol=f3393\n",
    "covarCol=sex\n",
    "qCovarCol=\"age PC1 PC2\"\n",
    "#Use the original bed files for the genotype array on regenie step1\n",
    "bfile=~/UKBiobank/genotype_files_processed/090221_sample_variant_qc_final_callrate90/cache/UKB_genotypedatadownloaded083019.090221_sample_variant_qc_final_callrate90.filtered.extracted.bed\n",
    "genoFile=`echo /mnt/mfs/statgen/guangyou/20220314_permutation/files/genome_mega_chr{1,5,6,7,22}.bgen`\n",
    "sampleFile=~/UKBiobank_Yale_transfer/ukb39554_imputeddataset/ukb32285_imputedindiv.sample\n",
    "lowmem_dir=$lmm_dir_regenie/scratch60\n",
    "\n",
    "lmm_args=\"\"\"regenie\n",
    "    --cwd $lmm_dir_regenie \n",
    "    --bfile $bfile \n",
    "    --genoFile $genoFile\n",
    "    --sampleFile $sampleFile\n",
    "    --phenoFile $phenoFile \n",
    "    --covarFile $covarFile \n",
    "    --formatFile $formatFile_regenie \n",
    "    --phenoCol $phenoCol\n",
    "    --covarCol $covarCol  \n",
    "    --qCovarCol $qCovarCol\n",
    "    --bsize $bsize\n",
    "    --lowmem_dir $lowmem_dir\n",
    "    --trait $trait \n",
    "    --bgenMinMAF $bgenMinMAF \n",
    "    --bgenMinINFO $bgenMinINFO\n",
    "    --maf_filter $maf_filter\n",
    "    --geno_filter $geno_filter\n",
    "    --hwe_filter $hwe_filter\n",
    "    --mind_filter $mind_filter\n",
    "    --minMAC $minMAC\n",
    "    --job_size $lmm_job_size\n",
    "    --ylim $ylim\n",
    "    --reverse_log_p $reverse_log_p\n",
    "    --numThreads $numThreads\n",
    "    --container_lmm $container_lmm\n",
    "    --container_marp $container_marp\n",
    "\"\"\"\n",
    "\n",
    "sos run ~/working/UKBB_GWAS_dev/admin/Get_Job_Script.ipynb csg\\\n",
    "    --template-file $tpl_file \\\n",
    "    --workflow-file $lmm_sos \\\n",
    "    --to-script $lmm_sbatch_regenie \\\n",
    "    --args \"$lmm_args\""
   ]
  },
  {
   "cell_type": "code",
   "execution_count": 96,
   "id": "620c1b68-b34b-4896-a15c-079ff723763f",
   "metadata": {
    "kernel": "Bash"
   },
   "outputs": [
    {
     "name": "stdout",
     "output_type": "stream",
     "text": [
      "INFO: Running \u001b[32mcsg\u001b[0m: Configuration for Columbia csg partition cluster\n",
      "INFO: \u001b[32mcsg\u001b[0m is \u001b[32mcompleted\u001b[0m.\n",
      "INFO: \u001b[32mcsg\u001b[0m output:   \u001b[32m/home/gl2776/project/guangyou/20220314_permutation/regenie/mega/origin/f2247_hearing_difficulty/f2247_hearing_difficulty_mega-regenie_2022-03-22.sbatch\u001b[0m\n",
      "INFO: Workflow csg (ID=w6a5409cf653da709) is executed successfully with 1 completed step.\n"
     ]
    }
   ],
   "source": [
    "lmm_dir_regenie=~/project/guangyou/20220314_permutation/regenie/mega/origin/f2247_hearing_difficulty\n",
    "lmm_sbatch_regenie=$lmm_dir_regenie/f2247_hearing_difficulty_mega-regenie_$(date +\"%Y-%m-%d\").sbatch\n",
    "phenoFile=~/project/guangyou/20220314_permutation/files/phenotype_large_mega\n",
    "covarFile=~/project/guangyou/20220314_permutation/files/phenotype_mega_f2247_covar_origin\n",
    "phenoCol=f2247\n",
    "covarCol=sex\n",
    "qCovarCol=\"age PC1 PC2\"\n",
    "#Use the original bed files for the genotype array on regenie step1\n",
    "bfile=~/UKBiobank/genotype_files_processed/090221_sample_variant_qc_final_callrate90/cache/UKB_genotypedatadownloaded083019.090221_sample_variant_qc_final_callrate90.filtered.extracted.bed\n",
    "genoFile=`echo /mnt/mfs/statgen/guangyou/20220314_permutation/files/genome_mega_chr{1,5,6,7,22}.bgen`\n",
    "sampleFile=~/UKBiobank_Yale_transfer/ukb39554_imputeddataset/ukb32285_imputedindiv.sample\n",
    "lowmem_dir=$lmm_dir_regenie/scratch60\n",
    "\n",
    "lmm_args=\"\"\"regenie\n",
    "    --cwd $lmm_dir_regenie \n",
    "    --bfile $bfile \n",
    "    --genoFile $genoFile\n",
    "    --sampleFile $sampleFile\n",
    "    --phenoFile $phenoFile \n",
    "    --covarFile $covarFile \n",
    "    --formatFile $formatFile_regenie \n",
    "    --phenoCol $phenoCol\n",
    "    --covarCol $covarCol  \n",
    "    --qCovarCol $qCovarCol\n",
    "    --bsize $bsize\n",
    "    --lowmem_dir $lowmem_dir\n",
    "    --trait $trait \n",
    "    --bgenMinMAF $bgenMinMAF \n",
    "    --bgenMinINFO $bgenMinINFO\n",
    "    --maf_filter $maf_filter\n",
    "    --geno_filter $geno_filter\n",
    "    --hwe_filter $hwe_filter\n",
    "    --mind_filter $mind_filter\n",
    "    --minMAC $minMAC\n",
    "    --job_size $lmm_job_size\n",
    "    --ylim $ylim\n",
    "    --reverse_log_p $reverse_log_p\n",
    "    --numThreads $numThreads\n",
    "    --container_lmm $container_lmm\n",
    "    --container_marp $container_marp\n",
    "\"\"\"\n",
    "\n",
    "sos run ~/working/UKBB_GWAS_dev/admin/Get_Job_Script.ipynb csg\\\n",
    "    --template-file $tpl_file \\\n",
    "    --workflow-file $lmm_sos \\\n",
    "    --to-script $lmm_sbatch_regenie \\\n",
    "    --args \"$lmm_args\""
   ]
  },
  {
   "cell_type": "code",
   "execution_count": 97,
   "id": "b813272e-9888-4621-bb01-081ffbf81ae9",
   "metadata": {
    "kernel": "Bash"
   },
   "outputs": [
    {
     "name": "stdout",
     "output_type": "stream",
     "text": [
      "INFO: Running \u001b[32mcsg\u001b[0m: Configuration for Columbia csg partition cluster\n",
      "INFO: \u001b[32mcsg\u001b[0m is \u001b[32mcompleted\u001b[0m.\n",
      "INFO: \u001b[32mcsg\u001b[0m output:   \u001b[32m/home/gl2776/project/guangyou/20220314_permutation/regenie/mega/origin/f2257_Hearing_noise/f2257_Hearing_noise_mega-regenie_2022-03-22.sbatch\u001b[0m\n",
      "INFO: Workflow csg (ID=w71d0d03253aff67e) is executed successfully with 1 completed step.\n"
     ]
    }
   ],
   "source": [
    "lmm_dir_regenie=~/project/guangyou/20220314_permutation/regenie/mega/origin/f2257_Hearing_noise\n",
    "lmm_sbatch_regenie=$lmm_dir_regenie/f2257_Hearing_noise_mega-regenie_$(date +\"%Y-%m-%d\").sbatch\n",
    "phenoFile=~/project/guangyou/20220314_permutation/files/phenotype_large_mega\n",
    "covarFile=~/project/guangyou/20220314_permutation/files/phenotype_mega_f2257_covar_origin\n",
    "phenoCol=f2257\n",
    "covarCol=sex\n",
    "qCovarCol=\"age PC1 PC2\"\n",
    "#Use the original bed files for the genotype array on regenie step1\n",
    "bfile=~/UKBiobank/genotype_files_processed/090221_sample_variant_qc_final_callrate90/cache/UKB_genotypedatadownloaded083019.090221_sample_variant_qc_final_callrate90.filtered.extracted.bed\n",
    "genoFile=`echo /mnt/mfs/statgen/guangyou/20220314_permutation/files/genome_mega_chr{1,5,6,7,22}.bgen`\n",
    "sampleFile=~/UKBiobank_Yale_transfer/ukb39554_imputeddataset/ukb32285_imputedindiv.sample\n",
    "lowmem_dir=$lmm_dir_regenie/scratch60\n",
    "\n",
    "lmm_args=\"\"\"regenie\n",
    "    --cwd $lmm_dir_regenie \n",
    "    --bfile $bfile \n",
    "    --genoFile $genoFile\n",
    "    --sampleFile $sampleFile\n",
    "    --phenoFile $phenoFile \n",
    "    --covarFile $covarFile \n",
    "    --formatFile $formatFile_regenie \n",
    "    --phenoCol $phenoCol\n",
    "    --covarCol $covarCol  \n",
    "    --qCovarCol $qCovarCol\n",
    "    --bsize $bsize\n",
    "    --lowmem_dir $lowmem_dir\n",
    "    --trait $trait \n",
    "    --bgenMinMAF $bgenMinMAF \n",
    "    --bgenMinINFO $bgenMinINFO\n",
    "    --maf_filter $maf_filter\n",
    "    --geno_filter $geno_filter\n",
    "    --hwe_filter $hwe_filter\n",
    "    --mind_filter $mind_filter\n",
    "    --minMAC $minMAC\n",
    "    --job_size $lmm_job_size\n",
    "    --ylim $ylim\n",
    "    --reverse_log_p $reverse_log_p\n",
    "    --numThreads $numThreads\n",
    "    --container_lmm $container_lmm\n",
    "    --container_marp $container_marp\n",
    "\"\"\"\n",
    "\n",
    "sos run ~/working/UKBB_GWAS_dev/admin/Get_Job_Script.ipynb csg\\\n",
    "    --template-file $tpl_file \\\n",
    "    --workflow-file $lmm_sos \\\n",
    "    --to-script $lmm_sbatch_regenie \\\n",
    "    --args \"$lmm_args\""
   ]
  },
  {
   "cell_type": "code",
   "execution_count": 98,
   "id": "4fa76ddb-ba20-4845-a552-09f7bd4ad29f",
   "metadata": {
    "kernel": "Bash"
   },
   "outputs": [
    {
     "name": "stdout",
     "output_type": "stream",
     "text": [
      "INFO: Running \u001b[32mcsg\u001b[0m: Configuration for Columbia csg partition cluster\n",
      "INFO: \u001b[32mcsg\u001b[0m is \u001b[32mcompleted\u001b[0m.\n",
      "INFO: \u001b[32mcsg\u001b[0m output:   \u001b[32m/home/gl2776/project/guangyou/20220314_permutation/regenie/mega/origin/Combined_f2247_f2257/Combined_f2247_f2257_mega-regenie_2022-03-22.sbatch\u001b[0m\n",
      "INFO: Workflow csg (ID=wa1f28cfd2b744157) is executed successfully with 1 completed step.\n"
     ]
    }
   ],
   "source": [
    "lmm_dir_regenie=~/project/guangyou/20220314_permutation/regenie/mega/origin/Combined_f2247_f2257\n",
    "lmm_sbatch_regenie=$lmm_dir_regenie/Combined_f2247_f2257_mega-regenie_$(date +\"%Y-%m-%d\").sbatch\n",
    "phenoFile=~/project/guangyou/20220314_permutation/files/phenotype_large_mega\n",
    "covarFile=~/project/guangyou/20220314_permutation/files/phenotype_mega_f2247_f2257_covar_origin\n",
    "phenoCol=f2247_f2257\n",
    "covarCol=sex\n",
    "qCovarCol=\"age PC1 PC2\"\n",
    "#Use the original bed files for the genotype array on regenie step1\n",
    "bfile=~/UKBiobank/genotype_files_processed/090221_sample_variant_qc_final_callrate90/cache/UKB_genotypedatadownloaded083019.090221_sample_variant_qc_final_callrate90.filtered.extracted.bed\n",
    "genoFile=`echo /mnt/mfs/statgen/guangyou/20220314_permutation/files/genome_mega_chr{1,5,6,7,22}.bgen`\n",
    "sampleFile=~/UKBiobank_Yale_transfer/ukb39554_imputeddataset/ukb32285_imputedindiv.sample\n",
    "lowmem_dir=$lmm_dir_regenie/scratch60\n",
    "\n",
    "lmm_args=\"\"\"regenie\n",
    "    --cwd $lmm_dir_regenie \n",
    "    --bfile $bfile \n",
    "    --genoFile $genoFile\n",
    "    --sampleFile $sampleFile\n",
    "    --phenoFile $phenoFile \n",
    "    --covarFile $covarFile \n",
    "    --formatFile $formatFile_regenie \n",
    "    --phenoCol $phenoCol\n",
    "    --covarCol $covarCol  \n",
    "    --qCovarCol $qCovarCol\n",
    "    --bsize $bsize\n",
    "    --lowmem_dir $lowmem_dir\n",
    "    --trait $trait \n",
    "    --bgenMinMAF $bgenMinMAF \n",
    "    --bgenMinINFO $bgenMinINFO\n",
    "    --maf_filter $maf_filter\n",
    "    --geno_filter $geno_filter\n",
    "    --hwe_filter $hwe_filter\n",
    "    --mind_filter $mind_filter\n",
    "    --minMAC $minMAC\n",
    "    --job_size $lmm_job_size\n",
    "    --ylim $ylim\n",
    "    --reverse_log_p $reverse_log_p\n",
    "    --numThreads $numThreads\n",
    "    --container_lmm $container_lmm\n",
    "    --container_marp $container_marp\n",
    "\"\"\"\n",
    "\n",
    "sos run ~/working/UKBB_GWAS_dev/admin/Get_Job_Script.ipynb csg\\\n",
    "    --template-file $tpl_file \\\n",
    "    --workflow-file $lmm_sos \\\n",
    "    --to-script $lmm_sbatch_regenie \\\n",
    "    --args \"$lmm_args\""
   ]
  },
  {
   "cell_type": "code",
   "execution_count": 83,
   "id": "1130073a-a34b-4e65-a706-fa8871180cea",
   "metadata": {
    "kernel": "Bash"
   },
   "outputs": [],
   "source": [
    "cp /home/gl2776/project/guangyou/20220314_permutation/files/phenotype_discovery_f3393_covar_origin /home/gl2776/project/guangyou/20220314_permutation/regenie/discovery/origin/f3393_hearing_aid/phenotype_discovery_f3393_covar_origin.regenie_covar\n",
    "cp /home/gl2776/project/guangyou/20220314_permutation/files/phenotype_discovery_f2247_covar_origin /home/gl2776/project/guangyou/20220314_permutation/regenie/discovery/origin/f2247_hearing_difficulty/phenotype_discovery_f2247_covar_origin.regenie_covar\n",
    "cp /home/gl2776/project/guangyou/20220314_permutation/files/phenotype_discovery_f2257_covar_origin /home/gl2776/project/guangyou/20220314_permutation/regenie/discovery/origin/f2257_Hearing_noise/phenotype_discovery_f2257_covar_origin.regenie_covar\n",
    "cp /home/gl2776/project/guangyou/20220314_permutation/files/phenotype_discovery_f2247_f2257_covar_origin /home/gl2776/project/guangyou/20220314_permutation/regenie/discovery/origin/Combined_f2247_f2257/phenotype_discovery_f2247_f2257_covar_origin.regenie_covar"
   ]
  },
  {
   "cell_type": "code",
   "execution_count": 84,
   "id": "21b439a2-8c57-4bda-9638-2be58d585dea",
   "metadata": {
    "kernel": "Bash"
   },
   "outputs": [],
   "source": [
    "cp /home/gl2776/project/guangyou/20220314_permutation/files/phenotype_mega_f3393_covar_origin /home/gl2776/project/guangyou/20220314_permutation/regenie/mega/origin/f3393_hearing_aid/phenotype_mega_f3393_covar_origin.regenie_covar\n",
    "cp /home/gl2776/project/guangyou/20220314_permutation/files/phenotype_mega_f2247_covar_origin /home/gl2776/project/guangyou/20220314_permutation/regenie/mega/origin/f2247_hearing_difficulty/phenotype_mega_f2247_covar_origin.regenie_covar\n",
    "cp /home/gl2776/project/guangyou/20220314_permutation/files/phenotype_mega_f2257_covar_origin /home/gl2776/project/guangyou/20220314_permutation/regenie/mega/origin/f2257_Hearing_noise/phenotype_mega_f2257_covar_origin.regenie_covar\n",
    "cp /home/gl2776/project/guangyou/20220314_permutation/files/phenotype_mega_f2247_f2257_covar_origin /home/gl2776/project/guangyou/20220314_permutation/regenie/mega/origin/Combined_f2247_f2257/phenotype_mega_f2247_f2257_covar_origin.regenie_covar"
   ]
  },
  {
   "cell_type": "code",
   "execution_count": 90,
   "id": "09289ea1-e794-4c7e-bbb3-3adee98da030",
   "metadata": {
    "kernel": "Bash"
   },
   "outputs": [],
   "source": [
    "cp -r ~/UKBiobank/results/REGENIE_results/results_imputed_data/2021_10_13_f3393_300K/cache/UKB_genotypedatadownloaded083019.090221_sample_variant_qc_final_callrate90.* \\\n",
    "~/project/guangyou/20220314_permutation/regenie/mega/origin/f3393_hearing_aid/cache\n",
    "cp -r ~/UKBiobank/results/REGENIE_results/results_imputed_data/2021_10_13_f2247_300K/cache/UKB_genotypedatadownloaded083019.090221_sample_variant_qc_final_callrate90.* \\\n",
    "~/project/guangyou/20220314_permutation/regenie/mega/origin/f2247_hearing_difficulty/cache\n",
    "cp -r ~/UKBiobank/results/REGENIE_results/results_imputed_data/2021_10_13_f2257_300K/cache/UKB_genotypedatadownloaded083019.090221_sample_variant_qc_final_callrate90.* \\\n",
    "~/project/guangyou/20220314_permutation/regenie/mega/origin/f2257_Hearing_noise/cache\n",
    "cp -r ~/UKBiobank/results/REGENIE_results/results_imputed_data/2021_10_13_f2247_f2257_300K/cache/UKB_genotypedatadownloaded083019.090221_sample_variant_qc_final_callrate90.* \\\n",
    "~/project/guangyou/20220314_permutation/regenie/mega/origin/Combined_f2247_f2257/cache"
   ]
  },
  {
   "cell_type": "markdown",
   "id": "8aa0f13e-45c4-4bb3-afed-f37849f520a3",
   "metadata": {
    "kernel": "Bash"
   },
   "source": [
    "## Regenie_2 with permuted phenotypes"
   ]
  },
  {
   "cell_type": "markdown",
   "id": "8bf03108-6717-4969-b1b1-f02da64e2cf5",
   "metadata": {
    "kernel": "Bash"
   },
   "source": [
    "## discovery each trait"
   ]
  },
  {
   "cell_type": "code",
   "execution_count": null,
   "id": "557d36ad-fc44-4929-8cb4-83a811730f12",
   "metadata": {
    "kernel": "Bash"
   },
   "outputs": [],
   "source": [
    "cp -r ~/UKBiobank/results/REGENIE_results/results_exome_data/091421_f3393_hearing_aid_50K/cache/UKB_genotypedatadownloaded083019.090221_sample_variant_qc_final_callrate90.* \\\n",
    "~/project/guangyou/20220314_permutation/regenie/discovery/permutation/f3393_hearing_aid/cache\n",
    "cp ~/UKBiobank/results/REGENIE_results/results_exome_data/091421_f3393_hearing_aid_50K/090321_UKBB_Hearing_aid_f3393_expandedwhite_24189ind_50K_f3393.regenie_1.loco \\\n",
    "~/project/guangyou/20220314_permutation/regenie/discovery/permutation/f3393_hearing_aid/\n",
    "cp ~/UKBiobank/results/REGENIE_results/results_exome_data/091421_f3393_hearing_aid_50K/090321_UKBB_Hearing_aid_f3393_expandedwhite_24189ind_50K_f3393.regenie_pred.list \\\n",
    "~/project/guangyou/20220314_permutation/regenie/discovery/permutation/f3393_hearing_aid/"
   ]
  },
  {
   "cell_type": "code",
   "execution_count": 20,
   "id": "6f715336-2cdf-4158-a16a-3f416dc9c482",
   "metadata": {
    "kernel": "Bash"
   },
   "outputs": [],
   "source": [
    "cp -r ~/UKBiobank/results/REGENIE_results/results_exome_data/091421_f2247_hearing_difficulty_50K/cache/UKB_genotypedatadownloaded083019.090221_sample_variant_qc_final_callrate90.* \\\n",
    "~/project/guangyou/20220314_permutation/regenie/discovery/permutation/f2247_hearing_difficulty/cache\n",
    "cp -r ~/UKBiobank/results/REGENIE_results/results_exome_data/091421_f2247_hearing_difficulty_50K/090321_UKBB_Hearing_difficulty_f2247_expandedwhite_34596ind_50K_f2247.regenie_1.loco \\\n",
    "~/project/guangyou/20220314_permutation/regenie/discovery/permutation/f2247_hearing_difficulty/\n",
    "cp -r ~/UKBiobank/results/REGENIE_results/results_exome_data/091421_f2247_hearing_difficulty_50K/090321_UKBB_Hearing_difficulty_f2247_expandedwhite_34596ind_50K_f2247.regenie_pred.list \\\n",
    "~/project/guangyou/20220314_permutation/regenie/discovery/permutation/f2247_hearing_difficulty/"
   ]
  },
  {
   "cell_type": "code",
   "execution_count": 21,
   "id": "85e54784-0d59-4a6f-a111-2d61483b0aaf",
   "metadata": {
    "kernel": "Bash"
   },
   "outputs": [],
   "source": [
    "cp -r ~/UKBiobank/results/REGENIE_results/results_exome_data/091421_f2257_hearing_noise_50K/cache/UKB_genotypedatadownloaded083019.* \\\n",
    "~/project/guangyou/20220314_permutation/regenie/discovery/permutation/f2257_Hearing_noise/cache\n",
    "cp -r ~/UKBiobank/results/REGENIE_results/results_exome_data/091421_f2257_hearing_noise_50K/090321_UKBB_Hearing_noise_f2257_expandedwhite_38723ind_50K_f2257.regenie_1.loco \\\n",
    "~/project/guangyou/20220314_permutation/regenie/discovery/permutation/f2257_Hearing_noise/\n",
    "cp -r ~/UKBiobank/results/REGENIE_results/results_exome_data/091421_f2257_hearing_noise_50K/090321_UKBB_Hearing_noise_f2257_expandedwhite_38723ind_50K_f2257.regenie_pred.list \\\n",
    "~/project/guangyou/20220314_permutation/regenie/discovery/permutation/f2257_Hearing_noise/"
   ]
  },
  {
   "cell_type": "code",
   "execution_count": 39,
   "id": "eadc7832-1e5a-4cd8-89f1-d67057010731",
   "metadata": {
    "kernel": "Bash"
   },
   "outputs": [],
   "source": [
    "cp -r ~/UKBiobank/results/REGENIE_results/results_exome_data/091421_combined_50K/cache/UKB_genotypedatadownloaded083019.* \\\n",
    "~/project/guangyou/20220314_permutation/regenie/discovery/permutation/Combined_f2247_f2257/cache/\n",
    "cp -r ~/UKBiobank/results/REGENIE_results/results_exome_data/091421_combined_50K/090321_UKBB_Combined_f2247_f2257_expandedwhite_32878ind_50K_f2247_f2257.regenie_1.loco \\\n",
    "~/project/guangyou/20220314_permutation/regenie/discovery/permutation/Combined_f2247_f2257/\n",
    "cp -r ~/UKBiobank/results/REGENIE_results/results_exome_data/091421_combined_50K/090321_UKBB_Combined_f2247_f2257_expandedwhite_32878ind_50K_f2247_f2257.regenie_pred.list \\\n",
    "~/project/guangyou/20220314_permutation/regenie/discovery/permutation/Combined_f2247_f2257/"
   ]
  },
  {
   "cell_type": "code",
   "execution_count": 40,
   "id": "fb892815-513d-4db1-aa00-61ad4a7af9dd",
   "metadata": {
    "kernel": "Bash"
   },
   "outputs": [],
   "source": [
    "cp -r ~/project/guangyou/20220314_permutation/regenie/discovery/permutation/* ~/project/guangyou/20220314_permutation/regenie/discovery/permutation_alltraits"
   ]
  },
  {
   "cell_type": "code",
   "execution_count": 54,
   "id": "a8e848df-c13f-4ee5-93be-9966136f4a33",
   "metadata": {
    "kernel": "Bash"
   },
   "outputs": [
    {
     "name": "stdout",
     "output_type": "stream",
     "text": [
      "INFO: Running \u001b[32mcsg\u001b[0m: Configuration for Columbia csg partition cluster\n",
      "INFO: \u001b[32mcsg\u001b[0m is \u001b[32mcompleted\u001b[0m.\n",
      "INFO: \u001b[32mcsg\u001b[0m output:   \u001b[32m/home/gl2776/project/guangyou/20220314_permutation/regenie/discovery/permutation/f3393_hearing_aid/f3393_hearing_aid_permutation-regenie_2022-03-22.sbatch\u001b[0m\n",
      "INFO: Workflow csg (ID=wbf4aca4656e6ffc9) is executed successfully with 1 completed step.\n",
      "INFO: Running \u001b[32mcsg\u001b[0m: Configuration for Columbia csg partition cluster\n",
      "INFO: \u001b[32mcsg\u001b[0m is \u001b[32mcompleted\u001b[0m.\n",
      "INFO: \u001b[32mcsg\u001b[0m output:   \u001b[32m/home/gl2776/project/guangyou/20220314_permutation/regenie/discovery/permutation/f2247_hearing_difficulty/f2247_hearing_difficulty_permutation-regenie_2022-03-22.sbatch\u001b[0m\n",
      "INFO: Workflow csg (ID=we379f0e11d8b52c0) is executed successfully with 1 completed step.\n",
      "INFO: Running \u001b[32mcsg\u001b[0m: Configuration for Columbia csg partition cluster\n",
      "INFO: \u001b[32mcsg\u001b[0m is \u001b[32mcompleted\u001b[0m.\n",
      "INFO: \u001b[32mcsg\u001b[0m output:   \u001b[32m/home/gl2776/project/guangyou/20220314_permutation/regenie/discovery/permutation/f2257_Hearing_noise/f2257_Hearing_noise_permutation-regenie_2022-03-22.sbatch\u001b[0m\n",
      "INFO: Workflow csg (ID=w27dbfa5d0c323daf) is executed successfully with 1 completed step.\n",
      "INFO: Running \u001b[32mcsg\u001b[0m: Configuration for Columbia csg partition cluster\n",
      "INFO: \u001b[32mcsg\u001b[0m is \u001b[32mcompleted\u001b[0m.\n",
      "INFO: \u001b[32mcsg\u001b[0m output:   \u001b[32m/home/gl2776/project/guangyou/20220314_permutation/regenie/discovery/permutation/Combined_f2247_f2257/Combined_f2247_f2257_permutation-regenie_2022-03-22.sbatch\u001b[0m\n",
      "INFO: Workflow csg (ID=w4c2f271599c09f73) is executed successfully with 1 completed step.\n"
     ]
    }
   ],
   "source": [
    "## f3393\n",
    "lmm_dir_regenie=~/project/guangyou/20220314_permutation/regenie/discovery/permutation/f3393_hearing_aid\n",
    "lmm_sbatch_regenie=$lmm_dir_regenie/f3393_hearing_aid_permutation-regenie_$(date +\"%Y-%m-%d\").sbatch\n",
    "phenoFile=`echo ~/project/guangyou/20220314_permutation/files/permutation/UKB_f3393_permutation.discovery.eachtrait.{1..200}.regenie_phenotype`\n",
    "phenoCol=f3393\n",
    "covarCol=sex\n",
    "qCovarCol=\"age PC1 PC2\"\n",
    "#Use the original bed files for the genotype array on regenie step1\n",
    "bfile=$UKBB_yale/pleiotropy_geneticfiles/UKB_originalgenotypefilesdownloaded083019/UKB_genotypedatadownloaded083019.bed\n",
    "genoFile=/mnt/mfs/statgen/guangyou/20220314_permutation/files/genome_discovery.bed\n",
    "lmm_sos=~/working/Ghana/Reg.ipynb\n",
    "\n",
    "lmm_args=\"\"\"asso\n",
    "    --cwd $lmm_dir_regenie \n",
    "    --bfile $bfile \n",
    "    --genoFile $genoFile\n",
    "    --phenoFile $phenoFile \n",
    "    --formatFile $formatFile_regenie \n",
    "    --phenoCol $phenoCol\n",
    "    --covarCol $covarCol  \n",
    "    --qCovarCol $qCovarCol\n",
    "    --bsize $bsize\n",
    "    --lowmem_dir $lowmem_dir\n",
    "    --trait $trait \n",
    "    --bgenMinMAF $bgenMinMAF \n",
    "    --bgenMinINFO $bgenMinINFO\n",
    "    --minMAC $minMAC\n",
    "    --job_size $lmm_job_size\n",
    "    --numThreads $numThreads\n",
    "    --container_lmm $container_lmm\n",
    "    --container_marp $container_marp\n",
    "\"\"\"\n",
    "\n",
    "sos run ~/working/UKBB_GWAS_dev/admin/Get_Job_Script.ipynb csg\\\n",
    "    --template-file $tpl_file \\\n",
    "    --workflow-file $lmm_sos \\\n",
    "    --to-script $lmm_sbatch_regenie \\\n",
    "    --args \"$lmm_args\"\n",
    "\n",
    "## f2247\n",
    "lmm_dir_regenie=~/project/guangyou/20220314_permutation/regenie/discovery/permutation/f2247_hearing_difficulty\n",
    "lmm_sbatch_regenie=$lmm_dir_regenie/f2247_hearing_difficulty_permutation-regenie_$(date +\"%Y-%m-%d\").sbatch\n",
    "phenoFile=`echo ~/project/guangyou/20220314_permutation/files/permutation/UKB_f2247_permutation.discovery.eachtrait.{1..200}.regenie_phenotype`\n",
    "phenoCol=f2247\n",
    "covarCol=sex\n",
    "qCovarCol=\"age PC1 PC2\"\n",
    "#Use the original bed files for the genotype array on regenie step1\n",
    "bfile=$UKBB_yale/pleiotropy_geneticfiles/UKB_originalgenotypefilesdownloaded083019/UKB_genotypedatadownloaded083019.bed\n",
    "genoFile=/mnt/mfs/statgen/guangyou/20220314_permutation/files/genome_discovery.bed\n",
    "lmm_sos=~/working/Ghana/Reg.ipynb\n",
    "\n",
    "lmm_args=\"\"\"asso\n",
    "    --cwd $lmm_dir_regenie \n",
    "    --bfile $bfile \n",
    "    --genoFile $genoFile\n",
    "    --phenoFile $phenoFile \n",
    "    --formatFile $formatFile_regenie \n",
    "    --phenoCol $phenoCol\n",
    "    --covarCol $covarCol  \n",
    "    --qCovarCol $qCovarCol\n",
    "    --bsize $bsize\n",
    "    --lowmem_dir $lowmem_dir\n",
    "    --trait $trait \n",
    "    --bgenMinMAF $bgenMinMAF \n",
    "    --bgenMinINFO $bgenMinINFO\n",
    "    --minMAC $minMAC\n",
    "    --job_size $lmm_job_size\n",
    "    --numThreads $numThreads\n",
    "    --container_lmm $container_lmm\n",
    "    --container_marp $container_marp\n",
    "\"\"\"\n",
    "\n",
    "sos run ~/working/UKBB_GWAS_dev/admin/Get_Job_Script.ipynb csg\\\n",
    "    --template-file $tpl_file \\\n",
    "    --workflow-file $lmm_sos \\\n",
    "    --to-script $lmm_sbatch_regenie \\\n",
    "    --args \"$lmm_args\"\n",
    "\n",
    "## f2257\n",
    "lmm_dir_regenie=~/project/guangyou/20220314_permutation/regenie/discovery/permutation/f2257_Hearing_noise\n",
    "lmm_sbatch_regenie=$lmm_dir_regenie/f2257_Hearing_noise_permutation-regenie_$(date +\"%Y-%m-%d\").sbatch\n",
    "phenoFile=`echo ~/project/guangyou/20220314_permutation/files/permutation/UKB_f2257_permutation.discovery.eachtrait.{1..200}.regenie_phenotype`\n",
    "phenoCol=f2257\n",
    "covarCol=sex\n",
    "qCovarCol=\"age PC1 PC2\"\n",
    "#Use the original bed files for the genotype array on regenie step1\n",
    "bfile=$UKBB_yale/pleiotropy_geneticfiles/UKB_originalgenotypefilesdownloaded083019/UKB_genotypedatadownloaded083019.bed\n",
    "genoFile=/mnt/mfs/statgen/guangyou/20220314_permutation/files/genome_discovery.bed\n",
    "lmm_sos=~/working/Ghana/Reg.ipynb\n",
    "\n",
    "lmm_args=\"\"\"asso\n",
    "    --cwd $lmm_dir_regenie \n",
    "    --bfile $bfile \n",
    "    --genoFile $genoFile\n",
    "    --phenoFile $phenoFile \n",
    "    --formatFile $formatFile_regenie \n",
    "    --phenoCol $phenoCol\n",
    "    --covarCol $covarCol  \n",
    "    --qCovarCol $qCovarCol\n",
    "    --bsize $bsize\n",
    "    --lowmem_dir $lowmem_dir\n",
    "    --trait $trait \n",
    "    --bgenMinMAF $bgenMinMAF \n",
    "    --bgenMinINFO $bgenMinINFO\n",
    "    --minMAC $minMAC\n",
    "    --job_size $lmm_job_size\n",
    "    --numThreads $numThreads\n",
    "    --container_lmm $container_lmm\n",
    "    --container_marp $container_marp\n",
    "\"\"\"\n",
    "\n",
    "sos run ~/working/UKBB_GWAS_dev/admin/Get_Job_Script.ipynb csg\\\n",
    "    --template-file $tpl_file \\\n",
    "    --workflow-file $lmm_sos \\\n",
    "    --to-script $lmm_sbatch_regenie \\\n",
    "    --args \"$lmm_args\"\n",
    "\n",
    "## f2247_f2257\n",
    "lmm_dir_regenie=~/project/guangyou/20220314_permutation/regenie/discovery/permutation/Combined_f2247_f2257\n",
    "lmm_sbatch_regenie=$lmm_dir_regenie/Combined_f2247_f2257_permutation-regenie_$(date +\"%Y-%m-%d\").sbatch\n",
    "phenoFile=`echo ~/project/guangyou/20220314_permutation/files/permutation/UKB_f2247_f2257_permutation.discovery.eachtrait.{1..200}.regenie_phenotype`\n",
    "phenoCol=f2247_f2257\n",
    "covarCol=sex\n",
    "qCovarCol=\"age PC1 PC2\"\n",
    "#Use the original bed files for the genotype array on regenie step1\n",
    "bfile=$UKBB_yale/pleiotropy_geneticfiles/UKB_originalgenotypefilesdownloaded083019/UKB_genotypedatadownloaded083019.bed\n",
    "genoFile=/mnt/mfs/statgen/guangyou/20220314_permutation/files/genome_discovery.bed\n",
    "lmm_sos=~/working/Ghana/Reg.ipynb\n",
    "\n",
    "lmm_args=\"\"\"asso\n",
    "    --cwd $lmm_dir_regenie \n",
    "    --bfile $bfile \n",
    "    --genoFile $genoFile\n",
    "    --phenoFile $phenoFile \n",
    "    --formatFile $formatFile_regenie \n",
    "    --phenoCol $phenoCol\n",
    "    --covarCol $covarCol  \n",
    "    --qCovarCol $qCovarCol\n",
    "    --bsize $bsize\n",
    "    --lowmem_dir $lowmem_dir\n",
    "    --trait $trait \n",
    "    --bgenMinMAF $bgenMinMAF \n",
    "    --bgenMinINFO $bgenMinINFO\n",
    "    --minMAC $minMAC\n",
    "    --job_size $lmm_job_size\n",
    "    --numThreads $numThreads\n",
    "    --container_lmm $container_lmm\n",
    "    --container_marp $container_marp\n",
    "\"\"\"\n",
    "\n",
    "sos run ~/working/UKBB_GWAS_dev/admin/Get_Job_Script.ipynb csg\\\n",
    "    --template-file $tpl_file \\\n",
    "    --workflow-file $lmm_sos \\\n",
    "    --to-script $lmm_sbatch_regenie \\\n",
    "    --args \"$lmm_args\""
   ]
  },
  {
   "cell_type": "markdown",
   "id": "5b151c70-c8eb-443d-b921-0dac71a8cd0a",
   "metadata": {
    "kernel": "Bash"
   },
   "source": [
    "## discovery all traits"
   ]
  },
  {
   "cell_type": "code",
   "execution_count": 13,
   "id": "46f1ed91-5721-41d0-9373-5257ef1b2ceb",
   "metadata": {
    "kernel": "Bash"
   },
   "outputs": [],
   "source": [
    "cp -r ~/project/guangyou/20220314_permutation/regenie/discovery/origin/f3393_hearing_aid/cache/UKB_genotypedatadownloaded083019* \\\n",
    "~/project/guangyou/20220314_permutation/regenie/discovery/permutation_alltraits/f3393_hearing_aid/cache/\n",
    "cp -r ~/project/guangyou/20220314_permutation/regenie/discovery/origin/f2247_hearing_difficulty/cache/UKB_genotypedatadownloaded083019* \\\n",
    "~/project/guangyou/20220314_permutation/regenie/discovery/permutation_alltraits/f2247_hearing_difficulty/cache/\n",
    "cp -r ~/project/guangyou/20220314_permutation/regenie/discovery/origin/f2257_Hearing_noise/cache/UKB_genotypedatadownloaded083019* \\\n",
    "~/project/guangyou/20220314_permutation/regenie/discovery/permutation_alltraits/f2257_Hearing_noise/cache/\n",
    "cp -r ~/project/guangyou/20220314_permutation/regenie/discovery/origin/Combined_f2247_f2257/cache/UKB_genotypedatadownloaded083019* \\\n",
    "~/project/guangyou/20220314_permutation/regenie/discovery/permutation_alltraits/Combined_f2247_f2257/cache"
   ]
  },
  {
   "cell_type": "code",
   "execution_count": 1,
   "id": "6f594d1c-8cb1-42cc-9a87-c834904f6435",
   "metadata": {
    "kernel": "Bash"
   },
   "outputs": [],
   "source": [
    "cp ~/project/guangyou/20220314_permutation/regenie/discovery/origin/f3393_hearing_aid/phenotype_large_discovery_f3393.regenie_1.loco \\\n",
    "~/project/guangyou/20220314_permutation/regenie/discovery/permutation_alltraits/f3393_hearing_aid\n",
    "cp ~/project/guangyou/20220314_permutation/regenie/discovery/origin/f3393_hearing_aid/phenotype_large_discovery_f3393.regenie_pred.list \\\n",
    "~/project/guangyou/20220314_permutation/regenie/discovery/permutation_alltraits/f3393_hearing_aid\n",
    "\n",
    "cp ~/project/guangyou/20220314_permutation/regenie/discovery/origin/f2247_hearing_difficulty/phenotype_large_discovery_f2247.regenie_1.loco \\\n",
    "~/project/guangyou/20220314_permutation/regenie/discovery/permutation_alltraits/f2247_hearing_difficulty\n",
    "cp ~/project/guangyou/20220314_permutation/regenie/discovery/origin/f2247_hearing_difficulty/phenotype_large_discovery_f2247.regenie_pred.list \\\n",
    "~/project/guangyou/20220314_permutation/regenie/discovery/permutation_alltraits/f2247_hearing_difficulty\n",
    "\n",
    "cp ~/project/guangyou/20220314_permutation/regenie/discovery/origin/f2257_Hearing_noise/phenotype_large_discovery_f2257.regenie_1.loco \\\n",
    "~/project/guangyou/20220314_permutation/regenie/discovery/permutation_alltraits/f2257_Hearing_noise\n",
    "cp ~/project/guangyou/20220314_permutation/regenie/discovery/origin/f2257_Hearing_noise/phenotype_large_discovery_f2257.regenie_pred.list \\\n",
    "~/project/guangyou/20220314_permutation/regenie/discovery/permutation_alltraits/f2257_Hearing_noise\n",
    "\n",
    "cp ~/project/guangyou/20220314_permutation/regenie/discovery/origin/Combined_f2247_f2257/phenotype_large_discovery_f2247_f2257.regenie_1.loco \\\n",
    "~/project/guangyou/20220314_permutation/regenie/discovery/permutation_alltraits/Combined_f2247_f2257\n",
    "cp ~/project/guangyou/20220314_permutation/regenie/discovery/origin/Combined_f2247_f2257/phenotype_large_discovery_f2247_f2257.regenie_pred.list \\\n",
    "~/project/guangyou/20220314_permutation/regenie/discovery/permutation_alltraits/Combined_f2247_f2257"
   ]
  },
  {
   "cell_type": "code",
   "execution_count": 11,
   "id": "fd36445b-3ac1-4819-8606-e533e1c74ecf",
   "metadata": {
    "kernel": "Bash"
   },
   "outputs": [
    {
     "name": "stdout",
     "output_type": "stream",
     "text": [
      "INFO: Running \u001b[32mcsg\u001b[0m: Configuration for Columbia csg partition cluster\n",
      "INFO: \u001b[32mcsg\u001b[0m is \u001b[32mcompleted\u001b[0m.\n",
      "INFO: \u001b[32mcsg\u001b[0m output:   \u001b[32m/home/gl2776/project/guangyou/20220314_permutation/regenie/discovery/permutation_alltraits/f3393_hearing_aid/f3393_hearing_aid_permutation-regenie_2022-03-23.sbatch\u001b[0m\n",
      "INFO: Workflow csg (ID=w6215e1c49a06b13d) is executed successfully with 1 completed step.\n",
      "INFO: Running \u001b[32mcsg\u001b[0m: Configuration for Columbia csg partition cluster\n",
      "INFO: \u001b[32mcsg\u001b[0m is \u001b[32mcompleted\u001b[0m.\n",
      "INFO: \u001b[32mcsg\u001b[0m output:   \u001b[32m/home/gl2776/project/guangyou/20220314_permutation/regenie/discovery/permutation_alltraits/f2247_hearing_difficulty/f2247_hearing_difficulty_permutation-regenie_2022-03-23.sbatch\u001b[0m\n",
      "INFO: Workflow csg (ID=wac24c83a4369f7b2) is executed successfully with 1 completed step.\n",
      "INFO: Running \u001b[32mcsg\u001b[0m: Configuration for Columbia csg partition cluster\n",
      "INFO: \u001b[32mcsg\u001b[0m is \u001b[32mcompleted\u001b[0m.\n",
      "INFO: \u001b[32mcsg\u001b[0m output:   \u001b[32m/home/gl2776/project/guangyou/20220314_permutation/regenie/discovery/permutation_alltraits/f2257_Hearing_noise/f2257_Hearing_noise_permutation-regenie_2022-03-23.sbatch\u001b[0m\n",
      "INFO: Workflow csg (ID=w1cee94455c041ee5) is executed successfully with 1 completed step.\n",
      "INFO: Running \u001b[32mcsg\u001b[0m: Configuration for Columbia csg partition cluster\n",
      "INFO: \u001b[32mcsg\u001b[0m is \u001b[32mcompleted\u001b[0m.\n",
      "INFO: \u001b[32mcsg\u001b[0m output:   \u001b[32m/home/gl2776/project/guangyou/20220314_permutation/regenie/discovery/permutation_alltraits/Combined_f2247_f2257/Combined_f2247_f2257_permutation-regenie_2022-03-23.sbatch\u001b[0m\n",
      "INFO: Workflow csg (ID=wa63eed91e8cf8f1f) is executed successfully with 1 completed step.\n"
     ]
    }
   ],
   "source": [
    "## f3393\n",
    "lmm_dir_regenie=~/project/guangyou/20220314_permutation/regenie/discovery/permutation_alltraits/f3393_hearing_aid\n",
    "lmm_sbatch_regenie=$lmm_dir_regenie/f3393_hearing_aid_permutation-regenie_$(date +\"%Y-%m-%d\").sbatch\n",
    "phenoFile=`echo ~/project/guangyou/20220314_permutation/files/permutation/UKB_f3393_permutation.discovery.{1..200}.regenie_phenotype`\n",
    "phenoCol=f3393\n",
    "covarCol=sex\n",
    "qCovarCol=\"age PC1 PC2\"\n",
    "#Use the original bed files for the genotype array on regenie step1\n",
    "bfile=$UKBB_yale/pleiotropy_geneticfiles/UKB_originalgenotypefilesdownloaded083019/UKB_genotypedatadownloaded083019.bed\n",
    "genoFile=/mnt/mfs/statgen/guangyou/20220314_permutation/files/genome_discovery.bed\n",
    "lmm_sos=~/working/Ghana/Reg.ipynb\n",
    "\n",
    "lmm_args=\"\"\"asso\n",
    "    --cwd $lmm_dir_regenie \n",
    "    --bfile $bfile \n",
    "    --genoFile $genoFile\n",
    "    --phenoFile $phenoFile \n",
    "    --formatFile $formatFile_regenie \n",
    "    --phenoCol $phenoCol\n",
    "    --covarCol $covarCol  \n",
    "    --qCovarCol $qCovarCol\n",
    "    --bsize $bsize\n",
    "    --lowmem_dir $lowmem_dir\n",
    "    --trait $trait \n",
    "    --bgenMinMAF $bgenMinMAF \n",
    "    --bgenMinINFO $bgenMinINFO\n",
    "    --minMAC $minMAC\n",
    "    --job_size $lmm_job_size\n",
    "    --numThreads $numThreads\n",
    "    --container_lmm $container_lmm\n",
    "    --container_marp $container_marp\n",
    "\"\"\"\n",
    "\n",
    "sos run ~/working/UKBB_GWAS_dev/admin/Get_Job_Script.ipynb csg\\\n",
    "    --template-file $tpl_file \\\n",
    "    --workflow-file $lmm_sos \\\n",
    "    --to-script $lmm_sbatch_regenie \\\n",
    "    --args \"$lmm_args\"\n",
    "\n",
    "## f2247\n",
    "lmm_dir_regenie=~/project/guangyou/20220314_permutation/regenie/discovery/permutation_alltraits/f2247_hearing_difficulty\n",
    "lmm_sbatch_regenie=$lmm_dir_regenie/f2247_hearing_difficulty_permutation-regenie_$(date +\"%Y-%m-%d\").sbatch\n",
    "phenoFile=`echo ~/project/guangyou/20220314_permutation/files/permutation/UKB_f2247_permutation.discovery.{1..200}.regenie_phenotype`\n",
    "phenoCol=f2247\n",
    "covarCol=sex\n",
    "qCovarCol=\"age PC1 PC2\"\n",
    "#Use the original bed files for the genotype array on regenie step1\n",
    "bfile=$UKBB_yale/pleiotropy_geneticfiles/UKB_originalgenotypefilesdownloaded083019/UKB_genotypedatadownloaded083019.bed\n",
    "genoFile=/mnt/mfs/statgen/guangyou/20220314_permutation/files/genome_discovery.bed\n",
    "lmm_sos=~/working/Ghana/Reg.ipynb\n",
    "\n",
    "lmm_args=\"\"\"asso\n",
    "    --cwd $lmm_dir_regenie \n",
    "    --bfile $bfile \n",
    "    --genoFile $genoFile\n",
    "    --phenoFile $phenoFile \n",
    "    --formatFile $formatFile_regenie \n",
    "    --phenoCol $phenoCol\n",
    "    --covarCol $covarCol  \n",
    "    --qCovarCol $qCovarCol\n",
    "    --bsize $bsize\n",
    "    --lowmem_dir $lowmem_dir\n",
    "    --trait $trait \n",
    "    --bgenMinMAF $bgenMinMAF \n",
    "    --bgenMinINFO $bgenMinINFO\n",
    "    --minMAC $minMAC\n",
    "    --job_size $lmm_job_size\n",
    "    --numThreads $numThreads\n",
    "    --container_lmm $container_lmm\n",
    "    --container_marp $container_marp\n",
    "\"\"\"\n",
    "\n",
    "sos run ~/working/UKBB_GWAS_dev/admin/Get_Job_Script.ipynb csg\\\n",
    "    --template-file $tpl_file \\\n",
    "    --workflow-file $lmm_sos \\\n",
    "    --to-script $lmm_sbatch_regenie \\\n",
    "    --args \"$lmm_args\"\n",
    "\n",
    "## f2257\n",
    "lmm_dir_regenie=~/project/guangyou/20220314_permutation/regenie/discovery/permutation_alltraits/f2257_Hearing_noise\n",
    "lmm_sbatch_regenie=$lmm_dir_regenie/f2257_Hearing_noise_permutation-regenie_$(date +\"%Y-%m-%d\").sbatch\n",
    "phenoFile=`echo ~/project/guangyou/20220314_permutation/files/permutation/UKB_f2257_permutation.discovery.{1..200}.regenie_phenotype`\n",
    "phenoCol=f2257\n",
    "covarCol=sex\n",
    "qCovarCol=\"age PC1 PC2\"\n",
    "#Use the original bed files for the genotype array on regenie step1\n",
    "bfile=$UKBB_yale/pleiotropy_geneticfiles/UKB_originalgenotypefilesdownloaded083019/UKB_genotypedatadownloaded083019.bed\n",
    "genoFile=/mnt/mfs/statgen/guangyou/20220314_permutation/files/genome_discovery.bed\n",
    "lmm_sos=~/working/Ghana/Reg.ipynb\n",
    "\n",
    "lmm_args=\"\"\"asso\n",
    "    --cwd $lmm_dir_regenie \n",
    "    --bfile $bfile \n",
    "    --genoFile $genoFile\n",
    "    --phenoFile $phenoFile \n",
    "    --formatFile $formatFile_regenie \n",
    "    --phenoCol $phenoCol\n",
    "    --covarCol $covarCol  \n",
    "    --qCovarCol $qCovarCol\n",
    "    --bsize $bsize\n",
    "    --lowmem_dir $lowmem_dir\n",
    "    --trait $trait \n",
    "    --bgenMinMAF $bgenMinMAF \n",
    "    --bgenMinINFO $bgenMinINFO\n",
    "    --minMAC $minMAC\n",
    "    --job_size $lmm_job_size\n",
    "    --numThreads $numThreads\n",
    "    --container_lmm $container_lmm\n",
    "    --container_marp $container_marp\n",
    "\"\"\"\n",
    "\n",
    "sos run ~/working/UKBB_GWAS_dev/admin/Get_Job_Script.ipynb csg\\\n",
    "    --template-file $tpl_file \\\n",
    "    --workflow-file $lmm_sos \\\n",
    "    --to-script $lmm_sbatch_regenie \\\n",
    "    --args \"$lmm_args\"\n",
    "\n",
    "## f2247_f2257\n",
    "lmm_dir_regenie=~/project/guangyou/20220314_permutation/regenie/discovery/permutation_alltraits/Combined_f2247_f2257\n",
    "lmm_sbatch_regenie=$lmm_dir_regenie/Combined_f2247_f2257_permutation-regenie_$(date +\"%Y-%m-%d\").sbatch\n",
    "phenoFile=`echo ~/project/guangyou/20220314_permutation/files/permutation/UKB_f2247_f2257_permutation.{1..200}.regenie_phenotype`\n",
    "phenoCol=f2247_f2257\n",
    "covarCol=sex\n",
    "qCovarCol=\"age PC1 PC2\"\n",
    "#Use the original bed files for the genotype array on regenie step1\n",
    "bfile=$UKBB_yale/pleiotropy_geneticfiles/UKB_originalgenotypefilesdownloaded083019/UKB_genotypedatadownloaded083019.bed\n",
    "genoFile=/mnt/mfs/statgen/guangyou/20220314_permutation/files/genome_discovery.bed\n",
    "lmm_sos=~/working/Ghana/Reg.ipynb\n",
    "\n",
    "lmm_args=\"\"\"asso\n",
    "    --cwd $lmm_dir_regenie \n",
    "    --bfile $bfile \n",
    "    --genoFile $genoFile\n",
    "    --phenoFile $phenoFile \n",
    "    --formatFile $formatFile_regenie \n",
    "    --phenoCol $phenoCol\n",
    "    --covarCol $covarCol  \n",
    "    --qCovarCol $qCovarCol\n",
    "    --bsize $bsize\n",
    "    --lowmem_dir $lowmem_dir\n",
    "    --trait $trait \n",
    "    --bgenMinMAF $bgenMinMAF \n",
    "    --bgenMinINFO $bgenMinINFO\n",
    "    --minMAC $minMAC\n",
    "    --job_size $lmm_job_size\n",
    "    --numThreads $numThreads\n",
    "    --container_lmm $container_lmm\n",
    "    --container_marp $container_marp\n",
    "\"\"\"\n",
    "\n",
    "sos run ~/working/UKBB_GWAS_dev/admin/Get_Job_Script.ipynb csg\\\n",
    "    --template-file $tpl_file \\\n",
    "    --workflow-file $lmm_sos \\\n",
    "    --to-script $lmm_sbatch_regenie \\\n",
    "    --args \"$lmm_args\""
   ]
  },
  {
   "cell_type": "code",
   "execution_count": null,
   "id": "a05aed09-3c3e-4a9a-93b0-dd5b95a42402",
   "metadata": {
    "kernel": "Bash"
   },
   "outputs": [],
   "source": []
  },
  {
   "cell_type": "markdown",
   "id": "49df1bb4-24e3-493c-abf7-6a3e8939a40a",
   "metadata": {
    "kernel": "Bash"
   },
   "source": [
    "## mega each trait"
   ]
  },
  {
   "cell_type": "code",
   "execution_count": 99,
   "id": "99489704-79cf-4e1c-8d66-7fcf92b5b623",
   "metadata": {
    "kernel": "Bash"
   },
   "outputs": [
    {
     "name": "stdout",
     "output_type": "stream",
     "text": [
      "INFO: Running \u001b[32mcsg\u001b[0m: Configuration for Columbia csg partition cluster\n",
      "INFO: \u001b[32mcsg\u001b[0m is \u001b[32mcompleted\u001b[0m.\n",
      "INFO: \u001b[32mcsg\u001b[0m output:   \u001b[32m/home/gl2776/project/guangyou/20220314_permutation/regenie/mega/permutation/f3393_hearing_aid/f3393_hearing_aid_permutation-regenie_2022-03-22.sbatch\u001b[0m\n",
      "INFO: Workflow csg (ID=w7cf7a45712d44cef) is executed successfully with 1 completed step.\n",
      "INFO: Running \u001b[32mcsg\u001b[0m: Configuration for Columbia csg partition cluster\n",
      "INFO: \u001b[32mcsg\u001b[0m is \u001b[32mcompleted\u001b[0m.\n",
      "INFO: \u001b[32mcsg\u001b[0m output:   \u001b[32m/home/gl2776/project/guangyou/20220314_permutation/regenie/mega/permutation/f2247_hearing_difficulty/f2247_hearing_difficulty_permutation-regenie_2022-03-22.sbatch\u001b[0m\n",
      "INFO: Workflow csg (ID=w1fef5cd6dfc15347) is executed successfully with 1 completed step.\n",
      "INFO: Running \u001b[32mcsg\u001b[0m: Configuration for Columbia csg partition cluster\n",
      "INFO: \u001b[32mcsg\u001b[0m is \u001b[32mcompleted\u001b[0m.\n",
      "INFO: \u001b[32mcsg\u001b[0m output:   \u001b[32m/home/gl2776/project/guangyou/20220314_permutation/regenie/mega/permutation/f2257_Hearing_noise/f2257_Hearing_noise_permutation-regenie_2022-03-22.sbatch\u001b[0m\n",
      "INFO: Workflow csg (ID=wcaf077093771f61e) is executed successfully with 1 completed step.\n",
      "INFO: Running \u001b[32mcsg\u001b[0m: Configuration for Columbia csg partition cluster\n",
      "INFO: \u001b[32mcsg\u001b[0m is \u001b[32mcompleted\u001b[0m.\n",
      "INFO: \u001b[32mcsg\u001b[0m output:   \u001b[32m/home/gl2776/project/guangyou/20220314_permutation/regenie/mega/permutation/Combined_f2247_f2257/Combined_f2247_f2257_permutation-regenie_2022-03-22.sbatch\u001b[0m\n",
      "INFO: Workflow csg (ID=wb3fcf1909b87ce6a) is executed successfully with 1 completed step.\n"
     ]
    }
   ],
   "source": [
    "## f3393\n",
    "lmm_dir_regenie=~/project/guangyou/20220314_permutation/regenie/mega/permutation/f3393_hearing_aid\n",
    "lmm_sbatch_regenie=$lmm_dir_regenie/f3393_hearing_aid_permutation-regenie_$(date +\"%Y-%m-%d\").sbatch\n",
    "phenoFile=`echo ~/project/guangyou/20220314_permutation/files/permutation/UKB_f3393_permutation.mega.eachtrait.{1..200}.regenie_phenotype`\n",
    "phenoCol=f3393\n",
    "covarCol=sex\n",
    "qCovarCol=\"age PC1 PC2\"\n",
    "#Use the original bed files for the genotype array on regenie step1\n",
    "bfile=~/UKBiobank/genotype_files_processed/090221_sample_variant_qc_final_callrate90/cache/UKB_genotypedatadownloaded083019.090221_sample_variant_qc_final_callrate90.filtered.extracted.bed\n",
    "genoFile=`echo /mnt/mfs/statgen/guangyou/20220314_permutation/files/genome_mega_chr{1,5,6,7,22}.bgen`\n",
    "sampleFile=~/UKBiobank_Yale_transfer/ukb39554_imputeddataset/ukb32285_imputedindiv.sample\n",
    "lmm_sos=~/working/Ghana/Reg.ipynb\n",
    "\n",
    "lmm_args=\"\"\"asso\n",
    "    --cwd $lmm_dir_regenie \n",
    "    --bfile $bfile \n",
    "    --genoFile $genoFile\n",
    "    --sampleFile $sampleFile\n",
    "    --phenoFile $phenoFile \n",
    "    --formatFile $formatFile_regenie \n",
    "    --phenoCol $phenoCol\n",
    "    --covarCol $covarCol  \n",
    "    --qCovarCol $qCovarCol\n",
    "    --bsize $bsize\n",
    "    --lowmem_dir $lowmem_dir\n",
    "    --trait $trait \n",
    "    --bgenMinMAF $bgenMinMAF \n",
    "    --bgenMinINFO $bgenMinINFO\n",
    "    --minMAC $minMAC\n",
    "    --job_size $lmm_job_size\n",
    "    --numThreads $numThreads\n",
    "    --container_lmm $container_lmm\n",
    "    --container_marp $container_marp\n",
    "\"\"\"\n",
    "\n",
    "sos run ~/working/UKBB_GWAS_dev/admin/Get_Job_Script.ipynb csg\\\n",
    "    --template-file $tpl_file \\\n",
    "    --workflow-file $lmm_sos \\\n",
    "    --to-script $lmm_sbatch_regenie \\\n",
    "    --args \"$lmm_args\"\n",
    "\n",
    "## f2247\n",
    "lmm_dir_regenie=~/project/guangyou/20220314_permutation/regenie/mega/permutation/f2247_hearing_difficulty\n",
    "lmm_sbatch_regenie=$lmm_dir_regenie/f2247_hearing_difficulty_permutation-regenie_$(date +\"%Y-%m-%d\").sbatch\n",
    "phenoFile=`echo ~/project/guangyou/20220314_permutation/files/permutation/UKB_f2247_permutation.mega.eachtrait.{1..200}.regenie_phenotype`\n",
    "phenoCol=f2247\n",
    "covarCol=sex\n",
    "qCovarCol=\"age PC1 PC2\"\n",
    "#Use the original bed files for the genotype array on regenie step1\n",
    "bfile=~/UKBiobank/genotype_files_processed/090221_sample_variant_qc_final_callrate90/cache/UKB_genotypedatadownloaded083019.090221_sample_variant_qc_final_callrate90.filtered.extracted.bed\n",
    "genoFile=`echo /mnt/mfs/statgen/guangyou/20220314_permutation/files/genome_mega_chr{1,5,6,7,22}.bgen`\n",
    "sampleFile=~/UKBiobank_Yale_transfer/ukb39554_imputeddataset/ukb32285_imputedindiv.sample\n",
    "lmm_sos=~/working/Ghana/Reg.ipynb\n",
    "\n",
    "lmm_args=\"\"\"asso\n",
    "    --cwd $lmm_dir_regenie \n",
    "    --bfile $bfile \n",
    "    --genoFile $genoFile\n",
    "    --sampleFile $sampleFile\n",
    "    --phenoFile $phenoFile \n",
    "    --formatFile $formatFile_regenie \n",
    "    --phenoCol $phenoCol\n",
    "    --covarCol $covarCol  \n",
    "    --qCovarCol $qCovarCol\n",
    "    --bsize $bsize\n",
    "    --lowmem_dir $lowmem_dir\n",
    "    --trait $trait \n",
    "    --bgenMinMAF $bgenMinMAF \n",
    "    --bgenMinINFO $bgenMinINFO\n",
    "    --minMAC $minMAC\n",
    "    --job_size $lmm_job_size\n",
    "    --numThreads $numThreads\n",
    "    --container_lmm $container_lmm\n",
    "    --container_marp $container_marp\n",
    "\"\"\"\n",
    "\n",
    "sos run ~/working/UKBB_GWAS_dev/admin/Get_Job_Script.ipynb csg\\\n",
    "    --template-file $tpl_file \\\n",
    "    --workflow-file $lmm_sos \\\n",
    "    --to-script $lmm_sbatch_regenie \\\n",
    "    --args \"$lmm_args\"\n",
    "\n",
    "## f2257\n",
    "lmm_dir_regenie=~/project/guangyou/20220314_permutation/regenie/mega/permutation/f2257_Hearing_noise\n",
    "lmm_sbatch_regenie=$lmm_dir_regenie/f2257_Hearing_noise_permutation-regenie_$(date +\"%Y-%m-%d\").sbatch\n",
    "phenoFile=`echo ~/project/guangyou/20220314_permutation/files/permutation/UKB_f2257_permutation.mega.eachtrait.{1..200}.regenie_phenotype`\n",
    "phenoCol=f2257\n",
    "covarCol=sex\n",
    "qCovarCol=\"age PC1 PC2\"\n",
    "#Use the original bed files for the genotype array on regenie step1\n",
    "bfile=~/UKBiobank/genotype_files_processed/090221_sample_variant_qc_final_callrate90/cache/UKB_genotypedatadownloaded083019.090221_sample_variant_qc_final_callrate90.filtered.extracted.bed\n",
    "genoFile=`echo /mnt/mfs/statgen/guangyou/20220314_permutation/files/genome_mega_chr{1,5,6,7,22}.bgen`\n",
    "sampleFile=~/UKBiobank_Yale_transfer/ukb39554_imputeddataset/ukb32285_imputedindiv.sample\n",
    "lmm_sos=~/working/Ghana/Reg.ipynb\n",
    "\n",
    "lmm_args=\"\"\"asso\n",
    "    --cwd $lmm_dir_regenie \n",
    "    --bfile $bfile \n",
    "    --genoFile $genoFile\n",
    "    --sampleFile $sampleFile\n",
    "    --phenoFile $phenoFile \n",
    "    --formatFile $formatFile_regenie \n",
    "    --phenoCol $phenoCol\n",
    "    --covarCol $covarCol  \n",
    "    --qCovarCol $qCovarCol\n",
    "    --bsize $bsize\n",
    "    --lowmem_dir $lowmem_dir\n",
    "    --trait $trait \n",
    "    --bgenMinMAF $bgenMinMAF \n",
    "    --bgenMinINFO $bgenMinINFO\n",
    "    --minMAC $minMAC\n",
    "    --job_size $lmm_job_size\n",
    "    --numThreads $numThreads\n",
    "    --container_lmm $container_lmm\n",
    "    --container_marp $container_marp\n",
    "\"\"\"\n",
    "\n",
    "sos run ~/working/UKBB_GWAS_dev/admin/Get_Job_Script.ipynb csg\\\n",
    "    --template-file $tpl_file \\\n",
    "    --workflow-file $lmm_sos \\\n",
    "    --to-script $lmm_sbatch_regenie \\\n",
    "    --args \"$lmm_args\"\n",
    "\n",
    "## f2247_f2257\n",
    "lmm_dir_regenie=~/project/guangyou/20220314_permutation/regenie/mega/permutation/Combined_f2247_f2257\n",
    "lmm_sbatch_regenie=$lmm_dir_regenie/Combined_f2247_f2257_permutation-regenie_$(date +\"%Y-%m-%d\").sbatch\n",
    "phenoFile=`echo ~/project/guangyou/20220314_permutation/files/permutation/UKB_f2247_f2257_permutation.mega.eachtrait.{1..200}.regenie_phenotype`\n",
    "phenoCol=f2247_f2257\n",
    "covarCol=sex\n",
    "qCovarCol=\"age PC1 PC2\"\n",
    "#Use the original bed files for the genotype array on regenie step1\n",
    "bfile=~/UKBiobank/genotype_files_processed/090221_sample_variant_qc_final_callrate90/cache/UKB_genotypedatadownloaded083019.090221_sample_variant_qc_final_callrate90.filtered.extracted.bed\n",
    "genoFile=`echo /mnt/mfs/statgen/guangyou/20220314_permutation/files/genome_mega_chr{1,5,6,7,22}.bgen`\n",
    "sampleFile=~/UKBiobank_Yale_transfer/ukb39554_imputeddataset/ukb32285_imputedindiv.sample\n",
    "lmm_sos=~/working/Ghana/Reg.ipynb\n",
    "\n",
    "lmm_args=\"\"\"asso\n",
    "    --cwd $lmm_dir_regenie \n",
    "    --bfile $bfile \n",
    "    --genoFile $genoFile\n",
    "    --sampleFile $sampleFile\n",
    "    --phenoFile $phenoFile \n",
    "    --formatFile $formatFile_regenie \n",
    "    --phenoCol $phenoCol\n",
    "    --covarCol $covarCol  \n",
    "    --qCovarCol $qCovarCol\n",
    "    --bsize $bsize\n",
    "    --lowmem_dir $lowmem_dir\n",
    "    --trait $trait \n",
    "    --bgenMinMAF $bgenMinMAF \n",
    "    --bgenMinINFO $bgenMinINFO\n",
    "    --minMAC $minMAC\n",
    "    --job_size $lmm_job_size\n",
    "    --numThreads $numThreads\n",
    "    --container_lmm $container_lmm\n",
    "    --container_marp $container_marp\n",
    "\"\"\"\n",
    "\n",
    "sos run ~/working/UKBB_GWAS_dev/admin/Get_Job_Script.ipynb csg\\\n",
    "    --template-file $tpl_file \\\n",
    "    --workflow-file $lmm_sos \\\n",
    "    --to-script $lmm_sbatch_regenie \\\n",
    "    --args \"$lmm_args\""
   ]
  },
  {
   "cell_type": "code",
   "execution_count": 125,
   "id": "1ebaac5a-b36e-4f56-b98d-df81d8c3106b",
   "metadata": {
    "kernel": "Bash"
   },
   "outputs": [],
   "source": [
    "cp -r ~/UKBiobank/results/REGENIE_results/results_imputed_data/2021_10_13_f3393_300K/cache/UKB_genotypedatadownloaded083019.090221_sample_variant_qc_final_callrate90.* \\\n",
    "~/project/guangyou/20220314_permutation/regenie/mega/permutation/f3393_hearing_aid/cache\n",
    "cp -r ~/UKBiobank/results/REGENIE_results/results_imputed_data/2021_10_13_f2247_300K/cache/UKB_genotypedatadownloaded083019.090221_sample_variant_qc_final_callrate90.* \\\n",
    "~/project/guangyou/20220314_permutation/regenie/mega/permutation/f2247_hearing_difficulty/cache\n",
    "cp -r ~/UKBiobank/results/REGENIE_results/results_imputed_data/2021_10_13_f2257_300K/cache/UKB_genotypedatadownloaded083019.090221_sample_variant_qc_final_callrate90.* \\\n",
    "~/project/guangyou/20220314_permutation/regenie/mega/permutation/f2257_Hearing_noise/cache\n",
    "cp -r ~/UKBiobank/results/REGENIE_results/results_imputed_data/2021_10_13_f2247_f2257_300K/cache/UKB_genotypedatadownloaded083019.090221_sample_variant_qc_final_callrate90.* \\\n",
    "~/project/guangyou/20220314_permutation/regenie/mega/permutation/Combined_f2247_f2257/cache"
   ]
  },
  {
   "cell_type": "code",
   "execution_count": 129,
   "id": "98687120-1f68-44e9-8609-68e29212bf7f",
   "metadata": {
    "kernel": "Bash"
   },
   "outputs": [
    {
     "name": "stdout",
     "output_type": "stream",
     "text": [
      "\u001b[0m\u001b[01;32m100521_UKBB_Combined_f2247_f2257_expandedwhite_54853cases_141007ctrl_300k_PC1_PC2_f2247_f2257.regenie_1.loco\u001b[0m\u001b[K\n",
      "100521_UKBB_Combined_f2247_f2257_expandedwhite_54853cases_141007ctrl_300k_PC1_PC2_f2247_f2257.regenie.analysis_summary.md\n",
      "\u001b[01;31m100521_UKBB_Combined_f2247_f2257_expandedwhite_54853cases_141007ctrl_300k_PC1_PC2_f2247_f2257.regenie.hg38.sumstats_mapped.gz\u001b[0m\u001b[K\n",
      "100521_UKBB_Combined_f2247_f2257_expandedwhite_54853cases_141007ctrl_300k_PC1_PC2_f2247_f2257.regenie.hg38.sumstats.stderr\n",
      "100521_UKBB_Combined_f2247_f2257_expandedwhite_54853cases_141007ctrl_300k_PC1_PC2_f2247_f2257.regenie.hg38.sumstats.stdout\n",
      "\u001b[01;31m100521_UKBB_Combined_f2247_f2257_expandedwhite_54853cases_141007ctrl_300k_PC1_PC2_f2247_f2257.regenie.hg38.sumstats_unmapped.gz\u001b[0m\u001b[K\n",
      "\u001b[01;35m100521_UKBB_Combined_f2247_f2257_expandedwhite_54853cases_141007ctrl_300k_PC1_PC2_f2247_f2257.regenie.manhattan_annotated.png\u001b[0m\u001b[K\n",
      "100521_UKBB_Combined_f2247_f2257_expandedwhite_54853cases_141007ctrl_300k_PC1_PC2_f2247_f2257.regenie.manhattan_annotated.stderr\n",
      "100521_UKBB_Combined_f2247_f2257_expandedwhite_54853cases_141007ctrl_300k_PC1_PC2_f2247_f2257.regenie.manhattan_annotated.stdout\n",
      "\u001b[01;35m100521_UKBB_Combined_f2247_f2257_expandedwhite_54853cases_141007ctrl_300k_PC1_PC2_f2247_f2257.regenie.manhattan.png\u001b[0m\u001b[K\n",
      "100521_UKBB_Combined_f2247_f2257_expandedwhite_54853cases_141007ctrl_300k_PC1_PC2_f2247_f2257.regenie.manhattan.stderr\n",
      "100521_UKBB_Combined_f2247_f2257_expandedwhite_54853cases_141007ctrl_300k_PC1_PC2_f2247_f2257.regenie.manhattan.stdout\n",
      "\u001b[01;32m100521_UKBB_Combined_f2247_f2257_expandedwhite_54853cases_141007ctrl_300k_PC1_PC2_f2247_f2257.regenie_pred.list\u001b[0m\u001b[K\n",
      "\u001b[01;32m100521_UKBB_Combined_f2247_f2257_expandedwhite_54853cases_141007ctrl_300k_PC1_PC2_f2247_f2257.regenie_pred.stderr\u001b[0m\u001b[K\n",
      "\u001b[01;32m100521_UKBB_Combined_f2247_f2257_expandedwhite_54853cases_141007ctrl_300k_PC1_PC2_f2247_f2257.regenie_pred.stdout\u001b[0m\u001b[K\n",
      "\u001b[01;35m100521_UKBB_Combined_f2247_f2257_expandedwhite_54853cases_141007ctrl_300k_PC1_PC2_f2247_f2257.regenie.qq.png\u001b[0m\u001b[K\n",
      "100521_UKBB_Combined_f2247_f2257_expandedwhite_54853cases_141007ctrl_300k_PC1_PC2_f2247_f2257.regenie.snp_counts.txt\n",
      "\u001b[01;31m100521_UKBB_Combined_f2247_f2257_expandedwhite_54853cases_141007ctrl_300k_PC1_PC2_f2247_f2257.regenie.snp_stats.gz\u001b[0m\u001b[K\n",
      "100521_UKBB_Combined_f2247_f2257_expandedwhite_54853cases_141007ctrl_300k_PC1_PC2_f2247_f2257.regenie.snp_stats.log\n",
      "\u001b[01;31m100521_UKBB_Combined_f2247_f2257_expandedwhite_54853cases_141007ctrl_300k_PC1_PC2_f2247_f2257.regenie.snp_stats_original_columns.gz\u001b[0m\u001b[K\n",
      "100521_UKBB_Combined_f2247_f2257_expandedwhite_54853cases_141007ctrl_300k_PC1_PC2_f2247_f2257.regenie.top_snps.tsv\n",
      "\u001b[01;32m100521_UKBB_Combined_f2247_f2257_expandedwhite_54853cases_141007ctrl_300k_PC1_PC2.regenie_covar\u001b[0m\u001b[K\n",
      "\u001b[01;32m100521_UKBB_Combined_f2247_f2257_expandedwhite_54853cases_141007ctrl_300k_PC1_PC2.regenie_phenotype\u001b[0m\u001b[K\n",
      "\u001b[01;34mcache\u001b[0m\n",
      "f2247_f2257_300K_imp_info0.3_ref_first_regenie_2021-11-11-1946174.out\n",
      "f2247_f2257_300K_imp_info0.3_ref_first_regenie_2021-11-11-1946359.out\n",
      "f2247_f2257_300K_imp_info0.3_ref_first_regenie_2021-11-11.log\n",
      "f2247_f2257_300K_imp_info0.3_ref_first_regenie_2021-11-11.sbatch\n",
      "\u001b[34;42mnon_ref_first_info0.8\u001b[0m\n",
      "utils.py\n"
     ]
    }
   ],
   "source": [
    "ls ~/UKBiobank/results/REGENIE_results/results_imputed_data/2021_10_13_f2247_f2257_300K"
   ]
  },
  {
   "cell_type": "code",
   "execution_count": 19,
   "id": "2f7c3ceb-90f3-4a68-9fec-f7d508f95f50",
   "metadata": {
    "kernel": "Bash"
   },
   "outputs": [],
   "source": [
    "cp -r ~/UKBiobank/results/REGENIE_results/results_imputed_data/2021_10_13_f3393_300K/100521_UKBB_Hearing_aid_f3393_expandedwhite_9165cases_141007ctrl_300k_PC1_PC2_f3393.regenie_1.loco \\\n",
    "~/project/guangyou/20220314_permutation/regenie/mega/permutation/f3393_hearing_aid/\n",
    "cp -r ~/UKBiobank/results/REGENIE_results/results_imputed_data/2021_10_13_f3393_300K/100521_UKBB_Hearing_aid_f3393_expandedwhite_9165cases_141007ctrl_300k_PC1_PC2_f3393.regenie_pred.list \\\n",
    "~/project/guangyou/20220314_permutation/regenie/mega/permutation/f3393_hearing_aid/\n",
    "\n",
    "cp -r ~/UKBiobank/results/REGENIE_results/results_imputed_data/2021_10_13_f2247_300K/100521_UKBB_Hearing_difficulty_f2247_expandedwhite_64953cases_141007ctrl_300k_PC1_PC2_f2247.regenie_1.loco \\\n",
    "~/project/guangyou/20220314_permutation/regenie/mega/permutation/f2247_hearing_difficulty/\n",
    "cp -r ~/UKBiobank/results/REGENIE_results/results_imputed_data/2021_10_13_f2247_300K/100521_UKBB_Hearing_difficulty_f2247_expandedwhite_64953cases_141007ctrl_300k_PC1_PC2_f2247.regenie_pred.list \\\n",
    "~/project/guangyou/20220314_permutation/regenie/mega/permutation/f2247_hearing_difficulty/\n",
    "\n",
    "cp -r ~/UKBiobank/results/REGENIE_results/results_imputed_data/2021_10_13_f2257_300K/100521_UKBB_Hearing_noise_f2257_expandedwhite_95794cases_141007ctrl_300k_PC1_PC2_f2257.regenie_1.loco \\\n",
    "~/project/guangyou/20220314_permutation/regenie/mega/permutation/f2257_Hearing_noise/\n",
    "cp -r ~/UKBiobank/results/REGENIE_results/results_imputed_data/2021_10_13_f2257_300K/100521_UKBB_Hearing_noise_f2257_expandedwhite_95794cases_141007ctrl_300k_PC1_PC2_f2257.regenie_pred.list \\\n",
    "~/project/guangyou/20220314_permutation/regenie/mega/permutation/f2257_Hearing_noise/\n",
    "\n",
    "cp -r ~/UKBiobank/results/REGENIE_results/results_imputed_data/2021_10_13_f2247_f2257_300K/100521_UKBB_Combined_f2247_f2257_expandedwhite_54853cases_141007ctrl_300k_PC1_PC2_f2247_f2257.regenie_1.loco \\\n",
    "~/project/guangyou/20220314_permutation/regenie/mega/permutation/Combined_f2247_f2257/\n",
    "cp -r ~/UKBiobank/results/REGENIE_results/results_imputed_data/2021_10_13_f2247_f2257_300K/100521_UKBB_Combined_f2247_f2257_expandedwhite_54853cases_141007ctrl_300k_PC1_PC2_f2247_f2257.regenie_pred.list \\\n",
    "~/project/guangyou/20220314_permutation/regenie/mega/permutation/Combined_f2247_f2257/"
   ]
  },
  {
   "cell_type": "markdown",
   "id": "48242c7b-7c11-44f6-9f92-faa54da8ddfd",
   "metadata": {
    "kernel": "Bash"
   },
   "source": [
    "## mega across all traits"
   ]
  },
  {
   "cell_type": "code",
   "execution_count": 18,
   "id": "771a0f61-7a84-495a-8cd3-f1719ea4cb8a",
   "metadata": {
    "kernel": "Bash"
   },
   "outputs": [
    {
     "name": "stdout",
     "output_type": "stream",
     "text": [
      "INFO: Running \u001b[32mcsg\u001b[0m: Configuration for Columbia csg partition cluster\n",
      "INFO: \u001b[32mcsg\u001b[0m is \u001b[32mcompleted\u001b[0m.\n",
      "INFO: \u001b[32mcsg\u001b[0m output:   \u001b[32m/home/gl2776/project/guangyou/20220314_permutation/regenie/mega/permutation_alltraits/f3393_hearing_aid/f3393_hearing_aid_permutation-regenie_2022-03-24.sbatch\u001b[0m\n",
      "INFO: Workflow csg (ID=wf5ea9d39fb1305d1) is executed successfully with 1 completed step.\n",
      "INFO: Running \u001b[32mcsg\u001b[0m: Configuration for Columbia csg partition cluster\n",
      "INFO: \u001b[32mcsg\u001b[0m is \u001b[32mcompleted\u001b[0m.\n",
      "INFO: \u001b[32mcsg\u001b[0m output:   \u001b[32m/home/gl2776/project/guangyou/20220314_permutation/regenie/mega/permutation_alltraits/f2247_hearing_difficulty/f2247_hearing_difficulty_permutation-regenie_2022-03-24.sbatch\u001b[0m\n",
      "INFO: Workflow csg (ID=w5179276c1aa6ad04) is executed successfully with 1 completed step.\n",
      "INFO: Running \u001b[32mcsg\u001b[0m: Configuration for Columbia csg partition cluster\n",
      "INFO: \u001b[32mcsg\u001b[0m is \u001b[32mcompleted\u001b[0m.\n",
      "INFO: \u001b[32mcsg\u001b[0m output:   \u001b[32m/home/gl2776/project/guangyou/20220314_permutation/regenie/mega/permutation_alltraits/f2257_Hearing_noise/f2257_Hearing_noise_permutation-regenie_2022-03-24.sbatch\u001b[0m\n",
      "INFO: Workflow csg (ID=w00275693b05aa5bf) is executed successfully with 1 completed step.\n",
      "INFO: Running \u001b[32mcsg\u001b[0m: Configuration for Columbia csg partition cluster\n",
      "INFO: \u001b[32mcsg\u001b[0m is \u001b[32mcompleted\u001b[0m.\n",
      "INFO: \u001b[32mcsg\u001b[0m output:   \u001b[32m/home/gl2776/project/guangyou/20220314_permutation/regenie/mega/permutation_alltraits/Combined_f2247_f2257/Combined_f2247_f2257_permutation-regenie_2022-03-24.sbatch\u001b[0m\n",
      "INFO: Workflow csg (ID=w045787f18499dde6) is executed successfully with 1 completed step.\n"
     ]
    }
   ],
   "source": [
    "## f3393\n",
    "lmm_dir_regenie=~/project/guangyou/20220314_permutation/regenie/mega/permutation_alltraits/f3393_hearing_aid\n",
    "lmm_sbatch_regenie=$lmm_dir_regenie/f3393_hearing_aid_permutation-regenie_$(date +\"%Y-%m-%d\").sbatch\n",
    "phenoFile=`echo ~/project/guangyou/20220314_permutation/files/permutation/UKB_f3393_permutation.{1..200}.regenie_phenotype`\n",
    "phenoCol=f3393\n",
    "covarCol=sex\n",
    "qCovarCol=\"age PC1 PC2\"\n",
    "#Use the original bed files for the genotype array on regenie step1\n",
    "bfile=~/UKBiobank/genotype_files_processed/090221_sample_variant_qc_final_callrate90/cache/UKB_genotypedatadownloaded083019.090221_sample_variant_qc_final_callrate90.filtered.extracted.bed\n",
    "genoFile=`echo /mnt/mfs/statgen/guangyou/20220314_permutation/files/genome_mega_chr{1,5,6,7,22}.bgen`\n",
    "sampleFile=~/UKBiobank_Yale_transfer/ukb39554_imputeddataset/ukb32285_imputedindiv.sample\n",
    "lmm_sos=~/working/Ghana/Reg.ipynb\n",
    "\n",
    "lmm_args=\"\"\"asso\n",
    "    --cwd $lmm_dir_regenie \n",
    "    --bfile $bfile \n",
    "    --genoFile $genoFile\n",
    "    --sampleFile $sampleFile\n",
    "    --phenoFile $phenoFile \n",
    "    --formatFile $formatFile_regenie \n",
    "    --phenoCol $phenoCol\n",
    "    --covarCol $covarCol  \n",
    "    --qCovarCol $qCovarCol\n",
    "    --bsize $bsize\n",
    "    --lowmem_dir $lowmem_dir\n",
    "    --trait $trait \n",
    "    --bgenMinMAF $bgenMinMAF \n",
    "    --bgenMinINFO $bgenMinINFO\n",
    "    --minMAC $minMAC\n",
    "    --job_size $lmm_job_size\n",
    "    --numThreads $numThreads\n",
    "    --container_lmm $container_lmm\n",
    "    --container_marp $container_marp\n",
    "\"\"\"\n",
    "\n",
    "sos run ~/working/UKBB_GWAS_dev/admin/Get_Job_Script.ipynb csg\\\n",
    "    --template-file $tpl_file \\\n",
    "    --workflow-file $lmm_sos \\\n",
    "    --to-script $lmm_sbatch_regenie \\\n",
    "    --args \"$lmm_args\"\n",
    "\n",
    "## f2247\n",
    "lmm_dir_regenie=~/project/guangyou/20220314_permutation/regenie/mega/permutation_alltraits/f2247_hearing_difficulty\n",
    "lmm_sbatch_regenie=$lmm_dir_regenie/f2247_hearing_difficulty_permutation-regenie_$(date +\"%Y-%m-%d\").sbatch\n",
    "phenoFile=`echo ~/project/guangyou/20220314_permutation/files/permutation/UKB_f2247_permutation.{1..200}.regenie_phenotype`\n",
    "phenoCol=f2247\n",
    "covarCol=sex\n",
    "qCovarCol=\"age PC1 PC2\"\n",
    "#Use the original bed files for the genotype array on regenie step1\n",
    "bfile=~/UKBiobank/genotype_files_processed/090221_sample_variant_qc_final_callrate90/cache/UKB_genotypedatadownloaded083019.090221_sample_variant_qc_final_callrate90.filtered.extracted.bed\n",
    "genoFile=`echo /mnt/mfs/statgen/guangyou/20220314_permutation/files/genome_mega_chr{1,5,6,7,22}.bgen`\n",
    "sampleFile=~/UKBiobank_Yale_transfer/ukb39554_imputeddataset/ukb32285_imputedindiv.sample\n",
    "lmm_sos=~/working/Ghana/Reg.ipynb\n",
    "\n",
    "lmm_args=\"\"\"asso\n",
    "    --cwd $lmm_dir_regenie \n",
    "    --bfile $bfile \n",
    "    --genoFile $genoFile\n",
    "    --sampleFile $sampleFile\n",
    "    --phenoFile $phenoFile \n",
    "    --formatFile $formatFile_regenie \n",
    "    --phenoCol $phenoCol\n",
    "    --covarCol $covarCol  \n",
    "    --qCovarCol $qCovarCol\n",
    "    --bsize $bsize\n",
    "    --lowmem_dir $lowmem_dir\n",
    "    --trait $trait \n",
    "    --bgenMinMAF $bgenMinMAF \n",
    "    --bgenMinINFO $bgenMinINFO\n",
    "    --minMAC $minMAC\n",
    "    --job_size $lmm_job_size\n",
    "    --numThreads $numThreads\n",
    "    --container_lmm $container_lmm\n",
    "    --container_marp $container_marp\n",
    "\"\"\"\n",
    "\n",
    "sos run ~/working/UKBB_GWAS_dev/admin/Get_Job_Script.ipynb csg\\\n",
    "    --template-file $tpl_file \\\n",
    "    --workflow-file $lmm_sos \\\n",
    "    --to-script $lmm_sbatch_regenie \\\n",
    "    --args \"$lmm_args\"\n",
    "\n",
    "## f2257\n",
    "lmm_dir_regenie=~/project/guangyou/20220314_permutation/regenie/mega/permutation_alltraits/f2257_Hearing_noise\n",
    "lmm_sbatch_regenie=$lmm_dir_regenie/f2257_Hearing_noise_permutation-regenie_$(date +\"%Y-%m-%d\").sbatch\n",
    "phenoFile=`echo ~/project/guangyou/20220314_permutation/files/permutation/UKB_f2257_permutation.{1..200}.regenie_phenotype`\n",
    "phenoCol=f2257\n",
    "covarCol=sex\n",
    "qCovarCol=\"age PC1 PC2\"\n",
    "#Use the original bed files for the genotype array on regenie step1\n",
    "bfile=~/UKBiobank/genotype_files_processed/090221_sample_variant_qc_final_callrate90/cache/UKB_genotypedatadownloaded083019.090221_sample_variant_qc_final_callrate90.filtered.extracted.bed\n",
    "genoFile=`echo /mnt/mfs/statgen/guangyou/20220314_permutation/files/genome_mega_chr{1,5,6,7,22}.bgen`\n",
    "sampleFile=~/UKBiobank_Yale_transfer/ukb39554_imputeddataset/ukb32285_imputedindiv.sample\n",
    "lmm_sos=~/working/Ghana/Reg.ipynb\n",
    "\n",
    "lmm_args=\"\"\"asso\n",
    "    --cwd $lmm_dir_regenie \n",
    "    --bfile $bfile \n",
    "    --genoFile $genoFile\n",
    "    --sampleFile $sampleFile\n",
    "    --phenoFile $phenoFile \n",
    "    --formatFile $formatFile_regenie \n",
    "    --phenoCol $phenoCol\n",
    "    --covarCol $covarCol  \n",
    "    --qCovarCol $qCovarCol\n",
    "    --bsize $bsize\n",
    "    --lowmem_dir $lowmem_dir\n",
    "    --trait $trait \n",
    "    --bgenMinMAF $bgenMinMAF \n",
    "    --bgenMinINFO $bgenMinINFO\n",
    "    --minMAC $minMAC\n",
    "    --job_size $lmm_job_size\n",
    "    --numThreads $numThreads\n",
    "    --container_lmm $container_lmm\n",
    "    --container_marp $container_marp\n",
    "\"\"\"\n",
    "\n",
    "sos run ~/working/UKBB_GWAS_dev/admin/Get_Job_Script.ipynb csg\\\n",
    "    --template-file $tpl_file \\\n",
    "    --workflow-file $lmm_sos \\\n",
    "    --to-script $lmm_sbatch_regenie \\\n",
    "    --args \"$lmm_args\"\n",
    "\n",
    "## f2247_f2257\n",
    "lmm_dir_regenie=~/project/guangyou/20220314_permutation/regenie/mega/permutation_alltraits/Combined_f2247_f2257\n",
    "lmm_sbatch_regenie=$lmm_dir_regenie/Combined_f2247_f2257_permutation-regenie_$(date +\"%Y-%m-%d\").sbatch\n",
    "phenoFile=`echo ~/project/guangyou/20220314_permutation/files/permutation/UKB_f2247_f2257_permutation.{1..200}.regenie_phenotype`\n",
    "phenoCol=f2247_f2257\n",
    "covarCol=sex\n",
    "qCovarCol=\"age PC1 PC2\"\n",
    "#Use the original bed files for the genotype array on regenie step1\n",
    "bfile=~/UKBiobank/genotype_files_processed/090221_sample_variant_qc_final_callrate90/cache/UKB_genotypedatadownloaded083019.090221_sample_variant_qc_final_callrate90.filtered.extracted.bed\n",
    "genoFile=`echo /mnt/mfs/statgen/guangyou/20220314_permutation/files/genome_mega_chr{1,5,6,7,22}.bgen`\n",
    "sampleFile=~/UKBiobank_Yale_transfer/ukb39554_imputeddataset/ukb32285_imputedindiv.sample\n",
    "lmm_sos=~/working/Ghana/Reg.ipynb\n",
    "\n",
    "lmm_args=\"\"\"asso\n",
    "    --cwd $lmm_dir_regenie \n",
    "    --bfile $bfile \n",
    "    --genoFile $genoFile\n",
    "    --sampleFile $sampleFile\n",
    "    --phenoFile $phenoFile \n",
    "    --formatFile $formatFile_regenie \n",
    "    --phenoCol $phenoCol\n",
    "    --covarCol $covarCol  \n",
    "    --qCovarCol $qCovarCol\n",
    "    --bsize $bsize\n",
    "    --lowmem_dir $lowmem_dir\n",
    "    --trait $trait \n",
    "    --bgenMinMAF $bgenMinMAF \n",
    "    --bgenMinINFO $bgenMinINFO\n",
    "    --minMAC $minMAC\n",
    "    --job_size $lmm_job_size\n",
    "    --numThreads $numThreads\n",
    "    --container_lmm $container_lmm\n",
    "    --container_marp $container_marp\n",
    "\"\"\"\n",
    "\n",
    "sos run ~/working/UKBB_GWAS_dev/admin/Get_Job_Script.ipynb csg\\\n",
    "    --template-file $tpl_file \\\n",
    "    --workflow-file $lmm_sos \\\n",
    "    --to-script $lmm_sbatch_regenie \\\n",
    "    --args \"$lmm_args\""
   ]
  },
  {
   "cell_type": "markdown",
   "id": "7b367322-435a-4ca6-9a51-b2153dfbccb5",
   "metadata": {
    "kernel": "Bash"
   },
   "source": [
    "# Permutation result analysis"
   ]
  },
  {
   "cell_type": "code",
   "execution_count": 2,
   "id": "30d8a12a-1c7d-4c2f-9c82-9cd5f714e835",
   "metadata": {
    "kernel": "R",
    "tags": []
   },
   "outputs": [
    {
     "data": {
      "text/html": [
       "<table class=\"dataframe\">\n",
       "<caption>A data.frame: 5 × 13</caption>\n",
       "<thead>\n",
       "\t<tr><th></th><th scope=col>CHROM</th><th scope=col>GENPOS</th><th scope=col>ID</th><th scope=col>ALLELE0</th><th scope=col>ALLELE1</th><th scope=col>A1FREQ</th><th scope=col>N</th><th scope=col>TEST</th><th scope=col>BETA</th><th scope=col>SE</th><th scope=col>CHISQ</th><th scope=col>LOG10P</th><th scope=col>EXTRA</th></tr>\n",
       "\t<tr><th></th><th scope=col>&lt;int&gt;</th><th scope=col>&lt;int&gt;</th><th scope=col>&lt;chr&gt;</th><th scope=col>&lt;chr&gt;</th><th scope=col>&lt;chr&gt;</th><th scope=col>&lt;dbl&gt;</th><th scope=col>&lt;int&gt;</th><th scope=col>&lt;chr&gt;</th><th scope=col>&lt;dbl&gt;</th><th scope=col>&lt;dbl&gt;</th><th scope=col>&lt;dbl&gt;</th><th scope=col>&lt;dbl&gt;</th><th scope=col>&lt;lgl&gt;</th></tr>\n",
       "</thead>\n",
       "<tbody>\n",
       "\t<tr><th scope=row>1</th><td>5</td><td>   272741</td><td>chr5:272741:A:G   </td><td>A</td><td>G</td><td>0.000537501</td><td>24186</td><td>ADD</td><td>1.39327e-07</td><td> 62.0677</td><td>5.03895e-18</td><td>7.77847e-10</td><td>NA</td></tr>\n",
       "\t<tr><th scope=row>2</th><td>5</td><td>   272748</td><td>chr5:272748:G:C   </td><td>G</td><td>C</td><td>0.000454865</td><td>24183</td><td>ADD</td><td>1.32693e-07</td><td> 67.4747</td><td>3.86734e-18</td><td>6.81445e-10</td><td>NA</td></tr>\n",
       "\t<tr><th scope=row>3</th><td>5</td><td>   272755</td><td>chr5:272755:A:G   </td><td>A</td><td>G</td><td>0.000620117</td><td>24189</td><td>ADD</td><td>7.03411e-08</td><td> 57.7888</td><td>1.48160e-18</td><td>4.21783e-10</td><td>NA</td></tr>\n",
       "\t<tr><th scope=row>4</th><td>6</td><td> 75362956</td><td>chr6:75362956:T:C </td><td>T</td><td>C</td><td>0.000103370</td><td>24185</td><td>ADD</td><td>9.74033e-07</td><td>141.4470</td><td>4.74201e-17</td><td>2.38619e-09</td><td>NA</td></tr>\n",
       "\t<tr><th scope=row>5</th><td>6</td><td>158071628</td><td>chr6:158071628:C:T</td><td>C</td><td>T</td><td>0.004547520</td><td>24189</td><td>ADD</td><td>1.59408e-07</td><td> 21.4179</td><td>5.53942e-17</td><td>2.57903e-09</td><td>NA</td></tr>\n",
       "</tbody>\n",
       "</table>\n"
      ],
      "text/latex": [
       "A data.frame: 5 × 13\n",
       "\\begin{tabular}{r|lllllllllllll}\n",
       "  & CHROM & GENPOS & ID & ALLELE0 & ALLELE1 & A1FREQ & N & TEST & BETA & SE & CHISQ & LOG10P & EXTRA\\\\\n",
       "  & <int> & <int> & <chr> & <chr> & <chr> & <dbl> & <int> & <chr> & <dbl> & <dbl> & <dbl> & <dbl> & <lgl>\\\\\n",
       "\\hline\n",
       "\t1 & 5 &    272741 & chr5:272741:A:G    & A & G & 0.000537501 & 24186 & ADD & 1.39327e-07 &  62.0677 & 5.03895e-18 & 7.77847e-10 & NA\\\\\n",
       "\t2 & 5 &    272748 & chr5:272748:G:C    & G & C & 0.000454865 & 24183 & ADD & 1.32693e-07 &  67.4747 & 3.86734e-18 & 6.81445e-10 & NA\\\\\n",
       "\t3 & 5 &    272755 & chr5:272755:A:G    & A & G & 0.000620117 & 24189 & ADD & 7.03411e-08 &  57.7888 & 1.48160e-18 & 4.21783e-10 & NA\\\\\n",
       "\t4 & 6 &  75362956 & chr6:75362956:T:C  & T & C & 0.000103370 & 24185 & ADD & 9.74033e-07 & 141.4470 & 4.74201e-17 & 2.38619e-09 & NA\\\\\n",
       "\t5 & 6 & 158071628 & chr6:158071628:C:T & C & T & 0.004547520 & 24189 & ADD & 1.59408e-07 &  21.4179 & 5.53942e-17 & 2.57903e-09 & NA\\\\\n",
       "\\end{tabular}\n"
      ],
      "text/markdown": [
       "\n",
       "A data.frame: 5 × 13\n",
       "\n",
       "| <!--/--> | CHROM &lt;int&gt; | GENPOS &lt;int&gt; | ID &lt;chr&gt; | ALLELE0 &lt;chr&gt; | ALLELE1 &lt;chr&gt; | A1FREQ &lt;dbl&gt; | N &lt;int&gt; | TEST &lt;chr&gt; | BETA &lt;dbl&gt; | SE &lt;dbl&gt; | CHISQ &lt;dbl&gt; | LOG10P &lt;dbl&gt; | EXTRA &lt;lgl&gt; |\n",
       "|---|---|---|---|---|---|---|---|---|---|---|---|---|---|\n",
       "| 1 | 5 |    272741 | chr5:272741:A:G    | A | G | 0.000537501 | 24186 | ADD | 1.39327e-07 |  62.0677 | 5.03895e-18 | 7.77847e-10 | NA |\n",
       "| 2 | 5 |    272748 | chr5:272748:G:C    | G | C | 0.000454865 | 24183 | ADD | 1.32693e-07 |  67.4747 | 3.86734e-18 | 6.81445e-10 | NA |\n",
       "| 3 | 5 |    272755 | chr5:272755:A:G    | A | G | 0.000620117 | 24189 | ADD | 7.03411e-08 |  57.7888 | 1.48160e-18 | 4.21783e-10 | NA |\n",
       "| 4 | 6 |  75362956 | chr6:75362956:T:C  | T | C | 0.000103370 | 24185 | ADD | 9.74033e-07 | 141.4470 | 4.74201e-17 | 2.38619e-09 | NA |\n",
       "| 5 | 6 | 158071628 | chr6:158071628:C:T | C | T | 0.004547520 | 24189 | ADD | 1.59408e-07 |  21.4179 | 5.53942e-17 | 2.57903e-09 | NA |\n",
       "\n"
      ],
      "text/plain": [
       "  CHROM GENPOS    ID                 ALLELE0 ALLELE1 A1FREQ      N     TEST\n",
       "1 5        272741 chr5:272741:A:G    A       G       0.000537501 24186 ADD \n",
       "2 5        272748 chr5:272748:G:C    G       C       0.000454865 24183 ADD \n",
       "3 5        272755 chr5:272755:A:G    A       G       0.000620117 24189 ADD \n",
       "4 6      75362956 chr6:75362956:T:C  T       C       0.000103370 24185 ADD \n",
       "5 6     158071628 chr6:158071628:C:T C       T       0.004547520 24189 ADD \n",
       "  BETA        SE       CHISQ       LOG10P      EXTRA\n",
       "1 1.39327e-07  62.0677 5.03895e-18 7.77847e-10 NA   \n",
       "2 1.32693e-07  67.4747 3.86734e-18 6.81445e-10 NA   \n",
       "3 7.03411e-08  57.7888 1.48160e-18 4.21783e-10 NA   \n",
       "4 9.74033e-07 141.4470 4.74201e-17 2.38619e-09 NA   \n",
       "5 1.59408e-07  21.4179 5.53942e-17 2.57903e-09 NA   "
      ]
     },
     "metadata": {},
     "output_type": "display_data"
    },
    {
     "data": {
      "text/html": [
       "<style>\n",
       ".list-inline {list-style: none; margin:0; padding: 0}\n",
       ".list-inline>li {display: inline-block}\n",
       ".list-inline>li:not(:last-child)::after {content: \"\\00b7\"; padding: 0 .5ex}\n",
       "</style>\n",
       "<ol class=list-inline><li>5</li><li>13</li></ol>\n"
      ],
      "text/latex": [
       "\\begin{enumerate*}\n",
       "\\item 5\n",
       "\\item 13\n",
       "\\end{enumerate*}\n"
      ],
      "text/markdown": [
       "1. 5\n",
       "2. 13\n",
       "\n",
       "\n"
      ],
      "text/plain": [
       "[1]  5 13"
      ]
     },
     "metadata": {},
     "output_type": "display_data"
    }
   ],
   "source": [
    "data<-read.table(gzfile(\"~/project/guangyou/20220314_permutation/regenie/discovery/permutation/f3393_hearing_aid/cache/UKB_f3393_permutation.discovery.eachtrait.1_f3393.regenie.gz\"),header=TRUE)\n",
    "head(data)\n",
    "dim(data)"
   ]
  },
  {
   "cell_type": "code",
   "execution_count": 11,
   "id": "f40f7f81-6a5f-4b33-96d6-3fe6c1c35cb5",
   "metadata": {
    "kernel": "R"
   },
   "outputs": [
    {
     "data": {
      "text/html": [
       "<table class=\"dataframe\">\n",
       "<caption>A data.frame: 6 × 6</caption>\n",
       "<thead>\n",
       "\t<tr><th></th><th scope=col>V1</th><th scope=col>V2</th><th scope=col>V3</th><th scope=col>V4</th><th scope=col>V5</th><th scope=col>V6</th></tr>\n",
       "\t<tr><th></th><th scope=col>&lt;int&gt;</th><th scope=col>&lt;chr&gt;</th><th scope=col>&lt;int&gt;</th><th scope=col>&lt;int&gt;</th><th scope=col>&lt;chr&gt;</th><th scope=col>&lt;chr&gt;</th></tr>\n",
       "</thead>\n",
       "<tbody>\n",
       "\t<tr><th scope=row>1</th><td>5</td><td>chr5:272741:A:G   </td><td>0</td><td>   272741</td><td>G</td><td>A</td></tr>\n",
       "\t<tr><th scope=row>2</th><td>5</td><td>chr5:272748:G:C   </td><td>0</td><td>   272748</td><td>C</td><td>G</td></tr>\n",
       "\t<tr><th scope=row>3</th><td>5</td><td>chr5:272755:A:G   </td><td>0</td><td>   272755</td><td>G</td><td>A</td></tr>\n",
       "\t<tr><th scope=row>4</th><td>6</td><td>chr6:75362956:T:C </td><td>0</td><td> 75362956</td><td>C</td><td>T</td></tr>\n",
       "\t<tr><th scope=row>5</th><td>6</td><td>chr6:75841299:A:G </td><td>0</td><td> 75841299</td><td>G</td><td>A</td></tr>\n",
       "\t<tr><th scope=row>6</th><td>6</td><td>chr6:158071628:C:T</td><td>0</td><td>158071628</td><td>T</td><td>C</td></tr>\n",
       "</tbody>\n",
       "</table>\n"
      ],
      "text/latex": [
       "A data.frame: 6 × 6\n",
       "\\begin{tabular}{r|llllll}\n",
       "  & V1 & V2 & V3 & V4 & V5 & V6\\\\\n",
       "  & <int> & <chr> & <int> & <int> & <chr> & <chr>\\\\\n",
       "\\hline\n",
       "\t1 & 5 & chr5:272741:A:G    & 0 &    272741 & G & A\\\\\n",
       "\t2 & 5 & chr5:272748:G:C    & 0 &    272748 & C & G\\\\\n",
       "\t3 & 5 & chr5:272755:A:G    & 0 &    272755 & G & A\\\\\n",
       "\t4 & 6 & chr6:75362956:T:C  & 0 &  75362956 & C & T\\\\\n",
       "\t5 & 6 & chr6:75841299:A:G  & 0 &  75841299 & G & A\\\\\n",
       "\t6 & 6 & chr6:158071628:C:T & 0 & 158071628 & T & C\\\\\n",
       "\\end{tabular}\n"
      ],
      "text/markdown": [
       "\n",
       "A data.frame: 6 × 6\n",
       "\n",
       "| <!--/--> | V1 &lt;int&gt; | V2 &lt;chr&gt; | V3 &lt;int&gt; | V4 &lt;int&gt; | V5 &lt;chr&gt; | V6 &lt;chr&gt; |\n",
       "|---|---|---|---|---|---|---|\n",
       "| 1 | 5 | chr5:272741:A:G    | 0 |    272741 | G | A |\n",
       "| 2 | 5 | chr5:272748:G:C    | 0 |    272748 | C | G |\n",
       "| 3 | 5 | chr5:272755:A:G    | 0 |    272755 | G | A |\n",
       "| 4 | 6 | chr6:75362956:T:C  | 0 |  75362956 | C | T |\n",
       "| 5 | 6 | chr6:75841299:A:G  | 0 |  75841299 | G | A |\n",
       "| 6 | 6 | chr6:158071628:C:T | 0 | 158071628 | T | C |\n",
       "\n"
      ],
      "text/plain": [
       "  V1 V2                 V3 V4        V5 V6\n",
       "1 5  chr5:272741:A:G    0     272741 G  A \n",
       "2 5  chr5:272748:G:C    0     272748 C  G \n",
       "3 5  chr5:272755:A:G    0     272755 G  A \n",
       "4 6  chr6:75362956:T:C  0   75362956 C  T \n",
       "5 6  chr6:75841299:A:G  0   75841299 G  A \n",
       "6 6  chr6:158071628:C:T 0  158071628 T  C "
      ]
     },
     "metadata": {},
     "output_type": "display_data"
    },
    {
     "data": {
      "text/html": [
       "<style>\n",
       ".list-inline {list-style: none; margin:0; padding: 0}\n",
       ".list-inline>li {display: inline-block}\n",
       ".list-inline>li:not(:last-child)::after {content: \"\\00b7\"; padding: 0 .5ex}\n",
       "</style>\n",
       "<ol class=list-inline><li>6</li><li>6</li></ol>\n"
      ],
      "text/latex": [
       "\\begin{enumerate*}\n",
       "\\item 6\n",
       "\\item 6\n",
       "\\end{enumerate*}\n"
      ],
      "text/markdown": [
       "1. 6\n",
       "2. 6\n",
       "\n",
       "\n"
      ],
      "text/plain": [
       "[1] 6 6"
      ]
     },
     "metadata": {},
     "output_type": "display_data"
    }
   ],
   "source": [
    "anno<-read.table(\"/mnt/mfs/statgen/guangyou/20220314_permutation/files/genome_discovery.bim\",sep=\"\\t\")\n",
    "head(anno)\n",
    "dim(anno)"
   ]
  },
  {
   "cell_type": "code",
   "execution_count": 63,
   "id": "2eb02984-ae76-4fdf-bb9b-ab863e76272b",
   "metadata": {
    "kernel": "R"
   },
   "outputs": [],
   "source": [
    "path<-\"~/project/guangyou/20220314_permutation/regenie/discovery/permutation_alltraits/f3393_hearing_aid\"\n",
    "pheno<-\"f3393\"\n",
    "tmp <- anno[,c(1,4,2)]\n",
    "colnames(tmp) <- c(\"CHROM\",\"GENPOS\",\"ID\")\n",
    "tmp2 <- anno[,c(1,4,2)]\n",
    "colnames(tmp2) <- c(\"CHROM\",\"GENPOS\",\"ID\")\n",
    "for (i in 1:200){\n",
    "    data<-read.table(gzfile(paste0(path,\"/cache/UKB_f3393_permutation.discovery.\",i,\"_\",pheno,\".regenie.gz\")),header=TRUE)\n",
    "    tmp <- merge(tmp,data[,c(\"ID\",\"CHISQ\")],by=c(\"ID\",\"ID\"),all = TRUE)\n",
    "    colnames(tmp)[i+3]<-paste0(pheno,\"_\",i)\n",
    "    tmp2 <- merge(tmp2,data[,c(\"ID\",\"LOG10P\")],by=c(\"ID\",\"ID\"),all = TRUE)\n",
    "    colnames(tmp2)[i+3]<-paste0(pheno,\"_\",i)\n",
    "    tmp2[,paste0(pheno,\"_\",i)]<-10^(-tmp2[,paste0(pheno,\"_\",i)])\n",
    "}\n",
    "write.table(tmp,paste0(path,\"/\",pheno,\".merge.regenie_chisq\"),col.names=TRUE,row.names=FALSE,sep=\"\\t\",quote=FALSE)\n",
    "write.table(tmp2,paste0(path,\"/\",pheno,\".merge.regenie_p\"),col.names=TRUE,row.names=FALSE,sep=\"\\t\",quote=FALSE)\n",
    "\n",
    "path<-\"~/project/guangyou/20220314_permutation/regenie/discovery/permutation_alltraits/f2247_hearing_difficulty\"\n",
    "pheno<-\"f2247\"\n",
    "tmp <- anno[,c(1,4,2)]\n",
    "colnames(tmp) <- c(\"CHROM\",\"GENPOS\",\"ID\")\n",
    "tmp2 <- anno[,c(1,4,2)]\n",
    "colnames(tmp2) <- c(\"CHROM\",\"GENPOS\",\"ID\")\n",
    "for (i in 1:200){\n",
    "    data<-read.table(gzfile(paste0(path,\"/cache/UKB_f2247_permutation.discovery.\",i,\"_\",pheno,\".regenie.gz\")),header=TRUE)\n",
    "    tmp <- merge(tmp,data[,c(\"ID\",\"CHISQ\")],by=c(\"ID\",\"ID\"),all = TRUE)\n",
    "    colnames(tmp)[i+3]<-paste0(pheno,\"_\",i)\n",
    "    tmp2 <- merge(tmp2,data[,c(\"ID\",\"LOG10P\")],by=c(\"ID\",\"ID\"),all = TRUE)\n",
    "    colnames(tmp2)[i+3]<-paste0(pheno,\"_\",i)\n",
    "    tmp2[,paste0(pheno,\"_\",i)]<-10^(-tmp2[,paste0(pheno,\"_\",i)])\n",
    "}\n",
    "write.table(tmp,paste0(path,\"/\",pheno,\".merge.regenie_chisq\"),col.names=TRUE,row.names=FALSE,sep=\"\\t\",quote=FALSE)\n",
    "write.table(tmp2,paste0(path,\"/\",pheno,\".merge.regenie_p\"),col.names=TRUE,row.names=FALSE,sep=\"\\t\",quote=FALSE)\n",
    "\n",
    "path<-\"~/project/guangyou/20220314_permutation/regenie/discovery/permutation_alltraits/f2257_Hearing_noise\"\n",
    "pheno<-\"f2257\"\n",
    "tmp <- anno[,c(1,4,2)]\n",
    "colnames(tmp) <- c(\"CHROM\",\"GENPOS\",\"ID\")\n",
    "tmp2 <- anno[,c(1,4,2)]\n",
    "colnames(tmp2) <- c(\"CHROM\",\"GENPOS\",\"ID\")\n",
    "for (i in 1:200){\n",
    "    data<-read.table(gzfile(paste0(path,\"/cache/UKB_f2257_permutation.discovery.\",i,\"_\",pheno,\".regenie.gz\")),header=TRUE)\n",
    "    tmp <- merge(tmp,data[,c(\"ID\",\"CHISQ\")],by=c(\"ID\",\"ID\"),all = TRUE)\n",
    "    colnames(tmp)[i+3]<-paste0(pheno,\"_\",i)\n",
    "    tmp2 <- merge(tmp2,data[,c(\"ID\",\"LOG10P\")],by=c(\"ID\",\"ID\"),all = TRUE)\n",
    "    colnames(tmp2)[i+3]<-paste0(pheno,\"_\",i)\n",
    "    tmp2[,paste0(pheno,\"_\",i)]<-10^(-tmp2[,paste0(pheno,\"_\",i)])\n",
    "}\n",
    "write.table(tmp,paste0(path,\"/\",pheno,\".merge.regenie_chisq\"),col.names=TRUE,row.names=FALSE,sep=\"\\t\",quote=FALSE)\n",
    "write.table(tmp2,paste0(path,\"/\",pheno,\".merge.regenie_p\"),col.names=TRUE,row.names=FALSE,sep=\"\\t\",quote=FALSE)\n",
    "\n",
    "path<-\"~/project/guangyou/20220314_permutation/regenie/discovery/permutation_alltraits/Combined_f2247_f2257\"\n",
    "pheno<-\"f2247_f2257\"\n",
    "tmp <- anno[,c(1,4,2)]\n",
    "colnames(tmp) <- c(\"CHROM\",\"GENPOS\",\"ID\")\n",
    "tmp2 <- anno[,c(1,4,2)]\n",
    "colnames(tmp2) <- c(\"CHROM\",\"GENPOS\",\"ID\")\n",
    "for (i in 1:200){\n",
    "    data<-read.table(gzfile(paste0(path,\"/cache/UKB_f2247_f2257_permutation.\",i,\"_\",pheno,\".regenie.gz\")),header=TRUE)\n",
    "    tmp <- merge(tmp,data[,c(\"ID\",\"CHISQ\")],by=c(\"ID\",\"ID\"),all = TRUE)\n",
    "    colnames(tmp)[i+3]<-paste0(pheno,\"_\",i)\n",
    "    tmp2 <- merge(tmp2,data[,c(\"ID\",\"LOG10P\")],by=c(\"ID\",\"ID\"),all = TRUE)\n",
    "    colnames(tmp2)[i+3]<-paste0(pheno,\"_\",i)\n",
    "    tmp2[,paste0(pheno,\"_\",i)]<-10^(-tmp2[,paste0(pheno,\"_\",i)])\n",
    "}\n",
    "write.table(tmp,paste0(path,\"/\",pheno,\".merge.regenie_chisq\"),col.names=TRUE,row.names=FALSE,sep=\"\\t\",quote=FALSE)\n",
    "write.table(tmp2,paste0(path,\"/\",pheno,\".merge.regenie_p\"),col.names=TRUE,row.names=FALSE,sep=\"\\t\",quote=FALSE)"
   ]
  },
  {
   "cell_type": "code",
   "execution_count": null,
   "id": "c8a10363-5f53-4ec4-b80c-5f2f7aa3704f",
   "metadata": {
    "kernel": "R"
   },
   "outputs": [],
   "source": [
    "path<-\"~/project/guangyou/20220314_permutation/regenie/discovery/permutation/f3393_hearing_aid\"\n",
    "pheno<-\"f3393\"\n",
    "tmp <- anno[,c(1,4,2)]\n",
    "colnames(tmp) <- c(\"CHROM\",\"GENPOS\",\"ID\")\n",
    "tmp2 <- anno[,c(1,4,2)]\n",
    "colnames(tmp2) <- c(\"CHROM\",\"GENPOS\",\"ID\")\n",
    "for (i in 1:200){\n",
    "    data<-read.table(gzfile(paste0(path,\"/cache/UKB_f3393_permutation.discovery.eachtrait.\",i,\"_\",pheno,\".regenie.gz\")),header=TRUE)\n",
    "    tmp <- merge(tmp,data[,c(\"ID\",\"CHISQ\")],by=c(\"ID\",\"ID\"),all = TRUE)\n",
    "    colnames(tmp)[i+3]<-paste0(pheno,\"_\",i)\n",
    "    tmp2 <- merge(tmp2,data[,c(\"ID\",\"LOG10P\")],by=c(\"ID\",\"ID\"),all = TRUE)\n",
    "    colnames(tmp2)[i+3]<-paste0(pheno,\"_\",i)\n",
    "    tmp2[,paste0(pheno,\"_\",i)]<-10^(-tmp2[,paste0(pheno,\"_\",i)])\n",
    "}\n",
    "write.table(tmp,paste0(path,\"/\",pheno,\".merge.regenie_chisq\"),col.names=TRUE,row.names=FALSE,sep=\"\\t\",quote=FALSE)\n",
    "write.table(tmp2,paste0(path,\"/\",pheno,\".merge.regenie_p\"),col.names=TRUE,row.names=FALSE,sep=\"\\t\",quote=FALSE)\n",
    "\n",
    "path<-\"~/project/guangyou/20220314_permutation/regenie/discovery/permutation/f2247_hearing_difficulty\"\n",
    "pheno<-\"f2247\"\n",
    "tmp <- anno[,c(1,4,2)]\n",
    "colnames(tmp) <- c(\"CHROM\",\"GENPOS\",\"ID\")\n",
    "tmp2 <- anno[,c(1,4,2)]\n",
    "colnames(tmp2) <- c(\"CHROM\",\"GENPOS\",\"ID\")\n",
    "for (i in 1:200){\n",
    "    data<-read.table(gzfile(paste0(path,\"/cache/UKB_f2247_permutation.discovery.eachtrait.\",i,\"_\",pheno,\".regenie.gz\")),header=TRUE)\n",
    "    tmp <- merge(tmp,data[,c(\"ID\",\"CHISQ\")],by=c(\"ID\",\"ID\"),all = TRUE)\n",
    "    colnames(tmp)[i+3]<-paste0(pheno,\"_\",i)\n",
    "    tmp2 <- merge(tmp2,data[,c(\"ID\",\"LOG10P\")],by=c(\"ID\",\"ID\"),all = TRUE)\n",
    "    colnames(tmp2)[i+3]<-paste0(pheno,\"_\",i)\n",
    "    tmp2[,paste0(pheno,\"_\",i)]<-10^(-tmp2[,paste0(pheno,\"_\",i)])\n",
    "}\n",
    "write.table(tmp,paste0(path,\"/\",pheno,\".merge.regenie_chisq\"),col.names=TRUE,row.names=FALSE,sep=\"\\t\",quote=FALSE)\n",
    "write.table(tmp2,paste0(path,\"/\",pheno,\".merge.regenie_p\"),col.names=TRUE,row.names=FALSE,sep=\"\\t\",quote=FALSE)\n",
    "\n",
    "path<-\"~/project/guangyou/20220314_permutation/regenie/discovery/permutation/f2257_Hearing_noise\"\n",
    "pheno<-\"f2257\"\n",
    "tmp <- anno[,c(1,4,2)]\n",
    "colnames(tmp) <- c(\"CHROM\",\"GENPOS\",\"ID\")\n",
    "tmp2 <- anno[,c(1,4,2)]\n",
    "colnames(tmp2) <- c(\"CHROM\",\"GENPOS\",\"ID\")\n",
    "for (i in 1:200){\n",
    "    data<-read.table(gzfile(paste0(path,\"/cache/UKB_f2257_permutation.discovery.eachtrait.\",i,\"_\",pheno,\".regenie.gz\")),header=TRUE)\n",
    "    tmp <- merge(tmp,data[,c(\"ID\",\"CHISQ\")],by=c(\"ID\",\"ID\"),all = TRUE)\n",
    "    colnames(tmp)[i+3]<-paste0(pheno,\"_\",i)\n",
    "    tmp2 <- merge(tmp2,data[,c(\"ID\",\"LOG10P\")],by=c(\"ID\",\"ID\"),all = TRUE)\n",
    "    colnames(tmp2)[i+3]<-paste0(pheno,\"_\",i)\n",
    "    tmp2[,paste0(pheno,\"_\",i)]<-10^(-tmp2[,paste0(pheno,\"_\",i)])\n",
    "}\n",
    "write.table(tmp,paste0(path,\"/\",pheno,\".merge.regenie_chisq\"),col.names=TRUE,row.names=FALSE,sep=\"\\t\",quote=FALSE)\n",
    "write.table(tmp2,paste0(path,\"/\",pheno,\".merge.regenie_p\"),col.names=TRUE,row.names=FALSE,sep=\"\\t\",quote=FALSE)\n",
    "\n",
    "path<-\"~/project/guangyou/20220314_permutation/regenie/discovery/permutation/Combined_f2247_f2257\"\n",
    "pheno<-\"f2247_f2257\"\n",
    "tmp <- anno[,c(1,4,2)]\n",
    "colnames(tmp) <- c(\"CHROM\",\"GENPOS\",\"ID\")\n",
    "tmp2 <- anno[,c(1,4,2)]\n",
    "colnames(tmp2) <- c(\"CHROM\",\"GENPOS\",\"ID\")\n",
    "for (i in 1:200){\n",
    "    data<-read.table(gzfile(paste0(path,\"/cache/UKB_f2247_f2257_permutation.discovery.eachtrait.\",i,\"_\",pheno,\".regenie.gz\")),header=TRUE)\n",
    "    tmp <- merge(tmp,data[,c(\"ID\",\"CHISQ\")],by=c(\"ID\",\"ID\"),all = TRUE)\n",
    "    colnames(tmp)[i+3]<-paste0(pheno,\"_\",i)\n",
    "    tmp2 <- merge(tmp2,data[,c(\"ID\",\"LOG10P\")],by=c(\"ID\",\"ID\"),all = TRUE)\n",
    "    colnames(tmp2)[i+3]<-paste0(pheno,\"_\",i)\n",
    "    tmp2[,paste0(pheno,\"_\",i)]<-10^(-tmp2[,paste0(pheno,\"_\",i)])\n",
    "}\n",
    "write.table(tmp,paste0(path,\"/\",pheno,\".merge.regenie_chisq\"),col.names=TRUE,row.names=FALSE,sep=\"\\t\",quote=FALSE)\n",
    "write.table(tmp2,paste0(path,\"/\",pheno,\".merge.regenie_p\"),col.names=TRUE,row.names=FALSE,sep=\"\\t\",quote=FALSE)"
   ]
  },
  {
   "cell_type": "code",
   "execution_count": 3,
   "id": "c7fe3cbb-6a2e-4cac-b104-ea5347f0b8ce",
   "metadata": {
    "kernel": "R"
   },
   "outputs": [],
   "source": [
    "# The origin regenie p all trait\n",
    "tmp <- anno[,c(1,4,2)]\n",
    "colnames(tmp) <- c(\"CHROM\",\"GENPOS\",\"ID\")\n",
    "file<-\"~/project/guangyou/20220314_permutation/regenie/discovery/origin/Combined_f2247_f2257/cache/genome_discovery_f2247_f2257.regenie.gz\"\n",
    "data1 <- read.table(gzfile(file),sep=\" \",header=TRUE)\n",
    "file<-\"~/project/guangyou/20220314_permutation/regenie/discovery/origin/f2247_hearing_difficulty/cache/genome_discovery_f2247.regenie.gz\"\n",
    "data2 <- read.table(gzfile(file),sep=\" \",header=TRUE)\n",
    "file<-\"~/project/guangyou/20220314_permutation/regenie/discovery/origin/f2257_Hearing_noise/cache/genome_discovery_f2257.regenie.gz\"\n",
    "data3 <- read.table(gzfile(file),sep=\" \",header=TRUE)\n",
    "file<-\"~/project/guangyou/20220314_permutation/regenie/discovery/origin/f3393_hearing_aid/cache/genome_discovery_f3393.regenie.gz\"\n",
    "data4 <- read.table(gzfile(file),sep=\" \",header=TRUE)\n",
    "\n",
    "\n",
    "tmp <- merge(tmp,data1[,c(\"ID\",\"LOG10P\")],by=c(\"ID\",\"ID\"),all.x = TRUE)\n",
    "colnames(tmp)[4]<-\"f2247_f2257\"\n",
    "tmp <- merge(tmp,data2[,c(\"ID\",\"LOG10P\")],by=c(\"ID\",\"ID\"),all.x = TRUE)\n",
    "colnames(tmp)[5]<-\"f2247\"\n",
    "tmp <- merge(tmp,data3[,c(\"ID\",\"LOG10P\")],by=c(\"ID\",\"ID\"),all.x = TRUE)\n",
    "colnames(tmp)[6]<-\"f2257\"\n",
    "tmp <- merge(tmp,data4[,c(\"ID\",\"LOG10P\")],by=c(\"ID\",\"ID\"),all.x = TRUE)\n",
    "colnames(tmp)[7]<-\"f3393\"\n",
    "\n",
    "tmp[,c(\"f2247_f2257\",\"f2247\",\"f2257\",\"f3393\")]<-10^(-tmp[,c(\"f2247_f2257\",\"f2247\",\"f2257\",\"f3393\")])\n",
    "write.table(tmp,\"~/project/guangyou/20220314_permutation/regenie/discovery/origin/genome_discovery.merged_all.regenie.origin_p\",col.names=TRUE,row.names=FALSE,sep=\"\\t\",quote=FALSE)\n",
    "\n",
    "# The origin regenie chisq\n",
    "tmp <- anno[,c(1,4,2)]\n",
    "colnames(tmp) <- c(\"CHROM\",\"GENPOS\",\"ID\")\n",
    "file<-\"~/project/guangyou/20220314_permutation/regenie/discovery/origin/Combined_f2247_f2257/cache/genome_discovery_f2247_f2257.regenie.gz\"\n",
    "data1 <- read.table(gzfile(file),sep=\" \",header=TRUE)\n",
    "file<-\"~/project/guangyou/20220314_permutation/regenie/discovery/origin/f2247_hearing_difficulty/cache/genome_discovery_f2247.regenie.gz\"\n",
    "data2 <- read.table(gzfile(file),sep=\" \",header=TRUE)\n",
    "file<-\"~/project/guangyou/20220314_permutation/regenie/discovery/origin/f2257_Hearing_noise/cache/genome_discovery_f2257.regenie.gz\"\n",
    "data3 <- read.table(gzfile(file),sep=\" \",header=TRUE)\n",
    "file<-\"~/project/guangyou/20220314_permutation/regenie/discovery/origin/f3393_hearing_aid/cache/genome_discovery_f3393.regenie.gz\"\n",
    "data4 <- read.table(gzfile(file),sep=\" \",header=TRUE)\n",
    "\n",
    "tmp <- merge(tmp,data1[,c(\"ID\",\"CHISQ\")],by=c(\"ID\",\"ID\"),all.x = TRUE)\n",
    "colnames(tmp)[4]<-\"f2247_f2257\"\n",
    "tmp <- merge(tmp,data2[,c(\"ID\",\"CHISQ\")],by=c(\"ID\",\"ID\"),all.x = TRUE)\n",
    "colnames(tmp)[5]<-\"f2247\"\n",
    "tmp <- merge(tmp,data3[,c(\"ID\",\"CHISQ\")],by=c(\"ID\",\"ID\"),all.x = TRUE)\n",
    "colnames(tmp)[6]<-\"f2257\"\n",
    "tmp <- merge(tmp,data4[,c(\"ID\",\"CHISQ\")],by=c(\"ID\",\"ID\"),all.x = TRUE)\n",
    "colnames(tmp)[7]<-\"f3393\"\n",
    "\n",
    "write.table(tmp,\"~/project/guangyou/20220314_permutation/regenie/discovery/origin/genome_discovery.merged_all.regenie.origin_chisq\",col.names=TRUE,row.names=FALSE,sep=\"\\t\",quote=FALSE)"
   ]
  },
  {
   "cell_type": "code",
   "execution_count": 35,
   "id": "d7578c47-c81f-4afc-8edf-f25ef9a42f9f",
   "metadata": {
    "kernel": "R"
   },
   "outputs": [],
   "source": [
    "# The origin regenie p per trait\n",
    "tmp <- anno[,c(1,4,2)]\n",
    "colnames(tmp) <- c(\"CHROM\",\"GENPOS\",\"ID\")\n",
    "file<-\"/home/gl2776/UKBiobank/results/REGENIE_results/results_exome_data/091421_f3393_hearing_aid_50K/090321_UKBB_Hearing_aid_f3393_expandedwhite_24189ind_50K_f3393.regenie.snp_stats_original_columns.gz\"\n",
    "data1 <- read.table(gzfile(file),sep=\"\\t\",header=TRUE)\n",
    "file<-\"~/UKBiobank/results/REGENIE_results/results_exome_data/091421_f2247_hearing_difficulty_50K/090321_UKBB_Hearing_difficulty_f2247_expandedwhite_34596ind_50K_f2247.regenie.snp_stats_original_columns.gz\"\n",
    "data2 <- read.table(gzfile(file),sep=\"\\t\",header=TRUE)\n",
    "file<-\"~/UKBiobank/results/REGENIE_results/results_exome_data/091421_f2257_hearing_noise_50K/090321_UKBB_Hearing_noise_f2257_expandedwhite_38723ind_50K_f2257.regenie.snp_stats_original_columns.gz\"\n",
    "data3 <- read.table(gzfile(file),sep=\"\\t\",header=TRUE)\n",
    "file<-\"~/UKBiobank/results/REGENIE_results/results_exome_data/091421_combined_50K/090321_UKBB_Combined_f2247_f2257_expandedwhite_32878ind_50K_f2247_f2257.regenie.snp_stats_original_columns.gz\"\n",
    "data4 <- read.table(gzfile(file),sep=\"\\t\",header=TRUE)\n",
    "tmp <- merge(tmp,data1[,c(\"ID\",\"LOG10P\")],by=c(\"ID\",\"ID\"),all.x = TRUE)\n",
    "colnames(tmp)[4]<-\"f2247_f2257\"\n",
    "tmp <- merge(tmp,data2[,c(\"ID\",\"LOG10P\")],by=c(\"ID\",\"ID\"),all.x = TRUE)\n",
    "colnames(tmp)[5]<-\"f2247\"\n",
    "tmp <- merge(tmp,data3[,c(\"ID\",\"LOG10P\")],by=c(\"ID\",\"ID\"),all.x = TRUE)\n",
    "colnames(tmp)[6]<-\"f2257\"\n",
    "tmp <- merge(tmp,data4[,c(\"ID\",\"LOG10P\")],by=c(\"ID\",\"ID\"),all.x = TRUE)\n",
    "colnames(tmp)[7]<-\"f3393\"\n",
    "\n",
    "tmp[,c(\"f2247_f2257\",\"f2247\",\"f2257\",\"f3393\")]<-10^(-tmp[,c(\"f2247_f2257\",\"f2247\",\"f2257\",\"f3393\")])\n",
    "write.table(tmp,\"~/project/guangyou/20220314_permutation/regenie/discovery/permutation/genome_discovery.merged_all.regenie.origin_p\",col.names=TRUE,row.names=FALSE,sep=\"\\t\",quote=FALSE)\n",
    "\n",
    "# The origin regenie chisq\n",
    "tmp <- anno[,c(1,4,2)]\n",
    "colnames(tmp) <- c(\"CHROM\",\"GENPOS\",\"ID\")\n",
    "file<-\"/home/gl2776/UKBiobank/results/REGENIE_results/results_exome_data/091421_f3393_hearing_aid_50K/090321_UKBB_Hearing_aid_f3393_expandedwhite_24189ind_50K_f3393.regenie.snp_stats_original_columns.gz\"\n",
    "data1 <- read.table(gzfile(file),sep=\"\\t\",header=TRUE)\n",
    "file<-\"~/UKBiobank/results/REGENIE_results/results_exome_data/091421_f2247_hearing_difficulty_50K/090321_UKBB_Hearing_difficulty_f2247_expandedwhite_34596ind_50K_f2247.regenie.snp_stats_original_columns.gz\"\n",
    "data2 <- read.table(gzfile(file),sep=\"\\t\",header=TRUE)\n",
    "file<-\"~/UKBiobank/results/REGENIE_results/results_exome_data/091421_f2257_hearing_noise_50K/090321_UKBB_Hearing_noise_f2257_expandedwhite_38723ind_50K_f2257.regenie.snp_stats_original_columns.gz\"\n",
    "data3 <- read.table(gzfile(file),sep=\"\\t\",header=TRUE)\n",
    "file<-\"~/UKBiobank/results/REGENIE_results/results_exome_data/091421_combined_50K/090321_UKBB_Combined_f2247_f2257_expandedwhite_32878ind_50K_f2247_f2257.regenie.snp_stats_original_columns.gz\"\n",
    "data4 <- read.table(gzfile(file),sep=\"\\t\",header=TRUE)\n",
    "\n",
    "tmp <- merge(tmp,data1[,c(\"ID\",\"CHISQ\")],by=c(\"ID\",\"ID\"),all.x = TRUE)\n",
    "colnames(tmp)[4]<-\"f2247_f2257\"\n",
    "tmp <- merge(tmp,data2[,c(\"ID\",\"CHISQ\")],by=c(\"ID\",\"ID\"),all.x = TRUE)\n",
    "colnames(tmp)[5]<-\"f2247\"\n",
    "tmp <- merge(tmp,data3[,c(\"ID\",\"CHISQ\")],by=c(\"ID\",\"ID\"),all.x = TRUE)\n",
    "colnames(tmp)[6]<-\"f2257\"\n",
    "tmp <- merge(tmp,data4[,c(\"ID\",\"CHISQ\")],by=c(\"ID\",\"ID\"),all.x = TRUE)\n",
    "colnames(tmp)[7]<-\"f3393\"\n",
    "\n",
    "write.table(tmp,\"~/project/guangyou/20220314_permutation/regenie/discovery/permutation/genome_discovery.merged_all.regenie.origin_chisq\",col.names=TRUE,row.names=FALSE,sep=\"\\t\",quote=FALSE)"
   ]
  },
  {
   "cell_type": "markdown",
   "id": "c4d1b7ed-3bba-40d9-a171-f909443caff1",
   "metadata": {
    "kernel": "R"
   },
   "source": [
    "## Discovery Permutation p value per SNP per trait"
   ]
  },
  {
   "cell_type": "code",
   "execution_count": 36,
   "id": "78a90f2d-ea61-46ec-beea-3524aa689ec4",
   "metadata": {
    "kernel": "R"
   },
   "outputs": [
    {
     "data": {
      "text/html": [
       "<table class=\"dataframe\">\n",
       "<caption>A data.frame: 6 × 7</caption>\n",
       "<thead>\n",
       "\t<tr><th></th><th scope=col>ID</th><th scope=col>CHROM</th><th scope=col>GENPOS</th><th scope=col>f2247_f2257</th><th scope=col>f2247</th><th scope=col>f2257</th><th scope=col>f3393</th></tr>\n",
       "\t<tr><th></th><th scope=col>&lt;chr&gt;</th><th scope=col>&lt;int&gt;</th><th scope=col>&lt;int&gt;</th><th scope=col>&lt;dbl&gt;</th><th scope=col>&lt;dbl&gt;</th><th scope=col>&lt;dbl&gt;</th><th scope=col>&lt;dbl&gt;</th></tr>\n",
       "</thead>\n",
       "<tbody>\n",
       "\t<tr><th scope=row>1</th><td>chr5:272741:A:G   </td><td>5</td><td>   272741</td><td>1.638928e-02</td><td>2.020040e-07</td><td>7.416176e-07</td><td>6.270757e-08</td></tr>\n",
       "\t<tr><th scope=row>2</th><td>chr5:272748:G:C   </td><td>5</td><td>   272748</td><td>5.727433e-02</td><td>3.422394e-06</td><td>3.695643e-05</td><td>1.277644e-06</td></tr>\n",
       "\t<tr><th scope=row>3</th><td>chr5:272755:A:G   </td><td>5</td><td>   272755</td><td>1.068218e-02</td><td>1.295329e-06</td><td>9.472399e-06</td><td>4.717153e-07</td></tr>\n",
       "\t<tr><th scope=row>4</th><td>chr6:158071628:C:T</td><td>6</td><td>158071628</td><td>5.014989e-05</td><td>3.290940e-04</td><td>3.157403e-04</td><td>2.447597e-05</td></tr>\n",
       "\t<tr><th scope=row>5</th><td>chr6:75362956:T:C </td><td>6</td><td> 75362956</td><td>1.168961e-03</td><td>9.033374e-04</td><td>1.283335e-03</td><td>5.543959e-04</td></tr>\n",
       "\t<tr><th scope=row>6</th><td>chr6:75841299:A:G </td><td>6</td><td> 75841299</td><td>          NA</td><td>4.066961e-05</td><td>1.409873e-04</td><td>4.052005e-05</td></tr>\n",
       "</tbody>\n",
       "</table>\n"
      ],
      "text/latex": [
       "A data.frame: 6 × 7\n",
       "\\begin{tabular}{r|lllllll}\n",
       "  & ID & CHROM & GENPOS & f2247\\_f2257 & f2247 & f2257 & f3393\\\\\n",
       "  & <chr> & <int> & <int> & <dbl> & <dbl> & <dbl> & <dbl>\\\\\n",
       "\\hline\n",
       "\t1 & chr5:272741:A:G    & 5 &    272741 & 1.638928e-02 & 2.020040e-07 & 7.416176e-07 & 6.270757e-08\\\\\n",
       "\t2 & chr5:272748:G:C    & 5 &    272748 & 5.727433e-02 & 3.422394e-06 & 3.695643e-05 & 1.277644e-06\\\\\n",
       "\t3 & chr5:272755:A:G    & 5 &    272755 & 1.068218e-02 & 1.295329e-06 & 9.472399e-06 & 4.717153e-07\\\\\n",
       "\t4 & chr6:158071628:C:T & 6 & 158071628 & 5.014989e-05 & 3.290940e-04 & 3.157403e-04 & 2.447597e-05\\\\\n",
       "\t5 & chr6:75362956:T:C  & 6 &  75362956 & 1.168961e-03 & 9.033374e-04 & 1.283335e-03 & 5.543959e-04\\\\\n",
       "\t6 & chr6:75841299:A:G  & 6 &  75841299 &           NA & 4.066961e-05 & 1.409873e-04 & 4.052005e-05\\\\\n",
       "\\end{tabular}\n"
      ],
      "text/markdown": [
       "\n",
       "A data.frame: 6 × 7\n",
       "\n",
       "| <!--/--> | ID &lt;chr&gt; | CHROM &lt;int&gt; | GENPOS &lt;int&gt; | f2247_f2257 &lt;dbl&gt; | f2247 &lt;dbl&gt; | f2257 &lt;dbl&gt; | f3393 &lt;dbl&gt; |\n",
       "|---|---|---|---|---|---|---|---|\n",
       "| 1 | chr5:272741:A:G    | 5 |    272741 | 1.638928e-02 | 2.020040e-07 | 7.416176e-07 | 6.270757e-08 |\n",
       "| 2 | chr5:272748:G:C    | 5 |    272748 | 5.727433e-02 | 3.422394e-06 | 3.695643e-05 | 1.277644e-06 |\n",
       "| 3 | chr5:272755:A:G    | 5 |    272755 | 1.068218e-02 | 1.295329e-06 | 9.472399e-06 | 4.717153e-07 |\n",
       "| 4 | chr6:158071628:C:T | 6 | 158071628 | 5.014989e-05 | 3.290940e-04 | 3.157403e-04 | 2.447597e-05 |\n",
       "| 5 | chr6:75362956:T:C  | 6 |  75362956 | 1.168961e-03 | 9.033374e-04 | 1.283335e-03 | 5.543959e-04 |\n",
       "| 6 | chr6:75841299:A:G  | 6 |  75841299 |           NA | 4.066961e-05 | 1.409873e-04 | 4.052005e-05 |\n",
       "\n"
      ],
      "text/plain": [
       "  ID                 CHROM GENPOS    f2247_f2257  f2247        f2257       \n",
       "1 chr5:272741:A:G    5        272741 1.638928e-02 2.020040e-07 7.416176e-07\n",
       "2 chr5:272748:G:C    5        272748 5.727433e-02 3.422394e-06 3.695643e-05\n",
       "3 chr5:272755:A:G    5        272755 1.068218e-02 1.295329e-06 9.472399e-06\n",
       "4 chr6:158071628:C:T 6     158071628 5.014989e-05 3.290940e-04 3.157403e-04\n",
       "5 chr6:75362956:T:C  6      75362956 1.168961e-03 9.033374e-04 1.283335e-03\n",
       "6 chr6:75841299:A:G  6      75841299           NA 4.066961e-05 1.409873e-04\n",
       "  f3393       \n",
       "1 6.270757e-08\n",
       "2 1.277644e-06\n",
       "3 4.717153e-07\n",
       "4 2.447597e-05\n",
       "5 5.543959e-04\n",
       "6 4.052005e-05"
      ]
     },
     "metadata": {},
     "output_type": "display_data"
    }
   ],
   "source": [
    "p <- read.table(\"~/project/guangyou/20220314_permutation/regenie/discovery/permutation/genome_discovery.merged_all.regenie.origin_p\",sep=\"\\t\",header=TRUE)\n",
    "head(p)"
   ]
  },
  {
   "cell_type": "code",
   "execution_count": 37,
   "id": "c1288682-b7db-491a-9667-854f09e17441",
   "metadata": {
    "kernel": "R"
   },
   "outputs": [
    {
     "data": {
      "text/html": [
       "<table class=\"dataframe\">\n",
       "<caption>A data.frame: 6 × 7</caption>\n",
       "<thead>\n",
       "\t<tr><th></th><th scope=col>ID</th><th scope=col>CHROM</th><th scope=col>GENPOS</th><th scope=col>f2247_f2257</th><th scope=col>f2247</th><th scope=col>f2257</th><th scope=col>f3393</th></tr>\n",
       "\t<tr><th></th><th scope=col>&lt;chr&gt;</th><th scope=col>&lt;int&gt;</th><th scope=col>&lt;int&gt;</th><th scope=col>&lt;dbl&gt;</th><th scope=col>&lt;dbl&gt;</th><th scope=col>&lt;dbl&gt;</th><th scope=col>&lt;dbl&gt;</th></tr>\n",
       "</thead>\n",
       "<tbody>\n",
       "\t<tr><th scope=row>1</th><td>chr5:272741:A:G   </td><td>5</td><td>   272741</td><td> 5.76062</td><td>27.0138</td><td>24.5038</td><td>29.2779</td></tr>\n",
       "\t<tr><th scope=row>2</th><td>chr5:272748:G:C   </td><td>5</td><td>   272748</td><td> 3.61462</td><td>21.5639</td><td>17.0216</td><td>23.4566</td></tr>\n",
       "\t<tr><th scope=row>3</th><td>chr5:272755:A:G   </td><td>5</td><td>   272755</td><td> 6.51743</td><td>23.4301</td><td>19.6150</td><td>25.3762</td></tr>\n",
       "\t<tr><th scope=row>4</th><td>chr6:158071628:C:T</td><td>6</td><td>158071628</td><td>16.44240</td><td>12.8971</td><td>12.9746</td><td>17.8048</td></tr>\n",
       "\t<tr><th scope=row>5</th><td>chr6:75362956:T:C </td><td>6</td><td> 75362956</td><td>10.53880</td><td>11.0159</td><td>10.3663</td><td>11.9232</td></tr>\n",
       "\t<tr><th scope=row>6</th><td>chr6:75841299:A:G </td><td>6</td><td> 75841299</td><td>      NA</td><td>16.8399</td><td>14.4889</td><td>16.8469</td></tr>\n",
       "</tbody>\n",
       "</table>\n"
      ],
      "text/latex": [
       "A data.frame: 6 × 7\n",
       "\\begin{tabular}{r|lllllll}\n",
       "  & ID & CHROM & GENPOS & f2247\\_f2257 & f2247 & f2257 & f3393\\\\\n",
       "  & <chr> & <int> & <int> & <dbl> & <dbl> & <dbl> & <dbl>\\\\\n",
       "\\hline\n",
       "\t1 & chr5:272741:A:G    & 5 &    272741 &  5.76062 & 27.0138 & 24.5038 & 29.2779\\\\\n",
       "\t2 & chr5:272748:G:C    & 5 &    272748 &  3.61462 & 21.5639 & 17.0216 & 23.4566\\\\\n",
       "\t3 & chr5:272755:A:G    & 5 &    272755 &  6.51743 & 23.4301 & 19.6150 & 25.3762\\\\\n",
       "\t4 & chr6:158071628:C:T & 6 & 158071628 & 16.44240 & 12.8971 & 12.9746 & 17.8048\\\\\n",
       "\t5 & chr6:75362956:T:C  & 6 &  75362956 & 10.53880 & 11.0159 & 10.3663 & 11.9232\\\\\n",
       "\t6 & chr6:75841299:A:G  & 6 &  75841299 &       NA & 16.8399 & 14.4889 & 16.8469\\\\\n",
       "\\end{tabular}\n"
      ],
      "text/markdown": [
       "\n",
       "A data.frame: 6 × 7\n",
       "\n",
       "| <!--/--> | ID &lt;chr&gt; | CHROM &lt;int&gt; | GENPOS &lt;int&gt; | f2247_f2257 &lt;dbl&gt; | f2247 &lt;dbl&gt; | f2257 &lt;dbl&gt; | f3393 &lt;dbl&gt; |\n",
       "|---|---|---|---|---|---|---|---|\n",
       "| 1 | chr5:272741:A:G    | 5 |    272741 |  5.76062 | 27.0138 | 24.5038 | 29.2779 |\n",
       "| 2 | chr5:272748:G:C    | 5 |    272748 |  3.61462 | 21.5639 | 17.0216 | 23.4566 |\n",
       "| 3 | chr5:272755:A:G    | 5 |    272755 |  6.51743 | 23.4301 | 19.6150 | 25.3762 |\n",
       "| 4 | chr6:158071628:C:T | 6 | 158071628 | 16.44240 | 12.8971 | 12.9746 | 17.8048 |\n",
       "| 5 | chr6:75362956:T:C  | 6 |  75362956 | 10.53880 | 11.0159 | 10.3663 | 11.9232 |\n",
       "| 6 | chr6:75841299:A:G  | 6 |  75841299 |       NA | 16.8399 | 14.4889 | 16.8469 |\n",
       "\n"
      ],
      "text/plain": [
       "  ID                 CHROM GENPOS    f2247_f2257 f2247   f2257   f3393  \n",
       "1 chr5:272741:A:G    5        272741  5.76062    27.0138 24.5038 29.2779\n",
       "2 chr5:272748:G:C    5        272748  3.61462    21.5639 17.0216 23.4566\n",
       "3 chr5:272755:A:G    5        272755  6.51743    23.4301 19.6150 25.3762\n",
       "4 chr6:158071628:C:T 6     158071628 16.44240    12.8971 12.9746 17.8048\n",
       "5 chr6:75362956:T:C  6      75362956 10.53880    11.0159 10.3663 11.9232\n",
       "6 chr6:75841299:A:G  6      75841299       NA    16.8399 14.4889 16.8469"
      ]
     },
     "metadata": {},
     "output_type": "display_data"
    }
   ],
   "source": [
    "data <- read.table(\"~/project/guangyou/20220314_permutation/regenie/discovery/permutation/genome_discovery.merged_all.regenie.origin_chisq\",sep=\"\\t\",header=TRUE)\n",
    "head(data)"
   ]
  },
  {
   "cell_type": "code",
   "execution_count": 38,
   "id": "3558d435-d9b4-4490-91c3-bf6b274c229d",
   "metadata": {
    "kernel": "R"
   },
   "outputs": [
    {
     "data": {
      "text/html": [
       "<table class=\"dataframe\">\n",
       "<caption>A data.frame: 6 × 203</caption>\n",
       "<thead>\n",
       "\t<tr><th></th><th scope=col>ID</th><th scope=col>CHROM</th><th scope=col>GENPOS</th><th scope=col>f3393_1</th><th scope=col>f3393_2</th><th scope=col>f3393_3</th><th scope=col>f3393_4</th><th scope=col>f3393_5</th><th scope=col>f3393_6</th><th scope=col>f3393_7</th><th scope=col>⋯</th><th scope=col>f3393_191</th><th scope=col>f3393_192</th><th scope=col>f3393_193</th><th scope=col>f3393_194</th><th scope=col>f3393_195</th><th scope=col>f3393_196</th><th scope=col>f3393_197</th><th scope=col>f3393_198</th><th scope=col>f3393_199</th><th scope=col>f3393_200</th></tr>\n",
       "\t<tr><th></th><th scope=col>&lt;chr&gt;</th><th scope=col>&lt;int&gt;</th><th scope=col>&lt;int&gt;</th><th scope=col>&lt;dbl&gt;</th><th scope=col>&lt;dbl&gt;</th><th scope=col>&lt;dbl&gt;</th><th scope=col>&lt;dbl&gt;</th><th scope=col>&lt;dbl&gt;</th><th scope=col>&lt;dbl&gt;</th><th scope=col>&lt;dbl&gt;</th><th scope=col>⋯</th><th scope=col>&lt;dbl&gt;</th><th scope=col>&lt;dbl&gt;</th><th scope=col>&lt;dbl&gt;</th><th scope=col>&lt;dbl&gt;</th><th scope=col>&lt;dbl&gt;</th><th scope=col>&lt;dbl&gt;</th><th scope=col>&lt;dbl&gt;</th><th scope=col>&lt;dbl&gt;</th><th scope=col>&lt;dbl&gt;</th><th scope=col>&lt;dbl&gt;</th></tr>\n",
       "</thead>\n",
       "<tbody>\n",
       "\t<tr><th scope=row>1</th><td>chr5:272741:A:G   </td><td>5</td><td>   272741</td><td>5.03895e-18</td><td>4.64620e-17</td><td>1.23014e-17</td><td>9.22668e-16</td><td>4.05766e-16</td><td>1.44249e-16</td><td>2.13514e-17</td><td>⋯</td><td>2.29629e-16</td><td>3.35846e-18</td><td>7.00692e-17</td><td>2.03540e-16</td><td>2.86935e-16</td><td>4.20463e-16</td><td>2.44750e-19</td><td>5.95040e-16</td><td>5.07568e-17</td><td>1.87164e-16</td></tr>\n",
       "\t<tr><th scope=row>2</th><td>chr5:272748:G:C   </td><td>5</td><td>   272748</td><td>3.86734e-18</td><td>2.15086e-18</td><td>8.74710e-18</td><td>1.03649e-15</td><td>4.28445e-16</td><td>7.77047e-17</td><td>1.96690e-17</td><td>⋯</td><td>2.93306e-16</td><td>3.16956e-18</td><td>9.45234e-17</td><td>7.00528e-17</td><td>5.98032e-16</td><td>5.25163e-16</td><td>7.11469e-20</td><td>2.70041e-16</td><td>5.20742e-17</td><td>1.02409e-16</td></tr>\n",
       "\t<tr><th scope=row>3</th><td>chr5:272755:A:G   </td><td>5</td><td>   272755</td><td>1.48160e-18</td><td>2.41208e-17</td><td>2.22079e-17</td><td>7.44846e-16</td><td>5.07657e-16</td><td>1.59149e-16</td><td>1.15505e-17</td><td>⋯</td><td>2.40996e-16</td><td>9.70819e-18</td><td>1.86999e-17</td><td>9.97489e-17</td><td>3.81783e-16</td><td>3.28369e-16</td><td>2.98294e-18</td><td>5.77132e-16</td><td>6.45274e-17</td><td>1.33661e-16</td></tr>\n",
       "\t<tr><th scope=row>4</th><td>chr6:158071628:C:T</td><td>6</td><td>158071628</td><td>5.53942e-17</td><td>3.45162e-18</td><td>2.07991e-18</td><td>2.15770e-17</td><td>3.71484e-16</td><td>1.97202e-16</td><td>4.27560e-17</td><td>⋯</td><td>1.58951e-18</td><td>1.26684e-16</td><td>3.04341e-17</td><td>7.95369e-17</td><td>4.09458e-18</td><td>2.32453e-16</td><td>5.48098e-16</td><td>3.41025e-16</td><td>2.28834e-16</td><td>1.93214e-17</td></tr>\n",
       "\t<tr><th scope=row>5</th><td>chr6:75362956:T:C </td><td>6</td><td> 75362956</td><td>4.74201e-17</td><td>5.32190e-19</td><td>4.68647e-17</td><td>7.43378e-17</td><td>4.79404e-17</td><td>4.73115e-17</td><td>4.75040e-17</td><td>⋯</td><td>1.06763e-18</td><td>1.33747e-18</td><td>7.07519e-17</td><td>3.96510e-16</td><td>4.70220e-17</td><td>2.02064e-16</td><td>1.97632e-16</td><td>7.06054e-17</td><td>8.29966e-18</td><td>4.84595e-17</td></tr>\n",
       "\t<tr><th scope=row>6</th><td>chr6:75841299:A:G </td><td>6</td><td> 75841299</td><td>         NA</td><td>         NA</td><td>         NA</td><td>         NA</td><td>         NA</td><td>         NA</td><td>         NA</td><td>⋯</td><td>         NA</td><td>         NA</td><td>         NA</td><td>         NA</td><td>         NA</td><td>         NA</td><td>         NA</td><td>         NA</td><td>         NA</td><td>         NA</td></tr>\n",
       "</tbody>\n",
       "</table>\n"
      ],
      "text/latex": [
       "A data.frame: 6 × 203\n",
       "\\begin{tabular}{r|lllllllllllllllllllll}\n",
       "  & ID & CHROM & GENPOS & f3393\\_1 & f3393\\_2 & f3393\\_3 & f3393\\_4 & f3393\\_5 & f3393\\_6 & f3393\\_7 & ⋯ & f3393\\_191 & f3393\\_192 & f3393\\_193 & f3393\\_194 & f3393\\_195 & f3393\\_196 & f3393\\_197 & f3393\\_198 & f3393\\_199 & f3393\\_200\\\\\n",
       "  & <chr> & <int> & <int> & <dbl> & <dbl> & <dbl> & <dbl> & <dbl> & <dbl> & <dbl> & ⋯ & <dbl> & <dbl> & <dbl> & <dbl> & <dbl> & <dbl> & <dbl> & <dbl> & <dbl> & <dbl>\\\\\n",
       "\\hline\n",
       "\t1 & chr5:272741:A:G    & 5 &    272741 & 5.03895e-18 & 4.64620e-17 & 1.23014e-17 & 9.22668e-16 & 4.05766e-16 & 1.44249e-16 & 2.13514e-17 & ⋯ & 2.29629e-16 & 3.35846e-18 & 7.00692e-17 & 2.03540e-16 & 2.86935e-16 & 4.20463e-16 & 2.44750e-19 & 5.95040e-16 & 5.07568e-17 & 1.87164e-16\\\\\n",
       "\t2 & chr5:272748:G:C    & 5 &    272748 & 3.86734e-18 & 2.15086e-18 & 8.74710e-18 & 1.03649e-15 & 4.28445e-16 & 7.77047e-17 & 1.96690e-17 & ⋯ & 2.93306e-16 & 3.16956e-18 & 9.45234e-17 & 7.00528e-17 & 5.98032e-16 & 5.25163e-16 & 7.11469e-20 & 2.70041e-16 & 5.20742e-17 & 1.02409e-16\\\\\n",
       "\t3 & chr5:272755:A:G    & 5 &    272755 & 1.48160e-18 & 2.41208e-17 & 2.22079e-17 & 7.44846e-16 & 5.07657e-16 & 1.59149e-16 & 1.15505e-17 & ⋯ & 2.40996e-16 & 9.70819e-18 & 1.86999e-17 & 9.97489e-17 & 3.81783e-16 & 3.28369e-16 & 2.98294e-18 & 5.77132e-16 & 6.45274e-17 & 1.33661e-16\\\\\n",
       "\t4 & chr6:158071628:C:T & 6 & 158071628 & 5.53942e-17 & 3.45162e-18 & 2.07991e-18 & 2.15770e-17 & 3.71484e-16 & 1.97202e-16 & 4.27560e-17 & ⋯ & 1.58951e-18 & 1.26684e-16 & 3.04341e-17 & 7.95369e-17 & 4.09458e-18 & 2.32453e-16 & 5.48098e-16 & 3.41025e-16 & 2.28834e-16 & 1.93214e-17\\\\\n",
       "\t5 & chr6:75362956:T:C  & 6 &  75362956 & 4.74201e-17 & 5.32190e-19 & 4.68647e-17 & 7.43378e-17 & 4.79404e-17 & 4.73115e-17 & 4.75040e-17 & ⋯ & 1.06763e-18 & 1.33747e-18 & 7.07519e-17 & 3.96510e-16 & 4.70220e-17 & 2.02064e-16 & 1.97632e-16 & 7.06054e-17 & 8.29966e-18 & 4.84595e-17\\\\\n",
       "\t6 & chr6:75841299:A:G  & 6 &  75841299 &          NA &          NA &          NA &          NA &          NA &          NA &          NA & ⋯ &          NA &          NA &          NA &          NA &          NA &          NA &          NA &          NA &          NA &          NA\\\\\n",
       "\\end{tabular}\n"
      ],
      "text/markdown": [
       "\n",
       "A data.frame: 6 × 203\n",
       "\n",
       "| <!--/--> | ID &lt;chr&gt; | CHROM &lt;int&gt; | GENPOS &lt;int&gt; | f3393_1 &lt;dbl&gt; | f3393_2 &lt;dbl&gt; | f3393_3 &lt;dbl&gt; | f3393_4 &lt;dbl&gt; | f3393_5 &lt;dbl&gt; | f3393_6 &lt;dbl&gt; | f3393_7 &lt;dbl&gt; | ⋯ ⋯ | f3393_191 &lt;dbl&gt; | f3393_192 &lt;dbl&gt; | f3393_193 &lt;dbl&gt; | f3393_194 &lt;dbl&gt; | f3393_195 &lt;dbl&gt; | f3393_196 &lt;dbl&gt; | f3393_197 &lt;dbl&gt; | f3393_198 &lt;dbl&gt; | f3393_199 &lt;dbl&gt; | f3393_200 &lt;dbl&gt; |\n",
       "|---|---|---|---|---|---|---|---|---|---|---|---|---|---|---|---|---|---|---|---|---|---|\n",
       "| 1 | chr5:272741:A:G    | 5 |    272741 | 5.03895e-18 | 4.64620e-17 | 1.23014e-17 | 9.22668e-16 | 4.05766e-16 | 1.44249e-16 | 2.13514e-17 | ⋯ | 2.29629e-16 | 3.35846e-18 | 7.00692e-17 | 2.03540e-16 | 2.86935e-16 | 4.20463e-16 | 2.44750e-19 | 5.95040e-16 | 5.07568e-17 | 1.87164e-16 |\n",
       "| 2 | chr5:272748:G:C    | 5 |    272748 | 3.86734e-18 | 2.15086e-18 | 8.74710e-18 | 1.03649e-15 | 4.28445e-16 | 7.77047e-17 | 1.96690e-17 | ⋯ | 2.93306e-16 | 3.16956e-18 | 9.45234e-17 | 7.00528e-17 | 5.98032e-16 | 5.25163e-16 | 7.11469e-20 | 2.70041e-16 | 5.20742e-17 | 1.02409e-16 |\n",
       "| 3 | chr5:272755:A:G    | 5 |    272755 | 1.48160e-18 | 2.41208e-17 | 2.22079e-17 | 7.44846e-16 | 5.07657e-16 | 1.59149e-16 | 1.15505e-17 | ⋯ | 2.40996e-16 | 9.70819e-18 | 1.86999e-17 | 9.97489e-17 | 3.81783e-16 | 3.28369e-16 | 2.98294e-18 | 5.77132e-16 | 6.45274e-17 | 1.33661e-16 |\n",
       "| 4 | chr6:158071628:C:T | 6 | 158071628 | 5.53942e-17 | 3.45162e-18 | 2.07991e-18 | 2.15770e-17 | 3.71484e-16 | 1.97202e-16 | 4.27560e-17 | ⋯ | 1.58951e-18 | 1.26684e-16 | 3.04341e-17 | 7.95369e-17 | 4.09458e-18 | 2.32453e-16 | 5.48098e-16 | 3.41025e-16 | 2.28834e-16 | 1.93214e-17 |\n",
       "| 5 | chr6:75362956:T:C  | 6 |  75362956 | 4.74201e-17 | 5.32190e-19 | 4.68647e-17 | 7.43378e-17 | 4.79404e-17 | 4.73115e-17 | 4.75040e-17 | ⋯ | 1.06763e-18 | 1.33747e-18 | 7.07519e-17 | 3.96510e-16 | 4.70220e-17 | 2.02064e-16 | 1.97632e-16 | 7.06054e-17 | 8.29966e-18 | 4.84595e-17 |\n",
       "| 6 | chr6:75841299:A:G  | 6 |  75841299 |          NA |          NA |          NA |          NA |          NA |          NA |          NA | ⋯ |          NA |          NA |          NA |          NA |          NA |          NA |          NA |          NA |          NA |          NA |\n",
       "\n"
      ],
      "text/plain": [
       "  ID                 CHROM GENPOS    f3393_1     f3393_2     f3393_3    \n",
       "1 chr5:272741:A:G    5        272741 5.03895e-18 4.64620e-17 1.23014e-17\n",
       "2 chr5:272748:G:C    5        272748 3.86734e-18 2.15086e-18 8.74710e-18\n",
       "3 chr5:272755:A:G    5        272755 1.48160e-18 2.41208e-17 2.22079e-17\n",
       "4 chr6:158071628:C:T 6     158071628 5.53942e-17 3.45162e-18 2.07991e-18\n",
       "5 chr6:75362956:T:C  6      75362956 4.74201e-17 5.32190e-19 4.68647e-17\n",
       "6 chr6:75841299:A:G  6      75841299          NA          NA          NA\n",
       "  f3393_4     f3393_5     f3393_6     f3393_7     ⋯ f3393_191   f3393_192  \n",
       "1 9.22668e-16 4.05766e-16 1.44249e-16 2.13514e-17 ⋯ 2.29629e-16 3.35846e-18\n",
       "2 1.03649e-15 4.28445e-16 7.77047e-17 1.96690e-17 ⋯ 2.93306e-16 3.16956e-18\n",
       "3 7.44846e-16 5.07657e-16 1.59149e-16 1.15505e-17 ⋯ 2.40996e-16 9.70819e-18\n",
       "4 2.15770e-17 3.71484e-16 1.97202e-16 4.27560e-17 ⋯ 1.58951e-18 1.26684e-16\n",
       "5 7.43378e-17 4.79404e-17 4.73115e-17 4.75040e-17 ⋯ 1.06763e-18 1.33747e-18\n",
       "6          NA          NA          NA          NA ⋯          NA          NA\n",
       "  f3393_193   f3393_194   f3393_195   f3393_196   f3393_197   f3393_198  \n",
       "1 7.00692e-17 2.03540e-16 2.86935e-16 4.20463e-16 2.44750e-19 5.95040e-16\n",
       "2 9.45234e-17 7.00528e-17 5.98032e-16 5.25163e-16 7.11469e-20 2.70041e-16\n",
       "3 1.86999e-17 9.97489e-17 3.81783e-16 3.28369e-16 2.98294e-18 5.77132e-16\n",
       "4 3.04341e-17 7.95369e-17 4.09458e-18 2.32453e-16 5.48098e-16 3.41025e-16\n",
       "5 7.07519e-17 3.96510e-16 4.70220e-17 2.02064e-16 1.97632e-16 7.06054e-17\n",
       "6          NA          NA          NA          NA          NA          NA\n",
       "  f3393_199   f3393_200  \n",
       "1 5.07568e-17 1.87164e-16\n",
       "2 5.20742e-17 1.02409e-16\n",
       "3 6.45274e-17 1.33661e-16\n",
       "4 2.28834e-16 1.93214e-17\n",
       "5 8.29966e-18 4.84595e-17\n",
       "6          NA          NA"
      ]
     },
     "metadata": {},
     "output_type": "display_data"
    }
   ],
   "source": [
    "chi <- read.table(\"~/project/guangyou/20220314_permutation/regenie/discovery/permutation/f3393_hearing_aid/f3393.merge.regenie_chisq\",sep=\"\\t\",header=TRUE)\n",
    "head(chi)"
   ]
  },
  {
   "cell_type": "code",
   "execution_count": 39,
   "id": "4be87955-e337-4264-93b5-9219e0758a8d",
   "metadata": {
    "kernel": "R"
   },
   "outputs": [
    {
     "data": {
      "text/html": [
       "<table class=\"dataframe\">\n",
       "<caption>A matrix: 5 × 5</caption>\n",
       "<thead>\n",
       "\t<tr><th scope=col>ID</th><th scope=col>CHROM</th><th scope=col>GENPOS</th><th scope=col>original p</th><th scope=col>permuted p</th></tr>\n",
       "\t<tr><th scope=col>&lt;chr&gt;</th><th scope=col>&lt;chr&gt;</th><th scope=col>&lt;chr&gt;</th><th scope=col>&lt;chr&gt;</th><th scope=col>&lt;chr&gt;</th><th scope=col>&lt;int&gt;</th><th scope=col>&lt;int&gt;</th><th scope=col>&lt;int&gt;</th><th scope=col>&lt;int&gt;</th><th scope=col>&lt;int&gt;</th><th scope=col>⋯</th><th scope=col>&lt;dbl&gt;</th><th scope=col>&lt;dbl&gt;</th><th scope=col>&lt;dbl&gt;</th><th scope=col>&lt;dbl&gt;</th><th scope=col>&lt;dbl&gt;</th><th scope=col>&lt;dbl&gt;</th><th scope=col>&lt;dbl&gt;</th><th scope=col>&lt;dbl&gt;</th><th scope=col>&lt;dbl&gt;</th><th scope=col>&lt;dbl&gt;</th></tr>\n",
       "</thead>\n",
       "<tbody>\n",
       "\t<tr><td>chr5:272741:A:G</td><td>5</td><td>272741</td><td>6.27068e-08</td><td>0</td></tr>\n",
       "\t<tr><td>chr5:272748:G:C</td><td>5</td><td>272748</td><td>1.277637e-06</td><td>0</td></tr>\n",
       "\t<tr><td>chr5:272755:A:G</td><td>5</td><td>272755</td><td>4.71702e-07</td><td>0</td></tr>\n",
       "\t<tr><td>chr6:158071628:C:T</td><td>6</td><td>158071628</td><td>2.44765e-05</td><td>0</td></tr>\n",
       "\t<tr><td>chr6:75362956:T:C</td><td>6</td><td>75362956</td><td>0.0005543917</td><td>0</td></tr>\n",
       "</tbody>\n",
       "</table>\n"
      ],
      "text/latex": [
       "A matrix: 5 × 5\n",
       "\\begin{tabular}{lllll}\n",
       " ID & CHROM & GENPOS & original p & permuted p\\\\\n",
       " <chr> & <chr> & <chr> & <chr> & <chr> & <int> & <int> & <int> & <int> & <int> & ⋯ & <dbl> & <dbl> & <dbl> & <dbl> & <dbl> & <dbl> & <dbl> & <dbl> & <dbl> & <dbl>\\\\\n",
       "\\hline\n",
       "\t chr5:272741:A:G & 5 & 272741 & 6.27068e-08 & 0\\\\\n",
       "\t chr5:272748:G:C & 5 & 272748 & 1.277637e-06 & 0\\\\\n",
       "\t chr5:272755:A:G & 5 & 272755 & 4.71702e-07 & 0\\\\\n",
       "\t chr6:158071628:C:T & 6 & 158071628 & 2.44765e-05 & 0\\\\\n",
       "\t chr6:75362956:T:C & 6 & 75362956 & 0.0005543917 & 0\\\\\n",
       "\\end{tabular}\n"
      ],
      "text/markdown": [
       "\n",
       "A matrix: 5 × 5\n",
       "\n",
       "| ID &lt;chr&gt; | CHROM &lt;chr&gt; | GENPOS &lt;chr&gt; | original p &lt;chr&gt; | permuted p &lt;chr&gt; | ID &lt;int&gt; | CHROM &lt;int&gt; | GENPOS &lt;int&gt; | original p &lt;int&gt; | permuted p &lt;int&gt; | ID ⋯ | CHROM &lt;dbl&gt; | GENPOS &lt;dbl&gt; | original p &lt;dbl&gt; | permuted p &lt;dbl&gt; | ID &lt;dbl&gt; | CHROM &lt;dbl&gt; | GENPOS &lt;dbl&gt; | original p &lt;dbl&gt; | permuted p &lt;dbl&gt; | ID &lt;dbl&gt; |\n",
       "|---|---|---|---|---|\n",
       "| chr5:272741:A:G | 5 | 272741 | 6.27068e-08 | 0 |\n",
       "| chr5:272748:G:C | 5 | 272748 | 1.277637e-06 | 0 |\n",
       "| chr5:272755:A:G | 5 | 272755 | 4.71702e-07 | 0 |\n",
       "| chr6:158071628:C:T | 6 | 158071628 | 2.44765e-05 | 0 |\n",
       "| chr6:75362956:T:C | 6 | 75362956 | 0.0005543917 | 0 |\n",
       "\n"
      ],
      "text/plain": [
       "     ID                 CHROM GENPOS    original p   permuted p\n",
       "[1,] chr5:272741:A:G    5     272741    6.27068e-08  0         \n",
       "[2,] chr5:272748:G:C    5     272748    1.277637e-06 0         \n",
       "[3,] chr5:272755:A:G    5     272755    4.71702e-07  0         \n",
       "[4,] chr6:158071628:C:T 6     158071628 2.44765e-05  0         \n",
       "[5,] chr6:75362956:T:C  6     75362956  0.0005543917 0         "
      ]
     },
     "metadata": {},
     "output_type": "display_data"
    },
    {
     "data": {
      "image/png": "[encoded data removed]",
      "text/plain": [
       "Plot with title “Histogram of as.numeric(result[, \"permuted p\"])”"
      ]
     },
     "metadata": {
      "image/png": {
       "height": 420,
       "width": 420
      }
     },
     "output_type": "display_data"
    }
   ],
   "source": [
    "pheno=\"f3393\"\n",
    "result<-c()\n",
    "for(i in 1:nrow(chi)){\n",
    "    if ((sum(!is.na(chi[i,-c(1:3)]))!=0) & (!is.na(data[i,pheno]))){\n",
    "        po<-sum(chi[i,-c(1:3)]>=data[i,pheno],na.rm=TRUE)/sum(!is.na(chi[i,-c(1:3)]))\n",
    "        result<-rbind(result,c(chi[i,1:3],pchisq(data[i,pheno],1,lower.tail=FALSE),po))  \n",
    "    }\n",
    "}\n",
    "colnames(result)<-c(\"ID\",\"CHROM\",\"GENPOS\",\"original p\",\"permuted p\")\n",
    "head(result)\n",
    "hist(as.numeric(result[,\"permuted p\"]))"
   ]
  },
  {
   "cell_type": "code",
   "execution_count": 40,
   "id": "c3cef21f-e207-43f7-aff2-a7781652045a",
   "metadata": {
    "kernel": "R"
   },
   "outputs": [],
   "source": [
    "write.table(result,\"~/project/guangyou/20220314_permutation/regenie/discovery/permutation/f3393_hearing_aid/f3393_per_snp_pvalue.txt\",col.names=TRUE,row.names=FALSE,sep=\"\\t\",quote=FALSE)"
   ]
  },
  {
   "cell_type": "code",
   "execution_count": 41,
   "id": "1ba51836-5aaf-46c4-b03b-3607900e2afb",
   "metadata": {
    "kernel": "R"
   },
   "outputs": [
    {
     "data": {
      "text/html": [
       "<table class=\"dataframe\">\n",
       "<caption>A matrix: 6 × 5</caption>\n",
       "<thead>\n",
       "\t<tr><th scope=col>ID</th><th scope=col>CHROM</th><th scope=col>GENPOS</th><th scope=col>original p</th><th scope=col>permuted p</th></tr>\n",
       "\t<tr><th scope=col>&lt;chr&gt;</th><th scope=col>&lt;chr&gt;</th><th scope=col>&lt;chr&gt;</th><th scope=col>&lt;chr&gt;</th><th scope=col>&lt;chr&gt;</th><th scope=col>&lt;chr&gt;</th><th scope=col>&lt;int&gt;</th><th scope=col>&lt;int&gt;</th><th scope=col>&lt;int&gt;</th><th scope=col>&lt;int&gt;</th><th scope=col>⋯</th><th scope=col>&lt;dbl&gt;</th><th scope=col>&lt;dbl&gt;</th><th scope=col>&lt;dbl&gt;</th><th scope=col>&lt;dbl&gt;</th><th scope=col>&lt;dbl&gt;</th><th scope=col>&lt;dbl&gt;</th><th scope=col>&lt;dbl&gt;</th><th scope=col>&lt;dbl&gt;</th><th scope=col>&lt;dbl&gt;</th><th scope=col>&lt;dbl&gt;</th></tr>\n",
       "</thead>\n",
       "<tbody>\n",
       "\t<tr><td>chr5:272741:A:G</td><td>5</td><td>272741</td><td>3.018332e-08</td><td>0</td></tr>\n",
       "\t<tr><td>chr5:272748:G:C</td><td>5</td><td>272748</td><td>3.709473e-08</td><td>0</td></tr>\n",
       "\t<tr><td>chr5:272755:A:G</td><td>5</td><td>272755</td><td>4.192935e-08</td><td>0</td></tr>\n",
       "\t<tr><td>chr6:158071628:C:T</td><td>6</td><td>158071628</td><td>2.78676e-08</td><td>0</td></tr>\n",
       "\t<tr><td>chr6:75362956:T:C</td><td>6</td><td>75362956</td><td>7.148785e-09</td><td>0</td></tr>\n",
       "\t<tr><td>chr6:75841299:A:G</td><td>6</td><td>75841299</td><td>1.596349e-09</td><td>0</td></tr>\n",
       "</tbody>\n",
       "</table>\n"
      ],
      "text/latex": [
       "A matrix: 6 × 5\n",
       "\\begin{tabular}{lllll}\n",
       " ID & CHROM & GENPOS & original p & permuted p\\\\\n",
       " <chr> & <chr> & <chr> & <chr> & <chr> & <chr> & <int> & <int> & <int> & <int> & ⋯ & <dbl> & <dbl> & <dbl> & <dbl> & <dbl> & <dbl> & <dbl> & <dbl> & <dbl> & <dbl>\\\\\n",
       "\\hline\n",
       "\t chr5:272741:A:G & 5 & 272741 & 3.018332e-08 & 0\\\\\n",
       "\t chr5:272748:G:C & 5 & 272748 & 3.709473e-08 & 0\\\\\n",
       "\t chr5:272755:A:G & 5 & 272755 & 4.192935e-08 & 0\\\\\n",
       "\t chr6:158071628:C:T & 6 & 158071628 & 2.78676e-08 & 0\\\\\n",
       "\t chr6:75362956:T:C & 6 & 75362956 & 7.148785e-09 & 0\\\\\n",
       "\t chr6:75841299:A:G & 6 & 75841299 & 1.596349e-09 & 0\\\\\n",
       "\\end{tabular}\n"
      ],
      "text/markdown": [
       "\n",
       "A matrix: 6 × 5\n",
       "\n",
       "| ID &lt;chr&gt; | CHROM &lt;chr&gt; | GENPOS &lt;chr&gt; | original p &lt;chr&gt; | permuted p &lt;chr&gt; | ID &lt;chr&gt; | CHROM &lt;int&gt; | GENPOS &lt;int&gt; | original p &lt;int&gt; | permuted p &lt;int&gt; | ID ⋯ | CHROM &lt;dbl&gt; | GENPOS &lt;dbl&gt; | original p &lt;dbl&gt; | permuted p &lt;dbl&gt; | ID &lt;dbl&gt; | CHROM &lt;dbl&gt; | GENPOS &lt;dbl&gt; | original p &lt;dbl&gt; | permuted p &lt;dbl&gt; | ID &lt;dbl&gt; |\n",
       "|---|---|---|---|---|\n",
       "| chr5:272741:A:G | 5 | 272741 | 3.018332e-08 | 0 |\n",
       "| chr5:272748:G:C | 5 | 272748 | 3.709473e-08 | 0 |\n",
       "| chr5:272755:A:G | 5 | 272755 | 4.192935e-08 | 0 |\n",
       "| chr6:158071628:C:T | 6 | 158071628 | 2.78676e-08 | 0 |\n",
       "| chr6:75362956:T:C | 6 | 75362956 | 7.148785e-09 | 0 |\n",
       "| chr6:75841299:A:G | 6 | 75841299 | 1.596349e-09 | 0 |\n",
       "\n"
      ],
      "text/plain": [
       "     ID                 CHROM GENPOS    original p   permuted p\n",
       "[1,] chr5:272741:A:G    5     272741    3.018332e-08 0         \n",
       "[2,] chr5:272748:G:C    5     272748    3.709473e-08 0         \n",
       "[3,] chr5:272755:A:G    5     272755    4.192935e-08 0         \n",
       "[4,] chr6:158071628:C:T 6     158071628 2.78676e-08  0         \n",
       "[5,] chr6:75362956:T:C  6     75362956  7.148785e-09 0         \n",
       "[6,] chr6:75841299:A:G  6     75841299  1.596349e-09 0         "
      ]
     },
     "metadata": {},
     "output_type": "display_data"
    }
   ],
   "source": [
    "data <- read.table(\"~/project/guangyou/20220314_permutation/regenie/discovery/origin/genome_discovery_mega.merged_all.regenie.origin_chisq\",sep=\"\\t\",header=TRUE)\n",
    "chi <- read.table(\"~/project/guangyou/20220314_permutation/regenie/discovery/permutation/f2247_hearing_difficulty/f2247.merge.regenie_chisq\",sep=\"\\t\",header=TRUE)\n",
    "pheno=\"f2247\"\n",
    "result<-c()\n",
    "for(i in 1:nrow(chi)){\n",
    "    if ((sum(!is.na(chi[i,-c(1:3)]))!=0) & (!is.na(data[i,pheno]))){\n",
    "        po<-sum(chi[i,-c(1:3)]>=data[i,pheno],na.rm=TRUE)/sum(!is.na(chi[i,-c(1:3)]))\n",
    "        result<-rbind(result,c(chi[i,1:3],pchisq(data[i,pheno],1,lower.tail=FALSE),po))  \n",
    "    }\n",
    "}\n",
    "colnames(result)<-c(\"ID\",\"CHROM\",\"GENPOS\",\"original p\",\"permuted p\")\n",
    "write.table(result,\"~/project/guangyou/20220314_permutation/regenie/discovery/permutation/f2247_hearing_difficulty/f2247_per_snp_pvalue.txt\",col.names=TRUE,row.names=FALSE,sep=\"\\t\",quote=FALSE)\n",
    "result"
   ]
  },
  {
   "cell_type": "code",
   "execution_count": 42,
   "id": "21f8108e-6aa5-402a-b86d-fad26378eb55",
   "metadata": {
    "kernel": "R"
   },
   "outputs": [
    {
     "data": {
      "text/html": [
       "<table class=\"dataframe\">\n",
       "<caption>A matrix: 6 × 5</caption>\n",
       "<thead>\n",
       "\t<tr><th scope=col>ID</th><th scope=col>CHROM</th><th scope=col>GENPOS</th><th scope=col>original p</th><th scope=col>permuted p</th></tr>\n",
       "\t<tr><th scope=col>&lt;chr&gt;</th><th scope=col>&lt;chr&gt;</th><th scope=col>&lt;chr&gt;</th><th scope=col>&lt;chr&gt;</th><th scope=col>&lt;chr&gt;</th><th scope=col>&lt;chr&gt;</th><th scope=col>&lt;int&gt;</th><th scope=col>&lt;int&gt;</th><th scope=col>&lt;int&gt;</th><th scope=col>&lt;int&gt;</th><th scope=col>⋯</th><th scope=col>&lt;dbl&gt;</th><th scope=col>&lt;dbl&gt;</th><th scope=col>&lt;dbl&gt;</th><th scope=col>&lt;dbl&gt;</th><th scope=col>&lt;dbl&gt;</th><th scope=col>&lt;dbl&gt;</th><th scope=col>&lt;dbl&gt;</th><th scope=col>&lt;dbl&gt;</th><th scope=col>&lt;dbl&gt;</th><th scope=col>&lt;dbl&gt;</th></tr>\n",
       "</thead>\n",
       "<tbody>\n",
       "\t<tr><td>chr5:272741:A:G</td><td>5</td><td>272741</td><td>4.037839e-06</td><td>0</td></tr>\n",
       "\t<tr><td>chr5:272748:G:C</td><td>5</td><td>272748</td><td>7.361505e-07</td><td>0</td></tr>\n",
       "\t<tr><td>chr5:272755:A:G</td><td>5</td><td>272755</td><td>9.970576e-07</td><td>0</td></tr>\n",
       "\t<tr><td>chr6:158071628:C:T</td><td>6</td><td>158071628</td><td>2.509312e-07</td><td>0</td></tr>\n",
       "\t<tr><td>chr6:75362956:T:C</td><td>6</td><td>75362956</td><td>7.194546e-06</td><td>0</td></tr>\n",
       "\t<tr><td>chr6:75841299:A:G</td><td>6</td><td>75841299</td><td>0.0008269714</td><td>0</td></tr>\n",
       "</tbody>\n",
       "</table>\n"
      ],
      "text/latex": [
       "A matrix: 6 × 5\n",
       "\\begin{tabular}{lllll}\n",
       " ID & CHROM & GENPOS & original p & permuted p\\\\\n",
       " <chr> & <chr> & <chr> & <chr> & <chr> & <chr> & <int> & <int> & <int> & <int> & ⋯ & <dbl> & <dbl> & <dbl> & <dbl> & <dbl> & <dbl> & <dbl> & <dbl> & <dbl> & <dbl>\\\\\n",
       "\\hline\n",
       "\t chr5:272741:A:G & 5 & 272741 & 4.037839e-06 & 0\\\\\n",
       "\t chr5:272748:G:C & 5 & 272748 & 7.361505e-07 & 0\\\\\n",
       "\t chr5:272755:A:G & 5 & 272755 & 9.970576e-07 & 0\\\\\n",
       "\t chr6:158071628:C:T & 6 & 158071628 & 2.509312e-07 & 0\\\\\n",
       "\t chr6:75362956:T:C & 6 & 75362956 & 7.194546e-06 & 0\\\\\n",
       "\t chr6:75841299:A:G & 6 & 75841299 & 0.0008269714 & 0\\\\\n",
       "\\end{tabular}\n"
      ],
      "text/markdown": [
       "\n",
       "A matrix: 6 × 5\n",
       "\n",
       "| ID &lt;chr&gt; | CHROM &lt;chr&gt; | GENPOS &lt;chr&gt; | original p &lt;chr&gt; | permuted p &lt;chr&gt; | ID &lt;chr&gt; | CHROM &lt;int&gt; | GENPOS &lt;int&gt; | original p &lt;int&gt; | permuted p &lt;int&gt; | ID ⋯ | CHROM &lt;dbl&gt; | GENPOS &lt;dbl&gt; | original p &lt;dbl&gt; | permuted p &lt;dbl&gt; | ID &lt;dbl&gt; | CHROM &lt;dbl&gt; | GENPOS &lt;dbl&gt; | original p &lt;dbl&gt; | permuted p &lt;dbl&gt; | ID &lt;dbl&gt; |\n",
       "|---|---|---|---|---|\n",
       "| chr5:272741:A:G | 5 | 272741 | 4.037839e-06 | 0 |\n",
       "| chr5:272748:G:C | 5 | 272748 | 7.361505e-07 | 0 |\n",
       "| chr5:272755:A:G | 5 | 272755 | 9.970576e-07 | 0 |\n",
       "| chr6:158071628:C:T | 6 | 158071628 | 2.509312e-07 | 0 |\n",
       "| chr6:75362956:T:C | 6 | 75362956 | 7.194546e-06 | 0 |\n",
       "| chr6:75841299:A:G | 6 | 75841299 | 0.0008269714 | 0 |\n",
       "\n"
      ],
      "text/plain": [
       "     ID                 CHROM GENPOS    original p   permuted p\n",
       "[1,] chr5:272741:A:G    5     272741    4.037839e-06 0         \n",
       "[2,] chr5:272748:G:C    5     272748    7.361505e-07 0         \n",
       "[3,] chr5:272755:A:G    5     272755    9.970576e-07 0         \n",
       "[4,] chr6:158071628:C:T 6     158071628 2.509312e-07 0         \n",
       "[5,] chr6:75362956:T:C  6     75362956  7.194546e-06 0         \n",
       "[6,] chr6:75841299:A:G  6     75841299  0.0008269714 0         "
      ]
     },
     "metadata": {},
     "output_type": "display_data"
    }
   ],
   "source": [
    "data <- read.table(\"~/project/guangyou/20220314_permutation/regenie/discovery/origin/genome_discovery_mega.merged_all.regenie.origin_chisq\",sep=\"\\t\",header=TRUE)\n",
    "chi <- read.table(\"~/project/guangyou/20220314_permutation/regenie/discovery/permutation/f2257_Hearing_noise/f2257.merge.regenie_chisq\",sep=\"\\t\",header=TRUE)\n",
    "pheno=\"f2257\"\n",
    "result<-c()\n",
    "for(i in 1:nrow(chi)){\n",
    "    if ((sum(!is.na(chi[i,-c(1:3)]))!=0) & (!is.na(data[i,pheno]))){\n",
    "        po<-sum(chi[i,-c(1:3)]>=data[i,pheno],na.rm=TRUE)/sum(!is.na(chi[i,-c(1:3)]))\n",
    "        result<-rbind(result,c(chi[i,1:3],pchisq(data[i,pheno],1,lower.tail=FALSE),po))  \n",
    "    }\n",
    "}\n",
    "colnames(result)<-c(\"ID\",\"CHROM\",\"GENPOS\",\"original p\",\"permuted p\")\n",
    "write.table(result,\"~/project/guangyou/20220314_permutation/regenie/discovery/permutation/f2257_Hearing_noise/f2257_per_snp_pvalue.txt\",col.names=TRUE,row.names=FALSE,sep=\"\\t\",quote=FALSE)\n",
    "result"
   ]
  },
  {
   "cell_type": "code",
   "execution_count": 43,
   "id": "65bffeb4-d1a2-499d-9a11-a81b8835b06b",
   "metadata": {
    "kernel": "R"
   },
   "outputs": [
    {
     "data": {
      "text/html": [
       "<table class=\"dataframe\">\n",
       "<caption>A matrix: 6 × 5</caption>\n",
       "<thead>\n",
       "\t<tr><th scope=col>ID</th><th scope=col>CHROM</th><th scope=col>GENPOS</th><th scope=col>original p</th><th scope=col>permuted p</th></tr>\n",
       "\t<tr><th scope=col>&lt;chr&gt;</th><th scope=col>&lt;chr&gt;</th><th scope=col>&lt;chr&gt;</th><th scope=col>&lt;chr&gt;</th><th scope=col>&lt;chr&gt;</th><th scope=col>&lt;chr&gt;</th><th scope=col>&lt;int&gt;</th><th scope=col>&lt;int&gt;</th><th scope=col>&lt;int&gt;</th><th scope=col>&lt;int&gt;</th><th scope=col>⋯</th><th scope=col>&lt;dbl&gt;</th><th scope=col>&lt;dbl&gt;</th><th scope=col>&lt;dbl&gt;</th><th scope=col>&lt;dbl&gt;</th><th scope=col>&lt;dbl&gt;</th><th scope=col>&lt;dbl&gt;</th><th scope=col>&lt;dbl&gt;</th><th scope=col>&lt;dbl&gt;</th><th scope=col>&lt;dbl&gt;</th><th scope=col>&lt;dbl&gt;</th></tr>\n",
       "</thead>\n",
       "<tbody>\n",
       "\t<tr><td>chr5:272741:A:G</td><td>5</td><td>272741</td><td>6.918192e-08</td><td>0</td></tr>\n",
       "\t<tr><td>chr5:272748:G:C</td><td>5</td><td>272748</td><td>3.207594e-08</td><td>0</td></tr>\n",
       "\t<tr><td>chr5:272755:A:G</td><td>5</td><td>272755</td><td>5.465032e-08</td><td>0</td></tr>\n",
       "\t<tr><td>chr6:158071628:C:T</td><td>6</td><td>158071628</td><td>2.061766e-08</td><td>0</td></tr>\n",
       "\t<tr><td>chr6:75362956:T:C</td><td>6</td><td>75362956</td><td>1.195048e-07</td><td>0</td></tr>\n",
       "\t<tr><td>chr6:75841299:A:G</td><td>6</td><td>75841299</td><td>7.967612e-09</td><td>0</td></tr>\n",
       "</tbody>\n",
       "</table>\n"
      ],
      "text/latex": [
       "A matrix: 6 × 5\n",
       "\\begin{tabular}{lllll}\n",
       " ID & CHROM & GENPOS & original p & permuted p\\\\\n",
       " <chr> & <chr> & <chr> & <chr> & <chr> & <chr> & <int> & <int> & <int> & <int> & ⋯ & <dbl> & <dbl> & <dbl> & <dbl> & <dbl> & <dbl> & <dbl> & <dbl> & <dbl> & <dbl>\\\\\n",
       "\\hline\n",
       "\t chr5:272741:A:G & 5 & 272741 & 6.918192e-08 & 0\\\\\n",
       "\t chr5:272748:G:C & 5 & 272748 & 3.207594e-08 & 0\\\\\n",
       "\t chr5:272755:A:G & 5 & 272755 & 5.465032e-08 & 0\\\\\n",
       "\t chr6:158071628:C:T & 6 & 158071628 & 2.061766e-08 & 0\\\\\n",
       "\t chr6:75362956:T:C & 6 & 75362956 & 1.195048e-07 & 0\\\\\n",
       "\t chr6:75841299:A:G & 6 & 75841299 & 7.967612e-09 & 0\\\\\n",
       "\\end{tabular}\n"
      ],
      "text/markdown": [
       "\n",
       "A matrix: 6 × 5\n",
       "\n",
       "| ID &lt;chr&gt; | CHROM &lt;chr&gt; | GENPOS &lt;chr&gt; | original p &lt;chr&gt; | permuted p &lt;chr&gt; | ID &lt;chr&gt; | CHROM &lt;int&gt; | GENPOS &lt;int&gt; | original p &lt;int&gt; | permuted p &lt;int&gt; | ID ⋯ | CHROM &lt;dbl&gt; | GENPOS &lt;dbl&gt; | original p &lt;dbl&gt; | permuted p &lt;dbl&gt; | ID &lt;dbl&gt; | CHROM &lt;dbl&gt; | GENPOS &lt;dbl&gt; | original p &lt;dbl&gt; | permuted p &lt;dbl&gt; | ID &lt;dbl&gt; |\n",
       "|---|---|---|---|---|\n",
       "| chr5:272741:A:G | 5 | 272741 | 6.918192e-08 | 0 |\n",
       "| chr5:272748:G:C | 5 | 272748 | 3.207594e-08 | 0 |\n",
       "| chr5:272755:A:G | 5 | 272755 | 5.465032e-08 | 0 |\n",
       "| chr6:158071628:C:T | 6 | 158071628 | 2.061766e-08 | 0 |\n",
       "| chr6:75362956:T:C | 6 | 75362956 | 1.195048e-07 | 0 |\n",
       "| chr6:75841299:A:G | 6 | 75841299 | 7.967612e-09 | 0 |\n",
       "\n"
      ],
      "text/plain": [
       "     ID                 CHROM GENPOS    original p   permuted p\n",
       "[1,] chr5:272741:A:G    5     272741    6.918192e-08 0         \n",
       "[2,] chr5:272748:G:C    5     272748    3.207594e-08 0         \n",
       "[3,] chr5:272755:A:G    5     272755    5.465032e-08 0         \n",
       "[4,] chr6:158071628:C:T 6     158071628 2.061766e-08 0         \n",
       "[5,] chr6:75362956:T:C  6     75362956  1.195048e-07 0         \n",
       "[6,] chr6:75841299:A:G  6     75841299  7.967612e-09 0         "
      ]
     },
     "metadata": {},
     "output_type": "display_data"
    }
   ],
   "source": [
    "data <- read.table(\"~/project/guangyou/20220314_permutation/regenie/discovery/origin/genome_discovery_mega.merged_all.regenie.origin_chisq\",sep=\"\\t\",header=TRUE)\n",
    "chi <- read.table(\"~/project/guangyou/20220314_permutation/regenie/discovery/permutation/Combined_f2247_f2257/f2247_f2257.merge.regenie_chisq\",sep=\"\\t\",header=TRUE)\n",
    "pheno=\"f2247_f2257\"\n",
    "result<-c()\n",
    "for(i in 1:nrow(chi)){\n",
    "    if ((sum(!is.na(chi[i,-c(1:3)]))!=0) & (!is.na(data[i,pheno]))){\n",
    "        po<-sum(chi[i,-c(1:3)]>=data[i,pheno],na.rm=TRUE)/sum(!is.na(chi[i,-c(1:3)]))\n",
    "        result<-rbind(result,c(chi[i,1:3],pchisq(data[i,pheno],1,lower.tail=FALSE),po))  \n",
    "    }\n",
    "}\n",
    "colnames(result)<-c(\"ID\",\"CHROM\",\"GENPOS\",\"original p\",\"permuted p\")\n",
    "write.table(result,\"~/project/guangyou/20220314_permutation/regenie/discovery/permutation/Combined_f2247_f2257/f2247_f2257_per_snp_pvalue.txt\",col.names=TRUE,row.names=FALSE,sep=\"\\t\",quote=FALSE)\n",
    "result"
   ]
  },
  {
   "cell_type": "markdown",
   "id": "1163bf72-525d-4096-8b3f-8cf829cc96ec",
   "metadata": {
    "kernel": "R"
   },
   "source": [
    "## Discovery Permutation p value per SNP across all traits"
   ]
  },
  {
   "cell_type": "code",
   "execution_count": 1,
   "id": "5ced8702-fdce-4e2d-8d88-26c325651596",
   "metadata": {
    "kernel": "R"
   },
   "outputs": [
    {
     "data": {
      "text/html": [
       "<table class=\"dataframe\">\n",
       "<caption>A data.frame: 6 × 7</caption>\n",
       "<thead>\n",
       "\t<tr><th scope=col>ID</th><th scope=col>CHROM</th><th scope=col>GENPOS</th><th scope=col>f2247_f2257</th><th scope=col>f2247</th><th scope=col>f2257</th><th scope=col>f3393</th></tr>\n",
       "\t<tr><th scope=col>&lt;chr&gt;</th><th scope=col>&lt;int&gt;</th><th scope=col>&lt;int&gt;</th><th scope=col>&lt;dbl&gt;</th><th scope=col>&lt;dbl&gt;</th><th scope=col>&lt;dbl&gt;</th><th scope=col>&lt;dbl&gt;</th></tr>\n",
       "</thead>\n",
       "<tbody>\n",
       "\t<tr><td>chr5:272741:A:G   </td><td>5</td><td>   272741</td><td>28.3590</td><td>23.9672</td><td>22.6134</td><td> 6.95551</td></tr>\n",
       "\t<tr><td>chr5:272748:G:C   </td><td>5</td><td>   272748</td><td>23.1046</td><td>19.8284</td><td>15.9466</td><td> 3.66130</td></tr>\n",
       "\t<tr><td>chr5:272755:A:G   </td><td>5</td><td>   272755</td><td>24.5315</td><td>20.3252</td><td>18.0501</td><td> 7.27774</td></tr>\n",
       "\t<tr><td>chr6:158071628:C:T</td><td>6</td><td>158071628</td><td>17.8644</td><td>13.6027</td><td>13.4508</td><td>18.68950</td></tr>\n",
       "\t<tr><td>chr6:75362956:T:C </td><td>6</td><td> 75362956</td><td>12.5005</td><td>11.4755</td><td>10.7910</td><td>10.42970</td></tr>\n",
       "\t<tr><td>chr6:75841299:A:G </td><td>6</td><td> 75841299</td><td>15.8092</td><td>16.6118</td><td>13.0209</td><td>      NA</td></tr>\n",
       "</tbody>\n",
       "</table>\n"
      ],
      "text/latex": [
       "A data.frame: 6 × 7\n",
       "\\begin{tabular}{lllllll}\n",
       " ID & CHROM & GENPOS & f2247\\_f2257 & f2247 & f2257 & f3393\\\\\n",
       " <chr> & <int> & <int> & <dbl> & <dbl> & <dbl> & <dbl>\\\\\n",
       "\\hline\n",
       "\t chr5:272741:A:G    & 5 &    272741 & 28.3590 & 23.9672 & 22.6134 &  6.95551\\\\\n",
       "\t chr5:272748:G:C    & 5 &    272748 & 23.1046 & 19.8284 & 15.9466 &  3.66130\\\\\n",
       "\t chr5:272755:A:G    & 5 &    272755 & 24.5315 & 20.3252 & 18.0501 &  7.27774\\\\\n",
       "\t chr6:158071628:C:T & 6 & 158071628 & 17.8644 & 13.6027 & 13.4508 & 18.68950\\\\\n",
       "\t chr6:75362956:T:C  & 6 &  75362956 & 12.5005 & 11.4755 & 10.7910 & 10.42970\\\\\n",
       "\t chr6:75841299:A:G  & 6 &  75841299 & 15.8092 & 16.6118 & 13.0209 &       NA\\\\\n",
       "\\end{tabular}\n"
      ],
      "text/markdown": [
       "\n",
       "A data.frame: 6 × 7\n",
       "\n",
       "| ID &lt;chr&gt; | CHROM &lt;int&gt; | GENPOS &lt;int&gt; | f2247_f2257 &lt;dbl&gt; | f2247 &lt;dbl&gt; | f2257 &lt;dbl&gt; | f3393 &lt;dbl&gt; |\n",
       "|---|---|---|---|---|---|---|\n",
       "| chr5:272741:A:G    | 5 |    272741 | 28.3590 | 23.9672 | 22.6134 |  6.95551 |\n",
       "| chr5:272748:G:C    | 5 |    272748 | 23.1046 | 19.8284 | 15.9466 |  3.66130 |\n",
       "| chr5:272755:A:G    | 5 |    272755 | 24.5315 | 20.3252 | 18.0501 |  7.27774 |\n",
       "| chr6:158071628:C:T | 6 | 158071628 | 17.8644 | 13.6027 | 13.4508 | 18.68950 |\n",
       "| chr6:75362956:T:C  | 6 |  75362956 | 12.5005 | 11.4755 | 10.7910 | 10.42970 |\n",
       "| chr6:75841299:A:G  | 6 |  75841299 | 15.8092 | 16.6118 | 13.0209 |       NA |\n",
       "\n"
      ],
      "text/plain": [
       "  ID                 CHROM GENPOS    f2247_f2257 f2247   f2257   f3393   \n",
       "1 chr5:272741:A:G    5        272741 28.3590     23.9672 22.6134  6.95551\n",
       "2 chr5:272748:G:C    5        272748 23.1046     19.8284 15.9466  3.66130\n",
       "3 chr5:272755:A:G    5        272755 24.5315     20.3252 18.0501  7.27774\n",
       "4 chr6:158071628:C:T 6     158071628 17.8644     13.6027 13.4508 18.68950\n",
       "5 chr6:75362956:T:C  6      75362956 12.5005     11.4755 10.7910 10.42970\n",
       "6 chr6:75841299:A:G  6      75841299 15.8092     16.6118 13.0209       NA"
      ]
     },
     "metadata": {},
     "output_type": "display_data"
    }
   ],
   "source": [
    "data <- read.table(\"~/project/guangyou/20220314_permutation/regenie/discovery/origin/genome_discovery.merged_all.regenie.origin_chisq\",sep=\"\\t\",header=TRUE)\n",
    "data"
   ]
  },
  {
   "cell_type": "code",
   "execution_count": 2,
   "id": "d1c5a5e0-3830-4722-ac22-858242cc49bb",
   "metadata": {
    "kernel": "R"
   },
   "outputs": [
    {
     "data": {
      "text/html": [
       "<table class=\"dataframe\">\n",
       "<caption>A data.frame: 6 × 803</caption>\n",
       "<thead>\n",
       "\t<tr><th scope=col>ID</th><th scope=col>CHROM</th><th scope=col>GENPOS</th><th scope=col>f2247_f2257_1</th><th scope=col>f2247_f2257_2</th><th scope=col>f2247_f2257_3</th><th scope=col>f2247_f2257_4</th><th scope=col>f2247_f2257_5</th><th scope=col>f2247_f2257_6</th><th scope=col>f2247_f2257_7</th><th scope=col>⋯</th><th scope=col>f3393_191</th><th scope=col>f3393_192</th><th scope=col>f3393_193</th><th scope=col>f3393_194</th><th scope=col>f3393_195</th><th scope=col>f3393_196</th><th scope=col>f3393_197</th><th scope=col>f3393_198</th><th scope=col>f3393_199</th><th scope=col>f3393_200</th></tr>\n",
       "\t<tr><th scope=col>&lt;chr&gt;</th><th scope=col>&lt;int&gt;</th><th scope=col>&lt;int&gt;</th><th scope=col>&lt;dbl&gt;</th><th scope=col>&lt;dbl&gt;</th><th scope=col>&lt;dbl&gt;</th><th scope=col>&lt;dbl&gt;</th><th scope=col>&lt;dbl&gt;</th><th scope=col>&lt;dbl&gt;</th><th scope=col>&lt;dbl&gt;</th><th scope=col>⋯</th><th scope=col>&lt;dbl&gt;</th><th scope=col>&lt;dbl&gt;</th><th scope=col>&lt;dbl&gt;</th><th scope=col>&lt;dbl&gt;</th><th scope=col>&lt;dbl&gt;</th><th scope=col>&lt;dbl&gt;</th><th scope=col>&lt;dbl&gt;</th><th scope=col>&lt;dbl&gt;</th><th scope=col>&lt;dbl&gt;</th><th scope=col>&lt;dbl&gt;</th></tr>\n",
       "</thead>\n",
       "<tbody>\n",
       "\t<tr><td>chr5:272741:A:G   </td><td>5</td><td>   272741</td><td>0.00389983</td><td>0.3473420</td><td>1.0863200</td><td>1.790540</td><td>0.303285000</td><td>0.857510</td><td>0.236330000</td><td>⋯</td><td>0.8622190</td><td>0.0305358</td><td>0.506387</td><td>4.6309300</td><td>1.725860</td><td>5.973000</td><td>3.34712e-06</td><td>0.4407640</td><td>0.941803</td><td>1.4453700</td></tr>\n",
       "\t<tr><td>chr5:272748:G:C   </td><td>5</td><td>   272748</td><td>0.10183200</td><td>0.0703564</td><td>0.7593270</td><td>0.787648</td><td>0.251327000</td><td>0.503931</td><td>0.172177000</td><td>⋯</td><td>1.2471300</td><td>0.6103840</td><td>0.438432</td><td>0.0138895</td><td>1.565850</td><td>1.826420</td><td>5.72723e-01</td><td>0.3434310</td><td>0.873739</td><td>1.3895900</td></tr>\n",
       "\t<tr><td>chr5:272755:A:G   </td><td>5</td><td>   272755</td><td>0.00377903</td><td>0.4625170</td><td>1.2647400</td><td>0.704917</td><td>0.000991903</td><td>0.406052</td><td>0.285044000</td><td>⋯</td><td>0.0231634</td><td>0.0870669</td><td>0.015581</td><td>1.6732600</td><td>0.112678</td><td>5.883980</td><td>1.23704e-01</td><td>0.4947720</td><td>0.331202</td><td>1.4764400</td></tr>\n",
       "\t<tr><td>chr6:158071628:C:T</td><td>6</td><td>158071628</td><td>1.23451000</td><td>0.8289940</td><td>0.0332174</td><td>0.015210</td><td>0.084521200</td><td>0.470543</td><td>1.293300000</td><td>⋯</td><td>0.0358214</td><td>0.4528510</td><td>2.163040</td><td>0.8405680</td><td>1.080420</td><td>0.381189</td><td>9.59933e-01</td><td>0.0368284</td><td>0.133737</td><td>0.0971238</td></tr>\n",
       "\t<tr><td>chr6:75362956:T:C </td><td>6</td><td> 75362956</td><td>0.66473400</td><td>0.1877990</td><td>0.4051270</td><td>3.113510</td><td>0.001882700</td><td>0.146386</td><td>0.000519767</td><td>⋯</td><td>       NA</td><td>0.4868850</td><td>      NA</td><td>       NA</td><td>0.247237</td><td>      NA</td><td>         NA</td><td>0.3827780</td><td>      NA</td><td>0.7895270</td></tr>\n",
       "\t<tr><td>chr6:75841299:A:G </td><td>6</td><td> 75841299</td><td>0.52313200</td><td>0.3230310</td><td>0.1495360</td><td>      NA</td><td>0.155858000</td><td>0.486960</td><td>0.346279000</td><td>⋯</td><td>       NA</td><td>       NA</td><td>      NA</td><td>       NA</td><td>      NA</td><td>      NA</td><td>         NA</td><td>       NA</td><td>      NA</td><td>       NA</td></tr>\n",
       "</tbody>\n",
       "</table>\n"
      ],
      "text/latex": [
       "A data.frame: 6 × 803\n",
       "\\begin{tabular}{lllllllllllllllllllll}\n",
       " ID & CHROM & GENPOS & f2247\\_f2257\\_1 & f2247\\_f2257\\_2 & f2247\\_f2257\\_3 & f2247\\_f2257\\_4 & f2247\\_f2257\\_5 & f2247\\_f2257\\_6 & f2247\\_f2257\\_7 & ⋯ & f3393\\_191 & f3393\\_192 & f3393\\_193 & f3393\\_194 & f3393\\_195 & f3393\\_196 & f3393\\_197 & f3393\\_198 & f3393\\_199 & f3393\\_200\\\\\n",
       " <chr> & <int> & <int> & <dbl> & <dbl> & <dbl> & <dbl> & <dbl> & <dbl> & <dbl> & ⋯ & <dbl> & <dbl> & <dbl> & <dbl> & <dbl> & <dbl> & <dbl> & <dbl> & <dbl> & <dbl>\\\\\n",
       "\\hline\n",
       "\t chr5:272741:A:G    & 5 &    272741 & 0.00389983 & 0.3473420 & 1.0863200 & 1.790540 & 0.303285000 & 0.857510 & 0.236330000 & ⋯ & 0.8622190 & 0.0305358 & 0.506387 & 4.6309300 & 1.725860 & 5.973000 & 3.34712e-06 & 0.4407640 & 0.941803 & 1.4453700\\\\\n",
       "\t chr5:272748:G:C    & 5 &    272748 & 0.10183200 & 0.0703564 & 0.7593270 & 0.787648 & 0.251327000 & 0.503931 & 0.172177000 & ⋯ & 1.2471300 & 0.6103840 & 0.438432 & 0.0138895 & 1.565850 & 1.826420 & 5.72723e-01 & 0.3434310 & 0.873739 & 1.3895900\\\\\n",
       "\t chr5:272755:A:G    & 5 &    272755 & 0.00377903 & 0.4625170 & 1.2647400 & 0.704917 & 0.000991903 & 0.406052 & 0.285044000 & ⋯ & 0.0231634 & 0.0870669 & 0.015581 & 1.6732600 & 0.112678 & 5.883980 & 1.23704e-01 & 0.4947720 & 0.331202 & 1.4764400\\\\\n",
       "\t chr6:158071628:C:T & 6 & 158071628 & 1.23451000 & 0.8289940 & 0.0332174 & 0.015210 & 0.084521200 & 0.470543 & 1.293300000 & ⋯ & 0.0358214 & 0.4528510 & 2.163040 & 0.8405680 & 1.080420 & 0.381189 & 9.59933e-01 & 0.0368284 & 0.133737 & 0.0971238\\\\\n",
       "\t chr6:75362956:T:C  & 6 &  75362956 & 0.66473400 & 0.1877990 & 0.4051270 & 3.113510 & 0.001882700 & 0.146386 & 0.000519767 & ⋯ &        NA & 0.4868850 &       NA &        NA & 0.247237 &       NA &          NA & 0.3827780 &       NA & 0.7895270\\\\\n",
       "\t chr6:75841299:A:G  & 6 &  75841299 & 0.52313200 & 0.3230310 & 0.1495360 &       NA & 0.155858000 & 0.486960 & 0.346279000 & ⋯ &        NA &        NA &       NA &        NA &       NA &       NA &          NA &        NA &       NA &        NA\\\\\n",
       "\\end{tabular}\n"
      ],
      "text/markdown": [
       "\n",
       "A data.frame: 6 × 803\n",
       "\n",
       "| ID &lt;chr&gt; | CHROM &lt;int&gt; | GENPOS &lt;int&gt; | f2247_f2257_1 &lt;dbl&gt; | f2247_f2257_2 &lt;dbl&gt; | f2247_f2257_3 &lt;dbl&gt; | f2247_f2257_4 &lt;dbl&gt; | f2247_f2257_5 &lt;dbl&gt; | f2247_f2257_6 &lt;dbl&gt; | f2247_f2257_7 &lt;dbl&gt; | ⋯ ⋯ | f3393_191 &lt;dbl&gt; | f3393_192 &lt;dbl&gt; | f3393_193 &lt;dbl&gt; | f3393_194 &lt;dbl&gt; | f3393_195 &lt;dbl&gt; | f3393_196 &lt;dbl&gt; | f3393_197 &lt;dbl&gt; | f3393_198 &lt;dbl&gt; | f3393_199 &lt;dbl&gt; | f3393_200 &lt;dbl&gt; |\n",
       "|---|---|---|---|---|---|---|---|---|---|---|---|---|---|---|---|---|---|---|---|---|\n",
       "| chr5:272741:A:G    | 5 |    272741 | 0.00389983 | 0.3473420 | 1.0863200 | 1.790540 | 0.303285000 | 0.857510 | 0.236330000 | ⋯ | 0.8622190 | 0.0305358 | 0.506387 | 4.6309300 | 1.725860 | 5.973000 | 3.34712e-06 | 0.4407640 | 0.941803 | 1.4453700 |\n",
       "| chr5:272748:G:C    | 5 |    272748 | 0.10183200 | 0.0703564 | 0.7593270 | 0.787648 | 0.251327000 | 0.503931 | 0.172177000 | ⋯ | 1.2471300 | 0.6103840 | 0.438432 | 0.0138895 | 1.565850 | 1.826420 | 5.72723e-01 | 0.3434310 | 0.873739 | 1.3895900 |\n",
       "| chr5:272755:A:G    | 5 |    272755 | 0.00377903 | 0.4625170 | 1.2647400 | 0.704917 | 0.000991903 | 0.406052 | 0.285044000 | ⋯ | 0.0231634 | 0.0870669 | 0.015581 | 1.6732600 | 0.112678 | 5.883980 | 1.23704e-01 | 0.4947720 | 0.331202 | 1.4764400 |\n",
       "| chr6:158071628:C:T | 6 | 158071628 | 1.23451000 | 0.8289940 | 0.0332174 | 0.015210 | 0.084521200 | 0.470543 | 1.293300000 | ⋯ | 0.0358214 | 0.4528510 | 2.163040 | 0.8405680 | 1.080420 | 0.381189 | 9.59933e-01 | 0.0368284 | 0.133737 | 0.0971238 |\n",
       "| chr6:75362956:T:C  | 6 |  75362956 | 0.66473400 | 0.1877990 | 0.4051270 | 3.113510 | 0.001882700 | 0.146386 | 0.000519767 | ⋯ |        NA | 0.4868850 |       NA |        NA | 0.247237 |       NA |          NA | 0.3827780 |       NA | 0.7895270 |\n",
       "| chr6:75841299:A:G  | 6 |  75841299 | 0.52313200 | 0.3230310 | 0.1495360 |       NA | 0.155858000 | 0.486960 | 0.346279000 | ⋯ |        NA |        NA |       NA |        NA |       NA |       NA |          NA |        NA |       NA |        NA |\n",
       "\n"
      ],
      "text/plain": [
       "  ID                 CHROM GENPOS    f2247_f2257_1 f2247_f2257_2 f2247_f2257_3\n",
       "1 chr5:272741:A:G    5        272741 0.00389983    0.3473420     1.0863200    \n",
       "2 chr5:272748:G:C    5        272748 0.10183200    0.0703564     0.7593270    \n",
       "3 chr5:272755:A:G    5        272755 0.00377903    0.4625170     1.2647400    \n",
       "4 chr6:158071628:C:T 6     158071628 1.23451000    0.8289940     0.0332174    \n",
       "5 chr6:75362956:T:C  6      75362956 0.66473400    0.1877990     0.4051270    \n",
       "6 chr6:75841299:A:G  6      75841299 0.52313200    0.3230310     0.1495360    \n",
       "  f2247_f2257_4 f2247_f2257_5 f2247_f2257_6 f2247_f2257_7 ⋯ f3393_191 f3393_192\n",
       "1 1.790540      0.303285000   0.857510      0.236330000   ⋯ 0.8622190 0.0305358\n",
       "2 0.787648      0.251327000   0.503931      0.172177000   ⋯ 1.2471300 0.6103840\n",
       "3 0.704917      0.000991903   0.406052      0.285044000   ⋯ 0.0231634 0.0870669\n",
       "4 0.015210      0.084521200   0.470543      1.293300000   ⋯ 0.0358214 0.4528510\n",
       "5 3.113510      0.001882700   0.146386      0.000519767   ⋯        NA 0.4868850\n",
       "6       NA      0.155858000   0.486960      0.346279000   ⋯        NA        NA\n",
       "  f3393_193 f3393_194 f3393_195 f3393_196 f3393_197   f3393_198 f3393_199\n",
       "1 0.506387  4.6309300 1.725860  5.973000  3.34712e-06 0.4407640 0.941803 \n",
       "2 0.438432  0.0138895 1.565850  1.826420  5.72723e-01 0.3434310 0.873739 \n",
       "3 0.015581  1.6732600 0.112678  5.883980  1.23704e-01 0.4947720 0.331202 \n",
       "4 2.163040  0.8405680 1.080420  0.381189  9.59933e-01 0.0368284 0.133737 \n",
       "5       NA         NA 0.247237        NA           NA 0.3827780       NA \n",
       "6       NA         NA       NA        NA           NA        NA       NA \n",
       "  f3393_200\n",
       "1 1.4453700\n",
       "2 1.3895900\n",
       "3 1.4764400\n",
       "4 0.0971238\n",
       "5 0.7895270\n",
       "6        NA"
      ]
     },
     "metadata": {},
     "output_type": "display_data"
    }
   ],
   "source": [
    "chi <- read.table(\"~/project/guangyou/20220314_permutation/regenie/discovery/permutation_alltraits/Combined_f2247_f2257/f2247_f2257.merge.regenie_chisq\",sep=\"\\t\",header=TRUE)\n",
    "tmp <- read.table(\"~/project/guangyou/20220314_permutation/regenie/discovery/permutation_alltraits/f2247_hearing_difficulty/f2247.merge.regenie_chisq\",sep=\"\\t\",header=TRUE)\n",
    "chi<-cbind(chi,tmp[,4:203])\n",
    "tmp <- read.table(\"~/project/guangyou/20220314_permutation/regenie/discovery/permutation_alltraits/f2257_Hearing_noise/f2257.merge.regenie_chisq\",sep=\"\\t\",header=TRUE)\n",
    "chi<-cbind(chi,tmp[,4:203])\n",
    "tmp <- read.table(\"~/project/guangyou/20220314_permutation/regenie/discovery/permutation_alltraits/f3393_hearing_aid/f3393.merge.regenie_chisq\",sep=\"\\t\",header=TRUE)\n",
    "chi<-cbind(chi,tmp[,4:203])\n",
    "chi"
   ]
  },
  {
   "cell_type": "code",
   "execution_count": 6,
   "id": "c42ae378-e203-477d-a201-f0d1a76a1890",
   "metadata": {
    "kernel": "R"
   },
   "outputs": [
    {
     "data": {
      "text/html": [
       "0"
      ],
      "text/latex": [
       "0"
      ],
      "text/markdown": [
       "0"
      ],
      "text/plain": [
       "[1] 0"
      ]
     },
     "metadata": {},
     "output_type": "display_data"
    }
   ],
   "source": [
    "# chr5:272741:A:G all sig\n",
    "i=1\n",
    "count<-c()\n",
    "for(j in 1:200){\n",
    "count<-c(count,ifelse(max(chi[i,c(3+j,203+j,403+j,603+j)],na.rm=TRUE)>=max(data[i,4:7],na.rm=TRUE),1,0))\n",
    "}\n",
    "sum(count)/200"
   ]
  },
  {
   "cell_type": "code",
   "execution_count": 7,
   "id": "c637bd2b-23de-426d-9c9b-fe380ddb8545",
   "metadata": {
    "kernel": "R"
   },
   "outputs": [
    {
     "data": {
      "text/html": [
       "0"
      ],
      "text/latex": [
       "0"
      ],
      "text/markdown": [
       "0"
      ],
      "text/plain": [
       "[1] 0"
      ]
     },
     "metadata": {},
     "output_type": "display_data"
    }
   ],
   "source": [
    "# chr5:272748:G:C all sig\n",
    "i=2\n",
    "count<-c()\n",
    "for(j in 1:200){\n",
    "count<-c(count,ifelse(max(chi[i,c(3+j,203+j,403+j,603+j)],na.rm=TRUE)>=max(data[i,4:7],na.rm=TRUE),1,0))\n",
    "}\n",
    "sum(count)/200"
   ]
  },
  {
   "cell_type": "code",
   "execution_count": 8,
   "id": "e015f07d-fad4-4123-aa72-514a9026fcde",
   "metadata": {
    "kernel": "R"
   },
   "outputs": [
    {
     "data": {
      "text/html": [
       "0"
      ],
      "text/latex": [
       "0"
      ],
      "text/markdown": [
       "0"
      ],
      "text/plain": [
       "[1] 0"
      ]
     },
     "metadata": {},
     "output_type": "display_data"
    }
   ],
   "source": [
    "# chr5:272755:A:G all sig\n",
    "i=3\n",
    "count<-c()\n",
    "for(j in 1:200){\n",
    "count<-c(count,ifelse(max(chi[i,c(3+j,203+j,403+j,603+j)],na.rm=TRUE)>=max(data[i,4:7],na.rm=TRUE),1,0))\n",
    "}\n",
    "sum(count)/200"
   ]
  },
  {
   "cell_type": "code",
   "execution_count": 9,
   "id": "0a1f296a-ea05-40f2-9c1c-ac4939c8b429",
   "metadata": {
    "kernel": "R"
   },
   "outputs": [
    {
     "data": {
      "text/html": [
       "0"
      ],
      "text/latex": [
       "0"
      ],
      "text/markdown": [
       "0"
      ],
      "text/plain": [
       "[1] 0"
      ]
     },
     "metadata": {},
     "output_type": "display_data"
    }
   ],
   "source": [
    "# chr6:43301291:A:C only combined\n",
    "i=4\n",
    "count<-c()\n",
    "for(j in 1:200){\n",
    "count<-c(count,ifelse(max(chi[i,3+j],na.rm=TRUE)>=max(data[i,4],na.rm=TRUE),1,0))\n",
    "}\n",
    "sum(count)/200"
   ]
  },
  {
   "cell_type": "code",
   "execution_count": 11,
   "id": "68a95200-a3b2-4e33-9dbf-bc2610235c09",
   "metadata": {
    "kernel": "R"
   },
   "outputs": [
    {
     "data": {
      "text/html": [
       "0"
      ],
      "text/latex": [
       "0"
      ],
      "text/markdown": [
       "0"
      ],
      "text/plain": [
       "[1] 0"
      ]
     },
     "metadata": {},
     "output_type": "display_data"
    }
   ],
   "source": [
    "# chr6:43305866:A:G only combined\n",
    "i=5\n",
    "count<-c()\n",
    "for(j in 1:200){\n",
    "count<-c(count,ifelse(max(chi[i,3+j],na.rm=TRUE)>=max(data[i,4],na.rm=TRUE),1,0))\n",
    "}\n",
    "sum(count)/200"
   ]
  },
  {
   "cell_type": "code",
   "execution_count": 10,
   "id": "d498405f-cb8c-49e7-aead-70ba7db827ec",
   "metadata": {
    "kernel": "R"
   },
   "outputs": [
    {
     "data": {
      "text/html": [
       "0"
      ],
      "text/latex": [
       "0"
      ],
      "text/markdown": [
       "0"
      ],
      "text/plain": [
       "[1] 0"
      ]
     },
     "metadata": {},
     "output_type": "display_data"
    }
   ],
   "source": [
    "# chr6:75841299:A:G sign for Haid, Hdiff, combined\n",
    "i=6\n",
    "count<-c()\n",
    "for(j in 1:200){\n",
    "count<-c(count,ifelse(max(chi[i,c(3+j,203+j,603+j)],na.rm=TRUE)>=max(data[i,c(4,5,7)],na.rm=TRUE),1,0))\n",
    "}\n",
    "sum(count)/200"
   ]
  },
  {
   "cell_type": "code",
   "execution_count": 13,
   "id": "c4e7253c-628f-48c1-b9fe-f6c7a3e1fe1a",
   "metadata": {
    "kernel": "R"
   },
   "outputs": [
    {
     "data": {
      "text/html": [
       "<table class=\"dataframe\">\n",
       "<caption>A data.frame: 6 × 8</caption>\n",
       "<thead>\n",
       "\t<tr><th scope=col>ID</th><th scope=col>CHROM</th><th scope=col>GENPOS</th><th scope=col>f2247_f2257</th><th scope=col>f2247</th><th scope=col>f2257</th><th scope=col>f3393</th><th scope=col>\tpermuted p</th></tr>\n",
       "\t<tr><th scope=col>&lt;chr&gt;</th><th scope=col>&lt;int&gt;</th><th scope=col>&lt;int&gt;</th><th scope=col>&lt;dbl&gt;</th><th scope=col>&lt;dbl&gt;</th><th scope=col>&lt;dbl&gt;</th><th scope=col>&lt;dbl&gt;</th><th scope=col>&lt;dbl&gt;</th></tr>\n",
       "</thead>\n",
       "<tbody>\n",
       "\t<tr><td>chr5:272741:A:G   </td><td>5</td><td>   272741</td><td>1.007767e-07</td><td>9.799412e-07</td><td>1.980934e-06</td><td>8.356223e-03</td><td>0</td></tr>\n",
       "\t<tr><td>chr5:272748:G:C   </td><td>5</td><td>   272748</td><td>1.534264e-06</td><td>8.471689e-06</td><td>6.515534e-05</td><td>5.569036e-02</td><td>0</td></tr>\n",
       "\t<tr><td>chr5:272755:A:G   </td><td>5</td><td>   272755</td><td>7.310381e-07</td><td>6.533411e-06</td><td>2.151642e-05</td><td>6.981520e-03</td><td>0</td></tr>\n",
       "\t<tr><td>chr6:158071628:C:T</td><td>6</td><td>158071628</td><td>2.372138e-05</td><td>2.258604e-04</td><td>2.448950e-04</td><td>1.538225e-05</td><td>0</td></tr>\n",
       "\t<tr><td>chr6:75362956:T:C </td><td>6</td><td> 75362956</td><td>4.068366e-04</td><td>7.051963e-04</td><td>1.019976e-03</td><td>1.240081e-03</td><td>0</td></tr>\n",
       "\t<tr><td>chr6:75841299:A:G </td><td>6</td><td> 75841299</td><td>7.006159e-05</td><td>4.586380e-05</td><td>3.080350e-04</td><td>          NA</td><td>0</td></tr>\n",
       "</tbody>\n",
       "</table>\n"
      ],
      "text/latex": [
       "A data.frame: 6 × 8\n",
       "\\begin{tabular}{llllllll}\n",
       " ID & CHROM & GENPOS & f2247\\_f2257 & f2247 & f2257 & f3393 & \tpermuted p\\\\\n",
       " <chr> & <int> & <int> & <dbl> & <dbl> & <dbl> & <dbl> & <dbl>\\\\\n",
       "\\hline\n",
       "\t chr5:272741:A:G    & 5 &    272741 & 1.007767e-07 & 9.799412e-07 & 1.980934e-06 & 8.356223e-03 & 0\\\\\n",
       "\t chr5:272748:G:C    & 5 &    272748 & 1.534264e-06 & 8.471689e-06 & 6.515534e-05 & 5.569036e-02 & 0\\\\\n",
       "\t chr5:272755:A:G    & 5 &    272755 & 7.310381e-07 & 6.533411e-06 & 2.151642e-05 & 6.981520e-03 & 0\\\\\n",
       "\t chr6:158071628:C:T & 6 & 158071628 & 2.372138e-05 & 2.258604e-04 & 2.448950e-04 & 1.538225e-05 & 0\\\\\n",
       "\t chr6:75362956:T:C  & 6 &  75362956 & 4.068366e-04 & 7.051963e-04 & 1.019976e-03 & 1.240081e-03 & 0\\\\\n",
       "\t chr6:75841299:A:G  & 6 &  75841299 & 7.006159e-05 & 4.586380e-05 & 3.080350e-04 &           NA & 0\\\\\n",
       "\\end{tabular}\n"
      ],
      "text/markdown": [
       "\n",
       "A data.frame: 6 × 8\n",
       "\n",
       "| ID &lt;chr&gt; | CHROM &lt;int&gt; | GENPOS &lt;int&gt; | f2247_f2257 &lt;dbl&gt; | f2247 &lt;dbl&gt; | f2257 &lt;dbl&gt; | f3393 &lt;dbl&gt; | \tpermuted p &lt;dbl&gt; |\n",
       "|---|---|---|---|---|---|---|---|\n",
       "| chr5:272741:A:G    | 5 |    272741 | 1.007767e-07 | 9.799412e-07 | 1.980934e-06 | 8.356223e-03 | 0 |\n",
       "| chr5:272748:G:C    | 5 |    272748 | 1.534264e-06 | 8.471689e-06 | 6.515534e-05 | 5.569036e-02 | 0 |\n",
       "| chr5:272755:A:G    | 5 |    272755 | 7.310381e-07 | 6.533411e-06 | 2.151642e-05 | 6.981520e-03 | 0 |\n",
       "| chr6:158071628:C:T | 6 | 158071628 | 2.372138e-05 | 2.258604e-04 | 2.448950e-04 | 1.538225e-05 | 0 |\n",
       "| chr6:75362956:T:C  | 6 |  75362956 | 4.068366e-04 | 7.051963e-04 | 1.019976e-03 | 1.240081e-03 | 0 |\n",
       "| chr6:75841299:A:G  | 6 |  75841299 | 7.006159e-05 | 4.586380e-05 | 3.080350e-04 |           NA | 0 |\n",
       "\n"
      ],
      "text/plain": [
       "  ID                 CHROM GENPOS    f2247_f2257  f2247        f2257       \n",
       "1 chr5:272741:A:G    5        272741 1.007767e-07 9.799412e-07 1.980934e-06\n",
       "2 chr5:272748:G:C    5        272748 1.534264e-06 8.471689e-06 6.515534e-05\n",
       "3 chr5:272755:A:G    5        272755 7.310381e-07 6.533411e-06 2.151642e-05\n",
       "4 chr6:158071628:C:T 6     158071628 2.372138e-05 2.258604e-04 2.448950e-04\n",
       "5 chr6:75362956:T:C  6      75362956 4.068366e-04 7.051963e-04 1.019976e-03\n",
       "6 chr6:75841299:A:G  6      75841299 7.006159e-05 4.586380e-05 3.080350e-04\n",
       "  f3393        \\tpermuted p\n",
       "1 8.356223e-03 0           \n",
       "2 5.569036e-02 0           \n",
       "3 6.981520e-03 0           \n",
       "4 1.538225e-05 0           \n",
       "5 1.240081e-03 0           \n",
       "6           NA 0           "
      ]
     },
     "metadata": {},
     "output_type": "display_data"
    }
   ],
   "source": [
    "p <- read.table(\"~/project/guangyou/20220314_permutation/regenie/discovery/origin/genome_discovery.merged_all.regenie.origin_p\",sep=\"\\t\",header=TRUE)\n",
    "p$\"\tpermuted p\" <- 0\n",
    "p"
   ]
  },
  {
   "cell_type": "code",
   "execution_count": 59,
   "id": "72f60ce8-bb96-4b47-9225-b62d967ddcb3",
   "metadata": {
    "kernel": "R"
   },
   "outputs": [],
   "source": [
    "write.table(result,\"~/project/guangyou/20220314_permutation/regenie/discovery/permutation_alltraits/alltraits_per_snp_pvalue.txt\",col.names=TRUE,row.names=FALSE,sep=\"\\t\",quote=FALSE)"
   ]
  },
  {
   "cell_type": "code",
   "execution_count": null,
   "id": "e67d3142-eb32-4bde-a019-f00078841000",
   "metadata": {
    "kernel": "R"
   },
   "outputs": [],
   "source": [
    "## Mega permutation p value per SNP per trait"
   ]
  },
  {
   "cell_type": "code",
   "execution_count": null,
   "id": "af220018-1450-4500-be18-7359517cbce4",
   "metadata": {
    "kernel": "R"
   },
   "outputs": [],
   "source": [
    "p <- read.table(\"~/project/guangyou/20220314_permutation/regenie/discovery/permutation/genome_discovery.merged_all.regenie.origin_p\",sep=\"\\t\",header=TRUE)\n",
    "head(p)"
   ]
  },
  {
   "cell_type": "code",
   "execution_count": null,
   "id": "dc1ebd14-6a1d-4292-9fed-e9c079bd100e",
   "metadata": {
    "kernel": "R"
   },
   "outputs": [],
   "source": [
    "data <- read.table(\"~/project/guangyou/20220314_permutation/regenie/discovery/permutation/genome_discovery.merged_all.regenie.origin_chisq\",sep=\"\\t\",header=TRUE)\n",
    "head(data)"
   ]
  },
  {
   "cell_type": "code",
   "execution_count": null,
   "id": "82e59e52-f4ff-4dbd-ad27-e209245d15f9",
   "metadata": {
    "kernel": "R"
   },
   "outputs": [],
   "source": [
    "chi <- read.table(\"~/project/guangyou/20220314_permutation/regenie/discovery/permutation/f3393_hearing_aid/f3393.merge.regenie_chisq\",sep=\"\\t\",header=TRUE)\n",
    "head(chi)"
   ]
  },
  {
   "cell_type": "code",
   "execution_count": null,
   "id": "7c7b2fa2-d21d-4662-880a-e3389b18c78e",
   "metadata": {
    "kernel": "R"
   },
   "outputs": [],
   "source": [
    "pheno=\"f3393\"\n",
    "result<-c()\n",
    "for(i in 1:nrow(chi)){\n",
    "    if ((sum(!is.na(chi[i,-c(1:3)]))!=0) & (!is.na(data[i,pheno]))){\n",
    "        po<-sum(chi[i,-c(1:3)]>=data[i,pheno],na.rm=TRUE)/sum(!is.na(chi[i,-c(1:3)]))\n",
    "        result<-rbind(result,c(chi[i,1:3],pchisq(data[i,pheno],1,lower.tail=FALSE),po))  \n",
    "    }\n",
    "}\n",
    "colnames(result)<-c(\"ID\",\"CHROM\",\"GENPOS\",\"original p\",\"permuted p\")\n",
    "head(result)\n",
    "hist(as.numeric(result[,\"permuted p\"]))\n",
    "write.table(result,\"~/project/guangyou/20220314_permutation/regenie/discovery/permutation/f3393_hearing_aid/f3393_per_snp_pvalue.txt\",col.names=TRUE,row.names=FALSE,sep=\"\\t\",quote=FALSE)"
   ]
  },
  {
   "cell_type": "code",
   "execution_count": null,
   "id": "4625d8a0-83b0-4737-b5ab-69364392ea98",
   "metadata": {
    "kernel": "R"
   },
   "outputs": [],
   "source": [
    "data <- read.table(\"~/project/guangyou/20220314_permutation/regenie/discovery/origin/genome_discovery_mega.merged_all.regenie.origin_chisq\",sep=\"\\t\",header=TRUE)\n",
    "chi <- read.table(\"~/project/guangyou/20220314_permutation/regenie/discovery/permutation/f2247_hearing_difficulty/f2247.merge.regenie_chisq\",sep=\"\\t\",header=TRUE)\n",
    "pheno=\"f2247\"\n",
    "result<-c()\n",
    "for(i in 1:nrow(chi)){\n",
    "    if ((sum(!is.na(chi[i,-c(1:3)]))!=0) & (!is.na(data[i,pheno]))){\n",
    "        po<-sum(chi[i,-c(1:3)]>=data[i,pheno],na.rm=TRUE)/sum(!is.na(chi[i,-c(1:3)]))\n",
    "        result<-rbind(result,c(chi[i,1:3],pchisq(data[i,pheno],1,lower.tail=FALSE),po))  \n",
    "    }\n",
    "}\n",
    "colnames(result)<-c(\"ID\",\"CHROM\",\"GENPOS\",\"original p\",\"permuted p\")\n",
    "write.table(result,\"~/project/guangyou/20220314_permutation/regenie/discovery/permutation/f2247_hearing_difficulty/f2247_per_snp_pvalue.txt\",col.names=TRUE,row.names=FALSE,sep=\"\\t\",quote=FALSE)\n",
    "result"
   ]
  },
  {
   "cell_type": "code",
   "execution_count": null,
   "id": "d3b2eafb-4719-4963-aebc-2bfd2ce781a0",
   "metadata": {
    "kernel": "R"
   },
   "outputs": [],
   "source": [
    "data <- read.table(\"~/project/guangyou/20220314_permutation/regenie/discovery/origin/genome_discovery_mega.merged_all.regenie.origin_chisq\",sep=\"\\t\",header=TRUE)\n",
    "chi <- read.table(\"~/project/guangyou/20220314_permutation/regenie/discovery/permutation/f2257_Hearing_noise/f2257.merge.regenie_chisq\",sep=\"\\t\",header=TRUE)\n",
    "pheno=\"f2257\"\n",
    "result<-c()\n",
    "for(i in 1:nrow(chi)){\n",
    "    if ((sum(!is.na(chi[i,-c(1:3)]))!=0) & (!is.na(data[i,pheno]))){\n",
    "        po<-sum(chi[i,-c(1:3)]>=data[i,pheno],na.rm=TRUE)/sum(!is.na(chi[i,-c(1:3)]))\n",
    "        result<-rbind(result,c(chi[i,1:3],pchisq(data[i,pheno],1,lower.tail=FALSE),po))  \n",
    "    }\n",
    "}\n",
    "colnames(result)<-c(\"ID\",\"CHROM\",\"GENPOS\",\"original p\",\"permuted p\")\n",
    "write.table(result,\"~/project/guangyou/20220314_permutation/regenie/discovery/permutation/f2257_Hearing_noise/f2257_per_snp_pvalue.txt\",col.names=TRUE,row.names=FALSE,sep=\"\\t\",quote=FALSE)\n",
    "result"
   ]
  },
  {
   "cell_type": "code",
   "execution_count": null,
   "id": "4e7d38d6-8091-4684-9aeb-ab3e384f9ddc",
   "metadata": {
    "kernel": "R"
   },
   "outputs": [],
   "source": [
    "data <- read.table(\"~/project/guangyou/20220314_permutation/regenie/discovery/origin/genome_discovery_mega.merged_all.regenie.origin_chisq\",sep=\"\\t\",header=TRUE)\n",
    "chi <- read.table(\"~/project/guangyou/20220314_permutation/regenie/discovery/permutation/Combined_f2247_f2257/f2247_f2257.merge.regenie_chisq\",sep=\"\\t\",header=TRUE)\n",
    "pheno=\"f2247_f2257\"\n",
    "result<-c()\n",
    "for(i in 1:nrow(chi)){\n",
    "    if ((sum(!is.na(chi[i,-c(1:3)]))!=0) & (!is.na(data[i,pheno]))){\n",
    "        po<-sum(chi[i,-c(1:3)]>=data[i,pheno],na.rm=TRUE)/sum(!is.na(chi[i,-c(1:3)]))\n",
    "        result<-rbind(result,c(chi[i,1:3],pchisq(data[i,pheno],1,lower.tail=FALSE),po))  \n",
    "    }\n",
    "}\n",
    "colnames(result)<-c(\"ID\",\"CHROM\",\"GENPOS\",\"original p\",\"permuted p\")\n",
    "write.table(result,\"~/project/guangyou/20220314_permutation/regenie/discovery/permutation/Combined_f2247_f2257/f2247_f2257_per_snp_pvalue.txt\",col.names=TRUE,row.names=FALSE,sep=\"\\t\",quote=FALSE)\n",
    "result"
   ]
  },
  {
   "cell_type": "code",
   "execution_count": null,
   "id": "432719fe-1853-4a3b-93a8-e9458efe285b",
   "metadata": {
    "kernel": "R"
   },
   "outputs": [],
   "source": []
  },
  {
   "cell_type": "code",
   "execution_count": null,
   "id": "b51de703-fa66-4be5-9af9-570da9d47377",
   "metadata": {
    "kernel": "R"
   },
   "outputs": [],
   "source": [
    "## Mega permutation p value per SNP across all traits"
   ]
  }
 ],
 "metadata": {
  "kernelspec": {
   "display_name": "SoS",
   "language": "sos",
   "name": "sos"
  },
  "language_info": {
   "codemirror_mode": "sos",
   "file_extension": ".sos",
   "mimetype": "text/x-sos",
   "name": "sos",
   "nbconvert_exporter": "sos_notebook.converter.SoS_Exporter",
   "pygments_lexer": "sos"
  },
  "sos": {
   "kernels": [
    [
     "Bash",
     "bash",
     "Bash",
     "#E6EEFF",
     "shell"
    ],
    [
     "Python3",
     "python3",
     "Python3",
     "#FFD91A",
     {
      "name": "ipython",
      "version": 3
     }
    ],
    [
     "R",
     "ir",
     "R",
     "#DCDCDA",
     "r"
    ]
   ],
   "version": "0.22.9"
  }
 },
 "nbformat": 4,
 "nbformat_minor": 5
}
