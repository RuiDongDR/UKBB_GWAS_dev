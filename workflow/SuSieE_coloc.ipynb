{
 "cells": [
  {
   "cell_type": "markdown",
   "id": "a9da694e-8c81-4e9d-9fef-b6e29707bd6a",
   "metadata": {
    "kernel": "SoS",
    "tags": []
   },
   "source": [
    "# SuSiE Coloc"
   ]
  },
  {
   "cell_type": "markdown",
   "id": "55097a93-f6f5-46af-9ffa-b29920e6d5a1",
   "metadata": {
    "kernel": "SoS"
   },
   "source": [
    "Susie Coloc package is used to perform genetic colocalization analysis of two related phenotypes to see if they share common genetic causal variants in a region\n",
    "\n",
    "It combines [SuSiE](https://doi.org/10.1111/rssb.12388) and [Coloc](https://journals.plos.org/plosgenetics/article?id=10.1371/journal.pgen.1009440)"
   ]
  },
  {
   "cell_type": "markdown",
   "id": "b25456b3-2e3a-485c-8d2b-596cb9c68f2d",
   "metadata": {
    "kernel": "SoS"
   },
   "source": [
    "## Installation"
   ]
  },
  {
   "cell_type": "markdown",
   "id": "e9017003-a6ef-43ee-bded-4ff6d3d3e146",
   "metadata": {
    "kernel": "SoS"
   },
   "source": [
    "Installation of [SusiE Coloc](https://github.com/chr1swallace/coloc/tree/susie) package \n",
    "```\n",
    "if(!require(\"remotes\"))\n",
    "   install.packages(\"remotes\") # if necessary\n",
    "library(remotes)\n",
    "install_github(\"chr1swallace/coloc\",\"susie\",build_vignettes=TRUE)\n",
    "```"
   ]
  },
  {
   "cell_type": "markdown",
   "id": "2caf9d3e-5a68-49d0-aed4-dfa937b56111",
   "metadata": {
    "kernel": "SoS"
   },
   "source": [
    "## Input data"
   ]
  },
  {
   "cell_type": "code",
   "execution_count": null,
   "id": "35855e05-daf5-4d0f-ab43-c3f9a2af7e42",
   "metadata": {
    "kernel": "SoS"
   },
   "outputs": [],
   "source": []
  }
 ],
 "metadata": {
  "kernelspec": {
   "display_name": "SoS",
   "language": "sos",
   "name": "sos"
  },
  "language_info": {
   "codemirror_mode": "sos",
   "file_extension": ".sos",
   "mimetype": "text/x-sos",
   "name": "sos",
   "nbconvert_exporter": "sos_notebook.converter.SoS_Exporter",
   "pygments_lexer": "sos"
  },
  "sos": {
   "kernels": [
    [
     "SoS",
     "sos",
     "",
     ""
    ]
   ],
   "version": "0.22.6"
  }
 },
 "nbformat": 4,
 "nbformat_minor": 5
}
