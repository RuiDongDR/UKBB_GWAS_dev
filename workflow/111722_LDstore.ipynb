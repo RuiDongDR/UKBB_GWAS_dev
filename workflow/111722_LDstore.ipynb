{
 "cells": [
  {
   "cell_type": "markdown",
   "id": "c9fbaa9f-c68d-4553-b6a1-6e9d4b040316",
   "metadata": {
    "kernel": "SoS",
    "tags": []
   },
   "source": [
    "# LDstore"
   ]
  },
  {
   "cell_type": "markdown",
   "id": "28c2558e-4481-474d-8723-9d76ac952922",
   "metadata": {
    "kernel": "SoS"
   },
   "source": [
    "Check tutorial [here](http://www.christianbenner.com/#)\n"
   ]
  },
  {
   "cell_type": "markdown",
   "id": "74e07551-3a85-4085-9251-ea5c0d11f446",
   "metadata": {
    "kernel": "SoS"
   },
   "source": [
    "# Installation\n",
    "\n",
    "```\n",
    "pip3 install https://files.pythonhosted.org/packages/a8/fd/f98ab7dea176f42cb61b80450b795ef19b329e8eb715b87b0d13c2a0854d/ldstore-0.1.9.tar.gz \n",
    "    ```"
   ]
  },
  {
   "cell_type": "markdown",
   "id": "9b7e493a-c99c-4a71-8894-b31658163f67",
   "metadata": {
    "kernel": "SoS"
   },
   "source": [
    "# Create master file"
   ]
  },
  {
   "cell_type": "markdown",
   "id": "1ede3fb5-d54b-4ef9-9088-489933fb1bce",
   "metadata": {
    "kernel": "SoS"
   },
   "source": [
    "The master file is a semicolon-separated text file and contains no space. It contains the following mandatory column names and one dataset per line."
   ]
  },
  {
   "cell_type": "markdown",
   "id": "8a38f88a-4d5f-4b50-9535-4bf46ce1f31c",
   "metadata": {
    "kernel": "SoS"
   },
   "source": [
    "For the Z file modify this file to be rsid:chrom:pos:a1:a2. Formatting for chromosome should be 01,02,03...etc\n",
    "\n",
    "`~/UKBiobank_Yale_transfer/ukb39554_imputeddataset/ukb_mfi_chr9_v3.txt`\n",
    "\n",
    "For the sample files remember to use only unrelated individuals from the 500K genotyped participants"
   ]
  },
  {
   "cell_type": "code",
   "execution_count": null,
   "id": "e0222a4b-4077-4464-b9a7-05c30a47b7ef",
   "metadata": {
    "kernel": "SoS"
   },
   "outputs": [],
   "source": []
  }
 ],
 "metadata": {
  "kernelspec": {
   "display_name": "SoS",
   "language": "sos",
   "name": "sos"
  },
  "language_info": {
   "codemirror_mode": "sos",
   "file_extension": ".sos",
   "mimetype": "text/x-sos",
   "name": "sos",
   "nbconvert_exporter": "sos_notebook.converter.SoS_Exporter",
   "pygments_lexer": "sos"
  },
  "sos": {
   "kernels": [
    [
     "SoS",
     "sos",
     "",
     ""
    ]
   ],
   "version": "0.22.6"
  }
 },
 "nbformat": 4,
 "nbformat_minor": 5
}
