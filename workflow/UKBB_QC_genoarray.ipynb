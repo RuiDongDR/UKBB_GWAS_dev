{
 "cells": [
  {
   "cell_type": "markdown",
   "id": "e16da4aa-5fc6-4c09-a25a-8d1f94f34d2c",
   "metadata": {
    "kernel": "SoS",
    "tags": []
   },
   "source": [
    "# Genotype QC UKBB data"
   ]
  },
  {
   "cell_type": "markdown",
   "id": "e627077d-3ffb-4273-93c1-d3554764fb39",
   "metadata": {
    "kernel": "SoS"
   },
   "source": [
    "## Aim\n",
    "\n",
    "Generate a set of Qc'ed genotype array data for the whole dataset of the UKBB "
   ]
  },
  {
   "cell_type": "markdown",
   "id": "b991a5a2-0d3c-4ddb-8639-9be5df96780c",
   "metadata": {
    "kernel": "SoS"
   },
   "source": [
    "## Output file\n",
    "\n",
    "Final bed file with all the QC steps located here:\n",
    "\n",
    "`~/UKBiobank/genotype_files_processed/083021_sample_variant_qc_final/cache/UKB_genotypedatadownloaded083019.083021_sample_variant_qc_final.filtered.extracted.bed`"
   ]
  },
  {
   "cell_type": "markdown",
   "id": "129eb758-b148-4fa2-a7da-fdbc5f140098",
   "metadata": {
    "kernel": "SoS"
   },
   "source": [
    "# Variant QC summary\n",
    "\n",
    "Original file downloaded from the UKBB \n",
    "\n",
    "~/UKBiobank_Yale_transfer/pleiotropy_geneticfiles/UKB_originalgenotypefilesdownloaded083019/UKB_genotypedatadownloaded083019.bed\n",
    "\n",
    "- Starting number of variants: 784,256 (starting with only autosomal variants)\n",
    "- Starting number of individuals: 488,377 (individuals that have both genotype and phenotype information)\n",
    "\n",
    "* Autosomal variants --> 784,256\n",
    "* Covered by both arrays (array : (0/1/2) Presence of SNP on genotyping arrays 0=BiLEVE, 1=Axiom, 2=both) --> 733,322\n",
    "* Batch level QC (BATCH_qc : (0/1) For each batch (Batch_b001-b095,UKBiLEVEAX_b1-b11), SNP passed all QC tests (no/yes)) --> 687,004\n",
    "* SNPs only (remove indels) --> 674,489"
   ]
  },
  {
   "cell_type": "code",
   "execution_count": 1,
   "id": "6f2f2519-3b17-474d-ba89-0302a5241589",
   "metadata": {
    "kernel": "R",
    "tags": []
   },
   "outputs": [
    {
     "name": "stderr",
     "output_type": "stream",
     "text": [
      "/home/dmc2245/miniconda3/lib/python3.8/site-packages/sos_notebook/kernel.py:1334: DeprecationWarning: Kernel._parent_header is deprecated in ipykernel 6. Use .get_parent()\n",
      "  msg['msg_id'] = self._parent_header['header']['msg_id']\n",
      "── \u001b[1mAttaching packages\u001b[22m ─────────────────────────────────────── tidyverse 1.3.1 ──\n",
      "\n",
      "\u001b[32m✔\u001b[39m \u001b[34mggplot2\u001b[39m 3.3.5     \u001b[32m✔\u001b[39m \u001b[34mpurrr  \u001b[39m 0.3.4\n",
      "\u001b[32m✔\u001b[39m \u001b[34mtibble \u001b[39m 3.1.5     \u001b[32m✔\u001b[39m \u001b[34mdplyr  \u001b[39m 1.0.7\n",
      "\u001b[32m✔\u001b[39m \u001b[34mtidyr  \u001b[39m 1.1.3     \u001b[32m✔\u001b[39m \u001b[34mstringr\u001b[39m 1.4.0\n",
      "\u001b[32m✔\u001b[39m \u001b[34mreadr  \u001b[39m 1.4.0     \u001b[32m✔\u001b[39m \u001b[34mforcats\u001b[39m 0.5.1\n",
      "\n",
      "── \u001b[1mConflicts\u001b[22m ────────────────────────────────────────── tidyverse_conflicts() ──\n",
      "\u001b[31m✖\u001b[39m \u001b[34mdplyr\u001b[39m::\u001b[32mfilter()\u001b[39m masks \u001b[34mstats\u001b[39m::filter()\n",
      "\u001b[31m✖\u001b[39m \u001b[34mdplyr\u001b[39m::\u001b[32mlag()\u001b[39m    masks \u001b[34mstats\u001b[39m::lag()\n",
      "\n"
     ]
    }
   ],
   "source": [
    "library(tidyverse)"
   ]
  },
  {
   "cell_type": "code",
   "execution_count": 2,
   "id": "f9f0708b-ba2c-4021-8ffd-7993323d6302",
   "metadata": {
    "kernel": "R"
   },
   "outputs": [],
   "source": [
    "setwd('~/UKBiobank/genotype_files_processed')"
   ]
  },
  {
   "cell_type": "markdown",
   "id": "d7d8fe1d-5a46-4ae5-be86-f6e15c23dcd4",
   "metadata": {
    "kernel": "R"
   },
   "source": [
    "## Step 1. Import file needed (ukb_snp_qc.txt)"
   ]
  },
  {
   "cell_type": "code",
   "execution_count": 3,
   "id": "bb2ef4e6-fdae-488e-9a2e-f8b340576713",
   "metadata": {
    "kernel": "R",
    "tags": []
   },
   "outputs": [],
   "source": [
    "ukb_snp_qc <- read.table('~/UKBiobank/data/genotype_files/ukb_snp_qc.txt', header=TRUE, sep=\" \")"
   ]
  },
  {
   "cell_type": "code",
   "execution_count": 4,
   "id": "86bb3b41-3058-45c0-b869-2f453a541c90",
   "metadata": {
    "kernel": "R"
   },
   "outputs": [
    {
     "data": {
      "text/html": [
       "<table class=\"dataframe\">\n",
       "<caption>A data.frame: 6 x 159</caption>\n",
       "<thead>\n",
       "\t<tr><th></th><th scope=col>rs_id</th><th scope=col>affymetrix_snp_id</th><th scope=col>affymetrix_probeset_id</th><th scope=col>chromosome</th><th scope=col>position</th><th scope=col>allele1_ref</th><th scope=col>allele2_alt</th><th scope=col>strand</th><th scope=col>array</th><th scope=col>Batch_b001_qc</th><th scope=col>...</th><th scope=col>PC32_loading</th><th scope=col>PC33_loading</th><th scope=col>PC34_loading</th><th scope=col>PC35_loading</th><th scope=col>PC36_loading</th><th scope=col>PC37_loading</th><th scope=col>PC38_loading</th><th scope=col>PC9_loading.3</th><th scope=col>PC40_loading</th><th scope=col>in_Phasing_Input</th></tr>\n",
       "\t<tr><th></th><th scope=col>&lt;fct&gt;</th><th scope=col>&lt;fct&gt;</th><th scope=col>&lt;fct&gt;</th><th scope=col>&lt;int&gt;</th><th scope=col>&lt;int&gt;</th><th scope=col>&lt;fct&gt;</th><th scope=col>&lt;fct&gt;</th><th scope=col>&lt;fct&gt;</th><th scope=col>&lt;int&gt;</th><th scope=col>&lt;int&gt;</th><th scope=col>...</th><th scope=col>&lt;dbl&gt;</th><th scope=col>&lt;dbl&gt;</th><th scope=col>&lt;dbl&gt;</th><th scope=col>&lt;dbl&gt;</th><th scope=col>&lt;dbl&gt;</th><th scope=col>&lt;dbl&gt;</th><th scope=col>&lt;dbl&gt;</th><th scope=col>&lt;dbl&gt;</th><th scope=col>&lt;dbl&gt;</th><th scope=col>&lt;int&gt;</th></tr>\n",
       "</thead>\n",
       "<tbody>\n",
       "\t<tr><th scope=row>1</th><td>rs28659788 </td><td>Affx-13546538</td><td>AX-32115783</td><td>1</td><td>723307</td><td>C</td><td>G</td><td>+</td><td>0</td><td>1</td><td>...</td><td>         NA</td><td>        NA</td><td>         NA</td><td>         NA</td><td>         NA</td><td>         NA</td><td>         NA</td><td>        NA</td><td>          NA</td><td>0</td></tr>\n",
       "\t<tr><th scope=row>2</th><td>rs116587930</td><td>Affx-35298040</td><td>AX-37361813</td><td>1</td><td>727841</td><td>G</td><td>A</td><td>+</td><td>2</td><td>1</td><td>...</td><td>         NA</td><td>        NA</td><td>         NA</td><td>         NA</td><td>         NA</td><td>         NA</td><td>         NA</td><td>        NA</td><td>          NA</td><td>0</td></tr>\n",
       "\t<tr><th scope=row>3</th><td>rs116720794</td><td>Affx-13637449</td><td>AX-32137419</td><td>1</td><td>729632</td><td>C</td><td>T</td><td>+</td><td>2</td><td>1</td><td>...</td><td>         NA</td><td>        NA</td><td>         NA</td><td>         NA</td><td>         NA</td><td>         NA</td><td>         NA</td><td>        NA</td><td>          NA</td><td>0</td></tr>\n",
       "\t<tr><th scope=row>4</th><td>rs3131972  </td><td>Affx-13945728</td><td>AX-13191280</td><td>1</td><td>752721</td><td>A</td><td>G</td><td>+</td><td>2</td><td>1</td><td>...</td><td>         NA</td><td>        NA</td><td>         NA</td><td>         NA</td><td>         NA</td><td>         NA</td><td>         NA</td><td>        NA</td><td>          NA</td><td>1</td></tr>\n",
       "\t<tr><th scope=row>5</th><td>rs12184325 </td><td>Affx-13963217</td><td>AX-11194291</td><td>1</td><td>754105</td><td>C</td><td>T</td><td>+</td><td>2</td><td>1</td><td>...</td><td>-0.00347144</td><td>0.00589896</td><td>-0.00373881</td><td>-0.00189571</td><td>-0.00286888</td><td>0.000792278</td><td>-0.00191024</td><td>0.00307453</td><td>-0.000410934</td><td>1</td></tr>\n",
       "\t<tr><th scope=row>6</th><td>rs3131962  </td><td>Affx-13995532</td><td>AX-32225497</td><td>1</td><td>756604</td><td>A</td><td>G</td><td>+</td><td>2</td><td>1</td><td>...</td><td>         NA</td><td>        NA</td><td>         NA</td><td>         NA</td><td>         NA</td><td>         NA</td><td>         NA</td><td>        NA</td><td>          NA</td><td>1</td></tr>\n",
       "</tbody>\n",
       "</table>\n"
      ],
      "text/latex": [
       "A data.frame: 6 x 159\n",
       "\\begin{tabular}{r|lllllllllllllllllllll}\n",
       "  & rs\\_id & affymetrix\\_snp\\_id & affymetrix\\_probeset\\_id & chromosome & position & allele1\\_ref & allele2\\_alt & strand & array & Batch\\_b001\\_qc & ... & PC32\\_loading & PC33\\_loading & PC34\\_loading & PC35\\_loading & PC36\\_loading & PC37\\_loading & PC38\\_loading & PC9\\_loading.3 & PC40\\_loading & in\\_Phasing\\_Input\\\\\n",
       "  & <fct> & <fct> & <fct> & <int> & <int> & <fct> & <fct> & <fct> & <int> & <int> & ... & <dbl> & <dbl> & <dbl> & <dbl> & <dbl> & <dbl> & <dbl> & <dbl> & <dbl> & <int>\\\\\n",
       "\\hline\n",
       "\t1 & rs28659788  & Affx-13546538 & AX-32115783 & 1 & 723307 & C & G & + & 0 & 1 & ... &          NA &         NA &          NA &          NA &          NA &          NA &          NA &         NA &           NA & 0\\\\\n",
       "\t2 & rs116587930 & Affx-35298040 & AX-37361813 & 1 & 727841 & G & A & + & 2 & 1 & ... &          NA &         NA &          NA &          NA &          NA &          NA &          NA &         NA &           NA & 0\\\\\n",
       "\t3 & rs116720794 & Affx-13637449 & AX-32137419 & 1 & 729632 & C & T & + & 2 & 1 & ... &          NA &         NA &          NA &          NA &          NA &          NA &          NA &         NA &           NA & 0\\\\\n",
       "\t4 & rs3131972   & Affx-13945728 & AX-13191280 & 1 & 752721 & A & G & + & 2 & 1 & ... &          NA &         NA &          NA &          NA &          NA &          NA &          NA &         NA &           NA & 1\\\\\n",
       "\t5 & rs12184325  & Affx-13963217 & AX-11194291 & 1 & 754105 & C & T & + & 2 & 1 & ... & -0.00347144 & 0.00589896 & -0.00373881 & -0.00189571 & -0.00286888 & 0.000792278 & -0.00191024 & 0.00307453 & -0.000410934 & 1\\\\\n",
       "\t6 & rs3131962   & Affx-13995532 & AX-32225497 & 1 & 756604 & A & G & + & 2 & 1 & ... &          NA &         NA &          NA &          NA &          NA &          NA &          NA &         NA &           NA & 1\\\\\n",
       "\\end{tabular}\n"
      ],
      "text/markdown": [
       "\n",
       "A data.frame: 6 x 159\n",
       "\n",
       "| <!--/--> | rs_id &lt;fct&gt; | affymetrix_snp_id &lt;fct&gt; | affymetrix_probeset_id &lt;fct&gt; | chromosome &lt;int&gt; | position &lt;int&gt; | allele1_ref &lt;fct&gt; | allele2_alt &lt;fct&gt; | strand &lt;fct&gt; | array &lt;int&gt; | Batch_b001_qc &lt;int&gt; | ... ... | PC32_loading &lt;dbl&gt; | PC33_loading &lt;dbl&gt; | PC34_loading &lt;dbl&gt; | PC35_loading &lt;dbl&gt; | PC36_loading &lt;dbl&gt; | PC37_loading &lt;dbl&gt; | PC38_loading &lt;dbl&gt; | PC9_loading.3 &lt;dbl&gt; | PC40_loading &lt;dbl&gt; | in_Phasing_Input &lt;int&gt; |\n",
       "|---|---|---|---|---|---|---|---|---|---|---|---|---|---|---|---|---|---|---|---|---|---|\n",
       "| 1 | rs28659788  | Affx-13546538 | AX-32115783 | 1 | 723307 | C | G | + | 0 | 1 | ... |          NA |         NA |          NA |          NA |          NA |          NA |          NA |         NA |           NA | 0 |\n",
       "| 2 | rs116587930 | Affx-35298040 | AX-37361813 | 1 | 727841 | G | A | + | 2 | 1 | ... |          NA |         NA |          NA |          NA |          NA |          NA |          NA |         NA |           NA | 0 |\n",
       "| 3 | rs116720794 | Affx-13637449 | AX-32137419 | 1 | 729632 | C | T | + | 2 | 1 | ... |          NA |         NA |          NA |          NA |          NA |          NA |          NA |         NA |           NA | 0 |\n",
       "| 4 | rs3131972   | Affx-13945728 | AX-13191280 | 1 | 752721 | A | G | + | 2 | 1 | ... |          NA |         NA |          NA |          NA |          NA |          NA |          NA |         NA |           NA | 1 |\n",
       "| 5 | rs12184325  | Affx-13963217 | AX-11194291 | 1 | 754105 | C | T | + | 2 | 1 | ... | -0.00347144 | 0.00589896 | -0.00373881 | -0.00189571 | -0.00286888 | 0.000792278 | -0.00191024 | 0.00307453 | -0.000410934 | 1 |\n",
       "| 6 | rs3131962   | Affx-13995532 | AX-32225497 | 1 | 756604 | A | G | + | 2 | 1 | ... |          NA |         NA |          NA |          NA |          NA |          NA |          NA |         NA |           NA | 1 |\n",
       "\n"
      ],
      "text/plain": [
       "  rs_id       affymetrix_snp_id affymetrix_probeset_id chromosome position\n",
       "1 rs28659788  Affx-13546538     AX-32115783            1          723307  \n",
       "2 rs116587930 Affx-35298040     AX-37361813            1          727841  \n",
       "3 rs116720794 Affx-13637449     AX-32137419            1          729632  \n",
       "4 rs3131972   Affx-13945728     AX-13191280            1          752721  \n",
       "5 rs12184325  Affx-13963217     AX-11194291            1          754105  \n",
       "6 rs3131962   Affx-13995532     AX-32225497            1          756604  \n",
       "  allele1_ref allele2_alt strand array Batch_b001_qc ... PC32_loading\n",
       "1 C           G           +      0     1             ...          NA \n",
       "2 G           A           +      2     1             ...          NA \n",
       "3 C           T           +      2     1             ...          NA \n",
       "4 A           G           +      2     1             ...          NA \n",
       "5 C           T           +      2     1             ... -0.00347144 \n",
       "6 A           G           +      2     1             ...          NA \n",
       "  PC33_loading PC34_loading PC35_loading PC36_loading PC37_loading PC38_loading\n",
       "1         NA            NA           NA           NA           NA           NA \n",
       "2         NA            NA           NA           NA           NA           NA \n",
       "3         NA            NA           NA           NA           NA           NA \n",
       "4         NA            NA           NA           NA           NA           NA \n",
       "5 0.00589896   -0.00373881  -0.00189571  -0.00286888  0.000792278  -0.00191024 \n",
       "6         NA            NA           NA           NA           NA           NA \n",
       "  PC9_loading.3 PC40_loading in_Phasing_Input\n",
       "1         NA              NA 0               \n",
       "2         NA              NA 0               \n",
       "3         NA              NA 0               \n",
       "4         NA              NA 1               \n",
       "5 0.00307453    -0.000410934 1               \n",
       "6         NA              NA 1               "
      ]
     },
     "metadata": {},
     "output_type": "display_data"
    },
    {
     "data": {
      "text/html": [
       "805426"
      ],
      "text/latex": [
       "805426"
      ],
      "text/markdown": [
       "805426"
      ],
      "text/plain": [
       "[1] 805426"
      ]
     },
     "metadata": {},
     "output_type": "display_data"
    }
   ],
   "source": [
    "# variants genotyped and thus listed in this dataframe = 805,426\n",
    "head(ukb_snp_qc)\n",
    "nrow(ukb_snp_qc)"
   ]
  },
  {
   "cell_type": "markdown",
   "id": "dbaafb54-a43d-48a4-941b-bcbf3abd0860",
   "metadata": {
    "kernel": "R"
   },
   "source": [
    "## Step 2. Select autosomal variants only  "
   ]
  },
  {
   "cell_type": "code",
   "execution_count": 37,
   "id": "dc1b8400-6f65-41ca-bf7f-1e9844a815ef",
   "metadata": {
    "kernel": "R"
   },
   "outputs": [
    {
     "data": {
      "text/html": [
       "784256"
      ],
      "text/latex": [
       "784256"
      ],
      "text/markdown": [
       "784256"
      ],
      "text/plain": [
       "[1] 784256"
      ]
     },
     "metadata": {},
     "output_type": "display_data"
    }
   ],
   "source": [
    "# subset dataframe \n",
    "\n",
    "data.SNP_QC <-subset(ukb_snp_qc, chromosome %in% 1:22)\n",
    "\n",
    "# autosomal variants listed in dataframe = 784,256\n",
    "nrow(data.SNP_QC)"
   ]
  },
  {
   "cell_type": "code",
   "execution_count": null,
   "id": "9a46f5f3-306c-44fe-8ec6-64431d9f2e00",
   "metadata": {
    "kernel": "R"
   },
   "outputs": [],
   "source": [
    "# create list.nonautosomalvariants for reference\n",
    "\n",
    "list.nonautosomalvariants <-subset(ukb_snp_qc, !chromosome %in% 1:22, select=c(rs_id))\n",
    "outfile.name1 <- \"list.nonautosomalvariants.txt\"\n",
    "write.table(list.nonautosomalvariants, outfile.name1, quote=FALSE, col.names=TRUE, row.names=FALSE, sep=\"\\t\")"
   ]
  },
  {
   "cell_type": "markdown",
   "id": "ee06882c-72ff-45cd-a658-c4ecf1cd95e8",
   "metadata": {
    "kernel": "R"
   },
   "source": [
    "## Step 3. Select variants typed in both arrays"
   ]
  },
  {
   "cell_type": "code",
   "execution_count": 38,
   "id": "5e7b7b7f-3f93-4097-8a3a-0088972201c3",
   "metadata": {
    "kernel": "R"
   },
   "outputs": [
    {
     "data": {
      "text/html": [
       "733322"
      ],
      "text/latex": [
       "733322"
      ],
      "text/markdown": [
       "733322"
      ],
      "text/plain": [
       "[1] 733322"
      ]
     },
     "metadata": {},
     "output_type": "display_data"
    }
   ],
   "source": [
    "# subset dataframe \n",
    "\n",
    "data.SNP_QC <-subset(data.SNP_QC, array ==2)\n",
    "\n",
    "# autosomal variants in both arrays = 733,322 \n",
    "nrow(data.SNP_QC)"
   ]
  },
  {
   "cell_type": "code",
   "execution_count": 5,
   "id": "2f9e7f91-7c01-424b-96f1-e0372e83a5c0",
   "metadata": {
    "kernel": "R"
   },
   "outputs": [
    {
     "data": {
      "text/html": [
       "17536"
      ],
      "text/latex": [
       "17536"
      ],
      "text/markdown": [
       "17536"
      ],
      "text/plain": [
       "[1] 17536"
      ]
     },
     "metadata": {},
     "output_type": "display_data"
    }
   ],
   "source": [
    "array1 <-subset(ukb_snp_qc, array ==0)\n",
    "nrow(array1 )"
   ]
  },
  {
   "cell_type": "code",
   "execution_count": 7,
   "id": "9ca6ff02-c487-492f-96ff-0b927f50a68a",
   "metadata": {
    "kernel": "R"
   },
   "outputs": [
    {
     "data": {
      "text/html": [
       "34197"
      ],
      "text/latex": [
       "34197"
      ],
      "text/markdown": [
       "34197"
      ],
      "text/plain": [
       "[1] 34197"
      ]
     },
     "metadata": {},
     "output_type": "display_data"
    }
   ],
   "source": [
    "array2 <-subset(ukb_snp_qc, array ==1)\n",
    "nrow(array2 )"
   ]
  },
  {
   "cell_type": "code",
   "execution_count": 8,
   "id": "7c21cd7f-d6da-4245-b5f3-e6eb6a6dbf71",
   "metadata": {
    "kernel": "R"
   },
   "outputs": [
    {
     "data": {
      "text/html": [
       "753693"
      ],
      "text/latex": [
       "753693"
      ],
      "text/markdown": [
       "753693"
      ],
      "text/plain": [
       "[1] 753693"
      ]
     },
     "metadata": {},
     "output_type": "display_data"
    }
   ],
   "source": [
    "both <-subset(ukb_snp_qc, array ==2)\n",
    "nrow(both )"
   ]
  },
  {
   "cell_type": "code",
   "execution_count": null,
   "id": "519f0eea-4c9e-4d29-aeb7-dfc5b1605734",
   "metadata": {
    "kernel": "R"
   },
   "outputs": [],
   "source": [
    "# create list.notypedinbotharrays for reference\n",
    "  \n",
    "list.notypedinbotharrays <-subset(data.SNP_QC, ! array ==2, select=c(rs_id))\n",
    "outfile.name2 <- \"list.variantsnotypedinbotharrays.txt\"\n",
    "write.table(list.notypedinbotharrays, outfile.name2, quote=FALSE, col.names=TRUE, row.names=FALSE, sep=\"\\t\")"
   ]
  },
  {
   "cell_type": "markdown",
   "id": "b93087d9-b069-4564-ac79-48b9a06a4ef7",
   "metadata": {
    "kernel": "R"
   },
   "source": [
    "## Step 4. Select variants passing all batch QC tests"
   ]
  },
  {
   "cell_type": "code",
   "execution_count": 42,
   "id": "2e7bb59b-dbb1-4dbe-9006-6904772b97a0",
   "metadata": {
    "kernel": "R"
   },
   "outputs": [
    {
     "data": {
      "text/html": [
       "687004"
      ],
      "text/latex": [
       "687004"
      ],
      "text/markdown": [
       "687004"
      ],
      "text/plain": [
       "[1] 687004"
      ]
     },
     "metadata": {},
     "output_type": "display_data"
    }
   ],
   "source": [
    "both_arrays <- data.SNP_QC %>%\n",
    "     filter_at(vars(starts_with(\"Batch\")), all_vars(. > 0)) %>%\n",
    "     filter_at(vars(starts_with(\"UKBiLEVEAX\")), all_vars(. > 0)) %>%\n",
    "     filter(array==2)\n",
    "    \n",
    "#create sumbatches variable (sums batch-specific indicators for each column, sumbatches should equal 106 for inclusion)        \n",
    "data.SNP_QC$sumbatches <- rowSums(data.SNP_QC[,10:115])\n",
    "\n",
    "# subset dataframe \n",
    "data.SNP_QC <-subset(data.SNP_QC,sumbatches  ==106, select=c(rs_id))\n",
    "\n",
    "# autosomal variants = 687,004\n",
    "nrow(data.SNP_QC)\n",
    "write.table(data.SNP_QC, \"SNPs_autosomalvariantspassingbatchqc_120219.txt\", quote=FALSE, col.names=TRUE, row.names=FALSE, sep=\"\\t\")"
   ]
  },
  {
   "cell_type": "code",
   "execution_count": null,
   "id": "59a239ba-f615-4fa9-bca1-b5496a0ac10b",
   "metadata": {
    "kernel": "R"
   },
   "outputs": [],
   "source": [
    "# create list.failbatchQCtests for reference\n",
    "list.failbatchQCtests <-subset(data.SNP_QC, ! sumbatches ==106, select=c(rs_id))\n",
    "outfile.name3 <- \"list.variantsfailingoneormorebatchQCtests.txt\"\n",
    "write.table(list.failbatchQCtests, outfile.name3, quote=FALSE, col.names=TRUE, row.names=FALSE, sep=\"\\t\")"
   ]
  },
  {
   "cell_type": "markdown",
   "id": "6052e7fd-8ffa-46cf-b97f-33548c316505",
   "metadata": {
    "kernel": "R"
   },
   "source": [
    "## Step 5. select SNPs only within PLINK  (--SNPS-ONLY flag)"
   ]
  },
  {
   "cell_type": "code",
   "execution_count": 2,
   "id": "cbdcfcc2-69b0-4fba-b870-d2fb61ce1d25",
   "metadata": {
    "kernel": "Bash",
    "tags": []
   },
   "outputs": [
    {
     "name": "stderr",
     "output_type": "stream",
     "text": [
      "/home/dmc2245/miniconda3/lib/python3.8/site-packages/sos_notebook/kernel.py:1334: DeprecationWarning: Kernel._parent_header is deprecated in ipykernel 6. Use .get_parent()\n",
      "  msg['msg_id'] = self._parent_header['header']['msg_id']\n"
     ]
    },
    {
     "name": "stdout",
     "output_type": "stream",
     "text": [
      "INFO: Running \u001b[32mcsg\u001b[0m: Configuration for Columbia csg partition cluster\n",
      "INFO: \u001b[32mcsg\u001b[0m is \u001b[32mcompleted\u001b[0m.\n",
      "INFO: \u001b[32mcsg\u001b[0m output:   \u001b[32m/home/dmc2245/project/UKBB_GWAS_dev/output/snponly_originalbed_2021-08-24.sbatch\u001b[0m\n",
      "INFO: Workflow csg (ID=wc0e398d163b9a337) is executed successfully with 1 completed step.\n",
      "\n"
     ]
    }
   ],
   "source": [
    "# This is the path to the data transferred from Yale\n",
    "UKBB_yale=/mnt/mfs/statgen/archive/UKBiobank_Yale_transfer\n",
    "UKBB_PATH=/mnt/mfs/statgen/UKBiobank\n",
    "USER_PATH=$HOME/project\n",
    "OUT_PATH=$USER_PATH/UKBB_GWAS_dev/output\n",
    "tpl_file=$USER_PATH/bioworkflows/admin/csg.yml\n",
    "container_lmm=$HOME/containers/lmm.sif\n",
    "#Columbia's cluster\n",
    "cwd=~/UKBiobank/genotype_files_processed\n",
    "# Original bfile containing all of the samples Columbias's cluster\n",
    "genoFile=$UKBB_yale/pleiotropy_geneticfiles/UKB_originalgenotypefilesdownloaded083019/UKB_genotypedatadownloaded083019.bed\n",
    "#To keep the variants that passed previous qc: autosomal, both batches, pass qc within batches\n",
    "keep_variants=~/UKBiobank/genotype_files_processed/SNPs_autosomalvariantspassingbatchqc_120219.txt\n",
    "gwasqc_sos=$USER_PATH/bioworkflows/GWAS/GWAS_QC.ipynb\n",
    "gwasqc_sbatch=$USER_PATH/UKBB_GWAS_dev/output/snponly_originalbed_$(date +\"%Y-%m-%d\").sbatch\n",
    "snps_only=True\n",
    "maf_filter=0\n",
    "geno_filter=0\n",
    "hwe_filter=0\n",
    "mind_filter=0\n",
    "mem='30G'\n",
    "name='082421'\n",
    "job_size=1\n",
    "numThreads=2\n",
    "\n",
    "gwasqc1_args=\"\"\"qc:1\n",
    "    --cwd $cwd\n",
    "    --genoFile $genoFile\n",
    "    --keep_variants $keep_variants\n",
    "    --maf_filter $maf_filter\n",
    "    --geno_filter $geno_filter\n",
    "    --hwe_filter $hwe_filter\n",
    "    --mind_filter $mind_filter\n",
    "    --snps_only $snps_only\n",
    "    --numThreads $numThreads \n",
    "    --job_size $job_size\n",
    "    --container_lmm $container_lmm\n",
    "    --mem $mem\n",
    "\"\"\"\n",
    "\n",
    "sos run ~/project/UKBB_GWAS_dev/admin/Get_Job_Script.ipynb csg \\\n",
    "    --template-file $tpl_file \\\n",
    "    --workflow-file $gwasqc_sos \\\n",
    "    --to-script $gwasqc_sbatch \\\n",
    "    --args \"$gwasqc1_args\""
   ]
  },
  {
   "cell_type": "code",
   "execution_count": null,
   "id": "d0c271b6-bc38-45c7-9550-5a4f9408da4f",
   "metadata": {
    "kernel": "R"
   },
   "outputs": [],
   "source": [
    "## Step 6. Run the PERL SCRIPT for Missingness, MAF, and HWE\n",
    "  # Note that this script will yield two output files: <nameoffile>.QC and <nameoffile>.out\n",
    "  # Use <nameoffile>.QC to filter out the variants\n",
    "  # Keep <nameoffile>.out as reference\n",
    "\n",
    "  data.perl_SNP_QC <- read.table(\"/research_storage/dbgap/work/Yasmmyn/UK_Biobank/geneQC/try2_UKB_SNPs.QC\", header=TRUE, sep=\"\\t\")\n",
    "\n",
    "  # Step 6a. missingness\n",
    "  names(data.perl_SNP_QC)[1] <-\"rs_id\"\n",
    "  list.exclude.perl_SNP_QC1  <- subset(data.perl_SNP_QC,data.perl_SNP_QC$MISS==1,select=c(rs_id))\n",
    "  list.exclude.perl_SNP_QC1  <- as.matrix(list.exclude.perl_SNP_QC1)\n",
    "\n",
    "\n",
    "  data.SNP_QC <-subset(data.SNP_QC, ! rs_id %in% list.exclude.perl_SNP_QC1)\n",
    "\n",
    "  # SNPs = 652,399\n",
    "  nrow(data.SNP_QC)\n",
    "\n",
    "  # Step 6b. HWE\n",
    "  \n",
    "  list.exclude.perl_SNP_QC2 <- subset(data.perl_SNP_QC,data.perl_SNP_QC$HWE==1,select=c(rs_id))\n",
    "  list.exclude.perl_SNP_QC2 <- as.matrix(list.exclude.perl_SNP_QC2)\n",
    "\n",
    "  data.SNP_QC <-subset(data.SNP_QC, ! rs_id %in% list.exclude.perl_SNP_QC2)\n",
    "\n",
    "  # SNPs = 622,266\n",
    "  nrow(data.SNP_QC)\n",
    "  \n",
    "  # Step 6c. MAF \n",
    "  \n",
    "  list.exclude.perl_SNP_QC3  <- subset(data.perl_SNP_QC,data.perl_SNP_QC$MAF==1,select=c(rs_id))\n",
    "  list.exclude.perl_SNP_QC3  <- as.matrix(list.exclude.perl_SNP_QC3)\n",
    "\n",
    "  data.SNP_QC <-subset(data.SNP_QC, ! rs_id %in% list.exclude.perl_SNP_QC3)\n",
    "\n",
    "  \n",
    "  # SNPs = 541,312\n",
    "  nrow(data.SNP_QC)\n",
    "\n",
    "  # note that these numbers are off by 12,515 because I deleted indels using the --SNPS-ONLY flag in PLINK"
   ]
  },
  {
   "cell_type": "markdown",
   "id": "94ac1559-b75c-4b13-8ff3-5381730b7fe5",
   "metadata": {
    "kernel": "R"
   },
   "source": [
    "# Sample QC summary\n",
    "\n",
    "Original file downloaded from the UKBB \n",
    "\n",
    "~/UKBiobank_Yale_transfer/pleiotropy_geneticfiles/UKB_originalgenotypefilesdownloaded083019/UKB_genotypedatadownloaded083019.fam\n",
    "\n",
    "- Starting number of variants: 784,256 (starting with only autosomal variants)\n",
    "- Starting number of individuals: 488,221 (individuals that have both genotype and phenotype information)\n",
    "\n",
    "* Genetic and reported sex match --> 487,849\n",
    "* Sex chromosomes non XX - XY --> 487,379\n",
    "* Outliers heterozygosity/missing rate --> 486,416\n",
    "* Select individuals from different ethnicities (asian N=10,18; african N=8,621; and white N=)\n",
    "* Individuals call rate > 99% --> 436,698\n",
    "\n",
    "The R script and submission file are present here\n",
    "\n",
    "`~/UKBiobank/genotype_files_processed/082421_sample_qc.R`\n",
    "\n",
    "`~/UKBiobank/genotype_files_processed/082421_sample_qc.sh`"
   ]
  },
  {
   "cell_type": "markdown",
   "id": "c7aec165-18a9-45ba-8bce-ec1b17bc4ee5",
   "metadata": {
    "kernel": "R"
   },
   "source": [
    "## Step 1. Import list of people with genotype data into a dataframe"
   ]
  },
  {
   "cell_type": "code",
   "execution_count": 1,
   "id": "3528342d-280d-4efc-8072-b43eeeef13da",
   "metadata": {
    "kernel": "R"
   },
   "outputs": [
    {
     "name": "stderr",
     "output_type": "stream",
     "text": [
      "/home/dmc2245/miniconda3/lib/python3.8/site-packages/sos_notebook/kernel.py:1334: DeprecationWarning: Kernel._parent_header is deprecated in ipykernel 6. Use .get_parent()\n",
      "  msg['msg_id'] = self._parent_header['header']['msg_id']\n"
     ]
    }
   ],
   "source": [
    "data.havegenotypes <- read.table(\"~/UKBiobank_Yale_transfer/pleiotropy_geneticfiles/UKB_originalgenotypefilesdownloaded083019/UKB_genotypedatadownloaded083019.fam\", header= FALSE, stringsAsFactors = FALSE)\n",
    "names(data.havegenotypes) <-c(\"FID\",\"IID\",\"ignore1\", \"ignore2\", \"ignore3\", \"ignore4\")\n",
    "cat(\"The number of individuals with genotype data is:\",nrow(data.havegenotypes),\"\\n\")\n",
    " # n = 488377 subjects"
   ]
  },
  {
   "cell_type": "markdown",
   "id": "594602f0-0a80-47e2-9b65-0e39efd23e93",
   "metadata": {
    "kernel": "R"
   },
   "source": [
    "## Step 2. Import phenotype data and create a dataframe"
   ]
  },
  {
   "cell_type": "code",
   "execution_count": 2,
   "id": "fe6a9827-fb9e-46c2-8930-36133ce06ed1",
   "metadata": {
    "kernel": "R"
   },
   "outputs": [],
   "source": [
    "library(data.table)\n",
    "dat <- fread(\"~/UKBiobank/data/ukbb_databases/ukb47922_updatedAug2021/ukb47922.tab\", header=TRUE, sep=\"\\t\", select = c(\"f.eid\",\"f.31.0.0\",\"f.22001.0.0\",\"f.22019.0.0\",\"f.22027.0.0\",\"f.22021.0.0\",\"f.22006.0.0\"))"
   ]
  },
  {
   "cell_type": "code",
   "execution_count": 3,
   "id": "ff2c63b0-ed1b-4259-ad8c-e34e38adfa2e",
   "metadata": {
    "kernel": "R"
   },
   "outputs": [
    {
     "data": {
      "text/html": [
       "<table class=\"dataframe\">\n",
       "<caption>A data.table: 6 x 7</caption>\n",
       "<thead>\n",
       "\t<tr><th scope=col>f.eid</th><th scope=col>f.31.0.0</th><th scope=col>f.22001.0.0</th><th scope=col>f.22019.0.0</th><th scope=col>f.22027.0.0</th><th scope=col>f.22021.0.0</th><th scope=col>f.22006.0.0</th></tr>\n",
       "\t<tr><th scope=col>&lt;int&gt;</th><th scope=col>&lt;int&gt;</th><th scope=col>&lt;int&gt;</th><th scope=col>&lt;int&gt;</th><th scope=col>&lt;int&gt;</th><th scope=col>&lt;int&gt;</th><th scope=col>&lt;int&gt;</th></tr>\n",
       "</thead>\n",
       "<tbody>\n",
       "\t<tr><td>1000019</td><td>0</td><td>0</td><td>NA</td><td>NA</td><td>1</td><td>1</td></tr>\n",
       "\t<tr><td>1000022</td><td>1</td><td>1</td><td>NA</td><td>NA</td><td>0</td><td>1</td></tr>\n",
       "\t<tr><td>1000035</td><td>1</td><td>1</td><td>NA</td><td>NA</td><td>1</td><td>1</td></tr>\n",
       "\t<tr><td>1000046</td><td>0</td><td>0</td><td>NA</td><td>NA</td><td>1</td><td>1</td></tr>\n",
       "\t<tr><td>1000054</td><td>0</td><td>0</td><td>NA</td><td>NA</td><td>1</td><td>1</td></tr>\n",
       "\t<tr><td>1000063</td><td>1</td><td>1</td><td>NA</td><td>NA</td><td>0</td><td>1</td></tr>\n",
       "</tbody>\n",
       "</table>\n"
      ],
      "text/latex": [
       "A data.table: 6 x 7\n",
       "\\begin{tabular}{lllllll}\n",
       " f.eid & f.31.0.0 & f.22001.0.0 & f.22019.0.0 & f.22027.0.0 & f.22021.0.0 & f.22006.0.0\\\\\n",
       " <int> & <int> & <int> & <int> & <int> & <int> & <int>\\\\\n",
       "\\hline\n",
       "\t 1000019 & 0 & 0 & NA & NA & 1 & 1\\\\\n",
       "\t 1000022 & 1 & 1 & NA & NA & 0 & 1\\\\\n",
       "\t 1000035 & 1 & 1 & NA & NA & 1 & 1\\\\\n",
       "\t 1000046 & 0 & 0 & NA & NA & 1 & 1\\\\\n",
       "\t 1000054 & 0 & 0 & NA & NA & 1 & 1\\\\\n",
       "\t 1000063 & 1 & 1 & NA & NA & 0 & 1\\\\\n",
       "\\end{tabular}\n"
      ],
      "text/markdown": [
       "\n",
       "A data.table: 6 x 7\n",
       "\n",
       "| f.eid &lt;int&gt; | f.31.0.0 &lt;int&gt; | f.22001.0.0 &lt;int&gt; | f.22019.0.0 &lt;int&gt; | f.22027.0.0 &lt;int&gt; | f.22021.0.0 &lt;int&gt; | f.22006.0.0 &lt;int&gt; |\n",
       "|---|---|---|---|---|---|---|\n",
       "| 1000019 | 0 | 0 | NA | NA | 1 | 1 |\n",
       "| 1000022 | 1 | 1 | NA | NA | 0 | 1 |\n",
       "| 1000035 | 1 | 1 | NA | NA | 1 | 1 |\n",
       "| 1000046 | 0 | 0 | NA | NA | 1 | 1 |\n",
       "| 1000054 | 0 | 0 | NA | NA | 1 | 1 |\n",
       "| 1000063 | 1 | 1 | NA | NA | 0 | 1 |\n",
       "\n"
      ],
      "text/plain": [
       "  f.eid   f.31.0.0 f.22001.0.0 f.22019.0.0 f.22027.0.0 f.22021.0.0 f.22006.0.0\n",
       "1 1000019 0        0           NA          NA          1           1          \n",
       "2 1000022 1        1           NA          NA          0           1          \n",
       "3 1000035 1        1           NA          NA          1           1          \n",
       "4 1000046 0        0           NA          NA          1           1          \n",
       "5 1000054 0        0           NA          NA          1           1          \n",
       "6 1000063 1        1           NA          NA          0           1          "
      ]
     },
     "metadata": {},
     "output_type": "display_data"
    }
   ],
   "source": [
    "head(dat)"
   ]
  },
  {
   "cell_type": "code",
   "execution_count": 4,
   "id": "c7175ee1-3837-4183-9daa-627191dfe748",
   "metadata": {
    "kernel": "R"
   },
   "outputs": [
    {
     "name": "stdout",
     "output_type": "stream",
     "text": [
      "The number of individuals with phenotype data is: 502461 \n"
     ]
    }
   ],
   "source": [
    "#mydata <- read.table(\"~/UKBiobank/data/ukbb_databases/ukb47922_updatedAug2021/ukb47922.tab\", header=TRUE, sep=\"\\t\")\n",
    "names(dat)[1] <- \"IID\" \n",
    "cat(\"The number of individuals with phenotype data is:\",nrow(dat),\"\\n\")\n",
    " # n = 502,461 subjects"
   ]
  },
  {
   "cell_type": "markdown",
   "id": "3403ecc4-bd4c-4d12-a0c2-e9bfc795b4be",
   "metadata": {
    "kernel": "R"
   },
   "source": [
    "## Step 3. Merge the dataframes "
   ]
  },
  {
   "cell_type": "code",
   "execution_count": 5,
   "id": "59d48e83-9387-4254-97be-cbb1cd4aa541",
   "metadata": {
    "kernel": "R"
   },
   "outputs": [
    {
     "name": "stdout",
     "output_type": "stream",
     "text": [
      "The number of individuals with both phenotype and genotype data: 488221 \n"
     ]
    }
   ],
   "source": [
    "data.haveboth <-merge(data.havegenotypes, dat, by=\"IID\", all=FALSE)\n",
    "cat(\"The number of individuals with both phenotype and genotype data:\",nrow(data.haveboth),\"\\n\")\n",
    "# n = 487,849(had phenotype data, #528 indiduals removed)"
   ]
  },
  {
   "cell_type": "markdown",
   "id": "d967d231-e2a5-47ea-998a-3957fd8d482e",
   "metadata": {
    "kernel": "R"
   },
   "source": [
    "## Step 4. Additional sex checks  "
   ]
  },
  {
   "cell_type": "code",
   "execution_count": 6,
   "id": "12afaf0d-2861-4503-82e1-a23139e87106",
   "metadata": {
    "kernel": "R"
   },
   "outputs": [
    {
     "name": "stdout",
     "output_type": "stream",
     "text": [
      "The number of individuals whose reported and genetic sex match is: 487849 \n",
      "The number of individuals whose reported and genetic sex does NOT match is: 372 \n"
     ]
    }
   ],
   "source": [
    "#4a. genetic sex vs. self-reported sex\n",
    "\n",
    "data.haveboth$sex_match<- (data.haveboth$f.22001.0.0 == data.haveboth$f.31.0.0)\n",
    "sexnomatch <- subset(data.haveboth, data.haveboth$sex_match==\"FALSE\")\n",
    "data.haveboth<- subset(data.haveboth, data.haveboth$sex_match==\"TRUE\")\n",
    "cat(\"The number of individuals whose reported and genetic sex match is:\",nrow(data.haveboth),\"\\n\")\n",
    "cat(\"The number of individuals whose reported and genetic sex does NOT match is:\",nrow(sexnomatch),\"\\n\")\n",
    "# n = 487,379 subjects match for sex"
   ]
  },
  {
   "cell_type": "code",
   "execution_count": 7,
   "id": "94ed90b5-e223-40f9-bd49-c863341563af",
   "metadata": {
    "kernel": "R"
   },
   "outputs": [
    {
     "name": "stdout",
     "output_type": "stream",
     "text": [
      "The number of individuals with aneuploidies is: 470 \n",
      "The number of individuals with XX and XY 487379 \n"
     ]
    }
   ],
   "source": [
    "#4b. Identify subjects with sex chromosome karyotypes putatively different from XX or XY\n",
    "\n",
    "aneu.toexclude  <- subset(data.haveboth, data.haveboth$f.22019.0.0==1, select=c(IID))\n",
    "aneu.toexclude  <- as.matrix(aneu.toexclude)\n",
    "\n",
    "data.haveboth <-subset(data.haveboth, ! IID %in% aneu.toexclude)\n",
    "cat(\"The number of individuals with aneuploidies is:\",nrow(aneu.toexclude),\"\\n\")\n",
    "cat(\"The number of individuals with XX and XY\",nrow(data.haveboth),\"\\n\")\n",
    "#n = 486,416 subjects remain"
   ]
  },
  {
   "cell_type": "code",
   "execution_count": 9,
   "id": "d0c810f4-8f09-484e-8742-c6fa3d9f80a1",
   "metadata": {
    "kernel": "R"
   },
   "outputs": [
    {
     "name": "stderr",
     "output_type": "stream",
     "text": [
      "Warning message in write.csv(ID_keep, \"~/UKBiobank/genotype_files_processed/01172023_sampleQC_IID_keep_487379ind.csv\", :\n",
      "“attempt to set 'col.names' ignored”\n"
     ]
    }
   ],
   "source": [
    "# Save the IID that pass these QC filters to a file\n",
    "ID_keep <- data.haveboth[,1, drop=FALSE]\n",
    "write.csv(ID_keep,'~/UKBiobank/genotype_files_processed/01172023_sampleQC_IID_keep_487379ind.csv', row.names = FALSE, col.names=FALSE)"
   ]
  },
  {
   "cell_type": "markdown",
   "id": "d13aa680-80bc-4f39-a1d6-7625879310c5",
   "metadata": {
    "kernel": "R"
   },
   "source": [
    "## Step 5. Identify subjects that are outliers in heterozygosity and missing rates"
   ]
  },
  {
   "cell_type": "code",
   "execution_count": 10,
   "id": "2ca1492b-8f0a-464c-a3da-9031af85b672",
   "metadata": {
    "kernel": "R"
   },
   "outputs": [
    {
     "name": "stdout",
     "output_type": "stream",
     "text": [
      "The number of individuals that are outliers for heterozygosity or missing rates is: 963 \n",
      "The number of individuals that are not outliers for heterozygosity or missing rates is: 486416 \n"
     ]
    }
   ],
   "source": [
    "list.toexclude <- subset(data.haveboth, data.haveboth$f.22027.0.0==1, select=c(IID))\n",
    "list.toexclude  <- as.matrix(list.toexclude)\n",
    "\n",
    "data.haveboth <-subset(data.haveboth, ! IID %in% list.toexclude)\n",
    "cat(\"The number of individuals that are outliers for heterozygosity or missing rates is:\",nrow(list.toexclude),\"\\n\")\n",
    "cat(\"The number of individuals that are not outliers for heterozygosity or missing rates is:\",nrow(data.haveboth),\"\\n\")"
   ]
  },
  {
   "cell_type": "markdown",
   "id": "ae1cc1dd-f2e4-43f5-af2d-a923e02d08a7",
   "metadata": {
    "kernel": "R"
   },
   "source": [
    "## Identify ancestry and do QC for British, Asians and Africans separately"
   ]
  },
  {
   "cell_type": "markdown",
   "id": "b8416d76-6147-46f7-9244-2a3ae7eacd85",
   "metadata": {
    "kernel": "R"
   },
   "source": [
    "### Expanded white with exome QC of genotype array"
   ]
  },
  {
   "cell_type": "code",
   "execution_count": null,
   "id": "8f0df0a0-c351-4e00-a658-eb42b6e7c058",
   "metadata": {
    "kernel": "R"
   },
   "outputs": [],
   "source": [
    "exp_white <- read.table(\"~/UKBiobank/results/083021_PCA_results/121721_ukb42495_exomed_white_187908ind_no_outliers.id\")"
   ]
  },
  {
   "cell_type": "markdown",
   "id": "3fd4be36-5c72-4692-af40-dbc128fdd91a",
   "metadata": {
    "kernel": "R"
   },
   "source": [
    "### Call rate 90% expanded white"
   ]
  },
  {
   "cell_type": "code",
   "execution_count": 2,
   "id": "56c187b2-2300-4426-ab50-098bfc8cde76",
   "metadata": {
    "kernel": "Bash",
    "tags": []
   },
   "outputs": [
    {
     "name": "stdout",
     "output_type": "stream",
     "text": [
      "INFO: Running \u001b[32mcsg\u001b[0m: Configuration for Columbia csg partition cluster\n",
      "INFO: \u001b[32mcsg\u001b[0m is \u001b[32mcompleted\u001b[0m.\n",
      "INFO: \u001b[32mcsg\u001b[0m output:   \u001b[32m/home/dmc2245/project/UKBB_GWAS_dev/output/ExWhite_exome_QC_mind0.05_2022-01-10.sbatch\u001b[0m\n",
      "INFO: Workflow csg (ID=w2a0fd98be7b35893) is executed successfully with 1 completed step.\n",
      "\n"
     ]
    }
   ],
   "source": [
    "# This is the path to the data transferred from Yale\n",
    "UKBB_yale=/mnt/mfs/statgen/archive/UKBiobank_Yale_transfer\n",
    "UKBB_PATH=/mnt/mfs/statgen/UKBiobank\n",
    "USER_PATH=$HOME/project\n",
    "OUT_PATH=$USER_PATH/UKBB_GWAS_dev/output\n",
    "tpl_file=$USER_PATH/bioworkflows/admin/csg.yml\n",
    "container_lmm=$HOME/containers/lmm.sif\n",
    "#Columbia's cluster\n",
    "cwd=~/UKBiobank/genotype_files_processed/010622_exp_white_exomed_mind0.1\n",
    "# bfile with variant_qc_1\n",
    "genoFile=~/UKBiobank/genotype_files_processed/cache/UKB_genotypedatadownloaded083019.genotype_files_processed.filtered.extracted.bed\n",
    "#To keep the samples that passed sample_qc_1 N=187,908 after PCA it was determined that this are the expanded white\n",
    "keep_samples=~/UKBiobank/results/083021_PCA_results/121721_ukb42495_exomed_white_187908ind_no_outliers.id\n",
    "gwasqc_sos=$USER_PATH/bioworkflows/GWAS/GWAS_QC.ipynb\n",
    "gwasqc_sbatch=$USER_PATH/UKBB_GWAS_dev/output/ExWhite_exome_QC_mind0.05_$(date +\"%Y-%m-%d\").sbatch\n",
    "maf_filter=0\n",
    "geno_filter=0\n",
    "hwe_filter=0\n",
    "# with mind=0.01 no samples remaining\n",
    "# Keep individuals with call rate > 90%\n",
    "mind_filter=0.1\n",
    "mem='30G'\n",
    "name='010622'\n",
    "job_size=1\n",
    "numThreads=2\n",
    "\n",
    "gwasqc1_args=\"\"\"qc:1\n",
    "    --cwd $cwd\n",
    "    --genoFile $genoFile\n",
    "    --keep_samples $keep_samples\n",
    "    --maf_filter $maf_filter\n",
    "    --geno_filter $geno_filter\n",
    "    --hwe_filter $hwe_filter\n",
    "    --mind_filter $mind_filter\n",
    "    --numThreads $numThreads \n",
    "    --job_size $job_size\n",
    "    --container_lmm $container_lmm\n",
    "    --mem $mem\n",
    "\"\"\"\n",
    "\n",
    "sos run ~/project/UKBB_GWAS_dev/admin/Get_Job_Script.ipynb csg \\\n",
    "    --template-file $tpl_file \\\n",
    "    --workflow-file $gwasqc_sos \\\n",
    "    --to-script $gwasqc_sbatch \\\n",
    "    --args \"$gwasqc1_args\""
   ]
  },
  {
   "cell_type": "markdown",
   "id": "87fb9a9f-a299-4da7-9519-9148e61f6511",
   "metadata": {
    "kernel": "Bash"
   },
   "source": [
    "### Remove the related individuals before the variant qc2"
   ]
  },
  {
   "cell_type": "code",
   "execution_count": 11,
   "id": "e69d3f1d-0ffd-43c5-ad76-f06ff733072e",
   "metadata": {
    "kernel": "R",
    "tags": []
   },
   "outputs": [],
   "source": [
    "### Read in the removed individuals after the sample missingness filter (mind=0.05) 95% call rate for the asian subset\n",
    "### In this case all of the individuals were kept N=10,189\n",
    "keep_white <- read.table(\"~/UKBiobank/genotype_files_processed/010622_exp_white_exomed_mind0.1/cache/UKB_genotypedatadownloaded083019.genotype_files_processed.filtered.extracted.010622_exp_white_exomed_mind0.1.filtered.fam\", header=FALSE)\n",
    "names(keep_white) <-c(\"FID\",\"IID\", \"father\", \"mother\", \"sex\", \"pheno\")"
   ]
  },
  {
   "cell_type": "code",
   "execution_count": 12,
   "id": "73d082ce-6cf3-4d60-af25-c14a4d019851",
   "metadata": {
    "kernel": "R"
   },
   "outputs": [
    {
     "data": {
      "text/html": [
       "<table class=\"dataframe\">\n",
       "<caption>A data.frame: 6 x 6</caption>\n",
       "<thead>\n",
       "\t<tr><th></th><th scope=col>FID</th><th scope=col>IID</th><th scope=col>father</th><th scope=col>mother</th><th scope=col>sex</th><th scope=col>pheno</th></tr>\n",
       "\t<tr><th></th><th scope=col>&lt;int&gt;</th><th scope=col>&lt;int&gt;</th><th scope=col>&lt;int&gt;</th><th scope=col>&lt;int&gt;</th><th scope=col>&lt;int&gt;</th><th scope=col>&lt;int&gt;</th></tr>\n",
       "</thead>\n",
       "<tbody>\n",
       "\t<tr><th scope=row>1</th><td>1000019</td><td>1000019</td><td>0</td><td>0</td><td>2</td><td>-9</td></tr>\n",
       "\t<tr><th scope=row>2</th><td>1000035</td><td>1000035</td><td>0</td><td>0</td><td>1</td><td>-9</td></tr>\n",
       "\t<tr><th scope=row>3</th><td>1000078</td><td>1000078</td><td>0</td><td>0</td><td>2</td><td>-9</td></tr>\n",
       "\t<tr><th scope=row>4</th><td>1000081</td><td>1000081</td><td>0</td><td>0</td><td>1</td><td>-9</td></tr>\n",
       "\t<tr><th scope=row>5</th><td>1000198</td><td>1000198</td><td>0</td><td>0</td><td>2</td><td>-9</td></tr>\n",
       "\t<tr><th scope=row>6</th><td>1000210</td><td>1000210</td><td>0</td><td>0</td><td>1</td><td>-9</td></tr>\n",
       "</tbody>\n",
       "</table>\n"
      ],
      "text/latex": [
       "A data.frame: 6 x 6\n",
       "\\begin{tabular}{r|llllll}\n",
       "  & FID & IID & father & mother & sex & pheno\\\\\n",
       "  & <int> & <int> & <int> & <int> & <int> & <int>\\\\\n",
       "\\hline\n",
       "\t1 & 1000019 & 1000019 & 0 & 0 & 2 & -9\\\\\n",
       "\t2 & 1000035 & 1000035 & 0 & 0 & 1 & -9\\\\\n",
       "\t3 & 1000078 & 1000078 & 0 & 0 & 2 & -9\\\\\n",
       "\t4 & 1000081 & 1000081 & 0 & 0 & 1 & -9\\\\\n",
       "\t5 & 1000198 & 1000198 & 0 & 0 & 2 & -9\\\\\n",
       "\t6 & 1000210 & 1000210 & 0 & 0 & 1 & -9\\\\\n",
       "\\end{tabular}\n"
      ],
      "text/markdown": [
       "\n",
       "A data.frame: 6 x 6\n",
       "\n",
       "| <!--/--> | FID &lt;int&gt; | IID &lt;int&gt; | father &lt;int&gt; | mother &lt;int&gt; | sex &lt;int&gt; | pheno &lt;int&gt; |\n",
       "|---|---|---|---|---|---|---|\n",
       "| 1 | 1000019 | 1000019 | 0 | 0 | 2 | -9 |\n",
       "| 2 | 1000035 | 1000035 | 0 | 0 | 1 | -9 |\n",
       "| 3 | 1000078 | 1000078 | 0 | 0 | 2 | -9 |\n",
       "| 4 | 1000081 | 1000081 | 0 | 0 | 1 | -9 |\n",
       "| 5 | 1000198 | 1000198 | 0 | 0 | 2 | -9 |\n",
       "| 6 | 1000210 | 1000210 | 0 | 0 | 1 | -9 |\n",
       "\n"
      ],
      "text/plain": [
       "  FID     IID     father mother sex pheno\n",
       "1 1000019 1000019 0      0      2   -9   \n",
       "2 1000035 1000035 0      0      1   -9   \n",
       "3 1000078 1000078 0      0      2   -9   \n",
       "4 1000081 1000081 0      0      1   -9   \n",
       "5 1000198 1000198 0      0      2   -9   \n",
       "6 1000210 1000210 0      0      1   -9   "
      ]
     },
     "metadata": {},
     "output_type": "display_data"
    }
   ],
   "source": [
    "head(keep_white)"
   ]
  },
  {
   "cell_type": "code",
   "execution_count": 21,
   "id": "d8782831-1dbd-4344-8b48-aab1a298dcd6",
   "metadata": {
    "kernel": "R"
   },
   "outputs": [
    {
     "data": {
      "text/html": [
       "187908"
      ],
      "text/latex": [
       "187908"
      ],
      "text/markdown": [
       "187908"
      ],
      "text/plain": [
       "[1] 187908"
      ]
     },
     "metadata": {},
     "output_type": "display_data"
    }
   ],
   "source": [
    "nrow(keep_white)"
   ]
  },
  {
   "cell_type": "code",
   "execution_count": 14,
   "id": "63af5efe-a2b6-4c37-8def-7d148a06397e",
   "metadata": {
    "kernel": "R",
    "tags": []
   },
   "outputs": [],
   "source": [
    "white_subset<-subset(data.haveboth, IID %in% keep_white$IID)"
   ]
  },
  {
   "cell_type": "code",
   "execution_count": 17,
   "id": "96a2d333-f988-4838-b477-52acb2348219",
   "metadata": {
    "kernel": "R"
   },
   "outputs": [
    {
     "data": {
      "text/html": [
       "<table class=\"dataframe\">\n",
       "<caption>A data.frame: 6 x 13</caption>\n",
       "<thead>\n",
       "\t<tr><th></th><th scope=col>IID</th><th scope=col>FID</th><th scope=col>ignore1</th><th scope=col>ignore2</th><th scope=col>ignore3</th><th scope=col>ignore4</th><th scope=col>f.31.0.0</th><th scope=col>f.22001.0.0</th><th scope=col>f.22019.0.0</th><th scope=col>f.22027.0.0</th><th scope=col>f.22021.0.0</th><th scope=col>f.22006.0.0</th><th scope=col>sex_match</th></tr>\n",
       "\t<tr><th></th><th scope=col>&lt;int&gt;</th><th scope=col>&lt;int&gt;</th><th scope=col>&lt;int&gt;</th><th scope=col>&lt;int&gt;</th><th scope=col>&lt;int&gt;</th><th scope=col>&lt;int&gt;</th><th scope=col>&lt;int&gt;</th><th scope=col>&lt;int&gt;</th><th scope=col>&lt;int&gt;</th><th scope=col>&lt;int&gt;</th><th scope=col>&lt;int&gt;</th><th scope=col>&lt;int&gt;</th><th scope=col>&lt;lgl&gt;</th></tr>\n",
       "</thead>\n",
       "<tbody>\n",
       "\t<tr><th scope=row>6955</th><td>1071720</td><td>1071720</td><td>0</td><td>0</td><td>2</td><td>-9</td><td>0</td><td>0</td><td>NA</td><td>NA</td><td>10</td><td> 1</td><td>TRUE</td></tr>\n",
       "\t<tr><th scope=row>14391</th><td>1148275</td><td>1148275</td><td>0</td><td>0</td><td>1</td><td>-9</td><td>1</td><td>1</td><td>NA</td><td>NA</td><td>10</td><td>NA</td><td>TRUE</td></tr>\n",
       "\t<tr><th scope=row>25635</th><td>1263990</td><td>1263990</td><td>0</td><td>0</td><td>1</td><td>-9</td><td>1</td><td>1</td><td>NA</td><td>NA</td><td>10</td><td> 1</td><td>TRUE</td></tr>\n",
       "\t<tr><th scope=row>28409</th><td>1292522</td><td>1292522</td><td>0</td><td>0</td><td>2</td><td>-9</td><td>0</td><td>0</td><td>NA</td><td>NA</td><td>10</td><td> 1</td><td>TRUE</td></tr>\n",
       "\t<tr><th scope=row>33581</th><td>1345826</td><td>1345826</td><td>0</td><td>0</td><td>2</td><td>-9</td><td>0</td><td>0</td><td>NA</td><td>NA</td><td>10</td><td> 1</td><td>TRUE</td></tr>\n",
       "\t<tr><th scope=row>33615</th><td>1346185</td><td>1346185</td><td>0</td><td>0</td><td>2</td><td>-9</td><td>0</td><td>0</td><td>NA</td><td>NA</td><td>10</td><td> 1</td><td>TRUE</td></tr>\n",
       "</tbody>\n",
       "</table>\n"
      ],
      "text/latex": [
       "A data.frame: 6 x 13\n",
       "\\begin{tabular}{r|lllllllllllll}\n",
       "  & IID & FID & ignore1 & ignore2 & ignore3 & ignore4 & f.31.0.0 & f.22001.0.0 & f.22019.0.0 & f.22027.0.0 & f.22021.0.0 & f.22006.0.0 & sex\\_match\\\\\n",
       "  & <int> & <int> & <int> & <int> & <int> & <int> & <int> & <int> & <int> & <int> & <int> & <int> & <lgl>\\\\\n",
       "\\hline\n",
       "\t6955 & 1071720 & 1071720 & 0 & 0 & 2 & -9 & 0 & 0 & NA & NA & 10 &  1 & TRUE\\\\\n",
       "\t14391 & 1148275 & 1148275 & 0 & 0 & 1 & -9 & 1 & 1 & NA & NA & 10 & NA & TRUE\\\\\n",
       "\t25635 & 1263990 & 1263990 & 0 & 0 & 1 & -9 & 1 & 1 & NA & NA & 10 &  1 & TRUE\\\\\n",
       "\t28409 & 1292522 & 1292522 & 0 & 0 & 2 & -9 & 0 & 0 & NA & NA & 10 &  1 & TRUE\\\\\n",
       "\t33581 & 1345826 & 1345826 & 0 & 0 & 2 & -9 & 0 & 0 & NA & NA & 10 &  1 & TRUE\\\\\n",
       "\t33615 & 1346185 & 1346185 & 0 & 0 & 2 & -9 & 0 & 0 & NA & NA & 10 &  1 & TRUE\\\\\n",
       "\\end{tabular}\n"
      ],
      "text/markdown": [
       "\n",
       "A data.frame: 6 x 13\n",
       "\n",
       "| <!--/--> | IID &lt;int&gt; | FID &lt;int&gt; | ignore1 &lt;int&gt; | ignore2 &lt;int&gt; | ignore3 &lt;int&gt; | ignore4 &lt;int&gt; | f.31.0.0 &lt;int&gt; | f.22001.0.0 &lt;int&gt; | f.22019.0.0 &lt;int&gt; | f.22027.0.0 &lt;int&gt; | f.22021.0.0 &lt;int&gt; | f.22006.0.0 &lt;int&gt; | sex_match &lt;lgl&gt; |\n",
       "|---|---|---|---|---|---|---|---|---|---|---|---|---|---|\n",
       "| 6955 | 1071720 | 1071720 | 0 | 0 | 2 | -9 | 0 | 0 | NA | NA | 10 |  1 | TRUE |\n",
       "| 14391 | 1148275 | 1148275 | 0 | 0 | 1 | -9 | 1 | 1 | NA | NA | 10 | NA | TRUE |\n",
       "| 25635 | 1263990 | 1263990 | 0 | 0 | 1 | -9 | 1 | 1 | NA | NA | 10 |  1 | TRUE |\n",
       "| 28409 | 1292522 | 1292522 | 0 | 0 | 2 | -9 | 0 | 0 | NA | NA | 10 |  1 | TRUE |\n",
       "| 33581 | 1345826 | 1345826 | 0 | 0 | 2 | -9 | 0 | 0 | NA | NA | 10 |  1 | TRUE |\n",
       "| 33615 | 1346185 | 1346185 | 0 | 0 | 2 | -9 | 0 | 0 | NA | NA | 10 |  1 | TRUE |\n",
       "\n"
      ],
      "text/plain": [
       "      IID     FID     ignore1 ignore2 ignore3 ignore4 f.31.0.0 f.22001.0.0\n",
       "6955  1071720 1071720 0       0       2       -9      0        0          \n",
       "14391 1148275 1148275 0       0       1       -9      1        1          \n",
       "25635 1263990 1263990 0       0       1       -9      1        1          \n",
       "28409 1292522 1292522 0       0       2       -9      0        0          \n",
       "33581 1345826 1345826 0       0       2       -9      0        0          \n",
       "33615 1346185 1346185 0       0       2       -9      0        0          \n",
       "      f.22019.0.0 f.22027.0.0 f.22021.0.0 f.22006.0.0 sex_match\n",
       "6955  NA          NA          10           1          TRUE     \n",
       "14391 NA          NA          10          NA          TRUE     \n",
       "25635 NA          NA          10           1          TRUE     \n",
       "28409 NA          NA          10           1          TRUE     \n",
       "33581 NA          NA          10           1          TRUE     \n",
       "33615 NA          NA          10           1          TRUE     "
      ]
     },
     "metadata": {},
     "output_type": "display_data"
    },
    {
     "data": {
      "text/html": [
       "74"
      ],
      "text/latex": [
       "74"
      ],
      "text/markdown": [
       "74"
      ],
      "text/plain": [
       "[1] 74"
      ]
     },
     "metadata": {},
     "output_type": "display_data"
    }
   ],
   "source": [
    "white.related <- subset(white_subset, white_subset$f.22021.0.0>1)  #at least one relative identified\n",
    "head(white.related)\n",
    "nrow(white.related)"
   ]
  },
  {
   "cell_type": "code",
   "execution_count": 19,
   "id": "a8f444c3-68d8-4cde-806d-eeb5806eb42e",
   "metadata": {
    "kernel": "R"
   },
   "outputs": [
    {
     "name": "stdout",
     "output_type": "stream",
     "text": [
      "The number of white individuals that are related in the sample is: 74 \n",
      "The number of individuals that are related in the sample after filtering for sample missingess is: 74 \n"
     ]
    }
   ],
   "source": [
    "library(dplyr)\n",
    "white_iid_related <- white.related %>%\n",
    "    select (\"FID\", \"IID\")\n",
    "cat(\"The number of white individuals that are related in the sample is:\",nrow(white.related),\"\\n\")\n",
    "cat(\"The number of individuals that are related in the sample after filtering for sample missingess is:\",nrow(white_iid_related),\"\\n\")"
   ]
  },
  {
   "cell_type": "code",
   "execution_count": 20,
   "id": "fe84a743-4717-4fb6-92a5-d5340d927e37",
   "metadata": {
    "kernel": "R"
   },
   "outputs": [],
   "source": [
    "write.table(white_iid_related, '~/UKBiobank/genotype_files_processed/010622_exp_white_exomed_mind0.1/010722_sampleQC_IID_white_related.txt', sep=\"\\t\", row.names = FALSE, col.names= FALSE)"
   ]
  },
  {
   "cell_type": "markdown",
   "id": "4d76b18f-7219-44a2-81be-ca57053d3c66",
   "metadata": {
    "kernel": "R"
   },
   "source": [
    "## Do the variant QC2 with the subset of white expanded individuals"
   ]
  },
  {
   "cell_type": "code",
   "execution_count": 22,
   "id": "0001d963-b655-48cf-9e7c-61538d0f22fe",
   "metadata": {
    "kernel": "Bash"
   },
   "outputs": [
    {
     "name": "stdout",
     "output_type": "stream",
     "text": [
      "INFO: Running \u001b[32mcsg\u001b[0m: Configuration for Columbia csg partition cluster\n",
      "INFO: \u001b[32mcsg\u001b[0m is \u001b[32mcompleted\u001b[0m.\n",
      "INFO: \u001b[32mcsg\u001b[0m output:   \u001b[32m/home/dmc2245/project/UKBB_GWAS_dev/output/white_variantqc2_2022-01-10.sbatch\u001b[0m\n",
      "INFO: Workflow csg (ID=wa896da5b4dc83176) is executed successfully with 1 completed step.\n",
      "\n"
     ]
    }
   ],
   "source": [
    "# This is the path to the data transferred from Yale\n",
    "UKBB_yale=/mnt/mfs/statgen/archive/UKBiobank_Yale_transfer\n",
    "UKBB_PATH=/mnt/mfs/statgen/UKBiobank\n",
    "USER_PATH=$HOME/project\n",
    "OUT_PATH=$USER_PATH/UKBB_GWAS_dev/output\n",
    "tpl_file=$USER_PATH/bioworkflows/admin/csg.yml\n",
    "container_lmm=$HOME/containers/lmm.sif\n",
    "#Columbia's cluster\n",
    "cwd=~/UKBiobank/genotype_files_processed/010622_exp_white_exomed_mind0.1/\n",
    "# bfile with variant_qc_1 N=187,908 and variants=674,489\n",
    "genoFile=~/UKBiobank/genotype_files_processed/010622_exp_white_exomed_mind0.1/cache/UKB_genotypedatadownloaded083019.genotype_files_processed.filtered.extracted.010622_exp_white_exomed_mind0.1.filtered.bed\n",
    "#To remove related samples\n",
    "remove_samples=~/UKBiobank/genotype_files_processed/010622_exp_white_exomed_mind0.1/010722_sampleQC_IID_white_related.txt\n",
    "gwasqc_sos=$USER_PATH/bioworkflows/GWAS/GWAS_QC.ipynb\n",
    "gwasqc_sbatch=$USER_PATH/UKBB_GWAS_dev/output/white_variantqc2_$(date +\"%Y-%m-%d\").sbatch\n",
    "maf_filter=0.01\n",
    "geno_filter=0.01\n",
    "hwe_filter=5e-08\n",
    "# Set mind filter to 0 not to filter out more individuals based on sample missingness\n",
    "mind_filter=0\n",
    "mem='30G'\n",
    "name='010722'\n",
    "job_size=1\n",
    "numThreads=2\n",
    "\n",
    "gwasqc1_args=\"\"\"qc:1\n",
    "    --cwd $cwd\n",
    "    --genoFile $genoFile\n",
    "    --remove_samples $remove_samples\n",
    "    --maf_filter $maf_filter\n",
    "    --geno_filter $geno_filter\n",
    "    --hwe_filter $hwe_filter\n",
    "    --mind_filter $mind_filter\n",
    "    --numThreads $numThreads \n",
    "    --job_size $job_size\n",
    "    --container_lmm $container_lmm\n",
    "    --mem $mem\n",
    "\"\"\"\n",
    "\n",
    "sos run ~/project/UKBB_GWAS_dev/admin/Get_Job_Script.ipynb csg \\\n",
    "    --template-file $tpl_file \\\n",
    "    --workflow-file $gwasqc_sos \\\n",
    "    --to-script $gwasqc_sbatch \\\n",
    "    --args \"$gwasqc1_args\""
   ]
  },
  {
   "cell_type": "markdown",
   "id": "652f4596-8ca3-416e-8505-b7b12269b7ea",
   "metadata": {
    "kernel": "Bash"
   },
   "source": [
    "### Variants and samples to keep from white expanded"
   ]
  },
  {
   "cell_type": "markdown",
   "id": "0e6efd25-d88e-4707-b7ef-b68ecb99779c",
   "metadata": {
    "kernel": "Bash"
   },
   "source": [
    "`~/UKBiobank/genotype_files_processed/010622_exp_white_exomed_mind0.1/cache/UKB_genotypedatadownloaded083019.genotype_files_processed.filtered.extracted.010622_exp_white_exomed_mind0.1.filtered.pass_qc.snplist`\n",
    "\n",
    "`UKB_genotypedatadownloaded083019.genotype_files_processed.filtered.extracted.010622_exp_white_exomed_mind0.1.filtered.pass_qc.samplelist`"
   ]
  },
  {
   "cell_type": "markdown",
   "id": "63a86d72-ed78-4d5a-95ef-33cc59114613",
   "metadata": {
    "kernel": "R"
   },
   "source": [
    "### Asians QC\n",
    "\n",
    "Please find the scripts generated this subset of the data here\n",
    "\n",
    "`~/UKBiobank/genotype_files_processed/010522_sample_qc_asians.R`\n",
    "\n",
    "`~/UKBiobank/genotype_files_processed/010522_sample_qc_asians.sh`\n",
    "\n",
    "And in this notebook the ethnicity filtering\n",
    "\n",
    "`~/project/UKBB_GWAS_dev/analysis/phenotypes/122021_Asians_Africans_in_500K.ipynb`"
   ]
  },
  {
   "cell_type": "code",
   "execution_count": 10,
   "id": "592f2d30-2eb8-4095-99ef-c69ce46da521",
   "metadata": {
    "kernel": "R"
   },
   "outputs": [],
   "source": [
    "# Read in the file with the asian individuals to subset\n",
    "asian <- read.table(\"/mnt/mfs/statgen/UKBiobank/phenotype_files/asian_IID/010622_ukb47922_asian_10695.iid\", header=TRUE, sep=\"\\t\")"
   ]
  },
  {
   "cell_type": "code",
   "execution_count": 11,
   "id": "922be813-9d78-4590-87a6-45f3cd62c61b",
   "metadata": {
    "kernel": "R"
   },
   "outputs": [
    {
     "data": {
      "text/html": [
       "<table class=\"dataframe\">\n",
       "<caption>A data.frame: 6 x 3</caption>\n",
       "<thead>\n",
       "\t<tr><th></th><th scope=col>FID</th><th scope=col>IID</th><th scope=col>ethnicity</th></tr>\n",
       "\t<tr><th></th><th scope=col>&lt;int&gt;</th><th scope=col>&lt;int&gt;</th><th scope=col>&lt;fct&gt;</th></tr>\n",
       "</thead>\n",
       "<tbody>\n",
       "\t<tr><th scope=row>1</th><td>1000906</td><td>1000906</td><td>3003</td></tr>\n",
       "\t<tr><th scope=row>2</th><td>1001874</td><td>1001874</td><td>3004</td></tr>\n",
       "\t<tr><th scope=row>3</th><td>1002497</td><td>1002497</td><td>3001</td></tr>\n",
       "\t<tr><th scope=row>4</th><td>1002712</td><td>1002712</td><td>3001</td></tr>\n",
       "\t<tr><th scope=row>5</th><td>1003025</td><td>1003025</td><td>3001</td></tr>\n",
       "\t<tr><th scope=row>6</th><td>1003083</td><td>1003083</td><td>3001</td></tr>\n",
       "</tbody>\n",
       "</table>\n"
      ],
      "text/latex": [
       "A data.frame: 6 x 3\n",
       "\\begin{tabular}{r|lll}\n",
       "  & FID & IID & ethnicity\\\\\n",
       "  & <int> & <int> & <fct>\\\\\n",
       "\\hline\n",
       "\t1 & 1000906 & 1000906 & 3003\\\\\n",
       "\t2 & 1001874 & 1001874 & 3004\\\\\n",
       "\t3 & 1002497 & 1002497 & 3001\\\\\n",
       "\t4 & 1002712 & 1002712 & 3001\\\\\n",
       "\t5 & 1003025 & 1003025 & 3001\\\\\n",
       "\t6 & 1003083 & 1003083 & 3001\\\\\n",
       "\\end{tabular}\n"
      ],
      "text/markdown": [
       "\n",
       "A data.frame: 6 x 3\n",
       "\n",
       "| <!--/--> | FID &lt;int&gt; | IID &lt;int&gt; | ethnicity &lt;fct&gt; |\n",
       "|---|---|---|---|\n",
       "| 1 | 1000906 | 1000906 | 3003 |\n",
       "| 2 | 1001874 | 1001874 | 3004 |\n",
       "| 3 | 1002497 | 1002497 | 3001 |\n",
       "| 4 | 1002712 | 1002712 | 3001 |\n",
       "| 5 | 1003025 | 1003025 | 3001 |\n",
       "| 6 | 1003083 | 1003083 | 3001 |\n",
       "\n"
      ],
      "text/plain": [
       "  FID     IID     ethnicity\n",
       "1 1000906 1000906 3003     \n",
       "2 1001874 1001874 3004     \n",
       "3 1002497 1002497 3001     \n",
       "4 1002712 1002712 3001     \n",
       "5 1003025 1003025 3001     \n",
       "6 1003083 1003083 3001     "
      ]
     },
     "metadata": {},
     "output_type": "display_data"
    }
   ],
   "source": [
    "head(asian)"
   ]
  },
  {
   "cell_type": "code",
   "execution_count": 12,
   "id": "216acd01-1078-41bc-9ce4-c2045e4e5bca",
   "metadata": {
    "kernel": "R"
   },
   "outputs": [],
   "source": [
    "asian_subset<-subset(data.haveboth, IID %in% asian$IID)"
   ]
  },
  {
   "cell_type": "code",
   "execution_count": 13,
   "id": "9c89573a-dc4e-4d48-ac57-3fe01b4620ad",
   "metadata": {
    "kernel": "R"
   },
   "outputs": [
    {
     "data": {
      "text/html": [
       "10189"
      ],
      "text/latex": [
       "10189"
      ],
      "text/markdown": [
       "10189"
      ],
      "text/plain": [
       "[1] 10189"
      ]
     },
     "metadata": {},
     "output_type": "display_data"
    }
   ],
   "source": [
    "nrow(asian_subset)"
   ]
  },
  {
   "cell_type": "markdown",
   "id": "8d4e1fda-9a4f-4191-a43a-f02bcb88a02c",
   "metadata": {
    "kernel": "R"
   },
   "source": [
    "#### Call rate 95% for Asians"
   ]
  },
  {
   "cell_type": "code",
   "execution_count": 1,
   "id": "8924568c-9ba0-4631-b080-57506d5a046c",
   "metadata": {
    "kernel": "Bash",
    "tags": []
   },
   "outputs": [
    {
     "name": "stderr",
     "output_type": "stream",
     "text": [
      "/home/dmc2245/miniconda3/lib/python3.8/site-packages/sos_notebook/kernel.py:1334: DeprecationWarning: Kernel._parent_header is deprecated in ipykernel 6. Use .get_parent()\n",
      "  msg['msg_id'] = self._parent_header['header']['msg_id']\n"
     ]
    },
    {
     "name": "stdout",
     "output_type": "stream",
     "text": [
      "INFO: Running \u001b[32mcsg\u001b[0m: Configuration for Columbia csg partition cluster\n",
      "INFO: \u001b[32mcsg\u001b[0m is \u001b[32mcompleted\u001b[0m.\n",
      "INFO: \u001b[32mcsg\u001b[0m output:   \u001b[32m/home/dmc2245/project/UKBB_GWAS_dev/output/Asian_QC_mind0.05_2022-01-07.sbatch\u001b[0m\n",
      "INFO: Workflow csg (ID=w9d5378c14af9575e) is executed successfully with 1 completed step.\n",
      "\n"
     ]
    }
   ],
   "source": [
    "# This is the path to the data transferred from Yale\n",
    "UKBB_yale=/mnt/mfs/statgen/archive/UKBiobank_Yale_transfer\n",
    "UKBB_PATH=/mnt/mfs/statgen/UKBiobank\n",
    "USER_PATH=$HOME/project\n",
    "OUT_PATH=$USER_PATH/UKBB_GWAS_dev/output\n",
    "tpl_file=$USER_PATH/bioworkflows/admin/csg.yml\n",
    "container_lmm=$HOME/containers/lmm.sif\n",
    "#Columbia's cluster\n",
    "cwd=~/UKBiobank/genotype_files_processed/010622_asian_10189ind\n",
    "# bfile with variant_qc_1\n",
    "genoFile=~/UKBiobank/genotype_files_processed/cache/UKB_genotypedatadownloaded083019.genotype_files_processed.filtered.extracted.bed\n",
    "#To keep the samples that passed sample_qc_1 N=10,189\n",
    "keep_samples=~/UKBiobank/genotype_files_processed/010622_sampleQC_IID_keep_asian_iid.txt\n",
    "gwasqc_sos=$USER_PATH/bioworkflows/GWAS/GWAS_QC.ipynb\n",
    "gwasqc_sbatch=$USER_PATH/UKBB_GWAS_dev/output/Asian_QC_mind0.05_$(date +\"%Y-%m-%d\").sbatch\n",
    "maf_filter=0\n",
    "geno_filter=0\n",
    "hwe_filter=0\n",
    "# with mind=0.01 no samples remaining\n",
    "# Keep individuals with call rate > 95%\n",
    "mind_filter=0.05\n",
    "mem='30G'\n",
    "name='010622'\n",
    "job_size=1\n",
    "numThreads=2\n",
    "\n",
    "gwasqc1_args=\"\"\"qc:1\n",
    "    --cwd $cwd\n",
    "    --genoFile $genoFile\n",
    "    --keep_samples $keep_samples\n",
    "    --maf_filter $maf_filter\n",
    "    --geno_filter $geno_filter\n",
    "    --hwe_filter $hwe_filter\n",
    "    --mind_filter $mind_filter\n",
    "    --numThreads $numThreads \n",
    "    --job_size $job_size\n",
    "    --container_lmm $container_lmm\n",
    "    --mem $mem\n",
    "\"\"\"\n",
    "\n",
    "sos run ~/project/UKBB_GWAS_dev/admin/Get_Job_Script.ipynb csg \\\n",
    "    --template-file $tpl_file \\\n",
    "    --workflow-file $gwasqc_sos \\\n",
    "    --to-script $gwasqc_sbatch \\\n",
    "    --args \"$gwasqc1_args\""
   ]
  },
  {
   "cell_type": "markdown",
   "id": "f4a8a9fc-ddc1-40b3-af59-79dbba8b8b9a",
   "metadata": {
    "kernel": "Bash"
   },
   "source": [
    "#### Remove the related inviduals in the asian subset"
   ]
  },
  {
   "cell_type": "code",
   "execution_count": 20,
   "id": "4ab02b36-015e-4ab7-a6e1-aa8af5071d75",
   "metadata": {
    "kernel": "R",
    "tags": []
   },
   "outputs": [],
   "source": [
    "### Read in the removed individuals after the sample missingness filter (mind=0.05) 95% call rate for the asian subset\n",
    "### In this case all of the individuals were kept N=10,189\n",
    "rm_asian <- read.table(\"~/UKBiobank/genotype_files_processed/010622_asian_10189ind/cache/UKB_genotypedatadownloaded083019.genotype_files_processed.filtered.extracted.010622_asian_10189ind.filtered.mindrem.id\", header=FALSE)\n",
    "names(rm_asian) <-c(\"FID\",\"IID\")"
   ]
  },
  {
   "cell_type": "code",
   "execution_count": 14,
   "id": "3a2b8eff-c8e2-4e83-93d4-79c54bee6061",
   "metadata": {
    "kernel": "R"
   },
   "outputs": [
    {
     "data": {
      "text/html": [
       "<table class=\"dataframe\">\n",
       "<caption>A data.frame: 1 x 13</caption>\n",
       "<thead>\n",
       "\t<tr><th></th><th scope=col>IID</th><th scope=col>FID</th><th scope=col>ignore1</th><th scope=col>ignore2</th><th scope=col>ignore3</th><th scope=col>ignore4</th><th scope=col>f.31.0.0</th><th scope=col>f.22001.0.0</th><th scope=col>f.22019.0.0</th><th scope=col>f.22027.0.0</th><th scope=col>f.22021.0.0</th><th scope=col>f.22006.0.0</th><th scope=col>sex_match</th></tr>\n",
       "\t<tr><th></th><th scope=col>&lt;int&gt;</th><th scope=col>&lt;int&gt;</th><th scope=col>&lt;int&gt;</th><th scope=col>&lt;int&gt;</th><th scope=col>&lt;int&gt;</th><th scope=col>&lt;int&gt;</th><th scope=col>&lt;int&gt;</th><th scope=col>&lt;int&gt;</th><th scope=col>&lt;int&gt;</th><th scope=col>&lt;int&gt;</th><th scope=col>&lt;int&gt;</th><th scope=col>&lt;int&gt;</th><th scope=col>&lt;lgl&gt;</th></tr>\n",
       "</thead>\n",
       "<tbody>\n",
       "\t<tr><th scope=row>339249</th><td>4492584</td><td>4492584</td><td>0</td><td>0</td><td>1</td><td>-9</td><td>1</td><td>1</td><td>NA</td><td>NA</td><td>10</td><td>NA</td><td>TRUE</td></tr>\n",
       "</tbody>\n",
       "</table>\n"
      ],
      "text/latex": [
       "A data.frame: 1 x 13\n",
       "\\begin{tabular}{r|lllllllllllll}\n",
       "  & IID & FID & ignore1 & ignore2 & ignore3 & ignore4 & f.31.0.0 & f.22001.0.0 & f.22019.0.0 & f.22027.0.0 & f.22021.0.0 & f.22006.0.0 & sex\\_match\\\\\n",
       "  & <int> & <int> & <int> & <int> & <int> & <int> & <int> & <int> & <int> & <int> & <int> & <int> & <lgl>\\\\\n",
       "\\hline\n",
       "\t339249 & 4492584 & 4492584 & 0 & 0 & 1 & -9 & 1 & 1 & NA & NA & 10 & NA & TRUE\\\\\n",
       "\\end{tabular}\n"
      ],
      "text/markdown": [
       "\n",
       "A data.frame: 1 x 13\n",
       "\n",
       "| <!--/--> | IID &lt;int&gt; | FID &lt;int&gt; | ignore1 &lt;int&gt; | ignore2 &lt;int&gt; | ignore3 &lt;int&gt; | ignore4 &lt;int&gt; | f.31.0.0 &lt;int&gt; | f.22001.0.0 &lt;int&gt; | f.22019.0.0 &lt;int&gt; | f.22027.0.0 &lt;int&gt; | f.22021.0.0 &lt;int&gt; | f.22006.0.0 &lt;int&gt; | sex_match &lt;lgl&gt; |\n",
       "|---|---|---|---|---|---|---|---|---|---|---|---|---|---|\n",
       "| 339249 | 4492584 | 4492584 | 0 | 0 | 1 | -9 | 1 | 1 | NA | NA | 10 | NA | TRUE |\n",
       "\n"
      ],
      "text/plain": [
       "       IID     FID     ignore1 ignore2 ignore3 ignore4 f.31.0.0 f.22001.0.0\n",
       "339249 4492584 4492584 0       0       1       -9      1        1          \n",
       "       f.22019.0.0 f.22027.0.0 f.22021.0.0 f.22006.0.0 sex_match\n",
       "339249 NA          NA          10          NA          TRUE     "
      ]
     },
     "metadata": {},
     "output_type": "display_data"
    }
   ],
   "source": [
    "asian.related <- subset(asian_subset, asian_subset$f.22021.0.0>1)  #at least one relative identified\n",
    "head(asian.related)"
   ]
  },
  {
   "cell_type": "code",
   "execution_count": 21,
   "id": "e960360c-e407-40de-bf58-6bda6cc95a8c",
   "metadata": {
    "kernel": "R"
   },
   "outputs": [
    {
     "name": "stdout",
     "output_type": "stream",
     "text": [
      "The number of asian individuals that are related in the sample is: 1 \n",
      "The number of individuals that are related in the sample after filtering for sample missingess is: 1 \n"
     ]
    }
   ],
   "source": [
    "library(dplyr)\n",
    "asian_iid_related <- asian.related %>%\n",
    "    filter(!IID %in% rm_asian$IID) %>%\n",
    "    select (\"FID\", \"IID\")\n",
    "cat(\"The number of asian individuals that are related in the sample is:\",nrow(asian.related),\"\\n\")\n",
    "cat(\"The number of individuals that are related in the sample after filtering for sample missingess is:\",nrow(asian_iid_related),\"\\n\")"
   ]
  },
  {
   "cell_type": "code",
   "execution_count": 17,
   "id": "a2b24186-e796-4b31-973b-b61f8eb255ce",
   "metadata": {
    "kernel": "R"
   },
   "outputs": [],
   "source": [
    "write.table(asian_iid_related, '~/UKBiobank/genotype_files_processed/010622_asian_10189ind/010722_sampleQC_IID_asian_related.txt', sep=\"\\t\", row.names = FALSE, col.names= FALSE)"
   ]
  },
  {
   "cell_type": "markdown",
   "id": "d08878b2-6283-4110-84e2-2bdc195cd873",
   "metadata": {
    "kernel": "R"
   },
   "source": [
    "#### Do the variant qc #2"
   ]
  },
  {
   "cell_type": "code",
   "execution_count": 19,
   "id": "1e1215b5-088f-49f6-9218-244e2a9615d7",
   "metadata": {
    "kernel": "Bash",
    "tags": []
   },
   "outputs": [
    {
     "name": "stdout",
     "output_type": "stream",
     "text": [
      "INFO: Running \u001b[32mcsg\u001b[0m: Configuration for Columbia csg partition cluster\n",
      "INFO: \u001b[32mcsg\u001b[0m is \u001b[32mcompleted\u001b[0m.\n",
      "INFO: \u001b[32mcsg\u001b[0m output:   \u001b[32m/home/dmc2245/project/UKBB_GWAS_dev/output/asian_variantqc2_2022-01-07.sbatch\u001b[0m\n",
      "INFO: Workflow csg (ID=w183d9d34fd76a226) is executed successfully with 1 completed step.\n",
      "\n"
     ]
    }
   ],
   "source": [
    "# This is the path to the data transferred from Yale\n",
    "UKBB_yale=/mnt/mfs/statgen/archive/UKBiobank_Yale_transfer\n",
    "UKBB_PATH=/mnt/mfs/statgen/UKBiobank\n",
    "USER_PATH=$HOME/project\n",
    "OUT_PATH=$USER_PATH/UKBB_GWAS_dev/output\n",
    "tpl_file=$USER_PATH/bioworkflows/admin/csg.yml\n",
    "container_lmm=$HOME/containers/lmm.sif\n",
    "#Columbia's cluster\n",
    "cwd=~/UKBiobank/genotype_files_processed/010622_asian_10189ind/\n",
    "# bfile with variant_qc_1 N=10,189 and variants=674,489\n",
    "genoFile=~/UKBiobank/genotype_files_processed/010622_asian_10189ind/cache/UKB_genotypedatadownloaded083019.genotype_files_processed.filtered.extracted.010622_asian_10189ind.filtered.bed\n",
    "#To remove related samples\n",
    "remove_samples=~/UKBiobank/genotype_files_processed/010622_asian_10189ind/010722_sampleQC_IID_asian_related.txt\n",
    "gwasqc_sos=$USER_PATH/bioworkflows/GWAS/GWAS_QC.ipynb\n",
    "gwasqc_sbatch=$USER_PATH/UKBB_GWAS_dev/output/asian_variantqc2_$(date +\"%Y-%m-%d\").sbatch\n",
    "maf_filter=0.01\n",
    "geno_filter=0.01\n",
    "hwe_filter=5e-08\n",
    "# Set mind filter to 0 not to filter out more individuals based on sample missingness\n",
    "mind_filter=0\n",
    "mem='30G'\n",
    "name='010722'\n",
    "job_size=1\n",
    "numThreads=2\n",
    "\n",
    "gwasqc1_args=\"\"\"qc:1\n",
    "    --cwd $cwd\n",
    "    --genoFile $genoFile\n",
    "    --remove_samples $remove_samples\n",
    "    --maf_filter $maf_filter\n",
    "    --geno_filter $geno_filter\n",
    "    --hwe_filter $hwe_filter\n",
    "    --mind_filter $mind_filter\n",
    "    --numThreads $numThreads \n",
    "    --job_size $job_size\n",
    "    --container_lmm $container_lmm\n",
    "    --mem $mem\n",
    "\"\"\"\n",
    "\n",
    "sos run ~/project/UKBB_GWAS_dev/admin/Get_Job_Script.ipynb csg \\\n",
    "    --template-file $tpl_file \\\n",
    "    --workflow-file $gwasqc_sos \\\n",
    "    --to-script $gwasqc_sbatch \\\n",
    "    --args \"$gwasqc1_args\""
   ]
  },
  {
   "cell_type": "markdown",
   "id": "cdfe59ea-7005-4bce-89e6-ba3fe97986a9",
   "metadata": {
    "kernel": "Bash"
   },
   "source": [
    "#### Obtain the final file for all the samples after variant qc1, sample qc and variant qc2\n",
    "\n",
    "The snplist file was created base in the bim file after filtering the previous step\n",
    "\n",
    "`UKB_genotypedatadownloaded083019.genotype_files_processed.filtered.extracted.010622_asian_10189ind.filtered.010622_asian_10189ind.filtered.bim`\n",
    "\n",
    "The sample file to keep consists of N=10188 inviduals (only 1 removed after mind=0.05)\n",
    "\n",
    "`UKB_genotypedatadownloaded083019.genotype_files_processed.filtered.extracted.010622_asian_10189ind.filtered.fam`"
   ]
  },
  {
   "cell_type": "code",
   "execution_count": 22,
   "id": "a92d0a5c-4cb9-4820-925d-7b58d85a5c0a",
   "metadata": {
    "kernel": "Bash"
   },
   "outputs": [
    {
     "name": "stdout",
     "output_type": "stream",
     "text": [
      "INFO: Running \u001b[32mcsg\u001b[0m: Configuration for Columbia csg partition cluster\n",
      "INFO: \u001b[32mcsg\u001b[0m is \u001b[32mcompleted\u001b[0m.\n",
      "INFO: \u001b[32mcsg\u001b[0m output:   \u001b[32m/home/dmc2245/project/UKBB_GWAS_dev/output/Asian_sampleqc_final_2022-01-07.sbatch\u001b[0m\n",
      "INFO: Workflow csg (ID=w881c9553f378afc2) is executed successfully with 1 completed step.\n",
      "\n"
     ]
    }
   ],
   "source": [
    "# This is the path to the data transferred from Yale\n",
    "UKBB_yale=/mnt/mfs/statgen/archive/UKBiobank_Yale_transfer\n",
    "UKBB_PATH=/mnt/mfs/statgen/UKBiobank\n",
    "USER_PATH=$HOME/project\n",
    "OUT_PATH=$USER_PATH/UKBB_GWAS_dev/output\n",
    "tpl_file=$USER_PATH/bioworkflows/admin/csg.yml\n",
    "container_lmm=$HOME/containers/lmm.sif\n",
    "#Columbia's cluster\n",
    "cwd=~/UKBiobank/genotype_files_processed/010622_asian_10189ind/010722_sample_var_final_qc\n",
    "# orginal bfile\n",
    "genoFile=$UKBB_yale/pleiotropy_geneticfiles/UKB_originalgenotypefilesdownloaded083019/UKB_genotypedatadownloaded083019.bed\n",
    "#To keep samples\n",
    "keep_samples=~/UKBiobank/genotype_files_processed/010622_asian_10189ind/cache/UKB_genotypedatadownloaded083019.genotype_files_processed.filtered.extracted.010622_asian_10189ind.filtered.fam\n",
    "# To keep variants\n",
    "keep_variants=~/UKBiobank/genotype_files_processed/010622_asian_10189ind/cache/UKB_genotypedatadownloaded083019.genotype_files_processed.filtered.extracted.010622_asian_10189ind.qc_pass.snplist\n",
    "gwasqc_sos=$USER_PATH/bioworkflows/GWAS/GWAS_QC.ipynb\n",
    "gwasqc_sbatch=$USER_PATH/UKBB_GWAS_dev/output/Asian_sampleqc_final_$(date +\"%Y-%m-%d\").sbatch\n",
    "## All filters set to 0 \n",
    "maf_filter=0\n",
    "geno_filter=0\n",
    "hwe_filter=0\n",
    "mind_filter=0\n",
    "mem='30G'\n",
    "name='010722'\n",
    "job_size=1\n",
    "numThreads=2\n",
    "\n",
    "gwasqc1_args=\"\"\"qc:1\n",
    "    --cwd $cwd\n",
    "    --genoFile $genoFile\n",
    "    --keep_samples $keep_samples\n",
    "    --keep_variants $keep_variants\n",
    "    --maf_filter $maf_filter\n",
    "    --geno_filter $geno_filter\n",
    "    --hwe_filter $hwe_filter\n",
    "    --mind_filter $mind_filter\n",
    "    --numThreads $numThreads \n",
    "    --job_size $job_size\n",
    "    --container_lmm $container_lmm\n",
    "    --mem $mem\n",
    "\"\"\"\n",
    "\n",
    "sos run ~/project/UKBB_GWAS_dev/admin/Get_Job_Script.ipynb csg \\\n",
    "    --template-file $tpl_file \\\n",
    "    --workflow-file $gwasqc_sos \\\n",
    "    --to-script $gwasqc_sbatch \\\n",
    "    --args \"$gwasqc1_args\""
   ]
  },
  {
   "cell_type": "markdown",
   "id": "cc6c04c7-7d42-4d25-8d49-5a300186a561",
   "metadata": {
    "kernel": "Bash"
   },
   "source": [
    "#### Generate the file for exome and imputed data analysis"
   ]
  },
  {
   "cell_type": "code",
   "execution_count": 43,
   "id": "584112d5-a8a0-40de-b6fd-949db3f50339",
   "metadata": {
    "kernel": "R",
    "tags": []
   },
   "outputs": [
    {
     "data": {
      "text/html": [
       "<table class=\"dataframe\">\n",
       "<caption>A data.frame: 6 x 6</caption>\n",
       "<thead>\n",
       "\t<tr><th></th><th scope=col>FID</th><th scope=col>IID</th><th scope=col>father</th><th scope=col>mother</th><th scope=col>sex</th><th scope=col>pheno</th></tr>\n",
       "\t<tr><th></th><th scope=col>&lt;int&gt;</th><th scope=col>&lt;int&gt;</th><th scope=col>&lt;int&gt;</th><th scope=col>&lt;int&gt;</th><th scope=col>&lt;int&gt;</th><th scope=col>&lt;int&gt;</th></tr>\n",
       "</thead>\n",
       "<tbody>\n",
       "\t<tr><th scope=row>1</th><td>1434748</td><td>1434748</td><td>0</td><td>0</td><td>0</td><td>-9</td></tr>\n",
       "\t<tr><th scope=row>2</th><td>5523981</td><td>5523981</td><td>0</td><td>0</td><td>0</td><td>-9</td></tr>\n",
       "\t<tr><th scope=row>3</th><td>5023838</td><td>5023838</td><td>0</td><td>0</td><td>0</td><td>-9</td></tr>\n",
       "\t<tr><th scope=row>4</th><td>4023729</td><td>4023729</td><td>0</td><td>0</td><td>0</td><td>-9</td></tr>\n",
       "\t<tr><th scope=row>5</th><td>4442146</td><td>4442146</td><td>0</td><td>0</td><td>0</td><td>-9</td></tr>\n",
       "\t<tr><th scope=row>6</th><td>5654789</td><td>5654789</td><td>0</td><td>0</td><td>0</td><td>-9</td></tr>\n",
       "</tbody>\n",
       "</table>\n"
      ],
      "text/latex": [
       "A data.frame: 6 x 6\n",
       "\\begin{tabular}{r|llllll}\n",
       "  & FID & IID & father & mother & sex & pheno\\\\\n",
       "  & <int> & <int> & <int> & <int> & <int> & <int>\\\\\n",
       "\\hline\n",
       "\t1 & 1434748 & 1434748 & 0 & 0 & 0 & -9\\\\\n",
       "\t2 & 5523981 & 5523981 & 0 & 0 & 0 & -9\\\\\n",
       "\t3 & 5023838 & 5023838 & 0 & 0 & 0 & -9\\\\\n",
       "\t4 & 4023729 & 4023729 & 0 & 0 & 0 & -9\\\\\n",
       "\t5 & 4442146 & 4442146 & 0 & 0 & 0 & -9\\\\\n",
       "\t6 & 5654789 & 5654789 & 0 & 0 & 0 & -9\\\\\n",
       "\\end{tabular}\n"
      ],
      "text/markdown": [
       "\n",
       "A data.frame: 6 x 6\n",
       "\n",
       "| <!--/--> | FID &lt;int&gt; | IID &lt;int&gt; | father &lt;int&gt; | mother &lt;int&gt; | sex &lt;int&gt; | pheno &lt;int&gt; |\n",
       "|---|---|---|---|---|---|---|\n",
       "| 1 | 1434748 | 1434748 | 0 | 0 | 0 | -9 |\n",
       "| 2 | 5523981 | 5523981 | 0 | 0 | 0 | -9 |\n",
       "| 3 | 5023838 | 5023838 | 0 | 0 | 0 | -9 |\n",
       "| 4 | 4023729 | 4023729 | 0 | 0 | 0 | -9 |\n",
       "| 5 | 4442146 | 4442146 | 0 | 0 | 0 | -9 |\n",
       "| 6 | 5654789 | 5654789 | 0 | 0 | 0 | -9 |\n",
       "\n"
      ],
      "text/plain": [
       "  FID     IID     father mother sex pheno\n",
       "1 1434748 1434748 0      0      0   -9   \n",
       "2 5523981 5523981 0      0      0   -9   \n",
       "3 5023838 5023838 0      0      0   -9   \n",
       "4 4023729 4023729 0      0      0   -9   \n",
       "5 4442146 4442146 0      0      0   -9   \n",
       "6 5654789 5654789 0      0      0   -9   "
      ]
     },
     "metadata": {},
     "output_type": "display_data"
    },
    {
     "data": {
      "text/html": [
       "200643"
      ],
      "text/latex": [
       "200643"
      ],
      "text/markdown": [
       "200643"
      ],
      "text/plain": [
       "[1] 200643"
      ]
     },
     "metadata": {},
     "output_type": "display_data"
    }
   ],
   "source": [
    "#Read in the file with individuals that have exome data\n",
    "\n",
    "exome_id <- read.table(\"~/UKBiobank/data/exome_files/project_VCF/072721_run/plink/ukb23156_c1.merged.filtered.fam\")\n",
    "names(exome_id) <-c(\"FID\",\"IID\",\"father\", \"mother\", \"sex\", \"pheno\")\n",
    "head(exome_id)\n",
    "nrow(exome_id) ## 200,643"
   ]
  },
  {
   "cell_type": "code",
   "execution_count": 51,
   "id": "42b66c6d-91fd-4e40-b769-44909e337650",
   "metadata": {
    "kernel": "R"
   },
   "outputs": [
    {
     "data": {
      "text/html": [
       "<table class=\"dataframe\">\n",
       "<caption>A data.frame: 6 x 4</caption>\n",
       "<thead>\n",
       "\t<tr><th></th><th scope=col>ID_1</th><th scope=col>ID_2</th><th scope=col>missing</th><th scope=col>sex</th></tr>\n",
       "\t<tr><th></th><th scope=col>&lt;int&gt;</th><th scope=col>&lt;int&gt;</th><th scope=col>&lt;int&gt;</th><th scope=col>&lt;fct&gt;</th></tr>\n",
       "</thead>\n",
       "<tbody>\n",
       "\t<tr><th scope=row>1</th><td>      0</td><td>      0</td><td>0</td><td>D</td></tr>\n",
       "\t<tr><th scope=row>2</th><td>5414209</td><td>5414209</td><td>0</td><td>1</td></tr>\n",
       "\t<tr><th scope=row>3</th><td>5296052</td><td>5296052</td><td>0</td><td>2</td></tr>\n",
       "\t<tr><th scope=row>4</th><td>4852763</td><td>4852763</td><td>0</td><td>2</td></tr>\n",
       "\t<tr><th scope=row>5</th><td>5230840</td><td>5230840</td><td>0</td><td>2</td></tr>\n",
       "\t<tr><th scope=row>6</th><td>1992219</td><td>1992219</td><td>0</td><td>2</td></tr>\n",
       "</tbody>\n",
       "</table>\n"
      ],
      "text/latex": [
       "A data.frame: 6 x 4\n",
       "\\begin{tabular}{r|llll}\n",
       "  & ID\\_1 & ID\\_2 & missing & sex\\\\\n",
       "  & <int> & <int> & <int> & <fct>\\\\\n",
       "\\hline\n",
       "\t1 &       0 &       0 & 0 & D\\\\\n",
       "\t2 & 5414209 & 5414209 & 0 & 1\\\\\n",
       "\t3 & 5296052 & 5296052 & 0 & 2\\\\\n",
       "\t4 & 4852763 & 4852763 & 0 & 2\\\\\n",
       "\t5 & 5230840 & 5230840 & 0 & 2\\\\\n",
       "\t6 & 1992219 & 1992219 & 0 & 2\\\\\n",
       "\\end{tabular}\n"
      ],
      "text/markdown": [
       "\n",
       "A data.frame: 6 x 4\n",
       "\n",
       "| <!--/--> | ID_1 &lt;int&gt; | ID_2 &lt;int&gt; | missing &lt;int&gt; | sex &lt;fct&gt; |\n",
       "|---|---|---|---|---|\n",
       "| 1 |       0 |       0 | 0 | D |\n",
       "| 2 | 5414209 | 5414209 | 0 | 1 |\n",
       "| 3 | 5296052 | 5296052 | 0 | 2 |\n",
       "| 4 | 4852763 | 4852763 | 0 | 2 |\n",
       "| 5 | 5230840 | 5230840 | 0 | 2 |\n",
       "| 6 | 1992219 | 1992219 | 0 | 2 |\n",
       "\n"
      ],
      "text/plain": [
       "  ID_1    ID_2    missing sex\n",
       "1       0       0 0       D  \n",
       "2 5414209 5414209 0       1  \n",
       "3 5296052 5296052 0       2  \n",
       "4 4852763 4852763 0       2  \n",
       "5 5230840 5230840 0       2  \n",
       "6 1992219 1992219 0       2  "
      ]
     },
     "metadata": {},
     "output_type": "display_data"
    },
    {
     "data": {
      "text/html": [
       "487410"
      ],
      "text/latex": [
       "487410"
      ],
      "text/markdown": [
       "487410"
      ],
      "text/plain": [
       "[1] 487410"
      ]
     },
     "metadata": {},
     "output_type": "display_data"
    },
    {
     "data": {
      "text/html": [
       "1"
      ],
      "text/latex": [
       "1"
      ],
      "text/markdown": [
       "1"
      ],
      "text/plain": [
       "[1] 1"
      ]
     },
     "metadata": {},
     "output_type": "display_data"
    }
   ],
   "source": [
    "# Read in the file with individuals that have imputed data N=487410 file=ukb32285_imputedindiv.sample\n",
    "imput_id <- read.table(\"~/UKBiobank_Yale_transfer/ukb39554_imputeddataset/ukb32285_imputedindiv.sample\", header=T)\n",
    "head(imput_id)\n",
    "nrow(imput_id)\n",
    "nrow(imput_id[imput_id$ID_1 == \"0\",]) # number of missing individuals"
   ]
  },
  {
   "cell_type": "code",
   "execution_count": 39,
   "id": "35770e59-deef-4c40-89a7-571fc50024e4",
   "metadata": {
    "kernel": "R",
    "tags": []
   },
   "outputs": [],
   "source": [
    "#For the 500K individuals\n",
    "asian_qc <- read.table(\"~/UKBiobank/genotype_files_processed/010622_asian_10189ind/010722_sample_var_final_qc/cache/UKB_genotypedatadownloaded083019.010722_sample_var_final_qc.filtered.extracted.fam\")\n",
    "names(asian_qc) <-c(\"FID\",\"IID\",\"father\", \"mother\", \"sex\", \"pheno\")"
   ]
  },
  {
   "cell_type": "code",
   "execution_count": 71,
   "id": "2db6c6cd-cf81-4cb3-a230-e3ca66f45d67",
   "metadata": {
    "kernel": "R",
    "tags": []
   },
   "outputs": [
    {
     "data": {
      "text/html": [
       "<table class=\"dataframe\">\n",
       "<caption>A data.frame: 6 x 6</caption>\n",
       "<thead>\n",
       "\t<tr><th></th><th scope=col>FID</th><th scope=col>IID</th><th scope=col>father</th><th scope=col>mother</th><th scope=col>sex</th><th scope=col>pheno</th></tr>\n",
       "\t<tr><th></th><th scope=col>&lt;int&gt;</th><th scope=col>&lt;int&gt;</th><th scope=col>&lt;int&gt;</th><th scope=col>&lt;int&gt;</th><th scope=col>&lt;int&gt;</th><th scope=col>&lt;int&gt;</th></tr>\n",
       "</thead>\n",
       "<tbody>\n",
       "\t<tr><th scope=row>1</th><td>1000906</td><td>1000906</td><td>0</td><td>0</td><td>1</td><td>-9</td></tr>\n",
       "\t<tr><th scope=row>2</th><td>1001874</td><td>1001874</td><td>0</td><td>0</td><td>2</td><td>-9</td></tr>\n",
       "\t<tr><th scope=row>3</th><td>1002712</td><td>1002712</td><td>0</td><td>0</td><td>2</td><td>-9</td></tr>\n",
       "\t<tr><th scope=row>4</th><td>1003025</td><td>1003025</td><td>0</td><td>0</td><td>1</td><td>-9</td></tr>\n",
       "\t<tr><th scope=row>5</th><td>1003083</td><td>1003083</td><td>0</td><td>0</td><td>1</td><td>-9</td></tr>\n",
       "\t<tr><th scope=row>6</th><td>1004204</td><td>1004204</td><td>0</td><td>0</td><td>1</td><td>-9</td></tr>\n",
       "</tbody>\n",
       "</table>\n"
      ],
      "text/latex": [
       "A data.frame: 6 x 6\n",
       "\\begin{tabular}{r|llllll}\n",
       "  & FID & IID & father & mother & sex & pheno\\\\\n",
       "  & <int> & <int> & <int> & <int> & <int> & <int>\\\\\n",
       "\\hline\n",
       "\t1 & 1000906 & 1000906 & 0 & 0 & 1 & -9\\\\\n",
       "\t2 & 1001874 & 1001874 & 0 & 0 & 2 & -9\\\\\n",
       "\t3 & 1002712 & 1002712 & 0 & 0 & 2 & -9\\\\\n",
       "\t4 & 1003025 & 1003025 & 0 & 0 & 1 & -9\\\\\n",
       "\t5 & 1003083 & 1003083 & 0 & 0 & 1 & -9\\\\\n",
       "\t6 & 1004204 & 1004204 & 0 & 0 & 1 & -9\\\\\n",
       "\\end{tabular}\n"
      ],
      "text/markdown": [
       "\n",
       "A data.frame: 6 x 6\n",
       "\n",
       "| <!--/--> | FID &lt;int&gt; | IID &lt;int&gt; | father &lt;int&gt; | mother &lt;int&gt; | sex &lt;int&gt; | pheno &lt;int&gt; |\n",
       "|---|---|---|---|---|---|---|\n",
       "| 1 | 1000906 | 1000906 | 0 | 0 | 1 | -9 |\n",
       "| 2 | 1001874 | 1001874 | 0 | 0 | 2 | -9 |\n",
       "| 3 | 1002712 | 1002712 | 0 | 0 | 2 | -9 |\n",
       "| 4 | 1003025 | 1003025 | 0 | 0 | 1 | -9 |\n",
       "| 5 | 1003083 | 1003083 | 0 | 0 | 1 | -9 |\n",
       "| 6 | 1004204 | 1004204 | 0 | 0 | 1 | -9 |\n",
       "\n"
      ],
      "text/plain": [
       "  FID     IID     father mother sex pheno\n",
       "1 1000906 1000906 0      0      1   -9   \n",
       "2 1001874 1001874 0      0      2   -9   \n",
       "3 1002712 1002712 0      0      2   -9   \n",
       "4 1003025 1003025 0      0      1   -9   \n",
       "5 1003083 1003083 0      0      1   -9   \n",
       "6 1004204 1004204 0      0      1   -9   "
      ]
     },
     "metadata": {},
     "output_type": "display_data"
    },
    {
     "data": {
      "text/html": [
       "10188"
      ],
      "text/latex": [
       "10188"
      ],
      "text/markdown": [
       "10188"
      ],
      "text/plain": [
       "[1] 10188"
      ]
     },
     "metadata": {},
     "output_type": "display_data"
    }
   ],
   "source": [
    "head(asian_qc)\n",
    "nrow(asian_qc)"
   ]
  },
  {
   "cell_type": "code",
   "execution_count": 52,
   "id": "99d2702a-f1f7-4e0e-9d28-677aa26a244f",
   "metadata": {
    "kernel": "R"
   },
   "outputs": [],
   "source": [
    "asian_exome <- asian_qc %>%\n",
    "    filter(IID %in% exome_id$IID) %>%\n",
    "    select (\"FID\", \"IID\")"
   ]
  },
  {
   "cell_type": "code",
   "execution_count": 53,
   "id": "4dca9624-4177-49f8-8d97-117283c4f56a",
   "metadata": {
    "kernel": "R"
   },
   "outputs": [
    {
     "data": {
      "text/html": [
       "4591"
      ],
      "text/latex": [
       "4591"
      ],
      "text/markdown": [
       "4591"
      ],
      "text/plain": [
       "[1] 4591"
      ]
     },
     "metadata": {},
     "output_type": "display_data"
    }
   ],
   "source": [
    "nrow(asian_exome)"
   ]
  },
  {
   "cell_type": "code",
   "execution_count": 62,
   "id": "7f92499c-9cc3-48c4-bcd7-80ef9c2ab562",
   "metadata": {
    "kernel": "R"
   },
   "outputs": [
    {
     "data": {
      "text/html": [
       "10188"
      ],
      "text/latex": [
       "10188"
      ],
      "text/markdown": [
       "10188"
      ],
      "text/plain": [
       "[1] 10188"
      ]
     },
     "metadata": {},
     "output_type": "display_data"
    }
   ],
   "source": [
    "asian_imput <- asian_qc %>%\n",
    "    filter(IID %in% imput_id$ID_1) %>%\n",
    "    select (\"FID\", \"IID\")\n",
    "nrow(asian_imput)"
   ]
  },
  {
   "cell_type": "code",
   "execution_count": 69,
   "id": "d27f851a-b72e-4841-a8fa-b53c2c7c10d4",
   "metadata": {
    "kernel": "R"
   },
   "outputs": [
    {
     "data": {
      "text/html": [
       "4591"
      ],
      "text/latex": [
       "4591"
      ],
      "text/markdown": [
       "4591"
      ],
      "text/plain": [
       "[1] 4591"
      ]
     },
     "metadata": {},
     "output_type": "display_data"
    },
    {
     "data": {
      "text/html": [
       "10188"
      ],
      "text/latex": [
       "10188"
      ],
      "text/markdown": [
       "10188"
      ],
      "text/plain": [
       "[1] 10188"
      ]
     },
     "metadata": {},
     "output_type": "display_data"
    },
    {
     "data": {
      "text/html": [
       "4591"
      ],
      "text/latex": [
       "4591"
      ],
      "text/markdown": [
       "4591"
      ],
      "text/plain": [
       "[1] 4591"
      ]
     },
     "metadata": {},
     "output_type": "display_data"
    }
   ],
   "source": [
    "asian_full <- asian_qc %>%\n",
    "  mutate(exome = if_else(IID %in% exome_id$IID,1 , 0),\n",
    "         imputed = if_else(IID %in% imput_id$ID_1,1, 0),\n",
    "         both = if_else (exome == 1 & imputed == 1, 1, 0))\n",
    "nrow(asian_full[asian_full$exome == 1,]) #making sure numbers match\n",
    "nrow(asian_full[asian_full$imputed == 1,]) #making sure numbers match\n",
    "nrow(asian_full[asian_full$both == 1,])"
   ]
  },
  {
   "cell_type": "code",
   "execution_count": 70,
   "id": "7dbf54cb-935e-471a-bb8d-260c544933b9",
   "metadata": {
    "kernel": "R"
   },
   "outputs": [
    {
     "data": {
      "text/html": [
       "<table class=\"dataframe\">\n",
       "<caption>A data.frame: 6 x 9</caption>\n",
       "<thead>\n",
       "\t<tr><th></th><th scope=col>FID</th><th scope=col>IID</th><th scope=col>father</th><th scope=col>mother</th><th scope=col>sex</th><th scope=col>pheno</th><th scope=col>exome</th><th scope=col>imputed</th><th scope=col>both</th></tr>\n",
       "\t<tr><th></th><th scope=col>&lt;int&gt;</th><th scope=col>&lt;int&gt;</th><th scope=col>&lt;int&gt;</th><th scope=col>&lt;int&gt;</th><th scope=col>&lt;int&gt;</th><th scope=col>&lt;int&gt;</th><th scope=col>&lt;dbl&gt;</th><th scope=col>&lt;dbl&gt;</th><th scope=col>&lt;dbl&gt;</th></tr>\n",
       "</thead>\n",
       "<tbody>\n",
       "\t<tr><th scope=row>1</th><td>1000906</td><td>1000906</td><td>0</td><td>0</td><td>1</td><td>-9</td><td>0</td><td>1</td><td>0</td></tr>\n",
       "\t<tr><th scope=row>2</th><td>1001874</td><td>1001874</td><td>0</td><td>0</td><td>2</td><td>-9</td><td>0</td><td>1</td><td>0</td></tr>\n",
       "\t<tr><th scope=row>3</th><td>1002712</td><td>1002712</td><td>0</td><td>0</td><td>2</td><td>-9</td><td>0</td><td>1</td><td>0</td></tr>\n",
       "\t<tr><th scope=row>4</th><td>1003025</td><td>1003025</td><td>0</td><td>0</td><td>1</td><td>-9</td><td>1</td><td>1</td><td>1</td></tr>\n",
       "\t<tr><th scope=row>5</th><td>1003083</td><td>1003083</td><td>0</td><td>0</td><td>1</td><td>-9</td><td>1</td><td>1</td><td>1</td></tr>\n",
       "\t<tr><th scope=row>6</th><td>1004204</td><td>1004204</td><td>0</td><td>0</td><td>1</td><td>-9</td><td>0</td><td>1</td><td>0</td></tr>\n",
       "</tbody>\n",
       "</table>\n"
      ],
      "text/latex": [
       "A data.frame: 6 x 9\n",
       "\\begin{tabular}{r|lllllllll}\n",
       "  & FID & IID & father & mother & sex & pheno & exome & imputed & both\\\\\n",
       "  & <int> & <int> & <int> & <int> & <int> & <int> & <dbl> & <dbl> & <dbl>\\\\\n",
       "\\hline\n",
       "\t1 & 1000906 & 1000906 & 0 & 0 & 1 & -9 & 0 & 1 & 0\\\\\n",
       "\t2 & 1001874 & 1001874 & 0 & 0 & 2 & -9 & 0 & 1 & 0\\\\\n",
       "\t3 & 1002712 & 1002712 & 0 & 0 & 2 & -9 & 0 & 1 & 0\\\\\n",
       "\t4 & 1003025 & 1003025 & 0 & 0 & 1 & -9 & 1 & 1 & 1\\\\\n",
       "\t5 & 1003083 & 1003083 & 0 & 0 & 1 & -9 & 1 & 1 & 1\\\\\n",
       "\t6 & 1004204 & 1004204 & 0 & 0 & 1 & -9 & 0 & 1 & 0\\\\\n",
       "\\end{tabular}\n"
      ],
      "text/markdown": [
       "\n",
       "A data.frame: 6 x 9\n",
       "\n",
       "| <!--/--> | FID &lt;int&gt; | IID &lt;int&gt; | father &lt;int&gt; | mother &lt;int&gt; | sex &lt;int&gt; | pheno &lt;int&gt; | exome &lt;dbl&gt; | imputed &lt;dbl&gt; | both &lt;dbl&gt; |\n",
       "|---|---|---|---|---|---|---|---|---|---|\n",
       "| 1 | 1000906 | 1000906 | 0 | 0 | 1 | -9 | 0 | 1 | 0 |\n",
       "| 2 | 1001874 | 1001874 | 0 | 0 | 2 | -9 | 0 | 1 | 0 |\n",
       "| 3 | 1002712 | 1002712 | 0 | 0 | 2 | -9 | 0 | 1 | 0 |\n",
       "| 4 | 1003025 | 1003025 | 0 | 0 | 1 | -9 | 1 | 1 | 1 |\n",
       "| 5 | 1003083 | 1003083 | 0 | 0 | 1 | -9 | 1 | 1 | 1 |\n",
       "| 6 | 1004204 | 1004204 | 0 | 0 | 1 | -9 | 0 | 1 | 0 |\n",
       "\n"
      ],
      "text/plain": [
       "  FID     IID     father mother sex pheno exome imputed both\n",
       "1 1000906 1000906 0      0      1   -9    0     1       0   \n",
       "2 1001874 1001874 0      0      2   -9    0     1       0   \n",
       "3 1002712 1002712 0      0      2   -9    0     1       0   \n",
       "4 1003025 1003025 0      0      1   -9    1     1       1   \n",
       "5 1003083 1003083 0      0      1   -9    1     1       1   \n",
       "6 1004204 1004204 0      0      1   -9    0     1       0   "
      ]
     },
     "metadata": {},
     "output_type": "display_data"
    }
   ],
   "source": [
    "head(asian_full)"
   ]
  },
  {
   "cell_type": "code",
   "execution_count": 72,
   "id": "96f19ce6-9362-400b-8f09-2617d3dbcd02",
   "metadata": {
    "kernel": "R"
   },
   "outputs": [],
   "source": [
    "write.table(asian_full, '~/UKBiobank/genotype_files_processed/010622_asian_10189ind/010722_asian_qc_10188ind_withexome_or_imputed', sep=\"\\t\", row.names = FALSE, col.names= TRUE)"
   ]
  },
  {
   "cell_type": "markdown",
   "id": "17ca5fc9-fb58-4ba9-b056-0fc2760aecc7",
   "metadata": {
    "kernel": "R"
   },
   "source": [
    "### Africans QC\n",
    "\n",
    "Please find the scripts generated this subset of the data here\n",
    "\n",
    "`~/UKBiobank/genotype_files_processed/010522_sample_qc_africans.R`\n",
    "\n",
    "`~/UKBiobank/genotype_files_processed/010522_sample_qc_africans.sh`\n",
    "\n",
    "And in this notebook the ethnicity filtering\n",
    "\n",
    "`~/project/UKBB_GWAS_dev/analysis/phenotypes/122021_Asians_Africans_in_500K.ipynb`"
   ]
  },
  {
   "cell_type": "code",
   "execution_count": 23,
   "id": "eaa4c2ae-7649-40b1-b7d3-bdc87e29d112",
   "metadata": {
    "kernel": "R"
   },
   "outputs": [],
   "source": [
    "# Read in the file with the asian individuals to subset\n",
    "african <- read.table(\"/mnt/mfs/statgen/UKBiobank/phenotype_files/african_IID/010622_ukb47922_african_9096.iid\", header=TRUE, sep=\"\\t\")"
   ]
  },
  {
   "cell_type": "code",
   "execution_count": 24,
   "id": "e969f501-07ac-4fad-a55f-dedc2f303ff5",
   "metadata": {
    "kernel": "R"
   },
   "outputs": [
    {
     "data": {
      "text/html": [
       "<table class=\"dataframe\">\n",
       "<caption>A data.frame: 6 x 3</caption>\n",
       "<thead>\n",
       "\t<tr><th></th><th scope=col>FID</th><th scope=col>IID</th><th scope=col>ethnicity</th></tr>\n",
       "\t<tr><th></th><th scope=col>&lt;int&gt;</th><th scope=col>&lt;int&gt;</th><th scope=col>&lt;fct&gt;</th></tr>\n",
       "</thead>\n",
       "<tbody>\n",
       "\t<tr><th scope=row>1</th><td>1000697</td><td>1000697</td><td>4001</td></tr>\n",
       "\t<tr><th scope=row>2</th><td>1001447</td><td>1001447</td><td>4001</td></tr>\n",
       "\t<tr><th scope=row>3</th><td>1001465</td><td>1001465</td><td>2001</td></tr>\n",
       "\t<tr><th scope=row>4</th><td>1002004</td><td>1002004</td><td>4002</td></tr>\n",
       "\t<tr><th scope=row>5</th><td>1002354</td><td>1002354</td><td>4001</td></tr>\n",
       "\t<tr><th scope=row>6</th><td>1002390</td><td>1002390</td><td>4002</td></tr>\n",
       "</tbody>\n",
       "</table>\n"
      ],
      "text/latex": [
       "A data.frame: 6 x 3\n",
       "\\begin{tabular}{r|lll}\n",
       "  & FID & IID & ethnicity\\\\\n",
       "  & <int> & <int> & <fct>\\\\\n",
       "\\hline\n",
       "\t1 & 1000697 & 1000697 & 4001\\\\\n",
       "\t2 & 1001447 & 1001447 & 4001\\\\\n",
       "\t3 & 1001465 & 1001465 & 2001\\\\\n",
       "\t4 & 1002004 & 1002004 & 4002\\\\\n",
       "\t5 & 1002354 & 1002354 & 4001\\\\\n",
       "\t6 & 1002390 & 1002390 & 4002\\\\\n",
       "\\end{tabular}\n"
      ],
      "text/markdown": [
       "\n",
       "A data.frame: 6 x 3\n",
       "\n",
       "| <!--/--> | FID &lt;int&gt; | IID &lt;int&gt; | ethnicity &lt;fct&gt; |\n",
       "|---|---|---|---|\n",
       "| 1 | 1000697 | 1000697 | 4001 |\n",
       "| 2 | 1001447 | 1001447 | 4001 |\n",
       "| 3 | 1001465 | 1001465 | 2001 |\n",
       "| 4 | 1002004 | 1002004 | 4002 |\n",
       "| 5 | 1002354 | 1002354 | 4001 |\n",
       "| 6 | 1002390 | 1002390 | 4002 |\n",
       "\n"
      ],
      "text/plain": [
       "  FID     IID     ethnicity\n",
       "1 1000697 1000697 4001     \n",
       "2 1001447 1001447 4001     \n",
       "3 1001465 1001465 2001     \n",
       "4 1002004 1002004 4002     \n",
       "5 1002354 1002354 4001     \n",
       "6 1002390 1002390 4002     "
      ]
     },
     "metadata": {},
     "output_type": "display_data"
    }
   ],
   "source": [
    "head(african)"
   ]
  },
  {
   "cell_type": "code",
   "execution_count": 25,
   "id": "5a3d4088-434e-450a-b0c3-8caffe67d33b",
   "metadata": {
    "kernel": "R"
   },
   "outputs": [],
   "source": [
    "african_subset<-subset(data.haveboth, IID %in% african$IID)"
   ]
  },
  {
   "cell_type": "code",
   "execution_count": 27,
   "id": "ac4ba88c-22f2-4b4c-aed0-22f0fee4e99d",
   "metadata": {
    "kernel": "R"
   },
   "outputs": [
    {
     "data": {
      "text/html": [
       "8621"
      ],
      "text/latex": [
       "8621"
      ],
      "text/markdown": [
       "8621"
      ],
      "text/plain": [
       "[1] 8621"
      ]
     },
     "metadata": {},
     "output_type": "display_data"
    }
   ],
   "source": [
    "nrow(african_subset)"
   ]
  },
  {
   "cell_type": "code",
   "execution_count": 71,
   "id": "18a6e38d-6837-4fdd-bede-4ec179030316",
   "metadata": {
    "kernel": "R"
   },
   "outputs": [],
   "source": [
    "# Save the IID that pass these QC filters to a file\n",
    "ID_keep <- data.haveboth[,1, drop=FALSE]"
   ]
  },
  {
   "cell_type": "markdown",
   "id": "fd4017cd-3fc9-42ae-8386-50fc6c0ed4c4",
   "metadata": {
    "kernel": "R"
   },
   "source": [
    "#### Call rate 95% for Africans"
   ]
  },
  {
   "cell_type": "code",
   "execution_count": 7,
   "id": "a6a24c27-4d2d-4165-b4b9-e408e5e5cc66",
   "metadata": {
    "kernel": "Bash",
    "tags": []
   },
   "outputs": [
    {
     "name": "stdout",
     "output_type": "stream",
     "text": [
      "INFO: Running \u001b[32mcsg\u001b[0m: Configuration for Columbia csg partition cluster\n",
      "INFO: \u001b[32mcsg\u001b[0m is \u001b[32mcompleted\u001b[0m.\n",
      "INFO: \u001b[32mcsg\u001b[0m output:   \u001b[32m/home/dmc2245/project/UKBB_GWAS_dev/output/African_QC_mind0.05_2022-01-06.sbatch\u001b[0m\n",
      "INFO: Workflow csg (ID=wfc71384fbf7a3eb4) is executed successfully with 1 completed step.\n",
      "\n"
     ]
    }
   ],
   "source": [
    "# This is the path to the data transferred from Yale\n",
    "UKBB_yale=/mnt/mfs/statgen/archive/UKBiobank_Yale_transfer\n",
    "UKBB_PATH=/mnt/mfs/statgen/UKBiobank\n",
    "USER_PATH=$HOME/project\n",
    "OUT_PATH=$USER_PATH/UKBB_GWAS_dev/output\n",
    "tpl_file=$USER_PATH/bioworkflows/admin/csg.yml\n",
    "container_lmm=$HOME/containers/lmm.sif\n",
    "#Columbia's cluster\n",
    "cwd=~/UKBiobank/genotype_files_processed/010622_african_9096ind\n",
    "# bfile with variant_qc_1\n",
    "genoFile=~/UKBiobank/genotype_files_processed/cache/UKB_genotypedatadownloaded083019.genotype_files_processed.filtered.extracted.bed\n",
    "#To keep the samples that passed sample_qc_1 N=10,189\n",
    "keep_samples=~/UKBiobank/genotype_files_processed/010622_sampleQC_IID_keep_african_iid.txt\n",
    "gwasqc_sos=$USER_PATH/bioworkflows/GWAS/GWAS_QC.ipynb\n",
    "gwasqc_sbatch=$USER_PATH/UKBB_GWAS_dev/output/African_QC_mind0.05_$(date +\"%Y-%m-%d\").sbatch\n",
    "maf_filter=0\n",
    "geno_filter=0\n",
    "hwe_filter=0\n",
    "# Keep individuals with call rate > 95%\n",
    "mind_filter=0.05\n",
    "mem='30G'\n",
    "name='010622'\n",
    "job_size=1\n",
    "numThreads=2\n",
    "\n",
    "gwasqc1_args=\"\"\"qc:1\n",
    "    --cwd $cwd\n",
    "    --genoFile $genoFile\n",
    "    --keep_samples $keep_samples\n",
    "    --maf_filter $maf_filter\n",
    "    --geno_filter $geno_filter\n",
    "    --hwe_filter $hwe_filter\n",
    "    --mind_filter $mind_filter\n",
    "    --numThreads $numThreads \n",
    "    --job_size $job_size\n",
    "    --container_lmm $container_lmm\n",
    "    --mem $mem\n",
    "\"\"\"\n",
    "\n",
    "sos run ~/project/UKBB_GWAS_dev/admin/Get_Job_Script.ipynb csg \\\n",
    "    --template-file $tpl_file \\\n",
    "    --workflow-file $gwasqc_sos \\\n",
    "    --to-script $gwasqc_sbatch \\\n",
    "    --args \"$gwasqc1_args\""
   ]
  },
  {
   "cell_type": "markdown",
   "id": "537ece3d-85b8-44a8-ac21-bc041d3401d0",
   "metadata": {
    "kernel": "Bash"
   },
   "source": [
    "#### Remove the related inviduals in the african subset"
   ]
  },
  {
   "cell_type": "code",
   "execution_count": 31,
   "id": "ae9f1b1b-4fd0-459f-94f0-c916515a44fc",
   "metadata": {
    "kernel": "R",
    "tags": []
   },
   "outputs": [
    {
     "data": {
      "text/html": [
       "<table class=\"dataframe\">\n",
       "<caption>A data.frame: 4 x 2</caption>\n",
       "<thead>\n",
       "\t<tr><th></th><th scope=col>FID</th><th scope=col>IID</th></tr>\n",
       "\t<tr><th></th><th scope=col>&lt;int&gt;</th><th scope=col>&lt;int&gt;</th></tr>\n",
       "</thead>\n",
       "<tbody>\n",
       "\t<tr><th scope=row>1</th><td>3656538</td><td>3656538</td></tr>\n",
       "\t<tr><th scope=row>2</th><td>3733695</td><td>3733695</td></tr>\n",
       "\t<tr><th scope=row>3</th><td>4958925</td><td>4958925</td></tr>\n",
       "\t<tr><th scope=row>4</th><td>5991763</td><td>5991763</td></tr>\n",
       "</tbody>\n",
       "</table>\n"
      ],
      "text/latex": [
       "A data.frame: 4 x 2\n",
       "\\begin{tabular}{r|ll}\n",
       "  & FID & IID\\\\\n",
       "  & <int> & <int>\\\\\n",
       "\\hline\n",
       "\t1 & 3656538 & 3656538\\\\\n",
       "\t2 & 3733695 & 3733695\\\\\n",
       "\t3 & 4958925 & 4958925\\\\\n",
       "\t4 & 5991763 & 5991763\\\\\n",
       "\\end{tabular}\n"
      ],
      "text/markdown": [
       "\n",
       "A data.frame: 4 x 2\n",
       "\n",
       "| <!--/--> | FID &lt;int&gt; | IID &lt;int&gt; |\n",
       "|---|---|---|\n",
       "| 1 | 3656538 | 3656538 |\n",
       "| 2 | 3733695 | 3733695 |\n",
       "| 3 | 4958925 | 4958925 |\n",
       "| 4 | 5991763 | 5991763 |\n",
       "\n"
      ],
      "text/plain": [
       "  FID     IID    \n",
       "1 3656538 3656538\n",
       "2 3733695 3733695\n",
       "3 4958925 4958925\n",
       "4 5991763 5991763"
      ]
     },
     "metadata": {},
     "output_type": "display_data"
    }
   ],
   "source": [
    "### Read in the removed individuals after the sample missingness filter (mind=0.05) 95% call rate for the asian subset\n",
    "### In this case all of the individuals were kept N=10,189\n",
    "rm_african<- read.table(\"~/UKBiobank/genotype_files_processed/010622_african_9096ind/cache/UKB_genotypedatadownloaded083019.genotype_files_processed.filtered.extracted.010622_african_9096ind.filtered.mindrem.id\", header=FALSE)\n",
    "names(rm_african) <-c(\"FID\",\"IID\")\n",
    "head(rm_african)"
   ]
  },
  {
   "cell_type": "code",
   "execution_count": 29,
   "id": "a2fceee3-5edc-4871-9e0d-37cbef636abe",
   "metadata": {
    "kernel": "R"
   },
   "outputs": [
    {
     "data": {
      "text/html": [
       "<table class=\"dataframe\">\n",
       "<caption>A data.frame: 2 x 13</caption>\n",
       "<thead>\n",
       "\t<tr><th></th><th scope=col>IID</th><th scope=col>FID</th><th scope=col>ignore1</th><th scope=col>ignore2</th><th scope=col>ignore3</th><th scope=col>ignore4</th><th scope=col>f.31.0.0</th><th scope=col>f.22001.0.0</th><th scope=col>f.22019.0.0</th><th scope=col>f.22027.0.0</th><th scope=col>f.22021.0.0</th><th scope=col>f.22006.0.0</th><th scope=col>sex_match</th></tr>\n",
       "\t<tr><th></th><th scope=col>&lt;int&gt;</th><th scope=col>&lt;int&gt;</th><th scope=col>&lt;int&gt;</th><th scope=col>&lt;int&gt;</th><th scope=col>&lt;int&gt;</th><th scope=col>&lt;int&gt;</th><th scope=col>&lt;int&gt;</th><th scope=col>&lt;int&gt;</th><th scope=col>&lt;int&gt;</th><th scope=col>&lt;int&gt;</th><th scope=col>&lt;int&gt;</th><th scope=col>&lt;int&gt;</th><th scope=col>&lt;lgl&gt;</th></tr>\n",
       "</thead>\n",
       "<tbody>\n",
       "\t<tr><th scope=row>223911</th><td>3304568</td><td>3304568</td><td>0</td><td>0</td><td>1</td><td>-9</td><td>1</td><td>1</td><td>NA</td><td>NA</td><td>10</td><td>NA</td><td>TRUE</td></tr>\n",
       "\t<tr><th scope=row>300586</th><td>4094127</td><td>4094127</td><td>0</td><td>0</td><td>2</td><td>-9</td><td>0</td><td>0</td><td>NA</td><td>NA</td><td>10</td><td>NA</td><td>TRUE</td></tr>\n",
       "</tbody>\n",
       "</table>\n"
      ],
      "text/latex": [
       "A data.frame: 2 x 13\n",
       "\\begin{tabular}{r|lllllllllllll}\n",
       "  & IID & FID & ignore1 & ignore2 & ignore3 & ignore4 & f.31.0.0 & f.22001.0.0 & f.22019.0.0 & f.22027.0.0 & f.22021.0.0 & f.22006.0.0 & sex\\_match\\\\\n",
       "  & <int> & <int> & <int> & <int> & <int> & <int> & <int> & <int> & <int> & <int> & <int> & <int> & <lgl>\\\\\n",
       "\\hline\n",
       "\t223911 & 3304568 & 3304568 & 0 & 0 & 1 & -9 & 1 & 1 & NA & NA & 10 & NA & TRUE\\\\\n",
       "\t300586 & 4094127 & 4094127 & 0 & 0 & 2 & -9 & 0 & 0 & NA & NA & 10 & NA & TRUE\\\\\n",
       "\\end{tabular}\n"
      ],
      "text/markdown": [
       "\n",
       "A data.frame: 2 x 13\n",
       "\n",
       "| <!--/--> | IID &lt;int&gt; | FID &lt;int&gt; | ignore1 &lt;int&gt; | ignore2 &lt;int&gt; | ignore3 &lt;int&gt; | ignore4 &lt;int&gt; | f.31.0.0 &lt;int&gt; | f.22001.0.0 &lt;int&gt; | f.22019.0.0 &lt;int&gt; | f.22027.0.0 &lt;int&gt; | f.22021.0.0 &lt;int&gt; | f.22006.0.0 &lt;int&gt; | sex_match &lt;lgl&gt; |\n",
       "|---|---|---|---|---|---|---|---|---|---|---|---|---|---|\n",
       "| 223911 | 3304568 | 3304568 | 0 | 0 | 1 | -9 | 1 | 1 | NA | NA | 10 | NA | TRUE |\n",
       "| 300586 | 4094127 | 4094127 | 0 | 0 | 2 | -9 | 0 | 0 | NA | NA | 10 | NA | TRUE |\n",
       "\n"
      ],
      "text/plain": [
       "       IID     FID     ignore1 ignore2 ignore3 ignore4 f.31.0.0 f.22001.0.0\n",
       "223911 3304568 3304568 0       0       1       -9      1        1          \n",
       "300586 4094127 4094127 0       0       2       -9      0        0          \n",
       "       f.22019.0.0 f.22027.0.0 f.22021.0.0 f.22006.0.0 sex_match\n",
       "223911 NA          NA          10          NA          TRUE     \n",
       "300586 NA          NA          10          NA          TRUE     "
      ]
     },
     "metadata": {},
     "output_type": "display_data"
    }
   ],
   "source": [
    "african.related <- subset(african_subset, african_subset$f.22021.0.0>1)  #at least one relative identified\n",
    "head(african.related)"
   ]
  },
  {
   "cell_type": "code",
   "execution_count": 30,
   "id": "246b3e31-304d-42e1-8db1-b18b81aee966",
   "metadata": {
    "kernel": "R"
   },
   "outputs": [
    {
     "name": "stdout",
     "output_type": "stream",
     "text": [
      "The number of african individuals that are related in the sample is: 2 \n",
      "The number of individuals that are related in the sample after filtering for sample missingess is: 2 \n"
     ]
    }
   ],
   "source": [
    "african_iid_related <- african.related %>%\n",
    "    filter(!IID %in% rm_african$IID) %>%\n",
    "    select (\"FID\", \"IID\")\n",
    "cat(\"The number of african individuals that are related in the sample is:\",nrow(african.related),\"\\n\")\n",
    "cat(\"The number of individuals that are related in the sample after filtering for sample missingess is:\",nrow(african_iid_related),\"\\n\")"
   ]
  },
  {
   "cell_type": "code",
   "execution_count": 32,
   "id": "a8b47fd5-9924-44d9-9723-3812baaf18ff",
   "metadata": {
    "kernel": "R"
   },
   "outputs": [],
   "source": [
    "write.table(african_iid_related, '~/UKBiobank/genotype_files_processed/010622_african_9096ind/010722_sampleQC_IID_african_related.txt', sep=\"\\t\", row.names = FALSE, col.names= FALSE)"
   ]
  },
  {
   "cell_type": "markdown",
   "id": "36d448fd-ecc2-4e5b-ab1e-7068000f2d4c",
   "metadata": {
    "kernel": "R"
   },
   "source": [
    "#### Do the variant qc #2"
   ]
  },
  {
   "cell_type": "code",
   "execution_count": 33,
   "id": "14ee17b6-8a19-49fb-91d2-79954061e32f",
   "metadata": {
    "kernel": "Bash",
    "tags": []
   },
   "outputs": [
    {
     "name": "stdout",
     "output_type": "stream",
     "text": [
      "INFO: Running \u001b[32mcsg\u001b[0m: Configuration for Columbia csg partition cluster\n",
      "INFO: \u001b[32mcsg\u001b[0m is \u001b[32mcompleted\u001b[0m.\n",
      "INFO: \u001b[32mcsg\u001b[0m output:   \u001b[32m/home/dmc2245/project/UKBB_GWAS_dev/output/african_variantqc2_2022-01-07.sbatch\u001b[0m\n",
      "INFO: Workflow csg (ID=w8a9ee43c49953502) is executed successfully with 1 completed step.\n",
      "\n"
     ]
    }
   ],
   "source": [
    "# This is the path to the data transferred from Yale\n",
    "UKBB_yale=/mnt/mfs/statgen/archive/UKBiobank_Yale_transfer\n",
    "UKBB_PATH=/mnt/mfs/statgen/UKBiobank\n",
    "USER_PATH=$HOME/project\n",
    "OUT_PATH=$USER_PATH/UKBB_GWAS_dev/output\n",
    "tpl_file=$USER_PATH/bioworkflows/admin/csg.yml\n",
    "container_lmm=$HOME/containers/lmm.sif\n",
    "#Columbia's cluster\n",
    "cwd=~/UKBiobank/genotype_files_processed/010622_african_9096ind\n",
    "# bfile with variant_qc_1 N=8,617 and variants=674,489\n",
    "genoFile=~/UKBiobank/genotype_files_processed/010622_african_9096ind/cache/UKB_genotypedatadownloaded083019.genotype_files_processed.filtered.extracted.010622_african_9096ind.filtered.bed\n",
    "#To remove related samples\n",
    "remove_samples=~/UKBiobank/genotype_files_processed/010622_african_9096ind/010722_sampleQC_IID_african_related.txt\n",
    "gwasqc_sos=$USER_PATH/bioworkflows/GWAS/GWAS_QC.ipynb\n",
    "gwasqc_sbatch=$USER_PATH/UKBB_GWAS_dev/output/african_variantqc2_$(date +\"%Y-%m-%d\").sbatch\n",
    "maf_filter=0.01\n",
    "geno_filter=0.01\n",
    "hwe_filter=5e-08\n",
    "# Set mind filter to 0 not to filter out more individuals based on sample missingness\n",
    "mind_filter=0\n",
    "mem='30G'\n",
    "name='010722'\n",
    "job_size=1\n",
    "numThreads=2\n",
    "\n",
    "gwasqc1_args=\"\"\"qc:1\n",
    "    --cwd $cwd\n",
    "    --genoFile $genoFile\n",
    "    --remove_samples $remove_samples\n",
    "    --maf_filter $maf_filter\n",
    "    --geno_filter $geno_filter\n",
    "    --hwe_filter $hwe_filter\n",
    "    --mind_filter $mind_filter\n",
    "    --numThreads $numThreads \n",
    "    --job_size $job_size\n",
    "    --container_lmm $container_lmm\n",
    "    --mem $mem\n",
    "\"\"\"\n",
    "\n",
    "sos run ~/project/UKBB_GWAS_dev/admin/Get_Job_Script.ipynb csg \\\n",
    "    --template-file $tpl_file \\\n",
    "    --workflow-file $gwasqc_sos \\\n",
    "    --to-script $gwasqc_sbatch \\\n",
    "    --args \"$gwasqc1_args\""
   ]
  },
  {
   "cell_type": "markdown",
   "id": "2c32c3df-93c1-43f9-a906-86ac2a3b056e",
   "metadata": {
    "kernel": "Bash"
   },
   "source": [
    "#### Obtain the final file for all the samples after variant qc1, sample qc and variant qc2\n",
    "\n",
    "The snplist file was created base in the bim file after filtering the previous step variants=351,690\n",
    "\n",
    "`UKB_genotypedatadownloaded083019.genotype_files_processed.filtered.extracted.010622_african_9096ind.filtered.010622_african_9096ind.filtered.bim`\n",
    "\n",
    "The sample file to keep consists of N=8,617 inviduals (only 4 removed after mind=0.05)\n",
    "\n",
    "`UKB_genotypedatadownloaded083019.genotype_files_processed.filtered.extracted.010622_african_9096ind.filtered.fam`"
   ]
  },
  {
   "cell_type": "code",
   "execution_count": 34,
   "id": "27584457-2556-4c93-a3be-17b09898be99",
   "metadata": {
    "kernel": "Bash"
   },
   "outputs": [
    {
     "name": "stdout",
     "output_type": "stream",
     "text": [
      "INFO: Running \u001b[32mcsg\u001b[0m: Configuration for Columbia csg partition cluster\n",
      "INFO: \u001b[32mcsg\u001b[0m is \u001b[32mcompleted\u001b[0m.\n",
      "INFO: \u001b[32mcsg\u001b[0m output:   \u001b[32m/home/dmc2245/project/UKBB_GWAS_dev/output/African_sampleqc_final_2022-01-07.sbatch\u001b[0m\n",
      "INFO: Workflow csg (ID=w71e740a51bd0f6fb) is executed successfully with 1 completed step.\n",
      "\n"
     ]
    }
   ],
   "source": [
    "# This is the path to the data transferred from Yale\n",
    "UKBB_yale=/mnt/mfs/statgen/archive/UKBiobank_Yale_transfer\n",
    "UKBB_PATH=/mnt/mfs/statgen/UKBiobank\n",
    "USER_PATH=$HOME/project\n",
    "OUT_PATH=$USER_PATH/UKBB_GWAS_dev/output\n",
    "tpl_file=$USER_PATH/bioworkflows/admin/csg.yml\n",
    "container_lmm=$HOME/containers/lmm.sif\n",
    "#Columbia's cluster\n",
    "cwd=~/UKBiobank/genotype_files_processed/010622_african_9096ind/010722_sample_var_final_qc\n",
    "# orginal bfile\n",
    "genoFile=$UKBB_yale/pleiotropy_geneticfiles/UKB_originalgenotypefilesdownloaded083019/UKB_genotypedatadownloaded083019.bed\n",
    "#To keep samples N=8,617\n",
    "keep_samples=~/UKBiobank/genotype_files_processed/010622_african_9096ind/cache/UKB_genotypedatadownloaded083019.genotype_files_processed.filtered.extracted.010622_african_9096ind.filtered.fam\n",
    "# To keep variants=351,690\n",
    "keep_variants=~/UKBiobank/genotype_files_processed/010622_african_9096ind/cache/UKB_genotypedatadownloaded083019.genotype_files_processed.filtered.extracted.010622_african_9096ind.qc_pass.snplist\n",
    "gwasqc_sos=$USER_PATH/bioworkflows/GWAS/GWAS_QC.ipynb\n",
    "gwasqc_sbatch=$USER_PATH/UKBB_GWAS_dev/output/African_sampleqc_final_$(date +\"%Y-%m-%d\").sbatch\n",
    "## All filters set to 0 \n",
    "maf_filter=0\n",
    "geno_filter=0\n",
    "hwe_filter=0\n",
    "mind_filter=0\n",
    "mem='30G'\n",
    "name='010722'\n",
    "job_size=1\n",
    "numThreads=2\n",
    "\n",
    "gwasqc1_args=\"\"\"qc:1\n",
    "    --cwd $cwd\n",
    "    --genoFile $genoFile\n",
    "    --keep_samples $keep_samples\n",
    "    --keep_variants $keep_variants\n",
    "    --maf_filter $maf_filter\n",
    "    --geno_filter $geno_filter\n",
    "    --hwe_filter $hwe_filter\n",
    "    --mind_filter $mind_filter\n",
    "    --numThreads $numThreads \n",
    "    --job_size $job_size\n",
    "    --container_lmm $container_lmm\n",
    "    --mem $mem\n",
    "\"\"\"\n",
    "\n",
    "sos run ~/project/UKBB_GWAS_dev/admin/Get_Job_Script.ipynb csg \\\n",
    "    --template-file $tpl_file \\\n",
    "    --workflow-file $gwasqc_sos \\\n",
    "    --to-script $gwasqc_sbatch \\\n",
    "    --args \"$gwasqc1_args\""
   ]
  },
  {
   "cell_type": "code",
   "execution_count": 73,
   "id": "abfdd2a2-ed9a-4b83-8d78-44ca1b784281",
   "metadata": {
    "kernel": "R",
    "tags": []
   },
   "outputs": [],
   "source": [
    "#For the 500K individuals\n",
    "african_qc <- read.table(\"~/UKBiobank/genotype_files_processed/010622_african_9096ind/010722_sample_var_final_qc/cache/UKB_genotypedatadownloaded083019.010722_sample_var_final_qc.filtered.extracted.fam\")\n",
    "names(african_qc) <-c(\"FID\",\"IID\",\"father\", \"mother\", \"sex\", \"pheno\")"
   ]
  },
  {
   "cell_type": "code",
   "execution_count": 74,
   "id": "bce46b81-128a-4a3e-8f99-7b88546d941f",
   "metadata": {
    "kernel": "R",
    "tags": []
   },
   "outputs": [
    {
     "data": {
      "text/html": [
       "<table class=\"dataframe\">\n",
       "<caption>A data.frame: 6 x 6</caption>\n",
       "<thead>\n",
       "\t<tr><th></th><th scope=col>FID</th><th scope=col>IID</th><th scope=col>father</th><th scope=col>mother</th><th scope=col>sex</th><th scope=col>pheno</th></tr>\n",
       "\t<tr><th></th><th scope=col>&lt;int&gt;</th><th scope=col>&lt;int&gt;</th><th scope=col>&lt;int&gt;</th><th scope=col>&lt;int&gt;</th><th scope=col>&lt;int&gt;</th><th scope=col>&lt;int&gt;</th></tr>\n",
       "</thead>\n",
       "<tbody>\n",
       "\t<tr><th scope=row>1</th><td>1000697</td><td>1000697</td><td>0</td><td>0</td><td>2</td><td>-9</td></tr>\n",
       "\t<tr><th scope=row>2</th><td>1001447</td><td>1001447</td><td>0</td><td>0</td><td>2</td><td>-9</td></tr>\n",
       "\t<tr><th scope=row>3</th><td>1001465</td><td>1001465</td><td>0</td><td>0</td><td>2</td><td>-9</td></tr>\n",
       "\t<tr><th scope=row>4</th><td>1002004</td><td>1002004</td><td>0</td><td>0</td><td>1</td><td>-9</td></tr>\n",
       "\t<tr><th scope=row>5</th><td>1002354</td><td>1002354</td><td>0</td><td>0</td><td>2</td><td>-9</td></tr>\n",
       "\t<tr><th scope=row>6</th><td>1002390</td><td>1002390</td><td>0</td><td>0</td><td>2</td><td>-9</td></tr>\n",
       "</tbody>\n",
       "</table>\n"
      ],
      "text/latex": [
       "A data.frame: 6 x 6\n",
       "\\begin{tabular}{r|llllll}\n",
       "  & FID & IID & father & mother & sex & pheno\\\\\n",
       "  & <int> & <int> & <int> & <int> & <int> & <int>\\\\\n",
       "\\hline\n",
       "\t1 & 1000697 & 1000697 & 0 & 0 & 2 & -9\\\\\n",
       "\t2 & 1001447 & 1001447 & 0 & 0 & 2 & -9\\\\\n",
       "\t3 & 1001465 & 1001465 & 0 & 0 & 2 & -9\\\\\n",
       "\t4 & 1002004 & 1002004 & 0 & 0 & 1 & -9\\\\\n",
       "\t5 & 1002354 & 1002354 & 0 & 0 & 2 & -9\\\\\n",
       "\t6 & 1002390 & 1002390 & 0 & 0 & 2 & -9\\\\\n",
       "\\end{tabular}\n"
      ],
      "text/markdown": [
       "\n",
       "A data.frame: 6 x 6\n",
       "\n",
       "| <!--/--> | FID &lt;int&gt; | IID &lt;int&gt; | father &lt;int&gt; | mother &lt;int&gt; | sex &lt;int&gt; | pheno &lt;int&gt; |\n",
       "|---|---|---|---|---|---|---|\n",
       "| 1 | 1000697 | 1000697 | 0 | 0 | 2 | -9 |\n",
       "| 2 | 1001447 | 1001447 | 0 | 0 | 2 | -9 |\n",
       "| 3 | 1001465 | 1001465 | 0 | 0 | 2 | -9 |\n",
       "| 4 | 1002004 | 1002004 | 0 | 0 | 1 | -9 |\n",
       "| 5 | 1002354 | 1002354 | 0 | 0 | 2 | -9 |\n",
       "| 6 | 1002390 | 1002390 | 0 | 0 | 2 | -9 |\n",
       "\n"
      ],
      "text/plain": [
       "  FID     IID     father mother sex pheno\n",
       "1 1000697 1000697 0      0      2   -9   \n",
       "2 1001447 1001447 0      0      2   -9   \n",
       "3 1001465 1001465 0      0      2   -9   \n",
       "4 1002004 1002004 0      0      1   -9   \n",
       "5 1002354 1002354 0      0      2   -9   \n",
       "6 1002390 1002390 0      0      2   -9   "
      ]
     },
     "metadata": {},
     "output_type": "display_data"
    },
    {
     "data": {
      "text/html": [
       "8617"
      ],
      "text/latex": [
       "8617"
      ],
      "text/markdown": [
       "8617"
      ],
      "text/plain": [
       "[1] 8617"
      ]
     },
     "metadata": {},
     "output_type": "display_data"
    }
   ],
   "source": [
    "head(african_qc)\n",
    "nrow(african_qc)"
   ]
  },
  {
   "cell_type": "code",
   "execution_count": 75,
   "id": "d62e9967-2a8e-43fb-b76a-c343d4e0ac9f",
   "metadata": {
    "kernel": "R"
   },
   "outputs": [],
   "source": [
    "african_exome <- african_qc %>%\n",
    "    filter(IID %in% exome_id$IID) %>%\n",
    "    select (\"FID\", \"IID\")"
   ]
  },
  {
   "cell_type": "code",
   "execution_count": 76,
   "id": "142a05ad-5785-4713-b7a7-2702a76ed663",
   "metadata": {
    "kernel": "R"
   },
   "outputs": [
    {
     "data": {
      "text/html": [
       "3678"
      ],
      "text/latex": [
       "3678"
      ],
      "text/markdown": [
       "3678"
      ],
      "text/plain": [
       "[1] 3678"
      ]
     },
     "metadata": {},
     "output_type": "display_data"
    }
   ],
   "source": [
    "nrow(african_exome)"
   ]
  },
  {
   "cell_type": "code",
   "execution_count": 77,
   "id": "3e7b9812-ddcf-4b2c-b369-520966eae46f",
   "metadata": {
    "kernel": "R"
   },
   "outputs": [
    {
     "data": {
      "text/html": [
       "8617"
      ],
      "text/latex": [
       "8617"
      ],
      "text/markdown": [
       "8617"
      ],
      "text/plain": [
       "[1] 8617"
      ]
     },
     "metadata": {},
     "output_type": "display_data"
    }
   ],
   "source": [
    "african_imput <- african_qc %>%\n",
    "    filter(IID %in% imput_id$ID_1) %>%\n",
    "    select (\"FID\", \"IID\")\n",
    "nrow(african_imput)"
   ]
  },
  {
   "cell_type": "code",
   "execution_count": 78,
   "id": "5909c5da-eea6-46bf-aba6-e6656efcf5d4",
   "metadata": {
    "kernel": "R"
   },
   "outputs": [
    {
     "data": {
      "text/html": [
       "3678"
      ],
      "text/latex": [
       "3678"
      ],
      "text/markdown": [
       "3678"
      ],
      "text/plain": [
       "[1] 3678"
      ]
     },
     "metadata": {},
     "output_type": "display_data"
    },
    {
     "data": {
      "text/html": [
       "8617"
      ],
      "text/latex": [
       "8617"
      ],
      "text/markdown": [
       "8617"
      ],
      "text/plain": [
       "[1] 8617"
      ]
     },
     "metadata": {},
     "output_type": "display_data"
    },
    {
     "data": {
      "text/html": [
       "3678"
      ],
      "text/latex": [
       "3678"
      ],
      "text/markdown": [
       "3678"
      ],
      "text/plain": [
       "[1] 3678"
      ]
     },
     "metadata": {},
     "output_type": "display_data"
    }
   ],
   "source": [
    "african_full <- african_qc %>%\n",
    "  mutate(exome = if_else(IID %in% exome_id$IID,1 , 0),\n",
    "         imputed = if_else(IID %in% imput_id$ID_1,1, 0),\n",
    "         both = if_else (exome == 1 & imputed == 1, 1, 0))\n",
    "nrow(african_full[african_full$exome == 1,]) #making sure numbers match\n",
    "nrow(african_full[african_full$imputed == 1,]) #making sure numbers match\n",
    "nrow(african_full[african_full$both == 1,])"
   ]
  },
  {
   "cell_type": "code",
   "execution_count": 79,
   "id": "75ee9fc9-3727-4dc6-999d-cd0fb1186788",
   "metadata": {
    "kernel": "R"
   },
   "outputs": [
    {
     "data": {
      "text/html": [
       "<table class=\"dataframe\">\n",
       "<caption>A data.frame: 6 x 9</caption>\n",
       "<thead>\n",
       "\t<tr><th></th><th scope=col>FID</th><th scope=col>IID</th><th scope=col>father</th><th scope=col>mother</th><th scope=col>sex</th><th scope=col>pheno</th><th scope=col>exome</th><th scope=col>imputed</th><th scope=col>both</th></tr>\n",
       "\t<tr><th></th><th scope=col>&lt;int&gt;</th><th scope=col>&lt;int&gt;</th><th scope=col>&lt;int&gt;</th><th scope=col>&lt;int&gt;</th><th scope=col>&lt;int&gt;</th><th scope=col>&lt;int&gt;</th><th scope=col>&lt;dbl&gt;</th><th scope=col>&lt;dbl&gt;</th><th scope=col>&lt;dbl&gt;</th></tr>\n",
       "</thead>\n",
       "<tbody>\n",
       "\t<tr><th scope=row>1</th><td>1000697</td><td>1000697</td><td>0</td><td>0</td><td>2</td><td>-9</td><td>1</td><td>1</td><td>1</td></tr>\n",
       "\t<tr><th scope=row>2</th><td>1001447</td><td>1001447</td><td>0</td><td>0</td><td>2</td><td>-9</td><td>1</td><td>1</td><td>1</td></tr>\n",
       "\t<tr><th scope=row>3</th><td>1001465</td><td>1001465</td><td>0</td><td>0</td><td>2</td><td>-9</td><td>0</td><td>1</td><td>0</td></tr>\n",
       "\t<tr><th scope=row>4</th><td>1002004</td><td>1002004</td><td>0</td><td>0</td><td>1</td><td>-9</td><td>1</td><td>1</td><td>1</td></tr>\n",
       "\t<tr><th scope=row>5</th><td>1002354</td><td>1002354</td><td>0</td><td>0</td><td>2</td><td>-9</td><td>1</td><td>1</td><td>1</td></tr>\n",
       "\t<tr><th scope=row>6</th><td>1002390</td><td>1002390</td><td>0</td><td>0</td><td>2</td><td>-9</td><td>0</td><td>1</td><td>0</td></tr>\n",
       "</tbody>\n",
       "</table>\n"
      ],
      "text/latex": [
       "A data.frame: 6 x 9\n",
       "\\begin{tabular}{r|lllllllll}\n",
       "  & FID & IID & father & mother & sex & pheno & exome & imputed & both\\\\\n",
       "  & <int> & <int> & <int> & <int> & <int> & <int> & <dbl> & <dbl> & <dbl>\\\\\n",
       "\\hline\n",
       "\t1 & 1000697 & 1000697 & 0 & 0 & 2 & -9 & 1 & 1 & 1\\\\\n",
       "\t2 & 1001447 & 1001447 & 0 & 0 & 2 & -9 & 1 & 1 & 1\\\\\n",
       "\t3 & 1001465 & 1001465 & 0 & 0 & 2 & -9 & 0 & 1 & 0\\\\\n",
       "\t4 & 1002004 & 1002004 & 0 & 0 & 1 & -9 & 1 & 1 & 1\\\\\n",
       "\t5 & 1002354 & 1002354 & 0 & 0 & 2 & -9 & 1 & 1 & 1\\\\\n",
       "\t6 & 1002390 & 1002390 & 0 & 0 & 2 & -9 & 0 & 1 & 0\\\\\n",
       "\\end{tabular}\n"
      ],
      "text/markdown": [
       "\n",
       "A data.frame: 6 x 9\n",
       "\n",
       "| <!--/--> | FID &lt;int&gt; | IID &lt;int&gt; | father &lt;int&gt; | mother &lt;int&gt; | sex &lt;int&gt; | pheno &lt;int&gt; | exome &lt;dbl&gt; | imputed &lt;dbl&gt; | both &lt;dbl&gt; |\n",
       "|---|---|---|---|---|---|---|---|---|---|\n",
       "| 1 | 1000697 | 1000697 | 0 | 0 | 2 | -9 | 1 | 1 | 1 |\n",
       "| 2 | 1001447 | 1001447 | 0 | 0 | 2 | -9 | 1 | 1 | 1 |\n",
       "| 3 | 1001465 | 1001465 | 0 | 0 | 2 | -9 | 0 | 1 | 0 |\n",
       "| 4 | 1002004 | 1002004 | 0 | 0 | 1 | -9 | 1 | 1 | 1 |\n",
       "| 5 | 1002354 | 1002354 | 0 | 0 | 2 | -9 | 1 | 1 | 1 |\n",
       "| 6 | 1002390 | 1002390 | 0 | 0 | 2 | -9 | 0 | 1 | 0 |\n",
       "\n"
      ],
      "text/plain": [
       "  FID     IID     father mother sex pheno exome imputed both\n",
       "1 1000697 1000697 0      0      2   -9    1     1       1   \n",
       "2 1001447 1001447 0      0      2   -9    1     1       1   \n",
       "3 1001465 1001465 0      0      2   -9    0     1       0   \n",
       "4 1002004 1002004 0      0      1   -9    1     1       1   \n",
       "5 1002354 1002354 0      0      2   -9    1     1       1   \n",
       "6 1002390 1002390 0      0      2   -9    0     1       0   "
      ]
     },
     "metadata": {},
     "output_type": "display_data"
    }
   ],
   "source": [
    "head(african_full)"
   ]
  },
  {
   "cell_type": "code",
   "execution_count": 80,
   "id": "e62c01d7-3269-46ef-b843-8e41cf675f6e",
   "metadata": {
    "kernel": "R"
   },
   "outputs": [],
   "source": [
    "write.table(african_full, '~/UKBiobank/genotype_files_processed/010622_african_9096ind/010722_african_qc_8617ind_withexome_or_imputed', sep=\"\\t\", row.names = FALSE, col.names= TRUE)"
   ]
  },
  {
   "cell_type": "markdown",
   "id": "032354a4-6e02-49dc-99fa-81fe0241357b",
   "metadata": {
    "kernel": "R"
   },
   "source": [
    "## Step 6. Filter using plink for individual call rate > 99% White British + other\n",
    "\n",
    "After selecting the individuals and applying mind=0.01 (keep individuals with call rate > 99%) \n",
    "\n",
    "49718 samples removed due to missing genotype data (--mind)"
   ]
  },
  {
   "cell_type": "code",
   "execution_count": 6,
   "id": "403cb60f-dcac-4964-a21f-b2fb2424a8f1",
   "metadata": {
    "kernel": "Bash",
    "tags": []
   },
   "outputs": [
    {
     "name": "stdout",
     "output_type": "stream",
     "text": [
      "INFO: Running \u001b[32mcsg\u001b[0m: Configuration for Columbia csg partition cluster\n",
      "INFO: \u001b[32mcsg\u001b[0m is \u001b[32mcompleted\u001b[0m.\n",
      "INFO: \u001b[32mcsg\u001b[0m output:   \u001b[32m/home/dmc2245/project/UKBB_GWAS_dev/output/sampleqc_variantfilteredbed_2021-08-26.sbatch\u001b[0m\n",
      "INFO: Workflow csg (ID=wb3a0e834b911693a) is executed successfully with 1 completed step.\n",
      "\n"
     ]
    }
   ],
   "source": [
    "# This is the path to the data transferred from Yale\n",
    "UKBB_yale=/mnt/mfs/statgen/archive/UKBiobank_Yale_transfer\n",
    "UKBB_PATH=/mnt/mfs/statgen/UKBiobank\n",
    "USER_PATH=$HOME/project\n",
    "OUT_PATH=$USER_PATH/UKBB_GWAS_dev/output\n",
    "tpl_file=$USER_PATH/bioworkflows/admin/csg.yml\n",
    "container_lmm=$HOME/containers/lmm.sif\n",
    "#Columbia's cluster\n",
    "cwd=~/UKBiobank/genotype_files_processed/082621_sampleqc\n",
    "# bfile with variant_qc_1\n",
    "genoFile=~/UKBiobank/genotype_files_processed/cache/UKB_genotypedatadownloaded083019.genotype_files_processed.filtered.extracted.bed\n",
    "#To keep the samples that passed sample_qc_1\n",
    "keep_samples=~/UKBiobank/genotype_files_processed/082421_sampleQC_IID_keep.txt\n",
    "gwasqc_sos=$USER_PATH/bioworkflows/GWAS/GWAS_QC.ipynb\n",
    "gwasqc_sbatch=$USER_PATH/UKBB_GWAS_dev/output/sampleqc_variantfilteredbed_$(date +\"%Y-%m-%d\").sbatch\n",
    "maf_filter=0\n",
    "geno_filter=0\n",
    "hwe_filter=0\n",
    "# Keep individuals with call rate > 99%\n",
    "mind_filter=0.01\n",
    "mem='30G'\n",
    "name='082621'\n",
    "job_size=1\n",
    "numThreads=2\n",
    "\n",
    "gwasqc1_args=\"\"\"qc:1\n",
    "    --cwd $cwd\n",
    "    --genoFile $genoFile\n",
    "    --keep_samples $keep_samples\n",
    "    --maf_filter $maf_filter\n",
    "    --geno_filter $geno_filter\n",
    "    --hwe_filter $hwe_filter\n",
    "    --mind_filter $mind_filter\n",
    "    --numThreads $numThreads \n",
    "    --job_size $job_size\n",
    "    --container_lmm $container_lmm\n",
    "    --mem $mem\n",
    "\"\"\"\n",
    "\n",
    "sos run ~/project/UKBB_GWAS_dev/admin/Get_Job_Script.ipynb csg \\\n",
    "    --template-file $tpl_file \\\n",
    "    --workflow-file $gwasqc_sos \\\n",
    "    --to-script $gwasqc_sbatch \\\n",
    "    --args \"$gwasqc1_args\""
   ]
  },
  {
   "cell_type": "markdown",
   "id": "425b257d-e629-4c90-a964-3fa041a0bb8c",
   "metadata": {
    "kernel": "Bash"
   },
   "source": [
    "## Use a call rate >90% white British + other"
   ]
  },
  {
   "cell_type": "code",
   "execution_count": 92,
   "id": "953b03d1-7628-4daa-a65c-fb8c311a86d7",
   "metadata": {
    "kernel": "Bash"
   },
   "outputs": [
    {
     "name": "stdout",
     "output_type": "stream",
     "text": [
      "INFO: Running \u001b[32mcsg\u001b[0m: Configuration for Columbia csg partition cluster\n",
      "INFO: \u001b[32mcsg\u001b[0m is \u001b[32mcompleted\u001b[0m.\n",
      "INFO: \u001b[32mcsg\u001b[0m output:   \u001b[32m/home/dmc2245/project/UKBB_GWAS_dev/output/sampleqc_call90_2021-08-31.sbatch\u001b[0m\n",
      "INFO: Workflow csg (ID=w5c2d59f208020dfc) is executed successfully with 1 completed step.\n",
      "\n"
     ]
    }
   ],
   "source": [
    "# This is the path to the data transferred from Yale\n",
    "UKBB_yale=/mnt/mfs/statgen/archive/UKBiobank_Yale_transfer\n",
    "UKBB_PATH=/mnt/mfs/statgen/UKBiobank\n",
    "USER_PATH=$HOME/project\n",
    "OUT_PATH=$USER_PATH/UKBB_GWAS_dev/output\n",
    "tpl_file=$USER_PATH/bioworkflows/admin/csg.yml\n",
    "container_lmm=$HOME/containers/lmm.sif\n",
    "#Columbia's cluster\n",
    "cwd=~/UKBiobank/genotype_files_processed/082621_sampleqc_call90\n",
    "# bfile with variant_qc_1\n",
    "genoFile=~/UKBiobank/genotype_files_processed/cache/UKB_genotypedatadownloaded083019.genotype_files_processed.filtered.extracted.bed\n",
    "#To keep the samples that passed sample_qc_1\n",
    "keep_samples=~/UKBiobank/genotype_files_processed/082421_sampleQC_IID_keep.txt\n",
    "gwasqc_sos=$USER_PATH/bioworkflows/GWAS/GWAS_QC.ipynb\n",
    "gwasqc_sbatch=$USER_PATH/UKBB_GWAS_dev/output/sampleqc_call90_$(date +\"%Y-%m-%d\").sbatch\n",
    "maf_filter=0\n",
    "geno_filter=0\n",
    "hwe_filter=0\n",
    "# Keep individuals with call rate > 90%\n",
    "mind_filter=0.1\n",
    "mem='30G'\n",
    "name='082621'\n",
    "job_size=1\n",
    "numThreads=2\n",
    "\n",
    "gwasqc1_args=\"\"\"qc:1\n",
    "    --cwd $cwd\n",
    "    --genoFile $genoFile\n",
    "    --keep_samples $keep_samples\n",
    "    --maf_filter $maf_filter\n",
    "    --geno_filter $geno_filter\n",
    "    --hwe_filter $hwe_filter\n",
    "    --mind_filter $mind_filter\n",
    "    --numThreads $numThreads \n",
    "    --job_size $job_size\n",
    "    --container_lmm $container_lmm\n",
    "    --mem $mem\n",
    "\"\"\"\n",
    "\n",
    "sos run ~/project/UKBB_GWAS_dev/admin/Get_Job_Script.ipynb csg \\\n",
    "    --template-file $tpl_file \\\n",
    "    --workflow-file $gwasqc_sos \\\n",
    "    --to-script $gwasqc_sbatch \\\n",
    "    --args \"$gwasqc1_args\""
   ]
  },
  {
   "cell_type": "markdown",
   "id": "3963b794-7789-44ab-9a8d-93e94e858344",
   "metadata": {
    "kernel": "R"
   },
   "source": [
    "## Step 7. Relatedness using variable f.22021.0.0"
   ]
  },
  {
   "cell_type": "code",
   "execution_count": 70,
   "id": "2f96b338-e03b-4fb1-8ed7-1d0aec2190cf",
   "metadata": {
    "kernel": "R",
    "tags": []
   },
   "outputs": [],
   "source": [
    "### Read in the removed individuals after the sample missingness filter (mind=0.01) 99% call rate\n",
    "removed_IID <- read.table(\"~/UKBiobank/genotype_files_processed/082621_sampleqc/cache/UKB_genotypedatadownloaded083019.genotype_files_processed.filtered.extracted.082621_sampleqc.filtered.mindrem.id\", header=FALSE)\n",
    "names(removed_IID) <-c(\"FID\",\"IID\")"
   ]
  },
  {
   "cell_type": "code",
   "execution_count": 84,
   "id": "76049c99-3940-434c-9692-b4c41d5d02d6",
   "metadata": {
    "kernel": "R"
   },
   "outputs": [
    {
     "name": "stdout",
     "output_type": "stream",
     "text": [
      "The number of individuals that are related in the sample is: 147252 \n",
      "The number of individuals that are related in the sample after filtering for sample missingess is: 132222 \n"
     ]
    }
   ],
   "source": [
    "data.related <- subset(data.haveboth, data.haveboth$f.22021.0.0==1)  #at least one relative identified\n",
    "ID_related <- data.related %>%\n",
    "    filter(!IID %in% removed_IID$IID) %>%\n",
    "    select (\"FID\", \"IID\")\n",
    "cat(\"The number of individuals that are related in the sample is:\",nrow(data.related),\"\\n\")\n",
    "cat(\"The number of individuals that are related in the sample after filtering for sample missingess is:\",nrow(ID_related),\"\\n\")\n",
    "write.table(ID_related, '~/UKBiobank/genotype_files_processed/082421_sampleQC_IID_related.txt', sep=\"\\t\", row.names = FALSE, col.names= FALSE)"
   ]
  },
  {
   "cell_type": "code",
   "execution_count": 59,
   "id": "45e003a4-0cf9-4d87-9b4c-59bff3261ea7",
   "metadata": {
    "kernel": "R"
   },
   "outputs": [],
   "source": [
    "### Read in the removed individuals after the sample missingness filter (mind=0.1) 90% call rate\n",
    "retained_IID <- read.table(\"~/UKBiobank/genotype_files_processed/082621_sampleqc_call90/cache/UKB_genotypedatadownloaded083019.genotype_files_processed.filtered.extracted.082621_sampleqc_call90.filtered.fam\", header=FALSE)\n",
    "names(retained_IID) <-c(\"FID\",\"IID\",\"ignore1\", \"ignore2\", \"ignore3\", \"ignore4\")"
   ]
  },
  {
   "cell_type": "code",
   "execution_count": 13,
   "id": "c1ad08fd-fda6-417a-a4b8-917686defaf7",
   "metadata": {
    "kernel": "R"
   },
   "outputs": [
    {
     "name": "stdout",
     "output_type": "stream",
     "text": [
      "The number of individuals that are related in the sample is: 147252 \n",
      "The number of individuals that are related in the sample after filtering for sample missingess is: 0 \n"
     ]
    }
   ],
   "source": [
    "data.related <- subset(data.haveboth, data.haveboth$f.22021.0.0==1)  #at least one relative identified\n",
    "ID_related <- data.related %>%\n",
    "    filter(!IID %in% retained_IID$IID) %>%\n",
    "    select (\"FID\", \"IID\")\n",
    "cat(\"The number of individuals that are related in the sample is:\",nrow(data.related),\"\\n\")\n",
    "cat(\"The number of individuals that are related in the sample after filtering for sample missingess is:\",nrow(ID_related),\"\\n\")\n",
    "#write.table(ID_related, '~/UKBiobank/genotype_files_processed/082421_sampleQC_IID_related.txt', sep=\"\\t\", row.names = FALSE, col.names= FALSE)"
   ]
  },
  {
   "cell_type": "markdown",
   "id": "f52dcef0-f358-462f-9462-69c2115885c2",
   "metadata": {
    "kernel": "Bash"
   },
   "source": [
    "### Determine kinship using king"
   ]
  },
  {
   "cell_type": "code",
   "execution_count": 11,
   "id": "01956a09-83f5-4f7f-a9b0-c627cc4553b0",
   "metadata": {
    "kernel": "Bash"
   },
   "outputs": [
    {
     "name": "stdout",
     "output_type": "stream",
     "text": [
      "INFO: Running \u001b[32mcsg\u001b[0m: Configuration for Columbia csg partition cluster\n",
      "INFO: \u001b[32mcsg\u001b[0m is \u001b[32mcompleted\u001b[0m.\n",
      "INFO: \u001b[32mcsg\u001b[0m output:   \u001b[32m/home/dmc2245/project/UKBB_GWAS_dev/output/king_genoarray_2021-08-27.sbatch\u001b[0m\n",
      "INFO: Workflow csg (ID=w9ab1d59b1ee0d16a) is executed successfully with 1 completed step.\n",
      "\n"
     ]
    }
   ],
   "source": [
    "# This is the path to the data transferred from Yale\n",
    "UKBB_yale=/mnt/mfs/statgen/archive/UKBiobank_Yale_transfer\n",
    "UKBB_PATH=/mnt/mfs/statgen/UKBiobank\n",
    "USER_PATH=$HOME/project\n",
    "tpl_file=$USER_PATH/bioworkflows/admin/csg.yml\n",
    "container_lmm=$HOME/containers/lmm.sif\n",
    "##Columbia's variables\n",
    "cwd=$UKBB_PATH/genotype_files_processed/082621_king\n",
    "genoFile=$UKBB_PATH/genotype_files_processed/082621_sampleqc/cache/UKB_genotypedatadownloaded083019.genotype_files_processed.filtered.extracted.082621_sampleqc.filtered.bed\n",
    "king_sbatch=$USER_PATH/UKBB_GWAS_dev/output/king_genoarray_$(date +\"%Y-%m-%d\").sbatch\n",
    "kinship=0.0625\n",
    "gwasqc_sos=$USER_PATH/bioworkflows/GWAS/GWAS_QC.ipynb\n",
    "numThreads=20\n",
    "mem='30G'\n",
    "walltime='60h'\n",
    "\n",
    "king_args=\"\"\"king\n",
    "    --cwd $cwd\n",
    "    --genoFile $genoFile\n",
    "    --kinship $kinship\n",
    "    --numThreads $numThreads \n",
    "    --job_size $job_size\n",
    "    --container_lmm $container_lmm\n",
    "    --mem $mem\n",
    "    --walltime $walltime\n",
    "    --no-maximize-unrelated\n",
    "\"\"\"\n",
    "\n",
    "sos run ~/project/UKBB_GWAS_dev/admin/Get_Job_Script.ipynb csg \\\n",
    "    --template-file $tpl_file \\\n",
    "    --workflow-file $gwasqc_sos \\\n",
    "    --to-script $king_sbatch \\\n",
    "    --args \"$king_args\""
   ]
  },
  {
   "cell_type": "markdown",
   "id": "9257d082-33e9-460b-8a46-811beedd7533",
   "metadata": {
    "kernel": "Bash"
   },
   "source": [
    "## Step 8 Variant QC number 2"
   ]
  },
  {
   "cell_type": "markdown",
   "id": "c5547ab5-8bbb-489f-9dcc-5d0093eb583e",
   "metadata": {
    "kernel": "Bash"
   },
   "source": [
    "### Get the unrelated individuals only, do quality controls for variant missingness (geno=0.01), HWE (5e-08) and maf filter (0.01)"
   ]
  },
  {
   "cell_type": "code",
   "execution_count": 85,
   "id": "1c06bdaf-2731-4622-991f-db5b688f1d71",
   "metadata": {
    "kernel": "Bash"
   },
   "outputs": [
    {
     "name": "stdout",
     "output_type": "stream",
     "text": [
      "INFO: Running \u001b[32mcsg\u001b[0m: Configuration for Columbia csg partition cluster\n",
      "INFO: \u001b[32mcsg\u001b[0m is \u001b[32mcompleted\u001b[0m.\n",
      "INFO: \u001b[32mcsg\u001b[0m output:   \u001b[32m/home/dmc2245/project/UKBB_GWAS_dev/output/sampleqc2_2021-08-31.sbatch\u001b[0m\n",
      "INFO: Workflow csg (ID=w039a30c991021747) is executed successfully with 1 completed step.\n",
      "\n"
     ]
    }
   ],
   "source": [
    "# This is the path to the data transferred from Yale\n",
    "UKBB_yale=/mnt/mfs/statgen/archive/UKBiobank_Yale_transfer\n",
    "UKBB_PATH=/mnt/mfs/statgen/UKBiobank\n",
    "USER_PATH=$HOME/project\n",
    "OUT_PATH=$USER_PATH/UKBB_GWAS_dev/output\n",
    "tpl_file=$USER_PATH/bioworkflows/admin/csg.yml\n",
    "container_lmm=$HOME/containers/lmm.sif\n",
    "#Columbia's cluster\n",
    "cwd=~/UKBiobank/genotype_files_processed/083021_sampleqc2\n",
    "# bfile with variant_qc_1\n",
    "genoFile=~/UKBiobank/genotype_files_processed/082621_sampleqc/cache/UKB_genotypedatadownloaded083019.genotype_files_processed.filtered.extracted.082621_sampleqc.filtered.bed\n",
    "#To remove related samples\n",
    "remove_samples=~/UKBiobank/genotype_files_processed/082421_sampleQC_IID_related.txt\n",
    "gwasqc_sos=$USER_PATH/bioworkflows/GWAS/GWAS_QC.ipynb\n",
    "gwasqc_sbatch=$USER_PATH/UKBB_GWAS_dev/output/sampleqc2_$(date +\"%Y-%m-%d\").sbatch\n",
    "maf_filter=0.01\n",
    "geno_filter=0.01\n",
    "hwe_filter=5e-08\n",
    "# Set mind filter to 0 not to filter out more individuals based on sample missingness\n",
    "mind_filter=0\n",
    "mem='30G'\n",
    "name='083021'\n",
    "job_size=1\n",
    "numThreads=2\n",
    "\n",
    "gwasqc1_args=\"\"\"qc:1\n",
    "    --cwd $cwd\n",
    "    --genoFile $genoFile\n",
    "    --remove_samples $remove_samples\n",
    "    --maf_filter $maf_filter\n",
    "    --geno_filter $geno_filter\n",
    "    --hwe_filter $hwe_filter\n",
    "    --mind_filter $mind_filter\n",
    "    --numThreads $numThreads \n",
    "    --job_size $job_size\n",
    "    --container_lmm $container_lmm\n",
    "    --mem $mem\n",
    "\"\"\"\n",
    "\n",
    "sos run ~/project/UKBB_GWAS_dev/admin/Get_Job_Script.ipynb csg \\\n",
    "    --template-file $tpl_file \\\n",
    "    --workflow-file $gwasqc_sos \\\n",
    "    --to-script $gwasqc_sbatch \\\n",
    "    --args \"$gwasqc1_args\""
   ]
  },
  {
   "cell_type": "markdown",
   "id": "0edc8c04-bc08-4a50-84ef-06bfc133c417",
   "metadata": {
    "kernel": "Bash"
   },
   "source": [
    "## Create the final file for analyses call rate >99%"
   ]
  },
  {
   "cell_type": "code",
   "execution_count": 86,
   "id": "c7cc0e2c-011b-4055-abc0-462968b74a88",
   "metadata": {
    "kernel": "Bash"
   },
   "outputs": [
    {
     "name": "stdout",
     "output_type": "stream",
     "text": [
      "INFO: Running \u001b[32mcsg\u001b[0m: Configuration for Columbia csg partition cluster\n",
      "INFO: \u001b[32mcsg\u001b[0m is \u001b[32mcompleted\u001b[0m.\n",
      "INFO: \u001b[32mcsg\u001b[0m output:   \u001b[32m/home/dmc2245/project/UKBB_GWAS_dev/output/sampleqc2_2021-08-31.sbatch\u001b[0m\n",
      "INFO: Workflow csg (ID=wb46da603845062d4) is executed successfully with 1 completed step.\n",
      "\n"
     ]
    }
   ],
   "source": [
    "# This is the path to the data transferred from Yale\n",
    "UKBB_yale=/mnt/mfs/statgen/archive/UKBiobank_Yale_transfer\n",
    "UKBB_PATH=/mnt/mfs/statgen/UKBiobank\n",
    "USER_PATH=$HOME/project\n",
    "OUT_PATH=$USER_PATH/UKBB_GWAS_dev/output\n",
    "tpl_file=$USER_PATH/bioworkflows/admin/csg.yml\n",
    "container_lmm=$HOME/containers/lmm.sif\n",
    "#Columbia's cluster\n",
    "cwd=~/UKBiobank/genotype_files_processed/083021_sample_variant_qc_final\n",
    "# orginal bfile\n",
    "genoFile=$UKBB_yale/pleiotropy_geneticfiles/UKB_originalgenotypefilesdownloaded083019/UKB_genotypedatadownloaded083019.bed\n",
    "#To keep samples\n",
    "keep_samples=~/UKBiobank/genotype_files_processed/082621_sampleqc/cache/UKB_genotypedatadownloaded083019.082621_sampleqc.qc_pass.id\n",
    "# To keep variants\n",
    "keep_variants=~/UKBiobank/genotype_files_processed/083021_sampleqc2/cache/UKB_genotypedatadownloaded083019.082621_sampleqc.083021_sampleqc2.qc_pass.snplist\n",
    "gwasqc_sos=$USER_PATH/bioworkflows/GWAS/GWAS_QC.ipynb\n",
    "gwasqc_sbatch=$USER_PATH/UKBB_GWAS_dev/output/sampleqc_final_$(date +\"%Y-%m-%d\").sbatch\n",
    "## All filters set to 0 \n",
    "maf_filter=0\n",
    "geno_filter=0\n",
    "hwe_filter=0\n",
    "mind_filter=0\n",
    "mem='30G'\n",
    "name='083021'\n",
    "job_size=1\n",
    "numThreads=2\n",
    "\n",
    "gwasqc1_args=\"\"\"qc:1\n",
    "    --cwd $cwd\n",
    "    --genoFile $genoFile\n",
    "    --keep_samples $keep_samples\n",
    "    --keep_variants $keep_variants\n",
    "    --maf_filter $maf_filter\n",
    "    --geno_filter $geno_filter\n",
    "    --hwe_filter $hwe_filter\n",
    "    --mind_filter $mind_filter\n",
    "    --numThreads $numThreads \n",
    "    --job_size $job_size\n",
    "    --container_lmm $container_lmm\n",
    "    --mem $mem\n",
    "\"\"\"\n",
    "\n",
    "sos run ~/project/UKBB_GWAS_dev/admin/Get_Job_Script.ipynb csg \\\n",
    "    --template-file $tpl_file \\\n",
    "    --workflow-file $gwasqc_sos \\\n",
    "    --to-script $gwasqc_sbatch \\\n",
    "    --args \"$gwasqc1_args\""
   ]
  },
  {
   "cell_type": "markdown",
   "id": "c3696c0f-1b32-42e9-8eb3-695bb9531382",
   "metadata": {
    "kernel": "Bash"
   },
   "source": [
    "## Create the final file for analyses call rate >90% (this is the one used downstream for PCA and LMM analysis)"
   ]
  },
  {
   "cell_type": "code",
   "execution_count": 77,
   "id": "b1bffbab-98fa-448e-8d4f-e3ca3bdd9dcc",
   "metadata": {
    "kernel": "Bash"
   },
   "outputs": [
    {
     "name": "stdout",
     "output_type": "stream",
     "text": [
      "INFO: Running \u001b[32mcsg\u001b[0m: Configuration for Columbia csg partition cluster\n",
      "INFO: \u001b[32mcsg\u001b[0m is \u001b[32mcompleted\u001b[0m.\n",
      "INFO: \u001b[32mcsg\u001b[0m output:   \u001b[32m/home/dmc2245/project/UKBB_GWAS_dev/output/sampleqc_final_2021-09-02.sbatch\u001b[0m\n",
      "INFO: Workflow csg (ID=wd3cc554baec8ffe9) is executed successfully with 1 completed step.\n",
      "\n"
     ]
    }
   ],
   "source": [
    "# This is the path to the data transferred from Yale\n",
    "UKBB_yale=/mnt/mfs/statgen/archive/UKBiobank_Yale_transfer\n",
    "UKBB_PATH=/mnt/mfs/statgen/UKBiobank\n",
    "USER_PATH=$HOME/project\n",
    "OUT_PATH=$USER_PATH/UKBB_GWAS_dev/output\n",
    "tpl_file=$USER_PATH/bioworkflows/admin/csg.yml\n",
    "container_lmm=$HOME/containers/lmm.sif\n",
    "#Columbia's cluster\n",
    "cwd=~/UKBiobank/genotype_files_processed/090221_sample_variant_qc_final_callrate90\n",
    "# orginal bfile\n",
    "genoFile=$UKBB_yale/pleiotropy_geneticfiles/UKB_originalgenotypefilesdownloaded083019/UKB_genotypedatadownloaded083019.bed\n",
    "#To keep samples\n",
    "keep_samples=~/UKBiobank/genotype_files_processed/082621_sampleqc_call90/cache/UKB_genotypedatadownloaded083019.genotype_files_processed.filtered.extracted.082621_sampleqc_call90.filtered.qc_pass.id\n",
    "# To keep variants\n",
    "keep_variants=~/UKBiobank/genotype_files_processed/083021_sampleqc2/cache/UKB_genotypedatadownloaded083019.082621_sampleqc.083021_sampleqc2.qc_pass.snplist\n",
    "gwasqc_sos=$USER_PATH/bioworkflows/GWAS/GWAS_QC.ipynb\n",
    "gwasqc_sbatch=$USER_PATH/UKBB_GWAS_dev/output/sampleqc_final_$(date +\"%Y-%m-%d\").sbatch\n",
    "## All filters set to 0 \n",
    "maf_filter=0\n",
    "geno_filter=0\n",
    "hwe_filter=0\n",
    "mind_filter=0\n",
    "mem='30G'\n",
    "name='090221'\n",
    "job_size=1\n",
    "numThreads=2\n",
    "\n",
    "gwasqc1_args=\"\"\"qc:1\n",
    "    --cwd $cwd\n",
    "    --genoFile $genoFile\n",
    "    --keep_samples $keep_samples\n",
    "    --keep_variants $keep_variants\n",
    "    --maf_filter $maf_filter\n",
    "    --geno_filter $geno_filter\n",
    "    --hwe_filter $hwe_filter\n",
    "    --mind_filter $mind_filter\n",
    "    --numThreads $numThreads \n",
    "    --job_size $job_size\n",
    "    --container_lmm $container_lmm\n",
    "    --mem $mem\n",
    "\"\"\"\n",
    "\n",
    "sos run ~/project/UKBB_GWAS_dev/admin/Get_Job_Script.ipynb csg \\\n",
    "    --template-file $tpl_file \\\n",
    "    --workflow-file $gwasqc_sos \\\n",
    "    --to-script $gwasqc_sbatch \\\n",
    "    --args \"$gwasqc1_args\""
   ]
  },
  {
   "cell_type": "markdown",
   "id": "366397ab-d87d-4e15-bb4e-c56455affa0a",
   "metadata": {
    "kernel": "R"
   },
   "source": [
    "### Ancestry restriction (Megan pipeline to use only people that self-identify as white-Bristish)\n",
    "\n",
    "In this case we are defining our own ancestry based on the PC analysis"
   ]
  },
  {
   "cell_type": "code",
   "execution_count": null,
   "id": "4a6c6847-fb79-4eef-adb2-d6744fbcf61a",
   "metadata": {
    "kernel": "R"
   },
   "outputs": [],
   "source": [
    "data.haveboth <- subset(data.haveboth, data.haveboth$f.22006.0.0==1)\n",
    "#n = 408245"
   ]
  },
  {
   "cell_type": "markdown",
   "id": "b272e057-0581-47b7-b284-a006ffb6598c",
   "metadata": {
    "kernel": "R"
   },
   "source": [
    "## Callrate"
   ]
  },
  {
   "cell_type": "code",
   "execution_count": null,
   "id": "3022b8de-77a2-48df-9d03-7016703ca0b3",
   "metadata": {
    "kernel": "R"
   },
   "outputs": [],
   "source": [
    "data.imissing <-read.table(\"/research_storage/scratch/UKBiobank/genotype_files/my_SNP_QC/bfiles_created_along_the_way/UKB_autosomalvariants_passing_batchQC_noindels_unrelated_whiteBritishsubjects_passing_standardexclusions_samplecallrt.irem\", header=FALSE, stringsAsFactors = FALSE)"
   ]
  },
  {
   "cell_type": "markdown",
   "id": "2daec050-81ef-43ce-b973-cdd7ad4133c5",
   "metadata": {
    "kernel": "R"
   },
   "source": [
    "## Determine how many of the individuals from the exome data are removed with the sampleQC in the genotype array data"
   ]
  },
  {
   "cell_type": "code",
   "execution_count": 58,
   "id": "762c4852-6caf-4a46-9594-6e7bd9e4be30",
   "metadata": {
    "kernel": "R",
    "tags": []
   },
   "outputs": [],
   "source": [
    "## Read-in 'white' individuals \n",
    "\n",
    "exomed_IID <- read.table('/mnt/mfs/statgen/archive/UKBiobank_Yale_transfer/pleiotropy_R01/ukb43978_OCT2020/dc2325_phenotypes/030821_ukb42495_exomed_white_189010ind')\n",
    "names(exomed_IID) <-c(\"FID\",\"IID\")"
   ]
  },
  {
   "cell_type": "code",
   "execution_count": 75,
   "id": "abb412c8-d135-4293-8cef-71655866ad96",
   "metadata": {
    "kernel": "R"
   },
   "outputs": [
    {
     "data": {
      "text/html": [
       "<table class=\"dataframe\">\n",
       "<caption>A data.frame: 6 x 2</caption>\n",
       "<thead>\n",
       "\t<tr><th></th><th scope=col>FID</th><th scope=col>IID</th></tr>\n",
       "\t<tr><th></th><th scope=col>&lt;int&gt;</th><th scope=col>&lt;int&gt;</th></tr>\n",
       "</thead>\n",
       "<tbody>\n",
       "\t<tr><th scope=row>1</th><td>1000019</td><td>1000019</td></tr>\n",
       "\t<tr><th scope=row>2</th><td>1000035</td><td>1000035</td></tr>\n",
       "\t<tr><th scope=row>3</th><td>1000078</td><td>1000078</td></tr>\n",
       "\t<tr><th scope=row>4</th><td>1000081</td><td>1000081</td></tr>\n",
       "\t<tr><th scope=row>5</th><td>1000198</td><td>1000198</td></tr>\n",
       "\t<tr><th scope=row>6</th><td>1000210</td><td>1000210</td></tr>\n",
       "</tbody>\n",
       "</table>\n"
      ],
      "text/latex": [
       "A data.frame: 6 x 2\n",
       "\\begin{tabular}{r|ll}\n",
       "  & FID & IID\\\\\n",
       "  & <int> & <int>\\\\\n",
       "\\hline\n",
       "\t1 & 1000019 & 1000019\\\\\n",
       "\t2 & 1000035 & 1000035\\\\\n",
       "\t3 & 1000078 & 1000078\\\\\n",
       "\t4 & 1000081 & 1000081\\\\\n",
       "\t5 & 1000198 & 1000198\\\\\n",
       "\t6 & 1000210 & 1000210\\\\\n",
       "\\end{tabular}\n"
      ],
      "text/markdown": [
       "\n",
       "A data.frame: 6 x 2\n",
       "\n",
       "| <!--/--> | FID &lt;int&gt; | IID &lt;int&gt; |\n",
       "|---|---|---|\n",
       "| 1 | 1000019 | 1000019 |\n",
       "| 2 | 1000035 | 1000035 |\n",
       "| 3 | 1000078 | 1000078 |\n",
       "| 4 | 1000081 | 1000081 |\n",
       "| 5 | 1000198 | 1000198 |\n",
       "| 6 | 1000210 | 1000210 |\n",
       "\n"
      ],
      "text/plain": [
       "  FID     IID    \n",
       "1 1000019 1000019\n",
       "2 1000035 1000035\n",
       "3 1000078 1000078\n",
       "4 1000081 1000081\n",
       "5 1000198 1000198\n",
       "6 1000210 1000210"
      ]
     },
     "metadata": {},
     "output_type": "display_data"
    },
    {
     "data": {
      "text/html": [
       "189010"
      ],
      "text/latex": [
       "189010"
      ],
      "text/markdown": [
       "189010"
      ],
      "text/plain": [
       "[1] 189010"
      ]
     },
     "metadata": {},
     "output_type": "display_data"
    }
   ],
   "source": [
    "head(exomed_IID)\n",
    "nrow(exomed_IID)"
   ]
  },
  {
   "cell_type": "code",
   "execution_count": 60,
   "id": "6a955c07-fcdd-4acf-9a02-2a76ee509b4e",
   "metadata": {
    "kernel": "R",
    "tags": []
   },
   "outputs": [],
   "source": [
    "ID_exome_not_geno <- exomed_IID %>%\n",
    "    filter(!IID %in% retained_IID$IID) %>%\n",
    "    select (\"FID\", \"IID\")"
   ]
  },
  {
   "cell_type": "code",
   "execution_count": 61,
   "id": "cb95c2b6-5928-4419-955b-7a4c0142b676",
   "metadata": {
    "kernel": "R",
    "tags": []
   },
   "outputs": [
    {
     "data": {
      "text/html": [
       "536"
      ],
      "text/latex": [
       "536"
      ],
      "text/markdown": [
       "536"
      ],
      "text/plain": [
       "[1] 536"
      ]
     },
     "metadata": {},
     "output_type": "display_data"
    }
   ],
   "source": [
    "# Individuals present in the exome data but that did not pass sample-QC on the genotype array data\n",
    "nrow(ID_exome_not_geno)"
   ]
  },
  {
   "cell_type": "code",
   "execution_count": 68,
   "id": "d2bc6790-7b2c-4e56-9808-ab77c5ed5e5e",
   "metadata": {
    "kernel": "R"
   },
   "outputs": [
    {
     "data": {
      "text/html": [
       "<table class=\"dataframe\">\n",
       "<caption>A data.frame: 6 x 13</caption>\n",
       "<thead>\n",
       "\t<tr><th></th><th scope=col>IID</th><th scope=col>FID</th><th scope=col>ignore1</th><th scope=col>ignore2</th><th scope=col>ignore3</th><th scope=col>ignore4</th><th scope=col>f.31.0.0</th><th scope=col>f.22001.0.0</th><th scope=col>f.22019.0.0</th><th scope=col>f.22027.0.0</th><th scope=col>f.22021.0.0</th><th scope=col>f.22006.0.0</th><th scope=col>sex_match</th></tr>\n",
       "\t<tr><th></th><th scope=col>&lt;int&gt;</th><th scope=col>&lt;int&gt;</th><th scope=col>&lt;int&gt;</th><th scope=col>&lt;int&gt;</th><th scope=col>&lt;int&gt;</th><th scope=col>&lt;int&gt;</th><th scope=col>&lt;int&gt;</th><th scope=col>&lt;int&gt;</th><th scope=col>&lt;int&gt;</th><th scope=col>&lt;int&gt;</th><th scope=col>&lt;int&gt;</th><th scope=col>&lt;int&gt;</th><th scope=col>&lt;lgl&gt;</th></tr>\n",
       "</thead>\n",
       "<tbody>\n",
       "\t<tr><th scope=row>374</th><td>1003854</td><td>1003854</td><td>0</td><td>0</td><td>1</td><td>-9</td><td>0</td><td>1</td><td>NA</td><td>NA</td><td>0</td><td>1</td><td>FALSE</td></tr>\n",
       "\t<tr><th scope=row>621</th><td>1006361</td><td>1006361</td><td>0</td><td>0</td><td>1</td><td>-9</td><td>0</td><td>1</td><td>NA</td><td>NA</td><td>0</td><td>1</td><td>FALSE</td></tr>\n",
       "\t<tr><th scope=row>1158</th><td>1011973</td><td>1011973</td><td>0</td><td>0</td><td>1</td><td>-9</td><td>0</td><td>1</td><td>NA</td><td>NA</td><td>0</td><td>1</td><td>FALSE</td></tr>\n",
       "\t<tr><th scope=row>1297</th><td>1013439</td><td>1013439</td><td>0</td><td>0</td><td>1</td><td>-9</td><td>0</td><td>1</td><td>NA</td><td>NA</td><td>1</td><td>1</td><td>FALSE</td></tr>\n",
       "\t<tr><th scope=row>1939</th><td>1019998</td><td>1019998</td><td>0</td><td>0</td><td>2</td><td>-9</td><td>1</td><td>0</td><td> 1</td><td>NA</td><td>1</td><td>1</td><td>FALSE</td></tr>\n",
       "\t<tr><th scope=row>3881</th><td>1040038</td><td>1040038</td><td>0</td><td>0</td><td>2</td><td>-9</td><td>1</td><td>0</td><td> 1</td><td>NA</td><td>1</td><td>1</td><td>FALSE</td></tr>\n",
       "</tbody>\n",
       "</table>\n"
      ],
      "text/latex": [
       "A data.frame: 6 x 13\n",
       "\\begin{tabular}{r|lllllllllllll}\n",
       "  & IID & FID & ignore1 & ignore2 & ignore3 & ignore4 & f.31.0.0 & f.22001.0.0 & f.22019.0.0 & f.22027.0.0 & f.22021.0.0 & f.22006.0.0 & sex\\_match\\\\\n",
       "  & <int> & <int> & <int> & <int> & <int> & <int> & <int> & <int> & <int> & <int> & <int> & <int> & <lgl>\\\\\n",
       "\\hline\n",
       "\t374 & 1003854 & 1003854 & 0 & 0 & 1 & -9 & 0 & 1 & NA & NA & 0 & 1 & FALSE\\\\\n",
       "\t621 & 1006361 & 1006361 & 0 & 0 & 1 & -9 & 0 & 1 & NA & NA & 0 & 1 & FALSE\\\\\n",
       "\t1158 & 1011973 & 1011973 & 0 & 0 & 1 & -9 & 0 & 1 & NA & NA & 0 & 1 & FALSE\\\\\n",
       "\t1297 & 1013439 & 1013439 & 0 & 0 & 1 & -9 & 0 & 1 & NA & NA & 1 & 1 & FALSE\\\\\n",
       "\t1939 & 1019998 & 1019998 & 0 & 0 & 2 & -9 & 1 & 0 &  1 & NA & 1 & 1 & FALSE\\\\\n",
       "\t3881 & 1040038 & 1040038 & 0 & 0 & 2 & -9 & 1 & 0 &  1 & NA & 1 & 1 & FALSE\\\\\n",
       "\\end{tabular}\n"
      ],
      "text/markdown": [
       "\n",
       "A data.frame: 6 x 13\n",
       "\n",
       "| <!--/--> | IID &lt;int&gt; | FID &lt;int&gt; | ignore1 &lt;int&gt; | ignore2 &lt;int&gt; | ignore3 &lt;int&gt; | ignore4 &lt;int&gt; | f.31.0.0 &lt;int&gt; | f.22001.0.0 &lt;int&gt; | f.22019.0.0 &lt;int&gt; | f.22027.0.0 &lt;int&gt; | f.22021.0.0 &lt;int&gt; | f.22006.0.0 &lt;int&gt; | sex_match &lt;lgl&gt; |\n",
       "|---|---|---|---|---|---|---|---|---|---|---|---|---|---|\n",
       "| 374 | 1003854 | 1003854 | 0 | 0 | 1 | -9 | 0 | 1 | NA | NA | 0 | 1 | FALSE |\n",
       "| 621 | 1006361 | 1006361 | 0 | 0 | 1 | -9 | 0 | 1 | NA | NA | 0 | 1 | FALSE |\n",
       "| 1158 | 1011973 | 1011973 | 0 | 0 | 1 | -9 | 0 | 1 | NA | NA | 0 | 1 | FALSE |\n",
       "| 1297 | 1013439 | 1013439 | 0 | 0 | 1 | -9 | 0 | 1 | NA | NA | 1 | 1 | FALSE |\n",
       "| 1939 | 1019998 | 1019998 | 0 | 0 | 2 | -9 | 1 | 0 |  1 | NA | 1 | 1 | FALSE |\n",
       "| 3881 | 1040038 | 1040038 | 0 | 0 | 2 | -9 | 1 | 0 |  1 | NA | 1 | 1 | FALSE |\n",
       "\n"
      ],
      "text/plain": [
       "     IID     FID     ignore1 ignore2 ignore3 ignore4 f.31.0.0 f.22001.0.0\n",
       "374  1003854 1003854 0       0       1       -9      0        1          \n",
       "621  1006361 1006361 0       0       1       -9      0        1          \n",
       "1158 1011973 1011973 0       0       1       -9      0        1          \n",
       "1297 1013439 1013439 0       0       1       -9      0        1          \n",
       "1939 1019998 1019998 0       0       2       -9      1        0          \n",
       "3881 1040038 1040038 0       0       2       -9      1        0          \n",
       "     f.22019.0.0 f.22027.0.0 f.22021.0.0 f.22006.0.0 sex_match\n",
       "374  NA          NA          0           1           FALSE    \n",
       "621  NA          NA          0           1           FALSE    \n",
       "1158 NA          NA          0           1           FALSE    \n",
       "1297 NA          NA          1           1           FALSE    \n",
       "1939  1          NA          1           1           FALSE    \n",
       "3881  1          NA          1           1           FALSE    "
      ]
     },
     "metadata": {},
     "output_type": "display_data"
    }
   ],
   "source": [
    "head(sexnomatch)"
   ]
  },
  {
   "cell_type": "code",
   "execution_count": 62,
   "id": "34988fbd-e442-47f8-815c-5bed2ef3ad85",
   "metadata": {
    "kernel": "R",
    "tags": []
   },
   "outputs": [
    {
     "data": {
      "text/html": [
       "0"
      ],
      "text/latex": [
       "0"
      ],
      "text/markdown": [
       "0"
      ],
      "text/plain": [
       "[1] 0"
      ]
     },
     "metadata": {},
     "output_type": "display_data"
    }
   ],
   "source": [
    "# How many removed because sex did not match\n",
    "nomatchsex <-  ID_exome_not_geno %>%\n",
    "    filter(IID %in% sexnomatch$IID)\n",
    "nrow(nomatchsex)"
   ]
  },
  {
   "cell_type": "code",
   "execution_count": 63,
   "id": "ce2e3f3d-d2ef-4a46-a5a4-ea0b38afee7a",
   "metadata": {
    "kernel": "R"
   },
   "outputs": [
    {
     "data": {
      "text/html": [
       "<table class=\"dataframe\">\n",
       "<caption>A matrix: 6 x 1 of type int</caption>\n",
       "<thead>\n",
       "\t<tr><th></th><th scope=col>IID</th></tr>\n",
       "</thead>\n",
       "<tbody>\n",
       "\t<tr><th scope=row>93</th><td>1000971</td></tr>\n",
       "\t<tr><th scope=row>1780</th><td>1018401</td></tr>\n",
       "\t<tr><th scope=row>1849</th><td>1019099</td></tr>\n",
       "\t<tr><th scope=row>2368</th><td>1024453</td></tr>\n",
       "\t<tr><th scope=row>2630</th><td>1027190</td></tr>\n",
       "\t<tr><th scope=row>4269</th><td>1044050</td></tr>\n",
       "</tbody>\n",
       "</table>\n"
      ],
      "text/latex": [
       "A matrix: 6 x 1 of type int\n",
       "\\begin{tabular}{r|l}\n",
       "  & IID\\\\\n",
       "\\hline\n",
       "\t93 & 1000971\\\\\n",
       "\t1780 & 1018401\\\\\n",
       "\t1849 & 1019099\\\\\n",
       "\t2368 & 1024453\\\\\n",
       "\t2630 & 1027190\\\\\n",
       "\t4269 & 1044050\\\\\n",
       "\\end{tabular}\n"
      ],
      "text/markdown": [
       "\n",
       "A matrix: 6 x 1 of type int\n",
       "\n",
       "| <!--/--> | IID |\n",
       "|---|---|\n",
       "| 93 | 1000971 |\n",
       "| 1780 | 1018401 |\n",
       "| 1849 | 1019099 |\n",
       "| 2368 | 1024453 |\n",
       "| 2630 | 1027190 |\n",
       "| 4269 | 1044050 |\n",
       "\n"
      ],
      "text/plain": [
       "     IID    \n",
       "93   1000971\n",
       "1780 1018401\n",
       "1849 1019099\n",
       "2368 1024453\n",
       "2630 1027190\n",
       "4269 1044050"
      ]
     },
     "metadata": {},
     "output_type": "display_data"
    }
   ],
   "source": [
    "head(aneu.toexclude)\n",
    "aneu.toexclude <- as.data.frame(aneu.toexclude)"
   ]
  },
  {
   "cell_type": "code",
   "execution_count": 64,
   "id": "0b0e75b9-7040-47d3-982f-753cb4b61ce5",
   "metadata": {
    "kernel": "R",
    "tags": []
   },
   "outputs": [
    {
     "data": {
      "text/html": [
       "162"
      ],
      "text/latex": [
       "162"
      ],
      "text/markdown": [
       "162"
      ],
      "text/plain": [
       "[1] 162"
      ]
     },
     "metadata": {},
     "output_type": "display_data"
    }
   ],
   "source": [
    "# How many have sex aneuploidies\n",
    "aneu <- ID_exome_not_geno %>%\n",
    "    filter(IID %in% aneu.toexclude$IID)\n",
    "nrow(aneu)"
   ]
  },
  {
   "cell_type": "code",
   "execution_count": 65,
   "id": "de8177a8-4420-4ddb-bd0a-f5c1bc2c5d32",
   "metadata": {
    "kernel": "R"
   },
   "outputs": [
    {
     "data": {
      "text/html": [
       "<table class=\"dataframe\">\n",
       "<caption>A matrix: 6 x 1 of type int</caption>\n",
       "<thead>\n",
       "\t<tr><th></th><th scope=col>IID</th></tr>\n",
       "</thead>\n",
       "<tbody>\n",
       "\t<tr><th scope=row>1396</th><td>1014455</td></tr>\n",
       "\t<tr><th scope=row>1644</th><td>1017024</td></tr>\n",
       "\t<tr><th scope=row>1699</th><td>1017579</td></tr>\n",
       "\t<tr><th scope=row>2996</th><td>1030922</td></tr>\n",
       "\t<tr><th scope=row>3350</th><td>1034540</td></tr>\n",
       "\t<tr><th scope=row>3795</th><td>1039146</td></tr>\n",
       "</tbody>\n",
       "</table>\n"
      ],
      "text/latex": [
       "A matrix: 6 x 1 of type int\n",
       "\\begin{tabular}{r|l}\n",
       "  & IID\\\\\n",
       "\\hline\n",
       "\t1396 & 1014455\\\\\n",
       "\t1644 & 1017024\\\\\n",
       "\t1699 & 1017579\\\\\n",
       "\t2996 & 1030922\\\\\n",
       "\t3350 & 1034540\\\\\n",
       "\t3795 & 1039146\\\\\n",
       "\\end{tabular}\n"
      ],
      "text/markdown": [
       "\n",
       "A matrix: 6 x 1 of type int\n",
       "\n",
       "| <!--/--> | IID |\n",
       "|---|---|\n",
       "| 1396 | 1014455 |\n",
       "| 1644 | 1017024 |\n",
       "| 1699 | 1017579 |\n",
       "| 2996 | 1030922 |\n",
       "| 3350 | 1034540 |\n",
       "| 3795 | 1039146 |\n",
       "\n"
      ],
      "text/plain": [
       "     IID    \n",
       "1396 1014455\n",
       "1644 1017024\n",
       "1699 1017579\n",
       "2996 1030922\n",
       "3350 1034540\n",
       "3795 1039146"
      ]
     },
     "metadata": {},
     "output_type": "display_data"
    }
   ],
   "source": [
    "head(list.toexclude)\n",
    "list.toexclude <- as.data.frame(list.toexclude)"
   ]
  },
  {
   "cell_type": "code",
   "execution_count": 67,
   "id": "e733c9e5-37e1-45eb-9cd4-e76973429366",
   "metadata": {
    "kernel": "R",
    "tags": []
   },
   "outputs": [
    {
     "data": {
      "text/html": [
       "365"
      ],
      "text/latex": [
       "365"
      ],
      "text/markdown": [
       "365"
      ],
      "text/plain": [
       "[1] 365"
      ]
     },
     "metadata": {},
     "output_type": "display_data"
    }
   ],
   "source": [
    "# How many removed for being outliers in heterozygosity and missing rates\n",
    "outliers <- ID_exome_not_geno %>%\n",
    "    filter(IID %in% list.toexclude$IID)\n",
    "nrow(outliers)"
   ]
  },
  {
   "cell_type": "code",
   "execution_count": null,
   "id": "25d668e5-172b-488b-b7af-93295a18e1dc",
   "metadata": {
    "kernel": "R",
    "tags": []
   },
   "outputs": [],
   "source": [
    "nrow(ID_exome_not_geno %>% filter(IID %in% dat$IID))"
   ]
  },
  {
   "cell_type": "markdown",
   "id": "1546a8eb-b4d2-46e2-a311-f63129486f8d",
   "metadata": {
    "kernel": "Bash"
   },
   "source": [
    "## Determine sample missingness for merged exomes "
   ]
  },
  {
   "cell_type": "code",
   "execution_count": 3,
   "id": "87bc9d81-0bba-4738-a5fc-72ed52fcb8f6",
   "metadata": {
    "kernel": "Bash",
    "tags": []
   },
   "outputs": [
    {
     "name": "stdout",
     "output_type": "stream",
     "text": [
      "INFO: Running \u001b[32mcsg\u001b[0m: Configuration for Columbia csg partition cluster\n",
      "INFO: \u001b[32mcsg\u001b[0m is \u001b[32mcompleted\u001b[0m.\n",
      "INFO: \u001b[32mcsg\u001b[0m output:   \u001b[32m/home/dmc2245/project/UKBB_GWAS_dev/output/exome_sample_missingess_2021-09-03.sbatch\u001b[0m\n",
      "INFO: Workflow csg (ID=wfadfd852309f5295) is executed successfully with 1 completed step.\n",
      "\n"
     ]
    }
   ],
   "source": [
    "# This is the path to the data transferred from Yale\n",
    "UKBB_yale=/mnt/mfs/statgen/archive/UKBiobank_Yale_transfer\n",
    "UKBB_PATH=/mnt/mfs/statgen/UKBiobank\n",
    "USER_PATH=$HOME/project\n",
    "OUT_PATH=$USER_PATH/UKBB_GWAS_dev/output\n",
    "tpl_file=$USER_PATH/bioworkflows/admin/csg.yml\n",
    "container_lmm=$HOME/containers/lmm.sif\n",
    "#Columbia's cluster\n",
    "cwd=~/UKBiobank/data/exome_files/project_VCF/072721_run/merged_plink/mind_0.1\n",
    "# orginal bfile\n",
    "genoFile=~/UKBiobank/data/exome_files/project_VCF/072721_run/merged_plink/ukb23155_qc_merged.bed\n",
    "gwasqc_sos=$USER_PATH/bioworkflows/GWAS/GWAS_QC.ipynb\n",
    "gwasqc_sbatch=$USER_PATH/UKBB_GWAS_dev/output/exome_sample_missingess_$(date +\"%Y-%m-%d\").sbatch\n",
    "##remove individuals with > 10% genotypes missing\n",
    "maf_filter=0\n",
    "geno_filter=0\n",
    "hwe_filter=0\n",
    "mind_filter=0.1\n",
    "mem='30G'\n",
    "name='090221'\n",
    "job_size=1\n",
    "numThreads=2\n",
    "\n",
    "gwasqc1_args=\"\"\"qc:1\n",
    "    --cwd $cwd\n",
    "    --genoFile $genoFile\n",
    "    --maf_filter $maf_filter\n",
    "    --geno_filter $geno_filter\n",
    "    --hwe_filter $hwe_filter\n",
    "    --mind_filter $mind_filter\n",
    "    --numThreads $numThreads \n",
    "    --job_size $job_size\n",
    "    --container_lmm $container_lmm\n",
    "    --mem $mem\n",
    "\"\"\"\n",
    "\n",
    "sos run ~/project/UKBB_GWAS_dev/admin/Get_Job_Script.ipynb csg \\\n",
    "    --template-file $tpl_file \\\n",
    "    --workflow-file $gwasqc_sos \\\n",
    "    --to-script $gwasqc_sbatch \\\n",
    "    --args \"$gwasqc1_args\""
   ]
  },
  {
   "cell_type": "code",
   "execution_count": 6,
   "id": "025afaa7-2b56-4b5e-87dc-374c6154ff81",
   "metadata": {
    "kernel": "R"
   },
   "outputs": [],
   "source": [
    "## Select individuals for PCA phenofile \n",
    "white <- read.table(\"~/UKBiobank_Yale_transfer/pleiotropy_R01/ukb43978_OCT2020/dc2325_phenotypes/030821_ukb42495_exomed_white_189010ind.pheno\", sep=\"\\t\", header=TRUE)"
   ]
  },
  {
   "cell_type": "code",
   "execution_count": 7,
   "id": "b285c93c-d4d1-429d-a003-e08e88729974",
   "metadata": {
    "kernel": "R"
   },
   "outputs": [
    {
     "data": {
      "text/html": [
       "<table class=\"dataframe\">\n",
       "<caption>A data.frame: 6 x 3</caption>\n",
       "<thead>\n",
       "\t<tr><th></th><th scope=col>FID</th><th scope=col>IID</th><th scope=col>ethnicity</th></tr>\n",
       "\t<tr><th></th><th scope=col>&lt;int&gt;</th><th scope=col>&lt;int&gt;</th><th scope=col>&lt;fct&gt;</th></tr>\n",
       "</thead>\n",
       "<tbody>\n",
       "\t<tr><th scope=row>1</th><td>1000019</td><td>1000019</td><td>British</td></tr>\n",
       "\t<tr><th scope=row>2</th><td>1000035</td><td>1000035</td><td>British</td></tr>\n",
       "\t<tr><th scope=row>3</th><td>1000078</td><td>1000078</td><td>British</td></tr>\n",
       "\t<tr><th scope=row>4</th><td>1000081</td><td>1000081</td><td>British</td></tr>\n",
       "\t<tr><th scope=row>5</th><td>1000198</td><td>1000198</td><td>British</td></tr>\n",
       "\t<tr><th scope=row>6</th><td>1000210</td><td>1000210</td><td>British</td></tr>\n",
       "</tbody>\n",
       "</table>\n"
      ],
      "text/latex": [
       "A data.frame: 6 x 3\n",
       "\\begin{tabular}{r|lll}\n",
       "  & FID & IID & ethnicity\\\\\n",
       "  & <int> & <int> & <fct>\\\\\n",
       "\\hline\n",
       "\t1 & 1000019 & 1000019 & British\\\\\n",
       "\t2 & 1000035 & 1000035 & British\\\\\n",
       "\t3 & 1000078 & 1000078 & British\\\\\n",
       "\t4 & 1000081 & 1000081 & British\\\\\n",
       "\t5 & 1000198 & 1000198 & British\\\\\n",
       "\t6 & 1000210 & 1000210 & British\\\\\n",
       "\\end{tabular}\n"
      ],
      "text/markdown": [
       "\n",
       "A data.frame: 6 x 3\n",
       "\n",
       "| <!--/--> | FID &lt;int&gt; | IID &lt;int&gt; | ethnicity &lt;fct&gt; |\n",
       "|---|---|---|---|\n",
       "| 1 | 1000019 | 1000019 | British |\n",
       "| 2 | 1000035 | 1000035 | British |\n",
       "| 3 | 1000078 | 1000078 | British |\n",
       "| 4 | 1000081 | 1000081 | British |\n",
       "| 5 | 1000198 | 1000198 | British |\n",
       "| 6 | 1000210 | 1000210 | British |\n",
       "\n"
      ],
      "text/plain": [
       "  FID     IID     ethnicity\n",
       "1 1000019 1000019 British  \n",
       "2 1000035 1000035 British  \n",
       "3 1000078 1000078 British  \n",
       "4 1000081 1000081 British  \n",
       "5 1000198 1000198 British  \n",
       "6 1000210 1000210 British  "
      ]
     },
     "metadata": {},
     "output_type": "display_data"
    }
   ],
   "source": [
    "head(white)"
   ]
  },
  {
   "cell_type": "code",
   "execution_count": 17,
   "id": "2de8e368-ded6-407e-9f4e-5325674e40de",
   "metadata": {
    "kernel": "R"
   },
   "outputs": [],
   "source": [
    "pca_keep <- read.table(\"/mnt/mfs/statgen/UKBiobank/results/083021_PCA_results/europeans/cache/UKB_genotypedatadownloaded083019.090221_sample_variant_qc_final_callrate90.filtered.extracted.europeans.filtered.fam\")\n",
    "names(pca_keep) <-c(\"FID\",\"IID\", \"ignore1\",\"ignore2\", \"ignore3\", \"ignore4\")"
   ]
  },
  {
   "cell_type": "code",
   "execution_count": 18,
   "id": "89fc1eb2-3688-4ffb-8e80-ef48349da465",
   "metadata": {
    "kernel": "R"
   },
   "outputs": [
    {
     "data": {
      "text/html": [
       "<table class=\"dataframe\">\n",
       "<caption>A data.frame: 6 x 6</caption>\n",
       "<thead>\n",
       "\t<tr><th></th><th scope=col>FID</th><th scope=col>IID</th><th scope=col>ignore1</th><th scope=col>ignore2</th><th scope=col>ignore3</th><th scope=col>ignore4</th></tr>\n",
       "\t<tr><th></th><th scope=col>&lt;int&gt;</th><th scope=col>&lt;int&gt;</th><th scope=col>&lt;int&gt;</th><th scope=col>&lt;int&gt;</th><th scope=col>&lt;int&gt;</th><th scope=col>&lt;int&gt;</th></tr>\n",
       "</thead>\n",
       "<tbody>\n",
       "\t<tr><th scope=row>1</th><td>1000019</td><td>1000019</td><td>0</td><td>0</td><td>2</td><td>-9</td></tr>\n",
       "\t<tr><th scope=row>2</th><td>1000035</td><td>1000035</td><td>0</td><td>0</td><td>1</td><td>-9</td></tr>\n",
       "\t<tr><th scope=row>3</th><td>1000078</td><td>1000078</td><td>0</td><td>0</td><td>2</td><td>-9</td></tr>\n",
       "\t<tr><th scope=row>4</th><td>1000081</td><td>1000081</td><td>0</td><td>0</td><td>1</td><td>-9</td></tr>\n",
       "\t<tr><th scope=row>5</th><td>1000198</td><td>1000198</td><td>0</td><td>0</td><td>2</td><td>-9</td></tr>\n",
       "\t<tr><th scope=row>6</th><td>1000210</td><td>1000210</td><td>0</td><td>0</td><td>1</td><td>-9</td></tr>\n",
       "</tbody>\n",
       "</table>\n"
      ],
      "text/latex": [
       "A data.frame: 6 x 6\n",
       "\\begin{tabular}{r|llllll}\n",
       "  & FID & IID & ignore1 & ignore2 & ignore3 & ignore4\\\\\n",
       "  & <int> & <int> & <int> & <int> & <int> & <int>\\\\\n",
       "\\hline\n",
       "\t1 & 1000019 & 1000019 & 0 & 0 & 2 & -9\\\\\n",
       "\t2 & 1000035 & 1000035 & 0 & 0 & 1 & -9\\\\\n",
       "\t3 & 1000078 & 1000078 & 0 & 0 & 2 & -9\\\\\n",
       "\t4 & 1000081 & 1000081 & 0 & 0 & 1 & -9\\\\\n",
       "\t5 & 1000198 & 1000198 & 0 & 0 & 2 & -9\\\\\n",
       "\t6 & 1000210 & 1000210 & 0 & 0 & 1 & -9\\\\\n",
       "\\end{tabular}\n"
      ],
      "text/markdown": [
       "\n",
       "A data.frame: 6 x 6\n",
       "\n",
       "| <!--/--> | FID &lt;int&gt; | IID &lt;int&gt; | ignore1 &lt;int&gt; | ignore2 &lt;int&gt; | ignore3 &lt;int&gt; | ignore4 &lt;int&gt; |\n",
       "|---|---|---|---|---|---|---|\n",
       "| 1 | 1000019 | 1000019 | 0 | 0 | 2 | -9 |\n",
       "| 2 | 1000035 | 1000035 | 0 | 0 | 1 | -9 |\n",
       "| 3 | 1000078 | 1000078 | 0 | 0 | 2 | -9 |\n",
       "| 4 | 1000081 | 1000081 | 0 | 0 | 1 | -9 |\n",
       "| 5 | 1000198 | 1000198 | 0 | 0 | 2 | -9 |\n",
       "| 6 | 1000210 | 1000210 | 0 | 0 | 1 | -9 |\n",
       "\n"
      ],
      "text/plain": [
       "  FID     IID     ignore1 ignore2 ignore3 ignore4\n",
       "1 1000019 1000019 0       0       2       -9     \n",
       "2 1000035 1000035 0       0       1       -9     \n",
       "3 1000078 1000078 0       0       2       -9     \n",
       "4 1000081 1000081 0       0       1       -9     \n",
       "5 1000198 1000198 0       0       2       -9     \n",
       "6 1000210 1000210 0       0       1       -9     "
      ]
     },
     "metadata": {},
     "output_type": "display_data"
    }
   ],
   "source": [
    "head(pca_keep)"
   ]
  },
  {
   "cell_type": "code",
   "execution_count": 20,
   "id": "da7fa7f0-9672-4da7-8c85-bc9320185922",
   "metadata": {
    "kernel": "R"
   },
   "outputs": [
    {
     "name": "stderr",
     "output_type": "stream",
     "text": [
      "── \u001b[1mAttaching packages\u001b[22m ─────────────────────────────────────── tidyverse 1.3.1 ──\n",
      "\n",
      "\u001b[32m✔\u001b[39m \u001b[34mggplot2\u001b[39m 3.3.5     \u001b[32m✔\u001b[39m \u001b[34mpurrr  \u001b[39m 0.3.4\n",
      "\u001b[32m✔\u001b[39m \u001b[34mtibble \u001b[39m 3.1.2     \u001b[32m✔\u001b[39m \u001b[34mdplyr  \u001b[39m 1.0.7\n",
      "\u001b[32m✔\u001b[39m \u001b[34mtidyr  \u001b[39m 1.1.3     \u001b[32m✔\u001b[39m \u001b[34mstringr\u001b[39m 1.4.0\n",
      "\u001b[32m✔\u001b[39m \u001b[34mreadr  \u001b[39m 1.4.0     \u001b[32m✔\u001b[39m \u001b[34mforcats\u001b[39m 0.5.1\n",
      "\n",
      "── \u001b[1mConflicts\u001b[22m ────────────────────────────────────────── tidyverse_conflicts() ──\n",
      "\u001b[31m✖\u001b[39m \u001b[34mdplyr\u001b[39m::\u001b[32mfilter()\u001b[39m masks \u001b[34mstats\u001b[39m::filter()\n",
      "\u001b[31m✖\u001b[39m \u001b[34mdplyr\u001b[39m::\u001b[32mlag()\u001b[39m    masks \u001b[34mstats\u001b[39m::lag()\n",
      "\n"
     ]
    }
   ],
   "source": [
    "library(tidyverse)\n",
    "selected <- white %>%\n",
    "    filter(IID %in% pca_keep$IID)"
   ]
  },
  {
   "cell_type": "code",
   "execution_count": 21,
   "id": "48ee0b26-18f9-4a83-8a91-d124874be9ef",
   "metadata": {
    "kernel": "R"
   },
   "outputs": [
    {
     "data": {
      "text/html": [
       "188474"
      ],
      "text/latex": [
       "188474"
      ],
      "text/markdown": [
       "188474"
      ],
      "text/plain": [
       "[1] 188474"
      ]
     },
     "metadata": {},
     "output_type": "display_data"
    }
   ],
   "source": [
    "nrow(selected)"
   ]
  },
  {
   "cell_type": "markdown",
   "id": "df527b51-233c-4851-bd44-b0a68485297f",
   "metadata": {
    "kernel": "R"
   },
   "source": [
    "## Evaluate whereas the witdrawn participants are in out dataset"
   ]
  },
  {
   "cell_type": "code",
   "execution_count": 3,
   "id": "86cb5301-a088-4c31-bb81-e8aae489d693",
   "metadata": {
    "kernel": "R"
   },
   "outputs": [
    {
     "name": "stderr",
     "output_type": "stream",
     "text": [
      "Warning message in file(file, \"rt\"):\n",
      "“cannot open file '/home/dmc2245/UKBiobank/data/ukbb_databases/participant_withdrawal/32285_20210809.csv': No such file or directory”\n"
     ]
    },
    {
     "ename": "ERROR",
     "evalue": "Error in file(file, \"rt\"): cannot open the connection\n",
     "output_type": "error",
     "traceback": [
      "Error in file(file, \"rt\"): cannot open the connection\nTraceback:\n",
      "1. read.csv(\"~/UKBiobank/data/ukbb_databases/participant_withdrawal/32285_20210809.csv\")",
      "2. read.table(file = file, header = header, sep = sep, quote = quote, \n .     dec = dec, fill = fill, comment.char = comment.char, ...)",
      "3. file(file, \"rt\")"
     ]
    }
   ],
   "source": [
    "exclusion1 <- read.csv(\"~/UKBiobank/data/ukbb_databases/participant_withdrawal/32285_20210809.csv\")"
   ]
  },
  {
   "cell_type": "code",
   "execution_count": null,
   "id": "3ca90350-349b-4d91-8ec0-a5d67b1d7608",
   "metadata": {
    "kernel": "R"
   },
   "outputs": [],
   "source": [
    "head(2021_08_09)"
   ]
  },
  {
   "cell_type": "code",
   "execution_count": null,
   "id": "37a454bc-d9b5-4098-b6d9-b36f48bc87af",
   "metadata": {
    "kernel": "R"
   },
   "outputs": [],
   "source": []
  },
  {
   "cell_type": "code",
   "execution_count": null,
   "id": "b96fe6de-a899-48b1-a8f6-e90e4add0d40",
   "metadata": {
    "kernel": "R"
   },
   "outputs": [],
   "source": []
  },
  {
   "cell_type": "markdown",
   "id": "6260d7d6-bb7b-48bf-bfc0-b4e8ff030aea",
   "metadata": {
    "kernel": "R"
   },
   "source": [
    "# Determine from the exome data those individuals that are removed because they did not pass genotype array QC"
   ]
  },
  {
   "cell_type": "code",
   "execution_count": 6,
   "id": "f912495e-c1ad-4253-a316-e8a2e1d863c4",
   "metadata": {
    "kernel": "R"
   },
   "outputs": [
    {
     "data": {
      "text/html": [
       "<table class=\"dataframe\">\n",
       "<caption>A data.frame: 6 x 6</caption>\n",
       "<thead>\n",
       "\t<tr><th></th><th scope=col>FID</th><th scope=col>IID</th><th scope=col>fatherID</th><th scope=col>motherID</th><th scope=col>sex</th><th scope=col>phenotype</th></tr>\n",
       "\t<tr><th></th><th scope=col>&lt;int&gt;</th><th scope=col>&lt;int&gt;</th><th scope=col>&lt;int&gt;</th><th scope=col>&lt;int&gt;</th><th scope=col>&lt;int&gt;</th><th scope=col>&lt;int&gt;</th></tr>\n",
       "</thead>\n",
       "<tbody>\n",
       "\t<tr><th scope=row>1</th><td>1434748</td><td>1434748</td><td>0</td><td>0</td><td>2</td><td>-9</td></tr>\n",
       "\t<tr><th scope=row>2</th><td>5523981</td><td>5523981</td><td>0</td><td>0</td><td>1</td><td>-9</td></tr>\n",
       "\t<tr><th scope=row>3</th><td>5023838</td><td>5023838</td><td>0</td><td>0</td><td>2</td><td>-9</td></tr>\n",
       "\t<tr><th scope=row>4</th><td>4023729</td><td>4023729</td><td>0</td><td>0</td><td>1</td><td>-9</td></tr>\n",
       "\t<tr><th scope=row>5</th><td>4442146</td><td>4442146</td><td>0</td><td>0</td><td>2</td><td>-9</td></tr>\n",
       "\t<tr><th scope=row>6</th><td>5654789</td><td>5654789</td><td>0</td><td>0</td><td>2</td><td>-9</td></tr>\n",
       "</tbody>\n",
       "</table>\n"
      ],
      "text/latex": [
       "A data.frame: 6 x 6\n",
       "\\begin{tabular}{r|llllll}\n",
       "  & FID & IID & fatherID & motherID & sex & phenotype\\\\\n",
       "  & <int> & <int> & <int> & <int> & <int> & <int>\\\\\n",
       "\\hline\n",
       "\t1 & 1434748 & 1434748 & 0 & 0 & 2 & -9\\\\\n",
       "\t2 & 5523981 & 5523981 & 0 & 0 & 1 & -9\\\\\n",
       "\t3 & 5023838 & 5023838 & 0 & 0 & 2 & -9\\\\\n",
       "\t4 & 4023729 & 4023729 & 0 & 0 & 1 & -9\\\\\n",
       "\t5 & 4442146 & 4442146 & 0 & 0 & 2 & -9\\\\\n",
       "\t6 & 5654789 & 5654789 & 0 & 0 & 2 & -9\\\\\n",
       "\\end{tabular}\n"
      ],
      "text/markdown": [
       "\n",
       "A data.frame: 6 x 6\n",
       "\n",
       "| <!--/--> | FID &lt;int&gt; | IID &lt;int&gt; | fatherID &lt;int&gt; | motherID &lt;int&gt; | sex &lt;int&gt; | phenotype &lt;int&gt; |\n",
       "|---|---|---|---|---|---|---|\n",
       "| 1 | 1434748 | 1434748 | 0 | 0 | 2 | -9 |\n",
       "| 2 | 5523981 | 5523981 | 0 | 0 | 1 | -9 |\n",
       "| 3 | 5023838 | 5023838 | 0 | 0 | 2 | -9 |\n",
       "| 4 | 4023729 | 4023729 | 0 | 0 | 1 | -9 |\n",
       "| 5 | 4442146 | 4442146 | 0 | 0 | 2 | -9 |\n",
       "| 6 | 5654789 | 5654789 | 0 | 0 | 2 | -9 |\n",
       "\n"
      ],
      "text/plain": [
       "  FID     IID     fatherID motherID sex phenotype\n",
       "1 1434748 1434748 0        0        2   -9       \n",
       "2 5523981 5523981 0        0        1   -9       \n",
       "3 5023838 5023838 0        0        2   -9       \n",
       "4 4023729 4023729 0        0        1   -9       \n",
       "5 4442146 4442146 0        0        2   -9       \n",
       "6 5654789 5654789 0        0        2   -9       "
      ]
     },
     "metadata": {},
     "output_type": "display_data"
    },
    {
     "data": {
      "text/html": [
       "<style>\n",
       ".list-inline {list-style: none; margin:0; padding: 0}\n",
       ".list-inline>li {display: inline-block}\n",
       ".list-inline>li:not(:last-child)::after {content: \"\\00b7\"; padding: 0 .5ex}\n",
       "</style>\n",
       "<ol class=list-inline><li>200643</li><li>6</li></ol>\n"
      ],
      "text/latex": [
       "\\begin{enumerate*}\n",
       "\\item 200643\n",
       "\\item 6\n",
       "\\end{enumerate*}\n"
      ],
      "text/markdown": [
       "1. 200643\n",
       "2. 6\n",
       "\n",
       "\n"
      ],
      "text/plain": [
       "[1] 200643      6"
      ]
     },
     "metadata": {},
     "output_type": "display_data"
    }
   ],
   "source": [
    "fam <- read.table(\"~/UKBiobank_Yale_transfer/ukb28374_exomedata/exome_data_OCT2020/ukb23155_s200631.fam\", sep=' ', header=F)\n",
    "colnames(fam) <- c(\"FID\",\"IID\",\"fatherID\", \"motherID\", \"sex\", \"phenotype\")\n",
    "head(fam)\n",
    "dim(fam)"
   ]
  },
  {
   "cell_type": "markdown",
   "id": "c094d6b8-29d3-48fe-8726-280a7d46b2e2",
   "metadata": {
    "kernel": "R"
   },
   "source": [
    "# Subset the total database base on the individuals that have exome data"
   ]
  },
  {
   "cell_type": "code",
   "execution_count": 9,
   "id": "0dc56b56-d7d6-44c9-b830-53aa6a85c622",
   "metadata": {
    "kernel": "R"
   },
   "outputs": [
    {
     "data": {
      "text/html": [
       "<style>\n",
       ".list-inline {list-style: none; margin:0; padding: 0}\n",
       ".list-inline>li {display: inline-block}\n",
       ".list-inline>li:not(:last-child)::after {content: \"\\00b7\"; padding: 0 .5ex}\n",
       "</style>\n",
       "<ol class=list-inline><li>488221</li><li>12</li></ol>\n"
      ],
      "text/latex": [
       "\\begin{enumerate*}\n",
       "\\item 488221\n",
       "\\item 12\n",
       "\\end{enumerate*}\n"
      ],
      "text/markdown": [
       "1. 488221\n",
       "2. 12\n",
       "\n",
       "\n"
      ],
      "text/plain": [
       "[1] 488221     12"
      ]
     },
     "metadata": {},
     "output_type": "display_data"
    }
   ],
   "source": [
    "dim(data.haveboth)"
   ]
  },
  {
   "cell_type": "code",
   "execution_count": 17,
   "id": "f5d01a00-da86-422d-9cfd-0b7a17b9b3fb",
   "metadata": {
    "kernel": "R"
   },
   "outputs": [
    {
     "data": {
      "text/html": [
       "<style>\n",
       ".list-inline {list-style: none; margin:0; padding: 0}\n",
       ".list-inline>li {display: inline-block}\n",
       ".list-inline>li:not(:last-child)::after {content: \"\\00b7\"; padding: 0 .5ex}\n",
       "</style>\n",
       "<ol class=list-inline><li>200445</li><li>17</li></ol>\n"
      ],
      "text/latex": [
       "\\begin{enumerate*}\n",
       "\\item 200445\n",
       "\\item 17\n",
       "\\end{enumerate*}\n"
      ],
      "text/markdown": [
       "1. 200445\n",
       "2. 17\n",
       "\n",
       "\n"
      ],
      "text/plain": [
       "[1] 200445     17"
      ]
     },
     "metadata": {},
     "output_type": "display_data"
    }
   ],
   "source": [
    "# Individuals with exomes that also have genotype array data\n",
    "ind_with_exome  <- merge(data.haveboth, fam, by=\"IID\", all=FALSE)\n",
    "dim(ind_with_exome)\n",
    "# There are 174 individuals less. This means that those 174 individuals have phenotype and exome data but do not have genotype data"
   ]
  },
  {
   "cell_type": "code",
   "execution_count": 18,
   "id": "320faee5-4543-45e7-89ea-5cdaef258248",
   "metadata": {
    "kernel": "R"
   },
   "outputs": [
    {
     "name": "stdout",
     "output_type": "stream",
     "text": [
      "The number of individuals whose reported and genetic sex match is: 200386 \n",
      "The number of individuals whose reported and genetic sex does NOT match is: 59 \n"
     ]
    }
   ],
   "source": [
    "ind_with_exome$sex_match<- (ind_with_exome$f.22001.0.0 == ind_with_exome$f.31.0.0)\n",
    "sexnomatch <- subset(ind_with_exome, ind_with_exome$sex_match==\"FALSE\")\n",
    "ind_with_exome<- subset(ind_with_exome, ind_with_exome$sex_match==\"TRUE\")\n",
    "cat(\"The number of individuals whose reported and genetic sex match is:\",nrow(ind_with_exome),\"\\n\")\n",
    "cat(\"The number of individuals whose reported and genetic sex does NOT match is:\",nrow(sexnomatch),\"\\n\")"
   ]
  },
  {
   "cell_type": "code",
   "execution_count": 12,
   "id": "c83332c9-e38a-4ade-9f14-22705437b40f",
   "metadata": {
    "kernel": "R"
   },
   "outputs": [
    {
     "name": "stdout",
     "output_type": "stream",
     "text": [
      "The number of individuals with aneuploidies is: 176 \n",
      "The number of individuals with XX and XY 200210 \n"
     ]
    }
   ],
   "source": [
    "#4b. Identify subjects with sex chromosome karyotypes putatively different from XX or XY\n",
    "\n",
    "aneu.toexclude  <- subset(ind_with_exome, ind_with_exome$f.22019.0.0==1, select=c(IID))\n",
    "aneu.toexclude  <- as.matrix(aneu.toexclude)\n",
    "\n",
    "ind_with_exome <-subset(ind_with_exome, ! IID %in% aneu.toexclude)\n",
    "cat(\"The number of individuals with aneuploidies is:\",nrow(aneu.toexclude),\"\\n\")\n",
    "cat(\"The number of individuals with XX and XY\",nrow(ind_with_exome),\"\\n\")\n",
    "#n = 486,416 subjects remain"
   ]
  },
  {
   "cell_type": "code",
   "execution_count": 13,
   "id": "26480845-3711-4e9e-a12b-f913b6fbfa09",
   "metadata": {
    "kernel": "R"
   },
   "outputs": [
    {
     "name": "stdout",
     "output_type": "stream",
     "text": [
      "The number of individuals that are outliers for heterozygosity or missing rates is: 388 \n",
      "The number of individuals that are not outliers for heterozygosity or missing rates is: 199822 \n"
     ]
    }
   ],
   "source": [
    "list.toexclude <- subset(ind_with_exome, ind_with_exome$f.22027.0.0==1, select=c(IID))\n",
    "list.toexclude  <- as.matrix(list.toexclude)\n",
    "\n",
    "ind_with_exome <-subset(ind_with_exome, ! IID %in% list.toexclude)\n",
    "cat(\"The number of individuals that are outliers for heterozygosity or missing rates is:\",nrow(list.toexclude),\"\\n\")\n",
    "cat(\"The number of individuals that are not outliers for heterozygosity or missing rates is:\",nrow(ind_with_exome),\"\\n\")"
   ]
  },
  {
   "cell_type": "markdown",
   "id": "58dbca45-0454-459c-be65-63c7ba014ba4",
   "metadata": {
    "kernel": "R"
   },
   "source": [
    "# How do the numbers change when I select the white after the sex check"
   ]
  },
  {
   "cell_type": "code",
   "execution_count": 16,
   "id": "65da16f2-bb60-406f-8e0c-d8824fc24e50",
   "metadata": {
    "kernel": "R"
   },
   "outputs": [
    {
     "data": {
      "text/html": [
       "<style>\n",
       ".list-inline {list-style: none; margin:0; padding: 0}\n",
       ".list-inline>li {display: inline-block}\n",
       ".list-inline>li:not(:last-child)::after {content: \"\\00b7\"; padding: 0 .5ex}\n",
       "</style>\n",
       "<ol class=list-inline><li>189010</li><li>2</li></ol>\n"
      ],
      "text/latex": [
       "\\begin{enumerate*}\n",
       "\\item 189010\n",
       "\\item 2\n",
       "\\end{enumerate*}\n"
      ],
      "text/markdown": [
       "1. 189010\n",
       "2. 2\n",
       "\n",
       "\n"
      ],
      "text/plain": [
       "[1] 189010      2"
      ]
     },
     "metadata": {},
     "output_type": "display_data"
    }
   ],
   "source": [
    "white <-  read.table(\"~/UKBiobank_Yale_transfer/pleiotropy_R01/ukb43978_OCT2020/dc2325_phenotypes/030821_ukb42495_exomed_white_189010ind\", header=F)\n",
    "colnames(white) <- c(\"FID\",\"IID\")\n",
    "dim(white)"
   ]
  },
  {
   "cell_type": "code",
   "execution_count": 19,
   "id": "7e683a92-4b4c-43b3-8e8a-99f3d9acd06c",
   "metadata": {
    "kernel": "R"
   },
   "outputs": [
    {
     "data": {
      "text/html": [
       "<style>\n",
       ".list-inline {list-style: none; margin:0; padding: 0}\n",
       ".list-inline>li {display: inline-block}\n",
       ".list-inline>li:not(:last-child)::after {content: \"\\00b7\"; padding: 0 .5ex}\n",
       "</style>\n",
       "<ol class=list-inline><li>189001</li><li>19</li></ol>\n"
      ],
      "text/latex": [
       "\\begin{enumerate*}\n",
       "\\item 189001\n",
       "\\item 19\n",
       "\\end{enumerate*}\n"
      ],
      "text/markdown": [
       "1. 189001\n",
       "2. 19\n",
       "\n",
       "\n"
      ],
      "text/plain": [
       "[1] 189001     19"
      ]
     },
     "metadata": {},
     "output_type": "display_data"
    }
   ],
   "source": [
    "ind_with_exome_white  <- merge(ind_with_exome,  white, by=\"IID\", all=FALSE)\n",
    "dim(ind_with_exome_white)"
   ]
  },
  {
   "cell_type": "code",
   "execution_count": 20,
   "id": "a0151886-74b4-4d8d-9c15-5a8cfdaac42b",
   "metadata": {
    "kernel": "R"
   },
   "outputs": [
    {
     "name": "stdout",
     "output_type": "stream",
     "text": [
      "The number of individuals with aneuploidies is: 162 \n",
      "The number of individuals with XX and XY 188839 \n"
     ]
    }
   ],
   "source": [
    "#4b. Identify subjects with sex chromosome karyotypes putatively different from XX or XY\n",
    "\n",
    "aneu.toexclude  <- subset(ind_with_exome_white, ind_with_exome_white$f.22019.0.0==1, select=c(IID))\n",
    "aneu.toexclude  <- as.matrix(aneu.toexclude)\n",
    "\n",
    "ind_with_exome_white <-subset(ind_with_exome_white, ! IID %in% aneu.toexclude)\n",
    "cat(\"The number of individuals with aneuploidies is:\",nrow(aneu.toexclude),\"\\n\")\n",
    "cat(\"The number of individuals with XX and XY\",nrow(ind_with_exome_white),\"\\n\")\n",
    "#n = 486,416 subjects remain"
   ]
  },
  {
   "cell_type": "code",
   "execution_count": 21,
   "id": "7078b0ec-68da-4d52-b43c-7a9f65f4ebc0",
   "metadata": {
    "kernel": "R"
   },
   "outputs": [
    {
     "name": "stdout",
     "output_type": "stream",
     "text": [
      "The number of individuals that are outliers for heterozygosity or missing rates is: 365 \n",
      "The number of individuals that are not outliers for heterozygosity or missing rates is: 188474 \n"
     ]
    }
   ],
   "source": [
    "list.toexclude <- subset(ind_with_exome_white, ind_with_exome_white$f.22027.0.0==1, select=c(IID))\n",
    "list.toexclude  <- as.matrix(list.toexclude)\n",
    "\n",
    "ind_with_exome_white <-subset(ind_with_exome_white, ! IID %in% list.toexclude)\n",
    "cat(\"The number of individuals that are outliers for heterozygosity or missing rates is:\",nrow(list.toexclude),\"\\n\")\n",
    "cat(\"The number of individuals that are not outliers for heterozygosity or missing rates is:\",nrow(ind_with_exome_white),\"\\n\")"
   ]
  },
  {
   "cell_type": "code",
   "execution_count": null,
   "id": "007b55dd-78f0-406e-8ae5-d4f2242aed22",
   "metadata": {
    "kernel": "R"
   },
   "outputs": [],
   "source": []
  }
 ],
 "metadata": {
  "kernelspec": {
   "display_name": "SoS",
   "language": "sos",
   "name": "sos"
  },
  "language_info": {
   "codemirror_mode": "sos",
   "file_extension": ".sos",
   "mimetype": "text/x-sos",
   "name": "sos",
   "nbconvert_exporter": "sos_notebook.converter.SoS_Exporter",
   "pygments_lexer": "sos"
  },
  "sos": {
   "kernels": [
    [
     "Bash",
     "calysto_bash",
     "Bash",
     "#E6EEFF",
     ""
    ],
    [
     "R",
     "ir",
     "R",
     "#DCDCDA",
     "r"
    ]
   ],
   "version": "0.22.6"
  }
 },
 "nbformat": 4,
 "nbformat_minor": 5
}
