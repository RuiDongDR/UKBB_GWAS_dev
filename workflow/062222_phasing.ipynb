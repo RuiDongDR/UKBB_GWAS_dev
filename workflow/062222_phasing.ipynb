{
 "cells": [
  {
   "cell_type": "markdown",
   "id": "f8cd9a41-1252-44ee-8662-d4a934a2a1f1",
   "metadata": {
    "kernel": "SoS",
    "tags": []
   },
   "source": [
    "# Phasing for the 3 variants of PDCD6"
   ]
  },
  {
   "cell_type": "markdown",
   "id": "c94546fe-4ffd-40fd-ac22-0f9b0cf06a5d",
   "metadata": {
    "kernel": "SoS"
   },
   "source": [
    "From [this address](http://faculty.washington.edu/browning/beagle/beagle.html), download the beagle \n",
    "\n",
    " Program: http://faculty.washington.edu/browning/beagle/beagle.05May22.33a.jar\n",
    " \n",
    " Documentation: http://faculty.washington.edu/browning/beagle/beagle_5.4_18Mar22.pdf\n",
    " \n",
    " Map: https://bochet.gcc.biostat.washington.edu/beagle/genetic_maps/plink.GRCh38.map.zip"
   ]
  },
  {
   "cell_type": "code",
   "execution_count": null,
   "id": "79ee68c3-4092-44d4-842d-f5711457243f",
   "metadata": {
    "kernel": "Bash"
   },
   "outputs": [],
   "source": [
    "wget http://faculty.washington.edu/browning/beagle/beagle.05May22.33a.jar\n",
    "chmod +x beagle.05May22.33a.jar"
   ]
  },
  {
   "cell_type": "code",
   "execution_count": null,
   "id": "27cc1759-787b-498d-b565-c312588d8aee",
   "metadata": {
    "kernel": "Bash"
   },
   "outputs": [],
   "source": [
    "wget https://bochet.gcc.biostat.washington.edu/beagle/genetic_maps/plink.GRCh38.map.zip\n",
    "unzip plink.GRCh38.map.zip"
   ]
  },
  {
   "cell_type": "code",
   "execution_count": 6,
   "id": "24e78998-1f62-4c10-a3b3-992699e62ab9",
   "metadata": {
    "kernel": "Bash"
   },
   "outputs": [
    {
     "name": "stdout",
     "output_type": "stream",
     "text": [
      "beagle.05May22.33a.jar (version 5.4)\n",
      "Copyright (C) 2014-2022 Brian L. Browning\n",
      "Usage: java -jar beagle.05May22.33a.jar [arguments]\n",
      "\n",
      "data parameters ...\n",
      "  gt=<VCF file with GT FORMAT field>                 (required)\n",
      "  ref=<bref3 or VCF file with phased genotypes>      (optional)\n",
      "  out=<output file prefix>                           (required)\n",
      "  map=<PLINK map file with cM units>                 (optional)\n",
      "  chrom=<[chrom] or [chrom]:[start]-[end]>           (optional)\n",
      "  excludesamples=<file with 1 sample ID per line>    (optional)\n",
      "  excludemarkers=<file with 1 marker ID per line>    (optional)\n",
      "\n",
      "phasing parameters ...\n",
      "  burnin=<max burnin iterations>                     (default=3)\n",
      "  iterations=<phasing iterations>                    (default=12)\n",
      "  phase-states=<model states for phasing>            (default=280)\n",
      "\n",
      "imputation parameters ...\n",
      "  impute=<impute ungenotyped markers (true/false)>   (default=true)\n",
      "  imp-states=<model states for imputation>           (default=1600)\n",
      "  cluster=<max cM in a marker cluster>               (default=0.005)\n",
      "  ap=<print posterior allele probabilities>          (default=false)\n",
      "  gp=<print posterior genotype probabilities>        (default=false)\n",
      "\n",
      "general parameters ...\n",
      "  ne=<effective population size>                     (default=100000)\n",
      "  err=<allele mismatch probability>                  (default: data dependent)\n",
      "  em=<estimate ne and err parameters (true/false)>   (default=true)\n",
      "  window=<window length in cM>                       (default=40.0)\n",
      "  overlap=<window overlap in cM>                     (default=2.0)\n",
      "  seed=<random seed>                                 (default=-99999)\n",
      "  nthreads=<number of threads>                       (default: machine dependent)\n",
      "\n",
      "\n"
     ]
    }
   ],
   "source": [
    "java -Xmx711m -jar ~/miniconda3/bin/beagle.05May22.33a.jar"
   ]
  },
  {
   "cell_type": "markdown",
   "id": "389a2de7-566d-4fd1-b128-0cd395be2cd6",
   "metadata": {
    "kernel": "SoS"
   },
   "source": [
    "According to UCSC, the hg38 coordinates is chr5:271,646-314,974"
   ]
  },
  {
   "cell_type": "code",
   "execution_count": null,
   "id": "413bb23c-0f8e-4ea0-accb-e6237a549057",
   "metadata": {
    "kernel": "Bash",
    "tags": []
   },
   "outputs": [
    {
     "name": "stdout",
     "output_type": "stream",
     "text": [
      "\n",
      "VCFtools - 0.1.16\n",
      "(C) Adam Auton and Anthony Marcketta 2009\n",
      "\n",
      "Parameters as interpreted:\n",
      "\t--gzvcf /mnt/mfs/statgen/UKBiobank/data/exome_files/project_VCF/072721_run/cache/ukb23156_c5_b0_v1.leftnorm.filtered.vcf.gz\n",
      "\t--chr chr5\n",
      "\t--to-bp 314974\n",
      "\t--recode-INFO-all\n",
      "\t--out /home/gl2776/working/phasing/PDCD6\n",
      "\t--recode\n",
      "\t--from-bp 271646\n",
      "\n",
      "Using zlib version: 1.2.11\n",
      "Warning: Expected at least 2 parts in FORMAT entry: ID=RNC,Number=2,Type=Character,Description=\"Reason for No Call in GT: . = n/a, M = Missing data, P = Partial data, I = gVCF input site is non-called, D = insufficient Depth of coverage, - = unrepresentable overlapping deletion, L = Lost/unrepresentable allele (other than deletion), U = multiple Unphased variants present, O = multiple Overlapping variants present, 1 = site is Monoallelic, no assertion about presence of REF or ALT allele\">\n",
      "Warning: Expected at least 2 parts in INFO entry: ID=F_MISSING,Number=1,Type=Float,Description=\"Added by fill-tags, experimental\">\n",
      "After filtering, kept 200643 out of 200643 Individuals\n",
      "Outputting VCF file...\n"
     ]
    }
   ],
   "source": [
    "vcftools --gzvcf /mnt/mfs/statgen/UKBiobank/data/exome_files/project_VCF/072721_run/cache/ukb23156_c5_b0_v1.leftnorm.filtered.vcf.gz \\\n",
    "--chr chr5 \\\n",
    "--from-bp 271646 \\\n",
    "--to-bp 314974 \\\n",
    "--recode \\\n",
    "--recode-INFO-all \\\n",
    "--out ~/working/phasing/PDCD6"
   ]
  },
  {
   "cell_type": "code",
   "execution_count": 4,
   "id": "b9ad9478-3288-48cd-8dc9-8c07f3d3115a",
   "metadata": {
    "kernel": "Bash",
    "tags": []
   },
   "outputs": [
    {
     "name": "stdout",
     "output_type": "stream",
     "text": [
      "beagle.05May22.33a.jar (version 5.4)\n",
      "Copyright (C) 2014-2022 Brian L. Browning\n",
      "Enter \"java -jar beagle.05May22.33a.jar\" to list command line argument\n",
      "Start time: 04:17 PM EDT on 22 Jun 2022\n",
      "\n",
      "Command line: java -Xmx3641m -jar beagle.05May22.33a.jar\n",
      "  gt=/home/gl2776/working/phasing/PDCD6.recode.vcf\n",
      "  out=/home/gl2776/working/phasing/PDCD6.recode.vcf.phased_beagle\n",
      "  map=/home/gl2776/working/phasing/plink.chr5.GRCh38.map\n",
      "  nthreads=32\n",
      "java.lang.IllegalArgumentException: missing genetic map for chromosome chr5\n",
      "\tat vcf.PlinkGenMap.checkChromIndex(PlinkGenMap.java:213)\n",
      "\tat vcf.PlinkGenMap.genPos(PlinkGenMap.java:311)\n",
      "\tat vcf.PlinkGenMap.genPos(PlinkGenMap.java:306)\n",
      "\tat vcf.TargSlidingWindow$Reader.nextEndCm(TargSlidingWindow.java:205)\n",
      "\tat vcf.TargSlidingWindow$Reader.run(TargSlidingWindow.java:190)\n",
      "\tat java.lang.Thread.run(Thread.java:748)\n",
      "\n",
      "Terminating program.\n"
     ]
    },
    {
     "ename": "",
     "evalue": "1",
     "output_type": "error",
     "traceback": []
    }
   ],
   "source": [
    "java -Xmx4g -jar ~/miniconda3/bin/beagle.05May22.33a.jar \\\n",
    "  gt=~/working/phasing/PDCD6.recode.vcf \\\n",
    "  out=~/working/phasing/PDCD6.recode.vcf.phased_beagle \\\n",
    "  map=~/working/phasing/plink.chr5.GRCh38.map"
   ]
  },
  {
   "cell_type": "code",
   "execution_count": 5,
   "id": "54cd028e-cb2b-41a7-a8ca-a789040aa64a",
   "metadata": {
    "kernel": "Bash"
   },
   "outputs": [
    {
     "name": "stdout",
     "output_type": "stream",
     "text": [
      "5 . 0 20583\n",
      "5 . 0.038077 25453\n",
      "5 . 0.038103 26366\n",
      "5 . 0.038135 27565\n",
      "5 . 0.038172 28951\n",
      "5 . 0.0383 33801\n",
      "5 . 0.038368 36346\n",
      "5 . 0.038418 38141\n",
      "5 . 0.038424 38366\n",
      "5 . 0.038437 38796\n"
     ]
    }
   ],
   "source": [
    "head ~/working/phasing/plink.chr5.GRCh38.map"
   ]
  },
  {
   "cell_type": "code",
   "execution_count": 6,
   "id": "3b9373c4-82b2-491f-9340-537ce8c7240c",
   "metadata": {
    "kernel": "Bash"
   },
   "outputs": [],
   "source": [
    "sed -i 's/^/chr/' ~/working/phasing/plink.chr5.GRCh38.map"
   ]
  },
  {
   "cell_type": "code",
   "execution_count": 10,
   "id": "0495cb6a-23da-4c1f-a45f-118006b5efeb",
   "metadata": {
    "kernel": "Bash"
   },
   "outputs": [
    {
     "name": "stdout",
     "output_type": "stream",
     "text": [
      "chr5 . 0 20583\n",
      "chr5 . 0.038077 25453\n",
      "chr5 . 0.038103 26366\n",
      "chr5 . 0.038135 27565\n",
      "chr5 . 0.038172 28951\n",
      "chr5 . 0.0383 33801\n",
      "chr5 . 0.038368 36346\n",
      "chr5 . 0.038418 38141\n",
      "chr5 . 0.038424 38366\n",
      "chr5 . 0.038437 38796\n"
     ]
    }
   ],
   "source": [
    "head ~/working/phasing/plink.chr5.GRCh38.map"
   ]
  },
  {
   "cell_type": "code",
   "execution_count": 11,
   "id": "43a1974f-da7a-43df-b685-93b55201edad",
   "metadata": {
    "kernel": "Bash"
   },
   "outputs": [
    {
     "name": "stdout",
     "output_type": "stream",
     "text": [
      "beagle.05May22.33a.jar (version 5.4)\n",
      "Copyright (C) 2014-2022 Brian L. Browning\n",
      "Enter \"java -jar beagle.05May22.33a.jar\" to list command line argument\n",
      "Start time: 04:21 PM EDT on 22 Jun 2022\n",
      "\n",
      "Command line: java -Xmx3641m -jar beagle.05May22.33a.jar\n",
      "  gt=/home/gl2776/working/phasing/PDCD6.recode.vcf\n",
      "  out=/home/gl2776/working/phasing/PDCD6.recode.vcf.phased_beagle\n",
      "  map=/home/gl2776/working/phasing/plink.chr5.GRCh38.map\n",
      "  nthreads=32\n",
      "\n",
      "Reference samples:                    0\n",
      "Study     samples:              200,643\n",
      "\n",
      "Window 1 [chr5:271649-314615]\n",
      "Study     markers:                  770\n",
      "#\n",
      "# There is insufficient memory for the Java Runtime Environment to continue.\n",
      "# Native memory allocation (malloc) failed to allocate 32 bytes for AllocateHeap\n",
      "Exception in thread \"main\" # An error report file with more information is saved as:\n",
      "# /mnt/mfs/hgrcgrid/homes/gl2776/working/hs_err_pid7694.log\n"
     ]
    },
    {
     "ename": "",
     "evalue": "1",
     "output_type": "error",
     "traceback": []
    }
   ],
   "source": [
    "java -Xmx4g -jar ~/miniconda3/bin/beagle.05May22.33a.jar \\\n",
    "  gt=~/working/phasing/PDCD6.recode.vcf \\\n",
    "  out=~/working/phasing/PDCD6.recode.vcf.phased_beagle \\\n",
    "  map=~/working/phasing/plink.chr5.GRCh38.map"
   ]
  },
  {
   "cell_type": "markdown",
   "id": "81d7a0ca-101d-41a9-8f83-abd6d1e57b18",
   "metadata": {
    "kernel": "Bash"
   },
   "source": [
    "Increase the mem to 50G and run it in a script job"
   ]
  },
  {
   "cell_type": "markdown",
   "id": "d3215350-ec0d-4779-a91b-37023d27aecc",
   "metadata": {
    "kernel": "Bash"
   },
   "source": [
    "Need to consider the nthread * maxmem of heap map so it ends up with this"
   ]
  },
  {
   "cell_type": "code",
   "execution_count": null,
   "id": "5f67fb72-985b-4d3c-a843-fb65bcea2af1",
   "metadata": {
    "kernel": "Bash"
   },
   "outputs": [],
   "source": [
    "java -Xmx20g -jar ~/miniconda3/bin/beagle.05May22.33a.jar \\\n",
    "  gt=~/working/phasing/PDCD6.recode.vcf \\\n",
    "  out=~/working/phasing/PDCD6.recode.vcf.phased_beagle \\\n",
    "  map=~/working/phasing/plink.chr5.GRCh38.map \\\n",
    "  nthreads=2"
   ]
  },
  {
   "cell_type": "code",
   "execution_count": 2,
   "id": "96738aab-45be-497e-b96c-2122f74cbbd8",
   "metadata": {
    "kernel": "Bash"
   },
   "outputs": [
    {
     "name": "stdout",
     "output_type": "stream",
     "text": [
      "# This file was produced by bcftools stats (1.9+htslib-1.9) and can be plotted using plot-vcfstats.\n",
      "# The command line was:\tbcftools stats  /home/gl2776/working/phasing/PDCD6.recode.vcf.phased_beagle.vcf.gz\n",
      "#\n",
      "# Definition of sets:\n",
      "# ID\t[2]id\t[3]tab-separated file names\n",
      "ID\t0\t/home/gl2776/working/phasing/PDCD6.recode.vcf.phased_beagle.vcf.gz\n",
      "[W::vcf_parse] Contig 'chr5' is not defined in the header. (Quick workaround: index the file with tabix.)\n",
      "# SN, Summary numbers:\n",
      "#   number of records   .. number of data rows in the VCF\n",
      "#   number of no-ALTs   .. reference-only sites, ALT is either \".\" or identical to REF\n",
      "#   number of SNPs      .. number of rows with a SNP\n",
      "#   number of MNPs      .. number of rows with a MNP, such as CC>TT\n",
      "#   number of indels    .. number of rows with an indel\n",
      "#   number of others    .. number of rows with other type, for example a symbolic allele or\n",
      "#                          a complex substitution, such as ACT>TCGA\n",
      "#   number of multiallelic sites     .. number of rows with multiple alternate alleles\n",
      "#   number of multiallelic SNP sites .. number of rows with multiple alternate alleles, all SNPs\n",
      "# \n",
      "#   Note that rows containing multiple types will be counted multiple times, in each\n",
      "#   counter. For example, a row with a SNP and an indel increments both the SNP and\n",
      "#   the indel counter.\n",
      "# \n",
      "# SN\t[2]id\t[3]key\t[4]value\n",
      "SN\t0\tnumber of samples:\t200643\n",
      "SN\t0\tnumber of records:\t770\n",
      "SN\t0\tnumber of no-ALTs:\t0\n",
      "SN\t0\tnumber of SNPs:\t718\n",
      "SN\t0\tnumber of MNPs:\t0\n",
      "SN\t0\tnumber of indels:\t52\n",
      "SN\t0\tnumber of others:\t0\n",
      "SN\t0\tnumber of multiallelic sites:\t0\n",
      "SN\t0\tnumber of multiallelic SNP sites:\t0\n",
      "# TSTV, transitions/transversions:\n",
      "# TSTV\t[2]id\t[3]ts\t[4]tv\t[5]ts/tv\t[6]ts (1st ALT)\t[7]tv (1st ALT)\t[8]ts/tv (1st ALT)\n",
      "TSTV\t0\t471\t247\t1.91\t471\t247\t1.91\n",
      "# SiS, Singleton stats:\n",
      "# SiS\t[2]id\t[3]allele count\t[4]number of SNPs\t[5]number of transitions\t[6]number of transversions\t[7]number of indels\t[8]repeat-consistent\t[9]repeat-inconsistent\t[10]not applicable\n",
      "SiS\t0\t1\t718\t471\t247\t52\t0\t0\t52\n",
      "# AF, Stats by non-reference allele frequency:\n",
      "# AF\t[2]id\t[3]allele frequency\t[4]number of SNPs\t[5]number of transitions\t[6]number of transversions\t[7]number of indels\t[8]repeat-consistent\t[9]repeat-inconsistent\t[10]not applicable\n",
      "AF\t0\t0.000000\t718\t471\t247\t52\t0\t0\t52\n",
      "# QUAL, Stats by quality:\n",
      "# QUAL\t[2]id\t[3]Quality\t[4]number of SNPs\t[5]number of transitions (1st ALT)\t[6]number of transversions (1st ALT)\t[7]number of indels\n",
      "QUAL\t0\t998\t718\t471\t247\t52\n",
      "# IDD, InDel distribution:\n",
      "# IDD\t[2]id\t[3]length (deletions negative)\t[4]count\n",
      "IDD\t0\t-18\t1\n",
      "IDD\t0\t-12\t1\n",
      "IDD\t0\t-5\t1\n",
      "IDD\t0\t-4\t6\n",
      "IDD\t0\t-3\t7\n",
      "IDD\t0\t-2\t8\n",
      "IDD\t0\t-1\t10\n",
      "IDD\t0\t1\t10\n",
      "IDD\t0\t3\t3\n",
      "IDD\t0\t4\t1\n",
      "IDD\t0\t6\t1\n",
      "IDD\t0\t9\t1\n",
      "IDD\t0\t11\t1\n",
      "IDD\t0\t12\t1\n",
      "# ST, Substitution types:\n",
      "# ST\t[2]id\t[3]type\t[4]count\n",
      "ST\t0\tA>C\t31\n",
      "ST\t0\tA>G\t87\n",
      "ST\t0\tA>T\t14\n",
      "ST\t0\tC>A\t29\n",
      "ST\t0\tC>G\t68\n",
      "ST\t0\tC>T\t182\n",
      "ST\t0\tG>A\t135\n",
      "ST\t0\tG>C\t28\n",
      "ST\t0\tG>T\t28\n",
      "ST\t0\tT>A\t18\n",
      "ST\t0\tT>C\t67\n",
      "ST\t0\tT>G\t31\n",
      "# DP, Depth distribution\n",
      "# DP\t[2]id\t[3]bin\t[4]number of genotypes\t[5]fraction of genotypes (%)\t[6]number of sites\t[7]fraction of sites (%)\n"
     ]
    }
   ],
   "source": [
    "bcftools stats ~/working/phasing/PDCD6.recode.vcf.phased_beagle.vcf.gz"
   ]
  },
  {
   "cell_type": "code",
   "execution_count": null,
   "id": "8ebf1fd5-8ad6-4d03-8187-1cfc6cbbef8b",
   "metadata": {
    "kernel": "Bash"
   },
   "outputs": [],
   "source": [
    "#bgzip -d ~/working/phasing/PDCD6.recode.vcf.phased_beagle.vcf.gz"
   ]
  },
  {
   "cell_type": "code",
   "execution_count": null,
   "id": "a43b17be-6abc-4438-abc5-e590374d98c6",
   "metadata": {
    "kernel": "Bash"
   },
   "outputs": [],
   "source": [
    "vcftools --gzvcf ~/working/phasing/PDCD6.recode.vcf.phased_beagle.vcf.gz \\\n",
    "--snps \\\n",
    "--recode \\\n",
    "--recode-INFO-all \\\n",
    "--out ~/working/phasing/PDCD6"
   ]
  },
  {
   "cell_type": "code",
   "execution_count": 5,
   "id": "4a464b17-bf51-406d-b9f8-a1dc40dcce0b",
   "metadata": {
    "kernel": "Bash"
   },
   "outputs": [
    {
     "name": "stdout",
     "output_type": "stream",
     "text": [
      "#CHROM\tPOS\tID\tREF\tALT\tQUAL\tFILTER\tINFO\tFORMAT\t1434748\t5523981\t5023838\t4023729\t4442146\t5654789\n",
      "chr5\t272741\tchr5:272741:A:G\tA\tG\t.\tPASS\t.\tGT\t0|0\t0|0\t0|0\t0|0\t0|0\t0|0\n",
      "chr5\t272748\tchr5:272748:G:C\tG\tC\t.\tPASS\t.\tGT\t0|0\t0|0\t0|0\t0|0\t0|0\t0|0\n",
      "chr5\t272755\tchr5:272755:A:G\tA\tG\t.\tPASS\t.\tGT\t0|0\t0|0\t0|0\t0|0\t0|0\t0|0\n"
     ]
    }
   ],
   "source": [
    "sed  '/##/d' /home/gl2776/working/phasing/PDCD6.3variants.recode.vcf | cut -f 1-15 "
   ]
  },
  {
   "cell_type": "code",
   "execution_count": null,
   "id": "1eb07665-2213-45c3-8218-e17d36e4d5de",
   "metadata": {
    "kernel": "Bash"
   },
   "outputs": [],
   "source": [
    "# Using the utilities from UofW http://faculty.washington.edu/browning/beagle_utilities/utilities.html#gtstats\n",
    "wget http://faculty.washington.edu/browning/beagle_utilities/gtstats.jar\n",
    "chmod +x gtstats.jar"
   ]
  },
  {
   "cell_type": "code",
   "execution_count": 7,
   "id": "8d1fdc6e-bd9c-4e84-a215-45398ca64a1b",
   "metadata": {
    "kernel": "Bash"
   },
   "outputs": [
    {
     "name": "stdout",
     "output_type": "stream",
     "text": [
      "chr5\t272741\tchr5:272741:A:G\tA\tG\t.\tPASS\t.\t0\t0.0000\t288\t0.0007\t288\t0.0007\t1.00E0\n",
      "chr5\t272748\tchr5:272748:G:C\tG\tC\t.\tPASS\t.\t0\t0.0000\t241\t0.0006\t241\t0.0006\t1.00E0\n",
      "chr5\t272755\tchr5:272755:A:G\tA\tG\t.\tPASS\t.\t0\t0.0000\t302\t0.0008\t302\t0.0008\t1.00E0\n"
     ]
    }
   ],
   "source": [
    "cat /home/gl2776/working/phasing/PDCD6.3variants.recode.vcf | java -jar ~/miniconda3/bin/gtstats.jar"
   ]
  },
  {
   "cell_type": "markdown",
   "id": "5c789918-e4f5-4f00-8453-a88878d9a83f",
   "metadata": {
    "kernel": "Bash"
   },
   "source": [
    "```\n",
    "One line with 15 tab-delimited fiels is written per marker:\n",
    "\n",
    " 1-8)  VCF fixed fields (CHROM, POS, ID, REF, ALT, QUAL, FILT, INFO)\n",
    "   9)  Missing genotype count\n",
    "  10)  Missing genotype frequency\n",
    "  11)  Non-REF allele count\n",
    "  12)  Non-REF allele frequency\n",
    "  13)  Minor allele count             (REF allele vs Non-REF alleles)\n",
    "  14)  Minor allele frequency         (REF allele vs Non-REF alleles)\n",
    "  15)  HWE P-value                    (REF allele vs Non-REF alleles)\n",
    "```"
   ]
  },
  {
   "cell_type": "code",
   "execution_count": null,
   "id": "d6e3b5ac-b2b8-4435-8323-103ab9c3156a",
   "metadata": {
    "kernel": "Python3",
    "tags": []
   },
   "outputs": [
    {
     "name": "stderr",
     "output_type": "stream",
     "text": [
      "Traceback (most recent call last):\n",
      "  File \"/home/gl2776/miniconda3/lib/python3.8/runpy.py\", line 194, in _run_module_as_main\n",
      "    return _run_code(code, main_globals, None,\n",
      "  File \"/home/gl2776/miniconda3/lib/python3.8/runpy.py\", line 87, in _run_code\n",
      "    exec(code, run_globals)\n",
      "  File \"/home/gl2776/miniconda3/lib/python3.8/site-packages/ipykernel_launcher.py\", line 15, in <module>\n",
      "    from ipykernel import kernelapp as app\n",
      "  File \"/home/gl2776/miniconda3/lib/python3.8/site-packages/ipykernel/kernelapp.py\", line 51, in <module>\n",
      "    from .ipkernel import IPythonKernel\n",
      "  File \"/home/gl2776/miniconda3/lib/python3.8/site-packages/ipykernel/ipkernel.py\", line 19, in <module>\n",
      "    from .debugger import Debugger, _is_debugpy_available\n",
      "  File \"/home/gl2776/miniconda3/lib/python3.8/site-packages/ipykernel/debugger.py\", line 22, in <module>\n",
      "    from debugpy.server import api  # noqa\n",
      "  File \"/home/gl2776/miniconda3/lib/python3.8/site-packages/debugpy/server/__init__.py\", line 9, in <module>\n",
      "    import debugpy._vendored.force_pydevd  # noqa\n",
      "  File \"/home/gl2776/miniconda3/lib/python3.8/site-packages/debugpy/_vendored/force_pydevd.py\", line 45, in <module>\n",
      "    preimport('pydevd', [\n",
      "  File \"/home/gl2776/miniconda3/lib/python3.8/site-packages/debugpy/_vendored/__init__.py\", line 128, in preimport\n",
      "    import_module(name)\n",
      "  File \"/home/gl2776/miniconda3/lib/python3.8/importlib/__init__.py\", line 127, in import_module\n",
      "    return _bootstrap._gcd_import(name[level:], package, level)\n",
      "  File \"/home/gl2776/miniconda3/lib/python3.8/site-packages/debugpy/_vendored/pydevd/pydevd.py\", line 58, in <module>\n",
      "    from _pydevd_bundle.pydevd_custom_frames import CustomFramesContainer, custom_frames_container_init\n",
      "  File \"<frozen importlib._bootstrap>\", line 991, in _find_and_load\n",
      "  File \"<frozen importlib._bootstrap>\", line 975, in _find_and_load_unlocked\n",
      "  File \"<frozen importlib._bootstrap>\", line 671, in _load_unlocked\n",
      "  File \"<frozen importlib._bootstrap_external>\", line 779, in exec_module\n",
      "  File \"<frozen importlib._bootstrap_external>\", line 874, in get_code\n",
      "  File \"<frozen importlib._bootstrap_external>\", line 973, in get_data\n",
      "KeyboardInterrupt\n"
     ]
    }
   ],
   "source": [
    "import pandas as pd\n",
    "vcf = pd.read_csv(\"/home/gl2776/working/phasing/PDCD6.3variants.recode.vcf\",header=0,sep=\"\\t\")\n",
    "vcf"
   ]
  },
  {
   "cell_type": "code",
   "execution_count": null,
   "id": "27d87dc2-5933-4adb-8308-a0975088cd27",
   "metadata": {
    "kernel": "Python3"
   },
   "outputs": [],
   "source": []
  }
 ],
 "metadata": {
  "kernelspec": {
   "display_name": "SoS",
   "language": "sos",
   "name": "sos"
  },
  "language_info": {
   "codemirror_mode": "sos",
   "file_extension": ".sos",
   "mimetype": "text/x-sos",
   "name": "sos",
   "nbconvert_exporter": "sos_notebook.converter.SoS_Exporter",
   "pygments_lexer": "sos"
  },
  "sos": {
   "kernels": [
    [
     "Bash",
     "bash",
     "Bash",
     "#E6EEFF",
     "shell"
    ],
    [
     "Python3",
     "python3",
     "Python3",
     "#FFD91A",
     ""
    ]
   ],
   "version": "0.23.3"
  }
 },
 "nbformat": 4,
 "nbformat_minor": 5
}
