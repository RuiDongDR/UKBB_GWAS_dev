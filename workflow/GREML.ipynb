{
 "cells": [
  {
   "cell_type": "markdown",
   "id": "0d6a2da7-b0de-4ab1-8850-493241a1f227",
   "metadata": {
    "kernel": "SoS",
    "tags": []
   },
   "source": [
    "# Heritability estimation using GREML "
   ]
  },
  {
   "cell_type": "markdown",
   "id": "64467fff-682d-4809-9eb8-12ac86f1bbd8",
   "metadata": {
    "kernel": "SoS"
   },
   "source": [
    "## Aim\n",
    "\n",
    "The objetive of this notebook is to generate heritability estimates for both common and rare variants in complex traits "
   ]
  },
  {
   "cell_type": "markdown",
   "id": "3d402e8d-b1b2-4330-a5d6-606ba666afd1",
   "metadata": {
    "kernel": "SoS"
   },
   "source": [
    "## Input data"
   ]
  },
  {
   "cell_type": "markdown",
   "id": "3b2bca19-ee6b-47ed-9f5a-9c34399eb9f6",
   "metadata": {
    "kernel": "SoS"
   },
   "source": [
    "## Output data"
   ]
  },
  {
   "cell_type": "markdown",
   "id": "56124fcb-502d-4706-88a2-15b10f1ba4c9",
   "metadata": {
    "kernel": "SoS"
   },
   "source": [
    "## Parameters\n",
    "\n",
    "*--reml*\n",
    "\n",
    "Perform a REML (restricted maximum likelihood) analysis. This option is usually followed by the option --grm (one GRM) or --mgrm (multiple GRMs) to estimate the variance explained by the SNPs that were used to estimate the GRM.\n",
    "\n",
    "*--reml-no-constrain*\n",
    "\n",
    "By default, if an estimate of variance component escapes from the parameter space (i.e. negative value), it will be set to be a small positive value i.e. Vp * 10-6 with Vp being the phenotypic variance. If the estimate keeps escaping from the parameter space, the estimate will be constrained to be Vp * 10-6. If the option --reml-no-constrain is specified, the program will allow an estimate of variance component to be negative, which may result in the estimate of proportion variance explained by all the SNPs > 100%\n",
    "\n",
    "*--reml-lrt 1*\n",
    "\n",
    "Calculate the log likelihood of a reduce model with one or multiple genetic variance components dropped from the full model and calculate the LRT and p-value. By default, GCTA will always calculate and report the LRT for the first genetic variance component, i.e. --reml-lrt 1, unless you re-specify this option, e.g. --reml-lrt 2 assuming there are a least two genetic variance components included in the analysis. You can also test multiple components simultaneously, e.g. --reml-lrt 1 2 4. See FAQ #1 for more details\n",
    "\n",
    "*--reml-no-lrt*\n",
    "\n",
    "Turn off the LRT.\n",
    "\n",
    "*--prevalence 0.01*\n",
    "\n",
    "Specify the disease prevalence for a case-control study. Once this option is specified, GCTA will transform the estimate of variance explained, V(1)/Vp, on the observed scale to that on the underlying scale, V(1)/Vp_L. The prevalence should be estimated from a general population in literatures rather than that estimated from the sample. "
   ]
  },
  {
   "cell_type": "markdown",
   "id": "85fe6fa7-3b2a-49d4-8b2f-d9877ad62123",
   "metadata": {
    "kernel": "SoS"
   },
   "source": [
    "## References"
   ]
  },
  {
   "cell_type": "markdown",
   "id": "eb9d0839-83e1-435c-be74-219ce2701b53",
   "metadata": {
    "kernel": "SoS"
   },
   "source": [
    "## Command interface"
   ]
  },
  {
   "cell_type": "markdown",
   "id": "b011f1c4-c92e-4183-b1ed-d9048daa5bec",
   "metadata": {
    "kernel": "SoS"
   },
   "source": [
    "## Global parameter settings"
   ]
  },
  {
   "cell_type": "code",
   "execution_count": null,
   "id": "19b3308c-9e74-4dce-84d3-04703b644704",
   "metadata": {
    "kernel": "SoS"
   },
   "outputs": [],
   "source": [
    "[global]\n",
    "# the output directory for generated files\n",
    "parameter: cwd = path\n",
    "# Calculated genetic relationship matrix\n",
    "parameter: grm = path\n",
    "# Phenotype file\n",
    "parameter: phenoFile = path\n",
    "# I running a binary trait\n",
    "parameter: prevalence = 0.0\n",
    "# Phenotype to be analyzed (specify the column)\n",
    "parameter: phenoCol = list\n",
    "# Covariate file path. Will use phenoFile if empty\n",
    "parameter: covarFile = path('.')\n",
    "# Summary statisticss format file path used for unifying output column names. Will not unify names if empty\n",
    "parameter: formatFile = path('.')\n",
    "# Qualitative covariates to be used in the analysis\n",
    "parameter: covarCol = []\n",
    "# Quantitative covariates to be used in the analysis\n",
    "parameter: qCovarCol = []\n",
    "# Specific number of threads to use\n",
    "parameter: numThreads = 1\n",
    "# For cluster jobs, number commands to run per job\n",
    "parameter: job_size = 1\n",
    "parameter: mem = '240G'\n",
    "parameter: walltime = '240h'\n",
    "# The container with the lmm software. Can be either a dockerhub image or a singularity `sif` file.\n",
    "# Default is set to using dockerhub image\n",
    "parameter: container = 'statisticalgenetics/lmm:2.4'\n",
    "if not covarFile.is_file():\n",
    "    covarFile = phenoFile\n",
    "cwd = path(f\"{cwd:a}\")"
   ]
  },
  {
   "cell_type": "markdown",
   "id": "f8ca81cc-e86f-497d-832b-c14a79c1d3b2",
   "metadata": {
    "kernel": "SoS"
   },
   "source": [
    "## Illustration of minimal working example"
   ]
  },
  {
   "cell_type": "markdown",
   "id": "08bdd28d-a208-4de5-b545-99ac339ecd1f",
   "metadata": {
    "kernel": "SoS"
   },
   "source": [
    "On a minimal working example (MWE) dataset,\n",
    "```\n",
    "sos run GREML.ipynb greml\\\n",
    "    --cwd output \\\n",
    "    --phenoFile phenotype_greml.txt\\\n",
    "    --phenoCol f3393 \\\n",
    "    --covarCol sex \\\n",
    "    --qCovarCol `echo age {PC1..10}` \\\n",
    "    --grm common_var.grm.bin \\\n",
    "    --prevalence 0.0\\\n",
    "\n",
    "```"
   ]
  },
  {
   "cell_type": "markdown",
   "id": "a8d09478-705b-4a88-b374-f3b070f8c52d",
   "metadata": {
    "kernel": "SoS"
   },
   "source": [
    "# GREML workflow implementation"
   ]
  },
  {
   "cell_type": "code",
   "execution_count": null,
   "id": "0b72af60-6cb4-4c43-8976-08529f3a6152",
   "metadata": {
    "kernel": "SoS"
   },
   "outputs": [],
   "source": [
    "[greml]\n",
    "# extract and prepare phenotype & covariate files\n",
    "import pandas as pd\n",
    "import numpy as np\n",
    "dat = pd.read_csv(phenoFile, header=0, delim_whitespace=True, dtype=str)\n",
    "dat = dat.replace(to_replace =np.nan, value =\"NA\")\n",
    "if len(phenoCol) > 0:\n",
    "    dat.to_csv(f\"{cwd}/{phenoFile:bn}.gcta_phenotype\", sep=' ', index=False, columns = ['FID', 'IID'] + phenoCol)\n",
    "dat = pd.read_csv(covarFile, header=0, delim_whitespace=True,  dtype=str)\n",
    "if len(covarCol) > 0:\n",
    "    dat.to_csv(f\"{cwd}/{phenoFile:bn}.gcta_covar\", sep=' ', index=False, columns = ['FID', 'IID'] + covarCol)\n",
    "if len(qCovarCol) > 0:\n",
    "    dat.to_csv(f\"{cwd}/{phenoFile:bn}.gcta_qcovar\", sep=' ', index=False, columns = ['FID', 'IID'] + qCovarCol)\n",
    "parameter: reml_priors = ''\n",
    "input: grm\n",
    "output: f'{cwd}/{_input:bnn}.{phenoFile:bn}.hsq' \n",
    "task: trunk_workers = 1, trunk_size = job_size, walltime = walltime, mem = mem, cores = numThreads, tags = f'{step_name}_{_output[0]:bn}'\n",
    "bash: container=container, expand = \"${ }\", stderr = f'{_output[0]:n}.stderr', stdout = f'{_output[0]:n}.stdout'\n",
    "        \n",
    "gcta64 \\\n",
    "    --reml \\\n",
    "    --grm ${grm:nn}\\\n",
    "    --prevalence ${prevalence} \\\n",
    "    --pheno ${cwd}/${phenoFile:bn}.gcta_phenotype \\\n",
    "    --qcovar ${cwd}/${covarFile:bn}.gcta_qcovar \\\n",
    "    --covar ${cwd}/${covarFile:bn}.gcta_covar \\\n",
    "    --thread-num ${numThreads} \\\n",
    "    --out ${_output:nn}\\\n",
    "    ${('--reml-priors %s' % reml_priors ) if reml_priors else ''} \n",
    "    --reml-no-lrt\\\n",
    "    --reml-no-constrain"
   ]
  },
  {
   "cell_type": "code",
   "execution_count": null,
   "id": "f22a8d55-bf5e-4380-99ba-95ed31070c82",
   "metadata": {
    "kernel": "SoS"
   },
   "outputs": [],
   "source": [
    "[grm_processing]\n",
    "parameter: keep_samples = path('.')\n",
    "parameter: name = \"\"\n",
    "input: grm\n",
    "output: f'{cwd}/{_input:bnn}.{name}.grm.bin' \n",
    "task: trunk_workers = 1, trunk_size = job_size, walltime = walltime, mem = mem, cores = numThreads, tags = f'{step_name}_{_output[0]:bn}'\n",
    "bash: container=container, expand = \"${ }\", stderr = f'{_output[0]:n}.stderr', stdout = f'{_output[0]:n}.stdout'\n",
    "        \n",
    "gcta64 \\\n",
    "    --grm ${grm:nn}\\\n",
    "    --keep ${keep_samples} \\\n",
    "    --make-grm \\\n",
    "    --thread-num ${numThreads} \\\n",
    "    --out ${_output:nn}"
   ]
  }
 ],
 "metadata": {
  "kernelspec": {
   "display_name": "SoS",
   "language": "sos",
   "name": "sos"
  },
  "language_info": {
   "codemirror_mode": "sos",
   "file_extension": ".sos",
   "mimetype": "text/x-sos",
   "name": "sos",
   "nbconvert_exporter": "sos_notebook.converter.SoS_Exporter",
   "pygments_lexer": "sos"
  },
  "sos": {
   "kernels": [
    [
     "SoS",
     "sos",
     "",
     ""
    ]
   ],
   "version": "0.22.6"
  }
 },
 "nbformat": 4,
 "nbformat_minor": 5
}
