{
 "cells": [
  {
   "cell_type": "markdown",
   "metadata": {
    "kernel": "SoS"
   },
   "source": [
    "# Exome filtering\n",
    "\n",
    "Filter exome bed files so they contain only SNPs with 2 alleles and non-duplicated variants\n",
    "\n",
    "This final file will contain both common and rare variants"
   ]
  },
  {
   "cell_type": "code",
   "execution_count": null,
   "metadata": {
    "kernel": "SoS"
   },
   "outputs": [],
   "source": [
    "[global]\n",
    "# the output directory for generated files\n",
    "parameter: cwd = path\n",
    "# BED Plink files for exome data\n",
    "parameter: bedfiles = paths\n",
    "# For cluster jobs, number commands to run per job\n",
    "parameter: job_size = 1\n",
    "# Number of threads\n",
    "parameter: numThreads = 1\n",
    "# Software container option\n",
    "parameter: container_lmm = 'statisticalgenetics/lmm:1.5'"
   ]
  },
  {
   "cell_type": "code",
   "execution_count": null,
   "metadata": {
    "kernel": "SoS"
   },
   "outputs": [],
   "source": [
    "#Filter snps and remove duplicates with Plink2\n",
    "[plink_filter]\n",
    "input: bedfiles, group_by=1\n",
    "output: f'{cwd}/{_input:bn}.snps_nondups.bed'\n",
    "task: trunk_workers = 1, walltime = '48h', mem = '90G', cores = numThreads, tags = f'{step_name}_{_output:bn}'\n",
    "bash: container=container_lmm, expand= \"${ }\", stderr = f'{_output:n}.err', stdout = f'{_output:n}.out'\n",
    "    awk -F' ' '{print $4}' ${_input:n}.bim | sort |uniq -d > ${_output:nn}.dup_pos\n",
    "    awk 'NR==FNR{a[$1]; next} ($4 in a) {print $2}' ${_output:nn}.dup_pos ${_input:n}.bim  > ${_output:nn}.dup_vars  \n",
    "    plink2 \\\n",
    "      --bfile ${_input:n} \\\n",
    "      --snps-only just-acgt\\\n",
    "      --exclude ${_output:nn}.dup_vars\\\n",
    "      --threads ${numThreads} \\\n",
    "      --make-bed \\\n",
    "      --out ${_output:n} \\\n",
    "      --memory 90000"
   ]
  },
  {
   "cell_type": "code",
   "execution_count": null,
   "metadata": {
    "kernel": "SoS"
   },
   "outputs": [],
   "source": [
    "#Merge all the filtered files with Plink1.9\n",
    "[plink_merge]\n",
    "input: bedfiles, group_by = 'all'\n",
    "output: f'{cwd}/{_input[0].name.split(\"_c\")[0]}.merged_allchr.bed'\n",
    "task: trunk_workers = 1, trunk_size = job_size, walltime = '48h', mem = '90G', cores = numThreads, tags = f'{step_name}_{_output:bn}'\n",
    "bash: container=container_lmm, expand= \"${ }\", stderr = f'{_output:n}.err', stdout = f'{_output:n}.out'\n",
    "    echo -e ${' '.join([str(x)[:-4] for x in _input[1:]])} | sed 's/ /\\n/g' > ${_output:n}.merge_list\n",
    "    plink \\\n",
    "    --bfile ${_input[0]:n} \\\n",
    "    --merge-list ${_output:n}.merge_list \\\n",
    "    --make-bed \\\n",
    "    --out ${_output:n} \\\n",
    "    --threads ${numThreads} \\\n",
    "    --memory 90000"
   ]
  },
  {
   "cell_type": "code",
   "execution_count": null,
   "metadata": {
    "kernel": "SoS"
   },
   "outputs": [],
   "source": [
    "## Write samples that pass QC to select them in following steps\n",
    "[plink_qc]\n",
    "parameter: bfile = path\n",
    "input: bfile\n",
    "output: f'{cwd}/{_input:bnn}.keep_samples.id'\n",
    "task: trunk_workers = 1, trunk_size = job_size, walltime = '48h', mem = '90G', cores = numThreads, tags = f'{step_name}_{_output:bn}'\n",
    "bash: container=container_lmm, expand= \"${ }\", stderr = f'{_output:n}.err', stdout = f'{_output:n}.out'\n",
    "    plink2 \\\n",
    "      --bfile ${_input:n} \\\n",
    "      --mind 0.1 \\\n",
    "      --write-samples --no-id-header \\\n",
    "      --out ${_output:n}"
   ]
  },
  {
   "cell_type": "markdown",
   "metadata": {
    "kernel": "SoS"
   },
   "source": [
    "### Scripts to run the pipeline"
   ]
  },
  {
   "cell_type": "code",
   "execution_count": 2,
   "metadata": {
    "kernel": "Bash"
   },
   "outputs": [
    {
     "name": "stdout",
     "output_type": "stream",
     "text": [
      "INFO: Running \u001b[32mfarnam\u001b[0m: Configuration for Yale `farnam` cluster\n",
      "INFO: \u001b[32mfarnam\u001b[0m (index=0) is \u001b[32mignored\u001b[0m due to saved signature\n",
      "INFO: \u001b[32mfarnam\u001b[0m output:   \u001b[32m../output/2021-01-08_plink_snps_only.sbatch\u001b[0m\n",
      "INFO: Workflow farnam (ID=1333be6e8ff392a0) is ignored with 1 ignored step.\n",
      "\n"
     ]
    }
   ],
   "source": [
    "tpl_file=../farnam.yml\n",
    "bedfiles=`echo /gpfs/gibbs/pi/dewan/data/UKBiobank/genotype_files/ukb28374_exomedata/exome_data_OCT2020/ukb23155_c{1..22}_b0_v1.bed`\n",
    "plink_sos=~/project/UKBB_GWAS_dev/workflow/plink_snps_only.ipynb\n",
    "plink_sbatch=../output/$(date +\"%Y-%m-%d\")_plink_snps_only.sbatch\n",
    "cwd=/gpfs/gibbs/pi/dewan/data/UKBiobank/genotype_files/ukb28374_exomedata/exome_data_OCT2020/exome_files_snpsonly\n",
    "job_size=1\n",
    "numThreads=22\n",
    "container_lmm=/gpfs/gibbs/pi/dewan/data/UKBiobank/lmm_v1_5.sif\n",
    "plink_args=\"\"\"plink\n",
    "    --cwd $cwd \n",
    "    --bedfiles $bedfiles  \n",
    "    --job_size $job_size\n",
    "    --numThreads $numThreads\n",
    "    --container_lmm $container_lmm\n",
    "\"\"\"\n",
    "    \n",
    "sos run ~/project/bioworkflows/GWAS/Get_Job_Script.ipynb farnam \\\n",
    "    --template-file $tpl_file \\\n",
    "    --workflow-file $plink_sos \\\n",
    "    --to-script $plink_sbatch \\\n",
    "    --args \"$plink_args\""
   ]
  },
  {
   "cell_type": "code",
   "execution_count": 1,
   "metadata": {
    "kernel": "Bash"
   },
   "outputs": [
    {
     "name": "stdout",
     "output_type": "stream",
     "text": [
      "INFO: Running \u001b[32mcsg\u001b[0m: Configuration for Columbia csg partition cluster\n",
      "INFO: \u001b[32mcsg\u001b[0m is \u001b[32mcompleted\u001b[0m.\n",
      "INFO: \u001b[32mcsg\u001b[0m output:   \u001b[32m../output/plink_snps_only_2021-01-29.sbatch\u001b[0m\n",
      "INFO: Workflow csg (ID=05e57d59b0bd60d5) is executed successfully with 1 completed step.\n",
      "\n"
     ]
    }
   ],
   "source": [
    "tpl_file=/mnt/mfs/statgen/pbs_template/csg.yml \n",
    "bedfiles=`echo /mnt/mfs/statgen/UKBiobank/data/exome_files/ukb23155_c{1..22}_b0_v1.bed`\n",
    "plink_sos=~/project/UKBB_GWAS_dev/workflow/plink_snps_only.ipynb\n",
    "plink_sbatch=../output/plink_snps_only_$(date +\"%Y-%m-%d\").sbatch\n",
    "cwd=/mnt/mfs/statgen/UKBiobank/data/exome_files/exome_files_snpsonly\n",
    "job_size=1\n",
    "numThreads=22\n",
    "container_lmm=/mnt/mfs/statgen/containers/lmm.sif\n",
    "plink_args=\"\"\"plink\n",
    "    --cwd $cwd \n",
    "    --bedfiles $bedfiles  \n",
    "    --job_size $job_size\n",
    "    --numThreads $numThreads\n",
    "    --container_lmm $container_lmm\n",
    "\"\"\"\n",
    "    \n",
    "sos run ~/project/bioworkflows/GWAS/Get_Job_Script.ipynb csg \\\n",
    "    --template-file $tpl_file \\\n",
    "    --workflow-file $plink_sos \\\n",
    "    --to-script $plink_sbatch \\\n",
    "    --args \"$plink_args\""
   ]
  },
  {
   "cell_type": "markdown",
   "metadata": {
    "kernel": "Bash"
   },
   "source": [
    "## Running the VCF-QC'ed data"
   ]
  },
  {
   "cell_type": "code",
   "execution_count": 2,
   "metadata": {
    "kernel": "Bash"
   },
   "outputs": [
    {
     "name": "stdout",
     "output_type": "stream",
     "text": [
      "INFO: Running \u001b[32mcsg\u001b[0m: Configuration for Columbia csg partition cluster\n",
      "INFO: \u001b[32mcsg\u001b[0m is \u001b[32mcompleted\u001b[0m.\n",
      "INFO: \u001b[32mcsg\u001b[0m output:   \u001b[32m../output/plink_merge_allchrs_2021-05-21.sbatch\u001b[0m\n",
      "INFO: Workflow csg (ID=w3c9030245032932a) is executed successfully with 1 completed step.\n",
      "\n"
     ]
    }
   ],
   "source": [
    "user_path=/home/dmc2245\n",
    "tpl_file=$user_path/project/bioworkflows/admin/csg.yml\n",
    "bedfiles=`echo /mnt/mfs/statgen/UKBiobank/data/exome_files/project_VCF/plink_files/ukb23156_c{1..22}.merged.filtered.bed`\n",
    "plink_sos=~/project/UKBB_GWAS_dev/workflow/plink_snps_only.ipynb\n",
    "plink_sbatch=../output/plink_merge_allchrs_$(date +\"%Y-%m-%d\").sbatch\n",
    "cwd=/mnt/mfs/statgen/UKBiobank/data/exome_files/project_VCF/plink_files/\n",
    "job_size=1\n",
    "numThreads=22\n",
    "container_lmm=/mnt/mfs/statgen/containers/lmm.sif\n",
    "plink_args=\"\"\"plink_merge\n",
    "    --cwd $cwd \n",
    "    --bedfiles $bedfiles  \n",
    "    --job_size $job_size\n",
    "    --numThreads $numThreads\n",
    "    --container_lmm $container_lmm\n",
    "\"\"\"\n",
    "    \n",
    "sos run ~/project/bioworkflows/admin/Get_Job_Script.ipynb  csg \\\n",
    "    --template-file $tpl_file \\\n",
    "    --workflow-file $plink_sos \\\n",
    "    --to-script $plink_sbatch \\\n",
    "    --args \"$plink_args\""
   ]
  },
  {
   "cell_type": "markdown",
   "metadata": {
    "kernel": "Bash"
   },
   "source": [
    "## Running the QC on the samples and getting a list of samples that pass QC"
   ]
  },
  {
   "cell_type": "code",
   "execution_count": 4,
   "metadata": {
    "kernel": "Bash"
   },
   "outputs": [
    {
     "name": "stdout",
     "output_type": "stream",
     "text": [
      "INFO: Running \u001b[32mcsg\u001b[0m: Configuration for Columbia csg partition cluster\n",
      "INFO: \u001b[32mcsg\u001b[0m is \u001b[32mcompleted\u001b[0m.\n",
      "INFO: \u001b[32mcsg\u001b[0m output:   \u001b[32m../output/plink_qc_allchrs_2021-05-24.sbatch\u001b[0m\n",
      "INFO: Workflow csg (ID=w461ddcee18ec0d41) is executed successfully with 1 completed step.\n",
      "\n"
     ]
    }
   ],
   "source": [
    "user_path=/home/dmc2245\n",
    "tpl_file=$user_path/project/bioworkflows/admin/csg.yml\n",
    "bfile=/mnt/mfs/statgen/UKBiobank/data/exome_files/project_VCF/plink_files/ukb23156_c1.merged.filtered.bed.merged_allchr.bed\n",
    "bedfiles=`echo /mnt/mfs/statgen/UKBiobank/data/exome_files/project_VCF/plink_files/ukb23156_c{1..22}.merged.filtered.bed`\n",
    "plink_sos=~/project/UKBB_GWAS_dev/workflow/plink_snps_only.ipynb\n",
    "plink_sbatch=../output/plink_qc_allchrs_$(date +\"%Y-%m-%d\").sbatch\n",
    "cwd=/mnt/mfs/statgen/UKBiobank/data/exome_files/project_VCF/plink_files/\n",
    "job_size=1\n",
    "numThreads=22\n",
    "container_lmm=/mnt/mfs/statgen/containers/lmm.sif\n",
    "plink_args=\"\"\"plink_qc\n",
    "    --cwd $cwd \n",
    "    --bedfiles $bedfiles \n",
    "    --bfile $bfile \n",
    "    --job_size $job_size\n",
    "    --numThreads $numThreads\n",
    "    --container_lmm $container_lmm\n",
    "\"\"\"\n",
    "    \n",
    "sos run ~/project/bioworkflows/admin/Get_Job_Script.ipynb  csg \\\n",
    "    --template-file $tpl_file \\\n",
    "    --workflow-file $plink_sos \\\n",
    "    --to-script $plink_sbatch \\\n",
    "    --args \"$plink_args\""
   ]
  },
  {
   "cell_type": "code",
   "execution_count": null,
   "metadata": {
    "kernel": "Bash"
   },
   "outputs": [],
   "source": [
    "#!/bin/bash\n",
    "files=$(ls -v *.dups_pos)\n",
    "for i in $files; do\n",
    "   wc -l $i >> dups_pos_counts.txt\n",
    "done\n",
    "\n",
    "files=$(ls -v *.dup_vars)\n",
    "for i in $files; do\n",
    "   wc -l $i >> dups_vars_counts.txt\n",
    "done\n",
    "\n",
    "files=$(ls -v ukb23155_c{1..22}_b0_v1.bim)\n",
    "for i in $files; do\n",
    "   wc -l $i >> bim_counts.txt\n",
    "done\n",
    "\n",
    "files=$(ls -v ukb23155_c{1..22}_b0_v1.snps_nondups.bim)\n",
    "for i in $files; do\n",
    "   wc -l $i >> bim_counts_snps_nondups.txt\n",
    "done\n",
    "\n",
    "paste bim_counts.txt dups_pos_counts.txt dups_vars_counts.txt > stats_vars_removed.txt\n"
   ]
  }
 ],
 "metadata": {
  "kernelspec": {
   "display_name": "SoS",
   "language": "sos",
   "name": "sos"
  },
  "language_info": {
   "codemirror_mode": "sos",
   "file_extension": ".sos",
   "mimetype": "text/x-sos",
   "name": "sos",
   "nbconvert_exporter": "sos_notebook.converter.SoS_Exporter",
   "pygments_lexer": "sos"
  },
  "sos": {
   "kernels": [
    [
     "Bash",
     "calysto_bash",
     "Bash",
     "#E6EEFF",
     ""
    ],
    [
     "SoS",
     "sos",
     "",
     "",
     "sos"
    ]
   ],
   "version": "0.22.6"
  }
 },
 "nbformat": 4,
 "nbformat_minor": 4
}
