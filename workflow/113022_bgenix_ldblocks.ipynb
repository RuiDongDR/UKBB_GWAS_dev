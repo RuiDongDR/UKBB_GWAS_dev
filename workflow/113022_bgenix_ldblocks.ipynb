{
 "cells": [
  {
   "cell_type": "markdown",
   "id": "17c69ef3-d921-4186-b79f-b236260e233f",
   "metadata": {
    "kernel": "SoS",
    "tags": []
   },
   "source": [
    "# Extract regions from imputed data using the coordinates from the 1725 Ld blocks"
   ]
  },
  {
   "cell_type": "code",
   "execution_count": null,
   "id": "a79e11e2-9666-41f9-8b9f-43067f6502ba",
   "metadata": {
    "kernel": "SoS"
   },
   "outputs": [],
   "source": [
    "[global]\n",
    "# Working directory\n",
    "parameter: cwd = path\n",
    "#Bgen file from which to extract the regions\n",
    "parameter: genofile = path\n",
    "#regions to be extracted (one line)\n",
    "parameter: region_file = path\n",
    "#Number of jobs\n",
    "parameter: job_size = 20\n",
    "parameter: walltime = '2h'\n",
    "parameter: mem = '10G'\n",
    "parameter: numThreads = 1\n",
    "parameter: container = '/mnt/vast/hpc/csg/containers/lmm.sif'\n",
    "fail_if(not region_file.is_file(), msg = 'Cannot find regions to extract. Please specify them using ``--region-file`` option.')"
   ]
  },
  {
   "cell_type": "code",
   "execution_count": null,
   "id": "252c65cd-118a-43f6-bb80-9575bb71d83f",
   "metadata": {
    "kernel": "SoS"
   },
   "outputs": [],
   "source": [
    "[bgenix_1 (extract region)]\n",
    "import pandas as pd\n",
    "df=pd.read_csv(region_file,header=0,sep=\"\\t\", names=[\"chr\", \"start\", \"stop\"], dtype=str)\n",
    "df['regions'] = df['chr'].str.replace(r'chr','')+':'+df['start']+'-'+df['stop']\n",
    "df['regions'] = df['regions'].str.replace(' ', '')\n",
    "df['regions'].to_csv(f\"{cwd}/{region_file:bn}.bgenix\", index=False, header=None)\n",
    "regions= list(set([line.rstrip('\\n') for line in df['regions']]))\n",
    "\n",
    "input: genofile, for_each = 'regions'\n",
    "output: region_bgen=f'{cwd}/{_input:bn}.{_regions}.bgen'\n",
    "task: trunk_workers = 1, trunk_size = job_size, walltime = walltime, mem = mem, cores = numThreads, tags = f'{step_name}_{_output:bn}'\n",
    "bash: container=container, expand = \"${ }\", stderr = f'{_output:n}.stderr', stdout = f'{_output:n}.stdout'\n",
    "    bgenix \\\n",
    "    -g ${_input} \\\n",
    "    -incl-range ${_regions} > ${_output}"
   ]
  },
  {
   "cell_type": "code",
   "execution_count": null,
   "id": "a93c29bd-c93e-4c32-81c6-25424d7b928b",
   "metadata": {
    "kernel": "SoS"
   },
   "outputs": [],
   "source": [
    "[bgenix_2 (create index)]\n",
    "input: named_output('region_bgen')\n",
    "output: f'{cwd}/{_input:bn}.bgi'\n",
    "task: trunk_workers = 1, trunk_size = job_size, walltime = walltime, mem = mem, cores = numThreads, tags = f'{step_name}_{_output:bn}'\n",
    "bash: container=container, expand = \"${ }\", stderr = f'{_output:n}.stderr', stdout = f'{_output:n}.stdout'\n",
    "    bgenix -g ${_input} -index"
   ]
  },
  {
   "cell_type": "code",
   "execution_count": null,
   "id": "23d90cff-1679-4b86-8608-e94486cd5247",
   "metadata": {
    "kernel": "SoS"
   },
   "outputs": [],
   "source": [
    "[bgenix_3 (create variants)]\n",
    "input: named_output('region_bgen')\n",
    "output:  f'{cwd}/{_input:bn}.variants'\n",
    "task: trunk_workers = 1, trunk_size = job_size, walltime = walltime, mem = mem, cores = numThreads, tags = f'{step_name}_{_output:bn}'\n",
    "bash: container=container, expand = \"${ }\", stderr = f'{_output:n}.stderr', stdout = f'{_output:n}.stdout'\n",
    "    bgenix -g ${_input} -list > ${_output}"
   ]
  },
  {
   "cell_type": "code",
   "execution_count": null,
   "id": "85e56471-f23f-4057-a566-6f91d0ac9f32",
   "metadata": {
    "kernel": "SoS"
   },
   "outputs": [],
   "source": [
    "[bgenix_4 (select specific snps)]\n",
    "parameter:rsid_file = path('.')\n",
    "input: named_output('region_bgen')\n",
    "output:  f'{cwd}/{_input:bn}.subset.bgen'\n",
    "task: trunk_workers = 1, trunk_size = job_size, walltime = walltime, mem = mem, cores = numThreads, tags = f'{step_name}_{_output:bn}'\n",
    "bash: container=container, expand = \"${ }\", stderr = f'{_output:n}.stderr', stdout = f'{_output:n}.stdout'\n",
    "    bgenix \\\n",
    "    -g ${_input} \\\n",
    "    -incl-rsids ${rsid_file} > ${_output}"
   ]
  },
  {
   "cell_type": "code",
   "execution_count": 66,
   "id": "df207cad-d969-4996-900c-3c867f03991a",
   "metadata": {
    "kernel": "Python3"
   },
   "outputs": [],
   "source": [
    "import pandas as pd\n",
    "region_file=pd.read_csv('/mnt/vast/hpc/csg/UKBiobank/data/ldblocks/EUR/fourier_ls-chr1.bed',header=0,sep=\"\\t\", names=[\"chr\", \"start\", \"stop\"], dtype=str)"
   ]
  },
  {
   "cell_type": "code",
   "execution_count": 67,
   "id": "74e24c45-9f40-40cf-be19-1ad9ed634c09",
   "metadata": {
    "kernel": "Python3"
   },
   "outputs": [
    {
     "data": {
      "text/html": [
       "<div>\n",
       "<style scoped>\n",
       "    .dataframe tbody tr th:only-of-type {\n",
       "        vertical-align: middle;\n",
       "    }\n",
       "\n",
       "    .dataframe tbody tr th {\n",
       "        vertical-align: top;\n",
       "    }\n",
       "\n",
       "    .dataframe thead th {\n",
       "        text-align: right;\n",
       "    }\n",
       "</style>\n",
       "<table border=\"1\" class=\"dataframe\">\n",
       "  <thead>\n",
       "    <tr style=\"text-align: right;\">\n",
       "      <th></th>\n",
       "      <th>chr</th>\n",
       "      <th>start</th>\n",
       "      <th>stop</th>\n",
       "    </tr>\n",
       "  </thead>\n",
       "  <tbody>\n",
       "    <tr>\n",
       "      <th>0</th>\n",
       "      <td>chr1</td>\n",
       "      <td>10583</td>\n",
       "      <td>1892607</td>\n",
       "    </tr>\n",
       "    <tr>\n",
       "      <th>1</th>\n",
       "      <td>chr1</td>\n",
       "      <td>1892607</td>\n",
       "      <td>3582736</td>\n",
       "    </tr>\n",
       "    <tr>\n",
       "      <th>2</th>\n",
       "      <td>chr1</td>\n",
       "      <td>3582736</td>\n",
       "      <td>4380811</td>\n",
       "    </tr>\n",
       "    <tr>\n",
       "      <th>3</th>\n",
       "      <td>chr1</td>\n",
       "      <td>4380811</td>\n",
       "      <td>5913893</td>\n",
       "    </tr>\n",
       "    <tr>\n",
       "      <th>4</th>\n",
       "      <td>chr1</td>\n",
       "      <td>5913893</td>\n",
       "      <td>7247335</td>\n",
       "    </tr>\n",
       "    <tr>\n",
       "      <th>...</th>\n",
       "      <td>...</td>\n",
       "      <td>...</td>\n",
       "      <td>...</td>\n",
       "    </tr>\n",
       "    <tr>\n",
       "      <th>128</th>\n",
       "      <td>chr1</td>\n",
       "      <td>241582220</td>\n",
       "      <td>242071602</td>\n",
       "    </tr>\n",
       "    <tr>\n",
       "      <th>129</th>\n",
       "      <td>chr1</td>\n",
       "      <td>242071602</td>\n",
       "      <td>244109499</td>\n",
       "    </tr>\n",
       "    <tr>\n",
       "      <th>130</th>\n",
       "      <td>chr1</td>\n",
       "      <td>244109499</td>\n",
       "      <td>245506746</td>\n",
       "    </tr>\n",
       "    <tr>\n",
       "      <th>131</th>\n",
       "      <td>chr1</td>\n",
       "      <td>245506746</td>\n",
       "      <td>247344518</td>\n",
       "    </tr>\n",
       "    <tr>\n",
       "      <th>132</th>\n",
       "      <td>chr1</td>\n",
       "      <td>247344518</td>\n",
       "      <td>249239466</td>\n",
       "    </tr>\n",
       "  </tbody>\n",
       "</table>\n",
       "<p>133 rows × 3 columns</p>\n",
       "</div>"
      ],
      "text/plain": [
       "       chr        start        stop\n",
       "0    chr1        10583      1892607\n",
       "1    chr1      1892607      3582736\n",
       "2    chr1      3582736      4380811\n",
       "3    chr1      4380811      5913893\n",
       "4    chr1      5913893      7247335\n",
       "..     ...          ...         ...\n",
       "128  chr1    241582220    242071602\n",
       "129  chr1    242071602    244109499\n",
       "130  chr1    244109499    245506746\n",
       "131  chr1    245506746    247344518\n",
       "132  chr1    247344518    249239466\n",
       "\n",
       "[133 rows x 3 columns]"
      ]
     },
     "execution_count": 67,
     "metadata": {},
     "output_type": "execute_result"
    }
   ],
   "source": [
    "region_file"
   ]
  },
  {
   "cell_type": "code",
   "execution_count": 68,
   "id": "6e4b5026-35a8-47a0-bda0-b03d25401c58",
   "metadata": {
    "kernel": "Python3"
   },
   "outputs": [],
   "source": [
    "region_file['regions'] = region_file['chr'].str.replace(r'chr','')+':'+region_file['start']+'-'+region_file['stop']"
   ]
  },
  {
   "cell_type": "code",
   "execution_count": 69,
   "id": "6df9aaf6-b8ad-413a-a872-9c34924793c4",
   "metadata": {
    "kernel": "Python3"
   },
   "outputs": [],
   "source": [
    "region_file['regions']= region_file['regions'].str.replace(' ', '')"
   ]
  },
  {
   "cell_type": "code",
   "execution_count": 72,
   "id": "c408f05c-5555-4ee6-975e-eafd49a87560",
   "metadata": {
    "kernel": "Python3"
   },
   "outputs": [
    {
     "data": {
      "text/plain": [
       "0            1:10583-1892607\n",
       "1          1:1892607-3582736\n",
       "2          1:3582736-4380811\n",
       "3          1:4380811-5913893\n",
       "4          1:5913893-7247335\n",
       "               ...          \n",
       "128    1:241582220-242071602\n",
       "129    1:242071602-244109499\n",
       "130    1:244109499-245506746\n",
       "131    1:245506746-247344518\n",
       "132    1:247344518-249239466\n",
       "Name: regions, Length: 133, dtype: object"
      ]
     },
     "execution_count": 72,
     "metadata": {},
     "output_type": "execute_result"
    }
   ],
   "source": [
    "region_file['regions']"
   ]
  },
  {
   "cell_type": "code",
   "execution_count": 73,
   "id": "085f0339-e0e7-45a2-aa6b-524f600663ee",
   "metadata": {
    "kernel": "Python3"
   },
   "outputs": [],
   "source": [
    "cwd='/mnt/vast/hpc/csg/UKBiobank/results/pleiotropy_AD_ARHI/113022_regions_bgen'"
   ]
  },
  {
   "cell_type": "code",
   "execution_count": 74,
   "id": "91e925be-7ea1-4f9c-ad06-4ba2db5fb35c",
   "metadata": {
    "kernel": "Python3"
   },
   "outputs": [],
   "source": [
    "region_filename='fourier_ls-chr1.bed'"
   ]
  },
  {
   "cell_type": "code",
   "execution_count": 75,
   "id": "e45fca40-4325-4d13-9ed6-0c2739cf97d4",
   "metadata": {
    "kernel": "Python3"
   },
   "outputs": [],
   "source": [
    "region_file.to_csv(f\"{cwd}/{region_filename}.bgenix\", index=False, header=False, columns=['regions'])"
   ]
  },
  {
   "cell_type": "code",
   "execution_count": 76,
   "id": "4502546a-475f-4fa1-ae3c-7e4fe8cb8ced",
   "metadata": {
    "kernel": "Python3"
   },
   "outputs": [],
   "source": [
    "region_file='/mnt/vast/hpc/csg/UKBiobank/results/pleiotropy_AD_ARHI/113022_regions_bgen/fourier_ls-chr1.bed.bgenix'"
   ]
  },
  {
   "cell_type": "code",
   "execution_count": 95,
   "id": "447f3582-17ca-4262-b766-1ef76b81bda4",
   "metadata": {
    "kernel": "Bash"
   },
   "outputs": [
    {
     "name": "stdout",
     "output_type": "stream",
     "text": [
      "INFO: Running \u001b[32mcsg\u001b[0m: Configuration for Columbia csg partition cluster\n",
      "INFO: \u001b[32mcsg\u001b[0m is \u001b[32mcompleted\u001b[0m.\n",
      "INFO: \u001b[32mcsg\u001b[0m output:   \u001b[32m/mnt/vast/hpc/csg/UKBiobank/results/pleiotropy_AD_ARHI/113022_regions_bgen/regions_test2022-12-01.sbatch\u001b[0m\n",
      "INFO: Workflow csg (ID=wa628d1d493b0f831) is executed successfully with 1 completed step.\n",
      "\n"
     ]
    }
   ],
   "source": [
    "cwd=/mnt/vast/hpc/csg/UKBiobank/results/pleiotropy_AD_ARHI/113022_regions_bgen\n",
    "sbatch=/mnt/vast/hpc/csg/UKBiobank/results/pleiotropy_AD_ARHI/113022_regions_bgen/regions_test$(date +\"%Y-%m-%d\").sbatch\n",
    "genofile=/mnt/vast/hpc/csg/UKBiobank_Yale_transfer/ukb39554_imputeddataset/ukb_imp_chr22_v3.bgen\n",
    "tpl_file=~/project/bioworkflows/admin/csg.yml\n",
    "region_file=/mnt/vast/hpc/csg/UKBiobank/data/ldblocks/EUR/fourier_ls-chr22.bed\n",
    "bgenix_sos=~/project/UKBB_GWAS_dev/workflow/113022_bgenix_ldblocks.ipynb\n",
    "job_size=10\n",
    "\n",
    "\n",
    "bgenix_args=\"\"\"bgenix\n",
    "    --cwd $cwd\n",
    "    --genofile $genofile\n",
    "    --region_file $region_file\n",
    "    --job_size $job_size\n",
    "    --container $container\n",
    "\"\"\"\n",
    "\n",
    "sos run ~/project/UKBB_GWAS_dev/admin/Get_Job_Script.ipynb csg \\\n",
    "    --template-file $tpl_file \\\n",
    "    --workflow-file $bgenix_sos \\\n",
    "    --to-script $sbatch \\\n",
    "    --args \"$bgenix_args\""
   ]
  },
  {
   "cell_type": "code",
   "execution_count": 2,
   "id": "1c77fe64-00a2-4192-8ef2-ad582f55acc2",
   "metadata": {
    "kernel": "Bash"
   },
   "outputs": [
    {
     "name": "stdout",
     "output_type": "stream",
     "text": [
      "#!/bin/sh\n",
      "#$ -l h_rt=36:00:00\n",
      "#$ -l h_vmem=16G\n",
      "#$ -N regions_test2022-12-01\n",
      "#$ -o /mnt/vast/hpc/csg/UKBiobank/results/pleiotropy_AD_ARHI/113022_regions_bgen/regions_test2022-12-01-$JOB_ID.out\n",
      "#$ -e /mnt/vast/hpc/csg/UKBiobank/results/pleiotropy_AD_ARHI/113022_regions_bgen/regions_test2022-12-01-$JOB_ID.err  \n",
      "#$ -j y\n",
      "#$ -q csg.q\n",
      "#$ -S /bin/bash\n",
      "export PATH=$HOME/miniconda3/bin:$PATH\n",
      "module load Singularity/3.5.3\n",
      "sos run /home/dmc2245/project/UKBB_GWAS_dev/workflow/113022_bgenix_ldblocks.ipynb \\\n",
      "    bgenix\\\n",
      "    --cwd /mnt/vast/hpc/csg/UKBiobank/results/pleiotropy_AD_ARHI/113022_regions_bgen\\\n",
      "    --genofile /mnt/vast/hpc/csg/UKBiobank_Yale_transfer/ukb39554_imputeddataset/ukb_imp_chr22_v3.bgen\\\n",
      "    --region_file /mnt/vast/hpc/csg/UKBiobank/data/ldblocks/EUR/fourier_ls-chr22.bed \\\n",
      "    -c /home/dmc2245/project/bioworkflows/admin/csg.yml \\\n",
      "    -q csg -s force \\\n",
      "    &> /mnt/vast/hpc/csg/UKBiobank/results/pleiotropy_AD_ARHI/113022_regions_bgen/regions_test2022-12-01.log\n",
      "\n",
      "\n"
     ]
    }
   ],
   "source": [
    "cat /mnt/vast/hpc/csg/UKBiobank/results/pleiotropy_AD_ARHI/113022_regions_bgen/regions_test2022-12-01.sbatch"
   ]
  },
  {
   "cell_type": "code",
   "execution_count": 3,
   "id": "906311dd-cd91-4fde-8905-90bac7ca5008",
   "metadata": {
    "kernel": "Bash"
   },
   "outputs": [
    {
     "name": "stdout",
     "output_type": "stream",
     "text": [
      "Your job 3181518 (\"regions_test2022-12-01\") has been submitted\n",
      "\n"
     ]
    }
   ],
   "source": [
    "qsub /mnt/vast/hpc/csg/UKBiobank/results/pleiotropy_AD_ARHI/113022_regions_bgen/regions_test2022-12-01.sbatch"
   ]
  },
  {
   "cell_type": "code",
   "execution_count": null,
   "id": "d1858310-0d6a-40ae-9f3d-93f19e2419d3",
   "metadata": {
    "kernel": "Bash"
   },
   "outputs": [],
   "source": [
    "export PATH=$HOME/miniconda3/bin:$PATH\n",
    "module load Singularity/3.5.3\n",
    "sos dryrun /home/dmc2245/project/UKBB_GWAS_dev/workflow/113022_bgenix_ldblocks.ipynb \\\n",
    "    bgenix:3\\\n",
    "    --cwd /mnt/vast/hpc/csg/UKBiobank/results/pleiotropy_AD_ARHI/113022_regions_bgen\\\n",
    "    --genofile /mnt/vast/hpc/csg/UKBiobank_Yale_transfer/ukb39554_imputeddataset/ukb_imp_chr22_v3.bgen\\\n",
    "    --region_file /mnt/vast/hpc/csg/UKBiobank/data/ldblocks/EUR/fourier_ls-chr22.bed \\\n",
    "    -s build"
   ]
  },
  {
   "cell_type": "code",
   "execution_count": null,
   "id": "f4906b83-debb-4566-8187-0df47f3b6839",
   "metadata": {
    "kernel": "Bash"
   },
   "outputs": [],
   "source": []
  }
 ],
 "metadata": {
  "kernelspec": {
   "display_name": "SoS",
   "language": "sos",
   "name": "sos"
  },
  "language_info": {
   "codemirror_mode": "sos",
   "file_extension": ".sos",
   "mimetype": "text/x-sos",
   "name": "sos",
   "nbconvert_exporter": "sos_notebook.converter.SoS_Exporter",
   "pygments_lexer": "sos"
  },
  "sos": {
   "kernels": [
    [
     "Bash",
     "calysto_bash",
     "Bash",
     "#E6EEFF",
     ""
    ],
    [
     "Python3",
     "python3",
     "Python3",
     "#FFD91A",
     {
      "name": "ipython",
      "version": 3
     }
    ],
    [
     "SoS",
     "sos",
     "",
     "",
     "sos"
    ]
   ],
   "version": "0.22.6"
  }
 },
 "nbformat": 4,
 "nbformat_minor": 5
}
