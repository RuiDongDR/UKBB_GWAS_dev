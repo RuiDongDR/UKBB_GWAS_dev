{
 "cells": [
  {
   "cell_type": "markdown",
   "id": "17c69ef3-d921-4186-b79f-b236260e233f",
   "metadata": {
    "kernel": "SoS",
    "tags": []
   },
   "source": [
    "# Subset LDblock from imputed UK Biobank data"
   ]
  },
  {
   "cell_type": "markdown",
   "id": "105b3e54-fc63-49ab-bd32-023236fc19f5",
   "metadata": {
    "kernel": "SoS"
   },
   "source": [
    "## Aim\n",
    "\n",
    "The aim of this notebook is to provide bgen, bgi and variant files from genomewide LD blocks to then run LDstore to generate Ld matrices for each one of this blocks"
   ]
  },
  {
   "cell_type": "markdown",
   "id": "e042a6bb-1c8f-46ce-a745-0f8d1c8ea65e",
   "metadata": {
    "kernel": "SoS"
   },
   "source": [
    "## Input data\n",
    "\n",
    "To run this notebook you would need\n",
    "\n",
    "* A list of regions to be extracted in the format chr start stop (Note: make sure chr is in the format 01,02,03...etc)\n",
    "\n",
    "* The original bgen files from which these regions are to be extracted"
   ]
  },
  {
   "cell_type": "markdown",
   "id": "4a013a3c-9706-4461-b18f-3149e0b8976e",
   "metadata": {
    "kernel": "SoS"
   },
   "source": [
    "## Software used\n",
    "\n",
    "This software uses bgenix as implemented in the lmm.sif image "
   ]
  },
  {
   "cell_type": "markdown",
   "id": "3269c2e1-9846-4668-b781-f9f880ad9efe",
   "metadata": {
    "kernel": "SoS"
   },
   "source": [
    "## Output\n",
    "\n",
    "After running this notebook you would be able to get bgen, bgi and variant files for each inputed region organized by chromosome and region"
   ]
  },
  {
   "cell_type": "markdown",
   "id": "08f15bb3-a603-4bf5-8914-adca9f2cd2a3",
   "metadata": {
    "kernel": "SoS"
   },
   "source": [
    "## Minimal working examples"
   ]
  },
  {
   "cell_type": "markdown",
   "id": "146eacfa-b1b7-4b3d-883a-9be9779438cb",
   "metadata": {
    "kernel": "SoS"
   },
   "source": [
    "To generate a single file with all the regions:\n",
    "```\n",
    "sos run ~/UKBB_GWAS_dev/workflow/113022_bgenix_ldblocks.ipynb \\\n",
    "    regions\\\n",
    "    --cwd test\\\n",
    "    --genofile_prefix test/ukb_imp_chr\\\n",
    "    --genofile_suffix _v3.bgen\\\n",
    "    --merged_filename test/fourier_ls-chr1_22.txt\\\n",
    "    --region_files data/ldblocks/EUR/fourier_ls-chr*.bed\\\n",
    "    --job_size 10\n",
    "```"
   ]
  },
  {
   "cell_type": "markdown",
   "id": "2d7e3e2d-ca9f-4ff1-b8fb-eb4ab80e61d7",
   "metadata": {
    "kernel": "SoS"
   },
   "source": [
    "To generate the bgen, bgi and variant files per region:\n",
    "\n",
    "```\n",
    "sos run ~/UKBB_GWAS_dev/workflow/113022_bgenix_ldblocks.ipynb \\\n",
    "    bgenix\\\n",
    "    --cwd test\\\n",
    "    --genofile_prefix test/ukb_imp_chr\\\n",
    "    --genofile_suffix _v3.bgen\\\n",
    "    --region_file data/ldblocks/EUR/fourier_ls-all.bed\\\n",
    "    --job_size 10\n",
    "```"
   ]
  },
  {
   "cell_type": "markdown",
   "id": "e2def22f-5f1f-406e-9541-43b31e319e95",
   "metadata": {
    "kernel": "SoS"
   },
   "source": [
    "## Command interface"
   ]
  },
  {
   "cell_type": "code",
   "execution_count": 132,
   "id": "53129a86-d32d-426e-a5b3-6c5ae6ffe835",
   "metadata": {
    "kernel": "Bash",
    "tags": []
   },
   "outputs": [
    {
     "name": "stdout",
     "output_type": "stream",
     "text": [
      "usage: sos run /home/dmc2245/project/UKBB_GWAS_dev/workflow/113022_bgenix_ldblocks.ipynb\n",
      "               [workflow_name | -t targets] [options] [workflow_options]\n",
      "  workflow_name:        Single or combined workflows defined in this script\n",
      "  targets:              One or more targets to generate\n",
      "  options:              Single-hyphen sos parameters (see \"sos run -h\" for details)\n",
      "  workflow_options:     Double-hyphen workflow-specific parameters\n",
      "\n",
      "Workflows:\n",
      "  regions\n",
      "  bgenix\n",
      "\n",
      "Global Workflow Options:\n",
      "  --cwd VAL (as path, required)\n",
      "                        working directory\n",
      "  --genofile-prefix ''\n",
      "                        please provide the genofile prefix name\n",
      "  --genofile-suffix ''\n",
      "                        please provide the genofile suffix name\n",
      "  --region-file . (as path)\n",
      "                        this the name of the files to be merged the format of\n",
      "                        the files should be chr start stop (the asterisk to\n",
      "                        match file names)\n",
      "  --merged-filename ''\n",
      "                        this is the name of the merged region file\n",
      "  --job-size 20 (as int)\n",
      "                        number of jobs\n",
      "  --walltime 2h\n",
      "  --mem 10G\n",
      "  --numThreads 1 (as int)\n",
      "  --container '/mnt/vast/hpc/csg/containers/lmm.sif'\n",
      "\n",
      "Sections\n",
      "  regions:              Just run this step is you have a file per chromosome\n",
      "    Workflow Options:\n",
      "      --region-files ''\n",
      "                        If you have one file per chromosome and need to\n",
      "                        concatenate into a df and create a single file provide\n",
      "                        the region_files\n",
      "  bgenix_1:             Extract the regions\n",
      "  bgenix_2:             Create the bgi files\n",
      "  bgenix_3:             Create variant list\n",
      "\n"
     ]
    }
   ],
   "source": [
    "sos run /home/dmc2245/project/UKBB_GWAS_dev/workflow/113022_bgenix_ldblocks.ipynb -h"
   ]
  },
  {
   "cell_type": "code",
   "execution_count": null,
   "id": "a79e11e2-9666-41f9-8b9f-43067f6502ba",
   "metadata": {
    "kernel": "SoS"
   },
   "outputs": [],
   "source": [
    "[global]\n",
    "# Specify the working dir\n",
    "parameter: cwd = path\n",
    "# Provide the genofile prefix name\n",
    "parameter: genofile_prefix = ''\n",
    "# Provide the genofile suffix name\n",
    "parameter: genofile_suffix = ''\n",
    "# Provide the acompannying sample file if the genofile is bgen format\n",
    "parameter: sample_file = path\n",
    "# Provide the region file as chr start stop\n",
    "parameter: region_file = path('.')\n",
    "# Provide a file with a column Id for related samples\n",
    "parameter: related_samples = path('.')\n",
    "# Exclusion sample file name generated from the related samples\n",
    "parameter: excluded_samples = ''\n",
    "# Provide the name of the merged region file if you want to create it\n",
    "parameter: merged_filename = ''\n",
    "# Number of jobs\n",
    "parameter: job_size = 20\n",
    "# Specify the walltime\n",
    "parameter: walltime = '2h'\n",
    "# Specify the memory\n",
    "parameter: mem = '10G'\n",
    "# Specify the number of threads\n",
    "parameter: numThreads = 1\n",
    "# Specify the container path\n",
    "parameter: container = '/mnt/vast/hpc/csg/containers/lmm.sif'"
   ]
  },
  {
   "cell_type": "code",
   "execution_count": null,
   "id": "ca07edb0-3c7e-4e45-ad09-d331e6c3b0aa",
   "metadata": {
    "kernel": "SoS"
   },
   "outputs": [],
   "source": [
    "# Just run this step is you have a file per chromosome \n",
    "[regions (create region file)]\n",
    "#If you have one file per chromosome and need to concatenate into a df and create a single file provide the region_files\n",
    "parameter: region_files=''\n",
    "input: region_files\n",
    "output: merged_filename\n",
    "task: trunk_workers = 1, trunk_size = job_size, walltime = walltime, mem = mem, cores = numThreads, tags = f'{step_name}_{_output:bn}'\n",
    "python: expand = \"${ }\", stderr = f'{_output:n}.stderr', stdout = f'{_output:n}.stdout'\n",
    "    import glob\n",
    "    import pandas as pd\n",
    "    region_files=sorted(glob.glob(${_input:dr}+'/chr*.bed'), key=len)\n",
    "    df = pd.concat((pd.read_csv(f,header=0, sep=\"\\t\",dtype=str) for f in region_files), ignore_index=True)\n",
    "    df.columns = df.columns.str.strip()\n",
    "    df['chr'] = df['chr'].str.strip()\n",
    "    df['start'] = df['start'].str.strip()\n",
    "    df['stop'] = df['stop'].str.strip()\n",
    "    df['chr'] = df['chr'].str.replace('chr','')\n",
    "    df.to_csv(${_output:r}, header=0, sep=' ', index=False)"
   ]
  },
  {
   "cell_type": "code",
   "execution_count": null,
   "id": "252c65cd-118a-43f6-bb80-9575bb71d83f",
   "metadata": {
    "kernel": "SoS"
   },
   "outputs": [],
   "source": [
    "# Extract the regions\n",
    "[bgenix_1 (extract region and samples)]\n",
    "import pandas as pd\n",
    "df=pd.read_csv(region_file,header=0,sep=\"\\t\", names=[\"chr\", \"start\", \"stop\"], dtype=str)\n",
    "df.columns = df.columns.str.strip()\n",
    "df1 = df.apply(lambda x: x.str.strip() if x.dtype == \"object\" else x)\n",
    "df1['chr'] = df1['chr'].str.replace('chr','')\n",
    "df1['chr'] = df1['chr'].str.zfill(2)\n",
    "region=df1.values.tolist()\n",
    "input: for_each = 'region' #is a list of regions for all the chromosomes\n",
    "output: region_bgen = f'{cwd}/{_region[0]}/{_region[0]}_{_region[1]}_{_region[2]}.bgen'\n",
    "task: trunk_workers = 1, trunk_size = job_size, walltime = walltime, mem = mem, cores = numThreads, tags = f'{step_name}_{_output:bn}'\n",
    "bash: container=container, expand = \"${ }\", stderr = f'{_output:n}.stderr', stdout = f'{_output:n}.stdout'\n",
    "    bgenix \\\n",
    "    -g ${genofile_prefix}${_region[0].strip('0')}${genofile_suffix} \\\n",
    "    -incl-range ${_region[0]}:${_region[1]}-${_region[2]}  > ${_output}"
   ]
  },
  {
   "cell_type": "code",
   "execution_count": null,
   "id": "a93c29bd-c93e-4c32-81c6-25424d7b928b",
   "metadata": {
    "kernel": "SoS"
   },
   "outputs": [],
   "source": [
    "# Create the bgi files\n",
    "[bgenix_2 (create index)]\n",
    "input: named_output('region_bgen')\n",
    "output: f'{_input}.bgi'\n",
    "task: trunk_workers = 1, trunk_size = job_size, walltime = walltime, mem = mem, cores = numThreads, tags = f'{step_name}_{_output:bn}'\n",
    "bash: container=container, expand = \"${ }\", stderr = f'{_output:n}.stderr', stdout = f'{_output:n}.stdout'\n",
    "    bgenix -g ${_input} -index"
   ]
  },
  {
   "cell_type": "code",
   "execution_count": null,
   "id": "23d90cff-1679-4b86-8608-e94486cd5247",
   "metadata": {
    "kernel": "SoS"
   },
   "outputs": [],
   "source": [
    "# Create variant list\n",
    "[bgenix_3 (create variants)]\n",
    "input: named_output('region_bgen')\n",
    "output: f'{_input:n}.variants'\n",
    "task: trunk_workers = 1, trunk_size = job_size, walltime = walltime, mem = mem, cores = numThreads, tags = f'{step_name}_{_output:bn}'\n",
    "bash: container=container, expand = \"${ }\", stderr = f'{_output:n}.stderr', stdout = f'{_output:n}.stdout'\n",
    "    bgenix -g ${_input} -list > ${_output}"
   ]
  },
  {
   "cell_type": "raw",
   "id": "a2f45dd7-0ebc-4e7e-9e7f-807dc06a9d45",
   "metadata": {
    "kernel": "SoS"
   },
   "source": [
    "# Create subsets of bgen files with specific variants\n",
    "[bgenix_4 (select specific snps)]\n",
    "parameter:rsid_file = path('.')\n",
    "input: named_output('region_bgen')\n",
    "output:  f'{cwd}/{_input:bn}.subset.bgen'\n",
    "task: trunk_workers = 1, trunk_size = job_size, walltime = walltime, mem = mem, cores = numThreads, tags = f'{step_name}_{_output:bn}'\n",
    "bash: container=container, expand = \"${ }\", stderr = f'{_output:n}.stderr', stdout = f'{_output:n}.stdout'\n",
    "    bgenix \\\n",
    "    -g ${_input} \\\n",
    "    -incl-rsids ${rsid_file} > ${_output}"
   ]
  },
  {
   "cell_type": "code",
   "execution_count": null,
   "id": "f42af821-45eb-43ee-be4b-55388bd6c2c6",
   "metadata": {
    "kernel": "Bash"
   },
   "outputs": [],
   "source": []
  }
 ],
 "metadata": {
  "kernelspec": {
   "display_name": "SoS",
   "language": "sos",
   "name": "sos"
  },
  "language_info": {
   "codemirror_mode": "sos",
   "file_extension": ".sos",
   "mimetype": "text/x-sos",
   "name": "sos",
   "nbconvert_exporter": "sos_notebook.converter.SoS_Exporter",
   "pygments_lexer": "sos"
  },
  "sos": {
   "kernels": [
    [
     "Bash",
     "calysto_bash",
     "Bash",
     "#E6EEFF",
     "shell"
    ],
    [
     "SoS",
     "sos",
     "",
     "",
     "sos"
    ]
   ],
   "version": "0.22.6"
  }
 },
 "nbformat": 4,
 "nbformat_minor": 5
}
