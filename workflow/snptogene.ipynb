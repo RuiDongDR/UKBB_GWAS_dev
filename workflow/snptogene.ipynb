{
 "cells": [
  {
   "cell_type": "markdown",
   "metadata": {
    "kernel": "SoS"
   },
   "source": [
    "# Post-GWAS analyses"
   ]
  },
  {
   "cell_type": "markdown",
   "metadata": {
    "kernel": "SoS"
   },
   "source": [
    "# Aim\n",
    "\n",
    "The aim of this notebook is to be able to carry out post-GWAS analyses such as SNP annotation to genes, expression pathway and other.\n",
    "\n",
    "Here [spnGeneSets v1.12](https://www.umc.edu/SoPH/Departments-and-Faculty/Data-Science/Research/Services/Software.html) and annovar are used, however FUMA is a web-based resource that is also useful for this purpose \n"
   ]
  },
  {
   "cell_type": "markdown",
   "metadata": {
    "kernel": "SoS"
   },
   "source": [
    "## To run this notebook"
   ]
  },
  {
   "cell_type": "markdown",
   "metadata": {
    "kernel": "SoS"
   },
   "source": [
    "## 1. bim_from_plink\n",
    "```\n",
    "sos run ~/project/UKBB_GWAS_dev/workflow/snptogene.ipynb bim_from_plink \\\n",
    "    --cwd ~/output\\\n",
    "    --bimfiles ~/ukb23155_c{1..22}_b0_v1.bim \\\n",
    "    --bim_name ~/ukb23155_chr1_chr22.bim \\\n",
    "    --container_annovar ~/annovar.sif\n",
    "```\n",
    "\n",
    "## 2. bim_from_bgen\n",
    "\n",
    "```\n",
    "sos run ~/project/UKBB_GWAS_dev/workflow/snptogene.ipynb bim_from_bgen \\\n",
    "    --cwd ~/output\\\n",
    "    --genoFile ~/ukb_imp_chr{1..22}_v3.bgen \\\n",
    "    --bim_name \"imputed_variants\" \\\n",
    "    --container_lmm ~/lmm.sif\n",
    "```\n",
    "\n",
    "## 3. annovar\n",
    "\n",
    "rsid should be True or False depending on the SNP field of the data (does it have rsid or not?)\n",
    "\n",
    "```\n",
    "sos run ~/project/UKBB_GWAS_dev/workflow/snptogene.ipynb annovar \\\n",
    "    --cwd ~/output\\\n",
    "    --p_filter 0.05 \\\n",
    "    --rsid True \\ \n",
    "    --sumstatsFile *.snp_stats.gz \\\n",
    "    --bim_name ~/imputed_variants.merged.bim \\\n",
    "    --humandb /gpfs/ysm/datasets/db/annovar/humandb \\\n",
    "    --xref_path /gpfs/gibbs/pi/dewan/data/UKBiobank \\\n",
    "    --build 'hg19' \\\n",
    "    --container_lmm ~/annovar.sif\n",
    "```\n"
   ]
  },
  {
   "cell_type": "code",
   "execution_count": 1,
   "metadata": {
    "kernel": "Bash"
   },
   "outputs": [
    {
     "name": "stderr",
     "output_type": "stream",
     "text": [
      "/home/dmc2245/miniconda3/lib/python3.8/site-packages/sos_notebook/kernel.py:1334: DeprecationWarning: Kernel._parent_header is deprecated in ipykernel 6. Use .get_parent()\n",
      "  msg['msg_id'] = self._parent_header['header']['msg_id']\n"
     ]
    },
    {
     "name": "stdout",
     "output_type": "stream",
     "text": [
      "usage: sos run snptogene.ipynb [workflow_name | -t targets] [options] [workflow_options]\n",
      "  workflow_name:        Single or combined workflows defined in this script\n",
      "  targets:              One or more targets to generate\n",
      "  options:              Single-hyphen sos parameters (see \"sos run -h\" for details)\n",
      "  workflow_options:     Double-hyphen workflow-specific parameters\n",
      "\n",
      "Workflows:\n",
      "  bim_from_plink\n",
      "  bim_from_bgen\n",
      "  annovar\n",
      "  snp_to_gene\n",
      "\n",
      "Global Workflow Options:\n",
      "  --cwd VAL (as path, required)\n",
      "                        the output directory for generated files\n",
      "  --annovar-module '\\nmodule load ANNOVAR/2020Jun08-foss-2018b-Perl-5.28.0\\necho \"Module annovar loaded\"\\n{cmd}\\n'\n",
      "                        Load annovar module from cluster\n",
      "  --container-annovar 'gaow/gatk4-annovar'\n",
      "                        Software container option\n",
      "  --container-lmm 'statisticalgenetics/lmm:2.3'\n",
      "  --job-size 1 (as int)\n",
      "                        For cluster jobs, number commands to run per job\n",
      "  --walltime 15h\n",
      "                        Wall clock time expected\n",
      "  --mem 30G\n",
      "                        Memory expected\n",
      "  --numThreads 10 (as int)\n",
      "                        Number of threads\n",
      "\n",
      "Sections\n",
      "  bim_from_plink:       Merge all the *.bim files into a single file. Needs to\n",
      "                        be run once per type of data (e.g. genotype, exome)\n",
      "    Workflow Options:\n",
      "      --bimfiles  paths\n",
      "\n",
      "                        Path to the *.bim files to merge\n",
      "      --bim-name VAL (as path, required)\n",
      "                        Specify path of the merged bim file\n",
      "  bim_from_bgen:        Create a merged *.bim file from mfi files\n",
      "    Workflow Options:\n",
      "      --genoFile  paths\n",
      "\n",
      "                        Specify bgen files path\n",
      "      --bim-name VAL (as str, required)\n",
      "                        Specify name of the merged bim file\n",
      "  annovar_1:            Get the list of significantly associated SNPs\n",
      "    Workflow Options:\n",
      "      --bp POS\n",
      "                        Column name for BP\n",
      "      --pval P\n",
      "                        Column name for p-value\n",
      "      --snp SNP\n",
      "                        Column name for SNP\n",
      "      --p-filter 5e-08 (as float)\n",
      "                        Set p-value to filter for annotations\n",
      "      --[no-]rsid (default to False)\n",
      "                        If the data contains rsid instead of chr:pos:ref:alt\n",
      "      --sumstatsFile VAL (as path, required)\n",
      "                        Path sumstats file\n",
      "  annovar_2:            Get chr, start, end, ref_allele, alt_allele format\n",
      "    Workflow Options:\n",
      "      --bim-name VAL (as path, required)\n",
      "  annovar_3:            Annotate variants file using ANNOVAR\n",
      "    Workflow Options:\n",
      "      --humandb VAL (as path, required)\n",
      "                        humandb path for ANNOVAR\n",
      "      --xref-path VAL (as path, required)\n",
      "                        Path to x-ref file\n",
      "      --build hg38\n",
      "                        Human genome build hg19 or hg38\n",
      "      --x-ref  path(f\"{xref_path}/mart_export_2021_LOFtools.txt\")\n",
      "\n",
      "                        Annovar protocol add xreffile to option without\n",
      "                        -exonicsplicing mart_export_2019_LOFtools3.txt #xreffile\n",
      "                        latest option -> Phenotype description,HGNC symbol,MIM\n",
      "                        morbid description,CGD_CONDITION,CGD_inh,CGD_man,CGD_com\n",
      "                        m,LOF_tools\n",
      "      --operation g g g gx r r r f f f f f f f f f f f (as list)\n",
      "                        Annovar operation\n",
      "      --arg \"-splicing 12 -exonicsplicing\" \"-splicing 30\" \"-splicing 12 -exonicsplicing\" \"-splicing 12\"               (as list)\n",
      "                        Annovar args\n",
      "  annovar_4:            Re-format the annovar csv to have the BETA, SE and P in\n",
      "                        the front and with headers\n",
      "  snp_to_gene:          Annotate snps to gene\n",
      "    Workflow Options:\n",
      "      --bp POS\n",
      "                        Column name for BP\n",
      "      --pval P\n",
      "                        Column name for p-value\n",
      "      --snp SNP\n",
      "                        Column name for SNP\n",
      "      --sumstatsFile VAL (as path, required)\n",
      "                        Path sumstats file\n",
      "      --hg VAL (as int, required)\n",
      "                        Genome assembly hg_37, hg_38\n",
      "\n"
     ]
    }
   ],
   "source": [
    "sos run snptogene.ipynb -h"
   ]
  },
  {
   "cell_type": "code",
   "execution_count": 1,
   "metadata": {
    "kernel": "SoS"
   },
   "outputs": [],
   "source": [
    "[global]\n",
    "# the output directory for generated files\n",
    "parameter: cwd = path\n",
    "# Load annovar module from cluster\n",
    "parameter: annovar_module = '''\n",
    "module load ANNOVAR/2020Jun08-foss-2018b-Perl-5.28.0\n",
    "echo \"Module annovar loaded\"\n",
    "{cmd}\n",
    "'''\n",
    "# Software container option\n",
    "parameter: container_annovar = 'gaow/gatk4-annovar'\n",
    "parameter: container_lmm = 'statisticalgenetics/lmm:2.3'\n",
    "# For cluster jobs, number commands to run per job\n",
    "parameter: job_size = 1\n",
    "# Wall clock time expected\n",
    "parameter: walltime = \"15h\"\n",
    "# Memory expected\n",
    "parameter: mem = \"30G\"\n",
    "# Number of threads\n",
    "parameter: numThreads = 10"
   ]
  },
  {
   "cell_type": "markdown",
   "metadata": {
    "kernel": "SoS"
   },
   "source": [
    "## Step to merge *.bim files from plink formatted data (e.g exome data in the UKBB, genotype array data)"
   ]
  },
  {
   "cell_type": "code",
   "execution_count": null,
   "metadata": {
    "kernel": "SoS"
   },
   "outputs": [],
   "source": [
    "# Merge all the *.bim files into a single file. Needs to be run once per type of data (e.g. genotype, exome)\n",
    "[bim_from_plink]\n",
    "# Path to the *.bim files to merge\n",
    "parameter: bimfiles= paths\n",
    "# Specify path of the merged bim file\n",
    "parameter: bim_name = path\n",
    "input: bimfiles \n",
    "output: bim_name\n",
    "task: trunk_workers = 1, walltime = '10h', mem = '10G', cores = numThreads, tags = f'{step_name}_{_output:bn}'\n",
    "bash: expand= \"${ }\", stderr = f'{_output:n}.stderr', stdout = f'{_output:n}.stdout' \n",
    "      cat ${_input} >> ${_output}"
   ]
  },
  {
   "cell_type": "markdown",
   "metadata": {
    "kernel": "SoS"
   },
   "source": [
    "## Step to create a list of variants from *.bgen files and a merged *.bim file to annotate (e.g imputed genotype data UKBB)"
   ]
  },
  {
   "cell_type": "code",
   "execution_count": null,
   "metadata": {
    "kernel": "SoS"
   },
   "outputs": [],
   "source": [
    "# Create a merged *.bim file from mfi files\n",
    "[bim_from_bgen]\n",
    "# Specify bgen files path\n",
    "parameter: genoFile = paths\n",
    "# Specify name of the merged bim file\n",
    "parameter: bim_name = str\n",
    "# The input here is the bgen file from which to extract the list of variants\n",
    "input: genoFile, group_by=1\n",
    "output: f'{cwd}/{_input:bn}.bim'\n",
    "task: trunk_workers = 1, walltime = walltime, mem = mem, cores = numThreads, tags = f'{step_name}_{_output:bn}'\n",
    "bash: container=container_lmm, expand= \"${ }\", stderr = f'{_output:n}.stderr', stdout = f'{_output:n}.stdout'\n",
    "    # Create the bim for each mfi \n",
    "    # From the ubk_mfi file get the chr, alternate_id, pos, allele 1 (alternative and usually minor) and allele 2 (reference and usually major)\n",
    "    # Add the 0 cM column \n",
    "    cat ${_input}| awk ' { gsub(\"_\",\":\",$1); print substr($1,1,1), $1, $3, $5, $4 }' |awk 'BEGIN{FS=OFS=\" \"}{$2 = $2 OFS 0}1'> ${_output}"
   ]
  },
  {
   "cell_type": "markdown",
   "metadata": {
    "kernel": "SoS"
   },
   "source": [
    "## Steps to annotate summary statistics files using annovar"
   ]
  },
  {
   "cell_type": "code",
   "execution_count": null,
   "metadata": {
    "kernel": "SoS"
   },
   "outputs": [],
   "source": [
    "# Get the list of significantly associated SNPs\n",
    "[annovar_1]\n",
    "# Column name for BP\n",
    "parameter: bp = 'POS'\n",
    "# Column name for p-value\n",
    "parameter: pval = 'P'\n",
    "# Column name for SNP\n",
    "parameter: snp = 'SNP'\n",
    "# Set p-value to filter for annotations\n",
    "parameter: p_filter=5e-8\n",
    "# If the data contains rsid instead of chr:pos:ref:alt\n",
    "parameter: rsid = False\n",
    "# Path sumstats file\n",
    "parameter: sumstatsFile = path\n",
    "input: sumstatsFile\n",
    "output: f'{cwd}/{_input:bnn}.snp_annotate'\n",
    "task: trunk_workers = 1, trunk_size = job_size, walltime = walltime, mem = mem, tags = f'{step_name}_{_output:bn}'\n",
    "R: container=container_lmm, expand='${ }', stderr = f'{_output}.stderr', stdout = f'{_output}.stdout'\n",
    "    library('dplyr')\n",
    "    # Import the sumstats file as dataframe\n",
    "    data <- read.table(gzfile('${_input}'), sep='\\t', header=T)\n",
    "    # Filter SNPs with p-val <5e-08\n",
    "    # Subset data to obtain only chr, pos, snp, beta,se and p for gene mapping\n",
    "    # for the imputed data change the SNP field from rs to chr:pos:ref:alt \n",
    "    if (${\"TRUE\" if rsid else \"FALSE\"}){\n",
    "      sig.p <- data %>%\n",
    "         filter(P < ${p_filter}) %>%\n",
    "         select(CHR, POS, REF, ALT, BETA, SE, P, SNP)\n",
    "      #sig.p$SNP <- paste(sig.p$CHR, sig.p$POS, sig.p$REF, sig.p$ALT, sep=\":\")\n",
    "      sig.p <- sig.p %>%\n",
    "          select(SNP,BETA,SE,P)\n",
    "    } else {\n",
    "      sig.p <- data %>%\n",
    "      filter(P < ${p_filter}) %>%\n",
    "      select(SNP,BETA,SE,P)\n",
    "    }  \n",
    "    write.table(sig.p, '${_output}', sep = \" \", quote=FALSE, row.names=FALSE, col.names=FALSE) "
   ]
  },
  {
   "cell_type": "code",
   "execution_count": null,
   "metadata": {
    "kernel": "SoS"
   },
   "outputs": [],
   "source": [
    "# Get chr, start, end, ref_allele, alt_allele format\n",
    "[annovar_2]\n",
    "parameter: bim_name = path\n",
    "output: f'{_input:n}.avinput'\n",
    "task: trunk_workers = 1, walltime = walltime, mem = mem, cores = numThreads, tags = f'{step_name}_{_output:bn}'\n",
    "bash: expand= \"${ }\", stderr = f'{_output}.stderr', stdout = f'{_output}.stdout' \n",
    "    # find the variants that are in the input file from the previous step (summary stats) in the bim file created in steps bim_from_plink or bim_from_bgen\n",
    "    # be careful make sure the variants are in the same format as in the bim file (e.g chr1 or 1) inconsistent files cause wrong results\n",
    "    awk -F\" \" 'NR==FNR{a[$1]=$1\" \"$2\" \"$3\" \"$4; next} ($2 in a){print $1,$2,$3,$4,$5,$6,a[$2]}' ${_input} ${bim_name} > ${_output:n}.tmp\n",
    "    # create the annovar input file, the imputed data has only bi-allelic variants\n",
    "    awk '{print $1, $4, $4 + (length($6) - 1), $6, $5, $7, $8, $9, $10}' ${_output:n}.tmp >  ${_output}\n",
    "    # remove temporary files\n",
    "    rm -f ${_output:n}.tmp "
   ]
  },
  {
   "cell_type": "code",
   "execution_count": null,
   "metadata": {
    "kernel": "SoS"
   },
   "outputs": [],
   "source": [
    "# Annotate variants file using ANNOVAR\n",
    "[annovar_3]\n",
    "# humandb path for ANNOVAR\n",
    "parameter: humandb = path\n",
    "# Path to x-ref file\n",
    "parameter: xref_path = path\n",
    "# Human genome build hg19 or hg38\n",
    "parameter: build = 'hg38'\n",
    "# Annovar protocol\n",
    "if build == 'hg19':\n",
    "    protocol = ['refGene', 'refGeneWithVer', 'knownGene', 'ensGene', 'phastConsElements46way', 'gwasCatalog', 'gnomad211_exome', 'avsnp150', 'dbnsfp42a', 'dbscsnv11', 'gene4denovo201907']\n",
    "    operation = ['g', 'g', 'g', 'g', 'r', 'r', 'f', 'f', 'f', 'f', 'f']\n",
    "    arg = ['\"-splicing 12 -exonicsplicing\"', '\"-splicing 30\"', '\"-splicing 12 -exonicsplicing\"', '\"-splicing 12\"', '', '', '', '', '', '', '']\n",
    "else:\n",
    "    protocol = ['refGene', 'refGeneWithVer', 'knownGene', 'ensGene', 'phastConsElements30way', 'encRegTfbsClustered', 'gwasCatalog', 'gnomad30_genome', 'gnomad211_exome', 'gme', 'kaviar_20150923', 'avsnp150', 'dbnsfp41a', 'dbscsnv11', 'clinvar_20220320', 'gene4denovo201907']\n",
    "    operation = ['g', 'g', 'g', 'gx', 'r', 'r', 'r', 'f', 'f', 'f', 'f', 'f', 'f', 'f', 'f', 'f']\n",
    "    arg = ['\"-splicing 12 -exonicsplicing\"', '\"-splicing 30\"', '\"-splicing 12 -exonicsplicing\"', '\"-splicing 12\"', '', '', '', '', '', '', '', '', '', '', '', '']\n",
    "    \n",
    "#add xreffile to option without -exonicsplicing\n",
    "#mart_export_2019_LOFtools3.txt #xreffile latest option -> Phenotype description,HGNC symbol,MIM morbid description,CGD_CONDITION,CGD_inh,CGD_man,CGD_comm,LOF_tools\n",
    "parameter: x_ref = path(f\"{xref_path}/mart_export_2021_LOFtools.txt\")\n",
    "output: anno_file = f'{cwd}/{_input:bn}.{build}_multianno.csv'\n",
    "task: trunk_workers = 1, walltime = walltime, mem = mem, cores = numThreads, tags = f'{step_name}_{_output:bn}', template = '{cmd}' if executable('annotate_variation.pl').target_exists() else annovar_module\n",
    "bash: container=container_annovar, volumes=[f'{humandb:a}:{humandb:a}', f'{x_ref:ad}:{x_ref:ad}'], expand=\"${ }\", stderr=f'{_output:n}.err', stdout=f'{_output:n}.out'\n",
    "    #do not add -intronhgvs as option -> writes cDNA variants as HGVS but creates issues (+2 splice site reported only)\n",
    "    #-nastring . can only be . for VCF files\n",
    "    #regsnpintron might cause shifted lines (be carefull using)\n",
    "    table_annovar.pl \\\n",
    "        ${_input} \\\n",
    "        ${humandb} \\\n",
    "        -buildver ${build} \\\n",
    "        -out ${_output:nn}\\\n",
    "        -otherinfo\\\n",
    "        -remove \\\n",
    "        -polish \\\n",
    "        -nastring . \\\n",
    "        -protocol ${\",\".join(protocol)}\\\n",
    "        -operation ${\",\".join(operation)} \\\n",
    "        -arg ${\",\".join(arg)} \\\n",
    "        -csvout \\\n",
    "        -xreffile ${x_ref} "
   ]
  },
  {
   "cell_type": "code",
   "execution_count": null,
   "metadata": {
    "kernel": "SoS"
   },
   "outputs": [],
   "source": [
    "# Re-format the annovar csv to have the BETA, SE and P in the front and with headers\n",
    "[annovar_4]\n",
    "input: named_output('anno_file')\n",
    "output: f'{cwd}/{_input:bn}.formatted.csv'\n",
    "task: trunk_workers = 1, walltime = walltime, mem = mem, cores = numThreads, tags = f'{step_name}_{_output:bn}'\n",
    "python: expand= \"${ }\", stderr = f'{_output}.stderr', stdout = f'{_output}.stdout' \n",
    "    import pandas as pd\n",
    "    import numpy as np\n",
    "    import csv\n",
    "    df = pd.read_csv('${_input}', header=0)\n",
    "    df1 = df[[\"Otherinfo1\"]]\n",
    "    df1 = df1.astype(str)\n",
    "    df2 = df1[\"Otherinfo1\"].str.split(\" \", n = 4, expand = True)\n",
    "    df2.columns = [\"alternate_id\", \"BETA\", \"SE\", \"P\"]\n",
    "    df = df2.join(df)\n",
    "    df.to_csv('${_output}', index=False)"
   ]
  },
  {
   "cell_type": "code",
   "execution_count": 2,
   "metadata": {
    "kernel": "SoS"
   },
   "outputs": [],
   "source": [
    "# Annotate snps to gene\n",
    "[snp_to_gene]\n",
    "# Column name for BP\n",
    "parameter: bp = 'POS'\n",
    "# Column name for p-value\n",
    "parameter: pval = 'P'\n",
    "# Column name for SNP\n",
    "parameter: snp = 'SNP'\n",
    "# Path sumstats file\n",
    "parameter: sumstatsFile = path\n",
    "# Genome assembly hg_37, hg_38\n",
    "parameter: hg = int\n",
    "input: sumstatsFile\n",
    "output: f'{_input:nn}.gene_ann'      \n",
    "task: trunk_workers = 1, trunk_size = job_size, walltime = walltime, mem = mem, tags = f'{step_name}_{_output:bn}'\n",
    "R: expand='${ }', stderr = f'{_output:n}.stderr', stdout = f'{_output:n}.stdout'\n",
    "    library('snpGeneSets')\n",
    "    library('dplyr')\n",
    "    # Import the sumstats file as dataframe\n",
    "    data <- read.table(gzfile('${_input}'), header=T)\n",
    "    head(data)\n",
    "    # Filter SNPs with p-val <5e-06\n",
    "    # Subset data to obtain only chr, pos and snp for gene mapping\n",
    "    sig.p <- data %>%\n",
    "      filter(P < 5e-8) %>%\n",
    "      mutate(chr = CHR,\n",
    "             pos = ${bp},\n",
    "             snp = as.character(${snp})) %>%\n",
    "      select(chr, pos, snp)\n",
    "    head(sig.p)\n",
    "    # Get the annotation of SNPs with different genome assemblies\n",
    "    snpMapAnn<- getSNPMap(sig.p$snp, GRCh=${hg})\n",
    "    # Mapping SNPs to genes (define gene boundary ‘up’ for the upstream region and ‘down’ for the downstream region with default value of 2,000 bp for both)\n",
    "    snpGeneMapAnn<- snp2Gene(snpMapAnn$rsid_map$snp)\n",
    "    cat(\"The unique number of genes is\",length(unique(snpGeneMapAnn$map$gene_id),\"\\n\"))\n",
    "    cat(\"The number of variants that could not be mapped to a gene is:\",length(snpGeneMapAnn$other),\"\\n\")\n",
    "    #Get the gene-name and gene-id for the mapped variants\n",
    "    gene_mapped <- getGeneMap(snpGeneMapAnn$map$gene_id)$gene_map\n",
    "    # Merge the datasets\n",
    "    snp_gene = merge(x = snpMapAnn37$rsid_map,y = snpGeneMapAnn$map[,c(\"snp\", \"gene_id\")],by=\"snp\", all.x=TRUE)\n",
    "    snp_gene_2 = merge(x = snp_gene,y = gene_mapped[,c(\"gene_id\", \"gene_name\")],by=\"gene_id\", all.x=TRUE)\n",
    "    names(snp_gene_2)[names(snp_gene_2) == 'snp'] <- 'SNP'\n",
    "    snp_gene_3 = merge(x = snp_gene_2,y = data[,c(\"A1\", \"A2\", \"N\", \"AF1\",\"P\",\"BETA\", \"SE\", \"INFO\",\"SNP\")],by=\"SNP\", all.x=TRUE)\n",
    "    # Get the final table with ordered pval\n",
    "    final_gene_set <- snp_gene_3 %>%\n",
    "     select(chr, ${snp}, pos, A1, A2, N, AF1, BETA, SE, ${pval}, INFO, gene_id, gene_name) %>%\n",
    "     arrange(P)\n",
    "    names(final_gene_set)[names(final_gene_set) == 'chr'] <- 'CHR'\n",
    "    names(final_gene_set)[names(final_gene_set) == 'pos'] <- 'POS'\n",
    "    # Write results to a table\n",
    "    write.table(final_gene_set, '${_output}', sep = \"\\t\", quote=FALSE, row.names=FALSE)"
   ]
  }
 ],
 "metadata": {
  "kernelspec": {
   "display_name": "SoS",
   "language": "sos",
   "name": "sos"
  },
  "language_info": {
   "codemirror_mode": "sos",
   "file_extension": ".sos",
   "mimetype": "text/x-sos",
   "name": "sos",
   "nbconvert_exporter": "sos_notebook.converter.SoS_Exporter",
   "pygments_lexer": "sos"
  },
  "sos": {
   "kernels": [
    [
     "Bash",
     "calysto_bash",
     "Bash",
     "#E6EEFF",
     "shell"
    ],
    [
     "SoS",
     "sos",
     "",
     "",
     "sos"
    ]
   ],
   "version": "0.22.6"
  }
 },
 "nbformat": 4,
 "nbformat_minor": 4
}
