{
 "cells": [
  {
   "cell_type": "markdown",
   "id": "a41530ff-0872-4b74-8dfb-cb5bcb26ba53",
   "metadata": {
    "kernel": "SoS",
    "tags": []
   },
   "source": [
    "# Compare Regenie new versions and our previous version on the interaciton analysis"
   ]
  },
  {
   "cell_type": "markdown",
   "id": "9bdaef52-1b5c-4dc1-b53a-a067f8f38ff6",
   "metadata": {
    "kernel": "SoS"
   },
   "source": [
    "- The program: /home/gl2776/working/interaction/versionV3.0.3/regenie_v3.0.3  (downloaded from https://github.com/rgcgithub/regenie/releases/tag/v3.0.3)\n",
    "- The pipeline: /home/gl2776/working/interaction/versionV3.0.3/Regenie.3.0.3.ipynb"
   ]
  },
  {
   "cell_type": "markdown",
   "id": "d50491f9-4ea7-43a9-afe4-716f37244f8e",
   "metadata": {
    "kernel": "SoS"
   },
   "source": [
    "## MWE\n",
    "Only test first 10 variants for simplification"
   ]
  },
  {
   "cell_type": "code",
   "execution_count": null,
   "id": "630f4104-431c-4202-a10a-20754e961da3",
   "metadata": {
    "kernel": "Bash",
    "tags": []
   },
   "outputs": [],
   "source": [
    "#!/bin/sh\n",
    "#$ -l h_rt=2:00:00\n",
    "#$ -l h_vmem=3G\n",
    "#$ -N MWE_interaction\n",
    "#$ -o /home/gl2776/working/interaction/versionV3.0.3/20220425_MWE/MWE_interaction-$JOB_ID.out\n",
    "#$ -e /home/gl2776/working/interaction/versionV3.0.3/20220425_MWE/MWE_interaction-$JOB_ID.err  \n",
    "#$ -j y\n",
    "#$ -q csg.q\n",
    "#$ -S /bin/bash\n",
    "export PATH=$HOME/miniconda3/bin:$PATH\n",
    "module load Singularity/3.5.3\n",
    "mwe=~/UKBiobank/MWE_regenie\n",
    "sos run /home/gl2776/working/interaction/versionV3.0.3/Regenie.3.0.3.ipynb \\\n",
    "    regenie\\\n",
    "    --cwd /home/gl2776/working/interaction/versionV3.0.3/20220425_MWE \\\n",
    "    --bfile ${mwe}/1000G_data/1000G.EUR.filtered.pruned.bed \\\n",
    "    --genoFile ${mwe}/1000G_data/1000G.EUR.bed\\\n",
    "    --phenoFile ${mwe}/1000G_data/1000G.EUR.pheno.x \\\n",
    "    --formatFile /home/gl2776/working/UKBB_GWAS_dev/data/regenie_template.yml \\\n",
    "    --regenieFile /home/gl2776/working/interaction/versionV3.0.3/regenie_v3.0.3 \\\n",
    "    --phenoCol x\\\n",
    "    --covarCol sex  \\\n",
    "    --qCovarCol \\\n",
    "    --bsize 1000\\\n",
    "    --lowmem_dir /home/gl2776/working/interaction/versionV3.0.3/20220425_MWE/scratch60 \\\n",
    "    --trait bt \\\n",
    "    --bgenMinMAF 0.001 \\\n",
    "    --bgenMinINFO 0.8\\\n",
    "    --maf_filter 0.001\\9\n",
    "    --geno_filter 0.1\\\n",
    "    --hwe_filter 5e-08\\\n",
    "    --mind_filter 0.1\\\n",
    "    --minMAC 5\\\n",
    "    --job_size 10\\\n",
    "    --container_lmm /home/gl2776/containers/lmm.sif\\\n",
    "    --container_marp /home/gl2776/containers/marp.sif \\\n",
    "    -c /home/gl2776/working/bioworkflows/admin/csg.yml \\\n",
    "    -q csg -s build \\\n",
    "    &> /home/gl2776/working/interaction/versionV3.0.3/20220425_MWE/MWE_interaction.log"
   ]
  },
  {
   "cell_type": "markdown",
   "id": "a8300db4-9aa1-42a2-83da-cea8e700c2c6",
   "metadata": {
    "kernel": "Python3",
    "tags": []
   },
   "source": [
    "## Comparison"
   ]
  },
  {
   "cell_type": "code",
   "execution_count": 2,
   "id": "06cc6d2d-e98b-44b0-a9a9-ba88abaf74c6",
   "metadata": {
    "kernel": "Python3",
    "tags": []
   },
   "outputs": [
    {
     "data": {
      "text/plain": [
       "10"
      ]
     },
     "execution_count": 2,
     "metadata": {},
     "output_type": "execute_result"
    }
   ],
   "source": [
    "import pandas as pd \n",
    "import os\n",
    "path = \"/home/gl2776/working/interaction/newv/112421_regenie_interaction_pipeline_mwe/cache\"\n",
    "filelist=[]\n",
    "for file in os.listdir(path):\n",
    "    if file.endswith(\".gz\"):\n",
    "        filelist.append(os.path.join(path, file))\n",
    "len(filelist)"
   ]
  },
  {
   "cell_type": "code",
   "execution_count": 5,
   "id": "59c8969a-c020-4c52-a27b-b561a5e563b8",
   "metadata": {
    "kernel": "Python3"
   },
   "outputs": [
    {
     "data": {
      "text/html": [
       "<div>\n",
       "<style scoped>\n",
       "    .dataframe tbody tr th:only-of-type {\n",
       "        vertical-align: middle;\n",
       "    }\n",
       "\n",
       "    .dataframe tbody tr th {\n",
       "        vertical-align: top;\n",
       "    }\n",
       "\n",
       "    .dataframe thead th {\n",
       "        text-align: right;\n",
       "    }\n",
       "</style>\n",
       "<table border=\"1\" class=\"dataframe\">\n",
       "  <thead>\n",
       "    <tr style=\"text-align: right;\">\n",
       "      <th></th>\n",
       "      <th>CHROM</th>\n",
       "      <th>GENPOS</th>\n",
       "      <th>ID</th>\n",
       "      <th>ALLELE0</th>\n",
       "      <th>ALLELE1</th>\n",
       "      <th>A1FREQ</th>\n",
       "      <th>N</th>\n",
       "      <th>TEST</th>\n",
       "      <th>BETA</th>\n",
       "      <th>SE</th>\n",
       "      <th>CHISQ</th>\n",
       "      <th>LOG10P</th>\n",
       "      <th>EXTRA</th>\n",
       "    </tr>\n",
       "  </thead>\n",
       "  <tbody>\n",
       "    <tr>\n",
       "      <th>0</th>\n",
       "      <td>1</td>\n",
       "      <td>11008</td>\n",
       "      <td>rs575272151</td>\n",
       "      <td>C</td>\n",
       "      <td>G</td>\n",
       "      <td>0.088957</td>\n",
       "      <td>489</td>\n",
       "      <td>ADD</td>\n",
       "      <td>0.021594</td>\n",
       "      <td>0.249341</td>\n",
       "      <td>0.007500</td>\n",
       "      <td>0.031057</td>\n",
       "      <td>NaN</td>\n",
       "    </tr>\n",
       "    <tr>\n",
       "      <th>1</th>\n",
       "      <td>1</td>\n",
       "      <td>11008</td>\n",
       "      <td>rs575272151</td>\n",
       "      <td>C</td>\n",
       "      <td>G</td>\n",
       "      <td>0.088957</td>\n",
       "      <td>489</td>\n",
       "      <td>ADD-INT_rs2691277</td>\n",
       "      <td>0.051650</td>\n",
       "      <td>0.699344</td>\n",
       "      <td>0.005455</td>\n",
       "      <td>0.026353</td>\n",
       "      <td>NaN</td>\n",
       "    </tr>\n",
       "    <tr>\n",
       "      <th>2</th>\n",
       "      <td>1</td>\n",
       "      <td>11008</td>\n",
       "      <td>rs575272151</td>\n",
       "      <td>C</td>\n",
       "      <td>G</td>\n",
       "      <td>0.088957</td>\n",
       "      <td>489</td>\n",
       "      <td>ADD-INT_SNP</td>\n",
       "      <td>0.004379</td>\n",
       "      <td>0.252079</td>\n",
       "      <td>0.000302</td>\n",
       "      <td>0.006062</td>\n",
       "      <td>NaN</td>\n",
       "    </tr>\n",
       "    <tr>\n",
       "      <th>3</th>\n",
       "      <td>1</td>\n",
       "      <td>11008</td>\n",
       "      <td>rs575272151</td>\n",
       "      <td>C</td>\n",
       "      <td>G</td>\n",
       "      <td>0.088957</td>\n",
       "      <td>489</td>\n",
       "      <td>ADD-INT_SNPxrs2691277</td>\n",
       "      <td>0.714704</td>\n",
       "      <td>1.608240</td>\n",
       "      <td>0.197493</td>\n",
       "      <td>0.182599</td>\n",
       "      <td>NaN</td>\n",
       "    </tr>\n",
       "    <tr>\n",
       "      <th>4</th>\n",
       "      <td>1</td>\n",
       "      <td>11008</td>\n",
       "      <td>rs575272151</td>\n",
       "      <td>C</td>\n",
       "      <td>G</td>\n",
       "      <td>0.088957</td>\n",
       "      <td>489</td>\n",
       "      <td>ADD-INT_2DF</td>\n",
       "      <td>NaN</td>\n",
       "      <td>NaN</td>\n",
       "      <td>0.205231</td>\n",
       "      <td>0.044565</td>\n",
       "      <td>NaN</td>\n",
       "    </tr>\n",
       "    <tr>\n",
       "      <th>...</th>\n",
       "      <td>...</td>\n",
       "      <td>...</td>\n",
       "      <td>...</td>\n",
       "      <td>...</td>\n",
       "      <td>...</td>\n",
       "      <td>...</td>\n",
       "      <td>...</td>\n",
       "      <td>...</td>\n",
       "      <td>...</td>\n",
       "      <td>...</td>\n",
       "      <td>...</td>\n",
       "      <td>...</td>\n",
       "      <td>...</td>\n",
       "    </tr>\n",
       "    <tr>\n",
       "      <th>1051614</th>\n",
       "      <td>22</td>\n",
       "      <td>51228439</td>\n",
       "      <td>rs373624689</td>\n",
       "      <td>G</td>\n",
       "      <td>A</td>\n",
       "      <td>0.055215</td>\n",
       "      <td>489</td>\n",
       "      <td>ADD-INT_SNPxrs2691277</td>\n",
       "      <td>-1.446300</td>\n",
       "      <td>1.478840</td>\n",
       "      <td>0.956472</td>\n",
       "      <td>0.484024</td>\n",
       "      <td>NaN</td>\n",
       "    </tr>\n",
       "    <tr>\n",
       "      <th>1051615</th>\n",
       "      <td>22</td>\n",
       "      <td>51228439</td>\n",
       "      <td>rs373624689</td>\n",
       "      <td>G</td>\n",
       "      <td>A</td>\n",
       "      <td>0.055215</td>\n",
       "      <td>489</td>\n",
       "      <td>ADD-INT_2DF</td>\n",
       "      <td>NaN</td>\n",
       "      <td>NaN</td>\n",
       "      <td>1.138900</td>\n",
       "      <td>0.247309</td>\n",
       "      <td>NaN</td>\n",
       "    </tr>\n",
       "    <tr>\n",
       "      <th>1051616</th>\n",
       "      <td>22</td>\n",
       "      <td>51234799</td>\n",
       "      <td>rs191117135</td>\n",
       "      <td>G</td>\n",
       "      <td>A</td>\n",
       "      <td>0.016360</td>\n",
       "      <td>489</td>\n",
       "      <td>ADD</td>\n",
       "      <td>0.552075</td>\n",
       "      <td>0.564396</td>\n",
       "      <td>0.956813</td>\n",
       "      <td>0.484138</td>\n",
       "      <td>NaN</td>\n",
       "    </tr>\n",
       "    <tr>\n",
       "      <th>1051617</th>\n",
       "      <td>22</td>\n",
       "      <td>51237364</td>\n",
       "      <td>rs200607599</td>\n",
       "      <td>A</td>\n",
       "      <td>G</td>\n",
       "      <td>0.012270</td>\n",
       "      <td>489</td>\n",
       "      <td>ADD</td>\n",
       "      <td>0.725586</td>\n",
       "      <td>0.657836</td>\n",
       "      <td>1.216580</td>\n",
       "      <td>0.568584</td>\n",
       "      <td>NaN</td>\n",
       "    </tr>\n",
       "    <tr>\n",
       "      <th>1051618</th>\n",
       "      <td>22</td>\n",
       "      <td>51244237</td>\n",
       "      <td>rs575160859</td>\n",
       "      <td>C</td>\n",
       "      <td>T</td>\n",
       "      <td>0.010225</td>\n",
       "      <td>489</td>\n",
       "      <td>ADD</td>\n",
       "      <td>-0.461764</td>\n",
       "      <td>0.712127</td>\n",
       "      <td>0.420461</td>\n",
       "      <td>0.286756</td>\n",
       "      <td>NaN</td>\n",
       "    </tr>\n",
       "  </tbody>\n",
       "</table>\n",
       "<p>1051619 rows × 13 columns</p>\n",
       "</div>"
      ],
      "text/plain": [
       "         CHROM    GENPOS           ID ALLELE0 ALLELE1    A1FREQ    N  \\\n",
       "0            1     11008  rs575272151       C       G  0.088957  489   \n",
       "1            1     11008  rs575272151       C       G  0.088957  489   \n",
       "2            1     11008  rs575272151       C       G  0.088957  489   \n",
       "3            1     11008  rs575272151       C       G  0.088957  489   \n",
       "4            1     11008  rs575272151       C       G  0.088957  489   \n",
       "...        ...       ...          ...     ...     ...       ...  ...   \n",
       "1051614     22  51228439  rs373624689       G       A  0.055215  489   \n",
       "1051615     22  51228439  rs373624689       G       A  0.055215  489   \n",
       "1051616     22  51234799  rs191117135       G       A  0.016360  489   \n",
       "1051617     22  51237364  rs200607599       A       G  0.012270  489   \n",
       "1051618     22  51244237  rs575160859       C       T  0.010225  489   \n",
       "\n",
       "                          TEST      BETA        SE     CHISQ    LOG10P  EXTRA  \n",
       "0                          ADD  0.021594  0.249341  0.007500  0.031057    NaN  \n",
       "1            ADD-INT_rs2691277  0.051650  0.699344  0.005455  0.026353    NaN  \n",
       "2                  ADD-INT_SNP  0.004379  0.252079  0.000302  0.006062    NaN  \n",
       "3        ADD-INT_SNPxrs2691277  0.714704  1.608240  0.197493  0.182599    NaN  \n",
       "4                  ADD-INT_2DF       NaN       NaN  0.205231  0.044565    NaN  \n",
       "...                        ...       ...       ...       ...       ...    ...  \n",
       "1051614  ADD-INT_SNPxrs2691277 -1.446300  1.478840  0.956472  0.484024    NaN  \n",
       "1051615            ADD-INT_2DF       NaN       NaN  1.138900  0.247309    NaN  \n",
       "1051616                    ADD  0.552075  0.564396  0.956813  0.484138    NaN  \n",
       "1051617                    ADD  0.725586  0.657836  1.216580  0.568584    NaN  \n",
       "1051618                    ADD -0.461764  0.712127  0.420461  0.286756    NaN  \n",
       "\n",
       "[1051619 rows x 13 columns]"
      ]
     },
     "execution_count": 5,
     "metadata": {},
     "output_type": "execute_result"
    }
   ],
   "source": [
    "file = filelist[0]\n",
    "data = pd.read_csv(file,header=0,sep=\" \")\n",
    "data  "
   ]
  },
  {
   "cell_type": "code",
   "execution_count": 6,
   "id": "221bee4a-97a1-4644-a800-8d51721712b9",
   "metadata": {
    "kernel": "Python3"
   },
   "outputs": [
    {
     "data": {
      "text/plain": [
       "count    1.051105e+06\n",
       "mean     3.281600e-01\n",
       "std      3.440780e-01\n",
       "min      4.777550e-07\n",
       "25%      1.015460e-01\n",
       "50%      2.093170e-01\n",
       "75%      4.441780e-01\n",
       "max      5.103510e+00\n",
       "Name: LOG10P, dtype: float64"
      ]
     },
     "execution_count": 6,
     "metadata": {},
     "output_type": "execute_result"
    }
   ],
   "source": [
    "data[\"LOG10P\"].describe()"
   ]
  },
  {
   "cell_type": "code",
   "execution_count": 7,
   "id": "120a5e76-8059-4376-a273-7094a1459516",
   "metadata": {
    "kernel": "Python3"
   },
   "outputs": [
    {
     "data": {
      "text/plain": [
       "<AxesSubplot:>"
      ]
     },
     "execution_count": 7,
     "metadata": {},
     "output_type": "execute_result"
    },
    {
     "data": {
      "image/png": "[encoded data removed]",
      "text/plain": [
       "<Figure size 432x288 with 1 Axes>"
      ]
     },
     "metadata": {
      "needs_background": "light"
     },
     "output_type": "display_data"
    }
   ],
   "source": [
    "data[\"LOG10P\"].hist()"
   ]
  },
  {
   "cell_type": "code",
   "execution_count": 9,
   "id": "2fbda676-9863-4495-9176-7120f561e93d",
   "metadata": {
    "kernel": "Python3"
   },
   "outputs": [
    {
     "data": {
      "text/plain": [
       "<AxesSubplot:xlabel='GENPOS', ylabel='LOG10P'>"
      ]
     },
     "execution_count": 9,
     "metadata": {},
     "output_type": "execute_result"
    },
    {
     "data": {
      "image/png": "[encoded data removed]",
      "text/plain": [
       "<Figure size 432x288 with 1 Axes>"
      ]
     },
     "metadata": {
      "needs_background": "light"
     },
     "output_type": "display_data"
    }
   ],
   "source": [
    "data.plot(kind = 'scatter', x = 'GENPOS', y = \"LOG10P\")"
   ]
  },
  {
   "cell_type": "code",
   "execution_count": null,
   "id": "28b60592-aaf4-4bb1-a8a4-0959b05c77fa",
   "metadata": {
    "kernel": "Python3"
   },
   "outputs": [],
   "source": []
  }
 ],
 "metadata": {
  "kernelspec": {
   "display_name": "SoS",
   "language": "sos",
   "name": "sos"
  },
  "language_info": {
   "codemirror_mode": "sos",
   "file_extension": ".sos",
   "mimetype": "text/x-sos",
   "name": "sos",
   "nbconvert_exporter": "sos_notebook.converter.SoS_Exporter",
   "pygments_lexer": "sos"
  },
  "sos": {
   "kernels": [
    [
     "Bash",
     "bash",
     "Bash",
     "#E6EEFF",
     ""
    ],
    [
     "Python3",
     "python3",
     "Python3",
     "#FFD91A",
     ""
    ]
   ],
   "version": "0.22.9"
  }
 },
 "nbformat": 4,
 "nbformat_minor": 5
}
