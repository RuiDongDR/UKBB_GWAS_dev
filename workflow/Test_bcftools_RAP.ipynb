{
 "cells": [
  {
   "cell_type": "markdown",
   "id": "0d2aa6b0-211e-44d0-a279-714644a59985",
   "metadata": {
    "kernel": "SoS",
    "tags": []
   },
   "source": [
    "## Understand filtering strategy for the RAP 500K WES data"
   ]
  },
  {
   "cell_type": "code",
   "execution_count": 2,
   "id": "6f73c63d-a58f-4b88-8579-6232639577e9",
   "metadata": {
    "kernel": "Bash",
    "tags": []
   },
   "outputs": [
    {
     "name": "stdout",
     "output_type": "stream",
     "text": [
      "\n"
     ]
    }
   ],
   "source": [
    "module load BCFTOOLS/1.16"
   ]
  },
  {
   "cell_type": "code",
   "execution_count": null,
   "id": "a160a436-6531-4917-8930-a1213e61f6da",
   "metadata": {
    "kernel": "Bash",
    "tags": []
   },
   "outputs": [
    {
     "name": "stderr",
     "output_type": "stream",
     "text": [
      "[MetaKernelApp] ERROR | KeyboardInterrupt caught in kernel.\n"
     ]
    }
   ],
   "source": [
    "## Create a random sample of the vcf file\n",
    "bcftools view /mnt/vast/hpc/csg/UKBiobank/data/exome_files/project_VCF/ukb23156_c3_b12_v1.vcf.gz| vcfrandomsample -r 0.012 > ~/test/bcftools/chr3_mwe.subset.vcf"
   ]
  },
  {
   "cell_type": "code",
   "execution_count": 4,
   "id": "e15226b1-0e21-4f9f-9383-54a33603b760",
   "metadata": {
    "kernel": "Bash",
    "tags": []
   },
   "outputs": [],
   "source": [
    "## Subset the vcf to have 10 specific samples\n",
    "bcftools view --force-samples -o ~/test/bcftools/chr3_mwe.subset_10samples.vcf.gz -O z -s 1434748,5523981,5023838,4023729,4442146,5654789,4515669,1129683,5327043,4744741 ~/test/bcftools/chr3_mwe.subset.vcf.gz"
   ]
  },
  {
   "cell_type": "code",
   "execution_count": 4,
   "id": "64d7bcbd-a69e-4abe-bd0d-771ff3e9bdf8",
   "metadata": {
    "kernel": "Bash",
    "tags": []
   },
   "outputs": [
    {
     "name": "stdout",
     "output_type": "stream",
     "text": [
      "\u001b[0m\u001b[01;31mchr3_mwe.subset.vcf.gz\u001b[0m      chr3_mwe.subset.vcf.gz.tbi\n",
      "chr3_mwe.subset.vcf.gz.csi  \u001b[01;31mchr3_mwe.subset_10samples.vcf.gz\u001b[0m\n",
      "\n"
     ]
    }
   ],
   "source": [
    "cd ~/test/bcftools/ && ls"
   ]
  },
  {
   "cell_type": "code",
   "execution_count": 2,
   "id": "aee2ec67-76fb-468a-8ddd-6aa2ad2c5702",
   "metadata": {
    "kernel": "Bash"
   },
   "outputs": [
    {
     "name": "stdout",
     "output_type": "stream",
     "text": [
      "206\n",
      "\n"
     ]
    }
   ],
   "source": [
    "## View the number of lines in the VCF file suppresing the header\n",
    "bcftools view -H ~/test/bcftools/chr3_mwe.subset.vcf.gz | wc -l"
   ]
  },
  {
   "cell_type": "code",
   "execution_count": 5,
   "id": "1ca662e3-d4bc-4930-ab56-96a7d6062b8e",
   "metadata": {
    "kernel": "Bash"
   },
   "outputs": [
    {
     "name": "stdout",
     "output_type": "stream",
     "text": [
      "\n"
     ]
    }
   ],
   "source": [
    "## Index the vcf file with tabix\n",
    "bcftools index -t -f ~/test/bcftools/chr3_mwe.subset_10samples.vcf.gz"
   ]
  },
  {
   "cell_type": "code",
   "execution_count": 6,
   "id": "42ecb3ec-f2d6-4b58-9dc6-a58684c586d4",
   "metadata": {
    "kernel": "Bash"
   },
   "outputs": [
    {
     "name": "stdout",
     "output_type": "stream",
     "text": [
      "\u001b[0m\u001b[01;31mchr3_mwe.subset.vcf.gz\u001b[0m      \u001b[01;31mchr3_mwe.subset_10samples.vcf.gz\u001b[0m\n",
      "chr3_mwe.subset.vcf.gz.csi  chr3_mwe.subset_10samples.vcf.gz.tbi\n",
      "chr3_mwe.subset.vcf.gz.tbi\n",
      "\n"
     ]
    }
   ],
   "source": [
    "cd ~/test/bcftools/ && ls"
   ]
  },
  {
   "cell_type": "code",
   "execution_count": 7,
   "id": "76fe8375-634d-4583-9c88-a6735a0b7b97",
   "metadata": {
    "kernel": "Bash"
   },
   "outputs": [
    {
     "name": "stdout",
     "output_type": "stream",
     "text": [
      "1434748\n",
      "5523981\n",
      "5023838\n",
      "4023729\n",
      "4442146\n",
      "5654789\n",
      "4515669\n",
      "1129683\n",
      "5327043\n",
      "4744741\n",
      "\n"
     ]
    }
   ],
   "source": [
    "## Show the samples present in the VCF\n",
    "bcftools query -l ~/test/bcftools/chr3_mwe.subset_10samples.vcf.gz"
   ]
  },
  {
   "cell_type": "code",
   "execution_count": 8,
   "id": "893d61fb-8947-4fe1-8dad-4fbcdcd14cbe",
   "metadata": {
    "kernel": "Bash"
   },
   "outputs": [
    {
     "name": "stdout",
     "output_type": "stream",
     "text": [
      "206\n",
      "\n"
     ]
    }
   ],
   "source": [
    "## Show the number of variants\n",
    "bcftools index -n ~/test/bcftools/chr3_mwe.subset_10samples.vcf.gz"
   ]
  },
  {
   "cell_type": "code",
   "execution_count": 9,
   "id": "4f7596a8-f93a-4c5e-ab75-d408bfd56ad2",
   "metadata": {
    "kernel": "Bash",
    "scrolled": true,
    "tags": []
   },
   "outputs": [
    {
     "name": "stdout",
     "output_type": "stream",
     "text": [
      "chr3\t43343244\tC\tT\tGT=0/0:AD=12,0:DP=12\tGT=0/0:AD=30,0:DP=30\tGT=0/0:AD=16,0:DP=16\tGT=0/0:AD=14,0:DP=14\tGT=0/0:AD=19,0:DP=19\tGT=0/0:AD=16,0:DP=16\tGT=0/0:AD=19,0:DP=19\tGT=0/0:AD=16,0:DP=16\tGT=0/0:AD=16,0:DP=16\tGT=0/0:AD=16,0:DP=16\t\n",
      "chr3\t43343506\tG\tGT\tGT=0/0:AD=25,0:DP=25\tGT=0/0:AD=30,0:DP=30\tGT=./.:AD=24,0:DP=24\tGT=0/0:AD=25,0:DP=25\tGT=0/0:AD=19,0:DP=19\tGT=0/0:AD=30,0:DP=30\tGT=0/0:AD=19,0:DP=19\tGT=0/0:AD=16,0:DP=16\tGT=0/0:AD=21,0:DP=21\tGT=0/0:AD=26,0:DP=26\t\n",
      "chr3\t43347372\tG\tA\tGT=0/0:AD=16,0:DP=16\tGT=0/0:AD=22,0:DP=22\tGT=0/0:AD=25,0:DP=25\tGT=0/0:AD=21,0:DP=21\tGT=0/0:AD=18,0:DP=18\tGT=0/0:AD=17,0:DP=17\tGT=0/0:AD=24,0:DP=24\tGT=0/0:AD=16,0:DP=16\tGT=0/0:AD=28,0:DP=28\tGT=0/0:AD=25,0:DP=25\t\n",
      "chr3\t43348524\tA\tT\tGT=0/0:AD=23,0:DP=23\tGT=0/0:AD=19,0:DP=19\tGT=0/0:AD=21,0:DP=21\tGT=0/0:AD=16,0:DP=16\tGT=0/0:AD=17,0:DP=17\tGT=0/0:AD=16,0:DP=16\tGT=0/0:AD=24,0:DP=24\tGT=0/0:AD=16,0:DP=16\tGT=0/0:AD=16,0:DP=16\tGT=0/0:AD=16,0:DP=16\t\n",
      "chr3\t43366896\tC\tT\tGT=0/0:AD=16,0:DP=16\tGT=0/0:AD=16,0:DP=16\tGT=0/0:AD=21,0:DP=21\tGT=0/0:AD=17,0:DP=17\tGT=0/0:AD=16,0:DP=16\tGT=0/0:AD=16,0:DP=16\tGT=0/0:AD=16,0:DP=16\tGT=0/0:AD=18,0:DP=18\tGT=0/0:AD=16,0:DP=16\tGT=0/0:AD=16,0:DP=16\t\n",
      "chr3\t43366925\tC\tT\tGT=0/0:AD=16,0:DP=16\tGT=0/0:AD=16,0:DP=16\tGT=0/0:AD=21,0:DP=21\tGT=0/0:AD=17,0:DP=17\tGT=0/0:AD=16,0:DP=16\tGT=0/0:AD=16,0:DP=16\tGT=0/0:AD=16,0:DP=16\tGT=0/0:AD=18,0:DP=18\tGT=0/0:AD=16,0:DP=16\tGT=0/0:AD=16,0:DP=16\t\n",
      "chr3\t43366971\tT\tC\tGT=0/0:AD=16,0:DP=16\tGT=0/0:AD=16,0:DP=16\tGT=0/0:AD=21,0:DP=21\tGT=0/0:AD=17,0:DP=17\tGT=0/0:AD=16,0:DP=16\tGT=0/0:AD=16,0:DP=16\tGT=0/0:AD=16,0:DP=16\tGT=0/0:AD=18,0:DP=18\tGT=0/0:AD=16,0:DP=16\tGT=0/0:AD=16,0:DP=16\t\n",
      "chr3\t43432603\tG\tC,GCT\tGT=0/0:AD=16,0,0:DP=16\tGT=0/0:AD=16,0,0:DP=16\tGT=0/0:AD=12,0,0:DP=12\tGT=0/0:AD=17,0,0:DP=17\tGT=0/0:AD=16,0,0:DP=16\tGT=0/0:AD=16,0,0:DP=16\tGT=0/0:AD=17,0,0:DP=17\tGT=0/0:AD=17,0,0:DP=17\tGT=0/0:AD=16,0,0:DP=16\tGT=0/0:AD=17,0,0:DP=17\t\n",
      "chr3\t43555211\tT\tC\tGT=0/0:AD=12,0:DP=12\tGT=0/0:AD=17,0:DP=17\tGT=0/0:AD=9,0:DP=9\tGT=0/0:AD=12,0:DP=12\tGT=0/0:AD=17,0:DP=17\tGT=0/0:AD=16,0:DP=16\tGT=0/0:AD=16,0:DP=16\tGT=0/0:AD=9,0:DP=9\tGT=0/0:AD=21,0:DP=21\tGT=0/0:AD=12,0:DP=12\t\n",
      "chr3\t43576722\tG\tA\tGT=0/0:AD=21,0:DP=21\tGT=0/0:AD=18,0:DP=18\tGT=0/0:AD=16,0:DP=16\tGT=0/0:AD=16,0:DP=16\tGT=0/0:AD=16,0:DP=16\tGT=0/0:AD=20,0:DP=20\tGT=0/0:AD=21,0:DP=21\tGT=0/0:AD=16,0:DP=16\tGT=0/0:AD=18,0:DP=18\tGT=0/0:AD=23,0:DP=23\t\n",
      "chr3\t43577344\tT\tC\tGT=0/0:AD=14,0:DP=14\tGT=0/0:AD=12,0:DP=12\tGT=0/0:AD=5,0:DP=5\tGT=0/0:AD=12,0:DP=12\tGT=0/0:AD=12,0:DP=12\tGT=0/0:AD=20,0:DP=20\tGT=0/0:AD=14,0:DP=14\tGT=0/0:AD=10,0:DP=10\tGT=0/0:AD=9,0:DP=9\tGT=0/0:AD=9,0:DP=9\t\n",
      "chr3\t43598749\tT\tC\tGT=0/0:AD=6,0:DP=6\tGT=0/0:AD=8,0:DP=8\tGT=0/0:AD=6,0:DP=6\tGT=0/0:AD=13,0:DP=13\tGT=0/0:AD=16,0:DP=16\tGT=0/0:AD=7,0:DP=7\tGT=0/0:AD=6,0:DP=6\tGT=0/0:AD=3,0:DP=3\tGT=0/0:AD=7,0:DP=7\tGT=0/0:AD=4,0:DP=4\t\n",
      "chr3\t43605787\tT\tC\tGT=0/0:AD=25,0:DP=25\tGT=0/0:AD=16,0:DP=16\tGT=0/0:AD=16,0:DP=16\tGT=0/0:AD=16,0:DP=16\tGT=0/0:AD=16,0:DP=16\tGT=0/0:AD=16,0:DP=16\tGT=0/0:AD=17,0:DP=17\tGT=0/0:AD=16,0:DP=16\tGT=0/0:AD=20,0:DP=20\tGT=0/0:AD=18,0:DP=18\t\n",
      "chr3\t43690963\tA\tG\tGT=0/0:AD=16,0:DP=16\tGT=0/0:AD=22,0:DP=22\tGT=0/0:AD=17,0:DP=17\tGT=0/0:AD=16,0:DP=16\tGT=0/0:AD=16,0:DP=16\tGT=0/0:AD=17,0:DP=17\tGT=0/0:AD=17,0:DP=17\tGT=0/0:AD=24,0:DP=24\tGT=0/0:AD=16,0:DP=16\tGT=0/0:AD=21,0:DP=21\t\n",
      "chr3\t43690965\tA\tG\tGT=0/0:AD=16,0:DP=16\tGT=0/0:AD=22,0:DP=22\tGT=0/0:AD=17,0:DP=17\tGT=0/0:AD=16,0:DP=16\tGT=0/0:AD=16,0:DP=16\tGT=0/0:AD=17,0:DP=17\tGT=0/0:AD=17,0:DP=17\tGT=0/0:AD=24,0:DP=24\tGT=0/0:AD=16,0:DP=16\tGT=0/0:AD=21,0:DP=21\t\n",
      "chr3\t43690986\tG\tA\tGT=0/0:AD=16,0:DP=16\tGT=0/0:AD=22,0:DP=22\tGT=0/0:AD=17,0:DP=17\tGT=0/0:AD=16,0:DP=16\tGT=0/0:AD=16,0:DP=16\tGT=0/0:AD=17,0:DP=17\tGT=0/0:AD=17,0:DP=17\tGT=0/0:AD=24,0:DP=24\tGT=0/0:AD=16,0:DP=16\tGT=0/0:AD=21,0:DP=21\t\n",
      "chr3\t43715040\tG\tA\tGT=0/0:AD=18,0:DP=18\tGT=0/0:AD=16,0:DP=16\tGT=0/0:AD=22,0:DP=22\tGT=0/0:AD=16,0:DP=16\tGT=0/0:AD=16,0:DP=16\tGT=0/0:AD=17,0:DP=17\tGT=0/0:AD=21,0:DP=21\tGT=0/0:AD=25,0:DP=25\tGT=0/0:AD=16,0:DP=16\tGT=0/0:AD=20,0:DP=20\t\n",
      "chr3\t43718347\tC\tG\tGT=0/0:AD=4,0:DP=4\tGT=0/0:AD=11,0:DP=11\tGT=0/0:AD=0,0:DP=0\tGT=0/0:AD=3,0:DP=3\tGT=0/0:AD=4,0:DP=4\tGT=0/0:AD=7,0:DP=7\tGT=0/0:AD=7,0:DP=7\tGT=0/0:AD=2,0:DP=2\tGT=0/0:AD=9,0:DP=9\tGT=0/0:AD=8,0:DP=8\t\n",
      "chr3\t43718432\tT\tC\tGT=0/0:AD=16,0:DP=16\tGT=0/0:AD=16,0:DP=16\tGT=0/0:AD=16,0:DP=16\tGT=0/0:AD=16,0:DP=16\tGT=0/0:AD=16,0:DP=16\tGT=0/0:AD=16,0:DP=16\tGT=0/0:AD=16,0:DP=16\tGT=0/0:AD=16,0:DP=16\tGT=0/0:AD=16,0:DP=16\tGT=0/0:AD=17,0:DP=17\t\n",
      "chr3\t44242040\tC\tG\tGT=0/0:AD=39,0:DP=39\tGT=0/0:AD=48,0:DP=48\tGT=0/0:AD=25,0:DP=25\tGT=0/0:AD=37,0:DP=37\tGT=0/0:AD=26,0:DP=26\tGT=0/0:AD=38,0:DP=38\tGT=0/0:AD=35,0:DP=35\tGT=0/0:AD=49,0:DP=49\tGT=0/0:AD=48,0:DP=48\tGT=0/0:AD=59,0:DP=59\t\n",
      "chr3\t44242048\tG\tC,A\tGT=0/0:AD=39,0,0:DP=39\tGT=0/0:AD=48,0,0:DP=48\tGT=0/0:AD=25,0,0:DP=25\tGT=0/0:AD=37,0,0:DP=37\tGT=0/0:AD=26,0,0:DP=26\tGT=0/0:AD=38,0,0:DP=38\tGT=0/0:AD=35,0,0:DP=35\tGT=0/0:AD=49,0,0:DP=49\tGT=0/0:AD=48,0,0:DP=48\tGT=0/0:AD=59,0,0:DP=59\t\n",
      "chr3\t44242318\tG\tA\tGT=0/0:AD=21,0:DP=21\tGT=0/0:AD=16,0:DP=16\tGT=0/0:AD=16,0:DP=16\tGT=0/0:AD=26,0:DP=26\tGT=0/0:AD=33,0:DP=33\tGT=0/0:AD=16,0:DP=16\tGT=0/0:AD=18,0:DP=18\tGT=0/0:AD=21,0:DP=21\tGT=0/0:AD=35,0:DP=35\tGT=0/0:AD=16,0:DP=16\t\n",
      "chr3\t44243738\tA\tG,C\tGT=0/0:AD=26,0,0:DP=26\tGT=0/0:AD=36,0,0:DP=36\tGT=0/0:AD=18,0,0:DP=18\tGT=0/0:AD=25,0,0:DP=25\tGT=0/0:AD=21,0,0:DP=21\tGT=0/0:AD=32,0,0:DP=32\tGT=0/0:AD=24,0,0:DP=24\tGT=0/0:AD=25,0,0:DP=25\tGT=0/0:AD=40,0,0:DP=40\tGT=0/0:AD=31,0,0:DP=31\t\n",
      "chr3\t44243909\tG\tA\tGT=0/0:AD=22,0:DP=22\tGT=0/0:AD=31,0:DP=31\tGT=0/0:AD=23,0:DP=23\tGT=0/0:AD=24,0:DP=24\tGT=0/0:AD=22,0:DP=22\tGT=0/0:AD=28,0:DP=28\tGT=0/0:AD=35,0:DP=35\tGT=0/0:AD=35,0:DP=35\tGT=0/0:AD=33,0:DP=33\tGT=0/0:AD=29,0:DP=29\t\n",
      "chr3\t44244604\tAAAG\tAGAG,A\tGT=0/0:AD=22,0,0:DP=22\tGT=0/0:AD=39,0,0:DP=39\tGT=0/0:AD=22,0,0:DP=22\tGT=0/0:AD=24,0,0:DP=24\tGT=0/0:AD=37,0,0:DP=37\tGT=0/0:AD=36,0,0:DP=36\tGT=0/0:AD=43,0,0:DP=43\tGT=0/0:AD=31,0,0:DP=31\tGT=0/0:AD=33,0,0:DP=33\tGT=0/0:AD=29,0,0:DP=29\t\n",
      "chr3\t44244756\tT\tC\tGT=0/0:AD=25,0:DP=25\tGT=0/0:AD=17,0:DP=17\tGT=0/0:AD=16,0:DP=16\tGT=0/0:AD=16,0:DP=16\tGT=0/0:AD=17,0:DP=17\tGT=0/0:AD=33,0:DP=33\tGT=0/0:AD=21,0:DP=21\tGT=0/0:AD=25,0:DP=25\tGT=0/0:AD=17,0:DP=17\tGT=0/0:AD=16,0:DP=16\t\n",
      "chr3\t44245083\tT\tG\tGT=0/0:AD=21,0:DP=21\tGT=0/0:AD=17,0:DP=17\tGT=0/0:AD=16,0:DP=16\tGT=0/0:AD=16,0:DP=16\tGT=0/0:AD=17,0:DP=17\tGT=0/0:AD=33,0:DP=33\tGT=0/0:AD=21,0:DP=21\tGT=0/0:AD=16,0:DP=16\tGT=0/0:AD=17,0:DP=17\tGT=0/0:AD=16,0:DP=16\t\n",
      "chr3\t44245201\tG\tT\tGT=0/0:AD=21,0:DP=21\tGT=0/0:AD=17,0:DP=17\tGT=0/0:AD=16,0:DP=16\tGT=0/0:AD=16,0:DP=16\tGT=0/0:AD=17,0:DP=17\tGT=0/0:AD=18,0:DP=18\tGT=0/0:AD=21,0:DP=21\tGT=0/0:AD=16,0:DP=16\tGT=0/0:AD=17,0:DP=17\tGT=0/0:AD=16,0:DP=16\t\n",
      "chr3\t44254923\tC\tA\tGT=0/0:AD=18,0:DP=18\tGT=0/0:AD=16,0:DP=16\tGT=0/0:AD=11,0:DP=11\tGT=0/0:AD=18,0:DP=18\tGT=0/0:AD=9,0:DP=9\tGT=0/0:AD=11,0:DP=11\tGT=0/0:AD=14,0:DP=14\tGT=0/0:AD=7,0:DP=7\tGT=0/0:AD=14,0:DP=14\tGT=0/0:AD=16,0:DP=16\t\n",
      "chr3\t44254930\tT\tA\tGT=0/0:AD=18,0:DP=18\tGT=0/0:AD=16,0:DP=16\tGT=0/0:AD=11,0:DP=11\tGT=0/0:AD=18,0:DP=18\tGT=0/0:AD=9,0:DP=9\tGT=0/0:AD=10,0:DP=10\tGT=0/0:AD=14,0:DP=14\tGT=0/0:AD=11,0:DP=11\tGT=0/0:AD=16,0:DP=16\tGT=0/0:AD=16,0:DP=16\t\n",
      "chr3\t44256299\tT\tC\tGT=0/0:AD=16,0:DP=16\tGT=0/0:AD=16,0:DP=16\tGT=0/0:AD=16,0:DP=16\tGT=0/0:AD=16,0:DP=16\tGT=0/0:AD=16,0:DP=16\tGT=0/0:AD=16,0:DP=16\tGT=0/0:AD=16,0:DP=16\tGT=0/0:AD=16,0:DP=16\tGT=0/0:AD=16,0:DP=16\tGT=0/0:AD=16,0:DP=16\t\n",
      "chr3\t44256326\tG\tA\tGT=0/0:AD=16,0:DP=16\tGT=0/0:AD=16,0:DP=16\tGT=0/0:AD=21,0:DP=21\tGT=0/0:AD=14,0:DP=14\tGT=0/0:AD=12,0:DP=12\tGT=0/0:AD=14,0:DP=14\tGT=0/0:AD=16,0:DP=16\tGT=0/0:AD=16,0:DP=16\tGT=0/0:AD=16,0:DP=16\tGT=0/0:AD=16,0:DP=16\t\n",
      "chr3\t44256359\tG\tA\tGT=0/0:AD=14,0:DP=14\tGT=0/0:AD=12,0:DP=12\tGT=0/0:AD=16,0:DP=16\tGT=0/0:AD=9,0:DP=9\tGT=0/0:AD=8,0:DP=8\tGT=0/0:AD=14,0:DP=14\tGT=0/0:AD=11,0:DP=11\tGT=0/0:AD=12,0:DP=12\tGT=0/0:AD=11,0:DP=11\tGT=0/0:AD=7,0:DP=7\t\n",
      "chr3\t44287375\tA\tG\tGT=0/0:AD=16,0:DP=16\tGT=0/0:AD=16,0:DP=16\tGT=0/0:AD=14,0:DP=14\tGT=0/0:AD=16,0:DP=16\tGT=0/0:AD=16,0:DP=16\tGT=0/0:AD=16,0:DP=16\tGT=0/0:AD=16,0:DP=16\tGT=0/0:AD=9,0:DP=9\tGT=0/0:AD=17,0:DP=17\tGT=0/0:AD=16,0:DP=16\t\n",
      "chr3\t44287478\tA\tG\tGT=0/0:AD=21,0:DP=21\tGT=0/0:AD=16,0:DP=16\tGT=0/0:AD=16,0:DP=16\tGT=0/0:AD=16,0:DP=16\tGT=0/0:AD=14,0:DP=14\tGT=0/0:AD=14,0:DP=14\tGT=0/0:AD=16,0:DP=16\tGT=0/0:AD=18,0:DP=18\tGT=0/0:AD=17,0:DP=17\tGT=0/0:AD=16,0:DP=16\t\n",
      "chr3\t44287764\tA\tG\tGT=0/0:AD=16,0:DP=16\tGT=0/0:AD=16,0:DP=16\tGT=0/0:AD=16,0:DP=16\tGT=0/0:AD=17,0:DP=17\tGT=0/0:AD=14,0:DP=14\tGT=0/0:AD=16,0:DP=16\tGT=0/0:AD=16,0:DP=16\tGT=0/0:AD=4,0:DP=4\tGT=0/0:AD=16,0:DP=16\tGT=0/0:AD=14,0:DP=14\t\n",
      "chr3\t44290782\tC\tT\tGT=0/0:AD=16,0:DP=16\tGT=0/0:AD=18,0:DP=18\tGT=0/0:AD=16,0:DP=16\tGT=0/0:AD=17,0:DP=17\tGT=0/0:AD=16,0:DP=16\tGT=0/0:AD=16,0:DP=16\tGT=0/0:AD=16,0:DP=16\tGT=0/0:AD=16,0:DP=16\tGT=0/0:AD=16,0:DP=16\tGT=0/0:AD=24,0:DP=24\t\n",
      "chr3\t44305125\tT\tG\tGT=0/0:AD=16,0:DP=16\tGT=0/0:AD=17,0:DP=17\tGT=0/0:AD=17,0:DP=17\tGT=0/0:AD=16,0:DP=16\tGT=0/0:AD=14,0:DP=14\tGT=0/0:AD=17,0:DP=17\tGT=0/0:AD=16,0:DP=16\tGT=0/0:AD=22,0:DP=22\tGT=0/0:AD=16,0:DP=16\tGT=0/0:AD=16,0:DP=16\t\n",
      "chr3\t44305398\tC\tT\tGT=0/0:AD=16,0:DP=16\tGT=0/0:AD=17,0:DP=17\tGT=0/0:AD=4,0:DP=4\tGT=0/0:AD=16,0:DP=16\tGT=0/0:AD=12,0:DP=12\tGT=0/0:AD=17,0:DP=17\tGT=0/0:AD=16,0:DP=16\tGT=0/0:AD=16,0:DP=16\tGT=0/0:AD=16,0:DP=16\tGT=0/0:AD=11,0:DP=11\t\n",
      "chr3\t44309876\tT\tG,C\tGT=0/0:AD=12,0,0:DP=12\tGT=0/0:AD=17,0,0:DP=17\tGT=0/0:AD=12,0,0:DP=12\tGT=0/0:AD=16,0,0:DP=16\tGT=0/0:AD=17,0,0:DP=17\tGT=0/0:AD=16,0,0:DP=16\tGT=0/0:AD=16,0,0:DP=16\tGT=0/0:AD=20,0,0:DP=20\tGT=0/0:AD=16,0,0:DP=16\tGT=0/0:AD=16,0,0:DP=16\t\n",
      "chr3\t44328221\tA\tG\tGT=0/0:AD=9,0:DP=9\tGT=0/0:AD=17,0:DP=17\tGT=0/0:AD=17,0:DP=17\tGT=0/0:AD=17,0:DP=17\tGT=0/0:AD=12,0:DP=12\tGT=0/0:AD=16,0:DP=16\tGT=0/0:AD=16,0:DP=16\tGT=0/0:AD=14,0:DP=14\tGT=0/0:AD=19,0:DP=19\tGT=0/0:AD=16,0:DP=16\t\n",
      "chr3\t44331705\tG\tA\tGT=0/0:AD=7,0:DP=7\tGT=0/0:AD=9,0:DP=9\tGT=0/0:AD=3,0:DP=3\tGT=0/0:AD=9,0:DP=9\tGT=0/0:AD=7,0:DP=7\tGT=0/0:AD=11,0:DP=11\tGT=0/0:AD=11,0:DP=11\tGT=0/0:AD=9,0:DP=9\tGT=0/0:AD=9,0:DP=9\tGT=0/0:AD=7,0:DP=7\t\n",
      "chr3\t44358245\tC\tT,G\tGT=0/0:AD=9,0,0:DP=9\tGT=0/0:AD=16,0,0:DP=16\tGT=0/0:AD=9,0,0:DP=9\tGT=0/0:AD=9,0,0:DP=9\tGT=0/0:AD=4,0,0:DP=4\tGT=0/0:AD=16,0,0:DP=16\tGT=0/0:AD=16,0,0:DP=16\tGT=0/0:AD=8,0,0:DP=8\tGT=0/0:AD=14,0,0:DP=14\tGT=0/0:AD=10,0,0:DP=10\t\n",
      "chr3\t44359012\tGTT\tG,GTC\tGT=0/0:AD=17,0,0:DP=17\tGT=0/0:AD=16,0,0:DP=16\tGT=0/0:AD=16,0,0:DP=16\tGT=0/0:AD=16,0,0:DP=16\tGT=0/0:AD=16,0,0:DP=16\tGT=0/0:AD=16,0,0:DP=16\tGT=0/0:AD=24,0,0:DP=24\tGT=0/0:AD=16,0,0:DP=16\tGT=0/0:AD=17,0,0:DP=17\tGT=0/0:AD=17,0,0:DP=17\t\n",
      "chr3\t44361391\tG\tT,C\tGT=0/0:AD=16,0,0:DP=16\tGT=0/0:AD=16,0,0:DP=16\tGT=0/0:AD=16,0,0:DP=16\tGT=0/0:AD=16,0,0:DP=16\tGT=0/0:AD=18,0,0:DP=18\tGT=0/0:AD=20,0,0:DP=20\tGT=0/0:AD=16,0,0:DP=16\tGT=0/0:AD=16,0,0:DP=16\tGT=0/0:AD=16,0,0:DP=16\tGT=0/0:AD=16,0,0:DP=16\t\n",
      "chr3\t44393055\tA\tG\tGT=0/0:AD=9,0:DP=9\tGT=0/0:AD=12,0:DP=12\tGT=0/0:AD=4,0:DP=4\tGT=0/0:AD=12,0:DP=12\tGT=0/0:AD=12,0:DP=12\tGT=0/0:AD=9,0:DP=9\tGT=0/0:AD=14,0:DP=14\tGT=0/0:AD=12,0:DP=12\tGT=0/0:AD=16,0:DP=16\tGT=0/0:AD=8,0:DP=8\t\n",
      "chr3\t44396868\tT\tC\tGT=0/0:AD=22,0:DP=22\tGT=0/0:AD=22,0:DP=22\tGT=0/0:AD=11,0:DP=11\tGT=0/0:AD=16,0:DP=16\tGT=0/0:AD=21,0:DP=21\tGT=0/0:AD=17,0:DP=17\tGT=0/0:AD=17,0:DP=17\tGT=0/0:AD=16,0:DP=16\tGT=0/0:AD=13,0:DP=13\tGT=0/0:AD=16,0:DP=16\t\n",
      "chr3\t44400601\tA\tG\tGT=0/0:AD=16,0:DP=16\tGT=0/0:AD=16,0:DP=16\tGT=0/0:AD=10,0:DP=10\tGT=0/0:AD=12,0:DP=12\tGT=0/0:AD=16,0:DP=16\tGT=0/0:AD=16,0:DP=16\tGT=0/0:AD=16,0:DP=16\tGT=0/0:AD=9,0:DP=9\tGT=0/0:AD=16,0:DP=16\tGT=0/0:AD=16,0:DP=16\t\n",
      "chr3\t44400678\tG\tA\tGT=0/0:AD=2,0:DP=2\tGT=0/0:AD=15,0:DP=15\tGT=0/0:AD=2,0:DP=2\tGT=0/0:AD=7,0:DP=7\tGT=0/0:AD=9,0:DP=9\tGT=0/0:AD=5,0:DP=5\tGT=0/0:AD=13,0:DP=13\tGT=0/0:AD=3,0:DP=3\tGT=0/0:AD=11,0:DP=11\tGT=0/0:AD=4,0:DP=4\t\n",
      "chr3\t44401179\tC\tG\tGT=0/0:AD=19,0:DP=19\tGT=0/0:AD=25,0:DP=25\tGT=0/0:AD=18,0:DP=18\tGT=0/0:AD=23,0:DP=23\tGT=0/0:AD=16,0:DP=16\tGT=0/0:AD=20,0:DP=20\tGT=0/0:AD=23,0:DP=23\tGT=0/0:AD=16,0:DP=16\tGT=0/0:AD=22,0:DP=22\tGT=0/0:AD=19,0:DP=19\t\n",
      "chr3\t44407433\tA\tG\tGT=0/0:AD=16,0:DP=16\tGT=0/0:AD=16,0:DP=16\tGT=0/0:AD=9,0:DP=9\tGT=0/0:AD=12,0:DP=12\tGT=0/0:AD=16,0:DP=16\tGT=0/0:AD=14,0:DP=14\tGT=0/0:AD=17,0:DP=17\tGT=0/0:AD=7,0:DP=7\tGT=0/0:AD=16,0:DP=16\tGT=0/0:AD=14,0:DP=14\t\n",
      "chr3\t44446489\tT\tA\tGT=0/0:AD=14,0:DP=14\tGT=0/0:AD=29,0:DP=29\tGT=0/0:AD=9,0:DP=9\tGT=0/0:AD=24,0:DP=24\tGT=0/0:AD=15,0:DP=15\tGT=0/0:AD=22,0:DP=22\tGT=0/0:AD=25,0:DP=25\tGT=0/0:AD=14,0:DP=14\tGT=0/0:AD=28,0:DP=28\tGT=0/0:AD=16,0:DP=16\t\n",
      "chr3\t44447279\tC\tT\tGT=0/0:AD=16,0:DP=16\tGT=0/0:AD=29,0:DP=29\tGT=0/0:AD=18,0:DP=18\tGT=0/0:AD=24,0:DP=24\tGT=0/0:AD=23,0:DP=23\tGT=0/0:AD=22,0:DP=22\tGT=0/0:AD=25,0:DP=25\tGT=0/0:AD=19,0:DP=19\tGT=0/0:AD=28,0:DP=28\tGT=0/0:AD=18,0:DP=18\t\n",
      "chr3\t44447967\tA\tC\tGT=0/0:AD=31,0:DP=31\tGT=0/0:AD=59,0:DP=59\tGT=0/0:AD=25,0:DP=25\tGT=0/0:AD=43,0:DP=43\tGT=0/0:AD=41,0:DP=41\tGT=0/0:AD=42,0:DP=42\tGT=0/0:AD=61,0:DP=61\tGT=0/0:AD=39,0:DP=39\tGT=0/0:AD=53,0:DP=53\tGT=0/0:AD=46,0:DP=46\t\n",
      "chr3\t44448209\tT\tC\tGT=0/0:AD=31,0:DP=31\tGT=0/0:AD=59,0:DP=59\tGT=0/0:AD=25,0:DP=25\tGT=0/0:AD=43,0:DP=43\tGT=0/0:AD=41,0:DP=41\tGT=0/0:AD=42,0:DP=42\tGT=0/0:AD=61,0:DP=61\tGT=0/0:AD=39,0:DP=39\tGT=0/0:AD=53,0:DP=53\tGT=0/0:AD=46,0:DP=46\t\n",
      "chr3\t44448250\tC\tT\tGT=0/0:AD=31,0:DP=31\tGT=0/0:AD=59,0:DP=59\tGT=0/0:AD=25,0:DP=25\tGT=0/0:AD=43,0:DP=43\tGT=0/0:AD=41,0:DP=41\tGT=0/0:AD=42,0:DP=42\tGT=0/0:AD=61,0:DP=61\tGT=0/0:AD=39,0:DP=39\tGT=0/0:AD=53,0:DP=53\tGT=0/0:AD=46,0:DP=46\t\n",
      "chr3\t44448638\tC\tA\tGT=0/0:AD=16,0:DP=16\tGT=0/0:AD=23,0:DP=23\tGT=0/0:AD=16,0:DP=16\tGT=0/0:AD=16,0:DP=16\tGT=0/0:AD=22,0:DP=22\tGT=0/0:AD=16,0:DP=16\tGT=0/0:AD=16,0:DP=16\tGT=0/0:AD=25,0:DP=25\tGT=0/0:AD=16,0:DP=16\tGT=0/0:AD=16,0:DP=16\t\n",
      "chr3\t44448807\tG\tC\tGT=0/0:AD=12,0:DP=12\tGT=0/0:AD=23,0:DP=23\tGT=0/0:AD=12,0:DP=12\tGT=0/0:AD=16,0:DP=16\tGT=0/0:AD=16,0:DP=16\tGT=0/0:AD=16,0:DP=16\tGT=0/0:AD=16,0:DP=16\tGT=0/0:AD=17,0:DP=17\tGT=0/0:AD=16,0:DP=16\tGT=0/0:AD=16,0:DP=16\t\n",
      "chr3\t44450979\tC\tT\tGT=0/0:AD=18,0:DP=18\tGT=0/0:AD=16,0:DP=16\tGT=0/0:AD=16,0:DP=16\tGT=0/0:AD=16,0:DP=16\tGT=0/0:AD=17,0:DP=17\tGT=0/0:AD=16,0:DP=16\tGT=0/0:AD=16,0:DP=16\tGT=0/0:AD=16,0:DP=16\tGT=0/0:AD=16,0:DP=16\tGT=0/0:AD=19,0:DP=19\t\n",
      "chr3\t44455231\tG\tA\tGT=0/0:AD=16,0:DP=16\tGT=0/0:AD=18,0:DP=18\tGT=0/0:AD=23,0:DP=23\tGT=0/0:AD=19,0:DP=19\tGT=0/0:AD=16,0:DP=16\tGT=0/0:AD=16,0:DP=16\tGT=0/0:AD=16,0:DP=16\tGT=0/0:AD=16,0:DP=16\tGT=0/0:AD=16,0:DP=16\tGT=0/0:AD=16,0:DP=16\t\n",
      "chr3\t44499464\tG\tA\tGT=0/0:AD=61,0:DP=61\tGT=0/0:AD=69,0:DP=69\tGT=0/0:AD=38,0:DP=38\tGT=0/0:AD=70,0:DP=70\tGT=0/0:AD=55,0:DP=55\tGT=0/0:AD=59,0:DP=59\tGT=0/0:AD=64,0:DP=64\tGT=0/0:AD=54,0:DP=54\tGT=0/0:AD=76,0:DP=76\tGT=0/0:AD=64,0:DP=64\t\n",
      "chr3\t44499559\tT\tC\tGT=0/0:AD=61,0:DP=61\tGT=0/0:AD=69,0:DP=69\tGT=0/0:AD=38,0:DP=38\tGT=0/0:AD=70,0:DP=70\tGT=0/0:AD=55,0:DP=55\tGT=0/0:AD=59,0:DP=59\tGT=0/0:AD=64,0:DP=64\tGT=0/0:AD=54,0:DP=54\tGT=0/0:AD=76,0:DP=76\tGT=0/0:AD=64,0:DP=64\t\n",
      "chr3\t44499600\tC\tG\tGT=0/0:AD=61,0:DP=61\tGT=0/0:AD=69,0:DP=69\tGT=0/0:AD=38,0:DP=38\tGT=0/0:AD=70,0:DP=70\tGT=0/0:AD=55,0:DP=55\tGT=0/0:AD=59,0:DP=59\tGT=0/0:AD=64,0:DP=64\tGT=0/0:AD=54,0:DP=54\tGT=0/0:AD=76,0:DP=76\tGT=0/0:AD=64,0:DP=64\t\n",
      "chr3\t44499639\tC\tT\tGT=0/0:AD=61,0:DP=61\tGT=0/0:AD=69,0:DP=69\tGT=0/0:AD=38,0:DP=38\tGT=0/0:AD=70,0:DP=70\tGT=0/0:AD=55,0:DP=55\tGT=0/0:AD=59,0:DP=59\tGT=0/0:AD=64,0:DP=64\tGT=0/0:AD=54,0:DP=54\tGT=0/0:AD=76,0:DP=76\tGT=0/0:AD=64,0:DP=64\t\n",
      "chr3\t44499707\tC\tT\tGT=0/0:AD=61,0:DP=61\tGT=0/0:AD=69,0:DP=69\tGT=0/0:AD=38,0:DP=38\tGT=0/0:AD=70,0:DP=70\tGT=0/0:AD=55,0:DP=55\tGT=0/0:AD=59,0:DP=59\tGT=0/0:AD=64,0:DP=64\tGT=0/0:AD=54,0:DP=54\tGT=0/0:AD=76,0:DP=76\tGT=0/0:AD=64,0:DP=64\t\n",
      "chr3\t44500679\tT\tC\tGT=0/0:AD=21,0:DP=21\tGT=0/0:AD=31,0:DP=31\tGT=0/0:AD=16,0:DP=16\tGT=0/0:AD=17,0:DP=17\tGT=0/0:AD=16,0:DP=16\tGT=0/0:AD=17,0:DP=17\tGT=0/0:AD=16,0:DP=16\tGT=0/0:AD=26,0:DP=26\tGT=0/0:AD=18,0:DP=18\tGT=0/0:AD=16,0:DP=16\t\n",
      "chr3\t44557102\tC\tG\tGT=0/0:AD=16,0:DP=16\tGT=0/0:AD=24,0:DP=24\tGT=0/0:AD=16,0:DP=16\tGT=0/0:AD=16,0:DP=16\tGT=0/0:AD=16,0:DP=16\tGT=0/0:AD=17,0:DP=17\tGT=0/0:AD=16,0:DP=16\tGT=0/0:AD=18,0:DP=18\tGT=0/0:AD=16,0:DP=16\tGT=0/0:AD=24,0:DP=24\t\n",
      "chr3\t44557327\tC\tT\tGT=0/0:AD=16,0:DP=16\tGT=0/0:AD=24,0:DP=24\tGT=0/0:AD=16,0:DP=16\tGT=0/0:AD=16,0:DP=16\tGT=0/0:AD=16,0:DP=16\tGT=0/0:AD=17,0:DP=17\tGT=0/0:AD=16,0:DP=16\tGT=0/0:AD=18,0:DP=18\tGT=0/0:AD=16,0:DP=16\tGT=0/0:AD=24,0:DP=24\t\n",
      "chr3\t44557430\tT\tC\tGT=0/0:AD=16,0:DP=16\tGT=0/0:AD=24,0:DP=24\tGT=0/0:AD=16,0:DP=16\tGT=0/0:AD=16,0:DP=16\tGT=0/0:AD=16,0:DP=16\tGT=0/0:AD=17,0:DP=17\tGT=0/0:AD=16,0:DP=16\tGT=0/0:AD=18,0:DP=18\tGT=0/0:AD=16,0:DP=16\tGT=0/0:AD=24,0:DP=24\t\n",
      "chr3\t44565672\tC\tT\tGT=0/0:AD=25,0:DP=25\tGT=0/0:AD=17,0:DP=17\tGT=0/0:AD=25,0:DP=25\tGT=0/0:AD=17,0:DP=17\tGT=0/0:AD=16,0:DP=16\tGT=0/0:AD=16,0:DP=16\tGT=0/0:AD=19,0:DP=19\tGT=0/0:AD=27,0:DP=27\tGT=0/0:AD=19,0:DP=19\tGT=0/0:AD=16,0:DP=16\t\n",
      "chr3\t44565731\tC\tT\tGT=0/0:AD=16,0:DP=16\tGT=0/0:AD=17,0:DP=17\tGT=0/0:AD=7,0:DP=7\tGT=0/0:AD=17,0:DP=17\tGT=0/0:AD=16,0:DP=16\tGT=0/0:AD=12,0:DP=12\tGT=0/0:AD=16,0:DP=16\tGT=0/0:AD=12,0:DP=12\tGT=0/0:AD=19,0:DP=19\tGT=0/0:AD=12,0:DP=12\t\n",
      "chr3\t44568370\tCTCAG\tC,CTCAT,CTTAG\tGT=0/0:AD=23,0,0,0:DP=23\tGT=0/0:AD=34,0,0,0:DP=34\tGT=0/0:AD=18,0,0,0:DP=18\tGT=0/0:AD=26,0,0,0:DP=26\tGT=0/0:AD=18,0,0,0:DP=18\tGT=0/0:AD=18,0,0,0:DP=18\tGT=0/0:AD=32,0,0,0:DP=32\tGT=0/0:AD=22,0,0,0:DP=22\tGT=0/0:AD=23,0,0,0:DP=23\tGT=0/0:AD=25,0,0,0:DP=25\t\n",
      "chr3\t44568491\tT\tC\tGT=0/0:AD=23,0:DP=23\tGT=0/0:AD=34,0:DP=34\tGT=0/0:AD=18,0:DP=18\tGT=0/0:AD=26,0:DP=26\tGT=0/0:AD=18,0:DP=18\tGT=0/0:AD=18,0:DP=18\tGT=0/0:AD=32,0:DP=32\tGT=0/0:AD=22,0:DP=22\tGT=0/0:AD=23,0:DP=23\tGT=0/0:AD=25,0:DP=25\t\n",
      "chr3\t44568519\tA\tG\tGT=0/0:AD=23,0:DP=23\tGT=0/0:AD=34,0:DP=34\tGT=0/0:AD=18,0:DP=18\tGT=0/0:AD=17,0:DP=17\tGT=0/0:AD=21,0:DP=21\tGT=0/0:AD=18,0:DP=18\tGT=0/0:AD=32,0:DP=32\tGT=0/0:AD=22,0:DP=22\tGT=0/0:AD=23,0:DP=23\tGT=0/0:AD=25,0:DP=25\t\n",
      "chr3\t44570113\tGA\tG\tGT=0/0:AD=30,0:DP=30\tGT=0/0:AD=56,0:DP=56\tGT=0/0:AD=18,0:DP=18\tGT=0/0:AD=33,0:DP=33\tGT=0/0:AD=24,0:DP=24\tGT=0/0:AD=38,0:DP=38\tGT=0/0:AD=63,0:DP=63\tGT=0/0:AD=16,0:DP=16\tGT=0/0:AD=46,0:DP=46\tGT=0/0:AD=32,0:DP=32\t\n",
      "chr3\t44570776\tT\tC,G\tGT=0/0:AD=69,0,0:DP=69\tGT=0/0:AD=56,0,0:DP=56\tGT=0/0:AD=47,0,0:DP=47\tGT=0/0:AD=82,0,0:DP=82\tGT=0/0:AD=71,0,0:DP=71\tGT=0/0:AD=72,0,0:DP=72\tGT=0/0:AD=98,0,0:DP=98\tGT=0/0:AD=55,0,0:DP=55\tGT=0/0:AD=87,0,0:DP=87\tGT=0/0:AD=73,0,0:DP=73\t\n",
      "chr3\t44570842\tC\tA\tGT=0/0:AD=56,0:DP=56\tGT=0/0:AD=70,0:DP=70\tGT=0/0:AD=29,0:DP=29\tGT=0/0:AD=67,0:DP=67\tGT=0/0:AD=52,0:DP=52\tGT=0/0:AD=56,0:DP=56\tGT=0/0:AD=70,0:DP=70\tGT=0/0:AD=44,0:DP=44\tGT=0/0:AD=84,0:DP=84\tGT=0/0:AD=37,0:DP=37\t\n",
      "chr3\t44570917\tG\tA\tGT=0/0:AD=56,0:DP=56\tGT=0/0:AD=70,0:DP=70\tGT=0/0:AD=29,0:DP=29\tGT=0/0:AD=67,0:DP=67\tGT=0/0:AD=52,0:DP=52\tGT=0/0:AD=56,0:DP=56\tGT=0/0:AD=70,0:DP=70\tGT=0/0:AD=44,0:DP=44\tGT=0/0:AD=84,0:DP=84\tGT=0/0:AD=37,0:DP=37\t\n",
      "chr3\t44571816\tA\tG\tGT=0/0:AD=34,0:DP=34\tGT=0/0:AD=59,0:DP=59\tGT=0/0:AD=29,0:DP=29\tGT=0/0:AD=37,0:DP=37\tGT=0/0:AD=31,0:DP=31\tGT=0/0:AD=39,0:DP=39\tGT=0/0:AD=56,0:DP=56\tGT=0/0:AD=19,0:DP=19\tGT=0/0:AD=54,0:DP=54\tGT=0/0:AD=37,0:DP=37\t\n",
      "chr3\t44572050\tT\tA\tGT=0/0:AD=26,0:DP=26\tGT=0/0:AD=35,0:DP=35\tGT=0/0:AD=16,0:DP=16\tGT=0/0:AD=22,0:DP=22\tGT=0/0:AD=23,0:DP=23\tGT=0/0:AD=24,0:DP=24\tGT=0/0:AD=32,0:DP=32\tGT=0/0:AD=24,0:DP=24\tGT=0/0:AD=24,0:DP=24\tGT=0/0:AD=25,0:DP=25\t\n",
      "chr3\t44594134\tG\tC,A\tGT=0/0:AD=14,0,0:DP=14\tGT=0/0:AD=19,0,0:DP=19\tGT=0/0:AD=17,0,0:DP=17\tGT=0/0:AD=18,0,0:DP=18\tGT=0/0:AD=17,0,0:DP=17\tGT=0/0:AD=16,0,0:DP=16\tGT=0/0:AD=20,0,0:DP=20\tGT=0/0:AD=15,0,0:DP=15\tGT=0/0:AD=16,0,0:DP=16\tGT=0/0:AD=16,0,0:DP=16\t\n",
      "chr3\t44594175\tA\tG\tGT=0/0:AD=17,0:DP=17\tGT=0/0:AD=19,0:DP=19\tGT=0/0:AD=17,0:DP=17\tGT=0/0:AD=18,0:DP=18\tGT=0/0:AD=17,0:DP=17\tGT=0/0:AD=16,0:DP=16\tGT=0/0:AD=20,0:DP=20\tGT=0/0:AD=16,0:DP=16\tGT=0/0:AD=16,0:DP=16\tGT=0/0:AD=16,0:DP=16\t\n",
      "chr3\t44629357\tG\tA\tGT=0/0:AD=16,0:DP=16\tGT=0/0:AD=19,0:DP=19\tGT=0/0:AD=17,0:DP=17\tGT=0/0:AD=24,0:DP=24\tGT=0/0:AD=18,0:DP=18\tGT=0/0:AD=19,0:DP=19\tGT=0/0:AD=16,0:DP=16\tGT=0/0:AD=16,0:DP=16\tGT=0/0:AD=19,0:DP=19\tGT=0/0:AD=25,0:DP=25\t\n",
      "chr3\t44629372\tC\tT\tGT=0/0:AD=16,0:DP=16\tGT=0/0:AD=19,0:DP=19\tGT=0/0:AD=17,0:DP=17\tGT=0/0:AD=24,0:DP=24\tGT=0/0:AD=18,0:DP=18\tGT=0/0:AD=19,0:DP=19\tGT=0/0:AD=16,0:DP=16\tGT=0/0:AD=16,0:DP=16\tGT=0/0:AD=19,0:DP=19\tGT=0/0:AD=25,0:DP=25\t\n",
      "chr3\t44631109\tTG\tT,TA\tGT=0/0:AD=18,0,0:DP=18\tGT=0/0:AD=18,0,0:DP=18\tGT=0/0:AD=17,0,0:DP=17\tGT=0/0:AD=16,0,0:DP=16\tGT=0/0:AD=17,0,0:DP=17\tGT=0/0:AD=16,0,0:DP=16\tGT=0/0:AD=17,0,0:DP=17\tGT=0/0:AD=21,0,0:DP=21\tGT=0/0:AD=17,0,0:DP=17\tGT=0/0:AD=26,0,0:DP=26\t\n",
      "chr3\t44632496\tG\tA\tGT=0/0:AD=18,0:DP=18\tGT=0/0:AD=18,0:DP=18\tGT=0/0:AD=25,0:DP=25\tGT=0/0:AD=17,0:DP=17\tGT=0/0:AD=17,0:DP=17\tGT=0/0:AD=17,0:DP=17\tGT=0/0:AD=20,0:DP=20\tGT=0/0:AD=18,0:DP=18\tGT=0/0:AD=16,0:DP=16\tGT=0/0:AD=16,0:DP=16\t\n",
      "chr3\t44641897\tC\tT\tGT=0/0:AD=20,0:DP=20\tGT=0/0:AD=16,0:DP=16\tGT=0/0:AD=16,0:DP=16\tGT=0/0:AD=18,0:DP=18\tGT=0/0:AD=16,0:DP=16\tGT=0/0:AD=19,0:DP=19\tGT=0/0:AD=16,0:DP=16\tGT=0/0:AD=19,0:DP=19\tGT=0/0:AD=16,0:DP=16\tGT=0/0:AD=16,0:DP=16\t\n",
      "chr3\t44642021\tTGAA\tT\tGT=0/1:AD=30,43:DP=73\tGT=0/0:AD=16,0:DP=16\tGT=0/0:AD=16,0:DP=16\tGT=0/0:AD=18,0:DP=18\tGT=0/0:AD=16,0:DP=16\tGT=0/0:AD=19,0:DP=19\tGT=0/0:AD=16,0:DP=16\tGT=0/0:AD=19,0:DP=19\tGT=0/0:AD=16,0:DP=16\tGT=0/0:AD=16,0:DP=16\t\n",
      "chr3\t44642891\tCCA\tCTA,C\tGT=0/0:AD=35,0,0:DP=35\tGT=0/0:AD=61,0,0:DP=61\tGT=0/0:AD=34,0,0:DP=34\tGT=0/0:AD=48,0,0:DP=48\tGT=0/0:AD=45,0,0:DP=45\tGT=0/0:AD=36,0,0:DP=36\tGT=0/0:AD=56,0,0:DP=56\tGT=0/0:AD=40,0,0:DP=40\tGT=0/0:AD=55,0,0:DP=55\tGT=0/0:AD=46,0,0:DP=46\t\n",
      "chr3\t44644128\tA\tG\tGT=0/0:AD=16,0:DP=16\tGT=0/0:AD=24,0:DP=24\tGT=0/0:AD=18,0:DP=18\tGT=0/0:AD=16,0:DP=16\tGT=0/0:AD=23,0:DP=23\tGT=0/0:AD=18,0:DP=18\tGT=0/0:AD=16,0:DP=16\tGT=0/0:AD=16,0:DP=16\tGT=0/0:AD=16,0:DP=16\tGT=0/0:AD=17,0:DP=17\t\n",
      "chr3\t44645357\tT\tC\tGT=0/0:AD=27,0:DP=27\tGT=0/0:AD=23,0:DP=23\tGT=0/0:AD=16,0:DP=16\tGT=0/0:AD=16,0:DP=16\tGT=0/0:AD=16,0:DP=16\tGT=0/0:AD=33,0:DP=33\tGT=0/0:AD=18,0:DP=18\tGT=0/0:AD=18,0:DP=18\tGT=0/0:AD=16,0:DP=16\tGT=0/0:AD=19,0:DP=19\t\n",
      "chr3\t44645639\tC\tT\tGT=0/0:AD=50,0:DP=50\tGT=0/0:AD=19,0:DP=19\tGT=0/0:AD=40,0:DP=40\tGT=0/0:AD=57,0:DP=57\tGT=0/0:AD=50,0:DP=50\tGT=0/0:AD=53,0:DP=53\tGT=0/0:AD=64,0:DP=64\tGT=0/0:AD=43,0:DP=43\tGT=0/0:AD=70,0:DP=70\tGT=0/0:AD=56,0:DP=56\t\n",
      "chr3\t44645830\tG\tT\tGT=0/0:AD=32,0:DP=32\tGT=0/0:AD=19,0:DP=19\tGT=0/0:AD=16,0:DP=16\tGT=0/0:AD=19,0:DP=19\tGT=0/0:AD=18,0:DP=18\tGT=0/0:AD=16,0:DP=16\tGT=0/0:AD=36,0:DP=36\tGT=0/0:AD=24,0:DP=24\tGT=0/0:AD=17,0:DP=17\tGT=0/0:AD=16,0:DP=16\t\n",
      "chr3\t44645904\tT\tC\tGT=0/0:AD=32,0:DP=32\tGT=0/0:AD=19,0:DP=19\tGT=0/0:AD=16,0:DP=16\tGT=0/0:AD=19,0:DP=19\tGT=0/0:AD=18,0:DP=18\tGT=0/0:AD=16,0:DP=16\tGT=0/0:AD=36,0:DP=36\tGT=0/0:AD=24,0:DP=24\tGT=0/0:AD=17,0:DP=17\tGT=0/0:AD=16,0:DP=16\t\n",
      "chr3\t44646114\tT\tTA\tGT=0/0:AD=32,0:DP=32\tGT=0/0:AD=19,0:DP=19\tGT=0/0:AD=16,0:DP=16\tGT=0/0:AD=19,0:DP=19\tGT=0/0:AD=18,0:DP=18\tGT=0/0:AD=16,0:DP=16\tGT=0/0:AD=36,0:DP=36\tGT=0/0:AD=24,0:DP=24\tGT=0/0:AD=17,0:DP=17\tGT=0/0:AD=16,0:DP=16\t\n",
      "chr3\t44646548\tC\tT\tGT=0/0:AD=7,0:DP=7\tGT=0/0:AD=9,0:DP=9\tGT=0/0:AD=2,0:DP=2\tGT=0/0:AD=4,0:DP=4\tGT=0/0:AD=12,0:DP=12\tGT=0/0:AD=9,0:DP=9\tGT=0/0:AD=8,0:DP=8\tGT=0/0:AD=4,0:DP=4\tGT=0/0:AD=12,0:DP=12\tGT=0/0:AD=4,0:DP=4\t\n",
      "chr3\t44646608\tG\tT\tGT=0/0:AD=2,0:DP=2\tGT=0/0:AD=4,0:DP=4\tGT=0/0:AD=0,0:DP=0\tGT=0/0:AD=4,0:DP=4\tGT=0/0:AD=6,0:DP=6\tGT=0/0:AD=2,0:DP=2\tGT=0/0:AD=6,0:DP=6\tGT=0/0:AD=2,0:DP=2\tGT=0/0:AD=2,0:DP=2\tGT=0/0:AD=3,0:DP=3\t\n",
      "chr3\t44651153\tT\tG\tGT=0/0:AD=22,0:DP=22\tGT=0/0:AD=19,0:DP=19\tGT=0/0:AD=29,0:DP=29\tGT=0/0:AD=17,0:DP=17\tGT=0/0:AD=16,0:DP=16\tGT=0/0:AD=18,0:DP=18\tGT=0/0:AD=20,0:DP=20\tGT=0/0:AD=16,0:DP=16\tGT=0/0:AD=16,0:DP=16\tGT=0/0:AD=16,0:DP=16\t\n",
      "chr3\t44659074\tCGTT\tC\tGT=./.:AD=.,0:DP=20\tGT=./.:AD=.,0:DP=16\tGT=./.:AD=.,0:DP=19\tGT=./.:AD=.,0:DP=17\tGT=./.:AD=.,0:DP=16\tGT=./.:AD=.,0:DP=16\tGT=./.:AD=.,0:DP=19\tGT=./.:AD=.,0:DP=16\tGT=./.:AD=.,0:DP=20\tGT=./.:AD=.,0:DP=16\t\n",
      "chr3\t44659873\tT\tA\tGT=0/0:AD=17,0:DP=17\tGT=0/0:AD=17,0:DP=17\tGT=0/0:AD=16,0:DP=16\tGT=0/0:AD=16,0:DP=16\tGT=0/0:AD=16,0:DP=16\tGT=0/0:AD=17,0:DP=17\tGT=0/0:AD=22,0:DP=22\tGT=0/0:AD=22,0:DP=22\tGT=0/0:AD=16,0:DP=16\tGT=0/0:AD=20,0:DP=20\t\n",
      "chr3\t44721485\tG\tA\tGT=0/0:AD=36,0:DP=36\tGT=0/0:AD=18,0:DP=18\tGT=0/0:AD=29,0:DP=29\tGT=0/0:AD=16,0:DP=16\tGT=0/0:AD=16,0:DP=16\tGT=0/0:AD=60,0:DP=60\tGT=0/0:AD=70,0:DP=70\tGT=0/0:AD=23,0:DP=23\tGT=0/0:AD=16,0:DP=16\tGT=0/0:AD=17,0:DP=17\t\n",
      "chr3\t44721737\tA\tG\tGT=0/0:AD=51,0:DP=51\tGT=0/0:AD=18,0:DP=18\tGT=0/0:AD=37,0:DP=37\tGT=0/0:AD=67,0:DP=67\tGT=0/0:AD=64,0:DP=64\tGT=0/0:AD=48,0:DP=48\tGT=0/0:AD=70,0:DP=70\tGT=0/0:AD=23,0:DP=23\tGT=0/0:AD=16,0:DP=16\tGT=0/0:AD=65,0:DP=65\t\n",
      "chr3\t44721813\tC\tG\tGT=0/0:AD=18,0:DP=18\tGT=0/0:AD=22,0:DP=22\tGT=0/0:AD=17,0:DP=17\tGT=0/0:AD=17,0:DP=17\tGT=0/0:AD=31,0:DP=31\tGT=0/0:AD=17,0:DP=17\tGT=0/0:AD=16,0:DP=16\tGT=0/0:AD=17,0:DP=17\tGT=0/0:AD=55,0:DP=55\tGT=0/0:AD=31,0:DP=31\t\n",
      "chr3\t44734554\tA\tC\tGT=0/0:AD=17,0:DP=17\tGT=0/0:AD=18,0:DP=18\tGT=0/0:AD=17,0:DP=17\tGT=0/0:AD=16,0:DP=16\tGT=0/0:AD=17,0:DP=17\tGT=0/0:AD=16,0:DP=16\tGT=0/0:AD=17,0:DP=17\tGT=0/0:AD=16,0:DP=16\tGT=0/0:AD=16,0:DP=16\tGT=0/0:AD=26,0:DP=26\t\n",
      "chr3\t44753662\tC\tT\tGT=0/0:AD=14,0:DP=14\tGT=0/0:AD=12,0:DP=12\tGT=0/0:AD=6,0:DP=6\tGT=0/0:AD=12,0:DP=12\tGT=0/0:AD=7,0:DP=7\tGT=0/0:AD=5,0:DP=5\tGT=0/0:AD=16,0:DP=16\tGT=0/0:AD=7,0:DP=7\tGT=0/0:AD=11,0:DP=11\tGT=0/0:AD=12,0:DP=12\t\n",
      "chr3\t44754150\tA\tT\tGT=0/0:AD=11,0:DP=11\tGT=0/0:AD=14,0:DP=14\tGT=0/0:AD=14,0:DP=14\tGT=0/0:AD=17,0:DP=17\tGT=0/0:AD=16,0:DP=16\tGT=0/0:AD=16,0:DP=16\tGT=0/0:AD=21,0:DP=21\tGT=0/0:AD=9,0:DP=9\tGT=0/0:AD=16,0:DP=16\tGT=0/0:AD=16,0:DP=16\t\n",
      "chr3\t44754210\tAC\tA\tGT=0/0:AD=16,0:DP=16\tGT=0/0:AD=16,0:DP=16\tGT=0/0:AD=20,0:DP=20\tGT=0/0:AD=20,0:DP=20\tGT=0/0:AD=16,0:DP=16\tGT=0/0:AD=23,0:DP=23\tGT=0/0:AD=21,0:DP=21\tGT=0/0:AD=16,0:DP=16\tGT=0/0:AD=16,0:DP=16\tGT=0/0:AD=16,0:DP=16\t\n",
      "chr3\t44774491\tT\tG\tGT=0/0:AD=11,0:DP=11\tGT=0/0:AD=15,0:DP=15\tGT=0/0:AD=8,0:DP=8\tGT=0/0:AD=16,0:DP=16\tGT=0/0:AD=8,0:DP=8\tGT=0/0:AD=9,0:DP=9\tGT=0/0:AD=16,0:DP=16\tGT=0/0:AD=14,0:DP=14\tGT=0/0:AD=11,0:DP=11\tGT=0/0:AD=14,0:DP=14\t\n",
      "chr3\t44775262\tG\tA\tGT=0/0:AD=18,0:DP=18\tGT=0/0:AD=25,0:DP=25\tGT=0/0:AD=25,0:DP=25\tGT=0/0:AD=25,0:DP=25\tGT=0/0:AD=21,0:DP=21\tGT=0/0:AD=22,0:DP=22\tGT=0/0:AD=22,0:DP=22\tGT=0/0:AD=21,0:DP=21\tGT=0/0:AD=20,0:DP=20\tGT=0/0:AD=22,0:DP=22\t\n",
      "chr3\t44784799\tC\tG\tGT=0/0:AD=12,0:DP=12\tGT=0/0:AD=16,0:DP=16\tGT=0/0:AD=9,0:DP=9\tGT=0/0:AD=6,0:DP=6\tGT=0/0:AD=4,0:DP=4\tGT=0/0:AD=14,0:DP=14\tGT=0/0:AD=12,0:DP=12\tGT=0/0:AD=9,0:DP=9\tGT=0/0:AD=7,0:DP=7\tGT=0/0:AD=2,0:DP=2\t\n",
      "chr3\t44785023\tA\tG\tGT=0/0:AD=3,0:DP=3\tGT=0/0:AD=7,0:DP=7\tGT=0/0:AD=4,0:DP=4\tGT=0/0:AD=0,0:DP=0\tGT=0/0:AD=2,0:DP=2\tGT=0/0:AD=5,0:DP=5\tGT=0/0:AD=2,0:DP=2\tGT=0/0:AD=4,0:DP=4\tGT=0/0:AD=2,0:DP=2\tGT=0/0:AD=2,0:DP=2\t\n",
      "chr3\t44794472\tA\tG\tGT=0/0:AD=16,0:DP=16\tGT=0/0:AD=16,0:DP=16\tGT=0/0:AD=7,0:DP=7\tGT=0/0:AD=12,0:DP=12\tGT=0/0:AD=13,0:DP=13\tGT=0/0:AD=16,0:DP=16\tGT=0/0:AD=16,0:DP=16\tGT=0/0:AD=12,0:DP=12\tGT=0/0:AD=12,0:DP=12\tGT=0/0:AD=17,0:DP=17\t\n",
      "chr3\t44801366\tCAATT\tC\tGT=0/0:AD=4,0:DP=4\tGT=0/0:AD=9,0:DP=9\tGT=0/0:AD=4,0:DP=4\tGT=0/0:AD=6,0:DP=6\tGT=0/0:AD=0,0:DP=0\tGT=0/0:AD=6,0:DP=6\tGT=0/0:AD=7,0:DP=7\tGT=0/0:AD=4,0:DP=4\tGT=0/0:AD=1,0:DP=1\tGT=0/0:AD=2,0:DP=2\t\n",
      "chr3\t44802805\tA\tG\tGT=0/0:AD=16,0:DP=16\tGT=0/0:AD=16,0:DP=16\tGT=0/0:AD=16,0:DP=16\tGT=0/0:AD=18,0:DP=18\tGT=0/0:AD=19,0:DP=19\tGT=0/0:AD=18,0:DP=18\tGT=0/0:AD=16,0:DP=16\tGT=0/0:AD=16,0:DP=16\tGT=0/0:AD=17,0:DP=17\tGT=0/0:AD=24,0:DP=24\t\n",
      "chr3\t44803016\tG\tA\tGT=0/0:AD=16,0:DP=16\tGT=0/0:AD=16,0:DP=16\tGT=0/0:AD=16,0:DP=16\tGT=0/0:AD=18,0:DP=18\tGT=0/0:AD=20,0:DP=20\tGT=0/0:AD=18,0:DP=18\tGT=0/0:AD=16,0:DP=16\tGT=0/0:AD=16,0:DP=16\tGT=0/0:AD=17,0:DP=17\tGT=0/0:AD=24,0:DP=24\t\n",
      "chr3\t44805179\tA\tC,G\tGT=0/0:AD=21,0,0:DP=21\tGT=0/0:AD=24,0,0:DP=24\tGT=0/0:AD=17,0,0:DP=17\tGT=0/0:AD=19,0,0:DP=19\tGT=0/0:AD=16,0,0:DP=16\tGT=0/0:AD=16,0,0:DP=16\tGT=0/0:AD=19,0,0:DP=19\tGT=0/0:AD=18,0,0:DP=18\tGT=0/0:AD=24,0,0:DP=24\tGT=0/0:AD=24,0,0:DP=24\t\n",
      "chr3\t44806054\tTCTGCATGGTCTATCTC\tT\tGT=./.:AD=.,0:DP=16\tGT=./.:AD=.,0:DP=16\tGT=./.:AD=.,0:DP=10\tGT=./.:AD=.,0:DP=12\tGT=./.:AD=.,0:DP=7\tGT=./.:AD=.,0:DP=14\tGT=./.:AD=.,0:DP=16\tGT=./.:AD=.,0:DP=14\tGT=./.:AD=.,0:DP=15\tGT=./.:AD=.,0:DP=17\t\n",
      "chr3\t44810863\tC\tT\tGT=0/0:AD=21,0:DP=21\tGT=0/0:AD=18,0:DP=18\tGT=0/0:AD=31,0:DP=31\tGT=0/0:AD=16,0:DP=16\tGT=0/0:AD=21,0:DP=21\tGT=0/0:AD=18,0:DP=18\tGT=0/0:AD=16,0:DP=16\tGT=0/0:AD=16,0:DP=16\tGT=0/0:AD=20,0:DP=20\tGT=0/0:AD=16,0:DP=16\t\n",
      "chr3\t44813179\tCTG\tC\tGT=0/0:AD=12,0:DP=12\tGT=0/0:AD=12,0:DP=12\tGT=0/0:AD=12,0:DP=12\tGT=0/0:AD=18,0:DP=18\tGT=0/0:AD=15,0:DP=15\tGT=0/0:AD=16,0:DP=16\tGT=0/0:AD=16,0:DP=16\tGT=0/0:AD=9,0:DP=9\tGT=0/0:AD=19,0:DP=19\tGT=0/0:AD=21,0:DP=21\t\n",
      "chr3\t44826154\tA\tG\tGT=0/0:AD=24,0:DP=24\tGT=0/0:AD=18,0:DP=18\tGT=0/0:AD=17,0:DP=17\tGT=0/0:AD=16,0:DP=16\tGT=0/0:AD=16,0:DP=16\tGT=0/0:AD=16,0:DP=16\tGT=0/0:AD=16,0:DP=16\tGT=0/0:AD=16,0:DP=16\tGT=0/0:AD=17,0:DP=17\tGT=0/0:AD=16,0:DP=16\t\n",
      "chr3\t44826268\tT\tC\tGT=0/0:AD=17,0:DP=17\tGT=0/0:AD=18,0:DP=18\tGT=0/0:AD=12,0:DP=12\tGT=0/0:AD=14,0:DP=14\tGT=0/0:AD=16,0:DP=16\tGT=0/0:AD=14,0:DP=14\tGT=0/0:AD=16,0:DP=16\tGT=0/0:AD=20,0:DP=20\tGT=0/0:AD=17,0:DP=17\tGT=0/0:AD=16,0:DP=16\t\n",
      "chr3\t44828182\tAT\tA\tGT=0/0:AD=9,0:DP=9\tGT=0/0:AD=7,0:DP=7\tGT=0/0:AD=12,0:DP=12\tGT=0/0:AD=17,0:DP=17\tGT=0/0:AD=12,0:DP=12\tGT=0/0:AD=8,0:DP=8\tGT=0/0:AD=16,0:DP=16\tGT=0/0:AD=12,0:DP=12\tGT=./.:AD=9,0:DP=9\tGT=0/0:AD=14,0:DP=14\t\n",
      "chr3\t44829976\tT\tC\tGT=0/0:AD=16,0:DP=16\tGT=0/0:AD=22,0:DP=22\tGT=0/0:AD=25,0:DP=25\tGT=0/0:AD=18,0:DP=18\tGT=0/0:AD=16,0:DP=16\tGT=0/0:AD=16,0:DP=16\tGT=0/0:AD=16,0:DP=16\tGT=0/0:AD=16,0:DP=16\tGT=0/0:AD=16,0:DP=16\tGT=0/0:AD=16,0:DP=16\t\n",
      "chr3\t44830044\tA\tC\tGT=0/0:AD=23,0:DP=23\tGT=0/0:AD=22,0:DP=22\tGT=0/0:AD=25,0:DP=25\tGT=0/0:AD=19,0:DP=19\tGT=0/0:AD=16,0:DP=16\tGT=0/0:AD=17,0:DP=17\tGT=0/0:AD=16,0:DP=16\tGT=0/0:AD=21,0:DP=21\tGT=0/0:AD=16,0:DP=16\tGT=0/0:AD=16,0:DP=16\t\n",
      "chr3\t44847942\tA\tC\tGT=0/0:AD=5,0:DP=5\tGT=0/0:AD=9,0:DP=9\tGT=0/0:AD=4,0:DP=4\tGT=0/0:AD=12,0:DP=12\tGT=0/0:AD=7,0:DP=7\tGT=0/0:AD=12,0:DP=12\tGT=0/0:AD=21,0:DP=21\tGT=0/0:AD=9,0:DP=9\tGT=0/0:AD=16,0:DP=16\tGT=0/0:AD=7,0:DP=7\t\n",
      "chr3\t44847988\tT\tA\tGT=0/0:AD=16,0:DP=16\tGT=0/0:AD=16,0:DP=16\tGT=0/0:AD=19,0:DP=19\tGT=0/0:AD=16,0:DP=16\tGT=0/0:AD=16,0:DP=16\tGT=0/0:AD=16,0:DP=16\tGT=0/0:AD=21,0:DP=21\tGT=0/0:AD=16,0:DP=16\tGT=0/0:AD=16,0:DP=16\tGT=0/0:AD=16,0:DP=16\t\n",
      "chr3\t44852025\tA\tG\tGT=0/0:AD=16,0:DP=16\tGT=0/0:AD=16,0:DP=16\tGT=0/0:AD=12,0:DP=12\tGT=0/0:AD=14,0:DP=14\tGT=0/0:AD=17,0:DP=17\tGT=0/0:AD=16,0:DP=16\tGT=0/0:AD=20,0:DP=20\tGT=0/0:AD=18,0:DP=18\tGT=0/0:AD=12,0:DP=12\tGT=0/0:AD=16,0:DP=16\t\n",
      "chr3\t44852403\tC\tA,G\tGT=0/0:AD=12,0,0:DP=12\tGT=0/0:AD=18,0,0:DP=18\tGT=0/0:AD=7,0,0:DP=7\tGT=0/0:AD=12,0,0:DP=12\tGT=0/0:AD=16,0,0:DP=16\tGT=0/0:AD=9,0,0:DP=9\tGT=0/0:AD=13,0,0:DP=13\tGT=0/0:AD=12,0,0:DP=12\tGT=0/0:AD=16,0,0:DP=16\tGT=0/0:AD=16,0,0:DP=16\t\n",
      "chr3\t44862026\tG\tA\tGT=0/0:AD=16,0:DP=16\tGT=0/0:AD=24,0:DP=24\tGT=0/0:AD=20,0:DP=20\tGT=0/0:AD=24,0:DP=24\tGT=0/0:AD=22,0:DP=22\tGT=0/0:AD=16,0:DP=16\tGT=0/0:AD=16,0:DP=16\tGT=0/0:AD=18,0:DP=18\tGT=0/0:AD=16,0:DP=16\tGT=0/0:AD=19,0:DP=19\t\n",
      "chr3\t44862064\tG\tGCGCGTTCGGGGCCCTGGCCGC\tGT=0/0:AD=16,0:DP=16\tGT=0/0:AD=24,0:DP=24\tGT=0/0:AD=20,0:DP=20\tGT=0/0:AD=24,0:DP=24\tGT=0/0:AD=22,0:DP=22\tGT=0/0:AD=16,0:DP=16\tGT=0/0:AD=16,0:DP=16\tGT=0/0:AD=18,0:DP=18\tGT=0/0:AD=16,0:DP=16\tGT=0/0:AD=19,0:DP=19\t\n",
      "chr3\t44864289\tC\tT\tGT=0/0:AD=25,0:DP=25\tGT=0/0:AD=17,0:DP=17\tGT=0/0:AD=24,0:DP=24\tGT=0/0:AD=16,0:DP=16\tGT=0/0:AD=17,0:DP=17\tGT=0/0:AD=16,0:DP=16\tGT=0/0:AD=19,0:DP=19\tGT=0/0:AD=18,0:DP=18\tGT=0/0:AD=16,0:DP=16\tGT=0/0:AD=16,0:DP=16\t\n",
      "chr3\t44864991\tG\tC\tGT=0/0:AD=17,0:DP=17\tGT=0/0:AD=25,0:DP=25\tGT=0/0:AD=16,0:DP=16\tGT=0/0:AD=17,0:DP=17\tGT=0/0:AD=16,0:DP=16\tGT=0/0:AD=21,0:DP=21\tGT=0/0:AD=19,0:DP=19\tGT=0/0:AD=16,0:DP=16\tGT=0/0:AD=25,0:DP=25\tGT=0/0:AD=18,0:DP=18\t\n",
      "chr3\t44865183\tC\tA\tGT=0/0:AD=17,0:DP=17\tGT=0/0:AD=25,0:DP=25\tGT=0/0:AD=16,0:DP=16\tGT=0/0:AD=17,0:DP=17\tGT=0/0:AD=16,0:DP=16\tGT=0/0:AD=21,0:DP=21\tGT=0/0:AD=19,0:DP=19\tGT=0/0:AD=16,0:DP=16\tGT=0/0:AD=25,0:DP=25\tGT=0/0:AD=18,0:DP=18\t\n",
      "chr3\t44865254\tA\tG\tGT=0/1:AD=10,8:DP=18\tGT=1/1:AD=0,26:DP=26\tGT=1/1:AD=0,17:DP=17\tGT=0/1:AD=13,10:DP=23\tGT=0/1:AD=10,7:DP=17\tGT=0/1:AD=13,8:DP=21\tGT=1/1:AD=0,29:DP=29\tGT=0/0:AD=16,0:DP=16\tGT=0/1:AD=16,24:DP=40\tGT=1/1:AD=0,20:DP=20\t\n",
      "chr3\t44885398\tG\tA\tGT=0/0:AD=16,0:DP=16\tGT=0/0:AD=16,0:DP=16\tGT=0/0:AD=17,0:DP=17\tGT=0/0:AD=16,0:DP=16\tGT=0/0:AD=18,0:DP=18\tGT=0/0:AD=17,0:DP=17\tGT=0/0:AD=16,0:DP=16\tGT=0/0:AD=17,0:DP=17\tGT=0/0:AD=16,0:DP=16\tGT=0/0:AD=17,0:DP=17\t\n",
      "chr3\t44885481\tA\tC\tGT=0/0:AD=16,0:DP=16\tGT=0/0:AD=16,0:DP=16\tGT=0/0:AD=17,0:DP=17\tGT=0/0:AD=16,0:DP=16\tGT=0/0:AD=18,0:DP=18\tGT=0/0:AD=17,0:DP=17\tGT=0/0:AD=16,0:DP=16\tGT=0/0:AD=17,0:DP=17\tGT=0/0:AD=16,0:DP=16\tGT=0/0:AD=17,0:DP=17\t\n",
      "chr3\t44887740\tC\tT\tGT=0/0:AD=16,0:DP=16\tGT=0/0:AD=19,0:DP=19\tGT=0/0:AD=16,0:DP=16\tGT=0/0:AD=16,0:DP=16\tGT=0/0:AD=22,0:DP=22\tGT=0/0:AD=16,0:DP=16\tGT=0/0:AD=16,0:DP=16\tGT=0/0:AD=17,0:DP=17\tGT=0/0:AD=16,0:DP=16\tGT=0/0:AD=17,0:DP=17\t\n",
      "chr3\t44893757\tG\tC\tGT=0/0:AD=4,0:DP=4\tGT=0/0:AD=16,0:DP=16\tGT=0/0:AD=11,0:DP=11\tGT=0/0:AD=9,0:DP=9\tGT=0/0:AD=9,0:DP=9\tGT=0/0:AD=12,0:DP=12\tGT=0/0:AD=9,0:DP=9\tGT=0/0:AD=16,0:DP=16\tGT=0/0:AD=12,0:DP=12\tGT=0/0:AD=16,0:DP=16\t\n",
      "chr3\t44896785\tC\tT\tGT=0/0:AD=16,0:DP=16\tGT=0/0:AD=16,0:DP=16\tGT=0/0:AD=16,0:DP=16\tGT=0/0:AD=16,0:DP=16\tGT=0/0:AD=30,0:DP=30\tGT=0/0:AD=16,0:DP=16\tGT=0/0:AD=16,0:DP=16\tGT=0/0:AD=16,0:DP=16\tGT=0/0:AD=16,0:DP=16\tGT=0/0:AD=16,0:DP=16\t\n",
      "chr3\t44901541\tC\tA\tGT=0/0:AD=17,0:DP=17\tGT=0/0:AD=23,0:DP=23\tGT=0/0:AD=25,0:DP=25\tGT=0/0:AD=20,0:DP=20\tGT=0/0:AD=17,0:DP=17\tGT=0/0:AD=16,0:DP=16\tGT=0/0:AD=16,0:DP=16\tGT=0/0:AD=16,0:DP=16\tGT=0/0:AD=16,0:DP=16\tGT=0/0:AD=16,0:DP=16\t\n",
      "chr3\t44904007\tG\tT\tGT=0/0:AD=15,0:DP=15\tGT=0/0:AD=17,0:DP=17\tGT=0/0:AD=17,0:DP=17\tGT=0/0:AD=16,0:DP=16\tGT=0/0:AD=17,0:DP=17\tGT=0/0:AD=16,0:DP=16\tGT=0/0:AD=16,0:DP=16\tGT=0/0:AD=16,0:DP=16\tGT=0/0:AD=16,0:DP=16\tGT=0/0:AD=16,0:DP=16\t\n",
      "chr3\t44910352\tG\tA\tGT=0/0:AD=16,0:DP=16\tGT=0/0:AD=19,0:DP=19\tGT=0/0:AD=16,0:DP=16\tGT=0/0:AD=17,0:DP=17\tGT=0/0:AD=16,0:DP=16\tGT=0/0:AD=16,0:DP=16\tGT=0/0:AD=16,0:DP=16\tGT=0/0:AD=16,0:DP=16\tGT=0/0:AD=16,0:DP=16\tGT=0/0:AD=16,0:DP=16\t\n",
      "chr3\t44911386\tA\tG\tGT=0/0:AD=23,0:DP=23\tGT=0/0:AD=17,0:DP=17\tGT=0/0:AD=17,0:DP=17\tGT=0/0:AD=30,0:DP=30\tGT=0/0:AD=23,0:DP=23\tGT=0/0:AD=20,0:DP=20\tGT=0/0:AD=34,0:DP=34\tGT=0/0:AD=19,0:DP=19\tGT=0/0:AD=16,0:DP=16\tGT=0/0:AD=20,0:DP=20\t\n",
      "chr3\t44911451\tT\tC\tGT=0/0:AD=23,0:DP=23\tGT=0/0:AD=17,0:DP=17\tGT=0/0:AD=14,0:DP=14\tGT=0/0:AD=17,0:DP=17\tGT=0/0:AD=24,0:DP=24\tGT=0/0:AD=23,0:DP=23\tGT=0/0:AD=17,0:DP=17\tGT=0/0:AD=16,0:DP=16\tGT=0/0:AD=16,0:DP=16\tGT=0/0:AD=16,0:DP=16\t\n",
      "chr3\t44913612\tT\tC\tGT=0/0:AD=16,0:DP=16\tGT=0/0:AD=20,0:DP=20\tGT=0/0:AD=30,0:DP=30\tGT=0/0:AD=16,0:DP=16\tGT=0/0:AD=16,0:DP=16\tGT=0/0:AD=16,0:DP=16\tGT=0/0:AD=17,0:DP=17\tGT=0/0:AD=16,0:DP=16\tGT=0/0:AD=18,0:DP=18\tGT=0/0:AD=16,0:DP=16\t\n",
      "chr3\t44913654\tT\tG\tGT=0/0:AD=16,0:DP=16\tGT=0/0:AD=20,0:DP=20\tGT=0/0:AD=30,0:DP=30\tGT=0/0:AD=16,0:DP=16\tGT=0/0:AD=16,0:DP=16\tGT=0/0:AD=16,0:DP=16\tGT=0/0:AD=17,0:DP=17\tGT=0/0:AD=16,0:DP=16\tGT=0/0:AD=18,0:DP=18\tGT=0/0:AD=16,0:DP=16\t\n",
      "chr3\t44918210\tC\tT\tGT=0/0:AD=21,0:DP=21\tGT=0/0:AD=29,0:DP=29\tGT=0/0:AD=16,0:DP=16\tGT=0/0:AD=28,0:DP=28\tGT=0/0:AD=30,0:DP=30\tGT=0/0:AD=16,0:DP=16\tGT=0/0:AD=25,0:DP=25\tGT=0/0:AD=22,0:DP=22\tGT=0/0:AD=24,0:DP=24\tGT=0/0:AD=23,0:DP=23\t\n",
      "chr3\t44918328\tG\tT\tGT=0/0:AD=56,0:DP=56\tGT=0/0:AD=34,0:DP=34\tGT=0/0:AD=34,0:DP=34\tGT=0/0:AD=69,0:DP=69\tGT=0/0:AD=57,0:DP=57\tGT=0/0:AD=29,0:DP=29\tGT=0/0:AD=89,0:DP=89\tGT=0/0:AD=55,0:DP=55\tGT=0/0:AD=63,0:DP=63\tGT=0/0:AD=64,0:DP=64\t\n",
      "chr3\t44920177\tC\tT\tGT=0/0:AD=28,0:DP=28\tGT=0/0:AD=17,0:DP=17\tGT=0/0:AD=16,0:DP=16\tGT=0/0:AD=17,0:DP=17\tGT=0/0:AD=18,0:DP=18\tGT=0/0:AD=16,0:DP=16\tGT=0/0:AD=16,0:DP=16\tGT=0/0:AD=16,0:DP=16\tGT=0/0:AD=16,0:DP=16\tGT=0/0:AD=16,0:DP=16\t\n",
      "chr3\t44920341\tT\tC\tGT=0/0:AD=28,0:DP=28\tGT=0/0:AD=17,0:DP=17\tGT=0/0:AD=16,0:DP=16\tGT=0/0:AD=17,0:DP=17\tGT=0/0:AD=18,0:DP=18\tGT=0/0:AD=16,0:DP=16\tGT=0/0:AD=16,0:DP=16\tGT=0/0:AD=16,0:DP=16\tGT=0/0:AD=16,0:DP=16\tGT=0/0:AD=16,0:DP=16\t\n",
      "chr3\t44920889\tA\tC\tGT=0/0:AD=25,0:DP=25\tGT=0/0:AD=23,0:DP=23\tGT=0/0:AD=33,0:DP=33\tGT=0/0:AD=63,0:DP=63\tGT=0/0:AD=50,0:DP=50\tGT=0/0:AD=58,0:DP=58\tGT=0/0:AD=66,0:DP=66\tGT=0/0:AD=49,0:DP=49\tGT=0/0:AD=20,0:DP=20\tGT=0/0:AD=57,0:DP=57\t\n",
      "chr3\t44921049\tT\tA\tGT=0/0:AD=25,0:DP=25\tGT=0/0:AD=23,0:DP=23\tGT=0/0:AD=33,0:DP=33\tGT=0/0:AD=63,0:DP=63\tGT=0/0:AD=50,0:DP=50\tGT=0/0:AD=58,0:DP=58\tGT=0/0:AD=66,0:DP=66\tGT=0/0:AD=49,0:DP=49\tGT=0/0:AD=20,0:DP=20\tGT=0/0:AD=57,0:DP=57\t\n",
      "chr3\t44921106\tA\tC\tGT=0/0:AD=25,0:DP=25\tGT=0/0:AD=23,0:DP=23\tGT=0/0:AD=33,0:DP=33\tGT=0/0:AD=63,0:DP=63\tGT=0/0:AD=50,0:DP=50\tGT=0/0:AD=58,0:DP=58\tGT=0/0:AD=66,0:DP=66\tGT=0/0:AD=49,0:DP=49\tGT=0/0:AD=20,0:DP=20\tGT=0/0:AD=57,0:DP=57\t\n",
      "chr3\t44921639\tT\tC\tGT=0/0:AD=20,0:DP=20\tGT=0/0:AD=23,0:DP=23\tGT=0/0:AD=16,0:DP=16\tGT=0/0:AD=16,0:DP=16\tGT=0/0:AD=20,0:DP=20\tGT=0/0:AD=24,0:DP=24\tGT=0/0:AD=20,0:DP=20\tGT=0/0:AD=17,0:DP=17\tGT=0/0:AD=20,0:DP=20\tGT=0/0:AD=24,0:DP=24\t\n",
      "chr3\t44921713\tT\tA\tGT=0/0:AD=9,0:DP=9\tGT=0/0:AD=22,0:DP=22\tGT=0/0:AD=14,0:DP=14\tGT=0/0:AD=12,0:DP=12\tGT=0/0:AD=22,0:DP=22\tGT=0/0:AD=24,0:DP=24\tGT=0/0:AD=20,0:DP=20\tGT=0/0:AD=14,0:DP=14\tGT=0/0:AD=20,0:DP=20\tGT=0/0:AD=34,0:DP=34\t\n",
      "chr3\t44922613\tA\tG\tGT=0/0:AD=24,0:DP=24\tGT=0/0:AD=26,0:DP=26\tGT=0/0:AD=24,0:DP=24\tGT=0/0:AD=27,0:DP=27\tGT=0/0:AD=30,0:DP=30\tGT=0/0:AD=28,0:DP=28\tGT=0/0:AD=41,0:DP=41\tGT=0/0:AD=40,0:DP=40\tGT=0/0:AD=20,0:DP=20\tGT=0/0:AD=33,0:DP=33\t\n",
      "chr3\t44922845\tT\tC\tGT=0/0:AD=29,0:DP=29\tGT=0/0:AD=46,0:DP=46\tGT=0/0:AD=21,0:DP=21\tGT=0/0:AD=27,0:DP=27\tGT=0/0:AD=26,0:DP=26\tGT=0/0:AD=27,0:DP=27\tGT=0/0:AD=31,0:DP=31\tGT=0/0:AD=24,0:DP=24\tGT=0/0:AD=30,0:DP=30\tGT=0/0:AD=28,0:DP=28\t\n",
      "chr3\t44923081\tGTTT\tG\tGT=./.:AD=.,0:DP=23\tGT=./.:AD=.,0:DP=18\tGT=./.:AD=.,0:DP=26\tGT=./.:AD=.,0:DP=16\tGT=./.:AD=.,0:DP=19\tGT=./.:AD=.,0:DP=17\tGT=./.:AD=.,0:DP=18\tGT=./.:AD=.,0:DP=25\tGT=./.:AD=.,0:DP=27\tGT=./.:AD=.,0:DP=23\t\n",
      "chr3\t44924009\tG\tGA\tGT=0/0:AD=16,0:DP=16\tGT=0/0:AD=17,0:DP=17\tGT=0/0:AD=19,0:DP=19\tGT=0/0:AD=17,0:DP=17\tGT=0/0:AD=17,0:DP=17\tGT=0/0:AD=26,0:DP=26\tGT=0/0:AD=23,0:DP=23\tGT=0/0:AD=50,0:DP=50\tGT=0/0:AD=16,0:DP=16\tGT=0/0:AD=16,0:DP=16\t\n",
      "chr3\t44924055\tT\tG\tGT=0/0:AD=16,0:DP=16\tGT=0/0:AD=17,0:DP=17\tGT=0/0:AD=19,0:DP=19\tGT=0/0:AD=17,0:DP=17\tGT=0/0:AD=17,0:DP=17\tGT=0/0:AD=26,0:DP=26\tGT=0/0:AD=23,0:DP=23\tGT=0/0:AD=50,0:DP=50\tGT=0/0:AD=16,0:DP=16\tGT=0/0:AD=16,0:DP=16\t\n",
      "chr3\t44924308\tC\tA\tGT=0/0:AD=16,0:DP=16\tGT=0/0:AD=17,0:DP=17\tGT=0/0:AD=19,0:DP=19\tGT=0/0:AD=17,0:DP=17\tGT=0/0:AD=17,0:DP=17\tGT=0/0:AD=26,0:DP=26\tGT=0/0:AD=23,0:DP=23\tGT=0/0:AD=35,0:DP=35\tGT=0/0:AD=48,0:DP=48\tGT=0/0:AD=16,0:DP=16\t\n",
      "chr3\t44924321\tT\tC\tGT=0/0:AD=16,0:DP=16\tGT=0/0:AD=17,0:DP=17\tGT=0/0:AD=19,0:DP=19\tGT=0/0:AD=17,0:DP=17\tGT=0/0:AD=17,0:DP=17\tGT=0/0:AD=26,0:DP=26\tGT=0/0:AD=23,0:DP=23\tGT=0/0:AD=35,0:DP=35\tGT=0/0:AD=48,0:DP=48\tGT=0/0:AD=16,0:DP=16\t\n",
      "chr3\t44924607\tG\tA\tGT=0/0:AD=16,0:DP=16\tGT=0/0:AD=17,0:DP=17\tGT=0/0:AD=19,0:DP=19\tGT=0/0:AD=17,0:DP=17\tGT=0/0:AD=17,0:DP=17\tGT=0/0:AD=26,0:DP=26\tGT=0/0:AD=23,0:DP=23\tGT=0/0:AD=35,0:DP=35\tGT=0/0:AD=48,0:DP=48\tGT=0/0:AD=16,0:DP=16\t\n",
      "chr3\t44924674\tC\tT\tGT=0/0:AD=16,0:DP=16\tGT=0/0:AD=17,0:DP=17\tGT=0/0:AD=19,0:DP=19\tGT=0/0:AD=17,0:DP=17\tGT=0/0:AD=17,0:DP=17\tGT=0/0:AD=26,0:DP=26\tGT=0/0:AD=23,0:DP=23\tGT=0/0:AD=35,0:DP=35\tGT=0/0:AD=48,0:DP=48\tGT=0/0:AD=16,0:DP=16\t\n",
      "chr3\t44924741\tT\tG\tGT=0/0:AD=33,0:DP=33\tGT=0/0:AD=70,0:DP=70\tGT=0/0:AD=39,0:DP=39\tGT=0/0:AD=46,0:DP=46\tGT=0/0:AD=37,0:DP=37\tGT=0/0:AD=47,0:DP=47\tGT=0/0:AD=56,0:DP=56\tGT=0/0:AD=27,0:DP=27\tGT=0/0:AD=50,0:DP=50\tGT=0/0:AD=49,0:DP=49\t\n",
      "chr3\t44924956\tG\tT\tGT=0/0:AD=33,0:DP=33\tGT=0/0:AD=70,0:DP=70\tGT=0/0:AD=39,0:DP=39\tGT=0/0:AD=48,0:DP=48\tGT=0/0:AD=38,0:DP=38\tGT=0/0:AD=49,0:DP=49\tGT=0/0:AD=58,0:DP=58\tGT=0/0:AD=26,0:DP=26\tGT=0/0:AD=50,0:DP=50\tGT=0/0:AD=44,0:DP=44\t\n",
      "chr3\t44925880\tA\tG\tGT=0/0:AD=43,0:DP=43\tGT=0/0:AD=66,0:DP=66\tGT=0/0:AD=30,0:DP=30\tGT=0/0:AD=53,0:DP=53\tGT=0/0:AD=52,0:DP=52\tGT=0/0:AD=64,0:DP=64\tGT=0/0:AD=63,0:DP=63\tGT=0/0:AD=50,0:DP=50\tGT=0/0:AD=77,0:DP=77\tGT=0/0:AD=47,0:DP=47\t\n",
      "chr3\t44926058\tC\tG\tGT=0/0:AD=43,0:DP=43\tGT=0/0:AD=66,0:DP=66\tGT=0/0:AD=30,0:DP=30\tGT=0/0:AD=53,0:DP=53\tGT=0/0:AD=52,0:DP=52\tGT=0/0:AD=64,0:DP=64\tGT=0/0:AD=63,0:DP=63\tGT=0/0:AD=50,0:DP=50\tGT=0/0:AD=77,0:DP=77\tGT=0/0:AD=47,0:DP=47\t\n",
      "chr3\t44926568\tCATAAAA\tCAT,CAGAAAA,CATAAA,CAAAA,CATAA,CACAAAA\tGT=0/0:AD=46,0,0,0,0,0,0:DP=46\tGT=0/0:AD=79,0,0,0,0,0,0:DP=79\tGT=0/0:AD=30,0,0,0,0,0,0:DP=30\tGT=0/0:AD=41,0,0,0,0,0,0:DP=41\tGT=0/0:AD=56,0,0,0,0,0,0:DP=56\tGT=0/0:AD=54,0,0,0,0,0,0:DP=54\tGT=0/0:AD=58,0,0,0,0,0,0:DP=58\tGT=0/0:AD=34,0,0,0,0,0,0:DP=34\tGT=0/0:AD=64,0,0,0,0,0,0:DP=64\tGT=0/0:AD=47,0,0,0,0,0,0:DP=47\t\n",
      "chr3\t44926627\tG\tA\tGT=0/0:AD=46,0:DP=46\tGT=0/0:AD=79,0:DP=79\tGT=0/0:AD=30,0:DP=30\tGT=0/0:AD=41,0:DP=41\tGT=0/0:AD=56,0:DP=56\tGT=0/0:AD=54,0:DP=54\tGT=0/0:AD=58,0:DP=58\tGT=0/0:AD=34,0:DP=34\tGT=0/0:AD=64,0:DP=64\tGT=0/0:AD=47,0:DP=47\t\n",
      "chr3\t44929464\tG\tC,T\tGT=0/0:AD=16,0,0:DP=16\tGT=0/0:AD=29,0,0:DP=29\tGT=0/0:AD=16,0,0:DP=16\tGT=0/0:AD=19,0,0:DP=19\tGT=0/0:AD=18,0,0:DP=18\tGT=0/0:AD=25,0,0:DP=25\tGT=0/0:AD=18,0,0:DP=18\tGT=0/0:AD=20,0,0:DP=20\tGT=0/0:AD=24,0,0:DP=24\tGT=0/0:AD=17,0,0:DP=17\t\n",
      "chr3\t44932839\tC\tG\tGT=0/0:AD=7,0:DP=7\tGT=0/0:AD=16,0:DP=16\tGT=0/0:AD=9,0:DP=9\tGT=0/0:AD=14,0:DP=14\tGT=0/0:AD=12,0:DP=12\tGT=0/0:AD=16,0:DP=16\tGT=0/0:AD=9,0:DP=9\tGT=0/0:AD=17,0:DP=17\tGT=0/0:AD=14,0:DP=14\tGT=0/0:AD=11,0:DP=11\t\n",
      "chr3\t44933022\tC\tA\tGT=0/0:AD=16,0:DP=16\tGT=0/0:AD=16,0:DP=16\tGT=0/0:AD=16,0:DP=16\tGT=0/0:AD=17,0:DP=17\tGT=0/0:AD=17,0:DP=17\tGT=0/0:AD=24,0:DP=24\tGT=0/0:AD=22,0:DP=22\tGT=0/0:AD=16,0:DP=16\tGT=0/0:AD=16,0:DP=16\tGT=0/0:AD=16,0:DP=16\t\n",
      "chr3\t44933120\tG\tC\tGT=0/0:AD=16,0:DP=16\tGT=0/0:AD=16,0:DP=16\tGT=0/0:AD=22,0:DP=22\tGT=0/0:AD=16,0:DP=16\tGT=0/0:AD=21,0:DP=21\tGT=0/0:AD=24,0:DP=24\tGT=0/0:AD=22,0:DP=22\tGT=0/0:AD=16,0:DP=16\tGT=0/0:AD=16,0:DP=16\tGT=0/0:AD=16,0:DP=16\t\n",
      "chr3\t44933793\tT\tA\tGT=0/0:AD=7,0:DP=7\tGT=0/0:AD=11,0:DP=11\tGT=0/0:AD=10,0:DP=10\tGT=0/0:AD=4,0:DP=4\tGT=0/0:AD=9,0:DP=9\tGT=0/0:AD=16,0:DP=16\tGT=0/0:AD=6,0:DP=6\tGT=0/0:AD=11,0:DP=11\tGT=0/0:AD=8,0:DP=8\tGT=0/0:AD=5,0:DP=5\t\n",
      "chr3\t44933879\tC\tT,G\tGT=0/0:AD=16,0,0:DP=16\tGT=0/0:AD=17,0,0:DP=17\tGT=0/0:AD=16,0,0:DP=16\tGT=0/0:AD=25,0,0:DP=25\tGT=0/0:AD=16,0,0:DP=16\tGT=0/0:AD=16,0,0:DP=16\tGT=0/0:AD=16,0,0:DP=16\tGT=0/0:AD=17,0,0:DP=17\tGT=0/0:AD=16,0,0:DP=16\tGT=0/0:AD=16,0,0:DP=16\t\n",
      "chr3\t44945131\tG\tA,C\tGT=0/0:AD=17,0,0:DP=17\tGT=0/0:AD=16,0,0:DP=16\tGT=0/0:AD=16,0,0:DP=16\tGT=0/0:AD=16,0,0:DP=16\tGT=0/0:AD=20,0,0:DP=20\tGT=0/0:AD=17,0,0:DP=17\tGT=0/0:AD=20,0,0:DP=20\tGT=0/0:AD=16,0,0:DP=16\tGT=0/0:AD=19,0,0:DP=19\tGT=0/0:AD=21,0,0:DP=21\t\n",
      "chr3\t44959474\tG\tA\tGT=0/0:AD=16,0:DP=16\tGT=0/0:AD=17,0:DP=17\tGT=0/0:AD=15,0:DP=15\tGT=0/0:AD=16,0:DP=16\tGT=0/0:AD=22,0:DP=22\tGT=0/0:AD=16,0:DP=16\tGT=0/0:AD=16,0:DP=16\tGT=0/0:AD=25,0:DP=25\tGT=0/0:AD=16,0:DP=16\tGT=0/0:AD=16,0:DP=16\t\n",
      "chr3\t44989113\tT\tC,G\tGT=0/0:AD=16,0,0:DP=16\tGT=0/0:AD=11,0,0:DP=11\tGT=0/0:AD=16,0,0:DP=16\tGT=0/0:AD=15,0,0:DP=15\tGT=0/0:AD=16,0,0:DP=16\tGT=0/0:AD=14,0,0:DP=14\tGT=0/0:AD=16,0,0:DP=16\tGT=0/0:AD=21,0,0:DP=21\tGT=0/0:AD=16,0,0:DP=16\tGT=0/0:AD=12,0,0:DP=12\t\n",
      "chr3\t45007496\tC\tA\tGT=0/0:AD=16,0:DP=16\tGT=0/0:AD=16,0:DP=16\tGT=0/0:AD=16,0:DP=16\tGT=0/0:AD=19,0:DP=19\tGT=0/0:AD=16,0:DP=16\tGT=0/0:AD=26,0:DP=26\tGT=0/0:AD=22,0:DP=22\tGT=0/0:AD=16,0:DP=16\tGT=0/0:AD=16,0:DP=16\tGT=0/0:AD=16,0:DP=16\t\n",
      "chr3\t45026341\tC\tT\tGT=0/0:AD=16,0:DP=16\tGT=0/0:AD=16,0:DP=16\tGT=0/0:AD=9,0:DP=9\tGT=0/0:AD=16,0:DP=16\tGT=0/0:AD=17,0:DP=17\tGT=0/0:AD=16,0:DP=16\tGT=0/0:AD=20,0:DP=20\tGT=0/0:AD=16,0:DP=16\tGT=0/0:AD=16,0:DP=16\tGT=0/0:AD=16,0:DP=16\t\n",
      "chr3\t45030050\tT\tC\tGT=0/0:AD=7,0:DP=7\tGT=0/0:AD=12,0:DP=12\tGT=0/0:AD=2,0:DP=2\tGT=0/0:AD=6,0:DP=6\tGT=0/0:AD=8,0:DP=8\tGT=0/0:AD=2,0:DP=2\tGT=0/0:AD=14,0:DP=14\tGT=0/0:AD=5,0:DP=5\tGT=0/0:AD=9,0:DP=9\tGT=0/0:AD=6,0:DP=6\t\n",
      "chr3\t45030785\tC\tT\tGT=0/0:AD=9,0:DP=9\tGT=0/0:AD=16,0:DP=16\tGT=0/0:AD=7,0:DP=7\tGT=0/0:AD=14,0:DP=14\tGT=0/0:AD=16,0:DP=16\tGT=0/0:AD=12,0:DP=12\tGT=0/0:AD=9,0:DP=9\tGT=0/0:AD=6,0:DP=6\tGT=0/0:AD=14,0:DP=14\tGT=0/0:AD=9,0:DP=9\t\n",
      "chr3\t45030932\tG\tA\tGT=0/0:AD=16,0:DP=16\tGT=0/0:AD=16,0:DP=16\tGT=0/0:AD=16,0:DP=16\tGT=0/0:AD=16,0:DP=16\tGT=0/0:AD=16,0:DP=16\tGT=0/0:AD=16,0:DP=16\tGT=0/0:AD=16,0:DP=16\tGT=0/0:AD=22,0:DP=22\tGT=0/0:AD=16,0:DP=16\tGT=0/0:AD=16,0:DP=16\t\n",
      "chr3\t45035719\tT\tC\tGT=0/0:AD=19,0:DP=19\tGT=0/0:AD=48,0:DP=48\tGT=0/0:AD=46,0:DP=46\tGT=0/0:AD=52,0:DP=52\tGT=0/0:AD=43,0:DP=43\tGT=0/0:AD=61,0:DP=61\tGT=0/0:AD=40,0:DP=40\tGT=0/0:AD=47,0:DP=47\tGT=0/0:AD=40,0:DP=40\tGT=0/0:AD=88,0:DP=88\t\n",
      "chr3\t45035919\tG\tC\tGT=0/0:AD=19,0:DP=19\tGT=0/0:AD=48,0:DP=48\tGT=0/0:AD=46,0:DP=46\tGT=0/0:AD=52,0:DP=52\tGT=0/0:AD=43,0:DP=43\tGT=0/0:AD=61,0:DP=61\tGT=0/0:AD=40,0:DP=40\tGT=0/0:AD=47,0:DP=47\tGT=0/0:AD=40,0:DP=40\tGT=0/0:AD=88,0:DP=88\t\n",
      "chr3\t45035925\tC\tT\tGT=0/0:AD=19,0:DP=19\tGT=0/0:AD=48,0:DP=48\tGT=0/0:AD=46,0:DP=46\tGT=0/0:AD=52,0:DP=52\tGT=0/0:AD=43,0:DP=43\tGT=0/0:AD=61,0:DP=61\tGT=0/0:AD=40,0:DP=40\tGT=0/0:AD=47,0:DP=47\tGT=0/0:AD=40,0:DP=40\tGT=0/0:AD=88,0:DP=88\t\n",
      "chr3\t45085580\tA\tG\tGT=0/0:AD=16,0:DP=16\tGT=0/0:AD=25,0:DP=25\tGT=0/0:AD=5,0:DP=5\tGT=0/0:AD=16,0:DP=16\tGT=0/0:AD=22,0:DP=22\tGT=0/0:AD=25,0:DP=25\tGT=0/0:AD=17,0:DP=17\tGT=0/0:AD=14,0:DP=14\tGT=0/0:AD=12,0:DP=12\tGT=0/0:AD=16,0:DP=16\t\n",
      "chr3\t45088990\tC\tT\tGT=0/0:AD=7,0:DP=7\tGT=0/0:AD=11,0:DP=11\tGT=0/0:AD=9,0:DP=9\tGT=0/0:AD=11,0:DP=11\tGT=0/0:AD=15,0:DP=15\tGT=0/0:AD=15,0:DP=15\tGT=0/0:AD=11,0:DP=11\tGT=0/0:AD=9,0:DP=9\tGT=0/0:AD=11,0:DP=11\tGT=0/0:AD=7,0:DP=7\t\n",
      "chr3\t45091523\tG\tA,T\tGT=0/0:AD=16,0,0:DP=16\tGT=0/0:AD=21,0,0:DP=21\tGT=0/0:AD=25,0,0:DP=25\tGT=0/0:AD=24,0,0:DP=24\tGT=0/0:AD=18,0,0:DP=18\tGT=0/0:AD=18,0,0:DP=18\tGT=0/0:AD=17,0,0:DP=17\tGT=0/0:AD=21,0,0:DP=21\tGT=0/0:AD=16,0,0:DP=16\tGT=0/0:AD=17,0,0:DP=17\t\n",
      "chr3\t45093748\tC\tT\tGT=0/0:AD=12,0:DP=12\tGT=0/0:AD=21,0:DP=21\tGT=0/0:AD=4,0:DP=4\tGT=0/0:AD=22,0:DP=22\tGT=0/0:AD=17,0:DP=17\tGT=0/0:AD=9,0:DP=9\tGT=0/0:AD=17,0:DP=17\tGT=0/0:AD=16,0:DP=16\tGT=0/0:AD=18,0:DP=18\tGT=0/0:AD=16,0:DP=16\t\n",
      "chr3\t45095342\tC\tT\tGT=0/0:AD=16,0:DP=16\tGT=0/0:AD=16,0:DP=16\tGT=0/0:AD=16,0:DP=16\tGT=0/0:AD=16,0:DP=16\tGT=0/0:AD=16,0:DP=16\tGT=0/0:AD=16,0:DP=16\tGT=0/0:AD=18,0:DP=18\tGT=0/0:AD=17,0:DP=17\tGT=0/0:AD=16,0:DP=16\tGT=0/0:AD=23,0:DP=23\t\n",
      "chr3\t45110427\tC\tA\tGT=0/0:AD=16,0:DP=16\tGT=0/0:AD=19,0:DP=19\tGT=0/0:AD=16,0:DP=16\tGT=0/0:AD=16,0:DP=16\tGT=0/0:AD=16,0:DP=16\tGT=0/0:AD=16,0:DP=16\tGT=0/0:AD=16,0:DP=16\tGT=0/0:AD=16,0:DP=16\tGT=0/0:AD=16,0:DP=16\tGT=0/0:AD=17,0:DP=17\t\n",
      "chr3\t45110462\tG\tA\tGT=0/0:AD=16,0:DP=16\tGT=0/0:AD=19,0:DP=19\tGT=0/0:AD=16,0:DP=16\tGT=0/0:AD=16,0:DP=16\tGT=0/0:AD=16,0:DP=16\tGT=0/0:AD=16,0:DP=16\tGT=0/0:AD=16,0:DP=16\tGT=0/0:AD=16,0:DP=16\tGT=0/0:AD=16,0:DP=16\tGT=0/0:AD=17,0:DP=17\t\n",
      "chr3\t45110707\tC\tT\tGT=0/0:AD=16,0:DP=16\tGT=0/0:AD=19,0:DP=19\tGT=0/0:AD=16,0:DP=16\tGT=0/0:AD=16,0:DP=16\tGT=0/0:AD=16,0:DP=16\tGT=0/0:AD=16,0:DP=16\tGT=0/0:AD=16,0:DP=16\tGT=0/0:AD=16,0:DP=16\tGT=0/0:AD=16,0:DP=16\tGT=0/0:AD=17,0:DP=17\t\n",
      "chr3\t45118445\tT\tA,C\tGT=0/0:AD=16,0,0:DP=16\tGT=0/0:AD=16,0,0:DP=16\tGT=0/0:AD=21,0,0:DP=21\tGT=0/0:AD=16,0,0:DP=16\tGT=0/0:AD=16,0,0:DP=16\tGT=0/0:AD=18,0,0:DP=18\tGT=0/0:AD=16,0,0:DP=16\tGT=0/0:AD=16,0,0:DP=16\tGT=0/0:AD=17,0,0:DP=17\tGT=0/0:AD=16,0,0:DP=16\t\n",
      "chr3\t45146236\tG\tT\tGT=0/0:AD=16,0:DP=16\tGT=0/0:AD=17,0:DP=17\tGT=0/0:AD=23,0:DP=23\tGT=0/0:AD=16,0:DP=16\tGT=0/0:AD=34,0:DP=34\tGT=0/0:AD=22,0:DP=22\tGT=0/0:AD=16,0:DP=16\tGT=0/0:AD=16,0:DP=16\tGT=0/0:AD=16,0:DP=16\tGT=0/0:AD=29,0:DP=29\t\n",
      "chr3\t45225871\tA\tT\tGT=0/0:AD=40,0:DP=40\tGT=0/0:AD=59,0:DP=59\tGT=0/0:AD=48,0:DP=48\tGT=0/0:AD=69,0:DP=69\tGT=0/0:AD=60,0:DP=60\tGT=0/0:AD=50,0:DP=50\tGT=0/0:AD=54,0:DP=54\tGT=0/0:AD=68,0:DP=68\tGT=0/0:AD=65,0:DP=65\tGT=0/0:AD=68,0:DP=68\t\n",
      "chr3\t45417390\tA\tG\tGT=0/0:AD=6,0:DP=6\tGT=0/0:AD=7,0:DP=7\tGT=0/0:AD=7,0:DP=7\tGT=0/0:AD=9,0:DP=9\tGT=0/0:AD=6,0:DP=6\tGT=0/0:AD=9,0:DP=9\tGT=0/0:AD=7,0:DP=7\tGT=0/0:AD=5,0:DP=5\tGT=0/0:AD=11,0:DP=11\tGT=0/0:AD=7,0:DP=7\t\n",
      "chr3\t45419610\tG\tGT\tGT=1/1:AD=0,9:DP=9\tGT=1/1:AD=0,19:DP=19\tGT=0/1:AD=2,4:DP=6\tGT=1/1:AD=0,9:DP=9\tGT=1/1:AD=0,7:DP=7\tGT=1/1:AD=0,8:DP=9\tGT=0/1:AD=5,8:DP=13\tGT=0/1:AD=5,6:DP=11\tGT=1/1:AD=0,10:DP=10\tGT=1/1:AD=0,11:DP=12\t\n",
      "chr3\t45419757\tC\tT,G\tGT=0/0:AD=12,0,0:DP=12\tGT=0/0:AD=16,0,0:DP=16\tGT=0/0:AD=12,0,0:DP=12\tGT=0/0:AD=17,0,0:DP=17\tGT=0/0:AD=16,0,0:DP=16\tGT=0/0:AD=10,0,0:DP=10\tGT=0/0:AD=19,0,0:DP=19\tGT=0/0:AD=14,0,0:DP=14\tGT=0/0:AD=16,0,0:DP=16\tGT=0/0:AD=15,0,0:DP=15\t\n",
      "chr3\t45419779\tA\tG\tGT=0/0:AD=6,0:DP=6\tGT=0/0:AD=16,0:DP=16\tGT=0/0:AD=9,0:DP=9\tGT=0/0:AD=11,0:DP=11\tGT=0/0:AD=11,0:DP=11\tGT=0/0:AD=12,0:DP=12\tGT=0/0:AD=19,0:DP=19\tGT=0/0:AD=11,0:DP=11\tGT=0/0:AD=12,0:DP=12\tGT=0/0:AD=16,0:DP=16\t\n",
      "chr3\t45458900\tT\tC\tGT=0/0:AD=24,0:DP=24\tGT=0/0:AD=22,0:DP=22\tGT=0/0:AD=16,0:DP=16\tGT=0/0:AD=16,0:DP=16\tGT=0/0:AD=18,0:DP=18\tGT=0/0:AD=16,0:DP=16\tGT=0/0:AD=21,0:DP=21\tGT=0/0:AD=16,0:DP=16\tGT=0/0:AD=16,0:DP=16\tGT=0/0:AD=16,0:DP=16\t\n",
      "chr3\t45488901\tC\tT\tGT=0/0:AD=6,0:DP=6\tGT=0/0:AD=9,0:DP=9\tGT=0/0:AD=4,0:DP=4\tGT=0/0:AD=6,0:DP=6\tGT=0/0:AD=4,0:DP=4\tGT=0/0:AD=7,0:DP=7\tGT=0/0:AD=6,0:DP=6\tGT=0/0:AD=9,0:DP=9\tGT=0/0:AD=3,0:DP=3\tGT=0/0:AD=5,0:DP=5\t\n",
      "chr3\t45496262\tA\tG\tGT=0/0:AD=14,0:DP=14\tGT=0/0:AD=16,0:DP=16\tGT=0/0:AD=16,0:DP=16\tGT=0/0:AD=16,0:DP=16\tGT=0/0:AD=10,0:DP=10\tGT=0/0:AD=11,0:DP=11\tGT=0/0:AD=16,0:DP=16\tGT=0/0:AD=18,0:DP=18\tGT=0/0:AD=17,0:DP=17\tGT=0/0:AD=12,0:DP=12\t\n",
      "chr3\t45496305\tC\tT\tGT=0/0:AD=16,0:DP=16\tGT=0/0:AD=16,0:DP=16\tGT=0/0:AD=25,0:DP=25\tGT=0/0:AD=16,0:DP=16\tGT=0/0:AD=18,0:DP=18\tGT=0/0:AD=14,0:DP=14\tGT=0/0:AD=16,0:DP=16\tGT=0/0:AD=18,0:DP=18\tGT=0/0:AD=17,0:DP=17\tGT=0/0:AD=16,0:DP=16\t\n",
      "\n"
     ]
    }
   ],
   "source": [
    "bcftools query -f '%CHROM\\t%POS\\t%REF\\t%ALT\\t[GT=%GT:AD=%AD:DP=%DP\\t]\\n' ~/test/bcftools/chr3_mwe.subset_10samples.vcf.gz"
   ]
  },
  {
   "cell_type": "code",
   "execution_count": 10,
   "id": "31875d59-2dab-45fe-aa08-1bcf4dd16988",
   "metadata": {
    "kernel": "Bash"
   },
   "outputs": [
    {
     "name": "stdout",
     "output_type": "stream",
     "text": [
      "Lines   total/split/realigned/skipped:\t206/23/0/0\n",
      "Lines   total/split/realigned/skipped:\t234/0/12/0\n",
      "\n"
     ]
    }
   ],
   "source": [
    "## Left normalize and split multiallelic variants\n",
    "bcftools norm -m-any ~/test/bcftools/chr3_mwe.subset_10samples.vcf.gz| \\\n",
    "    bcftools norm --check-ref w -f ~/test/bcftools/GRCh38_full_analysis_set_plus_decoy_hla.fa   -Oz | \\\n",
    "    bcftools annotate -Oz -x ID -I +'%CHROM:%POS:%REF:%ALT'  > chr3_mwe.subset_10samples.leftnorm.vcf.gz"
   ]
  },
  {
   "cell_type": "code",
   "execution_count": 22,
   "id": "386f1319-7662-45ce-97bc-32f31dd21506",
   "metadata": {
    "kernel": "Bash"
   },
   "outputs": [
    {
     "name": "stdout",
     "output_type": "stream",
     "text": [
      "\n"
     ]
    }
   ],
   "source": [
    "bcftools index -t -f ~/test/bcftools/chr3_mwe.subset_10samples.leftnorm.vcf.gz"
   ]
  },
  {
   "cell_type": "code",
   "execution_count": 12,
   "id": "1ecfd23e-4778-4dc6-9a6c-1de8a0155e81",
   "metadata": {
    "kernel": "Bash"
   },
   "outputs": [
    {
     "name": "stdout",
     "output_type": "stream",
     "text": [
      "234\n",
      "\n"
     ]
    }
   ],
   "source": [
    "## In simple terms there are 23 multiallelic variants that need to be split and 12 indels that need to be realigned\n",
    "bcftools view -H ~/test/bcftools/chr3_mwe.subset_10samples.leftnorm.vcf.gz | wc -l"
   ]
  },
  {
   "cell_type": "code",
   "execution_count": 13,
   "id": "355fe6ad-ea15-4cb8-9fc2-fe1338777970",
   "metadata": {
    "kernel": "Bash",
    "scrolled": true,
    "tags": []
   },
   "outputs": [
    {
     "name": "stdout",
     "output_type": "stream",
     "text": [
      "chr3\t43343244\tC\tT\tGT=0/0:AD=12,0:DP=12\tGT=0/0:AD=30,0:DP=30\tGT=0/0:AD=16,0:DP=16\tGT=0/0:AD=14,0:DP=14\tGT=0/0:AD=19,0:DP=19\tGT=0/0:AD=16,0:DP=16\tGT=0/0:AD=19,0:DP=19\tGT=0/0:AD=16,0:DP=16\tGT=0/0:AD=16,0:DP=16\tGT=0/0:AD=16,0:DP=16\t\n",
      "chr3\t43343506\tG\tGT\tGT=0/0:AD=25,0:DP=25\tGT=0/0:AD=30,0:DP=30\tGT=./.:AD=24,0:DP=24\tGT=0/0:AD=25,0:DP=25\tGT=0/0:AD=19,0:DP=19\tGT=0/0:AD=30,0:DP=30\tGT=0/0:AD=19,0:DP=19\tGT=0/0:AD=16,0:DP=16\tGT=0/0:AD=21,0:DP=21\tGT=0/0:AD=26,0:DP=26\t\n",
      "chr3\t43347372\tG\tA\tGT=0/0:AD=16,0:DP=16\tGT=0/0:AD=22,0:DP=22\tGT=0/0:AD=25,0:DP=25\tGT=0/0:AD=21,0:DP=21\tGT=0/0:AD=18,0:DP=18\tGT=0/0:AD=17,0:DP=17\tGT=0/0:AD=24,0:DP=24\tGT=0/0:AD=16,0:DP=16\tGT=0/0:AD=28,0:DP=28\tGT=0/0:AD=25,0:DP=25\t\n",
      "chr3\t43348524\tA\tT\tGT=0/0:AD=23,0:DP=23\tGT=0/0:AD=19,0:DP=19\tGT=0/0:AD=21,0:DP=21\tGT=0/0:AD=16,0:DP=16\tGT=0/0:AD=17,0:DP=17\tGT=0/0:AD=16,0:DP=16\tGT=0/0:AD=24,0:DP=24\tGT=0/0:AD=16,0:DP=16\tGT=0/0:AD=16,0:DP=16\tGT=0/0:AD=16,0:DP=16\t\n",
      "chr3\t43366896\tC\tT\tGT=0/0:AD=16,0:DP=16\tGT=0/0:AD=16,0:DP=16\tGT=0/0:AD=21,0:DP=21\tGT=0/0:AD=17,0:DP=17\tGT=0/0:AD=16,0:DP=16\tGT=0/0:AD=16,0:DP=16\tGT=0/0:AD=16,0:DP=16\tGT=0/0:AD=18,0:DP=18\tGT=0/0:AD=16,0:DP=16\tGT=0/0:AD=16,0:DP=16\t\n",
      "chr3\t43366925\tC\tT\tGT=0/0:AD=16,0:DP=16\tGT=0/0:AD=16,0:DP=16\tGT=0/0:AD=21,0:DP=21\tGT=0/0:AD=17,0:DP=17\tGT=0/0:AD=16,0:DP=16\tGT=0/0:AD=16,0:DP=16\tGT=0/0:AD=16,0:DP=16\tGT=0/0:AD=18,0:DP=18\tGT=0/0:AD=16,0:DP=16\tGT=0/0:AD=16,0:DP=16\t\n",
      "chr3\t43366971\tT\tC\tGT=0/0:AD=16,0:DP=16\tGT=0/0:AD=16,0:DP=16\tGT=0/0:AD=21,0:DP=21\tGT=0/0:AD=17,0:DP=17\tGT=0/0:AD=16,0:DP=16\tGT=0/0:AD=16,0:DP=16\tGT=0/0:AD=16,0:DP=16\tGT=0/0:AD=18,0:DP=18\tGT=0/0:AD=16,0:DP=16\tGT=0/0:AD=16,0:DP=16\t\n",
      "chr3\t43432603\tG\tC\tGT=0/0:AD=16,0:DP=16\tGT=0/0:AD=16,0:DP=16\tGT=0/0:AD=12,0:DP=12\tGT=0/0:AD=17,0:DP=17\tGT=0/0:AD=16,0:DP=16\tGT=0/0:AD=16,0:DP=16\tGT=0/0:AD=17,0:DP=17\tGT=0/0:AD=17,0:DP=17\tGT=0/0:AD=16,0:DP=16\tGT=0/0:AD=17,0:DP=17\t\n",
      "chr3\t43432603\tG\tGCT\tGT=0/0:AD=16,0:DP=16\tGT=0/0:AD=16,0:DP=16\tGT=0/0:AD=12,0:DP=12\tGT=0/0:AD=17,0:DP=17\tGT=0/0:AD=16,0:DP=16\tGT=0/0:AD=16,0:DP=16\tGT=0/0:AD=17,0:DP=17\tGT=0/0:AD=17,0:DP=17\tGT=0/0:AD=16,0:DP=16\tGT=0/0:AD=17,0:DP=17\t\n",
      "chr3\t43555211\tT\tC\tGT=0/0:AD=12,0:DP=12\tGT=0/0:AD=17,0:DP=17\tGT=0/0:AD=9,0:DP=9\tGT=0/0:AD=12,0:DP=12\tGT=0/0:AD=17,0:DP=17\tGT=0/0:AD=16,0:DP=16\tGT=0/0:AD=16,0:DP=16\tGT=0/0:AD=9,0:DP=9\tGT=0/0:AD=21,0:DP=21\tGT=0/0:AD=12,0:DP=12\t\n",
      "chr3\t43576722\tG\tA\tGT=0/0:AD=21,0:DP=21\tGT=0/0:AD=18,0:DP=18\tGT=0/0:AD=16,0:DP=16\tGT=0/0:AD=16,0:DP=16\tGT=0/0:AD=16,0:DP=16\tGT=0/0:AD=20,0:DP=20\tGT=0/0:AD=21,0:DP=21\tGT=0/0:AD=16,0:DP=16\tGT=0/0:AD=18,0:DP=18\tGT=0/0:AD=23,0:DP=23\t\n",
      "chr3\t43577344\tT\tC\tGT=0/0:AD=14,0:DP=14\tGT=0/0:AD=12,0:DP=12\tGT=0/0:AD=5,0:DP=5\tGT=0/0:AD=12,0:DP=12\tGT=0/0:AD=12,0:DP=12\tGT=0/0:AD=20,0:DP=20\tGT=0/0:AD=14,0:DP=14\tGT=0/0:AD=10,0:DP=10\tGT=0/0:AD=9,0:DP=9\tGT=0/0:AD=9,0:DP=9\t\n",
      "chr3\t43598749\tT\tC\tGT=0/0:AD=6,0:DP=6\tGT=0/0:AD=8,0:DP=8\tGT=0/0:AD=6,0:DP=6\tGT=0/0:AD=13,0:DP=13\tGT=0/0:AD=16,0:DP=16\tGT=0/0:AD=7,0:DP=7\tGT=0/0:AD=6,0:DP=6\tGT=0/0:AD=3,0:DP=3\tGT=0/0:AD=7,0:DP=7\tGT=0/0:AD=4,0:DP=4\t\n",
      "chr3\t43605787\tT\tC\tGT=0/0:AD=25,0:DP=25\tGT=0/0:AD=16,0:DP=16\tGT=0/0:AD=16,0:DP=16\tGT=0/0:AD=16,0:DP=16\tGT=0/0:AD=16,0:DP=16\tGT=0/0:AD=16,0:DP=16\tGT=0/0:AD=17,0:DP=17\tGT=0/0:AD=16,0:DP=16\tGT=0/0:AD=20,0:DP=20\tGT=0/0:AD=18,0:DP=18\t\n",
      "chr3\t43690963\tA\tG\tGT=0/0:AD=16,0:DP=16\tGT=0/0:AD=22,0:DP=22\tGT=0/0:AD=17,0:DP=17\tGT=0/0:AD=16,0:DP=16\tGT=0/0:AD=16,0:DP=16\tGT=0/0:AD=17,0:DP=17\tGT=0/0:AD=17,0:DP=17\tGT=0/0:AD=24,0:DP=24\tGT=0/0:AD=16,0:DP=16\tGT=0/0:AD=21,0:DP=21\t\n",
      "chr3\t43690965\tA\tG\tGT=0/0:AD=16,0:DP=16\tGT=0/0:AD=22,0:DP=22\tGT=0/0:AD=17,0:DP=17\tGT=0/0:AD=16,0:DP=16\tGT=0/0:AD=16,0:DP=16\tGT=0/0:AD=17,0:DP=17\tGT=0/0:AD=17,0:DP=17\tGT=0/0:AD=24,0:DP=24\tGT=0/0:AD=16,0:DP=16\tGT=0/0:AD=21,0:DP=21\t\n",
      "chr3\t43690986\tG\tA\tGT=0/0:AD=16,0:DP=16\tGT=0/0:AD=22,0:DP=22\tGT=0/0:AD=17,0:DP=17\tGT=0/0:AD=16,0:DP=16\tGT=0/0:AD=16,0:DP=16\tGT=0/0:AD=17,0:DP=17\tGT=0/0:AD=17,0:DP=17\tGT=0/0:AD=24,0:DP=24\tGT=0/0:AD=16,0:DP=16\tGT=0/0:AD=21,0:DP=21\t\n",
      "chr3\t43715040\tG\tA\tGT=0/0:AD=18,0:DP=18\tGT=0/0:AD=16,0:DP=16\tGT=0/0:AD=22,0:DP=22\tGT=0/0:AD=16,0:DP=16\tGT=0/0:AD=16,0:DP=16\tGT=0/0:AD=17,0:DP=17\tGT=0/0:AD=21,0:DP=21\tGT=0/0:AD=25,0:DP=25\tGT=0/0:AD=16,0:DP=16\tGT=0/0:AD=20,0:DP=20\t\n",
      "chr3\t43718347\tC\tG\tGT=0/0:AD=4,0:DP=4\tGT=0/0:AD=11,0:DP=11\tGT=0/0:AD=0,0:DP=0\tGT=0/0:AD=3,0:DP=3\tGT=0/0:AD=4,0:DP=4\tGT=0/0:AD=7,0:DP=7\tGT=0/0:AD=7,0:DP=7\tGT=0/0:AD=2,0:DP=2\tGT=0/0:AD=9,0:DP=9\tGT=0/0:AD=8,0:DP=8\t\n",
      "chr3\t43718432\tT\tC\tGT=0/0:AD=16,0:DP=16\tGT=0/0:AD=16,0:DP=16\tGT=0/0:AD=16,0:DP=16\tGT=0/0:AD=16,0:DP=16\tGT=0/0:AD=16,0:DP=16\tGT=0/0:AD=16,0:DP=16\tGT=0/0:AD=16,0:DP=16\tGT=0/0:AD=16,0:DP=16\tGT=0/0:AD=16,0:DP=16\tGT=0/0:AD=17,0:DP=17\t\n",
      "chr3\t44242040\tC\tG\tGT=0/0:AD=39,0:DP=39\tGT=0/0:AD=48,0:DP=48\tGT=0/0:AD=25,0:DP=25\tGT=0/0:AD=37,0:DP=37\tGT=0/0:AD=26,0:DP=26\tGT=0/0:AD=38,0:DP=38\tGT=0/0:AD=35,0:DP=35\tGT=0/0:AD=49,0:DP=49\tGT=0/0:AD=48,0:DP=48\tGT=0/0:AD=59,0:DP=59\t\n",
      "chr3\t44242048\tG\tC\tGT=0/0:AD=39,0:DP=39\tGT=0/0:AD=48,0:DP=48\tGT=0/0:AD=25,0:DP=25\tGT=0/0:AD=37,0:DP=37\tGT=0/0:AD=26,0:DP=26\tGT=0/0:AD=38,0:DP=38\tGT=0/0:AD=35,0:DP=35\tGT=0/0:AD=49,0:DP=49\tGT=0/0:AD=48,0:DP=48\tGT=0/0:AD=59,0:DP=59\t\n",
      "chr3\t44242048\tG\tA\tGT=0/0:AD=39,0:DP=39\tGT=0/0:AD=48,0:DP=48\tGT=0/0:AD=25,0:DP=25\tGT=0/0:AD=37,0:DP=37\tGT=0/0:AD=26,0:DP=26\tGT=0/0:AD=38,0:DP=38\tGT=0/0:AD=35,0:DP=35\tGT=0/0:AD=49,0:DP=49\tGT=0/0:AD=48,0:DP=48\tGT=0/0:AD=59,0:DP=59\t\n",
      "chr3\t44242318\tG\tA\tGT=0/0:AD=21,0:DP=21\tGT=0/0:AD=16,0:DP=16\tGT=0/0:AD=16,0:DP=16\tGT=0/0:AD=26,0:DP=26\tGT=0/0:AD=33,0:DP=33\tGT=0/0:AD=16,0:DP=16\tGT=0/0:AD=18,0:DP=18\tGT=0/0:AD=21,0:DP=21\tGT=0/0:AD=35,0:DP=35\tGT=0/0:AD=16,0:DP=16\t\n",
      "chr3\t44243738\tA\tG\tGT=0/0:AD=26,0:DP=26\tGT=0/0:AD=36,0:DP=36\tGT=0/0:AD=18,0:DP=18\tGT=0/0:AD=25,0:DP=25\tGT=0/0:AD=21,0:DP=21\tGT=0/0:AD=32,0:DP=32\tGT=0/0:AD=24,0:DP=24\tGT=0/0:AD=25,0:DP=25\tGT=0/0:AD=40,0:DP=40\tGT=0/0:AD=31,0:DP=31\t\n",
      "chr3\t44243738\tA\tC\tGT=0/0:AD=26,0:DP=26\tGT=0/0:AD=36,0:DP=36\tGT=0/0:AD=18,0:DP=18\tGT=0/0:AD=25,0:DP=25\tGT=0/0:AD=21,0:DP=21\tGT=0/0:AD=32,0:DP=32\tGT=0/0:AD=24,0:DP=24\tGT=0/0:AD=25,0:DP=25\tGT=0/0:AD=40,0:DP=40\tGT=0/0:AD=31,0:DP=31\t\n",
      "chr3\t44243909\tG\tA\tGT=0/0:AD=22,0:DP=22\tGT=0/0:AD=31,0:DP=31\tGT=0/0:AD=23,0:DP=23\tGT=0/0:AD=24,0:DP=24\tGT=0/0:AD=22,0:DP=22\tGT=0/0:AD=28,0:DP=28\tGT=0/0:AD=35,0:DP=35\tGT=0/0:AD=35,0:DP=35\tGT=0/0:AD=33,0:DP=33\tGT=0/0:AD=29,0:DP=29\t\n",
      "chr3\t44244604\tAAAG\tA\tGT=0/0:AD=22,0:DP=22\tGT=0/0:AD=39,0:DP=39\tGT=0/0:AD=22,0:DP=22\tGT=0/0:AD=24,0:DP=24\tGT=0/0:AD=37,0:DP=37\tGT=0/0:AD=36,0:DP=36\tGT=0/0:AD=43,0:DP=43\tGT=0/0:AD=31,0:DP=31\tGT=0/0:AD=33,0:DP=33\tGT=0/0:AD=29,0:DP=29\t\n",
      "chr3\t44244605\tA\tG\tGT=0/0:AD=22,0:DP=22\tGT=0/0:AD=39,0:DP=39\tGT=0/0:AD=22,0:DP=22\tGT=0/0:AD=24,0:DP=24\tGT=0/0:AD=37,0:DP=37\tGT=0/0:AD=36,0:DP=36\tGT=0/0:AD=43,0:DP=43\tGT=0/0:AD=31,0:DP=31\tGT=0/0:AD=33,0:DP=33\tGT=0/0:AD=29,0:DP=29\t\n",
      "chr3\t44244756\tT\tC\tGT=0/0:AD=25,0:DP=25\tGT=0/0:AD=17,0:DP=17\tGT=0/0:AD=16,0:DP=16\tGT=0/0:AD=16,0:DP=16\tGT=0/0:AD=17,0:DP=17\tGT=0/0:AD=33,0:DP=33\tGT=0/0:AD=21,0:DP=21\tGT=0/0:AD=25,0:DP=25\tGT=0/0:AD=17,0:DP=17\tGT=0/0:AD=16,0:DP=16\t\n",
      "chr3\t44245083\tT\tG\tGT=0/0:AD=21,0:DP=21\tGT=0/0:AD=17,0:DP=17\tGT=0/0:AD=16,0:DP=16\tGT=0/0:AD=16,0:DP=16\tGT=0/0:AD=17,0:DP=17\tGT=0/0:AD=33,0:DP=33\tGT=0/0:AD=21,0:DP=21\tGT=0/0:AD=16,0:DP=16\tGT=0/0:AD=17,0:DP=17\tGT=0/0:AD=16,0:DP=16\t\n",
      "chr3\t44245201\tG\tT\tGT=0/0:AD=21,0:DP=21\tGT=0/0:AD=17,0:DP=17\tGT=0/0:AD=16,0:DP=16\tGT=0/0:AD=16,0:DP=16\tGT=0/0:AD=17,0:DP=17\tGT=0/0:AD=18,0:DP=18\tGT=0/0:AD=21,0:DP=21\tGT=0/0:AD=16,0:DP=16\tGT=0/0:AD=17,0:DP=17\tGT=0/0:AD=16,0:DP=16\t\n",
      "chr3\t44254923\tC\tA\tGT=0/0:AD=18,0:DP=18\tGT=0/0:AD=16,0:DP=16\tGT=0/0:AD=11,0:DP=11\tGT=0/0:AD=18,0:DP=18\tGT=0/0:AD=9,0:DP=9\tGT=0/0:AD=11,0:DP=11\tGT=0/0:AD=14,0:DP=14\tGT=0/0:AD=7,0:DP=7\tGT=0/0:AD=14,0:DP=14\tGT=0/0:AD=16,0:DP=16\t\n",
      "chr3\t44254930\tT\tA\tGT=0/0:AD=18,0:DP=18\tGT=0/0:AD=16,0:DP=16\tGT=0/0:AD=11,0:DP=11\tGT=0/0:AD=18,0:DP=18\tGT=0/0:AD=9,0:DP=9\tGT=0/0:AD=10,0:DP=10\tGT=0/0:AD=14,0:DP=14\tGT=0/0:AD=11,0:DP=11\tGT=0/0:AD=16,0:DP=16\tGT=0/0:AD=16,0:DP=16\t\n",
      "chr3\t44256299\tT\tC\tGT=0/0:AD=16,0:DP=16\tGT=0/0:AD=16,0:DP=16\tGT=0/0:AD=16,0:DP=16\tGT=0/0:AD=16,0:DP=16\tGT=0/0:AD=16,0:DP=16\tGT=0/0:AD=16,0:DP=16\tGT=0/0:AD=16,0:DP=16\tGT=0/0:AD=16,0:DP=16\tGT=0/0:AD=16,0:DP=16\tGT=0/0:AD=16,0:DP=16\t\n",
      "chr3\t44256326\tG\tA\tGT=0/0:AD=16,0:DP=16\tGT=0/0:AD=16,0:DP=16\tGT=0/0:AD=21,0:DP=21\tGT=0/0:AD=14,0:DP=14\tGT=0/0:AD=12,0:DP=12\tGT=0/0:AD=14,0:DP=14\tGT=0/0:AD=16,0:DP=16\tGT=0/0:AD=16,0:DP=16\tGT=0/0:AD=16,0:DP=16\tGT=0/0:AD=16,0:DP=16\t\n",
      "chr3\t44256359\tG\tA\tGT=0/0:AD=14,0:DP=14\tGT=0/0:AD=12,0:DP=12\tGT=0/0:AD=16,0:DP=16\tGT=0/0:AD=9,0:DP=9\tGT=0/0:AD=8,0:DP=8\tGT=0/0:AD=14,0:DP=14\tGT=0/0:AD=11,0:DP=11\tGT=0/0:AD=12,0:DP=12\tGT=0/0:AD=11,0:DP=11\tGT=0/0:AD=7,0:DP=7\t\n",
      "chr3\t44287375\tA\tG\tGT=0/0:AD=16,0:DP=16\tGT=0/0:AD=16,0:DP=16\tGT=0/0:AD=14,0:DP=14\tGT=0/0:AD=16,0:DP=16\tGT=0/0:AD=16,0:DP=16\tGT=0/0:AD=16,0:DP=16\tGT=0/0:AD=16,0:DP=16\tGT=0/0:AD=9,0:DP=9\tGT=0/0:AD=17,0:DP=17\tGT=0/0:AD=16,0:DP=16\t\n",
      "chr3\t44287478\tA\tG\tGT=0/0:AD=21,0:DP=21\tGT=0/0:AD=16,0:DP=16\tGT=0/0:AD=16,0:DP=16\tGT=0/0:AD=16,0:DP=16\tGT=0/0:AD=14,0:DP=14\tGT=0/0:AD=14,0:DP=14\tGT=0/0:AD=16,0:DP=16\tGT=0/0:AD=18,0:DP=18\tGT=0/0:AD=17,0:DP=17\tGT=0/0:AD=16,0:DP=16\t\n",
      "chr3\t44287764\tA\tG\tGT=0/0:AD=16,0:DP=16\tGT=0/0:AD=16,0:DP=16\tGT=0/0:AD=16,0:DP=16\tGT=0/0:AD=17,0:DP=17\tGT=0/0:AD=14,0:DP=14\tGT=0/0:AD=16,0:DP=16\tGT=0/0:AD=16,0:DP=16\tGT=0/0:AD=4,0:DP=4\tGT=0/0:AD=16,0:DP=16\tGT=0/0:AD=14,0:DP=14\t\n",
      "chr3\t44290782\tC\tT\tGT=0/0:AD=16,0:DP=16\tGT=0/0:AD=18,0:DP=18\tGT=0/0:AD=16,0:DP=16\tGT=0/0:AD=17,0:DP=17\tGT=0/0:AD=16,0:DP=16\tGT=0/0:AD=16,0:DP=16\tGT=0/0:AD=16,0:DP=16\tGT=0/0:AD=16,0:DP=16\tGT=0/0:AD=16,0:DP=16\tGT=0/0:AD=24,0:DP=24\t\n",
      "chr3\t44305125\tT\tG\tGT=0/0:AD=16,0:DP=16\tGT=0/0:AD=17,0:DP=17\tGT=0/0:AD=17,0:DP=17\tGT=0/0:AD=16,0:DP=16\tGT=0/0:AD=14,0:DP=14\tGT=0/0:AD=17,0:DP=17\tGT=0/0:AD=16,0:DP=16\tGT=0/0:AD=22,0:DP=22\tGT=0/0:AD=16,0:DP=16\tGT=0/0:AD=16,0:DP=16\t\n",
      "chr3\t44305398\tC\tT\tGT=0/0:AD=16,0:DP=16\tGT=0/0:AD=17,0:DP=17\tGT=0/0:AD=4,0:DP=4\tGT=0/0:AD=16,0:DP=16\tGT=0/0:AD=12,0:DP=12\tGT=0/0:AD=17,0:DP=17\tGT=0/0:AD=16,0:DP=16\tGT=0/0:AD=16,0:DP=16\tGT=0/0:AD=16,0:DP=16\tGT=0/0:AD=11,0:DP=11\t\n",
      "chr3\t44309876\tT\tG\tGT=0/0:AD=12,0:DP=12\tGT=0/0:AD=17,0:DP=17\tGT=0/0:AD=12,0:DP=12\tGT=0/0:AD=16,0:DP=16\tGT=0/0:AD=17,0:DP=17\tGT=0/0:AD=16,0:DP=16\tGT=0/0:AD=16,0:DP=16\tGT=0/0:AD=20,0:DP=20\tGT=0/0:AD=16,0:DP=16\tGT=0/0:AD=16,0:DP=16\t\n",
      "chr3\t44309876\tT\tC\tGT=0/0:AD=12,0:DP=12\tGT=0/0:AD=17,0:DP=17\tGT=0/0:AD=12,0:DP=12\tGT=0/0:AD=16,0:DP=16\tGT=0/0:AD=17,0:DP=17\tGT=0/0:AD=16,0:DP=16\tGT=0/0:AD=16,0:DP=16\tGT=0/0:AD=20,0:DP=20\tGT=0/0:AD=16,0:DP=16\tGT=0/0:AD=16,0:DP=16\t\n",
      "chr3\t44328221\tA\tG\tGT=0/0:AD=9,0:DP=9\tGT=0/0:AD=17,0:DP=17\tGT=0/0:AD=17,0:DP=17\tGT=0/0:AD=17,0:DP=17\tGT=0/0:AD=12,0:DP=12\tGT=0/0:AD=16,0:DP=16\tGT=0/0:AD=16,0:DP=16\tGT=0/0:AD=14,0:DP=14\tGT=0/0:AD=19,0:DP=19\tGT=0/0:AD=16,0:DP=16\t\n",
      "chr3\t44331705\tG\tA\tGT=0/0:AD=7,0:DP=7\tGT=0/0:AD=9,0:DP=9\tGT=0/0:AD=3,0:DP=3\tGT=0/0:AD=9,0:DP=9\tGT=0/0:AD=7,0:DP=7\tGT=0/0:AD=11,0:DP=11\tGT=0/0:AD=11,0:DP=11\tGT=0/0:AD=9,0:DP=9\tGT=0/0:AD=9,0:DP=9\tGT=0/0:AD=7,0:DP=7\t\n",
      "chr3\t44358245\tC\tT\tGT=0/0:AD=9,0:DP=9\tGT=0/0:AD=16,0:DP=16\tGT=0/0:AD=9,0:DP=9\tGT=0/0:AD=9,0:DP=9\tGT=0/0:AD=4,0:DP=4\tGT=0/0:AD=16,0:DP=16\tGT=0/0:AD=16,0:DP=16\tGT=0/0:AD=8,0:DP=8\tGT=0/0:AD=14,0:DP=14\tGT=0/0:AD=10,0:DP=10\t\n",
      "chr3\t44358245\tC\tG\tGT=0/0:AD=9,0:DP=9\tGT=0/0:AD=16,0:DP=16\tGT=0/0:AD=9,0:DP=9\tGT=0/0:AD=9,0:DP=9\tGT=0/0:AD=4,0:DP=4\tGT=0/0:AD=16,0:DP=16\tGT=0/0:AD=16,0:DP=16\tGT=0/0:AD=8,0:DP=8\tGT=0/0:AD=14,0:DP=14\tGT=0/0:AD=10,0:DP=10\t\n",
      "chr3\t44359012\tGTT\tG\tGT=0/0:AD=17,0:DP=17\tGT=0/0:AD=16,0:DP=16\tGT=0/0:AD=16,0:DP=16\tGT=0/0:AD=16,0:DP=16\tGT=0/0:AD=16,0:DP=16\tGT=0/0:AD=16,0:DP=16\tGT=0/0:AD=24,0:DP=24\tGT=0/0:AD=16,0:DP=16\tGT=0/0:AD=17,0:DP=17\tGT=0/0:AD=17,0:DP=17\t\n",
      "chr3\t44359014\tT\tC\tGT=0/0:AD=17,0:DP=17\tGT=0/0:AD=16,0:DP=16\tGT=0/0:AD=16,0:DP=16\tGT=0/0:AD=16,0:DP=16\tGT=0/0:AD=16,0:DP=16\tGT=0/0:AD=16,0:DP=16\tGT=0/0:AD=24,0:DP=24\tGT=0/0:AD=16,0:DP=16\tGT=0/0:AD=17,0:DP=17\tGT=0/0:AD=17,0:DP=17\t\n",
      "chr3\t44361391\tG\tT\tGT=0/0:AD=16,0:DP=16\tGT=0/0:AD=16,0:DP=16\tGT=0/0:AD=16,0:DP=16\tGT=0/0:AD=16,0:DP=16\tGT=0/0:AD=18,0:DP=18\tGT=0/0:AD=20,0:DP=20\tGT=0/0:AD=16,0:DP=16\tGT=0/0:AD=16,0:DP=16\tGT=0/0:AD=16,0:DP=16\tGT=0/0:AD=16,0:DP=16\t\n",
      "chr3\t44361391\tG\tC\tGT=0/0:AD=16,0:DP=16\tGT=0/0:AD=16,0:DP=16\tGT=0/0:AD=16,0:DP=16\tGT=0/0:AD=16,0:DP=16\tGT=0/0:AD=18,0:DP=18\tGT=0/0:AD=20,0:DP=20\tGT=0/0:AD=16,0:DP=16\tGT=0/0:AD=16,0:DP=16\tGT=0/0:AD=16,0:DP=16\tGT=0/0:AD=16,0:DP=16\t\n",
      "chr3\t44393055\tA\tG\tGT=0/0:AD=9,0:DP=9\tGT=0/0:AD=12,0:DP=12\tGT=0/0:AD=4,0:DP=4\tGT=0/0:AD=12,0:DP=12\tGT=0/0:AD=12,0:DP=12\tGT=0/0:AD=9,0:DP=9\tGT=0/0:AD=14,0:DP=14\tGT=0/0:AD=12,0:DP=12\tGT=0/0:AD=16,0:DP=16\tGT=0/0:AD=8,0:DP=8\t\n",
      "chr3\t44396868\tT\tC\tGT=0/0:AD=22,0:DP=22\tGT=0/0:AD=22,0:DP=22\tGT=0/0:AD=11,0:DP=11\tGT=0/0:AD=16,0:DP=16\tGT=0/0:AD=21,0:DP=21\tGT=0/0:AD=17,0:DP=17\tGT=0/0:AD=17,0:DP=17\tGT=0/0:AD=16,0:DP=16\tGT=0/0:AD=13,0:DP=13\tGT=0/0:AD=16,0:DP=16\t\n",
      "chr3\t44400601\tA\tG\tGT=0/0:AD=16,0:DP=16\tGT=0/0:AD=16,0:DP=16\tGT=0/0:AD=10,0:DP=10\tGT=0/0:AD=12,0:DP=12\tGT=0/0:AD=16,0:DP=16\tGT=0/0:AD=16,0:DP=16\tGT=0/0:AD=16,0:DP=16\tGT=0/0:AD=9,0:DP=9\tGT=0/0:AD=16,0:DP=16\tGT=0/0:AD=16,0:DP=16\t\n",
      "chr3\t44400678\tG\tA\tGT=0/0:AD=2,0:DP=2\tGT=0/0:AD=15,0:DP=15\tGT=0/0:AD=2,0:DP=2\tGT=0/0:AD=7,0:DP=7\tGT=0/0:AD=9,0:DP=9\tGT=0/0:AD=5,0:DP=5\tGT=0/0:AD=13,0:DP=13\tGT=0/0:AD=3,0:DP=3\tGT=0/0:AD=11,0:DP=11\tGT=0/0:AD=4,0:DP=4\t\n",
      "chr3\t44401179\tC\tG\tGT=0/0:AD=19,0:DP=19\tGT=0/0:AD=25,0:DP=25\tGT=0/0:AD=18,0:DP=18\tGT=0/0:AD=23,0:DP=23\tGT=0/0:AD=16,0:DP=16\tGT=0/0:AD=20,0:DP=20\tGT=0/0:AD=23,0:DP=23\tGT=0/0:AD=16,0:DP=16\tGT=0/0:AD=22,0:DP=22\tGT=0/0:AD=19,0:DP=19\t\n",
      "chr3\t44407433\tA\tG\tGT=0/0:AD=16,0:DP=16\tGT=0/0:AD=16,0:DP=16\tGT=0/0:AD=9,0:DP=9\tGT=0/0:AD=12,0:DP=12\tGT=0/0:AD=16,0:DP=16\tGT=0/0:AD=14,0:DP=14\tGT=0/0:AD=17,0:DP=17\tGT=0/0:AD=7,0:DP=7\tGT=0/0:AD=16,0:DP=16\tGT=0/0:AD=14,0:DP=14\t\n",
      "chr3\t44446489\tT\tA\tGT=0/0:AD=14,0:DP=14\tGT=0/0:AD=29,0:DP=29\tGT=0/0:AD=9,0:DP=9\tGT=0/0:AD=24,0:DP=24\tGT=0/0:AD=15,0:DP=15\tGT=0/0:AD=22,0:DP=22\tGT=0/0:AD=25,0:DP=25\tGT=0/0:AD=14,0:DP=14\tGT=0/0:AD=28,0:DP=28\tGT=0/0:AD=16,0:DP=16\t\n",
      "chr3\t44447279\tC\tT\tGT=0/0:AD=16,0:DP=16\tGT=0/0:AD=29,0:DP=29\tGT=0/0:AD=18,0:DP=18\tGT=0/0:AD=24,0:DP=24\tGT=0/0:AD=23,0:DP=23\tGT=0/0:AD=22,0:DP=22\tGT=0/0:AD=25,0:DP=25\tGT=0/0:AD=19,0:DP=19\tGT=0/0:AD=28,0:DP=28\tGT=0/0:AD=18,0:DP=18\t\n",
      "chr3\t44447967\tA\tC\tGT=0/0:AD=31,0:DP=31\tGT=0/0:AD=59,0:DP=59\tGT=0/0:AD=25,0:DP=25\tGT=0/0:AD=43,0:DP=43\tGT=0/0:AD=41,0:DP=41\tGT=0/0:AD=42,0:DP=42\tGT=0/0:AD=61,0:DP=61\tGT=0/0:AD=39,0:DP=39\tGT=0/0:AD=53,0:DP=53\tGT=0/0:AD=46,0:DP=46\t\n",
      "chr3\t44448209\tT\tC\tGT=0/0:AD=31,0:DP=31\tGT=0/0:AD=59,0:DP=59\tGT=0/0:AD=25,0:DP=25\tGT=0/0:AD=43,0:DP=43\tGT=0/0:AD=41,0:DP=41\tGT=0/0:AD=42,0:DP=42\tGT=0/0:AD=61,0:DP=61\tGT=0/0:AD=39,0:DP=39\tGT=0/0:AD=53,0:DP=53\tGT=0/0:AD=46,0:DP=46\t\n",
      "chr3\t44448250\tC\tT\tGT=0/0:AD=31,0:DP=31\tGT=0/0:AD=59,0:DP=59\tGT=0/0:AD=25,0:DP=25\tGT=0/0:AD=43,0:DP=43\tGT=0/0:AD=41,0:DP=41\tGT=0/0:AD=42,0:DP=42\tGT=0/0:AD=61,0:DP=61\tGT=0/0:AD=39,0:DP=39\tGT=0/0:AD=53,0:DP=53\tGT=0/0:AD=46,0:DP=46\t\n",
      "chr3\t44448638\tC\tA\tGT=0/0:AD=16,0:DP=16\tGT=0/0:AD=23,0:DP=23\tGT=0/0:AD=16,0:DP=16\tGT=0/0:AD=16,0:DP=16\tGT=0/0:AD=22,0:DP=22\tGT=0/0:AD=16,0:DP=16\tGT=0/0:AD=16,0:DP=16\tGT=0/0:AD=25,0:DP=25\tGT=0/0:AD=16,0:DP=16\tGT=0/0:AD=16,0:DP=16\t\n",
      "chr3\t44448807\tG\tC\tGT=0/0:AD=12,0:DP=12\tGT=0/0:AD=23,0:DP=23\tGT=0/0:AD=12,0:DP=12\tGT=0/0:AD=16,0:DP=16\tGT=0/0:AD=16,0:DP=16\tGT=0/0:AD=16,0:DP=16\tGT=0/0:AD=16,0:DP=16\tGT=0/0:AD=17,0:DP=17\tGT=0/0:AD=16,0:DP=16\tGT=0/0:AD=16,0:DP=16\t\n",
      "chr3\t44450979\tC\tT\tGT=0/0:AD=18,0:DP=18\tGT=0/0:AD=16,0:DP=16\tGT=0/0:AD=16,0:DP=16\tGT=0/0:AD=16,0:DP=16\tGT=0/0:AD=17,0:DP=17\tGT=0/0:AD=16,0:DP=16\tGT=0/0:AD=16,0:DP=16\tGT=0/0:AD=16,0:DP=16\tGT=0/0:AD=16,0:DP=16\tGT=0/0:AD=19,0:DP=19\t\n",
      "chr3\t44455231\tG\tA\tGT=0/0:AD=16,0:DP=16\tGT=0/0:AD=18,0:DP=18\tGT=0/0:AD=23,0:DP=23\tGT=0/0:AD=19,0:DP=19\tGT=0/0:AD=16,0:DP=16\tGT=0/0:AD=16,0:DP=16\tGT=0/0:AD=16,0:DP=16\tGT=0/0:AD=16,0:DP=16\tGT=0/0:AD=16,0:DP=16\tGT=0/0:AD=16,0:DP=16\t\n",
      "chr3\t44499464\tG\tA\tGT=0/0:AD=61,0:DP=61\tGT=0/0:AD=69,0:DP=69\tGT=0/0:AD=38,0:DP=38\tGT=0/0:AD=70,0:DP=70\tGT=0/0:AD=55,0:DP=55\tGT=0/0:AD=59,0:DP=59\tGT=0/0:AD=64,0:DP=64\tGT=0/0:AD=54,0:DP=54\tGT=0/0:AD=76,0:DP=76\tGT=0/0:AD=64,0:DP=64\t\n",
      "chr3\t44499559\tT\tC\tGT=0/0:AD=61,0:DP=61\tGT=0/0:AD=69,0:DP=69\tGT=0/0:AD=38,0:DP=38\tGT=0/0:AD=70,0:DP=70\tGT=0/0:AD=55,0:DP=55\tGT=0/0:AD=59,0:DP=59\tGT=0/0:AD=64,0:DP=64\tGT=0/0:AD=54,0:DP=54\tGT=0/0:AD=76,0:DP=76\tGT=0/0:AD=64,0:DP=64\t\n",
      "chr3\t44499600\tC\tG\tGT=0/0:AD=61,0:DP=61\tGT=0/0:AD=69,0:DP=69\tGT=0/0:AD=38,0:DP=38\tGT=0/0:AD=70,0:DP=70\tGT=0/0:AD=55,0:DP=55\tGT=0/0:AD=59,0:DP=59\tGT=0/0:AD=64,0:DP=64\tGT=0/0:AD=54,0:DP=54\tGT=0/0:AD=76,0:DP=76\tGT=0/0:AD=64,0:DP=64\t\n",
      "chr3\t44499639\tC\tT\tGT=0/0:AD=61,0:DP=61\tGT=0/0:AD=69,0:DP=69\tGT=0/0:AD=38,0:DP=38\tGT=0/0:AD=70,0:DP=70\tGT=0/0:AD=55,0:DP=55\tGT=0/0:AD=59,0:DP=59\tGT=0/0:AD=64,0:DP=64\tGT=0/0:AD=54,0:DP=54\tGT=0/0:AD=76,0:DP=76\tGT=0/0:AD=64,0:DP=64\t\n",
      "chr3\t44499707\tC\tT\tGT=0/0:AD=61,0:DP=61\tGT=0/0:AD=69,0:DP=69\tGT=0/0:AD=38,0:DP=38\tGT=0/0:AD=70,0:DP=70\tGT=0/0:AD=55,0:DP=55\tGT=0/0:AD=59,0:DP=59\tGT=0/0:AD=64,0:DP=64\tGT=0/0:AD=54,0:DP=54\tGT=0/0:AD=76,0:DP=76\tGT=0/0:AD=64,0:DP=64\t\n",
      "chr3\t44500679\tT\tC\tGT=0/0:AD=21,0:DP=21\tGT=0/0:AD=31,0:DP=31\tGT=0/0:AD=16,0:DP=16\tGT=0/0:AD=17,0:DP=17\tGT=0/0:AD=16,0:DP=16\tGT=0/0:AD=17,0:DP=17\tGT=0/0:AD=16,0:DP=16\tGT=0/0:AD=26,0:DP=26\tGT=0/0:AD=18,0:DP=18\tGT=0/0:AD=16,0:DP=16\t\n",
      "chr3\t44557102\tC\tG\tGT=0/0:AD=16,0:DP=16\tGT=0/0:AD=24,0:DP=24\tGT=0/0:AD=16,0:DP=16\tGT=0/0:AD=16,0:DP=16\tGT=0/0:AD=16,0:DP=16\tGT=0/0:AD=17,0:DP=17\tGT=0/0:AD=16,0:DP=16\tGT=0/0:AD=18,0:DP=18\tGT=0/0:AD=16,0:DP=16\tGT=0/0:AD=24,0:DP=24\t\n",
      "chr3\t44557327\tC\tT\tGT=0/0:AD=16,0:DP=16\tGT=0/0:AD=24,0:DP=24\tGT=0/0:AD=16,0:DP=16\tGT=0/0:AD=16,0:DP=16\tGT=0/0:AD=16,0:DP=16\tGT=0/0:AD=17,0:DP=17\tGT=0/0:AD=16,0:DP=16\tGT=0/0:AD=18,0:DP=18\tGT=0/0:AD=16,0:DP=16\tGT=0/0:AD=24,0:DP=24\t\n",
      "chr3\t44557430\tT\tC\tGT=0/0:AD=16,0:DP=16\tGT=0/0:AD=24,0:DP=24\tGT=0/0:AD=16,0:DP=16\tGT=0/0:AD=16,0:DP=16\tGT=0/0:AD=16,0:DP=16\tGT=0/0:AD=17,0:DP=17\tGT=0/0:AD=16,0:DP=16\tGT=0/0:AD=18,0:DP=18\tGT=0/0:AD=16,0:DP=16\tGT=0/0:AD=24,0:DP=24\t\n",
      "chr3\t44565672\tC\tT\tGT=0/0:AD=25,0:DP=25\tGT=0/0:AD=17,0:DP=17\tGT=0/0:AD=25,0:DP=25\tGT=0/0:AD=17,0:DP=17\tGT=0/0:AD=16,0:DP=16\tGT=0/0:AD=16,0:DP=16\tGT=0/0:AD=19,0:DP=19\tGT=0/0:AD=27,0:DP=27\tGT=0/0:AD=19,0:DP=19\tGT=0/0:AD=16,0:DP=16\t\n",
      "chr3\t44565731\tC\tT\tGT=0/0:AD=16,0:DP=16\tGT=0/0:AD=17,0:DP=17\tGT=0/0:AD=7,0:DP=7\tGT=0/0:AD=17,0:DP=17\tGT=0/0:AD=16,0:DP=16\tGT=0/0:AD=12,0:DP=12\tGT=0/0:AD=16,0:DP=16\tGT=0/0:AD=12,0:DP=12\tGT=0/0:AD=19,0:DP=19\tGT=0/0:AD=12,0:DP=12\t\n",
      "chr3\t44568370\tCTCAG\tC\tGT=0/0:AD=23,0:DP=23\tGT=0/0:AD=34,0:DP=34\tGT=0/0:AD=18,0:DP=18\tGT=0/0:AD=26,0:DP=26\tGT=0/0:AD=18,0:DP=18\tGT=0/0:AD=18,0:DP=18\tGT=0/0:AD=32,0:DP=32\tGT=0/0:AD=22,0:DP=22\tGT=0/0:AD=23,0:DP=23\tGT=0/0:AD=25,0:DP=25\t\n",
      "chr3\t44568372\tC\tT\tGT=0/0:AD=23,0:DP=23\tGT=0/0:AD=34,0:DP=34\tGT=0/0:AD=18,0:DP=18\tGT=0/0:AD=26,0:DP=26\tGT=0/0:AD=18,0:DP=18\tGT=0/0:AD=18,0:DP=18\tGT=0/0:AD=32,0:DP=32\tGT=0/0:AD=22,0:DP=22\tGT=0/0:AD=23,0:DP=23\tGT=0/0:AD=25,0:DP=25\t\n",
      "chr3\t44568374\tG\tT\tGT=0/0:AD=23,0:DP=23\tGT=0/0:AD=34,0:DP=34\tGT=0/0:AD=18,0:DP=18\tGT=0/0:AD=26,0:DP=26\tGT=0/0:AD=18,0:DP=18\tGT=0/0:AD=18,0:DP=18\tGT=0/0:AD=32,0:DP=32\tGT=0/0:AD=22,0:DP=22\tGT=0/0:AD=23,0:DP=23\tGT=0/0:AD=25,0:DP=25\t\n",
      "chr3\t44568491\tT\tC\tGT=0/0:AD=23,0:DP=23\tGT=0/0:AD=34,0:DP=34\tGT=0/0:AD=18,0:DP=18\tGT=0/0:AD=26,0:DP=26\tGT=0/0:AD=18,0:DP=18\tGT=0/0:AD=18,0:DP=18\tGT=0/0:AD=32,0:DP=32\tGT=0/0:AD=22,0:DP=22\tGT=0/0:AD=23,0:DP=23\tGT=0/0:AD=25,0:DP=25\t\n",
      "chr3\t44568519\tA\tG\tGT=0/0:AD=23,0:DP=23\tGT=0/0:AD=34,0:DP=34\tGT=0/0:AD=18,0:DP=18\tGT=0/0:AD=17,0:DP=17\tGT=0/0:AD=21,0:DP=21\tGT=0/0:AD=18,0:DP=18\tGT=0/0:AD=32,0:DP=32\tGT=0/0:AD=22,0:DP=22\tGT=0/0:AD=23,0:DP=23\tGT=0/0:AD=25,0:DP=25\t\n",
      "chr3\t44570113\tGA\tG\tGT=0/0:AD=30,0:DP=30\tGT=0/0:AD=56,0:DP=56\tGT=0/0:AD=18,0:DP=18\tGT=0/0:AD=33,0:DP=33\tGT=0/0:AD=24,0:DP=24\tGT=0/0:AD=38,0:DP=38\tGT=0/0:AD=63,0:DP=63\tGT=0/0:AD=16,0:DP=16\tGT=0/0:AD=46,0:DP=46\tGT=0/0:AD=32,0:DP=32\t\n",
      "chr3\t44570776\tT\tC\tGT=0/0:AD=69,0:DP=69\tGT=0/0:AD=56,0:DP=56\tGT=0/0:AD=47,0:DP=47\tGT=0/0:AD=82,0:DP=82\tGT=0/0:AD=71,0:DP=71\tGT=0/0:AD=72,0:DP=72\tGT=0/0:AD=98,0:DP=98\tGT=0/0:AD=55,0:DP=55\tGT=0/0:AD=87,0:DP=87\tGT=0/0:AD=73,0:DP=73\t\n",
      "chr3\t44570776\tT\tG\tGT=0/0:AD=69,0:DP=69\tGT=0/0:AD=56,0:DP=56\tGT=0/0:AD=47,0:DP=47\tGT=0/0:AD=82,0:DP=82\tGT=0/0:AD=71,0:DP=71\tGT=0/0:AD=72,0:DP=72\tGT=0/0:AD=98,0:DP=98\tGT=0/0:AD=55,0:DP=55\tGT=0/0:AD=87,0:DP=87\tGT=0/0:AD=73,0:DP=73\t\n",
      "chr3\t44570842\tC\tA\tGT=0/0:AD=56,0:DP=56\tGT=0/0:AD=70,0:DP=70\tGT=0/0:AD=29,0:DP=29\tGT=0/0:AD=67,0:DP=67\tGT=0/0:AD=52,0:DP=52\tGT=0/0:AD=56,0:DP=56\tGT=0/0:AD=70,0:DP=70\tGT=0/0:AD=44,0:DP=44\tGT=0/0:AD=84,0:DP=84\tGT=0/0:AD=37,0:DP=37\t\n",
      "chr3\t44570917\tG\tA\tGT=0/0:AD=56,0:DP=56\tGT=0/0:AD=70,0:DP=70\tGT=0/0:AD=29,0:DP=29\tGT=0/0:AD=67,0:DP=67\tGT=0/0:AD=52,0:DP=52\tGT=0/0:AD=56,0:DP=56\tGT=0/0:AD=70,0:DP=70\tGT=0/0:AD=44,0:DP=44\tGT=0/0:AD=84,0:DP=84\tGT=0/0:AD=37,0:DP=37\t\n",
      "chr3\t44571816\tA\tG\tGT=0/0:AD=34,0:DP=34\tGT=0/0:AD=59,0:DP=59\tGT=0/0:AD=29,0:DP=29\tGT=0/0:AD=37,0:DP=37\tGT=0/0:AD=31,0:DP=31\tGT=0/0:AD=39,0:DP=39\tGT=0/0:AD=56,0:DP=56\tGT=0/0:AD=19,0:DP=19\tGT=0/0:AD=54,0:DP=54\tGT=0/0:AD=37,0:DP=37\t\n",
      "chr3\t44572050\tT\tA\tGT=0/0:AD=26,0:DP=26\tGT=0/0:AD=35,0:DP=35\tGT=0/0:AD=16,0:DP=16\tGT=0/0:AD=22,0:DP=22\tGT=0/0:AD=23,0:DP=23\tGT=0/0:AD=24,0:DP=24\tGT=0/0:AD=32,0:DP=32\tGT=0/0:AD=24,0:DP=24\tGT=0/0:AD=24,0:DP=24\tGT=0/0:AD=25,0:DP=25\t\n",
      "chr3\t44594134\tG\tC\tGT=0/0:AD=14,0:DP=14\tGT=0/0:AD=19,0:DP=19\tGT=0/0:AD=17,0:DP=17\tGT=0/0:AD=18,0:DP=18\tGT=0/0:AD=17,0:DP=17\tGT=0/0:AD=16,0:DP=16\tGT=0/0:AD=20,0:DP=20\tGT=0/0:AD=15,0:DP=15\tGT=0/0:AD=16,0:DP=16\tGT=0/0:AD=16,0:DP=16\t\n",
      "chr3\t44594134\tG\tA\tGT=0/0:AD=14,0:DP=14\tGT=0/0:AD=19,0:DP=19\tGT=0/0:AD=17,0:DP=17\tGT=0/0:AD=18,0:DP=18\tGT=0/0:AD=17,0:DP=17\tGT=0/0:AD=16,0:DP=16\tGT=0/0:AD=20,0:DP=20\tGT=0/0:AD=15,0:DP=15\tGT=0/0:AD=16,0:DP=16\tGT=0/0:AD=16,0:DP=16\t\n",
      "chr3\t44594175\tA\tG\tGT=0/0:AD=17,0:DP=17\tGT=0/0:AD=19,0:DP=19\tGT=0/0:AD=17,0:DP=17\tGT=0/0:AD=18,0:DP=18\tGT=0/0:AD=17,0:DP=17\tGT=0/0:AD=16,0:DP=16\tGT=0/0:AD=20,0:DP=20\tGT=0/0:AD=16,0:DP=16\tGT=0/0:AD=16,0:DP=16\tGT=0/0:AD=16,0:DP=16\t\n",
      "chr3\t44629357\tG\tA\tGT=0/0:AD=16,0:DP=16\tGT=0/0:AD=19,0:DP=19\tGT=0/0:AD=17,0:DP=17\tGT=0/0:AD=24,0:DP=24\tGT=0/0:AD=18,0:DP=18\tGT=0/0:AD=19,0:DP=19\tGT=0/0:AD=16,0:DP=16\tGT=0/0:AD=16,0:DP=16\tGT=0/0:AD=19,0:DP=19\tGT=0/0:AD=25,0:DP=25\t\n",
      "chr3\t44629372\tC\tT\tGT=0/0:AD=16,0:DP=16\tGT=0/0:AD=19,0:DP=19\tGT=0/0:AD=17,0:DP=17\tGT=0/0:AD=24,0:DP=24\tGT=0/0:AD=18,0:DP=18\tGT=0/0:AD=19,0:DP=19\tGT=0/0:AD=16,0:DP=16\tGT=0/0:AD=16,0:DP=16\tGT=0/0:AD=19,0:DP=19\tGT=0/0:AD=25,0:DP=25\t\n",
      "chr3\t44631109\tTG\tT\tGT=0/0:AD=18,0:DP=18\tGT=0/0:AD=18,0:DP=18\tGT=0/0:AD=17,0:DP=17\tGT=0/0:AD=16,0:DP=16\tGT=0/0:AD=17,0:DP=17\tGT=0/0:AD=16,0:DP=16\tGT=0/0:AD=17,0:DP=17\tGT=0/0:AD=21,0:DP=21\tGT=0/0:AD=17,0:DP=17\tGT=0/0:AD=26,0:DP=26\t\n",
      "chr3\t44631110\tG\tA\tGT=0/0:AD=18,0:DP=18\tGT=0/0:AD=18,0:DP=18\tGT=0/0:AD=17,0:DP=17\tGT=0/0:AD=16,0:DP=16\tGT=0/0:AD=17,0:DP=17\tGT=0/0:AD=16,0:DP=16\tGT=0/0:AD=17,0:DP=17\tGT=0/0:AD=21,0:DP=21\tGT=0/0:AD=17,0:DP=17\tGT=0/0:AD=26,0:DP=26\t\n",
      "chr3\t44632496\tG\tA\tGT=0/0:AD=18,0:DP=18\tGT=0/0:AD=18,0:DP=18\tGT=0/0:AD=25,0:DP=25\tGT=0/0:AD=17,0:DP=17\tGT=0/0:AD=17,0:DP=17\tGT=0/0:AD=17,0:DP=17\tGT=0/0:AD=20,0:DP=20\tGT=0/0:AD=18,0:DP=18\tGT=0/0:AD=16,0:DP=16\tGT=0/0:AD=16,0:DP=16\t\n",
      "chr3\t44641897\tC\tT\tGT=0/0:AD=20,0:DP=20\tGT=0/0:AD=16,0:DP=16\tGT=0/0:AD=16,0:DP=16\tGT=0/0:AD=18,0:DP=18\tGT=0/0:AD=16,0:DP=16\tGT=0/0:AD=19,0:DP=19\tGT=0/0:AD=16,0:DP=16\tGT=0/0:AD=19,0:DP=19\tGT=0/0:AD=16,0:DP=16\tGT=0/0:AD=16,0:DP=16\t\n",
      "chr3\t44642021\tTGAA\tT\tGT=0/1:AD=30,43:DP=73\tGT=0/0:AD=16,0:DP=16\tGT=0/0:AD=16,0:DP=16\tGT=0/0:AD=18,0:DP=18\tGT=0/0:AD=16,0:DP=16\tGT=0/0:AD=19,0:DP=19\tGT=0/0:AD=16,0:DP=16\tGT=0/0:AD=19,0:DP=19\tGT=0/0:AD=16,0:DP=16\tGT=0/0:AD=16,0:DP=16\t\n",
      "chr3\t44642891\tCCA\tC\tGT=0/0:AD=35,0:DP=35\tGT=0/0:AD=61,0:DP=61\tGT=0/0:AD=34,0:DP=34\tGT=0/0:AD=48,0:DP=48\tGT=0/0:AD=45,0:DP=45\tGT=0/0:AD=36,0:DP=36\tGT=0/0:AD=56,0:DP=56\tGT=0/0:AD=40,0:DP=40\tGT=0/0:AD=55,0:DP=55\tGT=0/0:AD=46,0:DP=46\t\n",
      "chr3\t44642892\tC\tT\tGT=0/0:AD=35,0:DP=35\tGT=0/0:AD=61,0:DP=61\tGT=0/0:AD=34,0:DP=34\tGT=0/0:AD=48,0:DP=48\tGT=0/0:AD=45,0:DP=45\tGT=0/0:AD=36,0:DP=36\tGT=0/0:AD=56,0:DP=56\tGT=0/0:AD=40,0:DP=40\tGT=0/0:AD=55,0:DP=55\tGT=0/0:AD=46,0:DP=46\t\n",
      "chr3\t44644128\tA\tG\tGT=0/0:AD=16,0:DP=16\tGT=0/0:AD=24,0:DP=24\tGT=0/0:AD=18,0:DP=18\tGT=0/0:AD=16,0:DP=16\tGT=0/0:AD=23,0:DP=23\tGT=0/0:AD=18,0:DP=18\tGT=0/0:AD=16,0:DP=16\tGT=0/0:AD=16,0:DP=16\tGT=0/0:AD=16,0:DP=16\tGT=0/0:AD=17,0:DP=17\t\n",
      "chr3\t44645357\tT\tC\tGT=0/0:AD=27,0:DP=27\tGT=0/0:AD=23,0:DP=23\tGT=0/0:AD=16,0:DP=16\tGT=0/0:AD=16,0:DP=16\tGT=0/0:AD=16,0:DP=16\tGT=0/0:AD=33,0:DP=33\tGT=0/0:AD=18,0:DP=18\tGT=0/0:AD=18,0:DP=18\tGT=0/0:AD=16,0:DP=16\tGT=0/0:AD=19,0:DP=19\t\n",
      "chr3\t44645639\tC\tT\tGT=0/0:AD=50,0:DP=50\tGT=0/0:AD=19,0:DP=19\tGT=0/0:AD=40,0:DP=40\tGT=0/0:AD=57,0:DP=57\tGT=0/0:AD=50,0:DP=50\tGT=0/0:AD=53,0:DP=53\tGT=0/0:AD=64,0:DP=64\tGT=0/0:AD=43,0:DP=43\tGT=0/0:AD=70,0:DP=70\tGT=0/0:AD=56,0:DP=56\t\n",
      "chr3\t44645830\tG\tT\tGT=0/0:AD=32,0:DP=32\tGT=0/0:AD=19,0:DP=19\tGT=0/0:AD=16,0:DP=16\tGT=0/0:AD=19,0:DP=19\tGT=0/0:AD=18,0:DP=18\tGT=0/0:AD=16,0:DP=16\tGT=0/0:AD=36,0:DP=36\tGT=0/0:AD=24,0:DP=24\tGT=0/0:AD=17,0:DP=17\tGT=0/0:AD=16,0:DP=16\t\n",
      "chr3\t44645904\tT\tC\tGT=0/0:AD=32,0:DP=32\tGT=0/0:AD=19,0:DP=19\tGT=0/0:AD=16,0:DP=16\tGT=0/0:AD=19,0:DP=19\tGT=0/0:AD=18,0:DP=18\tGT=0/0:AD=16,0:DP=16\tGT=0/0:AD=36,0:DP=36\tGT=0/0:AD=24,0:DP=24\tGT=0/0:AD=17,0:DP=17\tGT=0/0:AD=16,0:DP=16\t\n",
      "chr3\t44646114\tT\tTA\tGT=0/0:AD=32,0:DP=32\tGT=0/0:AD=19,0:DP=19\tGT=0/0:AD=16,0:DP=16\tGT=0/0:AD=19,0:DP=19\tGT=0/0:AD=18,0:DP=18\tGT=0/0:AD=16,0:DP=16\tGT=0/0:AD=36,0:DP=36\tGT=0/0:AD=24,0:DP=24\tGT=0/0:AD=17,0:DP=17\tGT=0/0:AD=16,0:DP=16\t\n",
      "chr3\t44646548\tC\tT\tGT=0/0:AD=7,0:DP=7\tGT=0/0:AD=9,0:DP=9\tGT=0/0:AD=2,0:DP=2\tGT=0/0:AD=4,0:DP=4\tGT=0/0:AD=12,0:DP=12\tGT=0/0:AD=9,0:DP=9\tGT=0/0:AD=8,0:DP=8\tGT=0/0:AD=4,0:DP=4\tGT=0/0:AD=12,0:DP=12\tGT=0/0:AD=4,0:DP=4\t\n",
      "chr3\t44646608\tG\tT\tGT=0/0:AD=2,0:DP=2\tGT=0/0:AD=4,0:DP=4\tGT=0/0:AD=0,0:DP=0\tGT=0/0:AD=4,0:DP=4\tGT=0/0:AD=6,0:DP=6\tGT=0/0:AD=2,0:DP=2\tGT=0/0:AD=6,0:DP=6\tGT=0/0:AD=2,0:DP=2\tGT=0/0:AD=2,0:DP=2\tGT=0/0:AD=3,0:DP=3\t\n",
      "chr3\t44651153\tT\tG\tGT=0/0:AD=22,0:DP=22\tGT=0/0:AD=19,0:DP=19\tGT=0/0:AD=29,0:DP=29\tGT=0/0:AD=17,0:DP=17\tGT=0/0:AD=16,0:DP=16\tGT=0/0:AD=18,0:DP=18\tGT=0/0:AD=20,0:DP=20\tGT=0/0:AD=16,0:DP=16\tGT=0/0:AD=16,0:DP=16\tGT=0/0:AD=16,0:DP=16\t\n",
      "chr3\t44659074\tCGTT\tC\tGT=./.:AD=.,0:DP=20\tGT=./.:AD=.,0:DP=16\tGT=./.:AD=.,0:DP=19\tGT=./.:AD=.,0:DP=17\tGT=./.:AD=.,0:DP=16\tGT=./.:AD=.,0:DP=16\tGT=./.:AD=.,0:DP=19\tGT=./.:AD=.,0:DP=16\tGT=./.:AD=.,0:DP=20\tGT=./.:AD=.,0:DP=16\t\n",
      "chr3\t44659873\tT\tA\tGT=0/0:AD=17,0:DP=17\tGT=0/0:AD=17,0:DP=17\tGT=0/0:AD=16,0:DP=16\tGT=0/0:AD=16,0:DP=16\tGT=0/0:AD=16,0:DP=16\tGT=0/0:AD=17,0:DP=17\tGT=0/0:AD=22,0:DP=22\tGT=0/0:AD=22,0:DP=22\tGT=0/0:AD=16,0:DP=16\tGT=0/0:AD=20,0:DP=20\t\n",
      "chr3\t44721485\tG\tA\tGT=0/0:AD=36,0:DP=36\tGT=0/0:AD=18,0:DP=18\tGT=0/0:AD=29,0:DP=29\tGT=0/0:AD=16,0:DP=16\tGT=0/0:AD=16,0:DP=16\tGT=0/0:AD=60,0:DP=60\tGT=0/0:AD=70,0:DP=70\tGT=0/0:AD=23,0:DP=23\tGT=0/0:AD=16,0:DP=16\tGT=0/0:AD=17,0:DP=17\t\n",
      "chr3\t44721737\tA\tG\tGT=0/0:AD=51,0:DP=51\tGT=0/0:AD=18,0:DP=18\tGT=0/0:AD=37,0:DP=37\tGT=0/0:AD=67,0:DP=67\tGT=0/0:AD=64,0:DP=64\tGT=0/0:AD=48,0:DP=48\tGT=0/0:AD=70,0:DP=70\tGT=0/0:AD=23,0:DP=23\tGT=0/0:AD=16,0:DP=16\tGT=0/0:AD=65,0:DP=65\t\n",
      "chr3\t44721813\tC\tG\tGT=0/0:AD=18,0:DP=18\tGT=0/0:AD=22,0:DP=22\tGT=0/0:AD=17,0:DP=17\tGT=0/0:AD=17,0:DP=17\tGT=0/0:AD=31,0:DP=31\tGT=0/0:AD=17,0:DP=17\tGT=0/0:AD=16,0:DP=16\tGT=0/0:AD=17,0:DP=17\tGT=0/0:AD=55,0:DP=55\tGT=0/0:AD=31,0:DP=31\t\n",
      "chr3\t44734554\tA\tC\tGT=0/0:AD=17,0:DP=17\tGT=0/0:AD=18,0:DP=18\tGT=0/0:AD=17,0:DP=17\tGT=0/0:AD=16,0:DP=16\tGT=0/0:AD=17,0:DP=17\tGT=0/0:AD=16,0:DP=16\tGT=0/0:AD=17,0:DP=17\tGT=0/0:AD=16,0:DP=16\tGT=0/0:AD=16,0:DP=16\tGT=0/0:AD=26,0:DP=26\t\n",
      "chr3\t44753662\tC\tT\tGT=0/0:AD=14,0:DP=14\tGT=0/0:AD=12,0:DP=12\tGT=0/0:AD=6,0:DP=6\tGT=0/0:AD=12,0:DP=12\tGT=0/0:AD=7,0:DP=7\tGT=0/0:AD=5,0:DP=5\tGT=0/0:AD=16,0:DP=16\tGT=0/0:AD=7,0:DP=7\tGT=0/0:AD=11,0:DP=11\tGT=0/0:AD=12,0:DP=12\t\n",
      "chr3\t44754150\tA\tT\tGT=0/0:AD=11,0:DP=11\tGT=0/0:AD=14,0:DP=14\tGT=0/0:AD=14,0:DP=14\tGT=0/0:AD=17,0:DP=17\tGT=0/0:AD=16,0:DP=16\tGT=0/0:AD=16,0:DP=16\tGT=0/0:AD=21,0:DP=21\tGT=0/0:AD=9,0:DP=9\tGT=0/0:AD=16,0:DP=16\tGT=0/0:AD=16,0:DP=16\t\n",
      "chr3\t44754210\tAC\tA\tGT=0/0:AD=16,0:DP=16\tGT=0/0:AD=16,0:DP=16\tGT=0/0:AD=20,0:DP=20\tGT=0/0:AD=20,0:DP=20\tGT=0/0:AD=16,0:DP=16\tGT=0/0:AD=23,0:DP=23\tGT=0/0:AD=21,0:DP=21\tGT=0/0:AD=16,0:DP=16\tGT=0/0:AD=16,0:DP=16\tGT=0/0:AD=16,0:DP=16\t\n",
      "chr3\t44774491\tT\tG\tGT=0/0:AD=11,0:DP=11\tGT=0/0:AD=15,0:DP=15\tGT=0/0:AD=8,0:DP=8\tGT=0/0:AD=16,0:DP=16\tGT=0/0:AD=8,0:DP=8\tGT=0/0:AD=9,0:DP=9\tGT=0/0:AD=16,0:DP=16\tGT=0/0:AD=14,0:DP=14\tGT=0/0:AD=11,0:DP=11\tGT=0/0:AD=14,0:DP=14\t\n",
      "chr3\t44775262\tG\tA\tGT=0/0:AD=18,0:DP=18\tGT=0/0:AD=25,0:DP=25\tGT=0/0:AD=25,0:DP=25\tGT=0/0:AD=25,0:DP=25\tGT=0/0:AD=21,0:DP=21\tGT=0/0:AD=22,0:DP=22\tGT=0/0:AD=22,0:DP=22\tGT=0/0:AD=21,0:DP=21\tGT=0/0:AD=20,0:DP=20\tGT=0/0:AD=22,0:DP=22\t\n",
      "chr3\t44784799\tC\tG\tGT=0/0:AD=12,0:DP=12\tGT=0/0:AD=16,0:DP=16\tGT=0/0:AD=9,0:DP=9\tGT=0/0:AD=6,0:DP=6\tGT=0/0:AD=4,0:DP=4\tGT=0/0:AD=14,0:DP=14\tGT=0/0:AD=12,0:DP=12\tGT=0/0:AD=9,0:DP=9\tGT=0/0:AD=7,0:DP=7\tGT=0/0:AD=2,0:DP=2\t\n",
      "chr3\t44785023\tA\tG\tGT=0/0:AD=3,0:DP=3\tGT=0/0:AD=7,0:DP=7\tGT=0/0:AD=4,0:DP=4\tGT=0/0:AD=0,0:DP=0\tGT=0/0:AD=2,0:DP=2\tGT=0/0:AD=5,0:DP=5\tGT=0/0:AD=2,0:DP=2\tGT=0/0:AD=4,0:DP=4\tGT=0/0:AD=2,0:DP=2\tGT=0/0:AD=2,0:DP=2\t\n",
      "chr3\t44794472\tA\tG\tGT=0/0:AD=16,0:DP=16\tGT=0/0:AD=16,0:DP=16\tGT=0/0:AD=7,0:DP=7\tGT=0/0:AD=12,0:DP=12\tGT=0/0:AD=13,0:DP=13\tGT=0/0:AD=16,0:DP=16\tGT=0/0:AD=16,0:DP=16\tGT=0/0:AD=12,0:DP=12\tGT=0/0:AD=12,0:DP=12\tGT=0/0:AD=17,0:DP=17\t\n",
      "chr3\t44801366\tCAATT\tC\tGT=0/0:AD=4,0:DP=4\tGT=0/0:AD=9,0:DP=9\tGT=0/0:AD=4,0:DP=4\tGT=0/0:AD=6,0:DP=6\tGT=0/0:AD=0,0:DP=0\tGT=0/0:AD=6,0:DP=6\tGT=0/0:AD=7,0:DP=7\tGT=0/0:AD=4,0:DP=4\tGT=0/0:AD=1,0:DP=1\tGT=0/0:AD=2,0:DP=2\t\n",
      "chr3\t44802805\tA\tG\tGT=0/0:AD=16,0:DP=16\tGT=0/0:AD=16,0:DP=16\tGT=0/0:AD=16,0:DP=16\tGT=0/0:AD=18,0:DP=18\tGT=0/0:AD=19,0:DP=19\tGT=0/0:AD=18,0:DP=18\tGT=0/0:AD=16,0:DP=16\tGT=0/0:AD=16,0:DP=16\tGT=0/0:AD=17,0:DP=17\tGT=0/0:AD=24,0:DP=24\t\n",
      "chr3\t44803016\tG\tA\tGT=0/0:AD=16,0:DP=16\tGT=0/0:AD=16,0:DP=16\tGT=0/0:AD=16,0:DP=16\tGT=0/0:AD=18,0:DP=18\tGT=0/0:AD=20,0:DP=20\tGT=0/0:AD=18,0:DP=18\tGT=0/0:AD=16,0:DP=16\tGT=0/0:AD=16,0:DP=16\tGT=0/0:AD=17,0:DP=17\tGT=0/0:AD=24,0:DP=24\t\n",
      "chr3\t44805179\tA\tC\tGT=0/0:AD=21,0:DP=21\tGT=0/0:AD=24,0:DP=24\tGT=0/0:AD=17,0:DP=17\tGT=0/0:AD=19,0:DP=19\tGT=0/0:AD=16,0:DP=16\tGT=0/0:AD=16,0:DP=16\tGT=0/0:AD=19,0:DP=19\tGT=0/0:AD=18,0:DP=18\tGT=0/0:AD=24,0:DP=24\tGT=0/0:AD=24,0:DP=24\t\n",
      "chr3\t44805179\tA\tG\tGT=0/0:AD=21,0:DP=21\tGT=0/0:AD=24,0:DP=24\tGT=0/0:AD=17,0:DP=17\tGT=0/0:AD=19,0:DP=19\tGT=0/0:AD=16,0:DP=16\tGT=0/0:AD=16,0:DP=16\tGT=0/0:AD=19,0:DP=19\tGT=0/0:AD=18,0:DP=18\tGT=0/0:AD=24,0:DP=24\tGT=0/0:AD=24,0:DP=24\t\n",
      "chr3\t44806054\tTCTGCATGGTCTATCTC\tT\tGT=./.:AD=.,0:DP=16\tGT=./.:AD=.,0:DP=16\tGT=./.:AD=.,0:DP=10\tGT=./.:AD=.,0:DP=12\tGT=./.:AD=.,0:DP=7\tGT=./.:AD=.,0:DP=14\tGT=./.:AD=.,0:DP=16\tGT=./.:AD=.,0:DP=14\tGT=./.:AD=.,0:DP=15\tGT=./.:AD=.,0:DP=17\t\n",
      "chr3\t44810863\tC\tT\tGT=0/0:AD=21,0:DP=21\tGT=0/0:AD=18,0:DP=18\tGT=0/0:AD=31,0:DP=31\tGT=0/0:AD=16,0:DP=16\tGT=0/0:AD=21,0:DP=21\tGT=0/0:AD=18,0:DP=18\tGT=0/0:AD=16,0:DP=16\tGT=0/0:AD=16,0:DP=16\tGT=0/0:AD=20,0:DP=20\tGT=0/0:AD=16,0:DP=16\t\n",
      "chr3\t44813179\tCTG\tC\tGT=0/0:AD=12,0:DP=12\tGT=0/0:AD=12,0:DP=12\tGT=0/0:AD=12,0:DP=12\tGT=0/0:AD=18,0:DP=18\tGT=0/0:AD=15,0:DP=15\tGT=0/0:AD=16,0:DP=16\tGT=0/0:AD=16,0:DP=16\tGT=0/0:AD=9,0:DP=9\tGT=0/0:AD=19,0:DP=19\tGT=0/0:AD=21,0:DP=21\t\n",
      "chr3\t44826154\tA\tG\tGT=0/0:AD=24,0:DP=24\tGT=0/0:AD=18,0:DP=18\tGT=0/0:AD=17,0:DP=17\tGT=0/0:AD=16,0:DP=16\tGT=0/0:AD=16,0:DP=16\tGT=0/0:AD=16,0:DP=16\tGT=0/0:AD=16,0:DP=16\tGT=0/0:AD=16,0:DP=16\tGT=0/0:AD=17,0:DP=17\tGT=0/0:AD=16,0:DP=16\t\n",
      "chr3\t44826268\tT\tC\tGT=0/0:AD=17,0:DP=17\tGT=0/0:AD=18,0:DP=18\tGT=0/0:AD=12,0:DP=12\tGT=0/0:AD=14,0:DP=14\tGT=0/0:AD=16,0:DP=16\tGT=0/0:AD=14,0:DP=14\tGT=0/0:AD=16,0:DP=16\tGT=0/0:AD=20,0:DP=20\tGT=0/0:AD=17,0:DP=17\tGT=0/0:AD=16,0:DP=16\t\n",
      "chr3\t44828182\tAT\tA\tGT=0/0:AD=9,0:DP=9\tGT=0/0:AD=7,0:DP=7\tGT=0/0:AD=12,0:DP=12\tGT=0/0:AD=17,0:DP=17\tGT=0/0:AD=12,0:DP=12\tGT=0/0:AD=8,0:DP=8\tGT=0/0:AD=16,0:DP=16\tGT=0/0:AD=12,0:DP=12\tGT=./.:AD=9,0:DP=9\tGT=0/0:AD=14,0:DP=14\t\n",
      "chr3\t44829976\tT\tC\tGT=0/0:AD=16,0:DP=16\tGT=0/0:AD=22,0:DP=22\tGT=0/0:AD=25,0:DP=25\tGT=0/0:AD=18,0:DP=18\tGT=0/0:AD=16,0:DP=16\tGT=0/0:AD=16,0:DP=16\tGT=0/0:AD=16,0:DP=16\tGT=0/0:AD=16,0:DP=16\tGT=0/0:AD=16,0:DP=16\tGT=0/0:AD=16,0:DP=16\t\n",
      "chr3\t44830044\tA\tC\tGT=0/0:AD=23,0:DP=23\tGT=0/0:AD=22,0:DP=22\tGT=0/0:AD=25,0:DP=25\tGT=0/0:AD=19,0:DP=19\tGT=0/0:AD=16,0:DP=16\tGT=0/0:AD=17,0:DP=17\tGT=0/0:AD=16,0:DP=16\tGT=0/0:AD=21,0:DP=21\tGT=0/0:AD=16,0:DP=16\tGT=0/0:AD=16,0:DP=16\t\n",
      "chr3\t44847942\tA\tC\tGT=0/0:AD=5,0:DP=5\tGT=0/0:AD=9,0:DP=9\tGT=0/0:AD=4,0:DP=4\tGT=0/0:AD=12,0:DP=12\tGT=0/0:AD=7,0:DP=7\tGT=0/0:AD=12,0:DP=12\tGT=0/0:AD=21,0:DP=21\tGT=0/0:AD=9,0:DP=9\tGT=0/0:AD=16,0:DP=16\tGT=0/0:AD=7,0:DP=7\t\n",
      "chr3\t44847988\tT\tA\tGT=0/0:AD=16,0:DP=16\tGT=0/0:AD=16,0:DP=16\tGT=0/0:AD=19,0:DP=19\tGT=0/0:AD=16,0:DP=16\tGT=0/0:AD=16,0:DP=16\tGT=0/0:AD=16,0:DP=16\tGT=0/0:AD=21,0:DP=21\tGT=0/0:AD=16,0:DP=16\tGT=0/0:AD=16,0:DP=16\tGT=0/0:AD=16,0:DP=16\t\n",
      "chr3\t44852025\tA\tG\tGT=0/0:AD=16,0:DP=16\tGT=0/0:AD=16,0:DP=16\tGT=0/0:AD=12,0:DP=12\tGT=0/0:AD=14,0:DP=14\tGT=0/0:AD=17,0:DP=17\tGT=0/0:AD=16,0:DP=16\tGT=0/0:AD=20,0:DP=20\tGT=0/0:AD=18,0:DP=18\tGT=0/0:AD=12,0:DP=12\tGT=0/0:AD=16,0:DP=16\t\n",
      "chr3\t44852403\tC\tA\tGT=0/0:AD=12,0:DP=12\tGT=0/0:AD=18,0:DP=18\tGT=0/0:AD=7,0:DP=7\tGT=0/0:AD=12,0:DP=12\tGT=0/0:AD=16,0:DP=16\tGT=0/0:AD=9,0:DP=9\tGT=0/0:AD=13,0:DP=13\tGT=0/0:AD=12,0:DP=12\tGT=0/0:AD=16,0:DP=16\tGT=0/0:AD=16,0:DP=16\t\n",
      "chr3\t44852403\tC\tG\tGT=0/0:AD=12,0:DP=12\tGT=0/0:AD=18,0:DP=18\tGT=0/0:AD=7,0:DP=7\tGT=0/0:AD=12,0:DP=12\tGT=0/0:AD=16,0:DP=16\tGT=0/0:AD=9,0:DP=9\tGT=0/0:AD=13,0:DP=13\tGT=0/0:AD=12,0:DP=12\tGT=0/0:AD=16,0:DP=16\tGT=0/0:AD=16,0:DP=16\t\n",
      "chr3\t44862026\tG\tA\tGT=0/0:AD=16,0:DP=16\tGT=0/0:AD=24,0:DP=24\tGT=0/0:AD=20,0:DP=20\tGT=0/0:AD=24,0:DP=24\tGT=0/0:AD=22,0:DP=22\tGT=0/0:AD=16,0:DP=16\tGT=0/0:AD=16,0:DP=16\tGT=0/0:AD=18,0:DP=18\tGT=0/0:AD=16,0:DP=16\tGT=0/0:AD=19,0:DP=19\t\n",
      "chr3\t44862064\tG\tGCGCGTTCGGGGCCCTGGCCGC\tGT=0/0:AD=16,0:DP=16\tGT=0/0:AD=24,0:DP=24\tGT=0/0:AD=20,0:DP=20\tGT=0/0:AD=24,0:DP=24\tGT=0/0:AD=22,0:DP=22\tGT=0/0:AD=16,0:DP=16\tGT=0/0:AD=16,0:DP=16\tGT=0/0:AD=18,0:DP=18\tGT=0/0:AD=16,0:DP=16\tGT=0/0:AD=19,0:DP=19\t\n",
      "chr3\t44864289\tC\tT\tGT=0/0:AD=25,0:DP=25\tGT=0/0:AD=17,0:DP=17\tGT=0/0:AD=24,0:DP=24\tGT=0/0:AD=16,0:DP=16\tGT=0/0:AD=17,0:DP=17\tGT=0/0:AD=16,0:DP=16\tGT=0/0:AD=19,0:DP=19\tGT=0/0:AD=18,0:DP=18\tGT=0/0:AD=16,0:DP=16\tGT=0/0:AD=16,0:DP=16\t\n",
      "chr3\t44864991\tG\tC\tGT=0/0:AD=17,0:DP=17\tGT=0/0:AD=25,0:DP=25\tGT=0/0:AD=16,0:DP=16\tGT=0/0:AD=17,0:DP=17\tGT=0/0:AD=16,0:DP=16\tGT=0/0:AD=21,0:DP=21\tGT=0/0:AD=19,0:DP=19\tGT=0/0:AD=16,0:DP=16\tGT=0/0:AD=25,0:DP=25\tGT=0/0:AD=18,0:DP=18\t\n",
      "chr3\t44865183\tC\tA\tGT=0/0:AD=17,0:DP=17\tGT=0/0:AD=25,0:DP=25\tGT=0/0:AD=16,0:DP=16\tGT=0/0:AD=17,0:DP=17\tGT=0/0:AD=16,0:DP=16\tGT=0/0:AD=21,0:DP=21\tGT=0/0:AD=19,0:DP=19\tGT=0/0:AD=16,0:DP=16\tGT=0/0:AD=25,0:DP=25\tGT=0/0:AD=18,0:DP=18\t\n",
      "chr3\t44865254\tA\tG\tGT=0/1:AD=10,8:DP=18\tGT=1/1:AD=0,26:DP=26\tGT=1/1:AD=0,17:DP=17\tGT=0/1:AD=13,10:DP=23\tGT=0/1:AD=10,7:DP=17\tGT=0/1:AD=13,8:DP=21\tGT=1/1:AD=0,29:DP=29\tGT=0/0:AD=16,0:DP=16\tGT=0/1:AD=16,24:DP=40\tGT=1/1:AD=0,20:DP=20\t\n",
      "chr3\t44885398\tG\tA\tGT=0/0:AD=16,0:DP=16\tGT=0/0:AD=16,0:DP=16\tGT=0/0:AD=17,0:DP=17\tGT=0/0:AD=16,0:DP=16\tGT=0/0:AD=18,0:DP=18\tGT=0/0:AD=17,0:DP=17\tGT=0/0:AD=16,0:DP=16\tGT=0/0:AD=17,0:DP=17\tGT=0/0:AD=16,0:DP=16\tGT=0/0:AD=17,0:DP=17\t\n",
      "chr3\t44885481\tA\tC\tGT=0/0:AD=16,0:DP=16\tGT=0/0:AD=16,0:DP=16\tGT=0/0:AD=17,0:DP=17\tGT=0/0:AD=16,0:DP=16\tGT=0/0:AD=18,0:DP=18\tGT=0/0:AD=17,0:DP=17\tGT=0/0:AD=16,0:DP=16\tGT=0/0:AD=17,0:DP=17\tGT=0/0:AD=16,0:DP=16\tGT=0/0:AD=17,0:DP=17\t\n",
      "chr3\t44887740\tC\tT\tGT=0/0:AD=16,0:DP=16\tGT=0/0:AD=19,0:DP=19\tGT=0/0:AD=16,0:DP=16\tGT=0/0:AD=16,0:DP=16\tGT=0/0:AD=22,0:DP=22\tGT=0/0:AD=16,0:DP=16\tGT=0/0:AD=16,0:DP=16\tGT=0/0:AD=17,0:DP=17\tGT=0/0:AD=16,0:DP=16\tGT=0/0:AD=17,0:DP=17\t\n",
      "chr3\t44893757\tG\tC\tGT=0/0:AD=4,0:DP=4\tGT=0/0:AD=16,0:DP=16\tGT=0/0:AD=11,0:DP=11\tGT=0/0:AD=9,0:DP=9\tGT=0/0:AD=9,0:DP=9\tGT=0/0:AD=12,0:DP=12\tGT=0/0:AD=9,0:DP=9\tGT=0/0:AD=16,0:DP=16\tGT=0/0:AD=12,0:DP=12\tGT=0/0:AD=16,0:DP=16\t\n",
      "chr3\t44896785\tC\tT\tGT=0/0:AD=16,0:DP=16\tGT=0/0:AD=16,0:DP=16\tGT=0/0:AD=16,0:DP=16\tGT=0/0:AD=16,0:DP=16\tGT=0/0:AD=30,0:DP=30\tGT=0/0:AD=16,0:DP=16\tGT=0/0:AD=16,0:DP=16\tGT=0/0:AD=16,0:DP=16\tGT=0/0:AD=16,0:DP=16\tGT=0/0:AD=16,0:DP=16\t\n",
      "chr3\t44901541\tC\tA\tGT=0/0:AD=17,0:DP=17\tGT=0/0:AD=23,0:DP=23\tGT=0/0:AD=25,0:DP=25\tGT=0/0:AD=20,0:DP=20\tGT=0/0:AD=17,0:DP=17\tGT=0/0:AD=16,0:DP=16\tGT=0/0:AD=16,0:DP=16\tGT=0/0:AD=16,0:DP=16\tGT=0/0:AD=16,0:DP=16\tGT=0/0:AD=16,0:DP=16\t\n",
      "chr3\t44904007\tG\tT\tGT=0/0:AD=15,0:DP=15\tGT=0/0:AD=17,0:DP=17\tGT=0/0:AD=17,0:DP=17\tGT=0/0:AD=16,0:DP=16\tGT=0/0:AD=17,0:DP=17\tGT=0/0:AD=16,0:DP=16\tGT=0/0:AD=16,0:DP=16\tGT=0/0:AD=16,0:DP=16\tGT=0/0:AD=16,0:DP=16\tGT=0/0:AD=16,0:DP=16\t\n",
      "chr3\t44910352\tG\tA\tGT=0/0:AD=16,0:DP=16\tGT=0/0:AD=19,0:DP=19\tGT=0/0:AD=16,0:DP=16\tGT=0/0:AD=17,0:DP=17\tGT=0/0:AD=16,0:DP=16\tGT=0/0:AD=16,0:DP=16\tGT=0/0:AD=16,0:DP=16\tGT=0/0:AD=16,0:DP=16\tGT=0/0:AD=16,0:DP=16\tGT=0/0:AD=16,0:DP=16\t\n",
      "chr3\t44911386\tA\tG\tGT=0/0:AD=23,0:DP=23\tGT=0/0:AD=17,0:DP=17\tGT=0/0:AD=17,0:DP=17\tGT=0/0:AD=30,0:DP=30\tGT=0/0:AD=23,0:DP=23\tGT=0/0:AD=20,0:DP=20\tGT=0/0:AD=34,0:DP=34\tGT=0/0:AD=19,0:DP=19\tGT=0/0:AD=16,0:DP=16\tGT=0/0:AD=20,0:DP=20\t\n",
      "chr3\t44911451\tT\tC\tGT=0/0:AD=23,0:DP=23\tGT=0/0:AD=17,0:DP=17\tGT=0/0:AD=14,0:DP=14\tGT=0/0:AD=17,0:DP=17\tGT=0/0:AD=24,0:DP=24\tGT=0/0:AD=23,0:DP=23\tGT=0/0:AD=17,0:DP=17\tGT=0/0:AD=16,0:DP=16\tGT=0/0:AD=16,0:DP=16\tGT=0/0:AD=16,0:DP=16\t\n",
      "chr3\t44913612\tT\tC\tGT=0/0:AD=16,0:DP=16\tGT=0/0:AD=20,0:DP=20\tGT=0/0:AD=30,0:DP=30\tGT=0/0:AD=16,0:DP=16\tGT=0/0:AD=16,0:DP=16\tGT=0/0:AD=16,0:DP=16\tGT=0/0:AD=17,0:DP=17\tGT=0/0:AD=16,0:DP=16\tGT=0/0:AD=18,0:DP=18\tGT=0/0:AD=16,0:DP=16\t\n",
      "chr3\t44913654\tT\tG\tGT=0/0:AD=16,0:DP=16\tGT=0/0:AD=20,0:DP=20\tGT=0/0:AD=30,0:DP=30\tGT=0/0:AD=16,0:DP=16\tGT=0/0:AD=16,0:DP=16\tGT=0/0:AD=16,0:DP=16\tGT=0/0:AD=17,0:DP=17\tGT=0/0:AD=16,0:DP=16\tGT=0/0:AD=18,0:DP=18\tGT=0/0:AD=16,0:DP=16\t\n",
      "chr3\t44918210\tC\tT\tGT=0/0:AD=21,0:DP=21\tGT=0/0:AD=29,0:DP=29\tGT=0/0:AD=16,0:DP=16\tGT=0/0:AD=28,0:DP=28\tGT=0/0:AD=30,0:DP=30\tGT=0/0:AD=16,0:DP=16\tGT=0/0:AD=25,0:DP=25\tGT=0/0:AD=22,0:DP=22\tGT=0/0:AD=24,0:DP=24\tGT=0/0:AD=23,0:DP=23\t\n",
      "chr3\t44918328\tG\tT\tGT=0/0:AD=56,0:DP=56\tGT=0/0:AD=34,0:DP=34\tGT=0/0:AD=34,0:DP=34\tGT=0/0:AD=69,0:DP=69\tGT=0/0:AD=57,0:DP=57\tGT=0/0:AD=29,0:DP=29\tGT=0/0:AD=89,0:DP=89\tGT=0/0:AD=55,0:DP=55\tGT=0/0:AD=63,0:DP=63\tGT=0/0:AD=64,0:DP=64\t\n",
      "chr3\t44920177\tC\tT\tGT=0/0:AD=28,0:DP=28\tGT=0/0:AD=17,0:DP=17\tGT=0/0:AD=16,0:DP=16\tGT=0/0:AD=17,0:DP=17\tGT=0/0:AD=18,0:DP=18\tGT=0/0:AD=16,0:DP=16\tGT=0/0:AD=16,0:DP=16\tGT=0/0:AD=16,0:DP=16\tGT=0/0:AD=16,0:DP=16\tGT=0/0:AD=16,0:DP=16\t\n",
      "chr3\t44920341\tT\tC\tGT=0/0:AD=28,0:DP=28\tGT=0/0:AD=17,0:DP=17\tGT=0/0:AD=16,0:DP=16\tGT=0/0:AD=17,0:DP=17\tGT=0/0:AD=18,0:DP=18\tGT=0/0:AD=16,0:DP=16\tGT=0/0:AD=16,0:DP=16\tGT=0/0:AD=16,0:DP=16\tGT=0/0:AD=16,0:DP=16\tGT=0/0:AD=16,0:DP=16\t\n",
      "chr3\t44920889\tA\tC\tGT=0/0:AD=25,0:DP=25\tGT=0/0:AD=23,0:DP=23\tGT=0/0:AD=33,0:DP=33\tGT=0/0:AD=63,0:DP=63\tGT=0/0:AD=50,0:DP=50\tGT=0/0:AD=58,0:DP=58\tGT=0/0:AD=66,0:DP=66\tGT=0/0:AD=49,0:DP=49\tGT=0/0:AD=20,0:DP=20\tGT=0/0:AD=57,0:DP=57\t\n",
      "chr3\t44921049\tT\tA\tGT=0/0:AD=25,0:DP=25\tGT=0/0:AD=23,0:DP=23\tGT=0/0:AD=33,0:DP=33\tGT=0/0:AD=63,0:DP=63\tGT=0/0:AD=50,0:DP=50\tGT=0/0:AD=58,0:DP=58\tGT=0/0:AD=66,0:DP=66\tGT=0/0:AD=49,0:DP=49\tGT=0/0:AD=20,0:DP=20\tGT=0/0:AD=57,0:DP=57\t\n",
      "chr3\t44921106\tA\tC\tGT=0/0:AD=25,0:DP=25\tGT=0/0:AD=23,0:DP=23\tGT=0/0:AD=33,0:DP=33\tGT=0/0:AD=63,0:DP=63\tGT=0/0:AD=50,0:DP=50\tGT=0/0:AD=58,0:DP=58\tGT=0/0:AD=66,0:DP=66\tGT=0/0:AD=49,0:DP=49\tGT=0/0:AD=20,0:DP=20\tGT=0/0:AD=57,0:DP=57\t\n",
      "chr3\t44921639\tT\tC\tGT=0/0:AD=20,0:DP=20\tGT=0/0:AD=23,0:DP=23\tGT=0/0:AD=16,0:DP=16\tGT=0/0:AD=16,0:DP=16\tGT=0/0:AD=20,0:DP=20\tGT=0/0:AD=24,0:DP=24\tGT=0/0:AD=20,0:DP=20\tGT=0/0:AD=17,0:DP=17\tGT=0/0:AD=20,0:DP=20\tGT=0/0:AD=24,0:DP=24\t\n",
      "chr3\t44921713\tT\tA\tGT=0/0:AD=9,0:DP=9\tGT=0/0:AD=22,0:DP=22\tGT=0/0:AD=14,0:DP=14\tGT=0/0:AD=12,0:DP=12\tGT=0/0:AD=22,0:DP=22\tGT=0/0:AD=24,0:DP=24\tGT=0/0:AD=20,0:DP=20\tGT=0/0:AD=14,0:DP=14\tGT=0/0:AD=20,0:DP=20\tGT=0/0:AD=34,0:DP=34\t\n",
      "chr3\t44922613\tA\tG\tGT=0/0:AD=24,0:DP=24\tGT=0/0:AD=26,0:DP=26\tGT=0/0:AD=24,0:DP=24\tGT=0/0:AD=27,0:DP=27\tGT=0/0:AD=30,0:DP=30\tGT=0/0:AD=28,0:DP=28\tGT=0/0:AD=41,0:DP=41\tGT=0/0:AD=40,0:DP=40\tGT=0/0:AD=20,0:DP=20\tGT=0/0:AD=33,0:DP=33\t\n",
      "chr3\t44922845\tT\tC\tGT=0/0:AD=29,0:DP=29\tGT=0/0:AD=46,0:DP=46\tGT=0/0:AD=21,0:DP=21\tGT=0/0:AD=27,0:DP=27\tGT=0/0:AD=26,0:DP=26\tGT=0/0:AD=27,0:DP=27\tGT=0/0:AD=31,0:DP=31\tGT=0/0:AD=24,0:DP=24\tGT=0/0:AD=30,0:DP=30\tGT=0/0:AD=28,0:DP=28\t\n",
      "chr3\t44923081\tGTTT\tG\tGT=./.:AD=.,0:DP=23\tGT=./.:AD=.,0:DP=18\tGT=./.:AD=.,0:DP=26\tGT=./.:AD=.,0:DP=16\tGT=./.:AD=.,0:DP=19\tGT=./.:AD=.,0:DP=17\tGT=./.:AD=.,0:DP=18\tGT=./.:AD=.,0:DP=25\tGT=./.:AD=.,0:DP=27\tGT=./.:AD=.,0:DP=23\t\n",
      "chr3\t44924009\tG\tGA\tGT=0/0:AD=16,0:DP=16\tGT=0/0:AD=17,0:DP=17\tGT=0/0:AD=19,0:DP=19\tGT=0/0:AD=17,0:DP=17\tGT=0/0:AD=17,0:DP=17\tGT=0/0:AD=26,0:DP=26\tGT=0/0:AD=23,0:DP=23\tGT=0/0:AD=50,0:DP=50\tGT=0/0:AD=16,0:DP=16\tGT=0/0:AD=16,0:DP=16\t\n",
      "chr3\t44924055\tT\tG\tGT=0/0:AD=16,0:DP=16\tGT=0/0:AD=17,0:DP=17\tGT=0/0:AD=19,0:DP=19\tGT=0/0:AD=17,0:DP=17\tGT=0/0:AD=17,0:DP=17\tGT=0/0:AD=26,0:DP=26\tGT=0/0:AD=23,0:DP=23\tGT=0/0:AD=50,0:DP=50\tGT=0/0:AD=16,0:DP=16\tGT=0/0:AD=16,0:DP=16\t\n",
      "chr3\t44924308\tC\tA\tGT=0/0:AD=16,0:DP=16\tGT=0/0:AD=17,0:DP=17\tGT=0/0:AD=19,0:DP=19\tGT=0/0:AD=17,0:DP=17\tGT=0/0:AD=17,0:DP=17\tGT=0/0:AD=26,0:DP=26\tGT=0/0:AD=23,0:DP=23\tGT=0/0:AD=35,0:DP=35\tGT=0/0:AD=48,0:DP=48\tGT=0/0:AD=16,0:DP=16\t\n",
      "chr3\t44924321\tT\tC\tGT=0/0:AD=16,0:DP=16\tGT=0/0:AD=17,0:DP=17\tGT=0/0:AD=19,0:DP=19\tGT=0/0:AD=17,0:DP=17\tGT=0/0:AD=17,0:DP=17\tGT=0/0:AD=26,0:DP=26\tGT=0/0:AD=23,0:DP=23\tGT=0/0:AD=35,0:DP=35\tGT=0/0:AD=48,0:DP=48\tGT=0/0:AD=16,0:DP=16\t\n",
      "chr3\t44924607\tG\tA\tGT=0/0:AD=16,0:DP=16\tGT=0/0:AD=17,0:DP=17\tGT=0/0:AD=19,0:DP=19\tGT=0/0:AD=17,0:DP=17\tGT=0/0:AD=17,0:DP=17\tGT=0/0:AD=26,0:DP=26\tGT=0/0:AD=23,0:DP=23\tGT=0/0:AD=35,0:DP=35\tGT=0/0:AD=48,0:DP=48\tGT=0/0:AD=16,0:DP=16\t\n",
      "chr3\t44924674\tC\tT\tGT=0/0:AD=16,0:DP=16\tGT=0/0:AD=17,0:DP=17\tGT=0/0:AD=19,0:DP=19\tGT=0/0:AD=17,0:DP=17\tGT=0/0:AD=17,0:DP=17\tGT=0/0:AD=26,0:DP=26\tGT=0/0:AD=23,0:DP=23\tGT=0/0:AD=35,0:DP=35\tGT=0/0:AD=48,0:DP=48\tGT=0/0:AD=16,0:DP=16\t\n",
      "chr3\t44924741\tT\tG\tGT=0/0:AD=33,0:DP=33\tGT=0/0:AD=70,0:DP=70\tGT=0/0:AD=39,0:DP=39\tGT=0/0:AD=46,0:DP=46\tGT=0/0:AD=37,0:DP=37\tGT=0/0:AD=47,0:DP=47\tGT=0/0:AD=56,0:DP=56\tGT=0/0:AD=27,0:DP=27\tGT=0/0:AD=50,0:DP=50\tGT=0/0:AD=49,0:DP=49\t\n",
      "chr3\t44924956\tG\tT\tGT=0/0:AD=33,0:DP=33\tGT=0/0:AD=70,0:DP=70\tGT=0/0:AD=39,0:DP=39\tGT=0/0:AD=48,0:DP=48\tGT=0/0:AD=38,0:DP=38\tGT=0/0:AD=49,0:DP=49\tGT=0/0:AD=58,0:DP=58\tGT=0/0:AD=26,0:DP=26\tGT=0/0:AD=50,0:DP=50\tGT=0/0:AD=44,0:DP=44\t\n",
      "chr3\t44925880\tA\tG\tGT=0/0:AD=43,0:DP=43\tGT=0/0:AD=66,0:DP=66\tGT=0/0:AD=30,0:DP=30\tGT=0/0:AD=53,0:DP=53\tGT=0/0:AD=52,0:DP=52\tGT=0/0:AD=64,0:DP=64\tGT=0/0:AD=63,0:DP=63\tGT=0/0:AD=50,0:DP=50\tGT=0/0:AD=77,0:DP=77\tGT=0/0:AD=47,0:DP=47\t\n",
      "chr3\t44926058\tC\tG\tGT=0/0:AD=43,0:DP=43\tGT=0/0:AD=66,0:DP=66\tGT=0/0:AD=30,0:DP=30\tGT=0/0:AD=53,0:DP=53\tGT=0/0:AD=52,0:DP=52\tGT=0/0:AD=64,0:DP=64\tGT=0/0:AD=63,0:DP=63\tGT=0/0:AD=50,0:DP=50\tGT=0/0:AD=77,0:DP=77\tGT=0/0:AD=47,0:DP=47\t\n",
      "chr3\t44926568\tCAT\tC\tGT=0/0:AD=46,0:DP=46\tGT=0/0:AD=79,0:DP=79\tGT=0/0:AD=30,0:DP=30\tGT=0/0:AD=41,0:DP=41\tGT=0/0:AD=56,0:DP=56\tGT=0/0:AD=54,0:DP=54\tGT=0/0:AD=58,0:DP=58\tGT=0/0:AD=34,0:DP=34\tGT=0/0:AD=64,0:DP=64\tGT=0/0:AD=47,0:DP=47\t\n",
      "chr3\t44926570\tTAAAA\tT\tGT=0/0:AD=46,0:DP=46\tGT=0/0:AD=79,0:DP=79\tGT=0/0:AD=30,0:DP=30\tGT=0/0:AD=41,0:DP=41\tGT=0/0:AD=56,0:DP=56\tGT=0/0:AD=54,0:DP=54\tGT=0/0:AD=58,0:DP=58\tGT=0/0:AD=34,0:DP=34\tGT=0/0:AD=64,0:DP=64\tGT=0/0:AD=47,0:DP=47\t\n",
      "chr3\t44926570\tT\tG\tGT=0/0:AD=46,0:DP=46\tGT=0/0:AD=79,0:DP=79\tGT=0/0:AD=30,0:DP=30\tGT=0/0:AD=41,0:DP=41\tGT=0/0:AD=56,0:DP=56\tGT=0/0:AD=54,0:DP=54\tGT=0/0:AD=58,0:DP=58\tGT=0/0:AD=34,0:DP=34\tGT=0/0:AD=64,0:DP=64\tGT=0/0:AD=47,0:DP=47\t\n",
      "chr3\t44926570\tTA\tT\tGT=0/0:AD=46,0:DP=46\tGT=0/0:AD=79,0:DP=79\tGT=0/0:AD=30,0:DP=30\tGT=0/0:AD=41,0:DP=41\tGT=0/0:AD=56,0:DP=56\tGT=0/0:AD=54,0:DP=54\tGT=0/0:AD=58,0:DP=58\tGT=0/0:AD=34,0:DP=34\tGT=0/0:AD=64,0:DP=64\tGT=0/0:AD=47,0:DP=47\t\n",
      "chr3\t44926570\tTAA\tT\tGT=0/0:AD=46,0:DP=46\tGT=0/0:AD=79,0:DP=79\tGT=0/0:AD=30,0:DP=30\tGT=0/0:AD=41,0:DP=41\tGT=0/0:AD=56,0:DP=56\tGT=0/0:AD=54,0:DP=54\tGT=0/0:AD=58,0:DP=58\tGT=0/0:AD=34,0:DP=34\tGT=0/0:AD=64,0:DP=64\tGT=0/0:AD=47,0:DP=47\t\n",
      "chr3\t44926570\tT\tC\tGT=0/0:AD=46,0:DP=46\tGT=0/0:AD=79,0:DP=79\tGT=0/0:AD=30,0:DP=30\tGT=0/0:AD=41,0:DP=41\tGT=0/0:AD=56,0:DP=56\tGT=0/0:AD=54,0:DP=54\tGT=0/0:AD=58,0:DP=58\tGT=0/0:AD=34,0:DP=34\tGT=0/0:AD=64,0:DP=64\tGT=0/0:AD=47,0:DP=47\t\n",
      "chr3\t44926627\tG\tA\tGT=0/0:AD=46,0:DP=46\tGT=0/0:AD=79,0:DP=79\tGT=0/0:AD=30,0:DP=30\tGT=0/0:AD=41,0:DP=41\tGT=0/0:AD=56,0:DP=56\tGT=0/0:AD=54,0:DP=54\tGT=0/0:AD=58,0:DP=58\tGT=0/0:AD=34,0:DP=34\tGT=0/0:AD=64,0:DP=64\tGT=0/0:AD=47,0:DP=47\t\n",
      "chr3\t44929464\tG\tC\tGT=0/0:AD=16,0:DP=16\tGT=0/0:AD=29,0:DP=29\tGT=0/0:AD=16,0:DP=16\tGT=0/0:AD=19,0:DP=19\tGT=0/0:AD=18,0:DP=18\tGT=0/0:AD=25,0:DP=25\tGT=0/0:AD=18,0:DP=18\tGT=0/0:AD=20,0:DP=20\tGT=0/0:AD=24,0:DP=24\tGT=0/0:AD=17,0:DP=17\t\n",
      "chr3\t44929464\tG\tT\tGT=0/0:AD=16,0:DP=16\tGT=0/0:AD=29,0:DP=29\tGT=0/0:AD=16,0:DP=16\tGT=0/0:AD=19,0:DP=19\tGT=0/0:AD=18,0:DP=18\tGT=0/0:AD=25,0:DP=25\tGT=0/0:AD=18,0:DP=18\tGT=0/0:AD=20,0:DP=20\tGT=0/0:AD=24,0:DP=24\tGT=0/0:AD=17,0:DP=17\t\n",
      "chr3\t44932839\tC\tG\tGT=0/0:AD=7,0:DP=7\tGT=0/0:AD=16,0:DP=16\tGT=0/0:AD=9,0:DP=9\tGT=0/0:AD=14,0:DP=14\tGT=0/0:AD=12,0:DP=12\tGT=0/0:AD=16,0:DP=16\tGT=0/0:AD=9,0:DP=9\tGT=0/0:AD=17,0:DP=17\tGT=0/0:AD=14,0:DP=14\tGT=0/0:AD=11,0:DP=11\t\n",
      "chr3\t44933022\tC\tA\tGT=0/0:AD=16,0:DP=16\tGT=0/0:AD=16,0:DP=16\tGT=0/0:AD=16,0:DP=16\tGT=0/0:AD=17,0:DP=17\tGT=0/0:AD=17,0:DP=17\tGT=0/0:AD=24,0:DP=24\tGT=0/0:AD=22,0:DP=22\tGT=0/0:AD=16,0:DP=16\tGT=0/0:AD=16,0:DP=16\tGT=0/0:AD=16,0:DP=16\t\n",
      "chr3\t44933120\tG\tC\tGT=0/0:AD=16,0:DP=16\tGT=0/0:AD=16,0:DP=16\tGT=0/0:AD=22,0:DP=22\tGT=0/0:AD=16,0:DP=16\tGT=0/0:AD=21,0:DP=21\tGT=0/0:AD=24,0:DP=24\tGT=0/0:AD=22,0:DP=22\tGT=0/0:AD=16,0:DP=16\tGT=0/0:AD=16,0:DP=16\tGT=0/0:AD=16,0:DP=16\t\n",
      "chr3\t44933793\tT\tA\tGT=0/0:AD=7,0:DP=7\tGT=0/0:AD=11,0:DP=11\tGT=0/0:AD=10,0:DP=10\tGT=0/0:AD=4,0:DP=4\tGT=0/0:AD=9,0:DP=9\tGT=0/0:AD=16,0:DP=16\tGT=0/0:AD=6,0:DP=6\tGT=0/0:AD=11,0:DP=11\tGT=0/0:AD=8,0:DP=8\tGT=0/0:AD=5,0:DP=5\t\n",
      "chr3\t44933879\tC\tT\tGT=0/0:AD=16,0:DP=16\tGT=0/0:AD=17,0:DP=17\tGT=0/0:AD=16,0:DP=16\tGT=0/0:AD=25,0:DP=25\tGT=0/0:AD=16,0:DP=16\tGT=0/0:AD=16,0:DP=16\tGT=0/0:AD=16,0:DP=16\tGT=0/0:AD=17,0:DP=17\tGT=0/0:AD=16,0:DP=16\tGT=0/0:AD=16,0:DP=16\t\n",
      "chr3\t44933879\tC\tG\tGT=0/0:AD=16,0:DP=16\tGT=0/0:AD=17,0:DP=17\tGT=0/0:AD=16,0:DP=16\tGT=0/0:AD=25,0:DP=25\tGT=0/0:AD=16,0:DP=16\tGT=0/0:AD=16,0:DP=16\tGT=0/0:AD=16,0:DP=16\tGT=0/0:AD=17,0:DP=17\tGT=0/0:AD=16,0:DP=16\tGT=0/0:AD=16,0:DP=16\t\n",
      "chr3\t44945131\tG\tA\tGT=0/0:AD=17,0:DP=17\tGT=0/0:AD=16,0:DP=16\tGT=0/0:AD=16,0:DP=16\tGT=0/0:AD=16,0:DP=16\tGT=0/0:AD=20,0:DP=20\tGT=0/0:AD=17,0:DP=17\tGT=0/0:AD=20,0:DP=20\tGT=0/0:AD=16,0:DP=16\tGT=0/0:AD=19,0:DP=19\tGT=0/0:AD=21,0:DP=21\t\n",
      "chr3\t44945131\tG\tC\tGT=0/0:AD=17,0:DP=17\tGT=0/0:AD=16,0:DP=16\tGT=0/0:AD=16,0:DP=16\tGT=0/0:AD=16,0:DP=16\tGT=0/0:AD=20,0:DP=20\tGT=0/0:AD=17,0:DP=17\tGT=0/0:AD=20,0:DP=20\tGT=0/0:AD=16,0:DP=16\tGT=0/0:AD=19,0:DP=19\tGT=0/0:AD=21,0:DP=21\t\n",
      "chr3\t44959474\tG\tA\tGT=0/0:AD=16,0:DP=16\tGT=0/0:AD=17,0:DP=17\tGT=0/0:AD=15,0:DP=15\tGT=0/0:AD=16,0:DP=16\tGT=0/0:AD=22,0:DP=22\tGT=0/0:AD=16,0:DP=16\tGT=0/0:AD=16,0:DP=16\tGT=0/0:AD=25,0:DP=25\tGT=0/0:AD=16,0:DP=16\tGT=0/0:AD=16,0:DP=16\t\n",
      "chr3\t44989113\tT\tC\tGT=0/0:AD=16,0:DP=16\tGT=0/0:AD=11,0:DP=11\tGT=0/0:AD=16,0:DP=16\tGT=0/0:AD=15,0:DP=15\tGT=0/0:AD=16,0:DP=16\tGT=0/0:AD=14,0:DP=14\tGT=0/0:AD=16,0:DP=16\tGT=0/0:AD=21,0:DP=21\tGT=0/0:AD=16,0:DP=16\tGT=0/0:AD=12,0:DP=12\t\n",
      "chr3\t44989113\tT\tG\tGT=0/0:AD=16,0:DP=16\tGT=0/0:AD=11,0:DP=11\tGT=0/0:AD=16,0:DP=16\tGT=0/0:AD=15,0:DP=15\tGT=0/0:AD=16,0:DP=16\tGT=0/0:AD=14,0:DP=14\tGT=0/0:AD=16,0:DP=16\tGT=0/0:AD=21,0:DP=21\tGT=0/0:AD=16,0:DP=16\tGT=0/0:AD=12,0:DP=12\t\n",
      "chr3\t45007496\tC\tA\tGT=0/0:AD=16,0:DP=16\tGT=0/0:AD=16,0:DP=16\tGT=0/0:AD=16,0:DP=16\tGT=0/0:AD=19,0:DP=19\tGT=0/0:AD=16,0:DP=16\tGT=0/0:AD=26,0:DP=26\tGT=0/0:AD=22,0:DP=22\tGT=0/0:AD=16,0:DP=16\tGT=0/0:AD=16,0:DP=16\tGT=0/0:AD=16,0:DP=16\t\n",
      "chr3\t45026341\tC\tT\tGT=0/0:AD=16,0:DP=16\tGT=0/0:AD=16,0:DP=16\tGT=0/0:AD=9,0:DP=9\tGT=0/0:AD=16,0:DP=16\tGT=0/0:AD=17,0:DP=17\tGT=0/0:AD=16,0:DP=16\tGT=0/0:AD=20,0:DP=20\tGT=0/0:AD=16,0:DP=16\tGT=0/0:AD=16,0:DP=16\tGT=0/0:AD=16,0:DP=16\t\n",
      "chr3\t45030050\tT\tC\tGT=0/0:AD=7,0:DP=7\tGT=0/0:AD=12,0:DP=12\tGT=0/0:AD=2,0:DP=2\tGT=0/0:AD=6,0:DP=6\tGT=0/0:AD=8,0:DP=8\tGT=0/0:AD=2,0:DP=2\tGT=0/0:AD=14,0:DP=14\tGT=0/0:AD=5,0:DP=5\tGT=0/0:AD=9,0:DP=9\tGT=0/0:AD=6,0:DP=6\t\n",
      "chr3\t45030785\tC\tT\tGT=0/0:AD=9,0:DP=9\tGT=0/0:AD=16,0:DP=16\tGT=0/0:AD=7,0:DP=7\tGT=0/0:AD=14,0:DP=14\tGT=0/0:AD=16,0:DP=16\tGT=0/0:AD=12,0:DP=12\tGT=0/0:AD=9,0:DP=9\tGT=0/0:AD=6,0:DP=6\tGT=0/0:AD=14,0:DP=14\tGT=0/0:AD=9,0:DP=9\t\n",
      "chr3\t45030932\tG\tA\tGT=0/0:AD=16,0:DP=16\tGT=0/0:AD=16,0:DP=16\tGT=0/0:AD=16,0:DP=16\tGT=0/0:AD=16,0:DP=16\tGT=0/0:AD=16,0:DP=16\tGT=0/0:AD=16,0:DP=16\tGT=0/0:AD=16,0:DP=16\tGT=0/0:AD=22,0:DP=22\tGT=0/0:AD=16,0:DP=16\tGT=0/0:AD=16,0:DP=16\t\n",
      "chr3\t45035719\tT\tC\tGT=0/0:AD=19,0:DP=19\tGT=0/0:AD=48,0:DP=48\tGT=0/0:AD=46,0:DP=46\tGT=0/0:AD=52,0:DP=52\tGT=0/0:AD=43,0:DP=43\tGT=0/0:AD=61,0:DP=61\tGT=0/0:AD=40,0:DP=40\tGT=0/0:AD=47,0:DP=47\tGT=0/0:AD=40,0:DP=40\tGT=0/0:AD=88,0:DP=88\t\n",
      "chr3\t45035919\tG\tC\tGT=0/0:AD=19,0:DP=19\tGT=0/0:AD=48,0:DP=48\tGT=0/0:AD=46,0:DP=46\tGT=0/0:AD=52,0:DP=52\tGT=0/0:AD=43,0:DP=43\tGT=0/0:AD=61,0:DP=61\tGT=0/0:AD=40,0:DP=40\tGT=0/0:AD=47,0:DP=47\tGT=0/0:AD=40,0:DP=40\tGT=0/0:AD=88,0:DP=88\t\n",
      "chr3\t45035925\tC\tT\tGT=0/0:AD=19,0:DP=19\tGT=0/0:AD=48,0:DP=48\tGT=0/0:AD=46,0:DP=46\tGT=0/0:AD=52,0:DP=52\tGT=0/0:AD=43,0:DP=43\tGT=0/0:AD=61,0:DP=61\tGT=0/0:AD=40,0:DP=40\tGT=0/0:AD=47,0:DP=47\tGT=0/0:AD=40,0:DP=40\tGT=0/0:AD=88,0:DP=88\t\n",
      "chr3\t45085580\tA\tG\tGT=0/0:AD=16,0:DP=16\tGT=0/0:AD=25,0:DP=25\tGT=0/0:AD=5,0:DP=5\tGT=0/0:AD=16,0:DP=16\tGT=0/0:AD=22,0:DP=22\tGT=0/0:AD=25,0:DP=25\tGT=0/0:AD=17,0:DP=17\tGT=0/0:AD=14,0:DP=14\tGT=0/0:AD=12,0:DP=12\tGT=0/0:AD=16,0:DP=16\t\n",
      "chr3\t45088990\tC\tT\tGT=0/0:AD=7,0:DP=7\tGT=0/0:AD=11,0:DP=11\tGT=0/0:AD=9,0:DP=9\tGT=0/0:AD=11,0:DP=11\tGT=0/0:AD=15,0:DP=15\tGT=0/0:AD=15,0:DP=15\tGT=0/0:AD=11,0:DP=11\tGT=0/0:AD=9,0:DP=9\tGT=0/0:AD=11,0:DP=11\tGT=0/0:AD=7,0:DP=7\t\n",
      "chr3\t45091523\tG\tA\tGT=0/0:AD=16,0:DP=16\tGT=0/0:AD=21,0:DP=21\tGT=0/0:AD=25,0:DP=25\tGT=0/0:AD=24,0:DP=24\tGT=0/0:AD=18,0:DP=18\tGT=0/0:AD=18,0:DP=18\tGT=0/0:AD=17,0:DP=17\tGT=0/0:AD=21,0:DP=21\tGT=0/0:AD=16,0:DP=16\tGT=0/0:AD=17,0:DP=17\t\n",
      "chr3\t45091523\tG\tT\tGT=0/0:AD=16,0:DP=16\tGT=0/0:AD=21,0:DP=21\tGT=0/0:AD=25,0:DP=25\tGT=0/0:AD=24,0:DP=24\tGT=0/0:AD=18,0:DP=18\tGT=0/0:AD=18,0:DP=18\tGT=0/0:AD=17,0:DP=17\tGT=0/0:AD=21,0:DP=21\tGT=0/0:AD=16,0:DP=16\tGT=0/0:AD=17,0:DP=17\t\n",
      "chr3\t45093748\tC\tT\tGT=0/0:AD=12,0:DP=12\tGT=0/0:AD=21,0:DP=21\tGT=0/0:AD=4,0:DP=4\tGT=0/0:AD=22,0:DP=22\tGT=0/0:AD=17,0:DP=17\tGT=0/0:AD=9,0:DP=9\tGT=0/0:AD=17,0:DP=17\tGT=0/0:AD=16,0:DP=16\tGT=0/0:AD=18,0:DP=18\tGT=0/0:AD=16,0:DP=16\t\n",
      "chr3\t45095342\tC\tT\tGT=0/0:AD=16,0:DP=16\tGT=0/0:AD=16,0:DP=16\tGT=0/0:AD=16,0:DP=16\tGT=0/0:AD=16,0:DP=16\tGT=0/0:AD=16,0:DP=16\tGT=0/0:AD=16,0:DP=16\tGT=0/0:AD=18,0:DP=18\tGT=0/0:AD=17,0:DP=17\tGT=0/0:AD=16,0:DP=16\tGT=0/0:AD=23,0:DP=23\t\n",
      "chr3\t45110427\tC\tA\tGT=0/0:AD=16,0:DP=16\tGT=0/0:AD=19,0:DP=19\tGT=0/0:AD=16,0:DP=16\tGT=0/0:AD=16,0:DP=16\tGT=0/0:AD=16,0:DP=16\tGT=0/0:AD=16,0:DP=16\tGT=0/0:AD=16,0:DP=16\tGT=0/0:AD=16,0:DP=16\tGT=0/0:AD=16,0:DP=16\tGT=0/0:AD=17,0:DP=17\t\n",
      "chr3\t45110462\tG\tA\tGT=0/0:AD=16,0:DP=16\tGT=0/0:AD=19,0:DP=19\tGT=0/0:AD=16,0:DP=16\tGT=0/0:AD=16,0:DP=16\tGT=0/0:AD=16,0:DP=16\tGT=0/0:AD=16,0:DP=16\tGT=0/0:AD=16,0:DP=16\tGT=0/0:AD=16,0:DP=16\tGT=0/0:AD=16,0:DP=16\tGT=0/0:AD=17,0:DP=17\t\n",
      "chr3\t45110707\tC\tT\tGT=0/0:AD=16,0:DP=16\tGT=0/0:AD=19,0:DP=19\tGT=0/0:AD=16,0:DP=16\tGT=0/0:AD=16,0:DP=16\tGT=0/0:AD=16,0:DP=16\tGT=0/0:AD=16,0:DP=16\tGT=0/0:AD=16,0:DP=16\tGT=0/0:AD=16,0:DP=16\tGT=0/0:AD=16,0:DP=16\tGT=0/0:AD=17,0:DP=17\t\n",
      "chr3\t45118445\tT\tA\tGT=0/0:AD=16,0:DP=16\tGT=0/0:AD=16,0:DP=16\tGT=0/0:AD=21,0:DP=21\tGT=0/0:AD=16,0:DP=16\tGT=0/0:AD=16,0:DP=16\tGT=0/0:AD=18,0:DP=18\tGT=0/0:AD=16,0:DP=16\tGT=0/0:AD=16,0:DP=16\tGT=0/0:AD=17,0:DP=17\tGT=0/0:AD=16,0:DP=16\t\n",
      "chr3\t45118445\tT\tC\tGT=0/0:AD=16,0:DP=16\tGT=0/0:AD=16,0:DP=16\tGT=0/0:AD=21,0:DP=21\tGT=0/0:AD=16,0:DP=16\tGT=0/0:AD=16,0:DP=16\tGT=0/0:AD=18,0:DP=18\tGT=0/0:AD=16,0:DP=16\tGT=0/0:AD=16,0:DP=16\tGT=0/0:AD=17,0:DP=17\tGT=0/0:AD=16,0:DP=16\t\n",
      "chr3\t45146236\tG\tT\tGT=0/0:AD=16,0:DP=16\tGT=0/0:AD=17,0:DP=17\tGT=0/0:AD=23,0:DP=23\tGT=0/0:AD=16,0:DP=16\tGT=0/0:AD=34,0:DP=34\tGT=0/0:AD=22,0:DP=22\tGT=0/0:AD=16,0:DP=16\tGT=0/0:AD=16,0:DP=16\tGT=0/0:AD=16,0:DP=16\tGT=0/0:AD=29,0:DP=29\t\n",
      "chr3\t45225871\tA\tT\tGT=0/0:AD=40,0:DP=40\tGT=0/0:AD=59,0:DP=59\tGT=0/0:AD=48,0:DP=48\tGT=0/0:AD=69,0:DP=69\tGT=0/0:AD=60,0:DP=60\tGT=0/0:AD=50,0:DP=50\tGT=0/0:AD=54,0:DP=54\tGT=0/0:AD=68,0:DP=68\tGT=0/0:AD=65,0:DP=65\tGT=0/0:AD=68,0:DP=68\t\n",
      "chr3\t45417390\tA\tG\tGT=0/0:AD=6,0:DP=6\tGT=0/0:AD=7,0:DP=7\tGT=0/0:AD=7,0:DP=7\tGT=0/0:AD=9,0:DP=9\tGT=0/0:AD=6,0:DP=6\tGT=0/0:AD=9,0:DP=9\tGT=0/0:AD=7,0:DP=7\tGT=0/0:AD=5,0:DP=5\tGT=0/0:AD=11,0:DP=11\tGT=0/0:AD=7,0:DP=7\t\n",
      "chr3\t45419610\tG\tGT\tGT=1/1:AD=0,9:DP=9\tGT=1/1:AD=0,19:DP=19\tGT=0/1:AD=2,4:DP=6\tGT=1/1:AD=0,9:DP=9\tGT=1/1:AD=0,7:DP=7\tGT=1/1:AD=0,8:DP=9\tGT=0/1:AD=5,8:DP=13\tGT=0/1:AD=5,6:DP=11\tGT=1/1:AD=0,10:DP=10\tGT=1/1:AD=0,11:DP=12\t\n",
      "chr3\t45419757\tC\tT\tGT=0/0:AD=12,0:DP=12\tGT=0/0:AD=16,0:DP=16\tGT=0/0:AD=12,0:DP=12\tGT=0/0:AD=17,0:DP=17\tGT=0/0:AD=16,0:DP=16\tGT=0/0:AD=10,0:DP=10\tGT=0/0:AD=19,0:DP=19\tGT=0/0:AD=14,0:DP=14\tGT=0/0:AD=16,0:DP=16\tGT=0/0:AD=15,0:DP=15\t\n",
      "chr3\t45419757\tC\tG\tGT=0/0:AD=12,0:DP=12\tGT=0/0:AD=16,0:DP=16\tGT=0/0:AD=12,0:DP=12\tGT=0/0:AD=17,0:DP=17\tGT=0/0:AD=16,0:DP=16\tGT=0/0:AD=10,0:DP=10\tGT=0/0:AD=19,0:DP=19\tGT=0/0:AD=14,0:DP=14\tGT=0/0:AD=16,0:DP=16\tGT=0/0:AD=15,0:DP=15\t\n",
      "chr3\t45419779\tA\tG\tGT=0/0:AD=6,0:DP=6\tGT=0/0:AD=16,0:DP=16\tGT=0/0:AD=9,0:DP=9\tGT=0/0:AD=11,0:DP=11\tGT=0/0:AD=11,0:DP=11\tGT=0/0:AD=12,0:DP=12\tGT=0/0:AD=19,0:DP=19\tGT=0/0:AD=11,0:DP=11\tGT=0/0:AD=12,0:DP=12\tGT=0/0:AD=16,0:DP=16\t\n",
      "chr3\t45458900\tT\tC\tGT=0/0:AD=24,0:DP=24\tGT=0/0:AD=22,0:DP=22\tGT=0/0:AD=16,0:DP=16\tGT=0/0:AD=16,0:DP=16\tGT=0/0:AD=18,0:DP=18\tGT=0/0:AD=16,0:DP=16\tGT=0/0:AD=21,0:DP=21\tGT=0/0:AD=16,0:DP=16\tGT=0/0:AD=16,0:DP=16\tGT=0/0:AD=16,0:DP=16\t\n",
      "chr3\t45488901\tC\tT\tGT=0/0:AD=6,0:DP=6\tGT=0/0:AD=9,0:DP=9\tGT=0/0:AD=4,0:DP=4\tGT=0/0:AD=6,0:DP=6\tGT=0/0:AD=4,0:DP=4\tGT=0/0:AD=7,0:DP=7\tGT=0/0:AD=6,0:DP=6\tGT=0/0:AD=9,0:DP=9\tGT=0/0:AD=3,0:DP=3\tGT=0/0:AD=5,0:DP=5\t\n",
      "chr3\t45496262\tA\tG\tGT=0/0:AD=14,0:DP=14\tGT=0/0:AD=16,0:DP=16\tGT=0/0:AD=16,0:DP=16\tGT=0/0:AD=16,0:DP=16\tGT=0/0:AD=10,0:DP=10\tGT=0/0:AD=11,0:DP=11\tGT=0/0:AD=16,0:DP=16\tGT=0/0:AD=18,0:DP=18\tGT=0/0:AD=17,0:DP=17\tGT=0/0:AD=12,0:DP=12\t\n",
      "chr3\t45496305\tC\tT\tGT=0/0:AD=16,0:DP=16\tGT=0/0:AD=16,0:DP=16\tGT=0/0:AD=25,0:DP=25\tGT=0/0:AD=16,0:DP=16\tGT=0/0:AD=18,0:DP=18\tGT=0/0:AD=14,0:DP=14\tGT=0/0:AD=16,0:DP=16\tGT=0/0:AD=18,0:DP=18\tGT=0/0:AD=17,0:DP=17\tGT=0/0:AD=16,0:DP=16\t\n",
      "\n"
     ]
    }
   ],
   "source": [
    "bcftools query -f '%CHROM\\t%POS\\t%REF\\t%ALT\\t[GT=%GT:AD=%AD:DP=%DP\\t]\\n' ~/test/bcftools/chr3_mwe.subset_10samples.leftnorm.vcf.gz"
   ]
  },
  {
   "cell_type": "code",
   "execution_count": 11,
   "id": "5f93ffa1-5632-4811-aea8-ffe6d250e8e2",
   "metadata": {
    "kernel": "Bash"
   },
   "outputs": [
    {
     "name": "stdout",
     "output_type": "stream",
     "text": [
      "\n"
     ]
    }
   ],
   "source": [
    "bcftools view \\\n",
    "-c 1 \\\n",
    "-O u \\\n",
    " ~/test/bcftools/chr3_mwe.subset.vcf.gz |\\\n",
    "bcftools query \\\n",
    "-f '%CHROM\\t%POS\\t.\\t%REF\\t%ALT\\t.\\t.\\t.\\t%AC\\t%AN\\n' \\\n",
    "-o  ~/test/bcftools/test"
   ]
  },
  {
   "cell_type": "code",
   "execution_count": null,
   "id": "a1850871-a693-4886-86a1-1fb6f6887800",
   "metadata": {
    "kernel": "Bash"
   },
   "outputs": [],
   "source": [
    "bcftools view -f PASS -O u /mnt/vast/hpc/csg/UKBiobank/data/exome_files/project_VCF/ukb23156_c17_b51_v1.vcf.gz | bcftools query \\\n",
    "-f '%CHROM\\t%POS\\t.\\t%REF\\t%ALT\\t.\\t.\\t.\\t%AC\\t%AN\\n' \\\n",
    "-o  ~/test/bcftools/test"
   ]
  },
  {
   "cell_type": "code",
   "execution_count": null,
   "id": "f4ca5e7f-e5dc-43a4-a08b-dd498830e165",
   "metadata": {
    "kernel": "Bash"
   },
   "outputs": [],
   "source": []
  }
 ],
 "metadata": {
  "kernelspec": {
   "display_name": "SoS",
   "language": "sos",
   "name": "sos"
  },
  "language_info": {
   "codemirror_mode": "sos",
   "file_extension": ".sos",
   "mimetype": "text/x-sos",
   "name": "sos",
   "nbconvert_exporter": "sos_notebook.converter.SoS_Exporter",
   "pygments_lexer": "sos"
  },
  "sos": {
   "kernels": [
    [
     "Bash",
     "calysto_bash",
     "Bash",
     "#E6EEFF",
     "shell"
    ]
   ],
   "version": "0.22.6"
  }
 },
 "nbformat": 4,
 "nbformat_minor": 5
}
