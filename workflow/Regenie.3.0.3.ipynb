{
 "cells": [
  {
   "cell_type": "markdown",
   "id": "4c100224-4aec-4db1-b701-d7fde4a55d31",
   "metadata": {
    "kernel": "SoS",
    "tags": []
   },
   "source": [
    "# Regenie V3.0.3"
   ]
  },
  {
   "cell_type": "markdown",
   "id": "b411a986-f582-4bf8-a08a-d794afebd79b",
   "metadata": {
    "kernel": "SoS"
   },
   "source": [
    "The interaction analysis based on the new version of Regenie \n",
    "https://github.com/rgcgithub/regenie/releases/tag/v3.0.3"
   ]
  },
  {
   "cell_type": "code",
   "execution_count": null,
   "id": "26268c23-cf47-4f97-ba8b-29c86ab4e869",
   "metadata": {
    "kernel": "SoS"
   },
   "outputs": [],
   "source": []
  },
  {
   "cell_type": "markdown",
   "id": "07c70455-5577-4d0e-a99c-9bea7c99df21",
   "metadata": {
    "kernel": "SoS"
   },
   "source": [
    "## Regenie interaction"
   ]
  },
  {
   "cell_type": "markdown",
   "id": "ffd409f7-3322-462b-b3e5-f2219a27c5a6",
   "metadata": {
    "kernel": "SoS"
   },
   "source": [
    "## Method\n",
    "\n",
    "### The interaction model\n",
    "\n",
    "$$\n",
    "y = \\beta_{0}+\\beta_{1} snp_{1}+\\beta_{2} snp_{2}+\\beta_{12} snp_{1}snp_{2}+\\beta_{c} c+g+\\varepsilon\\ \\ g\\sim MNV(0,\\sigma^{2}_{a}K), \\varepsilon\\sim MNV(0,\\sigma^{2}_{e}I_{N})\n",
    "$$\n",
    "\n",
    "Where $K$ is the genetic-relatedness matrix $K=\\frac{G_{S}G_{S}^{T}}{M}$, $G_{S}$ is the standardized genotypes"
   ]
  },
  {
   "cell_type": "code",
   "execution_count": null,
   "id": "054efc77-5e07-4896-8421-a4bc43393cfc",
   "metadata": {
    "kernel": "SoS"
   },
   "outputs": [],
   "source": []
  },
  {
   "cell_type": "code",
   "execution_count": null,
   "id": "a34979e1-f897-4347-8927-feacffa774de",
   "metadata": {
    "kernel": "SoS"
   },
   "outputs": [],
   "source": [
    "[global]\n",
    "# the output directory for generated files\n",
    "parameter: cwd = path\n",
    "# Path to sample file\n",
    "parameter: sampleFile = path('.')\n",
    "# Genotype files in plink binary this is used for computing the GRM\n",
    "parameter: bfile = path\n",
    "# Path to bgen or bed files \n",
    "parameter: genoFile = paths('.')\n",
    "# Phenotype file for quantitative trait (BMI)\n",
    "parameter: phenoFile = path\n",
    "# Phenotype to be analyzed (specify the column)\n",
    "parameter: phenoCol = list\n",
    "# Covariate file path. Will use phenoFile if empty\n",
    "parameter: covarFile = path('.')\n",
    "# Summary statisticss format file path used for unifying output column names. Will not unify names if empty\n",
    "parameter: formatFile = path('.')\n",
    "# Qualitative covariates to be used in the analysis\n",
    "parameter: covarCol = []\n",
    "# Quantitative covariates to be used in the analysis\n",
    "parameter: qCovarCol = []\n",
    "# Path to regenie v2.3\n",
    "parameter: regenieFile = path\n",
    "# Specific number of threads to use\n",
    "parameter: numThreads = 2\n",
    "# Minimum MAF to be used\n",
    "parameter: bgenMinMAF = 0.001\n",
    "# Mimimum info score to be used\n",
    "parameter: bgenMinINFO = 0.8\n",
    "# For cluster jobs, number commands to run job_sizeper job\n",
    "parameter: job_size = 1\n",
    "# For cluster jobs, mem to run job_sizeper job\n",
    "parameter: mem = '2G'\n",
    "# The container with the lmm software. Can be either a dockerhub image or a singularity `sif` file.\n",
    "# Default is set to using dockerhub image\n",
    "parameter: container_lmm = 'statisticalgenetics/lmm:2.4'\n",
    "parameter: container_marp = 'gaow/marp'\n",
    "if not covarFile.is_file():\n",
    "    covarFile = phenoFile\n",
    "cwd = path(f\"{cwd:a}\")"
   ]
  },
  {
   "cell_type": "code",
   "execution_count": null,
   "id": "269c4a01-4d2c-470e-bf08-4f73d0be2b87",
   "metadata": {
    "kernel": "SoS"
   },
   "outputs": [],
   "source": [
    "# Select the SNPs and samples to be used based on maf, geno, hwe and mind options\n",
    "[regenie_qc]\n",
    "parameter: maf_filter = 0.0\n",
    "parameter: geno_filter = 0.0\n",
    "parameter: hwe_filter = 0.0\n",
    "parameter: mind_filter = 0.0\n",
    "input: bfile\n",
    "output: f'{cwd}/cache/{bfile:bn}.qc_pass.id', f'{cwd}/cache/{bfile:bn}.qc_pass.snplist' \n",
    "task: trunk_workers = 1, walltime = '10h', mem = '5G', cores = numThreads, tags = f'{step_name}_{_output[0]:bn}'\n",
    "bash: container=container_lmm, expand= \"${ }\", stderr = f'{_output[0]:n}.stderr', stdout = f'{_output[0]:n}.stdout' \n",
    "    plink2 \\\n",
    "      --bfile ${bfile:n} --mac 1 \\\n",
    "      ${('--maf %s' % maf_filter) if maf_filter > 0 else ''} ${('--geno %s' % geno_filter) if geno_filter > 0 else ''} ${('--hwe %s' % hwe_filter) if hwe_filter > 0 else ''} ${('--mind %s' % mind_filter) if mind_filter > 0 else ''} \\\n",
    "      --write-snplist --write-samples --no-id-header \\\n",
    "      --threads ${numThreads} \\\n",
    "      --out ${_output[0]:n} "
   ]
  },
  {
   "cell_type": "code",
   "execution_count": null,
   "id": "62c7986c-d7cd-41a4-9086-341742d2e2ff",
   "metadata": {
    "kernel": "SoS"
   },
   "outputs": [],
   "source": [
    "# Run REGENIE step 1: fitting the null\n",
    "[regenie_1]\n",
    "# Size of the genotype blocks to be used \n",
    "parameter: bsize = 400\n",
    "# Path to temporarily store block predictions\n",
    "parameter: lowmem_dir = cwd\n",
    "# Specify that traits are binary with 0=control,1=case,NA=missing (default is quantitative)\n",
    "parameter: trait = 'bt'\n",
    "# extract and prepare phenotype & covariate files\n",
    "import pandas as pd\n",
    "import numpy as np\n",
    "dat = pd.read_csv(phenoFile, header=0, sep='\\t', dtype=str)\n",
    "dat = dat.replace(to_replace =np.nan, value =\"NA\")\n",
    "if len(phenoCol) > 0:    \n",
    "    dat.to_csv(f\"{cwd}/{phenoFile:bn}.regenie_phenotype\", sep='\\t', index=False, columns = ['FID', 'IID'] + phenoCol)\n",
    "dat = pd.read_csv(covarFile, header=0, sep='\\t', dtype=str)\n",
    "if len(covarCol) > 0 or len(qCovarCol) > 0:\n",
    "    dat = dat.dropna(subset=covarCol)\n",
    "    dat = dat.dropna(subset=qCovarCol)\n",
    "    dat.replace(to_replace =np.nan, value =\"NA\")\n",
    "    dat1 = pd.DataFrame(dat, columns = ['FID','IID'] + covarCol)\n",
    "    #dat1 = dat1.astype(int)\n",
    "    dat2 = pd.DataFrame(dat, columns = ['IID'] + qCovarCol)\n",
    "    merged_left = pd.merge(left=dat1, right=dat2, how='left', left_on='IID', right_on='IID')\n",
    "    merged_left.to_csv(f\"{cwd}/{phenoFile:bn}.regenie_covar\", sep=' ', index=False)\n",
    "depends: f'{cwd}/cache/{bfile:bn}.qc_pass.snplist', f'{cwd}/cache/{bfile:bn}.qc_pass.id'\n",
    "input: geno = bfile, pheno = f\"{cwd}/{phenoFile:bn}.regenie_phenotype\", covar = f\"{cwd}/{phenoFile:bn}.regenie_covar\", qc = output_from(\"regenie_qc\")\n",
    "output: f'{cwd}/{phenoFile:bn}_' + \"_\".join([x for x in phenoCol]) + '.regenie_pred.list'\n",
    "task: trunk_workers = 1, trunk_size = 2, walltime = '24h', mem = '3G', cores = numThreads, tags = f'{step_name}_{_output[0]:bn}'\n",
    "bash: container=container_lmm, expand = \"${ }\", stderr = f'{_output:n}.stderr', stdout = f'{_output:n}.stdout', volumes = [f\"{lowmem_dir:a}:{lowmem_dir:a}\"]\n",
    "    ${regenieFile} \\\n",
    "      --step 1 \\\n",
    "      --bed ${_input[\"geno\"]:n} \\\n",
    "      --phenoFile ${_input[\"pheno\"]} \\\n",
    "      --covarFile ${_input[\"covar\"]} \\\n",
    "      --keep ${_input[\"qc\"][0]} \\\n",
    "      --extract ${_input[\"qc\"][1]} \\\n",
    "      ${('--' + trait) if trait in ['bt'] else ''} \\\n",
    "      --bsize ${bsize} \\\n",
    "      --lowmem --lowmem-prefix ${lowmem_dir:a}/${_output:bn} \\\n",
    "      --threads ${numThreads} \\\n",
    "      --out ${_output:nn}.regenie"
   ]
  },
  {
   "cell_type": "code",
   "execution_count": null,
   "id": "cdc9c920-73a1-4104-afa3-cefa427c90ff",
   "metadata": {
    "kernel": "SoS"
   },
   "outputs": [],
   "source": [
    "# Run REGENIE step 2: association analysis\n",
    "[regenie_2]\n",
    "# Size of the genotype blocks to be used \n",
    "parameter: bsize = 400\n",
    "# Mimimum allele count to be used\n",
    "parameter: minMAC = int\n",
    "parameter: trait = 'bt'\n",
    "parameter: trunk_workers = 1\n",
    "parameter: job_size = 5\n",
    "parameter: mem = '3G'\n",
    "parameter: walltime = '2h'\n",
    "# in the case of bgen data from UKBB ref_first should be set to true\n",
    "parameter: ref_first= False\n",
    "# extract and prepare the snplist for interaction input\n",
    "import pandas as pd \n",
    "if \" \" in f'{genoFile:n}':\n",
    "    print(\"Please merge the genoFile for step 2\")\n",
    "else:\n",
    "    snplist = pd.read_csv(f'{genoFile:n}.bim', header=None, sep='\\t', dtype=str).iloc[:,1].to_list()[:10]\n",
    "input: info = f'{cwd}/{phenoFile:bn}_' + \"_\".join([x for x in phenoCol]) + '.regenie_pred.list', for_each = dict(snp=snplist)\n",
    "input_options = f\"--bgen {genoFile:} --sample {sampleFile}\" if _input.suffix == \".bgen\" else f\"--bed {genoFile:n}\"\n",
    "output: f'{cwd}/cache/{_input[0]:bn}.{snp}_'+ \"_\".join([x for x in phenoCol]) + f\".regenie.gz\"\n",
    "outputprefix=f'{cwd}/cache/{_input[0]:bn}.{snp}'\n",
    "task: trunk_workers = trunk_workers, trunk_size = job_size, walltime = walltime, mem = mem, cores = numThreads, tags = f'{step_name}_{_output[0]:bn}'\n",
    "bash:container=container_lmm, expand = \"${ }\", stderr = f'{cwd}/cache/{_input:bn}.stderr', stdout = f'{cwd}/cache/{_input[0]:bn}.stdout', volumes = [f\"{cwd:a}:{cwd:a}\"]\n",
    "    set -e\n",
    "    ${regenieFile} \\\n",
    "     --step 2 \\\n",
    "     ${input_options} \\\n",
    "     --phenoFile ${cwd}/${phenoFile:bn}.regenie_phenotype \\\n",
    "     --covarFile ${cwd}/${covarFile:bn}.regenie_covar \\\n",
    "     --phenoColList ${','.join(phenoCol)} \\\n",
    "     ${('--' + trait) if trait in ['bt'] else ''} \\\n",
    "     ${('--ref-first') if ref_first else ''} \\\n",
    "     --interaction-snp ${snp} \\\n",
    "     --firth --approx \\\n",
    "     --pred ${_input[\"info\"]} \\\n",
    "     --bsize ${bsize} \\\n",
    "     --minMAC ${minMAC} \\\n",
    "     --minINFO ${bgenMinINFO}\\\n",
    "     --threads ${numThreads} \\\n",
    "     --out ${outputprefix} && \\\n",
    "     gzip -f --best ${_output:n}"
   ]
  }
 ],
 "metadata": {
  "kernelspec": {
   "display_name": "SoS",
   "language": "sos",
   "name": "sos"
  },
  "language_info": {
   "codemirror_mode": "sos",
   "file_extension": ".sos",
   "mimetype": "text/x-sos",
   "name": "sos",
   "nbconvert_exporter": "sos_notebook.converter.SoS_Exporter",
   "pygments_lexer": "sos"
  },
  "sos": {
   "kernels": [
    [
     "SoS",
     "sos",
     "",
     ""
    ]
   ],
   "version": "0.22.9"
  }
 },
 "nbformat": 4,
 "nbformat_minor": 5
}
