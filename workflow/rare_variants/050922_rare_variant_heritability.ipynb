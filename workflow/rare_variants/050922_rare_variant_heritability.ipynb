{
 "cells": [
  {
   "cell_type": "markdown",
   "id": "d252b379-6c07-409f-95d8-cccc52b1b8e5",
   "metadata": {
    "kernel": "SoS",
    "tags": []
   },
   "source": [
    "# Estimate the rare variant heritability of age-related hearing impairment traits"
   ]
  },
  {
   "cell_type": "markdown",
   "id": "10ff6cc5-5ba6-4e6a-8e71-2057113e7921",
   "metadata": {
    "kernel": "SoS"
   },
   "source": [
    "# Aim\n"
   ]
  },
  {
   "cell_type": "markdown",
   "id": "2d346c76-d21e-4412-af54-6807053d9781",
   "metadata": {
    "kernel": "Markdown",
    "tags": []
   },
   "source": [
    "# Concepts\n",
    "\n",
    "\n",
    "Proportion of phenotypic variance captured by common SNPs - SNP-based heritability (h^2SNP)\n",
    "\n",
    "Discrepancy between h^2ped and h^2SNP:\n",
    "\n",
    "1. Causal variants are not well tagged by common SNPs because they are rare\n",
    "2. Pedigree heritability is overestimated because of confounding with environmental effects or non-additive genetic variation\n"
   ]
  },
  {
   "cell_type": "markdown",
   "id": "4ff30917-c02a-43ec-9632-87d72314fadb",
   "metadata": {
    "kernel": "SoS"
   },
   "source": [
    "## 1. Calculate the SNP-based heritability from common variants and compared to available literature\n",
    "\n",
    "First of all a GRM from all of the autosomal SNPs needs to be calculated.\n"
   ]
  },
  {
   "cell_type": "markdown",
   "id": "7956f729-8e4c-4447-b2ec-b3ceba3ff549",
   "metadata": {
    "kernel": "SoS"
   },
   "source": [
    "## Input files\n",
    "\n",
    "### Phenotype files\n",
    "\n",
    "These files have already been QC'ed to include individuals with each of the hearing impairment traits and control individuals without hearing impairment related phenotypes\n",
    "\n",
    "Mega-sample \n",
    "\n",
    "H-aid:\n",
    "\n",
    "* /mnt/mfs/statgen/UKBiobank/phenotype_files/hearing_impairment/090321_UKBB_Hearing_aid_f3393_expandedwhite_6436cases_96601ctrl_PC1_2.tsv\n",
    "\n",
    "H-diff:\n",
    "\n",
    "* /mnt/mfs/statgen/UKBiobank/phenotype_files/hearing_impairment/090321_UKBB_Hearing_difficulty_f2247_expandedwhite_45502cases_96601ctrl_PC1_2.tsv\n",
    "\n",
    "H-noise:\n",
    "\n",
    "* /mnt/mfs/statgen/UKBiobank/phenotype_files/hearing_impairment/090321_UKBB_Hearing_noise_f2257_expandedwhite_65660cases_96601ctrl_PC1_2.tsv\n",
    "\n",
    "H-both:\n",
    "\n",
    "* /mnt/mfs/statgen/UKBiobank/phenotype_files/hearing_impairment/090321_UKBB_Combined_f2247_f2257_expandedwhite_38410cases_96601ctrl_PC1_2.tsv\n",
    "\n",
    "\n",
    "### Genotype files\n",
    "\n",
    "Original exome sequence files in plink format are here: \n",
    "* /mnt/mfs/statgen/UKBiobank/data/exome_files/project_VCF/072721_run/plink/ukb23156_c{1..22}.merged.filtered.bed\n",
    "\n",
    "QC done in these VCF files was: \n",
    "\n",
    "- DP-SPNs=10\n",
    "- DP-indels=10\n",
    "- GQ=20\n",
    "- AB-SNP=0.15\n",
    "- AB-indel=0.20\n",
    "- geno=0.1\n",
    "\n",
    "Samples with missingness >10% `-mind 0.1` in the genotype array\n",
    "\n",
    "* ~/UKBiobank/data/exome_files/project_VCF/072721_run/merged_plink/mind_0.1/cache/ukb23155_qc_merged.mind_0.1.filtered.mindrem.id\n",
    "\n",
    "Extra QC step is needed here to make sure we have the best quality variants for heritability calculation\n",
    "\n",
    "### Selecting white European samples\n",
    "\n",
    "According to Wainschtein et al 2022, they do two rounds of PC's calculations (20 PC's) one with common variants and one with rare variants. The prunning is also done using different parameters for each of these analyses\n",
    "\n",
    "- Common: MAF 0.01-0.5, window 50Kb, r2=0.1\n",
    "- Rare: MAF 0.004 (MAC=5) - 0.01, window 100Kb, r2=0.05\n",
    "\n",
    "In our case, we will use our already defined white European population that was classified using the genotype array data with common variants, calculating 10 PC's and the manhalanobis distance to dected outliers. \n",
    "\n",
    "* /mnt/mfs/statgen/UKBiobank/results/083021_PCA_results/europeans/cache/UKB_genotypedatadownloaded083019.090221_sample_variant_qc_final_callrate90.filtered.extracted.europeans.filtered.fam\n",
    "\n",
    "### Removing related individuals \n",
    "\n",
    "In this step we just want to keep the unrelated European individuals for heritability calculations. We use a kinship=0.0625 (to remove related individuals up to third degree)\n",
    "\n",
    "* remove_samples=/mnt/mfs/statgen/UKBiobank/results/083021_PCA_results/090221_king/*.related_id\n",
    "\n",
    "### Remove individuals showing excess of heterozygosity based on GRM off-diagonal?\n",
    "\n",
    "Don't know if this is necessary or not"
   ]
  },
  {
   "cell_type": "markdown",
   "id": "7605f3a4-faca-43cc-8151-51572d8bc737",
   "metadata": {
    "kernel": "SoS"
   },
   "source": [
    "Here we start with QC'ed exome sequence data but we will generate additional files with more stringent QC for heritability calculation\n",
    "\n",
    "1. MAF keep all rare-variants (Wainschtein 2022 paper uses `--maf 0.0001` )\n",
    "2. `--geno 0.05` (originally for our exome QC we used a `--geno 0.1`)\n",
    "3. `--hwe 0.000001` \n",
    "4. `--mind 0.05` (originally we did not remove individuals based on mind for the exome QC)\n",
    "5. `--snps_only` add this option to remove indels from calculation\n",
    "\n",
    "### Build the GRM from the exome sequence data?"
   ]
  },
  {
   "cell_type": "markdown",
   "id": "535c090d-6119-4889-a453-467a3f960638",
   "metadata": {
    "kernel": "SoS"
   },
   "source": [
    "## Step 1. Extra QC on the exome data"
   ]
  },
  {
   "cell_type": "code",
   "execution_count": 2,
   "id": "18fd3522-73c6-4d06-82fc-1982fa222086",
   "metadata": {
    "kernel": "Bash",
    "tags": []
   },
   "outputs": [
    {
     "name": "stdout",
     "output_type": "stream",
     "text": [
      "INFO: Running \u001b[32mcsg\u001b[0m: Configuration for Columbia csg partition cluster\n",
      "INFO: \u001b[32mcsg\u001b[0m is \u001b[32mcompleted\u001b[0m.\n",
      "INFO: \u001b[32mcsg\u001b[0m output:   \u001b[32m/home/dmc2245/hearing/heritability/herit_eur_unrel_exome_2022-05-13.sbatch\u001b[0m\n",
      "INFO: Workflow csg (ID=w3bf43ee3b79e92ad) is executed successfully with 1 completed step.\n",
      "\n"
     ]
    }
   ],
   "source": [
    "## Select White European unrelated individuals \n",
    "## Do some extra QC on the exome data\n",
    "UKBB_PATH=/mnt/mfs/statgen/UKBiobank\n",
    "cwd=$UKBB_PATH/results/ARHI_heritability/cache\n",
    "## Use the exome filtered file\n",
    "genoFile=`echo $UKBB_PATH/data/exome_files/project_VCF/072721_run/plink/ukb23156_c{1..22}.merged.filtered.bed`\n",
    "## To keep the samples of white Europeans only\n",
    "keep_samples=$UKBB_PATH/results/083021_PCA_results/europeans/cache/UKB_genotypedatadownloaded083019.090221_sample_variant_qc_final_callrate90.filtered.extracted.europeans.filtered.fam\n",
    "## To remove related individuals \n",
    "remove_samples=$UKBB_PATH/results/083021_PCA_results/090221_king/*.related_id\n",
    "\n",
    "# Do not set a MAF filter, this will keep both common and rare variants\n",
    "maf_filter=0 \n",
    "# Set a more stringent geno filter of 0.05\n",
    "geno_filter=0.05\n",
    "# Set a HWE filter 1x10^-6\n",
    "hwe_filter=0.000001\n",
    "# Do not set a sample missingness filter at this point, otherwise many samples would be removed\n",
    "mind_filter=0\n",
    "snps_only=True\n",
    "\n",
    "gwas_sbatch=~/hearing/heritability/herit_eur_unrel_exome_$(date +\"%Y-%m-%d\").sbatch\n",
    "gwasqc_sos=~/project/xqtl-pipeline/code/data_preprocessing/genotype/GWAS_QC.ipynb\n",
    "tpl_file=~/project/bioworkflows/admin/csg.yml\n",
    "container=~/containers/bioinfo.sif\n",
    "numThreads=20\n",
    "job_size=1\n",
    "mem='30G'\n",
    "\n",
    "gwasqc_args=\"\"\"qc:1\n",
    "    --cwd $cwd\n",
    "    --genoFile $genoFile\n",
    "    --keep_samples $keep_samples\n",
    "    --remove_samples $remove_samples\n",
    "    --maf_filter $maf_filter\n",
    "    --geno_filter $geno_filter\n",
    "    --hwe_filter $hwe_filter\n",
    "    --mind_filter $mind_filter\n",
    "    --snps_only $snps_only\n",
    "    --numThreads $numThreads \n",
    "    --job_size $job_size\n",
    "    --container $container\n",
    "    --mem $mem\n",
    "\"\"\"\n",
    "\n",
    "sos run ~/project/UKBB_GWAS_dev/admin/Get_Job_Script.ipynb csg\\\n",
    "    --template-file $tpl_file \\\n",
    "    --workflow-file $gwasqc_sos \\\n",
    "    --to-script $gwas_sbatch \\\n",
    "    --args \"$gwasqc_args\"\n"
   ]
  },
  {
   "cell_type": "markdown",
   "id": "90017c69-aff4-4096-971d-8204ff24225e",
   "metadata": {
    "kernel": "Bash"
   },
   "source": [
    "## Step 2. Merge plink files and use `--mind 0.05` filter\n",
    "\n",
    "From the Wainschtein 2022 paper\n",
    "\n",
    "```\n",
    "plink \\\n",
    "--bfile ${BED_file_merged} \\\n",
    "--merge-list ${list_beds} \\\n",
    "--make-bed \\\n",
    "--maf 0.0001 \\\n",
    "--geno 0.05  \\\n",
    "--hwe 0.000001 \\\n",
    "--mind 0.05 \\\n",
    "--out ${BED_file_merged_QC} \\\n",
    "--threads ${ncpu}\n",
    "```"
   ]
  },
  {
   "cell_type": "markdown",
   "id": "3005997e-4563-45b6-89cf-9bd1ffdf1c23",
   "metadata": {
    "kernel": "Bash"
   },
   "source": [
    "## Get the file for rare variants MAF<0.01"
   ]
  },
  {
   "cell_type": "code",
   "execution_count": 28,
   "id": "3b991e85-7f0a-4a8f-8ac8-87b125e69edf",
   "metadata": {
    "kernel": "Bash",
    "tags": []
   },
   "outputs": [
    {
     "name": "stdout",
     "output_type": "stream",
     "text": [
      "INFO: Running \u001b[32mcsg\u001b[0m: Configuration for Columbia csg partition cluster\n",
      "INFO: \u001b[32mcsg\u001b[0m is \u001b[32mcompleted\u001b[0m.\n",
      "INFO: \u001b[32mcsg\u001b[0m output:   \u001b[32m/mnt/mfs/statgen/UKBiobank/results/ARHI_heritability/herit_eur_unrel_exome_merged_rareMAFbelow0.01_2022-05-13.sbatch\u001b[0m\n",
      "INFO: Workflow csg (ID=wc18cb73ed2bea929) is executed successfully with 1 completed step.\n",
      "\n"
     ]
    }
   ],
   "source": [
    "genoFile=`echo /mnt/mfs/statgen/UKBiobank/results/ARHI_heritability/cache/ukb23156_c{1..22}.merged.filtered.filtered.bed`\n",
    "cwd=/mnt/mfs/statgen/UKBiobank/results/ARHI_heritability/merged_bed\n",
    "# Do not set a MAF filter, this will keep both common and rare variants\n",
    "maf_filter=0 \n",
    "# Set a more stringent geno filter of 0.05\n",
    "geno_filter=0.05\n",
    "# Set a HWE filter 1x10^-6\n",
    "hwe_filter=0.000001\n",
    "# Do not set a sample missingness filter at this point, otherwise many samples would be removed\n",
    "mind_filter=0.05\n",
    "name='ukb23156_merged_european_unrelated_snpsonly_rarevarsMAFbelow0.01'\n",
    "# Select only the variants below 0.01 MAF\n",
    "maf_max_filter=0.01\n",
    "gwas_sbatch=/mnt/mfs/statgen/UKBiobank/results/ARHI_heritability/herit_eur_unrel_exome_merged_rareMAFbelow0.01_$(date +\"%Y-%m-%d\").sbatch\n",
    "gwasqc_sos=~/project/xqtl-pipeline/code/data_preprocessing/genotype/genotype_formatting.ipynb\n",
    "tpl_file=~/project/bioworkflows/admin/csg.yml\n",
    "container=~/containers/bioinfo.sif\n",
    "\n",
    "merge_args=\"\"\"merge_plink\n",
    "    --cwd $cwd\n",
    "    --genoFile $genoFile\n",
    "    --name $name\n",
    "    --maf_filter $maf_filter\n",
    "    --maf_max_filter $maf_max_filter\n",
    "    --geno_filter $geno_filter\n",
    "    --hwe_filter $hwe_filter\n",
    "    --mind_filter $mind_filter\n",
    "    --container $container\n",
    "\"\"\"\n",
    "\n",
    "sos run ~/project/UKBB_GWAS_dev/admin/Get_Job_Script.ipynb csg\\\n",
    "    --template-file $tpl_file \\\n",
    "    --workflow-file $gwasqc_sos \\\n",
    "    --to-script $gwas_sbatch \\\n",
    "    --args \"$merge_args\"\n"
   ]
  },
  {
   "cell_type": "markdown",
   "id": "ce047316-cdc4-46cf-bce4-9bf649721034",
   "metadata": {
    "kernel": "SoS"
   },
   "source": [
    "## Get the file for common variants MAF>0.01"
   ]
  },
  {
   "cell_type": "code",
   "execution_count": 26,
   "id": "c0d17b1c-f6f3-4b74-ac07-02df25622679",
   "metadata": {
    "kernel": "Bash",
    "tags": []
   },
   "outputs": [
    {
     "name": "stdout",
     "output_type": "stream",
     "text": [
      "INFO: Running \u001b[32mcsg\u001b[0m: Configuration for Columbia csg partition cluster\n",
      "INFO: \u001b[32mcsg\u001b[0m is \u001b[32mcompleted\u001b[0m.\n",
      "INFO: \u001b[32mcsg\u001b[0m output:   \u001b[32m/mnt/mfs/statgen/UKBiobank/results/ARHI_heritability/herit_eur_unrel_exome_merged_commonMAFabove0.01_2022-05-13.sbatch\u001b[0m\n",
      "INFO: Workflow csg (ID=w29aba3bab2e71b04) is executed successfully with 1 completed step.\n",
      "\n"
     ]
    }
   ],
   "source": [
    "genoFile=`echo /mnt/mfs/statgen/UKBiobank/results/ARHI_heritability/cache/ukb23156_c{1..22}.merged.filtered.filtered.bed`\n",
    "cwd=/mnt/mfs/statgen/UKBiobank/results/ARHI_heritability/merged_bed\n",
    "# Do not set a MAF filter, this will keep variants with MAF> 0.01\n",
    "maf_filter=0.01\n",
    "# Set a more stringent geno filter of 0.05\n",
    "geno_filter=0.05\n",
    "# Set a HWE filter 1x10^-6\n",
    "hwe_filter=0.000001\n",
    "# Do not set a sample missingness filter at this point, otherwise many samples would be removed\n",
    "mind_filter=0.05\n",
    "name='ukb23156_merged_european_unrelated_snpsonly_commonvarsMAFabove0.01'\n",
    "gwas_sbatch=/mnt/mfs/statgen/UKBiobank/results/ARHI_heritability/herit_eur_unrel_exome_merged_commonMAFabove0.01_$(date +\"%Y-%m-%d\").sbatch\n",
    "gwasqc_sos=~/project/xqtl-pipeline/code/data_preprocessing/genotype/genotype_formatting.ipynb\n",
    "tpl_file=~/project/bioworkflows/admin/csg.yml\n",
    "container=~/containers/bioinfo.sif\n",
    "\n",
    "merge_args=\"\"\"merge_plink\n",
    "    --cwd $cwd\n",
    "    --genoFile $genoFile\n",
    "    --name $name\n",
    "    --maf_filter $maf_filter\n",
    "    --geno_filter $geno_filter\n",
    "    --hwe_filter $hwe_filter\n",
    "    --mind_filter $mind_filter\n",
    "    --container $container\n",
    "\"\"\"\n",
    "\n",
    "sos run ~/project/UKBB_GWAS_dev/admin/Get_Job_Script.ipynb csg\\\n",
    "    --template-file $tpl_file \\\n",
    "    --workflow-file $gwasqc_sos \\\n",
    "    --to-script $gwas_sbatch \\\n",
    "    --args \"$merge_args\"\n"
   ]
  },
  {
   "cell_type": "markdown",
   "id": "0319e1e5-e181-4598-94a2-f9bb2dd531b6",
   "metadata": {
    "kernel": "SoS"
   },
   "source": [
    "## Get a file with both common and rare variants"
   ]
  },
  {
   "cell_type": "code",
   "execution_count": 27,
   "id": "96608608-6dcc-4948-931c-cef53d977b0e",
   "metadata": {
    "kernel": "Bash",
    "tags": []
   },
   "outputs": [
    {
     "name": "stdout",
     "output_type": "stream",
     "text": [
      "INFO: Running \u001b[32mcsg\u001b[0m: Configuration for Columbia csg partition cluster\n",
      "INFO: \u001b[32mcsg\u001b[0m is \u001b[32mcompleted\u001b[0m.\n",
      "INFO: \u001b[32mcsg\u001b[0m output:   \u001b[32m/mnt/mfs/statgen/UKBiobank/results/ARHI_heritability/herit_eur_unrel_exome_merged_allvars_2022-05-13.sbatch\u001b[0m\n",
      "INFO: Workflow csg (ID=wab6b54cbdae04111) is executed successfully with 1 completed step.\n",
      "\n"
     ]
    }
   ],
   "source": [
    "genoFile=`echo /mnt/mfs/statgen/UKBiobank/results/ARHI_heritability/cache/ukb23156_c{1..22}.merged.filtered.filtered.bed`\n",
    "cwd=/mnt/mfs/statgen/UKBiobank/results/ARHI_heritability/merged_bed\n",
    "# Do not set a MAF filter, this will keep both common and rare variants\n",
    "maf_filter=0 \n",
    "# Set a more stringent geno filter of 0.05\n",
    "geno_filter=0.05\n",
    "# Set a HWE filter 1x10^-6\n",
    "hwe_filter=0.000001\n",
    "# Do not set a sample missingness filter at this point, otherwise many samples would be removed\n",
    "mind_filter=0.05\n",
    "name='ukb23156_merged_european_unrelated_snpsonly_common_rare'\n",
    "\n",
    "gwas_sbatch=/mnt/mfs/statgen/UKBiobank/results/ARHI_heritability/herit_eur_unrel_exome_merged_allvars_$(date +\"%Y-%m-%d\").sbatch\n",
    "gwasqc_sos=~/project/xqtl-pipeline/code/data_preprocessing/genotype/genotype_formatting.ipynb\n",
    "tpl_file=~/project/bioworkflows/admin/csg.yml\n",
    "container=~/containers/bioinfo.sif\n",
    "\n",
    "merge_args=\"\"\"merge_plink\n",
    "    --cwd $cwd\n",
    "    --genoFile $genoFile\n",
    "    --name $name\n",
    "    --maf_filter $maf_filter\n",
    "    --geno_filter $geno_filter\n",
    "    --hwe_filter $hwe_filter\n",
    "    --mind_filter $mind_filter\n",
    "    --container $container\n",
    "\"\"\"\n",
    "\n",
    "sos run ~/project/UKBB_GWAS_dev/admin/Get_Job_Script.ipynb csg\\\n",
    "    --template-file $tpl_file \\\n",
    "    --workflow-file $gwasqc_sos \\\n",
    "    --to-script $gwas_sbatch \\\n",
    "    --args \"$merge_args\"\n"
   ]
  },
  {
   "cell_type": "markdown",
   "id": "db941c21-6114-42b3-a8b8-13999fdc4766",
   "metadata": {
    "kernel": "SoS"
   },
   "source": [
    "# Create the GRM matrix\n",
    "\n",
    "Here we need to create a GRM per bed file for common, rare and both types of variants\n",
    "\n",
    "```\n",
    "\n",
    "i={1..99}\n",
    "GCTA \\\n",
    "--bfile ${BED_file_merged_QC} \\\n",
    "--extract ${list_variants_LD_bin} \\\n",
    "--make-grm-part 99 \"$i\" \\\n",
    "--thread-num ${ncpu} \\\n",
    "--out ${GRM_out} \\\n",
    "--make-grm-alg 1\n",
    "\n",
    "\n",
    "#Merge all GRM parts together\n",
    "\n",
    "cat ${GRM_out}.part_99_*.grm.id > ${GRM_out}.grm.id\n",
    "cat ${GRM_out}.part_99_*.grm.bin > ${GRM_out}.grm.bin\n",
    "cat ${GRM_out}.part_99_*.grm.N.bin > ${GRM_out}.grm.N.bin\n",
    "```"
   ]
  },
  {
   "cell_type": "markdown",
   "id": "15e6d1fd-b883-4bdb-ade2-960062265869",
   "metadata": {
    "kernel": "Bash"
   },
   "source": [
    "## Get GRM for rare variant substet"
   ]
  },
  {
   "cell_type": "code",
   "execution_count": null,
   "id": "2dfdaea5-552a-45c1-a4c0-e2d50aa90fba",
   "metadata": {
    "kernel": "Bash"
   },
   "outputs": [],
   "source": [
    "bfile=/mnt/mfs/statgen/UKBiobank/results/ARHI_heritability/merged_bed/\n",
    "cwd=/mnt/mfs/statgen/UKBiobank/results/ARHI_heritability/grm\n",
    "numThreads=20\n",
    "\n",
    "gcta_sbatch=/mnt/mfs/statgen/UKBiobank/results/ARHI_heritability/grm/herit_eur_unrel_gtca_allvars_$(date +\"%Y-%m-%d\").sbatch\n",
    "gcta_sos=~/project/bioworkflows/GWAS/LMM.ipynb\n",
    "tpl_file=~/project/bioworkflows/admin/csg.yml\n",
    "container=~/containers/lmm.sif\n",
    "\n",
    "gcta_args=\"\"\"gcta\n",
    "    --cwd $cwd\n",
    "    --bfile $bfile\n",
    "    --numThreads $numThreads\n",
    "    --container $container\n",
    "\"\"\"\n",
    "\n",
    "sos run ~/project/UKBB_GWAS_dev/admin/Get_Job_Script.ipynb csg\\\n",
    "    --template-file $tpl_file \\\n",
    "    --workflow-file $gcta_sos \\\n",
    "    --to-script $gcta_sbatch \\\n",
    "    --args \"$gcta_args\"\n"
   ]
  },
  {
   "cell_type": "markdown",
   "id": "4bbf8454-563c-4223-8698-44d386c9a8a6",
   "metadata": {
    "kernel": "Bash"
   },
   "source": [
    "## Get the GRM for common variant subset"
   ]
  },
  {
   "cell_type": "code",
   "execution_count": null,
   "id": "2c724139-7b6e-4813-95e3-e7830657e581",
   "metadata": {
    "kernel": "Bash"
   },
   "outputs": [],
   "source": [
    "bfile=/mnt/mfs/statgen/UKBiobank/results/ARHI_heritability/merged_bed/\n",
    "cwd=/mnt/mfs/statgen/UKBiobank/results/ARHI_heritability/grm\n",
    "numThreads=20\n",
    "\n",
    "gcta_sbatch=/mnt/mfs/statgen/UKBiobank/results/ARHI_heritability/grm/herit_eur_unrel_gtca_allvars_$(date +\"%Y-%m-%d\").sbatch\n",
    "gcta_sos=~/project/bioworkflows/GWAS/LMM.ipynb\n",
    "tpl_file=~/project/bioworkflows/admin/csg.yml\n",
    "container=~/containers/lmm.sif\n",
    "\n",
    "gcta_args=\"\"\"merge_plink\n",
    "    --cwd $cwd\n",
    "    --bfile $bfile\n",
    "    --numThreads $numThreads\n",
    "    --container $container\n",
    "\"\"\"\n",
    "\n",
    "sos run ~/project/UKBB_GWAS_dev/admin/Get_Job_Script.ipynb csg\\\n",
    "    --template-file $tpl_file \\\n",
    "    --workflow-file $gcta_sos \\\n",
    "    --to-script $gcta_sbatch \\\n",
    "    --args \"$gcta_args\""
   ]
  },
  {
   "cell_type": "markdown",
   "id": "ec3d3790-dc77-4b52-8cdc-72caed59e2f7",
   "metadata": {
    "kernel": "Bash"
   },
   "source": [
    "## Get the GRM for all variants (rare + common)"
   ]
  },
  {
   "cell_type": "code",
   "execution_count": null,
   "id": "2b1d3208-3c39-4e14-9d94-1347a8c329f1",
   "metadata": {
    "kernel": "Bash"
   },
   "outputs": [],
   "source": [
    "bfile=/mnt/mfs/statgen/UKBiobank/results/ARHI_heritability/merged_bed/\n",
    "cwd=/mnt/mfs/statgen/UKBiobank/results/ARHI_heritability/grm\n",
    "numThreads=20\n",
    "\n",
    "gcta_sbatch=/mnt/mfs/statgen/UKBiobank/results/ARHI_heritability/grm/herit_eur_unrel_gtca_allvars_$(date +\"%Y-%m-%d\").sbatch\n",
    "gcta_sos=~/project/bioworkflows/GWAS/LMM.ipynb\n",
    "tpl_file=~/project/bioworkflows/admin/csg.yml\n",
    "container=~/containers/lmm.sif\n",
    "\n",
    "gcta_args=\"\"\"merge_plink\n",
    "    --cwd $cwd\n",
    "    --bfile $bfile\n",
    "    --numThreads $numThreads\n",
    "    --container $container\n",
    "\"\"\"\n",
    "\n",
    "sos run ~/project/UKBB_GWAS_dev/admin/Get_Job_Script.ipynb csg\\\n",
    "    --template-file $tpl_file \\\n",
    "    --workflow-file $gcta_sos \\\n",
    "    --to-script $gcta_sbatch \\\n",
    "    --args \"$gcta_args\""
   ]
  },
  {
   "cell_type": "code",
   "execution_count": null,
   "id": "d4321258-1946-4d02-bb49-4b47dd4d7bdd",
   "metadata": {
    "kernel": "Bash"
   },
   "outputs": [],
   "source": [
    "###### Create a file containing multiple GRMs in a directory (need full path) ######\n",
    "\n",
    "for i in *.grm.bin ; do readlink -f \"$i\"  | cut -d'.' -f1-2 >>  ${mgrm_file_path}; done"
   ]
  },
  {
   "cell_type": "markdown",
   "id": "ad66fb97-b3dd-47dd-95a1-c829a2a8ce7d",
   "metadata": {
    "kernel": "Bash"
   },
   "source": [
    "## Do LD prunning for each group of variants"
   ]
  },
  {
   "cell_type": "code",
   "execution_count": null,
   "id": "8b41e0cb-e309-47c2-a875-15eaea1eda1f",
   "metadata": {
    "kernel": "Bash"
   },
   "outputs": [],
   "source": [
    "i={1..22}\n",
    "plink \\\n",
    "\t--bfile ${BED_file_merged_QC} \\\n",
    "\t--chr \"$i\" \\\n",
    "\t--extract ${list_variants_bin} \\\n",
    "\t--indep-pairwise 50 5 0.1 \\\n",
    "\t--out ${out_indep_var}_chr\"$i\" \\\n",
    "\t--threads ${ncpu}"
   ]
  },
  {
   "cell_type": "markdown",
   "id": "850694a9-d0bf-4719-a5f4-f9b0bf5e3e1f",
   "metadata": {
    "kernel": "Bash"
   },
   "source": [
    "## Recalculate PC's for the subset of unrelated"
   ]
  },
  {
   "cell_type": "code",
   "execution_count": null,
   "id": "62110421-39d5-4e50-88cd-0c910d9e681e",
   "metadata": {
    "kernel": "Bash"
   },
   "outputs": [],
   "source": [
    "plink2 \\\n",
    "\t--bfile ${BED_file_merged_QC} \\\n",
    "\t--extract ${list_variants_bin} \\\n",
    "\t--pca 20 approx \\\n",
    "\t--out ${PCA_out} \\\n",
    "\t--thread-num ${ncpu}"
   ]
  },
  {
   "cell_type": "markdown",
   "id": "ecda8099-dbb4-42bd-85ce-c316b43c0647",
   "metadata": {
    "kernel": "Bash"
   },
   "source": [
    "# Calculate the heritability\n",
    "\n",
    "For a case-control study it should be estimated like\n",
    "\n",
    "```\n",
    "gcta64 --grm test --pheno test_cc.phen --reml --prevalence 0.01 --out test --thread-num 10\n",
    "```"
   ]
  },
  {
   "cell_type": "code",
   "execution_count": null,
   "id": "863419f3-23f0-4eff-a7a6-86ad9a20dc4e",
   "metadata": {
    "kernel": "Bash"
   },
   "outputs": [],
   "source": [
    "GCTA \\\n",
    "\t--reml \\\n",
    "\t--mgrm ${mgrm_file_path} \\\n",
    "\t--reml-no-constrain \\\n",
    "\t--pheno ${phenotype_file} \\\n",
    "\t--out ${REML_output_file} \\\n",
    "\t--thread-num ${ncpu} \\\n",
    "    --covar ${covar_file}\\\n",
    "\t--qcovar ${PCA_out} \\\n",
    "\t--reml-no-lrt"
   ]
  }
 ],
 "metadata": {
  "kernelspec": {
   "display_name": "SoS",
   "language": "sos",
   "name": "sos"
  },
  "language_info": {
   "codemirror_mode": "sos",
   "file_extension": ".sos",
   "mimetype": "text/x-sos",
   "name": "sos",
   "nbconvert_exporter": "sos_notebook.converter.SoS_Exporter",
   "pygments_lexer": "sos"
  },
  "sos": {
   "kernels": [
    [
     "Bash",
     "calysto_bash",
     "Bash",
     "#E6EEFF",
     ""
    ],
    [
     "SoS",
     "sos",
     "",
     "",
     "sos"
    ]
   ],
   "version": "0.22.6"
  }
 },
 "nbformat": 4,
 "nbformat_minor": 5
}
