{
 "cells": [
  {
   "cell_type": "markdown",
   "id": "d252b379-6c07-409f-95d8-cccc52b1b8e5",
   "metadata": {
    "kernel": "SoS",
    "tags": []
   },
   "source": [
    "# Estimate the rare variant heritability of age-related hearing impairment traits"
   ]
  },
  {
   "cell_type": "markdown",
   "id": "10ff6cc5-5ba6-4e6a-8e71-2057113e7921",
   "metadata": {
    "kernel": "SoS"
   },
   "source": [
    "# Aim\n"
   ]
  },
  {
   "cell_type": "markdown",
   "id": "2d346c76-d21e-4412-af54-6807053d9781",
   "metadata": {
    "kernel": "Markdown",
    "tags": []
   },
   "source": [
    "# Concepts\n",
    "\n",
    "\n",
    "Proportion of phenotypic variance captured by common SNPs - SNP-based heritability (h^2SNP)\n",
    "\n",
    "Discrepancy between h^2ped and h^2SNP:\n",
    "\n",
    "1. Causal variants are not well tagged by common SNPs because they are rare\n",
    "2. Pedigree heritability is overestimated because of confounding with environmental effects or non-additive genetic variation\n"
   ]
  },
  {
   "cell_type": "markdown",
   "id": "4ff30917-c02a-43ec-9632-87d72314fadb",
   "metadata": {
    "kernel": "SoS"
   },
   "source": [
    "## 1. Calculate the SNP-based heritability from common variants and compared to available literature\n",
    "\n",
    "First of all a GRM from all of the autosomal SNPs needs to be calculated.\n"
   ]
  },
  {
   "cell_type": "markdown",
   "id": "7956f729-8e4c-4447-b2ec-b3ceba3ff549",
   "metadata": {
    "kernel": "SoS"
   },
   "source": [
    "## Input files\n",
    "\n",
    "### Phenotype files\n",
    "\n",
    "These files have already been QC'ed to include individuals with each of the hearing impairment traits and control individuals without hearing impairment related phenotypes\n",
    "\n",
    "Mega-sample \n",
    "\n",
    "H-aid:\n",
    "\n",
    "* /mnt/mfs/statgen/UKBiobank/phenotype_files/hearing_impairment/090321_UKBB_Hearing_aid_f3393_expandedwhite_6436cases_96601ctrl_PC1_2.tsv\n",
    "\n",
    "H-diff:\n",
    "\n",
    "* /mnt/mfs/statgen/UKBiobank/phenotype_files/hearing_impairment/090321_UKBB_Hearing_difficulty_f2247_expandedwhite_45502cases_96601ctrl_PC1_2.tsv\n",
    "\n",
    "H-noise:\n",
    "\n",
    "* /mnt/mfs/statgen/UKBiobank/phenotype_files/hearing_impairment/090321_UKBB_Hearing_noise_f2257_expandedwhite_65660cases_96601ctrl_PC1_2.tsv\n",
    "\n",
    "H-both:\n",
    "\n",
    "* /mnt/mfs/statgen/UKBiobank/phenotype_files/hearing_impairment/090321_UKBB_Combined_f2247_f2257_expandedwhite_38410cases_96601ctrl_PC1_2.tsv\n",
    "\n",
    "\n",
    "### Genotype files\n",
    "\n",
    "Original exome sequence files in plink format are here: \n",
    "* /mnt/mfs/statgen/UKBiobank/data/exome_files/project_VCF/072721_run/plink/ukb23156_c{1..22}.merged.filtered.bed\n",
    "\n",
    "QC done in these VCF files was: \n",
    "\n",
    "- DP-SPNs=10\n",
    "- DP-indels=10\n",
    "- GQ=20\n",
    "- AB-SNP=0.15\n",
    "- AB-indel=0.20\n",
    "- geno=0.1\n",
    "\n",
    "Samples with missingness >10% `-mind 0.1` in the genotype array\n",
    "\n",
    "* ~/UKBiobank/data/exome_files/project_VCF/072721_run/merged_plink/mind_0.1/cache/ukb23155_qc_merged.mind_0.1.filtered.mindrem.id\n",
    "\n",
    "Extra QC step is needed here to make sure we have the best quality variants for heritability calculation\n",
    "\n",
    "### Selecting white European samples\n",
    "\n",
    "According to Wainschtein et al 2022, they do two rounds of PC's calculations (20 PC's) one with common variants and one with rare variants. The prunning is also done using different parameters for each of these analyses\n",
    "\n",
    "- Common: MAF 0.01-0.5, window 50Kb, r2=0.1\n",
    "- Rare: MAF 0.004 (MAC=5) - 0.01, window 100Kb, r2=0.05\n",
    "\n",
    "In our case, we will use our already defined white European population that was classified using the genotype array data with common variants, calculating 10 PC's and the manhalanobis distance to dected outliers. \n",
    "\n",
    "* /mnt/mfs/statgen/UKBiobank/results/083021_PCA_results/europeans/cache/UKB_genotypedatadownloaded083019.090221_sample_variant_qc_final_callrate90.filtered.extracted.europeans.filtered.fam\n",
    "\n",
    "### Removing related individuals \n",
    "\n",
    "In this step we just want to keep the unrelated European individuals for heritability calculations. We use a kinship=0.0625 (to remove related individuals up to third degree)\n",
    "\n",
    "* remove_samples=/mnt/mfs/statgen/UKBiobank/results/083021_PCA_results/090221_king/*.related_id\n",
    "\n",
    "### Remove individuals showing excess of heterozygosity based on GRM off-diagonal?\n",
    "\n",
    "Don't know if this is necessary or not"
   ]
  },
  {
   "cell_type": "markdown",
   "id": "7605f3a4-faca-43cc-8151-51572d8bc737",
   "metadata": {
    "kernel": "SoS"
   },
   "source": [
    "Here we start with QC'ed exome sequence data but we will generate additional files with more stringent QC for heritability calculation\n",
    "\n",
    "1. MAF keep all rare-variants (Wainschtein 2022 paper uses `--maf 0.0001` )\n",
    "2. `--geno 0.05` (originally for our exome QC we used a `--geno 0.1`)\n",
    "3. `--hwe 0.000001` \n",
    "4. `--mind 0.05` (originally we did not remove individuals based on mind for the exome QC)\n",
    "5. `--snps_only` add this option to remove indels from calculation\n",
    "\n",
    "### Build the GRM from the exome sequence data?"
   ]
  },
  {
   "cell_type": "markdown",
   "id": "535c090d-6119-4889-a453-467a3f960638",
   "metadata": {
    "kernel": "SoS"
   },
   "source": [
    "# Step 1. Extra QC on the exome data"
   ]
  },
  {
   "cell_type": "code",
   "execution_count": 2,
   "id": "18fd3522-73c6-4d06-82fc-1982fa222086",
   "metadata": {
    "kernel": "Bash",
    "tags": []
   },
   "outputs": [
    {
     "name": "stdout",
     "output_type": "stream",
     "text": [
      "INFO: Running \u001b[32mcsg\u001b[0m: Configuration for Columbia csg partition cluster\n",
      "INFO: \u001b[32mcsg\u001b[0m is \u001b[32mcompleted\u001b[0m.\n",
      "INFO: \u001b[32mcsg\u001b[0m output:   \u001b[32m/home/dmc2245/hearing/heritability/herit_eur_unrel_exome_2022-05-12.sbatch\u001b[0m\n",
      "INFO: Workflow csg (ID=wceb9651c235b3364) is executed successfully with 1 completed step.\n"
     ]
    }
   ],
   "source": [
    "## Select White European unrelated individuals \n",
    "## Do some extra QC on the exome data\n",
    "cwd=$UKBB_PATH/results/ARHI_heritability\n",
    "## Use the exome filtered file\n",
    "genoFile=`echo $UKBB_PATH/data/exome_files/project_VCF/072721_run/plink/ukb23156_c{1..22}.merged.filtered.bed`\n",
    "## To keep the samples of white Europeans only\n",
    "keep_samples=$UKBB_PATH/results/083021_PCA_results/europeans/cache/UKB_genotypedatadownloaded083019.090221_sample_variant_qc_final_callrate90.filtered.extracted.europeans.filtered.fam\n",
    "## To remove related individuals \n",
    "remove_samples=$UKBB_PATH/results/083021_PCA_results/090221_king/*.related_id\n",
    "\n",
    "# Do not set a MAF filter, this will keep both common and rare variants\n",
    "maf_filter=0 \n",
    "# Set a more stringent geno filter of 0.05\n",
    "geno_filter=0.05\n",
    "# Set a HWE filter 1x10^-6\n",
    "hwe_filter=0.000001\n",
    "# Do not set a sample missingness filter at this point, otherwise many samples would be removed\n",
    "mind_filter=0\n",
    "\n",
    "gwas_sbatch=~/hearing/heritability/herit_eur_unrel_exome_$(date +\"%Y-%m-%d\").sbatch\n",
    "gwasqc_sos=~/project/xqtl-pipeline/code/data_preprocessing/genotype/GWAS_QC.ipynb\n",
    "tpl_file=~/bioworkflows/admin/csg.yml\n",
    "container=~/containers/bioinfo.sif\n",
    "numThreads=20\n",
    "job_size=1\n",
    "mem='30G'\n",
    "\n",
    "gwasqc_args=\"\"\"qc:1\n",
    "    --cwd $cwd\n",
    "    --genoFile $genoFile\n",
    "    --keep_samples $keep_samples\n",
    "    --remove_samples $remove_samples\n",
    "    --maf_filter $maf_filter\n",
    "    --geno_filter $geno_filter\n",
    "    --hwe_filter $hwe_filter\n",
    "    --mind_filter $mind_filter\n",
    "    --numThreads $numThreads \n",
    "    --job_size $job_size\n",
    "    --container $container\n",
    "    --mem $mem\n",
    "\"\"\"\n",
    "\n",
    "sos run ~/project/UKBB_GWAS_dev/admin/Get_Job_Script.ipynb csg\\\n",
    "    --template-file $tpl_file \\\n",
    "    --workflow-file $gwasqc_sos \\\n",
    "    --to-script $gwas_sbatch \\\n",
    "    --args \"$gwasqc_args\"\n"
   ]
  },
  {
   "cell_type": "code",
   "execution_count": null,
   "id": "3b991e85-7f0a-4a8f-8ac8-87b125e69edf",
   "metadata": {
    "kernel": "SoS"
   },
   "outputs": [],
   "source": [
    "###### Merge BEDs ######\n",
    "#${list_beds} contains the list of the autosomes (excepted chr 1) for merging\n",
    "\n",
    "plink \\\n",
    "\t--bfile ${BED_file_merged} \\\n",
    "\t--merge-list ${list_beds} \\\n",
    "\t--make-bed \\\n",
    "\t--maf 0.0001 \\\n",
    "\t--geno 0.05  \\\n",
    "\t--hwe 0.000001 \\\n",
    "\t--mind 0.05 \\\n",
    "\t--out ${BED_file_merged_QC} \\\n",
    "\t--threads ${ncpu}"
   ]
  }
 ],
 "metadata": {
  "kernelspec": {
   "display_name": "SoS",
   "language": "sos",
   "name": "sos"
  },
  "language_info": {
   "codemirror_mode": "sos",
   "file_extension": ".sos",
   "mimetype": "text/x-sos",
   "name": "sos",
   "nbconvert_exporter": "sos_notebook.converter.SoS_Exporter",
   "pygments_lexer": "sos"
  },
  "sos": {
   "kernels": [
    [
     "Bash",
     "calysto_bash",
     "Bash",
     "#E6EEFF",
     ""
    ],
    [
     "SoS",
     "sos",
     "",
     "",
     "sos"
    ]
   ],
   "version": "0.22.6"
  }
 },
 "nbformat": 4,
 "nbformat_minor": 5
}
