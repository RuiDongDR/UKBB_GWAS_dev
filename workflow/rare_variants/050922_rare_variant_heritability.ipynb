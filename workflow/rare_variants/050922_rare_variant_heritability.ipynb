{
 "cells": [
  {
   "cell_type": "markdown",
   "id": "d252b379-6c07-409f-95d8-cccc52b1b8e5",
   "metadata": {
    "kernel": "SoS",
    "tags": []
   },
   "source": [
    "# Estimate the rare variant heritability of age-related hearing impairment traits"
   ]
  },
  {
   "cell_type": "markdown",
   "id": "10ff6cc5-5ba6-4e6a-8e71-2057113e7921",
   "metadata": {
    "kernel": "SoS"
   },
   "source": [
    "# Aim\n"
   ]
  },
  {
   "cell_type": "markdown",
   "id": "2d346c76-d21e-4412-af54-6807053d9781",
   "metadata": {
    "kernel": "Markdown",
    "tags": []
   },
   "source": [
    "# Concepts\n",
    "\n",
    "\n",
    "Proportion of phenotypic variance captured by common SNPs - SNP-based heritability (h^2SNP)\n",
    "\n",
    "Discrepancy between h^2ped and h^2SNP:\n",
    "\n",
    "1. Causal variants are not well tagged by common SNPs because they are rare\n",
    "2. Pedigree heritability is overestimated because of confounding with environmental effects or non-additive genetic variation\n"
   ]
  },
  {
   "cell_type": "markdown",
   "id": "4ff30917-c02a-43ec-9632-87d72314fadb",
   "metadata": {
    "kernel": "SoS"
   },
   "source": [
    "## 1. Calculate the SNP-based heritability from common variants and compared to available literature\n",
    "\n",
    "First of all a GRM from all of the autosomal SNPs needs to be calculated.\n"
   ]
  },
  {
   "cell_type": "markdown",
   "id": "7956f729-8e4c-4447-b2ec-b3ceba3ff549",
   "metadata": {
    "kernel": "SoS"
   },
   "source": [
    "## Input files\n",
    "\n",
    "### Phenotype files\n",
    "\n",
    "These files have already been QC'ed to include individuals with each of the hearing impairment traits and control individuals without hearing impairment related phenotypes\n",
    "\n",
    "Mega-sample \n",
    "\n",
    "H-aid:\n",
    "\n",
    "* /mnt/mfs/statgen/UKBiobank/phenotype_files/hearing_impairment/090321_UKBB_Hearing_aid_f3393_expandedwhite_6436cases_96601ctrl_PC1_2.tsv\n",
    "\n",
    "H-diff:\n",
    "\n",
    "* /mnt/mfs/statgen/UKBiobank/phenotype_files/hearing_impairment/090321_UKBB_Hearing_difficulty_f2247_expandedwhite_45502cases_96601ctrl_PC1_2.tsv\n",
    "\n",
    "H-noise:\n",
    "\n",
    "* /mnt/mfs/statgen/UKBiobank/phenotype_files/hearing_impairment/090321_UKBB_Hearing_noise_f2257_expandedwhite_65660cases_96601ctrl_PC1_2.tsv\n",
    "\n",
    "H-both:\n",
    "\n",
    "* /mnt/mfs/statgen/UKBiobank/phenotype_files/hearing_impairment/090321_UKBB_Combined_f2247_f2257_expandedwhite_38410cases_96601ctrl_PC1_2.tsv\n",
    "\n",
    "\n",
    "### Genotype files\n",
    "\n",
    "Original exome sequence files in plink format are here: \n",
    "* /mnt/mfs/statgen/UKBiobank/data/exome_files/project_VCF/072721_run/plink/ukb23156_c{1..22}.merged.filtered.bed\n",
    "\n",
    "QC done in these VCF files was: \n",
    "\n",
    "- DP-SPNs=10\n",
    "- DP-indels=10\n",
    "- GQ=20\n",
    "- AB-SNP=0.15\n",
    "- AB-indel=0.20\n",
    "- geno=0.1\n",
    "\n",
    "Samples with missingness >10% `-mind 0.1` in the genotype array\n",
    "\n",
    "* ~/UKBiobank/data/exome_files/project_VCF/072721_run/merged_plink/mind_0.1/cache/ukb23155_qc_merged.mind_0.1.filtered.mindrem.id\n",
    "\n",
    "Extra QC step is needed here to make sure we have the best quality variants for heritability calculation\n",
    "\n",
    "### Selecting white European samples\n",
    "\n",
    "According to Wainschtein et al 2022, they do two rounds of PC's calculations (20 PC's) one with common variants and one with rare variants. The prunning is also done using different parameters for each of these analyses\n",
    "\n",
    "- Common: MAF 0.01-0.5, window 50Kb, r2=0.1\n",
    "- Rare: MAF 0.004 (MAC=5) - 0.01, window 100Kb, r2=0.05\n",
    "\n",
    "In our case, we will use our already defined white European population that was classified using the genotype array data with common variants, calculating 10 PC's and the manhalanobis distance to dected outliers. \n",
    "\n",
    "* /mnt/mfs/statgen/UKBiobank/results/083021_PCA_results/europeans/cache/UKB_genotypedatadownloaded083019.090221_sample_variant_qc_final_callrate90.filtered.extracted.europeans.filtered.fam\n",
    "\n",
    "### Removing related individuals \n",
    "\n",
    "In this step we just want to keep the unrelated European individuals for heritability calculations. We use a kinship=0.0625 (to remove related individuals up to third degree)\n",
    "\n",
    "* remove_samples=/mnt/mfs/statgen/UKBiobank/results/083021_PCA_results/090221_king/*.related_id\n",
    "\n",
    "### Remove individuals showing excess of heterozygosity based on GRM off-diagonal?\n",
    "\n",
    "Don't know if this is necessary or not"
   ]
  },
  {
   "cell_type": "markdown",
   "id": "7605f3a4-faca-43cc-8151-51572d8bc737",
   "metadata": {
    "kernel": "SoS"
   },
   "source": [
    "Here we start with QC'ed exome sequence data but we will generate additional files with more stringent QC for heritability calculation\n",
    "\n",
    "1. MAF keep all rare-variants (Wainschtein 2022 paper uses `--maf 0.0001` )\n",
    "2. `--geno 0.1` (originally for our exome QC we used a `--geno 0.1`)\n",
    "3. `--hwe 0.00000001` \n",
    "4. `--mind 0.05` (originally we did not remove individuals based on mind for the exome QC)\n",
    "5. `--snps_only` add this option to remove indels from calculation (in this pipeline I decided to keep both SNPs and indels)\n",
    "\n",
    "### Build the GRM from the exome sequence data?"
   ]
  },
  {
   "cell_type": "markdown",
   "id": "535c090d-6119-4889-a453-467a3f960638",
   "metadata": {
    "kernel": "SoS"
   },
   "source": [
    "## Step 1. Extra QC on the exome data"
   ]
  },
  {
   "cell_type": "markdown",
   "id": "ac8ed469-047c-4052-af5a-addd18498b64",
   "metadata": {
    "kernel": "SoS"
   },
   "source": [
    "### Select white European unrelated individuals"
   ]
  },
  {
   "cell_type": "code",
   "execution_count": 24,
   "id": "e7436e6d-9dcf-4bf7-b706-88020571b238",
   "metadata": {
    "kernel": "R",
    "tags": []
   },
   "outputs": [
    {
     "data": {
      "text/html": [
       "<style>\n",
       ".list-inline {list-style: none; margin:0; padding: 0}\n",
       ".list-inline>li {display: inline-block}\n",
       ".list-inline>li:not(:last-child)::after {content: \"\\00b7\"; padding: 0 .5ex}\n",
       "</style>\n",
       "<ol class=list-inline><li>188474</li><li>6</li></ol>\n"
      ],
      "text/latex": [
       "\\begin{enumerate*}\n",
       "\\item 188474\n",
       "\\item 6\n",
       "\\end{enumerate*}\n"
      ],
      "text/markdown": [
       "1. 188474\n",
       "2. 6\n",
       "\n",
       "\n"
      ],
      "text/plain": [
       "[1] 188474      6"
      ]
     },
     "metadata": {},
     "output_type": "display_data"
    },
    {
     "data": {
      "text/html": [
       "<table class=\"dataframe\">\n",
       "<caption>A data.frame: 6 x 6</caption>\n",
       "<thead>\n",
       "\t<tr><th></th><th scope=col>FID</th><th scope=col>IID</th><th scope=col>fatherid</th><th scope=col>motherid</th><th scope=col>sex</th><th scope=col>pheno</th></tr>\n",
       "\t<tr><th></th><th scope=col>&lt;int&gt;</th><th scope=col>&lt;int&gt;</th><th scope=col>&lt;int&gt;</th><th scope=col>&lt;int&gt;</th><th scope=col>&lt;int&gt;</th><th scope=col>&lt;int&gt;</th></tr>\n",
       "</thead>\n",
       "<tbody>\n",
       "\t<tr><th scope=row>1</th><td>1000019</td><td>1000019</td><td>0</td><td>0</td><td>2</td><td>-9</td></tr>\n",
       "\t<tr><th scope=row>2</th><td>1000035</td><td>1000035</td><td>0</td><td>0</td><td>1</td><td>-9</td></tr>\n",
       "\t<tr><th scope=row>3</th><td>1000078</td><td>1000078</td><td>0</td><td>0</td><td>2</td><td>-9</td></tr>\n",
       "\t<tr><th scope=row>4</th><td>1000081</td><td>1000081</td><td>0</td><td>0</td><td>1</td><td>-9</td></tr>\n",
       "\t<tr><th scope=row>5</th><td>1000198</td><td>1000198</td><td>0</td><td>0</td><td>2</td><td>-9</td></tr>\n",
       "\t<tr><th scope=row>6</th><td>1000210</td><td>1000210</td><td>0</td><td>0</td><td>1</td><td>-9</td></tr>\n",
       "</tbody>\n",
       "</table>\n"
      ],
      "text/latex": [
       "A data.frame: 6 x 6\n",
       "\\begin{tabular}{r|llllll}\n",
       "  & FID & IID & fatherid & motherid & sex & pheno\\\\\n",
       "  & <int> & <int> & <int> & <int> & <int> & <int>\\\\\n",
       "\\hline\n",
       "\t1 & 1000019 & 1000019 & 0 & 0 & 2 & -9\\\\\n",
       "\t2 & 1000035 & 1000035 & 0 & 0 & 1 & -9\\\\\n",
       "\t3 & 1000078 & 1000078 & 0 & 0 & 2 & -9\\\\\n",
       "\t4 & 1000081 & 1000081 & 0 & 0 & 1 & -9\\\\\n",
       "\t5 & 1000198 & 1000198 & 0 & 0 & 2 & -9\\\\\n",
       "\t6 & 1000210 & 1000210 & 0 & 0 & 1 & -9\\\\\n",
       "\\end{tabular}\n"
      ],
      "text/markdown": [
       "\n",
       "A data.frame: 6 x 6\n",
       "\n",
       "| <!--/--> | FID &lt;int&gt; | IID &lt;int&gt; | fatherid &lt;int&gt; | motherid &lt;int&gt; | sex &lt;int&gt; | pheno &lt;int&gt; |\n",
       "|---|---|---|---|---|---|---|\n",
       "| 1 | 1000019 | 1000019 | 0 | 0 | 2 | -9 |\n",
       "| 2 | 1000035 | 1000035 | 0 | 0 | 1 | -9 |\n",
       "| 3 | 1000078 | 1000078 | 0 | 0 | 2 | -9 |\n",
       "| 4 | 1000081 | 1000081 | 0 | 0 | 1 | -9 |\n",
       "| 5 | 1000198 | 1000198 | 0 | 0 | 2 | -9 |\n",
       "| 6 | 1000210 | 1000210 | 0 | 0 | 1 | -9 |\n",
       "\n"
      ],
      "text/plain": [
       "  FID     IID     fatherid motherid sex pheno\n",
       "1 1000019 1000019 0        0        2   -9   \n",
       "2 1000035 1000035 0        0        1   -9   \n",
       "3 1000078 1000078 0        0        2   -9   \n",
       "4 1000081 1000081 0        0        1   -9   \n",
       "5 1000198 1000198 0        0        2   -9   \n",
       "6 1000210 1000210 0        0        1   -9   "
      ]
     },
     "metadata": {},
     "output_type": "display_data"
    }
   ],
   "source": [
    "eur <- read.table(\"~/UKBiobank/results/083021_PCA_results/europeans/cache/UKB_genotypedatadownloaded083019.090221_sample_variant_qc_final_callrate90.filtered.extracted.europeans.filtered.fam\", header=F)\n",
    "colnames(eur) <- c(\"FID\", \"IID\",\"fatherid\", \"motherid\", \"sex\", \"pheno\")\n",
    "dim(eur)\n",
    "head(eur)"
   ]
  },
  {
   "cell_type": "code",
   "execution_count": 30,
   "id": "9b3db253-ace0-4b28-95db-4b7a22febfce",
   "metadata": {
    "kernel": "R"
   },
   "outputs": [
    {
     "data": {
      "text/html": [
       "<style>\n",
       ".list-inline {list-style: none; margin:0; padding: 0}\n",
       ".list-inline>li {display: inline-block}\n",
       ".list-inline>li:not(:last-child)::after {content: \"\\00b7\"; padding: 0 .5ex}\n",
       "</style>\n",
       "<ol class=list-inline><li>168206</li><li>6</li></ol>\n"
      ],
      "text/latex": [
       "\\begin{enumerate*}\n",
       "\\item 168206\n",
       "\\item 6\n",
       "\\end{enumerate*}\n"
      ],
      "text/markdown": [
       "1. 168206\n",
       "2. 6\n",
       "\n",
       "\n"
      ],
      "text/plain": [
       "[1] 168206      6"
      ]
     },
     "metadata": {},
     "output_type": "display_data"
    },
    {
     "data": {
      "text/html": [
       "<table class=\"dataframe\">\n",
       "<caption>A data.frame: 6 x 6</caption>\n",
       "<thead>\n",
       "\t<tr><th></th><th scope=col>FID</th><th scope=col>IID</th><th scope=col>fatherid</th><th scope=col>motherid</th><th scope=col>sex</th><th scope=col>pheno</th></tr>\n",
       "\t<tr><th></th><th scope=col>&lt;int&gt;</th><th scope=col>&lt;int&gt;</th><th scope=col>&lt;int&gt;</th><th scope=col>&lt;int&gt;</th><th scope=col>&lt;int&gt;</th><th scope=col>&lt;int&gt;</th></tr>\n",
       "</thead>\n",
       "<tbody>\n",
       "\t<tr><th scope=row>1</th><td>1000019</td><td>1000019</td><td>0</td><td>0</td><td>2</td><td>-9</td></tr>\n",
       "\t<tr><th scope=row>2</th><td>1000078</td><td>1000078</td><td>0</td><td>0</td><td>2</td><td>-9</td></tr>\n",
       "\t<tr><th scope=row>3</th><td>1000081</td><td>1000081</td><td>0</td><td>0</td><td>1</td><td>-9</td></tr>\n",
       "\t<tr><th scope=row>4</th><td>1000198</td><td>1000198</td><td>0</td><td>0</td><td>2</td><td>-9</td></tr>\n",
       "\t<tr><th scope=row>5</th><td>1000210</td><td>1000210</td><td>0</td><td>0</td><td>1</td><td>-9</td></tr>\n",
       "\t<tr><th scope=row>6</th><td>1000236</td><td>1000236</td><td>0</td><td>0</td><td>1</td><td>-9</td></tr>\n",
       "</tbody>\n",
       "</table>\n"
      ],
      "text/latex": [
       "A data.frame: 6 x 6\n",
       "\\begin{tabular}{r|llllll}\n",
       "  & FID & IID & fatherid & motherid & sex & pheno\\\\\n",
       "  & <int> & <int> & <int> & <int> & <int> & <int>\\\\\n",
       "\\hline\n",
       "\t1 & 1000019 & 1000019 & 0 & 0 & 2 & -9\\\\\n",
       "\t2 & 1000078 & 1000078 & 0 & 0 & 2 & -9\\\\\n",
       "\t3 & 1000081 & 1000081 & 0 & 0 & 1 & -9\\\\\n",
       "\t4 & 1000198 & 1000198 & 0 & 0 & 2 & -9\\\\\n",
       "\t5 & 1000210 & 1000210 & 0 & 0 & 1 & -9\\\\\n",
       "\t6 & 1000236 & 1000236 & 0 & 0 & 1 & -9\\\\\n",
       "\\end{tabular}\n"
      ],
      "text/markdown": [
       "\n",
       "A data.frame: 6 x 6\n",
       "\n",
       "| <!--/--> | FID &lt;int&gt; | IID &lt;int&gt; | fatherid &lt;int&gt; | motherid &lt;int&gt; | sex &lt;int&gt; | pheno &lt;int&gt; |\n",
       "|---|---|---|---|---|---|---|\n",
       "| 1 | 1000019 | 1000019 | 0 | 0 | 2 | -9 |\n",
       "| 2 | 1000078 | 1000078 | 0 | 0 | 2 | -9 |\n",
       "| 3 | 1000081 | 1000081 | 0 | 0 | 1 | -9 |\n",
       "| 4 | 1000198 | 1000198 | 0 | 0 | 2 | -9 |\n",
       "| 5 | 1000210 | 1000210 | 0 | 0 | 1 | -9 |\n",
       "| 6 | 1000236 | 1000236 | 0 | 0 | 1 | -9 |\n",
       "\n"
      ],
      "text/plain": [
       "  FID     IID     fatherid motherid sex pheno\n",
       "1 1000019 1000019 0        0        2   -9   \n",
       "2 1000078 1000078 0        0        2   -9   \n",
       "3 1000081 1000081 0        0        1   -9   \n",
       "4 1000198 1000198 0        0        2   -9   \n",
       "5 1000210 1000210 0        0        1   -9   \n",
       "6 1000236 1000236 0        0        1   -9   "
      ]
     },
     "metadata": {},
     "output_type": "display_data"
    }
   ],
   "source": [
    "unrel <- read.table(\"~/UKBiobank/results/083021_PCA_results/090221_ldprun_unrelated/cache/UKB_genotypedatadownloaded083019.090221_sample_variant_qc_final_callrate90.filtered.extracted.europeans.filtered.090221_ldprun_unrelated.filtered.fam\")\n",
    "colnames(unrel) <- c(\"FID\", \"IID\",\"fatherid\", \"motherid\", \"sex\", \"pheno\")\n",
    "dim(unrel)\n",
    "head(unrel)"
   ]
  },
  {
   "cell_type": "code",
   "execution_count": 29,
   "id": "95366a66-c3b0-45e1-bab8-7b9c6314695e",
   "metadata": {
    "kernel": "R"
   },
   "outputs": [
    {
     "data": {
      "text/html": [
       "<style>\n",
       ".list-inline {list-style: none; margin:0; padding: 0}\n",
       ".list-inline>li {display: inline-block}\n",
       ".list-inline>li:not(:last-child)::after {content: \"\\00b7\"; padding: 0 .5ex}\n",
       "</style>\n",
       "<ol class=list-inline><li>566</li><li>2</li></ol>\n"
      ],
      "text/latex": [
       "\\begin{enumerate*}\n",
       "\\item 566\n",
       "\\item 2\n",
       "\\end{enumerate*}\n"
      ],
      "text/markdown": [
       "1. 566\n",
       "2. 2\n",
       "\n",
       "\n"
      ],
      "text/plain": [
       "[1] 566   2"
      ]
     },
     "metadata": {},
     "output_type": "display_data"
    },
    {
     "data": {
      "text/html": [
       "<table class=\"dataframe\">\n",
       "<caption>A data.frame: 6 x 2</caption>\n",
       "<thead>\n",
       "\t<tr><th></th><th scope=col>FID</th><th scope=col>IID</th></tr>\n",
       "\t<tr><th></th><th scope=col>&lt;int&gt;</th><th scope=col>&lt;int&gt;</th></tr>\n",
       "</thead>\n",
       "<tbody>\n",
       "\t<tr><th scope=row>1</th><td>1008606</td><td>1008606</td></tr>\n",
       "\t<tr><th scope=row>2</th><td>1010412</td><td>1010412</td></tr>\n",
       "\t<tr><th scope=row>3</th><td>1028129</td><td>1028129</td></tr>\n",
       "\t<tr><th scope=row>4</th><td>1032822</td><td>1032822</td></tr>\n",
       "\t<tr><th scope=row>5</th><td>1035752</td><td>1035752</td></tr>\n",
       "\t<tr><th scope=row>6</th><td>1044288</td><td>1044288</td></tr>\n",
       "</tbody>\n",
       "</table>\n"
      ],
      "text/latex": [
       "A data.frame: 6 x 2\n",
       "\\begin{tabular}{r|ll}\n",
       "  & FID & IID\\\\\n",
       "  & <int> & <int>\\\\\n",
       "\\hline\n",
       "\t1 & 1008606 & 1008606\\\\\n",
       "\t2 & 1010412 & 1010412\\\\\n",
       "\t3 & 1028129 & 1028129\\\\\n",
       "\t4 & 1032822 & 1032822\\\\\n",
       "\t5 & 1035752 & 1035752\\\\\n",
       "\t6 & 1044288 & 1044288\\\\\n",
       "\\end{tabular}\n"
      ],
      "text/markdown": [
       "\n",
       "A data.frame: 6 x 2\n",
       "\n",
       "| <!--/--> | FID &lt;int&gt; | IID &lt;int&gt; |\n",
       "|---|---|---|\n",
       "| 1 | 1008606 | 1008606 |\n",
       "| 2 | 1010412 | 1010412 |\n",
       "| 3 | 1028129 | 1028129 |\n",
       "| 4 | 1032822 | 1032822 |\n",
       "| 5 | 1035752 | 1035752 |\n",
       "| 6 | 1044288 | 1044288 |\n",
       "\n"
      ],
      "text/plain": [
       "  FID     IID    \n",
       "1 1008606 1008606\n",
       "2 1010412 1010412\n",
       "3 1028129 1028129\n",
       "4 1032822 1032822\n",
       "5 1035752 1035752\n",
       "6 1044288 1044288"
      ]
     },
     "metadata": {},
     "output_type": "display_data"
    }
   ],
   "source": [
    "outlier <- read.table(\"~/UKBiobank/results/083021_PCA_results/090321_PCA_related_pval0.005/030821_ukb42495_exomed_white_189010ind.090321_PCA_related_pval0.005.pca.projected.outliers\")\n",
    "colnames(outlier) <- c(\"FID\", \"IID\")\n",
    "dim(outlier)\n",
    "head(outlier)"
   ]
  },
  {
   "cell_type": "markdown",
   "id": "936517e9-a667-4c0f-a12a-dacf4053bdf8",
   "metadata": {
    "kernel": "R"
   },
   "source": [
    "Select white European individuals that are unrelated and remove ancestry outliers obtained by PCA calculation"
   ]
  },
  {
   "cell_type": "code",
   "execution_count": 36,
   "id": "e32e3d73-8ce3-40a8-b5b2-ef89fa58556a",
   "metadata": {
    "kernel": "R"
   },
   "outputs": [],
   "source": [
    "eur_unrel <- unrel[-which(unrel$IID %in% outlier$IID), ]\n",
    "eur_unrel_drop <- eur_unrel[ -c(3:6)]"
   ]
  },
  {
   "cell_type": "code",
   "execution_count": 38,
   "id": "5bb38c59-1f86-4e0e-9f37-19941544df8d",
   "metadata": {
    "kernel": "R"
   },
   "outputs": [
    {
     "data": {
      "text/html": [
       "<table class=\"dataframe\">\n",
       "<caption>A data.frame: 6 x 2</caption>\n",
       "<thead>\n",
       "\t<tr><th></th><th scope=col>FID</th><th scope=col>IID</th></tr>\n",
       "\t<tr><th></th><th scope=col>&lt;int&gt;</th><th scope=col>&lt;int&gt;</th></tr>\n",
       "</thead>\n",
       "<tbody>\n",
       "\t<tr><th scope=row>1</th><td>1000019</td><td>1000019</td></tr>\n",
       "\t<tr><th scope=row>2</th><td>1000078</td><td>1000078</td></tr>\n",
       "\t<tr><th scope=row>3</th><td>1000081</td><td>1000081</td></tr>\n",
       "\t<tr><th scope=row>4</th><td>1000198</td><td>1000198</td></tr>\n",
       "\t<tr><th scope=row>5</th><td>1000210</td><td>1000210</td></tr>\n",
       "\t<tr><th scope=row>6</th><td>1000236</td><td>1000236</td></tr>\n",
       "</tbody>\n",
       "</table>\n"
      ],
      "text/latex": [
       "A data.frame: 6 x 2\n",
       "\\begin{tabular}{r|ll}\n",
       "  & FID & IID\\\\\n",
       "  & <int> & <int>\\\\\n",
       "\\hline\n",
       "\t1 & 1000019 & 1000019\\\\\n",
       "\t2 & 1000078 & 1000078\\\\\n",
       "\t3 & 1000081 & 1000081\\\\\n",
       "\t4 & 1000198 & 1000198\\\\\n",
       "\t5 & 1000210 & 1000210\\\\\n",
       "\t6 & 1000236 & 1000236\\\\\n",
       "\\end{tabular}\n"
      ],
      "text/markdown": [
       "\n",
       "A data.frame: 6 x 2\n",
       "\n",
       "| <!--/--> | FID &lt;int&gt; | IID &lt;int&gt; |\n",
       "|---|---|---|\n",
       "| 1 | 1000019 | 1000019 |\n",
       "| 2 | 1000078 | 1000078 |\n",
       "| 3 | 1000081 | 1000081 |\n",
       "| 4 | 1000198 | 1000198 |\n",
       "| 5 | 1000210 | 1000210 |\n",
       "| 6 | 1000236 | 1000236 |\n",
       "\n"
      ],
      "text/plain": [
       "  FID     IID    \n",
       "1 1000019 1000019\n",
       "2 1000078 1000078\n",
       "3 1000081 1000081\n",
       "4 1000198 1000198\n",
       "5 1000210 1000210\n",
       "6 1000236 1000236"
      ]
     },
     "metadata": {},
     "output_type": "display_data"
    },
    {
     "data": {
      "text/html": [
       "<style>\n",
       ".list-inline {list-style: none; margin:0; padding: 0}\n",
       ".list-inline>li {display: inline-block}\n",
       ".list-inline>li:not(:last-child)::after {content: \"\\00b7\"; padding: 0 .5ex}\n",
       "</style>\n",
       "<ol class=list-inline><li>167652</li><li>2</li></ol>\n"
      ],
      "text/latex": [
       "\\begin{enumerate*}\n",
       "\\item 167652\n",
       "\\item 2\n",
       "\\end{enumerate*}\n"
      ],
      "text/markdown": [
       "1. 167652\n",
       "2. 2\n",
       "\n",
       "\n"
      ],
      "text/plain": [
       "[1] 167652      2"
      ]
     },
     "metadata": {},
     "output_type": "display_data"
    }
   ],
   "source": [
    "head(eur_unrel_drop)\n",
    "dim(eur_unrel_drop)"
   ]
  },
  {
   "cell_type": "code",
   "execution_count": 40,
   "id": "072b20ac-102b-420d-834a-d366f2872377",
   "metadata": {
    "kernel": "R"
   },
   "outputs": [],
   "source": [
    "write.table(eur_unrel_drop, \"/mnt/mfs/statgen/UKBiobank/results/ARHI_heritability/pheno_files/ukb42495_exomed_white_europeans_unrelated_no_outliers_167652.id\", sep=\"\\t\", row.names = FALSE, col.names =FALSE, quote=FALSE)"
   ]
  },
  {
   "cell_type": "markdown",
   "id": "d176b27d-1345-44c7-978b-1c7e8790618d",
   "metadata": {
    "kernel": "R"
   },
   "source": [
    "### Apply HWE only on the subgroup of controls which are the same for our ARHI analyses"
   ]
  },
  {
   "cell_type": "code",
   "execution_count": 2,
   "id": "94b9e9af-cdc7-42f8-a541-9056fe5e4d97",
   "metadata": {
    "kernel": "R"
   },
   "outputs": [
    {
     "data": {
      "text/html": [
       "<table class=\"dataframe\">\n",
       "<caption>A data.frame: 6 x 2</caption>\n",
       "<thead>\n",
       "\t<tr><th></th><th scope=col>FID</th><th scope=col>IID</th></tr>\n",
       "\t<tr><th></th><th scope=col>&lt;int&gt;</th><th scope=col>&lt;int&gt;</th></tr>\n",
       "</thead>\n",
       "<tbody>\n",
       "\t<tr><th scope=row>1</th><td>1000019</td><td>1000019</td></tr>\n",
       "\t<tr><th scope=row>2</th><td>1000078</td><td>1000078</td></tr>\n",
       "\t<tr><th scope=row>3</th><td>1000081</td><td>1000081</td></tr>\n",
       "\t<tr><th scope=row>4</th><td>1000198</td><td>1000198</td></tr>\n",
       "\t<tr><th scope=row>5</th><td>1000210</td><td>1000210</td></tr>\n",
       "\t<tr><th scope=row>6</th><td>1000236</td><td>1000236</td></tr>\n",
       "</tbody>\n",
       "</table>\n"
      ],
      "text/latex": [
       "A data.frame: 6 x 2\n",
       "\\begin{tabular}{r|ll}\n",
       "  & FID & IID\\\\\n",
       "  & <int> & <int>\\\\\n",
       "\\hline\n",
       "\t1 & 1000019 & 1000019\\\\\n",
       "\t2 & 1000078 & 1000078\\\\\n",
       "\t3 & 1000081 & 1000081\\\\\n",
       "\t4 & 1000198 & 1000198\\\\\n",
       "\t5 & 1000210 & 1000210\\\\\n",
       "\t6 & 1000236 & 1000236\\\\\n",
       "\\end{tabular}\n"
      ],
      "text/markdown": [
       "\n",
       "A data.frame: 6 x 2\n",
       "\n",
       "| <!--/--> | FID &lt;int&gt; | IID &lt;int&gt; |\n",
       "|---|---|---|\n",
       "| 1 | 1000019 | 1000019 |\n",
       "| 2 | 1000078 | 1000078 |\n",
       "| 3 | 1000081 | 1000081 |\n",
       "| 4 | 1000198 | 1000198 |\n",
       "| 5 | 1000210 | 1000210 |\n",
       "| 6 | 1000236 | 1000236 |\n",
       "\n"
      ],
      "text/plain": [
       "  FID     IID    \n",
       "1 1000019 1000019\n",
       "2 1000078 1000078\n",
       "3 1000081 1000081\n",
       "4 1000198 1000198\n",
       "5 1000210 1000210\n",
       "6 1000236 1000236"
      ]
     },
     "metadata": {},
     "output_type": "display_data"
    }
   ],
   "source": [
    "# Get the unrelated controls from out phenotype files\n",
    "eur_unrel <-  read.table(\"/mnt/mfs/statgen/UKBiobank/results/ARHI_heritability/pheno_files/ukb42495_exomed_white_europeans_unrelated_no_outliers_167652.id\", header=F)\n",
    "colnames(eur_unrel) <- c(\"FID\", \"IID\")\n",
    "head(eur_unrel)"
   ]
  },
  {
   "cell_type": "code",
   "execution_count": 4,
   "id": "b9ad2b1f-36d6-4b51-a9aa-f2bfa4450b83",
   "metadata": {
    "kernel": "R"
   },
   "outputs": [
    {
     "data": {
      "text/html": [
       "<table class=\"dataframe\">\n",
       "<caption>A data.frame: 6 x 5</caption>\n",
       "<thead>\n",
       "\t<tr><th></th><th scope=col>FID</th><th scope=col>IID</th><th scope=col>sex</th><th scope=col>f3393</th><th scope=col>age</th></tr>\n",
       "\t<tr><th></th><th scope=col>&lt;int&gt;</th><th scope=col>&lt;int&gt;</th><th scope=col>&lt;int&gt;</th><th scope=col>&lt;int&gt;</th><th scope=col>&lt;int&gt;</th></tr>\n",
       "</thead>\n",
       "<tbody>\n",
       "\t<tr><th scope=row>1</th><td>1001384</td><td>1001384</td><td>1</td><td>1</td><td>61</td></tr>\n",
       "\t<tr><th scope=row>2</th><td>1002548</td><td>1002548</td><td>0</td><td>1</td><td>62</td></tr>\n",
       "\t<tr><th scope=row>3</th><td>1002888</td><td>1002888</td><td>0</td><td>1</td><td>68</td></tr>\n",
       "\t<tr><th scope=row>4</th><td>1002944</td><td>1002944</td><td>0</td><td>1</td><td>65</td></tr>\n",
       "\t<tr><th scope=row>5</th><td>1003258</td><td>1003258</td><td>0</td><td>1</td><td>74</td></tr>\n",
       "\t<tr><th scope=row>6</th><td>1004843</td><td>1004843</td><td>0</td><td>1</td><td>64</td></tr>\n",
       "</tbody>\n",
       "</table>\n"
      ],
      "text/latex": [
       "A data.frame: 6 x 5\n",
       "\\begin{tabular}{r|lllll}\n",
       "  & FID & IID & sex & f3393 & age\\\\\n",
       "  & <int> & <int> & <int> & <int> & <int>\\\\\n",
       "\\hline\n",
       "\t1 & 1001384 & 1001384 & 1 & 1 & 61\\\\\n",
       "\t2 & 1002548 & 1002548 & 0 & 1 & 62\\\\\n",
       "\t3 & 1002888 & 1002888 & 0 & 1 & 68\\\\\n",
       "\t4 & 1002944 & 1002944 & 0 & 1 & 65\\\\\n",
       "\t5 & 1003258 & 1003258 & 0 & 1 & 74\\\\\n",
       "\t6 & 1004843 & 1004843 & 0 & 1 & 64\\\\\n",
       "\\end{tabular}\n"
      ],
      "text/markdown": [
       "\n",
       "A data.frame: 6 x 5\n",
       "\n",
       "| <!--/--> | FID &lt;int&gt; | IID &lt;int&gt; | sex &lt;int&gt; | f3393 &lt;int&gt; | age &lt;int&gt; |\n",
       "|---|---|---|---|---|---|\n",
       "| 1 | 1001384 | 1001384 | 1 | 1 | 61 |\n",
       "| 2 | 1002548 | 1002548 | 0 | 1 | 62 |\n",
       "| 3 | 1002888 | 1002888 | 0 | 1 | 68 |\n",
       "| 4 | 1002944 | 1002944 | 0 | 1 | 65 |\n",
       "| 5 | 1003258 | 1003258 | 0 | 1 | 74 |\n",
       "| 6 | 1004843 | 1004843 | 0 | 1 | 64 |\n",
       "\n"
      ],
      "text/plain": [
       "  FID     IID     sex f3393 age\n",
       "1 1001384 1001384 1   1     61 \n",
       "2 1002548 1002548 0   1     62 \n",
       "3 1002888 1002888 0   1     68 \n",
       "4 1002944 1002944 0   1     65 \n",
       "5 1003258 1003258 0   1     74 \n",
       "6 1004843 1004843 0   1     64 "
      ]
     },
     "metadata": {},
     "output_type": "display_data"
    },
    {
     "data": {
      "text/html": [
       "103037"
      ],
      "text/latex": [
       "103037"
      ],
      "text/markdown": [
       "103037"
      ],
      "text/plain": [
       "[1] 103037"
      ]
     },
     "metadata": {},
     "output_type": "display_data"
    }
   ],
   "source": [
    "# Load the f3393 phenotype file to subset for the controls \n",
    "f3393 <- read.table(\"~/UKBiobank/phenotype_files/hearing_impairment/090321_UKBB_Hearing_aid_f3393_expandedwhite_6436cases_96601ctrl\", header=T)\n",
    "head(f3393)\n",
    "nrow(f3393)"
   ]
  },
  {
   "cell_type": "code",
   "execution_count": 7,
   "id": "7fd84e5f-3577-4de8-87d0-ffc7b1131d53",
   "metadata": {
    "kernel": "R"
   },
   "outputs": [],
   "source": [
    "library('dplyr')\n",
    "f3393_ctrl <- f3393 %>% filter(f3393==0) %>%\n",
    "          select('FID', 'IID')"
   ]
  },
  {
   "cell_type": "code",
   "execution_count": 13,
   "id": "85f987ef-9e2a-42bc-9d4a-2591f7ab20a0",
   "metadata": {
    "kernel": "R"
   },
   "outputs": [
    {
     "data": {
      "text/html": [
       "92040"
      ],
      "text/latex": [
       "92040"
      ],
      "text/markdown": [
       "92040"
      ],
      "text/plain": [
       "[1] 92040"
      ]
     },
     "metadata": {},
     "output_type": "display_data"
    },
    {
     "data": {
      "text/html": [
       "<table class=\"dataframe\">\n",
       "<caption>A data.frame: 6 x 2</caption>\n",
       "<thead>\n",
       "\t<tr><th></th><th scope=col>FID</th><th scope=col>IID</th></tr>\n",
       "\t<tr><th></th><th scope=col>&lt;int&gt;</th><th scope=col>&lt;int&gt;</th></tr>\n",
       "</thead>\n",
       "<tbody>\n",
       "\t<tr><th scope=row>1</th><td>1001384</td><td>1001384</td></tr>\n",
       "\t<tr><th scope=row>2</th><td>1002548</td><td>1002548</td></tr>\n",
       "\t<tr><th scope=row>3</th><td>1002888</td><td>1002888</td></tr>\n",
       "\t<tr><th scope=row>4</th><td>1002944</td><td>1002944</td></tr>\n",
       "\t<tr><th scope=row>5</th><td>1003258</td><td>1003258</td></tr>\n",
       "\t<tr><th scope=row>6</th><td>1004843</td><td>1004843</td></tr>\n",
       "</tbody>\n",
       "</table>\n"
      ],
      "text/latex": [
       "A data.frame: 6 x 2\n",
       "\\begin{tabular}{r|ll}\n",
       "  & FID & IID\\\\\n",
       "  & <int> & <int>\\\\\n",
       "\\hline\n",
       "\t1 & 1001384 & 1001384\\\\\n",
       "\t2 & 1002548 & 1002548\\\\\n",
       "\t3 & 1002888 & 1002888\\\\\n",
       "\t4 & 1002944 & 1002944\\\\\n",
       "\t5 & 1003258 & 1003258\\\\\n",
       "\t6 & 1004843 & 1004843\\\\\n",
       "\\end{tabular}\n"
      ],
      "text/markdown": [
       "\n",
       "A data.frame: 6 x 2\n",
       "\n",
       "| <!--/--> | FID &lt;int&gt; | IID &lt;int&gt; |\n",
       "|---|---|---|\n",
       "| 1 | 1001384 | 1001384 |\n",
       "| 2 | 1002548 | 1002548 |\n",
       "| 3 | 1002888 | 1002888 |\n",
       "| 4 | 1002944 | 1002944 |\n",
       "| 5 | 1003258 | 1003258 |\n",
       "| 6 | 1004843 | 1004843 |\n",
       "\n"
      ],
      "text/plain": [
       "  FID     IID    \n",
       "1 1001384 1001384\n",
       "2 1002548 1002548\n",
       "3 1002888 1002888\n",
       "4 1002944 1002944\n",
       "5 1003258 1003258\n",
       "6 1004843 1004843"
      ]
     },
     "metadata": {},
     "output_type": "display_data"
    }
   ],
   "source": [
    "f3393_ctrl_unrel <- f3393 %>% filter(IID %in% eur_unrel$IID) %>% select(\"FID\", \"IID\")        \n",
    "nrow(f3393_ctrl_unrel)\n",
    "head(f3393_ctrl_unrel)"
   ]
  },
  {
   "cell_type": "code",
   "execution_count": 14,
   "id": "e14adc2a-b212-4100-bc0a-77dd15175c09",
   "metadata": {
    "kernel": "R"
   },
   "outputs": [],
   "source": [
    "write.table(f3393_ctrl_unrel, \"/mnt/mfs/statgen/UKBiobank/results/ARHI_heritability/pheno_files/ukb42495_exomed_white_europeans_unrelated_no_outliers_ctrl_ARHI_92040.id\", sep=\"\\t\", row.names = FALSE, col.names =TRUE, quote=FALSE)"
   ]
  },
  {
   "cell_type": "code",
   "execution_count": 33,
   "id": "7207aa88-cc8a-46fb-b88e-5d6035c3b4a4",
   "metadata": {
    "kernel": "Bash",
    "tags": []
   },
   "outputs": [
    {
     "name": "stdout",
     "output_type": "stream",
     "text": [
      "INFO: Running \u001b[32mcsg\u001b[0m: Configuration for Columbia csg partition cluster\n",
      "INFO: \u001b[32mcsg\u001b[0m (index=0) is \u001b[32mignored\u001b[0m due to saved signature\n",
      "INFO: \u001b[32mcsg\u001b[0m output:   \u001b[32m/mnt/mfs/statgen/UKBiobank/results/ARHI_heritability/051922_white_eur_unrel/hwe_eur_unrel_control_ARHI_2022-05-19.sbatch\u001b[0m\n",
      "INFO: Workflow csg (ID=w72163a39fda9e30b) is ignored with 1 ignored step.\n",
      "\n"
     ]
    }
   ],
   "source": [
    "# Get the variants that pass HWE qc filter\n",
    "## Select White European unrelated individuals \n",
    "## Do some extra QC on the exome data\n",
    "UKBB_PATH=/mnt/mfs/statgen/UKBiobank\n",
    "cwd=$UKBB_PATH/results/ARHI_heritability/051922_white_eur_unrel\n",
    "## Use the exome filtered file\n",
    "genoFile=`echo $UKBB_PATH/data/exome_files/project_VCF/072721_run/plink/ukb23156_c{1..22}.merged.filtered.bed`\n",
    "## To keep only the samples of white Europeans unrelated individuals with outliers removed that are controls for ARHI samples so we can apply HWE\n",
    "keep_samples=/mnt/mfs/statgen/UKBiobank/results/ARHI_heritability/pheno_files/ukb42495_exomed_white_europeans_unrelated_no_outliers_ctrl_ARHI_92040.id\n",
    "# Do not set a MAF filter, this will keep both common and rare variants\n",
    "maf_filter=0 \n",
    "# No geno filter in this subset of controls\n",
    "geno_filter=0\n",
    "# Set a HWE filter 1x10^-8\n",
    "hwe_filter=0.00000001\n",
    "# Do not set a sample missingness filter at this point, otherwise many samples would be removed\n",
    "mind_filter=0\n",
    "# Keep both SNPs and indels in the heritability calculation\n",
    "snps_only=False\n",
    "meta_only=True\n",
    "other_args=\"\"\n",
    "gwas_sbatch=$UKBB_PATH/results/ARHI_heritability/051922_white_eur_unrel/hwe_eur_unrel_control_ARHI_$(date +\"%Y-%m-%d\").sbatch\n",
    "gwasqc_sos=~/project/xqtl-pipeline/code/data_preprocessing/genotype/GWAS_QC.ipynb\n",
    "tpl_file=~/project/bioworkflows/admin/csg.yml\n",
    "container=~/containers/bioinfo.sif\n",
    "numThreads=20\n",
    "job_size=1\n",
    "mem='30G'\n",
    "\n",
    "gwasqc_args=\"\"\"qc:1\n",
    "    --cwd $cwd\n",
    "    --genoFile $genoFile\n",
    "    --keep_samples $keep_samples\n",
    "    --maf_filter $maf_filter\n",
    "    --geno_filter $geno_filter\n",
    "    --hwe_filter $hwe_filter\n",
    "    --mind_filter $mind_filter\n",
    "    --meta_only $meta_only\n",
    "    --other_args $other_args\n",
    "    --numThreads $numThreads \n",
    "    --job_size $job_size\n",
    "    --container $container\n",
    "    --mem $mem\n",
    "\"\"\"\n",
    "\n",
    "sos run ~/project/UKBB_GWAS_dev/admin/Get_Job_Script.ipynb csg\\\n",
    "    --template-file $tpl_file \\\n",
    "    --workflow-file $gwasqc_sos \\\n",
    "    --to-script $gwas_sbatch \\\n",
    "    --args \"$gwasqc_args\"\n"
   ]
  },
  {
   "cell_type": "code",
   "execution_count": 18,
   "id": "c54a1553-ef21-449d-81bd-e6dc03021d18",
   "metadata": {
    "kernel": "Bash"
   },
   "outputs": [
    {
     "name": "stdout",
     "output_type": "stream",
     "text": [
      "\n"
     ]
    }
   ],
   "source": [
    "# Count number of variants after VCF_QC\n",
    "for file in $(ls -v /mnt/mfs/statgen/UKBiobank/data/exome_files/project_VCF/072721_run/plink/ukb23156_c*.merged.filtered.bim);\n",
    "do \n",
    "    echo \"${file##*/}\" >> /mnt/mfs/statgen/UKBiobank/results/ARHI_heritability/072721_ukb23156_c1_22.merged.filtered.snpcount.txt\n",
    "    cat $file | wc -l  >> /mnt/mfs/statgen/UKBiobank/results/ARHI_heritability/072721_ukb23156_c1_22.merged.filtered.snpcount.txt;\n",
    "done"
   ]
  },
  {
   "cell_type": "code",
   "execution_count": 36,
   "id": "42808c45-664c-4d6a-827e-631c810846cd",
   "metadata": {
    "kernel": "Bash"
   },
   "outputs": [
    {
     "name": "stdout",
     "output_type": "stream",
     "text": [
      "\n"
     ]
    }
   ],
   "source": [
    "# Count number of variants after HWE filter \n",
    "for file in $(ls -v /mnt/mfs/statgen/UKBiobank/results/ARHI_heritability/051922_white_eur_unrel/ukb23156_c*.merged.filtered.filtered.snplist);\n",
    "do \n",
    "    wc -l $file  >> /mnt/mfs/statgen/UKBiobank/results/ARHI_heritability/051922_ukb23156_c1_22.merged.filtered.hwe_ctrl_ARHI.snpcount.txt;\n",
    "done"
   ]
  },
  {
   "cell_type": "code",
   "execution_count": 39,
   "id": "78770610-3eae-4557-88be-934b58cf24a6",
   "metadata": {
    "kernel": "Bash"
   },
   "outputs": [
    {
     "name": "stdout",
     "output_type": "stream",
     "text": [
      "\n"
     ]
    }
   ],
   "source": [
    "cat $(ls -v /mnt/mfs/statgen/UKBiobank/results/ARHI_heritability/051922_white_eur_unrel/ukb23156_c**.merged.filtered.filtered.snplist) >> \\\n",
    "/mnt/mfs/statgen/UKBiobank/results/ARHI_heritability/051922_white_eur_unrel/ukb23156_c1_22.filtered.filtered.snplist"
   ]
  },
  {
   "cell_type": "markdown",
   "id": "2aa7d002-722b-46f1-acd9-55cc012de266",
   "metadata": {
    "kernel": "Bash"
   },
   "source": [
    "### Note: I've found some duplicated records in the extracted variants\n",
    "```\n",
    "      2 chr10:5642571:T:TA\n",
    "      2 chr11:2915280:C:CGT\n",
    "      2 chr14:51243825:C:CT\n",
    "      2 chr14:73265273:A:AGG\n",
    "      2 chr14:73654828:C:CT\n",
    "      2 chr15:36594814:T:TA\n",
    "      2 chr17:20156278:A:AC\n",
    "      2 chr19:45408051:C:CA\n",
    "      2 chr19:9980591:A:ATCTC\n",
    "      2 chr1:149935279:CA:C\n",
    "      2 chr1:240493541:A:AT\n",
    "      2 chr1:53074691:T:TG\n",
    "      2 chr20:49159148:T:TA\n",
    "      2 chr22:36481640:C:CGG\n",
    "      2 chr2:127637295:A:AC\n",
    "      2 chr3:111991354:AT:A\n",
    "      2 chr3:98391562:G:GA\n",
    "      2 chr5:169670501:T:TTTTTA\n",
    "      2 chr5:58975878:C:CT\n",
    "      2 chr5:96783875:A:ACT\n",
    "      2 chr6:42683028:G:GT\n",
    "      2 chr7:100885457:G:GC\n",
    "      2 chr9:27217785:A:AT\n",
    "      2 chr9:92474739:G:GTCC\n",
    "```"
   ]
  },
  {
   "cell_type": "markdown",
   "id": "b577a08b-fb06-4d59-aba3-22c2d5d6d7a1",
   "metadata": {
    "kernel": "Bash"
   },
   "source": [
    "### Remove variants that do not pass HWE in ARHI controls and get final bed file per chromosome"
   ]
  },
  {
   "cell_type": "code",
   "execution_count": 40,
   "id": "c7af5192-b224-4f9e-ba30-621a5ad80f2b",
   "metadata": {
    "kernel": "Bash"
   },
   "outputs": [
    {
     "name": "stdout",
     "output_type": "stream",
     "text": [
      "INFO: Running \u001b[32mcsg\u001b[0m: Configuration for Columbia csg partition cluster\n",
      "INFO: \u001b[32mcsg\u001b[0m is \u001b[32mcompleted\u001b[0m.\n",
      "INFO: \u001b[32mcsg\u001b[0m output:   \u001b[32m/mnt/mfs/statgen/UKBiobank/results/ARHI_heritability/051922_white_eur_unrel/eur_unrel_ARHI_QC_2022-05-19.sbatch\u001b[0m\n",
      "INFO: Workflow csg (ID=w3655ddad4c106b79) is executed successfully with 1 completed step.\n",
      "\n"
     ]
    }
   ],
   "source": [
    "# Get the variants that pass HWE qc filter\n",
    "## Select White European unrelated individuals \n",
    "## Do some extra QC on the exome data\n",
    "UKBB_PATH=/mnt/mfs/statgen/UKBiobank\n",
    "cwd=$UKBB_PATH/results/ARHI_heritability/051922_white_eur_unrel\n",
    "## Use the exome filtered file\n",
    "genoFile=`echo $UKBB_PATH/data/exome_files/project_VCF/072721_run/plink/ukb23156_c{1..22}.merged.filtered.bed`\n",
    "## To keep only the samples of white Europeans unrelated individuals with outliers removed that are controls for ARHI samples so we can apply HWE\n",
    "keep_samples=/mnt/mfs/statgen/UKBiobank/results/ARHI_heritability/pheno_files/ukb42495_exomed_white_europeans_unrelated_no_outliers_167652.id\n",
    "keep_variants=~/UKBiobank/results/ARHI_heritability/051922_white_eur_unrel/ukb23156_c1_22.filtered.filtered.snplist\n",
    "# Do not set a MAF filter, this will keep both common and rare variants\n",
    "maf_filter=0 \n",
    "# No geno filter in this subset of controls\n",
    "geno_filter=0.1\n",
    "# Set a HWE filter to 0 because there's not need to do it here\n",
    "hwe_filter=0\n",
    "# Do not set a sample missingness filter at this point, otherwise many samples would be removed\n",
    "mind_filter=0\n",
    "# Keep both SNPs and indels in the heritability calculation\n",
    "snps_only=False\n",
    "other_args=\"\"\n",
    "gwas_sbatch=$UKBB_PATH/results/ARHI_heritability/051922_white_eur_unrel/eur_unrel_ARHI_QC_$(date +\"%Y-%m-%d\").sbatch\n",
    "gwasqc_sos=~/project/xqtl-pipeline/code/data_preprocessing/genotype/GWAS_QC.ipynb\n",
    "tpl_file=~/project/bioworkflows/admin/csg.yml\n",
    "container=~/containers/bioinfo.sif\n",
    "numThreads=20\n",
    "job_size=1\n",
    "mem='30G'\n",
    "\n",
    "gwasqc_args=\"\"\"qc:1\n",
    "    --cwd $cwd\n",
    "    --genoFile $genoFile\n",
    "    --keep_samples $keep_samples\n",
    "    --keep_variants $keep_variants\n",
    "    --maf_filter $maf_filter\n",
    "    --geno_filter $geno_filter\n",
    "    --hwe_filter $hwe_filter\n",
    "    --mind_filter $mind_filter\n",
    "    --other_args $other_args\n",
    "    --numThreads $numThreads \n",
    "    --job_size $job_size\n",
    "    --container $container\n",
    "    --mem $mem\n",
    "\"\"\"\n",
    "\n",
    "sos run ~/project/UKBB_GWAS_dev/admin/Get_Job_Script.ipynb csg\\\n",
    "    --template-file $tpl_file \\\n",
    "    --workflow-file $gwasqc_sos \\\n",
    "    --to-script $gwas_sbatch \\\n",
    "    --args \"$gwasqc_args\"\n"
   ]
  },
  {
   "cell_type": "code",
   "execution_count": 41,
   "id": "41918b38-5b98-487e-adce-9297ce3a8b6d",
   "metadata": {
    "kernel": "Bash"
   },
   "outputs": [
    {
     "name": "stdout",
     "output_type": "stream",
     "text": [
      "\n"
     ]
    }
   ],
   "source": [
    "# Count number of variants after geno=0.1 filter \n",
    "for file in $(ls -v /mnt/mfs/statgen/UKBiobank/results/ARHI_heritability/051922_white_eur_unrel/ukb23156_c*.merged.filtered.filtered.extracted.bim);\n",
    "do \n",
    "    wc -l $file  >> /mnt/mfs/statgen/UKBiobank/results/ARHI_heritability/051922_ukb23156_c1_22.merged.filtered.geno0.1_ARHI.snpcount.txt;\n",
    "done"
   ]
  },
  {
   "cell_type": "markdown",
   "id": "90017c69-aff4-4096-971d-8204ff24225e",
   "metadata": {
    "kernel": "Bash"
   },
   "source": [
    "## Step 2. Merge plink files and use `--mind 0.05` filter\n",
    "\n",
    "From the Wainschtein 2022 paper\n",
    "\n",
    "```\n",
    "plink \\\n",
    "--bfile ${BED_file_merged} \\\n",
    "--merge-list ${list_beds} \\\n",
    "--make-bed \\\n",
    "--maf 0.0001 \\\n",
    "--geno 0.05  \\\n",
    "--hwe 0.000001 \\\n",
    "--mind 0.05 \\\n",
    "--out ${BED_file_merged_QC} \\\n",
    "--threads ${ncpu}\n",
    "```"
   ]
  },
  {
   "cell_type": "markdown",
   "id": "3005997e-4563-45b6-89cf-9bd1ffdf1c23",
   "metadata": {
    "kernel": "Bash"
   },
   "source": [
    "### Get the file for rare variants MAF<0.01"
   ]
  },
  {
   "cell_type": "code",
   "execution_count": 43,
   "id": "3b991e85-7f0a-4a8f-8ac8-87b125e69edf",
   "metadata": {
    "kernel": "Bash",
    "tags": []
   },
   "outputs": [
    {
     "name": "stdout",
     "output_type": "stream",
     "text": [
      "INFO: Running \u001b[32mcsg\u001b[0m: Configuration for Columbia csg partition cluster\n",
      "INFO: \u001b[32mcsg\u001b[0m is \u001b[32mcompleted\u001b[0m.\n",
      "INFO: \u001b[32mcsg\u001b[0m output:   \u001b[32m/mnt/mfs/statgen/UKBiobank/results/ARHI_heritability/051922_merged_bed/rareMAFbelow0.01_eur_unrel_exome_merged2022-05-19.sbatch\u001b[0m\n",
      "INFO: Workflow csg (ID=w184d6d32cb096add) is executed successfully with 1 completed step.\n",
      "\n"
     ]
    }
   ],
   "source": [
    "genoFile=`echo /mnt/mfs/statgen/UKBiobank/results/ARHI_heritability/051922_white_eur_unrel/ukb23156_c{1..22}.merged.filtered.filtered.extracted.bed`\n",
    "cwd=/mnt/mfs/statgen/UKBiobank/results/ARHI_heritability/051922_merged_bed\n",
    "# Select only the variants with MAF between 0 and 0.01\n",
    "maf_max_filter=0.01\n",
    "# Do not set a MAF filter to keep all variants below 0.01\n",
    "maf_filter=0\n",
    "# No need to filter again in the merge\n",
    "geno_filter=0\n",
    "# HWE already applied only to controls of ARHI sample\n",
    "hwe_filter=0\n",
    "# Set a sample missingness of 5%\n",
    "mind_filter=0.05\n",
    "name='ukb23156_merged_eur_unrel_rarevarsMAFbelow0.01'\n",
    "\n",
    "gwas_sbatch=/mnt/mfs/statgen/UKBiobank/results/ARHI_heritability/051922_merged_bed/rareMAFbelow0.01_eur_unrel_exome_merged$(date +\"%Y-%m-%d\").sbatch\n",
    "gwasqc_sos=~/project/xqtl-pipeline/code/data_preprocessing/genotype/genotype_formatting.ipynb\n",
    "tpl_file=~/project/bioworkflows/admin/csg.yml\n",
    "container=~/containers/bioinfo.sif\n",
    "\n",
    "merge_args=\"\"\"merge_plink\n",
    "    --cwd $cwd\n",
    "    --genoFile $genoFile\n",
    "    --name $name\n",
    "    --maf_filter $maf_filter\n",
    "    --maf_max_filter $maf_max_filter\n",
    "    --geno_filter $geno_filter\n",
    "    --hwe_filter $hwe_filter\n",
    "    --mind_filter $mind_filter\n",
    "    --container $container\n",
    "\"\"\"\n",
    "\n",
    "sos run ~/project/UKBB_GWAS_dev/admin/Get_Job_Script.ipynb csg\\\n",
    "    --template-file $tpl_file \\\n",
    "    --workflow-file $gwasqc_sos \\\n",
    "    --to-script $gwas_sbatch \\\n",
    "    --args \"$merge_args\"\n"
   ]
  },
  {
   "cell_type": "markdown",
   "id": "ce047316-cdc4-46cf-bce4-9bf649721034",
   "metadata": {
    "kernel": "SoS"
   },
   "source": [
    "### Get the file for common variants MAF>0.01"
   ]
  },
  {
   "cell_type": "code",
   "execution_count": 44,
   "id": "c0d17b1c-f6f3-4b74-ac07-02df25622679",
   "metadata": {
    "kernel": "Bash",
    "tags": []
   },
   "outputs": [
    {
     "name": "stdout",
     "output_type": "stream",
     "text": [
      "INFO: Running \u001b[32mcsg\u001b[0m: Configuration for Columbia csg partition cluster\n",
      "INFO: \u001b[32mcsg\u001b[0m is \u001b[32mcompleted\u001b[0m.\n",
      "INFO: \u001b[32mcsg\u001b[0m output:   \u001b[32m/mnt/mfs/statgen/UKBiobank/results/ARHI_heritability/051922_merged_bed/commonMAFabove0.01_eur_unrel_exome_merged_2022-05-19.sbatch\u001b[0m\n",
      "INFO: Workflow csg (ID=wd209f89c42e59fdb) is executed successfully with 1 completed step.\n",
      "\n"
     ]
    }
   ],
   "source": [
    "genoFile=`echo /mnt/mfs/statgen/UKBiobank/results/ARHI_heritability/051922_white_eur_unrel/ukb23156_c{1..22}.merged.filtered.filtered.extracted.bed`\n",
    "cwd=/mnt/mfs/statgen/UKBiobank/results/ARHI_heritability/051922_merged_bed\n",
    "# Set a MAF filter of 0.01 to keep variants above that threshold\n",
    "maf_filter=0.01\n",
    "# No need to filter for variant missigness again\n",
    "geno_filter=0\n",
    "# HWE already applied only to controls of ARHI sample\n",
    "hwe_filter=0\n",
    "# Set a sample missingness of 5%\n",
    "mind_filter=0.05\n",
    "name='ukb23156_merged_eur_unrel_commonvarsMAFabove0.01'\n",
    "gwas_sbatch=/mnt/mfs/statgen/UKBiobank/results/ARHI_heritability/051922_merged_bed/commonMAFabove0.01_eur_unrel_exome_merged_$(date +\"%Y-%m-%d\").sbatch\n",
    "gwasqc_sos=~/project/xqtl-pipeline/code/data_preprocessing/genotype/genotype_formatting.ipynb\n",
    "tpl_file=~/project/bioworkflows/admin/csg.yml\n",
    "container=~/containers/bioinfo.sif\n",
    "\n",
    "merge_args=\"\"\"merge_plink\n",
    "    --cwd $cwd\n",
    "    --genoFile $genoFile\n",
    "    --name $name\n",
    "    --maf_filter $maf_filter\n",
    "    --geno_filter $geno_filter\n",
    "    --hwe_filter $hwe_filter\n",
    "    --mind_filter $mind_filter\n",
    "    --container $container\n",
    "\"\"\"\n",
    "\n",
    "sos run ~/project/UKBB_GWAS_dev/admin/Get_Job_Script.ipynb csg\\\n",
    "    --template-file $tpl_file \\\n",
    "    --workflow-file $gwasqc_sos \\\n",
    "    --to-script $gwas_sbatch \\\n",
    "    --args \"$merge_args\"\n"
   ]
  },
  {
   "cell_type": "markdown",
   "id": "0319e1e5-e181-4598-94a2-f9bb2dd531b6",
   "metadata": {
    "kernel": "SoS"
   },
   "source": [
    "### Get a file with both common and rare variants"
   ]
  },
  {
   "cell_type": "code",
   "execution_count": 46,
   "id": "96608608-6dcc-4948-931c-cef53d977b0e",
   "metadata": {
    "kernel": "Bash",
    "tags": []
   },
   "outputs": [
    {
     "name": "stdout",
     "output_type": "stream",
     "text": [
      "INFO: Running \u001b[32mcsg\u001b[0m: Configuration for Columbia csg partition cluster\n",
      "INFO: \u001b[32mcsg\u001b[0m is \u001b[32mcompleted\u001b[0m.\n",
      "INFO: \u001b[32mcsg\u001b[0m output:   \u001b[32m/mnt/mfs/statgen/UKBiobank/results/ARHI_heritability/051922_merged_bed/allvars_eur_unrel_exome_merged_2022-05-19.sbatch\u001b[0m\n",
      "INFO: Workflow csg (ID=wadfa7b47d59121a2) is executed successfully with 1 completed step.\n",
      "\n"
     ]
    }
   ],
   "source": [
    "genoFile=`echo /mnt/mfs/statgen/UKBiobank/results/ARHI_heritability/051922_white_eur_unrel/ukb23156_c{1..22}.merged.filtered.filtered.extracted.bed`\n",
    "cwd=/mnt/mfs/statgen/UKBiobank/results/ARHI_heritability/051922_merged_bed\n",
    "# Do not set a MAF filter, this will keep both common and rare variants\n",
    "maf_filter=0 \n",
    "# Do not filter again for variant missigness\n",
    "geno_filter=0\n",
    "# HWE already applied only to controls of ARHI sample\n",
    "hwe_filter=0\n",
    "# Set a sample missingness of 5%\n",
    "mind_filter=0.05\n",
    "name='ukb23156_merged_eur_unrel_allvars'\n",
    "gwas_sbatch=/mnt/mfs/statgen/UKBiobank/results/ARHI_heritability/051922_merged_bed/allvars_eur_unrel_exome_merged_$(date +\"%Y-%m-%d\").sbatch\n",
    "gwasqc_sos=~/project/xqtl-pipeline/code/data_preprocessing/genotype/genotype_formatting.ipynb\n",
    "tpl_file=~/project/bioworkflows/admin/csg.yml\n",
    "container=~/containers/bioinfo.sif\n",
    "\n",
    "merge_args=\"\"\"merge_plink\n",
    "    --cwd $cwd\n",
    "    --genoFile $genoFile\n",
    "    --name $name\n",
    "    --maf_filter $maf_filter\n",
    "    --geno_filter $geno_filter\n",
    "    --hwe_filter $hwe_filter\n",
    "    --mind_filter $mind_filter\n",
    "    --container $container\n",
    "\"\"\"\n",
    "\n",
    "sos run ~/project/UKBB_GWAS_dev/admin/Get_Job_Script.ipynb csg\\\n",
    "    --template-file $tpl_file \\\n",
    "    --workflow-file $gwasqc_sos \\\n",
    "    --to-script $gwas_sbatch \\\n",
    "    --args \"$merge_args\"\n"
   ]
  },
  {
   "cell_type": "markdown",
   "id": "db941c21-6114-42b3-a8b8-13999fdc4766",
   "metadata": {
    "kernel": "SoS"
   },
   "source": [
    "# Create the GRM matrix\n",
    "\n",
    "Here we need to create a GRM per bed file for common, rare and both types of variants\n",
    "\n",
    "```\n",
    "\n",
    "i={1..99}\n",
    "GCTA \\\n",
    "--bfile ${BED_file_merged_QC} \\\n",
    "--extract ${list_variants_LD_bin} \\\n",
    "--make-grm-part 99 \"$i\" \\\n",
    "--thread-num ${ncpu} \\\n",
    "--out ${GRM_out} \\\n",
    "--make-grm-alg 1\n",
    "\n",
    "\n",
    "#Merge all GRM parts together\n",
    "\n",
    "cat ${GRM_out}.part_99_*.grm.id > ${GRM_out}.grm.id\n",
    "cat ${GRM_out}.part_99_*.grm.bin > ${GRM_out}.grm.bin\n",
    "cat ${GRM_out}.part_99_*.grm.N.bin > ${GRM_out}.grm.N.bin\n",
    "```"
   ]
  },
  {
   "cell_type": "markdown",
   "id": "15e6d1fd-b883-4bdb-ade2-960062265869",
   "metadata": {
    "kernel": "Bash"
   },
   "source": [
    "## Get GRM for rare variant substet"
   ]
  },
  {
   "cell_type": "code",
   "execution_count": 47,
   "id": "2dfdaea5-552a-45c1-a4c0-e2d50aa90fba",
   "metadata": {
    "kernel": "Bash"
   },
   "outputs": [
    {
     "name": "stdout",
     "output_type": "stream",
     "text": [
      "INFO: Running \u001b[32mcsg\u001b[0m: Configuration for Columbia csg partition cluster\n",
      "INFO: \u001b[32mcsg\u001b[0m is \u001b[32mcompleted\u001b[0m.\n",
      "INFO: \u001b[32mcsg\u001b[0m output:   \u001b[32m/mnt/mfs/statgen/UKBiobank/results/ARHI_heritability/052022_grm/rarevars_grm_eur_unrel_gtca_2022-05-20.sbatch\u001b[0m\n",
      "INFO: Workflow csg (ID=w3a0b3db8c49eabe5) is executed successfully with 1 completed step.\n",
      "\n"
     ]
    }
   ],
   "source": [
    "bfile=~/UKBiobank/results/ARHI_heritability/051922_merged_bed/ukb23156_merged_eur_unrel_rarevarsMAFbelow0.01.bed\n",
    "cwd=/mnt/mfs/statgen/UKBiobank/results/ARHI_heritability/052022_grm_rare\n",
    "numThreads=20\n",
    "gcta_sbatch=/mnt/mfs/statgen/UKBiobank/results/ARHI_heritability/052022_grm/rarevars_grm_eur_unrel_gtca_$(date +\"%Y-%m-%d\").sbatch\n",
    "gcta_sos=~/project/bioworkflows/GWAS/LMM.ipynb\n",
    "tpl_file=~/project/bioworkflows/admin/csg.yml\n",
    "container=~/containers/lmm.sif\n",
    "#Phenofile is just inputed as a requirement for the LMM to run but it is not actually needed for GRM calculation\n",
    "phenoFile=/mnt/mfs/statgen/UKBiobank/phenotype_files/hearing_impairment/090321_UKBB_Hearing_aid_f3393_expandedwhite_6436cases_96601ctrl_PC1_2.tsv\n",
    "phenoCol=f3393\n",
    "covarCol=sex\n",
    "qCovarCol=\"age PC1 PC2\"\n",
    "mem='8G'\n",
    "walltime='48h'\n",
    "\n",
    "gcta_args=\"\"\"gcta\n",
    "    --cwd $cwd\n",
    "    --bfile $bfile\n",
    "    --phenoFile $phenoFile\n",
    "    --phenoCol $phenoCol\n",
    "    --covarCol $covarCol\n",
    "    --qCovarCol $qCovarCol\n",
    "    --numThreads $numThreads\n",
    "    --phenoFile $phenoFile\n",
    "    --container_lmm $container\n",
    "    --walltime $walltime\n",
    "    --mem $mem\n",
    "\"\"\"\n",
    "\n",
    "sos run ~/project/UKBB_GWAS_dev/admin/Get_Job_Script.ipynb csg\\\n",
    "    --template-file $tpl_file \\\n",
    "    --workflow-file $gcta_sos \\\n",
    "    --to-script $gcta_sbatch \\\n",
    "    --args \"$gcta_args\"\n"
   ]
  },
  {
   "cell_type": "markdown",
   "id": "4bbf8454-563c-4223-8698-44d386c9a8a6",
   "metadata": {
    "kernel": "Bash"
   },
   "source": [
    "## Get the GRM for common variant subset"
   ]
  },
  {
   "cell_type": "code",
   "execution_count": 48,
   "id": "2c724139-7b6e-4813-95e3-e7830657e581",
   "metadata": {
    "kernel": "Bash"
   },
   "outputs": [
    {
     "name": "stdout",
     "output_type": "stream",
     "text": [
      "INFO: Running \u001b[32mcsg\u001b[0m: Configuration for Columbia csg partition cluster\n",
      "INFO: \u001b[32mcsg\u001b[0m is \u001b[32mcompleted\u001b[0m.\n",
      "INFO: \u001b[32mcsg\u001b[0m output:   \u001b[32m/mnt/mfs/statgen/UKBiobank/results/ARHI_heritability/052022_grm_common/commonvars_eur_unrel_gtca_2022-05-20.sbatch\u001b[0m\n",
      "INFO: Workflow csg (ID=w5dfba0004114fab4) is executed successfully with 1 completed step.\n",
      "\n"
     ]
    }
   ],
   "source": [
    "bfile=~/UKBiobank/results/ARHI_heritability/051922_merged_bed/ukb23156_merged_eur_unrel_commonvarsMAFabove0.01.bed\n",
    "cwd=/mnt/mfs/statgen/UKBiobank/results/ARHI_heritability/052022_grm_common\n",
    "numThreads=20\n",
    "gcta_sbatch=/mnt/mfs/statgen/UKBiobank/results/ARHI_heritability/052022_grm_common/commonvars_eur_unrel_gtca_$(date +\"%Y-%m-%d\").sbatch\n",
    "gcta_sos=~/project/bioworkflows/GWAS/LMM.ipynb\n",
    "tpl_file=~/project/bioworkflows/admin/csg.yml\n",
    "container=~/containers/lmm.sif\n",
    "#Phenofile is just inputed as a requirement for the LMM to run but it is not actually needed for GRM calculation\n",
    "phenoFile=/mnt/mfs/statgen/UKBiobank/phenotype_files/hearing_impairment/090321_UKBB_Hearing_aid_f3393_expandedwhite_6436cases_96601ctrl_PC1_2.tsv\n",
    "phenoCol=f3393\n",
    "covarCol=sex\n",
    "qCovarCol=\"age PC1 PC2\"\n",
    "mem='8G'\n",
    "walltime='48h'\n",
    "\n",
    "gcta_args=\"\"\"gcta\n",
    "    --cwd $cwd\n",
    "    --bfile $bfile\n",
    "    --phenoFile $phenoFile\n",
    "    --phenoCol $phenoCol\n",
    "    --covarCol $covarCol\n",
    "    --qCovarCol $qCovarCol\n",
    "    --numThreads $numThreads\n",
    "    --phenoFile $phenoFile\n",
    "    --container_lmm $container\n",
    "    --walltime $walltime\n",
    "    --mem $mem\n",
    "\"\"\"\n",
    "\n",
    "sos run ~/project/UKBB_GWAS_dev/admin/Get_Job_Script.ipynb csg\\\n",
    "    --template-file $tpl_file \\\n",
    "    --workflow-file $gcta_sos \\\n",
    "    --to-script $gcta_sbatch \\\n",
    "    --args \"$gcta_args\""
   ]
  },
  {
   "cell_type": "markdown",
   "id": "ec3d3790-dc77-4b52-8cdc-72caed59e2f7",
   "metadata": {
    "kernel": "Bash"
   },
   "source": [
    "## Get the GRM for all variants (rare + common)"
   ]
  },
  {
   "cell_type": "code",
   "execution_count": 49,
   "id": "2b1d3208-3c39-4e14-9d94-1347a8c329f1",
   "metadata": {
    "kernel": "Bash"
   },
   "outputs": [
    {
     "name": "stdout",
     "output_type": "stream",
     "text": [
      "INFO: Running \u001b[32mcsg\u001b[0m: Configuration for Columbia csg partition cluster\n",
      "INFO: \u001b[32mcsg\u001b[0m is \u001b[32mcompleted\u001b[0m.\n",
      "INFO: \u001b[32mcsg\u001b[0m output:   \u001b[32m/mnt/mfs/statgen/UKBiobank/results/ARHI_heritability/052022_grm_allvars/allvars_grm_eur_unrel_2022-05-20.sbatch\u001b[0m\n",
      "INFO: Workflow csg (ID=w8df80d9b5785842a) is executed successfully with 1 completed step.\n",
      "\n"
     ]
    }
   ],
   "source": [
    "bfile=~/UKBiobank/results/ARHI_heritability/051922_merged_bed/ukb23156_merged_eur_unrel_allvars.bed\n",
    "cwd=/mnt/mfs/statgen/UKBiobank/results/ARHI_heritability/052022_grm_allvars\n",
    "numThreads=20\n",
    "gcta_sbatch=/mnt/mfs/statgen/UKBiobank/results/ARHI_heritability/052022_grm_allvars/allvars_grm_eur_unrel_$(date +\"%Y-%m-%d\").sbatch\n",
    "gcta_sos=~/project/bioworkflows/GWAS/LMM.ipynb\n",
    "tpl_file=~/project/bioworkflows/admin/csg.yml\n",
    "container=~/containers/lmm.sif\n",
    "#Phenofile is just inputed as a requirement for the LMM to run but it is not actually needed for GRM calculation\n",
    "phenoFile=/mnt/mfs/statgen/UKBiobank/phenotype_files/hearing_impairment/090321_UKBB_Hearing_aid_f3393_expandedwhite_6436cases_96601ctrl_PC1_2.tsv\n",
    "phenoCol=f3393\n",
    "covarCol=sex\n",
    "qCovarCol=\"age PC1 PC2\"\n",
    "mem='8G'\n",
    "walltime='48h'\n",
    "\n",
    "gcta_args=\"\"\"merge_plink\n",
    "    --cwd $cwd\n",
    "    --bfile $bfile\n",
    "    --numThreads $numThreads\n",
    "    --container $container\n",
    "\"\"\"\n",
    "\n",
    "sos run ~/project/UKBB_GWAS_dev/admin/Get_Job_Script.ipynb csg\\\n",
    "    --template-file $tpl_file \\\n",
    "    --workflow-file $gcta_sos \\\n",
    "    --to-script $gcta_sbatch \\\n",
    "    --args \"$gcta_args\""
   ]
  },
  {
   "cell_type": "code",
   "execution_count": null,
   "id": "d4321258-1946-4d02-bb49-4b47dd4d7bdd",
   "metadata": {
    "kernel": "Bash"
   },
   "outputs": [],
   "source": [
    "###### Create a file containing multiple GRMs in a directory (need full path) ######\n",
    "\n",
    "for i in *.grm.bin ; do readlink -f \"$i\"  | cut -d'.' -f1-2 >>  ${mgrm_file_path}; done"
   ]
  },
  {
   "cell_type": "markdown",
   "id": "ad66fb97-b3dd-47dd-95a1-c829a2a8ce7d",
   "metadata": {
    "kernel": "Bash"
   },
   "source": [
    "## Do LD prunning for each group of variants"
   ]
  },
  {
   "cell_type": "markdown",
   "id": "c0887116-d7c7-478f-a02d-647c9964a201",
   "metadata": {
    "kernel": "Bash"
   },
   "source": [
    "```\n",
    "i={1..22}\n",
    "plink \\\n",
    "--bfile ${BED_file_merged_QC} \\\n",
    "--chr \"$i\" \\\n",
    "--extract ${list_variants_bin} \\\n",
    "--indep-pairwise 50 5 0.1 \\\n",
    "--out ${out_indep_var}_chr\"$i\" \\\n",
    "--threads ${ncpu}\n",
    "```"
   ]
  },
  {
   "cell_type": "markdown",
   "id": "4e23a58f-4e1b-42c0-9e1c-e6d3efc4be6e",
   "metadata": {
    "kernel": "Bash"
   },
   "source": [
    "### LD pruning for common variants"
   ]
  },
  {
   "cell_type": "code",
   "execution_count": 61,
   "id": "d3797233-c933-44d5-af09-3e92e860b36b",
   "metadata": {
    "kernel": "Bash"
   },
   "outputs": [
    {
     "name": "stdout",
     "output_type": "stream",
     "text": [
      "INFO: Running \u001b[32mcsg\u001b[0m: Configuration for Columbia csg partition cluster\n",
      "INFO: \u001b[32mcsg\u001b[0m is \u001b[32mcompleted\u001b[0m.\n",
      "INFO: \u001b[32mcsg\u001b[0m output:   \u001b[32m/mnt/mfs/statgen/UKBiobank/results/ARHI_heritability/052022_ldprun_common/common_ldprun_eur_unrel_2022-05-20.sbatch\u001b[0m\n",
      "INFO: Workflow csg (ID=w39d73fa64d48acf5) is executed successfully with 1 completed step.\n",
      "\n"
     ]
    }
   ],
   "source": [
    "## Selected White European unrelated individuals \n",
    "UKBB_PATH=/mnt/mfs/statgen/UKBiobank\n",
    "cwd=$UKBB_PATH/results/ARHI_heritability/052022_ldprun_common\n",
    "## Use the exome filtered file\n",
    "genoFile=~/UKBiobank/results/ARHI_heritability/051922_merged_bed/ukb23156_merged_eur_unrel_commonvarsMAFabove0.01.bed\n",
    "maf_filter=0 \n",
    "geno_filter=0\n",
    "hwe_filter=0\n",
    "mind_filter=0\n",
    "window=50\n",
    "shift=10\n",
    "r2=0.1\n",
    "gwas_sbatch=/mnt/mfs/statgen/UKBiobank/results/ARHI_heritability/052022_ldprun_common/common_ldprun_eur_unrel_$(date +\"%Y-%m-%d\").sbatch\n",
    "gwasqc_sos=~/project/xqtl-pipeline/code/data_preprocessing/genotype/GWAS_QC.ipynb\n",
    "tpl_file=~/project/bioworkflows/admin/csg2.yml\n",
    "container=~/containers/bioinfo.sif\n",
    "numThreads=20\n",
    "job_size=1\n",
    "mem='30G'\n",
    "\n",
    "gwasqc_args=\"\"\"qc:2\n",
    "    --cwd $cwd\n",
    "    --genoFile $genoFile\n",
    "    --maf_filter $maf_filter\n",
    "    --geno_filter $geno_filter\n",
    "    --hwe_filter $hwe_filter\n",
    "    --mind_filter $mind_filter\n",
    "    --window $window\n",
    "    --shift $shift\n",
    "    --r2 $r2\n",
    "    --numThreads $numThreads \n",
    "    --job_size $job_size\n",
    "    --container $container\n",
    "    --mem $mem\n",
    "\"\"\"\n",
    "\n",
    "sos run ~/project/UKBB_GWAS_dev/admin/Get_Job_Script.ipynb csg\\\n",
    "    --template-file $tpl_file \\\n",
    "    --workflow-file $gwasqc_sos \\\n",
    "    --to-script $gwas_sbatch \\\n",
    "    --args \"$gwasqc_args\"\n"
   ]
  },
  {
   "cell_type": "markdown",
   "id": "9cdae2dc-5bc7-49fb-bd50-c08fb4eb5fd2",
   "metadata": {
    "kernel": "Bash"
   },
   "source": [
    "### LD pruning for rare variants"
   ]
  },
  {
   "cell_type": "code",
   "execution_count": 62,
   "id": "006f2b6d-bd33-4f08-94cf-601f3f313197",
   "metadata": {
    "kernel": "Bash"
   },
   "outputs": [
    {
     "name": "stdout",
     "output_type": "stream",
     "text": [
      "INFO: Running \u001b[32mcsg\u001b[0m: Configuration for Columbia csg partition cluster\n",
      "INFO: \u001b[32mcsg\u001b[0m is \u001b[32mcompleted\u001b[0m.\n",
      "INFO: \u001b[32mcsg\u001b[0m output:   \u001b[32m/mnt/mfs/statgen/UKBiobank/results/ARHI_heritability/052022_ldprun_rare/rare_ldprun_eur_unrel_2022-05-20.sbatch\u001b[0m\n",
      "INFO: Workflow csg (ID=wd5c42b2fe0425a2b) is executed successfully with 1 completed step.\n",
      "\n"
     ]
    }
   ],
   "source": [
    "## Selected White European unrelated individuals \n",
    "UKBB_PATH=/mnt/mfs/statgen/UKBiobank\n",
    "cwd=$UKBB_PATH/results/ARHI_heritability/052022_ldprun_rare\n",
    "## Use the exome filtered file\n",
    "genoFile=~/UKBiobank/results/ARHI_heritability/051922_merged_bed/ukb23156_merged_eur_unrel_rarevarsMAFbelow0.01.bed\n",
    "window=2000\n",
    "shift=400\n",
    "r2=0.01\n",
    "gwas_sbatch=$UKBB_PATH/results/ARHI_heritability/052022_ldprun_rare/rare_ldprun_eur_unrel_$(date +\"%Y-%m-%d\").sbatch\n",
    "gwasqc_sos=~/project/xqtl-pipeline/code/data_preprocessing/genotype/GWAS_QC.ipynb\n",
    "tpl_file=~/project/bioworkflows/admin/csg.yml\n",
    "container=~/containers/bioinfo.sif\n",
    "numThreads=20\n",
    "job_size=1\n",
    "mem='30G'\n",
    "\n",
    "gwasqc_args=\"\"\"qc:2\n",
    "    --cwd $cwd\n",
    "    --genoFile $genoFile\n",
    "    --window $window\n",
    "    --shift $shift\n",
    "    --r2 $r2\n",
    "    --numThreads $numThreads \n",
    "    --job_size $job_size\n",
    "    --container $container\n",
    "    --mem $mem\n",
    "\"\"\"\n",
    "\n",
    "sos run ~/project/UKBB_GWAS_dev/admin/Get_Job_Script.ipynb csg\\\n",
    "    --template-file $tpl_file \\\n",
    "    --workflow-file $gwasqc_sos \\\n",
    "    --to-script $gwas_sbatch \\\n",
    "    --args \"$gwasqc_args\"\n"
   ]
  },
  {
   "cell_type": "markdown",
   "id": "850694a9-d0bf-4719-a5f4-f9b0bf5e3e1f",
   "metadata": {
    "kernel": "Bash"
   },
   "source": [
    "## Recalculate PC's for the subset of unrelated"
   ]
  },
  {
   "cell_type": "markdown",
   "id": "6fdb51b8-0a11-4203-9d70-b623460d60a1",
   "metadata": {
    "kernel": "Bash"
   },
   "source": [
    "In the paper they use plink2 to calculate the PC's\n",
    "\n",
    "```\n",
    "plink2 \\\n",
    "--bfile ${BED_file_merged_QC} \\\n",
    "--extract ${list_variants_bin} \\\n",
    "--pca 20 approx \\\n",
    "--out ${PCA_out} \\\n",
    "--thread-num ${ncpu}\n",
    "```\n",
    "\n",
    "In our case we have developed a pipeline that uses flashpca. We use that one instead"
   ]
  },
  {
   "cell_type": "markdown",
   "id": "3f15d8e7-d368-41db-9669-1eac1c1bb470",
   "metadata": {
    "kernel": "Bash"
   },
   "source": [
    "### PCA for f3393 common variants of the 50K samples"
   ]
  },
  {
   "cell_type": "markdown",
   "id": "568b772e-7b8e-4809-b006-7f857fed4172",
   "metadata": {
    "kernel": "Bash"
   },
   "source": [
    "#### Step 1"
   ]
  },
  {
   "cell_type": "code",
   "execution_count": 63,
   "id": "b1970a82-7754-44be-ac6a-1e1bd66849c8",
   "metadata": {
    "kernel": "Bash"
   },
   "outputs": [
    {
     "name": "stdout",
     "output_type": "stream",
     "text": [
      "INFO: Running \u001b[32mcsg\u001b[0m: Configuration for Columbia csg partition cluster\n",
      "INFO: \u001b[32mcsg\u001b[0m is \u001b[32mcompleted\u001b[0m.\n",
      "INFO: \u001b[32mcsg\u001b[0m output:   \u001b[32m/mnt/mfs/statgen/UKBiobank/results/ARHI_heritability/052022_pca_common/common_pca_f3393_exome_2022-05-20.sbatch\u001b[0m\n",
      "INFO: Workflow csg (ID=w9bd46fcb4c4e3372) is executed successfully with 1 completed step.\n",
      "\n"
     ]
    }
   ],
   "source": [
    "## Columbia's cluster\n",
    "cwd=/mnt/mfs/statgen/UKBiobank/results/ARHI_heritability/052022_pca_common/f3393\n",
    "gwas_sbatch=/mnt/mfs/statgen/UKBiobank/results/ARHI_heritability/052022_pca_common/common_pca_f3393_exome_$(date +\"%Y-%m-%d\").sbatch\n",
    "## Use qc'ed genotype array\n",
    "genoFile=/mnt/mfs/statgen/UKBiobank/results/ARHI_heritability/052022_ldprun_common/ukb23156_merged_eur_unrel_commonvarsMAFabove0.01.filtered.prune.bed\n",
    "keep_samples=$UKBB_PATH/results/083021_PCA_results/090321_UKBB_Hearing_aid_f3393_expandedwhite_6436cases_96601ctrl.keep_id\n",
    "\n",
    "#GWAS QC variables set all of this variables to 0 to avoid doing more filtering\n",
    "maf_filter=0\n",
    "geno_filter=0\n",
    "hwe_filter=0\n",
    "mind_filter=0\n",
    "numThreads=1\n",
    "mem='30G'\n",
    "gwasqc_sos=~/project/xqtl-pipeline/code/data_preprocessing/genotype/GWAS_QC.ipynb\n",
    "tpl_file=~/project/bioworkflows/admin/csg.yml\n",
    "container=~/containers/bioinfo.sif\n",
    "\n",
    "gwasqc_args=\"\"\"qc:1\n",
    "    --cwd $cwd\n",
    "    --genoFile $genoFile\n",
    "    --keep_samples $keep_samples\n",
    "    --maf_filter $maf_filter\n",
    "    --geno_filter $geno_filter\n",
    "    --hwe_filter $hwe_filter\n",
    "    --mind_filter $mind_filter\n",
    "    --numThreads $numThreads \n",
    "    --container $container\n",
    "    --mem $mem\n",
    "\"\"\"\n",
    "\n",
    "sos run ~/project/UKBB_GWAS_dev/admin/Get_Job_Script.ipynb csg \\\n",
    "    --template-file $tpl_file \\\n",
    "    --workflow-file $gwasqc_sos \\\n",
    "    --to-script $gwas_sbatch \\\n",
    "    --args \"$gwasqc_args\""
   ]
  },
  {
   "cell_type": "markdown",
   "id": "21fede00-e0b9-4ec8-bd78-b891fab8b450",
   "metadata": {
    "kernel": "Bash"
   },
   "source": [
    "#### Step 2. "
   ]
  },
  {
   "cell_type": "code",
   "execution_count": 64,
   "id": "061bc7cc-9794-489b-b26e-1c4c14292414",
   "metadata": {
    "kernel": "Bash"
   },
   "outputs": [
    {
     "name": "stdout",
     "output_type": "stream",
     "text": [
      "INFO: Running \u001b[32mcsg\u001b[0m: Configuration for Columbia csg partition cluster\n",
      "INFO: \u001b[32mcsg\u001b[0m is \u001b[32mcompleted\u001b[0m.\n",
      "INFO: \u001b[32mcsg\u001b[0m output:   \u001b[32m/mnt/mfs/statgen/UKBiobank/results/ARHI_heritability/052022_pca_common/flashpca_f3393_common_2022-05-20.sbatch\u001b[0m\n",
      "INFO: Workflow csg (ID=w90c9447dc037bccd) is executed successfully with 1 completed step.\n",
      "\n"
     ]
    }
   ],
   "source": [
    "## Columbia's cluster\n",
    "cwd=/mnt/mfs/statgen/UKBiobank/results/ARHI_heritability/052022_pca_common/f3393\n",
    "#This is the bfile obtained in step 1\n",
    "genoFile=/mnt/mfs/statgen/UKBiobank/results/ARHI_heritability/052022_pca_common/f3393/cache/*.bed\n",
    "# Format FID, IID, pop\n",
    "# PC's are actually being calculated for 91950 individuals that are white unrelated and have phenotype data for f3393\n",
    "phenoFile=/mnt/mfs/statgen/UKBiobank/results/083021_PCA_results/090321_UKBB_Hearing_aid_f3393_expandedwhite_6436cases_96601ctrl.phenopca\n",
    "label_col=ethnicity\n",
    "pop_col=ethnicity\n",
    "pca_sbatch=/mnt/mfs/statgen/UKBiobank/results/ARHI_heritability/052022_pca_common/flashpca_f3393_common_$(date +\"%Y-%m-%d\").sbatch\n",
    "k=10\n",
    "min_axis=0\n",
    "max_axis=0\n",
    "pca_sos=~/project/xqtl-pipeline/code/data_preprocessing/genotype/PCA.ipynb\n",
    "tpl_file=~/project/bioworkflows/admin/csg.yml\n",
    "container=~/containers/flashpcaR.sif\n",
    "\n",
    "pca_args=\"\"\"flashpca\n",
    "    --cwd $cwd\n",
    "    --genoFile $genoFile\n",
    "    --phenoFile $phenoFile\n",
    "    --k $k\n",
    "    --label_col $label_col\n",
    "    --pop_col $pop_col\n",
    "    --min_axis $min_axis\n",
    "    --max_axis $max_axis\n",
    "    --numThreads $numThreads \n",
    "    --container $container\n",
    "\"\"\"\n",
    "\n",
    "sos run  ~/project/UKBB_GWAS_dev/admin/Get_Job_Script.ipynb csg\\\n",
    "    --template-file $tpl_file \\\n",
    "    --workflow-file $pca_sos \\\n",
    "    --to-script $pca_sbatch \\\n",
    "    --args \"$pca_args\""
   ]
  },
  {
   "cell_type": "markdown",
   "id": "2b980c94-7141-4ea5-9f91-9bace2942095",
   "metadata": {
    "kernel": "Bash"
   },
   "source": [
    "#### Merge the phenofile with the PC calculation for the available individuals (unrelated and white European) for common variants"
   ]
  },
  {
   "cell_type": "code",
   "execution_count": null,
   "id": "d23be77b-c537-4114-91cb-1e0e5c18f9d3",
   "metadata": {
    "kernel": "R",
    "tags": []
   },
   "outputs": [],
   "source": [
    "pheno <- read.table(\"~/UKBiobank/phenotype_files/hearing_impairment/090321_UKBB_Hearing_aid_f3393_expandedwhite_6436cases_96601ctrl\", header=T)\n",
    "head(pheno)\n",
    "dim(pheno)"
   ]
  },
  {
   "cell_type": "code",
   "execution_count": null,
   "id": "841a397f-3cbd-413d-b378-cb8e599fbb60",
   "metadata": {
    "kernel": "R",
    "tags": []
   },
   "outputs": [],
   "source": [
    "pca <- read.table(\"/mnt/mfs/statgen/UKBiobank/results/ARHI_heritability/052022_pca_common/f3393/090321_UKBB_Hearing_aid_f3393_expandedwhite_6436cases_96601ctrl.pca.txt\", header=T)\n",
    "head(pca)\n",
    "dim(pca)"
   ]
  },
  {
   "cell_type": "code",
   "execution_count": 3,
   "id": "e7fc872d-498f-45b4-aef3-c922bb1e08ea",
   "metadata": {
    "kernel": "R",
    "tags": []
   },
   "outputs": [
    {
     "data": {
      "text/html": [
       "<table class=\"dataframe\">\n",
       "<caption>A data.frame: 6 x 17</caption>\n",
       "<thead>\n",
       "\t<tr><th></th><th scope=col>FID</th><th scope=col>IID</th><th scope=col>sex</th><th scope=col>f3393</th><th scope=col>age</th><th scope=col>ID</th><th scope=col>ethnicity</th><th scope=col>PC1</th><th scope=col>PC2</th><th scope=col>PC3</th><th scope=col>PC4</th><th scope=col>PC5</th><th scope=col>PC6</th><th scope=col>PC7</th><th scope=col>PC8</th><th scope=col>PC9</th><th scope=col>PC10</th></tr>\n",
       "\t<tr><th></th><th scope=col>&lt;int&gt;</th><th scope=col>&lt;int&gt;</th><th scope=col>&lt;int&gt;</th><th scope=col>&lt;int&gt;</th><th scope=col>&lt;int&gt;</th><th scope=col>&lt;fct&gt;</th><th scope=col>&lt;fct&gt;</th><th scope=col>&lt;dbl&gt;</th><th scope=col>&lt;dbl&gt;</th><th scope=col>&lt;dbl&gt;</th><th scope=col>&lt;dbl&gt;</th><th scope=col>&lt;dbl&gt;</th><th scope=col>&lt;dbl&gt;</th><th scope=col>&lt;dbl&gt;</th><th scope=col>&lt;dbl&gt;</th><th scope=col>&lt;dbl&gt;</th><th scope=col>&lt;dbl&gt;</th></tr>\n",
       "</thead>\n",
       "<tbody>\n",
       "\t<tr><th scope=row>1</th><td>1000078</td><td>1000078</td><td>1</td><td>0</td><td>60</td><td>1000078:1000078</td><td>British                   </td><td> 0.001867425</td><td> 0.013093557</td><td>-0.012545642</td><td>-0.0077773685</td><td>-0.0076396044</td><td>-0.004067034</td><td> 0.003904697</td><td>-0.0066333866</td><td>-0.011400679</td><td>-0.003770311</td></tr>\n",
       "\t<tr><th scope=row>2</th><td>1000081</td><td>1000081</td><td>0</td><td>0</td><td>67</td><td>1000081:1000081</td><td>British                   </td><td> 0.134179544</td><td>-0.015138242</td><td> 0.014278056</td><td> 0.0142731188</td><td>-0.0085332226</td><td>-0.010936588</td><td> 0.011577007</td><td> 0.0004865037</td><td> 0.008102219</td><td>-0.002117615</td></tr>\n",
       "\t<tr><th scope=row>3</th><td>1000236</td><td>1000236</td><td>0</td><td>0</td><td>70</td><td>1000236:1000236</td><td>British                   </td><td> 0.008867756</td><td> 0.011425836</td><td>-0.023071386</td><td> 0.0064096586</td><td> 0.0033986306</td><td> 0.021169599</td><td>-0.003277936</td><td> 0.0054276548</td><td>-0.010657910</td><td>-0.034102210</td></tr>\n",
       "\t<tr><th scope=row>4</th><td>1000331</td><td>1000331</td><td>1</td><td>0</td><td>53</td><td>1000331:1000331</td><td>Any_other_white_background</td><td> 0.080695947</td><td>-0.003566874</td><td>-0.002728336</td><td>-0.0039599944</td><td> 0.0005021192</td><td> 0.003650339</td><td> 0.029506097</td><td> 0.0038201997</td><td>-0.013963517</td><td>-0.016294060</td></tr>\n",
       "\t<tr><th scope=row>5</th><td>1000340</td><td>1000340</td><td>1</td><td>0</td><td>54</td><td>1000340:1000340</td><td>British                   </td><td>-0.012073413</td><td>-0.005182776</td><td>-0.009290790</td><td> 0.0007751943</td><td>-0.0024663547</td><td>-0.006647973</td><td> 0.002676356</td><td>-0.0018374353</td><td> 0.002831617</td><td>-0.001478281</td></tr>\n",
       "\t<tr><th scope=row>6</th><td>1000415</td><td>1000415</td><td>0</td><td>0</td><td>65</td><td>1000415:1000415</td><td>Irish                     </td><td>-0.018177064</td><td>-0.053073714</td><td>-0.000446653</td><td>-0.0024920664</td><td> 0.0170787094</td><td>-0.003519533</td><td> 0.005667462</td><td> 0.0251297768</td><td>-0.006116507</td><td> 0.005747638</td></tr>\n",
       "</tbody>\n",
       "</table>\n"
      ],
      "text/latex": [
       "A data.frame: 6 x 17\n",
       "\\begin{tabular}{r|lllllllllllllllll}\n",
       "  & FID & IID & sex & f3393 & age & ID & ethnicity & PC1 & PC2 & PC3 & PC4 & PC5 & PC6 & PC7 & PC8 & PC9 & PC10\\\\\n",
       "  & <int> & <int> & <int> & <int> & <int> & <fct> & <fct> & <dbl> & <dbl> & <dbl> & <dbl> & <dbl> & <dbl> & <dbl> & <dbl> & <dbl> & <dbl>\\\\\n",
       "\\hline\n",
       "\t1 & 1000078 & 1000078 & 1 & 0 & 60 & 1000078:1000078 & British                    &  0.001867425 &  0.013093557 & -0.012545642 & -0.0077773685 & -0.0076396044 & -0.004067034 &  0.003904697 & -0.0066333866 & -0.011400679 & -0.003770311\\\\\n",
       "\t2 & 1000081 & 1000081 & 0 & 0 & 67 & 1000081:1000081 & British                    &  0.134179544 & -0.015138242 &  0.014278056 &  0.0142731188 & -0.0085332226 & -0.010936588 &  0.011577007 &  0.0004865037 &  0.008102219 & -0.002117615\\\\\n",
       "\t3 & 1000236 & 1000236 & 0 & 0 & 70 & 1000236:1000236 & British                    &  0.008867756 &  0.011425836 & -0.023071386 &  0.0064096586 &  0.0033986306 &  0.021169599 & -0.003277936 &  0.0054276548 & -0.010657910 & -0.034102210\\\\\n",
       "\t4 & 1000331 & 1000331 & 1 & 0 & 53 & 1000331:1000331 & Any\\_other\\_white\\_background &  0.080695947 & -0.003566874 & -0.002728336 & -0.0039599944 &  0.0005021192 &  0.003650339 &  0.029506097 &  0.0038201997 & -0.013963517 & -0.016294060\\\\\n",
       "\t5 & 1000340 & 1000340 & 1 & 0 & 54 & 1000340:1000340 & British                    & -0.012073413 & -0.005182776 & -0.009290790 &  0.0007751943 & -0.0024663547 & -0.006647973 &  0.002676356 & -0.0018374353 &  0.002831617 & -0.001478281\\\\\n",
       "\t6 & 1000415 & 1000415 & 0 & 0 & 65 & 1000415:1000415 & Irish                      & -0.018177064 & -0.053073714 & -0.000446653 & -0.0024920664 &  0.0170787094 & -0.003519533 &  0.005667462 &  0.0251297768 & -0.006116507 &  0.005747638\\\\\n",
       "\\end{tabular}\n"
      ],
      "text/markdown": [
       "\n",
       "A data.frame: 6 x 17\n",
       "\n",
       "| <!--/--> | FID &lt;int&gt; | IID &lt;int&gt; | sex &lt;int&gt; | f3393 &lt;int&gt; | age &lt;int&gt; | ID &lt;fct&gt; | ethnicity &lt;fct&gt; | PC1 &lt;dbl&gt; | PC2 &lt;dbl&gt; | PC3 &lt;dbl&gt; | PC4 &lt;dbl&gt; | PC5 &lt;dbl&gt; | PC6 &lt;dbl&gt; | PC7 &lt;dbl&gt; | PC8 &lt;dbl&gt; | PC9 &lt;dbl&gt; | PC10 &lt;dbl&gt; |\n",
       "|---|---|---|---|---|---|---|---|---|---|---|---|---|---|---|---|---|---|\n",
       "| 1 | 1000078 | 1000078 | 1 | 0 | 60 | 1000078:1000078 | British                    |  0.001867425 |  0.013093557 | -0.012545642 | -0.0077773685 | -0.0076396044 | -0.004067034 |  0.003904697 | -0.0066333866 | -0.011400679 | -0.003770311 |\n",
       "| 2 | 1000081 | 1000081 | 0 | 0 | 67 | 1000081:1000081 | British                    |  0.134179544 | -0.015138242 |  0.014278056 |  0.0142731188 | -0.0085332226 | -0.010936588 |  0.011577007 |  0.0004865037 |  0.008102219 | -0.002117615 |\n",
       "| 3 | 1000236 | 1000236 | 0 | 0 | 70 | 1000236:1000236 | British                    |  0.008867756 |  0.011425836 | -0.023071386 |  0.0064096586 |  0.0033986306 |  0.021169599 | -0.003277936 |  0.0054276548 | -0.010657910 | -0.034102210 |\n",
       "| 4 | 1000331 | 1000331 | 1 | 0 | 53 | 1000331:1000331 | Any_other_white_background |  0.080695947 | -0.003566874 | -0.002728336 | -0.0039599944 |  0.0005021192 |  0.003650339 |  0.029506097 |  0.0038201997 | -0.013963517 | -0.016294060 |\n",
       "| 5 | 1000340 | 1000340 | 1 | 0 | 54 | 1000340:1000340 | British                    | -0.012073413 | -0.005182776 | -0.009290790 |  0.0007751943 | -0.0024663547 | -0.006647973 |  0.002676356 | -0.0018374353 |  0.002831617 | -0.001478281 |\n",
       "| 6 | 1000415 | 1000415 | 0 | 0 | 65 | 1000415:1000415 | Irish                      | -0.018177064 | -0.053073714 | -0.000446653 | -0.0024920664 |  0.0170787094 | -0.003519533 |  0.005667462 |  0.0251297768 | -0.006116507 |  0.005747638 |\n",
       "\n"
      ],
      "text/plain": [
       "  FID     IID     sex f3393 age ID              ethnicity                 \n",
       "1 1000078 1000078 1   0     60  1000078:1000078 British                   \n",
       "2 1000081 1000081 0   0     67  1000081:1000081 British                   \n",
       "3 1000236 1000236 0   0     70  1000236:1000236 British                   \n",
       "4 1000331 1000331 1   0     53  1000331:1000331 Any_other_white_background\n",
       "5 1000340 1000340 1   0     54  1000340:1000340 British                   \n",
       "6 1000415 1000415 0   0     65  1000415:1000415 Irish                     \n",
       "  PC1          PC2          PC3          PC4           PC5          \n",
       "1  0.001867425  0.013093557 -0.012545642 -0.0077773685 -0.0076396044\n",
       "2  0.134179544 -0.015138242  0.014278056  0.0142731188 -0.0085332226\n",
       "3  0.008867756  0.011425836 -0.023071386  0.0064096586  0.0033986306\n",
       "4  0.080695947 -0.003566874 -0.002728336 -0.0039599944  0.0005021192\n",
       "5 -0.012073413 -0.005182776 -0.009290790  0.0007751943 -0.0024663547\n",
       "6 -0.018177064 -0.053073714 -0.000446653 -0.0024920664  0.0170787094\n",
       "  PC6          PC7          PC8           PC9          PC10        \n",
       "1 -0.004067034  0.003904697 -0.0066333866 -0.011400679 -0.003770311\n",
       "2 -0.010936588  0.011577007  0.0004865037  0.008102219 -0.002117615\n",
       "3  0.021169599 -0.003277936  0.0054276548 -0.010657910 -0.034102210\n",
       "4  0.003650339  0.029506097  0.0038201997 -0.013963517 -0.016294060\n",
       "5 -0.006647973  0.002676356 -0.0018374353  0.002831617 -0.001478281\n",
       "6 -0.003519533  0.005667462  0.0251297768 -0.006116507  0.005747638"
      ]
     },
     "metadata": {},
     "output_type": "display_data"
    },
    {
     "data": {
      "text/html": [
       "<style>\n",
       ".list-inline {list-style: none; margin:0; padding: 0}\n",
       ".list-inline>li {display: inline-block}\n",
       ".list-inline>li:not(:last-child)::after {content: \"\\00b7\"; padding: 0 .5ex}\n",
       "</style>\n",
       "<ol class=list-inline><li>91950</li><li>17</li></ol>\n"
      ],
      "text/latex": [
       "\\begin{enumerate*}\n",
       "\\item 91950\n",
       "\\item 17\n",
       "\\end{enumerate*}\n"
      ],
      "text/markdown": [
       "1. 91950\n",
       "2. 17\n",
       "\n",
       "\n"
      ],
      "text/plain": [
       "[1] 91950    17"
      ]
     },
     "metadata": {},
     "output_type": "display_data"
    },
    {
     "name": "stderr",
     "output_type": "stream",
     "text": [
      "\n",
      "Attaching package: ‘dplyr’\n",
      "\n",
      "\n",
      "The following objects are masked from ‘package:stats’:\n",
      "\n",
      "    filter, lag\n",
      "\n",
      "\n",
      "The following objects are masked from ‘package:base’:\n",
      "\n",
      "    intersect, setdiff, setequal, union\n",
      "\n",
      "\n"
     ]
    },
    {
     "data": {
      "text/html": [
       "<table class=\"dataframe\">\n",
       "<caption>A data.frame: 6 x 15</caption>\n",
       "<thead>\n",
       "\t<tr><th></th><th scope=col>FID</th><th scope=col>IID</th><th scope=col>sex</th><th scope=col>f3393</th><th scope=col>age</th><th scope=col>PC1</th><th scope=col>PC2</th><th scope=col>PC3</th><th scope=col>PC4</th><th scope=col>PC5</th><th scope=col>PC6</th><th scope=col>PC7</th><th scope=col>PC8</th><th scope=col>PC9</th><th scope=col>PC10</th></tr>\n",
       "\t<tr><th></th><th scope=col>&lt;int&gt;</th><th scope=col>&lt;int&gt;</th><th scope=col>&lt;int&gt;</th><th scope=col>&lt;int&gt;</th><th scope=col>&lt;int&gt;</th><th scope=col>&lt;dbl&gt;</th><th scope=col>&lt;dbl&gt;</th><th scope=col>&lt;dbl&gt;</th><th scope=col>&lt;dbl&gt;</th><th scope=col>&lt;dbl&gt;</th><th scope=col>&lt;dbl&gt;</th><th scope=col>&lt;dbl&gt;</th><th scope=col>&lt;dbl&gt;</th><th scope=col>&lt;dbl&gt;</th><th scope=col>&lt;dbl&gt;</th></tr>\n",
       "</thead>\n",
       "<tbody>\n",
       "\t<tr><th scope=row>1</th><td>1000078</td><td>1000078</td><td>1</td><td>0</td><td>60</td><td> 0.001867425</td><td> 0.013093557</td><td>-0.012545642</td><td>-0.0077773685</td><td>-0.0076396044</td><td>-0.004067034</td><td> 0.003904697</td><td>-0.0066333866</td><td>-0.011400679</td><td>-0.003770311</td></tr>\n",
       "\t<tr><th scope=row>2</th><td>1000081</td><td>1000081</td><td>0</td><td>0</td><td>67</td><td> 0.134179544</td><td>-0.015138242</td><td> 0.014278056</td><td> 0.0142731188</td><td>-0.0085332226</td><td>-0.010936588</td><td> 0.011577007</td><td> 0.0004865037</td><td> 0.008102219</td><td>-0.002117615</td></tr>\n",
       "\t<tr><th scope=row>3</th><td>1000236</td><td>1000236</td><td>0</td><td>0</td><td>70</td><td> 0.008867756</td><td> 0.011425836</td><td>-0.023071386</td><td> 0.0064096586</td><td> 0.0033986306</td><td> 0.021169599</td><td>-0.003277936</td><td> 0.0054276548</td><td>-0.010657910</td><td>-0.034102210</td></tr>\n",
       "\t<tr><th scope=row>4</th><td>1000331</td><td>1000331</td><td>1</td><td>0</td><td>53</td><td> 0.080695947</td><td>-0.003566874</td><td>-0.002728336</td><td>-0.0039599944</td><td> 0.0005021192</td><td> 0.003650339</td><td> 0.029506097</td><td> 0.0038201997</td><td>-0.013963517</td><td>-0.016294060</td></tr>\n",
       "\t<tr><th scope=row>5</th><td>1000340</td><td>1000340</td><td>1</td><td>0</td><td>54</td><td>-0.012073413</td><td>-0.005182776</td><td>-0.009290790</td><td> 0.0007751943</td><td>-0.0024663547</td><td>-0.006647973</td><td> 0.002676356</td><td>-0.0018374353</td><td> 0.002831617</td><td>-0.001478281</td></tr>\n",
       "\t<tr><th scope=row>6</th><td>1000415</td><td>1000415</td><td>0</td><td>0</td><td>65</td><td>-0.018177064</td><td>-0.053073714</td><td>-0.000446653</td><td>-0.0024920664</td><td> 0.0170787094</td><td>-0.003519533</td><td> 0.005667462</td><td> 0.0251297768</td><td>-0.006116507</td><td> 0.005747638</td></tr>\n",
       "</tbody>\n",
       "</table>\n"
      ],
      "text/latex": [
       "A data.frame: 6 x 15\n",
       "\\begin{tabular}{r|lllllllllllllll}\n",
       "  & FID & IID & sex & f3393 & age & PC1 & PC2 & PC3 & PC4 & PC5 & PC6 & PC7 & PC8 & PC9 & PC10\\\\\n",
       "  & <int> & <int> & <int> & <int> & <int> & <dbl> & <dbl> & <dbl> & <dbl> & <dbl> & <dbl> & <dbl> & <dbl> & <dbl> & <dbl>\\\\\n",
       "\\hline\n",
       "\t1 & 1000078 & 1000078 & 1 & 0 & 60 &  0.001867425 &  0.013093557 & -0.012545642 & -0.0077773685 & -0.0076396044 & -0.004067034 &  0.003904697 & -0.0066333866 & -0.011400679 & -0.003770311\\\\\n",
       "\t2 & 1000081 & 1000081 & 0 & 0 & 67 &  0.134179544 & -0.015138242 &  0.014278056 &  0.0142731188 & -0.0085332226 & -0.010936588 &  0.011577007 &  0.0004865037 &  0.008102219 & -0.002117615\\\\\n",
       "\t3 & 1000236 & 1000236 & 0 & 0 & 70 &  0.008867756 &  0.011425836 & -0.023071386 &  0.0064096586 &  0.0033986306 &  0.021169599 & -0.003277936 &  0.0054276548 & -0.010657910 & -0.034102210\\\\\n",
       "\t4 & 1000331 & 1000331 & 1 & 0 & 53 &  0.080695947 & -0.003566874 & -0.002728336 & -0.0039599944 &  0.0005021192 &  0.003650339 &  0.029506097 &  0.0038201997 & -0.013963517 & -0.016294060\\\\\n",
       "\t5 & 1000340 & 1000340 & 1 & 0 & 54 & -0.012073413 & -0.005182776 & -0.009290790 &  0.0007751943 & -0.0024663547 & -0.006647973 &  0.002676356 & -0.0018374353 &  0.002831617 & -0.001478281\\\\\n",
       "\t6 & 1000415 & 1000415 & 0 & 0 & 65 & -0.018177064 & -0.053073714 & -0.000446653 & -0.0024920664 &  0.0170787094 & -0.003519533 &  0.005667462 &  0.0251297768 & -0.006116507 &  0.005747638\\\\\n",
       "\\end{tabular}\n"
      ],
      "text/markdown": [
       "\n",
       "A data.frame: 6 x 15\n",
       "\n",
       "| <!--/--> | FID &lt;int&gt; | IID &lt;int&gt; | sex &lt;int&gt; | f3393 &lt;int&gt; | age &lt;int&gt; | PC1 &lt;dbl&gt; | PC2 &lt;dbl&gt; | PC3 &lt;dbl&gt; | PC4 &lt;dbl&gt; | PC5 &lt;dbl&gt; | PC6 &lt;dbl&gt; | PC7 &lt;dbl&gt; | PC8 &lt;dbl&gt; | PC9 &lt;dbl&gt; | PC10 &lt;dbl&gt; |\n",
       "|---|---|---|---|---|---|---|---|---|---|---|---|---|---|---|---|\n",
       "| 1 | 1000078 | 1000078 | 1 | 0 | 60 |  0.001867425 |  0.013093557 | -0.012545642 | -0.0077773685 | -0.0076396044 | -0.004067034 |  0.003904697 | -0.0066333866 | -0.011400679 | -0.003770311 |\n",
       "| 2 | 1000081 | 1000081 | 0 | 0 | 67 |  0.134179544 | -0.015138242 |  0.014278056 |  0.0142731188 | -0.0085332226 | -0.010936588 |  0.011577007 |  0.0004865037 |  0.008102219 | -0.002117615 |\n",
       "| 3 | 1000236 | 1000236 | 0 | 0 | 70 |  0.008867756 |  0.011425836 | -0.023071386 |  0.0064096586 |  0.0033986306 |  0.021169599 | -0.003277936 |  0.0054276548 | -0.010657910 | -0.034102210 |\n",
       "| 4 | 1000331 | 1000331 | 1 | 0 | 53 |  0.080695947 | -0.003566874 | -0.002728336 | -0.0039599944 |  0.0005021192 |  0.003650339 |  0.029506097 |  0.0038201997 | -0.013963517 | -0.016294060 |\n",
       "| 5 | 1000340 | 1000340 | 1 | 0 | 54 | -0.012073413 | -0.005182776 | -0.009290790 |  0.0007751943 | -0.0024663547 | -0.006647973 |  0.002676356 | -0.0018374353 |  0.002831617 | -0.001478281 |\n",
       "| 6 | 1000415 | 1000415 | 0 | 0 | 65 | -0.018177064 | -0.053073714 | -0.000446653 | -0.0024920664 |  0.0170787094 | -0.003519533 |  0.005667462 |  0.0251297768 | -0.006116507 |  0.005747638 |\n",
       "\n"
      ],
      "text/plain": [
       "  FID     IID     sex f3393 age PC1          PC2          PC3         \n",
       "1 1000078 1000078 1   0     60   0.001867425  0.013093557 -0.012545642\n",
       "2 1000081 1000081 0   0     67   0.134179544 -0.015138242  0.014278056\n",
       "3 1000236 1000236 0   0     70   0.008867756  0.011425836 -0.023071386\n",
       "4 1000331 1000331 1   0     53   0.080695947 -0.003566874 -0.002728336\n",
       "5 1000340 1000340 1   0     54  -0.012073413 -0.005182776 -0.009290790\n",
       "6 1000415 1000415 0   0     65  -0.018177064 -0.053073714 -0.000446653\n",
       "  PC4           PC5           PC6          PC7          PC8          \n",
       "1 -0.0077773685 -0.0076396044 -0.004067034  0.003904697 -0.0066333866\n",
       "2  0.0142731188 -0.0085332226 -0.010936588  0.011577007  0.0004865037\n",
       "3  0.0064096586  0.0033986306  0.021169599 -0.003277936  0.0054276548\n",
       "4 -0.0039599944  0.0005021192  0.003650339  0.029506097  0.0038201997\n",
       "5  0.0007751943 -0.0024663547 -0.006647973  0.002676356 -0.0018374353\n",
       "6 -0.0024920664  0.0170787094 -0.003519533  0.005667462  0.0251297768\n",
       "  PC9          PC10        \n",
       "1 -0.011400679 -0.003770311\n",
       "2  0.008102219 -0.002117615\n",
       "3 -0.010657910 -0.034102210\n",
       "4 -0.013963517 -0.016294060\n",
       "5  0.002831617 -0.001478281\n",
       "6 -0.006116507  0.005747638"
      ]
     },
     "metadata": {},
     "output_type": "display_data"
    }
   ],
   "source": [
    "f3393 <- merge(pheno, pca, by = c('FID', 'IID'), all.y=TRUE)\n",
    "head(f3393)\n",
    "dim(f3393)\n",
    "library(dplyr)\n",
    "f3393_final <- select(f3393, -c('ID', 'ethnicity'))\n",
    "head(f3393_final)"
   ]
  },
  {
   "cell_type": "code",
   "execution_count": 4,
   "id": "bdd26ea3-b536-4be9-b2d6-f958a6e0373d",
   "metadata": {
    "kernel": "R"
   },
   "outputs": [],
   "source": [
    "write.table(f3393_final, \"/mnt/mfs/statgen/UKBiobank/results/ARHI_heritability/pheno_files/090321_UKBB_Hearing_aid_f3393_expandedwhite_6436cases_96601ctrl.PC1_10.greml_pheno\", sep=\"\\t\", row.names = FALSE, col.names =TRUE, quote=FALSE)"
   ]
  },
  {
   "cell_type": "markdown",
   "id": "aaaba6da-4f0c-45f2-967f-9c524866485d",
   "metadata": {
    "kernel": "R"
   },
   "source": [
    "### PCA for f3393 common variants of the 80K samples"
   ]
  },
  {
   "cell_type": "markdown",
   "id": "ea2ae2cd-aa48-4394-9ac1-a984246f5da4",
   "metadata": {
    "kernel": "R"
   },
   "source": [
    "#### Step 1"
   ]
  },
  {
   "cell_type": "code",
   "execution_count": 4,
   "id": "2dcb0c4d-b457-44f5-9ed5-578a697b61fd",
   "metadata": {
    "kernel": "Bash",
    "tags": []
   },
   "outputs": [
    {
     "name": "stdout",
     "output_type": "stream",
     "text": [
      "INFO: Running \u001b[32mcsg\u001b[0m: Configuration for Columbia csg partition cluster\n",
      "INFO: \u001b[32mcsg\u001b[0m is \u001b[32mcompleted\u001b[0m.\n",
      "INFO: \u001b[32mcsg\u001b[0m output:   \u001b[32m/mnt/mfs/statgen/UKBiobank/results/ARHI_heritability/060722_pca_common_80K/common_pca_f3393_80K_2022-06-07.sbatch\u001b[0m\n",
      "INFO: Workflow csg (ID=w81b967b0cda647cd) is executed successfully with 1 completed step.\n",
      "\n"
     ]
    }
   ],
   "source": [
    "## Columbia's cluster\n",
    "cwd=/mnt/mfs/statgen/UKBiobank/results/ARHI_heritability/060722_pca_common_80K/f3393\n",
    "gwas_sbatch=/mnt/mfs/statgen/UKBiobank/results/ARHI_heritability/060722_pca_common_80K/common_pca_f3393_80K_$(date +\"%Y-%m-%d\").sbatch\n",
    "## Use qc'ed genotype array\n",
    "genoFile=/mnt/mfs/statgen/UKBiobank/results/ARHI_heritability/052022_ldprun_common/ukb23156_merged_eur_unrel_commonvarsMAFabove0.01.filtered.prune.bed\n",
    "keep_samples=/mnt/mfs/statgen/UKBiobank/results/ARHI_heritability/pheno_files/090321_UKBB_Hearing_aid_f3393_expandedwhite_6436cases_96601ctrl.PC1_10.80Ksubset.keep_id\n",
    "\n",
    "#GWAS QC variables set all of this variables to 0 to avoid doing more filtering\n",
    "maf_filter=0\n",
    "geno_filter=0\n",
    "hwe_filter=0\n",
    "mind_filter=0\n",
    "numThreads=1\n",
    "mem='30G'\n",
    "gwasqc_sos=~/project/xqtl-pipeline/code/data_preprocessing/genotype/GWAS_QC.ipynb\n",
    "tpl_file=~/project/bioworkflows/admin/csg.yml\n",
    "container=~/containers/bioinfo.sif\n",
    "\n",
    "gwasqc_args=\"\"\"qc:1\n",
    "    --cwd $cwd\n",
    "    --genoFile $genoFile\n",
    "    --keep_samples $keep_samples\n",
    "    --maf_filter $maf_filter\n",
    "    --geno_filter $geno_filter\n",
    "    --hwe_filter $hwe_filter\n",
    "    --mind_filter $mind_filter\n",
    "    --numThreads $numThreads \n",
    "    --container $container\n",
    "    --mem $mem\n",
    "\"\"\"\n",
    "\n",
    "sos run ~/project/UKBB_GWAS_dev/admin/Get_Job_Script.ipynb csg \\\n",
    "    --template-file $tpl_file \\\n",
    "    --workflow-file $gwasqc_sos \\\n",
    "    --to-script $gwas_sbatch \\\n",
    "    --args \"$gwasqc_args\""
   ]
  },
  {
   "cell_type": "markdown",
   "id": "0f72711a-2c7d-4037-afa2-2ae77f4b489d",
   "metadata": {
    "kernel": "R"
   },
   "source": [
    "#### Step 2"
   ]
  },
  {
   "cell_type": "code",
   "execution_count": 8,
   "id": "ce44a503-e61d-40b6-a28d-645aa897a68a",
   "metadata": {
    "kernel": "Bash"
   },
   "outputs": [
    {
     "name": "stdout",
     "output_type": "stream",
     "text": [
      "INFO: Running \u001b[32mcsg\u001b[0m: Configuration for Columbia csg partition cluster\n",
      "INFO: \u001b[32mcsg\u001b[0m is \u001b[32mcompleted\u001b[0m.\n",
      "INFO: \u001b[32mcsg\u001b[0m output:   \u001b[32m/mnt/mfs/statgen/UKBiobank/results/ARHI_heritability/060722_pca_common_80K/flashpca_f3393_common80K_2022-06-07.sbatch\u001b[0m\n",
      "INFO: Workflow csg (ID=w0d063444a8caa3d2) is executed successfully with 1 completed step.\n",
      "\n"
     ]
    }
   ],
   "source": [
    "## Columbia's cluster\n",
    "cwd=/mnt/mfs/statgen/UKBiobank/results/ARHI_heritability/060722_pca_common_80K/f3393\n",
    "#This is the bfile obtained in step 1\n",
    "genoFile=/mnt/mfs/statgen/UKBiobank/results/ARHI_heritability/060722_pca_common_80K/f3393/*.bed\n",
    "# Format FID, IID, pop\n",
    "# PC's are actually being calculated for 80K individuals that are white unrelated and have phenotype data for f3393\n",
    "phenoFile=/mnt/mfs/statgen/UKBiobank/results/083021_PCA_results/090321_UKBB_Hearing_aid_f3393_expandedwhite_6436cases_96601ctrl.phenopca\n",
    "label_col=ethnicity\n",
    "pop_col=ethnicity\n",
    "pca_sbatch=/mnt/mfs/statgen/UKBiobank/results/ARHI_heritability/052022_pca_common/flashpca_f3393_common_$(date +\"%Y-%m-%d\").sbatch\n",
    "k=10\n",
    "min_axis=0\n",
    "max_axis=0\n",
    "pca_sos=~/project/xqtl-pipeline/code/data_preprocessing/genotype/PCA.ipynb\n",
    "tpl_file=~/project/bioworkflows/admin/csg.yml\n",
    "container=~/containers/flashpcaR.sif\n",
    "\n",
    "pca_args=\"\"\"flashpca\n",
    "    --cwd $cwd\n",
    "    --genoFile $genoFile\n",
    "    --phenoFile $phenoFile\n",
    "    --k $k\n",
    "    --label_col $label_col\n",
    "    --pop_col $pop_col\n",
    "    --min_axis $min_axis\n",
    "    --max_axis $max_axis\n",
    "    --numThreads $numThreads \n",
    "    --container $container\n",
    "\"\"\"\n",
    "\n",
    "sos run  ~/project/UKBB_GWAS_dev/admin/Get_Job_Script.ipynb csg\\\n",
    "    --template-file $tpl_file \\\n",
    "    --workflow-file $pca_sos \\\n",
    "    --to-script $pca_sbatch \\\n",
    "    --args \"$pca_args\""
   ]
  },
  {
   "cell_type": "markdown",
   "id": "ac2a08db-17d8-468a-8b77-cb7f8f5e99ec",
   "metadata": {
    "kernel": "Bash"
   },
   "source": [
    "#### Get the phenotype file for GREML of the 80K"
   ]
  },
  {
   "cell_type": "code",
   "execution_count": 12,
   "id": "fdfa9d05-a1e9-4692-9c81-77daf95dc639",
   "metadata": {
    "kernel": "R",
    "tags": []
   },
   "outputs": [
    {
     "data": {
      "text/html": [
       "<table class=\"dataframe\">\n",
       "<caption>A data.frame: 6 x 5</caption>\n",
       "<thead>\n",
       "\t<tr><th></th><th scope=col>FID</th><th scope=col>IID</th><th scope=col>sex</th><th scope=col>f3393</th><th scope=col>age</th></tr>\n",
       "\t<tr><th></th><th scope=col>&lt;int&gt;</th><th scope=col>&lt;int&gt;</th><th scope=col>&lt;int&gt;</th><th scope=col>&lt;int&gt;</th><th scope=col>&lt;int&gt;</th></tr>\n",
       "</thead>\n",
       "<tbody>\n",
       "\t<tr><th scope=row>1</th><td>1001384</td><td>1001384</td><td>1</td><td>1</td><td>61</td></tr>\n",
       "\t<tr><th scope=row>2</th><td>1002548</td><td>1002548</td><td>0</td><td>1</td><td>62</td></tr>\n",
       "\t<tr><th scope=row>3</th><td>1002888</td><td>1002888</td><td>0</td><td>1</td><td>68</td></tr>\n",
       "\t<tr><th scope=row>4</th><td>1002944</td><td>1002944</td><td>0</td><td>1</td><td>65</td></tr>\n",
       "\t<tr><th scope=row>5</th><td>1003258</td><td>1003258</td><td>0</td><td>1</td><td>74</td></tr>\n",
       "\t<tr><th scope=row>6</th><td>1004843</td><td>1004843</td><td>0</td><td>1</td><td>64</td></tr>\n",
       "</tbody>\n",
       "</table>\n"
      ],
      "text/latex": [
       "A data.frame: 6 x 5\n",
       "\\begin{tabular}{r|lllll}\n",
       "  & FID & IID & sex & f3393 & age\\\\\n",
       "  & <int> & <int> & <int> & <int> & <int>\\\\\n",
       "\\hline\n",
       "\t1 & 1001384 & 1001384 & 1 & 1 & 61\\\\\n",
       "\t2 & 1002548 & 1002548 & 0 & 1 & 62\\\\\n",
       "\t3 & 1002888 & 1002888 & 0 & 1 & 68\\\\\n",
       "\t4 & 1002944 & 1002944 & 0 & 1 & 65\\\\\n",
       "\t5 & 1003258 & 1003258 & 0 & 1 & 74\\\\\n",
       "\t6 & 1004843 & 1004843 & 0 & 1 & 64\\\\\n",
       "\\end{tabular}\n"
      ],
      "text/markdown": [
       "\n",
       "A data.frame: 6 x 5\n",
       "\n",
       "| <!--/--> | FID &lt;int&gt; | IID &lt;int&gt; | sex &lt;int&gt; | f3393 &lt;int&gt; | age &lt;int&gt; |\n",
       "|---|---|---|---|---|---|\n",
       "| 1 | 1001384 | 1001384 | 1 | 1 | 61 |\n",
       "| 2 | 1002548 | 1002548 | 0 | 1 | 62 |\n",
       "| 3 | 1002888 | 1002888 | 0 | 1 | 68 |\n",
       "| 4 | 1002944 | 1002944 | 0 | 1 | 65 |\n",
       "| 5 | 1003258 | 1003258 | 0 | 1 | 74 |\n",
       "| 6 | 1004843 | 1004843 | 0 | 1 | 64 |\n",
       "\n"
      ],
      "text/plain": [
       "  FID     IID     sex f3393 age\n",
       "1 1001384 1001384 1   1     61 \n",
       "2 1002548 1002548 0   1     62 \n",
       "3 1002888 1002888 0   1     68 \n",
       "4 1002944 1002944 0   1     65 \n",
       "5 1003258 1003258 0   1     74 \n",
       "6 1004843 1004843 0   1     64 "
      ]
     },
     "metadata": {},
     "output_type": "display_data"
    },
    {
     "data": {
      "text/html": [
       "<style>\n",
       ".list-inline {list-style: none; margin:0; padding: 0}\n",
       ".list-inline>li {display: inline-block}\n",
       ".list-inline>li:not(:last-child)::after {content: \"\\00b7\"; padding: 0 .5ex}\n",
       "</style>\n",
       "<ol class=list-inline><li>103037</li><li>5</li></ol>\n"
      ],
      "text/latex": [
       "\\begin{enumerate*}\n",
       "\\item 103037\n",
       "\\item 5\n",
       "\\end{enumerate*}\n"
      ],
      "text/markdown": [
       "1. 103037\n",
       "2. 5\n",
       "\n",
       "\n"
      ],
      "text/plain": [
       "[1] 103037      5"
      ]
     },
     "metadata": {},
     "output_type": "display_data"
    }
   ],
   "source": [
    "pheno <- read.table(\"~/UKBiobank/phenotype_files/hearing_impairment/090321_UKBB_Hearing_aid_f3393_expandedwhite_6436cases_96601ctrl\", header=T)\n",
    "head(pheno)\n",
    "dim(pheno)"
   ]
  },
  {
   "cell_type": "code",
   "execution_count": 13,
   "id": "7487b9bc-6377-459e-a3e4-644551f706fa",
   "metadata": {
    "kernel": "R",
    "tags": []
   },
   "outputs": [
    {
     "data": {
      "text/html": [
       "<table class=\"dataframe\">\n",
       "<caption>A data.frame: 6 x 14</caption>\n",
       "<thead>\n",
       "\t<tr><th></th><th scope=col>ID</th><th scope=col>FID</th><th scope=col>IID</th><th scope=col>ethnicity</th><th scope=col>PC1</th><th scope=col>PC2</th><th scope=col>PC3</th><th scope=col>PC4</th><th scope=col>PC5</th><th scope=col>PC6</th><th scope=col>PC7</th><th scope=col>PC8</th><th scope=col>PC9</th><th scope=col>PC10</th></tr>\n",
       "\t<tr><th></th><th scope=col>&lt;fct&gt;</th><th scope=col>&lt;int&gt;</th><th scope=col>&lt;int&gt;</th><th scope=col>&lt;fct&gt;</th><th scope=col>&lt;dbl&gt;</th><th scope=col>&lt;dbl&gt;</th><th scope=col>&lt;dbl&gt;</th><th scope=col>&lt;dbl&gt;</th><th scope=col>&lt;dbl&gt;</th><th scope=col>&lt;dbl&gt;</th><th scope=col>&lt;dbl&gt;</th><th scope=col>&lt;dbl&gt;</th><th scope=col>&lt;dbl&gt;</th><th scope=col>&lt;dbl&gt;</th></tr>\n",
       "</thead>\n",
       "<tbody>\n",
       "\t<tr><th scope=row>1</th><td>1000081:1000081</td><td>1000081</td><td>1000081</td><td>British                   </td><td> 0.134658064</td><td> 0.014188187</td><td> 0.0135583292</td><td> 0.0143258827</td><td> 0.0085594803</td><td> 0.0075761687</td><td>-0.010186438</td><td>-0.001022228</td><td> 0.008934933</td><td>-2.508883e-03</td></tr>\n",
       "\t<tr><th scope=row>2</th><td>1000236:1000236</td><td>1000236</td><td>1000236</td><td>British                   </td><td> 0.008812187</td><td>-0.011456550</td><td>-0.0233585109</td><td> 0.0081630403</td><td>-0.0029101523</td><td>-0.0194662282</td><td> 0.007941112</td><td> 0.008567680</td><td>-0.006907107</td><td>-3.616751e-02</td></tr>\n",
       "\t<tr><th scope=row>3</th><td>1000331:1000331</td><td>1000331</td><td>1000331</td><td>Any_other_white_background</td><td> 0.080859632</td><td> 0.003496805</td><td>-0.0029620121</td><td>-0.0034742864</td><td>-0.0009168386</td><td>-0.0114138724</td><td>-0.028556378</td><td> 0.006783471</td><td>-0.013180153</td><td>-1.621851e-02</td></tr>\n",
       "\t<tr><th scope=row>4</th><td>1000340:1000340</td><td>1000340</td><td>1000340</td><td>British                   </td><td>-0.012457360</td><td> 0.005989548</td><td>-0.0095406987</td><td> 0.0009187248</td><td> 0.0026318657</td><td> 0.0071420228</td><td>-0.005840268</td><td>-0.001536171</td><td> 0.002371991</td><td>-9.876745e-05</td></tr>\n",
       "\t<tr><th scope=row>5</th><td>1000415:1000415</td><td>1000415</td><td>1000415</td><td>Irish                     </td><td>-0.018346574</td><td> 0.053126182</td><td>-0.0005572422</td><td>-0.0018209019</td><td>-0.0180591232</td><td> 0.0026329042</td><td>-0.008080767</td><td> 0.024710975</td><td>-0.001029565</td><td> 5.543847e-03</td></tr>\n",
       "\t<tr><th scope=row>6</th><td>1000421:1000421</td><td>1000421</td><td>1000421</td><td>British                   </td><td> 0.003190009</td><td> 0.025497201</td><td> 0.0111553077</td><td>-0.0079503301</td><td>-0.0092678599</td><td>-0.0002117366</td><td>-0.003330029</td><td> 0.004412672</td><td> 0.007056397</td><td>-1.543426e-02</td></tr>\n",
       "</tbody>\n",
       "</table>\n"
      ],
      "text/latex": [
       "A data.frame: 6 x 14\n",
       "\\begin{tabular}{r|llllllllllllll}\n",
       "  & ID & FID & IID & ethnicity & PC1 & PC2 & PC3 & PC4 & PC5 & PC6 & PC7 & PC8 & PC9 & PC10\\\\\n",
       "  & <fct> & <int> & <int> & <fct> & <dbl> & <dbl> & <dbl> & <dbl> & <dbl> & <dbl> & <dbl> & <dbl> & <dbl> & <dbl>\\\\\n",
       "\\hline\n",
       "\t1 & 1000081:1000081 & 1000081 & 1000081 & British                    &  0.134658064 &  0.014188187 &  0.0135583292 &  0.0143258827 &  0.0085594803 &  0.0075761687 & -0.010186438 & -0.001022228 &  0.008934933 & -2.508883e-03\\\\\n",
       "\t2 & 1000236:1000236 & 1000236 & 1000236 & British                    &  0.008812187 & -0.011456550 & -0.0233585109 &  0.0081630403 & -0.0029101523 & -0.0194662282 &  0.007941112 &  0.008567680 & -0.006907107 & -3.616751e-02\\\\\n",
       "\t3 & 1000331:1000331 & 1000331 & 1000331 & Any\\_other\\_white\\_background &  0.080859632 &  0.003496805 & -0.0029620121 & -0.0034742864 & -0.0009168386 & -0.0114138724 & -0.028556378 &  0.006783471 & -0.013180153 & -1.621851e-02\\\\\n",
       "\t4 & 1000340:1000340 & 1000340 & 1000340 & British                    & -0.012457360 &  0.005989548 & -0.0095406987 &  0.0009187248 &  0.0026318657 &  0.0071420228 & -0.005840268 & -0.001536171 &  0.002371991 & -9.876745e-05\\\\\n",
       "\t5 & 1000415:1000415 & 1000415 & 1000415 & Irish                      & -0.018346574 &  0.053126182 & -0.0005572422 & -0.0018209019 & -0.0180591232 &  0.0026329042 & -0.008080767 &  0.024710975 & -0.001029565 &  5.543847e-03\\\\\n",
       "\t6 & 1000421:1000421 & 1000421 & 1000421 & British                    &  0.003190009 &  0.025497201 &  0.0111553077 & -0.0079503301 & -0.0092678599 & -0.0002117366 & -0.003330029 &  0.004412672 &  0.007056397 & -1.543426e-02\\\\\n",
       "\\end{tabular}\n"
      ],
      "text/markdown": [
       "\n",
       "A data.frame: 6 x 14\n",
       "\n",
       "| <!--/--> | ID &lt;fct&gt; | FID &lt;int&gt; | IID &lt;int&gt; | ethnicity &lt;fct&gt; | PC1 &lt;dbl&gt; | PC2 &lt;dbl&gt; | PC3 &lt;dbl&gt; | PC4 &lt;dbl&gt; | PC5 &lt;dbl&gt; | PC6 &lt;dbl&gt; | PC7 &lt;dbl&gt; | PC8 &lt;dbl&gt; | PC9 &lt;dbl&gt; | PC10 &lt;dbl&gt; |\n",
       "|---|---|---|---|---|---|---|---|---|---|---|---|---|---|---|\n",
       "| 1 | 1000081:1000081 | 1000081 | 1000081 | British                    |  0.134658064 |  0.014188187 |  0.0135583292 |  0.0143258827 |  0.0085594803 |  0.0075761687 | -0.010186438 | -0.001022228 |  0.008934933 | -2.508883e-03 |\n",
       "| 2 | 1000236:1000236 | 1000236 | 1000236 | British                    |  0.008812187 | -0.011456550 | -0.0233585109 |  0.0081630403 | -0.0029101523 | -0.0194662282 |  0.007941112 |  0.008567680 | -0.006907107 | -3.616751e-02 |\n",
       "| 3 | 1000331:1000331 | 1000331 | 1000331 | Any_other_white_background |  0.080859632 |  0.003496805 | -0.0029620121 | -0.0034742864 | -0.0009168386 | -0.0114138724 | -0.028556378 |  0.006783471 | -0.013180153 | -1.621851e-02 |\n",
       "| 4 | 1000340:1000340 | 1000340 | 1000340 | British                    | -0.012457360 |  0.005989548 | -0.0095406987 |  0.0009187248 |  0.0026318657 |  0.0071420228 | -0.005840268 | -0.001536171 |  0.002371991 | -9.876745e-05 |\n",
       "| 5 | 1000415:1000415 | 1000415 | 1000415 | Irish                      | -0.018346574 |  0.053126182 | -0.0005572422 | -0.0018209019 | -0.0180591232 |  0.0026329042 | -0.008080767 |  0.024710975 | -0.001029565 |  5.543847e-03 |\n",
       "| 6 | 1000421:1000421 | 1000421 | 1000421 | British                    |  0.003190009 |  0.025497201 |  0.0111553077 | -0.0079503301 | -0.0092678599 | -0.0002117366 | -0.003330029 |  0.004412672 |  0.007056397 | -1.543426e-02 |\n",
       "\n"
      ],
      "text/plain": [
       "  ID              FID     IID     ethnicity                  PC1         \n",
       "1 1000081:1000081 1000081 1000081 British                     0.134658064\n",
       "2 1000236:1000236 1000236 1000236 British                     0.008812187\n",
       "3 1000331:1000331 1000331 1000331 Any_other_white_background  0.080859632\n",
       "4 1000340:1000340 1000340 1000340 British                    -0.012457360\n",
       "5 1000415:1000415 1000415 1000415 Irish                      -0.018346574\n",
       "6 1000421:1000421 1000421 1000421 British                     0.003190009\n",
       "  PC2          PC3           PC4           PC5           PC6          \n",
       "1  0.014188187  0.0135583292  0.0143258827  0.0085594803  0.0075761687\n",
       "2 -0.011456550 -0.0233585109  0.0081630403 -0.0029101523 -0.0194662282\n",
       "3  0.003496805 -0.0029620121 -0.0034742864 -0.0009168386 -0.0114138724\n",
       "4  0.005989548 -0.0095406987  0.0009187248  0.0026318657  0.0071420228\n",
       "5  0.053126182 -0.0005572422 -0.0018209019 -0.0180591232  0.0026329042\n",
       "6  0.025497201  0.0111553077 -0.0079503301 -0.0092678599 -0.0002117366\n",
       "  PC7          PC8          PC9          PC10         \n",
       "1 -0.010186438 -0.001022228  0.008934933 -2.508883e-03\n",
       "2  0.007941112  0.008567680 -0.006907107 -3.616751e-02\n",
       "3 -0.028556378  0.006783471 -0.013180153 -1.621851e-02\n",
       "4 -0.005840268 -0.001536171  0.002371991 -9.876745e-05\n",
       "5 -0.008080767  0.024710975 -0.001029565  5.543847e-03\n",
       "6 -0.003330029  0.004412672  0.007056397 -1.543426e-02"
      ]
     },
     "metadata": {},
     "output_type": "display_data"
    },
    {
     "data": {
      "text/html": [
       "<style>\n",
       ".list-inline {list-style: none; margin:0; padding: 0}\n",
       ".list-inline>li {display: inline-block}\n",
       ".list-inline>li:not(:last-child)::after {content: \"\\00b7\"; padding: 0 .5ex}\n",
       "</style>\n",
       "<ol class=list-inline><li>80000</li><li>14</li></ol>\n"
      ],
      "text/latex": [
       "\\begin{enumerate*}\n",
       "\\item 80000\n",
       "\\item 14\n",
       "\\end{enumerate*}\n"
      ],
      "text/markdown": [
       "1. 80000\n",
       "2. 14\n",
       "\n",
       "\n"
      ],
      "text/plain": [
       "[1] 80000    14"
      ]
     },
     "metadata": {},
     "output_type": "display_data"
    }
   ],
   "source": [
    "pca <- read.table(\"/mnt/mfs/statgen/UKBiobank/results/ARHI_heritability/060722_pca_common_80K/f3393/090321_UKBB_Hearing_aid_f3393_expandedwhite_6436cases_96601ctrl.pca.txt\", header=T)\n",
    "head(pca)\n",
    "dim(pca)"
   ]
  },
  {
   "cell_type": "code",
   "execution_count": 14,
   "id": "94ef51af-651d-46fa-ae39-c8923ea6bae9",
   "metadata": {
    "kernel": "R",
    "tags": []
   },
   "outputs": [
    {
     "data": {
      "text/html": [
       "<table class=\"dataframe\">\n",
       "<caption>A data.frame: 6 x 17</caption>\n",
       "<thead>\n",
       "\t<tr><th></th><th scope=col>FID</th><th scope=col>IID</th><th scope=col>sex</th><th scope=col>f3393</th><th scope=col>age</th><th scope=col>ID</th><th scope=col>ethnicity</th><th scope=col>PC1</th><th scope=col>PC2</th><th scope=col>PC3</th><th scope=col>PC4</th><th scope=col>PC5</th><th scope=col>PC6</th><th scope=col>PC7</th><th scope=col>PC8</th><th scope=col>PC9</th><th scope=col>PC10</th></tr>\n",
       "\t<tr><th></th><th scope=col>&lt;int&gt;</th><th scope=col>&lt;int&gt;</th><th scope=col>&lt;int&gt;</th><th scope=col>&lt;int&gt;</th><th scope=col>&lt;int&gt;</th><th scope=col>&lt;fct&gt;</th><th scope=col>&lt;fct&gt;</th><th scope=col>&lt;dbl&gt;</th><th scope=col>&lt;dbl&gt;</th><th scope=col>&lt;dbl&gt;</th><th scope=col>&lt;dbl&gt;</th><th scope=col>&lt;dbl&gt;</th><th scope=col>&lt;dbl&gt;</th><th scope=col>&lt;dbl&gt;</th><th scope=col>&lt;dbl&gt;</th><th scope=col>&lt;dbl&gt;</th><th scope=col>&lt;dbl&gt;</th></tr>\n",
       "</thead>\n",
       "<tbody>\n",
       "\t<tr><th scope=row>1</th><td>1000081</td><td>1000081</td><td>0</td><td>0</td><td>67</td><td>1000081:1000081</td><td>British                   </td><td> 0.134658064</td><td> 0.014188187</td><td> 0.0135583292</td><td> 0.0143258827</td><td> 0.0085594803</td><td> 0.0075761687</td><td>-0.010186438</td><td>-0.001022228</td><td> 0.008934933</td><td>-2.508883e-03</td></tr>\n",
       "\t<tr><th scope=row>2</th><td>1000236</td><td>1000236</td><td>0</td><td>0</td><td>70</td><td>1000236:1000236</td><td>British                   </td><td> 0.008812187</td><td>-0.011456550</td><td>-0.0233585109</td><td> 0.0081630403</td><td>-0.0029101523</td><td>-0.0194662282</td><td> 0.007941112</td><td> 0.008567680</td><td>-0.006907107</td><td>-3.616751e-02</td></tr>\n",
       "\t<tr><th scope=row>3</th><td>1000331</td><td>1000331</td><td>1</td><td>0</td><td>53</td><td>1000331:1000331</td><td>Any_other_white_background</td><td> 0.080859632</td><td> 0.003496805</td><td>-0.0029620121</td><td>-0.0034742864</td><td>-0.0009168386</td><td>-0.0114138724</td><td>-0.028556378</td><td> 0.006783471</td><td>-0.013180153</td><td>-1.621851e-02</td></tr>\n",
       "\t<tr><th scope=row>4</th><td>1000340</td><td>1000340</td><td>1</td><td>0</td><td>54</td><td>1000340:1000340</td><td>British                   </td><td>-0.012457360</td><td> 0.005989548</td><td>-0.0095406987</td><td> 0.0009187248</td><td> 0.0026318657</td><td> 0.0071420228</td><td>-0.005840268</td><td>-0.001536171</td><td> 0.002371991</td><td>-9.876745e-05</td></tr>\n",
       "\t<tr><th scope=row>5</th><td>1000415</td><td>1000415</td><td>0</td><td>0</td><td>65</td><td>1000415:1000415</td><td>Irish                     </td><td>-0.018346574</td><td> 0.053126182</td><td>-0.0005572422</td><td>-0.0018209019</td><td>-0.0180591232</td><td> 0.0026329042</td><td>-0.008080767</td><td> 0.024710975</td><td>-0.001029565</td><td> 5.543847e-03</td></tr>\n",
       "\t<tr><th scope=row>6</th><td>1000421</td><td>1000421</td><td>1</td><td>0</td><td>64</td><td>1000421:1000421</td><td>British                   </td><td> 0.003190009</td><td> 0.025497201</td><td> 0.0111553077</td><td>-0.0079503301</td><td>-0.0092678599</td><td>-0.0002117366</td><td>-0.003330029</td><td> 0.004412672</td><td> 0.007056397</td><td>-1.543426e-02</td></tr>\n",
       "</tbody>\n",
       "</table>\n"
      ],
      "text/latex": [
       "A data.frame: 6 x 17\n",
       "\\begin{tabular}{r|lllllllllllllllll}\n",
       "  & FID & IID & sex & f3393 & age & ID & ethnicity & PC1 & PC2 & PC3 & PC4 & PC5 & PC6 & PC7 & PC8 & PC9 & PC10\\\\\n",
       "  & <int> & <int> & <int> & <int> & <int> & <fct> & <fct> & <dbl> & <dbl> & <dbl> & <dbl> & <dbl> & <dbl> & <dbl> & <dbl> & <dbl> & <dbl>\\\\\n",
       "\\hline\n",
       "\t1 & 1000081 & 1000081 & 0 & 0 & 67 & 1000081:1000081 & British                    &  0.134658064 &  0.014188187 &  0.0135583292 &  0.0143258827 &  0.0085594803 &  0.0075761687 & -0.010186438 & -0.001022228 &  0.008934933 & -2.508883e-03\\\\\n",
       "\t2 & 1000236 & 1000236 & 0 & 0 & 70 & 1000236:1000236 & British                    &  0.008812187 & -0.011456550 & -0.0233585109 &  0.0081630403 & -0.0029101523 & -0.0194662282 &  0.007941112 &  0.008567680 & -0.006907107 & -3.616751e-02\\\\\n",
       "\t3 & 1000331 & 1000331 & 1 & 0 & 53 & 1000331:1000331 & Any\\_other\\_white\\_background &  0.080859632 &  0.003496805 & -0.0029620121 & -0.0034742864 & -0.0009168386 & -0.0114138724 & -0.028556378 &  0.006783471 & -0.013180153 & -1.621851e-02\\\\\n",
       "\t4 & 1000340 & 1000340 & 1 & 0 & 54 & 1000340:1000340 & British                    & -0.012457360 &  0.005989548 & -0.0095406987 &  0.0009187248 &  0.0026318657 &  0.0071420228 & -0.005840268 & -0.001536171 &  0.002371991 & -9.876745e-05\\\\\n",
       "\t5 & 1000415 & 1000415 & 0 & 0 & 65 & 1000415:1000415 & Irish                      & -0.018346574 &  0.053126182 & -0.0005572422 & -0.0018209019 & -0.0180591232 &  0.0026329042 & -0.008080767 &  0.024710975 & -0.001029565 &  5.543847e-03\\\\\n",
       "\t6 & 1000421 & 1000421 & 1 & 0 & 64 & 1000421:1000421 & British                    &  0.003190009 &  0.025497201 &  0.0111553077 & -0.0079503301 & -0.0092678599 & -0.0002117366 & -0.003330029 &  0.004412672 &  0.007056397 & -1.543426e-02\\\\\n",
       "\\end{tabular}\n"
      ],
      "text/markdown": [
       "\n",
       "A data.frame: 6 x 17\n",
       "\n",
       "| <!--/--> | FID &lt;int&gt; | IID &lt;int&gt; | sex &lt;int&gt; | f3393 &lt;int&gt; | age &lt;int&gt; | ID &lt;fct&gt; | ethnicity &lt;fct&gt; | PC1 &lt;dbl&gt; | PC2 &lt;dbl&gt; | PC3 &lt;dbl&gt; | PC4 &lt;dbl&gt; | PC5 &lt;dbl&gt; | PC6 &lt;dbl&gt; | PC7 &lt;dbl&gt; | PC8 &lt;dbl&gt; | PC9 &lt;dbl&gt; | PC10 &lt;dbl&gt; |\n",
       "|---|---|---|---|---|---|---|---|---|---|---|---|---|---|---|---|---|---|\n",
       "| 1 | 1000081 | 1000081 | 0 | 0 | 67 | 1000081:1000081 | British                    |  0.134658064 |  0.014188187 |  0.0135583292 |  0.0143258827 |  0.0085594803 |  0.0075761687 | -0.010186438 | -0.001022228 |  0.008934933 | -2.508883e-03 |\n",
       "| 2 | 1000236 | 1000236 | 0 | 0 | 70 | 1000236:1000236 | British                    |  0.008812187 | -0.011456550 | -0.0233585109 |  0.0081630403 | -0.0029101523 | -0.0194662282 |  0.007941112 |  0.008567680 | -0.006907107 | -3.616751e-02 |\n",
       "| 3 | 1000331 | 1000331 | 1 | 0 | 53 | 1000331:1000331 | Any_other_white_background |  0.080859632 |  0.003496805 | -0.0029620121 | -0.0034742864 | -0.0009168386 | -0.0114138724 | -0.028556378 |  0.006783471 | -0.013180153 | -1.621851e-02 |\n",
       "| 4 | 1000340 | 1000340 | 1 | 0 | 54 | 1000340:1000340 | British                    | -0.012457360 |  0.005989548 | -0.0095406987 |  0.0009187248 |  0.0026318657 |  0.0071420228 | -0.005840268 | -0.001536171 |  0.002371991 | -9.876745e-05 |\n",
       "| 5 | 1000415 | 1000415 | 0 | 0 | 65 | 1000415:1000415 | Irish                      | -0.018346574 |  0.053126182 | -0.0005572422 | -0.0018209019 | -0.0180591232 |  0.0026329042 | -0.008080767 |  0.024710975 | -0.001029565 |  5.543847e-03 |\n",
       "| 6 | 1000421 | 1000421 | 1 | 0 | 64 | 1000421:1000421 | British                    |  0.003190009 |  0.025497201 |  0.0111553077 | -0.0079503301 | -0.0092678599 | -0.0002117366 | -0.003330029 |  0.004412672 |  0.007056397 | -1.543426e-02 |\n",
       "\n"
      ],
      "text/plain": [
       "  FID     IID     sex f3393 age ID              ethnicity                 \n",
       "1 1000081 1000081 0   0     67  1000081:1000081 British                   \n",
       "2 1000236 1000236 0   0     70  1000236:1000236 British                   \n",
       "3 1000331 1000331 1   0     53  1000331:1000331 Any_other_white_background\n",
       "4 1000340 1000340 1   0     54  1000340:1000340 British                   \n",
       "5 1000415 1000415 0   0     65  1000415:1000415 Irish                     \n",
       "6 1000421 1000421 1   0     64  1000421:1000421 British                   \n",
       "  PC1          PC2          PC3           PC4           PC5          \n",
       "1  0.134658064  0.014188187  0.0135583292  0.0143258827  0.0085594803\n",
       "2  0.008812187 -0.011456550 -0.0233585109  0.0081630403 -0.0029101523\n",
       "3  0.080859632  0.003496805 -0.0029620121 -0.0034742864 -0.0009168386\n",
       "4 -0.012457360  0.005989548 -0.0095406987  0.0009187248  0.0026318657\n",
       "5 -0.018346574  0.053126182 -0.0005572422 -0.0018209019 -0.0180591232\n",
       "6  0.003190009  0.025497201  0.0111553077 -0.0079503301 -0.0092678599\n",
       "  PC6           PC7          PC8          PC9          PC10         \n",
       "1  0.0075761687 -0.010186438 -0.001022228  0.008934933 -2.508883e-03\n",
       "2 -0.0194662282  0.007941112  0.008567680 -0.006907107 -3.616751e-02\n",
       "3 -0.0114138724 -0.028556378  0.006783471 -0.013180153 -1.621851e-02\n",
       "4  0.0071420228 -0.005840268 -0.001536171  0.002371991 -9.876745e-05\n",
       "5  0.0026329042 -0.008080767  0.024710975 -0.001029565  5.543847e-03\n",
       "6 -0.0002117366 -0.003330029  0.004412672  0.007056397 -1.543426e-02"
      ]
     },
     "metadata": {},
     "output_type": "display_data"
    },
    {
     "data": {
      "text/html": [
       "<style>\n",
       ".list-inline {list-style: none; margin:0; padding: 0}\n",
       ".list-inline>li {display: inline-block}\n",
       ".list-inline>li:not(:last-child)::after {content: \"\\00b7\"; padding: 0 .5ex}\n",
       "</style>\n",
       "<ol class=list-inline><li>80000</li><li>17</li></ol>\n"
      ],
      "text/latex": [
       "\\begin{enumerate*}\n",
       "\\item 80000\n",
       "\\item 17\n",
       "\\end{enumerate*}\n"
      ],
      "text/markdown": [
       "1. 80000\n",
       "2. 17\n",
       "\n",
       "\n"
      ],
      "text/plain": [
       "[1] 80000    17"
      ]
     },
     "metadata": {},
     "output_type": "display_data"
    },
    {
     "name": "stderr",
     "output_type": "stream",
     "text": [
      "\n",
      "Attaching package: ‘dplyr’\n",
      "\n",
      "\n",
      "The following objects are masked from ‘package:stats’:\n",
      "\n",
      "    filter, lag\n",
      "\n",
      "\n",
      "The following objects are masked from ‘package:base’:\n",
      "\n",
      "    intersect, setdiff, setequal, union\n",
      "\n",
      "\n"
     ]
    },
    {
     "data": {
      "text/html": [
       "<table class=\"dataframe\">\n",
       "<caption>A data.frame: 6 x 15</caption>\n",
       "<thead>\n",
       "\t<tr><th></th><th scope=col>FID</th><th scope=col>IID</th><th scope=col>sex</th><th scope=col>f3393</th><th scope=col>age</th><th scope=col>PC1</th><th scope=col>PC2</th><th scope=col>PC3</th><th scope=col>PC4</th><th scope=col>PC5</th><th scope=col>PC6</th><th scope=col>PC7</th><th scope=col>PC8</th><th scope=col>PC9</th><th scope=col>PC10</th></tr>\n",
       "\t<tr><th></th><th scope=col>&lt;int&gt;</th><th scope=col>&lt;int&gt;</th><th scope=col>&lt;int&gt;</th><th scope=col>&lt;int&gt;</th><th scope=col>&lt;int&gt;</th><th scope=col>&lt;dbl&gt;</th><th scope=col>&lt;dbl&gt;</th><th scope=col>&lt;dbl&gt;</th><th scope=col>&lt;dbl&gt;</th><th scope=col>&lt;dbl&gt;</th><th scope=col>&lt;dbl&gt;</th><th scope=col>&lt;dbl&gt;</th><th scope=col>&lt;dbl&gt;</th><th scope=col>&lt;dbl&gt;</th><th scope=col>&lt;dbl&gt;</th></tr>\n",
       "</thead>\n",
       "<tbody>\n",
       "\t<tr><th scope=row>1</th><td>1000081</td><td>1000081</td><td>0</td><td>0</td><td>67</td><td> 0.134658064</td><td> 0.014188187</td><td> 0.0135583292</td><td> 0.0143258827</td><td> 0.0085594803</td><td> 0.0075761687</td><td>-0.010186438</td><td>-0.001022228</td><td> 0.008934933</td><td>-2.508883e-03</td></tr>\n",
       "\t<tr><th scope=row>2</th><td>1000236</td><td>1000236</td><td>0</td><td>0</td><td>70</td><td> 0.008812187</td><td>-0.011456550</td><td>-0.0233585109</td><td> 0.0081630403</td><td>-0.0029101523</td><td>-0.0194662282</td><td> 0.007941112</td><td> 0.008567680</td><td>-0.006907107</td><td>-3.616751e-02</td></tr>\n",
       "\t<tr><th scope=row>3</th><td>1000331</td><td>1000331</td><td>1</td><td>0</td><td>53</td><td> 0.080859632</td><td> 0.003496805</td><td>-0.0029620121</td><td>-0.0034742864</td><td>-0.0009168386</td><td>-0.0114138724</td><td>-0.028556378</td><td> 0.006783471</td><td>-0.013180153</td><td>-1.621851e-02</td></tr>\n",
       "\t<tr><th scope=row>4</th><td>1000340</td><td>1000340</td><td>1</td><td>0</td><td>54</td><td>-0.012457360</td><td> 0.005989548</td><td>-0.0095406987</td><td> 0.0009187248</td><td> 0.0026318657</td><td> 0.0071420228</td><td>-0.005840268</td><td>-0.001536171</td><td> 0.002371991</td><td>-9.876745e-05</td></tr>\n",
       "\t<tr><th scope=row>5</th><td>1000415</td><td>1000415</td><td>0</td><td>0</td><td>65</td><td>-0.018346574</td><td> 0.053126182</td><td>-0.0005572422</td><td>-0.0018209019</td><td>-0.0180591232</td><td> 0.0026329042</td><td>-0.008080767</td><td> 0.024710975</td><td>-0.001029565</td><td> 5.543847e-03</td></tr>\n",
       "\t<tr><th scope=row>6</th><td>1000421</td><td>1000421</td><td>1</td><td>0</td><td>64</td><td> 0.003190009</td><td> 0.025497201</td><td> 0.0111553077</td><td>-0.0079503301</td><td>-0.0092678599</td><td>-0.0002117366</td><td>-0.003330029</td><td> 0.004412672</td><td> 0.007056397</td><td>-1.543426e-02</td></tr>\n",
       "</tbody>\n",
       "</table>\n"
      ],
      "text/latex": [
       "A data.frame: 6 x 15\n",
       "\\begin{tabular}{r|lllllllllllllll}\n",
       "  & FID & IID & sex & f3393 & age & PC1 & PC2 & PC3 & PC4 & PC5 & PC6 & PC7 & PC8 & PC9 & PC10\\\\\n",
       "  & <int> & <int> & <int> & <int> & <int> & <dbl> & <dbl> & <dbl> & <dbl> & <dbl> & <dbl> & <dbl> & <dbl> & <dbl> & <dbl>\\\\\n",
       "\\hline\n",
       "\t1 & 1000081 & 1000081 & 0 & 0 & 67 &  0.134658064 &  0.014188187 &  0.0135583292 &  0.0143258827 &  0.0085594803 &  0.0075761687 & -0.010186438 & -0.001022228 &  0.008934933 & -2.508883e-03\\\\\n",
       "\t2 & 1000236 & 1000236 & 0 & 0 & 70 &  0.008812187 & -0.011456550 & -0.0233585109 &  0.0081630403 & -0.0029101523 & -0.0194662282 &  0.007941112 &  0.008567680 & -0.006907107 & -3.616751e-02\\\\\n",
       "\t3 & 1000331 & 1000331 & 1 & 0 & 53 &  0.080859632 &  0.003496805 & -0.0029620121 & -0.0034742864 & -0.0009168386 & -0.0114138724 & -0.028556378 &  0.006783471 & -0.013180153 & -1.621851e-02\\\\\n",
       "\t4 & 1000340 & 1000340 & 1 & 0 & 54 & -0.012457360 &  0.005989548 & -0.0095406987 &  0.0009187248 &  0.0026318657 &  0.0071420228 & -0.005840268 & -0.001536171 &  0.002371991 & -9.876745e-05\\\\\n",
       "\t5 & 1000415 & 1000415 & 0 & 0 & 65 & -0.018346574 &  0.053126182 & -0.0005572422 & -0.0018209019 & -0.0180591232 &  0.0026329042 & -0.008080767 &  0.024710975 & -0.001029565 &  5.543847e-03\\\\\n",
       "\t6 & 1000421 & 1000421 & 1 & 0 & 64 &  0.003190009 &  0.025497201 &  0.0111553077 & -0.0079503301 & -0.0092678599 & -0.0002117366 & -0.003330029 &  0.004412672 &  0.007056397 & -1.543426e-02\\\\\n",
       "\\end{tabular}\n"
      ],
      "text/markdown": [
       "\n",
       "A data.frame: 6 x 15\n",
       "\n",
       "| <!--/--> | FID &lt;int&gt; | IID &lt;int&gt; | sex &lt;int&gt; | f3393 &lt;int&gt; | age &lt;int&gt; | PC1 &lt;dbl&gt; | PC2 &lt;dbl&gt; | PC3 &lt;dbl&gt; | PC4 &lt;dbl&gt; | PC5 &lt;dbl&gt; | PC6 &lt;dbl&gt; | PC7 &lt;dbl&gt; | PC8 &lt;dbl&gt; | PC9 &lt;dbl&gt; | PC10 &lt;dbl&gt; |\n",
       "|---|---|---|---|---|---|---|---|---|---|---|---|---|---|---|---|\n",
       "| 1 | 1000081 | 1000081 | 0 | 0 | 67 |  0.134658064 |  0.014188187 |  0.0135583292 |  0.0143258827 |  0.0085594803 |  0.0075761687 | -0.010186438 | -0.001022228 |  0.008934933 | -2.508883e-03 |\n",
       "| 2 | 1000236 | 1000236 | 0 | 0 | 70 |  0.008812187 | -0.011456550 | -0.0233585109 |  0.0081630403 | -0.0029101523 | -0.0194662282 |  0.007941112 |  0.008567680 | -0.006907107 | -3.616751e-02 |\n",
       "| 3 | 1000331 | 1000331 | 1 | 0 | 53 |  0.080859632 |  0.003496805 | -0.0029620121 | -0.0034742864 | -0.0009168386 | -0.0114138724 | -0.028556378 |  0.006783471 | -0.013180153 | -1.621851e-02 |\n",
       "| 4 | 1000340 | 1000340 | 1 | 0 | 54 | -0.012457360 |  0.005989548 | -0.0095406987 |  0.0009187248 |  0.0026318657 |  0.0071420228 | -0.005840268 | -0.001536171 |  0.002371991 | -9.876745e-05 |\n",
       "| 5 | 1000415 | 1000415 | 0 | 0 | 65 | -0.018346574 |  0.053126182 | -0.0005572422 | -0.0018209019 | -0.0180591232 |  0.0026329042 | -0.008080767 |  0.024710975 | -0.001029565 |  5.543847e-03 |\n",
       "| 6 | 1000421 | 1000421 | 1 | 0 | 64 |  0.003190009 |  0.025497201 |  0.0111553077 | -0.0079503301 | -0.0092678599 | -0.0002117366 | -0.003330029 |  0.004412672 |  0.007056397 | -1.543426e-02 |\n",
       "\n"
      ],
      "text/plain": [
       "  FID     IID     sex f3393 age PC1          PC2          PC3          \n",
       "1 1000081 1000081 0   0     67   0.134658064  0.014188187  0.0135583292\n",
       "2 1000236 1000236 0   0     70   0.008812187 -0.011456550 -0.0233585109\n",
       "3 1000331 1000331 1   0     53   0.080859632  0.003496805 -0.0029620121\n",
       "4 1000340 1000340 1   0     54  -0.012457360  0.005989548 -0.0095406987\n",
       "5 1000415 1000415 0   0     65  -0.018346574  0.053126182 -0.0005572422\n",
       "6 1000421 1000421 1   0     64   0.003190009  0.025497201  0.0111553077\n",
       "  PC4           PC5           PC6           PC7          PC8         \n",
       "1  0.0143258827  0.0085594803  0.0075761687 -0.010186438 -0.001022228\n",
       "2  0.0081630403 -0.0029101523 -0.0194662282  0.007941112  0.008567680\n",
       "3 -0.0034742864 -0.0009168386 -0.0114138724 -0.028556378  0.006783471\n",
       "4  0.0009187248  0.0026318657  0.0071420228 -0.005840268 -0.001536171\n",
       "5 -0.0018209019 -0.0180591232  0.0026329042 -0.008080767  0.024710975\n",
       "6 -0.0079503301 -0.0092678599 -0.0002117366 -0.003330029  0.004412672\n",
       "  PC9          PC10         \n",
       "1  0.008934933 -2.508883e-03\n",
       "2 -0.006907107 -3.616751e-02\n",
       "3 -0.013180153 -1.621851e-02\n",
       "4  0.002371991 -9.876745e-05\n",
       "5 -0.001029565  5.543847e-03\n",
       "6  0.007056397 -1.543426e-02"
      ]
     },
     "metadata": {},
     "output_type": "display_data"
    }
   ],
   "source": [
    "f3393 <- merge(pheno, pca, by = c('FID', 'IID'), all.y=TRUE)\n",
    "head(f3393)\n",
    "dim(f3393)\n",
    "library(dplyr)\n",
    "f3393_final <- select(f3393, -c('ID', 'ethnicity'))\n",
    "head(f3393_final)"
   ]
  },
  {
   "cell_type": "code",
   "execution_count": 18,
   "id": "022e709b-9e23-4c96-ba31-4f25ae896abe",
   "metadata": {
    "kernel": "R"
   },
   "outputs": [],
   "source": [
    "write.table(f3393_final, \"/mnt/mfs/statgen/UKBiobank/results/ARHI_heritability/pheno_files/090321_UKBB_Hearing_aid_f3393_expandedwhite_6436cases_96601ctrl.PC1_10.common80K.greml_pheno\", sep=\"\\t\", row.names = FALSE, col.names =TRUE, quote=FALSE)"
   ]
  },
  {
   "cell_type": "markdown",
   "id": "37ac8e67-de5e-4c34-b5a0-7ec5a5fd3501",
   "metadata": {
    "kernel": "R"
   },
   "source": [
    "### PCA for f3393 rare variants in the 50K group"
   ]
  },
  {
   "cell_type": "markdown",
   "id": "918d28ef-c276-4a2b-aff1-0a967b5940a5",
   "metadata": {
    "kernel": "R"
   },
   "source": [
    "#### Step 1"
   ]
  },
  {
   "cell_type": "code",
   "execution_count": 2,
   "id": "2ed9ef7d-dede-4d89-b72f-2e27fdfdfcf6",
   "metadata": {
    "kernel": "Bash"
   },
   "outputs": [
    {
     "name": "stdout",
     "output_type": "stream",
     "text": [
      "INFO: Running \u001b[32mcsg\u001b[0m: Configuration for Columbia csg partition cluster\n",
      "INFO: \u001b[32mcsg\u001b[0m is \u001b[32mcompleted\u001b[0m.\n",
      "INFO: \u001b[32mcsg\u001b[0m output:   \u001b[32m/mnt/mfs/statgen/UKBiobank/results/ARHI_heritability/052622_pca_rare_50K/rare50K_pca_f3393_exome_2022-05-26.sbatch\u001b[0m\n",
      "INFO: Workflow csg (ID=w31b939c960d416df) is executed successfully with 1 completed step.\n",
      "\n"
     ]
    }
   ],
   "source": [
    "## Columbia's cluster\n",
    "cwd=/mnt/mfs/statgen/UKBiobank/results/ARHI_heritability/052622_pca_rare_50K/f3393\n",
    "gwas_sbatch=/mnt/mfs/statgen/UKBiobank/results/ARHI_heritability/052622_pca_rare_50K/rare50K_pca_f3393_exome_$(date +\"%Y-%m-%d\").sbatch\n",
    "## Use qc'ed genotype array\n",
    "genoFile=/mnt/mfs/statgen/UKBiobank/results/ARHI_heritability/052022_ldprun_rare/*.prune.bed\n",
    "keep_samples=/mnt/mfs/statgen/UKBiobank/results/ARHI_heritability/pheno_files/090321_UKBB_Hearing_aid_f3393_expandedwhite_6436cases_96601ctrl.PC1_10.50Ksubset.keep_id\n",
    "\n",
    "#GWAS QC variables set all of this variables to 0 to avoid doing more filtering\n",
    "maf_filter=0\n",
    "geno_filter=0\n",
    "hwe_filter=0\n",
    "mind_filter=0\n",
    "numThreads=1\n",
    "mem='30G'\n",
    "gwasqc_sos=~/project/xqtl-pipeline/code/data_preprocessing/genotype/GWAS_QC.ipynb\n",
    "tpl_file=~/project/bioworkflows/admin/csg.yml\n",
    "container=~/containers/bioinfo.sif\n",
    "\n",
    "gwasqc_args=\"\"\"qc:1\n",
    "    --cwd $cwd\n",
    "    --genoFile $genoFile\n",
    "    --keep_samples $keep_samples\n",
    "    --maf_filter $maf_filter\n",
    "    --geno_filter $geno_filter\n",
    "    --hwe_filter $hwe_filter\n",
    "    --mind_filter $mind_filter\n",
    "    --numThreads $numThreads \n",
    "    --container $container\n",
    "    --mem $mem\n",
    "\"\"\"\n",
    "\n",
    "sos run ~/project/UKBB_GWAS_dev/admin/Get_Job_Script.ipynb csg \\\n",
    "    --template-file $tpl_file \\\n",
    "    --workflow-file $gwasqc_sos \\\n",
    "    --to-script $gwas_sbatch \\\n",
    "    --args \"$gwasqc_args\""
   ]
  },
  {
   "cell_type": "markdown",
   "id": "95c55c10-972a-4cc2-9909-182b0b35415f",
   "metadata": {
    "kernel": "Bash"
   },
   "source": [
    "#### Step 2. "
   ]
  },
  {
   "cell_type": "code",
   "execution_count": 3,
   "id": "666e2122-f2f8-4438-bb44-2eb771668553",
   "metadata": {
    "kernel": "Bash"
   },
   "outputs": [
    {
     "name": "stdout",
     "output_type": "stream",
     "text": [
      "INFO: Running \u001b[32mcsg\u001b[0m: Configuration for Columbia csg partition cluster\n",
      "INFO: \u001b[32mcsg\u001b[0m is \u001b[32mcompleted\u001b[0m.\n",
      "INFO: \u001b[32mcsg\u001b[0m output:   \u001b[32m/mnt/mfs/statgen/UKBiobank/results/ARHI_heritability/052622_pca_rare_50K/flashpca_f3393_rare50k_2022-05-31.sbatch\u001b[0m\n",
      "INFO: Workflow csg (ID=w2faab7fac9677616) is executed successfully with 1 completed step.\n",
      "\n"
     ]
    }
   ],
   "source": [
    "## Columbia's cluster\n",
    "cwd=/mnt/mfs/statgen/UKBiobank/results/ARHI_heritability/052622_pca_rare_50K/f3393\n",
    "#This is the bfile obtained in step 1\n",
    "genoFile=/mnt/mfs/statgen/UKBiobank/results/ARHI_heritability/052622_pca_rare_50K/f3393/ukb23156_merged_eur_unrel_rarevarsMAFbelow0.01.filtered.prune.filtered.bed\n",
    "# Format FID, IID, pop\n",
    "phenoFile=/mnt/mfs/statgen/UKBiobank/results/083021_PCA_results/090321_UKBB_Hearing_aid_f3393_expandedwhite_6436cases_96601ctrl.phenopca\n",
    "label_col=ethnicity\n",
    "pop_col=ethnicity\n",
    "pca_sbatch=/mnt/mfs/statgen/UKBiobank/results/ARHI_heritability/052622_pca_rare_50K/flashpca_f3393_rare50k_$(date +\"%Y-%m-%d\").sbatch\n",
    "k=10\n",
    "min_axis=0\n",
    "max_axis=0\n",
    "pca_sos=~/project/xqtl-pipeline/code/data_preprocessing/genotype/PCA.ipynb\n",
    "tpl_file=~/project/bioworkflows/admin/csg.yml\n",
    "container=/mnt/vast/hpc/csg/containers/flashpcaR.sif\n",
    "walltime='60h'\n",
    "\n",
    "pca_args=\"\"\"flashpca\n",
    "    --cwd $cwd\n",
    "    --genoFile $genoFile\n",
    "    --phenoFile $phenoFile\n",
    "    --k $k\n",
    "    --label_col $label_col\n",
    "    --pop_col $pop_col\n",
    "    --min_axis $min_axis\n",
    "    --max_axis $max_axis\n",
    "    --numThreads $numThreads \n",
    "    --container $container\n",
    "    --walltime $walltime\n",
    "\"\"\"\n",
    "\n",
    "sos run  ~/project/UKBB_GWAS_dev/admin/Get_Job_Script.ipynb csg\\\n",
    "    --template-file $tpl_file \\\n",
    "    --workflow-file $pca_sos \\\n",
    "    --to-script $pca_sbatch \\\n",
    "    --args \"$pca_args\""
   ]
  },
  {
   "cell_type": "markdown",
   "id": "4761c7a8-3ddb-49fc-a273-f8cd913f999b",
   "metadata": {
    "kernel": "Bash"
   },
   "source": [
    "#### Merge the phenofile 50K with the PC calculation for the available individuals (unrelated and white European) for rare variants"
   ]
  },
  {
   "cell_type": "code",
   "execution_count": 4,
   "id": "7cc37ff2-3ef5-4b57-85c9-da10c717cd2e",
   "metadata": {
    "kernel": "R",
    "tags": []
   },
   "outputs": [
    {
     "data": {
      "text/html": [
       "<table class=\"dataframe\">\n",
       "<caption>A data.frame: 6 x 5</caption>\n",
       "<thead>\n",
       "\t<tr><th></th><th scope=col>FID</th><th scope=col>IID</th><th scope=col>sex</th><th scope=col>f3393</th><th scope=col>age</th></tr>\n",
       "\t<tr><th></th><th scope=col>&lt;int&gt;</th><th scope=col>&lt;int&gt;</th><th scope=col>&lt;int&gt;</th><th scope=col>&lt;int&gt;</th><th scope=col>&lt;int&gt;</th></tr>\n",
       "</thead>\n",
       "<tbody>\n",
       "\t<tr><th scope=row>1</th><td>1001384</td><td>1001384</td><td>1</td><td>1</td><td>61</td></tr>\n",
       "\t<tr><th scope=row>2</th><td>1002548</td><td>1002548</td><td>0</td><td>1</td><td>62</td></tr>\n",
       "\t<tr><th scope=row>3</th><td>1002888</td><td>1002888</td><td>0</td><td>1</td><td>68</td></tr>\n",
       "\t<tr><th scope=row>4</th><td>1002944</td><td>1002944</td><td>0</td><td>1</td><td>65</td></tr>\n",
       "\t<tr><th scope=row>5</th><td>1003258</td><td>1003258</td><td>0</td><td>1</td><td>74</td></tr>\n",
       "\t<tr><th scope=row>6</th><td>1004843</td><td>1004843</td><td>0</td><td>1</td><td>64</td></tr>\n",
       "</tbody>\n",
       "</table>\n"
      ],
      "text/latex": [
       "A data.frame: 6 x 5\n",
       "\\begin{tabular}{r|lllll}\n",
       "  & FID & IID & sex & f3393 & age\\\\\n",
       "  & <int> & <int> & <int> & <int> & <int>\\\\\n",
       "\\hline\n",
       "\t1 & 1001384 & 1001384 & 1 & 1 & 61\\\\\n",
       "\t2 & 1002548 & 1002548 & 0 & 1 & 62\\\\\n",
       "\t3 & 1002888 & 1002888 & 0 & 1 & 68\\\\\n",
       "\t4 & 1002944 & 1002944 & 0 & 1 & 65\\\\\n",
       "\t5 & 1003258 & 1003258 & 0 & 1 & 74\\\\\n",
       "\t6 & 1004843 & 1004843 & 0 & 1 & 64\\\\\n",
       "\\end{tabular}\n"
      ],
      "text/markdown": [
       "\n",
       "A data.frame: 6 x 5\n",
       "\n",
       "| <!--/--> | FID &lt;int&gt; | IID &lt;int&gt; | sex &lt;int&gt; | f3393 &lt;int&gt; | age &lt;int&gt; |\n",
       "|---|---|---|---|---|---|\n",
       "| 1 | 1001384 | 1001384 | 1 | 1 | 61 |\n",
       "| 2 | 1002548 | 1002548 | 0 | 1 | 62 |\n",
       "| 3 | 1002888 | 1002888 | 0 | 1 | 68 |\n",
       "| 4 | 1002944 | 1002944 | 0 | 1 | 65 |\n",
       "| 5 | 1003258 | 1003258 | 0 | 1 | 74 |\n",
       "| 6 | 1004843 | 1004843 | 0 | 1 | 64 |\n",
       "\n"
      ],
      "text/plain": [
       "  FID     IID     sex f3393 age\n",
       "1 1001384 1001384 1   1     61 \n",
       "2 1002548 1002548 0   1     62 \n",
       "3 1002888 1002888 0   1     68 \n",
       "4 1002944 1002944 0   1     65 \n",
       "5 1003258 1003258 0   1     74 \n",
       "6 1004843 1004843 0   1     64 "
      ]
     },
     "metadata": {},
     "output_type": "display_data"
    },
    {
     "data": {
      "text/html": [
       "<style>\n",
       ".list-inline {list-style: none; margin:0; padding: 0}\n",
       ".list-inline>li {display: inline-block}\n",
       ".list-inline>li:not(:last-child)::after {content: \"\\00b7\"; padding: 0 .5ex}\n",
       "</style>\n",
       "<ol class=list-inline><li>103037</li><li>5</li></ol>\n"
      ],
      "text/latex": [
       "\\begin{enumerate*}\n",
       "\\item 103037\n",
       "\\item 5\n",
       "\\end{enumerate*}\n"
      ],
      "text/markdown": [
       "1. 103037\n",
       "2. 5\n",
       "\n",
       "\n"
      ],
      "text/plain": [
       "[1] 103037      5"
      ]
     },
     "metadata": {},
     "output_type": "display_data"
    }
   ],
   "source": [
    "pheno <- read.table(\"~/UKBiobank/phenotype_files/hearing_impairment/090321_UKBB_Hearing_aid_f3393_expandedwhite_6436cases_96601ctrl\", header=T)\n",
    "head(pheno)\n",
    "dim(pheno)"
   ]
  },
  {
   "cell_type": "code",
   "execution_count": 5,
   "id": "f54a930c-58ca-4853-b56a-714b6588dd6a",
   "metadata": {
    "kernel": "R",
    "tags": []
   },
   "outputs": [
    {
     "data": {
      "text/html": [
       "<table class=\"dataframe\">\n",
       "<caption>A data.frame: 6 x 14</caption>\n",
       "<thead>\n",
       "\t<tr><th></th><th scope=col>ID</th><th scope=col>FID</th><th scope=col>IID</th><th scope=col>ethnicity</th><th scope=col>PC1</th><th scope=col>PC2</th><th scope=col>PC3</th><th scope=col>PC4</th><th scope=col>PC5</th><th scope=col>PC6</th><th scope=col>PC7</th><th scope=col>PC8</th><th scope=col>PC9</th><th scope=col>PC10</th></tr>\n",
       "\t<tr><th></th><th scope=col>&lt;fct&gt;</th><th scope=col>&lt;int&gt;</th><th scope=col>&lt;int&gt;</th><th scope=col>&lt;fct&gt;</th><th scope=col>&lt;dbl&gt;</th><th scope=col>&lt;dbl&gt;</th><th scope=col>&lt;dbl&gt;</th><th scope=col>&lt;dbl&gt;</th><th scope=col>&lt;dbl&gt;</th><th scope=col>&lt;dbl&gt;</th><th scope=col>&lt;dbl&gt;</th><th scope=col>&lt;dbl&gt;</th><th scope=col>&lt;dbl&gt;</th><th scope=col>&lt;dbl&gt;</th></tr>\n",
       "</thead>\n",
       "<tbody>\n",
       "\t<tr><th scope=row>1</th><td>1000081:1000081</td><td>1000081</td><td>1000081</td><td>British                   </td><td>-0.0019568461</td><td>-3.087856e-04</td><td>-0.0020169598</td><td>-1.798777e-03</td><td> 1.177783e-03</td><td>-0.0033622210</td><td> 0.0121367445</td><td>-0.0020889197</td><td>-0.0056102374</td><td> 7.451252e-04</td></tr>\n",
       "\t<tr><th scope=row>2</th><td>1000331:1000331</td><td>1000331</td><td>1000331</td><td>Any_other_white_background</td><td>-0.0004171203</td><td>-1.401596e-04</td><td>-0.0003095201</td><td>-2.111360e-04</td><td> 6.992100e-04</td><td>-0.0036493841</td><td> 0.0039540739</td><td>-0.0017140885</td><td>-0.0034396176</td><td>-1.264749e-03</td></tr>\n",
       "\t<tr><th scope=row>3</th><td>1000340:1000340</td><td>1000340</td><td>1000340</td><td>British                   </td><td> 0.0001734360</td><td> 5.561481e-05</td><td> 0.0001703869</td><td> 6.928099e-05</td><td>-9.218887e-05</td><td> 0.0002012874</td><td>-0.0005118113</td><td> 0.0001987724</td><td> 0.0002680850</td><td>-1.621820e-04</td></tr>\n",
       "\t<tr><th scope=row>4</th><td>1000421:1000421</td><td>1000421</td><td>1000421</td><td>British                   </td><td> 0.0002647704</td><td> 9.941067e-05</td><td> 0.0002086665</td><td> 1.034935e-04</td><td>-8.353187e-05</td><td> 0.0002334827</td><td>-0.0004849626</td><td> 0.0003358854</td><td> 0.0006122641</td><td> 1.673864e-04</td></tr>\n",
       "\t<tr><th scope=row>5</th><td>1000439:1000439</td><td>1000439</td><td>1000439</td><td>British                   </td><td> 0.0002492869</td><td> 1.016217e-04</td><td> 0.0001869445</td><td> 1.501699e-04</td><td>-1.035148e-04</td><td> 0.0001889980</td><td>-0.0005558054</td><td> 0.0001782244</td><td> 0.0001964613</td><td> 8.653552e-05</td></tr>\n",
       "\t<tr><th scope=row>6</th><td>1000752:1000752</td><td>1000752</td><td>1000752</td><td>British                   </td><td> 0.0001850879</td><td> 7.896201e-05</td><td> 0.0001708455</td><td> 1.109150e-04</td><td>-2.766921e-05</td><td> 0.0002038623</td><td>-0.0006285896</td><td> 0.0002629819</td><td> 0.0001643356</td><td>-2.829154e-05</td></tr>\n",
       "</tbody>\n",
       "</table>\n"
      ],
      "text/latex": [
       "A data.frame: 6 x 14\n",
       "\\begin{tabular}{r|llllllllllllll}\n",
       "  & ID & FID & IID & ethnicity & PC1 & PC2 & PC3 & PC4 & PC5 & PC6 & PC7 & PC8 & PC9 & PC10\\\\\n",
       "  & <fct> & <int> & <int> & <fct> & <dbl> & <dbl> & <dbl> & <dbl> & <dbl> & <dbl> & <dbl> & <dbl> & <dbl> & <dbl>\\\\\n",
       "\\hline\n",
       "\t1 & 1000081:1000081 & 1000081 & 1000081 & British                    & -0.0019568461 & -3.087856e-04 & -0.0020169598 & -1.798777e-03 &  1.177783e-03 & -0.0033622210 &  0.0121367445 & -0.0020889197 & -0.0056102374 &  7.451252e-04\\\\\n",
       "\t2 & 1000331:1000331 & 1000331 & 1000331 & Any\\_other\\_white\\_background & -0.0004171203 & -1.401596e-04 & -0.0003095201 & -2.111360e-04 &  6.992100e-04 & -0.0036493841 &  0.0039540739 & -0.0017140885 & -0.0034396176 & -1.264749e-03\\\\\n",
       "\t3 & 1000340:1000340 & 1000340 & 1000340 & British                    &  0.0001734360 &  5.561481e-05 &  0.0001703869 &  6.928099e-05 & -9.218887e-05 &  0.0002012874 & -0.0005118113 &  0.0001987724 &  0.0002680850 & -1.621820e-04\\\\\n",
       "\t4 & 1000421:1000421 & 1000421 & 1000421 & British                    &  0.0002647704 &  9.941067e-05 &  0.0002086665 &  1.034935e-04 & -8.353187e-05 &  0.0002334827 & -0.0004849626 &  0.0003358854 &  0.0006122641 &  1.673864e-04\\\\\n",
       "\t5 & 1000439:1000439 & 1000439 & 1000439 & British                    &  0.0002492869 &  1.016217e-04 &  0.0001869445 &  1.501699e-04 & -1.035148e-04 &  0.0001889980 & -0.0005558054 &  0.0001782244 &  0.0001964613 &  8.653552e-05\\\\\n",
       "\t6 & 1000752:1000752 & 1000752 & 1000752 & British                    &  0.0001850879 &  7.896201e-05 &  0.0001708455 &  1.109150e-04 & -2.766921e-05 &  0.0002038623 & -0.0006285896 &  0.0002629819 &  0.0001643356 & -2.829154e-05\\\\\n",
       "\\end{tabular}\n"
      ],
      "text/markdown": [
       "\n",
       "A data.frame: 6 x 14\n",
       "\n",
       "| <!--/--> | ID &lt;fct&gt; | FID &lt;int&gt; | IID &lt;int&gt; | ethnicity &lt;fct&gt; | PC1 &lt;dbl&gt; | PC2 &lt;dbl&gt; | PC3 &lt;dbl&gt; | PC4 &lt;dbl&gt; | PC5 &lt;dbl&gt; | PC6 &lt;dbl&gt; | PC7 &lt;dbl&gt; | PC8 &lt;dbl&gt; | PC9 &lt;dbl&gt; | PC10 &lt;dbl&gt; |\n",
       "|---|---|---|---|---|---|---|---|---|---|---|---|---|---|---|\n",
       "| 1 | 1000081:1000081 | 1000081 | 1000081 | British                    | -0.0019568461 | -3.087856e-04 | -0.0020169598 | -1.798777e-03 |  1.177783e-03 | -0.0033622210 |  0.0121367445 | -0.0020889197 | -0.0056102374 |  7.451252e-04 |\n",
       "| 2 | 1000331:1000331 | 1000331 | 1000331 | Any_other_white_background | -0.0004171203 | -1.401596e-04 | -0.0003095201 | -2.111360e-04 |  6.992100e-04 | -0.0036493841 |  0.0039540739 | -0.0017140885 | -0.0034396176 | -1.264749e-03 |\n",
       "| 3 | 1000340:1000340 | 1000340 | 1000340 | British                    |  0.0001734360 |  5.561481e-05 |  0.0001703869 |  6.928099e-05 | -9.218887e-05 |  0.0002012874 | -0.0005118113 |  0.0001987724 |  0.0002680850 | -1.621820e-04 |\n",
       "| 4 | 1000421:1000421 | 1000421 | 1000421 | British                    |  0.0002647704 |  9.941067e-05 |  0.0002086665 |  1.034935e-04 | -8.353187e-05 |  0.0002334827 | -0.0004849626 |  0.0003358854 |  0.0006122641 |  1.673864e-04 |\n",
       "| 5 | 1000439:1000439 | 1000439 | 1000439 | British                    |  0.0002492869 |  1.016217e-04 |  0.0001869445 |  1.501699e-04 | -1.035148e-04 |  0.0001889980 | -0.0005558054 |  0.0001782244 |  0.0001964613 |  8.653552e-05 |\n",
       "| 6 | 1000752:1000752 | 1000752 | 1000752 | British                    |  0.0001850879 |  7.896201e-05 |  0.0001708455 |  1.109150e-04 | -2.766921e-05 |  0.0002038623 | -0.0006285896 |  0.0002629819 |  0.0001643356 | -2.829154e-05 |\n",
       "\n"
      ],
      "text/plain": [
       "  ID              FID     IID     ethnicity                  PC1          \n",
       "1 1000081:1000081 1000081 1000081 British                    -0.0019568461\n",
       "2 1000331:1000331 1000331 1000331 Any_other_white_background -0.0004171203\n",
       "3 1000340:1000340 1000340 1000340 British                     0.0001734360\n",
       "4 1000421:1000421 1000421 1000421 British                     0.0002647704\n",
       "5 1000439:1000439 1000439 1000439 British                     0.0002492869\n",
       "6 1000752:1000752 1000752 1000752 British                     0.0001850879\n",
       "  PC2           PC3           PC4           PC5           PC6          \n",
       "1 -3.087856e-04 -0.0020169598 -1.798777e-03  1.177783e-03 -0.0033622210\n",
       "2 -1.401596e-04 -0.0003095201 -2.111360e-04  6.992100e-04 -0.0036493841\n",
       "3  5.561481e-05  0.0001703869  6.928099e-05 -9.218887e-05  0.0002012874\n",
       "4  9.941067e-05  0.0002086665  1.034935e-04 -8.353187e-05  0.0002334827\n",
       "5  1.016217e-04  0.0001869445  1.501699e-04 -1.035148e-04  0.0001889980\n",
       "6  7.896201e-05  0.0001708455  1.109150e-04 -2.766921e-05  0.0002038623\n",
       "  PC7           PC8           PC9           PC10         \n",
       "1  0.0121367445 -0.0020889197 -0.0056102374  7.451252e-04\n",
       "2  0.0039540739 -0.0017140885 -0.0034396176 -1.264749e-03\n",
       "3 -0.0005118113  0.0001987724  0.0002680850 -1.621820e-04\n",
       "4 -0.0004849626  0.0003358854  0.0006122641  1.673864e-04\n",
       "5 -0.0005558054  0.0001782244  0.0001964613  8.653552e-05\n",
       "6 -0.0006285896  0.0002629819  0.0001643356 -2.829154e-05"
      ]
     },
     "metadata": {},
     "output_type": "display_data"
    },
    {
     "data": {
      "text/html": [
       "<style>\n",
       ".list-inline {list-style: none; margin:0; padding: 0}\n",
       ".list-inline>li {display: inline-block}\n",
       ".list-inline>li:not(:last-child)::after {content: \"\\00b7\"; padding: 0 .5ex}\n",
       "</style>\n",
       "<ol class=list-inline><li>50000</li><li>14</li></ol>\n"
      ],
      "text/latex": [
       "\\begin{enumerate*}\n",
       "\\item 50000\n",
       "\\item 14\n",
       "\\end{enumerate*}\n"
      ],
      "text/markdown": [
       "1. 50000\n",
       "2. 14\n",
       "\n",
       "\n"
      ],
      "text/plain": [
       "[1] 50000    14"
      ]
     },
     "metadata": {},
     "output_type": "display_data"
    }
   ],
   "source": [
    "pca <- read.table(\"~/UKBiobank/results/ARHI_heritability/052622_pca_rare_50K/f3393/090321_UKBB_Hearing_aid_f3393_expandedwhite_6436cases_96601ctrl.pca.txt\", header=T)\n",
    "head(pca)\n",
    "dim(pca)"
   ]
  },
  {
   "cell_type": "code",
   "execution_count": 6,
   "id": "35661b8c-f6b4-40d0-b315-cb2e6f1876bb",
   "metadata": {
    "kernel": "R",
    "tags": []
   },
   "outputs": [
    {
     "data": {
      "text/html": [
       "<table class=\"dataframe\">\n",
       "<caption>A data.frame: 6 x 17</caption>\n",
       "<thead>\n",
       "\t<tr><th></th><th scope=col>FID</th><th scope=col>IID</th><th scope=col>sex</th><th scope=col>f3393</th><th scope=col>age</th><th scope=col>ID</th><th scope=col>ethnicity</th><th scope=col>PC1</th><th scope=col>PC2</th><th scope=col>PC3</th><th scope=col>PC4</th><th scope=col>PC5</th><th scope=col>PC6</th><th scope=col>PC7</th><th scope=col>PC8</th><th scope=col>PC9</th><th scope=col>PC10</th></tr>\n",
       "\t<tr><th></th><th scope=col>&lt;int&gt;</th><th scope=col>&lt;int&gt;</th><th scope=col>&lt;int&gt;</th><th scope=col>&lt;int&gt;</th><th scope=col>&lt;int&gt;</th><th scope=col>&lt;fct&gt;</th><th scope=col>&lt;fct&gt;</th><th scope=col>&lt;dbl&gt;</th><th scope=col>&lt;dbl&gt;</th><th scope=col>&lt;dbl&gt;</th><th scope=col>&lt;dbl&gt;</th><th scope=col>&lt;dbl&gt;</th><th scope=col>&lt;dbl&gt;</th><th scope=col>&lt;dbl&gt;</th><th scope=col>&lt;dbl&gt;</th><th scope=col>&lt;dbl&gt;</th><th scope=col>&lt;dbl&gt;</th></tr>\n",
       "</thead>\n",
       "<tbody>\n",
       "\t<tr><th scope=row>1</th><td>1000081</td><td>1000081</td><td>0</td><td>0</td><td>67</td><td>1000081:1000081</td><td>British                   </td><td>-0.0019568461</td><td>-3.087856e-04</td><td>-0.0020169598</td><td>-1.798777e-03</td><td> 1.177783e-03</td><td>-0.0033622210</td><td> 0.0121367445</td><td>-0.0020889197</td><td>-0.0056102374</td><td> 7.451252e-04</td></tr>\n",
       "\t<tr><th scope=row>2</th><td>1000331</td><td>1000331</td><td>1</td><td>0</td><td>53</td><td>1000331:1000331</td><td>Any_other_white_background</td><td>-0.0004171203</td><td>-1.401596e-04</td><td>-0.0003095201</td><td>-2.111360e-04</td><td> 6.992100e-04</td><td>-0.0036493841</td><td> 0.0039540739</td><td>-0.0017140885</td><td>-0.0034396176</td><td>-1.264749e-03</td></tr>\n",
       "\t<tr><th scope=row>3</th><td>1000340</td><td>1000340</td><td>1</td><td>0</td><td>54</td><td>1000340:1000340</td><td>British                   </td><td> 0.0001734360</td><td> 5.561481e-05</td><td> 0.0001703869</td><td> 6.928099e-05</td><td>-9.218887e-05</td><td> 0.0002012874</td><td>-0.0005118113</td><td> 0.0001987724</td><td> 0.0002680850</td><td>-1.621820e-04</td></tr>\n",
       "\t<tr><th scope=row>4</th><td>1000421</td><td>1000421</td><td>1</td><td>0</td><td>64</td><td>1000421:1000421</td><td>British                   </td><td> 0.0002647704</td><td> 9.941067e-05</td><td> 0.0002086665</td><td> 1.034935e-04</td><td>-8.353187e-05</td><td> 0.0002334827</td><td>-0.0004849626</td><td> 0.0003358854</td><td> 0.0006122641</td><td> 1.673864e-04</td></tr>\n",
       "\t<tr><th scope=row>5</th><td>1000439</td><td>1000439</td><td>1</td><td>0</td><td>59</td><td>1000439:1000439</td><td>British                   </td><td> 0.0002492869</td><td> 1.016217e-04</td><td> 0.0001869445</td><td> 1.501699e-04</td><td>-1.035148e-04</td><td> 0.0001889980</td><td>-0.0005558054</td><td> 0.0001782244</td><td> 0.0001964613</td><td> 8.653552e-05</td></tr>\n",
       "\t<tr><th scope=row>6</th><td>1000752</td><td>1000752</td><td>1</td><td>0</td><td>53</td><td>1000752:1000752</td><td>British                   </td><td> 0.0001850879</td><td> 7.896201e-05</td><td> 0.0001708455</td><td> 1.109150e-04</td><td>-2.766921e-05</td><td> 0.0002038623</td><td>-0.0006285896</td><td> 0.0002629819</td><td> 0.0001643356</td><td>-2.829154e-05</td></tr>\n",
       "</tbody>\n",
       "</table>\n"
      ],
      "text/latex": [
       "A data.frame: 6 x 17\n",
       "\\begin{tabular}{r|lllllllllllllllll}\n",
       "  & FID & IID & sex & f3393 & age & ID & ethnicity & PC1 & PC2 & PC3 & PC4 & PC5 & PC6 & PC7 & PC8 & PC9 & PC10\\\\\n",
       "  & <int> & <int> & <int> & <int> & <int> & <fct> & <fct> & <dbl> & <dbl> & <dbl> & <dbl> & <dbl> & <dbl> & <dbl> & <dbl> & <dbl> & <dbl>\\\\\n",
       "\\hline\n",
       "\t1 & 1000081 & 1000081 & 0 & 0 & 67 & 1000081:1000081 & British                    & -0.0019568461 & -3.087856e-04 & -0.0020169598 & -1.798777e-03 &  1.177783e-03 & -0.0033622210 &  0.0121367445 & -0.0020889197 & -0.0056102374 &  7.451252e-04\\\\\n",
       "\t2 & 1000331 & 1000331 & 1 & 0 & 53 & 1000331:1000331 & Any\\_other\\_white\\_background & -0.0004171203 & -1.401596e-04 & -0.0003095201 & -2.111360e-04 &  6.992100e-04 & -0.0036493841 &  0.0039540739 & -0.0017140885 & -0.0034396176 & -1.264749e-03\\\\\n",
       "\t3 & 1000340 & 1000340 & 1 & 0 & 54 & 1000340:1000340 & British                    &  0.0001734360 &  5.561481e-05 &  0.0001703869 &  6.928099e-05 & -9.218887e-05 &  0.0002012874 & -0.0005118113 &  0.0001987724 &  0.0002680850 & -1.621820e-04\\\\\n",
       "\t4 & 1000421 & 1000421 & 1 & 0 & 64 & 1000421:1000421 & British                    &  0.0002647704 &  9.941067e-05 &  0.0002086665 &  1.034935e-04 & -8.353187e-05 &  0.0002334827 & -0.0004849626 &  0.0003358854 &  0.0006122641 &  1.673864e-04\\\\\n",
       "\t5 & 1000439 & 1000439 & 1 & 0 & 59 & 1000439:1000439 & British                    &  0.0002492869 &  1.016217e-04 &  0.0001869445 &  1.501699e-04 & -1.035148e-04 &  0.0001889980 & -0.0005558054 &  0.0001782244 &  0.0001964613 &  8.653552e-05\\\\\n",
       "\t6 & 1000752 & 1000752 & 1 & 0 & 53 & 1000752:1000752 & British                    &  0.0001850879 &  7.896201e-05 &  0.0001708455 &  1.109150e-04 & -2.766921e-05 &  0.0002038623 & -0.0006285896 &  0.0002629819 &  0.0001643356 & -2.829154e-05\\\\\n",
       "\\end{tabular}\n"
      ],
      "text/markdown": [
       "\n",
       "A data.frame: 6 x 17\n",
       "\n",
       "| <!--/--> | FID &lt;int&gt; | IID &lt;int&gt; | sex &lt;int&gt; | f3393 &lt;int&gt; | age &lt;int&gt; | ID &lt;fct&gt; | ethnicity &lt;fct&gt; | PC1 &lt;dbl&gt; | PC2 &lt;dbl&gt; | PC3 &lt;dbl&gt; | PC4 &lt;dbl&gt; | PC5 &lt;dbl&gt; | PC6 &lt;dbl&gt; | PC7 &lt;dbl&gt; | PC8 &lt;dbl&gt; | PC9 &lt;dbl&gt; | PC10 &lt;dbl&gt; |\n",
       "|---|---|---|---|---|---|---|---|---|---|---|---|---|---|---|---|---|---|\n",
       "| 1 | 1000081 | 1000081 | 0 | 0 | 67 | 1000081:1000081 | British                    | -0.0019568461 | -3.087856e-04 | -0.0020169598 | -1.798777e-03 |  1.177783e-03 | -0.0033622210 |  0.0121367445 | -0.0020889197 | -0.0056102374 |  7.451252e-04 |\n",
       "| 2 | 1000331 | 1000331 | 1 | 0 | 53 | 1000331:1000331 | Any_other_white_background | -0.0004171203 | -1.401596e-04 | -0.0003095201 | -2.111360e-04 |  6.992100e-04 | -0.0036493841 |  0.0039540739 | -0.0017140885 | -0.0034396176 | -1.264749e-03 |\n",
       "| 3 | 1000340 | 1000340 | 1 | 0 | 54 | 1000340:1000340 | British                    |  0.0001734360 |  5.561481e-05 |  0.0001703869 |  6.928099e-05 | -9.218887e-05 |  0.0002012874 | -0.0005118113 |  0.0001987724 |  0.0002680850 | -1.621820e-04 |\n",
       "| 4 | 1000421 | 1000421 | 1 | 0 | 64 | 1000421:1000421 | British                    |  0.0002647704 |  9.941067e-05 |  0.0002086665 |  1.034935e-04 | -8.353187e-05 |  0.0002334827 | -0.0004849626 |  0.0003358854 |  0.0006122641 |  1.673864e-04 |\n",
       "| 5 | 1000439 | 1000439 | 1 | 0 | 59 | 1000439:1000439 | British                    |  0.0002492869 |  1.016217e-04 |  0.0001869445 |  1.501699e-04 | -1.035148e-04 |  0.0001889980 | -0.0005558054 |  0.0001782244 |  0.0001964613 |  8.653552e-05 |\n",
       "| 6 | 1000752 | 1000752 | 1 | 0 | 53 | 1000752:1000752 | British                    |  0.0001850879 |  7.896201e-05 |  0.0001708455 |  1.109150e-04 | -2.766921e-05 |  0.0002038623 | -0.0006285896 |  0.0002629819 |  0.0001643356 | -2.829154e-05 |\n",
       "\n"
      ],
      "text/plain": [
       "  FID     IID     sex f3393 age ID              ethnicity                 \n",
       "1 1000081 1000081 0   0     67  1000081:1000081 British                   \n",
       "2 1000331 1000331 1   0     53  1000331:1000331 Any_other_white_background\n",
       "3 1000340 1000340 1   0     54  1000340:1000340 British                   \n",
       "4 1000421 1000421 1   0     64  1000421:1000421 British                   \n",
       "5 1000439 1000439 1   0     59  1000439:1000439 British                   \n",
       "6 1000752 1000752 1   0     53  1000752:1000752 British                   \n",
       "  PC1           PC2           PC3           PC4           PC5          \n",
       "1 -0.0019568461 -3.087856e-04 -0.0020169598 -1.798777e-03  1.177783e-03\n",
       "2 -0.0004171203 -1.401596e-04 -0.0003095201 -2.111360e-04  6.992100e-04\n",
       "3  0.0001734360  5.561481e-05  0.0001703869  6.928099e-05 -9.218887e-05\n",
       "4  0.0002647704  9.941067e-05  0.0002086665  1.034935e-04 -8.353187e-05\n",
       "5  0.0002492869  1.016217e-04  0.0001869445  1.501699e-04 -1.035148e-04\n",
       "6  0.0001850879  7.896201e-05  0.0001708455  1.109150e-04 -2.766921e-05\n",
       "  PC6           PC7           PC8           PC9           PC10         \n",
       "1 -0.0033622210  0.0121367445 -0.0020889197 -0.0056102374  7.451252e-04\n",
       "2 -0.0036493841  0.0039540739 -0.0017140885 -0.0034396176 -1.264749e-03\n",
       "3  0.0002012874 -0.0005118113  0.0001987724  0.0002680850 -1.621820e-04\n",
       "4  0.0002334827 -0.0004849626  0.0003358854  0.0006122641  1.673864e-04\n",
       "5  0.0001889980 -0.0005558054  0.0001782244  0.0001964613  8.653552e-05\n",
       "6  0.0002038623 -0.0006285896  0.0002629819  0.0001643356 -2.829154e-05"
      ]
     },
     "metadata": {},
     "output_type": "display_data"
    },
    {
     "data": {
      "text/html": [
       "<style>\n",
       ".list-inline {list-style: none; margin:0; padding: 0}\n",
       ".list-inline>li {display: inline-block}\n",
       ".list-inline>li:not(:last-child)::after {content: \"\\00b7\"; padding: 0 .5ex}\n",
       "</style>\n",
       "<ol class=list-inline><li>50000</li><li>17</li></ol>\n"
      ],
      "text/latex": [
       "\\begin{enumerate*}\n",
       "\\item 50000\n",
       "\\item 17\n",
       "\\end{enumerate*}\n"
      ],
      "text/markdown": [
       "1. 50000\n",
       "2. 17\n",
       "\n",
       "\n"
      ],
      "text/plain": [
       "[1] 50000    17"
      ]
     },
     "metadata": {},
     "output_type": "display_data"
    },
    {
     "name": "stderr",
     "output_type": "stream",
     "text": [
      "\n",
      "Attaching package: ‘dplyr’\n",
      "\n",
      "\n",
      "The following objects are masked from ‘package:stats’:\n",
      "\n",
      "    filter, lag\n",
      "\n",
      "\n",
      "The following objects are masked from ‘package:base’:\n",
      "\n",
      "    intersect, setdiff, setequal, union\n",
      "\n",
      "\n"
     ]
    },
    {
     "data": {
      "text/html": [
       "<table class=\"dataframe\">\n",
       "<caption>A data.frame: 6 x 15</caption>\n",
       "<thead>\n",
       "\t<tr><th></th><th scope=col>FID</th><th scope=col>IID</th><th scope=col>sex</th><th scope=col>f3393</th><th scope=col>age</th><th scope=col>PC1</th><th scope=col>PC2</th><th scope=col>PC3</th><th scope=col>PC4</th><th scope=col>PC5</th><th scope=col>PC6</th><th scope=col>PC7</th><th scope=col>PC8</th><th scope=col>PC9</th><th scope=col>PC10</th></tr>\n",
       "\t<tr><th></th><th scope=col>&lt;int&gt;</th><th scope=col>&lt;int&gt;</th><th scope=col>&lt;int&gt;</th><th scope=col>&lt;int&gt;</th><th scope=col>&lt;int&gt;</th><th scope=col>&lt;dbl&gt;</th><th scope=col>&lt;dbl&gt;</th><th scope=col>&lt;dbl&gt;</th><th scope=col>&lt;dbl&gt;</th><th scope=col>&lt;dbl&gt;</th><th scope=col>&lt;dbl&gt;</th><th scope=col>&lt;dbl&gt;</th><th scope=col>&lt;dbl&gt;</th><th scope=col>&lt;dbl&gt;</th><th scope=col>&lt;dbl&gt;</th></tr>\n",
       "</thead>\n",
       "<tbody>\n",
       "\t<tr><th scope=row>1</th><td>1000081</td><td>1000081</td><td>0</td><td>0</td><td>67</td><td>-0.0019568461</td><td>-3.087856e-04</td><td>-0.0020169598</td><td>-1.798777e-03</td><td> 1.177783e-03</td><td>-0.0033622210</td><td> 0.0121367445</td><td>-0.0020889197</td><td>-0.0056102374</td><td> 7.451252e-04</td></tr>\n",
       "\t<tr><th scope=row>2</th><td>1000331</td><td>1000331</td><td>1</td><td>0</td><td>53</td><td>-0.0004171203</td><td>-1.401596e-04</td><td>-0.0003095201</td><td>-2.111360e-04</td><td> 6.992100e-04</td><td>-0.0036493841</td><td> 0.0039540739</td><td>-0.0017140885</td><td>-0.0034396176</td><td>-1.264749e-03</td></tr>\n",
       "\t<tr><th scope=row>3</th><td>1000340</td><td>1000340</td><td>1</td><td>0</td><td>54</td><td> 0.0001734360</td><td> 5.561481e-05</td><td> 0.0001703869</td><td> 6.928099e-05</td><td>-9.218887e-05</td><td> 0.0002012874</td><td>-0.0005118113</td><td> 0.0001987724</td><td> 0.0002680850</td><td>-1.621820e-04</td></tr>\n",
       "\t<tr><th scope=row>4</th><td>1000421</td><td>1000421</td><td>1</td><td>0</td><td>64</td><td> 0.0002647704</td><td> 9.941067e-05</td><td> 0.0002086665</td><td> 1.034935e-04</td><td>-8.353187e-05</td><td> 0.0002334827</td><td>-0.0004849626</td><td> 0.0003358854</td><td> 0.0006122641</td><td> 1.673864e-04</td></tr>\n",
       "\t<tr><th scope=row>5</th><td>1000439</td><td>1000439</td><td>1</td><td>0</td><td>59</td><td> 0.0002492869</td><td> 1.016217e-04</td><td> 0.0001869445</td><td> 1.501699e-04</td><td>-1.035148e-04</td><td> 0.0001889980</td><td>-0.0005558054</td><td> 0.0001782244</td><td> 0.0001964613</td><td> 8.653552e-05</td></tr>\n",
       "\t<tr><th scope=row>6</th><td>1000752</td><td>1000752</td><td>1</td><td>0</td><td>53</td><td> 0.0001850879</td><td> 7.896201e-05</td><td> 0.0001708455</td><td> 1.109150e-04</td><td>-2.766921e-05</td><td> 0.0002038623</td><td>-0.0006285896</td><td> 0.0002629819</td><td> 0.0001643356</td><td>-2.829154e-05</td></tr>\n",
       "</tbody>\n",
       "</table>\n"
      ],
      "text/latex": [
       "A data.frame: 6 x 15\n",
       "\\begin{tabular}{r|lllllllllllllll}\n",
       "  & FID & IID & sex & f3393 & age & PC1 & PC2 & PC3 & PC4 & PC5 & PC6 & PC7 & PC8 & PC9 & PC10\\\\\n",
       "  & <int> & <int> & <int> & <int> & <int> & <dbl> & <dbl> & <dbl> & <dbl> & <dbl> & <dbl> & <dbl> & <dbl> & <dbl> & <dbl>\\\\\n",
       "\\hline\n",
       "\t1 & 1000081 & 1000081 & 0 & 0 & 67 & -0.0019568461 & -3.087856e-04 & -0.0020169598 & -1.798777e-03 &  1.177783e-03 & -0.0033622210 &  0.0121367445 & -0.0020889197 & -0.0056102374 &  7.451252e-04\\\\\n",
       "\t2 & 1000331 & 1000331 & 1 & 0 & 53 & -0.0004171203 & -1.401596e-04 & -0.0003095201 & -2.111360e-04 &  6.992100e-04 & -0.0036493841 &  0.0039540739 & -0.0017140885 & -0.0034396176 & -1.264749e-03\\\\\n",
       "\t3 & 1000340 & 1000340 & 1 & 0 & 54 &  0.0001734360 &  5.561481e-05 &  0.0001703869 &  6.928099e-05 & -9.218887e-05 &  0.0002012874 & -0.0005118113 &  0.0001987724 &  0.0002680850 & -1.621820e-04\\\\\n",
       "\t4 & 1000421 & 1000421 & 1 & 0 & 64 &  0.0002647704 &  9.941067e-05 &  0.0002086665 &  1.034935e-04 & -8.353187e-05 &  0.0002334827 & -0.0004849626 &  0.0003358854 &  0.0006122641 &  1.673864e-04\\\\\n",
       "\t5 & 1000439 & 1000439 & 1 & 0 & 59 &  0.0002492869 &  1.016217e-04 &  0.0001869445 &  1.501699e-04 & -1.035148e-04 &  0.0001889980 & -0.0005558054 &  0.0001782244 &  0.0001964613 &  8.653552e-05\\\\\n",
       "\t6 & 1000752 & 1000752 & 1 & 0 & 53 &  0.0001850879 &  7.896201e-05 &  0.0001708455 &  1.109150e-04 & -2.766921e-05 &  0.0002038623 & -0.0006285896 &  0.0002629819 &  0.0001643356 & -2.829154e-05\\\\\n",
       "\\end{tabular}\n"
      ],
      "text/markdown": [
       "\n",
       "A data.frame: 6 x 15\n",
       "\n",
       "| <!--/--> | FID &lt;int&gt; | IID &lt;int&gt; | sex &lt;int&gt; | f3393 &lt;int&gt; | age &lt;int&gt; | PC1 &lt;dbl&gt; | PC2 &lt;dbl&gt; | PC3 &lt;dbl&gt; | PC4 &lt;dbl&gt; | PC5 &lt;dbl&gt; | PC6 &lt;dbl&gt; | PC7 &lt;dbl&gt; | PC8 &lt;dbl&gt; | PC9 &lt;dbl&gt; | PC10 &lt;dbl&gt; |\n",
       "|---|---|---|---|---|---|---|---|---|---|---|---|---|---|---|---|\n",
       "| 1 | 1000081 | 1000081 | 0 | 0 | 67 | -0.0019568461 | -3.087856e-04 | -0.0020169598 | -1.798777e-03 |  1.177783e-03 | -0.0033622210 |  0.0121367445 | -0.0020889197 | -0.0056102374 |  7.451252e-04 |\n",
       "| 2 | 1000331 | 1000331 | 1 | 0 | 53 | -0.0004171203 | -1.401596e-04 | -0.0003095201 | -2.111360e-04 |  6.992100e-04 | -0.0036493841 |  0.0039540739 | -0.0017140885 | -0.0034396176 | -1.264749e-03 |\n",
       "| 3 | 1000340 | 1000340 | 1 | 0 | 54 |  0.0001734360 |  5.561481e-05 |  0.0001703869 |  6.928099e-05 | -9.218887e-05 |  0.0002012874 | -0.0005118113 |  0.0001987724 |  0.0002680850 | -1.621820e-04 |\n",
       "| 4 | 1000421 | 1000421 | 1 | 0 | 64 |  0.0002647704 |  9.941067e-05 |  0.0002086665 |  1.034935e-04 | -8.353187e-05 |  0.0002334827 | -0.0004849626 |  0.0003358854 |  0.0006122641 |  1.673864e-04 |\n",
       "| 5 | 1000439 | 1000439 | 1 | 0 | 59 |  0.0002492869 |  1.016217e-04 |  0.0001869445 |  1.501699e-04 | -1.035148e-04 |  0.0001889980 | -0.0005558054 |  0.0001782244 |  0.0001964613 |  8.653552e-05 |\n",
       "| 6 | 1000752 | 1000752 | 1 | 0 | 53 |  0.0001850879 |  7.896201e-05 |  0.0001708455 |  1.109150e-04 | -2.766921e-05 |  0.0002038623 | -0.0006285896 |  0.0002629819 |  0.0001643356 | -2.829154e-05 |\n",
       "\n"
      ],
      "text/plain": [
       "  FID     IID     sex f3393 age PC1           PC2           PC3          \n",
       "1 1000081 1000081 0   0     67  -0.0019568461 -3.087856e-04 -0.0020169598\n",
       "2 1000331 1000331 1   0     53  -0.0004171203 -1.401596e-04 -0.0003095201\n",
       "3 1000340 1000340 1   0     54   0.0001734360  5.561481e-05  0.0001703869\n",
       "4 1000421 1000421 1   0     64   0.0002647704  9.941067e-05  0.0002086665\n",
       "5 1000439 1000439 1   0     59   0.0002492869  1.016217e-04  0.0001869445\n",
       "6 1000752 1000752 1   0     53   0.0001850879  7.896201e-05  0.0001708455\n",
       "  PC4           PC5           PC6           PC7           PC8          \n",
       "1 -1.798777e-03  1.177783e-03 -0.0033622210  0.0121367445 -0.0020889197\n",
       "2 -2.111360e-04  6.992100e-04 -0.0036493841  0.0039540739 -0.0017140885\n",
       "3  6.928099e-05 -9.218887e-05  0.0002012874 -0.0005118113  0.0001987724\n",
       "4  1.034935e-04 -8.353187e-05  0.0002334827 -0.0004849626  0.0003358854\n",
       "5  1.501699e-04 -1.035148e-04  0.0001889980 -0.0005558054  0.0001782244\n",
       "6  1.109150e-04 -2.766921e-05  0.0002038623 -0.0006285896  0.0002629819\n",
       "  PC9           PC10         \n",
       "1 -0.0056102374  7.451252e-04\n",
       "2 -0.0034396176 -1.264749e-03\n",
       "3  0.0002680850 -1.621820e-04\n",
       "4  0.0006122641  1.673864e-04\n",
       "5  0.0001964613  8.653552e-05\n",
       "6  0.0001643356 -2.829154e-05"
      ]
     },
     "metadata": {},
     "output_type": "display_data"
    }
   ],
   "source": [
    "f3393 <- merge(pheno, pca, by = c('FID', 'IID'), all.y=TRUE)\n",
    "head(f3393)\n",
    "dim(f3393)\n",
    "library(dplyr)\n",
    "f3393_final <- select(f3393, -c('ID', 'ethnicity'))\n",
    "head(f3393_final)"
   ]
  },
  {
   "cell_type": "code",
   "execution_count": 7,
   "id": "24f51c44-5854-469c-8e53-83f6b9904d22",
   "metadata": {
    "kernel": "R"
   },
   "outputs": [],
   "source": [
    "write.table(f3393_final, \"/mnt/mfs/statgen/UKBiobank/results/ARHI_heritability/pheno_files/090321_UKBB_Hearing_aid_f3393_expandedwhite_6436cases_96601ctrl.PC1_10.greml_pheno_rarevars\", sep=\"\\t\", row.names = FALSE, col.names =TRUE, quote=FALSE)"
   ]
  },
  {
   "cell_type": "markdown",
   "id": "7a9e2629-3349-4436-bc77-6d703bc26033",
   "metadata": {
    "kernel": "R"
   },
   "source": [
    "### PCA for f3393 rare variants in the 80K group"
   ]
  },
  {
   "cell_type": "markdown",
   "id": "dc34e219-03ce-4899-ac1b-2cd21f48a6f5",
   "metadata": {
    "kernel": "R"
   },
   "source": [
    "#### Step 1"
   ]
  },
  {
   "cell_type": "code",
   "execution_count": 11,
   "id": "ec933d82-9262-4e44-9288-b77ea8de09ce",
   "metadata": {
    "kernel": "Bash",
    "tags": []
   },
   "outputs": [
    {
     "name": "stdout",
     "output_type": "stream",
     "text": [
      "INFO: Running \u001b[32mcsg\u001b[0m: Configuration for Columbia csg partition cluster\n",
      "INFO: \u001b[32mcsg\u001b[0m (index=0) is \u001b[32mignored\u001b[0m due to saved signature\n",
      "INFO: \u001b[32mcsg\u001b[0m output:   \u001b[32m/mnt/mfs/statgen/UKBiobank/results/ARHI_heritability/060722_pca_rare_80K/rare80K_pca_f3393_exome_2022-06-07.sbatch\u001b[0m\n",
      "INFO: Workflow csg (ID=wa733fe160ca0d594) is ignored with 1 ignored step.\n",
      "\n"
     ]
    }
   ],
   "source": [
    "## Columbia's cluster\n",
    "cwd=/mnt/mfs/statgen/UKBiobank/results/ARHI_heritability/060722_pca_rare_80K/f3393\n",
    "gwas_sbatch=/mnt/mfs/statgen/UKBiobank/results/ARHI_heritability/060722_pca_rare_80K/rare80K_pca_f3393_exome_$(date +\"%Y-%m-%d\").sbatch\n",
    "## Use qc'ed genotype array\n",
    "genoFile=/mnt/mfs/statgen/UKBiobank/results/ARHI_heritability/052022_ldprun_rare/*.prune.bed\n",
    "keep_samples=/mnt/mfs/statgen/UKBiobank/results/ARHI_heritability/pheno_files/090321_UKBB_Hearing_aid_f3393_expandedwhite_6436cases_96601ctrl.PC1_10.80Ksubset.keep_id\n",
    "\n",
    "#GWAS QC variables set all of this variables to 0 to avoid doing more filtering\n",
    "maf_filter=0\n",
    "geno_filter=0\n",
    "hwe_filter=0\n",
    "mind_filter=0\n",
    "numThreads=1\n",
    "mem='30G'\n",
    "gwasqc_sos=~/project/xqtl-pipeline/code/data_preprocessing/genotype/GWAS_QC.ipynb\n",
    "tpl_file=~/project/bioworkflows/admin/csg.yml\n",
    "container=~/containers/bioinfo.sif\n",
    "\n",
    "gwasqc_args=\"\"\"qc:1\n",
    "    --cwd $cwd\n",
    "    --genoFile $genoFile\n",
    "    --keep_samples $keep_samples\n",
    "    --maf_filter $maf_filter\n",
    "    --geno_filter $geno_filter\n",
    "    --hwe_filter $hwe_filter\n",
    "    --mind_filter $mind_filter\n",
    "    --numThreads $numThreads \n",
    "    --container $container\n",
    "    --mem $mem\n",
    "\"\"\"\n",
    "\n",
    "sos run ~/project/UKBB_GWAS_dev/admin/Get_Job_Script.ipynb csg \\\n",
    "    --template-file $tpl_file \\\n",
    "    --workflow-file $gwasqc_sos \\\n",
    "    --to-script $gwas_sbatch \\\n",
    "    --args \"$gwasqc_args\""
   ]
  },
  {
   "cell_type": "markdown",
   "id": "c54d845b-f415-47fc-b671-7fd9170f5595",
   "metadata": {
    "kernel": "Bash"
   },
   "source": [
    "#### Step 2"
   ]
  },
  {
   "cell_type": "code",
   "execution_count": 22,
   "id": "6dc74021-9388-4f07-bc8d-f4433e1034b8",
   "metadata": {
    "kernel": "Bash"
   },
   "outputs": [
    {
     "name": "stdout",
     "output_type": "stream",
     "text": [
      "INFO: Running \u001b[32mcsg\u001b[0m: Configuration for Columbia csg partition cluster\n",
      "INFO: \u001b[32mcsg\u001b[0m is \u001b[32mcompleted\u001b[0m.\n",
      "INFO: \u001b[32mcsg\u001b[0m output:   \u001b[32m/mnt/mfs/statgen/UKBiobank/results/ARHI_heritability/060722_pca_rare_80K/flashpca_f3393_rare80k_2022-06-07.sbatch\u001b[0m\n",
      "INFO: Workflow csg (ID=w64f9966a6e8ac734) is executed successfully with 1 completed step.\n",
      "\n"
     ]
    }
   ],
   "source": [
    "## Columbia's cluster\n",
    "cwd=/mnt/mfs/statgen/UKBiobank/results/ARHI_heritability/060722_pca_rare_80K/f3393\n",
    "#This is the bfile obtained in step 1\n",
    "genoFile=/mnt/mfs/statgen/UKBiobank/results/ARHI_heritability/060722_pca_rare_80K/f3393/ukb23156_merged_eur_unrel_rarevarsMAFbelow0.01.filtered.prune.filtered.bed\n",
    "# Format FID, IID, pop\n",
    "phenoFile=/mnt/mfs/statgen/UKBiobank/results/083021_PCA_results/090321_UKBB_Hearing_aid_f3393_expandedwhite_6436cases_96601ctrl.phenopca\n",
    "label_col=ethnicity\n",
    "pop_col=ethnicity\n",
    "pca_sbatch=/mnt/mfs/statgen/UKBiobank/results/ARHI_heritability/060722_pca_rare_80K/flashpca_f3393_rare80k_$(date +\"%Y-%m-%d\").sbatch\n",
    "k=10\n",
    "min_axis=0\n",
    "max_axis=0\n",
    "pca_sos=~/project/xqtl-pipeline/code/data_preprocessing/genotype/PCA.ipynb\n",
    "tpl_file=~/project/bioworkflows/admin/csg.yml\n",
    "container=/mnt/vast/hpc/csg/containers/flashpcaR.sif\n",
    "walltime='60h'\n",
    "\n",
    "pca_args=\"\"\"flashpca\n",
    "    --cwd $cwd\n",
    "    --genoFile $genoFile\n",
    "    --phenoFile $phenoFile\n",
    "    --k $k\n",
    "    --label_col $label_col\n",
    "    --pop_col $pop_col\n",
    "    --min_axis $min_axis\n",
    "    --max_axis $max_axis\n",
    "    --numThreads $numThreads \n",
    "    --container $container\n",
    "    --walltime $walltime\n",
    "\"\"\"\n",
    "\n",
    "sos run  ~/project/UKBB_GWAS_dev/admin/Get_Job_Script.ipynb csg\\\n",
    "    --template-file $tpl_file \\\n",
    "    --workflow-file $pca_sos \\\n",
    "    --to-script $pca_sbatch \\\n",
    "    --args \"$pca_args\""
   ]
  },
  {
   "cell_type": "markdown",
   "id": "ecda8099-dbb4-42bd-85ce-c316b43c0647",
   "metadata": {
    "kernel": "Bash"
   },
   "source": [
    "# Calculate the heritability\n",
    "\n",
    "For a case-control study it should be estimated like\n",
    "\n",
    "```\n",
    "gcta64 --grm test --pheno test_cc.phen --reml --prevalence 0.01 --out test --thread-num 10\n",
    "```"
   ]
  },
  {
   "cell_type": "markdown",
   "id": "b8af2890-97c6-4356-8bc5-e514009d5941",
   "metadata": {
    "kernel": "R"
   },
   "source": [
    "## f3393 common variants"
   ]
  },
  {
   "cell_type": "markdown",
   "id": "db8619ad-de00-4184-a54a-e252ec6473dc",
   "metadata": {
    "kernel": "Bash"
   },
   "source": [
    "### Generate a random sample of 50.000 and 80.000 individuals for GREML computation"
   ]
  },
  {
   "cell_type": "code",
   "execution_count": 1,
   "id": "f540c0bf-21be-47b0-8492-5f51f2f8de85",
   "metadata": {
    "kernel": "Bash",
    "tags": []
   },
   "outputs": [
    {
     "name": "stdout",
     "output_type": "stream",
     "text": [
      "\n"
     ]
    },
    {
     "name": "stderr",
     "output_type": "stream",
     "text": [
      "/home/dmc2245/miniconda3/lib/python3.8/site-packages/sos_notebook/kernel.py:1334: DeprecationWarning: Kernel._parent_header is deprecated in ipykernel 6. Use .get_parent()\n",
      "  msg['msg_id'] = self._parent_header['header']['msg_id']\n"
     ]
    }
   ],
   "source": [
    "export LD_LIBRARY_PATH=$LD_LIBRARY_PATH:/mnt/mfs/cluster/R-Deb10_Libs"
   ]
  },
  {
   "cell_type": "code",
   "execution_count": 1,
   "id": "790b9387-afdc-445e-a245-d6ac34641cf1",
   "metadata": {
    "kernel": "R",
    "tags": []
   },
   "outputs": [
    {
     "name": "stderr",
     "output_type": "stream",
     "text": [
      "/home/dmc2245/miniconda3/lib/python3.8/site-packages/sos_notebook/kernel.py:1334: DeprecationWarning: Kernel._parent_header is deprecated in ipykernel 6. Use .get_parent()\n",
      "  msg['msg_id'] = self._parent_header['header']['msg_id']\n"
     ]
    }
   ],
   "source": [
    "pheno <- read.table(\"/mnt/mfs/statgen/UKBiobank/results/ARHI_heritability/pheno_files/090321_UKBB_Hearing_aid_f3393_expandedwhite_6436cases_96601ctrl.PC1_10.greml_pheno\", header=T)\n",
    "head(pheno)"
   ]
  },
  {
   "cell_type": "code",
   "execution_count": 8,
   "id": "b98f07d7-09a8-4940-b4d1-cee18c419bdd",
   "metadata": {
    "kernel": "R",
    "tags": []
   },
   "outputs": [],
   "source": [
    "# Get a subset of 50K individuals\n",
    "subset_ind <- pheno[sample(nrow(pheno), 50000), ]\n",
    "nrow(subset_ind)"
   ]
  },
  {
   "cell_type": "code",
   "execution_count": 2,
   "id": "0e7e8364-5c50-4fea-bcb2-632a42f4fe1d",
   "metadata": {
    "kernel": "R"
   },
   "outputs": [
    {
     "data": {
      "text/html": [
       "80000"
      ],
      "text/latex": [
       "80000"
      ],
      "text/markdown": [
       "80000"
      ],
      "text/plain": [
       "[1] 80000"
      ]
     },
     "metadata": {},
     "output_type": "display_data"
    }
   ],
   "source": [
    "# Get a subset of 80K individuals\n",
    "subset_ind <- pheno[sample(nrow(pheno), 80000), ]\n",
    "nrow(subset_ind)"
   ]
  },
  {
   "cell_type": "code",
   "execution_count": 4,
   "id": "a6993c5d-76d3-404b-a45c-3b4f99e23e5a",
   "metadata": {
    "kernel": "R"
   },
   "outputs": [],
   "source": [
    "keep_samples <- subset_ind[, c('FID', 'IID')]"
   ]
  },
  {
   "cell_type": "code",
   "execution_count": 5,
   "id": "4c248749-854b-4b37-b8b8-e0e3837ccf64",
   "metadata": {
    "kernel": "R"
   },
   "outputs": [
    {
     "data": {
      "text/html": [
       "<table class=\"dataframe\">\n",
       "<caption>A data.frame: 6 x 2</caption>\n",
       "<thead>\n",
       "\t<tr><th></th><th scope=col>FID</th><th scope=col>IID</th></tr>\n",
       "\t<tr><th></th><th scope=col>&lt;int&gt;</th><th scope=col>&lt;int&gt;</th></tr>\n",
       "</thead>\n",
       "<tbody>\n",
       "\t<tr><th scope=row>90075</th><td>5921756</td><td>5921756</td></tr>\n",
       "\t<tr><th scope=row>44900</th><td>3455376</td><td>3455376</td></tr>\n",
       "\t<tr><th scope=row>49091</th><td>3689005</td><td>3689005</td></tr>\n",
       "\t<tr><th scope=row>32700</th><td>2784217</td><td>2784217</td></tr>\n",
       "\t<tr><th scope=row>10668</th><td>1582481</td><td>1582481</td></tr>\n",
       "\t<tr><th scope=row>3703</th><td>1202137</td><td>1202137</td></tr>\n",
       "</tbody>\n",
       "</table>\n"
      ],
      "text/latex": [
       "A data.frame: 6 x 2\n",
       "\\begin{tabular}{r|ll}\n",
       "  & FID & IID\\\\\n",
       "  & <int> & <int>\\\\\n",
       "\\hline\n",
       "\t90075 & 5921756 & 5921756\\\\\n",
       "\t44900 & 3455376 & 3455376\\\\\n",
       "\t49091 & 3689005 & 3689005\\\\\n",
       "\t32700 & 2784217 & 2784217\\\\\n",
       "\t10668 & 1582481 & 1582481\\\\\n",
       "\t3703 & 1202137 & 1202137\\\\\n",
       "\\end{tabular}\n"
      ],
      "text/markdown": [
       "\n",
       "A data.frame: 6 x 2\n",
       "\n",
       "| <!--/--> | FID &lt;int&gt; | IID &lt;int&gt; |\n",
       "|---|---|---|\n",
       "| 90075 | 5921756 | 5921756 |\n",
       "| 44900 | 3455376 | 3455376 |\n",
       "| 49091 | 3689005 | 3689005 |\n",
       "| 32700 | 2784217 | 2784217 |\n",
       "| 10668 | 1582481 | 1582481 |\n",
       "| 3703 | 1202137 | 1202137 |\n",
       "\n"
      ],
      "text/plain": [
       "      FID     IID    \n",
       "90075 5921756 5921756\n",
       "44900 3455376 3455376\n",
       "49091 3689005 3689005\n",
       "32700 2784217 2784217\n",
       "10668 1582481 1582481\n",
       "3703  1202137 1202137"
      ]
     },
     "metadata": {},
     "output_type": "display_data"
    }
   ],
   "source": [
    "head(keep_samples)"
   ]
  },
  {
   "cell_type": "code",
   "execution_count": 17,
   "id": "726e9fe5-9d74-463b-9f56-a00d85dc15f5",
   "metadata": {
    "kernel": "R"
   },
   "outputs": [],
   "source": [
    "# Write to a file for the 50K individuals\n",
    "write.table(keep_samples, \"/mnt/mfs/statgen/UKBiobank/results/ARHI_heritability/pheno_files/090321_UKBB_Hearing_aid_f3393_expandedwhite_6436cases_96601ctrl.PC1_10.50Ksubset.keep_id\", sep=\"\\t\", row.names = FALSE, col.names =FALSE, quote=FALSE)"
   ]
  },
  {
   "cell_type": "code",
   "execution_count": 6,
   "id": "e54e7b26-8201-4ade-b38c-7752ad8a597b",
   "metadata": {
    "kernel": "R"
   },
   "outputs": [],
   "source": [
    "# Write to a file for the 80K individuals\n",
    "write.table(keep_samples, \"/mnt/mfs/statgen/UKBiobank/results/ARHI_heritability/pheno_files/090321_UKBB_Hearing_aid_f3393_expandedwhite_6436cases_96601ctrl.PC1_10.80Ksubset.keep_id\", sep=\"\\t\", row.names = FALSE, col.names =FALSE, quote=FALSE)"
   ]
  },
  {
   "cell_type": "markdown",
   "id": "57733fb3-0b09-4a31-bb3c-1f2081af4071",
   "metadata": {
    "kernel": "R"
   },
   "source": [
    "### Select the 50K samples from the GRM \n",
    "\n",
    "This did not work, I could not subset the individuals from the already created GRM"
   ]
  },
  {
   "cell_type": "code",
   "execution_count": 18,
   "id": "53c4683d-23cb-4fd2-b0c4-c7d7123b7b85",
   "metadata": {
    "kernel": "Bash"
   },
   "outputs": [
    {
     "name": "stdout",
     "output_type": "stream",
     "text": [
      "INFO: Running \u001b[32mcsg\u001b[0m: Configuration for Columbia csg partition cluster\n",
      "INFO: \u001b[32mcsg\u001b[0m is \u001b[32mcompleted\u001b[0m.\n",
      "INFO: \u001b[32mcsg\u001b[0m output:   \u001b[32m/mnt/mfs/statgen/UKBiobank/results/ARHI_heritability/50K_greml/f3393_greml_common50K_2022-05-25.sbatch\u001b[0m\n",
      "INFO: Workflow csg (ID=wd0fabc9ffcf610d1) is executed successfully with 1 completed step.\n",
      "\n"
     ]
    }
   ],
   "source": [
    "## Columbia's cluster\n",
    "cwd=/mnt/mfs/statgen/UKBiobank/results/ARHI_heritability/50K_greml\n",
    "#This is the bfile obtained in step 1\n",
    "grm=/mnt/mfs/statgen/UKBiobank/results/ARHI_heritability/052022_grm_common/ukb23156_merged_eur_unrel_commonvarsMAFabove0.01.grm.bin\n",
    "# Format FID, IID, pop\n",
    "keep_samples=/mnt/mfs/statgen/UKBiobank/results/ARHI_heritability/pheno_files/090321_UKBB_Hearing_aid_f3393_expandedwhite_6436cases_96601ctrl.PC1_10.50Ksubset.keep_id\n",
    "grm_sbatch=/mnt/mfs/statgen/UKBiobank/results/ARHI_heritability/50K_greml/f3393_greml_common50K_$(date +\"%Y-%m-%d\").sbatch\n",
    "greml_sos=~/project/UKBB_GWAS_dev/workflow/GREML.ipynb\n",
    "tpl_file=~/project/bioworkflows/admin/csg.yml\n",
    "container=~/containers/lmm.sif\n",
    "phenoFile=/mnt/mfs/statgen/UKBiobank/results/ARHI_heritability/pheno_files/090321_UKBB_Hearing_aid_f3393_expandedwhite_6436cases_96601ctrl.PC1_10.50Ksubset.greml_pheno\n",
    "phenoCol=f3393\n",
    "name=50Ksubset\n",
    "mem='50G'\n",
    "\n",
    "grm_args=\"\"\"grm_processing\n",
    "    --cwd $cwd\n",
    "    --grm $grm\n",
    "    --keep_samples $keep_samples\n",
    "    --phenoFile $phenoFile\n",
    "    --phenoCol $phenoCol\n",
    "    --name $name\n",
    "    --container $container\n",
    "    --mem $mem\n",
    "\"\"\"\n",
    "\n",
    "sos run  ~/project/UKBB_GWAS_dev/admin/Get_Job_Script.ipynb csg\\\n",
    "    --template-file $tpl_file \\\n",
    "    --workflow-file $greml_sos \\\n",
    "    --to-script $grm_sbatch \\\n",
    "    --args \"$grm_args\""
   ]
  },
  {
   "cell_type": "markdown",
   "id": "4c277385-cbbe-4ecd-82eb-a66c9eea2464",
   "metadata": {
    "kernel": "Bash"
   },
   "source": [
    "#### Recalculate GRM for 50K"
   ]
  },
  {
   "cell_type": "code",
   "execution_count": 1,
   "id": "70d6d288-012c-4e53-aca6-7cb3396a9de3",
   "metadata": {
    "kernel": "Bash"
   },
   "outputs": [
    {
     "name": "stderr",
     "output_type": "stream",
     "text": [
      "/home/dmc2245/miniconda3/lib/python3.8/site-packages/sos_notebook/kernel.py:1334: DeprecationWarning: Kernel._parent_header is deprecated in ipykernel 6. Use .get_parent()\n",
      "  msg['msg_id'] = self._parent_header['header']['msg_id']\n"
     ]
    },
    {
     "name": "stdout",
     "output_type": "stream",
     "text": [
      "INFO: Running \u001b[32mcsg\u001b[0m: Configuration for Columbia csg partition cluster\n",
      "INFO: \u001b[32mcsg\u001b[0m is \u001b[32mcompleted\u001b[0m.\n",
      "INFO: \u001b[32mcsg\u001b[0m output:   \u001b[32m/mnt/mfs/statgen/UKBiobank/results/ARHI_heritability/052522_grm_common_50K/commonvars_eur_unrel_gtca_50K_2022-05-26.sbatch\u001b[0m\n",
      "INFO: Workflow csg (ID=w3fa3dd1b77d3c0aa) is executed successfully with 1 completed step.\n"
     ]
    }
   ],
   "source": [
    "bfile=~/UKBiobank/results/ARHI_heritability/051922_merged_bed/ukb23156_merged_eur_unrel_commonvarsMAFabove0.01.bed\n",
    "cwd=/mnt/mfs/statgen/UKBiobank/results/ARHI_heritability/052522_grm_common_50K\n",
    "numThreads=20\n",
    "gcta_sbatch=/mnt/mfs/statgen/UKBiobank/results/ARHI_heritability/052522_grm_common_50K/commonvars_eur_unrel_gtca_50K_$(date +\"%Y-%m-%d\").sbatch\n",
    "gcta_sos=~/project/bioworkflows/GWAS/LMM.ipynb\n",
    "tpl_file=~/project/bioworkflows/admin/csg.yml\n",
    "container=~/containers/lmm.sif\n",
    "#Phenofile is just inputed as a requirement for the LMM to run but it is not actually needed for GRM calculation\n",
    "phenoFile=/mnt/mfs/statgen/UKBiobank/phenotype_files/hearing_impairment/090321_UKBB_Hearing_aid_f3393_expandedwhite_6436cases_96601ctrl_PC1_2.tsv\n",
    "phenoCol=f3393\n",
    "covarCol=sex\n",
    "qCovarCol=\"age PC1 PC2\"\n",
    "mem='8G'\n",
    "walltime='48h'\n",
    "keep_samples=/mnt/mfs/statgen/UKBiobank/results/ARHI_heritability/pheno_files/090321_UKBB_Hearing_aid_f3393_expandedwhite_6436cases_96601ctrl.PC1_10.50Ksubset.keep_id\n",
    "\n",
    "gcta_args=\"\"\"gcta\n",
    "    --cwd $cwd\n",
    "    --bfile $bfile\n",
    "    --phenoFile $phenoFile\n",
    "    --phenoCol $phenoCol\n",
    "    --covarCol $covarCol\n",
    "    --qCovarCol $qCovarCol\n",
    "    --numThreads $numThreads\n",
    "    --phenoFile $phenoFile\n",
    "    --keep_samples $keep_samples\n",
    "    --container_lmm $container\n",
    "    --walltime $walltime\n",
    "    --mem $mem\n",
    "\"\"\"\n",
    "\n",
    "sos run ~/project/UKBB_GWAS_dev/admin/Get_Job_Script.ipynb csg\\\n",
    "    --template-file $tpl_file \\\n",
    "    --workflow-file $gcta_sos \\\n",
    "    --to-script $gcta_sbatch \\\n",
    "    --args \"$gcta_args\""
   ]
  },
  {
   "cell_type": "markdown",
   "id": "d4dccf1f-d12f-475e-93f4-c1899eb97e43",
   "metadata": {
    "kernel": "Bash"
   },
   "source": [
    "#### GREML for 50K individuals"
   ]
  },
  {
   "cell_type": "code",
   "execution_count": 1,
   "id": "296901b5-3be7-41eb-8af1-2e4c52629f2e",
   "metadata": {
    "kernel": "Bash"
   },
   "outputs": [
    {
     "name": "stderr",
     "output_type": "stream",
     "text": [
      "/home/dmc2245/miniconda3/lib/python3.8/site-packages/sos_notebook/kernel.py:1334: DeprecationWarning: Kernel._parent_header is deprecated in ipykernel 6. Use .get_parent()\n",
      "  msg['msg_id'] = self._parent_header['header']['msg_id']\n"
     ]
    },
    {
     "name": "stdout",
     "output_type": "stream",
     "text": [
      "INFO: Running \u001b[32mcsg\u001b[0m: Configuration for Columbia csg partition cluster\n",
      "INFO: \u001b[32mcsg\u001b[0m is \u001b[32mcompleted\u001b[0m.\n",
      "INFO: \u001b[32mcsg\u001b[0m output:   \u001b[32m/mnt/mfs/statgen/UKBiobank/results/ARHI_heritability/052622_greml_50K/f3393_greml_common_50K_2022-05-26.sbatch\u001b[0m\n",
      "INFO: Workflow csg (ID=wee86e652bfdbb854) is executed successfully with 1 completed step.\n",
      "\n"
     ]
    }
   ],
   "source": [
    "## Columbia's cluster\n",
    "cwd=/mnt/mfs/statgen/UKBiobank/results/ARHI_heritability/052622_greml_common_50K_prev0.01\n",
    "#This is the bfile obtained in step 1\n",
    "grm=~/UKBiobank/results/ARHI_heritability/052522_grm_common_50K/ukb23156_merged_eur_unrel_commonvarsMAFabove0.01.grm.bin\n",
    "# Format FID, IID, pop\n",
    "phenoFile=/mnt/mfs/statgen/UKBiobank/results/ARHI_heritability/pheno_files/090321_UKBB_Hearing_aid_f3393_expandedwhite_6436cases_96601ctrl.PC1_10.50Ksubset.greml_pheno\n",
    "greml_sbatch=/mnt/mfs/statgen/UKBiobank/results/ARHI_heritability/052622_greml_common_50K_prev0.01/f3393_greml_common_50K_$(date +\"%Y-%m-%d\").sbatch\n",
    "greml_sos=~/project/UKBB_GWAS_dev/workflow/GREML.ipynb\n",
    "tpl_file=~/project/bioworkflows/admin/csg.yml\n",
    "container=~/containers/lmm.sif\n",
    "phenoCol=f3393\n",
    "covarCol=sex\n",
    "qCovarCol=`echo age PC{1..10}`\n",
    "prevalence=0.01\n",
    "\n",
    "greml_args=\"\"\"greml\n",
    "    --cwd $cwd\n",
    "    --grm $grm\n",
    "    --phenoFile $phenoFile\n",
    "    --phenoCol $phenoCol\n",
    "    --covarCol $covarCol\n",
    "    --qCovarCol $qCovarCol\n",
    "    --prevalence $prevalence\n",
    "    --container $container   \n",
    "\"\"\"\n",
    "\n",
    "sos run  ~/project/UKBB_GWAS_dev/admin/Get_Job_Script.ipynb csg\\\n",
    "    --template-file $tpl_file \\\n",
    "    --workflow-file $greml_sos \\\n",
    "    --to-script $greml_sbatch \\\n",
    "    --args \"$greml_args\""
   ]
  },
  {
   "cell_type": "markdown",
   "id": "c4e13ce0-3a7d-4cba-a8fa-7c8e0ac084e9",
   "metadata": {
    "kernel": "Bash"
   },
   "source": [
    "### Prevalence of 30% which was way too high "
   ]
  },
  {
   "cell_type": "code",
   "execution_count": 5,
   "id": "3da68186-dee8-4c3f-91de-d8b67b2538a7",
   "metadata": {
    "kernel": "Bash"
   },
   "outputs": [
    {
     "name": "stdout",
     "output_type": "stream",
     "text": [
      "INFO: Running \u001b[32mcsg\u001b[0m: Configuration for Columbia csg partition cluster\n",
      "INFO: \u001b[32mcsg\u001b[0m is \u001b[32mcompleted\u001b[0m.\n",
      "INFO: \u001b[32mcsg\u001b[0m output:   \u001b[32m/mnt/mfs/statgen/UKBiobank/results/ARHI_heritability/052622_greml_50K_prev0.3/f3393_greml_common_50K_2022-05-26.sbatch\u001b[0m\n",
      "INFO: Workflow csg (ID=w3797ec58440ab2af) is executed successfully with 1 completed step.\n",
      "\n"
     ]
    }
   ],
   "source": [
    "## Columbia's cluster\n",
    "cwd=/mnt/mfs/statgen/UKBiobank/results/ARHI_heritability/052622_greml_common_50K_prev0.3\n",
    "#This is the bfile obtained in step 1\n",
    "grm=~/UKBiobank/results/ARHI_heritability/052522_grm_common_50K/ukb23156_merged_eur_unrel_commonvarsMAFabove0.01.grm.bin\n",
    "# Format FID, IID, pop\n",
    "phenoFile=/mnt/mfs/statgen/UKBiobank/results/ARHI_heritability/pheno_files/090321_UKBB_Hearing_aid_f3393_expandedwhite_6436cases_96601ctrl.PC1_10.50Ksubset.greml_pheno\n",
    "greml_sbatch=/mnt/mfs/statgen/UKBiobank/results/ARHI_heritability/052622_greml_common_50K_prev0.3/f3393_greml_common_50K_$(date +\"%Y-%m-%d\").sbatch\n",
    "greml_sos=~/project/UKBB_GWAS_dev/workflow/GREML.ipynb\n",
    "tpl_file=~/project/bioworkflows/admin/csg.yml\n",
    "container=~/containers/lmm.sif\n",
    "phenoCol=f3393\n",
    "covarCol=sex\n",
    "qCovarCol=`echo age PC{1..10}`\n",
    "prevalence=0.3\n",
    "\n",
    "greml_args=\"\"\"greml\n",
    "    --cwd $cwd\n",
    "    --grm $grm\n",
    "    --phenoFile $phenoFile\n",
    "    --phenoCol $phenoCol\n",
    "    --covarCol $covarCol\n",
    "    --qCovarCol $qCovarCol\n",
    "    --prevalence $prevalence\n",
    "    --container $container   \n",
    "\"\"\"\n",
    "\n",
    "sos run  ~/project/UKBB_GWAS_dev/admin/Get_Job_Script.ipynb csg\\\n",
    "    --template-file $tpl_file \\\n",
    "    --workflow-file $greml_sos \\\n",
    "    --to-script $greml_sbatch \\\n",
    "    --args \"$greml_args\""
   ]
  },
  {
   "cell_type": "markdown",
   "id": "1e6f50fd-e7ca-43fc-af06-775e3a000b72",
   "metadata": {
    "kernel": "Bash"
   },
   "source": [
    "### Corrected prevalence of 6% as calculated from the data"
   ]
  },
  {
   "cell_type": "code",
   "execution_count": 8,
   "id": "c7af1bd9-fec0-453d-918f-513300754f7e",
   "metadata": {
    "kernel": "Bash"
   },
   "outputs": [
    {
     "name": "stdout",
     "output_type": "stream",
     "text": [
      "INFO: Running \u001b[32mcsg\u001b[0m: Configuration for Columbia csg partition cluster\n",
      "INFO: \u001b[32mcsg\u001b[0m is \u001b[32mcompleted\u001b[0m.\n",
      "INFO: \u001b[32mcsg\u001b[0m output:   \u001b[32m/mnt/mfs/statgen/UKBiobank/results/ARHI_heritability/060122_greml_common_50K_prev0.06/f3393_greml_common_50K_prev0.06_2022-06-01.sbatch\u001b[0m\n",
      "INFO: Workflow csg (ID=w1d8bb48e4388f731) is executed successfully with 1 completed step.\n",
      "\n"
     ]
    }
   ],
   "source": [
    "## Columbia's cluster\n",
    "cwd=/mnt/mfs/statgen/UKBiobank/results/ARHI_heritability/060122_greml_common_50K_prev0.06\n",
    "#This is the bfile obtained in step 1\n",
    "grm=~/UKBiobank/results/ARHI_heritability/052522_grm_common_50K/ukb23156_merged_eur_unrel_commonvarsMAFabove0.01.grm.bin\n",
    "# Format FID, IID, pop\n",
    "phenoFile=/mnt/mfs/statgen/UKBiobank/results/ARHI_heritability/pheno_files/090321_UKBB_Hearing_aid_f3393_expandedwhite_6436cases_96601ctrl.PC1_10.50Ksubset.greml_pheno\n",
    "greml_sbatch=/mnt/mfs/statgen/UKBiobank/results/ARHI_heritability/060122_greml_common_50K_prev0.06/f3393_greml_common_50K_prev0.06_$(date +\"%Y-%m-%d\").sbatch\n",
    "greml_sos=~/project/UKBB_GWAS_dev/workflow/GREML.ipynb\n",
    "tpl_file=~/project/bioworkflows/admin/csg.yml\n",
    "container=~/containers/lmm.sif\n",
    "phenoCol=f3393\n",
    "covarCol=sex\n",
    "qCovarCol=`echo age PC{1..10}`\n",
    "# Use the prevalence calculated from the actual data\n",
    "prevalence=0.06\n",
    "walltime='36h'\n",
    "mem='250G'\n",
    "greml_args=\"\"\"greml\n",
    "    --cwd $cwd\n",
    "    --grm $grm\n",
    "    --phenoFile $phenoFile\n",
    "    --phenoCol $phenoCol\n",
    "    --covarCol $covarCol\n",
    "    --qCovarCol $qCovarCol\n",
    "    --prevalence $prevalence\n",
    "    --container $container  \n",
    "    --walltime $walltime\n",
    "    --mem $mem\n",
    "\"\"\"\n",
    "\n",
    "sos run  ~/project/UKBB_GWAS_dev/admin/Get_Job_Script.ipynb csg\\\n",
    "    --template-file $tpl_file \\\n",
    "    --workflow-file $greml_sos \\\n",
    "    --to-script $greml_sbatch \\\n",
    "    --args \"$greml_args\""
   ]
  },
  {
   "cell_type": "markdown",
   "id": "9b3921e1-5368-4ce6-b079-429c4109ce0f",
   "metadata": {
    "kernel": "Bash"
   },
   "source": [
    "### Select the 80,000 random samples from the GRM of common variants"
   ]
  },
  {
   "cell_type": "code",
   "execution_count": 10,
   "id": "1f1605d6-982b-43de-a081-3b32557ccf2f",
   "metadata": {
    "kernel": "Bash"
   },
   "outputs": [
    {
     "name": "stdout",
     "output_type": "stream",
     "text": [
      "INFO: Running \u001b[32mcsg\u001b[0m: Configuration for Columbia csg partition cluster\n",
      "INFO: \u001b[32mcsg\u001b[0m (index=0) is \u001b[32mignored\u001b[0m due to saved signature\n",
      "INFO: \u001b[32mcsg\u001b[0m output:   \u001b[32m/mnt/mfs/statgen/UKBiobank/results/ARHI_heritability/060122_grm_common_80K/commonvars_eur_unrel_gtca_80K_2022-06-01.sbatch\u001b[0m\n",
      "INFO: Workflow csg (ID=we22deef3b9961b7c) is ignored with 1 ignored step.\n",
      "\n"
     ]
    }
   ],
   "source": [
    "bfile=~/UKBiobank/results/ARHI_heritability/051922_merged_bed/ukb23156_merged_eur_unrel_commonvarsMAFabove0.01.bed\n",
    "cwd=/mnt/mfs/statgen/UKBiobank/results/ARHI_heritability/060122_grm_common_80K\n",
    "numThreads=20\n",
    "gcta_sbatch=/mnt/mfs/statgen/UKBiobank/results/ARHI_heritability/060122_grm_common_80K/commonvars_eur_unrel_gtca_80K_$(date +\"%Y-%m-%d\").sbatch\n",
    "gcta_sos=~/project/bioworkflows/GWAS/LMM.ipynb\n",
    "tpl_file=~/project/bioworkflows/admin/csg.yml\n",
    "container=~/containers/lmm.sif\n",
    "#Phenofile is just inputed as a requirement for the LMM to run but it is not actually needed for GRM calculation\n",
    "phenoFile=/mnt/mfs/statgen/UKBiobank/phenotype_files/hearing_impairment/090321_UKBB_Hearing_aid_f3393_expandedwhite_6436cases_96601ctrl_PC1_2.tsv\n",
    "phenoCol=f3393\n",
    "covarCol=sex\n",
    "qCovarCol=\"age PC1 PC2\"\n",
    "mem='8G'\n",
    "walltime='48h'\n",
    "keep_samples=/mnt/mfs/statgen/UKBiobank/results/ARHI_heritability/pheno_files/090321_UKBB_Hearing_aid_f3393_expandedwhite_6436cases_96601ctrl.PC1_10.80Ksubset.keep_id\n",
    "\n",
    "gcta_args=\"\"\"gcta\n",
    "    --cwd $cwd\n",
    "    --bfile $bfile\n",
    "    --phenoFile $phenoFile\n",
    "    --phenoCol $phenoCol\n",
    "    --covarCol $covarCol\n",
    "    --qCovarCol $qCovarCol\n",
    "    --numThreads $numThreads\n",
    "    --phenoFile $phenoFile\n",
    "    --keep_samples $keep_samples\n",
    "    --container_lmm $container\n",
    "    --walltime $walltime\n",
    "    --mem $mem\n",
    "\"\"\"\n",
    "\n",
    "sos run ~/project/UKBB_GWAS_dev/admin/Get_Job_Script.ipynb csg\\\n",
    "    --template-file $tpl_file \\\n",
    "    --workflow-file $gcta_sos \\\n",
    "    --to-script $gcta_sbatch \\\n",
    "    --args \"$gcta_args\""
   ]
  },
  {
   "cell_type": "markdown",
   "id": "b049131d-116a-4e7d-af9c-4450068078ac",
   "metadata": {
    "kernel": "Bash"
   },
   "source": [
    "### Run GREML for common variants with the 80K individuals"
   ]
  },
  {
   "cell_type": "code",
   "execution_count": 21,
   "id": "03985c5d-896c-47af-a943-ad1705d3cf21",
   "metadata": {
    "kernel": "Bash"
   },
   "outputs": [
    {
     "name": "stdout",
     "output_type": "stream",
     "text": [
      "INFO: Running \u001b[32mcsg\u001b[0m: Configuration for Columbia csg partition cluster\n",
      "INFO: \u001b[32mcsg\u001b[0m is \u001b[32mcompleted\u001b[0m.\n",
      "INFO: \u001b[32mcsg\u001b[0m output:   \u001b[32m/home/dmc2245/UKBiobank/results/ARHI_heritability/060722_greml_common_80K_prev0.06/f3393_greml_common_80K_prev0.06_2022-06-07.sbatch\u001b[0m\n",
      "INFO: Workflow csg (ID=w69db70580a71628f) is executed successfully with 1 completed step.\n",
      "\n"
     ]
    }
   ],
   "source": [
    "## Columbia's cluster\n",
    "cwd=/mnt/mfs/statgen/UKBiobank/results/ARHI_heritability/060722_greml_common_80K_prev0.06\n",
    "#This is the bfile obtained in step 1\n",
    "grm=/mnt/mfs/statgen/UKBiobank/results/ARHI_heritability/060122_grm_common_80K/ukb23156_merged_eur_unrel_commonvarsMAFabove0.01.grm.bin\n",
    "# Format FID, IID, pop\n",
    "phenoFile=/mnt/mfs/statgen/UKBiobank/results/ARHI_heritability/pheno_files/090321_UKBB_Hearing_aid_f3393_expandedwhite_6436cases_96601ctrl.PC1_10.common80K.greml_pheno\n",
    "greml_sbatch=~/UKBiobank/results/ARHI_heritability/060722_greml_common_80K_prev0.06/f3393_greml_common_80K_prev0.06_$(date +\"%Y-%m-%d\").sbatch\n",
    "greml_sos=~/project/UKBB_GWAS_dev/workflow/GREML.ipynb\n",
    "tpl_file=~/project/bioworkflows/admin/csg.yml\n",
    "container=~/containers/lmm.sif\n",
    "phenoCol=f3393\n",
    "covarCol=sex\n",
    "qCovarCol=`echo age PC{1..10}`\n",
    "# Use the prevalence calculated from the actual data\n",
    "prevalence=0.06\n",
    "walltime='36h'\n",
    "mem='250G'\n",
    "greml_args=\"\"\"greml\n",
    "    --cwd $cwd\n",
    "    --grm $grm\n",
    "    --phenoFile $phenoFile\n",
    "    --phenoCol $phenoCol\n",
    "    --covarCol $covarCol\n",
    "    --qCovarCol $qCovarCol\n",
    "    --prevalence $prevalence\n",
    "    --container $container  \n",
    "    --walltime $walltime\n",
    "    --mem $mem\n",
    "\"\"\"\n",
    "\n",
    "sos run  ~/project/UKBB_GWAS_dev/admin/Get_Job_Script.ipynb csg\\\n",
    "    --template-file $tpl_file \\\n",
    "    --workflow-file $greml_sos \\\n",
    "    --to-script $greml_sbatch \\\n",
    "    --args \"$greml_args\""
   ]
  },
  {
   "cell_type": "markdown",
   "id": "4983c306-ca5d-4bde-ad30-df32ef87ef63",
   "metadata": {
    "kernel": "Bash"
   },
   "source": [
    "## f3393 rare variants"
   ]
  },
  {
   "cell_type": "markdown",
   "id": "e7bbbc4b-8240-4e6d-a49b-25879dd22555",
   "metadata": {
    "kernel": "Bash"
   },
   "source": [
    "#### Recalculate GRM for 50K random samples from the rare variants"
   ]
  },
  {
   "cell_type": "code",
   "execution_count": 4,
   "id": "cc42ae84-37dc-495d-b0a0-33c4ebb696a9",
   "metadata": {
    "kernel": "Bash"
   },
   "outputs": [
    {
     "name": "stdout",
     "output_type": "stream",
     "text": [
      "INFO: Running \u001b[32mcsg\u001b[0m: Configuration for Columbia csg partition cluster\n",
      "INFO: \u001b[32mcsg\u001b[0m is \u001b[32mcompleted\u001b[0m.\n",
      "INFO: \u001b[32mcsg\u001b[0m output:   \u001b[32m/mnt/mfs/statgen/UKBiobank/results/ARHI_heritability/053122_grm_rare_50K/rarevars_eur_unrel_gtca_50K_2022-05-31.sbatch\u001b[0m\n",
      "INFO: Workflow csg (ID=w4a47017eea17ec53) is executed successfully with 1 completed step.\n",
      "\n"
     ]
    }
   ],
   "source": [
    "bfile=~/UKBiobank/results/ARHI_heritability/051922_merged_bed/ukb23156_merged_eur_unrel_rarevarsMAFbelow0.01.bed\n",
    "cwd=/mnt/mfs/statgen/UKBiobank/results/ARHI_heritability/053122_grm_rare_50K\n",
    "numThreads=20\n",
    "gcta_sbatch=/mnt/mfs/statgen/UKBiobank/results/ARHI_heritability/053122_grm_rare_50K/rarevars_eur_unrel_gtca_50K_$(date +\"%Y-%m-%d\").sbatch\n",
    "gcta_sos=~/project/bioworkflows/GWAS/LMM.ipynb\n",
    "tpl_file=~/project/bioworkflows/admin/csg.yml\n",
    "container=/mnt/vast/hpc/csg/containers/lmm.sif\n",
    "#Phenofile is just inputed as a requirement for the LMM to run but it is not actually needed for GRM calculation\n",
    "phenoFile=/mnt/mfs/statgen/UKBiobank/phenotype_files/hearing_impairment/090321_UKBB_Hearing_aid_f3393_expandedwhite_6436cases_96601ctrl_PC1_2.tsv\n",
    "phenoCol=f3393\n",
    "covarCol=sex\n",
    "qCovarCol=\"age PC1 PC2\"\n",
    "mem='8G'\n",
    "walltime='48h'\n",
    "keep_samples=/mnt/mfs/statgen/UKBiobank/results/ARHI_heritability/pheno_files/090321_UKBB_Hearing_aid_f3393_expandedwhite_6436cases_96601ctrl.PC1_10.50Ksubset.keep_id\n",
    "\n",
    "gcta_args=\"\"\"gcta\n",
    "    --cwd $cwd\n",
    "    --bfile $bfile\n",
    "    --phenoFile $phenoFile\n",
    "    --phenoCol $phenoCol\n",
    "    --covarCol $covarCol\n",
    "    --qCovarCol $qCovarCol\n",
    "    --numThreads $numThreads\n",
    "    --phenoFile $phenoFile\n",
    "    --keep_samples $keep_samples\n",
    "    --container_lmm $container\n",
    "    --walltime $walltime\n",
    "    --mem $mem\n",
    "\"\"\"\n",
    "\n",
    "sos run ~/project/UKBB_GWAS_dev/admin/Get_Job_Script.ipynb csg\\\n",
    "    --template-file $tpl_file \\\n",
    "    --workflow-file $gcta_sos \\\n",
    "    --to-script $gcta_sbatch \\\n",
    "    --args \"$gcta_args\""
   ]
  },
  {
   "cell_type": "markdown",
   "id": "63d1484e-a8af-447b-af6f-e34e56884d90",
   "metadata": {
    "kernel": "Bash"
   },
   "source": [
    "#### GREML for 50K individuals rare variants"
   ]
  },
  {
   "cell_type": "code",
   "execution_count": 2,
   "id": "10816278-e1d0-4b61-a782-da1e2a115b4b",
   "metadata": {
    "kernel": "Bash"
   },
   "outputs": [
    {
     "name": "stderr",
     "output_type": "stream",
     "text": [
      "/home/dmc2245/miniconda3/lib/python3.8/site-packages/sos_notebook/kernel.py:1334: DeprecationWarning: Kernel._parent_header is deprecated in ipykernel 6. Use .get_parent()\n",
      "  msg['msg_id'] = self._parent_header['header']['msg_id']\n"
     ]
    },
    {
     "name": "stdout",
     "output_type": "stream",
     "text": [
      "INFO: Running \u001b[32mcsg\u001b[0m: Configuration for Columbia csg partition cluster\n",
      "INFO: \u001b[32mcsg\u001b[0m is \u001b[32mcompleted\u001b[0m.\n",
      "INFO: \u001b[32mcsg\u001b[0m output:   \u001b[32m/mnt/mfs/statgen/UKBiobank/results/ARHI_heritability/053122_greml_rare_50K/f3393_greml_rare_50K_2022-06-07.sbatch\u001b[0m\n",
      "INFO: Workflow csg (ID=w17345c80d3c5f565) is executed successfully with 1 completed step.\n",
      "\n"
     ]
    }
   ],
   "source": [
    "## Columbia's cluster\n",
    "cwd=/mnt/mfs/statgen/UKBiobank/results/ARHI_heritability/053122_greml_rare_50K\n",
    "#This is the bfile obtained in step 1\n",
    "grm=~/UKBiobank/results/ARHI_heritability/053122_grm_rare_50K/ukb23156_merged_eur_unrel_rarevarsMAFbelow0.01.grm.bin\n",
    "# Format FID, IID, pop\n",
    "phenoFile=/mnt/mfs/statgen/UKBiobank/results/ARHI_heritability/pheno_files/090321_UKBB_Hearing_aid_f3393_expandedwhite_6436cases_96601ctrl.PC1_10.greml_pheno_rarevars\n",
    "greml_sbatch=/mnt/mfs/statgen/UKBiobank/results/ARHI_heritability/053122_greml_rare_50K/f3393_greml_rare_50K_$(date +\"%Y-%m-%d\").sbatch\n",
    "greml_sos=~/project/UKBB_GWAS_dev/workflow/GREML.ipynb\n",
    "tpl_file=~/project/bioworkflows/admin/csg.yml\n",
    "container=~/containers/lmm.sif\n",
    "phenoCol=f3393\n",
    "covarCol=sex\n",
    "qCovarCol=`echo age PC{1..10}`\n",
    "prevalence=0.06\n",
    "\n",
    "greml_args=\"\"\"greml\n",
    "    --cwd $cwd\n",
    "    --grm $grm\n",
    "    --phenoFile $phenoFile\n",
    "    --phenoCol $phenoCol\n",
    "    --covarCol $covarCol\n",
    "    --qCovarCol $qCovarCol\n",
    "    --prevalence $prevalence\n",
    "    --container $container   \n",
    "\"\"\"\n",
    "\n",
    "sos run  ~/project/UKBB_GWAS_dev/admin/Get_Job_Script.ipynb csg\\\n",
    "    --template-file $tpl_file \\\n",
    "    --workflow-file $greml_sos \\\n",
    "    --to-script $greml_sbatch \\\n",
    "    --args \"$greml_args\""
   ]
  },
  {
   "cell_type": "markdown",
   "id": "fe715d1f-51b2-4cfc-9c3e-b3ca63ddfe6a",
   "metadata": {
    "kernel": "Bash"
   },
   "source": [
    "#### GREML for 80K individuals rare variants set"
   ]
  },
  {
   "cell_type": "code",
   "execution_count": null,
   "id": "33c2a344-beec-4dd0-b56b-5171dbc1f4cd",
   "metadata": {
    "kernel": "Bash"
   },
   "outputs": [],
   "source": []
  }
 ],
 "metadata": {
  "kernelspec": {
   "display_name": "SoS",
   "language": "sos",
   "name": "sos"
  },
  "language_info": {
   "codemirror_mode": "sos",
   "file_extension": ".sos",
   "mimetype": "text/x-sos",
   "name": "sos",
   "nbconvert_exporter": "sos_notebook.converter.SoS_Exporter",
   "pygments_lexer": "sos"
  },
  "sos": {
   "kernels": [
    [
     "Bash",
     "calysto_bash",
     "Bash",
     "#E6EEFF",
     ""
    ],
    [
     "R",
     "ir",
     "R",
     "#DCDCDA",
     "r"
    ]
   ],
   "version": "0.22.6"
  },
  "toc-autonumbering": true
 },
 "nbformat": 4,
 "nbformat_minor": 5
}
