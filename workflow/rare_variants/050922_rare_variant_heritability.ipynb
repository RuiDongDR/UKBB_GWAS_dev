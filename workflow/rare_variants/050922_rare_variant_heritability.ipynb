{
 "cells": [
  {
   "cell_type": "markdown",
   "id": "d252b379-6c07-409f-95d8-cccc52b1b8e5",
   "metadata": {
    "kernel": "SoS",
    "tags": []
   },
   "source": [
    "# Estimate the rare variant heritability of age-related hearing impairment traits"
   ]
  },
  {
   "cell_type": "markdown",
   "id": "10ff6cc5-5ba6-4e6a-8e71-2057113e7921",
   "metadata": {
    "kernel": "SoS"
   },
   "source": [
    "# Aim\n"
   ]
  },
  {
   "cell_type": "markdown",
   "id": "2d346c76-d21e-4412-af54-6807053d9781",
   "metadata": {
    "kernel": "Markdown",
    "tags": []
   },
   "source": [
    "# Concepts\n",
    "\n",
    "\n",
    "Proportion of phenotypic variance captured by common SNPs - SNP-based heritability (h^2SNP)\n",
    "\n",
    "Discrepancy between h^2ped and h^2SNP:\n",
    "\n",
    "1. Causal variants are not well tagged by common SNPs because they are rare\n",
    "2. Pedigree heritability is overestimated because of confounding with environmental effects or non-additive genetic variation\n"
   ]
  },
  {
   "cell_type": "markdown",
   "id": "4ff30917-c02a-43ec-9632-87d72314fadb",
   "metadata": {
    "kernel": "SoS"
   },
   "source": [
    "## 1. Calculate the SNP-based heritability from common variants and compared to available literature\n",
    "\n",
    "First of all a GRM from all of the autosomal SNPs needs to be calculated.\n"
   ]
  },
  {
   "cell_type": "markdown",
   "id": "7956f729-8e4c-4447-b2ec-b3ceba3ff549",
   "metadata": {
    "kernel": "SoS"
   },
   "source": [
    "## Input files\n",
    "\n",
    "### Phenotype files\n",
    "\n",
    "These files have already been QC'ed to include individuals with each of the hearing impairment traits and control individuals without hearing impairment related phenotypes\n",
    "\n",
    "Mega-sample \n",
    "\n",
    "H-aid:\n",
    "\n",
    "* /mnt/mfs/statgen/UKBiobank/phenotype_files/hearing_impairment/090321_UKBB_Hearing_aid_f3393_expandedwhite_6436cases_96601ctrl_PC1_2.tsv\n",
    "\n",
    "H-diff:\n",
    "\n",
    "* /mnt/mfs/statgen/UKBiobank/phenotype_files/hearing_impairment/090321_UKBB_Hearing_difficulty_f2247_expandedwhite_45502cases_96601ctrl_PC1_2.tsv\n",
    "\n",
    "H-noise:\n",
    "\n",
    "* /mnt/mfs/statgen/UKBiobank/phenotype_files/hearing_impairment/090321_UKBB_Hearing_noise_f2257_expandedwhite_65660cases_96601ctrl_PC1_2.tsv\n",
    "\n",
    "H-both:\n",
    "\n",
    "* /mnt/mfs/statgen/UKBiobank/phenotype_files/hearing_impairment/090321_UKBB_Combined_f2247_f2257_expandedwhite_38410cases_96601ctrl_PC1_2.tsv\n",
    "\n",
    "\n",
    "### Genotype files\n",
    "\n",
    "Original exome sequence files in plink format are here: \n",
    "* /mnt/mfs/statgen/UKBiobank/data/exome_files/project_VCF/072721_run/plink/ukb23156_c{1..22}.merged.filtered.bed\n",
    "\n",
    "QC done in these VCF files was: \n",
    "\n",
    "- DP-SPNs=10\n",
    "- DP-indels=10\n",
    "- GQ=20\n",
    "- AB-SNP=0.15\n",
    "- AB-indel=0.20\n",
    "- geno=0.1\n",
    "\n",
    "Samples with missingness >10% `-mind 0.1` in the genotype array\n",
    "\n",
    "* ~/UKBiobank/data/exome_files/project_VCF/072721_run/merged_plink/mind_0.1/cache/ukb23155_qc_merged.mind_0.1.filtered.mindrem.id\n",
    "\n",
    "Extra QC step is needed here to make sure we have the best quality variants for heritability calculation\n",
    "\n",
    "### Selecting white European samples\n",
    "\n",
    "According to Wainschtein et al 2022, they do two rounds of PC's calculations (20 PC's) one with common variants and one with rare variants. The prunning is also done using different parameters for each of these analyses\n",
    "\n",
    "- Common: MAF 0.01-0.5, window 50Kb, r2=0.1\n",
    "- Rare: MAF 0.004 (MAC=5) - 0.01, window 100Kb, r2=0.05\n",
    "\n",
    "In our case, we will use our already defined white European population that was classified using the genotype array data with common variants, calculating 10 PC's and the manhalanobis distance to dected outliers. \n",
    "\n",
    "* /mnt/mfs/statgen/UKBiobank/results/083021_PCA_results/europeans/cache/UKB_genotypedatadownloaded083019.090221_sample_variant_qc_final_callrate90.filtered.extracted.europeans.filtered.fam\n",
    "\n",
    "### Removing related individuals \n",
    "\n",
    "In this step we just want to keep the unrelated European individuals for heritability calculations. We use a kinship=0.0625 (to remove related individuals up to third degree)\n",
    "\n",
    "* remove_samples=/mnt/mfs/statgen/UKBiobank/results/083021_PCA_results/090221_king/*.related_id\n",
    "\n",
    "### Remove individuals showing excess of heterozygosity based on GRM off-diagonal?\n",
    "\n",
    "Don't know if this is necessary or not"
   ]
  },
  {
   "cell_type": "markdown",
   "id": "7605f3a4-faca-43cc-8151-51572d8bc737",
   "metadata": {
    "kernel": "SoS"
   },
   "source": [
    "Here we start with QC'ed exome sequence data but we will generate additional files with more stringent QC for heritability calculation\n",
    "\n",
    "1. MAF keep all rare-variants (Wainschtein 2022 paper uses `--maf 0.0001` )\n",
    "2. `--geno 0.05` (originally for our exome QC we used a `--geno 0.1`)\n",
    "3. `--hwe 0.000001` \n",
    "4. `--mind 0.05` (originally we did not remove individuals based on mind for the exome QC)\n",
    "5. `--snps_only` add this option to remove indels from calculation\n",
    "\n",
    "### Build the GRM from the exome sequence data?"
   ]
  },
  {
   "cell_type": "markdown",
   "id": "535c090d-6119-4889-a453-467a3f960638",
   "metadata": {
    "kernel": "SoS"
   },
   "source": [
    "## Step 1. Extra QC on the exome data"
   ]
  },
  {
   "cell_type": "markdown",
   "id": "ac8ed469-047c-4052-af5a-addd18498b64",
   "metadata": {
    "kernel": "SoS"
   },
   "source": [
    "### Select white European unrelated individuals"
   ]
  },
  {
   "cell_type": "code",
   "execution_count": 24,
   "id": "e7436e6d-9dcf-4bf7-b706-88020571b238",
   "metadata": {
    "kernel": "R",
    "tags": []
   },
   "outputs": [
    {
     "data": {
      "text/html": [
       "<style>\n",
       ".list-inline {list-style: none; margin:0; padding: 0}\n",
       ".list-inline>li {display: inline-block}\n",
       ".list-inline>li:not(:last-child)::after {content: \"\\00b7\"; padding: 0 .5ex}\n",
       "</style>\n",
       "<ol class=list-inline><li>188474</li><li>6</li></ol>\n"
      ],
      "text/latex": [
       "\\begin{enumerate*}\n",
       "\\item 188474\n",
       "\\item 6\n",
       "\\end{enumerate*}\n"
      ],
      "text/markdown": [
       "1. 188474\n",
       "2. 6\n",
       "\n",
       "\n"
      ],
      "text/plain": [
       "[1] 188474      6"
      ]
     },
     "metadata": {},
     "output_type": "display_data"
    },
    {
     "data": {
      "text/html": [
       "<table class=\"dataframe\">\n",
       "<caption>A data.frame: 6 x 6</caption>\n",
       "<thead>\n",
       "\t<tr><th></th><th scope=col>FID</th><th scope=col>IID</th><th scope=col>fatherid</th><th scope=col>motherid</th><th scope=col>sex</th><th scope=col>pheno</th></tr>\n",
       "\t<tr><th></th><th scope=col>&lt;int&gt;</th><th scope=col>&lt;int&gt;</th><th scope=col>&lt;int&gt;</th><th scope=col>&lt;int&gt;</th><th scope=col>&lt;int&gt;</th><th scope=col>&lt;int&gt;</th></tr>\n",
       "</thead>\n",
       "<tbody>\n",
       "\t<tr><th scope=row>1</th><td>1000019</td><td>1000019</td><td>0</td><td>0</td><td>2</td><td>-9</td></tr>\n",
       "\t<tr><th scope=row>2</th><td>1000035</td><td>1000035</td><td>0</td><td>0</td><td>1</td><td>-9</td></tr>\n",
       "\t<tr><th scope=row>3</th><td>1000078</td><td>1000078</td><td>0</td><td>0</td><td>2</td><td>-9</td></tr>\n",
       "\t<tr><th scope=row>4</th><td>1000081</td><td>1000081</td><td>0</td><td>0</td><td>1</td><td>-9</td></tr>\n",
       "\t<tr><th scope=row>5</th><td>1000198</td><td>1000198</td><td>0</td><td>0</td><td>2</td><td>-9</td></tr>\n",
       "\t<tr><th scope=row>6</th><td>1000210</td><td>1000210</td><td>0</td><td>0</td><td>1</td><td>-9</td></tr>\n",
       "</tbody>\n",
       "</table>\n"
      ],
      "text/latex": [
       "A data.frame: 6 x 6\n",
       "\\begin{tabular}{r|llllll}\n",
       "  & FID & IID & fatherid & motherid & sex & pheno\\\\\n",
       "  & <int> & <int> & <int> & <int> & <int> & <int>\\\\\n",
       "\\hline\n",
       "\t1 & 1000019 & 1000019 & 0 & 0 & 2 & -9\\\\\n",
       "\t2 & 1000035 & 1000035 & 0 & 0 & 1 & -9\\\\\n",
       "\t3 & 1000078 & 1000078 & 0 & 0 & 2 & -9\\\\\n",
       "\t4 & 1000081 & 1000081 & 0 & 0 & 1 & -9\\\\\n",
       "\t5 & 1000198 & 1000198 & 0 & 0 & 2 & -9\\\\\n",
       "\t6 & 1000210 & 1000210 & 0 & 0 & 1 & -9\\\\\n",
       "\\end{tabular}\n"
      ],
      "text/markdown": [
       "\n",
       "A data.frame: 6 x 6\n",
       "\n",
       "| <!--/--> | FID &lt;int&gt; | IID &lt;int&gt; | fatherid &lt;int&gt; | motherid &lt;int&gt; | sex &lt;int&gt; | pheno &lt;int&gt; |\n",
       "|---|---|---|---|---|---|---|\n",
       "| 1 | 1000019 | 1000019 | 0 | 0 | 2 | -9 |\n",
       "| 2 | 1000035 | 1000035 | 0 | 0 | 1 | -9 |\n",
       "| 3 | 1000078 | 1000078 | 0 | 0 | 2 | -9 |\n",
       "| 4 | 1000081 | 1000081 | 0 | 0 | 1 | -9 |\n",
       "| 5 | 1000198 | 1000198 | 0 | 0 | 2 | -9 |\n",
       "| 6 | 1000210 | 1000210 | 0 | 0 | 1 | -9 |\n",
       "\n"
      ],
      "text/plain": [
       "  FID     IID     fatherid motherid sex pheno\n",
       "1 1000019 1000019 0        0        2   -9   \n",
       "2 1000035 1000035 0        0        1   -9   \n",
       "3 1000078 1000078 0        0        2   -9   \n",
       "4 1000081 1000081 0        0        1   -9   \n",
       "5 1000198 1000198 0        0        2   -9   \n",
       "6 1000210 1000210 0        0        1   -9   "
      ]
     },
     "metadata": {},
     "output_type": "display_data"
    }
   ],
   "source": [
    "eur <- read.table(\"~/UKBiobank/results/083021_PCA_results/europeans/cache/UKB_genotypedatadownloaded083019.090221_sample_variant_qc_final_callrate90.filtered.extracted.europeans.filtered.fam\", header=F)\n",
    "colnames(eur) <- c(\"FID\", \"IID\",\"fatherid\", \"motherid\", \"sex\", \"pheno\")\n",
    "dim(eur)\n",
    "head(eur)"
   ]
  },
  {
   "cell_type": "code",
   "execution_count": 30,
   "id": "9b3db253-ace0-4b28-95db-4b7a22febfce",
   "metadata": {
    "kernel": "R"
   },
   "outputs": [
    {
     "data": {
      "text/html": [
       "<style>\n",
       ".list-inline {list-style: none; margin:0; padding: 0}\n",
       ".list-inline>li {display: inline-block}\n",
       ".list-inline>li:not(:last-child)::after {content: \"\\00b7\"; padding: 0 .5ex}\n",
       "</style>\n",
       "<ol class=list-inline><li>168206</li><li>6</li></ol>\n"
      ],
      "text/latex": [
       "\\begin{enumerate*}\n",
       "\\item 168206\n",
       "\\item 6\n",
       "\\end{enumerate*}\n"
      ],
      "text/markdown": [
       "1. 168206\n",
       "2. 6\n",
       "\n",
       "\n"
      ],
      "text/plain": [
       "[1] 168206      6"
      ]
     },
     "metadata": {},
     "output_type": "display_data"
    },
    {
     "data": {
      "text/html": [
       "<table class=\"dataframe\">\n",
       "<caption>A data.frame: 6 x 6</caption>\n",
       "<thead>\n",
       "\t<tr><th></th><th scope=col>FID</th><th scope=col>IID</th><th scope=col>fatherid</th><th scope=col>motherid</th><th scope=col>sex</th><th scope=col>pheno</th></tr>\n",
       "\t<tr><th></th><th scope=col>&lt;int&gt;</th><th scope=col>&lt;int&gt;</th><th scope=col>&lt;int&gt;</th><th scope=col>&lt;int&gt;</th><th scope=col>&lt;int&gt;</th><th scope=col>&lt;int&gt;</th></tr>\n",
       "</thead>\n",
       "<tbody>\n",
       "\t<tr><th scope=row>1</th><td>1000019</td><td>1000019</td><td>0</td><td>0</td><td>2</td><td>-9</td></tr>\n",
       "\t<tr><th scope=row>2</th><td>1000078</td><td>1000078</td><td>0</td><td>0</td><td>2</td><td>-9</td></tr>\n",
       "\t<tr><th scope=row>3</th><td>1000081</td><td>1000081</td><td>0</td><td>0</td><td>1</td><td>-9</td></tr>\n",
       "\t<tr><th scope=row>4</th><td>1000198</td><td>1000198</td><td>0</td><td>0</td><td>2</td><td>-9</td></tr>\n",
       "\t<tr><th scope=row>5</th><td>1000210</td><td>1000210</td><td>0</td><td>0</td><td>1</td><td>-9</td></tr>\n",
       "\t<tr><th scope=row>6</th><td>1000236</td><td>1000236</td><td>0</td><td>0</td><td>1</td><td>-9</td></tr>\n",
       "</tbody>\n",
       "</table>\n"
      ],
      "text/latex": [
       "A data.frame: 6 x 6\n",
       "\\begin{tabular}{r|llllll}\n",
       "  & FID & IID & fatherid & motherid & sex & pheno\\\\\n",
       "  & <int> & <int> & <int> & <int> & <int> & <int>\\\\\n",
       "\\hline\n",
       "\t1 & 1000019 & 1000019 & 0 & 0 & 2 & -9\\\\\n",
       "\t2 & 1000078 & 1000078 & 0 & 0 & 2 & -9\\\\\n",
       "\t3 & 1000081 & 1000081 & 0 & 0 & 1 & -9\\\\\n",
       "\t4 & 1000198 & 1000198 & 0 & 0 & 2 & -9\\\\\n",
       "\t5 & 1000210 & 1000210 & 0 & 0 & 1 & -9\\\\\n",
       "\t6 & 1000236 & 1000236 & 0 & 0 & 1 & -9\\\\\n",
       "\\end{tabular}\n"
      ],
      "text/markdown": [
       "\n",
       "A data.frame: 6 x 6\n",
       "\n",
       "| <!--/--> | FID &lt;int&gt; | IID &lt;int&gt; | fatherid &lt;int&gt; | motherid &lt;int&gt; | sex &lt;int&gt; | pheno &lt;int&gt; |\n",
       "|---|---|---|---|---|---|---|\n",
       "| 1 | 1000019 | 1000019 | 0 | 0 | 2 | -9 |\n",
       "| 2 | 1000078 | 1000078 | 0 | 0 | 2 | -9 |\n",
       "| 3 | 1000081 | 1000081 | 0 | 0 | 1 | -9 |\n",
       "| 4 | 1000198 | 1000198 | 0 | 0 | 2 | -9 |\n",
       "| 5 | 1000210 | 1000210 | 0 | 0 | 1 | -9 |\n",
       "| 6 | 1000236 | 1000236 | 0 | 0 | 1 | -9 |\n",
       "\n"
      ],
      "text/plain": [
       "  FID     IID     fatherid motherid sex pheno\n",
       "1 1000019 1000019 0        0        2   -9   \n",
       "2 1000078 1000078 0        0        2   -9   \n",
       "3 1000081 1000081 0        0        1   -9   \n",
       "4 1000198 1000198 0        0        2   -9   \n",
       "5 1000210 1000210 0        0        1   -9   \n",
       "6 1000236 1000236 0        0        1   -9   "
      ]
     },
     "metadata": {},
     "output_type": "display_data"
    }
   ],
   "source": [
    "unrel <- read.table(\"~/UKBiobank/results/083021_PCA_results/090221_ldprun_unrelated/cache/UKB_genotypedatadownloaded083019.090221_sample_variant_qc_final_callrate90.filtered.extracted.europeans.filtered.090221_ldprun_unrelated.filtered.fam\")\n",
    "colnames(unrel) <- c(\"FID\", \"IID\",\"fatherid\", \"motherid\", \"sex\", \"pheno\")\n",
    "dim(unrel)\n",
    "head(unrel)"
   ]
  },
  {
   "cell_type": "code",
   "execution_count": 29,
   "id": "95366a66-c3b0-45e1-bab8-7b9c6314695e",
   "metadata": {
    "kernel": "R"
   },
   "outputs": [
    {
     "data": {
      "text/html": [
       "<style>\n",
       ".list-inline {list-style: none; margin:0; padding: 0}\n",
       ".list-inline>li {display: inline-block}\n",
       ".list-inline>li:not(:last-child)::after {content: \"\\00b7\"; padding: 0 .5ex}\n",
       "</style>\n",
       "<ol class=list-inline><li>566</li><li>2</li></ol>\n"
      ],
      "text/latex": [
       "\\begin{enumerate*}\n",
       "\\item 566\n",
       "\\item 2\n",
       "\\end{enumerate*}\n"
      ],
      "text/markdown": [
       "1. 566\n",
       "2. 2\n",
       "\n",
       "\n"
      ],
      "text/plain": [
       "[1] 566   2"
      ]
     },
     "metadata": {},
     "output_type": "display_data"
    },
    {
     "data": {
      "text/html": [
       "<table class=\"dataframe\">\n",
       "<caption>A data.frame: 6 x 2</caption>\n",
       "<thead>\n",
       "\t<tr><th></th><th scope=col>FID</th><th scope=col>IID</th></tr>\n",
       "\t<tr><th></th><th scope=col>&lt;int&gt;</th><th scope=col>&lt;int&gt;</th></tr>\n",
       "</thead>\n",
       "<tbody>\n",
       "\t<tr><th scope=row>1</th><td>1008606</td><td>1008606</td></tr>\n",
       "\t<tr><th scope=row>2</th><td>1010412</td><td>1010412</td></tr>\n",
       "\t<tr><th scope=row>3</th><td>1028129</td><td>1028129</td></tr>\n",
       "\t<tr><th scope=row>4</th><td>1032822</td><td>1032822</td></tr>\n",
       "\t<tr><th scope=row>5</th><td>1035752</td><td>1035752</td></tr>\n",
       "\t<tr><th scope=row>6</th><td>1044288</td><td>1044288</td></tr>\n",
       "</tbody>\n",
       "</table>\n"
      ],
      "text/latex": [
       "A data.frame: 6 x 2\n",
       "\\begin{tabular}{r|ll}\n",
       "  & FID & IID\\\\\n",
       "  & <int> & <int>\\\\\n",
       "\\hline\n",
       "\t1 & 1008606 & 1008606\\\\\n",
       "\t2 & 1010412 & 1010412\\\\\n",
       "\t3 & 1028129 & 1028129\\\\\n",
       "\t4 & 1032822 & 1032822\\\\\n",
       "\t5 & 1035752 & 1035752\\\\\n",
       "\t6 & 1044288 & 1044288\\\\\n",
       "\\end{tabular}\n"
      ],
      "text/markdown": [
       "\n",
       "A data.frame: 6 x 2\n",
       "\n",
       "| <!--/--> | FID &lt;int&gt; | IID &lt;int&gt; |\n",
       "|---|---|---|\n",
       "| 1 | 1008606 | 1008606 |\n",
       "| 2 | 1010412 | 1010412 |\n",
       "| 3 | 1028129 | 1028129 |\n",
       "| 4 | 1032822 | 1032822 |\n",
       "| 5 | 1035752 | 1035752 |\n",
       "| 6 | 1044288 | 1044288 |\n",
       "\n"
      ],
      "text/plain": [
       "  FID     IID    \n",
       "1 1008606 1008606\n",
       "2 1010412 1010412\n",
       "3 1028129 1028129\n",
       "4 1032822 1032822\n",
       "5 1035752 1035752\n",
       "6 1044288 1044288"
      ]
     },
     "metadata": {},
     "output_type": "display_data"
    }
   ],
   "source": [
    "outlier <- read.table(\"~/UKBiobank/results/083021_PCA_results/090321_PCA_related_pval0.005/030821_ukb42495_exomed_white_189010ind.090321_PCA_related_pval0.005.pca.projected.outliers\")\n",
    "colnames(outlier) <- c(\"FID\", \"IID\")\n",
    "dim(outlier)\n",
    "head(outlier)"
   ]
  },
  {
   "cell_type": "markdown",
   "id": "936517e9-a667-4c0f-a12a-dacf4053bdf8",
   "metadata": {
    "kernel": "R"
   },
   "source": [
    "Select white European individuals that are unrelated and remove ancestry outliers obtained by PCA calculation"
   ]
  },
  {
   "cell_type": "code",
   "execution_count": 36,
   "id": "e32e3d73-8ce3-40a8-b5b2-ef89fa58556a",
   "metadata": {
    "kernel": "R"
   },
   "outputs": [],
   "source": [
    "eur_unrel <- unrel[-which(unrel$IID %in% outlier$IID), ]\n",
    "eur_unrel_drop <- eur_unrel[ -c(3:6)]"
   ]
  },
  {
   "cell_type": "code",
   "execution_count": 38,
   "id": "5bb38c59-1f86-4e0e-9f37-19941544df8d",
   "metadata": {
    "kernel": "R"
   },
   "outputs": [
    {
     "data": {
      "text/html": [
       "<table class=\"dataframe\">\n",
       "<caption>A data.frame: 6 x 2</caption>\n",
       "<thead>\n",
       "\t<tr><th></th><th scope=col>FID</th><th scope=col>IID</th></tr>\n",
       "\t<tr><th></th><th scope=col>&lt;int&gt;</th><th scope=col>&lt;int&gt;</th></tr>\n",
       "</thead>\n",
       "<tbody>\n",
       "\t<tr><th scope=row>1</th><td>1000019</td><td>1000019</td></tr>\n",
       "\t<tr><th scope=row>2</th><td>1000078</td><td>1000078</td></tr>\n",
       "\t<tr><th scope=row>3</th><td>1000081</td><td>1000081</td></tr>\n",
       "\t<tr><th scope=row>4</th><td>1000198</td><td>1000198</td></tr>\n",
       "\t<tr><th scope=row>5</th><td>1000210</td><td>1000210</td></tr>\n",
       "\t<tr><th scope=row>6</th><td>1000236</td><td>1000236</td></tr>\n",
       "</tbody>\n",
       "</table>\n"
      ],
      "text/latex": [
       "A data.frame: 6 x 2\n",
       "\\begin{tabular}{r|ll}\n",
       "  & FID & IID\\\\\n",
       "  & <int> & <int>\\\\\n",
       "\\hline\n",
       "\t1 & 1000019 & 1000019\\\\\n",
       "\t2 & 1000078 & 1000078\\\\\n",
       "\t3 & 1000081 & 1000081\\\\\n",
       "\t4 & 1000198 & 1000198\\\\\n",
       "\t5 & 1000210 & 1000210\\\\\n",
       "\t6 & 1000236 & 1000236\\\\\n",
       "\\end{tabular}\n"
      ],
      "text/markdown": [
       "\n",
       "A data.frame: 6 x 2\n",
       "\n",
       "| <!--/--> | FID &lt;int&gt; | IID &lt;int&gt; |\n",
       "|---|---|---|\n",
       "| 1 | 1000019 | 1000019 |\n",
       "| 2 | 1000078 | 1000078 |\n",
       "| 3 | 1000081 | 1000081 |\n",
       "| 4 | 1000198 | 1000198 |\n",
       "| 5 | 1000210 | 1000210 |\n",
       "| 6 | 1000236 | 1000236 |\n",
       "\n"
      ],
      "text/plain": [
       "  FID     IID    \n",
       "1 1000019 1000019\n",
       "2 1000078 1000078\n",
       "3 1000081 1000081\n",
       "4 1000198 1000198\n",
       "5 1000210 1000210\n",
       "6 1000236 1000236"
      ]
     },
     "metadata": {},
     "output_type": "display_data"
    },
    {
     "data": {
      "text/html": [
       "<style>\n",
       ".list-inline {list-style: none; margin:0; padding: 0}\n",
       ".list-inline>li {display: inline-block}\n",
       ".list-inline>li:not(:last-child)::after {content: \"\\00b7\"; padding: 0 .5ex}\n",
       "</style>\n",
       "<ol class=list-inline><li>167652</li><li>2</li></ol>\n"
      ],
      "text/latex": [
       "\\begin{enumerate*}\n",
       "\\item 167652\n",
       "\\item 2\n",
       "\\end{enumerate*}\n"
      ],
      "text/markdown": [
       "1. 167652\n",
       "2. 2\n",
       "\n",
       "\n"
      ],
      "text/plain": [
       "[1] 167652      2"
      ]
     },
     "metadata": {},
     "output_type": "display_data"
    }
   ],
   "source": [
    "head(eur_unrel_drop)\n",
    "dim(eur_unrel_drop)"
   ]
  },
  {
   "cell_type": "code",
   "execution_count": 40,
   "id": "072b20ac-102b-420d-834a-d366f2872377",
   "metadata": {
    "kernel": "R"
   },
   "outputs": [],
   "source": [
    "write.table(eur_unrel_drop, \"/mnt/mfs/statgen/UKBiobank/results/ARHI_heritability/pheno_files/ukb42495_exomed_white_europeans_unrelated_no_outliers_167652.id\", sep=\"\\t\", row.names = FALSE, col.names =FALSE, quote=FALSE)"
   ]
  },
  {
   "cell_type": "markdown",
   "id": "d176b27d-1345-44c7-978b-1c7e8790618d",
   "metadata": {
    "kernel": "R"
   },
   "source": [
    "### Apply HWE only on the subgroup of controls which are the same for our ARHI analyses"
   ]
  },
  {
   "cell_type": "code",
   "execution_count": 2,
   "id": "94b9e9af-cdc7-42f8-a541-9056fe5e4d97",
   "metadata": {
    "kernel": "R"
   },
   "outputs": [
    {
     "data": {
      "text/html": [
       "<table class=\"dataframe\">\n",
       "<caption>A data.frame: 6 x 2</caption>\n",
       "<thead>\n",
       "\t<tr><th></th><th scope=col>FID</th><th scope=col>IID</th></tr>\n",
       "\t<tr><th></th><th scope=col>&lt;int&gt;</th><th scope=col>&lt;int&gt;</th></tr>\n",
       "</thead>\n",
       "<tbody>\n",
       "\t<tr><th scope=row>1</th><td>1000019</td><td>1000019</td></tr>\n",
       "\t<tr><th scope=row>2</th><td>1000078</td><td>1000078</td></tr>\n",
       "\t<tr><th scope=row>3</th><td>1000081</td><td>1000081</td></tr>\n",
       "\t<tr><th scope=row>4</th><td>1000198</td><td>1000198</td></tr>\n",
       "\t<tr><th scope=row>5</th><td>1000210</td><td>1000210</td></tr>\n",
       "\t<tr><th scope=row>6</th><td>1000236</td><td>1000236</td></tr>\n",
       "</tbody>\n",
       "</table>\n"
      ],
      "text/latex": [
       "A data.frame: 6 x 2\n",
       "\\begin{tabular}{r|ll}\n",
       "  & FID & IID\\\\\n",
       "  & <int> & <int>\\\\\n",
       "\\hline\n",
       "\t1 & 1000019 & 1000019\\\\\n",
       "\t2 & 1000078 & 1000078\\\\\n",
       "\t3 & 1000081 & 1000081\\\\\n",
       "\t4 & 1000198 & 1000198\\\\\n",
       "\t5 & 1000210 & 1000210\\\\\n",
       "\t6 & 1000236 & 1000236\\\\\n",
       "\\end{tabular}\n"
      ],
      "text/markdown": [
       "\n",
       "A data.frame: 6 x 2\n",
       "\n",
       "| <!--/--> | FID &lt;int&gt; | IID &lt;int&gt; |\n",
       "|---|---|---|\n",
       "| 1 | 1000019 | 1000019 |\n",
       "| 2 | 1000078 | 1000078 |\n",
       "| 3 | 1000081 | 1000081 |\n",
       "| 4 | 1000198 | 1000198 |\n",
       "| 5 | 1000210 | 1000210 |\n",
       "| 6 | 1000236 | 1000236 |\n",
       "\n"
      ],
      "text/plain": [
       "  FID     IID    \n",
       "1 1000019 1000019\n",
       "2 1000078 1000078\n",
       "3 1000081 1000081\n",
       "4 1000198 1000198\n",
       "5 1000210 1000210\n",
       "6 1000236 1000236"
      ]
     },
     "metadata": {},
     "output_type": "display_data"
    }
   ],
   "source": [
    "# Get the unrelated controls from out phenotype files\n",
    "eur_unrel <-  read.table(\"/mnt/mfs/statgen/UKBiobank/results/ARHI_heritability/pheno_files/ukb42495_exomed_white_europeans_unrelated_no_outliers_167652.id\", header=F)\n",
    "colnames(eur_unrel) <- c(\"FID\", \"IID\")\n",
    "head(eur_unrel)"
   ]
  },
  {
   "cell_type": "code",
   "execution_count": 4,
   "id": "b9ad2b1f-36d6-4b51-a9aa-f2bfa4450b83",
   "metadata": {
    "kernel": "R"
   },
   "outputs": [
    {
     "data": {
      "text/html": [
       "<table class=\"dataframe\">\n",
       "<caption>A data.frame: 6 x 5</caption>\n",
       "<thead>\n",
       "\t<tr><th></th><th scope=col>FID</th><th scope=col>IID</th><th scope=col>sex</th><th scope=col>f3393</th><th scope=col>age</th></tr>\n",
       "\t<tr><th></th><th scope=col>&lt;int&gt;</th><th scope=col>&lt;int&gt;</th><th scope=col>&lt;int&gt;</th><th scope=col>&lt;int&gt;</th><th scope=col>&lt;int&gt;</th></tr>\n",
       "</thead>\n",
       "<tbody>\n",
       "\t<tr><th scope=row>1</th><td>1001384</td><td>1001384</td><td>1</td><td>1</td><td>61</td></tr>\n",
       "\t<tr><th scope=row>2</th><td>1002548</td><td>1002548</td><td>0</td><td>1</td><td>62</td></tr>\n",
       "\t<tr><th scope=row>3</th><td>1002888</td><td>1002888</td><td>0</td><td>1</td><td>68</td></tr>\n",
       "\t<tr><th scope=row>4</th><td>1002944</td><td>1002944</td><td>0</td><td>1</td><td>65</td></tr>\n",
       "\t<tr><th scope=row>5</th><td>1003258</td><td>1003258</td><td>0</td><td>1</td><td>74</td></tr>\n",
       "\t<tr><th scope=row>6</th><td>1004843</td><td>1004843</td><td>0</td><td>1</td><td>64</td></tr>\n",
       "</tbody>\n",
       "</table>\n"
      ],
      "text/latex": [
       "A data.frame: 6 x 5\n",
       "\\begin{tabular}{r|lllll}\n",
       "  & FID & IID & sex & f3393 & age\\\\\n",
       "  & <int> & <int> & <int> & <int> & <int>\\\\\n",
       "\\hline\n",
       "\t1 & 1001384 & 1001384 & 1 & 1 & 61\\\\\n",
       "\t2 & 1002548 & 1002548 & 0 & 1 & 62\\\\\n",
       "\t3 & 1002888 & 1002888 & 0 & 1 & 68\\\\\n",
       "\t4 & 1002944 & 1002944 & 0 & 1 & 65\\\\\n",
       "\t5 & 1003258 & 1003258 & 0 & 1 & 74\\\\\n",
       "\t6 & 1004843 & 1004843 & 0 & 1 & 64\\\\\n",
       "\\end{tabular}\n"
      ],
      "text/markdown": [
       "\n",
       "A data.frame: 6 x 5\n",
       "\n",
       "| <!--/--> | FID &lt;int&gt; | IID &lt;int&gt; | sex &lt;int&gt; | f3393 &lt;int&gt; | age &lt;int&gt; |\n",
       "|---|---|---|---|---|---|\n",
       "| 1 | 1001384 | 1001384 | 1 | 1 | 61 |\n",
       "| 2 | 1002548 | 1002548 | 0 | 1 | 62 |\n",
       "| 3 | 1002888 | 1002888 | 0 | 1 | 68 |\n",
       "| 4 | 1002944 | 1002944 | 0 | 1 | 65 |\n",
       "| 5 | 1003258 | 1003258 | 0 | 1 | 74 |\n",
       "| 6 | 1004843 | 1004843 | 0 | 1 | 64 |\n",
       "\n"
      ],
      "text/plain": [
       "  FID     IID     sex f3393 age\n",
       "1 1001384 1001384 1   1     61 \n",
       "2 1002548 1002548 0   1     62 \n",
       "3 1002888 1002888 0   1     68 \n",
       "4 1002944 1002944 0   1     65 \n",
       "5 1003258 1003258 0   1     74 \n",
       "6 1004843 1004843 0   1     64 "
      ]
     },
     "metadata": {},
     "output_type": "display_data"
    },
    {
     "data": {
      "text/html": [
       "103037"
      ],
      "text/latex": [
       "103037"
      ],
      "text/markdown": [
       "103037"
      ],
      "text/plain": [
       "[1] 103037"
      ]
     },
     "metadata": {},
     "output_type": "display_data"
    }
   ],
   "source": [
    "# Load the f3393 phenotype file to subset for the controls \n",
    "f3393 <- read.table(\"~/UKBiobank/phenotype_files/hearing_impairment/090321_UKBB_Hearing_aid_f3393_expandedwhite_6436cases_96601ctrl\", header=T)\n",
    "head(f3393)\n",
    "nrow(f3393)"
   ]
  },
  {
   "cell_type": "code",
   "execution_count": 7,
   "id": "7fd84e5f-3577-4de8-87d0-ffc7b1131d53",
   "metadata": {
    "kernel": "R"
   },
   "outputs": [],
   "source": [
    "library('dplyr')\n",
    "f3393_ctrl <- f3393 %>% filter(f3393==0) %>%\n",
    "          select('FID', 'IID')"
   ]
  },
  {
   "cell_type": "code",
   "execution_count": 13,
   "id": "85f987ef-9e2a-42bc-9d4a-2591f7ab20a0",
   "metadata": {
    "kernel": "R"
   },
   "outputs": [
    {
     "data": {
      "text/html": [
       "92040"
      ],
      "text/latex": [
       "92040"
      ],
      "text/markdown": [
       "92040"
      ],
      "text/plain": [
       "[1] 92040"
      ]
     },
     "metadata": {},
     "output_type": "display_data"
    },
    {
     "data": {
      "text/html": [
       "<table class=\"dataframe\">\n",
       "<caption>A data.frame: 6 x 2</caption>\n",
       "<thead>\n",
       "\t<tr><th></th><th scope=col>FID</th><th scope=col>IID</th></tr>\n",
       "\t<tr><th></th><th scope=col>&lt;int&gt;</th><th scope=col>&lt;int&gt;</th></tr>\n",
       "</thead>\n",
       "<tbody>\n",
       "\t<tr><th scope=row>1</th><td>1001384</td><td>1001384</td></tr>\n",
       "\t<tr><th scope=row>2</th><td>1002548</td><td>1002548</td></tr>\n",
       "\t<tr><th scope=row>3</th><td>1002888</td><td>1002888</td></tr>\n",
       "\t<tr><th scope=row>4</th><td>1002944</td><td>1002944</td></tr>\n",
       "\t<tr><th scope=row>5</th><td>1003258</td><td>1003258</td></tr>\n",
       "\t<tr><th scope=row>6</th><td>1004843</td><td>1004843</td></tr>\n",
       "</tbody>\n",
       "</table>\n"
      ],
      "text/latex": [
       "A data.frame: 6 x 2\n",
       "\\begin{tabular}{r|ll}\n",
       "  & FID & IID\\\\\n",
       "  & <int> & <int>\\\\\n",
       "\\hline\n",
       "\t1 & 1001384 & 1001384\\\\\n",
       "\t2 & 1002548 & 1002548\\\\\n",
       "\t3 & 1002888 & 1002888\\\\\n",
       "\t4 & 1002944 & 1002944\\\\\n",
       "\t5 & 1003258 & 1003258\\\\\n",
       "\t6 & 1004843 & 1004843\\\\\n",
       "\\end{tabular}\n"
      ],
      "text/markdown": [
       "\n",
       "A data.frame: 6 x 2\n",
       "\n",
       "| <!--/--> | FID &lt;int&gt; | IID &lt;int&gt; |\n",
       "|---|---|---|\n",
       "| 1 | 1001384 | 1001384 |\n",
       "| 2 | 1002548 | 1002548 |\n",
       "| 3 | 1002888 | 1002888 |\n",
       "| 4 | 1002944 | 1002944 |\n",
       "| 5 | 1003258 | 1003258 |\n",
       "| 6 | 1004843 | 1004843 |\n",
       "\n"
      ],
      "text/plain": [
       "  FID     IID    \n",
       "1 1001384 1001384\n",
       "2 1002548 1002548\n",
       "3 1002888 1002888\n",
       "4 1002944 1002944\n",
       "5 1003258 1003258\n",
       "6 1004843 1004843"
      ]
     },
     "metadata": {},
     "output_type": "display_data"
    }
   ],
   "source": [
    "f3393_ctrl_unrel <- f3393 %>% filter(IID %in% eur_unrel$IID) %>% select(\"FID\", \"IID\")        \n",
    "nrow(f3393_ctrl_unrel)\n",
    "head(f3393_ctrl_unrel)"
   ]
  },
  {
   "cell_type": "code",
   "execution_count": 14,
   "id": "e14adc2a-b212-4100-bc0a-77dd15175c09",
   "metadata": {
    "kernel": "R"
   },
   "outputs": [],
   "source": [
    "write.table(f3393_ctrl_unrel, \"/mnt/mfs/statgen/UKBiobank/results/ARHI_heritability/pheno_files/ukb42495_exomed_white_europeans_unrelated_no_outliers_ctrl_ARHI_92040.id\", sep=\"\\t\", row.names = FALSE, col.names =TRUE, quote=FALSE)"
   ]
  },
  {
   "cell_type": "code",
   "execution_count": 33,
   "id": "7207aa88-cc8a-46fb-b88e-5d6035c3b4a4",
   "metadata": {
    "kernel": "Bash",
    "tags": []
   },
   "outputs": [
    {
     "name": "stdout",
     "output_type": "stream",
     "text": [
      "INFO: Running \u001b[32mcsg\u001b[0m: Configuration for Columbia csg partition cluster\n",
      "INFO: \u001b[32mcsg\u001b[0m (index=0) is \u001b[32mignored\u001b[0m due to saved signature\n",
      "INFO: \u001b[32mcsg\u001b[0m output:   \u001b[32m/mnt/mfs/statgen/UKBiobank/results/ARHI_heritability/051922_white_eur_unrel/hwe_eur_unrel_control_ARHI_2022-05-19.sbatch\u001b[0m\n",
      "INFO: Workflow csg (ID=w72163a39fda9e30b) is ignored with 1 ignored step.\n",
      "\n"
     ]
    }
   ],
   "source": [
    "# Get the variants that pass HWE qc filter\n",
    "## Select White European unrelated individuals \n",
    "## Do some extra QC on the exome data\n",
    "UKBB_PATH=/mnt/mfs/statgen/UKBiobank\n",
    "cwd=$UKBB_PATH/results/ARHI_heritability/051922_white_eur_unrel\n",
    "## Use the exome filtered file\n",
    "genoFile=`echo $UKBB_PATH/data/exome_files/project_VCF/072721_run/plink/ukb23156_c{1..22}.merged.filtered.bed`\n",
    "## To keep only the samples of white Europeans unrelated individuals with outliers removed that are controls for ARHI samples so we can apply HWE\n",
    "keep_samples=/mnt/mfs/statgen/UKBiobank/results/ARHI_heritability/pheno_files/ukb42495_exomed_white_europeans_unrelated_no_outliers_ctrl_ARHI_92040.id\n",
    "# Do not set a MAF filter, this will keep both common and rare variants\n",
    "maf_filter=0 \n",
    "# No geno filter in this subset of controls\n",
    "geno_filter=0\n",
    "# Set a HWE filter 1x10^-8\n",
    "hwe_filter=0.00000001\n",
    "# Do not set a sample missingness filter at this point, otherwise many samples would be removed\n",
    "mind_filter=0\n",
    "# Keep both SNPs and indels in the heritability calculation\n",
    "snps_only=False\n",
    "meta_only=True\n",
    "other_args=\"\"\n",
    "gwas_sbatch=$UKBB_PATH/results/ARHI_heritability/051922_white_eur_unrel/hwe_eur_unrel_control_ARHI_$(date +\"%Y-%m-%d\").sbatch\n",
    "gwasqc_sos=~/project/xqtl-pipeline/code/data_preprocessing/genotype/GWAS_QC.ipynb\n",
    "tpl_file=~/project/bioworkflows/admin/csg.yml\n",
    "container=~/containers/bioinfo.sif\n",
    "numThreads=20\n",
    "job_size=1\n",
    "mem='30G'\n",
    "\n",
    "gwasqc_args=\"\"\"qc:1\n",
    "    --cwd $cwd\n",
    "    --genoFile $genoFile\n",
    "    --keep_samples $keep_samples\n",
    "    --maf_filter $maf_filter\n",
    "    --geno_filter $geno_filter\n",
    "    --hwe_filter $hwe_filter\n",
    "    --mind_filter $mind_filter\n",
    "    --meta_only $meta_only\n",
    "    --other_args $other_args\n",
    "    --numThreads $numThreads \n",
    "    --job_size $job_size\n",
    "    --container $container\n",
    "    --mem $mem\n",
    "\"\"\"\n",
    "\n",
    "sos run ~/project/UKBB_GWAS_dev/admin/Get_Job_Script.ipynb csg\\\n",
    "    --template-file $tpl_file \\\n",
    "    --workflow-file $gwasqc_sos \\\n",
    "    --to-script $gwas_sbatch \\\n",
    "    --args \"$gwasqc_args\"\n"
   ]
  },
  {
   "cell_type": "code",
   "execution_count": 18,
   "id": "c54a1553-ef21-449d-81bd-e6dc03021d18",
   "metadata": {
    "kernel": "Bash"
   },
   "outputs": [
    {
     "name": "stdout",
     "output_type": "stream",
     "text": [
      "\n"
     ]
    }
   ],
   "source": [
    "# Count number of variants after VCF_QC\n",
    "for file in $(ls -v /mnt/mfs/statgen/UKBiobank/data/exome_files/project_VCF/072721_run/plink/ukb23156_c*.merged.filtered.bim);\n",
    "do \n",
    "    echo \"${file##*/}\" >> /mnt/mfs/statgen/UKBiobank/results/ARHI_heritability/072721_ukb23156_c1_22.merged.filtered.snpcount.txt\n",
    "    cat $file | wc -l  >> /mnt/mfs/statgen/UKBiobank/results/ARHI_heritability/072721_ukb23156_c1_22.merged.filtered.snpcount.txt;\n",
    "done"
   ]
  },
  {
   "cell_type": "code",
   "execution_count": 36,
   "id": "42808c45-664c-4d6a-827e-631c810846cd",
   "metadata": {
    "kernel": "Bash"
   },
   "outputs": [
    {
     "name": "stdout",
     "output_type": "stream",
     "text": [
      "\n"
     ]
    }
   ],
   "source": [
    "# Count number of variants after HWE filter \n",
    "for file in $(ls -v /mnt/mfs/statgen/UKBiobank/results/ARHI_heritability/051922_white_eur_unrel/ukb23156_c*.merged.filtered.filtered.snplist);\n",
    "do \n",
    "    wc -l $file  >> /mnt/mfs/statgen/UKBiobank/results/ARHI_heritability/051922_ukb23156_c1_22.merged.filtered.hwe_ctrl_ARHI.snpcount.txt;\n",
    "done"
   ]
  },
  {
   "cell_type": "code",
   "execution_count": 39,
   "id": "78770610-3eae-4557-88be-934b58cf24a6",
   "metadata": {
    "kernel": "Bash"
   },
   "outputs": [
    {
     "name": "stdout",
     "output_type": "stream",
     "text": [
      "\n"
     ]
    }
   ],
   "source": [
    "cat $(ls -v /mnt/mfs/statgen/UKBiobank/results/ARHI_heritability/051922_white_eur_unrel/ukb23156_c**.merged.filtered.filtered.snplist) >> \\\n",
    "/mnt/mfs/statgen/UKBiobank/results/ARHI_heritability/051922_white_eur_unrel/ukb23156_c1_22.filtered.filtered.snplist"
   ]
  },
  {
   "cell_type": "markdown",
   "id": "2aa7d002-722b-46f1-acd9-55cc012de266",
   "metadata": {
    "kernel": "Bash"
   },
   "source": [
    "### Note: I've found some duplicated records in the extracted variants\n",
    "```\n",
    "      2 chr10:5642571:T:TA\n",
    "      2 chr11:2915280:C:CGT\n",
    "      2 chr14:51243825:C:CT\n",
    "      2 chr14:73265273:A:AGG\n",
    "      2 chr14:73654828:C:CT\n",
    "      2 chr15:36594814:T:TA\n",
    "      2 chr17:20156278:A:AC\n",
    "      2 chr19:45408051:C:CA\n",
    "      2 chr19:9980591:A:ATCTC\n",
    "      2 chr1:149935279:CA:C\n",
    "      2 chr1:240493541:A:AT\n",
    "      2 chr1:53074691:T:TG\n",
    "      2 chr20:49159148:T:TA\n",
    "      2 chr22:36481640:C:CGG\n",
    "      2 chr2:127637295:A:AC\n",
    "      2 chr3:111991354:AT:A\n",
    "      2 chr3:98391562:G:GA\n",
    "      2 chr5:169670501:T:TTTTTA\n",
    "      2 chr5:58975878:C:CT\n",
    "      2 chr5:96783875:A:ACT\n",
    "      2 chr6:42683028:G:GT\n",
    "      2 chr7:100885457:G:GC\n",
    "      2 chr9:27217785:A:AT\n",
    "      2 chr9:92474739:G:GTCC\n",
    "```"
   ]
  },
  {
   "cell_type": "markdown",
   "id": "b577a08b-fb06-4d59-aba3-22c2d5d6d7a1",
   "metadata": {
    "kernel": "Bash"
   },
   "source": [
    "### Remove variants that do not pass HWE in ARHI controls and get final bed file per chromosome"
   ]
  },
  {
   "cell_type": "code",
   "execution_count": 40,
   "id": "c7af5192-b224-4f9e-ba30-621a5ad80f2b",
   "metadata": {
    "kernel": "Bash"
   },
   "outputs": [
    {
     "name": "stdout",
     "output_type": "stream",
     "text": [
      "INFO: Running \u001b[32mcsg\u001b[0m: Configuration for Columbia csg partition cluster\n",
      "INFO: \u001b[32mcsg\u001b[0m is \u001b[32mcompleted\u001b[0m.\n",
      "INFO: \u001b[32mcsg\u001b[0m output:   \u001b[32m/mnt/mfs/statgen/UKBiobank/results/ARHI_heritability/051922_white_eur_unrel/eur_unrel_ARHI_QC_2022-05-19.sbatch\u001b[0m\n",
      "INFO: Workflow csg (ID=w3655ddad4c106b79) is executed successfully with 1 completed step.\n",
      "\n"
     ]
    }
   ],
   "source": [
    "# Get the variants that pass HWE qc filter\n",
    "## Select White European unrelated individuals \n",
    "## Do some extra QC on the exome data\n",
    "UKBB_PATH=/mnt/mfs/statgen/UKBiobank\n",
    "cwd=$UKBB_PATH/results/ARHI_heritability/051922_white_eur_unrel\n",
    "## Use the exome filtered file\n",
    "genoFile=`echo $UKBB_PATH/data/exome_files/project_VCF/072721_run/plink/ukb23156_c{1..22}.merged.filtered.bed`\n",
    "## To keep only the samples of white Europeans unrelated individuals with outliers removed that are controls for ARHI samples so we can apply HWE\n",
    "keep_samples=/mnt/mfs/statgen/UKBiobank/results/ARHI_heritability/pheno_files/ukb42495_exomed_white_europeans_unrelated_no_outliers_167652.id\n",
    "keep_variants=~/UKBiobank/results/ARHI_heritability/051922_white_eur_unrel/ukb23156_c1_22.filtered.filtered.snplist\n",
    "# Do not set a MAF filter, this will keep both common and rare variants\n",
    "maf_filter=0 \n",
    "# No geno filter in this subset of controls\n",
    "geno_filter=0.1\n",
    "# Set a HWE filter to 0 because there's not need to do it here\n",
    "hwe_filter=0\n",
    "# Do not set a sample missingness filter at this point, otherwise many samples would be removed\n",
    "mind_filter=0\n",
    "# Keep both SNPs and indels in the heritability calculation\n",
    "snps_only=False\n",
    "other_args=\"\"\n",
    "gwas_sbatch=$UKBB_PATH/results/ARHI_heritability/051922_white_eur_unrel/eur_unrel_ARHI_QC_$(date +\"%Y-%m-%d\").sbatch\n",
    "gwasqc_sos=~/project/xqtl-pipeline/code/data_preprocessing/genotype/GWAS_QC.ipynb\n",
    "tpl_file=~/project/bioworkflows/admin/csg.yml\n",
    "container=~/containers/bioinfo.sif\n",
    "numThreads=20\n",
    "job_size=1\n",
    "mem='30G'\n",
    "\n",
    "gwasqc_args=\"\"\"qc:1\n",
    "    --cwd $cwd\n",
    "    --genoFile $genoFile\n",
    "    --keep_samples $keep_samples\n",
    "    --keep_variants $keep_variants\n",
    "    --maf_filter $maf_filter\n",
    "    --geno_filter $geno_filter\n",
    "    --hwe_filter $hwe_filter\n",
    "    --mind_filter $mind_filter\n",
    "    --other_args $other_args\n",
    "    --numThreads $numThreads \n",
    "    --job_size $job_size\n",
    "    --container $container\n",
    "    --mem $mem\n",
    "\"\"\"\n",
    "\n",
    "sos run ~/project/UKBB_GWAS_dev/admin/Get_Job_Script.ipynb csg\\\n",
    "    --template-file $tpl_file \\\n",
    "    --workflow-file $gwasqc_sos \\\n",
    "    --to-script $gwas_sbatch \\\n",
    "    --args \"$gwasqc_args\"\n"
   ]
  },
  {
   "cell_type": "code",
   "execution_count": 41,
   "id": "41918b38-5b98-487e-adce-9297ce3a8b6d",
   "metadata": {
    "kernel": "Bash"
   },
   "outputs": [
    {
     "name": "stdout",
     "output_type": "stream",
     "text": [
      "\n"
     ]
    }
   ],
   "source": [
    "# Count number of variants after geno=0.1 filter \n",
    "for file in $(ls -v /mnt/mfs/statgen/UKBiobank/results/ARHI_heritability/051922_white_eur_unrel/ukb23156_c*.merged.filtered.filtered.extracted.bim);\n",
    "do \n",
    "    wc -l $file  >> /mnt/mfs/statgen/UKBiobank/results/ARHI_heritability/051922_ukb23156_c1_22.merged.filtered.geno0.1_ARHI.snpcount.txt;\n",
    "done"
   ]
  },
  {
   "cell_type": "markdown",
   "id": "90017c69-aff4-4096-971d-8204ff24225e",
   "metadata": {
    "kernel": "Bash"
   },
   "source": [
    "## Step 2. Merge plink files and use `--mind 0.05` filter\n",
    "\n",
    "From the Wainschtein 2022 paper\n",
    "\n",
    "```\n",
    "plink \\\n",
    "--bfile ${BED_file_merged} \\\n",
    "--merge-list ${list_beds} \\\n",
    "--make-bed \\\n",
    "--maf 0.0001 \\\n",
    "--geno 0.05  \\\n",
    "--hwe 0.000001 \\\n",
    "--mind 0.05 \\\n",
    "--out ${BED_file_merged_QC} \\\n",
    "--threads ${ncpu}\n",
    "```"
   ]
  },
  {
   "cell_type": "markdown",
   "id": "3005997e-4563-45b6-89cf-9bd1ffdf1c23",
   "metadata": {
    "kernel": "Bash"
   },
   "source": [
    "### Get the file for rare variants MAF<0.01"
   ]
  },
  {
   "cell_type": "code",
   "execution_count": 43,
   "id": "3b991e85-7f0a-4a8f-8ac8-87b125e69edf",
   "metadata": {
    "kernel": "Bash",
    "tags": []
   },
   "outputs": [
    {
     "name": "stdout",
     "output_type": "stream",
     "text": [
      "INFO: Running \u001b[32mcsg\u001b[0m: Configuration for Columbia csg partition cluster\n",
      "INFO: \u001b[32mcsg\u001b[0m is \u001b[32mcompleted\u001b[0m.\n",
      "INFO: \u001b[32mcsg\u001b[0m output:   \u001b[32m/mnt/mfs/statgen/UKBiobank/results/ARHI_heritability/051922_merged_bed/rareMAFbelow0.01_eur_unrel_exome_merged2022-05-19.sbatch\u001b[0m\n",
      "INFO: Workflow csg (ID=w184d6d32cb096add) is executed successfully with 1 completed step.\n",
      "\n"
     ]
    }
   ],
   "source": [
    "genoFile=`echo /mnt/mfs/statgen/UKBiobank/results/ARHI_heritability/051922_white_eur_unrel/ukb23156_c{1..22}.merged.filtered.filtered.extracted.bed`\n",
    "cwd=/mnt/mfs/statgen/UKBiobank/results/ARHI_heritability/051922_merged_bed\n",
    "# Select only the variants with MAF between 0 and 0.01\n",
    "maf_max_filter=0.01\n",
    "# Do not set a MAF filter to keep all variants below 0.01\n",
    "maf_filter=0\n",
    "# No need to filter again in the merge\n",
    "geno_filter=0\n",
    "# HWE already applied only to controls of ARHI sample\n",
    "hwe_filter=0\n",
    "# Set a sample missingness of 5%\n",
    "mind_filter=0.05\n",
    "name='ukb23156_merged_eur_unrel_rarevarsMAFbelow0.01'\n",
    "\n",
    "gwas_sbatch=/mnt/mfs/statgen/UKBiobank/results/ARHI_heritability/051922_merged_bed/rareMAFbelow0.01_eur_unrel_exome_merged$(date +\"%Y-%m-%d\").sbatch\n",
    "gwasqc_sos=~/project/xqtl-pipeline/code/data_preprocessing/genotype/genotype_formatting.ipynb\n",
    "tpl_file=~/project/bioworkflows/admin/csg.yml\n",
    "container=~/containers/bioinfo.sif\n",
    "\n",
    "merge_args=\"\"\"merge_plink\n",
    "    --cwd $cwd\n",
    "    --genoFile $genoFile\n",
    "    --name $name\n",
    "    --maf_filter $maf_filter\n",
    "    --maf_max_filter $maf_max_filter\n",
    "    --geno_filter $geno_filter\n",
    "    --hwe_filter $hwe_filter\n",
    "    --mind_filter $mind_filter\n",
    "    --container $container\n",
    "\"\"\"\n",
    "\n",
    "sos run ~/project/UKBB_GWAS_dev/admin/Get_Job_Script.ipynb csg\\\n",
    "    --template-file $tpl_file \\\n",
    "    --workflow-file $gwasqc_sos \\\n",
    "    --to-script $gwas_sbatch \\\n",
    "    --args \"$merge_args\"\n"
   ]
  },
  {
   "cell_type": "markdown",
   "id": "ce047316-cdc4-46cf-bce4-9bf649721034",
   "metadata": {
    "kernel": "SoS"
   },
   "source": [
    "### Get the file for common variants MAF>0.01"
   ]
  },
  {
   "cell_type": "code",
   "execution_count": 44,
   "id": "c0d17b1c-f6f3-4b74-ac07-02df25622679",
   "metadata": {
    "kernel": "Bash",
    "tags": []
   },
   "outputs": [
    {
     "name": "stdout",
     "output_type": "stream",
     "text": [
      "INFO: Running \u001b[32mcsg\u001b[0m: Configuration for Columbia csg partition cluster\n",
      "INFO: \u001b[32mcsg\u001b[0m is \u001b[32mcompleted\u001b[0m.\n",
      "INFO: \u001b[32mcsg\u001b[0m output:   \u001b[32m/mnt/mfs/statgen/UKBiobank/results/ARHI_heritability/051922_merged_bed/commonMAFabove0.01_eur_unrel_exome_merged_2022-05-19.sbatch\u001b[0m\n",
      "INFO: Workflow csg (ID=wd209f89c42e59fdb) is executed successfully with 1 completed step.\n",
      "\n"
     ]
    }
   ],
   "source": [
    "genoFile=`echo /mnt/mfs/statgen/UKBiobank/results/ARHI_heritability/051922_white_eur_unrel/ukb23156_c{1..22}.merged.filtered.filtered.extracted.bed`\n",
    "cwd=/mnt/mfs/statgen/UKBiobank/results/ARHI_heritability/051922_merged_bed\n",
    "# Set a MAF filter of 0.01 to keep variants above that threshold\n",
    "maf_filter=0.01\n",
    "# No need to filter for variant missigness again\n",
    "geno_filter=0\n",
    "# HWE already applied only to controls of ARHI sample\n",
    "hwe_filter=0\n",
    "# Set a sample missingness of 5%\n",
    "mind_filter=0.05\n",
    "name='ukb23156_merged_eur_unrel_commonvarsMAFabove0.01'\n",
    "gwas_sbatch=/mnt/mfs/statgen/UKBiobank/results/ARHI_heritability/051922_merged_bed/commonMAFabove0.01_eur_unrel_exome_merged_$(date +\"%Y-%m-%d\").sbatch\n",
    "gwasqc_sos=~/project/xqtl-pipeline/code/data_preprocessing/genotype/genotype_formatting.ipynb\n",
    "tpl_file=~/project/bioworkflows/admin/csg.yml\n",
    "container=~/containers/bioinfo.sif\n",
    "\n",
    "merge_args=\"\"\"merge_plink\n",
    "    --cwd $cwd\n",
    "    --genoFile $genoFile\n",
    "    --name $name\n",
    "    --maf_filter $maf_filter\n",
    "    --geno_filter $geno_filter\n",
    "    --hwe_filter $hwe_filter\n",
    "    --mind_filter $mind_filter\n",
    "    --container $container\n",
    "\"\"\"\n",
    "\n",
    "sos run ~/project/UKBB_GWAS_dev/admin/Get_Job_Script.ipynb csg\\\n",
    "    --template-file $tpl_file \\\n",
    "    --workflow-file $gwasqc_sos \\\n",
    "    --to-script $gwas_sbatch \\\n",
    "    --args \"$merge_args\"\n"
   ]
  },
  {
   "cell_type": "markdown",
   "id": "0319e1e5-e181-4598-94a2-f9bb2dd531b6",
   "metadata": {
    "kernel": "SoS"
   },
   "source": [
    "### Get a file with both common and rare variants"
   ]
  },
  {
   "cell_type": "code",
   "execution_count": 46,
   "id": "96608608-6dcc-4948-931c-cef53d977b0e",
   "metadata": {
    "kernel": "Bash",
    "tags": []
   },
   "outputs": [
    {
     "name": "stdout",
     "output_type": "stream",
     "text": [
      "INFO: Running \u001b[32mcsg\u001b[0m: Configuration for Columbia csg partition cluster\n",
      "INFO: \u001b[32mcsg\u001b[0m is \u001b[32mcompleted\u001b[0m.\n",
      "INFO: \u001b[32mcsg\u001b[0m output:   \u001b[32m/mnt/mfs/statgen/UKBiobank/results/ARHI_heritability/051922_merged_bed/allvars_eur_unrel_exome_merged_2022-05-19.sbatch\u001b[0m\n",
      "INFO: Workflow csg (ID=wadfa7b47d59121a2) is executed successfully with 1 completed step.\n",
      "\n"
     ]
    }
   ],
   "source": [
    "genoFile=`echo /mnt/mfs/statgen/UKBiobank/results/ARHI_heritability/051922_white_eur_unrel/ukb23156_c{1..22}.merged.filtered.filtered.extracted.bed`\n",
    "cwd=/mnt/mfs/statgen/UKBiobank/results/ARHI_heritability/051922_merged_bed\n",
    "# Do not set a MAF filter, this will keep both common and rare variants\n",
    "maf_filter=0 \n",
    "# Do not filter again for variant missigness\n",
    "geno_filter=0\n",
    "# HWE already applied only to controls of ARHI sample\n",
    "hwe_filter=0\n",
    "# Set a sample missingness of 5%\n",
    "mind_filter=0.05\n",
    "name='ukb23156_merged_eur_unrel_allvars'\n",
    "gwas_sbatch=/mnt/mfs/statgen/UKBiobank/results/ARHI_heritability/051922_merged_bed/allvars_eur_unrel_exome_merged_$(date +\"%Y-%m-%d\").sbatch\n",
    "gwasqc_sos=~/project/xqtl-pipeline/code/data_preprocessing/genotype/genotype_formatting.ipynb\n",
    "tpl_file=~/project/bioworkflows/admin/csg.yml\n",
    "container=~/containers/bioinfo.sif\n",
    "\n",
    "merge_args=\"\"\"merge_plink\n",
    "    --cwd $cwd\n",
    "    --genoFile $genoFile\n",
    "    --name $name\n",
    "    --maf_filter $maf_filter\n",
    "    --geno_filter $geno_filter\n",
    "    --hwe_filter $hwe_filter\n",
    "    --mind_filter $mind_filter\n",
    "    --container $container\n",
    "\"\"\"\n",
    "\n",
    "sos run ~/project/UKBB_GWAS_dev/admin/Get_Job_Script.ipynb csg\\\n",
    "    --template-file $tpl_file \\\n",
    "    --workflow-file $gwasqc_sos \\\n",
    "    --to-script $gwas_sbatch \\\n",
    "    --args \"$merge_args\"\n"
   ]
  },
  {
   "cell_type": "markdown",
   "id": "db941c21-6114-42b3-a8b8-13999fdc4766",
   "metadata": {
    "kernel": "SoS"
   },
   "source": [
    "# Create the GRM matrix\n",
    "\n",
    "Here we need to create a GRM per bed file for common, rare and both types of variants\n",
    "\n",
    "```\n",
    "\n",
    "i={1..99}\n",
    "GCTA \\\n",
    "--bfile ${BED_file_merged_QC} \\\n",
    "--extract ${list_variants_LD_bin} \\\n",
    "--make-grm-part 99 \"$i\" \\\n",
    "--thread-num ${ncpu} \\\n",
    "--out ${GRM_out} \\\n",
    "--make-grm-alg 1\n",
    "\n",
    "\n",
    "#Merge all GRM parts together\n",
    "\n",
    "cat ${GRM_out}.part_99_*.grm.id > ${GRM_out}.grm.id\n",
    "cat ${GRM_out}.part_99_*.grm.bin > ${GRM_out}.grm.bin\n",
    "cat ${GRM_out}.part_99_*.grm.N.bin > ${GRM_out}.grm.N.bin\n",
    "```"
   ]
  },
  {
   "cell_type": "markdown",
   "id": "15e6d1fd-b883-4bdb-ade2-960062265869",
   "metadata": {
    "kernel": "Bash"
   },
   "source": [
    "## Get GRM for rare variant substet"
   ]
  },
  {
   "cell_type": "code",
   "execution_count": 47,
   "id": "2dfdaea5-552a-45c1-a4c0-e2d50aa90fba",
   "metadata": {
    "kernel": "Bash"
   },
   "outputs": [
    {
     "name": "stdout",
     "output_type": "stream",
     "text": [
      "INFO: Running \u001b[32mcsg\u001b[0m: Configuration for Columbia csg partition cluster\n",
      "INFO: \u001b[32mcsg\u001b[0m is \u001b[32mcompleted\u001b[0m.\n",
      "INFO: \u001b[32mcsg\u001b[0m output:   \u001b[32m/mnt/mfs/statgen/UKBiobank/results/ARHI_heritability/052022_grm/rarevars_grm_eur_unrel_gtca_2022-05-20.sbatch\u001b[0m\n",
      "INFO: Workflow csg (ID=w3a0b3db8c49eabe5) is executed successfully with 1 completed step.\n",
      "\n"
     ]
    }
   ],
   "source": [
    "bfile=~/UKBiobank/results/ARHI_heritability/051922_merged_bed/ukb23156_merged_eur_unrel_rarevarsMAFbelow0.01.bed\n",
    "cwd=/mnt/mfs/statgen/UKBiobank/results/ARHI_heritability/052022_grm_rare\n",
    "numThreads=20\n",
    "gcta_sbatch=/mnt/mfs/statgen/UKBiobank/results/ARHI_heritability/052022_grm/rarevars_grm_eur_unrel_gtca_$(date +\"%Y-%m-%d\").sbatch\n",
    "gcta_sos=~/project/bioworkflows/GWAS/LMM.ipynb\n",
    "tpl_file=~/project/bioworkflows/admin/csg.yml\n",
    "container=~/containers/lmm.sif\n",
    "#Phenofile is just inputed as a requirement for the LMM to run but it is not actually needed for GRM calculation\n",
    "phenoFile=/mnt/mfs/statgen/UKBiobank/phenotype_files/hearing_impairment/090321_UKBB_Hearing_aid_f3393_expandedwhite_6436cases_96601ctrl_PC1_2.tsv\n",
    "phenoCol=f3393\n",
    "covarCol=sex\n",
    "qCovarCol=\"age PC1 PC2\"\n",
    "mem='8G'\n",
    "walltime='48h'\n",
    "\n",
    "gcta_args=\"\"\"gcta\n",
    "    --cwd $cwd\n",
    "    --bfile $bfile\n",
    "    --phenoFile $phenoFile\n",
    "    --phenoCol $phenoCol\n",
    "    --covarCol $covarCol\n",
    "    --qCovarCol $qCovarCol\n",
    "    --numThreads $numThreads\n",
    "    --phenoFile $phenoFile\n",
    "    --container_lmm $container\n",
    "    --walltime $walltime\n",
    "    --mem $mem\n",
    "\"\"\"\n",
    "\n",
    "sos run ~/project/UKBB_GWAS_dev/admin/Get_Job_Script.ipynb csg\\\n",
    "    --template-file $tpl_file \\\n",
    "    --workflow-file $gcta_sos \\\n",
    "    --to-script $gcta_sbatch \\\n",
    "    --args \"$gcta_args\"\n"
   ]
  },
  {
   "cell_type": "markdown",
   "id": "4bbf8454-563c-4223-8698-44d386c9a8a6",
   "metadata": {
    "kernel": "Bash"
   },
   "source": [
    "## Get the GRM for common variant subset"
   ]
  },
  {
   "cell_type": "code",
   "execution_count": 48,
   "id": "2c724139-7b6e-4813-95e3-e7830657e581",
   "metadata": {
    "kernel": "Bash"
   },
   "outputs": [
    {
     "name": "stdout",
     "output_type": "stream",
     "text": [
      "INFO: Running \u001b[32mcsg\u001b[0m: Configuration for Columbia csg partition cluster\n",
      "INFO: \u001b[32mcsg\u001b[0m is \u001b[32mcompleted\u001b[0m.\n",
      "INFO: \u001b[32mcsg\u001b[0m output:   \u001b[32m/mnt/mfs/statgen/UKBiobank/results/ARHI_heritability/052022_grm_common/commonvars_eur_unrel_gtca_2022-05-20.sbatch\u001b[0m\n",
      "INFO: Workflow csg (ID=w5dfba0004114fab4) is executed successfully with 1 completed step.\n",
      "\n"
     ]
    }
   ],
   "source": [
    "bfile=~/UKBiobank/results/ARHI_heritability/051922_merged_bed/ukb23156_merged_eur_unrel_commonvarsMAFabove0.01.bed\n",
    "cwd=/mnt/mfs/statgen/UKBiobank/results/ARHI_heritability/052022_grm_common\n",
    "numThreads=20\n",
    "gcta_sbatch=/mnt/mfs/statgen/UKBiobank/results/ARHI_heritability/052022_grm_common/commonvars_eur_unrel_gtca_$(date +\"%Y-%m-%d\").sbatch\n",
    "gcta_sos=~/project/bioworkflows/GWAS/LMM.ipynb\n",
    "tpl_file=~/project/bioworkflows/admin/csg.yml\n",
    "container=~/containers/lmm.sif\n",
    "#Phenofile is just inputed as a requirement for the LMM to run but it is not actually needed for GRM calculation\n",
    "phenoFile=/mnt/mfs/statgen/UKBiobank/phenotype_files/hearing_impairment/090321_UKBB_Hearing_aid_f3393_expandedwhite_6436cases_96601ctrl_PC1_2.tsv\n",
    "phenoCol=f3393\n",
    "covarCol=sex\n",
    "qCovarCol=\"age PC1 PC2\"\n",
    "mem='8G'\n",
    "walltime='48h'\n",
    "\n",
    "gcta_args=\"\"\"gcta\n",
    "    --cwd $cwd\n",
    "    --bfile $bfile\n",
    "    --phenoFile $phenoFile\n",
    "    --phenoCol $phenoCol\n",
    "    --covarCol $covarCol\n",
    "    --qCovarCol $qCovarCol\n",
    "    --numThreads $numThreads\n",
    "    --phenoFile $phenoFile\n",
    "    --container_lmm $container\n",
    "    --walltime $walltime\n",
    "    --mem $mem\n",
    "\"\"\"\n",
    "\n",
    "sos run ~/project/UKBB_GWAS_dev/admin/Get_Job_Script.ipynb csg\\\n",
    "    --template-file $tpl_file \\\n",
    "    --workflow-file $gcta_sos \\\n",
    "    --to-script $gcta_sbatch \\\n",
    "    --args \"$gcta_args\""
   ]
  },
  {
   "cell_type": "markdown",
   "id": "ec3d3790-dc77-4b52-8cdc-72caed59e2f7",
   "metadata": {
    "kernel": "Bash"
   },
   "source": [
    "## Get the GRM for all variants (rare + common)"
   ]
  },
  {
   "cell_type": "code",
   "execution_count": 49,
   "id": "2b1d3208-3c39-4e14-9d94-1347a8c329f1",
   "metadata": {
    "kernel": "Bash"
   },
   "outputs": [
    {
     "name": "stdout",
     "output_type": "stream",
     "text": [
      "INFO: Running \u001b[32mcsg\u001b[0m: Configuration for Columbia csg partition cluster\n",
      "INFO: \u001b[32mcsg\u001b[0m is \u001b[32mcompleted\u001b[0m.\n",
      "INFO: \u001b[32mcsg\u001b[0m output:   \u001b[32m/mnt/mfs/statgen/UKBiobank/results/ARHI_heritability/052022_grm_allvars/allvars_grm_eur_unrel_2022-05-20.sbatch\u001b[0m\n",
      "INFO: Workflow csg (ID=w8df80d9b5785842a) is executed successfully with 1 completed step.\n",
      "\n"
     ]
    }
   ],
   "source": [
    "bfile=~/UKBiobank/results/ARHI_heritability/051922_merged_bed/ukb23156_merged_eur_unrel_allvars.bed\n",
    "cwd=/mnt/mfs/statgen/UKBiobank/results/ARHI_heritability/052022_grm_allvars\n",
    "numThreads=20\n",
    "gcta_sbatch=/mnt/mfs/statgen/UKBiobank/results/ARHI_heritability/052022_grm_allvars/allvars_grm_eur_unrel_$(date +\"%Y-%m-%d\").sbatch\n",
    "gcta_sos=~/project/bioworkflows/GWAS/LMM.ipynb\n",
    "tpl_file=~/project/bioworkflows/admin/csg.yml\n",
    "container=~/containers/lmm.sif\n",
    "#Phenofile is just inputed as a requirement for the LMM to run but it is not actually needed for GRM calculation\n",
    "phenoFile=/mnt/mfs/statgen/UKBiobank/phenotype_files/hearing_impairment/090321_UKBB_Hearing_aid_f3393_expandedwhite_6436cases_96601ctrl_PC1_2.tsv\n",
    "phenoCol=f3393\n",
    "covarCol=sex\n",
    "qCovarCol=\"age PC1 PC2\"\n",
    "mem='8G'\n",
    "walltime='48h'\n",
    "\n",
    "gcta_args=\"\"\"merge_plink\n",
    "    --cwd $cwd\n",
    "    --bfile $bfile\n",
    "    --numThreads $numThreads\n",
    "    --container $container\n",
    "\"\"\"\n",
    "\n",
    "sos run ~/project/UKBB_GWAS_dev/admin/Get_Job_Script.ipynb csg\\\n",
    "    --template-file $tpl_file \\\n",
    "    --workflow-file $gcta_sos \\\n",
    "    --to-script $gcta_sbatch \\\n",
    "    --args \"$gcta_args\""
   ]
  },
  {
   "cell_type": "code",
   "execution_count": null,
   "id": "d4321258-1946-4d02-bb49-4b47dd4d7bdd",
   "metadata": {
    "kernel": "Bash"
   },
   "outputs": [],
   "source": [
    "###### Create a file containing multiple GRMs in a directory (need full path) ######\n",
    "\n",
    "for i in *.grm.bin ; do readlink -f \"$i\"  | cut -d'.' -f1-2 >>  ${mgrm_file_path}; done"
   ]
  },
  {
   "cell_type": "markdown",
   "id": "ad66fb97-b3dd-47dd-95a1-c829a2a8ce7d",
   "metadata": {
    "kernel": "Bash"
   },
   "source": [
    "## Do LD prunning for each group of variants"
   ]
  },
  {
   "cell_type": "markdown",
   "id": "c0887116-d7c7-478f-a02d-647c9964a201",
   "metadata": {
    "kernel": "Bash"
   },
   "source": [
    "```\n",
    "i={1..22}\n",
    "plink \\\n",
    "--bfile ${BED_file_merged_QC} \\\n",
    "--chr \"$i\" \\\n",
    "--extract ${list_variants_bin} \\\n",
    "--indep-pairwise 50 5 0.1 \\\n",
    "--out ${out_indep_var}_chr\"$i\" \\\n",
    "--threads ${ncpu}\n",
    "```"
   ]
  },
  {
   "cell_type": "markdown",
   "id": "4e23a58f-4e1b-42c0-9e1c-e6d3efc4be6e",
   "metadata": {
    "kernel": "Bash"
   },
   "source": [
    "### LD pruning for common variants"
   ]
  },
  {
   "cell_type": "code",
   "execution_count": 61,
   "id": "d3797233-c933-44d5-af09-3e92e860b36b",
   "metadata": {
    "kernel": "Bash"
   },
   "outputs": [
    {
     "name": "stdout",
     "output_type": "stream",
     "text": [
      "INFO: Running \u001b[32mcsg\u001b[0m: Configuration for Columbia csg partition cluster\n",
      "INFO: \u001b[32mcsg\u001b[0m is \u001b[32mcompleted\u001b[0m.\n",
      "INFO: \u001b[32mcsg\u001b[0m output:   \u001b[32m/mnt/mfs/statgen/UKBiobank/results/ARHI_heritability/052022_ldprun_common/common_ldprun_eur_unrel_2022-05-20.sbatch\u001b[0m\n",
      "INFO: Workflow csg (ID=w39d73fa64d48acf5) is executed successfully with 1 completed step.\n",
      "\n"
     ]
    }
   ],
   "source": [
    "## Selected White European unrelated individuals \n",
    "UKBB_PATH=/mnt/mfs/statgen/UKBiobank\n",
    "cwd=$UKBB_PATH/results/ARHI_heritability/052022_ldprun_common\n",
    "## Use the exome filtered file\n",
    "genoFile=~/UKBiobank/results/ARHI_heritability/051922_merged_bed/ukb23156_merged_eur_unrel_commonvarsMAFabove0.01.bed\n",
    "maf_filter=0 \n",
    "geno_filter=0\n",
    "hwe_filter=0\n",
    "mind_filter=0\n",
    "window=50\n",
    "shift=10\n",
    "r2=0.1\n",
    "gwas_sbatch=/mnt/mfs/statgen/UKBiobank/results/ARHI_heritability/052022_ldprun_common/common_ldprun_eur_unrel_$(date +\"%Y-%m-%d\").sbatch\n",
    "gwasqc_sos=~/project/xqtl-pipeline/code/data_preprocessing/genotype/GWAS_QC.ipynb\n",
    "tpl_file=~/project/bioworkflows/admin/csg2.yml\n",
    "container=~/containers/bioinfo.sif\n",
    "numThreads=20\n",
    "job_size=1\n",
    "mem='30G'\n",
    "\n",
    "gwasqc_args=\"\"\"qc:2\n",
    "    --cwd $cwd\n",
    "    --genoFile $genoFile\n",
    "    --maf_filter $maf_filter\n",
    "    --geno_filter $geno_filter\n",
    "    --hwe_filter $hwe_filter\n",
    "    --mind_filter $mind_filter\n",
    "    --window $window\n",
    "    --shift $shift\n",
    "    --r2 $r2\n",
    "    --numThreads $numThreads \n",
    "    --job_size $job_size\n",
    "    --container $container\n",
    "    --mem $mem\n",
    "\"\"\"\n",
    "\n",
    "sos run ~/project/UKBB_GWAS_dev/admin/Get_Job_Script.ipynb csg\\\n",
    "    --template-file $tpl_file \\\n",
    "    --workflow-file $gwasqc_sos \\\n",
    "    --to-script $gwas_sbatch \\\n",
    "    --args \"$gwasqc_args\"\n"
   ]
  },
  {
   "cell_type": "markdown",
   "id": "9cdae2dc-5bc7-49fb-bd50-c08fb4eb5fd2",
   "metadata": {
    "kernel": "Bash"
   },
   "source": [
    "### LD pruning for rare variants"
   ]
  },
  {
   "cell_type": "code",
   "execution_count": 62,
   "id": "006f2b6d-bd33-4f08-94cf-601f3f313197",
   "metadata": {
    "kernel": "Bash"
   },
   "outputs": [
    {
     "name": "stdout",
     "output_type": "stream",
     "text": [
      "INFO: Running \u001b[32mcsg\u001b[0m: Configuration for Columbia csg partition cluster\n",
      "INFO: \u001b[32mcsg\u001b[0m is \u001b[32mcompleted\u001b[0m.\n",
      "INFO: \u001b[32mcsg\u001b[0m output:   \u001b[32m/mnt/mfs/statgen/UKBiobank/results/ARHI_heritability/052022_ldprun_rare/rare_ldprun_eur_unrel_2022-05-20.sbatch\u001b[0m\n",
      "INFO: Workflow csg (ID=wd5c42b2fe0425a2b) is executed successfully with 1 completed step.\n",
      "\n"
     ]
    }
   ],
   "source": [
    "## Selected White European unrelated individuals \n",
    "UKBB_PATH=/mnt/mfs/statgen/UKBiobank\n",
    "cwd=$UKBB_PATH/results/ARHI_heritability/052022_ldprun_rare\n",
    "## Use the exome filtered file\n",
    "genoFile=~/UKBiobank/results/ARHI_heritability/051922_merged_bed/ukb23156_merged_eur_unrel_rarevarsMAFbelow0.01.bed\n",
    "window=2000\n",
    "shift=400\n",
    "r2=0.01\n",
    "gwas_sbatch=$UKBB_PATH/results/ARHI_heritability/052022_ldprun_rare/rare_ldprun_eur_unrel_$(date +\"%Y-%m-%d\").sbatch\n",
    "gwasqc_sos=~/project/xqtl-pipeline/code/data_preprocessing/genotype/GWAS_QC.ipynb\n",
    "tpl_file=~/project/bioworkflows/admin/csg.yml\n",
    "container=~/containers/bioinfo.sif\n",
    "numThreads=20\n",
    "job_size=1\n",
    "mem='30G'\n",
    "\n",
    "gwasqc_args=\"\"\"qc:2\n",
    "    --cwd $cwd\n",
    "    --genoFile $genoFile\n",
    "    --window $window\n",
    "    --shift $shift\n",
    "    --r2 $r2\n",
    "    --numThreads $numThreads \n",
    "    --job_size $job_size\n",
    "    --container $container\n",
    "    --mem $mem\n",
    "\"\"\"\n",
    "\n",
    "sos run ~/project/UKBB_GWAS_dev/admin/Get_Job_Script.ipynb csg\\\n",
    "    --template-file $tpl_file \\\n",
    "    --workflow-file $gwasqc_sos \\\n",
    "    --to-script $gwas_sbatch \\\n",
    "    --args \"$gwasqc_args\"\n"
   ]
  },
  {
   "cell_type": "markdown",
   "id": "850694a9-d0bf-4719-a5f4-f9b0bf5e3e1f",
   "metadata": {
    "kernel": "Bash"
   },
   "source": [
    "## Recalculate PC's for the subset of unrelated"
   ]
  },
  {
   "cell_type": "markdown",
   "id": "6fdb51b8-0a11-4203-9d70-b623460d60a1",
   "metadata": {
    "kernel": "Bash"
   },
   "source": [
    "In the paper they use plink2 to calculate the PC's\n",
    "\n",
    "```\n",
    "plink2 \\\n",
    "--bfile ${BED_file_merged_QC} \\\n",
    "--extract ${list_variants_bin} \\\n",
    "--pca 20 approx \\\n",
    "--out ${PCA_out} \\\n",
    "--thread-num ${ncpu}\n",
    "```\n",
    "\n",
    "In our case we have developed a pipeline that uses flashpca. We use that one instead"
   ]
  },
  {
   "cell_type": "markdown",
   "id": "3f15d8e7-d368-41db-9669-1eac1c1bb470",
   "metadata": {
    "kernel": "Bash"
   },
   "source": [
    "### PCA for f3393 common variants"
   ]
  },
  {
   "cell_type": "markdown",
   "id": "568b772e-7b8e-4809-b006-7f857fed4172",
   "metadata": {
    "kernel": "Bash"
   },
   "source": [
    "#### Step 1"
   ]
  },
  {
   "cell_type": "code",
   "execution_count": 63,
   "id": "b1970a82-7754-44be-ac6a-1e1bd66849c8",
   "metadata": {
    "kernel": "Bash"
   },
   "outputs": [
    {
     "name": "stdout",
     "output_type": "stream",
     "text": [
      "INFO: Running \u001b[32mcsg\u001b[0m: Configuration for Columbia csg partition cluster\n",
      "INFO: \u001b[32mcsg\u001b[0m is \u001b[32mcompleted\u001b[0m.\n",
      "INFO: \u001b[32mcsg\u001b[0m output:   \u001b[32m/mnt/mfs/statgen/UKBiobank/results/ARHI_heritability/052022_pca_common/common_pca_f3393_exome_2022-05-20.sbatch\u001b[0m\n",
      "INFO: Workflow csg (ID=w9bd46fcb4c4e3372) is executed successfully with 1 completed step.\n",
      "\n"
     ]
    }
   ],
   "source": [
    "## Columbia's cluster\n",
    "cwd=/mnt/mfs/statgen/UKBiobank/results/ARHI_heritability/052022_pca_common/f3393\n",
    "gwas_sbatch=/mnt/mfs/statgen/UKBiobank/results/ARHI_heritability/052022_pca_common/common_pca_f3393_exome_$(date +\"%Y-%m-%d\").sbatch\n",
    "## Use qc'ed genotype array\n",
    "genoFile=/mnt/mfs/statgen/UKBiobank/results/ARHI_heritability/052022_ldprun_common/ukb23156_merged_eur_unrel_commonvarsMAFabove0.01.filtered.prune.bed\n",
    "keep_samples=$UKBB_PATH/results/083021_PCA_results/090321_UKBB_Hearing_aid_f3393_expandedwhite_6436cases_96601ctrl.keep_id\n",
    "\n",
    "#GWAS QC variables set all of this variables to 0 to avoid doing more filtering\n",
    "maf_filter=0\n",
    "geno_filter=0\n",
    "hwe_filter=0\n",
    "mind_filter=0\n",
    "numThreads=1\n",
    "mem='30G'\n",
    "gwasqc_sos=~/project/xqtl-pipeline/code/data_preprocessing/genotype/GWAS_QC.ipynb\n",
    "tpl_file=~/project/bioworkflows/admin/csg.yml\n",
    "container=~/containers/bioinfo.sif\n",
    "\n",
    "gwasqc_args=\"\"\"qc:1\n",
    "    --cwd $cwd\n",
    "    --genoFile $genoFile\n",
    "    --keep_samples $keep_samples\n",
    "    --maf_filter $maf_filter\n",
    "    --geno_filter $geno_filter\n",
    "    --hwe_filter $hwe_filter\n",
    "    --mind_filter $mind_filter\n",
    "    --numThreads $numThreads \n",
    "    --container $container\n",
    "    --mem $mem\n",
    "\"\"\"\n",
    "\n",
    "sos run ~/project/UKBB_GWAS_dev/admin/Get_Job_Script.ipynb csg \\\n",
    "    --template-file $tpl_file \\\n",
    "    --workflow-file $gwasqc_sos \\\n",
    "    --to-script $gwas_sbatch \\\n",
    "    --args \"$gwasqc_args\""
   ]
  },
  {
   "cell_type": "markdown",
   "id": "21fede00-e0b9-4ec8-bd78-b891fab8b450",
   "metadata": {
    "kernel": "Bash"
   },
   "source": [
    "#### Step 2. "
   ]
  },
  {
   "cell_type": "code",
   "execution_count": 64,
   "id": "061bc7cc-9794-489b-b26e-1c4c14292414",
   "metadata": {
    "kernel": "Bash"
   },
   "outputs": [
    {
     "name": "stdout",
     "output_type": "stream",
     "text": [
      "INFO: Running \u001b[32mcsg\u001b[0m: Configuration for Columbia csg partition cluster\n",
      "INFO: \u001b[32mcsg\u001b[0m is \u001b[32mcompleted\u001b[0m.\n",
      "INFO: \u001b[32mcsg\u001b[0m output:   \u001b[32m/mnt/mfs/statgen/UKBiobank/results/ARHI_heritability/052022_pca_common/flashpca_f3393_common_2022-05-20.sbatch\u001b[0m\n",
      "INFO: Workflow csg (ID=w90c9447dc037bccd) is executed successfully with 1 completed step.\n",
      "\n"
     ]
    }
   ],
   "source": [
    "## Columbia's cluster\n",
    "cwd=/mnt/mfs/statgen/UKBiobank/results/ARHI_heritability/052022_pca_common/f3393\n",
    "#This is the bfile obtained in step 1\n",
    "genoFile=/mnt/mfs/statgen/UKBiobank/results/ARHI_heritability/052022_pca_common/f3393/cache/*.bed\n",
    "# Format FID, IID, pop\n",
    "phenoFile=/mnt/mfs/statgen/UKBiobank/results/083021_PCA_results/090321_UKBB_Hearing_aid_f3393_expandedwhite_6436cases_96601ctrl.phenopca\n",
    "label_col=ethnicity\n",
    "pop_col=ethnicity\n",
    "pca_sbatch=/mnt/mfs/statgen/UKBiobank/results/ARHI_heritability/052022_pca_common/flashpca_f3393_common_$(date +\"%Y-%m-%d\").sbatch\n",
    "k=10\n",
    "min_axis=0\n",
    "max_axis=0\n",
    "pca_sos=~/project/xqtl-pipeline/code/data_preprocessing/genotype/PCA.ipynb\n",
    "tpl_file=~/project/bioworkflows/admin/csg.yml\n",
    "container=~/containers/flashpcaR.sif\n",
    "\n",
    "pca_args=\"\"\"flashpca\n",
    "    --cwd $cwd\n",
    "    --genoFile $genoFile\n",
    "    --phenoFile $phenoFile\n",
    "    --k $k\n",
    "    --label_col $label_col\n",
    "    --pop_col $pop_col\n",
    "    --min_axis $min_axis\n",
    "    --max_axis $max_axis\n",
    "    --numThreads $numThreads \n",
    "    --container $container\n",
    "\"\"\"\n",
    "\n",
    "sos run  ~/project/UKBB_GWAS_dev/admin/Get_Job_Script.ipynb csg\\\n",
    "    --template-file $tpl_file \\\n",
    "    --workflow-file $pca_sos \\\n",
    "    --to-script $pca_sbatch \\\n",
    "    --args \"$pca_args\""
   ]
  },
  {
   "cell_type": "markdown",
   "id": "2b980c94-7141-4ea5-9f91-9bace2942095",
   "metadata": {
    "kernel": "Bash"
   },
   "source": [
    "### Merge the phenofile with the PC calculation for the available individuals (unrelated and white European) for common variants"
   ]
  },
  {
   "cell_type": "code",
   "execution_count": 1,
   "id": "d23be77b-c537-4114-91cb-1e0e5c18f9d3",
   "metadata": {
    "kernel": "R",
    "tags": []
   },
   "outputs": [
    {
     "name": "stderr",
     "output_type": "stream",
     "text": [
      "/home/dmc2245/miniconda3/lib/python3.8/site-packages/sos_notebook/kernel.py:1334: DeprecationWarning: Kernel._parent_header is deprecated in ipykernel 6. Use .get_parent()\n",
      "  msg['msg_id'] = self._parent_header['header']['msg_id']\n"
     ]
    }
   ],
   "source": [
    "pheno <- read.table(\"~/UKBiobank/phenotype_files/hearing_impairment/090321_UKBB_Hearing_aid_f3393_expandedwhite_6436cases_96601ctrl\", header=T)\n",
    "head(pheno)\n",
    "dim(pheno)"
   ]
  },
  {
   "cell_type": "code",
   "execution_count": 2,
   "id": "841a397f-3cbd-413d-b378-cb8e599fbb60",
   "metadata": {
    "kernel": "R",
    "tags": []
   },
   "outputs": [
    {
     "data": {
      "text/html": [
       "<table class=\"dataframe\">\n",
       "<caption>A data.frame: 6 x 14</caption>\n",
       "<thead>\n",
       "\t<tr><th></th><th scope=col>ID</th><th scope=col>FID</th><th scope=col>IID</th><th scope=col>ethnicity</th><th scope=col>PC1</th><th scope=col>PC2</th><th scope=col>PC3</th><th scope=col>PC4</th><th scope=col>PC5</th><th scope=col>PC6</th><th scope=col>PC7</th><th scope=col>PC8</th><th scope=col>PC9</th><th scope=col>PC10</th></tr>\n",
       "\t<tr><th></th><th scope=col>&lt;fct&gt;</th><th scope=col>&lt;int&gt;</th><th scope=col>&lt;int&gt;</th><th scope=col>&lt;fct&gt;</th><th scope=col>&lt;dbl&gt;</th><th scope=col>&lt;dbl&gt;</th><th scope=col>&lt;dbl&gt;</th><th scope=col>&lt;dbl&gt;</th><th scope=col>&lt;dbl&gt;</th><th scope=col>&lt;dbl&gt;</th><th scope=col>&lt;dbl&gt;</th><th scope=col>&lt;dbl&gt;</th><th scope=col>&lt;dbl&gt;</th><th scope=col>&lt;dbl&gt;</th></tr>\n",
       "</thead>\n",
       "<tbody>\n",
       "\t<tr><th scope=row>1</th><td>1000078:1000078</td><td>1000078</td><td>1000078</td><td>British                   </td><td> 0.001867425</td><td> 0.013093557</td><td>-0.012545642</td><td>-0.0077773685</td><td>-0.0076396044</td><td>-0.004067034</td><td> 0.003904697</td><td>-0.0066333866</td><td>-0.011400679</td><td>-0.003770311</td></tr>\n",
       "\t<tr><th scope=row>2</th><td>1000081:1000081</td><td>1000081</td><td>1000081</td><td>British                   </td><td> 0.134179544</td><td>-0.015138242</td><td> 0.014278056</td><td> 0.0142731188</td><td>-0.0085332226</td><td>-0.010936588</td><td> 0.011577007</td><td> 0.0004865037</td><td> 0.008102219</td><td>-0.002117615</td></tr>\n",
       "\t<tr><th scope=row>3</th><td>1000236:1000236</td><td>1000236</td><td>1000236</td><td>British                   </td><td> 0.008867756</td><td> 0.011425836</td><td>-0.023071386</td><td> 0.0064096586</td><td> 0.0033986306</td><td> 0.021169599</td><td>-0.003277936</td><td> 0.0054276548</td><td>-0.010657910</td><td>-0.034102210</td></tr>\n",
       "\t<tr><th scope=row>4</th><td>1000331:1000331</td><td>1000331</td><td>1000331</td><td>Any_other_white_background</td><td> 0.080695947</td><td>-0.003566874</td><td>-0.002728336</td><td>-0.0039599944</td><td> 0.0005021192</td><td> 0.003650339</td><td> 0.029506097</td><td> 0.0038201997</td><td>-0.013963517</td><td>-0.016294060</td></tr>\n",
       "\t<tr><th scope=row>5</th><td>1000340:1000340</td><td>1000340</td><td>1000340</td><td>British                   </td><td>-0.012073413</td><td>-0.005182776</td><td>-0.009290790</td><td> 0.0007751943</td><td>-0.0024663547</td><td>-0.006647973</td><td> 0.002676356</td><td>-0.0018374353</td><td> 0.002831617</td><td>-0.001478281</td></tr>\n",
       "\t<tr><th scope=row>6</th><td>1000415:1000415</td><td>1000415</td><td>1000415</td><td>Irish                     </td><td>-0.018177064</td><td>-0.053073714</td><td>-0.000446653</td><td>-0.0024920664</td><td> 0.0170787094</td><td>-0.003519533</td><td> 0.005667462</td><td> 0.0251297768</td><td>-0.006116507</td><td> 0.005747638</td></tr>\n",
       "</tbody>\n",
       "</table>\n"
      ],
      "text/latex": [
       "A data.frame: 6 x 14\n",
       "\\begin{tabular}{r|llllllllllllll}\n",
       "  & ID & FID & IID & ethnicity & PC1 & PC2 & PC3 & PC4 & PC5 & PC6 & PC7 & PC8 & PC9 & PC10\\\\\n",
       "  & <fct> & <int> & <int> & <fct> & <dbl> & <dbl> & <dbl> & <dbl> & <dbl> & <dbl> & <dbl> & <dbl> & <dbl> & <dbl>\\\\\n",
       "\\hline\n",
       "\t1 & 1000078:1000078 & 1000078 & 1000078 & British                    &  0.001867425 &  0.013093557 & -0.012545642 & -0.0077773685 & -0.0076396044 & -0.004067034 &  0.003904697 & -0.0066333866 & -0.011400679 & -0.003770311\\\\\n",
       "\t2 & 1000081:1000081 & 1000081 & 1000081 & British                    &  0.134179544 & -0.015138242 &  0.014278056 &  0.0142731188 & -0.0085332226 & -0.010936588 &  0.011577007 &  0.0004865037 &  0.008102219 & -0.002117615\\\\\n",
       "\t3 & 1000236:1000236 & 1000236 & 1000236 & British                    &  0.008867756 &  0.011425836 & -0.023071386 &  0.0064096586 &  0.0033986306 &  0.021169599 & -0.003277936 &  0.0054276548 & -0.010657910 & -0.034102210\\\\\n",
       "\t4 & 1000331:1000331 & 1000331 & 1000331 & Any\\_other\\_white\\_background &  0.080695947 & -0.003566874 & -0.002728336 & -0.0039599944 &  0.0005021192 &  0.003650339 &  0.029506097 &  0.0038201997 & -0.013963517 & -0.016294060\\\\\n",
       "\t5 & 1000340:1000340 & 1000340 & 1000340 & British                    & -0.012073413 & -0.005182776 & -0.009290790 &  0.0007751943 & -0.0024663547 & -0.006647973 &  0.002676356 & -0.0018374353 &  0.002831617 & -0.001478281\\\\\n",
       "\t6 & 1000415:1000415 & 1000415 & 1000415 & Irish                      & -0.018177064 & -0.053073714 & -0.000446653 & -0.0024920664 &  0.0170787094 & -0.003519533 &  0.005667462 &  0.0251297768 & -0.006116507 &  0.005747638\\\\\n",
       "\\end{tabular}\n"
      ],
      "text/markdown": [
       "\n",
       "A data.frame: 6 x 14\n",
       "\n",
       "| <!--/--> | ID &lt;fct&gt; | FID &lt;int&gt; | IID &lt;int&gt; | ethnicity &lt;fct&gt; | PC1 &lt;dbl&gt; | PC2 &lt;dbl&gt; | PC3 &lt;dbl&gt; | PC4 &lt;dbl&gt; | PC5 &lt;dbl&gt; | PC6 &lt;dbl&gt; | PC7 &lt;dbl&gt; | PC8 &lt;dbl&gt; | PC9 &lt;dbl&gt; | PC10 &lt;dbl&gt; |\n",
       "|---|---|---|---|---|---|---|---|---|---|---|---|---|---|---|\n",
       "| 1 | 1000078:1000078 | 1000078 | 1000078 | British                    |  0.001867425 |  0.013093557 | -0.012545642 | -0.0077773685 | -0.0076396044 | -0.004067034 |  0.003904697 | -0.0066333866 | -0.011400679 | -0.003770311 |\n",
       "| 2 | 1000081:1000081 | 1000081 | 1000081 | British                    |  0.134179544 | -0.015138242 |  0.014278056 |  0.0142731188 | -0.0085332226 | -0.010936588 |  0.011577007 |  0.0004865037 |  0.008102219 | -0.002117615 |\n",
       "| 3 | 1000236:1000236 | 1000236 | 1000236 | British                    |  0.008867756 |  0.011425836 | -0.023071386 |  0.0064096586 |  0.0033986306 |  0.021169599 | -0.003277936 |  0.0054276548 | -0.010657910 | -0.034102210 |\n",
       "| 4 | 1000331:1000331 | 1000331 | 1000331 | Any_other_white_background |  0.080695947 | -0.003566874 | -0.002728336 | -0.0039599944 |  0.0005021192 |  0.003650339 |  0.029506097 |  0.0038201997 | -0.013963517 | -0.016294060 |\n",
       "| 5 | 1000340:1000340 | 1000340 | 1000340 | British                    | -0.012073413 | -0.005182776 | -0.009290790 |  0.0007751943 | -0.0024663547 | -0.006647973 |  0.002676356 | -0.0018374353 |  0.002831617 | -0.001478281 |\n",
       "| 6 | 1000415:1000415 | 1000415 | 1000415 | Irish                      | -0.018177064 | -0.053073714 | -0.000446653 | -0.0024920664 |  0.0170787094 | -0.003519533 |  0.005667462 |  0.0251297768 | -0.006116507 |  0.005747638 |\n",
       "\n"
      ],
      "text/plain": [
       "  ID              FID     IID     ethnicity                  PC1         \n",
       "1 1000078:1000078 1000078 1000078 British                     0.001867425\n",
       "2 1000081:1000081 1000081 1000081 British                     0.134179544\n",
       "3 1000236:1000236 1000236 1000236 British                     0.008867756\n",
       "4 1000331:1000331 1000331 1000331 Any_other_white_background  0.080695947\n",
       "5 1000340:1000340 1000340 1000340 British                    -0.012073413\n",
       "6 1000415:1000415 1000415 1000415 Irish                      -0.018177064\n",
       "  PC2          PC3          PC4           PC5           PC6         \n",
       "1  0.013093557 -0.012545642 -0.0077773685 -0.0076396044 -0.004067034\n",
       "2 -0.015138242  0.014278056  0.0142731188 -0.0085332226 -0.010936588\n",
       "3  0.011425836 -0.023071386  0.0064096586  0.0033986306  0.021169599\n",
       "4 -0.003566874 -0.002728336 -0.0039599944  0.0005021192  0.003650339\n",
       "5 -0.005182776 -0.009290790  0.0007751943 -0.0024663547 -0.006647973\n",
       "6 -0.053073714 -0.000446653 -0.0024920664  0.0170787094 -0.003519533\n",
       "  PC7          PC8           PC9          PC10        \n",
       "1  0.003904697 -0.0066333866 -0.011400679 -0.003770311\n",
       "2  0.011577007  0.0004865037  0.008102219 -0.002117615\n",
       "3 -0.003277936  0.0054276548 -0.010657910 -0.034102210\n",
       "4  0.029506097  0.0038201997 -0.013963517 -0.016294060\n",
       "5  0.002676356 -0.0018374353  0.002831617 -0.001478281\n",
       "6  0.005667462  0.0251297768 -0.006116507  0.005747638"
      ]
     },
     "metadata": {},
     "output_type": "display_data"
    },
    {
     "data": {
      "text/html": [
       "<style>\n",
       ".list-inline {list-style: none; margin:0; padding: 0}\n",
       ".list-inline>li {display: inline-block}\n",
       ".list-inline>li:not(:last-child)::after {content: \"\\00b7\"; padding: 0 .5ex}\n",
       "</style>\n",
       "<ol class=list-inline><li>91950</li><li>14</li></ol>\n"
      ],
      "text/latex": [
       "\\begin{enumerate*}\n",
       "\\item 91950\n",
       "\\item 14\n",
       "\\end{enumerate*}\n"
      ],
      "text/markdown": [
       "1. 91950\n",
       "2. 14\n",
       "\n",
       "\n"
      ],
      "text/plain": [
       "[1] 91950    14"
      ]
     },
     "metadata": {},
     "output_type": "display_data"
    }
   ],
   "source": [
    "pca <- read.table(\"/mnt/mfs/statgen/UKBiobank/results/ARHI_heritability/052022_pca_common/f3393/090321_UKBB_Hearing_aid_f3393_expandedwhite_6436cases_96601ctrl.pca.txt\", header=T)\n",
    "head(pca)\n",
    "dim(pca)"
   ]
  },
  {
   "cell_type": "code",
   "execution_count": 3,
   "id": "e7fc872d-498f-45b4-aef3-c922bb1e08ea",
   "metadata": {
    "kernel": "R",
    "tags": []
   },
   "outputs": [
    {
     "data": {
      "text/html": [
       "<table class=\"dataframe\">\n",
       "<caption>A data.frame: 6 x 17</caption>\n",
       "<thead>\n",
       "\t<tr><th></th><th scope=col>FID</th><th scope=col>IID</th><th scope=col>sex</th><th scope=col>f3393</th><th scope=col>age</th><th scope=col>ID</th><th scope=col>ethnicity</th><th scope=col>PC1</th><th scope=col>PC2</th><th scope=col>PC3</th><th scope=col>PC4</th><th scope=col>PC5</th><th scope=col>PC6</th><th scope=col>PC7</th><th scope=col>PC8</th><th scope=col>PC9</th><th scope=col>PC10</th></tr>\n",
       "\t<tr><th></th><th scope=col>&lt;int&gt;</th><th scope=col>&lt;int&gt;</th><th scope=col>&lt;int&gt;</th><th scope=col>&lt;int&gt;</th><th scope=col>&lt;int&gt;</th><th scope=col>&lt;fct&gt;</th><th scope=col>&lt;fct&gt;</th><th scope=col>&lt;dbl&gt;</th><th scope=col>&lt;dbl&gt;</th><th scope=col>&lt;dbl&gt;</th><th scope=col>&lt;dbl&gt;</th><th scope=col>&lt;dbl&gt;</th><th scope=col>&lt;dbl&gt;</th><th scope=col>&lt;dbl&gt;</th><th scope=col>&lt;dbl&gt;</th><th scope=col>&lt;dbl&gt;</th><th scope=col>&lt;dbl&gt;</th></tr>\n",
       "</thead>\n",
       "<tbody>\n",
       "\t<tr><th scope=row>1</th><td>1000078</td><td>1000078</td><td>1</td><td>0</td><td>60</td><td>1000078:1000078</td><td>British                   </td><td> 0.001867425</td><td> 0.013093557</td><td>-0.012545642</td><td>-0.0077773685</td><td>-0.0076396044</td><td>-0.004067034</td><td> 0.003904697</td><td>-0.0066333866</td><td>-0.011400679</td><td>-0.003770311</td></tr>\n",
       "\t<tr><th scope=row>2</th><td>1000081</td><td>1000081</td><td>0</td><td>0</td><td>67</td><td>1000081:1000081</td><td>British                   </td><td> 0.134179544</td><td>-0.015138242</td><td> 0.014278056</td><td> 0.0142731188</td><td>-0.0085332226</td><td>-0.010936588</td><td> 0.011577007</td><td> 0.0004865037</td><td> 0.008102219</td><td>-0.002117615</td></tr>\n",
       "\t<tr><th scope=row>3</th><td>1000236</td><td>1000236</td><td>0</td><td>0</td><td>70</td><td>1000236:1000236</td><td>British                   </td><td> 0.008867756</td><td> 0.011425836</td><td>-0.023071386</td><td> 0.0064096586</td><td> 0.0033986306</td><td> 0.021169599</td><td>-0.003277936</td><td> 0.0054276548</td><td>-0.010657910</td><td>-0.034102210</td></tr>\n",
       "\t<tr><th scope=row>4</th><td>1000331</td><td>1000331</td><td>1</td><td>0</td><td>53</td><td>1000331:1000331</td><td>Any_other_white_background</td><td> 0.080695947</td><td>-0.003566874</td><td>-0.002728336</td><td>-0.0039599944</td><td> 0.0005021192</td><td> 0.003650339</td><td> 0.029506097</td><td> 0.0038201997</td><td>-0.013963517</td><td>-0.016294060</td></tr>\n",
       "\t<tr><th scope=row>5</th><td>1000340</td><td>1000340</td><td>1</td><td>0</td><td>54</td><td>1000340:1000340</td><td>British                   </td><td>-0.012073413</td><td>-0.005182776</td><td>-0.009290790</td><td> 0.0007751943</td><td>-0.0024663547</td><td>-0.006647973</td><td> 0.002676356</td><td>-0.0018374353</td><td> 0.002831617</td><td>-0.001478281</td></tr>\n",
       "\t<tr><th scope=row>6</th><td>1000415</td><td>1000415</td><td>0</td><td>0</td><td>65</td><td>1000415:1000415</td><td>Irish                     </td><td>-0.018177064</td><td>-0.053073714</td><td>-0.000446653</td><td>-0.0024920664</td><td> 0.0170787094</td><td>-0.003519533</td><td> 0.005667462</td><td> 0.0251297768</td><td>-0.006116507</td><td> 0.005747638</td></tr>\n",
       "</tbody>\n",
       "</table>\n"
      ],
      "text/latex": [
       "A data.frame: 6 x 17\n",
       "\\begin{tabular}{r|lllllllllllllllll}\n",
       "  & FID & IID & sex & f3393 & age & ID & ethnicity & PC1 & PC2 & PC3 & PC4 & PC5 & PC6 & PC7 & PC8 & PC9 & PC10\\\\\n",
       "  & <int> & <int> & <int> & <int> & <int> & <fct> & <fct> & <dbl> & <dbl> & <dbl> & <dbl> & <dbl> & <dbl> & <dbl> & <dbl> & <dbl> & <dbl>\\\\\n",
       "\\hline\n",
       "\t1 & 1000078 & 1000078 & 1 & 0 & 60 & 1000078:1000078 & British                    &  0.001867425 &  0.013093557 & -0.012545642 & -0.0077773685 & -0.0076396044 & -0.004067034 &  0.003904697 & -0.0066333866 & -0.011400679 & -0.003770311\\\\\n",
       "\t2 & 1000081 & 1000081 & 0 & 0 & 67 & 1000081:1000081 & British                    &  0.134179544 & -0.015138242 &  0.014278056 &  0.0142731188 & -0.0085332226 & -0.010936588 &  0.011577007 &  0.0004865037 &  0.008102219 & -0.002117615\\\\\n",
       "\t3 & 1000236 & 1000236 & 0 & 0 & 70 & 1000236:1000236 & British                    &  0.008867756 &  0.011425836 & -0.023071386 &  0.0064096586 &  0.0033986306 &  0.021169599 & -0.003277936 &  0.0054276548 & -0.010657910 & -0.034102210\\\\\n",
       "\t4 & 1000331 & 1000331 & 1 & 0 & 53 & 1000331:1000331 & Any\\_other\\_white\\_background &  0.080695947 & -0.003566874 & -0.002728336 & -0.0039599944 &  0.0005021192 &  0.003650339 &  0.029506097 &  0.0038201997 & -0.013963517 & -0.016294060\\\\\n",
       "\t5 & 1000340 & 1000340 & 1 & 0 & 54 & 1000340:1000340 & British                    & -0.012073413 & -0.005182776 & -0.009290790 &  0.0007751943 & -0.0024663547 & -0.006647973 &  0.002676356 & -0.0018374353 &  0.002831617 & -0.001478281\\\\\n",
       "\t6 & 1000415 & 1000415 & 0 & 0 & 65 & 1000415:1000415 & Irish                      & -0.018177064 & -0.053073714 & -0.000446653 & -0.0024920664 &  0.0170787094 & -0.003519533 &  0.005667462 &  0.0251297768 & -0.006116507 &  0.005747638\\\\\n",
       "\\end{tabular}\n"
      ],
      "text/markdown": [
       "\n",
       "A data.frame: 6 x 17\n",
       "\n",
       "| <!--/--> | FID &lt;int&gt; | IID &lt;int&gt; | sex &lt;int&gt; | f3393 &lt;int&gt; | age &lt;int&gt; | ID &lt;fct&gt; | ethnicity &lt;fct&gt; | PC1 &lt;dbl&gt; | PC2 &lt;dbl&gt; | PC3 &lt;dbl&gt; | PC4 &lt;dbl&gt; | PC5 &lt;dbl&gt; | PC6 &lt;dbl&gt; | PC7 &lt;dbl&gt; | PC8 &lt;dbl&gt; | PC9 &lt;dbl&gt; | PC10 &lt;dbl&gt; |\n",
       "|---|---|---|---|---|---|---|---|---|---|---|---|---|---|---|---|---|---|\n",
       "| 1 | 1000078 | 1000078 | 1 | 0 | 60 | 1000078:1000078 | British                    |  0.001867425 |  0.013093557 | -0.012545642 | -0.0077773685 | -0.0076396044 | -0.004067034 |  0.003904697 | -0.0066333866 | -0.011400679 | -0.003770311 |\n",
       "| 2 | 1000081 | 1000081 | 0 | 0 | 67 | 1000081:1000081 | British                    |  0.134179544 | -0.015138242 |  0.014278056 |  0.0142731188 | -0.0085332226 | -0.010936588 |  0.011577007 |  0.0004865037 |  0.008102219 | -0.002117615 |\n",
       "| 3 | 1000236 | 1000236 | 0 | 0 | 70 | 1000236:1000236 | British                    |  0.008867756 |  0.011425836 | -0.023071386 |  0.0064096586 |  0.0033986306 |  0.021169599 | -0.003277936 |  0.0054276548 | -0.010657910 | -0.034102210 |\n",
       "| 4 | 1000331 | 1000331 | 1 | 0 | 53 | 1000331:1000331 | Any_other_white_background |  0.080695947 | -0.003566874 | -0.002728336 | -0.0039599944 |  0.0005021192 |  0.003650339 |  0.029506097 |  0.0038201997 | -0.013963517 | -0.016294060 |\n",
       "| 5 | 1000340 | 1000340 | 1 | 0 | 54 | 1000340:1000340 | British                    | -0.012073413 | -0.005182776 | -0.009290790 |  0.0007751943 | -0.0024663547 | -0.006647973 |  0.002676356 | -0.0018374353 |  0.002831617 | -0.001478281 |\n",
       "| 6 | 1000415 | 1000415 | 0 | 0 | 65 | 1000415:1000415 | Irish                      | -0.018177064 | -0.053073714 | -0.000446653 | -0.0024920664 |  0.0170787094 | -0.003519533 |  0.005667462 |  0.0251297768 | -0.006116507 |  0.005747638 |\n",
       "\n"
      ],
      "text/plain": [
       "  FID     IID     sex f3393 age ID              ethnicity                 \n",
       "1 1000078 1000078 1   0     60  1000078:1000078 British                   \n",
       "2 1000081 1000081 0   0     67  1000081:1000081 British                   \n",
       "3 1000236 1000236 0   0     70  1000236:1000236 British                   \n",
       "4 1000331 1000331 1   0     53  1000331:1000331 Any_other_white_background\n",
       "5 1000340 1000340 1   0     54  1000340:1000340 British                   \n",
       "6 1000415 1000415 0   0     65  1000415:1000415 Irish                     \n",
       "  PC1          PC2          PC3          PC4           PC5          \n",
       "1  0.001867425  0.013093557 -0.012545642 -0.0077773685 -0.0076396044\n",
       "2  0.134179544 -0.015138242  0.014278056  0.0142731188 -0.0085332226\n",
       "3  0.008867756  0.011425836 -0.023071386  0.0064096586  0.0033986306\n",
       "4  0.080695947 -0.003566874 -0.002728336 -0.0039599944  0.0005021192\n",
       "5 -0.012073413 -0.005182776 -0.009290790  0.0007751943 -0.0024663547\n",
       "6 -0.018177064 -0.053073714 -0.000446653 -0.0024920664  0.0170787094\n",
       "  PC6          PC7          PC8           PC9          PC10        \n",
       "1 -0.004067034  0.003904697 -0.0066333866 -0.011400679 -0.003770311\n",
       "2 -0.010936588  0.011577007  0.0004865037  0.008102219 -0.002117615\n",
       "3  0.021169599 -0.003277936  0.0054276548 -0.010657910 -0.034102210\n",
       "4  0.003650339  0.029506097  0.0038201997 -0.013963517 -0.016294060\n",
       "5 -0.006647973  0.002676356 -0.0018374353  0.002831617 -0.001478281\n",
       "6 -0.003519533  0.005667462  0.0251297768 -0.006116507  0.005747638"
      ]
     },
     "metadata": {},
     "output_type": "display_data"
    },
    {
     "data": {
      "text/html": [
       "<style>\n",
       ".list-inline {list-style: none; margin:0; padding: 0}\n",
       ".list-inline>li {display: inline-block}\n",
       ".list-inline>li:not(:last-child)::after {content: \"\\00b7\"; padding: 0 .5ex}\n",
       "</style>\n",
       "<ol class=list-inline><li>91950</li><li>17</li></ol>\n"
      ],
      "text/latex": [
       "\\begin{enumerate*}\n",
       "\\item 91950\n",
       "\\item 17\n",
       "\\end{enumerate*}\n"
      ],
      "text/markdown": [
       "1. 91950\n",
       "2. 17\n",
       "\n",
       "\n"
      ],
      "text/plain": [
       "[1] 91950    17"
      ]
     },
     "metadata": {},
     "output_type": "display_data"
    },
    {
     "name": "stderr",
     "output_type": "stream",
     "text": [
      "\n",
      "Attaching package: ‘dplyr’\n",
      "\n",
      "\n",
      "The following objects are masked from ‘package:stats’:\n",
      "\n",
      "    filter, lag\n",
      "\n",
      "\n",
      "The following objects are masked from ‘package:base’:\n",
      "\n",
      "    intersect, setdiff, setequal, union\n",
      "\n",
      "\n"
     ]
    },
    {
     "data": {
      "text/html": [
       "<table class=\"dataframe\">\n",
       "<caption>A data.frame: 6 x 15</caption>\n",
       "<thead>\n",
       "\t<tr><th></th><th scope=col>FID</th><th scope=col>IID</th><th scope=col>sex</th><th scope=col>f3393</th><th scope=col>age</th><th scope=col>PC1</th><th scope=col>PC2</th><th scope=col>PC3</th><th scope=col>PC4</th><th scope=col>PC5</th><th scope=col>PC6</th><th scope=col>PC7</th><th scope=col>PC8</th><th scope=col>PC9</th><th scope=col>PC10</th></tr>\n",
       "\t<tr><th></th><th scope=col>&lt;int&gt;</th><th scope=col>&lt;int&gt;</th><th scope=col>&lt;int&gt;</th><th scope=col>&lt;int&gt;</th><th scope=col>&lt;int&gt;</th><th scope=col>&lt;dbl&gt;</th><th scope=col>&lt;dbl&gt;</th><th scope=col>&lt;dbl&gt;</th><th scope=col>&lt;dbl&gt;</th><th scope=col>&lt;dbl&gt;</th><th scope=col>&lt;dbl&gt;</th><th scope=col>&lt;dbl&gt;</th><th scope=col>&lt;dbl&gt;</th><th scope=col>&lt;dbl&gt;</th><th scope=col>&lt;dbl&gt;</th></tr>\n",
       "</thead>\n",
       "<tbody>\n",
       "\t<tr><th scope=row>1</th><td>1000078</td><td>1000078</td><td>1</td><td>0</td><td>60</td><td> 0.001867425</td><td> 0.013093557</td><td>-0.012545642</td><td>-0.0077773685</td><td>-0.0076396044</td><td>-0.004067034</td><td> 0.003904697</td><td>-0.0066333866</td><td>-0.011400679</td><td>-0.003770311</td></tr>\n",
       "\t<tr><th scope=row>2</th><td>1000081</td><td>1000081</td><td>0</td><td>0</td><td>67</td><td> 0.134179544</td><td>-0.015138242</td><td> 0.014278056</td><td> 0.0142731188</td><td>-0.0085332226</td><td>-0.010936588</td><td> 0.011577007</td><td> 0.0004865037</td><td> 0.008102219</td><td>-0.002117615</td></tr>\n",
       "\t<tr><th scope=row>3</th><td>1000236</td><td>1000236</td><td>0</td><td>0</td><td>70</td><td> 0.008867756</td><td> 0.011425836</td><td>-0.023071386</td><td> 0.0064096586</td><td> 0.0033986306</td><td> 0.021169599</td><td>-0.003277936</td><td> 0.0054276548</td><td>-0.010657910</td><td>-0.034102210</td></tr>\n",
       "\t<tr><th scope=row>4</th><td>1000331</td><td>1000331</td><td>1</td><td>0</td><td>53</td><td> 0.080695947</td><td>-0.003566874</td><td>-0.002728336</td><td>-0.0039599944</td><td> 0.0005021192</td><td> 0.003650339</td><td> 0.029506097</td><td> 0.0038201997</td><td>-0.013963517</td><td>-0.016294060</td></tr>\n",
       "\t<tr><th scope=row>5</th><td>1000340</td><td>1000340</td><td>1</td><td>0</td><td>54</td><td>-0.012073413</td><td>-0.005182776</td><td>-0.009290790</td><td> 0.0007751943</td><td>-0.0024663547</td><td>-0.006647973</td><td> 0.002676356</td><td>-0.0018374353</td><td> 0.002831617</td><td>-0.001478281</td></tr>\n",
       "\t<tr><th scope=row>6</th><td>1000415</td><td>1000415</td><td>0</td><td>0</td><td>65</td><td>-0.018177064</td><td>-0.053073714</td><td>-0.000446653</td><td>-0.0024920664</td><td> 0.0170787094</td><td>-0.003519533</td><td> 0.005667462</td><td> 0.0251297768</td><td>-0.006116507</td><td> 0.005747638</td></tr>\n",
       "</tbody>\n",
       "</table>\n"
      ],
      "text/latex": [
       "A data.frame: 6 x 15\n",
       "\\begin{tabular}{r|lllllllllllllll}\n",
       "  & FID & IID & sex & f3393 & age & PC1 & PC2 & PC3 & PC4 & PC5 & PC6 & PC7 & PC8 & PC9 & PC10\\\\\n",
       "  & <int> & <int> & <int> & <int> & <int> & <dbl> & <dbl> & <dbl> & <dbl> & <dbl> & <dbl> & <dbl> & <dbl> & <dbl> & <dbl>\\\\\n",
       "\\hline\n",
       "\t1 & 1000078 & 1000078 & 1 & 0 & 60 &  0.001867425 &  0.013093557 & -0.012545642 & -0.0077773685 & -0.0076396044 & -0.004067034 &  0.003904697 & -0.0066333866 & -0.011400679 & -0.003770311\\\\\n",
       "\t2 & 1000081 & 1000081 & 0 & 0 & 67 &  0.134179544 & -0.015138242 &  0.014278056 &  0.0142731188 & -0.0085332226 & -0.010936588 &  0.011577007 &  0.0004865037 &  0.008102219 & -0.002117615\\\\\n",
       "\t3 & 1000236 & 1000236 & 0 & 0 & 70 &  0.008867756 &  0.011425836 & -0.023071386 &  0.0064096586 &  0.0033986306 &  0.021169599 & -0.003277936 &  0.0054276548 & -0.010657910 & -0.034102210\\\\\n",
       "\t4 & 1000331 & 1000331 & 1 & 0 & 53 &  0.080695947 & -0.003566874 & -0.002728336 & -0.0039599944 &  0.0005021192 &  0.003650339 &  0.029506097 &  0.0038201997 & -0.013963517 & -0.016294060\\\\\n",
       "\t5 & 1000340 & 1000340 & 1 & 0 & 54 & -0.012073413 & -0.005182776 & -0.009290790 &  0.0007751943 & -0.0024663547 & -0.006647973 &  0.002676356 & -0.0018374353 &  0.002831617 & -0.001478281\\\\\n",
       "\t6 & 1000415 & 1000415 & 0 & 0 & 65 & -0.018177064 & -0.053073714 & -0.000446653 & -0.0024920664 &  0.0170787094 & -0.003519533 &  0.005667462 &  0.0251297768 & -0.006116507 &  0.005747638\\\\\n",
       "\\end{tabular}\n"
      ],
      "text/markdown": [
       "\n",
       "A data.frame: 6 x 15\n",
       "\n",
       "| <!--/--> | FID &lt;int&gt; | IID &lt;int&gt; | sex &lt;int&gt; | f3393 &lt;int&gt; | age &lt;int&gt; | PC1 &lt;dbl&gt; | PC2 &lt;dbl&gt; | PC3 &lt;dbl&gt; | PC4 &lt;dbl&gt; | PC5 &lt;dbl&gt; | PC6 &lt;dbl&gt; | PC7 &lt;dbl&gt; | PC8 &lt;dbl&gt; | PC9 &lt;dbl&gt; | PC10 &lt;dbl&gt; |\n",
       "|---|---|---|---|---|---|---|---|---|---|---|---|---|---|---|---|\n",
       "| 1 | 1000078 | 1000078 | 1 | 0 | 60 |  0.001867425 |  0.013093557 | -0.012545642 | -0.0077773685 | -0.0076396044 | -0.004067034 |  0.003904697 | -0.0066333866 | -0.011400679 | -0.003770311 |\n",
       "| 2 | 1000081 | 1000081 | 0 | 0 | 67 |  0.134179544 | -0.015138242 |  0.014278056 |  0.0142731188 | -0.0085332226 | -0.010936588 |  0.011577007 |  0.0004865037 |  0.008102219 | -0.002117615 |\n",
       "| 3 | 1000236 | 1000236 | 0 | 0 | 70 |  0.008867756 |  0.011425836 | -0.023071386 |  0.0064096586 |  0.0033986306 |  0.021169599 | -0.003277936 |  0.0054276548 | -0.010657910 | -0.034102210 |\n",
       "| 4 | 1000331 | 1000331 | 1 | 0 | 53 |  0.080695947 | -0.003566874 | -0.002728336 | -0.0039599944 |  0.0005021192 |  0.003650339 |  0.029506097 |  0.0038201997 | -0.013963517 | -0.016294060 |\n",
       "| 5 | 1000340 | 1000340 | 1 | 0 | 54 | -0.012073413 | -0.005182776 | -0.009290790 |  0.0007751943 | -0.0024663547 | -0.006647973 |  0.002676356 | -0.0018374353 |  0.002831617 | -0.001478281 |\n",
       "| 6 | 1000415 | 1000415 | 0 | 0 | 65 | -0.018177064 | -0.053073714 | -0.000446653 | -0.0024920664 |  0.0170787094 | -0.003519533 |  0.005667462 |  0.0251297768 | -0.006116507 |  0.005747638 |\n",
       "\n"
      ],
      "text/plain": [
       "  FID     IID     sex f3393 age PC1          PC2          PC3         \n",
       "1 1000078 1000078 1   0     60   0.001867425  0.013093557 -0.012545642\n",
       "2 1000081 1000081 0   0     67   0.134179544 -0.015138242  0.014278056\n",
       "3 1000236 1000236 0   0     70   0.008867756  0.011425836 -0.023071386\n",
       "4 1000331 1000331 1   0     53   0.080695947 -0.003566874 -0.002728336\n",
       "5 1000340 1000340 1   0     54  -0.012073413 -0.005182776 -0.009290790\n",
       "6 1000415 1000415 0   0     65  -0.018177064 -0.053073714 -0.000446653\n",
       "  PC4           PC5           PC6          PC7          PC8          \n",
       "1 -0.0077773685 -0.0076396044 -0.004067034  0.003904697 -0.0066333866\n",
       "2  0.0142731188 -0.0085332226 -0.010936588  0.011577007  0.0004865037\n",
       "3  0.0064096586  0.0033986306  0.021169599 -0.003277936  0.0054276548\n",
       "4 -0.0039599944  0.0005021192  0.003650339  0.029506097  0.0038201997\n",
       "5  0.0007751943 -0.0024663547 -0.006647973  0.002676356 -0.0018374353\n",
       "6 -0.0024920664  0.0170787094 -0.003519533  0.005667462  0.0251297768\n",
       "  PC9          PC10        \n",
       "1 -0.011400679 -0.003770311\n",
       "2  0.008102219 -0.002117615\n",
       "3 -0.010657910 -0.034102210\n",
       "4 -0.013963517 -0.016294060\n",
       "5  0.002831617 -0.001478281\n",
       "6 -0.006116507  0.005747638"
      ]
     },
     "metadata": {},
     "output_type": "display_data"
    }
   ],
   "source": [
    "f3393 <- merge(pheno, pca, by = c('FID', 'IID'), all.y=TRUE)\n",
    "head(f3393)\n",
    "dim(f3393)\n",
    "library(dplyr)\n",
    "f3393_final <- select(f3393, -c('ID', 'ethnicity'))\n",
    "head(f3393_final)"
   ]
  },
  {
   "cell_type": "code",
   "execution_count": 4,
   "id": "bdd26ea3-b536-4be9-b2d6-f958a6e0373d",
   "metadata": {
    "kernel": "R"
   },
   "outputs": [],
   "source": [
    "write.table(f3393_final, \"/mnt/mfs/statgen/UKBiobank/results/ARHI_heritability/pheno_files/090321_UKBB_Hearing_aid_f3393_expandedwhite_6436cases_96601ctrl.PC1_10.greml_pheno\", sep=\"\\t\", row.names = FALSE, col.names =TRUE, quote=FALSE)"
   ]
  },
  {
   "cell_type": "markdown",
   "id": "37ac8e67-de5e-4c34-b5a0-7ec5a5fd3501",
   "metadata": {
    "kernel": "R"
   },
   "source": [
    "### PCA for f3393 rare variants"
   ]
  },
  {
   "cell_type": "markdown",
   "id": "918d28ef-c276-4a2b-aff1-0a967b5940a5",
   "metadata": {
    "kernel": "R"
   },
   "source": [
    "#### Step 1"
   ]
  },
  {
   "cell_type": "code",
   "execution_count": 63,
   "id": "2ed9ef7d-dede-4d89-b72f-2e27fdfdfcf6",
   "metadata": {
    "kernel": "Bash"
   },
   "outputs": [
    {
     "name": "stdout",
     "output_type": "stream",
     "text": [
      "INFO: Running \u001b[32mcsg\u001b[0m: Configuration for Columbia csg partition cluster\n",
      "INFO: \u001b[32mcsg\u001b[0m is \u001b[32mcompleted\u001b[0m.\n",
      "INFO: \u001b[32mcsg\u001b[0m output:   \u001b[32m/mnt/mfs/statgen/UKBiobank/results/ARHI_heritability/052022_pca_common/common_pca_f3393_exome_2022-05-20.sbatch\u001b[0m\n",
      "INFO: Workflow csg (ID=w9bd46fcb4c4e3372) is executed successfully with 1 completed step.\n",
      "\n"
     ]
    }
   ],
   "source": [
    "## Columbia's cluster\n",
    "cwd=/mnt/mfs/statgen/UKBiobank/results/ARHI_heritability/052022_pca_rare/f3393\n",
    "gwas_sbatch=/mnt/mfs/statgen/UKBiobank/results/ARHI_heritability/052022_pca_rare/rare_pca_f3393_exome_$(date +\"%Y-%m-%d\").sbatch\n",
    "## Use qc'ed genotype array\n",
    "genoFile=/mnt/mfs/statgen/UKBiobank/results/ARHI_heritability/052022_ldprun_rare/*.prune.bed\n",
    "keep_samples=$UKBB_PATH/results/083021_PCA_results/090321_UKBB_Hearing_aid_f3393_expandedwhite_6436cases_96601ctrl.keep_id\n",
    "\n",
    "#GWAS QC variables set all of this variables to 0 to avoid doing more filtering\n",
    "maf_filter=0\n",
    "geno_filter=0\n",
    "hwe_filter=0\n",
    "mind_filter=0\n",
    "numThreads=1\n",
    "mem='30G'\n",
    "gwasqc_sos=~/project/xqtl-pipeline/code/data_preprocessing/genotype/GWAS_QC.ipynb\n",
    "tpl_file=~/project/bioworkflows/admin/csg.yml\n",
    "container=~/containers/bioinfo.sif\n",
    "\n",
    "gwasqc_args=\"\"\"qc:1\n",
    "    --cwd $cwd\n",
    "    --genoFile $genoFile\n",
    "    --keep_samples $keep_samples\n",
    "    --maf_filter $maf_filter\n",
    "    --geno_filter $geno_filter\n",
    "    --hwe_filter $hwe_filter\n",
    "    --mind_filter $mind_filter\n",
    "    --numThreads $numThreads \n",
    "    --container $container\n",
    "    --mem $mem\n",
    "\"\"\"\n",
    "\n",
    "sos run ~/project/UKBB_GWAS_dev/admin/Get_Job_Script.ipynb csg \\\n",
    "    --template-file $tpl_file \\\n",
    "    --workflow-file $gwasqc_sos \\\n",
    "    --to-script $gwas_sbatch \\\n",
    "    --args \"$gwasqc_args\""
   ]
  },
  {
   "cell_type": "markdown",
   "id": "95c55c10-972a-4cc2-9909-182b0b35415f",
   "metadata": {
    "kernel": "Bash"
   },
   "source": [
    "#### Step 2. "
   ]
  },
  {
   "cell_type": "code",
   "execution_count": 64,
   "id": "666e2122-f2f8-4438-bb44-2eb771668553",
   "metadata": {
    "kernel": "Bash"
   },
   "outputs": [
    {
     "name": "stdout",
     "output_type": "stream",
     "text": [
      "INFO: Running \u001b[32mcsg\u001b[0m: Configuration for Columbia csg partition cluster\n",
      "INFO: \u001b[32mcsg\u001b[0m is \u001b[32mcompleted\u001b[0m.\n",
      "INFO: \u001b[32mcsg\u001b[0m output:   \u001b[32m/mnt/mfs/statgen/UKBiobank/results/ARHI_heritability/052022_pca_common/flashpca_f3393_common_2022-05-20.sbatch\u001b[0m\n",
      "INFO: Workflow csg (ID=w90c9447dc037bccd) is executed successfully with 1 completed step.\n",
      "\n"
     ]
    }
   ],
   "source": [
    "## Columbia's cluster\n",
    "cwd=/mnt/mfs/statgen/UKBiobank/results/ARHI_heritability/052022_pca_common/f3393\n",
    "#This is the bfile obtained in step 1\n",
    "genoFile=/mnt/mfs/statgen/UKBiobank/results/ARHI_heritability/052022_pca_common/f3393/cache/*.bed\n",
    "# Format FID, IID, pop\n",
    "phenoFile=/mnt/mfs/statgen/UKBiobank/results/083021_PCA_results/090321_UKBB_Hearing_aid_f3393_expandedwhite_6436cases_96601ctrl.phenopca\n",
    "label_col=ethnicity\n",
    "pop_col=ethnicity\n",
    "pca_sbatch=/mnt/mfs/statgen/UKBiobank/results/ARHI_heritability/052022_pca_common/flashpca_f3393_common_$(date +\"%Y-%m-%d\").sbatch\n",
    "k=10\n",
    "min_axis=0\n",
    "max_axis=0\n",
    "pca_sos=~/project/xqtl-pipeline/code/data_preprocessing/genotype/PCA.ipynb\n",
    "tpl_file=~/project/bioworkflows/admin/csg.yml\n",
    "container=~/containers/flashpcaR.sif\n",
    "\n",
    "pca_args=\"\"\"flashpca\n",
    "    --cwd $cwd\n",
    "    --genoFile $genoFile\n",
    "    --phenoFile $phenoFile\n",
    "    --k $k\n",
    "    --label_col $label_col\n",
    "    --pop_col $pop_col\n",
    "    --min_axis $min_axis\n",
    "    --max_axis $max_axis\n",
    "    --numThreads $numThreads \n",
    "    --container $container\n",
    "\"\"\"\n",
    "\n",
    "sos run  ~/project/UKBB_GWAS_dev/admin/Get_Job_Script.ipynb csg\\\n",
    "    --template-file $tpl_file \\\n",
    "    --workflow-file $pca_sos \\\n",
    "    --to-script $pca_sbatch \\\n",
    "    --args \"$pca_args\""
   ]
  },
  {
   "cell_type": "code",
   "execution_count": null,
   "id": "ece5f892-ff63-4949-8aa6-462c51b7a8b4",
   "metadata": {
    "kernel": "R"
   },
   "outputs": [],
   "source": []
  },
  {
   "cell_type": "code",
   "execution_count": null,
   "id": "5858876e-fde1-4249-91b1-69ff0886f74e",
   "metadata": {
    "kernel": "R"
   },
   "outputs": [],
   "source": []
  },
  {
   "cell_type": "markdown",
   "id": "ecda8099-dbb4-42bd-85ce-c316b43c0647",
   "metadata": {
    "kernel": "Bash"
   },
   "source": [
    "# Calculate the heritability\n",
    "\n",
    "For a case-control study it should be estimated like\n",
    "\n",
    "```\n",
    "gcta64 --grm test --pheno test_cc.phen --reml --prevalence 0.01 --out test --thread-num 10\n",
    "```"
   ]
  },
  {
   "cell_type": "markdown",
   "id": "b8af2890-97c6-4356-8bc5-e514009d5941",
   "metadata": {
    "kernel": "R"
   },
   "source": [
    "## f3393 common variants"
   ]
  },
  {
   "cell_type": "code",
   "execution_count": 5,
   "id": "317500df-269b-4a04-8448-cf86b94f01c1",
   "metadata": {
    "kernel": "Bash"
   },
   "outputs": [
    {
     "name": "stdout",
     "output_type": "stream",
     "text": [
      "INFO: Running \u001b[32mcsg\u001b[0m: Configuration for Columbia csg partition cluster\n",
      "INFO: \u001b[32mcsg\u001b[0m is \u001b[32mcompleted\u001b[0m.\n",
      "INFO: \u001b[32mcsg\u001b[0m output:   \u001b[32m/mnt/mfs/statgen/UKBiobank/results/ARHI_heritability/greml/f3393_greml_common_2022-05-24.sbatch\u001b[0m\n",
      "INFO: Workflow csg (ID=w9ce7c0faf4470ac1) is executed successfully with 1 completed step.\n",
      "\n"
     ]
    }
   ],
   "source": [
    "## Columbia's cluster\n",
    "cwd=/mnt/mfs/statgen/UKBiobank/results/ARHI_heritability/greml\n",
    "#This is the bfile obtained in step 1\n",
    "grm=/mnt/mfs/statgen/UKBiobank/results/ARHI_heritability/052022_grm_common/ukb23156_merged_eur_unrel_commonvarsMAFabove0.01.grm.bin\n",
    "# Format FID, IID, pop\n",
    "phenoFile=/mnt/mfs/statgen/UKBiobank/results/ARHI_heritability/pheno_files/090321_UKBB_Hearing_aid_f3393_expandedwhite_6436cases_96601ctrl.PC1_10.greml_pheno\n",
    "greml_sbatch=/mnt/mfs/statgen/UKBiobank/results/ARHI_heritability/greml/f3393_greml_common_$(date +\"%Y-%m-%d\").sbatch\n",
    "greml_sos=~/project/UKBB_GWAS_dev/workflow/GREML.ipynb\n",
    "tpl_file=~/project/bioworkflows/admin/csg.yml\n",
    "container=~/containers/lmm.sif\n",
    "phenoCol=f3393\n",
    "covarCol=sex\n",
    "qCovarCol=`echo age PC{1..10}`\n",
    "prevalence=0.01\n",
    "greml_args=\"\"\"greml\n",
    "    --cwd $cwd\n",
    "    --grm $grm\n",
    "    --phenoFile $phenoFile\n",
    "    --phenoCol $phenoCol\n",
    "    --covarCol $covarCol\n",
    "    --qCovarCol $qCovarCol\n",
    "    --prevalence $prevalence\n",
    "    --numThreads $numThreads \n",
    "    --container $container   \n",
    "\"\"\"\n",
    "\n",
    "sos run  ~/project/UKBB_GWAS_dev/admin/Get_Job_Script.ipynb csg\\\n",
    "    --template-file $tpl_file \\\n",
    "    --workflow-file $greml_sos \\\n",
    "    --to-script $greml_sbatch \\\n",
    "    --args \"$greml_args\""
   ]
  },
  {
   "cell_type": "code",
   "execution_count": null,
   "id": "fc8e0d6d-08f1-4071-94a8-4a6949bb6f38",
   "metadata": {
    "kernel": "Bash"
   },
   "outputs": [],
   "source": []
  }
 ],
 "metadata": {
  "kernelspec": {
   "display_name": "SoS",
   "language": "sos",
   "name": "sos"
  },
  "language_info": {
   "codemirror_mode": "sos",
   "file_extension": ".sos",
   "mimetype": "text/x-sos",
   "name": "sos",
   "nbconvert_exporter": "sos_notebook.converter.SoS_Exporter",
   "pygments_lexer": "sos"
  },
  "sos": {
   "kernels": [
    [
     "Bash",
     "calysto_bash",
     "Bash",
     "#E6EEFF",
     ""
    ],
    [
     "R",
     "ir",
     "R",
     "#DCDCDA",
     "r"
    ]
   ],
   "version": "0.22.6"
  }
 },
 "nbformat": 4,
 "nbformat_minor": 5
}
