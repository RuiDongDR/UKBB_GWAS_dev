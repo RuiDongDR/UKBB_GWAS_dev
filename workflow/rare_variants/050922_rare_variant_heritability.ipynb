{
 "cells": [
  {
   "cell_type": "markdown",
   "id": "d252b379-6c07-409f-95d8-cccc52b1b8e5",
   "metadata": {
    "kernel": "SoS",
    "tags": []
   },
   "source": [
    "# Estimate the rare variant heritability of age-related hearing impairment traits"
   ]
  },
  {
   "cell_type": "markdown",
   "id": "10ff6cc5-5ba6-4e6a-8e71-2057113e7921",
   "metadata": {
    "kernel": "SoS"
   },
   "source": [
    "# Aim\n"
   ]
  },
  {
   "cell_type": "markdown",
   "id": "2d346c76-d21e-4412-af54-6807053d9781",
   "metadata": {
    "kernel": "Markdown",
    "tags": []
   },
   "source": [
    "# Concepts\n",
    "\n",
    "\n",
    "Proportion of phenotypic variance captured by common SNPs - SNP-based heritability (h^2SNP)\n",
    "\n",
    "Discrepancy between h^2ped and h^2SNP:\n",
    "\n",
    "1. Causal variants are not well tagged by common SNPs because they are rare\n",
    "2. Pedigree heritability is overestimated because of confounding with environmental effects or non-additive genetic variation\n"
   ]
  },
  {
   "cell_type": "markdown",
   "id": "4ff30917-c02a-43ec-9632-87d72314fadb",
   "metadata": {
    "kernel": "SoS"
   },
   "source": [
    "## 1. Calculate the SNP-based heritability from common variants and compared to available literature\n",
    "\n",
    "First of all a GRM from all of the autosomal SNPs needs to be calculated.\n"
   ]
  },
  {
   "cell_type": "markdown",
   "id": "7956f729-8e4c-4447-b2ec-b3ceba3ff549",
   "metadata": {
    "kernel": "SoS"
   },
   "source": [
    "## Input files\n",
    "\n",
    "### Phenotype files\n",
    "\n",
    "These files have already been QC'ed to include individuals with each of the hearing impairment traits and control individuals without hearing impairment related phenotypes\n",
    "\n",
    "Mega-sample \n",
    "\n",
    "H-aid:\n",
    "\n",
    "* /mnt/vast/hpc/csg/UKBiobank/phenotype_files/hearing_impairment/090321_UKBB_Hearing_aid_f3393_expandedwhite_6436cases_96601ctrl_PC1_2.tsv\n",
    "\n",
    "H-diff:\n",
    "\n",
    "* /mnt/vast/hpc/csg/UKBiobank/phenotype_files/hearing_impairment/090321_UKBB_Hearing_difficulty_f2247_expandedwhite_45502cases_96601ctrl_PC1_2.tsv\n",
    "\n",
    "H-noise:\n",
    "\n",
    "* /mnt/vast/hpc/csg/UKBiobank/phenotype_files/hearing_impairment/090321_UKBB_Hearing_noise_f2257_expandedwhite_65660cases_96601ctrl_PC1_2.tsv\n",
    "\n",
    "H-both:\n",
    "\n",
    "* /mnt/vast/hpc/csg/UKBiobank/phenotype_files/hearing_impairment/090321_UKBB_Combined_f2247_f2257_expandedwhite_38410cases_96601ctrl_PC1_2.tsv\n",
    "\n",
    "\n",
    "### Genotype files\n",
    "\n",
    "Original exome sequence files in plink format are here: \n",
    "* /mnt/vast/hpc/csg/UKBiobank/data/exome_files/project_VCF/072721_run/plink/ukb23156_c{1..22}.merged.filtered.bed\n",
    "\n",
    "QC done in these VCF files was: \n",
    "\n",
    "- DP-SPNs=10\n",
    "- DP-indels=10\n",
    "- GQ=20\n",
    "- AB-SNP=0.15\n",
    "- AB-indel=0.20\n",
    "- geno=0.1\n",
    "\n",
    "Samples with missingness >10% `-mind 0.1` in the genotype array\n",
    "\n",
    "* ~/UKBiobank/data/exome_files/project_VCF/072721_run/merged_plink/mind_0.1/cache/ukb23155_qc_merged.mind_0.1.filtered.mindrem.id\n",
    "\n",
    "Extra QC step is needed here to make sure we have the best quality variants for heritability calculation\n",
    "\n",
    "### Selecting white European samples\n",
    "\n",
    "According to Wainschtein et al 2022, they do two rounds of PC's calculations (20 PC's) one with common variants and one with rare variants. The prunning is also done using different parameters for each of these analyses\n",
    "\n",
    "- Common: MAF 0.01-0.5, window 50Kb, r2=0.1\n",
    "- Rare: MAF 0.004 (MAC=5) - 0.01, window 100Kb, r2=0.05\n",
    "\n",
    "In our case, we will use our already defined white European population that was classified using the genotype array data with common variants, calculating 10 PC's and the manhalanobis distance to dected outliers. \n",
    "\n",
    "* /mnt/vast/hpc/csg/UKBiobank/results/083021_PCA_results/europeans/cache/UKB_genotypedatadownloaded083019.090221_sample_variant_qc_final_callrate90.filtered.extracted.europeans.filtered.fam\n",
    "\n",
    "### Removing related individuals \n",
    "\n",
    "In this step we just want to keep the unrelated European individuals for heritability calculations. We use a kinship=0.0625 (to remove related individuals up to third degree)\n",
    "\n",
    "* remove_samples=/mnt/vast/hpc/csg/UKBiobank/results/083021_PCA_results/090221_king/*.related_id\n",
    "\n",
    "### Remove individuals showing excess of heterozygosity based on GRM off-diagonal?\n",
    "\n",
    "Don't know if this is necessary or not"
   ]
  },
  {
   "cell_type": "markdown",
   "id": "7605f3a4-faca-43cc-8151-51572d8bc737",
   "metadata": {
    "kernel": "SoS"
   },
   "source": [
    "Here we start with QC'ed exome sequence data but we will generate additional files with more stringent QC for heritability calculation\n",
    "\n",
    "1. MAF keep all rare-variants (Wainschtein 2022 paper uses `--maf 0.0001` )\n",
    "2. `--geno 0.1` (originally for our exome QC we used a `--geno 0.1`)\n",
    "3. `--hwe 0.00000001` \n",
    "4. `--mind 0.05` (originally we did not remove individuals based on mind for the exome QC)\n",
    "5. `--snps_only` add this option to remove indels from calculation (in this pipeline I decided to keep both SNPs and indels)\n",
    "\n",
    "### Build the GRM from the exome sequence data?"
   ]
  },
  {
   "cell_type": "markdown",
   "id": "535c090d-6119-4889-a453-467a3f960638",
   "metadata": {
    "kernel": "SoS"
   },
   "source": [
    "## Step 1. Extra QC on the exome data"
   ]
  },
  {
   "cell_type": "markdown",
   "id": "ac8ed469-047c-4052-af5a-addd18498b64",
   "metadata": {
    "kernel": "SoS"
   },
   "source": [
    "### Select white European unrelated individuals"
   ]
  },
  {
   "cell_type": "code",
   "execution_count": 24,
   "id": "e7436e6d-9dcf-4bf7-b706-88020571b238",
   "metadata": {
    "kernel": "R",
    "tags": []
   },
   "outputs": [
    {
     "data": {
      "text/html": [
       "<style>\n",
       ".list-inline {list-style: none; margin:0; padding: 0}\n",
       ".list-inline>li {display: inline-block}\n",
       ".list-inline>li:not(:last-child)::after {content: \"\\00b7\"; padding: 0 .5ex}\n",
       "</style>\n",
       "<ol class=list-inline><li>188474</li><li>6</li></ol>\n"
      ],
      "text/latex": [
       "\\begin{enumerate*}\n",
       "\\item 188474\n",
       "\\item 6\n",
       "\\end{enumerate*}\n"
      ],
      "text/markdown": [
       "1. 188474\n",
       "2. 6\n",
       "\n",
       "\n"
      ],
      "text/plain": [
       "[1] 188474      6"
      ]
     },
     "metadata": {},
     "output_type": "display_data"
    },
    {
     "data": {
      "text/html": [
       "<table class=\"dataframe\">\n",
       "<caption>A data.frame: 6 x 6</caption>\n",
       "<thead>\n",
       "\t<tr><th></th><th scope=col>FID</th><th scope=col>IID</th><th scope=col>fatherid</th><th scope=col>motherid</th><th scope=col>sex</th><th scope=col>pheno</th></tr>\n",
       "\t<tr><th></th><th scope=col>&lt;int&gt;</th><th scope=col>&lt;int&gt;</th><th scope=col>&lt;int&gt;</th><th scope=col>&lt;int&gt;</th><th scope=col>&lt;int&gt;</th><th scope=col>&lt;int&gt;</th></tr>\n",
       "</thead>\n",
       "<tbody>\n",
       "\t<tr><th scope=row>1</th><td>1000019</td><td>1000019</td><td>0</td><td>0</td><td>2</td><td>-9</td></tr>\n",
       "\t<tr><th scope=row>2</th><td>1000035</td><td>1000035</td><td>0</td><td>0</td><td>1</td><td>-9</td></tr>\n",
       "\t<tr><th scope=row>3</th><td>1000078</td><td>1000078</td><td>0</td><td>0</td><td>2</td><td>-9</td></tr>\n",
       "\t<tr><th scope=row>4</th><td>1000081</td><td>1000081</td><td>0</td><td>0</td><td>1</td><td>-9</td></tr>\n",
       "\t<tr><th scope=row>5</th><td>1000198</td><td>1000198</td><td>0</td><td>0</td><td>2</td><td>-9</td></tr>\n",
       "\t<tr><th scope=row>6</th><td>1000210</td><td>1000210</td><td>0</td><td>0</td><td>1</td><td>-9</td></tr>\n",
       "</tbody>\n",
       "</table>\n"
      ],
      "text/latex": [
       "A data.frame: 6 x 6\n",
       "\\begin{tabular}{r|llllll}\n",
       "  & FID & IID & fatherid & motherid & sex & pheno\\\\\n",
       "  & <int> & <int> & <int> & <int> & <int> & <int>\\\\\n",
       "\\hline\n",
       "\t1 & 1000019 & 1000019 & 0 & 0 & 2 & -9\\\\\n",
       "\t2 & 1000035 & 1000035 & 0 & 0 & 1 & -9\\\\\n",
       "\t3 & 1000078 & 1000078 & 0 & 0 & 2 & -9\\\\\n",
       "\t4 & 1000081 & 1000081 & 0 & 0 & 1 & -9\\\\\n",
       "\t5 & 1000198 & 1000198 & 0 & 0 & 2 & -9\\\\\n",
       "\t6 & 1000210 & 1000210 & 0 & 0 & 1 & -9\\\\\n",
       "\\end{tabular}\n"
      ],
      "text/markdown": [
       "\n",
       "A data.frame: 6 x 6\n",
       "\n",
       "| <!--/--> | FID &lt;int&gt; | IID &lt;int&gt; | fatherid &lt;int&gt; | motherid &lt;int&gt; | sex &lt;int&gt; | pheno &lt;int&gt; |\n",
       "|---|---|---|---|---|---|---|\n",
       "| 1 | 1000019 | 1000019 | 0 | 0 | 2 | -9 |\n",
       "| 2 | 1000035 | 1000035 | 0 | 0 | 1 | -9 |\n",
       "| 3 | 1000078 | 1000078 | 0 | 0 | 2 | -9 |\n",
       "| 4 | 1000081 | 1000081 | 0 | 0 | 1 | -9 |\n",
       "| 5 | 1000198 | 1000198 | 0 | 0 | 2 | -9 |\n",
       "| 6 | 1000210 | 1000210 | 0 | 0 | 1 | -9 |\n",
       "\n"
      ],
      "text/plain": [
       "  FID     IID     fatherid motherid sex pheno\n",
       "1 1000019 1000019 0        0        2   -9   \n",
       "2 1000035 1000035 0        0        1   -9   \n",
       "3 1000078 1000078 0        0        2   -9   \n",
       "4 1000081 1000081 0        0        1   -9   \n",
       "5 1000198 1000198 0        0        2   -9   \n",
       "6 1000210 1000210 0        0        1   -9   "
      ]
     },
     "metadata": {},
     "output_type": "display_data"
    }
   ],
   "source": [
    "eur <- read.table(\"~/UKBiobank/results/083021_PCA_results/europeans/cache/UKB_genotypedatadownloaded083019.090221_sample_variant_qc_final_callrate90.filtered.extracted.europeans.filtered.fam\", header=F)\n",
    "colnames(eur) <- c(\"FID\", \"IID\",\"fatherid\", \"motherid\", \"sex\", \"pheno\")\n",
    "dim(eur)\n",
    "head(eur)"
   ]
  },
  {
   "cell_type": "code",
   "execution_count": 30,
   "id": "9b3db253-ace0-4b28-95db-4b7a22febfce",
   "metadata": {
    "kernel": "R"
   },
   "outputs": [
    {
     "data": {
      "text/html": [
       "<style>\n",
       ".list-inline {list-style: none; margin:0; padding: 0}\n",
       ".list-inline>li {display: inline-block}\n",
       ".list-inline>li:not(:last-child)::after {content: \"\\00b7\"; padding: 0 .5ex}\n",
       "</style>\n",
       "<ol class=list-inline><li>168206</li><li>6</li></ol>\n"
      ],
      "text/latex": [
       "\\begin{enumerate*}\n",
       "\\item 168206\n",
       "\\item 6\n",
       "\\end{enumerate*}\n"
      ],
      "text/markdown": [
       "1. 168206\n",
       "2. 6\n",
       "\n",
       "\n"
      ],
      "text/plain": [
       "[1] 168206      6"
      ]
     },
     "metadata": {},
     "output_type": "display_data"
    },
    {
     "data": {
      "text/html": [
       "<table class=\"dataframe\">\n",
       "<caption>A data.frame: 6 x 6</caption>\n",
       "<thead>\n",
       "\t<tr><th></th><th scope=col>FID</th><th scope=col>IID</th><th scope=col>fatherid</th><th scope=col>motherid</th><th scope=col>sex</th><th scope=col>pheno</th></tr>\n",
       "\t<tr><th></th><th scope=col>&lt;int&gt;</th><th scope=col>&lt;int&gt;</th><th scope=col>&lt;int&gt;</th><th scope=col>&lt;int&gt;</th><th scope=col>&lt;int&gt;</th><th scope=col>&lt;int&gt;</th></tr>\n",
       "</thead>\n",
       "<tbody>\n",
       "\t<tr><th scope=row>1</th><td>1000019</td><td>1000019</td><td>0</td><td>0</td><td>2</td><td>-9</td></tr>\n",
       "\t<tr><th scope=row>2</th><td>1000078</td><td>1000078</td><td>0</td><td>0</td><td>2</td><td>-9</td></tr>\n",
       "\t<tr><th scope=row>3</th><td>1000081</td><td>1000081</td><td>0</td><td>0</td><td>1</td><td>-9</td></tr>\n",
       "\t<tr><th scope=row>4</th><td>1000198</td><td>1000198</td><td>0</td><td>0</td><td>2</td><td>-9</td></tr>\n",
       "\t<tr><th scope=row>5</th><td>1000210</td><td>1000210</td><td>0</td><td>0</td><td>1</td><td>-9</td></tr>\n",
       "\t<tr><th scope=row>6</th><td>1000236</td><td>1000236</td><td>0</td><td>0</td><td>1</td><td>-9</td></tr>\n",
       "</tbody>\n",
       "</table>\n"
      ],
      "text/latex": [
       "A data.frame: 6 x 6\n",
       "\\begin{tabular}{r|llllll}\n",
       "  & FID & IID & fatherid & motherid & sex & pheno\\\\\n",
       "  & <int> & <int> & <int> & <int> & <int> & <int>\\\\\n",
       "\\hline\n",
       "\t1 & 1000019 & 1000019 & 0 & 0 & 2 & -9\\\\\n",
       "\t2 & 1000078 & 1000078 & 0 & 0 & 2 & -9\\\\\n",
       "\t3 & 1000081 & 1000081 & 0 & 0 & 1 & -9\\\\\n",
       "\t4 & 1000198 & 1000198 & 0 & 0 & 2 & -9\\\\\n",
       "\t5 & 1000210 & 1000210 & 0 & 0 & 1 & -9\\\\\n",
       "\t6 & 1000236 & 1000236 & 0 & 0 & 1 & -9\\\\\n",
       "\\end{tabular}\n"
      ],
      "text/markdown": [
       "\n",
       "A data.frame: 6 x 6\n",
       "\n",
       "| <!--/--> | FID &lt;int&gt; | IID &lt;int&gt; | fatherid &lt;int&gt; | motherid &lt;int&gt; | sex &lt;int&gt; | pheno &lt;int&gt; |\n",
       "|---|---|---|---|---|---|---|\n",
       "| 1 | 1000019 | 1000019 | 0 | 0 | 2 | -9 |\n",
       "| 2 | 1000078 | 1000078 | 0 | 0 | 2 | -9 |\n",
       "| 3 | 1000081 | 1000081 | 0 | 0 | 1 | -9 |\n",
       "| 4 | 1000198 | 1000198 | 0 | 0 | 2 | -9 |\n",
       "| 5 | 1000210 | 1000210 | 0 | 0 | 1 | -9 |\n",
       "| 6 | 1000236 | 1000236 | 0 | 0 | 1 | -9 |\n",
       "\n"
      ],
      "text/plain": [
       "  FID     IID     fatherid motherid sex pheno\n",
       "1 1000019 1000019 0        0        2   -9   \n",
       "2 1000078 1000078 0        0        2   -9   \n",
       "3 1000081 1000081 0        0        1   -9   \n",
       "4 1000198 1000198 0        0        2   -9   \n",
       "5 1000210 1000210 0        0        1   -9   \n",
       "6 1000236 1000236 0        0        1   -9   "
      ]
     },
     "metadata": {},
     "output_type": "display_data"
    }
   ],
   "source": [
    "unrel <- read.table(\"~/UKBiobank/results/083021_PCA_results/090221_ldprun_unrelated/cache/UKB_genotypedatadownloaded083019.090221_sample_variant_qc_final_callrate90.filtered.extracted.europeans.filtered.090221_ldprun_unrelated.filtered.fam\")\n",
    "colnames(unrel) <- c(\"FID\", \"IID\",\"fatherid\", \"motherid\", \"sex\", \"pheno\")\n",
    "dim(unrel)\n",
    "head(unrel)"
   ]
  },
  {
   "cell_type": "code",
   "execution_count": 29,
   "id": "95366a66-c3b0-45e1-bab8-7b9c6314695e",
   "metadata": {
    "kernel": "R"
   },
   "outputs": [
    {
     "data": {
      "text/html": [
       "<style>\n",
       ".list-inline {list-style: none; margin:0; padding: 0}\n",
       ".list-inline>li {display: inline-block}\n",
       ".list-inline>li:not(:last-child)::after {content: \"\\00b7\"; padding: 0 .5ex}\n",
       "</style>\n",
       "<ol class=list-inline><li>566</li><li>2</li></ol>\n"
      ],
      "text/latex": [
       "\\begin{enumerate*}\n",
       "\\item 566\n",
       "\\item 2\n",
       "\\end{enumerate*}\n"
      ],
      "text/markdown": [
       "1. 566\n",
       "2. 2\n",
       "\n",
       "\n"
      ],
      "text/plain": [
       "[1] 566   2"
      ]
     },
     "metadata": {},
     "output_type": "display_data"
    },
    {
     "data": {
      "text/html": [
       "<table class=\"dataframe\">\n",
       "<caption>A data.frame: 6 x 2</caption>\n",
       "<thead>\n",
       "\t<tr><th></th><th scope=col>FID</th><th scope=col>IID</th></tr>\n",
       "\t<tr><th></th><th scope=col>&lt;int&gt;</th><th scope=col>&lt;int&gt;</th></tr>\n",
       "</thead>\n",
       "<tbody>\n",
       "\t<tr><th scope=row>1</th><td>1008606</td><td>1008606</td></tr>\n",
       "\t<tr><th scope=row>2</th><td>1010412</td><td>1010412</td></tr>\n",
       "\t<tr><th scope=row>3</th><td>1028129</td><td>1028129</td></tr>\n",
       "\t<tr><th scope=row>4</th><td>1032822</td><td>1032822</td></tr>\n",
       "\t<tr><th scope=row>5</th><td>1035752</td><td>1035752</td></tr>\n",
       "\t<tr><th scope=row>6</th><td>1044288</td><td>1044288</td></tr>\n",
       "</tbody>\n",
       "</table>\n"
      ],
      "text/latex": [
       "A data.frame: 6 x 2\n",
       "\\begin{tabular}{r|ll}\n",
       "  & FID & IID\\\\\n",
       "  & <int> & <int>\\\\\n",
       "\\hline\n",
       "\t1 & 1008606 & 1008606\\\\\n",
       "\t2 & 1010412 & 1010412\\\\\n",
       "\t3 & 1028129 & 1028129\\\\\n",
       "\t4 & 1032822 & 1032822\\\\\n",
       "\t5 & 1035752 & 1035752\\\\\n",
       "\t6 & 1044288 & 1044288\\\\\n",
       "\\end{tabular}\n"
      ],
      "text/markdown": [
       "\n",
       "A data.frame: 6 x 2\n",
       "\n",
       "| <!--/--> | FID &lt;int&gt; | IID &lt;int&gt; |\n",
       "|---|---|---|\n",
       "| 1 | 1008606 | 1008606 |\n",
       "| 2 | 1010412 | 1010412 |\n",
       "| 3 | 1028129 | 1028129 |\n",
       "| 4 | 1032822 | 1032822 |\n",
       "| 5 | 1035752 | 1035752 |\n",
       "| 6 | 1044288 | 1044288 |\n",
       "\n"
      ],
      "text/plain": [
       "  FID     IID    \n",
       "1 1008606 1008606\n",
       "2 1010412 1010412\n",
       "3 1028129 1028129\n",
       "4 1032822 1032822\n",
       "5 1035752 1035752\n",
       "6 1044288 1044288"
      ]
     },
     "metadata": {},
     "output_type": "display_data"
    }
   ],
   "source": [
    "outlier <- read.table(\"~/UKBiobank/results/083021_PCA_results/090321_PCA_related_pval0.005/030821_ukb42495_exomed_white_189010ind.090321_PCA_related_pval0.005.pca.projected.outliers\")\n",
    "colnames(outlier) <- c(\"FID\", \"IID\")\n",
    "dim(outlier)\n",
    "head(outlier)"
   ]
  },
  {
   "cell_type": "markdown",
   "id": "936517e9-a667-4c0f-a12a-dacf4053bdf8",
   "metadata": {
    "kernel": "R"
   },
   "source": [
    "Select white European individuals that are unrelated and remove ancestry outliers obtained by PCA calculation"
   ]
  },
  {
   "cell_type": "code",
   "execution_count": 36,
   "id": "e32e3d73-8ce3-40a8-b5b2-ef89fa58556a",
   "metadata": {
    "kernel": "R"
   },
   "outputs": [],
   "source": [
    "eur_unrel <- unrel[-which(unrel$IID %in% outlier$IID), ]\n",
    "eur_unrel_drop <- eur_unrel[ -c(3:6)]"
   ]
  },
  {
   "cell_type": "code",
   "execution_count": 38,
   "id": "5bb38c59-1f86-4e0e-9f37-19941544df8d",
   "metadata": {
    "kernel": "R"
   },
   "outputs": [
    {
     "data": {
      "text/html": [
       "<table class=\"dataframe\">\n",
       "<caption>A data.frame: 6 x 2</caption>\n",
       "<thead>\n",
       "\t<tr><th></th><th scope=col>FID</th><th scope=col>IID</th></tr>\n",
       "\t<tr><th></th><th scope=col>&lt;int&gt;</th><th scope=col>&lt;int&gt;</th></tr>\n",
       "</thead>\n",
       "<tbody>\n",
       "\t<tr><th scope=row>1</th><td>1000019</td><td>1000019</td></tr>\n",
       "\t<tr><th scope=row>2</th><td>1000078</td><td>1000078</td></tr>\n",
       "\t<tr><th scope=row>3</th><td>1000081</td><td>1000081</td></tr>\n",
       "\t<tr><th scope=row>4</th><td>1000198</td><td>1000198</td></tr>\n",
       "\t<tr><th scope=row>5</th><td>1000210</td><td>1000210</td></tr>\n",
       "\t<tr><th scope=row>6</th><td>1000236</td><td>1000236</td></tr>\n",
       "</tbody>\n",
       "</table>\n"
      ],
      "text/latex": [
       "A data.frame: 6 x 2\n",
       "\\begin{tabular}{r|ll}\n",
       "  & FID & IID\\\\\n",
       "  & <int> & <int>\\\\\n",
       "\\hline\n",
       "\t1 & 1000019 & 1000019\\\\\n",
       "\t2 & 1000078 & 1000078\\\\\n",
       "\t3 & 1000081 & 1000081\\\\\n",
       "\t4 & 1000198 & 1000198\\\\\n",
       "\t5 & 1000210 & 1000210\\\\\n",
       "\t6 & 1000236 & 1000236\\\\\n",
       "\\end{tabular}\n"
      ],
      "text/markdown": [
       "\n",
       "A data.frame: 6 x 2\n",
       "\n",
       "| <!--/--> | FID &lt;int&gt; | IID &lt;int&gt; |\n",
       "|---|---|---|\n",
       "| 1 | 1000019 | 1000019 |\n",
       "| 2 | 1000078 | 1000078 |\n",
       "| 3 | 1000081 | 1000081 |\n",
       "| 4 | 1000198 | 1000198 |\n",
       "| 5 | 1000210 | 1000210 |\n",
       "| 6 | 1000236 | 1000236 |\n",
       "\n"
      ],
      "text/plain": [
       "  FID     IID    \n",
       "1 1000019 1000019\n",
       "2 1000078 1000078\n",
       "3 1000081 1000081\n",
       "4 1000198 1000198\n",
       "5 1000210 1000210\n",
       "6 1000236 1000236"
      ]
     },
     "metadata": {},
     "output_type": "display_data"
    },
    {
     "data": {
      "text/html": [
       "<style>\n",
       ".list-inline {list-style: none; margin:0; padding: 0}\n",
       ".list-inline>li {display: inline-block}\n",
       ".list-inline>li:not(:last-child)::after {content: \"\\00b7\"; padding: 0 .5ex}\n",
       "</style>\n",
       "<ol class=list-inline><li>167652</li><li>2</li></ol>\n"
      ],
      "text/latex": [
       "\\begin{enumerate*}\n",
       "\\item 167652\n",
       "\\item 2\n",
       "\\end{enumerate*}\n"
      ],
      "text/markdown": [
       "1. 167652\n",
       "2. 2\n",
       "\n",
       "\n"
      ],
      "text/plain": [
       "[1] 167652      2"
      ]
     },
     "metadata": {},
     "output_type": "display_data"
    }
   ],
   "source": [
    "head(eur_unrel_drop)\n",
    "dim(eur_unrel_drop)"
   ]
  },
  {
   "cell_type": "code",
   "execution_count": 40,
   "id": "072b20ac-102b-420d-834a-d366f2872377",
   "metadata": {
    "kernel": "R"
   },
   "outputs": [],
   "source": [
    "write.table(eur_unrel_drop, \"/mnt/vast/hpc/csg/UKBiobank/results/ARHI_heritability/pheno_files/ukb42495_exomed_white_europeans_unrelated_no_outliers_167652.id\", sep=\"\\t\", row.names = FALSE, col.names =FALSE, quote=FALSE)"
   ]
  },
  {
   "cell_type": "markdown",
   "id": "d176b27d-1345-44c7-978b-1c7e8790618d",
   "metadata": {
    "kernel": "R"
   },
   "source": [
    "### Apply HWE only on the subgroup of controls which are the same for our ARHI analyses"
   ]
  },
  {
   "cell_type": "code",
   "execution_count": 2,
   "id": "94b9e9af-cdc7-42f8-a541-9056fe5e4d97",
   "metadata": {
    "kernel": "R"
   },
   "outputs": [
    {
     "data": {
      "text/html": [
       "<table class=\"dataframe\">\n",
       "<caption>A data.frame: 6 x 2</caption>\n",
       "<thead>\n",
       "\t<tr><th></th><th scope=col>FID</th><th scope=col>IID</th></tr>\n",
       "\t<tr><th></th><th scope=col>&lt;int&gt;</th><th scope=col>&lt;int&gt;</th></tr>\n",
       "</thead>\n",
       "<tbody>\n",
       "\t<tr><th scope=row>1</th><td>1000019</td><td>1000019</td></tr>\n",
       "\t<tr><th scope=row>2</th><td>1000078</td><td>1000078</td></tr>\n",
       "\t<tr><th scope=row>3</th><td>1000081</td><td>1000081</td></tr>\n",
       "\t<tr><th scope=row>4</th><td>1000198</td><td>1000198</td></tr>\n",
       "\t<tr><th scope=row>5</th><td>1000210</td><td>1000210</td></tr>\n",
       "\t<tr><th scope=row>6</th><td>1000236</td><td>1000236</td></tr>\n",
       "</tbody>\n",
       "</table>\n"
      ],
      "text/latex": [
       "A data.frame: 6 x 2\n",
       "\\begin{tabular}{r|ll}\n",
       "  & FID & IID\\\\\n",
       "  & <int> & <int>\\\\\n",
       "\\hline\n",
       "\t1 & 1000019 & 1000019\\\\\n",
       "\t2 & 1000078 & 1000078\\\\\n",
       "\t3 & 1000081 & 1000081\\\\\n",
       "\t4 & 1000198 & 1000198\\\\\n",
       "\t5 & 1000210 & 1000210\\\\\n",
       "\t6 & 1000236 & 1000236\\\\\n",
       "\\end{tabular}\n"
      ],
      "text/markdown": [
       "\n",
       "A data.frame: 6 x 2\n",
       "\n",
       "| <!--/--> | FID &lt;int&gt; | IID &lt;int&gt; |\n",
       "|---|---|---|\n",
       "| 1 | 1000019 | 1000019 |\n",
       "| 2 | 1000078 | 1000078 |\n",
       "| 3 | 1000081 | 1000081 |\n",
       "| 4 | 1000198 | 1000198 |\n",
       "| 5 | 1000210 | 1000210 |\n",
       "| 6 | 1000236 | 1000236 |\n",
       "\n"
      ],
      "text/plain": [
       "  FID     IID    \n",
       "1 1000019 1000019\n",
       "2 1000078 1000078\n",
       "3 1000081 1000081\n",
       "4 1000198 1000198\n",
       "5 1000210 1000210\n",
       "6 1000236 1000236"
      ]
     },
     "metadata": {},
     "output_type": "display_data"
    }
   ],
   "source": [
    "# Get the unrelated controls from out phenotype files\n",
    "eur_unrel <-  read.table(\"/mnt/vast/hpc/csg/UKBiobank/results/ARHI_heritability/pheno_files/ukb42495_exomed_white_europeans_unrelated_no_outliers_167652.id\", header=F)\n",
    "colnames(eur_unrel) <- c(\"FID\", \"IID\")\n",
    "head(eur_unrel)"
   ]
  },
  {
   "cell_type": "code",
   "execution_count": 4,
   "id": "b9ad2b1f-36d6-4b51-a9aa-f2bfa4450b83",
   "metadata": {
    "kernel": "R"
   },
   "outputs": [
    {
     "data": {
      "text/html": [
       "<table class=\"dataframe\">\n",
       "<caption>A data.frame: 6 x 5</caption>\n",
       "<thead>\n",
       "\t<tr><th></th><th scope=col>FID</th><th scope=col>IID</th><th scope=col>sex</th><th scope=col>f3393</th><th scope=col>age</th></tr>\n",
       "\t<tr><th></th><th scope=col>&lt;int&gt;</th><th scope=col>&lt;int&gt;</th><th scope=col>&lt;int&gt;</th><th scope=col>&lt;int&gt;</th><th scope=col>&lt;int&gt;</th></tr>\n",
       "</thead>\n",
       "<tbody>\n",
       "\t<tr><th scope=row>1</th><td>1001384</td><td>1001384</td><td>1</td><td>1</td><td>61</td></tr>\n",
       "\t<tr><th scope=row>2</th><td>1002548</td><td>1002548</td><td>0</td><td>1</td><td>62</td></tr>\n",
       "\t<tr><th scope=row>3</th><td>1002888</td><td>1002888</td><td>0</td><td>1</td><td>68</td></tr>\n",
       "\t<tr><th scope=row>4</th><td>1002944</td><td>1002944</td><td>0</td><td>1</td><td>65</td></tr>\n",
       "\t<tr><th scope=row>5</th><td>1003258</td><td>1003258</td><td>0</td><td>1</td><td>74</td></tr>\n",
       "\t<tr><th scope=row>6</th><td>1004843</td><td>1004843</td><td>0</td><td>1</td><td>64</td></tr>\n",
       "</tbody>\n",
       "</table>\n"
      ],
      "text/latex": [
       "A data.frame: 6 x 5\n",
       "\\begin{tabular}{r|lllll}\n",
       "  & FID & IID & sex & f3393 & age\\\\\n",
       "  & <int> & <int> & <int> & <int> & <int>\\\\\n",
       "\\hline\n",
       "\t1 & 1001384 & 1001384 & 1 & 1 & 61\\\\\n",
       "\t2 & 1002548 & 1002548 & 0 & 1 & 62\\\\\n",
       "\t3 & 1002888 & 1002888 & 0 & 1 & 68\\\\\n",
       "\t4 & 1002944 & 1002944 & 0 & 1 & 65\\\\\n",
       "\t5 & 1003258 & 1003258 & 0 & 1 & 74\\\\\n",
       "\t6 & 1004843 & 1004843 & 0 & 1 & 64\\\\\n",
       "\\end{tabular}\n"
      ],
      "text/markdown": [
       "\n",
       "A data.frame: 6 x 5\n",
       "\n",
       "| <!--/--> | FID &lt;int&gt; | IID &lt;int&gt; | sex &lt;int&gt; | f3393 &lt;int&gt; | age &lt;int&gt; |\n",
       "|---|---|---|---|---|---|\n",
       "| 1 | 1001384 | 1001384 | 1 | 1 | 61 |\n",
       "| 2 | 1002548 | 1002548 | 0 | 1 | 62 |\n",
       "| 3 | 1002888 | 1002888 | 0 | 1 | 68 |\n",
       "| 4 | 1002944 | 1002944 | 0 | 1 | 65 |\n",
       "| 5 | 1003258 | 1003258 | 0 | 1 | 74 |\n",
       "| 6 | 1004843 | 1004843 | 0 | 1 | 64 |\n",
       "\n"
      ],
      "text/plain": [
       "  FID     IID     sex f3393 age\n",
       "1 1001384 1001384 1   1     61 \n",
       "2 1002548 1002548 0   1     62 \n",
       "3 1002888 1002888 0   1     68 \n",
       "4 1002944 1002944 0   1     65 \n",
       "5 1003258 1003258 0   1     74 \n",
       "6 1004843 1004843 0   1     64 "
      ]
     },
     "metadata": {},
     "output_type": "display_data"
    },
    {
     "data": {
      "text/html": [
       "103037"
      ],
      "text/latex": [
       "103037"
      ],
      "text/markdown": [
       "103037"
      ],
      "text/plain": [
       "[1] 103037"
      ]
     },
     "metadata": {},
     "output_type": "display_data"
    }
   ],
   "source": [
    "# Load the f3393 phenotype file to subset for the controls \n",
    "f3393 <- read.table(\"~/UKBiobank/phenotype_files/hearing_impairment/090321_UKBB_Hearing_aid_f3393_expandedwhite_6436cases_96601ctrl\", header=T)\n",
    "head(f3393)\n",
    "nrow(f3393)"
   ]
  },
  {
   "cell_type": "code",
   "execution_count": 7,
   "id": "7fd84e5f-3577-4de8-87d0-ffc7b1131d53",
   "metadata": {
    "kernel": "R"
   },
   "outputs": [],
   "source": [
    "library('dplyr')\n",
    "f3393_ctrl <- f3393 %>% filter(f3393==0) %>%\n",
    "          select('FID', 'IID')"
   ]
  },
  {
   "cell_type": "code",
   "execution_count": 13,
   "id": "85f987ef-9e2a-42bc-9d4a-2591f7ab20a0",
   "metadata": {
    "kernel": "R"
   },
   "outputs": [
    {
     "data": {
      "text/html": [
       "92040"
      ],
      "text/latex": [
       "92040"
      ],
      "text/markdown": [
       "92040"
      ],
      "text/plain": [
       "[1] 92040"
      ]
     },
     "metadata": {},
     "output_type": "display_data"
    },
    {
     "data": {
      "text/html": [
       "<table class=\"dataframe\">\n",
       "<caption>A data.frame: 6 x 2</caption>\n",
       "<thead>\n",
       "\t<tr><th></th><th scope=col>FID</th><th scope=col>IID</th></tr>\n",
       "\t<tr><th></th><th scope=col>&lt;int&gt;</th><th scope=col>&lt;int&gt;</th></tr>\n",
       "</thead>\n",
       "<tbody>\n",
       "\t<tr><th scope=row>1</th><td>1001384</td><td>1001384</td></tr>\n",
       "\t<tr><th scope=row>2</th><td>1002548</td><td>1002548</td></tr>\n",
       "\t<tr><th scope=row>3</th><td>1002888</td><td>1002888</td></tr>\n",
       "\t<tr><th scope=row>4</th><td>1002944</td><td>1002944</td></tr>\n",
       "\t<tr><th scope=row>5</th><td>1003258</td><td>1003258</td></tr>\n",
       "\t<tr><th scope=row>6</th><td>1004843</td><td>1004843</td></tr>\n",
       "</tbody>\n",
       "</table>\n"
      ],
      "text/latex": [
       "A data.frame: 6 x 2\n",
       "\\begin{tabular}{r|ll}\n",
       "  & FID & IID\\\\\n",
       "  & <int> & <int>\\\\\n",
       "\\hline\n",
       "\t1 & 1001384 & 1001384\\\\\n",
       "\t2 & 1002548 & 1002548\\\\\n",
       "\t3 & 1002888 & 1002888\\\\\n",
       "\t4 & 1002944 & 1002944\\\\\n",
       "\t5 & 1003258 & 1003258\\\\\n",
       "\t6 & 1004843 & 1004843\\\\\n",
       "\\end{tabular}\n"
      ],
      "text/markdown": [
       "\n",
       "A data.frame: 6 x 2\n",
       "\n",
       "| <!--/--> | FID &lt;int&gt; | IID &lt;int&gt; |\n",
       "|---|---|---|\n",
       "| 1 | 1001384 | 1001384 |\n",
       "| 2 | 1002548 | 1002548 |\n",
       "| 3 | 1002888 | 1002888 |\n",
       "| 4 | 1002944 | 1002944 |\n",
       "| 5 | 1003258 | 1003258 |\n",
       "| 6 | 1004843 | 1004843 |\n",
       "\n"
      ],
      "text/plain": [
       "  FID     IID    \n",
       "1 1001384 1001384\n",
       "2 1002548 1002548\n",
       "3 1002888 1002888\n",
       "4 1002944 1002944\n",
       "5 1003258 1003258\n",
       "6 1004843 1004843"
      ]
     },
     "metadata": {},
     "output_type": "display_data"
    }
   ],
   "source": [
    "f3393_ctrl_unrel <- f3393 %>% filter(IID %in% eur_unrel$IID) %>% select(\"FID\", \"IID\")        \n",
    "nrow(f3393_ctrl_unrel)\n",
    "head(f3393_ctrl_unrel)"
   ]
  },
  {
   "cell_type": "code",
   "execution_count": 14,
   "id": "e14adc2a-b212-4100-bc0a-77dd15175c09",
   "metadata": {
    "kernel": "R"
   },
   "outputs": [],
   "source": [
    "write.table(f3393_ctrl_unrel, \"/mnt/vast/hpc/csg/UKBiobank/results/ARHI_heritability/pheno_files/ukb42495_exomed_white_europeans_unrelated_no_outliers_ctrl_ARHI_92040.id\", sep=\"\\t\", row.names = FALSE, col.names =TRUE, quote=FALSE)"
   ]
  },
  {
   "cell_type": "code",
   "execution_count": 33,
   "id": "7207aa88-cc8a-46fb-b88e-5d6035c3b4a4",
   "metadata": {
    "kernel": "Bash",
    "tags": []
   },
   "outputs": [
    {
     "name": "stdout",
     "output_type": "stream",
     "text": [
      "INFO: Running \u001b[32mcsg\u001b[0m: Configuration for Columbia csg partition cluster\n",
      "INFO: \u001b[32mcsg\u001b[0m (index=0) is \u001b[32mignored\u001b[0m due to saved signature\n",
      "INFO: \u001b[32mcsg\u001b[0m output:   \u001b[32m/mnt/mfs/statgen/UKBiobank/results/ARHI_heritability/051922_white_eur_unrel/hwe_eur_unrel_control_ARHI_2022-05-19.sbatch\u001b[0m\n",
      "INFO: Workflow csg (ID=w72163a39fda9e30b) is ignored with 1 ignored step.\n",
      "\n"
     ]
    }
   ],
   "source": [
    "# Get the variants that pass HWE qc filter\n",
    "## Select White European unrelated individuals \n",
    "## Do some extra QC on the exome data\n",
    "UKBB_PATH=/mnt/vast/hpc/csg/UKBiobank\n",
    "cwd=$UKBB_PATH/results/ARHI_heritability/051922_white_eur_unrel\n",
    "## Use the exome filtered file\n",
    "genoFile=`echo $UKBB_PATH/data/exome_files/project_VCF/072721_run/plink/ukb23156_c{1..22}.merged.filtered.bed`\n",
    "## To keep only the samples of white Europeans unrelated individuals with outliers removed that are controls for ARHI samples so we can apply HWE\n",
    "keep_samples=/mnt/vast/hpc/csg/UKBiobank/results/ARHI_heritability/pheno_files/ukb42495_exomed_white_europeans_unrelated_no_outliers_ctrl_ARHI_92040.id\n",
    "# Do not set a MAF filter, this will keep both common and rare variants\n",
    "maf_filter=0 \n",
    "# No geno filter in this subset of controls\n",
    "geno_filter=0\n",
    "# Set a HWE filter 1x10^-8\n",
    "hwe_filter=0.00000001\n",
    "# Do not set a sample missingness filter at this point, otherwise many samples would be removed\n",
    "mind_filter=0\n",
    "# Keep both SNPs and indels in the heritability calculation\n",
    "snps_only=False\n",
    "meta_only=True\n",
    "other_args=\"\"\n",
    "gwas_sbatch=$UKBB_PATH/results/ARHI_heritability/051922_white_eur_unrel/hwe_eur_unrel_control_ARHI_$(date +\"%Y-%m-%d\").sbatch\n",
    "gwasqc_sos=~/project/xqtl-pipeline/code/data_preprocessing/genotype/GWAS_QC.ipynb\n",
    "tpl_file=~/project/bioworkflows/admin/csg.yml\n",
    "container=~/containers/bioinfo.sif\n",
    "numThreads=20\n",
    "job_size=1\n",
    "mem='30G'\n",
    "\n",
    "gwasqc_args=\"\"\"qc:1\n",
    "    --cwd $cwd\n",
    "    --genoFile $genoFile\n",
    "    --keep_samples $keep_samples\n",
    "    --maf_filter $maf_filter\n",
    "    --geno_filter $geno_filter\n",
    "    --hwe_filter $hwe_filter\n",
    "    --mind_filter $mind_filter\n",
    "    --meta_only $meta_only\n",
    "    --other_args $other_args\n",
    "    --numThreads $numThreads \n",
    "    --job_size $job_size\n",
    "    --container $container\n",
    "    --mem $mem\n",
    "\"\"\"\n",
    "\n",
    "sos run ~/project/UKBB_GWAS_dev/admin/Get_Job_Script.ipynb csg\\\n",
    "    --template-file $tpl_file \\\n",
    "    --workflow-file $gwasqc_sos \\\n",
    "    --to-script $gwas_sbatch \\\n",
    "    --args \"$gwasqc_args\"\n"
   ]
  },
  {
   "cell_type": "code",
   "execution_count": 18,
   "id": "c54a1553-ef21-449d-81bd-e6dc03021d18",
   "metadata": {
    "kernel": "Bash"
   },
   "outputs": [
    {
     "name": "stdout",
     "output_type": "stream",
     "text": [
      "\n"
     ]
    }
   ],
   "source": [
    "# Count number of variants after VCF_QC\n",
    "for file in $(ls -v /mnt/vast/hpc/csg/UKBiobank/data/exome_files/project_VCF/072721_run/plink/ukb23156_c*.merged.filtered.bim);\n",
    "do \n",
    "    echo \"${file##*/}\" >> /mnt/vast/hpc/csg/UKBiobank/results/ARHI_heritability/072721_ukb23156_c1_22.merged.filtered.snpcount.txt\n",
    "    cat $file | wc -l  >> /mnt/vast/hpc/csg/UKBiobank/results/ARHI_heritability/072721_ukb23156_c1_22.merged.filtered.snpcount.txt;\n",
    "done"
   ]
  },
  {
   "cell_type": "code",
   "execution_count": 36,
   "id": "42808c45-664c-4d6a-827e-631c810846cd",
   "metadata": {
    "kernel": "Bash"
   },
   "outputs": [
    {
     "name": "stdout",
     "output_type": "stream",
     "text": [
      "\n"
     ]
    }
   ],
   "source": [
    "# Count number of variants after HWE filter \n",
    "for file in $(ls -v /mnt/vast/hpc/csg/UKBiobank/results/ARHI_heritability/051922_white_eur_unrel/ukb23156_c*.merged.filtered.filtered.snplist);\n",
    "do \n",
    "    wc -l $file  >> /mnt/vast/hpc/csg/UKBiobank/results/ARHI_heritability/051922_ukb23156_c1_22.merged.filtered.hwe_ctrl_ARHI.snpcount.txt;\n",
    "done"
   ]
  },
  {
   "cell_type": "code",
   "execution_count": 39,
   "id": "78770610-3eae-4557-88be-934b58cf24a6",
   "metadata": {
    "kernel": "Bash"
   },
   "outputs": [
    {
     "name": "stdout",
     "output_type": "stream",
     "text": [
      "\n"
     ]
    }
   ],
   "source": [
    "cat $(ls -v /mnt/vast/hpc/csg/UKBiobank/results/ARHI_heritability/051922_white_eur_unrel/ukb23156_c**.merged.filtered.filtered.snplist) >> \\\n",
    "/mnt/vast/hpc/csg/UKBiobank/results/ARHI_heritability/051922_white_eur_unrel/ukb23156_c1_22.filtered.filtered.snplist"
   ]
  },
  {
   "cell_type": "markdown",
   "id": "2aa7d002-722b-46f1-acd9-55cc012de266",
   "metadata": {
    "kernel": "Bash"
   },
   "source": [
    "### Note: I've found some duplicated records in the extracted variants\n",
    "```\n",
    "      2 chr10:5642571:T:TA\n",
    "      2 chr11:2915280:C:CGT\n",
    "      2 chr14:51243825:C:CT\n",
    "      2 chr14:73265273:A:AGG\n",
    "      2 chr14:73654828:C:CT\n",
    "      2 chr15:36594814:T:TA\n",
    "      2 chr17:20156278:A:AC\n",
    "      2 chr19:45408051:C:CA\n",
    "      2 chr19:9980591:A:ATCTC\n",
    "      2 chr1:149935279:CA:C\n",
    "      2 chr1:240493541:A:AT\n",
    "      2 chr1:53074691:T:TG\n",
    "      2 chr20:49159148:T:TA\n",
    "      2 chr22:36481640:C:CGG\n",
    "      2 chr2:127637295:A:AC\n",
    "      2 chr3:111991354:AT:A\n",
    "      2 chr3:98391562:G:GA\n",
    "      2 chr5:169670501:T:TTTTTA\n",
    "      2 chr5:58975878:C:CT\n",
    "      2 chr5:96783875:A:ACT\n",
    "      2 chr6:42683028:G:GT\n",
    "      2 chr7:100885457:G:GC\n",
    "      2 chr9:27217785:A:AT\n",
    "      2 chr9:92474739:G:GTCC\n",
    "```"
   ]
  },
  {
   "cell_type": "markdown",
   "id": "b577a08b-fb06-4d59-aba3-22c2d5d6d7a1",
   "metadata": {
    "kernel": "Bash"
   },
   "source": [
    "### Remove variants that do not pass HWE in ARHI controls and get final bed file per chromosome"
   ]
  },
  {
   "cell_type": "code",
   "execution_count": 40,
   "id": "c7af5192-b224-4f9e-ba30-621a5ad80f2b",
   "metadata": {
    "kernel": "Bash"
   },
   "outputs": [
    {
     "name": "stdout",
     "output_type": "stream",
     "text": [
      "INFO: Running \u001b[32mcsg\u001b[0m: Configuration for Columbia csg partition cluster\n",
      "INFO: \u001b[32mcsg\u001b[0m is \u001b[32mcompleted\u001b[0m.\n",
      "INFO: \u001b[32mcsg\u001b[0m output:   \u001b[32m/mnt/mfs/statgen/UKBiobank/results/ARHI_heritability/051922_white_eur_unrel/eur_unrel_ARHI_QC_2022-05-19.sbatch\u001b[0m\n",
      "INFO: Workflow csg (ID=w3655ddad4c106b79) is executed successfully with 1 completed step.\n",
      "\n"
     ]
    }
   ],
   "source": [
    "# Get the variants that pass HWE qc filter\n",
    "## Select White European unrelated individuals \n",
    "## Do some extra QC on the exome data\n",
    "UKBB_PATH=/mnt/vast/hpc/csg/UKBiobank\n",
    "cwd=$UKBB_PATH/results/ARHI_heritability/051922_white_eur_unrel\n",
    "## Use the exome filtered file\n",
    "genoFile=`echo $UKBB_PATH/data/exome_files/project_VCF/072721_run/plink/ukb23156_c{1..22}.merged.filtered.bed`\n",
    "## To keep only the samples of white Europeans unrelated individuals with outliers removed that are controls for ARHI samples so we can apply HWE\n",
    "keep_samples=/mnt/vast/hpc/csg/UKBiobank/results/ARHI_heritability/pheno_files/ukb42495_exomed_white_europeans_unrelated_no_outliers_167652.id\n",
    "keep_variants=~/UKBiobank/results/ARHI_heritability/051922_white_eur_unrel/ukb23156_c1_22.filtered.filtered.snplist\n",
    "# Do not set a MAF filter, this will keep both common and rare variants\n",
    "maf_filter=0 \n",
    "# No geno filter in this subset of controls\n",
    "geno_filter=0.1\n",
    "# Set a HWE filter to 0 because there's not need to do it here\n",
    "hwe_filter=0\n",
    "# Do not set a sample missingness filter at this point, otherwise many samples would be removed\n",
    "mind_filter=0\n",
    "# Keep both SNPs and indels in the heritability calculation\n",
    "snps_only=False\n",
    "other_args=\"\"\n",
    "gwas_sbatch=$UKBB_PATH/results/ARHI_heritability/051922_white_eur_unrel/eur_unrel_ARHI_QC_$(date +\"%Y-%m-%d\").sbatch\n",
    "gwasqc_sos=~/project/xqtl-pipeline/code/data_preprocessing/genotype/GWAS_QC.ipynb\n",
    "tpl_file=~/project/bioworkflows/admin/csg.yml\n",
    "container=~/containers/bioinfo.sif\n",
    "numThreads=20\n",
    "job_size=1\n",
    "mem='30G'\n",
    "\n",
    "gwasqc_args=\"\"\"qc:1\n",
    "    --cwd $cwd\n",
    "    --genoFile $genoFile\n",
    "    --keep_samples $keep_samples\n",
    "    --keep_variants $keep_variants\n",
    "    --maf_filter $maf_filter\n",
    "    --geno_filter $geno_filter\n",
    "    --hwe_filter $hwe_filter\n",
    "    --mind_filter $mind_filter\n",
    "    --other_args $other_args\n",
    "    --numThreads $numThreads \n",
    "    --job_size $job_size\n",
    "    --container $container\n",
    "    --mem $mem\n",
    "\"\"\"\n",
    "\n",
    "sos run ~/project/UKBB_GWAS_dev/admin/Get_Job_Script.ipynb csg\\\n",
    "    --template-file $tpl_file \\\n",
    "    --workflow-file $gwasqc_sos \\\n",
    "    --to-script $gwas_sbatch \\\n",
    "    --args \"$gwasqc_args\"\n"
   ]
  },
  {
   "cell_type": "code",
   "execution_count": 41,
   "id": "41918b38-5b98-487e-adce-9297ce3a8b6d",
   "metadata": {
    "kernel": "Bash"
   },
   "outputs": [
    {
     "name": "stdout",
     "output_type": "stream",
     "text": [
      "\n"
     ]
    }
   ],
   "source": [
    "# Count number of variants after geno=0.1 filter \n",
    "for file in $(ls -v /mnt/vast/hpc/csg/UKBiobank/results/ARHI_heritability/051922_white_eur_unrel/ukb23156_c*.merged.filtered.filtered.extracted.bim);\n",
    "do \n",
    "    wc -l $file  >> /mnt/vast/hpc/csg/UKBiobank/results/ARHI_heritability/051922_ukb23156_c1_22.merged.filtered.geno0.1_ARHI.snpcount.txt;\n",
    "done"
   ]
  },
  {
   "cell_type": "markdown",
   "id": "90017c69-aff4-4096-971d-8204ff24225e",
   "metadata": {
    "kernel": "Bash"
   },
   "source": [
    "## Step 2. Merge plink files and use `--mind 0.05` filter\n",
    "\n",
    "From the Wainschtein 2022 paper\n",
    "\n",
    "```\n",
    "plink \\\n",
    "--bfile ${BED_file_merged} \\\n",
    "--merge-list ${list_beds} \\\n",
    "--make-bed \\\n",
    "--maf 0.0001 \\\n",
    "--geno 0.05  \\\n",
    "--hwe 0.000001 \\\n",
    "--mind 0.05 \\\n",
    "--out ${BED_file_merged_QC} \\\n",
    "--threads ${ncpu}\n",
    "```"
   ]
  },
  {
   "cell_type": "markdown",
   "id": "3005997e-4563-45b6-89cf-9bd1ffdf1c23",
   "metadata": {
    "kernel": "Bash"
   },
   "source": [
    "### Get the file for rare variants MAF<0.01"
   ]
  },
  {
   "cell_type": "code",
   "execution_count": 43,
   "id": "3b991e85-7f0a-4a8f-8ac8-87b125e69edf",
   "metadata": {
    "kernel": "Bash",
    "tags": []
   },
   "outputs": [
    {
     "name": "stdout",
     "output_type": "stream",
     "text": [
      "INFO: Running \u001b[32mcsg\u001b[0m: Configuration for Columbia csg partition cluster\n",
      "INFO: \u001b[32mcsg\u001b[0m is \u001b[32mcompleted\u001b[0m.\n",
      "INFO: \u001b[32mcsg\u001b[0m output:   \u001b[32m/mnt/mfs/statgen/UKBiobank/results/ARHI_heritability/051922_merged_bed/rareMAFbelow0.01_eur_unrel_exome_merged2022-05-19.sbatch\u001b[0m\n",
      "INFO: Workflow csg (ID=w184d6d32cb096add) is executed successfully with 1 completed step.\n",
      "\n"
     ]
    }
   ],
   "source": [
    "genoFile=`echo /mnt/vast/hpc/csg/UKBiobank/results/ARHI_heritability/051922_white_eur_unrel/ukb23156_c{1..22}.merged.filtered.filtered.extracted.bed`\n",
    "cwd=/mnt/vast/hpc/csg/UKBiobank/results/ARHI_heritability/051922_merged_bed\n",
    "# Select only the variants with MAF between 0 and 0.01\n",
    "maf_max_filter=0.01\n",
    "# Do not set a MAF filter to keep all variants below 0.01\n",
    "maf_filter=0\n",
    "# No need to filter again in the merge\n",
    "geno_filter=0\n",
    "# HWE already applied only to controls of ARHI sample\n",
    "hwe_filter=0\n",
    "# Set a sample missingness of 5%\n",
    "mind_filter=0.05\n",
    "name='ukb23156_merged_eur_unrel_rarevarsMAFbelow0.01'\n",
    "\n",
    "gwas_sbatch=/mnt/vast/hpc/csg/UKBiobank/results/ARHI_heritability/051922_merged_bed/rareMAFbelow0.01_eur_unrel_exome_merged$(date +\"%Y-%m-%d\").sbatch\n",
    "gwasqc_sos=~/project/xqtl-pipeline/code/data_preprocessing/genotype/genotype_formatting.ipynb\n",
    "tpl_file=~/project/bioworkflows/admin/csg.yml\n",
    "container=~/containers/bioinfo.sif\n",
    "\n",
    "merge_args=\"\"\"merge_plink\n",
    "    --cwd $cwd\n",
    "    --genoFile $genoFile\n",
    "    --name $name\n",
    "    --maf_filter $maf_filter\n",
    "    --maf_max_filter $maf_max_filter\n",
    "    --geno_filter $geno_filter\n",
    "    --hwe_filter $hwe_filter\n",
    "    --mind_filter $mind_filter\n",
    "    --container $container\n",
    "\"\"\"\n",
    "\n",
    "sos run ~/project/UKBB_GWAS_dev/admin/Get_Job_Script.ipynb csg\\\n",
    "    --template-file $tpl_file \\\n",
    "    --workflow-file $gwasqc_sos \\\n",
    "    --to-script $gwas_sbatch \\\n",
    "    --args \"$merge_args\"\n"
   ]
  },
  {
   "cell_type": "markdown",
   "id": "ce047316-cdc4-46cf-bce4-9bf649721034",
   "metadata": {
    "kernel": "SoS"
   },
   "source": [
    "### Get the file for common variants MAF>0.01"
   ]
  },
  {
   "cell_type": "code",
   "execution_count": 44,
   "id": "c0d17b1c-f6f3-4b74-ac07-02df25622679",
   "metadata": {
    "kernel": "Bash",
    "tags": []
   },
   "outputs": [
    {
     "name": "stdout",
     "output_type": "stream",
     "text": [
      "INFO: Running \u001b[32mcsg\u001b[0m: Configuration for Columbia csg partition cluster\n",
      "INFO: \u001b[32mcsg\u001b[0m is \u001b[32mcompleted\u001b[0m.\n",
      "INFO: \u001b[32mcsg\u001b[0m output:   \u001b[32m/mnt/mfs/statgen/UKBiobank/results/ARHI_heritability/051922_merged_bed/commonMAFabove0.01_eur_unrel_exome_merged_2022-05-19.sbatch\u001b[0m\n",
      "INFO: Workflow csg (ID=wd209f89c42e59fdb) is executed successfully with 1 completed step.\n",
      "\n"
     ]
    }
   ],
   "source": [
    "genoFile=`echo /mnt/vast/hpc/csg/UKBiobank/results/ARHI_heritability/051922_white_eur_unrel/ukb23156_c{1..22}.merged.filtered.filtered.extracted.bed`\n",
    "cwd=/mnt/vast/hpc/csg/UKBiobank/results/ARHI_heritability/051922_merged_bed\n",
    "# Set a MAF filter of 0.01 to keep variants above that threshold\n",
    "maf_filter=0.01\n",
    "# No need to filter for variant missigness again\n",
    "geno_filter=0\n",
    "# HWE already applied only to controls of ARHI sample\n",
    "hwe_filter=0\n",
    "# Set a sample missingness of 5%\n",
    "mind_filter=0.05\n",
    "name='ukb23156_merged_eur_unrel_commonvarsMAFabove0.01'\n",
    "gwas_sbatch=/mnt/vast/hpc/csg/UKBiobank/results/ARHI_heritability/051922_merged_bed/commonMAFabove0.01_eur_unrel_exome_merged_$(date +\"%Y-%m-%d\").sbatch\n",
    "gwasqc_sos=~/project/xqtl-pipeline/code/data_preprocessing/genotype/genotype_formatting.ipynb\n",
    "tpl_file=~/project/bioworkflows/admin/csg.yml\n",
    "container=~/containers/bioinfo.sif\n",
    "\n",
    "merge_args=\"\"\"merge_plink\n",
    "    --cwd $cwd\n",
    "    --genoFile $genoFile\n",
    "    --name $name\n",
    "    --maf_filter $maf_filter\n",
    "    --geno_filter $geno_filter\n",
    "    --hwe_filter $hwe_filter\n",
    "    --mind_filter $mind_filter\n",
    "    --container $container\n",
    "\"\"\"\n",
    "\n",
    "sos run ~/project/UKBB_GWAS_dev/admin/Get_Job_Script.ipynb csg\\\n",
    "    --template-file $tpl_file \\\n",
    "    --workflow-file $gwasqc_sos \\\n",
    "    --to-script $gwas_sbatch \\\n",
    "    --args \"$merge_args\"\n"
   ]
  },
  {
   "cell_type": "markdown",
   "id": "0319e1e5-e181-4598-94a2-f9bb2dd531b6",
   "metadata": {
    "kernel": "SoS"
   },
   "source": [
    "### Get a file with both common and rare variants"
   ]
  },
  {
   "cell_type": "code",
   "execution_count": 46,
   "id": "96608608-6dcc-4948-931c-cef53d977b0e",
   "metadata": {
    "kernel": "Bash",
    "tags": []
   },
   "outputs": [
    {
     "name": "stdout",
     "output_type": "stream",
     "text": [
      "INFO: Running \u001b[32mcsg\u001b[0m: Configuration for Columbia csg partition cluster\n",
      "INFO: \u001b[32mcsg\u001b[0m is \u001b[32mcompleted\u001b[0m.\n",
      "INFO: \u001b[32mcsg\u001b[0m output:   \u001b[32m/mnt/mfs/statgen/UKBiobank/results/ARHI_heritability/051922_merged_bed/allvars_eur_unrel_exome_merged_2022-05-19.sbatch\u001b[0m\n",
      "INFO: Workflow csg (ID=wadfa7b47d59121a2) is executed successfully with 1 completed step.\n",
      "\n"
     ]
    }
   ],
   "source": [
    "genoFile=`echo /mnt/vast/hpc/csg/UKBiobank/results/ARHI_heritability/051922_white_eur_unrel/ukb23156_c{1..22}.merged.filtered.filtered.extracted.bed`\n",
    "cwd=/mnt/vast/hpc/csg/UKBiobank/results/ARHI_heritability/051922_merged_bed\n",
    "# Do not set a MAF filter, this will keep both common and rare variants\n",
    "maf_filter=0 \n",
    "# Do not filter again for variant missigness\n",
    "geno_filter=0\n",
    "# HWE already applied only to controls of ARHI sample\n",
    "hwe_filter=0\n",
    "# Set a sample missingness of 5%\n",
    "mind_filter=0.05\n",
    "name='ukb23156_merged_eur_unrel_allvars'\n",
    "gwas_sbatch=/mnt/vast/hpc/csg/UKBiobank/results/ARHI_heritability/051922_merged_bed/allvars_eur_unrel_exome_merged_$(date +\"%Y-%m-%d\").sbatch\n",
    "gwasqc_sos=~/project/xqtl-pipeline/code/data_preprocessing/genotype/genotype_formatting.ipynb\n",
    "tpl_file=~/project/bioworkflows/admin/csg.yml\n",
    "container=~/containers/bioinfo.sif\n",
    "\n",
    "merge_args=\"\"\"merge_plink\n",
    "    --cwd $cwd\n",
    "    --genoFile $genoFile\n",
    "    --name $name\n",
    "    --maf_filter $maf_filter\n",
    "    --geno_filter $geno_filter\n",
    "    --hwe_filter $hwe_filter\n",
    "    --mind_filter $mind_filter\n",
    "    --container $container\n",
    "\"\"\"\n",
    "\n",
    "sos run ~/project/UKBB_GWAS_dev/admin/Get_Job_Script.ipynb csg\\\n",
    "    --template-file $tpl_file \\\n",
    "    --workflow-file $gwasqc_sos \\\n",
    "    --to-script $gwas_sbatch \\\n",
    "    --args \"$merge_args\"\n"
   ]
  },
  {
   "cell_type": "markdown",
   "id": "db941c21-6114-42b3-a8b8-13999fdc4766",
   "metadata": {
    "kernel": "SoS"
   },
   "source": [
    "# Create the GRM matrix\n",
    "\n",
    "Here we need to create a GRM per bed file for common, rare and both types of variants\n",
    "\n",
    "```\n",
    "\n",
    "i={1..99}\n",
    "GCTA \\\n",
    "--bfile ${BED_file_merged_QC} \\\n",
    "--extract ${list_variants_LD_bin} \\\n",
    "--make-grm-part 99 \"$i\" \\\n",
    "--thread-num ${ncpu} \\\n",
    "--out ${GRM_out} \\\n",
    "--make-grm-alg 1\n",
    "\n",
    "\n",
    "#Merge all GRM parts together\n",
    "\n",
    "cat ${GRM_out}.part_99_*.grm.id > ${GRM_out}.grm.id\n",
    "cat ${GRM_out}.part_99_*.grm.bin > ${GRM_out}.grm.bin\n",
    "cat ${GRM_out}.part_99_*.grm.N.bin > ${GRM_out}.grm.N.bin\n",
    "```"
   ]
  },
  {
   "cell_type": "markdown",
   "id": "15e6d1fd-b883-4bdb-ade2-960062265869",
   "metadata": {
    "kernel": "Bash"
   },
   "source": [
    "## Get GRM for rare variant substet"
   ]
  },
  {
   "cell_type": "code",
   "execution_count": 47,
   "id": "2dfdaea5-552a-45c1-a4c0-e2d50aa90fba",
   "metadata": {
    "kernel": "Bash"
   },
   "outputs": [
    {
     "name": "stdout",
     "output_type": "stream",
     "text": [
      "INFO: Running \u001b[32mcsg\u001b[0m: Configuration for Columbia csg partition cluster\n",
      "INFO: \u001b[32mcsg\u001b[0m is \u001b[32mcompleted\u001b[0m.\n",
      "INFO: \u001b[32mcsg\u001b[0m output:   \u001b[32m/mnt/mfs/statgen/UKBiobank/results/ARHI_heritability/052022_grm/rarevars_grm_eur_unrel_gtca_2022-05-20.sbatch\u001b[0m\n",
      "INFO: Workflow csg (ID=w3a0b3db8c49eabe5) is executed successfully with 1 completed step.\n",
      "\n"
     ]
    }
   ],
   "source": [
    "bfile=~/UKBiobank/results/ARHI_heritability/051922_merged_bed/ukb23156_merged_eur_unrel_rarevarsMAFbelow0.01.bed\n",
    "cwd=/mnt/vast/hpc/csg/UKBiobank/results/ARHI_heritability/052022_grm_rare\n",
    "numThreads=20\n",
    "gcta_sbatch=/mnt/vast/hpc/csg/UKBiobank/results/ARHI_heritability/052022_grm/rarevars_grm_eur_unrel_gtca_$(date +\"%Y-%m-%d\").sbatch\n",
    "gcta_sos=~/project/bioworkflows/GWAS/LMM.ipynb\n",
    "tpl_file=~/project/bioworkflows/admin/csg.yml\n",
    "container=~/containers/lmm.sif\n",
    "#Phenofile is just inputed as a requirement for the LMM to run but it is not actually needed for GRM calculation\n",
    "phenoFile=/mnt/vast/hpc/csg/UKBiobank/phenotype_files/hearing_impairment/090321_UKBB_Hearing_aid_f3393_expandedwhite_6436cases_96601ctrl_PC1_2.tsv\n",
    "phenoCol=f3393\n",
    "covarCol=sex\n",
    "qCovarCol=\"age PC1 PC2\"\n",
    "mem='8G'\n",
    "walltime='48h'\n",
    "\n",
    "gcta_args=\"\"\"gcta\n",
    "    --cwd $cwd\n",
    "    --bfile $bfile\n",
    "    --phenoFile $phenoFile\n",
    "    --phenoCol $phenoCol\n",
    "    --covarCol $covarCol\n",
    "    --qCovarCol $qCovarCol\n",
    "    --numThreads $numThreads\n",
    "    --phenoFile $phenoFile\n",
    "    --container_lmm $container\n",
    "    --walltime $walltime\n",
    "    --mem $mem\n",
    "\"\"\"\n",
    "\n",
    "sos run ~/project/UKBB_GWAS_dev/admin/Get_Job_Script.ipynb csg\\\n",
    "    --template-file $tpl_file \\\n",
    "    --workflow-file $gcta_sos \\\n",
    "    --to-script $gcta_sbatch \\\n",
    "    --args \"$gcta_args\"\n"
   ]
  },
  {
   "cell_type": "markdown",
   "id": "4bbf8454-563c-4223-8698-44d386c9a8a6",
   "metadata": {
    "kernel": "Bash"
   },
   "source": [
    "## Get the GRM for common variant subset"
   ]
  },
  {
   "cell_type": "code",
   "execution_count": 48,
   "id": "2c724139-7b6e-4813-95e3-e7830657e581",
   "metadata": {
    "kernel": "Bash"
   },
   "outputs": [
    {
     "name": "stdout",
     "output_type": "stream",
     "text": [
      "INFO: Running \u001b[32mcsg\u001b[0m: Configuration for Columbia csg partition cluster\n",
      "INFO: \u001b[32mcsg\u001b[0m is \u001b[32mcompleted\u001b[0m.\n",
      "INFO: \u001b[32mcsg\u001b[0m output:   \u001b[32m/mnt/mfs/statgen/UKBiobank/results/ARHI_heritability/052022_grm_common/commonvars_eur_unrel_gtca_2022-05-20.sbatch\u001b[0m\n",
      "INFO: Workflow csg (ID=w5dfba0004114fab4) is executed successfully with 1 completed step.\n",
      "\n"
     ]
    }
   ],
   "source": [
    "bfile=~/UKBiobank/results/ARHI_heritability/051922_merged_bed/ukb23156_merged_eur_unrel_commonvarsMAFabove0.01.bed\n",
    "cwd=/mnt/vast/hpc/csg/UKBiobank/results/ARHI_heritability/052022_grm_common\n",
    "numThreads=20\n",
    "gcta_sbatch=/mnt/vast/hpc/csg/UKBiobank/results/ARHI_heritability/052022_grm_common/commonvars_eur_unrel_gtca_$(date +\"%Y-%m-%d\").sbatch\n",
    "gcta_sos=~/project/bioworkflows/GWAS/LMM.ipynb\n",
    "tpl_file=~/project/bioworkflows/admin/csg.yml\n",
    "container=~/containers/lmm.sif\n",
    "#Phenofile is just inputed as a requirement for the LMM to run but it is not actually needed for GRM calculation\n",
    "phenoFile=/mnt/vast/hpc/csg/UKBiobank/phenotype_files/hearing_impairment/090321_UKBB_Hearing_aid_f3393_expandedwhite_6436cases_96601ctrl_PC1_2.tsv\n",
    "phenoCol=f3393\n",
    "covarCol=sex\n",
    "qCovarCol=\"age PC1 PC2\"\n",
    "mem='8G'\n",
    "walltime='48h'\n",
    "\n",
    "gcta_args=\"\"\"gcta\n",
    "    --cwd $cwd\n",
    "    --bfile $bfile\n",
    "    --phenoFile $phenoFile\n",
    "    --phenoCol $phenoCol\n",
    "    --covarCol $covarCol\n",
    "    --qCovarCol $qCovarCol\n",
    "    --numThreads $numThreads\n",
    "    --phenoFile $phenoFile\n",
    "    --container_lmm $container\n",
    "    --walltime $walltime\n",
    "    --mem $mem\n",
    "\"\"\"\n",
    "\n",
    "sos run ~/project/UKBB_GWAS_dev/admin/Get_Job_Script.ipynb csg\\\n",
    "    --template-file $tpl_file \\\n",
    "    --workflow-file $gcta_sos \\\n",
    "    --to-script $gcta_sbatch \\\n",
    "    --args \"$gcta_args\""
   ]
  },
  {
   "cell_type": "markdown",
   "id": "ec3d3790-dc77-4b52-8cdc-72caed59e2f7",
   "metadata": {
    "kernel": "Bash"
   },
   "source": [
    "## Get the GRM for all variants (rare + common)"
   ]
  },
  {
   "cell_type": "code",
   "execution_count": 49,
   "id": "2b1d3208-3c39-4e14-9d94-1347a8c329f1",
   "metadata": {
    "kernel": "Bash"
   },
   "outputs": [
    {
     "name": "stdout",
     "output_type": "stream",
     "text": [
      "INFO: Running \u001b[32mcsg\u001b[0m: Configuration for Columbia csg partition cluster\n",
      "INFO: \u001b[32mcsg\u001b[0m is \u001b[32mcompleted\u001b[0m.\n",
      "INFO: \u001b[32mcsg\u001b[0m output:   \u001b[32m/mnt/mfs/statgen/UKBiobank/results/ARHI_heritability/052022_grm_allvars/allvars_grm_eur_unrel_2022-05-20.sbatch\u001b[0m\n",
      "INFO: Workflow csg (ID=w8df80d9b5785842a) is executed successfully with 1 completed step.\n",
      "\n"
     ]
    }
   ],
   "source": [
    "bfile=~/UKBiobank/results/ARHI_heritability/051922_merged_bed/ukb23156_merged_eur_unrel_allvars.bed\n",
    "cwd=/mnt/vast/hpc/csg/UKBiobank/results/ARHI_heritability/052022_grm_allvars\n",
    "numThreads=20\n",
    "gcta_sbatch=/mnt/vast/hpc/csg/UKBiobank/results/ARHI_heritability/052022_grm_allvars/allvars_grm_eur_unrel_$(date +\"%Y-%m-%d\").sbatch\n",
    "gcta_sos=~/project/bioworkflows/GWAS/LMM.ipynb\n",
    "tpl_file=~/project/bioworkflows/admin/csg.yml\n",
    "container=~/containers/lmm.sif\n",
    "#Phenofile is just inputed as a requirement for the LMM to run but it is not actually needed for GRM calculation\n",
    "phenoFile=/mnt/vast/hpc/csg/UKBiobank/phenotype_files/hearing_impairment/090321_UKBB_Hearing_aid_f3393_expandedwhite_6436cases_96601ctrl_PC1_2.tsv\n",
    "phenoCol=f3393\n",
    "covarCol=sex\n",
    "qCovarCol=\"age PC1 PC2\"\n",
    "mem='8G'\n",
    "walltime='48h'\n",
    "\n",
    "gcta_args=\"\"\"merge_plink\n",
    "    --cwd $cwd\n",
    "    --bfile $bfile\n",
    "    --numThreads $numThreads\n",
    "    --container $container\n",
    "\"\"\"\n",
    "\n",
    "sos run ~/project/UKBB_GWAS_dev/admin/Get_Job_Script.ipynb csg\\\n",
    "    --template-file $tpl_file \\\n",
    "    --workflow-file $gcta_sos \\\n",
    "    --to-script $gcta_sbatch \\\n",
    "    --args \"$gcta_args\""
   ]
  },
  {
   "cell_type": "code",
   "execution_count": null,
   "id": "d4321258-1946-4d02-bb49-4b47dd4d7bdd",
   "metadata": {
    "kernel": "Bash"
   },
   "outputs": [],
   "source": [
    "###### Create a file containing multiple GRMs in a directory (need full path) ######\n",
    "\n",
    "for i in *.grm.bin ; do readlink -f \"$i\"  | cut -d'.' -f1-2 >>  ${mgrm_file_path}; done"
   ]
  },
  {
   "cell_type": "markdown",
   "id": "ad66fb97-b3dd-47dd-95a1-c829a2a8ce7d",
   "metadata": {
    "kernel": "Bash"
   },
   "source": [
    "## Do LD prunning for each group of variants"
   ]
  },
  {
   "cell_type": "markdown",
   "id": "c0887116-d7c7-478f-a02d-647c9964a201",
   "metadata": {
    "kernel": "Bash"
   },
   "source": [
    "```\n",
    "i={1..22}\n",
    "plink \\\n",
    "--bfile ${BED_file_merged_QC} \\\n",
    "--chr \"$i\" \\\n",
    "--extract ${list_variants_bin} \\\n",
    "--indep-pairwise 50 5 0.1 \\\n",
    "--out ${out_indep_var}_chr\"$i\" \\\n",
    "--threads ${ncpu}\n",
    "```"
   ]
  },
  {
   "cell_type": "markdown",
   "id": "4e23a58f-4e1b-42c0-9e1c-e6d3efc4be6e",
   "metadata": {
    "kernel": "Bash"
   },
   "source": [
    "### LD pruning for common variants"
   ]
  },
  {
   "cell_type": "code",
   "execution_count": 61,
   "id": "d3797233-c933-44d5-af09-3e92e860b36b",
   "metadata": {
    "kernel": "Bash"
   },
   "outputs": [
    {
     "name": "stdout",
     "output_type": "stream",
     "text": [
      "INFO: Running \u001b[32mcsg\u001b[0m: Configuration for Columbia csg partition cluster\n",
      "INFO: \u001b[32mcsg\u001b[0m is \u001b[32mcompleted\u001b[0m.\n",
      "INFO: \u001b[32mcsg\u001b[0m output:   \u001b[32m/mnt/mfs/statgen/UKBiobank/results/ARHI_heritability/052022_ldprun_common/common_ldprun_eur_unrel_2022-05-20.sbatch\u001b[0m\n",
      "INFO: Workflow csg (ID=w39d73fa64d48acf5) is executed successfully with 1 completed step.\n",
      "\n"
     ]
    }
   ],
   "source": [
    "## Selected White European unrelated individuals \n",
    "UKBB_PATH=/mnt/vast/hpc/csg/UKBiobank\n",
    "cwd=$UKBB_PATH/results/ARHI_heritability/052022_ldprun_common\n",
    "## Use the exome filtered file\n",
    "genoFile=~/UKBiobank/results/ARHI_heritability/051922_merged_bed/ukb23156_merged_eur_unrel_commonvarsMAFabove0.01.bed\n",
    "maf_filter=0 \n",
    "geno_filter=0\n",
    "hwe_filter=0\n",
    "mind_filter=0\n",
    "window=50\n",
    "shift=10\n",
    "r2=0.1\n",
    "gwas_sbatch=/mnt/vast/hpc/csg/UKBiobank/results/ARHI_heritability/052022_ldprun_common/common_ldprun_eur_unrel_$(date +\"%Y-%m-%d\").sbatch\n",
    "gwasqc_sos=~/project/xqtl-pipeline/code/data_preprocessing/genotype/GWAS_QC.ipynb\n",
    "tpl_file=~/project/bioworkflows/admin/csg2.yml\n",
    "container=~/containers/bioinfo.sif\n",
    "numThreads=20\n",
    "job_size=1\n",
    "mem='30G'\n",
    "\n",
    "gwasqc_args=\"\"\"qc:2\n",
    "    --cwd $cwd\n",
    "    --genoFile $genoFile\n",
    "    --maf_filter $maf_filter\n",
    "    --geno_filter $geno_filter\n",
    "    --hwe_filter $hwe_filter\n",
    "    --mind_filter $mind_filter\n",
    "    --window $window\n",
    "    --shift $shift\n",
    "    --r2 $r2\n",
    "    --numThreads $numThreads \n",
    "    --job_size $job_size\n",
    "    --container $container\n",
    "    --mem $mem\n",
    "\"\"\"\n",
    "\n",
    "sos run ~/project/UKBB_GWAS_dev/admin/Get_Job_Script.ipynb csg\\\n",
    "    --template-file $tpl_file \\\n",
    "    --workflow-file $gwasqc_sos \\\n",
    "    --to-script $gwas_sbatch \\\n",
    "    --args \"$gwasqc_args\"\n"
   ]
  },
  {
   "cell_type": "markdown",
   "id": "9cdae2dc-5bc7-49fb-bd50-c08fb4eb5fd2",
   "metadata": {
    "kernel": "Bash"
   },
   "source": [
    "### LD pruning for rare variants"
   ]
  },
  {
   "cell_type": "code",
   "execution_count": 62,
   "id": "006f2b6d-bd33-4f08-94cf-601f3f313197",
   "metadata": {
    "kernel": "Bash"
   },
   "outputs": [
    {
     "name": "stdout",
     "output_type": "stream",
     "text": [
      "INFO: Running \u001b[32mcsg\u001b[0m: Configuration for Columbia csg partition cluster\n",
      "INFO: \u001b[32mcsg\u001b[0m is \u001b[32mcompleted\u001b[0m.\n",
      "INFO: \u001b[32mcsg\u001b[0m output:   \u001b[32m/mnt/mfs/statgen/UKBiobank/results/ARHI_heritability/052022_ldprun_rare/rare_ldprun_eur_unrel_2022-05-20.sbatch\u001b[0m\n",
      "INFO: Workflow csg (ID=wd5c42b2fe0425a2b) is executed successfully with 1 completed step.\n",
      "\n"
     ]
    }
   ],
   "source": [
    "## Selected White European unrelated individuals \n",
    "UKBB_PATH=/mnt/vast/hpc/csg/UKBiobank\n",
    "cwd=$UKBB_PATH/results/ARHI_heritability/052022_ldprun_rare\n",
    "## Use the exome filtered file\n",
    "genoFile=~/UKBiobank/results/ARHI_heritability/051922_merged_bed/ukb23156_merged_eur_unrel_rarevarsMAFbelow0.01.bed\n",
    "window=2000\n",
    "shift=400\n",
    "r2=0.01\n",
    "gwas_sbatch=$UKBB_PATH/results/ARHI_heritability/052022_ldprun_rare/rare_ldprun_eur_unrel_$(date +\"%Y-%m-%d\").sbatch\n",
    "gwasqc_sos=~/project/xqtl-pipeline/code/data_preprocessing/genotype/GWAS_QC.ipynb\n",
    "tpl_file=~/project/bioworkflows/admin/csg.yml\n",
    "container=~/containers/bioinfo.sif\n",
    "numThreads=20\n",
    "job_size=1\n",
    "mem='30G'\n",
    "\n",
    "gwasqc_args=\"\"\"qc:2\n",
    "    --cwd $cwd\n",
    "    --genoFile $genoFile\n",
    "    --window $window\n",
    "    --shift $shift\n",
    "    --r2 $r2\n",
    "    --numThreads $numThreads \n",
    "    --job_size $job_size\n",
    "    --container $container\n",
    "    --mem $mem\n",
    "\"\"\"\n",
    "\n",
    "sos run ~/project/UKBB_GWAS_dev/admin/Get_Job_Script.ipynb csg\\\n",
    "    --template-file $tpl_file \\\n",
    "    --workflow-file $gwasqc_sos \\\n",
    "    --to-script $gwas_sbatch \\\n",
    "    --args \"$gwasqc_args\"\n"
   ]
  },
  {
   "cell_type": "markdown",
   "id": "850694a9-d0bf-4719-a5f4-f9b0bf5e3e1f",
   "metadata": {
    "kernel": "Bash"
   },
   "source": [
    "## Recalculate PC's for the subset of unrelated"
   ]
  },
  {
   "cell_type": "markdown",
   "id": "6fdb51b8-0a11-4203-9d70-b623460d60a1",
   "metadata": {
    "kernel": "Bash"
   },
   "source": [
    "In the paper they use plink2 to calculate the PC's\n",
    "\n",
    "```\n",
    "plink2 \\\n",
    "--bfile ${BED_file_merged_QC} \\\n",
    "--extract ${list_variants_bin} \\\n",
    "--pca 20 approx \\\n",
    "--out ${PCA_out} \\\n",
    "--thread-num ${ncpu}\n",
    "```\n",
    "\n",
    "In our case we have developed a pipeline that uses flashpca. We use that one instead"
   ]
  },
  {
   "cell_type": "markdown",
   "id": "3f15d8e7-d368-41db-9669-1eac1c1bb470",
   "metadata": {
    "kernel": "Bash"
   },
   "source": [
    "### PCA for f3393 common variants of the 50K samples"
   ]
  },
  {
   "cell_type": "markdown",
   "id": "9d80ca57-cd4d-4c50-be18-bfacc22017f8",
   "metadata": {
    "kernel": "R",
    "tags": []
   },
   "source": [
    "#### Step 1"
   ]
  },
  {
   "cell_type": "code",
   "execution_count": 7,
   "id": "c5e9e808-508d-4cc9-8fb0-5b0ea40a8b16",
   "metadata": {
    "kernel": "Bash",
    "tags": []
   },
   "outputs": [
    {
     "name": "stdout",
     "output_type": "stream",
     "text": [
      "INFO: Running \u001b[32mcsg\u001b[0m: Configuration for Columbia csg partition cluster\n",
      "INFO: \u001b[32mcsg\u001b[0m (index=0) is \u001b[32mignored\u001b[0m due to saved signature\n",
      "INFO: \u001b[32mcsg\u001b[0m output:   \u001b[32m/mnt/mfs/statgen/UKBiobank/results/ARHI_heritability/061322_pca_common_50K/common_pca_50K_2022-06-13.sbatch\u001b[0m\n",
      "INFO: Workflow csg (ID=wd66b7460fcddc18a) is ignored with 1 ignored step.\n",
      "\n"
     ]
    }
   ],
   "source": [
    "## Columbia's cluster\n",
    "cwd=/mnt/vast/hpc/csg/UKBiobank/results/ARHI_heritability/061322_pca_common_50K/\n",
    "gwas_sbatch=/mnt/vast/hpc/csg/UKBiobank/results/ARHI_heritability/061322_pca_common_50K/common_pca_50K_$(date +\"%Y-%m-%d\").sbatch\n",
    "## Use qc'ed genotype array\n",
    "genoFile=/mnt/vast/hpc/csg/UKBiobank/results/ARHI_heritability/052022_ldprun_common/ukb23156_merged_eur_unrel_commonvarsMAFabove0.01.filtered.prune.bed\n",
    "keep_samples=/mnt/vast/hpc/csg/UKBiobank/results/ARHI_heritability/pheno_files/090321_UKBB_Hearing_aid_f3393_expandedwhite_6436cases_96601ctrl.PC1_10.50Ksubset.keep_id\n",
    "\n",
    "#GWAS QC variables set all of this variables to 0 to avoid doing more filtering\n",
    "maf_filter=0\n",
    "geno_filter=0\n",
    "hwe_filter=0\n",
    "mind_filter=0\n",
    "numThreads=1\n",
    "mem='30G'\n",
    "gwasqc_sos=~/project/xqtl-pipeline/code/data_preprocessing/genotype/GWAS_QC.ipynb\n",
    "tpl_file=~/project/bioworkflows/admin/csg.yml\n",
    "container=~/containers/bioinfo.sif\n",
    "\n",
    "gwasqc_args=\"\"\"qc:1\n",
    "    --cwd $cwd\n",
    "    --genoFile $genoFile\n",
    "    --keep_samples $keep_samples\n",
    "    --maf_filter $maf_filter\n",
    "    --geno_filter $geno_filter\n",
    "    --hwe_filter $hwe_filter\n",
    "    --mind_filter $mind_filter\n",
    "    --numThreads $numThreads \n",
    "    --container $container\n",
    "    --mem $mem\n",
    "\"\"\"\n",
    "\n",
    "sos run ~/project/UKBB_GWAS_dev/admin/Get_Job_Script.ipynb csg \\\n",
    "    --template-file $tpl_file \\\n",
    "    --workflow-file $gwasqc_sos \\\n",
    "    --to-script $gwas_sbatch \\\n",
    "    --args \"$gwasqc_args\""
   ]
  },
  {
   "cell_type": "markdown",
   "id": "ae754e89-0a69-495a-b891-25c6a9695484",
   "metadata": {
    "kernel": "R"
   },
   "source": [
    "#### Step 2"
   ]
  },
  {
   "cell_type": "code",
   "execution_count": 8,
   "id": "822208f4-f93a-406e-a130-244e7be13329",
   "metadata": {
    "kernel": "Bash"
   },
   "outputs": [
    {
     "name": "stdout",
     "output_type": "stream",
     "text": [
      "INFO: Running \u001b[32mcsg\u001b[0m: Configuration for Columbia csg partition cluster\n",
      "INFO: \u001b[32mcsg\u001b[0m is \u001b[32mcompleted\u001b[0m.\n",
      "INFO: \u001b[32mcsg\u001b[0m output:   \u001b[32m/mnt/mfs/statgen/UKBiobank/results/ARHI_heritability/061322_pca_common_50K/flashpca50K_common_2022-06-13.sbatch\u001b[0m\n",
      "INFO: Workflow csg (ID=w041e9c3bb3e48c12) is executed successfully with 1 completed step.\n",
      "\n"
     ]
    }
   ],
   "source": [
    "## Columbia's cluster\n",
    "cwd=/mnt/vast/hpc/csg/UKBiobank/results/ARHI_heritability/061322_pca_common_50K/\n",
    "#This is the bfile obtained in step 1\n",
    "genoFile=/mnt/vast/hpc/csg/UKBiobank/results/ARHI_heritability/061322_pca_common_50K/*.bed\n",
    "# Format FID, IID, pop\n",
    "# PC's are actually being calculated for 50K individuals that are white European and unrelated\n",
    "phenoFile=/mnt/vast/hpc/csg/UKBiobank/results/083021_PCA_results/090321_UKBB_Hearing_aid_f3393_expandedwhite_6436cases_96601ctrl.phenopca\n",
    "label_col=ethnicity\n",
    "pop_col=ethnicity\n",
    "pca_sbatch=/mnt/vast/hpc/csg/UKBiobank/results/ARHI_heritability/061322_pca_common_50K/flashpca50K_common_$(date +\"%Y-%m-%d\").sbatch\n",
    "k=10\n",
    "min_axis=0\n",
    "max_axis=0\n",
    "pca_sos=~/project/xqtl-pipeline/code/data_preprocessing/genotype/PCA.ipynb\n",
    "tpl_file=~/project/bioworkflows/admin/csg.yml\n",
    "container=~/containers/flashpcaR.sif\n",
    "\n",
    "pca_args=\"\"\"flashpca\n",
    "    --cwd $cwd\n",
    "    --genoFile $genoFile\n",
    "    --phenoFile $phenoFile\n",
    "    --k $k\n",
    "    --label_col $label_col\n",
    "    --pop_col $pop_col\n",
    "    --min_axis $min_axis\n",
    "    --max_axis $max_axis\n",
    "    --numThreads $numThreads \n",
    "    --container $container\n",
    "\"\"\"\n",
    "\n",
    "sos run  ~/project/UKBB_GWAS_dev/admin/Get_Job_Script.ipynb csg\\\n",
    "    --template-file $tpl_file \\\n",
    "    --workflow-file $pca_sos \\\n",
    "    --to-script $pca_sbatch \\\n",
    "    --args \"$pca_args\""
   ]
  },
  {
   "cell_type": "markdown",
   "id": "568b772e-7b8e-4809-b006-7f857fed4172",
   "metadata": {
    "kernel": "Bash"
   },
   "source": [
    "#### Step 1 this is wrong since I kept more than 50K individuals for PCA calculation"
   ]
  },
  {
   "cell_type": "code",
   "execution_count": 63,
   "id": "b1970a82-7754-44be-ac6a-1e1bd66849c8",
   "metadata": {
    "kernel": "Bash"
   },
   "outputs": [
    {
     "name": "stdout",
     "output_type": "stream",
     "text": [
      "INFO: Running \u001b[32mcsg\u001b[0m: Configuration for Columbia csg partition cluster\n",
      "INFO: \u001b[32mcsg\u001b[0m is \u001b[32mcompleted\u001b[0m.\n",
      "INFO: \u001b[32mcsg\u001b[0m output:   \u001b[32m/mnt/mfs/statgen/UKBiobank/results/ARHI_heritability/052022_pca_common/common_pca_f3393_exome_2022-05-20.sbatch\u001b[0m\n",
      "INFO: Workflow csg (ID=w9bd46fcb4c4e3372) is executed successfully with 1 completed step.\n",
      "\n"
     ]
    }
   ],
   "source": [
    "## Columbia's cluster\n",
    "cwd=/mnt/vast/hpc/csg/UKBiobank/results/ARHI_heritability/052022_pca_common/f3393\n",
    "gwas_sbatch=/mnt/vast/hpc/csg/UKBiobank/results/ARHI_heritability/052022_pca_common/common_pca_f3393_exome_$(date +\"%Y-%m-%d\").sbatch\n",
    "## Use qc'ed genotype array\n",
    "genoFile=/mnt/vast/hpc/csg/UKBiobank/results/ARHI_heritability/052022_ldprun_common/ukb23156_merged_eur_unrel_commonvarsMAFabove0.01.filtered.prune.bed\n",
    "keep_samples=$UKBB_PATH/results/083021_PCA_results/090321_UKBB_Hearing_aid_f3393_expandedwhite_6436cases_96601ctrl.keep_id\n",
    "\n",
    "#GWAS QC variables set all of this variables to 0 to avoid doing more filtering\n",
    "maf_filter=0\n",
    "geno_filter=0\n",
    "hwe_filter=0\n",
    "mind_filter=0\n",
    "numThreads=1\n",
    "mem='30G'\n",
    "gwasqc_sos=~/project/xqtl-pipeline/code/data_preprocessing/genotype/GWAS_QC.ipynb\n",
    "tpl_file=~/project/bioworkflows/admin/csg.yml\n",
    "container=~/containers/bioinfo.sif\n",
    "\n",
    "gwasqc_args=\"\"\"qc:1\n",
    "    --cwd $cwd\n",
    "    --genoFile $genoFile\n",
    "    --keep_samples $keep_samples\n",
    "    --maf_filter $maf_filter\n",
    "    --geno_filter $geno_filter\n",
    "    --hwe_filter $hwe_filter\n",
    "    --mind_filter $mind_filter\n",
    "    --numThreads $numThreads \n",
    "    --container $container\n",
    "    --mem $mem\n",
    "\"\"\"\n",
    "\n",
    "sos run ~/project/UKBB_GWAS_dev/admin/Get_Job_Script.ipynb csg \\\n",
    "    --template-file $tpl_file \\\n",
    "    --workflow-file $gwasqc_sos \\\n",
    "    --to-script $gwas_sbatch \\\n",
    "    --args \"$gwasqc_args\""
   ]
  },
  {
   "cell_type": "markdown",
   "id": "21fede00-e0b9-4ec8-bd78-b891fab8b450",
   "metadata": {
    "kernel": "Bash"
   },
   "source": [
    "#### Step 2. "
   ]
  },
  {
   "cell_type": "code",
   "execution_count": 64,
   "id": "061bc7cc-9794-489b-b26e-1c4c14292414",
   "metadata": {
    "kernel": "Bash"
   },
   "outputs": [
    {
     "name": "stdout",
     "output_type": "stream",
     "text": [
      "INFO: Running \u001b[32mcsg\u001b[0m: Configuration for Columbia csg partition cluster\n",
      "INFO: \u001b[32mcsg\u001b[0m is \u001b[32mcompleted\u001b[0m.\n",
      "INFO: \u001b[32mcsg\u001b[0m output:   \u001b[32m/mnt/mfs/statgen/UKBiobank/results/ARHI_heritability/052022_pca_common/flashpca_f3393_common_2022-05-20.sbatch\u001b[0m\n",
      "INFO: Workflow csg (ID=w90c9447dc037bccd) is executed successfully with 1 completed step.\n",
      "\n"
     ]
    }
   ],
   "source": [
    "## Columbia's cluster\n",
    "cwd=/mnt/vast/hpc/csg/UKBiobank/results/ARHI_heritability/052022_pca_common/f3393\n",
    "#This is the bfile obtained in step 1\n",
    "genoFile=/mnt/vast/hpc/csg/UKBiobank/results/ARHI_heritability/052022_pca_common/f3393/cache/*.bed\n",
    "# Format FID, IID, pop\n",
    "# PC's are actually being calculated for 91950 individuals that are white unrelated and have phenotype data for f3393\n",
    "phenoFile=/mnt/vast/hpc/csg/UKBiobank/results/083021_PCA_results/090321_UKBB_Hearing_aid_f3393_expandedwhite_6436cases_96601ctrl.phenopca\n",
    "label_col=ethnicity\n",
    "pop_col=ethnicity\n",
    "pca_sbatch=/mnt/vast/hpc/csg/UKBiobank/results/ARHI_heritability/052022_pca_common/flashpca_f3393_common_$(date +\"%Y-%m-%d\").sbatch\n",
    "k=10\n",
    "min_axis=0\n",
    "max_axis=0\n",
    "pca_sos=~/project/xqtl-pipeline/code/data_preprocessing/genotype/PCA.ipynb\n",
    "tpl_file=~/project/bioworkflows/admin/csg.yml\n",
    "container=~/containers/flashpcaR.sif\n",
    "\n",
    "pca_args=\"\"\"flashpca\n",
    "    --cwd $cwd\n",
    "    --genoFile $genoFile\n",
    "    --phenoFile $phenoFile\n",
    "    --k $k\n",
    "    --label_col $label_col\n",
    "    --pop_col $pop_col\n",
    "    --min_axis $min_axis\n",
    "    --max_axis $max_axis\n",
    "    --numThreads $numThreads \n",
    "    --container $container\n",
    "\"\"\"\n",
    "\n",
    "sos run  ~/project/UKBB_GWAS_dev/admin/Get_Job_Script.ipynb csg\\\n",
    "    --template-file $tpl_file \\\n",
    "    --workflow-file $pca_sos \\\n",
    "    --to-script $pca_sbatch \\\n",
    "    --args \"$pca_args\""
   ]
  },
  {
   "cell_type": "markdown",
   "id": "2b980c94-7141-4ea5-9f91-9bace2942095",
   "metadata": {
    "kernel": "Bash"
   },
   "source": [
    "#### Merge the phenofile with the PC calculation for the available individuals (unrelated and white European) for common variants"
   ]
  },
  {
   "cell_type": "code",
   "execution_count": null,
   "id": "d23be77b-c537-4114-91cb-1e0e5c18f9d3",
   "metadata": {
    "kernel": "R",
    "tags": []
   },
   "outputs": [],
   "source": [
    "pheno <- read.table(\"~/UKBiobank/phenotype_files/hearing_impairment/090321_UKBB_Hearing_aid_f3393_expandedwhite_6436cases_96601ctrl\", header=T)\n",
    "head(pheno)\n",
    "dim(pheno)"
   ]
  },
  {
   "cell_type": "code",
   "execution_count": null,
   "id": "841a397f-3cbd-413d-b378-cb8e599fbb60",
   "metadata": {
    "kernel": "R",
    "tags": []
   },
   "outputs": [],
   "source": [
    "pca <- read.table(\"/mnt/vast/hpc/csg/UKBiobank/results/ARHI_heritability/052022_pca_common/f3393/090321_UKBB_Hearing_aid_f3393_expandedwhite_6436cases_96601ctrl.pca.txt\", header=T)\n",
    "head(pca)\n",
    "dim(pca)"
   ]
  },
  {
   "cell_type": "code",
   "execution_count": 3,
   "id": "e7fc872d-498f-45b4-aef3-c922bb1e08ea",
   "metadata": {
    "kernel": "R",
    "tags": []
   },
   "outputs": [
    {
     "data": {
      "text/html": [
       "<table class=\"dataframe\">\n",
       "<caption>A data.frame: 6 x 17</caption>\n",
       "<thead>\n",
       "\t<tr><th></th><th scope=col>FID</th><th scope=col>IID</th><th scope=col>sex</th><th scope=col>f3393</th><th scope=col>age</th><th scope=col>ID</th><th scope=col>ethnicity</th><th scope=col>PC1</th><th scope=col>PC2</th><th scope=col>PC3</th><th scope=col>PC4</th><th scope=col>PC5</th><th scope=col>PC6</th><th scope=col>PC7</th><th scope=col>PC8</th><th scope=col>PC9</th><th scope=col>PC10</th></tr>\n",
       "\t<tr><th></th><th scope=col>&lt;int&gt;</th><th scope=col>&lt;int&gt;</th><th scope=col>&lt;int&gt;</th><th scope=col>&lt;int&gt;</th><th scope=col>&lt;int&gt;</th><th scope=col>&lt;fct&gt;</th><th scope=col>&lt;fct&gt;</th><th scope=col>&lt;dbl&gt;</th><th scope=col>&lt;dbl&gt;</th><th scope=col>&lt;dbl&gt;</th><th scope=col>&lt;dbl&gt;</th><th scope=col>&lt;dbl&gt;</th><th scope=col>&lt;dbl&gt;</th><th scope=col>&lt;dbl&gt;</th><th scope=col>&lt;dbl&gt;</th><th scope=col>&lt;dbl&gt;</th><th scope=col>&lt;dbl&gt;</th></tr>\n",
       "</thead>\n",
       "<tbody>\n",
       "\t<tr><th scope=row>1</th><td>1000078</td><td>1000078</td><td>1</td><td>0</td><td>60</td><td>1000078:1000078</td><td>British                   </td><td> 0.001867425</td><td> 0.013093557</td><td>-0.012545642</td><td>-0.0077773685</td><td>-0.0076396044</td><td>-0.004067034</td><td> 0.003904697</td><td>-0.0066333866</td><td>-0.011400679</td><td>-0.003770311</td></tr>\n",
       "\t<tr><th scope=row>2</th><td>1000081</td><td>1000081</td><td>0</td><td>0</td><td>67</td><td>1000081:1000081</td><td>British                   </td><td> 0.134179544</td><td>-0.015138242</td><td> 0.014278056</td><td> 0.0142731188</td><td>-0.0085332226</td><td>-0.010936588</td><td> 0.011577007</td><td> 0.0004865037</td><td> 0.008102219</td><td>-0.002117615</td></tr>\n",
       "\t<tr><th scope=row>3</th><td>1000236</td><td>1000236</td><td>0</td><td>0</td><td>70</td><td>1000236:1000236</td><td>British                   </td><td> 0.008867756</td><td> 0.011425836</td><td>-0.023071386</td><td> 0.0064096586</td><td> 0.0033986306</td><td> 0.021169599</td><td>-0.003277936</td><td> 0.0054276548</td><td>-0.010657910</td><td>-0.034102210</td></tr>\n",
       "\t<tr><th scope=row>4</th><td>1000331</td><td>1000331</td><td>1</td><td>0</td><td>53</td><td>1000331:1000331</td><td>Any_other_white_background</td><td> 0.080695947</td><td>-0.003566874</td><td>-0.002728336</td><td>-0.0039599944</td><td> 0.0005021192</td><td> 0.003650339</td><td> 0.029506097</td><td> 0.0038201997</td><td>-0.013963517</td><td>-0.016294060</td></tr>\n",
       "\t<tr><th scope=row>5</th><td>1000340</td><td>1000340</td><td>1</td><td>0</td><td>54</td><td>1000340:1000340</td><td>British                   </td><td>-0.012073413</td><td>-0.005182776</td><td>-0.009290790</td><td> 0.0007751943</td><td>-0.0024663547</td><td>-0.006647973</td><td> 0.002676356</td><td>-0.0018374353</td><td> 0.002831617</td><td>-0.001478281</td></tr>\n",
       "\t<tr><th scope=row>6</th><td>1000415</td><td>1000415</td><td>0</td><td>0</td><td>65</td><td>1000415:1000415</td><td>Irish                     </td><td>-0.018177064</td><td>-0.053073714</td><td>-0.000446653</td><td>-0.0024920664</td><td> 0.0170787094</td><td>-0.003519533</td><td> 0.005667462</td><td> 0.0251297768</td><td>-0.006116507</td><td> 0.005747638</td></tr>\n",
       "</tbody>\n",
       "</table>\n"
      ],
      "text/latex": [
       "A data.frame: 6 x 17\n",
       "\\begin{tabular}{r|lllllllllllllllll}\n",
       "  & FID & IID & sex & f3393 & age & ID & ethnicity & PC1 & PC2 & PC3 & PC4 & PC5 & PC6 & PC7 & PC8 & PC9 & PC10\\\\\n",
       "  & <int> & <int> & <int> & <int> & <int> & <fct> & <fct> & <dbl> & <dbl> & <dbl> & <dbl> & <dbl> & <dbl> & <dbl> & <dbl> & <dbl> & <dbl>\\\\\n",
       "\\hline\n",
       "\t1 & 1000078 & 1000078 & 1 & 0 & 60 & 1000078:1000078 & British                    &  0.001867425 &  0.013093557 & -0.012545642 & -0.0077773685 & -0.0076396044 & -0.004067034 &  0.003904697 & -0.0066333866 & -0.011400679 & -0.003770311\\\\\n",
       "\t2 & 1000081 & 1000081 & 0 & 0 & 67 & 1000081:1000081 & British                    &  0.134179544 & -0.015138242 &  0.014278056 &  0.0142731188 & -0.0085332226 & -0.010936588 &  0.011577007 &  0.0004865037 &  0.008102219 & -0.002117615\\\\\n",
       "\t3 & 1000236 & 1000236 & 0 & 0 & 70 & 1000236:1000236 & British                    &  0.008867756 &  0.011425836 & -0.023071386 &  0.0064096586 &  0.0033986306 &  0.021169599 & -0.003277936 &  0.0054276548 & -0.010657910 & -0.034102210\\\\\n",
       "\t4 & 1000331 & 1000331 & 1 & 0 & 53 & 1000331:1000331 & Any\\_other\\_white\\_background &  0.080695947 & -0.003566874 & -0.002728336 & -0.0039599944 &  0.0005021192 &  0.003650339 &  0.029506097 &  0.0038201997 & -0.013963517 & -0.016294060\\\\\n",
       "\t5 & 1000340 & 1000340 & 1 & 0 & 54 & 1000340:1000340 & British                    & -0.012073413 & -0.005182776 & -0.009290790 &  0.0007751943 & -0.0024663547 & -0.006647973 &  0.002676356 & -0.0018374353 &  0.002831617 & -0.001478281\\\\\n",
       "\t6 & 1000415 & 1000415 & 0 & 0 & 65 & 1000415:1000415 & Irish                      & -0.018177064 & -0.053073714 & -0.000446653 & -0.0024920664 &  0.0170787094 & -0.003519533 &  0.005667462 &  0.0251297768 & -0.006116507 &  0.005747638\\\\\n",
       "\\end{tabular}\n"
      ],
      "text/markdown": [
       "\n",
       "A data.frame: 6 x 17\n",
       "\n",
       "| <!--/--> | FID &lt;int&gt; | IID &lt;int&gt; | sex &lt;int&gt; | f3393 &lt;int&gt; | age &lt;int&gt; | ID &lt;fct&gt; | ethnicity &lt;fct&gt; | PC1 &lt;dbl&gt; | PC2 &lt;dbl&gt; | PC3 &lt;dbl&gt; | PC4 &lt;dbl&gt; | PC5 &lt;dbl&gt; | PC6 &lt;dbl&gt; | PC7 &lt;dbl&gt; | PC8 &lt;dbl&gt; | PC9 &lt;dbl&gt; | PC10 &lt;dbl&gt; |\n",
       "|---|---|---|---|---|---|---|---|---|---|---|---|---|---|---|---|---|---|\n",
       "| 1 | 1000078 | 1000078 | 1 | 0 | 60 | 1000078:1000078 | British                    |  0.001867425 |  0.013093557 | -0.012545642 | -0.0077773685 | -0.0076396044 | -0.004067034 |  0.003904697 | -0.0066333866 | -0.011400679 | -0.003770311 |\n",
       "| 2 | 1000081 | 1000081 | 0 | 0 | 67 | 1000081:1000081 | British                    |  0.134179544 | -0.015138242 |  0.014278056 |  0.0142731188 | -0.0085332226 | -0.010936588 |  0.011577007 |  0.0004865037 |  0.008102219 | -0.002117615 |\n",
       "| 3 | 1000236 | 1000236 | 0 | 0 | 70 | 1000236:1000236 | British                    |  0.008867756 |  0.011425836 | -0.023071386 |  0.0064096586 |  0.0033986306 |  0.021169599 | -0.003277936 |  0.0054276548 | -0.010657910 | -0.034102210 |\n",
       "| 4 | 1000331 | 1000331 | 1 | 0 | 53 | 1000331:1000331 | Any_other_white_background |  0.080695947 | -0.003566874 | -0.002728336 | -0.0039599944 |  0.0005021192 |  0.003650339 |  0.029506097 |  0.0038201997 | -0.013963517 | -0.016294060 |\n",
       "| 5 | 1000340 | 1000340 | 1 | 0 | 54 | 1000340:1000340 | British                    | -0.012073413 | -0.005182776 | -0.009290790 |  0.0007751943 | -0.0024663547 | -0.006647973 |  0.002676356 | -0.0018374353 |  0.002831617 | -0.001478281 |\n",
       "| 6 | 1000415 | 1000415 | 0 | 0 | 65 | 1000415:1000415 | Irish                      | -0.018177064 | -0.053073714 | -0.000446653 | -0.0024920664 |  0.0170787094 | -0.003519533 |  0.005667462 |  0.0251297768 | -0.006116507 |  0.005747638 |\n",
       "\n"
      ],
      "text/plain": [
       "  FID     IID     sex f3393 age ID              ethnicity                 \n",
       "1 1000078 1000078 1   0     60  1000078:1000078 British                   \n",
       "2 1000081 1000081 0   0     67  1000081:1000081 British                   \n",
       "3 1000236 1000236 0   0     70  1000236:1000236 British                   \n",
       "4 1000331 1000331 1   0     53  1000331:1000331 Any_other_white_background\n",
       "5 1000340 1000340 1   0     54  1000340:1000340 British                   \n",
       "6 1000415 1000415 0   0     65  1000415:1000415 Irish                     \n",
       "  PC1          PC2          PC3          PC4           PC5          \n",
       "1  0.001867425  0.013093557 -0.012545642 -0.0077773685 -0.0076396044\n",
       "2  0.134179544 -0.015138242  0.014278056  0.0142731188 -0.0085332226\n",
       "3  0.008867756  0.011425836 -0.023071386  0.0064096586  0.0033986306\n",
       "4  0.080695947 -0.003566874 -0.002728336 -0.0039599944  0.0005021192\n",
       "5 -0.012073413 -0.005182776 -0.009290790  0.0007751943 -0.0024663547\n",
       "6 -0.018177064 -0.053073714 -0.000446653 -0.0024920664  0.0170787094\n",
       "  PC6          PC7          PC8           PC9          PC10        \n",
       "1 -0.004067034  0.003904697 -0.0066333866 -0.011400679 -0.003770311\n",
       "2 -0.010936588  0.011577007  0.0004865037  0.008102219 -0.002117615\n",
       "3  0.021169599 -0.003277936  0.0054276548 -0.010657910 -0.034102210\n",
       "4  0.003650339  0.029506097  0.0038201997 -0.013963517 -0.016294060\n",
       "5 -0.006647973  0.002676356 -0.0018374353  0.002831617 -0.001478281\n",
       "6 -0.003519533  0.005667462  0.0251297768 -0.006116507  0.005747638"
      ]
     },
     "metadata": {},
     "output_type": "display_data"
    },
    {
     "data": {
      "text/html": [
       "<style>\n",
       ".list-inline {list-style: none; margin:0; padding: 0}\n",
       ".list-inline>li {display: inline-block}\n",
       ".list-inline>li:not(:last-child)::after {content: \"\\00b7\"; padding: 0 .5ex}\n",
       "</style>\n",
       "<ol class=list-inline><li>91950</li><li>17</li></ol>\n"
      ],
      "text/latex": [
       "\\begin{enumerate*}\n",
       "\\item 91950\n",
       "\\item 17\n",
       "\\end{enumerate*}\n"
      ],
      "text/markdown": [
       "1. 91950\n",
       "2. 17\n",
       "\n",
       "\n"
      ],
      "text/plain": [
       "[1] 91950    17"
      ]
     },
     "metadata": {},
     "output_type": "display_data"
    },
    {
     "name": "stderr",
     "output_type": "stream",
     "text": [
      "\n",
      "Attaching package: ‘dplyr’\n",
      "\n",
      "\n",
      "The following objects are masked from ‘package:stats’:\n",
      "\n",
      "    filter, lag\n",
      "\n",
      "\n",
      "The following objects are masked from ‘package:base’:\n",
      "\n",
      "    intersect, setdiff, setequal, union\n",
      "\n",
      "\n"
     ]
    },
    {
     "data": {
      "text/html": [
       "<table class=\"dataframe\">\n",
       "<caption>A data.frame: 6 x 15</caption>\n",
       "<thead>\n",
       "\t<tr><th></th><th scope=col>FID</th><th scope=col>IID</th><th scope=col>sex</th><th scope=col>f3393</th><th scope=col>age</th><th scope=col>PC1</th><th scope=col>PC2</th><th scope=col>PC3</th><th scope=col>PC4</th><th scope=col>PC5</th><th scope=col>PC6</th><th scope=col>PC7</th><th scope=col>PC8</th><th scope=col>PC9</th><th scope=col>PC10</th></tr>\n",
       "\t<tr><th></th><th scope=col>&lt;int&gt;</th><th scope=col>&lt;int&gt;</th><th scope=col>&lt;int&gt;</th><th scope=col>&lt;int&gt;</th><th scope=col>&lt;int&gt;</th><th scope=col>&lt;dbl&gt;</th><th scope=col>&lt;dbl&gt;</th><th scope=col>&lt;dbl&gt;</th><th scope=col>&lt;dbl&gt;</th><th scope=col>&lt;dbl&gt;</th><th scope=col>&lt;dbl&gt;</th><th scope=col>&lt;dbl&gt;</th><th scope=col>&lt;dbl&gt;</th><th scope=col>&lt;dbl&gt;</th><th scope=col>&lt;dbl&gt;</th></tr>\n",
       "</thead>\n",
       "<tbody>\n",
       "\t<tr><th scope=row>1</th><td>1000078</td><td>1000078</td><td>1</td><td>0</td><td>60</td><td> 0.001867425</td><td> 0.013093557</td><td>-0.012545642</td><td>-0.0077773685</td><td>-0.0076396044</td><td>-0.004067034</td><td> 0.003904697</td><td>-0.0066333866</td><td>-0.011400679</td><td>-0.003770311</td></tr>\n",
       "\t<tr><th scope=row>2</th><td>1000081</td><td>1000081</td><td>0</td><td>0</td><td>67</td><td> 0.134179544</td><td>-0.015138242</td><td> 0.014278056</td><td> 0.0142731188</td><td>-0.0085332226</td><td>-0.010936588</td><td> 0.011577007</td><td> 0.0004865037</td><td> 0.008102219</td><td>-0.002117615</td></tr>\n",
       "\t<tr><th scope=row>3</th><td>1000236</td><td>1000236</td><td>0</td><td>0</td><td>70</td><td> 0.008867756</td><td> 0.011425836</td><td>-0.023071386</td><td> 0.0064096586</td><td> 0.0033986306</td><td> 0.021169599</td><td>-0.003277936</td><td> 0.0054276548</td><td>-0.010657910</td><td>-0.034102210</td></tr>\n",
       "\t<tr><th scope=row>4</th><td>1000331</td><td>1000331</td><td>1</td><td>0</td><td>53</td><td> 0.080695947</td><td>-0.003566874</td><td>-0.002728336</td><td>-0.0039599944</td><td> 0.0005021192</td><td> 0.003650339</td><td> 0.029506097</td><td> 0.0038201997</td><td>-0.013963517</td><td>-0.016294060</td></tr>\n",
       "\t<tr><th scope=row>5</th><td>1000340</td><td>1000340</td><td>1</td><td>0</td><td>54</td><td>-0.012073413</td><td>-0.005182776</td><td>-0.009290790</td><td> 0.0007751943</td><td>-0.0024663547</td><td>-0.006647973</td><td> 0.002676356</td><td>-0.0018374353</td><td> 0.002831617</td><td>-0.001478281</td></tr>\n",
       "\t<tr><th scope=row>6</th><td>1000415</td><td>1000415</td><td>0</td><td>0</td><td>65</td><td>-0.018177064</td><td>-0.053073714</td><td>-0.000446653</td><td>-0.0024920664</td><td> 0.0170787094</td><td>-0.003519533</td><td> 0.005667462</td><td> 0.0251297768</td><td>-0.006116507</td><td> 0.005747638</td></tr>\n",
       "</tbody>\n",
       "</table>\n"
      ],
      "text/latex": [
       "A data.frame: 6 x 15\n",
       "\\begin{tabular}{r|lllllllllllllll}\n",
       "  & FID & IID & sex & f3393 & age & PC1 & PC2 & PC3 & PC4 & PC5 & PC6 & PC7 & PC8 & PC9 & PC10\\\\\n",
       "  & <int> & <int> & <int> & <int> & <int> & <dbl> & <dbl> & <dbl> & <dbl> & <dbl> & <dbl> & <dbl> & <dbl> & <dbl> & <dbl>\\\\\n",
       "\\hline\n",
       "\t1 & 1000078 & 1000078 & 1 & 0 & 60 &  0.001867425 &  0.013093557 & -0.012545642 & -0.0077773685 & -0.0076396044 & -0.004067034 &  0.003904697 & -0.0066333866 & -0.011400679 & -0.003770311\\\\\n",
       "\t2 & 1000081 & 1000081 & 0 & 0 & 67 &  0.134179544 & -0.015138242 &  0.014278056 &  0.0142731188 & -0.0085332226 & -0.010936588 &  0.011577007 &  0.0004865037 &  0.008102219 & -0.002117615\\\\\n",
       "\t3 & 1000236 & 1000236 & 0 & 0 & 70 &  0.008867756 &  0.011425836 & -0.023071386 &  0.0064096586 &  0.0033986306 &  0.021169599 & -0.003277936 &  0.0054276548 & -0.010657910 & -0.034102210\\\\\n",
       "\t4 & 1000331 & 1000331 & 1 & 0 & 53 &  0.080695947 & -0.003566874 & -0.002728336 & -0.0039599944 &  0.0005021192 &  0.003650339 &  0.029506097 &  0.0038201997 & -0.013963517 & -0.016294060\\\\\n",
       "\t5 & 1000340 & 1000340 & 1 & 0 & 54 & -0.012073413 & -0.005182776 & -0.009290790 &  0.0007751943 & -0.0024663547 & -0.006647973 &  0.002676356 & -0.0018374353 &  0.002831617 & -0.001478281\\\\\n",
       "\t6 & 1000415 & 1000415 & 0 & 0 & 65 & -0.018177064 & -0.053073714 & -0.000446653 & -0.0024920664 &  0.0170787094 & -0.003519533 &  0.005667462 &  0.0251297768 & -0.006116507 &  0.005747638\\\\\n",
       "\\end{tabular}\n"
      ],
      "text/markdown": [
       "\n",
       "A data.frame: 6 x 15\n",
       "\n",
       "| <!--/--> | FID &lt;int&gt; | IID &lt;int&gt; | sex &lt;int&gt; | f3393 &lt;int&gt; | age &lt;int&gt; | PC1 &lt;dbl&gt; | PC2 &lt;dbl&gt; | PC3 &lt;dbl&gt; | PC4 &lt;dbl&gt; | PC5 &lt;dbl&gt; | PC6 &lt;dbl&gt; | PC7 &lt;dbl&gt; | PC8 &lt;dbl&gt; | PC9 &lt;dbl&gt; | PC10 &lt;dbl&gt; |\n",
       "|---|---|---|---|---|---|---|---|---|---|---|---|---|---|---|---|\n",
       "| 1 | 1000078 | 1000078 | 1 | 0 | 60 |  0.001867425 |  0.013093557 | -0.012545642 | -0.0077773685 | -0.0076396044 | -0.004067034 |  0.003904697 | -0.0066333866 | -0.011400679 | -0.003770311 |\n",
       "| 2 | 1000081 | 1000081 | 0 | 0 | 67 |  0.134179544 | -0.015138242 |  0.014278056 |  0.0142731188 | -0.0085332226 | -0.010936588 |  0.011577007 |  0.0004865037 |  0.008102219 | -0.002117615 |\n",
       "| 3 | 1000236 | 1000236 | 0 | 0 | 70 |  0.008867756 |  0.011425836 | -0.023071386 |  0.0064096586 |  0.0033986306 |  0.021169599 | -0.003277936 |  0.0054276548 | -0.010657910 | -0.034102210 |\n",
       "| 4 | 1000331 | 1000331 | 1 | 0 | 53 |  0.080695947 | -0.003566874 | -0.002728336 | -0.0039599944 |  0.0005021192 |  0.003650339 |  0.029506097 |  0.0038201997 | -0.013963517 | -0.016294060 |\n",
       "| 5 | 1000340 | 1000340 | 1 | 0 | 54 | -0.012073413 | -0.005182776 | -0.009290790 |  0.0007751943 | -0.0024663547 | -0.006647973 |  0.002676356 | -0.0018374353 |  0.002831617 | -0.001478281 |\n",
       "| 6 | 1000415 | 1000415 | 0 | 0 | 65 | -0.018177064 | -0.053073714 | -0.000446653 | -0.0024920664 |  0.0170787094 | -0.003519533 |  0.005667462 |  0.0251297768 | -0.006116507 |  0.005747638 |\n",
       "\n"
      ],
      "text/plain": [
       "  FID     IID     sex f3393 age PC1          PC2          PC3         \n",
       "1 1000078 1000078 1   0     60   0.001867425  0.013093557 -0.012545642\n",
       "2 1000081 1000081 0   0     67   0.134179544 -0.015138242  0.014278056\n",
       "3 1000236 1000236 0   0     70   0.008867756  0.011425836 -0.023071386\n",
       "4 1000331 1000331 1   0     53   0.080695947 -0.003566874 -0.002728336\n",
       "5 1000340 1000340 1   0     54  -0.012073413 -0.005182776 -0.009290790\n",
       "6 1000415 1000415 0   0     65  -0.018177064 -0.053073714 -0.000446653\n",
       "  PC4           PC5           PC6          PC7          PC8          \n",
       "1 -0.0077773685 -0.0076396044 -0.004067034  0.003904697 -0.0066333866\n",
       "2  0.0142731188 -0.0085332226 -0.010936588  0.011577007  0.0004865037\n",
       "3  0.0064096586  0.0033986306  0.021169599 -0.003277936  0.0054276548\n",
       "4 -0.0039599944  0.0005021192  0.003650339  0.029506097  0.0038201997\n",
       "5  0.0007751943 -0.0024663547 -0.006647973  0.002676356 -0.0018374353\n",
       "6 -0.0024920664  0.0170787094 -0.003519533  0.005667462  0.0251297768\n",
       "  PC9          PC10        \n",
       "1 -0.011400679 -0.003770311\n",
       "2  0.008102219 -0.002117615\n",
       "3 -0.010657910 -0.034102210\n",
       "4 -0.013963517 -0.016294060\n",
       "5  0.002831617 -0.001478281\n",
       "6 -0.006116507  0.005747638"
      ]
     },
     "metadata": {},
     "output_type": "display_data"
    }
   ],
   "source": [
    "f3393 <- merge(pheno, pca, by = c('FID', 'IID'), all.y=TRUE)\n",
    "head(f3393)\n",
    "dim(f3393)\n",
    "library(dplyr)\n",
    "f3393_final <- select(f3393, -c('ID', 'ethnicity'))\n",
    "head(f3393_final)"
   ]
  },
  {
   "cell_type": "code",
   "execution_count": 4,
   "id": "bdd26ea3-b536-4be9-b2d6-f958a6e0373d",
   "metadata": {
    "kernel": "R"
   },
   "outputs": [],
   "source": [
    "write.table(f3393_final, \"/mnt/vast/hpc/csg/UKBiobank/results/ARHI_heritability/pheno_files/090321_UKBB_Hearing_aid_f3393_expandedwhite_6436cases_96601ctrl.PC1_10.greml_pheno\", sep=\"\\t\", row.names = FALSE, col.names =TRUE, quote=FALSE)"
   ]
  },
  {
   "cell_type": "markdown",
   "id": "aaaba6da-4f0c-45f2-967f-9c524866485d",
   "metadata": {
    "kernel": "R"
   },
   "source": [
    "### PCA for f3393 common variants of the 80K samples"
   ]
  },
  {
   "cell_type": "markdown",
   "id": "ea2ae2cd-aa48-4394-9ac1-a984246f5da4",
   "metadata": {
    "kernel": "R",
    "tags": []
   },
   "source": [
    "#### Step 1"
   ]
  },
  {
   "cell_type": "code",
   "execution_count": 4,
   "id": "2dcb0c4d-b457-44f5-9ed5-578a697b61fd",
   "metadata": {
    "kernel": "Bash",
    "tags": []
   },
   "outputs": [
    {
     "name": "stdout",
     "output_type": "stream",
     "text": [
      "INFO: Running \u001b[32mcsg\u001b[0m: Configuration for Columbia csg partition cluster\n",
      "INFO: \u001b[32mcsg\u001b[0m is \u001b[32mcompleted\u001b[0m.\n",
      "INFO: \u001b[32mcsg\u001b[0m output:   \u001b[32m/mnt/mfs/statgen/UKBiobank/results/ARHI_heritability/060722_pca_common_80K/common_pca_f3393_80K_2022-06-07.sbatch\u001b[0m\n",
      "INFO: Workflow csg (ID=w81b967b0cda647cd) is executed successfully with 1 completed step.\n",
      "\n"
     ]
    }
   ],
   "source": [
    "## Columbia's cluster\n",
    "cwd=/mnt/vast/hpc/csg/UKBiobank/results/ARHI_heritability/060722_pca_common_80K/f3393\n",
    "gwas_sbatch=/mnt/vast/hpc/csg/UKBiobank/results/ARHI_heritability/060722_pca_common_80K/common_pca_f3393_80K_$(date +\"%Y-%m-%d\").sbatch\n",
    "## Use qc'ed genotype array\n",
    "genoFile=/mnt/vast/hpc/csg/UKBiobank/results/ARHI_heritability/052022_ldprun_common/ukb23156_merged_eur_unrel_commonvarsMAFabove0.01.filtered.prune.bed\n",
    "keep_samples=/mnt/vast/hpc/csg/UKBiobank/results/ARHI_heritability/pheno_files/090321_UKBB_Hearing_aid_f3393_expandedwhite_6436cases_96601ctrl.PC1_10.80Ksubset.keep_id\n",
    "\n",
    "#GWAS QC variables set all of this variables to 0 to avoid doing more filtering\n",
    "maf_filter=0\n",
    "geno_filter=0\n",
    "hwe_filter=0\n",
    "mind_filter=0\n",
    "numThreads=1\n",
    "mem='30G'\n",
    "gwasqc_sos=~/project/xqtl-pipeline/code/data_preprocessing/genotype/GWAS_QC.ipynb\n",
    "tpl_file=~/project/bioworkflows/admin/csg.yml\n",
    "container=~/containers/bioinfo.sif\n",
    "\n",
    "gwasqc_args=\"\"\"qc:1\n",
    "    --cwd $cwd\n",
    "    --genoFile $genoFile\n",
    "    --keep_samples $keep_samples\n",
    "    --maf_filter $maf_filter\n",
    "    --geno_filter $geno_filter\n",
    "    --hwe_filter $hwe_filter\n",
    "    --mind_filter $mind_filter\n",
    "    --numThreads $numThreads \n",
    "    --container $container\n",
    "    --mem $mem\n",
    "\"\"\"\n",
    "\n",
    "sos run ~/project/UKBB_GWAS_dev/admin/Get_Job_Script.ipynb csg \\\n",
    "    --template-file $tpl_file \\\n",
    "    --workflow-file $gwasqc_sos \\\n",
    "    --to-script $gwas_sbatch \\\n",
    "    --args \"$gwasqc_args\""
   ]
  },
  {
   "cell_type": "markdown",
   "id": "0f72711a-2c7d-4037-afa2-2ae77f4b489d",
   "metadata": {
    "kernel": "R"
   },
   "source": [
    "#### Step 2"
   ]
  },
  {
   "cell_type": "code",
   "execution_count": 8,
   "id": "ce44a503-e61d-40b6-a28d-645aa897a68a",
   "metadata": {
    "kernel": "Bash"
   },
   "outputs": [
    {
     "name": "stdout",
     "output_type": "stream",
     "text": [
      "INFO: Running \u001b[32mcsg\u001b[0m: Configuration for Columbia csg partition cluster\n",
      "INFO: \u001b[32mcsg\u001b[0m is \u001b[32mcompleted\u001b[0m.\n",
      "INFO: \u001b[32mcsg\u001b[0m output:   \u001b[32m/mnt/mfs/statgen/UKBiobank/results/ARHI_heritability/060722_pca_common_80K/flashpca_f3393_common80K_2022-06-07.sbatch\u001b[0m\n",
      "INFO: Workflow csg (ID=w0d063444a8caa3d2) is executed successfully with 1 completed step.\n",
      "\n"
     ]
    }
   ],
   "source": [
    "## Columbia's cluster\n",
    "cwd=/mnt/vast/hpc/csg/UKBiobank/results/ARHI_heritability/060722_pca_common_80K/f3393\n",
    "#This is the bfile obtained in step 1\n",
    "genoFile=/mnt/vast/hpc/csg/UKBiobank/results/ARHI_heritability/060722_pca_common_80K/f3393/*.bed\n",
    "# Format FID, IID, pop\n",
    "# PC's are actually being calculated for 80K individuals that are white unrelated and have phenotype data for f3393\n",
    "phenoFile=/mnt/vast/hpc/csg/UKBiobank/results/083021_PCA_results/090321_UKBB_Hearing_aid_f3393_expandedwhite_6436cases_96601ctrl.phenopca\n",
    "label_col=ethnicity\n",
    "pop_col=ethnicity\n",
    "pca_sbatch=/mnt/vast/hpc/csg/UKBiobank/results/ARHI_heritability/052022_pca_common/flashpca_f3393_common_$(date +\"%Y-%m-%d\").sbatch\n",
    "k=10\n",
    "min_axis=0\n",
    "max_axis=0\n",
    "pca_sos=~/project/xqtl-pipeline/code/data_preprocessing/genotype/PCA.ipynb\n",
    "tpl_file=~/project/bioworkflows/admin/csg.yml\n",
    "container=~/containers/flashpcaR.sif\n",
    "\n",
    "pca_args=\"\"\"flashpca\n",
    "    --cwd $cwd\n",
    "    --genoFile $genoFile\n",
    "    --phenoFile $phenoFile\n",
    "    --k $k\n",
    "    --label_col $label_col\n",
    "    --pop_col $pop_col\n",
    "    --min_axis $min_axis\n",
    "    --max_axis $max_axis\n",
    "    --numThreads $numThreads \n",
    "    --container $container\n",
    "\"\"\"\n",
    "\n",
    "sos run  ~/project/UKBB_GWAS_dev/admin/Get_Job_Script.ipynb csg\\\n",
    "    --template-file $tpl_file \\\n",
    "    --workflow-file $pca_sos \\\n",
    "    --to-script $pca_sbatch \\\n",
    "    --args \"$pca_args\""
   ]
  },
  {
   "cell_type": "markdown",
   "id": "ac2a08db-17d8-468a-8b77-cb7f8f5e99ec",
   "metadata": {
    "kernel": "Bash"
   },
   "source": [
    "#### Get the phenotype file for GREML of the 80K"
   ]
  },
  {
   "cell_type": "code",
   "execution_count": 12,
   "id": "fdfa9d05-a1e9-4692-9c81-77daf95dc639",
   "metadata": {
    "kernel": "R",
    "tags": []
   },
   "outputs": [
    {
     "data": {
      "text/html": [
       "<table class=\"dataframe\">\n",
       "<caption>A data.frame: 6 x 5</caption>\n",
       "<thead>\n",
       "\t<tr><th></th><th scope=col>FID</th><th scope=col>IID</th><th scope=col>sex</th><th scope=col>f3393</th><th scope=col>age</th></tr>\n",
       "\t<tr><th></th><th scope=col>&lt;int&gt;</th><th scope=col>&lt;int&gt;</th><th scope=col>&lt;int&gt;</th><th scope=col>&lt;int&gt;</th><th scope=col>&lt;int&gt;</th></tr>\n",
       "</thead>\n",
       "<tbody>\n",
       "\t<tr><th scope=row>1</th><td>1001384</td><td>1001384</td><td>1</td><td>1</td><td>61</td></tr>\n",
       "\t<tr><th scope=row>2</th><td>1002548</td><td>1002548</td><td>0</td><td>1</td><td>62</td></tr>\n",
       "\t<tr><th scope=row>3</th><td>1002888</td><td>1002888</td><td>0</td><td>1</td><td>68</td></tr>\n",
       "\t<tr><th scope=row>4</th><td>1002944</td><td>1002944</td><td>0</td><td>1</td><td>65</td></tr>\n",
       "\t<tr><th scope=row>5</th><td>1003258</td><td>1003258</td><td>0</td><td>1</td><td>74</td></tr>\n",
       "\t<tr><th scope=row>6</th><td>1004843</td><td>1004843</td><td>0</td><td>1</td><td>64</td></tr>\n",
       "</tbody>\n",
       "</table>\n"
      ],
      "text/latex": [
       "A data.frame: 6 x 5\n",
       "\\begin{tabular}{r|lllll}\n",
       "  & FID & IID & sex & f3393 & age\\\\\n",
       "  & <int> & <int> & <int> & <int> & <int>\\\\\n",
       "\\hline\n",
       "\t1 & 1001384 & 1001384 & 1 & 1 & 61\\\\\n",
       "\t2 & 1002548 & 1002548 & 0 & 1 & 62\\\\\n",
       "\t3 & 1002888 & 1002888 & 0 & 1 & 68\\\\\n",
       "\t4 & 1002944 & 1002944 & 0 & 1 & 65\\\\\n",
       "\t5 & 1003258 & 1003258 & 0 & 1 & 74\\\\\n",
       "\t6 & 1004843 & 1004843 & 0 & 1 & 64\\\\\n",
       "\\end{tabular}\n"
      ],
      "text/markdown": [
       "\n",
       "A data.frame: 6 x 5\n",
       "\n",
       "| <!--/--> | FID &lt;int&gt; | IID &lt;int&gt; | sex &lt;int&gt; | f3393 &lt;int&gt; | age &lt;int&gt; |\n",
       "|---|---|---|---|---|---|\n",
       "| 1 | 1001384 | 1001384 | 1 | 1 | 61 |\n",
       "| 2 | 1002548 | 1002548 | 0 | 1 | 62 |\n",
       "| 3 | 1002888 | 1002888 | 0 | 1 | 68 |\n",
       "| 4 | 1002944 | 1002944 | 0 | 1 | 65 |\n",
       "| 5 | 1003258 | 1003258 | 0 | 1 | 74 |\n",
       "| 6 | 1004843 | 1004843 | 0 | 1 | 64 |\n",
       "\n"
      ],
      "text/plain": [
       "  FID     IID     sex f3393 age\n",
       "1 1001384 1001384 1   1     61 \n",
       "2 1002548 1002548 0   1     62 \n",
       "3 1002888 1002888 0   1     68 \n",
       "4 1002944 1002944 0   1     65 \n",
       "5 1003258 1003258 0   1     74 \n",
       "6 1004843 1004843 0   1     64 "
      ]
     },
     "metadata": {},
     "output_type": "display_data"
    },
    {
     "data": {
      "text/html": [
       "<style>\n",
       ".list-inline {list-style: none; margin:0; padding: 0}\n",
       ".list-inline>li {display: inline-block}\n",
       ".list-inline>li:not(:last-child)::after {content: \"\\00b7\"; padding: 0 .5ex}\n",
       "</style>\n",
       "<ol class=list-inline><li>103037</li><li>5</li></ol>\n"
      ],
      "text/latex": [
       "\\begin{enumerate*}\n",
       "\\item 103037\n",
       "\\item 5\n",
       "\\end{enumerate*}\n"
      ],
      "text/markdown": [
       "1. 103037\n",
       "2. 5\n",
       "\n",
       "\n"
      ],
      "text/plain": [
       "[1] 103037      5"
      ]
     },
     "metadata": {},
     "output_type": "display_data"
    }
   ],
   "source": [
    "pheno <- read.table(\"~/UKBiobank/phenotype_files/hearing_impairment/090321_UKBB_Hearing_aid_f3393_expandedwhite_6436cases_96601ctrl\", header=T)\n",
    "head(pheno)\n",
    "dim(pheno)"
   ]
  },
  {
   "cell_type": "code",
   "execution_count": 13,
   "id": "7487b9bc-6377-459e-a3e4-644551f706fa",
   "metadata": {
    "kernel": "R",
    "tags": []
   },
   "outputs": [
    {
     "data": {
      "text/html": [
       "<table class=\"dataframe\">\n",
       "<caption>A data.frame: 6 x 14</caption>\n",
       "<thead>\n",
       "\t<tr><th></th><th scope=col>ID</th><th scope=col>FID</th><th scope=col>IID</th><th scope=col>ethnicity</th><th scope=col>PC1</th><th scope=col>PC2</th><th scope=col>PC3</th><th scope=col>PC4</th><th scope=col>PC5</th><th scope=col>PC6</th><th scope=col>PC7</th><th scope=col>PC8</th><th scope=col>PC9</th><th scope=col>PC10</th></tr>\n",
       "\t<tr><th></th><th scope=col>&lt;fct&gt;</th><th scope=col>&lt;int&gt;</th><th scope=col>&lt;int&gt;</th><th scope=col>&lt;fct&gt;</th><th scope=col>&lt;dbl&gt;</th><th scope=col>&lt;dbl&gt;</th><th scope=col>&lt;dbl&gt;</th><th scope=col>&lt;dbl&gt;</th><th scope=col>&lt;dbl&gt;</th><th scope=col>&lt;dbl&gt;</th><th scope=col>&lt;dbl&gt;</th><th scope=col>&lt;dbl&gt;</th><th scope=col>&lt;dbl&gt;</th><th scope=col>&lt;dbl&gt;</th></tr>\n",
       "</thead>\n",
       "<tbody>\n",
       "\t<tr><th scope=row>1</th><td>1000081:1000081</td><td>1000081</td><td>1000081</td><td>British                   </td><td> 0.134658064</td><td> 0.014188187</td><td> 0.0135583292</td><td> 0.0143258827</td><td> 0.0085594803</td><td> 0.0075761687</td><td>-0.010186438</td><td>-0.001022228</td><td> 0.008934933</td><td>-2.508883e-03</td></tr>\n",
       "\t<tr><th scope=row>2</th><td>1000236:1000236</td><td>1000236</td><td>1000236</td><td>British                   </td><td> 0.008812187</td><td>-0.011456550</td><td>-0.0233585109</td><td> 0.0081630403</td><td>-0.0029101523</td><td>-0.0194662282</td><td> 0.007941112</td><td> 0.008567680</td><td>-0.006907107</td><td>-3.616751e-02</td></tr>\n",
       "\t<tr><th scope=row>3</th><td>1000331:1000331</td><td>1000331</td><td>1000331</td><td>Any_other_white_background</td><td> 0.080859632</td><td> 0.003496805</td><td>-0.0029620121</td><td>-0.0034742864</td><td>-0.0009168386</td><td>-0.0114138724</td><td>-0.028556378</td><td> 0.006783471</td><td>-0.013180153</td><td>-1.621851e-02</td></tr>\n",
       "\t<tr><th scope=row>4</th><td>1000340:1000340</td><td>1000340</td><td>1000340</td><td>British                   </td><td>-0.012457360</td><td> 0.005989548</td><td>-0.0095406987</td><td> 0.0009187248</td><td> 0.0026318657</td><td> 0.0071420228</td><td>-0.005840268</td><td>-0.001536171</td><td> 0.002371991</td><td>-9.876745e-05</td></tr>\n",
       "\t<tr><th scope=row>5</th><td>1000415:1000415</td><td>1000415</td><td>1000415</td><td>Irish                     </td><td>-0.018346574</td><td> 0.053126182</td><td>-0.0005572422</td><td>-0.0018209019</td><td>-0.0180591232</td><td> 0.0026329042</td><td>-0.008080767</td><td> 0.024710975</td><td>-0.001029565</td><td> 5.543847e-03</td></tr>\n",
       "\t<tr><th scope=row>6</th><td>1000421:1000421</td><td>1000421</td><td>1000421</td><td>British                   </td><td> 0.003190009</td><td> 0.025497201</td><td> 0.0111553077</td><td>-0.0079503301</td><td>-0.0092678599</td><td>-0.0002117366</td><td>-0.003330029</td><td> 0.004412672</td><td> 0.007056397</td><td>-1.543426e-02</td></tr>\n",
       "</tbody>\n",
       "</table>\n"
      ],
      "text/latex": [
       "A data.frame: 6 x 14\n",
       "\\begin{tabular}{r|llllllllllllll}\n",
       "  & ID & FID & IID & ethnicity & PC1 & PC2 & PC3 & PC4 & PC5 & PC6 & PC7 & PC8 & PC9 & PC10\\\\\n",
       "  & <fct> & <int> & <int> & <fct> & <dbl> & <dbl> & <dbl> & <dbl> & <dbl> & <dbl> & <dbl> & <dbl> & <dbl> & <dbl>\\\\\n",
       "\\hline\n",
       "\t1 & 1000081:1000081 & 1000081 & 1000081 & British                    &  0.134658064 &  0.014188187 &  0.0135583292 &  0.0143258827 &  0.0085594803 &  0.0075761687 & -0.010186438 & -0.001022228 &  0.008934933 & -2.508883e-03\\\\\n",
       "\t2 & 1000236:1000236 & 1000236 & 1000236 & British                    &  0.008812187 & -0.011456550 & -0.0233585109 &  0.0081630403 & -0.0029101523 & -0.0194662282 &  0.007941112 &  0.008567680 & -0.006907107 & -3.616751e-02\\\\\n",
       "\t3 & 1000331:1000331 & 1000331 & 1000331 & Any\\_other\\_white\\_background &  0.080859632 &  0.003496805 & -0.0029620121 & -0.0034742864 & -0.0009168386 & -0.0114138724 & -0.028556378 &  0.006783471 & -0.013180153 & -1.621851e-02\\\\\n",
       "\t4 & 1000340:1000340 & 1000340 & 1000340 & British                    & -0.012457360 &  0.005989548 & -0.0095406987 &  0.0009187248 &  0.0026318657 &  0.0071420228 & -0.005840268 & -0.001536171 &  0.002371991 & -9.876745e-05\\\\\n",
       "\t5 & 1000415:1000415 & 1000415 & 1000415 & Irish                      & -0.018346574 &  0.053126182 & -0.0005572422 & -0.0018209019 & -0.0180591232 &  0.0026329042 & -0.008080767 &  0.024710975 & -0.001029565 &  5.543847e-03\\\\\n",
       "\t6 & 1000421:1000421 & 1000421 & 1000421 & British                    &  0.003190009 &  0.025497201 &  0.0111553077 & -0.0079503301 & -0.0092678599 & -0.0002117366 & -0.003330029 &  0.004412672 &  0.007056397 & -1.543426e-02\\\\\n",
       "\\end{tabular}\n"
      ],
      "text/markdown": [
       "\n",
       "A data.frame: 6 x 14\n",
       "\n",
       "| <!--/--> | ID &lt;fct&gt; | FID &lt;int&gt; | IID &lt;int&gt; | ethnicity &lt;fct&gt; | PC1 &lt;dbl&gt; | PC2 &lt;dbl&gt; | PC3 &lt;dbl&gt; | PC4 &lt;dbl&gt; | PC5 &lt;dbl&gt; | PC6 &lt;dbl&gt; | PC7 &lt;dbl&gt; | PC8 &lt;dbl&gt; | PC9 &lt;dbl&gt; | PC10 &lt;dbl&gt; |\n",
       "|---|---|---|---|---|---|---|---|---|---|---|---|---|---|---|\n",
       "| 1 | 1000081:1000081 | 1000081 | 1000081 | British                    |  0.134658064 |  0.014188187 |  0.0135583292 |  0.0143258827 |  0.0085594803 |  0.0075761687 | -0.010186438 | -0.001022228 |  0.008934933 | -2.508883e-03 |\n",
       "| 2 | 1000236:1000236 | 1000236 | 1000236 | British                    |  0.008812187 | -0.011456550 | -0.0233585109 |  0.0081630403 | -0.0029101523 | -0.0194662282 |  0.007941112 |  0.008567680 | -0.006907107 | -3.616751e-02 |\n",
       "| 3 | 1000331:1000331 | 1000331 | 1000331 | Any_other_white_background |  0.080859632 |  0.003496805 | -0.0029620121 | -0.0034742864 | -0.0009168386 | -0.0114138724 | -0.028556378 |  0.006783471 | -0.013180153 | -1.621851e-02 |\n",
       "| 4 | 1000340:1000340 | 1000340 | 1000340 | British                    | -0.012457360 |  0.005989548 | -0.0095406987 |  0.0009187248 |  0.0026318657 |  0.0071420228 | -0.005840268 | -0.001536171 |  0.002371991 | -9.876745e-05 |\n",
       "| 5 | 1000415:1000415 | 1000415 | 1000415 | Irish                      | -0.018346574 |  0.053126182 | -0.0005572422 | -0.0018209019 | -0.0180591232 |  0.0026329042 | -0.008080767 |  0.024710975 | -0.001029565 |  5.543847e-03 |\n",
       "| 6 | 1000421:1000421 | 1000421 | 1000421 | British                    |  0.003190009 |  0.025497201 |  0.0111553077 | -0.0079503301 | -0.0092678599 | -0.0002117366 | -0.003330029 |  0.004412672 |  0.007056397 | -1.543426e-02 |\n",
       "\n"
      ],
      "text/plain": [
       "  ID              FID     IID     ethnicity                  PC1         \n",
       "1 1000081:1000081 1000081 1000081 British                     0.134658064\n",
       "2 1000236:1000236 1000236 1000236 British                     0.008812187\n",
       "3 1000331:1000331 1000331 1000331 Any_other_white_background  0.080859632\n",
       "4 1000340:1000340 1000340 1000340 British                    -0.012457360\n",
       "5 1000415:1000415 1000415 1000415 Irish                      -0.018346574\n",
       "6 1000421:1000421 1000421 1000421 British                     0.003190009\n",
       "  PC2          PC3           PC4           PC5           PC6          \n",
       "1  0.014188187  0.0135583292  0.0143258827  0.0085594803  0.0075761687\n",
       "2 -0.011456550 -0.0233585109  0.0081630403 -0.0029101523 -0.0194662282\n",
       "3  0.003496805 -0.0029620121 -0.0034742864 -0.0009168386 -0.0114138724\n",
       "4  0.005989548 -0.0095406987  0.0009187248  0.0026318657  0.0071420228\n",
       "5  0.053126182 -0.0005572422 -0.0018209019 -0.0180591232  0.0026329042\n",
       "6  0.025497201  0.0111553077 -0.0079503301 -0.0092678599 -0.0002117366\n",
       "  PC7          PC8          PC9          PC10         \n",
       "1 -0.010186438 -0.001022228  0.008934933 -2.508883e-03\n",
       "2  0.007941112  0.008567680 -0.006907107 -3.616751e-02\n",
       "3 -0.028556378  0.006783471 -0.013180153 -1.621851e-02\n",
       "4 -0.005840268 -0.001536171  0.002371991 -9.876745e-05\n",
       "5 -0.008080767  0.024710975 -0.001029565  5.543847e-03\n",
       "6 -0.003330029  0.004412672  0.007056397 -1.543426e-02"
      ]
     },
     "metadata": {},
     "output_type": "display_data"
    },
    {
     "data": {
      "text/html": [
       "<style>\n",
       ".list-inline {list-style: none; margin:0; padding: 0}\n",
       ".list-inline>li {display: inline-block}\n",
       ".list-inline>li:not(:last-child)::after {content: \"\\00b7\"; padding: 0 .5ex}\n",
       "</style>\n",
       "<ol class=list-inline><li>80000</li><li>14</li></ol>\n"
      ],
      "text/latex": [
       "\\begin{enumerate*}\n",
       "\\item 80000\n",
       "\\item 14\n",
       "\\end{enumerate*}\n"
      ],
      "text/markdown": [
       "1. 80000\n",
       "2. 14\n",
       "\n",
       "\n"
      ],
      "text/plain": [
       "[1] 80000    14"
      ]
     },
     "metadata": {},
     "output_type": "display_data"
    }
   ],
   "source": [
    "pca <- read.table(\"/mnt/vast/hpc/csg/UKBiobank/results/ARHI_heritability/060722_pca_common_80K/f3393/090321_UKBB_Hearing_aid_f3393_expandedwhite_6436cases_96601ctrl.pca.txt\", header=T)\n",
    "head(pca)\n",
    "dim(pca)"
   ]
  },
  {
   "cell_type": "code",
   "execution_count": 14,
   "id": "94ef51af-651d-46fa-ae39-c8923ea6bae9",
   "metadata": {
    "kernel": "R",
    "tags": []
   },
   "outputs": [
    {
     "data": {
      "text/html": [
       "<table class=\"dataframe\">\n",
       "<caption>A data.frame: 6 x 17</caption>\n",
       "<thead>\n",
       "\t<tr><th></th><th scope=col>FID</th><th scope=col>IID</th><th scope=col>sex</th><th scope=col>f3393</th><th scope=col>age</th><th scope=col>ID</th><th scope=col>ethnicity</th><th scope=col>PC1</th><th scope=col>PC2</th><th scope=col>PC3</th><th scope=col>PC4</th><th scope=col>PC5</th><th scope=col>PC6</th><th scope=col>PC7</th><th scope=col>PC8</th><th scope=col>PC9</th><th scope=col>PC10</th></tr>\n",
       "\t<tr><th></th><th scope=col>&lt;int&gt;</th><th scope=col>&lt;int&gt;</th><th scope=col>&lt;int&gt;</th><th scope=col>&lt;int&gt;</th><th scope=col>&lt;int&gt;</th><th scope=col>&lt;fct&gt;</th><th scope=col>&lt;fct&gt;</th><th scope=col>&lt;dbl&gt;</th><th scope=col>&lt;dbl&gt;</th><th scope=col>&lt;dbl&gt;</th><th scope=col>&lt;dbl&gt;</th><th scope=col>&lt;dbl&gt;</th><th scope=col>&lt;dbl&gt;</th><th scope=col>&lt;dbl&gt;</th><th scope=col>&lt;dbl&gt;</th><th scope=col>&lt;dbl&gt;</th><th scope=col>&lt;dbl&gt;</th></tr>\n",
       "</thead>\n",
       "<tbody>\n",
       "\t<tr><th scope=row>1</th><td>1000081</td><td>1000081</td><td>0</td><td>0</td><td>67</td><td>1000081:1000081</td><td>British                   </td><td> 0.134658064</td><td> 0.014188187</td><td> 0.0135583292</td><td> 0.0143258827</td><td> 0.0085594803</td><td> 0.0075761687</td><td>-0.010186438</td><td>-0.001022228</td><td> 0.008934933</td><td>-2.508883e-03</td></tr>\n",
       "\t<tr><th scope=row>2</th><td>1000236</td><td>1000236</td><td>0</td><td>0</td><td>70</td><td>1000236:1000236</td><td>British                   </td><td> 0.008812187</td><td>-0.011456550</td><td>-0.0233585109</td><td> 0.0081630403</td><td>-0.0029101523</td><td>-0.0194662282</td><td> 0.007941112</td><td> 0.008567680</td><td>-0.006907107</td><td>-3.616751e-02</td></tr>\n",
       "\t<tr><th scope=row>3</th><td>1000331</td><td>1000331</td><td>1</td><td>0</td><td>53</td><td>1000331:1000331</td><td>Any_other_white_background</td><td> 0.080859632</td><td> 0.003496805</td><td>-0.0029620121</td><td>-0.0034742864</td><td>-0.0009168386</td><td>-0.0114138724</td><td>-0.028556378</td><td> 0.006783471</td><td>-0.013180153</td><td>-1.621851e-02</td></tr>\n",
       "\t<tr><th scope=row>4</th><td>1000340</td><td>1000340</td><td>1</td><td>0</td><td>54</td><td>1000340:1000340</td><td>British                   </td><td>-0.012457360</td><td> 0.005989548</td><td>-0.0095406987</td><td> 0.0009187248</td><td> 0.0026318657</td><td> 0.0071420228</td><td>-0.005840268</td><td>-0.001536171</td><td> 0.002371991</td><td>-9.876745e-05</td></tr>\n",
       "\t<tr><th scope=row>5</th><td>1000415</td><td>1000415</td><td>0</td><td>0</td><td>65</td><td>1000415:1000415</td><td>Irish                     </td><td>-0.018346574</td><td> 0.053126182</td><td>-0.0005572422</td><td>-0.0018209019</td><td>-0.0180591232</td><td> 0.0026329042</td><td>-0.008080767</td><td> 0.024710975</td><td>-0.001029565</td><td> 5.543847e-03</td></tr>\n",
       "\t<tr><th scope=row>6</th><td>1000421</td><td>1000421</td><td>1</td><td>0</td><td>64</td><td>1000421:1000421</td><td>British                   </td><td> 0.003190009</td><td> 0.025497201</td><td> 0.0111553077</td><td>-0.0079503301</td><td>-0.0092678599</td><td>-0.0002117366</td><td>-0.003330029</td><td> 0.004412672</td><td> 0.007056397</td><td>-1.543426e-02</td></tr>\n",
       "</tbody>\n",
       "</table>\n"
      ],
      "text/latex": [
       "A data.frame: 6 x 17\n",
       "\\begin{tabular}{r|lllllllllllllllll}\n",
       "  & FID & IID & sex & f3393 & age & ID & ethnicity & PC1 & PC2 & PC3 & PC4 & PC5 & PC6 & PC7 & PC8 & PC9 & PC10\\\\\n",
       "  & <int> & <int> & <int> & <int> & <int> & <fct> & <fct> & <dbl> & <dbl> & <dbl> & <dbl> & <dbl> & <dbl> & <dbl> & <dbl> & <dbl> & <dbl>\\\\\n",
       "\\hline\n",
       "\t1 & 1000081 & 1000081 & 0 & 0 & 67 & 1000081:1000081 & British                    &  0.134658064 &  0.014188187 &  0.0135583292 &  0.0143258827 &  0.0085594803 &  0.0075761687 & -0.010186438 & -0.001022228 &  0.008934933 & -2.508883e-03\\\\\n",
       "\t2 & 1000236 & 1000236 & 0 & 0 & 70 & 1000236:1000236 & British                    &  0.008812187 & -0.011456550 & -0.0233585109 &  0.0081630403 & -0.0029101523 & -0.0194662282 &  0.007941112 &  0.008567680 & -0.006907107 & -3.616751e-02\\\\\n",
       "\t3 & 1000331 & 1000331 & 1 & 0 & 53 & 1000331:1000331 & Any\\_other\\_white\\_background &  0.080859632 &  0.003496805 & -0.0029620121 & -0.0034742864 & -0.0009168386 & -0.0114138724 & -0.028556378 &  0.006783471 & -0.013180153 & -1.621851e-02\\\\\n",
       "\t4 & 1000340 & 1000340 & 1 & 0 & 54 & 1000340:1000340 & British                    & -0.012457360 &  0.005989548 & -0.0095406987 &  0.0009187248 &  0.0026318657 &  0.0071420228 & -0.005840268 & -0.001536171 &  0.002371991 & -9.876745e-05\\\\\n",
       "\t5 & 1000415 & 1000415 & 0 & 0 & 65 & 1000415:1000415 & Irish                      & -0.018346574 &  0.053126182 & -0.0005572422 & -0.0018209019 & -0.0180591232 &  0.0026329042 & -0.008080767 &  0.024710975 & -0.001029565 &  5.543847e-03\\\\\n",
       "\t6 & 1000421 & 1000421 & 1 & 0 & 64 & 1000421:1000421 & British                    &  0.003190009 &  0.025497201 &  0.0111553077 & -0.0079503301 & -0.0092678599 & -0.0002117366 & -0.003330029 &  0.004412672 &  0.007056397 & -1.543426e-02\\\\\n",
       "\\end{tabular}\n"
      ],
      "text/markdown": [
       "\n",
       "A data.frame: 6 x 17\n",
       "\n",
       "| <!--/--> | FID &lt;int&gt; | IID &lt;int&gt; | sex &lt;int&gt; | f3393 &lt;int&gt; | age &lt;int&gt; | ID &lt;fct&gt; | ethnicity &lt;fct&gt; | PC1 &lt;dbl&gt; | PC2 &lt;dbl&gt; | PC3 &lt;dbl&gt; | PC4 &lt;dbl&gt; | PC5 &lt;dbl&gt; | PC6 &lt;dbl&gt; | PC7 &lt;dbl&gt; | PC8 &lt;dbl&gt; | PC9 &lt;dbl&gt; | PC10 &lt;dbl&gt; |\n",
       "|---|---|---|---|---|---|---|---|---|---|---|---|---|---|---|---|---|---|\n",
       "| 1 | 1000081 | 1000081 | 0 | 0 | 67 | 1000081:1000081 | British                    |  0.134658064 |  0.014188187 |  0.0135583292 |  0.0143258827 |  0.0085594803 |  0.0075761687 | -0.010186438 | -0.001022228 |  0.008934933 | -2.508883e-03 |\n",
       "| 2 | 1000236 | 1000236 | 0 | 0 | 70 | 1000236:1000236 | British                    |  0.008812187 | -0.011456550 | -0.0233585109 |  0.0081630403 | -0.0029101523 | -0.0194662282 |  0.007941112 |  0.008567680 | -0.006907107 | -3.616751e-02 |\n",
       "| 3 | 1000331 | 1000331 | 1 | 0 | 53 | 1000331:1000331 | Any_other_white_background |  0.080859632 |  0.003496805 | -0.0029620121 | -0.0034742864 | -0.0009168386 | -0.0114138724 | -0.028556378 |  0.006783471 | -0.013180153 | -1.621851e-02 |\n",
       "| 4 | 1000340 | 1000340 | 1 | 0 | 54 | 1000340:1000340 | British                    | -0.012457360 |  0.005989548 | -0.0095406987 |  0.0009187248 |  0.0026318657 |  0.0071420228 | -0.005840268 | -0.001536171 |  0.002371991 | -9.876745e-05 |\n",
       "| 5 | 1000415 | 1000415 | 0 | 0 | 65 | 1000415:1000415 | Irish                      | -0.018346574 |  0.053126182 | -0.0005572422 | -0.0018209019 | -0.0180591232 |  0.0026329042 | -0.008080767 |  0.024710975 | -0.001029565 |  5.543847e-03 |\n",
       "| 6 | 1000421 | 1000421 | 1 | 0 | 64 | 1000421:1000421 | British                    |  0.003190009 |  0.025497201 |  0.0111553077 | -0.0079503301 | -0.0092678599 | -0.0002117366 | -0.003330029 |  0.004412672 |  0.007056397 | -1.543426e-02 |\n",
       "\n"
      ],
      "text/plain": [
       "  FID     IID     sex f3393 age ID              ethnicity                 \n",
       "1 1000081 1000081 0   0     67  1000081:1000081 British                   \n",
       "2 1000236 1000236 0   0     70  1000236:1000236 British                   \n",
       "3 1000331 1000331 1   0     53  1000331:1000331 Any_other_white_background\n",
       "4 1000340 1000340 1   0     54  1000340:1000340 British                   \n",
       "5 1000415 1000415 0   0     65  1000415:1000415 Irish                     \n",
       "6 1000421 1000421 1   0     64  1000421:1000421 British                   \n",
       "  PC1          PC2          PC3           PC4           PC5          \n",
       "1  0.134658064  0.014188187  0.0135583292  0.0143258827  0.0085594803\n",
       "2  0.008812187 -0.011456550 -0.0233585109  0.0081630403 -0.0029101523\n",
       "3  0.080859632  0.003496805 -0.0029620121 -0.0034742864 -0.0009168386\n",
       "4 -0.012457360  0.005989548 -0.0095406987  0.0009187248  0.0026318657\n",
       "5 -0.018346574  0.053126182 -0.0005572422 -0.0018209019 -0.0180591232\n",
       "6  0.003190009  0.025497201  0.0111553077 -0.0079503301 -0.0092678599\n",
       "  PC6           PC7          PC8          PC9          PC10         \n",
       "1  0.0075761687 -0.010186438 -0.001022228  0.008934933 -2.508883e-03\n",
       "2 -0.0194662282  0.007941112  0.008567680 -0.006907107 -3.616751e-02\n",
       "3 -0.0114138724 -0.028556378  0.006783471 -0.013180153 -1.621851e-02\n",
       "4  0.0071420228 -0.005840268 -0.001536171  0.002371991 -9.876745e-05\n",
       "5  0.0026329042 -0.008080767  0.024710975 -0.001029565  5.543847e-03\n",
       "6 -0.0002117366 -0.003330029  0.004412672  0.007056397 -1.543426e-02"
      ]
     },
     "metadata": {},
     "output_type": "display_data"
    },
    {
     "data": {
      "text/html": [
       "<style>\n",
       ".list-inline {list-style: none; margin:0; padding: 0}\n",
       ".list-inline>li {display: inline-block}\n",
       ".list-inline>li:not(:last-child)::after {content: \"\\00b7\"; padding: 0 .5ex}\n",
       "</style>\n",
       "<ol class=list-inline><li>80000</li><li>17</li></ol>\n"
      ],
      "text/latex": [
       "\\begin{enumerate*}\n",
       "\\item 80000\n",
       "\\item 17\n",
       "\\end{enumerate*}\n"
      ],
      "text/markdown": [
       "1. 80000\n",
       "2. 17\n",
       "\n",
       "\n"
      ],
      "text/plain": [
       "[1] 80000    17"
      ]
     },
     "metadata": {},
     "output_type": "display_data"
    },
    {
     "name": "stderr",
     "output_type": "stream",
     "text": [
      "\n",
      "Attaching package: ‘dplyr’\n",
      "\n",
      "\n",
      "The following objects are masked from ‘package:stats’:\n",
      "\n",
      "    filter, lag\n",
      "\n",
      "\n",
      "The following objects are masked from ‘package:base’:\n",
      "\n",
      "    intersect, setdiff, setequal, union\n",
      "\n",
      "\n"
     ]
    },
    {
     "data": {
      "text/html": [
       "<table class=\"dataframe\">\n",
       "<caption>A data.frame: 6 x 15</caption>\n",
       "<thead>\n",
       "\t<tr><th></th><th scope=col>FID</th><th scope=col>IID</th><th scope=col>sex</th><th scope=col>f3393</th><th scope=col>age</th><th scope=col>PC1</th><th scope=col>PC2</th><th scope=col>PC3</th><th scope=col>PC4</th><th scope=col>PC5</th><th scope=col>PC6</th><th scope=col>PC7</th><th scope=col>PC8</th><th scope=col>PC9</th><th scope=col>PC10</th></tr>\n",
       "\t<tr><th></th><th scope=col>&lt;int&gt;</th><th scope=col>&lt;int&gt;</th><th scope=col>&lt;int&gt;</th><th scope=col>&lt;int&gt;</th><th scope=col>&lt;int&gt;</th><th scope=col>&lt;dbl&gt;</th><th scope=col>&lt;dbl&gt;</th><th scope=col>&lt;dbl&gt;</th><th scope=col>&lt;dbl&gt;</th><th scope=col>&lt;dbl&gt;</th><th scope=col>&lt;dbl&gt;</th><th scope=col>&lt;dbl&gt;</th><th scope=col>&lt;dbl&gt;</th><th scope=col>&lt;dbl&gt;</th><th scope=col>&lt;dbl&gt;</th></tr>\n",
       "</thead>\n",
       "<tbody>\n",
       "\t<tr><th scope=row>1</th><td>1000081</td><td>1000081</td><td>0</td><td>0</td><td>67</td><td> 0.134658064</td><td> 0.014188187</td><td> 0.0135583292</td><td> 0.0143258827</td><td> 0.0085594803</td><td> 0.0075761687</td><td>-0.010186438</td><td>-0.001022228</td><td> 0.008934933</td><td>-2.508883e-03</td></tr>\n",
       "\t<tr><th scope=row>2</th><td>1000236</td><td>1000236</td><td>0</td><td>0</td><td>70</td><td> 0.008812187</td><td>-0.011456550</td><td>-0.0233585109</td><td> 0.0081630403</td><td>-0.0029101523</td><td>-0.0194662282</td><td> 0.007941112</td><td> 0.008567680</td><td>-0.006907107</td><td>-3.616751e-02</td></tr>\n",
       "\t<tr><th scope=row>3</th><td>1000331</td><td>1000331</td><td>1</td><td>0</td><td>53</td><td> 0.080859632</td><td> 0.003496805</td><td>-0.0029620121</td><td>-0.0034742864</td><td>-0.0009168386</td><td>-0.0114138724</td><td>-0.028556378</td><td> 0.006783471</td><td>-0.013180153</td><td>-1.621851e-02</td></tr>\n",
       "\t<tr><th scope=row>4</th><td>1000340</td><td>1000340</td><td>1</td><td>0</td><td>54</td><td>-0.012457360</td><td> 0.005989548</td><td>-0.0095406987</td><td> 0.0009187248</td><td> 0.0026318657</td><td> 0.0071420228</td><td>-0.005840268</td><td>-0.001536171</td><td> 0.002371991</td><td>-9.876745e-05</td></tr>\n",
       "\t<tr><th scope=row>5</th><td>1000415</td><td>1000415</td><td>0</td><td>0</td><td>65</td><td>-0.018346574</td><td> 0.053126182</td><td>-0.0005572422</td><td>-0.0018209019</td><td>-0.0180591232</td><td> 0.0026329042</td><td>-0.008080767</td><td> 0.024710975</td><td>-0.001029565</td><td> 5.543847e-03</td></tr>\n",
       "\t<tr><th scope=row>6</th><td>1000421</td><td>1000421</td><td>1</td><td>0</td><td>64</td><td> 0.003190009</td><td> 0.025497201</td><td> 0.0111553077</td><td>-0.0079503301</td><td>-0.0092678599</td><td>-0.0002117366</td><td>-0.003330029</td><td> 0.004412672</td><td> 0.007056397</td><td>-1.543426e-02</td></tr>\n",
       "</tbody>\n",
       "</table>\n"
      ],
      "text/latex": [
       "A data.frame: 6 x 15\n",
       "\\begin{tabular}{r|lllllllllllllll}\n",
       "  & FID & IID & sex & f3393 & age & PC1 & PC2 & PC3 & PC4 & PC5 & PC6 & PC7 & PC8 & PC9 & PC10\\\\\n",
       "  & <int> & <int> & <int> & <int> & <int> & <dbl> & <dbl> & <dbl> & <dbl> & <dbl> & <dbl> & <dbl> & <dbl> & <dbl> & <dbl>\\\\\n",
       "\\hline\n",
       "\t1 & 1000081 & 1000081 & 0 & 0 & 67 &  0.134658064 &  0.014188187 &  0.0135583292 &  0.0143258827 &  0.0085594803 &  0.0075761687 & -0.010186438 & -0.001022228 &  0.008934933 & -2.508883e-03\\\\\n",
       "\t2 & 1000236 & 1000236 & 0 & 0 & 70 &  0.008812187 & -0.011456550 & -0.0233585109 &  0.0081630403 & -0.0029101523 & -0.0194662282 &  0.007941112 &  0.008567680 & -0.006907107 & -3.616751e-02\\\\\n",
       "\t3 & 1000331 & 1000331 & 1 & 0 & 53 &  0.080859632 &  0.003496805 & -0.0029620121 & -0.0034742864 & -0.0009168386 & -0.0114138724 & -0.028556378 &  0.006783471 & -0.013180153 & -1.621851e-02\\\\\n",
       "\t4 & 1000340 & 1000340 & 1 & 0 & 54 & -0.012457360 &  0.005989548 & -0.0095406987 &  0.0009187248 &  0.0026318657 &  0.0071420228 & -0.005840268 & -0.001536171 &  0.002371991 & -9.876745e-05\\\\\n",
       "\t5 & 1000415 & 1000415 & 0 & 0 & 65 & -0.018346574 &  0.053126182 & -0.0005572422 & -0.0018209019 & -0.0180591232 &  0.0026329042 & -0.008080767 &  0.024710975 & -0.001029565 &  5.543847e-03\\\\\n",
       "\t6 & 1000421 & 1000421 & 1 & 0 & 64 &  0.003190009 &  0.025497201 &  0.0111553077 & -0.0079503301 & -0.0092678599 & -0.0002117366 & -0.003330029 &  0.004412672 &  0.007056397 & -1.543426e-02\\\\\n",
       "\\end{tabular}\n"
      ],
      "text/markdown": [
       "\n",
       "A data.frame: 6 x 15\n",
       "\n",
       "| <!--/--> | FID &lt;int&gt; | IID &lt;int&gt; | sex &lt;int&gt; | f3393 &lt;int&gt; | age &lt;int&gt; | PC1 &lt;dbl&gt; | PC2 &lt;dbl&gt; | PC3 &lt;dbl&gt; | PC4 &lt;dbl&gt; | PC5 &lt;dbl&gt; | PC6 &lt;dbl&gt; | PC7 &lt;dbl&gt; | PC8 &lt;dbl&gt; | PC9 &lt;dbl&gt; | PC10 &lt;dbl&gt; |\n",
       "|---|---|---|---|---|---|---|---|---|---|---|---|---|---|---|---|\n",
       "| 1 | 1000081 | 1000081 | 0 | 0 | 67 |  0.134658064 |  0.014188187 |  0.0135583292 |  0.0143258827 |  0.0085594803 |  0.0075761687 | -0.010186438 | -0.001022228 |  0.008934933 | -2.508883e-03 |\n",
       "| 2 | 1000236 | 1000236 | 0 | 0 | 70 |  0.008812187 | -0.011456550 | -0.0233585109 |  0.0081630403 | -0.0029101523 | -0.0194662282 |  0.007941112 |  0.008567680 | -0.006907107 | -3.616751e-02 |\n",
       "| 3 | 1000331 | 1000331 | 1 | 0 | 53 |  0.080859632 |  0.003496805 | -0.0029620121 | -0.0034742864 | -0.0009168386 | -0.0114138724 | -0.028556378 |  0.006783471 | -0.013180153 | -1.621851e-02 |\n",
       "| 4 | 1000340 | 1000340 | 1 | 0 | 54 | -0.012457360 |  0.005989548 | -0.0095406987 |  0.0009187248 |  0.0026318657 |  0.0071420228 | -0.005840268 | -0.001536171 |  0.002371991 | -9.876745e-05 |\n",
       "| 5 | 1000415 | 1000415 | 0 | 0 | 65 | -0.018346574 |  0.053126182 | -0.0005572422 | -0.0018209019 | -0.0180591232 |  0.0026329042 | -0.008080767 |  0.024710975 | -0.001029565 |  5.543847e-03 |\n",
       "| 6 | 1000421 | 1000421 | 1 | 0 | 64 |  0.003190009 |  0.025497201 |  0.0111553077 | -0.0079503301 | -0.0092678599 | -0.0002117366 | -0.003330029 |  0.004412672 |  0.007056397 | -1.543426e-02 |\n",
       "\n"
      ],
      "text/plain": [
       "  FID     IID     sex f3393 age PC1          PC2          PC3          \n",
       "1 1000081 1000081 0   0     67   0.134658064  0.014188187  0.0135583292\n",
       "2 1000236 1000236 0   0     70   0.008812187 -0.011456550 -0.0233585109\n",
       "3 1000331 1000331 1   0     53   0.080859632  0.003496805 -0.0029620121\n",
       "4 1000340 1000340 1   0     54  -0.012457360  0.005989548 -0.0095406987\n",
       "5 1000415 1000415 0   0     65  -0.018346574  0.053126182 -0.0005572422\n",
       "6 1000421 1000421 1   0     64   0.003190009  0.025497201  0.0111553077\n",
       "  PC4           PC5           PC6           PC7          PC8         \n",
       "1  0.0143258827  0.0085594803  0.0075761687 -0.010186438 -0.001022228\n",
       "2  0.0081630403 -0.0029101523 -0.0194662282  0.007941112  0.008567680\n",
       "3 -0.0034742864 -0.0009168386 -0.0114138724 -0.028556378  0.006783471\n",
       "4  0.0009187248  0.0026318657  0.0071420228 -0.005840268 -0.001536171\n",
       "5 -0.0018209019 -0.0180591232  0.0026329042 -0.008080767  0.024710975\n",
       "6 -0.0079503301 -0.0092678599 -0.0002117366 -0.003330029  0.004412672\n",
       "  PC9          PC10         \n",
       "1  0.008934933 -2.508883e-03\n",
       "2 -0.006907107 -3.616751e-02\n",
       "3 -0.013180153 -1.621851e-02\n",
       "4  0.002371991 -9.876745e-05\n",
       "5 -0.001029565  5.543847e-03\n",
       "6  0.007056397 -1.543426e-02"
      ]
     },
     "metadata": {},
     "output_type": "display_data"
    }
   ],
   "source": [
    "f3393 <- merge(pheno, pca, by = c('FID', 'IID'), all.y=TRUE)\n",
    "head(f3393)\n",
    "dim(f3393)\n",
    "library(dplyr)\n",
    "f3393_final <- select(f3393, -c('ID', 'ethnicity'))\n",
    "head(f3393_final)"
   ]
  },
  {
   "cell_type": "code",
   "execution_count": 18,
   "id": "022e709b-9e23-4c96-ba31-4f25ae896abe",
   "metadata": {
    "kernel": "R"
   },
   "outputs": [],
   "source": [
    "write.table(f3393_final, \"/mnt/vast/hpc/csg/UKBiobank/results/ARHI_heritability/pheno_files/090321_UKBB_Hearing_aid_f3393_expandedwhite_6436cases_96601ctrl.PC1_10.common80K.greml_pheno\", sep=\"\\t\", row.names = FALSE, col.names =TRUE, quote=FALSE)"
   ]
  },
  {
   "cell_type": "markdown",
   "id": "37ac8e67-de5e-4c34-b5a0-7ec5a5fd3501",
   "metadata": {
    "kernel": "R"
   },
   "source": [
    "### PCA for f3393 rare variants in the 50K group"
   ]
  },
  {
   "cell_type": "markdown",
   "id": "918d28ef-c276-4a2b-aff1-0a967b5940a5",
   "metadata": {
    "kernel": "R"
   },
   "source": [
    "#### Step 1"
   ]
  },
  {
   "cell_type": "code",
   "execution_count": 2,
   "id": "2ed9ef7d-dede-4d89-b72f-2e27fdfdfcf6",
   "metadata": {
    "kernel": "Bash"
   },
   "outputs": [
    {
     "name": "stdout",
     "output_type": "stream",
     "text": [
      "INFO: Running \u001b[32mcsg\u001b[0m: Configuration for Columbia csg partition cluster\n",
      "INFO: \u001b[32mcsg\u001b[0m is \u001b[32mcompleted\u001b[0m.\n",
      "INFO: \u001b[32mcsg\u001b[0m output:   \u001b[32m/mnt/mfs/statgen/UKBiobank/results/ARHI_heritability/052622_pca_rare_50K/rare50K_pca_f3393_exome_2022-05-26.sbatch\u001b[0m\n",
      "INFO: Workflow csg (ID=w31b939c960d416df) is executed successfully with 1 completed step.\n",
      "\n"
     ]
    }
   ],
   "source": [
    "## Columbia's cluster\n",
    "cwd=/mnt/vast/hpc/csg/UKBiobank/results/ARHI_heritability/052622_pca_rare_50K/f3393\n",
    "gwas_sbatch=/mnt/vast/hpc/csg/UKBiobank/results/ARHI_heritability/052622_pca_rare_50K/rare50K_pca_f3393_exome_$(date +\"%Y-%m-%d\").sbatch\n",
    "## Use qc'ed genotype array\n",
    "genoFile=/mnt/vast/hpc/csg/UKBiobank/results/ARHI_heritability/052022_ldprun_rare/*.prune.bed\n",
    "keep_samples=/mnt/vast/hpc/csg/UKBiobank/results/ARHI_heritability/pheno_files/090321_UKBB_Hearing_aid_f3393_expandedwhite_6436cases_96601ctrl.PC1_10.50Ksubset.keep_id\n",
    "\n",
    "#GWAS QC variables set all of this variables to 0 to avoid doing more filtering\n",
    "maf_filter=0\n",
    "geno_filter=0\n",
    "hwe_filter=0\n",
    "mind_filter=0\n",
    "numThreads=1\n",
    "mem='30G'\n",
    "gwasqc_sos=~/project/xqtl-pipeline/code/data_preprocessing/genotype/GWAS_QC.ipynb\n",
    "tpl_file=~/project/bioworkflows/admin/csg.yml\n",
    "container=~/containers/bioinfo.sif\n",
    "\n",
    "gwasqc_args=\"\"\"qc:1\n",
    "    --cwd $cwd\n",
    "    --genoFile $genoFile\n",
    "    --keep_samples $keep_samples\n",
    "    --maf_filter $maf_filter\n",
    "    --geno_filter $geno_filter\n",
    "    --hwe_filter $hwe_filter\n",
    "    --mind_filter $mind_filter\n",
    "    --numThreads $numThreads \n",
    "    --container $container\n",
    "    --mem $mem\n",
    "\"\"\"\n",
    "\n",
    "sos run ~/project/UKBB_GWAS_dev/admin/Get_Job_Script.ipynb csg \\\n",
    "    --template-file $tpl_file \\\n",
    "    --workflow-file $gwasqc_sos \\\n",
    "    --to-script $gwas_sbatch \\\n",
    "    --args \"$gwasqc_args\""
   ]
  },
  {
   "cell_type": "markdown",
   "id": "95c55c10-972a-4cc2-9909-182b0b35415f",
   "metadata": {
    "kernel": "Bash"
   },
   "source": [
    "#### Step 2. "
   ]
  },
  {
   "cell_type": "code",
   "execution_count": 3,
   "id": "666e2122-f2f8-4438-bb44-2eb771668553",
   "metadata": {
    "kernel": "Bash"
   },
   "outputs": [
    {
     "name": "stdout",
     "output_type": "stream",
     "text": [
      "INFO: Running \u001b[32mcsg\u001b[0m: Configuration for Columbia csg partition cluster\n",
      "INFO: \u001b[32mcsg\u001b[0m is \u001b[32mcompleted\u001b[0m.\n",
      "INFO: \u001b[32mcsg\u001b[0m output:   \u001b[32m/mnt/mfs/statgen/UKBiobank/results/ARHI_heritability/052622_pca_rare_50K/flashpca_f3393_rare50k_2022-05-31.sbatch\u001b[0m\n",
      "INFO: Workflow csg (ID=w2faab7fac9677616) is executed successfully with 1 completed step.\n",
      "\n"
     ]
    }
   ],
   "source": [
    "## Columbia's cluster\n",
    "cwd=/mnt/vast/hpc/csg/UKBiobank/results/ARHI_heritability/052622_pca_rare_50K/f3393\n",
    "#This is the bfile obtained in step 1\n",
    "genoFile=/mnt/vast/hpc/csg/UKBiobank/results/ARHI_heritability/052622_pca_rare_50K/f3393/ukb23156_merged_eur_unrel_rarevarsMAFbelow0.01.filtered.prune.filtered.bed\n",
    "# Format FID, IID, pop\n",
    "phenoFile=/mnt/vast/hpc/csg/UKBiobank/results/083021_PCA_results/090321_UKBB_Hearing_aid_f3393_expandedwhite_6436cases_96601ctrl.phenopca\n",
    "label_col=ethnicity\n",
    "pop_col=ethnicity\n",
    "pca_sbatch=/mnt/vast/hpc/csg/UKBiobank/results/ARHI_heritability/052622_pca_rare_50K/flashpca_f3393_rare50k_$(date +\"%Y-%m-%d\").sbatch\n",
    "k=10\n",
    "min_axis=0\n",
    "max_axis=0\n",
    "pca_sos=~/project/xqtl-pipeline/code/data_preprocessing/genotype/PCA.ipynb\n",
    "tpl_file=~/project/bioworkflows/admin/csg.yml\n",
    "container=/mnt/vast/hpc/csg/containers/flashpcaR.sif\n",
    "walltime='60h'\n",
    "\n",
    "pca_args=\"\"\"flashpca\n",
    "    --cwd $cwd\n",
    "    --genoFile $genoFile\n",
    "    --phenoFile $phenoFile\n",
    "    --k $k\n",
    "    --label_col $label_col\n",
    "    --pop_col $pop_col\n",
    "    --min_axis $min_axis\n",
    "    --max_axis $max_axis\n",
    "    --numThreads $numThreads \n",
    "    --container $container\n",
    "    --walltime $walltime\n",
    "\"\"\"\n",
    "\n",
    "sos run  ~/project/UKBB_GWAS_dev/admin/Get_Job_Script.ipynb csg\\\n",
    "    --template-file $tpl_file \\\n",
    "    --workflow-file $pca_sos \\\n",
    "    --to-script $pca_sbatch \\\n",
    "    --args \"$pca_args\""
   ]
  },
  {
   "cell_type": "markdown",
   "id": "4761c7a8-3ddb-49fc-a273-f8cd913f999b",
   "metadata": {
    "kernel": "Bash"
   },
   "source": [
    "#### Merge the phenofile 50K with the PC calculation for the available individuals (unrelated and white European) for rare variants"
   ]
  },
  {
   "cell_type": "code",
   "execution_count": 4,
   "id": "7cc37ff2-3ef5-4b57-85c9-da10c717cd2e",
   "metadata": {
    "kernel": "R",
    "tags": []
   },
   "outputs": [
    {
     "data": {
      "text/html": [
       "<table class=\"dataframe\">\n",
       "<caption>A data.frame: 6 x 5</caption>\n",
       "<thead>\n",
       "\t<tr><th></th><th scope=col>FID</th><th scope=col>IID</th><th scope=col>sex</th><th scope=col>f3393</th><th scope=col>age</th></tr>\n",
       "\t<tr><th></th><th scope=col>&lt;int&gt;</th><th scope=col>&lt;int&gt;</th><th scope=col>&lt;int&gt;</th><th scope=col>&lt;int&gt;</th><th scope=col>&lt;int&gt;</th></tr>\n",
       "</thead>\n",
       "<tbody>\n",
       "\t<tr><th scope=row>1</th><td>1001384</td><td>1001384</td><td>1</td><td>1</td><td>61</td></tr>\n",
       "\t<tr><th scope=row>2</th><td>1002548</td><td>1002548</td><td>0</td><td>1</td><td>62</td></tr>\n",
       "\t<tr><th scope=row>3</th><td>1002888</td><td>1002888</td><td>0</td><td>1</td><td>68</td></tr>\n",
       "\t<tr><th scope=row>4</th><td>1002944</td><td>1002944</td><td>0</td><td>1</td><td>65</td></tr>\n",
       "\t<tr><th scope=row>5</th><td>1003258</td><td>1003258</td><td>0</td><td>1</td><td>74</td></tr>\n",
       "\t<tr><th scope=row>6</th><td>1004843</td><td>1004843</td><td>0</td><td>1</td><td>64</td></tr>\n",
       "</tbody>\n",
       "</table>\n"
      ],
      "text/latex": [
       "A data.frame: 6 x 5\n",
       "\\begin{tabular}{r|lllll}\n",
       "  & FID & IID & sex & f3393 & age\\\\\n",
       "  & <int> & <int> & <int> & <int> & <int>\\\\\n",
       "\\hline\n",
       "\t1 & 1001384 & 1001384 & 1 & 1 & 61\\\\\n",
       "\t2 & 1002548 & 1002548 & 0 & 1 & 62\\\\\n",
       "\t3 & 1002888 & 1002888 & 0 & 1 & 68\\\\\n",
       "\t4 & 1002944 & 1002944 & 0 & 1 & 65\\\\\n",
       "\t5 & 1003258 & 1003258 & 0 & 1 & 74\\\\\n",
       "\t6 & 1004843 & 1004843 & 0 & 1 & 64\\\\\n",
       "\\end{tabular}\n"
      ],
      "text/markdown": [
       "\n",
       "A data.frame: 6 x 5\n",
       "\n",
       "| <!--/--> | FID &lt;int&gt; | IID &lt;int&gt; | sex &lt;int&gt; | f3393 &lt;int&gt; | age &lt;int&gt; |\n",
       "|---|---|---|---|---|---|\n",
       "| 1 | 1001384 | 1001384 | 1 | 1 | 61 |\n",
       "| 2 | 1002548 | 1002548 | 0 | 1 | 62 |\n",
       "| 3 | 1002888 | 1002888 | 0 | 1 | 68 |\n",
       "| 4 | 1002944 | 1002944 | 0 | 1 | 65 |\n",
       "| 5 | 1003258 | 1003258 | 0 | 1 | 74 |\n",
       "| 6 | 1004843 | 1004843 | 0 | 1 | 64 |\n",
       "\n"
      ],
      "text/plain": [
       "  FID     IID     sex f3393 age\n",
       "1 1001384 1001384 1   1     61 \n",
       "2 1002548 1002548 0   1     62 \n",
       "3 1002888 1002888 0   1     68 \n",
       "4 1002944 1002944 0   1     65 \n",
       "5 1003258 1003258 0   1     74 \n",
       "6 1004843 1004843 0   1     64 "
      ]
     },
     "metadata": {},
     "output_type": "display_data"
    },
    {
     "data": {
      "text/html": [
       "<style>\n",
       ".list-inline {list-style: none; margin:0; padding: 0}\n",
       ".list-inline>li {display: inline-block}\n",
       ".list-inline>li:not(:last-child)::after {content: \"\\00b7\"; padding: 0 .5ex}\n",
       "</style>\n",
       "<ol class=list-inline><li>103037</li><li>5</li></ol>\n"
      ],
      "text/latex": [
       "\\begin{enumerate*}\n",
       "\\item 103037\n",
       "\\item 5\n",
       "\\end{enumerate*}\n"
      ],
      "text/markdown": [
       "1. 103037\n",
       "2. 5\n",
       "\n",
       "\n"
      ],
      "text/plain": [
       "[1] 103037      5"
      ]
     },
     "metadata": {},
     "output_type": "display_data"
    }
   ],
   "source": [
    "pheno <- read.table(\"~/UKBiobank/phenotype_files/hearing_impairment/090321_UKBB_Hearing_aid_f3393_expandedwhite_6436cases_96601ctrl\", header=T)\n",
    "head(pheno)\n",
    "dim(pheno)"
   ]
  },
  {
   "cell_type": "code",
   "execution_count": 5,
   "id": "f54a930c-58ca-4853-b56a-714b6588dd6a",
   "metadata": {
    "kernel": "R",
    "tags": []
   },
   "outputs": [
    {
     "data": {
      "text/html": [
       "<table class=\"dataframe\">\n",
       "<caption>A data.frame: 6 x 14</caption>\n",
       "<thead>\n",
       "\t<tr><th></th><th scope=col>ID</th><th scope=col>FID</th><th scope=col>IID</th><th scope=col>ethnicity</th><th scope=col>PC1</th><th scope=col>PC2</th><th scope=col>PC3</th><th scope=col>PC4</th><th scope=col>PC5</th><th scope=col>PC6</th><th scope=col>PC7</th><th scope=col>PC8</th><th scope=col>PC9</th><th scope=col>PC10</th></tr>\n",
       "\t<tr><th></th><th scope=col>&lt;fct&gt;</th><th scope=col>&lt;int&gt;</th><th scope=col>&lt;int&gt;</th><th scope=col>&lt;fct&gt;</th><th scope=col>&lt;dbl&gt;</th><th scope=col>&lt;dbl&gt;</th><th scope=col>&lt;dbl&gt;</th><th scope=col>&lt;dbl&gt;</th><th scope=col>&lt;dbl&gt;</th><th scope=col>&lt;dbl&gt;</th><th scope=col>&lt;dbl&gt;</th><th scope=col>&lt;dbl&gt;</th><th scope=col>&lt;dbl&gt;</th><th scope=col>&lt;dbl&gt;</th></tr>\n",
       "</thead>\n",
       "<tbody>\n",
       "\t<tr><th scope=row>1</th><td>1000081:1000081</td><td>1000081</td><td>1000081</td><td>British                   </td><td>-0.0019568461</td><td>-3.087856e-04</td><td>-0.0020169598</td><td>-1.798777e-03</td><td> 1.177783e-03</td><td>-0.0033622210</td><td> 0.0121367445</td><td>-0.0020889197</td><td>-0.0056102374</td><td> 7.451252e-04</td></tr>\n",
       "\t<tr><th scope=row>2</th><td>1000331:1000331</td><td>1000331</td><td>1000331</td><td>Any_other_white_background</td><td>-0.0004171203</td><td>-1.401596e-04</td><td>-0.0003095201</td><td>-2.111360e-04</td><td> 6.992100e-04</td><td>-0.0036493841</td><td> 0.0039540739</td><td>-0.0017140885</td><td>-0.0034396176</td><td>-1.264749e-03</td></tr>\n",
       "\t<tr><th scope=row>3</th><td>1000340:1000340</td><td>1000340</td><td>1000340</td><td>British                   </td><td> 0.0001734360</td><td> 5.561481e-05</td><td> 0.0001703869</td><td> 6.928099e-05</td><td>-9.218887e-05</td><td> 0.0002012874</td><td>-0.0005118113</td><td> 0.0001987724</td><td> 0.0002680850</td><td>-1.621820e-04</td></tr>\n",
       "\t<tr><th scope=row>4</th><td>1000421:1000421</td><td>1000421</td><td>1000421</td><td>British                   </td><td> 0.0002647704</td><td> 9.941067e-05</td><td> 0.0002086665</td><td> 1.034935e-04</td><td>-8.353187e-05</td><td> 0.0002334827</td><td>-0.0004849626</td><td> 0.0003358854</td><td> 0.0006122641</td><td> 1.673864e-04</td></tr>\n",
       "\t<tr><th scope=row>5</th><td>1000439:1000439</td><td>1000439</td><td>1000439</td><td>British                   </td><td> 0.0002492869</td><td> 1.016217e-04</td><td> 0.0001869445</td><td> 1.501699e-04</td><td>-1.035148e-04</td><td> 0.0001889980</td><td>-0.0005558054</td><td> 0.0001782244</td><td> 0.0001964613</td><td> 8.653552e-05</td></tr>\n",
       "\t<tr><th scope=row>6</th><td>1000752:1000752</td><td>1000752</td><td>1000752</td><td>British                   </td><td> 0.0001850879</td><td> 7.896201e-05</td><td> 0.0001708455</td><td> 1.109150e-04</td><td>-2.766921e-05</td><td> 0.0002038623</td><td>-0.0006285896</td><td> 0.0002629819</td><td> 0.0001643356</td><td>-2.829154e-05</td></tr>\n",
       "</tbody>\n",
       "</table>\n"
      ],
      "text/latex": [
       "A data.frame: 6 x 14\n",
       "\\begin{tabular}{r|llllllllllllll}\n",
       "  & ID & FID & IID & ethnicity & PC1 & PC2 & PC3 & PC4 & PC5 & PC6 & PC7 & PC8 & PC9 & PC10\\\\\n",
       "  & <fct> & <int> & <int> & <fct> & <dbl> & <dbl> & <dbl> & <dbl> & <dbl> & <dbl> & <dbl> & <dbl> & <dbl> & <dbl>\\\\\n",
       "\\hline\n",
       "\t1 & 1000081:1000081 & 1000081 & 1000081 & British                    & -0.0019568461 & -3.087856e-04 & -0.0020169598 & -1.798777e-03 &  1.177783e-03 & -0.0033622210 &  0.0121367445 & -0.0020889197 & -0.0056102374 &  7.451252e-04\\\\\n",
       "\t2 & 1000331:1000331 & 1000331 & 1000331 & Any\\_other\\_white\\_background & -0.0004171203 & -1.401596e-04 & -0.0003095201 & -2.111360e-04 &  6.992100e-04 & -0.0036493841 &  0.0039540739 & -0.0017140885 & -0.0034396176 & -1.264749e-03\\\\\n",
       "\t3 & 1000340:1000340 & 1000340 & 1000340 & British                    &  0.0001734360 &  5.561481e-05 &  0.0001703869 &  6.928099e-05 & -9.218887e-05 &  0.0002012874 & -0.0005118113 &  0.0001987724 &  0.0002680850 & -1.621820e-04\\\\\n",
       "\t4 & 1000421:1000421 & 1000421 & 1000421 & British                    &  0.0002647704 &  9.941067e-05 &  0.0002086665 &  1.034935e-04 & -8.353187e-05 &  0.0002334827 & -0.0004849626 &  0.0003358854 &  0.0006122641 &  1.673864e-04\\\\\n",
       "\t5 & 1000439:1000439 & 1000439 & 1000439 & British                    &  0.0002492869 &  1.016217e-04 &  0.0001869445 &  1.501699e-04 & -1.035148e-04 &  0.0001889980 & -0.0005558054 &  0.0001782244 &  0.0001964613 &  8.653552e-05\\\\\n",
       "\t6 & 1000752:1000752 & 1000752 & 1000752 & British                    &  0.0001850879 &  7.896201e-05 &  0.0001708455 &  1.109150e-04 & -2.766921e-05 &  0.0002038623 & -0.0006285896 &  0.0002629819 &  0.0001643356 & -2.829154e-05\\\\\n",
       "\\end{tabular}\n"
      ],
      "text/markdown": [
       "\n",
       "A data.frame: 6 x 14\n",
       "\n",
       "| <!--/--> | ID &lt;fct&gt; | FID &lt;int&gt; | IID &lt;int&gt; | ethnicity &lt;fct&gt; | PC1 &lt;dbl&gt; | PC2 &lt;dbl&gt; | PC3 &lt;dbl&gt; | PC4 &lt;dbl&gt; | PC5 &lt;dbl&gt; | PC6 &lt;dbl&gt; | PC7 &lt;dbl&gt; | PC8 &lt;dbl&gt; | PC9 &lt;dbl&gt; | PC10 &lt;dbl&gt; |\n",
       "|---|---|---|---|---|---|---|---|---|---|---|---|---|---|---|\n",
       "| 1 | 1000081:1000081 | 1000081 | 1000081 | British                    | -0.0019568461 | -3.087856e-04 | -0.0020169598 | -1.798777e-03 |  1.177783e-03 | -0.0033622210 |  0.0121367445 | -0.0020889197 | -0.0056102374 |  7.451252e-04 |\n",
       "| 2 | 1000331:1000331 | 1000331 | 1000331 | Any_other_white_background | -0.0004171203 | -1.401596e-04 | -0.0003095201 | -2.111360e-04 |  6.992100e-04 | -0.0036493841 |  0.0039540739 | -0.0017140885 | -0.0034396176 | -1.264749e-03 |\n",
       "| 3 | 1000340:1000340 | 1000340 | 1000340 | British                    |  0.0001734360 |  5.561481e-05 |  0.0001703869 |  6.928099e-05 | -9.218887e-05 |  0.0002012874 | -0.0005118113 |  0.0001987724 |  0.0002680850 | -1.621820e-04 |\n",
       "| 4 | 1000421:1000421 | 1000421 | 1000421 | British                    |  0.0002647704 |  9.941067e-05 |  0.0002086665 |  1.034935e-04 | -8.353187e-05 |  0.0002334827 | -0.0004849626 |  0.0003358854 |  0.0006122641 |  1.673864e-04 |\n",
       "| 5 | 1000439:1000439 | 1000439 | 1000439 | British                    |  0.0002492869 |  1.016217e-04 |  0.0001869445 |  1.501699e-04 | -1.035148e-04 |  0.0001889980 | -0.0005558054 |  0.0001782244 |  0.0001964613 |  8.653552e-05 |\n",
       "| 6 | 1000752:1000752 | 1000752 | 1000752 | British                    |  0.0001850879 |  7.896201e-05 |  0.0001708455 |  1.109150e-04 | -2.766921e-05 |  0.0002038623 | -0.0006285896 |  0.0002629819 |  0.0001643356 | -2.829154e-05 |\n",
       "\n"
      ],
      "text/plain": [
       "  ID              FID     IID     ethnicity                  PC1          \n",
       "1 1000081:1000081 1000081 1000081 British                    -0.0019568461\n",
       "2 1000331:1000331 1000331 1000331 Any_other_white_background -0.0004171203\n",
       "3 1000340:1000340 1000340 1000340 British                     0.0001734360\n",
       "4 1000421:1000421 1000421 1000421 British                     0.0002647704\n",
       "5 1000439:1000439 1000439 1000439 British                     0.0002492869\n",
       "6 1000752:1000752 1000752 1000752 British                     0.0001850879\n",
       "  PC2           PC3           PC4           PC5           PC6          \n",
       "1 -3.087856e-04 -0.0020169598 -1.798777e-03  1.177783e-03 -0.0033622210\n",
       "2 -1.401596e-04 -0.0003095201 -2.111360e-04  6.992100e-04 -0.0036493841\n",
       "3  5.561481e-05  0.0001703869  6.928099e-05 -9.218887e-05  0.0002012874\n",
       "4  9.941067e-05  0.0002086665  1.034935e-04 -8.353187e-05  0.0002334827\n",
       "5  1.016217e-04  0.0001869445  1.501699e-04 -1.035148e-04  0.0001889980\n",
       "6  7.896201e-05  0.0001708455  1.109150e-04 -2.766921e-05  0.0002038623\n",
       "  PC7           PC8           PC9           PC10         \n",
       "1  0.0121367445 -0.0020889197 -0.0056102374  7.451252e-04\n",
       "2  0.0039540739 -0.0017140885 -0.0034396176 -1.264749e-03\n",
       "3 -0.0005118113  0.0001987724  0.0002680850 -1.621820e-04\n",
       "4 -0.0004849626  0.0003358854  0.0006122641  1.673864e-04\n",
       "5 -0.0005558054  0.0001782244  0.0001964613  8.653552e-05\n",
       "6 -0.0006285896  0.0002629819  0.0001643356 -2.829154e-05"
      ]
     },
     "metadata": {},
     "output_type": "display_data"
    },
    {
     "data": {
      "text/html": [
       "<style>\n",
       ".list-inline {list-style: none; margin:0; padding: 0}\n",
       ".list-inline>li {display: inline-block}\n",
       ".list-inline>li:not(:last-child)::after {content: \"\\00b7\"; padding: 0 .5ex}\n",
       "</style>\n",
       "<ol class=list-inline><li>50000</li><li>14</li></ol>\n"
      ],
      "text/latex": [
       "\\begin{enumerate*}\n",
       "\\item 50000\n",
       "\\item 14\n",
       "\\end{enumerate*}\n"
      ],
      "text/markdown": [
       "1. 50000\n",
       "2. 14\n",
       "\n",
       "\n"
      ],
      "text/plain": [
       "[1] 50000    14"
      ]
     },
     "metadata": {},
     "output_type": "display_data"
    }
   ],
   "source": [
    "pca <- read.table(\"~/UKBiobank/results/ARHI_heritability/052622_pca_rare_50K/f3393/090321_UKBB_Hearing_aid_f3393_expandedwhite_6436cases_96601ctrl.pca.txt\", header=T)\n",
    "head(pca)\n",
    "dim(pca)"
   ]
  },
  {
   "cell_type": "code",
   "execution_count": 6,
   "id": "35661b8c-f6b4-40d0-b315-cb2e6f1876bb",
   "metadata": {
    "kernel": "R",
    "tags": []
   },
   "outputs": [
    {
     "data": {
      "text/html": [
       "<table class=\"dataframe\">\n",
       "<caption>A data.frame: 6 x 17</caption>\n",
       "<thead>\n",
       "\t<tr><th></th><th scope=col>FID</th><th scope=col>IID</th><th scope=col>sex</th><th scope=col>f3393</th><th scope=col>age</th><th scope=col>ID</th><th scope=col>ethnicity</th><th scope=col>PC1</th><th scope=col>PC2</th><th scope=col>PC3</th><th scope=col>PC4</th><th scope=col>PC5</th><th scope=col>PC6</th><th scope=col>PC7</th><th scope=col>PC8</th><th scope=col>PC9</th><th scope=col>PC10</th></tr>\n",
       "\t<tr><th></th><th scope=col>&lt;int&gt;</th><th scope=col>&lt;int&gt;</th><th scope=col>&lt;int&gt;</th><th scope=col>&lt;int&gt;</th><th scope=col>&lt;int&gt;</th><th scope=col>&lt;fct&gt;</th><th scope=col>&lt;fct&gt;</th><th scope=col>&lt;dbl&gt;</th><th scope=col>&lt;dbl&gt;</th><th scope=col>&lt;dbl&gt;</th><th scope=col>&lt;dbl&gt;</th><th scope=col>&lt;dbl&gt;</th><th scope=col>&lt;dbl&gt;</th><th scope=col>&lt;dbl&gt;</th><th scope=col>&lt;dbl&gt;</th><th scope=col>&lt;dbl&gt;</th><th scope=col>&lt;dbl&gt;</th></tr>\n",
       "</thead>\n",
       "<tbody>\n",
       "\t<tr><th scope=row>1</th><td>1000081</td><td>1000081</td><td>0</td><td>0</td><td>67</td><td>1000081:1000081</td><td>British                   </td><td>-0.0019568461</td><td>-3.087856e-04</td><td>-0.0020169598</td><td>-1.798777e-03</td><td> 1.177783e-03</td><td>-0.0033622210</td><td> 0.0121367445</td><td>-0.0020889197</td><td>-0.0056102374</td><td> 7.451252e-04</td></tr>\n",
       "\t<tr><th scope=row>2</th><td>1000331</td><td>1000331</td><td>1</td><td>0</td><td>53</td><td>1000331:1000331</td><td>Any_other_white_background</td><td>-0.0004171203</td><td>-1.401596e-04</td><td>-0.0003095201</td><td>-2.111360e-04</td><td> 6.992100e-04</td><td>-0.0036493841</td><td> 0.0039540739</td><td>-0.0017140885</td><td>-0.0034396176</td><td>-1.264749e-03</td></tr>\n",
       "\t<tr><th scope=row>3</th><td>1000340</td><td>1000340</td><td>1</td><td>0</td><td>54</td><td>1000340:1000340</td><td>British                   </td><td> 0.0001734360</td><td> 5.561481e-05</td><td> 0.0001703869</td><td> 6.928099e-05</td><td>-9.218887e-05</td><td> 0.0002012874</td><td>-0.0005118113</td><td> 0.0001987724</td><td> 0.0002680850</td><td>-1.621820e-04</td></tr>\n",
       "\t<tr><th scope=row>4</th><td>1000421</td><td>1000421</td><td>1</td><td>0</td><td>64</td><td>1000421:1000421</td><td>British                   </td><td> 0.0002647704</td><td> 9.941067e-05</td><td> 0.0002086665</td><td> 1.034935e-04</td><td>-8.353187e-05</td><td> 0.0002334827</td><td>-0.0004849626</td><td> 0.0003358854</td><td> 0.0006122641</td><td> 1.673864e-04</td></tr>\n",
       "\t<tr><th scope=row>5</th><td>1000439</td><td>1000439</td><td>1</td><td>0</td><td>59</td><td>1000439:1000439</td><td>British                   </td><td> 0.0002492869</td><td> 1.016217e-04</td><td> 0.0001869445</td><td> 1.501699e-04</td><td>-1.035148e-04</td><td> 0.0001889980</td><td>-0.0005558054</td><td> 0.0001782244</td><td> 0.0001964613</td><td> 8.653552e-05</td></tr>\n",
       "\t<tr><th scope=row>6</th><td>1000752</td><td>1000752</td><td>1</td><td>0</td><td>53</td><td>1000752:1000752</td><td>British                   </td><td> 0.0001850879</td><td> 7.896201e-05</td><td> 0.0001708455</td><td> 1.109150e-04</td><td>-2.766921e-05</td><td> 0.0002038623</td><td>-0.0006285896</td><td> 0.0002629819</td><td> 0.0001643356</td><td>-2.829154e-05</td></tr>\n",
       "</tbody>\n",
       "</table>\n"
      ],
      "text/latex": [
       "A data.frame: 6 x 17\n",
       "\\begin{tabular}{r|lllllllllllllllll}\n",
       "  & FID & IID & sex & f3393 & age & ID & ethnicity & PC1 & PC2 & PC3 & PC4 & PC5 & PC6 & PC7 & PC8 & PC9 & PC10\\\\\n",
       "  & <int> & <int> & <int> & <int> & <int> & <fct> & <fct> & <dbl> & <dbl> & <dbl> & <dbl> & <dbl> & <dbl> & <dbl> & <dbl> & <dbl> & <dbl>\\\\\n",
       "\\hline\n",
       "\t1 & 1000081 & 1000081 & 0 & 0 & 67 & 1000081:1000081 & British                    & -0.0019568461 & -3.087856e-04 & -0.0020169598 & -1.798777e-03 &  1.177783e-03 & -0.0033622210 &  0.0121367445 & -0.0020889197 & -0.0056102374 &  7.451252e-04\\\\\n",
       "\t2 & 1000331 & 1000331 & 1 & 0 & 53 & 1000331:1000331 & Any\\_other\\_white\\_background & -0.0004171203 & -1.401596e-04 & -0.0003095201 & -2.111360e-04 &  6.992100e-04 & -0.0036493841 &  0.0039540739 & -0.0017140885 & -0.0034396176 & -1.264749e-03\\\\\n",
       "\t3 & 1000340 & 1000340 & 1 & 0 & 54 & 1000340:1000340 & British                    &  0.0001734360 &  5.561481e-05 &  0.0001703869 &  6.928099e-05 & -9.218887e-05 &  0.0002012874 & -0.0005118113 &  0.0001987724 &  0.0002680850 & -1.621820e-04\\\\\n",
       "\t4 & 1000421 & 1000421 & 1 & 0 & 64 & 1000421:1000421 & British                    &  0.0002647704 &  9.941067e-05 &  0.0002086665 &  1.034935e-04 & -8.353187e-05 &  0.0002334827 & -0.0004849626 &  0.0003358854 &  0.0006122641 &  1.673864e-04\\\\\n",
       "\t5 & 1000439 & 1000439 & 1 & 0 & 59 & 1000439:1000439 & British                    &  0.0002492869 &  1.016217e-04 &  0.0001869445 &  1.501699e-04 & -1.035148e-04 &  0.0001889980 & -0.0005558054 &  0.0001782244 &  0.0001964613 &  8.653552e-05\\\\\n",
       "\t6 & 1000752 & 1000752 & 1 & 0 & 53 & 1000752:1000752 & British                    &  0.0001850879 &  7.896201e-05 &  0.0001708455 &  1.109150e-04 & -2.766921e-05 &  0.0002038623 & -0.0006285896 &  0.0002629819 &  0.0001643356 & -2.829154e-05\\\\\n",
       "\\end{tabular}\n"
      ],
      "text/markdown": [
       "\n",
       "A data.frame: 6 x 17\n",
       "\n",
       "| <!--/--> | FID &lt;int&gt; | IID &lt;int&gt; | sex &lt;int&gt; | f3393 &lt;int&gt; | age &lt;int&gt; | ID &lt;fct&gt; | ethnicity &lt;fct&gt; | PC1 &lt;dbl&gt; | PC2 &lt;dbl&gt; | PC3 &lt;dbl&gt; | PC4 &lt;dbl&gt; | PC5 &lt;dbl&gt; | PC6 &lt;dbl&gt; | PC7 &lt;dbl&gt; | PC8 &lt;dbl&gt; | PC9 &lt;dbl&gt; | PC10 &lt;dbl&gt; |\n",
       "|---|---|---|---|---|---|---|---|---|---|---|---|---|---|---|---|---|---|\n",
       "| 1 | 1000081 | 1000081 | 0 | 0 | 67 | 1000081:1000081 | British                    | -0.0019568461 | -3.087856e-04 | -0.0020169598 | -1.798777e-03 |  1.177783e-03 | -0.0033622210 |  0.0121367445 | -0.0020889197 | -0.0056102374 |  7.451252e-04 |\n",
       "| 2 | 1000331 | 1000331 | 1 | 0 | 53 | 1000331:1000331 | Any_other_white_background | -0.0004171203 | -1.401596e-04 | -0.0003095201 | -2.111360e-04 |  6.992100e-04 | -0.0036493841 |  0.0039540739 | -0.0017140885 | -0.0034396176 | -1.264749e-03 |\n",
       "| 3 | 1000340 | 1000340 | 1 | 0 | 54 | 1000340:1000340 | British                    |  0.0001734360 |  5.561481e-05 |  0.0001703869 |  6.928099e-05 | -9.218887e-05 |  0.0002012874 | -0.0005118113 |  0.0001987724 |  0.0002680850 | -1.621820e-04 |\n",
       "| 4 | 1000421 | 1000421 | 1 | 0 | 64 | 1000421:1000421 | British                    |  0.0002647704 |  9.941067e-05 |  0.0002086665 |  1.034935e-04 | -8.353187e-05 |  0.0002334827 | -0.0004849626 |  0.0003358854 |  0.0006122641 |  1.673864e-04 |\n",
       "| 5 | 1000439 | 1000439 | 1 | 0 | 59 | 1000439:1000439 | British                    |  0.0002492869 |  1.016217e-04 |  0.0001869445 |  1.501699e-04 | -1.035148e-04 |  0.0001889980 | -0.0005558054 |  0.0001782244 |  0.0001964613 |  8.653552e-05 |\n",
       "| 6 | 1000752 | 1000752 | 1 | 0 | 53 | 1000752:1000752 | British                    |  0.0001850879 |  7.896201e-05 |  0.0001708455 |  1.109150e-04 | -2.766921e-05 |  0.0002038623 | -0.0006285896 |  0.0002629819 |  0.0001643356 | -2.829154e-05 |\n",
       "\n"
      ],
      "text/plain": [
       "  FID     IID     sex f3393 age ID              ethnicity                 \n",
       "1 1000081 1000081 0   0     67  1000081:1000081 British                   \n",
       "2 1000331 1000331 1   0     53  1000331:1000331 Any_other_white_background\n",
       "3 1000340 1000340 1   0     54  1000340:1000340 British                   \n",
       "4 1000421 1000421 1   0     64  1000421:1000421 British                   \n",
       "5 1000439 1000439 1   0     59  1000439:1000439 British                   \n",
       "6 1000752 1000752 1   0     53  1000752:1000752 British                   \n",
       "  PC1           PC2           PC3           PC4           PC5          \n",
       "1 -0.0019568461 -3.087856e-04 -0.0020169598 -1.798777e-03  1.177783e-03\n",
       "2 -0.0004171203 -1.401596e-04 -0.0003095201 -2.111360e-04  6.992100e-04\n",
       "3  0.0001734360  5.561481e-05  0.0001703869  6.928099e-05 -9.218887e-05\n",
       "4  0.0002647704  9.941067e-05  0.0002086665  1.034935e-04 -8.353187e-05\n",
       "5  0.0002492869  1.016217e-04  0.0001869445  1.501699e-04 -1.035148e-04\n",
       "6  0.0001850879  7.896201e-05  0.0001708455  1.109150e-04 -2.766921e-05\n",
       "  PC6           PC7           PC8           PC9           PC10         \n",
       "1 -0.0033622210  0.0121367445 -0.0020889197 -0.0056102374  7.451252e-04\n",
       "2 -0.0036493841  0.0039540739 -0.0017140885 -0.0034396176 -1.264749e-03\n",
       "3  0.0002012874 -0.0005118113  0.0001987724  0.0002680850 -1.621820e-04\n",
       "4  0.0002334827 -0.0004849626  0.0003358854  0.0006122641  1.673864e-04\n",
       "5  0.0001889980 -0.0005558054  0.0001782244  0.0001964613  8.653552e-05\n",
       "6  0.0002038623 -0.0006285896  0.0002629819  0.0001643356 -2.829154e-05"
      ]
     },
     "metadata": {},
     "output_type": "display_data"
    },
    {
     "data": {
      "text/html": [
       "<style>\n",
       ".list-inline {list-style: none; margin:0; padding: 0}\n",
       ".list-inline>li {display: inline-block}\n",
       ".list-inline>li:not(:last-child)::after {content: \"\\00b7\"; padding: 0 .5ex}\n",
       "</style>\n",
       "<ol class=list-inline><li>50000</li><li>17</li></ol>\n"
      ],
      "text/latex": [
       "\\begin{enumerate*}\n",
       "\\item 50000\n",
       "\\item 17\n",
       "\\end{enumerate*}\n"
      ],
      "text/markdown": [
       "1. 50000\n",
       "2. 17\n",
       "\n",
       "\n"
      ],
      "text/plain": [
       "[1] 50000    17"
      ]
     },
     "metadata": {},
     "output_type": "display_data"
    },
    {
     "name": "stderr",
     "output_type": "stream",
     "text": [
      "\n",
      "Attaching package: ‘dplyr’\n",
      "\n",
      "\n",
      "The following objects are masked from ‘package:stats’:\n",
      "\n",
      "    filter, lag\n",
      "\n",
      "\n",
      "The following objects are masked from ‘package:base’:\n",
      "\n",
      "    intersect, setdiff, setequal, union\n",
      "\n",
      "\n"
     ]
    },
    {
     "data": {
      "text/html": [
       "<table class=\"dataframe\">\n",
       "<caption>A data.frame: 6 x 15</caption>\n",
       "<thead>\n",
       "\t<tr><th></th><th scope=col>FID</th><th scope=col>IID</th><th scope=col>sex</th><th scope=col>f3393</th><th scope=col>age</th><th scope=col>PC1</th><th scope=col>PC2</th><th scope=col>PC3</th><th scope=col>PC4</th><th scope=col>PC5</th><th scope=col>PC6</th><th scope=col>PC7</th><th scope=col>PC8</th><th scope=col>PC9</th><th scope=col>PC10</th></tr>\n",
       "\t<tr><th></th><th scope=col>&lt;int&gt;</th><th scope=col>&lt;int&gt;</th><th scope=col>&lt;int&gt;</th><th scope=col>&lt;int&gt;</th><th scope=col>&lt;int&gt;</th><th scope=col>&lt;dbl&gt;</th><th scope=col>&lt;dbl&gt;</th><th scope=col>&lt;dbl&gt;</th><th scope=col>&lt;dbl&gt;</th><th scope=col>&lt;dbl&gt;</th><th scope=col>&lt;dbl&gt;</th><th scope=col>&lt;dbl&gt;</th><th scope=col>&lt;dbl&gt;</th><th scope=col>&lt;dbl&gt;</th><th scope=col>&lt;dbl&gt;</th></tr>\n",
       "</thead>\n",
       "<tbody>\n",
       "\t<tr><th scope=row>1</th><td>1000081</td><td>1000081</td><td>0</td><td>0</td><td>67</td><td>-0.0019568461</td><td>-3.087856e-04</td><td>-0.0020169598</td><td>-1.798777e-03</td><td> 1.177783e-03</td><td>-0.0033622210</td><td> 0.0121367445</td><td>-0.0020889197</td><td>-0.0056102374</td><td> 7.451252e-04</td></tr>\n",
       "\t<tr><th scope=row>2</th><td>1000331</td><td>1000331</td><td>1</td><td>0</td><td>53</td><td>-0.0004171203</td><td>-1.401596e-04</td><td>-0.0003095201</td><td>-2.111360e-04</td><td> 6.992100e-04</td><td>-0.0036493841</td><td> 0.0039540739</td><td>-0.0017140885</td><td>-0.0034396176</td><td>-1.264749e-03</td></tr>\n",
       "\t<tr><th scope=row>3</th><td>1000340</td><td>1000340</td><td>1</td><td>0</td><td>54</td><td> 0.0001734360</td><td> 5.561481e-05</td><td> 0.0001703869</td><td> 6.928099e-05</td><td>-9.218887e-05</td><td> 0.0002012874</td><td>-0.0005118113</td><td> 0.0001987724</td><td> 0.0002680850</td><td>-1.621820e-04</td></tr>\n",
       "\t<tr><th scope=row>4</th><td>1000421</td><td>1000421</td><td>1</td><td>0</td><td>64</td><td> 0.0002647704</td><td> 9.941067e-05</td><td> 0.0002086665</td><td> 1.034935e-04</td><td>-8.353187e-05</td><td> 0.0002334827</td><td>-0.0004849626</td><td> 0.0003358854</td><td> 0.0006122641</td><td> 1.673864e-04</td></tr>\n",
       "\t<tr><th scope=row>5</th><td>1000439</td><td>1000439</td><td>1</td><td>0</td><td>59</td><td> 0.0002492869</td><td> 1.016217e-04</td><td> 0.0001869445</td><td> 1.501699e-04</td><td>-1.035148e-04</td><td> 0.0001889980</td><td>-0.0005558054</td><td> 0.0001782244</td><td> 0.0001964613</td><td> 8.653552e-05</td></tr>\n",
       "\t<tr><th scope=row>6</th><td>1000752</td><td>1000752</td><td>1</td><td>0</td><td>53</td><td> 0.0001850879</td><td> 7.896201e-05</td><td> 0.0001708455</td><td> 1.109150e-04</td><td>-2.766921e-05</td><td> 0.0002038623</td><td>-0.0006285896</td><td> 0.0002629819</td><td> 0.0001643356</td><td>-2.829154e-05</td></tr>\n",
       "</tbody>\n",
       "</table>\n"
      ],
      "text/latex": [
       "A data.frame: 6 x 15\n",
       "\\begin{tabular}{r|lllllllllllllll}\n",
       "  & FID & IID & sex & f3393 & age & PC1 & PC2 & PC3 & PC4 & PC5 & PC6 & PC7 & PC8 & PC9 & PC10\\\\\n",
       "  & <int> & <int> & <int> & <int> & <int> & <dbl> & <dbl> & <dbl> & <dbl> & <dbl> & <dbl> & <dbl> & <dbl> & <dbl> & <dbl>\\\\\n",
       "\\hline\n",
       "\t1 & 1000081 & 1000081 & 0 & 0 & 67 & -0.0019568461 & -3.087856e-04 & -0.0020169598 & -1.798777e-03 &  1.177783e-03 & -0.0033622210 &  0.0121367445 & -0.0020889197 & -0.0056102374 &  7.451252e-04\\\\\n",
       "\t2 & 1000331 & 1000331 & 1 & 0 & 53 & -0.0004171203 & -1.401596e-04 & -0.0003095201 & -2.111360e-04 &  6.992100e-04 & -0.0036493841 &  0.0039540739 & -0.0017140885 & -0.0034396176 & -1.264749e-03\\\\\n",
       "\t3 & 1000340 & 1000340 & 1 & 0 & 54 &  0.0001734360 &  5.561481e-05 &  0.0001703869 &  6.928099e-05 & -9.218887e-05 &  0.0002012874 & -0.0005118113 &  0.0001987724 &  0.0002680850 & -1.621820e-04\\\\\n",
       "\t4 & 1000421 & 1000421 & 1 & 0 & 64 &  0.0002647704 &  9.941067e-05 &  0.0002086665 &  1.034935e-04 & -8.353187e-05 &  0.0002334827 & -0.0004849626 &  0.0003358854 &  0.0006122641 &  1.673864e-04\\\\\n",
       "\t5 & 1000439 & 1000439 & 1 & 0 & 59 &  0.0002492869 &  1.016217e-04 &  0.0001869445 &  1.501699e-04 & -1.035148e-04 &  0.0001889980 & -0.0005558054 &  0.0001782244 &  0.0001964613 &  8.653552e-05\\\\\n",
       "\t6 & 1000752 & 1000752 & 1 & 0 & 53 &  0.0001850879 &  7.896201e-05 &  0.0001708455 &  1.109150e-04 & -2.766921e-05 &  0.0002038623 & -0.0006285896 &  0.0002629819 &  0.0001643356 & -2.829154e-05\\\\\n",
       "\\end{tabular}\n"
      ],
      "text/markdown": [
       "\n",
       "A data.frame: 6 x 15\n",
       "\n",
       "| <!--/--> | FID &lt;int&gt; | IID &lt;int&gt; | sex &lt;int&gt; | f3393 &lt;int&gt; | age &lt;int&gt; | PC1 &lt;dbl&gt; | PC2 &lt;dbl&gt; | PC3 &lt;dbl&gt; | PC4 &lt;dbl&gt; | PC5 &lt;dbl&gt; | PC6 &lt;dbl&gt; | PC7 &lt;dbl&gt; | PC8 &lt;dbl&gt; | PC9 &lt;dbl&gt; | PC10 &lt;dbl&gt; |\n",
       "|---|---|---|---|---|---|---|---|---|---|---|---|---|---|---|---|\n",
       "| 1 | 1000081 | 1000081 | 0 | 0 | 67 | -0.0019568461 | -3.087856e-04 | -0.0020169598 | -1.798777e-03 |  1.177783e-03 | -0.0033622210 |  0.0121367445 | -0.0020889197 | -0.0056102374 |  7.451252e-04 |\n",
       "| 2 | 1000331 | 1000331 | 1 | 0 | 53 | -0.0004171203 | -1.401596e-04 | -0.0003095201 | -2.111360e-04 |  6.992100e-04 | -0.0036493841 |  0.0039540739 | -0.0017140885 | -0.0034396176 | -1.264749e-03 |\n",
       "| 3 | 1000340 | 1000340 | 1 | 0 | 54 |  0.0001734360 |  5.561481e-05 |  0.0001703869 |  6.928099e-05 | -9.218887e-05 |  0.0002012874 | -0.0005118113 |  0.0001987724 |  0.0002680850 | -1.621820e-04 |\n",
       "| 4 | 1000421 | 1000421 | 1 | 0 | 64 |  0.0002647704 |  9.941067e-05 |  0.0002086665 |  1.034935e-04 | -8.353187e-05 |  0.0002334827 | -0.0004849626 |  0.0003358854 |  0.0006122641 |  1.673864e-04 |\n",
       "| 5 | 1000439 | 1000439 | 1 | 0 | 59 |  0.0002492869 |  1.016217e-04 |  0.0001869445 |  1.501699e-04 | -1.035148e-04 |  0.0001889980 | -0.0005558054 |  0.0001782244 |  0.0001964613 |  8.653552e-05 |\n",
       "| 6 | 1000752 | 1000752 | 1 | 0 | 53 |  0.0001850879 |  7.896201e-05 |  0.0001708455 |  1.109150e-04 | -2.766921e-05 |  0.0002038623 | -0.0006285896 |  0.0002629819 |  0.0001643356 | -2.829154e-05 |\n",
       "\n"
      ],
      "text/plain": [
       "  FID     IID     sex f3393 age PC1           PC2           PC3          \n",
       "1 1000081 1000081 0   0     67  -0.0019568461 -3.087856e-04 -0.0020169598\n",
       "2 1000331 1000331 1   0     53  -0.0004171203 -1.401596e-04 -0.0003095201\n",
       "3 1000340 1000340 1   0     54   0.0001734360  5.561481e-05  0.0001703869\n",
       "4 1000421 1000421 1   0     64   0.0002647704  9.941067e-05  0.0002086665\n",
       "5 1000439 1000439 1   0     59   0.0002492869  1.016217e-04  0.0001869445\n",
       "6 1000752 1000752 1   0     53   0.0001850879  7.896201e-05  0.0001708455\n",
       "  PC4           PC5           PC6           PC7           PC8          \n",
       "1 -1.798777e-03  1.177783e-03 -0.0033622210  0.0121367445 -0.0020889197\n",
       "2 -2.111360e-04  6.992100e-04 -0.0036493841  0.0039540739 -0.0017140885\n",
       "3  6.928099e-05 -9.218887e-05  0.0002012874 -0.0005118113  0.0001987724\n",
       "4  1.034935e-04 -8.353187e-05  0.0002334827 -0.0004849626  0.0003358854\n",
       "5  1.501699e-04 -1.035148e-04  0.0001889980 -0.0005558054  0.0001782244\n",
       "6  1.109150e-04 -2.766921e-05  0.0002038623 -0.0006285896  0.0002629819\n",
       "  PC9           PC10         \n",
       "1 -0.0056102374  7.451252e-04\n",
       "2 -0.0034396176 -1.264749e-03\n",
       "3  0.0002680850 -1.621820e-04\n",
       "4  0.0006122641  1.673864e-04\n",
       "5  0.0001964613  8.653552e-05\n",
       "6  0.0001643356 -2.829154e-05"
      ]
     },
     "metadata": {},
     "output_type": "display_data"
    }
   ],
   "source": [
    "f3393 <- merge(pheno, pca, by = c('FID', 'IID'), all.y=TRUE)\n",
    "head(f3393)\n",
    "dim(f3393)\n",
    "library(dplyr)\n",
    "f3393_final <- select(f3393, -c('ID', 'ethnicity'))\n",
    "head(f3393_final)"
   ]
  },
  {
   "cell_type": "code",
   "execution_count": 7,
   "id": "24f51c44-5854-469c-8e53-83f6b9904d22",
   "metadata": {
    "kernel": "R"
   },
   "outputs": [],
   "source": [
    "write.table(f3393_final, \"/mnt/vast/hpc/csg/UKBiobank/results/ARHI_heritability/pheno_files/090321_UKBB_Hearing_aid_f3393_expandedwhite_6436cases_96601ctrl.PC1_10.greml_pheno_rarevars\", sep=\"\\t\", row.names = FALSE, col.names =TRUE, quote=FALSE)"
   ]
  },
  {
   "cell_type": "markdown",
   "id": "7a9e2629-3349-4436-bc77-6d703bc26033",
   "metadata": {
    "kernel": "R"
   },
   "source": [
    "### PCA for f3393 rare variants in the 80K group"
   ]
  },
  {
   "cell_type": "markdown",
   "id": "dc34e219-03ce-4899-ac1b-2cd21f48a6f5",
   "metadata": {
    "kernel": "R"
   },
   "source": [
    "#### Step 1"
   ]
  },
  {
   "cell_type": "code",
   "execution_count": 11,
   "id": "ec933d82-9262-4e44-9288-b77ea8de09ce",
   "metadata": {
    "kernel": "Bash",
    "tags": []
   },
   "outputs": [
    {
     "name": "stdout",
     "output_type": "stream",
     "text": [
      "INFO: Running \u001b[32mcsg\u001b[0m: Configuration for Columbia csg partition cluster\n",
      "INFO: \u001b[32mcsg\u001b[0m (index=0) is \u001b[32mignored\u001b[0m due to saved signature\n",
      "INFO: \u001b[32mcsg\u001b[0m output:   \u001b[32m/mnt/mfs/statgen/UKBiobank/results/ARHI_heritability/060722_pca_rare_80K/rare80K_pca_f3393_exome_2022-06-07.sbatch\u001b[0m\n",
      "INFO: Workflow csg (ID=wa733fe160ca0d594) is ignored with 1 ignored step.\n",
      "\n"
     ]
    }
   ],
   "source": [
    "## Columbia's cluster\n",
    "cwd=/mnt/vast/hpc/csg/UKBiobank/results/ARHI_heritability/060722_pca_rare_80K/f3393\n",
    "gwas_sbatch=/mnt/vast/hpc/csg/UKBiobank/results/ARHI_heritability/060722_pca_rare_80K/rare80K_pca_f3393_exome_$(date +\"%Y-%m-%d\").sbatch\n",
    "## Use qc'ed genotype array\n",
    "genoFile=/mnt/vast/hpc/csg/UKBiobank/results/ARHI_heritability/052022_ldprun_rare/*.prune.bed\n",
    "keep_samples=/mnt/vast/hpc/csg/UKBiobank/results/ARHI_heritability/pheno_files/090321_UKBB_Hearing_aid_f3393_expandedwhite_6436cases_96601ctrl.PC1_10.80Ksubset.keep_id\n",
    "\n",
    "#GWAS QC variables set all of this variables to 0 to avoid doing more filtering\n",
    "maf_filter=0\n",
    "geno_filter=0\n",
    "hwe_filter=0\n",
    "mind_filter=0\n",
    "numThreads=1\n",
    "mem='30G'\n",
    "gwasqc_sos=~/project/xqtl-pipeline/code/data_preprocessing/genotype/GWAS_QC.ipynb\n",
    "tpl_file=~/project/bioworkflows/admin/csg.yml\n",
    "container=~/containers/bioinfo.sif\n",
    "\n",
    "gwasqc_args=\"\"\"qc:1\n",
    "    --cwd $cwd\n",
    "    --genoFile $genoFile\n",
    "    --keep_samples $keep_samples\n",
    "    --maf_filter $maf_filter\n",
    "    --geno_filter $geno_filter\n",
    "    --hwe_filter $hwe_filter\n",
    "    --mind_filter $mind_filter\n",
    "    --numThreads $numThreads \n",
    "    --container $container\n",
    "    --mem $mem\n",
    "\"\"\"\n",
    "\n",
    "sos run ~/project/UKBB_GWAS_dev/admin/Get_Job_Script.ipynb csg \\\n",
    "    --template-file $tpl_file \\\n",
    "    --workflow-file $gwasqc_sos \\\n",
    "    --to-script $gwas_sbatch \\\n",
    "    --args \"$gwasqc_args\""
   ]
  },
  {
   "cell_type": "markdown",
   "id": "c54d845b-f415-47fc-b671-7fd9170f5595",
   "metadata": {
    "kernel": "Bash"
   },
   "source": [
    "#### Step 2"
   ]
  },
  {
   "cell_type": "code",
   "execution_count": 22,
   "id": "6dc74021-9388-4f07-bc8d-f4433e1034b8",
   "metadata": {
    "kernel": "Bash"
   },
   "outputs": [
    {
     "name": "stdout",
     "output_type": "stream",
     "text": [
      "INFO: Running \u001b[32mcsg\u001b[0m: Configuration for Columbia csg partition cluster\n",
      "INFO: \u001b[32mcsg\u001b[0m is \u001b[32mcompleted\u001b[0m.\n",
      "INFO: \u001b[32mcsg\u001b[0m output:   \u001b[32m/mnt/mfs/statgen/UKBiobank/results/ARHI_heritability/060722_pca_rare_80K/flashpca_f3393_rare80k_2022-06-07.sbatch\u001b[0m\n",
      "INFO: Workflow csg (ID=w64f9966a6e8ac734) is executed successfully with 1 completed step.\n",
      "\n"
     ]
    }
   ],
   "source": [
    "## Columbia's cluster\n",
    "cwd=/mnt/vast/hpc/csg/UKBiobank/results/ARHI_heritability/060722_pca_rare_80K/f3393\n",
    "#This is the bfile obtained in step 1\n",
    "genoFile=/mnt/vast/hpc/csg/UKBiobank/results/ARHI_heritability/060722_pca_rare_80K/f3393/ukb23156_merged_eur_unrel_rarevarsMAFbelow0.01.filtered.prune.filtered.bed\n",
    "# Format FID, IID, pop\n",
    "phenoFile=/mnt/vast/hpc/csg/UKBiobank/results/083021_PCA_results/090321_UKBB_Hearing_aid_f3393_expandedwhite_6436cases_96601ctrl.phenopca\n",
    "label_col=ethnicity\n",
    "pop_col=ethnicity\n",
    "pca_sbatch=/mnt/vast/hpc/csg/UKBiobank/results/ARHI_heritability/060722_pca_rare_80K/flashpca_f3393_rare80k_$(date +\"%Y-%m-%d\").sbatch\n",
    "k=10\n",
    "min_axis=0\n",
    "max_axis=0\n",
    "pca_sos=~/project/xqtl-pipeline/code/data_preprocessing/genotype/PCA.ipynb\n",
    "tpl_file=~/project/bioworkflows/admin/csg.yml\n",
    "container=/mnt/vast/hpc/csg/containers/flashpcaR.sif\n",
    "walltime='60h'\n",
    "\n",
    "pca_args=\"\"\"flashpca\n",
    "    --cwd $cwd\n",
    "    --genoFile $genoFile\n",
    "    --phenoFile $phenoFile\n",
    "    --k $k\n",
    "    --label_col $label_col\n",
    "    --pop_col $pop_col\n",
    "    --min_axis $min_axis\n",
    "    --max_axis $max_axis\n",
    "    --numThreads $numThreads \n",
    "    --container $container\n",
    "    --walltime $walltime\n",
    "\"\"\"\n",
    "\n",
    "sos run  ~/project/UKBB_GWAS_dev/admin/Get_Job_Script.ipynb csg\\\n",
    "    --template-file $tpl_file \\\n",
    "    --workflow-file $pca_sos \\\n",
    "    --to-script $pca_sbatch \\\n",
    "    --args \"$pca_args\""
   ]
  },
  {
   "cell_type": "markdown",
   "id": "ecda8099-dbb4-42bd-85ce-c316b43c0647",
   "metadata": {
    "kernel": "Bash"
   },
   "source": [
    "# Calculate the heritability\n",
    "\n",
    "For a case-control study it should be estimated like\n",
    "\n",
    "```\n",
    "gcta64 --grm test --pheno test_cc.phen --reml --prevalence 0.01 --out test --thread-num 10\n",
    "```"
   ]
  },
  {
   "cell_type": "markdown",
   "id": "b8af2890-97c6-4356-8bc5-e514009d5941",
   "metadata": {
    "kernel": "R"
   },
   "source": [
    "## f3393 common variants"
   ]
  },
  {
   "cell_type": "markdown",
   "id": "db8619ad-de00-4184-a54a-e252ec6473dc",
   "metadata": {
    "kernel": "Bash"
   },
   "source": [
    "### Generate a random sample of 50.000 and 80.000 individuals for GREML computation"
   ]
  },
  {
   "cell_type": "code",
   "execution_count": 1,
   "id": "f540c0bf-21be-47b0-8492-5f51f2f8de85",
   "metadata": {
    "kernel": "Bash",
    "tags": []
   },
   "outputs": [
    {
     "name": "stdout",
     "output_type": "stream",
     "text": [
      "\n"
     ]
    },
    {
     "name": "stderr",
     "output_type": "stream",
     "text": [
      "/home/dmc2245/miniconda3/lib/python3.8/site-packages/sos_notebook/kernel.py:1334: DeprecationWarning: Kernel._parent_header is deprecated in ipykernel 6. Use .get_parent()\n",
      "  msg['msg_id'] = self._parent_header['header']['msg_id']\n"
     ]
    }
   ],
   "source": [
    "export LD_LIBRARY_PATH=$LD_LIBRARY_PATH:/mnt/mfs/cluster/R-Deb10_Libs"
   ]
  },
  {
   "cell_type": "code",
   "execution_count": 1,
   "id": "790b9387-afdc-445e-a245-d6ac34641cf1",
   "metadata": {
    "kernel": "R",
    "tags": []
   },
   "outputs": [
    {
     "name": "stderr",
     "output_type": "stream",
     "text": [
      "/home/dmc2245/miniconda3/lib/python3.8/site-packages/sos_notebook/kernel.py:1334: DeprecationWarning: Kernel._parent_header is deprecated in ipykernel 6. Use .get_parent()\n",
      "  msg['msg_id'] = self._parent_header['header']['msg_id']\n"
     ]
    }
   ],
   "source": [
    "pheno <- read.table(\"/mnt/vast/hpc/csg/UKBiobank/results/ARHI_heritability/pheno_files/090321_UKBB_Hearing_aid_f3393_expandedwhite_6436cases_96601ctrl.PC1_10.greml_pheno\", header=T)\n",
    "head(pheno)"
   ]
  },
  {
   "cell_type": "code",
   "execution_count": 8,
   "id": "b98f07d7-09a8-4940-b4d1-cee18c419bdd",
   "metadata": {
    "kernel": "R",
    "tags": []
   },
   "outputs": [],
   "source": [
    "# Get a subset of 50K individuals\n",
    "subset_ind <- pheno[sample(nrow(pheno), 50000), ]\n",
    "nrow(subset_ind)"
   ]
  },
  {
   "cell_type": "code",
   "execution_count": 2,
   "id": "0e7e8364-5c50-4fea-bcb2-632a42f4fe1d",
   "metadata": {
    "kernel": "R"
   },
   "outputs": [
    {
     "data": {
      "text/html": [
       "80000"
      ],
      "text/latex": [
       "80000"
      ],
      "text/markdown": [
       "80000"
      ],
      "text/plain": [
       "[1] 80000"
      ]
     },
     "metadata": {},
     "output_type": "display_data"
    }
   ],
   "source": [
    "# Get a subset of 80K individuals\n",
    "subset_ind <- pheno[sample(nrow(pheno), 80000), ]\n",
    "nrow(subset_ind)"
   ]
  },
  {
   "cell_type": "code",
   "execution_count": 4,
   "id": "a6993c5d-76d3-404b-a45c-3b4f99e23e5a",
   "metadata": {
    "kernel": "R"
   },
   "outputs": [],
   "source": [
    "keep_samples <- subset_ind[, c('FID', 'IID')]"
   ]
  },
  {
   "cell_type": "code",
   "execution_count": 5,
   "id": "4c248749-854b-4b37-b8b8-e0e3837ccf64",
   "metadata": {
    "kernel": "R"
   },
   "outputs": [
    {
     "data": {
      "text/html": [
       "<table class=\"dataframe\">\n",
       "<caption>A data.frame: 6 x 2</caption>\n",
       "<thead>\n",
       "\t<tr><th></th><th scope=col>FID</th><th scope=col>IID</th></tr>\n",
       "\t<tr><th></th><th scope=col>&lt;int&gt;</th><th scope=col>&lt;int&gt;</th></tr>\n",
       "</thead>\n",
       "<tbody>\n",
       "\t<tr><th scope=row>90075</th><td>5921756</td><td>5921756</td></tr>\n",
       "\t<tr><th scope=row>44900</th><td>3455376</td><td>3455376</td></tr>\n",
       "\t<tr><th scope=row>49091</th><td>3689005</td><td>3689005</td></tr>\n",
       "\t<tr><th scope=row>32700</th><td>2784217</td><td>2784217</td></tr>\n",
       "\t<tr><th scope=row>10668</th><td>1582481</td><td>1582481</td></tr>\n",
       "\t<tr><th scope=row>3703</th><td>1202137</td><td>1202137</td></tr>\n",
       "</tbody>\n",
       "</table>\n"
      ],
      "text/latex": [
       "A data.frame: 6 x 2\n",
       "\\begin{tabular}{r|ll}\n",
       "  & FID & IID\\\\\n",
       "  & <int> & <int>\\\\\n",
       "\\hline\n",
       "\t90075 & 5921756 & 5921756\\\\\n",
       "\t44900 & 3455376 & 3455376\\\\\n",
       "\t49091 & 3689005 & 3689005\\\\\n",
       "\t32700 & 2784217 & 2784217\\\\\n",
       "\t10668 & 1582481 & 1582481\\\\\n",
       "\t3703 & 1202137 & 1202137\\\\\n",
       "\\end{tabular}\n"
      ],
      "text/markdown": [
       "\n",
       "A data.frame: 6 x 2\n",
       "\n",
       "| <!--/--> | FID &lt;int&gt; | IID &lt;int&gt; |\n",
       "|---|---|---|\n",
       "| 90075 | 5921756 | 5921756 |\n",
       "| 44900 | 3455376 | 3455376 |\n",
       "| 49091 | 3689005 | 3689005 |\n",
       "| 32700 | 2784217 | 2784217 |\n",
       "| 10668 | 1582481 | 1582481 |\n",
       "| 3703 | 1202137 | 1202137 |\n",
       "\n"
      ],
      "text/plain": [
       "      FID     IID    \n",
       "90075 5921756 5921756\n",
       "44900 3455376 3455376\n",
       "49091 3689005 3689005\n",
       "32700 2784217 2784217\n",
       "10668 1582481 1582481\n",
       "3703  1202137 1202137"
      ]
     },
     "metadata": {},
     "output_type": "display_data"
    }
   ],
   "source": [
    "head(keep_samples)"
   ]
  },
  {
   "cell_type": "code",
   "execution_count": 17,
   "id": "726e9fe5-9d74-463b-9f56-a00d85dc15f5",
   "metadata": {
    "kernel": "R"
   },
   "outputs": [],
   "source": [
    "# Write to a file for the 50K individuals\n",
    "write.table(keep_samples, \"/mnt/vast/hpc/csg/UKBiobank/results/ARHI_heritability/pheno_files/090321_UKBB_Hearing_aid_f3393_expandedwhite_6436cases_96601ctrl.PC1_10.50Ksubset.keep_id\", sep=\"\\t\", row.names = FALSE, col.names =FALSE, quote=FALSE)"
   ]
  },
  {
   "cell_type": "code",
   "execution_count": 6,
   "id": "e54e7b26-8201-4ade-b38c-7752ad8a597b",
   "metadata": {
    "kernel": "R"
   },
   "outputs": [],
   "source": [
    "# Write to a file for the 80K individuals\n",
    "write.table(keep_samples, \"/mnt/vast/hpc/csg/UKBiobank/results/ARHI_heritability/pheno_files/090321_UKBB_Hearing_aid_f3393_expandedwhite_6436cases_96601ctrl.PC1_10.80Ksubset.keep_id\", sep=\"\\t\", row.names = FALSE, col.names =FALSE, quote=FALSE)"
   ]
  },
  {
   "cell_type": "markdown",
   "id": "57733fb3-0b09-4a31-bb3c-1f2081af4071",
   "metadata": {
    "kernel": "R"
   },
   "source": [
    "### Select the 50K samples from the GRM \n",
    "\n",
    "This did not work, I could not subset the individuals from the already created GRM"
   ]
  },
  {
   "cell_type": "code",
   "execution_count": 18,
   "id": "53c4683d-23cb-4fd2-b0c4-c7d7123b7b85",
   "metadata": {
    "kernel": "Bash"
   },
   "outputs": [
    {
     "name": "stdout",
     "output_type": "stream",
     "text": [
      "INFO: Running \u001b[32mcsg\u001b[0m: Configuration for Columbia csg partition cluster\n",
      "INFO: \u001b[32mcsg\u001b[0m is \u001b[32mcompleted\u001b[0m.\n",
      "INFO: \u001b[32mcsg\u001b[0m output:   \u001b[32m/mnt/mfs/statgen/UKBiobank/results/ARHI_heritability/50K_greml/f3393_greml_common50K_2022-05-25.sbatch\u001b[0m\n",
      "INFO: Workflow csg (ID=wd0fabc9ffcf610d1) is executed successfully with 1 completed step.\n",
      "\n"
     ]
    }
   ],
   "source": [
    "## Columbia's cluster\n",
    "cwd=/mnt/vast/hpc/csg/UKBiobank/results/ARHI_heritability/50K_greml\n",
    "#This is the bfile obtained in step 1\n",
    "grm=/mnt/vast/hpc/csg/UKBiobank/results/ARHI_heritability/052022_grm_common/ukb23156_merged_eur_unrel_commonvarsMAFabove0.01.grm.bin\n",
    "# Format FID, IID, pop\n",
    "keep_samples=/mnt/vast/hpc/csg/UKBiobank/results/ARHI_heritability/pheno_files/090321_UKBB_Hearing_aid_f3393_expandedwhite_6436cases_96601ctrl.PC1_10.50Ksubset.keep_id\n",
    "grm_sbatch=/mnt/vast/hpc/csg/UKBiobank/results/ARHI_heritability/50K_greml/f3393_greml_common50K_$(date +\"%Y-%m-%d\").sbatch\n",
    "greml_sos=~/project/UKBB_GWAS_dev/workflow/GREML.ipynb\n",
    "tpl_file=~/project/bioworkflows/admin/csg.yml\n",
    "container=~/containers/lmm.sif\n",
    "phenoFile=/mnt/vast/hpc/csg/UKBiobank/results/ARHI_heritability/pheno_files/090321_UKBB_Hearing_aid_f3393_expandedwhite_6436cases_96601ctrl.PC1_10.50Ksubset.greml_pheno\n",
    "phenoCol=f3393\n",
    "name=50Ksubset\n",
    "mem='50G'\n",
    "\n",
    "grm_args=\"\"\"grm_processing\n",
    "    --cwd $cwd\n",
    "    --grm $grm\n",
    "    --keep_samples $keep_samples\n",
    "    --phenoFile $phenoFile\n",
    "    --phenoCol $phenoCol\n",
    "    --name $name\n",
    "    --container $container\n",
    "    --mem $mem\n",
    "\"\"\"\n",
    "\n",
    "sos run  ~/project/UKBB_GWAS_dev/admin/Get_Job_Script.ipynb csg\\\n",
    "    --template-file $tpl_file \\\n",
    "    --workflow-file $greml_sos \\\n",
    "    --to-script $grm_sbatch \\\n",
    "    --args \"$grm_args\""
   ]
  },
  {
   "cell_type": "markdown",
   "id": "4c277385-cbbe-4ecd-82eb-a66c9eea2464",
   "metadata": {
    "kernel": "Bash"
   },
   "source": [
    "#### Recalculate GRM for 50K"
   ]
  },
  {
   "cell_type": "code",
   "execution_count": 1,
   "id": "70d6d288-012c-4e53-aca6-7cb3396a9de3",
   "metadata": {
    "kernel": "Bash"
   },
   "outputs": [
    {
     "name": "stderr",
     "output_type": "stream",
     "text": [
      "/home/dmc2245/miniconda3/lib/python3.8/site-packages/sos_notebook/kernel.py:1334: DeprecationWarning: Kernel._parent_header is deprecated in ipykernel 6. Use .get_parent()\n",
      "  msg['msg_id'] = self._parent_header['header']['msg_id']\n"
     ]
    },
    {
     "name": "stdout",
     "output_type": "stream",
     "text": [
      "INFO: Running \u001b[32mcsg\u001b[0m: Configuration for Columbia csg partition cluster\n",
      "INFO: \u001b[32mcsg\u001b[0m is \u001b[32mcompleted\u001b[0m.\n",
      "INFO: \u001b[32mcsg\u001b[0m output:   \u001b[32m/mnt/mfs/statgen/UKBiobank/results/ARHI_heritability/052522_grm_common_50K/commonvars_eur_unrel_gtca_50K_2022-05-26.sbatch\u001b[0m\n",
      "INFO: Workflow csg (ID=w3fa3dd1b77d3c0aa) is executed successfully with 1 completed step.\n"
     ]
    }
   ],
   "source": [
    "bfile=~/UKBiobank/results/ARHI_heritability/051922_merged_bed/ukb23156_merged_eur_unrel_commonvarsMAFabove0.01.bed\n",
    "cwd=/mnt/vast/hpc/csg/UKBiobank/results/ARHI_heritability/052522_grm_common_50K\n",
    "numThreads=20\n",
    "gcta_sbatch=/mnt/vast/hpc/csg/UKBiobank/results/ARHI_heritability/052522_grm_common_50K/commonvars_eur_unrel_gtca_50K_$(date +\"%Y-%m-%d\").sbatch\n",
    "gcta_sos=~/project/bioworkflows/GWAS/LMM.ipynb\n",
    "tpl_file=~/project/bioworkflows/admin/csg.yml\n",
    "container=~/containers/lmm.sif\n",
    "#Phenofile is just inputed as a requirement for the LMM to run but it is not actually needed for GRM calculation\n",
    "phenoFile=/mnt/vast/hpc/csg/UKBiobank/phenotype_files/hearing_impairment/090321_UKBB_Hearing_aid_f3393_expandedwhite_6436cases_96601ctrl_PC1_2.tsv\n",
    "phenoCol=f3393\n",
    "covarCol=sex\n",
    "qCovarCol=\"age PC1 PC2\"\n",
    "mem='8G'\n",
    "walltime='48h'\n",
    "keep_samples=/mnt/vast/hpc/csg/UKBiobank/results/ARHI_heritability/pheno_files/090321_UKBB_Hearing_aid_f3393_expandedwhite_6436cases_96601ctrl.PC1_10.50Ksubset.keep_id\n",
    "\n",
    "gcta_args=\"\"\"gcta\n",
    "    --cwd $cwd\n",
    "    --bfile $bfile\n",
    "    --phenoFile $phenoFile\n",
    "    --phenoCol $phenoCol\n",
    "    --covarCol $covarCol\n",
    "    --qCovarCol $qCovarCol\n",
    "    --numThreads $numThreads\n",
    "    --phenoFile $phenoFile\n",
    "    --keep_samples $keep_samples\n",
    "    --container_lmm $container\n",
    "    --walltime $walltime\n",
    "    --mem $mem\n",
    "\"\"\"\n",
    "\n",
    "sos run ~/project/UKBB_GWAS_dev/admin/Get_Job_Script.ipynb csg\\\n",
    "    --template-file $tpl_file \\\n",
    "    --workflow-file $gcta_sos \\\n",
    "    --to-script $gcta_sbatch \\\n",
    "    --args \"$gcta_args\""
   ]
  },
  {
   "cell_type": "markdown",
   "id": "d4dccf1f-d12f-475e-93f4-c1899eb97e43",
   "metadata": {
    "kernel": "Bash"
   },
   "source": [
    "#### GREML for 50K individuals"
   ]
  },
  {
   "cell_type": "code",
   "execution_count": 1,
   "id": "296901b5-3be7-41eb-8af1-2e4c52629f2e",
   "metadata": {
    "kernel": "Bash"
   },
   "outputs": [
    {
     "name": "stderr",
     "output_type": "stream",
     "text": [
      "/home/dmc2245/miniconda3/lib/python3.8/site-packages/sos_notebook/kernel.py:1334: DeprecationWarning: Kernel._parent_header is deprecated in ipykernel 6. Use .get_parent()\n",
      "  msg['msg_id'] = self._parent_header['header']['msg_id']\n"
     ]
    },
    {
     "name": "stdout",
     "output_type": "stream",
     "text": [
      "INFO: Running \u001b[32mcsg\u001b[0m: Configuration for Columbia csg partition cluster\n",
      "INFO: \u001b[32mcsg\u001b[0m is \u001b[32mcompleted\u001b[0m.\n",
      "INFO: \u001b[32mcsg\u001b[0m output:   \u001b[32m/mnt/mfs/statgen/UKBiobank/results/ARHI_heritability/052622_greml_50K/f3393_greml_common_50K_2022-05-26.sbatch\u001b[0m\n",
      "INFO: Workflow csg (ID=wee86e652bfdbb854) is executed successfully with 1 completed step.\n",
      "\n"
     ]
    }
   ],
   "source": [
    "## Columbia's cluster\n",
    "cwd=/mnt/vast/hpc/csg/UKBiobank/results/ARHI_heritability/052622_greml_common_50K_prev0.01\n",
    "#This is the bfile obtained in step 1\n",
    "grm=~/UKBiobank/results/ARHI_heritability/052522_grm_common_50K/ukb23156_merged_eur_unrel_commonvarsMAFabove0.01.grm.bin\n",
    "# Format FID, IID, pop\n",
    "phenoFile=/mnt/vast/hpc/csg/UKBiobank/results/ARHI_heritability/pheno_files/090321_UKBB_Hearing_aid_f3393_expandedwhite_6436cases_96601ctrl.PC1_10.50Ksubset.greml_pheno\n",
    "greml_sbatch=/mnt/vast/hpc/csg/UKBiobank/results/ARHI_heritability/052622_greml_common_50K_prev0.01/f3393_greml_common_50K_$(date +\"%Y-%m-%d\").sbatch\n",
    "greml_sos=~/project/UKBB_GWAS_dev/workflow/GREML.ipynb\n",
    "tpl_file=~/project/bioworkflows/admin/csg.yml\n",
    "container=~/containers/lmm.sif\n",
    "phenoCol=f3393\n",
    "covarCol=sex\n",
    "qCovarCol=`echo age PC{1..10}`\n",
    "prevalence=0.01\n",
    "\n",
    "greml_args=\"\"\"greml\n",
    "    --cwd $cwd\n",
    "    --grm $grm\n",
    "    --phenoFile $phenoFile\n",
    "    --phenoCol $phenoCol\n",
    "    --covarCol $covarCol\n",
    "    --qCovarCol $qCovarCol\n",
    "    --prevalence $prevalence\n",
    "    --container $container   \n",
    "\"\"\"\n",
    "\n",
    "sos run  ~/project/UKBB_GWAS_dev/admin/Get_Job_Script.ipynb csg\\\n",
    "    --template-file $tpl_file \\\n",
    "    --workflow-file $greml_sos \\\n",
    "    --to-script $greml_sbatch \\\n",
    "    --args \"$greml_args\""
   ]
  },
  {
   "cell_type": "markdown",
   "id": "c4e13ce0-3a7d-4cba-a8fa-7c8e0ac084e9",
   "metadata": {
    "kernel": "Bash"
   },
   "source": [
    "### Prevalence of 30% which was way too high "
   ]
  },
  {
   "cell_type": "code",
   "execution_count": 5,
   "id": "3da68186-dee8-4c3f-91de-d8b67b2538a7",
   "metadata": {
    "kernel": "Bash"
   },
   "outputs": [
    {
     "name": "stdout",
     "output_type": "stream",
     "text": [
      "INFO: Running \u001b[32mcsg\u001b[0m: Configuration for Columbia csg partition cluster\n",
      "INFO: \u001b[32mcsg\u001b[0m is \u001b[32mcompleted\u001b[0m.\n",
      "INFO: \u001b[32mcsg\u001b[0m output:   \u001b[32m/mnt/mfs/statgen/UKBiobank/results/ARHI_heritability/052622_greml_50K_prev0.3/f3393_greml_common_50K_2022-05-26.sbatch\u001b[0m\n",
      "INFO: Workflow csg (ID=w3797ec58440ab2af) is executed successfully with 1 completed step.\n",
      "\n"
     ]
    }
   ],
   "source": [
    "## Columbia's cluster\n",
    "cwd=/mnt/vast/hpc/csg/UKBiobank/results/ARHI_heritability/052622_greml_common_50K_prev0.3\n",
    "#This is the bfile obtained in step 1\n",
    "grm=~/UKBiobank/results/ARHI_heritability/052522_grm_common_50K/ukb23156_merged_eur_unrel_commonvarsMAFabove0.01.grm.bin\n",
    "# Format FID, IID, pop\n",
    "phenoFile=/mnt/vast/hpc/csg/UKBiobank/results/ARHI_heritability/pheno_files/090321_UKBB_Hearing_aid_f3393_expandedwhite_6436cases_96601ctrl.PC1_10.50Ksubset.greml_pheno\n",
    "greml_sbatch=/mnt/vast/hpc/csg/UKBiobank/results/ARHI_heritability/052622_greml_common_50K_prev0.3/f3393_greml_common_50K_$(date +\"%Y-%m-%d\").sbatch\n",
    "greml_sos=~/project/UKBB_GWAS_dev/workflow/GREML.ipynb\n",
    "tpl_file=~/project/bioworkflows/admin/csg.yml\n",
    "container=~/containers/lmm.sif\n",
    "phenoCol=f3393\n",
    "covarCol=sex\n",
    "qCovarCol=`echo age PC{1..10}`\n",
    "prevalence=0.3\n",
    "\n",
    "greml_args=\"\"\"greml\n",
    "    --cwd $cwd\n",
    "    --grm $grm\n",
    "    --phenoFile $phenoFile\n",
    "    --phenoCol $phenoCol\n",
    "    --covarCol $covarCol\n",
    "    --qCovarCol $qCovarCol\n",
    "    --prevalence $prevalence\n",
    "    --container $container   \n",
    "\"\"\"\n",
    "\n",
    "sos run  ~/project/UKBB_GWAS_dev/admin/Get_Job_Script.ipynb csg\\\n",
    "    --template-file $tpl_file \\\n",
    "    --workflow-file $greml_sos \\\n",
    "    --to-script $greml_sbatch \\\n",
    "    --args \"$greml_args\""
   ]
  },
  {
   "cell_type": "markdown",
   "id": "1e6f50fd-e7ca-43fc-af06-775e3a000b72",
   "metadata": {
    "kernel": "Bash"
   },
   "source": [
    "### Corrected prevalence of 6% as calculated from the data"
   ]
  },
  {
   "cell_type": "code",
   "execution_count": 8,
   "id": "c7af1bd9-fec0-453d-918f-513300754f7e",
   "metadata": {
    "kernel": "Bash"
   },
   "outputs": [
    {
     "name": "stdout",
     "output_type": "stream",
     "text": [
      "INFO: Running \u001b[32mcsg\u001b[0m: Configuration for Columbia csg partition cluster\n",
      "INFO: \u001b[32mcsg\u001b[0m is \u001b[32mcompleted\u001b[0m.\n",
      "INFO: \u001b[32mcsg\u001b[0m output:   \u001b[32m/mnt/mfs/statgen/UKBiobank/results/ARHI_heritability/060122_greml_common_50K_prev0.06/f3393_greml_common_50K_prev0.06_2022-06-01.sbatch\u001b[0m\n",
      "INFO: Workflow csg (ID=w1d8bb48e4388f731) is executed successfully with 1 completed step.\n",
      "\n"
     ]
    }
   ],
   "source": [
    "## Columbia's cluster\n",
    "cwd=/mnt/vast/hpc/csg/UKBiobank/results/ARHI_heritability/060122_greml_common_50K_prev0.06\n",
    "#This is the bfile obtained in step 1\n",
    "grm=~/UKBiobank/results/ARHI_heritability/052522_grm_common_50K/ukb23156_merged_eur_unrel_commonvarsMAFabove0.01.grm.bin\n",
    "# Format FID, IID, pop\n",
    "phenoFile=/mnt/vast/hpc/csg/UKBiobank/results/ARHI_heritability/pheno_files/090321_UKBB_Hearing_aid_f3393_expandedwhite_6436cases_96601ctrl.PC1_10.50Ksubset.greml_pheno\n",
    "greml_sbatch=/mnt/vast/hpc/csg/UKBiobank/results/ARHI_heritability/060122_greml_common_50K_prev0.06/f3393_greml_common_50K_prev0.06_$(date +\"%Y-%m-%d\").sbatch\n",
    "greml_sos=~/project/UKBB_GWAS_dev/workflow/GREML.ipynb\n",
    "tpl_file=~/project/bioworkflows/admin/csg.yml\n",
    "container=~/containers/lmm.sif\n",
    "phenoCol=f3393\n",
    "covarCol=sex\n",
    "qCovarCol=`echo age PC{1..10}`\n",
    "# Use the prevalence calculated from the actual data\n",
    "prevalence=0.06\n",
    "walltime='36h'\n",
    "mem='250G'\n",
    "greml_args=\"\"\"greml\n",
    "    --cwd $cwd\n",
    "    --grm $grm\n",
    "    --phenoFile $phenoFile\n",
    "    --phenoCol $phenoCol\n",
    "    --covarCol $covarCol\n",
    "    --qCovarCol $qCovarCol\n",
    "    --prevalence $prevalence\n",
    "    --container $container  \n",
    "    --walltime $walltime\n",
    "    --mem $mem\n",
    "\"\"\"\n",
    "\n",
    "sos run  ~/project/UKBB_GWAS_dev/admin/Get_Job_Script.ipynb csg\\\n",
    "    --template-file $tpl_file \\\n",
    "    --workflow-file $greml_sos \\\n",
    "    --to-script $greml_sbatch \\\n",
    "    --args \"$greml_args\""
   ]
  },
  {
   "cell_type": "markdown",
   "id": "9b3921e1-5368-4ce6-b079-429c4109ce0f",
   "metadata": {
    "kernel": "Bash"
   },
   "source": [
    "### Select the 80,000 random samples from the GRM of common variants"
   ]
  },
  {
   "cell_type": "code",
   "execution_count": 10,
   "id": "1f1605d6-982b-43de-a081-3b32557ccf2f",
   "metadata": {
    "kernel": "Bash"
   },
   "outputs": [
    {
     "name": "stdout",
     "output_type": "stream",
     "text": [
      "INFO: Running \u001b[32mcsg\u001b[0m: Configuration for Columbia csg partition cluster\n",
      "INFO: \u001b[32mcsg\u001b[0m (index=0) is \u001b[32mignored\u001b[0m due to saved signature\n",
      "INFO: \u001b[32mcsg\u001b[0m output:   \u001b[32m/mnt/mfs/statgen/UKBiobank/results/ARHI_heritability/060122_grm_common_80K/commonvars_eur_unrel_gtca_80K_2022-06-01.sbatch\u001b[0m\n",
      "INFO: Workflow csg (ID=we22deef3b9961b7c) is ignored with 1 ignored step.\n",
      "\n"
     ]
    }
   ],
   "source": [
    "bfile=~/UKBiobank/results/ARHI_heritability/051922_merged_bed/ukb23156_merged_eur_unrel_commonvarsMAFabove0.01.bed\n",
    "cwd=/mnt/vast/hpc/csg/UKBiobank/results/ARHI_heritability/060122_grm_common_80K\n",
    "numThreads=20\n",
    "gcta_sbatch=/mnt/vast/hpc/csg/UKBiobank/results/ARHI_heritability/060122_grm_common_80K/commonvars_eur_unrel_gtca_80K_$(date +\"%Y-%m-%d\").sbatch\n",
    "gcta_sos=~/project/bioworkflows/GWAS/LMM.ipynb\n",
    "tpl_file=~/project/bioworkflows/admin/csg.yml\n",
    "container=~/containers/lmm.sif\n",
    "#Phenofile is just inputed as a requirement for the LMM to run but it is not actually needed for GRM calculation\n",
    "phenoFile=/mnt/vast/hpc/csg/UKBiobank/phenotype_files/hearing_impairment/090321_UKBB_Hearing_aid_f3393_expandedwhite_6436cases_96601ctrl_PC1_2.tsv\n",
    "phenoCol=f3393\n",
    "covarCol=sex\n",
    "qCovarCol=\"age PC1 PC2\"\n",
    "mem='8G'\n",
    "walltime='48h'\n",
    "keep_samples=/mnt/vast/hpc/csg/UKBiobank/results/ARHI_heritability/pheno_files/090321_UKBB_Hearing_aid_f3393_expandedwhite_6436cases_96601ctrl.PC1_10.80Ksubset.keep_id\n",
    "\n",
    "gcta_args=\"\"\"gcta\n",
    "    --cwd $cwd\n",
    "    --bfile $bfile\n",
    "    --phenoFile $phenoFile\n",
    "    --phenoCol $phenoCol\n",
    "    --covarCol $covarCol\n",
    "    --qCovarCol $qCovarCol\n",
    "    --numThreads $numThreads\n",
    "    --phenoFile $phenoFile\n",
    "    --keep_samples $keep_samples\n",
    "    --container_lmm $container\n",
    "    --walltime $walltime\n",
    "    --mem $mem\n",
    "\"\"\"\n",
    "\n",
    "sos run ~/project/UKBB_GWAS_dev/admin/Get_Job_Script.ipynb csg\\\n",
    "    --template-file $tpl_file \\\n",
    "    --workflow-file $gcta_sos \\\n",
    "    --to-script $gcta_sbatch \\\n",
    "    --args \"$gcta_args\""
   ]
  },
  {
   "cell_type": "markdown",
   "id": "b049131d-116a-4e7d-af9c-4450068078ac",
   "metadata": {
    "kernel": "Bash"
   },
   "source": [
    "### Run GREML for common variants with the 80K individuals"
   ]
  },
  {
   "cell_type": "code",
   "execution_count": 21,
   "id": "03985c5d-896c-47af-a943-ad1705d3cf21",
   "metadata": {
    "kernel": "Bash"
   },
   "outputs": [
    {
     "name": "stdout",
     "output_type": "stream",
     "text": [
      "INFO: Running \u001b[32mcsg\u001b[0m: Configuration for Columbia csg partition cluster\n",
      "INFO: \u001b[32mcsg\u001b[0m is \u001b[32mcompleted\u001b[0m.\n",
      "INFO: \u001b[32mcsg\u001b[0m output:   \u001b[32m/home/dmc2245/UKBiobank/results/ARHI_heritability/060722_greml_common_80K_prev0.06/f3393_greml_common_80K_prev0.06_2022-06-07.sbatch\u001b[0m\n",
      "INFO: Workflow csg (ID=w69db70580a71628f) is executed successfully with 1 completed step.\n",
      "\n"
     ]
    }
   ],
   "source": [
    "## Columbia's cluster\n",
    "cwd=/mnt/vast/hpc/csg/UKBiobank/results/ARHI_heritability/060722_greml_common_80K_prev0.06\n",
    "#This is the bfile obtained in step 1\n",
    "grm=/mnt/vast/hpc/csg/UKBiobank/results/ARHI_heritability/060122_grm_common_80K/ukb23156_merged_eur_unrel_commonvarsMAFabove0.01.grm.bin\n",
    "# Format FID, IID, pop\n",
    "phenoFile=/mnt/vast/hpc/csg/UKBiobank/results/ARHI_heritability/pheno_files/090321_UKBB_Hearing_aid_f3393_expandedwhite_6436cases_96601ctrl.PC1_10.common80K.greml_pheno\n",
    "greml_sbatch=~/UKBiobank/results/ARHI_heritability/060722_greml_common_80K_prev0.06/f3393_greml_common_80K_prev0.06_$(date +\"%Y-%m-%d\").sbatch\n",
    "greml_sos=~/project/UKBB_GWAS_dev/workflow/GREML.ipynb\n",
    "tpl_file=~/project/bioworkflows/admin/csg.yml\n",
    "container=~/containers/lmm.sif\n",
    "phenoCol=f3393\n",
    "covarCol=sex\n",
    "qCovarCol=`echo age PC{1..10}`\n",
    "# Use the prevalence calculated from the actual data\n",
    "prevalence=0.06\n",
    "walltime='36h'\n",
    "mem='250G'\n",
    "greml_args=\"\"\"greml\n",
    "    --cwd $cwd\n",
    "    --grm $grm\n",
    "    --phenoFile $phenoFile\n",
    "    --phenoCol $phenoCol\n",
    "    --covarCol $covarCol\n",
    "    --qCovarCol $qCovarCol\n",
    "    --prevalence $prevalence\n",
    "    --container $container  \n",
    "    --walltime $walltime\n",
    "    --mem $mem\n",
    "\"\"\"\n",
    "\n",
    "sos run  ~/project/UKBB_GWAS_dev/admin/Get_Job_Script.ipynb csg\\\n",
    "    --template-file $tpl_file \\\n",
    "    --workflow-file $greml_sos \\\n",
    "    --to-script $greml_sbatch \\\n",
    "    --args \"$greml_args\""
   ]
  },
  {
   "cell_type": "markdown",
   "id": "4983c306-ca5d-4bde-ad30-df32ef87ef63",
   "metadata": {
    "kernel": "Bash"
   },
   "source": [
    "## f3393 rare variants"
   ]
  },
  {
   "cell_type": "markdown",
   "id": "e7bbbc4b-8240-4e6d-a49b-25879dd22555",
   "metadata": {
    "kernel": "Bash"
   },
   "source": [
    "#### Recalculate GRM for 50K random samples from the rare variants"
   ]
  },
  {
   "cell_type": "code",
   "execution_count": null,
   "id": "cc42ae84-37dc-495d-b0a0-33c4ebb696a9",
   "metadata": {
    "kernel": "Bash"
   },
   "outputs": [],
   "source": [
    "bfile=~/UKBiobank/results/ARHI_heritability/051922_merged_bed/ukb23156_merged_eur_unrel_rarevarsMAFbelow0.01.bed\n",
    "cwd=/mnt/vast/hpc/csg/UKBiobank/results/ARHI_heritability/053122_grm_rare_50K\n",
    "numThreads=1\n",
    "gcta_sbatch=/mnt/vast/hpc/csg/UKBiobank/results/ARHI_heritability/053122_grm_rare_50K/rarevars_eur_unrel_gtca_50K_$(date +\"%Y-%m-%d\").sbatch\n",
    "gcta_sos=~/project/bioworkflows/GWAS/LMM.ipynb\n",
    "tpl_file=~/project/bioworkflows/admin/csg.yml\n",
    "container=/mnt/vast/hpc/csg/containers/lmm.sif\n",
    "#Phenofile is just inputed as a requirement for the LMM to run but it is not actually needed for GRM calculation\n",
    "phenoFile=/mnt/vast/hpc/csg/UKBiobank/phenotype_files/hearing_impairment/090321_UKBB_Hearing_aid_f3393_expandedwhite_6436cases_96601ctrl_PC1_2.tsv\n",
    "phenoCol=f3393\n",
    "covarCol=sex\n",
    "qCovarCol=\"age PC1 PC2\"\n",
    "mem='8G'\n",
    "walltime='48h'\n",
    "keep_samples=/mnt/vast/hpc/csg/UKBiobank/results/ARHI_heritability/pheno_files/090321_UKBB_Hearing_aid_f3393_expandedwhite_6436cases_96601ctrl.PC1_10.50Ksubset.keep_id\n",
    "\n",
    "gcta_args=\"\"\"gcta\n",
    "    --cwd $cwd\n",
    "    --bfile $bfile\n",
    "    --phenoFile $phenoFile\n",
    "    --phenoCol $phenoCol\n",
    "    --covarCol $covarCol\n",
    "    --qCovarCol $qCovarCol\n",
    "    --numThreads $numThreads\n",
    "    --phenoFile $phenoFile\n",
    "    --keep_samples $keep_samples\n",
    "    --container_lmm $container\n",
    "    --walltime $walltime\n",
    "    --mem $mem\n",
    "\"\"\"\n",
    "\n",
    "sos run ~/project/UKBB_GWAS_dev/admin/Get_Job_Script.ipynb csg\\\n",
    "    --template-file $tpl_file \\\n",
    "    --workflow-file $gcta_sos \\\n",
    "    --to-script $gcta_sbatch \\\n",
    "    --args \"$gcta_args\""
   ]
  },
  {
   "cell_type": "markdown",
   "id": "63d1484e-a8af-447b-af6f-e34e56884d90",
   "metadata": {
    "kernel": "Bash"
   },
   "source": [
    "#### GREML for 50K individuals rare variants\n",
    "\n",
    "Note: gave 100G memory and was killed because of not enough mem"
   ]
  },
  {
   "cell_type": "code",
   "execution_count": 3,
   "id": "10816278-e1d0-4b61-a782-da1e2a115b4b",
   "metadata": {
    "kernel": "Bash"
   },
   "outputs": [
    {
     "name": "stdout",
     "output_type": "stream",
     "text": [
      "INFO: Running \u001b[32mcsg\u001b[0m: Configuration for Columbia csg partition cluster\n",
      "INFO: \u001b[32mcsg\u001b[0m is \u001b[32mcompleted\u001b[0m.\n",
      "INFO: \u001b[32mcsg\u001b[0m output:   \u001b[32m/mnt/vast/hpc/csg/UKBiobank/results/ARHI_heritability/053122_greml_rare_50K/f3393_greml_rare_50K_2022-06-28.sbatch\u001b[0m\n",
      "INFO: Workflow csg (ID=w5df973877f333a69) is executed successfully with 1 completed step.\n",
      "\n"
     ]
    }
   ],
   "source": [
    "## Columbia's cluster\n",
    "cwd=/mnt/vast/hpc/csg/UKBiobank/results/ARHI_heritability/053122_greml_rare_50K\n",
    "#This is the bfile obtained in step 1\n",
    "grm=~/UKBiobank/results/ARHI_heritability/053122_grm_rare_50K/ukb23156_merged_eur_unrel_rarevarsMAFbelow0.01.grm.bin\n",
    "# Format FID, IID, pop\n",
    "phenoFile=/mnt/vast/hpc/csg/UKBiobank/results/ARHI_heritability/pheno_files/090321_UKBB_Hearing_aid_f3393_expandedwhite_6436cases_96601ctrl.PC1_10.greml_pheno_rarevars\n",
    "greml_sbatch=/mnt/vast/hpc/csg/UKBiobank/results/ARHI_heritability/053122_greml_rare_50K/f3393_greml_rare_50K_$(date +\"%Y-%m-%d\").sbatch\n",
    "greml_sos=~/project/UKBB_GWAS_dev/workflow/GREML.ipynb\n",
    "tpl_file=~/project/bioworkflows/admin/csg.yml\n",
    "container=~/containers/lmm.sif\n",
    "phenoCol=f3393\n",
    "covarCol=sex\n",
    "qCovarCol=`echo age PC{1..10}`\n",
    "prevalence=0.06\n",
    "reml_priors='0.0287975 0.0294562'\n",
    "\n",
    "greml_args=\"\"\"greml\n",
    "    --cwd $cwd\n",
    "    --grm $grm\n",
    "    --phenoFile $phenoFile\n",
    "    --phenoCol $phenoCol\n",
    "    --covarCol $covarCol\n",
    "    --qCovarCol $qCovarCol\n",
    "    --prevalence $prevalence\n",
    "    --reml_priors $reml_priors\n",
    "    --container $container   \n",
    "\"\"\"\n",
    "\n",
    "sos run  ~/project/UKBB_GWAS_dev/admin/Get_Job_Script.ipynb csg\\\n",
    "    --template-file $tpl_file \\\n",
    "    --workflow-file $greml_sos \\\n",
    "    --to-script $greml_sbatch \\\n",
    "    --args \"$greml_args\""
   ]
  },
  {
   "cell_type": "markdown",
   "id": "fe715d1f-51b2-4cfc-9c3e-b3ca63ddfe6a",
   "metadata": {
    "kernel": "Bash"
   },
   "source": [
    "#### GREML for 80K individuals rare variants set"
   ]
  },
  {
   "cell_type": "code",
   "execution_count": null,
   "id": "33c2a344-beec-4dd0-b56b-5171dbc1f4cd",
   "metadata": {
    "kernel": "Bash"
   },
   "outputs": [],
   "source": []
  },
  {
   "cell_type": "code",
   "execution_count": null,
   "id": "68f1b687-65cc-43ce-8fcf-10d5959bc746",
   "metadata": {
    "kernel": "Bash"
   },
   "outputs": [],
   "source": []
  },
  {
   "cell_type": "markdown",
   "id": "b2b12140-c142-45ad-a4cd-4110381f4faf",
   "metadata": {
    "kernel": "Bash"
   },
   "source": [
    "## f2247 common variants"
   ]
  },
  {
   "cell_type": "markdown",
   "id": "2b527efd-03d4-4f24-be01-fb8c9c8044c1",
   "metadata": {
    "kernel": "Bash"
   },
   "source": [
    "### Get the 50K and 80K random samples for f2247"
   ]
  },
  {
   "cell_type": "code",
   "execution_count": 49,
   "id": "a7f85b69-016e-4f8a-9abc-35853d91dc28",
   "metadata": {
    "kernel": "R",
    "tags": []
   },
   "outputs": [
    {
     "data": {
      "text/html": [
       "<table class=\"dataframe\">\n",
       "<caption>A data.frame: 6 x 6</caption>\n",
       "<thead>\n",
       "\t<tr><th></th><th scope=col>FID</th><th scope=col>IID</th><th scope=col>NA</th><th scope=col>NA</th><th scope=col>NA</th><th scope=col>NA</th></tr>\n",
       "\t<tr><th></th><th scope=col>&lt;int&gt;</th><th scope=col>&lt;int&gt;</th><th scope=col>&lt;int&gt;</th><th scope=col>&lt;int&gt;</th><th scope=col>&lt;int&gt;</th><th scope=col>&lt;int&gt;</th></tr>\n",
       "</thead>\n",
       "<tbody>\n",
       "\t<tr><th scope=row>1</th><td>1000019</td><td>1000019</td><td>0</td><td>0</td><td>0</td><td>-9</td></tr>\n",
       "\t<tr><th scope=row>2</th><td>1000078</td><td>1000078</td><td>0</td><td>0</td><td>0</td><td>-9</td></tr>\n",
       "\t<tr><th scope=row>3</th><td>1000081</td><td>1000081</td><td>0</td><td>0</td><td>0</td><td>-9</td></tr>\n",
       "\t<tr><th scope=row>4</th><td>1000198</td><td>1000198</td><td>0</td><td>0</td><td>0</td><td>-9</td></tr>\n",
       "\t<tr><th scope=row>5</th><td>1000210</td><td>1000210</td><td>0</td><td>0</td><td>0</td><td>-9</td></tr>\n",
       "\t<tr><th scope=row>6</th><td>1000236</td><td>1000236</td><td>0</td><td>0</td><td>0</td><td>-9</td></tr>\n",
       "</tbody>\n",
       "</table>\n"
      ],
      "text/latex": [
       "A data.frame: 6 x 6\n",
       "\\begin{tabular}{r|llllll}\n",
       "  & FID & IID & NA & NA & NA & NA\\\\\n",
       "  & <int> & <int> & <int> & <int> & <int> & <int>\\\\\n",
       "\\hline\n",
       "\t1 & 1000019 & 1000019 & 0 & 0 & 0 & -9\\\\\n",
       "\t2 & 1000078 & 1000078 & 0 & 0 & 0 & -9\\\\\n",
       "\t3 & 1000081 & 1000081 & 0 & 0 & 0 & -9\\\\\n",
       "\t4 & 1000198 & 1000198 & 0 & 0 & 0 & -9\\\\\n",
       "\t5 & 1000210 & 1000210 & 0 & 0 & 0 & -9\\\\\n",
       "\t6 & 1000236 & 1000236 & 0 & 0 & 0 & -9\\\\\n",
       "\\end{tabular}\n"
      ],
      "text/markdown": [
       "\n",
       "A data.frame: 6 x 6\n",
       "\n",
       "| <!--/--> | FID &lt;int&gt; | IID &lt;int&gt; | NA &lt;int&gt; | NA &lt;int&gt; | NA &lt;int&gt; | NA &lt;int&gt; |\n",
       "|---|---|---|---|---|---|---|\n",
       "| 1 | 1000019 | 1000019 | 0 | 0 | 0 | -9 |\n",
       "| 2 | 1000078 | 1000078 | 0 | 0 | 0 | -9 |\n",
       "| 3 | 1000081 | 1000081 | 0 | 0 | 0 | -9 |\n",
       "| 4 | 1000198 | 1000198 | 0 | 0 | 0 | -9 |\n",
       "| 5 | 1000210 | 1000210 | 0 | 0 | 0 | -9 |\n",
       "| 6 | 1000236 | 1000236 | 0 | 0 | 0 | -9 |\n",
       "\n"
      ],
      "text/plain": [
       "  FID     IID     <NA> <NA> <NA> <NA>\n",
       "1 1000019 1000019 0    0    0    -9  \n",
       "2 1000078 1000078 0    0    0    -9  \n",
       "3 1000081 1000081 0    0    0    -9  \n",
       "4 1000198 1000198 0    0    0    -9  \n",
       "5 1000210 1000210 0    0    0    -9  \n",
       "6 1000236 1000236 0    0    0    -9  "
      ]
     },
     "metadata": {},
     "output_type": "display_data"
    },
    {
     "data": {
      "text/html": [
       "<style>\n",
       ".list-inline {list-style: none; margin:0; padding: 0}\n",
       ".list-inline>li {display: inline-block}\n",
       ".list-inline>li:not(:last-child)::after {content: \"\\00b7\"; padding: 0 .5ex}\n",
       "</style>\n",
       "<ol class=list-inline><li>167478</li><li>6</li></ol>\n"
      ],
      "text/latex": [
       "\\begin{enumerate*}\n",
       "\\item 167478\n",
       "\\item 6\n",
       "\\end{enumerate*}\n"
      ],
      "text/markdown": [
       "1. 167478\n",
       "2. 6\n",
       "\n",
       "\n"
      ],
      "text/plain": [
       "[1] 167478      6"
      ]
     },
     "metadata": {},
     "output_type": "display_data"
    }
   ],
   "source": [
    "# This file contains the list of individuals that are white European and unrelated which was used to build the GRM\n",
    "white_unrel <-  read.table(\"/mnt/vast/hpc/csg/UKBiobank/results/ARHI_heritability/052022_ldprun_common/ukb23156_merged_eur_unrel_commonvarsMAFabove0.01.filtered.prune.fam\", header=F)\n",
    "colnames(white_unrel)<- c('FID','IID')\n",
    "head(white_unrel)\n",
    "dim(white_unrel)"
   ]
  },
  {
   "cell_type": "code",
   "execution_count": 39,
   "id": "25fae67b-4bc5-412e-8d28-72dd5b2f892a",
   "metadata": {
    "kernel": "R",
    "tags": []
   },
   "outputs": [
    {
     "data": {
      "text/html": [
       "<table class=\"dataframe\">\n",
       "<caption>A data.frame: 6 x 2</caption>\n",
       "<thead>\n",
       "\t<tr><th></th><th scope=col>FID</th><th scope=col>IID</th></tr>\n",
       "\t<tr><th></th><th scope=col>&lt;int&gt;</th><th scope=col>&lt;int&gt;</th></tr>\n",
       "</thead>\n",
       "<tbody>\n",
       "\t<tr><th scope=row>1</th><td>1000198</td><td>1000198</td></tr>\n",
       "\t<tr><th scope=row>2</th><td>1000396</td><td>1000396</td></tr>\n",
       "\t<tr><th scope=row>3</th><td>1000494</td><td>1000494</td></tr>\n",
       "\t<tr><th scope=row>4</th><td>1001076</td><td>1001076</td></tr>\n",
       "\t<tr><th scope=row>5</th><td>1001123</td><td>1001123</td></tr>\n",
       "\t<tr><th scope=row>6</th><td>1001196</td><td>1001196</td></tr>\n",
       "</tbody>\n",
       "</table>\n"
      ],
      "text/latex": [
       "A data.frame: 6 x 2\n",
       "\\begin{tabular}{r|ll}\n",
       "  & FID & IID\\\\\n",
       "  & <int> & <int>\\\\\n",
       "\\hline\n",
       "\t1 & 1000198 & 1000198\\\\\n",
       "\t2 & 1000396 & 1000396\\\\\n",
       "\t3 & 1000494 & 1000494\\\\\n",
       "\t4 & 1001076 & 1001076\\\\\n",
       "\t5 & 1001123 & 1001123\\\\\n",
       "\t6 & 1001196 & 1001196\\\\\n",
       "\\end{tabular}\n"
      ],
      "text/markdown": [
       "\n",
       "A data.frame: 6 x 2\n",
       "\n",
       "| <!--/--> | FID &lt;int&gt; | IID &lt;int&gt; |\n",
       "|---|---|---|\n",
       "| 1 | 1000198 | 1000198 |\n",
       "| 2 | 1000396 | 1000396 |\n",
       "| 3 | 1000494 | 1000494 |\n",
       "| 4 | 1001076 | 1001076 |\n",
       "| 5 | 1001123 | 1001123 |\n",
       "| 6 | 1001196 | 1001196 |\n",
       "\n"
      ],
      "text/plain": [
       "  FID     IID    \n",
       "1 1000198 1000198\n",
       "2 1000396 1000396\n",
       "3 1000494 1000494\n",
       "4 1001076 1001076\n",
       "5 1001123 1001123\n",
       "6 1001196 1001196"
      ]
     },
     "metadata": {},
     "output_type": "display_data"
    }
   ],
   "source": [
    "pheno <- read.table(\"~/UKBiobank/results/083021_PCA_results/090321_UKBB_Hearing_difficulty_f2247_expandedwhite_45502cases_96601ctrl.keep_id\", header=F)\n",
    "colnames(pheno) <- c('FID','IID')\n",
    "head(pheno)"
   ]
  },
  {
   "cell_type": "code",
   "execution_count": 54,
   "id": "12fcf86e-2415-4c7a-b4eb-c5e27be65c1a",
   "metadata": {
    "kernel": "R"
   },
   "outputs": [
    {
     "data": {
      "text/html": [
       "<style>\n",
       ".list-inline {list-style: none; margin:0; padding: 0}\n",
       ".list-inline>li {display: inline-block}\n",
       ".list-inline>li:not(:last-child)::after {content: \"\\00b7\"; padding: 0 .5ex}\n",
       "</style>\n",
       "<ol class=list-inline><li>126618</li><li>2</li></ol>\n"
      ],
      "text/latex": [
       "\\begin{enumerate*}\n",
       "\\item 126618\n",
       "\\item 2\n",
       "\\end{enumerate*}\n"
      ],
      "text/markdown": [
       "1. 126618\n",
       "2. 2\n",
       "\n",
       "\n"
      ],
      "text/plain": [
       "[1] 126618      2"
      ]
     },
     "metadata": {},
     "output_type": "display_data"
    }
   ],
   "source": [
    "pheno_white_unrel <- pheno[which(pheno$IID %in% white_unrel$IID),]\n",
    "dim(pheno_white_unrel)"
   ]
  },
  {
   "cell_type": "code",
   "execution_count": 55,
   "id": "25ce4a12-9100-4aa0-88bf-5cc8d99ba4ee",
   "metadata": {
    "kernel": "R",
    "tags": []
   },
   "outputs": [
    {
     "data": {
      "text/html": [
       "50000"
      ],
      "text/latex": [
       "50000"
      ],
      "text/markdown": [
       "50000"
      ],
      "text/plain": [
       "[1] 50000"
      ]
     },
     "metadata": {},
     "output_type": "display_data"
    }
   ],
   "source": [
    "# Get a subset of 50K individuals\n",
    "subset_ind <- pheno_white_unrel[sample(nrow(pheno_white_unrel), 50000), ]\n",
    "nrow(subset_ind)"
   ]
  },
  {
   "cell_type": "code",
   "execution_count": 56,
   "id": "e9484855-ad82-4cb6-ac76-10f8c0c8e723",
   "metadata": {
    "kernel": "R"
   },
   "outputs": [],
   "source": [
    "keep_samples <- subset_ind[, c('FID', 'IID')]"
   ]
  },
  {
   "cell_type": "code",
   "execution_count": 57,
   "id": "931c4526-13ec-4729-915d-331623fa140b",
   "metadata": {
    "kernel": "R"
   },
   "outputs": [
    {
     "data": {
      "text/html": [
       "<table class=\"dataframe\">\n",
       "<caption>A data.frame: 6 x 2</caption>\n",
       "<thead>\n",
       "\t<tr><th></th><th scope=col>FID</th><th scope=col>IID</th></tr>\n",
       "\t<tr><th></th><th scope=col>&lt;int&gt;</th><th scope=col>&lt;int&gt;</th></tr>\n",
       "</thead>\n",
       "<tbody>\n",
       "\t<tr><th scope=row>13757</th><td>2524692</td><td>2524692</td></tr>\n",
       "\t<tr><th scope=row>101913</th><td>3931896</td><td>3931896</td></tr>\n",
       "\t<tr><th scope=row>11955</th><td>2318742</td><td>2318742</td></tr>\n",
       "\t<tr><th scope=row>100700</th><td>3867865</td><td>3867865</td></tr>\n",
       "\t<tr><th scope=row>135518</th><td>5684544</td><td>5684544</td></tr>\n",
       "\t<tr><th scope=row>119426</th><td>4842102</td><td>4842102</td></tr>\n",
       "</tbody>\n",
       "</table>\n"
      ],
      "text/latex": [
       "A data.frame: 6 x 2\n",
       "\\begin{tabular}{r|ll}\n",
       "  & FID & IID\\\\\n",
       "  & <int> & <int>\\\\\n",
       "\\hline\n",
       "\t13757 & 2524692 & 2524692\\\\\n",
       "\t101913 & 3931896 & 3931896\\\\\n",
       "\t11955 & 2318742 & 2318742\\\\\n",
       "\t100700 & 3867865 & 3867865\\\\\n",
       "\t135518 & 5684544 & 5684544\\\\\n",
       "\t119426 & 4842102 & 4842102\\\\\n",
       "\\end{tabular}\n"
      ],
      "text/markdown": [
       "\n",
       "A data.frame: 6 x 2\n",
       "\n",
       "| <!--/--> | FID &lt;int&gt; | IID &lt;int&gt; |\n",
       "|---|---|---|\n",
       "| 13757 | 2524692 | 2524692 |\n",
       "| 101913 | 3931896 | 3931896 |\n",
       "| 11955 | 2318742 | 2318742 |\n",
       "| 100700 | 3867865 | 3867865 |\n",
       "| 135518 | 5684544 | 5684544 |\n",
       "| 119426 | 4842102 | 4842102 |\n",
       "\n"
      ],
      "text/plain": [
       "       FID     IID    \n",
       "13757  2524692 2524692\n",
       "101913 3931896 3931896\n",
       "11955  2318742 2318742\n",
       "100700 3867865 3867865\n",
       "135518 5684544 5684544\n",
       "119426 4842102 4842102"
      ]
     },
     "metadata": {},
     "output_type": "display_data"
    }
   ],
   "source": [
    "head(keep_samples)"
   ]
  },
  {
   "cell_type": "code",
   "execution_count": 58,
   "id": "0831ca47-fa72-406e-8b9e-49c1e3d4df2e",
   "metadata": {
    "kernel": "R"
   },
   "outputs": [],
   "source": [
    "# Write to a file for the 50K individuals\n",
    "write.table(keep_samples, \"/mnt/vast/hpc/csg/UKBiobank/results/ARHI_heritability/pheno_files/090321_UKBB_Hearing_difficulty_f2247_expandedwhite_45502cases_96601ctrl.50Ksubset.keep_id\", sep=\"\\t\", row.names = FALSE, col.names =FALSE, quote=FALSE)"
   ]
  },
  {
   "cell_type": "code",
   "execution_count": 59,
   "id": "d9a2f84e-c65f-4040-a5da-b3c0adaf4c22",
   "metadata": {
    "kernel": "R"
   },
   "outputs": [
    {
     "data": {
      "text/html": [
       "80000"
      ],
      "text/latex": [
       "80000"
      ],
      "text/markdown": [
       "80000"
      ],
      "text/plain": [
       "[1] 80000"
      ]
     },
     "metadata": {},
     "output_type": "display_data"
    }
   ],
   "source": [
    "# Get a subset of 80K individuals\n",
    "subset_ind <- pheno_white_unrel[sample(nrow(pheno_white_unrel), 80000), ]\n",
    "nrow(subset_ind)"
   ]
  },
  {
   "cell_type": "code",
   "execution_count": 60,
   "id": "a4369810-88aa-4ac2-b55d-5966b96dd6f3",
   "metadata": {
    "kernel": "R"
   },
   "outputs": [],
   "source": [
    "# Write to a file for the 80K individuals\n",
    "write.table(keep_samples, \"/mnt/vast/hpc/csg/UKBiobank/results/ARHI_heritability/pheno_files/090321_UKBB_Hearing_difficulty_f2247_expandedwhite_45502cases_96601ctrl.80Ksubset.keep_id\", sep=\"\\t\", row.names = FALSE, col.names =FALSE, quote=FALSE)"
   ]
  },
  {
   "cell_type": "markdown",
   "id": "ed9930ab-22dc-4d61-ba1a-2665cec80a61",
   "metadata": {
    "kernel": "R"
   },
   "source": [
    "### Calculate the PC's"
   ]
  },
  {
   "cell_type": "markdown",
   "id": "2c281c74-3ceb-4b55-a51a-5d6a8a7a9e99",
   "metadata": {
    "kernel": "R",
    "tags": []
   },
   "source": [
    "#### Step 1"
   ]
  },
  {
   "cell_type": "code",
   "execution_count": 61,
   "id": "206ab9c7-dae8-44ba-9462-e6146de4dd64",
   "metadata": {
    "kernel": "Bash",
    "tags": []
   },
   "outputs": [
    {
     "name": "stdout",
     "output_type": "stream",
     "text": [
      "INFO: Running \u001b[32mcsg\u001b[0m: Configuration for Columbia csg partition cluster\n",
      "INFO: \u001b[32mcsg\u001b[0m is \u001b[32mcompleted\u001b[0m.\n",
      "INFO: \u001b[32mcsg\u001b[0m output:   \u001b[32m/mnt/mfs/statgen/UKBiobank/results/ARHI_heritability/061322_pca_common_50K/f2247/common_f2247_pca_50K_2022-06-13.sbatch\u001b[0m\n",
      "INFO: Workflow csg (ID=wcc8a9966b0e6048c) is executed successfully with 1 completed step.\n",
      "\n"
     ]
    }
   ],
   "source": [
    "## Columbia's cluster\n",
    "cwd=/mnt/vast/hpc/csg/UKBiobank/results/ARHI_heritability/061322_pca_common_50K/f2247\n",
    "gwas_sbatch=/mnt/vast/hpc/csg/UKBiobank/results/ARHI_heritability/061322_pca_common_50K/f2247/common_f2247_pca_50K_$(date +\"%Y-%m-%d\").sbatch\n",
    "## Use qc'ed genotype array\n",
    "genoFile=/mnt/vast/hpc/csg/UKBiobank/results/ARHI_heritability/052022_ldprun_common/ukb23156_merged_eur_unrel_commonvarsMAFabove0.01.filtered.prune.bed\n",
    "keep_samples=/mnt/vast/hpc/csg/UKBiobank/results/ARHI_heritability/pheno_files/090321_UKBB_Hearing_difficulty_f2247_expandedwhite_45502cases_96601ctrl.50Ksubset.keep_id\n",
    "\n",
    "#GWAS QC variables set all of this variables to 0 to avoid doing more filtering\n",
    "maf_filter=0\n",
    "geno_filter=0\n",
    "hwe_filter=0\n",
    "mind_filter=0\n",
    "numThreads=1\n",
    "mem='30G'\n",
    "gwasqc_sos=~/project/xqtl-pipeline/code/data_preprocessing/genotype/GWAS_QC.ipynb\n",
    "tpl_file=~/project/bioworkflows/admin/csg.yml\n",
    "container=~/containers/bioinfo.sif\n",
    "\n",
    "gwasqc_args=\"\"\"qc:1\n",
    "    --cwd $cwd\n",
    "    --genoFile $genoFile\n",
    "    --keep_samples $keep_samples\n",
    "    --maf_filter $maf_filter\n",
    "    --geno_filter $geno_filter\n",
    "    --hwe_filter $hwe_filter\n",
    "    --mind_filter $mind_filter\n",
    "    --numThreads $numThreads \n",
    "    --container $container\n",
    "    --mem $mem\n",
    "\"\"\"\n",
    "\n",
    "sos run ~/project/UKBB_GWAS_dev/admin/Get_Job_Script.ipynb csg \\\n",
    "    --template-file $tpl_file \\\n",
    "    --workflow-file $gwasqc_sos \\\n",
    "    --to-script $gwas_sbatch \\\n",
    "    --args \"$gwasqc_args\""
   ]
  },
  {
   "cell_type": "markdown",
   "id": "a7f4c574-849c-454b-aa23-a5fed11aeadb",
   "metadata": {
    "kernel": "R"
   },
   "source": [
    "#### Step 2"
   ]
  },
  {
   "cell_type": "code",
   "execution_count": 1,
   "id": "2726a11d-522b-4b26-8715-38490a38df29",
   "metadata": {
    "kernel": "Bash"
   },
   "outputs": [
    {
     "name": "stderr",
     "output_type": "stream",
     "text": [
      "/home/dmc2245/miniconda3/lib/python3.8/site-packages/sos_notebook/kernel.py:1334: DeprecationWarning: Kernel._parent_header is deprecated in ipykernel 6. Use .get_parent()\n",
      "  msg['msg_id'] = self._parent_header['header']['msg_id']\n"
     ]
    },
    {
     "name": "stdout",
     "output_type": "stream",
     "text": [
      "INFO: Running \u001b[32mcsg\u001b[0m: Configuration for Columbia csg partition cluster\n",
      "INFO: \u001b[32mcsg\u001b[0m is \u001b[32mcompleted\u001b[0m.\n",
      "INFO: \u001b[32mcsg\u001b[0m output:   \u001b[32m/mnt/mfs/statgen/UKBiobank/results/ARHI_heritability/061322_pca_common_50K/f2247/flashpca_f2247_50Kcommon_2022-06-14.sbatch\u001b[0m\n",
      "INFO: Workflow csg (ID=wc240fcce5c26454f) is executed successfully with 1 completed step.\n",
      "\n"
     ]
    }
   ],
   "source": [
    "## Columbia's cluster\n",
    "cwd=/mnt/vast/hpc/csg/UKBiobank/results/ARHI_heritability/061322_pca_common_50K/f2247\n",
    "#This is the bfile obtained in step 1\n",
    "genoFile=/mnt/vast/hpc/csg/UKBiobank/results/ARHI_heritability/061322_pca_common_50K/f2247/*.bed\n",
    "# Format FID, IID, pop\n",
    "# PC's are actually being calculated for 50K individuals that are white European and unrelated\n",
    "phenoFile=/mnt/vast/hpc/csg/UKBiobank/results/083021_PCA_results/090321_UKBB_Hearing_difficulty_f2247_expandedwhite_45502cases_96601ctrl.phenopca\n",
    "label_col=ethnicity\n",
    "pop_col=ethnicity\n",
    "pca_sbatch=/mnt/vast/hpc/csg/UKBiobank/results/ARHI_heritability/061322_pca_common_50K/f2247/flashpca_f2247_50Kcommon_$(date +\"%Y-%m-%d\").sbatch\n",
    "k=10\n",
    "min_axis=0\n",
    "max_axis=0\n",
    "pca_sos=~/project/xqtl-pipeline/code/data_preprocessing/genotype/PCA.ipynb\n",
    "tpl_file=~/project/bioworkflows/admin/csg.yml\n",
    "container=~/containers/flashpcaR.sif\n",
    "numThreads=1\n",
    "\n",
    "pca_args=\"\"\"flashpca\n",
    "    --cwd $cwd\n",
    "    --genoFile $genoFile\n",
    "    --phenoFile $phenoFile\n",
    "    --k $k\n",
    "    --label_col $label_col\n",
    "    --pop_col $pop_col\n",
    "    --min_axis $min_axis\n",
    "    --max_axis $max_axis\n",
    "    --numThreads $numThreads \n",
    "    --container $container\n",
    "\"\"\"\n",
    "\n",
    "sos run  ~/project/UKBB_GWAS_dev/admin/Get_Job_Script.ipynb csg\\\n",
    "    --template-file $tpl_file \\\n",
    "    --workflow-file $pca_sos \\\n",
    "    --to-script $pca_sbatch \\\n",
    "    --args \"$pca_args\""
   ]
  },
  {
   "cell_type": "markdown",
   "id": "9af4c2ba-c3df-4e4b-a9d9-23bb5104f310",
   "metadata": {
    "kernel": "Bash"
   },
   "source": [
    "### Merge phenofile with PC's"
   ]
  },
  {
   "cell_type": "code",
   "execution_count": 27,
   "id": "eb8d0209-d9a0-4c3e-8f48-721d2df171f0",
   "metadata": {
    "kernel": "R",
    "tags": []
   },
   "outputs": [
    {
     "data": {
      "text/html": [
       "<table class=\"dataframe\">\n",
       "<caption>A data.frame: 6 x 5</caption>\n",
       "<thead>\n",
       "\t<tr><th></th><th scope=col>FID</th><th scope=col>IID</th><th scope=col>sex</th><th scope=col>f2247</th><th scope=col>age</th></tr>\n",
       "\t<tr><th></th><th scope=col>&lt;int&gt;</th><th scope=col>&lt;int&gt;</th><th scope=col>&lt;int&gt;</th><th scope=col>&lt;int&gt;</th><th scope=col>&lt;int&gt;</th></tr>\n",
       "</thead>\n",
       "<tbody>\n",
       "\t<tr><th scope=row>1</th><td>1000198</td><td>1000198</td><td>1</td><td>1</td><td>41</td></tr>\n",
       "\t<tr><th scope=row>2</th><td>1000396</td><td>1000396</td><td>0</td><td>1</td><td>48</td></tr>\n",
       "\t<tr><th scope=row>3</th><td>1000494</td><td>1000494</td><td>0</td><td>1</td><td>61</td></tr>\n",
       "\t<tr><th scope=row>4</th><td>1001076</td><td>1001076</td><td>0</td><td>1</td><td>69</td></tr>\n",
       "\t<tr><th scope=row>5</th><td>1001123</td><td>1001123</td><td>1</td><td>1</td><td>62</td></tr>\n",
       "\t<tr><th scope=row>6</th><td>1001196</td><td>1001196</td><td>0</td><td>1</td><td>60</td></tr>\n",
       "</tbody>\n",
       "</table>\n"
      ],
      "text/latex": [
       "A data.frame: 6 x 5\n",
       "\\begin{tabular}{r|lllll}\n",
       "  & FID & IID & sex & f2247 & age\\\\\n",
       "  & <int> & <int> & <int> & <int> & <int>\\\\\n",
       "\\hline\n",
       "\t1 & 1000198 & 1000198 & 1 & 1 & 41\\\\\n",
       "\t2 & 1000396 & 1000396 & 0 & 1 & 48\\\\\n",
       "\t3 & 1000494 & 1000494 & 0 & 1 & 61\\\\\n",
       "\t4 & 1001076 & 1001076 & 0 & 1 & 69\\\\\n",
       "\t5 & 1001123 & 1001123 & 1 & 1 & 62\\\\\n",
       "\t6 & 1001196 & 1001196 & 0 & 1 & 60\\\\\n",
       "\\end{tabular}\n"
      ],
      "text/markdown": [
       "\n",
       "A data.frame: 6 x 5\n",
       "\n",
       "| <!--/--> | FID &lt;int&gt; | IID &lt;int&gt; | sex &lt;int&gt; | f2247 &lt;int&gt; | age &lt;int&gt; |\n",
       "|---|---|---|---|---|---|\n",
       "| 1 | 1000198 | 1000198 | 1 | 1 | 41 |\n",
       "| 2 | 1000396 | 1000396 | 0 | 1 | 48 |\n",
       "| 3 | 1000494 | 1000494 | 0 | 1 | 61 |\n",
       "| 4 | 1001076 | 1001076 | 0 | 1 | 69 |\n",
       "| 5 | 1001123 | 1001123 | 1 | 1 | 62 |\n",
       "| 6 | 1001196 | 1001196 | 0 | 1 | 60 |\n",
       "\n"
      ],
      "text/plain": [
       "  FID     IID     sex f2247 age\n",
       "1 1000198 1000198 1   1     41 \n",
       "2 1000396 1000396 0   1     48 \n",
       "3 1000494 1000494 0   1     61 \n",
       "4 1001076 1001076 0   1     69 \n",
       "5 1001123 1001123 1   1     62 \n",
       "6 1001196 1001196 0   1     60 "
      ]
     },
     "metadata": {},
     "output_type": "display_data"
    },
    {
     "data": {
      "text/html": [
       "<style>\n",
       ".list-inline {list-style: none; margin:0; padding: 0}\n",
       ".list-inline>li {display: inline-block}\n",
       ".list-inline>li:not(:last-child)::after {content: \"\\00b7\"; padding: 0 .5ex}\n",
       "</style>\n",
       "<ol class=list-inline><li>142103</li><li>5</li></ol>\n"
      ],
      "text/latex": [
       "\\begin{enumerate*}\n",
       "\\item 142103\n",
       "\\item 5\n",
       "\\end{enumerate*}\n"
      ],
      "text/markdown": [
       "1. 142103\n",
       "2. 5\n",
       "\n",
       "\n"
      ],
      "text/plain": [
       "[1] 142103      5"
      ]
     },
     "metadata": {},
     "output_type": "display_data"
    }
   ],
   "source": [
    "pheno <- read.table(\"~/UKBiobank/phenotype_files/hearing_impairment/090321_UKBB_Hearing_difficulty_f2247_expandedwhite_45502cases_96601ctrl\", header=T)\n",
    "head(pheno)\n",
    "dim(pheno)"
   ]
  },
  {
   "cell_type": "code",
   "execution_count": 28,
   "id": "ae856e29-cfb1-4dc0-91f2-c2403be827e8",
   "metadata": {
    "kernel": "R",
    "tags": []
   },
   "outputs": [
    {
     "data": {
      "text/html": [
       "<table class=\"dataframe\">\n",
       "<caption>A data.frame: 6 x 14</caption>\n",
       "<thead>\n",
       "\t<tr><th></th><th scope=col>ID</th><th scope=col>FID</th><th scope=col>IID</th><th scope=col>ethnicity</th><th scope=col>PC1</th><th scope=col>PC2</th><th scope=col>PC3</th><th scope=col>PC4</th><th scope=col>PC5</th><th scope=col>PC6</th><th scope=col>PC7</th><th scope=col>PC8</th><th scope=col>PC9</th><th scope=col>PC10</th></tr>\n",
       "\t<tr><th></th><th scope=col>&lt;fct&gt;</th><th scope=col>&lt;int&gt;</th><th scope=col>&lt;int&gt;</th><th scope=col>&lt;fct&gt;</th><th scope=col>&lt;dbl&gt;</th><th scope=col>&lt;dbl&gt;</th><th scope=col>&lt;dbl&gt;</th><th scope=col>&lt;dbl&gt;</th><th scope=col>&lt;dbl&gt;</th><th scope=col>&lt;dbl&gt;</th><th scope=col>&lt;dbl&gt;</th><th scope=col>&lt;dbl&gt;</th><th scope=col>&lt;dbl&gt;</th><th scope=col>&lt;dbl&gt;</th></tr>\n",
       "</thead>\n",
       "<tbody>\n",
       "\t<tr><th scope=row>1</th><td>1000078:1000078</td><td>1000078</td><td>1000078</td><td>British</td><td> 0.0001682157</td><td>-0.010868328</td><td> 0.013926516</td><td> 0.007888838</td><td> 0.0058406530</td><td>-0.004907483</td><td> 0.003455339</td><td>-0.002962793</td><td>-0.008213459</td><td> 0.011089191</td></tr>\n",
       "\t<tr><th scope=row>2</th><td>1000081:1000081</td><td>1000081</td><td>1000081</td><td>British</td><td>-0.1377972901</td><td> 0.019088647</td><td>-0.012368020</td><td>-0.013887942</td><td> 0.0066285082</td><td>-0.012289974</td><td>-0.002614088</td><td>-0.002112217</td><td> 0.010352732</td><td> 0.001305127</td></tr>\n",
       "\t<tr><th scope=row>3</th><td>1000236:1000236</td><td>1000236</td><td>1000236</td><td>British</td><td>-0.0096662060</td><td>-0.008954983</td><td> 0.026675716</td><td>-0.005429788</td><td>-0.0057268152</td><td> 0.012727944</td><td> 0.015520513</td><td> 0.001436914</td><td>-0.009764744</td><td> 0.032244368</td></tr>\n",
       "\t<tr><th scope=row>4</th><td>1000340:1000340</td><td>1000340</td><td>1000340</td><td>British</td><td> 0.0136983803</td><td> 0.004912169</td><td> 0.010146371</td><td>-0.002739609</td><td>-0.0001738624</td><td>-0.008639668</td><td>-0.004547821</td><td>-0.004668640</td><td> 0.003564449</td><td> 0.005583519</td></tr>\n",
       "\t<tr><th scope=row>5</th><td>1000415:1000415</td><td>1000415</td><td>1000415</td><td>Irish  </td><td> 0.0171827610</td><td> 0.050202540</td><td>-0.001868328</td><td> 0.003220866</td><td>-0.0153254036</td><td>-0.009360210</td><td> 0.003488297</td><td> 0.026279814</td><td> 0.001351374</td><td>-0.002582746</td></tr>\n",
       "\t<tr><th scope=row>6</th><td>1000674:1000674</td><td>1000674</td><td>1000674</td><td>British</td><td> 0.0125119033</td><td>-0.023940619</td><td> 0.016911804</td><td>-0.002264127</td><td> 0.0002390969</td><td> 0.011951628</td><td>-0.015426220</td><td>-0.004994943</td><td> 0.003275061</td><td>-0.013175549</td></tr>\n",
       "</tbody>\n",
       "</table>\n"
      ],
      "text/latex": [
       "A data.frame: 6 x 14\n",
       "\\begin{tabular}{r|llllllllllllll}\n",
       "  & ID & FID & IID & ethnicity & PC1 & PC2 & PC3 & PC4 & PC5 & PC6 & PC7 & PC8 & PC9 & PC10\\\\\n",
       "  & <fct> & <int> & <int> & <fct> & <dbl> & <dbl> & <dbl> & <dbl> & <dbl> & <dbl> & <dbl> & <dbl> & <dbl> & <dbl>\\\\\n",
       "\\hline\n",
       "\t1 & 1000078:1000078 & 1000078 & 1000078 & British &  0.0001682157 & -0.010868328 &  0.013926516 &  0.007888838 &  0.0058406530 & -0.004907483 &  0.003455339 & -0.002962793 & -0.008213459 &  0.011089191\\\\\n",
       "\t2 & 1000081:1000081 & 1000081 & 1000081 & British & -0.1377972901 &  0.019088647 & -0.012368020 & -0.013887942 &  0.0066285082 & -0.012289974 & -0.002614088 & -0.002112217 &  0.010352732 &  0.001305127\\\\\n",
       "\t3 & 1000236:1000236 & 1000236 & 1000236 & British & -0.0096662060 & -0.008954983 &  0.026675716 & -0.005429788 & -0.0057268152 &  0.012727944 &  0.015520513 &  0.001436914 & -0.009764744 &  0.032244368\\\\\n",
       "\t4 & 1000340:1000340 & 1000340 & 1000340 & British &  0.0136983803 &  0.004912169 &  0.010146371 & -0.002739609 & -0.0001738624 & -0.008639668 & -0.004547821 & -0.004668640 &  0.003564449 &  0.005583519\\\\\n",
       "\t5 & 1000415:1000415 & 1000415 & 1000415 & Irish   &  0.0171827610 &  0.050202540 & -0.001868328 &  0.003220866 & -0.0153254036 & -0.009360210 &  0.003488297 &  0.026279814 &  0.001351374 & -0.002582746\\\\\n",
       "\t6 & 1000674:1000674 & 1000674 & 1000674 & British &  0.0125119033 & -0.023940619 &  0.016911804 & -0.002264127 &  0.0002390969 &  0.011951628 & -0.015426220 & -0.004994943 &  0.003275061 & -0.013175549\\\\\n",
       "\\end{tabular}\n"
      ],
      "text/markdown": [
       "\n",
       "A data.frame: 6 x 14\n",
       "\n",
       "| <!--/--> | ID &lt;fct&gt; | FID &lt;int&gt; | IID &lt;int&gt; | ethnicity &lt;fct&gt; | PC1 &lt;dbl&gt; | PC2 &lt;dbl&gt; | PC3 &lt;dbl&gt; | PC4 &lt;dbl&gt; | PC5 &lt;dbl&gt; | PC6 &lt;dbl&gt; | PC7 &lt;dbl&gt; | PC8 &lt;dbl&gt; | PC9 &lt;dbl&gt; | PC10 &lt;dbl&gt; |\n",
       "|---|---|---|---|---|---|---|---|---|---|---|---|---|---|---|\n",
       "| 1 | 1000078:1000078 | 1000078 | 1000078 | British |  0.0001682157 | -0.010868328 |  0.013926516 |  0.007888838 |  0.0058406530 | -0.004907483 |  0.003455339 | -0.002962793 | -0.008213459 |  0.011089191 |\n",
       "| 2 | 1000081:1000081 | 1000081 | 1000081 | British | -0.1377972901 |  0.019088647 | -0.012368020 | -0.013887942 |  0.0066285082 | -0.012289974 | -0.002614088 | -0.002112217 |  0.010352732 |  0.001305127 |\n",
       "| 3 | 1000236:1000236 | 1000236 | 1000236 | British | -0.0096662060 | -0.008954983 |  0.026675716 | -0.005429788 | -0.0057268152 |  0.012727944 |  0.015520513 |  0.001436914 | -0.009764744 |  0.032244368 |\n",
       "| 4 | 1000340:1000340 | 1000340 | 1000340 | British |  0.0136983803 |  0.004912169 |  0.010146371 | -0.002739609 | -0.0001738624 | -0.008639668 | -0.004547821 | -0.004668640 |  0.003564449 |  0.005583519 |\n",
       "| 5 | 1000415:1000415 | 1000415 | 1000415 | Irish   |  0.0171827610 |  0.050202540 | -0.001868328 |  0.003220866 | -0.0153254036 | -0.009360210 |  0.003488297 |  0.026279814 |  0.001351374 | -0.002582746 |\n",
       "| 6 | 1000674:1000674 | 1000674 | 1000674 | British |  0.0125119033 | -0.023940619 |  0.016911804 | -0.002264127 |  0.0002390969 |  0.011951628 | -0.015426220 | -0.004994943 |  0.003275061 | -0.013175549 |\n",
       "\n"
      ],
      "text/plain": [
       "  ID              FID     IID     ethnicity PC1           PC2         \n",
       "1 1000078:1000078 1000078 1000078 British    0.0001682157 -0.010868328\n",
       "2 1000081:1000081 1000081 1000081 British   -0.1377972901  0.019088647\n",
       "3 1000236:1000236 1000236 1000236 British   -0.0096662060 -0.008954983\n",
       "4 1000340:1000340 1000340 1000340 British    0.0136983803  0.004912169\n",
       "5 1000415:1000415 1000415 1000415 Irish      0.0171827610  0.050202540\n",
       "6 1000674:1000674 1000674 1000674 British    0.0125119033 -0.023940619\n",
       "  PC3          PC4          PC5           PC6          PC7         \n",
       "1  0.013926516  0.007888838  0.0058406530 -0.004907483  0.003455339\n",
       "2 -0.012368020 -0.013887942  0.0066285082 -0.012289974 -0.002614088\n",
       "3  0.026675716 -0.005429788 -0.0057268152  0.012727944  0.015520513\n",
       "4  0.010146371 -0.002739609 -0.0001738624 -0.008639668 -0.004547821\n",
       "5 -0.001868328  0.003220866 -0.0153254036 -0.009360210  0.003488297\n",
       "6  0.016911804 -0.002264127  0.0002390969  0.011951628 -0.015426220\n",
       "  PC8          PC9          PC10        \n",
       "1 -0.002962793 -0.008213459  0.011089191\n",
       "2 -0.002112217  0.010352732  0.001305127\n",
       "3  0.001436914 -0.009764744  0.032244368\n",
       "4 -0.004668640  0.003564449  0.005583519\n",
       "5  0.026279814  0.001351374 -0.002582746\n",
       "6 -0.004994943  0.003275061 -0.013175549"
      ]
     },
     "metadata": {},
     "output_type": "display_data"
    },
    {
     "data": {
      "text/html": [
       "<style>\n",
       ".list-inline {list-style: none; margin:0; padding: 0}\n",
       ".list-inline>li {display: inline-block}\n",
       ".list-inline>li:not(:last-child)::after {content: \"\\00b7\"; padding: 0 .5ex}\n",
       "</style>\n",
       "<ol class=list-inline><li>50000</li><li>14</li></ol>\n"
      ],
      "text/latex": [
       "\\begin{enumerate*}\n",
       "\\item 50000\n",
       "\\item 14\n",
       "\\end{enumerate*}\n"
      ],
      "text/markdown": [
       "1. 50000\n",
       "2. 14\n",
       "\n",
       "\n"
      ],
      "text/plain": [
       "[1] 50000    14"
      ]
     },
     "metadata": {},
     "output_type": "display_data"
    }
   ],
   "source": [
    "pca <- read.table(\"~/UKBiobank/results/ARHI_heritability/061322_pca_common_50K/f2247/090321_UKBB_Hearing_difficulty_f2247_expandedwhite_45502cases_96601ctrl.pca.txt\", header=T)\n",
    "head(pca)\n",
    "dim(pca)"
   ]
  },
  {
   "cell_type": "code",
   "execution_count": 29,
   "id": "c960f7e2-6b33-4d2f-97fb-023309c7b684",
   "metadata": {
    "kernel": "R",
    "tags": []
   },
   "outputs": [
    {
     "data": {
      "text/html": [
       "<table class=\"dataframe\">\n",
       "<caption>A data.frame: 6 x 17</caption>\n",
       "<thead>\n",
       "\t<tr><th></th><th scope=col>FID</th><th scope=col>IID</th><th scope=col>sex</th><th scope=col>f2247</th><th scope=col>age</th><th scope=col>ID</th><th scope=col>ethnicity</th><th scope=col>PC1</th><th scope=col>PC2</th><th scope=col>PC3</th><th scope=col>PC4</th><th scope=col>PC5</th><th scope=col>PC6</th><th scope=col>PC7</th><th scope=col>PC8</th><th scope=col>PC9</th><th scope=col>PC10</th></tr>\n",
       "\t<tr><th></th><th scope=col>&lt;int&gt;</th><th scope=col>&lt;int&gt;</th><th scope=col>&lt;int&gt;</th><th scope=col>&lt;int&gt;</th><th scope=col>&lt;int&gt;</th><th scope=col>&lt;fct&gt;</th><th scope=col>&lt;fct&gt;</th><th scope=col>&lt;dbl&gt;</th><th scope=col>&lt;dbl&gt;</th><th scope=col>&lt;dbl&gt;</th><th scope=col>&lt;dbl&gt;</th><th scope=col>&lt;dbl&gt;</th><th scope=col>&lt;dbl&gt;</th><th scope=col>&lt;dbl&gt;</th><th scope=col>&lt;dbl&gt;</th><th scope=col>&lt;dbl&gt;</th><th scope=col>&lt;dbl&gt;</th></tr>\n",
       "</thead>\n",
       "<tbody>\n",
       "\t<tr><th scope=row>1</th><td>1000078</td><td>1000078</td><td>1</td><td>0</td><td>60</td><td>1000078:1000078</td><td>British</td><td> 0.0001682157</td><td>-0.010868328</td><td> 0.013926516</td><td> 0.007888838</td><td> 0.0058406530</td><td>-0.004907483</td><td> 0.003455339</td><td>-0.002962793</td><td>-0.008213459</td><td> 0.011089191</td></tr>\n",
       "\t<tr><th scope=row>2</th><td>1000081</td><td>1000081</td><td>0</td><td>0</td><td>67</td><td>1000081:1000081</td><td>British</td><td>-0.1377972901</td><td> 0.019088647</td><td>-0.012368020</td><td>-0.013887942</td><td> 0.0066285082</td><td>-0.012289974</td><td>-0.002614088</td><td>-0.002112217</td><td> 0.010352732</td><td> 0.001305127</td></tr>\n",
       "\t<tr><th scope=row>3</th><td>1000236</td><td>1000236</td><td>0</td><td>0</td><td>70</td><td>1000236:1000236</td><td>British</td><td>-0.0096662060</td><td>-0.008954983</td><td> 0.026675716</td><td>-0.005429788</td><td>-0.0057268152</td><td> 0.012727944</td><td> 0.015520513</td><td> 0.001436914</td><td>-0.009764744</td><td> 0.032244368</td></tr>\n",
       "\t<tr><th scope=row>4</th><td>1000340</td><td>1000340</td><td>1</td><td>0</td><td>54</td><td>1000340:1000340</td><td>British</td><td> 0.0136983803</td><td> 0.004912169</td><td> 0.010146371</td><td>-0.002739609</td><td>-0.0001738624</td><td>-0.008639668</td><td>-0.004547821</td><td>-0.004668640</td><td> 0.003564449</td><td> 0.005583519</td></tr>\n",
       "\t<tr><th scope=row>5</th><td>1000415</td><td>1000415</td><td>0</td><td>0</td><td>65</td><td>1000415:1000415</td><td>Irish  </td><td> 0.0171827610</td><td> 0.050202540</td><td>-0.001868328</td><td> 0.003220866</td><td>-0.0153254036</td><td>-0.009360210</td><td> 0.003488297</td><td> 0.026279814</td><td> 0.001351374</td><td>-0.002582746</td></tr>\n",
       "\t<tr><th scope=row>6</th><td>1000674</td><td>1000674</td><td>0</td><td>0</td><td>41</td><td>1000674:1000674</td><td>British</td><td> 0.0125119033</td><td>-0.023940619</td><td> 0.016911804</td><td>-0.002264127</td><td> 0.0002390969</td><td> 0.011951628</td><td>-0.015426220</td><td>-0.004994943</td><td> 0.003275061</td><td>-0.013175549</td></tr>\n",
       "</tbody>\n",
       "</table>\n"
      ],
      "text/latex": [
       "A data.frame: 6 x 17\n",
       "\\begin{tabular}{r|lllllllllllllllll}\n",
       "  & FID & IID & sex & f2247 & age & ID & ethnicity & PC1 & PC2 & PC3 & PC4 & PC5 & PC6 & PC7 & PC8 & PC9 & PC10\\\\\n",
       "  & <int> & <int> & <int> & <int> & <int> & <fct> & <fct> & <dbl> & <dbl> & <dbl> & <dbl> & <dbl> & <dbl> & <dbl> & <dbl> & <dbl> & <dbl>\\\\\n",
       "\\hline\n",
       "\t1 & 1000078 & 1000078 & 1 & 0 & 60 & 1000078:1000078 & British &  0.0001682157 & -0.010868328 &  0.013926516 &  0.007888838 &  0.0058406530 & -0.004907483 &  0.003455339 & -0.002962793 & -0.008213459 &  0.011089191\\\\\n",
       "\t2 & 1000081 & 1000081 & 0 & 0 & 67 & 1000081:1000081 & British & -0.1377972901 &  0.019088647 & -0.012368020 & -0.013887942 &  0.0066285082 & -0.012289974 & -0.002614088 & -0.002112217 &  0.010352732 &  0.001305127\\\\\n",
       "\t3 & 1000236 & 1000236 & 0 & 0 & 70 & 1000236:1000236 & British & -0.0096662060 & -0.008954983 &  0.026675716 & -0.005429788 & -0.0057268152 &  0.012727944 &  0.015520513 &  0.001436914 & -0.009764744 &  0.032244368\\\\\n",
       "\t4 & 1000340 & 1000340 & 1 & 0 & 54 & 1000340:1000340 & British &  0.0136983803 &  0.004912169 &  0.010146371 & -0.002739609 & -0.0001738624 & -0.008639668 & -0.004547821 & -0.004668640 &  0.003564449 &  0.005583519\\\\\n",
       "\t5 & 1000415 & 1000415 & 0 & 0 & 65 & 1000415:1000415 & Irish   &  0.0171827610 &  0.050202540 & -0.001868328 &  0.003220866 & -0.0153254036 & -0.009360210 &  0.003488297 &  0.026279814 &  0.001351374 & -0.002582746\\\\\n",
       "\t6 & 1000674 & 1000674 & 0 & 0 & 41 & 1000674:1000674 & British &  0.0125119033 & -0.023940619 &  0.016911804 & -0.002264127 &  0.0002390969 &  0.011951628 & -0.015426220 & -0.004994943 &  0.003275061 & -0.013175549\\\\\n",
       "\\end{tabular}\n"
      ],
      "text/markdown": [
       "\n",
       "A data.frame: 6 x 17\n",
       "\n",
       "| <!--/--> | FID &lt;int&gt; | IID &lt;int&gt; | sex &lt;int&gt; | f2247 &lt;int&gt; | age &lt;int&gt; | ID &lt;fct&gt; | ethnicity &lt;fct&gt; | PC1 &lt;dbl&gt; | PC2 &lt;dbl&gt; | PC3 &lt;dbl&gt; | PC4 &lt;dbl&gt; | PC5 &lt;dbl&gt; | PC6 &lt;dbl&gt; | PC7 &lt;dbl&gt; | PC8 &lt;dbl&gt; | PC9 &lt;dbl&gt; | PC10 &lt;dbl&gt; |\n",
       "|---|---|---|---|---|---|---|---|---|---|---|---|---|---|---|---|---|---|\n",
       "| 1 | 1000078 | 1000078 | 1 | 0 | 60 | 1000078:1000078 | British |  0.0001682157 | -0.010868328 |  0.013926516 |  0.007888838 |  0.0058406530 | -0.004907483 |  0.003455339 | -0.002962793 | -0.008213459 |  0.011089191 |\n",
       "| 2 | 1000081 | 1000081 | 0 | 0 | 67 | 1000081:1000081 | British | -0.1377972901 |  0.019088647 | -0.012368020 | -0.013887942 |  0.0066285082 | -0.012289974 | -0.002614088 | -0.002112217 |  0.010352732 |  0.001305127 |\n",
       "| 3 | 1000236 | 1000236 | 0 | 0 | 70 | 1000236:1000236 | British | -0.0096662060 | -0.008954983 |  0.026675716 | -0.005429788 | -0.0057268152 |  0.012727944 |  0.015520513 |  0.001436914 | -0.009764744 |  0.032244368 |\n",
       "| 4 | 1000340 | 1000340 | 1 | 0 | 54 | 1000340:1000340 | British |  0.0136983803 |  0.004912169 |  0.010146371 | -0.002739609 | -0.0001738624 | -0.008639668 | -0.004547821 | -0.004668640 |  0.003564449 |  0.005583519 |\n",
       "| 5 | 1000415 | 1000415 | 0 | 0 | 65 | 1000415:1000415 | Irish   |  0.0171827610 |  0.050202540 | -0.001868328 |  0.003220866 | -0.0153254036 | -0.009360210 |  0.003488297 |  0.026279814 |  0.001351374 | -0.002582746 |\n",
       "| 6 | 1000674 | 1000674 | 0 | 0 | 41 | 1000674:1000674 | British |  0.0125119033 | -0.023940619 |  0.016911804 | -0.002264127 |  0.0002390969 |  0.011951628 | -0.015426220 | -0.004994943 |  0.003275061 | -0.013175549 |\n",
       "\n"
      ],
      "text/plain": [
       "  FID     IID     sex f2247 age ID              ethnicity PC1          \n",
       "1 1000078 1000078 1   0     60  1000078:1000078 British    0.0001682157\n",
       "2 1000081 1000081 0   0     67  1000081:1000081 British   -0.1377972901\n",
       "3 1000236 1000236 0   0     70  1000236:1000236 British   -0.0096662060\n",
       "4 1000340 1000340 1   0     54  1000340:1000340 British    0.0136983803\n",
       "5 1000415 1000415 0   0     65  1000415:1000415 Irish      0.0171827610\n",
       "6 1000674 1000674 0   0     41  1000674:1000674 British    0.0125119033\n",
       "  PC2          PC3          PC4          PC5           PC6         \n",
       "1 -0.010868328  0.013926516  0.007888838  0.0058406530 -0.004907483\n",
       "2  0.019088647 -0.012368020 -0.013887942  0.0066285082 -0.012289974\n",
       "3 -0.008954983  0.026675716 -0.005429788 -0.0057268152  0.012727944\n",
       "4  0.004912169  0.010146371 -0.002739609 -0.0001738624 -0.008639668\n",
       "5  0.050202540 -0.001868328  0.003220866 -0.0153254036 -0.009360210\n",
       "6 -0.023940619  0.016911804 -0.002264127  0.0002390969  0.011951628\n",
       "  PC7          PC8          PC9          PC10        \n",
       "1  0.003455339 -0.002962793 -0.008213459  0.011089191\n",
       "2 -0.002614088 -0.002112217  0.010352732  0.001305127\n",
       "3  0.015520513  0.001436914 -0.009764744  0.032244368\n",
       "4 -0.004547821 -0.004668640  0.003564449  0.005583519\n",
       "5  0.003488297  0.026279814  0.001351374 -0.002582746\n",
       "6 -0.015426220 -0.004994943  0.003275061 -0.013175549"
      ]
     },
     "metadata": {},
     "output_type": "display_data"
    },
    {
     "data": {
      "text/html": [
       "<style>\n",
       ".list-inline {list-style: none; margin:0; padding: 0}\n",
       ".list-inline>li {display: inline-block}\n",
       ".list-inline>li:not(:last-child)::after {content: \"\\00b7\"; padding: 0 .5ex}\n",
       "</style>\n",
       "<ol class=list-inline><li>50000</li><li>17</li></ol>\n"
      ],
      "text/latex": [
       "\\begin{enumerate*}\n",
       "\\item 50000\n",
       "\\item 17\n",
       "\\end{enumerate*}\n"
      ],
      "text/markdown": [
       "1. 50000\n",
       "2. 17\n",
       "\n",
       "\n"
      ],
      "text/plain": [
       "[1] 50000    17"
      ]
     },
     "metadata": {},
     "output_type": "display_data"
    },
    {
     "name": "stderr",
     "output_type": "stream",
     "text": [
      "\n",
      "Attaching package: ‘dplyr’\n",
      "\n",
      "\n",
      "The following objects are masked from ‘package:stats’:\n",
      "\n",
      "    filter, lag\n",
      "\n",
      "\n",
      "The following objects are masked from ‘package:base’:\n",
      "\n",
      "    intersect, setdiff, setequal, union\n",
      "\n",
      "\n"
     ]
    },
    {
     "data": {
      "text/html": [
       "<table class=\"dataframe\">\n",
       "<caption>A data.frame: 6 x 15</caption>\n",
       "<thead>\n",
       "\t<tr><th></th><th scope=col>FID</th><th scope=col>IID</th><th scope=col>sex</th><th scope=col>f2247</th><th scope=col>age</th><th scope=col>PC1</th><th scope=col>PC2</th><th scope=col>PC3</th><th scope=col>PC4</th><th scope=col>PC5</th><th scope=col>PC6</th><th scope=col>PC7</th><th scope=col>PC8</th><th scope=col>PC9</th><th scope=col>PC10</th></tr>\n",
       "\t<tr><th></th><th scope=col>&lt;int&gt;</th><th scope=col>&lt;int&gt;</th><th scope=col>&lt;int&gt;</th><th scope=col>&lt;int&gt;</th><th scope=col>&lt;int&gt;</th><th scope=col>&lt;dbl&gt;</th><th scope=col>&lt;dbl&gt;</th><th scope=col>&lt;dbl&gt;</th><th scope=col>&lt;dbl&gt;</th><th scope=col>&lt;dbl&gt;</th><th scope=col>&lt;dbl&gt;</th><th scope=col>&lt;dbl&gt;</th><th scope=col>&lt;dbl&gt;</th><th scope=col>&lt;dbl&gt;</th><th scope=col>&lt;dbl&gt;</th></tr>\n",
       "</thead>\n",
       "<tbody>\n",
       "\t<tr><th scope=row>1</th><td>1000078</td><td>1000078</td><td>1</td><td>0</td><td>60</td><td> 0.0001682157</td><td>-0.010868328</td><td> 0.013926516</td><td> 0.007888838</td><td> 0.0058406530</td><td>-0.004907483</td><td> 0.003455339</td><td>-0.002962793</td><td>-0.008213459</td><td> 0.011089191</td></tr>\n",
       "\t<tr><th scope=row>2</th><td>1000081</td><td>1000081</td><td>0</td><td>0</td><td>67</td><td>-0.1377972901</td><td> 0.019088647</td><td>-0.012368020</td><td>-0.013887942</td><td> 0.0066285082</td><td>-0.012289974</td><td>-0.002614088</td><td>-0.002112217</td><td> 0.010352732</td><td> 0.001305127</td></tr>\n",
       "\t<tr><th scope=row>3</th><td>1000236</td><td>1000236</td><td>0</td><td>0</td><td>70</td><td>-0.0096662060</td><td>-0.008954983</td><td> 0.026675716</td><td>-0.005429788</td><td>-0.0057268152</td><td> 0.012727944</td><td> 0.015520513</td><td> 0.001436914</td><td>-0.009764744</td><td> 0.032244368</td></tr>\n",
       "\t<tr><th scope=row>4</th><td>1000340</td><td>1000340</td><td>1</td><td>0</td><td>54</td><td> 0.0136983803</td><td> 0.004912169</td><td> 0.010146371</td><td>-0.002739609</td><td>-0.0001738624</td><td>-0.008639668</td><td>-0.004547821</td><td>-0.004668640</td><td> 0.003564449</td><td> 0.005583519</td></tr>\n",
       "\t<tr><th scope=row>5</th><td>1000415</td><td>1000415</td><td>0</td><td>0</td><td>65</td><td> 0.0171827610</td><td> 0.050202540</td><td>-0.001868328</td><td> 0.003220866</td><td>-0.0153254036</td><td>-0.009360210</td><td> 0.003488297</td><td> 0.026279814</td><td> 0.001351374</td><td>-0.002582746</td></tr>\n",
       "\t<tr><th scope=row>6</th><td>1000674</td><td>1000674</td><td>0</td><td>0</td><td>41</td><td> 0.0125119033</td><td>-0.023940619</td><td> 0.016911804</td><td>-0.002264127</td><td> 0.0002390969</td><td> 0.011951628</td><td>-0.015426220</td><td>-0.004994943</td><td> 0.003275061</td><td>-0.013175549</td></tr>\n",
       "</tbody>\n",
       "</table>\n"
      ],
      "text/latex": [
       "A data.frame: 6 x 15\n",
       "\\begin{tabular}{r|lllllllllllllll}\n",
       "  & FID & IID & sex & f2247 & age & PC1 & PC2 & PC3 & PC4 & PC5 & PC6 & PC7 & PC8 & PC9 & PC10\\\\\n",
       "  & <int> & <int> & <int> & <int> & <int> & <dbl> & <dbl> & <dbl> & <dbl> & <dbl> & <dbl> & <dbl> & <dbl> & <dbl> & <dbl>\\\\\n",
       "\\hline\n",
       "\t1 & 1000078 & 1000078 & 1 & 0 & 60 &  0.0001682157 & -0.010868328 &  0.013926516 &  0.007888838 &  0.0058406530 & -0.004907483 &  0.003455339 & -0.002962793 & -0.008213459 &  0.011089191\\\\\n",
       "\t2 & 1000081 & 1000081 & 0 & 0 & 67 & -0.1377972901 &  0.019088647 & -0.012368020 & -0.013887942 &  0.0066285082 & -0.012289974 & -0.002614088 & -0.002112217 &  0.010352732 &  0.001305127\\\\\n",
       "\t3 & 1000236 & 1000236 & 0 & 0 & 70 & -0.0096662060 & -0.008954983 &  0.026675716 & -0.005429788 & -0.0057268152 &  0.012727944 &  0.015520513 &  0.001436914 & -0.009764744 &  0.032244368\\\\\n",
       "\t4 & 1000340 & 1000340 & 1 & 0 & 54 &  0.0136983803 &  0.004912169 &  0.010146371 & -0.002739609 & -0.0001738624 & -0.008639668 & -0.004547821 & -0.004668640 &  0.003564449 &  0.005583519\\\\\n",
       "\t5 & 1000415 & 1000415 & 0 & 0 & 65 &  0.0171827610 &  0.050202540 & -0.001868328 &  0.003220866 & -0.0153254036 & -0.009360210 &  0.003488297 &  0.026279814 &  0.001351374 & -0.002582746\\\\\n",
       "\t6 & 1000674 & 1000674 & 0 & 0 & 41 &  0.0125119033 & -0.023940619 &  0.016911804 & -0.002264127 &  0.0002390969 &  0.011951628 & -0.015426220 & -0.004994943 &  0.003275061 & -0.013175549\\\\\n",
       "\\end{tabular}\n"
      ],
      "text/markdown": [
       "\n",
       "A data.frame: 6 x 15\n",
       "\n",
       "| <!--/--> | FID &lt;int&gt; | IID &lt;int&gt; | sex &lt;int&gt; | f2247 &lt;int&gt; | age &lt;int&gt; | PC1 &lt;dbl&gt; | PC2 &lt;dbl&gt; | PC3 &lt;dbl&gt; | PC4 &lt;dbl&gt; | PC5 &lt;dbl&gt; | PC6 &lt;dbl&gt; | PC7 &lt;dbl&gt; | PC8 &lt;dbl&gt; | PC9 &lt;dbl&gt; | PC10 &lt;dbl&gt; |\n",
       "|---|---|---|---|---|---|---|---|---|---|---|---|---|---|---|---|\n",
       "| 1 | 1000078 | 1000078 | 1 | 0 | 60 |  0.0001682157 | -0.010868328 |  0.013926516 |  0.007888838 |  0.0058406530 | -0.004907483 |  0.003455339 | -0.002962793 | -0.008213459 |  0.011089191 |\n",
       "| 2 | 1000081 | 1000081 | 0 | 0 | 67 | -0.1377972901 |  0.019088647 | -0.012368020 | -0.013887942 |  0.0066285082 | -0.012289974 | -0.002614088 | -0.002112217 |  0.010352732 |  0.001305127 |\n",
       "| 3 | 1000236 | 1000236 | 0 | 0 | 70 | -0.0096662060 | -0.008954983 |  0.026675716 | -0.005429788 | -0.0057268152 |  0.012727944 |  0.015520513 |  0.001436914 | -0.009764744 |  0.032244368 |\n",
       "| 4 | 1000340 | 1000340 | 1 | 0 | 54 |  0.0136983803 |  0.004912169 |  0.010146371 | -0.002739609 | -0.0001738624 | -0.008639668 | -0.004547821 | -0.004668640 |  0.003564449 |  0.005583519 |\n",
       "| 5 | 1000415 | 1000415 | 0 | 0 | 65 |  0.0171827610 |  0.050202540 | -0.001868328 |  0.003220866 | -0.0153254036 | -0.009360210 |  0.003488297 |  0.026279814 |  0.001351374 | -0.002582746 |\n",
       "| 6 | 1000674 | 1000674 | 0 | 0 | 41 |  0.0125119033 | -0.023940619 |  0.016911804 | -0.002264127 |  0.0002390969 |  0.011951628 | -0.015426220 | -0.004994943 |  0.003275061 | -0.013175549 |\n",
       "\n"
      ],
      "text/plain": [
       "  FID     IID     sex f2247 age PC1           PC2          PC3         \n",
       "1 1000078 1000078 1   0     60   0.0001682157 -0.010868328  0.013926516\n",
       "2 1000081 1000081 0   0     67  -0.1377972901  0.019088647 -0.012368020\n",
       "3 1000236 1000236 0   0     70  -0.0096662060 -0.008954983  0.026675716\n",
       "4 1000340 1000340 1   0     54   0.0136983803  0.004912169  0.010146371\n",
       "5 1000415 1000415 0   0     65   0.0171827610  0.050202540 -0.001868328\n",
       "6 1000674 1000674 0   0     41   0.0125119033 -0.023940619  0.016911804\n",
       "  PC4          PC5           PC6          PC7          PC8         \n",
       "1  0.007888838  0.0058406530 -0.004907483  0.003455339 -0.002962793\n",
       "2 -0.013887942  0.0066285082 -0.012289974 -0.002614088 -0.002112217\n",
       "3 -0.005429788 -0.0057268152  0.012727944  0.015520513  0.001436914\n",
       "4 -0.002739609 -0.0001738624 -0.008639668 -0.004547821 -0.004668640\n",
       "5  0.003220866 -0.0153254036 -0.009360210  0.003488297  0.026279814\n",
       "6 -0.002264127  0.0002390969  0.011951628 -0.015426220 -0.004994943\n",
       "  PC9          PC10        \n",
       "1 -0.008213459  0.011089191\n",
       "2  0.010352732  0.001305127\n",
       "3 -0.009764744  0.032244368\n",
       "4  0.003564449  0.005583519\n",
       "5  0.001351374 -0.002582746\n",
       "6  0.003275061 -0.013175549"
      ]
     },
     "metadata": {},
     "output_type": "display_data"
    }
   ],
   "source": [
    "f2247 <- merge(pheno, pca, by = c('FID', 'IID'), all.y=TRUE)\n",
    "head(f2247)\n",
    "dim(f2247)\n",
    "library(dplyr)\n",
    "f2247_final <- select(f2247, -c('ID', 'ethnicity'))\n",
    "head(f2247_final)"
   ]
  },
  {
   "cell_type": "code",
   "execution_count": 30,
   "id": "d80f5c8b-94d8-4fd1-a6d7-c7ddbd039087",
   "metadata": {
    "kernel": "R"
   },
   "outputs": [
    {
     "data": {
      "text/html": [],
      "text/latex": [],
      "text/markdown": [],
      "text/plain": [
       "integer(0)"
      ]
     },
     "metadata": {},
     "output_type": "display_data"
    },
    {
     "data": {
      "text/html": [
       "0"
      ],
      "text/latex": [
       "0"
      ],
      "text/markdown": [
       "0"
      ],
      "text/plain": [
       "[1] 0"
      ]
     },
     "metadata": {},
     "output_type": "display_data"
    }
   ],
   "source": [
    "which(f2247_final$f2247==\"\", arr.ind=TRUE)\n",
    "sum(f2247_final$f2247==\"\")"
   ]
  },
  {
   "cell_type": "code",
   "execution_count": 31,
   "id": "854e8747-caee-4f6e-b241-4b54ff044b92",
   "metadata": {
    "kernel": "R"
   },
   "outputs": [],
   "source": [
    "write.table(f2247_final, \"/mnt/vast/hpc/csg/UKBiobank/results/ARHI_heritability/pheno_files/090321_UKBB_Hearing_difficulty_f2247_expandedwhite_45502cases_96601ctrl.common50K_PC1_10.greml_pheno\", sep=\"\\t\", row.names = FALSE, col.names =TRUE, quote=FALSE)"
   ]
  },
  {
   "cell_type": "markdown",
   "id": "d83ce9bc-550a-4c52-861b-1014704deba9",
   "metadata": {
    "kernel": "R"
   },
   "source": [
    "### Recalculate GRM for 50K individuals f2247"
   ]
  },
  {
   "cell_type": "code",
   "execution_count": 52,
   "id": "7cd508f9-5c4c-42d5-b6ec-98286dc44f03",
   "metadata": {
    "kernel": "Bash",
    "tags": []
   },
   "outputs": [
    {
     "name": "stdout",
     "output_type": "stream",
     "text": [
      "INFO: Running \u001b[32mcsg\u001b[0m: Configuration for Columbia csg partition cluster\n",
      "INFO: \u001b[32mcsg\u001b[0m is \u001b[32mcompleted\u001b[0m.\n",
      "INFO: \u001b[32mcsg\u001b[0m output:   \u001b[32m/mnt/mfs/statgen/UKBiobank/results/ARHI_heritability/052522_grm_common_50K/f2247/common_f2247_eur_unrel_gtca_50K_2022-06-14.sbatch\u001b[0m\n",
      "INFO: Workflow csg (ID=wd9a1e9b71fa79687) is executed successfully with 1 completed step.\n",
      "\n"
     ]
    }
   ],
   "source": [
    "bfile=~/UKBiobank/results/ARHI_heritability/051922_merged_bed/ukb23156_merged_eur_unrel_commonvarsMAFabove0.01.bed\n",
    "cwd=/mnt/vast/hpc/csg/UKBiobank/results/ARHI_heritability/052522_grm_common_50K/f2247\n",
    "numThreads=20\n",
    "gcta_sbatch=/mnt/vast/hpc/csg/UKBiobank/results/ARHI_heritability/052522_grm_common_50K/f2247/common_f2247_eur_unrel_gtca_50K_$(date +\"%Y-%m-%d\").sbatch\n",
    "gcta_sos=~/project/bioworkflows/GWAS/LMM.ipynb\n",
    "tpl_file=~/project/bioworkflows/admin/csg2.yml\n",
    "container=~/containers/lmm.sif\n",
    "#Phenofile is just inputed as a requirement for the LMM to run but it is not actually needed for GRM calculation\n",
    "phenoFile=/mnt/vast/hpc/csg/UKBiobank/phenotype_files/hearing_impairment/090321_UKBB_Hearing_difficulty_f2247_expandedwhite_45502cases_96601ctrl\n",
    "phenoCol=f2247\n",
    "covarCol=sex\n",
    "qCovarCol=\"age\"\n",
    "mem='8G'\n",
    "walltime='48h'\n",
    "keep_samples=/mnt/vast/hpc/csg/UKBiobank/results/ARHI_heritability/pheno_files/090321_UKBB_Hearing_difficulty_f2247_expandedwhite_45502cases_96601ctrl.50Ksubset.keep_id\n",
    "\n",
    "gcta_args=\"\"\"gcta\n",
    "    --cwd $cwd\n",
    "    --bfile $bfile\n",
    "    --phenoFile $phenoFile\n",
    "    --phenoCol $phenoCol\n",
    "    --covarCol $covarCol\n",
    "    --qCovarCol $qCovarCol\n",
    "    --numThreads $numThreads\n",
    "    --phenoFile $phenoFile\n",
    "    --keep_samples $keep_samples\n",
    "    --container_lmm $container\n",
    "    --walltime $walltime\n",
    "    --mem $mem\n",
    "\"\"\"\n",
    "\n",
    "sos run ~/project/UKBB_GWAS_dev/admin/Get_Job_Script.ipynb csg\\\n",
    "    --template-file $tpl_file \\\n",
    "    --workflow-file $gcta_sos \\\n",
    "    --to-script $gcta_sbatch \\\n",
    "    --args \"$gcta_args\""
   ]
  },
  {
   "cell_type": "markdown",
   "id": "32546aa1-3e2d-4894-a1a9-f90f15ee50c4",
   "metadata": {
    "kernel": "R"
   },
   "source": [
    "### Run GREML for common variants with 50K individuals "
   ]
  },
  {
   "cell_type": "code",
   "execution_count": 56,
   "id": "9fd46bce-4f70-4d1c-af1c-38478598e27d",
   "metadata": {
    "kernel": "Bash",
    "tags": []
   },
   "outputs": [
    {
     "name": "stdout",
     "output_type": "stream",
     "text": [
      "INFO: Running \u001b[32mcsg\u001b[0m: Configuration for Columbia csg partition cluster\n",
      "INFO: \u001b[32mcsg\u001b[0m is \u001b[32mcompleted\u001b[0m.\n",
      "INFO: \u001b[32mcsg\u001b[0m output:   \u001b[32m/mnt/mfs/statgen/UKBiobank/results/ARHI_heritability/060922_greml_f2247_common50K_prev0.32/f2247_greml_common_50K_2022-06-14.sbatch\u001b[0m\n",
      "INFO: Workflow csg (ID=w8d10416ba6431b9b) is executed successfully with 1 completed step.\n",
      "\n"
     ]
    }
   ],
   "source": [
    "## Columbia's cluster\n",
    "cwd=/mnt/vast/hpc/csg/UKBiobank/results/ARHI_heritability/060922_greml_f2247_common50K_prev0.32\n",
    "#This is the bfile obtained in step 1\n",
    "grm=/mnt/vast/hpc/csg/UKBiobank/results/ARHI_heritability/052522_grm_common_50K/f2247/ukb23156_merged_eur_unrel_commonvarsMAFabove0.01.grm.bin\n",
    "# Format FID, IID, pop\n",
    "phenoFile=/mnt/vast/hpc/csg/UKBiobank/results/ARHI_heritability/pheno_files/090321_UKBB_Hearing_difficulty_f2247_expandedwhite_45502cases_96601ctrl.common50K_PC1_10.greml_pheno\n",
    "greml_sbatch=/mnt/vast/hpc/csg/UKBiobank/results/ARHI_heritability/060922_greml_f2247_common50K_prev0.32/f2247_greml_common_50K_$(date +\"%Y-%m-%d\").sbatch\n",
    "greml_sos=~/project/UKBB_GWAS_dev/workflow/GREML.ipynb\n",
    "tpl_file=~/project/bioworkflows/admin/csg2.yml\n",
    "container=~/containers/lmm.sif\n",
    "phenoCol=f2247\n",
    "covarCol=sex\n",
    "qCovarCol=`echo age PC{1..10}`\n",
    "prevalence=0.32\n",
    "mem=\"100G\"\n",
    "\n",
    "greml_args=\"\"\"greml\n",
    "    --cwd $cwd\n",
    "    --grm $grm\n",
    "    --phenoFile $phenoFile\n",
    "    --phenoCol $phenoCol\n",
    "    --covarCol $covarCol\n",
    "    --qCovarCol $qCovarCol\n",
    "    --prevalence $prevalence\n",
    "    --mem $mem\n",
    "    --container $container   \n",
    "\"\"\"\n",
    "\n",
    "sos run  ~/project/UKBB_GWAS_dev/admin/Get_Job_Script.ipynb csg\\\n",
    "    --template-file $tpl_file \\\n",
    "    --workflow-file $greml_sos \\\n",
    "    --to-script $greml_sbatch \\\n",
    "    --args \"$greml_args\""
   ]
  },
  {
   "cell_type": "markdown",
   "id": "821c24c0-932a-4396-8dc3-0a24170e465e",
   "metadata": {
    "kernel": "R"
   },
   "source": [
    "## f2257 common variants"
   ]
  },
  {
   "cell_type": "markdown",
   "id": "9d5b957d-9144-407a-8ef0-26addb46be7b",
   "metadata": {
    "kernel": "Bash"
   },
   "source": [
    "### Get the 50K and 80K random samples for f2257"
   ]
  },
  {
   "cell_type": "code",
   "execution_count": 2,
   "id": "08cee4f8-3a76-40f0-8b78-7743357cf1dd",
   "metadata": {
    "kernel": "R",
    "tags": []
   },
   "outputs": [
    {
     "data": {
      "text/html": [
       "<table class=\"dataframe\">\n",
       "<caption>A data.frame: 6 x 6</caption>\n",
       "<thead>\n",
       "\t<tr><th></th><th scope=col>FID</th><th scope=col>IID</th><th scope=col>NA</th><th scope=col>NA</th><th scope=col>NA</th><th scope=col>NA</th></tr>\n",
       "\t<tr><th></th><th scope=col>&lt;int&gt;</th><th scope=col>&lt;int&gt;</th><th scope=col>&lt;int&gt;</th><th scope=col>&lt;int&gt;</th><th scope=col>&lt;int&gt;</th><th scope=col>&lt;int&gt;</th></tr>\n",
       "</thead>\n",
       "<tbody>\n",
       "\t<tr><th scope=row>1</th><td>1000019</td><td>1000019</td><td>0</td><td>0</td><td>0</td><td>-9</td></tr>\n",
       "\t<tr><th scope=row>2</th><td>1000078</td><td>1000078</td><td>0</td><td>0</td><td>0</td><td>-9</td></tr>\n",
       "\t<tr><th scope=row>3</th><td>1000081</td><td>1000081</td><td>0</td><td>0</td><td>0</td><td>-9</td></tr>\n",
       "\t<tr><th scope=row>4</th><td>1000198</td><td>1000198</td><td>0</td><td>0</td><td>0</td><td>-9</td></tr>\n",
       "\t<tr><th scope=row>5</th><td>1000210</td><td>1000210</td><td>0</td><td>0</td><td>0</td><td>-9</td></tr>\n",
       "\t<tr><th scope=row>6</th><td>1000236</td><td>1000236</td><td>0</td><td>0</td><td>0</td><td>-9</td></tr>\n",
       "</tbody>\n",
       "</table>\n"
      ],
      "text/latex": [
       "A data.frame: 6 x 6\n",
       "\\begin{tabular}{r|llllll}\n",
       "  & FID & IID & NA & NA & NA & NA\\\\\n",
       "  & <int> & <int> & <int> & <int> & <int> & <int>\\\\\n",
       "\\hline\n",
       "\t1 & 1000019 & 1000019 & 0 & 0 & 0 & -9\\\\\n",
       "\t2 & 1000078 & 1000078 & 0 & 0 & 0 & -9\\\\\n",
       "\t3 & 1000081 & 1000081 & 0 & 0 & 0 & -9\\\\\n",
       "\t4 & 1000198 & 1000198 & 0 & 0 & 0 & -9\\\\\n",
       "\t5 & 1000210 & 1000210 & 0 & 0 & 0 & -9\\\\\n",
       "\t6 & 1000236 & 1000236 & 0 & 0 & 0 & -9\\\\\n",
       "\\end{tabular}\n"
      ],
      "text/markdown": [
       "\n",
       "A data.frame: 6 x 6\n",
       "\n",
       "| <!--/--> | FID &lt;int&gt; | IID &lt;int&gt; | NA &lt;int&gt; | NA &lt;int&gt; | NA &lt;int&gt; | NA &lt;int&gt; |\n",
       "|---|---|---|---|---|---|---|\n",
       "| 1 | 1000019 | 1000019 | 0 | 0 | 0 | -9 |\n",
       "| 2 | 1000078 | 1000078 | 0 | 0 | 0 | -9 |\n",
       "| 3 | 1000081 | 1000081 | 0 | 0 | 0 | -9 |\n",
       "| 4 | 1000198 | 1000198 | 0 | 0 | 0 | -9 |\n",
       "| 5 | 1000210 | 1000210 | 0 | 0 | 0 | -9 |\n",
       "| 6 | 1000236 | 1000236 | 0 | 0 | 0 | -9 |\n",
       "\n"
      ],
      "text/plain": [
       "  FID     IID     <NA> <NA> <NA> <NA>\n",
       "1 1000019 1000019 0    0    0    -9  \n",
       "2 1000078 1000078 0    0    0    -9  \n",
       "3 1000081 1000081 0    0    0    -9  \n",
       "4 1000198 1000198 0    0    0    -9  \n",
       "5 1000210 1000210 0    0    0    -9  \n",
       "6 1000236 1000236 0    0    0    -9  "
      ]
     },
     "metadata": {},
     "output_type": "display_data"
    },
    {
     "data": {
      "text/html": [
       "<style>\n",
       ".list-inline {list-style: none; margin:0; padding: 0}\n",
       ".list-inline>li {display: inline-block}\n",
       ".list-inline>li:not(:last-child)::after {content: \"\\00b7\"; padding: 0 .5ex}\n",
       "</style>\n",
       "<ol class=list-inline><li>167478</li><li>6</li></ol>\n"
      ],
      "text/latex": [
       "\\begin{enumerate*}\n",
       "\\item 167478\n",
       "\\item 6\n",
       "\\end{enumerate*}\n"
      ],
      "text/markdown": [
       "1. 167478\n",
       "2. 6\n",
       "\n",
       "\n"
      ],
      "text/plain": [
       "[1] 167478      6"
      ]
     },
     "metadata": {},
     "output_type": "display_data"
    }
   ],
   "source": [
    "# This file contains the list of individuals that are white European and unrelated which was used to build the GRM\n",
    "white_unrel <-  read.table(\"~/UKBiobank/results/ARHI_heritability/052022_ldprun_common/ukb23156_merged_eur_unrel_commonvarsMAFabove0.01.filtered.prune.fam\", header=F)\n",
    "colnames(white_unrel)<- c('FID','IID')\n",
    "head(white_unrel)\n",
    "dim(white_unrel)"
   ]
  },
  {
   "cell_type": "code",
   "execution_count": 5,
   "id": "53a52ec6-dfc0-46ee-a1e0-4c6c8e38f415",
   "metadata": {
    "kernel": "R",
    "tags": []
   },
   "outputs": [
    {
     "data": {
      "text/html": [
       "<table class=\"dataframe\">\n",
       "<caption>A data.frame: 6 x 2</caption>\n",
       "<thead>\n",
       "\t<tr><th></th><th scope=col>FID</th><th scope=col>IID</th></tr>\n",
       "\t<tr><th></th><th scope=col>&lt;int&gt;</th><th scope=col>&lt;int&gt;</th></tr>\n",
       "</thead>\n",
       "<tbody>\n",
       "\t<tr><th scope=row>1</th><td>1000035</td><td>1000035</td></tr>\n",
       "\t<tr><th scope=row>2</th><td>1000198</td><td>1000198</td></tr>\n",
       "\t<tr><th scope=row>3</th><td>1000304</td><td>1000304</td></tr>\n",
       "\t<tr><th scope=row>4</th><td>1000396</td><td>1000396</td></tr>\n",
       "\t<tr><th scope=row>5</th><td>1000494</td><td>1000494</td></tr>\n",
       "\t<tr><th scope=row>6</th><td>1000551</td><td>1000551</td></tr>\n",
       "</tbody>\n",
       "</table>\n"
      ],
      "text/latex": [
       "A data.frame: 6 x 2\n",
       "\\begin{tabular}{r|ll}\n",
       "  & FID & IID\\\\\n",
       "  & <int> & <int>\\\\\n",
       "\\hline\n",
       "\t1 & 1000035 & 1000035\\\\\n",
       "\t2 & 1000198 & 1000198\\\\\n",
       "\t3 & 1000304 & 1000304\\\\\n",
       "\t4 & 1000396 & 1000396\\\\\n",
       "\t5 & 1000494 & 1000494\\\\\n",
       "\t6 & 1000551 & 1000551\\\\\n",
       "\\end{tabular}\n"
      ],
      "text/markdown": [
       "\n",
       "A data.frame: 6 x 2\n",
       "\n",
       "| <!--/--> | FID &lt;int&gt; | IID &lt;int&gt; |\n",
       "|---|---|---|\n",
       "| 1 | 1000035 | 1000035 |\n",
       "| 2 | 1000198 | 1000198 |\n",
       "| 3 | 1000304 | 1000304 |\n",
       "| 4 | 1000396 | 1000396 |\n",
       "| 5 | 1000494 | 1000494 |\n",
       "| 6 | 1000551 | 1000551 |\n",
       "\n"
      ],
      "text/plain": [
       "  FID     IID    \n",
       "1 1000035 1000035\n",
       "2 1000198 1000198\n",
       "3 1000304 1000304\n",
       "4 1000396 1000396\n",
       "5 1000494 1000494\n",
       "6 1000551 1000551"
      ]
     },
     "metadata": {},
     "output_type": "display_data"
    },
    {
     "data": {
      "text/html": [
       "<style>\n",
       ".list-inline {list-style: none; margin:0; padding: 0}\n",
       ".list-inline>li {display: inline-block}\n",
       ".list-inline>li:not(:last-child)::after {content: \"\\00b7\"; padding: 0 .5ex}\n",
       "</style>\n",
       "<ol class=list-inline><li>162261</li><li>2</li></ol>\n"
      ],
      "text/latex": [
       "\\begin{enumerate*}\n",
       "\\item 162261\n",
       "\\item 2\n",
       "\\end{enumerate*}\n"
      ],
      "text/markdown": [
       "1. 162261\n",
       "2. 2\n",
       "\n",
       "\n"
      ],
      "text/plain": [
       "[1] 162261      2"
      ]
     },
     "metadata": {},
     "output_type": "display_data"
    }
   ],
   "source": [
    "pheno <- read.table(\"~/UKBiobank/results/083021_PCA_results/090321_UKBB_Hearing_noise_f2257_expandedwhite_65660cases_96601ctrl.keep_id\", header=F)\n",
    "colnames(pheno) <- c('FID','IID')\n",
    "head(pheno)\n",
    "dim(pheno)"
   ]
  },
  {
   "cell_type": "code",
   "execution_count": 4,
   "id": "4b868b7a-c929-4943-9189-c77a776bcfd0",
   "metadata": {
    "kernel": "R"
   },
   "outputs": [
    {
     "data": {
      "text/html": [
       "<style>\n",
       ".list-inline {list-style: none; margin:0; padding: 0}\n",
       ".list-inline>li {display: inline-block}\n",
       ".list-inline>li:not(:last-child)::after {content: \"\\00b7\"; padding: 0 .5ex}\n",
       "</style>\n",
       "<ol class=list-inline><li>144641</li><li>2</li></ol>\n"
      ],
      "text/latex": [
       "\\begin{enumerate*}\n",
       "\\item 144641\n",
       "\\item 2\n",
       "\\end{enumerate*}\n"
      ],
      "text/markdown": [
       "1. 144641\n",
       "2. 2\n",
       "\n",
       "\n"
      ],
      "text/plain": [
       "[1] 144641      2"
      ]
     },
     "metadata": {},
     "output_type": "display_data"
    }
   ],
   "source": [
    "pheno_white_unrel <- pheno[which(pheno$IID %in% white_unrel$IID),]\n",
    "dim(pheno_white_unrel)"
   ]
  },
  {
   "cell_type": "code",
   "execution_count": 6,
   "id": "2b33846e-7a82-46b7-a388-60cf866a1397",
   "metadata": {
    "kernel": "R",
    "tags": []
   },
   "outputs": [
    {
     "data": {
      "text/html": [
       "50000"
      ],
      "text/latex": [
       "50000"
      ],
      "text/markdown": [
       "50000"
      ],
      "text/plain": [
       "[1] 50000"
      ]
     },
     "metadata": {},
     "output_type": "display_data"
    }
   ],
   "source": [
    "# Get a subset of 50K individuals\n",
    "subset_ind <- pheno_white_unrel[sample(nrow(pheno_white_unrel), 50000), ]\n",
    "nrow(subset_ind)"
   ]
  },
  {
   "cell_type": "code",
   "execution_count": 7,
   "id": "e464ee13-60a8-44c8-a3ff-c03d7ff0a8e7",
   "metadata": {
    "kernel": "R"
   },
   "outputs": [],
   "source": [
    "keep_samples <- subset_ind[, c('FID', 'IID')]"
   ]
  },
  {
   "cell_type": "code",
   "execution_count": 8,
   "id": "62438dea-66da-4c55-af26-7e64c67a60e1",
   "metadata": {
    "kernel": "R"
   },
   "outputs": [
    {
     "data": {
      "text/html": [
       "<table class=\"dataframe\">\n",
       "<caption>A data.frame: 6 x 2</caption>\n",
       "<thead>\n",
       "\t<tr><th></th><th scope=col>FID</th><th scope=col>IID</th></tr>\n",
       "\t<tr><th></th><th scope=col>&lt;int&gt;</th><th scope=col>&lt;int&gt;</th></tr>\n",
       "</thead>\n",
       "<tbody>\n",
       "\t<tr><th scope=row>7532</th><td>1570915</td><td>1570915</td></tr>\n",
       "\t<tr><th scope=row>136298</th><td>4670666</td><td>4670666</td></tr>\n",
       "\t<tr><th scope=row>40482</th><td>4106711</td><td>4106711</td></tr>\n",
       "\t<tr><th scope=row>6493</th><td>1488858</td><td>1488858</td></tr>\n",
       "\t<tr><th scope=row>42342</th><td>4246213</td><td>4246213</td></tr>\n",
       "\t<tr><th scope=row>80491</th><td>1772970</td><td>1772970</td></tr>\n",
       "</tbody>\n",
       "</table>\n"
      ],
      "text/latex": [
       "A data.frame: 6 x 2\n",
       "\\begin{tabular}{r|ll}\n",
       "  & FID & IID\\\\\n",
       "  & <int> & <int>\\\\\n",
       "\\hline\n",
       "\t7532 & 1570915 & 1570915\\\\\n",
       "\t136298 & 4670666 & 4670666\\\\\n",
       "\t40482 & 4106711 & 4106711\\\\\n",
       "\t6493 & 1488858 & 1488858\\\\\n",
       "\t42342 & 4246213 & 4246213\\\\\n",
       "\t80491 & 1772970 & 1772970\\\\\n",
       "\\end{tabular}\n"
      ],
      "text/markdown": [
       "\n",
       "A data.frame: 6 x 2\n",
       "\n",
       "| <!--/--> | FID &lt;int&gt; | IID &lt;int&gt; |\n",
       "|---|---|---|\n",
       "| 7532 | 1570915 | 1570915 |\n",
       "| 136298 | 4670666 | 4670666 |\n",
       "| 40482 | 4106711 | 4106711 |\n",
       "| 6493 | 1488858 | 1488858 |\n",
       "| 42342 | 4246213 | 4246213 |\n",
       "| 80491 | 1772970 | 1772970 |\n",
       "\n"
      ],
      "text/plain": [
       "       FID     IID    \n",
       "7532   1570915 1570915\n",
       "136298 4670666 4670666\n",
       "40482  4106711 4106711\n",
       "6493   1488858 1488858\n",
       "42342  4246213 4246213\n",
       "80491  1772970 1772970"
      ]
     },
     "metadata": {},
     "output_type": "display_data"
    }
   ],
   "source": [
    "head(keep_samples)"
   ]
  },
  {
   "cell_type": "code",
   "execution_count": 9,
   "id": "d759445e-7d1e-406a-90d6-98dcfa92ce9e",
   "metadata": {
    "kernel": "R"
   },
   "outputs": [],
   "source": [
    "# Write to a file for the 50K individuals\n",
    "write.table(keep_samples, \"/mnt/vast/hpc/csg/UKBiobank/results/ARHI_heritability/pheno_files/090321_UKBB_Hearing_noise_f2257_expandedwhite_65660cases_96601ctrl.50Ksubset.keep_id\", sep=\"\\t\", row.names = FALSE, col.names =FALSE, quote=FALSE)"
   ]
  },
  {
   "cell_type": "code",
   "execution_count": 10,
   "id": "d905a496-fc9d-4afe-a762-477e93e41cf4",
   "metadata": {
    "kernel": "R"
   },
   "outputs": [
    {
     "data": {
      "text/html": [
       "80000"
      ],
      "text/latex": [
       "80000"
      ],
      "text/markdown": [
       "80000"
      ],
      "text/plain": [
       "[1] 80000"
      ]
     },
     "metadata": {},
     "output_type": "display_data"
    }
   ],
   "source": [
    "# Get a subset of 80K individuals\n",
    "subset_ind <- pheno_white_unrel[sample(nrow(pheno_white_unrel), 80000), ]\n",
    "nrow(subset_ind)"
   ]
  },
  {
   "cell_type": "code",
   "execution_count": 11,
   "id": "0fc565f7-8238-4803-9299-0add62a20e0d",
   "metadata": {
    "kernel": "R"
   },
   "outputs": [],
   "source": [
    "# Write to a file for the 80K individuals\n",
    "write.table(keep_samples, \"/mnt/vast/hpc/csg/UKBiobank/results/ARHI_heritability/pheno_files/090321_UKBB_Hearing_noise_f2257_expandedwhite_65660cases_96601ctrl.80Ksubset.keep_id\", sep=\"\\t\", row.names = FALSE, col.names =FALSE, quote=FALSE)"
   ]
  },
  {
   "cell_type": "markdown",
   "id": "d3b4f10d-a01f-49e7-99df-851684350c44",
   "metadata": {
    "kernel": "R",
    "tags": []
   },
   "source": [
    "#### PCA Step 1 50K"
   ]
  },
  {
   "cell_type": "code",
   "execution_count": 12,
   "id": "5a6966a2-f053-4de6-93f0-97f36f2cf616",
   "metadata": {
    "kernel": "Bash",
    "tags": []
   },
   "outputs": [
    {
     "name": "stdout",
     "output_type": "stream",
     "text": [
      "INFO: Running \u001b[32mcsg\u001b[0m: Configuration for Columbia csg partition cluster\n",
      "INFO: \u001b[32mcsg\u001b[0m is \u001b[32mcompleted\u001b[0m.\n",
      "INFO: \u001b[32mcsg\u001b[0m output:   \u001b[32m/mnt/mfs/statgen/UKBiobank/results/ARHI_heritability/061322_pca_common_50K/f2257/common_f2257_pca_50K_2022-06-14.sbatch\u001b[0m\n",
      "INFO: Workflow csg (ID=w6536308cf565914b) is executed successfully with 1 completed step.\n",
      "\n"
     ]
    }
   ],
   "source": [
    "## Columbia's cluster\n",
    "cwd=/mnt/vast/hpc/csg/UKBiobank/results/ARHI_heritability/061322_pca_common_50K/f2257\n",
    "gwas_sbatch=/mnt/vast/hpc/csg/UKBiobank/results/ARHI_heritability/061322_pca_common_50K/f2257/common_f2257_pca_50K_$(date +\"%Y-%m-%d\").sbatch\n",
    "## Use qc'ed genotype array\n",
    "genoFile=/mnt/vast/hpc/csg/UKBiobank/results/ARHI_heritability/052022_ldprun_common/ukb23156_merged_eur_unrel_commonvarsMAFabove0.01.filtered.prune.bed\n",
    "keep_samples=/mnt/vast/hpc/csg/UKBiobank/results/ARHI_heritability/pheno_files/090321_UKBB_Hearing_noise_f2257_expandedwhite_65660cases_96601ctrl.50Ksubset.keep_id\n",
    "\n",
    "#GWAS QC variables set all of this variables to 0 to avoid doing more filtering\n",
    "maf_filter=0\n",
    "geno_filter=0\n",
    "hwe_filter=0\n",
    "mind_filter=0\n",
    "numThreads=1\n",
    "mem='30G'\n",
    "gwasqc_sos=~/project/xqtl-pipeline/code/data_preprocessing/genotype/GWAS_QC.ipynb\n",
    "tpl_file=~/project/bioworkflows/admin/csg.yml\n",
    "container=~/containers/bioinfo.sif\n",
    "\n",
    "gwasqc_args=\"\"\"qc:1\n",
    "    --cwd $cwd\n",
    "    --genoFile $genoFile\n",
    "    --keep_samples $keep_samples\n",
    "    --maf_filter $maf_filter\n",
    "    --geno_filter $geno_filter\n",
    "    --hwe_filter $hwe_filter\n",
    "    --mind_filter $mind_filter\n",
    "    --numThreads $numThreads \n",
    "    --container $container\n",
    "    --mem $mem\n",
    "\"\"\"\n",
    "\n",
    "sos run ~/project/UKBB_GWAS_dev/admin/Get_Job_Script.ipynb csg \\\n",
    "    --template-file $tpl_file \\\n",
    "    --workflow-file $gwasqc_sos \\\n",
    "    --to-script $gwas_sbatch \\\n",
    "    --args \"$gwasqc_args\""
   ]
  },
  {
   "cell_type": "markdown",
   "id": "3ec075d4-4593-4b54-b111-f18f2c9924f1",
   "metadata": {
    "kernel": "R"
   },
   "source": [
    "#### PCA Step 2 50K"
   ]
  },
  {
   "cell_type": "code",
   "execution_count": 25,
   "id": "e48365ef-d99b-4f74-a1a3-b22f957c71a0",
   "metadata": {
    "kernel": "Bash"
   },
   "outputs": [
    {
     "name": "stdout",
     "output_type": "stream",
     "text": [
      "INFO: Running \u001b[32mcsg\u001b[0m: Configuration for Columbia csg partition cluster\n",
      "INFO: \u001b[32mcsg\u001b[0m is \u001b[32mcompleted\u001b[0m.\n",
      "INFO: \u001b[32mcsg\u001b[0m output:   \u001b[32m/mnt/mfs/statgen/UKBiobank/results/ARHI_heritability/061322_pca_common_50K/f2257/flashpca_f2257_50Kcommon_2022-06-14.sbatch\u001b[0m\n",
      "INFO: Workflow csg (ID=wc75cdd85d4690081) is executed successfully with 1 completed step.\n",
      "\n"
     ]
    }
   ],
   "source": [
    "## Columbia's cluster\n",
    "cwd=/mnt/vast/hpc/csg/UKBiobank/results/ARHI_heritability/061322_pca_common_50K/f2257\n",
    "#This is the bfile obtained in step 1\n",
    "genoFile=/mnt/vast/hpc/csg/UKBiobank/results/ARHI_heritability/061322_pca_common_50K/f2257/*.bed\n",
    "# Format FID, IID, pop\n",
    "# PC's are actually being calculated for 50K individuals that are white European and unrelated\n",
    "phenoFile=/mnt/vast/hpc/csg/UKBiobank/results/083021_PCA_results/090321_UKBB_Hearing_noise_f2257_expandedwhite_65660cases_96601ctrl.phenopca\n",
    "label_col=ethnicity\n",
    "pop_col=ethnicity\n",
    "pca_sbatch=/mnt/vast/hpc/csg/UKBiobank/results/ARHI_heritability/061322_pca_common_50K/f2257/flashpca_f2257_50Kcommon_$(date +\"%Y-%m-%d\").sbatch\n",
    "k=10\n",
    "min_axis=0\n",
    "max_axis=0\n",
    "pca_sos=~/project/xqtl-pipeline/code/data_preprocessing/genotype/PCA.ipynb\n",
    "tpl_file=~/project/bioworkflows/admin/csg.yml\n",
    "container=~/containers/flashpcaR.sif\n",
    "numThreads=1\n",
    "\n",
    "pca_args=\"\"\"flashpca\n",
    "    --cwd $cwd\n",
    "    --genoFile $genoFile\n",
    "    --phenoFile $phenoFile\n",
    "    --k $k\n",
    "    --label_col $label_col\n",
    "    --pop_col $pop_col\n",
    "    --min_axis $min_axis\n",
    "    --max_axis $max_axis\n",
    "    --numThreads $numThreads \n",
    "    --container $container\n",
    "\"\"\"\n",
    "\n",
    "sos run  ~/project/UKBB_GWAS_dev/admin/Get_Job_Script.ipynb csg\\\n",
    "    --template-file $tpl_file \\\n",
    "    --workflow-file $pca_sos \\\n",
    "    --to-script $pca_sbatch \\\n",
    "    --args \"$pca_args\""
   ]
  },
  {
   "cell_type": "markdown",
   "id": "8343557c-9eba-4554-a2b9-e6a16b849033",
   "metadata": {
    "kernel": "Bash"
   },
   "source": [
    "### Merge the phenofile with the PC's 50K"
   ]
  },
  {
   "cell_type": "code",
   "execution_count": 33,
   "id": "d1d081bd-020f-4653-90b8-359cc0180e6b",
   "metadata": {
    "kernel": "R",
    "tags": []
   },
   "outputs": [
    {
     "data": {
      "text/html": [
       "<table class=\"dataframe\">\n",
       "<caption>A data.frame: 6 x 5</caption>\n",
       "<thead>\n",
       "\t<tr><th></th><th scope=col>FID</th><th scope=col>IID</th><th scope=col>sex</th><th scope=col>f2257</th><th scope=col>age</th></tr>\n",
       "\t<tr><th></th><th scope=col>&lt;int&gt;</th><th scope=col>&lt;int&gt;</th><th scope=col>&lt;int&gt;</th><th scope=col>&lt;int&gt;</th><th scope=col>&lt;int&gt;</th></tr>\n",
       "</thead>\n",
       "<tbody>\n",
       "\t<tr><th scope=row>1</th><td>1000035</td><td>1000035</td><td>0</td><td>1</td><td>63</td></tr>\n",
       "\t<tr><th scope=row>2</th><td>1000198</td><td>1000198</td><td>1</td><td>1</td><td>41</td></tr>\n",
       "\t<tr><th scope=row>3</th><td>1000304</td><td>1000304</td><td>1</td><td>1</td><td>56</td></tr>\n",
       "\t<tr><th scope=row>4</th><td>1000396</td><td>1000396</td><td>0</td><td>1</td><td>48</td></tr>\n",
       "\t<tr><th scope=row>5</th><td>1000494</td><td>1000494</td><td>0</td><td>1</td><td>61</td></tr>\n",
       "\t<tr><th scope=row>6</th><td>1000551</td><td>1000551</td><td>0</td><td>1</td><td>68</td></tr>\n",
       "</tbody>\n",
       "</table>\n"
      ],
      "text/latex": [
       "A data.frame: 6 x 5\n",
       "\\begin{tabular}{r|lllll}\n",
       "  & FID & IID & sex & f2257 & age\\\\\n",
       "  & <int> & <int> & <int> & <int> & <int>\\\\\n",
       "\\hline\n",
       "\t1 & 1000035 & 1000035 & 0 & 1 & 63\\\\\n",
       "\t2 & 1000198 & 1000198 & 1 & 1 & 41\\\\\n",
       "\t3 & 1000304 & 1000304 & 1 & 1 & 56\\\\\n",
       "\t4 & 1000396 & 1000396 & 0 & 1 & 48\\\\\n",
       "\t5 & 1000494 & 1000494 & 0 & 1 & 61\\\\\n",
       "\t6 & 1000551 & 1000551 & 0 & 1 & 68\\\\\n",
       "\\end{tabular}\n"
      ],
      "text/markdown": [
       "\n",
       "A data.frame: 6 x 5\n",
       "\n",
       "| <!--/--> | FID &lt;int&gt; | IID &lt;int&gt; | sex &lt;int&gt; | f2257 &lt;int&gt; | age &lt;int&gt; |\n",
       "|---|---|---|---|---|---|\n",
       "| 1 | 1000035 | 1000035 | 0 | 1 | 63 |\n",
       "| 2 | 1000198 | 1000198 | 1 | 1 | 41 |\n",
       "| 3 | 1000304 | 1000304 | 1 | 1 | 56 |\n",
       "| 4 | 1000396 | 1000396 | 0 | 1 | 48 |\n",
       "| 5 | 1000494 | 1000494 | 0 | 1 | 61 |\n",
       "| 6 | 1000551 | 1000551 | 0 | 1 | 68 |\n",
       "\n"
      ],
      "text/plain": [
       "  FID     IID     sex f2257 age\n",
       "1 1000035 1000035 0   1     63 \n",
       "2 1000198 1000198 1   1     41 \n",
       "3 1000304 1000304 1   1     56 \n",
       "4 1000396 1000396 0   1     48 \n",
       "5 1000494 1000494 0   1     61 \n",
       "6 1000551 1000551 0   1     68 "
      ]
     },
     "metadata": {},
     "output_type": "display_data"
    },
    {
     "data": {
      "text/html": [
       "<style>\n",
       ".list-inline {list-style: none; margin:0; padding: 0}\n",
       ".list-inline>li {display: inline-block}\n",
       ".list-inline>li:not(:last-child)::after {content: \"\\00b7\"; padding: 0 .5ex}\n",
       "</style>\n",
       "<ol class=list-inline><li>162261</li><li>5</li></ol>\n"
      ],
      "text/latex": [
       "\\begin{enumerate*}\n",
       "\\item 162261\n",
       "\\item 5\n",
       "\\end{enumerate*}\n"
      ],
      "text/markdown": [
       "1. 162261\n",
       "2. 5\n",
       "\n",
       "\n"
      ],
      "text/plain": [
       "[1] 162261      5"
      ]
     },
     "metadata": {},
     "output_type": "display_data"
    }
   ],
   "source": [
    "pheno <- read.table(\"~/UKBiobank/phenotype_files/hearing_impairment/090321_UKBB_Hearing_noise_f2257_expandedwhite_65660cases_96601ctrl\", header=T)\n",
    "head(pheno)\n",
    "dim(pheno)"
   ]
  },
  {
   "cell_type": "code",
   "execution_count": 34,
   "id": "770ee7f8-320d-4ee8-92c5-c1172acb5ef8",
   "metadata": {
    "kernel": "R",
    "tags": []
   },
   "outputs": [
    {
     "data": {
      "text/html": [
       "<table class=\"dataframe\">\n",
       "<caption>A data.frame: 6 x 14</caption>\n",
       "<thead>\n",
       "\t<tr><th></th><th scope=col>ID</th><th scope=col>FID</th><th scope=col>IID</th><th scope=col>ethnicity</th><th scope=col>PC1</th><th scope=col>PC2</th><th scope=col>PC3</th><th scope=col>PC4</th><th scope=col>PC5</th><th scope=col>PC6</th><th scope=col>PC7</th><th scope=col>PC8</th><th scope=col>PC9</th><th scope=col>PC10</th></tr>\n",
       "\t<tr><th></th><th scope=col>&lt;fct&gt;</th><th scope=col>&lt;int&gt;</th><th scope=col>&lt;int&gt;</th><th scope=col>&lt;fct&gt;</th><th scope=col>&lt;dbl&gt;</th><th scope=col>&lt;dbl&gt;</th><th scope=col>&lt;dbl&gt;</th><th scope=col>&lt;dbl&gt;</th><th scope=col>&lt;dbl&gt;</th><th scope=col>&lt;dbl&gt;</th><th scope=col>&lt;dbl&gt;</th><th scope=col>&lt;dbl&gt;</th><th scope=col>&lt;dbl&gt;</th><th scope=col>&lt;dbl&gt;</th></tr>\n",
       "</thead>\n",
       "<tbody>\n",
       "\t<tr><th scope=row>1</th><td>1000198:1000198</td><td>1000198</td><td>1000198</td><td>British                   </td><td> 0.008703159</td><td> 0.016927991</td><td>-0.0142239732</td><td>-0.0091254594</td><td>-0.007455701</td><td>-0.016742283</td><td>-0.009152460</td><td>-0.0010389604</td><td>-7.670805e-05</td><td>-0.014548517</td></tr>\n",
       "\t<tr><th scope=row>2</th><td>1000236:1000236</td><td>1000236</td><td>1000236</td><td>British                   </td><td>-0.008314325</td><td>-0.010150314</td><td>-0.0249975681</td><td>-0.0002223465</td><td> 0.001298904</td><td>-0.022005640</td><td>-0.004730870</td><td>-0.0049540757</td><td> 9.384657e-03</td><td> 0.029767361</td></tr>\n",
       "\t<tr><th scope=row>3</th><td>1000331:1000331</td><td>1000331</td><td>1000331</td><td>Any_other_white_background</td><td>-0.082581777</td><td> 0.004069695</td><td>-0.0050828535</td><td> 0.0033783106</td><td>-0.001947084</td><td>-0.006427138</td><td> 0.036089759</td><td>-0.0005694666</td><td> 8.023191e-03</td><td> 0.010743691</td></tr>\n",
       "\t<tr><th scope=row>4</th><td>1000340:1000340</td><td>1000340</td><td>1000340</td><td>British                   </td><td> 0.012075342</td><td> 0.000599850</td><td>-0.0105988782</td><td> 0.0007342952</td><td> 0.004920901</td><td> 0.006027913</td><td> 0.002311576</td><td> 0.0063891532</td><td> 3.816363e-03</td><td> 0.006731609</td></tr>\n",
       "\t<tr><th scope=row>5</th><td>1000396:1000396</td><td>1000396</td><td>1000396</td><td>British                   </td><td> 0.020225342</td><td> 0.033027462</td><td> 0.0202408038</td><td>-0.0094411387</td><td> 0.022433478</td><td>-0.009788024</td><td> 0.013531119</td><td> 0.0006526454</td><td> 2.029744e-02</td><td>-0.005424345</td></tr>\n",
       "\t<tr><th scope=row>6</th><td>1000415:1000415</td><td>1000415</td><td>1000415</td><td>Irish                     </td><td> 0.017341955</td><td> 0.053733820</td><td> 0.0007680537</td><td> 0.0023536418</td><td>-0.018119910</td><td> 0.004422258</td><td> 0.001444200</td><td>-0.0249729215</td><td>-2.747917e-03</td><td>-0.005898875</td></tr>\n",
       "</tbody>\n",
       "</table>\n"
      ],
      "text/latex": [
       "A data.frame: 6 x 14\n",
       "\\begin{tabular}{r|llllllllllllll}\n",
       "  & ID & FID & IID & ethnicity & PC1 & PC2 & PC3 & PC4 & PC5 & PC6 & PC7 & PC8 & PC9 & PC10\\\\\n",
       "  & <fct> & <int> & <int> & <fct> & <dbl> & <dbl> & <dbl> & <dbl> & <dbl> & <dbl> & <dbl> & <dbl> & <dbl> & <dbl>\\\\\n",
       "\\hline\n",
       "\t1 & 1000198:1000198 & 1000198 & 1000198 & British                    &  0.008703159 &  0.016927991 & -0.0142239732 & -0.0091254594 & -0.007455701 & -0.016742283 & -0.009152460 & -0.0010389604 & -7.670805e-05 & -0.014548517\\\\\n",
       "\t2 & 1000236:1000236 & 1000236 & 1000236 & British                    & -0.008314325 & -0.010150314 & -0.0249975681 & -0.0002223465 &  0.001298904 & -0.022005640 & -0.004730870 & -0.0049540757 &  9.384657e-03 &  0.029767361\\\\\n",
       "\t3 & 1000331:1000331 & 1000331 & 1000331 & Any\\_other\\_white\\_background & -0.082581777 &  0.004069695 & -0.0050828535 &  0.0033783106 & -0.001947084 & -0.006427138 &  0.036089759 & -0.0005694666 &  8.023191e-03 &  0.010743691\\\\\n",
       "\t4 & 1000340:1000340 & 1000340 & 1000340 & British                    &  0.012075342 &  0.000599850 & -0.0105988782 &  0.0007342952 &  0.004920901 &  0.006027913 &  0.002311576 &  0.0063891532 &  3.816363e-03 &  0.006731609\\\\\n",
       "\t5 & 1000396:1000396 & 1000396 & 1000396 & British                    &  0.020225342 &  0.033027462 &  0.0202408038 & -0.0094411387 &  0.022433478 & -0.009788024 &  0.013531119 &  0.0006526454 &  2.029744e-02 & -0.005424345\\\\\n",
       "\t6 & 1000415:1000415 & 1000415 & 1000415 & Irish                      &  0.017341955 &  0.053733820 &  0.0007680537 &  0.0023536418 & -0.018119910 &  0.004422258 &  0.001444200 & -0.0249729215 & -2.747917e-03 & -0.005898875\\\\\n",
       "\\end{tabular}\n"
      ],
      "text/markdown": [
       "\n",
       "A data.frame: 6 x 14\n",
       "\n",
       "| <!--/--> | ID &lt;fct&gt; | FID &lt;int&gt; | IID &lt;int&gt; | ethnicity &lt;fct&gt; | PC1 &lt;dbl&gt; | PC2 &lt;dbl&gt; | PC3 &lt;dbl&gt; | PC4 &lt;dbl&gt; | PC5 &lt;dbl&gt; | PC6 &lt;dbl&gt; | PC7 &lt;dbl&gt; | PC8 &lt;dbl&gt; | PC9 &lt;dbl&gt; | PC10 &lt;dbl&gt; |\n",
       "|---|---|---|---|---|---|---|---|---|---|---|---|---|---|---|\n",
       "| 1 | 1000198:1000198 | 1000198 | 1000198 | British                    |  0.008703159 |  0.016927991 | -0.0142239732 | -0.0091254594 | -0.007455701 | -0.016742283 | -0.009152460 | -0.0010389604 | -7.670805e-05 | -0.014548517 |\n",
       "| 2 | 1000236:1000236 | 1000236 | 1000236 | British                    | -0.008314325 | -0.010150314 | -0.0249975681 | -0.0002223465 |  0.001298904 | -0.022005640 | -0.004730870 | -0.0049540757 |  9.384657e-03 |  0.029767361 |\n",
       "| 3 | 1000331:1000331 | 1000331 | 1000331 | Any_other_white_background | -0.082581777 |  0.004069695 | -0.0050828535 |  0.0033783106 | -0.001947084 | -0.006427138 |  0.036089759 | -0.0005694666 |  8.023191e-03 |  0.010743691 |\n",
       "| 4 | 1000340:1000340 | 1000340 | 1000340 | British                    |  0.012075342 |  0.000599850 | -0.0105988782 |  0.0007342952 |  0.004920901 |  0.006027913 |  0.002311576 |  0.0063891532 |  3.816363e-03 |  0.006731609 |\n",
       "| 5 | 1000396:1000396 | 1000396 | 1000396 | British                    |  0.020225342 |  0.033027462 |  0.0202408038 | -0.0094411387 |  0.022433478 | -0.009788024 |  0.013531119 |  0.0006526454 |  2.029744e-02 | -0.005424345 |\n",
       "| 6 | 1000415:1000415 | 1000415 | 1000415 | Irish                      |  0.017341955 |  0.053733820 |  0.0007680537 |  0.0023536418 | -0.018119910 |  0.004422258 |  0.001444200 | -0.0249729215 | -2.747917e-03 | -0.005898875 |\n",
       "\n"
      ],
      "text/plain": [
       "  ID              FID     IID     ethnicity                  PC1         \n",
       "1 1000198:1000198 1000198 1000198 British                     0.008703159\n",
       "2 1000236:1000236 1000236 1000236 British                    -0.008314325\n",
       "3 1000331:1000331 1000331 1000331 Any_other_white_background -0.082581777\n",
       "4 1000340:1000340 1000340 1000340 British                     0.012075342\n",
       "5 1000396:1000396 1000396 1000396 British                     0.020225342\n",
       "6 1000415:1000415 1000415 1000415 Irish                       0.017341955\n",
       "  PC2          PC3           PC4           PC5          PC6         \n",
       "1  0.016927991 -0.0142239732 -0.0091254594 -0.007455701 -0.016742283\n",
       "2 -0.010150314 -0.0249975681 -0.0002223465  0.001298904 -0.022005640\n",
       "3  0.004069695 -0.0050828535  0.0033783106 -0.001947084 -0.006427138\n",
       "4  0.000599850 -0.0105988782  0.0007342952  0.004920901  0.006027913\n",
       "5  0.033027462  0.0202408038 -0.0094411387  0.022433478 -0.009788024\n",
       "6  0.053733820  0.0007680537  0.0023536418 -0.018119910  0.004422258\n",
       "  PC7          PC8           PC9           PC10        \n",
       "1 -0.009152460 -0.0010389604 -7.670805e-05 -0.014548517\n",
       "2 -0.004730870 -0.0049540757  9.384657e-03  0.029767361\n",
       "3  0.036089759 -0.0005694666  8.023191e-03  0.010743691\n",
       "4  0.002311576  0.0063891532  3.816363e-03  0.006731609\n",
       "5  0.013531119  0.0006526454  2.029744e-02 -0.005424345\n",
       "6  0.001444200 -0.0249729215 -2.747917e-03 -0.005898875"
      ]
     },
     "metadata": {},
     "output_type": "display_data"
    },
    {
     "data": {
      "text/html": [
       "<style>\n",
       ".list-inline {list-style: none; margin:0; padding: 0}\n",
       ".list-inline>li {display: inline-block}\n",
       ".list-inline>li:not(:last-child)::after {content: \"\\00b7\"; padding: 0 .5ex}\n",
       "</style>\n",
       "<ol class=list-inline><li>50000</li><li>14</li></ol>\n"
      ],
      "text/latex": [
       "\\begin{enumerate*}\n",
       "\\item 50000\n",
       "\\item 14\n",
       "\\end{enumerate*}\n"
      ],
      "text/markdown": [
       "1. 50000\n",
       "2. 14\n",
       "\n",
       "\n"
      ],
      "text/plain": [
       "[1] 50000    14"
      ]
     },
     "metadata": {},
     "output_type": "display_data"
    }
   ],
   "source": [
    "pca <- read.table(\"~/UKBiobank/results/ARHI_heritability/061322_pca_common_50K/f2257/090321_UKBB_Hearing_noise_f2257_expandedwhite_65660cases_96601ctrl.pca.txt\", header=T)\n",
    "head(pca)\n",
    "dim(pca)"
   ]
  },
  {
   "cell_type": "code",
   "execution_count": 35,
   "id": "0da098d5-3b8f-451a-9af0-fe452e4644d6",
   "metadata": {
    "kernel": "R",
    "tags": []
   },
   "outputs": [
    {
     "data": {
      "text/html": [
       "<table class=\"dataframe\">\n",
       "<caption>A data.frame: 6 x 17</caption>\n",
       "<thead>\n",
       "\t<tr><th></th><th scope=col>FID</th><th scope=col>IID</th><th scope=col>sex</th><th scope=col>f2257</th><th scope=col>age</th><th scope=col>ID</th><th scope=col>ethnicity</th><th scope=col>PC1</th><th scope=col>PC2</th><th scope=col>PC3</th><th scope=col>PC4</th><th scope=col>PC5</th><th scope=col>PC6</th><th scope=col>PC7</th><th scope=col>PC8</th><th scope=col>PC9</th><th scope=col>PC10</th></tr>\n",
       "\t<tr><th></th><th scope=col>&lt;int&gt;</th><th scope=col>&lt;int&gt;</th><th scope=col>&lt;int&gt;</th><th scope=col>&lt;int&gt;</th><th scope=col>&lt;int&gt;</th><th scope=col>&lt;fct&gt;</th><th scope=col>&lt;fct&gt;</th><th scope=col>&lt;dbl&gt;</th><th scope=col>&lt;dbl&gt;</th><th scope=col>&lt;dbl&gt;</th><th scope=col>&lt;dbl&gt;</th><th scope=col>&lt;dbl&gt;</th><th scope=col>&lt;dbl&gt;</th><th scope=col>&lt;dbl&gt;</th><th scope=col>&lt;dbl&gt;</th><th scope=col>&lt;dbl&gt;</th><th scope=col>&lt;dbl&gt;</th></tr>\n",
       "</thead>\n",
       "<tbody>\n",
       "\t<tr><th scope=row>1</th><td>1000198</td><td>1000198</td><td>1</td><td>1</td><td>41</td><td>1000198:1000198</td><td>British                   </td><td> 0.008703159</td><td> 0.016927991</td><td>-0.0142239732</td><td>-0.0091254594</td><td>-0.007455701</td><td>-0.016742283</td><td>-0.009152460</td><td>-0.0010389604</td><td>-7.670805e-05</td><td>-0.014548517</td></tr>\n",
       "\t<tr><th scope=row>2</th><td>1000236</td><td>1000236</td><td>0</td><td>0</td><td>70</td><td>1000236:1000236</td><td>British                   </td><td>-0.008314325</td><td>-0.010150314</td><td>-0.0249975681</td><td>-0.0002223465</td><td> 0.001298904</td><td>-0.022005640</td><td>-0.004730870</td><td>-0.0049540757</td><td> 9.384657e-03</td><td> 0.029767361</td></tr>\n",
       "\t<tr><th scope=row>3</th><td>1000331</td><td>1000331</td><td>1</td><td>0</td><td>53</td><td>1000331:1000331</td><td>Any_other_white_background</td><td>-0.082581777</td><td> 0.004069695</td><td>-0.0050828535</td><td> 0.0033783106</td><td>-0.001947084</td><td>-0.006427138</td><td> 0.036089759</td><td>-0.0005694666</td><td> 8.023191e-03</td><td> 0.010743691</td></tr>\n",
       "\t<tr><th scope=row>4</th><td>1000340</td><td>1000340</td><td>1</td><td>0</td><td>54</td><td>1000340:1000340</td><td>British                   </td><td> 0.012075342</td><td> 0.000599850</td><td>-0.0105988782</td><td> 0.0007342952</td><td> 0.004920901</td><td> 0.006027913</td><td> 0.002311576</td><td> 0.0063891532</td><td> 3.816363e-03</td><td> 0.006731609</td></tr>\n",
       "\t<tr><th scope=row>5</th><td>1000396</td><td>1000396</td><td>0</td><td>1</td><td>48</td><td>1000396:1000396</td><td>British                   </td><td> 0.020225342</td><td> 0.033027462</td><td> 0.0202408038</td><td>-0.0094411387</td><td> 0.022433478</td><td>-0.009788024</td><td> 0.013531119</td><td> 0.0006526454</td><td> 2.029744e-02</td><td>-0.005424345</td></tr>\n",
       "\t<tr><th scope=row>6</th><td>1000415</td><td>1000415</td><td>0</td><td>0</td><td>65</td><td>1000415:1000415</td><td>Irish                     </td><td> 0.017341955</td><td> 0.053733820</td><td> 0.0007680537</td><td> 0.0023536418</td><td>-0.018119910</td><td> 0.004422258</td><td> 0.001444200</td><td>-0.0249729215</td><td>-2.747917e-03</td><td>-0.005898875</td></tr>\n",
       "</tbody>\n",
       "</table>\n"
      ],
      "text/latex": [
       "A data.frame: 6 x 17\n",
       "\\begin{tabular}{r|lllllllllllllllll}\n",
       "  & FID & IID & sex & f2257 & age & ID & ethnicity & PC1 & PC2 & PC3 & PC4 & PC5 & PC6 & PC7 & PC8 & PC9 & PC10\\\\\n",
       "  & <int> & <int> & <int> & <int> & <int> & <fct> & <fct> & <dbl> & <dbl> & <dbl> & <dbl> & <dbl> & <dbl> & <dbl> & <dbl> & <dbl> & <dbl>\\\\\n",
       "\\hline\n",
       "\t1 & 1000198 & 1000198 & 1 & 1 & 41 & 1000198:1000198 & British                    &  0.008703159 &  0.016927991 & -0.0142239732 & -0.0091254594 & -0.007455701 & -0.016742283 & -0.009152460 & -0.0010389604 & -7.670805e-05 & -0.014548517\\\\\n",
       "\t2 & 1000236 & 1000236 & 0 & 0 & 70 & 1000236:1000236 & British                    & -0.008314325 & -0.010150314 & -0.0249975681 & -0.0002223465 &  0.001298904 & -0.022005640 & -0.004730870 & -0.0049540757 &  9.384657e-03 &  0.029767361\\\\\n",
       "\t3 & 1000331 & 1000331 & 1 & 0 & 53 & 1000331:1000331 & Any\\_other\\_white\\_background & -0.082581777 &  0.004069695 & -0.0050828535 &  0.0033783106 & -0.001947084 & -0.006427138 &  0.036089759 & -0.0005694666 &  8.023191e-03 &  0.010743691\\\\\n",
       "\t4 & 1000340 & 1000340 & 1 & 0 & 54 & 1000340:1000340 & British                    &  0.012075342 &  0.000599850 & -0.0105988782 &  0.0007342952 &  0.004920901 &  0.006027913 &  0.002311576 &  0.0063891532 &  3.816363e-03 &  0.006731609\\\\\n",
       "\t5 & 1000396 & 1000396 & 0 & 1 & 48 & 1000396:1000396 & British                    &  0.020225342 &  0.033027462 &  0.0202408038 & -0.0094411387 &  0.022433478 & -0.009788024 &  0.013531119 &  0.0006526454 &  2.029744e-02 & -0.005424345\\\\\n",
       "\t6 & 1000415 & 1000415 & 0 & 0 & 65 & 1000415:1000415 & Irish                      &  0.017341955 &  0.053733820 &  0.0007680537 &  0.0023536418 & -0.018119910 &  0.004422258 &  0.001444200 & -0.0249729215 & -2.747917e-03 & -0.005898875\\\\\n",
       "\\end{tabular}\n"
      ],
      "text/markdown": [
       "\n",
       "A data.frame: 6 x 17\n",
       "\n",
       "| <!--/--> | FID &lt;int&gt; | IID &lt;int&gt; | sex &lt;int&gt; | f2257 &lt;int&gt; | age &lt;int&gt; | ID &lt;fct&gt; | ethnicity &lt;fct&gt; | PC1 &lt;dbl&gt; | PC2 &lt;dbl&gt; | PC3 &lt;dbl&gt; | PC4 &lt;dbl&gt; | PC5 &lt;dbl&gt; | PC6 &lt;dbl&gt; | PC7 &lt;dbl&gt; | PC8 &lt;dbl&gt; | PC9 &lt;dbl&gt; | PC10 &lt;dbl&gt; |\n",
       "|---|---|---|---|---|---|---|---|---|---|---|---|---|---|---|---|---|---|\n",
       "| 1 | 1000198 | 1000198 | 1 | 1 | 41 | 1000198:1000198 | British                    |  0.008703159 |  0.016927991 | -0.0142239732 | -0.0091254594 | -0.007455701 | -0.016742283 | -0.009152460 | -0.0010389604 | -7.670805e-05 | -0.014548517 |\n",
       "| 2 | 1000236 | 1000236 | 0 | 0 | 70 | 1000236:1000236 | British                    | -0.008314325 | -0.010150314 | -0.0249975681 | -0.0002223465 |  0.001298904 | -0.022005640 | -0.004730870 | -0.0049540757 |  9.384657e-03 |  0.029767361 |\n",
       "| 3 | 1000331 | 1000331 | 1 | 0 | 53 | 1000331:1000331 | Any_other_white_background | -0.082581777 |  0.004069695 | -0.0050828535 |  0.0033783106 | -0.001947084 | -0.006427138 |  0.036089759 | -0.0005694666 |  8.023191e-03 |  0.010743691 |\n",
       "| 4 | 1000340 | 1000340 | 1 | 0 | 54 | 1000340:1000340 | British                    |  0.012075342 |  0.000599850 | -0.0105988782 |  0.0007342952 |  0.004920901 |  0.006027913 |  0.002311576 |  0.0063891532 |  3.816363e-03 |  0.006731609 |\n",
       "| 5 | 1000396 | 1000396 | 0 | 1 | 48 | 1000396:1000396 | British                    |  0.020225342 |  0.033027462 |  0.0202408038 | -0.0094411387 |  0.022433478 | -0.009788024 |  0.013531119 |  0.0006526454 |  2.029744e-02 | -0.005424345 |\n",
       "| 6 | 1000415 | 1000415 | 0 | 0 | 65 | 1000415:1000415 | Irish                      |  0.017341955 |  0.053733820 |  0.0007680537 |  0.0023536418 | -0.018119910 |  0.004422258 |  0.001444200 | -0.0249729215 | -2.747917e-03 | -0.005898875 |\n",
       "\n"
      ],
      "text/plain": [
       "  FID     IID     sex f2257 age ID              ethnicity                 \n",
       "1 1000198 1000198 1   1     41  1000198:1000198 British                   \n",
       "2 1000236 1000236 0   0     70  1000236:1000236 British                   \n",
       "3 1000331 1000331 1   0     53  1000331:1000331 Any_other_white_background\n",
       "4 1000340 1000340 1   0     54  1000340:1000340 British                   \n",
       "5 1000396 1000396 0   1     48  1000396:1000396 British                   \n",
       "6 1000415 1000415 0   0     65  1000415:1000415 Irish                     \n",
       "  PC1          PC2          PC3           PC4           PC5         \n",
       "1  0.008703159  0.016927991 -0.0142239732 -0.0091254594 -0.007455701\n",
       "2 -0.008314325 -0.010150314 -0.0249975681 -0.0002223465  0.001298904\n",
       "3 -0.082581777  0.004069695 -0.0050828535  0.0033783106 -0.001947084\n",
       "4  0.012075342  0.000599850 -0.0105988782  0.0007342952  0.004920901\n",
       "5  0.020225342  0.033027462  0.0202408038 -0.0094411387  0.022433478\n",
       "6  0.017341955  0.053733820  0.0007680537  0.0023536418 -0.018119910\n",
       "  PC6          PC7          PC8           PC9           PC10        \n",
       "1 -0.016742283 -0.009152460 -0.0010389604 -7.670805e-05 -0.014548517\n",
       "2 -0.022005640 -0.004730870 -0.0049540757  9.384657e-03  0.029767361\n",
       "3 -0.006427138  0.036089759 -0.0005694666  8.023191e-03  0.010743691\n",
       "4  0.006027913  0.002311576  0.0063891532  3.816363e-03  0.006731609\n",
       "5 -0.009788024  0.013531119  0.0006526454  2.029744e-02 -0.005424345\n",
       "6  0.004422258  0.001444200 -0.0249729215 -2.747917e-03 -0.005898875"
      ]
     },
     "metadata": {},
     "output_type": "display_data"
    },
    {
     "data": {
      "text/html": [
       "<style>\n",
       ".list-inline {list-style: none; margin:0; padding: 0}\n",
       ".list-inline>li {display: inline-block}\n",
       ".list-inline>li:not(:last-child)::after {content: \"\\00b7\"; padding: 0 .5ex}\n",
       "</style>\n",
       "<ol class=list-inline><li>50000</li><li>17</li></ol>\n"
      ],
      "text/latex": [
       "\\begin{enumerate*}\n",
       "\\item 50000\n",
       "\\item 17\n",
       "\\end{enumerate*}\n"
      ],
      "text/markdown": [
       "1. 50000\n",
       "2. 17\n",
       "\n",
       "\n"
      ],
      "text/plain": [
       "[1] 50000    17"
      ]
     },
     "metadata": {},
     "output_type": "display_data"
    },
    {
     "data": {
      "text/html": [
       "<table class=\"dataframe\">\n",
       "<caption>A data.frame: 6 x 15</caption>\n",
       "<thead>\n",
       "\t<tr><th></th><th scope=col>FID</th><th scope=col>IID</th><th scope=col>sex</th><th scope=col>f2257</th><th scope=col>age</th><th scope=col>PC1</th><th scope=col>PC2</th><th scope=col>PC3</th><th scope=col>PC4</th><th scope=col>PC5</th><th scope=col>PC6</th><th scope=col>PC7</th><th scope=col>PC8</th><th scope=col>PC9</th><th scope=col>PC10</th></tr>\n",
       "\t<tr><th></th><th scope=col>&lt;int&gt;</th><th scope=col>&lt;int&gt;</th><th scope=col>&lt;int&gt;</th><th scope=col>&lt;int&gt;</th><th scope=col>&lt;int&gt;</th><th scope=col>&lt;dbl&gt;</th><th scope=col>&lt;dbl&gt;</th><th scope=col>&lt;dbl&gt;</th><th scope=col>&lt;dbl&gt;</th><th scope=col>&lt;dbl&gt;</th><th scope=col>&lt;dbl&gt;</th><th scope=col>&lt;dbl&gt;</th><th scope=col>&lt;dbl&gt;</th><th scope=col>&lt;dbl&gt;</th><th scope=col>&lt;dbl&gt;</th></tr>\n",
       "</thead>\n",
       "<tbody>\n",
       "\t<tr><th scope=row>1</th><td>1000198</td><td>1000198</td><td>1</td><td>1</td><td>41</td><td> 0.008703159</td><td> 0.016927991</td><td>-0.0142239732</td><td>-0.0091254594</td><td>-0.007455701</td><td>-0.016742283</td><td>-0.009152460</td><td>-0.0010389604</td><td>-7.670805e-05</td><td>-0.014548517</td></tr>\n",
       "\t<tr><th scope=row>2</th><td>1000236</td><td>1000236</td><td>0</td><td>0</td><td>70</td><td>-0.008314325</td><td>-0.010150314</td><td>-0.0249975681</td><td>-0.0002223465</td><td> 0.001298904</td><td>-0.022005640</td><td>-0.004730870</td><td>-0.0049540757</td><td> 9.384657e-03</td><td> 0.029767361</td></tr>\n",
       "\t<tr><th scope=row>3</th><td>1000331</td><td>1000331</td><td>1</td><td>0</td><td>53</td><td>-0.082581777</td><td> 0.004069695</td><td>-0.0050828535</td><td> 0.0033783106</td><td>-0.001947084</td><td>-0.006427138</td><td> 0.036089759</td><td>-0.0005694666</td><td> 8.023191e-03</td><td> 0.010743691</td></tr>\n",
       "\t<tr><th scope=row>4</th><td>1000340</td><td>1000340</td><td>1</td><td>0</td><td>54</td><td> 0.012075342</td><td> 0.000599850</td><td>-0.0105988782</td><td> 0.0007342952</td><td> 0.004920901</td><td> 0.006027913</td><td> 0.002311576</td><td> 0.0063891532</td><td> 3.816363e-03</td><td> 0.006731609</td></tr>\n",
       "\t<tr><th scope=row>5</th><td>1000396</td><td>1000396</td><td>0</td><td>1</td><td>48</td><td> 0.020225342</td><td> 0.033027462</td><td> 0.0202408038</td><td>-0.0094411387</td><td> 0.022433478</td><td>-0.009788024</td><td> 0.013531119</td><td> 0.0006526454</td><td> 2.029744e-02</td><td>-0.005424345</td></tr>\n",
       "\t<tr><th scope=row>6</th><td>1000415</td><td>1000415</td><td>0</td><td>0</td><td>65</td><td> 0.017341955</td><td> 0.053733820</td><td> 0.0007680537</td><td> 0.0023536418</td><td>-0.018119910</td><td> 0.004422258</td><td> 0.001444200</td><td>-0.0249729215</td><td>-2.747917e-03</td><td>-0.005898875</td></tr>\n",
       "</tbody>\n",
       "</table>\n"
      ],
      "text/latex": [
       "A data.frame: 6 x 15\n",
       "\\begin{tabular}{r|lllllllllllllll}\n",
       "  & FID & IID & sex & f2257 & age & PC1 & PC2 & PC3 & PC4 & PC5 & PC6 & PC7 & PC8 & PC9 & PC10\\\\\n",
       "  & <int> & <int> & <int> & <int> & <int> & <dbl> & <dbl> & <dbl> & <dbl> & <dbl> & <dbl> & <dbl> & <dbl> & <dbl> & <dbl>\\\\\n",
       "\\hline\n",
       "\t1 & 1000198 & 1000198 & 1 & 1 & 41 &  0.008703159 &  0.016927991 & -0.0142239732 & -0.0091254594 & -0.007455701 & -0.016742283 & -0.009152460 & -0.0010389604 & -7.670805e-05 & -0.014548517\\\\\n",
       "\t2 & 1000236 & 1000236 & 0 & 0 & 70 & -0.008314325 & -0.010150314 & -0.0249975681 & -0.0002223465 &  0.001298904 & -0.022005640 & -0.004730870 & -0.0049540757 &  9.384657e-03 &  0.029767361\\\\\n",
       "\t3 & 1000331 & 1000331 & 1 & 0 & 53 & -0.082581777 &  0.004069695 & -0.0050828535 &  0.0033783106 & -0.001947084 & -0.006427138 &  0.036089759 & -0.0005694666 &  8.023191e-03 &  0.010743691\\\\\n",
       "\t4 & 1000340 & 1000340 & 1 & 0 & 54 &  0.012075342 &  0.000599850 & -0.0105988782 &  0.0007342952 &  0.004920901 &  0.006027913 &  0.002311576 &  0.0063891532 &  3.816363e-03 &  0.006731609\\\\\n",
       "\t5 & 1000396 & 1000396 & 0 & 1 & 48 &  0.020225342 &  0.033027462 &  0.0202408038 & -0.0094411387 &  0.022433478 & -0.009788024 &  0.013531119 &  0.0006526454 &  2.029744e-02 & -0.005424345\\\\\n",
       "\t6 & 1000415 & 1000415 & 0 & 0 & 65 &  0.017341955 &  0.053733820 &  0.0007680537 &  0.0023536418 & -0.018119910 &  0.004422258 &  0.001444200 & -0.0249729215 & -2.747917e-03 & -0.005898875\\\\\n",
       "\\end{tabular}\n"
      ],
      "text/markdown": [
       "\n",
       "A data.frame: 6 x 15\n",
       "\n",
       "| <!--/--> | FID &lt;int&gt; | IID &lt;int&gt; | sex &lt;int&gt; | f2257 &lt;int&gt; | age &lt;int&gt; | PC1 &lt;dbl&gt; | PC2 &lt;dbl&gt; | PC3 &lt;dbl&gt; | PC4 &lt;dbl&gt; | PC5 &lt;dbl&gt; | PC6 &lt;dbl&gt; | PC7 &lt;dbl&gt; | PC8 &lt;dbl&gt; | PC9 &lt;dbl&gt; | PC10 &lt;dbl&gt; |\n",
       "|---|---|---|---|---|---|---|---|---|---|---|---|---|---|---|---|\n",
       "| 1 | 1000198 | 1000198 | 1 | 1 | 41 |  0.008703159 |  0.016927991 | -0.0142239732 | -0.0091254594 | -0.007455701 | -0.016742283 | -0.009152460 | -0.0010389604 | -7.670805e-05 | -0.014548517 |\n",
       "| 2 | 1000236 | 1000236 | 0 | 0 | 70 | -0.008314325 | -0.010150314 | -0.0249975681 | -0.0002223465 |  0.001298904 | -0.022005640 | -0.004730870 | -0.0049540757 |  9.384657e-03 |  0.029767361 |\n",
       "| 3 | 1000331 | 1000331 | 1 | 0 | 53 | -0.082581777 |  0.004069695 | -0.0050828535 |  0.0033783106 | -0.001947084 | -0.006427138 |  0.036089759 | -0.0005694666 |  8.023191e-03 |  0.010743691 |\n",
       "| 4 | 1000340 | 1000340 | 1 | 0 | 54 |  0.012075342 |  0.000599850 | -0.0105988782 |  0.0007342952 |  0.004920901 |  0.006027913 |  0.002311576 |  0.0063891532 |  3.816363e-03 |  0.006731609 |\n",
       "| 5 | 1000396 | 1000396 | 0 | 1 | 48 |  0.020225342 |  0.033027462 |  0.0202408038 | -0.0094411387 |  0.022433478 | -0.009788024 |  0.013531119 |  0.0006526454 |  2.029744e-02 | -0.005424345 |\n",
       "| 6 | 1000415 | 1000415 | 0 | 0 | 65 |  0.017341955 |  0.053733820 |  0.0007680537 |  0.0023536418 | -0.018119910 |  0.004422258 |  0.001444200 | -0.0249729215 | -2.747917e-03 | -0.005898875 |\n",
       "\n"
      ],
      "text/plain": [
       "  FID     IID     sex f2257 age PC1          PC2          PC3          \n",
       "1 1000198 1000198 1   1     41   0.008703159  0.016927991 -0.0142239732\n",
       "2 1000236 1000236 0   0     70  -0.008314325 -0.010150314 -0.0249975681\n",
       "3 1000331 1000331 1   0     53  -0.082581777  0.004069695 -0.0050828535\n",
       "4 1000340 1000340 1   0     54   0.012075342  0.000599850 -0.0105988782\n",
       "5 1000396 1000396 0   1     48   0.020225342  0.033027462  0.0202408038\n",
       "6 1000415 1000415 0   0     65   0.017341955  0.053733820  0.0007680537\n",
       "  PC4           PC5          PC6          PC7          PC8          \n",
       "1 -0.0091254594 -0.007455701 -0.016742283 -0.009152460 -0.0010389604\n",
       "2 -0.0002223465  0.001298904 -0.022005640 -0.004730870 -0.0049540757\n",
       "3  0.0033783106 -0.001947084 -0.006427138  0.036089759 -0.0005694666\n",
       "4  0.0007342952  0.004920901  0.006027913  0.002311576  0.0063891532\n",
       "5 -0.0094411387  0.022433478 -0.009788024  0.013531119  0.0006526454\n",
       "6  0.0023536418 -0.018119910  0.004422258  0.001444200 -0.0249729215\n",
       "  PC9           PC10        \n",
       "1 -7.670805e-05 -0.014548517\n",
       "2  9.384657e-03  0.029767361\n",
       "3  8.023191e-03  0.010743691\n",
       "4  3.816363e-03  0.006731609\n",
       "5  2.029744e-02 -0.005424345\n",
       "6 -2.747917e-03 -0.005898875"
      ]
     },
     "metadata": {},
     "output_type": "display_data"
    }
   ],
   "source": [
    "f2257 <- merge(pheno, pca, by = c('FID', 'IID'), all.y=TRUE)\n",
    "head(f2257)\n",
    "dim(f2257)\n",
    "library(dplyr)\n",
    "f2257_final <- select(f2257, -c('ID', 'ethnicity'))\n",
    "head(f2257_final)"
   ]
  },
  {
   "cell_type": "code",
   "execution_count": 36,
   "id": "102eceea-86d8-4a2e-b8ff-439828678118",
   "metadata": {
    "kernel": "R"
   },
   "outputs": [],
   "source": [
    "write.table(f2257_final, \"/mnt/vast/hpc/csg/UKBiobank/results/ARHI_heritability/pheno_files/090321_UKBB_Hearing_noise_f2257_expandedwhite_65660cases_96601ctrl.common50K_PC1_10.greml_pheno\", sep=\"\\t\", row.names = FALSE, col.names =TRUE, quote=FALSE)"
   ]
  },
  {
   "cell_type": "markdown",
   "id": "4f839ce8-b75d-422e-9bd5-3aee405a4d93",
   "metadata": {
    "kernel": "R"
   },
   "source": [
    "### Recalculate GRM for 50K individuals for f2257"
   ]
  },
  {
   "cell_type": "code",
   "execution_count": 50,
   "id": "ef8a149d-aa8b-4e49-86fb-02d56aed0bc8",
   "metadata": {
    "kernel": "Bash",
    "tags": []
   },
   "outputs": [
    {
     "name": "stdout",
     "output_type": "stream",
     "text": [
      "INFO: Running \u001b[32mcsg\u001b[0m: Configuration for Columbia csg partition cluster\n",
      "INFO: \u001b[32mcsg\u001b[0m is \u001b[32mcompleted\u001b[0m.\n",
      "INFO: \u001b[32mcsg\u001b[0m output:   \u001b[32m/mnt/mfs/statgen/UKBiobank/results/ARHI_heritability/052522_grm_common_50K/f2257/common_f2257_eur_unrel_gtca_50K_2022-06-14.sbatch\u001b[0m\n",
      "INFO: Workflow csg (ID=wddcc7cf05eaa282f) is executed successfully with 1 completed step.\n",
      "\n"
     ]
    }
   ],
   "source": [
    "bfile=~/UKBiobank/results/ARHI_heritability/051922_merged_bed/ukb23156_merged_eur_unrel_commonvarsMAFabove0.01.bed\n",
    "cwd=/mnt/vast/hpc/csg/UKBiobank/results/ARHI_heritability/052522_grm_common_50K/f2257\n",
    "numThreads=20\n",
    "gcta_sbatch=/mnt/vast/hpc/csg/UKBiobank/results/ARHI_heritability/052522_grm_common_50K/f2257/common_f2257_eur_unrel_gtca_50K_$(date +\"%Y-%m-%d\").sbatch\n",
    "gcta_sos=~/project/bioworkflows/GWAS/LMM.ipynb\n",
    "tpl_file=~/project/bioworkflows/admin/csg2.yml\n",
    "container=~/containers/lmm.sif\n",
    "#Phenofile is just inputed as a requirement for the LMM to run but it is not actually needed for GRM calculation\n",
    "phenoFile=/mnt/vast/hpc/csg/UKBiobank/phenotype_files/hearing_impairment/090321_UKBB_Hearing_noise_f2257_expandedwhite_65660cases_96601ctrl\n",
    "phenoCol=f2257\n",
    "covarCol=sex\n",
    "qCovarCol=\"age PC1 PC2\"\n",
    "mem='8G'\n",
    "walltime='48h'\n",
    "keep_samples=/mnt/vast/hpc/csg/UKBiobank/results/ARHI_heritability/pheno_files/090321_UKBB_Hearing_noise_f2257_expandedwhite_65660cases_96601ctrl.50Ksubset.keep_id\n",
    "\n",
    "gcta_args=\"\"\"gcta\n",
    "    --cwd $cwd\n",
    "    --bfile $bfile\n",
    "    --phenoFile $phenoFile\n",
    "    --phenoCol $phenoCol\n",
    "    --covarCol $covarCol\n",
    "    --qCovarCol $qCovarCol\n",
    "    --numThreads $numThreads\n",
    "    --phenoFile $phenoFile\n",
    "    --keep_samples $keep_samples\n",
    "    --container_lmm $container\n",
    "    --walltime $walltime\n",
    "    --mem $mem\n",
    "\"\"\"\n",
    "\n",
    "sos run ~/project/UKBB_GWAS_dev/admin/Get_Job_Script.ipynb csg\\\n",
    "    --template-file $tpl_file \\\n",
    "    --workflow-file $gcta_sos \\\n",
    "    --to-script $gcta_sbatch \\\n",
    "    --args \"$gcta_args\""
   ]
  },
  {
   "cell_type": "markdown",
   "id": "5572edb2-22fd-4f95-8376-dd74bb08439c",
   "metadata": {
    "kernel": "R"
   },
   "source": [
    "### Run GREML with common variants for 50K individuals"
   ]
  },
  {
   "cell_type": "code",
   "execution_count": 54,
   "id": "cfb4bdd8-339e-4d4c-8c39-66fe104a5d61",
   "metadata": {
    "kernel": "Bash",
    "tags": []
   },
   "outputs": [
    {
     "name": "stdout",
     "output_type": "stream",
     "text": [
      "INFO: Running \u001b[32mcsg\u001b[0m: Configuration for Columbia csg partition cluster\n",
      "INFO: \u001b[32mcsg\u001b[0m is \u001b[32mcompleted\u001b[0m.\n",
      "INFO: \u001b[32mcsg\u001b[0m output:   \u001b[32m/mnt/mfs/statgen/UKBiobank/results/ARHI_heritability/060922_greml_f2257_common50K_prev0.40/f2257_greml_common50K_2022-06-14.sbatch\u001b[0m\n",
      "INFO: Workflow csg (ID=wd29319332cee05f9) is executed successfully with 1 completed step.\n",
      "\n"
     ]
    }
   ],
   "source": [
    "## Columbia's cluster\n",
    "cwd=/mnt/vast/hpc/csg/UKBiobank/results/ARHI_heritability/060922_greml_f2257_common50K_prev0.40\n",
    "#This is the bfile obtained in step 1\n",
    "grm=/mnt/vast/hpc/csg/UKBiobank/results/ARHI_heritability/052522_grm_common_50K/f2257/ukb23156_merged_eur_unrel_commonvarsMAFabove0.01.grm.bin\n",
    "# Format FID, IID, pop\n",
    "phenoFile=/mnt/vast/hpc/csg/UKBiobank/results/ARHI_heritability/pheno_files/090321_UKBB_Hearing_noise_f2257_expandedwhite_65660cases_96601ctrl.common50K_PC1_10.greml_pheno\n",
    "greml_sbatch=/mnt/vast/hpc/csg/UKBiobank/results/ARHI_heritability/060922_greml_f2257_common50K_prev0.40/f2257_greml_common50K_$(date +\"%Y-%m-%d\").sbatch\n",
    "greml_sos=~/project/UKBB_GWAS_dev/workflow/GREML.ipynb\n",
    "tpl_file=~/project/bioworkflows/admin/csg2.yml\n",
    "container=~/containers/lmm.sif\n",
    "phenoCol=f2257\n",
    "covarCol=sex\n",
    "qCovarCol=`echo age PC{1..10}`\n",
    "prevalence=0.40\n",
    "mem=\"100G\"\n",
    "greml_args=\"\"\"greml\n",
    "    --cwd $cwd\n",
    "    --grm $grm\n",
    "    --phenoFile $phenoFile\n",
    "    --phenoCol $phenoCol\n",
    "    --covarCol $covarCol\n",
    "    --qCovarCol $qCovarCol\n",
    "    --prevalence $prevalence\n",
    "    --mem $mem\n",
    "    --container $container   \n",
    "\"\"\"\n",
    "\n",
    "sos run  ~/project/UKBB_GWAS_dev/admin/Get_Job_Script.ipynb csg\\\n",
    "    --template-file $tpl_file \\\n",
    "    --workflow-file $greml_sos \\\n",
    "    --to-script $greml_sbatch \\\n",
    "    --args \"$greml_args\""
   ]
  },
  {
   "cell_type": "markdown",
   "id": "75c117a7-c9e2-443a-ba4c-61166d50b27c",
   "metadata": {
    "kernel": "Bash"
   },
   "source": [
    "## H-both f2247 & f2257 common variants"
   ]
  },
  {
   "cell_type": "markdown",
   "id": "d00210ff-dc18-4d78-ab20-cf053bb1d56c",
   "metadata": {
    "kernel": "Bash"
   },
   "source": [
    "### Get the 50K and 80K random samples for the combined trait"
   ]
  },
  {
   "cell_type": "code",
   "execution_count": 14,
   "id": "ede9630f-604a-4399-ad01-71856691427c",
   "metadata": {
    "kernel": "R",
    "tags": []
   },
   "outputs": [
    {
     "data": {
      "text/html": [
       "<table class=\"dataframe\">\n",
       "<caption>A data.frame: 6 x 6</caption>\n",
       "<thead>\n",
       "\t<tr><th></th><th scope=col>FID</th><th scope=col>IID</th><th scope=col>NA</th><th scope=col>NA</th><th scope=col>NA</th><th scope=col>NA</th></tr>\n",
       "\t<tr><th></th><th scope=col>&lt;int&gt;</th><th scope=col>&lt;int&gt;</th><th scope=col>&lt;int&gt;</th><th scope=col>&lt;int&gt;</th><th scope=col>&lt;int&gt;</th><th scope=col>&lt;int&gt;</th></tr>\n",
       "</thead>\n",
       "<tbody>\n",
       "\t<tr><th scope=row>1</th><td>1000019</td><td>1000019</td><td>0</td><td>0</td><td>0</td><td>-9</td></tr>\n",
       "\t<tr><th scope=row>2</th><td>1000078</td><td>1000078</td><td>0</td><td>0</td><td>0</td><td>-9</td></tr>\n",
       "\t<tr><th scope=row>3</th><td>1000081</td><td>1000081</td><td>0</td><td>0</td><td>0</td><td>-9</td></tr>\n",
       "\t<tr><th scope=row>4</th><td>1000198</td><td>1000198</td><td>0</td><td>0</td><td>0</td><td>-9</td></tr>\n",
       "\t<tr><th scope=row>5</th><td>1000210</td><td>1000210</td><td>0</td><td>0</td><td>0</td><td>-9</td></tr>\n",
       "\t<tr><th scope=row>6</th><td>1000236</td><td>1000236</td><td>0</td><td>0</td><td>0</td><td>-9</td></tr>\n",
       "</tbody>\n",
       "</table>\n"
      ],
      "text/latex": [
       "A data.frame: 6 x 6\n",
       "\\begin{tabular}{r|llllll}\n",
       "  & FID & IID & NA & NA & NA & NA\\\\\n",
       "  & <int> & <int> & <int> & <int> & <int> & <int>\\\\\n",
       "\\hline\n",
       "\t1 & 1000019 & 1000019 & 0 & 0 & 0 & -9\\\\\n",
       "\t2 & 1000078 & 1000078 & 0 & 0 & 0 & -9\\\\\n",
       "\t3 & 1000081 & 1000081 & 0 & 0 & 0 & -9\\\\\n",
       "\t4 & 1000198 & 1000198 & 0 & 0 & 0 & -9\\\\\n",
       "\t5 & 1000210 & 1000210 & 0 & 0 & 0 & -9\\\\\n",
       "\t6 & 1000236 & 1000236 & 0 & 0 & 0 & -9\\\\\n",
       "\\end{tabular}\n"
      ],
      "text/markdown": [
       "\n",
       "A data.frame: 6 x 6\n",
       "\n",
       "| <!--/--> | FID &lt;int&gt; | IID &lt;int&gt; | NA &lt;int&gt; | NA &lt;int&gt; | NA &lt;int&gt; | NA &lt;int&gt; |\n",
       "|---|---|---|---|---|---|---|\n",
       "| 1 | 1000019 | 1000019 | 0 | 0 | 0 | -9 |\n",
       "| 2 | 1000078 | 1000078 | 0 | 0 | 0 | -9 |\n",
       "| 3 | 1000081 | 1000081 | 0 | 0 | 0 | -9 |\n",
       "| 4 | 1000198 | 1000198 | 0 | 0 | 0 | -9 |\n",
       "| 5 | 1000210 | 1000210 | 0 | 0 | 0 | -9 |\n",
       "| 6 | 1000236 | 1000236 | 0 | 0 | 0 | -9 |\n",
       "\n"
      ],
      "text/plain": [
       "  FID     IID     <NA> <NA> <NA> <NA>\n",
       "1 1000019 1000019 0    0    0    -9  \n",
       "2 1000078 1000078 0    0    0    -9  \n",
       "3 1000081 1000081 0    0    0    -9  \n",
       "4 1000198 1000198 0    0    0    -9  \n",
       "5 1000210 1000210 0    0    0    -9  \n",
       "6 1000236 1000236 0    0    0    -9  "
      ]
     },
     "metadata": {},
     "output_type": "display_data"
    },
    {
     "data": {
      "text/html": [
       "<style>\n",
       ".list-inline {list-style: none; margin:0; padding: 0}\n",
       ".list-inline>li {display: inline-block}\n",
       ".list-inline>li:not(:last-child)::after {content: \"\\00b7\"; padding: 0 .5ex}\n",
       "</style>\n",
       "<ol class=list-inline><li>167478</li><li>6</li></ol>\n"
      ],
      "text/latex": [
       "\\begin{enumerate*}\n",
       "\\item 167478\n",
       "\\item 6\n",
       "\\end{enumerate*}\n"
      ],
      "text/markdown": [
       "1. 167478\n",
       "2. 6\n",
       "\n",
       "\n"
      ],
      "text/plain": [
       "[1] 167478      6"
      ]
     },
     "metadata": {},
     "output_type": "display_data"
    }
   ],
   "source": [
    "# This file contains the list of individuals that are white European and unrelated which was used to build the GRM\n",
    "white_unrel <-  read.table(\"~/UKBiobank/results/ARHI_heritability/052022_ldprun_common/ukb23156_merged_eur_unrel_commonvarsMAFabove0.01.filtered.prune.fam\", header=F)\n",
    "colnames(white_unrel)<- c('FID','IID')\n",
    "head(white_unrel)\n",
    "dim(white_unrel)"
   ]
  },
  {
   "cell_type": "code",
   "execution_count": 15,
   "id": "c7124558-05d4-4055-a816-e69c999d761c",
   "metadata": {
    "kernel": "R",
    "tags": []
   },
   "outputs": [
    {
     "data": {
      "text/html": [
       "<table class=\"dataframe\">\n",
       "<caption>A data.frame: 6 x 2</caption>\n",
       "<thead>\n",
       "\t<tr><th></th><th scope=col>FID</th><th scope=col>IID</th></tr>\n",
       "\t<tr><th></th><th scope=col>&lt;int&gt;</th><th scope=col>&lt;int&gt;</th></tr>\n",
       "</thead>\n",
       "<tbody>\n",
       "\t<tr><th scope=row>1</th><td>1000198</td><td>1000198</td></tr>\n",
       "\t<tr><th scope=row>2</th><td>1000396</td><td>1000396</td></tr>\n",
       "\t<tr><th scope=row>3</th><td>1000494</td><td>1000494</td></tr>\n",
       "\t<tr><th scope=row>4</th><td>1001076</td><td>1001076</td></tr>\n",
       "\t<tr><th scope=row>5</th><td>1001123</td><td>1001123</td></tr>\n",
       "\t<tr><th scope=row>6</th><td>1001196</td><td>1001196</td></tr>\n",
       "</tbody>\n",
       "</table>\n"
      ],
      "text/latex": [
       "A data.frame: 6 x 2\n",
       "\\begin{tabular}{r|ll}\n",
       "  & FID & IID\\\\\n",
       "  & <int> & <int>\\\\\n",
       "\\hline\n",
       "\t1 & 1000198 & 1000198\\\\\n",
       "\t2 & 1000396 & 1000396\\\\\n",
       "\t3 & 1000494 & 1000494\\\\\n",
       "\t4 & 1001076 & 1001076\\\\\n",
       "\t5 & 1001123 & 1001123\\\\\n",
       "\t6 & 1001196 & 1001196\\\\\n",
       "\\end{tabular}\n"
      ],
      "text/markdown": [
       "\n",
       "A data.frame: 6 x 2\n",
       "\n",
       "| <!--/--> | FID &lt;int&gt; | IID &lt;int&gt; |\n",
       "|---|---|---|\n",
       "| 1 | 1000198 | 1000198 |\n",
       "| 2 | 1000396 | 1000396 |\n",
       "| 3 | 1000494 | 1000494 |\n",
       "| 4 | 1001076 | 1001076 |\n",
       "| 5 | 1001123 | 1001123 |\n",
       "| 6 | 1001196 | 1001196 |\n",
       "\n"
      ],
      "text/plain": [
       "  FID     IID    \n",
       "1 1000198 1000198\n",
       "2 1000396 1000396\n",
       "3 1000494 1000494\n",
       "4 1001076 1001076\n",
       "5 1001123 1001123\n",
       "6 1001196 1001196"
      ]
     },
     "metadata": {},
     "output_type": "display_data"
    },
    {
     "data": {
      "text/html": [
       "<style>\n",
       ".list-inline {list-style: none; margin:0; padding: 0}\n",
       ".list-inline>li {display: inline-block}\n",
       ".list-inline>li:not(:last-child)::after {content: \"\\00b7\"; padding: 0 .5ex}\n",
       "</style>\n",
       "<ol class=list-inline><li>135011</li><li>2</li></ol>\n"
      ],
      "text/latex": [
       "\\begin{enumerate*}\n",
       "\\item 135011\n",
       "\\item 2\n",
       "\\end{enumerate*}\n"
      ],
      "text/markdown": [
       "1. 135011\n",
       "2. 2\n",
       "\n",
       "\n"
      ],
      "text/plain": [
       "[1] 135011      2"
      ]
     },
     "metadata": {},
     "output_type": "display_data"
    }
   ],
   "source": [
    "pheno <- read.table(\"~/UKBiobank/results/083021_PCA_results/090321_UKBB_Combined_f2247_f2257_expandedwhite_38410cases_96601ctrl.keep_id\", header=F)\n",
    "colnames(pheno) <- c('FID','IID')\n",
    "head(pheno)\n",
    "dim(pheno)"
   ]
  },
  {
   "cell_type": "code",
   "execution_count": 16,
   "id": "53674940-d622-477f-ba6c-37935b31bd55",
   "metadata": {
    "kernel": "R"
   },
   "outputs": [
    {
     "data": {
      "text/html": [
       "<style>\n",
       ".list-inline {list-style: none; margin:0; padding: 0}\n",
       ".list-inline>li {display: inline-block}\n",
       ".list-inline>li:not(:last-child)::after {content: \"\\00b7\"; padding: 0 .5ex}\n",
       "</style>\n",
       "<ol class=list-inline><li>120281</li><li>2</li></ol>\n"
      ],
      "text/latex": [
       "\\begin{enumerate*}\n",
       "\\item 120281\n",
       "\\item 2\n",
       "\\end{enumerate*}\n"
      ],
      "text/markdown": [
       "1. 120281\n",
       "2. 2\n",
       "\n",
       "\n"
      ],
      "text/plain": [
       "[1] 120281      2"
      ]
     },
     "metadata": {},
     "output_type": "display_data"
    }
   ],
   "source": [
    "pheno_white_unrel <- pheno[which(pheno$IID %in% white_unrel$IID),]\n",
    "dim(pheno_white_unrel)"
   ]
  },
  {
   "cell_type": "code",
   "execution_count": 17,
   "id": "e7d66f0c-0593-4d49-aa10-5e277a034f97",
   "metadata": {
    "kernel": "R",
    "tags": []
   },
   "outputs": [
    {
     "data": {
      "text/html": [
       "50000"
      ],
      "text/latex": [
       "50000"
      ],
      "text/markdown": [
       "50000"
      ],
      "text/plain": [
       "[1] 50000"
      ]
     },
     "metadata": {},
     "output_type": "display_data"
    }
   ],
   "source": [
    "# Get a subset of 50K individuals\n",
    "subset_ind <- pheno_white_unrel[sample(nrow(pheno_white_unrel), 50000), ]\n",
    "nrow(subset_ind)"
   ]
  },
  {
   "cell_type": "code",
   "execution_count": 18,
   "id": "e18080f4-5db6-4997-9e43-9dbd72249db1",
   "metadata": {
    "kernel": "R"
   },
   "outputs": [],
   "source": [
    "keep_samples <- subset_ind[, c('FID', 'IID')]"
   ]
  },
  {
   "cell_type": "code",
   "execution_count": 19,
   "id": "70d4967b-0707-4257-87ff-09a138deb2bf",
   "metadata": {
    "kernel": "R"
   },
   "outputs": [
    {
     "data": {
      "text/html": [
       "<table class=\"dataframe\">\n",
       "<caption>A data.frame: 6 x 2</caption>\n",
       "<thead>\n",
       "\t<tr><th></th><th scope=col>FID</th><th scope=col>IID</th></tr>\n",
       "\t<tr><th></th><th scope=col>&lt;int&gt;</th><th scope=col>&lt;int&gt;</th></tr>\n",
       "</thead>\n",
       "<tbody>\n",
       "\t<tr><th scope=row>108883</th><td>4662538</td><td>4662538</td></tr>\n",
       "\t<tr><th scope=row>97299</th><td>4061891</td><td>4061891</td></tr>\n",
       "\t<tr><th scope=row>10280</th><td>2341886</td><td>2341886</td></tr>\n",
       "\t<tr><th scope=row>37369</th><td>5887215</td><td>5887215</td></tr>\n",
       "\t<tr><th scope=row>69492</th><td>2611022</td><td>2611022</td></tr>\n",
       "\t<tr><th scope=row>61252</th><td>2189392</td><td>2189392</td></tr>\n",
       "</tbody>\n",
       "</table>\n"
      ],
      "text/latex": [
       "A data.frame: 6 x 2\n",
       "\\begin{tabular}{r|ll}\n",
       "  & FID & IID\\\\\n",
       "  & <int> & <int>\\\\\n",
       "\\hline\n",
       "\t108883 & 4662538 & 4662538\\\\\n",
       "\t97299 & 4061891 & 4061891\\\\\n",
       "\t10280 & 2341886 & 2341886\\\\\n",
       "\t37369 & 5887215 & 5887215\\\\\n",
       "\t69492 & 2611022 & 2611022\\\\\n",
       "\t61252 & 2189392 & 2189392\\\\\n",
       "\\end{tabular}\n"
      ],
      "text/markdown": [
       "\n",
       "A data.frame: 6 x 2\n",
       "\n",
       "| <!--/--> | FID &lt;int&gt; | IID &lt;int&gt; |\n",
       "|---|---|---|\n",
       "| 108883 | 4662538 | 4662538 |\n",
       "| 97299 | 4061891 | 4061891 |\n",
       "| 10280 | 2341886 | 2341886 |\n",
       "| 37369 | 5887215 | 5887215 |\n",
       "| 69492 | 2611022 | 2611022 |\n",
       "| 61252 | 2189392 | 2189392 |\n",
       "\n"
      ],
      "text/plain": [
       "       FID     IID    \n",
       "108883 4662538 4662538\n",
       "97299  4061891 4061891\n",
       "10280  2341886 2341886\n",
       "37369  5887215 5887215\n",
       "69492  2611022 2611022\n",
       "61252  2189392 2189392"
      ]
     },
     "metadata": {},
     "output_type": "display_data"
    }
   ],
   "source": [
    "head(keep_samples)"
   ]
  },
  {
   "cell_type": "code",
   "execution_count": 20,
   "id": "7c4bd603-f1e5-403c-953a-e5e4f925e1ef",
   "metadata": {
    "kernel": "R"
   },
   "outputs": [],
   "source": [
    "# Write to a file for the 50K individuals\n",
    "write.table(keep_samples, \"/mnt/vast/hpc/csg/UKBiobank/results/ARHI_heritability/pheno_files/090321_UKBB_Combined_f2247_f2257_expandedwhite_38410cases_96601ctrl.50Ksubset.keep_id\", sep=\"\\t\", row.names = FALSE, col.names =FALSE, quote=FALSE)"
   ]
  },
  {
   "cell_type": "code",
   "execution_count": 21,
   "id": "4f8dec45-c716-4a24-a44b-f69f6b21e90c",
   "metadata": {
    "kernel": "R"
   },
   "outputs": [
    {
     "data": {
      "text/html": [
       "80000"
      ],
      "text/latex": [
       "80000"
      ],
      "text/markdown": [
       "80000"
      ],
      "text/plain": [
       "[1] 80000"
      ]
     },
     "metadata": {},
     "output_type": "display_data"
    }
   ],
   "source": [
    "# Get a subset of 80K individuals\n",
    "subset_ind <- pheno_white_unrel[sample(nrow(pheno_white_unrel), 80000), ]\n",
    "nrow(subset_ind)"
   ]
  },
  {
   "cell_type": "code",
   "execution_count": 22,
   "id": "fb83f53c-092d-4166-8d8b-f83b609a3df7",
   "metadata": {
    "kernel": "R"
   },
   "outputs": [],
   "source": [
    "# Write to a file for the 80K individuals\n",
    "write.table(keep_samples, \"/mnt/vast/hpc/csg/UKBiobank/results/ARHI_heritability/pheno_files/090321_UKBB_Combined_f2247_f2257_expandedwhite_38410cases_96601ctrl.80Ksubset.keep_id\", sep=\"\\t\", row.names = FALSE, col.names =FALSE, quote=FALSE)"
   ]
  },
  {
   "cell_type": "markdown",
   "id": "e6c18461-6058-4bb1-b406-906d45c99367",
   "metadata": {
    "kernel": "R",
    "tags": []
   },
   "source": [
    "#### PCA Step 1 50K"
   ]
  },
  {
   "cell_type": "code",
   "execution_count": 23,
   "id": "19d0bae5-f790-408a-b5b7-fd447ae783cf",
   "metadata": {
    "kernel": "Bash",
    "tags": []
   },
   "outputs": [
    {
     "name": "stdout",
     "output_type": "stream",
     "text": [
      "INFO: Running \u001b[32mcsg\u001b[0m: Configuration for Columbia csg partition cluster\n",
      "INFO: \u001b[32mcsg\u001b[0m is \u001b[32mcompleted\u001b[0m.\n",
      "INFO: \u001b[32mcsg\u001b[0m output:   \u001b[32m/mnt/mfs/statgen/UKBiobank/results/ARHI_heritability/061322_pca_common_50K/combined/common_combined_pca_50K_2022-06-14.sbatch\u001b[0m\n",
      "INFO: Workflow csg (ID=w22bfc9f27d9bd16e) is executed successfully with 1 completed step.\n",
      "\n"
     ]
    }
   ],
   "source": [
    "## Columbia's cluster\n",
    "cwd=/mnt/vast/hpc/csg/UKBiobank/results/ARHI_heritability/061322_pca_common_50K/combined\n",
    "gwas_sbatch=/mnt/vast/hpc/csg/UKBiobank/results/ARHI_heritability/061322_pca_common_50K/combined/common_combined_pca_50K_$(date +\"%Y-%m-%d\").sbatch\n",
    "## Use qc'ed genotype array\n",
    "genoFile=/mnt/vast/hpc/csg/UKBiobank/results/ARHI_heritability/052022_ldprun_common/ukb23156_merged_eur_unrel_commonvarsMAFabove0.01.filtered.prune.bed\n",
    "keep_samples=/mnt/vast/hpc/csg/UKBiobank/results/ARHI_heritability/pheno_files/090321_UKBB_Combined_f2247_f2257_expandedwhite_38410cases_96601ctrl.50Ksubset.keep_id\n",
    "\n",
    "#GWAS QC variables set all of this variables to 0 to avoid doing more filtering\n",
    "maf_filter=0\n",
    "geno_filter=0\n",
    "hwe_filter=0\n",
    "mind_filter=0\n",
    "numThreads=1\n",
    "mem='30G'\n",
    "gwasqc_sos=~/project/xqtl-pipeline/code/data_preprocessing/genotype/GWAS_QC.ipynb\n",
    "tpl_file=~/project/bioworkflows/admin/csg.yml\n",
    "container=~/containers/bioinfo.sif\n",
    "\n",
    "gwasqc_args=\"\"\"qc:1\n",
    "    --cwd $cwd\n",
    "    --genoFile $genoFile\n",
    "    --keep_samples $keep_samples\n",
    "    --maf_filter $maf_filter\n",
    "    --geno_filter $geno_filter\n",
    "    --hwe_filter $hwe_filter\n",
    "    --mind_filter $mind_filter\n",
    "    --numThreads $numThreads \n",
    "    --container $container\n",
    "    --mem $mem\n",
    "\"\"\"\n",
    "\n",
    "sos run ~/project/UKBB_GWAS_dev/admin/Get_Job_Script.ipynb csg \\\n",
    "    --template-file $tpl_file \\\n",
    "    --workflow-file $gwasqc_sos \\\n",
    "    --to-script $gwas_sbatch \\\n",
    "    --args \"$gwasqc_args\""
   ]
  },
  {
   "cell_type": "markdown",
   "id": "54458dee-4f0c-4cfb-96eb-68300a19cb1b",
   "metadata": {
    "kernel": "R"
   },
   "source": [
    "#### PCA Step 2 50K"
   ]
  },
  {
   "cell_type": "code",
   "execution_count": 26,
   "id": "65c04b4c-8fcf-4f74-be8f-16c11c295c95",
   "metadata": {
    "kernel": "Bash"
   },
   "outputs": [
    {
     "name": "stdout",
     "output_type": "stream",
     "text": [
      "INFO: Running \u001b[32mcsg\u001b[0m: Configuration for Columbia csg partition cluster\n",
      "INFO: \u001b[32mcsg\u001b[0m is \u001b[32mcompleted\u001b[0m.\n",
      "INFO: \u001b[32mcsg\u001b[0m output:   \u001b[32m/mnt/mfs/statgen/UKBiobank/results/ARHI_heritability/061322_pca_common_50K/combined/flashpca_combined_50Kcommon_2022-06-14.sbatch\u001b[0m\n",
      "INFO: Workflow csg (ID=w89763e40a9a75bda) is executed successfully with 1 completed step.\n",
      "\n"
     ]
    }
   ],
   "source": [
    "## Columbia's cluster\n",
    "cwd=/mnt/vast/hpc/csg/UKBiobank/results/ARHI_heritability/061322_pca_common_50K/combined\n",
    "#This is the bfile obtained in step 1\n",
    "genoFile=/mnt/vast/hpc/csg/UKBiobank/results/ARHI_heritability/061322_pca_common_50K/combined/*.bed\n",
    "# Format FID, IID, pop\n",
    "# PC's are actually being calculated for 50K individuals that are white European and unrelated\n",
    "phenoFile=/mnt/vast/hpc/csg/UKBiobank/results/083021_PCA_results/090321_UKBB_Combined_f2247_f2257_expandedwhite_38410cases_96601ctrl.phenopca\n",
    "label_col=ethnicity\n",
    "pop_col=ethnicity\n",
    "pca_sbatch=/mnt/vast/hpc/csg/UKBiobank/results/ARHI_heritability/061322_pca_common_50K/combined/flashpca_combined_50Kcommon_$(date +\"%Y-%m-%d\").sbatch\n",
    "k=10\n",
    "min_axis=0\n",
    "max_axis=0\n",
    "pca_sos=~/project/xqtl-pipeline/code/data_preprocessing/genotype/PCA.ipynb\n",
    "tpl_file=~/project/bioworkflows/admin/csg.yml\n",
    "container=~/containers/flashpcaR.sif\n",
    "numThreads=1\n",
    "\n",
    "pca_args=\"\"\"flashpca\n",
    "    --cwd $cwd\n",
    "    --genoFile $genoFile\n",
    "    --phenoFile $phenoFile\n",
    "    --k $k\n",
    "    --label_col $label_col\n",
    "    --pop_col $pop_col\n",
    "    --min_axis $min_axis\n",
    "    --max_axis $max_axis\n",
    "    --numThreads $numThreads \n",
    "    --container $container\n",
    "\"\"\"\n",
    "\n",
    "sos run  ~/project/UKBB_GWAS_dev/admin/Get_Job_Script.ipynb csg\\\n",
    "    --template-file $tpl_file \\\n",
    "    --workflow-file $pca_sos \\\n",
    "    --to-script $pca_sbatch \\\n",
    "    --args \"$pca_args\""
   ]
  },
  {
   "cell_type": "markdown",
   "id": "42137fbd-d503-432e-87e6-2c6b450b36b5",
   "metadata": {
    "kernel": "Bash"
   },
   "source": [
    "### Merge phenofile with PC's 50K"
   ]
  },
  {
   "cell_type": "code",
   "execution_count": 42,
   "id": "4973bd91-e18f-4643-b5ab-f47a23abef67",
   "metadata": {
    "kernel": "R",
    "tags": []
   },
   "outputs": [
    {
     "data": {
      "text/html": [
       "<table class=\"dataframe\">\n",
       "<caption>A data.frame: 6 x 5</caption>\n",
       "<thead>\n",
       "\t<tr><th></th><th scope=col>FID</th><th scope=col>IID</th><th scope=col>sex</th><th scope=col>f2247_f2257</th><th scope=col>age</th></tr>\n",
       "\t<tr><th></th><th scope=col>&lt;int&gt;</th><th scope=col>&lt;int&gt;</th><th scope=col>&lt;int&gt;</th><th scope=col>&lt;int&gt;</th><th scope=col>&lt;int&gt;</th></tr>\n",
       "</thead>\n",
       "<tbody>\n",
       "\t<tr><th scope=row>1</th><td>1000198</td><td>1000198</td><td>1</td><td>1</td><td>41</td></tr>\n",
       "\t<tr><th scope=row>2</th><td>1000396</td><td>1000396</td><td>0</td><td>1</td><td>48</td></tr>\n",
       "\t<tr><th scope=row>3</th><td>1000494</td><td>1000494</td><td>0</td><td>1</td><td>61</td></tr>\n",
       "\t<tr><th scope=row>4</th><td>1001076</td><td>1001076</td><td>0</td><td>1</td><td>69</td></tr>\n",
       "\t<tr><th scope=row>5</th><td>1001123</td><td>1001123</td><td>1</td><td>1</td><td>62</td></tr>\n",
       "\t<tr><th scope=row>6</th><td>1001196</td><td>1001196</td><td>0</td><td>1</td><td>60</td></tr>\n",
       "</tbody>\n",
       "</table>\n"
      ],
      "text/latex": [
       "A data.frame: 6 x 5\n",
       "\\begin{tabular}{r|lllll}\n",
       "  & FID & IID & sex & f2247\\_f2257 & age\\\\\n",
       "  & <int> & <int> & <int> & <int> & <int>\\\\\n",
       "\\hline\n",
       "\t1 & 1000198 & 1000198 & 1 & 1 & 41\\\\\n",
       "\t2 & 1000396 & 1000396 & 0 & 1 & 48\\\\\n",
       "\t3 & 1000494 & 1000494 & 0 & 1 & 61\\\\\n",
       "\t4 & 1001076 & 1001076 & 0 & 1 & 69\\\\\n",
       "\t5 & 1001123 & 1001123 & 1 & 1 & 62\\\\\n",
       "\t6 & 1001196 & 1001196 & 0 & 1 & 60\\\\\n",
       "\\end{tabular}\n"
      ],
      "text/markdown": [
       "\n",
       "A data.frame: 6 x 5\n",
       "\n",
       "| <!--/--> | FID &lt;int&gt; | IID &lt;int&gt; | sex &lt;int&gt; | f2247_f2257 &lt;int&gt; | age &lt;int&gt; |\n",
       "|---|---|---|---|---|---|\n",
       "| 1 | 1000198 | 1000198 | 1 | 1 | 41 |\n",
       "| 2 | 1000396 | 1000396 | 0 | 1 | 48 |\n",
       "| 3 | 1000494 | 1000494 | 0 | 1 | 61 |\n",
       "| 4 | 1001076 | 1001076 | 0 | 1 | 69 |\n",
       "| 5 | 1001123 | 1001123 | 1 | 1 | 62 |\n",
       "| 6 | 1001196 | 1001196 | 0 | 1 | 60 |\n",
       "\n"
      ],
      "text/plain": [
       "  FID     IID     sex f2247_f2257 age\n",
       "1 1000198 1000198 1   1           41 \n",
       "2 1000396 1000396 0   1           48 \n",
       "3 1000494 1000494 0   1           61 \n",
       "4 1001076 1001076 0   1           69 \n",
       "5 1001123 1001123 1   1           62 \n",
       "6 1001196 1001196 0   1           60 "
      ]
     },
     "metadata": {},
     "output_type": "display_data"
    },
    {
     "data": {
      "text/html": [
       "<style>\n",
       ".list-inline {list-style: none; margin:0; padding: 0}\n",
       ".list-inline>li {display: inline-block}\n",
       ".list-inline>li:not(:last-child)::after {content: \"\\00b7\"; padding: 0 .5ex}\n",
       "</style>\n",
       "<ol class=list-inline><li>135011</li><li>5</li></ol>\n"
      ],
      "text/latex": [
       "\\begin{enumerate*}\n",
       "\\item 135011\n",
       "\\item 5\n",
       "\\end{enumerate*}\n"
      ],
      "text/markdown": [
       "1. 135011\n",
       "2. 5\n",
       "\n",
       "\n"
      ],
      "text/plain": [
       "[1] 135011      5"
      ]
     },
     "metadata": {},
     "output_type": "display_data"
    }
   ],
   "source": [
    "pheno <- read.table(\"~/UKBiobank/phenotype_files/hearing_impairment/090321_UKBB_Combined_f2247_f2257_expandedwhite_38410cases_96601ctrl\", header=T)\n",
    "head(pheno)\n",
    "dim(pheno)"
   ]
  },
  {
   "cell_type": "code",
   "execution_count": 43,
   "id": "7ff2bc9a-507b-4742-bb4a-72102420da80",
   "metadata": {
    "kernel": "R",
    "tags": []
   },
   "outputs": [
    {
     "data": {
      "text/html": [
       "<table class=\"dataframe\">\n",
       "<caption>A data.frame: 6 x 14</caption>\n",
       "<thead>\n",
       "\t<tr><th></th><th scope=col>ID</th><th scope=col>FID</th><th scope=col>IID</th><th scope=col>ethnicity</th><th scope=col>PC1</th><th scope=col>PC2</th><th scope=col>PC3</th><th scope=col>PC4</th><th scope=col>PC5</th><th scope=col>PC6</th><th scope=col>PC7</th><th scope=col>PC8</th><th scope=col>PC9</th><th scope=col>PC10</th></tr>\n",
       "\t<tr><th></th><th scope=col>&lt;fct&gt;</th><th scope=col>&lt;int&gt;</th><th scope=col>&lt;int&gt;</th><th scope=col>&lt;fct&gt;</th><th scope=col>&lt;dbl&gt;</th><th scope=col>&lt;dbl&gt;</th><th scope=col>&lt;dbl&gt;</th><th scope=col>&lt;dbl&gt;</th><th scope=col>&lt;dbl&gt;</th><th scope=col>&lt;dbl&gt;</th><th scope=col>&lt;dbl&gt;</th><th scope=col>&lt;dbl&gt;</th><th scope=col>&lt;dbl&gt;</th><th scope=col>&lt;dbl&gt;</th></tr>\n",
       "</thead>\n",
       "<tbody>\n",
       "\t<tr><th scope=row>1</th><td>1000081:1000081</td><td>1000081</td><td>1000081</td><td>British                   </td><td> 0.1340994077</td><td> 0.015762098</td><td>-0.012304563</td><td>-0.013436178</td><td> 0.006676593</td><td> 0.012044666</td><td> 0.011305502</td><td> 0.0052594946</td><td>-0.007379954</td><td>-0.0002535988</td></tr>\n",
       "\t<tr><th scope=row>2</th><td>1000198:1000198</td><td>1000198</td><td>1000198</td><td>British                   </td><td>-0.0078943889</td><td> 0.016439942</td><td> 0.012239718</td><td>-0.010269737</td><td>-0.006278220</td><td>-0.017395729</td><td>-0.002464998</td><td>-0.0064620805</td><td> 0.005931359</td><td> 0.0059562117</td></tr>\n",
       "\t<tr><th scope=row>3</th><td>1000331:1000331</td><td>1000331</td><td>1000331</td><td>Any_other_white_background</td><td> 0.0808571833</td><td> 0.004574555</td><td> 0.001596097</td><td> 0.004930975</td><td> 0.001433612</td><td>-0.001703583</td><td> 0.026327249</td><td>-0.0059474518</td><td> 0.003164743</td><td>-0.0141142041</td></tr>\n",
       "\t<tr><th scope=row>4</th><td>1000396:1000396</td><td>1000396</td><td>1000396</td><td>British                   </td><td>-0.0201384818</td><td> 0.034682309</td><td>-0.019682605</td><td>-0.011249187</td><td> 0.019086357</td><td>-0.001988183</td><td> 0.017769778</td><td>-0.0132614443</td><td> 0.023200946</td><td>-0.0009004311</td></tr>\n",
       "\t<tr><th scope=row>5</th><td>1000439:1000439</td><td>1000439</td><td>1000439</td><td>British                   </td><td>-0.0008244728</td><td>-0.015673980</td><td> 0.019379132</td><td> 0.005052614</td><td>-0.001708328</td><td>-0.012906163</td><td>-0.003569291</td><td>-0.0027146156</td><td> 0.004485849</td><td> 0.0051293334</td></tr>\n",
       "\t<tr><th scope=row>6</th><td>1000858:1000858</td><td>1000858</td><td>1000858</td><td>Any_other_white_background</td><td> 0.1672089665</td><td> 0.033710157</td><td> 0.004041379</td><td> 0.027007462</td><td> 0.006825866</td><td>-0.008038509</td><td>-0.005028552</td><td>-0.0001475687</td><td>-0.016071285</td><td>-0.0027806141</td></tr>\n",
       "</tbody>\n",
       "</table>\n"
      ],
      "text/latex": [
       "A data.frame: 6 x 14\n",
       "\\begin{tabular}{r|llllllllllllll}\n",
       "  & ID & FID & IID & ethnicity & PC1 & PC2 & PC3 & PC4 & PC5 & PC6 & PC7 & PC8 & PC9 & PC10\\\\\n",
       "  & <fct> & <int> & <int> & <fct> & <dbl> & <dbl> & <dbl> & <dbl> & <dbl> & <dbl> & <dbl> & <dbl> & <dbl> & <dbl>\\\\\n",
       "\\hline\n",
       "\t1 & 1000081:1000081 & 1000081 & 1000081 & British                    &  0.1340994077 &  0.015762098 & -0.012304563 & -0.013436178 &  0.006676593 &  0.012044666 &  0.011305502 &  0.0052594946 & -0.007379954 & -0.0002535988\\\\\n",
       "\t2 & 1000198:1000198 & 1000198 & 1000198 & British                    & -0.0078943889 &  0.016439942 &  0.012239718 & -0.010269737 & -0.006278220 & -0.017395729 & -0.002464998 & -0.0064620805 &  0.005931359 &  0.0059562117\\\\\n",
       "\t3 & 1000331:1000331 & 1000331 & 1000331 & Any\\_other\\_white\\_background &  0.0808571833 &  0.004574555 &  0.001596097 &  0.004930975 &  0.001433612 & -0.001703583 &  0.026327249 & -0.0059474518 &  0.003164743 & -0.0141142041\\\\\n",
       "\t4 & 1000396:1000396 & 1000396 & 1000396 & British                    & -0.0201384818 &  0.034682309 & -0.019682605 & -0.011249187 &  0.019086357 & -0.001988183 &  0.017769778 & -0.0132614443 &  0.023200946 & -0.0009004311\\\\\n",
       "\t5 & 1000439:1000439 & 1000439 & 1000439 & British                    & -0.0008244728 & -0.015673980 &  0.019379132 &  0.005052614 & -0.001708328 & -0.012906163 & -0.003569291 & -0.0027146156 &  0.004485849 &  0.0051293334\\\\\n",
       "\t6 & 1000858:1000858 & 1000858 & 1000858 & Any\\_other\\_white\\_background &  0.1672089665 &  0.033710157 &  0.004041379 &  0.027007462 &  0.006825866 & -0.008038509 & -0.005028552 & -0.0001475687 & -0.016071285 & -0.0027806141\\\\\n",
       "\\end{tabular}\n"
      ],
      "text/markdown": [
       "\n",
       "A data.frame: 6 x 14\n",
       "\n",
       "| <!--/--> | ID &lt;fct&gt; | FID &lt;int&gt; | IID &lt;int&gt; | ethnicity &lt;fct&gt; | PC1 &lt;dbl&gt; | PC2 &lt;dbl&gt; | PC3 &lt;dbl&gt; | PC4 &lt;dbl&gt; | PC5 &lt;dbl&gt; | PC6 &lt;dbl&gt; | PC7 &lt;dbl&gt; | PC8 &lt;dbl&gt; | PC9 &lt;dbl&gt; | PC10 &lt;dbl&gt; |\n",
       "|---|---|---|---|---|---|---|---|---|---|---|---|---|---|---|\n",
       "| 1 | 1000081:1000081 | 1000081 | 1000081 | British                    |  0.1340994077 |  0.015762098 | -0.012304563 | -0.013436178 |  0.006676593 |  0.012044666 |  0.011305502 |  0.0052594946 | -0.007379954 | -0.0002535988 |\n",
       "| 2 | 1000198:1000198 | 1000198 | 1000198 | British                    | -0.0078943889 |  0.016439942 |  0.012239718 | -0.010269737 | -0.006278220 | -0.017395729 | -0.002464998 | -0.0064620805 |  0.005931359 |  0.0059562117 |\n",
       "| 3 | 1000331:1000331 | 1000331 | 1000331 | Any_other_white_background |  0.0808571833 |  0.004574555 |  0.001596097 |  0.004930975 |  0.001433612 | -0.001703583 |  0.026327249 | -0.0059474518 |  0.003164743 | -0.0141142041 |\n",
       "| 4 | 1000396:1000396 | 1000396 | 1000396 | British                    | -0.0201384818 |  0.034682309 | -0.019682605 | -0.011249187 |  0.019086357 | -0.001988183 |  0.017769778 | -0.0132614443 |  0.023200946 | -0.0009004311 |\n",
       "| 5 | 1000439:1000439 | 1000439 | 1000439 | British                    | -0.0008244728 | -0.015673980 |  0.019379132 |  0.005052614 | -0.001708328 | -0.012906163 | -0.003569291 | -0.0027146156 |  0.004485849 |  0.0051293334 |\n",
       "| 6 | 1000858:1000858 | 1000858 | 1000858 | Any_other_white_background |  0.1672089665 |  0.033710157 |  0.004041379 |  0.027007462 |  0.006825866 | -0.008038509 | -0.005028552 | -0.0001475687 | -0.016071285 | -0.0027806141 |\n",
       "\n"
      ],
      "text/plain": [
       "  ID              FID     IID     ethnicity                  PC1          \n",
       "1 1000081:1000081 1000081 1000081 British                     0.1340994077\n",
       "2 1000198:1000198 1000198 1000198 British                    -0.0078943889\n",
       "3 1000331:1000331 1000331 1000331 Any_other_white_background  0.0808571833\n",
       "4 1000396:1000396 1000396 1000396 British                    -0.0201384818\n",
       "5 1000439:1000439 1000439 1000439 British                    -0.0008244728\n",
       "6 1000858:1000858 1000858 1000858 Any_other_white_background  0.1672089665\n",
       "  PC2          PC3          PC4          PC5          PC6          PC7         \n",
       "1  0.015762098 -0.012304563 -0.013436178  0.006676593  0.012044666  0.011305502\n",
       "2  0.016439942  0.012239718 -0.010269737 -0.006278220 -0.017395729 -0.002464998\n",
       "3  0.004574555  0.001596097  0.004930975  0.001433612 -0.001703583  0.026327249\n",
       "4  0.034682309 -0.019682605 -0.011249187  0.019086357 -0.001988183  0.017769778\n",
       "5 -0.015673980  0.019379132  0.005052614 -0.001708328 -0.012906163 -0.003569291\n",
       "6  0.033710157  0.004041379  0.027007462  0.006825866 -0.008038509 -0.005028552\n",
       "  PC8           PC9          PC10         \n",
       "1  0.0052594946 -0.007379954 -0.0002535988\n",
       "2 -0.0064620805  0.005931359  0.0059562117\n",
       "3 -0.0059474518  0.003164743 -0.0141142041\n",
       "4 -0.0132614443  0.023200946 -0.0009004311\n",
       "5 -0.0027146156  0.004485849  0.0051293334\n",
       "6 -0.0001475687 -0.016071285 -0.0027806141"
      ]
     },
     "metadata": {},
     "output_type": "display_data"
    },
    {
     "data": {
      "text/html": [
       "<style>\n",
       ".list-inline {list-style: none; margin:0; padding: 0}\n",
       ".list-inline>li {display: inline-block}\n",
       ".list-inline>li:not(:last-child)::after {content: \"\\00b7\"; padding: 0 .5ex}\n",
       "</style>\n",
       "<ol class=list-inline><li>50000</li><li>14</li></ol>\n"
      ],
      "text/latex": [
       "\\begin{enumerate*}\n",
       "\\item 50000\n",
       "\\item 14\n",
       "\\end{enumerate*}\n"
      ],
      "text/markdown": [
       "1. 50000\n",
       "2. 14\n",
       "\n",
       "\n"
      ],
      "text/plain": [
       "[1] 50000    14"
      ]
     },
     "metadata": {},
     "output_type": "display_data"
    }
   ],
   "source": [
    "pca <- read.table(\"~/UKBiobank/results/ARHI_heritability/061322_pca_common_50K/combined/090321_UKBB_Combined_f2247_f2257_expandedwhite_38410cases_96601ctrl.pca.txt\", header=T)\n",
    "head(pca)\n",
    "dim(pca)"
   ]
  },
  {
   "cell_type": "code",
   "execution_count": 44,
   "id": "429d8404-5e3b-4343-b230-fd5ecdc20654",
   "metadata": {
    "kernel": "R",
    "tags": []
   },
   "outputs": [
    {
     "data": {
      "text/html": [
       "<table class=\"dataframe\">\n",
       "<caption>A data.frame: 6 x 17</caption>\n",
       "<thead>\n",
       "\t<tr><th></th><th scope=col>FID</th><th scope=col>IID</th><th scope=col>sex</th><th scope=col>f2247_f2257</th><th scope=col>age</th><th scope=col>ID</th><th scope=col>ethnicity</th><th scope=col>PC1</th><th scope=col>PC2</th><th scope=col>PC3</th><th scope=col>PC4</th><th scope=col>PC5</th><th scope=col>PC6</th><th scope=col>PC7</th><th scope=col>PC8</th><th scope=col>PC9</th><th scope=col>PC10</th></tr>\n",
       "\t<tr><th></th><th scope=col>&lt;int&gt;</th><th scope=col>&lt;int&gt;</th><th scope=col>&lt;int&gt;</th><th scope=col>&lt;int&gt;</th><th scope=col>&lt;int&gt;</th><th scope=col>&lt;fct&gt;</th><th scope=col>&lt;fct&gt;</th><th scope=col>&lt;dbl&gt;</th><th scope=col>&lt;dbl&gt;</th><th scope=col>&lt;dbl&gt;</th><th scope=col>&lt;dbl&gt;</th><th scope=col>&lt;dbl&gt;</th><th scope=col>&lt;dbl&gt;</th><th scope=col>&lt;dbl&gt;</th><th scope=col>&lt;dbl&gt;</th><th scope=col>&lt;dbl&gt;</th><th scope=col>&lt;dbl&gt;</th></tr>\n",
       "</thead>\n",
       "<tbody>\n",
       "\t<tr><th scope=row>1</th><td>1000081</td><td>1000081</td><td>0</td><td>0</td><td>67</td><td>1000081:1000081</td><td>British                   </td><td> 0.1340994077</td><td> 0.015762098</td><td>-0.012304563</td><td>-0.013436178</td><td> 0.006676593</td><td> 0.012044666</td><td> 0.011305502</td><td> 0.0052594946</td><td>-0.007379954</td><td>-0.0002535988</td></tr>\n",
       "\t<tr><th scope=row>2</th><td>1000198</td><td>1000198</td><td>1</td><td>1</td><td>41</td><td>1000198:1000198</td><td>British                   </td><td>-0.0078943889</td><td> 0.016439942</td><td> 0.012239718</td><td>-0.010269737</td><td>-0.006278220</td><td>-0.017395729</td><td>-0.002464998</td><td>-0.0064620805</td><td> 0.005931359</td><td> 0.0059562117</td></tr>\n",
       "\t<tr><th scope=row>3</th><td>1000331</td><td>1000331</td><td>1</td><td>0</td><td>53</td><td>1000331:1000331</td><td>Any_other_white_background</td><td> 0.0808571833</td><td> 0.004574555</td><td> 0.001596097</td><td> 0.004930975</td><td> 0.001433612</td><td>-0.001703583</td><td> 0.026327249</td><td>-0.0059474518</td><td> 0.003164743</td><td>-0.0141142041</td></tr>\n",
       "\t<tr><th scope=row>4</th><td>1000396</td><td>1000396</td><td>0</td><td>1</td><td>48</td><td>1000396:1000396</td><td>British                   </td><td>-0.0201384818</td><td> 0.034682309</td><td>-0.019682605</td><td>-0.011249187</td><td> 0.019086357</td><td>-0.001988183</td><td> 0.017769778</td><td>-0.0132614443</td><td> 0.023200946</td><td>-0.0009004311</td></tr>\n",
       "\t<tr><th scope=row>5</th><td>1000439</td><td>1000439</td><td>1</td><td>0</td><td>59</td><td>1000439:1000439</td><td>British                   </td><td>-0.0008244728</td><td>-0.015673980</td><td> 0.019379132</td><td> 0.005052614</td><td>-0.001708328</td><td>-0.012906163</td><td>-0.003569291</td><td>-0.0027146156</td><td> 0.004485849</td><td> 0.0051293334</td></tr>\n",
       "\t<tr><th scope=row>6</th><td>1000858</td><td>1000858</td><td>0</td><td>0</td><td>61</td><td>1000858:1000858</td><td>Any_other_white_background</td><td> 0.1672089665</td><td> 0.033710157</td><td> 0.004041379</td><td> 0.027007462</td><td> 0.006825866</td><td>-0.008038509</td><td>-0.005028552</td><td>-0.0001475687</td><td>-0.016071285</td><td>-0.0027806141</td></tr>\n",
       "</tbody>\n",
       "</table>\n"
      ],
      "text/latex": [
       "A data.frame: 6 x 17\n",
       "\\begin{tabular}{r|lllllllllllllllll}\n",
       "  & FID & IID & sex & f2247\\_f2257 & age & ID & ethnicity & PC1 & PC2 & PC3 & PC4 & PC5 & PC6 & PC7 & PC8 & PC9 & PC10\\\\\n",
       "  & <int> & <int> & <int> & <int> & <int> & <fct> & <fct> & <dbl> & <dbl> & <dbl> & <dbl> & <dbl> & <dbl> & <dbl> & <dbl> & <dbl> & <dbl>\\\\\n",
       "\\hline\n",
       "\t1 & 1000081 & 1000081 & 0 & 0 & 67 & 1000081:1000081 & British                    &  0.1340994077 &  0.015762098 & -0.012304563 & -0.013436178 &  0.006676593 &  0.012044666 &  0.011305502 &  0.0052594946 & -0.007379954 & -0.0002535988\\\\\n",
       "\t2 & 1000198 & 1000198 & 1 & 1 & 41 & 1000198:1000198 & British                    & -0.0078943889 &  0.016439942 &  0.012239718 & -0.010269737 & -0.006278220 & -0.017395729 & -0.002464998 & -0.0064620805 &  0.005931359 &  0.0059562117\\\\\n",
       "\t3 & 1000331 & 1000331 & 1 & 0 & 53 & 1000331:1000331 & Any\\_other\\_white\\_background &  0.0808571833 &  0.004574555 &  0.001596097 &  0.004930975 &  0.001433612 & -0.001703583 &  0.026327249 & -0.0059474518 &  0.003164743 & -0.0141142041\\\\\n",
       "\t4 & 1000396 & 1000396 & 0 & 1 & 48 & 1000396:1000396 & British                    & -0.0201384818 &  0.034682309 & -0.019682605 & -0.011249187 &  0.019086357 & -0.001988183 &  0.017769778 & -0.0132614443 &  0.023200946 & -0.0009004311\\\\\n",
       "\t5 & 1000439 & 1000439 & 1 & 0 & 59 & 1000439:1000439 & British                    & -0.0008244728 & -0.015673980 &  0.019379132 &  0.005052614 & -0.001708328 & -0.012906163 & -0.003569291 & -0.0027146156 &  0.004485849 &  0.0051293334\\\\\n",
       "\t6 & 1000858 & 1000858 & 0 & 0 & 61 & 1000858:1000858 & Any\\_other\\_white\\_background &  0.1672089665 &  0.033710157 &  0.004041379 &  0.027007462 &  0.006825866 & -0.008038509 & -0.005028552 & -0.0001475687 & -0.016071285 & -0.0027806141\\\\\n",
       "\\end{tabular}\n"
      ],
      "text/markdown": [
       "\n",
       "A data.frame: 6 x 17\n",
       "\n",
       "| <!--/--> | FID &lt;int&gt; | IID &lt;int&gt; | sex &lt;int&gt; | f2247_f2257 &lt;int&gt; | age &lt;int&gt; | ID &lt;fct&gt; | ethnicity &lt;fct&gt; | PC1 &lt;dbl&gt; | PC2 &lt;dbl&gt; | PC3 &lt;dbl&gt; | PC4 &lt;dbl&gt; | PC5 &lt;dbl&gt; | PC6 &lt;dbl&gt; | PC7 &lt;dbl&gt; | PC8 &lt;dbl&gt; | PC9 &lt;dbl&gt; | PC10 &lt;dbl&gt; |\n",
       "|---|---|---|---|---|---|---|---|---|---|---|---|---|---|---|---|---|---|\n",
       "| 1 | 1000081 | 1000081 | 0 | 0 | 67 | 1000081:1000081 | British                    |  0.1340994077 |  0.015762098 | -0.012304563 | -0.013436178 |  0.006676593 |  0.012044666 |  0.011305502 |  0.0052594946 | -0.007379954 | -0.0002535988 |\n",
       "| 2 | 1000198 | 1000198 | 1 | 1 | 41 | 1000198:1000198 | British                    | -0.0078943889 |  0.016439942 |  0.012239718 | -0.010269737 | -0.006278220 | -0.017395729 | -0.002464998 | -0.0064620805 |  0.005931359 |  0.0059562117 |\n",
       "| 3 | 1000331 | 1000331 | 1 | 0 | 53 | 1000331:1000331 | Any_other_white_background |  0.0808571833 |  0.004574555 |  0.001596097 |  0.004930975 |  0.001433612 | -0.001703583 |  0.026327249 | -0.0059474518 |  0.003164743 | -0.0141142041 |\n",
       "| 4 | 1000396 | 1000396 | 0 | 1 | 48 | 1000396:1000396 | British                    | -0.0201384818 |  0.034682309 | -0.019682605 | -0.011249187 |  0.019086357 | -0.001988183 |  0.017769778 | -0.0132614443 |  0.023200946 | -0.0009004311 |\n",
       "| 5 | 1000439 | 1000439 | 1 | 0 | 59 | 1000439:1000439 | British                    | -0.0008244728 | -0.015673980 |  0.019379132 |  0.005052614 | -0.001708328 | -0.012906163 | -0.003569291 | -0.0027146156 |  0.004485849 |  0.0051293334 |\n",
       "| 6 | 1000858 | 1000858 | 0 | 0 | 61 | 1000858:1000858 | Any_other_white_background |  0.1672089665 |  0.033710157 |  0.004041379 |  0.027007462 |  0.006825866 | -0.008038509 | -0.005028552 | -0.0001475687 | -0.016071285 | -0.0027806141 |\n",
       "\n"
      ],
      "text/plain": [
       "  FID     IID     sex f2247_f2257 age ID             \n",
       "1 1000081 1000081 0   0           67  1000081:1000081\n",
       "2 1000198 1000198 1   1           41  1000198:1000198\n",
       "3 1000331 1000331 1   0           53  1000331:1000331\n",
       "4 1000396 1000396 0   1           48  1000396:1000396\n",
       "5 1000439 1000439 1   0           59  1000439:1000439\n",
       "6 1000858 1000858 0   0           61  1000858:1000858\n",
       "  ethnicity                  PC1           PC2          PC3         \n",
       "1 British                     0.1340994077  0.015762098 -0.012304563\n",
       "2 British                    -0.0078943889  0.016439942  0.012239718\n",
       "3 Any_other_white_background  0.0808571833  0.004574555  0.001596097\n",
       "4 British                    -0.0201384818  0.034682309 -0.019682605\n",
       "5 British                    -0.0008244728 -0.015673980  0.019379132\n",
       "6 Any_other_white_background  0.1672089665  0.033710157  0.004041379\n",
       "  PC4          PC5          PC6          PC7          PC8          \n",
       "1 -0.013436178  0.006676593  0.012044666  0.011305502  0.0052594946\n",
       "2 -0.010269737 -0.006278220 -0.017395729 -0.002464998 -0.0064620805\n",
       "3  0.004930975  0.001433612 -0.001703583  0.026327249 -0.0059474518\n",
       "4 -0.011249187  0.019086357 -0.001988183  0.017769778 -0.0132614443\n",
       "5  0.005052614 -0.001708328 -0.012906163 -0.003569291 -0.0027146156\n",
       "6  0.027007462  0.006825866 -0.008038509 -0.005028552 -0.0001475687\n",
       "  PC9          PC10         \n",
       "1 -0.007379954 -0.0002535988\n",
       "2  0.005931359  0.0059562117\n",
       "3  0.003164743 -0.0141142041\n",
       "4  0.023200946 -0.0009004311\n",
       "5  0.004485849  0.0051293334\n",
       "6 -0.016071285 -0.0027806141"
      ]
     },
     "metadata": {},
     "output_type": "display_data"
    },
    {
     "data": {
      "text/html": [
       "<style>\n",
       ".list-inline {list-style: none; margin:0; padding: 0}\n",
       ".list-inline>li {display: inline-block}\n",
       ".list-inline>li:not(:last-child)::after {content: \"\\00b7\"; padding: 0 .5ex}\n",
       "</style>\n",
       "<ol class=list-inline><li>50000</li><li>17</li></ol>\n"
      ],
      "text/latex": [
       "\\begin{enumerate*}\n",
       "\\item 50000\n",
       "\\item 17\n",
       "\\end{enumerate*}\n"
      ],
      "text/markdown": [
       "1. 50000\n",
       "2. 17\n",
       "\n",
       "\n"
      ],
      "text/plain": [
       "[1] 50000    17"
      ]
     },
     "metadata": {},
     "output_type": "display_data"
    },
    {
     "data": {
      "text/html": [
       "<table class=\"dataframe\">\n",
       "<caption>A data.frame: 6 x 15</caption>\n",
       "<thead>\n",
       "\t<tr><th></th><th scope=col>FID</th><th scope=col>IID</th><th scope=col>sex</th><th scope=col>f2247_f2257</th><th scope=col>age</th><th scope=col>PC1</th><th scope=col>PC2</th><th scope=col>PC3</th><th scope=col>PC4</th><th scope=col>PC5</th><th scope=col>PC6</th><th scope=col>PC7</th><th scope=col>PC8</th><th scope=col>PC9</th><th scope=col>PC10</th></tr>\n",
       "\t<tr><th></th><th scope=col>&lt;int&gt;</th><th scope=col>&lt;int&gt;</th><th scope=col>&lt;int&gt;</th><th scope=col>&lt;int&gt;</th><th scope=col>&lt;int&gt;</th><th scope=col>&lt;dbl&gt;</th><th scope=col>&lt;dbl&gt;</th><th scope=col>&lt;dbl&gt;</th><th scope=col>&lt;dbl&gt;</th><th scope=col>&lt;dbl&gt;</th><th scope=col>&lt;dbl&gt;</th><th scope=col>&lt;dbl&gt;</th><th scope=col>&lt;dbl&gt;</th><th scope=col>&lt;dbl&gt;</th><th scope=col>&lt;dbl&gt;</th></tr>\n",
       "</thead>\n",
       "<tbody>\n",
       "\t<tr><th scope=row>1</th><td>1000081</td><td>1000081</td><td>0</td><td>0</td><td>67</td><td> 0.1340994077</td><td> 0.015762098</td><td>-0.012304563</td><td>-0.013436178</td><td> 0.006676593</td><td> 0.012044666</td><td> 0.011305502</td><td> 0.0052594946</td><td>-0.007379954</td><td>-0.0002535988</td></tr>\n",
       "\t<tr><th scope=row>2</th><td>1000198</td><td>1000198</td><td>1</td><td>1</td><td>41</td><td>-0.0078943889</td><td> 0.016439942</td><td> 0.012239718</td><td>-0.010269737</td><td>-0.006278220</td><td>-0.017395729</td><td>-0.002464998</td><td>-0.0064620805</td><td> 0.005931359</td><td> 0.0059562117</td></tr>\n",
       "\t<tr><th scope=row>3</th><td>1000331</td><td>1000331</td><td>1</td><td>0</td><td>53</td><td> 0.0808571833</td><td> 0.004574555</td><td> 0.001596097</td><td> 0.004930975</td><td> 0.001433612</td><td>-0.001703583</td><td> 0.026327249</td><td>-0.0059474518</td><td> 0.003164743</td><td>-0.0141142041</td></tr>\n",
       "\t<tr><th scope=row>4</th><td>1000396</td><td>1000396</td><td>0</td><td>1</td><td>48</td><td>-0.0201384818</td><td> 0.034682309</td><td>-0.019682605</td><td>-0.011249187</td><td> 0.019086357</td><td>-0.001988183</td><td> 0.017769778</td><td>-0.0132614443</td><td> 0.023200946</td><td>-0.0009004311</td></tr>\n",
       "\t<tr><th scope=row>5</th><td>1000439</td><td>1000439</td><td>1</td><td>0</td><td>59</td><td>-0.0008244728</td><td>-0.015673980</td><td> 0.019379132</td><td> 0.005052614</td><td>-0.001708328</td><td>-0.012906163</td><td>-0.003569291</td><td>-0.0027146156</td><td> 0.004485849</td><td> 0.0051293334</td></tr>\n",
       "\t<tr><th scope=row>6</th><td>1000858</td><td>1000858</td><td>0</td><td>0</td><td>61</td><td> 0.1672089665</td><td> 0.033710157</td><td> 0.004041379</td><td> 0.027007462</td><td> 0.006825866</td><td>-0.008038509</td><td>-0.005028552</td><td>-0.0001475687</td><td>-0.016071285</td><td>-0.0027806141</td></tr>\n",
       "</tbody>\n",
       "</table>\n"
      ],
      "text/latex": [
       "A data.frame: 6 x 15\n",
       "\\begin{tabular}{r|lllllllllllllll}\n",
       "  & FID & IID & sex & f2247\\_f2257 & age & PC1 & PC2 & PC3 & PC4 & PC5 & PC6 & PC7 & PC8 & PC9 & PC10\\\\\n",
       "  & <int> & <int> & <int> & <int> & <int> & <dbl> & <dbl> & <dbl> & <dbl> & <dbl> & <dbl> & <dbl> & <dbl> & <dbl> & <dbl>\\\\\n",
       "\\hline\n",
       "\t1 & 1000081 & 1000081 & 0 & 0 & 67 &  0.1340994077 &  0.015762098 & -0.012304563 & -0.013436178 &  0.006676593 &  0.012044666 &  0.011305502 &  0.0052594946 & -0.007379954 & -0.0002535988\\\\\n",
       "\t2 & 1000198 & 1000198 & 1 & 1 & 41 & -0.0078943889 &  0.016439942 &  0.012239718 & -0.010269737 & -0.006278220 & -0.017395729 & -0.002464998 & -0.0064620805 &  0.005931359 &  0.0059562117\\\\\n",
       "\t3 & 1000331 & 1000331 & 1 & 0 & 53 &  0.0808571833 &  0.004574555 &  0.001596097 &  0.004930975 &  0.001433612 & -0.001703583 &  0.026327249 & -0.0059474518 &  0.003164743 & -0.0141142041\\\\\n",
       "\t4 & 1000396 & 1000396 & 0 & 1 & 48 & -0.0201384818 &  0.034682309 & -0.019682605 & -0.011249187 &  0.019086357 & -0.001988183 &  0.017769778 & -0.0132614443 &  0.023200946 & -0.0009004311\\\\\n",
       "\t5 & 1000439 & 1000439 & 1 & 0 & 59 & -0.0008244728 & -0.015673980 &  0.019379132 &  0.005052614 & -0.001708328 & -0.012906163 & -0.003569291 & -0.0027146156 &  0.004485849 &  0.0051293334\\\\\n",
       "\t6 & 1000858 & 1000858 & 0 & 0 & 61 &  0.1672089665 &  0.033710157 &  0.004041379 &  0.027007462 &  0.006825866 & -0.008038509 & -0.005028552 & -0.0001475687 & -0.016071285 & -0.0027806141\\\\\n",
       "\\end{tabular}\n"
      ],
      "text/markdown": [
       "\n",
       "A data.frame: 6 x 15\n",
       "\n",
       "| <!--/--> | FID &lt;int&gt; | IID &lt;int&gt; | sex &lt;int&gt; | f2247_f2257 &lt;int&gt; | age &lt;int&gt; | PC1 &lt;dbl&gt; | PC2 &lt;dbl&gt; | PC3 &lt;dbl&gt; | PC4 &lt;dbl&gt; | PC5 &lt;dbl&gt; | PC6 &lt;dbl&gt; | PC7 &lt;dbl&gt; | PC8 &lt;dbl&gt; | PC9 &lt;dbl&gt; | PC10 &lt;dbl&gt; |\n",
       "|---|---|---|---|---|---|---|---|---|---|---|---|---|---|---|---|\n",
       "| 1 | 1000081 | 1000081 | 0 | 0 | 67 |  0.1340994077 |  0.015762098 | -0.012304563 | -0.013436178 |  0.006676593 |  0.012044666 |  0.011305502 |  0.0052594946 | -0.007379954 | -0.0002535988 |\n",
       "| 2 | 1000198 | 1000198 | 1 | 1 | 41 | -0.0078943889 |  0.016439942 |  0.012239718 | -0.010269737 | -0.006278220 | -0.017395729 | -0.002464998 | -0.0064620805 |  0.005931359 |  0.0059562117 |\n",
       "| 3 | 1000331 | 1000331 | 1 | 0 | 53 |  0.0808571833 |  0.004574555 |  0.001596097 |  0.004930975 |  0.001433612 | -0.001703583 |  0.026327249 | -0.0059474518 |  0.003164743 | -0.0141142041 |\n",
       "| 4 | 1000396 | 1000396 | 0 | 1 | 48 | -0.0201384818 |  0.034682309 | -0.019682605 | -0.011249187 |  0.019086357 | -0.001988183 |  0.017769778 | -0.0132614443 |  0.023200946 | -0.0009004311 |\n",
       "| 5 | 1000439 | 1000439 | 1 | 0 | 59 | -0.0008244728 | -0.015673980 |  0.019379132 |  0.005052614 | -0.001708328 | -0.012906163 | -0.003569291 | -0.0027146156 |  0.004485849 |  0.0051293334 |\n",
       "| 6 | 1000858 | 1000858 | 0 | 0 | 61 |  0.1672089665 |  0.033710157 |  0.004041379 |  0.027007462 |  0.006825866 | -0.008038509 | -0.005028552 | -0.0001475687 | -0.016071285 | -0.0027806141 |\n",
       "\n"
      ],
      "text/plain": [
       "  FID     IID     sex f2247_f2257 age PC1           PC2          PC3         \n",
       "1 1000081 1000081 0   0           67   0.1340994077  0.015762098 -0.012304563\n",
       "2 1000198 1000198 1   1           41  -0.0078943889  0.016439942  0.012239718\n",
       "3 1000331 1000331 1   0           53   0.0808571833  0.004574555  0.001596097\n",
       "4 1000396 1000396 0   1           48  -0.0201384818  0.034682309 -0.019682605\n",
       "5 1000439 1000439 1   0           59  -0.0008244728 -0.015673980  0.019379132\n",
       "6 1000858 1000858 0   0           61   0.1672089665  0.033710157  0.004041379\n",
       "  PC4          PC5          PC6          PC7          PC8          \n",
       "1 -0.013436178  0.006676593  0.012044666  0.011305502  0.0052594946\n",
       "2 -0.010269737 -0.006278220 -0.017395729 -0.002464998 -0.0064620805\n",
       "3  0.004930975  0.001433612 -0.001703583  0.026327249 -0.0059474518\n",
       "4 -0.011249187  0.019086357 -0.001988183  0.017769778 -0.0132614443\n",
       "5  0.005052614 -0.001708328 -0.012906163 -0.003569291 -0.0027146156\n",
       "6  0.027007462  0.006825866 -0.008038509 -0.005028552 -0.0001475687\n",
       "  PC9          PC10         \n",
       "1 -0.007379954 -0.0002535988\n",
       "2  0.005931359  0.0059562117\n",
       "3  0.003164743 -0.0141142041\n",
       "4  0.023200946 -0.0009004311\n",
       "5  0.004485849  0.0051293334\n",
       "6 -0.016071285 -0.0027806141"
      ]
     },
     "metadata": {},
     "output_type": "display_data"
    }
   ],
   "source": [
    "hboth <- merge(pheno, pca, by = c('FID', 'IID'), all.y=TRUE)\n",
    "head(hboth)\n",
    "dim(hboth)\n",
    "library(dplyr)\n",
    "hboth_final <- select(hboth, -c('ID', 'ethnicity'))\n",
    "head(hboth_final)"
   ]
  },
  {
   "cell_type": "code",
   "execution_count": 45,
   "id": "c7e2f18d-4239-4c52-8127-07a7cc4be956",
   "metadata": {
    "kernel": "R"
   },
   "outputs": [],
   "source": [
    "write.table(hboth_final, \"/mnt/vast/hpc/csg/UKBiobank/results/ARHI_heritability/pheno_files/090321_UKBB_Combined_f2247_f2257_expandedwhite_38410cases_96601ctrl.common50K_PC1_10.greml_pheno\", sep=\"\\t\", row.names = FALSE, col.names =TRUE, quote=FALSE)"
   ]
  },
  {
   "cell_type": "markdown",
   "id": "e7f4c5d1-e08c-461a-8612-addd88bceedb",
   "metadata": {
    "kernel": "R"
   },
   "source": [
    "### Recalculate the GRM for the specific 50K individuals in the combined trait"
   ]
  },
  {
   "cell_type": "code",
   "execution_count": 48,
   "id": "16f7c827-42a0-46a9-85c1-87dc86265f13",
   "metadata": {
    "kernel": "Bash",
    "tags": []
   },
   "outputs": [
    {
     "name": "stdout",
     "output_type": "stream",
     "text": [
      "INFO: Running \u001b[32mcsg\u001b[0m: Configuration for Columbia csg partition cluster\n",
      "INFO: \u001b[32mcsg\u001b[0m is \u001b[32mcompleted\u001b[0m.\n",
      "INFO: \u001b[32mcsg\u001b[0m output:   \u001b[32m/mnt/mfs/statgen/UKBiobank/results/ARHI_heritability/052522_grm_common_50K/combined/common_combined_eur_unrel_gtca_50K_2022-06-14.sbatch\u001b[0m\n",
      "INFO: Workflow csg (ID=w1480acec28d452ea) is executed successfully with 1 completed step.\n",
      "\n"
     ]
    }
   ],
   "source": [
    "bfile=~/UKBiobank/results/ARHI_heritability/051922_merged_bed/ukb23156_merged_eur_unrel_commonvarsMAFabove0.01.bed\n",
    "cwd=/mnt/vast/hpc/csg/UKBiobank/results/ARHI_heritability/052522_grm_common_50K/combined\n",
    "numThreads=20\n",
    "gcta_sbatch=/mnt/vast/hpc/csg/UKBiobank/results/ARHI_heritability/052522_grm_common_50K/combined/common_combined_eur_unrel_gtca_50K_$(date +\"%Y-%m-%d\").sbatch\n",
    "gcta_sos=~/project/bioworkflows/GWAS/LMM.ipynb\n",
    "tpl_file=~/project/bioworkflows/admin/csg2.yml\n",
    "container=~/containers/lmm.sif\n",
    "#Phenofile is just inputed as a requirement for the LMM to run but it is not actually needed for GRM calculation\n",
    "phenoFile=/mnt/vast/hpc/csg/UKBiobank/phenotype_files/hearing_impairment/090321_UKBB_Combined_f2247_f2257_expandedwhite_38410cases_96601ctrl\n",
    "phenoCol=f2247_f2257\n",
    "covarCol=sex\n",
    "qCovarCol=\"age PC1 PC2\"\n",
    "mem='8G'\n",
    "walltime='48h'\n",
    "keep_samples=/mnt/vast/hpc/csg/UKBiobank/results/ARHI_heritability/pheno_files/090321_UKBB_Combined_f2247_f2257_expandedwhite_38410cases_96601ctrl.50Ksubset.keep_id\n",
    "\n",
    "gcta_args=\"\"\"gcta\n",
    "    --cwd $cwd\n",
    "    --bfile $bfile\n",
    "    --phenoFile $phenoFile\n",
    "    --phenoCol $phenoCol\n",
    "    --covarCol $covarCol\n",
    "    --qCovarCol $qCovarCol\n",
    "    --numThreads $numThreads\n",
    "    --phenoFile $phenoFile\n",
    "    --keep_samples $keep_samples\n",
    "    --container_lmm $container\n",
    "    --walltime $walltime\n",
    "    --mem $mem\n",
    "\"\"\"\n",
    "\n",
    "sos run ~/project/UKBB_GWAS_dev/admin/Get_Job_Script.ipynb csg\\\n",
    "    --template-file $tpl_file \\\n",
    "    --workflow-file $gcta_sos \\\n",
    "    --to-script $gcta_sbatch \\\n",
    "    --args \"$gcta_args\""
   ]
  },
  {
   "cell_type": "markdown",
   "id": "f659c127-f3c1-4887-9390-b6989f565966",
   "metadata": {
    "kernel": "R"
   },
   "source": [
    "### Run GREML with common variants for 50K individuals"
   ]
  },
  {
   "cell_type": "code",
   "execution_count": 53,
   "id": "6fbc79a5-6eff-4f2a-a823-c32b86304f30",
   "metadata": {
    "kernel": "Bash",
    "tags": []
   },
   "outputs": [
    {
     "name": "stdout",
     "output_type": "stream",
     "text": [
      "INFO: Running \u001b[32mcsg\u001b[0m: Configuration for Columbia csg partition cluster\n",
      "INFO: \u001b[32mcsg\u001b[0m is \u001b[32mcompleted\u001b[0m.\n",
      "INFO: \u001b[32mcsg\u001b[0m output:   \u001b[32m/mnt/mfs/statgen/UKBiobank/results/ARHI_heritability/060922_greml_combined_common50K_prev0.28/combined_greml_common50K_2022-06-14.sbatch\u001b[0m\n",
      "INFO: Workflow csg (ID=wc8b077166fde3e32) is executed successfully with 1 completed step.\n",
      "\n"
     ]
    }
   ],
   "source": [
    "## Columbia's cluster\n",
    "cwd=/mnt/vast/hpc/csg/UKBiobank/results/ARHI_heritability/060922_greml_combined_common50K_prev0.28\n",
    "#This is the bfile obtained in step 1\n",
    "grm=/mnt/vast/hpc/csg/UKBiobank/results/ARHI_heritability/052522_grm_common_50K/combined/ukb23156_merged_eur_unrel_commonvarsMAFabove0.01.grm.bin\n",
    "# Format FID, IID, pop\n",
    "phenoFile=/mnt/vast/hpc/csg/UKBiobank/results/ARHI_heritability/pheno_files/090321_UKBB_Combined_f2247_f2257_expandedwhite_38410cases_96601ctrl.common50K_PC1_10.greml_pheno\n",
    "greml_sbatch=/mnt/vast/hpc/csg/UKBiobank/results/ARHI_heritability/060922_greml_combined_common50K_prev0.28/combined_greml_common50K_$(date +\"%Y-%m-%d\").sbatch\n",
    "greml_sos=~/project/UKBB_GWAS_dev/workflow/GREML.ipynb\n",
    "tpl_file=~/project/bioworkflows/admin/csg2.yml\n",
    "container=~/containers/lmm.sif\n",
    "phenoCol=f2247_f2257\n",
    "covarCol=sex\n",
    "qCovarCol=`echo age PC{1..10}`\n",
    "prevalence=0.28\n",
    "mem=\"100G\"\n",
    "\n",
    "greml_args=\"\"\"greml\n",
    "    --cwd $cwd\n",
    "    --grm $grm\n",
    "    --phenoFile $phenoFile\n",
    "    --phenoCol $phenoCol\n",
    "    --covarCol $covarCol\n",
    "    --qCovarCol $qCovarCol\n",
    "    --prevalence $prevalence\n",
    "    --mem $mem\n",
    "    --container $container   \n",
    "\"\"\"\n",
    "\n",
    "sos run  ~/project/UKBB_GWAS_dev/admin/Get_Job_Script.ipynb csg\\\n",
    "    --template-file $tpl_file \\\n",
    "    --workflow-file $greml_sos \\\n",
    "    --to-script $greml_sbatch \\\n",
    "    --args \"$greml_args\""
   ]
  },
  {
   "cell_type": "code",
   "execution_count": null,
   "id": "9908749c-fd5f-4848-b6f3-956c7ad31055",
   "metadata": {
    "kernel": "R"
   },
   "outputs": [],
   "source": []
  }
 ],
 "metadata": {
  "kernelspec": {
   "display_name": "SoS",
   "language": "sos",
   "name": "sos"
  },
  "language_info": {
   "codemirror_mode": "sos",
   "file_extension": ".sos",
   "mimetype": "text/x-sos",
   "name": "sos",
   "nbconvert_exporter": "sos_notebook.converter.SoS_Exporter",
   "pygments_lexer": "sos"
  },
  "sos": {
   "kernels": [
    [
     "Bash",
     "calysto_bash",
     "Bash",
     "#E6EEFF",
     ""
    ],
    [
     "R",
     "ir",
     "R",
     "#DCDCDA",
     "r"
    ]
   ],
   "version": "0.22.6"
  },
  "toc-autonumbering": true
 },
 "nbformat": 4,
 "nbformat_minor": 5
}
