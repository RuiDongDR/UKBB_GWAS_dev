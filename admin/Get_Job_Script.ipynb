{
 "cells": [
  {
   "cell_type": "markdown",
   "metadata": {
    "kernel": "SoS"
   },
   "source": [
    "# Generate job submission script for various computing environments\n",
    "\n",
    "This workflow generates job scripts for cluster job submissions."
   ]
  },
  {
   "cell_type": "code",
   "execution_count": 23,
   "metadata": {
    "kernel": "SoS"
   },
   "outputs": [],
   "source": [
    "[global]\n",
    "# Job script file to be written to\n",
    "parameter: to_script = path\n",
    "# The workflow file to execute\n",
    "parameter: workflow_file = path\n",
    "# Path to job template\n",
    "parameter: template_file = path\n",
    "# Command arguments\n",
    "parameter: args = str\n",
    "\n",
    "args = '\\\\\\n'.join(args.strip().split('\\n'))"
   ]
  },
  {
   "cell_type": "code",
   "execution_count": 1,
   "metadata": {
    "kernel": "SoS"
   },
   "outputs": [],
   "source": [
    "# Configuration for Yale `farnam` cluster\n",
    "[farnam]\n",
    "output: to_script\n",
    "report: output = to_script, expand = True\n",
    "    #!/bin/bash\n",
    "    #SBATCH --partition general\n",
    "    #SBATCH --nodes 1\n",
    "    #SBATCH --ntasks-per-node 1\n",
    "    #SBATCH --cpus-per-task 4\n",
    "    #SBATCH --mem 16G\n",
    "    #SBATCH --time 5-0:00:00\n",
    "    #SBATCH --job-name {to_script:n}\n",
    "    #SBATCH --output {to_script:n}-%J.out\n",
    "    #SBATCH --error {to_script:n}-%J.log\n",
    "\n",
    "    sos run {workflow_file:a} \\\n",
    "        {args} \\\n",
    "        -c {template_file:a} -q farnam -J 40 \\\n",
    "        &> {to_script:n}.log"
   ]
  },
  {
   "cell_type": "code",
   "execution_count": null,
   "metadata": {
    "kernel": "SoS"
   },
   "outputs": [],
   "source": [
    "# Configuration for Yale `pi_dewan` partition cluster\n",
    "[dewan]\n",
    "output: to_script\n",
    "report: output = to_script, expand = True\n",
    "    #!/bin/bash\n",
    "    #SBATCH --partition pi_dewan\n",
    "    #SBATCH --nodes 1\n",
    "    #SBATCH --ntasks-per-node 1\n",
    "    #SBATCH --cpus-per-task 4\n",
    "    #SBATCH --mem 16G\n",
    "    #SBATCH --time 5-0:00:00\n",
    "    #SBATCH --job-name {to_script:n}\n",
    "    #SBATCH --output {to_script:n}-%J.out\n",
    "    #SBATCH --error {to_script:n}-%J.log\n",
    "\n",
    "    sos run {workflow_file:a} \\\n",
    "        {args} \\\n",
    "        -c {template_file:a} -q pi_dewan -J 40 \\\n",
    "        &> {to_script:n}.log"
   ]
  },
  {
   "cell_type": "code",
   "execution_count": null,
   "metadata": {
    "kernel": "SoS"
   },
   "outputs": [],
   "source": [
    "# Configuration for Columbia csg partition cluster\n",
    "[csg]\n",
    "output: to_script\n",
    "report: output = to_script, expand = True\n",
    "    #!/bin/sh\n",
    "    #$ -l h_rt=36:00:00\n",
    "    #$ -l h_vmem=16G\n",
    "    #$ -N {to_script:abn}\n",
    "    #$ -o {to_script:an}-$JOB_ID.out\n",
    "    #$ -e {to_script:an}-$JOB_ID.err  \n",
    "    #$ -j y\n",
    "    #$ -q csg.q\n",
    "    #$ -S /bin/bash\n",
    "    export PATH=$HOME/miniconda3/bin:$PATH\n",
    "    module load Singularity/3.11.4\n",
    "    sos run {workflow_file:a} \\\n",
    "        {args} \\\n",
    "        -c {template_file:a} \\\n",
    "        -q csg -s force \\\n",
    "        &> {to_script:an}.log\n",
    "        "
   ]
  },
  {
   "cell_type": "code",
   "execution_count": null,
   "metadata": {
    "kernel": "SoS"
   },
   "outputs": [],
   "source": [
    "# Configuration for Columbia csg partition cluster\n",
    "[csg_mamba]\n",
    "output: to_script\n",
    "report: output = to_script, expand = True\n",
    "    #!/bin/sh\n",
    "    #$ -l h_rt=36:00:00\n",
    "    #$ -l h_vmem=16G\n",
    "    #$ -N {to_script:abn}\n",
    "    #$ -o {to_script:an}-$JOB_ID.out\n",
    "    #$ -e {to_script:an}-$JOB_ID.err  \n",
    "    #$ -j y\n",
    "    #$ -q csg.q\n",
    "    #$ -S /bin/bash\n",
    "    source ~/mamba_activate.sh\n",
    "    module load Singularity/3.11.4\n",
    "    sos run {workflow_file:a} \\\n",
    "        {args} \\\n",
    "        -c {template_file:a} \\\n",
    "        -q csg -s force \\\n",
    "        &> {to_script:an}.log"
   ]
  },
  {
   "cell_type": "markdown",
   "metadata": {
    "kernel": "SoS"
   },
   "source": [
    "## Example\n",
    "\n",
    "For example, to generate script for `fastGWA` analysis, first we set some bash variables,"
   ]
  },
  {
   "cell_type": "code",
   "execution_count": null,
   "metadata": {
    "kernel": "Bash"
   },
   "outputs": [],
   "source": [
    "workflow_file=LMM.ipynb\n",
    "workflow=fastGWA\n",
    "to_script=20200701_fastGWA.sbatch\n",
    "cwd=output\n",
    "tpl_file=farnam.yml\n",
    "bfile=data/genotypes.bed\n",
    "sampleFile=data/imputed_genotypes.sample\n",
    "bgenFile=data/imputed_genotypes_chr{1..22}.bgen\n",
    "phenoFile=data/phenotypes.txt\n",
    "formatFile=data/fastGWA_template.yml\n",
    "pheno=BMI\n",
    "covar=SEX\n",
    "qCovar=AGE"
   ]
  },
  {
   "cell_type": "markdown",
   "metadata": {
    "kernel": "Bash"
   },
   "source": [
    "Then using bash variables above, construct the command arguments for the pipeline,"
   ]
  },
  {
   "cell_type": "code",
   "execution_count": 2,
   "metadata": {
    "kernel": "Bash"
   },
   "outputs": [],
   "source": [
    "cmd_args=\"\"\"$workflow\n",
    "    --cwd $cwd\n",
    "    --bfile $bfile\n",
    "    --phenoFile $phenoFile\n",
    "    --formatFile $formatFile\n",
    "    --phenoCol $pheno\n",
    "    --covarCol $covar\n",
    "    --qCovarCol $qCovar\n",
    "    --numThreads 1\n",
    "    --bgenMinMAF 0.001\n",
    "    --bgenMinINFO 0.1\n",
    "    --parts 2\n",
    "    --p-filter 1\n",
    "    --job-size 1\n",
    "\"\"\""
   ]
  },
  {
   "cell_type": "markdown",
   "metadata": {
    "kernel": "Bash"
   },
   "source": [
    "Finally, generate the pipeline submission script,"
   ]
  },
  {
   "cell_type": "code",
   "execution_count": 3,
   "metadata": {
    "kernel": "Bash"
   },
   "outputs": [
    {
     "name": "stdout",
     "output_type": "stream",
     "text": [
      "INFO: Running \u001b[32mfarnam\u001b[0m: Configuration for Yale `farnam` cluster\n",
      "INFO: \u001b[32mfarnam\u001b[0m is \u001b[32mcompleted\u001b[0m.\n",
      "INFO: \u001b[32mfarnam\u001b[0m output:   \u001b[32m20200701_fastGWA.sbatch\u001b[0m\n",
      "INFO: Workflow farnam (ID=33191d20faadedb6) is executed successfully with 1 completed step.\n"
     ]
    }
   ],
   "source": [
    "sos run Get_Job_Script.ipynb farnam \\\n",
    "    --workflow-file $workflow_file \\\n",
    "    --to-script $to_script \\\n",
    "    --template-file $tpl_file \\\n",
    "    --args \"$cmd_args\""
   ]
  },
  {
   "cell_type": "markdown",
   "metadata": {
    "kernel": "Bash"
   },
   "source": [
    "## Result"
   ]
  },
  {
   "cell_type": "code",
   "execution_count": 4,
   "metadata": {
    "kernel": "SoS"
   },
   "outputs": [
    {
     "data": {
      "text/html": [
       "<div class=\"sos_hint\">> 20200701_fastGWA.sbatch (768 B):</div>"
      ],
      "text/plain": [
       "\n",
       "> 20200701_fastGWA.sbatch (768 B):"
      ]
     },
     "metadata": {},
     "output_type": "display_data"
    },
    {
     "data": {
      "text/html": [
       "<div class=\"sos_hint\">29 lines (-1 displayed, see --limit)</div>"
      ]
     },
     "metadata": {},
     "output_type": "display_data"
    },
    {
     "name": "stdout",
     "output_type": "stream",
     "text": [
      "#!/bin/bash\n",
      "#SBATCH --partition general\n",
      "#SBATCH --nodes 1\n",
      "#SBATCH --ntasks-per-node 1\n",
      "#SBATCH --cpus-per-task 4\n",
      "#SBATCH --mem 16G\n",
      "#SBATCH --time 3-0:00:00\n",
      "#SBATCH --job-name 20200701_fastGWA\n",
      "#SBATCH --output 20200701_fastGWA-%J.out\n",
      "#SBATCH --error 20200701_fastGWA-%J.log\n",
      "\n",
      "sos run /home/gw/GIT/github/UKBB_GWAS_dev/workflow/LMM.ipynb \\\n",
      "    fastGWA\\\n",
      "    --cwd output\\\n",
      "    --bfile data/genotypes.bed\\\n",
      "    --phenoFile data/phenotypes.txt\\\n",
      "    --formatFile data/fastGWA_template.yml\\\n",
      "    --phenoCol BMI\\\n",
      "    --covarCol SEX\\\n",
      "    --qCovarCol AGE\\\n",
      "    --numThreads 1\\\n",
      "    --bgenMinMAF 0.001\\\n",
      "    --bgenMinINFO 0.1\\\n",
      "    --parts 2\\\n",
      "    --p-filter 1\\\n",
      "    --job-size 1 \\\n",
      "    -c /home/gw/GIT/github/UKBB_GWAS_dev/workflow/farnam.yml -q farnam -J 40 \\\n",
      "    &> 20200701_fastGWA.log\n"
     ]
    }
   ],
   "source": [
    "%preview 20200701_fastGWA.sbatch -l -1"
   ]
  }
 ],
 "metadata": {
  "kernelspec": {
   "display_name": "SoS",
   "language": "sos",
   "name": "sos"
  },
  "language_info": {
   "codemirror_mode": "sos",
   "file_extension": ".sos",
   "mimetype": "text/x-sos",
   "name": "sos",
   "nbconvert_exporter": "sos_notebook.converter.SoS_Exporter",
   "pygments_lexer": "sos"
  },
  "sos": {
   "kernels": [
    [
     "Bash",
     "bash",
     "Bash",
     "#E6EEFF",
     "shell"
    ],
    [
     "SoS",
     "sos",
     "",
     "",
     "sos"
    ]
   ],
   "version": "0.24.3"
  }
 },
 "nbformat": 4,
 "nbformat_minor": 4
}
