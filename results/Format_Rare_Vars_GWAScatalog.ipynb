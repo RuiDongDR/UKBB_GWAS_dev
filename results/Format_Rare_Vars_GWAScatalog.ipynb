{
 "cells": [
  {
   "cell_type": "markdown",
   "id": "2bac9b8b-f799-44a8-af03-81ed17b3aea8",
   "metadata": {
    "kernel": "SoS",
    "tags": []
   },
   "source": [
    "## Formatting rare variant analyses for GWAS catalog"
   ]
  },
  {
   "cell_type": "markdown",
   "id": "5bd9fc48-5256-4ee3-a8e0-c3f073f2bef7",
   "metadata": {
    "kernel": "SoS"
   },
   "source": [
    "## f3393 200K"
   ]
  },
  {
   "cell_type": "code",
   "execution_count": 4,
   "id": "791b9bf9-87e7-4533-9872-14ee1a790f46",
   "metadata": {
    "kernel": "Python3",
    "tags": []
   },
   "outputs": [],
   "source": [
    "import pandas as pd "
   ]
  },
  {
   "cell_type": "code",
   "execution_count": 14,
   "id": "4713b4e4-ac9d-444d-9097-9e1ca37937b7",
   "metadata": {
    "kernel": "Python3",
    "tags": []
   },
   "outputs": [],
   "source": [
    "f3393_m1 = pd.read_csv(\"~/UKBiobank/results/REGENIE_results/results_burden_exome/101321_f3393_hearing_aid/090321_UKBB_Hearing_aid_f3393_expandedwhite_6436cases_96601ctrl_PC1_2_f3393.regenie_burden.Mask1.0.01.remove_sin.snp_stats.gz\", names=[\"chromosome\", \"base_pair_location\",\"other_allele\", \"remove\", \"effect_allele\", \"beta\", \"standard_error\",\"p_value\"],skiprows=1,compression=\"gzip\",sep=\"\\t\")"
   ]
  },
  {
   "cell_type": "code",
   "execution_count": 15,
   "id": "b3396aa9-cb51-40bd-bb64-feb6585e087d",
   "metadata": {
    "kernel": "Python3"
   },
   "outputs": [
    {
     "data": {
      "text/html": [
       "<div>\n",
       "<style scoped>\n",
       "    .dataframe tbody tr th:only-of-type {\n",
       "        vertical-align: middle;\n",
       "    }\n",
       "\n",
       "    .dataframe tbody tr th {\n",
       "        vertical-align: top;\n",
       "    }\n",
       "\n",
       "    .dataframe thead th {\n",
       "        text-align: right;\n",
       "    }\n",
       "</style>\n",
       "<table border=\"1\" class=\"dataframe\">\n",
       "  <thead>\n",
       "    <tr style=\"text-align: right;\">\n",
       "      <th></th>\n",
       "      <th>chromosome</th>\n",
       "      <th>base_pair_location</th>\n",
       "      <th>other_allele</th>\n",
       "      <th>remove</th>\n",
       "      <th>effect_allele</th>\n",
       "      <th>beta</th>\n",
       "      <th>standard_error</th>\n",
       "      <th>p_value</th>\n",
       "    </tr>\n",
       "  </thead>\n",
       "  <tbody>\n",
       "    <tr>\n",
       "      <th>0</th>\n",
       "      <td>1</td>\n",
       "      <td>33306677</td>\n",
       "      <td>ref</td>\n",
       "      <td>Mask1.0.01</td>\n",
       "      <td>A3GALT2.Mask1.0.01</td>\n",
       "      <td>0.038698</td>\n",
       "      <td>0.620133</td>\n",
       "      <td>0.950242</td>\n",
       "    </tr>\n",
       "    <tr>\n",
       "      <th>1</th>\n",
       "      <td>1</td>\n",
       "      <td>12716241</td>\n",
       "      <td>ref</td>\n",
       "      <td>Mask1.0.01</td>\n",
       "      <td>AADACL3.Mask1.0.01</td>\n",
       "      <td>-1.154420</td>\n",
       "      <td>0.778295</td>\n",
       "      <td>0.138003</td>\n",
       "    </tr>\n",
       "    <tr>\n",
       "      <th>2</th>\n",
       "      <td>1</td>\n",
       "      <td>12644447</td>\n",
       "      <td>ref</td>\n",
       "      <td>Mask1.0.01</td>\n",
       "      <td>AADACL4.Mask1.0.01</td>\n",
       "      <td>2.413210</td>\n",
       "      <td>1.873680</td>\n",
       "      <td>0.197764</td>\n",
       "    </tr>\n",
       "    <tr>\n",
       "      <th>3</th>\n",
       "      <td>1</td>\n",
       "      <td>93993138</td>\n",
       "      <td>ref</td>\n",
       "      <td>Mask1.0.01</td>\n",
       "      <td>ABCA4.Mask1.0.01</td>\n",
       "      <td>0.120686</td>\n",
       "      <td>0.330269</td>\n",
       "      <td>0.714801</td>\n",
       "    </tr>\n",
       "    <tr>\n",
       "      <th>4</th>\n",
       "      <td>1</td>\n",
       "      <td>229518125</td>\n",
       "      <td>ref</td>\n",
       "      <td>Mask1.0.01</td>\n",
       "      <td>ABCB10.Mask1.0.01</td>\n",
       "      <td>-0.746947</td>\n",
       "      <td>0.620322</td>\n",
       "      <td>0.228540</td>\n",
       "    </tr>\n",
       "    <tr>\n",
       "      <th>...</th>\n",
       "      <td>...</td>\n",
       "      <td>...</td>\n",
       "      <td>...</td>\n",
       "      <td>...</td>\n",
       "      <td>...</td>\n",
       "      <td>...</td>\n",
       "      <td>...</td>\n",
       "      <td>...</td>\n",
       "    </tr>\n",
       "    <tr>\n",
       "      <th>16574</th>\n",
       "      <td>22</td>\n",
       "      <td>22513971</td>\n",
       "      <td>ref</td>\n",
       "      <td>Mask1.0.01</td>\n",
       "      <td>ZNF280A.Mask1.0.01</td>\n",
       "      <td>-0.112431</td>\n",
       "      <td>0.254596</td>\n",
       "      <td>0.658775</td>\n",
       "    </tr>\n",
       "    <tr>\n",
       "      <th>16575</th>\n",
       "      <td>22</td>\n",
       "      <td>22487698</td>\n",
       "      <td>ref</td>\n",
       "      <td>Mask1.0.01</td>\n",
       "      <td>ZNF280B.Mask1.0.01</td>\n",
       "      <td>0.361888</td>\n",
       "      <td>1.216680</td>\n",
       "      <td>0.766131</td>\n",
       "    </tr>\n",
       "    <tr>\n",
       "      <th>16576</th>\n",
       "      <td>22</td>\n",
       "      <td>23743709</td>\n",
       "      <td>ref</td>\n",
       "      <td>Mask1.0.01</td>\n",
       "      <td>ZNF70.Mask1.0.01</td>\n",
       "      <td>1.128960</td>\n",
       "      <td>0.752600</td>\n",
       "      <td>0.133593</td>\n",
       "    </tr>\n",
       "    <tr>\n",
       "      <th>16577</th>\n",
       "      <td>22</td>\n",
       "      <td>20394529</td>\n",
       "      <td>ref</td>\n",
       "      <td>Mask1.0.01</td>\n",
       "      <td>ZNF74.Mask1.0.01</td>\n",
       "      <td>-0.337658</td>\n",
       "      <td>0.372903</td>\n",
       "      <td>0.365209</td>\n",
       "    </tr>\n",
       "    <tr>\n",
       "      <th>16578</th>\n",
       "      <td>22</td>\n",
       "      <td>28883668</td>\n",
       "      <td>ref</td>\n",
       "      <td>Mask1.0.01</td>\n",
       "      <td>ZNRF3.Mask1.0.01</td>\n",
       "      <td>0.732866</td>\n",
       "      <td>1.362710</td>\n",
       "      <td>0.590715</td>\n",
       "    </tr>\n",
       "  </tbody>\n",
       "</table>\n",
       "<p>16579 rows × 8 columns</p>\n",
       "</div>"
      ],
      "text/plain": [
       "       chromosome  base_pair_location other_allele      remove  \\\n",
       "0               1            33306677          ref  Mask1.0.01   \n",
       "1               1            12716241          ref  Mask1.0.01   \n",
       "2               1            12644447          ref  Mask1.0.01   \n",
       "3               1            93993138          ref  Mask1.0.01   \n",
       "4               1           229518125          ref  Mask1.0.01   \n",
       "...           ...                 ...          ...         ...   \n",
       "16574          22            22513971          ref  Mask1.0.01   \n",
       "16575          22            22487698          ref  Mask1.0.01   \n",
       "16576          22            23743709          ref  Mask1.0.01   \n",
       "16577          22            20394529          ref  Mask1.0.01   \n",
       "16578          22            28883668          ref  Mask1.0.01   \n",
       "\n",
       "            effect_allele      beta  standard_error   p_value  \n",
       "0      A3GALT2.Mask1.0.01  0.038698        0.620133  0.950242  \n",
       "1      AADACL3.Mask1.0.01 -1.154420        0.778295  0.138003  \n",
       "2      AADACL4.Mask1.0.01  2.413210        1.873680  0.197764  \n",
       "3        ABCA4.Mask1.0.01  0.120686        0.330269  0.714801  \n",
       "4       ABCB10.Mask1.0.01 -0.746947        0.620322  0.228540  \n",
       "...                   ...       ...             ...       ...  \n",
       "16574  ZNF280A.Mask1.0.01 -0.112431        0.254596  0.658775  \n",
       "16575  ZNF280B.Mask1.0.01  0.361888        1.216680  0.766131  \n",
       "16576    ZNF70.Mask1.0.01  1.128960        0.752600  0.133593  \n",
       "16577    ZNF74.Mask1.0.01 -0.337658        0.372903  0.365209  \n",
       "16578    ZNRF3.Mask1.0.01  0.732866        1.362710  0.590715  \n",
       "\n",
       "[16579 rows x 8 columns]"
      ]
     },
     "execution_count": 15,
     "metadata": {},
     "output_type": "execute_result"
    }
   ],
   "source": [
    "f3393_m1"
   ]
  },
  {
   "cell_type": "code",
   "execution_count": 17,
   "id": "ba9c797f-9a54-4bee-b96c-d4b62b0f3970",
   "metadata": {
    "kernel": "Python3",
    "tags": []
   },
   "outputs": [],
   "source": [
    "f3393_m1[\"variant_id\"] = 'NA'"
   ]
  },
  {
   "cell_type": "code",
   "execution_count": 18,
   "id": "0ed6e683-a25b-400a-af6e-1343bdd890cb",
   "metadata": {
    "kernel": "Python3"
   },
   "outputs": [
    {
     "data": {
      "text/html": [
       "<div>\n",
       "<style scoped>\n",
       "    .dataframe tbody tr th:only-of-type {\n",
       "        vertical-align: middle;\n",
       "    }\n",
       "\n",
       "    .dataframe tbody tr th {\n",
       "        vertical-align: top;\n",
       "    }\n",
       "\n",
       "    .dataframe thead th {\n",
       "        text-align: right;\n",
       "    }\n",
       "</style>\n",
       "<table border=\"1\" class=\"dataframe\">\n",
       "  <thead>\n",
       "    <tr style=\"text-align: right;\">\n",
       "      <th></th>\n",
       "      <th>chromosome</th>\n",
       "      <th>base_pair_location</th>\n",
       "      <th>other_allele</th>\n",
       "      <th>remove</th>\n",
       "      <th>effect_allele</th>\n",
       "      <th>beta</th>\n",
       "      <th>standard_error</th>\n",
       "      <th>p_value</th>\n",
       "      <th>variant_id</th>\n",
       "    </tr>\n",
       "  </thead>\n",
       "  <tbody>\n",
       "    <tr>\n",
       "      <th>0</th>\n",
       "      <td>1</td>\n",
       "      <td>33306677</td>\n",
       "      <td>ref</td>\n",
       "      <td>Mask1.0.01</td>\n",
       "      <td>A3GALT2.Mask1.0.01</td>\n",
       "      <td>0.038698</td>\n",
       "      <td>0.620133</td>\n",
       "      <td>0.950242</td>\n",
       "      <td>NA</td>\n",
       "    </tr>\n",
       "    <tr>\n",
       "      <th>1</th>\n",
       "      <td>1</td>\n",
       "      <td>12716241</td>\n",
       "      <td>ref</td>\n",
       "      <td>Mask1.0.01</td>\n",
       "      <td>AADACL3.Mask1.0.01</td>\n",
       "      <td>-1.154420</td>\n",
       "      <td>0.778295</td>\n",
       "      <td>0.138003</td>\n",
       "      <td>NA</td>\n",
       "    </tr>\n",
       "    <tr>\n",
       "      <th>2</th>\n",
       "      <td>1</td>\n",
       "      <td>12644447</td>\n",
       "      <td>ref</td>\n",
       "      <td>Mask1.0.01</td>\n",
       "      <td>AADACL4.Mask1.0.01</td>\n",
       "      <td>2.413210</td>\n",
       "      <td>1.873680</td>\n",
       "      <td>0.197764</td>\n",
       "      <td>NA</td>\n",
       "    </tr>\n",
       "    <tr>\n",
       "      <th>3</th>\n",
       "      <td>1</td>\n",
       "      <td>93993138</td>\n",
       "      <td>ref</td>\n",
       "      <td>Mask1.0.01</td>\n",
       "      <td>ABCA4.Mask1.0.01</td>\n",
       "      <td>0.120686</td>\n",
       "      <td>0.330269</td>\n",
       "      <td>0.714801</td>\n",
       "      <td>NA</td>\n",
       "    </tr>\n",
       "    <tr>\n",
       "      <th>4</th>\n",
       "      <td>1</td>\n",
       "      <td>229518125</td>\n",
       "      <td>ref</td>\n",
       "      <td>Mask1.0.01</td>\n",
       "      <td>ABCB10.Mask1.0.01</td>\n",
       "      <td>-0.746947</td>\n",
       "      <td>0.620322</td>\n",
       "      <td>0.228540</td>\n",
       "      <td>NA</td>\n",
       "    </tr>\n",
       "    <tr>\n",
       "      <th>...</th>\n",
       "      <td>...</td>\n",
       "      <td>...</td>\n",
       "      <td>...</td>\n",
       "      <td>...</td>\n",
       "      <td>...</td>\n",
       "      <td>...</td>\n",
       "      <td>...</td>\n",
       "      <td>...</td>\n",
       "      <td>...</td>\n",
       "    </tr>\n",
       "    <tr>\n",
       "      <th>16574</th>\n",
       "      <td>22</td>\n",
       "      <td>22513971</td>\n",
       "      <td>ref</td>\n",
       "      <td>Mask1.0.01</td>\n",
       "      <td>ZNF280A.Mask1.0.01</td>\n",
       "      <td>-0.112431</td>\n",
       "      <td>0.254596</td>\n",
       "      <td>0.658775</td>\n",
       "      <td>NA</td>\n",
       "    </tr>\n",
       "    <tr>\n",
       "      <th>16575</th>\n",
       "      <td>22</td>\n",
       "      <td>22487698</td>\n",
       "      <td>ref</td>\n",
       "      <td>Mask1.0.01</td>\n",
       "      <td>ZNF280B.Mask1.0.01</td>\n",
       "      <td>0.361888</td>\n",
       "      <td>1.216680</td>\n",
       "      <td>0.766131</td>\n",
       "      <td>NA</td>\n",
       "    </tr>\n",
       "    <tr>\n",
       "      <th>16576</th>\n",
       "      <td>22</td>\n",
       "      <td>23743709</td>\n",
       "      <td>ref</td>\n",
       "      <td>Mask1.0.01</td>\n",
       "      <td>ZNF70.Mask1.0.01</td>\n",
       "      <td>1.128960</td>\n",
       "      <td>0.752600</td>\n",
       "      <td>0.133593</td>\n",
       "      <td>NA</td>\n",
       "    </tr>\n",
       "    <tr>\n",
       "      <th>16577</th>\n",
       "      <td>22</td>\n",
       "      <td>20394529</td>\n",
       "      <td>ref</td>\n",
       "      <td>Mask1.0.01</td>\n",
       "      <td>ZNF74.Mask1.0.01</td>\n",
       "      <td>-0.337658</td>\n",
       "      <td>0.372903</td>\n",
       "      <td>0.365209</td>\n",
       "      <td>NA</td>\n",
       "    </tr>\n",
       "    <tr>\n",
       "      <th>16578</th>\n",
       "      <td>22</td>\n",
       "      <td>28883668</td>\n",
       "      <td>ref</td>\n",
       "      <td>Mask1.0.01</td>\n",
       "      <td>ZNRF3.Mask1.0.01</td>\n",
       "      <td>0.732866</td>\n",
       "      <td>1.362710</td>\n",
       "      <td>0.590715</td>\n",
       "      <td>NA</td>\n",
       "    </tr>\n",
       "  </tbody>\n",
       "</table>\n",
       "<p>16579 rows × 9 columns</p>\n",
       "</div>"
      ],
      "text/plain": [
       "       chromosome  base_pair_location other_allele      remove  \\\n",
       "0               1            33306677          ref  Mask1.0.01   \n",
       "1               1            12716241          ref  Mask1.0.01   \n",
       "2               1            12644447          ref  Mask1.0.01   \n",
       "3               1            93993138          ref  Mask1.0.01   \n",
       "4               1           229518125          ref  Mask1.0.01   \n",
       "...           ...                 ...          ...         ...   \n",
       "16574          22            22513971          ref  Mask1.0.01   \n",
       "16575          22            22487698          ref  Mask1.0.01   \n",
       "16576          22            23743709          ref  Mask1.0.01   \n",
       "16577          22            20394529          ref  Mask1.0.01   \n",
       "16578          22            28883668          ref  Mask1.0.01   \n",
       "\n",
       "            effect_allele      beta  standard_error   p_value variant_id  \n",
       "0      A3GALT2.Mask1.0.01  0.038698        0.620133  0.950242         NA  \n",
       "1      AADACL3.Mask1.0.01 -1.154420        0.778295  0.138003         NA  \n",
       "2      AADACL4.Mask1.0.01  2.413210        1.873680  0.197764         NA  \n",
       "3        ABCA4.Mask1.0.01  0.120686        0.330269  0.714801         NA  \n",
       "4       ABCB10.Mask1.0.01 -0.746947        0.620322  0.228540         NA  \n",
       "...                   ...       ...             ...       ...        ...  \n",
       "16574  ZNF280A.Mask1.0.01 -0.112431        0.254596  0.658775         NA  \n",
       "16575  ZNF280B.Mask1.0.01  0.361888        1.216680  0.766131         NA  \n",
       "16576    ZNF70.Mask1.0.01  1.128960        0.752600  0.133593         NA  \n",
       "16577    ZNF74.Mask1.0.01 -0.337658        0.372903  0.365209         NA  \n",
       "16578    ZNRF3.Mask1.0.01  0.732866        1.362710  0.590715         NA  \n",
       "\n",
       "[16579 rows x 9 columns]"
      ]
     },
     "execution_count": 18,
     "metadata": {},
     "output_type": "execute_result"
    }
   ],
   "source": [
    "f3393_m1"
   ]
  },
  {
   "cell_type": "code",
   "execution_count": 20,
   "id": "0480f7ac-3b00-450d-9162-1052c46a77bd",
   "metadata": {
    "kernel": "Python3",
    "tags": []
   },
   "outputs": [],
   "source": [
    "f3393_m1[[\"variant_id\", \"chromosome\",\"base_pair_location\",\"effect_allele\",\"other_allele\", \"beta\",\"standard_error\", \"p_value\"]].to_csv(\"~/GWAS_catalog_rare_vars/090321_UKBB_Hearing_aid_f3393_expandedwhite_6436cases_96601ctrl_PC1_2_f3393.regenie_burden.Mask1.0.01.remove_sin.snp_stats.gz\", sep=\"\\t\", index=False)"
   ]
  },
  {
   "cell_type": "code",
   "execution_count": 21,
   "id": "182f337d-4346-4bde-b000-4f7e35d38033",
   "metadata": {
    "kernel": "Python3"
   },
   "outputs": [],
   "source": [
    "file='~/UKBiobank/results/REGENIE_results/results_burden_exome/101321_f3393_hearing_aid/090321_UKBB_Hearing_aid_f3393_expandedwhite_6436cases_96601ctrl_PC1_2_f3393.regenie_burden.Mask2.0.01.remove_sin.snp_stats.gz'"
   ]
  },
  {
   "cell_type": "code",
   "execution_count": 22,
   "id": "0c9f8914-a7b9-4580-a329-3ea23aa661b7",
   "metadata": {
    "kernel": "Python3"
   },
   "outputs": [],
   "source": [
    "f3393_m2 = pd.read_csv(file, names=[\"chromosome\", \"base_pair_location\",\"other_allele\", \"remove\", \"effect_allele\", \"beta\", \"standard_error\",\"p_value\"],skiprows=1,compression=\"gzip\",sep=\"\\t\")"
   ]
  },
  {
   "cell_type": "code",
   "execution_count": 23,
   "id": "1e58ac70-1aad-41c2-9387-2c587e2d0950",
   "metadata": {
    "kernel": "Python3"
   },
   "outputs": [],
   "source": [
    "f3393_m2[\"variant_id\"] = 'NA'"
   ]
  },
  {
   "cell_type": "code",
   "execution_count": 26,
   "id": "2002ebbe-c37b-47d4-9aa7-2accc0d2cf8d",
   "metadata": {
    "kernel": "Python3"
   },
   "outputs": [],
   "source": [
    "f3393_m2[[\"variant_id\", \"chromosome\",\"base_pair_location\",\"effect_allele\",\"other_allele\", \"beta\",\"standard_error\", \"p_value\"]].to_csv(\"~/GWAS_catalog_rare_vars/090321_UKBB_Hearing_aid_f3393_expandedwhite_6436cases_96601ctrl_PC1_2_f3393.regenie_burden.Mask2.0.01.remove_sin.snp_stats.gz\", sep=\"\\t\", index=False)"
   ]
  },
  {
   "cell_type": "markdown",
   "id": "0167693b-5db6-4a8d-9f5a-5b13347dca92",
   "metadata": {
    "kernel": "Python3"
   },
   "source": [
    "## f2247"
   ]
  },
  {
   "cell_type": "code",
   "execution_count": 27,
   "id": "e7d61bd5-c2ed-4ad6-b986-6e99b1d7ed61",
   "metadata": {
    "kernel": "Python3"
   },
   "outputs": [],
   "source": [
    "file='~/UKBiobank/results/REGENIE_results/results_burden_exome/101321_f2247_hearing_difficulty/090321_UKBB_Hearing_difficulty_f2247_expandedwhite_45502cases_96601ctrl_PC1_2_f2247.regenie_burden.Mask1.0.01.remove_sin.snp_stats.gz'"
   ]
  },
  {
   "cell_type": "code",
   "execution_count": 28,
   "id": "4e2c6bb2-7435-4a31-a65f-6334f2e3b217",
   "metadata": {
    "kernel": "Python3"
   },
   "outputs": [],
   "source": [
    "f2247_m1= pd.read_csv(file, names=[\"chromosome\", \"base_pair_location\",\"other_allele\", \"remove\", \"effect_allele\", \"beta\", \"standard_error\",\"p_value\"],skiprows=1,compression=\"gzip\",sep=\"\\t\")"
   ]
  },
  {
   "cell_type": "code",
   "execution_count": 29,
   "id": "5f1ab1b7-953c-435b-882b-c2b1ead09a70",
   "metadata": {
    "kernel": "Python3"
   },
   "outputs": [],
   "source": [
    "f2247_m1[\"variant_id\"] = 'NA'"
   ]
  },
  {
   "cell_type": "code",
   "execution_count": 31,
   "id": "1706e553-054b-446d-9325-ec4e003e2343",
   "metadata": {
    "kernel": "Python3"
   },
   "outputs": [],
   "source": [
    "f2247_m1[[\"variant_id\", \"chromosome\",\"base_pair_location\",\"effect_allele\",\"other_allele\", \"beta\",\"standard_error\", \"p_value\"]].to_csv(\"~/GWAS_catalog_rare_vars/090321_UKBB_Hearing_difficulty_f2247_expandedwhite_45502cases_96601ctrl_PC1_2_f2247.regenie_burden.Mask1.0.01.remove_sin.snp_stats.gz\", sep=\"\\t\", index=False)"
   ]
  },
  {
   "cell_type": "code",
   "execution_count": 32,
   "id": "3b1ad9d4-fa7f-4c05-b733-6e8d0773b860",
   "metadata": {
    "kernel": "Python3"
   },
   "outputs": [],
   "source": [
    "file='~/UKBiobank/results/REGENIE_results/results_burden_exome/101321_f2247_hearing_difficulty/090321_UKBB_Hearing_difficulty_f2247_expandedwhite_45502cases_96601ctrl_PC1_2_f2247.regenie_burden.Mask2.0.01.remove_sin.snp_stats.gz'"
   ]
  },
  {
   "cell_type": "code",
   "execution_count": 33,
   "id": "f89603d5-3cc8-45d6-b00a-5bcefa5334cd",
   "metadata": {
    "kernel": "Python3"
   },
   "outputs": [],
   "source": [
    "f2247_m2= pd.read_csv(file, names=[\"chromosome\", \"base_pair_location\",\"other_allele\", \"remove\", \"effect_allele\", \"beta\", \"standard_error\",\"p_value\"],skiprows=1,compression=\"gzip\",sep=\"\\t\")"
   ]
  },
  {
   "cell_type": "code",
   "execution_count": 34,
   "id": "125dd9d9-b2aa-4b4e-9144-36b8fffc3369",
   "metadata": {
    "kernel": "Python3"
   },
   "outputs": [],
   "source": [
    "f2247_m2[\"variant_id\"] = 'NA'"
   ]
  },
  {
   "cell_type": "code",
   "execution_count": 35,
   "id": "70355537-230f-4c94-8b6b-8267d4e7a62d",
   "metadata": {
    "kernel": "Python3"
   },
   "outputs": [],
   "source": [
    "f2247_m2[[\"variant_id\", \"chromosome\",\"base_pair_location\",\"effect_allele\",\"other_allele\", \"beta\",\"standard_error\", \"p_value\"]].to_csv(\"~/GWAS_catalog_rare_vars/090321_UKBB_Hearing_difficulty_f2247_expandedwhite_45502cases_96601ctrl_PC1_2_f2247.regenie_burden.Mask2.0.01.remove_sin.snp_stats.gz\", sep=\"\\t\", index=False)"
   ]
  },
  {
   "cell_type": "markdown",
   "id": "bb689861-8eef-453e-8bfc-97759d4b257a",
   "metadata": {
    "kernel": "Python3"
   },
   "source": [
    "## f2257"
   ]
  },
  {
   "cell_type": "code",
   "execution_count": 50,
   "id": "a14543f5-8f98-4138-a7b3-876585ab30a1",
   "metadata": {
    "kernel": "Python3"
   },
   "outputs": [],
   "source": [
    "file=\"~/UKBiobank/results/REGENIE_results/results_burden_exome/101321_f2257_hearing_noise/090321_UKBB_Hearing_noise_f2257_expandedwhite_65660cases_96601ctrl_PC1_2_f2257.regenie_burden.Mask1.0.01.remove_sin.snp_stats.gz\"\n",
    "file2=\"~/UKBiobank/results/REGENIE_results/results_burden_exome/101321_f2257_hearing_noise/090321_UKBB_Hearing_noise_f2257_expandedwhite_65660cases_96601ctrl_PC1_2_f2257.regenie_burden.Mask2.0.01.remove_sin.snp_stats.gz\""
   ]
  },
  {
   "cell_type": "code",
   "execution_count": 51,
   "id": "a87ae1a8-c27a-4176-9947-69b7d13e5662",
   "metadata": {
    "kernel": "Python3"
   },
   "outputs": [],
   "source": [
    "f2257_m1= pd.read_csv(file, names=[\"chromosome\", \"base_pair_location\",\"other_allele\", \"remove\", \"effect_allele\", \"beta\", \"standard_error\",\"p_value\"],skiprows=1,compression=\"gzip\",sep=\"\\t\")"
   ]
  },
  {
   "cell_type": "code",
   "execution_count": 52,
   "id": "f1bf2d23-ee1d-470d-9fc5-f752def51846",
   "metadata": {
    "kernel": "Python3"
   },
   "outputs": [],
   "source": [
    "f2257_m1[\"variant_id\"] = 'NA'"
   ]
  },
  {
   "cell_type": "code",
   "execution_count": 53,
   "id": "ee7775a1-9276-493b-a453-fb12d99884ce",
   "metadata": {
    "kernel": "Python3"
   },
   "outputs": [],
   "source": [
    "f2257_m1[[\"variant_id\", \"chromosome\",\"base_pair_location\",\"effect_allele\",\"other_allele\", \"beta\",\"standard_error\", \"p_value\"]].to_csv(\"~/GWAS_catalog_rare_vars/090321_UKBB_Hearing_noise_f2257_expandedwhite_65660cases_96601ctrl_PC1_2_f2257.regenie_burden.Mask1.0.01.remove_sin.snp_stats.gz\", sep=\"\\t\", index=False)"
   ]
  },
  {
   "cell_type": "code",
   "execution_count": 54,
   "id": "d378e162-a202-4aa2-8480-62777d471910",
   "metadata": {
    "kernel": "Python3"
   },
   "outputs": [],
   "source": [
    "f2257_m2= pd.read_csv(file2, names=[\"chromosome\", \"base_pair_location\",\"other_allele\", \"remove\", \"effect_allele\", \"beta\", \"standard_error\",\"p_value\"],skiprows=1,compression=\"gzip\",sep=\"\\t\")"
   ]
  },
  {
   "cell_type": "code",
   "execution_count": 55,
   "id": "432f6bce-8549-46c6-a7bc-7d908110b436",
   "metadata": {
    "kernel": "Python3"
   },
   "outputs": [],
   "source": [
    "f2257_m2[\"variant_id\"] = 'NA'"
   ]
  },
  {
   "cell_type": "code",
   "execution_count": 56,
   "id": "c7f91ec6-267d-4dab-ad5a-c150f4d80676",
   "metadata": {
    "kernel": "Python3"
   },
   "outputs": [],
   "source": [
    "f2257_m2[[\"variant_id\", \"chromosome\",\"base_pair_location\",\"effect_allele\",\"other_allele\", \"beta\",\"standard_error\", \"p_value\"]].to_csv(\"~/GWAS_catalog_rare_vars/090321_UKBB_Hearing_noise_f2257_expandedwhite_65660cases_96601ctrl_PC1_2_f2257.regenie_burden.Mask2.0.01.remove_sin.snp_stats.gz\", sep=\"\\t\", index=False)"
   ]
  },
  {
   "cell_type": "markdown",
   "id": "e1c209f9-ae6c-4137-9235-976349eb8cd7",
   "metadata": {
    "kernel": "Python3"
   },
   "source": [
    "## Combined"
   ]
  },
  {
   "cell_type": "code",
   "execution_count": 57,
   "id": "37e3fa03-82e3-476e-a4a4-13d863dafbee",
   "metadata": {
    "kernel": "Python3"
   },
   "outputs": [],
   "source": [
    "file=\"~/UKBiobank/results/REGENIE_results/results_burden_exome/101321_Combined_f2247_f2257/090321_UKBB_Combined_f2247_f2257_expandedwhite_38410cases_96601ctrl_PC1_2_f2247_f2257.regenie_burden.Mask1.0.01.remove_sin.snp_stats.gz\"\n",
    "file2=\"~/UKBiobank/results/REGENIE_results/results_burden_exome/101321_Combined_f2247_f2257/090321_UKBB_Combined_f2247_f2257_expandedwhite_38410cases_96601ctrl_PC1_2_f2247_f2257.regenie_burden.Mask2.0.01.remove_sin.snp_stats.gz\"\n"
   ]
  },
  {
   "cell_type": "code",
   "execution_count": 58,
   "id": "f01651fe-fe2a-4448-8bc8-d21413eab0bb",
   "metadata": {
    "kernel": "Python3"
   },
   "outputs": [],
   "source": [
    "comb_m1= pd.read_csv(file, names=[\"chromosome\", \"base_pair_location\",\"other_allele\", \"remove\", \"effect_allele\", \"beta\", \"standard_error\",\"p_value\"],skiprows=1,compression=\"gzip\",sep=\"\\t\")"
   ]
  },
  {
   "cell_type": "code",
   "execution_count": 59,
   "id": "e0161bc1-30dd-44f4-ac79-56cbd322b86f",
   "metadata": {
    "kernel": "Python3"
   },
   "outputs": [],
   "source": [
    "comb_m1[\"variant_id\"] = 'NA'"
   ]
  },
  {
   "cell_type": "code",
   "execution_count": 60,
   "id": "5fc3f362-635e-4557-b656-9e43a4dd756d",
   "metadata": {
    "kernel": "Python3"
   },
   "outputs": [],
   "source": [
    "comb_m1[[\"variant_id\", \"chromosome\",\"base_pair_location\",\"effect_allele\",\"other_allele\", \"beta\",\"standard_error\", \"p_value\"]].to_csv(\"~/GWAS_catalog_rare_vars/090321_UKBB_Combined_f2247_f2257_expandedwhite_38410cases_96601ctrl_PC1_2_f2247_f2257.regenie_burden.Mask1.0.01.remove_sin.snp_stats.gz\", sep=\"\\t\", index=False)"
   ]
  },
  {
   "cell_type": "code",
   "execution_count": 61,
   "id": "4564c7d1-489d-4ec1-85d6-e3487460f847",
   "metadata": {
    "kernel": "Python3"
   },
   "outputs": [],
   "source": [
    "comb_m2= pd.read_csv(file2, names=[\"chromosome\", \"base_pair_location\",\"other_allele\", \"remove\", \"effect_allele\", \"beta\", \"standard_error\",\"p_value\"],skiprows=1,compression=\"gzip\",sep=\"\\t\")"
   ]
  },
  {
   "cell_type": "code",
   "execution_count": 62,
   "id": "6c060518-8705-4907-b7d9-a870a2f5fe33",
   "metadata": {
    "kernel": "Python3"
   },
   "outputs": [],
   "source": [
    "comb_m2[\"variant_id\"] = 'NA'"
   ]
  },
  {
   "cell_type": "code",
   "execution_count": 63,
   "id": "69e4db63-3183-4c63-8cb6-ca1a3e3779e8",
   "metadata": {
    "kernel": "Python3"
   },
   "outputs": [],
   "source": [
    "comb_m2[[\"variant_id\", \"chromosome\",\"base_pair_location\",\"effect_allele\",\"other_allele\", \"beta\",\"standard_error\", \"p_value\"]].to_csv(\"~/GWAS_catalog_rare_vars/090321_UKBB_Combined_f2247_f2257_expandedwhite_38410cases_96601ctrl_PC1_2_f2247_f2257.regenie_burden.Mask2.0.01.remove_sin.snp_stats.gz\", sep=\"\\t\", index=False)"
   ]
  },
  {
   "cell_type": "markdown",
   "id": "b6c36099-649e-4e69-a40c-9d043513ab31",
   "metadata": {
    "kernel": "Python3"
   },
   "source": [
    "# 150K"
   ]
  },
  {
   "cell_type": "markdown",
   "id": "8262f7f3-844a-4b00-bd3b-233975f1385f",
   "metadata": {
    "kernel": "Python3"
   },
   "source": [
    "### f3393"
   ]
  },
  {
   "cell_type": "code",
   "execution_count": 64,
   "id": "02869c36-842f-4b73-9438-892cd65a161c",
   "metadata": {
    "kernel": "Python3"
   },
   "outputs": [],
   "source": [
    "file=\"~/UKBiobank/results/REGENIE_results/results_burden_exome/150k/091321_f3393_hearing_aid/090321_UKBB_Hearing_aid_f3393_expandedwhite_78848ind_150K_f3393.regenie_burden.Mask1.0.01.remove_sin.snp_stats.gz\"\n",
    "file2=\"~/UKBiobank/results/REGENIE_results/results_burden_exome/150k/091321_f3393_hearing_aid/090321_UKBB_Hearing_aid_f3393_expandedwhite_78848ind_150K_f3393.regenie_burden.Mask2.0.01.remove_sin.snp_stats.gz\"\n"
   ]
  },
  {
   "cell_type": "code",
   "execution_count": 65,
   "id": "12e554d8-a999-4688-924e-598954f1c797",
   "metadata": {
    "kernel": "Python3"
   },
   "outputs": [],
   "source": [
    "f3393_m1= pd.read_csv(file, names=[\"chromosome\", \"base_pair_location\",\"other_allele\", \"remove\", \"effect_allele\", \"beta\", \"standard_error\",\"p_value\"],skiprows=1,compression=\"gzip\",sep=\"\\t\")"
   ]
  },
  {
   "cell_type": "code",
   "execution_count": 66,
   "id": "93ab0c5e-3834-4db0-9445-89a22f38832b",
   "metadata": {
    "kernel": "Python3"
   },
   "outputs": [],
   "source": [
    "f3393_m1[\"variant_id\"] = 'NA'"
   ]
  },
  {
   "cell_type": "code",
   "execution_count": 67,
   "id": "a5dd1396-9046-4a15-8983-a6e28f3585e7",
   "metadata": {
    "kernel": "Python3"
   },
   "outputs": [],
   "source": [
    "f3393_m1[[\"variant_id\", \"chromosome\",\"base_pair_location\",\"effect_allele\",\"other_allele\", \"beta\",\"standard_error\", \"p_value\"]].to_csv(\"~/GWAS_catalog_rare_vars/090321_UKBB_Hearing_aid_f3393_expandedwhite_78848ind_150K_f3393.regenie_burden.Mask1.0.01.remove_sin.snp_stats.gz\", sep=\"\\t\", index=False)"
   ]
  },
  {
   "cell_type": "code",
   "execution_count": 68,
   "id": "bde7ae52-3047-4283-8c78-38df59153c78",
   "metadata": {
    "kernel": "Python3"
   },
   "outputs": [],
   "source": [
    "f3393_m2= pd.read_csv(file2, names=[\"chromosome\", \"base_pair_location\",\"other_allele\", \"remove\", \"effect_allele\", \"beta\", \"standard_error\",\"p_value\"],skiprows=1,compression=\"gzip\",sep=\"\\t\")"
   ]
  },
  {
   "cell_type": "code",
   "execution_count": 69,
   "id": "96ac0c16-b3e8-45d8-9896-cf2936893a1b",
   "metadata": {
    "kernel": "Python3"
   },
   "outputs": [],
   "source": [
    "f3393_m2[\"variant_id\"] = 'NA'"
   ]
  },
  {
   "cell_type": "code",
   "execution_count": 70,
   "id": "f10587d0-e969-4395-b82e-e7dbc97c6e46",
   "metadata": {
    "kernel": "Python3"
   },
   "outputs": [],
   "source": [
    "f3393_m2[[\"variant_id\", \"chromosome\",\"base_pair_location\",\"effect_allele\",\"other_allele\", \"beta\",\"standard_error\", \"p_value\"]].to_csv(\"~/GWAS_catalog_rare_vars/090321_UKBB_Hearing_aid_f3393_expandedwhite_78848ind_150K_f3393.regenie_burden.Mask2.0.01.remove_sin.snp_stats.gz\", sep=\"\\t\", index=False)"
   ]
  },
  {
   "cell_type": "markdown",
   "id": "0d8e3d72-0a38-4887-b072-4834c387e58b",
   "metadata": {
    "kernel": "Python3"
   },
   "source": [
    "### f2247"
   ]
  },
  {
   "cell_type": "code",
   "execution_count": 71,
   "id": "b40b7726-3e09-4140-be45-ee8b10a27d0c",
   "metadata": {
    "kernel": "Python3"
   },
   "outputs": [],
   "source": [
    "file=\"~/UKBiobank/results/REGENIE_results/results_burden_exome/150k/090321_f2247_hearing_difficulty/090321_UKBB_Hearing_difficulty_f2247_expandedwhite_107507ind_150K_f2247.regenie_burden.Mask1.0.01.remove_sin.snp_stats.gz\"\n",
    "file2=\"~/UKBiobank/results/REGENIE_results/results_burden_exome/150k/090321_f2247_hearing_difficulty/090321_UKBB_Hearing_difficulty_f2247_expandedwhite_107507ind_150K_f2247.regenie_burden.Mask2.0.01.remove_sin.snp_stats.gz\""
   ]
  },
  {
   "cell_type": "code",
   "execution_count": 72,
   "id": "0131786f-5c63-4a5e-84f8-9a48e9f6e26d",
   "metadata": {
    "kernel": "Python3"
   },
   "outputs": [],
   "source": [
    "f2247_m1= pd.read_csv(file, names=[\"chromosome\", \"base_pair_location\",\"other_allele\", \"remove\", \"effect_allele\", \"beta\", \"standard_error\",\"p_value\"],skiprows=1,compression=\"gzip\",sep=\"\\t\")"
   ]
  },
  {
   "cell_type": "code",
   "execution_count": 73,
   "id": "940ec759-d807-46f9-a6b2-1a10d25fd04c",
   "metadata": {
    "kernel": "Python3"
   },
   "outputs": [],
   "source": [
    "f2247_m1[\"variant_id\"] = 'NA'"
   ]
  },
  {
   "cell_type": "code",
   "execution_count": 74,
   "id": "5e7cbb84-8bb3-4bc0-b77e-5844d45ca4e1",
   "metadata": {
    "kernel": "Python3"
   },
   "outputs": [],
   "source": [
    "f2247_m1[[\"variant_id\", \"chromosome\",\"base_pair_location\",\"effect_allele\",\"other_allele\", \"beta\",\"standard_error\", \"p_value\"]].to_csv(\"~/GWAS_catalog_rare_vars/090321_UKBB_Hearing_difficulty_f2247_expandedwhite_107507ind_150K_f2247.regenie_burden.Mask1.0.01.remove_sin.snp_stats.gz\", sep=\"\\t\", index=False)"
   ]
  },
  {
   "cell_type": "code",
   "execution_count": 75,
   "id": "a47bc182-14bb-4686-9945-809d5eeaa158",
   "metadata": {
    "kernel": "Python3"
   },
   "outputs": [],
   "source": [
    "f2247_m2= pd.read_csv(file2, names=[\"chromosome\", \"base_pair_location\",\"other_allele\", \"remove\", \"effect_allele\", \"beta\", \"standard_error\",\"p_value\"],skiprows=1,compression=\"gzip\",sep=\"\\t\")"
   ]
  },
  {
   "cell_type": "code",
   "execution_count": 76,
   "id": "b405f13d-fc5a-4dc7-825b-50b0b299aaca",
   "metadata": {
    "kernel": "Python3"
   },
   "outputs": [],
   "source": [
    "f2247_m2[\"variant_id\"] = 'NA'"
   ]
  },
  {
   "cell_type": "code",
   "execution_count": 77,
   "id": "e79f9b8e-e6a7-4d9c-9eba-2e4e538a9afe",
   "metadata": {
    "kernel": "Python3"
   },
   "outputs": [],
   "source": [
    "f2247_m2[[\"variant_id\", \"chromosome\",\"base_pair_location\",\"effect_allele\",\"other_allele\", \"beta\",\"standard_error\", \"p_value\"]].to_csv(\"~/GWAS_catalog_rare_vars/090321_UKBB_Hearing_difficulty_f2247_expandedwhite_107507ind_150K_f2247.regenie_burden.Mask2.0.01.remove_sin.snp_stats.gz\", sep=\"\\t\", index=False)"
   ]
  },
  {
   "cell_type": "markdown",
   "id": "73fa91bd-8bb4-4a9d-b52e-7587c7c8a61c",
   "metadata": {
    "kernel": "Python3"
   },
   "source": [
    "### f2257"
   ]
  },
  {
   "cell_type": "code",
   "execution_count": null,
   "id": "49a56ddc-b1b3-494c-bfcf-a3b1c762cc57",
   "metadata": {
    "kernel": "Python3"
   },
   "outputs": [],
   "source": [
    "file='~/UKBiobank/results/REGENIE_results/results_burden_exome/150k/090321_f2257_hearing_noise/090321_UKBB_Hearing_noise_f2257_expandedwhite_123538ind_150K_f2257.regenie_burden.Mask1.0.01.remove_sin.snp_stats.gz'\n",
    "file2='~/UKBiobank/results/REGENIE_results/results_burden_exome/150k/090321_f2257_hearing_noise/090321_UKBB_Hearing_noise_f2257_expandedwhite_123538ind_150K_f2257.regenie_burden.Mask2.0.01.remove_sin.snp_stats.gz'"
   ]
  },
  {
   "cell_type": "code",
   "execution_count": 78,
   "id": "1653f1f3-877a-42bb-bbfa-46db96992462",
   "metadata": {
    "kernel": "Python3"
   },
   "outputs": [],
   "source": [
    "f2257_m1= pd.read_csv(file, names=[\"chromosome\", \"base_pair_location\",\"other_allele\", \"remove\", \"effect_allele\", \"beta\", \"standard_error\",\"p_value\"],skiprows=1,compression=\"gzip\",sep=\"\\t\")"
   ]
  },
  {
   "cell_type": "code",
   "execution_count": 79,
   "id": "ebb58c32-0148-4c59-b93f-7018e03741de",
   "metadata": {
    "kernel": "Python3"
   },
   "outputs": [],
   "source": [
    "f2257_m1[\"variant_id\"] = 'NA'"
   ]
  },
  {
   "cell_type": "code",
   "execution_count": 80,
   "id": "7aeed916-47f6-43e2-b234-4e477db37509",
   "metadata": {
    "kernel": "Python3"
   },
   "outputs": [],
   "source": [
    "f2257_m1[[\"variant_id\", \"chromosome\",\"base_pair_location\",\"effect_allele\",\"other_allele\", \"beta\",\"standard_error\", \"p_value\"]].to_csv(\"~/GWAS_catalog_rare_vars/090321_UKBB_Hearing_noise_f2257_expandedwhite_123538ind_150K_f2257.regenie_burden.Mask1.0.01.remove_sin.snp_stats.gz\", sep=\"\\t\", index=False)"
   ]
  },
  {
   "cell_type": "code",
   "execution_count": 81,
   "id": "eea0a3b1-0622-406d-91b1-3ec55e660c5a",
   "metadata": {
    "kernel": "Python3"
   },
   "outputs": [],
   "source": [
    "f2257_m2= pd.read_csv(file2, names=[\"chromosome\", \"base_pair_location\",\"other_allele\", \"remove\", \"effect_allele\", \"beta\", \"standard_error\",\"p_value\"],skiprows=1,compression=\"gzip\",sep=\"\\t\")"
   ]
  },
  {
   "cell_type": "code",
   "execution_count": 83,
   "id": "51785043-a79f-4c3c-ab69-035d5ae6a634",
   "metadata": {
    "kernel": "Python3"
   },
   "outputs": [],
   "source": [
    "f2257_m2[\"variant_id\"] = 'NA'"
   ]
  },
  {
   "cell_type": "code",
   "execution_count": 84,
   "id": "8375053d-dffb-45d6-973a-812b80773a28",
   "metadata": {
    "kernel": "Python3"
   },
   "outputs": [],
   "source": [
    "f2257_m2[[\"variant_id\", \"chromosome\",\"base_pair_location\",\"effect_allele\",\"other_allele\", \"beta\",\"standard_error\", \"p_value\"]].to_csv(\"~/GWAS_catalog_rare_vars/090321_UKBB_Hearing_noise_f2257_expandedwhite_123538ind_150K_f2257.regenie_burden.Mask2.0.01.remove_sin.snp_stats.gz\", sep=\"\\t\", index=False)"
   ]
  },
  {
   "cell_type": "markdown",
   "id": "72e4aa79-3dc6-456b-9783-f7108fa3df21",
   "metadata": {
    "kernel": "Python3"
   },
   "source": [
    "## comb"
   ]
  },
  {
   "cell_type": "code",
   "execution_count": 85,
   "id": "993ef7b9-be04-4f4a-a03d-5a9f75080f71",
   "metadata": {
    "kernel": "Python3"
   },
   "outputs": [],
   "source": [
    "file='~/UKBiobank/results/REGENIE_results/results_burden_exome/150k/090321_Combined_f2247_f2257/090321_UKBB_Combined_f2247_f2257_expandedwhite_102133ind_150K_f2247_f2257.regenie_burden.Mask1.0.01.remove_sin.snp_stats.gz'\n",
    "file2='~/UKBiobank/results/REGENIE_results/results_burden_exome/150k/090321_Combined_f2247_f2257/090321_UKBB_Combined_f2247_f2257_expandedwhite_102133ind_150K_f2247_f2257.regenie_burden.Mask2.0.01.remove_sin.snp_stats.gz'\n"
   ]
  },
  {
   "cell_type": "code",
   "execution_count": 78,
   "id": "4ff648b9-3029-4c40-89c5-11b8c268ab30",
   "metadata": {
    "kernel": "Python3"
   },
   "outputs": [],
   "source": [
    "comb_m1= pd.read_csv(file, names=[\"chromosome\", \"base_pair_location\",\"other_allele\", \"remove\", \"effect_allele\", \"beta\", \"standard_error\",\"p_value\"],skiprows=1,compression=\"gzip\",sep=\"\\t\")"
   ]
  },
  {
   "cell_type": "code",
   "execution_count": 79,
   "id": "cb753784-8ccc-4be7-901d-eefd16d87196",
   "metadata": {
    "kernel": "Python3"
   },
   "outputs": [],
   "source": [
    "comb_m1[\"variant_id\"] = 'NA'"
   ]
  },
  {
   "cell_type": "code",
   "execution_count": 86,
   "id": "f41d6630-b5b8-41b3-8563-f0f520a26a73",
   "metadata": {
    "kernel": "Python3"
   },
   "outputs": [],
   "source": [
    "comb_m1[[\"variant_id\", \"chromosome\",\"base_pair_location\",\"effect_allele\",\"other_allele\", \"beta\",\"standard_error\", \"p_value\"]].to_csv(\"~/GWAS_catalog_rare_vars/090321_UKBB_Combined_f2247_f2257_expandedwhite_102133ind_150K_f2247_f2257.regenie_burden.Mask1.0.01.remove_sin.snp_stats.gz\", sep=\"\\t\", index=False)"
   ]
  },
  {
   "cell_type": "code",
   "execution_count": 89,
   "id": "69f306a2-1696-41e6-83b3-65d627f5932a",
   "metadata": {
    "kernel": "Python3"
   },
   "outputs": [],
   "source": [
    "comb_m2= pd.read_csv(file2, names=[\"chromosome\", \"base_pair_location\",\"other_allele\", \"remove\", \"effect_allele\", \"beta\", \"standard_error\",\"p_value\"],skiprows=1,compression=\"gzip\",sep=\"\\t\")"
   ]
  },
  {
   "cell_type": "code",
   "execution_count": 90,
   "id": "2503dd09-9e1c-48c1-bc38-c3e64320ba44",
   "metadata": {
    "kernel": "Python3"
   },
   "outputs": [],
   "source": [
    "comb_m2[\"variant_id\"] = 'NA'"
   ]
  },
  {
   "cell_type": "code",
   "execution_count": 91,
   "id": "d43e6183-19b3-4720-940a-f730bc9fc13a",
   "metadata": {
    "kernel": "Python3"
   },
   "outputs": [],
   "source": [
    "comb_m2[[\"variant_id\", \"chromosome\",\"base_pair_location\",\"effect_allele\",\"other_allele\", \"beta\",\"standard_error\", \"p_value\"]].to_csv(\"~/GWAS_catalog_rare_vars/090321_UKBB_Combined_f2247_f2257_expandedwhite_102133ind_150K_f2247_f2257.regenie_burden.Mask2.0.01.remove_sin.snp_stats.gz\", sep=\"\\t\", index=False)"
   ]
  },
  {
   "cell_type": "markdown",
   "id": "034962e8-382d-4c9e-ae9c-9f6bed3ea43e",
   "metadata": {
    "kernel": "Python3"
   },
   "source": [
    "# 50K"
   ]
  },
  {
   "cell_type": "markdown",
   "id": "ec55ba0f-cb67-412f-9394-e3a4c1dcfbe5",
   "metadata": {
    "kernel": "Python3"
   },
   "source": [
    "### f3393"
   ]
  },
  {
   "cell_type": "code",
   "execution_count": 92,
   "id": "dec90f8e-61e7-4769-968b-0ae17026fbef",
   "metadata": {
    "kernel": "Python3"
   },
   "outputs": [],
   "source": [
    "file=\"~/UKBiobank/results/REGENIE_results/results_burden_exome/50k/091321_f3393_hearing_aid/090321_UKBB_Hearing_aid_f3393_expandedwhite_24189ind_50K_f3393.regenie_burden.Mask1.0.01.remove_sin.snp_stats.gz\"\n",
    "file2=\"~/UKBiobank/results/REGENIE_results/results_burden_exome/50k/091321_f3393_hearing_aid/090321_UKBB_Hearing_aid_f3393_expandedwhite_24189ind_50K_f3393.regenie_burden.Mask2.0.01.remove_sin.snp_stats.gz\""
   ]
  },
  {
   "cell_type": "code",
   "execution_count": 93,
   "id": "2d106c73-f4dd-475b-bf87-bb2f568cdc7b",
   "metadata": {
    "kernel": "Python3"
   },
   "outputs": [],
   "source": [
    "f3393_m1= pd.read_csv(file, names=[\"chromosome\", \"base_pair_location\",\"other_allele\", \"remove\", \"effect_allele\", \"beta\", \"standard_error\",\"p_value\"],skiprows=1,compression=\"gzip\",sep=\"\\t\")"
   ]
  },
  {
   "cell_type": "code",
   "execution_count": 94,
   "id": "9d918171-59f5-474b-af72-857cb4b41099",
   "metadata": {
    "kernel": "Python3"
   },
   "outputs": [],
   "source": [
    "f3393_m1[\"variant_id\"] = 'NA'"
   ]
  },
  {
   "cell_type": "code",
   "execution_count": 95,
   "id": "26a0fca1-310c-4ec2-b96b-087ee564f2ca",
   "metadata": {
    "kernel": "Python3"
   },
   "outputs": [],
   "source": [
    "f3393_m1[[\"variant_id\", \"chromosome\",\"base_pair_location\",\"effect_allele\",\"other_allele\", \"beta\",\"standard_error\", \"p_value\"]].to_csv(\"~/GWAS_catalog_rare_vars/090321_UKBB_Hearing_aid_f3393_expandedwhite_24189ind_50K_f3393.regenie_burden.Mask1.0.01.remove_sin.snp_stats.gz\", sep=\"\\t\", index=False)"
   ]
  },
  {
   "cell_type": "code",
   "execution_count": 96,
   "id": "824cd1d7-f270-4149-b5c7-58bda860e8b3",
   "metadata": {
    "kernel": "Python3"
   },
   "outputs": [],
   "source": [
    "f3393_m2= pd.read_csv(file2, names=[\"chromosome\", \"base_pair_location\",\"other_allele\", \"remove\", \"effect_allele\", \"beta\", \"standard_error\",\"p_value\"],skiprows=1,compression=\"gzip\",sep=\"\\t\")"
   ]
  },
  {
   "cell_type": "code",
   "execution_count": 97,
   "id": "b00c1e9d-2a3c-4786-b4d6-7dd33fb479ae",
   "metadata": {
    "kernel": "Python3"
   },
   "outputs": [],
   "source": [
    "f3393_m2[\"variant_id\"] = 'NA'"
   ]
  },
  {
   "cell_type": "code",
   "execution_count": 98,
   "id": "15ca7bb8-8abc-4b41-9e7d-3344b75ddbc8",
   "metadata": {
    "kernel": "Python3"
   },
   "outputs": [],
   "source": [
    "f3393_m2[[\"variant_id\", \"chromosome\",\"base_pair_location\",\"effect_allele\",\"other_allele\", \"beta\",\"standard_error\", \"p_value\"]].to_csv(\"~/GWAS_catalog_rare_vars/090321_UKBB_Hearing_aid_f3393_expandedwhite_24189ind_50K_f3393.regenie_burden.Mask2.0.01.remove_sin.snp_stats.gz\", sep=\"\\t\", index=False)"
   ]
  },
  {
   "cell_type": "markdown",
   "id": "fa68a1f6-37cc-419a-98ce-e1958272b175",
   "metadata": {
    "kernel": "Python3"
   },
   "source": [
    "## f2247"
   ]
  },
  {
   "cell_type": "code",
   "execution_count": 99,
   "id": "f466ffd1-fa1d-4701-9b70-3331aacb758c",
   "metadata": {
    "kernel": "Python3"
   },
   "outputs": [],
   "source": [
    "file=\"~/UKBiobank/results/REGENIE_results/results_burden_exome/50k/090321_f2247_hearing_difficulty/090321_UKBB_Hearing_difficulty_f2247_expandedwhite_34596ind_50K_f2247.regenie_burden.Mask1.0.01.remove_sin.snp_stats.gz\"\n",
    "file2=\"~/UKBiobank/results/REGENIE_results/results_burden_exome/50k/090321_f2247_hearing_difficulty/090321_UKBB_Hearing_difficulty_f2247_expandedwhite_34596ind_50K_f2247.regenie_burden.Mask2.0.01.remove_sin.snp_stats.gz\""
   ]
  },
  {
   "cell_type": "code",
   "execution_count": 100,
   "id": "639f8880-e3fa-4081-b90d-180f944f2c92",
   "metadata": {
    "kernel": "Python3"
   },
   "outputs": [],
   "source": [
    "f2247_m1= pd.read_csv(file, names=[\"chromosome\", \"base_pair_location\",\"other_allele\", \"remove\", \"effect_allele\", \"beta\", \"standard_error\",\"p_value\"],skiprows=1,compression=\"gzip\",sep=\"\\t\")"
   ]
  },
  {
   "cell_type": "code",
   "execution_count": 101,
   "id": "7d5c08a6-84f8-4181-a7eb-8656d5014f11",
   "metadata": {
    "kernel": "Python3"
   },
   "outputs": [],
   "source": [
    "f2247_m1[\"variant_id\"] = 'NA'"
   ]
  },
  {
   "cell_type": "code",
   "execution_count": 102,
   "id": "1039af11-e6e4-41e5-800a-c659ec65fa95",
   "metadata": {
    "kernel": "Python3"
   },
   "outputs": [],
   "source": [
    "f2247_m1[[\"variant_id\", \"chromosome\",\"base_pair_location\",\"effect_allele\",\"other_allele\", \"beta\",\"standard_error\", \"p_value\"]].to_csv(\"~/GWAS_catalog_rare_vars/090321_UKBB_Hearing_difficulty_f2247_expandedwhite_34596ind_50K_f2247.regenie_burden.Mask1.0.01.remove_sin.snp_stats.gz\", sep=\"\\t\", index=False)"
   ]
  },
  {
   "cell_type": "code",
   "execution_count": 103,
   "id": "8837ea06-fc08-4d25-8b07-d0beb41251cd",
   "metadata": {
    "kernel": "Python3"
   },
   "outputs": [],
   "source": [
    "f2247_m2= pd.read_csv(file2, names=[\"chromosome\", \"base_pair_location\",\"other_allele\", \"remove\", \"effect_allele\", \"beta\", \"standard_error\",\"p_value\"],skiprows=1,compression=\"gzip\",sep=\"\\t\")"
   ]
  },
  {
   "cell_type": "code",
   "execution_count": 104,
   "id": "7c226e43-e9c2-4b6a-89b4-5c4734654c62",
   "metadata": {
    "kernel": "Python3"
   },
   "outputs": [],
   "source": [
    "f2247_m2[\"variant_id\"] = 'NA'"
   ]
  },
  {
   "cell_type": "code",
   "execution_count": 105,
   "id": "e4814365-d865-4d9b-9300-2998de1a4d5f",
   "metadata": {
    "kernel": "Python3"
   },
   "outputs": [],
   "source": [
    "f2247_m2[[\"variant_id\", \"chromosome\",\"base_pair_location\",\"effect_allele\",\"other_allele\", \"beta\",\"standard_error\", \"p_value\"]].to_csv(\"~/GWAS_catalog_rare_vars/090321_UKBB_Hearing_difficulty_f2247_expandedwhite_34596ind_50K_f2247.regenie_burden.Mask2.0.01.remove_sin.snp_stats.gz\", sep=\"\\t\", index=False)"
   ]
  },
  {
   "cell_type": "markdown",
   "id": "24381d4f-75cb-441a-a61e-f00d81d36e71",
   "metadata": {
    "kernel": "Python3"
   },
   "source": [
    "### f2257"
   ]
  },
  {
   "cell_type": "code",
   "execution_count": 106,
   "id": "98151f83-02aa-42cf-a1a6-8ce08fe173d5",
   "metadata": {
    "kernel": "Python3"
   },
   "outputs": [],
   "source": [
    "file=\"~/UKBiobank/results/REGENIE_results/results_burden_exome/50k/090321_f2257_hearing_noise/090321_UKBB_Hearing_noise_f2257_expandedwhite_38723ind_50K_f2257.regenie_burden.Mask1.0.01.remove_sin.snp_stats.gz\"\n",
    "file2=\"~/UKBiobank/results/REGENIE_results/results_burden_exome/50k/090321_f2257_hearing_noise/090321_UKBB_Hearing_noise_f2257_expandedwhite_38723ind_50K_f2257.regenie_burden.Mask2.0.01.remove_sin.snp_stats.gz\"\n"
   ]
  },
  {
   "cell_type": "code",
   "execution_count": 107,
   "id": "4e8aa72b-6e91-443d-b959-85119fbbc1e0",
   "metadata": {
    "kernel": "Python3"
   },
   "outputs": [],
   "source": [
    "f2257_m1= pd.read_csv(file, names=[\"chromosome\", \"base_pair_location\",\"other_allele\", \"remove\", \"effect_allele\", \"beta\", \"standard_error\",\"p_value\"],skiprows=1,compression=\"gzip\",sep=\"\\t\")"
   ]
  },
  {
   "cell_type": "code",
   "execution_count": 108,
   "id": "247d906f-d783-4268-937b-6389deaf3ae2",
   "metadata": {
    "kernel": "Python3"
   },
   "outputs": [],
   "source": [
    "f2257_m1[\"variant_id\"] = 'NA'"
   ]
  },
  {
   "cell_type": "code",
   "execution_count": 109,
   "id": "475bdd55-ec7a-4f02-997e-454ee9426426",
   "metadata": {
    "kernel": "Python3"
   },
   "outputs": [],
   "source": [
    "f2257_m1[[\"variant_id\", \"chromosome\",\"base_pair_location\",\"effect_allele\",\"other_allele\", \"beta\",\"standard_error\", \"p_value\"]].to_csv(\"~/GWAS_catalog_rare_vars/090321_UKBB_Hearing_noise_f2257_expandedwhite_38723ind_50K_f2257.regenie_burden.Mask1.0.01.remove_sin.snp_stats.gz\", sep=\"\\t\", index=False)"
   ]
  },
  {
   "cell_type": "code",
   "execution_count": 112,
   "id": "b356d31b-e40c-4cf9-89c3-1c846e3dbaac",
   "metadata": {
    "kernel": "Python3"
   },
   "outputs": [],
   "source": [
    "f2257_m2= pd.read_csv(file2, names=[\"chromosome\", \"base_pair_location\",\"other_allele\", \"remove\", \"effect_allele\", \"beta\", \"standard_error\",\"p_value\"],skiprows=1,compression=\"gzip\",sep=\"\\t\")"
   ]
  },
  {
   "cell_type": "code",
   "execution_count": 113,
   "id": "bd7bc417-9e57-4361-8f29-d68461d1e53d",
   "metadata": {
    "kernel": "Python3"
   },
   "outputs": [],
   "source": [
    "f2257_m2[\"variant_id\"] = 'NA'"
   ]
  },
  {
   "cell_type": "code",
   "execution_count": 114,
   "id": "bb7a597f-1e6b-4a84-8ea7-171eb4ca3bbc",
   "metadata": {
    "kernel": "Python3"
   },
   "outputs": [],
   "source": [
    "f2257_m2[[\"variant_id\", \"chromosome\",\"base_pair_location\",\"effect_allele\",\"other_allele\", \"beta\",\"standard_error\", \"p_value\"]].to_csv(\"~/GWAS_catalog_rare_vars/090321_UKBB_Hearing_noise_f2257_expandedwhite_38723ind_50K_f2257.regenie_burden.Mask2.0.01.remove_sin.snp_stats.gz\", sep=\"\\t\", index=False)"
   ]
  },
  {
   "cell_type": "markdown",
   "id": "9ef7ad0e-a341-408b-8c38-399969c89b2f",
   "metadata": {
    "kernel": "Python3"
   },
   "source": [
    "## comb"
   ]
  },
  {
   "cell_type": "code",
   "execution_count": 116,
   "id": "ddea85fa-ec56-4689-8cdf-6cec5b039b22",
   "metadata": {
    "kernel": "Python3"
   },
   "outputs": [],
   "source": [
    "file=\"~/UKBiobank/results/REGENIE_results/results_burden_exome/50k/090321_Combined_f2247_f2257/090321_UKBB_Combined_f2247_f2257_expandedwhite_32878ind_50K_f2247_f2257.regenie_burden.Mask1.0.01.remove_sin.snp_stats.gz\"\n",
    "file2=\"~/UKBiobank/results/REGENIE_results/results_burden_exome/50k/090321_Combined_f2247_f2257/090321_UKBB_Combined_f2247_f2257_expandedwhite_32878ind_50K_f2247_f2257.regenie_burden.Mask2.0.01.remove_sin.snp_stats.gz\""
   ]
  },
  {
   "cell_type": "code",
   "execution_count": 117,
   "id": "b1832e50-e855-439a-b5ca-29578a2cca8d",
   "metadata": {
    "kernel": "Python3"
   },
   "outputs": [],
   "source": [
    "comb_m1= pd.read_csv(file, names=[\"chromosome\", \"base_pair_location\",\"other_allele\", \"remove\", \"effect_allele\", \"beta\", \"standard_error\",\"p_value\"],skiprows=1,compression=\"gzip\",sep=\"\\t\")"
   ]
  },
  {
   "cell_type": "code",
   "execution_count": 118,
   "id": "c1666931-79f8-417d-9db4-532031951be1",
   "metadata": {
    "kernel": "Python3"
   },
   "outputs": [],
   "source": [
    "comb_m1[\"variant_id\"] = 'NA'"
   ]
  },
  {
   "cell_type": "code",
   "execution_count": 119,
   "id": "1c0a6164-e1ba-4dcb-a17e-b7faa637916b",
   "metadata": {
    "kernel": "Python3"
   },
   "outputs": [],
   "source": [
    "comb_m1[[\"variant_id\", \"chromosome\",\"base_pair_location\",\"effect_allele\",\"other_allele\", \"beta\",\"standard_error\", \"p_value\"]].to_csv(\"~/GWAS_catalog_rare_vars/090321_UKBB_Combined_f2247_f2257_expandedwhite_32878ind_50K_f2247_f2257.regenie_burden.Mask1.0.01.remove_sin.snp_stats.gz\", sep=\"\\t\", index=False)"
   ]
  },
  {
   "cell_type": "code",
   "execution_count": 120,
   "id": "4bca04f3-74fb-4ac6-a0a4-bdf6418725e7",
   "metadata": {
    "kernel": "Python3"
   },
   "outputs": [],
   "source": [
    "comb_m2= pd.read_csv(file2, names=[\"chromosome\", \"base_pair_location\",\"other_allele\", \"remove\", \"effect_allele\", \"beta\", \"standard_error\",\"p_value\"],skiprows=1,compression=\"gzip\",sep=\"\\t\")"
   ]
  },
  {
   "cell_type": "code",
   "execution_count": 121,
   "id": "6f24ea5c-beaf-4dcc-a057-b1b6b5836777",
   "metadata": {
    "kernel": "Python3"
   },
   "outputs": [],
   "source": [
    "comb_m2[\"variant_id\"] = 'NA'"
   ]
  },
  {
   "cell_type": "code",
   "execution_count": 122,
   "id": "cfe4cfa1-44e1-431d-acb0-ef7555aea365",
   "metadata": {
    "kernel": "Python3"
   },
   "outputs": [],
   "source": [
    "comb_m2[[\"variant_id\", \"chromosome\",\"base_pair_location\",\"effect_allele\",\"other_allele\", \"beta\",\"standard_error\", \"p_value\"]].to_csv(\"~/GWAS_catalog_rare_vars/090321_UKBB_Combined_f2247_f2257_expandedwhite_32878ind_50K_f2247_f2257.regenie_burden.Mask2.0.01.remove_sin.snp_stats.gz\", sep=\"\\t\", index=False)"
   ]
  },
  {
   "cell_type": "code",
   "execution_count": null,
   "id": "b0051cc7-d49f-48a6-a59b-f64f63fe4c2e",
   "metadata": {
    "kernel": "Python3"
   },
   "outputs": [],
   "source": []
  }
 ],
 "metadata": {
  "kernelspec": {
   "display_name": "SoS",
   "language": "sos",
   "name": "sos"
  },
  "language_info": {
   "codemirror_mode": "sos",
   "file_extension": ".sos",
   "mimetype": "text/x-sos",
   "name": "sos",
   "nbconvert_exporter": "sos_notebook.converter.SoS_Exporter",
   "pygments_lexer": "sos"
  },
  "sos": {
   "kernels": [
    [
     "Python3",
     "python3",
     "Python3",
     "#FFD91A",
     {
      "name": "ipython",
      "version": 3
     }
    ]
   ],
   "version": "0.22.6"
  }
 },
 "nbformat": 4,
 "nbformat_minor": 5
}
